{
 "cells": [
  {
   "cell_type": "markdown",
   "id": "5da81587-8ae8-4b28-8e79-0facc4b1ff5a",
   "metadata": {},
   "source": [
    "# 필수 패키지 설정 및 OpenSearch 클러스터 생성 (약 40분 소요)\n",
    "> 이 노트북은  SageMaker Studio* **`Data Science 3.0`** kernel 및 ml.t3.medium 인스턴스에서 테스트 되었습니다.\n",
    "---\n",
    "### 중요\n",
    "- 이 노트북은 Anthropic 의 Claude-v2 모델 접근 가능한 분만 실행 가능합니다. \n",
    "- 접근이 안되시는 분은 노트북의 코드와 결과 만을 확인 하시면 좋겠습니다.\n",
    "- 만일 실행시에는 **\"과금\"** 이 발생이 되는 부분 유념 해주시기 바랍니다.\n",
    "\n",
    "### 선수조건\n",
    "- 임베딩 모델의 세이지 메이커 엔드포인트가 액티브 된 상태를 가정 합니다.\n",
    "\n",
    "---"
   ]
  },
  {
   "cell_type": "code",
   "execution_count": null,
   "id": "80cdaf94-8113-4d45-803a-9374f777ddff",
   "metadata": {},
   "outputs": [],
   "source": [
    "!pip install -r requirements.txt"
   ]
  },
  {
   "cell_type": "code",
   "execution_count": null,
   "id": "15e5a6af-4031-45df-a125-ad8dacddac89",
   "metadata": {},
   "outputs": [],
   "source": [
    "%load_ext autoreload\n",
    "%autoreload 2\n",
    "\n",
    "import sys, os\n",
    "module_path = \"..\"\n",
    "sys.path.append(os.path.abspath(module_path))\n",
    "from utils import print_ww\n"
   ]
  },
  {
   "cell_type": "markdown",
   "id": "01357cda-1674-421b-b063-24c7a75d3d64",
   "metadata": {},
   "source": [
    "<br>\n",
    "\n",
    "# 1. OpenSearch Client 생성\n",
    "### 선수 조건\n",
    "- 아래의 링크를 참조해서 OpenSearch Service 를 생성하고, opensearch_domain_endpoint, http_auth 를 복사해서, 아래 셀의 내용을 대체 하세요.\n",
    "    - [OpenSearch 생성 가이드](https://github.com/gonsoomoon-ml/Kor-LLM-On-SageMaker/blob/main/2-Lab02-QA-with-RAG/4.rag-fsi-data-workshop/TASK-4_OpenSearch_Creation_and_Vector_Insertion.ipynb)\n",
    "- 랭체인 오프서처 참고 자료\n",
    "    - [Langchain Opensearch](https://python.langchain.com/docs/integrations/vectorstores/opensearch)\n",
    "    \n",
    "#### [중요] AWS Parameter Store를 사용하는 경우 parameter store에 아래 인증정보가 먼저 입력되어 있어야 합니다.\n",
    "- 20_applications/02_qa_chatbot/01_preprocess_docs/01_parameter_store_example.ipynb 참고\n",
    "\n",
    "#### [주의] OpenSearch 도메인 생성에는 약 15-16분의 시간이 소요됩니다."
   ]
  },
  {
   "cell_type": "code",
   "execution_count": null,
   "id": "fb22b536-830e-4087-9b06-856a065a11ea",
   "metadata": {},
   "outputs": [],
   "source": [
    "import boto3\n",
    "import uuid\n",
    "import botocore\n",
    "import time\n",
    "DEV = False # True일 경우 1-AZ without standby로 생성, False일 경우 3-AZ with standby. 워크샵 목적일 때는 지나친 과금/리소스 방지를 위해 True로 설정하는 것을 권장\n",
    "VERSION = \"2.9\" # OpenSearch Version (예: 2.7 / 2.9 / 2.11)\n",
    "\n",
    "opensearch_user_id = 'raguser'\n",
    "opensearch_user_password = 'MarsEarth1!'\n",
    "\n",
    "region = boto3.Session().region_name\n",
    "account_id = boto3.client(\"sts\").get_caller_identity()[\"Account\"]\n",
    "opensearch = boto3.client('opensearch', region)\n",
    "rand_str = uuid.uuid4().hex[:8]\n",
    "domain_name = f'rag-hol-{rand_str}'\n",
    "\n",
    "cluster_config_prod = {\n",
    "    'InstanceCount': 3,\n",
    "    'InstanceType': 'r6g.large.search',\n",
    "    'ZoneAwarenessEnabled': True,\n",
    "    'DedicatedMasterEnabled': True,\n",
    "    'MultiAZWithStandbyEnabled': True,\n",
    "    'DedicatedMasterType': 'r6g.large.search',\n",
    "    'DedicatedMasterCount': 3\n",
    "}\n",
    "\n",
    "cluster_config_dev = {\n",
    "    'InstanceCount': 1,\n",
    "    'InstanceType': 'r6g.large.search',\n",
    "    'ZoneAwarenessEnabled': False,\n",
    "    'DedicatedMasterEnabled': False,\n",
    "}\n",
    "\n",
    "\n",
    "ebs_options = {\n",
    "    'EBSEnabled': True,\n",
    "    'VolumeType': 'gp3',\n",
    "    'VolumeSize': 100,\n",
    "}\n",
    "\n",
    "advanced_security_options = {\n",
    "    'Enabled': True,\n",
    "    'InternalUserDatabaseEnabled': True,\n",
    "    'MasterUserOptions': {\n",
    "        'MasterUserName': opensearch_user_id,\n",
    "        'MasterUserPassword': opensearch_user_password\n",
    "    }\n",
    "}\n",
    "\n",
    "ap = f'{{\\\"Version\\\":\\\"2012-10-17\\\",\\\"Statement\\\":[{{\\\"Effect\\\":\\\"Allow\\\",\\\"Principal\\\":{{\\\"AWS\\\":\\\"*\\\"}},\\\"Action\\\":\\\"es:*\\\",\\\"Resource\\\":\\\"arn:aws:es:{region}:{account_id}:domain\\/{domain_name}\\/*\\\"}}]}}'\n",
    "\n",
    "if DEV:\n",
    "    cluster_config = cluster_config_dev\n",
    "else:\n",
    "    cluster_config = cluster_config_prod\n",
    "    \n",
    "response = opensearch.create_domain(\n",
    "    DomainName=domain_name,\n",
    "    EngineVersion=f'OpenSearch_{VERSION}',\n",
    "    ClusterConfig=cluster_config,\n",
    "    AccessPolicies=ap,\n",
    "    EBSOptions=ebs_options,\n",
    "    AdvancedSecurityOptions=advanced_security_options,\n",
    "    NodeToNodeEncryptionOptions={'Enabled': True},\n",
    "    EncryptionAtRestOptions={'Enabled': True},\n",
    "    DomainEndpointOptions={'EnforceHTTPS': True}\n",
    ")"
   ]
  },
  {
   "cell_type": "code",
   "execution_count": null,
   "id": "43c417ec-f2e1-4c2b-8ae4-180d23477e77",
   "metadata": {},
   "outputs": [],
   "source": [
    "%%time\n",
    "def wait_for_domain_creation(domain_name):\n",
    "    try:\n",
    "        response = opensearch.describe_domain(\n",
    "            DomainName=domain_name\n",
    "        )\n",
    "        # Every 60 seconds, check whether the domain is processing.\n",
    "        while 'Endpoint' not in response['DomainStatus']:\n",
    "            print('Creating domain...')\n",
    "            time.sleep(60)\n",
    "            response = opensearch.describe_domain(\n",
    "                DomainName=domain_name)\n",
    "\n",
    "        # Once we exit the loop, the domain is ready for ingestion.\n",
    "        endpoint = response['DomainStatus']['Endpoint']\n",
    "        print('Domain endpoint ready to receive data: ' + endpoint)\n",
    "    except botocore.exceptions.ClientError as error:\n",
    "        if error.response['Error']['Code'] == 'ResourceNotFoundException':\n",
    "            print('Domain not found.')\n",
    "        else:\n",
    "            raise error\n",
    "\n",
    "wait_for_domain_creation(domain_name)"
   ]
  },
  {
   "cell_type": "code",
   "execution_count": null,
   "id": "2eee9b9c-0e8d-4a64-8208-ed2a254efbca",
   "metadata": {},
   "outputs": [],
   "source": [
    "response = opensearch.describe_domain(DomainName=domain_name)\n",
    "opensearch_domain_endpoint = f\"https://{response['DomainStatus']['Endpoint']}\""
   ]
  },
  {
   "cell_type": "markdown",
   "id": "78b92cbd-bbcd-4ecd-82cb-b009417ae448",
   "metadata": {},
   "source": [
    "<br>\n",
    "\n",
    "# 2. 한국어 분석을 위한 노리(Nori) 플러그인 설치\n",
    "Amazon OpenSearch Service에서 유명한 오픈 소스 한국어 텍스트 분석기인 노리(Nori) 플러그인을 지원합니다. 기존에 지원하던 은전한닢(Seunjeon) 플러그인과 더불어 노리를 활용하면 개발자가 한국 문서에 대해 전문 검색을 쉽게 구현할 수 있습니다.\n",
    "\n",
    "이와 함께, 중국어 분석을 위한 Pinyin 플러그인과 STConvert 플러그인, 그리고 일본어 분석을 위한 Sudachi 플러그인도 추가됐습니다.\n",
    "노리 플러그인은 OpenSearch 1.0 이상 버전을 실행하는 신규 도메인과 기존 도메인에서 사용 가능합니다.\n",
    "\n",
    "#### Option 1. AWS 콘솔 수동 설치\n",
    "img 폴더의 nori_1.png, nori_2.png, nori_3.png 를 참조하여 직접 설치합니다.\n",
    "\n",
    "#### Option 2. boto3 API로 설치\n",
    "아래 코드 셀을 실행합니다.\n",
    "\n",
    "#### [주의] 노리 플러그인 연동에는 약 25-27분의 시간이 소요됩니다."
   ]
  },
  {
   "cell_type": "code",
   "execution_count": null,
   "id": "3ae9ec61-90e9-4bee-b51f-b4f732ffd301",
   "metadata": {},
   "outputs": [],
   "source": [
    "nori_pkg_id = {}\n",
    "nori_pkg_id['us-east-1'] = {\n",
    "    '2.3': 'G196105221',\n",
    "    '2.5': 'G240285063',\n",
    "    '2.7': 'G16029449', \n",
    "    '2.9': 'G60209291',\n",
    "    '2.11': 'G181660338'\n",
    "}\n",
    "\n",
    "nori_pkg_id['us-west-2'] = {\n",
    "    '2.3': 'G94047474',\n",
    "    '2.5': 'G138227316',\n",
    "    '2.7': 'G182407158', \n",
    "    '2.9': 'G226587000',\n",
    "    '2.11': 'G79602591'\n",
    "}\n",
    "\n",
    "pkg_response = opensearch.associate_package(\n",
    "    PackageID=nori_pkg_id[region][VERSION], # nori plugin\n",
    "    DomainName=domain_name\n",
    ")"
   ]
  },
  {
   "cell_type": "code",
   "execution_count": null,
   "id": "9d00ceea-01fe-40c1-9a0d-debcc152e4e2",
   "metadata": {},
   "outputs": [],
   "source": [
    "%%time\n",
    "def wait_for_associate_package(domain_name, max_results=1):\n",
    "\n",
    "    response = opensearch.list_packages_for_domain(\n",
    "        DomainName=domain_name,\n",
    "        MaxResults=1\n",
    "    )\n",
    "    # Every 60 seconds, check whether the domain is processing.\n",
    "    while response['DomainPackageDetailsList'][0]['DomainPackageStatus'] == \"ASSOCIATING\":\n",
    "        print('Associating packages...')\n",
    "        time.sleep(60)\n",
    "        response = opensearch.list_packages_for_domain(\n",
    "            DomainName=domain_name,\n",
    "            MaxResults=1\n",
    "        )\n",
    "\n",
    "    #endpoint = response['DomainStatus']['Endpoint']\n",
    "    print('Associated!')\n",
    "\n",
    "wait_for_associate_package(domain_name)"
   ]
  },
  {
   "cell_type": "markdown",
   "id": "0345faca-184f-4b44-bea2-c6e6df978d82",
   "metadata": {},
   "source": [
    "![nn](./img/nori_4.png)"
   ]
  },
  {
   "cell_type": "code",
   "execution_count": null,
   "id": "54431431-6107-4b07-831c-a031a8c5493d",
   "metadata": {},
   "outputs": [],
   "source": [
    "! pip list | grep langchain\n",
    "! pip list | grep opensearch"
   ]
  },
  {
   "cell_type": "code",
   "execution_count": null,
   "id": "5e30ee8b-013f-4b5d-8271-c60f96cbcb51",
   "metadata": {},
   "outputs": [],
   "source": [
    "%store opensearch_user_id opensearch_user_password domain_name opensearch_domain_endpoint"
   ]
  }
 ],
 "metadata": {
  "kernelspec": {
   "display_name": "Python 3.10.9 ('base')",
   "language": "python",
   "name": "python3"
  },
  "language_info": {
   "codemirror_mode": {
    "name": "ipython",
    "version": 3
   },
   "file_extension": ".py",
   "mimetype": "text/x-python",
   "name": "python",
   "nbconvert_exporter": "python",
   "pygments_lexer": "ipython3",
   "version": "3.10.9"
  },
  "vscode": {
   "interpreter": {
    "hash": "4b8e647a79df62bf31906a725b05de775d285962ac600487339d38c51a5c07b1"
   }
  }
 },
 "nbformat": 4,
 "nbformat_minor": 5
}
