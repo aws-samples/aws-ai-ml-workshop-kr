{
 "cells": [
  {
   "cell_type": "markdown",
   "id": "ff04f9fe",
   "metadata": {},
   "source": [
    "# Strands Agent SDK"
   ]
  },
  {
   "cell_type": "code",
   "execution_count": null,
   "id": "19932c7e",
   "metadata": {},
   "outputs": [],
   "source": [
    "import os\n",
    "os.environ['AWS_DEFAULT_REGION'] = 'us-west-2'"
   ]
  },
  {
   "cell_type": "code",
   "execution_count": null,
   "id": "550fff97",
   "metadata": {},
   "outputs": [],
   "source": [
    "%load_ext autoreload\n",
    "%autoreload 2"
   ]
  },
  {
   "cell_type": "code",
   "execution_count": null,
   "id": "84656256",
   "metadata": {},
   "outputs": [],
   "source": [
    "import sys, os\n",
    "module_path = \"../..\"\n",
    "sys.path.append(os.path.abspath(module_path))"
   ]
  },
  {
   "cell_type": "code",
   "execution_count": null,
   "id": "bae09ea5",
   "metadata": {},
   "outputs": [],
   "source": [
    "import os\n",
    "from strands import Agent\n",
    "from strands.models import BedrockModel\n",
    "from src.utils.bedrock import bedrock_info\n",
    "from botocore.config import Config"
   ]
  },
  {
   "cell_type": "markdown",
   "id": "785d29c4",
   "metadata": {},
   "source": [
    "## 1. Utils"
   ]
  },
  {
   "cell_type": "markdown",
   "id": "fb0b0d8a",
   "metadata": {},
   "source": [
    "### 1.1 Get llm model by inference type"
   ]
  },
  {
   "cell_type": "code",
   "execution_count": null,
   "id": "9ee608cb",
   "metadata": {},
   "outputs": [],
   "source": [
    "def get_model(**kwargs):\n",
    "\n",
    "    llm_type = kwargs[\"llm_type\"]\n",
    "    cache_type = kwargs[\"cache_type\"]\n",
    "    enable_reasoning = kwargs[\"enable_reasoning\"]\n",
    "\n",
    "    if llm_type in [\"claude-sonnet-3-7\", \"claude-sonnet-4\"]:\n",
    "        \n",
    "        if llm_type == \"claude-sonnet-3-7\": model_name = \"Claude-V3-7-Sonnet-CRI\"\n",
    "        elif llm_type == \"claude-sonnet-4\": model_name = \"Claude-V4-Sonnet-CRI\"\n",
    "\n",
    "        ## BedrockModel params: https://strandsagents.com/latest/api-reference/models/?h=bedrockmodel#strands.models.bedrock.BedrockModel\n",
    "        llm = BedrockModel(\n",
    "            model_id=bedrock_info.get_model_id(model_name=model_name),\n",
    "            streaming=True,\n",
    "            max_tokens=8192*5,\n",
    "            stop_sequences=[\"\\n\\nHuman\"],\n",
    "            temperature=1 if enable_reasoning else 0.01, \n",
    "            additional_request_fields={\n",
    "                \"thinking\": {\n",
    "                    \"type\": \"enabled\" if enable_reasoning else \"disabled\", \n",
    "                    **({\"budget_tokens\": 8192} if enable_reasoning else {}),\n",
    "                }\n",
    "            },\n",
    "            cache_prompt=cache_type, # None/ephemeral/defalut\n",
    "            #cache_tools: Cache point type for tools\n",
    "            boto_client_config=Config(\n",
    "                read_timeout=900,\n",
    "                connect_timeout=900,\n",
    "                retries=dict(max_attempts=50, mode=\"adaptive\"),\n",
    "            )\n",
    "        )   \n",
    "    elif llm_type == \"claude-sonnet-3-5-v-2\":\n",
    "        ## BedrockModel params: https://strandsagents.com/latest/api-reference/models/?h=bedrockmodel#strands.models.bedrock.BedrockModel\n",
    "        llm = BedrockModel(\n",
    "            model_id=bedrock_info.get_model_id(model_name=\"Claude-V3-5-V-2-Sonnet-CRI\"),\n",
    "            streaming=True,\n",
    "            max_tokens=8192,\n",
    "            stop_sequences=[\"\\n\\nHuman\"],\n",
    "            temperature=0.01,\n",
    "            cache_prompt=cache_type, # None/ephemeral/defalut\n",
    "            #cache_tools: Cache point type for tools\n",
    "            boto_client_config=Config(\n",
    "                read_timeout=900,\n",
    "                connect_timeout=900,\n",
    "                retries=dict(max_attempts=50, mode=\"standard\"),\n",
    "            )\n",
    "        )\n",
    "    else:\n",
    "        raise ValueError(f\"Unknown LLM type: {llm_type}\")\n",
    "\n",
    "    return llm"
   ]
  },
  {
   "cell_type": "markdown",
   "id": "2357e8a0",
   "metadata": {},
   "source": [
    "### 1.2 Create agent"
   ]
  },
  {
   "cell_type": "code",
   "execution_count": null,
   "id": "e7460d3c",
   "metadata": {},
   "outputs": [],
   "source": [
    "from datetime import datetime\n",
    "from strands.agent.conversation_manager import SlidingWindowConversationManager"
   ]
  },
  {
   "cell_type": "code",
   "execution_count": null,
   "id": "1d40c135",
   "metadata": {},
   "outputs": [],
   "source": [
    "class Colors:\n",
    "    BLUE = '\\033[94m'\n",
    "    GREEN = '\\033[92m'\n",
    "    YELLOW = '\\033[93m'\n",
    "    RED = '\\033[91m'\n",
    "    BOLD = '\\033[1m'\n",
    "    UNDERLINE = '\\033[4m'\n",
    "    END = '\\033[0m'\n",
    "\n",
    "def apply_prompt_template(prompt_name: str, prompt_context={}) -> str:\n",
    "    \n",
    "    system_prompts = open(os.path.join(\"./prompts\", f\"{prompt_name}.md\")).read()    \n",
    "    #system_prompts = open(os.path.join(os.path.dirname(__file__), f\"{prompt_name}.md\")).read()\n",
    "    context = {\"CURRENT_TIME\": datetime.now().strftime(\"%a %b %d %Y %H:%M:%S %z\")}\n",
    "    context.update(prompt_context)\n",
    "    system_prompts = system_prompts.format(**context)\n",
    "        \n",
    "    return system_prompts\n",
    "\n",
    "class ConversationEditor(SlidingWindowConversationManager):\n",
    "\n",
    "    \"\"\"\n",
    "    Manager that only operates on overflow.\n",
    "\n",
    "        Args:\n",
    "            window_size (int, optional): Maximum number of messages to retain when\n",
    "                context overflow occurs. Defaults to 20.\n",
    "            should_truncate_results (bool, optional): If True, truncate large tool\n",
    "                results with a placeholder message when overflow happens. If False,\n",
    "                preserve full tool results but remove more historical messages.\n",
    "                Defaults to True.\n",
    "    \"\"\"\n",
    "\n",
    "    def __init__(self, window_size=7, should_truncate_results=False):\n",
    "        super().__init__(\n",
    "            window_size=window_size,\n",
    "            should_truncate_results=should_truncate_results\n",
    "        )\n",
    "\n",
    "    def apply_management(self, agent, **kwargs):\n",
    "        \"\"\"After each event loop - do nothing\"\"\"\n",
    "        print(\"None\")\n",
    "        pass\n",
    "\n",
    "    def reduce_context(self, agent, e=None, **kwargs):\n",
    "        \"\"\"Only on overflow - use parent class's reduce_context\"\"\"\n",
    "        print(f\"⚠️ Overflow occurred! Cleaning up {len(agent.messages)} messages...\")\n",
    "\n",
    "        # 부모 클래스의 reduce_context는 should_truncate_results를 자동으로 처리\n",
    "        super().reduce_context(agent, e, **kwargs)\n",
    "\n",
    "        print(f\"✅ Cleanup complete: {len(agent.messages)} messages remaining\")"
   ]
  },
  {
   "cell_type": "code",
   "execution_count": null,
   "id": "99af7401",
   "metadata": {},
   "outputs": [],
   "source": [
    "def get_agent(**kwargs):\n",
    "\n",
    "    agent_name, system_prompts = kwargs[\"agent_name\"], kwargs[\"system_prompts\"]\n",
    "    agent_type = kwargs.get(\"agent_type\", \"claude-sonnet-3-7\")\n",
    "    enable_reasoning = kwargs.get(\"enable_reasoning\", False)\n",
    "    prompt_cache_info = kwargs.get(\"prompt_cache_info\", (False, None)) # (True, \"default\")\n",
    "    tools = kwargs.get(\"tools\", None)\n",
    "    streaming = kwargs.get(\"streaming\", True)\n",
    "    \n",
    "    context_overflow_window_size = kwargs.get(\"context_overflow_window_size\", 15)\n",
    "    context_overflow_should_truncate_results = kwargs.get(\"context_overflow_should_truncate_results\", False)\n",
    "\n",
    "    prompt_cache, cache_type = prompt_cache_info\n",
    "    if prompt_cache: print(f\"{Colors.GREEN}{agent_name.upper()} - Prompt Cache Enabled{Colors.END}\")\n",
    "    else: print(f\"{Colors.GREEN}{agent_name.upper()} - Prompt Cache Disabled{Colors.END}\")\n",
    "\n",
    "    llm = get_model(llm_type=agent_type, cache_type=cache_type, enable_reasoning=enable_reasoning)\n",
    "    llm.config[\"streaming\"] = streaming\n",
    "\n",
    "    agent = Agent(\n",
    "        model=llm,\n",
    "        system_prompt=system_prompts,\n",
    "        tools=tools,\n",
    "        conversation_manager=ConversationEditor(\n",
    "            window_size=context_overflow_window_size,\n",
    "            should_truncate_results=context_overflow_should_truncate_results\n",
    "        ),\n",
    "        callback_handler=None # async iterator로 대체 하기 때문에 None 설정\n",
    "    )\n",
    "\n",
    "    return agent"
   ]
  },
  {
   "cell_type": "markdown",
   "id": "4471a8c5",
   "metadata": {},
   "source": [
    "### 1.3 Response with streaming"
   ]
  },
  {
   "cell_type": "code",
   "execution_count": null,
   "id": "ee387c67",
   "metadata": {},
   "outputs": [],
   "source": [
    "import traceback\n",
    "from langchain_core.callbacks.streaming_stdout import StreamingStdOutCallbackHandler"
   ]
  },
  {
   "cell_type": "code",
   "execution_count": null,
   "id": "092dfbec",
   "metadata": {},
   "outputs": [],
   "source": [
    "class ColoredStreamingCallback(StreamingStdOutCallbackHandler):\n",
    "    COLORS = {\n",
    "        'blue': '\\033[94m',\n",
    "        'green': '\\033[92m',\n",
    "        'yellow': '\\033[93m',\n",
    "        'red': '\\033[91m',\n",
    "        'purple': '\\033[95m',\n",
    "        'cyan': '\\033[96m',\n",
    "        'white': '\\033[97m',\n",
    "    }\n",
    "    \n",
    "    def __init__(self, color='blue'):\n",
    "        super().__init__()\n",
    "        self.color_code = self.COLORS.get(color, '\\033[94m')\n",
    "        self.reset_code = '\\033[0m'\n",
    "    \n",
    "    def on_llm_new_token(self, token: str, **kwargs) -> None:\n",
    "        print(f\"{self.color_code}{token}{self.reset_code}\", end=\"\", flush=True)"
   ]
  },
  {
   "cell_type": "code",
   "execution_count": null,
   "id": "cbe431dd",
   "metadata": {},
   "outputs": [],
   "source": [
    "async def process_streaming_response(agent, message):\n",
    "    callback_reasoning, callback_answer = ColoredStreamingCallback('purple'), ColoredStreamingCallback('white')\n",
    "    response = {\"text\": \"\",\"reasoning\": \"\", \"signature\": \"\", \"tool_use\": None, \"cycle\": 0}\n",
    "    try:\n",
    "        agent_stream = agent.stream_async(message)\n",
    "        async for event in agent_stream:\n",
    "            if \"reasoningText\" in event:\n",
    "                response[\"reasoning\"] += event[\"reasoningText\"]\n",
    "                callback_reasoning.on_llm_new_token(event[\"reasoningText\"])\n",
    "            elif \"reasoning_signature\" in event:\n",
    "                response[\"signature\"] += event[\"reasoning_signature\"]\n",
    "            elif \"data\" in event:\n",
    "                response[\"text\"] += event[\"data\"]\n",
    "                callback_answer.on_llm_new_token(event[\"data\"])\n",
    "            elif \"current_tool_use\" in event and event[\"current_tool_use\"].get(\"name\"):\n",
    "                response[\"tool_use\"] = event[\"current_tool_use\"][\"name\"]\n",
    "                if \"event_loop_metrics\" in event:\n",
    "                    if response[\"cycle\"] != event[\"event_loop_metrics\"].cycle_count:\n",
    "                        response[\"cycle\"] = event[\"event_loop_metrics\"].cycle_count\n",
    "                        callback_answer.on_llm_new_token(f' \\n## Calling tool: {event[\"current_tool_use\"][\"name\"]} - # Cycle: {event[\"event_loop_metrics\"].cycle_count}\\n')\n",
    "    except Exception as e:\n",
    "        print(f\"Error in streaming response: {e}\")\n",
    "        print(traceback.format_exc())  # Detailed error logging\n",
    "    \n",
    "    return agent, response"
   ]
  },
  {
   "cell_type": "code",
   "execution_count": null,
   "id": "771f6f85",
   "metadata": {},
   "outputs": [],
   "source": [
    "async def process_streaming_response_yeild(agent, message):\n",
    "    callback_reasoning, callback_answer = ColoredStreamingCallback('purple'), ColoredStreamingCallback('white')\n",
    "    response = {\"text\": \"\",\"reasoning\": \"\", \"signature\": \"\", \"tool_use\": None, \"cycle\": 0}\n",
    "    try:\n",
    "        agent_stream = agent.stream_async(message)\n",
    "        async for event in agent_stream:\n",
    "            if \"reasoningText\" in event:\n",
    "                response[\"reasoning\"] += event[\"reasoningText\"]\n",
    "                callback_reasoning.on_llm_new_token(event[\"reasoningText\"])\n",
    "            elif \"reasoning_signature\" in event:\n",
    "                response[\"signature\"] += event[\"reasoning_signature\"]\n",
    "            elif \"data\" in event:\n",
    "                response[\"text\"] += event[\"data\"]\n",
    "                callback_answer.on_llm_new_token(event[\"data\"])\n",
    "            elif \"current_tool_use\" in event and event[\"current_tool_use\"].get(\"name\"):\n",
    "                response[\"tool_use\"] = event[\"current_tool_use\"][\"name\"]\n",
    "                if \"event_loop_metrics\" in event:\n",
    "                    if response[\"cycle\"] != event[\"event_loop_metrics\"].cycle_count:\n",
    "                        response[\"cycle\"] = event[\"event_loop_metrics\"].cycle_count\n",
    "                        callback_answer.on_llm_new_token(f' \\n## Calling tool: {event[\"current_tool_use\"][\"name\"]} - # Cycle: {event[\"event_loop_metrics\"].cycle_count}\\n')\n",
    "    except Exception as e:\n",
    "        print(f\"Error in streaming response: {e}\")\n",
    "        print(traceback.format_exc())  # Detailed error logging\n",
    "    \n",
    "    return agent, response"
   ]
  },
  {
   "cell_type": "markdown",
   "id": "bd33c01f",
   "metadata": {},
   "source": [
    "## 2. Usage"
   ]
  },
  {
   "cell_type": "markdown",
   "id": "4becb911",
   "metadata": {},
   "source": [
    "### 2.1 Agent definition"
   ]
  },
  {
   "cell_type": "markdown",
   "id": "eeb145e2",
   "metadata": {},
   "source": [
    "- system prompt"
   ]
  },
  {
   "cell_type": "code",
   "execution_count": null,
   "id": "384f6e22",
   "metadata": {},
   "outputs": [],
   "source": [
    "%%writefile ./prompts/task_agent.md\n",
    "---\n",
    "CURRENT_TIME: {CURRENT_TIME}\n",
    "---\n",
    "\n",
    "You are Bedrock-Manus, a friendly AI assistant developed by AWS AIML Specialist SA Dongjin Jang.\n",
    "You specialize in handling greetings, small talk, and knowledge-based question answering using available tools.\n",
    "\n",
    "## Available Tools\n",
    "\n",
    "You have access to the following tools that you should use when appropriate:\n",
    "\n",
    "### 1. RAG Tool (rag_tool)\n",
    "**When to use**: Use this tool when users ask questions that require information from a knowledge base or document collection. This includes:\n",
    "- Questions about specific topics that might be documented\n",
    "- Requests for factual information that could be in indexed documents\n",
    "- Queries about policies, procedures, or technical documentation\n",
    "- Any question where you need to retrieve and reference specific information\n",
    "\n",
    "**What it does**: Performs Retrieval-Augmented Generation (RAG) by searching through indexed documents in OpenSearch and generating contextual answers based on retrieved information.\n",
    "\n",
    "**Input**: A query string containing the user's question\n",
    "\n",
    "**Example scenarios**:\n",
    "- \"What is the investment return rate for maturity repayment?\"\n",
    "- \"Can you explain the company's vacation policy?\"\n",
    "- \"How does the authentication system work?\"\n",
    "\n",
    "### 2. Python REPL Tool (python_repl_tool)\n",
    "**When to use**: Use this tool when users need to execute Python code or perform data analysis:\n",
    "- Running Python scripts or code snippets\n",
    "- Data analysis and calculations\n",
    "- Testing code functionality\n",
    "- Mathematical computations\n",
    "\n",
    "**What it does**: Executes Python code in a REPL environment and returns the output\n",
    "\n",
    "**Input**: Python code string\n",
    "\n",
    "### 3. Bash Tool (bash_tool) \n",
    "**When to use**: Use this tool when users need to execute system commands or perform file operations:\n",
    "- Running shell commands\n",
    "- File system operations (ls, mkdir, etc.)\n",
    "- System information queries\n",
    "- Development tasks requiring command line operations\n",
    "\n",
    "**What it does**: Executes bash commands and returns the output\n",
    "\n",
    "**Input**: A bash command string\n",
    "\n",
    "## Tool Usage Guidelines\n",
    "\n",
    "1. **Assess the user's request** - Determine if the question requires tool usage\n",
    "2. **Choose the appropriate tool** - Select based on the type of information needed\n",
    "3. **Use RAG tool for knowledge queries** - When the user asks about topics that might be in your knowledge base\n",
    "4. **Use Python REPL for code execution** - When the user needs to run Python code or perform calculations\n",
    "5. **Use Bash tool for system operations** - When the user needs to interact with the system\n",
    "6. **Provide helpful responses** - Always explain the results in a user-friendly way\n",
    "\n",
    "## Response Style\n",
    "\n",
    "- Be friendly and conversational\n",
    "- Provide clear, helpful answers\n",
    "- When using tools, explain what you're doing and why\n",
    "- If a tool doesn't provide the needed information, acknowledge this and offer alternatives\n",
    "- Always prioritize user experience and clarity\n",
    "\n",
    "Remember to use tools proactively when they can help answer user questions more accurately or completely."
   ]
  },
  {
   "cell_type": "code",
   "execution_count": null,
   "id": "ec1caa4d",
   "metadata": {},
   "outputs": [],
   "source": [
    "agent = get_agent(\n",
    "    agent_name=\"task_agent\",\n",
    "    system_prompts=apply_prompt_template(prompt_name=\"task_agent\", prompt_context={}),\n",
    "    agent_type=\"claude-sonnet-4\",  # claude-sonnet-3-7, claude-sonnet-4\n",
    "    prompt_cache_info=(True, \"default\"),  # enable prompt caching for reasoning agent\n",
    "    streaming=True,\n",
    ")"
   ]
  },
  {
   "cell_type": "markdown",
   "id": "945cffbb",
   "metadata": {},
   "source": [
    "### 2.2 Execution"
   ]
  },
  {
   "cell_type": "code",
   "execution_count": null,
   "id": "a589b447",
   "metadata": {},
   "outputs": [],
   "source": [
    "import asyncio\n",
    "import nest_asyncio\n",
    "nest_asyncio.apply()"
   ]
  },
  {
   "cell_type": "code",
   "execution_count": null,
   "id": "1093c701",
   "metadata": {},
   "outputs": [],
   "source": [
    "message = \"안녕 나는 장동진이야\"\n",
    "agent, response = asyncio.run(process_streaming_response(agent, message))\n"
   ]
  },
  {
   "cell_type": "code",
   "execution_count": null,
   "id": "cdb3def0",
   "metadata": {},
   "outputs": [],
   "source": [
    "from typing import Dict, Any\n",
    "async def _convert_to_agentcore_event(\n",
    "    strands_event: Dict[str, Any],\n",
    "    agent_name: str,\n",
    "    session_id: str\n",
    ") -> Dict[str, Any]:\n",
    "    \"\"\"Strands 이벤트를 AgentCore 스트리밍 형식으로 변환\"\"\"\n",
    "    \n",
    "    base_event = {\n",
    "        \"timestamp\": datetime.now().isoformat(),\n",
    "        \"session_id\": session_id,\n",
    "        \"agent_name\": agent_name,\n",
    "        \"source\": \"strands_data_analysis_graph\"\n",
    "    }\n",
    "    \n",
    "    # 텍스트 데이터 이벤트\n",
    "    if \"data\" in strands_event:\n",
    "        return {\n",
    "            **base_event,\n",
    "            \"type\": \"agent_text_stream\",\n",
    "            \"event_type\": \"text_chunk\",\n",
    "            \"data\": strands_event[\"data\"],\n",
    "            \"chunk_size\": len(strands_event[\"data\"])\n",
    "        }\n",
    "    \n",
    "    # 도구 사용 이벤트\n",
    "    elif \"current_tool_use\" in strands_event:\n",
    "        tool_info = strands_event[\"current_tool_use\"]\n",
    "        return {\n",
    "            **base_event,\n",
    "            \"type\": \"agent_tool_stream\",\n",
    "            \"event_type\": \"tool_use\",\n",
    "            \"tool_name\": tool_info.get(\"name\", \"unknown\"),\n",
    "            \"tool_id\": tool_info.get(\"toolUseId\"),\n",
    "            \"tool_input\": tool_info.get(\"input\", {})\n",
    "        }\n",
    "    \n",
    "    # 추론 이벤트\n",
    "    elif \"reasoning\" in strands_event and strands_event.get(\"reasoning\"):\n",
    "        return {\n",
    "            **base_event,\n",
    "            \"type\": \"agent_reasoning_stream\",\n",
    "            \"event_type\": \"reasoning\",\n",
    "            \"reasoning_text\": strands_event.get(\"reasoningText\", \"\")[:200]\n",
    "        }\n",
    "    \n",
    "    return None"
   ]
  },
  {
   "cell_type": "code",
   "execution_count": null,
   "id": "40ec7948",
   "metadata": {},
   "outputs": [],
   "source": [
    "async def process_agent_stream(agent, message):\n",
    "    coordinator_result = \"\"\n",
    "    agent_stream = agent.stream_async(message)\n",
    "    session_id = \"123\"\n",
    "\n",
    "    async for event in agent_stream:\n",
    "        #Strands 이벤트를 AgentCore 형식으로 변환\n",
    "        agentcore_event = await _convert_to_agentcore_event(\n",
    "            event, \"coordinator\", session_id\n",
    "        )\n",
    "        if agentcore_event:\n",
    "            yield agentcore_event\n",
    "\n",
    "            # 결과 텍스트 누적\n",
    "            if agentcore_event.get(\"event_type\") == \"text_chunk\":\n",
    "                coordinator_result += agentcore_event.get(\"data\", \"\")\n",
    "\n",
    "async def node(agent, message):\n",
    "    async for event in process_agent_stream(agent, message):\n",
    "        yield(event)\n",
    "\n",
    "# 실행 함수 정의 - async generator를 소비하는 coroutine\n",
    "async def main():\n",
    "    message = \"안녕 나는 장동진이야\"\n",
    "    async for event in node(agent, message):\n",
    "        print(f\"Event: {event}\")\n",
    "\n",
    "# 실행\n",
    "asyncio.run(main())"
   ]
  },
  {
   "cell_type": "markdown",
   "id": "359c30d4",
   "metadata": {},
   "source": [
    "## 3. Tools"
   ]
  },
  {
   "cell_type": "code",
   "execution_count": null,
   "id": "3e12e658",
   "metadata": {},
   "outputs": [],
   "source": [
    "from src.tools import python_repl_tool, bash_tool, rag_tool"
   ]
  },
  {
   "cell_type": "code",
   "execution_count": null,
   "id": "f8058667",
   "metadata": {},
   "outputs": [],
   "source": [
    "get_agent?\n"
   ]
  },
  {
   "cell_type": "code",
   "execution_count": null,
   "id": "74af9e0c",
   "metadata": {},
   "outputs": [],
   "source": [
    "agent = get_agent(\n",
    "    agent_name=\"task_agent\",\n",
    "    system_prompts=apply_prompt_template(prompt_name=\"task_agent\", prompt_context={}),\n",
    "    agent_type=\"claude-sonnet-4\",  # claude-sonnet-3-7, claude-sonnet-4\n",
    "    enable_reasoning=True,\n",
    "    prompt_cache_info=(True, \"default\"),  # enable prompt caching for reasoning agent\n",
    "    streaming=True,\n",
    "    tools=[python_repl_tool, bash_tool, rag_tool],\n",
    ")"
   ]
  },
  {
   "cell_type": "code",
   "execution_count": null,
   "id": "9d4766a7",
   "metadata": {},
   "outputs": [],
   "source": [
    "message = \"./prompts 디렉토리에 어떤 파일이 있는지 확인해 줄래?\"\n",
    "agent, response = asyncio.run(process_streaming_response(agent, message))"
   ]
  },
  {
   "cell_type": "code",
   "execution_count": null,
   "id": "3378f134",
   "metadata": {},
   "outputs": [],
   "source": [
    "message = \"Hello world 를 프린팅하는 파이썬 코드를 작성하고 실행시켜 줄래?\"\n",
    "agent, response = asyncio.run(process_streaming_response(agent, message))"
   ]
  },
  {
   "cell_type": "code",
   "execution_count": null,
   "id": "a54c24ae",
   "metadata": {},
   "outputs": [],
   "source": [
    "message = \"만기 상환에 따른 수익률을 알려줄래?\"\n",
    "#message = \"만기 상환에 따른 수익률을 알려줄래?, 툴 결과를 받아서 정리하지말고 '완료' 라고만 말해줘\"\n",
    "agent, response = asyncio.run(process_streaming_response(agent, message))"
   ]
  },
  {
   "cell_type": "markdown",
   "id": "d0f0e7c5",
   "metadata": {},
   "source": [
    "## 4. built-in utility"
   ]
  },
  {
   "cell_type": "code",
   "execution_count": null,
   "id": "8e94a336",
   "metadata": {},
   "outputs": [],
   "source": [
    "from pprint import pprint"
   ]
  },
  {
   "cell_type": "markdown",
   "id": "430c7d2c",
   "metadata": {},
   "source": [
    "### 4.1 Check agent"
   ]
  },
  {
   "cell_type": "markdown",
   "id": "35c5a15b",
   "metadata": {},
   "source": [
    "- Syetem prompt"
   ]
  },
  {
   "cell_type": "code",
   "execution_count": null,
   "id": "29f6073b",
   "metadata": {},
   "outputs": [],
   "source": [
    "system_prompt = agent.system_prompt\n",
    "pprint(system_prompt)"
   ]
  },
  {
   "cell_type": "markdown",
   "id": "56bfb0e8",
   "metadata": {},
   "source": [
    "- Message history"
   ]
  },
  {
   "cell_type": "code",
   "execution_count": null,
   "id": "123c6225",
   "metadata": {},
   "outputs": [],
   "source": [
    "agent_messages = agent.messages\n",
    "pprint(agent_messages)"
   ]
  },
  {
   "cell_type": "markdown",
   "id": "cfed8f0c",
   "metadata": {},
   "source": [
    "- observility"
   ]
  },
  {
   "cell_type": "code",
   "execution_count": null,
   "id": "64986e63",
   "metadata": {},
   "outputs": [],
   "source": [
    "pprint(agent.event_loop_metrics)"
   ]
  },
  {
   "cell_type": "markdown",
   "id": "961fb569",
   "metadata": {},
   "source": [
    "- Resume"
   ]
  },
  {
   "cell_type": "code",
   "execution_count": null,
   "id": "8c48b93f",
   "metadata": {},
   "outputs": [],
   "source": [
    "llm_ = BedrockModel(\n",
    "    model_id=bedrock_info.get_model_id(model_name=\"Claude-V3-7-Sonnet-CRI\"),\n",
    "    streaming=True,\n",
    "    max_tokens=8192,\n",
    "    stop_sequencesb=[\"\\n\\nHuman\"],\n",
    "    temperature=0.01,\n",
    "    cache_prompt=None, # None/ephemeral/defalut\n",
    "    #cache_tools: Cache point type for tools\n",
    "    boto_client_config=Config(\n",
    "        read_timeout=900,\n",
    "        connect_timeout=900,\n",
    "        retries=dict(max_attempts=50, mode=\"standard\"),\n",
    "    )\n",
    ")\n",
    "\n",
    "\n",
    "agent_ = Agent(\n",
    "    model=llm_,\n",
    "    tools=[python_repl_tool, bash_tool],\n",
    "    system_prompt=system_prompt,\n",
    "    messages=agent_messages,\n",
    "    callback_handler=None # async iterator로 대체 하기 때문에 None 설정\n",
    ")"
   ]
  },
  {
   "cell_type": "code",
   "execution_count": null,
   "id": "baf617f0",
   "metadata": {},
   "outputs": [],
   "source": [
    "message = \"이어서 대화 하는거 맞니?\"\n",
    "agent, response = asyncio.run(process_streaming_response(agent_, message))"
   ]
  },
  {
   "cell_type": "markdown",
   "id": "a2c66b18",
   "metadata": {},
   "source": []
  },
  {
   "cell_type": "markdown",
   "id": "8956bf40",
   "metadata": {},
   "source": [
    "### 4.2 [Conversation management](https://strandsagents.com/latest/documentation/docs/user-guide/concepts/agents/conversation-management/?h=conversa)\n",
    "\n",
    "As conversations grow, managing this context becomes increasingly important for several reasons:\n",
    "\n",
    "- **Token Limits**: Language models have fixed context windows (maximum tokens they can process)\n",
    "- **Performance**: Larger contexts require more processing time and resources\n",
    "- **Relevance**: Older messages may become less relevant to the current conversation\n",
    "- **Coherence**: Maintaining logical flow and preserving important information\n"
   ]
  },
  {
   "cell_type": "markdown",
   "id": "31a182fb",
   "metadata": {},
   "source": [
    "#### 4.2.1. SlidingWindowConversationManager\n",
    "고정된 수의 최근 메시지를 유지하는 슬라이딩 윈도우 전략을 구현합니다. Agent 클래스에서 기본적으로 사용하는 대화 매니저입니다."
   ]
  },
  {
   "cell_type": "code",
   "execution_count": null,
   "id": "e3d2f049",
   "metadata": {},
   "outputs": [],
   "source": [
    "from strands.agent.conversation_manager import SlidingWindowConversationManager"
   ]
  },
  {
   "cell_type": "code",
   "execution_count": null,
   "id": "9162351c",
   "metadata": {},
   "outputs": [],
   "source": [
    "# Create a conversation manager with custom window size\n",
    "conversation_manager = SlidingWindowConversationManager(\n",
    "    window_size=3,  # Maximum number of messages to keep\n",
    "    should_truncate_results=True, # Enable truncating the tool result when a message is too large for the model's context window \n",
    ")"
   ]
  },
  {
   "cell_type": "code",
   "execution_count": null,
   "id": "7459aa51",
   "metadata": {},
   "outputs": [],
   "source": [
    "agent.conversation_manager = conversation_manager"
   ]
  },
  {
   "cell_type": "code",
   "execution_count": null,
   "id": "cd7d15ba",
   "metadata": {},
   "outputs": [],
   "source": [
    "message = \"안녕 나는 장동진이야\"\n",
    "agent, response = asyncio.run(process_streaming_response(agent, message))\n",
    "print (\"\\n\")\n",
    "pprint (agent.messages)"
   ]
  },
  {
   "cell_type": "markdown",
   "id": "28ad3936",
   "metadata": {},
   "source": [
    "#### 3.1.2. SummarizingConversationManager\n",
    "\n",
    "오래된 메시지를 요약하여 중요한 정보를 보존하면서 컨텍스트 한계 내에서 대화를 관리합니다.\n",
    "\n",
    "**주요 설정:**\n",
    "\n",
    "| 파라미터 | 타입 | 기본값 | 설명 |\n",
    "|---------|------|--------|------|\n",
    "| `summary_ratio` | `float` | `0.3` | 컨텍스트 축소 시 요약할 메시지 비율 (0.1~0.8 범위) |\n",
    "| `preserve_recent_messages` | `int` | `10` | 항상 유지할 최근 메시지 수 |\n",
    "| `summarization_agent` | `Agent` | `None` | 요약 생성용 커스텀 에이전트 (system_prompt와 동시 사용 불가) |\n",
    "| `summarization_system_prompt` | `str` | `None` | 요약용 커스텀 시스템 프롬프트 (agent와 동시 사용 불가) |\n",
    "\n",
    "> **기본 요약 방식**: 커스텀 설정이 없을 경우, 주요 토픽, 사용된 도구, 기술적 정보를 3인칭 형태의 구조화된 불릿 포인트로 요약합니다."
   ]
  },
  {
   "cell_type": "code",
   "execution_count": null,
   "id": "09ef6246",
   "metadata": {},
   "outputs": [],
   "source": [
    "from strands.agent.conversation_manager import SummarizingConversationManager"
   ]
  },
  {
   "cell_type": "code",
   "execution_count": null,
   "id": "ae8da725",
   "metadata": {},
   "outputs": [],
   "source": [
    "# Custom system prompt for technical conversations\n",
    "custom_system_prompt = \"\"\"\n",
    "You are summarizing a technical conversation. Create a concise bullet-point summary that:\n",
    "- Focuses on code changes, architectural decisions, and technical solutions\n",
    "- Preserves specific function names, file paths, and configuration details\n",
    "- Omits conversational elements and focuses on actionable information\n",
    "- Uses technical terminology appropriate for software development\n",
    "\n",
    "Format as bullet points without conversational language.\n",
    "\"\"\"\n",
    "\n",
    "conversation_manager = SummarizingConversationManager(\n",
    "    summary_ratio=0.3,  # Summarize 30% of messages when context reduction is needed\n",
    "    preserve_recent_messages=3,  # Always keep 10 most recent messages\n",
    "    summarization_system_prompt=custom_system_prompt\n",
    ")"
   ]
  },
  {
   "cell_type": "code",
   "execution_count": null,
   "id": "52b6bbba",
   "metadata": {},
   "outputs": [],
   "source": [
    "agent.conversation_manager = conversation_manager"
   ]
  },
  {
   "cell_type": "code",
   "execution_count": null,
   "id": "ee3f1844",
   "metadata": {},
   "outputs": [],
   "source": [
    "message = \"안녕 나는 장동진이야\"\n",
    "agent, response = asyncio.run(process_streaming_response(agent, message))\n",
    "print (\"\\n\")\n",
    "pprint (agent.messages)"
   ]
  },
  {
   "cell_type": "code",
   "execution_count": null,
   "id": "e07a92fc",
   "metadata": {},
   "outputs": [],
   "source": []
  }
 ],
 "metadata": {
  "kernelspec": {
   "display_name": "basic-agent-frame (UV)",
   "language": "python",
   "name": "basic-agent-frame"
  },
  "language_info": {
   "codemirror_mode": {
    "name": "ipython",
    "version": 3
   },
   "file_extension": ".py",
   "mimetype": "text/x-python",
   "name": "python",
   "nbconvert_exporter": "python",
   "pygments_lexer": "ipython3",
   "version": "3.12.11"
  }
 },
 "nbformat": 4,
 "nbformat_minor": 5
}
