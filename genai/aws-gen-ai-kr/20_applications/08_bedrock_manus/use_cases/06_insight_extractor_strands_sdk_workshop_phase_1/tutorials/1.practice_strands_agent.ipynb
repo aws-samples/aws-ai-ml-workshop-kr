{
 "cells": [
  {
   "cell_type": "markdown",
   "id": "ff04f9fe",
   "metadata": {},
   "source": [
    "# Strands Agent SDK"
   ]
  },
  {
   "cell_type": "markdown",
   "id": "4d2c9e85",
   "metadata": {},
   "source": [
    "## 0. Jupyter 환경 설정\n",
    "\n",
    "> **🎯 목적**: 개발 효율성을 위한 자동 리로드 기능을 활성화합니다.\n",
    "\n",
    "| 매직 명령어 | 기능 | 효과 |\n",
    "|------------|------|------|\n",
    "| `%load_ext autoreload` | autoreload 확장 로드 | 자동 리로드 기능 활성화 |\n",
    "| `%autoreload 2` | 전체 모듈 자동 리로드 | 모든 모듈 변경사항 실시간 반영 |\n",
    "\n",
    "💡 **Tip**: 이 설정으로 코드를 수정할 때마다 커널을 재시작하지 않아도 변경사항이 바로 적용됩니다!"
   ]
  },
  {
   "cell_type": "code",
   "execution_count": 1,
   "id": "3078d567",
   "metadata": {},
   "outputs": [],
   "source": [
    "%load_ext autoreload\n",
    "%autoreload 2"
   ]
  },
  {
   "cell_type": "markdown",
   "id": "1f391050",
   "metadata": {},
   "source": [
    "## 1. 환경변수 및 lib path 설정"
   ]
  },
  {
   "cell_type": "markdown",
   "id": "578donamdqw",
   "metadata": {},
   "source": [
    "### 1.1 필요한 라이브러리 import\n",
    "\n",
    "> **🎯 목적**: 프로젝트 환경 설정을 위한 핵심 라이브러리들을 준비합니다.\n",
    "\n",
    "| 라이브러리 | 역할 | 사용 목적 |\n",
    "|-----------|------|-----------|\n",
    "| `os` | 운영체제 인터페이스 | 환경변수 접근, 시스템 정보 |\n",
    "| `sys` | Python 인터프리터 제어 | 모듈 경로 설정 |\n",
    "| `dotenv` | 환경변수 관리 | `.env` 파일에서 설정 로드 |\n",
    "\n",
    "💡 **Tip**: `.env` 파일을 사용하면 AWS 인증 정보 등 민감한 설정을 안전하게 관리할 수 있습니다."
   ]
  },
  {
   "cell_type": "code",
   "execution_count": 2,
   "id": "a7e9265e",
   "metadata": {},
   "outputs": [],
   "source": [
    "import os, sys\n",
    "from dotenv import load_dotenv"
   ]
  },
  {
   "cell_type": "markdown",
   "id": "1uuwkxq24fx",
   "metadata": {},
   "source": [
    "### 1.2 환경 변수 로드 및 모듈 경로 설정\n",
    "\n",
    "> **🎯 목적**: AWS 연결과 프로젝트 모듈 접근을 위한 환경을 구성합니다.\n",
    "\n",
    "| 단계 | 작업 | 설명 |\n",
    "|------|------|------|\n",
    "| 1️⃣ | `.env` 파일 로드 | 환경변수를 안전하게 불러옴 |\n",
    "| 2️⃣ | AWS 리전 확인 | Bedrock 서비스 연결 지역 검증 |\n",
    "| 3️⃣ | 모듈 경로 추가 | 상위 디렉토리의 `src` 모듈 접근 허용 |\n",
    "\n",
    "💡 **Tip**: `AWS_DEFAULT_REGION`이 출력되면 환경 설정이 올바르게 완료된 것입니다!"
   ]
  },
  {
   "cell_type": "code",
   "execution_count": 3,
   "id": "2eb67822",
   "metadata": {},
   "outputs": [
    {
     "name": "stdout",
     "output_type": "stream",
     "text": [
      "AWS_DEFAULT_REGION: None\n"
     ]
    }
   ],
   "source": [
    "load_dotenv()\n",
    "print (f'AWS_DEFAULT_REGION: {os.getenv(\"AWS_DEFAULT_REGION\")}')\n",
    "\n",
    "module_path = \"..\"\n",
    "sys.path.append(os.path.abspath(module_path))"
   ]
  },
  {
   "cell_type": "markdown",
   "id": "8e39305e",
   "metadata": {},
   "source": [
    "## 2. Utilities"
   ]
  },
  {
   "cell_type": "markdown",
   "id": "fb0b0d8a",
   "metadata": {},
   "source": [
    "### 2.1 Get llm model\n",
    "\n",
    "> **🎯 목적**: Strands SDK에서 사용할 LLM 모델을 생성합니다.\n",
    "\n",
    "| 파라미터 | 설정 | 설명 |\n",
    "|----------|------|------|\n",
    "| **function name** | `get_model` | LLM 모델 생성 메서드 |\n",
    "| **script path** | [`../src/utils/strands_sdk_utils.py`](../src/utils/strands_sdk_utils.py#L56-L108) | 구현 파일 위치 |\n",
    "\n",
    "**핵심 기능**: 추론 모드, 캐싱, 스트리밍 설정"
   ]
  },
  {
   "cell_type": "markdown",
   "id": "faa2b767",
   "metadata": {},
   "source": [
    "### 2.2 Get system prompt\n",
    "\n",
    "> **🎯 목적**: 에이전트의 시스템 프롬프트를 템플릿으로 생성합니다.\n",
    "\n",
    "| 파라미터 | 설정 | 설명 |\n",
    "|----------|------|------|\n",
    "| **function name** | `apply_prompt_template` | 프롬프트 템플릿 적용 메서드 |\n",
    "| **script path** | [`../src/prompts/template.py`](../src/prompts/template.py#L4-L12) | 구현 파일 위치 |\n",
    "\n",
    "**핵심 기능**: 동적 변수 삽입, 에이전트별 맞춤 프롬프트 생성"
   ]
  },
  {
   "cell_type": "markdown",
   "id": "2357e8a0",
   "metadata": {},
   "source": [
    "### 2.3 Create agent\n",
    "\n",
    "> **🎯 목적**: 설정된 LLM과 프롬프트로 Strands 에이전트를 생성합니다.\n",
    "\n",
    "| 파라미터 | 설정 | 설명 |\n",
    "|----------|------|------|\n",
    "| **function name** | `get_agent` | Strands 에이전트 생성 메서드 |\n",
    "| **script path** | [`../src/utils/strands_sdk_utils.py`](../src/utils/strands_sdk_utils.py#L109-L134) | 구현 파일 위치 |\n",
    "\n",
    "**핵심 기능**: 모델-프롬프트-도구 통합, 스트리밍 응답 설정"
   ]
  },
  {
   "cell_type": "markdown",
   "id": "09fdda10",
   "metadata": {},
   "source": [
    "## 3. Agent definition"
   ]
  },
  {
   "cell_type": "markdown",
   "id": "4a51kfw4r85",
   "metadata": {},
   "source": [
    "### 3.1 에이전트 이름 정의\n",
    "\n",
    "> **🎯 목적**: 튜토리얼 에이전트의 고유 식별자를 설정합니다.\n",
    "\n",
    "| 속성 | 값 | 용도 |\n",
    "|------|-----|------|\n",
    "| **에이전트명** | `toy_agent` | 시스템 프롬프트 파일명 참조 |\n",
    "\n",
    "💡 **Tip**: 에이전트 이름은 프로젝트 전반에서 일관되게 사용되는 중요한 식별자입니다!"
   ]
  },
  {
   "cell_type": "code",
   "execution_count": 4,
   "id": "22c8f920",
   "metadata": {},
   "outputs": [],
   "source": [
    "agent_name = \"toy_agent\""
   ]
  },
  {
   "cell_type": "markdown",
   "id": "2a6559e7",
   "metadata": {},
   "source": [
    "### 3.2 시스템 프롬프트 (System prompt) 파일 생성\n",
    "\n",
    "> **🎯 목적**: `%%writefile` 매직 명령어로 에이전트의 핵심 지침을 파일로 저장합니다.\n",
    "\n",
    "| 구성 요소 | 내용 | 목적 |\n",
    "|----------|------|------|\n",
    "| **🤖 에이전트 정체성** | Bedrock-Manus 역할 정의 | 친근한 AI 어시스턴트 성격 설정 |\n",
    "| **🛠️ 도구 설명** | Python REPL, Bash 도구 | 각 도구의 사용 시점과 방법 안내 |\n",
    "| **📋 사용 가이드라인** | 도구 선택 기준 | 상황별 적절한 도구 선택 로직 |\n",
    "| **💬 응답 스타일** | 대화 방식 정의 | 사용자 친화적 커뮤니케이션 규칙 |\n",
    "\n",
    "💡 **Tip**: `%%writefile`로 생성된 프롬프트는 에이전트의 \"두뇌\" 역할을 하는 중요한 설정 파일입니다!"
   ]
  },
  {
   "cell_type": "code",
   "execution_count": null,
   "id": "f5254717",
   "metadata": {},
   "outputs": [
    {
     "name": "stdout",
     "output_type": "stream",
     "text": [
      "Overwriting ../src/prompts/toy_agent.md\n"
     ]
    }
   ],
   "source": [
    "%%writefile ../src/prompts/toy_agent.md\n",
    "\n",
    "---\n",
    "CURRENT_TIME: {CURRENT_TIME}\n",
    "AGENT_NAME: {AGENT_NAME}\n",
    "---\n",
    "\n",
    "You are Amazon Bedrock Deep Research Agent, a friendly AI assistant developed by AWS Korea SA Team.\n",
    "You specialize in handling greetings, small talk, and knowledge-based question answering using available tools.\n",
    "\n",
    "## Available Tools\n",
    "\n",
    "You have access to the following tools that you should use when appropriate:\n",
    "\n",
    "### 1. Python REPL Tool (python_repl_tool)\n",
    "**When to use**: Use this tool when users need to execute Python code or perform data analysis:\n",
    "- Running Python scripts or code snippets\n",
    "- Data analysis and calculations\n",
    "- Testing code functionality\n",
    "- Mathematical computations\n",
    "\n",
    "**What it does**: Executes Python code in a REPL environment and returns the output\n",
    "\n",
    "**Input**: Python code string\n",
    "\n",
    "### 2. Bash Tool (bash_tool) \n",
    "**When to use**: Use this tool when users need to execute system commands or perform file operations:\n",
    "- Running shell commands\n",
    "- File system operations (ls, mkdir, etc.)\n",
    "- System information queries\n",
    "- Development tasks requiring command line operations\n",
    "\n",
    "**What it does**: Executes bash commands and returns the output\n",
    "\n",
    "**Input**: A bash command string\n",
    "\n",
    "## Tool Usage Guidelines\n",
    "\n",
    "1. **Assess the user's request** - Determine if the question requires tool usage\n",
    "2. **Choose the appropriate tool** - Select based on the type of information needed\n",
    "3. **Use RAG tool for knowledge queries** - When the user asks about topics that might be in your knowledge base\n",
    "4. **Use Python REPL for code execution** - When the user needs to run Python code or perform calculations\n",
    "5. **Use Bash tool for system operations** - When the user needs to interact with the system\n",
    "6. **Provide helpful responses** - Always explain the results in a user-friendly way\n",
    "\n",
    "## Response Style\n",
    "\n",
    "- Be friendly and conversational\n",
    "- Provide clear, helpful answers\n",
    "- When using tools, explain what you're doing and why\n",
    "- If a tool doesn't provide the needed information, acknowledge this and offer alternatives\n",
    "- Always prioritize user experience and clarity\n",
    "\n",
    "Remember to use tools proactively when they can help answer user questions more accurately or completely."
   ]
  },
  {
   "cell_type": "markdown",
   "id": "685778ab",
   "metadata": {},
   "source": [
    "### 3.3 에이전트 생성\n",
    "\n",
    "> **🎯 목적**: Strands SDK를 사용하여 설정이 완료된 실제 에이전트를 생성합니다.\n",
    "\n",
    "| 파라미터 | 설정값 | 설명 |\n",
    "|----------|--------|------|\n",
    "| **🤖 agent_type** | `claude-sonnet-3-7` | 사용할 LLM 모델 (고성능 추론) |\n",
    "| **🧠 enable_reasoning** | `False` | 추론 기능 비활성화 (빠른 응답) |\n",
    "| **⚡ prompt_cache_info** | `(False, None)` | 프롬프트 캐싱 비활성화 |\n",
    "| **📡 streaming** | `True` | 실시간 응답 스트리밍 활성화 |\n",
    "\n",
    "💡 **Tip**: 이 설정으로 기본적인 대화형 에이전트가 생성됩니다. 도구는 아직 포함되지 않았습니다!"
   ]
  },
  {
   "cell_type": "code",
   "execution_count": 8,
   "id": "67d78690",
   "metadata": {},
   "outputs": [],
   "source": [
    "from src.utils.strands_sdk_utils import strands_utils\n",
    "from src.prompts.template import apply_prompt_template"
   ]
  },
  {
   "cell_type": "code",
   "execution_count": 9,
   "id": "8631bfde",
   "metadata": {},
   "outputs": [],
   "source": [
    "agent = strands_utils.get_agent(\n",
    "    agent_name=agent_name,\n",
    "    system_prompts=apply_prompt_template(prompt_name=agent_name, prompt_context={\"AGENT_NAME\": agent_name}),\n",
    "    agent_type=\"claude-sonnet-3-7\", # claude-sonnet-3-5-v-2, claude-sonnet-3-7\n",
    "    enable_reasoning=False,\n",
    "    prompt_cache_info=(False, None), #(False, None), (True, \"default\")\n",
    "    streaming=False,\n",
    ")\n",
    "\n",
    "#system_prompts=apply_prompt_template(prompt_name=agent_name, prompt_context={\"AGENT_NAME\": agent_name})\n",
    "#print (f'System prompt: \\n{system_prompts}')"
   ]
  },
  {
   "cell_type": "markdown",
   "id": "b65382b9",
   "metadata": {},
   "source": [
    "## 4. Invocation"
   ]
  },
  {
   "cell_type": "markdown",
   "id": "3efda5d8",
   "metadata": {},
   "source": [
    "### 4.1 기본 에이전트 호출 (without streaming)\n",
    "\n",
    "> **🎯 목적**: 생성된 에이전트와의 첫 번째 대화를 테스트하며 응답 수집 방식을 학습합니다.\n",
    "\n",
    "| 처리 단계 | 방법 | 설명 |\n",
    "|----------|------|------|\n",
    "| **📨 메시지 전송** | `process_streaming_response_yield()` | 비동기 스트리밍 응답 처리 |\n",
    "| **🔄 응답 수집** | `event.get(\"text_chunk\")` | 스트리밍 텍스트 조각들을 수집 |\n",
    "| **📋 결과 출력** | `full_text` 변수 | 완성된 전체 응답만 최종 출력 |\n",
    "\n",
    "🔗 **참조**: [`process_streaming_response_yield`](../src/utils/strands_sdk_utils.py#L187-L239)\n",
    "\n",
    "#### 📤 스트리밍 변환 결과 예시\n",
    "**\"안녕하세요\" 응답의 스트리밍 과정**\n",
    "\n",
    "```python\n",
    "# 스트림 1:\n",
    "{\"data\": \"안녕\"} → {\n",
    "    \"timestamp\": \"2024-01-15T10:30:00.123456\",\n",
    "    \"session_id\": \"session-1\", \n",
    "    \"agent_name\": \"toy_agent\",\n",
    "    \"type\": \"agent_text_stream\",\n",
    "    \"event_type\": \"text_chunk\", \n",
    "    \"data\": \"안녕\"\n",
    "}\n",
    "\n",
    "# 스트림 2:\n",
    "{\"data\": \"하세요\"} → {\n",
    "    \"timestamp\": \"2024-01-15T10:30:00.145678\",\n",
    "    \"session_id\": \"session-1\",\n",
    "    \"agent_name\": \"toy_agent\", \n",
    "    \"type\": \"agent_text_stream\",\n",
    "    \"event_type\": \"text_chunk\",\n",
    "    \"data\": \"하세요\"\n",
    "}\n",
    "```\n",
    "\n",
    "**핵심**: 각 토큰이 개별 이벤트로 변환되어 실시간 스트리밍이 가능하며, 타임스탬프로 순서를 보장합니다."
   ]
  },
  {
   "cell_type": "code",
   "execution_count": 12,
   "id": "b83889c0",
   "metadata": {},
   "outputs": [
    {
     "name": "stdout",
     "output_type": "stream",
     "text": [
      "\u001b[97m안녕하세요! 만나서 반갑습니다. Strands Agents SDK를 공부하고 계시는군요, 정말 흥미로운 주제입니다!\n",
      "\n",
      "Strands Agents SDK는 AWS Bedrock에서 제공하는 에이전트 개발 도구로, 대규모 언어 모델(LLM)을 활용하여 다양한 도구와 상호작용할 수 있는 AI 에이전트를 만들 수 있게 해주죠.\n",
      "\n",
      "공부하시면서 특별히 알고 싶은 부분이나 도움이 필요한 부분이 있으신가요? Python 코드 예제를 실행해보거나, 특정 기능에 대해 더 자세히 알아보고 싶으시다면 말씀해 주세요. 도움을 드릴 수 있어 기쁩니다!\u001b[0mNone\n"
     ]
    }
   ],
   "source": [
    "user_input = \"안녕 만나서 반가워. 나는 지금 Strands Agents SDK 공부중이야.\"\n",
    "\n",
    "full_text = \"\"\n",
    "async for event in strands_utils.process_streaming_response_yield(\n",
    "    agent=agent,\n",
    "    message=user_input,\n",
    "    agent_name=agent_name,\n",
    "    source=agent_name\n",
    "):\n",
    "    strands_utils.process_event_for_display(event)"
   ]
  },
  {
   "cell_type": "markdown",
   "id": "dbe823d6",
   "metadata": {},
   "source": [
    "### 4.2 실시간 스트리밍 응답 테스트\n",
    "\n",
    "> **🎯 목적**: 실시간으로 응답이 생성되는 과정을 시각적으로 확인하며 스트리밍의 장점을 체험합니다.\n",
    "\n",
    "| 처리 방식 | 함수 | 효과 |\n",
    "|----------|------|------|\n",
    "| **🎬 실시간 출력** | `process_event_for_display()` | 텍스트가 타이핑되는 것처럼 실시간 표시 |\n",
    "| **📊 이벤트 분석** | 이벤트 타입별 처리 | 텍스트, 도구 사용 등 다양한 이벤트 구분 |\n",
    "| **💾 응답 수집** | `full_text` 누적 | 최종 완성된 응답도 별도 저장 |\n",
    "\n",
    "🔗 **참조**: [`process_event_for_display`](../src/utils/strands_sdk_utils.py#L333-L379)\n",
    "\n",
    "💡 **Tip**: 텍스트가 실시간으로 나타나는 효과를 구현할 수 있습니다!"
   ]
  },
  {
   "cell_type": "code",
   "execution_count": 16,
   "id": "4637d1ca",
   "metadata": {},
   "outputs": [],
   "source": [
    "agent.model.config[\"streaming\"] = True"
   ]
  },
  {
   "cell_type": "code",
   "execution_count": 17,
   "id": "cdba4019",
   "metadata": {},
   "outputs": [
    {
     "name": "stdout",
     "output_type": "stream",
     "text": [
      "\u001b[97mStrands\u001b[0m\u001b[97m Agents SDK의 \u001b[0m\u001b[97m주요 장\u001b[0m\u001b[97m점은 다\u001b[0m\u001b[97m음과 같\u001b[0m\u001b[97m습니다:\u001b[0m\u001b[97m\n",
      "\n",
      "1. **\u001b[0m\u001b[97m간편한 \u001b[0m\u001b[97m에이전트\u001b[0m\u001b[97m 개발**:\u001b[0m\u001b[97m 복잡\u001b[0m\u001b[97m한 AI \u001b[0m\u001b[97m에이전트\u001b[0m\u001b[97m를 \u001b[0m\u001b[97m쉽게 구\u001b[0m\u001b[97m축할 수\u001b[0m\u001b[97m 있는 \u001b[0m\u001b[97m프레임워\u001b[0m\u001b[97m크를 제\u001b[0m\u001b[97m공합니다\u001b[0m\u001b[97m. 개발\u001b[0m\u001b[97m자는 기\u001b[0m\u001b[97m본 LL\u001b[0m\u001b[97mM 통합\u001b[0m\u001b[97m 작업보\u001b[0m\u001b[97m다 비\u001b[0m\u001b[97m즈니스 \u001b[0m\u001b[97m로직에 \u001b[0m\u001b[97m집중할 \u001b[0m\u001b[97m수 있습\u001b[0m\u001b[97m니다.\u001b[0m\u001b[97m\n",
      "\n",
      "2. **도\u001b[0m\u001b[97m구 통합\u001b[0m\u001b[97m 용이성\u001b[0m\u001b[97m**: 다양\u001b[0m\u001b[97m한 외부\u001b[0m\u001b[97m 도구,\u001b[0m\u001b[97m API 및 \u001b[0m\u001b[97m데이터 \u001b[0m\u001b[97m소스를 \u001b[0m\u001b[97m쉽게\u001b[0m\u001b[97m 연결할\u001b[0m\u001b[97m 수 있\u001b[0m\u001b[97m어 에이\u001b[0m\u001b[97m전트의 \u001b[0m\u001b[97m기능을 \u001b[0m\u001b[97m확장할 \u001b[0m\u001b[97m수 있습\u001b[0m\u001b[97m니다.\u001b[0m\u001b[97m\n",
      "\n",
      "3. **AWS\u001b[0m\u001b[97m Bedrock \u001b[0m\u001b[97m통합**: AWS\u001b[0m\u001b[97m의 강력\u001b[0m\u001b[97m한 LL\u001b[0m\u001b[97mM 서비\u001b[0m\u001b[97m스인 \u001b[0m\u001b[97mBedrock과 \u001b[0m\u001b[97m원활하게\u001b[0m\u001b[97m 통합되\u001b[0m\u001b[97m어 Claude,\u001b[0m\u001b[97m Anthropic \u001b[0m\u001b[97m등 다양\u001b[0m\u001b[97m한 모델\u001b[0m\u001b[97m을 활용\u001b[0m\u001b[97m할 수 \u001b[0m\u001b[97m있습니다\u001b[0m\u001b[97m.\n",
      "\n",
      "4.\u001b[0m\u001b[97m **유연한\u001b[0m\u001b[97m 대화 \u001b[0m\u001b[97m관리**: \u001b[0m\u001b[97m복잡한\u001b[0m\u001b[97m 대화 \u001b[0m\u001b[97m흐름과\u001b[0m\u001b[97m 컨\u001b[0m\u001b[97m텍스트 \u001b[0m\u001b[97m관리를 \u001b[0m\u001b[97m효과적으\u001b[0m\u001b[97m로 처리\u001b[0m\u001b[97m할 수 \u001b[0m\u001b[97m있습니다\u001b[0m\u001b[97m.\n",
      "\n",
      "5.\u001b[0m\u001b[97m **확장성\u001b[0m\u001b[97m**: 간단\u001b[0m\u001b[97m한 챗\u001b[0m\u001b[97m봇부터\u001b[0m\u001b[97m 복잡\u001b[0m\u001b[97m한 업무\u001b[0m\u001b[97m 자동화\u001b[0m\u001b[97m 시스템\u001b[0m\u001b[97m까지 다\u001b[0m\u001b[97m양한 규\u001b[0m\u001b[97m모의 애\u001b[0m\u001b[97m플리케이\u001b[0m\u001b[97m션을 구\u001b[0m\u001b[97m축할 수\u001b[0m\u001b[97m 있습니\u001b[0m\u001b[97m다.\n",
      "\n",
      "6\u001b[0m\u001b[97m. **개발\u001b[0m\u001b[97m자 친화\u001b[0m\u001b[97m적 API**:\u001b[0m\u001b[97m Python 기반\u001b[0m\u001b[97m의 직관\u001b[0m\u001b[97m적인 API\u001b[0m\u001b[97m를 제공\u001b[0m\u001b[97m하여 개\u001b[0m\u001b[97m발 과정\u001b[0m\u001b[97m을 단순\u001b[0m\u001b[97m화합니다\u001b[0m\u001b[97m.\n",
      "\n",
      "7.\u001b[0m\u001b[97m **맞\u001b[0m\u001b[97m춤형 에\u001b[0m\u001b[97m이전트 \u001b[0m\u001b[97m행동**: \u001b[0m\u001b[97m에이전트\u001b[0m\u001b[97m의 행동\u001b[0m\u001b[97m, 응답\u001b[0m\u001b[97m 스타일\u001b[0m\u001b[97m, 의사\u001b[0m\u001b[97m 결정 \u001b[0m\u001b[97m과정을 \u001b[0m\u001b[97m세밀하\u001b[0m\u001b[97m게 제어\u001b[0m\u001b[97m할 수 \u001b[0m\u001b[97m있습니다\u001b[0m\u001b[97m.\n",
      "\n",
      "8.\u001b[0m\u001b[97m **보안 \u001b[0m\u001b[97m및 규정\u001b[0m\u001b[97m 준수**:\u001b[0m\u001b[97m AWS의 보\u001b[0m\u001b[97m안 인프\u001b[0m\u001b[97m라를 활\u001b[0m\u001b[97m용하여 \u001b[0m\u001b[97m엔터프\u001b[0m\u001b[97m라이즈\u001b[0m\u001b[97m급 보안\u001b[0m\u001b[97m을 제공\u001b[0m\u001b[97m합니다.\u001b[0m\u001b[97m\n",
      "\n",
      "Strands\u001b[0m\u001b[97m Agents SDK를\u001b[0m\u001b[97m 사용하\u001b[0m\u001b[97m면 개발\u001b[0m\u001b[97m자는 AI\u001b[0m\u001b[97m 에이전\u001b[0m\u001b[97m트의 기\u001b[0m\u001b[97m본 구조\u001b[0m\u001b[97m보다는 \u001b[0m\u001b[97m비즈니\u001b[0m\u001b[97m스 가치\u001b[0m\u001b[97m 창출에\u001b[0m\u001b[97m 더 집\u001b[0m\u001b[97m중할 수\u001b[0m\u001b[97m 있어 \u001b[0m\u001b[97m개발 시\u001b[0m\u001b[97m간을 단\u001b[0m\u001b[97m축하고 \u001b[0m\u001b[97m더 강력\u001b[0m\u001b[97m한 AI \u001b[0m\u001b[97m솔루션\u001b[0m\u001b[97m을 구축\u001b[0m\u001b[97m할 수 \u001b[0m\u001b[97m있습니다\u001b[0m\u001b[97m.\u001b[0mNone\n",
      "\n",
      "Response: Strands Agents SDK의 주요 장점은 다음과 같습니다:\n",
      "\n",
      "1. **간편한 에이전트 개발**: 복잡한 AI 에이전트를 쉽게 구축할 수 있는 프레임워크를 제공합니다. 개발자는 기본 LLM 통합 작업보다 비즈니스 로직에 집중할 수 있습니다.\n",
      "\n",
      "2. **도구 통합 용이성**: 다양한 외부 도구, API 및 데이터 소스를 쉽게 연결할 수 있어 에이전트의 기능을 확장할 수 있습니다.\n",
      "\n",
      "3. **AWS Bedrock 통합**: AWS의 강력한 LLM 서비스인 Bedrock과 원활하게 통합되어 Claude, Anthropic 등 다양한 모델을 활용할 수 있습니다.\n",
      "\n",
      "4. **유연한 대화 관리**: 복잡한 대화 흐름과 컨텍스트 관리를 효과적으로 처리할 수 있습니다.\n",
      "\n",
      "5. **확장성**: 간단한 챗봇부터 복잡한 업무 자동화 시스템까지 다양한 규모의 애플리케이션을 구축할 수 있습니다.\n",
      "\n",
      "6. **개발자 친화적 API**: Python 기반의 직관적인 API를 제공하여 개발 과정을 단순화합니다.\n",
      "\n",
      "7. **맞춤형 에이전트 행동**: 에이전트의 행동, 응답 스타일, 의사 결정 과정을 세밀하게 제어할 수 있습니다.\n",
      "\n",
      "8. **보안 및 규정 준수**: AWS의 보안 인프라를 활용하여 엔터프라이즈급 보안을 제공합니다.\n",
      "\n",
      "Strands Agents SDK를 사용하면 개발자는 AI 에이전트의 기본 구조보다는 비즈니스 가치 창출에 더 집중할 수 있어 개발 시간을 단축하고 더 강력한 AI 솔루션을 구축할 수 있습니다.\n"
     ]
    }
   ],
   "source": [
    "message = \"Strands Agents SDK의 장점은 뭐야?\"\n",
    "\n",
    "full_text = \"\"\n",
    "async for event in strands_utils.process_streaming_response_yield(\n",
    "    agent=agent,\n",
    "    message=message,\n",
    "    agent_name=agent_name,\n",
    "    source=agent_name\n",
    "):\n",
    "    strands_utils.process_event_for_display(event)\n",
    "\n",
    "    if event.get(\"event_type\") == \"text_chunk\":\n",
    "        full_text += event.get(\"data\", \"\")\n",
    "    \n",
    "response = {\"text\": full_text}\n",
    "\n",
    "print (f'\\nResponse: {response['text']}')"
   ]
  },
  {
   "cell_type": "markdown",
   "id": "359c30d4",
   "metadata": {},
   "source": [
    "## 5. Tools"
   ]
  },
  {
   "cell_type": "markdown",
   "id": "747da1e3",
   "metadata": {},
   "source": [
    "### 5.1 도구(Tools) 사용을 위한 import\n",
    "\n",
    "> **🎯 목적**: 에이전트가 실제 작업을 수행할 수 있도록 실행 도구들을 준비합니다.\n",
    "\n",
    "| 도구 | 기능 | 사용 사례 |\n",
    "|------|------|-----------|\n",
    "| **🐍 python_repl_tool** | Python 코드 실행 | 데이터 분석, 계산, 시각화 |\n",
    "| **⚡ bash_tool** | 시스템 명령어 실행 | 파일 조작, 시스템 정보 조회 |\n",
    "\n",
    "💡 **Tip**: 도구를 추가하면 에이전트가 단순한 챗봇에서 실제 작업을 수행하는 AI 어시스턴트로 진화합니다!"
   ]
  },
  {
   "cell_type": "code",
   "execution_count": 16,
   "id": "3e12e658",
   "metadata": {},
   "outputs": [],
   "source": [
    "from src.tools import python_repl_tool, bash_tool"
   ]
  },
  {
   "cell_type": "code",
   "execution_count": 17,
   "id": "74af9e0c",
   "metadata": {},
   "outputs": [
    {
     "name": "stderr",
     "output_type": "stream",
     "text": [
      "INFO:src.utils.strands_sdk_utils:\u001b[92mTOY_AGENT - Prompt Cache Disabled\u001b[0m\n"
     ]
    }
   ],
   "source": [
    "agent = strands_utils.get_agent(\n",
    "    agent_name=agent_name,\n",
    "    system_prompts=apply_prompt_template(prompt_name=agent_name, prompt_context={\"AGENT_NAME\": agent_name}),\n",
    "    agent_type=\"claude-sonnet-3-7\", # claude-sonnet-3-5-v-2, claude-sonnet-3-7\n",
    "    enable_reasoning=False,\n",
    "    prompt_cache_info=(False, None), #(False, None), (True, \"default\")\n",
    "    streaming=True,\n",
    "    tools=[python_repl_tool, bash_tool]\n",
    ")"
   ]
  },
  {
   "cell_type": "markdown",
   "id": "cf9d9c89",
   "metadata": {},
   "source": [
    "### 5.2 Bash 도구 사용 테스트\n",
    "\n",
    "> **🎯 목적**: 파일 시스템 탐색을 통해 bash_tool의 동작을 확인합니다.\n",
    "\n",
    "| 작업 유형 | 사용 도구 | 실행 명령어 |\n",
    "|----------|----------|-------------|\n",
    "| **파일/디렉토리 조회** | `bash_tool` | `ls`, `find`, `pwd` |\n",
    "| **시스템 정보 확인** | `bash_tool` | `df`, `ps`, `whoami` |\n",
    "| **파일 조작** | `bash_tool` | `cp`, `mv`, `rm`, `mkdir` |\n",
    "\n",
    "#### 📋 테스트 내용\n",
    "- **작업**: `../src/prompts` 디렉토리 내용 확인\n",
    "- **도구 선택 조건**: 파일 시스템 탐색 요청 시 자동으로 bash_tool 선택됨\n",
    "- **예상 명령어**: `ls ../src/prompts`\n",
    "\n",
    "💡 **Tip**: 에이전트가 \"디렉토리 조회\" 요청을 bash 명령어로 자동 변환합니다!"
   ]
  },
  {
   "cell_type": "code",
   "execution_count": 18,
   "id": "9d4766a7",
   "metadata": {},
   "outputs": [
    {
     "name": "stdout",
     "output_type": "stream",
     "text": [
      "\u001b[97m네\u001b[0m\u001b[97m, \"../src/prompts\u001b[0m\u001b[97m\" 디\u001b[0m\u001b[97m렉토리를\u001b[0m\u001b[97m 조회해\u001b[0m\u001b[97m 드리\u001b[0m\u001b[97m겠습니다\u001b[0m\u001b[97m. Bash\u001b[0m\u001b[97m 명령어\u001b[0m\u001b[97m를 사용\u001b[0m\u001b[97m하여 해\u001b[0m\u001b[97m당 디\u001b[0m\u001b[97m렉토리의\u001b[0m\u001b[97m 내용을\u001b[0m\u001b[97m 확인하\u001b[0m\u001b[97m겠습니\u001b[0m\u001b[97m다.\u001b[0m"
     ]
    },
    {
     "name": "stderr",
     "output_type": "stream",
     "text": [
      "INFO:bash_tool:\n",
      "\u001b[92mExecuting Bash: ls -la ../src/prompts\u001b[0m\n"
     ]
    },
    {
     "name": "stdout",
     "output_type": "stream",
     "text": [
      "\n",
      "\n",
      "[TOOL RESULT - bash_tool]\n",
      "\u001b[93mCMD:\n",
      "```bash\n",
      "ls -la ../src/prompts\n",
      "```\n",
      "\u001b[0m\u001b[93mOutput:\n",
      "total 176\n",
      "drwxrwxr-x 3 ubuntu ubuntu  4096 Oct  1 13:16 .\n",
      "drwxrwxr-x 8 ubuntu ubuntu  4096 Oct  1 08:14 ..\n",
      "-rw-rw-r-- 1 ubuntu ubuntu     0 Oct  1 08:09 __init__.py\n",
      "drwxrwxr-x 2 ubuntu ubuntu  4096 Oct  1 08:14 __pycache__\n",
      "-rw-rw-r-- 1 ubuntu ubuntu 34205 Oct  1 08:09 coder copy.md\n",
      "-rw-rw-r-- 1 ubuntu ubuntu 33739 Oct  1 08:09 coder.md\n",
      "-rw-rw-r-- 1 ubuntu ubuntu  1241 Oct  1 08:09 coordinator.md\n",
      "-rw-rw-r-- 1 ubuntu ubuntu 12782 Oct  1 13:16 planner.md\n",
      "-rw-rw-r-- 1 ubuntu ubuntu 15452 Oct  1 08:09 reporter.md\n",
      "-rw-rw-r-- 1 ubuntu ubuntu  3754 Oct  1 08:09 supervisor.md\n",
      "-rw-rw-r-- 1 ubuntu ubuntu   457 Oct  1 08:09 template.py\n",
      "-rw-rw-r-- 1 ubuntu ubuntu  2119 Oct  2 04:23 toy_agent.md\n",
      "-rw-rw-r-- 1 ubuntu ubuntu  2283 Oct  1 08:09 tracker.md\n",
      "-rw-rw-r-- 1 ubuntu ubuntu 39294 Oct  1 08:09 validator.md\n",
      "\n",
      "\n",
      "\u001b[0m\u001b[97m\"\u001b[0m\u001b[97m../src/prompts\u001b[0m\u001b[97m\" 디렉토리에\u001b[0m\u001b[97m는 다\u001b[0m\u001b[97m음과 같\u001b[0m\u001b[97m은 파일\u001b[0m\u001b[97m들이 있습니다:\u001b[0m\u001b[97m\n",
      "\n",
      "1. `\u001b[0m\u001b[97m__init__.py`\u001b[0m\u001b[97m - \u001b[0m\u001b[97m빈 파일 \u001b[0m\u001b[97m(Python 패키지 표\u001b[0m\u001b[97m시용)\n",
      "2.\u001b[0m\u001b[97m `__pycache__\u001b[0m\u001b[97m` - 디렉토리\u001b[0m\u001b[97m (Python \u001b[0m\u001b[97m컴파일된 바\u001b[0m\u001b[97m이트코\u001b[0m\u001b[97m드 파일\u001b[0m\u001b[97m 저장)\u001b[0m\u001b[97m\n",
      "3. `coder copy.\u001b[0m\u001b[97mmd` - coder.\u001b[0m\u001b[97mmd의 복사본\u001b[0m\u001b[97m으로 보이\u001b[0m\u001b[97m는 파일\n",
      "4. `\u001b[0m\u001b[97mcoder.md` - \u001b[0m\u001b[97m코더 관련 프\u001b[0m\u001b[97m롬\u001b[0m\u001b[97m프트 파\u001b[0m\u001b[97m일\n",
      "5. `coordinator.m\u001b[0m\u001b[97md` - 코디네이터\u001b[0m\u001b[97m 관련 프롬프\u001b[0m\u001b[97m트 파일\n",
      "6. `\u001b[0m\u001b[97mplanner.m\u001b[0m\u001b[97md` - 플\u001b[0m\u001b[97m래너 관\u001b[0m\u001b[97m련 프\u001b[0m\u001b[97m롬프트 \u001b[0m\u001b[97m파일\n",
      "7. `reporter.\u001b[0m\u001b[97mmd` - 리포터 \u001b[0m\u001b[97m관련 프\u001b[0m\u001b[97m롬프트 파일\u001b[0m\u001b[97m\n",
      "8. `supervisor\u001b[0m\u001b[97m.md` -\u001b[0m\u001b[97m 수퍼바이저\u001b[0m\u001b[97m 관련 \u001b[0m\u001b[97m프롬프트 파일\u001b[0m\u001b[97m\n",
      "9. `\u001b[0m\u001b[97mtemplate.py`\u001b[0m\u001b[97m - 템플\u001b[0m\u001b[97m릿 Python\u001b[0m\u001b[97m 파일\u001b[0m\u001b[97m\n",
      "10. `toy\u001b[0m\u001b[97m_agent.m\u001b[0m\u001b[97md` - 토이 에이\u001b[0m\u001b[97m전트 관\u001b[0m\u001b[97m련 프롬프트 \u001b[0m\u001b[97m파일 (\u001b[0m\u001b[97m가장 최\u001b[0m\u001b[97m근에 수정\u001b[0m\u001b[97m됨 - 오\u001b[0m\u001b[97m늘 04:23)\u001b[0m\u001b[97m\n",
      "11. `tracker.md` -\u001b[0m\u001b[97m 트래커\u001b[0m\u001b[97m 관련 프롬프\u001b[0m\u001b[97m트 파일\n",
      "12. `\u001b[0m\u001b[97mvalidator.md` - \u001b[0m\u001b[97m밸리데이\u001b[0m\u001b[97m터 관련\u001b[0m\u001b[97m 프롬\u001b[0m\u001b[97m프트 파\u001b[0m\u001b[97m일\n",
      "\n",
      "이 디\u001b[0m\u001b[97m렉토리\u001b[0m\u001b[97m는 다\u001b[0m\u001b[97m양한 AI\u001b[0m\u001b[97m 에이전트 \u001b[0m\u001b[97m역할에\u001b[0m\u001b[97m 대한 \u001b[0m\u001b[97m프롬프트\u001b[0m\u001b[97m 파일들\u001b[0m\u001b[97m을 포함\u001b[0m\u001b[97m하고 있\u001b[0m\u001b[97m는 것으로\u001b[0m\u001b[97m 보입니\u001b[0m\u001b[97m다.\u001b[0m"
     ]
    }
   ],
   "source": [
    "message = \"../src/prompts 디렉토리 조회해 주세요\"\n",
    "\n",
    "full_text = \"\"\n",
    "async for event in strands_utils.process_streaming_response_yield(\n",
    "    agent=agent,\n",
    "    message=message,\n",
    "    agent_name=agent_name,\n",
    "    source=agent_name\n",
    "):\n",
    "    #print (event)\n",
    "    strands_utils.process_event_for_display(event)"
   ]
  },
  {
   "cell_type": "markdown",
   "id": "4cbeee40",
   "metadata": {},
   "source": [
    "### 5.3 Python 도구 사용 테스트\n",
    "\n",
    "> **🎯 목적**: Python 코드 실행을 통해 python_repl_tool의 동작을 확인합니다.\n",
    "\n",
    "| 작업 유형 | 사용 도구 | 실행 예시 |\n",
    "|----------|----------|-----------|\n",
    "| **계산 및 연산** | `python_repl_tool` | `2 + 2`, `math.sqrt(16)` |\n",
    "| **데이터 처리** | `python_repl_tool` | `pandas.read_csv()`, `numpy.array()` |\n",
    "| **코드 실행** | `python_repl_tool` | `print()`, `for loop`, 함수 정의 |\n",
    "\n",
    "#### 📋 테스트 내용\n",
    "- **작업**: \"Hello world\" 출력하는 Python 코드 작성 및 실행\n",
    "- **도구 선택 조건**: Python 코드 실행 요청 시 자동으로 python_repl_tool 선택됨\n",
    "- **예상 코드**: `print(\"Hello world\")`\n",
    "\n",
    "💡 **Tip**: 에이전트가 자연어 요청을 Python 코드로 변환하고 직접 실행합니다!"
   ]
  },
  {
   "cell_type": "code",
   "execution_count": 19,
   "id": "3378f134",
   "metadata": {},
   "outputs": [
    {
     "name": "stdout",
     "output_type": "stream",
     "text": [
      "\u001b[97m안\u001b[0m\u001b[97m녕하세\u001b[0m\u001b[97m요!\u001b[0m\u001b[97m \"\u001b[0m\u001b[97mHello world\"\u001b[0m\u001b[97m를 출\u001b[0m\u001b[97m력하는 \u001b[0m\u001b[97m파\u001b[0m\u001b[97m이썬 \u001b[0m\u001b[97m코드를 \u001b[0m\u001b[97m작성하고\u001b[0m\u001b[97m 실행해\u001b[0m\u001b[97m \u001b[0m\u001b[97m드\u001b[0m\u001b[97m리겠습\u001b[0m\u001b[97m니다.\u001b[0m"
     ]
    },
    {
     "name": "stderr",
     "output_type": "stream",
     "text": [
      "INFO:python_repl_tool:\u001b[92m===== Executing Python code =====\u001b[0m\n",
      "INFO:python_repl_tool:\u001b[92m===== Code execution successful =====\u001b[0m\n"
     ]
    },
    {
     "name": "stdout",
     "output_type": "stream",
     "text": [
      "\n",
      "\n",
      "[TOOL RESULT - python_repl_tool]\n",
      "\u001b[93mStatus: Successfully executed:\n",
      "\n",
      "\u001b[0m\u001b[93mCode:\n",
      "```python\n",
      "# Hello world를 출력하는 간단한 파이썬 코드\n",
      "print(\"Hello world\")\n",
      "```\n",
      "\u001b[0m\u001b[93mOutput:\n",
      "Hello world\n",
      "\n",
      "\u001b[0m\u001b[97m파\u001b[0m\u001b[97m이썬 \u001b[0m\u001b[97m코드가\u001b[0m\u001b[97m 성공적으로\u001b[0m\u001b[97m 실행되\u001b[0m\u001b[97m었습니다\u001b[0m\u001b[97m! 결\u001b[0m\u001b[97m과로 \"Hello worl\u001b[0m\u001b[97md\"가 출\u001b[0m\u001b[97m력되었습\u001b[0m\u001b[97m니다.\n",
      "\n",
      "이\u001b[0m\u001b[97m 코드는 \u001b[0m\u001b[97m매우 간단합\u001b[0m\u001b[97m니다:\u001b[0m\u001b[97m\n",
      "```python\n",
      "#\u001b[0m\u001b[97m Hello world를 출력하는\u001b[0m\u001b[97m 간단한\u001b[0m\u001b[97m 파이\u001b[0m\u001b[97m썬 코드\u001b[0m\u001b[97m\n",
      "print(\"Hello\u001b[0m\u001b[97m world\")\n",
      "```\u001b[0m\u001b[97m\n",
      "\n",
      "`\u001b[0m\u001b[97mprint()\u001b[0m\u001b[97m` 함수\u001b[0m\u001b[97m는\u001b[0m\u001b[97m 파\u001b[0m\u001b[97m이썬에\u001b[0m\u001b[97m서 \u001b[0m\u001b[97m콘솔에\u001b[0m\u001b[97m \u001b[0m\u001b[97m텍스트를\u001b[0m\u001b[97m 출력하\u001b[0m\u001b[97m는 기\u001b[0m\u001b[97m본 함수\u001b[0m\u001b[97m입니다.\u001b[0m\u001b[97m 따\u001b[0m\u001b[97m옴표 안\u001b[0m\u001b[97m에 있\u001b[0m\u001b[97m는 \u001b[0m\u001b[97m텍스트(\"\u001b[0m\u001b[97mHello world\")가\u001b[0m\u001b[97m 화\u001b[0m\u001b[97m면에 표\u001b[0m\u001b[97m시됩니\u001b[0m\u001b[97m다.\u001b[0m"
     ]
    }
   ],
   "source": [
    "message = \"Hello world 를 프린팅하는 파이썬 코드를 작성하고 실행시켜 줄래?\"\n",
    "\n",
    "full_text = \"\"\n",
    "async for event in strands_utils.process_streaming_response_yield(\n",
    "    agent=agent,\n",
    "    message=message,\n",
    "    agent_name=agent_name,\n",
    "    source=agent_name\n",
    "):\n",
    "    strands_utils.process_event_for_display(event)"
   ]
  },
  {
   "cell_type": "markdown",
   "id": "d0f0e7c5",
   "metadata": {},
   "source": [
    "## 6. Built-in utility"
   ]
  },
  {
   "cell_type": "code",
   "execution_count": 21,
   "id": "8e94a336",
   "metadata": {},
   "outputs": [],
   "source": [
    "from pprint import pprint"
   ]
  },
  {
   "cell_type": "markdown",
   "id": "430c7d2c",
   "metadata": {},
   "source": [
    "### 6.1 Check agent"
   ]
  },
  {
   "cell_type": "markdown",
   "id": "eef31341",
   "metadata": {},
   "source": [
    "#### 6.1.1 에이전트 시스템 프롬프트 확인\n",
    "\n",
    "> **🎯 목적**: 생성된 에이전트의 시스템 프롬프트를 확인합니다.\n",
    "\n",
    "| 확인 항목 | 내용 |\n",
    "|----------|------|\n",
    "| **에이전트 지침과 역할** | 에이전트에 설정된 역할과 행동 지침 검토 |\n",
    "| **템플릿 적용 여부** | 템플릿이 올바르게 적용되었는지 확인 |\n",
    "\n",
    "💡 **Tip**: 시스템 프롬프트는 에이전트의 행동을 결정하는 핵심 설정입니다!"
   ]
  },
  {
   "cell_type": "markdown",
   "id": "35c5a15b",
   "metadata": {},
   "source": [
    "**System prompt**"
   ]
  },
  {
   "cell_type": "code",
   "execution_count": 22,
   "id": "29f6073b",
   "metadata": {},
   "outputs": [
    {
     "name": "stdout",
     "output_type": "stream",
     "text": [
      "('\\n'\n",
      " '---\\n'\n",
      " 'CURRENT_TIME: Thu Oct 02 2025 04:24:04 \\n'\n",
      " 'AGENT_NAME: toy_agent\\n'\n",
      " '---\\n'\n",
      " '\\n'\n",
      " 'You are Bedrock-Manus, a friendly AI assistant developed by AWS AIML '\n",
      " 'Specialist SA Dongjin Jang.\\n'\n",
      " 'You specialize in handling greetings, small talk, and knowledge-based '\n",
      " 'question answering using available tools.\\n'\n",
      " '\\n'\n",
      " '## Available Tools\\n'\n",
      " '\\n'\n",
      " 'You have access to the following tools that you should use when '\n",
      " 'appropriate:\\n'\n",
      " '\\n'\n",
      " '### 1. Python REPL Tool (python_repl_tool)\\n'\n",
      " '**When to use**: Use this tool when users need to execute Python code or '\n",
      " 'perform data analysis:\\n'\n",
      " '- Running Python scripts or code snippets\\n'\n",
      " '- Data analysis and calculations\\n'\n",
      " '- Testing code functionality\\n'\n",
      " '- Mathematical computations\\n'\n",
      " '\\n'\n",
      " '**What it does**: Executes Python code in a REPL environment and returns the '\n",
      " 'output\\n'\n",
      " '\\n'\n",
      " '**Input**: Python code string\\n'\n",
      " '\\n'\n",
      " '### 2. Bash Tool (bash_tool) \\n'\n",
      " '**When to use**: Use this tool when users need to execute system commands or '\n",
      " 'perform file operations:\\n'\n",
      " '- Running shell commands\\n'\n",
      " '- File system operations (ls, mkdir, etc.)\\n'\n",
      " '- System information queries\\n'\n",
      " '- Development tasks requiring command line operations\\n'\n",
      " '\\n'\n",
      " '**What it does**: Executes bash commands and returns the output\\n'\n",
      " '\\n'\n",
      " '**Input**: A bash command string\\n'\n",
      " '\\n'\n",
      " '## Tool Usage Guidelines\\n'\n",
      " '\\n'\n",
      " \"1. **Assess the user's request** - Determine if the question requires tool \"\n",
      " 'usage\\n'\n",
      " '2. **Choose the appropriate tool** - Select based on the type of information '\n",
      " 'needed\\n'\n",
      " '3. **Use RAG tool for knowledge queries** - When the user asks about topics '\n",
      " 'that might be in your knowledge base\\n'\n",
      " '4. **Use Python REPL for code execution** - When the user needs to run '\n",
      " 'Python code or perform calculations\\n'\n",
      " '5. **Use Bash tool for system operations** - When the user needs to interact '\n",
      " 'with the system\\n'\n",
      " '6. **Provide helpful responses** - Always explain the results in a '\n",
      " 'user-friendly way\\n'\n",
      " '\\n'\n",
      " '## Response Style\\n'\n",
      " '\\n'\n",
      " '- Be friendly and conversational\\n'\n",
      " '- Provide clear, helpful answers\\n'\n",
      " \"- When using tools, explain what you're doing and why\\n\"\n",
      " \"- If a tool doesn't provide the needed information, acknowledge this and \"\n",
      " 'offer alternatives\\n'\n",
      " '- Always prioritize user experience and clarity\\n'\n",
      " '\\n'\n",
      " 'Remember to use tools proactively when they can help answer user questions '\n",
      " 'more accurately or completely.\\n')\n"
     ]
    }
   ],
   "source": [
    "system_prompt = agent.system_prompt\n",
    "pprint(system_prompt)"
   ]
  },
  {
   "cell_type": "markdown",
   "id": "cf0f56bb",
   "metadata": {},
   "source": [
    "#### 6.1.2 에이전트 대화 기록 확인\n",
    "\n",
    "> **🎯 목적**: 에이전트의 메시지 히스토리를 확인합니다.\n",
    "\n",
    "| 포함 내용 | 설명 |\n",
    "|----------|------|\n",
    "| **모든 대화 내용** | 지금까지의 대화 내용과 도구 사용 기록 |\n",
    "| **다양한 메시지 타입** | 사용자 메시지, 에이전트 응답, 도구 호출 결과 등 |\n",
    "\n",
    "💡 **Tip**: 메시지 히스토리를 통해 에이전트가 어떤 과정을 거쳐 응답했는지 추적할 수 있습니다!"
   ]
  },
  {
   "cell_type": "markdown",
   "id": "56bfb0e8",
   "metadata": {},
   "source": [
    "**Message history**"
   ]
  },
  {
   "cell_type": "code",
   "execution_count": 23,
   "id": "123c6225",
   "metadata": {},
   "outputs": [
    {
     "name": "stdout",
     "output_type": "stream",
     "text": [
      "[{'content': [{'text': '../src/prompts 디렉토리 조회해 주세요'}], 'role': 'user'},\n",
      " {'content': [{'text': '네, \"../src/prompts\" 디렉토리를 조회해 드리겠습니다. Bash 명령어를 사용하여 '\n",
      "                       '해당 디렉토리의 내용을 확인하겠습니다.'},\n",
      "              {'toolUse': {'input': {'cmd': 'ls -la ../src/prompts'},\n",
      "                           'name': 'bash_tool',\n",
      "                           'toolUseId': 'tooluse_Vacni6jmRvuFdY4aHJOsoA'}}],\n",
      "  'role': 'assistant'},\n",
      " {'content': [{'toolResult': {'content': [{'text': 'ls -la '\n",
      "                                                   '../src/prompts||total 176\\n'\n",
      "                                                   'drwxrwxr-x 3 ubuntu '\n",
      "                                                   'ubuntu  4096 Oct  1 13:16 '\n",
      "                                                   '.\\n'\n",
      "                                                   'drwxrwxr-x 8 ubuntu '\n",
      "                                                   'ubuntu  4096 Oct  1 08:14 '\n",
      "                                                   '..\\n'\n",
      "                                                   '-rw-rw-r-- 1 ubuntu '\n",
      "                                                   'ubuntu     0 Oct  1 08:09 '\n",
      "                                                   '__init__.py\\n'\n",
      "                                                   'drwxrwxr-x 2 ubuntu '\n",
      "                                                   'ubuntu  4096 Oct  1 08:14 '\n",
      "                                                   '__pycache__\\n'\n",
      "                                                   '-rw-rw-r-- 1 ubuntu ubuntu '\n",
      "                                                   '34205 Oct  1 08:09 coder '\n",
      "                                                   'copy.md\\n'\n",
      "                                                   '-rw-rw-r-- 1 ubuntu ubuntu '\n",
      "                                                   '33739 Oct  1 08:09 '\n",
      "                                                   'coder.md\\n'\n",
      "                                                   '-rw-rw-r-- 1 ubuntu '\n",
      "                                                   'ubuntu  1241 Oct  1 08:09 '\n",
      "                                                   'coordinator.md\\n'\n",
      "                                                   '-rw-rw-r-- 1 ubuntu ubuntu '\n",
      "                                                   '12782 Oct  1 13:16 '\n",
      "                                                   'planner.md\\n'\n",
      "                                                   '-rw-rw-r-- 1 ubuntu ubuntu '\n",
      "                                                   '15452 Oct  1 08:09 '\n",
      "                                                   'reporter.md\\n'\n",
      "                                                   '-rw-rw-r-- 1 ubuntu '\n",
      "                                                   'ubuntu  3754 Oct  1 08:09 '\n",
      "                                                   'supervisor.md\\n'\n",
      "                                                   '-rw-rw-r-- 1 ubuntu '\n",
      "                                                   'ubuntu   457 Oct  1 08:09 '\n",
      "                                                   'template.py\\n'\n",
      "                                                   '-rw-rw-r-- 1 ubuntu '\n",
      "                                                   'ubuntu  2119 Oct  2 04:23 '\n",
      "                                                   'toy_agent.md\\n'\n",
      "                                                   '-rw-rw-r-- 1 ubuntu '\n",
      "                                                   'ubuntu  2283 Oct  1 08:09 '\n",
      "                                                   'tracker.md\\n'\n",
      "                                                   '-rw-rw-r-- 1 ubuntu ubuntu '\n",
      "                                                   '39294 Oct  1 08:09 '\n",
      "                                                   'validator.md\\n'\n",
      "                                                   '\\n'}],\n",
      "                              'status': 'success',\n",
      "                              'toolUseId': 'tooluse_Vacni6jmRvuFdY4aHJOsoA'}}],\n",
      "  'role': 'user'},\n",
      " {'content': [{'text': '\"../src/prompts\" 디렉토리에는 다음과 같은 파일들이 있습니다:\\n'\n",
      "                       '\\n'\n",
      "                       '1. `__init__.py` - 빈 파일 (Python 패키지 표시용)\\n'\n",
      "                       '2. `__pycache__` - 디렉토리 (Python 컴파일된 바이트코드 파일 저장)\\n'\n",
      "                       '3. `coder copy.md` - coder.md의 복사본으로 보이는 파일\\n'\n",
      "                       '4. `coder.md` - 코더 관련 프롬프트 파일\\n'\n",
      "                       '5. `coordinator.md` - 코디네이터 관련 프롬프트 파일\\n'\n",
      "                       '6. `planner.md` - 플래너 관련 프롬프트 파일\\n'\n",
      "                       '7. `reporter.md` - 리포터 관련 프롬프트 파일\\n'\n",
      "                       '8. `supervisor.md` - 수퍼바이저 관련 프롬프트 파일\\n'\n",
      "                       '9. `template.py` - 템플릿 Python 파일\\n'\n",
      "                       '10. `toy_agent.md` - 토이 에이전트 관련 프롬프트 파일 (가장 최근에 수정됨 - '\n",
      "                       '오늘 04:23)\\n'\n",
      "                       '11. `tracker.md` - 트래커 관련 프롬프트 파일\\n'\n",
      "                       '12. `validator.md` - 밸리데이터 관련 프롬프트 파일\\n'\n",
      "                       '\\n'\n",
      "                       '이 디렉토리는 다양한 AI 에이전트 역할에 대한 프롬프트 파일들을 포함하고 있는 것으로 '\n",
      "                       '보입니다.'}],\n",
      "  'role': 'assistant'},\n",
      " {'content': [{'text': 'Hello world 를 프린팅하는 파이썬 코드를 작성하고 실행시켜 줄래?'}],\n",
      "  'role': 'user'},\n",
      " {'content': [{'text': '안녕하세요! \"Hello world\"를 출력하는 파이썬 코드를 작성하고 실행해 드리겠습니다.'},\n",
      "              {'toolUse': {'input': {'code': '# Hello world를 출력하는 간단한 파이썬 코드\\n'\n",
      "                                             'print(\"Hello world\")'},\n",
      "                           'name': 'python_repl_tool',\n",
      "                           'toolUseId': 'tooluse_HAXFNmnLSKO2rjWW4kg_Hg'}}],\n",
      "  'role': 'assistant'},\n",
      " {'content': [{'toolResult': {'content': [{'text': 'Successfully executed:\\n'\n",
      "                                                   '||# Hello world를 출력하는 간단한 '\n",
      "                                                   '파이썬 코드\\n'\n",
      "                                                   'print(\"Hello '\n",
      "                                                   'world\")||Hello world\\n'}],\n",
      "                              'status': 'success',\n",
      "                              'toolUseId': 'tooluse_HAXFNmnLSKO2rjWW4kg_Hg'}}],\n",
      "  'role': 'user'},\n",
      " {'content': [{'text': '파이썬 코드가 성공적으로 실행되었습니다! 결과로 \"Hello world\"가 출력되었습니다.\\n'\n",
      "                       '\\n'\n",
      "                       '이 코드는 매우 간단합니다:\\n'\n",
      "                       '```python\\n'\n",
      "                       '# Hello world를 출력하는 간단한 파이썬 코드\\n'\n",
      "                       'print(\"Hello world\")\\n'\n",
      "                       '```\\n'\n",
      "                       '\\n'\n",
      "                       '`print()` 함수는 파이썬에서 콘솔에 텍스트를 출력하는 기본 함수입니다. 따옴표 안에 있는 '\n",
      "                       '텍스트(\"Hello world\")가 화면에 표시됩니다.'}],\n",
      "  'role': 'assistant'}]\n"
     ]
    }
   ],
   "source": [
    "agent_messages = agent.messages\n",
    "pprint(agent_messages)"
   ]
  },
  {
   "cell_type": "markdown",
   "id": "a76ea3f3",
   "metadata": {},
   "source": [
    "#### 6.1.3 에이전트 성능 메트릭 확인\n",
    "\n",
    "> **🎯 목적**: 에이전트의 이벤트 루프 메트릭을 확인합니다.\n",
    "\n",
    "| 메트릭 유형 | 내용 |\n",
    "|------------|------|\n",
    "| **성능 데이터** | 응답 시간, 토큰 사용량, 에러 발생 등의 성능 데이터 |\n",
    "| **모니터링 활용** | 에이전트 운영 상태와 효율성을 모니터링하는 데 유용 |\n",
    "\n",
    "💡 **Tip**: 성능 메트릭을 통해 에이전트의 효율성과 안정성을 분석할 수 있습니다!"
   ]
  },
  {
   "cell_type": "markdown",
   "id": "cfed8f0c",
   "metadata": {},
   "source": [
    "**Observability**"
   ]
  },
  {
   "cell_type": "code",
   "execution_count": 24,
   "id": "64986e63",
   "metadata": {},
   "outputs": [
    {
     "name": "stdout",
     "output_type": "stream",
     "text": [
      "EventLoopMetrics(cycle_count=4,\n",
      "                 tool_metrics={'bash_tool': ToolMetrics(tool={'input': {'cmd': 'ls '\n",
      "                                                                               '-la '\n",
      "                                                                               '../src/prompts'},\n",
      "                                                              'name': 'bash_tool',\n",
      "                                                              'toolUseId': 'tooluse_Vacni6jmRvuFdY4aHJOsoA'},\n",
      "                                                        call_count=1,\n",
      "                                                        success_count=1,\n",
      "                                                        error_count=0,\n",
      "                                                        total_time=0.004104137420654297),\n",
      "                               'python_repl_tool': ToolMetrics(tool={'input': {'code': '# '\n",
      "                                                                                       'Hello '\n",
      "                                                                                       'world를 '\n",
      "                                                                                       '출력하는 '\n",
      "                                                                                       '간단한 '\n",
      "                                                                                       '파이썬 '\n",
      "                                                                                       '코드\\n'\n",
      "                                                                                       'print(\"Hello '\n",
      "                                                                                       'world\")'},\n",
      "                                                                     'name': 'python_repl_tool',\n",
      "                                                                     'toolUseId': 'tooluse_HAXFNmnLSKO2rjWW4kg_Hg'},\n",
      "                                                               call_count=1,\n",
      "                                                               success_count=1,\n",
      "                                                               error_count=0,\n",
      "                                                               total_time=0.019395112991333008)},\n",
      "                 cycle_durations=[6.433272838592529, 3.325401782989502],\n",
      "                 traces=[<strands.telemetry.metrics.Trace object at 0xe4530ce49820>,\n",
      "                         <strands.telemetry.metrics.Trace object at 0xe4530ce0faa0>,\n",
      "                         <strands.telemetry.metrics.Trace object at 0xe4530ce49580>,\n",
      "                         <strands.telemetry.metrics.Trace object at 0xe4530cc72ab0>],\n",
      "                 accumulated_usage={'inputTokens': 6940,\n",
      "                                    'outputTokens': 873,\n",
      "                                    'totalTokens': 7813},\n",
      "                 accumulated_metrics={'latencyMs': 18767})\n"
     ]
    }
   ],
   "source": [
    "pprint(agent.event_loop_metrics)"
   ]
  },
  {
   "cell_type": "markdown",
   "id": "cf5f7983",
   "metadata": {},
   "source": [
    "#### 6.1.4 에이전트 상태 복원을 위한 라이브러리 import\n",
    "\n",
    "> **🎯 목적**: 기존 에이전트의 상태를 사용하여 새로운 에이전트를 생성하기 위한 라이브러리들을 import합니다.\n",
    "\n",
    "| 라이브러리 | 용도 |\n",
    "|----------|------|\n",
    "| **Strands 기본 클래스들** | Agent, BedrockModel 등 핵심 컴포넌트 |\n",
    "| **Bedrock 모델과 설정 정보** | 시스템 프롬프트, 메시지 히스토리 복원 |\n",
    "\n",
    "💡 **Tip**: 에이전트 상태 복원을 통해 대화의 연속성을 유지할 수 있습니다!"
   ]
  },
  {
   "cell_type": "markdown",
   "id": "961fb569",
   "metadata": {},
   "source": [
    "**Resume**"
   ]
  },
  {
   "cell_type": "code",
   "execution_count": 25,
   "id": "3dbcd3ff",
   "metadata": {},
   "outputs": [],
   "source": [
    "from strands import Agent\n",
    "from botocore.config import Config\n",
    "from strands.models import BedrockModel\n",
    "from src.utils.bedrock import bedrock_info"
   ]
  },
  {
   "cell_type": "code",
   "execution_count": 28,
   "id": "8c48b93f",
   "metadata": {},
   "outputs": [],
   "source": [
    "llm_ = BedrockModel(\n",
    "    model_id=bedrock_info.get_model_id(model_name=\"Claude-V3-7-Sonnet-CRI\"),\n",
    "    streaming=True,\n",
    "    max_tokens=8192,\n",
    "    stop_sequences=[\"\\n\\nHuman\"],\n",
    "    temperature=0.01,\n",
    "    cache_prompt=None, # None/ephemeral/defalut\n",
    "    #cache_tools: Cache point type for tools\n",
    "    boto_client_config=Config(\n",
    "        read_timeout=900,\n",
    "        connect_timeout=900,\n",
    "        retries=dict(max_attempts=50, mode=\"standard\"),\n",
    "    )\n",
    ")\n",
    "\n",
    "\n",
    "agent_ = Agent(\n",
    "    model=llm_,\n",
    "    tools=[python_repl_tool, bash_tool],\n",
    "    system_prompt=system_prompt,\n",
    "    messages=agent_messages,\n",
    "    callback_handler=None # async iterator로 대체 하기 때문에 None 설정\n",
    ")"
   ]
  },
  {
   "cell_type": "code",
   "execution_count": 29,
   "id": "baf617f0",
   "metadata": {},
   "outputs": [
    {
     "name": "stdout",
     "output_type": "stream",
     "text": [
      "\u001b[97m네, \u001b[0m\u001b[97m맞습니다! 우\u001b[0m\u001b[97m리는 계속해서 \u001b[0m\u001b[97m같은 대화 세션 \u001b[0m\u001b[97m내에서 \u001b[0m\u001b[97m대화하고 있습니\u001b[0m\u001b[97m다. 이전 \u001b[0m\u001b[97m메시지들의\u001b[0m\u001b[97m 내용을 기\u001b[0m\u001b[97m억하고 있으\u001b[0m\u001b[97m며, 대화의\u001b[0m\u001b[97m 맥락을 \u001b[0m\u001b[97m유지하고 \u001b[0m\u001b[97m있습니다\u001b[0m\u001b[97m.\n",
      "\n",
      "처음에는 \u001b[0m\u001b[97m\"../src/prom\u001b[0m\u001b[97mpts\" 디렉\u001b[0m\u001b[97m토리를 조\u001b[0m\u001b[97m회해 드\u001b[0m\u001b[97m렸고, 그\u001b[0m\u001b[97m 다음에는 \u001b[0m\u001b[97m\"Hello world\"를 출력\u001b[0m\u001b[97m하는 파이썬 \u001b[0m\u001b[97m코드를 실행했\u001b[0m\u001b[97m습니다. 그\u001b[0m\u001b[97m리고 지금\u001b[0m\u001b[97m은 대화가\u001b[0m\u001b[97m 계속 이어지고\u001b[0m\u001b[97m 있는 상\u001b[0m\u001b[97m태입니다.\n",
      "\n",
      "추\u001b[0m\u001b[97m가적인 질\u001b[0m\u001b[97m문이나 도움이\u001b[0m\u001b[97m 필요한 사\u001b[0m\u001b[97m항이 있으\u001b[0m\u001b[97m시면 언제든지\u001b[0m\u001b[97m 말씀해 주세\u001b[0m\u001b[97m요!\u001b[0m"
     ]
    }
   ],
   "source": [
    "message = \"이어서 대화 하는거 맞니?\"\n",
    "\n",
    "full_text = \"\"\n",
    "async for event in strands_utils.process_streaming_response_yield(\n",
    "    agent=agent_,\n",
    "    message=message,\n",
    "    agent_name=agent_name,\n",
    "    source=agent_name\n",
    "):\n",
    "    strands_utils.process_event_for_display(event)\n"
   ]
  },
  {
   "cell_type": "markdown",
   "id": "8956bf40",
   "metadata": {},
   "source": [
    "### 6.2 [Conversation management](https://strandsagents.com/latest/documentation/docs/user-guide/concepts/agents/conversation-management/?h=conversa)\n",
    "\n",
    "As conversations grow, managing this context becomes increasingly important for several reasons:\n",
    "\n",
    "- **Token Limits**: Language models have fixed context windows (maximum tokens they can process)\n",
    "- **Performance**: Larger contexts require more processing time and resources\n",
    "- **Relevance**: Older messages may become less relevant to the current conversation\n",
    "- **Coherence**: Maintaining logical flow and preserving important information"
   ]
  },
  {
   "cell_type": "markdown",
   "id": "31a182fb",
   "metadata": {},
   "source": [
    "#### 6.2.1 SlidingWindowConversationManager\n",
    "\n",
    "슬라이딩 윈도우 방식의 대화 관리자를 구현합니다:\n",
    "- 고정된 수의 최근 메시지를 유지하는 슬라이딩 윈도우 전략을 구현합니다.\n",
    "- Agent 클래스에서 기본적으로 사용하는 대화 매니저입니다.\n",
    "- Strands SDK의 대화 관리 기능을 사용하기 위해 `SlidingWindowConversationManager`를 import합니다.\n",
    "- 이는 메모리 효율성을 위해 최근 N개의 메시지만 유지하는 방식입니다."
   ]
  },
  {
   "cell_type": "code",
   "execution_count": null,
   "id": "e3d2f049",
   "metadata": {},
   "outputs": [],
   "source": [
    "from strands.agent.conversation_manager import SlidingWindowConversationManager"
   ]
  },
  {
   "cell_type": "markdown",
   "id": "fdb983df",
   "metadata": {},
   "source": [
    "슬라이딩 윈도우 방식의 대화 관리자를 생성합니다.\n",
    "- `window_size=3`: 최근 3개의 메시지만 유지\n",
    "- `should_truncate_results=True`: 큰 도구 결과를 자동으로 축약\n",
    "- 메모리 사용량을 제한하면서도 최근 맥락을 유지"
   ]
  },
  {
   "cell_type": "code",
   "execution_count": null,
   "id": "9162351c",
   "metadata": {},
   "outputs": [],
   "source": [
    "# Create a conversation manager with custom window size\n",
    "conversation_manager = SlidingWindowConversationManager(\n",
    "    window_size=3,  # Maximum number of messages to keep\n",
    "    should_truncate_results=True, # Enable truncating the tool result when a message is too large for the model's context window \n",
    ")"
   ]
  },
  {
   "cell_type": "markdown",
   "id": "1dff719d",
   "metadata": {},
   "source": [
    "### 에이전트에 대화 관리자 적용\n",
    "\n",
    "생성된 대화 관리자를 에이전트에 설정합니다.\n",
    "이제 에이전트는 설정된 윈도우 크기에 따라 대화 기록을 자동으로 관리합니다."
   ]
  },
  {
   "cell_type": "code",
   "execution_count": null,
   "id": "7459aa51",
   "metadata": {},
   "outputs": [],
   "source": [
    "agent.conversation_manager = conversation_manager"
   ]
  },
  {
   "cell_type": "markdown",
   "id": "4e8fa5a8",
   "metadata": {},
   "source": [
    "### 슬라이딩 윈도우 동작 테스트\n",
    "\n",
    "새로운 대화를 시작하여 슬라이딩 윈도우가 어떻게 동작하는지 확인합니다.\n",
    "- 새로운 메시지 추가 후 메시지 히스토리를 확인\n",
    "- 윈도우 크기 제한으로 오래된 메시지가 제거되는지 검증"
   ]
  },
  {
   "cell_type": "code",
   "execution_count": null,
   "id": "cd7d15ba",
   "metadata": {},
   "outputs": [],
   "source": [
    "message = \"안녕 나는 장동진이야\"\n",
    "\n",
    "full_text = \"\"\n",
    "async for event in strands_utils.process_streaming_response_yield(\n",
    "    agent=agent,\n",
    "    message=message,\n",
    "    agent_name=agent_name,\n",
    "    source=agent_name\n",
    "):\n",
    "    strands_utils.process_event_for_display(event)\n",
    "\n",
    "print (\"\\n\")\n",
    "pprint (agent.messages)"
   ]
  },
  {
   "cell_type": "markdown",
   "id": "28ad3936",
   "metadata": {},
   "source": [
    "#### 6.2.2 SummarizingConversationManager\n",
    "\n",
    "오래된 메시지를 요약하여 중요한 정보를 보존하면서 컨텍스트 한계 내에서 대화를 관리합니다.\n",
    "\n",
    "**주요 설정:**\n",
    "\n",
    "| 파라미터 | 타입 | 기본값 | 설명 |\n",
    "|---------|------|--------|------|\n",
    "| `summary_ratio` | `float` | `0.3` | 컨텍스트 축소 시 요약할 메시지 비율 (0.1~0.8 범위) |\n",
    "| `preserve_recent_messages` | `int` | `10` | 항상 유지할 최근 메시지 수 |\n",
    "| `summarization_agent` | `Agent` | `None` | 요약 생성용 커스텀 에이전트 (system_prompt와 동시 사용 불가) |\n",
    "| `summarization_system_prompt` | `str` | `None` | 요약용 커스텀 시스템 프롬프트 (agent와 동시 사용 불가) |\n",
    "\n",
    "> **기본 요약 방식**: 커스텀 설정이 없을 경우, 주요 토픽, 사용된 도구, 기술적 정보를 3인칭 형태의 구조화된 불릿 포인트로 요약합니다."
   ]
  },
  {
   "cell_type": "code",
   "execution_count": null,
   "id": "09ef6246",
   "metadata": {},
   "outputs": [],
   "source": [
    "from strands.agent.conversation_manager import SummarizingConversationManager"
   ]
  },
  {
   "cell_type": "markdown",
   "id": "3fd21aec",
   "metadata": {},
   "source": [
    "### SummarizingConversationManager 설정\n",
    "\n",
    "요약 기반 대화 관리자를 생성합니다.\n",
    "- `summary_ratio=0.3`: 컨텍스트 축소 시 30%의 메시지를 요약\n",
    "- `preserve_recent_messages=3`: 최근 3개 메시지는 항상 유지\n",
    "- `summarization_system_prompt`: 기술적 대화에 특화된 커스텀 요약 프롬프트\n",
    "- 코드 변경사항, 아키텍처 결정, 기술적 솔루션에 중점을 둔 요약"
   ]
  },
  {
   "cell_type": "code",
   "execution_count": null,
   "id": "ae8da725",
   "metadata": {},
   "outputs": [],
   "source": [
    "# Custom system prompt for technical conversations\n",
    "custom_system_prompt = \"\"\"\n",
    "You are summarizing a technical conversation. Create a concise bullet-point summary that:\n",
    "- Focuses on code changes, architectural decisions, and technical solutions\n",
    "- Preserves specific function names, file paths, and configuration details\n",
    "- Omits conversational elements and focuses on actionable information\n",
    "- Uses technical terminology appropriate for software development\n",
    "\n",
    "Format as bullet points without conversational language.\n",
    "\"\"\"\n",
    "\n",
    "conversation_manager = SummarizingConversationManager(\n",
    "    summary_ratio=0.3,  # Summarize 30% of messages when context reduction is needed\n",
    "    preserve_recent_messages=3,  # Always keep 10 most recent messages\n",
    "    summarization_system_prompt=custom_system_prompt\n",
    ")"
   ]
  },
  {
   "cell_type": "markdown",
   "id": "513b6717",
   "metadata": {},
   "source": [
    "### 요약 관리자 적용\n",
    "\n",
    "새로 생성한 요약 기반 대화 관리자를 에이전트에 설정합니다.\n",
    "이제 에이전트는 오래된 대화를 요약하여 중요한 정보를 보존합니다."
   ]
  },
  {
   "cell_type": "code",
   "execution_count": null,
   "id": "52b6bbba",
   "metadata": {},
   "outputs": [],
   "source": [
    "agent.conversation_manager = conversation_manager"
   ]
  },
  {
   "cell_type": "markdown",
   "id": "1d9cb05b",
   "metadata": {},
   "source": [
    "### 요약 기능 테스트\n",
    "\n",
    "요약 기반 대화 관리가 어떻게 동작하는지 테스트합니다.\n",
    "- 새로운 대화 시작 후 메시지 히스토리 확인\n",
    "- 요약 기능이 활성화되면 이전 대화들이 어떻게 요약되는지 확인"
   ]
  },
  {
   "cell_type": "code",
   "execution_count": null,
   "id": "ee3f1844",
   "metadata": {},
   "outputs": [],
   "source": [
    "message = \"안녕 나는 장동진이야\"\n",
    "\n",
    "full_text = \"\"\n",
    "async for event in strands_utils.process_streaming_response_yield(\n",
    "    agent=agent,\n",
    "    message=message,\n",
    "    agent_name=agent_name,\n",
    "    source=agent_name\n",
    "):\n",
    "    #print (event)\n",
    "    strands_utils.process_event_for_display(event)\n",
    "\n",
    "print (\"\\n\")\n",
    "pprint (agent.messages)"
   ]
  }
 ],
 "metadata": {
  "kernelspec": {
   "display_name": "bedrock-manus-agentcore (UV)",
   "language": "python",
   "name": "bedrock-manus-agentcore"
  },
  "language_info": {
   "codemirror_mode": {
    "name": "ipython",
    "version": 3
   },
   "file_extension": ".py",
   "mimetype": "text/x-python",
   "name": "python",
   "nbconvert_exporter": "python",
   "pygments_lexer": "ipython3",
   "version": "3.12.11"
  }
 },
 "nbformat": 4,
 "nbformat_minor": 5
}
