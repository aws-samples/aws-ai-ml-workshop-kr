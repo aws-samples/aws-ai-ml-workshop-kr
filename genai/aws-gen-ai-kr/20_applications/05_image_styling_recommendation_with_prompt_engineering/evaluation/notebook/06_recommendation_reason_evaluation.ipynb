{
 "cells": [
  {
   "cell_type": "markdown",
   "metadata": {},
   "source": [
    "# 비슷한 이미지 템플릿을 추천한 이유에 대해 평가하기\n",
    "---\n",
    "\n",
    "## 실험 환경\n",
    "- 이 노트북은 SageMaker Studio Code Editor 및 커널 base (Python 3.10.13) 에서 테스트 되었습니다.\n",
    "- 실행 환경에 설치된 Python Package 참고 하세요. --> [requirements.txt](../requirements.txt)\n",
    "\n",
    "## 참고 자료\n",
    "- [Building with Anthropic’s Claude 3 on Amazon Bedrock and LangChain](https://medium.com/@dminhk/building-with-anthropics-claude-3-on-amazon-bedrock-and-langchain-%EF%B8%8F-2b842f9c0ca8)\n",
    "- [Amazon Bedrock 기반 Amorepacific 리뷰 요약 서비스 평가 방법 구현하기](langchain_core.runnables.base.RunnableSequence)\n",
    "- [Amazon Bedrock model IDs](https://docs.aws.amazon.com/bedrock/latest/userguide/model-ids.html)\n",
    "\n",
    "---"
   ]
  },
  {
   "cell_type": "markdown",
   "metadata": {},
   "source": [
    "# 0. 선수 노트북\n",
    "- 아래의 노트북을 먼저 실행하셔야 합니다.  --> [05_similar_image_template_recommendation_with_reason.ipynb](05_similar_image_template_recommendation_with_reason.ipynb)\n"
   ]
  },
  {
   "cell_type": "markdown",
   "metadata": {},
   "source": [
    "# 1. 환경 셋업"
   ]
  },
  {
   "cell_type": "markdown",
   "metadata": {},
   "source": [
    "가장 처음 실행시에는 아래를 install_needed == True 로 실행 해주세요"
   ]
  },
  {
   "cell_type": "code",
   "execution_count": 1,
   "metadata": {},
   "outputs": [],
   "source": [
    "import sys\n",
    "\n",
    "install_needed = True\n",
    "# install_needed = False\n",
    "\n",
    "if install_needed:\n",
    "    !{sys.executable} -m pip install -q langchain==0.1.16\n",
    "    !{sys.executable} -m pip install -q langchain-community==0.0.34\n",
    "    !{sys.executable} -m pip install -q langchain-aws==0.1.2\n",
    "    !{sys.executable} -m pip install -q boto3==1.34.87    "
   ]
  },
  {
   "cell_type": "code",
   "execution_count": 2,
   "metadata": {},
   "outputs": [
    {
     "name": "stdout",
     "output_type": "stream",
     "text": [
      "boto3                                 1.34.87\n",
      "langchain                             0.1.16\n",
      "langchain-aws                         0.1.2\n",
      "langchain-community                   0.0.34\n",
      "langchain-core                        0.1.52\n",
      "langchain-text-splitters              0.0.2\n"
     ]
    }
   ],
   "source": [
    "! pip list | grep -E \"langchain|boto3\""
   ]
  },
  {
   "cell_type": "code",
   "execution_count": 3,
   "metadata": {},
   "outputs": [],
   "source": [
    "%load_ext autoreload\n",
    "%autoreload 2"
   ]
  },
  {
   "cell_type": "code",
   "execution_count": 4,
   "metadata": {},
   "outputs": [
    {
     "name": "stdout",
     "output_type": "stream",
     "text": [
      "python path: /home/sagemaker-user/aws-ai-ml-workshop-kr/genai/aws-gen-ai-kr/20_applications/05_image_styling_recommendation_with_prompt_engineering/evaluation is added\n",
      "sys.path:  ['/home/sagemaker-user/aws-ai-ml-workshop-kr/genai/aws-gen-ai-kr/20_applications/05_image_styling_recommendation_with_prompt_engineering/evaluation/notebook', '/opt/conda/lib/python310.zip', '/opt/conda/lib/python3.10', '/opt/conda/lib/python3.10/lib-dynload', '', '/opt/conda/lib/python3.10/site-packages', '/home/sagemaker-user/aws-ai-ml-workshop-kr/genai/aws-gen-ai-kr/20_applications/05_image_styling_recommendation_with_prompt_engineering/evaluation']\n"
     ]
    }
   ],
   "source": [
    "import sys, os\n",
    "\n",
    "def add_python_path(module_path):\n",
    "    if os.path.abspath(module_path) not in sys.path:\n",
    "        sys.path.append(os.path.abspath(module_path))\n",
    "        print(f\"python path: {os.path.abspath(module_path)} is added\")\n",
    "    else:\n",
    "        print(f\"python path: {os.path.abspath(module_path)} already exists\")\n",
    "    print(\"sys.path: \", sys.path)\n",
    "\n",
    "module_path = \"..\"\n",
    "add_python_path(module_path)"
   ]
  },
  {
   "cell_type": "markdown",
   "metadata": {},
   "source": [
    "# 2. Ground Truth (Label) 생성하기"
   ]
  },
  {
   "cell_type": "markdown",
   "metadata": {},
   "source": [
    "## 두개의 모델에서 선택한 이미지 템플릿에 대한 이유 가져오기\n",
    "- 이전 노트북에서 저장한 두개의 모델의 이유를 가져 옵니다"
   ]
  },
  {
   "cell_type": "code",
   "execution_count": 5,
   "metadata": {},
   "outputs": [],
   "source": [
    "from eval_utils.langchain_bedrock import BedrockLangChain_Image\n",
    "from eval_utils.util import (\n",
    "                        print_ww\n",
    "                        # invoke_model_text2text,                       \n",
    ")\n"
   ]
  },
  {
   "cell_type": "code",
   "execution_count": 6,
   "metadata": {},
   "outputs": [
    {
     "name": "stdout",
     "output_type": "stream",
     "text": [
      "**select_reason_sonnet:\n",
      "이 이미지는 대상 이미지와 가장 유사한 시각적 요소와 주제를 가지고 있습니다. 상단에 만개한 벚꽃 가지가 있어 봄의 분위기를 자아내며, 중앙의 큰 텍스트는 이벤트나 프로모션을\n",
      "알리는 듯합니다. 또한 하단의 브랜드 로고와 연락처 정보가 있어 실제 상업적 용도로 활용될 수 있습니다. 전체적으로 부드럽고 밝은 분홍색 계열의 색상이 사용되어 대상 이미지와\n",
      "유사한 따뜻하고 화사한 분위기를 연출합니다. 이러한 시각적 구성과 봄 여행 프로모션이라는 주제 면에서 가장 유사성이 높습니다.\n",
      "**select_reason_haiku: \n",
      "candidate_image_2.jpg가 <target_image>와 가장 유사한 것으로 판단됩니다. 두 이미지 모두 봄의 분위기를 잘 표현하고 있으며, 벚꽃 이미지와 밝은 색상\n",
      "사용, 텍스트 레이아웃 등 전반적인 시각적 구성이 유사합니다. 특히 <target_image>의 벚꽃 풍경과 중앙의 텍스트 박스, 화살표 등의 요소가\n",
      "candidate_image_2.jpg에서도 유사하게 나타나고 있습니다. 또한 두 이미지 모두 봄 시즌 프로모션이나 이벤트를 알리는 용도로 활용될 수 있어 주제와 활용 분야에서도\n",
      "일치합니다. 따라서 candidate_image_2.jpg가 <target_image>와 가장 유사한 템플릿이라고 판단됩니다.\n"
     ]
    }
   ],
   "source": [
    "%store -r select_reason_sonnet\n",
    "%store -r select_reason_haiku\n",
    "\n",
    "try:\n",
    "    print(\"**select_reason_sonnet:\")\n",
    "    print_ww(select_reason_sonnet)\n",
    "    print(\"**select_reason_haiku: \")\n",
    "    print_ww(select_reason_haiku)\n",
    "except:\n",
    "    print(\"Run 05_similar_image_template_recommendation_with_reason.ipynb\")\n",
    "\n",
    "\n"
   ]
  },
  {
   "cell_type": "markdown",
   "metadata": {},
   "source": [
    "## Ground Truth 생성을 위한 System, User Prompt 확인하기\n",
    "- Ground Truth 를 사람이 작성하는 것을 권장하나, 너무 많은 노력이 들어 갈 수 있어서 여기서는 아래와 같이 가정하여 작성합니다.\n",
    "    - Claude3 Sonnet 모델이 어울리다가 생각한 \"이유\" 를 Claude3 Sonnet 모델에 Re-Write 한 것을 Ground Truth 가정 합니다.\n",
    "- 아래의 System Prompt & User Prompt 는 미리 Claude3 Sonnet 모델을 이용해서 작성한 것을 가져옵니다."
   ]
  },
  {
   "cell_type": "code",
   "execution_count": 7,
   "metadata": {},
   "outputs": [
    {
     "name": "stdout",
     "output_type": "stream",
     "text": [
      "## system_prompt\n",
      "The task is to rewrite a given sentence in a different way while preserving its original\n",
      "meaning.Your role is to take a sentence provided by the user and rephrase it using different words\n",
      "or sentence structures, without altering the core meaning or message conveyed in the original\n",
      "sentence.\n",
      "\n",
      "Instructions:\n",
      "1. Read the sentence carefully and ensure you understand its intended meaning.\n",
      "2. Identify the key components of the sentence, such as the subject, verb, object, and any modifiers\n",
      "or additional information.\n",
      "3. Think of alternative ways to express the same idea using different vocabulary, sentence\n",
      "structures, or phrasing.\n",
      "4. Ensure that your rewritten sentence maintains the same essential meaning as the original, without\n",
      "introducing any new information or altering the original intent.\n",
      "5. Pay attention to grammar, punctuation, and overall coherence to ensure your rewritten sentence is\n",
      "well-formed and easy to understand.\n",
      "6. If the original sentence contains idioms, metaphors, or cultural references, try to find\n",
      "equivalent expressions or explanations in your rewritten version.\n",
      "7. Avoid oversimplifying or overly complicating the sentence; aim for a natural and clear rephrasing\n",
      "that maintains the original tone and complexity.\n",
      "\n",
      "Remember, the goal is to provide a fresh perspective on the sentence while preserving its core\n",
      "meaning and ensuring clarity and coherence in your rewritten version.\n",
      "\n",
      "## user_prompt\n",
      "Given <recommendation_review> based on the guide on system prompt\n",
      "Please write in Korean. Output in JSON format following the <output_example> format, excluding\n",
      "<output_example>\n",
      "\n",
      "<recommendation_review>{recommendation_review}</recommendation_review>\n",
      "<output_example>\n",
      "\"original_recommendation_review\" :\n",
      "\"rewrite_original_recommendation_review\" :\n",
      "</output_example>\n",
      "\n"
     ]
    }
   ],
   "source": [
    "import boto3\n",
    "from eval_utils.prompt import ImagePrompt\n",
    "\n",
    "FP = ImagePrompt()\n",
    "system_prompt = FP.get_rewrite_system_prompt()\n",
    "user_prompt = FP.get_rewrite_user_prompt()\n",
    "\n",
    "print(\"## system_prompt\")\n",
    "print_ww(system_prompt)\n",
    "print(\"## user_prompt\")\n",
    "print_ww(user_prompt)\n"
   ]
  },
  {
   "cell_type": "markdown",
   "metadata": {},
   "source": [
    "## Sonnet 모델의 Ground Truth 를 Sonnet 모델을 이용하여 Rw-Write 하여 생성"
   ]
  },
  {
   "cell_type": "code",
   "execution_count": 8,
   "metadata": {},
   "outputs": [
    {
     "name": "stdout",
     "output_type": "stream",
     "text": [
      "messages: \n",
      " [('system', 'The task is to rewrite a given sentence in a different way while preserving its original meaning.Your role is to take a sentence provided by the user and rephrase it using different words or sentence structures, without altering the core meaning or message conveyed in the original sentence.\\n\\nInstructions:\\n1. Read the sentence carefully and ensure you understand its intended meaning.\\n2. Identify the key components of the sentence, such as the subject, verb, object, and any modifiers or additional information.\\n3. Think of alternative ways to express the same idea using different vocabulary, sentence structures, or phrasing.\\n4. Ensure that your rewritten sentence maintains the same essential meaning as the original, without introducing any new information or altering the original intent.\\n5. Pay attention to grammar, punctuation, and overall coherence to ensure your rewritten sentence is well-formed and easy to understand.\\n6. If the original sentence contains idioms, metaphors, or cultural references, try to find equivalent expressions or explanations in your rewritten version.\\n7. Avoid oversimplifying or overly complicating the sentence; aim for a natural and clear rephrasing that maintains the original tone and complexity.\\n\\nRemember, the goal is to provide a fresh perspective on the sentence while preserving its core meaning and ensuring clarity and coherence in your rewritten version.\\n'), ('human', 'Given <recommendation_review> based on the guide on system prompt         \\nPlease write in Korean. Output in JSON format following the <output_example> format, excluding <output_example>        \\n\\n<recommendation_review>{recommendation_review}</recommendation_review>\\n<output_example>\\n\"original_recommendation_review\" : \\n\"rewrite_original_recommendation_review\" : \\n</output_example>\\n')]\n",
      "prompt: \n",
      "\n",
      "input_variables=['recommendation_review']\n",
      "messages=[SystemMessagePromptTemplate(prompt=PromptTemplate(input_variables=[], template='The task\n",
      "is to rewrite a given sentence in a different way while preserving its original meaning.Your role is\n",
      "to take a sentence provided by the user and rephrase it using different words or sentence\n",
      "structures, without altering the core meaning or message conveyed in the original\n",
      "sentence.\\n\\nInstructions:\\n1. Read the sentence carefully and ensure you understand its intended\n",
      "meaning.\\n2. Identify the key components of the sentence, such as the subject, verb, object, and any\n",
      "modifiers or additional information.\\n3. Think of alternative ways to express the same idea using\n",
      "different vocabulary, sentence structures, or phrasing.\\n4. Ensure that your rewritten sentence\n",
      "maintains the same essential meaning as the original, without introducing any new information or\n",
      "altering the original intent.\\n5. Pay attention to grammar, punctuation, and overall coherence to\n",
      "ensure your rewritten sentence is well-formed and easy to understand.\\n6. If the original sentence\n",
      "contains idioms, metaphors, or cultural references, try to find equivalent expressions or\n",
      "explanations in your rewritten version.\\n7. Avoid oversimplifying or overly complicating the\n",
      "sentence; aim for a natural and clear rephrasing that maintains the original tone and\n",
      "complexity.\\n\\nRemember, the goal is to provide a fresh perspective on the sentence while preserving\n",
      "its core meaning and ensuring clarity and coherence in your rewritten version.\\n')),\n",
      "HumanMessagePromptTemplate(prompt=PromptTemplate(input_variables=['recommendation_review'],\n",
      "template='Given <recommendation_review> based on the guide on system prompt         \\nPlease write\n",
      "in Korean. Output in JSON format following the <output_example> format, excluding <output_example>\n",
      "\\n\\n<recommendation_review>{recommendation_review}</recommendation_review>\\n<output_example>\\n\"origi\n",
      "nal_recommendation_review\" : \\n\"rewrite_original_recommendation_review\" : \\n</output_example>\\n'))]\n",
      "## Created Prompt:\n",
      "\n",
      "## Re-Write recommendation_review \n",
      "이 이미지는 대상 이미지와 비슷한 시각적 요소와 주제를 담고 있습니다. 상단에는 활짝 핀 벚꽃 가지가 있어 봄날의 정취를 느끼게 합니다. 중앙에 큰 글씨로 적힌 텍스트는 어떤\n",
      "이벤트나 프로모션을 알리는 것 같습니다. 아래쪽에는 브랜드 로고와 연락처 정보가 있어 실제 상업적인 목적으로 사용될 수 있을 것입니다. 전체적으로 부드럽고 밝은 분홍빛 계열의\n",
      "색상이 사용되어 대상 이미지와 유사한 따뜻하고 화사한 느낌을 줍니다. 이렇듯 시각적 구성과 봄 여행 프로모션이라는 주제 면에서 가장 비슷한 점이 많습니다.\n"
     ]
    }
   ],
   "source": [
    "\n",
    "region = \"us-west-2\"\n",
    "model_id = \"anthropic.claude-3-sonnet-20240229-v1:0\"\n",
    "\n",
    "client = boto3.client(service_name=\"bedrock-runtime\", region_name=region)\n",
    "model_kwargs =  { \n",
    "    \"max_tokens\": 2048,\n",
    "    \"temperature\": 1.0,\n",
    "    \"top_k\": 250,\n",
    "    \"top_p\": 1,\n",
    "}                             \n",
    "\n",
    "BL = BedrockLangChain_Image(bedrock_runtime=client)\n",
    "response = BL.invoke_rewrite_langchain(model_id = model_id, \n",
    "                             model_kwargs = model_kwargs, \n",
    "                             user_prompt = user_prompt, \n",
    "                             system_prompt = system_prompt, \n",
    "                             recommendation_review = select_reason_sonnet,\n",
    "                             verbose=True)\n",
    "\n",
    "import json\n",
    "data_dict = json.loads(response)\n",
    "rewrite_original_recommendation_review = data_dict['rewrite_original_recommendation_review']\n",
    "print(\"## Re-Write recommendation_review \")\n",
    "print_ww(rewrite_original_recommendation_review)"
   ]
  },
  {
   "cell_type": "markdown",
   "metadata": {},
   "source": [
    "# 4. Evaluation 기준 및 방법을 생성하는 프롬프트 만들기\n",
    "- \"Evaluation 기준 및 방법\" 을 여러가지 솔루션으로 구현할 수 있습니다. 여기서는 Claude3 Sonnet 에게 이런한 기준을 작성하게 했습니다.\n",
    "    - 아래는 이러한 기준을 작성할 수 있다는 예시 입니다. \n",
    "    - 실제로 아래 프롬프트를 사용하여 생성을 받았고, 이후에 약간의 편집을 통해서 ../eval_utils/prompt.py 에 저장을 했습니다. \n",
    "    - 여기 셀의 실행은 이렇게 할 수 있다는 것만을 보여 드립니다.\n"
   ]
  },
  {
   "cell_type": "markdown",
   "metadata": {},
   "source": [
    "## Evaluation 기준 및 방법을 생성하는 프롬프트\n",
    "\n"
   ]
  },
  {
   "cell_type": "code",
   "execution_count": 9,
   "metadata": {},
   "outputs": [
    {
     "name": "stdout",
     "output_type": "stream",
     "text": [
      "messages: \n",
      " [('system', 'You are a prompt engineering expert.'), ('human', '먼저 당신의 역할과 작업을 XML Tag 없이 기술하세요, 이후에 아래의 <guide> 에 맟주어서 프롬프트를 영어로 작성해주세요. \\n<guide>{guide}</guide>')]\n",
      "prompt: \n",
      "\n",
      "input_variables=['guide']\n",
      "messages=[SystemMessagePromptTemplate(prompt=PromptTemplate(input_variables=[], template='You are a\n",
      "prompt engineering expert.')),\n",
      "HumanMessagePromptTemplate(prompt=PromptTemplate(input_variables=['guide'], template='먼저 당신의 역할과 작업을\n",
      "XML Tag 없이 기술하세요, 이후에 아래의 <guide> 에 맟주어서 프롬프트를 영어로 작성해주세요. \\n<guide>{guide}</guide>'))]\n",
      "## Created Prompt:\n",
      "\n",
      "As a prompt engineering expert, my role is to provide clear and effective prompts to guide AI language models in generating relevant and coherent responses. I aim to structure prompts in a way that aligns with the desired task or objective, while considering the capabilities and limitations of the AI model.\n",
      "\n",
      "<guide>In this scenario, you will be provided with an image template and two sets of recommendations: one from a graphic designer's perspective and another from an AI's perspective, regarding suitable image elements to complement the template. Your task is to evaluate the relevance and coherence between these two recommendations.\n",
      "\n",
      "<criteria>\n",
      "1 point: The recommendations have minimal or no relevance to each other.\n",
      "2 points: The recommendations share some tangential or superficial connections.\n",
      "3 points: The recommendations have moderate relevance and overlap in certain aspects.\n",
      "4 points: The recommendations are largely relevant and aligned, with a few minor discrepancies.\n",
      "5 points: The recommendations are highly relevant, coherent, and closely aligned with each other.\n",
      "</criteria>\n",
      "\n",
      "<steps>\n",
      "1. Carefully review the image template provided.\n",
      "2. Analyze the graphic designer's recommendations for suitable image elements.\n",
      "3. Analyze the AI's recommendations for suitable image elements.\n",
      "4. Compare and contrast the two sets of recommendations, identifying areas of overlap, divergence, and potential complementarity.\n",
      "5. Assign a score from 1 to 5 based on the criteria provided, reflecting the degree of relevance and coherence between the two recommendations.\n",
      "6. Provide a brief explanation justifying the assigned score, highlighting the key factors that influenced your evaluation.\n",
      "</steps>\n",
      "</guide>"
     ]
    }
   ],
   "source": [
    "from eval_utils.prompt import ImagePrompt\n",
    "\n",
    "model_id = \"anthropic.claude-3-sonnet-20240229-v1:0\"\n",
    "\n",
    "model_kwargs =  { \n",
    "    \"max_tokens\": 2048,\n",
    "    \"temperature\": 0.0,\n",
    "    \"top_k\": 250,\n",
    "    \"top_p\": 1,\n",
    "}                             \n",
    "\n",
    "\n",
    "FP = ImagePrompt()\n",
    "system_prompt = FP.get_create_criteria_system_prompt()\n",
    "user_prompt = FP.get_create_criteria_user_prompt()\n",
    "\n",
    "guide=\"이후에 당신은 이미지 템플릿과 어울리는 이미지 요소 추천에 대해 그래픽 디자이너의 의견과 AI가 제공한 두가지 의견이 주어질 겁니다.  \\\n",
    "이 두개의 의견이 얼마나 연관성이 있는지를 1점, 2점, 3점, 4점, 5점 으로서  스코어의 기준을 <criterira></criterira>  형식으로 작성하시고, \\\n",
    "두개의 의견이 제공이 되었을때에 평가를 하는 단계를 <steps></steps> 형식으로 작성 하세요. \"\n",
    "\n",
    "\n",
    "BL = BedrockLangChain_Image(bedrock_runtime=client)\n",
    "BL.invoke_creating_criteria_langchain(model_id = model_id, \n",
    "                             model_kwargs = model_kwargs, \n",
    "                             user_prompt = user_prompt, \n",
    "                             system_prompt = system_prompt, \n",
    "                             guide = guide,\n",
    "                             verbose=True)\n"
   ]
  },
  {
   "cell_type": "markdown",
   "metadata": {},
   "source": [
    "# 5. Ground Truth 와 AI Review 평가하기"
   ]
  },
  {
   "cell_type": "markdown",
   "metadata": {},
   "source": [
    "## Claude3 Sonnet 이 제공한 이유 평가하기\n",
    "- ground_truth 와 Sonnet 이 작성한 이유를 비교해서 \"관련성\" 을 평가 합니다."
   ]
  },
  {
   "cell_type": "code",
   "execution_count": 11,
   "metadata": {},
   "outputs": [
    {
     "name": "stdout",
     "output_type": "stream",
     "text": [
      "<evaluation>\n",
      "{\n",
      "\"human_view\": \"이 이미지는 대상 이미지와 비슷한 시각적 요소와 주제를 담고 있습니다. 상단에는 활짝 핀 벚꽃 가지가 있어 봄날의 정취를 느끼게 합니다. 중앙에 큰 글씨로 적힌 텍스트는 어떤 이벤트나 프로모션을 알리는 것 같습니다. 아래쪽에는 브랜드 로고와 연락처 정보가 있어 실제 상업적인 목적으로 사용될 수 있을 것입니다. 전체적으로 부드럽고 밝은 분홍빛 계열의 색상이 사용되어 대상 이미지와 유사한 따뜻하고 화사한 느낌을 줍니다. 이렇듯 시각적 구성과 봄 여행 프로모션이라는 주제 면에서 가장 비슷한 점이 많습니다.\",\n",
      "\"AI_view\": \"이 이미지는 대상 이미지와 가장 유사한 시각적 요소와 주제를 가지고 있습니다. 상단에 만개한 벚꽃 가지가 있어 봄의 분위기를 자아내며, 중앙의 큰 텍스트는 이벤트나 프로모션을 알리는 듯합니다. 또한 하단의 브랜드 로고와 연락처 정보가 있어 실제 상업적 용도로 활용될 수 있습니다. 전체적으로 부드럽고 밝은 분홍색 계열의 색상이 사용되어 대상 이미지와 유사한 따뜻하고 화사한 분위기를 연출합니다. 이러한 시각적 구성과 봄 여행 프로모션이라는 주제 면에서 가장 유사성이 높습니다.\",\n",
      "\"score\": 4,\n",
      "\"reason\": \"두 의견은 대부분 일치하며, 이미지의 시각적 요소와 주제에 대한 관점이 매우 유사합니다. 단지 표현 방식에 약간의 차이가 있을 뿐입니다.\"\n",
      "}\n",
      "</evaluation>"
     ]
    }
   ],
   "source": [
    "system_prompt = FP.get_image_recommendation_system_prompt()\n",
    "user_prompt = FP.get_image_recommendation_user_prompt()\n",
    "\n",
    "\n",
    "ground_truth = rewrite_original_recommendation_review\n",
    "\n",
    "\n",
    "# human_message = \"이 이미지는 대상 이미지와 매우 비슷한 시각적 요소와 주제를 담고 있습니다. 꽃이 피어난 나무 가지가 봄날의 정취를 불러일으키며, 중앙의 큰 글씨는 어떤 행사나 할인 혜택을 광고하는 것 같습니다. 아래쪽에는 브랜드 로고와 연락처가 있어 실제 상업적 목적으로 쓰일 수 있겠습니다. 전반적으로 부드럽고 밝은 분홍빛 계열의 색감이 대상 이미지와 비슷한 따뜻하고 화사한 느낌을 줍니다. 이러한 봄의 이미지와 분위기, 그리고 여행 프로모션이라는 주제적 맥락에서 가장 유사성이 높다고 할 수 있겠습니다.\"                  \n",
    "# AI_message = \"이 이미지는 대상 이미지와 가장 유사한 시각적 요소와 주제를 가지고 있습니다. 상단에 만개한 벚꽃 가지가 있어 봄의 분위기를 자아내며, 중앙의 큰 텍스트는 이벤트나 프로모션을 알리는 듯합니다. 또한 하단의 브랜드 로고와 연락처 정보가 있어 실제 상업적 용도로 활용될 수 있습니다. 전체적으로 부드럽고 밝은 분홍색 계열의 색상이 사용되어 대상 이미지와 유사한 따뜻하고 화사한 분위기를 연출합니다. 이러한 시각적 구성과 봄 여행 프로모션이라는 주제 면에서 가장 유사성이 높습니다.\"                  \n",
    "\n",
    "\n",
    "human_message = ground_truth\n",
    "AI_message = select_reason_sonnet\n",
    "\n",
    "\n",
    "BL = BedrockLangChain_Image(bedrock_runtime=client)\n",
    "BL.invoke_evaluating_recommendation_review_langchain(model_id = model_id, \n",
    "                             model_kwargs = model_kwargs, \n",
    "                             user_prompt = user_prompt, \n",
    "                             system_prompt = system_prompt, \n",
    "                             AI_message = AI_message,\n",
    "                             human_message = human_message,\n",
    "                             verbose=False)\n"
   ]
  },
  {
   "cell_type": "markdown",
   "metadata": {},
   "source": [
    "## Claude3 Haiku가 제공한 이유 평가하기\n",
    "- ground_truth 와 Haiku 가 작성한 이유를 비교해서 \"관련성\" 을 평가 합니다."
   ]
  },
  {
   "cell_type": "code",
   "execution_count": 13,
   "metadata": {},
   "outputs": [
    {
     "name": "stdout",
     "output_type": "stream",
     "text": [
      "<evaluation>\n",
      "{\n",
      "  \"human_view\": \"이 이미지는 대상 이미지와 비슷한 시각적 요소와 주제를 담고 있습니다. 상단에는 활짝 핀 벚꽃 가지가 있어 봄날의 정취를 느끼게 합니다. 중앙에 큰 글씨로 적힌 텍스트는 어떤 이벤트나 프로모션을 알리는 것 같습니다. 아래쪽에는 브랜드 로고와 연락처 정보가 있어 실제 상업적인 목적으로 사용될 수 있을 것입니다. 전체적으로 부드럽고 밝은 분홍빛 계열의 색상이 사용되어 대상 이미지와 유사한 따뜻하고 화사한 느낌을 줍니다. 이렇듯 시각적 구성과 봄 여행 프로모션이라는 주제 면에서 가장 비슷한 점이 많습니다.\",\n",
      "  \"AI_view\": \"candidate_image_2.jpg가 <target_image>와 가장 유사한 것으로 판단됩니다. 두 이미지 모두 봄의 분위기를 잘 표현하고 있으며, 벚꽃 이미지와 밝은 색상 사용, 텍스트 레이아웃 등 전반적인 시각적 구성이 유사합니다. 특히 <target_image>의 벚꽃 풍경과 중앙의 텍스트 박스, 화살표 등의 요소가 candidate_image_2.jpg에서도 유사하게 나타나고 있습니다. 또한 두 이미지 모두 봄 시즌 프로모션이나 이벤트를 알리는 용도로 활용될 수 있어 주제와 활용 분야에서도 일치합니다. 따라서 candidate_image_2.jpg가 <target_image>와 가장 유사한 템플릿이라고 판단됩니다.\",\n",
      "  \"score\": 4,\n",
      "  \"reason\": \"두 의견 모두 봄 분위기와 벚꽃 이미지, 텍스트 레이아웃 등 시각적 요소와 봄 프로모션이라는 주제 면에서 유사성을 강조하고 있습니다. 세부적인 표현에는 약간의 차이가 있지만, 전반적으로 일관된 관점을 제시하고 있어 높은 수준의 연관성과 일치성을 보입니다.\"\n",
      "}\n",
      "</evaluation>"
     ]
    }
   ],
   "source": [
    "system_prompt = FP.get_image_recommendation_system_prompt()\n",
    "user_prompt = FP.get_image_recommendation_user_prompt()\n",
    "\n",
    "human_message = ground_truth\n",
    "AI_message = select_reason_haiku\n",
    "\n",
    "\n",
    "BL = BedrockLangChain_Image(bedrock_runtime=client)\n",
    "BL.invoke_evaluating_recommendation_review_langchain(model_id = model_id, \n",
    "                             model_kwargs = model_kwargs, \n",
    "                             user_prompt = user_prompt, \n",
    "                             system_prompt = system_prompt, \n",
    "                             AI_message = AI_message,\n",
    "                             human_message = human_message,\n",
    "                             verbose=False)\n",
    "\n"
   ]
  },
  {
   "cell_type": "markdown",
   "metadata": {},
   "source": [
    "## 실험으로 관련성이 적은 리뷰 제공\n",
    "- 앞 실험에서는 Sonnet, Haiku 가 비슷한 스코어를 (예: 4점) 을 주었기 때문에, 사람이 생각한 이유를 임의로 다르게 입력으로 하여, 스코어와 이유를 비교 합니다."
   ]
  },
  {
   "cell_type": "code",
   "execution_count": 17,
   "metadata": {},
   "outputs": [
    {
     "name": "stdout",
     "output_type": "stream",
     "text": [
      "<evaluation>\n",
      "{\n",
      "  \"human_view\": \"candidate_image_1.jpg는 타겟 이미지와 가장 비슷한데 이유는 꽃잎이 흩날리는 모습이 있기 때문입니다.\",\n",
      "  \"AI_view\": \"candidate_image_2.jpg가 <target_image>와 가장 유사한 것으로 판단됩니다. 두 이미지 모두 봄의 분위기를 잘 표현하고 있으며, 벚꽃 이미지와 밝은 색상 사용, 텍스트 레이아웃 등 전반적인 시각적 구성이 유사합니다. 특히 <target_image>의 벚꽃 풍경과 중앙의 텍스트 박스, 화살표 등의 요소가 candidate_image_2.jpg에서도 유사하게 나타나고 있습니다. 또한 두 이미지 모두 봄 시즌 프로모션이나 이벤트를 알리는 용도로 활용될 수 있어 주제와 활용 분야에서도 일치합니다. 따라서 candidate_image_2.jpg가 <target_image>와 가장 유사한 템플릿이라고 판단됩니다.\",\n",
      "  \"score\": 4,\n",
      "  \"reason\": \"두 의견 모두 봄 분위기와 벚꽃 이미지를 강조하고 있으며, 전반적인 시각적 구성과 활용 목적에서 유사점을 보이고 있습니다. 다만 구체적인 이미지 선택에 대해서는 의견 차이가 있습니다.\"\n",
      "}\n",
      "</evaluation>"
     ]
    }
   ],
   "source": [
    "\n",
    "human_message = \"'candidate_image_1.jpg'는 타겟 이미지와 가장 비슷한데 이유는 꽃잎이 흩날리는 모습이 있기 떄문입니다.\"\n",
    "AI_message = select_reason_haiku\n",
    "\n",
    "\n",
    "BL = BedrockLangChain_Image(bedrock_runtime=client)\n",
    "BL.invoke_evaluating_recommendation_review_langchain(model_id = model_id, \n",
    "                             model_kwargs = model_kwargs, \n",
    "                             user_prompt = user_prompt, \n",
    "                             system_prompt = system_prompt, \n",
    "                             AI_message = AI_message,\n",
    "                             human_message = human_message,\n",
    "                             verbose=False)\n"
   ]
  },
  {
   "cell_type": "code",
   "execution_count": null,
   "metadata": {},
   "outputs": [],
   "source": []
  }
 ],
 "metadata": {
  "kernelspec": {
   "display_name": "base",
   "language": "python",
   "name": "python3"
  },
  "language_info": {
   "codemirror_mode": {
    "name": "ipython",
    "version": 3
   },
   "file_extension": ".py",
   "mimetype": "text/x-python",
   "name": "python",
   "nbconvert_exporter": "python",
   "pygments_lexer": "ipython3",
   "version": "3.10.14"
  }
 },
 "nbformat": 4,
 "nbformat_minor": 2
}
