{
 "cells": [
  {
   "cell_type": "markdown",
   "metadata": {},
   "source": [
    "# 의상 코디 피드백 평가하기\n",
    "---\n",
    "\n",
    "## 실험 환경\n",
    "- 이 노트북은 SageMaker Studio Code Editor 및 커널 base (Python 3.10.13) 에서 테스트 되었습니다.\n",
    "- 실행 환경에 설치된 Python Package 참고 하세요. --> [requirements.txt](../requirements.txt)\n",
    "\n",
    "## 참고 자료\n",
    "- [Building with Anthropic’s Claude 3 on Amazon Bedrock and LangChain](https://medium.com/@dminhk/building-with-anthropics-claude-3-on-amazon-bedrock-and-langchain-%EF%B8%8F-2b842f9c0ca8)\n",
    "- [Amazon Bedrock 기반 Amorepacific 리뷰 요약 서비스 평가 방법 구현하기](langchain_core.runnables.base.RunnableSequence)\n",
    "- [Amazon Bedrock model IDs](https://docs.aws.amazon.com/bedrock/latest/userguide/model-ids.html)\n",
    "\n",
    "---"
   ]
  },
  {
   "cell_type": "markdown",
   "metadata": {},
   "source": [
    "# 0. 선수 노트북\n",
    "- 아래의 노트북을 먼저 실행하셔야 합니다.  --> [01_matching_codi_product.ipynb](01_matching_codi_product.ipynb)\n"
   ]
  },
  {
   "cell_type": "markdown",
   "metadata": {},
   "source": [
    "# 1. 환경 셋업"
   ]
  },
  {
   "cell_type": "markdown",
   "metadata": {},
   "source": [
    "가장 처음 실행시에는 아래를 install_needed == True 로 실행 해주세요"
   ]
  },
  {
   "cell_type": "code",
   "execution_count": 1,
   "metadata": {},
   "outputs": [],
   "source": [
    "import sys\n",
    "\n",
    "# install_needed = True\n",
    "install_needed = False\n",
    "\n",
    "if install_needed:\n",
    "    !{sys.executable} -m pip install -q langchain==0.1.16\n",
    "    !{sys.executable} -m pip install -q langchain-community==0.0.34\n",
    "    !{sys.executable} -m pip install -q langchain-aws==0.1.2\n",
    "    !{sys.executable} -m pip install -q boto3==1.34.87    "
   ]
  },
  {
   "cell_type": "code",
   "execution_count": 2,
   "metadata": {},
   "outputs": [
    {
     "name": "stdout",
     "output_type": "stream",
     "text": [
      "boto3                                 1.34.87\n",
      "langchain                             0.1.16\n",
      "langchain-aws                         0.1.2\n",
      "langchain-community                   0.0.34\n",
      "langchain-core                        0.1.46\n",
      "langchain-text-splitters              0.0.1\n"
     ]
    }
   ],
   "source": [
    "! pip list | grep -E \"langchain|boto3\""
   ]
  },
  {
   "cell_type": "code",
   "execution_count": 3,
   "metadata": {},
   "outputs": [],
   "source": [
    "%load_ext autoreload\n",
    "%autoreload 2"
   ]
  },
  {
   "cell_type": "code",
   "execution_count": 4,
   "metadata": {},
   "outputs": [
    {
     "name": "stdout",
     "output_type": "stream",
     "text": [
      "python path: /home/sagemaker-user/aws-ai-ml-workshop-kr-1/genai/aws-gen-ai-kr/20_applications/05_image_styling_recommendation_with_prompt_engineering/evaluation is added\n",
      "sys.path:  ['/home/sagemaker-user/aws-ai-ml-workshop-kr-1/genai/aws-gen-ai-kr/20_applications/05_image_styling_recommendation_with_prompt_engineering/evaluation/notebook', '/opt/conda/lib/python310.zip', '/opt/conda/lib/python3.10', '/opt/conda/lib/python3.10/lib-dynload', '', '/opt/conda/lib/python3.10/site-packages', '/home/sagemaker-user/aws-ai-ml-workshop-kr-1/genai/aws-gen-ai-kr/20_applications/05_image_styling_recommendation_with_prompt_engineering/evaluation']\n"
     ]
    }
   ],
   "source": [
    "import sys, os\n",
    "\n",
    "def add_python_path(module_path):\n",
    "    if os.path.abspath(module_path) not in sys.path:\n",
    "        sys.path.append(os.path.abspath(module_path))\n",
    "        print(f\"python path: {os.path.abspath(module_path)} is added\")\n",
    "    else:\n",
    "        print(f\"python path: {os.path.abspath(module_path)} already exists\")\n",
    "    print(\"sys.path: \", sys.path)\n",
    "\n",
    "module_path = \"..\"\n",
    "add_python_path(module_path)"
   ]
  },
  {
   "cell_type": "markdown",
   "metadata": {},
   "source": [
    "# 2. Ground Truth (Label) 생성하기"
   ]
  },
  {
   "cell_type": "markdown",
   "metadata": {},
   "source": [
    "## 두개의 모델에서 선택한 코디 이유 가져오기\n",
    "- 이전 노트북에서 저장한 두개의 모델의 이유를 가져 옵니다"
   ]
  },
  {
   "cell_type": "code",
   "execution_count": 5,
   "metadata": {},
   "outputs": [],
   "source": [
    "from eval_utils.langchain_bedrock import BedrockLangChain\n",
    "from eval_utils.util import (\n",
    "                        print_ww\n",
    "                        # invoke_model_text2text,\n",
    "                        \n",
    ")\n"
   ]
  },
  {
   "cell_type": "code",
   "execution_count": 6,
   "metadata": {},
   "outputs": [
    {
     "name": "stdout",
     "output_type": "stream",
     "text": [
      "select_reason_sonnet:\n",
      "이 제품은 데님 재킷과 잘 어울리는 심플하고 베이직한 화이트 반팔 티셔츠입니다. 티셔츠의 베이직한 디자인과 데님 재킷의 캐주얼한 스타일이 잘 매치되어 전체적으로 편안하고 자연스러운\n",
      "데일리 룩을 연출할 수 있습니다. 또한 티셔츠의 화이트 색상은 블루 데님 재킷과 대비를 이루어 밝고 산뜻한 느낌을 줍니다.\n",
      "select_reason_haiku: \n",
      "데님 재킷과 가장 잘 어울리는 아이템은 캐주얼하고 편안한 데일리 룩인 반팔 티셔츠입니다. 데님 재킷과 티셔츠의 조합은 전형적인 캐주얼 스타일을 연출할 수 있으며, 특히 이 반팔\n",
      "티셔츠는 심플하고 베이직한 디자인으로 데님 재킷과 잘 어울립니다. 또한 청바지와 함께 착용하면 전체적으로 편안하고 자연스러운 분위기를 연출할 수 있습니다.\n"
     ]
    }
   ],
   "source": [
    "%store -r select_reason_sonnet\n",
    "%store -r select_reason_haiku\n",
    "\n",
    "try:\n",
    "    print(\"select_reason_sonnet:\")\n",
    "    print_ww(select_reason_sonnet)\n",
    "    print(\"select_reason_haiku: \")\n",
    "    print_ww(select_reason_haiku)\n",
    "except:\n",
    "    print(\"Run 01_matching_codi_product.ipynb\")\n",
    "\n",
    "\n"
   ]
  },
  {
   "cell_type": "markdown",
   "metadata": {},
   "source": [
    "## Ground Truth 생성을 위한 System, User Prompt 확인하기\n",
    "- Ground Truth 를 사람이 작성하는 것을 권장하나, 너무 많은 노력이 들어 갈 수 있어서 여기서는 아래와 같이 가정하여 작성합니다.\n",
    "    - Claude3 Sonnet 모델이 어울리다가 생각한 \"이유\" 를 Claude3 Sonnet 모델에 Re-Write 한 것을 Ground Truth 가정 합니다.\n",
    "- 아래의 System Prompt & User Prompt 는 미리 Claude3 Sonnet 모델을 이용해서 작성한 것을 가져옵니다."
   ]
  },
  {
   "cell_type": "code",
   "execution_count": 7,
   "metadata": {},
   "outputs": [
    {
     "name": "stdout",
     "output_type": "stream",
     "text": [
      "## system_prompt\n",
      "The task is to rewrite a given sentence in a different way while preserving its original\n",
      "meaning.Your role is to take a sentence provided by the user and rephrase it using different words\n",
      "or sentence structures, without altering the core meaning or message conveyed in the original\n",
      "sentence.\n",
      "\n",
      "Instructions:\n",
      "1. Read the sentence carefully and ensure you understand its intended meaning.\n",
      "2. Identify the key components of the sentence, such as the subject, verb, object, and any modifiers\n",
      "or additional information.\n",
      "3. Think of alternative ways to express the same idea using different vocabulary, sentence\n",
      "structures, or phrasing.\n",
      "4. Ensure that your rewritten sentence maintains the same essential meaning as the original, without\n",
      "introducing any new information or altering the original intent.\n",
      "5. Pay attention to grammar, punctuation, and overall coherence to ensure your rewritten sentence is\n",
      "well-formed and easy to understand.\n",
      "6. If the original sentence contains idioms, metaphors, or cultural references, try to find\n",
      "equivalent expressions or explanations in your rewritten version.\n",
      "7. Avoid oversimplifying or overly complicating the sentence; aim for a natural and clear rephrasing\n",
      "that maintains the original tone and complexity.\n",
      "\n",
      "Remember, the goal is to provide a fresh perspective on the sentence while preserving its core\n",
      "meaning and ensuring clarity and coherence in your rewritten version.\n",
      "\n",
      "## user_prompt\n",
      "Given <coordination_review> based on the guide on system prompt\n",
      "Please write in Korean. Output in JSON format following the <output_example> format, excluding\n",
      "<output_example>\n",
      "\n",
      "<coordination_review>{coordination_review}</coordination_review>\n",
      "<output_example>\n",
      "\"original_coordination_review\" :\n",
      "\"rewrite_original_coordination_review\" :\n",
      "</output_example>\n",
      "\n"
     ]
    }
   ],
   "source": [
    "import boto3\n",
    "from eval_utils.prompt import FashionPrompt\n",
    "\n",
    "FP = FashionPrompt()\n",
    "system_prompt = FP.get_rewrite_system_prompt()\n",
    "user_prompt = FP.get_rewrite_user_prompt()\n",
    "\n",
    "print(\"## system_prompt\")\n",
    "print_ww(system_prompt)\n",
    "print(\"## user_prompt\")\n",
    "print_ww(user_prompt)\n"
   ]
  },
  {
   "cell_type": "markdown",
   "metadata": {},
   "source": [
    "## Ground Truth 를 Sonnet 모델을 이용하여 Rw-Write 하여 생성"
   ]
  },
  {
   "cell_type": "code",
   "execution_count": 8,
   "metadata": {},
   "outputs": [
    {
     "name": "stdout",
     "output_type": "stream",
     "text": [
      "messages: \n",
      " [('system', 'The task is to rewrite a given sentence in a different way while preserving its original meaning.Your role is to take a sentence provided by the user and rephrase it using different words or sentence structures, without altering the core meaning or message conveyed in the original sentence.\\n\\nInstructions:\\n1. Read the sentence carefully and ensure you understand its intended meaning.\\n2. Identify the key components of the sentence, such as the subject, verb, object, and any modifiers or additional information.\\n3. Think of alternative ways to express the same idea using different vocabulary, sentence structures, or phrasing.\\n4. Ensure that your rewritten sentence maintains the same essential meaning as the original, without introducing any new information or altering the original intent.\\n5. Pay attention to grammar, punctuation, and overall coherence to ensure your rewritten sentence is well-formed and easy to understand.\\n6. If the original sentence contains idioms, metaphors, or cultural references, try to find equivalent expressions or explanations in your rewritten version.\\n7. Avoid oversimplifying or overly complicating the sentence; aim for a natural and clear rephrasing that maintains the original tone and complexity.\\n\\nRemember, the goal is to provide a fresh perspective on the sentence while preserving its core meaning and ensuring clarity and coherence in your rewritten version.\\n'), ('human', 'Given <coordination_review> based on the guide on system prompt         \\nPlease write in Korean. Output in JSON format following the <output_example> format, excluding <output_example>        \\n\\n<coordination_review>{coordination_review}</coordination_review>\\n<output_example>\\n\"original_coordination_review\" : \\n\"rewrite_original_coordination_review\" : \\n</output_example>\\n')]\n",
      "prompt: \n",
      "\n",
      "input_variables=['coordination_review']\n",
      "messages=[SystemMessagePromptTemplate(prompt=PromptTemplate(input_variables=[], template='The task\n",
      "is to rewrite a given sentence in a different way while preserving its original meaning.Your role is\n",
      "to take a sentence provided by the user and rephrase it using different words or sentence\n",
      "structures, without altering the core meaning or message conveyed in the original\n",
      "sentence.\\n\\nInstructions:\\n1. Read the sentence carefully and ensure you understand its intended\n",
      "meaning.\\n2. Identify the key components of the sentence, such as the subject, verb, object, and any\n",
      "modifiers or additional information.\\n3. Think of alternative ways to express the same idea using\n",
      "different vocabulary, sentence structures, or phrasing.\\n4. Ensure that your rewritten sentence\n",
      "maintains the same essential meaning as the original, without introducing any new information or\n",
      "altering the original intent.\\n5. Pay attention to grammar, punctuation, and overall coherence to\n",
      "ensure your rewritten sentence is well-formed and easy to understand.\\n6. If the original sentence\n",
      "contains idioms, metaphors, or cultural references, try to find equivalent expressions or\n",
      "explanations in your rewritten version.\\n7. Avoid oversimplifying or overly complicating the\n",
      "sentence; aim for a natural and clear rephrasing that maintains the original tone and\n",
      "complexity.\\n\\nRemember, the goal is to provide a fresh perspective on the sentence while preserving\n",
      "its core meaning and ensuring clarity and coherence in your rewritten version.\\n')),\n",
      "HumanMessagePromptTemplate(prompt=PromptTemplate(input_variables=['coordination_review'],\n",
      "template='Given <coordination_review> based on the guide on system prompt         \\nPlease write in\n",
      "Korean. Output in JSON format following the <output_example> format, excluding <output_example>\n",
      "\\n\\n<coordination_review>{coordination_review}</coordination_review>\\n<output_example>\\n\"original_co\n",
      "ordination_review\" : \\n\"rewrite_original_coordination_review\" : \\n</output_example>\\n'))]\n",
      "## Created Prompt:\n",
      "\n",
      "## Re-Write coordination_review \n",
      "이 제품은 평범한 화이트 반팔 티셔츠지만 데님 재킷과 함께 입으면 캐주얼하면서도 자연스러운 스타일을 연출할 수 있습니다. 티셔츠의 단정한 디자인과 데님 재킷의 편안한 느낌이 잘\n",
      "어우러져 일상생활에서 부담 없이 입을 수 있는 옷차림을 완성합니다. 또한 화이트와 블루 데님의 색상 대비가 전체적인 룩에 산뜻함과 밝은 분위기를 더해줍니다.\n"
     ]
    }
   ],
   "source": [
    "\n",
    "region = \"us-west-2\"\n",
    "model_id = \"anthropic.claude-3-sonnet-20240229-v1:0\"\n",
    "\n",
    "client = boto3.client(service_name=\"bedrock-runtime\", region_name=region)\n",
    "model_kwargs =  { \n",
    "    \"max_tokens\": 2048,\n",
    "    \"temperature\": 1.0,\n",
    "    \"top_k\": 250,\n",
    "    \"top_p\": 1,\n",
    "}                             \n",
    "\n",
    "BL = BedrockLangChain(bedrock_runtime=client)\n",
    "response = BL.invoke_rewrite_langchain(model_id = model_id, \n",
    "                             model_kwargs = model_kwargs, \n",
    "                             user_prompt = user_prompt, \n",
    "                             system_prompt = system_prompt, \n",
    "                             coordination_review = select_reason_sonnet,\n",
    "                             verbose=True)\n",
    "\n",
    "import json\n",
    "data_dict = json.loads(response)\n",
    "rewrite_original_coordination_review = data_dict['rewrite_original_coordination_review']\n",
    "print(\"## Re-Write coordination_review \")\n",
    "print_ww(rewrite_original_coordination_review)"
   ]
  },
  {
   "cell_type": "markdown",
   "metadata": {},
   "source": [
    "# 4. Evaluation 기준 및 방법을 생성하는 프롬프트 만들기\n",
    "- \"Evaluation 기준 및 방법\" 을 여러가지 솔루션으로 구현할 수 있습니다. 여기서는 Claude3 Sonnet 에게 이런한 기준을 작성하게 했습니다.\n",
    "    - 아래는 이러한 기준을 작성할 수 있다는 예시 입니다. \n",
    "    - 실제로 아래 프롬프트를 사용하여 생성을 받았고, 이후에 약간의 편집을 통해서 ../eval_utils/prompt.py 에 저장을 했습니다. \n",
    "    - 여기 셀의 실행은 이렇게 할 수 있다는 것만을 보여 드립니다.\n"
   ]
  },
  {
   "cell_type": "markdown",
   "metadata": {},
   "source": [
    "## Evaluation 기준 및 방법을 생성하는 프롬프트\n",
    "\n"
   ]
  },
  {
   "cell_type": "code",
   "execution_count": 9,
   "metadata": {},
   "outputs": [
    {
     "name": "stdout",
     "output_type": "stream",
     "text": [
      "messages: \n",
      " [('system', 'You are a prompt engineering expert.'), ('human', '먼저 당신의 역할과 작업을 XML Tag 없이 기술하세요, 이후에 아래의 <guide> 에 맟주어서 프롬프트를 영어로 작성해주세요. \\n<guide>{guide}</guide>')]\n",
      "prompt: \n",
      "\n",
      "input_variables=['guide']\n",
      "messages=[SystemMessagePromptTemplate(prompt=PromptTemplate(input_variables=[], template='You are a\n",
      "prompt engineering expert.')),\n",
      "HumanMessagePromptTemplate(prompt=PromptTemplate(input_variables=['guide'], template='먼저 당신의 역할과 작업을\n",
      "XML Tag 없이 기술하세요, 이후에 아래의 <guide> 에 맟주어서 프롬프트를 영어로 작성해주세요. \\n<guide>{guide}</guide>'))]\n",
      "## Created Prompt:\n",
      "\n"
     ]
    },
    {
     "name": "stdout",
     "output_type": "stream",
     "text": [
      "As a prompt engineering expert, my role is to provide clear and effective prompts to guide AI language models in generating relevant and coherent responses. I aim to structure prompts in a way that aligns the AI's output with the desired task or goal.\n",
      "\n",
      "<guide>\n",
      "You will be provided with two opinions: one from a fashion expert regarding clothing choices, and another from an AI system offering recommendations on clothing choices. Your task is to evaluate the relevance and coherence between these two opinions by assigning a score from 1 to 5.\n",
      "\n",
      "<criteria>\n",
      "1 - The two opinions are completely unrelated and have no coherence.\n",
      "2 - The opinions share minimal relevance or coherence.\n",
      "3 - The opinions have some degree of relevance and coherence, but with notable differences.\n",
      "4 - The opinions are largely relevant and coherent, with only minor differences.\n",
      "5 - The two opinions are highly relevant and coherent, aligning closely with each other.\n",
      "</criteria>\n",
      "\n",
      "<steps>\n",
      "1. Carefully read and understand the opinion provided by the fashion expert.\n",
      "2. Carefully read and understand the opinion provided by the AI system.\n",
      "3. Analyze the content, context, and recommendations of both opinions.\n",
      "4. Identify the areas where the opinions align or diverge in terms of their relevance and coherence.\n",
      "5. Based on your analysis, assign a score from 1 to 5 that best represents the level of relevance and coherence between the two opinions, using the criteria provided.\n",
      "6. Provide a brief explanation justifying the assigned score.\n",
      "</steps>\n",
      "</guide>"
     ]
    }
   ],
   "source": [
    "from eval_utils.prompt import FashionPrompt\n",
    "\n",
    "model_id = \"anthropic.claude-3-sonnet-20240229-v1:0\"\n",
    "\n",
    "model_kwargs =  { \n",
    "    \"max_tokens\": 2048,\n",
    "    \"temperature\": 0.0,\n",
    "    \"top_k\": 250,\n",
    "    \"top_p\": 1,\n",
    "}                             \n",
    "\n",
    "\n",
    "FP = FashionPrompt()\n",
    "system_prompt = FP.get_create_criteria_system_prompt()\n",
    "user_prompt = FP.get_create_criteria_user_prompt()\n",
    "\n",
    "guide=\"이후에 당신은 의상 전문가의 의상 착용에 대한  의견과 AI 가 제공한 의상 착용의  두가지 의견이 주어질 겁니다.  \\\n",
    "이 두개의 의견이 얼마나 연관성이 있는지를 1점, 2점, 3점, 4점, 5점 으로서  스코어의 기준을 <criterira></criterira>  형식으로 작성하시고, \\\n",
    "두개의 의견이 제공이 되었을때에 평가를 하는 단계를 <steps></steps> 형식으로 작성 하세요. \"\n",
    "\n",
    "\n",
    "BL = BedrockLangChain(bedrock_runtime=client)\n",
    "BL.invoke_creating_criteria_langchain(model_id = model_id, \n",
    "                             model_kwargs = model_kwargs, \n",
    "                             user_prompt = user_prompt, \n",
    "                             system_prompt = system_prompt, \n",
    "                             guide = guide,\n",
    "                             verbose=True)\n"
   ]
  },
  {
   "cell_type": "markdown",
   "metadata": {},
   "source": [
    "# 5. Ground Truth 와 AI Review 평가하기"
   ]
  },
  {
   "cell_type": "markdown",
   "metadata": {},
   "source": [
    "## Claude3 Sonnet 이 제공한 이유 평가하기\n",
    "- ground_truth 와 Sonnet 이 작성한 이유를 비교해서 \"관련성\" 을 평가 합니다."
   ]
  },
  {
   "cell_type": "code",
   "execution_count": 10,
   "metadata": {},
   "outputs": [
    {
     "name": "stdout",
     "output_type": "stream",
     "text": [
      "<evaluation>\n",
      "{\n",
      "\"human_view\": \"이 제품은 평범한 화이트 반팔 티셔츠지만 데님 재킷과 함께 입으면 캐주얼하면서도 자연스러운 스타일을 연출할 수 있습니다. 티셔츠의 단정한 디자인과 데님 재킷의 편안한 느낌이 잘 어우러져 일상생활에서 부담 없이 입을 수 있는 옷차림을 완성합니다. 또한 화이트와 블루 데님의 색상 대비가 전체적인 룩에 산뜻함과 밝은 분위기를 더해줍니다.\",\n",
      "\"AI_view\": \"이 제품은 데님 재킷과 잘 어울리는 심플하고 베이직한 화이트 반팔 티셔츠입니다. 티셔츠의 베이직한 디자인과 데님 재킷의 캐주얼한 스타일이 잘 매치되어 전체적으로 편안하고 자연스러운 데일리 룩을 연출할 수 있습니다. 또한 티셔츠의 화이트 색상은 블루 데님 재킷과 대비를 이루어 밝고 산뜻한 느낌을 줍니다.\",\n",
      "\"score\": 4,\n",
      "\"reason\": \"인간과 AI의 의견이 대체로 일치하며 티셔츠와 데님 재킷의 조화로운 매치에 대해 유사한 관점을 제시합니다. 다만 AI 의견에서는 티셔츠 디자인을 '베이직'하다고 표현한 반면 인간 의견에서는 '단정한'이라고 표현한 점에서 약간의 차이가 있습니다.\"\n",
      "}\n",
      "</evaluation>"
     ]
    }
   ],
   "source": [
    "system_prompt = FP.get_fashion_evaluation_system_prompt()\n",
    "user_prompt = FP.get_fashion_evaluation_user_prompt()\n",
    "\n",
    "\n",
    "ground_truth = rewrite_original_coordination_review\n",
    "\n",
    "select_reason_haiku\n",
    "\n",
    "# human_message = \"원피스 아이템에 트랜치코드를 걸치면 세련되고 캐주얼한 스타일을 연출할 수 있습니다. 베이지색 트랜치코트는 네이비 원피스의 색상과 잘 어울리며, 면 소재는 편안한 착용감을 제공합니다. 또한 버킷백과도 스타일리시하게 매치할 수 있어 전체적으로 조화로운 코디가 가능합니다\"                  \n",
    "# AI_message = \"데님 팬츠와 잘 어울리는 상의는 기본적인 셔츠 디자인이 적절합니다. 스트라이프 셔츠는 심플하면서도 포인트 디테일(노란색 자)이 있어 팬츠와 잘 매치될 것 같습니다. 또한 면 소재라 데님 팬츠와 소재감도 비슷하여 코디하기 좋을 것 같습니다\"                  \n",
    "\n",
    "\n",
    "human_message = ground_truth\n",
    "AI_message = select_reason_sonnet\n",
    "\n",
    "\n",
    "BL = BedrockLangChain(bedrock_runtime=client)\n",
    "BL.invoke_evaluating_fashion_review_langchain(model_id = model_id, \n",
    "                             model_kwargs = model_kwargs, \n",
    "                             user_prompt = user_prompt, \n",
    "                             system_prompt = system_prompt, \n",
    "                             AI_message = AI_message,\n",
    "                             human_message = human_message,\n",
    "                             verbose=False)\n"
   ]
  },
  {
   "cell_type": "markdown",
   "metadata": {},
   "source": [
    "## Claude3 Haiku 이 제공한 이유 평가하기\n",
    "- ground_truth 와 Haiku 가 작성한 이유를 비교해서 \"관련성\" 을 평가 합니다."
   ]
  },
  {
   "cell_type": "code",
   "execution_count": 11,
   "metadata": {},
   "outputs": [
    {
     "name": "stdout",
     "output_type": "stream",
     "text": [
      "{\n",
      "\"human_view\": \"이 제품은 평범한 화이트 반팔 티셔츠지만 데님 재킷과 함께 입으면 캐주얼하면서도 자연스러운 스타일을 연출할 수 있습니다. 티셔츠의 단정한 디자인과 데님 재킷의 편안한 느낌이 잘 어우러져 일상생활에서 부담 없이 입을 수 있는 옷차림을 완성합니다. 또한 화이트와 블루 데님의 색상 대비가 전체적인 룩에 산뜻함과 밝은 분위기를 더해줍니다.\",\n",
      "\"AI_view\": \"데님 재킷과 가장 잘 어울리는 아이템은 캐주얼하고 편안한 데일리 룩인 반팔 티셔츠입니다. 데님 재킷과 티셔츠의 조합은 전형적인 캐주얼 스타일을 연출할 수 있으며, 특히 이 반팔 티셔츠는 심플하고 베이직한 디자인으로 데님 재킷과 잘 어울립니다. 또한 청바지와 함께 착용하면 전체적으로 편안하고 자연스러운 분위기를 연출할 수 있습니다.\",\n",
      "\"score\": 4,\n",
      "\"reason\": \"두 의견은 대체로 일치하며, 데님 재킷과 반팔 티셔츠의 조합이 캐주얼하고 자연스러운 스타일을 연출한다는 점에서 유사한 관점을 제시합니다. 다만 AI 의견은 청바지와의 조합에 대해 언급한 반면, 인간 의견은 색상 대비에 대해 더 자세히 설명하고 있습니다.\"\n",
      "}"
     ]
    }
   ],
   "source": [
    "ground_truth = rewrite_original_coordination_review\n",
    "\n",
    "human_message = ground_truth\n",
    "AI_message = select_reason_haiku\n",
    "\n",
    "\n",
    "BL = BedrockLangChain(bedrock_runtime=client)\n",
    "BL.invoke_evaluating_fashion_review_langchain(model_id = model_id, \n",
    "                             model_kwargs = model_kwargs, \n",
    "                             user_prompt = user_prompt, \n",
    "                             system_prompt = system_prompt, \n",
    "                             AI_message = AI_message,\n",
    "                             human_message = human_message,\n",
    "                             verbose=False)\n"
   ]
  },
  {
   "cell_type": "markdown",
   "metadata": {},
   "source": [
    "## 실험으로 관련성이 적은 리뷰 제공\n",
    "- Sonnet, Haiku 가 비슷한 스코어를 (예: 4점) 을 주어서, AI_review 가 다른 것을 입력으로 하여, 스코어를 비교 합니다."
   ]
  },
  {
   "cell_type": "code",
   "execution_count": 12,
   "metadata": {},
   "outputs": [
    {
     "name": "stdout",
     "output_type": "stream",
     "text": [
      "{\n",
      "\"human_view\": \"이 제품은 평범한 화이트 반팔 티셔츠지만 데님 재킷과 함께 입으면 캐주얼하면서도 자연스러운 스타일을 연출할 수 있습니다. 티셔츠의 단정한 디자인과 데님 재킷의 편안한 느낌이 잘 어우러져 일상생활에서 부담 없이 입을 수 있는 옷차림을 완성합니다. 또한 화이트와 블루 데님의 색상 대비가 전체적인 룩에 산뜻함과 밝은 분위기를 더해줍니다.\",\n",
      "\"AI_view\": \"원피스 아이템에 트랜치코드를 걸치면 세련되고 캐주얼한 스타일을 연출할 수 있습니다. 베이지색 트랜치코트는 네이비 원피스의 색상과 잘 어울리며, 면 소재는 편안한 착용감을 제공합니다. 또한 버킷백과도 스타일리시하게 매치할 수 있어 전체적으로 조화로운 코디가 가능합니다\",\n",
      "\"score\": 2,\n",
      "\"reason\": \"두 의견은 옷차림에 대한 일반적인 조언을 제공하지만 구체적인 아이템과 스타일링 방식이 다릅니다. 인간 의견은 티셔츠와 데님 재킷 조합을 다루는 반면, AI 의견은 원피스와 트렌치코트 조합을 다룹니다.\"\n",
      "}"
     ]
    }
   ],
   "source": [
    "ground_truth = rewrite_original_coordination_review\n",
    "\n",
    "\n",
    "human_message = ground_truth\n",
    "AI_message = \"원피스 아이템에 트랜치코드를 걸치면 세련되고 캐주얼한 스타일을 연출할 수 있습니다. 베이지색 트랜치코트는 네이비 원피스의 색상과 잘 어울리며, 면 소재는 편안한 착용감을 제공합니다. 또한 버킷백과도 스타일리시하게 매치할 수 있어 전체적으로 조화로운 코디가 가능합니다\"                  \n",
    "\n",
    "\n",
    "BL = BedrockLangChain(bedrock_runtime=client)\n",
    "BL.invoke_evaluating_fashion_review_langchain(model_id = model_id, \n",
    "                             model_kwargs = model_kwargs, \n",
    "                             user_prompt = user_prompt, \n",
    "                             system_prompt = system_prompt, \n",
    "                             AI_message = AI_message,\n",
    "                             human_message = human_message,\n",
    "                             verbose=False)\n"
   ]
  },
  {
   "cell_type": "code",
   "execution_count": null,
   "metadata": {},
   "outputs": [],
   "source": []
  },
  {
   "cell_type": "code",
   "execution_count": null,
   "metadata": {},
   "outputs": [],
   "source": []
  },
  {
   "cell_type": "code",
   "execution_count": null,
   "metadata": {},
   "outputs": [],
   "source": []
  }
 ],
 "metadata": {
  "kernelspec": {
   "display_name": "base",
   "language": "python",
   "name": "python3"
  },
  "language_info": {
   "codemirror_mode": {
    "name": "ipython",
    "version": 3
   },
   "file_extension": ".py",
   "mimetype": "text/x-python",
   "name": "python",
   "nbconvert_exporter": "python",
   "pygments_lexer": "ipython3",
   "version": "3.10.13"
  }
 },
 "nbformat": 4,
 "nbformat_minor": 2
}
