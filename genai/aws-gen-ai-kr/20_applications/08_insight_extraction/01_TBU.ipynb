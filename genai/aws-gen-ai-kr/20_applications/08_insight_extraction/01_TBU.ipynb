{
 "cells": [
  {
   "cell_type": "markdown",
   "id": "0a4eb837-ef78-4b45-9e2c-dbd81c3b763d",
   "metadata": {},
   "source": [
    "# Insight extraction (Text2Insight)\n"
   ]
  },
  {
   "cell_type": "markdown",
   "id": "0e755fec-095b-43ce-8b2f-e46fd002dc00",
   "metadata": {},
   "source": [
    "## Setting\n",
    " - Auto Reload\n",
    " - path for utils"
   ]
  },
  {
   "cell_type": "code",
   "execution_count": 1,
   "id": "6543f134-4f41-4540-bd24-907bed8ad016",
   "metadata": {
    "tags": []
   },
   "outputs": [],
   "source": [
    "%load_ext autoreload\n",
    "%autoreload 2"
   ]
  },
  {
   "cell_type": "code",
   "execution_count": 2,
   "id": "9dd7fb1d-710f-4345-92a0-b5a794742afe",
   "metadata": {
    "tags": []
   },
   "outputs": [],
   "source": [
    "import sys, os\n",
    "module_path = \"../..\"\n",
    "sys.path.append(os.path.abspath(module_path))"
   ]
  },
  {
   "cell_type": "markdown",
   "id": "60864ffe-4fe9-4e08-bb49-9b4ecdb8c7db",
   "metadata": {},
   "source": [
    "## 1. Create Bedrock client"
   ]
  },
  {
   "cell_type": "code",
   "execution_count": 3,
   "id": "6705c228-f793-47e9-b2da-ade94f209fa2",
   "metadata": {
    "tags": []
   },
   "outputs": [],
   "source": [
    "import boto3\n",
    "from pprint import pprint\n",
    "from termcolor import colored\n",
    "from utils import bedrock, print_ww\n",
    "from utils.bedrock import bedrock_info"
   ]
  },
  {
   "cell_type": "markdown",
   "id": "e197919c-2fbc-4344-a259-4c34dca45a0f",
   "metadata": {
    "tags": []
   },
   "source": [
    "### ---- ⚠️ Un-comment and edit the below lines as needed for your AWS setup ⚠️ ----\n",
    "- os.environ[\"AWS_DEFAULT_REGION\"] = \"<REGION_NAME>\"  # E.g. \"us-east-1\"\n",
    "- os.environ[\"AWS_PROFILE\"] = \"<YOUR_PROFILE>\"\n",
    "- os.environ[\"BEDROCK_ASSUME_ROLE\"] = \"<YOUR_ROLE_ARN>\"  # E.g. \"arn:aws:...\"\n",
    "- os.environ[\"BEDROCK_ENDPOINT_URL\"] = \"<YOUR_ENDPOINT_URL>\"  # E.g. \"https://...\""
   ]
  },
  {
   "cell_type": "code",
   "execution_count": 4,
   "id": "67a986c0-60fe-4e77-875c-338a138460fc",
   "metadata": {
    "tags": []
   },
   "outputs": [
    {
     "name": "stdout",
     "output_type": "stream",
     "text": [
      "Create new client\n",
      "  Using region: None\n",
      "  Using profile: None\n",
      "boto3 Bedrock client successfully created!\n",
      "bedrock-runtime(https://bedrock-runtime.us-east-1.amazonaws.com)\n",
      "\u001b[32m\n",
      "== FM lists ==\u001b[0m\n",
      "{'Claude-Instant-V1': 'anthropic.claude-instant-v1',\n",
      " 'Claude-V1': 'anthropic.claude-v1',\n",
      " 'Claude-V2': 'anthropic.claude-v2',\n",
      " 'Claude-V2-1': 'anthropic.claude-v2:1',\n",
      " 'Claude-V3-5-Sonnet': 'anthropic.claude-3-5-sonnet-20240620-v1:0',\n",
      " 'Claude-V3-Haiku': 'anthropic.claude-3-haiku-20240307-v1:0',\n",
      " 'Claude-V3-Opus': 'anthropic.claude-3-sonnet-20240229-v1:0',\n",
      " 'Claude-V3-Sonnet': 'anthropic.claude-3-sonnet-20240229-v1:0',\n",
      " 'Cohere-Embeddings-En': 'cohere.embed-english-v3',\n",
      " 'Cohere-Embeddings-Multilingual': 'cohere.embed-multilingual-v3',\n",
      " 'Command': 'cohere.command-text-v14',\n",
      " 'Command-Light': 'cohere.command-light-text-v14',\n",
      " 'Jurassic-2-Mid': 'ai21.j2-mid-v1',\n",
      " 'Jurassic-2-Ultra': 'ai21.j2-ultra-v1',\n",
      " 'Llama2-13b-Chat': 'meta.llama2-13b-chat-v1',\n",
      " 'Titan-Embeddings-G1': 'amazon.titan-embed-text-v1',\n",
      " 'Titan-Text-Embeddings-V2': 'amazon.titan-embed-text-v2:0',\n",
      " 'Titan-Text-G1': 'amazon.titan-text-express-v1',\n",
      " 'Titan-Text-G1-Express': 'amazon.titan-text-express-v1',\n",
      " 'Titan-Text-G1-Light': 'amazon.titan-text-lite-v1',\n",
      " 'Titan-Text-G1-Premier': 'amazon.titan-text-premier-v1:0'}\n"
     ]
    }
   ],
   "source": [
    "boto3_bedrock = bedrock.get_bedrock_client(\n",
    "    assumed_role=os.environ.get(\"BEDROCK_ASSUME_ROLE\", None),\n",
    "    endpoint_url=os.environ.get(\"BEDROCK_ENDPOINT_URL\", None),\n",
    "    region=os.environ.get(\"AWS_DEFAULT_REGION\", None),\n",
    ")\n",
    "\n",
    "print (colored(\"\\n== FM lists ==\", \"green\"))\n",
    "pprint (bedrock_info.get_list_fm_models(verbose=False))"
   ]
  },
  {
   "cell_type": "markdown",
   "id": "5e8e2368-e195-47e4-b981-80f7e6dc4421",
   "metadata": {},
   "source": [
    "## 2. LLM Object 생성"
   ]
  },
  {
   "cell_type": "code",
   "execution_count": 5,
   "id": "5b094dc1-26f9-4dcc-b51a-178edadb407e",
   "metadata": {
    "tags": []
   },
   "outputs": [],
   "source": [
    "from utils.bedrock import bedrock_model\n",
    "#from langchain_aws import ChatBedrock\n",
    "#from langchain_aws import ChatBedrockConverse\n",
    "from langchain.callbacks.streaming_stdout import StreamingStdOutCallbackHandler"
   ]
  },
  {
   "cell_type": "code",
   "execution_count": 6,
   "id": "bd05a4a4-0ffc-4e29-b1db-0f28ce6374d6",
   "metadata": {
    "tags": []
   },
   "outputs": [],
   "source": [
    "llm_text = bedrock_model(\n",
    "    model_id=bedrock_info.get_model_id(model_name=\"Claude-V3-Sonnet\"),\n",
    "    bedrock_client=boto3_bedrock,\n",
    "    stream=True,\n",
    "    callbacks=[StreamingStdOutCallbackHandler()],\n",
    "    inference_config={\n",
    "        'maxTokens': 1024,\n",
    "        'stopSequences': [\"\\n\\nHuman\"],\n",
    "        'temperature': 0.01,\n",
    "        #'topP': ...,\n",
    "    }\n",
    "    #additional_model_request_fields={\"top_k\": 200}\n",
    ")"
   ]
  },
  {
   "cell_type": "code",
   "execution_count": 7,
   "id": "8dfcece2",
   "metadata": {},
   "outputs": [
    {
     "data": {
      "text/plain": [
       "utils.bedrock.bedrock_model"
      ]
     },
     "execution_count": 7,
     "metadata": {},
     "output_type": "execute_result"
    }
   ],
   "source": [
    "type(llm_text)"
   ]
  },
  {
   "cell_type": "code",
   "execution_count": null,
   "id": "bc3b8d28",
   "metadata": {},
   "outputs": [],
   "source": []
  },
  {
   "cell_type": "code",
   "execution_count": 8,
   "id": "499f55ae",
   "metadata": {},
   "outputs": [],
   "source": [
    "from textwrap import dedent\n",
    "from utils.bedrock import bedrock_utils\n",
    "from utils.text_to_insight import insight_extraction_chain, insight_extraction_tools\n",
    "\n",
    "from typing import TypedDict, Literal, Any\n",
    "from langgraph.graph import END, StateGraph\n",
    "from langgraph.checkpoint.memory import MemorySaver\n",
    "\n",
    "\n"
   ]
  },
  {
   "cell_type": "code",
   "execution_count": 88,
   "id": "8540349f",
   "metadata": {},
   "outputs": [],
   "source": [
    "class app_insight_extraction():\n",
    "\n",
    "    def __init__(self, **kwargs):\n",
    "\n",
    "        self.llm = kwargs[\"llm\"]\n",
    "        self.df = kwargs[\"df\"]\n",
    "        self.column_info = kwargs[\"column_info\"]\n",
    "        self.initialization()\n",
    "        self.graph_definition()\n",
    "        self.messages = []\n",
    "        #self.system_prompts = kwargs[\"system_prompts\"]\n",
    "        #self.user_prompts = kwargs[\"user_prompts\"]\n",
    "        #\n",
    "        #self.multi_turn = kwargs.get(\"multi_turn\", False)\n",
    "        #self.verbose = kwargs.get(\"verbose\", False)\n",
    "        #self.tool_config = kwargs.get(\"tool_config\", False)\n",
    "        \n",
    "        # self.request_prompt = dedent(\n",
    "        #     '''\n",
    "        #     메시지 작성 시 요청사항 입니다.:\n",
    "        #     <request>{request}</request>\n",
    "        #     '''\n",
    "        # )\n",
    "    \n",
    "    class GraphState_(TypedDict):\n",
    "        topic: str\n",
    "        anaysis_points: list[str]\n",
    "        response: str\n",
    "\n",
    "    def initialization(self, **kwargs):\n",
    "\n",
    "        def analysis_points(self, ):\n",
    "\n",
    "            prompt = dedent(\n",
    "                '''\n",
    "                You are an advanced data analysis assistant.\n",
    "                Your role is to help extract meaningful insights from user-provided datasets based on a specific topic they provide.\n",
    "                \n",
    "                Follow these steps to generate a list of key data points and statistics to investigate:\n",
    "                1. Carefully consider the user-provided topic.\n",
    "                2. Analyze the structure and content of the provided data set.\n",
    "                3. Generate a list of 5-7 key data points or statistics that would be most relevant and insightful for the given topic. These should be phrased as clear, actionable requests or questions.\n",
    "                4. Ensure each point focuses on a different aspect of the topic, covering various angles of analysis.\n",
    "                5. Start each point with an action verb tag (e.g., \"[Calculate]\", \"[Compare]\", \"[Identify]\", \"[Analyze]\", \"[Determine]\", etc.).\n",
    "                6. Make sure the points are specific enough to guide a detailed analysis but broad enough to allow for comprehensive insights.\n",
    "                7. If applicable, include points that address trends over time, geographical differences, demographic variations, or other relevant factors.\n",
    "                8. Conclude your list with an open-ended point that encourages exploring any unexpected or noteworthy patterns in the data related to the topic.\n",
    "                9. Specify the column names used in your analysis.\n",
    "                10. All points should be provided within the tags <analysis_points></analysis_points> and numbered format.\n",
    "                11. Write in Korean.\n",
    "                \n",
    "                \n",
    "                Present your list in a clear.\n",
    "                Each point should be concise yet descriptive, providing a clear direction for the next steps of the analysis.    \n",
    "                Remember, your goal is to create a roadmap for a thorough, insightful analysis that will provide valuable information to the user about their chosen topic.\n",
    "                \n",
    "                '''\n",
    "            )\n",
    "            system_prompts = bedrock_utils.get_system_prompt(system_prompts=prompt)\n",
    "\n",
    "            user_prompts = dedent(\n",
    "                '''\n",
    "                This is the result of `print(df.head())`: <dataset>{dataset}</dataset>\n",
    "\n",
    "                Here is the column information in detail, this is the results of `print(column_info)`: <column_info>{column_info}</column_info>\n",
    "                \n",
    "                Here is user's topic interested: <topic>{topic}</topic>\n",
    "                '''\n",
    "            )\n",
    "            \n",
    "            self.insight_generator = insight_extraction_chain(\n",
    "                llm=self.llm,\n",
    "                system_prompts=system_prompts,\n",
    "                user_prompts=user_prompts,\n",
    "                multi_turn=True,\n",
    "                verbose=False\n",
    "            )\n",
    "        \n",
    "        analysis_points(self, )\n",
    "\n",
    "\n",
    "    def graph_definition(self, **kwargs):\n",
    "\n",
    "        def _node_get_analysis_points(state): \n",
    "\n",
    "            topic = state[\"topic\"]        \n",
    "            dataset = str(self.df.sample(10, random_state=0).to_csv())\n",
    "            column_info = str(self.column_info.to_csv())\n",
    "            \n",
    "            response = self.insight_generator.invoke(\n",
    "                context={\n",
    "                    \"dataset\": dataset,\n",
    "                    \"column_info\": column_info,\n",
    "                    \"topic\":topic\n",
    "                }\n",
    "            )\n",
    "\n",
    "            self.messages.extend(self.insight_generator.get_messages())\n",
    "            print (\"messages\", self.messages)\n",
    "\n",
    "            return self.GraphState_(\n",
    "                response=response\n",
    "            )\n",
    "\n",
    "        def _node_second(state):\n",
    "\n",
    "            print (state)\n",
    "        \n",
    "        # langgraph.graph에서 StateGraph와 END를 가져옵니다.\n",
    "        workflow = StateGraph(self.GraphState_)\n",
    "\n",
    "        # Todo 를 작성합니다.\n",
    "        workflow.add_node(\"_node_get_analysis_points\", _node_get_analysis_points)  # 에이전트 노드를 추가합니다.\n",
    "        workflow.add_node(\"_node_second\", _node_second)  # 에이전트 노드를 추가합니다.\n",
    "\n",
    "        # 각 노드들을 연결합니다.\n",
    "        workflow.add_edge(\"_node_get_analysis_points\", \"_node_second\")\n",
    "        workflow.add_edge(\"_node_second\", END)\n",
    "\n",
    "        # 시작점을 설정합니다.\n",
    "        workflow.set_entry_point(\"_node_get_analysis_points\")\n",
    "\n",
    "        # 기록을 위한 메모리 저장소를 설정합니다.\n",
    "        memory = MemorySaver()\n",
    "\n",
    "        # 그래프를 컴파일합니다.\n",
    "        self.app = workflow.compile(checkpointer=memory)\n",
    "\n",
    "        from langchain_core.runnables import RunnableConfig\n",
    "        # app.stream을 통해 입력된 메시지에 대한 출력을 스트리밍합니다.\n",
    "\n",
    "        self.config = RunnableConfig(recursion_limit=100, configurable={\"thread_id\": \"InsightExtraction\"})\n",
    "\n",
    "    def invoke(self, **kwargs):\n",
    "\n",
    "        inputs = self.GraphState_(\n",
    "            topic=kwargs[\"topic\"]\n",
    "        )\n",
    "        for s in self.app.stream(inputs, self.config):\n",
    "            print(list(s.values())[0])\n",
    "            print(\"----\")\n",
    "    \n",
    "    def show_graph(self, ):\n",
    "        \n",
    "        from IPython.display import Image, display\n",
    "\n",
    "        try:\n",
    "            display(\n",
    "                Image(self.app.get_graph(xray=True).draw_mermaid_png())\n",
    "            )  # 실행 가능한 객체의 그래프를 mermaid 형식의 PNG로 그려서 표시합니다. \n",
    "            # xray=True는 추가적인 세부 정보를 포함합니다.\n",
    "        except:\n",
    "            # 이 부분은 추가적인 의존성이 필요하며 선택적으로 실행됩니다.\n",
    "            pass\n",
    "\n",
    "                \n",
    "        \n"
   ]
  },
  {
   "cell_type": "code",
   "execution_count": 89,
   "id": "63e98d8f",
   "metadata": {},
   "outputs": [],
   "source": [
    "import pandas as pd"
   ]
  },
  {
   "cell_type": "code",
   "execution_count": 90,
   "id": "900000c7",
   "metadata": {},
   "outputs": [],
   "source": [
    "df = pd.read_parquet(\"./dataset/data\")\n",
    "column_info = pd.read_csv(\"dataset/column_info.csv\")\n",
    "state = GraphState()"
   ]
  },
  {
   "cell_type": "code",
   "execution_count": 91,
   "id": "b292c711",
   "metadata": {},
   "outputs": [],
   "source": [
    "app = app_insight_extraction(\n",
    "    llm=llm_text,\n",
    "    df=df,\n",
    "    column_info=column_info\n",
    ")"
   ]
  },
  {
   "cell_type": "code",
   "execution_count": 93,
   "id": "bf72216f",
   "metadata": {},
   "outputs": [
    {
     "name": "stdout",
     "output_type": "stream",
     "text": [
      "<analysis_points>\n",
      "1. [분석] wedd_move_category 컬럼을 활용하여 혼수 이사와 관련된 구매 내역을 추출하고, 인기 제품 및 구매 금액 등의 통계를 산출합니다.\n",
      "2. [비교] 혼수 이사 구매와 일반 구매 간의 제품 선호도, 구매 금액, 구매 시기 등을 비교하여 차이점을 파악합니다.\n",
      "3. [확인] 연령대(age_group), 성별(gendr_nm), 거주 지역(ctdo_nm, ccw_nm, dong_nm) 등의 인구통계학적 특성에 따른 혼수 이사 구매 패턴의 차이를 분석합니다.\n",
      "4. [분석] 혼수 이사 구매 고객의 pdp_view_cnt(PDP 조회 수), pdp_view_yn(PDP 조회 여부) 등을 활용하여 구매 전 정보 탐색 행태를 파악합니다.\n",
      "5. [확인] 혼수 이사 구매 고객의 재구매 패턴을 re_ordr_dt(재주문일자), diff_days(차이일수) 등의 컬럼을 활용하여 분석합니다.\n",
      "6. [분석] 혼수 이사 구매와 관련된 시계열 추이를 base_dt(기준일자) 컬럼을 활용하여 파악하고, 계절성이나 트렌드 변화 등을 확인합니다.\n",
      "7. [탐색] 데이터에서 발견되는 예상치 못한 패턴이나 인사이트가 있는지 탐색하고, 혼수 이사 구매 행태에 대한 추가적인 통찰을 도출합니다.\n",
      "</analysis_points>{'text': '<analysis_points>\\n1. [분석] wedd_move_category 컬럼을 활용하여 혼수 이사와 관련된 구매 내역을 추출하고, 인기 제품 및 구매 금액 등의 통계를 산출합니다.\\n2. [비교] 혼수 이사 구매와 일반 구매 간의 제품 선호도, 구매 금액, 구매 시기 등을 비교하여 차이점을 파악합니다.\\n3. [확인] 연령대(age_group), 성별(gendr_nm), 거주 지역(ctdo_nm, ccw_nm, dong_nm) 등의 인구통계학적 특성에 따른 혼수 이사 구매 패턴의 차이를 분석합니다.\\n4. [분석] 혼수 이사 구매 고객의 pdp_view_cnt(PDP 조회 수), pdp_view_yn(PDP 조회 여부) 등을 활용하여 구매 전 정보 탐색 행태를 파악합니다.\\n5. [확인] 혼수 이사 구매 고객의 재구매 패턴을 re_ordr_dt(재주문일자), diff_days(차이일수) 등의 컬럼을 활용하여 분석합니다.\\n6. [분석] 혼수 이사 구매와 관련된 시계열 추이를 base_dt(기준일자) 컬럼을 활용하여 파악하고, 계절성이나 트렌드 변화 등을 확인합니다.\\n7. [탐색] 데이터에서 발견되는 예상치 못한 패턴이나 인사이트가 있는지 탐색하고, 혼수 이사 구매 행태에 대한 추가적인 통찰을 도출합니다.\\n</analysis_points>', 'toolUse': None}\n",
      "messages [{'role': 'user', 'content': [{'text': \"\\nThis is the result of `print(df.head())`: <dataset>,record_type,cust_no,mdl_cd,base_dt,qt,amt,prdc_lvl1_cd,prdc_lvl1_nm,prdc_lvl2_cd,prdc_lvl2_nm,prdc_lvl3_cd,prdc_lvl3_nm,prdc_lvl4_cd,prdc_lvl4_nm,chnl_div_hpos_val,chnl_div_val,buy_rsn_nm,buy_type,onln_buy_yn,wedd_move_category,ordr_stts_nm,pdp_view_cnt,pdfm_dv_val,up_hma_dv_val,objt_dv_val,stry_prdc_dv_val,grw_lead_prdc_dv_val,mdl_category,pdfm_dtl_dv_val,dios_pdfm_dv_val,ap_dv_val,tv_oled_dv_val,wm_tongdol_dv_val,wp_lvl1_dv_val,wp_lvl2_dv_val,wp_lvl3_dv_val,rf_gc_dv_val,rf_liter_dv_val,rf_dv_val,shba_buy_category,pdp_buy_category,age,age_group,gendr_nm,ctdo_nm,ccw_nm,dong_nm,bld_usg_scls_nm,eqdr_group,apt_eci_group,det_eci_group,pdp_view_yn,stand_by_me_new_entr_yn,pdp_view_after_shba_add_yn,pdp_view_after_buy_yn,stand_by_me_buy_yn,stand_by_me_go_buy_yn,room_and_tv_buy_yn,cinebeam_buy_yn,tlamp_user_yn,re_ordr_dt,diff_days,diff_days_category\\n9394,PDP 조회내역,9395,M623FSB042S.AKOR,20230612,,,,,,,,,,,,,,,,,,12,001.상냉장하냉동,UP가전_상냉장,01-1.오브제 DIOS_상냉장,,,일반 제품,,상냉장 800리터 미만,,,,,,,,,디오스-상냉장,온라인,온라인,0,30대,여자,경기,안산시 단원구,초지동,아파트,40평대,7천 ~ 1억원 미만,5천 ~ 7천만원 미만,Y,N,N,N,N,N,N,N,N,,,\\n898,PDP 조회내역,899,T873MHH111.CKOR,20230710,,,,,,,,,,,,,,,,,,5,001.상냉장하냉동,UP가전_상냉장,01-1.오브제 DIOS_상냉장,,,일반 제품,,상냉장 800리터 이상,,,,,,,,,디오스-상냉장,미구매,미구매,0,40대,남자,서울,구로구,구로동,아파트,20평대,5천 ~ 7천만원 미만,5천 ~ 7천만원 미만,Y,N,N,N,N,N,N,N,N,,,\\n2398,구매내역,2399,M874GBB452.AKOR,20231029,1.0,3215100.0,RF,냉장고,RFBF,상냉장,RFBFMD,양문형 냉장고(상냉장),RFBFMDMF,Multi Door M-PJT,B2C,04.H/M,,일시불,N,,,0,001.상냉장하냉동,,01-1.오브제 DIOS_상냉장,,,일반 제품,,상냉장 800리터 이상,,,,,,,,,디오스-상냉장,미구매,미구매,0,40대,여자,대구,달성군,유가읍,아파트,40평대,5천 ~ 7천만원 미만,3천 ~ 5천만원 미만,N,N,N,N,N,N,N,N,N,,,\\n5906,구매내역,5907,M874AAA171.AKOR,20240119,1.0,3056000.0,RF,냉장고,RFBF,상냉장,RFBFMD,양문형 냉장고(상냉장),RFBFMDMF,Multi Door M-PJT,B2C,01.HIP,신규,일시불,N,,,0,001.상냉장하냉동,,,,,일반 제품,,상냉장 800리터 이상,,,,,,,,,디오스-상냉장,미구매,미구매,0,30대,여자,강원,원주시,태장동,아파트,30평대,3천 ~ 5천만원 미만,3천만원 미만,N,N,N,N,N,N,N,N,N,,,\\n2343,구매내역,2344,T873MWW111.CKOR,20231117,1.0,1543228.0,RF,냉장고,RFBF,상냉장,RFBFMD,양문형 냉장고(상냉장),RFBFMD4D,Multi Door 4Door,온라인그룹,11.가전유통,신규,일시불,N,,,0,001.상냉장하냉동,UP가전_상냉장,01-1.오브제 DIOS_상냉장,,,일반 제품,,상냉장 800리터 이상,,,,,,,,,디오스-상냉장,미구매,미구매,0,60대,여자,,,,,,,,N,N,N,N,N,N,N,N,N,,,\\n8225,구매내역,8226,M872AAA041.AKOR,20220416,1.0,2660000.0,RF,냉장고,RFBF,상냉장,RFBFMD,양문형 냉장고(상냉장),RFBFMDMB,Multi Door M-PJT Body,B2C,01.HIP,신규,일시불,N,,,0,001.상냉장하냉동,,01-1.오브제 DIOS_상냉장,,,일반 제품,,상냉장 800리터 이상,,,,,,,,800L,디오스-상냉장,온라인,온라인,0,40대,여자,광주,광산구,산정동,다가구,20평 미만,3천 ~ 5천만원 미만,3천 ~ 5천만원 미만,N,N,N,N,N,N,N,N,N,,,\\n5506,구매내역,5507,M872GBB252.AKOR,20211124,1.0,2908900.0,RF,냉장고,RFBF,상냉장,RFBFMD,양문형 냉장고(상냉장),RFBFMDMF,Multi Door M-PJT,B2C,04.H/M,,일시불,N,,,0,001.상냉장하냉동,,01-1.오브제 DIOS_상냉장,,,일반 제품,,상냉장 800리터 이상,,,,,,,,800L,디오스-상냉장,미구매,미구매,0,30대,여자,울산,북구,중산동,아파트,20평대,5천 ~ 7천만원 미만,3천 ~ 5천만원 미만,N,N,N,N,N,N,N,N,N,,,\\n6451,PDP 조회내역,6452,M620FBS351.AKOR,20231129,,,,,,,,,,,,,,,,,,2,001.상냉장하냉동,,01-1.오브제 DIOS_상냉장,,,일반 제품,,상냉장 800리터 미만,,,,,,,,600L,디오스-상냉장,미구매,미구매,0,40대,여자,대구,북구,국우동,아파트,30평대,5천 ~ 7천만원 미만,3천 ~ 5천만원 미만,Y,N,N,N,N,N,N,N,N,,,\\n2670,구매내역,2671,M873GBB551.AKOR,20230107,1.0,4032000.0,RF,냉장고,RFBF,상냉장,RFBFMD,양문형 냉장고(상냉장),RFBFMDMF,Multi Door M-PJT,B2C,01.HIP,신규,일시불,N,혼수,,0,001.상냉장하냉동,,01-1.오브제 DIOS_상냉장,,,일반 제품,,상냉장 800리터 이상,,,,,,,,,디오스-상냉장,미구매,미구매,0,30대,남자,전남,광양시,황금동,아파트,30평대,7천 ~ 1억원 미만,3천만원 미만,N,N,N,N,N,N,N,N,Y,,,\\n3497,PDP 조회내역,3498,T873MKE012.CKOR,20230718,,,,,,,,,,,,,,,,,,12,001.상냉장하냉동,UP가전_상냉장,01-1.오브제 DIOS_상냉장,,,일반 제품,,상냉장 800리터 이상,,,,,,,,,디오스-상냉장,온라인,온라인,0,30대,남자,서울,마포구,망원동,다가구,20평대,3천 ~ 5천만원 미만,5천 ~ 7천만원 미만,Y,N,N,N,N,N,N,N,N,,,\\n</dataset>\\n\\nHere is the column information in detail, this is the results of `print(column_info)`: <column_info>,컬럼 명,컬럼 한글명,DATA TYPE\\n0,record_type,레코드유형,VARCHAR\\n1,cust_no,통합고객번호,VARCHAR\\n2,mdl_cd,모델코드,VARCHAR\\n3,base_dt,기준일자,VARCHAR\\n4,qt,수량,INTEGER\\n5,amt,금액,BIGINT\\n6,prdc_lvl1_cd,제품1레벨코드,VARCHAR\\n7,prdc_lvl1_nm,제품1레벨명,VARCHAR\\n8,prdc_lvl2_cd,제품2레벨코드,VARCHAR\\n9,prdc_lvl2_nm,제품2레벨명,VARCHAR\\n10,prdc_lvl3_cd,제품3레벨코드,VARCHAR\\n11,prdc_lvl3_nm,제품3레벨명,VARCHAR\\n12,prdc_lvl4_cd,제품4레벨코드,VARCHAR\\n13,prdc_lvl4_nm,제품4레벨명,VARCHAR\\n14,chnl_div_hpos_val,채널구분상위값,VARCHAR\\n15,chnl_div_val,채널구분값,VARCHAR\\n16,buy_rsn_nm,구매사유명,VARCHAR\\n17,buy_type,구매유형,VARCHAR\\n18,onln_buy_yn,온라인구매여부,VARCHAR\\n19,wedd_move_category,혼수이사카테고리,VARCHAR\\n20,ordr_stts_nm,주문상태명,VARCHAR\\n21,pdp_view_cnt,PDP조회수,INTEGER\\n22,pdfm_dv_val,제품군구분값,VARCHAR\\n23,up_hma_dv_val,UP가전구분값,VARCHAR\\n24,objt_dv_val,오브제구분값,VARCHAR\\n25,stry_prdc_dv_val,전략제품구분값,VARCHAR\\n26,grw_lead_prdc_dv_val,성장주도제품구분값,VARCHAR\\n27,mdl_category,모델카테고리,VARCHAR\\n28,pdfm_dtl_dv_val,제품군상세구분값,VARCHAR\\n29,dios_pdfm_dv_val,디오스제품군구분값,VARCHAR\\n30,ap_dv_val,공기청정기구분값,VARCHAR\\n31,tv_oled_dv_val,OLEDTV구분값,VARCHAR\\n32,wm_tongdol_dv_val,통돌이세탁기구분값,VARCHAR\\n33,wp_lvl1_dv_val,정수기1레벨구분값,VARCHAR\\n34,wp_lvl2_dv_val,정수기2레벨구분값,VARCHAR\\n35,wp_lvl3_dv_val,정수기3레벨구분값,VARCHAR\\n36,rf_gc_dv_val,김치냉장고구분값,VARCHAR\\n37,rf_liter_dv_val,냉장고리터별구분값,VARCHAR\\n38,rf_dv_val,냉장고구분값,VARCHAR\\n39,shba_buy_category,장바구니구매카테고리,VARCHAR\\n40,pdp_buy_category,PDP구매카테고리,VARCHAR\\n41,age,연령,INTEGER\\n42,age_group,연령대,VARCHAR\\n43,gendr_nm,성별,VARCHAR\\n44,ctdo_nm,시/도명,VARCHAR\\n45,ccw_nm,시/군/구명,VARCHAR\\n46,dong_nm,읍/면/동명,VARCHAR\\n47,bld_usg_scls_nm,거주유형명,VARCHAR\\n48,eqdr_group,평형대,VARCHAR\\n49,apt_eci_group,아파트평균소득분포,VARCHAR\\n50,det_eci_group,일반주택평균소득분포,VARCHAR\\n51,pdp_view_yn,PDP조회여부,VARCHAR\\n52,stand_by_me_new_entr_yn,스탠바이미신규가입여부,VARCHAR\\n53,pdp_view_after_shba_add_yn,PDP조회이후장바구니추가여부,VARCHAR\\n54,pdp_view_after_buy_yn,PDP조회이후구매여부,VARCHAR\\n55,stand_by_me_buy_yn,스탠바이미구매여부,VARCHAR\\n56,stand_by_me_go_buy_yn,스탠바이미GO구매여부,VARCHAR\\n57,room_and_tv_buy_yn,룸앤티비구매여부,VARCHAR\\n58,cinebeam_buy_yn,시네빔구매여부,VARCHAR\\n59,tlamp_user_yn,TLAMP사용자여부,VARCHAR\\n60,re_ordr_dt,재주문일자,VARCHAR\\n61,diff_days,차이일수,INTEGER\\n62,diff_days_category,차이일수(카테고리),VARCHAR\\n</column_info>\\n\\nHere is user's topic interested: <topic>혼수 이사 분석</topic>\\n\"}]}, {'role': 'assistant', 'content': [{'text': '<analysis_points>\\n1. [분석] wedd_move_category 컬럼을 활용하여 혼수 이사와 관련된 구매 내역을 추출하고, 인기 제품 및 구매 금액 등의 통계를 산출합니다.\\n2. [비교] 혼수 이사 구매와 일반 구매 간의 제품 선호도, 구매 금액, 구매 시기 등을 비교하여 차이점을 파악합니다.\\n3. [확인] 연령대(age_group), 성별(gendr_nm), 거주 지역(ctdo_nm, ccw_nm, dong_nm) 등의 인구통계학적 특성에 따른 혼수 이사 구매 패턴의 차이를 분석합니다.\\n4. [분석] 혼수 이사 구매 고객의 pdp_view_cnt(PDP 조회 수), pdp_view_yn(PDP 조회 여부) 등을 활용하여 구매 전 정보 탐색 행태를 파악합니다.\\n5. [확인] 혼수 이사 구매 고객의 재구매 패턴을 re_ordr_dt(재주문일자), diff_days(차이일수) 등의 컬럼을 활용하여 분석합니다.\\n6. [분석] 혼수 이사 구매와 관련된 시계열 추이를 base_dt(기준일자) 컬럼을 활용하여 파악하고, 계절성이나 트렌드 변화 등을 확인합니다.\\n7. [탐색] 데이터에서 발견되는 예상치 못한 패턴이나 인사이트가 있는지 탐색하고, 혼수 이사 구매 행태에 대한 추가적인 통찰을 도출합니다.\\n</analysis_points>'}]}, {'role': 'user', 'content': [{'text': \"\\nThis is the result of `print(df.head())`: <dataset>,record_type,cust_no,mdl_cd,base_dt,qt,amt,prdc_lvl1_cd,prdc_lvl1_nm,prdc_lvl2_cd,prdc_lvl2_nm,prdc_lvl3_cd,prdc_lvl3_nm,prdc_lvl4_cd,prdc_lvl4_nm,chnl_div_hpos_val,chnl_div_val,buy_rsn_nm,buy_type,onln_buy_yn,wedd_move_category,ordr_stts_nm,pdp_view_cnt,pdfm_dv_val,up_hma_dv_val,objt_dv_val,stry_prdc_dv_val,grw_lead_prdc_dv_val,mdl_category,pdfm_dtl_dv_val,dios_pdfm_dv_val,ap_dv_val,tv_oled_dv_val,wm_tongdol_dv_val,wp_lvl1_dv_val,wp_lvl2_dv_val,wp_lvl3_dv_val,rf_gc_dv_val,rf_liter_dv_val,rf_dv_val,shba_buy_category,pdp_buy_category,age,age_group,gendr_nm,ctdo_nm,ccw_nm,dong_nm,bld_usg_scls_nm,eqdr_group,apt_eci_group,det_eci_group,pdp_view_yn,stand_by_me_new_entr_yn,pdp_view_after_shba_add_yn,pdp_view_after_buy_yn,stand_by_me_buy_yn,stand_by_me_go_buy_yn,room_and_tv_buy_yn,cinebeam_buy_yn,tlamp_user_yn,re_ordr_dt,diff_days,diff_days_category\\n9394,PDP 조회내역,9395,M623FSB042S.AKOR,20230612,,,,,,,,,,,,,,,,,,12,001.상냉장하냉동,UP가전_상냉장,01-1.오브제 DIOS_상냉장,,,일반 제품,,상냉장 800리터 미만,,,,,,,,,디오스-상냉장,온라인,온라인,0,30대,여자,경기,안산시 단원구,초지동,아파트,40평대,7천 ~ 1억원 미만,5천 ~ 7천만원 미만,Y,N,N,N,N,N,N,N,N,,,\\n898,PDP 조회내역,899,T873MHH111.CKOR,20230710,,,,,,,,,,,,,,,,,,5,001.상냉장하냉동,UP가전_상냉장,01-1.오브제 DIOS_상냉장,,,일반 제품,,상냉장 800리터 이상,,,,,,,,,디오스-상냉장,미구매,미구매,0,40대,남자,서울,구로구,구로동,아파트,20평대,5천 ~ 7천만원 미만,5천 ~ 7천만원 미만,Y,N,N,N,N,N,N,N,N,,,\\n2398,구매내역,2399,M874GBB452.AKOR,20231029,1.0,3215100.0,RF,냉장고,RFBF,상냉장,RFBFMD,양문형 냉장고(상냉장),RFBFMDMF,Multi Door M-PJT,B2C,04.H/M,,일시불,N,,,0,001.상냉장하냉동,,01-1.오브제 DIOS_상냉장,,,일반 제품,,상냉장 800리터 이상,,,,,,,,,디오스-상냉장,미구매,미구매,0,40대,여자,대구,달성군,유가읍,아파트,40평대,5천 ~ 7천만원 미만,3천 ~ 5천만원 미만,N,N,N,N,N,N,N,N,N,,,\\n5906,구매내역,5907,M874AAA171.AKOR,20240119,1.0,3056000.0,RF,냉장고,RFBF,상냉장,RFBFMD,양문형 냉장고(상냉장),RFBFMDMF,Multi Door M-PJT,B2C,01.HIP,신규,일시불,N,,,0,001.상냉장하냉동,,,,,일반 제품,,상냉장 800리터 이상,,,,,,,,,디오스-상냉장,미구매,미구매,0,30대,여자,강원,원주시,태장동,아파트,30평대,3천 ~ 5천만원 미만,3천만원 미만,N,N,N,N,N,N,N,N,N,,,\\n2343,구매내역,2344,T873MWW111.CKOR,20231117,1.0,1543228.0,RF,냉장고,RFBF,상냉장,RFBFMD,양문형 냉장고(상냉장),RFBFMD4D,Multi Door 4Door,온라인그룹,11.가전유통,신규,일시불,N,,,0,001.상냉장하냉동,UP가전_상냉장,01-1.오브제 DIOS_상냉장,,,일반 제품,,상냉장 800리터 이상,,,,,,,,,디오스-상냉장,미구매,미구매,0,60대,여자,,,,,,,,N,N,N,N,N,N,N,N,N,,,\\n8225,구매내역,8226,M872AAA041.AKOR,20220416,1.0,2660000.0,RF,냉장고,RFBF,상냉장,RFBFMD,양문형 냉장고(상냉장),RFBFMDMB,Multi Door M-PJT Body,B2C,01.HIP,신규,일시불,N,,,0,001.상냉장하냉동,,01-1.오브제 DIOS_상냉장,,,일반 제품,,상냉장 800리터 이상,,,,,,,,800L,디오스-상냉장,온라인,온라인,0,40대,여자,광주,광산구,산정동,다가구,20평 미만,3천 ~ 5천만원 미만,3천 ~ 5천만원 미만,N,N,N,N,N,N,N,N,N,,,\\n5506,구매내역,5507,M872GBB252.AKOR,20211124,1.0,2908900.0,RF,냉장고,RFBF,상냉장,RFBFMD,양문형 냉장고(상냉장),RFBFMDMF,Multi Door M-PJT,B2C,04.H/M,,일시불,N,,,0,001.상냉장하냉동,,01-1.오브제 DIOS_상냉장,,,일반 제품,,상냉장 800리터 이상,,,,,,,,800L,디오스-상냉장,미구매,미구매,0,30대,여자,울산,북구,중산동,아파트,20평대,5천 ~ 7천만원 미만,3천 ~ 5천만원 미만,N,N,N,N,N,N,N,N,N,,,\\n6451,PDP 조회내역,6452,M620FBS351.AKOR,20231129,,,,,,,,,,,,,,,,,,2,001.상냉장하냉동,,01-1.오브제 DIOS_상냉장,,,일반 제품,,상냉장 800리터 미만,,,,,,,,600L,디오스-상냉장,미구매,미구매,0,40대,여자,대구,북구,국우동,아파트,30평대,5천 ~ 7천만원 미만,3천 ~ 5천만원 미만,Y,N,N,N,N,N,N,N,N,,,\\n2670,구매내역,2671,M873GBB551.AKOR,20230107,1.0,4032000.0,RF,냉장고,RFBF,상냉장,RFBFMD,양문형 냉장고(상냉장),RFBFMDMF,Multi Door M-PJT,B2C,01.HIP,신규,일시불,N,혼수,,0,001.상냉장하냉동,,01-1.오브제 DIOS_상냉장,,,일반 제품,,상냉장 800리터 이상,,,,,,,,,디오스-상냉장,미구매,미구매,0,30대,남자,전남,광양시,황금동,아파트,30평대,7천 ~ 1억원 미만,3천만원 미만,N,N,N,N,N,N,N,N,Y,,,\\n3497,PDP 조회내역,3498,T873MKE012.CKOR,20230718,,,,,,,,,,,,,,,,,,12,001.상냉장하냉동,UP가전_상냉장,01-1.오브제 DIOS_상냉장,,,일반 제품,,상냉장 800리터 이상,,,,,,,,,디오스-상냉장,온라인,온라인,0,30대,남자,서울,마포구,망원동,다가구,20평대,3천 ~ 5천만원 미만,5천 ~ 7천만원 미만,Y,N,N,N,N,N,N,N,N,,,\\n</dataset>\\n\\nHere is the column information in detail, this is the results of `print(column_info)`: <column_info>,컬럼 명,컬럼 한글명,DATA TYPE\\n0,record_type,레코드유형,VARCHAR\\n1,cust_no,통합고객번호,VARCHAR\\n2,mdl_cd,모델코드,VARCHAR\\n3,base_dt,기준일자,VARCHAR\\n4,qt,수량,INTEGER\\n5,amt,금액,BIGINT\\n6,prdc_lvl1_cd,제품1레벨코드,VARCHAR\\n7,prdc_lvl1_nm,제품1레벨명,VARCHAR\\n8,prdc_lvl2_cd,제품2레벨코드,VARCHAR\\n9,prdc_lvl2_nm,제품2레벨명,VARCHAR\\n10,prdc_lvl3_cd,제품3레벨코드,VARCHAR\\n11,prdc_lvl3_nm,제품3레벨명,VARCHAR\\n12,prdc_lvl4_cd,제품4레벨코드,VARCHAR\\n13,prdc_lvl4_nm,제품4레벨명,VARCHAR\\n14,chnl_div_hpos_val,채널구분상위값,VARCHAR\\n15,chnl_div_val,채널구분값,VARCHAR\\n16,buy_rsn_nm,구매사유명,VARCHAR\\n17,buy_type,구매유형,VARCHAR\\n18,onln_buy_yn,온라인구매여부,VARCHAR\\n19,wedd_move_category,혼수이사카테고리,VARCHAR\\n20,ordr_stts_nm,주문상태명,VARCHAR\\n21,pdp_view_cnt,PDP조회수,INTEGER\\n22,pdfm_dv_val,제품군구분값,VARCHAR\\n23,up_hma_dv_val,UP가전구분값,VARCHAR\\n24,objt_dv_val,오브제구분값,VARCHAR\\n25,stry_prdc_dv_val,전략제품구분값,VARCHAR\\n26,grw_lead_prdc_dv_val,성장주도제품구분값,VARCHAR\\n27,mdl_category,모델카테고리,VARCHAR\\n28,pdfm_dtl_dv_val,제품군상세구분값,VARCHAR\\n29,dios_pdfm_dv_val,디오스제품군구분값,VARCHAR\\n30,ap_dv_val,공기청정기구분값,VARCHAR\\n31,tv_oled_dv_val,OLEDTV구분값,VARCHAR\\n32,wm_tongdol_dv_val,통돌이세탁기구분값,VARCHAR\\n33,wp_lvl1_dv_val,정수기1레벨구분값,VARCHAR\\n34,wp_lvl2_dv_val,정수기2레벨구분값,VARCHAR\\n35,wp_lvl3_dv_val,정수기3레벨구분값,VARCHAR\\n36,rf_gc_dv_val,김치냉장고구분값,VARCHAR\\n37,rf_liter_dv_val,냉장고리터별구분값,VARCHAR\\n38,rf_dv_val,냉장고구분값,VARCHAR\\n39,shba_buy_category,장바구니구매카테고리,VARCHAR\\n40,pdp_buy_category,PDP구매카테고리,VARCHAR\\n41,age,연령,INTEGER\\n42,age_group,연령대,VARCHAR\\n43,gendr_nm,성별,VARCHAR\\n44,ctdo_nm,시/도명,VARCHAR\\n45,ccw_nm,시/군/구명,VARCHAR\\n46,dong_nm,읍/면/동명,VARCHAR\\n47,bld_usg_scls_nm,거주유형명,VARCHAR\\n48,eqdr_group,평형대,VARCHAR\\n49,apt_eci_group,아파트평균소득분포,VARCHAR\\n50,det_eci_group,일반주택평균소득분포,VARCHAR\\n51,pdp_view_yn,PDP조회여부,VARCHAR\\n52,stand_by_me_new_entr_yn,스탠바이미신규가입여부,VARCHAR\\n53,pdp_view_after_shba_add_yn,PDP조회이후장바구니추가여부,VARCHAR\\n54,pdp_view_after_buy_yn,PDP조회이후구매여부,VARCHAR\\n55,stand_by_me_buy_yn,스탠바이미구매여부,VARCHAR\\n56,stand_by_me_go_buy_yn,스탠바이미GO구매여부,VARCHAR\\n57,room_and_tv_buy_yn,룸앤티비구매여부,VARCHAR\\n58,cinebeam_buy_yn,시네빔구매여부,VARCHAR\\n59,tlamp_user_yn,TLAMP사용자여부,VARCHAR\\n60,re_ordr_dt,재주문일자,VARCHAR\\n61,diff_days,차이일수,INTEGER\\n62,diff_days_category,차이일수(카테고리),VARCHAR\\n</column_info>\\n\\nHere is user's topic interested: <topic>혼수 이사 분석</topic>\\n\"}]}, {'role': 'assistant', 'content': [{'text': '<analysis_points>\\n1. [분석] wedd_move_category 컬럼을 활용하여 혼수 이사와 관련된 구매 내역을 추출하고, 인기 제품 및 구매 금액 등의 통계를 산출합니다.\\n2. [비교] 혼수 이사 구매와 일반 구매 간의 제품 선호도, 구매 금액, 구매 시기 등을 비교하여 차이점을 파악합니다.\\n3. [확인] 연령대(age_group), 성별(gendr_nm), 거주 지역(ctdo_nm, ccw_nm, dong_nm) 등의 인구통계학적 특성에 따른 혼수 이사 구매 패턴의 차이를 분석합니다.\\n4. [분석] 혼수 이사 구매 고객의 pdp_view_cnt(PDP 조회 수), pdp_view_yn(PDP 조회 여부) 등을 활용하여 구매 전 정보 탐색 행태를 파악합니다.\\n5. [확인] 혼수 이사 구매 고객의 재구매 패턴을 re_ordr_dt(재주문일자), diff_days(차이일수) 등의 컬럼을 활용하여 분석합니다.\\n6. [분석] 혼수 이사 구매와 관련된 시계열 추이를 base_dt(기준일자) 컬럼을 활용하여 파악하고, 계절성이나 트렌드 변화 등을 확인합니다.\\n7. [탐색] 데이터에서 발견되는 예상치 못한 패턴이나 인사이트가 있는지 탐색하고, 혼수 이사 구매 행태에 대한 추가적인 통찰을 도출합니다.\\n</analysis_points>'}]}, {'role': 'user', 'content': [{'text': \"\\nThis is the result of `print(df.head())`: <dataset>,record_type,cust_no,mdl_cd,base_dt,qt,amt,prdc_lvl1_cd,prdc_lvl1_nm,prdc_lvl2_cd,prdc_lvl2_nm,prdc_lvl3_cd,prdc_lvl3_nm,prdc_lvl4_cd,prdc_lvl4_nm,chnl_div_hpos_val,chnl_div_val,buy_rsn_nm,buy_type,onln_buy_yn,wedd_move_category,ordr_stts_nm,pdp_view_cnt,pdfm_dv_val,up_hma_dv_val,objt_dv_val,stry_prdc_dv_val,grw_lead_prdc_dv_val,mdl_category,pdfm_dtl_dv_val,dios_pdfm_dv_val,ap_dv_val,tv_oled_dv_val,wm_tongdol_dv_val,wp_lvl1_dv_val,wp_lvl2_dv_val,wp_lvl3_dv_val,rf_gc_dv_val,rf_liter_dv_val,rf_dv_val,shba_buy_category,pdp_buy_category,age,age_group,gendr_nm,ctdo_nm,ccw_nm,dong_nm,bld_usg_scls_nm,eqdr_group,apt_eci_group,det_eci_group,pdp_view_yn,stand_by_me_new_entr_yn,pdp_view_after_shba_add_yn,pdp_view_after_buy_yn,stand_by_me_buy_yn,stand_by_me_go_buy_yn,room_and_tv_buy_yn,cinebeam_buy_yn,tlamp_user_yn,re_ordr_dt,diff_days,diff_days_category\\n9394,PDP 조회내역,9395,M623FSB042S.AKOR,20230612,,,,,,,,,,,,,,,,,,12,001.상냉장하냉동,UP가전_상냉장,01-1.오브제 DIOS_상냉장,,,일반 제품,,상냉장 800리터 미만,,,,,,,,,디오스-상냉장,온라인,온라인,0,30대,여자,경기,안산시 단원구,초지동,아파트,40평대,7천 ~ 1억원 미만,5천 ~ 7천만원 미만,Y,N,N,N,N,N,N,N,N,,,\\n898,PDP 조회내역,899,T873MHH111.CKOR,20230710,,,,,,,,,,,,,,,,,,5,001.상냉장하냉동,UP가전_상냉장,01-1.오브제 DIOS_상냉장,,,일반 제품,,상냉장 800리터 이상,,,,,,,,,디오스-상냉장,미구매,미구매,0,40대,남자,서울,구로구,구로동,아파트,20평대,5천 ~ 7천만원 미만,5천 ~ 7천만원 미만,Y,N,N,N,N,N,N,N,N,,,\\n2398,구매내역,2399,M874GBB452.AKOR,20231029,1.0,3215100.0,RF,냉장고,RFBF,상냉장,RFBFMD,양문형 냉장고(상냉장),RFBFMDMF,Multi Door M-PJT,B2C,04.H/M,,일시불,N,,,0,001.상냉장하냉동,,01-1.오브제 DIOS_상냉장,,,일반 제품,,상냉장 800리터 이상,,,,,,,,,디오스-상냉장,미구매,미구매,0,40대,여자,대구,달성군,유가읍,아파트,40평대,5천 ~ 7천만원 미만,3천 ~ 5천만원 미만,N,N,N,N,N,N,N,N,N,,,\\n5906,구매내역,5907,M874AAA171.AKOR,20240119,1.0,3056000.0,RF,냉장고,RFBF,상냉장,RFBFMD,양문형 냉장고(상냉장),RFBFMDMF,Multi Door M-PJT,B2C,01.HIP,신규,일시불,N,,,0,001.상냉장하냉동,,,,,일반 제품,,상냉장 800리터 이상,,,,,,,,,디오스-상냉장,미구매,미구매,0,30대,여자,강원,원주시,태장동,아파트,30평대,3천 ~ 5천만원 미만,3천만원 미만,N,N,N,N,N,N,N,N,N,,,\\n2343,구매내역,2344,T873MWW111.CKOR,20231117,1.0,1543228.0,RF,냉장고,RFBF,상냉장,RFBFMD,양문형 냉장고(상냉장),RFBFMD4D,Multi Door 4Door,온라인그룹,11.가전유통,신규,일시불,N,,,0,001.상냉장하냉동,UP가전_상냉장,01-1.오브제 DIOS_상냉장,,,일반 제품,,상냉장 800리터 이상,,,,,,,,,디오스-상냉장,미구매,미구매,0,60대,여자,,,,,,,,N,N,N,N,N,N,N,N,N,,,\\n8225,구매내역,8226,M872AAA041.AKOR,20220416,1.0,2660000.0,RF,냉장고,RFBF,상냉장,RFBFMD,양문형 냉장고(상냉장),RFBFMDMB,Multi Door M-PJT Body,B2C,01.HIP,신규,일시불,N,,,0,001.상냉장하냉동,,01-1.오브제 DIOS_상냉장,,,일반 제품,,상냉장 800리터 이상,,,,,,,,800L,디오스-상냉장,온라인,온라인,0,40대,여자,광주,광산구,산정동,다가구,20평 미만,3천 ~ 5천만원 미만,3천 ~ 5천만원 미만,N,N,N,N,N,N,N,N,N,,,\\n5506,구매내역,5507,M872GBB252.AKOR,20211124,1.0,2908900.0,RF,냉장고,RFBF,상냉장,RFBFMD,양문형 냉장고(상냉장),RFBFMDMF,Multi Door M-PJT,B2C,04.H/M,,일시불,N,,,0,001.상냉장하냉동,,01-1.오브제 DIOS_상냉장,,,일반 제품,,상냉장 800리터 이상,,,,,,,,800L,디오스-상냉장,미구매,미구매,0,30대,여자,울산,북구,중산동,아파트,20평대,5천 ~ 7천만원 미만,3천 ~ 5천만원 미만,N,N,N,N,N,N,N,N,N,,,\\n6451,PDP 조회내역,6452,M620FBS351.AKOR,20231129,,,,,,,,,,,,,,,,,,2,001.상냉장하냉동,,01-1.오브제 DIOS_상냉장,,,일반 제품,,상냉장 800리터 미만,,,,,,,,600L,디오스-상냉장,미구매,미구매,0,40대,여자,대구,북구,국우동,아파트,30평대,5천 ~ 7천만원 미만,3천 ~ 5천만원 미만,Y,N,N,N,N,N,N,N,N,,,\\n2670,구매내역,2671,M873GBB551.AKOR,20230107,1.0,4032000.0,RF,냉장고,RFBF,상냉장,RFBFMD,양문형 냉장고(상냉장),RFBFMDMF,Multi Door M-PJT,B2C,01.HIP,신규,일시불,N,혼수,,0,001.상냉장하냉동,,01-1.오브제 DIOS_상냉장,,,일반 제품,,상냉장 800리터 이상,,,,,,,,,디오스-상냉장,미구매,미구매,0,30대,남자,전남,광양시,황금동,아파트,30평대,7천 ~ 1억원 미만,3천만원 미만,N,N,N,N,N,N,N,N,Y,,,\\n3497,PDP 조회내역,3498,T873MKE012.CKOR,20230718,,,,,,,,,,,,,,,,,,12,001.상냉장하냉동,UP가전_상냉장,01-1.오브제 DIOS_상냉장,,,일반 제품,,상냉장 800리터 이상,,,,,,,,,디오스-상냉장,온라인,온라인,0,30대,남자,서울,마포구,망원동,다가구,20평대,3천 ~ 5천만원 미만,5천 ~ 7천만원 미만,Y,N,N,N,N,N,N,N,N,,,\\n</dataset>\\n\\nHere is the column information in detail, this is the results of `print(column_info)`: <column_info>,컬럼 명,컬럼 한글명,DATA TYPE\\n0,record_type,레코드유형,VARCHAR\\n1,cust_no,통합고객번호,VARCHAR\\n2,mdl_cd,모델코드,VARCHAR\\n3,base_dt,기준일자,VARCHAR\\n4,qt,수량,INTEGER\\n5,amt,금액,BIGINT\\n6,prdc_lvl1_cd,제품1레벨코드,VARCHAR\\n7,prdc_lvl1_nm,제품1레벨명,VARCHAR\\n8,prdc_lvl2_cd,제품2레벨코드,VARCHAR\\n9,prdc_lvl2_nm,제품2레벨명,VARCHAR\\n10,prdc_lvl3_cd,제품3레벨코드,VARCHAR\\n11,prdc_lvl3_nm,제품3레벨명,VARCHAR\\n12,prdc_lvl4_cd,제품4레벨코드,VARCHAR\\n13,prdc_lvl4_nm,제품4레벨명,VARCHAR\\n14,chnl_div_hpos_val,채널구분상위값,VARCHAR\\n15,chnl_div_val,채널구분값,VARCHAR\\n16,buy_rsn_nm,구매사유명,VARCHAR\\n17,buy_type,구매유형,VARCHAR\\n18,onln_buy_yn,온라인구매여부,VARCHAR\\n19,wedd_move_category,혼수이사카테고리,VARCHAR\\n20,ordr_stts_nm,주문상태명,VARCHAR\\n21,pdp_view_cnt,PDP조회수,INTEGER\\n22,pdfm_dv_val,제품군구분값,VARCHAR\\n23,up_hma_dv_val,UP가전구분값,VARCHAR\\n24,objt_dv_val,오브제구분값,VARCHAR\\n25,stry_prdc_dv_val,전략제품구분값,VARCHAR\\n26,grw_lead_prdc_dv_val,성장주도제품구분값,VARCHAR\\n27,mdl_category,모델카테고리,VARCHAR\\n28,pdfm_dtl_dv_val,제품군상세구분값,VARCHAR\\n29,dios_pdfm_dv_val,디오스제품군구분값,VARCHAR\\n30,ap_dv_val,공기청정기구분값,VARCHAR\\n31,tv_oled_dv_val,OLEDTV구분값,VARCHAR\\n32,wm_tongdol_dv_val,통돌이세탁기구분값,VARCHAR\\n33,wp_lvl1_dv_val,정수기1레벨구분값,VARCHAR\\n34,wp_lvl2_dv_val,정수기2레벨구분값,VARCHAR\\n35,wp_lvl3_dv_val,정수기3레벨구분값,VARCHAR\\n36,rf_gc_dv_val,김치냉장고구분값,VARCHAR\\n37,rf_liter_dv_val,냉장고리터별구분값,VARCHAR\\n38,rf_dv_val,냉장고구분값,VARCHAR\\n39,shba_buy_category,장바구니구매카테고리,VARCHAR\\n40,pdp_buy_category,PDP구매카테고리,VARCHAR\\n41,age,연령,INTEGER\\n42,age_group,연령대,VARCHAR\\n43,gendr_nm,성별,VARCHAR\\n44,ctdo_nm,시/도명,VARCHAR\\n45,ccw_nm,시/군/구명,VARCHAR\\n46,dong_nm,읍/면/동명,VARCHAR\\n47,bld_usg_scls_nm,거주유형명,VARCHAR\\n48,eqdr_group,평형대,VARCHAR\\n49,apt_eci_group,아파트평균소득분포,VARCHAR\\n50,det_eci_group,일반주택평균소득분포,VARCHAR\\n51,pdp_view_yn,PDP조회여부,VARCHAR\\n52,stand_by_me_new_entr_yn,스탠바이미신규가입여부,VARCHAR\\n53,pdp_view_after_shba_add_yn,PDP조회이후장바구니추가여부,VARCHAR\\n54,pdp_view_after_buy_yn,PDP조회이후구매여부,VARCHAR\\n55,stand_by_me_buy_yn,스탠바이미구매여부,VARCHAR\\n56,stand_by_me_go_buy_yn,스탠바이미GO구매여부,VARCHAR\\n57,room_and_tv_buy_yn,룸앤티비구매여부,VARCHAR\\n58,cinebeam_buy_yn,시네빔구매여부,VARCHAR\\n59,tlamp_user_yn,TLAMP사용자여부,VARCHAR\\n60,re_ordr_dt,재주문일자,VARCHAR\\n61,diff_days,차이일수,INTEGER\\n62,diff_days_category,차이일수(카테고리),VARCHAR\\n</column_info>\\n\\nHere is user's topic interested: <topic>혼수 이사 분석</topic>\\n\"}]}, {'role': 'assistant', 'content': [{'text': '<analysis_points>\\n1. [분석] wedd_move_category 컬럼을 활용하여 혼수 이사와 관련된 구매 내역을 추출하고, 인기 제품 및 구매 금액 등의 통계를 산출합니다.\\n2. [비교] 혼수 이사 구매와 일반 구매 간의 제품 선호도, 구매 금액, 구매 시기 등을 비교하여 차이점을 파악합니다.\\n3. [확인] 연령대(age_group), 성별(gendr_nm), 거주 지역(ctdo_nm, ccw_nm, dong_nm) 등의 인구통계학적 특성에 따른 혼수 이사 구매 패턴의 차이를 분석합니다.\\n4. [분석] 혼수 이사 구매 고객의 pdp_view_cnt(PDP 조회 수), pdp_view_yn(PDP 조회 여부) 등을 활용하여 구매 전 정보 탐색 행태를 파악합니다.\\n5. [확인] 혼수 이사 구매 고객의 재구매 패턴을 re_ordr_dt(재주문일자), diff_days(차이일수) 등의 컬럼을 활용하여 분석합니다.\\n6. [분석] 혼수 이사 구매와 관련된 시계열 추이를 base_dt(기준일자) 컬럼을 활용하여 파악하고, 계절성이나 트렌드 변화 등을 확인합니다.\\n7. [탐색] 데이터에서 발견되는 예상치 못한 패턴이나 인사이트가 있는지 탐색하고, 혼수 이사 구매 행태에 대한 추가적인 통찰을 도출합니다.\\n</analysis_points>'}]}]\n",
      "{'response': {'text': '<analysis_points>\\n1. [분석] wedd_move_category 컬럼을 활용하여 혼수 이사와 관련된 구매 내역을 추출하고, 인기 제품 및 구매 금액 등의 통계를 산출합니다.\\n2. [비교] 혼수 이사 구매와 일반 구매 간의 제품 선호도, 구매 금액, 구매 시기 등을 비교하여 차이점을 파악합니다.\\n3. [확인] 연령대(age_group), 성별(gendr_nm), 거주 지역(ctdo_nm, ccw_nm, dong_nm) 등의 인구통계학적 특성에 따른 혼수 이사 구매 패턴의 차이를 분석합니다.\\n4. [분석] 혼수 이사 구매 고객의 pdp_view_cnt(PDP 조회 수), pdp_view_yn(PDP 조회 여부) 등을 활용하여 구매 전 정보 탐색 행태를 파악합니다.\\n5. [확인] 혼수 이사 구매 고객의 재구매 패턴을 re_ordr_dt(재주문일자), diff_days(차이일수) 등의 컬럼을 활용하여 분석합니다.\\n6. [분석] 혼수 이사 구매와 관련된 시계열 추이를 base_dt(기준일자) 컬럼을 활용하여 파악하고, 계절성이나 트렌드 변화 등을 확인합니다.\\n7. [탐색] 데이터에서 발견되는 예상치 못한 패턴이나 인사이트가 있는지 탐색하고, 혼수 이사 구매 행태에 대한 추가적인 통찰을 도출합니다.\\n</analysis_points>', 'toolUse': None}}\n",
      "----\n",
      "{'topic': '혼수 이사 분석', 'anaysis_points': None, 'response': {'text': '<analysis_points>\\n1. [분석] wedd_move_category 컬럼을 활용하여 혼수 이사와 관련된 구매 내역을 추출하고, 인기 제품 및 구매 금액 등의 통계를 산출합니다.\\n2. [비교] 혼수 이사 구매와 일반 구매 간의 제품 선호도, 구매 금액, 구매 시기 등을 비교하여 차이점을 파악합니다.\\n3. [확인] 연령대(age_group), 성별(gendr_nm), 거주 지역(ctdo_nm, ccw_nm, dong_nm) 등의 인구통계학적 특성에 따른 혼수 이사 구매 패턴의 차이를 분석합니다.\\n4. [분석] 혼수 이사 구매 고객의 pdp_view_cnt(PDP 조회 수), pdp_view_yn(PDP 조회 여부) 등을 활용하여 구매 전 정보 탐색 행태를 파악합니다.\\n5. [확인] 혼수 이사 구매 고객의 재구매 패턴을 re_ordr_dt(재주문일자), diff_days(차이일수) 등의 컬럼을 활용하여 분석합니다.\\n6. [분석] 혼수 이사 구매와 관련된 시계열 추이를 base_dt(기준일자) 컬럼을 활용하여 파악하고, 계절성이나 트렌드 변화 등을 확인합니다.\\n7. [탐색] 데이터에서 발견되는 예상치 못한 패턴이나 인사이트가 있는지 탐색하고, 혼수 이사 구매 행태에 대한 추가적인 통찰을 도출합니다.\\n</analysis_points>', 'toolUse': None}}\n"
     ]
    }
   ],
   "source": [
    "app.invoke(\n",
    "    topic=\"혼수 이사 분석\"\n",
    ")"
   ]
  },
  {
   "cell_type": "code",
   "execution_count": 77,
   "id": "216225d9",
   "metadata": {},
   "outputs": [
    {
     "data": {
      "image/jpeg": "[encoded data removed]",
      "text/plain": [
       "<IPython.core.display.Image object>"
      ]
     },
     "metadata": {},
     "output_type": "display_data"
    }
   ],
   "source": [
    "app.show_graph()"
   ]
  },
  {
   "cell_type": "markdown",
   "id": "13f589aa",
   "metadata": {},
   "source": [
    "## 3. App for Insight Extraction\n",
    "- GraphState(상태 저장 그래프): LangGraph는 그래프의 각 노드가 계산의 단계를 나타내며, 그래프는 계산이 진행됨에 따라 전달되고 업데이트되는 상태를 유지하는 상태 저장 그래프 개념을 중심으로 작동합니다.\n",
    "- Node(노드): 노드는 LangGraph의 구성 요소입니다. 각 노드는 함수 또는 계산 단계를 나타냅니다. 입력 처리, 의사 결정, 외부 API와의 상호 작용 등 특정 작업을 수행하도록 노드를 정의할 수 있습니다.\n",
    "- Edge(엣지): 에지는 그래프에서 노드를 연결하여 계산의 흐름을 정의합니다. LangGraph는 조건부 에지를 지원하므로 그래프의 현재 상태에 따라 실행할 다음 노드를 동적으로 결정할 수 있습니다."
   ]
  },
  {
   "cell_type": "markdown",
   "id": "7167ae50",
   "metadata": {},
   "source": [
    "### 3.1 GraphState \n",
    "- 각 노드에서 다음 노드로 전달되는 상태를 저장합니다."
   ]
  },
  {
   "cell_type": "code",
   "execution_count": 32,
   "id": "fa3926e9",
   "metadata": {},
   "outputs": [],
   "source": [
    "import pandas as pd\n",
    "from typing import TypedDict, Literal, Any"
   ]
  },
  {
   "cell_type": "code",
   "execution_count": 9,
   "id": "3cd604eb",
   "metadata": {},
   "outputs": [],
   "source": [
    "# GraphState 요소는 상태를 전달하는 용도로 사용됩니다.\n",
    "class GraphState(TypedDict):\n",
    "    df_path: str\n",
    "    column_info_path: str\n",
    "    topic: str\n",
    "    anaysis_points: list[str]\n",
    "    response: str\n",
    "    # goal: str  # 목표\n",
    "    # todo: list[str]  # 할 일 목록\n",
    "    # current_job: str  # 현재 작업\n",
    "    # total_time: int  # 총 소요시간(시간)\n",
    "    # time_spent: int  # 소요 시간(시간)\n",
    "    # status: str  # 상태(진행중, 다음 작업, 종료)"
   ]
  },
  {
   "cell_type": "markdown",
   "id": "e2847530",
   "metadata": {},
   "source": [
    "### 3.2 Node\n",
    "- Graph의 노드 (작업)을 정의합니다."
   ]
  },
  {
   "cell_type": "markdown",
   "id": "d5564670",
   "metadata": {},
   "source": [
    "#### 3.2.1 Insight Extractor"
   ]
  },
  {
   "cell_type": "code",
   "execution_count": 10,
   "id": "55ddee9b",
   "metadata": {},
   "outputs": [],
   "source": [
    "from textwrap import dedent\n",
    "from utils.bedrock import bedrock_utils\n",
    "from utils.text_to_insight import insight_extraction_chain, insight_extraction_tools"
   ]
  },
  {
   "cell_type": "markdown",
   "id": "29374fe4",
   "metadata": {},
   "source": [
    "##### 3.2.1.1 system prompt 설정하기\n",
    "\n",
    "`당신은 고급 데이터 분석 보조원입니다.`<BR>\n",
    "`당신의 역할은 사용자가 제공한 특정 주제에 기반하여 사용자가 제공한 데이터 세트에서 의미 있는 인사이트를 추출하는 것을 돕는 것입니다.`<BR>\n",
    "`조사할 핵심 데이터 포인트와 통계의 목록을 생성하기 위해 다음 단계를 따르세요:`<BR>\n",
    "\n",
    "`1. 사용자가 제공한 주제를 신중히 고려하세요.`<BR>\n",
    "`2. 제공된 데이터 세트의 구조와 내용을 분석하세요.`<BR>\n",
    "`3. 주어진 주제에 가장 관련성 있고 통찰력 있는 5-7개의 핵심 데이터 포인트나 통계 목록을 생성하세요. 이들은 명확하고 실행 가능한 요청이나 질문으로 표현되어야 합니다.`<BR>\n",
    "`4. 각 포인트가 주제의 다른 측면에 초점을 맞추도록 하여 다양한 분석 각도를 다루도록 하세요.`<BR>\n",
    "`5. 각 포인트 작성시 행동 동사 태그로 시작해 주세요.(예: \"[계산]\", \"[비교]\", \"[식별]\", \"[분석]\", \"[결정]\" 등).`<BR>\n",
    "`6. 포인트들이 상세한 분석을 안내할 만큼 구체적이면서도 종합적인 인사이트를 허용할 만큼 폭넓도록 하세요.`<BR>\n",
    "`7. 해당되는 경우, 시간에 따른 추세, 지리적 차이, 인구통계학적 변화, 또는 기타 관련 요인을 다루는 포인트를 포함하세요.`<BR>\n",
    "`8. 주제와 관련된 데이터에서 예상치 못하거나 주목할 만한 패턴을 탐색하도록 장려하는 개방형 포인트로 목록을 마무리하세요.`<BR>\n",
    "`9. 분석에 사용되는 컬럼이름을 명시하세요` <BR>\n",
    "`10. 모든 포인트는 <분석_포인트></분석_포인트> 태그와 번호 형식으로 제공해야 합니다.`<BR>\n",
    "`11. 한글로 작성하세요.`<BR>\n",
    "\n",
    "`목록을 명확한 번호 형식으로 제시하세요. 각 포인트는 간결하면서도 설명적이어야 하며, 분석의 다음 단계에 대한 명확한 방향을 제공해야 합니다.`<BR>\n",
    "`기억하세요, 당신의 목표는 사용자가 선택한 주제에 대해 가치 있는 정보를 제공할 수 있는 철저하고 통찰력 있는 분석을 위한 로드맵을 만드는 것입니다.`<BR>\n",
    "#5. Phrase each point to start with an action verb (e.g., \"Calculate\", \"Compare\", \"Identify\", \"Analyze\", \"Determine\", etc.)"
   ]
  },
  {
   "cell_type": "code",
   "execution_count": 11,
   "id": "b93e8dae",
   "metadata": {},
   "outputs": [],
   "source": [
    "prompt = dedent(\n",
    "    '''\n",
    "    You are an advanced data analysis assistant.\n",
    "    Your role is to help extract meaningful insights from user-provided datasets based on a specific topic they provide.\n",
    "    \n",
    "    Follow these steps to generate a list of key data points and statistics to investigate:\n",
    "    1. Carefully consider the user-provided topic.\n",
    "    2. Analyze the structure and content of the provided data set.\n",
    "    3. Generate a list of 5-7 key data points or statistics that would be most relevant and insightful for the given topic. These should be phrased as clear, actionable requests or questions.\n",
    "    4. Ensure each point focuses on a different aspect of the topic, covering various angles of analysis.\n",
    "    5. Start each point with an action verb tag (e.g., \"[Calculate]\", \"[Compare]\", \"[Identify]\", \"[Analyze]\", \"[Determine]\", etc.).\n",
    "    6. Make sure the points are specific enough to guide a detailed analysis but broad enough to allow for comprehensive insights.\n",
    "    7. If applicable, include points that address trends over time, geographical differences, demographic variations, or other relevant factors.\n",
    "    8. Conclude your list with an open-ended point that encourages exploring any unexpected or noteworthy patterns in the data related to the topic.\n",
    "    9. Specify the column names used in your analysis.\n",
    "    10. All points should be provided within the tags <analysis_points></analysis_points> and numbered format.\n",
    "    11. Write in Korean.\n",
    "    \n",
    "    \n",
    "    Present your list in a clear.\n",
    "    Each point should be concise yet descriptive, providing a clear direction for the next steps of the analysis.    \n",
    "    Remember, your goal is to create a roadmap for a thorough, insightful analysis that will provide valuable information to the user about their chosen topic.\n",
    "    \n",
    "    '''\n",
    ")\n",
    "system_prompts = bedrock_utils.get_system_prompt(\n",
    "    system_prompts=prompt,\n",
    ")"
   ]
  },
  {
   "cell_type": "markdown",
   "id": "768785d0",
   "metadata": {},
   "source": [
    "##### 3.2.1.2 Insight 추출을 위한 질문 생성용 prompt "
   ]
  },
  {
   "cell_type": "code",
   "execution_count": 12,
   "id": "fbc3f0a0",
   "metadata": {},
   "outputs": [],
   "source": [
    "user_prompts = dedent(\n",
    "    '''\n",
    "    This is the result of `print(df.head())`: <dataset>{dataset}</dataset>\n",
    "\n",
    "    Here is the column information in detail, this is the results of `print(column_info)`: <column_info>{column_info}</column_info>\n",
    "    \n",
    "    Here is user's topic interested: <topic>{topic}</topic>\n",
    "    '''\n",
    ")"
   ]
  },
  {
   "cell_type": "markdown",
   "id": "aa2a1359",
   "metadata": {},
   "source": [
    "##### 3.2.1.2 Extractor Node 정의"
   ]
  },
  {
   "cell_type": "code",
   "execution_count": 13,
   "id": "9a3d0065",
   "metadata": {},
   "outputs": [],
   "source": [
    "from langgraph.graph import END, StateGraph"
   ]
  },
  {
   "cell_type": "code",
   "execution_count": 78,
   "id": "97ba2ce4",
   "metadata": {},
   "outputs": [],
   "source": [
    "def get_analysis_points(state):\n",
    "    \n",
    "\n",
    "    df = pd.read_parquet(state[\"df_path\"])\n",
    "    column_info = pd.read_csv(state[\"column_info_path\"])\n",
    "    topic = state[\"topic\"]\n",
    "\n",
    "    prompt = dedent(\n",
    "        '''\n",
    "        You are an advanced data analysis assistant.\n",
    "        Your role is to help extract meaningful insights from user-provided datasets based on a specific topic they provide.\n",
    "        \n",
    "        Follow these steps to generate a list of key data points and statistics to investigate:\n",
    "        1. Carefully consider the user-provided topic.\n",
    "        2. Analyze the structure and content of the provided data set.\n",
    "        3. Generate a list of 5-7 key data points or statistics that would be most relevant and insightful for the given topic. These should be phrased as clear, actionable requests or questions.\n",
    "        4. Ensure each point focuses on a different aspect of the topic, covering various angles of analysis.\n",
    "        5. Start each point with an action verb tag (e.g., \"[Calculate]\", \"[Compare]\", \"[Identify]\", \"[Analyze]\", \"[Determine]\", etc.).\n",
    "        6. Make sure the points are specific enough to guide a detailed analysis but broad enough to allow for comprehensive insights.\n",
    "        7. If applicable, include points that address trends over time, geographical differences, demographic variations, or other relevant factors.\n",
    "        8. Conclude your list with an open-ended point that encourages exploring any unexpected or noteworthy patterns in the data related to the topic.\n",
    "        9. Specify the column names used in your analysis.\n",
    "        10. All points should be provided within the tags <analysis_points></analysis_points> and numbered format.\n",
    "        11. Write in Korean.\n",
    "        \n",
    "        \n",
    "        Present your list in a clear.\n",
    "        Each point should be concise yet descriptive, providing a clear direction for the next steps of the analysis.    \n",
    "        Remember, your goal is to create a roadmap for a thorough, insightful analysis that will provide valuable information to the user about their chosen topic.\n",
    "        \n",
    "        '''\n",
    "    )\n",
    "    system_prompts = bedrock_utils.get_system_prompt(\n",
    "        system_prompts=prompt,\n",
    "    )\n",
    "\n",
    "    user_prompts = dedent(\n",
    "        '''\n",
    "        This is the result of `print(df.head())`: <dataset>{dataset}</dataset>\n",
    "\n",
    "        Here is the column information in detail, this is the results of `print(column_info)`: <column_info>{column_info}</column_info>\n",
    "        \n",
    "        Here is user's topic interested: <topic>{topic}</topic>\n",
    "        '''\n",
    "    )\n",
    "    \n",
    "    insight_generator = insight_extraction_chain(\n",
    "        llm=llm_text,\n",
    "        system_prompts=system_prompts,\n",
    "        user_prompts=user_prompts,\n",
    "        tool_config=tool_config,\n",
    "        multi_turn=False,\n",
    "        verbose=False\n",
    "    )\n",
    "    \n",
    "\n",
    "    \n",
    "    \n",
    "    return GraphState(anaysis_points=[])"
   ]
  },
  {
   "cell_type": "code",
   "execution_count": 79,
   "id": "4bb3172a",
   "metadata": {},
   "outputs": [],
   "source": [
    "def end(state):\n",
    "\n",
    "    print (\"sdsd\")\n",
    "    print (state.keys())\n",
    "    return GraphState(response=\"none\")"
   ]
  },
  {
   "cell_type": "code",
   "execution_count": 80,
   "id": "76e86463",
   "metadata": {},
   "outputs": [],
   "source": [
    "from langgraph.graph import END, StateGraph\n",
    "from langgraph.checkpoint.memory import MemorySaver\n",
    "\n",
    "# langgraph.graph에서 StateGraph와 END를 가져옵니다.\n",
    "workflow = StateGraph(GraphState)\n",
    "\n",
    "# Todo 를 작성합니다.\n",
    "workflow.add_node(\"get_analysis_points\", get_analysis_points)  # 에이전트 노드를 추가합니다.\n",
    "workflow.add_node(\"end\", end)  # 에이전트 노드를 추가합니다.\n",
    "\n",
    "# 각 노드들을 연결합니다.\n",
    "workflow.add_edge(\"get_analysis_points\", \"end\")\n",
    "\n",
    "# 시작점을 설정합니다.\n",
    "workflow.set_entry_point(\"get_analysis_points\")\n",
    "\n",
    "# 기록을 위한 메모리 저장소를 설정합니다.\n",
    "memory = MemorySaver()\n",
    "\n",
    "# 그래프를 컴파일합니다.\n",
    "app = workflow.compile(checkpointer=memory)"
   ]
  },
  {
   "cell_type": "code",
   "execution_count": 86,
   "id": "80c39b6b",
   "metadata": {},
   "outputs": [],
   "source": [
    "from IPython.display import Image, display\n",
    "\n",
    "try:\n",
    "    \n",
    "    display(\n",
    "        Image(app.get_graph(xray=True).draw_mermaid_png())\n",
    "    )  # 실행 가능한 객체의 그래프를 mermaid 형식의 PNG로 그려서 표시합니다. \n",
    "       # xray=True는 추가적인 세부 정보를 포함합니다.\n",
    "except:\n",
    "    # 이 부분은 추가적인 의존성이 필요하며 선택적으로 실행됩니다.\n",
    "    pass"
   ]
  },
  {
   "cell_type": "code",
   "execution_count": 87,
   "id": "bd9656df",
   "metadata": {},
   "outputs": [],
   "source": [
    "inputs = GraphState(\n",
    "    df_path = \"./dataset/data\",\n",
    "    column_info_path = \"dataset/column_info.csv\",\n",
    "    topic=\"혼수 이사 분석\"\n",
    ")\n"
   ]
  },
  {
   "cell_type": "code",
   "execution_count": 88,
   "id": "34f7812e",
   "metadata": {},
   "outputs": [
    {
     "name": "stdout",
     "output_type": "stream",
     "text": [
      "{'df_path': './dataset/data', 'column_info_path': 'dataset/column_info.csv', 'topic': '혼수 이사 분석', 'anaysis_points': [], 'response': 'none'}\n",
      "'[NODE] get_analysis_points'\n",
      "'<anaysis_points> []'\n",
      "'=============================='\n",
      "sdsd\n",
      "dict_keys(['df_path', 'column_info_path', 'topic', 'anaysis_points', 'response'])\n",
      "'[NODE] end'\n",
      "'<response> none'\n",
      "'=============================='\n"
     ]
    }
   ],
   "source": [
    "import pprint\n",
    "from langgraph.errors import GraphRecursionError\n",
    "from langchain_core.runnables import RunnableConfig\n",
    "# app.stream을 통해 입력된 메시지에 대한 출력을 스트리밍합니다.\n",
    "\n",
    "config = RunnableConfig(recursion_limit=100, configurable={\"thread_id\": \"TODO\"})\n",
    "try:\n",
    "    for output in app.stream(input=inputs, config=config):\n",
    "        # 출력된 결과에서 키와 값을 순회합니다.\n",
    "        for key, value in output.items():\n",
    "            # 노드의 이름과 해당 노드에서 나온 출력을 출력합니다.\n",
    "            pprint.pprint(f\"[NODE] {key}\")\n",
    "            for k, v in value.items():\n",
    "                pprint.pprint(f\"<{k}> {v}\")\n",
    "            pprint.pprint(\"===\" * 10)\n",
    "            # 출력 값을 예쁘게 출력합니다.\n",
    "            # pprint.pprint(value, indent=2, width=80, depth=None)\n",
    "except GraphRecursionError as e:\n",
    "    pprint.pprint(f\"Recursion limit reached: {e}\")"
   ]
  },
  {
   "cell_type": "code",
   "execution_count": null,
   "id": "71d5358f",
   "metadata": {},
   "outputs": [],
   "source": [
    "def list_todo(state: GraphState) -> GraphState:\n",
    "    goal = state[\"goal\"]\n",
    "    # 리스트 작성\n",
    "    todo = create_todo_list(goal)\n",
    "    # 할 일 목록을 포맷팅\n",
    "    todo = format_task(create_todo_list(todo))\n",
    "    return GraphState(todo=todo)"
   ]
  },
  {
   "cell_type": "markdown",
   "id": "d0a91a0b",
   "metadata": {},
   "source": [
    "### 3.1 Workflow 정의"
   ]
  },
  {
   "cell_type": "code",
   "execution_count": 9,
   "id": "6c250045",
   "metadata": {},
   "outputs": [
    {
     "name": "stdout",
     "output_type": "stream",
     "text": [
      "Collecting langgraph\n",
      "  Downloading langgraph-0.1.5-py3-none-any.whl.metadata (11 kB)\n",
      "Requirement already satisfied: langchain-core<0.3,>=0.2 in /home/ec2-user/anaconda3/lib/python3.10/site-packages (from langgraph) (0.2.10)\n",
      "Requirement already satisfied: PyYAML>=5.3 in /home/ec2-user/anaconda3/lib/python3.10/site-packages (from langchain-core<0.3,>=0.2->langgraph) (6.0.1)\n",
      "Requirement already satisfied: jsonpatch<2.0,>=1.33 in /home/ec2-user/anaconda3/lib/python3.10/site-packages (from langchain-core<0.3,>=0.2->langgraph) (1.33)\n",
      "Requirement already satisfied: langsmith<0.2.0,>=0.1.75 in /home/ec2-user/anaconda3/lib/python3.10/site-packages (from langchain-core<0.3,>=0.2->langgraph) (0.1.83)\n",
      "Requirement already satisfied: packaging<25,>=23.2 in /home/ec2-user/anaconda3/lib/python3.10/site-packages (from langchain-core<0.3,>=0.2->langgraph) (24.1)\n",
      "Requirement already satisfied: pydantic<3,>=1 in /home/ec2-user/anaconda3/lib/python3.10/site-packages (from langchain-core<0.3,>=0.2->langgraph) (2.8.0)\n",
      "Requirement already satisfied: tenacity!=8.4.0,<9.0.0,>=8.1.0 in /home/ec2-user/anaconda3/lib/python3.10/site-packages (from langchain-core<0.3,>=0.2->langgraph) (8.2.3)\n",
      "Requirement already satisfied: jsonpointer>=1.9 in /home/ec2-user/anaconda3/lib/python3.10/site-packages (from jsonpatch<2.0,>=1.33->langchain-core<0.3,>=0.2->langgraph) (2.0)\n",
      "Requirement already satisfied: orjson<4.0.0,>=3.9.14 in /home/ec2-user/anaconda3/lib/python3.10/site-packages (from langsmith<0.2.0,>=0.1.75->langchain-core<0.3,>=0.2->langgraph) (3.10.5)\n",
      "Requirement already satisfied: requests<3,>=2 in /home/ec2-user/anaconda3/lib/python3.10/site-packages (from langsmith<0.2.0,>=0.1.75->langchain-core<0.3,>=0.2->langgraph) (2.31.0)\n",
      "Requirement already satisfied: annotated-types>=0.4.0 in /home/ec2-user/anaconda3/lib/python3.10/site-packages (from pydantic<3,>=1->langchain-core<0.3,>=0.2->langgraph) (0.7.0)\n",
      "Requirement already satisfied: pydantic-core==2.20.0 in /home/ec2-user/anaconda3/lib/python3.10/site-packages (from pydantic<3,>=1->langchain-core<0.3,>=0.2->langgraph) (2.20.0)\n",
      "Requirement already satisfied: typing-extensions>=4.6.1 in /home/ec2-user/anaconda3/lib/python3.10/site-packages (from pydantic<3,>=1->langchain-core<0.3,>=0.2->langgraph) (4.10.0)\n",
      "Requirement already satisfied: charset-normalizer<4,>=2 in /home/ec2-user/anaconda3/lib/python3.10/site-packages (from requests<3,>=2->langsmith<0.2.0,>=0.1.75->langchain-core<0.3,>=0.2->langgraph) (3.2.0)\n",
      "Requirement already satisfied: idna<4,>=2.5 in /home/ec2-user/anaconda3/lib/python3.10/site-packages (from requests<3,>=2->langsmith<0.2.0,>=0.1.75->langchain-core<0.3,>=0.2->langgraph) (3.6)\n",
      "Requirement already satisfied: urllib3<3,>=1.21.1 in /home/ec2-user/anaconda3/lib/python3.10/site-packages (from requests<3,>=2->langsmith<0.2.0,>=0.1.75->langchain-core<0.3,>=0.2->langgraph) (2.2.1)\n",
      "Requirement already satisfied: certifi>=2017.4.17 in /home/ec2-user/anaconda3/lib/python3.10/site-packages (from requests<3,>=2->langsmith<0.2.0,>=0.1.75->langchain-core<0.3,>=0.2->langgraph) (2024.2.2)\n",
      "Downloading langgraph-0.1.5-py3-none-any.whl (88 kB)\n",
      "\u001b[2K   \u001b[90m━━━━━━━━━━━━━━━━━━━━━━━━━━━━━━━━━━━━━━━━\u001b[0m \u001b[32m89.0/89.0 kB\u001b[0m \u001b[31m14.2 MB/s\u001b[0m eta \u001b[36m0:00:00\u001b[0m\n",
      "\u001b[?25hInstalling collected packages: langgraph\n",
      "Successfully installed langgraph-0.1.5\n"
     ]
    }
   ],
   "source": [
    "!pip install -U langgraph\n"
   ]
  },
  {
   "cell_type": "code",
   "execution_count": null,
   "id": "2576d30a",
   "metadata": {},
   "outputs": [],
   "source": []
  },
  {
   "cell_type": "markdown",
   "id": "a509d3f8-393c-460b-ad2c-c3aecc452067",
   "metadata": {},
   "source": [
    "### 3.3 Tool for parsing outputs 설정하기"
   ]
  },
  {
   "cell_type": "code",
   "execution_count": 277,
   "id": "20f7ae28-bad4-4635-9d26-afe7c7f66bd1",
   "metadata": {
    "tags": []
   },
   "outputs": [
    {
     "data": {
      "text/plain": [
       "{'tools': [{'toolSpec': {'name': 'parse_output',\n",
       "    'description': 'Use this tool to to do the task of structuring information from output responses',\n",
       "    'inputSchema': {'json': {'type': 'object',\n",
       "      'properties': {'input': {'type': 'string',\n",
       "        'description': 'Empty string'}}}}}}],\n",
       " 'toolChoice': {'tool': {'name': 'parse_output'}}}"
      ]
     },
     "execution_count": 277,
     "metadata": {},
     "output_type": "execute_result"
    }
   ],
   "source": [
    "tool_config = insight_extraction_tools.get_tool_list()\n",
    "tool_config"
   ]
  },
  {
   "cell_type": "markdown",
   "id": "22013895-1ad9-4475-8227-8589801cd457",
   "metadata": {
    "tags": []
   },
   "source": [
    "### 3.4 Insight extraction을 위한 chain 설정"
   ]
  },
  {
   "cell_type": "code",
   "execution_count": 278,
   "id": "8d2164e2-52be-4b92-8807-aa3876391278",
   "metadata": {
    "tags": []
   },
   "outputs": [],
   "source": [
    "insight_generator = insight_extraction_chain(\n",
    "    llm=llm_text,\n",
    "    system_prompts=system_prompts,\n",
    "    user_prompts=user_prompts,\n",
    "    tool_config=tool_config,\n",
    "    multi_turn=False,\n",
    "    verbose=False\n",
    ")"
   ]
  },
  {
   "cell_type": "markdown",
   "id": "a1ad91ae-9d62-4183-bda1-35bfe9762833",
   "metadata": {},
   "source": [
    "## 4. Invocation"
   ]
  },
  {
   "cell_type": "markdown",
   "id": "83aaa1e2-0ee2-437a-a68a-9eee80e9b9d2",
   "metadata": {},
   "source": [
    "### 4.1 프롬프트 작성을 위한 정보 제공"
   ]
  },
  {
   "cell_type": "code",
   "execution_count": 40,
   "id": "03da3a7e-c53e-40af-a13f-84bd1bd56ead",
   "metadata": {
    "tags": []
   },
   "outputs": [],
   "source": [
    "import pandas as pd"
   ]
  },
  {
   "cell_type": "code",
   "execution_count": 41,
   "id": "e6057344-72e7-40e9-950f-e75c5193ad33",
   "metadata": {
    "tags": []
   },
   "outputs": [],
   "source": [
    "_df = pd.read_parquet(\"./dataset/data\")\n",
    "_column_info = pd.read_csv(\"dataset/column_info.csv\")"
   ]
  },
  {
   "cell_type": "code",
   "execution_count": 44,
   "id": "63157d8e",
   "metadata": {},
   "outputs": [
    {
     "data": {
      "text/plain": [
       "pandas.core.frame.DataFrame"
      ]
     },
     "execution_count": 44,
     "metadata": {},
     "output_type": "execute_result"
    }
   ],
   "source": [
    "type(_column_info)"
   ]
  },
  {
   "cell_type": "code",
   "execution_count": 283,
   "id": "672d1e82-3366-41bc-9f5d-59fc368ef3a1",
   "metadata": {
    "tags": []
   },
   "outputs": [],
   "source": [
    "dataset = str(_df.sample(10, random_state=0).to_csv())\n",
    "column_info = str(_column_info.to_csv())\n",
    "topic = \"혼수 이사 분석\""
   ]
  },
  {
   "cell_type": "code",
   "execution_count": 284,
   "id": "81b9208b-2bb3-4dad-9b06-08a2b22da77a",
   "metadata": {
    "tags": []
   },
   "outputs": [
    {
     "name": "stdout",
     "output_type": "stream",
     "text": [
      "<analysis_points>\n",
      "1. [분석] wedd_move_category 컬럼을 활용하여 혼수 이사와 관련된 구매 내역을 추출하고, 가장 인기 있는 제품 카테고리와 모델을 파악합니다.\n",
      "2. [비교] 혼수 이사 구매와 일반 구매 간의 제품 선호도 차이를 prdc_lvl1~4_nm 컬럼을 활용하여 비교합니다.\n",
      "3. [확인] 혼수 이사 구매 고객의 연령대(age_group), 성별(gendr_nm), 거주 지역(ctdo_nm, ccw_nm, dong_nm) 등의 인구통계학적 특성을 파악합니다.\n",
      "4. [분석] 혼수 이사 구매 고객의 평균 주문 금액(amt)과 제품 수량(qt)을 계산하고, 일반 구매와 비교합니다.\n",
      "5. [확인] 혼수 이사 구매 고객의 거주 유형(bld_usg_scls_nm), 평형대(eqdr_group), 소득 분포(apt_eci_group, det_eci_group) 등의 특성을 파악합니다.\n",
      "6. [분석] 혼수 이사 구매 고객의 온라인 구매 비율(onln_buy_yn)과 구매 사유(buy_rsn_nm)를 조사합니다.\n",
      "7. [탐색] 데이터에서 발견되는 혼수 이사 구매와 관련된 예상치 못한 패턴이나 인사이트가 있는지 탐색합니다.\n",
      "</analysis_points>{'text': '<analysis_points>\\n1. [분석] wedd_move_category 컬럼을 활용하여 혼수 이사와 관련된 구매 내역을 추출하고, 가장 인기 있는 제품 카테고리와 모델을 파악합니다.\\n2. [비교] 혼수 이사 구매와 일반 구매 간의 제품 선호도 차이를 prdc_lvl1~4_nm 컬럼을 활용하여 비교합니다.\\n3. [확인] 혼수 이사 구매 고객의 연령대(age_group), 성별(gendr_nm), 거주 지역(ctdo_nm, ccw_nm, dong_nm) 등의 인구통계학적 특성을 파악합니다.\\n4. [분석] 혼수 이사 구매 고객의 평균 주문 금액(amt)과 제품 수량(qt)을 계산하고, 일반 구매와 비교합니다.\\n5. [확인] 혼수 이사 구매 고객의 거주 유형(bld_usg_scls_nm), 평형대(eqdr_group), 소득 분포(apt_eci_group, det_eci_group) 등의 특성을 파악합니다.\\n6. [분석] 혼수 이사 구매 고객의 온라인 구매 비율(onln_buy_yn)과 구매 사유(buy_rsn_nm)를 조사합니다.\\n7. [탐색] 데이터에서 발견되는 혼수 이사 구매와 관련된 예상치 못한 패턴이나 인사이트가 있는지 탐색합니다.\\n</analysis_points>', 'toolUse': None}\n"
     ]
    }
   ],
   "source": [
    "response = insight_generator.invoke(\n",
    "    context={\n",
    "        \"dataset\": dataset,\n",
    "        \"column_info\": column_info,\n",
    "        \"topic\":topic\n",
    "    }\n",
    ")"
   ]
  },
  {
   "cell_type": "code",
   "execution_count": 262,
   "id": "51b5b750-b612-4291-8c6f-f84e3e0d8d81",
   "metadata": {
    "tags": []
   },
   "outputs": [
    {
     "data": {
      "text/plain": [
       "{'text': '<analysis_points>\\n1. [분석] 연령대별 상냉장 제품 구매 금액과 수량을 비교하여 연령에 따른 구매 행동의 차이를 파악합니다. (컬럼: age_group, amt, qt)\\n\\n2. [비교] 지역(시/도, 시/군/구)별로 상냉장 제품의 구매 금액과 수량을 비교하여 지역적 구매 패턴의 차이를 확인합니다. (컬럼: ctdo_nm, ccw_nm, amt, qt)\\n\\n3. [분석] 연령대와 지역을 결합하여 상냉장 제품의 구매 금액과 수량을 분석하고, 연령과 지역이 구매 행동에 미치는 영향을 평가합니다. (컬럼: age_group, ctdo_nm, ccw_nm, amt, qt)\\n\\n4. [확인] 거주 유형(아파트, 다가구 등)과 평형대에 따른 상냉장 제품 구매 패턴의 차이를 확인합니다. (컬럼: bld_usg_scls_nm, eqdr_group, amt, qt)\\n\\n5. [분석] 시간의 흐름에 따른 상냉장 제품 구매 패턴의 변화를 분석합니다. 특정 기간 동안의 구매 금액과 수량 추이를 살펴봅니다. (컬럼: base_dt, amt, qt)\\n\\n6. [식별] 구매 사유(buy_rsn_nm)와 구매 유형(buy_type)에 따른 상냉장 제품 구매 패턴의 차이를 식별합니다. (컬럼: buy_rsn_nm, buy_type, amt, qt)\\n\\n7. [탐색] 데이터에서 발견되는 예상치 못한 패턴이나 특이 사항이 있는지 탐색하고, 연령 및 지역별 구매 패턴과 관련된 새로운 통찰력을 얻습니다.\\n</analysis_points>',\n",
       " 'toolUse': None}"
      ]
     },
     "execution_count": 262,
     "metadata": {},
     "output_type": "execute_result"
    }
   ],
   "source": [
    "response"
   ]
  },
  {
   "cell_type": "code",
   "execution_count": 166,
   "id": "f8ecd3a8-592c-4dba-9798-946e3d42266c",
   "metadata": {
    "tags": []
   },
   "outputs": [
    {
     "data": {
      "text/plain": [
       "'\\nHere is responses: <response>None</response>\\nPlease use the parse_output tool to do the task of structuring information from the responses.\\n'"
      ]
     },
     "execution_count": 166,
     "metadata": {},
     "output_type": "execute_result"
    }
   ],
   "source": [
    "query"
   ]
  },
  {
   "cell_type": "code",
   "execution_count": null,
   "id": "aa8d094c-6030-4586-8c40-eda55b112ba5",
   "metadata": {},
   "outputs": [],
   "source": []
  },
  {
   "cell_type": "code",
   "execution_count": null,
   "id": "295f5c3b-83e1-453c-8c2d-0792787f0dc1",
   "metadata": {},
   "outputs": [],
   "source": []
  },
  {
   "cell_type": "code",
   "execution_count": null,
   "id": "46fbbd7d-1e62-48d5-b2ce-48419eba8d06",
   "metadata": {},
   "outputs": [],
   "source": []
  },
  {
   "cell_type": "code",
   "execution_count": null,
   "id": "2c6212b3-91e0-45de-8151-ced2b5f76ccc",
   "metadata": {
    "tags": []
   },
   "outputs": [],
   "source": [
    "_df.query(\"buy_rsn_nm == '혼수'\")[[\"cust_no\", \"buy_rsn_nm\"]]"
   ]
  },
  {
   "cell_type": "code",
   "execution_count": null,
   "id": "9dc9499b-c1fb-4de3-8636-b20575f8424f",
   "metadata": {
    "tags": []
   },
   "outputs": [],
   "source": [
    "_df[\"buy_rsn_nm\"]"
   ]
  },
  {
   "cell_type": "code",
   "execution_count": null,
   "id": "90c78543-139b-4e01-a5a4-8c658b54edcc",
   "metadata": {},
   "outputs": [],
   "source": []
  },
  {
   "cell_type": "code",
   "execution_count": null,
   "id": "02ff88b7-c67c-4266-89e7-e17f0747fbf4",
   "metadata": {},
   "outputs": [],
   "source": []
  },
  {
   "cell_type": "code",
   "execution_count": null,
   "id": "43756b47-0ffc-46fe-ba1a-000d20509117",
   "metadata": {},
   "outputs": [],
   "source": []
  },
  {
   "cell_type": "code",
   "execution_count": null,
   "id": "be7be16e-d961-4afc-81b5-9f7d46c2aa4a",
   "metadata": {},
   "outputs": [],
   "source": []
  },
  {
   "cell_type": "code",
   "execution_count": null,
   "id": "96ce76a3-12e9-4c06-807f-aab7495064c3",
   "metadata": {},
   "outputs": [],
   "source": []
  },
  {
   "cell_type": "code",
   "execution_count": null,
   "id": "b09f0199-87d4-4dc0-b852-0143a595760d",
   "metadata": {
    "tags": []
   },
   "outputs": [],
   "source": []
  },
  {
   "cell_type": "code",
   "execution_count": null,
   "id": "3b2cc306-f0aa-472d-986d-ae355474f954",
   "metadata": {
    "tags": []
   },
   "outputs": [],
   "source": [
    "df = pd.read_parquet(\"./dataset/data\")\n",
    "column_info = pd.read_csv(\"dataset/column_info.csv\")"
   ]
  },
  {
   "cell_type": "code",
   "execution_count": null,
   "id": "e35c7952-4245-4f47-b0fd-e3a323d3b02c",
   "metadata": {
    "tags": []
   },
   "outputs": [],
   "source": [
    "df"
   ]
  },
  {
   "cell_type": "code",
   "execution_count": 43,
   "id": "4a9051f1-08cd-4f31-89c7-10c773597e50",
   "metadata": {
    "tags": []
   },
   "outputs": [
    {
     "data": {
      "text/plain": [
       "',컬럼 명,컬럼 한글명,DATA TYPE\\n0,record_type,레코드유형,VARCHAR\\n1,cust_no,통합고객번호,VARCHAR\\n2,mdl_cd,모델코드,VARCHAR\\n3,base_dt,기준일자,VARCHAR\\n4,qt,수량,INTEGER\\n5,amt,금액,BIGINT\\n6,prdc_lvl1_cd,제품1레벨코드,VARCHAR\\n7,prdc_lvl1_nm,제품1레벨명,VARCHAR\\n8,prdc_lvl2_cd,제품2레벨코드,VARCHAR\\n9,prdc_lvl2_nm,제품2레벨명,VARCHAR\\n10,prdc_lvl3_cd,제품3레벨코드,VARCHAR\\n11,prdc_lvl3_nm,제품3레벨명,VARCHAR\\n12,prdc_lvl4_cd,제품4레벨코드,VARCHAR\\n13,prdc_lvl4_nm,제품4레벨명,VARCHAR\\n14,chnl_div_hpos_val,채널구분상위값,VARCHAR\\n15,chnl_div_val,채널구분값,VARCHAR\\n16,buy_rsn_nm,구매사유명,VARCHAR\\n17,buy_type,구매유형,VARCHAR\\n18,onln_buy_yn,온라인구매여부,VARCHAR\\n19,wedd_move_category,혼수이사카테고리,VARCHAR\\n20,ordr_stts_nm,주문상태명,VARCHAR\\n21,pdp_view_cnt,PDP조회수,INTEGER\\n22,pdfm_dv_val,제품군구분값,VARCHAR\\n23,up_hma_dv_val,UP가전구분값,VARCHAR\\n24,objt_dv_val,오브제구분값,VARCHAR\\n25,stry_prdc_dv_val,전략제품구분값,VARCHAR\\n26,grw_lead_prdc_dv_val,성장주도제품구분값,VARCHAR\\n27,mdl_category,모델카테고리,VARCHAR\\n28,pdfm_dtl_dv_val,제품군상세구분값,VARCHAR\\n29,dios_pdfm_dv_val,디오스제품군구분값,VARCHAR\\n30,ap_dv_val,공기청정기구분값,VARCHAR\\n31,tv_oled_dv_val,OLEDTV구분값,VARCHAR\\n32,wm_tongdol_dv_val,통돌이세탁기구분값,VARCHAR\\n33,wp_lvl1_dv_val,정수기1레벨구분값,VARCHAR\\n34,wp_lvl2_dv_val,정수기2레벨구분값,VARCHAR\\n35,wp_lvl3_dv_val,정수기3레벨구분값,VARCHAR\\n36,rf_gc_dv_val,김치냉장고구분값,VARCHAR\\n37,rf_liter_dv_val,냉장고리터별구분값,VARCHAR\\n38,rf_dv_val,냉장고구분값,VARCHAR\\n39,shba_buy_category,장바구니구매카테고리,VARCHAR\\n40,pdp_buy_category,PDP구매카테고리,VARCHAR\\n41,age,연령,INTEGER\\n42,age_group,연령대,VARCHAR\\n43,gendr_nm,성별,VARCHAR\\n44,ctdo_nm,시/도명,VARCHAR\\n45,ccw_nm,시/군/구명,VARCHAR\\n46,dong_nm,읍/면/동명,VARCHAR\\n47,bld_usg_scls_nm,거주유형명,VARCHAR\\n48,eqdr_group,평형대,VARCHAR\\n49,apt_eci_group,아파트평균소득분포,VARCHAR\\n50,det_eci_group,일반주택평균소득분포,VARCHAR\\n51,pdp_view_yn,PDP조회여부,VARCHAR\\n52,stand_by_me_new_entr_yn,스탠바이미신규가입여부,VARCHAR\\n53,pdp_view_after_shba_add_yn,PDP조회이후장바구니추가여부,VARCHAR\\n54,pdp_view_after_buy_yn,PDP조회이후구매여부,VARCHAR\\n55,stand_by_me_buy_yn,스탠바이미구매여부,VARCHAR\\n56,stand_by_me_go_buy_yn,스탠바이미GO구매여부,VARCHAR\\n57,room_and_tv_buy_yn,룸앤티비구매여부,VARCHAR\\n58,cinebeam_buy_yn,시네빔구매여부,VARCHAR\\n59,tlamp_user_yn,TLAMP사용자여부,VARCHAR\\n60,re_ordr_dt,재주문일자,VARCHAR\\n61,diff_days,차이일수,INTEGER\\n62,diff_days_category,차이일수(카테고리),VARCHAR\\n'"
      ]
     },
     "execution_count": 43,
     "metadata": {},
     "output_type": "execute_result"
    }
   ],
   "source": [
    "column_info"
   ]
  },
  {
   "cell_type": "markdown",
   "id": "8d187e14-399f-4e2d-a246-faf892eeb2f2",
   "metadata": {},
   "source": [
    "## 3. Chain for "
   ]
  },
  {
   "cell_type": "code",
   "execution_count": null,
   "id": "6c75fa42-7f66-4bc6-8bc4-f58867fde605",
   "metadata": {
    "tags": []
   },
   "outputs": [],
   "source": [
    "from textwrap import dedent\n",
    "from utils.bedrock import bedrock_utils\n",
    "from utils.copy_generator import copy_generation_chain"
   ]
  },
  {
   "cell_type": "code",
   "execution_count": null,
   "id": "70c5a355-d143-4528-a9f5-19c7f01e4fa5",
   "metadata": {},
   "outputs": [],
   "source": []
  },
  {
   "cell_type": "code",
   "execution_count": null,
   "id": "ed106935-f3bf-41fe-b0e0-8b59a8864f7d",
   "metadata": {},
   "outputs": [],
   "source": []
  },
  {
   "cell_type": "code",
   "execution_count": null,
   "id": "9abb1b10-9251-44d2-9a23-60e1ed6b6c82",
   "metadata": {},
   "outputs": [],
   "source": []
  },
  {
   "cell_type": "code",
   "execution_count": null,
   "id": "56ceebe3-d285-4883-bf2c-c02ad8adf813",
   "metadata": {},
   "outputs": [],
   "source": [
    "    (\"system\", \"You are a helpful translator. Translate the user sentence to French.\"),\n",
    "    (\"human\", \"I love programming.\"),"
   ]
  },
  {
   "cell_type": "code",
   "execution_count": null,
   "id": "6b15fbe4-4028-4564-bfe6-2a664aaaacda",
   "metadata": {
    "tags": []
   },
   "outputs": [],
   "source": [
    "prompt = dedent(\n",
    "    '''\n",
    "    You are an AI copywriter expert in crafting personalized marketing messages.\n",
    "    Your goal is to create compelling, tailored content that resonates with individual customers.\n",
    "    Follow these guidelines:\n",
    "    \n",
    "    1. Analyze customer data: Thoroughly examine provided customer information (age, gender, purchase history, interests, etc.).\n",
    "    2. Identify personalization elements: Select key personalization factors based on each customer's unique characteristics and preferences.    \n",
    "    3. Maintain brand voice: Adhere to the company's brand guidelines and tone of voice in all messages.\n",
    "    4. Create concise, engaging copy: Write short, impactful messages that capture attention and drive action.\n",
    "    5. Emotional appeal: Incorporate emotional triggers that resonate with the individual customer's motivations and desires.\n",
    "    6. Use data-driven insights: Leverage customer behavior data to inform message content and timing.\n",
    "    7. Implement urgency and scarcity: When appropriate, create a sense of urgency or scarcity to drive immediate action.\n",
    "    8. Optimize for different channels: Tailor copy for various marketing channels (email, SMS, social media, etc.).\n",
    "    9. Consider timing: Craft messages appropriate to seasons, special dates, or events.\n",
    "    10. Match the given behavioural economics theory.\n",
    "    11. Don't mention anything that's not in the product description.\n",
    "\n",
    "    12. Ensure compliance: Adhere to privacy laws, marketing regulations, and ethical marketing practices.\n",
    "    13. Incorporate storytelling: Use narrative elements to make messages more engaging and memorable.\n",
    "    \n",
    "    Generate personalized marketing copy based on user requests in as short a time as possible, always maintaining accuracy, creativity, and a customer-centric approach.\n",
    "    \n",
    "    '''\n",
    ")\n",
    "#Generate 100 characters or less.\n",
    "# 4. 간결하고 매력적인 카피를 작성합니다: 시선을 사로잡고 행동을 유도하는 짧고 임팩트 있는 메시지를 작성하세요.\n",
    "#     5. 정서적 호소력: 개별 고객의 동기와 욕구에 공감할 수 있는 감정적 유발 요소를 포함하세요.\n",
    "#     6. 데이터 기반 인사이트 활용: 고객 행동 데이터를 활용하여 메시지 콘텐츠와 타이밍을 결정합니다.\n",
    "#     7. 긴급성과 희소성을 구현합니다: 적절한 경우, 긴급성 또는 희소성을 조성하여 즉각적인 행동을 유도합니다.\n",
    "#     8. 다양한 채널에 맞게 최적화하세요: 다양한 마케팅 채널(이메일, SMS, 소셜 미디어 등)에 맞게 카피를 조정합니다.\n",
    "#     9. 타이밍을 고려하세요: 계절, 특별한 날짜 또는 이벤트에 적합한 메시지를 작성하세요.\n",
    "\n",
    "# 1. 마케팅 카피 샘플\n",
    "# 2. 마케팅 대상 (예시-냉장고)\n",
    "# 3. LGE 마케팅 메시지의 톤앤매너 가이드\n",
    "# 4. 고객 개인화 정보 \n",
    "#     - 예시) 연령, 성별, 구매내역, 관심사 등\n",
    "system_prompts = bedrock_utils.get_system_prompt(\n",
    "    system_prompts=prompt,\n",
    ")"
   ]
  },
  {
   "cell_type": "code",
   "execution_count": null,
   "id": "8aedaa1c-3952-41c1-83bf-010df2d357ca",
   "metadata": {
    "tags": []
   },
   "outputs": [],
   "source": [
    "system_prompts"
   ]
  },
  {
   "cell_type": "code",
   "execution_count": null,
   "id": "4b2f65c1-b515-4dd5-857d-b235a6d46417",
   "metadata": {
    "tags": []
   },
   "outputs": [],
   "source": [
    "from langchain_core.prompts import ChatPromptTemplate, HumanMessagePromptTemplate, SystemMessagePromptTemplate"
   ]
  },
  {
   "cell_type": "code",
   "execution_count": null,
   "id": "5e391f3b-d3b2-49f7-a87c-f58ecd71f981",
   "metadata": {
    "tags": []
   },
   "outputs": [],
   "source": [
    "system_message_template = SystemMessagePromptTemplate.from_template(prompt)\n",
    "human_message_template = HumanMessagePromptTemplate.from_template(prompt)"
   ]
  },
  {
   "cell_type": "code",
   "execution_count": null,
   "id": "8146d3a1-9cb9-4ee4-b1ce-49435f5148a0",
   "metadata": {
    "tags": []
   },
   "outputs": [],
   "source": [
    "system_message_template"
   ]
  },
  {
   "cell_type": "code",
   "execution_count": null,
   "id": "16aaad52-ec78-4b55-b48d-77e3b51daf08",
   "metadata": {
    "tags": []
   },
   "outputs": [],
   "source": [
    "human_message_template"
   ]
  },
  {
   "cell_type": "code",
   "execution_count": null,
   "id": "607b7aec-0407-44df-b122-43417a9b08db",
   "metadata": {
    "tags": []
   },
   "outputs": [],
   "source": []
  },
  {
   "cell_type": "code",
   "execution_count": null,
   "id": "0e2a1298-7684-4bcb-a39c-c4356e840f58",
   "metadata": {
    "tags": []
   },
   "outputs": [],
   "source": [
    "ChatMessage?"
   ]
  },
  {
   "cell_type": "code",
   "execution_count": null,
   "id": "69720014-b75b-400f-89c6-05b0efb9efea",
   "metadata": {
    "tags": []
   },
   "outputs": [],
   "source": [
    "import langchain_core"
   ]
  },
  {
   "cell_type": "code",
   "execution_count": null,
   "id": "fdece2c2-7b54-47c0-91c0-c5f857b576b3",
   "metadata": {},
   "outputs": [],
   "source": [
    "langchain_core.messages.ChatMessage"
   ]
  },
  {
   "cell_type": "code",
   "execution_count": null,
   "id": "df00f1fd-643a-4e3f-a31c-a85a5d0d6156",
   "metadata": {
    "tags": []
   },
   "outputs": [],
   "source": [
    "ChatBedrockConverse?"
   ]
  },
  {
   "cell_type": "code",
   "execution_count": null,
   "id": "4de771f5-b4e3-430e-8fee-801341501530",
   "metadata": {},
   "outputs": [],
   "source": []
  }
 ],
 "metadata": {
  "kernelspec": {
   "display_name": "conda_python3",
   "language": "python",
   "name": "conda_python3"
  },
  "language_info": {
   "codemirror_mode": {
    "name": "ipython",
    "version": 3
   },
   "file_extension": ".py",
   "mimetype": "text/x-python",
   "name": "python",
   "nbconvert_exporter": "python",
   "pygments_lexer": "ipython3",
   "version": "3.10.14"
  },
  "vscode": {
   "interpreter": {
    "hash": "4b8e647a79df62bf31906a725b05de775d285962ac600487339d38c51a5c07b1"
   }
  }
 },
 "nbformat": 4,
 "nbformat_minor": 5
}
