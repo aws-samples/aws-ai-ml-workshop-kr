{
 "cells": [
  {
   "cell_type": "markdown",
   "id": "250f980d",
   "metadata": {},
   "source": [
    "# RAG - FSI FAQ with FAISS Local VectorStore Test\n",
    "이 작업(TASK)에서는 앞서 생성한 SageMaker Embedding Vector 모델의 Endpoint를 활용하여 로컬 환경에서 자주 묻는 질문(FAQ) 데이터셋에 대한 FAISS(Facebook AI Similarity Search) 임베딩을 생성합니다. 이를 통해 텍스트 데이터의 유사성을 빠르게 검색할 수 있게 됩니다. 더불어, SageMaker에서 제공하는 Language Model for Learning-to-Match (LLM) Endpoint를 사용하여, 임베딩으로 검색된 정보를 기반으로 프롬프트 엔지니어링을 수행합니다. 이 과정을 통해 Retriever-Answer Generator (RAG) 로직을 테스트해봅니다."
   ]
  },
  {
   "cell_type": "code",
   "execution_count": 3,
   "id": "42646c15-abbd-4f1f-b86d-7485e80bdf07",
   "metadata": {
    "tags": []
   },
   "outputs": [],
   "source": [
    "%store -r endpoint_name_emb endpoint_name_text\n",
    "try:\n",
    "    endpoint_name_emb\n",
    "    endpoint_name_text\n",
    "except NameError:\n",
    "    print(\"++++++++++++++++++++++++++++++++++++++++++++++++++++++++\")\n",
    "    print(\"[ERROR] TASK-1, TASK-2 노트북을 다시 실행해 주세요.\")\n",
    "    print(\"++++++++++++++++++++++++++++++++++++++++++++++++++++++++\")"
   ]
  },
  {
   "cell_type": "markdown",
   "id": "0409d074",
   "metadata": {},
   "source": [
    "## 1. SageMaker Endpoint Wrapper"
   ]
  },
  {
   "cell_type": "code",
   "execution_count": 4,
   "id": "fe7da67b",
   "metadata": {
    "collapsed": false,
    "jupyter": {
     "outputs_hidden": false
    },
    "tags": []
   },
   "outputs": [],
   "source": [
    "# # Version fixed management during code stabilization period of langchain\n",
    "# !pip install SQLAlchemy==2.0.1"
   ]
  },
  {
   "cell_type": "code",
   "execution_count": 5,
   "id": "a9001ba5",
   "metadata": {
    "tags": []
   },
   "outputs": [],
   "source": [
    "import sys\n",
    "import IPython\n",
    "%load_ext autoreload\n",
    "%autoreload 2\n",
    "sys.path.append('./utils') # src 폴더 경로 설정\n",
    "\n",
    "import json\n",
    "import boto3\n",
    "import numpy as np\n",
    "from inference_utils import Prompter\n",
    "from typing import Any, Dict, List, Optional\n",
    "from langchain.embeddings import SagemakerEndpointEmbeddings\n",
    "from langchain.llms.sagemaker_endpoint import LLMContentHandler, SagemakerEndpoint\n",
    "from langchain.embeddings.sagemaker_endpoint import EmbeddingsContentHandler"
   ]
  },
  {
   "cell_type": "markdown",
   "id": "3dbbe240",
   "metadata": {},
   "source": [
    "### 1.1 [한국어 Text LLM] SageMaker Kullum endpiont handler\n",
    "- LLM Kullum Endpoint의 RequestHandler 함수를 만듭니다."
   ]
  },
  {
   "cell_type": "code",
   "execution_count": 6,
   "id": "7b65f000",
   "metadata": {
    "tags": []
   },
   "outputs": [],
   "source": [
    "prompter = Prompter(\"kullm\")\n",
    "params = {\n",
    "      'do_sample': False,\n",
    "      'max_new_tokens': 512, #128\n",
    "      'temperature': 1.0,  # 0.5 ~ 1.0 default = 1.0 높으면 랜덤하게 자유도. 다음 생성 문장 토큰의 자유도 \n",
    "      'top_k': 0,\n",
    "      'top_p': 0.9,\n",
    "      'return_full_text': False,\n",
    "      'repetition_penalty': 1.1,\n",
    "      'presence_penalty': None,\n",
    "      'eos_token_id': 2\n",
    "}\n",
    "\n",
    "class KullmContentHandler(LLMContentHandler):\n",
    "    content_type = \"application/json\"\n",
    "    accepts = \"application/json\"\n",
    "\n",
    "    def transform_input(self, prompt: str, model_kwargs={}) -> bytes:\n",
    "        '''\n",
    "        입력 데이터 전처리 후에 리턴\n",
    "        '''\n",
    "        context, question = prompt.split(\"||SPEPERATOR||\") \n",
    "        prompt = prompter.generate_prompt(question, context)\n",
    "\n",
    "        #print (\"prompt\", prompt)\n",
    "        payload = {\n",
    "            'inputs': [prompt],\n",
    "            'parameters': model_kwargs\n",
    "        }\n",
    "                           \n",
    "        input_str = json.dumps(payload)\n",
    "        \n",
    "        return input_str.encode('utf-8')\n",
    "    \n",
    "\n",
    "    def transform_output(self, output: bytes) -> str:\n",
    "        \n",
    "        response_json = json.loads(output.read().decode(\"utf-8\"))              \n",
    "        generated_text = response_json[0][0][\"generated_text\"]\n",
    "        \n",
    "        return generated_text    "
   ]
  },
  {
   "cell_type": "markdown",
   "id": "63ded92a",
   "metadata": {},
   "source": [
    "#### 1.1.a 기존에 deploying한 한국어생성 LLM endpoint 이름을 설정합니다. \n",
    "- endpoint_name_text"
   ]
  },
  {
   "cell_type": "code",
   "execution_count": 8,
   "id": "d6743adf",
   "metadata": {
    "tags": []
   },
   "outputs": [],
   "source": [
    "aws_region = boto3.Session().region_name\n",
    "LLMTextContentHandler = KullmContentHandler()\n",
    "seperator = \"||SPEPERATOR||\"\n",
    "\n",
    "llm_text = SagemakerEndpoint(\n",
    "    endpoint_name=endpoint_name_text,\n",
    "    region_name=aws_region,\n",
    "    model_kwargs=params,    \n",
    "    content_handler=LLMTextContentHandler,\n",
    ")"
   ]
  },
  {
   "cell_type": "markdown",
   "id": "3ad33552",
   "metadata": {},
   "source": [
    "### 1.2 [한국어 임베딩벡터 모델] SageMaker 임베딩 벡터 모델 KoSimCSE-roberta endpiont handler\n",
    "- KoSimCSE-roberta\n",
    "\n",
    "### SagemakerEndpointEmbeddingsJumpStart클래스는 SagemakerEndpointEmbeddings를 상속받아서 작성\n",
    "\n",
    "매개변수 (Parameters):\n",
    "* texts: 임베딩을 생성할 텍스트의 리스트입니다.\n",
    "* chunk_size: 한 번의 요청에 그룹화될 입력 텍스트의 수를 정의합니다. 만약 None이면, 클래스에 지정된 청크 크기를 사용합니다.\n",
    "\n",
    "Returns:\n",
    "* 각 텍스트에 대한 임베딩의 리스트를 반환"
   ]
  },
  {
   "cell_type": "code",
   "execution_count": 9,
   "id": "3947c039",
   "metadata": {
    "tags": []
   },
   "outputs": [],
   "source": [
    "class SagemakerEndpointEmbeddingsJumpStart(SagemakerEndpointEmbeddings):\n",
    "    def embed_documents(self, texts: List[str], chunk_size: int=1) -> List[List[float]]:\n",
    "        \"\"\"Compute doc embeddings using a SageMaker Inference Endpoint.\n",
    "\n",
    "        Args:\n",
    "            texts: The list of texts to embed.\n",
    "            chunk_size: The chunk size defines how many input texts will\n",
    "                be grouped together as request. If None, will use the\n",
    "                chunk size specified by the class.\n",
    "\n",
    "        Returns:\n",
    "            List of embeddings, one for each text.\n",
    "        \"\"\"\n",
    "        results = []\n",
    "        _chunk_size = len(texts) if chunk_size > len(texts) else chunk_size\n",
    "        \n",
    "        print(\"text size: \", len(texts))\n",
    "        print(\"_chunk_size: \", _chunk_size)\n",
    "\n",
    "        for i in range(0, len(texts), _chunk_size):\n",
    "            \n",
    "            #print (i, texts[i : i + _chunk_size])\n",
    "            response = self._embedding_func(texts[i : i + _chunk_size])\n",
    "            #print (i, response, len(response[0].shape))\n",
    "            \n",
    "            results.extend(response)\n",
    "        return results"
   ]
  },
  {
   "cell_type": "code",
   "execution_count": 10,
   "id": "b4a6313b",
   "metadata": {
    "tags": []
   },
   "outputs": [],
   "source": [
    "class KoSimCSERobertaContentHandler(EmbeddingsContentHandler):\n",
    "    \n",
    "    content_type = \"application/json\"\n",
    "    accepts = \"application/json\"\n",
    "\n",
    "    def transform_input(self, prompt: str, model_kwargs={}) -> bytes:\n",
    "        \n",
    "        input_str = json.dumps({\"inputs\": prompt, **model_kwargs})\n",
    "        \n",
    "        return input_str.encode(\"utf-8\")\n",
    "\n",
    "    def transform_output(self, output: bytes) -> str:\n",
    "        \n",
    "        response_json = json.loads(output.read().decode(\"utf-8\"))\n",
    "        ndim = np.array(response_json).ndim    \n",
    "        \n",
    "        if ndim == 4:\n",
    "            # Original shape (1, 1, n, 768)\n",
    "            emb = response_json[0][0][0]\n",
    "            emb = np.expand_dims(emb, axis=0).tolist()\n",
    "        elif ndim == 2:\n",
    "            # Original shape (n, 1)\n",
    "            emb = []\n",
    "            for ele in response_json:\n",
    "                e = ele[0][0]\n",
    "                emb.append(e)\n",
    "        else:\n",
    "            print(f\"Other # of dimension: {ndim}\")\n",
    "            emb = None\n",
    "        return emb"
   ]
  },
  {
   "cell_type": "markdown",
   "id": "b51afa05",
   "metadata": {},
   "source": [
    "#### 1.2.a 기존에 deploying한 임베딩 벡터 endpoint 설정\n",
    "\n",
    "- endpoint_name_emb"
   ]
  },
  {
   "cell_type": "code",
   "execution_count": 11,
   "id": "3fc0099c",
   "metadata": {
    "tags": []
   },
   "outputs": [],
   "source": [
    "LLMEmbHandler = KoSimCSERobertaContentHandler()\n",
    "\n",
    "llm_emb = SagemakerEndpointEmbeddingsJumpStart(\n",
    "    endpoint_name=endpoint_name_emb,\n",
    "    region_name=aws_region,\n",
    "    content_handler=LLMEmbHandler,\n",
    ")"
   ]
  },
  {
   "cell_type": "markdown",
   "id": "f7e2f8d4",
   "metadata": {},
   "source": [
    "**Now, we can build an QA application. <span style=\"color:red\">LangChain makes it extremly simple with following few lines of code</span>.**"
   ]
  },
  {
   "cell_type": "markdown",
   "id": "a01e9762",
   "metadata": {},
   "source": [
    "# 2.Vector Store - FAISS\n",
    "\n",
    "### FAISS(Facebook AI Similarity Search) : \n",
    "- 밀집 벡터의 효율적인 유사성 검색과 클러스터링을 위한 라이브러리입니다. 이 라이브러리는 RAM에 들어가지 않을 수도 있는 어떤 크기의 벡터 세트에서도 검색할 수 있는 알고리즘을 포함하고 있습니다.\n",
    "- CPU(pip install faiss-cpu)와 GPU(pip install faiss-gpu) 모두에서 사용할 수 있습니다.\n",
    "- 유사성 검색: 기본적인 유사성 검색 외에도, 유사성 점수를 반환하는 similarity_search_with_score와 같은 FAISS 특화 메서드가 있습니다.\n",
    "- 벡터 기반 검색: similarity_search_by_vector 메서드를 사용하여 임베딩 벡터를 파라미터로 전달할 수 있습니다.\n",
    "- 저장 및 로딩: FAISS 인덱스를 로컬에 저장하고 로딩하는 기능이 있어, 매번 인덱스를 생성할 필요가 없습니다.\n",
    "- 벡터 스토어 병합: 두 개의 FAISS 벡터 스토어를 병합할 수 있습니다.\n",
    "- 필터링 지원: FAISS는 메타데이터를 기반으로 문서를 필터링하는 기능을 제공합니다.\n",
    "- 직렬화와 역직렬화: FAISS 인덱스를 바이트로 직렬화하고 역직렬화할 수 있습니다, 이는 데이터베이스에 인덱스를 저장할 때 유용합니다.\n",
    "\n",
    "### Vector Store :\n",
    "- Vector Store는 비정형 데이터를 임베딩 벡터로 변환하여 저장하고, 쿼리 시에 해당 임베딩 벡터와 '가장 유사한' 임베딩 벡터를 검색하는 역할을 하는 저장소입니다. 이는 텍스트 임베딩 모델과 연계하여 벡터를 생성하고 저장, 검색하는 기능을 제공합니다. 다양한 벡터 저장 옵션들이 있으며, 비동기 작업도 지원합니다.\n",
    "\n",
    "\n",
    "References\n",
    "- Vector Store : https://python.langchain.com/docs/modules/data_connection/vectorstores/\n",
    "- FAISS Vector Store : https://python.langchain.com/docs/modules/data_connection/vectorstores/integrations/faiss\n",
    "\n"
   ]
  },
  {
   "cell_type": "code",
   "execution_count": 12,
   "id": "7af1a3f5",
   "metadata": {
    "tags": []
   },
   "outputs": [],
   "source": [
    "from langchain.indexes import VectorstoreIndexCreator\n",
    "from langchain.vectorstores import Chroma, AtlasDB, FAISS\n",
    "from langchain.document_loaders.csv_loader import CSVLoader\n",
    "from langchain.text_splitter import CharacterTextSplitter, RecursiveCharacterTextSplitter"
   ]
  },
  {
   "cell_type": "markdown",
   "id": "ac405abc",
   "metadata": {},
   "source": [
    "### 2.1 Context file load"
   ]
  },
  {
   "cell_type": "markdown",
   "id": "effbbf0b",
   "metadata": {},
   "source": [
    "#### 2.1.a Increase csv field size"
   ]
  },
  {
   "cell_type": "code",
   "execution_count": 13,
   "id": "dadb2c04",
   "metadata": {
    "tags": []
   },
   "outputs": [
    {
     "data": {
      "text/plain": [
       "100000000"
      ]
     },
     "execution_count": 13,
     "metadata": {},
     "output_type": "execute_result"
    }
   ],
   "source": [
    "import csv\n",
    "csv.field_size_limit(100000000)\n",
    "csv.field_size_limit()"
   ]
  },
  {
   "cell_type": "markdown",
   "id": "588d7839",
   "metadata": {},
   "source": [
    "#### 2.1.b FAQ CSV 파일 Load"
   ]
  },
  {
   "cell_type": "code",
   "execution_count": 14,
   "id": "2ccc8c2a",
   "metadata": {
    "tags": []
   },
   "outputs": [],
   "source": [
    "loader = CSVLoader(\n",
    "    file_path=\"./dataset/fsi_smart_faq_ko.csv\",\n",
    "    source_column=\"Source\",\n",
    "    encoding=\"utf-8\"\n",
    ")\n",
    "context_documents = loader.load()"
   ]
  },
  {
   "cell_type": "markdown",
   "id": "d4a61d33",
   "metadata": {},
   "source": [
    "#### 2.1.c FSI FAQ Context 데이터 확인 \n",
    "- 인터넷뱅킹 FAQ > 스마트뱅킹 No.1 ~ N. 89 로 구성되었습니다. \n",
    "- https://www.shinhan.com/hpe/index.jsp#050101020000"
   ]
  },
  {
   "cell_type": "code",
   "execution_count": 15,
   "id": "a16e5a18",
   "metadata": {
    "tags": []
   },
   "outputs": [
    {
     "name": "stdout",
     "output_type": "stream",
     "text": [
      "89\n"
     ]
    },
    {
     "data": {
      "text/plain": [
       "[Document(page_content='no: 89\\nCategory: 타기관OTP 이용등록방법 알려주세요\\nInformation: 타기관에서 발급받으신 OTP가 통합OTP카드인 경우 당행에 등록하여 이용가능합니다. \\n[경로]\\n- 인터넷뱅킹 로그인→ 사용자관리→인터넷뱅킹관리→OTP이용등록  \\n- 신한 쏠(SOL) 로그인→ 전체메뉴→설정/인증→ 이용중인 보안매체선택→   OTP이용등록\\n \\n ※ OTP이용등록후 재로그인을 하셔야 새로 등록된 보안매체가 적용됩니다.\\n\\n기타 궁금하신 내용은 신한은행 고객센터 1599-8000로 문의하여 주시기 바랍니다.\\ntype: 인터넷뱅킹\\nSource: 신한은행', metadata={'source': '신한은행', 'row': 0}),\n",
       " Document(page_content='no: 88\\nCategory: 공동인증서와 금융인증서 차이점이 무엇인가요?\\nInformation: 공동인증서 (구 공인인증서)는 용도에 따라 은행/신용카드/보험용 무료 인증서와 전자거래범용(수수료 4,400원) 인증서가 있으며 유효기간은 1년입니다. \\n공동인증서는 하드디스크나 이동식디스크, 휴대폰 등 원하시는 기기에 저장해서 이용할 수 있습니다.\\n인증서를 저장한 매체에서는 인증서 비밀번호로 편리하게 이용할 수 있으나 다른 기기에서 이용하려면 기기마다 복사하거나 이동식디스크에 저장해서 휴대해야 하는 불편함이 있을 수 있습니다.\\n\\n금융인증서는 금융인증서는 금융결제원의 클라우드에 저장하여 이용하는 인증서로 발급/이용 시에 클라우드에 접속이 필요합니다.\\n금융결제원 클라우드에 연결만 가능하다면 어디서든 편리하게 이용 가능하지만, PC나 USB, 휴대폰 등 다른 기기로 복사는 불가합니다.(유효기간 3년/발급 수수료 무료)\\n※ 클라우드 계정 연결을 위해 휴대폰을 통한 ARS, SMS, 마이인포앱 인증 절차가 필요합니다.\\ntype: 인증서\\nSource: 신한은행', metadata={'source': '신한은행', 'row': 1}),\n",
       " Document(page_content='no: 87\\nCategory: 금융인증서 해외에서 발급할 수 있나요?\\nInformation: 해외에서도 인증서 발급 업무는 가능합니다. 다만, 금융인증서 저장을 위한 금융결제원 클라우드 계정 생성 및 연결이 필요한 업무로 해외연락처를 통한 ARS인증이 진행됩니다.\\ntype: 금융인증서\\nSource: 신한은행', metadata={'source': '신한은행', 'row': 2})]"
      ]
     },
     "execution_count": 15,
     "metadata": {},
     "output_type": "execute_result"
    }
   ],
   "source": [
    "print(len(context_documents))\n",
    "\n",
    "context_documents[0:3]"
   ]
  },
  {
   "cell_type": "markdown",
   "id": "686b6a68",
   "metadata": {},
   "source": [
    "### 2.2 FAISS 벡터 Indexer 생성\n",
    "\n",
    "로드한 FAQ 컨텍스트 데이터를 Indexer를 생성 빌드합니다.\n",
    "- Recursively split by character : https://python.langchain.com/docs/modules/data_connection/document_transformers/text_splitters/recursive_text_splitter\n",
    "\n",
    "It takes about 1 mins\n",
    "vectorstore 생성에 1분정도 소요됩니다.\n",
    "Document가 부분 절삭 되지 않도록 Chunking 전략을 잘 세웁니다."
   ]
  },
  {
   "cell_type": "code",
   "execution_count": 16,
   "id": "ddc4c4ee",
   "metadata": {
    "tags": []
   },
   "outputs": [],
   "source": [
    "index_creator = VectorstoreIndexCreator(\n",
    "    vectorstore_cls=FAISS,\n",
    "    embedding=llm_emb,\n",
    "    #text_splitter=CharacterTextSplitter(chunk_size=700, chunk_overlap=0),\n",
    "    #text_splitter = RecursiveCharacterTextSplitter(chunk_size=500, chunk_overlap=200), \n",
    "    text_splitter = RecursiveCharacterTextSplitter(chunk_size=800, chunk_overlap=200)\n",
    ")\n",
    "# 로버타 모델의 청크 크기에 종속되어있음. 청크 파라미터 확인"
   ]
  },
  {
   "cell_type": "markdown",
   "id": "3a328977",
   "metadata": {},
   "source": [
    "### 2.2.a 임베딩 벡터 스토어 파일 생성 시작"
   ]
  },
  {
   "cell_type": "code",
   "execution_count": 17,
   "id": "f51f21d7",
   "metadata": {
    "tags": []
   },
   "outputs": [
    {
     "name": "stdout",
     "output_type": "stream",
     "text": [
      "text size:  90\n",
      "_chunk_size:  1\n",
      "CPU times: user 4.83 s, sys: 150 ms, total: 4.98 s\n",
      "Wall time: 15 s\n"
     ]
    }
   ],
   "source": [
    "%%time\n",
    "index = index_creator.from_loaders([loader])"
   ]
  },
  {
   "cell_type": "markdown",
   "id": "3e4aaee8",
   "metadata": {},
   "source": [
    "### 2.2.b index save and read index from local"
   ]
  },
  {
   "cell_type": "code",
   "execution_count": 18,
   "id": "68ce3bb7",
   "metadata": {
    "tags": []
   },
   "outputs": [],
   "source": [
    "# Save\n",
    "index.vectorstore.save_local(\"./indexer/fsi_faq_indexer_ko\")"
   ]
  },
  {
   "cell_type": "code",
   "execution_count": 19,
   "id": "65fd6c94",
   "metadata": {
    "tags": []
   },
   "outputs": [],
   "source": [
    "# Read\n",
    "index_ = FAISS.load_local(\"./indexer/fsi_faq_indexer_ko\", llm_emb, allow_dangerous_deserialization=True)"
   ]
  },
  {
   "cell_type": "markdown",
   "id": "28a1a560",
   "metadata": {},
   "source": [
    "### 2.2.c 생성한 Indexer document 5개 확인"
   ]
  },
  {
   "cell_type": "code",
   "execution_count": 20,
   "id": "6a2c7af3",
   "metadata": {
    "tags": []
   },
   "outputs": [
    {
     "data": {
      "text/plain": [
       "{'55079f7e-64fe-4fd2-9f9d-4cb081fbd057': Document(page_content='no: 89\\nCategory: 타기관OTP 이용등록방법 알려주세요\\nInformation: 타기관에서 발급받으신 OTP가 통합OTP카드인 경우 당행에 등록하여 이용가능합니다. \\n[경로]\\n- 인터넷뱅킹 로그인→ 사용자관리→인터넷뱅킹관리→OTP이용등록  \\n- 신한 쏠(SOL) 로그인→ 전체메뉴→설정/인증→ 이용중인 보안매체선택→   OTP이용등록\\n \\n ※ OTP이용등록후 재로그인을 하셔야 새로 등록된 보안매체가 적용됩니다.\\n\\n기타 궁금하신 내용은 신한은행 고객센터 1599-8000로 문의하여 주시기 바랍니다.\\ntype: 인터넷뱅킹\\nSource: 신한은행', metadata={'source': '신한은행', 'row': 0}),\n",
       " 'd86253da-ff52-4b11-b307-bca96b3daeea': Document(page_content='no: 88\\nCategory: 공동인증서와 금융인증서 차이점이 무엇인가요?\\nInformation: 공동인증서 (구 공인인증서)는 용도에 따라 은행/신용카드/보험용 무료 인증서와 전자거래범용(수수료 4,400원) 인증서가 있으며 유효기간은 1년입니다. \\n공동인증서는 하드디스크나 이동식디스크, 휴대폰 등 원하시는 기기에 저장해서 이용할 수 있습니다.\\n인증서를 저장한 매체에서는 인증서 비밀번호로 편리하게 이용할 수 있으나 다른 기기에서 이용하려면 기기마다 복사하거나 이동식디스크에 저장해서 휴대해야 하는 불편함이 있을 수 있습니다.\\n\\n금융인증서는 금융인증서는 금융결제원의 클라우드에 저장하여 이용하는 인증서로 발급/이용 시에 클라우드에 접속이 필요합니다.\\n금융결제원 클라우드에 연결만 가능하다면 어디서든 편리하게 이용 가능하지만, PC나 USB, 휴대폰 등 다른 기기로 복사는 불가합니다.(유효기간 3년/발급 수수료 무료)\\n※ 클라우드 계정 연결을 위해 휴대폰을 통한 ARS, SMS, 마이인포앱 인증 절차가 필요합니다.\\ntype: 인증서\\nSource: 신한은행', metadata={'source': '신한은행', 'row': 1}),\n",
       " '21c451c3-5a63-433f-b817-8bfe654886cf': Document(page_content='no: 87\\nCategory: 금융인증서 해외에서 발급할 수 있나요?\\nInformation: 해외에서도 인증서 발급 업무는 가능합니다. 다만, 금융인증서 저장을 위한 금융결제원 클라우드 계정 생성 및 연결이 필요한 업무로 해외연락처를 통한 ARS인증이 진행됩니다.\\ntype: 금융인증서\\nSource: 신한은행', metadata={'source': '신한은행', 'row': 2}),\n",
       " 'bd468c2f-7dd2-4d4d-8c71-fd85ad8172d1': Document(page_content='no: 86\\nCategory: 클라우드에 보관 중인 인증서는 얼마나 유지 되나요?\\nInformation: 정상적으로 이용하실 경우 금융인증서의 유효기간은 3년이며, 1년 동안 클라우드 이용 이력이 없는 경우는 안전한 이용을 위하여 클라우드 계정 및 저장된 모든 인증서가 삭제됩니다.\\ntype: 금융인증서\\nSource: 신한은행', metadata={'source': '신한은행', 'row': 3}),\n",
       " 'c369c80c-e55e-4c9f-8e0a-fcf67275b6fc': Document(page_content='no: 85\\nCategory: 금융인증서 발급대상은 누구인가요?\\nInformation: 금융인증서는 은행 등의 금융회사에서 실명 확인된 고객을 대상으로 안전하게 발급되며 신한은행 온라인서비스 가입 고객이면 발급가능합니다. 다만 금융인증서는 PC하드디스크나 휴대폰 등에 파일형태로 저장하는 방식이 아닌 금융결제원의 클라우드에 저장되기 때문에 금융결제원의 클라우드 연결을 위해 문자, ARS, 마이인포 앱을 통한 인증 절차가 진행됩니다.\\ntype: 금융인증서\\nSource: 신한은행', metadata={'source': '신한은행', 'row': 4})}"
      ]
     },
     "execution_count": 20,
     "metadata": {},
     "output_type": "execute_result"
    }
   ],
   "source": [
    "index_.index_to_docstore_id\n",
    "#index_.docstore._dict[:10]\n",
    "dict(list(index_.docstore._dict.items())[:5])"
   ]
  },
  {
   "cell_type": "code",
   "execution_count": 21,
   "id": "f9f7b918",
   "metadata": {
    "tags": []
   },
   "outputs": [
    {
     "data": {
      "text/plain": [
       "90"
      ]
     },
     "execution_count": 21,
     "metadata": {},
     "output_type": "execute_result"
    }
   ],
   "source": [
    "len(list(index_.docstore._dict.items()))"
   ]
  },
  {
   "cell_type": "markdown",
   "id": "829ed479",
   "metadata": {},
   "source": [
    "## 3. Langchain QnA"
   ]
  },
  {
   "cell_type": "code",
   "execution_count": 22,
   "id": "c37288ea",
   "metadata": {
    "tags": []
   },
   "outputs": [],
   "source": [
    "from langchain import PromptTemplate\n",
    "from langchain.chains.question_answering import load_qa_chain"
   ]
  },
  {
   "cell_type": "markdown",
   "id": "63d8dabb",
   "metadata": {},
   "source": [
    "### 3.1 Query and Response\n",
    "\n",
    "filter_and_remove_score\n",
    "- 이 함수는 주어진 검색 결과 리스트(res)에서 특정 점수(cutoff_score와 variance를 기반으로)를 기준으로 필터링을 수행하고, 임베딩 Document 이외 검색 결과에 추가된 score를 제거합니다.\n",
    "- 본 핸즈온 데모에서는 카테고리 분류기 대신, 단순 검색 조건 필터링에 조회되지 않는 에러가 큰 (에러 거리 score가 200이상이고, 분산이 1.3이상인 값을 상한값으로 정한 다음 필터링된 문서 리스트만 반환합니다.\n",
    "- 실제 환경에서는 문장 분류 카테고리 모델의 사용을 권장합니다. \n",
    "\n"
   ]
  },
  {
   "cell_type": "code",
   "execution_count": 23,
   "id": "5390eb8c",
   "metadata": {
    "tags": []
   },
   "outputs": [],
   "source": [
    "prompt_template = ''.join([\"{context}\", seperator, \"{question}\"])\n",
    "PROMPT = PromptTemplate(template=prompt_template, input_variables=[\"context\", \"question\"])\n",
    "chain = load_qa_chain(llm=llm_text, chain_type=\"stuff\", prompt=PROMPT, verbose=True)\n",
    "\n",
    "\n",
    "def filter_and_remove_score(res, cutoff_score = 200, variance=1.3):\n",
    "    # Get the lowest score\n",
    "    lowest_score = min(score for doc, score in res)\n",
    "    print('lowest_score : ', lowest_score)\n",
    "    # If the lowest score is over 200, return an empty list\n",
    "    if lowest_score > cutoff_score:\n",
    "        return []\n",
    "    # Calculate the upper bound for scores\n",
    "    upper_bound = lowest_score * variance\n",
    "\n",
    "    \n",
    "    # Filter the list and remove the score\n",
    "    res = [doc for doc, score in res if score <= upper_bound]\n",
    "\n",
    "    return res\n",
    "\n",
    "\n",
    "def get_similiar_docs(query, k=1, fetch_k=50, score=True, bank=\"\"):\n",
    "\n",
    "    #print (query)\n",
    "    \n",
    "    if score:         \n",
    "        similar_docs = index_.similarity_search_with_score(\n",
    "            query,\n",
    "            k=k,\n",
    "            fetch_k=fetch_k,\n",
    "            filter=dict(source=bank)\n",
    "        )\n",
    "        similar_docs=filter_and_remove_score(similar_docs)\n",
    "    else:        \n",
    "        similar_docs = index_.similarity_search(\n",
    "            query,\n",
    "            k=k,\n",
    "            fetch_k=fetch_k,\n",
    "            filter=dict(source=bank)\n",
    "        )\n",
    "        \n",
    "    return similar_docs\n",
    "\n",
    "def get_answer(query, bank=\"\", k=1):\n",
    "                \n",
    "    search_query = query\n",
    "    \n",
    "    similar_docs = get_similiar_docs(search_query, k=k, bank=bank)\n",
    "    \n",
    "    print(\"similar_docs : \", similar_docs)\n",
    "    llm_query = ''+query+' Category에 대한 Information을 찾아서 설명해주세요.'\n",
    "    \n",
    "    if not similar_docs:\n",
    "        llm_query = query\n",
    "\n",
    "    answer = chain.run(input_documents=similar_docs, question=llm_query)\n",
    "    \n",
    "    return answer\n",
    "\n",
    "\n",
    "\n",
    "def get_search_answer (query, bank=\"\", k=1):\n",
    "    search_query = query\n",
    "    similar_docs = get_similiar_docs(search_query, k=k, bank=bank)\n",
    "    llm_query = '검색된 내용을 no. 별로 요약한 문장으로 알려줘.'\n",
    "    if not similar_docs:\n",
    "        llm_query = query\n",
    "\n",
    "    llm_answer = chain.run(input_documents=similar_docs, question=llm_query)\n",
    "    return llm_answer"
   ]
  },
  {
   "cell_type": "code",
   "execution_count": 24,
   "id": "759fbcc9-df64-4dd0-a0c4-bd81e94b4478",
   "metadata": {
    "tags": []
   },
   "outputs": [
    {
     "name": "stdout",
     "output_type": "stream",
     "text": [
      "\n",
      "\n",
      "\u001B[1m> Entering new StuffDocumentsChain chain...\u001B[0m\n",
      "\n",
      "\n",
      "\u001B[1m> Entering new LLMChain chain...\u001B[0m\n",
      "Prompt after formatting:\n",
      "\u001B[32;1m\u001B[1;3m||SPEPERATOR||안녕하세요\u001B[0m\n",
      "\n",
      "\u001B[1m> Finished chain.\u001B[0m\n",
      "\n",
      "\u001B[1m> Finished chain.\u001B[0m\n"
     ]
    },
    {
     "data": {
      "text/plain": [
       "'안녕하세요! 오늘은 무엇을 도와드릴까요?'"
      ]
     },
     "execution_count": 24,
     "metadata": {},
     "output_type": "execute_result"
    }
   ],
   "source": [
    "chain.run(input_documents='', question='안녕하세요')"
   ]
  },
  {
   "cell_type": "code",
   "execution_count": 25,
   "id": "702ae938",
   "metadata": {
    "tags": []
   },
   "outputs": [
    {
     "name": "stdout",
     "output_type": "stream",
     "text": [
      "lowest_score :  293.9933\n",
      "similar_docs :  []\n",
      "\n",
      "\n",
      "\u001B[1m> Entering new StuffDocumentsChain chain...\u001B[0m\n",
      "\n",
      "\n",
      "\u001B[1m> Entering new LLMChain chain...\u001B[0m\n",
      "Prompt after formatting:\n",
      "\u001B[32;1m\u001B[1;3m||SPEPERATOR||안녕하세요. 날씨가 참 좋네요.\u001B[0m\n",
      "\n",
      "\u001B[1m> Finished chain.\u001B[0m\n",
      "\n",
      "\u001B[1m> Finished chain.\u001B[0m\n",
      "question: 안녕하세요. 날씨가 참 좋네요.\n",
      "==========================\n",
      "\n",
      "\n",
      "response: \n",
      " 안녕하세요! 오늘은 무엇을 도와드릴까요?\n",
      "CPU times: user 8.26 ms, sys: 4.57 ms, total: 12.8 ms\n",
      "Wall time: 674 ms\n"
     ]
    }
   ],
   "source": [
    "%%time\n",
    "question = \"안녕하세요. 날씨가 참 좋네요.\"\n",
    "response = get_answer(question, bank=\"신한은행\", k=5)\n",
    "\n",
    "print (f'question: {question}')\n",
    "print('==========================')\n",
    "print('\\n')\n",
    "print (f'response: \\n {response}')"
   ]
  },
  {
   "cell_type": "markdown",
   "id": "7a570506",
   "metadata": {},
   "source": [
    "### 3.1.a FAQ 데이터 응답문장 테스트"
   ]
  },
  {
   "cell_type": "code",
   "execution_count": 26,
   "id": "8509dd3e",
   "metadata": {
    "scrolled": true,
    "tags": []
   },
   "outputs": [
    {
     "name": "stdout",
     "output_type": "stream",
     "text": [
      "lowest_score :  112.327644\n",
      "similar_docs :  [Document(page_content='no: 89\\nCategory: 타기관OTP 이용등록방법 알려주세요\\nInformation: 타기관에서 발급받으신 OTP가 통합OTP카드인 경우 당행에 등록하여 이용가능합니다. \\n[경로]\\n- 인터넷뱅킹 로그인→ 사용자관리→인터넷뱅킹관리→OTP이용등록  \\n- 신한 쏠(SOL) 로그인→ 전체메뉴→설정/인증→ 이용중인 보안매체선택→   OTP이용등록\\n \\n ※ OTP이용등록후 재로그인을 하셔야 새로 등록된 보안매체가 적용됩니다.\\n\\n기타 궁금하신 내용은 신한은행 고객센터 1599-8000로 문의하여 주시기 바랍니다.\\ntype: 인터넷뱅킹\\nSource: 신한은행', metadata={'source': '신한은행', 'row': 0})]\n",
      "\n",
      "\n",
      "\u001B[1m> Entering new StuffDocumentsChain chain...\u001B[0m\n",
      "\n",
      "\n",
      "\u001B[1m> Entering new LLMChain chain...\u001B[0m\n",
      "Prompt after formatting:\n",
      "\u001B[32;1m\u001B[1;3mno: 89\n",
      "Category: 타기관OTP 이용등록방법 알려주세요\n",
      "Information: 타기관에서 발급받으신 OTP가 통합OTP카드인 경우 당행에 등록하여 이용가능합니다. \n",
      "[경로]\n",
      "- 인터넷뱅킹 로그인→ 사용자관리→인터넷뱅킹관리→OTP이용등록  \n",
      "- 신한 쏠(SOL) 로그인→ 전체메뉴→설정/인증→ 이용중인 보안매체선택→   OTP이용등록\n",
      " \n",
      " ※ OTP이용등록후 재로그인을 하셔야 새로 등록된 보안매체가 적용됩니다.\n",
      "\n",
      "기타 궁금하신 내용은 신한은행 고객센터 1599-8000로 문의하여 주시기 바랍니다.\n",
      "type: 인터넷뱅킹\n",
      "Source: 신한은행||SPEPERATOR||타기관OTP 등록 방법 알려주세요 Category에 대한 Information을 찾아서 설명해주세요.\u001B[0m\n",
      "\n",
      "\u001B[1m> Finished chain.\u001B[0m\n",
      "\n",
      "\u001B[1m> Finished chain.\u001B[0m\n",
      "question: 타기관OTP 등록 방법 알려주세요\n",
      "==========================\n",
      "\n",
      "\n",
      "response: \n",
      " 타기관OTP 등록 방법:\n",
      "1. 인터넷뱅킹 로그인: 먼저, 인터넷뱅킹에 로그인하고 사용자 관리 페이지로 이동합니다. 여기서 \"사용자 관리\" 버튼을 클릭한 후 \"OTP 이용 등록\"을 선택합니다.\n",
      "2. 신한 쏠(SOL) 로그인: 다음으로, 신한 쏠(SOL)에 로그인합니다. 여기서 \"전체 메뉴\" 버튼을 클릭한 후 \"설정/인증\" 탭으로 이동합니다. 여기서 \"이용 중인 보안 매체 선택\" 버튼을 클릭한 후 \"OTP 이용 등록\"을 선택합니다.\n",
      "3. OTP 이용 등록: OTP 이용 등록을 위한 정보를 입력합니다. 여기서 \"타기관OTP 등록\"을 선택한 후, \"등록\" 버튼을 클릭합니다.\n",
      "4. OTP 이용 등록 확인: 등록이 완료되면, \"확인\" 버튼을 클릭하여 등록이 성공적으로 완료되었는지 확인합니다.\n",
      "5. OTP 이용 시작: 등록이 완료되면, 이제 타기관OTP를 사용할 수 있습니다.\n",
      "CPU times: user 9.87 ms, sys: 0 ns, total: 9.87 ms\n",
      "Wall time: 10.3 s\n"
     ]
    }
   ],
   "source": [
    "%%time\n",
    "question = \"타기관OTP 등록 방법 알려주세요\"\n",
    "response = get_answer(question, bank=\"신한은행\", k=3)\n",
    "\n",
    "print (f'question: {question}')\n",
    "print('==========================')\n",
    "print('\\n')\n",
    "print (f'response: \\n {response}')"
   ]
  },
  {
   "cell_type": "code",
   "execution_count": 27,
   "id": "19bdac33",
   "metadata": {
    "tags": []
   },
   "outputs": [
    {
     "name": "stdout",
     "output_type": "stream",
     "text": [
      "lowest_score :  91.2802\n",
      "similar_docs :  [Document(page_content='no: 71\\nCategory: 홈페이지 이용자아이디 여러 개 사용할 수 있나요?\\nInformation: 홈페이지 이용자 아이디는 개인의 경우 1인 1개만 이용 가능하고 기업의 경우에는 1개의 사업자번호당 사용자별로 이용자아이디를 복수로 사용할 수 있습니다. \\n※ 개인사업자의 경우 개인과 기업 각각 이용자아이디를 발급하여 복수로 이용 가능합니다. \\n기타 궁금하신 내용은 신한은행 고객센터 1599-8000로 문의하여 주시기 바랍니다.\\ntype: 홈페이지\\nSource: 신한은행', metadata={'source': '신한은행', 'row': 18})]\n",
      "\n",
      "\n",
      "\u001B[1m> Entering new StuffDocumentsChain chain...\u001B[0m\n",
      "\n",
      "\n",
      "\u001B[1m> Entering new LLMChain chain...\u001B[0m\n",
      "Prompt after formatting:\n",
      "\u001B[32;1m\u001B[1;3mno: 71\n",
      "Category: 홈페이지 이용자아이디 여러 개 사용할 수 있나요?\n",
      "Information: 홈페이지 이용자 아이디는 개인의 경우 1인 1개만 이용 가능하고 기업의 경우에는 1개의 사업자번호당 사용자별로 이용자아이디를 복수로 사용할 수 있습니다. \n",
      "※ 개인사업자의 경우 개인과 기업 각각 이용자아이디를 발급하여 복수로 이용 가능합니다. \n",
      "기타 궁금하신 내용은 신한은행 고객센터 1599-8000로 문의하여 주시기 바랍니다.\n",
      "type: 홈페이지\n",
      "Source: 신한은행||SPEPERATOR||홈페이지 이용자아이디 여러 개 사용할 수 있나요? Category에 대한 Information을 찾아서 설명해주세요.\u001B[0m\n",
      "\n",
      "\u001B[1m> Finished chain.\u001B[0m\n",
      "\n",
      "\u001B[1m> Finished chain.\u001B[0m\n",
      "question: 홈페이지 이용자아이디 여러 개 사용할 수 있나요?\n",
      "==========================\n",
      "\n",
      "\n",
      "response: \n",
      " 예, 홈페이지 이용자 아이디는 개인의 경우 1인 1개만 사용할 수 있고, 기업의 경우 1개의 사업자번호당 사용자별로 이용자아이디를 복수로 사용할 수 있습니다. 이 정보는 신한은행 고객센터(1599-8000)로 문의하면 확인할 수 있습니다.\n",
      "CPU times: user 9.95 ms, sys: 351 µs, total: 10.3 ms\n",
      "Wall time: 3.09 s\n"
     ]
    }
   ],
   "source": [
    "%%time\n",
    "question = \"홈페이지 이용자아이디 여러 개 사용할 수 있나요?\"\n",
    "response = get_answer(question, bank=\"신한은행\", k=3)\n",
    "\n",
    "print (f'question: {question}')\n",
    "print('==========================')\n",
    "print('\\n')\n",
    "print (f'response: \\n {response}')"
   ]
  },
  {
   "cell_type": "code",
   "execution_count": 28,
   "id": "a8bde7ab",
   "metadata": {
    "tags": []
   },
   "outputs": [
    {
     "name": "stdout",
     "output_type": "stream",
     "text": [
      "lowest_score :  180.9096\n",
      "similar_docs :  [Document(page_content='no: 78\\nCategory: 미래를함께하는따뜻한금융 안전한금융거래를위해준비중입니다.\\' 화면에서 멈춤 / 로딩중 멈추는데 어떻게 하나요?\\nInformation: 오류 사유는 인터넷 익스플로러 설정값의 영향이거나 이용하시는 장소의 네트워크 영향에 의해 로딩이 원활하지 않은 경우입니다. \\n조치방법은 \\n1. 임시 인터넷 파일 및 쿠키 삭제, 신뢰할 수 있는 사이트 추가 \\n 인터넷 익스플로러 상단의 [도구] > [인터넷옵션]에서\\n① [일반Tab] > 검색기록항목의 [삭제] 버튼 클릭 \"임시 인터넷 파일 및 사이트 파일\" , \"쿠키 및 웹사이트 데이터\" 항목만 체크하고 [삭제] \\n② [보안Tab] > 신뢰할 수 있는 사이트 > [사이트] 클릭하여 [ https://*.shinhan.com ] 추가 후 적용 및 확인하십시오. \\n 또는, 당행 보안프로그램 삭제 열려있는 브라우저 종료 후, 시작 > 제어판의 [프로그램 추가/제거] (총 4개이며 보이지 않으면 제거할 필요없음) \\n- AhnLab Safe Transaction, \\n - iniLINE CrossEX Service, \\n- INISAFE CrossWeb EX v3.0, \\n- TouchEn nxKey with E2E for 32bit\\n3. 새 브라우저 열어서 개인인터넷뱅킹 재접속 후 [통합설치] 진행 하세요. \\n기타 궁금하신 내용은 신한은행 고객센터 1599-8000로 문의하여 주시기 바랍니다.\\ntype: \\nSource: 신한은행', metadata={'source': '신한은행', 'row': 11})]\n",
      "\n",
      "\n",
      "\u001B[1m> Entering new StuffDocumentsChain chain...\u001B[0m\n",
      "\n",
      "\n",
      "\u001B[1m> Entering new LLMChain chain...\u001B[0m\n",
      "Prompt after formatting:\n",
      "\u001B[32;1m\u001B[1;3mno: 78\n",
      "Category: 미래를함께하는따뜻한금융 안전한금융거래를위해준비중입니다.' 화면에서 멈춤 / 로딩중 멈추는데 어떻게 하나요?\n",
      "Information: 오류 사유는 인터넷 익스플로러 설정값의 영향이거나 이용하시는 장소의 네트워크 영향에 의해 로딩이 원활하지 않은 경우입니다. \n",
      "조치방법은 \n",
      "1. 임시 인터넷 파일 및 쿠키 삭제, 신뢰할 수 있는 사이트 추가 \n",
      " 인터넷 익스플로러 상단의 [도구] > [인터넷옵션]에서\n",
      "① [일반Tab] > 검색기록항목의 [삭제] 버튼 클릭 \"임시 인터넷 파일 및 사이트 파일\" , \"쿠키 및 웹사이트 데이터\" 항목만 체크하고 [삭제] \n",
      "② [보안Tab] > 신뢰할 수 있는 사이트 > [사이트] 클릭하여 [ https://*.shinhan.com ] 추가 후 적용 및 확인하십시오. \n",
      " 또는, 당행 보안프로그램 삭제 열려있는 브라우저 종료 후, 시작 > 제어판의 [프로그램 추가/제거] (총 4개이며 보이지 않으면 제거할 필요없음) \n",
      "- AhnLab Safe Transaction, \n",
      " - iniLINE CrossEX Service, \n",
      "- INISAFE CrossWeb EX v3.0, \n",
      "- TouchEn nxKey with E2E for 32bit\n",
      "3. 새 브라우저 열어서 개인인터넷뱅킹 재접속 후 [통합설치] 진행 하세요. \n",
      "기타 궁금하신 내용은 신한은행 고객센터 1599-8000로 문의하여 주시기 바랍니다.\n",
      "type: \n",
      "Source: 신한은행||SPEPERATOR||화면에서 미래를함께하는따뜻한금융 안전한금융거래를위해준비중입니다. 라고 나오고 맨날 멈추는데 어떻게 하냐? 아니쓸수가 없자나 Category에 대한 Information을 찾아서 설명해주세요.\u001B[0m\n",
      "\n",
      "\u001B[1m> Finished chain.\u001B[0m\n",
      "\n",
      "\u001B[1m> Finished chain.\u001B[0m\n",
      "question: 화면에서 미래를함께하는따뜻한금융 안전한금융거래를위해준비중입니다. 라고 나오고 맨날 멈추는데 어떻게 하냐? 아니쓸수가 없자나\n",
      "==========================\n",
      "\n",
      "\n",
      "response: \n",
      " 인터넷 익스플로러 설정 값의 영향이나 네트워크 문제로 인해 화면에서 '미래를 함께하는 따뜻한 금융'이라는 제목의 화면이 멈추면 다음 단계를 시도해 보세요:\n",
      "\n",
      "1. 인터넷 익스플로러 설정 변경: 인터넷 익스플로러 상단의 [도구] > [인터넷 옵션]에서 기본 설정으로 돌아갑니다.\n",
      "\n",
      "2. 신뢰할 수 있는 사이트 추가: 인터넷 익스플로러 상단의 [도구] > [인터넷옵션]에서 [신뢰할 수 있는 사이트]를 클릭합니다. 그러면 목록이 표시되며, 여기에는 인터넷 익스플로러 설정값과 호환되는 사이트가 포함됩니다.\n",
      "\n",
      "3. 인터넷 익스플로러 설정 변경: 인터넷 익스플로러 상단의 [설정] > [개인정보] > [고급]으로 이동합니다. 여기에서 '개인정보 보호탭'을 선택하고 '인스턴트 온'을 활성화합니다. 이렇게 하면 인터넷 익스플로러가 실행 중일 때에도 다른 창을 열 수 있습니다.\n",
      "\n",
      "4. 인터넷 익스플로러 설정 변경: 인터넷 익스플로러 상단의 [설정] > [고급]으로 이동합니다. 여기에서 '인스턴트 온'을 비활성화합니다. 이렇게 하면 인터넷 익스플로러가 실행 중일 때 다른 창을 열 수 있습니다.\n",
      "\n",
      "5. 브라우저를 새로 고칩니다: 인터넷 익스플로러를 새로 설치했다면 브라우저를 다시 다운로드해야 할 수도 있습니다. 브라우저를 다운로드하려면 인터넷 익스플로러를 열고 도구 모음에서 '인쇄'를 클릭합니다. 인쇄 대화 상자에서 '추가'를 클릭하고 '새로 만들기'를 클릭합니다. 그런 다음 '확인'을 클릭하여 새 브라우저를 저장합니다.\n",
      "\n",
      "6. 브라우저를 다시 시작합니다: 브라우저가 새로 설치된 경우 브라우저를 다시 시작하면 문제가 해결될 수 있습니다. 인터넷 익스플로러를 다시 시작하면 문제가 해결될 수 있습니다.\n",
      "CPU times: user 19 ms, sys: 103 µs, total: 19.1 ms\n",
      "Wall time: 19.7 s\n"
     ]
    }
   ],
   "source": [
    "%%time\n",
    "question = \"화면에서 미래를함께하는따뜻한금융 안전한금융거래를위해준비중입니다. 라고 나오고 맨날 멈추는데 어떻게 하냐? 아니쓸수가 없자나\"\n",
    "response = get_answer(question, bank=\"신한은행\", k=1)\n",
    "\n",
    "print (f'question: {question}')\n",
    "print('==========================')\n",
    "print('\\n')\n",
    "print (f'response: \\n {response}')"
   ]
  },
  {
   "cell_type": "code",
   "execution_count": 29,
   "id": "dbf1afaf",
   "metadata": {
    "tags": []
   },
   "outputs": [
    {
     "name": "stdout",
     "output_type": "stream",
     "text": [
      "lowest_score :  85.21392\n",
      "similar_docs :  [Document(page_content='no: 84\\nCategory: 기존 공동인증서를 보유한 상태에서 금융인증서 발급이 가능한가요?\\nInformation: 공동인증서와 금융인증서는 별개의 인증서로 두 가지 인증서를 모두 사용할 수 있습니다.\\ntype: 금융인증서\\nSource: 신한은행', metadata={'source': '신한은행', 'row': 5})]\n",
      "\n",
      "\n",
      "\u001B[1m> Entering new StuffDocumentsChain chain...\u001B[0m\n",
      "\n",
      "\n",
      "\u001B[1m> Entering new LLMChain chain...\u001B[0m\n",
      "Prompt after formatting:\n",
      "\u001B[32;1m\u001B[1;3mno: 84\n",
      "Category: 기존 공동인증서를 보유한 상태에서 금융인증서 발급이 가능한가요?\n",
      "Information: 공동인증서와 금융인증서는 별개의 인증서로 두 가지 인증서를 모두 사용할 수 있습니다.\n",
      "type: 금융인증서\n",
      "Source: 신한은행||SPEPERATOR||공동인증서랑 금융인증서 같이 쓸수있나요? Category에 대한 Information을 찾아서 설명해주세요.\u001B[0m\n",
      "\n",
      "\u001B[1m> Finished chain.\u001B[0m\n",
      "\n",
      "\u001B[1m> Finished chain.\u001B[0m\n",
      "question: 공동인증서랑 금융인증서 같이 쓸수있나요?\n",
      "==========================\n",
      "\n",
      "\n",
      "response: \n",
      " 예, 공동인증서와 금융인증서는 별개의 인증서로, 공동인증서를 보유한 상태에서도 금융인증서를 발급받을 수 있습니다. 이 경우, 기존 공동인증서를 금융인증서로 전환하여 사용하면 됩니다.\n",
      "CPU times: user 10.9 ms, sys: 170 µs, total: 11 ms\n",
      "Wall time: 2.51 s\n"
     ]
    }
   ],
   "source": [
    "%%time\n",
    "question = \"공동인증서랑 금융인증서 같이 쓸수있나요?\"\n",
    "response = get_answer(question, bank=\"신한은행\", k=3)\n",
    "\n",
    "print (f'question: {question}')\n",
    "print('==========================')\n",
    "print('\\n')\n",
    "print (f'response: \\n {response}')"
   ]
  },
  {
   "cell_type": "code",
   "execution_count": 32,
   "id": "71dc43c2",
   "metadata": {
    "tags": []
   },
   "outputs": [
    {
     "name": "stdout",
     "output_type": "stream",
     "text": [
      "lowest_score :  131.74153\n",
      "similar_docs :  [Document(page_content='no: 48\\nCategory: 홈페이지 탈회하고 싶습니다. 어떻게 하나요?\\nInformation: 홈페이지 로그인 후 회원탈퇴를 하실 수 있습니다. 홈페이지 상단에 있는 고객센터 > 회원서비스 > 회원탈퇴 메뉴에서 회원탈퇴 진행할 수 있습니다. 혹시, 비밀번호를 분실하셨다면 ID/PW 로그인 화면 하단 비밀번호 재설정 메뉴를 통해서 비밀번호 재설정하고 로그인 후 회원탈퇴 가능합니다. 기타 문의는 신한은행고객센터 (☎ 1599-8000번)으로 문의 바랍니다.\\ntype: 홈페이지\\nSource: 신한은행', metadata={'source': '신한은행', 'row': 41}), Document(page_content='no: 17\\nCategory: 인터넷뱅킹 해지 방법 알려주세요\\nInformation: [경로] - 인터넷뱅킹 로그인 → 사용자관리 → 인터넷뱅킹관리 → 인터넷뱅킹해지 ☞ 신한은행에서 발급한 인증서 폐기여부 선택가능합니다. ☞ 쏠(모바일뱅킹) 도 사용할수 없음 - 신한 쏠(SOL) 로그인 → 전체메뉴 → 설정/인증 → 서비스 해지 ☞ 쏠(SOL)만 해지 또는 인터넷뱅킹&쏠(SOL) 모두 해지 중 선택하여 해지가능합니다. 기타 궁금하신 내용은 신한은행 고객센터 1599-8000로 문의하여 주시기 바랍니다.\\ntype: 인터넷뱅킹\\nSource: 신한은행', metadata={'source': '신한은행', 'row': 72}), Document(page_content='no: 24\\nCategory: 인터넷뱅킹 자동이체해지 방법안내\\nInformation: 인터넷뱅킹에 로그인하신후, 좌측의 메뉴항목에서 이체 > 자동이체 > 자동이체조회 변경/취소 서비스를 통해 해지하실 수 있습니다.\\ntype: 인터넷뱅킹\\nSource: 신한은행', metadata={'source': '신한은행', 'row': 65})]\n",
      "\n",
      "\n",
      "\u001B[1m> Entering new StuffDocumentsChain chain...\u001B[0m\n",
      "\n",
      "\n",
      "\u001B[1m> Entering new LLMChain chain...\u001B[0m\n",
      "Prompt after formatting:\n",
      "\u001B[32;1m\u001B[1;3mno: 48\n",
      "Category: 홈페이지 탈회하고 싶습니다. 어떻게 하나요?\n",
      "Information: 홈페이지 로그인 후 회원탈퇴를 하실 수 있습니다. 홈페이지 상단에 있는 고객센터 > 회원서비스 > 회원탈퇴 메뉴에서 회원탈퇴 진행할 수 있습니다. 혹시, 비밀번호를 분실하셨다면 ID/PW 로그인 화면 하단 비밀번호 재설정 메뉴를 통해서 비밀번호 재설정하고 로그인 후 회원탈퇴 가능합니다. 기타 문의는 신한은행고객센터 (☎ 1599-8000번)으로 문의 바랍니다.\n",
      "type: 홈페이지\n",
      "Source: 신한은행\n",
      "\n",
      "no: 17\n",
      "Category: 인터넷뱅킹 해지 방법 알려주세요\n",
      "Information: [경로] - 인터넷뱅킹 로그인 → 사용자관리 → 인터넷뱅킹관리 → 인터넷뱅킹해지 ☞ 신한은행에서 발급한 인증서 폐기여부 선택가능합니다. ☞ 쏠(모바일뱅킹) 도 사용할수 없음 - 신한 쏠(SOL) 로그인 → 전체메뉴 → 설정/인증 → 서비스 해지 ☞ 쏠(SOL)만 해지 또는 인터넷뱅킹&쏠(SOL) 모두 해지 중 선택하여 해지가능합니다. 기타 궁금하신 내용은 신한은행 고객센터 1599-8000로 문의하여 주시기 바랍니다.\n",
      "type: 인터넷뱅킹\n",
      "Source: 신한은행\n",
      "\n",
      "no: 24\n",
      "Category: 인터넷뱅킹 자동이체해지 방법안내\n",
      "Information: 인터넷뱅킹에 로그인하신후, 좌측의 메뉴항목에서 이체 > 자동이체 > 자동이체조회 변경/취소 서비스를 통해 해지하실 수 있습니다.\n",
      "type: 인터넷뱅킹\n",
      "Source: 신한은행||SPEPERATOR||홈페이지 탈퇴하는방법 알려줘 Category에 대한 Information을 찾아서 설명해주세요.\u001B[0m\n",
      "\n",
      "\u001B[1m> Finished chain.\u001B[0m\n",
      "\n",
      "\u001B[1m> Finished chain.\u001B[0m\n",
      "question: 홈페이지 탈퇴하는방법 알려줘\n",
      "==========================\n",
      "\n",
      "\n",
      "response: \n",
      " 인터넷뱅킹 자동이체 해지 방법은 다음과 같습니다:\n",
      "\n",
      "1. 인터넷뱅킹에 로그인하여 왼쪽 메뉴 항목에서 이체 > 자동이체 > 자동이체변경/취소 서비스를 클릭합니다.\n",
      "2. 자동이체를 해지할 계좌를 선택하고 해지 사유를 선택합니다.\n",
      "3. 3. 해지 사유를 확인하고 해지 버튼을 클릭합니다.\n",
      "4. 해지가 완료되면 자동이체 내역이 삭제됩니다.\n",
      "CPU times: user 8.62 ms, sys: 283 µs, total: 8.9 ms\n",
      "Wall time: 4.36 s\n"
     ]
    }
   ],
   "source": [
    "%%time\n",
    "question = \"홈페이지 탈퇴하는방법 알려줘\"\n",
    "response = get_answer(question, bank=\"신한은행\", k=3)\n",
    "\n",
    "print (f'question: {question}')\n",
    "print('==========================')\n",
    "print('\\n')\n",
    "print (f'response: \\n {response}')"
   ]
  },
  {
   "cell_type": "code",
   "execution_count": 33,
   "id": "202a307a-7118-48a3-899e-ac2b49699a21",
   "metadata": {
    "tags": []
   },
   "outputs": [
    {
     "name": "stdout",
     "output_type": "stream",
     "text": [
      "lowest_score :  131.74153\n",
      "\n",
      "\n",
      "\u001B[1m> Entering new StuffDocumentsChain chain...\u001B[0m\n",
      "\n",
      "\n",
      "\u001B[1m> Entering new LLMChain chain...\u001B[0m\n",
      "Prompt after formatting:\n",
      "\u001B[32;1m\u001B[1;3mno: 48\n",
      "Category: 홈페이지 탈회하고 싶습니다. 어떻게 하나요?\n",
      "Information: 홈페이지 로그인 후 회원탈퇴를 하실 수 있습니다. 홈페이지 상단에 있는 고객센터 > 회원서비스 > 회원탈퇴 메뉴에서 회원탈퇴 진행할 수 있습니다. 혹시, 비밀번호를 분실하셨다면 ID/PW 로그인 화면 하단 비밀번호 재설정 메뉴를 통해서 비밀번호 재설정하고 로그인 후 회원탈퇴 가능합니다. 기타 문의는 신한은행고객센터 (☎ 1599-8000번)으로 문의 바랍니다.\n",
      "type: 홈페이지\n",
      "Source: 신한은행\n",
      "\n",
      "no: 17\n",
      "Category: 인터넷뱅킹 해지 방법 알려주세요\n",
      "Information: [경로] - 인터넷뱅킹 로그인 → 사용자관리 → 인터넷뱅킹관리 → 인터넷뱅킹해지 ☞ 신한은행에서 발급한 인증서 폐기여부 선택가능합니다. ☞ 쏠(모바일뱅킹) 도 사용할수 없음 - 신한 쏠(SOL) 로그인 → 전체메뉴 → 설정/인증 → 서비스 해지 ☞ 쏠(SOL)만 해지 또는 인터넷뱅킹&쏠(SOL) 모두 해지 중 선택하여 해지가능합니다. 기타 궁금하신 내용은 신한은행 고객센터 1599-8000로 문의하여 주시기 바랍니다.\n",
      "type: 인터넷뱅킹\n",
      "Source: 신한은행\n",
      "\n",
      "no: 24\n",
      "Category: 인터넷뱅킹 자동이체해지 방법안내\n",
      "Information: 인터넷뱅킹에 로그인하신후, 좌측의 메뉴항목에서 이체 > 자동이체 > 자동이체조회 변경/취소 서비스를 통해 해지하실 수 있습니다.\n",
      "type: 인터넷뱅킹\n",
      "Source: 신한은행||SPEPERATOR||검색된 내용을 no. 별로 요약한 문장으로 알려줘.\u001B[0m\n",
      "\n",
      "\u001B[1m> Finished chain.\u001B[0m\n",
      "\n",
      "\u001B[1m> Finished chain.\u001B[0m\n",
      "question: 홈페이지 탈퇴하는방법 알려줘\n",
      "==========================\n",
      "\n",
      "\n",
      "response: \n",
      " 1. 홈페이지 로그인 후 회원탈퇴를 할 수 있습니다.\n",
      "2. 홈페이지 상단에 있는 고객센터 > 회원서비스 > 회원탈퇴 메뉴에서 회원탈퇴 진행 가능합니다.\n",
      "3. 비밀번호를 분실하셨다면 ID/PW 로그인 화면 하단 비밀번호 재설정 메뉴를 통해 비밀번호 재설정 및 로그인 후 회원탈퇴 가능합니다.\n",
      "4. 신한은행 고객센터(☎ 1599-8000)로 문의하여 인터넷뱅킹 해지 또는 쏠(SOL) 해지 중 선택하여 해지 가능합니다.\n",
      "CPU times: user 4.67 ms, sys: 4.05 ms, total: 8.72 ms\n",
      "Wall time: 5.33 s\n"
     ]
    }
   ],
   "source": [
    "%%time\n",
    "question = \"홈페이지 탈퇴하는방법 알려줘\"\n",
    "response = get_search_answer(question, bank=\"신한은행\", k=3)\n",
    "\n",
    "print (f'question: {question}')\n",
    "print('==========================')\n",
    "print('\\n')\n",
    "print (f'response: \\n {response}')"
   ]
  },
  {
   "cell_type": "code",
   "execution_count": 34,
   "id": "92a88af9",
   "metadata": {
    "tags": []
   },
   "outputs": [
    {
     "name": "stdout",
     "output_type": "stream",
     "text": [
      "lowest_score :  236.92528\n",
      "similar_docs :  []\n",
      "\n",
      "\n",
      "\u001B[1m> Entering new StuffDocumentsChain chain...\u001B[0m\n",
      "\n",
      "\n",
      "\u001B[1m> Entering new LLMChain chain...\u001B[0m\n",
      "Prompt after formatting:\n",
      "\u001B[32;1m\u001B[1;3m||SPEPERATOR||질문 답변 감사합니다. 좋은 하루 되세요.\u001B[0m\n",
      "\n",
      "\u001B[1m> Finished chain.\u001B[0m\n",
      "\n",
      "\u001B[1m> Finished chain.\u001B[0m\n",
      "question: 질문 답변 감사합니다. 좋은 하루 되세요.\n",
      "==========================\n",
      "\n",
      "\n",
      "response: \n",
      " 천만에요! 도움을 드릴 수 있어서 기쁩니다. 다른 질문이 있으시면 언제든지 문의해 주세요.\n",
      "CPU times: user 9.27 ms, sys: 78 µs, total: 9.35 ms\n",
      "Wall time: 1.31 s\n"
     ]
    }
   ],
   "source": [
    "%%time\n",
    "question = \"질문 답변 감사합니다. 좋은 하루 되세요.\"\n",
    "response = get_answer(question, bank=\"신한은행\", k=3)\n",
    "\n",
    "print (f'question: {question}')\n",
    "print('==========================')\n",
    "print('\\n')\n",
    "print (f'response: \\n {response}')"
   ]
  },
  {
   "cell_type": "code",
   "execution_count": null,
   "id": "a5ea8c50",
   "metadata": {},
   "outputs": [],
   "source": []
  },
  {
   "cell_type": "code",
   "execution_count": null,
   "id": "9e38154c",
   "metadata": {},
   "outputs": [],
   "source": []
  }
 ],
 "metadata": {
  "availableInstances": [
   {
    "_defaultOrder": 0,
    "_isFastLaunch": true,
    "category": "General purpose",
    "gpuNum": 0,
    "hideHardwareSpecs": false,
    "memoryGiB": 4,
    "name": "ml.t3.medium",
    "vcpuNum": 2
   },
   {
    "_defaultOrder": 1,
    "_isFastLaunch": false,
    "category": "General purpose",
    "gpuNum": 0,
    "hideHardwareSpecs": false,
    "memoryGiB": 8,
    "name": "ml.t3.large",
    "vcpuNum": 2
   },
   {
    "_defaultOrder": 2,
    "_isFastLaunch": false,
    "category": "General purpose",
    "gpuNum": 0,
    "hideHardwareSpecs": false,
    "memoryGiB": 16,
    "name": "ml.t3.xlarge",
    "vcpuNum": 4
   },
   {
    "_defaultOrder": 3,
    "_isFastLaunch": false,
    "category": "General purpose",
    "gpuNum": 0,
    "hideHardwareSpecs": false,
    "memoryGiB": 32,
    "name": "ml.t3.2xlarge",
    "vcpuNum": 8
   },
   {
    "_defaultOrder": 4,
    "_isFastLaunch": true,
    "category": "General purpose",
    "gpuNum": 0,
    "hideHardwareSpecs": false,
    "memoryGiB": 8,
    "name": "ml.m5.large",
    "vcpuNum": 2
   },
   {
    "_defaultOrder": 5,
    "_isFastLaunch": false,
    "category": "General purpose",
    "gpuNum": 0,
    "hideHardwareSpecs": false,
    "memoryGiB": 16,
    "name": "ml.m5.xlarge",
    "vcpuNum": 4
   },
   {
    "_defaultOrder": 6,
    "_isFastLaunch": false,
    "category": "General purpose",
    "gpuNum": 0,
    "hideHardwareSpecs": false,
    "memoryGiB": 32,
    "name": "ml.m5.2xlarge",
    "vcpuNum": 8
   },
   {
    "_defaultOrder": 7,
    "_isFastLaunch": false,
    "category": "General purpose",
    "gpuNum": 0,
    "hideHardwareSpecs": false,
    "memoryGiB": 64,
    "name": "ml.m5.4xlarge",
    "vcpuNum": 16
   },
   {
    "_defaultOrder": 8,
    "_isFastLaunch": false,
    "category": "General purpose",
    "gpuNum": 0,
    "hideHardwareSpecs": false,
    "memoryGiB": 128,
    "name": "ml.m5.8xlarge",
    "vcpuNum": 32
   },
   {
    "_defaultOrder": 9,
    "_isFastLaunch": false,
    "category": "General purpose",
    "gpuNum": 0,
    "hideHardwareSpecs": false,
    "memoryGiB": 192,
    "name": "ml.m5.12xlarge",
    "vcpuNum": 48
   },
   {
    "_defaultOrder": 10,
    "_isFastLaunch": false,
    "category": "General purpose",
    "gpuNum": 0,
    "hideHardwareSpecs": false,
    "memoryGiB": 256,
    "name": "ml.m5.16xlarge",
    "vcpuNum": 64
   },
   {
    "_defaultOrder": 11,
    "_isFastLaunch": false,
    "category": "General purpose",
    "gpuNum": 0,
    "hideHardwareSpecs": false,
    "memoryGiB": 384,
    "name": "ml.m5.24xlarge",
    "vcpuNum": 96
   },
   {
    "_defaultOrder": 12,
    "_isFastLaunch": false,
    "category": "General purpose",
    "gpuNum": 0,
    "hideHardwareSpecs": false,
    "memoryGiB": 8,
    "name": "ml.m5d.large",
    "vcpuNum": 2
   },
   {
    "_defaultOrder": 13,
    "_isFastLaunch": false,
    "category": "General purpose",
    "gpuNum": 0,
    "hideHardwareSpecs": false,
    "memoryGiB": 16,
    "name": "ml.m5d.xlarge",
    "vcpuNum": 4
   },
   {
    "_defaultOrder": 14,
    "_isFastLaunch": false,
    "category": "General purpose",
    "gpuNum": 0,
    "hideHardwareSpecs": false,
    "memoryGiB": 32,
    "name": "ml.m5d.2xlarge",
    "vcpuNum": 8
   },
   {
    "_defaultOrder": 15,
    "_isFastLaunch": false,
    "category": "General purpose",
    "gpuNum": 0,
    "hideHardwareSpecs": false,
    "memoryGiB": 64,
    "name": "ml.m5d.4xlarge",
    "vcpuNum": 16
   },
   {
    "_defaultOrder": 16,
    "_isFastLaunch": false,
    "category": "General purpose",
    "gpuNum": 0,
    "hideHardwareSpecs": false,
    "memoryGiB": 128,
    "name": "ml.m5d.8xlarge",
    "vcpuNum": 32
   },
   {
    "_defaultOrder": 17,
    "_isFastLaunch": false,
    "category": "General purpose",
    "gpuNum": 0,
    "hideHardwareSpecs": false,
    "memoryGiB": 192,
    "name": "ml.m5d.12xlarge",
    "vcpuNum": 48
   },
   {
    "_defaultOrder": 18,
    "_isFastLaunch": false,
    "category": "General purpose",
    "gpuNum": 0,
    "hideHardwareSpecs": false,
    "memoryGiB": 256,
    "name": "ml.m5d.16xlarge",
    "vcpuNum": 64
   },
   {
    "_defaultOrder": 19,
    "_isFastLaunch": false,
    "category": "General purpose",
    "gpuNum": 0,
    "hideHardwareSpecs": false,
    "memoryGiB": 384,
    "name": "ml.m5d.24xlarge",
    "vcpuNum": 96
   },
   {
    "_defaultOrder": 20,
    "_isFastLaunch": false,
    "category": "General purpose",
    "gpuNum": 0,
    "hideHardwareSpecs": true,
    "memoryGiB": 0,
    "name": "ml.geospatial.interactive",
    "supportedImageNames": [
     "sagemaker-geospatial-v1-0"
    ],
    "vcpuNum": 0
   },
   {
    "_defaultOrder": 21,
    "_isFastLaunch": true,
    "category": "Compute optimized",
    "gpuNum": 0,
    "hideHardwareSpecs": false,
    "memoryGiB": 4,
    "name": "ml.c5.large",
    "vcpuNum": 2
   },
   {
    "_defaultOrder": 22,
    "_isFastLaunch": false,
    "category": "Compute optimized",
    "gpuNum": 0,
    "hideHardwareSpecs": false,
    "memoryGiB": 8,
    "name": "ml.c5.xlarge",
    "vcpuNum": 4
   },
   {
    "_defaultOrder": 23,
    "_isFastLaunch": false,
    "category": "Compute optimized",
    "gpuNum": 0,
    "hideHardwareSpecs": false,
    "memoryGiB": 16,
    "name": "ml.c5.2xlarge",
    "vcpuNum": 8
   },
   {
    "_defaultOrder": 24,
    "_isFastLaunch": false,
    "category": "Compute optimized",
    "gpuNum": 0,
    "hideHardwareSpecs": false,
    "memoryGiB": 32,
    "name": "ml.c5.4xlarge",
    "vcpuNum": 16
   },
   {
    "_defaultOrder": 25,
    "_isFastLaunch": false,
    "category": "Compute optimized",
    "gpuNum": 0,
    "hideHardwareSpecs": false,
    "memoryGiB": 72,
    "name": "ml.c5.9xlarge",
    "vcpuNum": 36
   },
   {
    "_defaultOrder": 26,
    "_isFastLaunch": false,
    "category": "Compute optimized",
    "gpuNum": 0,
    "hideHardwareSpecs": false,
    "memoryGiB": 96,
    "name": "ml.c5.12xlarge",
    "vcpuNum": 48
   },
   {
    "_defaultOrder": 27,
    "_isFastLaunch": false,
    "category": "Compute optimized",
    "gpuNum": 0,
    "hideHardwareSpecs": false,
    "memoryGiB": 144,
    "name": "ml.c5.18xlarge",
    "vcpuNum": 72
   },
   {
    "_defaultOrder": 28,
    "_isFastLaunch": false,
    "category": "Compute optimized",
    "gpuNum": 0,
    "hideHardwareSpecs": false,
    "memoryGiB": 192,
    "name": "ml.c5.24xlarge",
    "vcpuNum": 96
   },
   {
    "_defaultOrder": 29,
    "_isFastLaunch": true,
    "category": "Accelerated computing",
    "gpuNum": 1,
    "hideHardwareSpecs": false,
    "memoryGiB": 16,
    "name": "ml.g4dn.xlarge",
    "vcpuNum": 4
   },
   {
    "_defaultOrder": 30,
    "_isFastLaunch": false,
    "category": "Accelerated computing",
    "gpuNum": 1,
    "hideHardwareSpecs": false,
    "memoryGiB": 32,
    "name": "ml.g4dn.2xlarge",
    "vcpuNum": 8
   },
   {
    "_defaultOrder": 31,
    "_isFastLaunch": false,
    "category": "Accelerated computing",
    "gpuNum": 1,
    "hideHardwareSpecs": false,
    "memoryGiB": 64,
    "name": "ml.g4dn.4xlarge",
    "vcpuNum": 16
   },
   {
    "_defaultOrder": 32,
    "_isFastLaunch": false,
    "category": "Accelerated computing",
    "gpuNum": 1,
    "hideHardwareSpecs": false,
    "memoryGiB": 128,
    "name": "ml.g4dn.8xlarge",
    "vcpuNum": 32
   },
   {
    "_defaultOrder": 33,
    "_isFastLaunch": false,
    "category": "Accelerated computing",
    "gpuNum": 4,
    "hideHardwareSpecs": false,
    "memoryGiB": 192,
    "name": "ml.g4dn.12xlarge",
    "vcpuNum": 48
   },
   {
    "_defaultOrder": 34,
    "_isFastLaunch": false,
    "category": "Accelerated computing",
    "gpuNum": 1,
    "hideHardwareSpecs": false,
    "memoryGiB": 256,
    "name": "ml.g4dn.16xlarge",
    "vcpuNum": 64
   },
   {
    "_defaultOrder": 35,
    "_isFastLaunch": false,
    "category": "Accelerated computing",
    "gpuNum": 1,
    "hideHardwareSpecs": false,
    "memoryGiB": 61,
    "name": "ml.p3.2xlarge",
    "vcpuNum": 8
   },
   {
    "_defaultOrder": 36,
    "_isFastLaunch": false,
    "category": "Accelerated computing",
    "gpuNum": 4,
    "hideHardwareSpecs": false,
    "memoryGiB": 244,
    "name": "ml.p3.8xlarge",
    "vcpuNum": 32
   },
   {
    "_defaultOrder": 37,
    "_isFastLaunch": false,
    "category": "Accelerated computing",
    "gpuNum": 8,
    "hideHardwareSpecs": false,
    "memoryGiB": 488,
    "name": "ml.p3.16xlarge",
    "vcpuNum": 64
   },
   {
    "_defaultOrder": 38,
    "_isFastLaunch": false,
    "category": "Accelerated computing",
    "gpuNum": 8,
    "hideHardwareSpecs": false,
    "memoryGiB": 768,
    "name": "ml.p3dn.24xlarge",
    "vcpuNum": 96
   },
   {
    "_defaultOrder": 39,
    "_isFastLaunch": false,
    "category": "Memory Optimized",
    "gpuNum": 0,
    "hideHardwareSpecs": false,
    "memoryGiB": 16,
    "name": "ml.r5.large",
    "vcpuNum": 2
   },
   {
    "_defaultOrder": 40,
    "_isFastLaunch": false,
    "category": "Memory Optimized",
    "gpuNum": 0,
    "hideHardwareSpecs": false,
    "memoryGiB": 32,
    "name": "ml.r5.xlarge",
    "vcpuNum": 4
   },
   {
    "_defaultOrder": 41,
    "_isFastLaunch": false,
    "category": "Memory Optimized",
    "gpuNum": 0,
    "hideHardwareSpecs": false,
    "memoryGiB": 64,
    "name": "ml.r5.2xlarge",
    "vcpuNum": 8
   },
   {
    "_defaultOrder": 42,
    "_isFastLaunch": false,
    "category": "Memory Optimized",
    "gpuNum": 0,
    "hideHardwareSpecs": false,
    "memoryGiB": 128,
    "name": "ml.r5.4xlarge",
    "vcpuNum": 16
   },
   {
    "_defaultOrder": 43,
    "_isFastLaunch": false,
    "category": "Memory Optimized",
    "gpuNum": 0,
    "hideHardwareSpecs": false,
    "memoryGiB": 256,
    "name": "ml.r5.8xlarge",
    "vcpuNum": 32
   },
   {
    "_defaultOrder": 44,
    "_isFastLaunch": false,
    "category": "Memory Optimized",
    "gpuNum": 0,
    "hideHardwareSpecs": false,
    "memoryGiB": 384,
    "name": "ml.r5.12xlarge",
    "vcpuNum": 48
   },
   {
    "_defaultOrder": 45,
    "_isFastLaunch": false,
    "category": "Memory Optimized",
    "gpuNum": 0,
    "hideHardwareSpecs": false,
    "memoryGiB": 512,
    "name": "ml.r5.16xlarge",
    "vcpuNum": 64
   },
   {
    "_defaultOrder": 46,
    "_isFastLaunch": false,
    "category": "Memory Optimized",
    "gpuNum": 0,
    "hideHardwareSpecs": false,
    "memoryGiB": 768,
    "name": "ml.r5.24xlarge",
    "vcpuNum": 96
   },
   {
    "_defaultOrder": 47,
    "_isFastLaunch": false,
    "category": "Accelerated computing",
    "gpuNum": 1,
    "hideHardwareSpecs": false,
    "memoryGiB": 16,
    "name": "ml.g5.xlarge",
    "vcpuNum": 4
   },
   {
    "_defaultOrder": 48,
    "_isFastLaunch": false,
    "category": "Accelerated computing",
    "gpuNum": 1,
    "hideHardwareSpecs": false,
    "memoryGiB": 32,
    "name": "ml.g5.2xlarge",
    "vcpuNum": 8
   },
   {
    "_defaultOrder": 49,
    "_isFastLaunch": false,
    "category": "Accelerated computing",
    "gpuNum": 1,
    "hideHardwareSpecs": false,
    "memoryGiB": 64,
    "name": "ml.g5.4xlarge",
    "vcpuNum": 16
   },
   {
    "_defaultOrder": 50,
    "_isFastLaunch": false,
    "category": "Accelerated computing",
    "gpuNum": 1,
    "hideHardwareSpecs": false,
    "memoryGiB": 128,
    "name": "ml.g5.8xlarge",
    "vcpuNum": 32
   },
   {
    "_defaultOrder": 51,
    "_isFastLaunch": false,
    "category": "Accelerated computing",
    "gpuNum": 1,
    "hideHardwareSpecs": false,
    "memoryGiB": 256,
    "name": "ml.g5.16xlarge",
    "vcpuNum": 64
   },
   {
    "_defaultOrder": 52,
    "_isFastLaunch": false,
    "category": "Accelerated computing",
    "gpuNum": 4,
    "hideHardwareSpecs": false,
    "memoryGiB": 192,
    "name": "ml.g5.12xlarge",
    "vcpuNum": 48
   },
   {
    "_defaultOrder": 53,
    "_isFastLaunch": false,
    "category": "Accelerated computing",
    "gpuNum": 4,
    "hideHardwareSpecs": false,
    "memoryGiB": 384,
    "name": "ml.g5.24xlarge",
    "vcpuNum": 96
   },
   {
    "_defaultOrder": 54,
    "_isFastLaunch": false,
    "category": "Accelerated computing",
    "gpuNum": 8,
    "hideHardwareSpecs": false,
    "memoryGiB": 768,
    "name": "ml.g5.48xlarge",
    "vcpuNum": 192
   },
   {
    "_defaultOrder": 55,
    "_isFastLaunch": false,
    "category": "Accelerated computing",
    "gpuNum": 8,
    "hideHardwareSpecs": false,
    "memoryGiB": 1152,
    "name": "ml.p4d.24xlarge",
    "vcpuNum": 96
   },
   {
    "_defaultOrder": 56,
    "_isFastLaunch": false,
    "category": "Accelerated computing",
    "gpuNum": 8,
    "hideHardwareSpecs": false,
    "memoryGiB": 1152,
    "name": "ml.p4de.24xlarge",
    "vcpuNum": 96
   }
  ],
  "instance_type": "ml.m5.large",
  "kernelspec": {
   "display_name": "conda_pytorch_p310",
   "language": "python",
   "name": "conda_pytorch_p310"
  },
  "language_info": {
   "codemirror_mode": {
    "name": "ipython",
    "version": 3
   },
   "file_extension": ".py",
   "mimetype": "text/x-python",
   "name": "python",
   "nbconvert_exporter": "python",
   "pygments_lexer": "ipython3",
   "version": "3.10.10"
  }
 },
 "nbformat": 4,
 "nbformat_minor": 5
}
