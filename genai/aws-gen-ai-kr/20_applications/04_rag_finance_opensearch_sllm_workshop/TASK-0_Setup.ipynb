{
 "cells": [
  {
   "cell_type": "code",
   "execution_count": null,
   "id": "26cfe671-8862-413b-80b1-38a527c0f323",
   "metadata": {
    "tags": []
   },
   "outputs": [],
   "source": [
    "!pip install -U pip"
   ]
  },
  {
   "cell_type": "code",
   "execution_count": null,
   "id": "5786fbf3-8783-4e70-884a-f60bf28147df",
   "metadata": {
    "tags": []
   },
   "outputs": [],
   "source": [
    "!pip install -U sagemaker transformers boto3 huggingface_hub sagemaker langchain deepspeed accelerate"
   ]
  },
  {
   "cell_type": "code",
   "execution_count": null,
   "id": "e35446b4-48bc-4bda-b0e9-7623d4931a46",
   "metadata": {
    "tags": []
   },
   "outputs": [],
   "source": [
    "# Version fixed management during code stabilization period of langchain\n",
    "!pip install SQLAlchemy==2.0.1"
   ]
  },
  {
   "cell_type": "code",
   "execution_count": null,
   "id": "ddb6ce46-fa57-45bb-a032-60c9cb474e82",
   "metadata": {
    "tags": []
   },
   "outputs": [],
   "source": [
    "!pip install -U faiss-cpu opensearch-py"
   ]
  }
 ],
 "metadata": {
  "kernelspec": {
   "display_name": "conda_pytorch_p310",
   "language": "python",
   "name": "conda_pytorch_p310"
  },
  "language_info": {
   "codemirror_mode": {
    "name": "ipython",
    "version": 3
   },
   "file_extension": ".py",
   "mimetype": "text/x-python",
   "name": "python",
   "nbconvert_exporter": "python",
   "pygments_lexer": "ipython3",
   "version": "3.10.10"
  }
 },
 "nbformat": 4,
 "nbformat_minor": 5
}
