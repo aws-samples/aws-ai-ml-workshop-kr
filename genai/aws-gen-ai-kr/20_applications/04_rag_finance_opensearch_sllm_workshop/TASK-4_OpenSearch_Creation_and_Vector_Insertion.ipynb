{
 "cells": [
  {
   "cell_type": "markdown",
   "id": "7ed68d00-7a6e-4e82-b5e8-2e7cf442d1d4",
   "metadata": {},
   "source": [
    "## OpenSearch - Vector Store\n",
    "OpenSearch는 대규모 데이터셋에 대한 유사도 검색을 위한 강력한 엔진입니다. Amazon OpenSearch Service를 통해 쉽게 클라우드 환경에서도 이용할 수 있습니다. 이와 함께 Vector Store를 사용하면 고차원 벡터 데이터를 효율적으로 저장하고 빠르게 검색할 수 있어, 복잡한 자연어 처리 작업을 더욱 간편하게 수행할 수 있습니다.\n",
    "\n",
    "* Container: `Data Science 3.0` (studio, python 3.10), `conda_python3` (notebook)"
   ]
  },
  {
   "cell_type": "code",
   "execution_count": 3,
   "id": "c06f2132-8343-441f-a0b9-6996cd3b14a7",
   "metadata": {
    "tags": []
   },
   "outputs": [],
   "source": [
    "%store -r endpoint_name_emb endpoint_name_text\n",
    "try:\n",
    "    endpoint_name_emb\n",
    "    endpoint_name_text\n",
    "except NameError:\n",
    "    print(\"++++++++++++++++++++++++++++++++++++++++++++++++++++++++\")\n",
    "    print(\"[ERROR] TASK-1, TASK-2 노트북을 다시 실행해 주세요.\")\n",
    "    print(\"++++++++++++++++++++++++++++++++++++++++++++++++++++++++\")"
   ]
  },
  {
   "cell_type": "markdown",
   "id": "629008bb-4b95-4346-9c6c-27c9af0cd386",
   "metadata": {},
   "source": [
    "# 1. SageMaker Endpoint Wrapper"
   ]
  },
  {
   "cell_type": "markdown",
   "id": "244e467e-4814-45c0-9d09-a16aea0428da",
   "metadata": {},
   "source": [
    "### 1.1. SageMaker LLM Endpoint Wrapper"
   ]
  },
  {
   "cell_type": "code",
   "execution_count": 4,
   "id": "00402a44-1260-42c6-ad88-f8497db607de",
   "metadata": {
    "tags": []
   },
   "outputs": [
    {
     "name": "stdout",
     "output_type": "stream",
     "text": [
      "The autoreload extension is already loaded. To reload it, use:\n",
      "  %reload_ext autoreload\n"
     ]
    }
   ],
   "source": [
    "import sys\n",
    "%load_ext autoreload\n",
    "%autoreload 2\n",
    "sys.path.append('./utils') # src 폴더 경로 설정\n",
    "import json\n",
    "import time\n",
    "import boto3\n",
    "import botocore\n",
    "import numpy as np\n",
    "from inference_utils import Prompter\n",
    "from typing import Any, Dict, List, Optional\n",
    "from langchain.embeddings import SagemakerEndpointEmbeddings\n",
    "from langchain.llms.sagemaker_endpoint import LLMContentHandler, SagemakerEndpoint\n",
    "from langchain.embeddings.sagemaker_endpoint import EmbeddingsContentHandler"
   ]
  },
  {
   "cell_type": "code",
   "execution_count": 5,
   "id": "705b2221-5907-4a71-834f-71d40722d3fe",
   "metadata": {
    "tags": []
   },
   "outputs": [],
   "source": [
    "prompter = Prompter(\"kullm\")\n",
    "params = {\n",
    "      'do_sample': False,\n",
    "      'max_new_tokens': 128,\n",
    "      'temperature': 1.0,\n",
    "      'top_k': 0,\n",
    "      'top_p': 0.9,\n",
    "      'return_full_text': False,\n",
    "      'repetition_penalty': 1.1,\n",
    "      'presence_penalty': None,\n",
    "      'eos_token_id': 2\n",
    "}\n",
    "\n",
    "class KullmContentHandler(LLMContentHandler):\n",
    "    content_type = \"application/json\"\n",
    "    accepts = \"application/json\"\n",
    "\n",
    "    def transform_input(self, prompt: str, model_kwargs={}) -> bytes:\n",
    "        '''\n",
    "        입력 데이터 전처리 후에 리턴\n",
    "        '''\n",
    "        context, question = prompt.split(\"||SPEPERATOR||\") \n",
    "        prompt = prompter.generate_prompt(question, context)\n",
    "\n",
    "        print (\"prompt\", prompt)\n",
    "        payload = {\n",
    "            'inputs': [prompt],\n",
    "            'parameters': model_kwargs\n",
    "        }\n",
    "                           \n",
    "        input_str = json.dumps(payload)\n",
    "        \n",
    "        return input_str.encode('utf-8')\n",
    "    \n",
    "\n",
    "    def transform_output(self, output: bytes) -> str:\n",
    "        \n",
    "        response_json = json.loads(output.read().decode(\"utf-8\"))              \n",
    "        generated_text = response_json[0][0][\"generated_text\"]\n",
    "        \n",
    "        return generated_text    "
   ]
  },
  {
   "cell_type": "code",
   "execution_count": 6,
   "id": "3216198c-59e9-4903-9bcd-92a73abe7656",
   "metadata": {
    "tags": []
   },
   "outputs": [],
   "source": [
    "aws_region = boto3.Session().region_name\n",
    "LLMTextContentHandler = KullmContentHandler()\n",
    "seperator = \"||SPEPERATOR||\"\n",
    "\n",
    "llm_text = SagemakerEndpoint(\n",
    "    endpoint_name=endpoint_name_text,\n",
    "    region_name=aws_region,\n",
    "    model_kwargs=params,    \n",
    "    content_handler=LLMTextContentHandler,\n",
    ")"
   ]
  },
  {
   "cell_type": "markdown",
   "id": "dc06c71f-1e29-4d08-89da-2d442261cb56",
   "metadata": {},
   "source": [
    "### 1.2. SageMaker Embedding Model Endpoint Wrapper"
   ]
  },
  {
   "cell_type": "code",
   "execution_count": 7,
   "id": "8f4f875b-33b9-41b7-b6c0-b4da7de9745a",
   "metadata": {
    "tags": []
   },
   "outputs": [],
   "source": [
    "class SagemakerEndpointEmbeddingsJumpStart(SagemakerEndpointEmbeddings):\n",
    "    def embed_documents(self, texts: List[str], chunk_size: int=1) -> List[List[float]]:\n",
    "        \"\"\"Compute doc embeddings using a SageMaker Inference Endpoint.\n",
    "\n",
    "        Args:\n",
    "            texts: The list of texts to embed.\n",
    "            chunk_size: The chunk size defines how many input texts will\n",
    "                be grouped together as request. If None, will use the\n",
    "                chunk size specified by the class.\n",
    "\n",
    "        Returns:\n",
    "            List of embeddings, one for each text.\n",
    "        \"\"\"\n",
    "        results = []\n",
    "        _chunk_size = len(texts) if chunk_size > len(texts) else chunk_size\n",
    "        \n",
    "        print(\"text size: \", len(texts))\n",
    "        print(\"_chunk_size: \", _chunk_size)\n",
    "\n",
    "        for i in range(0, len(texts), _chunk_size):\n",
    "            \n",
    "            #print (i, texts[i : i + _chunk_size])\n",
    "            response = self._embedding_func(texts[i : i + _chunk_size])\n",
    "            #print (i, response, len(response[0].shape))\n",
    "            \n",
    "            results.extend(response)\n",
    "        return results"
   ]
  },
  {
   "cell_type": "code",
   "execution_count": 8,
   "id": "4d2f2819-ac24-4cff-9dd1-feae526a794c",
   "metadata": {
    "tags": []
   },
   "outputs": [],
   "source": [
    "class KoSimCSERobertaContentHandler(EmbeddingsContentHandler):\n",
    "    \n",
    "    content_type = \"application/json\"\n",
    "    accepts = \"application/json\"\n",
    "\n",
    "    def transform_input(self, prompt: str, model_kwargs={}) -> bytes:\n",
    "        \n",
    "        input_str = json.dumps({\"inputs\": prompt, **model_kwargs})\n",
    "        \n",
    "        return input_str.encode(\"utf-8\")\n",
    "\n",
    "    def transform_output(self, output: bytes) -> str:\n",
    "        \n",
    "        response_json = json.loads(output.read().decode(\"utf-8\"))\n",
    "        ndim = np.array(response_json).ndim    \n",
    "        \n",
    "        if ndim == 4:\n",
    "            # Original shape (1, 1, n, 768)\n",
    "            emb = response_json[0][0][0]\n",
    "            emb = np.expand_dims(emb, axis=0).tolist()\n",
    "        elif ndim == 2:\n",
    "            # Original shape (n, 1)\n",
    "            emb = []\n",
    "            for ele in response_json:\n",
    "                e = ele[0][0]\n",
    "                emb.append(e)\n",
    "        else:\n",
    "            print(f\"Other # of dimension: {ndim}\")\n",
    "            emb = None\n",
    "        return emb"
   ]
  },
  {
   "cell_type": "code",
   "execution_count": null,
   "id": "c29fd00e-0980-4e53-b12f-f19c48957bfd",
   "metadata": {
    "tags": []
   },
   "outputs": [],
   "source": [
    "LLMEmbHandler = KoSimCSERobertaContentHandler()"
   ]
  },
  {
   "cell_type": "code",
   "execution_count": 9,
   "id": "1b8e3ad6-3f8f-4f5e-99b9-c699f735ee74",
   "metadata": {
    "tags": []
   },
   "outputs": [],
   "source": [
    "LLMEmbHandler = KoSimCSERobertaContentHandler()\n",
    "\n",
    "llm_emb = SagemakerEndpointEmbeddingsJumpStart(\n",
    "    endpoint_name=endpoint_name_emb,\n",
    "    region_name=aws_region,\n",
    "    content_handler=LLMEmbHandler,\n",
    ")"
   ]
  },
  {
   "cell_type": "markdown",
   "id": "d3b24e61-722c-4a0b-aa8d-15c80ede6f39",
   "metadata": {},
   "source": [
    "# 2 Create OpenSearch domain\n",
    "* Follow below\n",
    "    - https://docs.aws.amazon.com/ko_kr/opensearch-service/latest/developerguide/gsgcreate-domain.html\n",
    "* Add policy (using SDK)\n",
    "    - AmazonOpenSearchServiceFullAccess"
   ]
  },
  {
   "cell_type": "markdown",
   "id": "b273f1c7-7d85-4846-b5c7-5873ada46974",
   "metadata": {
    "tags": []
   },
   "source": [
    "**step 1. opensearch console로 이동 후 Navigator에서 Domain 이동 후 Create domain 선택** <BR>\n",
    "\n",
    "<div align=\"center\">\n",
    "    <img src=\"./images/open1.png\" alt=\"Step 1\">\n",
    "</div>\n",
    "    \n",
    "**step 2. domain config 셋팅** <BR>\n",
    "    \n",
    "* Domain name : \n",
    "* Domain creation Method: 사용자 지정생성 (손쉬운생성 선택시 '최대 절수' 오류 발생하는 경우)\n",
    "<div align=\"center\">\n",
    "    <img src=\"./images/open2.png\" alt=\"Step 2\">\n",
    "</div>\n",
    "    \n",
    "\n",
    "* Engine options: OpenSearch_2.7\n",
    "* Network: Public access\n",
    "<div align=\"center\">\n",
    "    <img src=\"./images/open3.png\" alt=\"Step 4\">\n",
    "</div>\n",
    "* Master user: Create master user\n",
    "* Master username, Master password and Confirm master password 입력\n",
    "<div align=\"center\">\n",
    "    <img src=\"./images/open4.png\" alt=\"Step 4\">\n",
    "</div>\n",
    "* 고급클러스터 > 최대절수 선택(손쉬운생성 오류경우)\n",
    "<div align=\"center\">\n",
    "    <img src=\"./images/open5.png\" alt=\"Step 5\">\n",
    "</div>    \n",
    "* 오른쪽 아래 주황색 create 선택\n",
    "\n"
   ]
  },
  {
   "cell_type": "markdown",
   "id": "c4c1194d-fb87-41d3-ad1a-2d8e44c22dee",
   "metadata": {
    "tags": []
   },
   "source": [
    "**step 3. access설정** <BR>\n",
    "\n",
    "* 도메인  보안구성 > 편집 클릭\n",
    "\n",
    "<div align=\"center\">\n",
    "    <img src=\"./images/open6.png\" alt=\"Step 6\">\n",
    "</div>  \n",
    "\n",
    "* 도메인 수준 엑세스 정책 구성 > Effect : Allow 로 수정 \n",
    "\n",
    "<div align=\"center\">\n",
    "    <img src=\"./images/open7.png\" alt=\"Step 7\">\n",
    "</div>  "
   ]
  },
  {
   "cell_type": "markdown",
   "id": "99a6199a-083b-4342-bb42-aefe070803d2",
   "metadata": {
    "tags": []
   },
   "source": [
    "**step 4.Domain enapoint 복사** <BR>\n",
    "\n",
    "<div align=\"center\">\n",
    "    <img src=\"./images/open8.png\" alt=\"Step 8\">\n",
    "</div>  "
   ]
  },
  {
   "cell_type": "markdown",
   "id": "4f1600a7-deb8-45e4-879c-0c5b30b12514",
   "metadata": {},
   "source": [
    "* create_domain: https://boto3.amazonaws.com/v1/documentation/api/1.18.51/reference/services/opensearch.html#OpenSearchService.Client.create_domain\n",
    "*     \n",
    "**It takes about 20 mins**"
   ]
  },
  {
   "cell_type": "code",
   "execution_count": 16,
   "id": "6faff93e-c024-4667-aba9-28d2a1101b6a",
   "metadata": {
    "tags": []
   },
   "outputs": [],
   "source": [
    "opensearch_domain_endpoint = \"https://search-test-wzntp6rqfgbn4s4zr2zvt5nhdq.us-east-1.es.amazonaws.com\""
   ]
  },
  {
   "cell_type": "code",
   "execution_count": 26,
   "id": "c36d5703-f5ad-4bc8-b16b-8bdb4e6baf2b",
   "metadata": {
    "tags": []
   },
   "outputs": [],
   "source": [
    "http_auth = (\"raguser\", \"MarsEarth1!\") # Master username, Master password"
   ]
  },
  {
   "cell_type": "markdown",
   "id": "1e9672ec-62eb-41fb-a8cd-eba631429798",
   "metadata": {},
   "source": [
    "### 2.2. load context files and build indexer\n",
    "We are now ready to create scripts which will read data from the local directory, use langchain to create embeddings and then upload the embeddings into OpenSearch."
   ]
  },
  {
   "cell_type": "code",
   "execution_count": 18,
   "id": "641287da-35e6-4681-99d4-b26c5bff47dc",
   "metadata": {
    "tags": []
   },
   "outputs": [],
   "source": [
    "import json\n",
    "import boto3\n",
    "from langchain.document_loaders.csv_loader import CSVLoader"
   ]
  },
  {
   "cell_type": "code",
   "execution_count": 19,
   "id": "940201e0-5bab-499e-9028-c71322dff481",
   "metadata": {
    "tags": []
   },
   "outputs": [],
   "source": [
    "loader = CSVLoader(\n",
    "    file_path=\"./dataset/fsi_smart_faq_ko.csv\",\n",
    "    source_column=\"Source\",\n",
    "    encoding=\"utf-8\"\n",
    ")\n",
    "context_documents = loader.load()"
   ]
  },
  {
   "cell_type": "code",
   "execution_count": 20,
   "id": "19ad0b20-997c-4b70-a4d8-dc94dbbfcb5c",
   "metadata": {
    "tags": []
   },
   "outputs": [
    {
     "data": {
      "text/plain": [
       "(89,\n",
       " Document(page_content='no: 84\\nCategory: 기존 공동인증서를 보유한 상태에서 금융인증서 발급이 가능한가요?\\nInformation: 공동인증서와 금융인증서는 별개의 인증서로 두 가지 인증서를 모두 사용할 수 있습니다.\\ntype: 금융인증서\\nSource: 신한은행', metadata={'source': '신한은행', 'row': 5}))"
      ]
     },
     "execution_count": 20,
     "metadata": {},
     "output_type": "execute_result"
    }
   ],
   "source": [
    "len(context_documents), context_documents[5]"
   ]
  },
  {
   "cell_type": "markdown",
   "id": "5724a575-c665-494c-bd31-673209d4b58d",
   "metadata": {
    "tags": []
   },
   "source": [
    "## 2.3. OpenSearch에 Data 입력\n",
    "\n",
    "이 스크립트는 모든 것을 하나로 모으고 문서를 청크로 나눈 다음 langchain 패키지를 사용하여 임베딩을 생성한 다음(`SagemakerEndpointEmbeddingsJumpStart`를 통해) `OpenSearchVectorSearch`를 사용하여 OpenSearch에 데이터를 수집합니다.\n",
    "\n",
    "단순하게 유지하기 위해 청크 크기는 800개 토큰의 고정 길이로 설정되고 200개 토큰이 중복됩니다. langchain `OpenSearchVectorSearch`는 `opensearch-py` 패키지에 대한 래퍼를 제공합니다. 단일 PUT 요청에서 여러 레코드를 수집하기 위해 `/_bulk` API 엔드포인트를 사용합니다."
   ]
  },
  {
   "cell_type": "code",
   "execution_count": 21,
   "id": "dab7d1c6-7b4a-42ef-9c09-581bb63aef07",
   "metadata": {
    "tags": []
   },
   "outputs": [
    {
     "name": "stdout",
     "output_type": "stream",
     "text": [
      "sagemaker.config INFO - Not applying SDK defaults from location: /etc/xdg/sagemaker/config.yaml\n",
      "sagemaker.config INFO - Not applying SDK defaults from location: /home/ec2-user/.config/sagemaker/config.yaml\n"
     ]
    }
   ],
   "source": [
    "import time\n",
    "import pprint\n",
    "import logging\n",
    "import sagemaker\n",
    "from langchain.vectorstores import OpenSearchVectorSearch\n",
    "from langchain.text_splitter import CharacterTextSplitter, RecursiveCharacterTextSplitter"
   ]
  },
  {
   "cell_type": "code",
   "execution_count": 22,
   "id": "f611333f-a1d9-43a0-ba5f-08fbf5b1b520",
   "metadata": {
    "tags": []
   },
   "outputs": [],
   "source": [
    "#pp = pprint.PrettyPrinter(indent=4)"
   ]
  },
  {
   "cell_type": "code",
   "execution_count": 23,
   "id": "26f7a09a-0bae-4097-aa63-e845a4a2057d",
   "metadata": {
    "tags": []
   },
   "outputs": [
    {
     "name": "stdout",
     "output_type": "stream",
     "text": [
      "sagemaker.config INFO - Not applying SDK defaults from location: /etc/xdg/sagemaker/config.yaml\n",
      "sagemaker.config INFO - Not applying SDK defaults from location: /home/ec2-user/.config/sagemaker/config.yaml\n"
     ]
    },
    {
     "data": {
      "text/plain": [
       "'arn:aws:iam::143656149352:role/service-role/AmazonSageMaker-ExecutionRole-20220317T150353'"
      ]
     },
     "execution_count": 23,
     "metadata": {},
     "output_type": "execute_result"
    }
   ],
   "source": [
    "# global constants\n",
    "logger = logging.getLogger()\n",
    "logging.basicConfig(format='%(asctime)s,%(module)s,%(processName)s,%(levelname)s,%(message)s', level=logging.INFO, stream=sys.stderr)\n",
    "\n",
    "role = sagemaker.get_execution_role()\n",
    "role"
   ]
  },
  {
   "cell_type": "markdown",
   "id": "5c9813c9-a990-4684-a9fc-9698b809ff3e",
   "metadata": {},
   "source": [
    "### OpenSearch에 Index 생성 및 Vector Store 데이터 저장 전송"
   ]
  },
  {
   "cell_type": "code",
   "execution_count": 24,
   "id": "1a66b1a9-2b6c-45e1-bfbc-4cfaee39813f",
   "metadata": {
    "tags": []
   },
   "outputs": [],
   "source": [
    "index_name = \"fsi-sample\""
   ]
  },
  {
   "cell_type": "code",
   "execution_count": 27,
   "id": "162f4988-2579-4d49-8eca-e27f05ffeff1",
   "metadata": {
    "tags": []
   },
   "outputs": [
    {
     "name": "stderr",
     "output_type": "stream",
     "text": [
      "2023-09-19 07:03:28,670,<timed exec>,MainProcess,INFO,Loading documents ...\n"
     ]
    },
    {
     "name": "stdout",
     "output_type": "stream",
     "text": [
      "text size:  90\n",
      "_chunk_size:  1\n"
     ]
    },
    {
     "name": "stderr",
     "output_type": "stream",
     "text": [
      "2023-09-19 07:03:44,428,base,MainProcess,WARNING,GET https://search-rag-hol-user1-zrawnyzvdxkws34crzt42cg454.us-east-1.es.amazonaws.com:443/fsi-sample [status:404 request:0.795s]\n",
      "2023-09-19 07:03:44,760,base,MainProcess,INFO,PUT https://search-rag-hol-user1-zrawnyzvdxkws34crzt42cg454.us-east-1.es.amazonaws.com:443/fsi-sample [status:200 request:0.331s]\n",
      "2023-09-19 07:03:45,296,base,MainProcess,INFO,POST https://search-rag-hol-user1-zrawnyzvdxkws34crzt42cg454.us-east-1.es.amazonaws.com:443/_bulk [status:200 request:0.504s]\n",
      "2023-09-19 07:03:45,416,base,MainProcess,INFO,POST https://search-rag-hol-user1-zrawnyzvdxkws34crzt42cg454.us-east-1.es.amazonaws.com:443/_bulk [status:200 request:0.108s]\n",
      "2023-09-19 07:03:45,730,base,MainProcess,INFO,POST https://search-rag-hol-user1-zrawnyzvdxkws34crzt42cg454.us-east-1.es.amazonaws.com:443/fsi-sample/_refresh [status:200 request:0.313s]\n"
     ]
    },
    {
     "name": "stdout",
     "output_type": "stream",
     "text": [
      "CPU times: user 4.86 s, sys: 207 ms, total: 5.07 s\n",
      "Wall time: 17.1 s\n"
     ]
    }
   ],
   "source": [
    "%%time\n",
    "logger.info('Loading documents ...')\n",
    "docs = loader.load()\n",
    "\n",
    "# # add a custom metadata field, such as timestamp\n",
    "for doc in docs:\n",
    "    doc.metadata['timestamp'] = time.time()\n",
    "    doc.metadata['embeddings_model'] = endpoint_name_emb\n",
    "\n",
    "text_splitter = RecursiveCharacterTextSplitter(chunk_size=800, chunk_overlap=200)\n",
    "documents = text_splitter.split_documents(docs)\n",
    "\n",
    "# by default langchain would create a k-NN index and the embeddings would be ingested as a k-NN vector type\n",
    "docsearch = OpenSearchVectorSearch.from_documents(\n",
    "    index_name=index_name,\n",
    "    documents=documents,\n",
    "    embedding=llm_emb,\n",
    "    opensearch_url=opensearch_domain_endpoint,\n",
    "    http_auth=http_auth,\n",
    "    bulk_size=10000,\n",
    "    timeout=60\n",
    ")"
   ]
  },
  {
   "cell_type": "markdown",
   "id": "45f87c18-22c9-4ad7-88be-2f97c85fc181",
   "metadata": {},
   "source": [
    "## 5. QnA"
   ]
  },
  {
   "cell_type": "code",
   "execution_count": 28,
   "id": "e8d08bd9-231c-4b1f-b8e9-6fdd1cdbfa44",
   "metadata": {
    "tags": []
   },
   "outputs": [],
   "source": [
    "from functools import lru_cache\n",
    "from langchain import PromptTemplate\n",
    "from langchain.chains.question_answering import load_qa_chain"
   ]
  },
  {
   "cell_type": "markdown",
   "id": "f2b853fb-1da5-40d2-8540-71fe00e4bf2c",
   "metadata": {},
   "source": [
    "### 5.1. Query and Response"
   ]
  },
  {
   "cell_type": "code",
   "execution_count": 29,
   "id": "eac54bb4-2704-40c5-a809-2d34746d6d1b",
   "metadata": {
    "tags": []
   },
   "outputs": [],
   "source": [
    "import copy\n",
    "import functools\n",
    "import concurrent.futures"
   ]
  },
  {
   "cell_type": "code",
   "execution_count": 30,
   "id": "6935448b-3f3c-49a7-8142-8845f6285acd",
   "metadata": {
    "tags": []
   },
   "outputs": [],
   "source": [
    "prompt_template = ''.join([\"{context}\", seperator, \"{question}\"])\n",
    "PROMPT = PromptTemplate(template=prompt_template, input_variables=[\"context\", \"question\"])\n",
    "chain = load_qa_chain(llm=llm_text, chain_type=\"stuff\", prompt=PROMPT, verbose=True)"
   ]
  },
  {
   "cell_type": "code",
   "execution_count": 31,
   "id": "8ea7efae-5339-46d5-bbb2-5402daceb1cd",
   "metadata": {
    "tags": []
   },
   "outputs": [],
   "source": [
    "vectro_db = OpenSearchVectorSearch(\n",
    "    index_name=index_name,\n",
    "    opensearch_url=opensearch_domain_endpoint,\n",
    "    embedding_function=llm_emb,\n",
    "    http_auth=http_auth, # http_auth\n",
    "    is_aoss =False,\n",
    "    engine=\"faiss\",\n",
    "    space_type=\"l2\"\n",
    ")"
   ]
  },
  {
   "cell_type": "code",
   "execution_count": 32,
   "id": "68445522-5e7a-4a28-9a95-c2991f8156d1",
   "metadata": {
    "tags": []
   },
   "outputs": [],
   "source": [
    "def pretty_print_documents(response):\n",
    "    for doc, score in response:\n",
    "        print(f'\\nScore: {score}')\n",
    "        print(f'Document Number: {doc.metadata[\"row\"]}')\n",
    "        print(f'Source: {doc.metadata[\"source\"]}')\n",
    "\n",
    "        # Split the page content into lines\n",
    "        lines = doc.page_content.split(\"\\n\")\n",
    "\n",
    "        # Extract and print each piece of information if it exists\n",
    "        for line in lines:\n",
    "            split_line = line.split(\": \")\n",
    "            if len(split_line) > 1:\n",
    "                print(f'{split_line[0]}: {split_line[1]}')\n",
    "\n",
    "        print('-' * 50)"
   ]
  },
  {
   "cell_type": "code",
   "execution_count": 33,
   "id": "02bf59e1-efb2-4fca-a3dc-47322d31387a",
   "metadata": {
    "tags": []
   },
   "outputs": [],
   "source": [
    "def filter_and_remove_score_opensearch_vector_score(res, cutoff_score = 0.006, variance=0.95):\n",
    "    # Get the lowest score\n",
    "    highest_score = max(score for doc, score in res)\n",
    "    print('highest_score : ', highest_score)\n",
    "    # If the lowest score is over 200, return an empty list\n",
    "    if highest_score < cutoff_score:\n",
    "        return []\n",
    "    # Calculate the upper bound for scores\n",
    "    lower_bound = highest_score * variance\n",
    "    print('lower_bound : ', lower_bound)\n",
    "    # Filter the list and remove the score\n",
    "    res = [doc for doc, score in res if score >= lower_bound]\n",
    "\n",
    "    return res\n",
    "\n",
    "\n",
    "def get_similiar_docs(query, k=5, fetch_k=300, score=True, bank=\"\"):\n",
    "\n",
    "    \n",
    "    #query = f'{bank}, {query}'\n",
    "    print (query)\n",
    "    \n",
    "    if score:\n",
    "        pre_similar_doc = vectro_db.similarity_search_with_score(\n",
    "            query,\n",
    "            k=k,\n",
    "            fetch_k=fetch_k,\n",
    "            search_type=\"approximate_search\", # approximate_search, script_scoring, painless_scripting\n",
    "            space_type=\"l2\",     #\"l2\", \"l1\", \"linf\", \"cosinesimil\", \"innerproduct\", \"hammingbit\";\n",
    "            pre_filter={\"bool\": {\"filter\": {\"term\": {\"text\": bank}}}},\n",
    "            boolean_filter={\"bool\": {\"filter\": {\"term\": {\"text\": bank}}}}\n",
    "            #filter=dict(source=bank)\n",
    "        )\n",
    "        #print('jhs : ', similar_docs)\n",
    "        pretty_print_documents( pre_similar_doc)\n",
    "        similar_docs=filter_and_remove_score_opensearch_vector_score(pre_similar_doc)        \n",
    "    else:\n",
    "        similar_docs = vectro_db.similarity_search(\n",
    "            query,\n",
    "            k=k,\n",
    "            search_type=\"approximate_search\", # approximate_search, script_scoring, painless_scripting\n",
    "            space_type=\"12\",     #\"l2\", \"l1\", \"linf\", \"cosinesimil\", \"innerproduct\", \"hammingbit\";\n",
    "            pre_filter={\"bool\": {\"filter\": {\"term\": {\"text\": bank}}}},\n",
    "            boolean_filter={\"bool\": {\"filter\": {\"term\": {\"text\": bank}}}}\n",
    "            \n",
    "        )\n",
    "    similar_docs_copy = copy.deepcopy(similar_docs)\n",
    "    \n",
    "    #print('similar_docs_copy : \\n', similar_docs_copy)\n",
    "    \n",
    "    return similar_docs_copy\n",
    "\n",
    "\n",
    "def get_answer(query, bank=\"\",score=False, fetch_k=300, k=1):\n",
    "                \n",
    "    search_query = query\n",
    "    \n",
    "    similar_docs = get_similiar_docs(search_query, k=k,score=score, bank=bank)\n",
    "    \n",
    "\n",
    "    llm_query = '고객 서비스 센터 직원처럼, '+query+' 카테고리에 대한 Information을 찾아서 설명해주세요.'\n",
    "    \n",
    "    if not similar_docs:\n",
    "        llm_query = query\n",
    "\n",
    "    answer = chain.run(input_documents=similar_docs, question=llm_query)\n",
    "    \n",
    "    return answer"
   ]
  },
  {
   "cell_type": "code",
   "execution_count": 34,
   "id": "8c193c6a-822f-4861-badd-697915f0be12",
   "metadata": {
    "tags": []
   },
   "outputs": [
    {
     "name": "stdout",
     "output_type": "stream",
     "text": [
      "안녕하세요. 날씨가 참 좋네요.\n"
     ]
    },
    {
     "name": "stderr",
     "output_type": "stream",
     "text": [
      "2023-09-19 07:03:46,034,base,MainProcess,INFO,POST https://search-rag-hol-user1-zrawnyzvdxkws34crzt42cg454.us-east-1.es.amazonaws.com:443/fsi-sample/_search [status:200 request:0.124s]\n"
     ]
    },
    {
     "name": "stdout",
     "output_type": "stream",
     "text": [
      "\n",
      "Score: 0.003389907\n",
      "Document Number: 19\n",
      "Source: 신한은행\n",
      "no: 70\n",
      "Category: 홈페이지상에 제가 등록한 칭찬/불만/제안사항 조회할 수 있나요?\n",
      "Information: 로그인 후 등록한 접수내용에 대해서 확인 가능합니다.\n",
      "type: 홈페이지\n",
      "Source: 신한은행\n",
      "--------------------------------------------------\n",
      "\n",
      "Score: 0.0032900402\n",
      "Document Number: 82\n",
      "Source: 신한은행\n",
      "no: 7\n",
      "Category: 인터넷으로 신규 예/적금 신청하는 방법을 알려주세요\n",
      "Information: 인터넷상으로 예금/신탁을 신규가입하시려면 우선 고객님께서는인터넷뱅킹에 가입하셔야 하며 신규방법은 두 가지가 있습니다.1. 인터넷뱅킹에서 가입인터넷뱅킹 로그인을 하신 후 예금/신탁 > 신규 메뉴에서 예금 및 신탁 상품을 신규하실 수 있습니다.2. 신한S뱅크에서 가입신한S뱅크 상품센터 > 예금센터 메뉴에서 예금상품을 신규하실 수 있습니다.\n",
      "type: 인터넷뱅킹\n",
      "Source: 신한은행\n",
      "--------------------------------------------------\n",
      "\n",
      "Score: 0.0032718112\n",
      "Document Number: 49\n",
      "Source: 신한은행\n",
      "no: 40\n",
      "Category: 회원탈퇴 후 메일이 계속와요.\n",
      "Information: 인터넷뱅킹가입을 하시면 예금/대출/카드 등 거래에 대한 안내(예:예금만기 등)외에 영업점안내메일 등 몇가지 부가서비스가 기본제공됩니다. 부가서비스는 홈페이지에 로그인하셔서(인터넷뱅킹사용자는 별도 회원가입이 필요없습니다.) 이메일서비스의 수신/거부 등 변경을 하시면 됩니다. 다만, 인터넷뱅킹을 해지하시더라도 예금,카드,대출 등의 거래가 남아있을 수 있기에 메일서비스는 계속 제공됩니다. 따라서 고객님의 경우에는 기존에 제공되는 메일서비스가 계속 남아있어 부가서비스 메일을 받으신 것이며. 정보가 유출되거나 하는 경우는 절대 없으니 안심하시기 바랍니다. 더이상 부가서비스 이메일 수신을 원하지 않는 경우에는 홈페이지의 회원가입을 하신 후 회원서비스의 이메일서비스에 가셔서 변경하시면 됩니다.\n",
      "type: \n",
      "Source: 신한은행\n",
      "--------------------------------------------------\n",
      "\n",
      "Score: 0.003245137\n",
      "Document Number: 81\n",
      "Source: 신한은행\n",
      "no: 8\n",
      "Category: 보안메일서비스 안내해줘\n",
      "Information: 신한은행은 이메일서비스를 통해 고객님의 거래정보와 금융정보를 메일로 알려드리는데 고객님께 발송되는 이메일 중 개인정보보호가 필요한 메일(거래정보 등)은 암호화 처리되어 보안메일로 발송되어 일반메일 (홍보 및 안내메일) 과 구별됩니다. ※ 입출내역 통지서비스는 개인뱅킹 > 뱅킹보안서비스 > 통지서비스 > 입출내역 Email통지서비스 메뉴에서 서비스 신청 및 변경이 가능합니다.\n",
      "type: 인터넷뱅킹\n",
      "Source: 신한은행\n",
      "--------------------------------------------------\n",
      "highest_score :  0.003389907\n",
      "\n",
      "\n",
      "\u001B[1m> Entering new StuffDocumentsChain chain...\u001B[0m\n",
      "\n",
      "\n",
      "\u001B[1m> Entering new LLMChain chain...\u001B[0m\n",
      "Prompt after formatting:\n",
      "\u001B[32;1m\u001B[1;3m||SPEPERATOR||안녕하세요. 날씨가 참 좋네요.\u001B[0m\n",
      "prompt 아래는 작업을 설명하는 명령어입니다. 요청을 적절히 완료하는 응답을 작성하세요.\n",
      "\n",
      "### 명령어:\n",
      "안녕하세요. 날씨가 참 좋네요.\n",
      "\n",
      "### 응답:\n",
      "\n",
      "\n",
      "\u001B[1m> Finished chain.\u001B[0m\n",
      "\n",
      "\u001B[1m> Finished chain.\u001B[0m\n",
      "챗봇 :  안녕하세요! 오늘은 무엇을 도와드릴까요?\n"
     ]
    }
   ],
   "source": [
    "question ='안녕하세요. 날씨가 참 좋네요.'\n",
    "response = get_answer(question, bank='신한은행',score=True, k=4)\n",
    "print(\"챗봇 : \", response)"
   ]
  },
  {
   "cell_type": "code",
   "execution_count": 35,
   "id": "92313609-5682-45ca-8eeb-8cf87bfb4270",
   "metadata": {
    "tags": []
   },
   "outputs": [
    {
     "name": "stderr",
     "output_type": "stream",
     "text": [
      "2023-09-19 07:03:46,814,base,MainProcess,INFO,POST https://search-rag-hol-user1-zrawnyzvdxkws34crzt42cg454.us-east-1.es.amazonaws.com:443/fsi-sample/_search [status:200 request:0.036s]\n"
     ]
    },
    {
     "name": "stdout",
     "output_type": "stream",
     "text": [
      "간편조회서비스는 회원가입해야하나요?\n",
      "\n",
      "Score: 0.009032617\n",
      "Document Number: 17\n",
      "Source: 신한은행\n",
      "no: 72\n",
      "Category: 간편조회서비스는 회원가입해야만 이용할 수 있나요?\n",
      "Information: 간편조회서비스에는 로그인을 위해 회원가입이 필요한 서비스와 회원가입 없이 누구나 이용 가능한 서비스가 있습니다.\n",
      "type: 간편서비스\n",
      "Source: 신한은행\n",
      "--------------------------------------------------\n",
      "\n",
      "Score: 0.007898479\n",
      "Document Number: 29\n",
      "Source: 신한은행\n",
      "no: 60\n",
      "Category: 홈페이지에서 계좌거래내역 조회할 수 있나요?\n",
      "Information: 홈페이지회원  가입 후 간편조회서비스를 통해 계좌 거래내역 조회 가능합니다.\n",
      "type: 간편서비스\n",
      "Source: 신한은행\n",
      "--------------------------------------------------\n",
      "\n",
      "Score: 0.0072306204\n",
      "Document Number: 16\n",
      "Source: 신한은행\n",
      "no: 73\n",
      "Category: 아이핀으로 홈페이지회원 가입한 고객은 간편조회서비스 이용할 수 없나요?\n",
      "Information: 아이핀으로 홈페이지 회원가입하신 고객은 홈페이지에서 개인회원으로 전환 후 간편조회서비스 이용가능 합니다. \n",
      "type: 간편서비스\n",
      "Source: 신한은행\n",
      "--------------------------------------------------\n",
      "\n",
      "Score: 0.0070149396\n",
      "Document Number: 46\n",
      "Source: 신한은행\n",
      "no: 43\n",
      "Category: 홈페이지 회원가입은 어떻게 해야 하나요?\n",
      "Information: 홈페이지 상단에 있는 [고객센터]를 클릭하여, 회원서비스 → 회원가입메뉴에서 회원가입 메뉴를 이용하시기 바랍니다. 기타 문의는 콜센터 1599-8000번으로 문의 바랍니다.\n",
      "type: 홈페이지\n",
      "Source: 신한은행\n",
      "--------------------------------------------------\n",
      "\n",
      "Score: 0.0066110655\n",
      "Document Number: 44\n",
      "Source: 신한은행\n",
      "no: 45\n",
      "Category: 아이디/비밀번호가 생각나지 않습니다. 어떻게 해야 하나요?\n",
      "Information: 홈페이지 상단에 있는 [고객센터] > 회원서비스 메뉴에서 아이디 찾기, 비밀번호 재설정하여 이용하시기 바랍니다. 신한은행 개인 인터넷뱅킹(bank.shinhan.com) 접속 후 1. 아이디 찾기 ① 고객센터 > 회원서비스 > 아이디찾기 또는 뱅킹로그인 > 아이디찾기 ② [보기] 클릭 > 약관확인 > 동의함 체크 ③ 성명/생년월일/계좌번호/계좌비밀번호 입력 > 확인 ④ 이용자아이디 확인 완료 2. 비밀번호 재설정 ① 고객센터 > 회원서비스 ② 회원정보변경>비밀번호 찾기(재설정) ③ (개인회원)약관보기 및 동의 ④ 본인확인(이름, 생년월일, 아이디, 계좌번호, 계좌비밀번호 입력) ⑤ 사용할 비밀번호/비밀번호 확인 2회 입력>확인 ※ 영문, 숫자, 특수문자 포함 8-15자리 이내 ⑥ 비밀번호 재설정 완료 진행과정 중 궁금하신 내용은 고객센터(1599-8000)으로 문의 부탁드립니다.\n",
      "type: \n",
      "Source: 신한은행\n",
      "--------------------------------------------------\n",
      "highest_score :  0.009032617\n",
      "lower_bound :  0.008580986149999999\n",
      "\n",
      "\n",
      "\u001B[1m> Entering new StuffDocumentsChain chain...\u001B[0m\n",
      "\n",
      "\n",
      "\u001B[1m> Entering new LLMChain chain...\u001B[0m\n",
      "Prompt after formatting:\n",
      "\u001B[32;1m\u001B[1;3mno: 72\n",
      "Category: 간편조회서비스는 회원가입해야만 이용할 수 있나요?\n",
      "Information: 간편조회서비스에는 로그인을 위해 회원가입이 필요한 서비스와 회원가입 없이 누구나 이용 가능한 서비스가 있습니다.\n",
      "회원가입 및 로그인이 필요한 메뉴는\n",
      "① 계좌조회, ② 시효포기채권감면조회, ③ 대학등록금 납부하기(당행인터넷뱅킹가입자만 이용가능, 인증서 로그인필요), ④ 제로페이Biz 승인내역 조회 입니다. \n",
      "\n",
      "회원가입 없이 이용 가능한 메뉴는\n",
      "① 예금잔액증명서조회, ② 자기앞수표조회, ③ 환율조회,환가료율조회, ④ 여신증명서 발급사실 확인 , ⑤ 지급보증서조회, ⑥ 대학등록금 (납부조회. 영수증DM신청,고지서출력 ), ⑦ 법원업무 (예약접수신청 , 예약접수조회 , 계좌환급조회 ,송달료조회), ⑧ 상조예치금 조회  입니다.\n",
      "type: 간편서비스\n",
      "Source: 신한은행||SPEPERATOR||고객 서비스 센터 직원처럼, 간편조회서비스는 회원가입해야하나요? 카테고리에 대한 Information을 찾아서 설명해주세요.\u001B[0m\n",
      "prompt 아래는 작업을 설명하는 명령어와 추가 컨텍스트를 제공하는 입력이 짝을 이루는 예제입니다. 요청을 적절히 완료하는 응답을 작성하세요.\n",
      "\n",
      "### 명령어:\n",
      "고객 서비스 센터 직원처럼, 간편조회서비스는 회원가입해야하나요? 카테고리에 대한 Information을 찾아서 설명해주세요.\n",
      "\n",
      "### 입력:\n",
      "no: 72\n",
      "Category: 간편조회서비스는 회원가입해야만 이용할 수 있나요?\n",
      "Information: 간편조회서비스에는 로그인을 위해 회원가입이 필요한 서비스와 회원가입 없이 누구나 이용 가능한 서비스가 있습니다.\n",
      "회원가입 및 로그인이 필요한 메뉴는\n",
      "① 계좌조회, ② 시효포기채권감면조회, ③ 대학등록금 납부하기(당행인터넷뱅킹가입자만 이용가능, 인증서 로그인필요), ④ 제로페이Biz 승인내역 조회 입니다. \n",
      "\n",
      "회원가입 없이 이용 가능한 메뉴는\n",
      "① 예금잔액증명서조회, ② 자기앞수표조회, ③ 환율조회,환가료율조회, ④ 여신증명서 발급사실 확인 , ⑤ 지급보증서조회, ⑥ 대학등록금 (납부조회. 영수증DM신청,고지서출력 ), ⑦ 법원업무 (예약접수신청 , 예약접수조회 , 계좌환급조회 ,송달료조회), ⑧ 상조예치금 조회  입니다.\n",
      "type: 간편서비스\n",
      "Source: 신한은행\n",
      "\n",
      "### 응답:\n",
      "\n",
      "\n",
      "\u001B[1m> Finished chain.\u001B[0m\n",
      "\n",
      "\u001B[1m> Finished chain.\u001B[0m\n",
      "챗봇 :  간편조회서비스는 회원가입이 필요합니다. 이 서비스는 로그인을 위해 회원가입이 필요한 서비스와 회원가입 없이 누구나 이용 가능한 서비스로 나뉘어져 있습니다. 회원가입이 필요한 서비스는 다음과 같습니다:\n",
      "1. 계좌조회: 회원가입이 필요하고 계좌번호와 비밀번호를 입력하여 계좌 잔액을 조회할 수 있습니다.\n",
      "2. 시효포기채권감면조회: 회원가입이 필요하고 채권의 시효가 만료되었는지 여부를 조회할 수 있습니다.\n",
      "3. 대학등록금 납부하기(당행인터넷뱅킹 가입자만 이용 가능\n"
     ]
    }
   ],
   "source": [
    "q ='간편조회서비스는 회원가입해야하나요?'\n",
    "response = get_answer(q, bank='신한은행',score=True, k=5)\n",
    "\n",
    "print(\"챗봇 : \", response)"
   ]
  },
  {
   "cell_type": "markdown",
   "id": "fce04ab1-4d10-44be-90d4-dfc823c2637c",
   "metadata": {
    "tags": []
   },
   "source": [
    "## 6. Cleanup"
   ]
  },
  {
   "cell_type": "markdown",
   "id": "5e6226cc-cd67-4bf6-937e-a4b34e0ac3dc",
   "metadata": {},
   "source": [
    "### 6.1. delete opensearch domain"
   ]
  },
  {
   "cell_type": "code",
   "execution_count": 38,
   "id": "d00f0667-fe91-4cac-8a52-4d8166b8520d",
   "metadata": {
    "tags": []
   },
   "outputs": [],
   "source": [
    "client = boto3.client('opensearch')\n",
    "response = client.delete_domain(\n",
    "    DomainName=domain_name\n",
    ")"
   ]
  }
 ],
 "metadata": {
  "availableInstances": [
   {
    "_defaultOrder": 0,
    "_isFastLaunch": true,
    "category": "General purpose",
    "gpuNum": 0,
    "hideHardwareSpecs": false,
    "memoryGiB": 4,
    "name": "ml.t3.medium",
    "vcpuNum": 2
   },
   {
    "_defaultOrder": 1,
    "_isFastLaunch": false,
    "category": "General purpose",
    "gpuNum": 0,
    "hideHardwareSpecs": false,
    "memoryGiB": 8,
    "name": "ml.t3.large",
    "vcpuNum": 2
   },
   {
    "_defaultOrder": 2,
    "_isFastLaunch": false,
    "category": "General purpose",
    "gpuNum": 0,
    "hideHardwareSpecs": false,
    "memoryGiB": 16,
    "name": "ml.t3.xlarge",
    "vcpuNum": 4
   },
   {
    "_defaultOrder": 3,
    "_isFastLaunch": false,
    "category": "General purpose",
    "gpuNum": 0,
    "hideHardwareSpecs": false,
    "memoryGiB": 32,
    "name": "ml.t3.2xlarge",
    "vcpuNum": 8
   },
   {
    "_defaultOrder": 4,
    "_isFastLaunch": true,
    "category": "General purpose",
    "gpuNum": 0,
    "hideHardwareSpecs": false,
    "memoryGiB": 8,
    "name": "ml.m5.large",
    "vcpuNum": 2
   },
   {
    "_defaultOrder": 5,
    "_isFastLaunch": false,
    "category": "General purpose",
    "gpuNum": 0,
    "hideHardwareSpecs": false,
    "memoryGiB": 16,
    "name": "ml.m5.xlarge",
    "vcpuNum": 4
   },
   {
    "_defaultOrder": 6,
    "_isFastLaunch": false,
    "category": "General purpose",
    "gpuNum": 0,
    "hideHardwareSpecs": false,
    "memoryGiB": 32,
    "name": "ml.m5.2xlarge",
    "vcpuNum": 8
   },
   {
    "_defaultOrder": 7,
    "_isFastLaunch": false,
    "category": "General purpose",
    "gpuNum": 0,
    "hideHardwareSpecs": false,
    "memoryGiB": 64,
    "name": "ml.m5.4xlarge",
    "vcpuNum": 16
   },
   {
    "_defaultOrder": 8,
    "_isFastLaunch": false,
    "category": "General purpose",
    "gpuNum": 0,
    "hideHardwareSpecs": false,
    "memoryGiB": 128,
    "name": "ml.m5.8xlarge",
    "vcpuNum": 32
   },
   {
    "_defaultOrder": 9,
    "_isFastLaunch": false,
    "category": "General purpose",
    "gpuNum": 0,
    "hideHardwareSpecs": false,
    "memoryGiB": 192,
    "name": "ml.m5.12xlarge",
    "vcpuNum": 48
   },
   {
    "_defaultOrder": 10,
    "_isFastLaunch": false,
    "category": "General purpose",
    "gpuNum": 0,
    "hideHardwareSpecs": false,
    "memoryGiB": 256,
    "name": "ml.m5.16xlarge",
    "vcpuNum": 64
   },
   {
    "_defaultOrder": 11,
    "_isFastLaunch": false,
    "category": "General purpose",
    "gpuNum": 0,
    "hideHardwareSpecs": false,
    "memoryGiB": 384,
    "name": "ml.m5.24xlarge",
    "vcpuNum": 96
   },
   {
    "_defaultOrder": 12,
    "_isFastLaunch": false,
    "category": "General purpose",
    "gpuNum": 0,
    "hideHardwareSpecs": false,
    "memoryGiB": 8,
    "name": "ml.m5d.large",
    "vcpuNum": 2
   },
   {
    "_defaultOrder": 13,
    "_isFastLaunch": false,
    "category": "General purpose",
    "gpuNum": 0,
    "hideHardwareSpecs": false,
    "memoryGiB": 16,
    "name": "ml.m5d.xlarge",
    "vcpuNum": 4
   },
   {
    "_defaultOrder": 14,
    "_isFastLaunch": false,
    "category": "General purpose",
    "gpuNum": 0,
    "hideHardwareSpecs": false,
    "memoryGiB": 32,
    "name": "ml.m5d.2xlarge",
    "vcpuNum": 8
   },
   {
    "_defaultOrder": 15,
    "_isFastLaunch": false,
    "category": "General purpose",
    "gpuNum": 0,
    "hideHardwareSpecs": false,
    "memoryGiB": 64,
    "name": "ml.m5d.4xlarge",
    "vcpuNum": 16
   },
   {
    "_defaultOrder": 16,
    "_isFastLaunch": false,
    "category": "General purpose",
    "gpuNum": 0,
    "hideHardwareSpecs": false,
    "memoryGiB": 128,
    "name": "ml.m5d.8xlarge",
    "vcpuNum": 32
   },
   {
    "_defaultOrder": 17,
    "_isFastLaunch": false,
    "category": "General purpose",
    "gpuNum": 0,
    "hideHardwareSpecs": false,
    "memoryGiB": 192,
    "name": "ml.m5d.12xlarge",
    "vcpuNum": 48
   },
   {
    "_defaultOrder": 18,
    "_isFastLaunch": false,
    "category": "General purpose",
    "gpuNum": 0,
    "hideHardwareSpecs": false,
    "memoryGiB": 256,
    "name": "ml.m5d.16xlarge",
    "vcpuNum": 64
   },
   {
    "_defaultOrder": 19,
    "_isFastLaunch": false,
    "category": "General purpose",
    "gpuNum": 0,
    "hideHardwareSpecs": false,
    "memoryGiB": 384,
    "name": "ml.m5d.24xlarge",
    "vcpuNum": 96
   },
   {
    "_defaultOrder": 20,
    "_isFastLaunch": false,
    "category": "General purpose",
    "gpuNum": 0,
    "hideHardwareSpecs": true,
    "memoryGiB": 0,
    "name": "ml.geospatial.interactive",
    "supportedImageNames": [
     "sagemaker-geospatial-v1-0"
    ],
    "vcpuNum": 0
   },
   {
    "_defaultOrder": 21,
    "_isFastLaunch": true,
    "category": "Compute optimized",
    "gpuNum": 0,
    "hideHardwareSpecs": false,
    "memoryGiB": 4,
    "name": "ml.c5.large",
    "vcpuNum": 2
   },
   {
    "_defaultOrder": 22,
    "_isFastLaunch": false,
    "category": "Compute optimized",
    "gpuNum": 0,
    "hideHardwareSpecs": false,
    "memoryGiB": 8,
    "name": "ml.c5.xlarge",
    "vcpuNum": 4
   },
   {
    "_defaultOrder": 23,
    "_isFastLaunch": false,
    "category": "Compute optimized",
    "gpuNum": 0,
    "hideHardwareSpecs": false,
    "memoryGiB": 16,
    "name": "ml.c5.2xlarge",
    "vcpuNum": 8
   },
   {
    "_defaultOrder": 24,
    "_isFastLaunch": false,
    "category": "Compute optimized",
    "gpuNum": 0,
    "hideHardwareSpecs": false,
    "memoryGiB": 32,
    "name": "ml.c5.4xlarge",
    "vcpuNum": 16
   },
   {
    "_defaultOrder": 25,
    "_isFastLaunch": false,
    "category": "Compute optimized",
    "gpuNum": 0,
    "hideHardwareSpecs": false,
    "memoryGiB": 72,
    "name": "ml.c5.9xlarge",
    "vcpuNum": 36
   },
   {
    "_defaultOrder": 26,
    "_isFastLaunch": false,
    "category": "Compute optimized",
    "gpuNum": 0,
    "hideHardwareSpecs": false,
    "memoryGiB": 96,
    "name": "ml.c5.12xlarge",
    "vcpuNum": 48
   },
   {
    "_defaultOrder": 27,
    "_isFastLaunch": false,
    "category": "Compute optimized",
    "gpuNum": 0,
    "hideHardwareSpecs": false,
    "memoryGiB": 144,
    "name": "ml.c5.18xlarge",
    "vcpuNum": 72
   },
   {
    "_defaultOrder": 28,
    "_isFastLaunch": false,
    "category": "Compute optimized",
    "gpuNum": 0,
    "hideHardwareSpecs": false,
    "memoryGiB": 192,
    "name": "ml.c5.24xlarge",
    "vcpuNum": 96
   },
   {
    "_defaultOrder": 29,
    "_isFastLaunch": true,
    "category": "Accelerated computing",
    "gpuNum": 1,
    "hideHardwareSpecs": false,
    "memoryGiB": 16,
    "name": "ml.g4dn.xlarge",
    "vcpuNum": 4
   },
   {
    "_defaultOrder": 30,
    "_isFastLaunch": false,
    "category": "Accelerated computing",
    "gpuNum": 1,
    "hideHardwareSpecs": false,
    "memoryGiB": 32,
    "name": "ml.g4dn.2xlarge",
    "vcpuNum": 8
   },
   {
    "_defaultOrder": 31,
    "_isFastLaunch": false,
    "category": "Accelerated computing",
    "gpuNum": 1,
    "hideHardwareSpecs": false,
    "memoryGiB": 64,
    "name": "ml.g4dn.4xlarge",
    "vcpuNum": 16
   },
   {
    "_defaultOrder": 32,
    "_isFastLaunch": false,
    "category": "Accelerated computing",
    "gpuNum": 1,
    "hideHardwareSpecs": false,
    "memoryGiB": 128,
    "name": "ml.g4dn.8xlarge",
    "vcpuNum": 32
   },
   {
    "_defaultOrder": 33,
    "_isFastLaunch": false,
    "category": "Accelerated computing",
    "gpuNum": 4,
    "hideHardwareSpecs": false,
    "memoryGiB": 192,
    "name": "ml.g4dn.12xlarge",
    "vcpuNum": 48
   },
   {
    "_defaultOrder": 34,
    "_isFastLaunch": false,
    "category": "Accelerated computing",
    "gpuNum": 1,
    "hideHardwareSpecs": false,
    "memoryGiB": 256,
    "name": "ml.g4dn.16xlarge",
    "vcpuNum": 64
   },
   {
    "_defaultOrder": 35,
    "_isFastLaunch": false,
    "category": "Accelerated computing",
    "gpuNum": 1,
    "hideHardwareSpecs": false,
    "memoryGiB": 61,
    "name": "ml.p3.2xlarge",
    "vcpuNum": 8
   },
   {
    "_defaultOrder": 36,
    "_isFastLaunch": false,
    "category": "Accelerated computing",
    "gpuNum": 4,
    "hideHardwareSpecs": false,
    "memoryGiB": 244,
    "name": "ml.p3.8xlarge",
    "vcpuNum": 32
   },
   {
    "_defaultOrder": 37,
    "_isFastLaunch": false,
    "category": "Accelerated computing",
    "gpuNum": 8,
    "hideHardwareSpecs": false,
    "memoryGiB": 488,
    "name": "ml.p3.16xlarge",
    "vcpuNum": 64
   },
   {
    "_defaultOrder": 38,
    "_isFastLaunch": false,
    "category": "Accelerated computing",
    "gpuNum": 8,
    "hideHardwareSpecs": false,
    "memoryGiB": 768,
    "name": "ml.p3dn.24xlarge",
    "vcpuNum": 96
   },
   {
    "_defaultOrder": 39,
    "_isFastLaunch": false,
    "category": "Memory Optimized",
    "gpuNum": 0,
    "hideHardwareSpecs": false,
    "memoryGiB": 16,
    "name": "ml.r5.large",
    "vcpuNum": 2
   },
   {
    "_defaultOrder": 40,
    "_isFastLaunch": false,
    "category": "Memory Optimized",
    "gpuNum": 0,
    "hideHardwareSpecs": false,
    "memoryGiB": 32,
    "name": "ml.r5.xlarge",
    "vcpuNum": 4
   },
   {
    "_defaultOrder": 41,
    "_isFastLaunch": false,
    "category": "Memory Optimized",
    "gpuNum": 0,
    "hideHardwareSpecs": false,
    "memoryGiB": 64,
    "name": "ml.r5.2xlarge",
    "vcpuNum": 8
   },
   {
    "_defaultOrder": 42,
    "_isFastLaunch": false,
    "category": "Memory Optimized",
    "gpuNum": 0,
    "hideHardwareSpecs": false,
    "memoryGiB": 128,
    "name": "ml.r5.4xlarge",
    "vcpuNum": 16
   },
   {
    "_defaultOrder": 43,
    "_isFastLaunch": false,
    "category": "Memory Optimized",
    "gpuNum": 0,
    "hideHardwareSpecs": false,
    "memoryGiB": 256,
    "name": "ml.r5.8xlarge",
    "vcpuNum": 32
   },
   {
    "_defaultOrder": 44,
    "_isFastLaunch": false,
    "category": "Memory Optimized",
    "gpuNum": 0,
    "hideHardwareSpecs": false,
    "memoryGiB": 384,
    "name": "ml.r5.12xlarge",
    "vcpuNum": 48
   },
   {
    "_defaultOrder": 45,
    "_isFastLaunch": false,
    "category": "Memory Optimized",
    "gpuNum": 0,
    "hideHardwareSpecs": false,
    "memoryGiB": 512,
    "name": "ml.r5.16xlarge",
    "vcpuNum": 64
   },
   {
    "_defaultOrder": 46,
    "_isFastLaunch": false,
    "category": "Memory Optimized",
    "gpuNum": 0,
    "hideHardwareSpecs": false,
    "memoryGiB": 768,
    "name": "ml.r5.24xlarge",
    "vcpuNum": 96
   },
   {
    "_defaultOrder": 47,
    "_isFastLaunch": false,
    "category": "Accelerated computing",
    "gpuNum": 1,
    "hideHardwareSpecs": false,
    "memoryGiB": 16,
    "name": "ml.g5.xlarge",
    "vcpuNum": 4
   },
   {
    "_defaultOrder": 48,
    "_isFastLaunch": false,
    "category": "Accelerated computing",
    "gpuNum": 1,
    "hideHardwareSpecs": false,
    "memoryGiB": 32,
    "name": "ml.g5.2xlarge",
    "vcpuNum": 8
   },
   {
    "_defaultOrder": 49,
    "_isFastLaunch": false,
    "category": "Accelerated computing",
    "gpuNum": 1,
    "hideHardwareSpecs": false,
    "memoryGiB": 64,
    "name": "ml.g5.4xlarge",
    "vcpuNum": 16
   },
   {
    "_defaultOrder": 50,
    "_isFastLaunch": false,
    "category": "Accelerated computing",
    "gpuNum": 1,
    "hideHardwareSpecs": false,
    "memoryGiB": 128,
    "name": "ml.g5.8xlarge",
    "vcpuNum": 32
   },
   {
    "_defaultOrder": 51,
    "_isFastLaunch": false,
    "category": "Accelerated computing",
    "gpuNum": 1,
    "hideHardwareSpecs": false,
    "memoryGiB": 256,
    "name": "ml.g5.16xlarge",
    "vcpuNum": 64
   },
   {
    "_defaultOrder": 52,
    "_isFastLaunch": false,
    "category": "Accelerated computing",
    "gpuNum": 4,
    "hideHardwareSpecs": false,
    "memoryGiB": 192,
    "name": "ml.g5.12xlarge",
    "vcpuNum": 48
   },
   {
    "_defaultOrder": 53,
    "_isFastLaunch": false,
    "category": "Accelerated computing",
    "gpuNum": 4,
    "hideHardwareSpecs": false,
    "memoryGiB": 384,
    "name": "ml.g5.24xlarge",
    "vcpuNum": 96
   },
   {
    "_defaultOrder": 54,
    "_isFastLaunch": false,
    "category": "Accelerated computing",
    "gpuNum": 8,
    "hideHardwareSpecs": false,
    "memoryGiB": 768,
    "name": "ml.g5.48xlarge",
    "vcpuNum": 192
   },
   {
    "_defaultOrder": 55,
    "_isFastLaunch": false,
    "category": "Accelerated computing",
    "gpuNum": 8,
    "hideHardwareSpecs": false,
    "memoryGiB": 1152,
    "name": "ml.p4d.24xlarge",
    "vcpuNum": 96
   },
   {
    "_defaultOrder": 56,
    "_isFastLaunch": false,
    "category": "Accelerated computing",
    "gpuNum": 8,
    "hideHardwareSpecs": false,
    "memoryGiB": 1152,
    "name": "ml.p4de.24xlarge",
    "vcpuNum": 96
   }
  ],
  "instance_type": "ml.m5.large",
  "kernelspec": {
   "display_name": "conda_pytorch_p310",
   "language": "python",
   "name": "conda_pytorch_p310"
  },
  "language_info": {
   "codemirror_mode": {
    "name": "ipython",
    "version": 3
   },
   "file_extension": ".py",
   "mimetype": "text/x-python",
   "name": "python",
   "nbconvert_exporter": "python",
   "pygments_lexer": "ipython3",
   "version": "3.10.10"
  }
 },
 "nbformat": 4,
 "nbformat_minor": 5
}
