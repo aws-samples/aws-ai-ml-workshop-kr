{
 "cells": [
  {
   "cell_type": "code",
   "execution_count": 2,
   "id": "2c118cc4-d18a-44ee-b351-fcc5184f7c17",
   "metadata": {},
   "outputs": [
    {
     "name": "stdout",
     "output_type": "stream",
     "text": [
      "CSV 파일이 생성되었습니다: app_power_consumption.csv\n"
     ]
    }
   ],
   "source": [
    "import csv\n",
    "from datetime import datetime, timedelta\n",
    "import random\n",
    "\n",
    "# 시작 날짜와 종료 날짜 설정\n",
    "start_date = datetime(2024, 5, 1)\n",
    "end_date = datetime(2024, 7, 31)\n",
    "\n",
    "# 앱 목록\n",
    "apps = ['app_a', 'app_b', 'app_c', 'app_d', 'app_e']\n",
    "\n",
    "# CSV 파일 생성\n",
    "with open('./dataset/app_power_consumption.csv', 'w', newline='', encoding='utf-8') as file:\n",
    "    writer = csv.writer(file)\n",
    "    \n",
    "    # 헤더 작성\n",
    "    writer.writerow(['날짜'] + apps)\n",
    "    \n",
    "    # 날짜별 데이터 생성\n",
    "    current_date = start_date\n",
    "    while current_date <= end_date:\n",
    "        row = [current_date.strftime('%Y-%m-%d')]\n",
    "        for app in apps:\n",
    "            # 각 앱의 전력 소비량을 80에서 160 사이의 랜덤 값으로 설정\n",
    "            power_consumption = random.randint(80, 160)\n",
    "            row.append(power_consumption)\n",
    "        writer.writerow(row)\n",
    "        current_date += timedelta(days=1)\n",
    "\n",
    "print(\"CSV 파일이 생성되었습니다: app_power_consumption.csv\")"
   ]
  },
  {
   "cell_type": "code",
   "execution_count": null,
   "id": "34204fc9-42a8-4547-a9c5-5d118c1f231b",
   "metadata": {},
   "outputs": [],
   "source": []
  }
 ],
 "metadata": {
  "kernelspec": {
   "display_name": "Python 3 (ipykernel)",
   "language": "python",
   "name": "python3"
  },
  "language_info": {
   "codemirror_mode": {
    "name": "ipython",
    "version": 3
   },
   "file_extension": ".py",
   "mimetype": "text/x-python",
   "name": "python",
   "nbconvert_exporter": "python",
   "pygments_lexer": "ipython3",
   "version": "3.10.14"
  }
 },
 "nbformat": 4,
 "nbformat_minor": 5
}
