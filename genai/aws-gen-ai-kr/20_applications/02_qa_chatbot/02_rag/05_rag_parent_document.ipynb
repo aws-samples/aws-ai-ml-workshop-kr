{
 "cells": [
  {
   "cell_type": "markdown",
   "id": "5deb2df2-413d-49bd-a829-3a1fc344937e",
   "metadata": {},
   "source": [
    "# RAG Based on parent document\n",
    "- Hybrid Search\n",
    "- ReRanker\n",
    "- [Parent Document](https://medium.aiplanet.com/advanced-rag-providing-broader-context-to-llms-using-parentdocumentretriever-cc627762305a)\n",
    "    "
   ]
  },
  {
   "cell_type": "markdown",
   "id": "b1f81abc-3277-4a6b-9ef1-d4f997d67fbe",
   "metadata": {},
   "source": [
    "## Setting\n",
    " - Auto Reload\n",
    " - path for utils"
   ]
  },
  {
   "cell_type": "code",
   "execution_count": 1,
   "id": "ddde4105-b759-4d6c-8214-8e1ab485ae48",
   "metadata": {
    "tags": []
   },
   "outputs": [],
   "source": [
    "%load_ext autoreload\n",
    "%autoreload 2"
   ]
  },
  {
   "cell_type": "code",
   "execution_count": 2,
   "id": "57c2cdb1-d785-4317-afce-938f13141085",
   "metadata": {
    "tags": []
   },
   "outputs": [],
   "source": [
    "import sys, os\n",
    "module_path = \"../../..\"\n",
    "sys.path.append(os.path.abspath(module_path))"
   ]
  },
  {
   "cell_type": "markdown",
   "id": "9c4ade56-8dbc-4ded-b355-7e4bcc971e90",
   "metadata": {},
   "source": [
    "## 1. Bedrock Client 생성"
   ]
  },
  {
   "cell_type": "code",
   "execution_count": 3,
   "id": "cc2d877f-e877-48f6-8dd4-239de20e45cd",
   "metadata": {
    "tags": []
   },
   "outputs": [],
   "source": [
    "import json\n",
    "import boto3\n",
    "from pprint import pprint\n",
    "from termcolor import colored\n",
    "from utils import bedrock, print_ww\n",
    "from utils.bedrock import bedrock_info"
   ]
  },
  {
   "cell_type": "markdown",
   "id": "088e6490-c79a-49e4-841c-9fdb91292608",
   "metadata": {},
   "source": [
    "### ---- ⚠️ Un-comment and edit the below lines as needed for your AWS setup ⚠️ ----\n",
    "- os.environ[\"AWS_DEFAULT_REGION\"] = \"<REGION_NAME>\"  # E.g. \"us-east-1\"\n",
    "- os.environ[\"AWS_PROFILE\"] = \"<YOUR_PROFILE>\"\n",
    "- os.environ[\"BEDROCK_ASSUME_ROLE\"] = \"<YOUR_ROLE_ARN>\"  # E.g. \"arn:aws:...\"\n",
    "- os.environ[\"BEDROCK_ENDPOINT_URL\"] = \"<YOUR_ENDPOINT_URL>\"  # E.g. \"https://...\""
   ]
  },
  {
   "cell_type": "code",
   "execution_count": 4,
   "id": "cab9312c-5f61-4730-96c3-5eef54a5f08c",
   "metadata": {
    "tags": []
   },
   "outputs": [
    {
     "name": "stdout",
     "output_type": "stream",
     "text": [
      "Create new client\n",
      "  Using region: None\n",
      "  Using profile: None\n",
      "boto3 Bedrock client successfully created!\n",
      "bedrock-runtime(https://bedrock-runtime.us-east-1.amazonaws.com)\n",
      "\u001b[32m\n",
      "== FM lists ==\u001b[0m\n",
      "{'Claude-Instant-V1': 'anthropic.claude-instant-v1',\n",
      " 'Claude-V1': 'anthropic.claude-v1',\n",
      " 'Claude-V2': 'anthropic.claude-v2',\n",
      " 'Claude-V2-1': 'anthropic.claude-v2:1',\n",
      " 'Cohere-Embeddings-En': 'cohere.embed-english-v3',\n",
      " 'Cohere-Embeddings-Multilingual': 'cohere.embed-multilingual-v3',\n",
      " 'Command': 'cohere.command-text-v14',\n",
      " 'Command-Light': 'cohere.command-light-text-v14',\n",
      " 'Jurassic-2-Mid': 'ai21.j2-mid-v1',\n",
      " 'Jurassic-2-Ultra': 'ai21.j2-ultra-v1',\n",
      " 'Llama2-13b-Chat': 'meta.llama2-13b-chat-v1',\n",
      " 'Titan-Embeddings-G1': 'amazon.titan-embed-text-v1',\n",
      " 'Titan-Text-G1': 'amazon.titan-text-express-v1',\n",
      " 'Titan-Text-G1-Light': 'amazon.titan-text-lite-v1'}\n"
     ]
    }
   ],
   "source": [
    "boto3_bedrock = bedrock.get_bedrock_client(\n",
    "    assumed_role=os.environ.get(\"BEDROCK_ASSUME_ROLE\", None),\n",
    "    endpoint_url=os.environ.get(\"BEDROCK_ENDPOINT_URL\", None),\n",
    "    region=os.environ.get(\"AWS_DEFAULT_REGION\", None),\n",
    ")\n",
    "\n",
    "aws_region = os.environ.get(\"AWS_DEFAULT_REGION\", None)\n",
    "print (colored(\"\\n== FM lists ==\", \"green\"))\n",
    "pprint (bedrock_info.get_list_fm_models(verbose=False))"
   ]
  },
  {
   "cell_type": "markdown",
   "id": "241a9e34-417a-422f-9f75-cb211b2e70e1",
   "metadata": {
    "tags": []
   },
   "source": [
    "## 2. Titan Embedding 및 LLM 인 Claude-v2 모델 로딩"
   ]
  },
  {
   "cell_type": "markdown",
   "id": "29bf63d2-4110-407c-af06-a45d2fbed4b5",
   "metadata": {},
   "source": [
    "### LLM 로딩 (Claude-v2)"
   ]
  },
  {
   "cell_type": "code",
   "execution_count": 5,
   "id": "9c51443a-04f9-465c-9564-53053eb3e1c2",
   "metadata": {
    "tags": []
   },
   "outputs": [],
   "source": [
    "from langchain.llms.bedrock import Bedrock\n",
    "from langchain.callbacks.streaming_stdout import StreamingStdOutCallbackHandler"
   ]
  },
  {
   "cell_type": "code",
   "execution_count": 6,
   "id": "d09e84e0-b9e1-4b12-8e7a-68f03c5416e5",
   "metadata": {
    "tags": []
   },
   "outputs": [
    {
     "data": {
      "text/plain": [
       "Bedrock(client=<botocore.client.BedrockRuntime object at 0x7f4812f7bb50>, model_id='anthropic.claude-v2:1', model_kwargs={'max_tokens_to_sample': 4000, 'temperature': 0.1, 'top_k': 3, 'top_p': 0.1, 'stop_sequences': ['\\n\\nHuman:']}, streaming=True, callbacks=[<langchain_core.callbacks.streaming_stdout.StreamingStdOutCallbackHandler object at 0x7f48364e67a0>])"
      ]
     },
     "execution_count": 6,
     "metadata": {},
     "output_type": "execute_result"
    }
   ],
   "source": [
    "llm_text = Bedrock(\n",
    "    model_id=bedrock_info.get_model_id(model_name=\"Claude-V2-1\"),\n",
    "    client=boto3_bedrock,\n",
    "    model_kwargs={\n",
    "        \"max_tokens_to_sample\": 4000,\n",
    "        \"temperature\": 0.1,\n",
    "        \"top_k\": 3,\n",
    "        \"top_p\": 0.1,\n",
    "        \"stop_sequences\": [\"\\n\\nHuman:\"]\n",
    "    },\n",
    "    streaming=True,\n",
    "    callbacks=[StreamingStdOutCallbackHandler()]\n",
    ")\n",
    "llm_text"
   ]
  },
  {
   "cell_type": "markdown",
   "id": "3ba2e829-af8f-4e90-b994-59106cdec8d8",
   "metadata": {},
   "source": [
    "### Embedding 모델 선택"
   ]
  },
  {
   "cell_type": "code",
   "execution_count": 7,
   "id": "0b7b8752-d1e3-4f41-ba35-6da42c3785db",
   "metadata": {
    "tags": []
   },
   "outputs": [],
   "source": [
    "from utils.rag import KoSimCSERobertaContentHandler, SagemakerEndpointEmbeddingsJumpStart"
   ]
  },
  {
   "cell_type": "code",
   "execution_count": 8,
   "id": "793b03f7-3186-4969-b76a-98fe56bd5fdc",
   "metadata": {
    "tags": []
   },
   "outputs": [],
   "source": [
    "def get_embedding_model(is_bedrock_embeddings, is_KoSimCSERobert, aws_region, endpont_name=None):\n",
    "    \n",
    "    if is_bedrock_embeddings:\n",
    "        # We will be using the Titan Embeddings Model to generate our Embeddings.\n",
    "        from langchain.embeddings import BedrockEmbeddings\n",
    "        llm_emb = BedrockEmbeddings(\n",
    "            client=boto3_bedrock,\n",
    "            model_id=bedrock_info.get_model_id(\n",
    "                model_name=\"Titan-Embeddings-G1\"\n",
    "            )\n",
    "        )\n",
    "        print(\"Bedrock Embeddings Model Loaded\")\n",
    "\n",
    "    elif is_KoSimCSERobert:\n",
    "        LLMEmbHandler = KoSimCSERobertaContentHandler()\n",
    "        endpoint_name_emb = endpont_name\n",
    "        llm_emb = SagemakerEndpointEmbeddingsJumpStart(\n",
    "            endpoint_name=endpoint_name_emb,\n",
    "            region_name=aws_region,\n",
    "            content_handler=LLMEmbHandler,\n",
    "        )\n",
    "        print(\"KoSimCSERobert Embeddings Model Loaded\")\n",
    "    else:\n",
    "        llm_emb = None\n",
    "        print(\"No Embedding Model Selected\")\n",
    "\n",
    "    return llm_emb"
   ]
  },
  {
   "cell_type": "markdown",
   "id": "cd72a6b8-eaf0-4036-a530-3bde5ba988cd",
   "metadata": {},
   "source": [
    "#### [중요] is_KoSimCSERobert == True 일시에 endpoint_name 을 꼭 넣어 주세요."
   ]
  },
  {
   "cell_type": "code",
   "execution_count": 9,
   "id": "f42e032b-8715-432c-ae71-12a889f8ffc0",
   "metadata": {
    "tags": []
   },
   "outputs": [
    {
     "name": "stdout",
     "output_type": "stream",
     "text": [
      "Bedrock Embeddings Model Loaded\n"
     ]
    }
   ],
   "source": [
    "is_bedrock_embeddings = True\n",
    "is_KoSimCSERobert = False\n",
    "aws_region = os.environ.get(\"AWS_DEFAULT_REGION\", None)\n",
    "\n",
    "##############################\n",
    "# Parameters for is_KoSimCSERobert\n",
    "##############################\n",
    "if is_KoSimCSERobert: endpont_name = \"<endpoint-name>\"\n",
    "else: endpont_name = None\n",
    "##############################\n",
    "\n",
    "llm_emb = get_embedding_model(is_bedrock_embeddings, is_KoSimCSERobert, aws_region, endpont_name)   "
   ]
  },
  {
   "cell_type": "markdown",
   "id": "e10b67d5-382e-4715-a841-eb07b8655da8",
   "metadata": {},
   "source": [
    "## 3. Depoly ReRanker model (if needed)"
   ]
  },
  {
   "cell_type": "code",
   "execution_count": 10,
   "id": "9a08a296-41ef-44cb-857b-63d05a8d187c",
   "metadata": {
    "tags": []
   },
   "outputs": [
    {
     "name": "stdout",
     "output_type": "stream",
     "text": [
      "sagemaker.config INFO - Not applying SDK defaults from location: /etc/xdg/sagemaker/config.yaml\n",
      "sagemaker.config INFO - Not applying SDK defaults from location: /home/ec2-user/SageMaker/.xdg/config/sagemaker/config.yaml\n"
     ]
    }
   ],
   "source": [
    "import json\n",
    "import sagemaker\n",
    "from sagemaker.huggingface import HuggingFaceModel"
   ]
  },
  {
   "cell_type": "code",
   "execution_count": 11,
   "id": "33dd04a7-8200-49e7-ae69-55a82be199b4",
   "metadata": {
    "tags": []
   },
   "outputs": [],
   "source": [
    "depoly = False"
   ]
  },
  {
   "cell_type": "code",
   "execution_count": 12,
   "id": "9d40e3dd-a19f-4af3-831a-0cfe79e72cb3",
   "metadata": {
    "tags": []
   },
   "outputs": [],
   "source": [
    "if depoly:\n",
    "\n",
    "    try:\n",
    "        role = sagemaker.get_execution_role()\n",
    "    except ValueError:\n",
    "        iam = boto3.client('iam')\n",
    "        role = iam.get_role(RoleName='sagemaker_execution_role')['Role']['Arn']\n",
    "\n",
    "    # Hub Model configuration. https://huggingface.co/models\n",
    "    hub = {\n",
    "        'HF_MODEL_ID':'BAAI/bge-reranker-large',\n",
    "        'HF_TASK':'text-classification'\n",
    "    }\n",
    "\n",
    "    # create Hugging Face Model Class\n",
    "    huggingface_model = HuggingFaceModel(\n",
    "        transformers_version='4.26.0',\n",
    "        pytorch_version='1.13.1',\n",
    "        py_version='py39',\n",
    "        env=hub,\n",
    "        role=role, \n",
    "    )\n",
    "\n",
    "    # deploy model to SageMaker Inference\n",
    "    predictor = huggingface_model.deploy(\n",
    "        initial_instance_count=1, # number of instances\n",
    "        instance_type='ml.g5.xlarge' # instance type\n",
    "    )\n",
    "\n",
    "    print(f'Accept: {predictor.accept}')\n",
    "    print(f'ContentType: {predictor.content_type}')\n",
    "    print(f'Endpoint: {predictor.endpoint}')"
   ]
  },
  {
   "cell_type": "markdown",
   "id": "20e648ef-01ec-4e2f-ba88-7d2510fdb7a6",
   "metadata": {},
   "source": [
    "## 4. Invocation (prediction)"
   ]
  },
  {
   "cell_type": "code",
   "execution_count": 13,
   "id": "114be617-a687-4733-abb9-30394c7ef35f",
   "metadata": {
    "tags": []
   },
   "outputs": [
    {
     "name": "stdout",
     "output_type": "stream",
     "text": [
      "runtime_client: <botocore.client.SageMakerRuntime object at 0x7f4706ccf040>\n"
     ]
    }
   ],
   "source": [
    "runtime_client = boto3.Session().client('sagemaker-runtime')\n",
    "print (f'runtime_client: {runtime_client}')"
   ]
  },
  {
   "cell_type": "code",
   "execution_count": 22,
   "id": "26ee5c45-de87-4a2b-bc04-bbc649fcd0c6",
   "metadata": {
    "tags": []
   },
   "outputs": [],
   "source": [
    "#endpoint_name = \"huggingface-pytorch-inference-2023-11-15-04-37-45-120\" # ml.m5.2xlarge\n",
    "endpoint_name = \"huggingface-pytorch-inference-2024-01-02-06-37-47-976\" # ml.g5.xlarge\n",
    "deserializer = \"application/json\""
   ]
  },
  {
   "cell_type": "code",
   "execution_count": 23,
   "id": "bd6288ed-b4fa-466f-9e2b-57484b827b0a",
   "metadata": {
    "tags": []
   },
   "outputs": [],
   "source": [
    "payload = json.dumps(\n",
    "    {\n",
    "        \"inputs\": [\n",
    "            {\"text\": \"I hate you\", \"text_pair\": \"I don't like you\"},\n",
    "            {\"text\": \"He hates you\", \"text_pair\": \"He like you\"}\n",
    "        ]\n",
    "    }\n",
    ")"
   ]
  },
  {
   "cell_type": "code",
   "execution_count": 24,
   "id": "124fd3f0-2b81-4b2b-af97-2f22b101f25d",
   "metadata": {
    "tags": []
   },
   "outputs": [],
   "source": [
    "payload = json.dumps(\n",
    "    {\n",
    "        \"inputs\": [\n",
    "            {\"text\": \"나는 너를 사랑하지 않아\", \"text_pair\": \"나는 너를 좋아하지 않아\"},\n",
    "            {\"text\": \"그는 너를 싫어해\", \"text_pair\": \"그는 너를 좋아해\"}\n",
    "        ]\n",
    "    }\n",
    ")"
   ]
  },
  {
   "cell_type": "code",
   "execution_count": 25,
   "id": "c1eebe88-8b92-4e81-a103-b5a5d7a91bb3",
   "metadata": {
    "tags": []
   },
   "outputs": [
    {
     "name": "stdout",
     "output_type": "stream",
     "text": [
      "Response: [{'label': 'LABEL_0', 'score': 0.9993010759353638}, {'label': 'LABEL_0', 'score': 0.021486487239599228}]\n",
      "CPU times: user 2.35 ms, sys: 0 ns, total: 2.35 ms\n",
      "Wall time: 37.1 ms\n"
     ]
    }
   ],
   "source": [
    "%%time\n",
    "response = runtime_client.invoke_endpoint(\n",
    "    EndpointName=endpoint_name,\n",
    "    ContentType=\"application/json\",\n",
    "    Accept=deserializer,\n",
    "    Body=payload\n",
    ")\n",
    "## deserialization\n",
    "out = json.loads(response['Body'].read().decode()) ## for json\n",
    "print (f'Response: {out}')"
   ]
  },
  {
   "cell_type": "markdown",
   "id": "7e432237-b9b5-4be3-aa0c-c30eeca6f480",
   "metadata": {},
   "source": [
    "## 5. LangChain OpenSearch VectorStore 정의\n",
    "### 선수 조건\n",
    "- 01_preprocess_docs/02_load_docs_opensearch.ipynb를 통해서 OpenSearch Index 가 생성이 되어 있어야 합니다.\n",
    "#### [중요] 아래에 aws parameter store 에 아래 인증정보가 먼저 입력되어 있어야 합니다.\n",
    "- 01_preprocess_docs/01_parameter_store_example.ipynb 참고"
   ]
  },
  {
   "cell_type": "code",
   "execution_count": 26,
   "id": "635ffe33-b1b1-49f7-ae14-07b782d30a63",
   "metadata": {
    "tags": []
   },
   "outputs": [],
   "source": [
    "from utils.proc_docs import get_parameter"
   ]
  },
  {
   "cell_type": "code",
   "execution_count": 27,
   "id": "42d192b6-68ce-465e-9fa7-04b5201f4453",
   "metadata": {
    "tags": []
   },
   "outputs": [],
   "source": [
    "ssm = boto3.client(\"ssm\", \"us-east-1\")\n",
    "\n",
    "opensearch_domain_endpoint = get_parameter(\n",
    "    boto3_client = ssm,\n",
    "    parameter_name = 'knox_opensearch_domain_endpoint',\n",
    ")\n",
    "\n",
    "opensearch_user_id = get_parameter(\n",
    "    boto3_client = ssm,\n",
    "    parameter_name = 'knox_opensearch_userid',\n",
    ")\n",
    "\n",
    "opensearch_user_password = get_parameter(\n",
    "    boto3_client = ssm,\n",
    "    parameter_name = 'knox_opensearch_password',\n",
    ")"
   ]
  },
  {
   "cell_type": "code",
   "execution_count": 28,
   "id": "fc7866fd-fd9c-4b41-b600-a91e43edfe4d",
   "metadata": {
    "tags": []
   },
   "outputs": [],
   "source": [
    "opensearch_domain_endpoint = opensearch_domain_endpoint\n",
    "rag_user_name = opensearch_user_id\n",
    "rag_user_password = opensearch_user_password\n",
    "\n",
    "http_auth = (rag_user_name, rag_user_password) # Master username, Master password"
   ]
  },
  {
   "cell_type": "markdown",
   "id": "161a900e-effc-4d7f-a179-b6c00eac03ad",
   "metadata": {
    "tags": []
   },
   "source": [
    "### Index 이름 셋팅\n",
    "- 이전 노트북 01_preprocess_docs/02_load_docs_opensearch.ipynb를 통해서 생성된 OpenSearch Index name 입력\n",
    "- parent document 용으로 생성된 index 사용할 것 "
   ]
  },
  {
   "cell_type": "code",
   "execution_count": 29,
   "id": "d5d9b5eb-052e-4e84-846b-c5385e853ba4",
   "metadata": {
    "tags": []
   },
   "outputs": [],
   "source": [
    "#index_name = \"v16-genai-poc-knox-eval-parent-doc-retriever\"\n",
    "#index_name = \"v15-genai-poc-knox-parent-doc-retriever\"\n",
    "index_name = \"v18-genai-poc-knox-kor-parent-doc-retriever\""
   ]
  },
  {
   "cell_type": "markdown",
   "id": "482f5785-b88d-44fa-a603-080e4bd734a6",
   "metadata": {},
   "source": [
    "### OpenSearch Client 생성"
   ]
  },
  {
   "cell_type": "code",
   "execution_count": 30,
   "id": "968b7502-5799-4702-bc17-959e88c330a2",
   "metadata": {
    "tags": []
   },
   "outputs": [],
   "source": [
    "from utils.opensearch import opensearch_utils"
   ]
  },
  {
   "cell_type": "code",
   "execution_count": 31,
   "id": "6ceb46a1-e425-4f7e-9319-793b55abb938",
   "metadata": {
    "tags": []
   },
   "outputs": [],
   "source": [
    "os_client = opensearch_utils.create_aws_opensearch_client(\n",
    "    aws_region,\n",
    "    opensearch_domain_endpoint,\n",
    "    http_auth\n",
    ")"
   ]
  },
  {
   "cell_type": "markdown",
   "id": "b41d685c-7590-42fd-9f8f-339b2ff197f5",
   "metadata": {},
   "source": [
    "# 아래수정"
   ]
  },
  {
   "cell_type": "markdown",
   "id": "a5084376-7523-4cf9-9123-adc4ae79f66d",
   "metadata": {
    "tags": []
   },
   "source": [
    "## 6. Retriever based on Hybrid Search + ParentDocument + ReRanker\n",
    "- LangChain에서 제공하는 **BaseRetriever** 클래스를 상속받아 **Custom Retriever**를 정의 할 수 있습니다.\n",
    "- Hybrid-Search에 대한 자세한 내용는 **\"01_rag_hybrid_search.ipyno\"** 에서 확인 가능합니다.\n",
    "- [Parent Document](https://towardsdatascience.com/forget-rag-the-future-is-rag-fusion-1147298d8ad1)\n",
    "![parent-document.png](../../../imgs/parent-document.png)"
   ]
  },
  {
   "cell_type": "markdown",
   "id": "29cf3877-ed50-4ca6-b319-fca654f011cc",
   "metadata": {
    "tags": []
   },
   "source": [
    "## Parent documents in Hybrid search\n",
    "- Lexical search: parent documents only\n",
    "- Semantic search: child documents first, getting parent documents corresponding to that child document"
   ]
  },
  {
   "cell_type": "code",
   "execution_count": 32,
   "id": "5db8e470-63a9-4c3d-94c8-1d270a6da822",
   "metadata": {
    "tags": []
   },
   "outputs": [],
   "source": [
    "from utils.rag import OpenSearchHybridSearchRetriever"
   ]
  },
  {
   "cell_type": "markdown",
   "id": "d7feac2f-21a2-4756-b989-66c180bb1e79",
   "metadata": {},
   "source": [
    "- 필터 설정 예시\n",
    "- filter=[ <BR>\n",
    "    　{\"term\": {\"metadata.[**your_metadata_attribute_name**]\": \"**your first keyword**\"}}, <BR>\n",
    "    　{\"term\": {\"metadata.[**your_metadata_attribute_name**]\": \"**your second keyword**\"}},<BR>\n",
    "]"
   ]
  },
  {
   "cell_type": "code",
   "execution_count": 33,
   "id": "49c7e131-294f-4ff8-9331-989709c7079c",
   "metadata": {
    "tags": []
   },
   "outputs": [],
   "source": [
    "opensearch_hybrid_retriever = OpenSearchHybridSearchRetriever(\n",
    "    os_client=os_client,\n",
    "    index_name=index_name,\n",
    "    llm_text=llm_text, # llm for query augmentation in both rag_fusion and HyDE\n",
    "    llm_emb=llm_emb, # Used in semantic search based on opensearch \n",
    "\n",
    "    # option for lexical\n",
    "    minimum_should_match=0,\n",
    "    filter=[],\n",
    "\n",
    "    # option for search\n",
    "    fusion_algorithm=\"RRF\", # [\"RRF\", \"simple_weighted\"], rank fusion 방식 정의\n",
    "    ensemble_weights=[.51, .49], # [for semantic, for lexical], Semantic, Lexical search 결과에 대한 최종 반영 비율 정의\n",
    "    reranker=True, # enable reranker with reranker model\n",
    "    reranker_endpoint_name=endpoint_name, # endpoint name for reranking model\n",
    "    parent_document = True, # enable parent document\n",
    "\n",
    "    # option for async search\n",
    "    async_mode=True,\n",
    "\n",
    "    # option for output\n",
    "    k=5, # 최종 Document 수 정의\n",
    "    verbose=True,\n",
    ")"
   ]
  },
  {
   "cell_type": "markdown",
   "id": "cfb26835-ad98-41c5-9e9d-2453642e3551",
   "metadata": {},
   "source": [
    "### Retrieval example\n",
    "- default search"
   ]
  },
  {
   "cell_type": "code",
   "execution_count": 34,
   "id": "9c06e89f-79de-413c-ba9c-a188ca3fe2d0",
   "metadata": {
    "tags": []
   },
   "outputs": [],
   "source": [
    "from utils.rag import show_context_used"
   ]
  },
  {
   "cell_type": "code",
   "execution_count": 35,
   "id": "fe3bfee3-dac1-45b9-8795-03e36c1632a9",
   "metadata": {
    "tags": []
   },
   "outputs": [],
   "source": [
    "query = \"what is verify DM\""
   ]
  },
  {
   "cell_type": "code",
   "execution_count": 36,
   "id": "05b13e5e-4a66-4dc8-b18c-42a6e3bd6037",
   "metadata": {
    "tags": []
   },
   "outputs": [
    {
     "name": "stdout",
     "output_type": "stream",
     "text": [
      "\n",
      "[Exeeds ReRanker token limit] Number of chunk_docs after split and chunking= 2\n",
      "\n",
      "\n",
      "[Exeeds ReRanker token limit] Number of chunk_docs after split and chunking= 1\n",
      "\n",
      "\n",
      "[Exeeds ReRanker token limit] Number of chunk_docs after split and chunking= 2\n",
      "\n",
      "\n",
      "[Exeeds ReRanker token limit] Number of chunk_docs after split and chunking= 1\n",
      "\n",
      "\n",
      "[Exeeds ReRanker token limit] Number of chunk_docs after split and chunking= 3\n",
      "\n",
      "\n",
      "[Exeeds ReRanker token limit] Number of chunk_docs after split and chunking= 2\n",
      "\n",
      "===== ParentDocument =====\n",
      "filter: [{'term': {'metadata.family_tree': 'child'}}]\n",
      "# child_docs: 5\n",
      "# parent docs: 5\n",
      "# duplicates: 0\n",
      "##############################\n",
      "async_mode\n",
      "##############################\n",
      "True\n",
      "##############################\n",
      "reranker\n",
      "##############################\n",
      "True\n",
      "##############################\n",
      "rag_fusion\n",
      "##############################\n",
      "False\n",
      "##############################\n",
      "HyDE\n",
      "##############################\n",
      "False\n",
      "##############################\n",
      "parent_document\n",
      "##############################\n",
      "True\n",
      "##############################\n",
      "similar_docs_semantic\n",
      "##############################\n",
      "[(Document(page_content='.이 값은 EMM에서 확인할 수 있습니다.자세한 내용은 안드로이드 개발자 문서\\\\ > DevicePolicyManager #EXTRA_PROVISIONING_DEVICE_ADMIN_SIGNATURE_CHECKSUM 를 참조하십시오.또는 Linux에서 Keytool과 같은 유틸리티를 사용하여 이 값을 가져올 수도 있습니다.내 APK의 서명 체크섬을 받으려면 어떻게 해야 하나요? 를 참조하세요.키툴에 대한 추가 정보는 스택오버플로우에서 확인하세요.EMM 서버 URI - 대상 장치에서 연결할 EMM 서버의 URI를 입력합니다.사용자 지정 JSON 데이터 (EMM에서 정의) - EMM 에이전트로 전송되는 사용자 지정 데이터를 JSON 형식으로 입력합니다.일반적으로 이 정보는 EMM 에이전트가 EMM 서버에 로그인하기 위한 ID와 암호입니다.예:.(선택 사항) DualDAR - 이 설정을 켜면 두 계층 암호화를 통해 기기의 데이터를 보호하는 미사용 데이터 보안 솔루션인 DualDAR를 구성할 수 있습니다.이 기능을 사용하려면 DualDAR 라이선스가 필요합니다.라이선스 없이 DualDAR 지원 프로필에 할당된 모든 장치는 잠깁니다.리셀러에게 문의하여 라이선스를 구매하세요.활성화되면 타사 암호화 애플리케이션 사용과 패키지 및 서명 추가를 모두 선택하여 타사 암호화 앱의 패키지 이름, URL 및 서명을 입력하여 두 번째 암호화 계층을 사용자 지정할 수도 있습니다.저장을 클릭하여 DualDAR 설정 변경 내용을 기록합니다.루트 또는 중간 인증서 - 이 인증서를 업로드하려면 업로드를 클릭하여 파일 브라우저를 엽니다.화면의 지침에 따라 적절한 파일을 찾아 업로드합니다.최대 5개까지 인증서를 배포할 수 있습니다.(선택사항) 장치 등록 화면 - Android 버전에 따라 장치 설정 시 등록 화면을 건너뛰고 장치 등록을 간소화합니다. Android 버전, 어떤 화면을 건너뛸 수 있나요?,, -, -, 안드로이드 13 이상, 모든 안드로이드 엔터프라이즈 설정 화면 건너뛰기', metadata={'source': 'all_processed_data_ko.json', 'seq_num': 462, 'title': '관리자를 위한 설정 및 구성', 'url': 'https://docs.samsungknox.com/admin/knox-mobile-enrollment/on-premise/get-started/setup-and-config-for-admins', 'project': 'KME', 'last_updated': '2023-10-30', 'family_tree': 'child', 'parent_id': '6013cda6-7b97-4786-9266-311ab63bd395', 'id': 'd0899dbb-3b02-4c24-8e9a-539f17bf8614'}), 1.0), (Document(page_content='장치 증명을 수행하려면 EMM이 어떤 서버와 통신해야 합니까?환경: Knox 프레임워크를 지원하는 모든 삼성 디바이스요약 방화벽은 디바이스 관리 서버와 삼성의 증명 서비스 간의 HTTPS 트래픽을 허용해야 합니다.기기 관리 서버가 각 세션을 시작합니다.일반 증명 API 도메인은 attest-api.secb2b.com입니다.또한 세 가지 지역별 도메인이 있습니다. 중국 지역 - china-attest-api.secb2b.com.cn, 유럽 지역 - eu-attest-api.secb2b.com, 미국 지역 - us-attest-api.secb2b.com 위치 및 EMM 구성에 따라 이러한 도메인 중 하나 또는 여러 개에 대한 트래픽을 허용해야 합니다.', metadata={'source': 'all_processed_data_ko.json', 'seq_num': 1444, 'title': '기기 증명을 수행하려면 EMM이 어떤 서버와 통신해야 합니까?', 'url': 'https://docs.samsungknox.com/admin/knox-platform-for-enterprise/kbas/kba-115013298328', 'project': 'KPE', 'last_updated': '2023-07-26', 'family_tree': 'child', 'parent_id': '9d89ec67-6e2b-4fff-bbae-d6b1437a78ba', 'id': '18774957-2932-429b-9b51-115a60b4ed21'}), 0.9995060129999189), (Document(page_content='범용 자격 증명 관리 (UCM).디지털 자격 증명은 중요한 모바일 보안 구성 요소로서, 신뢰할 수 있는 기관을 활용하여 공개 배포 환경 전반에서 ID를 검증하고 개인 채널을 보호합니다.모바일 장치 자격 증명을 사용하면 보안 Wi-Fi, VPN, 이메일 및 웹 사이트에 원활하게 액세스할 수 있습니다.자격 증명에는 중요한 데이터를 해독하기 위한 ID 및 개인 키를 제공하는 인증서가 포함됩니다.악의적인 사람이 사용자의 ID를 악용하고 기밀 데이터에 액세스하지 못하도록 이러한 자격 증명을 안전하게 저장해야 합니다.범용 자격 증명 관리는 Qualcomm 및 Exynos 칩 장치에서만 작동합니다.보안 요소 Android 앱은 하드웨어 기반 키스토어를 사용하여 삼성 Android 기기에 디지털 자격 증명을 안전하게 저장할 수 있지만, 일부 사용 사례에서는 사용자 자격 증명과 비밀을 보안 요소에 저장해야 하는데, 이는 다음과 같은 폼 팩터로 제공될 수 있습니다. Embedded Secure Element (eSE) - 자격 증명의 저장 및 액세스를 지원하여 추가 하드웨어 없이 기기에 안전하게 저장할 수 있습니다.마이크로 SD 카드, UICC (Universal Integrated Circuit Circuit Card), 스마트 카드 - 스마트 카드는 복원력이 뛰어나 위협 모델이 기기 외부로 신뢰를 이전해야 하는 경우 자격 증명을 저장하는 데 이상적입니다.미국-버라이존, 코리아-올, 재팬-올, 캐나다-텔러스와 같은 국가 및 통신사에서는 삼성 eSE를 사용할 수 없습니다.특정 고객, 특히 정부 및 관련 업계의 고객에게는 자격 증명 및 비밀 저장을 위해 승인된 보안 요소를 사용하도록 요구하는 내부 규정이 있습니다.보안 요소에는 특정 암호화 기능을 제공하는 애플릿이 제공됩니다.사용 사례 UCM 프레임워크는 공급업체가 다음과 같은 기능을 포함하는 기기의 특수 앱에서 솔루션을 사용할 수 있도록 하는 서비스 계층을 구현합니다', metadata={'source': 'all_processed_data_ko.json', 'seq_num': 117, 'title': '범용 자격 증명 관리 (UCM)', 'url': 'https://docs.samsungknox.com/admin/fundamentals/whitepaper/certificate-management/universal-credential-management', 'project': 'USP', 'last_updated': '2023-07-26', 'family_tree': 'child', 'parent_id': '41089cc2-f8b9-4af7-bc55-68ab649b7a4c', 'id': '78aaf115-19f1-4c7e-a46f-7d1b94511750'}), 0.9932204314676746), (Document(page_content='삼성 계정을 등록할 때 확인 이메일을 받지 못하면 어떻게 해야 하나요?확인 이메일을 받지 못할 수 있는 몇 가지 시나리오와 시도해 볼 수 있는 조치는 다음과 같습니다. 시나리오 조치 2단계 인증에 사용되는 디바이스에 액세스할 수 없습니다.해당 지역의 삼성 지원에 문의하세요.신원 (성명, 생년월일, 기기 IMEI 또는 일련 번호) 을 확인한 후에는 2단계 인증을 일시적으로 비활성화합니다.그런 다음 계정에 로그인하여 새 기기를 등록하거나 2단계 인증에 사용되는 전화번호를 변경할 수 있습니다.백업 코드를 잃어버렸습니다.해당 지역의 삼성 지원에 문의하세요.신원 (성명, 생년월일, 기기 IMEI 또는 일련 번호) 을 확인한 후 새 백업 코드를 보내드립니다.삼성 계정을 등록하는 데 사용한 이메일 계정에는 액세스할 수 없습니다.삼성 계정 정책에 따라 이메일 계정에 액세스할 수 없는 경우 새 삼성 계정을 만들어 새 이메일 주소와 연결해야 합니다.그런 다음 새 이메일 주소를 사용하려면 이전 주소로 등록한 모든 Samsung 서비스를 업데이트해야 합니다.이전 이메일 주소를 사용하여 삼성 Knox 서비스에 액세스했다면 Samsung Knox 지원팀에 문의하여 이전 이메일 주소와 새 이메일 주소를 알려주세요.이메일 앱이 확인 이메일을 필터링하고 있습니다.이메일 앱의 정크 또는 스팸 폴더에서 SA.noreply@samsung-mail.com 에서 보낸 확인 이메일을 확인하세요.회사 이메일 서버가 확인 이메일을 필터링하고 있습니다.회사의 IT 관리자는 발신 이메일 주소 SA.noreply@samsung-mail.com 중 하나를 포함하도록 이메일 서버의 허용 목록을 업데이트해야 합니다.아니면 samsungmail.com 도메인을 사용하는 것이 좋습니다.아래의 고급 구성도 참조하십시오.메일 관리자를 위한 고급 구성 samsungmail.com 서버는 RFC 7208에 지정된 발신자 정책 프레임워크 (SPF) 를 사용하여 특정 이메일이 당사로부터 전송되었음을 보장합니다.드문 경우이긴 하지만 도메인에서 samsungmail', metadata={'source': 'all_processed_data_ko.json', 'seq_num': 181, 'title': '삼성 계정을 등록할 때 인증 이메일을 받지 못하면 어떻게 해야 하나요?', 'url': 'https://docs.samsungknox.com/admin/fundamentals/kbas/kba-360032622774', 'project': 'USP', 'last_updated': '2023-07-26', 'family_tree': 'child', 'parent_id': 'da56572f-ab94-4d86-9e34-0aa8708a078d', 'id': '9f7e2e62-6aec-4d3b-8802-168bc5b3f5c7'}), 0.9917291281191456), (Document(page_content='.암호는 고객 MDM의 암호 자격 증명이어야 합니다. 3.저장을 선택하여 업데이트된 암호를 선택한 기기 사용자에게 커밋합니다.장치 사용자 제거 기존 장치 사용자는 더 이상 사용되지 않게 되면 제거할 수 있습니다.기기 사용자를 삭제하고 삭제하려면: 1.장치\"사용자 화면에서 제거가 필요한 장치 사용자의 확인란을 선택합니다.한 번에 둘 이상의 장치 사용자를 제거할 수 있습니다. 2.화면 오른쪽 상단의 작업 드롭다운 메뉴에서 기기 사용자 삭제를 선택합니다. 3.삭제 버튼을 선택하여 기기 사용자 삭제를 진행합니다.일단 제거되면 사용자는 더 이상 장치 사용자 목록에 표시되지 않습니다.기기 사용자 가져오기 (선택 사항) CSV 파일을 사용하여 기기 사용자를 대량으로 가져올 수도 있습니다.장치 목록 내에서 최대 10,000개의 사용자 자격 증명을 대량으로 구성할 수 있습니다. 1.장치 > 대량 작업으로 이동하고 사용자 자격 증명 업로드를 클릭합니다. 2.가져오려는 사용자의 ID가 포함된 CSV 파일을 첨부합니다.제출을 클릭하여 사용자를 KME로 가져옵니다.CSV 파일의 형식을 잘 모르겠으면 대량 작업 페이지로 돌아가 사용자 자격 증명 업로드 섹션에서 지침 보기를 클릭하십시오.', metadata={'source': 'all_processed_data_ko.json', 'seq_num': 427, 'title': '기기 사용자', 'url': 'https://docs.samsungknox.com/admin/knox-mobile-enrollment/features/device-users', 'project': 'KME', 'last_updated': '2023-07-26', 'family_tree': 'child', 'parent_id': '941f023d-3071-42c9-8f59-258bc1a5e831', 'id': 'd82b141b-ca51-4ad2-ae57-e4d8a347d993'}), 0.9907395502114017), (Document(page_content='내 기기의 IMEI 번호를 확인하려면 어떻게 해야 하나요?기기의 IMEI를 확인하는 방법에는 두 가지가 있습니다. 기기에 전화 다이얼러가 있는 경우\\\\ * #06 #을 누르세요.설정 > 휴대폰 정보로 이동하여 IMEI 필드를 찾으십시오.', metadata={'source': 'all_processed_data_ko.json', 'seq_num': 387, 'title': '기기의 IMEI 번호를 확인하려면 어떻게 해야 하나요?', 'url': 'https://docs.samsungknox.com/admin/care-plus/kbas/how-check-imei-number-devices', 'project': 'SCPE', 'last_updated': '2023-07-26', 'family_tree': 'child', 'parent_id': '1176b8c1-8901-498d-9cd0-e3dc9ac9d0a5', 'id': '142868f7-0217-426a-90b0-78c9f6482a00'}), 0.9905051978180243), (Document(page_content='Knox Manage는 어떤 인증 또는 검증을 보유하고 있나요?Knox Manage에 대한 자주 묻는 질문 (FAQ) 에 답변해 드립니다.기업으로부터 받는 가장 일반적인 질문을 살펴보고 서비스에 대해 자세히 알아보세요.삼성 Knox는 전 세계 정부, 보안 회사 및 주요 기업이 설정한 엄격한 보안 요구 사항을 성공적으로 충족하여 비즈니스 사용자에게 강력한 모바일 보안 솔루션을 제공합니다.Knox Manage는 SOC 2 인증을 받았습니다. SOC 2 인증은 고객의 데이터가 무단 사용자로부터 보호되고 비공개로 보호된다는 것을 증명합니다.또한 Knox Manage는 Google의 B2B 검증 프로그램에서 안드로이드 엔터프라이즈 권장 및 크롬 엔터프라이즈 권장으로 모두 선정되었습니다.', metadata={'source': 'all_processed_data_ko.json', 'seq_num': 1089, 'title': 'Knox Manage는 어떤 인증 또는 검증을 보유하고 있나요?', 'url': 'https://docs.samsungknox.com/admin/knox-manage/faq/#what-certifications-validations-does-knox-manage-hold', 'project': 'KM', 'last_updated': '2023-11-08', 'family_tree': 'child', 'parent_id': '7b3e3004-1169-4ce6-b1f9-89ec9c755dc9', 'id': '9ce8ca75-efc7-4a1b-9c6e-d1c5f1d1fd05'}), 0.9863895378927301)]\n",
      "##############################\n",
      "similar_docs_keyword\n",
      "##############################\n",
      "[(Document(page_content='.기기 목록에서 테스트 캠페인에 할당할 기기를 하나 이상 선택합니다.참고 - 테스트 캠페인을 만들 때 적용할 펌웨어 버전을 선택할 수 없습니다.대신 기본적으로 더미 펌웨어가 적용됩니다. 6.할당을 클릭합니다. 7.생성 및 활성화를 클릭합니다.캠페인이 캠페인 목록에 추가됩니다. 8.디바이스에서 더미 펌웨어 업데이트를 확인하세요.캠페인이 성공적으로 적용되면 기기 상태가 캠페인 활성으로 변경됩니다.다음 예에서 적용할 더미 펌웨어의 파일 확장자는.DM.9입니다.테스트 캠페인을 완료하면 더미 펌웨어를 일반 펌웨어로 되돌리세요. 1.기기 > 모든 기기로 이동합니다. 2.작업 > 캠페인 할당 취소를 클릭합니다.장치 상태가 등록됨으로 변경되고 더미 펌웨어가 일반 펌웨어로 되돌아갑니다.', metadata={'source': 'all_processed_data_ko.json', 'seq_num': 230, 'title': '테스트 캠페인 만들기', 'url': 'https://docs.samsungknox.com/admin/efota-one/features/create-a-campaign/create-a-test-campaign', 'project': 'EFOTA', 'last_updated': '2023-07-26', 'family_tree': 'child', 'parent_id': 'bd8a8564-89b8-42bf-b950-957c99d4b50e', 'id': 'd2ebe510-cf79-4787-8561-f35f38f8568c'}), 1.0), (Document(page_content='.다른 경우에는 개인 프로필에서 UCM 플러그인 클라이언트를 제거해야 합니다.변경하지 않으면 #What 가 발생하나요?Knox UCM 프레임워크는 UEM 콘솔, UEM 에이전트 및 UCM 플러그인 클라이언트가 동기화되지 않기 때문에 Android 11 업그레이드 전에 개인 프로필의 UCM 플러그인 클라이언트 및 UCM 정책을 제거하지 않습니다.따라서 아무 조치도 취하지 않으면 Android 11 업그레이드 이후에도 UCM은 작동하지만 사용자 0에서는 UCM을 구성하거나 관리할 수 없습니다.이로 인해 디바이스가 예기치 않게 동작할 수 있습니다.', metadata={'source': 'all_processed_data_ko.json', 'seq_num': 1346, 'title': '안드로이드 11용 Knox 준비하기', 'url': 'https://docs.samsungknox.com/admin/knox-platform-for-enterprise/migrate-to-android-11/prepare-knox-for-android-11', 'project': 'KPE', 'last_updated': '2023-07-26', 'family_tree': 'child', 'parent_id': '1c8a414d-ba47-4cf0-abd5-a1cc36db4fb1', 'id': '6e15f475-3002-489a-9cdd-0d020d0b8200'}), 0.9487126964279269), (Document(page_content='.Knox VPN 회사 소유 디바이스의 새 Work 프로필에서는 IT 관리자가 개인 프로필에서 VPN을 구성하고 관리할 수 없습니다.따라서 UEM은 Android 11로 업그레이드하기 전에 다음을 수행해야 합니다. 개인 프로필에서 VPN 에이전트를 제거합니다.Android 설정 VPN을 사용하는 경우 개인 프로필에서 VPN 프로필을 삭제하세요.Android 11 업그레이드 전에 업무 프로필 내에서 VPN을 구성하세요.변경하지 않으면 #What 문제가 발생하나요?Knox 프레임워크는 Android 11 업그레이드 전에 개인 프로필의 VPN 에이전트 또는 설정 VPN 프로필을 제거하지 않습니다. UEM 콘솔, UEM 에이전트 및 VPN 공급업체가 동기화되지 않기 때문입니다. .따라서 기기 전체 또는 개인 프로필에서 아무 조치도 취하지 않으면 Android 11 업그레이드 후에도 VPN이 계속 작동하지만 개인 프로필에서는 VPN을 관리할 수 없습니다.참고: VPN 에이전트가 작업 프로필 내에 있는 경우 작업 프로필 내의 VPN 구성을 변경할 필요가 없습니다.유니버설 자격 증명 관리자 (UCM) UCM은 회사 소유 장치의 새 작업 프로필에서 지원되지 않습니다.작업 프로필이 있는 완전 관리형 장치에 배포한 기존 UCM은 회사 소유 장치의 새 작업 프로필로 마이그레이션되지 않습니다.따라서 Android 11로 업그레이드하기 전에 다음 작업을 수행해야 합니다. UCM-ODE 및 UCM-KeyGuard의 경우 Android 11 업그레이드 전에 기기를 공장 초기화해야 합니다.다른 경우에는 개인 프로필에서 UCM 플러그인 클라이언트를 제거해야 합니다.변경하지 않으면 #What 가 발생하나요?Knox UCM 프레임워크는 UEM 콘솔, UEM 에이전트 및 UCM 플러그인 클라이언트가 동기화되지 않기 때문에 Android 11 업그레이드 전에 개인 프로필의 UCM 플러그인 클라이언트 및 UCM 정책을 제거하지 않습니다', metadata={'source': 'all_processed_data_ko.json', 'seq_num': 1346, 'title': '안드로이드 11용 Knox 준비하기', 'url': 'https://docs.samsungknox.com/admin/knox-platform-for-enterprise/migrate-to-android-11/prepare-knox-for-android-11', 'project': 'KPE', 'last_updated': '2023-07-26', 'family_tree': 'child', 'parent_id': '1c8a414d-ba47-4cf0-abd5-a1cc36db4fb1', 'id': 'd4f8a427-ffe6-49d1-8500-5663a9f97f47'}), 0.8875304009959412), (Document(page_content='.Knox 방화벽 및 도메인 필터 Knox 방화벽 및 도메인 필터 API는 회사 소유 디바이스의 새 Work 프로필에서 허용됩니다.Knox SDK에 설명된 대로 부모 인스턴스를 사용하여 API를 호출하여 개인 프로필의 Knox 방화벽 및 도메인 필터를 관리하도록 구현을 업데이트해야 합니다.Knox 글로벌 프록시 회사 소유 디바이스의 새 작업 프로필에서는 IT 관리자가 Knox 글로벌 프록시를 구성하고 관리할 수 없습니다.Knox 프레임워크는 Android 11 업그레이드 후 Knox 글로벌 프록시 정책을 설정 해제합니다.Knox Mobile Enrollment (KME) KME를 통해 직장 프로필이 등록된 완전 관리형 디바이스가 있는 경우 KME 프로필을 업데이트하는 것이 좋습니다. MDM이 기기 소유자 또는 프로필 소유자로 등록하도록 하기: 기기 소유자와 프로필 소유자 간의 차이점을 확인하세요.이제 KME는 신규 기기 등록 시 지원 중단된 기기 관리자 (DA) 모드를 차단합니다.변경하지 않으면 #What 가 발생하나요?KME\"프로필을 업데이트하지 않으면 Android 11 업데이트 및 공장 초기화 후에 기기가 완전 관리형 기기 (기기 소유자) 로 자동 등록됩니다. 업무 프로필이 포함된 완전 관리형 기기는 Android 11에서 더 이상 지원되지 않기 때문입니다.업무용 프로필이 포함된 완전 관리형 디바이스로 등록된 Knox Manage Devices는 Android 11에서 더 이상 지원되지 않으며 회사 소유 디바이스에서는 새 Work 프로필로 마이그레이션됩니다.Knox Manage는 안드로이드 레거시 모드 또는 디바이스 관리자 (DA) 모드를 지원 중단했습니다.자세한 내용은 다음을 참조하십시오', metadata={'source': 'all_processed_data_ko.json', 'seq_num': 1346, 'title': '안드로이드 11용 Knox 준비하기', 'url': 'https://docs.samsungknox.com/admin/knox-platform-for-enterprise/migrate-to-android-11/prepare-knox-for-android-11', 'project': 'KPE', 'last_updated': '2023-07-26', 'family_tree': 'child', 'parent_id': 'e9238b97-7452-440a-bae7-1bf9ea7beac8', 'id': 'ed78c981-f8f6-47f9-81cd-deef6115d19b'}), 0.8851624914397156), (Document(page_content='.xml 를 편집하여 패키지 이름, 인텐트 작업, 카테고리를 정의하세요.Knox Capture는 앱이 안드로이드 인텐트를 수신할 수 있는 세 가지 방법을 제공합니다.자세한 내용은 인텐트 출력 설정을 참조하십시오.다음은 편집할 매니페스트 정보를 보여주는 스니펫입니다.더미 문자열은 반드시 앱과 관련된 문자열로 바꿔야 합니다. ```PackageName = applicationID “com.test.smartscan” AndroidManifest.xml``` 인텐트를 수신하기 위해 액티비티를 사용하는 경우: `````` 인텐트를 수신하기 위해 포그라운드 서비스를 사용하는 경우: ``````인텐트를 수신하기 위해 브로드캐스트 리시버를 사용하는 경우: ```인텐트를 올바르게 정의하기 필터 정보를 사용하면 스캔이 성공할 때마다 Knox Capture가 선택한 방법을 통해 비즈니스 앱에 인텐트를 전달합니다.#What 는 인텐트 출력에 포함됩니다. 스캔이 성공하면 구성된 인텐트가 트리거되어 다음 주요 정보와 함께 비즈니스 앱으로 전송됩니다.# #Test 모드 상태 StartActivity를 인텐트 전송으로 선택한 경우 테스트 모드가 영향을 받을 수 있습니다.테스트 모드가 활성화된 경우 인텐트가 전송되지 않고 비즈니스 앱이 실행되지 않습니다.대신 테스트 모드가 활성화되었음을 알리는 다음과 같은 오류 메시지가 나타납니다. `TestMode에서 활동을 시작하지 마세요!`테스트 모드 상태를 나타내는 키/값 쌍은 다음과 같습니다. ``키: = ProfileConstants.key_intent_test_mode=\"intent_in_testMode” 값: = true/false: Knox Capture 테스트 모드가 켜져 있는지 여부.`` # #The 스캔한 번들 목록 스캔한 바코드 데이터를 포함하는 키/값 쌍은 다음과 같습니다. ```키: = profileConstants.intent_Output_scanned_bundle_List= “com.samsung.smartscan', metadata={'source': 'all_processed_data_ko.json', 'seq_num': 17, 'title': '인텐트 출력 사용', 'url': 'https://docs.samsungknox.com/admin/knox-capture/how-to-guides/use-intent-output', 'project': 'KCAP', 'last_updated': '2023-07-26', 'family_tree': 'child', 'parent_id': 'a4be9444-c02b-4f30-8a8b-cb85125298a4', 'id': '7993be58-53c9-49cd-b7fd-3dac37772f50'}), 0.8619509788891386), (Document(page_content='. 이러한 정책에는 Google Play의 Knox 서비스 플러그인 앱이 필요합니다.관리 대상 기기에서 Knox 서비스 플러그인 (KSP) 을 사용하려면 다음 요구 사항을 충족해야 합니다.#What 1이 필요합니다.안드로이드 엔터프라이즈에 등록된 기기. 2.디바이스에 유효한 Knox Platform for Enterprise (KPE) 라이선스.Knox 라이선스에 대한 자세한 내용은 KPE 관리자 가이드, 라이선스 정보를 참조하십시오.KSP를 사용하여 기본값이 정의된 KSP 정책은 Knox 서비스 플러그인 화면에서 필드를 권장 기본값으로 미리 채웁니다.각 필드의 이러한 값은 Knox 서비스 플러그인 화면에 표시됩니다', metadata={'source': 'all_processed_data_ko.json', 'seq_num': 918, 'title': '안드로이드 엔터프라이즈 정책을 실행하는 삼성 Knox', 'url': 'https://docs.samsungknox.com/admin/knox-manage/configure/profile/configure-profile-policies/samsung-knox-running-android-enterprise-policies', 'project': 'KM', 'last_updated': '2023-07-26', 'family_tree': 'child', 'parent_id': 'c07b3061-0f6d-4f54-9cf7-6029f8cc5838', 'id': '2c757bf8-7c09-4c43-9859-10ac6f034e93'}), 0.8444270330236086), (Document(page_content='. 2.건물 이름 옆의 >를 클릭하여 세부 정보를 펼치세요. 3.그룹에서 추가하려는 Knox Asset Intelligence 디바이스 그룹의 이름을 입력합니다.추가할 그룹을 하나 이상 선택할 수 있습니다. 4.행사장 내 추가 건물에 대해 2단계와 3단계를 반복하세요. 5.요청을 클릭하여 처리하세요.#Verify 장소 장소 정보는 처리를 위해 삼성 관리자에게 제출되며 처리가 완료되면 이메일을 받게 됩니다.삼성 관리자가 장소 정보를 처리한 후에는 건물, 평면도, 부동산이 올바른지 확인해야 합니다. 1.장소 페이지에서 인증 보류 상태인 장소를 선택하세요. 2.작업을 클릭한 다음 장소 인증을 클릭합니다. 3.장소 확인 페이지에는 경계와 부동산이 추가된 평면도가 표시됩니다.부동산의 위치와 평면도 배치가 올바른지 확인하세요.세 가지가 모두 맞으면 모두 예 (Yes for all) 를 선택한 다음 확인 및 게시를 클릭하십시오.올바르지 않은 경우 올바르지 않은 항목에 대해 아니오를 선택한 다음 RETURN을 클릭하십시오.해당하는 각 범주에 대해 부정확성에 대한 설명을 입력하라는 메시지가 표시됩니다.그런 다음 반품 및 처리 요청을 클릭합니다.이동 가능한 자산 위치와 평면도 배치가 올바른지 확인하면 장소 상태가 게시됨으로 변경되고 행사장의 실내 위치 데이터를 확인할 수 있습니다.그렇지 않으면 장소가 삼성 관리자에게 다시 전송되어 다시 처리됩니다.', metadata={'source': 'all_processed_data_ko.json', 'seq_num': 692, 'title': '장소 만들기 (랩)', 'url': 'https://docs.samsungknox.com/admin/knox-asset-intelligence/dashboard/location-dashboard/indoor-location-tracking/create-venues', 'project': 'KAI', 'last_updated': '2023-07-26', 'family_tree': 'child', 'parent_id': '028cb8ca-44dd-4c9d-8bc4-4598c0a8bcf9', 'id': '7021af04-b506-43eb-8ba9-9baf18b23985'}), 0.8423162566009039)]\n",
      "##############################\n",
      "similar_docs\n",
      "##############################\n",
      "[(Document(page_content='범용 자격 증명 관리 (UCM).디지털 자격 증명은 중요한 모바일 보안 구성 요소로서, 신뢰할 수 있는 기관을 활용하여 공개 배포 환경 전반에서 ID를 검증하고 개인 채널을 보호합니다.모바일 장치 자격 증명을 사용하면 보안 Wi-Fi, VPN, 이메일 및 웹 사이트에 원활하게 액세스할 수 있습니다.자격 증명에는 중요한 데이터를 해독하기 위한 ID 및 개인 키를 제공하는 인증서가 포함됩니다.악의적인 사람이 사용자의 ID를 악용하고 기밀 데이터에 액세스하지 못하도록 이러한 자격 증명을 안전하게 저장해야 합니다.범용 자격 증명 관리는 Qualcomm 및 Exynos 칩 장치에서만 작동합니다.보안 요소 Android 앱은 하드웨어 기반 키스토어를 사용하여 삼성 Android 기기에 디지털 자격 증명을 안전하게 저장할 수 있지만, 일부 사용 사례에서는 사용자 자격 증명과 비밀을 보안 요소에 저장해야 하는데, 이는 다음과 같은 폼 팩터로 제공될 수 있습니다. Embedded Secure Element (eSE) - 자격 증명의 저장 및 액세스를 지원하여 추가 하드웨어 없이 기기에 안전하게 저장할 수 있습니다.마이크로 SD 카드, UICC (Universal Integrated Circuit Circuit Card), 스마트 카드 - 스마트 카드는 복원력이 뛰어나 위협 모델이 기기 외부로 신뢰를 이전해야 하는 경우 자격 증명을 저장하는 데 이상적입니다.미국-버라이존, 코리아-올, 재팬-올, 캐나다-텔러스와 같은 국가 및 통신사에서는 삼성 eSE를 사용할 수 없습니다.특정 고객, 특히 정부 및 관련 업계의 고객에게는 자격 증명 및 비밀 저장을 위해 승인된 보안 요소를 사용하도록 요구하는 내부 규정이 있습니다.보안 요소에는 특정 암호화 기능을 제공하는 애플릿이 제공됩니다.사용 사례 UCM 프레임워크는 공급업체가 다음과 같은 기능을 포함하는 기기의 특수 앱에서 솔루션을 사용할 수 있도록 하는 서비스 계층을 구현합니다. 기기 잠금 (키가드) - 사용자는 보안 요소에서 실행되는 애플릿에 자신을 인증하기 위해 PIN을 삽입합니다.PIN 인증이 성공하면 UCM 프레임워크는 자격 증명 저장소에서 암호를 검색합니다. 이 암호는 기기 잠금을 해제하기 위한 기기 암호로 사용됩니다.Data at Rest (DAR) 암호화 - 애플릿은 장치 암호화 키에 대한 또 다른 보호 계층을 제공합니다.UCM을 사용하면 장치 암호화 키를 애플릿으로 래핑할 수 있습니다.래핑된 기기 암호화는 사용자가 기기 부팅 시 올바른 PIN을 제공하면 래핑이 해제됩니다.UCM 프레임워크 범용 자격 증명 관리 (UCM) 프레임워크를 사용하면 Android 앱이 동일한 표준 프로그래밍 인터페이스를 통해 모든 자격 증명 저장 장치에 액세스할 수 있습니다. Java 암호화 확장 (JCE) API는 지원되는 암호화 작업을 수행하는 특정 제공업체, 키 및 인증서 작업을 위한 Android 키체인 API. 보안 요소 솔루션을 제공하는 공급업체 (애플릿 포함) 는 솔루션을 키 저장소 제공자로 등록하는 UCM 플러그인을 구현합니다.앱은 Keystore API를 호출할 때 공급업체의 공급자를 참조하기만 하면 됩니다.UCM 프레임워크의 중요한 이점은 앱 개발자에게 코드를 변경하거나 IT 관리자 또는 최종 사용자에게 앱을 업데이트하도록 강요하지 않고도 스토리지 벤더가 스토리지 공간 및 암호화 작업에 대한 액세스를 제공하는 플러그인을 개발할 수 있다는 점입니다.플러그인은 기본적으로 UCM 프레임워크와 특정 스토리지 디바이스 간의 링크 역할을 합니다.UCM 프레임워크는 자격 증명 서비스를 통합 및 표준화하여 EMM 또는 ISV 앱을 위한 간소화된 인터페이스를 제공합니다. 이러한 앱은 자격 증명을 구성, 프로비전 및 사용하고, 자격 증명 저장소 액세스 권한을 관리하고, 고급 UCM 권한을 활성화합니다.앱은 자격 증명의 설치, 제거 또는 앱별 액세스 제어를 적용할 수 있습니다.저장소 공급자 플러그인 - 이러한 앱은 저장소 공급업체에서 UCM 프레임워크를 해당 저장소 솔루션에 연결하고 저장된 자격 증명을 관리하기 위해 제공합니다.보안 스토리지 - 현재 이 기능에는 보안 요소 섹션에 설명된 Samsung eSE 및 스마트 카드 리더가 포함되어 있습니다.추가 공급업체 플러그인을 통해 다른 스토리지 옵션을 쉽게 지원할 수 있습니다.Knox SDK는 자격 증명 스토리지 공급업체에 UCM API 세트를 제공하여 삼성 디바이스에서 현재 및 미래의 스토리지 옵션을 사용할 수 있도록 하고 솔루션의 구현 세부 정보를 숨겨 모바일 앱 개발자가 Android 키체인과 같은 표준 API를 통해 저장된 자격 증명에 투명하게 액세스할 수 있도록 합니다.마찬가지로 개발자는 Java 암호화 확장 API를 사용하여 암호화 작업을 지원되는 스마트 카드에 오프로드할 수 있습니다.UCM 프레임워크 덕분에 이러한 추상화가 가능해졌기 때문에 모바일 앱 내에 복잡한 벤더별 코드가 필요하지 않습니다. 즉, 기업 고객은 다양한 기존 앱을 사용할 수 있으며 기본 스토리지 구현에 대한 걱정 없이 사내 앱을 쉽게 개발할 수 있습니다.UCM 허용 목록 UCM 프레임워크는 자격 증명 저장소에 대한 액세스 제어를 고유하게 관리하고 완전히 사용자 지정 가능한 액세스 권한을 제공하는 두 가지 유형의 허용 목록을 사용합니다. 앱 허용 목록 - 각 보안 저장소 유형에 액세스할 수 있는 앱을 적용합니다.모든 보안 스토리지 디바이스는 보안 스토리지 솔루션 제공업체가 생성하고 유지 관리하는 해당 UCM 플러그인에 매핑됩니다.자격 증명 허용 목록 - 각 앱의 자격 증명 액세스를 강제하여 앱별 액세스 권한을 제공합니다.관리자는 액세스 제어를 강화하여 악의적이거나 신뢰할 수 없는 앱이 자격 증명을 사용하는 것을 방지할 수 있습니다.', metadata={'source': 'all_processed_data_ko.json', 'seq_num': 117, 'title': '범용 자격 증명 관리 (UCM)', 'url': 'https://docs.samsungknox.com/admin/fundamentals/whitepaper/certificate-management/universal-credential-management', 'project': 'USP', 'last_updated': '2023-07-26', 'family_tree': 'parent', 'parent_id': None}), 0.0015068980658337779), (Document(page_content='테스트 캠페인을 만드세요.Knox E-FOTA 테스트 캠페인을 만드는 방법을 설명합니다. 테스트 캠페인을 통해 더미 펌웨어 버전을 사용하여 캠페인 정책을 테스트할 수 있습니다.테스트 캠페인을 완료하면 테스트 캠페인에서 디바이스를 할당 해제하여 디바이스를 일반 펌웨어로 되돌릴 수 있습니다.더미 펌웨어가 있는 기기에서는 실제 캠페인을 적용할 수 없습니다.EMM에서 Knox E-FOTA에 동기화된 디바이스는 테스트 캠페인에 할당할 수 없습니다. 1.Knox 관리자 포털에 로그인하세요.왼쪽 사이드바에서 Knox E-FOTA를 클릭합니다. 2.캠페인 탭에서 액션 > 테스트 캠페인 생성을 클릭합니다. 3.캠페인 세부 정보를 입력합니다.#Basic 정보 캠페인의 고유한 이름과 캠페인의 새로운 기능에 대한 설명을 설정하세요.#Schedule, 캠페인 기간 - 캠페인에 포함된 디바이스에서 업데이트를 다운로드하고 설치할 수 있는 기간을 설정합니다.캠페인 기간을 무기한으로 실행하려면 시작 날짜만 설정을 선택합니다.펌웨어 설치 기간 - 캠페인 기간 내에서 캠페인 대상 장치가 업데이트 설치를 시작할 수 있는 기간을 설정합니다.이 기간은 기기의 시간대를 기준으로 합니다.캠페인을 즉시 테스트하려면 펌웨어 설치 기간을 다음 값으로 설정하십시오. 시작: 00:00, To: 24:00 이 기간 동안 장치 설치가 시작되지만 이 기간 내에 설치가 종료된다는 보장은 없습니다.펌웨어 다운로드 기간 - 캠페인 기간 내에서 캠페인 대상 장치가 업데이트 다운로드를 시작할 수 있는 기간을 설정합니다.언제든지 다운로드하도록 기기를 설정하거나 펌웨어 설치 기간과 동일한 기간을 사용할 수 있습니다.설치 연기 - 장치 사용자가 설치를 연기할 수 있도록 하려면 이 옵션을 선택합니다.그런 다음, 연기할 수 있는 최대 횟수와 미리 알림 간격을 설정합니다.타이머를 설정할 수도 있습니다. 타이머 제한 시간이 초과되기 전에 기기 사용자가 업데이트 알림을 실행하지 않으면 업데이트가 자동으로 설치됩니다.#Network and Speed Download 네트워크 - 캠페인에 포함된 장치가 업데이트를 다운로드할 수 있는 네트워크를 선택합니다.모든 네트워크 (Wi-Fi 또는 모바일) 에서 다운로드를 허용하도록 선택한 경우 다음을 추가로 수행할 수 있습니다. 로밍 중 펌웨어 다운로드 허용.펌웨어가 특정 크기를 초과하면 Wi-Fi/이더넷으로 전환하도록 캠페인을 설정하십시오.필요한 경우 다운로드 속도도 제어할 수 있습니다.또한 최대 5개의 특정 SSID에 대한 다운로드 속도 제한을 설정할 수 있습니다. #Device 조건: 업데이트 설치를 시작하기 위해 장치에 필요한 배터리 수명을 지정합니다.충전 도크에 연결되지 않은 기기에서는 설치가 시작되지 않도록 할 수도 있습니다.#Factory 재설정 최종 사용자가 기기에서 공장 초기화를 수행하지 못하도록 차단할지 여부를 지정합니다.#Support 연락처 세부 정보 최종 사용자가 지원을 요청할 수 있는 전화번호와 이메일 주소를 입력합니다.이 값을 향후 캠페인의 기본 연락처 정보로 설정할 수도 있습니다. 4.장치 할당을 클릭합니다. 5.기기 목록에서 테스트 캠페인에 할당할 기기를 하나 이상 선택합니다.참고 - 테스트 캠페인을 만들 때 적용할 펌웨어 버전을 선택할 수 없습니다.대신 기본적으로 더미 펌웨어가 적용됩니다. 6.할당을 클릭합니다. 7.생성 및 활성화를 클릭합니다.캠페인이 캠페인 목록에 추가됩니다. 8.디바이스에서 더미 펌웨어 업데이트를 확인하세요.캠페인이 성공적으로 적용되면 기기 상태가 캠페인 활성으로 변경됩니다.다음 예에서 적용할 더미 펌웨어의 파일 확장자는.DM.9입니다.테스트 캠페인을 완료하면 더미 펌웨어를 일반 펌웨어로 되돌리세요. 1.기기 > 모든 기기로 이동합니다. 2.작업 > 캠페인 할당 취소를 클릭합니다.장치 상태가 등록됨으로 변경되고 더미 펌웨어가 일반 펌웨어로 되돌아갑니다.', metadata={'source': 'all_processed_data_ko.json', 'seq_num': 230, 'title': '테스트 캠페인 만들기', 'url': 'https://docs.samsungknox.com/admin/efota-one/features/create-a-campaign/create-a-test-campaign', 'project': 'EFOTA', 'last_updated': '2023-07-26', 'family_tree': 'parent', 'parent_id': None}), 0.000765885750297457), (Document(page_content='기기 사용자.장치 사용자 개요 장치 사용자 화면에는 장치 할당에 사용할 수 있는 사용자가 표시됩니다.CSV 파일을 사용하여 새 사용자를 추가하고, 암호를 편집 또는 제거하고, 사용자 ID/암호를 가져올 수 있습니다.기존 기기 사용자를 검토하려면: 1.왼쪽 탐색 메뉴에서 장치\"사용자를 선택합니다. 2.나열된 각 사용자의 관련성을 평가하려면 다음을 참조하십시오. _USER ID_ - 각 기존 사용자를 선택한 사용자 ID의 암호를 변경하기 위해 선택할 수 있는 링크로 나열합니다.ID와 암호는 모두 고객 MDM의 자격 증명이어야 합니다._PASSWORD_ - 각 사용자의 암호를 나열합니다.기기 사용자 추가 기존 사용자 목록에 새 기기 사용자를 추가하려면: 1.왼쪽 탐색 메뉴에서 장치\"사용자를 선택합니다. 2.화면 오른쪽 상단의 장치 추가\"사용자 버튼을 선택합니다. 3.사용자 ID와 암호를 입력하여 고유한 KME\"장치 사용자 자격 증명을 생성하십시오.ID와 암호는 모두 고객 MDM의 자격 증명이어야 합니다. 4.새 사용자를 저장하려면 추가를 선택합니다.기기 사용자 편집 기존 사용자의 암호를 편집 및 업데이트하려면 (사용자 암호만 수정할 수 있고 사용자 이름은 수정할 수 없음): 1.기기 사용자 화면에서 비밀번호 업데이트가 필요한 기기 사용자의 체크박스를 선택합니다.한 번에 한 명의 기기 사용자만 선택할 수 있습니다. 2.필요에 따라 선택한 사용자의 암호를 업데이트하십시오.로그인 암호 충돌이 발생하는 경우 IT 관리자는 선택적으로 암호 관리 링크를 선택하여 최종 사용자의 암호를 확인할 수 있습니다.암호는 고객 MDM의 암호 자격 증명이어야 합니다. 3.저장을 선택하여 업데이트된 암호를 선택한 기기 사용자에게 커밋합니다.장치 사용자 제거 기존 장치 사용자는 더 이상 사용되지 않게 되면 제거할 수 있습니다.기기 사용자를 삭제하고 삭제하려면: 1.장치\"사용자 화면에서 제거가 필요한 장치 사용자의 확인란을 선택합니다.한 번에 둘 이상의 장치 사용자를 제거할 수 있습니다. 2.화면 오른쪽 상단의 작업 드롭다운 메뉴에서 기기 사용자 삭제를 선택합니다. 3.삭제 버튼을 선택하여 기기 사용자 삭제를 진행합니다.일단 제거되면 사용자는 더 이상 장치 사용자 목록에 표시되지 않습니다.기기 사용자 가져오기 (선택 사항) CSV 파일을 사용하여 기기 사용자를 대량으로 가져올 수도 있습니다.장치 목록 내에서 최대 10,000개의 사용자 자격 증명을 대량으로 구성할 수 있습니다. 1.장치 > 대량 작업으로 이동하고 사용자 자격 증명 업로드를 클릭합니다. 2.가져오려는 사용자의 ID가 포함된 CSV 파일을 첨부합니다.제출을 클릭하여 사용자를 KME로 가져옵니다.CSV 파일의 형식을 잘 모르겠으면 대량 작업 페이지로 돌아가 사용자 자격 증명 업로드 섹션에서 지침 보기를 클릭하십시오.', metadata={'source': 'all_processed_data_ko.json', 'seq_num': 427, 'title': '기기 사용자', 'url': 'https://docs.samsungknox.com/admin/knox-mobile-enrollment/features/device-users', 'project': 'KME', 'last_updated': '2023-07-26', 'family_tree': 'parent', 'parent_id': None}), 0.0004992276561497753), (Document(page_content='.Wi-Fi MAC 주소 무작위화 - 기기가 Wi-Fi 네트워크에 연결될 때마다 라우터에서 무작위 MAC 주소를 할당하여 악의적인 보안 위협이 MAC 주소를 사용하여 기기 활동 기록을 작성하는 것을 방지할 수 있습니다.궁극적으로 이 기능은 기기 사용자 개인 정보 보호를 강화합니다.프록시 정보 - Wi-Fi 네트워크에서 프록시 서버를 사용할지 여부를 설정합니다.보안 정보 - 이 섹션의 필드를 사용하여 보안 유형 및 암호와 같은 자세한 보안 정보를 추가할 수 있습니다.이러한 세부 정보는 Wi-Fi 네트워크를 만들거나 관리하는 네트워크 관리자가 제공합니다. 6.종속 포털 모드 - 종속 포털의 탐지를 제어하려면 종속 포털 모드를 켜십시오 (기본적으로 꺼짐).이렇게 하면 Android 14 이상을 실행하는 디바이스를 Knox 3.10이 설치된 완전 관리형 모드로 등록할 때 네트워크 연결 검증이 건너뛰게 됩니다.다음 두 가지 방법 중 하나로 Capture Portal 모드가 작동하도록 설정할 수 있습니다. 종속 포털을 탐지하려고 하지 마십시오. 종속 포털은 등록 중에 무시됩니다.기본적으로 폐쇄형 네트워크에서 Android Enterprise를 등록하는 데 사용됩니다.탐지되면 사용자에게 로그인하라는 메시지 표시 - 종속 포털이 탐지되면 기기 사용자에게 로그인하라는 알림 메시지 표시 .이 기능을 적용하려면 기기 사용자가 기기를 재부팅한 다음 더하기 기호 (+) 제스처를 사용하여 QR 코드를 다시 스캔해야 합니다. 7.열린 법적 계약 화면에서 다음 설정을 구성한 후 계속을 클릭합니다.대상 장치의 위치, 조직 또는 기타 속성에 따라 사용자 지정 개인 정보 보호 정책, 법률 계약 URI 또는 서비스 약관이 필요한 경우 IT 관리자는 이 화면을 사용하여 사용할 법적 계약을 지정할 수 있습니다.제목 - 장치에 적용되는 법적 계약의 이름을 지정하십시오.법적 계약 URI - 장치에 적용되는 사용자 지정 법률 계약 또는 서비스 약관의 URL을 추가합니다. 8.Android Enterprise 등록 화면에서 다음 설정을 구성한 후 계속을 클릭합니다. EMM 공급자 - EMM 공급자 목록에서 대상 장치를 관리하는 데 사용되는 EMM 제공자의 이름을 선택합니다.EMM 에이전트 URI - 이 프로필에 적용할 수 있는 APK 제공 호스트의 URI를 입력합니다.EMM 에이전트의 수신기 구성 요소 이름 - 기기에 배포된 관리 패키지의 이름을 입력합니다.관리 패키지 구성 요소 이름의 형식은 패키지 이름/클래스 이름으로 설정됩니다.예를 들어 Workspace ONE UEM의 경우 패키지 이름은 `com.Airwatch.androidAgent/com.airwatch.Agent.DeviceAdministratorReceiver`로 설정됩니다.자세한 내용은 KME 관리자 가이드를 참조하십시오.EMM 에이전트 서명 체크섬 - 관리 패키지의 서명 체크섬 값을 입력합니다.관리자 패키지 서명 체크섬은 EMM APK 서명의 Base64로 인코딩된 SHA-256 해시로, URL 친화적입니다.이 값은 EMM에서 확인할 수 있습니다.자세한 내용은 안드로이드 개발자 문서\\\\ > DevicePolicyManager #EXTRA_PROVISIONING_DEVICE_ADMIN_SIGNATURE_CHECKSUM 를 참조하십시오.또는 Linux에서 Keytool과 같은 유틸리티를 사용하여 이 값을 가져올 수도 있습니다.내 APK의 서명 체크섬을 받으려면 어떻게 해야 하나요? 를 참조하세요.키툴에 대한 추가 정보는 스택오버플로우에서 확인하세요.EMM 서버 URI - 대상 장치에서 연결할 EMM 서버의 URI를 입력합니다.사용자 지정 JSON 데이터 (EMM에서 정의) - EMM 에이전트로 전송되는 사용자 지정 데이터를 JSON 형식으로 입력합니다.일반적으로 이 정보는 EMM 에이전트가 EMM 서버에 로그인하기 위한 ID와 암호입니다.예:.(선택 사항) DualDAR - 이 설정을 켜면 두 계층 암호화를 통해 기기의 데이터를 보호하는 미사용 데이터 보안 솔루션인 DualDAR를 구성할 수 있습니다.이 기능을 사용하려면 DualDAR 라이선스가 필요합니다.라이선스 없이 DualDAR 지원 프로필에 할당된 모든 장치는 잠깁니다.리셀러에게 문의하여 라이선스를 구매하세요.활성화되면 타사 암호화 애플리케이션 사용과 패키지 및 서명 추가를 모두 선택하여 타사 암호화 앱의 패키지 이름, URL 및 서명을 입력하여 두 번째 암호화 계층을 사용자 지정할 수도 있습니다.저장을 클릭하여 DualDAR 설정 변경 내용을 기록합니다.루트 또는 중간 인증서 - 이 인증서를 업로드하려면 업로드를 클릭하여 파일 브라우저를 엽니다.화면의 지침에 따라 적절한 파일을 찾아 업로드합니다.최대 5개까지 인증서를 배포할 수 있습니다.(선택사항) 장치 등록 화면 - Android 버전에 따라 장치 설정 시 등록 화면을 건너뛰고 장치 등록을 간소화합니다. Android 버전, 어떤 화면을 건너뛸 수 있나요?,, -, -, 안드로이드 13 이상, 모든 안드로이드 엔터프라이즈 설정 화면 건너뛰기., 안드로이드 14 이상, EMM 등록 후 설정 마법사 건너뛰기 9.필요한 경우 추가 배포 옵션 화면에서 다음 설정을 구성한 후 계속을 클릭합니다.이러한 설정은 선택 사항이며 이 프로필을 만드는 데 반드시 필요한 것은 아닙니다.이전에 장치 구성 프로필을 설정한 경우에만 다음 설정을 구성할 수 있습니다.장치 구성 프로필 (XML) 의 로컬 서버 URI - 장치 구성 프로필을 만들고 저장한 릴레이 서버의 위치이며, 대상 장치가 XML 파일을 다운로드할 수 있는 위치입니다.이 URI는 http://또는 https://로 시작할 수 있습니다.Knox 서비스 플러그인 에이전트의 로컬 서버 URI (APK 파일) - 이 섹션의 필드를 사용하여 대상 디바이스에 다운로드할 KSP APK 설치 파일의 URI를 추가합니다.이 URI는 http:\\\\//또는 https:\\\\ //로 시작해야 합니다.Knox 등록 서비스 에이전트 업데이트 - 폐쇄형 네트워크 환경 내에서 로컬로 호스팅된 릴레이 서버에서 Knox 등록 서비스 에이전트를 업데이트합니다.이를 통해 OS 업그레이드를 기다릴 필요 없이 업데이트된 Knox 등록 서비스 에이전트가 출시될 때마다 새로운 기능을 지원할 수 있습니다.시스템 애플리케이션 - 폐쇄형 네트워크에서도 사전 설치된 모든 시스템 앱을 활성화하고 프로필에서 사용할 수 있도록 하려면 모든 시스템 앱 활성화 상태로 두기를 선택합니다.다른 값을 선택하면 내 파일, 연락처, Google Play 스토어와 같은 제한된 기본 시스템 앱 세트만 기기의 앱 트레이에서 사용할 수 있습니다.기기 사용자는 시스템 앱을 설치하거나 제거할 수 없습니다.Knox Configure와 함께 Knox 모바일 등록을 사용할 때 시스템 앱을 비활성화하면 Knox Configure와 충돌이 발생할 수 있습니다.패키지 이름 및 서명 키 - 이 필드를 사용하여 `com.samsung.android.knox.kpu`와 같은 패키지 이름과 관련 서명 키를 표시할 수 있습니다.추가 애플리케이션 - 이전 필드에서 지정한 KSP 앱과 마찬가지로 이 섹션을 사용하여 대상 장치에 오프라인으로 설치하려는 다른 앱에 대한 정보를 추가할 수 있습니다. 10.요약 화면에서 방금 설정한 설정을 확인한 다음 QR 코드 생성을 클릭합니다.QR 코드가 생성되어 로컬 드라이브에 저장됩니다.해당하는 경우 여러 QR 코드가 순서대로 생성되지만 설정에서 선택한 스캔 순서에 따라 스캔할 수 있습니다.그런 다음 대상 기기 사용자와 이러한 QR 코드를 공유하면 대상 기기 사용자는 해당 코드를 사용하여 기기를 설정할 수 있습니다.기존 프로필 관리 새 프로필을 만드는 것 외에도 IT 관리자는 프로필 화면에서 기존 프로필을 관리할 수 있습니다.IT 관리자가 하나 이상의 프로필을 만들면 프로필 화면에 해당 프로필이 나열됩니다.이 화면에서 프로필을 수정하거나 삭제할 수 있습니다.#Modify 기존 프로필 기존 프로필을 변경하려면 다음과 같이 하십시오. 1.Knox Mobile Enrollment Direct 앱을 실행하고 열리는 프로필 화면에서 수정하려는 프로필을 찾아 프로필 이름 링크를 클릭합니다.해당 프로필 페이지가 열립니다. 2.열리는 화면에서 편집을 클릭합니다.프로필 화면이 편집 모드로 바뀝니다. 3', metadata={'source': 'all_processed_data_ko.json', 'seq_num': 462, 'title': '관리자를 위한 설정 및 구성', 'url': 'https://docs.samsungknox.com/admin/knox-mobile-enrollment/on-premise/get-started/setup-and-config-for-admins', 'project': 'KME', 'last_updated': '2023-10-30', 'family_tree': 'parent', 'parent_id': None}), 0.00027841345025294954), (Document(page_content='삼성 계정을 등록할 때 확인 이메일을 받지 못하면 어떻게 해야 하나요?확인 이메일을 받지 못할 수 있는 몇 가지 시나리오와 시도해 볼 수 있는 조치는 다음과 같습니다. 시나리오 조치 2단계 인증에 사용되는 디바이스에 액세스할 수 없습니다.해당 지역의 삼성 지원에 문의하세요.신원 (성명, 생년월일, 기기 IMEI 또는 일련 번호) 을 확인한 후에는 2단계 인증을 일시적으로 비활성화합니다.그런 다음 계정에 로그인하여 새 기기를 등록하거나 2단계 인증에 사용되는 전화번호를 변경할 수 있습니다.백업 코드를 잃어버렸습니다.해당 지역의 삼성 지원에 문의하세요.신원 (성명, 생년월일, 기기 IMEI 또는 일련 번호) 을 확인한 후 새 백업 코드를 보내드립니다.삼성 계정을 등록하는 데 사용한 이메일 계정에는 액세스할 수 없습니다.삼성 계정 정책에 따라 이메일 계정에 액세스할 수 없는 경우 새 삼성 계정을 만들어 새 이메일 주소와 연결해야 합니다.그런 다음 새 이메일 주소를 사용하려면 이전 주소로 등록한 모든 Samsung 서비스를 업데이트해야 합니다.이전 이메일 주소를 사용하여 삼성 Knox 서비스에 액세스했다면 Samsung Knox 지원팀에 문의하여 이전 이메일 주소와 새 이메일 주소를 알려주세요.이메일 앱이 확인 이메일을 필터링하고 있습니다.이메일 앱의 정크 또는 스팸 폴더에서 SA.noreply@samsung-mail.com 에서 보낸 확인 이메일을 확인하세요.회사 이메일 서버가 확인 이메일을 필터링하고 있습니다.회사의 IT 관리자는 발신 이메일 주소 SA.noreply@samsung-mail.com 중 하나를 포함하도록 이메일 서버의 허용 목록을 업데이트해야 합니다.아니면 samsungmail.com 도메인을 사용하는 것이 좋습니다.아래의 고급 구성도 참조하십시오.메일 관리자를 위한 고급 구성 samsungmail.com 서버는 RFC 7208에 지정된 발신자 정책 프레임워크 (SPF) 를 사용하여 특정 이메일이 당사로부터 전송되었음을 보장합니다.드문 경우이긴 하지만 도메인에서 samsungmail.com으로부터 이메일을 받는 데 문제가 있는 경우, 다음 도메인을 허용 목록에 추가하세요. samsungmail.com, smtp.samsungdevops.io 현재 값을 가져오려면 DNS 도구 (예: dig 또는 nslookup 사용) 로 업데이트된 SPF 쿼리를 수행하십시오.작성 당시 samsungmail.com의 현재 SPF 기록: `\"v=spf1 ip 4:213.71 .30.188 ip 4:54.208 .71.222 ip 4:54.208 .16.69 ip 4:54.208 .35.86 ip 4:54.208 .40.14 ip 4:54.208 .40.62 ip 4:195.125 .115.217 ip 4:3315.217 ip 4:335.21 4.243 .167.206 ip 4:52.50 .127.149 ip 4:34.247 .210.211 포함: smtp.samsungdevops.io 포함:_spf.google.com ~all\"` 구글사이트 검증=9skly5x_jw5rao9gppsldemjy46hfpwbtefvgpumGPU dy4\"` 작성 당시 smtp.samsungdevops.io의 현재 SPF 레코드: `\"v=spf1 mx a ip 4:3.121 .164.99/32 ip 4:3.121 .154.110/32 ip 4:3.122 .29.19/32 ~all\"`', metadata={'source': 'all_processed_data_ko.json', 'seq_num': 181, 'title': '삼성 계정을 등록할 때 인증 이메일을 받지 못하면 어떻게 해야 하나요?', 'url': 'https://docs.samsungknox.com/admin/fundamentals/kbas/kba-360032622774', 'project': 'USP', 'last_updated': '2023-07-26', 'family_tree': 'parent', 'parent_id': None}), 0.00012190918063926276)]\n",
      "\n",
      "==========  Results  ==========\n",
      "\n",
      "1. question: what is verify DM\n",
      "2. # documents: 5\n",
      "3. Documents: \n",
      "\n",
      "-----------------------------------------------\n",
      "1. Chunk: 2828 Characters\n",
      "-----------------------------------------------\n",
      "범용 자격 증명 관리 (UCM).디지털 자격 증명은 중요한 모바일 보안 구성 요소로서, 신뢰할 수 있는 기관을 활용하여 공개 배포 환경 전반에서 ID를 검증하고 개인 채널을\n",
      "보호합니다.모바일 장치 자격 증명을 사용하면 보안 Wi-Fi, VPN, 이메일 및 웹 사이트에 원활하게 액세스할 수 있습니다.자격 증명에는 중요한 데이터를 해독하기 위한 ID 및\n",
      "개인 키를 제공하는 인증서가 포함됩니다.악의적인 사람이 사용자의 ID를 악용하고 기밀 데이터에 액세스하지 못하도록 이러한 자격 증명을 안전하게 저장해야 합니다.범용 자격 증명\n",
      "관리는 Qualcomm 및 Exynos 칩 장치에서만 작동합니다.보안 요소 Android 앱은 하드웨어 기반 키스토어를 사용하여 삼성 Android 기기에 디지털 자격 증명을\n",
      "안전하게 저장할 수 있지만, 일부 사용 사례에서는 사용자 자격 증명과 비밀을 보안 요소에 저장해야 하는데, 이는 다음과 같은 폼 팩터로 제공될 수 있습니다. Embedded\n",
      "Secure Element (eSE) - 자격 증명의 저장 및 액세스를 지원하여 추가 하드웨어 없이 기기에 안전하게 저장할 수 있습니다.마이크로 SD 카드, UICC\n",
      "(Universal Integrated Circuit Circuit Card), 스마트 카드 - 스마트 카드는 복원력이 뛰어나 위협 모델이 기기 외부로 신뢰를 이전해야 하는 경우\n",
      "자격 증명을 저장하는 데 이상적입니다.미국-버라이존, 코리아-올, 재팬-올, 캐나다-텔러스와 같은 국가 및 통신사에서는 삼성 eSE를 사용할 수 없습니다.특정 고객, 특히 정부 및\n",
      "관련 업계의 고객에게는 자격 증명 및 비밀 저장을 위해 승인된 보안 요소를 사용하도록 요구하는 내부 규정이 있습니다.보안 요소에는 특정 암호화 기능을 제공하는 애플릿이\n",
      "제공됩니다.사용 사례 UCM 프레임워크는 공급업체가 다음과 같은 기능을 포함하는 기기의 특수 앱에서 솔루션을 사용할 수 있도록 하는 서비스 계층을 구현합니다. 기기 잠금 (키가드)\n",
      "- 사용자는 보안 요소에서 실행되는 애플릿에 자신을 인증하기 위해 PIN을 삽입합니다.PIN 인증이 성공하면 UCM 프레임워크는 자격 증명 저장소에서 암호를 검색합니다. 이 암호는\n",
      "기기 잠금을 해제하기 위한 기기 암호로 사용됩니다.Data at Rest (DAR) 암호화 - 애플릿은 장치 암호화 키에 대한 또 다른 보호 계층을 제공합니다.UCM을 사용하면\n",
      "장치 암호화 키를 애플릿으로 래핑할 수 있습니다.래핑된 기기 암호화는 사용자가 기기 부팅 시 올바른 PIN을 제공하면 래핑이 해제됩니다.UCM 프레임워크 범용 자격 증명 관리\n",
      "(UCM) 프레임워크를 사용하면 Android 앱이 동일한 표준 프로그래밍 인터페이스를 통해 모든 자격 증명 저장 장치에 액세스할 수 있습니다. Java 암호화 확장 (JCE)\n",
      "API는 지원되는 암호화 작업을 수행하는 특정 제공업체, 키 및 인증서 작업을 위한 Android 키체인 API. 보안 요소 솔루션을 제공하는 공급업체 (애플릿 포함) 는 솔루션을\n",
      "키 저장소 제공자로 등록하는 UCM 플러그인을 구현합니다.앱은 Keystore API를 호출할 때 공급업체의 공급자를 참조하기만 하면 됩니다.UCM 프레임워크의 중요한 이점은 앱\n",
      "개발자에게 코드를 변경하거나 IT 관리자 또는 최종 사용자에게 앱을 업데이트하도록 강요하지 않고도 스토리지 벤더가 스토리지 공간 및 암호화 작업에 대한 액세스를 제공하는 플러그인을\n",
      "개발할 수 있다는 점입니다.플러그인은 기본적으로 UCM 프레임워크와 특정 스토리지 디바이스 간의 링크 역할을 합니다.UCM 프레임워크는 자격 증명 서비스를 통합 및 표준화하여\n",
      "EMM 또는 ISV 앱을 위한 간소화된 인터페이스를 제공합니다. 이러한 앱은 자격 증명을 구성, 프로비전 및 사용하고, 자격 증명 저장소 액세스 권한을 관리하고, 고급 UCM\n",
      "권한을 활성화합니다.앱은 자격 증명의 설치, 제거 또는 앱별 액세스 제어를 적용할 수 있습니다.저장소 공급자 플러그인 - 이러한 앱은 저장소 공급업체에서 UCM 프레임워크를 해당\n",
      "저장소 솔루션에 연결하고 저장된 자격 증명을 관리하기 위해 제공합니다.보안 스토리지 - 현재 이 기능에는 보안 요소 섹션에 설명된 Samsung eSE 및 스마트 카드 리더가\n",
      "포함되어 있습니다.추가 공급업체 플러그인을 통해 다른 스토리지 옵션을 쉽게 지원할 수 있습니다.Knox SDK는 자격 증명 스토리지 공급업체에 UCM API 세트를 제공하여 삼성\n",
      "디바이스에서 현재 및 미래의 스토리지 옵션을 사용할 수 있도록 하고 솔루션의 구현 세부 정보를 숨겨 모바일 앱 개발자가 Android 키체인과 같은 표준 API를 통해 저장된 자격\n",
      "증명에 투명하게 액세스할 수 있도록 합니다.마찬가지로 개발자는 Java 암호화 확장 API를 사용하여 암호화 작업을 지원되는 스마트 카드에 오프로드할 수 있습니다.UCM 프레임워크\n",
      "덕분에 이러한 추상화가 가능해졌기 때문에 모바일 앱 내에 복잡한 벤더별 코드가 필요하지 않습니다. 즉, 기업 고객은 다양한 기존 앱을 사용할 수 있으며 기본 스토리지 구현에 대한\n",
      "걱정 없이 사내 앱을 쉽게 개발할 수 있습니다.UCM 허용 목록 UCM 프레임워크는 자격 증명 저장소에 대한 액세스 제어를 고유하게 관리하고 완전히 사용자 지정 가능한 액세스\n",
      "권한을 제공하는 두 가지 유형의 허용 목록을 사용합니다. 앱 허용 목록 - 각 보안 저장소 유형에 액세스할 수 있는 앱을 적용합니다.모든 보안 스토리지 디바이스는 보안 스토리지\n",
      "솔루션 제공업체가 생성하고 유지 관리하는 해당 UCM 플러그인에 매핑됩니다.자격 증명 허용 목록 - 각 앱의 자격 증명 액세스를 강제하여 앱별 액세스 권한을 제공합니다.관리자는\n",
      "액세스 제어를 강화하여 악의적이거나 신뢰할 수 없는 앱이 자격 증명을 사용하는 것을 방지할 수 있습니다.\n",
      "metadata:\n",
      " {'source': 'all_processed_data_ko.json', 'seq_num': 117, 'title': '범용 자격 증명 관리 (UCM)', 'url':\n",
      "'https://docs.samsungknox.com/admin/fundamentals/whitepaper/certificate-management/universal-\n",
      "credential-management', 'project': 'USP', 'last_updated': '2023-07-26', 'family_tree': 'parent',\n",
      "'parent_id': None}\n",
      "-----------------------------------------------\n",
      "2. Chunk: 1913 Characters\n",
      "-----------------------------------------------\n",
      "테스트 캠페인을 만드세요.Knox E-FOTA 테스트 캠페인을 만드는 방법을 설명합니다. 테스트 캠페인을 통해 더미 펌웨어 버전을 사용하여 캠페인 정책을 테스트할 수\n",
      "있습니다.테스트 캠페인을 완료하면 테스트 캠페인에서 디바이스를 할당 해제하여 디바이스를 일반 펌웨어로 되돌릴 수 있습니다.더미 펌웨어가 있는 기기에서는 실제 캠페인을 적용할 수\n",
      "없습니다.EMM에서 Knox E-FOTA에 동기화된 디바이스는 테스트 캠페인에 할당할 수 없습니다. 1.Knox 관리자 포털에 로그인하세요.왼쪽 사이드바에서 Knox E-FOTA를\n",
      "클릭합니다. 2.캠페인 탭에서 액션 > 테스트 캠페인 생성을 클릭합니다. 3.캠페인 세부 정보를 입력합니다.#Basic 정보 캠페인의 고유한 이름과 캠페인의 새로운 기능에 대한\n",
      "설명을 설정하세요.#Schedule, 캠페인 기간 - 캠페인에 포함된 디바이스에서 업데이트를 다운로드하고 설치할 수 있는 기간을 설정합니다.캠페인 기간을 무기한으로 실행하려면 시작\n",
      "날짜만 설정을 선택합니다.펌웨어 설치 기간 - 캠페인 기간 내에서 캠페인 대상 장치가 업데이트 설치를 시작할 수 있는 기간을 설정합니다.이 기간은 기기의 시간대를 기준으로\n",
      "합니다.캠페인을 즉시 테스트하려면 펌웨어 설치 기간을 다음 값으로 설정하십시오. 시작: 00:00, To: 24:00 이 기간 동안 장치 설치가 시작되지만 이 기간 내에 설치가\n",
      "종료된다는 보장은 없습니다.펌웨어 다운로드 기간 - 캠페인 기간 내에서 캠페인 대상 장치가 업데이트 다운로드를 시작할 수 있는 기간을 설정합니다.언제든지 다운로드하도록 기기를\n",
      "설정하거나 펌웨어 설치 기간과 동일한 기간을 사용할 수 있습니다.설치 연기 - 장치 사용자가 설치를 연기할 수 있도록 하려면 이 옵션을 선택합니다.그런 다음, 연기할 수 있는 최대\n",
      "횟수와 미리 알림 간격을 설정합니다.타이머를 설정할 수도 있습니다. 타이머 제한 시간이 초과되기 전에 기기 사용자가 업데이트 알림을 실행하지 않으면 업데이트가 자동으로\n",
      "설치됩니다.#Network and Speed Download 네트워크 - 캠페인에 포함된 장치가 업데이트를 다운로드할 수 있는 네트워크를 선택합니다.모든 네트워크 (Wi-Fi 또는\n",
      "모바일) 에서 다운로드를 허용하도록 선택한 경우 다음을 추가로 수행할 수 있습니다. 로밍 중 펌웨어 다운로드 허용.펌웨어가 특정 크기를 초과하면 Wi-Fi/이더넷으로 전환하도록\n",
      "캠페인을 설정하십시오.필요한 경우 다운로드 속도도 제어할 수 있습니다.또한 최대 5개의 특정 SSID에 대한 다운로드 속도 제한을 설정할 수 있습니다. #Device 조건:\n",
      "업데이트 설치를 시작하기 위해 장치에 필요한 배터리 수명을 지정합니다.충전 도크에 연결되지 않은 기기에서는 설치가 시작되지 않도록 할 수도 있습니다.#Factory 재설정 최종\n",
      "사용자가 기기에서 공장 초기화를 수행하지 못하도록 차단할지 여부를 지정합니다.#Support 연락처 세부 정보 최종 사용자가 지원을 요청할 수 있는 전화번호와 이메일 주소를\n",
      "입력합니다.이 값을 향후 캠페인의 기본 연락처 정보로 설정할 수도 있습니다. 4.장치 할당을 클릭합니다. 5.기기 목록에서 테스트 캠페인에 할당할 기기를 하나 이상 선택합니다.참고\n",
      "- 테스트 캠페인을 만들 때 적용할 펌웨어 버전을 선택할 수 없습니다.대신 기본적으로 더미 펌웨어가 적용됩니다. 6.할당을 클릭합니다. 7.생성 및 활성화를 클릭합니다.캠페인이\n",
      "캠페인 목록에 추가됩니다. 8.디바이스에서 더미 펌웨어 업데이트를 확인하세요.캠페인이 성공적으로 적용되면 기기 상태가 캠페인 활성으로 변경됩니다.다음 예에서 적용할 더미 펌웨어의\n",
      "파일 확장자는.DM.9입니다.테스트 캠페인을 완료하면 더미 펌웨어를 일반 펌웨어로 되돌리세요. 1.기기 > 모든 기기로 이동합니다. 2.작업 > 캠페인 할당 취소를 클릭합니다.장치\n",
      "상태가 등록됨으로 변경되고 더미 펌웨어가 일반 펌웨어로 되돌아갑니다.\n",
      "metadata:\n",
      " {'source': 'all_processed_data_ko.json', 'seq_num': 230, 'title': '테스트 캠페인 만들기', 'url':\n",
      "'https://docs.samsungknox.com/admin/efota-one/features/create-a-campaign/create-a-test-campaign',\n",
      "'project': 'EFOTA', 'last_updated': '2023-07-26', 'family_tree': 'parent', 'parent_id': None}\n",
      "-----------------------------------------------\n",
      "3. Chunk: 1389 Characters\n",
      "-----------------------------------------------\n",
      "기기 사용자.장치 사용자 개요 장치 사용자 화면에는 장치 할당에 사용할 수 있는 사용자가 표시됩니다.CSV 파일을 사용하여 새 사용자를 추가하고, 암호를 편집 또는 제거하고,\n",
      "사용자 ID/암호를 가져올 수 있습니다.기존 기기 사용자를 검토하려면: 1.왼쪽 탐색 메뉴에서 장치\"사용자를 선택합니다. 2.나열된 각 사용자의 관련성을 평가하려면 다음을\n",
      "참조하십시오. _USER ID_ - 각 기존 사용자를 선택한 사용자 ID의 암호를 변경하기 위해 선택할 수 있는 링크로 나열합니다.ID와 암호는 모두 고객 MDM의 자격 증명이어야\n",
      "합니다._PASSWORD_ - 각 사용자의 암호를 나열합니다.기기 사용자 추가 기존 사용자 목록에 새 기기 사용자를 추가하려면: 1.왼쪽 탐색 메뉴에서 장치\"사용자를 선택합니다.\n",
      "2.화면 오른쪽 상단의 장치 추가\"사용자 버튼을 선택합니다. 3.사용자 ID와 암호를 입력하여 고유한 KME\"장치 사용자 자격 증명을 생성하십시오.ID와 암호는 모두 고객 MDM의\n",
      "자격 증명이어야 합니다. 4.새 사용자를 저장하려면 추가를 선택합니다.기기 사용자 편집 기존 사용자의 암호를 편집 및 업데이트하려면 (사용자 암호만 수정할 수 있고 사용자 이름은\n",
      "수정할 수 없음): 1.기기 사용자 화면에서 비밀번호 업데이트가 필요한 기기 사용자의 체크박스를 선택합니다.한 번에 한 명의 기기 사용자만 선택할 수 있습니다. 2.필요에 따라\n",
      "선택한 사용자의 암호를 업데이트하십시오.로그인 암호 충돌이 발생하는 경우 IT 관리자는 선택적으로 암호 관리 링크를 선택하여 최종 사용자의 암호를 확인할 수 있습니다.암호는 고객\n",
      "MDM의 암호 자격 증명이어야 합니다. 3.저장을 선택하여 업데이트된 암호를 선택한 기기 사용자에게 커밋합니다.장치 사용자 제거 기존 장치 사용자는 더 이상 사용되지 않게 되면\n",
      "제거할 수 있습니다.기기 사용자를 삭제하고 삭제하려면: 1.장치\"사용자 화면에서 제거가 필요한 장치 사용자의 확인란을 선택합니다.한 번에 둘 이상의 장치 사용자를 제거할 수\n",
      "있습니다. 2.화면 오른쪽 상단의 작업 드롭다운 메뉴에서 기기 사용자 삭제를 선택합니다. 3.삭제 버튼을 선택하여 기기 사용자 삭제를 진행합니다.일단 제거되면 사용자는 더 이상\n",
      "장치 사용자 목록에 표시되지 않습니다.기기 사용자 가져오기 (선택 사항) CSV 파일을 사용하여 기기 사용자를 대량으로 가져올 수도 있습니다.장치 목록 내에서 최대 10,000개의\n",
      "사용자 자격 증명을 대량으로 구성할 수 있습니다. 1.장치 > 대량 작업으로 이동하고 사용자 자격 증명 업로드를 클릭합니다. 2.가져오려는 사용자의 ID가 포함된 CSV 파일을\n",
      "첨부합니다.제출을 클릭하여 사용자를 KME로 가져옵니다.CSV 파일의 형식을 잘 모르겠으면 대량 작업 페이지로 돌아가 사용자 자격 증명 업로드 섹션에서 지침 보기를 클릭하십시오.\n",
      "metadata:\n",
      " {'source': 'all_processed_data_ko.json', 'seq_num': 427, 'title': '기기 사용자', 'url':\n",
      "'https://docs.samsungknox.com/admin/knox-mobile-enrollment/features/device-users', 'project': 'KME',\n",
      "'last_updated': '2023-07-26', 'family_tree': 'parent', 'parent_id': None}\n",
      "-----------------------------------------------\n",
      "4. Chunk: 4090 Characters\n",
      "-----------------------------------------------\n",
      ".Wi-Fi MAC 주소 무작위화 - 기기가 Wi-Fi 네트워크에 연결될 때마다 라우터에서 무작위 MAC 주소를 할당하여 악의적인 보안 위협이 MAC 주소를 사용하여 기기 활동\n",
      "기록을 작성하는 것을 방지할 수 있습니다.궁극적으로 이 기능은 기기 사용자 개인 정보 보호를 강화합니다.프록시 정보 - Wi-Fi 네트워크에서 프록시 서버를 사용할지 여부를\n",
      "설정합니다.보안 정보 - 이 섹션의 필드를 사용하여 보안 유형 및 암호와 같은 자세한 보안 정보를 추가할 수 있습니다.이러한 세부 정보는 Wi-Fi 네트워크를 만들거나 관리하는\n",
      "네트워크 관리자가 제공합니다. 6.종속 포털 모드 - 종속 포털의 탐지를 제어하려면 종속 포털 모드를 켜십시오 (기본적으로 꺼짐).이렇게 하면 Android 14 이상을 실행하는\n",
      "디바이스를 Knox 3.10이 설치된 완전 관리형 모드로 등록할 때 네트워크 연결 검증이 건너뛰게 됩니다.다음 두 가지 방법 중 하나로 Capture Portal 모드가 작동하도록\n",
      "설정할 수 있습니다. 종속 포털을 탐지하려고 하지 마십시오. 종속 포털은 등록 중에 무시됩니다.기본적으로 폐쇄형 네트워크에서 Android Enterprise를 등록하는 데\n",
      "사용됩니다.탐지되면 사용자에게 로그인하라는 메시지 표시 - 종속 포털이 탐지되면 기기 사용자에게 로그인하라는 알림 메시지 표시 .이 기능을 적용하려면 기기 사용자가 기기를 재부팅한\n",
      "다음 더하기 기호 (+) 제스처를 사용하여 QR 코드를 다시 스캔해야 합니다. 7.열린 법적 계약 화면에서 다음 설정을 구성한 후 계속을 클릭합니다.대상 장치의 위치, 조직 또는\n",
      "기타 속성에 따라 사용자 지정 개인 정보 보호 정책, 법률 계약 URI 또는 서비스 약관이 필요한 경우 IT 관리자는 이 화면을 사용하여 사용할 법적 계약을 지정할 수\n",
      "있습니다.제목 - 장치에 적용되는 법적 계약의 이름을 지정하십시오.법적 계약 URI - 장치에 적용되는 사용자 지정 법률 계약 또는 서비스 약관의 URL을 추가합니다.\n",
      "8.Android Enterprise 등록 화면에서 다음 설정을 구성한 후 계속을 클릭합니다. EMM 공급자 - EMM 공급자 목록에서 대상 장치를 관리하는 데 사용되는 EMM\n",
      "제공자의 이름을 선택합니다.EMM 에이전트 URI - 이 프로필에 적용할 수 있는 APK 제공 호스트의 URI를 입력합니다.EMM 에이전트의 수신기 구성 요소 이름 - 기기에\n",
      "배포된 관리 패키지의 이름을 입력합니다.관리 패키지 구성 요소 이름의 형식은 패키지 이름/클래스 이름으로 설정됩니다.예를 들어 Workspace ONE UEM의 경우 패키지 이름은\n",
      "`com.Airwatch.androidAgent/com.airwatch.Agent.DeviceAdministratorReceiver`로 설정됩니다.자세한 내용은 KME 관리자\n",
      "가이드를 참조하십시오.EMM 에이전트 서명 체크섬 - 관리 패키지의 서명 체크섬 값을 입력합니다.관리자 패키지 서명 체크섬은 EMM APK 서명의 Base64로 인코딩된\n",
      "SHA-256 해시로, URL 친화적입니다.이 값은 EMM에서 확인할 수 있습니다.자세한 내용은 안드로이드 개발자 문서\\ > DevicePolicyManager\n",
      "#EXTRA_PROVISIONING_DEVICE_ADMIN_SIGNATURE_CHECKSUM 를 참조하십시오.또는 Linux에서 Keytool과 같은 유틸리티를 사용하여 이 값을\n",
      "가져올 수도 있습니다.내 APK의 서명 체크섬을 받으려면 어떻게 해야 하나요? 를 참조하세요.키툴에 대한 추가 정보는 스택오버플로우에서 확인하세요.EMM 서버 URI - 대상\n",
      "장치에서 연결할 EMM 서버의 URI를 입력합니다.사용자 지정 JSON 데이터 (EMM에서 정의) - EMM 에이전트로 전송되는 사용자 지정 데이터를 JSON 형식으로\n",
      "입력합니다.일반적으로 이 정보는 EMM 에이전트가 EMM 서버에 로그인하기 위한 ID와 암호입니다.예:.(선택 사항) DualDAR - 이 설정을 켜면 두 계층 암호화를 통해\n",
      "기기의 데이터를 보호하는 미사용 데이터 보안 솔루션인 DualDAR를 구성할 수 있습니다.이 기능을 사용하려면 DualDAR 라이선스가 필요합니다.라이선스 없이 DualDAR 지원\n",
      "프로필에 할당된 모든 장치는 잠깁니다.리셀러에게 문의하여 라이선스를 구매하세요.활성화되면 타사 암호화 애플리케이션 사용과 패키지 및 서명 추가를 모두 선택하여 타사 암호화 앱의\n",
      "패키지 이름, URL 및 서명을 입력하여 두 번째 암호화 계층을 사용자 지정할 수도 있습니다.저장을 클릭하여 DualDAR 설정 변경 내용을 기록합니다.루트 또는 중간 인증서 -\n",
      "이 인증서를 업로드하려면 업로드를 클릭하여 파일 브라우저를 엽니다.화면의 지침에 따라 적절한 파일을 찾아 업로드합니다.최대 5개까지 인증서를 배포할 수 있습니다.(선택사항) 장치\n",
      "등록 화면 - Android 버전에 따라 장치 설정 시 등록 화면을 건너뛰고 장치 등록을 간소화합니다. Android 버전, 어떤 화면을 건너뛸 수 있나요?,, -, -,\n",
      "안드로이드 13 이상, 모든 안드로이드 엔터프라이즈 설정 화면 건너뛰기., 안드로이드 14 이상, EMM 등록 후 설정 마법사 건너뛰기 9.필요한 경우 추가 배포 옵션 화면에서\n",
      "다음 설정을 구성한 후 계속을 클릭합니다.이러한 설정은 선택 사항이며 이 프로필을 만드는 데 반드시 필요한 것은 아닙니다.이전에 장치 구성 프로필을 설정한 경우에만 다음 설정을\n",
      "구성할 수 있습니다.장치 구성 프로필 (XML) 의 로컬 서버 URI - 장치 구성 프로필을 만들고 저장한 릴레이 서버의 위치이며, 대상 장치가 XML 파일을 다운로드할 수 있는\n",
      "위치입니다.이 URI는 http://또는 https://로 시작할 수 있습니다.Knox 서비스 플러그인 에이전트의 로컬 서버 URI (APK 파일) - 이 섹션의 필드를 사용하여\n",
      "대상 디바이스에 다운로드할 KSP APK 설치 파일의 URI를 추가합니다.이 URI는 http:\\//또는 https:\\ //로 시작해야 합니다.Knox 등록 서비스 에이전트\n",
      "업데이트 - 폐쇄형 네트워크 환경 내에서 로컬로 호스팅된 릴레이 서버에서 Knox 등록 서비스 에이전트를 업데이트합니다.이를 통해 OS 업그레이드를 기다릴 필요 없이 업데이트된\n",
      "Knox 등록 서비스 에이전트가 출시될 때마다 새로운 기능을 지원할 수 있습니다.시스템 애플리케이션 - 폐쇄형 네트워크에서도 사전 설치된 모든 시스템 앱을 활성화하고 프로필에서\n",
      "사용할 수 있도록 하려면 모든 시스템 앱 활성화 상태로 두기를 선택합니다.다른 값을 선택하면 내 파일, 연락처, Google Play 스토어와 같은 제한된 기본 시스템 앱 세트만\n",
      "기기의 앱 트레이에서 사용할 수 있습니다.기기 사용자는 시스템 앱을 설치하거나 제거할 수 없습니다.Knox Configure와 함께 Knox 모바일 등록을 사용할 때 시스템 앱을\n",
      "비활성화하면 Knox Configure와 충돌이 발생할 수 있습니다.패키지 이름 및 서명 키 - 이 필드를 사용하여 `com.samsung.android.knox.kpu`와 같은\n",
      "패키지 이름과 관련 서명 키를 표시할 수 있습니다.추가 애플리케이션 - 이전 필드에서 지정한 KSP 앱과 마찬가지로 이 섹션을 사용하여 대상 장치에 오프라인으로 설치하려는 다른\n",
      "앱에 대한 정보를 추가할 수 있습니다. 10.요약 화면에서 방금 설정한 설정을 확인한 다음 QR 코드 생성을 클릭합니다.QR 코드가 생성되어 로컬 드라이브에 저장됩니다.해당하는\n",
      "경우 여러 QR 코드가 순서대로 생성되지만 설정에서 선택한 스캔 순서에 따라 스캔할 수 있습니다.그런 다음 대상 기기 사용자와 이러한 QR 코드를 공유하면 대상 기기 사용자는 해당\n",
      "코드를 사용하여 기기를 설정할 수 있습니다.기존 프로필 관리 새 프로필을 만드는 것 외에도 IT 관리자는 프로필 화면에서 기존 프로필을 관리할 수 있습니다.IT 관리자가 하나\n",
      "이상의 프로필을 만들면 프로필 화면에 해당 프로필이 나열됩니다.이 화면에서 프로필을 수정하거나 삭제할 수 있습니다.#Modify 기존 프로필 기존 프로필을 변경하려면 다음과 같이\n",
      "하십시오. 1.Knox Mobile Enrollment Direct 앱을 실행하고 열리는 프로필 화면에서 수정하려는 프로필을 찾아 프로필 이름 링크를 클릭합니다.해당 프로필\n",
      "페이지가 열립니다. 2.열리는 화면에서 편집을 클릭합니다.프로필 화면이 편집 모드로 바뀝니다. 3\n",
      "metadata:\n",
      " {'source': 'all_processed_data_ko.json', 'seq_num': 462, 'title': '관리자를 위한 설정 및 구성', 'url':\n",
      "'https://docs.samsungknox.com/admin/knox-mobile-enrollment/on-premise/get-started/setup-and-config-\n",
      "for-admins', 'project': 'KME', 'last_updated': '2023-10-30', 'family_tree': 'parent', 'parent_id':\n",
      "None}\n",
      "-----------------------------------------------\n",
      "5. Chunk: 1677 Characters\n",
      "-----------------------------------------------\n",
      "삼성 계정을 등록할 때 확인 이메일을 받지 못하면 어떻게 해야 하나요?확인 이메일을 받지 못할 수 있는 몇 가지 시나리오와 시도해 볼 수 있는 조치는 다음과 같습니다. 시나리오\n",
      "조치 2단계 인증에 사용되는 디바이스에 액세스할 수 없습니다.해당 지역의 삼성 지원에 문의하세요.신원 (성명, 생년월일, 기기 IMEI 또는 일련 번호) 을 확인한 후에는 2단계\n",
      "인증을 일시적으로 비활성화합니다.그런 다음 계정에 로그인하여 새 기기를 등록하거나 2단계 인증에 사용되는 전화번호를 변경할 수 있습니다.백업 코드를 잃어버렸습니다.해당 지역의 삼성\n",
      "지원에 문의하세요.신원 (성명, 생년월일, 기기 IMEI 또는 일련 번호) 을 확인한 후 새 백업 코드를 보내드립니다.삼성 계정을 등록하는 데 사용한 이메일 계정에는 액세스할 수\n",
      "없습니다.삼성 계정 정책에 따라 이메일 계정에 액세스할 수 없는 경우 새 삼성 계정을 만들어 새 이메일 주소와 연결해야 합니다.그런 다음 새 이메일 주소를 사용하려면 이전 주소로\n",
      "등록한 모든 Samsung 서비스를 업데이트해야 합니다.이전 이메일 주소를 사용하여 삼성 Knox 서비스에 액세스했다면 Samsung Knox 지원팀에 문의하여 이전 이메일 주소와\n",
      "새 이메일 주소를 알려주세요.이메일 앱이 확인 이메일을 필터링하고 있습니다.이메일 앱의 정크 또는 스팸 폴더에서 SA.noreply@samsung-mail.com 에서 보낸 확인\n",
      "이메일을 확인하세요.회사 이메일 서버가 확인 이메일을 필터링하고 있습니다.회사의 IT 관리자는 발신 이메일 주소 SA.noreply@samsung-mail.com 중 하나를\n",
      "포함하도록 이메일 서버의 허용 목록을 업데이트해야 합니다.아니면 samsungmail.com 도메인을 사용하는 것이 좋습니다.아래의 고급 구성도 참조하십시오.메일 관리자를 위한\n",
      "고급 구성 samsungmail.com 서버는 RFC 7208에 지정된 발신자 정책 프레임워크 (SPF) 를 사용하여 특정 이메일이 당사로부터 전송되었음을 보장합니다.드문 경우이긴\n",
      "하지만 도메인에서 samsungmail.com으로부터 이메일을 받는 데 문제가 있는 경우, 다음 도메인을 허용 목록에 추가하세요. samsungmail.com,\n",
      "smtp.samsungdevops.io 현재 값을 가져오려면 DNS 도구 (예: dig 또는 nslookup 사용) 로 업데이트된 SPF 쿼리를 수행하십시오.작성 당시\n",
      "samsungmail.com의 현재 SPF 기록: `\"v=spf1 ip 4:213.71 .30.188 ip 4:54.208 .71.222 ip 4:54.208 .16.69 ip\n",
      "4:54.208 .35.86 ip 4:54.208 .40.14 ip 4:54.208 .40.62 ip 4:195.125 .115.217 ip 4:3315.217 ip\n",
      "4:335.21 4.243 .167.206 ip 4:52.50 .127.149 ip 4:34.247 .210.211 포함: smtp.samsungdevops.io\n",
      "포함:_spf.google.com ~all\"` 구글사이트 검증=9skly5x_jw5rao9gppsldemjy46hfpwbtefvgpumGPU dy4\"` 작성 당시\n",
      "smtp.samsungdevops.io의 현재 SPF 레코드: `\"v=spf1 mx a ip 4:3.121 .164.99/32 ip 4:3.121 .154.110/32 ip\n",
      "4:3.122 .29.19/32 ~all\"`\n",
      "metadata:\n",
      " {'source': 'all_processed_data_ko.json', 'seq_num': 181, 'title': '삼성 계정을 등록할 때 인증 이메일을 받지 못하면 어떻게\n",
      "해야 하나요?', 'url': 'https://docs.samsungknox.com/admin/fundamentals/kbas/kba-360032622774', 'project':\n",
      "'USP', 'last_updated': '2023-07-26', 'family_tree': 'parent', 'parent_id': None}\n",
      "CPU times: user 493 ms, sys: 20.3 ms, total: 513 ms\n",
      "Wall time: 1.09 s\n"
     ]
    }
   ],
   "source": [
    "%%time\n",
    "search_hybrid_result = opensearch_hybrid_retriever.get_relevant_documents(query)\n",
    "\n",
    "print(\"\\n==========  Results  ==========\\n\")\n",
    "print(f'1. question: {query}')\n",
    "print (f'2. # documents: {len(search_hybrid_result)}')\n",
    "print(\"3. Documents: \\n\")\n",
    "\n",
    "show_context_used(search_hybrid_result)"
   ]
  },
  {
   "cell_type": "markdown",
   "id": "c09221b5-4a6c-463b-9769-35cc8362e33c",
   "metadata": {},
   "source": [
    "- update parameters"
   ]
  },
  {
   "cell_type": "code",
   "execution_count": 37,
   "id": "b7bb4672-d2b8-4b29-b71c-b06d84bcd470",
   "metadata": {
    "tags": []
   },
   "outputs": [],
   "source": [
    "opensearch_hybrid_retriever.update_search_params(\n",
    "    k=5,\n",
    "    minimum_should_match=0,\n",
    "    #filter=[],\n",
    "    filter=[\n",
    "        #{'term': {'metadata.project': 'KS'}},\n",
    "        #{'term': {'metadata.family_tree': 'child'}},\n",
    "    ],\n",
    "    reranker=True,\n",
    "    reranker_endpoint_name=endpoint_name,\n",
    "    parent_document=False, # enable parent document\n",
    "    verbose=True,\n",
    ")"
   ]
  },
  {
   "cell_type": "code",
   "execution_count": 38,
   "id": "1b9b45b1-cb92-4954-8087-143a550350c8",
   "metadata": {
    "tags": []
   },
   "outputs": [
    {
     "name": "stdout",
     "output_type": "stream",
     "text": [
      "\n",
      "[Exeeds ReRanker token limit] Number of chunk_docs after split and chunking= 1\n",
      "\n",
      "\n",
      "[Exeeds ReRanker token limit] Number of chunk_docs after split and chunking= 2\n",
      "\n",
      "\n",
      "[Exeeds ReRanker token limit] Number of chunk_docs after split and chunking= 1\n",
      "\n",
      "\n",
      "[Exeeds ReRanker token limit] Number of chunk_docs after split and chunking= 3\n",
      "\n",
      "\n",
      "[Exeeds ReRanker token limit] Number of chunk_docs after split and chunking= 4\n",
      "\n",
      "\n",
      "[Exeeds ReRanker token limit] Number of chunk_docs after split and chunking= 2\n",
      "\n",
      "##############################\n",
      "async_mode\n",
      "##############################\n",
      "True\n",
      "##############################\n",
      "reranker\n",
      "##############################\n",
      "True\n",
      "##############################\n",
      "rag_fusion\n",
      "##############################\n",
      "False\n",
      "##############################\n",
      "HyDE\n",
      "##############################\n",
      "False\n",
      "##############################\n",
      "parent_document\n",
      "##############################\n",
      "False\n",
      "##############################\n",
      "similar_docs_semantic\n",
      "##############################\n",
      "[(Document(page_content='녹스 가드를 사용하려면 어떤 계정이 필요한가요?Knox Guard에 액세스하려면 삼성 계정과 Knox Portal 계정이 모두 필요합니다.', metadata={'source': 'all_processed_data_ko.json', 'seq_num': 1603, 'title': 'Knox Guard를 사용하려면 어떤 계정이 필요한가요?', 'url': 'https://docs.samsungknox.com/admin/knox-guard/faq/#which-accounts-do-i-need-use-knox-guard', 'project': 'KG', 'last_updated': '2023-07-26', 'family_tree': 'child', 'parent_id': '51e8c21b-2e44-4114-b092-42db6a1f176d', 'id': '37cc538d-52c0-4fae-bd29-36130135858a'}), 1.0), (Document(page_content='녹스 가드를 사용하려면 어떤 계정이 필요한가요?Knox Guard에 액세스하려면 삼성 계정과 Knox Portal 계정이 모두 필요합니다.', metadata={'source': 'all_processed_data_ko.json', 'seq_num': 1603, 'title': 'Knox Guard를 사용하려면 어떤 계정이 필요한가요?', 'url': 'https://docs.samsungknox.com/admin/knox-guard/faq/#which-accounts-do-i-need-use-knox-guard', 'project': 'KG', 'last_updated': '2023-07-26', 'family_tree': 'parent', 'parent_id': None, 'id': '51e8c21b-2e44-4114-b092-42db6a1f176d'}), 1.0), (Document(page_content='녹스 모바일 등록 1.10 릴리스 노트.이제 일부 디바이스에서 푸시 업데이트를 사용할 수 있습니다. 지금까지 IT 관리자가 업데이트된 구성 프로필을 푸시하면 이 특정 프로필을 사용하는 각 디바이스가 의도했든 원하지 않든 구성 업데이트를 받습니다.이번 개선 사항을 통해 IT 관리자는 포털의 프로필 탭에서 또는 프로필 수정 시 푸시 업데이트를 적용할 개별 기기를 선택할 수 있습니다.이를 통해 관리자는 업데이트하려는 특정 기기만 업데이트하고 업데이트되지 않은 기기는 제외할 수 있습니다.단축키 추가 시 활동 이름 지원 추가 현재 KC에서는 애플리케이션 단축키에 패키지 이름만 허용하지만 연락처와 같은 일부 앱은 여러 활동을 포함하며 기기 사용자에게 독립적인 앱으로 표시됩니다.이번 릴리스에서는 이제 단축어를 만들 때 활동 이름을 제공하는 기능이 지원됩니다.하지만 단축키가 액티비티 이름으로만 제공되는 경우 클라이언트가 전체 패키지 이름 문자열 (예: `com.samsung.android.contacts/com.android.dialtactsActivity`) 의 유효성을 검사하기 때문에 KC 에이전트가 실패합니다.임시 해결책으로, KC 에이전트는 액티비티 이름을 패키지로 전달하기 전에 액티비티 이름이 존재하는지 확인합니다.Wearable Knox Configure (WKC) #Profile 할당 개선 지금까지 IT 관리자가 업데이트된 구성을 푸시하면 업데이트된 프로필을 사용하는 각 디바이스가 의도 여부에 관계없이 구성 업데이트를 받습니다.이번 개선 사항을 통해 IT 관리자는 포털의 프로필 탭에서 또는 프로필 수정 시 푸시 업데이트를 위한 개별 디바이스를 선택할 수 있습니다.이를 통해 관리자는 특정 업데이트를 받을 특정 기기만 업데이트하고 그렇지 않은 기기는 제외할 수 있습니다.공장 초기화 후 프로필의 Knox Mobile Enrollment (KME) #Cancel 설정이 적용되었습니다. 이번 릴리스 이전에는 사용자가 프로필에 설정된 내용에도 불구하고 기기가 공장 초기화된 후에 등록을 취소할 수 없었습니다.이제 기기가 공장 초기화되었더라도 취소 프로필 설정이 그대로 유지됩니다.리셀러 포털 #Bulk 디바이스 삭제 횟수는 이제 단일 삭제 작업당 1,000개로 제한됩니다. 현재까지 리셀러 포털에서는 한 번에 최대 10,000개의 디바이스 대량 삭제가 허용됩니다.하지만 수만 대의 디바이스를 대량으로 삭제하면 오류 메시지가 발생하여 여러 스레드가 생성될 수 있습니다.오류 가능성을 줄이기 위해 단일 삭제 작업에서 대량 디바이스 삭제는 1,000회를 초과할 수 없습니다.릴리스 노트로 돌아가기', metadata={'source': 'all_processed_data_ko.json', 'seq_num': 481, 'title': '녹스 모바일 등록 1.10 릴리스 노트', 'url': 'https://docs.samsungknox.com/admin/knox-mobile-enrollment/release-notes/18-04', 'project': 'KME', 'last_updated': '2023-07-26', 'family_tree': 'parent', 'parent_id': None, 'id': '4cc46e5a-1b57-4ed3-882b-1c96e3bd28f6'}), 0.9796082450048867), (Document(page_content='녹스 모바일 등록 1.10 릴리스 노트.이제 일부 디바이스에서 푸시 업데이트를 사용할 수 있습니다. 지금까지 IT 관리자가 업데이트된 구성 프로필을 푸시하면 이 특정 프로필을 사용하는 각 디바이스가 의도했든 원하지 않든 구성 업데이트를 받습니다.이번 개선 사항을 통해 IT 관리자는 포털의 프로필 탭에서 또는 프로필 수정 시 푸시 업데이트를 적용할 개별 기기를 선택할 수 있습니다.이를 통해 관리자는 업데이트하려는 특정 기기만 업데이트하고 업데이트되지 않은 기기는 제외할 수 있습니다.단축키 추가 시 활동 이름 지원 추가 현재 KC에서는 애플리케이션 단축키에 패키지 이름만 허용하지만 연락처와 같은 일부 앱은 여러 활동을 포함하며 기기 사용자에게 독립적인 앱으로 표시됩니다.이번 릴리스에서는 이제 단축어를 만들 때 활동 이름을 제공하는 기능이 지원됩니다.하지만 단축키가 액티비티 이름으로만 제공되는 경우 클라이언트가 전체 패키지 이름 문자열 (예: `com.samsung.android.contacts/com.android.dialtactsActivity`) 의 유효성을 검사하기 때문에 KC 에이전트가 실패합니다.임시 해결책으로, KC 에이전트는 액티비티 이름을 패키지로 전달하기 전에 액티비티 이름이 존재하는지 확인합니다.Wearable Knox Configure (WKC) #Profile 할당 개선 지금까지 IT 관리자가 업데이트된 구성을 푸시하면 업데이트된 프로필을 사용하는 각 디바이스가 의도 여부에 관계없이 구성 업데이트를 받습니다.이번 개선 사항을 통해 IT 관리자는 포털의 프로필 탭에서 또는 프로필 수정 시 푸시 업데이트를 위한 개별 디바이스를 선택할 수 있습니다.이를 통해 관리자는 특정 업데이트를 받을 특정 기기만 업데이트하고 그렇지 않은 기기는 제외할 수 있습니다.공장 초기화 후 프로필의 Knox Mobile Enrollment (KME) #Cancel 설정이 적용되었습니다. 이번 릴리스 이전에는 사용자가 프로필에 설정된 내용에도 불구하고 기기가 공장 초기화된 후에 등록을 취소할 수 없었습니다', metadata={'source': 'all_processed_data_ko.json', 'seq_num': 481, 'title': '녹스 모바일 등록 1.10 릴리스 노트', 'url': 'https://docs.samsungknox.com/admin/knox-mobile-enrollment/release-notes/18-04', 'project': 'KME', 'last_updated': '2023-07-26', 'family_tree': 'child', 'parent_id': '4cc46e5a-1b57-4ed3-882b-1c96e3bd28f6', 'id': 'fcdcc21d-5c9b-4e94-8277-410b4f51ed16'}), 0.9651798062021753), (Document(page_content='녹스 스위트는 무엇인가요?Knox Suite는 기업 IT 관리자가 다양한 디바이스를 더 잘 관리할 수 있도록 설계된 번들 서비스입니다.여기에는 기업용 Knox 플랫폼, Knox 모바일 등록, Knox Manage, Knox E-FOTA 및 Knox Asset Intelligence와 같은 개별 서비스가 포함됩니다.Knox Suite의 주요 기능은 다음과 같습니다. 보안 - 사용자가 제어할 수 있는 관리형 보안 기능으로 비즈니스 데이터를 보호하세요.배포 - 기업 디바이스를 즉시 EMM에 자동으로 안전하게 등록하세요.관리 - 회사 장치 및 OS 버전을 포괄적으로 관리할 수 있습니다.분석 - 모바일 생산성 및 자산 관리를 위한 심층 장치 분석을 강화합니다.', metadata={'source': 'all_processed_data_ko.json', 'seq_num': 74, 'title': '녹스 스위트는 무엇인가요?', 'url': 'https://docs.samsungknox.com/admin/knox-suite/faq/#what-is-knox-suite', 'project': 'KS', 'last_updated': '2023-07-26', 'family_tree': 'parent', 'parent_id': None, 'id': 'fd5d2971-5d52-42f6-bf88-7a114239a4d5'}), 0.9620243939666132), (Document(page_content='녹스 스위트는 무엇인가요?Knox Suite는 기업 IT 관리자가 다양한 디바이스를 더 잘 관리할 수 있도록 설계된 번들 서비스입니다.여기에는 기업용 Knox 플랫폼, Knox 모바일 등록, Knox Manage, Knox E-FOTA 및 Knox Asset Intelligence와 같은 개별 서비스가 포함됩니다.Knox Suite의 주요 기능은 다음과 같습니다. 보안 - 사용자가 제어할 수 있는 관리형 보안 기능으로 비즈니스 데이터를 보호하세요.배포 - 기업 디바이스를 즉시 EMM에 자동으로 안전하게 등록하세요.관리 - 회사 장치 및 OS 버전을 포괄적으로 관리할 수 있습니다.분석 - 모바일 생산성 및 자산 관리를 위한 심층 장치 분석을 강화합니다.', metadata={'source': 'all_processed_data_ko.json', 'seq_num': 74, 'title': '녹스 스위트는 무엇인가요?', 'url': 'https://docs.samsungknox.com/admin/knox-suite/faq/#what-is-knox-suite', 'project': 'KS', 'last_updated': '2023-07-26', 'family_tree': 'child', 'parent_id': 'fd5d2971-5d52-42f6-bf88-7a114239a4d5', 'id': 'ce45349f-8c88-4912-b6f1-f84e6d2e0395'}), 0.9620243939666132), (Document(page_content='북마크 녹스 VPN 삼성 녹스 (안드로이드 엔터프라이즈) > 녹스 서비스 플러그인 > VPN 정책 (프리미엄) 인증서 안드로이드 엔터프라이즈 > 인증서', metadata={'source': 'all_processed_data_ko.json', 'seq_num': 868, 'title': '안드로이드 레거시와 안드로이드 엔터프라이즈 매핑', 'url': 'https://docs.samsungknox.com/admin/knox-manage/configure/devices/migrate-devices/android-legacy-to-android-enterprise-mapping', 'project': 'KM', 'last_updated': '2023-07-26', 'family_tree': 'parent', 'parent_id': None, 'id': 'dd78cd47-f6c1-4584-82d2-17daaf84c895'}), 0.9586214308604762)]\n",
      "##############################\n",
      "similar_docs_keyword\n",
      "##############################\n",
      "[(Document(page_content=\". Knox 워크스페이스에서 안드로이드로 마이그레이션엔터프라이즈 프로필 BlackBerry Dynamics가 Knox Workspace의 S9 및 S9+에 설치되지 않습니다. 서버에 구성된 프록시를 사용할 때 이 S-브라우저로 파일을 다운로드할 수 없는 이유는 무엇입니까?컨테이너 잠금을 해제하려고 할 때 “단말기가 Knox 모드로 들어갈 권한이 없습니다”라는 메시지가 표시되는 이유는 무엇인가요?키오스크 모드에서 디바이스에 부재중 전화 알림이 표시되지 않는 이유는 무엇인가요?사용자가 Knox 컨테이너 또는 디바이스 측에서 새 Wi-Fi 프로필에 연결할 수 없는 이유는 무엇인가요?잠긴 Knox Workspace 컨테이너 내에서 이메일을 보낼 때 이메일 메시지 본문이 누락되는 이유는 무엇인가요?케르베로스용 삼성 SSO 인증기가 오류 코드 1765328230을 반환하는 이유는 무엇인가요?Knox Workspace 컨테이너에서 이메일을 설정하려고 하면 “네트워크 제공업체의 기본 APN으로 다시 시도하세요”라는 오류가 발생하는 이유는 무엇입니까? Knox Workspace 컨테이너가 잠금 화면에서 내 이메일 콘텐츠를 숨기는 이유는 무엇입니까?maxEmailBodyTruncationSize () 및 MaxEmailHTMLBodyTruncationSize () 가 예상대로 작동하지 않는 이유는 무엇인가요?디바이스를 공장 초기화한 후 Knox 라이선스 시트를 잃게 되는 이유는 무엇인가요?CC (공통 기준) 모드를 사용하는 동안 Google Play에 액세스할 수 없는 이유는 무엇인가요?EMM 정책을 '공유 방법... '으로 설정하면 왜 이메일 작성이 차단되나요?Outlook 클라이언트에서 전자 메일 알림을 '읽음'으로 표시한 후에도 계속 전자 메일 알림을 받는 이유는 무엇입니까?디바이스에 “SE Android가 꺼졌습니다\", metadata={'source': 'all_processed_data_ko.json', 'seq_num': 1526, 'title': '엔터프라이즈용 Knox 플랫폼 기술 자료 문서', 'url': 'https://docs.samsungknox.com/admin/knox-platform-for-enterprise/kbas', 'project': 'KPE', 'last_updated': '2023-11-06', 'family_tree': 'child', 'parent_id': '6f78f869-ca6c-45a0-860f-1e2139ff150b', 'id': '241a8d92-7824-4c6f-98d2-da8dfdc791ac'}), 1.0), (Document(page_content='Knox 퀵 액세스란 무엇이며 어떻게 작동하나요?Knox Platform for Enterprise에 대해 가장 자주 묻는 질문입니다.Knox 퀵 액세스는 Knox 2.9 이하에서만 사용할 수 있습니다.Knox Quick Access를 사용하면 기업 사용자가 삼성 기어 디바이스와 페어링할 때 재인증 없이 Knox Workspace 컨테이너에 액세스할 수 있습니다.Knox Workspace는 기어 디바이스에 연결되면 Gear 디바이스와 블루투스 범위 내에 있을 때 미리 정해진 시간 동안 잠금 해제 상태를 유지합니다.#What 녹스 퀵 액세스와 구글 스마트 락의 차이점은 무엇인가요?, 구글 스마트 락은 안드로이드 기기의 잠금 화면을 빠르게 잠금 해제하는 데 사용됩니다.Knox 퀵 액세스는 삼성 Knox 워크스페이스 컨테이너를 빠르게 잠금 해제합니다.#Which 웨어러블이 녹스 퀵 액세스와 호환되나요?현재 삼성 기어만 녹스 퀵 액세스와 함께 사용할 수 있습니다.#How Knox Quick Access를 사용할 때 컨테이너가 잠금 해제된 상태로 유지되는 기간은 얼마나 되나요?녹스 퀵 액세스를 사용할 때의 기본 잠금 해제 시간은 2시간입니다.하지만 이는 IT 관리자가 조정할 수 있습니다.', metadata={'source': 'all_processed_data_ko.json', 'seq_num': 1396, 'title': '녹스 퀵 액세스란 무엇이며 어떻게 작동하나요?', 'url': 'https://docs.samsungknox.com/admin/knox-platform-for-enterprise/faq/#what-is-knox-quick-access-and-how-does-it-work', 'project': 'KPE', 'last_updated': '2023-07-26', 'family_tree': 'child', 'parent_id': '21169e27-c12a-43ac-b045-438a3f485cab', 'id': '3e62fc1a-c88b-4f0e-b356-4c592a955d43'}), 0.9401022920105053), (Document(page_content=\"Knox Platform for Enterprise용 기술 자료 문서Knox Platform for Enterprise 기술 자료에는 일반 문서, 알려진 문제에 대한 지원, 특정 사용 사례에 대한 가이드가 포함되어 있습니다.Knox Platform for Enterprise (KPE) 기사, Knox 레거시 워크스페이스 문서, 알려진 KPE 문제 및 해결 방법, 덜 일반적인 설정에 대한 사용 방법 문서, 가이드 일반 기사 Android에서 사용하지 않는 앱의 권한을 제거할 수 없음 13 자동 라이선스 할당 해제 예외 Android 12에 표시된 “진단 데이터 전송” 정책에 대한 기술 자료를 살펴보세요. 기업 VPN을 사용하시나요?공통 기준 평가를 위한 지침 문서 One UI 코어 디바이스에서 지원되지 않는 기업용 공통 기준 모드 Knox Platform 기능 Knox PAC 지원 (프록시 자동 구성) Knox용 Android VPN 관리 - 구성 및 문제 해결 지능형 Wi-Fi 향상된 로밍 알고리즘 파일 기반 암호화 (FBE) 및 전체 디스크 암호화 (FDE) 사용자가 디바이스에 계정을 추가하지 못하도록 차단하려면 어떤 정책을 사용하나요?장치에 사설 CA 인증서를 설치한 후 표시되는 “네트워크가 모니터링될 수 있음”이 표시됨 Samsung 이메일 클라이언트가 “불투명 서명된” 이메일을 지원합니까?네트워크 사업자가 직원의 디바이스에 E_APN을 구성할 수 있나요?MDM이 있는 디바이스에 유사한 Knox 정책 두 개를 적용할 경우 어느 것이 우선할까요?Knox VPN 클라이언트를 Knox 컨테이너 내부 또는 외부에 설치해야 할까요?삼성 시스코 애니커넥트와 주니퍼 VPN 클라이언트의 패키지 이름은 무엇입니까?Android 자격 증명 스토리지에 인증서를 설치하는 데 필요한 잠금 해제 방법의 최소 수준은 무엇입니까?APK 패키지 이름을 와일드카드로 사용하는 적절한 방법은 무엇인가요?기기 증명을 수행하려면 EMM이 어떤 서버와 통신해야 하나요?방화벽 규칙의 우선 순위는 무엇입니까?삼성 앱이 인증된 프록시와 연동되도록 하려면 허용 목록에 어떤 URL을 추가해야 하나요?Knox 지원 디바이스에서 절전 모드를 비활성화할 수 있나요?Android용 SE 문제를 해결할 수 없는 경우 누구에게 에스컬레이션해야 하나요?로밍 중에 이메일 동기화를 자동으로 활성화하는 방법이 있나요?KPE Standard 라이선스의 “최대 라이선스 수”라는 용어는 무엇을 의미하나요?Knox 레거시 워크스페이스 문서 작업 프로필에서 공용 액세스 카드 (CAC) 와 함께 SSO 사용 Knox 플랫폼 TrustZone에 저장할 수 있는 인증서는 몇 개입니까?Active Directory 네트워크에 연결하지 않고 Knox Workspace에 액세스 Active Directory 자격 증명을 사용하여 Knox Workspace 컨테이너를 잠금 해제하는 방법 Knox CCM 키스토어의 인증서 길이 제한은 어떻게 되나요?엔터프라이즈 디바이스용 Knox 플랫폼에서 RSA 키 페어를 생성할 수 있나요?알려진 문제 삼성 캘린더 앱을 설치할 수 없음 CWE-297 삼성 이메일 앱 보안 패치를 설치할 수 없음 삼성 이메일 앱에 로그인하거나 동기화할 수 없음 삼성 이메일 앱 디바이스가 경고 없이 임의로 재부팅됨 Android 시스템 WebView 업데이트 후 삼성 디바이스가 재부팅됨 설정 앱에서 무선 긴급 알림이 표시되지 않음 잠금 화면에서 연락처 정보를 편집할 수 없음 Android 13으로 업그레이드한 후 Workspace 라이선스로 잠긴 디바이스가 만료됨 VMware Workspace ONE® Intelligent Hub 앱을 업데이트한 후 연결 또는 동기화 문제가 발생했습니다.Android 13용 Android 13 S22 디바이스 등록 실패 삼성 디바이스를 Android 12로 업데이트한 후 인증서가 누락되었습니다. 디바이스는.local 도메인이 있는 사이트에 연결할 수 없음 KSP APN 설정 정책이 WP-C 디바이스에 추가되지 않음 Knox 서비스 플러그인이 사용자 디바이스에서 제거되지 않음 다양한 Android 엔터프라이즈 활성화에서 스마트 스위치 호환성 계정 설정 중에 이메일 클라이언트를 디바이스 관리자 앱으로 활성화할 수 없음 XCover Pro 디바이스의 Microsoft Teams에서 워키토키 기능이 보이지 않음 KSP 최적화 허용 목록 정책이 아닌 것 같습니다.장치에 즉시 적용 UEM 정책 적용 후 개인 공간에서 작업 프로필로 복사 및 붙여넣기가 차단되지 않음 삼성 갤러리 앱을 Android 11에 설치할 수 없음 삼성 갤러리 앱을 설치할 수 없음 삼성 DeX에 장치를 연결한 후 PC에서 Android 주변 공유를 비활성화할 수 없음 애플리케이션 관리 정책을 통해 Android 주변 공유를 비활성화할 수 없음 Knox 서비스 플러그인의 장치 변경 및 설정 사용자 지정이 적용되지 않음 CreateAPNSettings 반환 -1 “잘못된 MVNO 유형” 오류 — 삼성 계정 생성 시 “계정이 이미 있습니다.” 라는 오류 메시지가 표시됨. 텍스트 복사 및 붙여넣기개인 및 워크스페이스 디바이스 프로필 삼성 이메일 계정은 관리 대상 디바이스에서 제거할 수 없습니다. AE DO 모드의 디바이스는 Knox Platform for Enterprise 라이선스가 만료되거나 비활성화될 때 공장 초기화가 필요합니다. Knox 서비스를 통해 설정된 정책이 디바이스에 적용되지 않음 Knox Service Plugin이 작업 프로필에 표시되지 않음 Knox Service Plugin이 Knox Workspace에 설치된 후 충돌함 삼성 이메일 클라이언트에서 설정을 수정할 수 없습니다. 디바이스 시작 시 “Workspace License Expired”라는 오류가 U를 변경하지 않고 나타납니다. EM, 녹스 워크스페이스/Android Enterprise 프로필 유형 또는 라이선스 키 듀얼 메신저가 회사 지원 장치에서 작동하지 않음 완전 관리형 작업 프로필 장치 (DO+PO) 에서는 스마트 스위치를 사용할 수 없습니다. FOTA 업데이트 후 장치의 SMS/문자 메시지 수신이 중지됨 MDM/UEM 앱 업그레이드 시 비활성화된 작업 프로필이 삭제됨 장치의 화면 방향이 변경되면 원격 데스크톱이 화면 캡처를 중단함 암호 준수 검사 장치에서 잘못된 결과를 반환함 장치에 잘못된 결과가 반환된 후 장치가 잠겨 “Workspace License Expired” 오류가 발생했습니다. Knox 워크스페이스에서 안드로이드로 마이그레이션엔터프라이즈 프로필 BlackBerry Dynamics가 Knox Workspace의 S9 및 S9+에 설치되지 않습니다. 서버에 구성된 프록시를 사용할 때 이 S-브라우저로 파일을 다운로드할 수 없는 이유는 무엇입니까?컨테이너 잠금을 해제하려고 할 때 “단말기가 Knox 모드로 들어갈 권한이 없습니다”라는 메시지가 표시되는 이유는 무엇인가요?키오스크 모드에서 디바이스에 부재중 전화 알림이 표시되지 않는 이유는 무엇인가요?사용자가 Knox 컨테이너 또는 디바이스 측에서 새 Wi-Fi 프로필에 연결할 수 없는 이유는 무엇인가요?잠긴 Knox Workspace 컨테이너 내에서 이메일을 보낼 때 이메일 메시지 본문이 누락되는 이유는 무엇인가요?케르베로스용 삼성 SSO 인증기가 오류 코드 1765328230을 반환하는 이유는 무엇인가요?Knox Workspace 컨테이너에서 이메일을 설정하려고 하면 “네트워크 제공업체의 기본 APN으로 다시 시도하세요”라는 오류가 발생하는 이유는 무엇입니까? Knox Workspace 컨테이너가 잠금 화면에서 내 이메일 콘텐츠를 숨기는 이유는 무엇입니까?maxEmailBodyTruncationSize () 및 MaxEmailHTMLBodyTruncationSize () 가 예상대로 작동하지 않는 이유는 무엇인가요?디바이스를 공장 초기화한 후 Knox 라이선스 시트를 잃게 되는 이유는 무엇인가요?CC (공통 기준) 모드를 사용하는 동안 Google Play에 액세스할 수 없는 이유는 무엇인가요?EMM 정책을 '공유 방법... '으로 설정하면 왜 이메일 작성이 차단되나요?Outlook 클라이언트에서 전자 메일 알림을 '읽음'으로 표시한 후에도 계속 전자 메일 알림을 받는 이유는 무엇입니까?디바이스에 “SE Android가 꺼졌습니다\", metadata={'source': 'all_processed_data_ko.json', 'seq_num': 1526, 'title': '엔터프라이즈용 Knox 플랫폼 기술 자료 문서', 'url': 'https://docs.samsungknox.com/admin/knox-platform-for-enterprise/kbas', 'project': 'KPE', 'last_updated': '2023-11-06', 'family_tree': 'parent', 'parent_id': None, 'id': '6f78f869-ca6c-45a0-860f-1e2139ff150b'}), 0.9328836120071955), (Document(page_content='Knox 퀵 액세스란 무엇이며 어떻게 작동하나요?Knox Platform for Enterprise에 대해 가장 자주 묻는 질문입니다.Knox 퀵 액세스는 Knox 2.9 이하에서만 사용할 수 있습니다.Knox Quick Access를 사용하면 기업 사용자가 삼성 기어 디바이스와 페어링할 때 재인증 없이 Knox Workspace 컨테이너에 액세스할 수 있습니다.Knox Workspace는 기어 디바이스에 연결되면 Gear 디바이스와 블루투스 범위 내에 있을 때 미리 정해진 시간 동안 잠금 해제 상태를 유지합니다.#What 녹스 퀵 액세스와 구글 스마트 락의 차이점은 무엇인가요?, 구글 스마트 락은 안드로이드 기기의 잠금 화면을 빠르게 잠금 해제하는 데 사용됩니다.Knox 퀵 액세스는 삼성 Knox 워크스페이스 컨테이너를 빠르게 잠금 해제합니다.#Which 웨어러블이 녹스 퀵 액세스와 호환되나요?현재 삼성 기어만 녹스 퀵 액세스와 함께 사용할 수 있습니다.#How Knox Quick Access를 사용할 때 컨테이너가 잠금 해제된 상태로 유지되는 기간은 얼마나 되나요?녹스 퀵 액세스를 사용할 때의 기본 잠금 해제 시간은 2시간입니다.하지만 이는 IT 관리자가 조정할 수 있습니다.', metadata={'source': 'all_processed_data_ko.json', 'seq_num': 1396, 'title': '녹스 퀵 액세스란 무엇이며 어떻게 작동하나요?', 'url': 'https://docs.samsungknox.com/admin/knox-platform-for-enterprise/faq/#what-is-knox-quick-access-and-how-does-it-work', 'project': 'KPE', 'last_updated': '2023-07-26', 'family_tree': 'parent', 'parent_id': None, 'id': '21169e27-c12a-43ac-b045-438a3f485cab'}), 0.9267157081832886), (Document(page_content='Knox 서비스를 통해 설정된 정책이 디바이스에 적용되지 않습니다.일부 사용자는 Knox 서비스를 통해 설정된 특정 정책이 자신의 디바이스에 적용되지 않는다고 보고하고 있습니다.Knox 서비스를 통해 설정한 정책이 삼성 Knox 디바이스에 적용되지 않는 이유는 무엇인가요?디바이스가 두 개 이상의 삼성 Knox 서비스에 등록된 경우 경우에 따라 디바이스에 영향을 미치는 중복 정책이 있을 수 있습니다.그렇다면 가장 제한적인 정책이 적용되는 것입니다.예를 들어 디바이스가 녹스 컨피규어와 녹스 E-FOTA 어드밴스에 등록되어 있습니다.Knox Configure에서는 팩토리 리셋 옵션을 비활성화했지만 Knox E-FOTA Advance에서는 활성화하면 디바이스에서 팩토리 리셋이 비활성화됩니다.권장사항 디바이스 레벨 충돌이 발생하지 않도록 하려면 디바이스가 등록된 삼성 Knox 서비스 전체에 중복되는 정책이 없는지 확인하세요.', metadata={'source': 'all_processed_data_ko.json', 'seq_num': 1484, 'title': 'Knox 서비스를 통해 설정된 정책이 디바이스에 적용되지 않음', 'url': 'https://docs.samsungknox.com/admin/knox-platform-for-enterprise/kbas/kba-360042916154', 'project': 'KPE', 'last_updated': '2023-07-26', 'family_tree': 'child', 'parent_id': 'd5ece4a8-ef9a-4ede-89b6-17d6b44f5c9c', 'id': '15c780de-a494-4dde-a56d-97032ee77eba'}), 0.9190963714755532), (Document(page_content='비즈니스용 삼성 케어+ (SCB) 지식 기반 문서 (KBA).알려진 SCB 고급 문제 및 해결 방법, 자주 사용하지 않는 설정에 대한 사용 방법 가이드, 일반 SCB 고급 문서 - 라이선스 할당이란 무엇입니까? 에 대한 지식 베이스를 살펴보세요.내 고객 ID는 무엇이며 어디서 찾을 수 있나요?KDP 리셀러는 무엇인가요?라이선스 번호를 어떻게 받을 수 있나요?비즈니스용 삼성 케어+ 디바이스를 활성화하려면 어떻게 해야 하나요?클레임을 신청하려면 어떻게 해야 하나요?기기의 IMEI를 확인하려면 어떻게 해야 하나요?비즈니스용 삼성 케어+를 활성화하려면 기기에 어떤 앱을 설치해야 하나요?비즈니스용 삼성 케어+를 취소하려면 어떻게 해야 하나요?비즈니스용 삼성 케어+는 다른 제조업체의 기기에도 적용되나요?스왑과 BER이란 무엇인가요?', metadata={'source': 'all_processed_data_ko.json', 'seq_num': 394, 'title': '비즈니스용 삼성 케어+ (SCB) 지식 기반 문서 (KBA)', 'url': 'https://docs.samsungknox.com/admin/care-plus/kbas', 'project': 'SCPE', 'last_updated': '2023-07-26', 'family_tree': 'parent', 'parent_id': None, 'id': '99f93210-7272-4be6-a6ac-c3b7f335cdb1'}), 0.885771250076355), (Document(page_content='비즈니스용 삼성 케어+ (SCB) 지식 기반 문서 (KBA).알려진 SCB 고급 문제 및 해결 방법, 자주 사용하지 않는 설정에 대한 사용 방법 가이드, 일반 SCB 고급 문서 - 라이선스 할당이란 무엇입니까? 에 대한 지식 베이스를 살펴보세요.내 고객 ID는 무엇이며 어디서 찾을 수 있나요?KDP 리셀러는 무엇인가요?라이선스 번호를 어떻게 받을 수 있나요?비즈니스용 삼성 케어+ 디바이스를 활성화하려면 어떻게 해야 하나요?클레임을 신청하려면 어떻게 해야 하나요?기기의 IMEI를 확인하려면 어떻게 해야 하나요?비즈니스용 삼성 케어+를 활성화하려면 기기에 어떤 앱을 설치해야 하나요?비즈니스용 삼성 케어+를 취소하려면 어떻게 해야 하나요?비즈니스용 삼성 케어+는 다른 제조업체의 기기에도 적용되나요?스왑과 BER이란 무엇인가요?', metadata={'source': 'all_processed_data_ko.json', 'seq_num': 394, 'title': '비즈니스용 삼성 케어+ (SCB) 지식 기반 문서 (KBA)', 'url': 'https://docs.samsungknox.com/admin/care-plus/kbas', 'project': 'SCPE', 'last_updated': '2023-07-26', 'family_tree': 'child', 'parent_id': '99f93210-7272-4be6-a6ac-c3b7f335cdb1', 'id': '8294536f-6d97-4239-84ff-d35ce8a76fc1'}), 0.885771250076355)]\n",
      "##############################\n",
      "similar_docs\n",
      "##############################\n",
      "[(Document(page_content='녹스 스위트는 무엇인가요?Knox Suite는 기업 IT 관리자가 다양한 디바이스를 더 잘 관리할 수 있도록 설계된 번들 서비스입니다.여기에는 기업용 Knox 플랫폼, Knox 모바일 등록, Knox Manage, Knox E-FOTA 및 Knox Asset Intelligence와 같은 개별 서비스가 포함됩니다.Knox Suite의 주요 기능은 다음과 같습니다. 보안 - 사용자가 제어할 수 있는 관리형 보안 기능으로 비즈니스 데이터를 보호하세요.배포 - 기업 디바이스를 즉시 EMM에 자동으로 안전하게 등록하세요.관리 - 회사 장치 및 OS 버전을 포괄적으로 관리할 수 있습니다.분석 - 모바일 생산성 및 자산 관리를 위한 심층 장치 분석을 강화합니다.', metadata={'source': 'all_processed_data_ko.json', 'seq_num': 74, 'title': '녹스 스위트는 무엇인가요?', 'url': 'https://docs.samsungknox.com/admin/knox-suite/faq/#what-is-knox-suite', 'project': 'KS', 'last_updated': '2023-07-26', 'family_tree': 'child', 'parent_id': 'fd5d2971-5d52-42f6-bf88-7a114239a4d5', 'id': 'ce45349f-8c88-4912-b6f1-f84e6d2e0395'}), 0.1973632276058197), (Document(page_content='Knox 퀵 액세스란 무엇이며 어떻게 작동하나요?Knox Platform for Enterprise에 대해 가장 자주 묻는 질문입니다.Knox 퀵 액세스는 Knox 2.9 이하에서만 사용할 수 있습니다.Knox Quick Access를 사용하면 기업 사용자가 삼성 기어 디바이스와 페어링할 때 재인증 없이 Knox Workspace 컨테이너에 액세스할 수 있습니다.Knox Workspace는 기어 디바이스에 연결되면 Gear 디바이스와 블루투스 범위 내에 있을 때 미리 정해진 시간 동안 잠금 해제 상태를 유지합니다.#What 녹스 퀵 액세스와 구글 스마트 락의 차이점은 무엇인가요?, 구글 스마트 락은 안드로이드 기기의 잠금 화면을 빠르게 잠금 해제하는 데 사용됩니다.Knox 퀵 액세스는 삼성 Knox 워크스페이스 컨테이너를 빠르게 잠금 해제합니다.#Which 웨어러블이 녹스 퀵 액세스와 호환되나요?현재 삼성 기어만 녹스 퀵 액세스와 함께 사용할 수 있습니다.#How Knox Quick Access를 사용할 때 컨테이너가 잠금 해제된 상태로 유지되는 기간은 얼마나 되나요?녹스 퀵 액세스를 사용할 때의 기본 잠금 해제 시간은 2시간입니다.하지만 이는 IT 관리자가 조정할 수 있습니다.', metadata={'source': 'all_processed_data_ko.json', 'seq_num': 1396, 'title': '녹스 퀵 액세스란 무엇이며 어떻게 작동하나요?', 'url': 'https://docs.samsungknox.com/admin/knox-platform-for-enterprise/faq/#what-is-knox-quick-access-and-how-does-it-work', 'project': 'KPE', 'last_updated': '2023-07-26', 'family_tree': 'parent', 'parent_id': None, 'id': '21169e27-c12a-43ac-b045-438a3f485cab'}), 0.022182373012340075), (Document(page_content=\". Knox 워크스페이스에서 안드로이드로 마이그레이션엔터프라이즈 프로필 BlackBerry Dynamics가 Knox Workspace의 S9 및 S9+에 설치되지 않습니다. 서버에 구성된 프록시를 사용할 때 이 S-브라우저로 파일을 다운로드할 수 없는 이유는 무엇입니까?컨테이너 잠금을 해제하려고 할 때 “단말기가 Knox 모드로 들어갈 권한이 없습니다”라는 메시지가 표시되는 이유는 무엇인가요?키오스크 모드에서 디바이스에 부재중 전화 알림이 표시되지 않는 이유는 무엇인가요?사용자가 Knox 컨테이너 또는 디바이스 측에서 새 Wi-Fi 프로필에 연결할 수 없는 이유는 무엇인가요?잠긴 Knox Workspace 컨테이너 내에서 이메일을 보낼 때 이메일 메시지 본문이 누락되는 이유는 무엇인가요?케르베로스용 삼성 SSO 인증기가 오류 코드 1765328230을 반환하는 이유는 무엇인가요?Knox Workspace 컨테이너에서 이메일을 설정하려고 하면 “네트워크 제공업체의 기본 APN으로 다시 시도하세요”라는 오류가 발생하는 이유는 무엇입니까? Knox Workspace 컨테이너가 잠금 화면에서 내 이메일 콘텐츠를 숨기는 이유는 무엇입니까?maxEmailBodyTruncationSize () 및 MaxEmailHTMLBodyTruncationSize () 가 예상대로 작동하지 않는 이유는 무엇인가요?디바이스를 공장 초기화한 후 Knox 라이선스 시트를 잃게 되는 이유는 무엇인가요?CC (공통 기준) 모드를 사용하는 동안 Google Play에 액세스할 수 없는 이유는 무엇인가요?EMM 정책을 '공유 방법... '으로 설정하면 왜 이메일 작성이 차단되나요?Outlook 클라이언트에서 전자 메일 알림을 '읽음'으로 표시한 후에도 계속 전자 메일 알림을 받는 이유는 무엇입니까?디바이스에 “SE Android가 꺼졌습니다\", metadata={'source': 'all_processed_data_ko.json', 'seq_num': 1526, 'title': '엔터프라이즈용 Knox 플랫폼 기술 자료 문서', 'url': 'https://docs.samsungknox.com/admin/knox-platform-for-enterprise/kbas', 'project': 'KPE', 'last_updated': '2023-11-06', 'family_tree': 'child', 'parent_id': '6f78f869-ca6c-45a0-860f-1e2139ff150b', 'id': '241a8d92-7824-4c6f-98d2-da8dfdc791ac'}), 0.0212261033381133), (Document(page_content='녹스 모바일 등록 1.10 릴리스 노트.이제 일부 디바이스에서 푸시 업데이트를 사용할 수 있습니다. 지금까지 IT 관리자가 업데이트된 구성 프로필을 푸시하면 이 특정 프로필을 사용하는 각 디바이스가 의도했든 원하지 않든 구성 업데이트를 받습니다.이번 개선 사항을 통해 IT 관리자는 포털의 프로필 탭에서 또는 프로필 수정 시 푸시 업데이트를 적용할 개별 기기를 선택할 수 있습니다.이를 통해 관리자는 업데이트하려는 특정 기기만 업데이트하고 업데이트되지 않은 기기는 제외할 수 있습니다.단축키 추가 시 활동 이름 지원 추가 현재 KC에서는 애플리케이션 단축키에 패키지 이름만 허용하지만 연락처와 같은 일부 앱은 여러 활동을 포함하며 기기 사용자에게 독립적인 앱으로 표시됩니다.이번 릴리스에서는 이제 단축어를 만들 때 활동 이름을 제공하는 기능이 지원됩니다.하지만 단축키가 액티비티 이름으로만 제공되는 경우 클라이언트가 전체 패키지 이름 문자열 (예: `com.samsung.android.contacts/com.android.dialtactsActivity`) 의 유효성을 검사하기 때문에 KC 에이전트가 실패합니다.임시 해결책으로, KC 에이전트는 액티비티 이름을 패키지로 전달하기 전에 액티비티 이름이 존재하는지 확인합니다.Wearable Knox Configure (WKC) #Profile 할당 개선 지금까지 IT 관리자가 업데이트된 구성을 푸시하면 업데이트된 프로필을 사용하는 각 디바이스가 의도 여부에 관계없이 구성 업데이트를 받습니다.이번 개선 사항을 통해 IT 관리자는 포털의 프로필 탭에서 또는 프로필 수정 시 푸시 업데이트를 위한 개별 디바이스를 선택할 수 있습니다.이를 통해 관리자는 특정 업데이트를 받을 특정 기기만 업데이트하고 그렇지 않은 기기는 제외할 수 있습니다.공장 초기화 후 프로필의 Knox Mobile Enrollment (KME) #Cancel 설정이 적용되었습니다. 이번 릴리스 이전에는 사용자가 프로필에 설정된 내용에도 불구하고 기기가 공장 초기화된 후에 등록을 취소할 수 없었습니다', metadata={'source': 'all_processed_data_ko.json', 'seq_num': 481, 'title': '녹스 모바일 등록 1.10 릴리스 노트', 'url': 'https://docs.samsungknox.com/admin/knox-mobile-enrollment/release-notes/18-04', 'project': 'KME', 'last_updated': '2023-07-26', 'family_tree': 'child', 'parent_id': '4cc46e5a-1b57-4ed3-882b-1c96e3bd28f6', 'id': 'fcdcc21d-5c9b-4e94-8277-410b4f51ed16'}), 0.007380306293126396), (Document(page_content='녹스 모바일 등록 1.10 릴리스 노트.이제 일부 디바이스에서 푸시 업데이트를 사용할 수 있습니다. 지금까지 IT 관리자가 업데이트된 구성 프로필을 푸시하면 이 특정 프로필을 사용하는 각 디바이스가 의도했든 원하지 않든 구성 업데이트를 받습니다.이번 개선 사항을 통해 IT 관리자는 포털의 프로필 탭에서 또는 프로필 수정 시 푸시 업데이트를 적용할 개별 기기를 선택할 수 있습니다.이를 통해 관리자는 업데이트하려는 특정 기기만 업데이트하고 업데이트되지 않은 기기는 제외할 수 있습니다.단축키 추가 시 활동 이름 지원 추가 현재 KC에서는 애플리케이션 단축키에 패키지 이름만 허용하지만 연락처와 같은 일부 앱은 여러 활동을 포함하며 기기 사용자에게 독립적인 앱으로 표시됩니다.이번 릴리스에서는 이제 단축어를 만들 때 활동 이름을 제공하는 기능이 지원됩니다.하지만 단축키가 액티비티 이름으로만 제공되는 경우 클라이언트가 전체 패키지 이름 문자열 (예: `com.samsung.android.contacts/com.android.dialtactsActivity`) 의 유효성을 검사하기 때문에 KC 에이전트가 실패합니다.임시 해결책으로, KC 에이전트는 액티비티 이름을 패키지로 전달하기 전에 액티비티 이름이 존재하는지 확인합니다.Wearable Knox Configure (WKC) #Profile 할당 개선 지금까지 IT 관리자가 업데이트된 구성을 푸시하면 업데이트된 프로필을 사용하는 각 디바이스가 의도 여부에 관계없이 구성 업데이트를 받습니다.이번 개선 사항을 통해 IT 관리자는 포털의 프로필 탭에서 또는 프로필 수정 시 푸시 업데이트를 위한 개별 디바이스를 선택할 수 있습니다.이를 통해 관리자는 특정 업데이트를 받을 특정 기기만 업데이트하고 그렇지 않은 기기는 제외할 수 있습니다.공장 초기화 후 프로필의 Knox Mobile Enrollment (KME) #Cancel 설정이 적용되었습니다. 이번 릴리스 이전에는 사용자가 프로필에 설정된 내용에도 불구하고 기기가 공장 초기화된 후에 등록을 취소할 수 없었습니다.이제 기기가 공장 초기화되었더라도 취소 프로필 설정이 그대로 유지됩니다.리셀러 포털 #Bulk 디바이스 삭제 횟수는 이제 단일 삭제 작업당 1,000개로 제한됩니다. 현재까지 리셀러 포털에서는 한 번에 최대 10,000개의 디바이스 대량 삭제가 허용됩니다.하지만 수만 대의 디바이스를 대량으로 삭제하면 오류 메시지가 발생하여 여러 스레드가 생성될 수 있습니다.오류 가능성을 줄이기 위해 단일 삭제 작업에서 대량 디바이스 삭제는 1,000회를 초과할 수 없습니다.릴리스 노트로 돌아가기', metadata={'source': 'all_processed_data_ko.json', 'seq_num': 481, 'title': '녹스 모바일 등록 1.10 릴리스 노트', 'url': 'https://docs.samsungknox.com/admin/knox-mobile-enrollment/release-notes/18-04', 'project': 'KME', 'last_updated': '2023-07-26', 'family_tree': 'parent', 'parent_id': None, 'id': '4cc46e5a-1b57-4ed3-882b-1c96e3bd28f6'}), 0.005784719506636147)]\n",
      "\n",
      "==========  Results  ==========\n",
      "\n",
      "1. question: 녹스가 무엇인가요?\n",
      "2. # documents: 5\n",
      "3. Documents: \n",
      "\n",
      "-----------------------------------------------\n",
      "1. Chunk: 368 Characters\n",
      "-----------------------------------------------\n",
      "녹스 스위트는 무엇인가요?Knox Suite는 기업 IT 관리자가 다양한 디바이스를 더 잘 관리할 수 있도록 설계된 번들 서비스입니다.여기에는 기업용 Knox 플랫폼, Knox\n",
      "모바일 등록, Knox Manage, Knox E-FOTA 및 Knox Asset Intelligence와 같은 개별 서비스가 포함됩니다.Knox Suite의 주요 기능은 다음과\n",
      "같습니다. 보안 - 사용자가 제어할 수 있는 관리형 보안 기능으로 비즈니스 데이터를 보호하세요.배포 - 기업 디바이스를 즉시 EMM에 자동으로 안전하게 등록하세요.관리 - 회사\n",
      "장치 및 OS 버전을 포괄적으로 관리할 수 있습니다.분석 - 모바일 생산성 및 자산 관리를 위한 심층 장치 분석을 강화합니다.\n",
      "metadata:\n",
      " {'source': 'all_processed_data_ko.json', 'seq_num': 74, 'title': '녹스 스위트는 무엇인가요?', 'url':\n",
      "'https://docs.samsungknox.com/admin/knox-suite/faq/#what-is-knox-suite', 'project': 'KS',\n",
      "'last_updated': '2023-07-26', 'family_tree': 'child', 'parent_id':\n",
      "'fd5d2971-5d52-42f6-bf88-7a114239a4d5', 'id': 'ce45349f-8c88-4912-b6f1-f84e6d2e0395'}\n",
      "-----------------------------------------------\n",
      "2. Chunk: 612 Characters\n",
      "-----------------------------------------------\n",
      "Knox 퀵 액세스란 무엇이며 어떻게 작동하나요?Knox Platform for Enterprise에 대해 가장 자주 묻는 질문입니다.Knox 퀵 액세스는 Knox 2.9\n",
      "이하에서만 사용할 수 있습니다.Knox Quick Access를 사용하면 기업 사용자가 삼성 기어 디바이스와 페어링할 때 재인증 없이 Knox Workspace 컨테이너에 액세스할\n",
      "수 있습니다.Knox Workspace는 기어 디바이스에 연결되면 Gear 디바이스와 블루투스 범위 내에 있을 때 미리 정해진 시간 동안 잠금 해제 상태를 유지합니다.#What\n",
      "녹스 퀵 액세스와 구글 스마트 락의 차이점은 무엇인가요?, 구글 스마트 락은 안드로이드 기기의 잠금 화면을 빠르게 잠금 해제하는 데 사용됩니다.Knox 퀵 액세스는 삼성 Knox\n",
      "워크스페이스 컨테이너를 빠르게 잠금 해제합니다.#Which 웨어러블이 녹스 퀵 액세스와 호환되나요?현재 삼성 기어만 녹스 퀵 액세스와 함께 사용할 수 있습니다.#How Knox\n",
      "Quick Access를 사용할 때 컨테이너가 잠금 해제된 상태로 유지되는 기간은 얼마나 되나요?녹스 퀵 액세스를 사용할 때의 기본 잠금 해제 시간은 2시간입니다.하지만 이는 IT\n",
      "관리자가 조정할 수 있습니다.\n",
      "metadata:\n",
      " {'source': 'all_processed_data_ko.json', 'seq_num': 1396, 'title': '녹스 퀵 액세스란 무엇이며 어떻게 작동하나요?',\n",
      "'url': 'https://docs.samsungknox.com/admin/knox-platform-for-enterprise/faq/#what-is-knox-quick-\n",
      "access-and-how-does-it-work', 'project': 'KPE', 'last_updated': '2023-07-26', 'family_tree':\n",
      "'parent', 'parent_id': None, 'id': '21169e27-c12a-43ac-b045-438a3f485cab'}\n",
      "-----------------------------------------------\n",
      "3. Chunk: 912 Characters\n",
      "-----------------------------------------------\n",
      ". Knox 워크스페이스에서 안드로이드로 마이그레이션엔터프라이즈 프로필 BlackBerry Dynamics가 Knox Workspace의 S9 및 S9+에 설치되지 않습니다.\n",
      "서버에 구성된 프록시를 사용할 때 이 S-브라우저로 파일을 다운로드할 수 없는 이유는 무엇입니까?컨테이너 잠금을 해제하려고 할 때 “단말기가 Knox 모드로 들어갈 권한이\n",
      "없습니다”라는 메시지가 표시되는 이유는 무엇인가요?키오스크 모드에서 디바이스에 부재중 전화 알림이 표시되지 않는 이유는 무엇인가요?사용자가 Knox 컨테이너 또는 디바이스 측에서\n",
      "새 Wi-Fi 프로필에 연결할 수 없는 이유는 무엇인가요?잠긴 Knox Workspace 컨테이너 내에서 이메일을 보낼 때 이메일 메시지 본문이 누락되는 이유는\n",
      "무엇인가요?케르베로스용 삼성 SSO 인증기가 오류 코드 1765328230을 반환하는 이유는 무엇인가요?Knox Workspace 컨테이너에서 이메일을 설정하려고 하면 “네트워크\n",
      "제공업체의 기본 APN으로 다시 시도하세요”라는 오류가 발생하는 이유는 무엇입니까? Knox Workspace 컨테이너가 잠금 화면에서 내 이메일 콘텐츠를 숨기는 이유는\n",
      "무엇입니까?maxEmailBodyTruncationSize () 및 MaxEmailHTMLBodyTruncationSize () 가 예상대로 작동하지 않는 이유는\n",
      "무엇인가요?디바이스를 공장 초기화한 후 Knox 라이선스 시트를 잃게 되는 이유는 무엇인가요?CC (공통 기준) 모드를 사용하는 동안 Google Play에 액세스할 수 없는\n",
      "이유는 무엇인가요?EMM 정책을 '공유 방법... '으로 설정하면 왜 이메일 작성이 차단되나요?Outlook 클라이언트에서 전자 메일 알림을 '읽음'으로 표시한 후에도 계속 전자\n",
      "메일 알림을 받는 이유는 무엇입니까?디바이스에 “SE Android가 꺼졌습니다\n",
      "metadata:\n",
      " {'source': 'all_processed_data_ko.json', 'seq_num': 1526, 'title': '엔터프라이즈용 Knox 플랫폼 기술 자료 문서',\n",
      "'url': 'https://docs.samsungknox.com/admin/knox-platform-for-enterprise/kbas', 'project': 'KPE',\n",
      "'last_updated': '2023-11-06', 'family_tree': 'child', 'parent_id':\n",
      "'6f78f869-ca6c-45a0-860f-1e2139ff150b', 'id': '241a8d92-7824-4c6f-98d2-da8dfdc791ac'}\n",
      "-----------------------------------------------\n",
      "4. Chunk: 1019 Characters\n",
      "-----------------------------------------------\n",
      "녹스 모바일 등록 1.10 릴리스 노트.이제 일부 디바이스에서 푸시 업데이트를 사용할 수 있습니다. 지금까지 IT 관리자가 업데이트된 구성 프로필을 푸시하면 이 특정 프로필을\n",
      "사용하는 각 디바이스가 의도했든 원하지 않든 구성 업데이트를 받습니다.이번 개선 사항을 통해 IT 관리자는 포털의 프로필 탭에서 또는 프로필 수정 시 푸시 업데이트를 적용할 개별\n",
      "기기를 선택할 수 있습니다.이를 통해 관리자는 업데이트하려는 특정 기기만 업데이트하고 업데이트되지 않은 기기는 제외할 수 있습니다.단축키 추가 시 활동 이름 지원 추가 현재\n",
      "KC에서는 애플리케이션 단축키에 패키지 이름만 허용하지만 연락처와 같은 일부 앱은 여러 활동을 포함하며 기기 사용자에게 독립적인 앱으로 표시됩니다.이번 릴리스에서는 이제 단축어를\n",
      "만들 때 활동 이름을 제공하는 기능이 지원됩니다.하지만 단축키가 액티비티 이름으로만 제공되는 경우 클라이언트가 전체 패키지 이름 문자열 (예:\n",
      "`com.samsung.android.contacts/com.android.dialtactsActivity`) 의 유효성을 검사하기 때문에 KC 에이전트가 실패합니다.임시\n",
      "해결책으로, KC 에이전트는 액티비티 이름을 패키지로 전달하기 전에 액티비티 이름이 존재하는지 확인합니다.Wearable Knox Configure (WKC) #Profile 할당\n",
      "개선 지금까지 IT 관리자가 업데이트된 구성을 푸시하면 업데이트된 프로필을 사용하는 각 디바이스가 의도 여부에 관계없이 구성 업데이트를 받습니다.이번 개선 사항을 통해 IT\n",
      "관리자는 포털의 프로필 탭에서 또는 프로필 수정 시 푸시 업데이트를 위한 개별 디바이스를 선택할 수 있습니다.이를 통해 관리자는 특정 업데이트를 받을 특정 기기만 업데이트하고\n",
      "그렇지 않은 기기는 제외할 수 있습니다.공장 초기화 후 프로필의 Knox Mobile Enrollment (KME) #Cancel 설정이 적용되었습니다. 이번 릴리스 이전에는\n",
      "사용자가 프로필에 설정된 내용에도 불구하고 기기가 공장 초기화된 후에 등록을 취소할 수 없었습니다\n",
      "metadata:\n",
      " {'source': 'all_processed_data_ko.json', 'seq_num': 481, 'title': '녹스 모바일 등록 1.10 릴리스 노트', 'url':\n",
      "'https://docs.samsungknox.com/admin/knox-mobile-enrollment/release-notes/18-04', 'project': 'KME',\n",
      "'last_updated': '2023-07-26', 'family_tree': 'child', 'parent_id':\n",
      "'4cc46e5a-1b57-4ed3-882b-1c96e3bd28f6', 'id': 'fcdcc21d-5c9b-4e94-8277-410b4f51ed16'}\n",
      "-----------------------------------------------\n",
      "5. Chunk: 1290 Characters\n",
      "-----------------------------------------------\n",
      "녹스 모바일 등록 1.10 릴리스 노트.이제 일부 디바이스에서 푸시 업데이트를 사용할 수 있습니다. 지금까지 IT 관리자가 업데이트된 구성 프로필을 푸시하면 이 특정 프로필을\n",
      "사용하는 각 디바이스가 의도했든 원하지 않든 구성 업데이트를 받습니다.이번 개선 사항을 통해 IT 관리자는 포털의 프로필 탭에서 또는 프로필 수정 시 푸시 업데이트를 적용할 개별\n",
      "기기를 선택할 수 있습니다.이를 통해 관리자는 업데이트하려는 특정 기기만 업데이트하고 업데이트되지 않은 기기는 제외할 수 있습니다.단축키 추가 시 활동 이름 지원 추가 현재\n",
      "KC에서는 애플리케이션 단축키에 패키지 이름만 허용하지만 연락처와 같은 일부 앱은 여러 활동을 포함하며 기기 사용자에게 독립적인 앱으로 표시됩니다.이번 릴리스에서는 이제 단축어를\n",
      "만들 때 활동 이름을 제공하는 기능이 지원됩니다.하지만 단축키가 액티비티 이름으로만 제공되는 경우 클라이언트가 전체 패키지 이름 문자열 (예:\n",
      "`com.samsung.android.contacts/com.android.dialtactsActivity`) 의 유효성을 검사하기 때문에 KC 에이전트가 실패합니다.임시\n",
      "해결책으로, KC 에이전트는 액티비티 이름을 패키지로 전달하기 전에 액티비티 이름이 존재하는지 확인합니다.Wearable Knox Configure (WKC) #Profile 할당\n",
      "개선 지금까지 IT 관리자가 업데이트된 구성을 푸시하면 업데이트된 프로필을 사용하는 각 디바이스가 의도 여부에 관계없이 구성 업데이트를 받습니다.이번 개선 사항을 통해 IT\n",
      "관리자는 포털의 프로필 탭에서 또는 프로필 수정 시 푸시 업데이트를 위한 개별 디바이스를 선택할 수 있습니다.이를 통해 관리자는 특정 업데이트를 받을 특정 기기만 업데이트하고\n",
      "그렇지 않은 기기는 제외할 수 있습니다.공장 초기화 후 프로필의 Knox Mobile Enrollment (KME) #Cancel 설정이 적용되었습니다. 이번 릴리스 이전에는\n",
      "사용자가 프로필에 설정된 내용에도 불구하고 기기가 공장 초기화된 후에 등록을 취소할 수 없었습니다.이제 기기가 공장 초기화되었더라도 취소 프로필 설정이 그대로 유지됩니다.리셀러\n",
      "포털 #Bulk 디바이스 삭제 횟수는 이제 단일 삭제 작업당 1,000개로 제한됩니다. 현재까지 리셀러 포털에서는 한 번에 최대 10,000개의 디바이스 대량 삭제가\n",
      "허용됩니다.하지만 수만 대의 디바이스를 대량으로 삭제하면 오류 메시지가 발생하여 여러 스레드가 생성될 수 있습니다.오류 가능성을 줄이기 위해 단일 삭제 작업에서 대량 디바이스\n",
      "삭제는 1,000회를 초과할 수 없습니다.릴리스 노트로 돌아가기\n",
      "metadata:\n",
      " {'source': 'all_processed_data_ko.json', 'seq_num': 481, 'title': '녹스 모바일 등록 1.10 릴리스 노트', 'url':\n",
      "'https://docs.samsungknox.com/admin/knox-mobile-enrollment/release-notes/18-04', 'project': 'KME',\n",
      "'last_updated': '2023-07-26', 'family_tree': 'parent', 'parent_id': None, 'id':\n",
      "'4cc46e5a-1b57-4ed3-882b-1c96e3bd28f6'}\n"
     ]
    }
   ],
   "source": [
    "#query = \"how to vefify DM\"\n",
    "query = \"녹스가 무엇인가요?\"\n",
    "search_hybrid_result = opensearch_hybrid_retriever.get_relevant_documents(query)\n",
    "\n",
    "print(\"\\n==========  Results  ==========\\n\")\n",
    "print(f'1. question: {query}')\n",
    "print(f'2. # documents: {len(search_hybrid_result)}')\n",
    "print(\"3. Documents: \\n\")\n",
    "\n",
    "show_context_used(search_hybrid_result)"
   ]
  },
  {
   "cell_type": "markdown",
   "id": "a981abe7-5208-48f5-a9cc-8c557e9941ca",
   "metadata": {},
   "source": [
    "## 5. RAG using RetrievalQA powered by LangChain"
   ]
  },
  {
   "cell_type": "code",
   "execution_count": 39,
   "id": "08cf6d2b-451b-499c-aec2-bb6f5abafbb0",
   "metadata": {
    "tags": []
   },
   "outputs": [],
   "source": [
    "from utils.rag import prompt_repo\n",
    "from utils.rag import run_RetrievalQA\n",
    "from langchain.prompts import PromptTemplate"
   ]
  },
  {
   "cell_type": "markdown",
   "id": "b490df1f-8113-4dd1-a578-a3e1a6918fde",
   "metadata": {
    "tags": []
   },
   "source": [
    "### Prompting\n",
    "- [TIP] Prompt의 instruction의 경우 한글보다 영어로 했을 때 더 좋은 결과를 얻을 수 있습니다."
   ]
  },
  {
   "cell_type": "code",
   "execution_count": 40,
   "id": "0a68b4bf-8fc5-45a6-80cf-2bc059d4e389",
   "metadata": {
    "tags": []
   },
   "outputs": [],
   "source": [
    "PROMPT = prompt_repo.get_qa(prompt_type=\"answer_only\") # [\"answer_only\", \"answer_with_ref\", \"original\"]"
   ]
  },
  {
   "cell_type": "code",
   "execution_count": 41,
   "id": "cbb60f9d-3594-44ad-afca-e89feea8e29a",
   "metadata": {
    "tags": []
   },
   "outputs": [
    {
     "name": "stdout",
     "output_type": "stream",
     "text": [
      "('\\n'\n",
      " '            \\n'\n",
      " '\\n'\n",
      " 'Human:\\n'\n",
      " '            You are a master answer bot designed to answer software '\n",
      " \"developer's questions.\\n\"\n",
      " \"            I'm going to give you a context. Read the context carefully, \"\n",
      " \"because I'm going to ask you a question about it.\\n\"\n",
      " '\\n'\n",
      " '            Here is the context: <context>{context}</context>\\n'\n",
      " '            \\n'\n",
      " '            First, find a few paragraphs or sentences from the context that '\n",
      " 'are most relevant to answering the question.\\n'\n",
      " '            Then, answer the question as much as you can.\\n'\n",
      " '\\n'\n",
      " '            Skip the preamble and go straight into the answer.\\n'\n",
      " \"            Don't insert any XML tag such as <context> and </context> when \"\n",
      " 'answering.\\n'\n",
      " '            \\n'\n",
      " '            Here is the question: <question>{question}</question>\\n'\n",
      " '\\n'\n",
      " '            If the question cannot be answered by the context, say \"No '\n",
      " 'relevant context\".\\n'\n",
      " '            \\n'\n",
      " '\\n'\n",
      " 'Assistant: Here is the answer. ')\n"
     ]
    }
   ],
   "source": [
    "pprint (PROMPT.template)"
   ]
  },
  {
   "cell_type": "markdown",
   "id": "c66157a6-aec8-4555-a90f-1178e6f4f6e0",
   "metadata": {},
   "source": [
    "### Update Search Params (Optional)"
   ]
  },
  {
   "cell_type": "code",
   "execution_count": 69,
   "id": "64df2daf-8b42-472a-885f-97320ee98132",
   "metadata": {
    "tags": []
   },
   "outputs": [],
   "source": [
    "from langchain.chains import RetrievalQA"
   ]
  },
  {
   "cell_type": "code",
   "execution_count": 80,
   "id": "d2697230-6962-43d8-8917-ba9daa4295bb",
   "metadata": {
    "tags": []
   },
   "outputs": [],
   "source": [
    "opensearch_hybrid_retriever.update_search_params(\n",
    "    k=6,\n",
    "    minimum_should_match=0,\n",
    "    filter=[\n",
    "        {'term': {'metadata.family_tree': 'child'}},\n",
    "    ],\n",
    "    ensemble_weights=[0.51, 0.49], #semantic, lexical\n",
    "\n",
    "    reranker=True,\n",
    "    reranker_endpoint_name=endpoint_name,\n",
    "\n",
    "    rag_fusion=False,\n",
    "    query_augmentation_size=3, # query_augmentation_size in rag_fusion\n",
    "\n",
    "    hyde=True, # enable hyde\n",
    "    hyde_query=[\"web_search\"], # query type in hyde \n",
    "\n",
    "    parent_document=True, # enable parent document\n",
    "    verbose=True\n",
    ")"
   ]
  },
  {
   "cell_type": "markdown",
   "id": "aee26c22-b674-4f4f-a87b-29508e336fda",
   "metadata": {},
   "source": [
    "### Request"
   ]
  },
  {
   "cell_type": "code",
   "execution_count": 81,
   "id": "95fa61d3-9256-432a-96a3-2c696c97ea68",
   "metadata": {
    "tags": []
   },
   "outputs": [],
   "source": [
    "qa = RetrievalQA.from_chain_type(\n",
    "    llm=llm_text,\n",
    "    chain_type=\"stuff\",\n",
    "    retriever=opensearch_hybrid_retriever,\n",
    "    return_source_documents=True,\n",
    "    chain_type_kwargs={\n",
    "        \"prompt\": PROMPT,\n",
    "        \"verbose\": False,\n",
    "    },\n",
    "    verbose=False\n",
    ")"
   ]
  },
  {
   "cell_type": "code",
   "execution_count": 82,
   "id": "390ad324-40b3-4bcb-92b9-50eb080492a5",
   "metadata": {
    "tags": []
   },
   "outputs": [
    {
     "name": "stdout",
     "output_type": "stream",
     "text": [
      " Knox는 Samsung의 모바일 보안 플랫폼으로, 사용자 데이터와 애플리케이션을 보호하는 다양한 기능을 제공합니다. \n",
      "\n",
      "주요 기능으로는 다음이 있습니다:\n",
      "\n",
      "- 보안 폴더: 개인 데이터와 앱을 안전하게 보관할 수 있는 기능\n",
      "- 안전한 Wi-Fi: 공공 Wi-Fi 네트워크 사용 시 해킹 방지 기능 \n",
      "- 실행 중 앱 보호: 앱 실행 중 메모리 해킹 등을 방지\n",
      "- FRP 잠금 해제 보호: 부팅 시 보안을 강화하는 기능\n",
      "- 보안 업데이트: 최신 보안 패치 자동 업데이트\n",
      "\n",
      "이 외에도 Knox는 모바일 기기와 데이터를 전체적으로 보호하는 다양한 기능을 제공합니다.\n",
      "\n",
      "===== HyDE Answers =====\n",
      "['knox의 기능에는 어떤 것들이 있나요?', ' Knox는 Samsung의 모바일 보안 플랫폼으로, 사용자 데이터와 애플리케이션을 보호하는 다양한 기능을 제공합니다. \\n\\n주요 기능으로는 다음이 있습니다:\\n\\n- 보안 폴더: 개인 데이터와 앱을 안전하게 보관할 수 있는 기능\\n- 안전한 Wi-Fi: 공공 Wi-Fi 네트워크 사용 시 해킹 방지 기능 \\n- 실행 중 앱 보호: 앱 실행 중 메모리 해킹 등을 방지\\n- FRP 잠금 해제 보호: 부팅 시 보안을 강화하는 기능\\n- 보안 업데이트: 최신 보안 패치 자동 업데이트\\n\\n이 외에도 Knox는 모바일 기기와 데이터를 전체적으로 보호하는 다양한 기능을 제공합니다.']\n",
      "\n",
      "[Exeeds ReRanker token limit] Number of chunk_docs after split and chunking= 3\n",
      "\n",
      "\n",
      "[Exeeds ReRanker token limit] Number of chunk_docs after split and chunking= 2\n",
      "\n",
      "\n",
      "[Exeeds ReRanker token limit] Number of chunk_docs after split and chunking= 3\n",
      "\n",
      "\n",
      "[Exeeds ReRanker token limit] Number of chunk_docs after split and chunking= 3\n",
      "\n",
      "\n",
      "[Exeeds ReRanker token limit] Number of chunk_docs after split and chunking= 2\n",
      "\n",
      "\n",
      "[Exeeds ReRanker token limit] Number of chunk_docs after split and chunking= 3\n",
      "\n",
      "\n",
      "[Exeeds ReRanker token limit] Number of chunk_docs after split and chunking= 2\n",
      "\n",
      "===== ParentDocument =====\n",
      "filter: [{'term': {'metadata.family_tree': 'child'}}, {'term': {'metadata.family_tree': 'child'}}]\n",
      "# child_docs: 6\n",
      "# parent docs: 6\n",
      "# duplicates: 0\n",
      "##############################\n",
      "async_mode\n",
      "##############################\n",
      "True\n",
      "##############################\n",
      "reranker\n",
      "##############################\n",
      "True\n",
      "##############################\n",
      "rag_fusion\n",
      "##############################\n",
      "False\n",
      "##############################\n",
      "HyDE\n",
      "##############################\n",
      "True\n",
      "##############################\n",
      "parent_document\n",
      "##############################\n",
      "True\n",
      "##############################\n",
      "similar_docs_semantic\n",
      "##############################\n",
      "[(Document(page_content='삼성 녹스 플랫폼.삼성 Knox는 모든 기업에 가장 인기 있는 소비자 디바이스의 방어급 보안을 제공합니다.Knox Platform은 오늘날 모바일 디바이스 시장에서 흔히 볼 수 있는 표준 기능을 뛰어넘는 동급 최고의 하드웨어 기반 보안, 정책 관리 및 규정 준수 기능을 제공합니다.Knox 플랫폼은 다양한 삼성 디바이스를 지원하는 강력한 모바일 보안 전략의 초석입니다.삼성 Knox를 사용하는 이유는 무엇일까요?Knox 플랫폼은 여러분과 기업이 많은 모바일 플랫폼에서 흔히 발생하는 보안 격차를 피할 수 있도록 도와줍니다.Knox는 Gartner가 발표한 2017년 12월 모바일 OS 및 디바이스 보안: 플랫폼 비교에서 28개 부문 중 25개 부문에서*강한* 등급을 받았으며 지난 3년 연속 높은 평가를 받았습니다.Knox 플랫폼의 보안 강화는 모바일 장치 운영의 모든 측면을 지원합니다.Knox 플랫폼은 혁신적인 Knox Vault부터 특허받은 실시간 커널 보호까지 고급 기능을 통해 모바일 엔드포인트에 대한 신뢰를 제공합니다.Knox Platform을 사용하면 IT 관리자가 최고의 모바일 디바이스 하드웨어를 안전하게 대량으로 배포하고 기존 비즈니스 인프라 및 앱과 신속하게 통합할 수 있습니다.기업을 위한 #Key 혜택, 견고한 플랫폼 무결성, 강력한 데이터 보호, 세분화된 정책 시행을 제공하여 조직의 보안 및 규정 준수 요구 사항을 쉽게 충족할 수 있습니다.엔터프라이즈 모빌리티 관리 (EMM) 시스템을 통해 Knox Platform 기능을 원활하게 활성화하고 관리하세요.중앙 집중식 원격 디바이스 제어, 고급 VPN 관리, 앱 허용 및 차단, 삼성 디바이스의 모든 측면을 제어하는 세분화된 정책을 통해 인프라, 배포 및 관리 요구 사항을 유연하게 지원합니다.기존 배포에 영향을 주지 않고 Knox Platform의 포괄적인 이점을 활용하여 Android Enterprise에서 손쉽게 업그레이드할 수 있습니다', metadata={'source': 'all_processed_data_ko.json', 'seq_num': 109, 'title': '삼성 녹스 플랫폼', 'url': 'https://docs.samsungknox.com/admin/fundamentals/whitepaper/the-samsung-knox-platform', 'project': 'USP', 'last_updated': '2023-07-26', 'family_tree': 'child', 'parent_id': '6550152a-e7ff-4285-b745-97afdc733295', 'id': '7ed75875-a090-4df4-a124-972be98a4c1f'}), 0.00819672131147541), (Document(page_content='. 풀에서 Knox 설정을 선택합니다', metadata={'source': 'all_processed_data_ko.json', 'seq_num': 778, 'title': '콘솔 감사 이벤트', 'url': 'https://docs.samsungknox.com/admin/knox-manage/appendix/list-of-audit-events/console-audit-events', 'project': 'KM', 'last_updated': '2023-08-25', 'family_tree': 'child', 'parent_id': '65bc0296-8093-49ac-a73c-89ea580a9d6f', 'id': 'f971ca62-5206-4bef-988e-a9358ad749ac'}), 0.00819672131147541), (Document(page_content='.작업이 완료되면 KES는 Knox 애셋 인텔리전스 에이전트를 다운로드하고 등록을 시작합니다.Knox E-FOTA, Knox Configure, Knox 모바일 등록 및 Knox 애셋 인텔리전스 Knox 구성 Knox E-FOTA Knox 모바일 등록 Knox 자산 인텔리전스 Knox 구성 등록 및 디바이스 설정 마법사가 끝나면 KES는 Knox E-FOTA 클라이언트 앱을 다운로드합니다.Knox E-FOTA의 등록이 시작됩니다.등록이 완료되면 Knox 모바일 등록이 시작됩니다.완료되면 KES는 Knox 애셋 인텔리전스 에이전트를 다운로드하고 등록을 시작합니다.Knox E-FOTA, Knox Configure, Knox 모바일 등록 DO 및 녹스 애셋 인텔리전스 녹스 모바일 등록 DO Knox Configure Knox E-FOTA Knox 애셋 인텔리전스 구성 Knox 모바일 등록 DO 등록, Knox 구성 등록, 디바이스 설정 마법사 이후 KES는 Knox E-FOTA 클라이언트 앱을 다운로드합니다.Knox E-FOTA의 등록이 시작됩니다.작업이 완료되면 KES는 Knox 애셋 인텔리전스 에이전트를 다운로드하고 등록을 시작합니다.', metadata={'source': 'all_processed_data_ko.json', 'seq_num': 313, 'title': '조직에 Knox 클라우드 서비스가 여러 개 있는 경우 Knox 클라우드 서비스 등록 순서', 'url': 'https://docs.samsungknox.com/admin/efota-one/kbas/kba-738-what-order-are-the-knox-services-enrolled', 'project': 'EFOTA', 'last_updated': '2023-07-26', 'family_tree': 'child', 'parent_id': 'df2947cd-5cb6-4cfe-9a8d-cd0b27073081', 'id': '7e583bb2-697b-4c9b-ae6b-20739ea314e9'}), 0.008064516129032258), (Document(page_content='기능 요약.삼성 Knox 디바이스가 제공하는 보안, 관리 용이성 및 고급 VPN\"기능에 대한 간략한 참조를 원하는 사용자는 아래 요약을 검토하세요.삼성 Knox가 다른 OEM 디바이스와 어떻게 차별화되는지에 대한 자세한 내용은 삼성 계정 관리자에게 문의하거나 계정이 없는 경우 당사에 문의하세요.기능 요약 보안 하드웨어 기반 키스토어 이 기능은 하드웨어에 따라 달라지는 주장입니다.모든 Samsung Knox 디바이스에는 하드웨어 보호 기능이 지원되는 키스토어가 있습니다.변조 시 보안 잠금 심각한 보안 침해가 감지되면 시스템은 민감한 영역을 잠가 기업 데이터의 무단 액세스 및 유출을 방지합니다.기기 변조의 증거가 있는 경우 삼성은 사용자가 업무 프로필이나 완전 관리형 기기의 데이터에 액세스하지 못하도록 차단합니다.기기의 잠금을 다시 해제하려면 기기를 공장 초기화해야 합니다. 이 경우 기기 내부의 데이터가 지워집니다.원격 장치 상태 어떤 장치에 무단 펌웨어와 같은 보안 문제가 있는지 확인하여 즉시 조치를 취할 수 있습니다.Knox는 IMEI 변조 기록과 보증 기간 만료 여부를 확인합니다.Knox Vault 자체 프로세서와 메모리를 갖춘 분리되고 변조가 불가능하며 안전한 하위 시스템인 Knox Vault는 하드웨어 기반 Android Keystore 키, 삼성 인증 키, 생체 인식 데이터, 블록체인 자격 증명과 같은 민감한 데이터를 저장합니다.장애 발생 간격이 길어지면서 사용자를 인증하고 인증에 따라 키에 대한 액세스를 제어하는 보안에 중요한 코드를 실행합니다.ESE 및 기타 보안 수준이 높은 스토리지의 키스토어 지원 수많은 서비스에 액세스하려면 자격 증명이 필요합니다.여기에는 Wi-Fi, VPN, 이메일 및 웹사이트가 포함됩니다.중요한 자격 증명을 안전하게 저장하려면 개발자가 새 스토리지 하드웨어에 사용할 새 자격 증명 스토리지 코드를 작성해야 합니다.Knox는 다양한 하드웨어에서 자격 증명 관리를 위한 플러그 앤 플레이 프레임워크를 제공하므로 사내 자격 증명 관리 구현 로직을 개발할 필요가 없습니다', metadata={'source': 'all_processed_data_ko.json', 'seq_num': 108, 'title': '기능 요약', 'url': 'https://docs.samsungknox.com/admin/fundamentals/whitepaper/feature-summary', 'project': 'USP', 'last_updated': '2023-07-26', 'family_tree': 'child', 'parent_id': 'e2487baf-21fc-4472-83d1-3ed138450a13', 'id': 'eaacd56a-8062-4ee2-a433-e74b03a38f16'}), 0.008064516129032258), (Document(page_content='녹스 볼트.삼성의 Knox Vault는 삼성이 수년 동안 갤럭시 스마트폰에 구축해 온 하드웨어 기반 보안을 발전시킨 제품입니다.Knox Vault는 암호, 생체 인식, 암호 키와 같은 민감한 데이터를 보호하기 위해 삼성이 개척한 신뢰할 수 있는 실행 환경 (TEE) 인 TrustZone이 제공하는 보호 기능을 확장합니다.TrustZone은 기본 애플리케이션 프로세서에서 안드로이드와 함께 다른 OS를 실행하는 반면, Knox Vault는 안드로이드 OS를 실행하는 기본 프로세서와는 완전히 독립적으로 작동합니다.Knox 보안 플랫폼의 핵심 구성 요소인 Knox Vault는 자체 프로세서 및 메모리뿐만 아니라 전용 비휘발성 보안 스토리지에 대한 인터페이스를 갖춘 독립적이고 변조가 불가능한 안전한 하위 시스템입니다.Knox Vault는 하드웨어 기반 Android 키스토어 키, 삼성 인증 키 (SAK), 생체 인식 데이터, 블록체인 자격 증명과 같은 민감한 데이터를 저장할 수 있습니다.장애 발생 간격이 길어지면서 사용자를 인증하고 인증에 따라 키에 대한 액세스를 제어하는 보안에 중요한 코드를 실행하세요.Knox Vault는 갤럭시 S21부터 삼성 디바이스에 통합되며, BSI PP0084 EAL4+ 이상의 요구 사항에 따라 평가된 공통 기준인 구성 요소로 구성되어 있습니다.이러한 구성 요소는 독립 연구소에서 광범위한 하드웨어 공격에 대해 테스트하고 해당 소프트웨어 및 펌웨어에 대한 검토를 거칩니다.#Protection from Attacks Knox Vault는 소프트웨어 및 하드웨어 공격 모두에 대해 강력한 보안 보장을 제공합니다.Knox Vault는 Android를 실행하는 기본 프로세서와 독립적이므로 Knox Vault 프로세서에서 실행되는 코드는 동일한 프로세서에서 실행되는 다른 소프트웨어를 손상시킬 수 있는 소프트웨어 부채널 공격과 같은 공유 리소스를 악용하는 공격에 강합니다.이러한 분리 덕분에 Knox Vault는 기본 프로세서 자체가 완전히 손상된 경우에도 민감한 데이터를 보호할 수 있습니다', metadata={'source': 'all_processed_data_ko.json', 'seq_num': 120, 'title': '녹스 볼트', 'url': 'https://docs.samsungknox.com/admin/fundamentals/whitepaper/core-platform-security/knox-vault', 'project': 'USP', 'last_updated': '2023-07-26', 'family_tree': 'child', 'parent_id': '89d161b1-2a3b-4bf2-bbef-f2fe55a1a36f', 'id': '679b89b0-11af-46ba-904f-204db85f65ba'}), 0.007936507936507936), (Document(page_content='Knox Guard를 Knox Configure와 같은 다른 Knox 서비스와 함께 사용할 수 있나요?.네.Knox Guard는 고객별 목적에 따라 Knox Configure나 Knox E-FOTA와 같은 다른 Knox 서비스와 함께 원활하게 작동합니다.', metadata={'source': 'all_processed_data_ko.json', 'seq_num': 1612, 'title': 'Knox Guard를 Knox Configure와 같은 다른 Knox 서비스와 함께 사용할 수 있나요?', 'url': 'https://docs.samsungknox.com/admin/knox-guard/faq/#can-knox-guard-be-used-with-other-knox-services-such-as-knox-configure', 'project': 'KG', 'last_updated': '2023-07-26', 'family_tree': 'child', 'parent_id': 'd04107d4-a745-4973-87fe-ffcfac79cb49', 'id': '6a8d6bd8-f1af-4ca2-bc19-63b64d31ae6f'}), 0.007936507936507936), (Document(page_content='.일반적으로 기업은 SD\"카드에 대한 전체 읽기 및 쓰기 액세스를 허용하거나 완전히 차단하는 두 가지 옵션 중 하나를 선택해야 합니다.Knox Platform은 기업이 읽기 및 쓰기 액세스를 독립적으로 제어할 수 있도록 함으로써 이러한 업계의 문제점을 해결합니다.Knox는 다음과 같은 기능을 제공합니다. 읽기 액세스는 허용하지만 쓰기 액세스는 차단하고, 쓰기 액세스는 허용하지만 읽기 액세스는 차단합니다. 이 수준의 제어는 민감한 데이터에 대한 단방향 데이터 액세스를 제공하여 보안 요구 사항을 효과적으로 충족할 수 있음을 의미합니다.#Bluetooth 제한 블루투스 연결을 통해 가해지는 공격을 완화하기 위해 Knox는 다음과 같은 제어 기능을 제공합니다. 블루투스 완전 비활성화 - 블루투스 및 블루투스 백그라운드 스캔 끄기.특정 블루투스 프로파일 유형 차단 - 사용자가 장치에 연결할 수 있는 블루투스 장치 유형을 제한합니다. 예: 블루투스 헤드폰 허용, 블루투스 파일 전송 차단, 개인 데이터 유출 가능성 #USB 클래스 제한 Knox는 다양한 유형의 USB 연결 장치, 특히 usb.org를 통해 정의된 USB\"장치 클래스를 제한하거나 허용할 수 있습니다.이 기능에는 다음과 같은 USB\"장치 클래스에 대한 액세스가 포함됩니다. “오디오, 비디오, 오디오/비디오, 대용량 스토리지, 콘텐츠 보안, 스마트 카드, 프린터, 허브, Type-C 브리지, 무선 제어, 휴먼 인터페이스 장치 (HID), 통신, CDC\"Control, CDC\"데이터, 개인 건강 관리, 빌보드, 진단. 예를 들어 스마트 카드 리더를 제외한 모든 USB 장치를 차단할 수 있습니다.#Keyboard 입력 방법 (IME) 키보드 입력 방법 (IME) 프레임워크가 Knox 3.2.1을 통해 주요 보안 업그레이드를 받았습니다.Knox 3.2.1에서는 개인용 컨테이너와 업무용 컨테이너 키보드가 완전히 분리되어 있어 중요한 업무 데이터가 손상되지 않습니다', metadata={'source': 'all_processed_data_ko.json', 'seq_num': 128, 'title': '세분화된 장치 관리', 'url': 'https://docs.samsungknox.com/admin/fundamentals/whitepaper/device-management/granular-device-management', 'project': 'USP', 'last_updated': '2023-07-26', 'family_tree': 'child', 'parent_id': '849894e3-7b47-482b-92c8-bc54a297d01a', 'id': 'ad958dda-2643-438d-ae1f-c8375c32e3f3'}), 0.0078125), (Document(page_content='.차별화된 삼성 Knox Knox Manage의 지원은 삼성 갤럭시 디바이스에 내장된 모바일 엔터프라이즈 보안 플랫폼인 삼성 Knox의 최신 펌웨어를 지원합니다.또한 Knox Manage는 최신 Knox API를 완벽하게 지원합니다.간편한 콘텐츠 관리 Knox Manage는 이미지, 문서, 오디오, 동영상까지 업로드 및 배포할 수 있는 기능을 제공합니다.단일 사용자 또는 디바이스에서 그룹 또는 조직으로 배포 대상을 설정할 수 있습니다.또한 CDN (콘텐츠 전송 네트워크) 을 사용하면 콘텐츠를 더 빠르고 안전하게 배포하고 데이터 전송 부하를 줄일 수 있습니다.대량 디바이스 등록 및 애플리케이션 할당 Knox Manage는 안드로이드 디바이스용 Knox 모바일 등록 (KME) 또는 iOS 디바이스용 자동 디바이스 등록 (ADE) 을 통해 모바일 디바이스를 쉽고 빠르게 대량 등록할 수 있는 수단을 제공합니다.iOS 디바이스의 경우 Apple의 볼륨 구매 프로그램 (VPP) 도 제공되어 원하는 애플리케이션을 편리하게 할당할 수 있습니다.시작 안내서를 통한 간편한 초기 설정 Knox Manage는 초기 환경 설정 프로세스를 요약한 시작 안내서를 제공합니다.가이드를 따르면 사용자를 추가하고, 디바이스를 등록하고, 정책을 즉시 적용하는 데 능숙해질 수 있습니다.강력한 데이터 보호 Knox Manage는 발생 가능한 데이터 보안 위협으로부터 기업 데이터를 보호하기 위해 초기 설계 프로세스부터 최상위 보안 요구 사항을 통합했습니다. 서버와 모바일 기기 간의 모든 데이터는 고급 암호화 표준 (AES) -256으로 암호화됩니다.2단계 인증은 보안 인증서를 기반으로 하는 애플리케이션 및 통신을 통해 지원됩니다.기기 분석 데이터 저장 Knox Manage는 디바이스를 실시간으로 모니터링하는 것 외에도 감사 기능도 제공합니다.시스템에서 발생하는 이벤트, 적용된 정책, 변조 및 규정 준수 위반 등을 확인하고 이에 대해 적절한 조치를 취할 수 있습니다', metadata={'source': 'all_processed_data_ko.json', 'seq_num': 988, 'title': 'Knox 주요 강점 관리', 'url': 'https://docs.samsungknox.com/admin/knox-manage/introduction/key-features/knox-manage-key-strengths', 'project': 'KM', 'last_updated': '2023-07-26', 'family_tree': 'child', 'parent_id': '523d413a-dd47-448e-a43f-ee56989d28ee', 'id': 'b567b794-5ada-4306-aca4-4767e4bbe71b'}), 0.0078125), (Document(page_content='.Knox Asset Intelligence - 운영 가시성과 실행 가능한 통찰력을 제공하여 모바일 디바이스의 관리, 생산성 및 라이프사이클을 개선하는 데이터 분석 솔루션입니다.이 솔루션은 앱 성능, 배터리 사용량, 네트워크 연결 및 자산 위치를 실시간으로 모니터링하고 관리합니다.Knox E-FOTA - Knox 솔루션을 사용하면 사용자 개입 없이 디바이스에 OS 및 보안 업데이트를 원격으로 배포할 수 있습니다.Knox E-FOTA를 사용하면 캠페인을 생성하고, 캠페인 기간을 지정하고, 해당 캠페인에 디바이스를 할당하고, 캠페인 기간 동안 해당 디바이스에 푸시할 펌웨어 업데이트를 선택할 수 있습니다.Knox Capture - 사용자가 삼성 갤럭시 스마트폰과 태블릿을 강력한 바코드 스캐너로 변환하여 추가 하드웨어나 코드 한 줄 작성 없이 바코드 정보를 읽고, 처리하고, 다른 애플리케이션에 출력할 수 있게 해주는 안드로이드 솔루션입니다.Knox Authentication Manager - 공유 삼성 디바이스용 관리형 Android 앱으로, 다중 사용자 안면 생체인식 및 로그인 자동화를 제공하여 일선 작업자의 생산성과 안전을 향상시킵니다.Knox Suite를 사용하면 단일 라이선스 키로 포함된 모든 Knox 제품을 디바이스에서 사용할 수 있습니다.즉, 여러 Knox 서비스 관리 포털에서 동일한 Knox Suite 라이선스 키를 사용할 수 있습니다.녹스 스위트 1의 이점.올인원 Knox B2B 패키지 - 기업 모빌리티 여정의 모든 단계를 포괄하는 엔드투엔드 솔루션 2.간소화된 라이선스 관리 - 라이선스 키 하나만 있으면 포함된 모든 제품을 사용할 수 있습니다. 3.간소화된 온보딩 프로세스 - 한 번 등록하면 포함된 모든 Knox 제품에 액세스할 수 있습니다. 4.원활한 IT 관리자 사용자 경험 - IT 관리자는 싱글 사인온을 통해 번들로 제공되는 Knox 콘솔에 쉽게 액세스할 수 있습니다.시작하려면 여기를 클릭하세요.', metadata={'source': 'all_processed_data_ko.json', 'seq_num': 65, 'title': '녹스 스위트', 'url': 'https://docs.samsungknox.com/admin/knox-suite', 'project': 'KS', 'last_updated': '2023-07-26', 'family_tree': 'child', 'parent_id': '9ee0b3d1-5bb7-492c-96f9-b65ef15f1fb9', 'id': '61033d16-d706-41b7-be88-575d8cbf1766'}), 0.007692307692307693)]\n",
      "##############################\n",
      "similar_docs_keyword\n",
      "##############################\n",
      "[(Document(page_content='Knox 서비스 플러그인.Knox 서비스 플러그인은 Knox Platform for Enterprise 릴리스를 통해 해당 기능이 제공되는 즉시 Knox Platform for Enterprise (KPE) 기능을 사용하여 삼성 디바이스를 관리, 구성 및 보호할 수 있는 앱입니다.IT 관리자는 삼성 Knox SDK를 사용하여 자체 솔루션을 개발하거나 UEM 제공업체가 기능을 통합하기를 기다릴 필요 없이 출시 당일에 최신 Knox 기능을 사용할 수 있습니다.Knox 서비스 플러그인을 사용하는 이유는 무엇일까요?다음은 Knox 서비스 플러그인이 어떻게 도움이 되는지 설명하는 간단한 예시입니다. Knox Platform for Enterprise가 삼성 디바이스에 음성을 모든 언어로 실시간으로 번역하는 기능을 도입했다고 가정해 보겠습니다.글로벌 조직의 IT 관리자인 James는 이 기능이 팀의 디바이스에 배포하는 데 매우 유용할 것이라고 생각하지만, 그의 팀에는 Knox SDK를 사용하여 기능을 통합할 수 있는 소프트웨어 개발자가 포함되어 있지 않습니다.James는 UEM 제공업체인 Leonard의 개발자에게 연락하여 새 기능을 언제 UEM 콘솔에 통합할 수 있는지 문의합니다.Leonard는 James에게 이 새 기능이 여러 달 동안 UEM 콘솔에 포함되지 않을 것이라고 말합니다.제임스는 단념하지 않고 Leonard가 새 기능을 구현하기를 기다릴 필요가 없다는 것을 기억합니다.대신 Knox 서비스 플러그인 앱을 UEM에 추가할 수 있습니다.플러그인을 설치하면 Knox Platform for Enterprise에 도입된 새로운 기능을 같은 날 UEM 콘솔에서 사용할 수 있으며 James는 팀의 디바이스에서 번역 기능을 즉시 활성화할 수 있습니다.Knox 서비스 플러그인 사용의 이점 Knox 서비스 플러그인을 사용하면 IT 관리자는 Knox Platform for Enterprise 기능이 출시되는 즉시 사용할 수 있습니다', metadata={'source': 'all_processed_data_ko.json', 'seq_num': 1226, 'title': 'Knox 서비스 플러그인', 'url': 'https://docs.samsungknox.com/admin/knox-platform-for-enterprise/knox-service-plugin/welcome', 'project': 'KSP', 'last_updated': '2023-07-26', 'family_tree': 'child', 'parent_id': 'a93fee0f-f85a-49bf-a14a-487a38e7f691', 'id': '13dad0b9-c558-44f6-a6f8-8fb426c42ee4'}), 1.0), (Document(page_content='. 1 2024년부터 안드로이드 지원 전략은 최근 다섯 가지 주요 안드로이드 버전을 지원하는 것입니다. 2 구글은 2020년 Know Manage에서 안드로이드 레거시 플랫폼으로 알려진 Device Admin API를 지원 중단했습니다.Knox Manage 20.11은 안드로이드 11 이상을 실행하는 디바이스에서 이 플랫폼을 사용한 등록을 일시 중단했습니다.Knox Manage 23.03부터 이 서비스는 더 이상 안드로이드 레거시에 등록된 기존 디바이스를 공식적으로 지원하지 않습니다.삼성 팀은 더 이상 기능 개선 및 버그 수정을 포함하여 이 플랫폼에 대한 유지 관리 및 기술 지원을 제공하지 않습니다.기업에서는 Android Legacy에 아직 등록된 모든 기기를 Android 엔터프라이즈 플랫폼으로 마이그레이션하기 시작하는 것이 좋습니다.당분간 Android 10 이하 버전을 실행하는 디바이스에서는 명목상 Knox Manage의 Android 레거시 디바이스 관리가 가능할 수도 있지만, Knox Manage 팀은 향상된 보안 및 관리 기능의 이점을 활용하고 기능 및 기술 지원 손실을 방지하기 위해 모든 디바이스를 Android Enterprise로 마이그레이션할 것을 강력히 권장합니다.자세한 내용은 Android Legacy에서 Android Enterprise로의 마이그레이션 가이드를 참조하세요. 3 결제 카드 업계 데이터 보안 표준을 준수하기 위해 Knox Manage는 디바이스에서 TLS 1.2 이상을 요구하며, 이전 버전의 TLS를 사용하는 솔루션 및 앱과 상호 운용되지 않습니다.', metadata={'source': 'all_processed_data_ko.json', 'seq_num': 986, 'title': '최소 요구 사항', 'url': 'https://docs.samsungknox.com/admin/knox-manage/introduction/minimum-requirements', 'project': 'KM', 'last_updated': '2023-07-26', 'family_tree': 'child', 'parent_id': '8c9649ca-72e4-46b0-bc43-8bd247f6fa3d', 'id': 'e77a90fe-7e1e-471d-818a-483a6c29b50f'}), 0.9956417392394064), (Document(page_content=\"엔터프라이즈용 Knox 플랫폼 3.4.1 릴리스 노트.2019년 12월 이 섹션에서는 Knox Platform for Enterprise의 각 버전에서 변경된 사항을 중점적으로 설명합니다.모든 버전의 모든 Knox 기능의 전체 목록은 Knox on Android 기능 페이지를 참조하세요.Android 엔터프라이즈 통합 당사의 지속적인 노력은 공식 용어를 시장에 맞게 표준화하는 것입니다.이러한 추세에 따라 Workspace 컨테이너의 이름을 Work로 변경했습니다.Knox Platform for Enterprise (KPE) 를 사용하는 디바이스에서는 이러한 디바이스의 탭이 '개인용' 및 '작업 공간'에서 '개인용' 및 '업무용'으로 변경됩니다.지원 중단된 기능 운영을 최적화하고 고객에게 큰 영향을 미치는 제품에 집중하기 위해 고객의 요구 사항을 더 이상 충족하지 못하는 일부 기능을 지원 중단했습니다.이 프로세스를 통해 리소스를 통합하여 사용자에게 더 많은 가치를 제공할 수 있을 것입니다.사용량이 적은 KPE 기능은 Knox 3.4.1 이후부터 지원 중단되었습니다. 삼성 싱글 사인온 (Kerberos), AD를 사용한 Knox 컨테이너 잠금 해제, Knox 공유 디바이스, Knox 클라우드 SDK, 앱 설치 (보안상의 이유로 더 이상 사용할 수 없음) 이 기능 지원 중단에 대해 자세히 알아보려면 블로그 게시물 삼성의 저사용 KPE 기능 지원 중단하기를 참조하세요.릴리스 노트로 돌아가기\", metadata={'source': 'all_processed_data_ko.json', 'seq_num': 1359, 'title': '엔터프라이즈용 Knox 플랫폼 3.4.1 릴리스 노트', 'url': 'https://docs.samsungknox.com/admin/knox-platform-for-enterprise/release-notes/19-12', 'project': 'KPE', 'last_updated': '2023-07-26', 'family_tree': 'child', 'parent_id': '7b2a9b15-96cb-4d49-8f5a-c48394347b16', 'id': '4c63be8b-c734-43ba-95b6-29c292cc264c'}), 0.9474915923125584), (Document(page_content='.사용자 승인 테스트 지원 23.03 릴리스부터 예정된 Knox Asset Intelligence 기능 및 변경 사항을 예정된 출시일보다 2주 전에 사용자 승인 테스트 환경에서 시험해 볼 수 있습니다.23.03 사용자 승인 테스트 기간은 2023년 3월 8일에 시작됩니다.Knox Asset Intelligence는 과거 데이터 (예: 지난 7, 14, 30 또는 60일) 에 대한 분석을 지원하므로 선택한 기간이 지난 후에만 대시보드에 데이터가 표시됩니다.UAT의 테스트 기능을 최대한 활용하려면 장치를 UAT에 등록하여 장치 데이터 기록을 유지하는 것이 좋습니다.또한 UAT에는 권장 임계값이 지원되지 않습니다.권장 임계값은 수집된 기기 데이터를 기반으로 계산되므로 10시트 UAT 라이선스는 이 기능을 지원하는 데 필요한 데이터를 충분히 생성하지 못합니다.UAT 환경에 대한 자세한 내용은 UAT 가이드를 참조하십시오.에이전트의 배터리 충전 이벤트 기록: 이제 Knox Asset Intelligence 에이전트는 디바이스에서 충전 문제가 발생할 수 있는 시기를 식별하는 데 도움이 되도록 진단 > 배터리에 과거 배터리 충전 데이터를 표시합니다.이 충전 내역은 지난 14일간의 충전 내역이며, 여기에는 입력 및 출력 전류, 배터리 충전량, 배터리 전압과 같은 인사이트가 포함됩니다.기기 낙하 감지 (베타) Knox Asset Intelligence 23.03은 낙하 감지 베타 릴리스를 선보입니다.어떤 디바이스가 가장 자주 떨어지는지, 수리가 필요하기 전에 디바이스를 떨어뜨리는 횟수를 추적할 수 있습니다.이 기능은 보호 케이스 장착을 고려할 수 있는 장치 모델을 식별하거나 장치를 곧 교체해야 하는지 여부를 식별하는 데 도움을 주기 위한 것입니다.현재 특정 기기 모델에서는 낙하 감지 기능이 지원됩니다.대시보드 설정에서 낙하 감지 기능을 켤 수 있습니다.기기 드롭 감지는 현재 베타 버전입니다.대시보드 설정에서 이 옵션을 활성화하면 기기 드롭 데이터가 수집되지만 대시보드에는 아직 표시되지 않습니다', metadata={'source': 'all_processed_data_ko.json', 'seq_num': 719, 'title': '녹스 애셋 인텔리전스 23.03 릴리즈 노트', 'url': 'https://docs.samsungknox.com/admin/knox-asset-intelligence/release-notes/23-03', 'project': 'KAI', 'last_updated': '2023-07-26', 'family_tree': 'child', 'parent_id': 'a0f9fa71-6ed6-451c-b220-c4cfcb96986d', 'id': 'c7f901ec-9f94-42d8-80aa-c8ce1a433357'}), 0.9463934647672586), (Document(page_content='.#Install 관리형 Google Play를 통한 클라이언트 EMM이 관리형 Google Play를 통해 다음 기능을 지원하는 경우 Knox E-FOTA 앱을 승인하고 디바이스로 앱을 푸시한 다음 해당 디바이스에서 앱을 실행할 수 있습니다.앱 설치 (DO), 원격 앱 실행 일반적인 워크플로는 다음과 같습니다. 1.EMM에 로그인하세요. 2.EMM의 검색 기능을 사용하여 관리형 구글 플레이에서 Knox E-FOTA 앱을 검색하세요. 3.검색 결과에서 Knox E-FOTA 앱을 선택하고 승인합니다. 4.다음과 같이 EMM을 구성합니다. 앱이 기기에 자동으로 설치되도록 EMM을 구성합니다.설치 후 앱이 자동으로 실행됩니다. 5.Knox E-FOTA에 등록하려는 디바이스에 앱을 할당합니다.EMM에 클라이언트를 자동으로 시작할 수 있는 기능이 있다면 활성화하는 것이 좋습니다.디바이스에서 클라이언트가 실행되기 전까지는 등록을 완료할 수 없습니다.자세한 내용은 EMM 설명서를 참조하십시오.#Install EMM을 통해 내부 앱으로 클라이언트 연결 앱 설치 기능이 있는 EMM을 사용하는 경우 EMM 콘솔을 사용하여 클라이언트 앱을 디바이스로 푸시할 수 있습니다.다양한 EMM을 통해 디바이스에 앱을 푸시하는 방법에 대한 일반적인 정보는 EMM을 통해 디바이스에 앱 설치를 참조하십시오. .EMM에 클라이언트를 자동으로 시작할 수 있는 기능이 있다면 활성화하는 것이 좋습니다.디바이스에서 클라이언트가 실행되기 전까지는 등록을 완료할 수 없습니다.Knox E-FOTA 클라이언트 설치 전에 펌웨어 업데이트를 차단하려면 EMM 포털에서 디바이스의 펌웨어 업데이트 정책을 비활성화해야 합니다.자세한 내용은 메인라인이 아닌 펌웨어 업데이트 차단을 참조하십시오.Knox Configure With Knox Configure를 통해 클라이언트를 설치 및 실행하세요. 프로필을 생성하고, 클라이언트 앱을 업로드하고, 프로필에 클라이언트 앱을 추가하고, 프로필을 디바이스에 할당할 수 있습니다', metadata={'source': 'all_processed_data_ko.json', 'seq_num': 236, 'title': 'Knox E-FOTA 클라이언트 설치 및 실행', 'url': 'https://docs.samsungknox.com/admin/efota-one/get-started/install-and-launch-the-knox-efota-client', 'project': 'EFOTA', 'last_updated': '2023-07-26', 'family_tree': 'child', 'parent_id': '2de8c87d-0e67-4d86-a720-facfbe6324a0', 'id': '9c85c0ff-98a2-413d-b9d6-c39feb164f42'}), 0.9399376160964327), (Document(page_content='.사용자에 의해 취소됨 - 프로필이 장치에 할당되었지만 최종 사용자가 등록 프로세스를 취소했습니다.등록 실패 - 최종 사용자가 프로세스를 취소한 것 이외의 이유로 장치가 등록되지 않았습니다.프로필 할당됨 - 장치에 프로필이 할당되었지만 장치 사용자가 아직 등록 프로세스를 완료하지 않았습니다.프로필 할당을 취소하면 장치 상태가 다시 미할당으로 전환됩니다.등록됨 - 활성 Knox Suite 라이선스가 있는 경우 디바이스가 성공적으로 등록된 것입니다.등록 (제한) - 활성 Knox Suite 라이선스가 없는 경우 디바이스에 고급 기능이 제공되지 않습니다.만료 - Knox Suite 라이선스가 만료되면 디바이스에서 고급 프로필 기능에 대한 모든 액세스 권한을 잃게 됩니다.', metadata={'source': 'all_processed_data_ko.json', 'seq_num': 455, 'title': '기기 상태', 'url': 'https://docs.samsungknox.com/admin/knox-mobile-enrollment/how-to-guides/manage-devices/device-status', 'project': 'KME', 'last_updated': '2023-08-18', 'family_tree': 'child', 'parent_id': 'c0050f7b-25e8-4af7-9ab2-b1069e71ad45', 'id': '084eff6a-9a5a-43f8-bd82-5e91d98a3300'}), 0.9301757396348843), (Document(page_content='.프로파일 > 디바이스 연결 내의 새로운 기본 데이터 로밍 설정 드롭다운 메뉴에는 현재 설정 유지 (기본 설정), 켜기 및 끄기가 포함됩니다.OFF를 선택하면 드롭다운 메뉴가 비활성화됩니다.로밍 시 On을 선택하고 모바일 데이터를 사용하면 추가 요금이 부과될 수 있다는 점에 유의하시기 바랍니다.이 기능은 일반 모드의 다이나믹 에디션 Knox Configure 프로필에서 지원됩니다.#App 알림 허용 이 기능은 직장이나 차량 운전 중에 디바이스 사용자가 상태 표시줄 알림에 액세스하고 이를 검토할 때 주의가 산만해지는 것을 원하지 않는 IT 관리자의 요청을 해결합니다.특히 이 기능은 프로파일 > 애플리케이션 및 콘텐츠 내에 Knox Configure 콘솔을 추가하여 모든 앱 (시스템 알림 및 애플리케이션 알림 모두), 허용된 특정 앱을 제외한 모든 앱에 대한 팝업 알림 및 상태 표시줄 알림을 포함한 알림을 선택적으로 비활성화합니다. 이 기능은 일반 모드의 Dynamic edition Knox Configure 프로필에서 지원됩니다.#Limitation 관리자 초대 역할에 추가됨 Knox Configure 관리 역할 및 권한 문제가 더 이상 확대되는 것을 방지하기 위해 역할 관리 권한이 없는 기존 관리자에게는 다른 관리자에게 할당할 수 있는 역할에 대한 추가 제한이 필요합니다.이번 릴리스를 통해 역할 관리 권한이 없는 기존 관리자는 자신의 역할 권한이 일치하는 관리자만 초대할 수 있습니다.따라서 관리자 초대 화면의 역할 드롭다운 메뉴 선택 항목이 초대를 만드는 관리자의 특정 역할에 맞게 사용자 지정되었습니다.#Disable 두 번째 장치 SIM 슬롯 이 기능은 장치의 SIM 슬롯 2를 사용하지 않도록 설정하여 장치의 SIM 슬롯 2를 비활성화하고 사용자가 이중 SIM 장치에 개인용 SIM 카드를 삽입하지 못하도록 하려는 관리자의 요청을 해결합니다.이러한 SIM 개선 사항은 특히 정부 및 공공 부문에서 수요가 많습니다', metadata={'source': 'all_processed_data_ko.json', 'seq_num': 1694, 'title': '녹스 컨피규레이트 1.20 릴리즈 노트', 'url': 'https://docs.samsungknox.com/admin/knox-configure/release-notes/19-04', 'project': 'KC', 'last_updated': '2023-07-26', 'family_tree': 'child', 'parent_id': 'dd660a4d-d6a5-4b10-b18a-0fc299733975', 'id': '2b8ff17a-17ea-45c7-bb8d-bebfa3c524a8'}), 0.9299152188751706), (Document(page_content='디버그 모드.정책과 설정을 올바르게 배포하는 것이 중요하다는 것을 잘 알고 있습니다.구성을 테스트하고 배포하는 데 도움이 되도록 Knox Service Plugin (KSP) 에는 디버그 모드라는 설정이 포함되어 있습니다.개요 기본적으로 KSP는 백그라운드에서 실행되며 UI가 없습니다.디버그 모드를 사용하면 기기의 정책 결과 및 오류를 쉽게 확인할 수 있으므로 구성이 올바른지 확인할 수 있습니다.켜면 정책 상태를 표시하는 앱이 실행됩니다.새 정책이 수신되면 이 앱이 자동으로 실행되어야 합니다.제한된 수의 기기에서만 디버그 모드를 사용하는 것이 좋습니다.전체 배포를 위해서는 이 기능을 꺼야 합니다.기기에서 수동으로 열었을 때의 디버그 모드는 다음과 같습니다. 앱은 푸시한 정책 목록과 함께 마지막 구성에 대한 세부 정보를 제공합니다. 여기에는 정책 제목 - 정책 이름이 포함됩니다.메시지 - 정책 적용 상태와 함께 정책에 대한 설명.디버그 모드 활성화 디버그 모드는 UEM 콘솔의 Knox 서비스 플러그인 구성 영역에서 활성화됩니다.UEM 콘솔의 디버그 모드 기능 위치 및 모양은 UEM UI에 따라 다를 수 있습니다.어떻게 보일지 예시는 다음과 같습니다. UEM 내에서 디버그 모드를 활성화하면 다음에 정책 변경 사항이 장치에 푸시되면 장치에서 KSP 앱이 열립니다.예를 들어, 지문 인증 활성화 기능을 디버깅하려는 경우 UEM에서 다음 단계를 따르세요. 1.디버그 모드 플래그를 켜세요. 2.장치 전체 정책을 확장하고 장치 정책 제어 활성화를 True로 설정합니다. 3.암호 정책 > 생체 인식 인증에서 지문 인증 활성화 정책을 구성합니다. 4.정책을 장치에 푸시합니다. 5.KSP 앱에서 디버그 정보를 확인하세요.어떤 이유로든 앱이 실행되지 않는 경우: 기기에서 최신 Google Play 서비스 및 Play 클라이언트 애플리케이션을 사용하고 있는지 확인하세요.UEM이 적절한 정책을 기기에 푸시했는지 확인하세요.일부 UEM은 정책이 콘솔에 저장되는 시간과 장치가 정책을 수신하는 시점 사이에 지연이 있습니다', metadata={'source': 'all_processed_data_ko.json', 'seq_num': 1306, 'title': '디버그 모드', 'url': 'https://docs.samsungknox.com/admin/knox-platform-for-enterprise/knox-service-plugin/troubleshoot/debug-mode', 'project': 'KSP', 'last_updated': '2023-07-26', 'family_tree': 'child', 'parent_id': '8073c002-565c-4bc7-bcf1-4983ac9e55aa', 'id': 'a5d1475b-1501-44ad-a59a-57737eb5789a'}), 0.9234804792463199), (Document(page_content='.ECDSA는 RSA와 비슷한 최신 비대칭 알고리즘이지만 동일한 강도에서는 더 작고 빠릅니다.하드웨어 퓨즈 삼성 Knox 보안은 하드웨어의 하위 수준 기능부터 Android 자체에 이르기까지 계층으로 구축됩니다.중요한 저수준 기능 중 하나는 하드웨어 기반의 신뢰 루트 (Root of Trust) 를 제공하는 하드웨어 퓨즈입니다.삼성 Root of Trust 구성 요소는 일회용 퓨즈로 설계되어 암호화 키, 롤백 방지, Knox 보증과 같은 데이터를 영구적으로 기록합니다.#Rollback Prevention (RP) 퓨즈: 이 퓨즈는 삼성에서 승인한 부트로더 중 허용 가능한 최소 버전을 인코딩합니다. .오래된 소프트웨어에는 악용될 수 있는 알려진 취약점이 있을 수 있습니다.롤백 방지 기능을 사용하면 승인되었지만 최신 버전이 아닌 부트로더를 로드할 수 없습니다.RP 퓨즈 버전 번호는 시스템 소프트웨어를 처음 설치할 때와 특정 업데이트가 발생할 때 설정됩니다.RP 퓨즈 버전 번호가 설정되면 레거시 소프트웨어 버전으로 되돌릴 수 없습니다.#Knox 보증 퓨즈 Knox 보증 퓨즈의 목적은 장치의 무결성에 대한 기록을 제공하는 것입니다.삼성은 여러 구성 요소의 무결성을 모니터링하여 특정 구성 요소가 승인되지 않은 구성인지 감지합니다.예를 들어, Trusted Boot 프로세스는 서명되지 않은 커널이 로드되고 SELinux와 같은 중요한 보안 기능이 비활성화되는 것을 감지하면 퓨즈를 설정합니다. 승인되지 않은 구성 요소는 권한 상승이나 정상적으로 보호되는 주변 장치에 대한 액세스와 같은 취약성을 초래할 수 있으므로 이러한 유형의 검사는 매우 중요합니다.이러한 승인되지 않은 구성 요소로 인해 재부팅이나 향후 업데이트 (예: 승인된 구성 요소로 돌아가는 경우) 를 거치더라도 취약성이 지속될 수 있습니다.Knox Warty Fuse는 승인되지 않은 상태에서의 실행에 대한 변조 방지 및 영구 기록을 제공하도록 설계되었습니다', metadata={'source': 'all_processed_data_ko.json', 'seq_num': 122, 'title': '루트 오브 트러스트', 'url': 'https://docs.samsungknox.com/admin/fundamentals/whitepaper/core-platform-security/root-of-trust', 'project': 'USP', 'last_updated': '2023-07-26', 'family_tree': 'child', 'parent_id': 'ca0f5498-c5ca-42ab-a657-36b484ee307f', 'id': '60787463-9028-4ce7-a9f3-c47407755ec3'}), 0.9226284479487175)]\n",
      "##############################\n",
      "similar_docs\n",
      "##############################\n",
      "[(Document(page_content='삼성 녹스 플랫폼.삼성 Knox는 모든 기업에 가장 인기 있는 소비자 디바이스의 방어급 보안을 제공합니다.Knox Platform은 오늘날 모바일 디바이스 시장에서 흔히 볼 수 있는 표준 기능을 뛰어넘는 동급 최고의 하드웨어 기반 보안, 정책 관리 및 규정 준수 기능을 제공합니다.Knox 플랫폼은 다양한 삼성 디바이스를 지원하는 강력한 모바일 보안 전략의 초석입니다.삼성 Knox를 사용하는 이유는 무엇일까요?Knox 플랫폼은 여러분과 기업이 많은 모바일 플랫폼에서 흔히 발생하는 보안 격차를 피할 수 있도록 도와줍니다.Knox는 Gartner가 발표한 2017년 12월 모바일 OS 및 디바이스 보안: 플랫폼 비교에서 28개 부문 중 25개 부문에서*강한* 등급을 받았으며 지난 3년 연속 높은 평가를 받았습니다.Knox 플랫폼의 보안 강화는 모바일 장치 운영의 모든 측면을 지원합니다.Knox 플랫폼은 혁신적인 Knox Vault부터 특허받은 실시간 커널 보호까지 고급 기능을 통해 모바일 엔드포인트에 대한 신뢰를 제공합니다.Knox Platform을 사용하면 IT 관리자가 최고의 모바일 디바이스 하드웨어를 안전하게 대량으로 배포하고 기존 비즈니스 인프라 및 앱과 신속하게 통합할 수 있습니다.기업을 위한 #Key 혜택, 견고한 플랫폼 무결성, 강력한 데이터 보호, 세분화된 정책 시행을 제공하여 조직의 보안 및 규정 준수 요구 사항을 쉽게 충족할 수 있습니다.엔터프라이즈 모빌리티 관리 (EMM) 시스템을 통해 Knox Platform 기능을 원활하게 활성화하고 관리하세요.중앙 집중식 원격 디바이스 제어, 고급 VPN 관리, 앱 허용 및 차단, 삼성 디바이스의 모든 측면을 제어하는 세분화된 정책을 통해 인프라, 배포 및 관리 요구 사항을 유연하게 지원합니다.기존 배포에 영향을 주지 않고 Knox Platform의 포괄적인 이점을 활용하여 Android Enterprise에서 손쉽게 업그레이드할 수 있습니다.혁신적인 삼성 데스크톱 경험 (DeX) 을 새로운 업무 환경에 안전하게 배포하여 모바일 및 데스크톱 컴퓨팅을 하나의 디바이스로 통합하세요.Knox Platform의 최첨단 보안 기술은 전 세계 수많은 정부, 보안 및 금융 기관에 의해 지속적으로 널리 채택되고 검증되고 있습니다.삼성은 공공 안전 및 소비자 개인 정보 보호를 위해 설계된 광범위한 인증 요구 사항을 충족하기 위해 글로벌 정부 기관 및 국제 규제 기관과 지속적으로 협력하고 있습니다.Knox Platform 하이라이트 Knox Platform은 보안 및 관리 격차를 해소하고, 기업이 파악한 문제점을 해결하고, 규제가 엄격한 업계의 엄격한 요구 사항을 충족하는 강력한 기능 세트를 제공합니다.주요 강점은 다음과 같습니다. 이러한 기능에 대한 간략한 개요는 기능 요약을 참조하십시오.보안 하이라이트 다음 섹션에서는 Knox Platform이 업계 최고의 제품 및 서비스 에코시스템을 제공하여 모바일 장치 관리를 보호하고 용이하게 하는 방법을 설명합니다.하드웨어 기반 보안 Knox Platform은 하드웨어 기반의 신뢰할 수 있는 환경 위에 구축된 보안 계층을 통해 보안 위협으로부터 방어하고 엔터프라이즈 데이터를 보호합니다.Knox Platform의 보안 기능과 이러한 기능이 일반적인 엔터프라이즈 모바일 배포 문제를 해결하는 방법을 신뢰합니다.이 문서는 Knox 플랫폼의 고유한 기능에 중점을 둡니다.다른 기능에 대한 자세한 내용은 삼성 Knox 웹사이트를 참조하십시오.', metadata={'source': 'all_processed_data_ko.json', 'seq_num': 109, 'title': '삼성 녹스 플랫폼', 'url': 'https://docs.samsungknox.com/admin/fundamentals/whitepaper/the-samsung-knox-platform', 'project': 'USP', 'last_updated': '2023-07-26', 'family_tree': 'parent', 'parent_id': None}), 0.631886671586677), (Document(page_content='기능 요약.삼성 Knox 디바이스가 제공하는 보안, 관리 용이성 및 고급 VPN\"기능에 대한 간략한 참조를 원하는 사용자는 아래 요약을 검토하세요.삼성 Knox가 다른 OEM 디바이스와 어떻게 차별화되는지에 대한 자세한 내용은 삼성 계정 관리자에게 문의하거나 계정이 없는 경우 당사에 문의하세요.기능 요약 보안 하드웨어 기반 키스토어 이 기능은 하드웨어에 따라 달라지는 주장입니다.모든 Samsung Knox 디바이스에는 하드웨어 보호 기능이 지원되는 키스토어가 있습니다.변조 시 보안 잠금 심각한 보안 침해가 감지되면 시스템은 민감한 영역을 잠가 기업 데이터의 무단 액세스 및 유출을 방지합니다.기기 변조의 증거가 있는 경우 삼성은 사용자가 업무 프로필이나 완전 관리형 기기의 데이터에 액세스하지 못하도록 차단합니다.기기의 잠금을 다시 해제하려면 기기를 공장 초기화해야 합니다. 이 경우 기기 내부의 데이터가 지워집니다.원격 장치 상태 어떤 장치에 무단 펌웨어와 같은 보안 문제가 있는지 확인하여 즉시 조치를 취할 수 있습니다.Knox는 IMEI 변조 기록과 보증 기간 만료 여부를 확인합니다.Knox Vault 자체 프로세서와 메모리를 갖춘 분리되고 변조가 불가능하며 안전한 하위 시스템인 Knox Vault는 하드웨어 기반 Android Keystore 키, 삼성 인증 키, 생체 인식 데이터, 블록체인 자격 증명과 같은 민감한 데이터를 저장합니다.장애 발생 간격이 길어지면서 사용자를 인증하고 인증에 따라 키에 대한 액세스를 제어하는 보안에 중요한 코드를 실행합니다.ESE 및 기타 보안 수준이 높은 스토리지의 키스토어 지원 수많은 서비스에 액세스하려면 자격 증명이 필요합니다.여기에는 Wi-Fi, VPN, 이메일 및 웹사이트가 포함됩니다.중요한 자격 증명을 안전하게 저장하려면 개발자가 새 스토리지 하드웨어에 사용할 새 자격 증명 스토리지 코드를 작성해야 합니다.Knox는 다양한 하드웨어에서 자격 증명 관리를 위한 플러그 앤 플레이 프레임워크를 제공하므로 사내 자격 증명 관리 구현 로직을 개발할 필요가 없습니다.Sensitive Data Protection (SDP) SDP는 작업 프로필이나 완전 관리형 디바이스가 잠겨 있는 동안에도 데이터를 암호화된 상태로 유지합니다. 심지어 다른 솔루션이 데이터를 해독하는 런타임 중에도 마찬가지입니다.실시간 커널 보호 (RKP) 동급 최고의 커널 공격 방지 기능으로 삼성 디바이스에 대한 공격 가능성을 대폭 제한합니다. 커널 텍스트 보호 (KTP): 커널 텍스트 (코드 및 RO 데이터) 를 위조하거나 조작하려는 모든 시도로부터 보호합니다.페이지 테이블 보호 (PTP): 커널 및 사용자 페이지 테이블을 위조하거나 조작하려는 모든 시도로부터 보호합니다.커널 데이터 보호 (KDP): 커널 코드, 커널 데이터, 커널 제어 흐름 보호를 비롯한 커널 네임스페이스/자격 증명/보안 ID/이중 맵을 위조하거나 조작하려는 시도로부터 보호합니다.제어 흐름 보호 (CFP): 기존 커널 로직을 재사용하여 커널 자체 코드의 악용을 수집하는 복귀 지향 프로그래밍 (ROP) 및 점프 지향 프로그래밍 (JOP) 공격을 방지합니다.DualDAR 암호화 단일 암호화 인스턴스를 사용하면 구현상의 잠재적인 결함으로 인해 단일 장애 지점이 발생할 수 있습니다.KPE DualDAR는 두 개의 독립적인 암호화 계층을 제공하여 Rest Data-Rest를 보호하는 데 있어 이중화를 지원함으로써 훨씬 더 높은 수준의 안정성을 제공합니다.타사 암호화 모듈을 사용하여 암호화를 사용자 지정하면 데이터 암호화를 더욱 강화할 수 있습니다.이러한 이중 암호화는 기밀 배포에 필요합니다.참고로 DualDAR를 사용하려면 추가 라이선스 요금이 부과됩니다.ML 모델 보호, 기계 학습 및 신경 모델에는 모바일 운영 체제 플랫폼의 지원 없이는 해결하기 어려운 고유한 보안 문제가 있습니다.Knox ML 모델 보호는 Knox 플랫폼을 활용하여 개발자에게 ML 모델의 안전한 암호화, 운영 및 액세스 제어를 제공합니다.강화된 2단계 인증을 사용하면 IT 관리자가 업무 프로필 또는 완전 관리형 디바이스에 로그인할 때 최종 사용자에게 2단계 인증을 강제할 수 있습니다.2단계 인증은 생체 인식 (지문 및 홍채) 과 보다 전통적인 방법 (암호, PIN, 패턴) 의 조합을 통해 이루어집니다.정부 등급 공통 기준 모드를 사용하면 Common Criteria (국가 안보) 배포를 위해 장치를 규정 준수 상태로 간단하게 구성할 수 있습니다.인증된 타사 비즈니스 앱을 계속 활성화하면서 회사 소유 디바이스에 대한 완전한 제어가 필요한 기업을 위해 삼성은 샌드박싱된 폴더에서 타사 앱을 분리할 수 있는 Separated Apps만 제공합니다.앱 격리 그룹 (SEAMS) GUI를 사용하는 기존 앱 컨테이너와 달리 “보이지 않는” 앱 격리 그룹을 관리하여 일련의 앱을 다른 집합으로부터 보호할 수 있습니다.최대 300개의 그룹화가 가능합니다.보안 인증서 등록 에이전트 (SCEP, CMP, CMC_EST 프로토콜) 삼성은 최신 보안 프로토콜을 따르는 인증서 등록 에이전트 세트를 무료로 제공합니다.인증서를 안전하지 않게 등록하거나 자체 프로토콜을 구현해야 할 이유는 없습니다.관리 용이성 감사 로그 시스템 보안, 인증, 앱 관리, 데이터 보호, 네트워크 연결 및 주변 장치 제어 영역에서 다양한 추가 유형의 이벤트를 기록하는 포괄적이고 상세한 장치 감사 로그를 제공합니다.보안 감사 추적에 대한 정부 요구 사항을 충족합니다.KPE에서 실행되는 장치 소프트웨어 업데이트 Knox E-FOTA를 통해 IT는 반드시 최신 버전이 아닌 특정 펌웨어 버전을 배포할 수 있습니다.이러한 선택적 펌웨어 업데이트는 비즈니스 앱 및 서비스를 위한 안정적인 환경을 제공합니다.KPE는 하루 중 특정 시간, 네트워크 (Wi-Fi 또는 모바일) 또는 배터리 전원 상태와 같은 특정 조건에서 펌웨어 업데이트를 허용합니다.이러한 기능은 생산성을 최적화하고 성공적인 업그레이드를 보장하는 데 도움이 됩니다.Remote Control KPE를 사용하면 손가락, 키보드 및 마우스 이벤트를 주입하여 장치를 원격으로 제어할 수 있습니다.이는 원격으로 장치를 보는 것 외에 추가로 사용할 수 있습니다.주변 장치 프레임워크 모바일 장치 관리 외에도 Samsung Knox SDK를 사용하여 장치에 연결되거나 장치에 통합된 바코드 리더기와 같은 주변 장치를 관리할 수 있습니다.파트너는 주변기기 프레임워크를 통해 다양한 주변기기 모델의 설정, 모니터링, 진단 및 제어를 손쉽게 자동화할 수 있습니다.사용자 지정을 통해 IT 부서는 장치 소프트웨어 및 UI의 다양한 측면을 사용자 지정할 수 있습니다.KPE는 일반적인 기능 외에도 다음과 같은 추가 기능을 제공합니다. 부팅 로고 변경, 자동 전원 켜기/끄기와 같은 전원 동작 변경, 홈 화면 레이아웃 변경, PTT 및 긴급 구성 설정과 같은 하드웨어 키를 심층적으로 재매핑하고, 최대 80% 까지만 충전할 수 있도록 하여 배터리 수명을 연장합니다. 세분화된 로밍 제어를 허용하여 배터리 수명을 연장합니다. 통화나 문자 메시지가 자주 발생하는 모바일 로밍 중에 데이터를 사용할 수 있는 업무상 중요한 앱을 제어할 수 있습니다. 및 데이터 요금.AE는 IT 관리자만 모바일 데이터를 비활성화할 수 있도록 허용하며, 다른 모바일 데이터 사용을 허용하면서 통화나 앱 업데이트 다운로드를 차단할 수는 없습니다.또한 KPE Premium은 각 APN에 대해 별도의 로밍 제어를 활성화합니다.Admin Device Lock Knox를 사용하면 IT 관리자가 사용자가 전혀 잠금을 해제할 수 없는 방식으로 원격으로 디바이스를 잠글 수 있습니다.또한 Knox를 사용하면 개인 공간과 업무 프로필을 개별적으로 제어할 수 있습니다.예를 들어, 업무 프로필이 잠긴 상태에서도 개인 공간을 열 수 있습니다.데이터 공유 정책 KPE는 연락처, 일정 및 알림의 데이터 동기화를 제공합니다.또한 KPE는 개인 이벤트와 업무 이벤트가 모두 포함된 통합 캘린더를 제공합니다.방화벽 관리: 기기 내 방화벽 규칙을 설정할 수 있는 업계 전용 기능입니다.또한 KPE\"는 직원이 차단된 도메인을 방문하려고 할 때 IT 부서에 알릴 수 있습니다', metadata={'source': 'all_processed_data_ko.json', 'seq_num': 108, 'title': '기능 요약', 'url': 'https://docs.samsungknox.com/admin/fundamentals/whitepaper/feature-summary', 'project': 'USP', 'last_updated': '2023-07-26', 'family_tree': 'parent', 'parent_id': None}), 0.5158499757271964), (Document(page_content='녹스 볼트.삼성의 Knox Vault는 삼성이 수년 동안 갤럭시 스마트폰에 구축해 온 하드웨어 기반 보안을 발전시킨 제품입니다.Knox Vault는 암호, 생체 인식, 암호 키와 같은 민감한 데이터를 보호하기 위해 삼성이 개척한 신뢰할 수 있는 실행 환경 (TEE) 인 TrustZone이 제공하는 보호 기능을 확장합니다.TrustZone은 기본 애플리케이션 프로세서에서 안드로이드와 함께 다른 OS를 실행하는 반면, Knox Vault는 안드로이드 OS를 실행하는 기본 프로세서와는 완전히 독립적으로 작동합니다.Knox 보안 플랫폼의 핵심 구성 요소인 Knox Vault는 자체 프로세서 및 메모리뿐만 아니라 전용 비휘발성 보안 스토리지에 대한 인터페이스를 갖춘 독립적이고 변조가 불가능한 안전한 하위 시스템입니다.Knox Vault는 하드웨어 기반 Android 키스토어 키, 삼성 인증 키 (SAK), 생체 인식 데이터, 블록체인 자격 증명과 같은 민감한 데이터를 저장할 수 있습니다.장애 발생 간격이 길어지면서 사용자를 인증하고 인증에 따라 키에 대한 액세스를 제어하는 보안에 중요한 코드를 실행하세요.Knox Vault는 갤럭시 S21부터 삼성 디바이스에 통합되며, BSI PP0084 EAL4+ 이상의 요구 사항에 따라 평가된 공통 기준인 구성 요소로 구성되어 있습니다.이러한 구성 요소는 독립 연구소에서 광범위한 하드웨어 공격에 대해 테스트하고 해당 소프트웨어 및 펌웨어에 대한 검토를 거칩니다.#Protection from Attacks Knox Vault는 소프트웨어 및 하드웨어 공격 모두에 대해 강력한 보안 보장을 제공합니다.Knox Vault는 Android를 실행하는 기본 프로세서와 독립적이므로 Knox Vault 프로세서에서 실행되는 코드는 동일한 프로세서에서 실행되는 다른 소프트웨어를 손상시킬 수 있는 소프트웨어 부채널 공격과 같은 공유 리소스를 악용하는 공격에 강합니다.이러한 분리 덕분에 Knox Vault는 기본 프로세서 자체가 완전히 손상된 경우에도 민감한 데이터를 보호할 수 있습니다.Knox Vault는 소프트웨어 공격에 강할 뿐만 아니라 변조가 불가능하도록 설계되어 공격자가 디바이스를 물리적으로 소유하여 비밀을 추출해야 하는 하드웨어 공격을 차단합니다.Knox Vault는 데이터 공개를 위한 물리적 프로빙, 보안 메커니즘을 비활성화하기 위한 회로의 물리적 조작, 강제 정보 유출, 데이터 공개를 위한 차동 전력 분석과 같은 하드웨어 부채널 공격, 보안 메커니즘을 우회하기 위한 장애 주입과 같은 하드웨어 공격에 강합니다.이러한 공격 유형에 대한 자세한 내용은 하드웨어 공격으로부터의 보호를 참조하십시오.Knox Vault 기능 Knox Vault의 다양한 기능 중에서 보호 디바이스의 전반적인 보안을 위한 핵심은 다음과 같습니다.#Weaver 위버는 안드로이드에 대한 보안 비밀번호 인증에 사용됩니다.Knox Vault 프로세서에서 실행되는 Weaver의 데이터와 비밀 (암호) 은 안전한 Knox Vault 스토리지에 암호화되어 저장됩니다.위버는 저장할 비밀 데이터를 수신하면 키도 함께 받게 되는데, 위버에서 비밀 데이터를 다시 읽으려면 이 키를 제공해야 합니다.비밀을 무차별 대입으로 추출하려는 시도를 방지하기 위해 Weaver는 이진 지수 백오프 알고리즘을 사용합니다.암호를 읽으려고 할 때 적절한 키가 제공되지 않으면 Weaver는 백오프 알고리즘에 의해 결정된 기간 동안 읽기 작업을 거부합니다.우회할 수 없는 보안 타이머는 이러한 기간을 추적하는 데 사용됩니다.#Credential 스토리지 이 기능은 Knox Vault 프로세서와 Knox Vault 스토리지 간에 전송되는 데이터를 보호하는 보안 채널을 사용하여 Knox Vault 스토리지에 Knox Vault 프로세서로 암호화된 데이터를 저장합니다.Knox Vault 스토리지에는 다음과 같은 데이터가 저장됩니다. 생체 인식 데이터를 보호하기 위한 암호화 키, 블록체인 키 스토어 자격 증명, 삼성 인증 키 (SAK) 자격 증명 스토리지의 모든 데이터는 Knox Vault 고유 키를 사용하여 암호화됩니다.이렇게 하면 데이터가 다른 기기에서 복호화되는 것을 방지할 수 있습니다.#Samsung 증명 키 삼성 Knox Attestation은 기기 또는 기기의 키가 손상되었는지 여부를 감지하도록 설계된 Knox 플랫폼 기능으로, Knox 서비스, 삼성 페이, 삼성 패스 등 보안에 민감한 삼성 시스템에 대한 액세스를 차단하는 데 사용할 수 있습니다.각 디바이스에는 Knox Vault에 저장되는 고유한 비대칭 타원형 커브 전용 삼성 증명 키 (SAK) 가 있습니다.키 생성 프로세스는 강력한 난수 생성을 기반으로 키가 고유한지 확인합니다.#StrongBox Keymaster 지원 StrongBox Keymaster는 애플리케이션에서 키를 생성하고 키를 사용하여 암호화 작업을 수행하는 데 사용할 수 있는 다양한 암호화 알고리즘을 지원하는 키 관리 모듈입니다.안드로이드 프레임워크는 애플리케이션이 StrongBox 키마스터를 사용할 수 있도록 KeyStore API를 제공합니다.StrongBox 키마스터에서 생성하거나 키마스터로 가져온 모든 키는 Knox Vault의 고유 키로 암호화됩니다.따라서 이러한 키는 녹스 볼트 프로세서에서 실행되는 StrongBox Keymaster 외부에서는 해독할 수 없습니다.Knox Vault 아키텍처 Knox Vault는 다음과 같이 구성됩니다. Knox Vault 서브시스템: SoC의 일부로 구현된 Knox Vault Storage, Knox Vault Storage: SoC 외부에 물리적으로 위치한 집적 회로인 보안 인터페이스를 통해 Knox Vault 서브시스템이 Knox Vault 스토리지와 통신합니다.#Knox Vault 서브시스템 Knox Vault 하위 시스템은 다른 SoC 구성 요소와 별도로 작동하도록 설계되었습니다.Knox Vault 프로세서, SRAM 및 ROM으로 구성된 자체 보안 처리 환경을 갖추고 있습니다.또한 고온 및 저온 감지기, 고/저 공급 전압 감지기, 공급 전압 글리치 감지기, 레이저 감지기 등 일련의 보안 센서 또는 감지기를 사용하여 하드웨어 상태와 환경을 모니터링함으로써 다양한 하드웨어 기반 공격으로부터 향상된 보안 및 데이터 보호를 제공합니다. Knox Vault 서브시스템에는 전용 난수 생성기와 자체 암호화 엔진도 포함되어 있습니다.Knox 볼트 프로세서는 외부 메모리 관리자를 통해 시스템 DRAM에 액세스할 수 있습니다.# #Knox 볼트 프로세서 녹스 볼트 프로세서는 Knox Vault의 주요 컴퓨팅 성능을 제공합니다.가장 강력한 절연성을 제공하기 위해 Knox Vault 프로세서는 SoC의 기본 프로세서와 분리되어 있습니다.이러한 분리는 공격을 받는 대상 소프트웨어와 동일한 실행 코어를 공유하는 악성 소프트웨어에 의존하는 부채널 공격을 방지하는 데 도움이 됩니다.Knox Vault 프로세서는 SRAM에서 명령을 실행하고 데이터를 관리함으로써 물리적으로 격리된 실행 환경도 보장합니다.보안 부트 로더 코드가 있는 Knox Vault 서브시스템 ROM도 하드웨어 보호 메커니즘에 의해 분리되고 보호됩니다.Knox 볼트 프로세서가 시작되면 ROM 코드가 SRAM에 로드됩니다.ROM 코드가 Knox Vault 프로세서 펌웨어를 로드하는 동안 SOC 메인 프로세서에서 실행되는 모듈의 도움을 받아 Knox Vault 프로세서의 소프트웨어 스택에는 자체 보안 부트 체인이 있습니다.# #Hardware 모니터 하드웨어 모니터는 보안 센서 및 감지기를 통해 비정상적인 하드웨어 상태를 확인합니다.Knox Vault Processor에서 실행되는 애플리케이션은 모니터링 및 감지에 영향을 주거나 우회할 수 없습니다.# #Crypto 엔진 하드웨어 암호화 모듈은 AES 암호화/복호화, DRBG 난수 생성, SHA 해싱, 메시지 인증 코드를 위한 HMAC 키 해싱, RSA 및 ECC 키 생성 및 서비스와 같은 암호화 기능을 제공합니다. # #Knox Vault 고유 키 Knox Vault 고유 키는 일회성 프로그래밍 가능한 퓨즈에 기록됩니다.이 고유 키는 Knox Vault 하위 시스템으로 가져오거나 생성한 키를 보호하는 데 사용됩니다', metadata={'source': 'all_processed_data_ko.json', 'seq_num': 120, 'title': '녹스 볼트', 'url': 'https://docs.samsungknox.com/admin/fundamentals/whitepaper/core-platform-security/knox-vault', 'project': 'USP', 'last_updated': '2023-07-26', 'family_tree': 'parent', 'parent_id': None}), 0.04194052452090056), (Document(page_content=\"엔터프라이즈용 Knox 플랫폼 3.4.1 릴리스 노트.2019년 12월 이 섹션에서는 Knox Platform for Enterprise의 각 버전에서 변경된 사항을 중점적으로 설명합니다.모든 버전의 모든 Knox 기능의 전체 목록은 Knox on Android 기능 페이지를 참조하세요.Android 엔터프라이즈 통합 당사의 지속적인 노력은 공식 용어를 시장에 맞게 표준화하는 것입니다.이러한 추세에 따라 Workspace 컨테이너의 이름을 Work로 변경했습니다.Knox Platform for Enterprise (KPE) 를 사용하는 디바이스에서는 이러한 디바이스의 탭이 '개인용' 및 '작업 공간'에서 '개인용' 및 '업무용'으로 변경됩니다.지원 중단된 기능 운영을 최적화하고 고객에게 큰 영향을 미치는 제품에 집중하기 위해 고객의 요구 사항을 더 이상 충족하지 못하는 일부 기능을 지원 중단했습니다.이 프로세스를 통해 리소스를 통합하여 사용자에게 더 많은 가치를 제공할 수 있을 것입니다.사용량이 적은 KPE 기능은 Knox 3.4.1 이후부터 지원 중단되었습니다. 삼성 싱글 사인온 (Kerberos), AD를 사용한 Knox 컨테이너 잠금 해제, Knox 공유 디바이스, Knox 클라우드 SDK, 앱 설치 (보안상의 이유로 더 이상 사용할 수 없음) 이 기능 지원 중단에 대해 자세히 알아보려면 블로그 게시물 삼성의 저사용 KPE 기능 지원 중단하기를 참조하세요.릴리스 노트로 돌아가기\", metadata={'source': 'all_processed_data_ko.json', 'seq_num': 1359, 'title': '엔터프라이즈용 Knox 플랫폼 3.4.1 릴리스 노트', 'url': 'https://docs.samsungknox.com/admin/knox-platform-for-enterprise/release-notes/19-12', 'project': 'KPE', 'last_updated': '2023-07-26', 'family_tree': 'parent', 'parent_id': None}), 0.023839082705843097), (Document(page_content='Knox 서비스 플러그인.Knox 서비스 플러그인은 Knox Platform for Enterprise 릴리스를 통해 해당 기능이 제공되는 즉시 Knox Platform for Enterprise (KPE) 기능을 사용하여 삼성 디바이스를 관리, 구성 및 보호할 수 있는 앱입니다.IT 관리자는 삼성 Knox SDK를 사용하여 자체 솔루션을 개발하거나 UEM 제공업체가 기능을 통합하기를 기다릴 필요 없이 출시 당일에 최신 Knox 기능을 사용할 수 있습니다.Knox 서비스 플러그인을 사용하는 이유는 무엇일까요?다음은 Knox 서비스 플러그인이 어떻게 도움이 되는지 설명하는 간단한 예시입니다. Knox Platform for Enterprise가 삼성 디바이스에 음성을 모든 언어로 실시간으로 번역하는 기능을 도입했다고 가정해 보겠습니다.글로벌 조직의 IT 관리자인 James는 이 기능이 팀의 디바이스에 배포하는 데 매우 유용할 것이라고 생각하지만, 그의 팀에는 Knox SDK를 사용하여 기능을 통합할 수 있는 소프트웨어 개발자가 포함되어 있지 않습니다.James는 UEM 제공업체인 Leonard의 개발자에게 연락하여 새 기능을 언제 UEM 콘솔에 통합할 수 있는지 문의합니다.Leonard는 James에게 이 새 기능이 여러 달 동안 UEM 콘솔에 포함되지 않을 것이라고 말합니다.제임스는 단념하지 않고 Leonard가 새 기능을 구현하기를 기다릴 필요가 없다는 것을 기억합니다.대신 Knox 서비스 플러그인 앱을 UEM에 추가할 수 있습니다.플러그인을 설치하면 Knox Platform for Enterprise에 도입된 새로운 기능을 같은 날 UEM 콘솔에서 사용할 수 있으며 James는 팀의 디바이스에서 번역 기능을 즉시 활성화할 수 있습니다.Knox 서비스 플러그인 사용의 이점 Knox 서비스 플러그인을 사용하면 IT 관리자는 Knox Platform for Enterprise 기능이 출시되는 즉시 사용할 수 있습니다.Knox Platform for Enterprise는 모든 기업에서 가장 널리 사용되는 소비자 디바이스에 방어급 보안을 제공합니다.Android의 표준 기능을 뛰어넘는 동급 최고의 하드웨어 기반 보안, 정책 관리 및 규정 준수 기능을 제공합니다.Knox는 다양한 삼성 디바이스를 지원하는 강력한 모바일 보안 전략의 초석입니다.Knox 서비스 플러그인은 다음과 같은 이점을 제공합니다. 기업 고객이 상용 출시 후 거의 즉시 기존 및 새로운 Knox 기능을 디바이스에 배포할 수 있도록 지원합니다.UEM의 프레임워크와 UI를 활용하여 기업 고객이 Knox Platform for Enterprise 기능의 배포 및 구성을 더 잘 제어할 수 있도록 합니다.어떤 UEM을 선택하든 관계없이 모든 Knox Platform for Enterprise 기능을 사용할 수 있도록 합니다.Knox Platform for Enterprise 기능을 지원하는 데 드는 UEM의 개발 비용을 최소화합니다.', metadata={'source': 'all_processed_data_ko.json', 'seq_num': 1226, 'title': 'Knox 서비스 플러그인', 'url': 'https://docs.samsungknox.com/admin/knox-platform-for-enterprise/knox-service-plugin/welcome', 'project': 'KSP', 'last_updated': '2023-07-26', 'family_tree': 'parent', 'parent_id': None}), 0.01288645805621017), (Document(page_content='. 풀에서 Knox 설정을 선택합니다. Android Enterprise 삭제구성 초안 설정 삭제 일반 설정 삭제 Knox 설정 삭제 Android 엔터프라이즈 구성 저장 파일 업로드 디바이스 관리 프로파일 생성 디바이스 관리 프로파일 지정 디바이스 관리 프로파일 생성 (클론 프로파일) 디바이스 관리 프로파일 생성 디바이스 관리 프로파일 생성 (클론 프로파일) 삭제 디바이스 관리 프로파일 정책 삭제 디바이스 관리 프로파일 수정 디바이스 관리 프로파일 수정 디바이스 관리 프로파일 수정 디바이스 관리 프로파일 수정 디바이스 관리 프로파일 우선 순위 변경 Knox 생성 Knox 컨테이너 풀 삭제 Knox 컨테이너 정보 수정 안드로이드 엔터프라이즈 정책 저장Android 관리 API 정책 저장 삼성 Knox 정책 저장 클라이언트 앱 제어 정책 저장 멀티 클라이언트 앱 제어 정책 저장 클라이언트 브라우저 정책 저장 Knox 포털의 정책 생성 클라이언트 정책 저장 클라이언트 정책 저장 일반 정책 저장 Windows Save Knox 정책 저장 일반 정책 생성 Windows Save Knox 정책 저장 프로필 정책 풀에서 정책 선택 Android 엔터프라이즈 이벤트 정책 저장 트리거 일반 정책 저장 Windows 이벤트 정책 생성 트리거 저장 Knox 정책 업로드 웨어 연락처 정보 삭제 Knox 설정 저장 스테이징 및 스테이징 저장 공유장치 설정 Google 관리 앱 제거 (장치 명령 전송) Google 관리 앱 설치 (장치 명령 전송) 장치에 설치된 Google 관리 앱 보기 프로필 전송 요청 장치 명령 그룹에 EMM 프로필 할당 그룹 저장 프로필의 그룹 매핑 정보 조직에 EMM 프로필 할당 EMM 프로필 할당 조직에 EMM 프로필 할당 프로필 조직 매핑 정보 저장 EMM 에이전트 프로필 복사 장치 관리 프로필 삭제 EMM 에이전트 프로필 내보내기 장치 관리 프로필 수정 장치 관리 프로필 수정 KNOX 컨테이너 정보 저장프로필 업데이트 일정 대기열에 있는 장치 삭제 명령 풀에서 이벤트 정책 선택 이벤트 우선 순위 수정 트리거 저장 KNOX 정책 수정 이벤트 정보 수정 이벤트 우선 순위 보고서 수정 대시보드 기본 페이지 수정 대시보드 기본 페이지 수정 대시보드 상태 삭제 대시보드 시작 대시보드 기본 페이지 추가 대시보드 삭제 보고서 조건 추가 보고서 조건 삭제 보고서 쿼리 필드 추가 보고서 쿼리 추가 보고서 쿼리 추가 보고서 쿼리 수정 보고서 상태 삭제 보고서 조건 삭제 보고서 조건 삭제 보고서보고서 차트 다운로드 보고서 결과 다운로드 보고서 조건 추가 보고서 조건 추가 보고서 수정 보고서 조건 수정 보고서 보기 보고서 설정 저장 사용자 쿠키 설정 정보 클라우드 커넥터 확인 요청 클라우드 커넥터 요청 클라우드 커넥터 생성 요청 클라우드 커넥터 요청 삭제 참조 데이터 추가 참조 데이터 수정 참조 데이터 추가 API 사용 삭제 API 사용 삭제 API 사용 삭제 API 사용자 추가 API 사용 API 무효화 사용자 토큰 수정 API 사용 APN 인증서 노래 요청 다운로드 APN 인증서 다운로드 APN 인증서 가져오기 APN 인증서 가져오기 APN 인증서 가져오기인증서 업로드 변경 APK QR 코드로 URL 다운로드 제한된 등록 생성 제한된 등록 삭제 제한된 등록 업데이트 (조건) IMEI 파일 업로드 Knox 관리 에이전트 정책 삭제 프로필 업데이트 설정 저장 Knox 관리 에이전트 정책 삭제 프로필 업데이트 설정 저장 프로필 업데이트 설정 저장 프로필 업데이트 설정 수정 기본 정보 Android Enterprise 서명 URL 인증 설정 수정 최종 사용자 라이선스 계약 수정 서버 구성 수정 서버 구성 수정 로그인/헤더 이미지 수정 서버 구성 수정 (단일) 로고/알림 수정텍스트 보기 제한된 등록 목록 시스템 업데이트 장치 별칭 Knox 클라우드 서비스 API 호출 변경 고객 액세스 유형 (전체 액세스) Delink 요청이 Knox에서 승인됨 델링크 요청이 승인됨 Knox에서 델링크 요청이 승인됨 Knox에서 델링크 요청이 거부됨 Knox에서 델링크 요청이 거부됨 델링크 요청됨 AMS에서 마이그레이션 요청이 승인됨 Knox 관리에서 마이그레이션 요청이 거부됨 Knox에서 마이그레이션 요청이 거부됨 Knox 관리 요청됨 Knox 라이센스 제품군에서 거부됨 녹스 포털 녹스 스위트 라이선스에서 생성Knox Portal에서 업데이트됨 SMS 보내기 사용자 권한 삭제 사용자 권한 생성 사용자 권한 수정 사용자 권한 수정 사용자 권한 활성화 사용 확인 사용자 암호 추가 사용 사용자 생성 비활성화 사용 사용자 암호 초기화 삭제 사용 여러 사용자 삭제 암호 재설정 (사용자별) 사용자 정보 수정 암호 재설정 (관리자에 의한) 엑셀 업로드 사용자/장치 정보 관련 엑셀 업로드 사용자 장치 북마크 삭제 사용자 장치 북마크 삽입 사용자 장치 북마크 삽입 사용자 장치 북마크 삽입 사용자 장치 북마크 수정 사용자 장치 북마크 수정 사용자 장치 북마크 수정 사용자 장치 북마크 수정 동기화 대상 사용자 생성 라이선스 변경 (사용자) 동기화 대상 사용자 장치 정보 검색 사용자 장치 정보 검색 사용자 장치 태그 정보 검색 사용자 장치 태그 정보 검색 사용자 기본 정보 보기 사용자 장치 태그 정보 보기 사용자 장치 태그 정보 보기 사용자 장치 태그 정보 보기 사용자 장치 태그 정보 보기 사용자 장치 태그 정보 보기 사용자 장치 태그 정보 보기 사용자 장치 태그 정보 보기 사용자 장치 태그 정보 보기 사용자 장치 태그 정보 보기 사용자 장치 태그 정보 보기 사용자 장치 태그 정보 보기 사용자 장치 태그 정보 보기 사용자 장치 태그 정보 보기 사용자 장치 태그 정보 보기 사용자 장치 태그 정보 보기사용자 기본 설정 보기 사용자 기본 설정 목록 보기 대량 구매 프로그램 사용자 ID별 라이선스 부여 VPP 앱 추가 사용자에게 VPP 애플리케이션별 라이선스 할당 또는 철회 .사용자 ID로 라이선스를 검색하고 Apple 웹 페이지에서 VPP 애플리케이션을 보고 앱당 라이선스 수를 업데이트하십시오.Apple 웹페이지에서 다운로드한 VPP 리뎀션 xls (xlsx) 파일을 업로드하십시오.VPP 토큰 삭제 애플 웹페이지에서 다운로드한 VPP 토큰 업로드 정보 업로드.Apple 웹페이지에서 사용자를 등록하고 초대 메일을 보내십시오.Apple 웹페이지에서 사용자를 등록합니다.Apple 웹페이지에서 VPP 사용자를 제거하고 사용 중지하십시오.Apple 웹 페이지에 액세스하여 VPP 사용자 정보를 업데이트하십시오.Windows 구성 삭제 서비스 제공 구성 추가 서비스 제공 구성 수정 서비스 제공 PPKG 파일 삭제 제공 PPKG 파일 추가 PPKG 파일 추가 PPKG 파일 수정 CSV를 통해 Windows 장치 정보 업로드 Windows 대량 장치 사용자 할당 Windows 대량 등록 설정 업데이트', metadata={'source': 'all_processed_data_ko.json', 'seq_num': 778, 'title': '콘솔 감사 이벤트', 'url': 'https://docs.samsungknox.com/admin/knox-manage/appendix/list-of-audit-events/console-audit-events', 'project': 'KM', 'last_updated': '2023-08-25', 'family_tree': 'parent', 'parent_id': None}), 0.009455899707973003)]\n",
      " Knox의 기능에는 다음과 같은 것들이 있습니다:\n",
      "\n",
      "- 하드웨어 기반 보안: Knox Platform은 하드웨어 기반의 신뢰할 수 있는 환경 위에 구축된 보안 계층을 통해 보안 위협으로부터 방어하고 엔터프라이즈 데이터를 보호합니다.\n",
      "\n",
      "- 관리 용이성: 감사 로그, 원격 제어, 주변 장치 프레임워크 등을 통해 장치 관리를 용이하게 합니다. \n",
      "\n",
      "- 고급 VPN: 기기 내 방화벽 규칙 설정, 차단된 도메인 방문 알림 등 VPN 관리 기능을 제공합니다.\n",
      "\n",
      "- 기기 잠금: IT 관리자가 원격으로 기기를 잠그고 개인 영역과 업무 프로필을 별도로 잠금 제어할 수 있습니다.\n",
      "\n",
      "- 데이터 정책: 연락처, 일정 등 데이터 동기화 및 통합 캘린더 제공 등을 통해 데이터 정책을 관리할 수 있습니다."
     ]
    }
   ],
   "source": [
    "#query = \"What’s knox?\"\n",
    "query = \"knox의 기능에는 어떤 것들이 있나요?\"\n",
    "response = qa(query)"
   ]
  },
  {
   "cell_type": "code",
   "execution_count": 68,
   "id": "01e77dad-dc19-416b-80e7-19fac3b736a5",
   "metadata": {
    "tags": []
   },
   "outputs": [
    {
     "name": "stdout",
     "output_type": "stream",
     "text": [
      "##################################\n",
      "query:  knox의 기능에는 어떤 것들이 있나요?\n",
      "##################################\n",
      "\u001b[34m\n",
      "\n",
      "### Answer ###\u001b[0m\n",
      "\n",
      "\n",
      "Knox 플랫폼의 주요 기능에는 다음이 포함됩니다:\n",
      "\n",
      "- 하드웨어 기반 보안: Knox Vault, 실시간 커널 보호(RKP), DualDAR 암호화 등을 통한 하드웨어 기반 보안 기능\n",
      "\n",
      "- 관리 용이성: 감사 로그, 원격 제어, 주변 장치 프레임워크 등을 통한 편리한 관리 기능\n",
      "\n",
      "- 세분화된 정책 시행: 방화벽 관리, 앱 격리, 데이터 공유 정책 등을 통한 세밀한 정책 적용\n",
      "\n",
      "- 인증 강화: 2단계 인증, 보안 인증서 등록 에이전트 등을 통한 인증 강화\n",
      "\u001b[32m\n",
      "\n",
      "### Contexts ###\u001b[0m\n",
      "-----------------------------------------------\n",
      "1. Chunk: 1711 Characters\n",
      "-----------------------------------------------\n",
      "삼성 녹스 플랫폼.삼성 Knox는 모든 기업에 가장 인기 있는 소비자 디바이스의 방어급 보안을 제공합니다.Knox Platform은 오늘날 모바일 디바이스 시장에서 흔히 볼 수\n",
      "있는 표준 기능을 뛰어넘는 동급 최고의 하드웨어 기반 보안, 정책 관리 및 규정 준수 기능을 제공합니다.Knox 플랫폼은 다양한 삼성 디바이스를 지원하는 강력한 모바일 보안 전략의\n",
      "초석입니다.삼성 Knox를 사용하는 이유는 무엇일까요?Knox 플랫폼은 여러분과 기업이 많은 모바일 플랫폼에서 흔히 발생하는 보안 격차를 피할 수 있도록 도와줍니다.Knox는\n",
      "Gartner가 발표한 2017년 12월 모바일 OS 및 디바이스 보안: 플랫폼 비교에서 28개 부문 중 25개 부문에서*강한* 등급을 받았으며 지난 3년 연속 높은 평가를\n",
      "받았습니다.Knox 플랫폼의 보안 강화는 모바일 장치 운영의 모든 측면을 지원합니다.Knox 플랫폼은 혁신적인 Knox Vault부터 특허받은 실시간 커널 보호까지 고급 기능을\n",
      "통해 모바일 엔드포인트에 대한 신뢰를 제공합니다.Knox Platform을 사용하면 IT 관리자가 최고의 모바일 디바이스 하드웨어를 안전하게 대량으로 배포하고 기존 비즈니스 인프라\n",
      "및 앱과 신속하게 통합할 수 있습니다.기업을 위한 #Key 혜택, 견고한 플랫폼 무결성, 강력한 데이터 보호, 세분화된 정책 시행을 제공하여 조직의 보안 및 규정 준수 요구 사항을\n",
      "쉽게 충족할 수 있습니다.엔터프라이즈 모빌리티 관리 (EMM) 시스템을 통해 Knox Platform 기능을 원활하게 활성화하고 관리하세요.중앙 집중식 원격 디바이스 제어, 고급\n",
      "VPN 관리, 앱 허용 및 차단, 삼성 디바이스의 모든 측면을 제어하는 세분화된 정책을 통해 인프라, 배포 및 관리 요구 사항을 유연하게 지원합니다.기존 배포에 영향을 주지 않고\n",
      "Knox Platform의 포괄적인 이점을 활용하여 Android Enterprise에서 손쉽게 업그레이드할 수 있습니다.혁신적인 삼성 데스크톱 경험 (DeX) 을 새로운 업무\n",
      "환경에 안전하게 배포하여 모바일 및 데스크톱 컴퓨팅을 하나의 디바이스로 통합하세요.Knox Platform의 최첨단 보안 기술은 전 세계 수많은 정부, 보안 및 금융 기관에 의해\n",
      "지속적으로 널리 채택되고 검증되고 있습니다.삼성은 공공 안전 및 소비자 개인 정보 보호를 위해 설계된 광범위한 인증 요구 사항을 충족하기 위해 글로벌 정부 기관 및 국제 규제\n",
      "기관과 지속적으로 협력하고 있습니다.Knox Platform 하이라이트 Knox Platform은 보안 및 관리 격차를 해소하고, 기업이 파악한 문제점을 해결하고, 규제가 엄격한\n",
      "업계의 엄격한 요구 사항을 충족하는 강력한 기능 세트를 제공합니다.주요 강점은 다음과 같습니다. 이러한 기능에 대한 간략한 개요는 기능 요약을 참조하십시오.보안 하이라이트 다음\n",
      "섹션에서는 Knox Platform이 업계 최고의 제품 및 서비스 에코시스템을 제공하여 모바일 장치 관리를 보호하고 용이하게 하는 방법을 설명합니다.하드웨어 기반 보안 Knox\n",
      "Platform은 하드웨어 기반의 신뢰할 수 있는 환경 위에 구축된 보안 계층을 통해 보안 위협으로부터 방어하고 엔터프라이즈 데이터를 보호합니다.Knox Platform의 보안\n",
      "기능과 이러한 기능이 일반적인 엔터프라이즈 모바일 배포 문제를 해결하는 방법을 신뢰합니다.이 문서는 Knox 플랫폼의 고유한 기능에 중점을 둡니다.다른 기능에 대한 자세한 내용은\n",
      "삼성 Knox 웹사이트를 참조하십시오.\n",
      "metadata:\n",
      " {'source': 'all_processed_data_ko.json', 'seq_num': 109, 'title': '삼성 녹스 플랫폼', 'url':\n",
      "'https://docs.samsungknox.com/admin/fundamentals/whitepaper/the-samsung-knox-platform', 'project':\n",
      "'USP', 'last_updated': '2023-07-26', 'family_tree': 'parent', 'parent_id': None}\n",
      "-----------------------------------------------\n",
      "2. Chunk: 4034 Characters\n",
      "-----------------------------------------------\n",
      "기능 요약.삼성 Knox 디바이스가 제공하는 보안, 관리 용이성 및 고급 VPN\"기능에 대한 간략한 참조를 원하는 사용자는 아래 요약을 검토하세요.삼성 Knox가 다른 OEM\n",
      "디바이스와 어떻게 차별화되는지에 대한 자세한 내용은 삼성 계정 관리자에게 문의하거나 계정이 없는 경우 당사에 문의하세요.기능 요약 보안 하드웨어 기반 키스토어 이 기능은 하드웨어에\n",
      "따라 달라지는 주장입니다.모든 Samsung Knox 디바이스에는 하드웨어 보호 기능이 지원되는 키스토어가 있습니다.변조 시 보안 잠금 심각한 보안 침해가 감지되면 시스템은 민감한\n",
      "영역을 잠가 기업 데이터의 무단 액세스 및 유출을 방지합니다.기기 변조의 증거가 있는 경우 삼성은 사용자가 업무 프로필이나 완전 관리형 기기의 데이터에 액세스하지 못하도록\n",
      "차단합니다.기기의 잠금을 다시 해제하려면 기기를 공장 초기화해야 합니다. 이 경우 기기 내부의 데이터가 지워집니다.원격 장치 상태 어떤 장치에 무단 펌웨어와 같은 보안 문제가\n",
      "있는지 확인하여 즉시 조치를 취할 수 있습니다.Knox는 IMEI 변조 기록과 보증 기간 만료 여부를 확인합니다.Knox Vault 자체 프로세서와 메모리를 갖춘 분리되고 변조가\n",
      "불가능하며 안전한 하위 시스템인 Knox Vault는 하드웨어 기반 Android Keystore 키, 삼성 인증 키, 생체 인식 데이터, 블록체인 자격 증명과 같은 민감한\n",
      "데이터를 저장합니다.장애 발생 간격이 길어지면서 사용자를 인증하고 인증에 따라 키에 대한 액세스를 제어하는 보안에 중요한 코드를 실행합니다.ESE 및 기타 보안 수준이 높은\n",
      "스토리지의 키스토어 지원 수많은 서비스에 액세스하려면 자격 증명이 필요합니다.여기에는 Wi-Fi, VPN, 이메일 및 웹사이트가 포함됩니다.중요한 자격 증명을 안전하게 저장하려면\n",
      "개발자가 새 스토리지 하드웨어에 사용할 새 자격 증명 스토리지 코드를 작성해야 합니다.Knox는 다양한 하드웨어에서 자격 증명 관리를 위한 플러그 앤 플레이 프레임워크를 제공하므로\n",
      "사내 자격 증명 관리 구현 로직을 개발할 필요가 없습니다.Sensitive Data Protection (SDP) SDP는 작업 프로필이나 완전 관리형 디바이스가 잠겨 있는\n",
      "동안에도 데이터를 암호화된 상태로 유지합니다. 심지어 다른 솔루션이 데이터를 해독하는 런타임 중에도 마찬가지입니다.실시간 커널 보호 (RKP) 동급 최고의 커널 공격 방지 기능으로\n",
      "삼성 디바이스에 대한 공격 가능성을 대폭 제한합니다. 커널 텍스트 보호 (KTP): 커널 텍스트 (코드 및 RO 데이터) 를 위조하거나 조작하려는 모든 시도로부터 보호합니다.페이지\n",
      "테이블 보호 (PTP): 커널 및 사용자 페이지 테이블을 위조하거나 조작하려는 모든 시도로부터 보호합니다.커널 데이터 보호 (KDP): 커널 코드, 커널 데이터, 커널 제어 흐름\n",
      "보호를 비롯한 커널 네임스페이스/자격 증명/보안 ID/이중 맵을 위조하거나 조작하려는 시도로부터 보호합니다.제어 흐름 보호 (CFP): 기존 커널 로직을 재사용하여 커널 자체\n",
      "코드의 악용을 수집하는 복귀 지향 프로그래밍 (ROP) 및 점프 지향 프로그래밍 (JOP) 공격을 방지합니다.DualDAR 암호화 단일 암호화 인스턴스를 사용하면 구현상의 잠재적인\n",
      "결함으로 인해 단일 장애 지점이 발생할 수 있습니다.KPE DualDAR는 두 개의 독립적인 암호화 계층을 제공하여 Rest Data-Rest를 보호하는 데 있어 이중화를\n",
      "지원함으로써 훨씬 더 높은 수준의 안정성을 제공합니다.타사 암호화 모듈을 사용하여 암호화를 사용자 지정하면 데이터 암호화를 더욱 강화할 수 있습니다.이러한 이중 암호화는 기밀\n",
      "배포에 필요합니다.참고로 DualDAR를 사용하려면 추가 라이선스 요금이 부과됩니다.ML 모델 보호, 기계 학습 및 신경 모델에는 모바일 운영 체제 플랫폼의 지원 없이는 해결하기\n",
      "어려운 고유한 보안 문제가 있습니다.Knox ML 모델 보호는 Knox 플랫폼을 활용하여 개발자에게 ML 모델의 안전한 암호화, 운영 및 액세스 제어를 제공합니다.강화된 2단계\n",
      "인증을 사용하면 IT 관리자가 업무 프로필 또는 완전 관리형 디바이스에 로그인할 때 최종 사용자에게 2단계 인증을 강제할 수 있습니다.2단계 인증은 생체 인식 (지문 및 홍채) 과\n",
      "보다 전통적인 방법 (암호, PIN, 패턴) 의 조합을 통해 이루어집니다.정부 등급 공통 기준 모드를 사용하면 Common Criteria (국가 안보) 배포를 위해 장치를 규정\n",
      "준수 상태로 간단하게 구성할 수 있습니다.인증된 타사 비즈니스 앱을 계속 활성화하면서 회사 소유 디바이스에 대한 완전한 제어가 필요한 기업을 위해 삼성은 샌드박싱된 폴더에서 타사\n",
      "앱을 분리할 수 있는 Separated Apps만 제공합니다.앱 격리 그룹 (SEAMS) GUI를 사용하는 기존 앱 컨테이너와 달리 “보이지 않는” 앱 격리 그룹을 관리하여 일련의\n",
      "앱을 다른 집합으로부터 보호할 수 있습니다.최대 300개의 그룹화가 가능합니다.보안 인증서 등록 에이전트 (SCEP, CMP, CMC_EST 프로토콜) 삼성은 최신 보안 프로토콜을\n",
      "따르는 인증서 등록 에이전트 세트를 무료로 제공합니다.인증서를 안전하지 않게 등록하거나 자체 프로토콜을 구현해야 할 이유는 없습니다.관리 용이성 감사 로그 시스템 보안, 인증, 앱\n",
      "관리, 데이터 보호, 네트워크 연결 및 주변 장치 제어 영역에서 다양한 추가 유형의 이벤트를 기록하는 포괄적이고 상세한 장치 감사 로그를 제공합니다.보안 감사 추적에 대한 정부\n",
      "요구 사항을 충족합니다.KPE에서 실행되는 장치 소프트웨어 업데이트 Knox E-FOTA를 통해 IT는 반드시 최신 버전이 아닌 특정 펌웨어 버전을 배포할 수 있습니다.이러한\n",
      "선택적 펌웨어 업데이트는 비즈니스 앱 및 서비스를 위한 안정적인 환경을 제공합니다.KPE는 하루 중 특정 시간, 네트워크 (Wi-Fi 또는 모바일) 또는 배터리 전원 상태와 같은\n",
      "특정 조건에서 펌웨어 업데이트를 허용합니다.이러한 기능은 생산성을 최적화하고 성공적인 업그레이드를 보장하는 데 도움이 됩니다.Remote Control KPE를 사용하면 손가락,\n",
      "키보드 및 마우스 이벤트를 주입하여 장치를 원격으로 제어할 수 있습니다.이는 원격으로 장치를 보는 것 외에 추가로 사용할 수 있습니다.주변 장치 프레임워크 모바일 장치 관리 외에도\n",
      "Samsung Knox SDK를 사용하여 장치에 연결되거나 장치에 통합된 바코드 리더기와 같은 주변 장치를 관리할 수 있습니다.파트너는 주변기기 프레임워크를 통해 다양한 주변기기\n",
      "모델의 설정, 모니터링, 진단 및 제어를 손쉽게 자동화할 수 있습니다.사용자 지정을 통해 IT 부서는 장치 소프트웨어 및 UI의 다양한 측면을 사용자 지정할 수 있습니다.KPE는\n",
      "일반적인 기능 외에도 다음과 같은 추가 기능을 제공합니다. 부팅 로고 변경, 자동 전원 켜기/끄기와 같은 전원 동작 변경, 홈 화면 레이아웃 변경, PTT 및 긴급 구성 설정과\n",
      "같은 하드웨어 키를 심층적으로 재매핑하고, 최대 80% 까지만 충전할 수 있도록 하여 배터리 수명을 연장합니다. 세분화된 로밍 제어를 허용하여 배터리 수명을 연장합니다. 통화나\n",
      "문자 메시지가 자주 발생하는 모바일 로밍 중에 데이터를 사용할 수 있는 업무상 중요한 앱을 제어할 수 있습니다. 및 데이터 요금.AE는 IT 관리자만 모바일 데이터를 비활성화할 수\n",
      "있도록 허용하며, 다른 모바일 데이터 사용을 허용하면서 통화나 앱 업데이트 다운로드를 차단할 수는 없습니다.또한 KPE Premium은 각 APN에 대해 별도의 로밍 제어를\n",
      "활성화합니다.Admin Device Lock Knox를 사용하면 IT 관리자가 사용자가 전혀 잠금을 해제할 수 없는 방식으로 원격으로 디바이스를 잠글 수 있습니다.또한 Knox를\n",
      "사용하면 개인 공간과 업무 프로필을 개별적으로 제어할 수 있습니다.예를 들어, 업무 프로필이 잠긴 상태에서도 개인 공간을 열 수 있습니다.데이터 공유 정책 KPE는 연락처, 일정\n",
      "및 알림의 데이터 동기화를 제공합니다.또한 KPE는 개인 이벤트와 업무 이벤트가 모두 포함된 통합 캘린더를 제공합니다.방화벽 관리: 기기 내 방화벽 규칙을 설정할 수 있는 업계\n",
      "전용 기능입니다.또한 KPE\"는 직원이 차단된 도메인을 방문하려고 할 때 IT 부서에 알릴 수 있습니다\n",
      "metadata:\n",
      " {'source': 'all_processed_data_ko.json', 'seq_num': 108, 'title': '기능 요약', 'url':\n",
      "'https://docs.samsungknox.com/admin/fundamentals/whitepaper/feature-summary', 'project': 'USP',\n",
      "'last_updated': '2023-07-26', 'family_tree': 'parent', 'parent_id': None}\n",
      "-----------------------------------------------\n",
      "3. Chunk: 1899 Characters\n",
      "-----------------------------------------------\n",
      "Knox 관리 주요 강점.Kiosk Wizard로 런처 애플리케이션을 쉽게 만들 수 있습니다. Knox Manage는 특정 애플리케이션, 위젯 및 알림만 표시하도록 디바이스를\n",
      "설정하는 데 도움이 되는 키오스크 마법사를 제공합니다.업무와 서비스에 완벽하게 맞도록 키오스크 디바이스를 구성할 수 있습니다.Knox Remote Support Knox\n",
      "Manage는 Knox 원격 지원을 통해 모든 디바이스 또는 애플리케이션 문제를 빠르고 정확하게 해결할 수 있도록 하는 Knox 원격 지원을 제공합니다.또한 Knox Remote\n",
      "Support는 로그 분석을 통해 동일한 문제가 다시 발생하는 것을 방지하는 데도 도움이 됩니다.E-FOTA Knox Manage를 사용하여 OS 버전을 최적으로 관리하면\n",
      "엔터프라이즈 무선 펌웨어 (E-FOTA) 를 사용하여 무선 펌웨어를 관리할 수 있습니다.E-FOTA는 취약한 OS 버전의 보안 위험을 해결하고 회사에서 개발한 소프트웨어와 새로운\n",
      "OS 버전 간의 호환성을 보장합니다.안드로이드 엔터프라이즈 디바이스의 통합 관리 Knox Manage는 모든 유형의 안드로이드 엔터프라이즈 디바이스에 대한 전체 관리 서비스를\n",
      "제공합니다.정책, 애플리케이션, 최신 업데이트를 손쉽게 할당하여 서비스 지원 비용을 절감할 수 있습니다.최적화된 Knox Manage 관리 포털 Knox Manage 관리 포털의\n",
      "사용자 인터페이스는 관리자 중심으로 설계되었습니다.등록된 디바이스의 보안 상태를 쉽게 모니터링하고 즉각적인 조치에 필요한 정보를 신속하게 수집할 수 있습니다.차별화된 삼성 Knox\n",
      "Knox Manage의 지원은 삼성 갤럭시 디바이스에 내장된 모바일 엔터프라이즈 보안 플랫폼인 삼성 Knox의 최신 펌웨어를 지원합니다.또한 Knox Manage는 최신 Knox\n",
      "API를 완벽하게 지원합니다.간편한 콘텐츠 관리 Knox Manage는 이미지, 문서, 오디오, 동영상까지 업로드 및 배포할 수 있는 기능을 제공합니다.단일 사용자 또는\n",
      "디바이스에서 그룹 또는 조직으로 배포 대상을 설정할 수 있습니다.또한 CDN (콘텐츠 전송 네트워크) 을 사용하면 콘텐츠를 더 빠르고 안전하게 배포하고 데이터 전송 부하를 줄일 수\n",
      "있습니다.대량 디바이스 등록 및 애플리케이션 할당 Knox Manage는 안드로이드 디바이스용 Knox 모바일 등록 (KME) 또는 iOS 디바이스용 자동 디바이스 등록 (ADE)\n",
      "을 통해 모바일 디바이스를 쉽고 빠르게 대량 등록할 수 있는 수단을 제공합니다.iOS 디바이스의 경우 Apple의 볼륨 구매 프로그램 (VPP) 도 제공되어 원하는 애플리케이션을\n",
      "편리하게 할당할 수 있습니다.시작 안내서를 통한 간편한 초기 설정 Knox Manage는 초기 환경 설정 프로세스를 요약한 시작 안내서를 제공합니다.가이드를 따르면 사용자를\n",
      "추가하고, 디바이스를 등록하고, 정책을 즉시 적용하는 데 능숙해질 수 있습니다.강력한 데이터 보호 Knox Manage는 발생 가능한 데이터 보안 위협으로부터 기업 데이터를\n",
      "보호하기 위해 초기 설계 프로세스부터 최상위 보안 요구 사항을 통합했습니다. 서버와 모바일 기기 간의 모든 데이터는 고급 암호화 표준 (AES) -256으로 암호화됩니다.2단계\n",
      "인증은 보안 인증서를 기반으로 하는 애플리케이션 및 통신을 통해 지원됩니다.기기 분석 데이터 저장 Knox Manage는 디바이스를 실시간으로 모니터링하는 것 외에도 감사 기능도\n",
      "제공합니다.시스템에서 발생하는 이벤트, 적용된 정책, 변조 및 규정 준수 위반 등을 확인하고 이에 대해 적절한 조치를 취할 수 있습니다.다이렉트 부팅을 지원하는 Knox\n",
      "Manage는 Android 7 이상 디바이스에서 다이렉트 부팅을 지원합니다.Knox Manage는 사용자가 디바이스를 재부팅한 후 디바이스 잠금을 해제하기 전에 실행됩니다.잠금\n",
      "해제 전에 실행할 수 있는 명령은 제한적입니다.\n",
      "metadata:\n",
      " {'source': 'all_processed_data_ko.json', 'seq_num': 988, 'title': 'Knox 주요 강점 관리', 'url':\n",
      "'https://docs.samsungknox.com/admin/knox-manage/introduction/key-features/knox-manage-key-\n",
      "strengths', 'project': 'KM', 'last_updated': '2023-07-26', 'family_tree': 'parent', 'parent_id':\n",
      "None}\n",
      "-----------------------------------------------\n",
      "4. Chunk: 728 Characters\n",
      "-----------------------------------------------\n",
      "엔터프라이즈용 Knox 플랫폼 3.4.1 릴리스 노트.2019년 12월 이 섹션에서는 Knox Platform for Enterprise의 각 버전에서 변경된 사항을 중점적으로\n",
      "설명합니다.모든 버전의 모든 Knox 기능의 전체 목록은 Knox on Android 기능 페이지를 참조하세요.Android 엔터프라이즈 통합 당사의 지속적인 노력은 공식 용어를\n",
      "시장에 맞게 표준화하는 것입니다.이러한 추세에 따라 Workspace 컨테이너의 이름을 Work로 변경했습니다.Knox Platform for Enterprise (KPE) 를\n",
      "사용하는 디바이스에서는 이러한 디바이스의 탭이 '개인용' 및 '작업 공간'에서 '개인용' 및 '업무용'으로 변경됩니다.지원 중단된 기능 운영을 최적화하고 고객에게 큰 영향을 미치는\n",
      "제품에 집중하기 위해 고객의 요구 사항을 더 이상 충족하지 못하는 일부 기능을 지원 중단했습니다.이 프로세스를 통해 리소스를 통합하여 사용자에게 더 많은 가치를 제공할 수 있을\n",
      "것입니다.사용량이 적은 KPE 기능은 Knox 3.4.1 이후부터 지원 중단되었습니다. 삼성 싱글 사인온 (Kerberos), AD를 사용한 Knox 컨테이너 잠금 해제, Knox\n",
      "공유 디바이스, Knox 클라우드 SDK, 앱 설치 (보안상의 이유로 더 이상 사용할 수 없음) 이 기능 지원 중단에 대해 자세히 알아보려면 블로그 게시물 삼성의 저사용 KPE\n",
      "기능 지원 중단하기를 참조하세요.릴리스 노트로 돌아가기\n",
      "metadata:\n",
      " {'source': 'all_processed_data_ko.json', 'seq_num': 1359, 'title': '엔터프라이즈용 Knox 플랫폼 3.4.1 릴리스 노트',\n",
      "'url': 'https://docs.samsungknox.com/admin/knox-platform-for-enterprise/release-notes/19-12',\n",
      "'project': 'KPE', 'last_updated': '2023-07-26', 'family_tree': 'parent', 'parent_id': None}\n",
      "-----------------------------------------------\n",
      "5. Chunk: 1469 Characters\n",
      "-----------------------------------------------\n",
      "Knox 서비스 플러그인.Knox 서비스 플러그인은 Knox Platform for Enterprise 릴리스를 통해 해당 기능이 제공되는 즉시 Knox Platform for\n",
      "Enterprise (KPE) 기능을 사용하여 삼성 디바이스를 관리, 구성 및 보호할 수 있는 앱입니다.IT 관리자는 삼성 Knox SDK를 사용하여 자체 솔루션을 개발하거나\n",
      "UEM 제공업체가 기능을 통합하기를 기다릴 필요 없이 출시 당일에 최신 Knox 기능을 사용할 수 있습니다.Knox 서비스 플러그인을 사용하는 이유는 무엇일까요?다음은 Knox\n",
      "서비스 플러그인이 어떻게 도움이 되는지 설명하는 간단한 예시입니다. Knox Platform for Enterprise가 삼성 디바이스에 음성을 모든 언어로 실시간으로 번역하는\n",
      "기능을 도입했다고 가정해 보겠습니다.글로벌 조직의 IT 관리자인 James는 이 기능이 팀의 디바이스에 배포하는 데 매우 유용할 것이라고 생각하지만, 그의 팀에는 Knox SDK를\n",
      "사용하여 기능을 통합할 수 있는 소프트웨어 개발자가 포함되어 있지 않습니다.James는 UEM 제공업체인 Leonard의 개발자에게 연락하여 새 기능을 언제 UEM 콘솔에 통합할\n",
      "수 있는지 문의합니다.Leonard는 James에게 이 새 기능이 여러 달 동안 UEM 콘솔에 포함되지 않을 것이라고 말합니다.제임스는 단념하지 않고 Leonard가 새 기능을\n",
      "구현하기를 기다릴 필요가 없다는 것을 기억합니다.대신 Knox 서비스 플러그인 앱을 UEM에 추가할 수 있습니다.플러그인을 설치하면 Knox Platform for\n",
      "Enterprise에 도입된 새로운 기능을 같은 날 UEM 콘솔에서 사용할 수 있으며 James는 팀의 디바이스에서 번역 기능을 즉시 활성화할 수 있습니다.Knox 서비스 플러그인\n",
      "사용의 이점 Knox 서비스 플러그인을 사용하면 IT 관리자는 Knox Platform for Enterprise 기능이 출시되는 즉시 사용할 수 있습니다.Knox Platform\n",
      "for Enterprise는 모든 기업에서 가장 널리 사용되는 소비자 디바이스에 방어급 보안을 제공합니다.Android의 표준 기능을 뛰어넘는 동급 최고의 하드웨어 기반 보안,\n",
      "정책 관리 및 규정 준수 기능을 제공합니다.Knox는 다양한 삼성 디바이스를 지원하는 강력한 모바일 보안 전략의 초석입니다.Knox 서비스 플러그인은 다음과 같은 이점을\n",
      "제공합니다. 기업 고객이 상용 출시 후 거의 즉시 기존 및 새로운 Knox 기능을 디바이스에 배포할 수 있도록 지원합니다.UEM의 프레임워크와 UI를 활용하여 기업 고객이 Knox\n",
      "Platform for Enterprise 기능의 배포 및 구성을 더 잘 제어할 수 있도록 합니다.어떤 UEM을 선택하든 관계없이 모든 Knox Platform for\n",
      "Enterprise 기능을 사용할 수 있도록 합니다.Knox Platform for Enterprise 기능을 지원하는 데 드는 UEM의 개발 비용을 최소화합니다.\n",
      "metadata:\n",
      " {'source': 'all_processed_data_ko.json', 'seq_num': 1226, 'title': 'Knox 서비스 플러그인', 'url':\n",
      "'https://docs.samsungknox.com/admin/knox-platform-for-enterprise/knox-service-plugin/welcome',\n",
      "'project': 'KSP', 'last_updated': '2023-07-26', 'family_tree': 'parent', 'parent_id': None}\n",
      "-----------------------------------------------\n",
      "6. Chunk: 3373 Characters\n",
      "-----------------------------------------------\n",
      ". 풀에서 Knox 설정을 선택합니다. Android Enterprise 삭제구성 초안 설정 삭제 일반 설정 삭제 Knox 설정 삭제 Android 엔터프라이즈 구성 저장 파일\n",
      "업로드 디바이스 관리 프로파일 생성 디바이스 관리 프로파일 지정 디바이스 관리 프로파일 생성 (클론 프로파일) 디바이스 관리 프로파일 생성 디바이스 관리 프로파일 생성 (클론\n",
      "프로파일) 삭제 디바이스 관리 프로파일 정책 삭제 디바이스 관리 프로파일 수정 디바이스 관리 프로파일 수정 디바이스 관리 프로파일 수정 디바이스 관리 프로파일 수정 디바이스 관리\n",
      "프로파일 우선 순위 변경 Knox 생성 Knox 컨테이너 풀 삭제 Knox 컨테이너 정보 수정 안드로이드 엔터프라이즈 정책 저장Android 관리 API 정책 저장 삼성 Knox\n",
      "정책 저장 클라이언트 앱 제어 정책 저장 멀티 클라이언트 앱 제어 정책 저장 클라이언트 브라우저 정책 저장 Knox 포털의 정책 생성 클라이언트 정책 저장 클라이언트 정책 저장\n",
      "일반 정책 저장 Windows Save Knox 정책 저장 일반 정책 생성 Windows Save Knox 정책 저장 프로필 정책 풀에서 정책 선택 Android 엔터프라이즈\n",
      "이벤트 정책 저장 트리거 일반 정책 저장 Windows 이벤트 정책 생성 트리거 저장 Knox 정책 업로드 웨어 연락처 정보 삭제 Knox 설정 저장 스테이징 및 스테이징 저장\n",
      "공유장치 설정 Google 관리 앱 제거 (장치 명령 전송) Google 관리 앱 설치 (장치 명령 전송) 장치에 설치된 Google 관리 앱 보기 프로필 전송 요청 장치 명령\n",
      "그룹에 EMM 프로필 할당 그룹 저장 프로필의 그룹 매핑 정보 조직에 EMM 프로필 할당 EMM 프로필 할당 조직에 EMM 프로필 할당 프로필 조직 매핑 정보 저장 EMM 에이전트\n",
      "프로필 복사 장치 관리 프로필 삭제 EMM 에이전트 프로필 내보내기 장치 관리 프로필 수정 장치 관리 프로필 수정 KNOX 컨테이너 정보 저장프로필 업데이트 일정 대기열에 있는\n",
      "장치 삭제 명령 풀에서 이벤트 정책 선택 이벤트 우선 순위 수정 트리거 저장 KNOX 정책 수정 이벤트 정보 수정 이벤트 우선 순위 보고서 수정 대시보드 기본 페이지 수정 대시보드\n",
      "기본 페이지 수정 대시보드 상태 삭제 대시보드 시작 대시보드 기본 페이지 추가 대시보드 삭제 보고서 조건 추가 보고서 조건 삭제 보고서 쿼리 필드 추가 보고서 쿼리 추가 보고서\n",
      "쿼리 추가 보고서 쿼리 수정 보고서 상태 삭제 보고서 조건 삭제 보고서 조건 삭제 보고서보고서 차트 다운로드 보고서 결과 다운로드 보고서 조건 추가 보고서 조건 추가 보고서 수정\n",
      "보고서 조건 수정 보고서 보기 보고서 설정 저장 사용자 쿠키 설정 정보 클라우드 커넥터 확인 요청 클라우드 커넥터 요청 클라우드 커넥터 생성 요청 클라우드 커넥터 요청 삭제 참조\n",
      "데이터 추가 참조 데이터 수정 참조 데이터 추가 API 사용 삭제 API 사용 삭제 API 사용 삭제 API 사용자 추가 API 사용 API 무효화 사용자 토큰 수정 API 사용\n",
      "APN 인증서 노래 요청 다운로드 APN 인증서 다운로드 APN 인증서 가져오기 APN 인증서 가져오기 APN 인증서 가져오기인증서 업로드 변경 APK QR 코드로 URL 다운로드\n",
      "제한된 등록 생성 제한된 등록 삭제 제한된 등록 업데이트 (조건) IMEI 파일 업로드 Knox 관리 에이전트 정책 삭제 프로필 업데이트 설정 저장 Knox 관리 에이전트 정책\n",
      "삭제 프로필 업데이트 설정 저장 프로필 업데이트 설정 저장 프로필 업데이트 설정 수정 기본 정보 Android Enterprise 서명 URL 인증 설정 수정 최종 사용자 라이선스\n",
      "계약 수정 서버 구성 수정 서버 구성 수정 로그인/헤더 이미지 수정 서버 구성 수정 (단일) 로고/알림 수정텍스트 보기 제한된 등록 목록 시스템 업데이트 장치 별칭 Knox\n",
      "클라우드 서비스 API 호출 변경 고객 액세스 유형 (전체 액세스) Delink 요청이 Knox에서 승인됨 델링크 요청이 승인됨 Knox에서 델링크 요청이 승인됨 Knox에서\n",
      "델링크 요청이 거부됨 Knox에서 델링크 요청이 거부됨 델링크 요청됨 AMS에서 마이그레이션 요청이 승인됨 Knox 관리에서 마이그레이션 요청이 거부됨 Knox에서 마이그레이션\n",
      "요청이 거부됨 Knox 관리 요청됨 Knox 라이센스 제품군에서 거부됨 녹스 포털 녹스 스위트 라이선스에서 생성Knox Portal에서 업데이트됨 SMS 보내기 사용자 권한 삭제\n",
      "사용자 권한 생성 사용자 권한 수정 사용자 권한 수정 사용자 권한 활성화 사용 확인 사용자 암호 추가 사용 사용자 생성 비활성화 사용 사용자 암호 초기화 삭제 사용 여러 사용자\n",
      "삭제 암호 재설정 (사용자별) 사용자 정보 수정 암호 재설정 (관리자에 의한) 엑셀 업로드 사용자/장치 정보 관련 엑셀 업로드 사용자 장치 북마크 삭제 사용자 장치 북마크 삽입\n",
      "사용자 장치 북마크 삽입 사용자 장치 북마크 삽입 사용자 장치 북마크 수정 사용자 장치 북마크 수정 사용자 장치 북마크 수정 사용자 장치 북마크 수정 동기화 대상 사용자 생성\n",
      "라이선스 변경 (사용자) 동기화 대상 사용자 장치 정보 검색 사용자 장치 정보 검색 사용자 장치 태그 정보 검색 사용자 장치 태그 정보 검색 사용자 기본 정보 보기 사용자 장치\n",
      "태그 정보 보기 사용자 장치 태그 정보 보기 사용자 장치 태그 정보 보기 사용자 장치 태그 정보 보기 사용자 장치 태그 정보 보기 사용자 장치 태그 정보 보기 사용자 장치 태그\n",
      "정보 보기 사용자 장치 태그 정보 보기 사용자 장치 태그 정보 보기 사용자 장치 태그 정보 보기 사용자 장치 태그 정보 보기 사용자 장치 태그 정보 보기 사용자 장치 태그 정보\n",
      "보기 사용자 장치 태그 정보 보기 사용자 장치 태그 정보 보기사용자 기본 설정 보기 사용자 기본 설정 목록 보기 대량 구매 프로그램 사용자 ID별 라이선스 부여 VPP 앱 추가\n",
      "사용자에게 VPP 애플리케이션별 라이선스 할당 또는 철회 .사용자 ID로 라이선스를 검색하고 Apple 웹 페이지에서 VPP 애플리케이션을 보고 앱당 라이선스 수를\n",
      "업데이트하십시오.Apple 웹페이지에서 다운로드한 VPP 리뎀션 xls (xlsx) 파일을 업로드하십시오.VPP 토큰 삭제 애플 웹페이지에서 다운로드한 VPP 토큰 업로드 정보\n",
      "업로드.Apple 웹페이지에서 사용자를 등록하고 초대 메일을 보내십시오.Apple 웹페이지에서 사용자를 등록합니다.Apple 웹페이지에서 VPP 사용자를 제거하고 사용\n",
      "중지하십시오.Apple 웹 페이지에 액세스하여 VPP 사용자 정보를 업데이트하십시오.Windows 구성 삭제 서비스 제공 구성 추가 서비스 제공 구성 수정 서비스 제공 PPKG\n",
      "파일 삭제 제공 PPKG 파일 추가 PPKG 파일 추가 PPKG 파일 수정 CSV를 통해 Windows 장치 정보 업로드 Windows 대량 장치 사용자 할당 Windows 대량\n",
      "등록 설정 업데이트\n",
      "metadata:\n",
      " {'source': 'all_processed_data_ko.json', 'seq_num': 778, 'title': '콘솔 감사 이벤트', 'url':\n",
      "'https://docs.samsungknox.com/admin/knox-manage/appendix/list-of-audit-events/console-audit-events',\n",
      "'project': 'KM', 'last_updated': '2023-08-25', 'family_tree': 'parent', 'parent_id': None}\n"
     ]
    }
   ],
   "source": [
    "print(\"##################################\")\n",
    "print(\"query: \", query)\n",
    "print(\"##################################\")\n",
    "\n",
    "print (colored(\"\\n\\n### Answer ###\", \"blue\"))\n",
    "print_ww(response['result'])\n",
    "\n",
    "\n",
    "print (colored(\"\\n\\n### Contexts ###\", \"green\"))\n",
    "show_context_used(response['source_documents'])"
   ]
  },
  {
   "cell_type": "code",
   "execution_count": null,
   "id": "b1a40222",
   "metadata": {},
   "outputs": [],
   "source": []
  },
  {
   "cell_type": "code",
   "execution_count": null,
   "id": "ce77c46a-7912-4e9f-aaf3-f3f66c6c8251",
   "metadata": {},
   "outputs": [],
   "source": []
  }
 ],
 "metadata": {
  "kernelspec": {
   "display_name": "Python 3.10.9 ('base')",
   "language": "python",
   "name": "python3"
  },
  "language_info": {
   "codemirror_mode": {
    "name": "ipython",
    "version": 3
   },
   "file_extension": ".py",
   "mimetype": "text/x-python",
   "name": "python",
   "nbconvert_exporter": "python",
   "pygments_lexer": "ipython3",
   "version": "3.10.9"
  },
  "vscode": {
   "interpreter": {
    "hash": "4b8e647a79df62bf31906a725b05de775d285962ac600487339d38c51a5c07b1"
   }
  }
 },
 "nbformat": 4,
 "nbformat_minor": 5
}
