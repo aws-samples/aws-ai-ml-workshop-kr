{
 "cells": [
  {
   "cell_type": "markdown",
   "id": "5deb2df2-413d-49bd-a829-3a1fc344937e",
   "metadata": {},
   "source": [
    "# RAG Based on RAG-Fusion\n",
    "- Hybrid Search\n",
    "- ReRanker\n",
    "- RAG-Fusion"
   ]
  },
  {
   "cell_type": "markdown",
   "id": "b1f81abc-3277-4a6b-9ef1-d4f997d67fbe",
   "metadata": {},
   "source": [
    "## Setting\n",
    " - Auto Reload\n",
    " - path for utils"
   ]
  },
  {
   "cell_type": "code",
   "execution_count": 1,
   "id": "ddde4105-b759-4d6c-8214-8e1ab485ae48",
   "metadata": {
    "tags": []
   },
   "outputs": [],
   "source": [
    "%load_ext autoreload\n",
    "%autoreload 2"
   ]
  },
  {
   "cell_type": "code",
   "execution_count": 2,
   "id": "57c2cdb1-d785-4317-afce-938f13141085",
   "metadata": {
    "tags": []
   },
   "outputs": [],
   "source": [
    "import sys, os\n",
    "module_path = \"../../..\"\n",
    "sys.path.append(os.path.abspath(module_path))"
   ]
  },
  {
   "cell_type": "markdown",
   "id": "9c4ade56-8dbc-4ded-b355-7e4bcc971e90",
   "metadata": {},
   "source": [
    "## 1. Bedrock Client 생성"
   ]
  },
  {
   "cell_type": "code",
   "execution_count": 3,
   "id": "cc2d877f-e877-48f6-8dd4-239de20e45cd",
   "metadata": {
    "tags": []
   },
   "outputs": [],
   "source": [
    "import json\n",
    "import boto3\n",
    "from pprint import pprint\n",
    "from termcolor import colored\n",
    "from utils import bedrock, print_ww\n",
    "from utils.bedrock import bedrock_info"
   ]
  },
  {
   "cell_type": "markdown",
   "id": "088e6490-c79a-49e4-841c-9fdb91292608",
   "metadata": {},
   "source": [
    "### ---- ⚠️ Un-comment and edit the below lines as needed for your AWS setup ⚠️ ----\n",
    "- os.environ[\"AWS_DEFAULT_REGION\"] = \"<REGION_NAME>\"  # E.g. \"us-east-1\"\n",
    "- os.environ[\"AWS_PROFILE\"] = \"<YOUR_PROFILE>\"\n",
    "- os.environ[\"BEDROCK_ASSUME_ROLE\"] = \"<YOUR_ROLE_ARN>\"  # E.g. \"arn:aws:...\"\n",
    "- os.environ[\"BEDROCK_ENDPOINT_URL\"] = \"<YOUR_ENDPOINT_URL>\"  # E.g. \"https://...\""
   ]
  },
  {
   "cell_type": "code",
   "execution_count": 4,
   "id": "cab9312c-5f61-4730-96c3-5eef54a5f08c",
   "metadata": {
    "tags": []
   },
   "outputs": [
    {
     "name": "stdout",
     "output_type": "stream",
     "text": [
      "Create new client\n",
      "  Using region: None\n",
      "  Using profile: None\n",
      "boto3 Bedrock client successfully created!\n",
      "bedrock-runtime(https://bedrock-runtime.us-east-1.amazonaws.com)\n",
      "\u001b[32m\n",
      "== FM lists ==\u001b[0m\n",
      "{'Claude-Instant-V1': 'anthropic.claude-instant-v1',\n",
      " 'Claude-V1': 'anthropic.claude-v1',\n",
      " 'Claude-V2': 'anthropic.claude-v2',\n",
      " 'Claude-V2-1': 'anthropic.claude-v2:1',\n",
      " 'Claude-V3-Haiku': 'anthropic.claude-3-haiku-20240307-v1:0',\n",
      " 'Claude-V3-Sonnet': 'anthropic.claude-3-sonnet-20240229-v1:0',\n",
      " 'Cohere-Embeddings-En': 'cohere.embed-english-v3',\n",
      " 'Cohere-Embeddings-Multilingual': 'cohere.embed-multilingual-v3',\n",
      " 'Command': 'cohere.command-text-v14',\n",
      " 'Command-Light': 'cohere.command-light-text-v14',\n",
      " 'Jurassic-2-Mid': 'ai21.j2-mid-v1',\n",
      " 'Jurassic-2-Ultra': 'ai21.j2-ultra-v1',\n",
      " 'Llama2-13b-Chat': 'meta.llama2-13b-chat-v1',\n",
      " 'Titan-Embeddings-G1': 'amazon.titan-embed-text-v1',\n",
      " 'Titan-Text-Embeddings-V2': 'amazon.titan-embed-text-v2:0',\n",
      " 'Titan-Text-G1': 'amazon.titan-text-express-v1',\n",
      " 'Titan-Text-G1-Express': 'amazon.titan-text-express-v1',\n",
      " 'Titan-Text-G1-Light': 'amazon.titan-text-lite-v1',\n",
      " 'Titan-Text-G1-Premier': 'amazon.titan-text-premier-v1:0'}\n"
     ]
    }
   ],
   "source": [
    "boto3_bedrock = bedrock.get_bedrock_client(\n",
    "    assumed_role=os.environ.get(\"BEDROCK_ASSUME_ROLE\", None),\n",
    "    endpoint_url=os.environ.get(\"BEDROCK_ENDPOINT_URL\", None),\n",
    "    region=os.environ.get(\"AWS_DEFAULT_REGION\", None),\n",
    ")\n",
    "\n",
    "aws_region = os.environ.get(\"AWS_DEFAULT_REGION\", None)\n",
    "print (colored(\"\\n== FM lists ==\", \"green\"))\n",
    "pprint (bedrock_info.get_list_fm_models())"
   ]
  },
  {
   "cell_type": "markdown",
   "id": "241a9e34-417a-422f-9f75-cb211b2e70e1",
   "metadata": {
    "tags": []
   },
   "source": [
    "## 2. Titan Embedding 및 LLM 인 Claude-v3 모델 로딩"
   ]
  },
  {
   "cell_type": "markdown",
   "id": "29bf63d2-4110-407c-af06-a45d2fbed4b5",
   "metadata": {},
   "source": [
    "### LLM 로딩 (Claude-v3)"
   ]
  },
  {
   "cell_type": "code",
   "execution_count": 5,
   "id": "9c51443a-04f9-465c-9564-53053eb3e1c2",
   "metadata": {
    "tags": []
   },
   "outputs": [],
   "source": [
    "from langchain_aws import ChatBedrock\n",
    "from langchain.callbacks.streaming_stdout import StreamingStdOutCallbackHandler"
   ]
  },
  {
   "cell_type": "code",
   "execution_count": 6,
   "id": "d09e84e0-b9e1-4b12-8e7a-68f03c5416e5",
   "metadata": {
    "tags": []
   },
   "outputs": [
    {
     "data": {
      "text/plain": [
       "ChatBedrock(callbacks=[<langchain_core.callbacks.streaming_stdout.StreamingStdOutCallbackHandler object at 0x7f4d30237bb0>], client=<botocore.client.BedrockRuntime object at 0x7f4d03fddbd0>, model_id='anthropic.claude-3-sonnet-20240229-v1:0', model_kwargs={'max_tokens': 1024, 'stop_sequences': ['\\n\\nHuman']}, streaming=True)"
      ]
     },
     "execution_count": 6,
     "metadata": {},
     "output_type": "execute_result"
    }
   ],
   "source": [
    "llm_text = ChatBedrock(\n",
    "    model_id=bedrock_info.get_model_id(model_name=\"Claude-V3-Sonnet\"),\n",
    "    client=boto3_bedrock,\n",
    "    model_kwargs={\n",
    "        \"max_tokens\": 1024,\n",
    "        \"stop_sequences\": [\"\\n\\nHuman\"],\n",
    "    },\n",
    "    streaming=True,\n",
    "    callbacks=[StreamingStdOutCallbackHandler()],\n",
    ")\n",
    "llm_text"
   ]
  },
  {
   "cell_type": "markdown",
   "id": "3ba2e829-af8f-4e90-b994-59106cdec8d8",
   "metadata": {},
   "source": [
    "### Embedding 모델 선택"
   ]
  },
  {
   "cell_type": "code",
   "execution_count": 7,
   "id": "0b7b8752-d1e3-4f41-ba35-6da42c3785db",
   "metadata": {
    "tags": []
   },
   "outputs": [
    {
     "name": "stdout",
     "output_type": "stream",
     "text": [
      "교육목표 설정 방법\n",
      "교육목표 수립 시 고려사항\n",
      "\n",
      "===== RAG-Fusion Queries =====\n",
      "['교육목표는?', '교육목표 설정 방법', '교육목표 수립 시 고려사항']\n",
      "교육 목표 설정\n",
      "교육 목표의 중요성\n",
      "\n",
      "===== RAG-Fusion Queries =====\n",
      "['교육목표는?', '교육 목표 설정', '교육 목표의 중요성']\n",
      "교육목표 설정 방법\n",
      "교육과정 설계 시 고려사항\n",
      "\n",
      "===== RAG-Fusion Queries =====\n",
      "['교육목표는?', '교육목표 설정 방법', '교육과정 설계 시 고려사항']\n"
     ]
    }
   ],
   "source": [
    "from utils.rag import KoSimCSERobertaContentHandler, SagemakerEndpointEmbeddingsJumpStart"
   ]
  },
  {
   "cell_type": "code",
   "execution_count": 8,
   "id": "793b03f7-3186-4969-b76a-98fe56bd5fdc",
   "metadata": {
    "tags": []
   },
   "outputs": [],
   "source": [
    "def get_embedding_model(is_bedrock_embeddings, is_KoSimCSERobert, aws_region, endpont_name=None):\n",
    "    \n",
    "    if is_bedrock_embeddings:\n",
    "        # We will be using the Titan Embeddings Model to generate our Embeddings.\n",
    "        from langchain.embeddings import BedrockEmbeddings\n",
    "        llm_emb = BedrockEmbeddings(\n",
    "            client=boto3_bedrock,\n",
    "            model_id=bedrock_info.get_model_id(\n",
    "                model_name=\"Titan-Embeddings-G1\"\n",
    "            )\n",
    "        )\n",
    "        print(\"Bedrock Embeddings Model Loaded\")\n",
    "\n",
    "    elif is_KoSimCSERobert:\n",
    "        LLMEmbHandler = KoSimCSERobertaContentHandler()\n",
    "        endpoint_name_emb = endpont_name\n",
    "        llm_emb = SagemakerEndpointEmbeddingsJumpStart(\n",
    "            endpoint_name=endpoint_name_emb,\n",
    "            region_name=aws_region,\n",
    "            content_handler=LLMEmbHandler,\n",
    "        )        \n",
    "        print(\"KoSimCSERobert Embeddings Model Loaded\")\n",
    "    else:\n",
    "        llm_emb = None\n",
    "        print(\"No Embedding Model Selected\")\n",
    "    \n",
    "    return llm_emb"
   ]
  },
  {
   "cell_type": "markdown",
   "id": "cd72a6b8-eaf0-4036-a530-3bde5ba988cd",
   "metadata": {},
   "source": [
    "#### [중요] is_KoSimCSERobert == True 일시에 endpoint_name 을 꼭 넣어 주세요."
   ]
  },
  {
   "cell_type": "code",
   "execution_count": 9,
   "id": "f42e032b-8715-432c-ae71-12a889f8ffc0",
   "metadata": {
    "tags": []
   },
   "outputs": [
    {
     "name": "stdout",
     "output_type": "stream",
     "text": [
      "Bedrock Embeddings Model Loaded\n"
     ]
    }
   ],
   "source": [
    "is_bedrock_embeddings = True\n",
    "is_KoSimCSERobert = False\n",
    "aws_region = os.environ.get(\"AWS_DEFAULT_REGION\", None)\n",
    "\n",
    "##############################\n",
    "# Parameters for is_KoSimCSERobert\n",
    "##############################\n",
    "if is_KoSimCSERobert: endpont_name = \"<endpoint-name>\"\n",
    "else: endpont_name = None\n",
    "##############################\n",
    "\n",
    "llm_emb = get_embedding_model(is_bedrock_embeddings, is_KoSimCSERobert, aws_region, endpont_name)   "
   ]
  },
  {
   "cell_type": "markdown",
   "id": "e10b67d5-382e-4715-a841-eb07b8655da8",
   "metadata": {},
   "source": [
    "## 3. Depoly ReRanker model (if needed)"
   ]
  },
  {
   "cell_type": "code",
   "execution_count": 10,
   "id": "9a08a296-41ef-44cb-857b-63d05a8d187c",
   "metadata": {
    "tags": []
   },
   "outputs": [
    {
     "name": "stdout",
     "output_type": "stream",
     "text": [
      "sagemaker.config INFO - Not applying SDK defaults from location: /etc/xdg/sagemaker/config.yaml\n",
      "sagemaker.config INFO - Not applying SDK defaults from location: /home/ec2-user/.config/sagemaker/config.yaml\n"
     ]
    }
   ],
   "source": [
    "import json\n",
    "import sagemaker\n",
    "from sagemaker.huggingface import HuggingFaceModel"
   ]
  },
  {
   "cell_type": "code",
   "execution_count": 11,
   "id": "33dd04a7-8200-49e7-ae69-55a82be199b4",
   "metadata": {
    "tags": []
   },
   "outputs": [],
   "source": [
    "depoly = False"
   ]
  },
  {
   "cell_type": "code",
   "execution_count": 12,
   "id": "9d40e3dd-a19f-4af3-831a-0cfe79e72cb3",
   "metadata": {
    "tags": []
   },
   "outputs": [],
   "source": [
    "if depoly:\n",
    "\n",
    "    try:\n",
    "        role = sagemaker.get_execution_role()\n",
    "    except ValueError:\n",
    "        iam = boto3.client('iam')\n",
    "        role = iam.get_role(RoleName='sagemaker_execution_role')['Role']['Arn']\n",
    "\n",
    "    # Hub Model configuration. https://huggingface.co/models\n",
    "    hub = {\n",
    "        'HF_MODEL_ID':'Dongjin-kr/ko-reranker',\n",
    "        'HF_TASK':'text-classification'\n",
    "    }\n",
    "\n",
    "    # create Hugging Face Model Class\n",
    "    huggingface_model = HuggingFaceModel(\n",
    "        transformers_version='4.26.0',\n",
    "        pytorch_version='1.13.1',\n",
    "        py_version='py39',\n",
    "        env=hub,\n",
    "        role=role, \n",
    "    )\n",
    "\n",
    "    # deploy model to SageMaker Inference\n",
    "    predictor = huggingface_model.deploy(\n",
    "        initial_instance_count=1, # number of instances\n",
    "        instance_type='ml.g5.xlarge' # instance type\n",
    "    )\n",
    "\n",
    "    print(f'Accept: {predictor.accept}')\n",
    "    print(f'ContentType: {predictor.content_type}')\n",
    "    print(f'Endpoint: {predictor.endpoint}')"
   ]
  },
  {
   "cell_type": "markdown",
   "id": "1e59a8ca-ea59-49ef-9fa5-ce24f1f3a5c0",
   "metadata": {},
   "source": [
    "#### Save reranker endpoint to Parameter Store"
   ]
  },
  {
   "cell_type": "code",
   "execution_count": 13,
   "id": "8c733b94-d649-40a4-9f16-a44873111519",
   "metadata": {
    "tags": []
   },
   "outputs": [],
   "source": [
    "import boto3\n",
    "from utils.ssm import parameter_store"
   ]
  },
  {
   "cell_type": "code",
   "execution_count": 14,
   "id": "2cdb5605-c0d2-4c93-91d9-cce9119f0908",
   "metadata": {
    "tags": []
   },
   "outputs": [],
   "source": [
    "region=boto3.Session().region_name\n",
    "pm = parameter_store(region)"
   ]
  },
  {
   "cell_type": "code",
   "execution_count": 15,
   "id": "cd180f42-e1a3-4667-a7a5-a40668363482",
   "metadata": {
    "tags": []
   },
   "outputs": [
    {
     "ename": "NameError",
     "evalue": "name 'predictor' is not defined",
     "output_type": "error",
     "traceback": [
      "\u001b[0;31m---------------------------------------------------------------------------\u001b[0m",
      "\u001b[0;31mNameError\u001b[0m                                 Traceback (most recent call last)",
      "Cell \u001b[0;32mIn[15], line 3\u001b[0m\n\u001b[1;32m      1\u001b[0m pm\u001b[38;5;241m.\u001b[39mput_params(\n\u001b[1;32m      2\u001b[0m     key\u001b[38;5;241m=\u001b[39m\u001b[38;5;124m\"\u001b[39m\u001b[38;5;124mreranker_endpoint\u001b[39m\u001b[38;5;124m\"\u001b[39m,\n\u001b[0;32m----> 3\u001b[0m     value\u001b[38;5;241m=\u001b[39m\u001b[38;5;124mf\u001b[39m\u001b[38;5;124m'\u001b[39m\u001b[38;5;132;01m{\u001b[39;00m\u001b[43mpredictor\u001b[49m\u001b[38;5;241m.\u001b[39mendpoint\u001b[38;5;132;01m}\u001b[39;00m\u001b[38;5;124m'\u001b[39m,\n\u001b[1;32m      4\u001b[0m     overwrite\u001b[38;5;241m=\u001b[39m\u001b[38;5;28;01mTrue\u001b[39;00m,\n\u001b[1;32m      5\u001b[0m     enc\u001b[38;5;241m=\u001b[39m\u001b[38;5;28;01mFalse\u001b[39;00m\n\u001b[1;32m      6\u001b[0m )\n",
      "\u001b[0;31mNameError\u001b[0m: name 'predictor' is not defined"
     ]
    }
   ],
   "source": [
    "pm.put_params(\n",
    "    key=\"reranker_endpoint\",\n",
    "    value=f'{predictor.endpoint}',\n",
    "    overwrite=True,\n",
    "    enc=False\n",
    ")"
   ]
  },
  {
   "cell_type": "markdown",
   "id": "20e648ef-01ec-4e2f-ba88-7d2510fdb7a6",
   "metadata": {},
   "source": [
    "## 4. Invocation (prediction)"
   ]
  },
  {
   "cell_type": "code",
   "execution_count": 16,
   "id": "114be617-a687-4733-abb9-30394c7ef35f",
   "metadata": {
    "tags": []
   },
   "outputs": [
    {
     "name": "stdout",
     "output_type": "stream",
     "text": [
      "runtime_client: <botocore.client.SageMakerRuntime object at 0x7ff1455eb310>\n"
     ]
    }
   ],
   "source": [
    "runtime_client = boto3.Session().client('sagemaker-runtime')\n",
    "print (f'runtime_client: {runtime_client}')"
   ]
  },
  {
   "cell_type": "code",
   "execution_count": 17,
   "id": "26ee5c45-de87-4a2b-bc04-bbc649fcd0c6",
   "metadata": {
    "tags": []
   },
   "outputs": [],
   "source": [
    "endpoint_name = pm.get_params(\n",
    "    key=\"reranker_endpoint\",\n",
    "    enc=False\n",
    ")\n",
    "deserializer = \"application/json\""
   ]
  },
  {
   "cell_type": "code",
   "execution_count": 18,
   "id": "bd6288ed-b4fa-466f-9e2b-57484b827b0a",
   "metadata": {
    "tags": []
   },
   "outputs": [],
   "source": [
    "payload = json.dumps(\n",
    "    {\n",
    "        \"inputs\": [\n",
    "            {\"text\": \"I hate you\", \"text_pair\": \"I don't like you\"},\n",
    "            {\"text\": \"He hates you\", \"text_pair\": \"He like you\"}\n",
    "        ]\n",
    "    }\n",
    ")"
   ]
  },
  {
   "cell_type": "code",
   "execution_count": 19,
   "id": "c1eebe88-8b92-4e81-a103-b5a5d7a91bb3",
   "metadata": {
    "tags": []
   },
   "outputs": [
    {
     "name": "stdout",
     "output_type": "stream",
     "text": [
      "Response: [{'label': 'LABEL_0', 'score': 0.9987371563911438}, {'label': 'LABEL_0', 'score': 0.0028581616934388876}]\n",
      "CPU times: user 13.6 ms, sys: 296 µs, total: 13.9 ms\n",
      "Wall time: 99.7 ms\n"
     ]
    }
   ],
   "source": [
    "%%time\n",
    "response = runtime_client.invoke_endpoint(\n",
    "    EndpointName=endpoint_name,\n",
    "    ContentType=\"application/json\",\n",
    "    Accept=deserializer,\n",
    "    Body=payload\n",
    ")\n",
    "## deserialization\n",
    "out = json.loads(response['Body'].read().decode()) ## for json\n",
    "print (f'Response: {out}')"
   ]
  },
  {
   "cell_type": "markdown",
   "id": "7e432237-b9b5-4be3-aa0c-c30eeca6f480",
   "metadata": {},
   "source": [
    "## 5. LangChainmOpenSearch VectorStore 정의\n",
    "### 선수 조건\n",
    "- 01_preprocess_docs/02_load_docs_opensearch.ipynb를 통해서 OpenSearch Index 가 생성이 되어 있어야 합니다.\n",
    "#### [중요] 아래에 aws parameter store 에 아래 인증정보가 먼저 입력되어 있어야 합니다.\n",
    "- 01_preprocess_docs/01_parameter_store_example.ipynb 참고"
   ]
  },
  {
   "cell_type": "code",
   "execution_count": 20,
   "id": "b795f9aa-1aa4-452c-8320-c0a21b19bdab",
   "metadata": {
    "tags": []
   },
   "outputs": [],
   "source": [
    "import boto3\n",
    "from utils.ssm import parameter_store"
   ]
  },
  {
   "cell_type": "code",
   "execution_count": 21,
   "id": "5d375fad-56fb-46d1-8dcc-9cf714486b82",
   "metadata": {
    "tags": []
   },
   "outputs": [],
   "source": [
    "region=boto3.Session().region_name\n",
    "pm = parameter_store(region)"
   ]
  },
  {
   "cell_type": "code",
   "execution_count": 22,
   "id": "ec57f150-da21-4887-bc72-43e212cdbb6c",
   "metadata": {
    "tags": []
   },
   "outputs": [],
   "source": [
    "opensearch_domain_endpoint = pm.get_params(\n",
    "    key=\"opensearch_domain_endpoint\",\n",
    "    enc=False\n",
    ")\n",
    "\n",
    "opensearch_user_id = pm.get_params(\n",
    "    key=\"opensearch_user_id\",\n",
    "    enc=False\n",
    ")\n",
    "\n",
    "opensearch_user_password = pm.get_params(\n",
    "    key=\"opensearch_user_password\",\n",
    "    enc=True\n",
    ")"
   ]
  },
  {
   "cell_type": "code",
   "execution_count": 23,
   "id": "fc7866fd-fd9c-4b41-b600-a91e43edfe4d",
   "metadata": {
    "tags": []
   },
   "outputs": [],
   "source": [
    "opensearch_domain_endpoint = opensearch_domain_endpoint\n",
    "rag_user_name = opensearch_user_id\n",
    "rag_user_password = opensearch_user_password\n",
    "\n",
    "http_auth = (rag_user_name, rag_user_password) # Master username, Master password"
   ]
  },
  {
   "cell_type": "markdown",
   "id": "161a900e-effc-4d7f-a179-b6c00eac03ad",
   "metadata": {
    "tags": []
   },
   "source": [
    "### Index 이름 셋팅\n",
    "- 이전 노트북 01_preprocess_docs/02_load_docs_opensearch.ipynb를 통해서 생성된 OpenSearch Index name 입력"
   ]
  },
  {
   "cell_type": "code",
   "execution_count": 24,
   "id": "d5d9b5eb-052e-4e84-846b-c5385e853ba4",
   "metadata": {
    "tags": []
   },
   "outputs": [
    {
     "name": "stdout",
     "output_type": "stream",
     "text": [
      "index_name: summit-workshop-index\n"
     ]
    }
   ],
   "source": [
    "index_name = opensearch_user_password = pm.get_params(\n",
    "    key=\"opensearch_index_name\",\n",
    "    enc=True\n",
    ")\n",
    "\n",
    "print (f'index_name: {index_name}')"
   ]
  },
  {
   "cell_type": "markdown",
   "id": "482f5785-b88d-44fa-a603-080e4bd734a6",
   "metadata": {},
   "source": [
    "### OpenSearch Client 생성"
   ]
  },
  {
   "cell_type": "code",
   "execution_count": 25,
   "id": "968b7502-5799-4702-bc17-959e88c330a2",
   "metadata": {
    "tags": []
   },
   "outputs": [],
   "source": [
    "from utils.opensearch import opensearch_utils"
   ]
  },
  {
   "cell_type": "code",
   "execution_count": 26,
   "id": "6ceb46a1-e425-4f7e-9319-793b55abb938",
   "metadata": {
    "tags": []
   },
   "outputs": [],
   "source": [
    "os_client = opensearch_utils.create_aws_opensearch_client(\n",
    "    aws_region,\n",
    "    opensearch_domain_endpoint,\n",
    "    http_auth\n",
    ")"
   ]
  },
  {
   "cell_type": "markdown",
   "id": "a5084376-7523-4cf9-9123-adc4ae79f66d",
   "metadata": {
    "tags": []
   },
   "source": [
    "## 6. Retriever based on Hybrid Search + RAG-Fusion + ReRanker\n",
    "- LangChain에서 제공하는 **BaseRetriever** 클래스를 상속받아 **Custom Retriever**를 정의 할 수 있습니다.\n",
    "- Hybrid-Search에 대한 자세한 내용는 **\"01_rag_hybrid_search.ipyno\"** 에서 확인 가능합니다.\n",
    "- [RAG-Fusion](https://towardsdatascience.com/forget-rag-the-future-is-rag-fusion-1147298d8ad1)\n",
    "![rag-fusion.png](../../../imgs/rag-fusion.png)"
   ]
  },
  {
   "cell_type": "code",
   "execution_count": 27,
   "id": "5db8e470-63a9-4c3d-94c8-1d270a6da822",
   "metadata": {
    "tags": []
   },
   "outputs": [],
   "source": [
    "from utils.rag import OpenSearchHybridSearchRetriever"
   ]
  },
  {
   "cell_type": "markdown",
   "id": "d7feac2f-21a2-4756-b989-66c180bb1e79",
   "metadata": {},
   "source": [
    "- 필터 설정 예시\n",
    "- filter=[ <BR>\n",
    "    　{\"term\": {\"metadata.[**your_metadata_attribute_name**]\": \"**your first keyword**\"}}, <BR>\n",
    "    　{\"term\": {\"metadata.[**your_metadata_attribute_name**]\": \"**your second keyword**\"}},<BR>\n",
    "]"
   ]
  },
  {
   "cell_type": "code",
   "execution_count": 33,
   "id": "49c7e131-294f-4ff8-9331-989709c7079c",
   "metadata": {
    "tags": []
   },
   "outputs": [],
   "source": [
    "opensearch_hybrid_retriever = OpenSearchHybridSearchRetriever(\n",
    "    # necessary\n",
    "    os_client=os_client,\n",
    "    index_name=index_name,\n",
    "    llm_text=llm_text, # llm for query augmentation in rag_fusion\n",
    "    llm_emb=llm_emb,\n",
    "\n",
    "    # option for lexical\n",
    "    minimum_should_match=0,\n",
    "    filter=[],\n",
    "\n",
    "    # option for search\n",
    "    fusion_algorithm=\"RRF\", # [\"RRF\", \"simple_weighted\"], rank fusion 방식 정의\n",
    "    ensemble_weights=[.5, .5], # [for lexical, for semantic], Lexical, Semantic search 결과에 대한 최종 반영 비율 정의\n",
    "    reranker=True, # enable reranker with reranker model\n",
    "    reranker_endpoint_name=endpoint_name, # endpoint name for reranking model\n",
    "    rag_fusion=True, # enable rag_fusion\n",
    "    query_augmentation_size=3, # query_augmentation_size in rag_fusion\n",
    "\n",
    "    # option for async search\n",
    "    async_mode=False,\n",
    "\n",
    "    # option for output\n",
    "    k=5, # 최종 Document 수 정의\n",
    "    verbose=True\n",
    ")"
   ]
  },
  {
   "cell_type": "markdown",
   "id": "cfb26835-ad98-41c5-9e9d-2453642e3551",
   "metadata": {},
   "source": [
    "### Retrieval example\n",
    "- default search"
   ]
  },
  {
   "cell_type": "code",
   "execution_count": 34,
   "id": "9c06e89f-79de-413c-ba9c-a188ca3fe2d0",
   "metadata": {
    "tags": []
   },
   "outputs": [],
   "source": [
    "from utils.rag import show_context_used"
   ]
  },
  {
   "cell_type": "code",
   "execution_count": 38,
   "id": "fe3bfee3-dac1-45b9-8795-03e36c1632a9",
   "metadata": {
    "tags": []
   },
   "outputs": [],
   "source": [
    "query = \"중지된 경우 이체\""
   ]
  },
  {
   "cell_type": "code",
   "execution_count": 36,
   "id": "05b13e5e-4a66-4dc8-b18c-42a6e3bd6037",
   "metadata": {
    "collapsed": true,
    "jupyter": {
     "outputs_hidden": true
    },
    "tags": []
   },
   "outputs": [
    {
     "name": "stdout",
     "output_type": "stream",
     "text": [
      "교육 목표 정의\n",
      "효과적인 교육 목표 수립 방법\n",
      "학생 중심 교육 목표 설정 전략\n",
      "\n",
      "===== RAG-Fusion Queries =====\n",
      "['교육목표는?', '교육 목표 정의', '효과적인 교육 목표 수립 방법', '학생 중심 교육 목표 설정 전략']\n",
      "\n",
      "[Exeeds ReRanker token limit] Number of chunk_docs after split and chunking= 2\n",
      "\n",
      "\n",
      "[Exeeds ReRanker token limit] Number of chunk_docs after split and chunking= 1\n",
      "\n",
      "\n",
      "[Exeeds ReRanker token limit] Number of chunk_docs after split and chunking= 2\n",
      "\n",
      "##############################\n",
      "async_mode\n",
      "##############################\n",
      "False\n",
      "##############################\n",
      "reranker\n",
      "##############################\n",
      "True\n",
      "##############################\n",
      "rag_fusion\n",
      "##############################\n",
      "True\n",
      "##############################\n",
      "HyDE\n",
      "##############################\n",
      "False\n",
      "##############################\n",
      "parent_document\n",
      "##############################\n",
      "False\n",
      "##############################\n",
      "complex_document\n",
      "##############################\n",
      "True\n",
      "##############################\n",
      "similar_docs_semantic\n",
      "##############################\n",
      "\n",
      "Score: 0.030658062397801205\n",
      "['‧ 창의적 체험활동의 영역별 활동내용, 평가방법 및 기준은 교육과정을 근 - 9 - □5 선행교육 예방 (공교육정상화법) 교사 우○주 ❍ 선행교육 -「초‧중등교육법」제23조제2항에 따라 교육부장관이 정한 초․중등학교 교육과정(국가교육과정) 및 교육감이 정한 초․중등학교 교육과정(시․도교육과정), 「초‧중등교육법」제23조제1항에 근거하여 편성․운영되는 단위학교 교육과정(학교 교육과정) 국가교육과정-시․도교육과정-학교 교육과정에 앞서서 편성 또는 제공하는 교육 일반 ❍ 선행학습 - 학습자가 국가교육과정, 시․도교육과정, 학교 교육과정에 앞서서 하는 학습 1. 추진 근거 및 목적 L RIS 가. 근거 Ÿ 「공교육 정상화 촉진 및 선행교육 규제에 관한 특별법」(공교육정상화법) Ÿ 2024년 선행학습 유발 관행 근절 사업 추진계획(교육부 기초학력진로교육과-379, 2024.1.31.) = [9 = < [aN] & - % 5 = 해 때 R 제 0 | 버 과 E 제 o 99 = = B 회 - 0 0 80 MR Q0w 나. 목적 Ÿ 학교의 정상적인 교육과정 운영을 위한 여건 조성 및 공교육 정상화 실현 Ÿ 선행교육과 선행학습 유발 관행 근절을 위한 학생, 교원, 학부모 인식 개선 연수 및 홍보 강화 0\" 3l om0 음미 Ÿ 교육과정 편성 운영 및 선행출제 점검·컨설팅을 통해 학생의 발달단계에 맞는 교육 실시 2. 추진 계획 가. 연수 추진 계획']\n",
      "{'source': './data/complex_pdf/school_edu_guide.pdf', 'filetype': 'application/pdf', 'languages': ['kor', 'eng'], 'last_modified': '2024-04-04T01:39:24', 'page_number': 11, 'file_directory': './data/complex_pdf', 'filename': 'school_edu_guide.pdf', 'category': 'CompositeElement', 'family_tree': 'child', 'parent_id': '7d9d2ff0-d190-4356-bbbe-fbdbd44bfceb', 'id': '22312bd2-8521-4168-93d8-761a1c714eb9'}\n",
      "\n",
      "Score: 0.01626123744050767\n",
      "['주어진 이미지는 11종의 소통하는 교육, 12종의 안전한 세계시민 교육, 13종의 나눔, 배려, 협력하는 인성교육에 대한 구체적인 교육활동과 시기, 대상, 관련부서를 설명하는 표입니다. 각 교육활동 유형별로 세부 내용과 기간, 대상 학년, 담당부서가 정리되어 있어 체계적으로 교육 계획을 파악할 수 있습니다.']\n",
      "{'img_path': './fig/table-1-resize.jpg', 'category': 'Image', 'image_base64': '', 'family_tree': 'parent_image', 'parent_id': 'NA', 'id': 'f75d2013-0f6a-4dd8-83ec-6162ad2a745d'}\n",
      "\n",
      "Score: 0.01619723334424551\n",
      "['. 나. 학생의 학습 수준을 확인하고 결과만이 아니라 결과에 이르기까지의 학습과정을 중시한다. 다. 학생의 학습 과정과 결과에 대한 맞춤형 피드백을 제공하여 학생의 학습을 지원한다. 라. 평가의 목표를 학생에게 미리 안내(매 학기 초 사전 안내)하여 학습 과정에서 학생이 주도적으로 자신의 학습과정을 성찰하고, 스스로 조정할 수 있도록 한다. 마. 학습한 지식과 기능을 바탕으로 종합하여 판단하거나 새로운 변화를 만들어 낼 수 있는지를 평가한다. 바. 학습과 평가의 과정에서 얻은 경험을 바탕으로 실생활 맥락 속의 문제를 해결 할 수 있는 역량을 함양할 수 있도록 한다. 3. 추진내용']\n",
      "{'source': './data/complex_pdf/school_edu_guide.pdf', 'filetype': 'application/pdf', 'languages': ['kor', 'eng'], 'last_modified': '2024-04-04T01:39:24', 'page_number': 10, 'file_directory': './data/complex_pdf', 'filename': 'school_edu_guide.pdf', 'category': 'CompositeElement', 'family_tree': 'child', 'parent_id': 'c2324ffc-6c56-43dd-bd56-f8ecac0dc26c', 'id': '6ee009ee-7664-41ea-b0d7-a980bd164f6e'}\n",
      "\n",
      "Score: 0.015519734104230975\n",
      "['이 표는 학교에서 실시하는 교육 활동 계획을 보여주고 있습니다. 주요 내용은 디지털 시민 역량 강화를 위한 교육정보화 지원 및 정보통신윤리교육, 독서 및 독서인문교육 활성화를 위한 도서관 운영 및 독서행사, 진로교육 강화를 위한 진로체험 및 탐색 프로그램 등입니다. 각 활동의 시기, 대상 학년, 관련 부서 등의 정보가 상세히 제시되어 있습니다.']\n",
      "{'source': './data/complex_pdf/school_edu_guide.pdf', 'detection_class_prob': 0.8930906653404236, 'coordinates': {'points': [[155.992431640625, 390.875244140625], [155.992431640625, 2049.864013671875], [1519.5548095703125, 2049.864013671875], [1519.5548095703125, 390.875244140625]], 'system': 'PixelSpace', 'layout_width': 1653, 'layout_height': 2337}, 'last_modified': '2024-04-04T01:39:24', 'text_as_html': '<table><thead><th>0 Ko = 384 -</th><th>호 A 고 — T 까 Kk : g5 Mo 배 | 해 더 ) =W O | 홀 읍 메트 더] 뿌 헤 R _ R 허그 oy RATT wTAKR 덕 부 SRR o0 o</th><th>= offl N 에 S &lt; -</th><th>20 대 = [t} O &lt;</th><th>꼭 i = o 떤 미비 에 20</th></thead><tr><td rowspan=\"3\">o 랙 주 0 - 페오 때 0 듬 히</td><td>= ol 80 ok _ |2 =g 00 | 8 T | .o | @ 이얼 | 해 애정 오 에 o — R | 트 - 엄히 ㅎ | 을 | | 더 4010 | | Mm b</td><td>Ko 10 어리</td><td></td><td></td></tr><tr><td></td><td>헌 o 는 이 4 해 &amp;~ H T 후 ¥ &amp; 원 귀 T Mmoo ol oy o 매일 o 꼬 90 ol ㅡ 얘 페 더 등기 더 MmET 께 때 wHS 중 (FE o © m i</td><td>10 8l</td><td>b2 ) &lt;</td><td>T 원 ™ ol 마 20 더</td></tr><tr><td></td><td>ol N _ ol 해군 D ㅋ 이를 - Fra| &amp; 채 얘 = 이게 A Xy _Mn_ mEH g | 0 ~ R 어젠 L | w o o = 아 이 호 브 | 압 퍼 흐리 | TOHES | 누 조 0 더 때 | 때 리 는 6 | (종중 안다 | o o o o</td><td>— Ko Koo Kio ™ = 81818 1</td><td>끼 꼬 꼬꼬 인 | 10 © O OV &lt; 근 고고고</td><td>o o 깨 20</td></tr><tr><td>얘 i o 때 ™ 3l 베</td><td>Klo or 80 o X o4 U 호 해 800 내 . oz _ 꺼 ol ~ 빈 명 은 &lt; 베 가 께 B0 oy o R 구도 o &lt; 나 ogrTABou KT . 쥐 o | HooPa@ Dl S AT g 폭 레 레미 시리즈 WwXXTTHNIT | 버 버 버 판 바 아 | B o o o o o o</td><td>mw T KO o 고 2 개 Ko 고 Ko 한 한 mE Ty s % I W -</td><td>DEWE . 인 | | for ol oy © 는 o © ©v © 는 s - - - -</td><td>%0 &amp; 얘 덕</td></tr><tr><td>5 o 95 PR ㅁ</td><td>OH 헌 에 인 Y OH 녁 oir 때 = = HooR 「 ㅁ i M| 이 ) 0 o Ko o i - R 패고 o = 30 %0 e ooy B g £ X 부 교 능 그녀 하 짐 이 홍 패 et KR | 에 포메 가옥 태 때, D5 . 띠 더 을 제 그 - B o \"7 o o</td><td>Ko Ko w7 Ko 85 이지</td><td>mm o mom 히피 00 0 1ol 우우 우우 - - - &lt;</td><td>o 3l 깨 20</td></tr><tr><td>- o 3</td><td>= 고 5l 래 ¥ 2 m U 0 &amp;l 뽀 해 = M S 은 애 한 A5 &amp; 이! 더 | 때 꼼 에 | WA | gt NI B o @</td><td>s ol 띠 10 30</td><td>g ¥ or = | 호흡 —</td><td>%0 = 매 덕</td></tr></table>', 'filetype': 'application/pdf', 'languages': ['kor', 'eng'], 'page_number': 6, 'file_directory': './data/complex_pdf', 'filename': 'school_edu_guide.pdf', 'category': 'Table', 'origin_table': '구현중점 교육활동 시기 대상 관련부서 331. 교육정보화 지원확대 및 학습 준비 철저 ◦컴퓨터실 정비 및 각종 교육 S/W 구비 ◦방송실의 효율적 운영 ◦학습준비물의 효율적인 선정 및 구입 7, 2월 연중 연중 1~6학년 생활인권 31. 디지털 시민 역량 강화 332. 학교홈페이지 및 알리미 체제 운영 ◦학교홈페이지 구성 및 활성화 ◦하이클래스를 활용한 교육 주체 간 소통 연중 1~6학년 생활인권 교무기획 333. 에듀테크교육 및 정보통신 윤리교육의 강화 ◦에듀테크교육 환경 구축 ◦개인정보 보호 활성화 및 저작권 교육 강화 ◦SW 교육(미래체험) 프로그램 체험 기회확대 ◦디지털 시민교육(코딩교실 운영) 연중 연중 연중 2학기 1~6학년 1~6학년 1~6학년 1~4학년 생활인권 231. 독서교육의 활성화 ◦교육과정 재구성을 통한 온책읽기 연중 1~6학년 교육과정 ◦질문과 토론이 있는 독서토론교육 운영 연중 1~6학년 32. 232. 독서인문교육을 돕는 도서관 운영 독서인문교육 ◦도서관 운영 계획 수립 3월 1~6학년 ◦도서관 활용 수업 활성화 및 도서 확충 연중 1~6학년 ◦독서 교실 운영 방학중 1~6학년 교육과정 ◦학생 참여의 독서 행사 운영 연중 1~6학년 ◦독서인문교실-작가와의 만남 5-6학년 11월 ◦미디어리터러시 교육 1-6학년 1회 331. 꿈을 키우는 학생 맞춤형 진로교육 강화 ◦진로체험교실 운영 ◦교과 및 창의체험 활동을 통한 진로교육 운 영 연중 연중 1~6학년 1~6학년 생활인권 33. ◦학년 수준에 맞는 진로탐색 프로그램 운영 ◦사이버 진로교육 운영-커리어넷 2회 연중 1~6학년 4~6학년 다양한 진로 교육 실시 332. 진로연계교육 실시 ◦1-2학년은 성장이음과정 실시 ◦3학년은 교과목 설명 및 전담과목 및 안내 학년초 학년초 1-2학년 3학년 교육과정', 'family_tree': 'parent_table', 'parent_id': 'NA', 'id': '31a7842d-17a9-41bb-b4e6-8c3fdeeddd6d'}\n",
      "\n",
      "Score: 0.011308840413318026\n",
      "['이 표는 학교에서 학생들의 인성 및 시민의식 교육을 위해 실시하는 다양한 교육활동을 안내하고 있습니다. 교실 환경 구성, 학생 자치 활동, 인권/평화 교육, 체험 인성교육, 학교폭력 예방교육 등의 활동이 연중 계획되어 있습니다. 각 활동의 시기, 대상, 관련 부서 등의 정보를 제공하여 체계적인 교육활동 계획을 보여주고 있습니다.']\n",
      "{'source': './data/complex_pdf/school_edu_guide.pdf', 'detection_class_prob': 0.8744701147079468, 'coordinates': {'points': [[201.83421325683594, 379.5096740722656], [201.83421325683594, 1965.944091796875], [1483.7281494140625, 1965.944091796875], [1483.7281494140625, 379.5096740722656]], 'system': 'PixelSpace', 'layout_width': 1653, 'layout_height': 2337}, 'last_modified': '2024-04-04T01:39:24', 'text_as_html': '<table><thead><th>R 10 K % +</th><th>_.__o 고 ol R</th><th>— N S T</th><th>o .uAﬂo x|</th><th>&lt; 가 Mh 2</th></thead><tr><td rowspan=\"3\">&amp; w &amp; o A : -</td><td>&lt;+ K % = | K o | RO 기 N h Yo L R RO R 보일 9 은 o D 10 위 oo [ 루 귀 오이 . L o HES -</td><td>” of o g Ko o5 올 륭 빌</td><td>T 홈 홈 홈 우우우 &lt; - ㅠ</td><td>규 | ml i 이 o 20</td></tr><tr><td></td><td>TR i} o s 히포. B 께 원 =~ gD T g2 으라 R X0z OF RSaRo 매 무 메 덤 하아 BT 뱀 80 애 회 o S me_mm%usvm 물 디 이 보 한 O 고 B -</td><td>은 호 = o Ko g pEsm Bl</td><td>R— FH MO 뿔 파 프 프 1 o oI ol</td><td>0 m 삐삐 RO 6664 ™ Bl B 해 야 20 20 20 I3 50 더</td></tr><tr><td></td><td>o Okl 0 oF Hh Ho ® R WX K 끼 ㄷ o| 늘 o 일 우울 세 | o ㅠㅠ 너 gy’ &lt;y 밸 허 어이 S @ | B B 렬 호 모호 momou| T ROR - O O ©o 는</td><td>110 8</td><td>= | A &amp;</td><td>0 or |</td></tr><tr><td>N</td><td>0 &lt; 합지 합지 0 5 of 80 o o0 o 비 핸 허 Moy ㅇㅇ mmwm Trw 새해 grA A : 딘 둔 홍 ﬂooo o</td><td>T o &amp; 연 00 B 인 00 &amp; A% i 51 7</td><td>T T ey 은 소오 00 ㅎㅎ 이</td><td>| °- 2 2 %0</td></tr><tr><td rowspan=\"3\">2 1wl T 보메 T an \"고프\" 은 E R o THED .|.__.|_“_$=NL</td><td>or o 덕 o — ol 3 전 년 R 옮기 80 애 시 i mn R B O o ® | 애 는 바 o doror° mE e ol EE 이 룰 인 운 으 | 어 닝 mV_OOOO</td><td>이. 00 40000 mEEE</td><td>끼 4 S &lt; —</td><td>T iy 2 해 %0</td></tr><tr><td></td><td>o o 3 &amp; G R | 300\" O gREND oz i [해 사 있 으 wﬂﬂma%m__ S 즐 지 유 인 종 대세 울 : 아 개 BOOOO</td><td>0000 ol mE-s| %38</td><td>&amp; mvoﬁ ! 때</td><td>B = g o B</td></tr><tr><td></td><td>80 y » o i Kk 비 얘 더 앰 9 격 o oM g 배 고니 5 인 에 s ㅠ 30 90 이 을 E | 뿔 헤 을 지그 2wl a i # 엄 알홈 분 j 4@ 90 하 nu._wuvaOn_vl ]</td><td>K o a8 L85 B T ol</td><td>REEE 3 %% J||_666 R —</td><td>2 : £ 20</td></tr></table>', 'filetype': 'application/pdf', 'languages': ['kor', 'eng'], 'page_number': 4, 'file_directory': './data/complex_pdf', 'filename': 'school_edu_guide.pdf', 'category': 'Table', 'origin_table': '구현중점 교육활동 시기 대상 관련부서 111. 학교 교육 환경개선 ◦교실 학습 환경 구성 ◦학년 및 학급 규칙 제정 및 준수 ◦인권 친화적 학생 생활인권규정 제정 준수 3월,9월 3월 연중 4~6학년 1~6학년 1~6학년 생활인권 공동체 112. 학교교육 참여기회 확대 ◦학교 운영위원회 활성화 ◦학교 교육 설명회 ◦학부모 학교교육 참여기회 확대 ◦수업 공개의 날 운영 연중10회 2회 연중 5월 학운위 학부모 학부모 학부모 생활인권 생활인권 생활인권 교육과정 113. 전문적 학습공동체 조직 운영 ◦학년별 협의회 구성 ◦자율과정과 연계되는 학습공동체 운영 ◦자율적인 참여로 집단지성 발휘 연중 전교사 교육과정 12. 121. 학생 자치 활동 능력 신장 ◦전교 어린이회 임원 선출 ◦전교 어린이회 운영 ◦학급임원선출 7월,12월 연중 3월,8월 3~6학년 1~6학년 2~6학년 생활인권 하나되는 세계시민 교육 122. 인권교육 및 평화 교육 ◦평화교육(민주시민교육) ◦인권교육주간 운영 ◦장애학생 이해교육 ◦다문화 이해교육 실시 연중 연중 연중 연중 1~6학년 생활인권 131. 체험위주의 인성교육 ◦인성교육 실천주간 ◦학급별 특색있는 인성교육 ◦친구사랑의 날 ◦예절교실 운영 연중 연중 4,11월 연중 1~6학년 생활인권 13. 나눔, 배려, 함께하는 인성교육 132. 학교폭력 예방교육 ◦교외 생활 지도 ◦학교폭력예방 프로그램 운영 ◦방학 전 생활안전교육주간 운영 ◦위클래스(상담실) 운영 방학중 연중 학기말 연중 전교사 1~6학년 1~6학년 1~6학년 생활인권', 'family_tree': 'parent_table', 'parent_id': 'NA', 'id': 'aaf60d3c-29b7-4178-bfbf-c3c45bb5ba2a'}\n",
      "\n",
      "Score: 0.007936507936507936\n",
      "['이 표는 어린이 교육의 세 가지 주요 목표를 제시하고 있습니다. 첫째, 존중과 나눔을 실천하는 바른 인성을 기르는 것입니다. 둘째, 몸과 마음의 건강 및 예술 향유를 통해 문화적 소양을 기르는 것입니다. 셋째, 특기와 소질 계발을 통해 미래를 대비하는 창의성을 기르는 것입니다.']\n",
      "{'source': './data/complex_pdf/school_edu_guide.pdf', 'detection_class_prob': 0.5580280423164368, 'coordinates': {'points': [[161.56983947753906, 716.003173828125], [161.56983947753906, 966.0720825195312], [1475.974853515625, 966.0720825195312], [1475.974853515625, 716.003173828125]], 'system': 'PixelSpace', 'layout_width': 1653, 'layout_height': 2337}, 'last_modified': '2024-04-04T01:39:24', 'text_as_html': '<table><tr><td>K 뼈 4</td><td>특 기 와 소 질 을 가꾸어 미 래 를 준 비 하는 창의적인 어린이</td></tr></table>', 'filetype': 'application/pdf', 'languages': ['kor', 'eng'], 'page_number': 3, 'file_directory': './data/complex_pdf', 'filename': 'school_edu_guide.pdf', 'category': 'Table', 'origin_table': '교육 목표 바른 인성으로 존중과 나눔을 실천하는 자주적인 어린이 몸과 마음이 건강하고 예술을 향유하는 문화적인 어린이 특기와 소질을 가꾸어 미래를 준비하는 창의적인 어린이', 'family_tree': 'parent_table', 'parent_id': 'NA', 'id': '11c4619b-e219-4246-ade0-a53165ae27b5'}\n",
      "\n",
      "Score: 0.007694128787878788\n",
      "['이 이미지는 교육 과정과 관련된 표를 보여주고 있습니다. 표에는 다양한 과목들과 그에 따른 수강 시기, 대상, 관련부서 등의 정보가 구체적으로 제시되어 있습니다. 과목들은 크게 디지털 시대 역량 강화, 특성화 교육, 다양한 진로 교육 영역으로 분류되어 있습니다. 전반적으로 교육 과정에 대한 체계적인 안내를 제공하는 표로 보입니다.']\n",
      "{'img_path': './fig/table-3-resize.jpg', 'category': 'Image', 'image_base64': '', 'family_tree': 'parent_image', 'parent_id': 'NA', 'id': '246800fe-08d0-47e7-a91c-f45c100554cd'}\n",
      "None\n",
      "##############################\n",
      "similar_docs_keyword\n",
      "##############################\n",
      "\n",
      "Score: 1.0\n",
      "['2024학년도 학 교 교 육 과 정 설 명 회 연 수 자 료 일시: 2024년 3월 20일 (수) 바른 인성, 건강한 감성, 즐거운 배움으로 미래를 가꾸는 바른 인성, 건강한 감성, 즐거운 배움으로 미래를 가꾸는 학부모 연수 순서 학부모 연수 순서 1. 상록 교육목표 및 구현계획 2. 2024학년도 학사 일정 안내 3. 출결 관련 확인 제출자료 안내 4. 학교교육평가 5. 선행교육 예방(공교육정상화법) 6. 학생 안전 교육 7. 성폭력 예방 교육 8. 흡연 및 음주 예방 교육 9. 학생 인권조례 및 교권보호 10. 방과후학교 운영 11. 초등돌봄교실(오후돌봄) 운영 12. 학부모 서비스 신청 안내 13. 정보통신윤리교육 14. 정보보안 및 개인정보보호 운영 계획 15. 불법찬조금 근절 16. 아동학대 예방 교육 17. 가정폭력 예방 교육 18. 생명 존중 및 생명 살림(자살 예방) 교육 19. 교육활동 참여자 안전교육(녹색, 학부모폴리스) 20. 학교폭력 예방 교육 21. 감염병 예방 교육 22. 청탁금지법 23. 공익제보자 보호 및 공익 신고 보상 안내 24. 존중과 배려의 교육환경 조성 예방 교육(갑질 근절) 25. 교육활동보호예방교육 1 상록 교육 목표 및 구현 계획 비전 바른 인성, 건강한 감성, 즐거운 배움으로 미래를 가꾸는 어린이']\n",
      "{'source': './data/complex_pdf/school_edu_guide.pdf', 'filetype': 'application/pdf', 'languages': ['kor', 'eng'], 'last_modified': '2024-04-04T01:39:24', 'page_number': 1, 'file_directory': './data/complex_pdf', 'filename': 'school_edu_guide.pdf', 'category': 'CompositeElement', 'family_tree': 'child', 'parent_id': 'b8a8496c-1a84-4f96-a020-167eab316664', 'id': '80881750-725e-4d08-900c-a0ca1e337c66'}\n",
      "\n",
      "Score: 0.973217291889316\n",
      "['2024학년도 학 교 교 육 과 정 설 명 회 연 수 자 료 일시: 2024년 3월 20일 (수) 바른 인성, 건강한 감성, 즐거운 배움으로 미래를 가꾸는 바른 인성, 건강한 감성, 즐거운 배움으로 미래를 가꾸는 학부모 연수 순서 학부모 연수 순서 1. 상록 교육목표 및 구현계획 2. 2024학년도 학사 일정 안내 3. 출결 관련 확인 제출자료 안내 4. 학교교육평가 5. 선행교육 예방(공교육정상화법) 6. 학생 안전 교육 7. 성폭력 예방 교육 8. 흡연 및 음주 예방 교육 9. 학생 인권조례 및 교권보호 10. 방과후학교 운영 11. 초등돌봄교실(오후돌봄) 운영 12. 학부모 서비스 신청 안내 13. 정보통신윤리교육 14. 정보보안 및 개인정보보호 운영 계획 15. 불법찬조금 근절 16. 아동학대 예방 교육 17. 가정폭력 예방 교육 18. 생명 존중 및 생명 살림(자살 예방) 교육 19. 교육활동 참여자 안전교육(녹색, 학부모폴리스) 20. 학교폭력 예방 교육 21. 감염병 예방 교육 22. 청탁금지법 23. 공익제보자 보호 및 공익 신고 보상 안내 24. 존중과 배려의 교육환경 조성 예방 교육(갑질 근절) 25. 교육활동보호예방교육 1 상록 교육 목표 및 구현 계획 비전 바른 인성, 건강한 감성, 즐거운 배움으로 미래를 가꾸는 어린이']\n",
      "{'source': './data/complex_pdf/school_edu_guide.pdf', 'filetype': 'application/pdf', 'languages': ['kor', 'eng'], 'last_modified': '2024-04-04T01:39:24', 'page_number': 1, 'file_directory': './data/complex_pdf', 'filename': 'school_edu_guide.pdf', 'category': 'CompositeElement', 'family_tree': 'parent', 'parent_id': None, 'id': 'b8a8496c-1a84-4f96-a020-167eab316664'}\n",
      "\n",
      "Score: 0.8793743124731145\n",
      "['이 표는 어린이 교육의 세 가지 주요 목표를 제시하고 있습니다. 첫째, 존중과 나눔을 실천하는 바른 인성을 기르는 것입니다. 둘째, 몸과 마음의 건강 및 예술 향유를 통해 문화적 소양을 기르는 것입니다. 셋째, 특기와 소질 계발을 통해 미래를 대비하는 창의성을 기르는 것입니다.']\n",
      "{'source': './data/complex_pdf/school_edu_guide.pdf', 'detection_class_prob': 0.5580280423164368, 'coordinates': {'points': [[161.56983947753906, 716.003173828125], [161.56983947753906, 966.0720825195312], [1475.974853515625, 966.0720825195312], [1475.974853515625, 716.003173828125]], 'system': 'PixelSpace', 'layout_width': 1653, 'layout_height': 2337}, 'last_modified': '2024-04-04T01:39:24', 'text_as_html': '<table><tr><td>K 뼈 4</td><td>특 기 와 소 질 을 가꾸어 미 래 를 준 비 하는 창의적인 어린이</td></tr></table>', 'filetype': 'application/pdf', 'languages': ['kor', 'eng'], 'page_number': 3, 'file_directory': './data/complex_pdf', 'filename': 'school_edu_guide.pdf', 'category': 'Table', 'origin_table': '교육 목표 바른 인성으로 존중과 나눔을 실천하는 자주적인 어린이 몸과 마음이 건강하고 예술을 향유하는 문화적인 어린이 특기와 소질을 가꾸어 미래를 준비하는 창의적인 어린이', 'family_tree': 'parent_table', 'parent_id': 'NA', 'id': '11c4619b-e219-4246-ade0-a53165ae27b5'}\n",
      "\n",
      "Score: 0.754749566354497\n",
      "['이 이미지는 학교생활에서 일어날 수 있는 세 가지 역할 즉, 학생상, 교사상, 학부모상을 설명하고 있습니다. 각 역할이 수행해야 할 바람직한 행동들을 열거하고 있으며, 궁극적으로 이 세 가지 역할이 잘 어우러져 좋은 배움의 열매를 맺는 것이 목표라는 것을 보여줍니다.']\n",
      "{'img_path': './fig/figure-3-21.jpg', 'category': 'Image', 'image_base64': '', 'family_tree': 'parent_image', 'parent_id': 'NA', 'id': 'f7042aaf-9bae-4135-a374-7dc78b666c05'}\n",
      "\n",
      "Score: 0.5896793028140627\n",
      "['. 나. 학생의 학습 수준을 확인하고 결과만이 아니라 결과에 이르기까지의 학습과정을 중시한다. 다. 학생의 학습 과정과 결과에 대한 맞춤형 피드백을 제공하여 학생의 학습을 지원한다. 라. 평가의 목표를 학생에게 미리 안내(매 학기 초 사전 안내)하여 학습 과정에서 학생이 주도적으로 자신의 학습과정을 성찰하고, 스스로 조정할 수 있도록 한다. 마. 학습한 지식과 기능을 바탕으로 종합하여 판단하거나 새로운 변화를 만들어 낼 수 있는지를 평가한다. 바. 학습과 평가의 과정에서 얻은 경험을 바탕으로 실생활 맥락 속의 문제를 해결 할 수 있는 역량을 함양할 수 있도록 한다. 3. 추진내용']\n",
      "{'source': './data/complex_pdf/school_edu_guide.pdf', 'filetype': 'application/pdf', 'languages': ['kor', 'eng'], 'last_modified': '2024-04-04T01:39:24', 'page_number': 10, 'file_directory': './data/complex_pdf', 'filename': 'school_edu_guide.pdf', 'category': 'CompositeElement', 'family_tree': 'child', 'parent_id': 'c2324ffc-6c56-43dd-bd56-f8ecac0dc26c', 'id': '6ee009ee-7664-41ea-b0d7-a980bd164f6e'}\n",
      "\n",
      "Score: 0.4616673727541937\n",
      "['결 석 계 2. 질병 이외의 결석 또는 출석인정 결석인 경우 ① 1~2일: [경조사] 결석계와 담임교사확인서 + 청첩장·부고장(문자, 카톡 포함), 사망신고서 중 1부 [미인정 결석 및 기타 결석] 결석계와 담임교사확인서 ② 경조사로 인한 출석인정 결석 3일 이상: 결석계와 담임교사확인서 + 사망신고서(사본 가능) ③ 경조사 이외 출석인정 결석: 결석계와 담임교사확인서 + 증빙서류 ④ ‘①~③’ 에 해당되지 않는 결석 3일 이상: 결석계와 담임교사확인서 + 학부모확인서 ※ 학교장허가교외체험학습은 별도의 체험학습 신청서와 보고서 제출 ------------------------------------ 교사 작성 -------------------------------------- 담임교사 확인서 1. 해당 결석 및 사유 □ 질병 결석 □ 미인정 결석 □ 출석인정 결석 □ 기타 결석 사 유 2. 확인 방법 □하이톡 확인 □하이콜 확인 □가정방문 □학부형 내교 □기 타 ( ) 3. 비 고 : 202 년 월 일 담임교사 : (인) - 8 - □4 학생평가-학습으로의 평가 교사 우○주 1. 학습으로서의 평가의 특징 학습으로서의 평가는 학습 과정과 결과에 대해 학생 스스로 성찰하고, 자기 주도적인 학습 경험을 통해 학습 내용을 실생활 맥락의 문제 해결에 적용할 수 있는 역량을 키우는 평가 2. 방침 가. 학생의 삶과 연계한 교육과정, 수업, 평가의 운영으로 학생 개개인의 삶의 역량을 키운다. 나. 학생의 학습 수준을 확인하고 결과만이 아니라 결과에 이르기까지의 학습과정을 중시한다. 다. 학생의 학습 과정과 결과에 대한 맞춤형 피드백을 제공하여 학생의 학습을 지원한다. 라. 평가의 목표를 학생에게 미리 안내(매 학기 초 사전 안내)하여 학습 과정에서 학생이 주도적으로 자신의 학습과정을 성찰하고, 스스로 조정할 수 있도록 한다. 마. 학습한 지식과 기능을 바탕으로 종합하여 판단하거나 새로운 변화를 만들어 낼 수 있는지를 평가한다. 바']\n",
      "{'source': './data/complex_pdf/school_edu_guide.pdf', 'filetype': 'application/pdf', 'languages': ['kor', 'eng'], 'last_modified': '2024-04-04T01:39:24', 'page_number': 10, 'file_directory': './data/complex_pdf', 'filename': 'school_edu_guide.pdf', 'category': 'CompositeElement', 'family_tree': 'child', 'parent_id': 'c2324ffc-6c56-43dd-bd56-f8ecac0dc26c', 'id': '058221ff-47ce-4e3a-842a-7d8bd3c60213'}\n",
      "\n",
      "Score: 0.42984714990620376\n",
      "['결 석 계 2. 질병 이외의 결석 또는 출석인정 결석인 경우 ① 1~2일: [경조사] 결석계와 담임교사확인서 + 청첩장·부고장(문자, 카톡 포함), 사망신고서 중 1부 [미인정 결석 및 기타 결석] 결석계와 담임교사확인서 ② 경조사로 인한 출석인정 결석 3일 이상: 결석계와 담임교사확인서 + 사망신고서(사본 가능) ③ 경조사 이외 출석인정 결석: 결석계와 담임교사확인서 + 증빙서류 ④ ‘①~③’ 에 해당되지 않는 결석 3일 이상: 결석계와 담임교사확인서 + 학부모확인서 ※ 학교장허가교외체험학습은 별도의 체험학습 신청서와 보고서 제출 ------------------------------------ 교사 작성 -------------------------------------- 담임교사 확인서 1. 해당 결석 및 사유 □ 질병 결석 □ 미인정 결석 □ 출석인정 결석 □ 기타 결석 사 유 2. 확인 방법 □하이톡 확인 □하이콜 확인 □가정방문 □학부형 내교 □기 타 ( ) 3. 비 고 : 202 년 월 일 담임교사 : (인) - 8 - □4 학생평가-학습으로의 평가 교사 우○주 1. 학습으로서의 평가의 특징 학습으로서의 평가는 학습 과정과 결과에 대해 학생 스스로 성찰하고, 자기 주도적인 학습 경험을 통해 학습 내용을 실생활 맥락의 문제 해결에 적용할 수 있는 역량을 키우는 평가 2. 방침 가. 학생의 삶과 연계한 교육과정, 수업, 평가의 운영으로 학생 개개인의 삶의 역량을 키운다. 나. 학생의 학습 수준을 확인하고 결과만이 아니라 결과에 이르기까지의 학습과정을 중시한다. 다. 학생의 학습 과정과 결과에 대한 맞춤형 피드백을 제공하여 학생의 학습을 지원한다. 라. 평가의 목표를 학생에게 미리 안내(매 학기 초 사전 안내)하여 학습 과정에서 학생이 주도적으로 자신의 학습과정을 성찰하고, 스스로 조정할 수 있도록 한다. 마. 학습한 지식과 기능을 바탕으로 종합하여 판단하거나 새로운 변화를 만들어 낼 수 있는지를 평가한다. 바. 학습과 평가의 과정에서 얻은 경험을 바탕으로 실생활 맥락 속의 문제를 해결 할 수 있는 역량을 함양할 수 있도록 한다. 3. 추진내용']\n",
      "{'source': './data/complex_pdf/school_edu_guide.pdf', 'filetype': 'application/pdf', 'languages': ['kor', 'eng'], 'last_modified': '2024-04-04T01:39:24', 'page_number': 10, 'file_directory': './data/complex_pdf', 'filename': 'school_edu_guide.pdf', 'category': 'CompositeElement', 'family_tree': 'parent', 'parent_id': None, 'id': 'c2324ffc-6c56-43dd-bd56-f8ecac0dc26c'}\n",
      "None\n",
      "##############################\n",
      "similar_docs_without_reranker\n",
      "##############################\n",
      "\n",
      "Score: 0.01626123744050767\n",
      "['2024학년도 학 교 교 육 과 정 설 명 회 연 수 자 료 일시: 2024년 3월 20일 (수) 바른 인성, 건강한 감성, 즐거운 배움으로 미래를 가꾸는 바른 인성, 건강한 감성, 즐거운 배움으로 미래를 가꾸는 학부모 연수 순서 학부모 연수 순서 1. 상록 교육목표 및 구현계획 2. 2024학년도 학사 일정 안내 3. 출결 관련 확인 제출자료 안내 4. 학교교육평가 5. 선행교육 예방(공교육정상화법) 6. 학생 안전 교육 7. 성폭력 예방 교육 8. 흡연 및 음주 예방 교육 9. 학생 인권조례 및 교권보호 10. 방과후학교 운영 11. 초등돌봄교실(오후돌봄) 운영 12. 학부모 서비스 신청 안내 13. 정보통신윤리교육 14. 정보보안 및 개인정보보호 운영 계획 15. 불법찬조금 근절 16. 아동학대 예방 교육 17. 가정폭력 예방 교육 18. 생명 존중 및 생명 살림(자살 예방) 교육 19. 교육활동 참여자 안전교육(녹색, 학부모폴리스) 20. 학교폭력 예방 교육 21. 감염병 예방 교육 22. 청탁금지법 23. 공익제보자 보호 및 공익 신고 보상 안내 24. 존중과 배려의 교육환경 조성 예방 교육(갑질 근절) 25. 교육활동보호예방교육 1 상록 교육 목표 및 구현 계획 비전 바른 인성, 건강한 감성, 즐거운 배움으로 미래를 가꾸는 어린이']\n",
      "{'source': './data/complex_pdf/school_edu_guide.pdf', 'filetype': 'application/pdf', 'languages': ['kor', 'eng'], 'last_modified': '2024-04-04T01:39:24', 'page_number': 1, 'file_directory': './data/complex_pdf', 'filename': 'school_edu_guide.pdf', 'category': 'CompositeElement', 'family_tree': 'parent', 'parent_id': None, 'id': 'b8a8496c-1a84-4f96-a020-167eab316664'}\n",
      "\n",
      "Score: 0.01562881562881563\n",
      "['. 나. 학생의 학습 수준을 확인하고 결과만이 아니라 결과에 이르기까지의 학습과정을 중시한다. 다. 학생의 학습 과정과 결과에 대한 맞춤형 피드백을 제공하여 학생의 학습을 지원한다. 라. 평가의 목표를 학생에게 미리 안내(매 학기 초 사전 안내)하여 학습 과정에서 학생이 주도적으로 자신의 학습과정을 성찰하고, 스스로 조정할 수 있도록 한다. 마. 학습한 지식과 기능을 바탕으로 종합하여 판단하거나 새로운 변화를 만들어 낼 수 있는지를 평가한다. 바. 학습과 평가의 과정에서 얻은 경험을 바탕으로 실생활 맥락 속의 문제를 해결 할 수 있는 역량을 함양할 수 있도록 한다. 3. 추진내용']\n",
      "{'source': './data/complex_pdf/school_edu_guide.pdf', 'filetype': 'application/pdf', 'languages': ['kor', 'eng'], 'last_modified': '2024-04-04T01:39:24', 'page_number': 10, 'file_directory': './data/complex_pdf', 'filename': 'school_edu_guide.pdf', 'category': 'CompositeElement', 'family_tree': 'child', 'parent_id': 'c2324ffc-6c56-43dd-bd56-f8ecac0dc26c', 'id': '6ee009ee-7664-41ea-b0d7-a980bd164f6e'}\n",
      "\n",
      "Score: 0.015512265512265512\n",
      "['이 표는 어린이 교육의 세 가지 주요 목표를 제시하고 있습니다. 첫째, 존중과 나눔을 실천하는 바른 인성을 기르는 것입니다. 둘째, 몸과 마음의 건강 및 예술 향유를 통해 문화적 소양을 기르는 것입니다. 셋째, 특기와 소질 계발을 통해 미래를 대비하는 창의성을 기르는 것입니다.']\n",
      "{'source': './data/complex_pdf/school_edu_guide.pdf', 'detection_class_prob': 0.5580280423164368, 'coordinates': {'points': [[161.56983947753906, 716.003173828125], [161.56983947753906, 966.0720825195312], [1475.974853515625, 966.0720825195312], [1475.974853515625, 716.003173828125]], 'system': 'PixelSpace', 'layout_width': 1653, 'layout_height': 2337}, 'last_modified': '2024-04-04T01:39:24', 'text_as_html': '<table><tr><td>K 뼈 4</td><td>특 기 와 소 질 을 가꾸어 미 래 를 준 비 하는 창의적인 어린이</td></tr></table>', 'filetype': 'application/pdf', 'languages': ['kor', 'eng'], 'page_number': 3, 'file_directory': './data/complex_pdf', 'filename': 'school_edu_guide.pdf', 'category': 'Table', 'origin_table': '교육 목표 바른 인성으로 존중과 나눔을 실천하는 자주적인 어린이 몸과 마음이 건강하고 예술을 향유하는 문화적인 어린이 특기와 소질을 가꾸어 미래를 준비하는 창의적인 어린이', 'family_tree': 'parent_table', 'parent_id': 'NA', 'id': '11c4619b-e219-4246-ade0-a53165ae27b5'}\n",
      "\n",
      "Score: 0.00819672131147541\n",
      "['‧ 창의적 체험활동의 영역별 활동내용, 평가방법 및 기준은 교육과정을 근 - 9 - □5 선행교육 예방 (공교육정상화법) 교사 우○주 ❍ 선행교육 -「초‧중등교육법」제23조제2항에 따라 교육부장관이 정한 초․중등학교 교육과정(국가교육과정) 및 교육감이 정한 초․중등학교 교육과정(시․도교육과정), 「초‧중등교육법」제23조제1항에 근거하여 편성․운영되는 단위학교 교육과정(학교 교육과정) 국가교육과정-시․도교육과정-학교 교육과정에 앞서서 편성 또는 제공하는 교육 일반 ❍ 선행학습 - 학습자가 국가교육과정, 시․도교육과정, 학교 교육과정에 앞서서 하는 학습 1. 추진 근거 및 목적 L RIS 가. 근거 Ÿ 「공교육 정상화 촉진 및 선행교육 규제에 관한 특별법」(공교육정상화법) Ÿ 2024년 선행학습 유발 관행 근절 사업 추진계획(교육부 기초학력진로교육과-379, 2024.1.31.) = [9 = < [aN] & - % 5 = 해 때 R 제 0 | 버 과 E 제 o 99 = = B 회 - 0 0 80 MR Q0w 나. 목적 Ÿ 학교의 정상적인 교육과정 운영을 위한 여건 조성 및 공교육 정상화 실현 Ÿ 선행교육과 선행학습 유발 관행 근절을 위한 학생, 교원, 학부모 인식 개선 연수 및 홍보 강화 0\" 3l om0 음미 Ÿ 교육과정 편성 운영 및 선행출제 점검·컨설팅을 통해 학생의 발달단계에 맞는 교육 실시 2. 추진 계획 가. 연수 추진 계획']\n",
      "{'source': './data/complex_pdf/school_edu_guide.pdf', 'filetype': 'application/pdf', 'languages': ['kor', 'eng'], 'last_modified': '2024-04-04T01:39:24', 'page_number': 11, 'file_directory': './data/complex_pdf', 'filename': 'school_edu_guide.pdf', 'category': 'CompositeElement', 'family_tree': 'child', 'parent_id': '7d9d2ff0-d190-4356-bbbe-fbdbd44bfceb', 'id': '22312bd2-8521-4168-93d8-761a1c714eb9'}\n",
      "\n",
      "Score: 0.008064516129032258\n",
      "['주어진 이미지는 11종의 소통하는 교육, 12종의 안전한 세계시민 교육, 13종의 나눔, 배려, 협력하는 인성교육에 대한 구체적인 교육활동과 시기, 대상, 관련부서를 설명하는 표입니다. 각 교육활동 유형별로 세부 내용과 기간, 대상 학년, 담당부서가 정리되어 있어 체계적으로 교육 계획을 파악할 수 있습니다.']\n",
      "{'img_path': './fig/table-1-resize.jpg', 'category': 'Image', 'image_base64': '', 'family_tree': 'parent_image', 'parent_id': 'NA', 'id': 'f75d2013-0f6a-4dd8-83ec-6162ad2a745d'}\n",
      "\n",
      "Score: 0.0078125\n",
      "['이 이미지는 학교생활에서 일어날 수 있는 세 가지 역할 즉, 학생상, 교사상, 학부모상을 설명하고 있습니다. 각 역할이 수행해야 할 바람직한 행동들을 열거하고 있으며, 궁극적으로 이 세 가지 역할이 잘 어우러져 좋은 배움의 열매를 맺는 것이 목표라는 것을 보여줍니다.']\n",
      "{'img_path': './fig/figure-3-21.jpg', 'category': 'Image', 'image_base64': '', 'family_tree': 'parent_image', 'parent_id': 'NA', 'id': 'f7042aaf-9bae-4135-a374-7dc78b666c05'}\n",
      "\n",
      "Score: 0.0078125\n",
      "['이 표는 학교에서 실시하는 교육 활동 계획을 보여주고 있습니다. 주요 내용은 디지털 시민 역량 강화를 위한 교육정보화 지원 및 정보통신윤리교육, 독서 및 독서인문교육 활성화를 위한 도서관 운영 및 독서행사, 진로교육 강화를 위한 진로체험 및 탐색 프로그램 등입니다. 각 활동의 시기, 대상 학년, 관련 부서 등의 정보가 상세히 제시되어 있습니다.']\n",
      "{'source': './data/complex_pdf/school_edu_guide.pdf', 'detection_class_prob': 0.8930906653404236, 'coordinates': {'points': [[155.992431640625, 390.875244140625], [155.992431640625, 2049.864013671875], [1519.5548095703125, 2049.864013671875], [1519.5548095703125, 390.875244140625]], 'system': 'PixelSpace', 'layout_width': 1653, 'layout_height': 2337}, 'last_modified': '2024-04-04T01:39:24', 'text_as_html': '<table><thead><th>0 Ko = 384 -</th><th>호 A 고 — T 까 Kk : g5 Mo 배 | 해 더 ) =W O | 홀 읍 메트 더] 뿌 헤 R _ R 허그 oy RATT wTAKR 덕 부 SRR o0 o</th><th>= offl N 에 S &lt; -</th><th>20 대 = [t} O &lt;</th><th>꼭 i = o 떤 미비 에 20</th></thead><tr><td rowspan=\"3\">o 랙 주 0 - 페오 때 0 듬 히</td><td>= ol 80 ok _ |2 =g 00 | 8 T | .o | @ 이얼 | 해 애정 오 에 o — R | 트 - 엄히 ㅎ | 을 | | 더 4010 | | Mm b</td><td>Ko 10 어리</td><td></td><td></td></tr><tr><td></td><td>헌 o 는 이 4 해 &amp;~ H T 후 ¥ &amp; 원 귀 T Mmoo ol oy o 매일 o 꼬 90 ol ㅡ 얘 페 더 등기 더 MmET 께 때 wHS 중 (FE o © m i</td><td>10 8l</td><td>b2 ) &lt;</td><td>T 원 ™ ol 마 20 더</td></tr><tr><td></td><td>ol N _ ol 해군 D ㅋ 이를 - Fra| &amp; 채 얘 = 이게 A Xy _Mn_ mEH g | 0 ~ R 어젠 L | w o o = 아 이 호 브 | 압 퍼 흐리 | TOHES | 누 조 0 더 때 | 때 리 는 6 | (종중 안다 | o o o o</td><td>— Ko Koo Kio ™ = 81818 1</td><td>끼 꼬 꼬꼬 인 | 10 © O OV &lt; 근 고고고</td><td>o o 깨 20</td></tr><tr><td>얘 i o 때 ™ 3l 베</td><td>Klo or 80 o X o4 U 호 해 800 내 . oz _ 꺼 ol ~ 빈 명 은 &lt; 베 가 께 B0 oy o R 구도 o &lt; 나 ogrTABou KT . 쥐 o | HooPa@ Dl S AT g 폭 레 레미 시리즈 WwXXTTHNIT | 버 버 버 판 바 아 | B o o o o o o</td><td>mw T KO o 고 2 개 Ko 고 Ko 한 한 mE Ty s % I W -</td><td>DEWE . 인 | | for ol oy © 는 o © ©v © 는 s - - - -</td><td>%0 &amp; 얘 덕</td></tr><tr><td>5 o 95 PR ㅁ</td><td>OH 헌 에 인 Y OH 녁 oir 때 = = HooR 「 ㅁ i M| 이 ) 0 o Ko o i - R 패고 o = 30 %0 e ooy B g £ X 부 교 능 그녀 하 짐 이 홍 패 et KR | 에 포메 가옥 태 때, D5 . 띠 더 을 제 그 - B o \"7 o o</td><td>Ko Ko w7 Ko 85 이지</td><td>mm o mom 히피 00 0 1ol 우우 우우 - - - &lt;</td><td>o 3l 깨 20</td></tr><tr><td>- o 3</td><td>= 고 5l 래 ¥ 2 m U 0 &amp;l 뽀 해 = M S 은 애 한 A5 &amp; 이! 더 | 때 꼼 에 | WA | gt NI B o @</td><td>s ol 띠 10 30</td><td>g ¥ or = | 호흡 —</td><td>%0 = 매 덕</td></tr></table>', 'filetype': 'application/pdf', 'languages': ['kor', 'eng'], 'page_number': 6, 'file_directory': './data/complex_pdf', 'filename': 'school_edu_guide.pdf', 'category': 'Table', 'origin_table': '구현중점 교육활동 시기 대상 관련부서 331. 교육정보화 지원확대 및 학습 준비 철저 ◦컴퓨터실 정비 및 각종 교육 S/W 구비 ◦방송실의 효율적 운영 ◦학습준비물의 효율적인 선정 및 구입 7, 2월 연중 연중 1~6학년 생활인권 31. 디지털 시민 역량 강화 332. 학교홈페이지 및 알리미 체제 운영 ◦학교홈페이지 구성 및 활성화 ◦하이클래스를 활용한 교육 주체 간 소통 연중 1~6학년 생활인권 교무기획 333. 에듀테크교육 및 정보통신 윤리교육의 강화 ◦에듀테크교육 환경 구축 ◦개인정보 보호 활성화 및 저작권 교육 강화 ◦SW 교육(미래체험) 프로그램 체험 기회확대 ◦디지털 시민교육(코딩교실 운영) 연중 연중 연중 2학기 1~6학년 1~6학년 1~6학년 1~4학년 생활인권 231. 독서교육의 활성화 ◦교육과정 재구성을 통한 온책읽기 연중 1~6학년 교육과정 ◦질문과 토론이 있는 독서토론교육 운영 연중 1~6학년 32. 232. 독서인문교육을 돕는 도서관 운영 독서인문교육 ◦도서관 운영 계획 수립 3월 1~6학년 ◦도서관 활용 수업 활성화 및 도서 확충 연중 1~6학년 ◦독서 교실 운영 방학중 1~6학년 교육과정 ◦학생 참여의 독서 행사 운영 연중 1~6학년 ◦독서인문교실-작가와의 만남 5-6학년 11월 ◦미디어리터러시 교육 1-6학년 1회 331. 꿈을 키우는 학생 맞춤형 진로교육 강화 ◦진로체험교실 운영 ◦교과 및 창의체험 활동을 통한 진로교육 운 영 연중 연중 1~6학년 1~6학년 생활인권 33. ◦학년 수준에 맞는 진로탐색 프로그램 운영 ◦사이버 진로교육 운영-커리어넷 2회 연중 1~6학년 4~6학년 다양한 진로 교육 실시 332. 진로연계교육 실시 ◦1-2학년은 성장이음과정 실시 ◦3학년은 교과목 설명 및 전담과목 및 안내 학년초 학년초 1-2학년 3학년 교육과정', 'family_tree': 'parent_table', 'parent_id': 'NA', 'id': '31a7842d-17a9-41bb-b4e6-8c3fdeeddd6d'}\n",
      "None\n",
      "##############################\n",
      "similar_docs\n",
      "##############################\n",
      "\n",
      "Score: 0.937147319316864\n",
      "['이 표는 어린이 교육의 세 가지 주요 목표를 제시하고 있습니다. 첫째, 존중과 나눔을 실천하는 바른 인성을 기르는 것입니다. 둘째, 몸과 마음의 건강 및 예술 향유를 통해 문화적 소양을 기르는 것입니다. 셋째, 특기와 소질 계발을 통해 미래를 대비하는 창의성을 기르는 것입니다.']\n",
      "{'source': './data/complex_pdf/school_edu_guide.pdf', 'detection_class_prob': 0.5580280423164368, 'coordinates': {'points': [[161.56983947753906, 716.003173828125], [161.56983947753906, 966.0720825195312], [1475.974853515625, 966.0720825195312], [1475.974853515625, 716.003173828125]], 'system': 'PixelSpace', 'layout_width': 1653, 'layout_height': 2337}, 'last_modified': '2024-04-04T01:39:24', 'text_as_html': '<table><tr><td>K 뼈 4</td><td>특 기 와 소 질 을 가꾸어 미 래 를 준 비 하는 창의적인 어린이</td></tr></table>', 'filetype': 'application/pdf', 'languages': ['kor', 'eng'], 'page_number': 3, 'file_directory': './data/complex_pdf', 'filename': 'school_edu_guide.pdf', 'category': 'Table', 'origin_table': '교육 목표 바른 인성으로 존중과 나눔을 실천하는 자주적인 어린이 몸과 마음이 건강하고 예술을 향유하는 문화적인 어린이 특기와 소질을 가꾸어 미래를 준비하는 창의적인 어린이', 'family_tree': 'parent_table', 'parent_id': 'NA', 'id': '11c4619b-e219-4246-ade0-a53165ae27b5'}\n",
      "\n",
      "Score: 0.12569850582935288\n",
      "['2024학년도 학 교 교 육 과 정 설 명 회 연 수 자 료 일시: 2024년 3월 20일 (수) 바른 인성, 건강한 감성, 즐거운 배움으로 미래를 가꾸는 바른 인성, 건강한 감성, 즐거운 배움으로 미래를 가꾸는 학부모 연수 순서 학부모 연수 순서 1. 상록 교육목표 및 구현계획 2. 2024학년도 학사 일정 안내 3. 출결 관련 확인 제출자료 안내 4. 학교교육평가 5. 선행교육 예방(공교육정상화법) 6. 학생 안전 교육 7. 성폭력 예방 교육 8. 흡연 및 음주 예방 교육 9. 학생 인권조례 및 교권보호 10. 방과후학교 운영 11. 초등돌봄교실(오후돌봄) 운영 12. 학부모 서비스 신청 안내 13. 정보통신윤리교육 14. 정보보안 및 개인정보보호 운영 계획 15. 불법찬조금 근절 16. 아동학대 예방 교육 17. 가정폭력 예방 교육 18. 생명 존중 및 생명 살림(자살 예방) 교육 19. 교육활동 참여자 안전교육(녹색, 학부모폴리스) 20. 학교폭력 예방 교육 21. 감염병 예방 교육 22. 청탁금지법 23. 공익제보자 보호 및 공익 신고 보상 안내 24. 존중과 배려의 교육환경 조성 예방 교육(갑질 근절) 25. 교육활동보호예방교육 1 상록 교육 목표 및 구현 계획 비전 바른 인성, 건강한 감성, 즐거운 배움으로 미래를 가꾸는 어린이']\n",
      "{'source': './data/complex_pdf/school_edu_guide.pdf', 'filetype': 'application/pdf', 'languages': ['kor', 'eng'], 'last_modified': '2024-04-04T01:39:24', 'page_number': 1, 'file_directory': './data/complex_pdf', 'filename': 'school_edu_guide.pdf', 'category': 'CompositeElement', 'family_tree': 'parent', 'parent_id': None, 'id': 'b8a8496c-1a84-4f96-a020-167eab316664'}\n",
      "\n",
      "Score: 0.026411280035972595\n",
      "['. 나. 학생의 학습 수준을 확인하고 결과만이 아니라 결과에 이르기까지의 학습과정을 중시한다. 다. 학생의 학습 과정과 결과에 대한 맞춤형 피드백을 제공하여 학생의 학습을 지원한다. 라. 평가의 목표를 학생에게 미리 안내(매 학기 초 사전 안내)하여 학습 과정에서 학생이 주도적으로 자신의 학습과정을 성찰하고, 스스로 조정할 수 있도록 한다. 마. 학습한 지식과 기능을 바탕으로 종합하여 판단하거나 새로운 변화를 만들어 낼 수 있는지를 평가한다. 바. 학습과 평가의 과정에서 얻은 경험을 바탕으로 실생활 맥락 속의 문제를 해결 할 수 있는 역량을 함양할 수 있도록 한다. 3. 추진내용']\n",
      "{'source': './data/complex_pdf/school_edu_guide.pdf', 'filetype': 'application/pdf', 'languages': ['kor', 'eng'], 'last_modified': '2024-04-04T01:39:24', 'page_number': 10, 'file_directory': './data/complex_pdf', 'filename': 'school_edu_guide.pdf', 'category': 'CompositeElement', 'family_tree': 'child', 'parent_id': 'c2324ffc-6c56-43dd-bd56-f8ecac0dc26c', 'id': '6ee009ee-7664-41ea-b0d7-a980bd164f6e'}\n",
      "\n",
      "Score: 0.019565986469388008\n",
      "['이 표는 학교에서 실시하는 교육 활동 계획을 보여주고 있습니다. 주요 내용은 디지털 시민 역량 강화를 위한 교육정보화 지원 및 정보통신윤리교육, 독서 및 독서인문교육 활성화를 위한 도서관 운영 및 독서행사, 진로교육 강화를 위한 진로체험 및 탐색 프로그램 등입니다. 각 활동의 시기, 대상 학년, 관련 부서 등의 정보가 상세히 제시되어 있습니다.']\n",
      "{'source': './data/complex_pdf/school_edu_guide.pdf', 'detection_class_prob': 0.8930906653404236, 'coordinates': {'points': [[155.992431640625, 390.875244140625], [155.992431640625, 2049.864013671875], [1519.5548095703125, 2049.864013671875], [1519.5548095703125, 390.875244140625]], 'system': 'PixelSpace', 'layout_width': 1653, 'layout_height': 2337}, 'last_modified': '2024-04-04T01:39:24', 'text_as_html': '<table><thead><th>0 Ko = 384 -</th><th>호 A 고 — T 까 Kk : g5 Mo 배 | 해 더 ) =W O | 홀 읍 메트 더] 뿌 헤 R _ R 허그 oy RATT wTAKR 덕 부 SRR o0 o</th><th>= offl N 에 S &lt; -</th><th>20 대 = [t} O &lt;</th><th>꼭 i = o 떤 미비 에 20</th></thead><tr><td rowspan=\"3\">o 랙 주 0 - 페오 때 0 듬 히</td><td>= ol 80 ok _ |2 =g 00 | 8 T | .o | @ 이얼 | 해 애정 오 에 o — R | 트 - 엄히 ㅎ | 을 | | 더 4010 | | Mm b</td><td>Ko 10 어리</td><td></td><td></td></tr><tr><td></td><td>헌 o 는 이 4 해 &amp;~ H T 후 ¥ &amp; 원 귀 T Mmoo ol oy o 매일 o 꼬 90 ol ㅡ 얘 페 더 등기 더 MmET 께 때 wHS 중 (FE o © m i</td><td>10 8l</td><td>b2 ) &lt;</td><td>T 원 ™ ol 마 20 더</td></tr><tr><td></td><td>ol N _ ol 해군 D ㅋ 이를 - Fra| &amp; 채 얘 = 이게 A Xy _Mn_ mEH g | 0 ~ R 어젠 L | w o o = 아 이 호 브 | 압 퍼 흐리 | TOHES | 누 조 0 더 때 | 때 리 는 6 | (종중 안다 | o o o o</td><td>— Ko Koo Kio ™ = 81818 1</td><td>끼 꼬 꼬꼬 인 | 10 © O OV &lt; 근 고고고</td><td>o o 깨 20</td></tr><tr><td>얘 i o 때 ™ 3l 베</td><td>Klo or 80 o X o4 U 호 해 800 내 . oz _ 꺼 ol ~ 빈 명 은 &lt; 베 가 께 B0 oy o R 구도 o &lt; 나 ogrTABou KT . 쥐 o | HooPa@ Dl S AT g 폭 레 레미 시리즈 WwXXTTHNIT | 버 버 버 판 바 아 | B o o o o o o</td><td>mw T KO o 고 2 개 Ko 고 Ko 한 한 mE Ty s % I W -</td><td>DEWE . 인 | | for ol oy © 는 o © ©v © 는 s - - - -</td><td>%0 &amp; 얘 덕</td></tr><tr><td>5 o 95 PR ㅁ</td><td>OH 헌 에 인 Y OH 녁 oir 때 = = HooR 「 ㅁ i M| 이 ) 0 o Ko o i - R 패고 o = 30 %0 e ooy B g £ X 부 교 능 그녀 하 짐 이 홍 패 et KR | 에 포메 가옥 태 때, D5 . 띠 더 을 제 그 - B o \"7 o o</td><td>Ko Ko w7 Ko 85 이지</td><td>mm o mom 히피 00 0 1ol 우우 우우 - - - &lt;</td><td>o 3l 깨 20</td></tr><tr><td>- o 3</td><td>= 고 5l 래 ¥ 2 m U 0 &amp;l 뽀 해 = M S 은 애 한 A5 &amp; 이! 더 | 때 꼼 에 | WA | gt NI B o @</td><td>s ol 띠 10 30</td><td>g ¥ or = | 호흡 —</td><td>%0 = 매 덕</td></tr></table>', 'filetype': 'application/pdf', 'languages': ['kor', 'eng'], 'page_number': 6, 'file_directory': './data/complex_pdf', 'filename': 'school_edu_guide.pdf', 'category': 'Table', 'origin_table': '구현중점 교육활동 시기 대상 관련부서 331. 교육정보화 지원확대 및 학습 준비 철저 ◦컴퓨터실 정비 및 각종 교육 S/W 구비 ◦방송실의 효율적 운영 ◦학습준비물의 효율적인 선정 및 구입 7, 2월 연중 연중 1~6학년 생활인권 31. 디지털 시민 역량 강화 332. 학교홈페이지 및 알리미 체제 운영 ◦학교홈페이지 구성 및 활성화 ◦하이클래스를 활용한 교육 주체 간 소통 연중 1~6학년 생활인권 교무기획 333. 에듀테크교육 및 정보통신 윤리교육의 강화 ◦에듀테크교육 환경 구축 ◦개인정보 보호 활성화 및 저작권 교육 강화 ◦SW 교육(미래체험) 프로그램 체험 기회확대 ◦디지털 시민교육(코딩교실 운영) 연중 연중 연중 2학기 1~6학년 1~6학년 1~6학년 1~4학년 생활인권 231. 독서교육의 활성화 ◦교육과정 재구성을 통한 온책읽기 연중 1~6학년 교육과정 ◦질문과 토론이 있는 독서토론교육 운영 연중 1~6학년 32. 232. 독서인문교육을 돕는 도서관 운영 독서인문교육 ◦도서관 운영 계획 수립 3월 1~6학년 ◦도서관 활용 수업 활성화 및 도서 확충 연중 1~6학년 ◦독서 교실 운영 방학중 1~6학년 교육과정 ◦학생 참여의 독서 행사 운영 연중 1~6학년 ◦독서인문교실-작가와의 만남 5-6학년 11월 ◦미디어리터러시 교육 1-6학년 1회 331. 꿈을 키우는 학생 맞춤형 진로교육 강화 ◦진로체험교실 운영 ◦교과 및 창의체험 활동을 통한 진로교육 운 영 연중 연중 1~6학년 1~6학년 생활인권 33. ◦학년 수준에 맞는 진로탐색 프로그램 운영 ◦사이버 진로교육 운영-커리어넷 2회 연중 1~6학년 4~6학년 다양한 진로 교육 실시 332. 진로연계교육 실시 ◦1-2학년은 성장이음과정 실시 ◦3학년은 교과목 설명 및 전담과목 및 안내 학년초 학년초 1-2학년 3학년 교육과정', 'family_tree': 'parent_table', 'parent_id': 'NA', 'id': '31a7842d-17a9-41bb-b4e6-8c3fdeeddd6d'}\n",
      "\n",
      "Score: 0.013116850517690182\n",
      "['이 이미지는 학교생활에서 일어날 수 있는 세 가지 역할 즉, 학생상, 교사상, 학부모상을 설명하고 있습니다. 각 역할이 수행해야 할 바람직한 행동들을 열거하고 있으며, 궁극적으로 이 세 가지 역할이 잘 어우러져 좋은 배움의 열매를 맺는 것이 목표라는 것을 보여줍니다.']\n",
      "{'img_path': './fig/figure-3-21.jpg', 'category': 'Image', 'image_base64': '', 'family_tree': 'parent_image', 'parent_id': 'NA', 'id': 'f7042aaf-9bae-4135-a374-7dc78b666c05'}\n",
      "None\n",
      "\n",
      "==========  Results  ==========\n",
      "\n",
      "1. question: 교육목표는?\n",
      "2. # documents: 3\n",
      "3. Documents: \n",
      "\n",
      "\n",
      "-----------------------------------------------\n",
      "1. Category: Table, Chunk: 155 Characters\n",
      "-----------------------------------------------\n",
      "이 표는 어린이 교육의 세 가지 주요 목표를 제시하고 있습니다. 첫째, 존중과 나눔을 실천하는 바른 인성을 기르는 것입니다. 둘째, 몸과 마음의 건강 및 예술 향유를 통해 문화적\n",
      "소양을 기르는 것입니다. 셋째, 특기와 소질 계발을 통해 미래를 대비하는 창의성을 기르는 것입니다.\n",
      "metadata:\n",
      " {'source': './data/complex_pdf/school_edu_guide.pdf', 'detection_class_prob': 0.5580280423164368,\n",
      "'coordinates': {'points': [[161.56983947753906, 716.003173828125], [161.56983947753906,\n",
      "966.0720825195312], [1475.974853515625, 966.0720825195312], [1475.974853515625, 716.003173828125]],\n",
      "'system': 'PixelSpace', 'layout_width': 1653, 'layout_height': 2337}, 'last_modified':\n",
      "'2024-04-04T01:39:24', 'text_as_html': '<table><tr><td>K 뼈 4</td><td>특 기 와 소 질 을 가꾸어 미 래 를 준 비 하는\n",
      "창의적인 어린이</td></tr></table>', 'filetype': 'application/pdf', 'languages': ['kor', 'eng'],\n",
      "'page_number': 3, 'file_directory': './data/complex_pdf', 'filename': 'school_edu_guide.pdf',\n",
      "'category': 'Table', 'origin_table': '교육 목표 바른 인성으로 존중과 나눔을 실천하는 자주적인 어린이 몸과 마음이 건강하고 예술을 향유하는 문화적인\n",
      "어린이 특기와 소질을 가꾸어 미래를 준비하는 창의적인 어린이', 'family_tree': 'parent_table', 'parent_id': 'NA', 'id':\n",
      "'11c4619b-e219-4246-ade0-a53165ae27b5'}\n",
      "\n",
      "-----------------------------------------------\n",
      "2. Category: CompositeElement, Chunk: 647 Characters\n",
      "-----------------------------------------------\n",
      "2024학년도 학 교 교 육 과 정 설 명 회 연 수 자 료 일시: 2024년 3월 20일 (수) 바른 인성, 건강한 감성, 즐거운 배움으로 미래를 가꾸는 바른 인성, 건강한\n",
      "감성, 즐거운 배움으로 미래를 가꾸는 학부모 연수 순서 학부모 연수 순서 1. 상록 교육목표 및 구현계획 2. 2024학년도 학사 일정 안내 3. 출결 관련 확인 제출자료 안내\n",
      "4. 학교교육평가 5. 선행교육 예방(공교육정상화법) 6. 학생 안전 교육 7. 성폭력 예방 교육 8. 흡연 및 음주 예방 교육 9. 학생 인권조례 및 교권보호 10. 방과후학교\n",
      "운영 11. 초등돌봄교실(오후돌봄) 운영 12. 학부모 서비스 신청 안내 13. 정보통신윤리교육 14. 정보보안 및 개인정보보호 운영 계획 15. 불법찬조금 근절 16. 아동학대\n",
      "예방 교육 17. 가정폭력 예방 교육 18. 생명 존중 및 생명 살림(자살 예방) 교육 19. 교육활동 참여자 안전교육(녹색, 학부모폴리스) 20. 학교폭력 예방 교육 21.\n",
      "감염병 예방 교육 22. 청탁금지법 23. 공익제보자 보호 및 공익 신고 보상 안내 24. 존중과 배려의 교육환경 조성 예방 교육(갑질 근절) 25. 교육활동보호예방교육 1 상록\n",
      "교육 목표 및 구현 계획 비전 바른 인성, 건강한 감성, 즐거운 배움으로 미래를 가꾸는 어린이\n",
      "metadata:\n",
      " {'source': './data/complex_pdf/school_edu_guide.pdf', 'filetype': 'application/pdf', 'languages':\n",
      "['kor', 'eng'], 'last_modified': '2024-04-04T01:39:24', 'page_number': 1, 'file_directory':\n",
      "'./data/complex_pdf', 'filename': 'school_edu_guide.pdf', 'category': 'CompositeElement',\n",
      "'family_tree': 'parent', 'parent_id': None, 'id': 'b8a8496c-1a84-4f96-a020-167eab316664'}\n",
      "\n",
      "-----------------------------------------------\n",
      "3. Category: CompositeElement, Chunk: 327 Characters\n",
      "-----------------------------------------------\n",
      ". 나. 학생의 학습 수준을 확인하고 결과만이 아니라 결과에 이르기까지의 학습과정을 중시한다. 다. 학생의 학습 과정과 결과에 대한 맞춤형 피드백을 제공하여 학생의 학습을\n",
      "지원한다. 라. 평가의 목표를 학생에게 미리 안내(매 학기 초 사전 안내)하여 학습 과정에서 학생이 주도적으로 자신의 학습과정을 성찰하고, 스스로 조정할 수 있도록 한다. 마.\n",
      "학습한 지식과 기능을 바탕으로 종합하여 판단하거나 새로운 변화를 만들어 낼 수 있는지를 평가한다. 바. 학습과 평가의 과정에서 얻은 경험을 바탕으로 실생활 맥락 속의 문제를 해결\n",
      "할 수 있는 역량을 함양할 수 있도록 한다. 3. 추진내용\n",
      "metadata:\n",
      " {'source': './data/complex_pdf/school_edu_guide.pdf', 'filetype': 'application/pdf', 'languages':\n",
      "['kor', 'eng'], 'last_modified': '2024-04-04T01:39:24', 'page_number': 10, 'file_directory':\n",
      "'./data/complex_pdf', 'filename': 'school_edu_guide.pdf', 'category': 'CompositeElement',\n",
      "'family_tree': 'child', 'parent_id': 'c2324ffc-6c56-43dd-bd56-f8ecac0dc26c', 'id':\n",
      "'6ee009ee-7664-41ea-b0d7-a980bd164f6e'}\n",
      "\n",
      "-----------------------------------------------\n",
      "4. Category: Table, Chunk: 193 Characters\n",
      "-----------------------------------------------\n",
      "이 표는 학교에서 실시하는 교육 활동 계획을 보여주고 있습니다. 주요 내용은 디지털 시민 역량 강화를 위한 교육정보화 지원 및 정보통신윤리교육, 독서 및 독서인문교육 활성화를 위한\n",
      "도서관 운영 및 독서행사, 진로교육 강화를 위한 진로체험 및 탐색 프로그램 등입니다. 각 활동의 시기, 대상 학년, 관련 부서 등의 정보가 상세히 제시되어 있습니다.\n",
      "metadata:\n",
      " {'source': './data/complex_pdf/school_edu_guide.pdf', 'detection_class_prob': 0.8930906653404236,\n",
      "'coordinates': {'points': [[155.992431640625, 390.875244140625], [155.992431640625,\n",
      "2049.864013671875], [1519.5548095703125, 2049.864013671875], [1519.5548095703125,\n",
      "390.875244140625]], 'system': 'PixelSpace', 'layout_width': 1653, 'layout_height': 2337},\n",
      "'last_modified': '2024-04-04T01:39:24', 'text_as_html': '<table><thead><th>0 Ko = 384 -</th><th>호 A\n",
      "고 — T 까 Kk : g5 Mo 배 | 해 더 ) =W O | 홀 읍 메트 더] 뿌 헤 R _ R 허그 oy RATT wTAKR 덕 부 SRR o0 o</th><th>= offl\n",
      "N 에 S &lt; -</th><th>20 대 = [t} O &lt;</th><th>꼭 i = o 떤 미비 에 20</th></thead><tr><td rowspan=\"3\">o 랙\n",
      "주 0 - 페오 때 0 듬 히</td><td>= ol 80 ok _ |2 =g 00 | 8 T | .o | @ 이얼 | 해 애정 오 에 o — R | 트 - 엄히 ㅎ | 을 | |\n",
      "더 4010 | | Mm b</td><td>Ko 10 어리</td><td></td><td></td></tr><tr><td></td><td>헌 o 는 이 4 해 &amp;~ H T\n",
      "후 ¥ &amp; 원 귀 T Mmoo ol oy o 매일 o 꼬 90 ol ㅡ 얘 페 더 등기 더 MmET 께 때 wHS 중 (FE o © m i</td><td>10\n",
      "8l</td><td>b2 ) &lt;</td><td>T 원 ™ ol 마 20 더</td></tr><tr><td></td><td>ol N _ ol 해군 D ㅋ 이를 - Fra|\n",
      "&amp; 채 얘 = 이게 A Xy _Mn_ mEH g | 0 ~ R 어젠 L | w o o = 아 이 호 브 | 압 퍼 흐리 | TOHES | 누 조 0 더 때 | 때 리 는 6\n",
      "| (종중 안다 | o o o o</td><td>— Ko Koo Kio ™ = 81818 1</td><td>끼 꼬 꼬꼬 인 | 10 © O OV &lt; 근\n",
      "고고고</td><td>o o 깨 20</td></tr><tr><td>얘 i o 때 ™ 3l 베</td><td>Klo or 80 o X o4 U 호 해 800 내 . oz _ 꺼\n",
      "ol ~ 빈 명 은 &lt; 베 가 께 B0 oy o R 구도 o &lt; 나 ogrTABou KT . 쥐 o | HooPa@ Dl S AT g 폭 레 레미 시리즈\n",
      "WwXXTTHNIT | 버 버 버 판 바 아 | B o o o o o o</td><td>mw T KO o 고 2 개 Ko 고 Ko 한 한 mE Ty s % I W\n",
      "-</td><td>DEWE . 인 | | for ol oy © 는 o © ©v © 는 s - - - -</td><td>%0 &amp; 얘 덕</td></tr><tr><td>5 o\n",
      "95 PR ㅁ</td><td>OH 헌 에 인 Y OH 녁 oir 때 = = HooR 「 ㅁ i M| 이 ) 0 o Ko o i - R 패고 o = 30 %0 e ooy B g £\n",
      "X 부 교 능 그녀 하 짐 이 홍 패 et KR | 에 포메 가옥 태 때, D5 . 띠 더 을 제 그 - B o \"7 o o</td><td>Ko Ko w7 Ko 85\n",
      "이지</td><td>mm o mom 히피 00 0 1ol 우우 우우 - - - &lt;</td><td>o 3l 깨 20</td></tr><tr><td>- o 3</td><td>=\n",
      "고 5l 래 ¥ 2 m U 0 &amp;l 뽀 해 = M S 은 애 한 A5 &amp; 이! 더 | 때 꼼 에 | WA | gt NI B o @</td><td>s ol 띠 10\n",
      "30</td><td>g ¥ or = | 호흡 —</td><td>%0 = 매 덕</td></tr></table>', 'filetype': 'application/pdf',\n",
      "'languages': ['kor', 'eng'], 'page_number': 6, 'file_directory': './data/complex_pdf', 'filename':\n",
      "'school_edu_guide.pdf', 'category': 'Table', 'origin_table': '구현중점 교육활동 시기 대상 관련부서 331. 교육정보화 지원확대 및\n",
      "학습 준비 철저 ◦컴퓨터실 정비 및 각종 교육 S/W 구비 ◦방송실의 효율적 운영 ◦학습준비물의 효율적인 선정 및 구입 7, 2월 연중 연중 1~6학년 생활인권 31. 디지털 시민\n",
      "역량 강화 332. 학교홈페이지 및 알리미 체제 운영 ◦학교홈페이지 구성 및 활성화 ◦하이클래스를 활용한 교육 주체 간 소통 연중 1~6학년 생활인권 교무기획 333. 에듀테크교육\n",
      "및 정보통신 윤리교육의 강화 ◦에듀테크교육 환경 구축 ◦개인정보 보호 활성화 및 저작권 교육 강화 ◦SW 교육(미래체험) 프로그램 체험 기회확대 ◦디지털 시민교육(코딩교실 운영)\n",
      "연중 연중 연중 2학기 1~6학년 1~6학년 1~6학년 1~4학년 생활인권 231. 독서교육의 활성화 ◦교육과정 재구성을 통한 온책읽기 연중 1~6학년 교육과정 ◦질문과 토론이\n",
      "있는 독서토론교육 운영 연중 1~6학년 32. 232. 독서인문교육을 돕는 도서관 운영 독서인문교육 ◦도서관 운영 계획 수립 3월 1~6학년 ◦도서관 활용 수업 활성화 및 도서\n",
      "확충 연중 1~6학년 ◦독서 교실 운영 방학중 1~6학년 교육과정 ◦학생 참여의 독서 행사 운영 연중 1~6학년 ◦독서인문교실-작가와의 만남 5-6학년 11월 ◦미디어리터러시 교육\n",
      "1-6학년 1회 331. 꿈을 키우는 학생 맞춤형 진로교육 강화 ◦진로체험교실 운영 ◦교과 및 창의체험 활동을 통한 진로교육 운 영 연중 연중 1~6학년 1~6학년 생활인권 33.\n",
      "◦학년 수준에 맞는 진로탐색 프로그램 운영 ◦사이버 진로교육 운영-커리어넷 2회 연중 1~6학년 4~6학년 다양한 진로 교육 실시 332. 진로연계교육 실시 ◦1-2학년은\n",
      "성장이음과정 실시 ◦3학년은 교과목 설명 및 전담과목 및 안내 학년초 학년초 1-2학년 3학년 교육과정', 'family_tree': 'parent_table',\n",
      "'parent_id': 'NA', 'id': '31a7842d-17a9-41bb-b4e6-8c3fdeeddd6d'}\n",
      "\n",
      "-----------------------------------------------\n",
      "5. Category: Image, Chunk: 149 Characters\n",
      "-----------------------------------------------\n"
     ]
    },
    {
     "data": {
      "image/png": "[encoded data removed]",
      "text/plain": [
       "<Figure size 640x480 with 1 Axes>"
      ]
     },
     "metadata": {},
     "output_type": "display_data"
    },
    {
     "name": "stdout",
     "output_type": "stream",
     "text": [
      "이 이미지는 학교생활에서 일어날 수 있는 세 가지 역할 즉, 학생상, 교사상, 학부모상을 설명하고 있습니다. 각 역할이 수행해야 할 바람직한 행동들을 열거하고 있으며, 궁극적으로\n",
      "이 세 가지 역할이 잘 어우러져 좋은 배움의 열매를 맺는 것이 목표라는 것을 보여줍니다.\n",
      "metadata:\n",
      " {'img_path': './fig/figure-3-21.jpg', 'category': 'Image', 'image_base64': '', 'family_tree':\n",
      "'parent_image', 'parent_id': 'NA', 'id': 'f7042aaf-9bae-4135-a374-7dc78b666c05', 'origin_image': ''}\n",
      "CPU times: user 626 ms, sys: 141 ms, total: 768 ms\n",
      "Wall time: 2.23 s\n"
     ]
    }
   ],
   "source": [
    "%%time\n",
    "search_hybrid_result = opensearch_hybrid_retriever.get_relevant_documents(query)\n",
    "\n",
    "print(\"\\n==========  Results  ==========\\n\")\n",
    "print(f'1. question: {query}')\n",
    "print (f'2. # documents: {len(search_hybrid_result)}')\n",
    "print(\"3. Documents: \\n\")\n",
    "\n",
    "show_context_used(search_hybrid_result)"
   ]
  },
  {
   "cell_type": "markdown",
   "id": "c09221b5-4a6c-463b-9769-35cc8362e33c",
   "metadata": {},
   "source": [
    "- update parameters"
   ]
  },
  {
   "cell_type": "code",
   "execution_count": 40,
   "id": "b7bb4672-d2b8-4b29-b71c-b06d84bcd470",
   "metadata": {
    "tags": []
   },
   "outputs": [],
   "source": [
    "opensearch_hybrid_retriever.update_search_params(\n",
    "    k=10,\n",
    "    minimum_should_match=30,\n",
    "    filter=[\n",
    "        #{\"term\": {\"metadata.project\": \"KS\"}},\n",
    "    ],\n",
    "    reranker=True,\n",
    "    reranker_endpoint_name=endpoint_name,\n",
    "    rag_fusion=True, # enable rag_fusion\n",
    "    query_augmentation_size=2, # query_augmentation_size in rag_fusion\n",
    "    llm_text=llm_text, # llm for query augmentation in rag_fusion\n",
    "    verbose=False\n",
    ")"
   ]
  },
  {
   "cell_type": "code",
   "execution_count": 41,
   "id": "1b9b45b1-cb92-4954-8087-143a550350c8",
   "metadata": {
    "collapsed": true,
    "jupyter": {
     "outputs_hidden": true
    },
    "tags": []
   },
   "outputs": [
    {
     "name": "stdout",
     "output_type": "stream",
     "text": [
      "교육목표 설정 방법\n",
      "효과적인 교육목표 설정 전략\n",
      "==========  Results  ==========\n",
      "\n",
      "1. question: 교육목표는?\n",
      "2. # documents: 3\n",
      "3. Documents: \n",
      "\n",
      "\n",
      "-----------------------------------------------\n",
      "1. Category: Table, Chunk: 155 Characters\n",
      "-----------------------------------------------\n",
      "이 표는 어린이 교육의 세 가지 주요 목표를 제시하고 있습니다. 첫째, 존중과 나눔을 실천하는 바른 인성을 기르는 것입니다. 둘째, 몸과 마음의 건강 및 예술 향유를 통해 문화적\n",
      "소양을 기르는 것입니다. 셋째, 특기와 소질 계발을 통해 미래를 대비하는 창의성을 기르는 것입니다.\n",
      "metadata:\n",
      " {'source': './data/complex_pdf/school_edu_guide.pdf', 'detection_class_prob': 0.5580280423164368,\n",
      "'coordinates': {'points': [[161.56983947753906, 716.003173828125], [161.56983947753906,\n",
      "966.0720825195312], [1475.974853515625, 966.0720825195312], [1475.974853515625, 716.003173828125]],\n",
      "'system': 'PixelSpace', 'layout_width': 1653, 'layout_height': 2337}, 'last_modified':\n",
      "'2024-04-04T01:39:24', 'text_as_html': '<table><tr><td>K 뼈 4</td><td>특 기 와 소 질 을 가꾸어 미 래 를 준 비 하는\n",
      "창의적인 어린이</td></tr></table>', 'filetype': 'application/pdf', 'languages': ['kor', 'eng'],\n",
      "'page_number': 3, 'file_directory': './data/complex_pdf', 'filename': 'school_edu_guide.pdf',\n",
      "'category': 'Table', 'origin_table': '교육 목표 바른 인성으로 존중과 나눔을 실천하는 자주적인 어린이 몸과 마음이 건강하고 예술을 향유하는 문화적인\n",
      "어린이 특기와 소질을 가꾸어 미래를 준비하는 창의적인 어린이', 'family_tree': 'parent_table', 'parent_id': 'NA', 'id':\n",
      "'11c4619b-e219-4246-ade0-a53165ae27b5'}\n",
      "\n",
      "-----------------------------------------------\n",
      "2. Category: CompositeElement, Chunk: 647 Characters\n",
      "-----------------------------------------------\n",
      "2024학년도 학 교 교 육 과 정 설 명 회 연 수 자 료 일시: 2024년 3월 20일 (수) 바른 인성, 건강한 감성, 즐거운 배움으로 미래를 가꾸는 바른 인성, 건강한\n",
      "감성, 즐거운 배움으로 미래를 가꾸는 학부모 연수 순서 학부모 연수 순서 1. 상록 교육목표 및 구현계획 2. 2024학년도 학사 일정 안내 3. 출결 관련 확인 제출자료 안내\n",
      "4. 학교교육평가 5. 선행교육 예방(공교육정상화법) 6. 학생 안전 교육 7. 성폭력 예방 교육 8. 흡연 및 음주 예방 교육 9. 학생 인권조례 및 교권보호 10. 방과후학교\n",
      "운영 11. 초등돌봄교실(오후돌봄) 운영 12. 학부모 서비스 신청 안내 13. 정보통신윤리교육 14. 정보보안 및 개인정보보호 운영 계획 15. 불법찬조금 근절 16. 아동학대\n",
      "예방 교육 17. 가정폭력 예방 교육 18. 생명 존중 및 생명 살림(자살 예방) 교육 19. 교육활동 참여자 안전교육(녹색, 학부모폴리스) 20. 학교폭력 예방 교육 21.\n",
      "감염병 예방 교육 22. 청탁금지법 23. 공익제보자 보호 및 공익 신고 보상 안내 24. 존중과 배려의 교육환경 조성 예방 교육(갑질 근절) 25. 교육활동보호예방교육 1 상록\n",
      "교육 목표 및 구현 계획 비전 바른 인성, 건강한 감성, 즐거운 배움으로 미래를 가꾸는 어린이\n",
      "metadata:\n",
      " {'source': './data/complex_pdf/school_edu_guide.pdf', 'filetype': 'application/pdf', 'languages':\n",
      "['kor', 'eng'], 'last_modified': '2024-04-04T01:39:24', 'page_number': 1, 'file_directory':\n",
      "'./data/complex_pdf', 'filename': 'school_edu_guide.pdf', 'category': 'CompositeElement',\n",
      "'family_tree': 'parent', 'parent_id': None, 'id': 'b8a8496c-1a84-4f96-a020-167eab316664'}\n",
      "\n",
      "-----------------------------------------------\n",
      "3. Category: CompositeElement, Chunk: 327 Characters\n",
      "-----------------------------------------------\n",
      ". 나. 학생의 학습 수준을 확인하고 결과만이 아니라 결과에 이르기까지의 학습과정을 중시한다. 다. 학생의 학습 과정과 결과에 대한 맞춤형 피드백을 제공하여 학생의 학습을\n",
      "지원한다. 라. 평가의 목표를 학생에게 미리 안내(매 학기 초 사전 안내)하여 학습 과정에서 학생이 주도적으로 자신의 학습과정을 성찰하고, 스스로 조정할 수 있도록 한다. 마.\n",
      "학습한 지식과 기능을 바탕으로 종합하여 판단하거나 새로운 변화를 만들어 낼 수 있는지를 평가한다. 바. 학습과 평가의 과정에서 얻은 경험을 바탕으로 실생활 맥락 속의 문제를 해결\n",
      "할 수 있는 역량을 함양할 수 있도록 한다. 3. 추진내용\n",
      "metadata:\n",
      " {'source': './data/complex_pdf/school_edu_guide.pdf', 'filetype': 'application/pdf', 'languages':\n",
      "['kor', 'eng'], 'last_modified': '2024-04-04T01:39:24', 'page_number': 10, 'file_directory':\n",
      "'./data/complex_pdf', 'filename': 'school_edu_guide.pdf', 'category': 'CompositeElement',\n",
      "'family_tree': 'child', 'parent_id': 'c2324ffc-6c56-43dd-bd56-f8ecac0dc26c', 'id':\n",
      "'6ee009ee-7664-41ea-b0d7-a980bd164f6e'}\n",
      "\n",
      "-----------------------------------------------\n",
      "4. Category: Table, Chunk: 193 Characters\n",
      "-----------------------------------------------\n",
      "이 표는 학교에서 실시하는 교육 활동 계획을 보여주고 있습니다. 주요 내용은 디지털 시민 역량 강화를 위한 교육정보화 지원 및 정보통신윤리교육, 독서 및 독서인문교육 활성화를 위한\n",
      "도서관 운영 및 독서행사, 진로교육 강화를 위한 진로체험 및 탐색 프로그램 등입니다. 각 활동의 시기, 대상 학년, 관련 부서 등의 정보가 상세히 제시되어 있습니다.\n",
      "metadata:\n",
      " {'source': './data/complex_pdf/school_edu_guide.pdf', 'detection_class_prob': 0.8930906653404236,\n",
      "'coordinates': {'points': [[155.992431640625, 390.875244140625], [155.992431640625,\n",
      "2049.864013671875], [1519.5548095703125, 2049.864013671875], [1519.5548095703125,\n",
      "390.875244140625]], 'system': 'PixelSpace', 'layout_width': 1653, 'layout_height': 2337},\n",
      "'last_modified': '2024-04-04T01:39:24', 'text_as_html': '<table><thead><th>0 Ko = 384 -</th><th>호 A\n",
      "고 — T 까 Kk : g5 Mo 배 | 해 더 ) =W O | 홀 읍 메트 더] 뿌 헤 R _ R 허그 oy RATT wTAKR 덕 부 SRR o0 o</th><th>= offl\n",
      "N 에 S &lt; -</th><th>20 대 = [t} O &lt;</th><th>꼭 i = o 떤 미비 에 20</th></thead><tr><td rowspan=\"3\">o 랙\n",
      "주 0 - 페오 때 0 듬 히</td><td>= ol 80 ok _ |2 =g 00 | 8 T | .o | @ 이얼 | 해 애정 오 에 o — R | 트 - 엄히 ㅎ | 을 | |\n",
      "더 4010 | | Mm b</td><td>Ko 10 어리</td><td></td><td></td></tr><tr><td></td><td>헌 o 는 이 4 해 &amp;~ H T\n",
      "후 ¥ &amp; 원 귀 T Mmoo ol oy o 매일 o 꼬 90 ol ㅡ 얘 페 더 등기 더 MmET 께 때 wHS 중 (FE o © m i</td><td>10\n",
      "8l</td><td>b2 ) &lt;</td><td>T 원 ™ ol 마 20 더</td></tr><tr><td></td><td>ol N _ ol 해군 D ㅋ 이를 - Fra|\n",
      "&amp; 채 얘 = 이게 A Xy _Mn_ mEH g | 0 ~ R 어젠 L | w o o = 아 이 호 브 | 압 퍼 흐리 | TOHES | 누 조 0 더 때 | 때 리 는 6\n",
      "| (종중 안다 | o o o o</td><td>— Ko Koo Kio ™ = 81818 1</td><td>끼 꼬 꼬꼬 인 | 10 © O OV &lt; 근\n",
      "고고고</td><td>o o 깨 20</td></tr><tr><td>얘 i o 때 ™ 3l 베</td><td>Klo or 80 o X o4 U 호 해 800 내 . oz _ 꺼\n",
      "ol ~ 빈 명 은 &lt; 베 가 께 B0 oy o R 구도 o &lt; 나 ogrTABou KT . 쥐 o | HooPa@ Dl S AT g 폭 레 레미 시리즈\n",
      "WwXXTTHNIT | 버 버 버 판 바 아 | B o o o o o o</td><td>mw T KO o 고 2 개 Ko 고 Ko 한 한 mE Ty s % I W\n",
      "-</td><td>DEWE . 인 | | for ol oy © 는 o © ©v © 는 s - - - -</td><td>%0 &amp; 얘 덕</td></tr><tr><td>5 o\n",
      "95 PR ㅁ</td><td>OH 헌 에 인 Y OH 녁 oir 때 = = HooR 「 ㅁ i M| 이 ) 0 o Ko o i - R 패고 o = 30 %0 e ooy B g £\n",
      "X 부 교 능 그녀 하 짐 이 홍 패 et KR | 에 포메 가옥 태 때, D5 . 띠 더 을 제 그 - B o \"7 o o</td><td>Ko Ko w7 Ko 85\n",
      "이지</td><td>mm o mom 히피 00 0 1ol 우우 우우 - - - &lt;</td><td>o 3l 깨 20</td></tr><tr><td>- o 3</td><td>=\n",
      "고 5l 래 ¥ 2 m U 0 &amp;l 뽀 해 = M S 은 애 한 A5 &amp; 이! 더 | 때 꼼 에 | WA | gt NI B o @</td><td>s ol 띠 10\n",
      "30</td><td>g ¥ or = | 호흡 —</td><td>%0 = 매 덕</td></tr></table>', 'filetype': 'application/pdf',\n",
      "'languages': ['kor', 'eng'], 'page_number': 6, 'file_directory': './data/complex_pdf', 'filename':\n",
      "'school_edu_guide.pdf', 'category': 'Table', 'origin_table': '구현중점 교육활동 시기 대상 관련부서 331. 교육정보화 지원확대 및\n",
      "학습 준비 철저 ◦컴퓨터실 정비 및 각종 교육 S/W 구비 ◦방송실의 효율적 운영 ◦학습준비물의 효율적인 선정 및 구입 7, 2월 연중 연중 1~6학년 생활인권 31. 디지털 시민\n",
      "역량 강화 332. 학교홈페이지 및 알리미 체제 운영 ◦학교홈페이지 구성 및 활성화 ◦하이클래스를 활용한 교육 주체 간 소통 연중 1~6학년 생활인권 교무기획 333. 에듀테크교육\n",
      "및 정보통신 윤리교육의 강화 ◦에듀테크교육 환경 구축 ◦개인정보 보호 활성화 및 저작권 교육 강화 ◦SW 교육(미래체험) 프로그램 체험 기회확대 ◦디지털 시민교육(코딩교실 운영)\n",
      "연중 연중 연중 2학기 1~6학년 1~6학년 1~6학년 1~4학년 생활인권 231. 독서교육의 활성화 ◦교육과정 재구성을 통한 온책읽기 연중 1~6학년 교육과정 ◦질문과 토론이\n",
      "있는 독서토론교육 운영 연중 1~6학년 32. 232. 독서인문교육을 돕는 도서관 운영 독서인문교육 ◦도서관 운영 계획 수립 3월 1~6학년 ◦도서관 활용 수업 활성화 및 도서\n",
      "확충 연중 1~6학년 ◦독서 교실 운영 방학중 1~6학년 교육과정 ◦학생 참여의 독서 행사 운영 연중 1~6학년 ◦독서인문교실-작가와의 만남 5-6학년 11월 ◦미디어리터러시 교육\n",
      "1-6학년 1회 331. 꿈을 키우는 학생 맞춤형 진로교육 강화 ◦진로체험교실 운영 ◦교과 및 창의체험 활동을 통한 진로교육 운 영 연중 연중 1~6학년 1~6학년 생활인권 33.\n",
      "◦학년 수준에 맞는 진로탐색 프로그램 운영 ◦사이버 진로교육 운영-커리어넷 2회 연중 1~6학년 4~6학년 다양한 진로 교육 실시 332. 진로연계교육 실시 ◦1-2학년은\n",
      "성장이음과정 실시 ◦3학년은 교과목 설명 및 전담과목 및 안내 학년초 학년초 1-2학년 3학년 교육과정', 'family_tree': 'parent_table',\n",
      "'parent_id': 'NA', 'id': '31a7842d-17a9-41bb-b4e6-8c3fdeeddd6d'}\n",
      "\n",
      "-----------------------------------------------\n",
      "5. Category: Image, Chunk: 149 Characters\n",
      "-----------------------------------------------\n"
     ]
    },
    {
     "data": {
      "image/png": "[encoded data removed]",
      "text/plain": [
       "<Figure size 640x480 with 1 Axes>"
      ]
     },
     "metadata": {},
     "output_type": "display_data"
    },
    {
     "name": "stdout",
     "output_type": "stream",
     "text": [
      "이 이미지는 학교생활에서 일어날 수 있는 세 가지 역할 즉, 학생상, 교사상, 학부모상을 설명하고 있습니다. 각 역할이 수행해야 할 바람직한 행동들을 열거하고 있으며, 궁극적으로\n",
      "이 세 가지 역할이 잘 어우러져 좋은 배움의 열매를 맺는 것이 목표라는 것을 보여줍니다.\n",
      "metadata:\n",
      " {'img_path': './fig/figure-3-21.jpg', 'category': 'Image', 'image_base64': '', 'family_tree':\n",
      "'parent_image', 'parent_id': 'NA', 'id': 'f7042aaf-9bae-4135-a374-7dc78b666c05', 'origin_image': ''}\n",
      "\n",
      "-----------------------------------------------\n",
      "6. Category: CompositeElement, Chunk: 699 Characters\n",
      "-----------------------------------------------\n",
      "‧ 창의적 체험활동의 영역별 활동내용, 평가방법 및 기준은 교육과정을 근 - 9 - □5 선행교육 예방 (공교육정상화법) 교사 우○주 ❍ 선행교육 -「초‧중등교육법」제23조제2항에\n",
      "따라 교육부장관이 정한 초․중등학교 교육과정(국가교육과정) 및 교육감이 정한 초․중등학교 교육과정(시․도교육과정), 「초‧중등교육법」제23조제1항에 근거하여 편성․운영되는 단위학교\n",
      "교육과정(학교 교육과정) 국가교육과정-시․도교육과정-학교 교육과정에 앞서서 편성 또는 제공하는 교육 일반 ❍ 선행학습 - 학습자가 국가교육과정, 시․도교육과정, 학교 교육과정에\n",
      "앞서서 하는 학습 1. 추진 근거 및 목적 L RIS 가. 근거 Ÿ 「공교육 정상화 촉진 및 선행교육 규제에 관한 특별법」(공교육정상화법) Ÿ 2024년 선행학습 유발 관행 근절\n",
      "사업 추진계획(교육부 기초학력진로교육과-379, 2024.1.31.) = [9 = < [aN] & - % 5 = 해 때 R 제 0 | 버 과 E 제 o 99 = = B 회 - 0\n",
      "0 80 MR Q0w 나. 목적 Ÿ 학교의 정상적인 교육과정 운영을 위한 여건 조성 및 공교육 정상화 실현 Ÿ 선행교육과 선행학습 유발 관행 근절을 위한 학생, 교원, 학부모 인식\n",
      "개선 연수 및 홍보 강화 0\" 3l om0 음미 Ÿ 교육과정 편성 운영 및 선행출제 점검·컨설팅을 통해 학생의 발달단계에 맞는 교육 실시 2. 추진 계획 가. 연수 추진 계획\n",
      "metadata:\n",
      " {'source': './data/complex_pdf/school_edu_guide.pdf', 'filetype': 'application/pdf', 'languages':\n",
      "['kor', 'eng'], 'last_modified': '2024-04-04T01:39:24', 'page_number': 11, 'file_directory':\n",
      "'./data/complex_pdf', 'filename': 'school_edu_guide.pdf', 'category': 'CompositeElement',\n",
      "'family_tree': 'child', 'parent_id': '7d9d2ff0-d190-4356-bbbe-fbdbd44bfceb', 'id':\n",
      "'22312bd2-8521-4168-93d8-761a1c714eb9'}\n",
      "\n",
      "-----------------------------------------------\n",
      "7. Category: CompositeElement, Chunk: 835 Characters\n",
      "-----------------------------------------------\n",
      "상록수(3H) 중점 교육활동 수(秀),Head 록(綠),Health 상(常), Heart 중점 교육 소통하는 공동체 하나되는 세계시민교육 나눔, 배려, 함께하는 감성이 자라는\n",
      "예술교육 디지털 시민 역량 강화 독서인문교육 놀이와 쉼이 있는 교육 디양한 진로 교육 운영 체험중심 생태환경교육 인성교육 수(秀),Head 록(綠),Health 상(常),\n",
      "Heart 소통하는 공동체 하나되는 세계시민교육 나눔, 배려, 함께하는 감성이 자라는 예술교육 디지털 시민 역량 강화 독서인문교육 놀이와 쉼이 있는 교육 디양한 진로 교육 운영\n",
      "체험중심 생태환경교육 인성교육 수(秀),Head 록(綠),Health 상(常), Heart 소통하는 공동체 하나되는 세계시민교육 나눔, 배려, 함께하는 감성이 자라는 예술교육\n",
      "디지털 시민 역량 강화 독서인문교육 놀이와 쉼이 있는 교육 디양한 진로 교육 운영 체험중심 생태환경교육 인성교육 수(秀),Head 록(綠),Health 상(常), Heart\n",
      "소통하는 공동체 하나되는 세계시민교육 나눔, 배려, 함께하는 감성이 자라는 예술교육 디지털 시민 역량 강화 독서인문교육 놀이와 쉼이 있는 교육 디양한 진로 교육 운영 체험중심\n",
      "생태환경교육 인성교육 © 6) © © : © : © © , 62 62 참여와 즐거운 배움의 열기로 신나는 학교 학교상 참여와 즐거운 배움의 열기로 신나는 학교 교사상 학생상\n",
      "학부모상 큰 꿈을 키워가는 어린이 건강한 인성 감성을 가진 어린이 미래를 키워주는 교사 사랑과 열정으로 가르치는 교사 신뢰받는 교사 참여하는 학부모 믿음을 갖는 학부모 학교상\n",
      "교사상 학생상 학부모상 1 - 상(常) 1. 바른 인성으로 존중과 나눔을 실천하는 자주적인 어린이\n",
      "metadata:\n",
      " {'source': './data/complex_pdf/school_edu_guide.pdf', 'filetype': 'application/pdf', 'languages':\n",
      "['kor', 'eng'], 'last_modified': '2024-04-04T01:39:24', 'page_number': 3, 'file_directory':\n",
      "'./data/complex_pdf', 'filename': 'school_edu_guide.pdf', 'category': 'CompositeElement',\n",
      "'family_tree': 'parent', 'parent_id': None, 'id': '1eaedb8d-84a9-4d21-b58c-8449b0445fa4'}\n",
      "\n",
      "-----------------------------------------------\n",
      "8. Category: CompositeElement, Chunk: 1052 Characters\n",
      "-----------------------------------------------\n",
      "결 석 계 2. 질병 이외의 결석 또는 출석인정 결석인 경우 ① 1~2일: [경조사] 결석계와 담임교사확인서 + 청첩장·부고장(문자, 카톡 포함), 사망신고서 중 1부 [미인정\n",
      "결석 및 기타 결석] 결석계와 담임교사확인서 ② 경조사로 인한 출석인정 결석 3일 이상: 결석계와 담임교사확인서 + 사망신고서(사본 가능) ③ 경조사 이외 출석인정 결석: 결석계와\n",
      "담임교사확인서 + 증빙서류 ④ ‘①~③’ 에 해당되지 않는 결석 3일 이상: 결석계와 담임교사확인서 + 학부모확인서 ※ 학교장허가교외체험학습은 별도의 체험학습 신청서와 보고서 제출\n",
      "------------------------------------ 교사 작성 -------------------------------------- 담임교사 확인서 1. 해당 결석\n",
      "및 사유 □ 질병 결석 □ 미인정 결석 □ 출석인정 결석 □ 기타 결석 사 유 2. 확인 방법 □하이톡 확인 □하이콜 확인 □가정방문 □학부형 내교 □기 타 ( ) 3. 비 고 :\n",
      "202 년 월 일 담임교사 : (인) - 8 - □4 학생평가-학습으로의 평가 교사 우○주 1. 학습으로서의 평가의 특징 학습으로서의 평가는 학습 과정과 결과에 대해 학생 스스로\n",
      "성찰하고, 자기 주도적인 학습 경험을 통해 학습 내용을 실생활 맥락의 문제 해결에 적용할 수 있는 역량을 키우는 평가 2. 방침 가. 학생의 삶과 연계한 교육과정, 수업, 평가의\n",
      "운영으로 학생 개개인의 삶의 역량을 키운다. 나. 학생의 학습 수준을 확인하고 결과만이 아니라 결과에 이르기까지의 학습과정을 중시한다. 다. 학생의 학습 과정과 결과에 대한 맞춤형\n",
      "피드백을 제공하여 학생의 학습을 지원한다. 라. 평가의 목표를 학생에게 미리 안내(매 학기 초 사전 안내)하여 학습 과정에서 학생이 주도적으로 자신의 학습과정을 성찰하고, 스스로\n",
      "조정할 수 있도록 한다. 마. 학습한 지식과 기능을 바탕으로 종합하여 판단하거나 새로운 변화를 만들어 낼 수 있는지를 평가한다. 바. 학습과 평가의 과정에서 얻은 경험을 바탕으로\n",
      "실생활 맥락 속의 문제를 해결 할 수 있는 역량을 함양할 수 있도록 한다. 3. 추진내용\n",
      "metadata:\n",
      " {'source': './data/complex_pdf/school_edu_guide.pdf', 'filetype': 'application/pdf', 'languages':\n",
      "['kor', 'eng'], 'last_modified': '2024-04-04T01:39:24', 'page_number': 10, 'file_directory':\n",
      "'./data/complex_pdf', 'filename': 'school_edu_guide.pdf', 'category': 'CompositeElement',\n",
      "'family_tree': 'parent', 'parent_id': None, 'id': 'c2324ffc-6c56-43dd-bd56-f8ecac0dc26c'}\n",
      "\n",
      "-----------------------------------------------\n",
      "9. Category: CompositeElement, Chunk: 976 Characters\n",
      "-----------------------------------------------\n",
      "결 석 계 2. 질병 이외의 결석 또는 출석인정 결석인 경우 ① 1~2일: [경조사] 결석계와 담임교사확인서 + 청첩장·부고장(문자, 카톡 포함), 사망신고서 중 1부 [미인정\n",
      "결석 및 기타 결석] 결석계와 담임교사확인서 ② 경조사로 인한 출석인정 결석 3일 이상: 결석계와 담임교사확인서 + 사망신고서(사본 가능) ③ 경조사 이외 출석인정 결석: 결석계와\n",
      "담임교사확인서 + 증빙서류 ④ ‘①~③’ 에 해당되지 않는 결석 3일 이상: 결석계와 담임교사확인서 + 학부모확인서 ※ 학교장허가교외체험학습은 별도의 체험학습 신청서와 보고서 제출\n",
      "------------------------------------ 교사 작성 -------------------------------------- 담임교사 확인서 1. 해당 결석\n",
      "및 사유 □ 질병 결석 □ 미인정 결석 □ 출석인정 결석 □ 기타 결석 사 유 2. 확인 방법 □하이톡 확인 □하이콜 확인 □가정방문 □학부형 내교 □기 타 ( ) 3. 비 고 :\n",
      "202 년 월 일 담임교사 : (인) - 8 - □4 학생평가-학습으로의 평가 교사 우○주 1. 학습으로서의 평가의 특징 학습으로서의 평가는 학습 과정과 결과에 대해 학생 스스로\n",
      "성찰하고, 자기 주도적인 학습 경험을 통해 학습 내용을 실생활 맥락의 문제 해결에 적용할 수 있는 역량을 키우는 평가 2. 방침 가. 학생의 삶과 연계한 교육과정, 수업, 평가의\n",
      "운영으로 학생 개개인의 삶의 역량을 키운다. 나. 학생의 학습 수준을 확인하고 결과만이 아니라 결과에 이르기까지의 학습과정을 중시한다. 다. 학생의 학습 과정과 결과에 대한 맞춤형\n",
      "피드백을 제공하여 학생의 학습을 지원한다. 라. 평가의 목표를 학생에게 미리 안내(매 학기 초 사전 안내)하여 학습 과정에서 학생이 주도적으로 자신의 학습과정을 성찰하고, 스스로\n",
      "조정할 수 있도록 한다. 마. 학습한 지식과 기능을 바탕으로 종합하여 판단하거나 새로운 변화를 만들어 낼 수 있는지를 평가한다. 바\n",
      "metadata:\n",
      " {'source': './data/complex_pdf/school_edu_guide.pdf', 'filetype': 'application/pdf', 'languages':\n",
      "['kor', 'eng'], 'last_modified': '2024-04-04T01:39:24', 'page_number': 10, 'file_directory':\n",
      "'./data/complex_pdf', 'filename': 'school_edu_guide.pdf', 'category': 'CompositeElement',\n",
      "'family_tree': 'child', 'parent_id': 'c2324ffc-6c56-43dd-bd56-f8ecac0dc26c', 'id':\n",
      "'058221ff-47ce-4e3a-842a-7d8bd3c60213'}\n",
      "\n",
      "-----------------------------------------------\n",
      "10. Category: CompositeElement, Chunk: 732 Characters\n",
      "-----------------------------------------------\n",
      "2. 교육활동 침해행위 조치 가. 안산교육지원청 안산교권보호센터에서 심의·의결 또는 분쟁조정 나. 침해 학생에 대한 조치 (교원지위법 제25조) ① 학교에서의 봉사 ② 사회봉사 ③\n",
      "학내외 전문가에 의한 특별교육 이수 또는 심리치료 ④ 출석정지 ⑤ 학급교체 ⑥ 전학 ⑦ 퇴학처분(의무교육대상자 미적용) 다. 침해 보호자 등에 대한 조치(교원지위법 제26조)\n",
      "2023.9.27. 신설 ① 서면사과 및 재발방지 서약 ② 교육감이 정하는 기관에서의 특별교육 이수 또는 심리치료 4) 피해교원 보호조치 중 보호조치 비용 (교원지위법 제20조\n",
      "제5항, 2023.9.27. 신설) y ① 침해행위를 한 학생의 보호자 등이 부담하는 것이 원칙 ② 교원이 도교육청에 치료비 등을 선지급 요청할 경우 도교육청은 비용을 부담한 후\n",
      "침해자에게 구상권을 행사할 수 있음. Ⅲ. 가정에서의 교육활동 침해행위 예방교육 1. 가정교육의 중요성 인식하기: 가정교육은 학교교육의 성패에 중요한 영향을 미치며, 가정교육이\n",
      "튼튼하지 못하면 학교교육이 위험해질 수 있습니다. 학교교육을 통해서 얻을 수 있는 인성교육이나 생활습관 개선, 관계성 교육 등은 가정교육을 통해 내면화하는 것이 필요합니다. 2.\n",
      "교원과 학부모의 관계 재정립하기: 학부모와 학생이 교원과 학교를 신뢰할수록 학생의 전인적 성장이 가속됩니다. 교원의 교육활동을 존중하면 학생의 학습권과 학부모의 교육권이 함께\n",
      "존중되는 바람직한 상호관계가 조성될 수 있습니다. - 41 - .-\n",
      "metadata:\n",
      " {'source': './data/complex_pdf/school_edu_guide.pdf', 'filetype': 'application/pdf', 'languages':\n",
      "['kor', 'eng'], 'last_modified': '2024-04-04T01:39:24', 'page_number': 43, 'file_directory':\n",
      "'./data/complex_pdf', 'filename': 'school_edu_guide.pdf', 'category': 'CompositeElement',\n",
      "'family_tree': 'parent', 'parent_id': None, 'id': 'db23cc97-369f-40e5-b880-9b8d04015fd3'}\n"
     ]
    }
   ],
   "source": [
    "query = \"중지된 경우 이체\"\n",
    "search_hybrid_result = opensearch_hybrid_retriever.get_relevant_documents(query)\n",
    "\n",
    "print(\"\\n==========  Results  ==========\\n\")\n",
    "print(f'1. question: {query}')\n",
    "print(f'2. # documents: {len(search_hybrid_result)}')\n",
    "print(\"3. Documents: \\n\")\n",
    "\n",
    "show_context_used(search_hybrid_result)"
   ]
  },
  {
   "cell_type": "markdown",
   "id": "a981abe7-5208-48f5-a9cc-8c557e9941ca",
   "metadata": {},
   "source": [
    "## 5. RAG using RetrievalQA powered by LangChain"
   ]
  },
  {
   "cell_type": "code",
   "execution_count": 42,
   "id": "08cf6d2b-451b-499c-aec2-bb6f5abafbb0",
   "metadata": {
    "tags": []
   },
   "outputs": [],
   "source": [
    "from utils.rag import prompt_repo"
   ]
  },
  {
   "cell_type": "markdown",
   "id": "b490df1f-8113-4dd1-a578-a3e1a6918fde",
   "metadata": {
    "tags": []
   },
   "source": [
    "### Prompting\n",
    "- [TIP] Prompt의 instruction의 경우 한글보다 영어로 했을 때 더 좋은 결과를 얻을 수 있습니다."
   ]
  },
  {
   "cell_type": "code",
   "execution_count": 43,
   "id": "73a0cf9e-7a9a-4eb4-bf87-7282e5587fb3",
   "metadata": {
    "tags": []
   },
   "outputs": [
    {
     "name": "stdout",
     "output_type": "stream",
     "text": [
      "('\\n'\n",
      " '                        You are a master answer bot designed to answer '\n",
      " \"user's questions.\\n\"\n",
      " \"                        I'm going to give you contexts which consist of \"\n",
      " 'texts, tables and images.\\n'\n",
      " \"                        Read the contexts carefully, because I'm going to \"\n",
      " 'ask you a question about it.\\n'\n",
      " '                        ')\n"
     ]
    }
   ],
   "source": [
    "system_prompt = prompt_repo.get_system_prompt()\n",
    "pprint (system_prompt)"
   ]
  },
  {
   "cell_type": "markdown",
   "id": "c66157a6-aec8-4555-a90f-1178e6f4f6e0",
   "metadata": {},
   "source": [
    "### Update Search Params (Optional)"
   ]
  },
  {
   "cell_type": "code",
   "execution_count": 44,
   "id": "758d19e0-03c5-4996-b783-a9dd3f40cf8d",
   "metadata": {
    "tags": []
   },
   "outputs": [],
   "source": [
    "from utils.rag import qa_chain\n",
    "from langchain.schema.output_parser import StrOutputParser"
   ]
  },
  {
   "cell_type": "code",
   "execution_count": 53,
   "id": "d2697230-6962-43d8-8917-ba9daa4295bb",
   "metadata": {
    "tags": []
   },
   "outputs": [],
   "source": [
    "opensearch_hybrid_retriever.update_search_params(\n",
    "    k=5,\n",
    "    minimum_should_match=0,\n",
    "    filter=[],\n",
    "    reranker=True,\n",
    "    reranker_endpoint_name=endpoint_name,\n",
    "    rag_fusion=True, # enable rag_fusion\n",
    "    query_augmentation_size=2, # query_augmentation_size in rag_fusion\n",
    "    llm_text=llm_text, # llm for query augmentation in rag_fusion\n",
    "    \n",
    "    # option for complex documents consisting of text, table and image\n",
    "    complex_doc=False, # False 이면, invocation시 text만 넣는다.\n",
    "    \n",
    "    async_mode=True,\n",
    "    verbose=True\n",
    ")"
   ]
  },
  {
   "cell_type": "markdown",
   "id": "aee26c22-b674-4f4f-a87b-29508e336fda",
   "metadata": {},
   "source": [
    "### Request"
   ]
  },
  {
   "cell_type": "code",
   "execution_count": 54,
   "id": "95fa61d3-9256-432a-96a3-2c696c97ea68",
   "metadata": {
    "tags": []
   },
   "outputs": [],
   "source": [
    "qa = qa_chain(\n",
    "    llm_text=llm_text,\n",
    "    retriever=opensearch_hybrid_retriever,\n",
    "    system_prompt=system_prompt,\n",
    "    return_context=True,\n",
    "    verbose=False\n",
    ")"
   ]
  },
  {
   "cell_type": "code",
   "execution_count": 55,
   "id": "390ad324-40b3-4bcb-92b9-50eb080492a5",
   "metadata": {
    "collapsed": true,
    "jupyter": {
     "outputs_hidden": true
    },
    "tags": []
   },
   "outputs": [
    {
     "name": "stdout",
     "output_type": "stream",
     "text": [
      "\n",
      "[Exeeds ReRanker token limit] Number of chunk_docs after split and chunking= 2\n",
      "\n",
      "\n",
      "[Exeeds ReRanker token limit] Number of chunk_docs after split and chunking= 1\n",
      "\n",
      "\n",
      "[Exeeds ReRanker token limit] Number of chunk_docs after split and chunking= 2\n",
      "\n",
      "##############################\n",
      "async_mode\n",
      "##############################\n",
      "True\n",
      "##############################\n",
      "reranker\n",
      "##############################\n",
      "True\n",
      "##############################\n",
      "rag_fusion\n",
      "##############################\n",
      "True\n",
      "##############################\n",
      "HyDE\n",
      "##############################\n",
      "False\n",
      "##############################\n",
      "parent_document\n",
      "##############################\n",
      "False\n",
      "##############################\n",
      "complex_document\n",
      "##############################\n",
      "False\n",
      "##############################\n",
      "similar_docs_semantic\n",
      "##############################\n",
      "\n",
      "Score: 0.03150322646290388\n",
      "['‧ 창의적 체험활동의 영역별 활동내용, 평가방법 및 기준은 교육과정을 근 - 9 - □5 선행교육 예방 (공교육정상화법) 교사 우○주 ❍ 선행교육 -「초‧중등교육법」제23조제2항에 따라 교육부장관이 정한 초․중등학교 교육과정(국가교육과정) 및 교육감이 정한 초․중등학교 교육과정(시․도교육과정), 「초‧중등교육법」제23조제1항에 근거하여 편성․운영되는 단위학교 교육과정(학교 교육과정) 국가교육과정-시․도교육과정-학교 교육과정에 앞서서 편성 또는 제공하는 교육 일반 ❍ 선행학습 - 학습자가 국가교육과정, 시․도교육과정, 학교 교육과정에 앞서서 하는 학습 1. 추진 근거 및 목적 L RIS 가. 근거 Ÿ 「공교육 정상화 촉진 및 선행교육 규제에 관한 특별법」(공교육정상화법) Ÿ 2024년 선행학습 유발 관행 근절 사업 추진계획(교육부 기초학력진로교육과-379, 2024.1.31.) = [9 = < [aN] & - % 5 = 해 때 R 제 0 | 버 과 E 제 o 99 = = B 회 - 0 0 80 MR Q0w 나. 목적 Ÿ 학교의 정상적인 교육과정 운영을 위한 여건 조성 및 공교육 정상화 실현 Ÿ 선행교육과 선행학습 유발 관행 근절을 위한 학생, 교원, 학부모 인식 개선 연수 및 홍보 강화 0\" 3l om0 음미 Ÿ 교육과정 편성 운영 및 선행출제 점검·컨설팅을 통해 학생의 발달단계에 맞는 교육 실시 2. 추진 계획 가. 연수 추진 계획']\n",
      "{'source': './data/complex_pdf/school_edu_guide.pdf', 'filetype': 'application/pdf', 'languages': ['kor', 'eng'], 'last_modified': '2024-04-04T01:39:24', 'page_number': 11, 'file_directory': './data/complex_pdf', 'filename': 'school_edu_guide.pdf', 'category': 'CompositeElement', 'family_tree': 'child', 'parent_id': '7d9d2ff0-d190-4356-bbbe-fbdbd44bfceb', 'id': '22312bd2-8521-4168-93d8-761a1c714eb9'}\n",
      "\n",
      "Score: 0.01605716687683901\n",
      "['. 나. 학생의 학습 수준을 확인하고 결과만이 아니라 결과에 이르기까지의 학습과정을 중시한다. 다. 학생의 학습 과정과 결과에 대한 맞춤형 피드백을 제공하여 학생의 학습을 지원한다. 라. 평가의 목표를 학생에게 미리 안내(매 학기 초 사전 안내)하여 학습 과정에서 학생이 주도적으로 자신의 학습과정을 성찰하고, 스스로 조정할 수 있도록 한다. 마. 학습한 지식과 기능을 바탕으로 종합하여 판단하거나 새로운 변화를 만들어 낼 수 있는지를 평가한다. 바. 학습과 평가의 과정에서 얻은 경험을 바탕으로 실생활 맥락 속의 문제를 해결 할 수 있는 역량을 함양할 수 있도록 한다. 3. 추진내용']\n",
      "{'source': './data/complex_pdf/school_edu_guide.pdf', 'filetype': 'application/pdf', 'languages': ['kor', 'eng'], 'last_modified': '2024-04-04T01:39:24', 'page_number': 10, 'file_directory': './data/complex_pdf', 'filename': 'school_edu_guide.pdf', 'category': 'CompositeElement', 'family_tree': 'child', 'parent_id': 'c2324ffc-6c56-43dd-bd56-f8ecac0dc26c', 'id': '6ee009ee-7664-41ea-b0d7-a980bd164f6e'}\n",
      "\n",
      "Score: 0.015969030088543574\n",
      "['주어진 이미지는 11종의 소통하는 교육, 12종의 안전한 세계시민 교육, 13종의 나눔, 배려, 협력하는 인성교육에 대한 구체적인 교육활동과 시기, 대상, 관련부서를 설명하는 표입니다. 각 교육활동 유형별로 세부 내용과 기간, 대상 학년, 담당부서가 정리되어 있어 체계적으로 교육 계획을 파악할 수 있습니다.']\n",
      "{'img_path': './fig/table-1-resize.jpg', 'category': 'Image', 'image_base64': '', 'family_tree': 'parent_image', 'parent_id': 'NA', 'id': 'f75d2013-0f6a-4dd8-83ec-6162ad2a745d'}\n",
      "\n",
      "Score: 0.015635182469859888\n",
      "['이 이미지는 교육 과정과 관련된 표를 보여주고 있습니다. 표에는 다양한 과목들과 그에 따른 수강 시기, 대상, 관련부서 등의 정보가 구체적으로 제시되어 있습니다. 과목들은 크게 디지털 시대 역량 강화, 특성화 교육, 다양한 진로 교육 영역으로 분류되어 있습니다. 전반적으로 교육 과정에 대한 체계적인 안내를 제공하는 표로 보입니다.']\n",
      "{'img_path': './fig/table-3-resize.jpg', 'category': 'Image', 'image_base64': '', 'family_tree': 'parent_image', 'parent_id': 'NA', 'id': '246800fe-08d0-47e7-a91c-f45c100554cd'}\n",
      "\n",
      "Score: 0.010025629428614503\n",
      "['이 표는 학교에서 실시하는 교육 활동 계획을 보여주고 있습니다. 주요 내용은 디지털 시민 역량 강화를 위한 교육정보화 지원 및 정보통신윤리교육, 독서 및 독서인문교육 활성화를 위한 도서관 운영 및 독서행사, 진로교육 강화를 위한 진로체험 및 탐색 프로그램 등입니다. 각 활동의 시기, 대상 학년, 관련 부서 등의 정보가 상세히 제시되어 있습니다.']\n",
      "{'source': './data/complex_pdf/school_edu_guide.pdf', 'detection_class_prob': 0.8930906653404236, 'coordinates': {'points': [[155.992431640625, 390.875244140625], [155.992431640625, 2049.864013671875], [1519.5548095703125, 2049.864013671875], [1519.5548095703125, 390.875244140625]], 'system': 'PixelSpace', 'layout_width': 1653, 'layout_height': 2337}, 'last_modified': '2024-04-04T01:39:24', 'text_as_html': '<table><thead><th>0 Ko = 384 -</th><th>호 A 고 — T 까 Kk : g5 Mo 배 | 해 더 ) =W O | 홀 읍 메트 더] 뿌 헤 R _ R 허그 oy RATT wTAKR 덕 부 SRR o0 o</th><th>= offl N 에 S &lt; -</th><th>20 대 = [t} O &lt;</th><th>꼭 i = o 떤 미비 에 20</th></thead><tr><td rowspan=\"3\">o 랙 주 0 - 페오 때 0 듬 히</td><td>= ol 80 ok _ |2 =g 00 | 8 T | .o | @ 이얼 | 해 애정 오 에 o — R | 트 - 엄히 ㅎ | 을 | | 더 4010 | | Mm b</td><td>Ko 10 어리</td><td></td><td></td></tr><tr><td></td><td>헌 o 는 이 4 해 &amp;~ H T 후 ¥ &amp; 원 귀 T Mmoo ol oy o 매일 o 꼬 90 ol ㅡ 얘 페 더 등기 더 MmET 께 때 wHS 중 (FE o © m i</td><td>10 8l</td><td>b2 ) &lt;</td><td>T 원 ™ ol 마 20 더</td></tr><tr><td></td><td>ol N _ ol 해군 D ㅋ 이를 - Fra| &amp; 채 얘 = 이게 A Xy _Mn_ mEH g | 0 ~ R 어젠 L | w o o = 아 이 호 브 | 압 퍼 흐리 | TOHES | 누 조 0 더 때 | 때 리 는 6 | (종중 안다 | o o o o</td><td>— Ko Koo Kio ™ = 81818 1</td><td>끼 꼬 꼬꼬 인 | 10 © O OV &lt; 근 고고고</td><td>o o 깨 20</td></tr><tr><td>얘 i o 때 ™ 3l 베</td><td>Klo or 80 o X o4 U 호 해 800 내 . oz _ 꺼 ol ~ 빈 명 은 &lt; 베 가 께 B0 oy o R 구도 o &lt; 나 ogrTABou KT . 쥐 o | HooPa@ Dl S AT g 폭 레 레미 시리즈 WwXXTTHNIT | 버 버 버 판 바 아 | B o o o o o o</td><td>mw T KO o 고 2 개 Ko 고 Ko 한 한 mE Ty s % I W -</td><td>DEWE . 인 | | for ol oy © 는 o © ©v © 는 s - - - -</td><td>%0 &amp; 얘 덕</td></tr><tr><td>5 o 95 PR ㅁ</td><td>OH 헌 에 인 Y OH 녁 oir 때 = = HooR 「 ㅁ i M| 이 ) 0 o Ko o i - R 패고 o = 30 %0 e ooy B g £ X 부 교 능 그녀 하 짐 이 홍 패 et KR | 에 포메 가옥 태 때, D5 . 띠 더 을 제 그 - B o \"7 o o</td><td>Ko Ko w7 Ko 85 이지</td><td>mm o mom 히피 00 0 1ol 우우 우우 - - - &lt;</td><td>o 3l 깨 20</td></tr><tr><td>- o 3</td><td>= 고 5l 래 ¥ 2 m U 0 &amp;l 뽀 해 = M S 은 애 한 A5 &amp; 이! 더 | 때 꼼 에 | WA | gt NI B o @</td><td>s ol 띠 10 30</td><td>g ¥ or = | 호흡 —</td><td>%0 = 매 덕</td></tr></table>', 'filetype': 'application/pdf', 'languages': ['kor', 'eng'], 'page_number': 6, 'file_directory': './data/complex_pdf', 'filename': 'school_edu_guide.pdf', 'category': 'Table', 'origin_table': '구현중점 교육활동 시기 대상 관련부서 331. 교육정보화 지원확대 및 학습 준비 철저 ◦컴퓨터실 정비 및 각종 교육 S/W 구비 ◦방송실의 효율적 운영 ◦학습준비물의 효율적인 선정 및 구입 7, 2월 연중 연중 1~6학년 생활인권 31. 디지털 시민 역량 강화 332. 학교홈페이지 및 알리미 체제 운영 ◦학교홈페이지 구성 및 활성화 ◦하이클래스를 활용한 교육 주체 간 소통 연중 1~6학년 생활인권 교무기획 333. 에듀테크교육 및 정보통신 윤리교육의 강화 ◦에듀테크교육 환경 구축 ◦개인정보 보호 활성화 및 저작권 교육 강화 ◦SW 교육(미래체험) 프로그램 체험 기회확대 ◦디지털 시민교육(코딩교실 운영) 연중 연중 연중 2학기 1~6학년 1~6학년 1~6학년 1~4학년 생활인권 231. 독서교육의 활성화 ◦교육과정 재구성을 통한 온책읽기 연중 1~6학년 교육과정 ◦질문과 토론이 있는 독서토론교육 운영 연중 1~6학년 32. 232. 독서인문교육을 돕는 도서관 운영 독서인문교육 ◦도서관 운영 계획 수립 3월 1~6학년 ◦도서관 활용 수업 활성화 및 도서 확충 연중 1~6학년 ◦독서 교실 운영 방학중 1~6학년 교육과정 ◦학생 참여의 독서 행사 운영 연중 1~6학년 ◦독서인문교실-작가와의 만남 5-6학년 11월 ◦미디어리터러시 교육 1-6학년 1회 331. 꿈을 키우는 학생 맞춤형 진로교육 강화 ◦진로체험교실 운영 ◦교과 및 창의체험 활동을 통한 진로교육 운 영 연중 연중 1~6학년 1~6학년 생활인권 33. ◦학년 수준에 맞는 진로탐색 프로그램 운영 ◦사이버 진로교육 운영-커리어넷 2회 연중 1~6학년 4~6학년 다양한 진로 교육 실시 332. 진로연계교육 실시 ◦1-2학년은 성장이음과정 실시 ◦3학년은 교과목 설명 및 전담과목 및 안내 학년초 학년초 1-2학년 3학년 교육과정', 'family_tree': 'parent_table', 'parent_id': 'NA', 'id': '31a7842d-17a9-41bb-b4e6-8c3fdeeddd6d'}\n",
      "\n",
      "Score: 0.009950248756218905\n",
      "['이미지는 주요 학사일정과 관련된 정보를 테이블 형식으로 정리하고 있습니다. 사전예방, 간동조정·과제회부, 사후지도 각 단계에서의 세부사항을 명시하고 있습니다. 학생의 학력, 교직임 대상 여부, 도래할 수 있는 예방활동, 이후 진행 과정 등의 내용을 담고 있어 학교 차원에서 이루어지는 절차를 이해할 수 있습니다.']\n",
      "{'img_path': './fig/table-28.jpg', 'category': 'Image', 'image_base64': '', 'family_tree': 'parent_image', 'parent_id': 'NA', 'id': '1ba932d8-4a0f-4eb7-b48b-ef4c6f676e95'}\n",
      "\n",
      "Score: 0.005291005291005291\n",
      "['이 표는 어린이 교육의 세 가지 주요 목표를 제시하고 있습니다. 첫째, 존중과 나눔을 실천하는 바른 인성을 기르는 것입니다. 둘째, 몸과 마음의 건강 및 예술 향유를 통해 문화적 소양을 기르는 것입니다. 셋째, 특기와 소질 계발을 통해 미래를 대비하는 창의성을 기르는 것입니다.']\n",
      "{'source': './data/complex_pdf/school_edu_guide.pdf', 'detection_class_prob': 0.5580280423164368, 'coordinates': {'points': [[161.56983947753906, 716.003173828125], [161.56983947753906, 966.0720825195312], [1475.974853515625, 966.0720825195312], [1475.974853515625, 716.003173828125]], 'system': 'PixelSpace', 'layout_width': 1653, 'layout_height': 2337}, 'last_modified': '2024-04-04T01:39:24', 'text_as_html': '<table><tr><td>K 뼈 4</td><td>특 기 와 소 질 을 가꾸어 미 래 를 준 비 하는 창의적인 어린이</td></tr></table>', 'filetype': 'application/pdf', 'languages': ['kor', 'eng'], 'page_number': 3, 'file_directory': './data/complex_pdf', 'filename': 'school_edu_guide.pdf', 'category': 'Table', 'origin_table': '교육 목표 바른 인성으로 존중과 나눔을 실천하는 자주적인 어린이 몸과 마음이 건강하고 예술을 향유하는 문화적인 어린이 특기와 소질을 가꾸어 미래를 준비하는 창의적인 어린이', 'family_tree': 'parent_table', 'parent_id': 'NA', 'id': '11c4619b-e219-4246-ade0-a53165ae27b5'}\n",
      "None\n",
      "##############################\n",
      "similar_docs_keyword\n",
      "##############################\n",
      "\n",
      "Score: 1.0\n",
      "['2024학년도 학 교 교 육 과 정 설 명 회 연 수 자 료 일시: 2024년 3월 20일 (수) 바른 인성, 건강한 감성, 즐거운 배움으로 미래를 가꾸는 바른 인성, 건강한 감성, 즐거운 배움으로 미래를 가꾸는 학부모 연수 순서 학부모 연수 순서 1. 상록 교육목표 및 구현계획 2. 2024학년도 학사 일정 안내 3. 출결 관련 확인 제출자료 안내 4. 학교교육평가 5. 선행교육 예방(공교육정상화법) 6. 학생 안전 교육 7. 성폭력 예방 교육 8. 흡연 및 음주 예방 교육 9. 학생 인권조례 및 교권보호 10. 방과후학교 운영 11. 초등돌봄교실(오후돌봄) 운영 12. 학부모 서비스 신청 안내 13. 정보통신윤리교육 14. 정보보안 및 개인정보보호 운영 계획 15. 불법찬조금 근절 16. 아동학대 예방 교육 17. 가정폭력 예방 교육 18. 생명 존중 및 생명 살림(자살 예방) 교육 19. 교육활동 참여자 안전교육(녹색, 학부모폴리스) 20. 학교폭력 예방 교육 21. 감염병 예방 교육 22. 청탁금지법 23. 공익제보자 보호 및 공익 신고 보상 안내 24. 존중과 배려의 교육환경 조성 예방 교육(갑질 근절) 25. 교육활동보호예방교육 1 상록 교육 목표 및 구현 계획 비전 바른 인성, 건강한 감성, 즐거운 배움으로 미래를 가꾸는 어린이']\n",
      "{'source': './data/complex_pdf/school_edu_guide.pdf', 'filetype': 'application/pdf', 'languages': ['kor', 'eng'], 'last_modified': '2024-04-04T01:39:24', 'page_number': 1, 'file_directory': './data/complex_pdf', 'filename': 'school_edu_guide.pdf', 'category': 'CompositeElement', 'family_tree': 'child', 'parent_id': 'b8a8496c-1a84-4f96-a020-167eab316664', 'id': '80881750-725e-4d08-900c-a0ca1e337c66'}\n",
      "\n",
      "Score: 0.973217291889316\n",
      "['2024학년도 학 교 교 육 과 정 설 명 회 연 수 자 료 일시: 2024년 3월 20일 (수) 바른 인성, 건강한 감성, 즐거운 배움으로 미래를 가꾸는 바른 인성, 건강한 감성, 즐거운 배움으로 미래를 가꾸는 학부모 연수 순서 학부모 연수 순서 1. 상록 교육목표 및 구현계획 2. 2024학년도 학사 일정 안내 3. 출결 관련 확인 제출자료 안내 4. 학교교육평가 5. 선행교육 예방(공교육정상화법) 6. 학생 안전 교육 7. 성폭력 예방 교육 8. 흡연 및 음주 예방 교육 9. 학생 인권조례 및 교권보호 10. 방과후학교 운영 11. 초등돌봄교실(오후돌봄) 운영 12. 학부모 서비스 신청 안내 13. 정보통신윤리교육 14. 정보보안 및 개인정보보호 운영 계획 15. 불법찬조금 근절 16. 아동학대 예방 교육 17. 가정폭력 예방 교육 18. 생명 존중 및 생명 살림(자살 예방) 교육 19. 교육활동 참여자 안전교육(녹색, 학부모폴리스) 20. 학교폭력 예방 교육 21. 감염병 예방 교육 22. 청탁금지법 23. 공익제보자 보호 및 공익 신고 보상 안내 24. 존중과 배려의 교육환경 조성 예방 교육(갑질 근절) 25. 교육활동보호예방교육 1 상록 교육 목표 및 구현 계획 비전 바른 인성, 건강한 감성, 즐거운 배움으로 미래를 가꾸는 어린이']\n",
      "{'source': './data/complex_pdf/school_edu_guide.pdf', 'filetype': 'application/pdf', 'languages': ['kor', 'eng'], 'last_modified': '2024-04-04T01:39:24', 'page_number': 1, 'file_directory': './data/complex_pdf', 'filename': 'school_edu_guide.pdf', 'category': 'CompositeElement', 'family_tree': 'parent', 'parent_id': None, 'id': 'b8a8496c-1a84-4f96-a020-167eab316664'}\n",
      "\n",
      "Score: 0.8793743124731145\n",
      "['이 표는 어린이 교육의 세 가지 주요 목표를 제시하고 있습니다. 첫째, 존중과 나눔을 실천하는 바른 인성을 기르는 것입니다. 둘째, 몸과 마음의 건강 및 예술 향유를 통해 문화적 소양을 기르는 것입니다. 셋째, 특기와 소질 계발을 통해 미래를 대비하는 창의성을 기르는 것입니다.']\n",
      "{'source': './data/complex_pdf/school_edu_guide.pdf', 'detection_class_prob': 0.5580280423164368, 'coordinates': {'points': [[161.56983947753906, 716.003173828125], [161.56983947753906, 966.0720825195312], [1475.974853515625, 966.0720825195312], [1475.974853515625, 716.003173828125]], 'system': 'PixelSpace', 'layout_width': 1653, 'layout_height': 2337}, 'last_modified': '2024-04-04T01:39:24', 'text_as_html': '<table><tr><td>K 뼈 4</td><td>특 기 와 소 질 을 가꾸어 미 래 를 준 비 하는 창의적인 어린이</td></tr></table>', 'filetype': 'application/pdf', 'languages': ['kor', 'eng'], 'page_number': 3, 'file_directory': './data/complex_pdf', 'filename': 'school_edu_guide.pdf', 'category': 'Table', 'origin_table': '교육 목표 바른 인성으로 존중과 나눔을 실천하는 자주적인 어린이 몸과 마음이 건강하고 예술을 향유하는 문화적인 어린이 특기와 소질을 가꾸어 미래를 준비하는 창의적인 어린이', 'family_tree': 'parent_table', 'parent_id': 'NA', 'id': '11c4619b-e219-4246-ade0-a53165ae27b5'}\n",
      "\n",
      "Score: 0.754749566354497\n",
      "['이 이미지는 학교생활에서 일어날 수 있는 세 가지 역할 즉, 학생상, 교사상, 학부모상을 설명하고 있습니다. 각 역할이 수행해야 할 바람직한 행동들을 열거하고 있으며, 궁극적으로 이 세 가지 역할이 잘 어우러져 좋은 배움의 열매를 맺는 것이 목표라는 것을 보여줍니다.']\n",
      "{'img_path': './fig/figure-3-21.jpg', 'category': 'Image', 'image_base64': '', 'family_tree': 'parent_image', 'parent_id': 'NA', 'id': 'f7042aaf-9bae-4135-a374-7dc78b666c05'}\n",
      "\n",
      "Score: 0.5896793028140627\n",
      "['. 나. 학생의 학습 수준을 확인하고 결과만이 아니라 결과에 이르기까지의 학습과정을 중시한다. 다. 학생의 학습 과정과 결과에 대한 맞춤형 피드백을 제공하여 학생의 학습을 지원한다. 라. 평가의 목표를 학생에게 미리 안내(매 학기 초 사전 안내)하여 학습 과정에서 학생이 주도적으로 자신의 학습과정을 성찰하고, 스스로 조정할 수 있도록 한다. 마. 학습한 지식과 기능을 바탕으로 종합하여 판단하거나 새로운 변화를 만들어 낼 수 있는지를 평가한다. 바. 학습과 평가의 과정에서 얻은 경험을 바탕으로 실생활 맥락 속의 문제를 해결 할 수 있는 역량을 함양할 수 있도록 한다. 3. 추진내용']\n",
      "{'source': './data/complex_pdf/school_edu_guide.pdf', 'filetype': 'application/pdf', 'languages': ['kor', 'eng'], 'last_modified': '2024-04-04T01:39:24', 'page_number': 10, 'file_directory': './data/complex_pdf', 'filename': 'school_edu_guide.pdf', 'category': 'CompositeElement', 'family_tree': 'child', 'parent_id': 'c2324ffc-6c56-43dd-bd56-f8ecac0dc26c', 'id': '6ee009ee-7664-41ea-b0d7-a980bd164f6e'}\n",
      "\n",
      "Score: 0.4616673727541937\n",
      "['결 석 계 2. 질병 이외의 결석 또는 출석인정 결석인 경우 ① 1~2일: [경조사] 결석계와 담임교사확인서 + 청첩장·부고장(문자, 카톡 포함), 사망신고서 중 1부 [미인정 결석 및 기타 결석] 결석계와 담임교사확인서 ② 경조사로 인한 출석인정 결석 3일 이상: 결석계와 담임교사확인서 + 사망신고서(사본 가능) ③ 경조사 이외 출석인정 결석: 결석계와 담임교사확인서 + 증빙서류 ④ ‘①~③’ 에 해당되지 않는 결석 3일 이상: 결석계와 담임교사확인서 + 학부모확인서 ※ 학교장허가교외체험학습은 별도의 체험학습 신청서와 보고서 제출 ------------------------------------ 교사 작성 -------------------------------------- 담임교사 확인서 1. 해당 결석 및 사유 □ 질병 결석 □ 미인정 결석 □ 출석인정 결석 □ 기타 결석 사 유 2. 확인 방법 □하이톡 확인 □하이콜 확인 □가정방문 □학부형 내교 □기 타 ( ) 3. 비 고 : 202 년 월 일 담임교사 : (인) - 8 - □4 학생평가-학습으로의 평가 교사 우○주 1. 학습으로서의 평가의 특징 학습으로서의 평가는 학습 과정과 결과에 대해 학생 스스로 성찰하고, 자기 주도적인 학습 경험을 통해 학습 내용을 실생활 맥락의 문제 해결에 적용할 수 있는 역량을 키우는 평가 2. 방침 가. 학생의 삶과 연계한 교육과정, 수업, 평가의 운영으로 학생 개개인의 삶의 역량을 키운다. 나. 학생의 학습 수준을 확인하고 결과만이 아니라 결과에 이르기까지의 학습과정을 중시한다. 다. 학생의 학습 과정과 결과에 대한 맞춤형 피드백을 제공하여 학생의 학습을 지원한다. 라. 평가의 목표를 학생에게 미리 안내(매 학기 초 사전 안내)하여 학습 과정에서 학생이 주도적으로 자신의 학습과정을 성찰하고, 스스로 조정할 수 있도록 한다. 마. 학습한 지식과 기능을 바탕으로 종합하여 판단하거나 새로운 변화를 만들어 낼 수 있는지를 평가한다. 바']\n",
      "{'source': './data/complex_pdf/school_edu_guide.pdf', 'filetype': 'application/pdf', 'languages': ['kor', 'eng'], 'last_modified': '2024-04-04T01:39:24', 'page_number': 10, 'file_directory': './data/complex_pdf', 'filename': 'school_edu_guide.pdf', 'category': 'CompositeElement', 'family_tree': 'child', 'parent_id': 'c2324ffc-6c56-43dd-bd56-f8ecac0dc26c', 'id': '058221ff-47ce-4e3a-842a-7d8bd3c60213'}\n",
      "\n",
      "Score: 0.42984714990620376\n",
      "['결 석 계 2. 질병 이외의 결석 또는 출석인정 결석인 경우 ① 1~2일: [경조사] 결석계와 담임교사확인서 + 청첩장·부고장(문자, 카톡 포함), 사망신고서 중 1부 [미인정 결석 및 기타 결석] 결석계와 담임교사확인서 ② 경조사로 인한 출석인정 결석 3일 이상: 결석계와 담임교사확인서 + 사망신고서(사본 가능) ③ 경조사 이외 출석인정 결석: 결석계와 담임교사확인서 + 증빙서류 ④ ‘①~③’ 에 해당되지 않는 결석 3일 이상: 결석계와 담임교사확인서 + 학부모확인서 ※ 학교장허가교외체험학습은 별도의 체험학습 신청서와 보고서 제출 ------------------------------------ 교사 작성 -------------------------------------- 담임교사 확인서 1. 해당 결석 및 사유 □ 질병 결석 □ 미인정 결석 □ 출석인정 결석 □ 기타 결석 사 유 2. 확인 방법 □하이톡 확인 □하이콜 확인 □가정방문 □학부형 내교 □기 타 ( ) 3. 비 고 : 202 년 월 일 담임교사 : (인) - 8 - □4 학생평가-학습으로의 평가 교사 우○주 1. 학습으로서의 평가의 특징 학습으로서의 평가는 학습 과정과 결과에 대해 학생 스스로 성찰하고, 자기 주도적인 학습 경험을 통해 학습 내용을 실생활 맥락의 문제 해결에 적용할 수 있는 역량을 키우는 평가 2. 방침 가. 학생의 삶과 연계한 교육과정, 수업, 평가의 운영으로 학생 개개인의 삶의 역량을 키운다. 나. 학생의 학습 수준을 확인하고 결과만이 아니라 결과에 이르기까지의 학습과정을 중시한다. 다. 학생의 학습 과정과 결과에 대한 맞춤형 피드백을 제공하여 학생의 학습을 지원한다. 라. 평가의 목표를 학생에게 미리 안내(매 학기 초 사전 안내)하여 학습 과정에서 학생이 주도적으로 자신의 학습과정을 성찰하고, 스스로 조정할 수 있도록 한다. 마. 학습한 지식과 기능을 바탕으로 종합하여 판단하거나 새로운 변화를 만들어 낼 수 있는지를 평가한다. 바. 학습과 평가의 과정에서 얻은 경험을 바탕으로 실생활 맥락 속의 문제를 해결 할 수 있는 역량을 함양할 수 있도록 한다. 3. 추진내용']\n",
      "{'source': './data/complex_pdf/school_edu_guide.pdf', 'filetype': 'application/pdf', 'languages': ['kor', 'eng'], 'last_modified': '2024-04-04T01:39:24', 'page_number': 10, 'file_directory': './data/complex_pdf', 'filename': 'school_edu_guide.pdf', 'category': 'CompositeElement', 'family_tree': 'parent', 'parent_id': None, 'id': 'c2324ffc-6c56-43dd-bd56-f8ecac0dc26c'}\n",
      "None\n",
      "##############################\n",
      "similar_docs_without_reranker\n",
      "##############################\n",
      "\n",
      "Score: 0.01626123744050767\n",
      "['2024학년도 학 교 교 육 과 정 설 명 회 연 수 자 료 일시: 2024년 3월 20일 (수) 바른 인성, 건강한 감성, 즐거운 배움으로 미래를 가꾸는 바른 인성, 건강한 감성, 즐거운 배움으로 미래를 가꾸는 학부모 연수 순서 학부모 연수 순서 1. 상록 교육목표 및 구현계획 2. 2024학년도 학사 일정 안내 3. 출결 관련 확인 제출자료 안내 4. 학교교육평가 5. 선행교육 예방(공교육정상화법) 6. 학생 안전 교육 7. 성폭력 예방 교육 8. 흡연 및 음주 예방 교육 9. 학생 인권조례 및 교권보호 10. 방과후학교 운영 11. 초등돌봄교실(오후돌봄) 운영 12. 학부모 서비스 신청 안내 13. 정보통신윤리교육 14. 정보보안 및 개인정보보호 운영 계획 15. 불법찬조금 근절 16. 아동학대 예방 교육 17. 가정폭력 예방 교육 18. 생명 존중 및 생명 살림(자살 예방) 교육 19. 교육활동 참여자 안전교육(녹색, 학부모폴리스) 20. 학교폭력 예방 교육 21. 감염병 예방 교육 22. 청탁금지법 23. 공익제보자 보호 및 공익 신고 보상 안내 24. 존중과 배려의 교육환경 조성 예방 교육(갑질 근절) 25. 교육활동보호예방교육 1 상록 교육 목표 및 구현 계획 비전 바른 인성, 건강한 감성, 즐거운 배움으로 미래를 가꾸는 어린이']\n",
      "{'source': './data/complex_pdf/school_edu_guide.pdf', 'filetype': 'application/pdf', 'languages': ['kor', 'eng'], 'last_modified': '2024-04-04T01:39:24', 'page_number': 1, 'file_directory': './data/complex_pdf', 'filename': 'school_edu_guide.pdf', 'category': 'CompositeElement', 'family_tree': 'parent', 'parent_id': None, 'id': 'b8a8496c-1a84-4f96-a020-167eab316664'}\n",
      "\n",
      "Score: 0.01575682382133995\n",
      "['. 나. 학생의 학습 수준을 확인하고 결과만이 아니라 결과에 이르기까지의 학습과정을 중시한다. 다. 학생의 학습 과정과 결과에 대한 맞춤형 피드백을 제공하여 학생의 학습을 지원한다. 라. 평가의 목표를 학생에게 미리 안내(매 학기 초 사전 안내)하여 학습 과정에서 학생이 주도적으로 자신의 학습과정을 성찰하고, 스스로 조정할 수 있도록 한다. 마. 학습한 지식과 기능을 바탕으로 종합하여 판단하거나 새로운 변화를 만들어 낼 수 있는지를 평가한다. 바. 학습과 평가의 과정에서 얻은 경험을 바탕으로 실생활 맥락 속의 문제를 해결 할 수 있는 역량을 함양할 수 있도록 한다. 3. 추진내용']\n",
      "{'source': './data/complex_pdf/school_edu_guide.pdf', 'filetype': 'application/pdf', 'languages': ['kor', 'eng'], 'last_modified': '2024-04-04T01:39:24', 'page_number': 10, 'file_directory': './data/complex_pdf', 'filename': 'school_edu_guide.pdf', 'category': 'CompositeElement', 'family_tree': 'child', 'parent_id': 'c2324ffc-6c56-43dd-bd56-f8ecac0dc26c', 'id': '6ee009ee-7664-41ea-b0d7-a980bd164f6e'}\n",
      "\n",
      "Score: 0.015399194503672116\n",
      "['이 표는 어린이 교육의 세 가지 주요 목표를 제시하고 있습니다. 첫째, 존중과 나눔을 실천하는 바른 인성을 기르는 것입니다. 둘째, 몸과 마음의 건강 및 예술 향유를 통해 문화적 소양을 기르는 것입니다. 셋째, 특기와 소질 계발을 통해 미래를 대비하는 창의성을 기르는 것입니다.']\n",
      "{'source': './data/complex_pdf/school_edu_guide.pdf', 'detection_class_prob': 0.5580280423164368, 'coordinates': {'points': [[161.56983947753906, 716.003173828125], [161.56983947753906, 966.0720825195312], [1475.974853515625, 966.0720825195312], [1475.974853515625, 716.003173828125]], 'system': 'PixelSpace', 'layout_width': 1653, 'layout_height': 2337}, 'last_modified': '2024-04-04T01:39:24', 'text_as_html': '<table><tr><td>K 뼈 4</td><td>특 기 와 소 질 을 가꾸어 미 래 를 준 비 하는 창의적인 어린이</td></tr></table>', 'filetype': 'application/pdf', 'languages': ['kor', 'eng'], 'page_number': 3, 'file_directory': './data/complex_pdf', 'filename': 'school_edu_guide.pdf', 'category': 'Table', 'origin_table': '교육 목표 바른 인성으로 존중과 나눔을 실천하는 자주적인 어린이 몸과 마음이 건강하고 예술을 향유하는 문화적인 어린이 특기와 소질을 가꾸어 미래를 준비하는 창의적인 어린이', 'family_tree': 'parent_table', 'parent_id': 'NA', 'id': '11c4619b-e219-4246-ade0-a53165ae27b5'}\n",
      "\n",
      "Score: 0.00819672131147541\n",
      "['‧ 창의적 체험활동의 영역별 활동내용, 평가방법 및 기준은 교육과정을 근 - 9 - □5 선행교육 예방 (공교육정상화법) 교사 우○주 ❍ 선행교육 -「초‧중등교육법」제23조제2항에 따라 교육부장관이 정한 초․중등학교 교육과정(국가교육과정) 및 교육감이 정한 초․중등학교 교육과정(시․도교육과정), 「초‧중등교육법」제23조제1항에 근거하여 편성․운영되는 단위학교 교육과정(학교 교육과정) 국가교육과정-시․도교육과정-학교 교육과정에 앞서서 편성 또는 제공하는 교육 일반 ❍ 선행학습 - 학습자가 국가교육과정, 시․도교육과정, 학교 교육과정에 앞서서 하는 학습 1. 추진 근거 및 목적 L RIS 가. 근거 Ÿ 「공교육 정상화 촉진 및 선행교육 규제에 관한 특별법」(공교육정상화법) Ÿ 2024년 선행학습 유발 관행 근절 사업 추진계획(교육부 기초학력진로교육과-379, 2024.1.31.) = [9 = < [aN] & - % 5 = 해 때 R 제 0 | 버 과 E 제 o 99 = = B 회 - 0 0 80 MR Q0w 나. 목적 Ÿ 학교의 정상적인 교육과정 운영을 위한 여건 조성 및 공교육 정상화 실현 Ÿ 선행교육과 선행학습 유발 관행 근절을 위한 학생, 교원, 학부모 인식 개선 연수 및 홍보 강화 0\" 3l om0 음미 Ÿ 교육과정 편성 운영 및 선행출제 점검·컨설팅을 통해 학생의 발달단계에 맞는 교육 실시 2. 추진 계획 가. 연수 추진 계획']\n",
      "{'source': './data/complex_pdf/school_edu_guide.pdf', 'filetype': 'application/pdf', 'languages': ['kor', 'eng'], 'last_modified': '2024-04-04T01:39:24', 'page_number': 11, 'file_directory': './data/complex_pdf', 'filename': 'school_edu_guide.pdf', 'category': 'CompositeElement', 'family_tree': 'child', 'parent_id': '7d9d2ff0-d190-4356-bbbe-fbdbd44bfceb', 'id': '22312bd2-8521-4168-93d8-761a1c714eb9'}\n",
      "\n",
      "Score: 0.007936507936507936\n",
      "['주어진 이미지는 11종의 소통하는 교육, 12종의 안전한 세계시민 교육, 13종의 나눔, 배려, 협력하는 인성교육에 대한 구체적인 교육활동과 시기, 대상, 관련부서를 설명하는 표입니다. 각 교육활동 유형별로 세부 내용과 기간, 대상 학년, 담당부서가 정리되어 있어 체계적으로 교육 계획을 파악할 수 있습니다.']\n",
      "{'img_path': './fig/table-1-resize.jpg', 'category': 'Image', 'image_base64': '', 'family_tree': 'parent_image', 'parent_id': 'NA', 'id': 'f75d2013-0f6a-4dd8-83ec-6162ad2a745d'}\n",
      "\n",
      "Score: 0.0078125\n",
      "['이 이미지는 학교생활에서 일어날 수 있는 세 가지 역할 즉, 학생상, 교사상, 학부모상을 설명하고 있습니다. 각 역할이 수행해야 할 바람직한 행동들을 열거하고 있으며, 궁극적으로 이 세 가지 역할이 잘 어우러져 좋은 배움의 열매를 맺는 것이 목표라는 것을 보여줍니다.']\n",
      "{'img_path': './fig/figure-3-21.jpg', 'category': 'Image', 'image_base64': '', 'family_tree': 'parent_image', 'parent_id': 'NA', 'id': 'f7042aaf-9bae-4135-a374-7dc78b666c05'}\n",
      "\n",
      "Score: 0.0078125\n",
      "['이 이미지는 교육 과정과 관련된 표를 보여주고 있습니다. 표에는 다양한 과목들과 그에 따른 수강 시기, 대상, 관련부서 등의 정보가 구체적으로 제시되어 있습니다. 과목들은 크게 디지털 시대 역량 강화, 특성화 교육, 다양한 진로 교육 영역으로 분류되어 있습니다. 전반적으로 교육 과정에 대한 체계적인 안내를 제공하는 표로 보입니다.']\n",
      "{'img_path': './fig/table-3-resize.jpg', 'category': 'Image', 'image_base64': '', 'family_tree': 'parent_image', 'parent_id': 'NA', 'id': '246800fe-08d0-47e7-a91c-f45c100554cd'}\n",
      "None\n",
      "##############################\n",
      "similar_docs\n",
      "##############################\n",
      "\n",
      "Score: 0.937147319316864\n",
      "['이 표는 어린이 교육의 세 가지 주요 목표를 제시하고 있습니다. 첫째, 존중과 나눔을 실천하는 바른 인성을 기르는 것입니다. 둘째, 몸과 마음의 건강 및 예술 향유를 통해 문화적 소양을 기르는 것입니다. 셋째, 특기와 소질 계발을 통해 미래를 대비하는 창의성을 기르는 것입니다.']\n",
      "{'source': './data/complex_pdf/school_edu_guide.pdf', 'detection_class_prob': 0.5580280423164368, 'coordinates': {'points': [[161.56983947753906, 716.003173828125], [161.56983947753906, 966.0720825195312], [1475.974853515625, 966.0720825195312], [1475.974853515625, 716.003173828125]], 'system': 'PixelSpace', 'layout_width': 1653, 'layout_height': 2337}, 'last_modified': '2024-04-04T01:39:24', 'text_as_html': '<table><tr><td>K 뼈 4</td><td>특 기 와 소 질 을 가꾸어 미 래 를 준 비 하는 창의적인 어린이</td></tr></table>', 'filetype': 'application/pdf', 'languages': ['kor', 'eng'], 'page_number': 3, 'file_directory': './data/complex_pdf', 'filename': 'school_edu_guide.pdf', 'category': 'Table', 'origin_table': '교육 목표 바른 인성으로 존중과 나눔을 실천하는 자주적인 어린이 몸과 마음이 건강하고 예술을 향유하는 문화적인 어린이 특기와 소질을 가꾸어 미래를 준비하는 창의적인 어린이', 'family_tree': 'parent_table', 'parent_id': 'NA', 'id': '11c4619b-e219-4246-ade0-a53165ae27b5'}\n",
      "\n",
      "Score: 0.12569850582935288\n",
      "['2024학년도 학 교 교 육 과 정 설 명 회 연 수 자 료 일시: 2024년 3월 20일 (수) 바른 인성, 건강한 감성, 즐거운 배움으로 미래를 가꾸는 바른 인성, 건강한 감성, 즐거운 배움으로 미래를 가꾸는 학부모 연수 순서 학부모 연수 순서 1. 상록 교육목표 및 구현계획 2. 2024학년도 학사 일정 안내 3. 출결 관련 확인 제출자료 안내 4. 학교교육평가 5. 선행교육 예방(공교육정상화법) 6. 학생 안전 교육 7. 성폭력 예방 교육 8. 흡연 및 음주 예방 교육 9. 학생 인권조례 및 교권보호 10. 방과후학교 운영 11. 초등돌봄교실(오후돌봄) 운영 12. 학부모 서비스 신청 안내 13. 정보통신윤리교육 14. 정보보안 및 개인정보보호 운영 계획 15. 불법찬조금 근절 16. 아동학대 예방 교육 17. 가정폭력 예방 교육 18. 생명 존중 및 생명 살림(자살 예방) 교육 19. 교육활동 참여자 안전교육(녹색, 학부모폴리스) 20. 학교폭력 예방 교육 21. 감염병 예방 교육 22. 청탁금지법 23. 공익제보자 보호 및 공익 신고 보상 안내 24. 존중과 배려의 교육환경 조성 예방 교육(갑질 근절) 25. 교육활동보호예방교육 1 상록 교육 목표 및 구현 계획 비전 바른 인성, 건강한 감성, 즐거운 배움으로 미래를 가꾸는 어린이']\n",
      "{'source': './data/complex_pdf/school_edu_guide.pdf', 'filetype': 'application/pdf', 'languages': ['kor', 'eng'], 'last_modified': '2024-04-04T01:39:24', 'page_number': 1, 'file_directory': './data/complex_pdf', 'filename': 'school_edu_guide.pdf', 'category': 'CompositeElement', 'family_tree': 'parent', 'parent_id': None, 'id': 'b8a8496c-1a84-4f96-a020-167eab316664'}\n",
      "\n",
      "Score: 0.026411280035972595\n",
      "['. 나. 학생의 학습 수준을 확인하고 결과만이 아니라 결과에 이르기까지의 학습과정을 중시한다. 다. 학생의 학습 과정과 결과에 대한 맞춤형 피드백을 제공하여 학생의 학습을 지원한다. 라. 평가의 목표를 학생에게 미리 안내(매 학기 초 사전 안내)하여 학습 과정에서 학생이 주도적으로 자신의 학습과정을 성찰하고, 스스로 조정할 수 있도록 한다. 마. 학습한 지식과 기능을 바탕으로 종합하여 판단하거나 새로운 변화를 만들어 낼 수 있는지를 평가한다. 바. 학습과 평가의 과정에서 얻은 경험을 바탕으로 실생활 맥락 속의 문제를 해결 할 수 있는 역량을 함양할 수 있도록 한다. 3. 추진내용']\n",
      "{'source': './data/complex_pdf/school_edu_guide.pdf', 'filetype': 'application/pdf', 'languages': ['kor', 'eng'], 'last_modified': '2024-04-04T01:39:24', 'page_number': 10, 'file_directory': './data/complex_pdf', 'filename': 'school_edu_guide.pdf', 'category': 'CompositeElement', 'family_tree': 'child', 'parent_id': 'c2324ffc-6c56-43dd-bd56-f8ecac0dc26c', 'id': '6ee009ee-7664-41ea-b0d7-a980bd164f6e'}\n",
      "\n",
      "Score: 0.013116850517690182\n",
      "['이 이미지는 학교생활에서 일어날 수 있는 세 가지 역할 즉, 학생상, 교사상, 학부모상을 설명하고 있습니다. 각 역할이 수행해야 할 바람직한 행동들을 열거하고 있으며, 궁극적으로 이 세 가지 역할이 잘 어우러져 좋은 배움의 열매를 맺는 것이 목표라는 것을 보여줍니다.']\n",
      "{'img_path': './fig/figure-3-21.jpg', 'category': 'Image', 'image_base64': '', 'family_tree': 'parent_image', 'parent_id': 'NA', 'id': 'f7042aaf-9bae-4135-a374-7dc78b666c05'}\n",
      "\n",
      "Score: 0.007091263768842862\n",
      "['‧ 창의적 체험활동의 영역별 활동내용, 평가방법 및 기준은 교육과정을 근 - 9 - □5 선행교육 예방 (공교육정상화법) 교사 우○주 ❍ 선행교육 -「초‧중등교육법」제23조제2항에 따라 교육부장관이 정한 초․중등학교 교육과정(국가교육과정) 및 교육감이 정한 초․중등학교 교육과정(시․도교육과정), 「초‧중등교육법」제23조제1항에 근거하여 편성․운영되는 단위학교 교육과정(학교 교육과정) 국가교육과정-시․도교육과정-학교 교육과정에 앞서서 편성 또는 제공하는 교육 일반 ❍ 선행학습 - 학습자가 국가교육과정, 시․도교육과정, 학교 교육과정에 앞서서 하는 학습 1. 추진 근거 및 목적 L RIS 가. 근거 Ÿ 「공교육 정상화 촉진 및 선행교육 규제에 관한 특별법」(공교육정상화법) Ÿ 2024년 선행학습 유발 관행 근절 사업 추진계획(교육부 기초학력진로교육과-379, 2024.1.31.) = [9 = < [aN] & - % 5 = 해 때 R 제 0 | 버 과 E 제 o 99 = = B 회 - 0 0 80 MR Q0w 나. 목적 Ÿ 학교의 정상적인 교육과정 운영을 위한 여건 조성 및 공교육 정상화 실현 Ÿ 선행교육과 선행학습 유발 관행 근절을 위한 학생, 교원, 학부모 인식 개선 연수 및 홍보 강화 0\" 3l om0 음미 Ÿ 교육과정 편성 운영 및 선행출제 점검·컨설팅을 통해 학생의 발달단계에 맞는 교육 실시 2. 추진 계획 가. 연수 추진 계획']\n",
      "{'source': './data/complex_pdf/school_edu_guide.pdf', 'filetype': 'application/pdf', 'languages': ['kor', 'eng'], 'last_modified': '2024-04-04T01:39:24', 'page_number': 11, 'file_directory': './data/complex_pdf', 'filename': 'school_edu_guide.pdf', 'category': 'CompositeElement', 'family_tree': 'child', 'parent_id': '7d9d2ff0-d190-4356-bbbe-fbdbd44bfceb', 'id': '22312bd2-8521-4168-93d8-761a1c714eb9'}\n",
      "None\n",
      "상록 교육 목표는 \"바른 인성, 건강한 감성, 즐거운 배움으로 미래를 가꾸는 어린이\"라고 명시되어 있습니다.\n",
      "-----------------------------------------------\n",
      "1. Category: CompositeElement, Chunk: 647 Characters\n",
      "-----------------------------------------------\n",
      "2024학년도 학 교 교 육 과 정 설 명 회 연 수 자 료 일시: 2024년 3월 20일 (수) 바른 인성, 건강한 감성, 즐거운 배움으로 미래를 가꾸는 바른 인성, 건강한\n",
      "감성, 즐거운 배움으로 미래를 가꾸는 학부모 연수 순서 학부모 연수 순서 1. 상록 교육목표 및 구현계획 2. 2024학년도 학사 일정 안내 3. 출결 관련 확인 제출자료 안내\n",
      "4. 학교교육평가 5. 선행교육 예방(공교육정상화법) 6. 학생 안전 교육 7. 성폭력 예방 교육 8. 흡연 및 음주 예방 교육 9. 학생 인권조례 및 교권보호 10. 방과후학교\n",
      "운영 11. 초등돌봄교실(오후돌봄) 운영 12. 학부모 서비스 신청 안내 13. 정보통신윤리교육 14. 정보보안 및 개인정보보호 운영 계획 15. 불법찬조금 근절 16. 아동학대\n",
      "예방 교육 17. 가정폭력 예방 교육 18. 생명 존중 및 생명 살림(자살 예방) 교육 19. 교육활동 참여자 안전교육(녹색, 학부모폴리스) 20. 학교폭력 예방 교육 21.\n",
      "감염병 예방 교육 22. 청탁금지법 23. 공익제보자 보호 및 공익 신고 보상 안내 24. 존중과 배려의 교육환경 조성 예방 교육(갑질 근절) 25. 교육활동보호예방교육 1 상록\n",
      "교육 목표 및 구현 계획 비전 바른 인성, 건강한 감성, 즐거운 배움으로 미래를 가꾸는 어린이\n",
      "metadata:\n",
      " {'source': './data/complex_pdf/school_edu_guide.pdf', 'filetype': 'application/pdf', 'languages':\n",
      "['kor', 'eng'], 'last_modified': '2024-04-04T01:39:24', 'page_number': 1, 'file_directory':\n",
      "'./data/complex_pdf', 'filename': 'school_edu_guide.pdf', 'category': 'CompositeElement',\n",
      "'family_tree': 'parent', 'parent_id': None, 'id': 'b8a8496c-1a84-4f96-a020-167eab316664'}\n",
      "\n",
      "-----------------------------------------------\n",
      "2. Category: CompositeElement, Chunk: 327 Characters\n",
      "-----------------------------------------------\n",
      ". 나. 학생의 학습 수준을 확인하고 결과만이 아니라 결과에 이르기까지의 학습과정을 중시한다. 다. 학생의 학습 과정과 결과에 대한 맞춤형 피드백을 제공하여 학생의 학습을\n",
      "지원한다. 라. 평가의 목표를 학생에게 미리 안내(매 학기 초 사전 안내)하여 학습 과정에서 학생이 주도적으로 자신의 학습과정을 성찰하고, 스스로 조정할 수 있도록 한다. 마.\n",
      "학습한 지식과 기능을 바탕으로 종합하여 판단하거나 새로운 변화를 만들어 낼 수 있는지를 평가한다. 바. 학습과 평가의 과정에서 얻은 경험을 바탕으로 실생활 맥락 속의 문제를 해결\n",
      "할 수 있는 역량을 함양할 수 있도록 한다. 3. 추진내용\n",
      "metadata:\n",
      " {'source': './data/complex_pdf/school_edu_guide.pdf', 'filetype': 'application/pdf', 'languages':\n",
      "['kor', 'eng'], 'last_modified': '2024-04-04T01:39:24', 'page_number': 10, 'file_directory':\n",
      "'./data/complex_pdf', 'filename': 'school_edu_guide.pdf', 'category': 'CompositeElement',\n",
      "'family_tree': 'child', 'parent_id': 'c2324ffc-6c56-43dd-bd56-f8ecac0dc26c', 'id':\n",
      "'6ee009ee-7664-41ea-b0d7-a980bd164f6e'}\n",
      "\n",
      "-----------------------------------------------\n",
      "3. Category: CompositeElement, Chunk: 699 Characters\n",
      "-----------------------------------------------\n",
      "‧ 창의적 체험활동의 영역별 활동내용, 평가방법 및 기준은 교육과정을 근 - 9 - □5 선행교육 예방 (공교육정상화법) 교사 우○주 ❍ 선행교육 -「초‧중등교육법」제23조제2항에\n",
      "따라 교육부장관이 정한 초․중등학교 교육과정(국가교육과정) 및 교육감이 정한 초․중등학교 교육과정(시․도교육과정), 「초‧중등교육법」제23조제1항에 근거하여 편성․운영되는 단위학교\n",
      "교육과정(학교 교육과정) 국가교육과정-시․도교육과정-학교 교육과정에 앞서서 편성 또는 제공하는 교육 일반 ❍ 선행학습 - 학습자가 국가교육과정, 시․도교육과정, 학교 교육과정에\n",
      "앞서서 하는 학습 1. 추진 근거 및 목적 L RIS 가. 근거 Ÿ 「공교육 정상화 촉진 및 선행교육 규제에 관한 특별법」(공교육정상화법) Ÿ 2024년 선행학습 유발 관행 근절\n",
      "사업 추진계획(교육부 기초학력진로교육과-379, 2024.1.31.) = [9 = < [aN] & - % 5 = 해 때 R 제 0 | 버 과 E 제 o 99 = = B 회 - 0\n",
      "0 80 MR Q0w 나. 목적 Ÿ 학교의 정상적인 교육과정 운영을 위한 여건 조성 및 공교육 정상화 실현 Ÿ 선행교육과 선행학습 유발 관행 근절을 위한 학생, 교원, 학부모 인식\n",
      "개선 연수 및 홍보 강화 0\" 3l om0 음미 Ÿ 교육과정 편성 운영 및 선행출제 점검·컨설팅을 통해 학생의 발달단계에 맞는 교육 실시 2. 추진 계획 가. 연수 추진 계획\n",
      "metadata:\n",
      " {'source': './data/complex_pdf/school_edu_guide.pdf', 'filetype': 'application/pdf', 'languages':\n",
      "['kor', 'eng'], 'last_modified': '2024-04-04T01:39:24', 'page_number': 11, 'file_directory':\n",
      "'./data/complex_pdf', 'filename': 'school_edu_guide.pdf', 'category': 'CompositeElement',\n",
      "'family_tree': 'child', 'parent_id': '7d9d2ff0-d190-4356-bbbe-fbdbd44bfceb', 'id':\n",
      "'22312bd2-8521-4168-93d8-761a1c714eb9'}\n"
     ]
    }
   ],
   "source": [
    "query = \"중지된 경우 이체\"\n",
    "query = \"교육목표는?\"\n",
    "#query = \"vidio max size?\"\n",
    "#query = \"수익률 그래프를 설명해줘\"\n",
    "response, contexts = qa.invoke(\n",
    "    query = query\n",
    ")\n",
    "\n",
    "show_context_used(contexts)"
   ]
  },
  {
   "cell_type": "code",
   "execution_count": 56,
   "id": "01e77dad-dc19-416b-80e7-19fac3b736a5",
   "metadata": {
    "tags": []
   },
   "outputs": [
    {
     "name": "stdout",
     "output_type": "stream",
     "text": [
      "##################################\n",
      "query:  교육목표는?\n",
      "##################################\n",
      "\u001b[34m\n",
      "\n",
      "### Answer ###\u001b[0m\n",
      "상록 교육 목표는 \"바른 인성, 건강한 감성, 즐거운 배움으로 미래를 가꾸는 어린이\"라고 명시되어 있습니다.\n",
      "\u001b[32m\n",
      "\n",
      "### Contexts ###\u001b[0m\n",
      "\n",
      "-----------------------------------------------\n",
      "1. Category: CompositeElement, Chunk: 647 Characters\n",
      "-----------------------------------------------\n",
      "2024학년도 학 교 교 육 과 정 설 명 회 연 수 자 료 일시: 2024년 3월 20일 (수) 바른 인성, 건강한 감성, 즐거운 배움으로 미래를 가꾸는 바른 인성, 건강한\n",
      "감성, 즐거운 배움으로 미래를 가꾸는 학부모 연수 순서 학부모 연수 순서 1. 상록 교육목표 및 구현계획 2. 2024학년도 학사 일정 안내 3. 출결 관련 확인 제출자료 안내\n",
      "4. 학교교육평가 5. 선행교육 예방(공교육정상화법) 6. 학생 안전 교육 7. 성폭력 예방 교육 8. 흡연 및 음주 예방 교육 9. 학생 인권조례 및 교권보호 10. 방과후학교\n",
      "운영 11. 초등돌봄교실(오후돌봄) 운영 12. 학부모 서비스 신청 안내 13. 정보통신윤리교육 14. 정보보안 및 개인정보보호 운영 계획 15. 불법찬조금 근절 16. 아동학대\n",
      "예방 교육 17. 가정폭력 예방 교육 18. 생명 존중 및 생명 살림(자살 예방) 교육 19. 교육활동 참여자 안전교육(녹색, 학부모폴리스) 20. 학교폭력 예방 교육 21.\n",
      "감염병 예방 교육 22. 청탁금지법 23. 공익제보자 보호 및 공익 신고 보상 안내 24. 존중과 배려의 교육환경 조성 예방 교육(갑질 근절) 25. 교육활동보호예방교육 1 상록\n",
      "교육 목표 및 구현 계획 비전 바른 인성, 건강한 감성, 즐거운 배움으로 미래를 가꾸는 어린이\n",
      "metadata:\n",
      " {'source': './data/complex_pdf/school_edu_guide.pdf', 'filetype': 'application/pdf', 'languages':\n",
      "['kor', 'eng'], 'last_modified': '2024-04-04T01:39:24', 'page_number': 1, 'file_directory':\n",
      "'./data/complex_pdf', 'filename': 'school_edu_guide.pdf', 'category': 'CompositeElement',\n",
      "'family_tree': 'parent', 'parent_id': None, 'id': 'b8a8496c-1a84-4f96-a020-167eab316664'}\n",
      "\n",
      "-----------------------------------------------\n",
      "2. Category: CompositeElement, Chunk: 327 Characters\n",
      "-----------------------------------------------\n",
      ". 나. 학생의 학습 수준을 확인하고 결과만이 아니라 결과에 이르기까지의 학습과정을 중시한다. 다. 학생의 학습 과정과 결과에 대한 맞춤형 피드백을 제공하여 학생의 학습을\n",
      "지원한다. 라. 평가의 목표를 학생에게 미리 안내(매 학기 초 사전 안내)하여 학습 과정에서 학생이 주도적으로 자신의 학습과정을 성찰하고, 스스로 조정할 수 있도록 한다. 마.\n",
      "학습한 지식과 기능을 바탕으로 종합하여 판단하거나 새로운 변화를 만들어 낼 수 있는지를 평가한다. 바. 학습과 평가의 과정에서 얻은 경험을 바탕으로 실생활 맥락 속의 문제를 해결\n",
      "할 수 있는 역량을 함양할 수 있도록 한다. 3. 추진내용\n",
      "metadata:\n",
      " {'source': './data/complex_pdf/school_edu_guide.pdf', 'filetype': 'application/pdf', 'languages':\n",
      "['kor', 'eng'], 'last_modified': '2024-04-04T01:39:24', 'page_number': 10, 'file_directory':\n",
      "'./data/complex_pdf', 'filename': 'school_edu_guide.pdf', 'category': 'CompositeElement',\n",
      "'family_tree': 'child', 'parent_id': 'c2324ffc-6c56-43dd-bd56-f8ecac0dc26c', 'id':\n",
      "'6ee009ee-7664-41ea-b0d7-a980bd164f6e'}\n",
      "\n",
      "-----------------------------------------------\n",
      "3. Category: CompositeElement, Chunk: 699 Characters\n",
      "-----------------------------------------------\n",
      "‧ 창의적 체험활동의 영역별 활동내용, 평가방법 및 기준은 교육과정을 근 - 9 - □5 선행교육 예방 (공교육정상화법) 교사 우○주 ❍ 선행교육 -「초‧중등교육법」제23조제2항에\n",
      "따라 교육부장관이 정한 초․중등학교 교육과정(국가교육과정) 및 교육감이 정한 초․중등학교 교육과정(시․도교육과정), 「초‧중등교육법」제23조제1항에 근거하여 편성․운영되는 단위학교\n",
      "교육과정(학교 교육과정) 국가교육과정-시․도교육과정-학교 교육과정에 앞서서 편성 또는 제공하는 교육 일반 ❍ 선행학습 - 학습자가 국가교육과정, 시․도교육과정, 학교 교육과정에\n",
      "앞서서 하는 학습 1. 추진 근거 및 목적 L RIS 가. 근거 Ÿ 「공교육 정상화 촉진 및 선행교육 규제에 관한 특별법」(공교육정상화법) Ÿ 2024년 선행학습 유발 관행 근절\n",
      "사업 추진계획(교육부 기초학력진로교육과-379, 2024.1.31.) = [9 = < [aN] & - % 5 = 해 때 R 제 0 | 버 과 E 제 o 99 = = B 회 - 0\n",
      "0 80 MR Q0w 나. 목적 Ÿ 학교의 정상적인 교육과정 운영을 위한 여건 조성 및 공교육 정상화 실현 Ÿ 선행교육과 선행학습 유발 관행 근절을 위한 학생, 교원, 학부모 인식\n",
      "개선 연수 및 홍보 강화 0\" 3l om0 음미 Ÿ 교육과정 편성 운영 및 선행출제 점검·컨설팅을 통해 학생의 발달단계에 맞는 교육 실시 2. 추진 계획 가. 연수 추진 계획\n",
      "metadata:\n",
      " {'source': './data/complex_pdf/school_edu_guide.pdf', 'filetype': 'application/pdf', 'languages':\n",
      "['kor', 'eng'], 'last_modified': '2024-04-04T01:39:24', 'page_number': 11, 'file_directory':\n",
      "'./data/complex_pdf', 'filename': 'school_edu_guide.pdf', 'category': 'CompositeElement',\n",
      "'family_tree': 'child', 'parent_id': '7d9d2ff0-d190-4356-bbbe-fbdbd44bfceb', 'id':\n",
      "'22312bd2-8521-4168-93d8-761a1c714eb9'}\n"
     ]
    }
   ],
   "source": [
    "print(\"##################################\")\n",
    "print(\"query: \", query)\n",
    "print(\"##################################\")\n",
    "\n",
    "print (colored(\"\\n\\n### Answer ###\", \"blue\"))\n",
    "print_ww(response)\n",
    "\n",
    "print (colored(\"\\n\\n### Contexts ###\", \"green\"))\n",
    "show_context_used(contexts)"
   ]
  },
  {
   "cell_type": "code",
   "execution_count": null,
   "id": "afa7ff92-4954-4a83-997d-bed08b18aa3b",
   "metadata": {},
   "outputs": [],
   "source": []
  },
  {
   "cell_type": "code",
   "execution_count": null,
   "id": "1a7cd4b8-dde6-44bc-8957-190fd13508ac",
   "metadata": {},
   "outputs": [],
   "source": []
  }
 ],
 "metadata": {
  "kernelspec": {
   "display_name": "conda_python3",
   "language": "python",
   "name": "conda_python3"
  },
  "language_info": {
   "codemirror_mode": {
    "name": "ipython",
    "version": 3
   },
   "file_extension": ".py",
   "mimetype": "text/x-python",
   "name": "python",
   "nbconvert_exporter": "python",
   "pygments_lexer": "ipython3",
   "version": "3.10.14"
  }
 },
 "nbformat": 4,
 "nbformat_minor": 5
}
