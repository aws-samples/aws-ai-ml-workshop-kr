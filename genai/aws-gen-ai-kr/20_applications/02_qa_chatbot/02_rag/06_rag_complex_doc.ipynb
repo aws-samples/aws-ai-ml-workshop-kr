{
 "cells": [
  {
   "cell_type": "markdown",
   "id": "5deb2df2-413d-49bd-a829-3a1fc344937e",
   "metadata": {},
   "source": [
    "# RAG over complex Documents\n"
   ]
  },
  {
   "cell_type": "markdown",
   "id": "b1f81abc-3277-4a6b-9ef1-d4f997d67fbe",
   "metadata": {},
   "source": [
    "## Setting\n",
    " - Auto Reload\n",
    " - path for utils"
   ]
  },
  {
   "cell_type": "code",
   "execution_count": null,
   "id": "ddde4105-b759-4d6c-8214-8e1ab485ae48",
   "metadata": {
    "tags": []
   },
   "outputs": [],
   "source": [
    "%load_ext autoreload\n",
    "%autoreload 2"
   ]
  },
  {
   "cell_type": "code",
   "execution_count": 1,
   "id": "adf1e644-50ba-4e57-b531-a4459c6d1b8f",
   "metadata": {
    "tags": []
   },
   "outputs": [
    {
     "name": "stdout",
     "output_type": "stream",
     "text": [
      "Package                       Version\n",
      "----------------------------- -------------------\n",
      "aiohttp                       3.9.3\n",
      "aiosignal                     1.3.1\n",
      "alabaster                     0.7.16\n",
      "annotated-types               0.7.0\n",
      "anthropic                     0.30.0\n",
      "antlr4-python3-runtime        4.9.3\n",
      "anyio                         4.3.0\n",
      "argon2-cffi                   23.1.0\n",
      "argon2-cffi-bindings          21.2.0\n",
      "arrow                         1.3.0\n",
      "astroid                       2.15.8\n",
      "astropy                       6.0.0\n",
      "astropy-iers-data             0.2024.3.25.0.29.50\n",
      "asttokens                     2.4.1\n",
      "async-lru                     2.0.4\n",
      "async-timeout                 4.0.3\n",
      "atomicwrites                  1.4.1\n",
      "attrs                         23.2.0\n",
      "audioread                     3.0.1\n",
      "autopep8                      2.0.4\n",
      "autovizwidget                 0.21.0\n",
      "awscli                        1.33.17\n",
      "Babel                         2.14.0\n",
      "backoff                       2.2.1\n",
      "beautifulsoup4                4.12.3\n",
      "binaryornot                   0.4.4\n",
      "bitarray                      2.9.2\n",
      "black                         24.3.0\n",
      "bleach                        6.1.0\n",
      "blinker                       1.7.0\n",
      "bokeh                         3.4.0\n",
      "boto3                         1.34.135\n",
      "botocore                      1.34.135\n",
      "Bottleneck                    1.3.8\n",
      "Brotli                        1.1.0\n",
      "brotlipy                      0.7.0\n",
      "cached-property               1.5.2\n",
      "certifi                       2024.2.2\n",
      "cffi                          1.16.0\n",
      "chardet                       5.2.0\n",
      "charset-normalizer            3.3.2\n",
      "click                         8.1.7\n",
      "cloudpickle                   2.2.1\n",
      "colorama                      0.4.6\n",
      "coloredlogs                   15.0.1\n",
      "comm                          0.2.2\n",
      "contourpy                     1.2.0\n",
      "cookiecutter                  2.6.0\n",
      "coverage                      7.4.4\n",
      "cryptography                  42.0.5\n",
      "cycler                        0.12.1\n",
      "Cython                        3.0.9\n",
      "cytoolz                       0.12.3\n",
      "dask                          2024.3.1\n",
      "dask-expr                     1.0.5\n",
      "dataclasses-json              0.6.7\n",
      "dataclasses-json-speakeasy    0.5.11\n",
      "debugpy                       1.8.1\n",
      "decorator                     5.1.1\n",
      "defusedxml                    0.7.1\n",
      "Deprecated                    1.2.14\n",
      "diff-match-patch              20230430\n",
      "dill                          0.3.8\n",
      "dirtyjson                     1.0.8\n",
      "distributed                   2024.3.1\n",
      "distro                        1.9.0\n",
      "docker                        6.1.3\n",
      "docstring-to-markdown         0.15\n",
      "docutils                      0.16\n",
      "dparse                        0.6.3\n",
      "effdet                        0.4.1\n",
      "emoji                         2.12.1\n",
      "entrypoints                   0.4\n",
      "et-xmlfile                    1.1.0\n",
      "Events                        0.5\n",
      "exceptiongroup                1.2.0\n",
      "executing                     2.0.1\n",
      "faiss-cpu                     1.8.0.post1\n",
      "Faker                         26.0.0\n",
      "fastcache                     1.1.0\n",
      "fastjsonschema                2.19.1\n",
      "filelock                      3.13.3\n",
      "filetype                      1.2.0\n",
      "flake8                        6.0.0\n",
      "Flask                         3.0.2\n",
      "Flask-Cors                    4.0.0\n",
      "flatbuffers                   24.3.25\n",
      "fonttools                     4.50.0\n",
      "fqdn                          1.5.1\n",
      "frozenlist                    1.4.1\n",
      "fsspec                        2024.3.1\n",
      "future                        1.0.0\n",
      "gevent                        23.9.0.post1\n",
      "gmpy2                         2.1.2\n",
      "google-pasta                  0.2.0\n",
      "greenlet                      3.0.3\n",
      "gssapi                        1.8.3\n",
      "h11                           0.14.0\n",
      "h2                            4.1.0\n",
      "h5py                          3.10.0\n",
      "hdijupyterutils               0.21.0\n",
      "hpack                         4.0.0\n",
      "httpcore                      1.0.4\n",
      "httpx                         0.27.0\n",
      "huggingface-hub               0.23.4\n",
      "humanfriendly                 10.0\n",
      "hyperframe                    6.0.1\n",
      "idna                          3.6\n",
      "imagecodecs                   2024.1.1\n",
      "imageio                       2.34.0\n",
      "imagesize                     1.4.1\n",
      "immutables                    0.20\n",
      "importlib-metadata            6.11.0\n",
      "importlib_resources           6.4.0\n",
      "inflection                    0.5.1\n",
      "iniconfig                     2.0.0\n",
      "intervaltree                  3.1.0\n",
      "iopath                        0.1.10\n",
      "ipykernel                     6.29.3\n",
      "ipython                       8.25.0\n",
      "ipython-genutils              0.2.0\n",
      "ipywidgets                    8.1.3\n",
      "isoduration                   20.11.0\n",
      "isort                         5.13.2\n",
      "itsdangerous                  2.1.2\n",
      "jaraco.classes                3.3.1\n",
      "jaraco.context                4.3.0\n",
      "jaraco.functools              4.0.0\n",
      "jedi                          0.18.2\n",
      "jeepney                       0.8.0\n",
      "jellyfish                     1.0.3\n",
      "Jinja2                        3.1.3\n",
      "jiter                         0.4.2\n",
      "jmespath                      1.0.1\n",
      "joblib                        1.3.2\n",
      "jq                            1.7.0\n",
      "json5                         0.9.24\n",
      "jsonpatch                     1.33\n",
      "jsonpath-python               1.0.6\n",
      "jsonpointer                   2.4\n",
      "jsonschema                    4.21.1\n",
      "jsonschema-specifications     2023.12.1\n",
      "jupyter                       1.0.0\n",
      "jupyter_client                8.6.1\n",
      "jupyter-console               6.6.3\n",
      "jupyter_core                  5.7.2\n",
      "jupyter-events                0.10.0\n",
      "jupyter-lsp                   2.2.4\n",
      "jupyter_server                2.13.0\n",
      "jupyter_server_terminals      0.5.3\n",
      "jupyterlab                    4.1.5\n",
      "jupyterlab_pygments           0.3.0\n",
      "jupyterlab_server             2.25.4\n",
      "jupyterlab_widgets            3.0.11\n",
      "kaleido                       0.2.1\n",
      "keyring                       25.0.0\n",
      "kiwisolver                    1.4.5\n",
      "krb5                          0.5.1\n",
      "langchain                     0.2.6\n",
      "langchain-aws                 0.1.8\n",
      "langchain-community           0.2.6\n",
      "langchain-core                0.2.10\n",
      "langchain-experimental        0.0.62\n",
      "langchain-text-splitters      0.2.1\n",
      "langdetect                    1.0.9\n",
      "langsmith                     0.1.81\n",
      "layoutparser                  0.3.4\n",
      "lazy_loader                   0.3\n",
      "lazy-object-proxy             1.10.0\n",
      "librosa                       0.10.2.post1\n",
      "llama-cloud                   0.0.6\n",
      "llama-index-core              0.10.49\n",
      "llama-parse                   0.4.4\n",
      "llvmlite                      0.42.0\n",
      "locket                        1.0.0\n",
      "lxml                          5.2.2\n",
      "lz4                           4.3.3\n",
      "Markdown                      3.6\n",
      "markdown-it-py                3.0.0\n",
      "MarkupSafe                    2.1.5\n",
      "marshmallow                   3.21.3\n",
      "matplotlib                    3.8.3\n",
      "matplotlib-inline             0.1.6\n",
      "mccabe                        0.7.0\n",
      "mdurl                         0.1.2\n",
      "mistune                       3.0.2\n",
      "mkl_fft                       1.3.8\n",
      "mkl-service                   2.4.1\n",
      "mock                          5.1.0\n",
      "more-itertools                10.2.0\n",
      "mpmath                        1.3.0\n",
      "msg-parser                    1.2.0\n",
      "msgpack                       1.0.7\n",
      "multidict                     6.0.5\n",
      "multiprocess                  0.70.16\n",
      "munkres                       1.1.4\n",
      "mypy-extensions               1.0.0\n",
      "nbclient                      0.10.0\n",
      "nbconvert                     7.16.3\n",
      "nbformat                      5.10.3\n",
      "nest_asyncio                  1.6.0\n",
      "networkx                      3.2.1\n",
      "nltk                          3.8.1\n",
      "nose                          1.3.7\n",
      "notebook                      7.1.2\n",
      "notebook_shim                 0.2.4\n",
      "numba                         0.59.1\n",
      "numexpr                       2.10.1\n",
      "numpy                         1.26.4\n",
      "numpydoc                      1.6.0\n",
      "nvidia-cublas-cu12            12.1.3.1\n",
      "nvidia-cuda-cupti-cu12        12.1.105\n",
      "nvidia-cuda-nvrtc-cu12        12.1.105\n",
      "nvidia-cuda-runtime-cu12      12.1.105\n",
      "nvidia-cudnn-cu12             8.9.2.26\n",
      "nvidia-cufft-cu12             11.0.2.54\n",
      "nvidia-curand-cu12            10.3.2.106\n",
      "nvidia-cusolver-cu12          11.4.5.107\n",
      "nvidia-cusparse-cu12          12.1.0.106\n",
      "nvidia-nccl-cu12              2.20.5\n",
      "nvidia-nvjitlink-cu12         12.5.40\n",
      "nvidia-nvtx-cu12              12.1.105\n",
      "olefile                       0.47\n",
      "omegaconf                     2.3.0\n",
      "onnx                          1.16.1\n",
      "onnxruntime                   1.15.1\n",
      "openai                        1.35.3\n",
      "opencv-python                 4.10.0.84\n",
      "openpyxl                      3.1.2\n",
      "opensearch-py                 2.6.0\n",
      "orjson                        3.10.5\n",
      "overrides                     7.7.0\n",
      "packaging                     24.1\n",
      "pandas                        2.2.2\n",
      "pandocfilters                 1.5.0\n",
      "parso                         0.8.3\n",
      "partd                         1.4.1\n",
      "path                          16.10.0\n",
      "pathlib2                      2.3.7.post1\n",
      "pathos                        0.3.2\n",
      "pathspec                      0.12.1\n",
      "patsy                         0.5.6\n",
      "pdf2image                     1.17.0\n",
      "pdfminer.six                  20231228\n",
      "pdfplumber                    0.11.1\n",
      "pexpect                       4.9.0\n",
      "pickleshare                   0.7.5\n",
      "pikepdf                       9.0.0\n",
      "pillow                        10.2.0\n",
      "pillow_heif                   0.16.0\n",
      "pip                           24.1.1\n",
      "pkginfo                       1.10.0\n",
      "pkgutil_resolve_name          1.3.10\n",
      "platformdirs                  4.2.0\n",
      "plotly                        5.19.0\n",
      "pluggy                        1.4.0\n",
      "ply                           3.11\n",
      "pooch                         1.8.2\n",
      "portalocker                   2.10.0\n",
      "pox                           0.3.4\n",
      "ppft                          1.7.6.8\n",
      "prometheus_client             0.20.0\n",
      "prompt-toolkit                3.0.42\n",
      "protobuf                      4.25.3\n",
      "psutil                        5.9.8\n",
      "psycopg2                      2.9.9\n",
      "psycopg2-binary               2.9.9\n",
      "ptyprocess                    0.7.0\n",
      "pure-eval                     0.2.2\n",
      "py-cpuinfo                    9.0.0\n",
      "py4j                          0.10.9.5\n",
      "pyarrow                       15.0.2\n",
      "pyarrow-hotfix                0.6\n",
      "pyasn1                        0.6.0\n",
      "pycocotools                   2.0.8\n",
      "pycodestyle                   2.10.0\n",
      "pycosat                       0.6.6\n",
      "pycparser                     2.21\n",
      "pycryptodome                  3.20.0\n",
      "pycurl                        7.45.3\n",
      "pydantic                      2.7.4\n",
      "pydantic_core                 2.18.4\n",
      "pydocstyle                    6.3.0\n",
      "pyerfa                        2.0.1.1\n",
      "pyflakes                      3.0.1\n",
      "Pygments                      2.17.2\n",
      "pykerberos                    1.2.4\n",
      "pylint                        2.17.7\n",
      "pylint-venv                   3.0.3\n",
      "pyls-spyder                   0.4.0\n",
      "PyMuPDF                       1.24.5\n",
      "PyMuPDFb                      1.24.3\n",
      "pynvml                        11.5.0\n",
      "pyodbc                        5.1.0\n",
      "pyOpenSSL                     24.0.0\n",
      "pypandoc                      1.13\n",
      "pyparsing                     3.1.2\n",
      "pypdf                         4.2.0\n",
      "pypdfium2                     4.30.0\n",
      "PyQt5                         5.15.9\n",
      "PyQt5-sip                     12.12.2\n",
      "PyQtWebEngine                 5.15.4\n",
      "pyrsistent                    0.20.0\n",
      "PySocks                       1.7.1\n",
      "pyspark                       3.3.0\n",
      "pyspnego                      0.9.1\n",
      "pytesseract                   0.3.10\n",
      "pytest                        8.1.1\n",
      "python-dateutil               2.9.0\n",
      "python-docx                   1.1.2\n",
      "python-dotenv                 1.0.1\n",
      "python-iso639                 2024.4.27\n",
      "python-json-logger            2.0.7\n",
      "python-lsp-black              2.0.0\n",
      "python-lsp-jsonrpc            1.1.2\n",
      "python-lsp-server             1.7.4\n",
      "python-magic                  0.4.27\n",
      "python-multipart              0.0.9\n",
      "python-pptx                   0.6.23\n",
      "python-slugify                8.0.4\n",
      "pytoolconfig                  1.2.5\n",
      "pytz                          2024.1\n",
      "PyWavelets                    1.4.1\n",
      "pyxdg                         0.28\n",
      "PyYAML                        6.0.1\n",
      "pyzmq                         25.1.2\n",
      "QDarkStyle                    3.1\n",
      "qstylizer                     0.2.2\n",
      "QtAwesome                     1.3.0\n",
      "qtconsole                     5.4.4\n",
      "QtPy                          2.4.1\n",
      "rapidfuzz                     3.9.3\n",
      "referencing                   0.34.0\n",
      "regex                         2023.12.25\n",
      "requests                      2.31.0\n",
      "requests-kerberos             0.14.0\n",
      "rfc3339-validator             0.1.4\n",
      "rfc3986-validator             0.1.1\n",
      "rich                          13.7.1\n",
      "rope                          1.13.0\n",
      "rpds-py                       0.18.0\n",
      "rsa                           4.7.2\n",
      "Rtree                         1.2.0\n",
      "ruamel.yaml                   0.18.6\n",
      "ruamel.yaml.clib              0.2.8\n",
      "ruamel-yaml-conda             0.15.80\n",
      "s3fs                          0.4.2\n",
      "s3transfer                    0.10.1\n",
      "safetensors                   0.4.3\n",
      "sagemaker                     2.224.2\n",
      "sagemaker_pyspark             1.4.5\n",
      "schema                        0.7.7\n",
      "scikit-image                  0.22.0\n",
      "scikit-learn                  1.4.1.post1\n",
      "scipy                         1.12.0\n",
      "seaborn                       0.13.2\n",
      "SecretStorage                 3.3.3\n",
      "Send2Trash                    1.8.2\n",
      "setuptools                    69.2.0\n",
      "shap                          0.45.0\n",
      "sip                           6.7.12\n",
      "six                           1.16.0\n",
      "slicer                        0.0.7\n",
      "smdebug-rulesconfig           1.0.1\n",
      "sniffio                       1.3.1\n",
      "snowballstemmer               2.2.0\n",
      "sortedcontainers              2.4.0\n",
      "soundfile                     0.12.1\n",
      "soupsieve                     2.5\n",
      "soxr                          0.3.7\n",
      "sparkmagic                    0.21.0\n",
      "Sphinx                        7.2.6\n",
      "sphinxcontrib-applehelp       1.0.8\n",
      "sphinxcontrib-devhelp         1.0.6\n",
      "sphinxcontrib-htmlhelp        2.0.5\n",
      "sphinxcontrib-jsmath          1.0.1\n",
      "sphinxcontrib-qthelp          1.0.7\n",
      "sphinxcontrib-serializinghtml 1.1.10\n",
      "sphinxcontrib-websupport      1.2.7\n",
      "spyder                        5.4.5\n",
      "spyder-kernels                2.4.4\n",
      "SQLAlchemy                    2.0.31\n",
      "stack-data                    0.6.2\n",
      "statsmodels                   0.14.1\n",
      "sympy                         1.12\n",
      "tables                        3.9.2\n",
      "tabulate                      0.9.0\n",
      "tblib                         3.0.0\n",
      "tenacity                      8.2.3\n",
      "termcolor                     2.4.0\n",
      "terminado                     0.18.1\n",
      "testpath                      0.6.0\n",
      "text-unidecode                1.3\n",
      "textdistance                  4.5.0\n",
      "threadpoolctl                 3.4.0\n",
      "three-merge                   0.1.1\n",
      "tifffile                      2024.2.12\n",
      "tiktoken                      0.7.0\n",
      "timm                          1.0.7\n",
      "tinycss2                      1.2.1\n",
      "tokenizers                    0.19.1\n",
      "toml                          0.10.2\n",
      "tomli                         2.0.1\n",
      "tomlkit                       0.12.4\n",
      "toolz                         0.12.1\n",
      "torch                         2.3.1\n",
      "torchvision                   0.18.1\n",
      "tornado                       6.4\n",
      "tqdm                          4.66.2\n",
      "traitlets                     5.14.2\n",
      "transformers                  4.42.1\n",
      "triton                        2.3.1\n",
      "typed-ast                     1.5.5\n",
      "types-python-dateutil         2.9.0.20240316\n",
      "typing_extensions             4.10.0\n",
      "typing-inspect                0.9.0\n",
      "typing-utils                  0.1.0\n",
      "tzdata                        2024.1\n",
      "ujson                         5.9.0\n",
      "unicodedata2                  15.1.0\n",
      "unstructured                  0.13.2\n",
      "unstructured-client           0.18.0\n",
      "unstructured-inference        0.7.25\n",
      "unstructured.pytesseract      0.3.12\n",
      "uri-template                  1.3.0\n",
      "urllib3                       2.2.1\n",
      "uvicorn                       0.30.1\n",
      "watchdog                      4.0.0\n",
      "wcwidth                       0.2.13\n",
      "webcolors                     1.13\n",
      "webencodings                  0.5.1\n",
      "websocket-client              1.7.0\n",
      "Werkzeug                      3.0.1\n",
      "whatthepatch                  1.0.5\n",
      "wheel                         0.43.0\n",
      "widgetsnbextension            4.0.11\n",
      "wrapt                         1.16.0\n",
      "wurlitzer                     3.0.3\n",
      "xlrd                          2.0.1\n",
      "XlsxWriter                    3.1.9\n",
      "xyzservices                   2023.10.1\n",
      "yapf                          0.40.1\n",
      "yarl                          1.9.4\n",
      "zict                          3.0.0\n",
      "zipp                          3.17.0\n",
      "zope.event                    5.0\n",
      "zope.interface                6.2\n",
      "Note: you may need to restart the kernel to use updated packages.\n"
     ]
    }
   ],
   "source": [
    "%pip list"
   ]
  },
  {
   "cell_type": "code",
   "execution_count": null,
   "id": "1b8dafad-6aca-4f08-92c7-5551a3917c2c",
   "metadata": {},
   "outputs": [],
   "source": []
  },
  {
   "cell_type": "code",
   "execution_count": null,
   "id": "57c2cdb1-d785-4317-afce-938f13141085",
   "metadata": {
    "tags": []
   },
   "outputs": [],
   "source": [
    "import sys, os\n",
    "module_path = \"../../..\"\n",
    "sys.path.append(os.path.abspath(module_path))"
   ]
  },
  {
   "cell_type": "markdown",
   "id": "1e913b68-f9ed-4da7-bc49-4db57f456c91",
   "metadata": {},
   "source": [
    "## 1. Creatr Bedrock client"
   ]
  },
  {
   "cell_type": "code",
   "execution_count": null,
   "id": "424492cf-401a-486d-9c1e-f2c6617b6e75",
   "metadata": {
    "tags": []
   },
   "outputs": [],
   "source": [
    "import json\n",
    "import boto3\n",
    "from pprint import pprint\n",
    "from termcolor import colored\n",
    "from utils import bedrock, print_ww\n",
    "from utils.bedrock import bedrock_info"
   ]
  },
  {
   "cell_type": "markdown",
   "id": "e841327d-03ff-4a22-8224-91df66e0a943",
   "metadata": {},
   "source": [
    "### ---- ⚠️ Un-comment and edit the below lines as needed for your AWS setup ⚠️ ----\n",
    "- os.environ[\"AWS_DEFAULT_REGION\"] = \"<REGION_NAME>\"  # E.g. \"us-east-1\"\n",
    "- os.environ[\"AWS_PROFILE\"] = \"<YOUR_PROFILE>\"\n",
    "- os.environ[\"BEDROCK_ASSUME_ROLE\"] = \"<YOUR_ROLE_ARN>\"  # E.g. \"arn:aws:...\"\n",
    "- os.environ[\"BEDROCK_ENDPOINT_URL\"] = \"<YOUR_ENDPOINT_URL>\"  # E.g. \"https://...\""
   ]
  },
  {
   "cell_type": "code",
   "execution_count": null,
   "id": "66a621c0-db5c-4e25-919e-099c2debbf88",
   "metadata": {
    "tags": []
   },
   "outputs": [],
   "source": [
    "boto3_bedrock = bedrock.get_bedrock_client(\n",
    "    assumed_role=os.environ.get(\"BEDROCK_ASSUME_ROLE\", None),\n",
    "    endpoint_url=os.environ.get(\"BEDROCK_ENDPOINT_URL\", None),\n",
    "    region=os.environ.get(\"AWS_DEFAULT_REGION\", None),\n",
    ")\n",
    "\n",
    "print (colored(\"\\n== FM lists ==\", \"green\"))\n",
    "pprint (bedrock_info.get_list_fm_models(verbose=False))"
   ]
  },
  {
   "cell_type": "markdown",
   "id": "c22b84be-91ee-4e22-8ed0-3c23b907172a",
   "metadata": {},
   "source": [
    "## 2. Titan Embedding 및 LLM 인 Claude-v3-sonnet 모델 로딩"
   ]
  },
  {
   "cell_type": "markdown",
   "id": "381aa4d7-0ad8-467b-af4a-c1514e9559d2",
   "metadata": {},
   "source": [
    "### LLM 로딩 (Claude-v3-sonnet)"
   ]
  },
  {
   "cell_type": "code",
   "execution_count": 2,
   "id": "febdbf9e-4ed9-49d2-aaad-6cda6fed1867",
   "metadata": {
    "tags": []
   },
   "outputs": [],
   "source": [
    "from langchain_aws import ChatBedrock\n",
    "from langchain.callbacks.streaming_stdout import StreamingStdOutCallbackHandler"
   ]
  },
  {
   "cell_type": "code",
   "execution_count": 3,
   "id": "bb4edb11-7ef2-4ab4-a36c-bc0f8a5c52a5",
   "metadata": {
    "tags": []
   },
   "outputs": [
    {
     "ename": "NameError",
     "evalue": "name 'bedrock_info' is not defined",
     "output_type": "error",
     "traceback": [
      "\u001b[0;31m---------------------------------------------------------------------------\u001b[0m",
      "\u001b[0;31mNameError\u001b[0m                                 Traceback (most recent call last)",
      "Cell \u001b[0;32mIn[3], line 2\u001b[0m\n\u001b[1;32m      1\u001b[0m llm_text \u001b[38;5;241m=\u001b[39m ChatBedrock(\n\u001b[0;32m----> 2\u001b[0m     model_id\u001b[38;5;241m=\u001b[39m\u001b[43mbedrock_info\u001b[49m\u001b[38;5;241m.\u001b[39mget_model_id(model_name\u001b[38;5;241m=\u001b[39m\u001b[38;5;124m\"\u001b[39m\u001b[38;5;124mClaude-V3-Sonnet\u001b[39m\u001b[38;5;124m\"\u001b[39m),\n\u001b[1;32m      3\u001b[0m     client\u001b[38;5;241m=\u001b[39mboto3_bedrock,\n\u001b[1;32m      4\u001b[0m     beta_use_converse_api\u001b[38;5;241m=\u001b[39m\u001b[38;5;28;01mTrue\u001b[39;00m,\n\u001b[1;32m      5\u001b[0m     streaming\u001b[38;5;241m=\u001b[39m\u001b[38;5;28;01mTrue\u001b[39;00m,\n\u001b[1;32m      6\u001b[0m     callbacks\u001b[38;5;241m=\u001b[39m[StreamingStdOutCallbackHandler()],\n\u001b[1;32m      7\u001b[0m     model_kwargs\u001b[38;5;241m=\u001b[39m{\n\u001b[1;32m      8\u001b[0m         \u001b[38;5;124m\"\u001b[39m\u001b[38;5;124mmax_tokens\u001b[39m\u001b[38;5;124m\"\u001b[39m: \u001b[38;5;241m1024\u001b[39m,\n\u001b[1;32m      9\u001b[0m         \u001b[38;5;124m\"\u001b[39m\u001b[38;5;124mstop_sequences\u001b[39m\u001b[38;5;124m\"\u001b[39m: [\u001b[38;5;124m\"\u001b[39m\u001b[38;5;130;01m\\n\u001b[39;00m\u001b[38;5;130;01m\\n\u001b[39;00m\u001b[38;5;124mHuman\u001b[39m\u001b[38;5;124m\"\u001b[39m],\n\u001b[1;32m     10\u001b[0m         \u001b[38;5;66;03m# \"temperature\": 0,\u001b[39;00m\n\u001b[1;32m     11\u001b[0m         \u001b[38;5;66;03m# \"top_k\": 350,\u001b[39;00m\n\u001b[1;32m     12\u001b[0m         \u001b[38;5;66;03m# \"top_p\": 0.999\u001b[39;00m\n\u001b[1;32m     13\u001b[0m     }\n\u001b[1;32m     14\u001b[0m )\n\u001b[1;32m     15\u001b[0m llm_text\n",
      "\u001b[0;31mNameError\u001b[0m: name 'bedrock_info' is not defined"
     ]
    }
   ],
   "source": [
    "llm_text = ChatBedrock(\n",
    "    model_id=bedrock_info.get_model_id(model_name=\"Claude-V3-Sonnet\"),\n",
    "    client=boto3_bedrock,\n",
    "    streaming=True,\n",
    "    callbacks=[StreamingStdOutCallbackHandler()],\n",
    "    model_kwargs={\n",
    "        \"max_tokens\": 1024,\n",
    "        \"stop_sequences\": [\"\\n\\nHuman\"],\n",
    "        # \"temperature\": 0,\n",
    "        # \"top_k\": 350,\n",
    "        # \"top_p\": 0.999\n",
    "    }\n",
    ")\n",
    "llm_text"
   ]
  },
  {
   "cell_type": "markdown",
   "id": "015716aa-a430-4811-a43b-2aab23c0f731",
   "metadata": {},
   "source": [
    "### Embedding 모델 선택"
   ]
  },
  {
   "cell_type": "code",
   "execution_count": null,
   "id": "d58da66f-d504-4434-85c4-85ce1cc6439a",
   "metadata": {
    "tags": []
   },
   "outputs": [],
   "source": [
    "from langchain.embeddings import BedrockEmbeddings"
   ]
  },
  {
   "cell_type": "code",
   "execution_count": null,
   "id": "372e1766-b30a-49ca-bd6d-6615397996a3",
   "metadata": {
    "tags": []
   },
   "outputs": [],
   "source": [
    "llm_emb = BedrockEmbeddings(\n",
    "    client=boto3_bedrock,\n",
    "    model_id=bedrock_info.get_model_id(model_name=\"Titan-Text-Embeddings-V2\")\n",
    ")\n",
    "dimension = 1024 #1536\n",
    "print(\"Bedrock Embeddings Model Loaded\")"
   ]
  },
  {
   "cell_type": "markdown",
   "id": "460fa49e-170e-4ca3-b3f4-0405e53a9e65",
   "metadata": {},
   "source": [
    "## 3. Depoly ReRanker model (if needed)"
   ]
  },
  {
   "cell_type": "code",
   "execution_count": null,
   "id": "8825f948-e6a4-4fdd-b820-7d2461331679",
   "metadata": {
    "tags": []
   },
   "outputs": [],
   "source": [
    "import json\n",
    "import sagemaker\n",
    "from sagemaker.huggingface import HuggingFaceModel"
   ]
  },
  {
   "cell_type": "code",
   "execution_count": null,
   "id": "22a22b0a-a289-4cc9-94da-70ceaa6c399f",
   "metadata": {
    "tags": []
   },
   "outputs": [],
   "source": [
    "depoly = True"
   ]
  },
  {
   "cell_type": "code",
   "execution_count": null,
   "id": "ab95ab6d-2521-4e54-8dc6-c30713613c18",
   "metadata": {
    "tags": []
   },
   "outputs": [],
   "source": [
    "if depoly:\n",
    "\n",
    "    try:\n",
    "        role = sagemaker.get_execution_role()\n",
    "    except ValueError:\n",
    "        iam = boto3.client('iam')\n",
    "        role = iam.get_role(RoleName='sagemaker_execution_role')['Role']['Arn']\n",
    "\n",
    "    # Hub Model configuration. https://huggingface.co/models\n",
    "    hub = {\n",
    "        'HF_MODEL_ID':'Dongjin-kr/ko-reranker',\n",
    "        'HF_TASK':'text-classification'\n",
    "    }\n",
    "\n",
    "    # create Hugging Face Model Class\n",
    "    huggingface_model = HuggingFaceModel(\n",
    "        transformers_version='4.26.0',\n",
    "        pytorch_version='1.13.1',\n",
    "        py_version='py39',\n",
    "        env=hub,\n",
    "        role=role, \n",
    "    )\n",
    "\n",
    "    # deploy model to SageMaker Inference\n",
    "    predictor = huggingface_model.deploy(\n",
    "        initial_instance_count=1, # number of instances\n",
    "        instance_type='ml.g5.xlarge' # instance type\n",
    "    )\n",
    "\n",
    "    print(f'Accept: {predictor.accept}')\n",
    "    print(f'ContentType: {predictor.content_type}')\n",
    "    print(f'Endpoint: {predictor.endpoint}')"
   ]
  },
  {
   "cell_type": "markdown",
   "id": "8159075b-f792-49dd-bafa-d35064712f43",
   "metadata": {},
   "source": [
    "#### Save reranker endpoint to Parameter Store"
   ]
  },
  {
   "cell_type": "code",
   "execution_count": null,
   "id": "94464cdf-469f-4c46-a6ca-d54a714fe0bc",
   "metadata": {
    "tags": []
   },
   "outputs": [],
   "source": [
    "if depoly:\n",
    "\n",
    "    import boto3\n",
    "    from utils.ssm import parameter_store\n",
    "\n",
    "    region=boto3.Session().region_name\n",
    "    pm = parameter_store(region)\n",
    "\n",
    "    pm.put_params(\n",
    "        key=\"reranker_endpoint\",\n",
    "        value=f'{predictor.endpoint}',\n",
    "        overwrite=True,\n",
    "        enc=False\n",
    "    )"
   ]
  },
  {
   "cell_type": "markdown",
   "id": "3bb8a33a-3ec6-466e-b1ba-25b34ddae850",
   "metadata": {},
   "source": [
    "## 4. Invocation (prediction)"
   ]
  },
  {
   "cell_type": "code",
   "execution_count": null,
   "id": "68b0e072-c49e-4deb-8ffb-01fdc807f30c",
   "metadata": {
    "tags": []
   },
   "outputs": [],
   "source": [
    "from utils.ssm import parameter_store"
   ]
  },
  {
   "cell_type": "code",
   "execution_count": null,
   "id": "534c3cb5-1a8b-42e6-bf98-24479f5f9506",
   "metadata": {
    "tags": []
   },
   "outputs": [],
   "source": [
    "region=boto3.Session().region_name\n",
    "pm = parameter_store(region)"
   ]
  },
  {
   "cell_type": "code",
   "execution_count": null,
   "id": "d13eae8d-6e1e-4203-9975-b968d8e87a08",
   "metadata": {
    "tags": []
   },
   "outputs": [],
   "source": [
    "runtime_client = boto3.Session().client('sagemaker-runtime')\n",
    "print (f'runtime_client: {runtime_client}')"
   ]
  },
  {
   "cell_type": "code",
   "execution_count": null,
   "id": "c360b768-f988-44cd-b3b3-8c7966a4f750",
   "metadata": {
    "tags": []
   },
   "outputs": [],
   "source": [
    "endpoint_name = pm.get_params(\n",
    "    key=\"reranker_endpoint\",\n",
    "    enc=False\n",
    ")\n",
    "deserializer = \"application/json\""
   ]
  },
  {
   "cell_type": "code",
   "execution_count": null,
   "id": "6d10e73d-8e2d-465f-b62d-93fe9cc10e19",
   "metadata": {
    "tags": []
   },
   "outputs": [],
   "source": [
    "payload = json.dumps(\n",
    "    {\n",
    "        \"inputs\": [\n",
    "            {\"text\": \"I hate you\", \"text_pair\": \"I don't like you\"},\n",
    "            {\"text\": \"He hates you\", \"text_pair\": \"He like you\"}\n",
    "        ]\n",
    "    }\n",
    ")"
   ]
  },
  {
   "cell_type": "code",
   "execution_count": null,
   "id": "aa7dc3d0-6798-473b-a1c0-fba39fdbc467",
   "metadata": {
    "tags": []
   },
   "outputs": [],
   "source": [
    "payload = json.dumps(\n",
    "    {\n",
    "        \"inputs\": [\n",
    "            {\"text\": \"나는 너를 사랑하지 않아\", \"text_pair\": \"나는 너를 좋아하지 않아\"},\n",
    "            {\"text\": \"그는 너를 싫어해\", \"text_pair\": \"그는 너를 좋아해\"}\n",
    "        ]\n",
    "    }\n",
    ")"
   ]
  },
  {
   "cell_type": "code",
   "execution_count": null,
   "id": "c71afa63-e158-4ad9-9ce2-46e3a5c263d4",
   "metadata": {
    "tags": []
   },
   "outputs": [],
   "source": [
    "%%time\n",
    "response = runtime_client.invoke_endpoint(\n",
    "    EndpointName=endpoint_name,\n",
    "    ContentType=\"application/json\",\n",
    "    Accept=deserializer,\n",
    "    Body=payload\n",
    ")\n",
    "## deserialization\n",
    "out = json.loads(response['Body'].read().decode()) ## for json\n",
    "print (f'Response: {out}')"
   ]
  },
  {
   "cell_type": "markdown",
   "id": "256786db-df24-47ac-b9a4-f195a8b015f2",
   "metadata": {},
   "source": [
    "## 5. LangChainOpenSearch VectorStore 정의\n",
    "### 선수 조건\n",
    "- 01_preprocess_docs/02_load_docs_opensearch.ipynb를 통해서 OpenSearch Index 가 생성이 되어 있어야 합니다.\n",
    "#### [중요] 아래에 aws parameter store 에 아래 인증정보가 먼저 입력되어 있어야 합니다.\n",
    "- 01_preprocess_docs/01_parameter_store_example.ipynb 참고"
   ]
  },
  {
   "cell_type": "code",
   "execution_count": null,
   "id": "7464c2d9-5188-4f07-81b9-451c51e028e6",
   "metadata": {
    "tags": []
   },
   "outputs": [],
   "source": [
    "import boto3\n",
    "from utils.ssm import parameter_store"
   ]
  },
  {
   "cell_type": "code",
   "execution_count": null,
   "id": "b40da258-a9e3-4270-a315-796e507d2ec8",
   "metadata": {
    "tags": []
   },
   "outputs": [],
   "source": [
    "region=boto3.Session().region_name\n",
    "pm = parameter_store(region)"
   ]
  },
  {
   "cell_type": "code",
   "execution_count": null,
   "id": "0df511f9-a967-4a7f-b463-873a0f4a589a",
   "metadata": {
    "tags": []
   },
   "outputs": [],
   "source": [
    "opensearch_domain_endpoint = pm.get_params(\n",
    "    key=\"opensearch_domain_endpoint\",\n",
    "    enc=False\n",
    ")\n",
    "\n",
    "opensearch_user_id = pm.get_params(\n",
    "    key=\"opensearch_user_id\",\n",
    "    enc=False\n",
    ")\n",
    "\n",
    "opensearch_user_password = pm.get_params(\n",
    "    key=\"opensearch_user_password\",\n",
    "    enc=True\n",
    ")"
   ]
  },
  {
   "cell_type": "code",
   "execution_count": null,
   "id": "a4ed12f3-77a7-4735-9a09-c7af0d68f6e9",
   "metadata": {
    "tags": []
   },
   "outputs": [],
   "source": [
    "opensearch_domain_endpoint = opensearch_domain_endpoint\n",
    "rag_user_name = opensearch_user_id\n",
    "rag_user_password = opensearch_user_password\n",
    "\n",
    "http_auth = (rag_user_name, rag_user_password) # Master username, Master password"
   ]
  },
  {
   "cell_type": "markdown",
   "id": "1f581678-99cb-4921-a854-eba604765b3b",
   "metadata": {},
   "source": [
    "### Index 이름 셋팅\n",
    "- 이전 노트북 01_preprocess_docs/02_load_docs_opensearch.ipynb를 통해서 생성된 OpenSearch Index name 입력"
   ]
  },
  {
   "cell_type": "code",
   "execution_count": null,
   "id": "2f215c42-8327-4d60-bb73-3a4e36977d78",
   "metadata": {
    "tags": []
   },
   "outputs": [],
   "source": [
    "index_name = opensearch_user_password = pm.get_params(\n",
    "    key=\"opensearch_index_name\",\n",
    "    enc=True\n",
    ")\n",
    "\n",
    "print (f'index_name: {index_name}')"
   ]
  },
  {
   "cell_type": "markdown",
   "id": "ca9624ab-14ff-49a8-b58a-2c9e05def784",
   "metadata": {},
   "source": [
    "### OpenSearch Client 생성"
   ]
  },
  {
   "cell_type": "code",
   "execution_count": null,
   "id": "61e4c63f-46f3-423e-95f1-4b0d80beaa43",
   "metadata": {
    "tags": []
   },
   "outputs": [],
   "source": [
    "from utils.opensearch import opensearch_utils"
   ]
  },
  {
   "cell_type": "code",
   "execution_count": null,
   "id": "8812a5e8-3bac-43ed-a7a0-e328c3f84658",
   "metadata": {
    "tags": []
   },
   "outputs": [],
   "source": [
    "aws_region = os.environ.get(\"AWS_DEFAULT_REGION\", None)\n",
    "os_client = opensearch_utils.create_aws_opensearch_client(\n",
    "    aws_region,\n",
    "    opensearch_domain_endpoint,\n",
    "    http_auth\n",
    ")"
   ]
  },
  {
   "cell_type": "markdown",
   "id": "6910e36a-c9b0-4162-9dbb-76b151b09862",
   "metadata": {},
   "source": [
    "## 4. Question Answering\n",
    "- [BedrockChat with claude3](https://medium.com/@dminhk/building-with-anthropics-claude-3-on-amazon-bedrock-and-langchain-%EF%B8%8F-2b842f9c0ca8)"
   ]
  },
  {
   "cell_type": "code",
   "execution_count": null,
   "id": "4c418f5d-5b26-4c2b-ac88-1e11b8f0d8ac",
   "metadata": {
    "tags": []
   },
   "outputs": [],
   "source": [
    "from utils.rag import qa_chain\n",
    "from utils.rag import prompt_repo, show_context_used\n",
    "from langchain.callbacks.tracers import ConsoleCallbackHandler\n",
    "from utils.rag import retriever_utils, OpenSearchHybridSearchRetriever"
   ]
  },
  {
   "cell_type": "markdown",
   "id": "70cb1747-c239-41a5-8f2a-f5dd9df6263f",
   "metadata": {},
   "source": [
    "### Retriever 정의"
   ]
  },
  {
   "cell_type": "code",
   "execution_count": null,
   "id": "4244599c-356e-4cd5-8509-d2f034f9ebf9",
   "metadata": {
    "tags": []
   },
   "outputs": [],
   "source": [
    "opensearch_hybrid_retriever = OpenSearchHybridSearchRetriever(\n",
    "    os_client=os_client,\n",
    "    index_name=index_name,\n",
    "    llm_text=llm_text, # llm for query augmentation in both rag_fusion and HyDE\n",
    "    llm_emb=llm_emb, # Used in semantic search based on opensearch \n",
    "\n",
    "    # hybird-search debugger\n",
    "    hybrid_search_debugger=\"None\", #[semantic, lexical, None]\n",
    "    \n",
    "    # option for lexical\n",
    "    minimum_should_match=0,\n",
    "    filter=[],\n",
    "\n",
    "    # option for search\n",
    "    fusion_algorithm=\"RRF\", # [\"RRF\", \"simple_weighted\"], rank fusion 방식 정의\n",
    "    ensemble_weights=[.51, .49], # [for semantic, for lexical], Semantic, Lexical search 결과에 대한 최종 반영 비율 정의\n",
    "    reranker=False, # enable reranker with reranker model\n",
    "    reranker_endpoint_name=endpoint_name, # endpoint name for reranking model\n",
    "    parent_document=False, # enable parent document\n",
    "    \n",
    "    # hybird-search debugger\n",
    "    #hybrid_search_debugger = \"semantic\", #[semantic, lexical, None]\n",
    "\n",
    "    #rag_fusion=True, # enable rag_fusion\n",
    "    #query_augmentation_size=2, # query_augmentation_size in rag_fusion\n",
    "    #hyde=False, # enable hyde\n",
    "    #hyde_query=[\"web_search\"], # query type in hyde \n",
    "    \n",
    "    # option for complex documents consisting of text, table and image\n",
    "    complex_doc=True,\n",
    "    \n",
    "    # option for async search\n",
    "    async_mode=True,\n",
    "\n",
    "    # option for output\n",
    "    k=5, # 최종 Document 수 정의\n",
    "    verbose=False,\n",
    ")"
   ]
  },
  {
   "cell_type": "markdown",
   "id": "d9adf603-c028-4076-8c0a-dab5e98ee366",
   "metadata": {},
   "source": [
    "### QA chain 정의"
   ]
  },
  {
   "cell_type": "code",
   "execution_count": null,
   "id": "4d4f0756-afb7-45dc-aea7-e1f915a20d8d",
   "metadata": {
    "tags": []
   },
   "outputs": [],
   "source": [
    "system_prompt = prompt_repo.get_system_prompt()"
   ]
  },
  {
   "cell_type": "code",
   "execution_count": null,
   "id": "8c99e6c6-d3e2-4bc3-834d-1fa9e4610a53",
   "metadata": {
    "tags": []
   },
   "outputs": [],
   "source": [
    "qa = qa_chain(\n",
    "    llm_text=llm_text,\n",
    "    retriever=opensearch_hybrid_retriever,\n",
    "    system_prompt=system_prompt,\n",
    "    return_context=True,\n",
    "    verbose=False\n",
    ")"
   ]
  },
  {
   "cell_type": "code",
   "execution_count": null,
   "id": "c52c5de5-6ec3-4729-bc87-9bb9e82c5b35",
   "metadata": {
    "tags": []
   },
   "outputs": [],
   "source": [
    "query = \"디지털 성범죄란?\"\n",
    "\n",
    "response, contexts = qa.invoke(\n",
    "    query=query,\n",
    "    verbose=False\n",
    ")\n",
    "\n",
    "show_context_used(contexts)"
   ]
  },
  {
   "cell_type": "markdown",
   "id": "b68e6691-1b5f-4572-a151-6ebcabfe5b34",
   "metadata": {},
   "source": [
    "### Parameter updates"
   ]
  },
  {
   "cell_type": "code",
   "execution_count": null,
   "id": "2e5eef84-5d10-46e2-b0fa-3dcac41084e6",
   "metadata": {
    "tags": []
   },
   "outputs": [],
   "source": [
    "opensearch_hybrid_retriever.update_search_params(\n",
    "    k=7,\n",
    "    minimum_should_match=0,\n",
    "    \n",
    "    # hybird-search debugger\n",
    "    hybrid_search_debugger=\"None\", #[lexical, semantic, None]\n",
    "    \n",
    "    # filter=[\n",
    "    #     {'term': {'metadata.family_tree': 'child'}},\n",
    "    # ],\n",
    "    \n",
    "    reranker=True, # enable reranker with reranker model\n",
    "    reranker_endpoint_name=endpoint_name, # endpoint name for reranking model\n",
    "    \n",
    "    rag_fusion=False, # enable rag_fusion\n",
    "    query_augmentation_size=2, # query_augmentation_size in rag_fusion\n",
    "    \n",
    "    hyde=False, # enable hyde\n",
    "    hyde_query=[\"web_search\"], # query type in hyde \n",
    "    \n",
    "    parent_document=False, # enable parent document\n",
    "    \n",
    "    # option for complex documents consisting of text, table and image\n",
    "    complex_doc=True, # False 이면, invocation시 text만 넣는다. 단, \n",
    "    \n",
    "    ensemble_weights=[0.51, 0.49], #semantic, lexical\n",
    "    verbose=False\n",
    ")"
   ]
  },
  {
   "cell_type": "code",
   "execution_count": null,
   "id": "c317afb2-db7a-46c3-94c8-1b1418ca879d",
   "metadata": {
    "tags": []
   },
   "outputs": [],
   "source": [
    "query = \"여름철 폭염 검강관리 3대 수칙은?\" # for table"
   ]
  },
  {
   "cell_type": "code",
   "execution_count": null,
   "id": "3b5834ab-a54b-42df-82e4-7f0d5f6e11ea",
   "metadata": {
    "tags": []
   },
   "outputs": [],
   "source": [
    "response, contexts = qa.invoke(\n",
    "    query = query,\n",
    "    verbose=False\n",
    ")"
   ]
  },
  {
   "cell_type": "code",
   "execution_count": null,
   "id": "7589172a-c6de-42ec-8119-fa3011ecd730",
   "metadata": {
    "tags": []
   },
   "outputs": [],
   "source": [
    "print(\"##################################\")\n",
    "print(\"query: \", query)\n",
    "print(\"##################################\")\n",
    "\n",
    "print (colored(\"\\n\\n### Answer ###\", \"blue\"))\n",
    "print_ww(response)\n",
    "\n",
    "\n",
    "print (colored(\"\\n\\n### Contexts ###\", \"green\"))\n",
    "show_context_used(contexts, limit=10)"
   ]
  },
  {
   "cell_type": "markdown",
   "id": "993c427e-aa41-4c8b-ae00-9dc6dd6c6f7a",
   "metadata": {
    "tags": []
   },
   "source": [
    "### Multi-turn using chat history"
   ]
  },
  {
   "cell_type": "code",
   "execution_count": null,
   "id": "4ade616d-7ba4-4f19-ad62-3f246204eb2a",
   "metadata": {
    "tags": []
   },
   "outputs": [],
   "source": [
    "from utils.chat import chat_utils\n",
    "from langchain.schema.output_parser import StrOutputParser\n",
    "from langchain_core.prompts import MessagesPlaceholder\n",
    "from langchain_core.prompts import ChatPromptTemplate, HumanMessagePromptTemplate, SystemMessagePromptTemplate"
   ]
  },
  {
   "cell_type": "markdown",
   "id": "2af4d169-9736-4eab-b587-abd650388122",
   "metadata": {
    "tags": []
   },
   "source": [
    "#### Momory setting and Save query and response as chat history"
   ]
  },
  {
   "cell_type": "code",
   "execution_count": null,
   "id": "2913f43d-d397-4a15-b246-e41d1d81b043",
   "metadata": {
    "tags": []
   },
   "outputs": [],
   "source": [
    "memory = chat_utils.get_memory(\n",
    "    memory_type=\"ConversationBufferMemory\",\n",
    "    memory_key=\"chat_history\"\n",
    ")\n",
    "\n",
    "history = memory.load_memory_variables({})[\"chat_history\"]"
   ]
  },
  {
   "cell_type": "code",
   "execution_count": null,
   "id": "f5acef41-e2e6-4f92-ba4e-623b1d7f01e1",
   "metadata": {
    "tags": []
   },
   "outputs": [],
   "source": [
    "memory.chat_memory.add_user_message(query)\n",
    "memory.chat_memory.add_ai_message(response)"
   ]
  },
  {
   "cell_type": "code",
   "execution_count": null,
   "id": "37f70130-f55d-4b40-8d5e-fab19154d17f",
   "metadata": {
    "tags": []
   },
   "outputs": [],
   "source": [
    "print('memory: ', history)"
   ]
  },
  {
   "cell_type": "markdown",
   "id": "e03a81eb-d431-4393-8ef9-7ee9d159d36e",
   "metadata": {},
   "source": [
    "#### Rephrase quetions based on chat hostory "
   ]
  },
  {
   "cell_type": "code",
   "execution_count": 4,
   "id": "1a9d7221-d5f3-4b3a-904c-623252b84e56",
   "metadata": {
    "collapsed": true,
    "jupyter": {
     "outputs_hidden": true
    },
    "tags": []
   },
   "outputs": [
    {
     "ename": "NameError",
     "evalue": "name 'prompt_repo' is not defined",
     "output_type": "error",
     "traceback": [
      "\u001b[0;31m---------------------------------------------------------------------------\u001b[0m",
      "\u001b[0;31mNameError\u001b[0m                                 Traceback (most recent call last)",
      "Cell \u001b[0;32mIn[4], line 6\u001b[0m\n\u001b[1;32m      1\u001b[0m human_prompt \u001b[38;5;241m=\u001b[39m \u001b[38;5;124m\"\"\"\u001b[39m\n\u001b[1;32m      2\u001b[0m \u001b[38;5;124m               Here is the question: <question>\u001b[39m\u001b[38;5;132;01m{question}\u001b[39;00m\u001b[38;5;124m</question>\u001b[39m\n\u001b[1;32m      3\u001b[0m \u001b[38;5;124m               Write in Korean.\u001b[39m\n\u001b[1;32m      4\u001b[0m \u001b[38;5;124m               \u001b[39m\u001b[38;5;124m\"\"\"\u001b[39m\n\u001b[0;32m----> 6\u001b[0m system_prompt \u001b[38;5;241m=\u001b[39m \u001b[43mprompt_repo\u001b[49m\u001b[38;5;241m.\u001b[39mget_contextualize_system_prompt()\n\u001b[1;32m      7\u001b[0m system_message_template \u001b[38;5;241m=\u001b[39m SystemMessagePromptTemplate\u001b[38;5;241m.\u001b[39mfrom_template(system_prompt)\n\u001b[1;32m      8\u001b[0m human_message_template \u001b[38;5;241m=\u001b[39m HumanMessagePromptTemplate\u001b[38;5;241m.\u001b[39mfrom_template(human_prompt)\n",
      "\u001b[0;31mNameError\u001b[0m: name 'prompt_repo' is not defined"
     ]
    }
   ],
   "source": [
    "human_prompt = \"\"\"\n",
    "               Here is the question: <question>{question}</question>\n",
    "               Write in Korean.\n",
    "               \"\"\"\n",
    "               \n",
    "system_prompt = prompt_repo.get_contextualize_system_prompt()\n",
    "system_message_template = SystemMessagePromptTemplate.from_template(system_prompt)\n",
    "human_message_template = HumanMessagePromptTemplate.from_template(human_prompt)"
   ]
  },
  {
   "cell_type": "code",
   "execution_count": null,
   "id": "dd67c58e-df9a-409b-9f2c-20d072fecbb5",
   "metadata": {
    "tags": []
   },
   "outputs": [],
   "source": [
    "contextualize_q_prompt = ChatPromptTemplate.from_messages(\n",
    "    [\n",
    "        system_message_template,\n",
    "        MessagesPlaceholder(\"chat_history\"),\n",
    "        human_message_template\n",
    "    ]\n",
    ")"
   ]
  },
  {
   "cell_type": "code",
   "execution_count": null,
   "id": "80476aef-af26-43d8-b82e-d21035ba2480",
   "metadata": {
    "tags": []
   },
   "outputs": [],
   "source": [
    "chain = contextualize_q_prompt | llm_text | StrOutputParser()"
   ]
  },
  {
   "cell_type": "code",
   "execution_count": null,
   "id": "77f57d5c-1e67-4ede-bcd1-cac42784ed0d",
   "metadata": {
    "tags": []
   },
   "outputs": [],
   "source": [
    "#query = \"첫 번째 답에서 각 사례, 유형은 뭐가 있어?\"\n",
    "query = \"학교에서 발생할 수 있는 감염병의 종류와 감염경로?\"\n",
    "\n",
    "history = memory.load_memory_variables({})[\"chat_history\"]\n",
    "print('memory: ', history)\n",
    "revised_question = chain.invoke(\n",
    "    {\n",
    "        \"chat_history\": history,\n",
    "        \"question\": query,\n",
    "    }\n",
    ")\n",
    "revised_question = revised_question.replace(\"<result>\", \"\").replace(\"</result>\", \"\")\n",
    "print (\"=============\")\n",
    "print (f'revised_question: {revised_question}')"
   ]
  },
  {
   "cell_type": "code",
   "execution_count": null,
   "id": "1d31c8a4-5f2e-4419-989b-551b4d690e34",
   "metadata": {
    "tags": []
   },
   "outputs": [],
   "source": [
    "print (f'revised_question: {revised_question}')"
   ]
  },
  {
   "cell_type": "markdown",
   "id": "333b352b-6d62-4b0c-b083-ac5e8458f59f",
   "metadata": {},
   "source": [
    "#### Repeat QA and save chat history"
   ]
  },
  {
   "cell_type": "code",
   "execution_count": null,
   "id": "16966868-841d-4ea2-b196-566b8a8726fc",
   "metadata": {
    "tags": []
   },
   "outputs": [],
   "source": [
    "response, contexts = qa.invoke(\n",
    "    query = revised_question,\n",
    "    verbose=False\n",
    ")"
   ]
  },
  {
   "cell_type": "code",
   "execution_count": null,
   "id": "e1baae7e-aa9f-456b-a455-bf9bea04c12a",
   "metadata": {
    "tags": []
   },
   "outputs": [],
   "source": [
    "memory.chat_memory.add_user_message(query)\n",
    "memory.chat_memory.add_ai_message(response)"
   ]
  },
  {
   "cell_type": "code",
   "execution_count": null,
   "id": "2db51ac6-1374-42f1-be5e-c4cb9d177b16",
   "metadata": {
    "tags": []
   },
   "outputs": [],
   "source": [
    "print('memory: ', history)"
   ]
  }
 ],
 "metadata": {
  "kernelspec": {
   "display_name": "conda_python3",
   "language": "python",
   "name": "conda_python3"
  },
  "language_info": {
   "codemirror_mode": {
    "name": "ipython",
    "version": 3
   },
   "file_extension": ".py",
   "mimetype": "text/x-python",
   "name": "python",
   "nbconvert_exporter": "python",
   "pygments_lexer": "ipython3",
   "version": "3.10.14"
  }
 },
 "nbformat": 4,
 "nbformat_minor": 5
}
