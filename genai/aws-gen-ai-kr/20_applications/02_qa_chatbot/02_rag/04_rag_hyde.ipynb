{
 "cells": [
  {
   "cell_type": "markdown",
   "id": "5deb2df2-413d-49bd-a829-3a1fc344937e",
   "metadata": {},
   "source": [
    "# RAG Based on HyDE\n",
    "- Hybrid Search\n",
    "- ReRanker\n",
    "- HyDE (Hypothetical Document Embeddings)"
   ]
  },
  {
   "cell_type": "markdown",
   "id": "b1f81abc-3277-4a6b-9ef1-d4f997d67fbe",
   "metadata": {},
   "source": [
    "## Setting\n",
    " - Auto Reload\n",
    " - path for utils"
   ]
  },
  {
   "cell_type": "code",
   "execution_count": 1,
   "id": "ddde4105-b759-4d6c-8214-8e1ab485ae48",
   "metadata": {
    "tags": []
   },
   "outputs": [],
   "source": [
    "%load_ext autoreload\n",
    "%autoreload 2"
   ]
  },
  {
   "cell_type": "code",
   "execution_count": 2,
   "id": "57c2cdb1-d785-4317-afce-938f13141085",
   "metadata": {
    "tags": []
   },
   "outputs": [],
   "source": [
    "import sys, os\n",
    "module_path = \"../../..\"\n",
    "sys.path.append(os.path.abspath(module_path))"
   ]
  },
  {
   "cell_type": "markdown",
   "id": "9c4ade56-8dbc-4ded-b355-7e4bcc971e90",
   "metadata": {},
   "source": [
    "## 1. Bedrock Client 생성"
   ]
  },
  {
   "cell_type": "code",
   "execution_count": 3,
   "id": "cc2d877f-e877-48f6-8dd4-239de20e45cd",
   "metadata": {
    "tags": []
   },
   "outputs": [],
   "source": [
    "import json\n",
    "import boto3\n",
    "from pprint import pprint\n",
    "from termcolor import colored\n",
    "from utils import bedrock, print_ww\n",
    "from utils.bedrock import bedrock_info"
   ]
  },
  {
   "cell_type": "markdown",
   "id": "088e6490-c79a-49e4-841c-9fdb91292608",
   "metadata": {},
   "source": [
    "### ---- ⚠️ Un-comment and edit the below lines as needed for your AWS setup ⚠️ ----\n",
    "- os.environ[\"AWS_DEFAULT_REGION\"] = \"<REGION_NAME>\"  # E.g. \"us-east-1\"\n",
    "- os.environ[\"AWS_PROFILE\"] = \"<YOUR_PROFILE>\"\n",
    "- os.environ[\"BEDROCK_ASSUME_ROLE\"] = \"<YOUR_ROLE_ARN>\"  # E.g. \"arn:aws:...\"\n",
    "- os.environ[\"BEDROCK_ENDPOINT_URL\"] = \"<YOUR_ENDPOINT_URL>\"  # E.g. \"https://...\""
   ]
  },
  {
   "cell_type": "code",
   "execution_count": 4,
   "id": "cab9312c-5f61-4730-96c3-5eef54a5f08c",
   "metadata": {
    "tags": []
   },
   "outputs": [
    {
     "name": "stdout",
     "output_type": "stream",
     "text": [
      "Create new client\n",
      "  Using region: None\n",
      "  Using profile: None\n",
      "boto3 Bedrock client successfully created!\n",
      "bedrock-runtime(https://bedrock-runtime.us-east-1.amazonaws.com)\n",
      "\u001b[32m\n",
      "== FM lists ==\u001b[0m\n",
      "{'Claude-Instant-V1': 'anthropic.claude-instant-v1',\n",
      " 'Claude-V1': 'anthropic.claude-v1',\n",
      " 'Claude-V2': 'anthropic.claude-v2',\n",
      " 'Claude-V2-1': 'anthropic.claude-v2:1',\n",
      " 'Cohere-Embeddings-En': 'cohere.embed-english-v3',\n",
      " 'Cohere-Embeddings-Multilingual': 'cohere.embed-multilingual-v3',\n",
      " 'Command': 'cohere.command-text-v14',\n",
      " 'Command-Light': 'cohere.command-light-text-v14',\n",
      " 'Jurassic-2-Mid': 'ai21.j2-mid-v1',\n",
      " 'Jurassic-2-Ultra': 'ai21.j2-ultra-v1',\n",
      " 'Llama2-13b-Chat': 'meta.llama2-13b-chat-v1',\n",
      " 'Titan-Embeddings-G1': 'amazon.titan-embed-text-v1',\n",
      " 'Titan-Text-G1': 'amazon.titan-text-express-v1',\n",
      " 'Titan-Text-G1-Light': 'amazon.titan-text-lite-v1'}\n"
     ]
    }
   ],
   "source": [
    "boto3_bedrock = bedrock.get_bedrock_client(\n",
    "    assumed_role=os.environ.get(\"BEDROCK_ASSUME_ROLE\", None),\n",
    "    endpoint_url=os.environ.get(\"BEDROCK_ENDPOINT_URL\", None),\n",
    "    region=os.environ.get(\"AWS_DEFAULT_REGION\", None),\n",
    ")\n",
    "\n",
    "aws_region = os.environ.get(\"AWS_DEFAULT_REGION\", None)\n",
    "print (colored(\"\\n== FM lists ==\", \"green\"))\n",
    "pprint (bedrock_info.get_list_fm_models())"
   ]
  },
  {
   "cell_type": "markdown",
   "id": "241a9e34-417a-422f-9f75-cb211b2e70e1",
   "metadata": {
    "tags": []
   },
   "source": [
    "## 2. Titan Embedding 및 LLM 인 Claude-v2 모델 로딩"
   ]
  },
  {
   "cell_type": "markdown",
   "id": "29bf63d2-4110-407c-af06-a45d2fbed4b5",
   "metadata": {},
   "source": [
    "### LLM 로딩 (Claude-v2)"
   ]
  },
  {
   "cell_type": "code",
   "execution_count": 5,
   "id": "9c51443a-04f9-465c-9564-53053eb3e1c2",
   "metadata": {
    "tags": []
   },
   "outputs": [],
   "source": [
    "from langchain.llms.bedrock import Bedrock\n",
    "from langchain.callbacks.streaming_stdout import StreamingStdOutCallbackHandler"
   ]
  },
  {
   "cell_type": "code",
   "execution_count": 7,
   "id": "d09e84e0-b9e1-4b12-8e7a-68f03c5416e5",
   "metadata": {
    "tags": []
   },
   "outputs": [
    {
     "data": {
      "text/plain": [
       "Bedrock(client=<botocore.client.BedrockRuntime object at 0x7f4322412da0>, model_id='anthropic.claude-v2:1', model_kwargs={'max_tokens_to_sample': 512}, streaming=True, callbacks=[<langchain_core.callbacks.streaming_stdout.StreamingStdOutCallbackHandler object at 0x7f43602d68f0>])"
      ]
     },
     "execution_count": 7,
     "metadata": {},
     "output_type": "execute_result"
    }
   ],
   "source": [
    "llm_text = Bedrock(\n",
    "    model_id=bedrock_info.get_model_id(model_name=\"Claude-V2-1\"),\n",
    "    client=boto3_bedrock,\n",
    "    model_kwargs={\n",
    "        \"max_tokens_to_sample\": 512\n",
    "    },\n",
    "    streaming=True,\n",
    "    callbacks=[StreamingStdOutCallbackHandler()]\n",
    ")\n",
    "\n",
    "llm_text"
   ]
  },
  {
   "cell_type": "markdown",
   "id": "3ba2e829-af8f-4e90-b994-59106cdec8d8",
   "metadata": {},
   "source": [
    "### Embedding 모델 선택"
   ]
  },
  {
   "cell_type": "code",
   "execution_count": 8,
   "id": "0b7b8752-d1e3-4f41-ba35-6da42c3785db",
   "metadata": {
    "tags": []
   },
   "outputs": [],
   "source": [
    "from utils.rag import KoSimCSERobertaContentHandler, SagemakerEndpointEmbeddingsJumpStart"
   ]
  },
  {
   "cell_type": "code",
   "execution_count": 9,
   "id": "793b03f7-3186-4969-b76a-98fe56bd5fdc",
   "metadata": {
    "tags": []
   },
   "outputs": [],
   "source": [
    "def get_embedding_model(is_bedrock_embeddings, is_KoSimCSERobert, aws_region, endpont_name=None):\n",
    "    \n",
    "    if is_bedrock_embeddings:\n",
    "        # We will be using the Titan Embeddings Model to generate our Embeddings.\n",
    "        from langchain.embeddings import BedrockEmbeddings\n",
    "        llm_emb = BedrockEmbeddings(\n",
    "            client=boto3_bedrock,\n",
    "            model_id=bedrock_info.get_model_id(\n",
    "                model_name=\"Titan-Embeddings-G1\"\n",
    "            )\n",
    "        )\n",
    "        print(\"Bedrock Embeddings Model Loaded\")\n",
    "\n",
    "    elif is_KoSimCSERobert:\n",
    "        LLMEmbHandler = KoSimCSERobertaContentHandler()\n",
    "        endpoint_name_emb = endpont_name\n",
    "        llm_emb = SagemakerEndpointEmbeddingsJumpStart(\n",
    "            endpoint_name=endpoint_name_emb,\n",
    "            region_name=aws_region,\n",
    "            content_handler=LLMEmbHandler,\n",
    "        )        \n",
    "        print(\"KoSimCSERobert Embeddings Model Loaded\")\n",
    "    else:\n",
    "        llm_emb = None\n",
    "        print(\"No Embedding Model Selected\")\n",
    "    \n",
    "    return llm_emb"
   ]
  },
  {
   "cell_type": "markdown",
   "id": "cd72a6b8-eaf0-4036-a530-3bde5ba988cd",
   "metadata": {},
   "source": [
    "#### [중요] is_KoSimCSERobert == True 일시에 endpoint_name 을 꼭 넣어 주세요."
   ]
  },
  {
   "cell_type": "code",
   "execution_count": 10,
   "id": "f42e032b-8715-432c-ae71-12a889f8ffc0",
   "metadata": {
    "tags": []
   },
   "outputs": [
    {
     "name": "stdout",
     "output_type": "stream",
     "text": [
      "Bedrock Embeddings Model Loaded\n"
     ]
    }
   ],
   "source": [
    "is_bedrock_embeddings = True\n",
    "is_KoSimCSERobert = False\n",
    "aws_region = os.environ.get(\"AWS_DEFAULT_REGION\", None)\n",
    "\n",
    "##############################\n",
    "# Parameters for is_KoSimCSERobert\n",
    "##############################\n",
    "if is_KoSimCSERobert: endpont_name = \"<endpoint-name>\"\n",
    "else: endpont_name = None\n",
    "##############################\n",
    "\n",
    "llm_emb = get_embedding_model(is_bedrock_embeddings, is_KoSimCSERobert, aws_region, endpont_name)   "
   ]
  },
  {
   "cell_type": "markdown",
   "id": "e10b67d5-382e-4715-a841-eb07b8655da8",
   "metadata": {},
   "source": [
    "## 3. Depoly ReRanker model (if needed)"
   ]
  },
  {
   "cell_type": "code",
   "execution_count": 11,
   "id": "9a08a296-41ef-44cb-857b-63d05a8d187c",
   "metadata": {
    "tags": []
   },
   "outputs": [
    {
     "name": "stdout",
     "output_type": "stream",
     "text": [
      "sagemaker.config INFO - Not applying SDK defaults from location: /etc/xdg/sagemaker/config.yaml\n",
      "sagemaker.config INFO - Not applying SDK defaults from location: /home/ec2-user/.config/sagemaker/config.yaml\n"
     ]
    }
   ],
   "source": [
    "import json\n",
    "import sagemaker\n",
    "from sagemaker.huggingface import HuggingFaceModel"
   ]
  },
  {
   "cell_type": "code",
   "execution_count": 12,
   "id": "33dd04a7-8200-49e7-ae69-55a82be199b4",
   "metadata": {
    "tags": []
   },
   "outputs": [],
   "source": [
    "depoly = False"
   ]
  },
  {
   "cell_type": "code",
   "execution_count": 13,
   "id": "9d40e3dd-a19f-4af3-831a-0cfe79e72cb3",
   "metadata": {
    "tags": []
   },
   "outputs": [],
   "source": [
    "if depoly:\n",
    "\n",
    "    try:\n",
    "        role = sagemaker.get_execution_role()\n",
    "    except ValueError:\n",
    "        iam = boto3.client('iam')\n",
    "        role = iam.get_role(RoleName='sagemaker_execution_role')['Role']['Arn']\n",
    "\n",
    "    # Hub Model configuration. https://huggingface.co/models\n",
    "    hub = {\n",
    "        'HF_MODEL_ID':'BAAI/bge-reranker-large',\n",
    "        'HF_TASK':'text-classification'\n",
    "    }\n",
    "\n",
    "    # create Hugging Face Model Class\n",
    "    huggingface_model = HuggingFaceModel(\n",
    "        transformers_version='4.26.0',\n",
    "        pytorch_version='1.13.1',\n",
    "        py_version='py39',\n",
    "        env=hub,\n",
    "        role=role, \n",
    "    )\n",
    "\n",
    "    # deploy model to SageMaker Inference\n",
    "    predictor = huggingface_model.deploy(\n",
    "        initial_instance_count=1, # number of instances\n",
    "        instance_type='ml.g5.xlarge' # instance type\n",
    "    )\n",
    "\n",
    "    print(f'Accept: {predictor.accept}')\n",
    "    print(f'ContentType: {predictor.content_type}')\n",
    "    print(f'Endpoint: {predictor.endpoint}')"
   ]
  },
  {
   "cell_type": "markdown",
   "id": "20e648ef-01ec-4e2f-ba88-7d2510fdb7a6",
   "metadata": {},
   "source": [
    "## 4. Invocation (prediction)"
   ]
  },
  {
   "cell_type": "code",
   "execution_count": 14,
   "id": "114be617-a687-4733-abb9-30394c7ef35f",
   "metadata": {
    "tags": []
   },
   "outputs": [
    {
     "name": "stdout",
     "output_type": "stream",
     "text": [
      "runtime_client: <botocore.client.SageMakerRuntime object at 0x7f422c615390>\n"
     ]
    }
   ],
   "source": [
    "runtime_client = boto3.Session().client('sagemaker-runtime')\n",
    "print (f'runtime_client: {runtime_client}')"
   ]
  },
  {
   "cell_type": "code",
   "execution_count": 15,
   "id": "26ee5c45-de87-4a2b-bc04-bbc649fcd0c6",
   "metadata": {
    "tags": []
   },
   "outputs": [],
   "source": [
    "#endpoint_name = \"huggingface-pytorch-inference-2023-11-15-04-37-45-120\" # ml.m5.2xlarge\n",
    "endpoint_name = \"huggingface-pytorch-inference-2023-11-15-07-53-21-605\" # ml.g5.xlarge\n",
    "deserializer = \"application/json\""
   ]
  },
  {
   "cell_type": "code",
   "execution_count": 16,
   "id": "bd6288ed-b4fa-466f-9e2b-57484b827b0a",
   "metadata": {
    "tags": []
   },
   "outputs": [],
   "source": [
    "payload = json.dumps(\n",
    "    {\n",
    "        \"inputs\": [\n",
    "            {\"text\": \"I hate you\", \"text_pair\": \"I don't like you\"},\n",
    "            {\"text\": \"He hates you\", \"text_pair\": \"He like you\"}\n",
    "        ]\n",
    "    }\n",
    ")"
   ]
  },
  {
   "cell_type": "code",
   "execution_count": 17,
   "id": "c1eebe88-8b92-4e81-a103-b5a5d7a91bb3",
   "metadata": {
    "tags": []
   },
   "outputs": [
    {
     "name": "stdout",
     "output_type": "stream",
     "text": [
      "Response: [{'label': 'LABEL_0', 'score': 0.999653697013855}, {'label': 'LABEL_0', 'score': 0.025255175307393074}]\n",
      "CPU times: user 20.1 ms, sys: 1.34 ms, total: 21.4 ms\n",
      "Wall time: 79.3 ms\n"
     ]
    }
   ],
   "source": [
    "%%time\n",
    "response = runtime_client.invoke_endpoint(\n",
    "    EndpointName=endpoint_name,\n",
    "    ContentType=\"application/json\",\n",
    "    Accept=deserializer,\n",
    "    Body=payload\n",
    ")\n",
    "## deserialization\n",
    "out = json.loads(response['Body'].read().decode()) ## for json\n",
    "print (f'Response: {out}')"
   ]
  },
  {
   "cell_type": "markdown",
   "id": "7e432237-b9b5-4be3-aa0c-c30eeca6f480",
   "metadata": {},
   "source": [
    "## 5. LangChainmOpenSearch VectorStore 정의\n",
    "### 선수 조건\n",
    "- 01_preprocess_docs/02_load_docs_opensearch.ipynb를 통해서 OpenSearch Index 가 생성이 되어 있어야 합니다.\n",
    "#### [중요] 아래에 aws parameter store 에 아래 인증정보가 먼저 입력되어 있어야 합니다.\n",
    "- 01_preprocess_docs/01_parameter_store_example.ipynb 참고"
   ]
  },
  {
   "cell_type": "code",
   "execution_count": 18,
   "id": "635ffe33-b1b1-49f7-ae14-07b782d30a63",
   "metadata": {
    "tags": []
   },
   "outputs": [],
   "source": [
    "from utils.proc_docs import get_parameter"
   ]
  },
  {
   "cell_type": "code",
   "execution_count": 19,
   "id": "42d192b6-68ce-465e-9fa7-04b5201f4453",
   "metadata": {
    "tags": []
   },
   "outputs": [],
   "source": [
    "ssm = boto3.client(\"ssm\", \"us-east-1\")\n",
    "\n",
    "opensearch_domain_endpoint = get_parameter(\n",
    "    boto3_client = ssm,\n",
    "    parameter_name = 'knox_opensearch_domain_endpoint',\n",
    ")\n",
    "\n",
    "opensearch_user_id = get_parameter(\n",
    "    boto3_client = ssm,\n",
    "    parameter_name = 'knox_opensearch_userid',\n",
    ")\n",
    "\n",
    "opensearch_user_password = get_parameter(\n",
    "    boto3_client = ssm,\n",
    "    parameter_name = 'knox_opensearch_password',\n",
    ")"
   ]
  },
  {
   "cell_type": "code",
   "execution_count": 20,
   "id": "fc7866fd-fd9c-4b41-b600-a91e43edfe4d",
   "metadata": {
    "tags": []
   },
   "outputs": [],
   "source": [
    "opensearch_domain_endpoint = opensearch_domain_endpoint\n",
    "rag_user_name = opensearch_user_id\n",
    "rag_user_password = opensearch_user_password\n",
    "\n",
    "http_auth = (rag_user_name, rag_user_password) # Master username, Master password"
   ]
  },
  {
   "cell_type": "markdown",
   "id": "161a900e-effc-4d7f-a179-b6c00eac03ad",
   "metadata": {
    "tags": []
   },
   "source": [
    "### Index 이름 셋팅\n",
    "- 이전 노트북 01_preprocess_docs/02_load_docs_opensearch.ipynb를 통해서 생성된 OpenSearch Index name 입력"
   ]
  },
  {
   "cell_type": "code",
   "execution_count": 21,
   "id": "d5d9b5eb-052e-4e84-846b-c5385e853ba4",
   "metadata": {
    "tags": []
   },
   "outputs": [],
   "source": [
    "index_name = \"genai-poc-knox-incremental-1024c-256o-v7\""
   ]
  },
  {
   "cell_type": "markdown",
   "id": "482f5785-b88d-44fa-a603-080e4bd734a6",
   "metadata": {},
   "source": [
    "### OpenSearch Client 생성"
   ]
  },
  {
   "cell_type": "code",
   "execution_count": 22,
   "id": "968b7502-5799-4702-bc17-959e88c330a2",
   "metadata": {
    "tags": []
   },
   "outputs": [],
   "source": [
    "from utils.opensearch import opensearch_utils"
   ]
  },
  {
   "cell_type": "code",
   "execution_count": 23,
   "id": "6ceb46a1-e425-4f7e-9319-793b55abb938",
   "metadata": {
    "tags": []
   },
   "outputs": [],
   "source": [
    "os_client = opensearch_utils.create_aws_opensearch_client(\n",
    "    aws_region,\n",
    "    opensearch_domain_endpoint,\n",
    "    http_auth\n",
    ")"
   ]
  },
  {
   "cell_type": "markdown",
   "id": "a5084376-7523-4cf9-9123-adc4ae79f66d",
   "metadata": {
    "tags": []
   },
   "source": [
    "## 6. Retriever based on Hybrid Search + HyDE + ReRanker\n",
    "- LangChain에서 제공하는 **BaseRetriever** 클래스를 상속받아 **Custom Retriever**를 정의 할 수 있습니다.\n",
    "- Hybrid-Search에 대한 자세한 내용는 **\"01_rag_hybrid_search.ipyno\"** 에서 확인 가능합니다.\n",
    "- [HyDE](https://medium.com/prompt-engineering/hyde-revolutionising-search-with-hypothetical-document-embeddings-3474df795af8)\n",
    "![HyDE.png](../../../imgs/HyDE.png)"
   ]
  },
  {
   "cell_type": "code",
   "execution_count": 24,
   "id": "5db8e470-63a9-4c3d-94c8-1d270a6da822",
   "metadata": {
    "tags": []
   },
   "outputs": [],
   "source": [
    "from utils.rag import OpenSearchHybridSearchRetriever"
   ]
  },
  {
   "cell_type": "markdown",
   "id": "d7feac2f-21a2-4756-b989-66c180bb1e79",
   "metadata": {},
   "source": [
    "- 필터 설정 예시\n",
    "- filter=[ <BR>\n",
    "    　{\"term\": {\"metadata.[**your_metadata_attribute_name**]\": \"**your first keyword**\"}}, <BR>\n",
    "    　{\"term\": {\"metadata.[**your_metadata_attribute_name**]\": \"**your second keyword**\"}},<BR>\n",
    "]"
   ]
  },
  {
   "cell_type": "code",
   "execution_count": 26,
   "id": "49c7e131-294f-4ff8-9331-989709c7079c",
   "metadata": {
    "tags": []
   },
   "outputs": [],
   "source": [
    "opensearch_hybrid_retriever = OpenSearchHybridSearchRetriever(\n",
    "    os_client=os_client,\n",
    "    index_name=index_name,\n",
    "    llm_text=llm_text, # llm for query augmentation in both rag_fusion and HyDE\n",
    "    llm_emb=llm_emb,\n",
    "\n",
    "    # option for lexical\n",
    "    minimum_should_match=0,\n",
    "    filter=[],\n",
    "\n",
    "    # option for search\n",
    "    fusion_algorithm=\"RRF\", # [\"RRF\", \"simple_weighted\"], rank fusion 방식 정의\n",
    "    ensemble_weights=[.5, .5], # [for lexical, for semantic], Lexical, Semantic search 결과에 대한 최종 반영 비율 정의\n",
    "    reranker=True, # enable reranker with reranker model\n",
    "    reranker_endpoint_name=endpoint_name, # endpoint name for reranking model\n",
    "    hyde=True, # enable hyde\n",
    "    hyde_query=[\"web_search\"], # query type in hyde \n",
    "    \n",
    "\n",
    "    # option for async search\n",
    "    async_mode=True,\n",
    "\n",
    "    # option for output\n",
    "    k=5, # 최종 Document 수 정의\n",
    "    verbose=True,\n",
    ")"
   ]
  },
  {
   "cell_type": "markdown",
   "id": "cfb26835-ad98-41c5-9e9d-2453642e3551",
   "metadata": {},
   "source": [
    "### Retrieval example\n",
    "- default search"
   ]
  },
  {
   "cell_type": "code",
   "execution_count": 27,
   "id": "9c06e89f-79de-413c-ba9c-a188ca3fe2d0",
   "metadata": {
    "tags": []
   },
   "outputs": [],
   "source": [
    "from utils.rag import show_context_used"
   ]
  },
  {
   "cell_type": "code",
   "execution_count": 28,
   "id": "fe3bfee3-dac1-45b9-8795-03e36c1632a9",
   "metadata": {
    "tags": []
   },
   "outputs": [],
   "source": [
    "query = \"what is verify DM\""
   ]
  },
  {
   "cell_type": "code",
   "execution_count": 29,
   "id": "05b13e5e-4a66-4dc8-b18c-42a6e3bd6037",
   "metadata": {
    "tags": []
   },
   "outputs": [
    {
     "name": "stdout",
     "output_type": "stream",
     "text": [
      " Here is a concise passage answering what verify DM is:\n",
      "\n",
      "Verify DM is a process used on social media platforms like Twitter to verify the authenticity of accounts belonging to public figures, celebrities, brands or organizations. When an account gets verified, it displays a blue verified badge icon next to the account name to indicate that the account is genuine and not an impersonator. The verification provides a level of authenticity and trust for high-profile accounts. Twitter and other platforms have a verification process that reviews accounts to ensure they meet criteria like being notable, active, and that there is a public interest in knowing an account is authentic.===== HyDE Answers =====\n",
      "['what is verify DM', ' Here is a concise passage answering what verify DM is:\\n\\nVerify DM is a process used on social media platforms like Twitter to verify the authenticity of accounts belonging to public figures, celebrities, brands or organizations. When an account gets verified, it displays a blue verified badge icon next to the account name to indicate that the account is genuine and not an impersonator. The verification provides a level of authenticity and trust for high-profile accounts. Twitter and other platforms have a verification process that reviews accounts to ensure they meet criteria like being notable, active, and that there is a public interest in knowing an account is authentic.']\n",
      "##############################\n",
      "async_mode\n",
      "##############################\n",
      "True\n",
      "##############################\n",
      "reranker\n",
      "##############################\n",
      "True\n",
      "##############################\n",
      "rag_fusion\n",
      "##############################\n",
      "False\n",
      "##############################\n",
      "HyDE\n",
      "##############################\n",
      "True\n",
      "##############################\n",
      "parent_document\n",
      "##############################\n",
      "False\n",
      "##############################\n",
      "similar_docs_semantic\n",
      "##############################\n",
      "[(Document(page_content='. The Admin package signature checksum is the Base64 encoded SHA-256 hash of the MDM APK signature, which is URL friendly. You can get this value from your MDM. Go here for information on the `EXTRA_PROVISIONING_DEVICE_ADMIN_SIGNATURE_CHECKSUM`. Alternatively, you can use utilities such as keytool on Linux to get this value. For additional information, go here.', metadata={'source': 'all_processed_data.json', 'seq_num': 559, 'title': 'What is the valid input for Signing Key?', 'url': 'https://docs.samsungknox.com/admin/knox-mobile-enrollment/on-premise/kbas/kba-3-valid-input-signing-key', 'project': 'KME', 'last_updated': '2023-07-26', 'id': 'd0c461c2-6bac-4e01-b215-11fdfbc6313c'}), 0.016133229247983348), (Document(page_content='. For more details on this topic, see Enable Verified Access with Chrome OS devices. Values Ensure devices in your organization will verify their identity to content providers using a unique key &mdash; Enables Verified Access on the Chromebook. Do not require devices to verify their identity to content providers &mdash; Verified Access on the Chromebook. If set, some premium web content might be unavailable to the device user. Chrome OS 99 and higher Verified mode Controls whether Verified Access can attest the Chromebook if it boots into developer mode. For more details, see Enable Verified Access with Chrome OS devices. Values Require verified mode boot for verified access &mdash; If the Chromebook boots into developer mode, it fails verification by Verified Access. Skip boot mode for verified access &mdash; If the Chromebook boots into developer mode, it can be verified by Verified Access', metadata={'source': 'all_processed_data.json', 'seq_num': 914, 'title': 'Chrome OS policies', 'url': 'https://docs.samsungknox.com/admin/knox-manage/configure/profile/configure-profile-policies/chrome-os-policies', 'project': 'KM', 'last_updated': '2023-07-26', 'id': 'a2eed74c-967c-4b8f-8689-6fcee4d5a627'}), 0.016001024065540194), (Document(page_content='to establish connection to certificate revocation status Compliance Check System Forgery Violated version control policy (Device) Violated recording prevention policy (Device) Device Managed Google Play token issuance (Device) Managed Google Play account registration (Device) Managed Google Play account report (Device) Managed Google Play account removal (Device) SIM card has changed', metadata={'source': 'all_processed_data.json', 'seq_num': 779, 'title': 'Device audit events', 'url': 'https://docs.samsungknox.com/admin/knox-manage/appendix/list-of-audit-events/device-audit-events', 'project': 'KM', 'last_updated': '2023-07-26', 'id': '8ef395d5-a885-499b-8c4c-5e294e202641'}), 0.015268065268065269), (Document(page_content=\"Which servers do EMMs need to communicate with in order to conduct device attestation?. Environment Any Samsung device supporting the Knox framework. Summary Your firewall must allow HTTPS traffic between the device management server and Samsung's Attestation service. The device management server initiates each session. The general Attestation API domain is attest-api.secb2b.com. There are also three region specific domains: China region - china-attest-api.secb2b.com.cn, European region - eu-attest-api.secb2b.com, US region - us-attest-api.secb2b.com Depending on your location and EMM configuration, you need to allow traffic to one, or several of these domains.\", metadata={'source': 'all_processed_data.json', 'seq_num': 1444, 'title': 'Which servers do EMMs need to communicate with in order to conduct device attestation?', 'url': 'https://docs.samsungknox.com/admin/knox-platform-for-enterprise/kbas/kba-115013298328', 'project': 'KPE', 'last_updated': '2023-07-26', 'id': '003dfe29-d2b6-4425-9570-bcc2cfcacd9e'}), 0.015154994259471873), (Document(page_content=\"What can I do if I'm not receiving the verification email when registering for a Samsung Account?. Here are some possible scenarios for not getting the verification email, and actions you can try: Scenario Action You can't access the device used for 2-step verification. Contact Samsung Support in your region. After we verify your identity (full name, date of birth, device IMEI or serial number), we temporarily deactivate two-step verification. You can then sign in to your account and register a new device or change the phone number used for two-step verification. You lost your backup code. Contact Samsung Support in your region. After we verify your identity (full name, date of birth, device IMEI or serial number), we send you a new backup code. You can't access the email account used to register the Samsung Account. As per our Samsung Account policy, if you lose access to your email account, you should create a new Samsung account and associate it with a new email address\", metadata={'source': 'all_processed_data.json', 'seq_num': 181, 'title': \"What can I do if I'm not receiving the verification email when registering for a Samsung Account?\", 'url': 'https://docs.samsungknox.com/admin/fundamentals/kbas/kba-360032622774', 'project': 'USP', 'last_updated': '2023-07-26', 'id': 'b9f7b18f-8969-491f-b18a-07a3fe2e487a'}), 0.00819672131147541), (Document(page_content='. The Admin component name is expressed as _package name/class name_. For example, com.airwatch.androidagent/com.airwatch.agent.DeviceAdministratorReceiver for the Workspace ONE UEM. The Admin package signature checksum is the Base64 encoded SHA-256 hash of the MDM APK signature, which is URL friendly. You can get this value from your MDM. Go here for information on the EXTRA_PROVISIONING_DEVICE_ADMIN_SIGNATURE_CHECKSUM. Alternatively, you can use utilities such as _Keytool_ on Linux to get this value. Go here\" for additional information. The MDM app name is the name of the app displayed on the Managed Provisioning screen. The App icon is the icon displayed next to the MDM app name. The minimum size is 48 x 48 pixels, and the file format needs to be a PNG file. To use this information to create an enrollment profile, see Android Enterprise profiles. What\\'s new pop-up messaging This release introduces a pop-message with new descriptive text of the new features introduced with the KCS 1.34 release', metadata={'source': 'all_processed_data.json', 'seq_num': 503, 'title': 'Knox Mobile Enrollment 1.34 release notes', 'url': 'https://docs.samsungknox.com/admin/knox-mobile-enrollment/release-notes/20-09', 'project': 'KME', 'last_updated': '2023-07-26', 'id': 'c7bc7ee5-a6cb-4ad8-b268-f5dba332690e'}), 0.008064516129032258), (Document(page_content='Universal Credential Management (UCM). Digital credentials are critical mobile security building blocks, leveraging trusted authorities to validate identity and secure private channels across public deployments. Your mobile device credentials provide seamless access to secured Wi-Fi, VPN, email, and websites. Credentials include certificates providing identity and private keys to decrypt sensitive data. These credentials must be securely stored to prevent malicious parties from exploiting your identity and accessing confidential data. Universal Credential Management works only on Qualcomm and Exynos chip devices', metadata={'source': 'all_processed_data.json', 'seq_num': 117, 'title': 'Universal Credential Management (UCM)', 'url': 'https://docs.samsungknox.com/admin/fundamentals/whitepaper/certificate-management/universal-credential-management', 'project': 'USP', 'last_updated': '2023-07-26', 'id': 'f0a88cf5-469e-4f45-b469-3ce70b4b2c13'}), 0.0078125)]\n",
      "##############################\n",
      "similar_docs_keyword\n",
      "##############################\n",
      "[(Document(page_content='Code EMM Enrollment (Device &#x2192; Server) EMM Enrollment (Server &#x2192; Device) EMM Enrollment Spec (Device &#x2192; Server) EMM Enrollment Spec (Server &#x2192; Device) Azure AD Device Sync Request Request for discovery URL (Device &#x2192; Server) Respond to the request for Discovery URL (Server &#x2192; Device) Respond to the request to set DM Client Request to verify Federated equipment (Device &#x2192; Server) Respond to the request to verify Federated equipment (Server &#x2192; Device) Request SOAP message Verify Security Token Respond to SOAP message Deactivate service (Device &#x2192; Server) Deactivate service (Server &#x2192; Device) Request to issue certificate (Device &#x2192; Server) Respond to request to issue certificate (Server &#x2192; Device) Request for spec to issue certificate (Device &#x2192; Server) Respond to the request for spec to issue certificate(Server &#x2192; Device) Google sync Google resource synchronization via Google API (Device) Google resource synchronization via', metadata={'source': 'all_processed_data.json', 'seq_num': 781, 'title': 'Server audit events', 'url': 'https://docs.samsungknox.com/admin/knox-manage/appendix/list-of-audit-events/server-audit-events', 'project': 'KM', 'last_updated': '2023-07-26', 'id': '230ce7a3-07f3-4138-a3e8-278fee7c856f'}), 1.0), (Document(page_content='. Start Minimum requirements There are only a few requirements you need to meet to take advantage of the Knox Platform for Enterprise: 1. An MDM\"and a Samsung device that is compatible with Knox Platform for Enterprise. Knox Platform for Enterprise is supported on select Samsung Android Devices. Contact your operator to verify that your devices are compatible. Our MDM partners support many Knox features and comprehensive policy levels. 2. A valid Knox License. 3. A Samsung Knox account (optional). This allows you to manage your license keys, submit support tickets and access other Knox related assets. Check what version of the Knox Platform is running on your devices To find out what version of the Knox platform your device is running, go to: Settings > About Device > Software Information > Knox Version. To identify the SDK version that corresponds with the Knox API Level of your target devices, see the Knox version mapping table in Samsung Knox Developer documentation. #Recommended Knox solutions 1', metadata={'source': 'all_processed_data.json', 'seq_num': 1342, 'title': 'Knox Platform for Enterprise', 'url': 'https://docs.samsungknox.com/admin/knox-platform-for-enterprise', 'project': 'KPE', 'last_updated': '2023-07-26', 'id': 'c131d530-1b72-4aa8-bf83-13c41c911561'}), 0.7526956273635976), (Document(page_content='Australia. Login to the portal You can check the detailed status of your claim by logging in to your Samsung Care+ for Business portal at samsungknox.com. Submit a single service request If you want to make a service request for a single device: 1. Go to the Submit New Service Request page. 2. Search the device ID. 3. Click on the checkbox next to the device. 4. Click NEXT. 5. In the next page, verify the device details and click VERIFY MY DEVICE. 6. Select what is the issue with the device. 7. Enter and confirm the delivery details. 8. Click SUBMIT. 9. In the CONFIRM SERVICE REQUEST pop-up, verify the details and click SUBMIT MY SERVICE REQUEST. Submit multiple service requests in bulk If you want to make service requests for multiple devices: 1. Go to the Submit New Service Request page. 3. Click on the checkbox next to the devices you want to make the service request for. 4. Click NEXT. 9. In the CONFIRM BULK SERVICE REQUEST pop-up, verify the details and click SUBMIT MY SERVICE REQUEST', metadata={'source': 'all_processed_data.json', 'seq_num': 341, 'title': 'Australia', 'url': 'https://docs.samsungknox.com/admin/care-plus/submit-a-claim/australia', 'project': 'SCPE', 'last_updated': '2023-07-26', 'id': '411abd56-034f-4d96-990c-f9a2987ffc5b'}), 0.7519282983672445), (Document(page_content=\". NOTE - You can't select a firmware version to apply when creating a test campaign. Instead, dummy firmware is applied by default. 6. Click Assign. 7. Click Create and Activate. The campaign is added to the Campaigns list. 8. Check the device for the dummy firmware update. If the campaign is applied successfully, the device status changes to Campaign Active. In the following example, the dummy firmware to be applied has the file extension .DM. 9. When you're done with your test campaign, revert the dummy firmware to regular firmware. 1. Go to Devices > All Devices. 2. Click Action > Unassign campaign. The device status changes to Enrolled and the dummy firmware is reverted to regular firmware.\", metadata={'source': 'all_processed_data.json', 'seq_num': 230, 'title': 'Create a test campaign', 'url': 'https://docs.samsungknox.com/admin/efota-one/features/create-a-campaign/create-a-test-campaign', 'project': 'EFOTA', 'last_updated': '2023-07-26', 'id': '129b09de-d047-4417-88cd-1cf9a3dbda15'}), 0.6968505858622394), (Document(page_content=\"What can I do if I'm not receiving the verification email when registering for a Samsung Account?. Here are some possible scenarios for not getting the verification email, and actions you can try: Scenario Action You can't access the device used for 2-step verification. Contact Samsung Support in your region. After we verify your identity (full name, date of birth, device IMEI or serial number), we temporarily deactivate two-step verification. You can then sign in to your account and register a new device or change the phone number used for two-step verification. You lost your backup code. Contact Samsung Support in your region. After we verify your identity (full name, date of birth, device IMEI or serial number), we send you a new backup code. You can't access the email account used to register the Samsung Account. As per our Samsung Account policy, if you lose access to your email account, you should create a new Samsung account and associate it with a new email address\", metadata={'source': 'all_processed_data.json', 'seq_num': 181, 'title': \"What can I do if I'm not receiving the verification email when registering for a Samsung Account?\", 'url': 'https://docs.samsungknox.com/admin/fundamentals/kbas/kba-360032622774', 'project': 'USP', 'last_updated': '2023-07-26', 'id': 'b9f7b18f-8969-491f-b18a-07a3fe2e487a'}), 0.6830308716124407), (Document(page_content='. Try to manually refresh the client on the device by executing a Force client refresh. If the problem persists, contact Samsung. Failed to install 762 Firmware installation has failed because the installation is terminated by the system. Try to manually refresh the client on the device by executing a Force client refresh. If the problem persists, contact Samsung. Failed to install 763 Firmware installation has failed because an unexpected error occurred. Try to manually refresh the client on the device by executing a Force client refresh. If the problem persists, contact Samsung. Failed to install 764 Firmware installation has failed because an error occurred during the delta firmware installation process. Try to manually refresh the client on the device by executing a Force client refresh. If the problem persists, contact Samsung. Failed to install 765 Firmware installation has failed because the dm-verity check failed in recovery mode', metadata={'source': 'all_processed_data.json', 'seq_num': 285, 'title': 'Error codes', 'url': 'https://docs.samsungknox.com/admin/efota-one/troubleshoot/error-codes', 'project': 'EFOTA', 'last_updated': '2023-08-15', 'id': 'ac54c64b-8de1-432b-8d0a-01e88ade0f2b'}), 0.6124550999933894), (Document(page_content=\". SDP encryption Samsung Galaxy devices supporting Knox 3.3 and above are enabled to support Android's File Based Encryption (FBE) for Data-at-Rest. Data encryption is enforced across the device using: EXT4 encryption FBE mechanism, FIPS compliant hardware crypto module (AES256-XTS) Optionally, the external SD Card can be used with: dm-crypt (introduced with Android 11) or eCryptfs stacked file system, FIPS compliant Kernel crypto module (AES256-CBC). FBE keys are derived using a password entry, which is either the default hard-coded password or the device user's password used to unlock the device. While in the unlocked state, SDP works as follows: Encrypts sensitive data using a per-file File Encryption Key (FEK). These keys are encrypted with the SDPK.sym (Sensitive Data Protection Key, symmetric), which is encrypted by the SdpMasterKey. Keeps the SdpMasterKey in memory only while the device is unlocked, to allow decryption of the SDPK.sym and SDPK.pri (private)\", metadata={'source': 'all_processed_data.json', 'seq_num': 123, 'title': 'Sensitive Data Protection (SDP)', 'url': 'https://docs.samsungknox.com/admin/fundamentals/whitepaper/core-platform-security/sensitive-data-protection', 'project': 'USP', 'last_updated': '2023-07-26', 'id': 'e1150a10-17eb-4a92-a26b-f2e897b3bee5'}), 0.581270082338229)]\n",
      "##############################\n",
      "similar_docs\n",
      "##############################\n",
      "[(Document(page_content='Code EMM Enrollment (Device &#x2192; Server) EMM Enrollment (Server &#x2192; Device) EMM Enrollment Spec (Device &#x2192; Server) EMM Enrollment Spec (Server &#x2192; Device) Azure AD Device Sync Request Request for discovery URL (Device &#x2192; Server) Respond to the request for Discovery URL (Server &#x2192; Device) Respond to the request to set DM Client Request to verify Federated equipment (Device &#x2192; Server) Respond to the request to verify Federated equipment (Server &#x2192; Device) Request SOAP message Verify Security Token Respond to SOAP message Deactivate service (Device &#x2192; Server) Deactivate service (Server &#x2192; Device) Request to issue certificate (Device &#x2192; Server) Respond to request to issue certificate (Server &#x2192; Device) Request for spec to issue certificate (Device &#x2192; Server) Respond to the request for spec to issue certificate(Server &#x2192; Device) Google sync Google resource synchronization via Google API (Device) Google resource synchronization via', metadata={'source': 'all_processed_data.json', 'seq_num': 781, 'title': 'Server audit events', 'url': 'https://docs.samsungknox.com/admin/knox-manage/appendix/list-of-audit-events/server-audit-events', 'project': 'KM', 'last_updated': '2023-07-26', 'id': '230ce7a3-07f3-4138-a3e8-278fee7c856f'}), 0.033477310091257095), (Document(page_content='. For more details on this topic, see Enable Verified Access with Chrome OS devices. Values Ensure devices in your organization will verify their identity to content providers using a unique key &mdash; Enables Verified Access on the Chromebook. Do not require devices to verify their identity to content providers &mdash; Verified Access on the Chromebook. If set, some premium web content might be unavailable to the device user. Chrome OS 99 and higher Verified mode Controls whether Verified Access can attest the Chromebook if it boots into developer mode. For more details, see Enable Verified Access with Chrome OS devices. Values Require verified mode boot for verified access &mdash; If the Chromebook boots into developer mode, it fails verification by Verified Access. Skip boot mode for verified access &mdash; If the Chromebook boots into developer mode, it can be verified by Verified Access', metadata={'source': 'all_processed_data.json', 'seq_num': 914, 'title': 'Chrome OS policies', 'url': 'https://docs.samsungknox.com/admin/knox-manage/configure/profile/configure-profile-policies/chrome-os-policies', 'project': 'KM', 'last_updated': '2023-07-26', 'id': 'a2eed74c-967c-4b8f-8689-6fcee4d5a627'}), 0.004268542397767305), (Document(page_content='to establish connection to certificate revocation status Compliance Check System Forgery Violated version control policy (Device) Violated recording prevention policy (Device) Device Managed Google Play token issuance (Device) Managed Google Play account registration (Device) Managed Google Play account report (Device) Managed Google Play account removal (Device) SIM card has changed', metadata={'source': 'all_processed_data.json', 'seq_num': 779, 'title': 'Device audit events', 'url': 'https://docs.samsungknox.com/admin/knox-manage/appendix/list-of-audit-events/device-audit-events', 'project': 'KM', 'last_updated': '2023-07-26', 'id': '8ef395d5-a885-499b-8c4c-5e294e202641'}), 0.00054655980784446), (Document(page_content='Australia. Login to the portal You can check the detailed status of your claim by logging in to your Samsung Care+ for Business portal at samsungknox.com. Submit a single service request If you want to make a service request for a single device: 1. Go to the Submit New Service Request page. 2. Search the device ID. 3. Click on the checkbox next to the device. 4. Click NEXT. 5. In the next page, verify the device details and click VERIFY MY DEVICE. 6. Select what is the issue with the device. 7. Enter and confirm the delivery details. 8. Click SUBMIT. 9. In the CONFIRM SERVICE REQUEST pop-up, verify the details and click SUBMIT MY SERVICE REQUEST. Submit multiple service requests in bulk If you want to make service requests for multiple devices: 1. Go to the Submit New Service Request page. 3. Click on the checkbox next to the devices you want to make the service request for. 4. Click NEXT. 9. In the CONFIRM BULK SERVICE REQUEST pop-up, verify the details and click SUBMIT MY SERVICE REQUEST', metadata={'source': 'all_processed_data.json', 'seq_num': 341, 'title': 'Australia', 'url': 'https://docs.samsungknox.com/admin/care-plus/submit-a-claim/australia', 'project': 'SCPE', 'last_updated': '2023-07-26', 'id': '411abd56-034f-4d96-990c-f9a2987ffc5b'}), 0.0002000283420784399), (Document(page_content='. Start Minimum requirements There are only a few requirements you need to meet to take advantage of the Knox Platform for Enterprise: 1. An MDM\"and a Samsung device that is compatible with Knox Platform for Enterprise. Knox Platform for Enterprise is supported on select Samsung Android Devices. Contact your operator to verify that your devices are compatible. Our MDM partners support many Knox features and comprehensive policy levels. 2. A valid Knox License. 3. A Samsung Knox account (optional). This allows you to manage your license keys, submit support tickets and access other Knox related assets. Check what version of the Knox Platform is running on your devices To find out what version of the Knox platform your device is running, go to: Settings > About Device > Software Information > Knox Version. To identify the SDK version that corresponds with the Knox API Level of your target devices, see the Knox version mapping table in Samsung Knox Developer documentation. #Recommended Knox solutions 1', metadata={'source': 'all_processed_data.json', 'seq_num': 1342, 'title': 'Knox Platform for Enterprise', 'url': 'https://docs.samsungknox.com/admin/knox-platform-for-enterprise', 'project': 'KPE', 'last_updated': '2023-07-26', 'id': 'c131d530-1b72-4aa8-bf83-13c41c911561'}), 0.00019711472850758582)]\n",
      "\n",
      "==========  Results  ==========\n",
      "\n",
      "1. question: what is verify DM\n",
      "2. # documents: 5\n",
      "3. Documents: \n",
      "\n",
      "-----------------------------------------------\n",
      "1. Chunk: 1019 Characters\n",
      "-----------------------------------------------\n",
      "Code EMM Enrollment (Device &#x2192; Server) EMM Enrollment (Server &#x2192; Device) EMM Enrollment\n",
      "Spec (Device &#x2192; Server) EMM Enrollment Spec (Server &#x2192; Device) Azure AD Device Sync\n",
      "Request Request for discovery URL (Device &#x2192; Server) Respond to the request for Discovery URL\n",
      "(Server &#x2192; Device) Respond to the request to set DM Client Request to verify Federated\n",
      "equipment (Device &#x2192; Server) Respond to the request to verify Federated equipment (Server\n",
      "&#x2192; Device) Request SOAP message Verify Security Token Respond to SOAP message Deactivate\n",
      "service (Device &#x2192; Server) Deactivate service (Server &#x2192; Device) Request to issue\n",
      "certificate (Device &#x2192; Server) Respond to request to issue certificate (Server &#x2192;\n",
      "Device) Request for spec to issue certificate (Device &#x2192; Server) Respond to the request for\n",
      "spec to issue certificate(Server &#x2192; Device) Google sync Google resource synchronization via\n",
      "Google API (Device) Google resource synchronization via\n",
      "metadata:\n",
      " {'source': 'all_processed_data.json', 'seq_num': 781, 'title': 'Server audit events', 'url':\n",
      "'https://docs.samsungknox.com/admin/knox-manage/appendix/list-of-audit-events/server-audit-events',\n",
      "'project': 'KM', 'last_updated': '2023-07-26', 'id': '230ce7a3-07f3-4138-a3e8-278fee7c856f'}\n",
      "-----------------------------------------------\n",
      "2. Chunk: 905 Characters\n",
      "-----------------------------------------------\n",
      ". For more details on this topic, see Enable Verified Access with Chrome OS devices. Values Ensure\n",
      "devices in your organization will verify their identity to content providers using a unique key\n",
      "&mdash; Enables Verified Access on the Chromebook. Do not require devices to verify their identity\n",
      "to content providers &mdash; Verified Access on the Chromebook. If set, some premium web content\n",
      "might be unavailable to the device user. Chrome OS 99 and higher Verified mode Controls whether\n",
      "Verified Access can attest the Chromebook if it boots into developer mode. For more details, see\n",
      "Enable Verified Access with Chrome OS devices. Values Require verified mode boot for verified access\n",
      "&mdash; If the Chromebook boots into developer mode, it fails verification by Verified Access. Skip\n",
      "boot mode for verified access &mdash; If the Chromebook boots into developer mode, it can be\n",
      "verified by Verified Access\n",
      "metadata:\n",
      " {'source': 'all_processed_data.json', 'seq_num': 914, 'title': 'Chrome OS policies', 'url':\n",
      "'https://docs.samsungknox.com/admin/knox-manage/configure/profile/configure-profile-policies/chrome-\n",
      "os-policies', 'project': 'KM', 'last_updated': '2023-07-26', 'id':\n",
      "'a2eed74c-967c-4b8f-8689-6fcee4d5a627'}\n",
      "-----------------------------------------------\n",
      "3. Chunk: 386 Characters\n",
      "-----------------------------------------------\n",
      "to establish connection to certificate revocation status Compliance Check System Forgery Violated\n",
      "version control policy (Device) Violated recording prevention policy (Device) Device Managed Google\n",
      "Play token issuance (Device) Managed Google Play account registration (Device) Managed Google Play\n",
      "account report (Device) Managed Google Play account removal (Device) SIM card has changed\n",
      "metadata:\n",
      " {'source': 'all_processed_data.json', 'seq_num': 779, 'title': 'Device audit events', 'url':\n",
      "'https://docs.samsungknox.com/admin/knox-manage/appendix/list-of-audit-events/device-audit-events',\n",
      "'project': 'KM', 'last_updated': '2023-07-26', 'id': '8ef395d5-a885-499b-8c4c-5e294e202641'}\n",
      "-----------------------------------------------\n",
      "4. Chunk: 1004 Characters\n",
      "-----------------------------------------------\n",
      "Australia. Login to the portal You can check the detailed status of your claim by logging in to your\n",
      "Samsung Care+ for Business portal at samsungknox.com. Submit a single service request If you want to\n",
      "make a service request for a single device: 1. Go to the Submit New Service Request page. 2. Search\n",
      "the device ID. 3. Click on the checkbox next to the device. 4. Click NEXT. 5. In the next page,\n",
      "verify the device details and click VERIFY MY DEVICE. 6. Select what is the issue with the device.\n",
      "7. Enter and confirm the delivery details. 8. Click SUBMIT. 9. In the CONFIRM SERVICE REQUEST pop-\n",
      "up, verify the details and click SUBMIT MY SERVICE REQUEST. Submit multiple service requests in bulk\n",
      "If you want to make service requests for multiple devices: 1. Go to the Submit New Service Request\n",
      "page. 3. Click on the checkbox next to the devices you want to make the service request for. 4.\n",
      "Click NEXT. 9. In the CONFIRM BULK SERVICE REQUEST pop-up, verify the details and click SUBMIT MY\n",
      "SERVICE REQUEST\n",
      "metadata:\n",
      " {'source': 'all_processed_data.json', 'seq_num': 341, 'title': 'Australia', 'url':\n",
      "'https://docs.samsungknox.com/admin/care-plus/submit-a-claim/australia', 'project': 'SCPE',\n",
      "'last_updated': '2023-07-26', 'id': '411abd56-034f-4d96-990c-f9a2987ffc5b'}\n",
      "-----------------------------------------------\n",
      "5. Chunk: 1014 Characters\n",
      "-----------------------------------------------\n",
      ". Start Minimum requirements There are only a few requirements you need to meet to take advantage of\n",
      "the Knox Platform for Enterprise: 1. An MDM\"and a Samsung device that is compatible with Knox\n",
      "Platform for Enterprise. Knox Platform for Enterprise is supported on select Samsung Android\n",
      "Devices. Contact your operator to verify that your devices are compatible. Our MDM partners support\n",
      "many Knox features and comprehensive policy levels. 2. A valid Knox License. 3. A Samsung Knox\n",
      "account (optional). This allows you to manage your license keys, submit support tickets and access\n",
      "other Knox related assets. Check what version of the Knox Platform is running on your devices To\n",
      "find out what version of the Knox platform your device is running, go to: Settings > About Device >\n",
      "Software Information > Knox Version. To identify the SDK version that corresponds with the Knox API\n",
      "Level of your target devices, see the Knox version mapping table in Samsung Knox Developer\n",
      "documentation. #Recommended Knox solutions 1\n",
      "metadata:\n",
      " {'source': 'all_processed_data.json', 'seq_num': 1342, 'title': 'Knox Platform for Enterprise',\n",
      "'url': 'https://docs.samsungknox.com/admin/knox-platform-for-enterprise', 'project': 'KPE',\n",
      "'last_updated': '2023-07-26', 'id': 'c131d530-1b72-4aa8-bf83-13c41c911561'}\n",
      "CPU times: user 380 ms, sys: 28.7 ms, total: 409 ms\n",
      "Wall time: 5.37 s\n"
     ]
    }
   ],
   "source": [
    "%%time\n",
    "search_hybrid_result = opensearch_hybrid_retriever.get_relevant_documents(query)\n",
    "\n",
    "print(\"\\n==========  Results  ==========\\n\")\n",
    "print(f'1. question: {query}')\n",
    "print (f'2. # documents: {len(search_hybrid_result)}')\n",
    "print(\"3. Documents: \\n\")\n",
    "\n",
    "show_context_used(search_hybrid_result)"
   ]
  },
  {
   "cell_type": "markdown",
   "id": "c09221b5-4a6c-463b-9769-35cc8362e33c",
   "metadata": {},
   "source": [
    "- update parameters"
   ]
  },
  {
   "cell_type": "code",
   "execution_count": 30,
   "id": "b7bb4672-d2b8-4b29-b71c-b06d84bcd470",
   "metadata": {
    "tags": []
   },
   "outputs": [],
   "source": [
    "opensearch_hybrid_retriever.update_search_params(\n",
    "    k=10,\n",
    "    minimum_should_match=30,\n",
    "    #filter=[],\n",
    "    filter=[\n",
    "        {\"term\": {\"metadata.project\": \"KS\"}},\n",
    "    ],\n",
    "    reranker=True,\n",
    "    reranker_endpoint_name=endpoint_name,\n",
    "    hyde=True, # enable hyde\n",
    "    hyde_query=[\"web_search\"], # query type in hyde \n",
    "    llm_text=llm_text, # llm for query augmentation in rag_fusion\n",
    "    verbose=False\n",
    ")"
   ]
  },
  {
   "cell_type": "code",
   "execution_count": 31,
   "id": "1b9b45b1-cb92-4954-8087-143a550350c8",
   "metadata": {
    "tags": []
   },
   "outputs": [
    {
     "name": "stdout",
     "output_type": "stream",
     "text": [
      " Unfortunately I do not have enough context to generate a complete passage answering the question \"how to vefify DM\". A few points I could include if given more details:\n",
      "\n",
      "- Specify what \"DM\" stands for (Direct Message, Dungeon Master, etc) and the context where one needs to verify it. \n",
      "\n",
      "- Provide steps to verify the DM if it refers to something like a Direct Message on a social media platform or messaging app. This might involve checking the sender's profile/identity, looking for verification badges, or trying to validate the content of the message.\n",
      "\n",
      "- If DM refers to a Dungeon Master in a gaming context, provide suggestions on how a group could verify the qualifications/trustworthiness of someone wanting to be the DM for their group. This could include checking references, observing their DMing style in a one-shot game first, or looking at user reviews if they DM publicly.\n",
      "\n",
      "Without more context I unfortunately can't write a full detailed passage to effectively answer \"how to vefify DM\". Please provide a few more details about what you mean by DM and what context the verification is needed, and I'd be happy to generate a more helpful and relevant response. Let me know what else would be useful to include!\n",
      "==========  Results  ==========\n",
      "\n",
      "1. question: how to vefify DM\n",
      "2. # documents: 10\n",
      "3. Documents: \n",
      "\n",
      "-----------------------------------------------\n",
      "1. Chunk: 1011 Characters\n",
      "-----------------------------------------------\n",
      "Use the enterprise edition dashboard. This page describes the various elements of the Enterprise\n",
      "Edition dashboard and how to view the security and maintenance release history. Access the\n",
      "Enterprise Edition dashboard To access the Enterprise Edition dashboard: 1. Sign in to the Knox\n",
      "Admin Portal. 2. Go to the Enterprise Edition Dashboard. There are two ways to open the dashboard:\n",
      "From the Licenses page - In the navigation pane of the Knox Admin Portal, click Licenses. The\n",
      "consolidated licenses page opens. Click ACTIONS > Get a license > GENERATE KNOX SUITE LICENSE. From\n",
      "the Additional Solutions tab (only available to Knox Suite users) - First, make sure your dashboard\n",
      "is configured to show the Additional Solutions tab, which is only available for Knox Suite users.\n",
      "Click your account icon > Settings > SHOW/HIDE SERVICES. In the navigation pane, click Additional\n",
      "Solutions. On the Enterprise Edition devices card, click Generate a free Knox Suite license key. 3.\n",
      "The Enterprise Edition dashboard opens\n",
      "metadata:\n",
      " {'source': 'all_processed_data.json', 'seq_num': 70, 'title': 'Use the enterprise edition\n",
      "dashboard', 'url': 'https://docs.samsungknox.com/admin/knox-suite/enterprise-edition-devices/use-\n",
      "the-enterprise-edition-dashboard', 'project': 'KS', 'last_updated': '2023-07-26', 'id':\n",
      "'ae0aa91c-7579-4743-9230-803a3b166703'}\n",
      "-----------------------------------------------\n",
      "2. Chunk: 954 Characters\n",
      "-----------------------------------------------\n",
      ". To replace the license, go to the unified License Management page on the Knox Admin Portal, enter\n",
      "the new Knox Suite license key you've purchased, select your existing Knox E-FOTA license key and\n",
      "then select Replace with a new Knox Suite license key. For more information, see Manage Knox\n",
      "licenses in the Knox Admin Portal documentation. Does Knox Suite record device location data? Yes.\n",
      "The location of managed devices can be tracked by services in the Knox Suite. Knox Manage and Knox\n",
      "Asset Intelligence help you locate devices and analyze their movement during the course of business.\n",
      "How securely does Samsung handle individual or business entity data acquired through Knox Suite\n",
      "services? Samsung is committed to safely handling customer information acquired from its business\n",
      "practices, and meets all data storage and handling requirements stipulated by the GDPR. Samsung\n",
      "ensures that data collection is restricted to only that which is necessary\n",
      "metadata:\n",
      " {'source': 'all_processed_data.json', 'seq_num': 80, 'title': 'I am subscribed to an individual\n",
      "Knox cloud service. Can I switch or upgrade to Knox Suite?', 'url':\n",
      "'https://docs.samsungknox.com/admin/knox-suite/faq/#i-am-subscribed-individual-knox-cloud-service-\n",
      "can-i-switch-upgrade-knox-suite', 'project': 'KS', 'last_updated': '2023-07-26', 'id':\n",
      "'ee2a0ad3-5520-4a27-b66c-5f96d8e6f3bc'}\n",
      "-----------------------------------------------\n",
      "3. Chunk: 983 Characters\n",
      "-----------------------------------------------\n",
      ".com dashboard and click Licenses to view all licenses you have for all your Knox services. Knox\n",
      "Manage How to upgrade your license key from Knox Manage to Knox Suite Upgrade a license Knox\"Manage\n",
      "How to configure premium Knox features Prerequisite: Workflow:\"Set up Knox Manage with a Knox Suite\n",
      "license Samsung Knox running Android Enterprise Note Policies with a in the Knox Manage admin portal\n",
      "are Knox premium features. These features require a Knox\"Suite license key. Knox Manage How to\n",
      "approve the Knox Service Plugin (KSP) app Prerequisite:Set up Android Enterprise. Approve Knox\n",
      "Service Plugin (KSP). Knox Manage What's next? When you finish evaluating Knox Suite and decide to\n",
      "use it commercially, contact your Knox reseller to purchase a Knox\"Suite license. If you're in need\n",
      "of devices, consider purchasing Enterprise Edition devices if this program is supported in your\n",
      "country. These devices are packaged with a 1-year renewable Knox\"Suite license, among other benefits\n",
      "metadata:\n",
      " {'source': 'all_processed_data.json', 'seq_num': 64, 'title': 'Learn more about Knox Suite', 'url':\n",
      "'https://docs.samsungknox.com/admin/knox-suite/learn-more-about-knox-suite', 'project': 'KS',\n",
      "'last_updated': '2023-07-26', 'id': '92a342a0-8941-4af2-808a-68f00151b9d3'}\n",
      "-----------------------------------------------\n",
      "4. Chunk: 667 Characters\n",
      "-----------------------------------------------\n",
      "Knox Suite knowledge base articles. Explore our knowledge base for: General Knox Suite articles,\n",
      "Known Knox Suite issues and their workarounds, How-to guides for less common setups General articles\n",
      "Am I eligible for a 1-year renewable Knox Suite license if I have legacy EE licenses? Am I able to\n",
      "get a Knox Suite for EE license if I purchase EE devices from a hardware reseller that hasn't joined\n",
      "KDP? Can I merge multiple Knox Suite licenses? What happens when my Knox Suite license expires?\n",
      "Known issues Active Knox Suite license fails to activate all Knox Suite services How-to articles How\n",
      "to generate a 2- or 3-year license key How to receive a Knox customer ID\n",
      "metadata:\n",
      " {'source': 'all_processed_data.json', 'seq_num': 90, 'title': 'Knox Suite knowledge base articles',\n",
      "'url': 'https://docs.samsungknox.com/admin/knox-suite/kbas', 'project': 'KS', 'last_updated':\n",
      "'2023-07-26', 'id': 'b2c52f76-3050-4a57-8b41-19c880f6a900'}\n",
      "-----------------------------------------------\n",
      "5. Chunk: 1007 Characters\n",
      "-----------------------------------------------\n",
      "Confirm and register your license. This section provides information about the Knox Suite license,\n",
      "and describes how to navigate through the Knox Suite products to ensure that your Knox Suite license\n",
      "is properly registered. Knox Suite license When you apply for access to Knox Suite, a trial license\n",
      "is automatically generated and registered for you. This license applies to all Knox Suite services,\n",
      "covers up to 30 active devices, and expires after three months. When your trial license expires, you\n",
      "can purchase a commercial license from an authorized reseller to continue to use Knox Services. 1.\n",
      "Click Licenses on the Knox Admin Portal navigation pane. 2. On the consolidated licenses page that\n",
      "opens, click Actions > Get a license > Find Reseller. A page of authorized resellers opens. 3. You\n",
      "can search for resellers by location and license keys. Select a reseller, fill out the purchase\n",
      "request form that appears when you click on their name, and send it to them. 4. Complete your\n",
      "license purchase. 5\n",
      "metadata:\n",
      " {'source': 'all_processed_data.json', 'seq_num': 72, 'title': 'Confirm and register your license',\n",
      "'url': 'https://docs.samsungknox.com/admin/knox-suite/get-started/confirm-and-register-your-\n",
      "license', 'project': 'KS', 'last_updated': '2023-09-06', 'id':\n",
      "'d40bf358-3741-41c7-8025-567073d99e20'}\n",
      "-----------------------------------------------\n",
      "6. Chunk: 997 Characters\n",
      "-----------------------------------------------\n",
      "Learn more about Knox Suite. This section describes where you can find instructions on how to\n",
      "perform tasks using the different products included in Knox Suite. General documentation for the\n",
      "Knox Suite services Knox Service , See - , - Knox Manage , Knox Manage Admin Guide Knox Platform for\n",
      "Enterprise , Knox Platform for Enterprise Admin Guide Knox Mobile Enrollment , Knox Mobile\n",
      "Enrollment Admin Guide Knox E-FOTA , Knox E-FOTA Admin Guide Knox Asset Intelligence , Knox Asset\n",
      "Intelligence Admin Guide Knox Capture , Knox Capture Admin Guide Knox Authentication Manager , Knox\n",
      "Authentication Manager Admin Guide Knox Suite operations For information on See Knox service How to\n",
      "set up Knox Manage with Knox Suite Workflow:\"Set up Knox Manage with a Knox Suite license Knox\n",
      "Manage How to check your Knox Suite license usage View and modify a license Note Alternatively, you\n",
      "can sign in to your SamsungKnox.com dashboard and click Licenses to view all licenses you have for\n",
      "all your Knox services\n",
      "metadata:\n",
      " {'source': 'all_processed_data.json', 'seq_num': 64, 'title': 'Learn more about Knox Suite', 'url':\n",
      "'https://docs.samsungknox.com/admin/knox-suite/learn-more-about-knox-suite', 'project': 'KS',\n",
      "'last_updated': '2023-07-26', 'id': '879e3c52-aa8d-48e6-b1be-c69c14374489'}\n",
      "-----------------------------------------------\n",
      "7. Chunk: 1022 Characters\n",
      "-----------------------------------------------\n",
      "Knox Suite. Knox Suite is a bundled offering of Knox solutions for enterprise mobility designed to\n",
      "address organizations' needs related to security and management throughout the entire device\n",
      "lifecycle. Learn more about Knox Suite #Audience This document is intended for IT Admins. Understand\n",
      "what's included in Knox Suite and how you can use it to manage, secure, and maintain enterprise\n",
      "devices. Learn where to find information on how to perform various tasks with Knox\"Suite services.\n",
      "About Knox Suite Knox Suite is a bundled offering that includes the following Knox products: Knox\n",
      "Platform for Enterprise - A Knox solution that provides military-grade security to Samsung Android\n",
      "phones, tablets, and Tizen watches for business. Knox Mobile Enrollment - A Knox solution that\n",
      "allows you to enroll thousands of Samsung devices in your EMM at once. When used with a Knox Suite\n",
      "license, Knox Mobile Enrollment provides advanced profiles that offer IT admins additional features\n",
      "such as higher control over locking devices\n",
      "metadata:\n",
      " {'source': 'all_processed_data.json', 'seq_num': 65, 'title': 'Knox Suite', 'url':\n",
      "'https://docs.samsungknox.com/admin/knox-suite', 'project': 'KS', 'last_updated': '2023-07-26',\n",
      "'id': 'f535b284-bbd9-4269-bbb6-9b8b21fd5595'}\n",
      "-----------------------------------------------\n",
      "8. Chunk: 859 Characters\n",
      "-----------------------------------------------\n",
      "Introduction to Enterprise Edition. If you have purchased Enterprise Edition (EE) devices you are\n",
      "entitled to a 1-year renewable Knox Suite license. This section describes how to manage Knox Suite\n",
      "licenses for Samsung EE licenses. When your Knox Suite for EE license expires, you can extend it by\n",
      "1 or more years. Contact your reseller for more information. Section , Description - , - Before you\n",
      "begin , Perform the prerequisite procedures needed to generate a Knox Suite license. Generate a Knox\n",
      "Suite license, Generate a license for Enterprise Edition devices Merge Knox Suite licenses , Append\n",
      "new EE devices to an existing Knox Suite license or merge Knox Suite licenses. Use the Enterprise\n",
      "Edition dashboard , Explore the Enterprise Edition dashboard, which lets you view devices and\n",
      "licenses, as well as the security and maintenance history of devices.\n",
      "metadata:\n",
      " {'source': 'all_processed_data.json', 'seq_num': 68, 'title': 'Introduction to Enterprise Edition',\n",
      "'url': 'https://docs.samsungknox.com/admin/knox-suite/enterprise-edition-devices/introduction-to-\n",
      "enterprise-edition', 'project': 'KS', 'last_updated': '2023-07-26', 'id':\n",
      "'de3a94a6-f3de-4320-a6c6-1352e5f08a81'}\n",
      "-----------------------------------------------\n",
      "9. Chunk: 585 Characters\n",
      "-----------------------------------------------\n",
      "How do I initially set up Knox Suite?. First, start by registering target devices to the Knox\n",
      "servers to enable Knox products on the devices. Usually, your device reseller will register the\n",
      "purchased devices to the Knox servers on your behalf. When the devices are registered, you should\n",
      "sign in to the Knox Admin Portal. Then, you should define the desired policies or settings as for\n",
      "the registered devices. The devices receive and apply these configurations during their first boot.\n",
      "For more information, see the Getting started with Knox Suite video and the Knox Suite admin guide.\n",
      "metadata:\n",
      " {'source': 'all_processed_data.json', 'seq_num': 78, 'title': 'How do I initially set up Knox\n",
      "Suite?', 'url': 'https://docs.samsungknox.com/admin/knox-suite/faq/#how-do-i-initially-set-up-knox-\n",
      "suite', 'project': 'KS', 'last_updated': '2023-07-26', 'id': '4d06ad92-45e2-4912-94a5-80fce2c01606'}\n",
      "-----------------------------------------------\n",
      "10. Chunk: 399 Characters\n",
      "-----------------------------------------------\n",
      "How to receive a Knox customer ID. This article will guide you on how to receive a Knox customer ID.\n",
      "How to receive a Knox customer ID To get your Knox customer ID: 1. Create a Samsung account. 2.\n",
      "Apply for Knox Suite trial. 3. When your customer account is approved, you'll receive a customer ID.\n",
      "Provide your customer ID to your reseller, so they can upload your device details to\n",
      "SamsungKnox.com.\n",
      "metadata:\n",
      " {'source': 'all_processed_data.json', 'seq_num': 86, 'title': 'How to receive a Knox customer ID',\n",
      "'url': 'https://docs.samsungknox.com/admin/knox-suite/kbas/kba-how-to-receive-knox-customer-id',\n",
      "'project': 'KS', 'last_updated': '2023-07-26', 'id': '0479c6e7-381d-482d-bccb-d9e00d144dbf'}\n"
     ]
    }
   ],
   "source": [
    "query = \"how to vefify DM\"\n",
    "search_hybrid_result = opensearch_hybrid_retriever.get_relevant_documents(query)\n",
    "\n",
    "print(\"\\n==========  Results  ==========\\n\")\n",
    "print(f'1. question: {query}')\n",
    "print(f'2. # documents: {len(search_hybrid_result)}')\n",
    "print(\"3. Documents: \\n\")\n",
    "\n",
    "show_context_used(search_hybrid_result)"
   ]
  },
  {
   "cell_type": "markdown",
   "id": "a981abe7-5208-48f5-a9cc-8c557e9941ca",
   "metadata": {},
   "source": [
    "## 5. RAG using RetrievalQA powered by LangChain"
   ]
  },
  {
   "cell_type": "code",
   "execution_count": 33,
   "id": "08cf6d2b-451b-499c-aec2-bb6f5abafbb0",
   "metadata": {
    "tags": []
   },
   "outputs": [],
   "source": [
    "from utils.rag import prompt_repo\n",
    "from utils.rag import run_RetrievalQA\n",
    "from langchain.prompts import PromptTemplate"
   ]
  },
  {
   "cell_type": "markdown",
   "id": "b490df1f-8113-4dd1-a578-a3e1a6918fde",
   "metadata": {
    "tags": []
   },
   "source": [
    "### Prompting\n",
    "- [TIP] Prompt의 instruction의 경우 한글보다 영어로 했을 때 더 좋은 결과를 얻을 수 있습니다."
   ]
  },
  {
   "cell_type": "code",
   "execution_count": 34,
   "id": "076bed85-0a6b-408e-87b2-6aa5074ed6da",
   "metadata": {
    "tags": []
   },
   "outputs": [
    {
     "name": "stdout",
     "output_type": "stream",
     "text": [
      "('\\n'\n",
      " '            \\n'\n",
      " '\\n'\n",
      " 'Human:\\n'\n",
      " '            You are a mater answer bot designed to answer software '\n",
      " \"developer's questions.\\n\"\n",
      " \"            I'm going to give you a context. Read the context carefully, \"\n",
      " \"because I'm going to ask you a question about it.\\n\"\n",
      " '\\n'\n",
      " '            Here is the context: <context>{context}</context>\\n'\n",
      " '\\n'\n",
      " '            First, find the paragraphs or sentences from the context that '\n",
      " 'are most relevant to answering the question, and then print them in numbered '\n",
      " 'order.\\n'\n",
      " '            The format of paragraphs or sentences to the question should '\n",
      " \"look like what's shown between the <references></references> tags.\\n\"\n",
      " '            Make sure to follow the formatting and spacing exactly.\\n'\n",
      " '\\n'\n",
      " '            <references>\\n'\n",
      " '            [Examples of question + answer pairs using parts of the given '\n",
      " 'context, with answers written exactly like how Claude’s output should be '\n",
      " 'structured]\\n'\n",
      " '            </references>\\n'\n",
      " '\\n'\n",
      " '            If there are no relevant paragraphs or sentences, write \"No '\n",
      " 'relevant context\" instead.\\n'\n",
      " '\\n'\n",
      " '            Then, answer the question within <answer></answer> XML tags as '\n",
      " 'much as you can.\\n'\n",
      " '            Skip the preamble and go straight into the answer.\\n'\n",
      " '            Don\\'t say \"According to context\" when answering.\\n'\n",
      " \"            Don't insert XML tag such as <context> and </context> when \"\n",
      " 'answering.\\n'\n",
      " '\\n'\n",
      " '            Here is the question: <question>{question}</question>\\n'\n",
      " '\\n'\n",
      " '            If the question cannot be answered by the context, say so.\\n'\n",
      " '\\n'\n",
      " '            \\n'\n",
      " '\\n'\n",
      " 'Assistant:')\n"
     ]
    }
   ],
   "source": [
    "PROMPT = prompt_repo.get_qa(prompt_type=\"answer_with_ref\") # [\"answer_only\", \"answer_with_ref\"]\n",
    "pprint (PROMPT.template)"
   ]
  },
  {
   "cell_type": "markdown",
   "id": "c66157a6-aec8-4555-a90f-1178e6f4f6e0",
   "metadata": {},
   "source": [
    "### Update Search Params (Optional)"
   ]
  },
  {
   "cell_type": "code",
   "execution_count": 35,
   "id": "64df2daf-8b42-472a-885f-97320ee98132",
   "metadata": {
    "tags": []
   },
   "outputs": [],
   "source": [
    "from langchain.chains import RetrievalQA"
   ]
  },
  {
   "cell_type": "code",
   "execution_count": 44,
   "id": "d2697230-6962-43d8-8917-ba9daa4295bb",
   "metadata": {
    "tags": []
   },
   "outputs": [],
   "source": [
    "opensearch_hybrid_retriever.update_search_params(\n",
    "    k=3,\n",
    "    minimum_should_match=0,\n",
    "    filter=[],\n",
    "    reranker=True,\n",
    "    reranker_endpoint_name=endpoint_name,\n",
    "    hyde=True, # enable hyde\n",
    "    hyde_query=[\"web_search\"], # query type in hyde \n",
    "    llm_text=llm_text, # llm for query augmentation in rag_fusion\n",
    "    verbose=True\n",
    ")"
   ]
  },
  {
   "cell_type": "markdown",
   "id": "aee26c22-b674-4f4f-a87b-29508e336fda",
   "metadata": {},
   "source": [
    "### Request"
   ]
  },
  {
   "cell_type": "code",
   "execution_count": 45,
   "id": "95fa61d3-9256-432a-96a3-2c696c97ea68",
   "metadata": {
    "tags": []
   },
   "outputs": [],
   "source": [
    "qa = RetrievalQA.from_chain_type(\n",
    "    llm=llm_text,\n",
    "    chain_type=\"stuff\",\n",
    "    retriever=opensearch_hybrid_retriever,\n",
    "    return_source_documents=True,\n",
    "    chain_type_kwargs={\n",
    "        \"prompt\": PROMPT,\n",
    "        \"verbose\": False,\n",
    "    },\n",
    "    verbose=False\n",
    ")"
   ]
  },
  {
   "cell_type": "code",
   "execution_count": 46,
   "id": "390ad324-40b3-4bcb-92b9-50eb080492a5",
   "metadata": {
    "tags": []
   },
   "outputs": [
    {
     "name": "stdout",
     "output_type": "stream",
     "text": [
      " Here is a draft passage answering the question \"How does RKP protect critical kernel data structures from modification?\":\n",
      "\n",
      "RKP (Real-time Kernel Protection) is a security module that protects critical kernel data structures from unauthorized modification on Android devices. It works by locking down kernel data structures in read-only memory, preventing even processes with root access from directly overwriting things like process credentials or ID mappings. RKP also uses integrity checking to monitor changes to protected data structures during approved operations like process creation/deletion. Any discrepancies are detected and blocked. This allows proper functioning of the system while still sealing off sensitive areas like the process tree from potential malware or rogue apps. The multi-layered approach aims to secure the kernel without a significant loss of performance or compatibility.===== HyDE Answers =====\n",
      "['How does RKP protect critical kernel data structures from modification?', ' Here is a draft passage answering the question \"How does RKP protect critical kernel data structures from modification?\":\\n\\nRKP (Real-time Kernel Protection) is a security module that protects critical kernel data structures from unauthorized modification on Android devices. It works by locking down kernel data structures in read-only memory, preventing even processes with root access from directly overwriting things like process credentials or ID mappings. RKP also uses integrity checking to monitor changes to protected data structures during approved operations like process creation/deletion. Any discrepancies are detected and blocked. This allows proper functioning of the system while still sealing off sensitive areas like the process tree from potential malware or rogue apps. The multi-layered approach aims to secure the kernel without a significant loss of performance or compatibility.']\n",
      "##############################\n",
      "async_mode\n",
      "##############################\n",
      "True\n",
      "##############################\n",
      "reranker\n",
      "##############################\n",
      "True\n",
      "##############################\n",
      "rag_fusion\n",
      "##############################\n",
      "False\n",
      "##############################\n",
      "HyDE\n",
      "##############################\n",
      "True\n",
      "##############################\n",
      "parent_document\n",
      "##############################\n",
      "False\n",
      "##############################\n",
      "similar_docs_semantic\n",
      "##############################\n",
      "[(Document(page_content='. This unique ability enables RKP to detect and prevent the most common kernel attacks. RKP protections are grouped into three areas: Kernel code - RKP\"prevents modification of kernel code and logic. Kernel data - RKP\"prevents modification of critical kernel data structures. Kernel control flow - RKP\"prevents Return-Oriented Programming (ROP) and Jump-Oriented Programming (JOP) attacks that reuse existing kernel logic to piece together exploits from the kernel\\'s own code. How is kernel protection possible? A kernel protection mechanism can\\'t exist completely in the kernel only, since an attacker could circumvent it if the kernel itself has a flaw. The kernel is the lowest granular control level over the OS and, as such, usually can\\'t be effectively monitored from any lower level in the system. RKP uniquely employs a security monitor within an isolated execution environment', metadata={'source': 'all_processed_data.json', 'seq_num': 121, 'title': 'Real-time Kernel Protection (RKP)', 'url': 'https://docs.samsungknox.com/admin/fundamentals/whitepaper/core-platform-security/real-time-kernel-protection', 'project': 'USP', 'last_updated': '2023-07-26', 'id': 'b0b8363f-b92a-42a2-81d5-41c016e437e1'}), 0.01639344262295082), (Document(page_content='. Other more commonplace protections like Secure Boot or hardware-backed keystores are of little value if the kernel itself is controlled at runtime. After a device boots and decrypts sensitive content, a kernel compromise can result in data leaks that directly impact an enterprise\\'s data integrity. RKP design and structure As part of the Knox Platform\\'s security offerings, RKP employs a security monitor within an isolated execution environment. Depending on the device model, either a dedicated hypervisor or the hardware-backed secure world provided by ARM TrustZone technology provides the isolated execution environment. RKP\\'s isolation from the kernel shrinks the Trusted Computing Base (TCB) and helps secure it from attacks designed to compromise the kernel. This unique ability enables RKP to detect and prevent the most common kernel attacks. RKP protections are grouped into three areas: Kernel code - RKP\"prevents modification of kernel code and logic', metadata={'source': 'all_processed_data.json', 'seq_num': 121, 'title': 'Real-time Kernel Protection (RKP)', 'url': 'https://docs.samsungknox.com/admin/fundamentals/whitepaper/core-platform-security/real-time-kernel-protection', 'project': 'USP', 'last_updated': '2023-07-26', 'id': 'd7c2fa78-4e8b-4150-b786-83dec01fd9be'}), 0.016129032258064516), (Document(page_content=\". The kernel is the lowest granular control level over the OS and, as such, usually can't be effectively monitored from any lower level in the system. RKP uniquely employs a security monitor within an isolated execution environment. Running within an isolated execution environment would normally compromise a security mechanism's ability to see into the kernel and monitor activities at runtime. However, RKP succeeds by utilizing patented techniques to control device memory management and by intercepting and inspecting critical kernel actions before allowing them to execute. RKP is thus able to prevent a compromised kernel from bypassing other security protections. This prevention significantly reduces the severity of kernel attacks and limits the effectiveness of exploits that would typically cripple a mobile device. Since RKP is always active and requires no management control, kernel protection is only possible if it meets strict usability and performance requirements\", metadata={'source': 'all_processed_data.json', 'seq_num': 121, 'title': 'Real-time Kernel Protection (RKP)', 'url': 'https://docs.samsungknox.com/admin/fundamentals/whitepaper/core-platform-security/real-time-kernel-protection', 'project': 'USP', 'last_updated': '2023-07-26', 'id': 'c9f40b3b-8139-4668-be8f-786ac87ebe9d'}), 0.015873015873015872), (Document(page_content=\". Page Table Protection (PTP): Protects against any attempt to forge or manipulate the Kernel and user page table. Kernel Data Protection (KDP): Protects against any attempt to forge or manipulate the Kernel namespace/credential/security ID/double map including kernel code, kernel data, and kernel control flow protections. Control Flow Protection (CFP): Prevents Return-Oriented Programming (ROP) and Jump-Oriented Programming (JOP) attacks that re-use existing kernel logic to piece together exploits from the kernel's own code. DualDAR Encryption With a single instance of encryption, potential flaws in the implementation can result in a single point of failure. KPE DualDAR provides two independent layers of encryption to achieve an even higher level of reliability by enabling redundancies in protecting Data-At-Rest. You can further strengthen data encryption by using a third-party cryptographic module to customize encryption. This dual encryption is required for classified deployments\", metadata={'source': 'all_processed_data.json', 'seq_num': 108, 'title': 'Feature Summary', 'url': 'https://docs.samsungknox.com/admin/fundamentals/whitepaper/feature-summary', 'project': 'USP', 'last_updated': '2023-07-26', 'id': '73684ee1-3ee9-4708-9cce-e230d5d20118'}), 0.0078125)]\n",
      "##############################\n",
      "similar_docs_keyword\n",
      "##############################\n",
      "[(Document(page_content='. This unique ability enables RKP to detect and prevent the most common kernel attacks. RKP protections are grouped into three areas: Kernel code - RKP\"prevents modification of kernel code and logic. Kernel data - RKP\"prevents modification of critical kernel data structures. Kernel control flow - RKP\"prevents Return-Oriented Programming (ROP) and Jump-Oriented Programming (JOP) attacks that reuse existing kernel logic to piece together exploits from the kernel\\'s own code. How is kernel protection possible? A kernel protection mechanism can\\'t exist completely in the kernel only, since an attacker could circumvent it if the kernel itself has a flaw. The kernel is the lowest granular control level over the OS and, as such, usually can\\'t be effectively monitored from any lower level in the system. RKP uniquely employs a security monitor within an isolated execution environment', metadata={'source': 'all_processed_data.json', 'seq_num': 121, 'title': 'Real-time Kernel Protection (RKP)', 'url': 'https://docs.samsungknox.com/admin/fundamentals/whitepaper/core-platform-security/real-time-kernel-protection', 'project': 'USP', 'last_updated': '2023-07-26', 'id': 'b0b8363f-b92a-42a2-81d5-41c016e437e1'}), 1.0), (Document(page_content='. Other more commonplace protections like Secure Boot or hardware-backed keystores are of little value if the kernel itself is controlled at runtime. After a device boots and decrypts sensitive content, a kernel compromise can result in data leaks that directly impact an enterprise\\'s data integrity. RKP design and structure As part of the Knox Platform\\'s security offerings, RKP employs a security monitor within an isolated execution environment. Depending on the device model, either a dedicated hypervisor or the hardware-backed secure world provided by ARM TrustZone technology provides the isolated execution environment. RKP\\'s isolation from the kernel shrinks the Trusted Computing Base (TCB) and helps secure it from attacks designed to compromise the kernel. This unique ability enables RKP to detect and prevent the most common kernel attacks. RKP protections are grouped into three areas: Kernel code - RKP\"prevents modification of kernel code and logic', metadata={'source': 'all_processed_data.json', 'seq_num': 121, 'title': 'Real-time Kernel Protection (RKP)', 'url': 'https://docs.samsungknox.com/admin/fundamentals/whitepaper/core-platform-security/real-time-kernel-protection', 'project': 'USP', 'last_updated': '2023-07-26', 'id': 'd7c2fa78-4e8b-4150-b786-83dec01fd9be'}), 0.643548418209918), (Document(page_content='. Since RKP is always active and requires no management control, kernel protection is only possible if it meets strict usability and performance requirements. RKP\\'s protections are activated out-of-the-box, with no performance impact to customers. #Periodic Kernel Measurement (PKM) The _TrustZone-based Integrity Measurement Architecture_ (TIMA) architecture provides a number of core features to protect against mobile device compromise. One of these central TIMA features is _Periodic Kernel Measurement_ (PKM). PKM periodically monitors the kernel to detect if legitimate kernel code and data were modified maliciously. PKM also monitors the key SE for Android data structures in OS kernel memory to prevent malicious attacks from corrupting and potentially disabling SE for Android. PKM\"protects the Linux kernel code and data pages from malicious exploits and helps prevent attacks attempting to disable SE for Android', metadata={'source': 'all_processed_data.json', 'seq_num': 121, 'title': 'Real-time Kernel Protection (RKP)', 'url': 'https://docs.samsungknox.com/admin/fundamentals/whitepaper/core-platform-security/real-time-kernel-protection', 'project': 'USP', 'last_updated': '2023-07-26', 'id': 'fa4f5f09-0f2a-48c2-af4f-de5b83edc35e'}), 0.642792386139465), (Document(page_content=\". The kernel is the lowest granular control level over the OS and, as such, usually can't be effectively monitored from any lower level in the system. RKP uniquely employs a security monitor within an isolated execution environment. Running within an isolated execution environment would normally compromise a security mechanism's ability to see into the kernel and monitor activities at runtime. However, RKP succeeds by utilizing patented techniques to control device memory management and by intercepting and inspecting critical kernel actions before allowing them to execute. RKP is thus able to prevent a compromised kernel from bypassing other security protections. This prevention significantly reduces the severity of kernel attacks and limits the effectiveness of exploits that would typically cripple a mobile device. Since RKP is always active and requires no management control, kernel protection is only possible if it meets strict usability and performance requirements\", metadata={'source': 'all_processed_data.json', 'seq_num': 121, 'title': 'Real-time Kernel Protection (RKP)', 'url': 'https://docs.samsungknox.com/admin/fundamentals/whitepaper/core-platform-security/real-time-kernel-protection', 'project': 'USP', 'last_updated': '2023-07-26', 'id': 'c9f40b3b-8139-4668-be8f-786ac87ebe9d'}), 0.5041382740231419)]\n",
      "##############################\n",
      "similar_docs\n",
      "##############################\n",
      "[(Document(page_content='. This unique ability enables RKP to detect and prevent the most common kernel attacks. RKP protections are grouped into three areas: Kernel code - RKP\"prevents modification of kernel code and logic. Kernel data - RKP\"prevents modification of critical kernel data structures. Kernel control flow - RKP\"prevents Return-Oriented Programming (ROP) and Jump-Oriented Programming (JOP) attacks that reuse existing kernel logic to piece together exploits from the kernel\\'s own code. How is kernel protection possible? A kernel protection mechanism can\\'t exist completely in the kernel only, since an attacker could circumvent it if the kernel itself has a flaw. The kernel is the lowest granular control level over the OS and, as such, usually can\\'t be effectively monitored from any lower level in the system. RKP uniquely employs a security monitor within an isolated execution environment', metadata={'source': 'all_processed_data.json', 'seq_num': 121, 'title': 'Real-time Kernel Protection (RKP)', 'url': 'https://docs.samsungknox.com/admin/fundamentals/whitepaper/core-platform-security/real-time-kernel-protection', 'project': 'USP', 'last_updated': '2023-07-26', 'id': 'b0b8363f-b92a-42a2-81d5-41c016e437e1'}), 0.995341420173645), (Document(page_content=\". The kernel is the lowest granular control level over the OS and, as such, usually can't be effectively monitored from any lower level in the system. RKP uniquely employs a security monitor within an isolated execution environment. Running within an isolated execution environment would normally compromise a security mechanism's ability to see into the kernel and monitor activities at runtime. However, RKP succeeds by utilizing patented techniques to control device memory management and by intercepting and inspecting critical kernel actions before allowing them to execute. RKP is thus able to prevent a compromised kernel from bypassing other security protections. This prevention significantly reduces the severity of kernel attacks and limits the effectiveness of exploits that would typically cripple a mobile device. Since RKP is always active and requires no management control, kernel protection is only possible if it meets strict usability and performance requirements\", metadata={'source': 'all_processed_data.json', 'seq_num': 121, 'title': 'Real-time Kernel Protection (RKP)', 'url': 'https://docs.samsungknox.com/admin/fundamentals/whitepaper/core-platform-security/real-time-kernel-protection', 'project': 'USP', 'last_updated': '2023-07-26', 'id': 'c9f40b3b-8139-4668-be8f-786ac87ebe9d'}), 0.907402515411377), (Document(page_content='. Other more commonplace protections like Secure Boot or hardware-backed keystores are of little value if the kernel itself is controlled at runtime. After a device boots and decrypts sensitive content, a kernel compromise can result in data leaks that directly impact an enterprise\\'s data integrity. RKP design and structure As part of the Knox Platform\\'s security offerings, RKP employs a security monitor within an isolated execution environment. Depending on the device model, either a dedicated hypervisor or the hardware-backed secure world provided by ARM TrustZone technology provides the isolated execution environment. RKP\\'s isolation from the kernel shrinks the Trusted Computing Base (TCB) and helps secure it from attacks designed to compromise the kernel. This unique ability enables RKP to detect and prevent the most common kernel attacks. RKP protections are grouped into three areas: Kernel code - RKP\"prevents modification of kernel code and logic', metadata={'source': 'all_processed_data.json', 'seq_num': 121, 'title': 'Real-time Kernel Protection (RKP)', 'url': 'https://docs.samsungknox.com/admin/fundamentals/whitepaper/core-platform-security/real-time-kernel-protection', 'project': 'USP', 'last_updated': '2023-07-26', 'id': 'd7c2fa78-4e8b-4150-b786-83dec01fd9be'}), 0.8904443979263306)]\n",
      " <references>\n",
      "1. RKP protections are grouped into three areas: Kernel data - RKP\"prevents modification of critical kernel data structures.\n",
      "</references>\n",
      "\n",
      "<answer>\n",
      "RKP prevents modification of critical kernel data structures.\n",
      "</answer>"
     ]
    }
   ],
   "source": [
    "query = \"How does RKP protect critical kernel data structures from modification?\"\n",
    "response = qa(query)"
   ]
  },
  {
   "cell_type": "code",
   "execution_count": 47,
   "id": "01e77dad-dc19-416b-80e7-19fac3b736a5",
   "metadata": {
    "tags": []
   },
   "outputs": [
    {
     "name": "stdout",
     "output_type": "stream",
     "text": [
      "##################################\n",
      "query:  How does RKP protect critical kernel data structures from modification?\n",
      "##################################\n",
      "\u001b[34m\n",
      "\n",
      "### Answer ###\u001b[0m\n",
      " <references>\n",
      "1. RKP protections are grouped into three areas: Kernel data - RKP\"prevents modification of critical\n",
      "kernel data structures.\n",
      "</references>\n",
      "\n",
      "<answer>\n",
      "RKP prevents modification of critical kernel data structures.\n",
      "</answer>\n",
      "\u001b[32m\n",
      "\n",
      "### Contexts ###\u001b[0m\n",
      "-----------------------------------------------\n",
      "1. Chunk: 885 Characters\n",
      "-----------------------------------------------\n",
      ". This unique ability enables RKP to detect and prevent the most common kernel attacks. RKP\n",
      "protections are grouped into three areas: Kernel code - RKP\"prevents modification of kernel code and\n",
      "logic. Kernel data - RKP\"prevents modification of critical kernel data structures. Kernel control\n",
      "flow - RKP\"prevents Return-Oriented Programming (ROP) and Jump-Oriented Programming (JOP) attacks\n",
      "that reuse existing kernel logic to piece together exploits from the kernel's own code. How is\n",
      "kernel protection possible? A kernel protection mechanism can't exist completely in the kernel only,\n",
      "since an attacker could circumvent it if the kernel itself has a flaw. The kernel is the lowest\n",
      "granular control level over the OS and, as such, usually can't be effectively monitored from any\n",
      "lower level in the system. RKP uniquely employs a security monitor within an isolated execution\n",
      "environment\n",
      "metadata:\n",
      " {'source': 'all_processed_data.json', 'seq_num': 121, 'title': 'Real-time Kernel Protection (RKP)',\n",
      "'url': 'https://docs.samsungknox.com/admin/fundamentals/whitepaper/core-platform-security/real-time-\n",
      "kernel-protection', 'project': 'USP', 'last_updated': '2023-07-26', 'id':\n",
      "'b0b8363f-b92a-42a2-81d5-41c016e437e1'}\n",
      "-----------------------------------------------\n",
      "2. Chunk: 983 Characters\n",
      "-----------------------------------------------\n",
      ". The kernel is the lowest granular control level over the OS and, as such, usually can't be\n",
      "effectively monitored from any lower level in the system. RKP uniquely employs a security monitor\n",
      "within an isolated execution environment. Running within an isolated execution environment would\n",
      "normally compromise a security mechanism's ability to see into the kernel and monitor activities at\n",
      "runtime. However, RKP succeeds by utilizing patented techniques to control device memory management\n",
      "and by intercepting and inspecting critical kernel actions before allowing them to execute. RKP is\n",
      "thus able to prevent a compromised kernel from bypassing other security protections. This prevention\n",
      "significantly reduces the severity of kernel attacks and limits the effectiveness of exploits that\n",
      "would typically cripple a mobile device. Since RKP is always active and requires no management\n",
      "control, kernel protection is only possible if it meets strict usability and performance\n",
      "requirements\n",
      "metadata:\n",
      " {'source': 'all_processed_data.json', 'seq_num': 121, 'title': 'Real-time Kernel Protection (RKP)',\n",
      "'url': 'https://docs.samsungknox.com/admin/fundamentals/whitepaper/core-platform-security/real-time-\n",
      "kernel-protection', 'project': 'USP', 'last_updated': '2023-07-26', 'id':\n",
      "'c9f40b3b-8139-4668-be8f-786ac87ebe9d'}\n",
      "-----------------------------------------------\n",
      "3. Chunk: 966 Characters\n",
      "-----------------------------------------------\n",
      ". Other more commonplace protections like Secure Boot or hardware-backed keystores are of little\n",
      "value if the kernel itself is controlled at runtime. After a device boots and decrypts sensitive\n",
      "content, a kernel compromise can result in data leaks that directly impact an enterprise's data\n",
      "integrity. RKP design and structure As part of the Knox Platform's security offerings, RKP employs a\n",
      "security monitor within an isolated execution environment. Depending on the device model, either a\n",
      "dedicated hypervisor or the hardware-backed secure world provided by ARM TrustZone technology\n",
      "provides the isolated execution environment. RKP's isolation from the kernel shrinks the Trusted\n",
      "Computing Base (TCB) and helps secure it from attacks designed to compromise the kernel. This unique\n",
      "ability enables RKP to detect and prevent the most common kernel attacks. RKP protections are\n",
      "grouped into three areas: Kernel code - RKP\"prevents modification of kernel code and logic\n",
      "metadata:\n",
      " {'source': 'all_processed_data.json', 'seq_num': 121, 'title': 'Real-time Kernel Protection (RKP)',\n",
      "'url': 'https://docs.samsungknox.com/admin/fundamentals/whitepaper/core-platform-security/real-time-\n",
      "kernel-protection', 'project': 'USP', 'last_updated': '2023-07-26', 'id':\n",
      "'d7c2fa78-4e8b-4150-b786-83dec01fd9be'}\n"
     ]
    }
   ],
   "source": [
    "print(\"##################################\")\n",
    "print(\"query: \", query)\n",
    "print(\"##################################\")\n",
    "\n",
    "print (colored(\"\\n\\n### Answer ###\", \"blue\"))\n",
    "print_ww(response['result'])\n",
    "\n",
    "print (colored(\"\\n\\n### Contexts ###\", \"green\"))\n",
    "show_context_used(response['source_documents'])"
   ]
  },
  {
   "cell_type": "code",
   "execution_count": null,
   "id": "04f0a647-b2ef-482e-9ecd-625d40f51b20",
   "metadata": {},
   "outputs": [],
   "source": []
  },
  {
   "cell_type": "code",
   "execution_count": null,
   "id": "743e290e-3809-49dc-bb26-74ee9cb79879",
   "metadata": {},
   "outputs": [],
   "source": []
  }
 ],
 "metadata": {
  "kernelspec": {
   "display_name": "conda_python3",
   "language": "python",
   "name": "conda_python3"
  },
  "language_info": {
   "codemirror_mode": {
    "name": "ipython",
    "version": 3
   },
   "file_extension": ".py",
   "mimetype": "text/x-python",
   "name": "python",
   "nbconvert_exporter": "python",
   "pygments_lexer": "ipython3",
   "version": "3.10.12"
  }
 },
 "nbformat": 4,
 "nbformat_minor": 5
}
