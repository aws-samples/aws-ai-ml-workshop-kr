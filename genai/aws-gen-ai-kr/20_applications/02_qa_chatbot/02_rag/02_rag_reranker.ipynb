{
 "cells": [
  {
   "cell_type": "markdown",
   "id": "5deb2df2-413d-49bd-a829-3a1fc344937e",
   "metadata": {},
   "source": [
    "# RAG Based on ReRanker\n",
    "- Hybrid Search\n",
    "- ReRanker"
   ]
  },
  {
   "cell_type": "markdown",
   "id": "b1f81abc-3277-4a6b-9ef1-d4f997d67fbe",
   "metadata": {},
   "source": [
    "## Setting\n",
    " - Auto Reload\n",
    " - path for utils"
   ]
  },
  {
   "cell_type": "code",
   "execution_count": 1,
   "id": "ddde4105-b759-4d6c-8214-8e1ab485ae48",
   "metadata": {
    "tags": []
   },
   "outputs": [],
   "source": [
    "%load_ext autoreload\n",
    "%autoreload 2"
   ]
  },
  {
   "cell_type": "code",
   "execution_count": 2,
   "id": "57c2cdb1-d785-4317-afce-938f13141085",
   "metadata": {
    "tags": []
   },
   "outputs": [],
   "source": [
    "import sys, os\n",
    "module_path = \"../../..\"\n",
    "sys.path.append(os.path.abspath(module_path))"
   ]
  },
  {
   "cell_type": "markdown",
   "id": "9c4ade56-8dbc-4ded-b355-7e4bcc971e90",
   "metadata": {},
   "source": [
    "## 1. Bedrock Client 생성"
   ]
  },
  {
   "cell_type": "code",
   "execution_count": 3,
   "id": "cc2d877f-e877-48f6-8dd4-239de20e45cd",
   "metadata": {
    "tags": []
   },
   "outputs": [],
   "source": [
    "import json\n",
    "import boto3\n",
    "from pprint import pprint\n",
    "from termcolor import colored\n",
    "from utils import bedrock, print_ww\n",
    "from utils.bedrock import bedrock_info"
   ]
  },
  {
   "cell_type": "markdown",
   "id": "088e6490-c79a-49e4-841c-9fdb91292608",
   "metadata": {},
   "source": [
    "### ---- ⚠️ Un-comment and edit the below lines as needed for your AWS setup ⚠️ ----\n",
    "- os.environ[\"AWS_DEFAULT_REGION\"] = \"<REGION_NAME>\"  # E.g. \"us-east-1\"\n",
    "- os.environ[\"AWS_PROFILE\"] = \"<YOUR_PROFILE>\"\n",
    "- os.environ[\"BEDROCK_ASSUME_ROLE\"] = \"<YOUR_ROLE_ARN>\"  # E.g. \"arn:aws:...\"\n",
    "- os.environ[\"BEDROCK_ENDPOINT_URL\"] = \"<YOUR_ENDPOINT_URL>\"  # E.g. \"https://...\""
   ]
  },
  {
   "cell_type": "code",
   "execution_count": 4,
   "id": "cab9312c-5f61-4730-96c3-5eef54a5f08c",
   "metadata": {
    "tags": []
   },
   "outputs": [
    {
     "name": "stdout",
     "output_type": "stream",
     "text": [
      "Create new client\n",
      "  Using region: None\n",
      "  Using profile: None\n",
      "boto3 Bedrock client successfully created!\n",
      "bedrock-runtime(https://bedrock-runtime.us-east-1.amazonaws.com)\n",
      "\u001b[32m\n",
      "== FM lists ==\u001b[0m\n",
      "{'Claude-Instant-V1': 'anthropic.claude-instant-v1',\n",
      " 'Claude-V1': 'anthropic.claude-v1',\n",
      " 'Claude-V2': 'anthropic.claude-v2',\n",
      " 'Claude-V2-1': 'anthropic.claude-v2:1',\n",
      " 'Cohere-Embeddings-En': 'cohere.embed-english-v3',\n",
      " 'Cohere-Embeddings-Multilingual': 'cohere.embed-multilingual-v3',\n",
      " 'Command': 'cohere.command-text-v14',\n",
      " 'Command-Light': 'cohere.command-light-text-v14',\n",
      " 'Jurassic-2-Mid': 'ai21.j2-mid-v1',\n",
      " 'Jurassic-2-Ultra': 'ai21.j2-ultra-v1',\n",
      " 'Llama2-13b-Chat': 'meta.llama2-13b-chat-v1',\n",
      " 'Titan-Embeddings-G1': 'amazon.titan-embed-text-v1',\n",
      " 'Titan-Text-G1': 'amazon.titan-text-express-v1',\n",
      " 'Titan-Text-G1-Light': 'amazon.titan-text-lite-v1'}\n"
     ]
    }
   ],
   "source": [
    "boto3_bedrock = bedrock.get_bedrock_client(\n",
    "    assumed_role=os.environ.get(\"BEDROCK_ASSUME_ROLE\", None),\n",
    "    endpoint_url=os.environ.get(\"BEDROCK_ENDPOINT_URL\", None),\n",
    "    region=os.environ.get(\"AWS_DEFAULT_REGION\", None),\n",
    ")\n",
    "\n",
    "aws_region = os.environ.get(\"AWS_DEFAULT_REGION\", None)\n",
    "print (colored(\"\\n== FM lists ==\", \"green\"))\n",
    "pprint (bedrock_info.get_list_fm_models())"
   ]
  },
  {
   "cell_type": "markdown",
   "id": "241a9e34-417a-422f-9f75-cb211b2e70e1",
   "metadata": {
    "tags": []
   },
   "source": [
    "## 2. Titan Embedding 및 LLM 인 Claude-v2 모델 로딩"
   ]
  },
  {
   "cell_type": "markdown",
   "id": "29bf63d2-4110-407c-af06-a45d2fbed4b5",
   "metadata": {},
   "source": [
    "### LLM 로딩 (Claude-v2)"
   ]
  },
  {
   "cell_type": "code",
   "execution_count": 5,
   "id": "9c51443a-04f9-465c-9564-53053eb3e1c2",
   "metadata": {
    "tags": []
   },
   "outputs": [],
   "source": [
    "from langchain.llms.bedrock import Bedrock\n",
    "from langchain.callbacks.streaming_stdout import StreamingStdOutCallbackHandler"
   ]
  },
  {
   "cell_type": "code",
   "execution_count": 7,
   "id": "d09e84e0-b9e1-4b12-8e7a-68f03c5416e5",
   "metadata": {
    "tags": []
   },
   "outputs": [
    {
     "data": {
      "text/plain": [
       "Bedrock(client=<botocore.client.BedrockRuntime object at 0x7f2c97c6ee00>, model_id='anthropic.claude-v2:1', model_kwargs={'max_tokens_to_sample': 512}, streaming=True, callbacks=[<langchain_core.callbacks.streaming_stdout.StreamingStdOutCallbackHandler object at 0x7f2cd5b2ef50>])"
      ]
     },
     "execution_count": 7,
     "metadata": {},
     "output_type": "execute_result"
    }
   ],
   "source": [
    "llm_text = Bedrock(\n",
    "    model_id=bedrock_info.get_model_id(model_name=\"Claude-V2-1\"),\n",
    "    client=boto3_bedrock,\n",
    "    model_kwargs={\n",
    "        \"max_tokens_to_sample\": 512\n",
    "    },\n",
    "    streaming=True,\n",
    "    callbacks=[StreamingStdOutCallbackHandler()]\n",
    ")\n",
    "\n",
    "llm_text"
   ]
  },
  {
   "cell_type": "markdown",
   "id": "3ba2e829-af8f-4e90-b994-59106cdec8d8",
   "metadata": {},
   "source": [
    "### Embedding 모델 선택"
   ]
  },
  {
   "cell_type": "code",
   "execution_count": 8,
   "id": "0b7b8752-d1e3-4f41-ba35-6da42c3785db",
   "metadata": {
    "tags": []
   },
   "outputs": [],
   "source": [
    "from utils.rag import KoSimCSERobertaContentHandler, SagemakerEndpointEmbeddingsJumpStart"
   ]
  },
  {
   "cell_type": "code",
   "execution_count": 9,
   "id": "793b03f7-3186-4969-b76a-98fe56bd5fdc",
   "metadata": {
    "tags": []
   },
   "outputs": [],
   "source": [
    "def get_embedding_model(is_bedrock_embeddings, is_KoSimCSERobert, aws_region, endpont_name=None):\n",
    "    \n",
    "    if is_bedrock_embeddings:\n",
    "        # We will be using the Titan Embeddings Model to generate our Embeddings.\n",
    "        from langchain.embeddings import BedrockEmbeddings\n",
    "        llm_emb = BedrockEmbeddings(\n",
    "            client=boto3_bedrock,\n",
    "            model_id=bedrock_info.get_model_id(\n",
    "                model_name=\"Titan-Embeddings-G1\"\n",
    "            )\n",
    "        )\n",
    "        print(\"Bedrock Embeddings Model Loaded\")\n",
    "\n",
    "    elif is_KoSimCSERobert:\n",
    "        LLMEmbHandler = KoSimCSERobertaContentHandler()\n",
    "        endpoint_name_emb = endpont_name\n",
    "        llm_emb = SagemakerEndpointEmbeddingsJumpStart(\n",
    "            endpoint_name=endpoint_name_emb,\n",
    "            region_name=aws_region,\n",
    "            content_handler=LLMEmbHandler,\n",
    "        )        \n",
    "        print(\"KoSimCSERobert Embeddings Model Loaded\")\n",
    "    else:\n",
    "        llm_emb = None\n",
    "        print(\"No Embedding Model Selected\")\n",
    "    \n",
    "    return llm_emb"
   ]
  },
  {
   "cell_type": "markdown",
   "id": "cd72a6b8-eaf0-4036-a530-3bde5ba988cd",
   "metadata": {},
   "source": [
    "#### [중요] is_KoSimCSERobert == True 일시에 endpoint_name 을 꼭 넣어 주세요."
   ]
  },
  {
   "cell_type": "code",
   "execution_count": 10,
   "id": "f42e032b-8715-432c-ae71-12a889f8ffc0",
   "metadata": {
    "tags": []
   },
   "outputs": [
    {
     "name": "stdout",
     "output_type": "stream",
     "text": [
      "Bedrock Embeddings Model Loaded\n"
     ]
    }
   ],
   "source": [
    "is_bedrock_embeddings = True\n",
    "is_KoSimCSERobert = False\n",
    "aws_region = os.environ.get(\"AWS_DEFAULT_REGION\", None)\n",
    "\n",
    "##############################\n",
    "# Parameters for is_KoSimCSERobert\n",
    "##############################\n",
    "if is_KoSimCSERobert: endpont_name = \"<endpoint-name>\"\n",
    "else: endpont_name = None\n",
    "##############################\n",
    "\n",
    "llm_emb = get_embedding_model(is_bedrock_embeddings, is_KoSimCSERobert, aws_region, endpont_name)   "
   ]
  },
  {
   "cell_type": "markdown",
   "id": "e10b67d5-382e-4715-a841-eb07b8655da8",
   "metadata": {},
   "source": [
    "## 3. Depoly ReRanker model (if needed)"
   ]
  },
  {
   "cell_type": "code",
   "execution_count": 11,
   "id": "9a08a296-41ef-44cb-857b-63d05a8d187c",
   "metadata": {
    "tags": []
   },
   "outputs": [
    {
     "name": "stdout",
     "output_type": "stream",
     "text": [
      "sagemaker.config INFO - Not applying SDK defaults from location: /etc/xdg/sagemaker/config.yaml\n",
      "sagemaker.config INFO - Not applying SDK defaults from location: /home/ec2-user/.config/sagemaker/config.yaml\n"
     ]
    }
   ],
   "source": [
    "import json\n",
    "import sagemaker\n",
    "from sagemaker.huggingface import HuggingFaceModel"
   ]
  },
  {
   "cell_type": "code",
   "execution_count": 12,
   "id": "33dd04a7-8200-49e7-ae69-55a82be199b4",
   "metadata": {
    "tags": []
   },
   "outputs": [],
   "source": [
    "depoly = False"
   ]
  },
  {
   "cell_type": "code",
   "execution_count": 13,
   "id": "9d40e3dd-a19f-4af3-831a-0cfe79e72cb3",
   "metadata": {
    "tags": []
   },
   "outputs": [],
   "source": [
    "if depoly:\n",
    "\n",
    "    try:\n",
    "        role = sagemaker.get_execution_role()\n",
    "    except ValueError:\n",
    "        iam = boto3.client('iam')\n",
    "        role = iam.get_role(RoleName='sagemaker_execution_role')['Role']['Arn']\n",
    "\n",
    "    # Hub Model configuration. https://huggingface.co/models\n",
    "    hub = {\n",
    "        'HF_MODEL_ID':'BAAI/bge-reranker-large',\n",
    "        'HF_TASK':'text-classification'\n",
    "    }\n",
    "\n",
    "    # create Hugging Face Model Class\n",
    "    huggingface_model = HuggingFaceModel(\n",
    "        transformers_version='4.26.0',\n",
    "        pytorch_version='1.13.1',\n",
    "        py_version='py39',\n",
    "        env=hub,\n",
    "        role=role, \n",
    "    )\n",
    "\n",
    "    # deploy model to SageMaker Inference\n",
    "    predictor = huggingface_model.deploy(\n",
    "        initial_instance_count=1, # number of instances\n",
    "        instance_type='ml.g5.xlarge' # instance type\n",
    "    )\n",
    "\n",
    "    print(f'Accept: {predictor.accept}')\n",
    "    print(f'ContentType: {predictor.content_type}')\n",
    "    print(f'Endpoint: {predictor.endpoint}')"
   ]
  },
  {
   "cell_type": "markdown",
   "id": "20e648ef-01ec-4e2f-ba88-7d2510fdb7a6",
   "metadata": {},
   "source": [
    "## 4. Invocation (prediction)"
   ]
  },
  {
   "cell_type": "code",
   "execution_count": 14,
   "id": "114be617-a687-4733-abb9-30394c7ef35f",
   "metadata": {
    "tags": []
   },
   "outputs": [
    {
     "name": "stdout",
     "output_type": "stream",
     "text": [
      "runtime_client: <botocore.client.SageMakerRuntime object at 0x7f2ba1de9330>\n"
     ]
    }
   ],
   "source": [
    "runtime_client = boto3.Session().client('sagemaker-runtime')\n",
    "print (f'runtime_client: {runtime_client}')"
   ]
  },
  {
   "cell_type": "code",
   "execution_count": 15,
   "id": "26ee5c45-de87-4a2b-bc04-bbc649fcd0c6",
   "metadata": {
    "tags": []
   },
   "outputs": [],
   "source": [
    "#endpoint_name = \"huggingface-pytorch-inference-2023-11-15-04-37-45-120\" # ml.m5.2xlarge\n",
    "endpoint_name = \"huggingface-pytorch-inference-2023-11-15-07-53-21-605\" # ml.g5.xlarge\n",
    "deserializer = \"application/json\""
   ]
  },
  {
   "cell_type": "code",
   "execution_count": 16,
   "id": "bd6288ed-b4fa-466f-9e2b-57484b827b0a",
   "metadata": {
    "tags": []
   },
   "outputs": [],
   "source": [
    "payload = json.dumps(\n",
    "    {\n",
    "        \"inputs\": [\n",
    "            {\"text\": \"I hate you\", \"text_pair\": \"I don't like you\"},\n",
    "            {\"text\": \"He hates you\", \"text_pair\": \"He like you\"}\n",
    "        ]\n",
    "    }\n",
    ")"
   ]
  },
  {
   "cell_type": "code",
   "execution_count": 17,
   "id": "c1eebe88-8b92-4e81-a103-b5a5d7a91bb3",
   "metadata": {
    "tags": []
   },
   "outputs": [
    {
     "name": "stdout",
     "output_type": "stream",
     "text": [
      "Response: [{'label': 'LABEL_0', 'score': 0.999653697013855}, {'label': 'LABEL_0', 'score': 0.025255175307393074}]\n",
      "CPU times: user 19.7 ms, sys: 1.26 ms, total: 21 ms\n",
      "Wall time: 75.3 ms\n"
     ]
    }
   ],
   "source": [
    "%%time\n",
    "response = runtime_client.invoke_endpoint(\n",
    "    EndpointName=endpoint_name,\n",
    "    ContentType=\"application/json\",\n",
    "    Accept=deserializer,\n",
    "    Body=payload\n",
    ")\n",
    "## deserialization\n",
    "out = json.loads(response['Body'].read().decode()) ## for json\n",
    "print (f'Response: {out}')"
   ]
  },
  {
   "cell_type": "markdown",
   "id": "7e432237-b9b5-4be3-aa0c-c30eeca6f480",
   "metadata": {},
   "source": [
    "## 5. LangChainmOpenSearch VectorStore 정의\n",
    "### 선수 조건\n",
    "- 01_preprocess_docs/02_load_docs_opensearch.ipynb를 통해서 OpenSearch Index 가 생성이 되어 있어야 합니다.\n",
    "#### [중요] 아래에 aws parameter store 에 아래 인증정보가 먼저 입력되어 있어야 합니다.\n",
    "- 01_preprocess_docs/01_parameter_store_example.ipynb 참고"
   ]
  },
  {
   "cell_type": "code",
   "execution_count": 18,
   "id": "635ffe33-b1b1-49f7-ae14-07b782d30a63",
   "metadata": {
    "tags": []
   },
   "outputs": [],
   "source": [
    "from utils.proc_docs import get_parameter"
   ]
  },
  {
   "cell_type": "code",
   "execution_count": 19,
   "id": "42d192b6-68ce-465e-9fa7-04b5201f4453",
   "metadata": {
    "tags": []
   },
   "outputs": [],
   "source": [
    "ssm = boto3.client(\"ssm\", \"us-east-1\")\n",
    "\n",
    "opensearch_domain_endpoint = get_parameter(\n",
    "    boto3_client = ssm,\n",
    "    parameter_name = 'knox_opensearch_domain_endpoint',\n",
    ")\n",
    "\n",
    "opensearch_user_id = get_parameter(\n",
    "    boto3_client = ssm,\n",
    "    parameter_name = 'knox_opensearch_userid',\n",
    ")\n",
    "\n",
    "opensearch_user_password = get_parameter(\n",
    "    boto3_client = ssm,\n",
    "    parameter_name = 'knox_opensearch_password',\n",
    ")"
   ]
  },
  {
   "cell_type": "code",
   "execution_count": 20,
   "id": "fc7866fd-fd9c-4b41-b600-a91e43edfe4d",
   "metadata": {
    "tags": []
   },
   "outputs": [],
   "source": [
    "opensearch_domain_endpoint = opensearch_domain_endpoint\n",
    "rag_user_name = opensearch_user_id\n",
    "rag_user_password = opensearch_user_password\n",
    "\n",
    "http_auth = (rag_user_name, rag_user_password) # Master username, Master password"
   ]
  },
  {
   "cell_type": "markdown",
   "id": "161a900e-effc-4d7f-a179-b6c00eac03ad",
   "metadata": {
    "tags": []
   },
   "source": [
    "### Index 이름 셋팅\n",
    "- 이전 노트북 01_preprocess_docs/02_load_docs_opensearch.ipynb를 통해서 생성된 OpenSearch Index name 입력"
   ]
  },
  {
   "cell_type": "code",
   "execution_count": 21,
   "id": "d5d9b5eb-052e-4e84-846b-c5385e853ba4",
   "metadata": {
    "tags": []
   },
   "outputs": [],
   "source": [
    "index_name = \"genai-poc-knox-incremental-1024c-256o-v7\""
   ]
  },
  {
   "cell_type": "markdown",
   "id": "482f5785-b88d-44fa-a603-080e4bd734a6",
   "metadata": {},
   "source": [
    "### OpenSearch Client 생성"
   ]
  },
  {
   "cell_type": "code",
   "execution_count": 22,
   "id": "968b7502-5799-4702-bc17-959e88c330a2",
   "metadata": {
    "tags": []
   },
   "outputs": [],
   "source": [
    "from utils.opensearch import opensearch_utils"
   ]
  },
  {
   "cell_type": "code",
   "execution_count": 23,
   "id": "6ceb46a1-e425-4f7e-9319-793b55abb938",
   "metadata": {
    "tags": []
   },
   "outputs": [],
   "source": [
    "os_client = opensearch_utils.create_aws_opensearch_client(\n",
    "    aws_region,\n",
    "    opensearch_domain_endpoint,\n",
    "    http_auth\n",
    ")"
   ]
  },
  {
   "cell_type": "markdown",
   "id": "a5084376-7523-4cf9-9123-adc4ae79f66d",
   "metadata": {
    "tags": []
   },
   "source": [
    "## 6. Retriever based on Hybrid Search 정의\n",
    "- LangChain에서 제공하는 **BaseRetriever** 클래스를 상속받아 **Custom Retriever**를 정의 할 수 있습니다.\n",
    "- 본 샘플코드 에서는 **Hybrid Search based Retriever**를 **정의**합니다. "
   ]
  },
  {
   "cell_type": "markdown",
   "id": "b0a25df0-2a13-4d73-9edc-532caf98f804",
   "metadata": {},
   "source": [
    "OpenSearch Hybrid 는 아래와 같은 방식으로 작동합니다.\n",
    "- (1) Sematic serch를 통해 각 document별 relevant score 산출\n",
    "- (2) Lexical search를 통해 각 document별 relevant score 산출\n",
    "- (3-1) Rank-fusion 방식이 \"simple weighted\" 일 경우\n",
    "    - 산출된 score에 대한 normalization 수행\n",
    "    - 전체 결과에서 가장 높은 스코어는 표준화 과정을 통하여 스코어가 1.0 이 됨.\n",
    "- (3-2) Rank-fusion 방식이 \"Reciprocal Rank Fusion (RRF)\" 일 경우\n",
    "    - Paper: https://plg.uwaterloo.ca/~gvcormac/cormacksigir09-rrf.pdf\n",
    "    - Desc: https://medium.com/@sowmiyajaganathan/hybrid-search-with-re-ranking-ff120c8a426d\n",
    "    - **RRF의 경우 score가 아닌 ranking 정보를 활용, 때문에 score normalization이 필요 없음**\n",
    "    - ![rrf.png](../../../10_advanced_question_answering/img/rrf.png)\n",
    "\n",
    "RRF는 langchain에서 \"Ensemble Retriever\" 이름으로 api를 제공합니다. \n",
    "- https://python.langchain.com/docs/modules/data_connection/retrievers/ensemble"
   ]
  },
  {
   "cell_type": "code",
   "execution_count": 26,
   "id": "5db8e470-63a9-4c3d-94c8-1d270a6da822",
   "metadata": {
    "tags": []
   },
   "outputs": [],
   "source": [
    "from utils.rag import OpenSearchHybridSearchRetriever"
   ]
  },
  {
   "cell_type": "markdown",
   "id": "d7feac2f-21a2-4756-b989-66c180bb1e79",
   "metadata": {},
   "source": [
    "- 필터 설정 예시\n",
    "- filter=[ <BR>\n",
    "    　{\"term\": {\"metadata.[**your_metadata_attribute_name**]\": \"**your first keyword**\"}}, <BR>\n",
    "    　{\"term\": {\"metadata.[**your_metadata_attribute_name**]\": \"**your second keyword**\"}},<BR>\n",
    "]"
   ]
  },
  {
   "cell_type": "code",
   "execution_count": 27,
   "id": "49c7e131-294f-4ff8-9331-989709c7079c",
   "metadata": {
    "tags": []
   },
   "outputs": [],
   "source": [
    "opensearch_hybrid_retriever = OpenSearchHybridSearchRetriever(\n",
    "    # necessary\n",
    "    os_client=os_client,\n",
    "    vector_db=vector_db,\n",
    "    index_name=index_name,\n",
    "    llm_emb=llm_emb,\n",
    "    llm_text=llm_text,\n",
    "\n",
    "    # option for lexical\n",
    "    minimum_should_match=0,\n",
    "    filter=[],\n",
    "\n",
    "    # option for rank fusion\n",
    "    fusion_algorithm=\"RRF\", # [\"RRF\", \"simple_weighted\"], rank fusion 방식 정의\n",
    "    ensemble_weights=[.5, .5], # [for lexical, for semantic], Lexical, Semantic search 결과에 대한 최종 반영 비율 정의\n",
    "    reranker=True, # enable reranker with reranker model\n",
    "    reranker_endpoint_name=endpoint_name, # endpoint name for reranking model\n",
    "    \n",
    "    # option for async search\n",
    "    async_mode=True,\n",
    "\n",
    "    # option for output\n",
    "    k=5, # 최종 Document 수 정의\n",
    "    verbose=False,\n",
    ")"
   ]
  },
  {
   "cell_type": "markdown",
   "id": "cfb26835-ad98-41c5-9e9d-2453642e3551",
   "metadata": {},
   "source": [
    "### Retrieval example\n",
    "- default search"
   ]
  },
  {
   "cell_type": "code",
   "execution_count": 28,
   "id": "9c06e89f-79de-413c-ba9c-a188ca3fe2d0",
   "metadata": {
    "tags": []
   },
   "outputs": [],
   "source": [
    "from utils.rag import show_context_used"
   ]
  },
  {
   "cell_type": "code",
   "execution_count": 29,
   "id": "fe3bfee3-dac1-45b9-8795-03e36c1632a9",
   "metadata": {
    "tags": []
   },
   "outputs": [],
   "source": [
    "query = \"knox\""
   ]
  },
  {
   "cell_type": "code",
   "execution_count": 30,
   "id": "05b13e5e-4a66-4dc8-b18c-42a6e3bd6037",
   "metadata": {
    "tags": []
   },
   "outputs": [
    {
     "name": "stdout",
     "output_type": "stream",
     "text": [
      "\n",
      "==========  Results  ==========\n",
      "\n",
      "1. question: knox\n",
      "2. # documents: 5\n",
      "3. Documents: \n",
      "\n",
      "-----------------------------------------------\n",
      "1. Chunk: 1022 Characters\n",
      "-----------------------------------------------\n",
      "Knox Suite. Knox Suite is a bundled offering of Knox solutions for enterprise mobility designed to\n",
      "address organizations' needs related to security and management throughout the entire device\n",
      "lifecycle. Learn more about Knox Suite #Audience This document is intended for IT Admins. Understand\n",
      "what's included in Knox Suite and how you can use it to manage, secure, and maintain enterprise\n",
      "devices. Learn where to find information on how to perform various tasks with Knox\"Suite services.\n",
      "About Knox Suite Knox Suite is a bundled offering that includes the following Knox products: Knox\n",
      "Platform for Enterprise - A Knox solution that provides military-grade security to Samsung Android\n",
      "phones, tablets, and Tizen watches for business. Knox Mobile Enrollment - A Knox solution that\n",
      "allows you to enroll thousands of Samsung devices in your EMM at once. When used with a Knox Suite\n",
      "license, Knox Mobile Enrollment provides advanced profiles that offer IT admins additional features\n",
      "such as higher control over locking devices\n",
      "metadata:\n",
      " {'source': 'all_processed_data.json', 'seq_num': 65, 'title': 'Knox Suite', 'url':\n",
      "'https://docs.samsungknox.com/admin/knox-suite', 'project': 'KS', 'last_updated': '2023-07-26',\n",
      "'id': 'f535b284-bbd9-4269-bbb6-9b8b21fd5595'}\n",
      "-----------------------------------------------\n",
      "2. Chunk: 954 Characters\n",
      "-----------------------------------------------\n",
      "Knox E-FOTA 1.30 release notes. Release notes for Knox E-FOTA 1.30 For a full list of all features,\n",
      "visit the product page for Knox E-FOTA. Knox Suite features in Knox E-FOTA are now available Knox\n",
      "Suite is a bundled offering introduced this month that allows you to use the premium features of the\n",
      "following services: Knox E-FOTA, Knox Manage, Knox Mobile Enrollment, Knox Platform for Enterprise\n",
      "(through the Knox Service Plugin) You can access all included Knox services with a single Knox Suite\n",
      "license. The following features were added in Knox E-FOTA to support Knox Suite features: The\n",
      "License details popup and the Licenses table now show the remaining number of seats in your license.\n",
      "For a Knox Suite license key, this number is calculated based on the number of seats consumed from\n",
      "all Knox services that use this license. When a device is enrolled in multiple Knox services under\n",
      "the same license key, that device only consumes 1 license seat\n",
      "metadata:\n",
      " {'source': 'all_processed_data.json', 'seq_num': 264, 'title': 'Knox E-FOTA 1.30 release notes',\n",
      "'url': 'https://docs.samsungknox.com/admin/efota-one/release-notes/20-04-22', 'project': 'EFOTA',\n",
      "'last_updated': '2023-07-26', 'id': '3fcd6f42-9b10-462e-840f-24a4c3691762'}\n",
      "-----------------------------------------------\n",
      "3. Chunk: 960 Characters\n",
      "-----------------------------------------------\n",
      ". Certain services, like Knox Capture and Knox Capture Scandit Edition, allow you to enroll\n",
      "individual devices by entering a license key directly in the app. Knox service Pricing Supported\n",
      "license keys Trial license and where to get it Knox Platform for Enterprise (Knox Service Plugin)\n",
      "Free Knox Suite Knox Platform for Enterprise Premium key No trial available Knox Platform for\n",
      "Enterprise DualDAR (Knox Service Plugin) Paid Knox Platform for Enterprise DualDAR key No trial\n",
      "available Knox Capture Paid Knox Suite Knox Suite trial key (Knox Admin Portal) Knox Capture Scandit\n",
      "Edition Paid Knox Capture Scandit Edition key Knox Capture Scandit Edition trial key (Knox Admin\n",
      "Portal) Knox Authentication Manager Paid Knox Suite Knox Suite trial key (Knox Admin Portal) Can any\n",
      "Knox services be used for free? Some Knox services are free to use. For certain services, you still\n",
      "need to generate a license to use them. Knox Mobile Enrollment - No license required\n",
      "metadata:\n",
      " {'source': 'all_processed_data.json', 'seq_num': 91, 'title': 'Knox licenses', 'url':\n",
      "'https://docs.samsungknox.com/admin/fundamentals/knox-licenses', 'project': 'USP', 'last_updated':\n",
      "'2023-07-26', 'id': '273f9367-8f9a-4ecb-897c-86950ff71e7b'}\n",
      "-----------------------------------------------\n",
      "4. Chunk: 28 Characters\n",
      "-----------------------------------------------\n",
      "Knox knowledge base articles\n",
      "metadata:\n",
      " {'source': 'all_processed_data.json', 'seq_num': 197, 'title': 'Knox knowledge base articles',\n",
      "'url': 'https://docs.samsungknox.com/admin/fundamentals/kbas', 'project': 'USP', 'last_updated':\n",
      "'2023-07-26', 'id': 'f1bec103-dd61-4a0f-b496-809e58392a6b'}\n",
      "-----------------------------------------------\n",
      "5. Chunk: 997 Characters\n",
      "-----------------------------------------------\n",
      "Learn more about Knox Suite. This section describes where you can find instructions on how to\n",
      "perform tasks using the different products included in Knox Suite. General documentation for the\n",
      "Knox Suite services Knox Service , See - , - Knox Manage , Knox Manage Admin Guide Knox Platform for\n",
      "Enterprise , Knox Platform for Enterprise Admin Guide Knox Mobile Enrollment , Knox Mobile\n",
      "Enrollment Admin Guide Knox E-FOTA , Knox E-FOTA Admin Guide Knox Asset Intelligence , Knox Asset\n",
      "Intelligence Admin Guide Knox Capture , Knox Capture Admin Guide Knox Authentication Manager , Knox\n",
      "Authentication Manager Admin Guide Knox Suite operations For information on See Knox service How to\n",
      "set up Knox Manage with Knox Suite Workflow:\"Set up Knox Manage with a Knox Suite license Knox\n",
      "Manage How to check your Knox Suite license usage View and modify a license Note Alternatively, you\n",
      "can sign in to your SamsungKnox.com dashboard and click Licenses to view all licenses you have for\n",
      "all your Knox services\n",
      "metadata:\n",
      " {'source': 'all_processed_data.json', 'seq_num': 64, 'title': 'Learn more about Knox Suite', 'url':\n",
      "'https://docs.samsungknox.com/admin/knox-suite/learn-more-about-knox-suite', 'project': 'KS',\n",
      "'last_updated': '2023-07-26', 'id': '879e3c52-aa8d-48e6-b1be-c69c14374489'}\n",
      "CPU times: user 338 ms, sys: 24.1 ms, total: 362 ms\n",
      "Wall time: 630 ms\n"
     ]
    }
   ],
   "source": [
    "%%time\n",
    "search_hybrid_result = opensearch_hybrid_retriever.get_relevant_documents(query)\n",
    "\n",
    "print(\"\\n==========  Results  ==========\\n\")\n",
    "print(f'1. question: {query}')\n",
    "print (f'2. # documents: {len(search_hybrid_result)}')\n",
    "print(\"3. Documents: \\n\")\n",
    "\n",
    "show_context_used(search_hybrid_result)"
   ]
  },
  {
   "cell_type": "markdown",
   "id": "c09221b5-4a6c-463b-9769-35cc8362e33c",
   "metadata": {},
   "source": [
    "- update parameters"
   ]
  },
  {
   "cell_type": "code",
   "execution_count": 31,
   "id": "b7bb4672-d2b8-4b29-b71c-b06d84bcd470",
   "metadata": {
    "tags": []
   },
   "outputs": [],
   "source": [
    "opensearch_hybrid_retriever.update_search_params(\n",
    "    k=3,\n",
    "    minimum_should_match=30,\n",
    "    filter=[\n",
    "        {\"term\": {\"metadata.seq_num\": \"64\"}},\n",
    "    ],\n",
    "    reranker=True,\n",
    "    reranker_endpoint_name=endpoint_name,\n",
    ")"
   ]
  },
  {
   "cell_type": "code",
   "execution_count": 32,
   "id": "1b9b45b1-cb92-4954-8087-143a550350c8",
   "metadata": {
    "tags": []
   },
   "outputs": [
    {
     "name": "stdout",
     "output_type": "stream",
     "text": [
      "\n",
      "==========  Results  ==========\n",
      "\n",
      "1. question: knox\n",
      "2. # documents: 3\n",
      "3. Documents: \n",
      "\n",
      "-----------------------------------------------\n",
      "1. Chunk: 997 Characters\n",
      "-----------------------------------------------\n",
      "Learn more about Knox Suite. This section describes where you can find instructions on how to\n",
      "perform tasks using the different products included in Knox Suite. General documentation for the\n",
      "Knox Suite services Knox Service , See - , - Knox Manage , Knox Manage Admin Guide Knox Platform for\n",
      "Enterprise , Knox Platform for Enterprise Admin Guide Knox Mobile Enrollment , Knox Mobile\n",
      "Enrollment Admin Guide Knox E-FOTA , Knox E-FOTA Admin Guide Knox Asset Intelligence , Knox Asset\n",
      "Intelligence Admin Guide Knox Capture , Knox Capture Admin Guide Knox Authentication Manager , Knox\n",
      "Authentication Manager Admin Guide Knox Suite operations For information on See Knox service How to\n",
      "set up Knox Manage with Knox Suite Workflow:\"Set up Knox Manage with a Knox Suite license Knox\n",
      "Manage How to check your Knox Suite license usage View and modify a license Note Alternatively, you\n",
      "can sign in to your SamsungKnox.com dashboard and click Licenses to view all licenses you have for\n",
      "all your Knox services\n",
      "metadata:\n",
      " {'source': 'all_processed_data.json', 'seq_num': 64, 'title': 'Learn more about Knox Suite', 'url':\n",
      "'https://docs.samsungknox.com/admin/knox-suite/learn-more-about-knox-suite', 'project': 'KS',\n",
      "'last_updated': '2023-07-26', 'id': '879e3c52-aa8d-48e6-b1be-c69c14374489'}\n",
      "-----------------------------------------------\n",
      "2. Chunk: 983 Characters\n",
      "-----------------------------------------------\n",
      ".com dashboard and click Licenses to view all licenses you have for all your Knox services. Knox\n",
      "Manage How to upgrade your license key from Knox Manage to Knox Suite Upgrade a license Knox\"Manage\n",
      "How to configure premium Knox features Prerequisite: Workflow:\"Set up Knox Manage with a Knox Suite\n",
      "license Samsung Knox running Android Enterprise Note Policies with a in the Knox Manage admin portal\n",
      "are Knox premium features. These features require a Knox\"Suite license key. Knox Manage How to\n",
      "approve the Knox Service Plugin (KSP) app Prerequisite:Set up Android Enterprise. Approve Knox\n",
      "Service Plugin (KSP). Knox Manage What's next? When you finish evaluating Knox Suite and decide to\n",
      "use it commercially, contact your Knox reseller to purchase a Knox\"Suite license. If you're in need\n",
      "of devices, consider purchasing Enterprise Edition devices if this program is supported in your\n",
      "country. These devices are packaged with a 1-year renewable Knox\"Suite license, among other benefits\n",
      "metadata:\n",
      " {'source': 'all_processed_data.json', 'seq_num': 64, 'title': 'Learn more about Knox Suite', 'url':\n",
      "'https://docs.samsungknox.com/admin/knox-suite/learn-more-about-knox-suite', 'project': 'KS',\n",
      "'last_updated': '2023-07-26', 'id': '92a342a0-8941-4af2-808a-68f00151b9d3'}\n",
      "-----------------------------------------------\n",
      "3. Chunk: 367 Characters\n",
      "-----------------------------------------------\n",
      ". If you're in need of devices, consider purchasing Enterprise Edition devices if this program is\n",
      "supported in your country. These devices are packaged with a 1-year renewable Knox\"Suite license,\n",
      "among other benefits. Once you've purchased your Enterprise\"Edition devices, see the Enterprise\n",
      "Edition section for information on how to generate your Knox Suite license.\n",
      "metadata:\n",
      " {'source': 'all_processed_data.json', 'seq_num': 64, 'title': 'Learn more about Knox Suite', 'url':\n",
      "'https://docs.samsungknox.com/admin/knox-suite/learn-more-about-knox-suite', 'project': 'KS',\n",
      "'last_updated': '2023-07-26', 'id': '213efa3c-8af1-4150-b723-4069c7739517'}\n"
     ]
    }
   ],
   "source": [
    "query = \"knox\"\n",
    "search_hybrid_result = opensearch_hybrid_retriever.get_relevant_documents(query)\n",
    "\n",
    "print(\"\\n==========  Results  ==========\\n\")\n",
    "print(f'1. question: {query}')\n",
    "print(f'2. # documents: {len(search_hybrid_result)}')\n",
    "print(\"3. Documents: \\n\")\n",
    "\n",
    "show_context_used(search_hybrid_result)"
   ]
  },
  {
   "cell_type": "markdown",
   "id": "a981abe7-5208-48f5-a9cc-8c557e9941ca",
   "metadata": {},
   "source": [
    "## 5. RAG using RetrievalQA powered by LangChain"
   ]
  },
  {
   "cell_type": "code",
   "execution_count": 34,
   "id": "08cf6d2b-451b-499c-aec2-bb6f5abafbb0",
   "metadata": {
    "tags": []
   },
   "outputs": [],
   "source": [
    "from utils.rag import prompt_repo\n",
    "from utils.rag import run_RetrievalQA\n",
    "from langchain.prompts import PromptTemplate"
   ]
  },
  {
   "cell_type": "markdown",
   "id": "b490df1f-8113-4dd1-a578-a3e1a6918fde",
   "metadata": {
    "tags": []
   },
   "source": [
    "### Prompting\n",
    "- [TIP] Prompt의 instruction의 경우 한글보다 영어로 했을 때 더 좋은 결과를 얻을 수 있습니다."
   ]
  },
  {
   "cell_type": "code",
   "execution_count": 35,
   "id": "bfd3ec15-7750-40c3-bab8-341d56195057",
   "metadata": {
    "tags": []
   },
   "outputs": [
    {
     "name": "stdout",
     "output_type": "stream",
     "text": [
      "('\\n'\n",
      " '            \\n'\n",
      " '\\n'\n",
      " 'Human:\\n'\n",
      " '            You are a mater answer bot designed to answer software '\n",
      " \"developer's questions.\\n\"\n",
      " \"            I'm going to give you a context. Read the context carefully, \"\n",
      " \"because I'm going to ask you a question about it.\\n\"\n",
      " '\\n'\n",
      " '            Here is the context: <context>{context}</context>\\n'\n",
      " '\\n'\n",
      " '            First, find the paragraphs or sentences from the context that '\n",
      " 'are most relevant to answering the question, and then print them in numbered '\n",
      " 'order.\\n'\n",
      " '            The format of paragraphs or sentences to the question should '\n",
      " \"look like what's shown between the <references></references> tags.\\n\"\n",
      " '            Make sure to follow the formatting and spacing exactly.\\n'\n",
      " '\\n'\n",
      " '            <references>\\n'\n",
      " '            [Examples of question + answer pairs using parts of the given '\n",
      " 'context, with answers written exactly like how Claude’s output should be '\n",
      " 'structured]\\n'\n",
      " '            </references>\\n'\n",
      " '\\n'\n",
      " '            If there are no relevant paragraphs or sentences, write \"No '\n",
      " 'relevant context\" instead.\\n'\n",
      " '\\n'\n",
      " '            Then, answer the question within <answer></answer> XML tags as '\n",
      " 'much as you can.\\n'\n",
      " '            Skip the preamble and go straight into the answer.\\n'\n",
      " '            Don\\'t say \"According to context\" when answering.\\n'\n",
      " \"            Don't insert XML tag such as <context> and </context> when \"\n",
      " 'answering.\\n'\n",
      " '\\n'\n",
      " '            Here is the question: <question>{question}</question>\\n'\n",
      " '\\n'\n",
      " '            If the question cannot be answered by the context, say so.\\n'\n",
      " '\\n'\n",
      " '            \\n'\n",
      " '\\n'\n",
      " 'Assistant:')\n"
     ]
    }
   ],
   "source": [
    "PROMPT = prompt_repo.get_qa(prompt_type=\"answer_with_ref\") # [\"answer_only\", \"answer_with_ref\"]\n",
    "pprint (PROMPT.template)"
   ]
  },
  {
   "cell_type": "markdown",
   "id": "c66157a6-aec8-4555-a90f-1178e6f4f6e0",
   "metadata": {},
   "source": [
    "### Update Search Params (Optional)"
   ]
  },
  {
   "cell_type": "code",
   "execution_count": 36,
   "id": "64df2daf-8b42-472a-885f-97320ee98132",
   "metadata": {
    "tags": []
   },
   "outputs": [],
   "source": [
    "from langchain.chains import RetrievalQA"
   ]
  },
  {
   "cell_type": "code",
   "execution_count": 42,
   "id": "d2697230-6962-43d8-8917-ba9daa4295bb",
   "metadata": {
    "tags": []
   },
   "outputs": [],
   "source": [
    "opensearch_hybrid_retriever.update_search_params(\n",
    "    k=5,\n",
    "    minimum_should_match=0,\n",
    "    #filter=[\n",
    "    #    {\"term\": {\"metadata.project\": \"KPE\"}},\n",
    "    #],\n",
    "    reranker=True,\n",
    "    reranker_endpoint_name=endpoint_name,\n",
    "    verbose=False\n",
    ")"
   ]
  },
  {
   "cell_type": "markdown",
   "id": "aee26c22-b674-4f4f-a87b-29508e336fda",
   "metadata": {},
   "source": [
    "### Request"
   ]
  },
  {
   "cell_type": "code",
   "execution_count": 43,
   "id": "95fa61d3-9256-432a-96a3-2c696c97ea68",
   "metadata": {
    "tags": []
   },
   "outputs": [],
   "source": [
    "qa = RetrievalQA.from_chain_type(\n",
    "    llm=llm_text,\n",
    "    chain_type=\"stuff\",\n",
    "    retriever=opensearch_hybrid_retriever,\n",
    "    return_source_documents=True,\n",
    "    chain_type_kwargs={\n",
    "        \"prompt\": PROMPT,\n",
    "        \"verbose\": False,\n",
    "    },\n",
    "    verbose=False\n",
    ")"
   ]
  },
  {
   "cell_type": "code",
   "execution_count": 44,
   "id": "390ad324-40b3-4bcb-92b9-50eb080492a5",
   "metadata": {
    "tags": []
   },
   "outputs": [
    {
     "name": "stdout",
     "output_type": "stream",
     "text": [
      " <references>\n",
      "1. Knox Suite is a bundled offering of Knox solutions for enterprise mobility designed to address organizations' needs related to security and management throughout the entire device lifecycle. \n",
      "2. Knox Suite is a bundled offering that includes the following Knox products: Knox Platform for Enterprise - A Knox solution that provides military-grade security to Samsung Android phones, tablets, and Tizen watches for business. Knox Mobile Enrollment - A Knox solution that allows you to enroll thousands of Samsung devices in your EMM at once. \n",
      "</references>\n",
      "\n",
      "<answer>\n",
      "Knox refers to a suite of enterprise mobility solutions from Samsung designed to secure, manage, and maintain Samsung devices in an enterprise environment. Key Knox services mentioned in the context include:\n",
      "\n",
      "- Knox Platform for Enterprise: Provides military-grade security for Samsung devices \n",
      "- Knox Mobile Enrollment: Allows enrollment of large numbers of Samsung devices into an EMM\n",
      "- Other Knox services like Knox Manage, Knox E-FOTA, Knox Asset Intelligence, Knox Capture, Knox Authentication Manager\n",
      "\n",
      "The Knox solutions aim to address enterprise needs around security, management, and maintenance of Samsung devices through their lifecycle. Knox Suite bundles multiple Knox services together under a single license.\n",
      "</answer>"
     ]
    }
   ],
   "source": [
    "query = \"knox\"\n",
    "response = qa(query)"
   ]
  },
  {
   "cell_type": "code",
   "execution_count": 45,
   "id": "01e77dad-dc19-416b-80e7-19fac3b736a5",
   "metadata": {
    "tags": []
   },
   "outputs": [
    {
     "name": "stdout",
     "output_type": "stream",
     "text": [
      "##################################\n",
      "query:  knox\n",
      "##################################\n",
      "\u001b[34m\n",
      "\n",
      "### Answer ###\u001b[0m\n",
      " <references>\n",
      "1. Knox Suite is a bundled offering of Knox solutions for enterprise mobility designed to address\n",
      "organizations' needs related to security and management throughout the entire device lifecycle.\n",
      "2. Knox Suite is a bundled offering that includes the following Knox products: Knox Platform for\n",
      "Enterprise - A Knox solution that provides military-grade security to Samsung Android phones,\n",
      "tablets, and Tizen watches for business. Knox Mobile Enrollment - A Knox solution that allows you to\n",
      "enroll thousands of Samsung devices in your EMM at once.\n",
      "</references>\n",
      "\n",
      "<answer>\n",
      "Knox refers to a suite of enterprise mobility solutions from Samsung designed to secure, manage, and\n",
      "maintain Samsung devices in an enterprise environment. Key Knox services mentioned in the context\n",
      "include:\n",
      "\n",
      "- Knox Platform for Enterprise: Provides military-grade security for Samsung devices\n",
      "- Knox Mobile Enrollment: Allows enrollment of large numbers of Samsung devices into an EMM\n",
      "- Other Knox services like Knox Manage, Knox E-FOTA, Knox Asset Intelligence, Knox Capture, Knox\n",
      "Authentication Manager\n",
      "\n",
      "The Knox solutions aim to address enterprise needs around security, management, and maintenance of\n",
      "Samsung devices through their lifecycle. Knox Suite bundles multiple Knox services together under a\n",
      "single license.\n",
      "</answer>\n",
      "\u001b[32m\n",
      "\n",
      "### Contexts ###\u001b[0m\n",
      "-----------------------------------------------\n",
      "1. Chunk: 1022 Characters\n",
      "-----------------------------------------------\n",
      "Knox Suite. Knox Suite is a bundled offering of Knox solutions for enterprise mobility designed to\n",
      "address organizations' needs related to security and management throughout the entire device\n",
      "lifecycle. Learn more about Knox Suite #Audience This document is intended for IT Admins. Understand\n",
      "what's included in Knox Suite and how you can use it to manage, secure, and maintain enterprise\n",
      "devices. Learn where to find information on how to perform various tasks with Knox\"Suite services.\n",
      "About Knox Suite Knox Suite is a bundled offering that includes the following Knox products: Knox\n",
      "Platform for Enterprise - A Knox solution that provides military-grade security to Samsung Android\n",
      "phones, tablets, and Tizen watches for business. Knox Mobile Enrollment - A Knox solution that\n",
      "allows you to enroll thousands of Samsung devices in your EMM at once. When used with a Knox Suite\n",
      "license, Knox Mobile Enrollment provides advanced profiles that offer IT admins additional features\n",
      "such as higher control over locking devices\n",
      "metadata:\n",
      " {'source': 'all_processed_data.json', 'seq_num': 65, 'title': 'Knox Suite', 'url':\n",
      "'https://docs.samsungknox.com/admin/knox-suite', 'project': 'KS', 'last_updated': '2023-07-26',\n",
      "'id': 'f535b284-bbd9-4269-bbb6-9b8b21fd5595'}\n",
      "-----------------------------------------------\n",
      "2. Chunk: 954 Characters\n",
      "-----------------------------------------------\n",
      "Knox E-FOTA 1.30 release notes. Release notes for Knox E-FOTA 1.30 For a full list of all features,\n",
      "visit the product page for Knox E-FOTA. Knox Suite features in Knox E-FOTA are now available Knox\n",
      "Suite is a bundled offering introduced this month that allows you to use the premium features of the\n",
      "following services: Knox E-FOTA, Knox Manage, Knox Mobile Enrollment, Knox Platform for Enterprise\n",
      "(through the Knox Service Plugin) You can access all included Knox services with a single Knox Suite\n",
      "license. The following features were added in Knox E-FOTA to support Knox Suite features: The\n",
      "License details popup and the Licenses table now show the remaining number of seats in your license.\n",
      "For a Knox Suite license key, this number is calculated based on the number of seats consumed from\n",
      "all Knox services that use this license. When a device is enrolled in multiple Knox services under\n",
      "the same license key, that device only consumes 1 license seat\n",
      "metadata:\n",
      " {'source': 'all_processed_data.json', 'seq_num': 264, 'title': 'Knox E-FOTA 1.30 release notes',\n",
      "'url': 'https://docs.samsungknox.com/admin/efota-one/release-notes/20-04-22', 'project': 'EFOTA',\n",
      "'last_updated': '2023-07-26', 'id': '3fcd6f42-9b10-462e-840f-24a4c3691762'}\n",
      "-----------------------------------------------\n",
      "3. Chunk: 960 Characters\n",
      "-----------------------------------------------\n",
      ". Certain services, like Knox Capture and Knox Capture Scandit Edition, allow you to enroll\n",
      "individual devices by entering a license key directly in the app. Knox service Pricing Supported\n",
      "license keys Trial license and where to get it Knox Platform for Enterprise (Knox Service Plugin)\n",
      "Free Knox Suite Knox Platform for Enterprise Premium key No trial available Knox Platform for\n",
      "Enterprise DualDAR (Knox Service Plugin) Paid Knox Platform for Enterprise DualDAR key No trial\n",
      "available Knox Capture Paid Knox Suite Knox Suite trial key (Knox Admin Portal) Knox Capture Scandit\n",
      "Edition Paid Knox Capture Scandit Edition key Knox Capture Scandit Edition trial key (Knox Admin\n",
      "Portal) Knox Authentication Manager Paid Knox Suite Knox Suite trial key (Knox Admin Portal) Can any\n",
      "Knox services be used for free? Some Knox services are free to use. For certain services, you still\n",
      "need to generate a license to use them. Knox Mobile Enrollment - No license required\n",
      "metadata:\n",
      " {'source': 'all_processed_data.json', 'seq_num': 91, 'title': 'Knox licenses', 'url':\n",
      "'https://docs.samsungknox.com/admin/fundamentals/knox-licenses', 'project': 'USP', 'last_updated':\n",
      "'2023-07-26', 'id': '273f9367-8f9a-4ecb-897c-86950ff71e7b'}\n",
      "-----------------------------------------------\n",
      "4. Chunk: 28 Characters\n",
      "-----------------------------------------------\n",
      "Knox knowledge base articles\n",
      "metadata:\n",
      " {'source': 'all_processed_data.json', 'seq_num': 197, 'title': 'Knox knowledge base articles',\n",
      "'url': 'https://docs.samsungknox.com/admin/fundamentals/kbas', 'project': 'USP', 'last_updated':\n",
      "'2023-07-26', 'id': 'f1bec103-dd61-4a0f-b496-809e58392a6b'}\n",
      "-----------------------------------------------\n",
      "5. Chunk: 997 Characters\n",
      "-----------------------------------------------\n",
      "Learn more about Knox Suite. This section describes where you can find instructions on how to\n",
      "perform tasks using the different products included in Knox Suite. General documentation for the\n",
      "Knox Suite services Knox Service , See - , - Knox Manage , Knox Manage Admin Guide Knox Platform for\n",
      "Enterprise , Knox Platform for Enterprise Admin Guide Knox Mobile Enrollment , Knox Mobile\n",
      "Enrollment Admin Guide Knox E-FOTA , Knox E-FOTA Admin Guide Knox Asset Intelligence , Knox Asset\n",
      "Intelligence Admin Guide Knox Capture , Knox Capture Admin Guide Knox Authentication Manager , Knox\n",
      "Authentication Manager Admin Guide Knox Suite operations For information on See Knox service How to\n",
      "set up Knox Manage with Knox Suite Workflow:\"Set up Knox Manage with a Knox Suite license Knox\n",
      "Manage How to check your Knox Suite license usage View and modify a license Note Alternatively, you\n",
      "can sign in to your SamsungKnox.com dashboard and click Licenses to view all licenses you have for\n",
      "all your Knox services\n",
      "metadata:\n",
      " {'source': 'all_processed_data.json', 'seq_num': 64, 'title': 'Learn more about Knox Suite', 'url':\n",
      "'https://docs.samsungknox.com/admin/knox-suite/learn-more-about-knox-suite', 'project': 'KS',\n",
      "'last_updated': '2023-07-26', 'id': '879e3c52-aa8d-48e6-b1be-c69c14374489'}\n"
     ]
    }
   ],
   "source": [
    "print(\"##################################\")\n",
    "print(\"query: \", query)\n",
    "print(\"##################################\")\n",
    "\n",
    "print (colored(\"\\n\\n### Answer ###\", \"blue\"))\n",
    "print_ww(response['result'])\n",
    "\n",
    "print (colored(\"\\n\\n### Contexts ###\", \"green\"))\n",
    "show_context_used(response['source_documents'])"
   ]
  },
  {
   "cell_type": "code",
   "execution_count": null,
   "id": "ab0d1ef1-8a66-4530-9080-94671c1402ce",
   "metadata": {},
   "outputs": [],
   "source": []
  },
  {
   "cell_type": "code",
   "execution_count": null,
   "id": "21b1a2a9-a914-4b61-8e8f-3523997f2181",
   "metadata": {},
   "outputs": [],
   "source": []
  },
  {
   "cell_type": "code",
   "execution_count": null,
   "id": "d6653b87-015b-4b2c-872b-26772b22c266",
   "metadata": {},
   "outputs": [],
   "source": []
  },
  {
   "cell_type": "code",
   "execution_count": null,
   "id": "995dbeec-9be1-498f-8732-465abe3eb723",
   "metadata": {},
   "outputs": [],
   "source": []
  },
  {
   "cell_type": "code",
   "execution_count": null,
   "id": "c6f437e5-7f85-469e-bf27-17fedafcf1bb",
   "metadata": {},
   "outputs": [],
   "source": [
    "#!pip install -U FlagEmbedding\n",
    "%%time\n",
    "from FlagEmbedding import FlagReranker\n",
    "reranker = FlagReranker('BAAI/bge-reranker-large', use_fp16=False) # Setting use_fp16 to True speeds up computation with a slight performance degradation\n",
    "\n",
    "score = reranker.compute_score(['query', 'passage'])\n",
    "print(score)\n",
    "\n",
    "scores = reranker.compute_score([['what is panda?', 'hi'], ['what is panda?', 'The giant panda (Ailuropoda melanoleuca), sometimes called a panda bear or simply panda, is a bear species endemic to China.']])\n",
    "print(scores)"
   ]
  }
 ],
 "metadata": {
  "kernelspec": {
   "display_name": "Python 3.10.9 ('base')",
   "language": "python",
   "name": "python3"
  },
  "language_info": {
   "codemirror_mode": {
    "name": "ipython",
    "version": 3
   },
   "file_extension": ".py",
   "mimetype": "text/x-python",
   "name": "python",
   "nbconvert_exporter": "python",
   "pygments_lexer": "ipython3",
   "version": "3.10.9"
  },
  "vscode": {
   "interpreter": {
    "hash": "4b8e647a79df62bf31906a725b05de775d285962ac600487339d38c51a5c07b1"
   }
  }
 },
 "nbformat": 4,
 "nbformat_minor": 5
}
