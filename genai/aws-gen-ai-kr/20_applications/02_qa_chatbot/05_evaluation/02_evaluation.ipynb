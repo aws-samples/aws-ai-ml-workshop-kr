{
 "cells": [
  {
   "cell_type": "markdown",
   "id": "b3549227-a8fc-473d-af32-6bf3aee353b2",
   "metadata": {},
   "source": [
    "# Evaluation\n",
    "- For retriever\n",
    "- For generator"
   ]
  },
  {
   "cell_type": "markdown",
   "id": "bd731477-d5aa-4f55-878d-9d38a7e37019",
   "metadata": {},
   "source": [
    "## Setting\n",
    " - Auto Reload\n",
    " - path for utils"
   ]
  },
  {
   "cell_type": "code",
   "execution_count": 1,
   "id": "e72acb41-2495-4835-8e8b-3e5bb5f703b4",
   "metadata": {
    "tags": []
   },
   "outputs": [],
   "source": [
    "%load_ext autoreload\n",
    "%autoreload 2"
   ]
  },
  {
   "cell_type": "code",
   "execution_count": 2,
   "id": "bd4c2205-9b56-4ac9-977d-e00a00daab38",
   "metadata": {
    "tags": []
   },
   "outputs": [],
   "source": [
    "import sys, os\n",
    "module_path = \"../../..\"\n",
    "sys.path.append(os.path.abspath(module_path))"
   ]
  },
  {
   "cell_type": "markdown",
   "id": "01670eb4-8f19-497d-837e-d9788e0a05f3",
   "metadata": {},
   "source": [
    "## 1. Bedrock Client 생성"
   ]
  },
  {
   "cell_type": "code",
   "execution_count": 3,
   "id": "1f9dcbdc-0667-4bff-afcf-0c4b5ace273b",
   "metadata": {
    "tags": []
   },
   "outputs": [],
   "source": [
    "import json\n",
    "import boto3\n",
    "from pprint import pprint\n",
    "from termcolor import colored\n",
    "from utils import bedrock, print_ww\n",
    "from utils.bedrock import bedrock_info"
   ]
  },
  {
   "cell_type": "markdown",
   "id": "259021cc-1d69-458e-879c-80076fc57c64",
   "metadata": {},
   "source": [
    "### ---- ⚠️ Un-comment and edit the below lines as needed for your AWS setup ⚠️ ----\n",
    "- os.environ[\"AWS_DEFAULT_REGION\"] = \"<REGION_NAME>\"  # E.g. \"us-east-1\"\n",
    "- os.environ[\"AWS_PROFILE\"] = \"<YOUR_PROFILE>\"\n",
    "- os.environ[\"BEDROCK_ASSUME_ROLE\"] = \"<YOUR_ROLE_ARN>\"  # E.g. \"arn:aws:...\"\n",
    "- os.environ[\"BEDROCK_ENDPOINT_URL\"] = \"<YOUR_ENDPOINT_URL>\"  # E.g. \"https://...\""
   ]
  },
  {
   "cell_type": "code",
   "execution_count": 4,
   "id": "9fde1bf1-d608-46ef-969e-40fe49b77ec5",
   "metadata": {
    "tags": []
   },
   "outputs": [
    {
     "name": "stdout",
     "output_type": "stream",
     "text": [
      "Create new client\n",
      "  Using region: None\n",
      "  Using profile: None\n",
      "boto3 Bedrock client successfully created!\n",
      "bedrock-runtime(https://bedrock-runtime.us-west-2.amazonaws.com)\n",
      "\u001b[32m\n",
      "== FM lists ==\u001b[0m\n",
      "{'Claude-Instant-V1': 'anthropic.claude-instant-v1',\n",
      " 'Claude-V1': 'anthropic.claude-v1',\n",
      " 'Claude-V2': 'anthropic.claude-v2',\n",
      " 'Claude-V2-1': 'anthropic.claude-v2:1',\n",
      " 'Claude-V3-Sonnet': 'anthropic.claude-3-sonnet-20240229-v1:0',\n",
      " 'Cohere-Embeddings-En': 'cohere.embed-english-v3',\n",
      " 'Cohere-Embeddings-Multilingual': 'cohere.embed-multilingual-v3',\n",
      " 'Command': 'cohere.command-text-v14',\n",
      " 'Command-Light': 'cohere.command-light-text-v14',\n",
      " 'Jurassic-2-Mid': 'ai21.j2-mid-v1',\n",
      " 'Jurassic-2-Ultra': 'ai21.j2-ultra-v1',\n",
      " 'Llama2-13b-Chat': 'meta.llama2-13b-chat-v1',\n",
      " 'Titan-Embeddings-G1': 'amazon.titan-embed-text-v1',\n",
      " 'Titan-Text-G1': 'amazon.titan-text-express-v1',\n",
      " 'Titan-Text-G1-Light': 'amazon.titan-text-lite-v1'}\n"
     ]
    }
   ],
   "source": [
    "boto3_bedrock = bedrock.get_bedrock_client(\n",
    "    assumed_role=os.environ.get(\"BEDROCK_ASSUME_ROLE\", None),\n",
    "    endpoint_url=os.environ.get(\"BEDROCK_ENDPOINT_URL\", None),\n",
    "    region=os.environ.get(\"AWS_DEFAULT_REGION\", None),\n",
    ")\n",
    "\n",
    "aws_region = os.environ.get(\"AWS_DEFAULT_REGION\", None)\n",
    "print (colored(\"\\n== FM lists ==\", \"green\"))\n",
    "pprint (bedrock_info.get_list_fm_models())"
   ]
  },
  {
   "cell_type": "markdown",
   "id": "100a9b99-f66d-4447-805d-c29ee9f88c4f",
   "metadata": {},
   "source": [
    "## 2. Titan Embedding 및 LLM 인 Claude-v2.1 모델 로딩"
   ]
  },
  {
   "cell_type": "markdown",
   "id": "c84c0aea-2d43-493a-9538-648e5a453220",
   "metadata": {},
   "source": [
    "### LLM 로딩 (Claude-v2.1)"
   ]
  },
  {
   "cell_type": "code",
   "execution_count": 5,
   "id": "32924f36-0b17-4792-b382-92867c566e50",
   "metadata": {
    "tags": []
   },
   "outputs": [],
   "source": [
    "from langchain.llms.bedrock import Bedrock\n",
    "from langchain.callbacks.streaming_stdout import StreamingStdOutCallbackHandler"
   ]
  },
  {
   "cell_type": "code",
   "execution_count": 6,
   "id": "6fc13fa9-0452-4fbe-b07b-a54f1833655d",
   "metadata": {
    "tags": []
   },
   "outputs": [],
   "source": [
    "llm_text = Bedrock(\n",
    "    model_id=bedrock_info.get_model_id(model_name=\"Claude-V2-1\"),\n",
    "    client=boto3_bedrock,\n",
    "    model_kwargs={\n",
    "        \"max_tokens_to_sample\": 512\n",
    "    },\n",
    "    streaming=False,\n",
    "    callbacks=[StreamingStdOutCallbackHandler()]\n",
    ")\n",
    "\n",
    "llm_text_light= Bedrock(\n",
    "    model_id=bedrock_info.get_model_id(model_name=\"Claude-Instant-V1\"),\n",
    "    client=boto3_bedrock,\n",
    "    model_kwargs={\n",
    "        \"max_tokens_to_sample\": 512\n",
    "    },\n",
    "    streaming=False,\n",
    "    callbacks=[StreamingStdOutCallbackHandler()]\n",
    ")"
   ]
  },
  {
   "cell_type": "markdown",
   "id": "0ac056c9-e2ad-496e-b38a-d739724202a4",
   "metadata": {},
   "source": [
    "### Embedding 모델 선택"
   ]
  },
  {
   "cell_type": "code",
   "execution_count": 7,
   "id": "061dcf18-4681-4f16-bfa3-c76d717f307f",
   "metadata": {
    "tags": []
   },
   "outputs": [
    {
     "name": "stderr",
     "output_type": "stream",
     "text": [
      "/home/ec2-user/anaconda3/envs/python3/lib/python3.10/site-packages/pandas/core/computation/expressions.py:21: UserWarning: Pandas requires version '2.8.0' or newer of 'numexpr' (version '2.7.3' currently installed).\n",
      "  from pandas.core.computation.check import NUMEXPR_INSTALLED\n"
     ]
    }
   ],
   "source": [
    "from utils.rag import KoSimCSERobertaContentHandler, SagemakerEndpointEmbeddingsJumpStart"
   ]
  },
  {
   "cell_type": "code",
   "execution_count": 8,
   "id": "d85536e9-3416-4f7a-96a4-c539a6a5596f",
   "metadata": {
    "tags": []
   },
   "outputs": [],
   "source": [
    "def get_embedding_model(is_bedrock_embeddings, is_KoSimCSERobert, aws_region, endpont_name=None):\n",
    "\n",
    "    if is_bedrock_embeddings:\n",
    "        # We will be using the Titan Embeddings Model to generate our Embeddings.\n",
    "        from langchain.embeddings import BedrockEmbeddings\n",
    "        llm_emb = BedrockEmbeddings(\n",
    "            client=boto3_bedrock,\n",
    "            model_id=bedrock_info.get_model_id(\n",
    "                model_name=\"Titan-Embeddings-G1\"\n",
    "                #model_name=\"Cohere-Embeddings-En\"\n",
    "            )\n",
    "        )\n",
    "        print(\"Bedrock Embeddings Model Loaded\")\n",
    "\n",
    "    elif is_KoSimCSERobert:\n",
    "        LLMEmbHandler = KoSimCSERobertaContentHandler()\n",
    "        endpoint_name_emb = endpont_name\n",
    "        llm_emb = SagemakerEndpointEmbeddingsJumpStart(\n",
    "            endpoint_name=endpoint_name_emb,\n",
    "            region_name=aws_region,\n",
    "            content_handler=LLMEmbHandler,\n",
    "        )\n",
    "        print(\"KoSimCSERobert Embeddings Model Loaded\")\n",
    "    else:\n",
    "        llm_emb = None\n",
    "        print(\"No Embedding Model Selected\")\n",
    "\n",
    "    return llm_emb"
   ]
  },
  {
   "cell_type": "markdown",
   "id": "83000f64-5855-45ee-b736-eb96e9ff0739",
   "metadata": {},
   "source": [
    "#### [중요] is_KoSimCSERobert == True 일시에 endpoint_name 을 꼭 넣어 주세요."
   ]
  },
  {
   "cell_type": "code",
   "execution_count": 9,
   "id": "dbbec6da-798a-419b-9e4e-b1cc417cfbfa",
   "metadata": {
    "tags": []
   },
   "outputs": [
    {
     "name": "stdout",
     "output_type": "stream",
     "text": [
      "Bedrock Embeddings Model Loaded\n"
     ]
    }
   ],
   "source": [
    "is_bedrock_embeddings = True\n",
    "is_KoSimCSERobert = False\n",
    "aws_region = os.environ.get(\"AWS_DEFAULT_REGION\", None)\n",
    "\n",
    "##############################\n",
    "# Parameters for is_KoSimCSERobert\n",
    "##############################\n",
    "if is_KoSimCSERobert: endpont_name = \"<endpoint-name>\"\n",
    "else: endpont_name = None\n",
    "##############################\n",
    "\n",
    "llm_emb = get_embedding_model(is_bedrock_embeddings, is_KoSimCSERobert, aws_region, endpont_name)   "
   ]
  },
  {
   "cell_type": "markdown",
   "id": "b69eff24-6ac7-4500-b5eb-9039fbe38c9f",
   "metadata": {},
   "source": [
    "## 3. Depoly ReRanker model (if needed)"
   ]
  },
  {
   "cell_type": "code",
   "execution_count": 10,
   "id": "f364b91e-b186-4920-aeca-857a34665a11",
   "metadata": {
    "tags": []
   },
   "outputs": [
    {
     "name": "stdout",
     "output_type": "stream",
     "text": [
      "sagemaker.config INFO - Not applying SDK defaults from location: /etc/xdg/sagemaker/config.yaml\n",
      "sagemaker.config INFO - Not applying SDK defaults from location: /home/ec2-user/.config/sagemaker/config.yaml\n"
     ]
    }
   ],
   "source": [
    "import json\n",
    "import sagemaker\n",
    "from sagemaker.huggingface import HuggingFaceModel"
   ]
  },
  {
   "cell_type": "code",
   "execution_count": 11,
   "id": "1d32b1f5-289b-4ba8-baa9-765501ef5b0e",
   "metadata": {
    "tags": []
   },
   "outputs": [],
   "source": [
    "depoly = False"
   ]
  },
  {
   "cell_type": "code",
   "execution_count": 12,
   "id": "9e73ea11-7dea-41b2-98fb-85de4e2851db",
   "metadata": {
    "tags": []
   },
   "outputs": [],
   "source": [
    "if depoly:\n",
    "\n",
    "    try:\n",
    "        role = sagemaker.get_execution_role()\n",
    "    except ValueError:\n",
    "        iam = boto3.client('iam')\n",
    "        role = iam.get_role(RoleName='sagemaker_execution_role')['Role']['Arn']\n",
    "\n",
    "    # Hub Model configuration. https://huggingface.co/models\n",
    "    hub = {\n",
    "        'HF_MODEL_ID':'BAAI/bge-reranker-large',\n",
    "        'HF_TASK':'text-classification'\n",
    "    }\n",
    "\n",
    "    # create Hugging Face Model Class\n",
    "    huggingface_model = HuggingFaceModel(\n",
    "        transformers_version='4.26.0',\n",
    "        pytorch_version='1.13.1',\n",
    "        py_version='py39',\n",
    "        env=hub,\n",
    "        role=role, \n",
    "    )\n",
    "\n",
    "    # deploy model to SageMaker Inference\n",
    "    predictor = huggingface_model.deploy(\n",
    "        initial_instance_count=1, # number of instances\n",
    "        instance_type='ml.g5.xlarge' # instance type\n",
    "    )\n",
    "\n",
    "    print(f'Accept: {predictor.accept}')\n",
    "    print(f'ContentType: {predictor.content_type}')\n",
    "    print(f'Endpoint: {predictor.endpoint}')"
   ]
  },
  {
   "cell_type": "markdown",
   "id": "a953ea43-3337-4300-8833-ec4b38840822",
   "metadata": {},
   "source": [
    "### Reranker"
   ]
  },
  {
   "cell_type": "code",
   "execution_count": 13,
   "id": "75168449-20a9-4e4d-a78d-bb2b0802d3f2",
   "metadata": {
    "tags": []
   },
   "outputs": [],
   "source": [
    "from utils.ssm import parameter_store"
   ]
  },
  {
   "cell_type": "code",
   "execution_count": 14,
   "id": "72a2141f-23ff-47b4-ba29-a1497929e374",
   "metadata": {
    "tags": []
   },
   "outputs": [],
   "source": [
    "region=boto3.Session().region_name\n",
    "pm = parameter_store(region)"
   ]
  },
  {
   "cell_type": "code",
   "execution_count": 15,
   "id": "f0f90b69-27bb-412b-ba0a-2e2d768e92a0",
   "metadata": {
    "tags": []
   },
   "outputs": [
    {
     "name": "stdout",
     "output_type": "stream",
     "text": [
      "endpoint_name = huggingface-pytorch-inference-2024-03-07-01-44-49-084\n"
     ]
    }
   ],
   "source": [
    "endpoint_name = pm.get_params(\n",
    "    key=\"reranker_endpoint\",\n",
    "    enc=False\n",
    ")\n",
    "print (f'endpoint_name = {endpoint_name}')"
   ]
  },
  {
   "cell_type": "code",
   "execution_count": 16,
   "id": "cd07db04-6140-4516-a279-bfc1a14cee7f",
   "metadata": {
    "tags": []
   },
   "outputs": [
    {
     "name": "stdout",
     "output_type": "stream",
     "text": [
      "runtime_client: <botocore.client.SageMakerRuntime object at 0x7f0fbf8a3280>\n"
     ]
    }
   ],
   "source": [
    "runtime_client = boto3.Session().client('sagemaker-runtime')\n",
    "print (f'runtime_client: {runtime_client}')"
   ]
  },
  {
   "cell_type": "markdown",
   "id": "a14dee0e-7a7d-48c3-94ff-90db1cf89daf",
   "metadata": {},
   "source": [
    "## 4. LangChainmOpenSearch VectorStore 정의\n",
    "### 선수 조건\n",
    "- 01_preprocess_docs/02_load_docs_opensearch.ipynb를 통해서 OpenSearch Index 가 생성이 되어 있어야 합니다.\n",
    "#### [중요] 아래에 aws parameter store 에 아래 인증정보가 먼저 입력되어 있어야 합니다.\n",
    "- 01_preprocess_docs/01_parameter_store_example.ipynb 참고"
   ]
  },
  {
   "cell_type": "code",
   "execution_count": 17,
   "id": "8b29f46c-154b-41fe-ab1a-d34af0a73b39",
   "metadata": {
    "tags": []
   },
   "outputs": [],
   "source": [
    "opensearch_domain_endpoint = pm.get_params(\n",
    "    key=\"opensearch_domain_endpoint\",\n",
    "    enc=False\n",
    ")\n",
    "\n",
    "opensearch_user_id = pm.get_params(\n",
    "    key=\"opensearch_user_id\",\n",
    "    enc=False\n",
    ")\n",
    "\n",
    "opensearch_user_password = pm.get_params(\n",
    "    key=\"opensearch_user_password\",\n",
    "    enc=True\n",
    ")"
   ]
  },
  {
   "cell_type": "code",
   "execution_count": 18,
   "id": "a5c52611-534c-459a-af69-41b03c806540",
   "metadata": {
    "tags": []
   },
   "outputs": [],
   "source": [
    "opensearch_domain_endpoint = opensearch_domain_endpoint\n",
    "rag_user_name = opensearch_user_id\n",
    "rag_user_password = opensearch_user_password\n",
    "\n",
    "http_auth = (rag_user_name, rag_user_password) # Master username, Master password"
   ]
  },
  {
   "cell_type": "markdown",
   "id": "354a0a15-e66c-4fd9-a555-13a15c80f327",
   "metadata": {},
   "source": [
    "### Index 이름 셋팅\n",
    "- 이전 노트북 01_preprocess_docs/02_load_docs_opensearch.ipynb를 통해서 생성된 OpenSearch Index name 입력"
   ]
  },
  {
   "cell_type": "code",
   "execution_count": 19,
   "id": "2bde847e-429f-47fa-87bf-36441a92c401",
   "metadata": {
    "tags": []
   },
   "outputs": [
    {
     "name": "stdout",
     "output_type": "stream",
     "text": [
      "index_name: v02-genai-poc-knox-eval-parent-doc-retriever\n"
     ]
    }
   ],
   "source": [
    "index_name = opensearch_user_password = pm.get_params(\n",
    "    key=\"opensearch_evaluation_index_name\",\n",
    "    enc=True\n",
    ")\n",
    "\n",
    "print (f'index_name: {index_name}')"
   ]
  },
  {
   "cell_type": "markdown",
   "id": "1b5ef81d-27b2-4d64-9e57-0324fc627a2c",
   "metadata": {},
   "source": [
    "### OpenSearch Client 생성"
   ]
  },
  {
   "cell_type": "code",
   "execution_count": 20,
   "id": "a81604ea-e7a0-4256-931e-849fca7be994",
   "metadata": {
    "tags": []
   },
   "outputs": [],
   "source": [
    "from utils.opensearch import opensearch_utils"
   ]
  },
  {
   "cell_type": "code",
   "execution_count": 21,
   "id": "b46578e5-6113-42d4-9e2c-e4446bb4cfca",
   "metadata": {
    "tags": []
   },
   "outputs": [],
   "source": [
    "os_client = opensearch_utils.create_aws_opensearch_client(\n",
    "    aws_region,\n",
    "    opensearch_domain_endpoint,\n",
    "    http_auth\n",
    ")"
   ]
  },
  {
   "cell_type": "markdown",
   "id": "d44452ad-1945-4a1a-a18a-fd1f899814bb",
   "metadata": {},
   "source": [
    "## 5. Retriever 정의"
   ]
  },
  {
   "cell_type": "code",
   "execution_count": 22,
   "id": "409937f9-e4f3-4f2f-90a8-9b13641d3700",
   "metadata": {
    "tags": []
   },
   "outputs": [],
   "source": [
    "from utils.rag import OpenSearchHybridSearchRetriever"
   ]
  },
  {
   "cell_type": "code",
   "execution_count": 23,
   "id": "c1606bcd-502c-461b-9458-5e400e97ed92",
   "metadata": {
    "tags": []
   },
   "outputs": [],
   "source": [
    "opensearch_hybrid_retriever = OpenSearchHybridSearchRetriever(\n",
    "    os_client=os_client,\n",
    "    index_name=index_name,\n",
    "    llm_text=llm_text, # used in rag_fusion, hyde and reranker(num_tokens)\n",
    "    llm_emb=llm_emb,\n",
    "\n",
    "    # option for lexical\n",
    "    minimum_should_match=0,\n",
    "    filter=[],\n",
    "\n",
    "    # option for rank fusion\n",
    "    fusion_algorithm=\"RRF\", # [\"RRF\", \"simple_weighted\"], rank fusion 방식 정의\n",
    "    ensemble_weights=[.51, .49], # [for semantic, for lexical], Semantic, Lexical search 결과에 대한 최종 반영 비율 정의\n",
    "    reranker=False, # enable reranker with reranker model\n",
    "    reranker_endpoint_name=endpoint_name, # endpoint name for reranking model\n",
    "    #rag_fusion=False, # enable rag_fusion\n",
    "    #query_augmentation_size=3, # query_augmentation_size in rag_fusion\n",
    "\n",
    "    # option for async search\n",
    "    async_mode=True,\n",
    "\n",
    "    # option for output\n",
    "    k=6, # 최종 Document 수 정의\n",
    "    verbose=False,\n",
    ")"
   ]
  },
  {
   "cell_type": "code",
   "execution_count": 24,
   "id": "7333a947-d0d0-41a6-8dcc-adb3d58c2e8e",
   "metadata": {
    "tags": []
   },
   "outputs": [
    {
     "data": {
      "text/plain": [
       "[Document(page_content='Knox E-FOTA 1.30 release notes. Release notes for Knox E-FOTA 1.30 For a full list of all features, visit the product page for Knox E-FOTA. Knox Suite features in Knox E-FOTA are now available Knox Suite is a bundled offering introduced this month that allows you to use the premium features of the following services: Knox E-FOTA, Knox Manage, Knox Mobile Enrollment, Knox Platform for Enterprise (through the Knox Service Plugin) You can access all included Knox services with a single Knox Suite license. The following features were added in Knox E-FOTA to support Knox Suite features: The License details popup and the Licenses table now show the remaining number of seats in your license. For a Knox Suite license key, this number is calculated based on the number of seats consumed from all Knox services that use this license. When a device is enrolled in multiple Knox services under the same license key, that device only consumes 1 license seat', metadata={'source': 'all_processed_data.json', 'seq_num': 67, 'title': 'Knox E-FOTA 1.30 release notes', 'url': 'https://docs.samsungknox.com/admin/efota-one/release-notes/20-04-22', 'project': 'EFOTA', 'last_updated': '2023-07-26', 'family_tree': 'child', 'parent_id': '7af89652-8460-4e02-9c2c-1009b5d9308e', 'id': '96682c40-892a-4a20-b2bd-e1c737cab24d'}),\n",
       " Document(page_content=\". Consolidated admin access ✔ Sign in to SamsungKnox.com once and gain access to all Knox Cloud Services (KCS) products you're subscribed to. Consistent user experience ✔ The Knox E-FOTA admin portal has a user interface that's consistent with other KCS products on SamsungKnox.com.\", metadata={'source': 'all_processed_data.json', 'seq_num': 2, 'title': 'Knox E-FOTA', 'url': 'https://docs.samsungknox.com/admin/efota-one', 'project': 'EFOTA', 'last_updated': '2023-07-26', 'family_tree': 'child', 'parent_id': '76e3567e-ae9b-4f16-9f32-f8dba623b9c8', 'id': '0ab6c08b-d93d-45fb-ba1b-9be51a9d888b'}),\n",
       " Document(page_content=\"Knox E-FOTA On-Premises. Knox E-FOTA On-Premises allows IT administrators to manage device firmware-over-the-air (FOTA) updates on their organization's network environment. With on-premises features that extend beyond its cloud counterpart, Knox E-FOTA On-Premises is a great FOTA management option for organizations that prioritize security and flexibility in their operations. Contact us Audience This document is intended for IT admins. Learn how to set up the Knox E-FOTA On-Premises web portal, manage firmware versions, and enroll devices. Try the solution This tutorial walks you through how to install the Knox E-FOTA On-Premises agent app, add a license, and add and enroll your devices. Start learning About Knox E-FOTA On-Premises This admin guide only discusses features unique to Knox E-FOTA On-Premises. For more information on general Knox E-FOTA features, see the Knox E-FOTA admin guide\", metadata={'source': 'all_processed_data.json', 'seq_num': 40, 'title': 'Knox E-FOTA On-Premises', 'url': 'https://docs.samsungknox.com/admin/efota-one/on-premises/introduction', 'project': 'EFOTA', 'last_updated': '2023-07-26', 'family_tree': 'child', 'parent_id': '4646650b-9802-4089-a52d-c44f8707ccc3', 'id': '6b05b320-16dd-458f-8581-fcff16c28c58'}),\n",
       " Document(page_content='Knox E-FOTA release notes. Knox E-FOTA 23.09 release notes Knox E-FOTA 23.06 release notes Knox E-FOTA 23.03 release notes Knox E-FOTA 22.11 release notes Knox E-FOTA 22.08 release notes Knox E-FOTA 22.05 release notes Knox E-FOTA 22.03 release notes Knox E-FOTA 22.01 release notes Knox E-FOTA 21.11 release notes Knox E-FOTA 1.40 release notes Knox E-FOTA 1.39 release notes Knox E-FOTA 1.38 release notes Knox E-FOTA 1.37 release notes Knox E-FOTA 1.36 release notes Knox E-FOTA 1.34 release notes Knox E-FOTA 1.32 release notes Knox E-FOTA 1.31 release notes Knox E-FOTA 1.30 release notes Knox E-FOTA 1.29 release notes Knox E-FOTA 1.28 release notes', metadata={'source': 'all_processed_data.json', 'seq_num': 86, 'title': 'Knox E-FOTA release notes', 'url': 'https://docs.samsungknox.com/admin/efota-one/release-notes', 'project': 'EFOTA', 'last_updated': '2023-08-23', 'family_tree': 'child', 'parent_id': '20784929-a8c2-41a5-b735-9e340e3800f6', 'id': '6d8b314a-c75c-444d-b457-884cc414331b'}),\n",
       " Document(page_content='Knox E-FOTA 1.29 release notes. Release notes for Knox E-FOTA 1.29 For a full list of all features, visit the product page for Knox E-FOTA. New features #Knox E-FOTA portal updates ##Pre-approved access to Knox E-FOTA Customers who have an activated Knox Configure or Knox Mobile Enrollment account are now pre-approved for access to Knox E-FOTA. That is, they do not need to apply for access to Knox E-FOTA; they can open the Knox E-FOTA portal by going to their SamsungKnox.com dashboard and clicking Launch on the Knox E-FOTA card. ##Closing the Knox E-FOTA client app The Knox E-FOTA client app can now be closed. In cases where the client app was recently used and the user closes all recent apps on the device, the error message Security policy restricts you from stopping this application no longer appears. When the client app is closed, it still communicates properly with the Knox E-FOTA server. For example, it still polls the server regularly and counts how many times an device user postpones an update', metadata={'source': 'all_processed_data.json', 'seq_num': 68, 'title': 'Knox E-FOTA 1.29 release notes', 'url': 'https://docs.samsungknox.com/admin/efota-one/release-notes/20-04', 'project': 'EFOTA', 'last_updated': '2023-07-26', 'family_tree': 'child', 'parent_id': '74736369-793c-41cb-858d-33ed282486c2', 'id': '77bb097a-ca38-439f-b30a-2ed329eee229'}),\n",
       " Document(page_content=\". 3. If you're also approved for access to Knox Manage, a Knox Suite trial license key is generated and injected into your Knox Manage and Knox E-FOTA accounts. 4. You will receive emails confirming that your application was approved. Scenario 2 - You are already registered in a Knox cloud service (Knox Mobile Enrollment, Knox E-FOTA, or Knox Configure) and you register for Knox Suite. 1. You will receive emails notifying you your application has been received. 2. You are automatically approved for access to Knox E-FOTA and Knox Mobile Enrollment. 3. If you're also approved for access to Knox Manage, a Knox Suite trial license key is generated and injected into your Knox Manage and Knox E-FOTA accounts. 4. You will receive emails confirming that your application was approved. Scenario 3 - You register for Knox Suite but are denied access to one of the Knox services 1. You will receive emails notifying you your application has been received. 2\", metadata={'source': 'all_processed_data.json', 'seq_num': 71, 'title': 'Knox E-FOTA 1.34 release notes', 'url': 'https://docs.samsungknox.com/admin/efota-one/release-notes/20-09', 'project': 'EFOTA', 'last_updated': '2023-07-26', 'family_tree': 'child', 'parent_id': '018ff998-a711-4717-9c5d-4f7b9a66fdab', 'id': 'fc2aa49e-36d2-45b0-b353-e178071f2bd4'})]"
      ]
     },
     "execution_count": 24,
     "metadata": {},
     "output_type": "execute_result"
    }
   ],
   "source": [
    "search_hybrid_result = opensearch_hybrid_retriever.get_relevant_documents(\"knox\")\n",
    "search_hybrid_result"
   ]
  },
  {
   "cell_type": "markdown",
   "id": "05c569db-1a1d-4bbf-a713-28cf6b745982",
   "metadata": {},
   "source": [
    "## 6. RAG chain 정의"
   ]
  },
  {
   "cell_type": "code",
   "execution_count": 25,
   "id": "da9df137-076d-4230-865e-4f9ed9651062",
   "metadata": {
    "tags": []
   },
   "outputs": [],
   "source": [
    "from langchain.chains import RetrievalQA\n",
    "from langchain.prompts import PromptTemplate"
   ]
  },
  {
   "cell_type": "markdown",
   "id": "b95251a1-6dd8-4794-86d9-65b855ed27cb",
   "metadata": {},
   "source": [
    "### Prompting\n",
    "- [TIP] Prompt의 instruction의 경우 한글보다 영어로 했을 때 더 좋은 결과를 얻을 수 있습니다."
   ]
  },
  {
   "cell_type": "code",
   "execution_count": 26,
   "id": "c1bcb686-d5de-4db4-84f9-60576a887331",
   "metadata": {
    "tags": []
   },
   "outputs": [],
   "source": [
    "from utils.rag import prompt_repo"
   ]
  },
  {
   "cell_type": "code",
   "execution_count": 27,
   "id": "cbd67c3d-e565-43cd-9e44-9e81febf4f10",
   "metadata": {
    "tags": []
   },
   "outputs": [],
   "source": [
    "PROMPT = prompt_repo.get_qa(prompt_type=\"answer_only\") # [\"answer_only\", \"answer_with_ref\", \"ko_answer_only\"]"
   ]
  },
  {
   "cell_type": "markdown",
   "id": "2a758bc7-87a1-44fb-9b36-e17e987b1513",
   "metadata": {},
   "source": [
    "### Update Search Params (Optional)"
   ]
  },
  {
   "cell_type": "code",
   "execution_count": 28,
   "id": "31c68b6f-1606-455d-bd37-c467cf240b7c",
   "metadata": {
    "tags": []
   },
   "outputs": [],
   "source": [
    "opensearch_hybrid_retriever.update_search_params(\n",
    "    k=6,\n",
    "    minimum_should_match=0,\n",
    "    filter=[],\n",
    "    reranker=True,\n",
    "    reranker_endpoint_name=endpoint_name,\n",
    "    rag_fusion=False, # enable rag_fusion\n",
    "    query_augmentation_size=3, # query_augmentation_size in rag_fusion\n",
    "    hyde=False, # enable hyde\n",
    "    hyde_query=[\"web_search\"], # query type in hyde \n",
    "    parent_document=True,\n",
    "    llm_text=llm_text, # used in rag_fusion, hyde and reranker(num_tokens)\n",
    "    verbose=False\n",
    ")"
   ]
  },
  {
   "cell_type": "code",
   "execution_count": 29,
   "id": "2b2256fe-9b42-4570-9c05-d395405a534b",
   "metadata": {
    "tags": []
   },
   "outputs": [],
   "source": [
    "qa_chain = RetrievalQA.from_chain_type(\n",
    "    llm=llm_text,\n",
    "    chain_type=\"stuff\",\n",
    "    retriever=opensearch_hybrid_retriever,\n",
    "    return_source_documents=True,\n",
    "    chain_type_kwargs={\n",
    "        \"prompt\": PROMPT,\n",
    "        \"verbose\": False,\n",
    "    },\n",
    "    verbose=False\n",
    ")"
   ]
  },
  {
   "cell_type": "code",
   "execution_count": 30,
   "id": "ae0b6569-7c98-49e3-a739-e7dd16d9942e",
   "metadata": {
    "tags": []
   },
   "outputs": [
    {
     "name": "stderr",
     "output_type": "stream",
     "text": [
      "/home/ec2-user/anaconda3/envs/python3/lib/python3.10/site-packages/langchain_core/_api/deprecation.py:117: LangChainDeprecationWarning: The function `__call__` was deprecated in LangChain 0.1.0 and will be removed in 0.2.0. Use invoke instead.\n",
      "  warn_deprecated(\n"
     ]
    },
    {
     "data": {
      "text/plain": [
       "{'query': 'What is a konx?',\n",
       " 'result': ' Since there is no mention of \"konx\" in the given context, there is no relevant information to answer the question about what a konx is.',\n",
       " 'source_documents': [Document(page_content=\"Knox E-FOTA 1.30 release notes. Release notes for Knox E-FOTA 1.30 For a full list of all features, visit the product page for Knox E-FOTA. Knox Suite features in Knox E-FOTA are now available Knox Suite is a bundled offering introduced this month that allows you to use the premium features of the following services: Knox E-FOTA, Knox Manage, Knox Mobile Enrollment, Knox Platform for Enterprise (through the Knox Service Plugin) You can access all included Knox services with a single Knox Suite license. The following features were added in Knox E-FOTA to support Knox Suite features: The License details popup and the Licenses table now show the remaining number of seats in your license. For a Knox Suite license key, this number is calculated based on the number of seats consumed from all Knox services that use this license. When a device is enrolled in multiple Knox services under the same license key, that device only consumes 1 license seat. For example: License 1 has 30 seats , Device A and B are enrolled in Knox Manage under License 1 , Device B and C are enrolled in Knox E-FOTA under License 1 In this case, you'll see the following resulting values in the License details popup and the Licenses table: Purchased: 30 , Assigned: 2 - Because only two devices are enrolled in Knox E-FOTA , Remaining: 27 - Because three seats were actually consumed across all Knox services. Tooltips were also added in the License details popup and the Licenses table to provide guidance on Knox Suite license usage. A user can now have up to two trial licenses in Knox E-FOTA - one for Knox Suite and one for Knox E-FOTA. For more information on Knox Suite operations, see the Knox Suite Admin Guide. Knox E-FOTA client installation through managed Google Play #Through Knox Service Plugin You can now use the Knox Service Plugin (KSP) to remotely install the Knox E-FOTA client on your enterprise devices. Your EMM must be configured to use KSP. For more information, see Install the client app through KSP. The Knox E-FOTA app is now available in managed Google Play. If your EMM supports the following functionality through managed Google play, you can use managed Google Play to approve the Knox E-FOTA app, push the app to your devices, and launch the app on those devices. App installation (DO), Remote app launch Customizable postpone policy #Enhancements in the admin portal In order to give device users control over firmware updates, an enhancement was made in the postpone policy of new campaigns. When creating a campaign or a test campaign, you can now specify a postpone duration - the length of time it will take before the next firmware update reminder appears. You can also set a timer; if the user fails to act on an update reminder before the timer times out, the update is automatically installed. Previously, the postpone duration was fixed to 30 minutes and the timer was fixed to 30 seconds. A legacy campaign (that is, a campaign created before this release) will continue to have this postpone policy. However, when you edit a legacy campaign, you are presented with the customizable postpone settings. The new value ranges of the postpone settings are as follows: Postpone duration - 1 to 24 hours, Auto-install timer - 5 to 60 minutes #Enhancements in the client app The device now shows the remaining time in the timer (in seconds) before the firmware update begins. This allows the user to react (if needed) to postpone update. If they click Later, they see how long (in hours) before they'll be reminded again. Syncing with Knox Manage A performance enhancement was made to speed up the time it takes to sync device groups between Knox E-FOTA and Knox Manage. Back to release notes\", metadata={'source': 'all_processed_data.json', 'seq_num': 67, 'title': 'Knox E-FOTA 1.30 release notes', 'url': 'https://docs.samsungknox.com/admin/efota-one/release-notes/20-04-22', 'project': 'EFOTA', 'last_updated': '2023-07-26', 'family_tree': 'parent', 'parent_id': None}),\n",
       "  Document(page_content=\"Knox E-FOTA 1.34 release notes. Release notes for Knox E-FOTA 1.34 For a full list of all features, visit the product page for Knox E-FOTA. Service improvements The following enhancements were made in the Knox E-FOTA service. #Support for One UI Core devices The Knox E-FOTA for One UI Core app is now available to support One UI Core devices. This app can be installed through the following: Out-of-box experience (OOBE) - This is applicable only to devices running Android P or later that were uploaded to Knox E-FOTA by a Knox reseller. Play Store or managed Google Play - If you have a mix of One UI and One UI Core devices, you can add both the Knox E-FOTA app and the Knox E-FOTA for One UI Core app to managed Google Play through your EMM console. Otherwise, you only need to add the proper app. Play Store or managed Google Play will install the appropriate app based on the type of device. That is: The Knox E-FOTA app will be installed on One UI devices. The Knox E-FOTA for One UI Core app will be installed on One UI Core devices. Samsung's content delivery network - Direct download URL. Knox Service Plugin (KSP) - This feature is available starting from KSP's R18 release. For a list of all devices running One UI Core, see Samsung devices with One UI Core UI Platform. Knox E-FOTA requires devices to run Android N or later. #Improved onboarding workflow for Knox Suite Knox Suite is a bundled offering that includes the following Knox services: Knox Platform for Enterprise, Knox Mobile Enrollment, Knox Manage, Knox E-FOTA An enterprise enrolled in Knox Suite can use all of these Knox services through a single license key. Previously, an IT admin that signed up for Knox Suite needed to be approved for each Knox service separately. In this release, the onboarding workflow for some of the Knox services was consolidated to expedite the approval process. This allows IT admins to get started immediately on using the Knox services. The following scenarios demonstrate three possible Knox Suite onboarding workflows: Scenario 1 - You are not registered in any Knox service and you register for Knox Suite. 1. You will receive emails notifying you your application has been received. 2. Knox E-FOTA and Knox Mobile Enrollment are always approved together. That is, if you're approved for access to one of these, you're automatically approved to use the other. 3. If you're also approved for access to Knox Manage, a Knox Suite trial license key is generated and injected into your Knox Manage and Knox E-FOTA accounts. 4. You will receive emails confirming that your application was approved. Scenario 2 - You are already registered in a Knox cloud service (Knox Mobile Enrollment, Knox E-FOTA, or Knox Configure) and you register for Knox Suite. 1. You will receive emails notifying you your application has been received. 2. You are automatically approved for access to Knox E-FOTA and Knox Mobile Enrollment. 3. If you're also approved for access to Knox Manage, a Knox Suite trial license key is generated and injected into your Knox Manage and Knox E-FOTA accounts. 4. You will receive emails confirming that your application was approved. Scenario 3 - You register for Knox Suite but are denied access to one of the Knox services 1. You will receive emails notifying you your application has been received. 2. You can still be approved for the other services that have not denied you access. Separate approval or rejection emails will be sent for the other services. 3. A Knox Suite trial license key is not generated. #Firmware notification emails Whenever a new firmware becomes available that is compatible to your registered devices, your Super Admins and Sub Admins, who have permission to manage the impacted devices, will receive an email notification\", metadata={'source': 'all_processed_data.json', 'seq_num': 71, 'title': 'Knox E-FOTA 1.34 release notes', 'url': 'https://docs.samsungknox.com/admin/efota-one/release-notes/20-09', 'project': 'EFOTA', 'last_updated': '2023-07-26', 'family_tree': 'parent', 'parent_id': None}),\n",
       "  Document(page_content=\"Before you begin. Describes how you can get started with Knox E-FOTA. This section describes how you can get started with Knox E-FOTA. Prerequisites 1. Create a Samsung account - To use Knox E-FOTA and other Samsung Knox cloud services, you need access to Samsung Knox, which requires a Samsung account. If you don't have a Samsung account, you must create one. 2. Apply for access to Knox E-FOTA. 3. Obtain test devices - You'll need test devices to test Knox E-FOTA. Knox E-FOTA works with Knox-supported devices with Android N and later. Out-of-box experience installation works with devices with Android P and later. 4. Sign in to E-FOTA using either a Samsung account or a corporate account set up through MS Azure Active Directory. See signing in using AD SSO. For US customers using Verizon or AT&T devices with the carrier logo, please check with your carrier and a Samsung sales representative before evaluating and purchasing Knox E-FOTA. Knox Admin Portal The Knox Admin Portal allows you to manage your Samsung Knox licenses, access various Knox cloud services, and create support tickets in case you encounter issues with a product. To get started with Samsung Knox, see how to set up Samsung Knox with a Samsung account. Tutorial Progress You've completed 1/5 steps! Go to the next step.\", metadata={'source': 'all_processed_data.json', 'seq_num': 35, 'title': 'Before you begin', 'url': 'https://docs.samsungknox.com/admin/efota-one/get-started/before-you-begin', 'project': 'EFOTA', 'last_updated': '2023-07-26', 'family_tree': 'parent', 'parent_id': None}),\n",
       "  Document(page_content='Introduction to campaigns. Introduces Knox E-FOTA campaigns. To apply a firmware update to devices, you must create a campaign and specify which firmware version will be pushed. You then assign devices to that campaign. When you activate the campaign, the firmware update is pushed to the assigned devices. Every 24 hours from the time the campaign is activated, the Knox E-FOTA client app on the assigned devices automatically polls the Knox E-FOTA server to check for any policy changes made to the campaign. Knox E-FOTA allows you to create two types of campaigns: Normal campaign - Allows you to assign production firmware to devices, Test campaign - Allows you to assign dummy firmware to devices This section describes how to create the different types of campaigns. For information on how a device behaves during a firmware update, see What happens to a device during a campaign?', metadata={'source': 'all_processed_data.json', 'seq_num': 31, 'title': 'Introduction to campaigns', 'url': 'https://docs.samsungknox.com/admin/efota-one/features/create-a-campaign/campaign-intro', 'project': 'EFOTA', 'last_updated': '2023-07-26', 'family_tree': 'parent', 'parent_id': None}),\n",
       "  Document(page_content=\". The client app (that is, the agent on the device) periodically checks the policy and applies any campaign updates that may not have been successfully applied to it. Device registration through Knox Deployment Program (KDP) ✔ Resellers can automatically upload your devices to Knox E-FOTA so that you don't have to add them yourself. You can auto-approve their uploads and auto-assign the devices to a default campaign. This feature is only available through KDP. Out-of-box installation of Knox E-FOTA client app ✔ For devices purchased through a reseller that have Android P or later, the client app is automatically installed during the out-of-box experience. Support for multiple licenses ✔ Add licenses as needed to support more devices, while keeping existing licenses active. Consolidated admin access ✔ Sign in to SamsungKnox.com once and gain access to all Knox Cloud Services (KCS) products you're subscribed to. Consistent user experience ✔ The Knox E-FOTA admin portal has a user interface that's consistent with other KCS products on SamsungKnox.com.\", metadata={'source': 'all_processed_data.json', 'seq_num': 2, 'title': 'Knox E-FOTA', 'url': 'https://docs.samsungknox.com/admin/efota-one', 'project': 'EFOTA', 'last_updated': '2023-07-26', 'family_tree': 'parent', 'parent_id': None}),\n",
       "  Document(page_content=\"Knox E-FOTA 1.38 release notes. Release notes for Knox E-FOTA 1.38 Privacy Policy UX improvement Now, new end users can see the improved Privacy Policy UX based on your country in order to comply with privacy regulations. Existing end users don't need to re-agree with the Privacy Policy. Web console and device app now show more device details The Knox E-FOTA web console > Devices screen has replaced the Device Status with more detailed information: Operation status: Describes the status of the device licensing and campaign sync. Campaign status: Describes the status of an assigned campaign. Client status: Describes the status of the Knox E-FOTA client app on the device. Update status: Describes the status of a firmware update, information that is now also included in the Device Update Status dashboard and Campaign Graph. Other related new features: For details about the new statuses, you can hover over the status to pop up a tooltip description in the Device Update Status dashboard. You can now see the total number of devices to be updated and the number that have completed their updates so far. The Knox E-FOTA app on the device now shows the Client status, which is synchronized with the web console. Previously, the web console and device showed different status information. Synchronize device groups from multiple EMM instances Previously, you could re-use device groups defined in a single EMM instance. Now, you can connect to up to five different EMM instances, which can be of the same EMM vendor (for example, multiple on-prem servers) or different EMM vendors. The Knox E-FOTA web console identifies the different EMM instances, which you can selectively synchronize groups with, desynchronize groups with, or remove entirely. Synchronize Organization type groups from Knox Manage As you might know, you can use device groups configured in your EMM to deploy Knox E-FOTA firmware updates by predefined groups. To learn more about this feature, see Managing EMM groups and Add device groups from Knox Manage. Previously, you could re-use only User, Device, and AD/LDAP based groups from Knox Manage. Now, you can also re-use Organization groups to enable Knox E-FOTA updates for all devices. Seamless integration with Managed Service Providers (MSPs) An MSP can use the Knox Managed Service Provider program to onboard multiple Knox customers, manage their Knox services, and deploy services onto their devices. Previously, MSPs could manage only the Knox Configure and Knox Mobile Enrollment services on behalf of customers. With this KCS 1.38 release, MSPs can now also manage Knox E-FOTA. Specifically, MSPs can: Onboard new Knox E-FOTA customers on the MSP portal. Migrate existing Knox E-FOTA customers to the MSP program. Upgrade existing MSP customers to include the Knox E-FOTA service. Manage Knox E-FOTA services on behalf of customers, including Knox E-FOTA Administrator functions. Check the customer status, which can be Pending (customer hasn't yet approved or rejected Knox E-FOTA management), Active (customer has consented), Rejected (customer has not consented). Give customers view access to the Knox E-FOTA console to monitor setup. Browse a log of MSP activities related to the Knox E-FOTA services. Delink Knox E-FOTA from a managed customer's Knox services. Subscribe to Knox E-FOTA emails. Both the MSP and managed customer can get emails about adding and migrating customers, changing customer access levels, and removing a customer service. SSO with Microsoft Azure Active Directory As you might know, the Knox cloud services support Single Sign On with MS Azure AD, in addition to sign on with a Samsung Account. Previously, only Knox Configure and Knox Mobile Enrollment supported AD SSO. With the KCS 1.38 release, Knox E-FOTA also supports AD SSO. For info about how to set up AD SSO, see Sign in with Azure AD. Back to release notes\", metadata={'source': 'all_processed_data.json', 'seq_num': 74, 'title': 'Knox E-FOTA 1.38 release notes', 'url': 'https://docs.samsungknox.com/admin/efota-one/release-notes/21-03', 'project': 'EFOTA', 'last_updated': '2023-07-26', 'family_tree': 'parent', 'parent_id': None})]}"
      ]
     },
     "execution_count": 30,
     "metadata": {},
     "output_type": "execute_result"
    }
   ],
   "source": [
    "query = \"What is a konx?\"\n",
    "qa_chain(query)"
   ]
  },
  {
   "cell_type": "markdown",
   "id": "fa285db7-31bf-4a82-816e-37abd5ed44af",
   "metadata": {
    "tags": []
   },
   "source": [
    "## 3.Evaluation\n",
    " - [langchain evaluator](https://python.langchain.com/docs/guides/evaluation/string/criteria_eval_chain)"
   ]
  },
  {
   "cell_type": "markdown",
   "id": "4d2fcc99-ab79-49b4-89a7-b51f3a62fc18",
   "metadata": {},
   "source": [
    "### Load ground truth"
   ]
  },
  {
   "cell_type": "code",
   "execution_count": 31,
   "id": "d3637807-9266-457e-b512-e697f951c405",
   "metadata": {
    "tags": []
   },
   "outputs": [],
   "source": [
    "import pandas as pd"
   ]
  },
  {
   "cell_type": "code",
   "execution_count": 32,
   "id": "d0403c51-23b5-4e3f-a2ec-7302d6711e4b",
   "metadata": {
    "tags": []
   },
   "outputs": [],
   "source": [
    "ground_thruth = pd.read_csv(\"eval_dataset.csv\")"
   ]
  },
  {
   "cell_type": "code",
   "execution_count": 33,
   "id": "d69c8224-e14a-472e-8d87-e86df081eed1",
   "metadata": {
    "tags": []
   },
   "outputs": [
    {
     "data": {
      "text/html": [
       "<div>\n",
       "<style scoped>\n",
       "    .dataframe tbody tr th:only-of-type {\n",
       "        vertical-align: middle;\n",
       "    }\n",
       "\n",
       "    .dataframe tbody tr th {\n",
       "        vertical-align: top;\n",
       "    }\n",
       "\n",
       "    .dataframe thead th {\n",
       "        text-align: right;\n",
       "    }\n",
       "</style>\n",
       "<table border=\"1\" class=\"dataframe\">\n",
       "  <thead>\n",
       "    <tr style=\"text-align: right;\">\n",
       "      <th></th>\n",
       "      <th>question</th>\n",
       "      <th>answer</th>\n",
       "      <th>doc_id</th>\n",
       "      <th>doc</th>\n",
       "    </tr>\n",
       "  </thead>\n",
       "  <tbody>\n",
       "    <tr>\n",
       "      <th>0</th>\n",
       "      <td>How does Knox E-FOTA enable enterprises to dep...</td>\n",
       "      <td>Knox E-FOTA enables enterprise IT admins to re...</td>\n",
       "      <td>77ae79eb-ebc4-456f-b73e-d2a59928a755</td>\n",
       "      <td>Knox E-FOTA. Knox E-FOTA enables enterprise IT...</td>\n",
       "    </tr>\n",
       "    <tr>\n",
       "      <th>1</th>\n",
       "      <td>What feature of Knox E-FOTA allows IT administ...</td>\n",
       "      <td>Forced updates simplify device management by d...</td>\n",
       "      <td>590f227c-b426-4128-b2af-6a0363418dfb</td>\n",
       "      <td>. Start tutorial About Knox E-FOTA Knox E-FOTA...</td>\n",
       "    </tr>\n",
       "    <tr>\n",
       "      <th>2</th>\n",
       "      <td>How does Knox E-FOTA allow IT admins to secure...</td>\n",
       "      <td>Unfortunately I could not find the answer to t...</td>\n",
       "      <td>52ef29a7-fc80-433a-92a1-88969b5e781d</td>\n",
       "      <td>. 3. Efficient rollout - Maintain productivity...</td>\n",
       "    </tr>\n",
       "    <tr>\n",
       "      <th>3</th>\n",
       "      <td>What are the three editions of Knox E-FOTA ser...</td>\n",
       "      <td>The three editions of Knox E-FOTA service that...</td>\n",
       "      <td>c6e91121-6335-4f02-86b0-dfcc90bd7625</td>\n",
       "      <td>. On Knox E-FOTA\"Advanced, this means you may ...</td>\n",
       "    </tr>\n",
       "    <tr>\n",
       "      <th>4</th>\n",
       "      <td>How do you obtain the Knox E-FOTA client APK t...</td>\n",
       "      <td>Go to Devices &gt; All Devices. Click Direct Down...</td>\n",
       "      <td>cc1f2c48-ed48-431f-9799-51b11f03c166</td>\n",
       "      <td>Install an app through an EMM. Explains how to...</td>\n",
       "    </tr>\n",
       "    <tr>\n",
       "      <th>5</th>\n",
       "      <td>What happens to the default campaign assignmen...</td>\n",
       "      <td>Could not find answer in given contexts.</td>\n",
       "      <td>d4321240-167e-467d-9c55-d9aab9641fdc</td>\n",
       "      <td>. When you assign a campaign to an EMM device ...</td>\n",
       "    </tr>\n",
       "    <tr>\n",
       "      <th>6</th>\n",
       "      <td>What is the maximum number of device groups yo...</td>\n",
       "      <td>According to the context, you can search and a...</td>\n",
       "      <td>3b7eea28-707d-4f38-a600-3d5fbecd3751</td>\n",
       "      <td>. Additionally, you can toggle on the Sync swi...</td>\n",
       "    </tr>\n",
       "    <tr>\n",
       "      <th>7</th>\n",
       "      <td>What feature allows you to manage the priority...</td>\n",
       "      <td>Based on the context, the feature that allows ...</td>\n",
       "      <td>49b0b628-2b0f-4d4b-9462-bbe95889a29f</td>\n",
       "      <td>. For example, device A is in both group1 and ...</td>\n",
       "    </tr>\n",
       "    <tr>\n",
       "      <th>8</th>\n",
       "      <td>Why does Device A retain its Assigned status a...</td>\n",
       "      <td>Device A retains its Assigned status after Gro...</td>\n",
       "      <td>2ee63b01-5ea7-411e-a8d7-3d7b5729ae11</td>\n",
       "      <td>. Device A, however, will retain its Assigned ...</td>\n",
       "    </tr>\n",
       "    <tr>\n",
       "      <th>9</th>\n",
       "      <td>What are the steps to assign an admin user to ...</td>\n",
       "      <td>Sign in to the Blackberry UEM. If the admin us...</td>\n",
       "      <td>01bd8ece-47c1-4227-8692-469168fcfe48</td>\n",
       "      <td>. 2. In Settings &gt; Blackberry Enterprise Ident...</td>\n",
       "    </tr>\n",
       "    <tr>\n",
       "      <th>10</th>\n",
       "      <td>What are the two main steps you need to perfor...</td>\n",
       "      <td>Based on the context provided, the two main st...</td>\n",
       "      <td>31258f4b-ed2c-44e4-97a2-478d89c4253e</td>\n",
       "      <td>Prerequisites for connecting to VMware. Descri...</td>\n",
       "    </tr>\n",
       "    <tr>\n",
       "      <th>11</th>\n",
       "      <td>What section of the Knox Admin Portal do you n...</td>\n",
       "      <td>Go to Devices &gt; All Devices.</td>\n",
       "      <td>1f3b43f3-c82a-4068-9b68-e5ed6cb4af5b</td>\n",
       "      <td>. Sign in to the Knox Admin Portal. In the lef...</td>\n",
       "    </tr>\n",
       "    <tr>\n",
       "      <th>12</th>\n",
       "      <td>How would you go about creating a new custom r...</td>\n",
       "      <td>Go to Administrators &amp; Roles &gt; Roles. Click Cr...</td>\n",
       "      <td>348e9dd9-95c1-4a63-a0b9-55117c4a1480</td>\n",
       "      <td>. Create a custom role You can create custom r...</td>\n",
       "    </tr>\n",
       "    <tr>\n",
       "      <th>13</th>\n",
       "      <td>What are the four possible categories of event...</td>\n",
       "      <td>Devices, Campaigns, Licenses, Resellers, EMM g...</td>\n",
       "      <td>4c818261-1eca-4112-8bdc-f5a6e83dd1b2</td>\n",
       "      <td>. Attention - These devices require you or the...</td>\n",
       "    </tr>\n",
       "    <tr>\n",
       "      <th>14</th>\n",
       "      <td>What details are shown in the Status view for ...</td>\n",
       "      <td>Could not find answer in given contexts.</td>\n",
       "      <td>5ec952a2-4d89-4ab2-b832-5d075af4701b</td>\n",
       "      <td>. The chart includes a device count for each O...</td>\n",
       "    </tr>\n",
       "  </tbody>\n",
       "</table>\n",
       "</div>"
      ],
      "text/plain": [
       "                                             question  \\\n",
       "0   How does Knox E-FOTA enable enterprises to dep...   \n",
       "1   What feature of Knox E-FOTA allows IT administ...   \n",
       "2   How does Knox E-FOTA allow IT admins to secure...   \n",
       "3   What are the three editions of Knox E-FOTA ser...   \n",
       "4   How do you obtain the Knox E-FOTA client APK t...   \n",
       "5   What happens to the default campaign assignmen...   \n",
       "6   What is the maximum number of device groups yo...   \n",
       "7   What feature allows you to manage the priority...   \n",
       "8   Why does Device A retain its Assigned status a...   \n",
       "9   What are the steps to assign an admin user to ...   \n",
       "10  What are the two main steps you need to perfor...   \n",
       "11  What section of the Knox Admin Portal do you n...   \n",
       "12  How would you go about creating a new custom r...   \n",
       "13  What are the four possible categories of event...   \n",
       "14  What details are shown in the Status view for ...   \n",
       "\n",
       "                                               answer  \\\n",
       "0   Knox E-FOTA enables enterprise IT admins to re...   \n",
       "1   Forced updates simplify device management by d...   \n",
       "2   Unfortunately I could not find the answer to t...   \n",
       "3   The three editions of Knox E-FOTA service that...   \n",
       "4   Go to Devices > All Devices. Click Direct Down...   \n",
       "5            Could not find answer in given contexts.   \n",
       "6   According to the context, you can search and a...   \n",
       "7   Based on the context, the feature that allows ...   \n",
       "8   Device A retains its Assigned status after Gro...   \n",
       "9   Sign in to the Blackberry UEM. If the admin us...   \n",
       "10  Based on the context provided, the two main st...   \n",
       "11                       Go to Devices > All Devices.   \n",
       "12  Go to Administrators & Roles > Roles. Click Cr...   \n",
       "13  Devices, Campaigns, Licenses, Resellers, EMM g...   \n",
       "14           Could not find answer in given contexts.   \n",
       "\n",
       "                                  doc_id  \\\n",
       "0   77ae79eb-ebc4-456f-b73e-d2a59928a755   \n",
       "1   590f227c-b426-4128-b2af-6a0363418dfb   \n",
       "2   52ef29a7-fc80-433a-92a1-88969b5e781d   \n",
       "3   c6e91121-6335-4f02-86b0-dfcc90bd7625   \n",
       "4   cc1f2c48-ed48-431f-9799-51b11f03c166   \n",
       "5   d4321240-167e-467d-9c55-d9aab9641fdc   \n",
       "6   3b7eea28-707d-4f38-a600-3d5fbecd3751   \n",
       "7   49b0b628-2b0f-4d4b-9462-bbe95889a29f   \n",
       "8   2ee63b01-5ea7-411e-a8d7-3d7b5729ae11   \n",
       "9   01bd8ece-47c1-4227-8692-469168fcfe48   \n",
       "10  31258f4b-ed2c-44e4-97a2-478d89c4253e   \n",
       "11  1f3b43f3-c82a-4068-9b68-e5ed6cb4af5b   \n",
       "12  348e9dd9-95c1-4a63-a0b9-55117c4a1480   \n",
       "13  4c818261-1eca-4112-8bdc-f5a6e83dd1b2   \n",
       "14  5ec952a2-4d89-4ab2-b832-5d075af4701b   \n",
       "\n",
       "                                                  doc  \n",
       "0   Knox E-FOTA. Knox E-FOTA enables enterprise IT...  \n",
       "1   . Start tutorial About Knox E-FOTA Knox E-FOTA...  \n",
       "2   . 3. Efficient rollout - Maintain productivity...  \n",
       "3   . On Knox E-FOTA\"Advanced, this means you may ...  \n",
       "4   Install an app through an EMM. Explains how to...  \n",
       "5   . When you assign a campaign to an EMM device ...  \n",
       "6   . Additionally, you can toggle on the Sync swi...  \n",
       "7   . For example, device A is in both group1 and ...  \n",
       "8   . Device A, however, will retain its Assigned ...  \n",
       "9   . 2. In Settings > Blackberry Enterprise Ident...  \n",
       "10  Prerequisites for connecting to VMware. Descri...  \n",
       "11  . Sign in to the Knox Admin Portal. In the lef...  \n",
       "12  . Create a custom role You can create custom r...  \n",
       "13  . Attention - These devices require you or the...  \n",
       "14  . The chart includes a device count for each O...  "
      ]
     },
     "execution_count": 33,
     "metadata": {},
     "output_type": "execute_result"
    }
   ],
   "source": [
    "ground_thruth"
   ]
  },
  {
   "cell_type": "code",
   "execution_count": 34,
   "id": "b96d03e0-cf64-4644-9578-3411883dfafa",
   "metadata": {
    "tags": []
   },
   "outputs": [],
   "source": [
    "import time\n",
    "import datetime\n",
    "from langchain.evaluation import Criteria\n",
    "from langchain.evaluation import EvaluatorType\n",
    "from langchain.evaluation import load_evaluator"
   ]
  },
  {
   "cell_type": "code",
   "execution_count": 35,
   "id": "7d97a338-040d-42ca-8b71-0e4c2251126c",
   "metadata": {
    "tags": []
   },
   "outputs": [
    {
     "data": {
      "text/plain": [
       "<Criteria.CORRECTNESS: 'correctness'>"
      ]
     },
     "execution_count": 35,
     "metadata": {},
     "output_type": "execute_result"
    }
   ],
   "source": [
    "Criteria.CORRECTNESS"
   ]
  },
  {
   "cell_type": "code",
   "execution_count": 36,
   "id": "bb3aab6f-ab32-4ea2-b1e7-43e7694f1849",
   "metadata": {
    "tags": []
   },
   "outputs": [
    {
     "data": {
      "text/plain": [
       "[<Criteria.CONCISENESS: 'conciseness'>,\n",
       " <Criteria.RELEVANCE: 'relevance'>,\n",
       " <Criteria.CORRECTNESS: 'correctness'>,\n",
       " <Criteria.COHERENCE: 'coherence'>,\n",
       " <Criteria.HARMFULNESS: 'harmfulness'>,\n",
       " <Criteria.MALICIOUSNESS: 'maliciousness'>,\n",
       " <Criteria.HELPFULNESS: 'helpfulness'>,\n",
       " <Criteria.CONTROVERSIALITY: 'controversiality'>,\n",
       " <Criteria.MISOGYNY: 'misogyny'>,\n",
       " <Criteria.CRIMINALITY: 'criminality'>,\n",
       " <Criteria.INSENSITIVITY: 'insensitivity'>,\n",
       " <Criteria.DEPTH: 'depth'>,\n",
       " <Criteria.CREATIVITY: 'creativity'>,\n",
       " <Criteria.DETAIL: 'detail'>]"
      ]
     },
     "execution_count": 36,
     "metadata": {},
     "output_type": "execute_result"
    }
   ],
   "source": [
    "list(Criteria)"
   ]
  },
  {
   "cell_type": "code",
   "execution_count": 37,
   "id": "8a680e82-980e-48d6-ae2d-e9e40535134e",
   "metadata": {
    "tags": []
   },
   "outputs": [],
   "source": [
    "langchain_evaluator = load_evaluator(\n",
    "    EvaluatorType.LABELED_CRITERIA,\n",
    "    llm=llm_text,\n",
    "    criteria=Criteria.CORRECTNESS\n",
    ")"
   ]
  },
  {
   "cell_type": "markdown",
   "id": "4d471116-d2e3-4411-979f-ba56f2ca2e7a",
   "metadata": {},
   "source": [
    "### Check prompt for evaluation"
   ]
  },
  {
   "cell_type": "code",
   "execution_count": 38,
   "id": "ab03e1d6-1209-4908-bf75-e7564a4590fa",
   "metadata": {
    "tags": []
   },
   "outputs": [
    {
     "name": "stdout",
     "output_type": "stream",
     "text": [
      "{'criteria': 'correctness: Is the submission correct, accurate, and factual?'}\n",
      "==\n",
      "You are assessing a submitted answer on a given task or input based on a set of criteria. Here is the data:\n",
      "[BEGIN DATA]\n",
      "***\n",
      "[Input]: {input}\n",
      "***\n",
      "[Submission]: {output}\n",
      "***\n",
      "[Criteria]: {criteria}\n",
      "***\n",
      "[Reference]: {reference}\n",
      "***\n",
      "[END DATA]\n",
      "Does the submission meet the Criteria? First, write out in a step by step manner your reasoning about each criterion to be sure that your conclusion is correct. Avoid simply stating the correct answers at the outset. Then print only the single character \"Y\" or \"N\" (without quotes or punctuation) on its own line corresponding to the correct answer of whether the submission meets all criteria. At the end, repeat just the letter again by itself on a new line.\n"
     ]
    }
   ],
   "source": [
    "print(langchain_evaluator.prompt.partial_variables)\n",
    "print(\"==\")\n",
    "print(langchain_evaluator.prompt.template)"
   ]
  },
  {
   "cell_type": "markdown",
   "id": "b6556817-b407-403a-9bf4-59df5bf7f5c5",
   "metadata": {},
   "source": [
    "## Modify evaluation prompt for calude"
   ]
  },
  {
   "cell_type": "code",
   "execution_count": 39,
   "id": "cc882ee3-5165-4f31-aafc-e2b9689878e0",
   "metadata": {},
   "outputs": [
    {
     "name": "stdout",
     "output_type": "stream",
     "text": [
      "{'criteria': 'correctness: Is the submission correct, accurate, and factual?'}\n",
      "==\n",
      "You are assessing a submitted answer on a given task or input based on a set of criteria. Here is the data:\n",
      "[BEGIN DATA]\n",
      "***\n",
      "[Input]: {input}\n",
      "***\n",
      "[Submission]: {output}\n",
      "***\n",
      "[Criteria]: {criteria}\n",
      "***\n",
      "[Reference]: {reference}\n",
      "***\n",
      "[END DATA]\n",
      "Does the submission meet the Criteria? First, write out in a step by step manner your reasoning about each criterion to be sure that your conclusion is correct. Avoid simply stating the correct answers at the outset. Then print only the single character \"Y\" or \"N\" (without quotes or punctuation) on its own line corresponding to the correct answer of whether the submission meets all criteria. At the end, repeat just the letter again by itself on a new line.\n"
     ]
    }
   ],
   "source": [
    "print(langchain_evaluator.prompt.partial_variables)\n",
    "print(\"==\")\n",
    "print(langchain_evaluator.prompt.template)"
   ]
  },
  {
   "cell_type": "code",
   "execution_count": 40,
   "id": "bc7f4c03-2af6-4c60-9546-7b12b4e129e1",
   "metadata": {
    "tags": []
   },
   "outputs": [],
   "source": [
    "langchain_evaluator.prompt.template = '''\n",
    "\\n\\nHuman: You are assessing a submitted answer on a given task or input based on a set of criteria. Here is the data:\n",
    "[BEGIN DATA]\n",
    "***\n",
    "[Input]: {input}\n",
    "***\n",
    "[Submission]: {output}\n",
    "***\n",
    "[Criteria]: {criteria}\n",
    "***\n",
    "[Reference]: {reference}\n",
    "***\n",
    "[END DATA]\n",
    "Does the submission meet the Criteria? First, write out in a step by step manner your reasoning about each criterion to be sure that your conclusion is correct. Avoid simply stating the correct answers at the outset. Then print only the single character \"Y\" or \"N\" (without quotes or punctuation) on its own line corresponding to the correct answer of whether the submission meets all criteria. At the end, repeat just the letter again by itself on a new line.\n",
    "\\n\\nAssistant:\n",
    "'''"
   ]
  },
  {
   "cell_type": "markdown",
   "id": "e1485d4c-2cf5-4306-85c5-400984a23cec",
   "metadata": {},
   "source": [
    "### [Optional] Custon evaluator"
   ]
  },
  {
   "cell_type": "code",
   "execution_count": 41,
   "id": "da0fc9fe-78a6-4c33-aa2a-94cc0a8fedde",
   "metadata": {
    "tags": []
   },
   "outputs": [],
   "source": [
    "from langchain.schema.output_parser import StrOutputParser"
   ]
  },
  {
   "cell_type": "code",
   "execution_count": 42,
   "id": "afde5b4d-511d-46a2-b637-510f464e30ca",
   "metadata": {
    "tags": []
   },
   "outputs": [],
   "source": [
    "EVAL_TEMPLATE = \"\"\"\n",
    "\\n\\nHuman: \n",
    "Your job is to rate the accuracy of a generated answer given a query and a reference answer.\n",
    "\n",
    "Here is query: <query>{query}</query>\n",
    "Here is generated answer: <generated_answer>{generated_answer}</generated_answer>\n",
    "Here is reference answer: <reference_answer>{reference_answer}</reference_answer>\n",
    "\n",
    "Then answer the quality of a generated answer as scores starting with \"Score:\".\n",
    "Your score has to be between 1 and 5.\n",
    "You must return your response in a line with only the score.\n",
    "Do not return answers in any other format.\n",
    "\n",
    "\\n\\nAssistant:\n",
    "\"\"\"\n",
    "\n",
    "prompt_template_eval = PromptTemplate(\n",
    "    template=EVAL_TEMPLATE, input_variables=[\"query\", \"generated_answer\", \"reference_answer\"]\n",
    ")\n",
    "\n",
    "question = \"What is the default mode of operation for Knox Capture?\"\n",
    "answer=\"Admin mode is the default mode of operation for Knox Capture. Therefore, a user cannot switch to Admin mode by activating a Knox Capture license, the app is exported in admin mode\"\n",
    "prediction = \"The default mode of operation for Knox Capture is Admin mode.\"\n",
    "\n",
    "\n",
    "custom_evaluator = prompt_template_eval | llm_text | StrOutputParser()\n"
   ]
  },
  {
   "cell_type": "code",
   "execution_count": 43,
   "id": "dc03ab59-0757-43e0-8a70-7c82edaa286e",
   "metadata": {
    "tags": []
   },
   "outputs": [
    {
     "data": {
      "text/html": [
       "<div>\n",
       "<style scoped>\n",
       "    .dataframe tbody tr th:only-of-type {\n",
       "        vertical-align: middle;\n",
       "    }\n",
       "\n",
       "    .dataframe tbody tr th {\n",
       "        vertical-align: top;\n",
       "    }\n",
       "\n",
       "    .dataframe thead th {\n",
       "        text-align: right;\n",
       "    }\n",
       "</style>\n",
       "<table border=\"1\" class=\"dataframe\">\n",
       "  <thead>\n",
       "    <tr style=\"text-align: right;\">\n",
       "      <th></th>\n",
       "      <th>question</th>\n",
       "      <th>answer</th>\n",
       "      <th>doc_id</th>\n",
       "      <th>doc</th>\n",
       "    </tr>\n",
       "  </thead>\n",
       "  <tbody>\n",
       "    <tr>\n",
       "      <th>0</th>\n",
       "      <td>How does Knox E-FOTA enable enterprises to dep...</td>\n",
       "      <td>Knox E-FOTA enables enterprise IT admins to re...</td>\n",
       "      <td>77ae79eb-ebc4-456f-b73e-d2a59928a755</td>\n",
       "      <td>Knox E-FOTA. Knox E-FOTA enables enterprise IT...</td>\n",
       "    </tr>\n",
       "    <tr>\n",
       "      <th>1</th>\n",
       "      <td>What feature of Knox E-FOTA allows IT administ...</td>\n",
       "      <td>Forced updates simplify device management by d...</td>\n",
       "      <td>590f227c-b426-4128-b2af-6a0363418dfb</td>\n",
       "      <td>. Start tutorial About Knox E-FOTA Knox E-FOTA...</td>\n",
       "    </tr>\n",
       "    <tr>\n",
       "      <th>2</th>\n",
       "      <td>How does Knox E-FOTA allow IT admins to secure...</td>\n",
       "      <td>Unfortunately I could not find the answer to t...</td>\n",
       "      <td>52ef29a7-fc80-433a-92a1-88969b5e781d</td>\n",
       "      <td>. 3. Efficient rollout - Maintain productivity...</td>\n",
       "    </tr>\n",
       "    <tr>\n",
       "      <th>3</th>\n",
       "      <td>What are the three editions of Knox E-FOTA ser...</td>\n",
       "      <td>The three editions of Knox E-FOTA service that...</td>\n",
       "      <td>c6e91121-6335-4f02-86b0-dfcc90bd7625</td>\n",
       "      <td>. On Knox E-FOTA\"Advanced, this means you may ...</td>\n",
       "    </tr>\n",
       "    <tr>\n",
       "      <th>4</th>\n",
       "      <td>How do you obtain the Knox E-FOTA client APK t...</td>\n",
       "      <td>Go to Devices &gt; All Devices. Click Direct Down...</td>\n",
       "      <td>cc1f2c48-ed48-431f-9799-51b11f03c166</td>\n",
       "      <td>Install an app through an EMM. Explains how to...</td>\n",
       "    </tr>\n",
       "  </tbody>\n",
       "</table>\n",
       "</div>"
      ],
      "text/plain": [
       "                                            question  \\\n",
       "0  How does Knox E-FOTA enable enterprises to dep...   \n",
       "1  What feature of Knox E-FOTA allows IT administ...   \n",
       "2  How does Knox E-FOTA allow IT admins to secure...   \n",
       "3  What are the three editions of Knox E-FOTA ser...   \n",
       "4  How do you obtain the Knox E-FOTA client APK t...   \n",
       "\n",
       "                                              answer  \\\n",
       "0  Knox E-FOTA enables enterprise IT admins to re...   \n",
       "1  Forced updates simplify device management by d...   \n",
       "2  Unfortunately I could not find the answer to t...   \n",
       "3  The three editions of Knox E-FOTA service that...   \n",
       "4  Go to Devices > All Devices. Click Direct Down...   \n",
       "\n",
       "                                 doc_id  \\\n",
       "0  77ae79eb-ebc4-456f-b73e-d2a59928a755   \n",
       "1  590f227c-b426-4128-b2af-6a0363418dfb   \n",
       "2  52ef29a7-fc80-433a-92a1-88969b5e781d   \n",
       "3  c6e91121-6335-4f02-86b0-dfcc90bd7625   \n",
       "4  cc1f2c48-ed48-431f-9799-51b11f03c166   \n",
       "\n",
       "                                                 doc  \n",
       "0  Knox E-FOTA. Knox E-FOTA enables enterprise IT...  \n",
       "1  . Start tutorial About Knox E-FOTA Knox E-FOTA...  \n",
       "2  . 3. Efficient rollout - Maintain productivity...  \n",
       "3  . On Knox E-FOTA\"Advanced, this means you may ...  \n",
       "4  Install an app through an EMM. Explains how to...  "
      ]
     },
     "execution_count": 43,
     "metadata": {},
     "output_type": "execute_result"
    }
   ],
   "source": [
    "ground_thruth.head()"
   ]
  },
  {
   "cell_type": "code",
   "execution_count": 44,
   "id": "86542331-d9eb-4e90-8de0-4ed770f84b62",
   "metadata": {
    "tags": []
   },
   "outputs": [
    {
     "name": "stdout",
     "output_type": "stream",
     "text": [
      "0\n",
      "\u001b[31mQuestion: \u001b[0m \u001b[31mHow does Knox E-FOTA enable enterprises to deploy OS updates remotely without requiring user interaction?\u001b[0m\n",
      "\u001b[32mGroundTruth: \u001b[0m \u001b[32mKnox E-FOTA enables enterprise IT admins to remotely deploy OS versions and security updates to corporate devices without requiring user interaction. \n",
      "\n",
      "Admins can test updates before deployment to verify compatibility between in-house apps and new OS versions.\u001b[0m\n",
      "\u001b[34mPrediction: \u001b[0m \u001b[34m Knox E-FOTA enables enterprises to deploy OS updates remotely without requiring user interaction through the following features:\n",
      "\n",
      "- Forced updates: Simplifies device management by allowing admins to deploy forced, silent updates that get installed on devices without requiring any user interaction. Users can't postpone or reject the updates.\n",
      "\n",
      "- Scheduled updates: Allows admins to schedule firmware updates during non-business hours to avoid disruptions. Updates get installed on devices automatically per the schedule without needing any user input.\n",
      "\n",
      "So in summary, Knox E-FOTA allows admins to schedule silent, forced updates that automatically get installed on devices on a defined schedule. This removes the need for any manual user interaction during the update process.\u001b[0m\n",
      "ReRanker similarity: 0.9999494552612305\n",
      "Langchain correctness: 1\n",
      "Custom correctness: 0\n",
      "has_right_context: 1\n",
      "true_context_rank: 1/3\n",
      "mrr: 1.000\n",
      "latency: 0:00:07.512412 secs\n",
      "prediction length: 777\n",
      "err 1\n",
      "err 2\n",
      "err 3\n",
      "err 4\n",
      "err 5\n",
      "err 6\n",
      "err 7\n",
      "err 8\n",
      "err 9\n",
      "err 10\n",
      "err 11\n",
      "err 12\n",
      "err 13\n",
      "err 14\n",
      "CPU times: user 1.1 s, sys: 12.4 ms, total: 1.11 s\n",
      "Wall time: 38.5 s\n"
     ]
    }
   ],
   "source": [
    "%%time\n",
    "evaluation = []\n",
    "parent_document_index = True\n",
    "for idx, row in enumerate(ground_thruth.itertuples()):\n",
    "    try:\n",
    "        question, answer, doc, doc_id = getattr(row, \"question\"), getattr(row, \"answer\"), getattr(row, \"doc\"), getattr(row, \"doc_id\")\n",
    "\n",
    "        start = time.time()\n",
    "        response = qa_chain(question)\n",
    "        elapsed = time.time() - start\n",
    "\n",
    "        prediction = response[\"result\"]\n",
    "        retrieved_docs = {doc.page_content: idx+1 for idx, doc in enumerate(response[\"source_documents\"])}\n",
    "        contexts = \"\\n\\n\".join(retrieved_docs.keys())\n",
    "\n",
    "        payload = json.dumps(\n",
    "            {\n",
    "                \"inputs\": [\n",
    "                    {\"text\": answer, \"text_pair\": prediction},\n",
    "                ]\n",
    "            }\n",
    "        )\n",
    "\n",
    "        response = runtime_client.invoke_endpoint(\n",
    "            EndpointName=endpoint_name,\n",
    "            ContentType=\"application/json\",\n",
    "            Accept=\"application/json\",\n",
    "            Body=payload\n",
    "        )\n",
    "        out = json.loads(response['Body'].read().decode()) ## for json\n",
    "\n",
    "        eval_result_langchain = langchain_evaluator.evaluate_strings(\n",
    "            input=question,\n",
    "            prediction=prediction,\n",
    "            reference=answer,\n",
    "        )\n",
    "        # eval_result_custom = custom_evaluator.invoke(\n",
    "        #     {\n",
    "        #         \"query\": question,\n",
    "        #         \"generated_answer\": prediction,\n",
    "        #         \"reference_answer\": answer\n",
    "        #     }\n",
    "        # )\n",
    "        \n",
    "        reranker_sim = out[0][\"score\"]\n",
    "        langchain_correctness = eval_result_langchain[\"score\"]\n",
    "        #custom_correctness = int(eval_result_custom.split(\"\\n\")[0].strip().split(\"Score: \")[1])\n",
    "        custom_correctness = 0\n",
    "        \n",
    "        if not parent_document_index:\n",
    "            if doc in retrieved_docs:\n",
    "                true_context_rank = retrieved_docs[doc]\n",
    "                has_right_context = 1\n",
    "                mrr = 1/true_context_rank\n",
    "            else:\n",
    "                true_context_rank = has_right_context = 0\n",
    "                mrr = 0\n",
    "        else:\n",
    "            for retrieved_doc in retrieved_docs:\n",
    "                \n",
    "                if doc in retrieved_doc:\n",
    "                    true_context_rank = retrieved_docs[retrieved_doc]\n",
    "                    has_right_context = 1\n",
    "                    mrr = 1/true_context_rank\n",
    "                    break\n",
    "                else:\n",
    "                    true_context_rank = has_right_context = 0\n",
    "                    mrr = 0\n",
    "\n",
    "        total_contexts = len(retrieved_docs)\n",
    "        latency = datetime.timedelta(seconds=elapsed)\n",
    "\n",
    "        print(idx)\n",
    "        print(colored(\"Question: \", \"red\"), colored(question, \"red\"))\n",
    "        print(colored(\"GroundTruth: \", \"green\"), colored(answer, \"green\"))\n",
    "        print(colored(\"Prediction: \", \"blue\"), colored(prediction, \"blue\"))\n",
    "        print(f'ReRanker similarity: {reranker_sim}')\n",
    "        print(f'Langchain correctness: {langchain_correctness}')\n",
    "        print(f'Custom correctness: {custom_correctness}')\n",
    "        print(f'has_right_context: {has_right_context}')\n",
    "        print(f'true_context_rank: {true_context_rank}/{total_contexts}')\n",
    "        print(f'mrr: {mrr:.3f}')\n",
    "        print(f'latency: {latency} secs')\n",
    "        print(f'prediction length: {len(prediction)}')\n",
    "\n",
    "        evaluation.append([question, answer, prediction, \\\n",
    "                           has_right_context, true_context_rank, total_contexts, mrr, \\\n",
    "                           reranker_sim, langchain_correctness, custom_correctness, elapsed, contexts, len(prediction)])\n",
    "    except:\n",
    "        print (\"err\", idx)\n",
    "\n",
    "eval_results = pd.DataFrame(\n",
    "    evaluation,\n",
    "    columns=[\"question\", \"true_answer\", \"prediction\", \\\n",
    "             \"has_right_context\", \"true_context_rank\", \"total_contexts\", \"mrr\", \\\n",
    "             \"reranker_sim\", \"langchain_correctness\", \"custom_correctness\", \"latency\", \"contexts\", \"pred_length\"]\n",
    ")\n",
    "eval_results.to_csv(\"eval_results.csv\", index=False)\n",
    "#eval_results.to_pickle(\"eval_results.pkl\")"
   ]
  },
  {
   "cell_type": "code",
   "execution_count": null,
   "id": "d7b94778-0a1e-4186-88dc-f920ada8ee60",
   "metadata": {},
   "outputs": [],
   "source": []
  },
  {
   "cell_type": "code",
   "execution_count": null,
   "id": "b281859c-d511-476a-b560-7c1ed4c345f4",
   "metadata": {},
   "outputs": [],
   "source": []
  }
 ],
 "metadata": {
  "kernelspec": {
   "display_name": "conda_python3",
   "language": "python",
   "name": "conda_python3"
  },
  "language_info": {
   "codemirror_mode": {
    "name": "ipython",
    "version": 3
   },
   "file_extension": ".py",
   "mimetype": "text/x-python",
   "name": "python",
   "nbconvert_exporter": "python",
   "pygments_lexer": "ipython3",
   "version": "3.10.13"
  },
  "vscode": {
   "interpreter": {
    "hash": "4b8e647a79df62bf31906a725b05de775d285962ac600487339d38c51a5c07b1"
   }
  }
 },
 "nbformat": 4,
 "nbformat_minor": 5
}
