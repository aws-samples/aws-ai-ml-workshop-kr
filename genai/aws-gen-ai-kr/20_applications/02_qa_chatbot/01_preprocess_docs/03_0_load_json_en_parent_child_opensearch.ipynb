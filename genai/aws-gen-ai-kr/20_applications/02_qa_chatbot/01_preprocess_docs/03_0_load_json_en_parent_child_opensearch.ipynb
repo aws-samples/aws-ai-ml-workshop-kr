{
 "cells": [
  {
   "cell_type": "markdown",
   "metadata": {
    "tags": []
   },
   "source": [
    "# Parent-Child Chunk 를 OpenSearch 에 저장\n",
    "\n",
    "---\n",
    "\n",
    "---"
   ]
  },
  {
   "cell_type": "markdown",
   "metadata": {
    "tags": []
   },
   "source": [
    "# 1. Bedrock Client 생성"
   ]
  },
  {
   "cell_type": "code",
   "execution_count": 2,
   "metadata": {
    "tags": []
   },
   "outputs": [
    {
     "name": "stdout",
     "output_type": "stream",
     "text": [
      "langchain                                0.0.338\n",
      "opensearch-py                            2.3.2\n",
      "pypdf                                    3.17.1\n"
     ]
    }
   ],
   "source": [
    "! pip list | grep langchain # 0.0.312\n",
    "! pip list | grep opensearch # 2.3.2\n",
    "! pip list | grep pypdf"
   ]
  },
  {
   "cell_type": "code",
   "execution_count": 3,
   "metadata": {
    "tags": []
   },
   "outputs": [
    {
     "name": "stdout",
     "output_type": "stream",
     "text": [
      "/root/aws-ai-ml-workshop-kr/genai/aws-gen-ai-kr/20_applications/02_qa_chatbot/01_preprocess_docs/utils\n"
     ]
    }
   ],
   "source": [
    "%load_ext autoreload\n",
    "%autoreload 2\n",
    "\n",
    "import sys, os\n",
    "# module_path = \"../../../utils\"\n",
    "# sys.path.append(os.path.abspath(module_path))\n",
    "# print(os.path.abspath(module_path))\n",
    "\n",
    "module_path = \"./utils\"\n",
    "sys.path.append(os.path.abspath(module_path))\n",
    "print(os.path.abspath(module_path))"
   ]
  },
  {
   "cell_type": "code",
   "execution_count": 4,
   "metadata": {
    "tags": []
   },
   "outputs": [
    {
     "name": "stdout",
     "output_type": "stream",
     "text": [
      "Create new client\n",
      "  Using region: us-east-1\n",
      "  Using profile: None\n",
      "boto3 Bedrock client successfully created!\n",
      "bedrock-runtime(https://bedrock-runtime.us-east-1.amazonaws.com)\n",
      "\n",
      "== FM lists ==\n",
      "{'Claude-Instant-V1': 'anthropic.claude-instant-v1',\n",
      " 'Claude-V1': 'anthropic.claude-v1',\n",
      " 'Claude-V2': 'anthropic.claude-v2',\n",
      " 'Command': 'cohere.command-text-v14',\n",
      " 'Jurassic-2-Mid': 'ai21.j2-mid-v1',\n",
      " 'Jurassic-2-Ultra': 'ai21.j2-ultra-v1',\n",
      " 'Llama2-13b-Chat': 'meta.llama2-13b-chat-v1',\n",
      " 'Titan-Embeddings-G1': 'amazon.titan-embed-text-v1',\n",
      " 'Titan-Text-G1': 'TBD'}\n"
     ]
    }
   ],
   "source": [
    "import json\n",
    "import boto3\n",
    "from pprint import pprint\n",
    "from termcolor import colored\n",
    "from utils import bedrock, print_ww\n",
    "from utils.bedrock import bedrock_info\n",
    "\n",
    "# ---- ⚠️ Un-comment and edit the below lines as needed for your AWS setup ⚠️ ----\n",
    "\n",
    "# os.environ[\"AWS_DEFAULT_REGION\"] = \"<REGION_NAME>\"  # E.g. \"us-east-1\"\n",
    "# os.environ[\"AWS_PROFILE\"] = \"<YOUR_PROFILE>\"\n",
    "# os.environ[\"BEDROCK_ASSUME_ROLE\"] = \"<YOUR_ROLE_ARN>\"  # E.g. \"arn:aws:...\"\n",
    "# os.environ[\"BEDROCK_ENDPOINT_URL\"] = \"<YOUR_ENDPOINT_URL>\"  # E.g. \"https://...\"\n",
    "\n",
    "\n",
    "boto3_bedrock = bedrock.get_bedrock_client(\n",
    "    assumed_role=os.environ.get(\"BEDROCK_ASSUME_ROLE\", None),\n",
    "    endpoint_url=os.environ.get(\"BEDROCK_ENDPOINT_URL\", None),\n",
    "    region=os.environ.get(\"AWS_DEFAULT_REGION\", None),\n",
    ")\n",
    "\n",
    "print(colored(\"\\n== FM lists ==\", \"green\"))\n",
    "pprint(bedrock_info.get_list_fm_models())"
   ]
  },
  {
   "cell_type": "markdown",
   "metadata": {},
   "source": [
    "# 2. Embedding 모델 로딩"
   ]
  },
  {
   "cell_type": "markdown",
   "metadata": {},
   "source": [
    "## Embedding Model 선택"
   ]
  },
  {
   "cell_type": "code",
   "execution_count": 5,
   "metadata": {
    "tags": []
   },
   "outputs": [],
   "source": [
    "Use_Titan_Embedding = True\n",
    "Use_Cohere_English_Embedding = False"
   ]
  },
  {
   "cell_type": "markdown",
   "metadata": {},
   "source": [
    "## Embedding Model 로딩"
   ]
  },
  {
   "cell_type": "code",
   "execution_count": 6,
   "metadata": {
    "tags": []
   },
   "outputs": [
    {
     "data": {
      "text/plain": [
       "BedrockEmbeddings(client=<botocore.client.BedrockRuntime object at 0x7ff19ba8d570>, region_name=None, credentials_profile_name=None, model_id='amazon.titan-embed-text-v1', model_kwargs=None, endpoint_url=None)"
      ]
     },
     "execution_count": 6,
     "metadata": {},
     "output_type": "execute_result"
    }
   ],
   "source": [
    "# We will be using the Titan Embeddings Model to generate our Embeddings.\n",
    "from langchain.embeddings import BedrockEmbeddings\n",
    "from langchain.llms.bedrock import Bedrock\n",
    "\n",
    "if Use_Titan_Embedding:\n",
    "    llm_emb = BedrockEmbeddings(client=boto3_bedrock, model_id = \"amazon.titan-embed-text-v1\")\n",
    "    dimension = 1536\n",
    "elif Use_Cohere_English_Embedding:\n",
    "    llm_emb = BedrockEmbeddings(client=boto3_bedrock, model_id = \"cohere.embed-english-v3\")    \n",
    "    dimension = 1024\n",
    "else:\n",
    "    lim_emb = None\n",
    "\n",
    "llm_emb"
   ]
  },
  {
   "cell_type": "markdown",
   "metadata": {
    "tags": []
   },
   "source": [
    "# 3. Load all Json files"
   ]
  },
  {
   "cell_type": "code",
   "execution_count": 7,
   "metadata": {
    "tags": []
   },
   "outputs": [],
   "source": [
    "from utils.proc_docs import get_load_json, show_doc_json"
   ]
  },
  {
   "cell_type": "code",
   "execution_count": 8,
   "metadata": {
    "tags": []
   },
   "outputs": [
    {
     "name": "stdout",
     "output_type": "stream",
     "text": [
      "all json files:  1\n",
      "all items:  1732\n"
     ]
    }
   ],
   "source": [
    "import glob\n",
    "\n",
    "# Specify the directory and file pattern for .txt files\n",
    "folder_path = 'data/poc/preprocessed_json/all_processed_data.json'\n",
    "\n",
    "# List all .txt files in the specified folder\n",
    "json_files = glob.glob(folder_path)\n",
    "# json_files = ['data/poc/customer_EFOTA.json']\n",
    "\n",
    "# Load each item per json file and append to a list\n",
    "doc_json_list = []\n",
    "for file_path in json_files:\n",
    "    doc_json = get_load_json(file_path)\n",
    "    doc_json_list.append(doc_json)\n",
    "\n",
    "print(\"all json files: \", len(doc_json_list))    \n",
    "# Flatten the list of lists into a single list\n",
    "all_docs = []\n",
    "for item in doc_json_list:\n",
    "        all_docs.extend(item)\n",
    "        \n",
    "print(\"all items: \", len(all_docs))"
   ]
  },
  {
   "cell_type": "markdown",
   "metadata": {
    "tags": []
   },
   "source": [
    "# 4. Index 생성"
   ]
  },
  {
   "cell_type": "markdown",
   "metadata": {
    "tags": []
   },
   "source": [
    "## Index 이름 결정"
   ]
  },
  {
   "cell_type": "code",
   "execution_count": 9,
   "metadata": {
    "tags": []
   },
   "outputs": [],
   "source": [
    "index_name = \"v15-genai-poc-knox-parent-doc-retriever\""
   ]
  },
  {
   "cell_type": "markdown",
   "metadata": {
    "tags": []
   },
   "source": [
    "## Index 스키마 정의"
   ]
  },
  {
   "cell_type": "code",
   "execution_count": 10,
   "metadata": {
    "tags": []
   },
   "outputs": [],
   "source": [
    "index_body = {\n",
    "    'settings': {\n",
    "        'index': {\n",
    "            'knn': True,\n",
    "            'knn.space_type': 'cosinesimil'  # Example space type\n",
    "        }\n",
    "    },\n",
    "    'mappings': {\n",
    "        'properties': {\n",
    "            'metadata': {\n",
    "                'properties': {\n",
    "                               'source' : {'type': 'keyword'},\n",
    "                               'family_tree' : {'type': 'keyword'},                                        \n",
    "                               'parent_id' : {'type': 'keyword'},                    \n",
    "                               'last_updated': {'type': 'date'},\n",
    "                               'project': {'type': 'keyword'},\n",
    "                               'seq_num': {'type': 'long'},\n",
    "                               'title': {'type': 'text'},  # For full-text search\n",
    "                               'url': {'type': 'text'},  # For full-text search\n",
    "                            }\n",
    "            },            \n",
    "            'text': {\n",
    "                'type': 'text'\n",
    "            },\n",
    "            'vector_field': {\n",
    "                'type': 'knn_vector',\n",
    "                'dimension': f\"{dimension}\"  # Replace with your vector dimension\n",
    "            }\n",
    "        }\n",
    "    }\n",
    "}\n"
   ]
  },
  {
   "cell_type": "markdown",
   "metadata": {
    "tags": []
   },
   "source": [
    "# 5. LangChain OpenSearch VectorStore 생성 \n",
    "## 선수 조건\n"
   ]
  },
  {
   "cell_type": "markdown",
   "metadata": {
    "tags": []
   },
   "source": [
    "## 오픈 서치 도메인 및 인증 정보 세팅\n",
    "\n",
    "- [langchain.vectorstores.opensearch_vector_search.OpenSearchVectorSearch](https://api.python.langchain.com/en/latest/vectorstores/langchain.vectorstores.opensearch_vector_search.OpenSearchVectorSearch.html)"
   ]
  },
  {
   "cell_type": "markdown",
   "metadata": {},
   "source": [
    "#### [중요] 아래에 aws parameter store 에 아래 인증정보가 먼저 입력되어 있어야 합니다."
   ]
  },
  {
   "cell_type": "code",
   "execution_count": 11,
   "metadata": {
    "tags": []
   },
   "outputs": [],
   "source": [
    "from utils.proc_docs import get_parameter"
   ]
  },
  {
   "cell_type": "code",
   "execution_count": 12,
   "metadata": {
    "tags": []
   },
   "outputs": [],
   "source": [
    "import boto3\n",
    "ssm = boto3.client('ssm', 'us-east-1')\n",
    "\n",
    "opensearch_domain_endpoint = get_parameter(\n",
    "    boto3_client = ssm,\n",
    "    parameter_name = 'knox_opensearch_domain_endpoint',\n",
    ")\n",
    "\n",
    "opensearch_user_id = get_parameter(\n",
    "    boto3_client = ssm,\n",
    "    parameter_name = 'knox_opensearch_userid',\n",
    ")\n",
    "\n",
    "opensearch_user_password = get_parameter(\n",
    "    boto3_client = ssm,\n",
    "    parameter_name = 'knox_opensearch_password',\n",
    ")\n"
   ]
  },
  {
   "cell_type": "code",
   "execution_count": 13,
   "metadata": {
    "tags": []
   },
   "outputs": [],
   "source": [
    "opensearch_domain_endpoint = opensearch_domain_endpoint\n",
    "rag_user_name = opensearch_user_id\n",
    "rag_user_password = opensearch_user_password\n",
    "\n",
    "http_auth = (rag_user_name, rag_user_password) # Master username, Master password"
   ]
  },
  {
   "cell_type": "markdown",
   "metadata": {},
   "source": [
    "## OpenSearch Client 생성"
   ]
  },
  {
   "cell_type": "code",
   "execution_count": 14,
   "metadata": {
    "tags": []
   },
   "outputs": [],
   "source": [
    "from utils.opensearch import opensearch_utils"
   ]
  },
  {
   "cell_type": "code",
   "execution_count": 15,
   "metadata": {
    "tags": []
   },
   "outputs": [],
   "source": [
    "aws_region = os.environ.get(\"AWS_DEFAULT_REGION\", None)\n",
    "\n",
    "os_client = opensearch_utils.create_aws_opensearch_client(\n",
    "    aws_region,\n",
    "    opensearch_domain_endpoint,\n",
    "    http_auth\n",
    ")"
   ]
  },
  {
   "cell_type": "markdown",
   "metadata": {},
   "source": [
    "## 오픈 서치 인덱스 생성 \n",
    "- 오픈 서치에 해당 인덱스가 존재하면, 삭제 합니다. "
   ]
  },
  {
   "cell_type": "code",
   "execution_count": 16,
   "metadata": {
    "tags": []
   },
   "outputs": [],
   "source": [
    "from utils.opensearch import opensearch_utils"
   ]
  },
  {
   "cell_type": "code",
   "execution_count": 17,
   "metadata": {
    "tags": []
   },
   "outputs": [
    {
     "name": "stdout",
     "output_type": "stream",
     "text": [
      "index_name=v15-genai-poc-knox-parent-doc-retriever, exists=True\n",
      "\n",
      "Deleting index:\n",
      "{'acknowledged': True}\n",
      "\n",
      "Creating index:\n",
      "{'acknowledged': True, 'shards_acknowledged': True, 'index': 'v15-genai-poc-knox-parent-doc-retriever'}\n",
      "Index is created\n",
      "{'v15-genai-poc-knox-parent-doc-retriever': {'aliases': {},\n",
      "                                             'mappings': {'properties': {'metadata': {'properties': {'family_tree': {'type': 'keyword'},\n",
      "                                                                                                     'last_updated': {'type': 'date'},\n",
      "                                                                                                     'parent_id': {'type': 'keyword'},\n",
      "                                                                                                     'project': {'type': 'keyword'},\n",
      "                                                                                                     'seq_num': {'type': 'long'},\n",
      "                                                                                                     'source': {'type': 'keyword'},\n",
      "                                                                                                     'title': {'type': 'text'},\n",
      "                                                                                                     'url': {'type': 'text'}}},\n",
      "                                                                         'text': {'type': 'text'},\n",
      "                                                                         'vector_field': {'dimension': 1536,\n",
      "                                                                                          'type': 'knn_vector'}}},\n",
      "                                             'settings': {'index': {'creation_date': '1701433508550',\n",
      "                                                                    'knn': 'true',\n",
      "                                                                    'knn.space_type': 'cosinesimil',\n",
      "                                                                    'number_of_replicas': '2',\n",
      "                                                                    'number_of_shards': '5',\n",
      "                                                                    'provided_name': 'v15-genai-poc-knox-parent-doc-retriever',\n",
      "                                                                    'uuid': 'HXU2rvTCQ1yoyGkzJW4BEg',\n",
      "                                                                    'version': {'created': '136307827'}}}}}\n"
     ]
    }
   ],
   "source": [
    "\n",
    "index_exists = opensearch_utils.check_if_index_exists(\n",
    "    os_client,\n",
    "    index_name\n",
    ")\n",
    "\n",
    "if index_exists:\n",
    "    opensearch_utils.delete_index(\n",
    "        os_client,\n",
    "        index_name\n",
    "    )\n",
    "\n",
    "opensearch_utils.create_index(os_client, index_name, index_body)\n",
    "index_info = os_client.indices.get(index=index_name)\n",
    "print(\"Index is created\")\n",
    "pprint(index_info)"
   ]
  },
  {
   "cell_type": "markdown",
   "metadata": {
    "tags": []
   },
   "source": [
    "## 랭체인 인덱스 연결 오브젝트 생성\n",
    "\n",
    "- [langchain.vectorstores.opensearch_vector_search.OpenSearchVectorSearch](https://api.python.langchain.com/en/latest/vectorstores/langchain.vectorstores.opensearch_vector_search.OpenSearchVectorSearch.html)"
   ]
  },
  {
   "cell_type": "code",
   "execution_count": 18,
   "metadata": {
    "tags": []
   },
   "outputs": [],
   "source": [
    "from langchain.vectorstores import OpenSearchVectorSearch"
   ]
  },
  {
   "cell_type": "code",
   "execution_count": 19,
   "metadata": {
    "tags": []
   },
   "outputs": [
    {
     "data": {
      "text/plain": [
       "<langchain.vectorstores.opensearch_vector_search.OpenSearchVectorSearch at 0x7ff18fec0b20>"
      ]
     },
     "execution_count": 19,
     "metadata": {},
     "output_type": "execute_result"
    }
   ],
   "source": [
    "vector_db = OpenSearchVectorSearch(\n",
    "    index_name=index_name,\n",
    "    opensearch_url=opensearch_domain_endpoint,\n",
    "    embedding_function=llm_emb,\n",
    "    http_auth=http_auth, # http_auth\n",
    "    is_aoss =False,\n",
    "    engine=\"faiss\",\n",
    "    space_type=\"l2\",\n",
    "    bulk_size=100000,\n",
    "    timeout=60    \n",
    ")\n",
    "vector_db"
   ]
  },
  {
   "cell_type": "markdown",
   "metadata": {
    "tags": []
   },
   "source": [
    "# 6. Chunking JSON Doc "
   ]
  },
  {
   "cell_type": "markdown",
   "metadata": {},
   "source": [
    "## Chunk Size and Chunk Overlap Size 결정"
   ]
  },
  {
   "cell_type": "code",
   "execution_count": 20,
   "metadata": {
    "tags": []
   },
   "outputs": [],
   "source": [
    "parent_chunk_size = 4096\n",
    "parent_chunk_overlap = 0\n",
    "\n",
    "child_chunk_size = 1024\n",
    "child_chunk_overlap = 256\n",
    "\n",
    "opensearch_parent_key_name = \"parent_id\"\n",
    "opensearch_family_tree_key_name = \"family_tree\"\n"
   ]
  },
  {
   "cell_type": "code",
   "execution_count": 21,
   "metadata": {
    "tags": []
   },
   "outputs": [],
   "source": [
    "from utils.proc_docs import create_parent_chunk, create_child_chunk"
   ]
  },
  {
   "cell_type": "markdown",
   "metadata": {},
   "source": [
    "## Parent Chunking"
   ]
  },
  {
   "cell_type": "markdown",
   "metadata": {},
   "source": [
    "create_parent_chunk() 아래와 같은 작업을 합니다.\n",
    "- all_docs 에 있는 문서를 parent_chunk_size 만큼으로 청킹 합니다.\n",
    "- Parent Chunk 에 두개의 메타 데이타를 생성 합니다.\n",
    "    - family_tree: parent\n",
    "    - parent_id : None"
   ]
  },
  {
   "cell_type": "code",
   "execution_count": 22,
   "metadata": {
    "tags": []
   },
   "outputs": [
    {
     "name": "stdout",
     "output_type": "stream",
     "text": [
      "Number of parent_chunk_docs= 2325\n"
     ]
    }
   ],
   "source": [
    "parent_chunk_docs = create_parent_chunk(all_docs, opensearch_parent_key_name, \n",
    "                                        opensearch_family_tree_key_name,parent_chunk_size, parent_chunk_overlap)\n",
    "print(f\"Number of parent_chunk_docs= {len(parent_chunk_docs)}\")\n"
   ]
  },
  {
   "cell_type": "code",
   "execution_count": 23,
   "metadata": {
    "tags": []
   },
   "outputs": [
    {
     "data": {
      "text/plain": [
       "[Document(page_content='AR demo barcodes. Use the following barcodes to test the Knox Capture AR features. Barcode 1 Barcode 2 Barcode 3 Barcode 4 Barcode 5 Barcode 6', metadata={'source': 'all_processed_data.json', 'seq_num': 1, 'title': 'AR demo barcodes', 'url': 'https://docs.samsungknox.com/admin/knox-capture/ar-demo-barcodes', 'project': 'KCAP', 'last_updated': '2023-10-16', 'family_tree': 'parent', 'parent_id': None})]"
      ]
     },
     "execution_count": 23,
     "metadata": {},
     "output_type": "execute_result"
    }
   ],
   "source": [
    "parent_chunk_docs[0:1]"
   ]
  },
  {
   "cell_type": "markdown",
   "metadata": {},
   "source": [
    "OpenSearch 에 parent chunk 삽입"
   ]
  },
  {
   "cell_type": "code",
   "execution_count": 24,
   "metadata": {
    "tags": []
   },
   "outputs": [
    {
     "name": "stdout",
     "output_type": "stream",
     "text": [
      "CPU times: user 6.51 s, sys: 374 ms, total: 6.89 s\n",
      "Wall time: 4min 47s\n"
     ]
    }
   ],
   "source": [
    "%%time\n",
    "\n",
    "parent_ids = vector_db.add_documents(\n",
    "                        documents = parent_chunk_docs, \n",
    "                        vector_field = \"vector_field\",\n",
    "                        bulk_size = 1000000\n",
    "                    )\n",
    "\n"
   ]
  },
  {
   "cell_type": "code",
   "execution_count": 25,
   "metadata": {
    "tags": []
   },
   "outputs": [
    {
     "name": "stdout",
     "output_type": "stream",
     "text": [
      "total count docs:  {'count': 2325, '_shards': {'total': 5, 'successful': 5, 'skipped': 0, 'failed': 0}}\n"
     ]
    }
   ],
   "source": [
    "total_count_docs = opensearch_utils.get_count(os_client, index_name)\n",
    "print(\"total count docs: \", total_count_docs)\n"
   ]
  },
  {
   "cell_type": "markdown",
   "metadata": {},
   "source": [
    "삽입된 Parent Chunk 의 첫번째를 확인 합니다. family_tree, parent_id 의 값을 확인 하세요."
   ]
  },
  {
   "cell_type": "code",
   "execution_count": 26,
   "metadata": {
    "tags": []
   },
   "outputs": [
    {
     "name": "stdout",
     "output_type": "stream",
     "text": [
      "opensearch document id: f1713860-f037-41f3-af8c-8d99a4242b7e\n",
      "family_tree: parent\n",
      "parent document id: None\n",
      "parent document text: \n",
      " AR demo barcodes. Use the following barcodes to test the Knox Capture AR features. Barcode 1 Barcode 2 Barcode 3 Barcode 4 Barcode 5 Barcode 6\n"
     ]
    }
   ],
   "source": [
    "def show_opensearch_doc_info(response):\n",
    "    print(\"opensearch document id:\" , response[\"_id\"])\n",
    "    print(\"family_tree:\" , response[\"_source\"][\"metadata\"][\"family_tree\"])\n",
    "    print(\"parent document id:\" , response[\"_source\"][\"metadata\"][\"parent_id\"])\n",
    "    print(\"parent document text: \\n\" , response[\"_source\"][\"text\"])\n",
    "\n",
    "response = opensearch_utils.get_document(os_client, doc_id = parent_ids[0], index_name = index_name)\n",
    "show_opensearch_doc_info(response)    "
   ]
  },
  {
   "cell_type": "markdown",
   "metadata": {},
   "source": [
    "## Child Chunking"
   ]
  },
  {
   "cell_type": "markdown",
   "metadata": {},
   "source": [
    "### Child Chunk 생성\n",
    "\n",
    "아래의 create_child_chunk() 는 다음과 같은 작업을 합니다.\n",
    "- parent_chunk_docs 각각에 대해서 Child Chunk 를 생성 합니다. \n",
    "- Child Chunk 에 두개의 메타 데이타를 생성 합니다.\n",
    "    - family_tree: child\n",
    "    - parent_id : parent 에 대한 OpenSearch document id"
   ]
  },
  {
   "cell_type": "code",
   "execution_count": 27,
   "metadata": {
    "tags": []
   },
   "outputs": [
    {
     "name": "stdout",
     "output_type": "stream",
     "text": [
      "Number of child_chunk_docs= 6884\n"
     ]
    }
   ],
   "source": [
    "# child_chunk_docs = create_child_chunk(parent_chunk_docs[0:1], parent_ids)\n",
    "child_chunk_docs = create_child_chunk(child_chunk_size, child_chunk_overlap, parent_chunk_docs, parent_ids, \n",
    "                                      opensearch_parent_key_name, opensearch_family_tree_key_name)\n",
    "print(f\"Number of child_chunk_docs= {len(child_chunk_docs)}\")\n"
   ]
  },
  {
   "cell_type": "markdown",
   "metadata": {},
   "source": [
    "### 생성된 Child 와 이에 대한 Parent 정보 확인"
   ]
  },
  {
   "cell_type": "markdown",
   "metadata": {},
   "source": [
    "Child Chunk 한개에 대한 정보를 확인 합니다."
   ]
  },
  {
   "cell_type": "code",
   "execution_count": 28,
   "metadata": {
    "tags": []
   },
   "outputs": [
    {
     "data": {
      "text/plain": [
       "[Document(page_content='AR demo barcodes. Use the following barcodes to test the Knox Capture AR features. Barcode 1 Barcode 2 Barcode 3 Barcode 4 Barcode 5 Barcode 6', metadata={'source': 'all_processed_data.json', 'seq_num': 1, 'title': 'AR demo barcodes', 'url': 'https://docs.samsungknox.com/admin/knox-capture/ar-demo-barcodes', 'project': 'KCAP', 'last_updated': '2023-10-16', 'family_tree': 'child', 'parent_id': 'f1713860-f037-41f3-af8c-8d99a4242b7e'})]"
      ]
     },
     "execution_count": 28,
     "metadata": {},
     "output_type": "execute_result"
    }
   ],
   "source": [
    "child_chunk_docs[0:1]"
   ]
  },
  {
   "cell_type": "markdown",
   "metadata": {},
   "source": [
    "Child 에 대한 Parent 정보 확인"
   ]
  },
  {
   "cell_type": "code",
   "execution_count": 29,
   "metadata": {
    "tags": []
   },
   "outputs": [
    {
     "name": "stdout",
     "output_type": "stream",
     "text": [
      "child's parent_id:  f1713860-f037-41f3-af8c-8d99a4242b7e\n",
      "\n",
      "###### Search parent in OpenSearch\n",
      "opensearch document id: f1713860-f037-41f3-af8c-8d99a4242b7e\n",
      "family_tree: parent\n",
      "parent document id: None\n",
      "parent document text: \n",
      " AR demo barcodes. Use the following barcodes to test the Knox Capture AR features. Barcode 1 Barcode 2 Barcode 3 Barcode 4 Barcode 5 Barcode 6\n"
     ]
    }
   ],
   "source": [
    "parent_id = child_chunk_docs[0].metadata[\"parent_id\"]\n",
    "print(\"child's parent_id: \", parent_id)\n",
    "print(\"\\n###### Search parent in OpenSearch\")\n",
    "response = opensearch_utils.get_document(os_client, doc_id = parent_id, index_name = index_name)\n",
    "show_opensearch_doc_info(response)    \n"
   ]
  },
  {
   "cell_type": "markdown",
   "metadata": {},
   "source": [
    "### OpenSearch 에 Child 삽입"
   ]
  },
  {
   "cell_type": "code",
   "execution_count": 30,
   "metadata": {
    "tags": []
   },
   "outputs": [
    {
     "name": "stdout",
     "output_type": "stream",
     "text": [
      "length of child_ids:  6884\n",
      "CPU times: user 18.9 s, sys: 878 ms, total: 19.8 s\n",
      "Wall time: 11min 26s\n"
     ]
    }
   ],
   "source": [
    "%%time\n",
    "\n",
    "child_ids = vector_db.add_documents(\n",
    "                        documents = child_chunk_docs, \n",
    "                        vector_field = \"vector_field\",\n",
    "                        bulk_size = 1000000\n",
    "                    )\n",
    "\n",
    "print(\"length of child_ids: \", len(child_ids))"
   ]
  },
  {
   "cell_type": "code",
   "execution_count": 31,
   "metadata": {
    "tags": []
   },
   "outputs": [
    {
     "name": "stdout",
     "output_type": "stream",
     "text": [
      "total count docs:  {'count': 9209, '_shards': {'total': 5, 'successful': 5, 'skipped': 0, 'failed': 0}}\n"
     ]
    }
   ],
   "source": [
    "total_count_docs = opensearch_utils.get_count(os_client, index_name)\n",
    "print(\"total count docs: \", total_count_docs)\n"
   ]
  },
  {
   "cell_type": "code",
   "execution_count": 32,
   "metadata": {
    "tags": []
   },
   "outputs": [
    {
     "name": "stdout",
     "output_type": "stream",
     "text": [
      "opensearch document id: 921b9610-ad45-47a0-a5c7-0140f3553506\n",
      "family_tree: child\n",
      "parent document id: f1713860-f037-41f3-af8c-8d99a4242b7e\n",
      "parent document text: \n",
      " AR demo barcodes. Use the following barcodes to test the Knox Capture AR features. Barcode 1 Barcode 2 Barcode 3 Barcode 4 Barcode 5 Barcode 6\n"
     ]
    }
   ],
   "source": [
    "response = opensearch_utils.get_document(os_client, doc_id = child_ids[0], index_name = index_name)\n",
    "show_opensearch_doc_info(response)    "
   ]
  },
  {
   "cell_type": "markdown",
   "metadata": {},
   "source": [
    "# 7. 검색 테스트"
   ]
  },
  {
   "cell_type": "markdown",
   "metadata": {},
   "source": [
    "## Lexical 검색"
   ]
  },
  {
   "cell_type": "code",
   "execution_count": 33,
   "metadata": {
    "tags": []
   },
   "outputs": [
    {
     "name": "stdout",
     "output_type": "stream",
     "text": [
      "{'query': {'bool': {'filter': {'term': {'metadata.family_tree': 'child'}},\n",
      "                    'must': [{'match': {'text': {'minimum_should_match': '0%',\n",
      "                                                 'operator': 'or',\n",
      "                                                 'query': '{q}'}}}]}}}\n"
     ]
    }
   ],
   "source": [
    "q = \"'how to add image\"\n",
    "query ={'query': \n",
    "        {'bool': {'must': \n",
    "                  [{'match': \n",
    "                    {'text': \n",
    "                     {'query': \"{q}\", 'minimum_should_match': '0%', 'operator': 'or'}}}], \n",
    "                  'filter': {\n",
    "                    \"term\": {\n",
    "                      \"metadata.family_tree\": \"child\"\n",
    "                    }                      \n",
    "                  }\n",
    "                 }\n",
    "        }\n",
    "       }\n",
    "pprint(query)"
   ]
  },
  {
   "cell_type": "code",
   "execution_count": 34,
   "metadata": {
    "tags": []
   },
   "outputs": [
    {
     "name": "stdout",
     "output_type": "stream",
     "text": [
      "# of searched docs:  10\n",
      "# of display: 3\n",
      "---------------------\n",
      "_id in index:  53c5f947-3513-460b-915f-2be171011a44\n",
      "8.998719\n",
      ". Q - When I renew an expired license, does the license come into effect and enroll the relevant devices immediately? A - For iOS and Windows devices, they are enrolled immediately. For Android devices, they can be enrolled according to the schedule set on the system or by sending a device command. Q - When a license expires, does it expire in the order the devices were enrolled? A - When a license being used on various devices expires, all the devices become unable to use Knox Manage simultaneously. Q - If I want to allocate the renewed licenses only to new devices (not already existing registered devices), what should I do? A - After increasing the number of licenses, you should first unenroll the existing registered devices, and then enroll the new devices. The renewed licenses will then be allocated to the new devices\n",
      "{'source': 'all_processed_data.json', 'seq_num': 894, 'title': 'Licenses overview', 'url': 'https://docs.samsungknox.com/admin/knox-manage/configure/licenses/licenses-overview', 'project': 'KM', 'last_updated': '2023-07-26', 'family_tree': 'child', 'parent_id': '005475dd-ad31-4b5e-b311-923992779d59'}\n",
      "---------------------\n",
      "_id in index:  06b4c51f-bb34-4b35-abea-fd83bfaadba7\n",
      "8.947181\n",
      ".2 Android Q (10\n",
      "{'source': 'all_processed_data.json', 'seq_num': 1408, 'title': 'Guidance documents for Common Criteria evaluation', 'url': 'https://docs.samsungknox.com/admin/knox-platform-for-enterprise/kbas/cc-guidance-documents', 'project': 'KPE', 'last_updated': '2023-07-26', 'family_tree': 'child', 'parent_id': '091691f4-44d1-416d-88ec-969f4e5bbb46'}\n",
      "---------------------\n",
      "_id in index:  0043c676-840d-4025-8c12-f465914efa22\n",
      "8.7354\n",
      ". Q - Once the total number of licenses is increased through renewal or extension, how are they allocated? A - If there are more licenses than devices after the increase, licenses are allocated to all devices in the order in which they were enrolled. Q - If there are more devices than licenses after increasing the number of licenses, how are the licenses allocated? A - Licenses are allocated to devices in the order that the devices were enrolled. Extra devices without licenses become unavailable with the existing policy still applied\n",
      "{'source': 'all_processed_data.json', 'seq_num': 894, 'title': 'Licenses overview', 'url': 'https://docs.samsungknox.com/admin/knox-manage/configure/licenses/licenses-overview', 'project': 'KM', 'last_updated': '2023-07-26', 'family_tree': 'child', 'parent_id': 'a2dbd904-5c7e-4777-a434-2981ed7fb34d'}\n",
      "---------------------\n"
     ]
    }
   ],
   "source": [
    "# query = \"how to add image\"\n",
    "# query = opensearch_utils.get_query(\n",
    "#     query=query\n",
    "# )\n",
    "\n",
    "response = opensearch_utils.search_document(os_client, query, index_name)\n",
    "opensearch_utils.parse_keyword_response(response, show_size=3)"
   ]
  },
  {
   "cell_type": "markdown",
   "metadata": {
    "tags": []
   },
   "source": [
    "## 시맨틱 검색"
   ]
  },
  {
   "cell_type": "code",
   "execution_count": 35,
   "metadata": {
    "tags": []
   },
   "outputs": [
    {
     "data": {
      "text/plain": [
       "[Document(page_content='. You can add up to 10 image files in the PNG, JPG, JPEG, or GIF format (animated files are not supported). Each image file must be less than 5 MB. To upload an image file, click Add and select a file. To delete an image file, click next to the name of the uploaded image file. Note The device control command must be transferred to the device to apply an image file to it. &gt;&gt;&gt; Video Select a video file for the screen saver. You can add only one video file in the MP4 or MKV format. The video file must be less than 50 MB. To upload a video file, click Add and select a file. To delete a video file, click next to the name of the uploaded video file. Note The device control command must be transferred to the device to apply a video to it. &gt; Session timeout Allows the use of the session timeout feature for the Kiosk Browser', metadata={'source': 'all_processed_data.json', 'seq_num': 911, 'title': 'Android Enterprise policies', 'url': 'https://docs.samsungknox.com/admin/knox-manage/configure/profile/configure-profile-policies/android-enterprise-policies', 'project': 'KM', 'last_updated': '2023-09-06', 'family_tree': 'child', 'parent_id': 'fd052829-8a1c-4ce8-99fd-7ff405d89b42'}),\n",
       " Document(page_content='. Screenshot (optional) - Add up to four preview images of the app for device users. Click a frame to open a file dialog, then select an image from your file system. Each screenshot can be in JPG or PNG file formats and must not exceed 5MB in size. 4. Save the app, and choose whether to assign it right away: Click Save & Assign to save the app and assign it. The console takes you to the Assign Application page. For more details, see Assign Windows applications. Click Save to save the app and return to the app list.', metadata={'source': 'all_processed_data.json', 'seq_num': 820, 'title': 'Add public apps using the Microsoft Store', 'url': 'https://docs.samsungknox.com/admin/knox-manage/configure/applications/add-applications/add-public-apps-using-the-microsoft-store', 'project': 'KM', 'last_updated': '2023-07-26', 'family_tree': 'child', 'parent_id': '9c4e160e-0389-4f70-8c32-f460e9faec25'})]"
      ]
     },
     "execution_count": 35,
     "metadata": {},
     "output_type": "execute_result"
    }
   ],
   "source": [
    "vector_db.similarity_search(q, k=2)"
   ]
  },
  {
   "cell_type": "markdown",
   "metadata": {},
   "source": [
    "# 8. 검증 인덱스 생성"
   ]
  },
  {
   "cell_type": "markdown",
   "metadata": {},
   "source": [
    "## Index 이름 결정"
   ]
  },
  {
   "cell_type": "code",
   "execution_count": 36,
   "metadata": {
    "tags": []
   },
   "outputs": [],
   "source": [
    "eval_index_name = \"v16-genai-poc-knox-eval-parent-doc-retriever\""
   ]
  },
  {
   "cell_type": "markdown",
   "metadata": {},
   "source": [
    "## Sampling"
   ]
  },
  {
   "cell_type": "code",
   "execution_count": 37,
   "metadata": {
    "tags": []
   },
   "outputs": [
    {
     "name": "stdout",
     "output_type": "stream",
     "text": [
      "eval docs:  86\n"
     ]
    },
    {
     "data": {
      "text/plain": [
       "[Document(page_content='AR demo barcodes. Use the following barcodes to test the Knox Capture AR features. Barcode 1 Barcode 2 Barcode 3 Barcode 4 Barcode 5 Barcode 6', metadata={'source': 'all_processed_data.json', 'seq_num': 1, 'title': 'AR demo barcodes', 'url': 'https://docs.samsungknox.com/admin/knox-capture/ar-demo-barcodes', 'project': 'KCAP', 'last_updated': '2023-10-16'}),\n",
       " Document(page_content=\"Videos. This section contains product and how-to videos related to Knox Capture. Getting started with Samsung Knox Capture In this video, we'll show you how to use Samsung Knox Capture to transform your mobile devices into powerful barcode scanners that can read, process, and output barcode data into other applications. Samsung Knox Capture: Enterprise-grade mobile scanning solution in Galaxy device This product intro video shows you how easy it is to transform rugged Samsung devices like the Galaxy XCover Pro into enterprise-grade barcode scanners.\", metadata={'source': 'all_processed_data.json', 'seq_num': 2, 'title': 'Videos', 'url': 'https://docs.samsungknox.com/admin/knox-capture/how-to-videos', 'project': 'KCAP', 'last_updated': '2023-07-26'})]"
      ]
     },
     "execution_count": 37,
     "metadata": {},
     "output_type": "execute_result"
    }
   ],
   "source": [
    "import random\n",
    "def get_sampling_doc(seed, ratio, docs):\n",
    "\n",
    "    random.seed(seed)\n",
    "    \n",
    "    eval_docs = docs[:int(len(docs)*ratio)]\n",
    "    \n",
    "    return eval_docs\n",
    "    \n",
    "eval_docs = get_sampling_doc(seed=200, ratio=0.05, docs= all_docs)\n",
    "print(\"eval docs: \", len(eval_docs))\n",
    "eval_docs[0:2]\n",
    "    \n",
    "    "
   ]
  },
  {
   "cell_type": "markdown",
   "metadata": {},
   "source": [
    "## 오픈 서치 인덱스 유무에 따라 삭제\n",
    "오픈 서치에 해당 인덱스가 존재하면, 삭제 합니다. "
   ]
  },
  {
   "cell_type": "code",
   "execution_count": 38,
   "metadata": {
    "tags": []
   },
   "outputs": [
    {
     "name": "stdout",
     "output_type": "stream",
     "text": [
      "index_name=v16-genai-poc-knox-eval-parent-doc-retriever, exists=True\n",
      "\n",
      "Deleting index:\n",
      "{'acknowledged': True}\n",
      "\n",
      "Creating index:\n",
      "{'acknowledged': True, 'shards_acknowledged': True, 'index': 'v16-genai-poc-knox-eval-parent-doc-retriever'}\n",
      "Index is created\n",
      "{'v16-genai-poc-knox-eval-parent-doc-retriever': {'aliases': {},\n",
      "                                                  'mappings': {'properties': {'metadata': {'properties': {'family_tree': {'type': 'keyword'},\n",
      "                                                                                                          'last_updated': {'type': 'date'},\n",
      "                                                                                                          'parent_id': {'type': 'keyword'},\n",
      "                                                                                                          'project': {'type': 'keyword'},\n",
      "                                                                                                          'seq_num': {'type': 'long'},\n",
      "                                                                                                          'source': {'type': 'keyword'},\n",
      "                                                                                                          'title': {'type': 'text'},\n",
      "                                                                                                          'url': {'type': 'text'}}},\n",
      "                                                                              'text': {'type': 'text'},\n",
      "                                                                              'vector_field': {'dimension': 1536,\n",
      "                                                                                               'type': 'knn_vector'}}},\n",
      "                                                  'settings': {'index': {'creation_date': '1701434683786',\n",
      "                                                                         'knn': 'true',\n",
      "                                                                         'knn.space_type': 'cosinesimil',\n",
      "                                                                         'number_of_replicas': '2',\n",
      "                                                                         'number_of_shards': '5',\n",
      "                                                                         'provided_name': 'v16-genai-poc-knox-eval-parent-doc-retriever',\n",
      "                                                                         'uuid': '2TrCmOKTQhiDJ-5vG0aTWg',\n",
      "                                                                         'version': {'created': '136307827'}}}}}\n"
     ]
    }
   ],
   "source": [
    "index_exists = opensearch_utils.check_if_index_exists(\n",
    "    os_client,\n",
    "    eval_index_name\n",
    ")\n",
    "\n",
    "if index_exists:\n",
    "    opensearch_utils.delete_index(\n",
    "        os_client,\n",
    "        eval_index_name\n",
    "    )\n",
    "    \n",
    "opensearch_utils.create_index(os_client, eval_index_name, index_body)\n",
    "index_info = os_client.indices.get(index=eval_index_name)\n",
    "print(\"Index is created\")\n",
    "pprint(index_info)    "
   ]
  },
  {
   "cell_type": "markdown",
   "metadata": {},
   "source": [
    "## 검증 인덱스 연결 오브젝트 생성"
   ]
  },
  {
   "cell_type": "code",
   "execution_count": 40,
   "metadata": {
    "tags": []
   },
   "outputs": [
    {
     "data": {
      "text/plain": [
       "<langchain.vectorstores.opensearch_vector_search.OpenSearchVectorSearch at 0x7ff18f3030d0>"
      ]
     },
     "execution_count": 40,
     "metadata": {},
     "output_type": "execute_result"
    }
   ],
   "source": [
    "eval_vector_db = OpenSearchVectorSearch(\n",
    "    index_name= eval_index_name,\n",
    "    opensearch_url=opensearch_domain_endpoint,\n",
    "    embedding_function=llm_emb,\n",
    "    http_auth=http_auth, # http_auth\n",
    "    is_aoss =False,\n",
    "    engine=\"faiss\",\n",
    "    space_type=\"l2\",\n",
    "    bulk_size=100000,\n",
    "    timeout=60    \n",
    ")\n",
    "eval_vector_db"
   ]
  },
  {
   "cell_type": "markdown",
   "metadata": {},
   "source": [
    "## Parent Chunking"
   ]
  },
  {
   "cell_type": "code",
   "execution_count": 41,
   "metadata": {
    "tags": []
   },
   "outputs": [
    {
     "name": "stdout",
     "output_type": "stream",
     "text": [
      "Number of parent_chunk_docs= 98\n"
     ]
    }
   ],
   "source": [
    "parent_chunk_docs = create_parent_chunk(eval_docs, opensearch_parent_key_name, \n",
    "                                        opensearch_family_tree_key_name,parent_chunk_size, \n",
    "                                        parent_chunk_overlap)\n",
    "print(f\"Number of parent_chunk_docs= {len(parent_chunk_docs)}\")\n"
   ]
  },
  {
   "cell_type": "code",
   "execution_count": 42,
   "metadata": {
    "tags": []
   },
   "outputs": [
    {
     "data": {
      "text/plain": [
       "[Document(page_content='AR demo barcodes. Use the following barcodes to test the Knox Capture AR features. Barcode 1 Barcode 2 Barcode 3 Barcode 4 Barcode 5 Barcode 6', metadata={'source': 'all_processed_data.json', 'seq_num': 1, 'title': 'AR demo barcodes', 'url': 'https://docs.samsungknox.com/admin/knox-capture/ar-demo-barcodes', 'project': 'KCAP', 'last_updated': '2023-10-16', 'family_tree': 'parent', 'parent_id': None})]"
      ]
     },
     "execution_count": 42,
     "metadata": {},
     "output_type": "execute_result"
    }
   ],
   "source": [
    "parent_chunk_docs[0:1]"
   ]
  },
  {
   "cell_type": "code",
   "execution_count": 43,
   "metadata": {
    "tags": []
   },
   "outputs": [
    {
     "name": "stdout",
     "output_type": "stream",
     "text": [
      "CPU times: user 279 ms, sys: 6.84 ms, total: 286 ms\n",
      "Wall time: 11.3 s\n"
     ]
    }
   ],
   "source": [
    "%%time\n",
    "\n",
    "parent_ids = eval_vector_db.add_documents(\n",
    "                        documents = parent_chunk_docs, \n",
    "                        vector_field = \"vector_field\",\n",
    "                        bulk_size = 1000000\n",
    "                    )\n",
    "\n"
   ]
  },
  {
   "cell_type": "code",
   "execution_count": 44,
   "metadata": {
    "tags": []
   },
   "outputs": [
    {
     "name": "stdout",
     "output_type": "stream",
     "text": [
      "total count docs:  {'count': 98, '_shards': {'total': 5, 'successful': 5, 'skipped': 0, 'failed': 0}}\n"
     ]
    }
   ],
   "source": [
    "total_count_docs = opensearch_utils.get_count(os_client, eval_index_name)\n",
    "print(\"total count docs: \", total_count_docs)\n"
   ]
  },
  {
   "cell_type": "code",
   "execution_count": 45,
   "metadata": {
    "tags": []
   },
   "outputs": [
    {
     "name": "stdout",
     "output_type": "stream",
     "text": [
      "opensearch document id: e582072d-bfd0-42d3-b96a-756b011b464f\n",
      "family_tree: parent\n",
      "parent document id: None\n",
      "parent document text: \n",
      " AR demo barcodes. Use the following barcodes to test the Knox Capture AR features. Barcode 1 Barcode 2 Barcode 3 Barcode 4 Barcode 5 Barcode 6\n"
     ]
    }
   ],
   "source": [
    "response = opensearch_utils.get_document(os_client, doc_id = parent_ids[0], index_name = eval_index_name)\n",
    "show_opensearch_doc_info(response)    "
   ]
  },
  {
   "cell_type": "markdown",
   "metadata": {},
   "source": [
    "## Child Chunking"
   ]
  },
  {
   "cell_type": "code",
   "execution_count": 46,
   "metadata": {},
   "outputs": [
    {
     "name": "stdout",
     "output_type": "stream",
     "text": [
      "Number of child_chunk_docs= 244\n"
     ]
    }
   ],
   "source": [
    "# child_chunk_docs = create_child_chunk(parent_chunk_docs[0:1], parent_ids)\n",
    "child_chunk_docs = create_child_chunk(child_chunk_size, child_chunk_overlap, parent_chunk_docs, \n",
    "                                      parent_ids, \n",
    "                                      opensearch_parent_key_name, opensearch_family_tree_key_name)\n",
    "print(f\"Number of child_chunk_docs= {len(child_chunk_docs)}\")\n"
   ]
  },
  {
   "cell_type": "code",
   "execution_count": 47,
   "metadata": {
    "tags": []
   },
   "outputs": [
    {
     "data": {
      "text/plain": [
       "[Document(page_content='AR demo barcodes. Use the following barcodes to test the Knox Capture AR features. Barcode 1 Barcode 2 Barcode 3 Barcode 4 Barcode 5 Barcode 6', metadata={'source': 'all_processed_data.json', 'seq_num': 1, 'title': 'AR demo barcodes', 'url': 'https://docs.samsungknox.com/admin/knox-capture/ar-demo-barcodes', 'project': 'KCAP', 'last_updated': '2023-10-16', 'family_tree': 'child', 'parent_id': 'e582072d-bfd0-42d3-b96a-756b011b464f'})]"
      ]
     },
     "execution_count": 47,
     "metadata": {},
     "output_type": "execute_result"
    }
   ],
   "source": [
    "child_chunk_docs[0:1]"
   ]
  },
  {
   "cell_type": "code",
   "execution_count": 48,
   "metadata": {
    "tags": []
   },
   "outputs": [
    {
     "name": "stdout",
     "output_type": "stream",
     "text": [
      "child's parent_id:  e582072d-bfd0-42d3-b96a-756b011b464f\n",
      "\n",
      "###### Search parent in OpenSearch\n",
      "opensearch document id: e582072d-bfd0-42d3-b96a-756b011b464f\n",
      "family_tree: parent\n",
      "parent document id: None\n",
      "parent document text: \n",
      " AR demo barcodes. Use the following barcodes to test the Knox Capture AR features. Barcode 1 Barcode 2 Barcode 3 Barcode 4 Barcode 5 Barcode 6\n"
     ]
    }
   ],
   "source": [
    "parent_id = child_chunk_docs[0].metadata[\"parent_id\"]\n",
    "print(\"child's parent_id: \", parent_id)\n",
    "print(\"\\n###### Search parent in OpenSearch\")\n",
    "response = opensearch_utils.get_document(os_client, doc_id = parent_id, index_name = eval_index_name)\n",
    "show_opensearch_doc_info(response)    \n"
   ]
  },
  {
   "cell_type": "code",
   "execution_count": 49,
   "metadata": {
    "tags": []
   },
   "outputs": [
    {
     "name": "stdout",
     "output_type": "stream",
     "text": [
      "length of child_ids:  244\n",
      "CPU times: user 685 ms, sys: 12.9 ms, total: 698 ms\n",
      "Wall time: 23.6 s\n"
     ]
    }
   ],
   "source": [
    "%%time\n",
    "\n",
    "child_ids = eval_vector_db.add_documents(\n",
    "                        documents = child_chunk_docs, \n",
    "                        vector_field = \"vector_field\",\n",
    "                        bulk_size = 1000000\n",
    "                    )\n",
    "\n",
    "print(\"length of child_ids: \", len(child_ids))"
   ]
  },
  {
   "cell_type": "code",
   "execution_count": 50,
   "metadata": {
    "tags": []
   },
   "outputs": [
    {
     "name": "stdout",
     "output_type": "stream",
     "text": [
      "total count docs:  {'count': 342, '_shards': {'total': 5, 'successful': 5, 'skipped': 0, 'failed': 0}}\n"
     ]
    }
   ],
   "source": [
    "total_count_docs = opensearch_utils.get_count(os_client, eval_index_name)\n",
    "print(\"total count docs: \", total_count_docs)\n"
   ]
  },
  {
   "cell_type": "code",
   "execution_count": 55,
   "metadata": {
    "tags": []
   },
   "outputs": [
    {
     "name": "stdout",
     "output_type": "stream",
     "text": [
      "opensearch document id: 90148840-bf50-467e-be82-7076abece051\n",
      "family_tree: child\n",
      "parent document id: 2dfcb471-aea7-42eb-9dc6-75fa1ad22653\n",
      "parent document text: \n",
      " . #Admin mode (Default) When Knox Capture is downloaded from Google Play and installed on a compatible Android device - and a valid license key is activated - the app operates in its default Admin mode. This mode allows the device user - typically an enterprise IT admin - to utilize the full functionality of the app to primarily do the following: 1. Create scanning profiles that define which apps can launch the barcode scanner, which barcode types can be scanned (QR, Code 128, EAN8, etc.), and how scanned data is formatted (append Tab or Enter key, insert special characters before or after data, etc.). 2. Test scanning profiles to ensure that appropriate business apps can launch the scanner and receive data back as keystrokes. 3. Export profile settings as a configuration file, which can then be used by EMM/UEM administrators to deploy Knox Capture as a managed app to end-user devices\n"
     ]
    }
   ],
   "source": [
    "response = opensearch_utils.get_document(os_client, doc_id = child_ids[5], index_name = eval_index_name)\n",
    "show_opensearch_doc_info(response)    "
   ]
  },
  {
   "cell_type": "code",
   "execution_count": 56,
   "metadata": {
    "tags": []
   },
   "outputs": [
    {
     "name": "stdout",
     "output_type": "stream",
     "text": [
      "child's parent_id:  2dfcb471-aea7-42eb-9dc6-75fa1ad22653\n",
      "\n",
      "###### Search parent in OpenSearch\n",
      "opensearch document id: 2dfcb471-aea7-42eb-9dc6-75fa1ad22653\n",
      "family_tree: parent\n",
      "parent document id: None\n",
      "parent document text: \n",
      " Overview. Get started with the basics by learning what Knox Capture is and how it works. What is Knox Capture? To help explain what Knox Capture does, it may be helpful to start with an understanding of what a *wedge* scanner is, and how it relates to the Knox Capture solution. In traditional hardware-based barcode scanning terminology, a wedge scanner is a physical device that attaches between a keyboard and a computer. The keyboard attaches to the scanner, and the scanner attaches to the computer. From the computer's perspective, the scanner behaves just like an additional keyboard. When the computer runs a software program (like an inventory spreadsheet app), and barcodes are read using the wedge scanner, data is sent from the scanner to the program in the form of keystrokes. From the program's point of view, data appears exactly as if someone had typed it manually using a keyboard. How Knox Capture works In a similar way, Knox Capture also acts as a wedge between a software program and keyboard. However, instead of being a physical scanning device, Knox Capture is a mobile solution built for compatible Android smartphones and tablets. Enterprise IT admins can either download the Knox Capture app from Google Play, or custom-build their own wedge scanner apps using the Knox Capture SDK (Software Development Kit). Once Knox Capture is installed and running on a device, it *wedges* between an application (for example, a business app used to track inventory) and the mobile device's on-screen keyboard. When an end-user launches their business app, they can simply tap an on-screen button or press a hardware button on their device to trigger a barcode scan using the device's camera. After the camera focuses on a barcode, Knox Capture translates the barcode data into keystrokes, which then get passed back to the business app for processing. From the business app's point of view, keystrokes coming from Knox Capture appear exactly as if a user had typed them from the device keyboard. Who can use Knox Capture? Knox Capture is designed for anyone who wants to turn their mobile device into a powerful barcode scanner. However, depending on whether it's being used by an admin or an end-user, its features vary significantly. #Admin mode (Default) When Knox Capture is downloaded from Google Play and installed on a compatible Android device - and a valid license key is activated - the app operates in its default Admin mode. This mode allows the device user - typically an enterprise IT admin - to utilize the full functionality of the app to primarily do the following: 1. Create scanning profiles that define which apps can launch the barcode scanner, which barcode types can be scanned (QR, Code 128, EAN8, etc.), and how scanned data is formatted (append Tab or Enter key, insert special characters before or after data, etc.). 2. Test scanning profiles to ensure that appropriate business apps can launch the scanner and receive data back as keystrokes. 3. Export profile settings as a configuration file, which can then be used by EMM/UEM administrators to deploy Knox Capture as a managed app to end-user devices. #Managed mode After an IT admin uses their EMM/UEM to deploy Knox Capture as a managed app to an end-user's device, the device launches the app in Managed mode. In Managed mode, Knox Capture functionality is greatly reduced. End-users can review their scanning profile settings and perform barcode scans using their business apps (as permitted by their scanning profile), however they can't make changes to their scanning profiles, export profile settings, or switch to Admin mode by activating a Knox Capture license. Admin mode is the default mode of operation for Knox Capture. The procedures described in this guide are targeted at an IT admin audience. Further reading #Getting started tutorials These tutorials provide a guided workflow for new admins and end-users. While they don't cover every setting or scenario when using Knox Capture, they do provide a good starting point for learning the app's basics\n"
     ]
    }
   ],
   "source": [
    "parent_id = response[\"_source\"][\"metadata\"][\"parent_id\"]\n",
    "print(\"child's parent_id: \", parent_id)\n",
    "print(\"\\n###### Search parent in OpenSearch\")\n",
    "response = opensearch_utils.get_document(os_client, doc_id = parent_id, index_name = eval_index_name)\n",
    "show_opensearch_doc_info(response)    \n"
   ]
  },
  {
   "cell_type": "markdown",
   "metadata": {},
   "source": [
    "## 검색 테스트"
   ]
  },
  {
   "cell_type": "code",
   "execution_count": 52,
   "metadata": {
    "tags": []
   },
   "outputs": [
    {
     "name": "stdout",
     "output_type": "stream",
     "text": [
      "{'query': {'bool': {'filter': {'term': {'metadata.family_tree': 'child'}},\n",
      "                    'must': [{'match': {'text': {'minimum_should_match': '0%',\n",
      "                                                 'operator': 'or',\n",
      "                                                 'query': \"'how to use \"\n",
      "                                                          'barcode'}}}]}}}\n"
     ]
    }
   ],
   "source": [
    "q = \"'how to use barcode\"\n",
    "query ={'query': \n",
    "        {'bool': {'must': \n",
    "                  [{'match': \n",
    "                    {'text': \n",
    "                     {'query': f\"{q}\", 'minimum_should_match': '0%', 'operator': 'or'}}}], \n",
    "                  'filter': {\n",
    "                    \"term\": {\n",
    "                      \"metadata.family_tree\": \"child\"\n",
    "                    }                      \n",
    "                  }\n",
    "                 }\n",
    "        }\n",
    "       }\n",
    "pprint(query)"
   ]
  },
  {
   "cell_type": "code",
   "execution_count": 53,
   "metadata": {
    "tags": []
   },
   "outputs": [
    {
     "name": "stdout",
     "output_type": "stream",
     "text": [
      "# of searched docs:  10\n",
      "# of display: 3\n",
      "---------------------\n",
      "_id in index:  709c077e-5440-4ef4-afc8-d96e4209f659\n",
      "4.949938\n",
      ". Test mode - A feature that lets you test a scanning profile's apps, barcode types, and keystroke ouput rules before exporting the configuration for deployment. Deploy configuration to EMM/UEM - Learn about the various scanning profile export options, and how to use the exported configuration file in an EMM/UEM to deploy Knox Capture to end-users. Set camera scan trigger - A feature that allows IT admins to specify whether a user can trigger a camera scan using a hardware button on the device, an on-screen floating action button, or both. Learn about the different button options, and how to configure the triggers from both the admin and end-user's point of view. Connect a hardware scanner - Certain enterprises may wish to use their existing hardware wedge scanners alongside Knox Capture. Learn how to connect Bluetooth and USB scanners to a device running Knox Capture, and how to perform a test scan once a scanner is connected\n",
      "{'source': 'all_processed_data.json', 'seq_num': 3, 'title': 'Overview', 'url': 'https://docs.samsungknox.com/admin/knox-capture/overview', 'project': 'KCAP', 'last_updated': '2023-07-26', 'family_tree': 'child', 'parent_id': '75bb0038-6007-4244-815b-1983b0556112'}\n",
      "---------------------\n",
      "_id in index:  491ebe2f-5c4a-44d4-805b-5de6eb2cc7a5\n",
      "4.9000554\n",
      "Use scanner overlay. The Scanner overlay feature lets device users view the camera preview window and the business app screen concurrently. When the user triggers a barcode scan, a mini camera preview is shown over the business app screen as a picture-in-picture (PiP) window, allowing users to use the scanner and view their app's data at the same time. Functionally, the Scanner overlay behaves just like the normal scanner. When the device user aims the camera at the barcode, Knox Capture sends the scanned data to the business app depending on how the scan engine settings are configured. Enable the Scanner overlay The Scanner overlay can be enabled in both Admin and Managed modes. To enable this feature, go to the Knox Capture home screen, tap the Options button (three dots), tap Scanner overlay, then toggle the feature On. When you launch the scanner overlay for the first time, an on-screen tutorial explains how to reposition and resize the overlay. By default, the overlay appears at the top of the screen\n",
      "{'source': 'all_processed_data.json', 'seq_num': 18, 'title': 'Use scanner overlay', 'url': 'https://docs.samsungknox.com/admin/knox-capture/how-to-guides/use-scanner-overlay', 'project': 'KCAP', 'last_updated': '2023-07-26', 'family_tree': 'child', 'parent_id': 'f4e08209-f8c8-41ad-af18-6e65059b0a1d'}\n",
      "---------------------\n",
      "_id in index:  927deb64-bfe0-4092-8187-19f23b9e9e88\n",
      "4.8009925\n",
      "Videos. This section contains product and how-to videos related to Knox Capture. Getting started with Samsung Knox Capture In this video, we'll show you how to use Samsung Knox Capture to transform your mobile devices into powerful barcode scanners that can read, process, and output barcode data into other applications. Samsung Knox Capture: Enterprise-grade mobile scanning solution in Galaxy device This product intro video shows you how easy it is to transform rugged Samsung devices like the Galaxy XCover Pro into enterprise-grade barcode scanners.\n",
      "{'source': 'all_processed_data.json', 'seq_num': 2, 'title': 'Videos', 'url': 'https://docs.samsungknox.com/admin/knox-capture/how-to-videos', 'project': 'KCAP', 'last_updated': '2023-07-26', 'family_tree': 'child', 'parent_id': 'e0caaea3-6ef4-4044-a876-9735d99b9b5f'}\n",
      "---------------------\n"
     ]
    }
   ],
   "source": [
    "response = opensearch_utils.search_document(os_client, query, eval_index_name)\n",
    "opensearch_utils.parse_keyword_response(response, show_size=3)"
   ]
  },
  {
   "cell_type": "code",
   "execution_count": 54,
   "metadata": {
    "tags": []
   },
   "outputs": [
    {
     "data": {
      "text/plain": [
       "[Document(page_content='. Batch &mdash; Lets the user scan multiple barcodes in a single camera frame using the scan button. Aim and scan &mdash; Requires the user to aim the camera at a set of barcodes and tap the Scan button to capture the barcodes, one at a time. Tap to select &mdash; Lets a user aim the camera at multiple barcodes, freeze the scanning overlay, tap to select barcodes, and tap the Scan button to capture data from the selected barcodes. Scan session limit This defines the number of barcodes a user must scan before the camera preview window closes. A counter in the top-left corner of the preview window gets updated after each scan. Once the user has scanned the set number of barcodes, the camera preview window closes and the user returns to the business app. Users can exit the camera preview window at any time by tapping Done, regardless of the number of barcodes captured. You can set any integer value. By default, this value is set to 0 to indicate infinite scans', metadata={'source': 'all_processed_data.json', 'seq_num': 11, 'title': 'Configure scan engine settings', 'url': 'https://docs.samsungknox.com/admin/knox-capture/how-to-guides/configure-scan-engine-settings', 'project': 'KCAP', 'last_updated': '2023-10-16', 'family_tree': 'child', 'parent_id': 'bd3a98eb-c261-49d5-b0f7-41b2ad4de730'}),\n",
       " Document(page_content='. #Scan mode Sets the primary capture mode for scanning. Available options: Setting , Option - , - Single scan (default) , Scans and parses one barcode at a time. Multi scan , Detects multiple barcodes in the scan area at the same time. #Single scan preferences Sets the way a user selects barcodes when interacting with the camera scanning UI in Single scan mode. Available options: Setting Options Barcode selection Automatic (default) &mdash; Captures the first-detected barcode without additional user input. Aim and scan &mdash; Requires the user to aim the camera at a barcode and tap the Scan button to capture barcode data. Continuous scanning Off (default) On &mdash; Allow device users to scan several barcodes in sequence (and have each scan be registered as a single event) without having to press the camera trigger button between each scan.1 1 Device users will see a Scan button in the camera preview window when they trigger a barcode scan', metadata={'source': 'all_processed_data.json', 'seq_num': 11, 'title': 'Configure scan engine settings', 'url': 'https://docs.samsungknox.com/admin/knox-capture/how-to-guides/configure-scan-engine-settings', 'project': 'KCAP', 'last_updated': '2023-10-16', 'family_tree': 'child', 'parent_id': 'bd3a98eb-c261-49d5-b0f7-41b2ad4de730'})]"
      ]
     },
     "execution_count": 54,
     "metadata": {},
     "output_type": "execute_result"
    }
   ],
   "source": [
    "eval_vector_db.similarity_search(q, k=2)"
   ]
  },
  {
   "cell_type": "code",
   "execution_count": null,
   "metadata": {},
   "outputs": [],
   "source": []
  }
 ],
 "metadata": {
  "availableInstances": [
   {
    "_defaultOrder": 0,
    "_isFastLaunch": true,
    "category": "General purpose",
    "gpuNum": 0,
    "hideHardwareSpecs": false,
    "memoryGiB": 4,
    "name": "ml.t3.medium",
    "vcpuNum": 2
   },
   {
    "_defaultOrder": 1,
    "_isFastLaunch": false,
    "category": "General purpose",
    "gpuNum": 0,
    "hideHardwareSpecs": false,
    "memoryGiB": 8,
    "name": "ml.t3.large",
    "vcpuNum": 2
   },
   {
    "_defaultOrder": 2,
    "_isFastLaunch": false,
    "category": "General purpose",
    "gpuNum": 0,
    "hideHardwareSpecs": false,
    "memoryGiB": 16,
    "name": "ml.t3.xlarge",
    "vcpuNum": 4
   },
   {
    "_defaultOrder": 3,
    "_isFastLaunch": false,
    "category": "General purpose",
    "gpuNum": 0,
    "hideHardwareSpecs": false,
    "memoryGiB": 32,
    "name": "ml.t3.2xlarge",
    "vcpuNum": 8
   },
   {
    "_defaultOrder": 4,
    "_isFastLaunch": true,
    "category": "General purpose",
    "gpuNum": 0,
    "hideHardwareSpecs": false,
    "memoryGiB": 8,
    "name": "ml.m5.large",
    "vcpuNum": 2
   },
   {
    "_defaultOrder": 5,
    "_isFastLaunch": false,
    "category": "General purpose",
    "gpuNum": 0,
    "hideHardwareSpecs": false,
    "memoryGiB": 16,
    "name": "ml.m5.xlarge",
    "vcpuNum": 4
   },
   {
    "_defaultOrder": 6,
    "_isFastLaunch": false,
    "category": "General purpose",
    "gpuNum": 0,
    "hideHardwareSpecs": false,
    "memoryGiB": 32,
    "name": "ml.m5.2xlarge",
    "vcpuNum": 8
   },
   {
    "_defaultOrder": 7,
    "_isFastLaunch": false,
    "category": "General purpose",
    "gpuNum": 0,
    "hideHardwareSpecs": false,
    "memoryGiB": 64,
    "name": "ml.m5.4xlarge",
    "vcpuNum": 16
   },
   {
    "_defaultOrder": 8,
    "_isFastLaunch": false,
    "category": "General purpose",
    "gpuNum": 0,
    "hideHardwareSpecs": false,
    "memoryGiB": 128,
    "name": "ml.m5.8xlarge",
    "vcpuNum": 32
   },
   {
    "_defaultOrder": 9,
    "_isFastLaunch": false,
    "category": "General purpose",
    "gpuNum": 0,
    "hideHardwareSpecs": false,
    "memoryGiB": 192,
    "name": "ml.m5.12xlarge",
    "vcpuNum": 48
   },
   {
    "_defaultOrder": 10,
    "_isFastLaunch": false,
    "category": "General purpose",
    "gpuNum": 0,
    "hideHardwareSpecs": false,
    "memoryGiB": 256,
    "name": "ml.m5.16xlarge",
    "vcpuNum": 64
   },
   {
    "_defaultOrder": 11,
    "_isFastLaunch": false,
    "category": "General purpose",
    "gpuNum": 0,
    "hideHardwareSpecs": false,
    "memoryGiB": 384,
    "name": "ml.m5.24xlarge",
    "vcpuNum": 96
   },
   {
    "_defaultOrder": 12,
    "_isFastLaunch": false,
    "category": "General purpose",
    "gpuNum": 0,
    "hideHardwareSpecs": false,
    "memoryGiB": 8,
    "name": "ml.m5d.large",
    "vcpuNum": 2
   },
   {
    "_defaultOrder": 13,
    "_isFastLaunch": false,
    "category": "General purpose",
    "gpuNum": 0,
    "hideHardwareSpecs": false,
    "memoryGiB": 16,
    "name": "ml.m5d.xlarge",
    "vcpuNum": 4
   },
   {
    "_defaultOrder": 14,
    "_isFastLaunch": false,
    "category": "General purpose",
    "gpuNum": 0,
    "hideHardwareSpecs": false,
    "memoryGiB": 32,
    "name": "ml.m5d.2xlarge",
    "vcpuNum": 8
   },
   {
    "_defaultOrder": 15,
    "_isFastLaunch": false,
    "category": "General purpose",
    "gpuNum": 0,
    "hideHardwareSpecs": false,
    "memoryGiB": 64,
    "name": "ml.m5d.4xlarge",
    "vcpuNum": 16
   },
   {
    "_defaultOrder": 16,
    "_isFastLaunch": false,
    "category": "General purpose",
    "gpuNum": 0,
    "hideHardwareSpecs": false,
    "memoryGiB": 128,
    "name": "ml.m5d.8xlarge",
    "vcpuNum": 32
   },
   {
    "_defaultOrder": 17,
    "_isFastLaunch": false,
    "category": "General purpose",
    "gpuNum": 0,
    "hideHardwareSpecs": false,
    "memoryGiB": 192,
    "name": "ml.m5d.12xlarge",
    "vcpuNum": 48
   },
   {
    "_defaultOrder": 18,
    "_isFastLaunch": false,
    "category": "General purpose",
    "gpuNum": 0,
    "hideHardwareSpecs": false,
    "memoryGiB": 256,
    "name": "ml.m5d.16xlarge",
    "vcpuNum": 64
   },
   {
    "_defaultOrder": 19,
    "_isFastLaunch": false,
    "category": "General purpose",
    "gpuNum": 0,
    "hideHardwareSpecs": false,
    "memoryGiB": 384,
    "name": "ml.m5d.24xlarge",
    "vcpuNum": 96
   },
   {
    "_defaultOrder": 20,
    "_isFastLaunch": false,
    "category": "General purpose",
    "gpuNum": 0,
    "hideHardwareSpecs": true,
    "memoryGiB": 0,
    "name": "ml.geospatial.interactive",
    "supportedImageNames": [
     "sagemaker-geospatial-v1-0"
    ],
    "vcpuNum": 0
   },
   {
    "_defaultOrder": 21,
    "_isFastLaunch": true,
    "category": "Compute optimized",
    "gpuNum": 0,
    "hideHardwareSpecs": false,
    "memoryGiB": 4,
    "name": "ml.c5.large",
    "vcpuNum": 2
   },
   {
    "_defaultOrder": 22,
    "_isFastLaunch": false,
    "category": "Compute optimized",
    "gpuNum": 0,
    "hideHardwareSpecs": false,
    "memoryGiB": 8,
    "name": "ml.c5.xlarge",
    "vcpuNum": 4
   },
   {
    "_defaultOrder": 23,
    "_isFastLaunch": false,
    "category": "Compute optimized",
    "gpuNum": 0,
    "hideHardwareSpecs": false,
    "memoryGiB": 16,
    "name": "ml.c5.2xlarge",
    "vcpuNum": 8
   },
   {
    "_defaultOrder": 24,
    "_isFastLaunch": false,
    "category": "Compute optimized",
    "gpuNum": 0,
    "hideHardwareSpecs": false,
    "memoryGiB": 32,
    "name": "ml.c5.4xlarge",
    "vcpuNum": 16
   },
   {
    "_defaultOrder": 25,
    "_isFastLaunch": false,
    "category": "Compute optimized",
    "gpuNum": 0,
    "hideHardwareSpecs": false,
    "memoryGiB": 72,
    "name": "ml.c5.9xlarge",
    "vcpuNum": 36
   },
   {
    "_defaultOrder": 26,
    "_isFastLaunch": false,
    "category": "Compute optimized",
    "gpuNum": 0,
    "hideHardwareSpecs": false,
    "memoryGiB": 96,
    "name": "ml.c5.12xlarge",
    "vcpuNum": 48
   },
   {
    "_defaultOrder": 27,
    "_isFastLaunch": false,
    "category": "Compute optimized",
    "gpuNum": 0,
    "hideHardwareSpecs": false,
    "memoryGiB": 144,
    "name": "ml.c5.18xlarge",
    "vcpuNum": 72
   },
   {
    "_defaultOrder": 28,
    "_isFastLaunch": false,
    "category": "Compute optimized",
    "gpuNum": 0,
    "hideHardwareSpecs": false,
    "memoryGiB": 192,
    "name": "ml.c5.24xlarge",
    "vcpuNum": 96
   },
   {
    "_defaultOrder": 29,
    "_isFastLaunch": true,
    "category": "Accelerated computing",
    "gpuNum": 1,
    "hideHardwareSpecs": false,
    "memoryGiB": 16,
    "name": "ml.g4dn.xlarge",
    "vcpuNum": 4
   },
   {
    "_defaultOrder": 30,
    "_isFastLaunch": false,
    "category": "Accelerated computing",
    "gpuNum": 1,
    "hideHardwareSpecs": false,
    "memoryGiB": 32,
    "name": "ml.g4dn.2xlarge",
    "vcpuNum": 8
   },
   {
    "_defaultOrder": 31,
    "_isFastLaunch": false,
    "category": "Accelerated computing",
    "gpuNum": 1,
    "hideHardwareSpecs": false,
    "memoryGiB": 64,
    "name": "ml.g4dn.4xlarge",
    "vcpuNum": 16
   },
   {
    "_defaultOrder": 32,
    "_isFastLaunch": false,
    "category": "Accelerated computing",
    "gpuNum": 1,
    "hideHardwareSpecs": false,
    "memoryGiB": 128,
    "name": "ml.g4dn.8xlarge",
    "vcpuNum": 32
   },
   {
    "_defaultOrder": 33,
    "_isFastLaunch": false,
    "category": "Accelerated computing",
    "gpuNum": 4,
    "hideHardwareSpecs": false,
    "memoryGiB": 192,
    "name": "ml.g4dn.12xlarge",
    "vcpuNum": 48
   },
   {
    "_defaultOrder": 34,
    "_isFastLaunch": false,
    "category": "Accelerated computing",
    "gpuNum": 1,
    "hideHardwareSpecs": false,
    "memoryGiB": 256,
    "name": "ml.g4dn.16xlarge",
    "vcpuNum": 64
   },
   {
    "_defaultOrder": 35,
    "_isFastLaunch": false,
    "category": "Accelerated computing",
    "gpuNum": 1,
    "hideHardwareSpecs": false,
    "memoryGiB": 61,
    "name": "ml.p3.2xlarge",
    "vcpuNum": 8
   },
   {
    "_defaultOrder": 36,
    "_isFastLaunch": false,
    "category": "Accelerated computing",
    "gpuNum": 4,
    "hideHardwareSpecs": false,
    "memoryGiB": 244,
    "name": "ml.p3.8xlarge",
    "vcpuNum": 32
   },
   {
    "_defaultOrder": 37,
    "_isFastLaunch": false,
    "category": "Accelerated computing",
    "gpuNum": 8,
    "hideHardwareSpecs": false,
    "memoryGiB": 488,
    "name": "ml.p3.16xlarge",
    "vcpuNum": 64
   },
   {
    "_defaultOrder": 38,
    "_isFastLaunch": false,
    "category": "Accelerated computing",
    "gpuNum": 8,
    "hideHardwareSpecs": false,
    "memoryGiB": 768,
    "name": "ml.p3dn.24xlarge",
    "vcpuNum": 96
   },
   {
    "_defaultOrder": 39,
    "_isFastLaunch": false,
    "category": "Memory Optimized",
    "gpuNum": 0,
    "hideHardwareSpecs": false,
    "memoryGiB": 16,
    "name": "ml.r5.large",
    "vcpuNum": 2
   },
   {
    "_defaultOrder": 40,
    "_isFastLaunch": false,
    "category": "Memory Optimized",
    "gpuNum": 0,
    "hideHardwareSpecs": false,
    "memoryGiB": 32,
    "name": "ml.r5.xlarge",
    "vcpuNum": 4
   },
   {
    "_defaultOrder": 41,
    "_isFastLaunch": false,
    "category": "Memory Optimized",
    "gpuNum": 0,
    "hideHardwareSpecs": false,
    "memoryGiB": 64,
    "name": "ml.r5.2xlarge",
    "vcpuNum": 8
   },
   {
    "_defaultOrder": 42,
    "_isFastLaunch": false,
    "category": "Memory Optimized",
    "gpuNum": 0,
    "hideHardwareSpecs": false,
    "memoryGiB": 128,
    "name": "ml.r5.4xlarge",
    "vcpuNum": 16
   },
   {
    "_defaultOrder": 43,
    "_isFastLaunch": false,
    "category": "Memory Optimized",
    "gpuNum": 0,
    "hideHardwareSpecs": false,
    "memoryGiB": 256,
    "name": "ml.r5.8xlarge",
    "vcpuNum": 32
   },
   {
    "_defaultOrder": 44,
    "_isFastLaunch": false,
    "category": "Memory Optimized",
    "gpuNum": 0,
    "hideHardwareSpecs": false,
    "memoryGiB": 384,
    "name": "ml.r5.12xlarge",
    "vcpuNum": 48
   },
   {
    "_defaultOrder": 45,
    "_isFastLaunch": false,
    "category": "Memory Optimized",
    "gpuNum": 0,
    "hideHardwareSpecs": false,
    "memoryGiB": 512,
    "name": "ml.r5.16xlarge",
    "vcpuNum": 64
   },
   {
    "_defaultOrder": 46,
    "_isFastLaunch": false,
    "category": "Memory Optimized",
    "gpuNum": 0,
    "hideHardwareSpecs": false,
    "memoryGiB": 768,
    "name": "ml.r5.24xlarge",
    "vcpuNum": 96
   },
   {
    "_defaultOrder": 47,
    "_isFastLaunch": false,
    "category": "Accelerated computing",
    "gpuNum": 1,
    "hideHardwareSpecs": false,
    "memoryGiB": 16,
    "name": "ml.g5.xlarge",
    "vcpuNum": 4
   },
   {
    "_defaultOrder": 48,
    "_isFastLaunch": false,
    "category": "Accelerated computing",
    "gpuNum": 1,
    "hideHardwareSpecs": false,
    "memoryGiB": 32,
    "name": "ml.g5.2xlarge",
    "vcpuNum": 8
   },
   {
    "_defaultOrder": 49,
    "_isFastLaunch": false,
    "category": "Accelerated computing",
    "gpuNum": 1,
    "hideHardwareSpecs": false,
    "memoryGiB": 64,
    "name": "ml.g5.4xlarge",
    "vcpuNum": 16
   },
   {
    "_defaultOrder": 50,
    "_isFastLaunch": false,
    "category": "Accelerated computing",
    "gpuNum": 1,
    "hideHardwareSpecs": false,
    "memoryGiB": 128,
    "name": "ml.g5.8xlarge",
    "vcpuNum": 32
   },
   {
    "_defaultOrder": 51,
    "_isFastLaunch": false,
    "category": "Accelerated computing",
    "gpuNum": 1,
    "hideHardwareSpecs": false,
    "memoryGiB": 256,
    "name": "ml.g5.16xlarge",
    "vcpuNum": 64
   },
   {
    "_defaultOrder": 52,
    "_isFastLaunch": false,
    "category": "Accelerated computing",
    "gpuNum": 4,
    "hideHardwareSpecs": false,
    "memoryGiB": 192,
    "name": "ml.g5.12xlarge",
    "vcpuNum": 48
   },
   {
    "_defaultOrder": 53,
    "_isFastLaunch": false,
    "category": "Accelerated computing",
    "gpuNum": 4,
    "hideHardwareSpecs": false,
    "memoryGiB": 384,
    "name": "ml.g5.24xlarge",
    "vcpuNum": 96
   },
   {
    "_defaultOrder": 54,
    "_isFastLaunch": false,
    "category": "Accelerated computing",
    "gpuNum": 8,
    "hideHardwareSpecs": false,
    "memoryGiB": 768,
    "name": "ml.g5.48xlarge",
    "vcpuNum": 192
   },
   {
    "_defaultOrder": 55,
    "_isFastLaunch": false,
    "category": "Accelerated computing",
    "gpuNum": 8,
    "hideHardwareSpecs": false,
    "memoryGiB": 1152,
    "name": "ml.p4d.24xlarge",
    "vcpuNum": 96
   },
   {
    "_defaultOrder": 56,
    "_isFastLaunch": false,
    "category": "Accelerated computing",
    "gpuNum": 8,
    "hideHardwareSpecs": false,
    "memoryGiB": 1152,
    "name": "ml.p4de.24xlarge",
    "vcpuNum": 96
   }
  ],
  "instance_type": "ml.m5.xlarge",
  "kernelspec": {
   "display_name": "Python 3 (Data Science 3.0)",
   "language": "python",
   "name": "python3__SAGEMAKER_INTERNAL__arn:aws:sagemaker:us-east-1:081325390199:image/sagemaker-data-science-310-v1"
  },
  "language_info": {
   "codemirror_mode": {
    "name": "ipython",
    "version": 3
   },
   "file_extension": ".py",
   "mimetype": "text/x-python",
   "name": "python",
   "nbconvert_exporter": "python",
   "pygments_lexer": "ipython3",
   "version": "3.10.6"
  }
 },
 "nbformat": 4,
 "nbformat_minor": 4
}
