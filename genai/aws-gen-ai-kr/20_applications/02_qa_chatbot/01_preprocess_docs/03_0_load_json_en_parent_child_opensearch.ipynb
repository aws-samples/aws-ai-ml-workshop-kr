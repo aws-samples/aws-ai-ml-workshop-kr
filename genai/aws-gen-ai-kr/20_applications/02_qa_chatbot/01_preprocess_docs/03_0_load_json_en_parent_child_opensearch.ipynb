{
 "cells": [
  {
   "cell_type": "markdown",
   "metadata": {
    "tags": []
   },
   "source": [
    "# Parent-Child Chunk 를 OpenSearch 에 저장\n",
    "\n",
    "이 노트북은 전체 문서를 Parent, Child 문서로 구분을 하여 오픈 서치 벡터스토어에 저장을 하고, 테스트를 하는 노트북 입니다. 또한 일부 문서로 검증 인덱스를 생성하여 테스트 용으로 만들기 위한 노트북 입니다.\n",
    "\n",
    "---"
   ]
  },
  {
   "cell_type": "markdown",
   "metadata": {},
   "source": [
    "## [중요] 사전 실행 노트북\n",
    "이 노트북은 아래 두개의 셋업 노트북이 먼저 실행이 되어야 합니다.\n",
    "- (1) Setup 노트북\n",
    "    - 경로는 aws-ai-ml-workshop-kr/genai/aws-gen-ai-kr/00_setup/setup.ipynb 와 같습니다.\n",
    "    -  [Setup Notebook](https://github.com/aws-samples/aws-ai-ml-workshop-kr/blob/master/genai/aws-gen-ai-kr/00_setup/setup.ipynb)\n",
    "- (2) Amazon OpenSearch 설치 노트북    \n",
    "    - 경로는 aws-ai-ml-workshop-kr/genai/aws-gen-ai-kr/00_setup/setup_opensearch.ipynb 와 같습니다.\n",
    "    - [Setup OpenSearch](https://github.com/aws-samples/aws-ai-ml-workshop-kr/blob/master/genai/aws-gen-ai-kr/00_setup/setup_opensearch.ipynb)\n",
    "    - 위 노트북을 통하여 아래와 같은 정보를 이 노트북에서 사용합니다.\n",
    "        - opensearch_domain_endpoint\n",
    "        - opensearch_user_id\n",
    "        - opensearch_user_password"
   ]
  },
  {
   "cell_type": "markdown",
   "metadata": {},
   "source": [
    "## [중요] 노트북 생성 결과 \n",
    "이 노트북을 실행을 하고 나면 Parameter Store 에 두개의 오픈 서치 인덱스 이름이 저장 됩니다. 다음 노트북에서 아래의 변수 이름으로 값을 찾아서 사용하게 됩니다.\n",
    "- opensearch_index_name\n",
    "- opensearch_evaluation_index_name"
   ]
  },
  {
   "cell_type": "markdown",
   "metadata": {
    "tags": []
   },
   "source": [
    "# 1. Bedrock Client 생성"
   ]
  },
  {
   "cell_type": "code",
   "execution_count": 1,
   "metadata": {
    "tags": []
   },
   "outputs": [
    {
     "name": "stdout",
     "output_type": "stream",
     "text": [
      "python path: /home/ec2-user/SageMaker/aws-ai-ml-workshop-kr/genai/aws-gen-ai-kr/20_applications/02_qa_chatbot is added\n",
      "sys.path:  ['/home/ec2-user/SageMaker/aws-ai-ml-workshop-kr/genai/aws-gen-ai-kr/20_applications/02_qa_chatbot/01_preprocess_docs', '/home/ec2-user/anaconda3/envs/python3/lib/python310.zip', '/home/ec2-user/anaconda3/envs/python3/lib/python3.10', '/home/ec2-user/anaconda3/envs/python3/lib/python3.10/lib-dynload', '', '/home/ec2-user/anaconda3/envs/python3/lib/python3.10/site-packages', '/home/ec2-user/SageMaker/aws-ai-ml-workshop-kr/genai/aws-gen-ai-kr/20_applications/02_qa_chatbot']\n",
      "python path: /home/ec2-user/SageMaker/aws-ai-ml-workshop-kr/genai/aws-gen-ai-kr is added\n",
      "sys.path:  ['/home/ec2-user/SageMaker/aws-ai-ml-workshop-kr/genai/aws-gen-ai-kr/20_applications/02_qa_chatbot/01_preprocess_docs', '/home/ec2-user/anaconda3/envs/python3/lib/python310.zip', '/home/ec2-user/anaconda3/envs/python3/lib/python3.10', '/home/ec2-user/anaconda3/envs/python3/lib/python3.10/lib-dynload', '', '/home/ec2-user/anaconda3/envs/python3/lib/python3.10/site-packages', '/home/ec2-user/SageMaker/aws-ai-ml-workshop-kr/genai/aws-gen-ai-kr/20_applications/02_qa_chatbot', '/home/ec2-user/SageMaker/aws-ai-ml-workshop-kr/genai/aws-gen-ai-kr']\n"
     ]
    }
   ],
   "source": [
    "%load_ext autoreload\n",
    "%autoreload 2\n",
    "\n",
    "import sys, os\n",
    "def add_python_path(module_path):\n",
    "    if os.path.abspath(module_path) not in sys.path:\n",
    "        sys.path.append(os.path.abspath(module_path))\n",
    "        print(f\"python path: {os.path.abspath(module_path)} is added\")\n",
    "    else:\n",
    "        print(f\"python path: {os.path.abspath(module_path)} already exists\")\n",
    "    print(\"sys.path: \", sys.path)\n",
    "\n",
    "module_path = \"..\"\n",
    "add_python_path(module_path)\n",
    "\n",
    "module_path = \"../../..\"\n",
    "add_python_path(module_path)\n"
   ]
  },
  {
   "cell_type": "code",
   "execution_count": 2,
   "metadata": {
    "tags": []
   },
   "outputs": [
    {
     "name": "stdout",
     "output_type": "stream",
     "text": [
      "Create new client\n",
      "  Using region: None\n",
      "  Using profile: None\n",
      "boto3 Bedrock client successfully created!\n",
      "bedrock-runtime(https://bedrock-runtime.us-east-1.amazonaws.com)\n",
      "\u001b[32m\n",
      "== FM lists ==\u001b[0m\n",
      "{'Claude-Instant-V1': 'anthropic.claude-instant-v1',\n",
      " 'Claude-V1': 'anthropic.claude-v1',\n",
      " 'Claude-V2': 'anthropic.claude-v2',\n",
      " 'Claude-V2-1': 'anthropic.claude-v2:1',\n",
      " 'Claude-V3-Haiku': 'anthropic.claude-3-haiku-20240307-v1:0',\n",
      " 'Claude-V3-Sonnet': 'anthropic.claude-3-sonnet-20240229-v1:0',\n",
      " 'Cohere-Embeddings-En': 'cohere.embed-english-v3',\n",
      " 'Cohere-Embeddings-Multilingual': 'cohere.embed-multilingual-v3',\n",
      " 'Command': 'cohere.command-text-v14',\n",
      " 'Command-Light': 'cohere.command-light-text-v14',\n",
      " 'Jurassic-2-Mid': 'ai21.j2-mid-v1',\n",
      " 'Jurassic-2-Ultra': 'ai21.j2-ultra-v1',\n",
      " 'Llama2-13b-Chat': 'meta.llama2-13b-chat-v1',\n",
      " 'Titan-Embeddings-G1': 'amazon.titan-embed-text-v1',\n",
      " 'Titan-Text-G1': 'amazon.titan-text-express-v1',\n",
      " 'Titan-Text-G1-Light': 'amazon.titan-text-lite-v1'}\n"
     ]
    }
   ],
   "source": [
    "import json\n",
    "import boto3\n",
    "from pprint import pprint\n",
    "from termcolor import colored\n",
    "from utils import bedrock, print_ww\n",
    "from utils.bedrock import bedrock_info\n",
    "\n",
    "# ---- ⚠️ Un-comment and edit the below lines as needed for your AWS setup ⚠️ ----\n",
    "\n",
    "# os.environ[\"AWS_DEFAULT_REGION\"] = \"<REGION_NAME>\"  # E.g. \"us-east-1\"\n",
    "# os.environ[\"AWS_PROFILE\"] = \"<YOUR_PROFILE>\"\n",
    "# os.environ[\"BEDROCK_ASSUME_ROLE\"] = \"<YOUR_ROLE_ARN>\"  # E.g. \"arn:aws:...\"\n",
    "# os.environ[\"BEDROCK_ENDPOINT_URL\"] = \"<YOUR_ENDPOINT_URL>\"  # E.g. \"https://...\"\n",
    "\n",
    "\n",
    "boto3_bedrock = bedrock.get_bedrock_client(\n",
    "    assumed_role=os.environ.get(\"BEDROCK_ASSUME_ROLE\", None),\n",
    "    endpoint_url=os.environ.get(\"BEDROCK_ENDPOINT_URL\", None),\n",
    "    region=os.environ.get(\"AWS_DEFAULT_REGION\", None),\n",
    ")\n",
    "\n",
    "print(colored(\"\\n== FM lists ==\", \"green\"))\n",
    "pprint(bedrock_info.get_list_fm_models())"
   ]
  },
  {
   "cell_type": "markdown",
   "metadata": {},
   "source": [
    "# 2. Embedding 모델 로딩"
   ]
  },
  {
   "cell_type": "markdown",
   "metadata": {},
   "source": [
    "## Embedding Model 선택"
   ]
  },
  {
   "cell_type": "code",
   "execution_count": 3,
   "metadata": {
    "tags": []
   },
   "outputs": [],
   "source": [
    "Use_Titan_Embedding = True\n",
    "Use_Cohere_English_Embedding = False"
   ]
  },
  {
   "cell_type": "markdown",
   "metadata": {},
   "source": [
    "## Embedding Model 로딩"
   ]
  },
  {
   "cell_type": "code",
   "execution_count": 4,
   "metadata": {
    "tags": []
   },
   "outputs": [
    {
     "data": {
      "text/plain": [
       "BedrockEmbeddings(client=<botocore.client.BedrockRuntime object at 0x7f2d201fca90>, region_name=None, credentials_profile_name=None, model_id='amazon.titan-embed-text-v1', model_kwargs=None, endpoint_url=None, normalize=False)"
      ]
     },
     "execution_count": 4,
     "metadata": {},
     "output_type": "execute_result"
    }
   ],
   "source": [
    "# We will be using the Titan Embeddings Model to generate our Embeddings.\n",
    "from langchain.embeddings import BedrockEmbeddings\n",
    "\n",
    "if Use_Titan_Embedding:\n",
    "    llm_emb = BedrockEmbeddings(client=boto3_bedrock, model_id = \"amazon.titan-embed-text-v1\")\n",
    "    dimension = 1536\n",
    "elif Use_Cohere_English_Embedding:\n",
    "    llm_emb = BedrockEmbeddings(client=boto3_bedrock, model_id = \"cohere.embed-english-v3\")    \n",
    "    dimension = 1024\n",
    "else:\n",
    "    lim_emb = None\n",
    "\n",
    "llm_emb"
   ]
  },
  {
   "cell_type": "markdown",
   "metadata": {
    "tags": []
   },
   "source": [
    "# 3. Load all Json files"
   ]
  },
  {
   "cell_type": "code",
   "execution_count": 5,
   "metadata": {
    "tags": []
   },
   "outputs": [],
   "source": [
    "from local_utils.proc_docs import get_load_json, show_doc_json"
   ]
  },
  {
   "cell_type": "code",
   "execution_count": 6,
   "metadata": {
    "tags": []
   },
   "outputs": [
    {
     "name": "stdout",
     "output_type": "stream",
     "text": [
      ".[]\n",
      "all json files:  1\n",
      "all items:  1732\n"
     ]
    }
   ],
   "source": [
    "import glob\n",
    "\n",
    "# Specify the directory and file pattern for .txt files\n",
    "folder_path = 'data/poc/preprocessed_json/all_processed_data.json'\n",
    "\n",
    "# List all .txt files in the specified folder\n",
    "json_files = glob.glob(folder_path)\n",
    "# json_files = ['data/poc/customer_EFOTA.json']\n",
    "\n",
    "# Load each item per json file and append to a list\n",
    "doc_json_list = []\n",
    "for file_path in json_files:\n",
    "    doc_json = get_load_json(file_path)\n",
    "    doc_json_list.append(doc_json)\n",
    "\n",
    "print(\"all json files: \", len(doc_json_list))    \n",
    "# Flatten the list of lists into a single list\n",
    "all_docs = []\n",
    "for item in doc_json_list:\n",
    "        all_docs.extend(item)\n",
    "        \n",
    "print(\"all items: \", len(all_docs))"
   ]
  },
  {
   "cell_type": "markdown",
   "metadata": {
    "tags": []
   },
   "source": [
    "# 4. Index 생성"
   ]
  },
  {
   "cell_type": "markdown",
   "metadata": {
    "tags": []
   },
   "source": [
    "## Index 이름 결정"
   ]
  },
  {
   "cell_type": "code",
   "execution_count": 7,
   "metadata": {
    "tags": []
   },
   "outputs": [],
   "source": [
    "index_name = \"<Type index name>\"\n",
    "index_name = \"v01-genai-poc-parent-doc-retriever\""
   ]
  },
  {
   "cell_type": "markdown",
   "metadata": {
    "tags": []
   },
   "source": [
    "## Index 스키마 정의"
   ]
  },
  {
   "cell_type": "code",
   "execution_count": 8,
   "metadata": {
    "tags": []
   },
   "outputs": [],
   "source": [
    "index_body = {\n",
    "    'settings': {\n",
    "        'index': {\n",
    "            'knn': True,\n",
    "            'knn.space_type': 'cosinesimil'  # Example space type\n",
    "        }\n",
    "    },\n",
    "    'mappings': {\n",
    "        'properties': {\n",
    "            'metadata': {\n",
    "                'properties': {\n",
    "                               'source' : {'type': 'keyword'},\n",
    "                               'family_tree' : {'type': 'keyword'},                                        \n",
    "                               'parent_id' : {'type': 'keyword'},                    \n",
    "                               'last_updated': {'type': 'date'},\n",
    "                               'project': {'type': 'keyword'},\n",
    "                               'seq_num': {'type': 'long'},\n",
    "                               'title': {'type': 'text'},  # For full-text search\n",
    "                               'url': {'type': 'text'},  # For full-text search\n",
    "                            }\n",
    "            },            \n",
    "            'text': {\n",
    "                'type': 'text'\n",
    "            },\n",
    "            'vector_field': {\n",
    "                'type': 'knn_vector',\n",
    "                'dimension': f\"{dimension}\"  # Replace with your vector dimension\n",
    "            }\n",
    "        }\n",
    "    }\n",
    "}\n"
   ]
  },
  {
   "cell_type": "markdown",
   "metadata": {
    "tags": []
   },
   "source": [
    "# 5. LangChain OpenSearch VectorStore 생성 \n",
    "## 선수 조건\n"
   ]
  },
  {
   "cell_type": "markdown",
   "metadata": {
    "tags": []
   },
   "source": [
    "## 오픈 서치 도메인 및 인증 정보 세팅\n",
    "\n",
    "- [langchain.vectorstores.opensearch_vector_search.OpenSearchVectorSearch](https://api.python.langchain.com/en/latest/vectorstores/langchain.vectorstores.opensearch_vector_search.OpenSearchVectorSearch.html)"
   ]
  },
  {
   "cell_type": "markdown",
   "metadata": {},
   "source": [
    "#### [중요] 아래에 aws parameter store 에 아래 인증정보가 먼저 입력되어 있어야 합니다."
   ]
  },
  {
   "cell_type": "code",
   "execution_count": 9,
   "metadata": {
    "tags": []
   },
   "outputs": [],
   "source": [
    "from local_utils.proc_docs import get_parameter"
   ]
  },
  {
   "cell_type": "code",
   "execution_count": 10,
   "metadata": {
    "tags": []
   },
   "outputs": [],
   "source": [
    "import boto3\n",
    "region = boto3.Session().region_name\n",
    "ssm = boto3.client('ssm', region)\n",
    "\n",
    "\n",
    "opensearch_domain_endpoint = get_parameter(\n",
    "    boto3_clinet = ssm,\n",
    "    parameter_name = 'opensearch_domain_endpoint',\n",
    ")\n",
    "\n",
    "opensearch_user_id = get_parameter(\n",
    "    boto3_clinet = ssm,\n",
    "    parameter_name = 'opensearch_user_id',\n",
    ")\n",
    "\n",
    "opensearch_user_password = get_parameter(\n",
    "    boto3_clinet = ssm,\n",
    "    parameter_name = 'opensearch_user_password',\n",
    ")\n"
   ]
  },
  {
   "cell_type": "code",
   "execution_count": 11,
   "metadata": {
    "tags": []
   },
   "outputs": [],
   "source": [
    "opensearch_domain_endpoint = opensearch_domain_endpoint\n",
    "rag_user_name = opensearch_user_id\n",
    "rag_user_password = opensearch_user_password\n",
    "\n",
    "http_auth = (rag_user_name, rag_user_password) # Master username, Master password"
   ]
  },
  {
   "cell_type": "markdown",
   "metadata": {},
   "source": [
    "## OpenSearch Client 생성"
   ]
  },
  {
   "cell_type": "code",
   "execution_count": 12,
   "metadata": {
    "tags": []
   },
   "outputs": [],
   "source": [
    "from local_utils.opensearch import opensearch_utils"
   ]
  },
  {
   "cell_type": "code",
   "execution_count": 13,
   "metadata": {
    "tags": []
   },
   "outputs": [],
   "source": [
    "aws_region = os.environ.get(\"AWS_DEFAULT_REGION\", None)\n",
    "\n",
    "os_client = opensearch_utils.create_aws_opensearch_client(\n",
    "    aws_region,\n",
    "    opensearch_domain_endpoint,\n",
    "    http_auth\n",
    ")"
   ]
  },
  {
   "cell_type": "markdown",
   "metadata": {},
   "source": [
    "## 오픈 서치 인덱스 생성 \n",
    "- 오픈 서치에 해당 인덱스가 존재하면, 삭제 합니다. "
   ]
  },
  {
   "cell_type": "code",
   "execution_count": 14,
   "metadata": {
    "tags": []
   },
   "outputs": [],
   "source": [
    "from local_utils.opensearch import opensearch_utils"
   ]
  },
  {
   "cell_type": "code",
   "execution_count": 15,
   "metadata": {
    "tags": []
   },
   "outputs": [
    {
     "name": "stdout",
     "output_type": "stream",
     "text": [
      "index_name=v01-genai-poc-parent-doc-retriever, exists=False\n",
      "\n",
      "Creating index:\n",
      "{'acknowledged': True, 'shards_acknowledged': True, 'index': 'v01-genai-poc-parent-doc-retriever'}\n",
      "Index is created\n",
      "{'v01-genai-poc-parent-doc-retriever': {'aliases': {},\n",
      "                                        'mappings': {'properties': {'metadata': {'properties': {'family_tree': {'type': 'keyword'},\n",
      "                                                                                                'last_updated': {'type': 'date'},\n",
      "                                                                                                'parent_id': {'type': 'keyword'},\n",
      "                                                                                                'project': {'type': 'keyword'},\n",
      "                                                                                                'seq_num': {'type': 'long'},\n",
      "                                                                                                'source': {'type': 'keyword'},\n",
      "                                                                                                'title': {'type': 'text'},\n",
      "                                                                                                'url': {'type': 'text'}}},\n",
      "                                                                    'text': {'type': 'text'},\n",
      "                                                                    'vector_field': {'dimension': 1536,\n",
      "                                                                                     'type': 'knn_vector'}}},\n",
      "                                        'settings': {'index': {'creation_date': '1711697829089',\n",
      "                                                               'knn': 'true',\n",
      "                                                               'knn.space_type': 'cosinesimil',\n",
      "                                                               'number_of_replicas': '1',\n",
      "                                                               'number_of_shards': '5',\n",
      "                                                               'provided_name': 'v01-genai-poc-parent-doc-retriever',\n",
      "                                                               'replication': {'type': 'DOCUMENT'},\n",
      "                                                               'uuid': 'pX8yVFcGS2OYRj3-CWmgNA',\n",
      "                                                               'version': {'created': '136327827'}}}}}\n"
     ]
    }
   ],
   "source": [
    "\n",
    "index_exists = opensearch_utils.check_if_index_exists(\n",
    "    os_client,\n",
    "    index_name\n",
    ")\n",
    "\n",
    "if index_exists:\n",
    "    opensearch_utils.delete_index(\n",
    "        os_client,\n",
    "        index_name\n",
    "    )\n",
    "\n",
    "opensearch_utils.create_index(os_client, index_name, index_body)\n",
    "index_info = os_client.indices.get(index=index_name)\n",
    "print(\"Index is created\")\n",
    "pprint(index_info)"
   ]
  },
  {
   "cell_type": "markdown",
   "metadata": {},
   "source": [
    "## [중요] Parameter Store 에 index name 저장\n",
    "- opensearch_index_name 변수 값을 추후 노트북에서 사용합니다."
   ]
  },
  {
   "cell_type": "code",
   "execution_count": 16,
   "metadata": {
    "tags": []
   },
   "outputs": [
    {
     "name": "stdout",
     "output_type": "stream",
     "text": [
      "Parameter stored successfully.\n",
      "{'Version': 24, 'Tier': 'Standard', 'ResponseMetadata': {'RequestId': 'e4ff9544-b366-481b-88ee-fb2d545d1cc7', 'HTTPStatusCode': 200, 'HTTPHeaders': {'server': 'Server', 'date': 'Fri, 29 Mar 2024 07:37:09 GMT', 'content-type': 'application/x-amz-json-1.1', 'content-length': '32', 'connection': 'keep-alive', 'x-amzn-requestid': 'e4ff9544-b366-481b-88ee-fb2d545d1cc7'}, 'RetryAttempts': 0}}\n"
     ]
    }
   ],
   "source": [
    "from local_utils.proc_docs import put_parameter\n",
    "\n",
    "put_parameter(\n",
    "    boto3_clinet = ssm, \n",
    "    parameter_name = \"opensearch_index_name\",\n",
    "    parameter_value = f'{index_name}'\n",
    ")"
   ]
  },
  {
   "cell_type": "code",
   "execution_count": 17,
   "metadata": {
    "tags": []
   },
   "outputs": [
    {
     "name": "stdout",
     "output_type": "stream",
     "text": [
      "opensearch_index_name:  v01-genai-poc-parent-doc-retriever\n"
     ]
    }
   ],
   "source": [
    "opensearch_index_name = get_parameter(\n",
    "    boto3_clinet = ssm,\n",
    "    parameter_name = 'opensearch_index_name',\n",
    ")\n",
    "\n",
    "print (\"opensearch_index_name: \", opensearch_index_name)\n",
    "\n"
   ]
  },
  {
   "cell_type": "markdown",
   "metadata": {
    "tags": []
   },
   "source": [
    "## 랭체인 인덱스 연결 오브젝트 생성\n",
    "\n",
    "- [langchain.vectorstores.opensearch_vector_search.OpenSearchVectorSearch](https://api.python.langchain.com/en/latest/vectorstores/langchain.vectorstores.opensearch_vector_search.OpenSearchVectorSearch.html)"
   ]
  },
  {
   "cell_type": "code",
   "execution_count": 18,
   "metadata": {
    "tags": []
   },
   "outputs": [],
   "source": [
    "from langchain.vectorstores import OpenSearchVectorSearch"
   ]
  },
  {
   "cell_type": "code",
   "execution_count": 19,
   "metadata": {
    "tags": []
   },
   "outputs": [
    {
     "data": {
      "text/plain": [
       "<langchain_community.vectorstores.opensearch_vector_search.OpenSearchVectorSearch at 0x7f2cb4af3070>"
      ]
     },
     "execution_count": 19,
     "metadata": {},
     "output_type": "execute_result"
    }
   ],
   "source": [
    "vector_db = OpenSearchVectorSearch(\n",
    "    index_name=index_name,\n",
    "    opensearch_url=opensearch_domain_endpoint,\n",
    "    embedding_function=llm_emb,\n",
    "    http_auth=http_auth, # http_auth\n",
    "    is_aoss =False,\n",
    "    engine=\"faiss\",\n",
    "    space_type=\"l2\",\n",
    "    bulk_size=100000,\n",
    "    timeout=60    \n",
    ")\n",
    "vector_db"
   ]
  },
  {
   "cell_type": "markdown",
   "metadata": {
    "tags": []
   },
   "source": [
    "# 6. Chunking JSON Doc "
   ]
  },
  {
   "cell_type": "markdown",
   "metadata": {},
   "source": [
    "## Chunk Size and Chunk Overlap Size 결정"
   ]
  },
  {
   "cell_type": "code",
   "execution_count": 20,
   "metadata": {
    "tags": []
   },
   "outputs": [],
   "source": [
    "parent_chunk_size = 4096\n",
    "parent_chunk_overlap = 0\n",
    "\n",
    "child_chunk_size = 1024\n",
    "child_chunk_overlap = 256\n",
    "\n",
    "opensearch_parent_key_name = \"parent_id\"\n",
    "opensearch_family_tree_key_name = \"family_tree\"\n"
   ]
  },
  {
   "cell_type": "code",
   "execution_count": 21,
   "metadata": {
    "tags": []
   },
   "outputs": [],
   "source": [
    "from local_utils.proc_docs import create_parent_chunk, create_child_chunk"
   ]
  },
  {
   "cell_type": "markdown",
   "metadata": {},
   "source": [
    "## Parent Chunking"
   ]
  },
  {
   "cell_type": "markdown",
   "metadata": {},
   "source": [
    "create_parent_chunk() 아래와 같은 작업을 합니다.\n",
    "- all_docs 에 있는 문서를 parent_chunk_size 만큼으로 청킹 합니다.\n",
    "- Parent Chunk 에 두개의 메타 데이타를 생성 합니다.\n",
    "    - family_tree: parent\n",
    "    - parent_id : None"
   ]
  },
  {
   "cell_type": "code",
   "execution_count": 22,
   "metadata": {
    "tags": []
   },
   "outputs": [
    {
     "name": "stdout",
     "output_type": "stream",
     "text": [
      "Number of parent_chunk_docs= 2325\n"
     ]
    }
   ],
   "source": [
    "parent_chunk_docs = create_parent_chunk(all_docs, opensearch_parent_key_name, \n",
    "                                        opensearch_family_tree_key_name,parent_chunk_size, parent_chunk_overlap)\n",
    "print(f\"Number of parent_chunk_docs= {len(parent_chunk_docs)}\")\n"
   ]
  },
  {
   "cell_type": "code",
   "execution_count": 23,
   "metadata": {
    "tags": []
   },
   "outputs": [
    {
     "data": {
      "text/plain": [
       "[Document(page_content='How-to videos. Contains videos on how to use Knox E-FOTA. This section contains videos on how to use Knox E-FOTA. Getting started with Knox E-FOTA This video walks you through the Knox E-FOTA console and demonstrates how you can register a reseller, approve a device, create a campaign, assign a campaign, and monitor device status. Creating a campaign on Knox E-FOTA The following video provides in-depth information on how to create and apply a Knox E-FOTA campaign to your Samsung devices. Connecting Knox E-FOTA to VMware Workspace ONE The following video describes the simple steps of connecting Knox E-FOTA with VMware Workspace ONE, while adding device groups from Workspace ONE.', metadata={'source': 'all_processed_data.json', 'seq_num': 1, 'title': 'How-to videos', 'url': 'https://docs.samsungknox.com/admin/efota-one/how-to-videos', 'project': 'EFOTA', 'last_updated': '2023-09-27', 'family_tree': 'parent', 'parent_id': None})]"
      ]
     },
     "execution_count": 23,
     "metadata": {},
     "output_type": "execute_result"
    }
   ],
   "source": [
    "parent_chunk_docs[0:1]"
   ]
  },
  {
   "cell_type": "markdown",
   "metadata": {},
   "source": [
    "### OpenSearch 에 parent chunk 삽입\n",
    "- 아래는 약 6분 정도 걸립니다."
   ]
  },
  {
   "cell_type": "code",
   "execution_count": 24,
   "metadata": {
    "tags": []
   },
   "outputs": [
    {
     "name": "stdout",
     "output_type": "stream",
     "text": [
      "CPU times: user 6.45 s, sys: 362 ms, total: 6.81 s\n",
      "Wall time: 5min 6s\n"
     ]
    }
   ],
   "source": [
    "%%time\n",
    "\n",
    "parent_ids = vector_db.add_documents(\n",
    "                        documents = parent_chunk_docs, \n",
    "                        vector_field = \"vector_field\",\n",
    "                        bulk_size = 1000000\n",
    "                    )\n",
    "\n"
   ]
  },
  {
   "cell_type": "code",
   "execution_count": 25,
   "metadata": {
    "tags": []
   },
   "outputs": [
    {
     "name": "stdout",
     "output_type": "stream",
     "text": [
      "total count docs:  {'count': 2325, '_shards': {'total': 5, 'successful': 5, 'skipped': 0, 'failed': 0}}\n"
     ]
    }
   ],
   "source": [
    "total_count_docs = opensearch_utils.get_count(os_client, index_name)\n",
    "print(\"total count docs: \", total_count_docs)\n"
   ]
  },
  {
   "cell_type": "markdown",
   "metadata": {},
   "source": [
    "삽입된 Parent Chunk 의 첫번째를 확인 합니다. family_tree, parent_id 의 값을 확인 하세요."
   ]
  },
  {
   "cell_type": "code",
   "execution_count": 26,
   "metadata": {
    "tags": []
   },
   "outputs": [
    {
     "name": "stdout",
     "output_type": "stream",
     "text": [
      "opensearch document id: 7c043ce2-5b4c-40f9-a6bf-6714261c200f\n",
      "family_tree: parent\n",
      "parent document id: None\n",
      "parent document text: \n",
      " How-to videos. Contains videos on how to use Knox E-FOTA. This section contains videos on how to use Knox E-FOTA. Getting started with Knox E-FOTA This video walks you through the Knox E-FOTA console and demonstrates how you can register a reseller, approve a device, create a campaign, assign a campaign, and monitor device status. Creating a campaign on Knox E-FOTA The following video provides in-depth information on how to create and apply a Knox E-FOTA campaign to your Samsung devices. Connecting Knox E-FOTA to VMware Workspace ONE The following video describes the simple steps of connecting Knox E-FOTA with VMware Workspace ONE, while adding device groups from Workspace ONE.\n"
     ]
    }
   ],
   "source": [
    "def show_opensearch_doc_info(response):\n",
    "    print(\"opensearch document id:\" , response[\"_id\"])\n",
    "    print(\"family_tree:\" , response[\"_source\"][\"metadata\"][\"family_tree\"])\n",
    "    print(\"parent document id:\" , response[\"_source\"][\"metadata\"][\"parent_id\"])\n",
    "    print(\"parent document text: \\n\" , response[\"_source\"][\"text\"])\n",
    "\n",
    "response = opensearch_utils.get_document(os_client, doc_id = parent_ids[0], index_name = index_name)\n",
    "show_opensearch_doc_info(response)    "
   ]
  },
  {
   "cell_type": "markdown",
   "metadata": {},
   "source": [
    "## Child Chunking"
   ]
  },
  {
   "cell_type": "markdown",
   "metadata": {},
   "source": [
    "### Child Chunk 생성\n",
    "\n",
    "아래의 create_child_chunk() 는 다음과 같은 작업을 합니다.\n",
    "- parent_chunk_docs 각각에 대해서 Child Chunk 를 생성 합니다. \n",
    "- Child Chunk 에 두개의 메타 데이타를 생성 합니다.\n",
    "    - family_tree: child\n",
    "    - parent_id : parent 에 대한 OpenSearch document id"
   ]
  },
  {
   "cell_type": "code",
   "execution_count": 27,
   "metadata": {
    "tags": []
   },
   "outputs": [
    {
     "name": "stdout",
     "output_type": "stream",
     "text": [
      "Number of child_chunk_docs= 6884\n"
     ]
    }
   ],
   "source": [
    "# child_chunk_docs = create_child_chunk(parent_chunk_docs[0:1], parent_ids)\n",
    "child_chunk_docs = create_child_chunk(child_chunk_size, child_chunk_overlap, parent_chunk_docs, parent_ids, \n",
    "                                      opensearch_parent_key_name, opensearch_family_tree_key_name)\n",
    "print(f\"Number of child_chunk_docs= {len(child_chunk_docs)}\")\n"
   ]
  },
  {
   "cell_type": "markdown",
   "metadata": {},
   "source": [
    "### 생성된 Child 와 이에 대한 Parent 정보 확인"
   ]
  },
  {
   "cell_type": "markdown",
   "metadata": {},
   "source": [
    "Child Chunk 한개에 대한 정보를 확인 합니다."
   ]
  },
  {
   "cell_type": "code",
   "execution_count": 28,
   "metadata": {
    "tags": []
   },
   "outputs": [
    {
     "data": {
      "text/plain": [
       "[Document(page_content='How-to videos. Contains videos on how to use Knox E-FOTA. This section contains videos on how to use Knox E-FOTA. Getting started with Knox E-FOTA This video walks you through the Knox E-FOTA console and demonstrates how you can register a reseller, approve a device, create a campaign, assign a campaign, and monitor device status. Creating a campaign on Knox E-FOTA The following video provides in-depth information on how to create and apply a Knox E-FOTA campaign to your Samsung devices. Connecting Knox E-FOTA to VMware Workspace ONE The following video describes the simple steps of connecting Knox E-FOTA with VMware Workspace ONE, while adding device groups from Workspace ONE.', metadata={'source': 'all_processed_data.json', 'seq_num': 1, 'title': 'How-to videos', 'url': 'https://docs.samsungknox.com/admin/efota-one/how-to-videos', 'project': 'EFOTA', 'last_updated': '2023-09-27', 'family_tree': 'child', 'parent_id': '7c043ce2-5b4c-40f9-a6bf-6714261c200f'})]"
      ]
     },
     "execution_count": 28,
     "metadata": {},
     "output_type": "execute_result"
    }
   ],
   "source": [
    "child_chunk_docs[0:1]"
   ]
  },
  {
   "cell_type": "markdown",
   "metadata": {},
   "source": [
    "Child 에 대한 Parent 정보 확인"
   ]
  },
  {
   "cell_type": "code",
   "execution_count": 29,
   "metadata": {
    "tags": []
   },
   "outputs": [
    {
     "name": "stdout",
     "output_type": "stream",
     "text": [
      "child's parent_id:  7c043ce2-5b4c-40f9-a6bf-6714261c200f\n",
      "\n",
      "###### Search parent in OpenSearch\n",
      "opensearch document id: 7c043ce2-5b4c-40f9-a6bf-6714261c200f\n",
      "family_tree: parent\n",
      "parent document id: None\n",
      "parent document text: \n",
      " How-to videos. Contains videos on how to use Knox E-FOTA. This section contains videos on how to use Knox E-FOTA. Getting started with Knox E-FOTA This video walks you through the Knox E-FOTA console and demonstrates how you can register a reseller, approve a device, create a campaign, assign a campaign, and monitor device status. Creating a campaign on Knox E-FOTA The following video provides in-depth information on how to create and apply a Knox E-FOTA campaign to your Samsung devices. Connecting Knox E-FOTA to VMware Workspace ONE The following video describes the simple steps of connecting Knox E-FOTA with VMware Workspace ONE, while adding device groups from Workspace ONE.\n"
     ]
    }
   ],
   "source": [
    "parent_id = child_chunk_docs[0].metadata[\"parent_id\"]\n",
    "print(\"child's parent_id: \", parent_id)\n",
    "print(\"\\n###### Search parent in OpenSearch\")\n",
    "response = opensearch_utils.get_document(os_client, doc_id = parent_id, index_name = index_name)\n",
    "show_opensearch_doc_info(response)    \n"
   ]
  },
  {
   "cell_type": "markdown",
   "metadata": {},
   "source": [
    "### OpenSearch 에 Child 삽입\n",
    "- 아래는 약 13분 정도 소요 됩니다."
   ]
  },
  {
   "cell_type": "code",
   "execution_count": 30,
   "metadata": {
    "tags": []
   },
   "outputs": [
    {
     "name": "stdout",
     "output_type": "stream",
     "text": [
      "length of child_ids:  6884\n",
      "CPU times: user 18.3 s, sys: 879 ms, total: 19.2 s\n",
      "Wall time: 10min 40s\n"
     ]
    }
   ],
   "source": [
    "%%time\n",
    "\n",
    "child_ids = vector_db.add_documents(\n",
    "                        documents = child_chunk_docs, \n",
    "                        vector_field = \"vector_field\",\n",
    "                        bulk_size = 1000000\n",
    "                    )\n",
    "\n",
    "print(\"length of child_ids: \", len(child_ids))"
   ]
  },
  {
   "cell_type": "code",
   "execution_count": 31,
   "metadata": {
    "tags": []
   },
   "outputs": [
    {
     "name": "stdout",
     "output_type": "stream",
     "text": [
      "total count docs:  {'count': 9209, '_shards': {'total': 5, 'successful': 5, 'skipped': 0, 'failed': 0}}\n"
     ]
    }
   ],
   "source": [
    "total_count_docs = opensearch_utils.get_count(os_client, index_name)\n",
    "print(\"total count docs: \", total_count_docs)\n"
   ]
  },
  {
   "cell_type": "code",
   "execution_count": 32,
   "metadata": {
    "tags": []
   },
   "outputs": [
    {
     "name": "stdout",
     "output_type": "stream",
     "text": [
      "opensearch document id: a5d326e2-c9de-436e-9490-9f774f99885c\n",
      "family_tree: child\n",
      "parent document id: 7c043ce2-5b4c-40f9-a6bf-6714261c200f\n",
      "parent document text: \n",
      " How-to videos. Contains videos on how to use Knox E-FOTA. This section contains videos on how to use Knox E-FOTA. Getting started with Knox E-FOTA This video walks you through the Knox E-FOTA console and demonstrates how you can register a reseller, approve a device, create a campaign, assign a campaign, and monitor device status. Creating a campaign on Knox E-FOTA The following video provides in-depth information on how to create and apply a Knox E-FOTA campaign to your Samsung devices. Connecting Knox E-FOTA to VMware Workspace ONE The following video describes the simple steps of connecting Knox E-FOTA with VMware Workspace ONE, while adding device groups from Workspace ONE.\n"
     ]
    }
   ],
   "source": [
    "response = opensearch_utils.get_document(os_client, doc_id = child_ids[0], index_name = index_name)\n",
    "show_opensearch_doc_info(response)    "
   ]
  },
  {
   "cell_type": "markdown",
   "metadata": {},
   "source": [
    "# 7. 검색 테스트"
   ]
  },
  {
   "cell_type": "code",
   "execution_count": 33,
   "metadata": {
    "tags": []
   },
   "outputs": [],
   "source": [
    "from utils.rag import retriever_utils\n",
    "from local_utils.rag import show_context_used\n",
    "#from langchain.prompts import PromptTemplate\n",
    "from langchain.chains.question_answering import load_qa_chain\n",
    "from langchain.callbacks.streaming_stdout import StreamingStdOutCallbackHandler"
   ]
  },
  {
   "cell_type": "markdown",
   "metadata": {
    "tags": []
   },
   "source": [
    "### LLM 선택"
   ]
  },
  {
   "cell_type": "code",
   "execution_count": 34,
   "metadata": {
    "tags": []
   },
   "outputs": [],
   "source": [
    "from langchain_community.chat_models import BedrockChat"
   ]
  },
  {
   "cell_type": "code",
   "execution_count": 35,
   "metadata": {
    "tags": []
   },
   "outputs": [
    {
     "data": {
      "text/plain": [
       "BedrockChat(client=<botocore.client.BedrockRuntime object at 0x7f2d201fca90>, model_id='anthropic.claude-3-haiku-20240307-v1:0', model_kwargs={'max_tokens': 1024, 'stop_sequences': ['\\n\\nHuman']}, streaming=True, callbacks=[<langchain_core.callbacks.streaming_stdout.StreamingStdOutCallbackHandler object at 0x7f2cfa095e40>])"
      ]
     },
     "execution_count": 35,
     "metadata": {},
     "output_type": "execute_result"
    }
   ],
   "source": [
    "llm_text = BedrockChat(\n",
    "    model_id=bedrock_info.get_model_id(model_name=\"Claude-V3-Haiku\"),\n",
    "    client=boto3_bedrock,\n",
    "    model_kwargs={\n",
    "        \"max_tokens\": 1024,\n",
    "        \"stop_sequences\": [\"\\n\\nHuman\"],\n",
    "    },\n",
    "    streaming=True,\n",
    "    callbacks=[StreamingStdOutCallbackHandler()],\n",
    ")\n",
    "llm_text"
   ]
  },
  {
   "cell_type": "markdown",
   "metadata": {},
   "source": [
    "### QA prompt and chain"
   ]
  },
  {
   "cell_type": "code",
   "execution_count": 36,
   "metadata": {
    "tags": []
   },
   "outputs": [],
   "source": [
    "from utils.rag import prompt_repo\n",
    "from utils.rag import qa_chain\n",
    "from langchain.schema.output_parser import StrOutputParser\n",
    "from langchain_core.prompts import ChatPromptTemplate, HumanMessagePromptTemplate, SystemMessagePromptTemplate"
   ]
  },
  {
   "cell_type": "code",
   "execution_count": 37,
   "metadata": {
    "tags": []
   },
   "outputs": [
    {
     "name": "stdout",
     "output_type": "stream",
     "text": [
      "('\\n'\n",
      " '                        You are a master answer bot designed to answer '\n",
      " \"user's questions.\\n\"\n",
      " \"                        I'm going to give you contexts which consist of \"\n",
      " 'texts, tables and images.\\n'\n",
      " \"                        Read the contexts carefully, because I'm going to \"\n",
      " 'ask you a question about it.\\n'\n",
      " '                        ')\n"
     ]
    }
   ],
   "source": [
    "system_prompt = prompt_repo.get_system_prompt()\n",
    "pprint (system_prompt)\n",
    "system_prompt = \"\"\"\n",
    "                You are a master answer bot designed to answer user's questions.\n",
    "                I'm going to give you contexts which consist of texts, tables and images.\n",
    "                Read the contexts carefully, because I'm going to ask you a question about it.\n",
    "                \"\"\"\n",
    "human_prompt = \"\"\"\n",
    "                Here is the contexts as texts: <contexts>{contexts}</contexts>\n",
    "\n",
    "                First, find a few paragraphs or sentences from the contexts that are most relevant to answering the question.\n",
    "                Then, answer the question as much as you can.\n",
    "\n",
    "                Skip the preamble and go straight into the answer.\n",
    "                Don't insert any XML tag such as <contexts> and </contexts> when answering.\n",
    "                Answer in Korean.\n",
    "\n",
    "                Here is the question: <question>{question}</question>\n",
    "\n",
    "                If the question cannot be answered by the contexts, say \"No relevant contexts\".\n",
    "               \"\"\"\n",
    "system_message_template = SystemMessagePromptTemplate.from_template(system_prompt)\n",
    "human_message_template = HumanMessagePromptTemplate.from_template(human_prompt)\n",
    "prompt = ChatPromptTemplate.from_messages(\n",
    "    [system_message_template, human_message_template]\n",
    ")\n",
    "\n",
    "chain = prompt | llm_text | StrOutputParser()"
   ]
  },
  {
   "cell_type": "markdown",
   "metadata": {},
   "source": [
    "## Lexical 검색"
   ]
  },
  {
   "cell_type": "code",
   "execution_count": 38,
   "metadata": {
    "tags": []
   },
   "outputs": [],
   "source": [
    "#query = \"중지된 경우 이체\"\n",
    "query = \"vidio max size?\"\n",
    "\n",
    "search_filter=[\n",
    "    #{\"term\": {\"metadata.source\": \"신한은행\"}},\n",
    "    #{\"term\": {\"metadata.type\": \"인터넷뱅킹\"}},\n",
    "]"
   ]
  },
  {
   "cell_type": "code",
   "execution_count": 39,
   "metadata": {
    "tags": []
   },
   "outputs": [
    {
     "name": "stdout",
     "output_type": "stream",
     "text": [
      "-----------------------------------------------\n",
      "1. Chunk: 1008 Characters\n",
      "-----------------------------------------------\n",
      ". Invalid APK version name. Invalid APK version name. Please change the version name and try\n",
      "uploading again. 4090001 File too large. Max 4000 devices allowed per upload. Try splitting the\n",
      "device upload list to reduce the size of .csv you are uploading. Note that there is a max of 4000\n",
      "devices allowed per upload. 4150000 File type is not supported. The file you are trying to upload is\n",
      "not supported. Knox Configure only accepts .csv files. App name cannot contain special characters.\n",
      "Rename the app so it does not contain any special or forbidden characters. App version is invalid.\n",
      "An app you are trying to upload is invalid. Verify that the version you're attempting to upload is\n",
      "correct. Try to re-upload the app again. CSV file is required. A system error occurred. Verify that\n",
      "you've attached a .csv file, try to re-attach the .csv and upload it again. If the problem persists,\n",
      "contact Samsung. 4040105 No CAPTCHA code entered. No CAPTCHA code was entered. Carefully enter the\n",
      "CAPTCHA code and submit\n",
      "metadata:\n",
      " {'source': 'all_processed_data.json', 'seq_num': 433, 'title': 'Portal-side errors', 'url':\n",
      "'https://docs.samsungknox.com/admin/knox-configure/knox-configure-wearables/troubleshoot/portal-\n",
      "side-errors', 'project': 'KC', 'last_updated': '2023-07-26', 'family_tree': 'child', 'parent_id':\n",
      "'7983b4c3-a38a-499a-8792-239d4752b269', 'id': 'b14473ce-8b67-4b70-9c76-8244e769bf2d'}\n",
      "-----------------------------------------------\n",
      "2. Chunk: 930 Characters\n",
      "-----------------------------------------------\n",
      ". Max TTL - The maximum amount of time, or time to live (TTL), in seconds, that a packet can exist\n",
      "in a network before being discarded by the router. The default value is 64, but a number from 49 to\n",
      "255 can be entered. Packet size - The size of the packet to request, in bytes. The default value is\n",
      "64, but a number from 4 to 1472 can be entered. If the device user sets Packet size as 10, Interval\n",
      "(ms) as 1000 ms, and Timeout (ms) as 500 ms, 10 pings are sent and the interval between each ping is\n",
      "set to 1000 ms. A successful test requires all 10 pings to be received within 500 ms each. The ping\n",
      "test continues even if the device user leaves the screen, but they can stop it at any time by\n",
      "tapping the stop button. Otherwise, the test automatically stops once the set conditions are met. A\n",
      "notification is also displayed in the notification bar for the duration of the test, which the user\n",
      "can tap to return to the test screen\n",
      "metadata:\n",
      " {'source': 'all_processed_data.json', 'seq_num': 292, 'title': 'Use the agent app', 'url':\n",
      "'https://docs.samsungknox.com/admin/knox-asset-intelligence/how-to-guides/use-the-agent-app',\n",
      "'project': 'KAI', 'last_updated': '2023-09-06', 'family_tree': 'child', 'parent_id':\n",
      "'622aa05e-45ed-44b4-816b-08fe3bf6d849', 'id': 'ca5f6ae2-981b-4155-b909-6456f6809b5e'}\n",
      "-----------------------------------------------\n",
      "3. Chunk: 1004 Characters\n",
      "-----------------------------------------------\n",
      ". Change this property to include lengths not enabled by default, or to optimize decoding\n",
      "performance for a certain number of symbols. Character-to-symbol mapping depends on barcode type.\n",
      "For example, some barcodes include additional checksum characters in their symbol counts. For more\n",
      "information on active symbol count, refer to Configure the Active Symbol Count. Depends on barcode\n",
      "type. Max. length Determines the maximum supported barcode length (active symbol count) to decode.\n",
      "Depends on barcode type. Inverted color recognition Enables recognition of inverted barcodes that\n",
      "have been printed using bright ink on a dark background. ON/OFF OFF Reduced quiet zone-size Enables\n",
      "scanning codes with smaller than normal quiet zones (white space before and after the code) than\n",
      "allowed by the barcode type specification. Use this if you experience issues when scanning codes\n",
      "that violate quiet zone specifications. Please note that turning on this feature may lead to false\n",
      "positive scans in some cases\n",
      "metadata:\n",
      " {'source': 'all_processed_data.json', 'seq_num': 580, 'title': 'Scan engine settings: Scandit',\n",
      "'url': 'https://docs.samsungknox.com/admin/knox-capture/knox-capture-scandit/scan-engine-settings-\n",
      "scandit', 'project': 'KCAP', 'last_updated': '2023-07-26', 'family_tree': 'child', 'parent_id':\n",
      "'1aa5823f-cfbf-4785-b84a-144fcd4d4a70', 'id': 'ed3fccb5-3cf3-49e5-94c1-cbd8752f0d20'}\n",
      "-----------------------------------------------\n",
      "4. Chunk: 1013 Characters\n",
      "-----------------------------------------------\n",
      ". Enter your device information in the sample file with the default headings. Save and try uploading\n",
      "the CSV file again. 4000014 The CSV file is empty. Ensure the CSV file uploading is not empty.\n",
      "4000414 The EULA is invalid. A system error occurred. Refresh the page and load the EULA again. If\n",
      "the problem persists, contact Samsung. 4002009 EULA is already agreed to. The end user has already\n",
      "accepted the End User License Agreement (EULA). Do not prompt users to accept the EULA again. Failed\n",
      "to upload file. A system error occurred. Try to upload the file again. If the problem persists,\n",
      "contact Samsung. An app with this name already exists. Ensure the name of the app you are uploading\n",
      "does not already exist in Knox Configure. Re-name the app if necessary. Invalid APK version name.\n",
      "Invalid APK version name. Please change the version name and try uploading again. 4090001 File too\n",
      "large. Max 4000 devices allowed per upload. Try splitting the device upload list to reduce the size\n",
      "of .csv you are uploading\n",
      "metadata:\n",
      " {'source': 'all_processed_data.json', 'seq_num': 433, 'title': 'Portal-side errors', 'url':\n",
      "'https://docs.samsungknox.com/admin/knox-configure/knox-configure-wearables/troubleshoot/portal-\n",
      "side-errors', 'project': 'KC', 'last_updated': '2023-07-26', 'family_tree': 'child', 'parent_id':\n",
      "'7983b4c3-a38a-499a-8792-239d4752b269', 'id': 'c72721a6-8b86-4864-ae86-8712e04de404'}\n",
      "-----------------------------------------------\n",
      "5. Chunk: 462 Characters\n",
      "-----------------------------------------------\n",
      "What does the term 'Maximum number of licenses' mean for KPE Standard licenses?. Some customers have\n",
      "asked what the term \"Max # Licenses\" means for the KPE Standard type license. This term can be found\n",
      "in documentation such as the Knox Licenses page in the developer guide. Resolution The term \"Max #\n",
      "Licenses\" means the maximum number of app packages that a particular customer can cover with their\n",
      "KPE Standard license. One license will be for one app package.\n",
      "metadata:\n",
      " {'source': 'all_processed_data.json', 'seq_num': 1638, 'title': \"What does the term 'Maximum number\n",
      "of licenses' mean for KPE Standard licenses?\", 'url': 'https://docs.samsungknox.com/admin/knox-\n",
      "platform-for-enterprise/kbas/kba-528-max-number-licenses-kpe-meaning', 'project': 'KPE',\n",
      "'last_updated': '2023-07-26', 'family_tree': 'child', 'parent_id':\n",
      "'6930e77f-715e-4ea8-a4ab-a02e8271f1b6', 'id': '639c99c7-a1f3-4ea9-9d21-05c6bac917d4'}\n"
     ]
    }
   ],
   "source": [
    "similar_docs_lexical = retriever_utils.get_lexical_similar_docs(\n",
    "    index_name=index_name,\n",
    "    os_client=os_client,\n",
    "    query=query,\n",
    "    k=5,\n",
    "    filter=search_filter\n",
    ")\n",
    "show_context_used(similar_docs_lexical)"
   ]
  },
  {
   "cell_type": "code",
   "execution_count": 40,
   "metadata": {
    "tags": []
   },
   "outputs": [
    {
     "name": "stdout",
     "output_type": "stream",
     "text": [
      "이 문서들에는 \"vidio max size\"에 대한 정보가 포함되어 있지 않습니다. 문서들은 Knox Configure 사용자 인터페이스에서 발생할 수 있는 오류 메시지와 관련된 내용을 다루고 있습니다. 따라서 이 질문은 이 문맥에서는 답할 수 없습니다.##############################\n",
      "query: \n",
      " vidio max size?\n",
      "answer: \n",
      " 이 문서들에는 \"vidio max size\"에 대한 정보가 포함되어 있지 않습니다. 문서들은 Knox Configure 사용자 인터페이스에서 발생할 수 있는 오류 메시지와 관련된 내용을 다루고 있습니다. 따라서 이 질문은 이 문맥에서는 답할 수 없습니다.\n"
     ]
    }
   ],
   "source": [
    "answer = chain.invoke(\n",
    "    {\n",
    "        \"contexts\": similar_docs_lexical,\n",
    "        \"question\": query\n",
    "    }\n",
    ")\n",
    "\n",
    "print(\"##############################\")\n",
    "print(\"query: \\n\", query)\n",
    "print(\"answer: \\n\", answer)"
   ]
  },
  {
   "cell_type": "markdown",
   "metadata": {
    "tags": []
   },
   "source": [
    "## 시맨틱 검색"
   ]
  },
  {
   "cell_type": "code",
   "execution_count": 41,
   "metadata": {
    "tags": []
   },
   "outputs": [],
   "source": [
    "query = \"vidio max size?\"\n",
    "#query = \"중지된 경우 이체\"\n",
    "\n",
    "search_filter=[\n",
    "    #{\"term\": {\"metadata.source\": \"신한은행\"}},\n",
    "    #{\"term\": {\"metadata.type\": \"인터넷뱅킹\"}},\n",
    "]"
   ]
  },
  {
   "cell_type": "code",
   "execution_count": 42,
   "metadata": {
    "collapsed": true,
    "jupyter": {
     "outputs_hidden": true
    },
    "tags": []
   },
   "outputs": [
    {
     "name": "stdout",
     "output_type": "stream",
     "text": [
      "-----------------------------------------------\n",
      "1. Chunk: 457 Characters\n",
      "-----------------------------------------------\n",
      ". Rectangular viewfinder width Set the width of the rectangular viewfinder, specified in screen\n",
      "width percentage. Only active if View finder selection is set to Rectangular. Available values are\n",
      "0% to 100%. Default value is 90%. Rectangular viewfinder height Set the height of the rectangular\n",
      "viewfinder specified in screen height percentage. Only active if View finder selection is set to\n",
      "Rectangular. Available values are 0% to 100%. Default value is 40%.\n",
      "metadata:\n",
      " {'source': 'all_processed_data.json', 'seq_num': 566, 'title': 'Configure scan engine settings',\n",
      "'url': 'https://docs.samsungknox.com/admin/knox-capture/how-to-guides/configure-scan-engine-\n",
      "settings', 'project': 'KCAP', 'last_updated': '2023-10-16', 'family_tree': 'child', 'parent_id':\n",
      "'791663ba-568d-4b59-9619-76ff6ffaad85', 'id': 'ad9589d8-fd45-41aa-ad54-3c6f3088c70a'}\n",
      "-----------------------------------------------\n",
      "2. Chunk: 992 Characters\n",
      "-----------------------------------------------\n",
      ". Values Always use native resolution (default) Use custom resolution &mdash; Applies the values\n",
      "specified by the External display width, External display height, External display scale, and\n",
      "Internal display scale sub-policies. If the custom resolution entered is not supported, the display\n",
      "will revert to its native resolution. Chrome OS 99 and higher &gt; External display width (in\n",
      "pixels) Specifies the width of the external display. This policy only applies if the External\n",
      "resolution policy is set to Use custom resolution. Values Enter the display width, in pixels. If\n",
      "this value is unset or not supported, the display reverts to its native resolution. Chrome OS 99 and\n",
      "higher &gt; External display height (in pixels) Specifies the height of the external display. This\n",
      "policy only applies if the External resolution policy is set to Use custom resolution. Values Enter\n",
      "the display height, in pixels. If this value is unset or not supported, the display reverts to its\n",
      "native resolution\n",
      "metadata:\n",
      " {'source': 'all_processed_data.json', 'seq_num': 896, 'title': 'Chrome OS policies', 'url':\n",
      "'https://docs.samsungknox.com/admin/knox-manage/configure/profile/configure-profile-policies/chrome-\n",
      "os-policies', 'project': 'KM', 'last_updated': '2023-07-26', 'family_tree': 'child', 'parent_id':\n",
      "'7dac6386-88f8-4859-ba95-707520d92142', 'id': '4694c21b-32a6-4742-8763-38767b249ba8'}\n",
      "-----------------------------------------------\n",
      "3. Chunk: 839 Characters\n",
      "-----------------------------------------------\n",
      ". You can add up to 10 image files in the PNG, JPG, JPEG, or GIF format (animated files are not\n",
      "supported). Each image file must be less than 5 MB. To upload an image file, click Add and select a\n",
      "file. To delete an image file, click next to the name of the uploaded image file. Note The device\n",
      "control command must be transferred to the device to apply an image file to it. &gt;&gt;&gt; Video\n",
      "Select a video file for the screen saver. You can add only one video file in the MP4 or MKV format.\n",
      "The video file must be less than 50 MB. To upload a video file, click Add and select a file. To\n",
      "delete a video file, click next to the name of the uploaded video file. Note The device control\n",
      "command must be transferred to the device to apply a video to it. &gt; Session timeout Allows the\n",
      "use of the session timeout feature for the Kiosk Browser\n",
      "metadata:\n",
      " {'source': 'all_processed_data.json', 'seq_num': 893, 'title': 'Android Enterprise policies',\n",
      "'url': 'https://docs.samsungknox.com/admin/knox-manage/configure/profile/configure-profile-\n",
      "policies/android-enterprise-policies', 'project': 'KM', 'last_updated': '2023-09-06', 'family_tree':\n",
      "'child', 'parent_id': 'c8f9f6c5-8f66-48bd-b7c2-f960a9a04d97', 'id':\n",
      "'e7a0a701-d419-4d89-84e6-5ffbb586875b'}\n",
      "-----------------------------------------------\n",
      "4. Chunk: 993 Characters\n",
      "-----------------------------------------------\n",
      ". 7. The device now launches DeX automatically when it is plugged in to an HDMI cable. 8. Once the\n",
      "device is connected to DeX, a Display resolution screen displays. Select a single resolution value\n",
      "for the connected display. Unselected display options will be greyed out and unavailable. Keep in\n",
      "mind, changing the resolution makes displayed windows, text and other items appear small or larger.\n",
      "Options include, WQHD (2560 x 1440), FHD (1920 x 1080) _recommended setting_, HD+ (1600 x 900),\n",
      "WQXGA (2560 x 1600), WUXGA (1920 x 1200), or UWQHD (3440 x 1440). Select Done to commit the selected\n",
      "display setting. If the display resolution provided is not supported, then FHD (1920 x 1080) is\n",
      "selected by default and non-supported resolutions are greyed out in the DeX Display resolution\n",
      "screen. Industry example This example configures a tablet in DeX mode, so a bank employee can use it\n",
      "to help customers with day to day operations. For example opening a new account or checking account\n",
      "balances\n",
      "metadata:\n",
      " {'source': 'all_processed_data.json', 'seq_num': 1225, 'title': 'DeX', 'url':\n",
      "'https://docs.samsungknox.com/admin/knox-platform-for-enterprise/knox-service-plugin/configure-\n",
      "advanced-policies/dex', 'project': 'KSP', 'last_updated': '2023-07-26', 'family_tree': 'child',\n",
      "'parent_id': '90cb5014-29e1-47f2-bb6f-57fd6f0cee11', 'id': '01cb2b2d-a136-4383-859f-a96df732a655'}\n",
      "-----------------------------------------------\n",
      "5. Chunk: 955 Characters\n",
      "-----------------------------------------------\n",
      ". Knox Platform for Enterprise Premium &gt; Ratio Specifies the scale of the text size on Knox\n",
      "Browser. Only available if the Knox Browser App and Text Scaling policies are set to Use. Values To\n",
      "set the scale, adjust the slider. The slider has a range of 50&ndash;200% and moves in 5%\n",
      "increments. Knox Platform for Enterprise Premium Force Enable Zoom Forces changing the zoom level of\n",
      "web pages on Knox Browser. Only available if the Knox Browser App policy is set to Use. Values Use\n",
      "&mdash; Adjusts the zoom level to the scale set by the Force Enable Zoom &gt; Ratio policy. Do not\n",
      "use &mdash; The zoom level defaults to 100%, and the user can't change it. Knox Platform for\n",
      "Enterprise Premium &gt; Ratio Specifies the zoom level of web pages on Knox Browser. Only available\n",
      "if the Knox Browser App and Text Scaling policies are set to Use. Values To set the scale, adjust\n",
      "the slider. The slider has a range of 100&ndash;200% and moves in 10% increments\n",
      "metadata:\n",
      " {'source': 'all_processed_data.json', 'seq_num': 893, 'title': 'Android Enterprise policies',\n",
      "'url': 'https://docs.samsungknox.com/admin/knox-manage/configure/profile/configure-profile-\n",
      "policies/android-enterprise-policies', 'project': 'KM', 'last_updated': '2023-09-06', 'family_tree':\n",
      "'child', 'parent_id': '1873575b-fdb6-4cbe-ae75-e344915ffd14', 'id':\n",
      "'7f95993a-1818-4d89-b081-c874d7dbc01b'}\n"
     ]
    }
   ],
   "source": [
    "similar_docs_semantic = retriever_utils.get_semantic_similar_docs(\n",
    "    index_name=index_name,\n",
    "    os_client=os_client,\n",
    "    llm_emb=llm_emb,\n",
    "    query=query,\n",
    "    k=5,\n",
    "    boolean_filter=search_filter,\n",
    "    hybrid=False\n",
    ")\n",
    "show_context_used(similar_docs_semantic)"
   ]
  },
  {
   "cell_type": "code",
   "execution_count": 43,
   "metadata": {
    "tags": []
   },
   "outputs": [
    {
     "name": "stdout",
     "output_type": "stream",
     "text": [
      "비디오 파일 크기는 다음과 같습니다:\n",
      "\n",
      "Android Enterprise 정책에 따르면, 화면 보호기에 사용할 수 있는 비디오 파일의 최대 크기는 50 MB입니다. 파일은 MP4 또는 MKV 형식이어야 합니다.\n",
      "\n",
      "따라서 이 문맥에 따르면 화면 보호기에 사용될 수 있는 비디오 파일의 최대 크기는 50 MB입니다.##############################\n",
      "query: \n",
      " vidio max size?\n",
      "answer: \n",
      " 비디오 파일 크기는 다음과 같습니다:\n",
      "\n",
      "Android Enterprise 정책에 따르면, 화면 보호기에 사용할 수 있는 비디오 파일의 최대 크기는 50 MB입니다. 파일은 MP4 또는 MKV 형식이어야 합니다.\n",
      "\n",
      "따라서 이 문맥에 따르면 화면 보호기에 사용될 수 있는 비디오 파일의 최대 크기는 50 MB입니다.\n"
     ]
    }
   ],
   "source": [
    "answer = chain.invoke(\n",
    "    {\n",
    "        \"contexts\": similar_docs_semantic,\n",
    "        \"question\": query\n",
    "    }\n",
    ")\n",
    "\n",
    "print(\"##############################\")\n",
    "print(\"query: \\n\", query)\n",
    "print(\"answer: \\n\", answer)"
   ]
  },
  {
   "cell_type": "markdown",
   "metadata": {
    "jp-MarkdownHeadingCollapsed": true
   },
   "source": [
    "# 완료 하셨습니다. 다음 노트북으로 가세요."
   ]
  },
  {
   "cell_type": "markdown",
   "metadata": {},
   "source": [
    "# [옵션]. 검증 인덱스 생성\n",
    "\n",
    "아래 부분은 전체 문서의 일부(10%) 만을 샘플링하여 검증용으로 사용합니다. \n",
    "그래서 검증용 인덱스를 생성 합니다."
   ]
  },
  {
   "cell_type": "markdown",
   "metadata": {},
   "source": [
    "## Index 이름 결정"
   ]
  },
  {
   "cell_type": "code",
   "execution_count": null,
   "metadata": {
    "tags": []
   },
   "outputs": [],
   "source": [
    "eval_index_name = \"<Type Index Name>\"\n",
    "eval_index_name = \"v02-genai-poc-knox-eval-parent-doc-retriever\""
   ]
  },
  {
   "cell_type": "markdown",
   "metadata": {},
   "source": [
    "## 인덱스 이름을 Parameter Store 에 저장"
   ]
  },
  {
   "cell_type": "code",
   "execution_count": null,
   "metadata": {
    "tags": []
   },
   "outputs": [],
   "source": [
    "from local_utils.proc_docs import put_parameter\n",
    "\n",
    "put_parameter(\n",
    "    boto3_clinet = ssm, \n",
    "    parameter_name = \"opensearch_evaluation_index_name\",\n",
    "    parameter_value = f'{eval_index_name}'\n",
    ")"
   ]
  },
  {
   "cell_type": "code",
   "execution_count": null,
   "metadata": {
    "tags": []
   },
   "outputs": [],
   "source": [
    "opensearch_index_name = get_parameter(\n",
    "    boto3_clinet = ssm,\n",
    "    parameter_name = 'opensearch_evaluation_index_name',\n",
    ")\n",
    "\n",
    "print (\"opensearch_index_name: \", opensearch_index_name)\n",
    "\n"
   ]
  },
  {
   "cell_type": "markdown",
   "metadata": {},
   "source": [
    "## Sampling"
   ]
  },
  {
   "cell_type": "code",
   "execution_count": null,
   "metadata": {
    "scrolled": true,
    "tags": []
   },
   "outputs": [],
   "source": [
    "import random\n",
    "def get_sampling_doc(seed, ratio, docs):\n",
    "\n",
    "    random.seed(seed)\n",
    "    \n",
    "    eval_docs = docs[:int(len(docs)*ratio)]\n",
    "    \n",
    "    return eval_docs\n",
    "    \n",
    "eval_docs = get_sampling_doc(seed=200, ratio=0.05, docs= all_docs)\n",
    "print(\"eval docs: \", len(eval_docs))\n",
    "eval_docs[0:2]\n",
    "    \n",
    "    "
   ]
  },
  {
   "cell_type": "markdown",
   "metadata": {},
   "source": [
    "## 오픈 서치 인덱스 유무에 따라 삭제\n",
    "오픈 서치에 해당 인덱스가 존재하면, 삭제 합니다. "
   ]
  },
  {
   "cell_type": "code",
   "execution_count": null,
   "metadata": {
    "tags": []
   },
   "outputs": [],
   "source": [
    "index_exists = opensearch_utils.check_if_index_exists(\n",
    "    os_client,\n",
    "    eval_index_name\n",
    ")\n",
    "\n",
    "if index_exists:\n",
    "    opensearch_utils.delete_index(\n",
    "        os_client,\n",
    "        eval_index_name\n",
    "    )\n",
    "    \n",
    "opensearch_utils.create_index(os_client, eval_index_name, index_body)\n",
    "index_info = os_client.indices.get(index=eval_index_name)\n",
    "print(\"Index is created\")\n",
    "pprint(index_info)    "
   ]
  },
  {
   "cell_type": "markdown",
   "metadata": {},
   "source": [
    "## 검증 인덱스 연결 오브젝트 생성"
   ]
  },
  {
   "cell_type": "code",
   "execution_count": null,
   "metadata": {
    "tags": []
   },
   "outputs": [],
   "source": [
    "eval_vector_db = OpenSearchVectorSearch(\n",
    "    index_name= eval_index_name,\n",
    "    opensearch_url=opensearch_domain_endpoint,\n",
    "    embedding_function=llm_emb,\n",
    "    http_auth=http_auth, # http_auth\n",
    "    is_aoss =False,\n",
    "    engine=\"faiss\",\n",
    "    space_type=\"l2\",\n",
    "    bulk_size=100000,\n",
    "    timeout=60    \n",
    ")\n",
    "eval_vector_db"
   ]
  },
  {
   "cell_type": "markdown",
   "metadata": {},
   "source": [
    "## Parent Chunking"
   ]
  },
  {
   "cell_type": "code",
   "execution_count": null,
   "metadata": {
    "tags": []
   },
   "outputs": [],
   "source": [
    "parent_chunk_docs = create_parent_chunk(eval_docs, opensearch_parent_key_name, \n",
    "                                        opensearch_family_tree_key_name,parent_chunk_size, \n",
    "                                        parent_chunk_overlap)\n",
    "print(f\"Number of parent_chunk_docs= {len(parent_chunk_docs)}\")\n"
   ]
  },
  {
   "cell_type": "code",
   "execution_count": null,
   "metadata": {
    "tags": []
   },
   "outputs": [],
   "source": [
    "parent_chunk_docs[0:1]"
   ]
  },
  {
   "cell_type": "code",
   "execution_count": null,
   "metadata": {
    "tags": []
   },
   "outputs": [],
   "source": [
    "%%time\n",
    "\n",
    "parent_ids = eval_vector_db.add_documents(\n",
    "                        documents = parent_chunk_docs, \n",
    "                        vector_field = \"vector_field\",\n",
    "                        bulk_size = 1000000\n",
    "                    )\n",
    "\n"
   ]
  },
  {
   "cell_type": "code",
   "execution_count": null,
   "metadata": {
    "tags": []
   },
   "outputs": [],
   "source": [
    "total_count_docs = opensearch_utils.get_count(os_client, eval_index_name)\n",
    "print(\"total count docs: \", total_count_docs)\n"
   ]
  },
  {
   "cell_type": "code",
   "execution_count": null,
   "metadata": {
    "tags": []
   },
   "outputs": [],
   "source": [
    "response = opensearch_utils.get_document(os_client, doc_id = parent_ids[0], index_name = eval_index_name)\n",
    "show_opensearch_doc_info(response)    "
   ]
  },
  {
   "cell_type": "markdown",
   "metadata": {},
   "source": [
    "## Child Chunking"
   ]
  },
  {
   "cell_type": "code",
   "execution_count": null,
   "metadata": {
    "tags": []
   },
   "outputs": [],
   "source": [
    "# child_chunk_docs = create_child_chunk(parent_chunk_docs[0:1], parent_ids)\n",
    "child_chunk_docs = create_child_chunk(child_chunk_size, child_chunk_overlap, parent_chunk_docs, \n",
    "                                      parent_ids, \n",
    "                                      opensearch_parent_key_name, opensearch_family_tree_key_name)\n",
    "print(f\"Number of child_chunk_docs= {len(child_chunk_docs)}\")\n"
   ]
  },
  {
   "cell_type": "code",
   "execution_count": null,
   "metadata": {
    "tags": []
   },
   "outputs": [],
   "source": [
    "child_chunk_docs[0:1]"
   ]
  },
  {
   "cell_type": "code",
   "execution_count": null,
   "metadata": {
    "tags": []
   },
   "outputs": [],
   "source": [
    "parent_id = child_chunk_docs[0].metadata[\"parent_id\"]\n",
    "print(\"child's parent_id: \", parent_id)\n",
    "print(\"\\n###### Search parent in OpenSearch\")\n",
    "response = opensearch_utils.get_document(os_client, doc_id = parent_id, index_name = eval_index_name)\n",
    "show_opensearch_doc_info(response)    \n"
   ]
  },
  {
   "cell_type": "code",
   "execution_count": null,
   "metadata": {
    "tags": []
   },
   "outputs": [],
   "source": [
    "%%time\n",
    "\n",
    "child_ids = eval_vector_db.add_documents(\n",
    "                        documents = child_chunk_docs, \n",
    "                        vector_field = \"vector_field\",\n",
    "                        bulk_size = 1000000\n",
    "                    )\n",
    "\n",
    "print(\"length of child_ids: \", len(child_ids))"
   ]
  },
  {
   "cell_type": "code",
   "execution_count": null,
   "metadata": {
    "tags": []
   },
   "outputs": [],
   "source": [
    "total_count_docs = opensearch_utils.get_count(os_client, eval_index_name)\n",
    "print(\"total count docs: \", total_count_docs)\n"
   ]
  },
  {
   "cell_type": "code",
   "execution_count": null,
   "metadata": {
    "tags": []
   },
   "outputs": [],
   "source": [
    "response = opensearch_utils.get_document(os_client, doc_id = child_ids[5], index_name = eval_index_name)\n",
    "show_opensearch_doc_info(response)    "
   ]
  },
  {
   "cell_type": "code",
   "execution_count": null,
   "metadata": {
    "scrolled": true,
    "tags": []
   },
   "outputs": [],
   "source": [
    "parent_id = response[\"_source\"][\"metadata\"][\"parent_id\"]\n",
    "print(\"child's parent_id: \", parent_id)\n",
    "print(\"\\n###### Search parent in OpenSearch\")\n",
    "response = opensearch_utils.get_document(os_client, doc_id = parent_id, index_name = eval_index_name)\n",
    "show_opensearch_doc_info(response)    \n"
   ]
  },
  {
   "cell_type": "markdown",
   "metadata": {},
   "source": [
    "## 검색 테스트"
   ]
  },
  {
   "cell_type": "code",
   "execution_count": null,
   "metadata": {
    "tags": []
   },
   "outputs": [],
   "source": [
    "q = \"'how to use barcode\"\n",
    "query ={'query': \n",
    "        {'bool': {'must': \n",
    "                  [{'match': \n",
    "                    {'text': \n",
    "                     {'query': f\"{q}\", 'minimum_should_match': '0%', 'operator': 'or'}}}], \n",
    "                  'filter': {\n",
    "                    \"term\": {\n",
    "                      \"metadata.family_tree\": \"child\"\n",
    "                    }                      \n",
    "                  }\n",
    "                 }\n",
    "        }\n",
    "       }\n",
    "pprint(query)"
   ]
  },
  {
   "cell_type": "code",
   "execution_count": null,
   "metadata": {
    "tags": []
   },
   "outputs": [],
   "source": [
    "response = opensearch_utils.search_document(os_client, query, eval_index_name)\n",
    "opensearch_utils.parse_keyword_response(response, show_size=5)"
   ]
  },
  {
   "cell_type": "code",
   "execution_count": null,
   "metadata": {
    "tags": []
   },
   "outputs": [],
   "source": [
    "eval_vector_db.similarity_search(q, k=7)"
   ]
  },
  {
   "cell_type": "code",
   "execution_count": null,
   "metadata": {},
   "outputs": [],
   "source": []
  }
 ],
 "metadata": {
  "availableInstances": [
   {
    "_defaultOrder": 0,
    "_isFastLaunch": true,
    "category": "General purpose",
    "gpuNum": 0,
    "hideHardwareSpecs": false,
    "memoryGiB": 4,
    "name": "ml.t3.medium",
    "vcpuNum": 2
   },
   {
    "_defaultOrder": 1,
    "_isFastLaunch": false,
    "category": "General purpose",
    "gpuNum": 0,
    "hideHardwareSpecs": false,
    "memoryGiB": 8,
    "name": "ml.t3.large",
    "vcpuNum": 2
   },
   {
    "_defaultOrder": 2,
    "_isFastLaunch": false,
    "category": "General purpose",
    "gpuNum": 0,
    "hideHardwareSpecs": false,
    "memoryGiB": 16,
    "name": "ml.t3.xlarge",
    "vcpuNum": 4
   },
   {
    "_defaultOrder": 3,
    "_isFastLaunch": false,
    "category": "General purpose",
    "gpuNum": 0,
    "hideHardwareSpecs": false,
    "memoryGiB": 32,
    "name": "ml.t3.2xlarge",
    "vcpuNum": 8
   },
   {
    "_defaultOrder": 4,
    "_isFastLaunch": true,
    "category": "General purpose",
    "gpuNum": 0,
    "hideHardwareSpecs": false,
    "memoryGiB": 8,
    "name": "ml.m5.large",
    "vcpuNum": 2
   },
   {
    "_defaultOrder": 5,
    "_isFastLaunch": false,
    "category": "General purpose",
    "gpuNum": 0,
    "hideHardwareSpecs": false,
    "memoryGiB": 16,
    "name": "ml.m5.xlarge",
    "vcpuNum": 4
   },
   {
    "_defaultOrder": 6,
    "_isFastLaunch": false,
    "category": "General purpose",
    "gpuNum": 0,
    "hideHardwareSpecs": false,
    "memoryGiB": 32,
    "name": "ml.m5.2xlarge",
    "vcpuNum": 8
   },
   {
    "_defaultOrder": 7,
    "_isFastLaunch": false,
    "category": "General purpose",
    "gpuNum": 0,
    "hideHardwareSpecs": false,
    "memoryGiB": 64,
    "name": "ml.m5.4xlarge",
    "vcpuNum": 16
   },
   {
    "_defaultOrder": 8,
    "_isFastLaunch": false,
    "category": "General purpose",
    "gpuNum": 0,
    "hideHardwareSpecs": false,
    "memoryGiB": 128,
    "name": "ml.m5.8xlarge",
    "vcpuNum": 32
   },
   {
    "_defaultOrder": 9,
    "_isFastLaunch": false,
    "category": "General purpose",
    "gpuNum": 0,
    "hideHardwareSpecs": false,
    "memoryGiB": 192,
    "name": "ml.m5.12xlarge",
    "vcpuNum": 48
   },
   {
    "_defaultOrder": 10,
    "_isFastLaunch": false,
    "category": "General purpose",
    "gpuNum": 0,
    "hideHardwareSpecs": false,
    "memoryGiB": 256,
    "name": "ml.m5.16xlarge",
    "vcpuNum": 64
   },
   {
    "_defaultOrder": 11,
    "_isFastLaunch": false,
    "category": "General purpose",
    "gpuNum": 0,
    "hideHardwareSpecs": false,
    "memoryGiB": 384,
    "name": "ml.m5.24xlarge",
    "vcpuNum": 96
   },
   {
    "_defaultOrder": 12,
    "_isFastLaunch": false,
    "category": "General purpose",
    "gpuNum": 0,
    "hideHardwareSpecs": false,
    "memoryGiB": 8,
    "name": "ml.m5d.large",
    "vcpuNum": 2
   },
   {
    "_defaultOrder": 13,
    "_isFastLaunch": false,
    "category": "General purpose",
    "gpuNum": 0,
    "hideHardwareSpecs": false,
    "memoryGiB": 16,
    "name": "ml.m5d.xlarge",
    "vcpuNum": 4
   },
   {
    "_defaultOrder": 14,
    "_isFastLaunch": false,
    "category": "General purpose",
    "gpuNum": 0,
    "hideHardwareSpecs": false,
    "memoryGiB": 32,
    "name": "ml.m5d.2xlarge",
    "vcpuNum": 8
   },
   {
    "_defaultOrder": 15,
    "_isFastLaunch": false,
    "category": "General purpose",
    "gpuNum": 0,
    "hideHardwareSpecs": false,
    "memoryGiB": 64,
    "name": "ml.m5d.4xlarge",
    "vcpuNum": 16
   },
   {
    "_defaultOrder": 16,
    "_isFastLaunch": false,
    "category": "General purpose",
    "gpuNum": 0,
    "hideHardwareSpecs": false,
    "memoryGiB": 128,
    "name": "ml.m5d.8xlarge",
    "vcpuNum": 32
   },
   {
    "_defaultOrder": 17,
    "_isFastLaunch": false,
    "category": "General purpose",
    "gpuNum": 0,
    "hideHardwareSpecs": false,
    "memoryGiB": 192,
    "name": "ml.m5d.12xlarge",
    "vcpuNum": 48
   },
   {
    "_defaultOrder": 18,
    "_isFastLaunch": false,
    "category": "General purpose",
    "gpuNum": 0,
    "hideHardwareSpecs": false,
    "memoryGiB": 256,
    "name": "ml.m5d.16xlarge",
    "vcpuNum": 64
   },
   {
    "_defaultOrder": 19,
    "_isFastLaunch": false,
    "category": "General purpose",
    "gpuNum": 0,
    "hideHardwareSpecs": false,
    "memoryGiB": 384,
    "name": "ml.m5d.24xlarge",
    "vcpuNum": 96
   },
   {
    "_defaultOrder": 20,
    "_isFastLaunch": false,
    "category": "General purpose",
    "gpuNum": 0,
    "hideHardwareSpecs": true,
    "memoryGiB": 0,
    "name": "ml.geospatial.interactive",
    "supportedImageNames": [
     "sagemaker-geospatial-v1-0"
    ],
    "vcpuNum": 0
   },
   {
    "_defaultOrder": 21,
    "_isFastLaunch": true,
    "category": "Compute optimized",
    "gpuNum": 0,
    "hideHardwareSpecs": false,
    "memoryGiB": 4,
    "name": "ml.c5.large",
    "vcpuNum": 2
   },
   {
    "_defaultOrder": 22,
    "_isFastLaunch": false,
    "category": "Compute optimized",
    "gpuNum": 0,
    "hideHardwareSpecs": false,
    "memoryGiB": 8,
    "name": "ml.c5.xlarge",
    "vcpuNum": 4
   },
   {
    "_defaultOrder": 23,
    "_isFastLaunch": false,
    "category": "Compute optimized",
    "gpuNum": 0,
    "hideHardwareSpecs": false,
    "memoryGiB": 16,
    "name": "ml.c5.2xlarge",
    "vcpuNum": 8
   },
   {
    "_defaultOrder": 24,
    "_isFastLaunch": false,
    "category": "Compute optimized",
    "gpuNum": 0,
    "hideHardwareSpecs": false,
    "memoryGiB": 32,
    "name": "ml.c5.4xlarge",
    "vcpuNum": 16
   },
   {
    "_defaultOrder": 25,
    "_isFastLaunch": false,
    "category": "Compute optimized",
    "gpuNum": 0,
    "hideHardwareSpecs": false,
    "memoryGiB": 72,
    "name": "ml.c5.9xlarge",
    "vcpuNum": 36
   },
   {
    "_defaultOrder": 26,
    "_isFastLaunch": false,
    "category": "Compute optimized",
    "gpuNum": 0,
    "hideHardwareSpecs": false,
    "memoryGiB": 96,
    "name": "ml.c5.12xlarge",
    "vcpuNum": 48
   },
   {
    "_defaultOrder": 27,
    "_isFastLaunch": false,
    "category": "Compute optimized",
    "gpuNum": 0,
    "hideHardwareSpecs": false,
    "memoryGiB": 144,
    "name": "ml.c5.18xlarge",
    "vcpuNum": 72
   },
   {
    "_defaultOrder": 28,
    "_isFastLaunch": false,
    "category": "Compute optimized",
    "gpuNum": 0,
    "hideHardwareSpecs": false,
    "memoryGiB": 192,
    "name": "ml.c5.24xlarge",
    "vcpuNum": 96
   },
   {
    "_defaultOrder": 29,
    "_isFastLaunch": true,
    "category": "Accelerated computing",
    "gpuNum": 1,
    "hideHardwareSpecs": false,
    "memoryGiB": 16,
    "name": "ml.g4dn.xlarge",
    "vcpuNum": 4
   },
   {
    "_defaultOrder": 30,
    "_isFastLaunch": false,
    "category": "Accelerated computing",
    "gpuNum": 1,
    "hideHardwareSpecs": false,
    "memoryGiB": 32,
    "name": "ml.g4dn.2xlarge",
    "vcpuNum": 8
   },
   {
    "_defaultOrder": 31,
    "_isFastLaunch": false,
    "category": "Accelerated computing",
    "gpuNum": 1,
    "hideHardwareSpecs": false,
    "memoryGiB": 64,
    "name": "ml.g4dn.4xlarge",
    "vcpuNum": 16
   },
   {
    "_defaultOrder": 32,
    "_isFastLaunch": false,
    "category": "Accelerated computing",
    "gpuNum": 1,
    "hideHardwareSpecs": false,
    "memoryGiB": 128,
    "name": "ml.g4dn.8xlarge",
    "vcpuNum": 32
   },
   {
    "_defaultOrder": 33,
    "_isFastLaunch": false,
    "category": "Accelerated computing",
    "gpuNum": 4,
    "hideHardwareSpecs": false,
    "memoryGiB": 192,
    "name": "ml.g4dn.12xlarge",
    "vcpuNum": 48
   },
   {
    "_defaultOrder": 34,
    "_isFastLaunch": false,
    "category": "Accelerated computing",
    "gpuNum": 1,
    "hideHardwareSpecs": false,
    "memoryGiB": 256,
    "name": "ml.g4dn.16xlarge",
    "vcpuNum": 64
   },
   {
    "_defaultOrder": 35,
    "_isFastLaunch": false,
    "category": "Accelerated computing",
    "gpuNum": 1,
    "hideHardwareSpecs": false,
    "memoryGiB": 61,
    "name": "ml.p3.2xlarge",
    "vcpuNum": 8
   },
   {
    "_defaultOrder": 36,
    "_isFastLaunch": false,
    "category": "Accelerated computing",
    "gpuNum": 4,
    "hideHardwareSpecs": false,
    "memoryGiB": 244,
    "name": "ml.p3.8xlarge",
    "vcpuNum": 32
   },
   {
    "_defaultOrder": 37,
    "_isFastLaunch": false,
    "category": "Accelerated computing",
    "gpuNum": 8,
    "hideHardwareSpecs": false,
    "memoryGiB": 488,
    "name": "ml.p3.16xlarge",
    "vcpuNum": 64
   },
   {
    "_defaultOrder": 38,
    "_isFastLaunch": false,
    "category": "Accelerated computing",
    "gpuNum": 8,
    "hideHardwareSpecs": false,
    "memoryGiB": 768,
    "name": "ml.p3dn.24xlarge",
    "vcpuNum": 96
   },
   {
    "_defaultOrder": 39,
    "_isFastLaunch": false,
    "category": "Memory Optimized",
    "gpuNum": 0,
    "hideHardwareSpecs": false,
    "memoryGiB": 16,
    "name": "ml.r5.large",
    "vcpuNum": 2
   },
   {
    "_defaultOrder": 40,
    "_isFastLaunch": false,
    "category": "Memory Optimized",
    "gpuNum": 0,
    "hideHardwareSpecs": false,
    "memoryGiB": 32,
    "name": "ml.r5.xlarge",
    "vcpuNum": 4
   },
   {
    "_defaultOrder": 41,
    "_isFastLaunch": false,
    "category": "Memory Optimized",
    "gpuNum": 0,
    "hideHardwareSpecs": false,
    "memoryGiB": 64,
    "name": "ml.r5.2xlarge",
    "vcpuNum": 8
   },
   {
    "_defaultOrder": 42,
    "_isFastLaunch": false,
    "category": "Memory Optimized",
    "gpuNum": 0,
    "hideHardwareSpecs": false,
    "memoryGiB": 128,
    "name": "ml.r5.4xlarge",
    "vcpuNum": 16
   },
   {
    "_defaultOrder": 43,
    "_isFastLaunch": false,
    "category": "Memory Optimized",
    "gpuNum": 0,
    "hideHardwareSpecs": false,
    "memoryGiB": 256,
    "name": "ml.r5.8xlarge",
    "vcpuNum": 32
   },
   {
    "_defaultOrder": 44,
    "_isFastLaunch": false,
    "category": "Memory Optimized",
    "gpuNum": 0,
    "hideHardwareSpecs": false,
    "memoryGiB": 384,
    "name": "ml.r5.12xlarge",
    "vcpuNum": 48
   },
   {
    "_defaultOrder": 45,
    "_isFastLaunch": false,
    "category": "Memory Optimized",
    "gpuNum": 0,
    "hideHardwareSpecs": false,
    "memoryGiB": 512,
    "name": "ml.r5.16xlarge",
    "vcpuNum": 64
   },
   {
    "_defaultOrder": 46,
    "_isFastLaunch": false,
    "category": "Memory Optimized",
    "gpuNum": 0,
    "hideHardwareSpecs": false,
    "memoryGiB": 768,
    "name": "ml.r5.24xlarge",
    "vcpuNum": 96
   },
   {
    "_defaultOrder": 47,
    "_isFastLaunch": false,
    "category": "Accelerated computing",
    "gpuNum": 1,
    "hideHardwareSpecs": false,
    "memoryGiB": 16,
    "name": "ml.g5.xlarge",
    "vcpuNum": 4
   },
   {
    "_defaultOrder": 48,
    "_isFastLaunch": false,
    "category": "Accelerated computing",
    "gpuNum": 1,
    "hideHardwareSpecs": false,
    "memoryGiB": 32,
    "name": "ml.g5.2xlarge",
    "vcpuNum": 8
   },
   {
    "_defaultOrder": 49,
    "_isFastLaunch": false,
    "category": "Accelerated computing",
    "gpuNum": 1,
    "hideHardwareSpecs": false,
    "memoryGiB": 64,
    "name": "ml.g5.4xlarge",
    "vcpuNum": 16
   },
   {
    "_defaultOrder": 50,
    "_isFastLaunch": false,
    "category": "Accelerated computing",
    "gpuNum": 1,
    "hideHardwareSpecs": false,
    "memoryGiB": 128,
    "name": "ml.g5.8xlarge",
    "vcpuNum": 32
   },
   {
    "_defaultOrder": 51,
    "_isFastLaunch": false,
    "category": "Accelerated computing",
    "gpuNum": 1,
    "hideHardwareSpecs": false,
    "memoryGiB": 256,
    "name": "ml.g5.16xlarge",
    "vcpuNum": 64
   },
   {
    "_defaultOrder": 52,
    "_isFastLaunch": false,
    "category": "Accelerated computing",
    "gpuNum": 4,
    "hideHardwareSpecs": false,
    "memoryGiB": 192,
    "name": "ml.g5.12xlarge",
    "vcpuNum": 48
   },
   {
    "_defaultOrder": 53,
    "_isFastLaunch": false,
    "category": "Accelerated computing",
    "gpuNum": 4,
    "hideHardwareSpecs": false,
    "memoryGiB": 384,
    "name": "ml.g5.24xlarge",
    "vcpuNum": 96
   },
   {
    "_defaultOrder": 54,
    "_isFastLaunch": false,
    "category": "Accelerated computing",
    "gpuNum": 8,
    "hideHardwareSpecs": false,
    "memoryGiB": 768,
    "name": "ml.g5.48xlarge",
    "vcpuNum": 192
   },
   {
    "_defaultOrder": 55,
    "_isFastLaunch": false,
    "category": "Accelerated computing",
    "gpuNum": 8,
    "hideHardwareSpecs": false,
    "memoryGiB": 1152,
    "name": "ml.p4d.24xlarge",
    "vcpuNum": 96
   },
   {
    "_defaultOrder": 56,
    "_isFastLaunch": false,
    "category": "Accelerated computing",
    "gpuNum": 8,
    "hideHardwareSpecs": false,
    "memoryGiB": 1152,
    "name": "ml.p4de.24xlarge",
    "vcpuNum": 96
   }
  ],
  "instance_type": "ml.m5.xlarge",
  "kernelspec": {
   "display_name": "conda_python3",
   "language": "python",
   "name": "conda_python3"
  },
  "language_info": {
   "codemirror_mode": {
    "name": "ipython",
    "version": 3
   },
   "file_extension": ".py",
   "mimetype": "text/x-python",
   "name": "python",
   "nbconvert_exporter": "python",
   "pygments_lexer": "ipython3",
   "version": "3.10.13"
  }
 },
 "nbformat": 4,
 "nbformat_minor": 4
}
