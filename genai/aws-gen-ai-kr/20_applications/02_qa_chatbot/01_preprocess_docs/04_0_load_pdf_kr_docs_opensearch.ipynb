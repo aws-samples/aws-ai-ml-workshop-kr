{
 "cells": [
  {
   "cell_type": "markdown",
   "metadata": {
    "tags": []
   },
   "source": [
    "# 신한은행 FAQ 데이타를 이용하여 스키마 정의 후 Vector Store 생성 \n",
    "\n",
    "이 노트북은 신한은행 FAQ 데이타를 이용하여 오픈 서치 벡터 스토어에 데이터를 저장하고, 렉시컬, 시멘틱, 하이브리드 검색을 해보는 노트북 입니다.\n",
    "\n",
    "---"
   ]
  },
  {
   "cell_type": "markdown",
   "metadata": {},
   "source": [
    "## [중요] 사전 실행 노트북\n",
    "이 노트북은 아래 두개의 셋업 노트북이 먼저 실행이 되어야 합니다.\n",
    "- (1) Setup 노트북\n",
    "    - 경로는 aws-ai-ml-workshop-kr/genai/aws-gen-ai-kr/00_setup/setup.ipynb 와 같습니다.\n",
    "    -  [Setup Notebook](https://github.com/aws-samples/aws-ai-ml-workshop-kr/blob/master/genai/aws-gen-ai-kr/00_setup/setup.ipynb)\n",
    "- (2) Amazon OpenSearch 설치 노트북    \n",
    "    - 경로는 aws-ai-ml-workshop-kr/genai/aws-gen-ai-kr/00_setup/setup_opensearch.ipynb 와 같습니다.\n",
    "    - [Setup OpenSearch](https://github.com/aws-samples/aws-ai-ml-workshop-kr/blob/master/genai/aws-gen-ai-kr/00_setup/setup_opensearch.ipynb)"
   ]
  },
  {
   "cell_type": "markdown",
   "metadata": {},
   "source": [
    "## Setting\n",
    " - Auto Reload\n",
    " - path for utils"
   ]
  },
  {
   "cell_type": "code",
   "execution_count": 93,
   "metadata": {
    "tags": []
   },
   "outputs": [
    {
     "name": "stdout",
     "output_type": "stream",
     "text": [
      "The autoreload extension is already loaded. To reload it, use:\n",
      "  %reload_ext autoreload\n"
     ]
    }
   ],
   "source": [
    "%load_ext autoreload\n",
    "%autoreload 2"
   ]
  },
  {
   "cell_type": "code",
   "execution_count": 94,
   "metadata": {
    "tags": []
   },
   "outputs": [
    {
     "name": "stdout",
     "output_type": "stream",
     "text": [
      "python path: /home/ec2-user/SageMaker/aws-ai-ml-workshop-kr/genai/aws-gen-ai-kr/20_applications/02_qa_chatbot already exists\n",
      "sys.path:  ['/home/ec2-user/SageMaker/aws-ai-ml-workshop-kr/genai/aws-gen-ai-kr/20_applications/02_qa_chatbot/01_preprocess_docs', '/home/ec2-user/anaconda3/envs/python3/lib/python310.zip', '/home/ec2-user/anaconda3/envs/python3/lib/python3.10', '/home/ec2-user/anaconda3/envs/python3/lib/python3.10/lib-dynload', '', '/home/ec2-user/anaconda3/envs/python3/lib/python3.10/site-packages', '/home/ec2-user/SageMaker/aws-ai-ml-workshop-kr/genai/aws-gen-ai-kr/20_applications/02_qa_chatbot', '/home/ec2-user/SageMaker/aws-ai-ml-workshop-kr/genai/aws-gen-ai-kr']\n",
      "python path: /home/ec2-user/SageMaker/aws-ai-ml-workshop-kr/genai/aws-gen-ai-kr already exists\n",
      "sys.path:  ['/home/ec2-user/SageMaker/aws-ai-ml-workshop-kr/genai/aws-gen-ai-kr/20_applications/02_qa_chatbot/01_preprocess_docs', '/home/ec2-user/anaconda3/envs/python3/lib/python310.zip', '/home/ec2-user/anaconda3/envs/python3/lib/python3.10', '/home/ec2-user/anaconda3/envs/python3/lib/python3.10/lib-dynload', '', '/home/ec2-user/anaconda3/envs/python3/lib/python3.10/site-packages', '/home/ec2-user/SageMaker/aws-ai-ml-workshop-kr/genai/aws-gen-ai-kr/20_applications/02_qa_chatbot', '/home/ec2-user/SageMaker/aws-ai-ml-workshop-kr/genai/aws-gen-ai-kr']\n"
     ]
    }
   ],
   "source": [
    "import sys, os\n",
    "\n",
    "def add_python_path(module_path):\n",
    "    if os.path.abspath(module_path) not in sys.path:\n",
    "        sys.path.append(os.path.abspath(module_path))\n",
    "        print(f\"python path: {os.path.abspath(module_path)} is added\")\n",
    "    else:\n",
    "        print(f\"python path: {os.path.abspath(module_path)} already exists\")\n",
    "    print(\"sys.path: \", sys.path)\n",
    "\n",
    "module_path = \"..\"\n",
    "add_python_path(module_path)\n",
    "module_path = \"../../..\"\n",
    "add_python_path(module_path)"
   ]
  },
  {
   "cell_type": "markdown",
   "metadata": {},
   "source": [
    "## 1. Bedrock Client 생성"
   ]
  },
  {
   "cell_type": "code",
   "execution_count": 95,
   "metadata": {
    "tags": []
   },
   "outputs": [],
   "source": [
    "import json\n",
    "import boto3\n",
    "from pprint import pprint\n",
    "from termcolor import colored\n",
    "from utils import bedrock, print_ww\n",
    "from utils.bedrock import bedrock_info"
   ]
  },
  {
   "cell_type": "markdown",
   "metadata": {},
   "source": [
    "### ---- ⚠️ Un-comment and edit the below lines as needed for your AWS setup ⚠️ ----\n",
    "- os.environ[\"AWS_DEFAULT_REGION\"] = \"<REGION_NAME>\"  # E.g. \"us-east-1\"\n",
    "- os.environ[\"AWS_PROFILE\"] = \"<YOUR_PROFILE>\"\n",
    "- os.environ[\"BEDROCK_ASSUME_ROLE\"] = \"<YOUR_ROLE_ARN>\"  # E.g. \"arn:aws:...\"\n",
    "- os.environ[\"BEDROCK_ENDPOINT_URL\"] = \"<YOUR_ENDPOINT_URL>\"  # E.g. \"https://...\""
   ]
  },
  {
   "cell_type": "code",
   "execution_count": 96,
   "metadata": {
    "tags": []
   },
   "outputs": [
    {
     "name": "stdout",
     "output_type": "stream",
     "text": [
      "Create new client\n",
      "  Using region: None\n",
      "  Using profile: None\n",
      "boto3 Bedrock client successfully created!\n",
      "bedrock-runtime(https://bedrock-runtime.us-east-1.amazonaws.com)\n",
      "\u001b[32m\n",
      "== FM lists ==\u001b[0m\n",
      "{'Claude-Instant-V1': 'anthropic.claude-instant-v1',\n",
      " 'Claude-V1': 'anthropic.claude-v1',\n",
      " 'Claude-V2': 'anthropic.claude-v2',\n",
      " 'Claude-V2-1': 'anthropic.claude-v2:1',\n",
      " 'Claude-V3-Haiku': 'anthropic.claude-3-haiku-20240307-v1:0',\n",
      " 'Claude-V3-Sonnet': 'anthropic.claude-3-sonnet-20240229-v1:0',\n",
      " 'Cohere-Embeddings-En': 'cohere.embed-english-v3',\n",
      " 'Cohere-Embeddings-Multilingual': 'cohere.embed-multilingual-v3',\n",
      " 'Command': 'cohere.command-text-v14',\n",
      " 'Command-Light': 'cohere.command-light-text-v14',\n",
      " 'Jurassic-2-Mid': 'ai21.j2-mid-v1',\n",
      " 'Jurassic-2-Ultra': 'ai21.j2-ultra-v1',\n",
      " 'Llama2-13b-Chat': 'meta.llama2-13b-chat-v1',\n",
      " 'Titan-Embeddings-G1': 'amazon.titan-embed-text-v1',\n",
      " 'Titan-Text-G1': 'amazon.titan-text-express-v1',\n",
      " 'Titan-Text-G1-Light': 'amazon.titan-text-lite-v1'}\n"
     ]
    }
   ],
   "source": [
    "boto3_bedrock = bedrock.get_bedrock_client(\n",
    "    assumed_role=os.environ.get(\"BEDROCK_ASSUME_ROLE\", None),\n",
    "    endpoint_url=os.environ.get(\"BEDROCK_ENDPOINT_URL\", None),\n",
    "    region=os.environ.get(\"AWS_DEFAULT_REGION\", None),\n",
    ")\n",
    "\n",
    "print (colored(\"\\n== FM lists ==\", \"green\"))\n",
    "pprint (bedrock_info.get_list_fm_models(verbose=False))"
   ]
  },
  {
   "cell_type": "markdown",
   "metadata": {},
   "source": [
    "## 2. Embedding 모델 로딩"
   ]
  },
  {
   "cell_type": "markdown",
   "metadata": {},
   "source": [
    "## Embedding Model 선택"
   ]
  },
  {
   "cell_type": "code",
   "execution_count": 97,
   "metadata": {
    "tags": []
   },
   "outputs": [],
   "source": [
    "# We will be using the Titan Embeddings Model to generate our Embeddings.\n",
    "from langchain.embeddings import BedrockEmbeddings\n",
    "from langchain_community.chat_models import BedrockChat"
   ]
  },
  {
   "cell_type": "code",
   "execution_count": 98,
   "metadata": {
    "tags": []
   },
   "outputs": [
    {
     "data": {
      "text/plain": [
       "BedrockEmbeddings(client=<botocore.client.BedrockRuntime object at 0x7fb4a4133e80>, region_name=None, credentials_profile_name=None, model_id='amazon.titan-embed-text-v1', model_kwargs=None, endpoint_url=None, normalize=False)"
      ]
     },
     "execution_count": 98,
     "metadata": {},
     "output_type": "execute_result"
    }
   ],
   "source": [
    "llm_emb = BedrockEmbeddings(\n",
    "    client=boto3_bedrock,\n",
    "    model_id=bedrock_info.get_model_id(\n",
    "        model_name=\"Titan-Embeddings-G1\"\n",
    "    )\n",
    ")\n",
    "dimension = 1536\n",
    "llm_emb"
   ]
  },
  {
   "cell_type": "markdown",
   "metadata": {},
   "source": [
    "## 3.데이터 준비 "
   ]
  },
  {
   "cell_type": "markdown",
   "metadata": {
    "tags": []
   },
   "source": [
    "###  신한은행 FAQ 데이터 세트로 구현\n",
    "- [중요] 저자 및 동료가 아래의 웹사이트에서 크로링한 기준으로 구성 하였습니다.\n",
    "- 인터넷뱅킹 FAQ > 스마트뱅킹 No.1 ~ N. 89 로 구성되었습니다. \n",
    "- https://www.shinhan.com/hpe/index.jsp#050101020000"
   ]
  },
  {
   "cell_type": "code",
   "execution_count": 99,
   "metadata": {
    "tags": []
   },
   "outputs": [],
   "source": [
    "import pandas as pd"
   ]
  },
  {
   "cell_type": "code",
   "execution_count": 100,
   "metadata": {
    "tags": []
   },
   "outputs": [
    {
     "data": {
      "text/html": [
       "<div>\n",
       "<style scoped>\n",
       "    .dataframe tbody tr th:only-of-type {\n",
       "        vertical-align: middle;\n",
       "    }\n",
       "\n",
       "    .dataframe tbody tr th {\n",
       "        vertical-align: top;\n",
       "    }\n",
       "\n",
       "    .dataframe thead th {\n",
       "        text-align: right;\n",
       "    }\n",
       "</style>\n",
       "<table border=\"1\" class=\"dataframe\">\n",
       "  <thead>\n",
       "    <tr style=\"text-align: right;\">\n",
       "      <th></th>\n",
       "      <th>no</th>\n",
       "      <th>Category</th>\n",
       "      <th>Information</th>\n",
       "      <th>type</th>\n",
       "      <th>Source</th>\n",
       "    </tr>\n",
       "  </thead>\n",
       "  <tbody>\n",
       "    <tr>\n",
       "      <th>0</th>\n",
       "      <td>91</td>\n",
       "      <td>아마존 은행의 타기관OTP 이용등록방법 알려주세요</td>\n",
       "      <td>아마존 은행의 타기관에서 발급받으신 OTP가 통합OTP카드인 경우 당행에 등록하여 ...</td>\n",
       "      <td>인터넷뱅킹</td>\n",
       "      <td>아마존은행</td>\n",
       "    </tr>\n",
       "    <tr>\n",
       "      <th>1</th>\n",
       "      <td>90</td>\n",
       "      <td>아마존 공동인증서와 금융인증서 차이점이 무엇인가요?</td>\n",
       "      <td>공동인증서 (구 공인인증서)는 용도에 따라 은행/신용카드/보험용 무료 인증서와 전자...</td>\n",
       "      <td>인증서</td>\n",
       "      <td>아마존은행</td>\n",
       "    </tr>\n",
       "    <tr>\n",
       "      <th>2</th>\n",
       "      <td>88</td>\n",
       "      <td>공동인증서와 금융인증서 차이점이 무엇인가요?</td>\n",
       "      <td>공동인증서 (구 공인인증서)는 용도에 따라 은행/신용카드/보험용 무료 인증서와 전자...</td>\n",
       "      <td>인증서</td>\n",
       "      <td>신한은행</td>\n",
       "    </tr>\n",
       "    <tr>\n",
       "      <th>3</th>\n",
       "      <td>89</td>\n",
       "      <td>타기관OTP 이용등록방법 알려주세요</td>\n",
       "      <td>타기관에서 발급받으신 OTP가 통합OTP카드인 경우 당행에 등록하여 이용가능합니다....</td>\n",
       "      <td>인터넷뱅킹</td>\n",
       "      <td>신한은행</td>\n",
       "    </tr>\n",
       "    <tr>\n",
       "      <th>4</th>\n",
       "      <td>88</td>\n",
       "      <td>공동인증서와 금융인증서 차이점이 무엇인가요?</td>\n",
       "      <td>공동인증서 (구 공인인증서)는 용도에 따라 은행/신용카드/보험용 무료 인증서와 전자...</td>\n",
       "      <td>인증서</td>\n",
       "      <td>신한은행</td>\n",
       "    </tr>\n",
       "    <tr>\n",
       "      <th>...</th>\n",
       "      <td>...</td>\n",
       "      <td>...</td>\n",
       "      <td>...</td>\n",
       "      <td>...</td>\n",
       "      <td>...</td>\n",
       "    </tr>\n",
       "    <tr>\n",
       "      <th>87</th>\n",
       "      <td>5</td>\n",
       "      <td>인터넷에서 이체한 거래의 상세내역 및 영수증을 인쇄하고 싶어요</td>\n",
       "      <td>인터넷상에서 이체한 거래의 경우 인터넷상에서 제공하는 영수증은 없으며, 거래의 참고...</td>\n",
       "      <td>인터넷뱅킹</td>\n",
       "      <td>신한은행</td>\n",
       "    </tr>\n",
       "    <tr>\n",
       "      <th>88</th>\n",
       "      <td>4</td>\n",
       "      <td>타행으로 자동이체를 신청하고 싶은데요</td>\n",
       "      <td>인터넷뱅킹을 통한 타은행 계좌로의 자동이체(납부자 자동이체)신청이 가능하며 수수료는...</td>\n",
       "      <td>인터넷뱅킹</td>\n",
       "      <td>신한은행</td>\n",
       "    </tr>\n",
       "    <tr>\n",
       "      <th>89</th>\n",
       "      <td>3</td>\n",
       "      <td>공과금 자동이체 신청이 가능한가요?</td>\n",
       "      <td>인터넷뱅킹에 로그인하신 후 \"공과금/법원 &gt; 공과금센터\" 페이지에 가시면 \"지로자동...</td>\n",
       "      <td>인터넷뱅킹</td>\n",
       "      <td>신한은행</td>\n",
       "    </tr>\n",
       "    <tr>\n",
       "      <th>90</th>\n",
       "      <td>2</td>\n",
       "      <td>인터넷뱅킹 거래에 대한 책임 범위를 알고싶습니다.</td>\n",
       "      <td>기본적으로 은행이 인터넷뱅킹 사고에 대한 책임을 집니다. 해커의 침입에 의해 자금이...</td>\n",
       "      <td>인터넷뱅킹</td>\n",
       "      <td>신한은행</td>\n",
       "    </tr>\n",
       "    <tr>\n",
       "      <th>91</th>\n",
       "      <td>1</td>\n",
       "      <td>인터넷뱅킹을 이용하려면 어떻게 해야 합니까?</td>\n",
       "      <td>영업점에 방문하지 않아도, 모바일에서 신한 쏠 (SOL) 어플 다운로드후 회원가입하...</td>\n",
       "      <td>인터넷뱅킹</td>\n",
       "      <td>신한은행</td>\n",
       "    </tr>\n",
       "  </tbody>\n",
       "</table>\n",
       "<p>92 rows × 5 columns</p>\n",
       "</div>"
      ],
      "text/plain": [
       "    no                            Category  \\\n",
       "0   91         아마존 은행의 타기관OTP 이용등록방법 알려주세요   \n",
       "1   90        아마존 공동인증서와 금융인증서 차이점이 무엇인가요?   \n",
       "2   88            공동인증서와 금융인증서 차이점이 무엇인가요?   \n",
       "3   89                 타기관OTP 이용등록방법 알려주세요   \n",
       "4   88            공동인증서와 금융인증서 차이점이 무엇인가요?   \n",
       "..  ..                                 ...   \n",
       "87   5  인터넷에서 이체한 거래의 상세내역 및 영수증을 인쇄하고 싶어요   \n",
       "88   4                타행으로 자동이체를 신청하고 싶은데요   \n",
       "89   3                 공과금 자동이체 신청이 가능한가요?   \n",
       "90   2         인터넷뱅킹 거래에 대한 책임 범위를 알고싶습니다.   \n",
       "91   1            인터넷뱅킹을 이용하려면 어떻게 해야 합니까?   \n",
       "\n",
       "                                          Information   type Source  \n",
       "0   아마존 은행의 타기관에서 발급받으신 OTP가 통합OTP카드인 경우 당행에 등록하여 ...  인터넷뱅킹  아마존은행  \n",
       "1   공동인증서 (구 공인인증서)는 용도에 따라 은행/신용카드/보험용 무료 인증서와 전자...    인증서  아마존은행  \n",
       "2   공동인증서 (구 공인인증서)는 용도에 따라 은행/신용카드/보험용 무료 인증서와 전자...    인증서   신한은행  \n",
       "3   타기관에서 발급받으신 OTP가 통합OTP카드인 경우 당행에 등록하여 이용가능합니다....  인터넷뱅킹   신한은행  \n",
       "4   공동인증서 (구 공인인증서)는 용도에 따라 은행/신용카드/보험용 무료 인증서와 전자...    인증서   신한은행  \n",
       "..                                                ...    ...    ...  \n",
       "87  인터넷상에서 이체한 거래의 경우 인터넷상에서 제공하는 영수증은 없으며, 거래의 참고...  인터넷뱅킹   신한은행  \n",
       "88  인터넷뱅킹을 통한 타은행 계좌로의 자동이체(납부자 자동이체)신청이 가능하며 수수료는...  인터넷뱅킹   신한은행  \n",
       "89  인터넷뱅킹에 로그인하신 후 \"공과금/법원 > 공과금센터\" 페이지에 가시면 \"지로자동...  인터넷뱅킹   신한은행  \n",
       "90  기본적으로 은행이 인터넷뱅킹 사고에 대한 책임을 집니다. 해커의 침입에 의해 자금이...  인터넷뱅킹   신한은행  \n",
       "91  영업점에 방문하지 않아도, 모바일에서 신한 쏠 (SOL) 어플 다운로드후 회원가입하...  인터넷뱅킹   신한은행  \n",
       "\n",
       "[92 rows x 5 columns]"
      ]
     },
     "execution_count": 100,
     "metadata": {},
     "output_type": "execute_result"
    }
   ],
   "source": [
    "data_file_path = \"./data/shinhan/fsi_smart_faq_ko.csv\"\n",
    "df = pd.read_csv(data_file_path)\n",
    "df"
   ]
  },
  {
   "cell_type": "markdown",
   "metadata": {},
   "source": [
    "### 데이터 전처리\n",
    "- 여기서 no 는 제거 합니다. "
   ]
  },
  {
   "cell_type": "code",
   "execution_count": 101,
   "metadata": {
    "tags": []
   },
   "outputs": [],
   "source": [
    "os.makedirs(\"data\", exist_ok=True)"
   ]
  },
  {
   "cell_type": "code",
   "execution_count": 102,
   "metadata": {
    "tags": []
   },
   "outputs": [
    {
     "data": {
      "text/html": [
       "<div>\n",
       "<style scoped>\n",
       "    .dataframe tbody tr th:only-of-type {\n",
       "        vertical-align: middle;\n",
       "    }\n",
       "\n",
       "    .dataframe tbody tr th {\n",
       "        vertical-align: top;\n",
       "    }\n",
       "\n",
       "    .dataframe thead th {\n",
       "        text-align: right;\n",
       "    }\n",
       "</style>\n",
       "<table border=\"1\" class=\"dataframe\">\n",
       "  <thead>\n",
       "    <tr style=\"text-align: right;\">\n",
       "      <th></th>\n",
       "      <th>ask</th>\n",
       "      <th>Information</th>\n",
       "      <th>type</th>\n",
       "      <th>Source</th>\n",
       "    </tr>\n",
       "  </thead>\n",
       "  <tbody>\n",
       "    <tr>\n",
       "      <th>0</th>\n",
       "      <td>아마존 은행의 타기관OTP 이용등록방법 알려주세요</td>\n",
       "      <td>아마존 은행의 타기관에서 발급받으신 OTP가 통합OTP카드인 경우 당행에 등록하여 ...</td>\n",
       "      <td>인터넷뱅킹</td>\n",
       "      <td>아마존은행</td>\n",
       "    </tr>\n",
       "    <tr>\n",
       "      <th>1</th>\n",
       "      <td>아마존 공동인증서와 금융인증서 차이점이 무엇인가요?</td>\n",
       "      <td>공동인증서 (구 공인인증서)는 용도에 따라 은행/신용카드/보험용 무료 인증서와 전자...</td>\n",
       "      <td>인증서</td>\n",
       "      <td>아마존은행</td>\n",
       "    </tr>\n",
       "    <tr>\n",
       "      <th>2</th>\n",
       "      <td>공동인증서와 금융인증서 차이점이 무엇인가요?</td>\n",
       "      <td>공동인증서 (구 공인인증서)는 용도에 따라 은행/신용카드/보험용 무료 인증서와 전자...</td>\n",
       "      <td>인증서</td>\n",
       "      <td>신한은행</td>\n",
       "    </tr>\n",
       "    <tr>\n",
       "      <th>3</th>\n",
       "      <td>타기관OTP 이용등록방법 알려주세요</td>\n",
       "      <td>타기관에서 발급받으신 OTP가 통합OTP카드인 경우 당행에 등록하여 이용가능합니다....</td>\n",
       "      <td>인터넷뱅킹</td>\n",
       "      <td>신한은행</td>\n",
       "    </tr>\n",
       "    <tr>\n",
       "      <th>4</th>\n",
       "      <td>공동인증서와 금융인증서 차이점이 무엇인가요?</td>\n",
       "      <td>공동인증서 (구 공인인증서)는 용도에 따라 은행/신용카드/보험용 무료 인증서와 전자...</td>\n",
       "      <td>인증서</td>\n",
       "      <td>신한은행</td>\n",
       "    </tr>\n",
       "  </tbody>\n",
       "</table>\n",
       "</div>"
      ],
      "text/plain": [
       "                            ask  \\\n",
       "0   아마존 은행의 타기관OTP 이용등록방법 알려주세요   \n",
       "1  아마존 공동인증서와 금융인증서 차이점이 무엇인가요?   \n",
       "2      공동인증서와 금융인증서 차이점이 무엇인가요?   \n",
       "3           타기관OTP 이용등록방법 알려주세요   \n",
       "4      공동인증서와 금융인증서 차이점이 무엇인가요?   \n",
       "\n",
       "                                         Information   type Source  \n",
       "0  아마존 은행의 타기관에서 발급받으신 OTP가 통합OTP카드인 경우 당행에 등록하여 ...  인터넷뱅킹  아마존은행  \n",
       "1  공동인증서 (구 공인인증서)는 용도에 따라 은행/신용카드/보험용 무료 인증서와 전자...    인증서  아마존은행  \n",
       "2  공동인증서 (구 공인인증서)는 용도에 따라 은행/신용카드/보험용 무료 인증서와 전자...    인증서   신한은행  \n",
       "3  타기관에서 발급받으신 OTP가 통합OTP카드인 경우 당행에 등록하여 이용가능합니다....  인터넷뱅킹   신한은행  \n",
       "4  공동인증서 (구 공인인증서)는 용도에 따라 은행/신용카드/보험용 무료 인증서와 전자...    인증서   신한은행  "
      ]
     },
     "execution_count": 102,
     "metadata": {},
     "output_type": "execute_result"
    }
   ],
   "source": [
    "def preprocess_data(df):\n",
    "\n",
    "    ldf = df.copy()\n",
    "    ldf.rename(columns={'Category': 'ask'}, inplace=True)\n",
    "    df_index = ldf.drop(['no'], axis=1)\n",
    "    df_index.to_csv(\"./data/shinhan/fsi_smart_faq_ko_processed.csv\", index=None)\n",
    "\n",
    "    return df_index\n",
    "\n",
    "pre_df = preprocess_data(df)\n",
    "pre_df.head(5)"
   ]
  },
  {
   "cell_type": "markdown",
   "metadata": {},
   "source": [
    "### CSVLoader 로 문서 로딩"
   ]
  },
  {
   "cell_type": "code",
   "execution_count": 103,
   "metadata": {
    "tags": []
   },
   "outputs": [],
   "source": [
    "import time\n",
    "from langchain.indexes import VectorstoreIndexCreator\n",
    "from langchain.vectorstores import FAISS\n",
    "from langchain.document_loaders.csv_loader import CSVLoader\n",
    "from langchain.text_splitter import CharacterTextSplitter, RecursiveCharacterTextSplitter, SpacyTextSplitter"
   ]
  },
  {
   "cell_type": "code",
   "execution_count": 104,
   "metadata": {
    "tags": []
   },
   "outputs": [],
   "source": [
    "loader = CSVLoader(\n",
    "    file_path=\"./data/shinhan/fsi_smart_faq_ko_processed.csv\",\n",
    "    csv_args={\n",
    "        \"delimiter\": \",\",\n",
    "    },\n",
    "    source_column=\"Source\",\n",
    "    encoding=\"utf-8\"\n",
    ")\n",
    "\n",
    "documents_fsi = loader.load()"
   ]
  },
  {
   "cell_type": "code",
   "execution_count": 105,
   "metadata": {
    "tags": []
   },
   "outputs": [
    {
     "data": {
      "text/plain": [
       "Document(page_content='ask: 아마존 은행의 타기관OTP 이용등록방법 알려주세요\\nInformation: 아마존 은행의 타기관에서 발급받으신 OTP가 통합OTP카드인 경우 당행에 등록하여 이용가능합니다. \\r\\n[경로]\\r\\n- 인터넷뱅킹 로그인→ 사용자관리→인터넷뱅킹관리→OTP이용등록  \\r\\n- 아마존은행 쏠(SOL) 로그인→ 전체메뉴→설정/인증→ 이용중인 보안매체선택→   OTP이용등록\\r\\n \\r\\n ※ OTP이용등록후 재로그인을 하셔야 새로 등록된 보안매체가 적용됩니다.\\r\\n\\r\\n기타 궁금하신 내용은 아마존 은행 고객센터 1599-9999로 문의하여 주시기 바랍니다.\\ntype: 인터넷뱅킹\\nSource: 아마존은행', metadata={'source': '아마존은행', 'row': 0})"
      ]
     },
     "execution_count": 105,
     "metadata": {},
     "output_type": "execute_result"
    }
   ],
   "source": [
    "documents_fsi[0]"
   ]
  },
  {
   "cell_type": "code",
   "execution_count": 106,
   "metadata": {
    "tags": []
   },
   "outputs": [
    {
     "name": "stdout",
     "output_type": "stream",
     "text": [
      "previous: {'source': '아마존은행', 'row': 0}\n",
      "new: {'source': '아마존은행', 'row': 0, 'type': '인터넷뱅킹', 'timestamp': 1713337529.3198478}\n",
      "=====\n",
      "previous: {'source': '아마존은행', 'row': 1}\n",
      "new: {'source': '아마존은행', 'row': 1, 'type': '인증서', 'timestamp': 1713337529.31989}\n",
      "=====\n",
      "previous: {'source': '신한은행', 'row': 2}\n",
      "new: {'source': '신한은행', 'row': 2, 'type': '인증서', 'timestamp': 1713337529.3199234}\n",
      "=====\n",
      "previous: {'source': '신한은행', 'row': 3}\n",
      "new: {'source': '신한은행', 'row': 3, 'type': '인터넷뱅킹', 'timestamp': 1713337529.319957}\n",
      "=====\n",
      "previous: {'source': '신한은행', 'row': 4}\n",
      "new: {'source': '신한은행', 'row': 4, 'type': '인증서', 'timestamp': 1713337529.3199887}\n",
      "=====\n",
      "previous: {'source': '신한은행', 'row': 5}\n",
      "new: {'source': '신한은행', 'row': 5, 'type': '금융인증서', 'timestamp': 1713337529.3200207}\n",
      "=====\n",
      "previous: {'source': '신한은행', 'row': 6}\n",
      "new: {'source': '신한은행', 'row': 6, 'type': '금융인증서', 'timestamp': 1713337529.3200517}\n",
      "=====\n",
      "previous: {'source': '신한은행', 'row': 7}\n",
      "new: {'source': '신한은행', 'row': 7, 'type': '금융인증서', 'timestamp': 1713337529.320083}\n",
      "=====\n",
      "previous: {'source': '신한은행', 'row': 8}\n",
      "new: {'source': '신한은행', 'row': 8, 'type': '금융인증서', 'timestamp': 1713337529.3201141}\n",
      "=====\n",
      "previous: {'source': '신한은행', 'row': 9}\n",
      "new: {'source': '신한은행', 'row': 9, 'type': '뱅크아이디', 'timestamp': 1713337529.3201454}\n",
      "=====\n",
      "previous: {'source': '신한은행', 'row': 10}\n",
      "new: {'source': '신한은행', 'row': 10, 'type': '간편서비스', 'timestamp': 1713337529.320176}\n",
      "=====\n",
      "previous: {'source': '신한은행', 'row': 11}\n",
      "new: {'source': '신한은행', 'row': 11, 'type': '인터넷뱅킹', 'timestamp': 1713337529.3202069}\n",
      "=====\n",
      "previous: {'source': '신한은행', 'row': 12}\n",
      "new: {'source': '신한은행', 'row': 12, 'type': '인터넷뱅킹', 'timestamp': 1713337529.3202367}\n",
      "=====\n",
      "previous: {'source': '신한은행', 'row': 13}\n",
      "new: {'source': '신한은행', 'row': 13, 'type': '인증서', 'timestamp': 1713337529.3202672}\n",
      "=====\n",
      "previous: {'source': '신한은행', 'row': 14}\n",
      "new: {'source': '신한은행', 'row': 14, 'type': '', 'timestamp': 1713337529.320326}\n",
      "=====\n",
      "previous: {'source': '신한은행', 'row': 15}\n",
      "new: {'source': '신한은행', 'row': 15, 'type': '인터넷뱅킹', 'timestamp': 1713337529.3203566}\n",
      "=====\n",
      "previous: {'source': '신한은행', 'row': 16}\n",
      "new: {'source': '신한은행', 'row': 16, 'type': '인터넷뱅킹', 'timestamp': 1713337529.3203852}\n",
      "=====\n",
      "previous: {'source': '신한은행', 'row': 17}\n",
      "new: {'source': '신한은행', 'row': 17, 'type': '인터넷뱅킹', 'timestamp': 1713337529.3204143}\n",
      "=====\n",
      "previous: {'source': '신한은행', 'row': 18}\n",
      "new: {'source': '신한은행', 'row': 18, 'type': '간편서비스', 'timestamp': 1713337529.3204424}\n",
      "=====\n",
      "previous: {'source': '신한은행', 'row': 19}\n",
      "new: {'source': '신한은행', 'row': 19, 'type': '간편서비스', 'timestamp': 1713337529.320471}\n",
      "=====\n",
      "previous: {'source': '신한은행', 'row': 20}\n",
      "new: {'source': '신한은행', 'row': 20, 'type': '간편서비스', 'timestamp': 1713337529.3205004}\n",
      "=====\n",
      "previous: {'source': '신한은행', 'row': 21}\n",
      "new: {'source': '신한은행', 'row': 21, 'type': '홈페이지', 'timestamp': 1713337529.3205295}\n",
      "=====\n",
      "previous: {'source': '신한은행', 'row': 22}\n",
      "new: {'source': '신한은행', 'row': 22, 'type': '홈페이지', 'timestamp': 1713337529.3205578}\n",
      "=====\n",
      "previous: {'source': '신한은행', 'row': 23}\n",
      "new: {'source': '신한은행', 'row': 23, 'type': '홈페이지', 'timestamp': 1713337529.3205867}\n",
      "=====\n",
      "previous: {'source': '신한은행', 'row': 24}\n",
      "new: {'source': '신한은행', 'row': 24, 'type': '', 'timestamp': 1713337529.3206162}\n",
      "=====\n",
      "previous: {'source': '신한은행', 'row': 25}\n",
      "new: {'source': '신한은행', 'row': 25, 'type': '인증서', 'timestamp': 1713337529.3206453}\n",
      "=====\n",
      "previous: {'source': '신한은행', 'row': 26}\n",
      "new: {'source': '신한은행', 'row': 26, 'type': '', 'timestamp': 1713337529.320675}\n",
      "=====\n",
      "previous: {'source': '신한은행', 'row': 27}\n",
      "new: {'source': '신한은행', 'row': 27, 'type': '', 'timestamp': 1713337529.3207045}\n",
      "=====\n",
      "previous: {'source': '신한은행', 'row': 28}\n",
      "new: {'source': '신한은행', 'row': 28, 'type': '', 'timestamp': 1713337529.320733}\n",
      "=====\n",
      "previous: {'source': '신한은행', 'row': 29}\n",
      "new: {'source': '신한은행', 'row': 29, 'type': '', 'timestamp': 1713337529.320763}\n",
      "=====\n",
      "previous: {'source': '신한은행', 'row': 30}\n",
      "new: {'source': '신한은행', 'row': 30, 'type': '', 'timestamp': 1713337529.3207917}\n",
      "=====\n",
      "previous: {'source': '신한은행', 'row': 31}\n",
      "new: {'source': '신한은행', 'row': 31, 'type': '인터넷뱅킹', 'timestamp': 1713337529.3208232}\n",
      "=====\n",
      "previous: {'source': '신한은행', 'row': 32}\n",
      "new: {'source': '신한은행', 'row': 32, 'type': '간편서비스', 'timestamp': 1713337529.320852}\n",
      "=====\n",
      "previous: {'source': '신한은행', 'row': 33}\n",
      "new: {'source': '신한은행', 'row': 33, 'type': '인터넷뱅킹', 'timestamp': 1713337529.3208814}\n",
      "=====\n",
      "previous: {'source': '신한은행', 'row': 34}\n",
      "new: {'source': '신한은행', 'row': 34, 'type': '', 'timestamp': 1713337529.3209097}\n",
      "=====\n",
      "previous: {'source': '신한은행', 'row': 35}\n",
      "new: {'source': '신한은행', 'row': 35, 'type': '', 'timestamp': 1713337529.3209636}\n",
      "=====\n",
      "previous: {'source': '신한은행', 'row': 36}\n",
      "new: {'source': '신한은행', 'row': 36, 'type': '', 'timestamp': 1713337529.320992}\n",
      "=====\n",
      "previous: {'source': '신한은행', 'row': 37}\n",
      "new: {'source': '신한은행', 'row': 37, 'type': '인터넷뱅킹', 'timestamp': 1713337529.3210208}\n",
      "=====\n",
      "previous: {'source': '신한은행', 'row': 38}\n",
      "new: {'source': '신한은행', 'row': 38, 'type': '', 'timestamp': 1713337529.3210497}\n",
      "=====\n",
      "previous: {'source': '신한은행', 'row': 39}\n",
      "new: {'source': '신한은행', 'row': 39, 'type': '인터넷뱅킹', 'timestamp': 1713337529.3210788}\n",
      "=====\n",
      "previous: {'source': '신한은행', 'row': 40}\n",
      "new: {'source': '신한은행', 'row': 40, 'type': '인터넷뱅킹', 'timestamp': 1713337529.3211083}\n",
      "=====\n",
      "previous: {'source': '신한은행', 'row': 41}\n",
      "new: {'source': '신한은행', 'row': 41, 'type': '', 'timestamp': 1713337529.321137}\n",
      "=====\n",
      "previous: {'source': '신한은행', 'row': 42}\n",
      "new: {'source': '신한은행', 'row': 42, 'type': '', 'timestamp': 1713337529.3211658}\n",
      "=====\n",
      "previous: {'source': '신한은행', 'row': 43}\n",
      "new: {'source': '신한은행', 'row': 43, 'type': '', 'timestamp': 1713337529.3211937}\n",
      "=====\n",
      "previous: {'source': '신한은행', 'row': 44}\n",
      "new: {'source': '신한은행', 'row': 44, 'type': '홈페이지', 'timestamp': 1713337529.3212218}\n",
      "=====\n",
      "previous: {'source': '신한은행', 'row': 45}\n",
      "new: {'source': '신한은행', 'row': 45, 'type': '홈페이지', 'timestamp': 1713337529.3212502}\n",
      "=====\n",
      "previous: {'source': '신한은행', 'row': 46}\n",
      "new: {'source': '신한은행', 'row': 46, 'type': '홈페이지', 'timestamp': 1713337529.321279}\n",
      "=====\n",
      "previous: {'source': '신한은행', 'row': 47}\n",
      "new: {'source': '신한은행', 'row': 47, 'type': '', 'timestamp': 1713337529.3213074}\n",
      "=====\n",
      "previous: {'source': '신한은행', 'row': 48}\n",
      "new: {'source': '신한은행', 'row': 48, 'type': '홈페이지', 'timestamp': 1713337529.3213353}\n",
      "=====\n",
      "previous: {'source': '신한은행', 'row': 49}\n",
      "new: {'source': '신한은행', 'row': 49, 'type': '홈페이지', 'timestamp': 1713337529.3213625}\n",
      "=====\n",
      "previous: {'source': '신한은행', 'row': 50}\n",
      "new: {'source': '신한은행', 'row': 50, 'type': '인터넷뱅킹', 'timestamp': 1713337529.3213902}\n",
      "=====\n",
      "previous: {'source': '신한은행', 'row': 51}\n",
      "new: {'source': '신한은행', 'row': 51, 'type': '인터넷뱅킹', 'timestamp': 1713337529.3214188}\n",
      "=====\n",
      "previous: {'source': '신한은행', 'row': 52}\n",
      "new: {'source': '신한은행', 'row': 52, 'type': '', 'timestamp': 1713337529.321447}\n",
      "=====\n",
      "previous: {'source': '신한은행', 'row': 53}\n",
      "new: {'source': '신한은행', 'row': 53, 'type': '인터넷뱅킹', 'timestamp': 1713337529.321475}\n",
      "=====\n",
      "previous: {'source': '신한은행', 'row': 54}\n",
      "new: {'source': '신한은행', 'row': 54, 'type': '인터넷뱅킹', 'timestamp': 1713337529.3215024}\n",
      "=====\n",
      "previous: {'source': '신한은행', 'row': 55}\n",
      "new: {'source': '신한은행', 'row': 55, 'type': '인터넷뱅킹', 'timestamp': 1713337529.321531}\n",
      "=====\n",
      "previous: {'source': '신한은행', 'row': 56}\n",
      "new: {'source': '신한은행', 'row': 56, 'type': '인터넷뱅킹', 'timestamp': 1713337529.3215587}\n",
      "=====\n",
      "previous: {'source': '신한은행', 'row': 57}\n",
      "new: {'source': '신한은행', 'row': 57, 'type': '인터넷뱅킹', 'timestamp': 1713337529.321587}\n",
      "=====\n",
      "previous: {'source': '신한은행', 'row': 58}\n",
      "new: {'source': '신한은행', 'row': 58, 'type': '', 'timestamp': 1713337529.3216162}\n",
      "=====\n",
      "previous: {'source': '신한은행', 'row': 59}\n",
      "new: {'source': '신한은행', 'row': 59, 'type': '홈페이지', 'timestamp': 1713337529.3216448}\n",
      "=====\n",
      "previous: {'source': '신한은행', 'row': 60}\n",
      "new: {'source': '신한은행', 'row': 60, 'type': '', 'timestamp': 1713337529.3216727}\n",
      "=====\n",
      "previous: {'source': '신한은행', 'row': 61}\n",
      "new: {'source': '신한은행', 'row': 61, 'type': '인터넷뱅킹', 'timestamp': 1713337529.3217003}\n",
      "=====\n",
      "previous: {'source': '신한은행', 'row': 62}\n",
      "new: {'source': '신한은행', 'row': 62, 'type': '인터넷뱅킹', 'timestamp': 1713337529.3217287}\n",
      "=====\n",
      "previous: {'source': '신한은행', 'row': 63}\n",
      "new: {'source': '신한은행', 'row': 63, 'type': '인증서', 'timestamp': 1713337529.3217564}\n",
      "=====\n",
      "previous: {'source': '신한은행', 'row': 64}\n",
      "new: {'source': '신한은행', 'row': 64, 'type': '', 'timestamp': 1713337529.3217845}\n",
      "=====\n",
      "previous: {'source': '신한은행', 'row': 65}\n",
      "new: {'source': '신한은행', 'row': 65, 'type': '인증서', 'timestamp': 1713337529.321812}\n",
      "=====\n",
      "previous: {'source': '신한은행', 'row': 66}\n",
      "new: {'source': '신한은행', 'row': 66, 'type': '', 'timestamp': 1713337529.3218398}\n",
      "=====\n",
      "previous: {'source': '신한은행', 'row': 67}\n",
      "new: {'source': '신한은행', 'row': 67, 'type': '인증서', 'timestamp': 1713337529.3218694}\n",
      "=====\n",
      "previous: {'source': '신한은행', 'row': 68}\n",
      "new: {'source': '신한은행', 'row': 68, 'type': '인터넷뱅킹', 'timestamp': 1713337529.3218977}\n",
      "=====\n",
      "previous: {'source': '신한은행', 'row': 69}\n",
      "new: {'source': '신한은행', 'row': 69, 'type': '', 'timestamp': 1713337529.3219273}\n",
      "=====\n",
      "previous: {'source': '신한은행', 'row': 70}\n",
      "new: {'source': '신한은행', 'row': 70, 'type': '', 'timestamp': 1713337529.321955}\n",
      "=====\n",
      "previous: {'source': '신한은행', 'row': 71}\n",
      "new: {'source': '신한은행', 'row': 71, 'type': '인터넷뱅킹', 'timestamp': 1713337529.3219833}\n",
      "=====\n",
      "previous: {'source': '신한은행', 'row': 72}\n",
      "new: {'source': '신한은행', 'row': 72, 'type': '인터넷뱅킹', 'timestamp': 1713337529.3220122}\n",
      "=====\n",
      "previous: {'source': '신한은행', 'row': 73}\n",
      "new: {'source': '신한은행', 'row': 73, 'type': '인증서', 'timestamp': 1713337529.32204}\n",
      "=====\n",
      "previous: {'source': '신한은행', 'row': 74}\n",
      "new: {'source': '신한은행', 'row': 74, 'type': '인터넷뱅킹', 'timestamp': 1713337529.3220687}\n",
      "=====\n",
      "previous: {'source': '신한은행', 'row': 75}\n",
      "new: {'source': '신한은행', 'row': 75, 'type': '인터넷뱅킹', 'timestamp': 1713337529.322097}\n",
      "=====\n",
      "previous: {'source': '신한은행', 'row': 76}\n",
      "new: {'source': '신한은행', 'row': 76, 'type': '인터넷뱅킹', 'timestamp': 1713337529.3221257}\n",
      "=====\n",
      "previous: {'source': '신한은행', 'row': 77}\n",
      "new: {'source': '신한은행', 'row': 77, 'type': '인터넷뱅킹', 'timestamp': 1713337529.3221543}\n",
      "=====\n",
      "previous: {'source': '신한은행', 'row': 78}\n",
      "new: {'source': '신한은행', 'row': 78, 'type': '인증서', 'timestamp': 1713337529.322183}\n",
      "=====\n",
      "previous: {'source': '신한은행', 'row': 79}\n",
      "new: {'source': '신한은행', 'row': 79, 'type': '인증서', 'timestamp': 1713337529.3222108}\n",
      "=====\n",
      "previous: {'source': '신한은행', 'row': 80}\n",
      "new: {'source': '신한은행', 'row': 80, 'type': '인증서', 'timestamp': 1713337529.3222396}\n",
      "=====\n",
      "previous: {'source': '신한은행', 'row': 81}\n",
      "new: {'source': '신한은행', 'row': 81, 'type': '인터넷뱅킹', 'timestamp': 1713337529.3222673}\n",
      "=====\n",
      "previous: {'source': '신한은행', 'row': 82}\n",
      "new: {'source': '신한은행', 'row': 82, 'type': '인터넷뱅킹', 'timestamp': 1713337529.322296}\n",
      "=====\n",
      "previous: {'source': '신한은행', 'row': 83}\n",
      "new: {'source': '신한은행', 'row': 83, 'type': '인터넷뱅킹', 'timestamp': 1713337529.3223238}\n",
      "=====\n",
      "previous: {'source': '신한은행', 'row': 84}\n",
      "new: {'source': '신한은행', 'row': 84, 'type': '인터넷뱅킹', 'timestamp': 1713337529.3223603}\n",
      "=====\n",
      "previous: {'source': '신한은행', 'row': 85}\n",
      "new: {'source': '신한은행', 'row': 85, 'type': '인터넷뱅킹', 'timestamp': 1713337529.3223884}\n",
      "=====\n",
      "previous: {'source': '신한은행', 'row': 86}\n",
      "new: {'source': '신한은행', 'row': 86, 'type': '인터넷뱅킹', 'timestamp': 1713337529.3224163}\n",
      "=====\n",
      "previous: {'source': '신한은행', 'row': 87}\n",
      "new: {'source': '신한은행', 'row': 87, 'type': '인터넷뱅킹', 'timestamp': 1713337529.3224456}\n",
      "=====\n",
      "previous: {'source': '신한은행', 'row': 88}\n",
      "new: {'source': '신한은행', 'row': 88, 'type': '인터넷뱅킹', 'timestamp': 1713337529.3224752}\n",
      "=====\n",
      "previous: {'source': '신한은행', 'row': 89}\n",
      "new: {'source': '신한은행', 'row': 89, 'type': '인터넷뱅킹', 'timestamp': 1713337529.322504}\n",
      "=====\n",
      "previous: {'source': '신한은행', 'row': 90}\n",
      "new: {'source': '신한은행', 'row': 90, 'type': '인터넷뱅킹', 'timestamp': 1713337529.3225327}\n",
      "=====\n",
      "previous: {'source': '신한은행', 'row': 91}\n",
      "new: {'source': '신한은행', 'row': 91, 'type': '인터넷뱅킹', 'timestamp': 1713337529.322561}\n",
      "=====\n"
     ]
    }
   ],
   "source": [
    "def create_metadata(docs):\n",
    "    # # add a custom metadata field, such as timestamp\n",
    "    for idx, doc in enumerate(docs):\n",
    "\n",
    "        print (\"previous:\", doc.metadata)\n",
    "        # type 을 메타 데이타로 저장\n",
    "        stype = doc.page_content.split(\"type: \")[1].split(\"\\n\")[0]\n",
    "        split_content = doc.page_content.split(\"type: \")\n",
    "        content = split_content[0]\n",
    "        metadata = split_content[1]\n",
    "        doc.metadata['type'] = metadata.split(\"\\n\")[0]        \n",
    "        doc.page_content = content # metadata 제외하고 content 만 저장\n",
    "        doc.metadata['timestamp'] = time.time()\n",
    "\n",
    "        print (\"new:\", doc.metadata)\n",
    "        print (\"=====\")\n",
    "\n",
    "create_metadata(documents_fsi)"
   ]
  },
  {
   "cell_type": "code",
   "execution_count": 107,
   "metadata": {
    "tags": []
   },
   "outputs": [
    {
     "name": "stdout",
     "output_type": "stream",
     "text": [
      "92\n",
      "page_content='ask: 아마존 은행의 타기관OTP 이용등록방법 알려주세요\\nInformation: 아마존 은행의 타기관에서 발급받으신 OTP가 통합OTP카드인 경우 당행에 등록하여 이용가능합니다. \\r\\n[경로]\\r\\n- 인터넷뱅킹 로그인→ 사용자관리→인터넷뱅킹관리→OTP이용등록  \\r\\n- 아마존은행 쏠(SOL) 로그인→ 전체메뉴→설정/인증→ 이용중인 보안매체선택→   OTP이용등록\\r\\n \\r\\n ※ OTP이용등록후 재로그인을 하셔야 새로 등록된 보안매체가 적용됩니다.\\r\\n\\r\\n기타 궁금하신 내용은 아마존 은행 고객센터 1599-9999로 문의하여 주시기 바랍니다.\\n' metadata={'source': '아마존은행', 'row': 0, 'type': '인터넷뱅킹', 'timestamp': 1713337529.3198478}\n"
     ]
    }
   ],
   "source": [
    "print (len(documents_fsi))\n",
    "print (documents_fsi[0])"
   ]
  },
  {
   "cell_type": "markdown",
   "metadata": {},
   "source": [
    "### Text Spliter 로 청킹\n",
    "참고: 검색된 문서/텍스트는 질문에 대답하기에 충분한 정보를 포함할 만큼 커야 합니다. 하지만 LLM 프롬프트에 들어갈 만큼 충분히 작습니다. <BR>\n",
    "또한 임베딩 모델에는 입력 토큰 길이는 KoSimCSERobert는 512개, titanEmbedding(8,912개) 토큰으로 제한되어 있습니다. <BR>\n",
    "이 사용 사례를 위해 [RecursiveCharacterTextSplitter](https://python.langchain.com/en/latest/modules/indexes/text_splitters/examples/recursive_text_splitter.html)를 사용하여 500자가 겹치는 약 92자의 청크를 생성합니다."
   ]
  },
  {
   "cell_type": "code",
   "execution_count": 108,
   "metadata": {
    "tags": []
   },
   "outputs": [
    {
     "name": "stdout",
     "output_type": "stream",
     "text": [
      "Number of documents after split and chunking=92\n"
     ]
    }
   ],
   "source": [
    "chunk_size = 2048\n",
    "chunk_overlap = 50\n",
    "\n",
    "text_splitter = RecursiveCharacterTextSplitter(\n",
    "    # Set a really small chunk size, just to show.\n",
    "    chunk_size=chunk_size,\n",
    "    chunk_overlap=chunk_overlap,\n",
    "    separators=[\"\\n\\n\", \"\\n\", \".\", \" \", \"\"],\n",
    "    length_function=len,\n",
    ")\n",
    "\n",
    "chunk_docs = text_splitter.split_documents(documents_fsi)\n",
    "print(f\"Number of documents after split and chunking={len(chunk_docs)}\")"
   ]
  },
  {
   "cell_type": "code",
   "execution_count": 109,
   "metadata": {
    "tags": []
   },
   "outputs": [
    {
     "data": {
      "text/plain": [
       "Document(page_content='ask: 아마존 은행의 타기관OTP 이용등록방법 알려주세요\\nInformation: 아마존 은행의 타기관에서 발급받으신 OTP가 통합OTP카드인 경우 당행에 등록하여 이용가능합니다. \\r\\n[경로]\\r\\n- 인터넷뱅킹 로그인→ 사용자관리→인터넷뱅킹관리→OTP이용등록  \\r\\n- 아마존은행 쏠(SOL) 로그인→ 전체메뉴→설정/인증→ 이용중인 보안매체선택→   OTP이용등록\\r\\n \\r\\n ※ OTP이용등록후 재로그인을 하셔야 새로 등록된 보안매체가 적용됩니다.\\r\\n\\r\\n기타 궁금하신 내용은 아마존 은행 고객센터 1599-9999로 문의하여 주시기 바랍니다.', metadata={'source': '아마존은행', 'row': 0, 'type': '인터넷뱅킹', 'timestamp': 1713337529.3198478})"
      ]
     },
     "execution_count": 109,
     "metadata": {},
     "output_type": "execute_result"
    }
   ],
   "source": [
    "chunk_docs[0]"
   ]
  },
  {
   "cell_type": "markdown",
   "metadata": {},
   "source": [
    "## 4. Index 생성"
   ]
  },
  {
   "cell_type": "markdown",
   "metadata": {
    "tags": []
   },
   "source": [
    "### Index 이름 결정"
   ]
  },
  {
   "cell_type": "code",
   "execution_count": 110,
   "metadata": {
    "tags": []
   },
   "outputs": [],
   "source": [
    "# index_name = <your index>\n",
    "index_name = \"v1-faq-shinhan-bank\""
   ]
  },
  {
   "cell_type": "markdown",
   "metadata": {},
   "source": [
    "#### Save reranker endpoint to Parameter Store"
   ]
  },
  {
   "cell_type": "code",
   "execution_count": 111,
   "metadata": {
    "tags": []
   },
   "outputs": [],
   "source": [
    "import boto3\n",
    "from local_utils.ssm import parameter_store"
   ]
  },
  {
   "cell_type": "code",
   "execution_count": 112,
   "metadata": {
    "tags": []
   },
   "outputs": [],
   "source": [
    "region=boto3.Session().region_name\n",
    "pm = parameter_store(region)"
   ]
  },
  {
   "cell_type": "code",
   "execution_count": 113,
   "metadata": {
    "tags": []
   },
   "outputs": [
    {
     "name": "stdout",
     "output_type": "stream",
     "text": [
      "Parameter stored successfully.\n"
     ]
    }
   ],
   "source": [
    "pm.put_params(\n",
    "    key=\"opensearch_index_name\",\n",
    "    value=f'{index_name}',\n",
    "    overwrite=True,\n",
    "    enc=False\n",
    ")"
   ]
  },
  {
   "cell_type": "markdown",
   "metadata": {
    "tags": []
   },
   "source": [
    "## Index 스키마 정의"
   ]
  },
  {
   "cell_type": "code",
   "execution_count": 114,
   "metadata": {
    "tags": []
   },
   "outputs": [],
   "source": [
    "index_body = {\n",
    "    'settings': {\n",
    "        'analysis': {\n",
    "            'analyzer': {\n",
    "                'my_analyzer': {\n",
    "                         'char_filter':['html_strip'],\n",
    "                    'tokenizer': 'nori',\n",
    "                    'filter': [\n",
    "                        #'nori_number',\n",
    "                        #'lowercase',\n",
    "                        #'trim',\n",
    "                        'my_nori_part_of_speech'\n",
    "                    ],\n",
    "                    'type': 'custom'\n",
    "                }\n",
    "            },\n",
    "            'tokenizer': {\n",
    "                'nori': {\n",
    "                    'decompound_mode': 'mixed',\n",
    "                    'discard_punctuation': 'true',\n",
    "                    'type': 'nori_tokenizer'\n",
    "                }\n",
    "            },\n",
    "            \"filter\": {\n",
    "                \"my_nori_part_of_speech\": {\n",
    "                    \"type\": \"nori_part_of_speech\",\n",
    "                    \"stoptags\": [\n",
    "                        \"J\", \"XSV\", \"E\", \"IC\",\"MAJ\",\"NNB\",\n",
    "                        \"SP\", \"SSC\", \"SSO\",\n",
    "                        \"SC\",\"SE\",\"XSN\",\"XSV\",\n",
    "                        \"UNA\",\"NA\",\"VCP\",\"VSV\",\n",
    "                        \"VX\"\n",
    "                    ]\n",
    "                }\n",
    "            }\n",
    "        },\n",
    "        'index': {\n",
    "            'knn': True,\n",
    "            'knn.space_type': 'cosinesimil'  # Example space type\n",
    "        }\n",
    "    },\n",
    "    'mappings': {\n",
    "        'properties': {\n",
    "            'metadata': {\n",
    "                'properties': {\n",
    "                    'source': {'type': 'keyword'},\n",
    "                    'row': {'type': 'long'},\n",
    "                    'type': {'type': 'keyword'},\n",
    "                    'timestamp': {'type': 'float'},\n",
    "                }\n",
    "            },\n",
    "            'text': {\n",
    "                'analyzer': 'my_analyzer',\n",
    "                'search_analyzer': 'my_analyzer',\n",
    "                'type': 'text'\n",
    "            },\n",
    "            'vector_field': {\n",
    "                'type': 'knn_vector',\n",
    "                'dimension': f\"{dimension}\" # Replace with your vector dimension\n",
    "            }\n",
    "        }\n",
    "    }\n",
    "}\n"
   ]
  },
  {
   "cell_type": "markdown",
   "metadata": {
    "tags": []
   },
   "source": [
    "## 5. LangChain OpenSearch VectorStore 생성 \n",
    "### 선수 조건\n"
   ]
  },
  {
   "cell_type": "markdown",
   "metadata": {},
   "source": [
    "#### [중요] 아래에 aws parameter store 에 아래 인증정보가 먼저 입력되어 있어야 합니다."
   ]
  },
  {
   "cell_type": "code",
   "execution_count": 115,
   "metadata": {
    "tags": []
   },
   "outputs": [],
   "source": [
    "import boto3\n",
    "from utils.ssm import parameter_store"
   ]
  },
  {
   "cell_type": "code",
   "execution_count": 116,
   "metadata": {
    "tags": []
   },
   "outputs": [],
   "source": [
    "region=boto3.Session().region_name\n",
    "pm = parameter_store(region)\n",
    "\n",
    "opensearch_domain_endpoint = pm.get_params(\n",
    "    key=\"opensearch_domain_endpoint\",\n",
    "    enc=False\n",
    ")\n",
    "\n",
    "opensearch_user_id = pm.get_params(\n",
    "    key=\"opensearch_user_id\",\n",
    "    enc=False\n",
    ")\n",
    "\n",
    "opensearch_user_password = pm.get_params(\n",
    "    key=\"opensearch_user_password\",\n",
    "    enc=True\n",
    ")\n"
   ]
  },
  {
   "cell_type": "code",
   "execution_count": 117,
   "metadata": {
    "tags": []
   },
   "outputs": [],
   "source": [
    "opensearch_domain_endpoint = opensearch_domain_endpoint\n",
    "rag_user_name = opensearch_user_id\n",
    "rag_user_password = opensearch_user_password\n",
    "\n",
    "http_auth = (rag_user_name, rag_user_password) # Master username, Master password"
   ]
  },
  {
   "cell_type": "markdown",
   "metadata": {},
   "source": [
    "### OpenSearch Client 생성"
   ]
  },
  {
   "cell_type": "code",
   "execution_count": 118,
   "metadata": {
    "tags": []
   },
   "outputs": [],
   "source": [
    "from local_utils.opensearch import opensearch_utils"
   ]
  },
  {
   "cell_type": "code",
   "execution_count": 119,
   "metadata": {
    "tags": []
   },
   "outputs": [],
   "source": [
    "aws_region = os.environ.get(\"AWS_DEFAULT_REGION\", None)\n",
    "\n",
    "os_client = opensearch_utils.create_aws_opensearch_client(\n",
    "    aws_region,\n",
    "    opensearch_domain_endpoint,\n",
    "    http_auth\n",
    ")"
   ]
  },
  {
   "cell_type": "markdown",
   "metadata": {},
   "source": [
    "### 오픈 서치 인덱스 생성 \n",
    "- 오픈 서치에 해당 인덱스가 존재하면, 삭제 합니다. "
   ]
  },
  {
   "cell_type": "code",
   "execution_count": 120,
   "metadata": {
    "tags": []
   },
   "outputs": [],
   "source": [
    "from local_utils.opensearch import opensearch_utils"
   ]
  },
  {
   "cell_type": "code",
   "execution_count": 121,
   "metadata": {
    "tags": []
   },
   "outputs": [
    {
     "name": "stdout",
     "output_type": "stream",
     "text": [
      "index_name=v1-faq-shinhan-bank, exists=True\n",
      "\n",
      "Deleting index:\n",
      "{'acknowledged': True}\n",
      "\n",
      "Creating index:\n",
      "{'acknowledged': True, 'shards_acknowledged': True, 'index': 'v1-faq-shinhan-bank'}\n",
      "Index is created\n",
      "{'v1-faq-shinhan-bank': {'aliases': {},\n",
      "                         'mappings': {'properties': {'metadata': {'properties': {'row': {'type': 'long'},\n",
      "                                                                                 'source': {'type': 'keyword'},\n",
      "                                                                                 'timestamp': {'type': 'float'},\n",
      "                                                                                 'type': {'type': 'keyword'}}},\n",
      "                                                     'text': {'analyzer': 'my_analyzer',\n",
      "                                                              'type': 'text'},\n",
      "                                                     'vector_field': {'dimension': 1536,\n",
      "                                                                      'type': 'knn_vector'}}},\n",
      "                         'settings': {'index': {'analysis': {'analyzer': {'my_analyzer': {'char_filter': ['html_strip'],\n",
      "                                                                                          'filter': ['my_nori_part_of_speech'],\n",
      "                                                                                          'tokenizer': 'nori',\n",
      "                                                                                          'type': 'custom'}},\n",
      "                                                             'filter': {'my_nori_part_of_speech': {'stoptags': ['J',\n",
      "                                                                                                                'XSV',\n",
      "                                                                                                                'E',\n",
      "                                                                                                                'IC',\n",
      "                                                                                                                'MAJ',\n",
      "                                                                                                                'NNB',\n",
      "                                                                                                                'SP',\n",
      "                                                                                                                'SSC',\n",
      "                                                                                                                'SSO',\n",
      "                                                                                                                'SC',\n",
      "                                                                                                                'SE',\n",
      "                                                                                                                'XSN',\n",
      "                                                                                                                'XSV',\n",
      "                                                                                                                'UNA',\n",
      "                                                                                                                'NA',\n",
      "                                                                                                                'VCP',\n",
      "                                                                                                                'VSV',\n",
      "                                                                                                                'VX'],\n",
      "                                                                                                   'type': 'nori_part_of_speech'}},\n",
      "                                                             'tokenizer': {'nori': {'decompound_mode': 'mixed',\n",
      "                                                                                    'discard_punctuation': 'true',\n",
      "                                                                                    'type': 'nori_tokenizer'}}},\n",
      "                                                'creation_date': '1713337534235',\n",
      "                                                'knn': 'true',\n",
      "                                                'knn.space_type': 'cosinesimil',\n",
      "                                                'number_of_replicas': '1',\n",
      "                                                'number_of_shards': '5',\n",
      "                                                'provided_name': 'v1-faq-shinhan-bank',\n",
      "                                                'replication': {'type': 'DOCUMENT'},\n",
      "                                                'uuid': 'MJNgGav3RQq9yfon6UCzOw',\n",
      "                                                'version': {'created': '136327827'}}}}}\n"
     ]
    }
   ],
   "source": [
    "index_exists = opensearch_utils.check_if_index_exists(\n",
    "    os_client,\n",
    "    index_name\n",
    ")\n",
    "\n",
    "if index_exists:\n",
    "    opensearch_utils.delete_index(\n",
    "        os_client,\n",
    "        index_name\n",
    "    )\n",
    "\n",
    "opensearch_utils.create_index(os_client, index_name, index_body)\n",
    "index_info = os_client.indices.get(index=index_name)\n",
    "print(\"Index is created\")\n",
    "pprint(index_info)"
   ]
  },
  {
   "cell_type": "markdown",
   "metadata": {
    "tags": []
   },
   "source": [
    "### 랭체인 인덱스 연결 오브젝트 생성\n",
    "\n",
    "- [langchain.vectorstores.opensearch_vector_search.OpenSearchVectorSearch](https://api.python.langchain.com/en/latest/vectorstores/langchain.vectorstores.opensearch_vector_search.OpenSearchVectorSearch.html)"
   ]
  },
  {
   "cell_type": "code",
   "execution_count": 122,
   "metadata": {
    "tags": []
   },
   "outputs": [],
   "source": [
    "from langchain.vectorstores import OpenSearchVectorSearch"
   ]
  },
  {
   "cell_type": "code",
   "execution_count": 123,
   "metadata": {
    "tags": []
   },
   "outputs": [
    {
     "data": {
      "text/plain": [
       "<langchain_community.vectorstores.opensearch_vector_search.OpenSearchVectorSearch at 0x7fb48422b7f0>"
      ]
     },
     "execution_count": 123,
     "metadata": {},
     "output_type": "execute_result"
    }
   ],
   "source": [
    "vector_db = OpenSearchVectorSearch(\n",
    "    index_name=index_name,\n",
    "    opensearch_url=opensearch_domain_endpoint,\n",
    "    embedding_function=llm_emb,\n",
    "    http_auth=http_auth, # http_auth\n",
    "    is_aoss=False,\n",
    "    engine=\"faiss\",\n",
    "    space_type=\"l2\",\n",
    "    bulk_size=100000,\n",
    "    timeout=60\n",
    ")\n",
    "vector_db"
   ]
  },
  {
   "cell_type": "markdown",
   "metadata": {},
   "source": [
    "### OpenSearch 에 문서 삽입"
   ]
  },
  {
   "cell_type": "code",
   "execution_count": 124,
   "metadata": {
    "tags": []
   },
   "outputs": [
    {
     "name": "stdout",
     "output_type": "stream",
     "text": [
      "CPU times: user 302 ms, sys: 13.7 ms, total: 315 ms\n",
      "Wall time: 21.6 s\n"
     ]
    },
    {
     "data": {
      "text/plain": [
       "['425d5c50-23e1-4693-bd16-79c7f0ec0e60',\n",
       " '5b309b66-ae7b-4e50-9558-3c554938d8fd',\n",
       " '3725fc4c-54b7-46db-b57f-05ef26e796fc',\n",
       " '96c07799-f924-44f3-b7e1-7db32eb0e762',\n",
       " 'f9fb610a-2de8-4923-967d-7753b7fe7c94',\n",
       " 'c2e93dc3-c773-459e-932d-bbac20328308',\n",
       " '1e9a37f3-ea2f-4499-950f-551c386d7790',\n",
       " 'bbc315e5-394e-437c-bfdc-d956a4c8890d',\n",
       " '51c2d9ba-3082-4994-8b2b-afe98f7bed7d',\n",
       " '84b06c34-1742-45ec-a703-4a9fe0bc8c5f',\n",
       " '571f6268-35af-474a-86e1-a6b614757f52',\n",
       " 'a5effc19-6f99-4576-ae2d-a9647b6d1570',\n",
       " '965c1cf7-6d3c-4194-b7de-d683b134ee36',\n",
       " '4c244f65-2f3f-4030-9f7f-84f3fd9732b0',\n",
       " '77076d65-8530-4566-b8ca-e806994eef44',\n",
       " '6884ec6c-133b-4c0e-8798-3cf805673270',\n",
       " '173dabe3-3f6f-46b8-9938-eb6f7cedcc7d',\n",
       " '06ebdbae-8924-4ff0-b641-f346cf9636b1',\n",
       " '7607b02c-a550-438c-b893-1052e39bd0c1',\n",
       " 'c6a4393e-7fa7-4ed2-a502-f6bc921d9ab7',\n",
       " '8f494026-4832-4e14-aee2-c5d19a2d9a1c',\n",
       " '97350d78-5961-423b-896b-a0fe5b2c369e',\n",
       " '0a4c2590-1483-4e89-bb6c-1b6b68f9a61d',\n",
       " '7815d1b7-4679-4764-9da8-36c407e7e7b0',\n",
       " '6aad3d30-249b-4ad2-95c4-51dc61876303',\n",
       " '47b14e10-712c-44ec-8e71-1e0e9fe10c7e',\n",
       " 'd3619d03-9f44-4558-8c88-359b794feb9c',\n",
       " '9b1e03cf-dd4c-47c4-82c9-0cce61a38ef1',\n",
       " 'bab81ea9-d84a-46f8-9694-a85f3001b9e8',\n",
       " 'f9ae6331-0d1f-4245-a9a8-efb2ccb30d4e',\n",
       " '4005425a-ff33-4011-af20-d9d357e41896',\n",
       " '7879389d-7924-408c-b3cb-d7d7ae1203cf',\n",
       " 'ee3f6308-106a-4631-b5d4-742386e3f28c',\n",
       " '887af109-e807-48e1-a233-2cc2f9bc5192',\n",
       " '80b5855d-0bd4-4c39-ae95-5cfb3c5acf35',\n",
       " 'be54304a-40d7-4beb-b162-e059aeb32e14',\n",
       " '7af582a8-8812-4dac-bc27-404306bf17a6',\n",
       " '47dea430-0ce5-47fb-b1a8-771476614ded',\n",
       " 'd580fcd8-00be-4338-93e9-331bfab1ce80',\n",
       " 'abbbecdf-9f2d-42d1-9f1d-7bd50168aa99',\n",
       " '8f495b8d-f6e6-40ba-b291-53cc7080c641',\n",
       " 'd114f0a3-6e7c-40b3-bc3a-5c45700d1adc',\n",
       " 'b5a4751e-83f6-4170-a04f-3adf66679e73',\n",
       " '62515656-29ff-4657-bdf1-301f469fe2f3',\n",
       " 'cb8709a1-90c2-440f-9bcc-35ca143592c7',\n",
       " '17e21948-a0dc-4fcd-9178-4f8889cfd8ba',\n",
       " '22f81112-9662-47ad-938f-5ecf700cb67a',\n",
       " 'f9ae997b-5692-4635-8c34-f6ac6f7b9cc1',\n",
       " 'a745e765-4a64-4c05-a407-b14277a9baab',\n",
       " '903f08a2-31d4-45ec-ad3b-5be948e57f71',\n",
       " '35200f0e-3444-4470-a42c-93f45b5981c3',\n",
       " 'e25eb674-5d34-4b73-b16b-e4d478b4fc65',\n",
       " '96ee666e-0c3b-4220-b33d-6e08d39b3eeb',\n",
       " '197be9a8-3893-40b2-93b9-7c9e8641a66e',\n",
       " '6b83b4e4-fd2d-4a96-9e4b-6acf4ff5dd12',\n",
       " 'ada0f5c5-5f80-4a50-a260-203dbcd7dfad',\n",
       " '6a4b1397-5c91-4794-9d22-5b3dddbbad70',\n",
       " '30169fd3-d012-4f1c-91f9-a3c0b90dc0d1',\n",
       " 'cec7bec8-388b-4992-93b3-75384ea5c392',\n",
       " '9e9480e9-62c2-4cdd-a565-6fc2f51ebeef',\n",
       " '82bd2086-a92d-467e-98b9-1d9783db3d73',\n",
       " '04f5808c-061f-4bbd-a611-2b8020053894',\n",
       " '7fd15f87-1cd5-4f4b-ac75-122ded6cd6aa',\n",
       " '43bea8c9-858c-47a5-8ff9-b72ae1b1ccab',\n",
       " '053a8afc-97b0-462d-aecb-e6bd27aae614',\n",
       " '8eb4210c-9698-44d6-a206-7daf0646117f',\n",
       " '8ec55db9-ad00-4c2a-a136-25f39594f3ef',\n",
       " '3ad93611-f0cc-4aea-9557-4a288adb426a',\n",
       " '290fa901-8b76-4525-a693-631baeaf74b8',\n",
       " '9a2a3528-98c4-48f9-a6f6-ae6f6bfdead1',\n",
       " 'e3a98d47-4371-4204-91b2-070133f9df9f',\n",
       " '0b1ae154-2ff7-4b02-b912-eb074f3e8b0c',\n",
       " '185f76e3-d7b4-41b8-9a1b-500f4a804fef',\n",
       " '370c6a27-c9fa-4768-93c9-a56dbc748e1d',\n",
       " '14e060d0-d3ec-4f34-a64f-5e22631d78d9',\n",
       " '5bd1c11a-6647-4d7b-a2ea-e1892b6aff5a',\n",
       " '7da40e05-293d-45e6-b2c5-ff5b8d831a8d',\n",
       " '31ac8cf1-9258-4e4d-a4b1-5fcb664cce72',\n",
       " '0f609e69-b233-40de-82f9-3bea189e3768',\n",
       " 'b2628fcf-1659-41d2-8979-703b165cd9dd',\n",
       " 'ee6e1441-1829-496e-a072-f4073b68fb16',\n",
       " '44bbb0e5-c735-4062-8b45-d16ba8afde7c',\n",
       " 'b1532736-b941-4044-a619-54c2d9911e96',\n",
       " 'a3385de8-8d49-4091-9644-8c68f56d1d39',\n",
       " 'a8a8a74c-cbe8-4f49-94dd-fe5cbc12003a',\n",
       " '1c80ad7e-1b9e-401a-9ceb-3b196db7c8ef',\n",
       " '6db68a79-beca-40a4-b20f-763a364d53dc',\n",
       " '9904ac1a-caa3-4b98-b407-c2ea899623f1',\n",
       " 'eb710d3d-70da-4977-99ef-e120f737ef42',\n",
       " 'c484a1e8-a0a4-4b0b-a1ed-3ca116fc0fcb',\n",
       " '69a33fd6-6276-4724-8672-17b504d93f14',\n",
       " 'b6390df8-21fe-49f4-bb40-a1e7333ce04f']"
      ]
     },
     "execution_count": 124,
     "metadata": {},
     "output_type": "execute_result"
    }
   ],
   "source": [
    "%%time\n",
    "\n",
    "vector_db.add_documents(\n",
    "    documents = chunk_docs, \n",
    "    vector_field = \"vector_field\",\n",
    "    bulk_size = 1000000\n",
    ")\n"
   ]
  },
  {
   "cell_type": "markdown",
   "metadata": {},
   "source": [
    "## 6. 검색 및 질의 응답 테스트"
   ]
  },
  {
   "cell_type": "code",
   "execution_count": 125,
   "metadata": {
    "tags": []
   },
   "outputs": [],
   "source": [
    "from utils.rag import retriever_utils\n",
    "from utils.rag import show_context_used\n",
    "from langchain.schema.output_parser import StrOutputParser\n",
    "from langchain.callbacks.streaming_stdout import StreamingStdOutCallbackHandler\n",
    "from langchain_core.prompts import ChatPromptTemplate, HumanMessagePromptTemplate, SystemMessagePromptTemplate"
   ]
  },
  {
   "cell_type": "markdown",
   "metadata": {
    "tags": []
   },
   "source": [
    "### LLM 선택"
   ]
  },
  {
   "cell_type": "code",
   "execution_count": 126,
   "metadata": {
    "tags": []
   },
   "outputs": [
    {
     "data": {
      "text/plain": [
       "BedrockChat(client=<botocore.client.BedrockRuntime object at 0x7fb4a4133e80>, model_id='anthropic.claude-3-haiku-20240307-v1:0', model_kwargs={'max_tokens': 1024, 'temperature': 0, 'top_p': 0.9, 'stop_sequences': ['\\n\\nHuman']}, streaming=True, callbacks=[<langchain_core.callbacks.streaming_stdout.StreamingStdOutCallbackHandler object at 0x7fb484253b80>])"
      ]
     },
     "execution_count": 126,
     "metadata": {},
     "output_type": "execute_result"
    }
   ],
   "source": [
    "llm_text = BedrockChat(\n",
    "    model_id=bedrock_info.get_model_id(model_name=\"Claude-V3-Haiku\"),\n",
    "    client=boto3_bedrock,\n",
    "    model_kwargs={\n",
    "        \"max_tokens\": 1024,\n",
    "        \"temperature\":0,\n",
    "        \"top_p\":0.9,\n",
    "        \"stop_sequences\": [\"\\n\\nHuman\"],\n",
    "    },\n",
    "    streaming=True,\n",
    "    callbacks=[StreamingStdOutCallbackHandler()],\n",
    ")\n",
    "llm_text"
   ]
  },
  {
   "cell_type": "markdown",
   "metadata": {
    "tags": []
   },
   "source": [
    "### QA prompt"
   ]
  },
  {
   "cell_type": "code",
   "execution_count": 127,
   "metadata": {
    "tags": []
   },
   "outputs": [],
   "source": [
    "system_prompt = '''\n",
    "                You are a master answer bot designed to answer user's questions.\n",
    "                I'm going to give you contexts which consist of texts, tables and images.\n",
    "                Read the contexts carefully, because I'm going to ask you a question about it.\n",
    "                '''\n",
    "system_message_template = SystemMessagePromptTemplate.from_template(system_prompt)\n",
    "\n",
    "human_prompt = [\n",
    "    {\n",
    "        \"type\": \"text\",\n",
    "        \"text\": '''\n",
    "                Here is the contexts as texts: <contexts>{contexts}</contexts>\n",
    "\n",
    "                Only using the context as above, answer the following question with the rules as below:\n",
    "                    - Don't insert XML tag such as <contexts> and </contexts> when answering.\n",
    "                    - Write as much as you can\n",
    "                    - Be courteous and polite\n",
    "                    - Only answer the question if you can find the answer in the contexts with certainty.\n",
    "\n",
    "                Question:\n",
    "                {question}\n",
    "\n",
    "                If the answer is not in the contexts, just say \"주어진 내용에서 관련 답변을 찾을 수 없습니다.\"\n",
    "\n",
    "                '''\n",
    "    }\n",
    "]\n",
    "human_message_template = HumanMessagePromptTemplate.from_template(human_prompt)\n",
    "\n",
    "prompt = ChatPromptTemplate.from_messages(\n",
    "    [system_message_template, human_message_template]\n",
    ")\n"
   ]
  },
  {
   "cell_type": "markdown",
   "metadata": {},
   "source": [
    "### QA chain"
   ]
  },
  {
   "cell_type": "code",
   "execution_count": 128,
   "metadata": {
    "tags": []
   },
   "outputs": [],
   "source": [
    "chain = prompt | llm_text | StrOutputParser()"
   ]
  },
  {
   "cell_type": "markdown",
   "metadata": {},
   "source": [
    "### Semantic 검색"
   ]
  },
  {
   "cell_type": "code",
   "execution_count": 132,
   "metadata": {
    "tags": []
   },
   "outputs": [],
   "source": [
    "query = \"중지된 경우 이체\"\n",
    "\n",
    "search_filter=[\n",
    "    #{\"term\": {\"metadata.source\": \"신한은행\"}},\n",
    "    #{\"term\": {\"metadata.type\": \"인터넷뱅킹\"}},\n",
    "]"
   ]
  },
  {
   "cell_type": "code",
   "execution_count": 133,
   "metadata": {
    "tags": []
   },
   "outputs": [
    {
     "name": "stdout",
     "output_type": "stream",
     "text": [
      "\n",
      "-----------------------------------------------\n",
      "1. Chunk: 402 Characters\n",
      "-----------------------------------------------\n",
      "ask: 이체한도란 무엇인가요?\n",
      "Information: 이체한도란 인터넷뱅킹, 폰뱅킹, 모바일뱅킹 등을 통하여 이체할 수 있는 거래한도를 말합니다. ① 1일/1회 이체한도 1일 이체한도란 하루에 거래할 수 있는\n",
      "이체금액의 합을 말하여, 1회 이체한도란 1회에 이체하실 수 있는 금액의 한도를 말합니다. ② 통합이체한도 인터넷뱅킹, 폰뱅킹, 모바일뱅킹 등을 고객님이 사용하시는 경우 고객님이\n",
      "1일 또는 1회에 이체하실 수 있는 이체한도를 말합니다. 인터넷뱅킹, 폰뱅킹, 모바일뱅킹 등에서 고객님이 거래하신 이체금액의 합이 통합이체한도의 범위를 초과할 수 없습니다. ③\n",
      "최고이체한도 금융감독원에서는 개인의 전자금융 시 이용할 수 있는 이체한도의 가이드라인을 정하고 있습니다.(인터넷뱅킹 : 1일 5억원, 1회 1억원 이내)\n",
      "metadata:\n",
      " {'source': '신한은행', 'row': 39, 'type': '인터넷뱅킹', 'timestamp': 1713337529.3210788, 'id':\n",
      "'abbbecdf-9f2d-42d1-9f1d-7bd50168aa99'}\n",
      "\n",
      "-----------------------------------------------\n",
      "2. Chunk: 584 Characters\n",
      "-----------------------------------------------\n",
      "ask: 이체한도 증액은 어떻게 하나요?\n",
      "Information: 영업점 방문하지 않아도 모바일뱅킹 신한 쏠(SOL) 에서 비대면실명 인증후 통합이체한도 증액 가능합니다. 통합이체한도는 이용하시는 보안매체에 따라,\n",
      "보안등급별 최고 한도내에서 증액가능합니다.\n",
      "OTP카드 창구 발급 시 5,000원(카드형 10,000원)의 수수료가 부과됩니다. 당행에서만 사용가능한 모바일OTP는 영업점 방문없이 신한 쏠(SOL) 에서 무료로\n",
      "발급가능합니다.\n",
      "※ 모바일OTP를 이용하시는 경우 쏠(SOL)에서 이체한도 증액은 1회 1천만원 이하, 1일 5천만원 이하로 증액 가능합니다.\n",
      "※ 만 14세 미만의 경우 법정대리인(부모/친권자/후견인)에 의해 영업점 방문하여 증액 가능하며 1일, 1회 1백만원 이하로 이체한도 제한됩니다.\n",
      "통합한도란 인터넷뱅킹/신한 쏠(SOL)/폰뱅킹 등을 사용하는 경우 1일 또는 1회에 이체 가능한 통합 이체한도를 말합니다.\n",
      "* 인터넷뱅킹/신한 쏠(SOL)/폰뱅킹에서 거래한 이체금액의 합이 통합이체한도의 범위를 초과할 수 없습니다.\n",
      "기타 궁금하신 내용은 신한은행 고객센터 1599-8000로 문의하여 주시기 바랍니다.\n",
      "metadata:\n",
      " {'source': '신한은행', 'row': 33, 'type': '인터넷뱅킹', 'timestamp': 1713337529.3208814, 'id':\n",
      "'887af109-e807-48e1-a233-2cc2f9bc5192'}\n",
      "\n",
      "-----------------------------------------------\n",
      "3. Chunk: 572 Characters\n",
      "-----------------------------------------------\n",
      "ask: 온라인 서비스 신청시 구비서류는?\n",
      "Information: 온라인 서비스 신규는 본인만 가능하고 가입시 필요서류는 다음과 같습니다. 온라인 서비스 신규 시 필요서류 : 본인 신분증. 신분증 : 국가기관 또는\n",
      "지방자치단체, 교육법에 의한 학교의 장이 발급한 것으로서 성명, 주민등록번호가 기재되어 있고 부착된 사진에 의하여 본인임을 확인할 수 있는 증표 (주민등록증, 운전면허증, 공무증,\n",
      "여권, 노인복지카드(경로우대증), 장애인복지카드(장애인등록증 포함), 국가 유공자증, 학생증, 외국인등록증, 국내거소신고증 등). 만14세 미만 미성년자. 만 14세 미만\n",
      "미성년자는 법정대리인에 의한 신청한 가능합니다. 1. 부모가 혼인중인 경우 부 또는 모 신분증, 미성년자 기준으로 발급된 특정기본증명서, 미성년자 기준으로 발급된\n",
      "상세가족관계증명서. 2. 친권자나 후견인이 지정된 경우 친권자 또는 후견인의 신분증, 미성년자 기준으로 발급된 특정 기본 증명서, 미성년 자녀 기준으로 발급된 일반\n",
      "가족관계증명서(후견인은 생략). 발급서류는 3개월이내 발급된 원본으로 주민등록번호 13자리가 모두 표기된 서류로 준비부탁드립니다.\n",
      "metadata:\n",
      " {'source': '신한은행', 'row': 51, 'type': '인터넷뱅킹', 'timestamp': 1713337529.3214188, 'id':\n",
      "'e25eb674-5d34-4b73-b16b-e4d478b4fc65'}\n",
      "\n",
      "-----------------------------------------------\n",
      "4. Chunk: 458 Characters\n",
      "-----------------------------------------------\n",
      "ask: 인터넷에서 이체한 거래의 상세내역 및 영수증을 인쇄하고 싶어요\n",
      "Information: 인터넷상에서 이체한 거래의 경우 인터넷상에서 제공하는 영수증은 없으며, 거래의 참고용으로 단지 조회일자 및 출금 계좌번호 등으로 상세내역(이체 확인증\n",
      "목록)을 조회하거나 그 내역을 인쇄만 가능합니다. 인터넷뱅킹 거래 상세내역(이체확인증 목록)및 입금증(이체확인증) 인쇄 방법은 다음과 같습니다. ① 인터넷뱅킹에 접속하여 로그인 ②\n",
      "이체 → 즉시이체 → 이체결과조회 ③ 조회구분, 출금계좌번호, 조회일자등 상세내역을 조회 ④ 입금확인증목록을 인쇄하시려면 조회된 내역 왼쪽 상단에 보이는 [이체목록인쇄] 버튼을\n",
      "클릭하면 해당 거래내역을 출력할 수 있으며, 입금확인증을 인쇄하시려면 해당 이체건의 오른쪽에 있는 [인쇄] 버튼을 클릭하시면 됩니다. ※ 참고 : 즉시이체 후에도 이체확인증 목록\n",
      "및 이체확인증을 출력하실 수 있습니다.\n",
      "metadata:\n",
      " {'source': '신한은행', 'row': 87, 'type': '인터넷뱅킹', 'timestamp': 1713337529.3224456, 'id':\n",
      "'9904ac1a-caa3-4b98-b407-c2ea899623f1'}\n",
      "\n",
      "-----------------------------------------------\n",
      "5. Chunk: 380 Characters\n",
      "-----------------------------------------------\n",
      "ask: 예약이체를 했는데 이체일에 송금이 안된 경우는?\n",
      "Information: 모든 예약이체 등록건은 예약이체 지정일 지정된 시간(오전 7시, 오전 9시, 오전 11시, 오후 1시, 오후 3시, 오후 5시, 오후 7시, 오후 9시)\n",
      "이전에 출금할 계좌에 송금액이 입금이 되어야 이체가 실행될 수 있습니다.\n",
      "이체가 되지 않았다고 판단되실 경우에는 반드시 먼저 \"예약이체처리결과조회\" 또는 \"계좌 거래내역\"을 확인 하시어 이체여부 및 출금여부를 확인하시기 바랍니다. 또한 예약이체 신청시\n",
      "SMS 결과통보신청을 하셨다면 요청하신 휴대폰번호로 수신된 문자를 확인해주시기 바라며, 정해진 시간에 이체되지 않은 경우 신한은행 고객상담센터 ☎ 1599-8000번으로 문의\n",
      "주시기 바랍니다.\n",
      "metadata:\n",
      " {'source': '신한은행', 'row': 37, 'type': '인터넷뱅킹', 'timestamp': 1713337529.3210208, 'id':\n",
      "'47dea430-0ce5-47fb-b1a8-771476614ded'}\n"
     ]
    }
   ],
   "source": [
    "similar_docs_semantic = retriever_utils.get_semantic_similar_docs(\n",
    "    index_name=index_name,\n",
    "    os_client=os_client,\n",
    "    llm_emb=llm_emb,\n",
    "    query=query,\n",
    "    k=5,\n",
    "    boolean_filter=search_filter,\n",
    "    hybrid=False\n",
    ")\n",
    "show_context_used(similar_docs_semantic)"
   ]
  },
  {
   "cell_type": "code",
   "execution_count": 134,
   "metadata": {
    "tags": []
   },
   "outputs": [
    {
     "name": "stdout",
     "output_type": "stream",
     "text": [
      "주어진 내용에서 중지된 경우 이체에 대한 정보를 찾을 수 없습니다. 이 문서들은 이체한도, 이체한도 증액, 온라인 서비스 신청 시 구비서류, 인터넷 이체 거래 내역 조회 및 인쇄 방법 등에 대한 정보를 제공하고 있지만, 중지된 경우 이체에 대한 내용은 포함되어 있지 않습니다.\n",
      "##############################\n",
      "query: \n",
      " 중지된 경우 이체\n",
      "answer: \n",
      " 주어진 내용에서 중지된 경우 이체에 대한 정보를 찾을 수 없습니다. 이 문서들은 이체한도, 이체한도 증액, 온라인 서비스 신청 시 구비서류, 인터넷 이체 거래 내역 조회 및 인쇄 방법 등에 대한 정보를 제공하고 있지만, 중지된 경우 이체에 대한 내용은 포함되어 있지 않습니다.\n"
     ]
    }
   ],
   "source": [
    "answer= chain.invoke(\n",
    "    {\n",
    "        \"contexts\": similar_docs_semantic,\n",
    "        \"question\": query\n",
    "    }\n",
    ")\n",
    "\n",
    "print(\"\\n##############################\")\n",
    "print(\"query: \\n\", query)\n",
    "print(\"answer: \\n\", answer)"
   ]
  },
  {
   "cell_type": "markdown",
   "metadata": {},
   "source": [
    "## Lexical 검색"
   ]
  },
  {
   "cell_type": "code",
   "execution_count": 135,
   "metadata": {
    "tags": []
   },
   "outputs": [],
   "source": [
    "query = \"중지된 경우 이체\"\n",
    "\n",
    "search_filter=[\n",
    "    #{\"term\": {\"metadata.source\": \"신한은행\"}},\n",
    "    #{\"term\": {\"metadata.type\": \"인터넷뱅킹\"}},\n",
    "]"
   ]
  },
  {
   "cell_type": "code",
   "execution_count": 136,
   "metadata": {
    "tags": []
   },
   "outputs": [
    {
     "name": "stdout",
     "output_type": "stream",
     "text": [
      "\n",
      "-----------------------------------------------\n",
      "1. Chunk: 591 Characters\n",
      "-----------------------------------------------\n",
      "ask: 12개월 장기미이체로 이체서비스가 중지된 경우 어떻게 해제하나요?\n",
      "Information: 최근 12개월동안 인터넷뱅킹/폰뱅킹/모바일뱅킹에서 이체서비스를 이용하지 않은 경우 고객님의 금융자산 보호를 위하여 이체서비스가 중단됩니다. 다시 이체를\n",
      "원하시는 경우에는 인터넷뱅킹/폰뱅킹/신한쏠(SOL)에서 이체정지 해제를 하실 수 있습니다.(단, 인터넷뱅킹 출금계좌가 등록되어 있는 경우) [경로] ① 당행 고객정보에 등록되어있는\n",
      "연락처로 ARS 추가인증 가능한 경우: - 인터넷뱅킹 로그인→ 사용자관리→ 인터넷뱅킹관리→ 장기미사용 정지해제 (또는) - 쏠(SOL) 로그인→ 전체메뉴→ 이체 → 이체관리→\n",
      "장기미사용정지 해제 ② ARS 추가인증이 불가한 경우 (해외체류 고객등) : - 인터넷뱅킹에서는 해제 어려우며, 쏠 (SOL)에서 해제 가능합니다. 쏠(SOL)의 경로는 위와\n",
      "동일하며, 비대면 실명인증후 해제 가능합니다. 비대면실명인증 - 만 14세이상 가능 - 신분증확인 (주민등록증 또는 운전면허증 또는 여권) - 본인확인 (본인명의 계좌인증 또는\n",
      "영상통화) 진행 기타 궁금하신 내용은 신한은행 고객센터 1599-8000로 문의하여 주시기 바랍니다\n",
      "metadata:\n",
      " {'source': '신한은행', 'row': 40, 'type': '인터넷뱅킹', 'timestamp': 1713337529.3211083, 'id':\n",
      "'8f495b8d-f6e6-40ba-b291-53cc7080c641'}\n",
      "\n",
      "-----------------------------------------------\n",
      "2. Chunk: 286 Characters\n",
      "-----------------------------------------------\n",
      "ask: 매월 일정금액을 타은행으로 자동송금 신청시 이체기준 알려줘\n",
      "Information: 타은행으로 매월 일정금액을 자동송금 신청 하셨을때 당월 또는 익월은 입력하지 말고, 신청등록을 하십시오. 자동이체 등록일을 기준으로 자동 이체일이 등록일보다\n",
      "빠르면 익월부터 자동으로 이체가 되며, 자동 이체일이 등록일보다 늦으면 당월부터 자동이체가 되기 때문입니다. 예시 자동이체 신청 등록일 15일, 자동 이체일 10일이면 익월\n",
      "10일부터 이체 자동이체 신청 등록일 15일, 자동 이체일 20일이면 당월 20일부터 이체\n",
      "metadata:\n",
      " {'source': '신한은행', 'row': 38, 'type': '', 'timestamp': 1713337529.3210497, 'id':\n",
      "'d580fcd8-00be-4338-93e9-331bfab1ce80'}\n",
      "\n",
      "-----------------------------------------------\n",
      "3. Chunk: 375 Characters\n",
      "-----------------------------------------------\n",
      "ask: 타행으로 자동이체를 신청하고 싶은데요\n",
      "Information: 인터넷뱅킹을 통한 타은행 계좌로의 자동이체(납부자 자동이체)신청이 가능하며 수수료는 건당 300원 입니다. 자동이체를 신청하시려면 인터넷뱅킹에 로그인 하신후\n",
      "[이체] > [자동이체] > [자동이체 등록] 메뉴를 선택하시면 타행으로의 자동이체 등록을 하실 수 있습니다. ※ 주의: 타은행 자동이체는 이체 지정일 전영업일에 고객님의 계좌에서\n",
      "인출하여 이체지정일자(지정일이 휴일인 경우에는 익영업일)에 타은행 계좌로 입금됩니다. 그러므로 예금잔액이 없으면 이체처리가 안되며, 이후잔액이 채워져도 재처리를 하지 않습니다.\n",
      "따라서 고객님께서 자동이체를 신청하실 때에는 충분한 잔액이 있는지 확인하시기 바랍니다.\n",
      "metadata:\n",
      " {'source': '신한은행', 'row': 88, 'type': '인터넷뱅킹', 'timestamp': 1713337529.3224752, 'id':\n",
      "'eb710d3d-70da-4977-99ef-e120f737ef42'}\n",
      "\n",
      "-----------------------------------------------\n",
      "4. Chunk: 402 Characters\n",
      "-----------------------------------------------\n",
      "ask: 이체한도란 무엇인가요?\n",
      "Information: 이체한도란 인터넷뱅킹, 폰뱅킹, 모바일뱅킹 등을 통하여 이체할 수 있는 거래한도를 말합니다. ① 1일/1회 이체한도 1일 이체한도란 하루에 거래할 수 있는\n",
      "이체금액의 합을 말하여, 1회 이체한도란 1회에 이체하실 수 있는 금액의 한도를 말합니다. ② 통합이체한도 인터넷뱅킹, 폰뱅킹, 모바일뱅킹 등을 고객님이 사용하시는 경우 고객님이\n",
      "1일 또는 1회에 이체하실 수 있는 이체한도를 말합니다. 인터넷뱅킹, 폰뱅킹, 모바일뱅킹 등에서 고객님이 거래하신 이체금액의 합이 통합이체한도의 범위를 초과할 수 없습니다. ③\n",
      "최고이체한도 금융감독원에서는 개인의 전자금융 시 이용할 수 있는 이체한도의 가이드라인을 정하고 있습니다.(인터넷뱅킹 : 1일 5억원, 1회 1억원 이내)\n",
      "metadata:\n",
      " {'source': '신한은행', 'row': 39, 'type': '인터넷뱅킹', 'timestamp': 1713337529.3210788, 'id':\n",
      "'abbbecdf-9f2d-42d1-9f1d-7bd50168aa99'}\n",
      "\n",
      "-----------------------------------------------\n",
      "5. Chunk: 435 Characters\n",
      "-----------------------------------------------\n",
      "ask: 인터넷뱅킹 자동이체 신청 및 해지 방법을 알려주세요\n",
      "Information: 자동이체(기일이체)는 일정기간동안 주기적(매월,3개월,6개월)으로 지정하신 계좌로 이체하실때 편리한 서비스입니다. 당행간 자동이체는 이체 지정일 1영업일\n",
      "전까지 등록하여야 하며, 타행간 자동이체는 이체 처리일 2영업일 전까지 등록하여야 합니다.자동이체 작업은 은행 영업시간 끝난 후 이루어지며, 당행의 일정에 따라 정확한 시간이\n",
      "결정됩니다. 그러므로 영업시간 중에 지급계좌에 잔액이 있어야 합니다. 자동이체 신청 및 변경/해지는 당행 인터넷뱅킹을 통해 가능하며, 인터넷뱅킹에 로그인하신 후 \"이체 >\n",
      "자동이체\" 서비스를 선택하시면 됩니다. ※ 주의 : 타행으로 자동이체는 '이체일 전일'에 자금을 미리 인출하므로 예금잔액이 없으면 이체처리가 안되며, 이후잔액이 채워져도 재처리를\n",
      "하지 않습니다.\n",
      "metadata:\n",
      " {'source': '신한은행', 'row': 77, 'type': '인터넷뱅킹', 'timestamp': 1713337529.3221543, 'id':\n",
      "'31ac8cf1-9258-4e4d-a4b1-5fcb664cce72'}\n"
     ]
    }
   ],
   "source": [
    "similar_docs_lexical = retriever_utils.get_lexical_similar_docs(\n",
    "    index_name=index_name,\n",
    "    os_client=os_client,\n",
    "    query=query,\n",
    "    k=5,\n",
    "    filter=search_filter\n",
    ")\n",
    "show_context_used(similar_docs_lexical)"
   ]
  },
  {
   "cell_type": "code",
   "execution_count": 137,
   "metadata": {
    "tags": []
   },
   "outputs": [
    {
     "name": "stdout",
     "output_type": "stream",
     "text": [
      "최근 12개월 동안 인터넷뱅킹/폰뱅킹/모바일뱅킹에서 이체서비스를 이용하지 않은 경우 고객님의 금융자산 보호를 위하여 이체서비스가 중단됩니다. 다시 이체를 원하시는 경우에는 인터넷뱅킹/폰뱅킹/신한쏠(SOL)에서 이체정지 해제를 하실 수 있습니다. \n",
      "\n",
      "인터넷뱅킹 출금계좌가 등록되어 있는 경우 인터넷뱅킹 로그인 → 사용자관리 → 인터넷뱅킹관리 → 장기미사용 정지해제 또는 쏠(SOL) 로그인 → 전체메뉴 → 이체 → 이체관리 → 장기미사용정지 해제 메뉴를 통해 이체정지를 해제할 수 있습니다.\n",
      "\n",
      "ARS 추가인증이 불가한 경우(해외체류 고객 등)에는 쏠(SOL)에서 비대면 실명인증 후 해제가 가능합니다.\n",
      "##############################\n",
      "query: \n",
      " 중지된 경우 이체\n",
      "answer: \n",
      " 최근 12개월 동안 인터넷뱅킹/폰뱅킹/모바일뱅킹에서 이체서비스를 이용하지 않은 경우 고객님의 금융자산 보호를 위하여 이체서비스가 중단됩니다. 다시 이체를 원하시는 경우에는 인터넷뱅킹/폰뱅킹/신한쏠(SOL)에서 이체정지 해제를 하실 수 있습니다. \n",
      "\n",
      "인터넷뱅킹 출금계좌가 등록되어 있는 경우 인터넷뱅킹 로그인 → 사용자관리 → 인터넷뱅킹관리 → 장기미사용 정지해제 또는 쏠(SOL) 로그인 → 전체메뉴 → 이체 → 이체관리 → 장기미사용정지 해제 메뉴를 통해 이체정지를 해제할 수 있습니다.\n",
      "\n",
      "ARS 추가인증이 불가한 경우(해외체류 고객 등)에는 쏠(SOL)에서 비대면 실명인증 후 해제가 가능합니다.\n"
     ]
    }
   ],
   "source": [
    "answer = chain.invoke(\n",
    "    {\n",
    "        \"contexts\": similar_docs_lexical,\n",
    "        \"question\": query\n",
    "    }\n",
    ")\n",
    "\n",
    "print(\"\\n##############################\")\n",
    "print(\"query: \\n\", query)\n",
    "print(\"answer: \\n\", answer)"
   ]
  },
  {
   "cell_type": "markdown",
   "metadata": {
    "tags": []
   },
   "source": [
    "## 하이브리드 검색"
   ]
  },
  {
   "cell_type": "code",
   "execution_count": 138,
   "metadata": {
    "tags": []
   },
   "outputs": [],
   "source": [
    "query = \"중지된 경우 이체\"\n",
    "\n",
    "search_filter=[\n",
    "    #{\"term\": {\"metadata.source\": \"신한은행\"}},\n",
    "    #{\"term\": {\"metadata.type\": \"인터넷뱅킹\"}},\n",
    "]"
   ]
  },
  {
   "cell_type": "code",
   "execution_count": 139,
   "metadata": {
    "tags": []
   },
   "outputs": [
    {
     "name": "stdout",
     "output_type": "stream",
     "text": [
      "##############################\n",
      "async_mode\n",
      "##############################\n",
      "True\n",
      "##############################\n",
      "reranker\n",
      "##############################\n",
      "False\n",
      "##############################\n",
      "rag_fusion\n",
      "##############################\n",
      "False\n",
      "##############################\n",
      "HyDE\n",
      "##############################\n",
      "False\n",
      "##############################\n",
      "parent_document\n",
      "##############################\n",
      "False\n",
      "##############################\n",
      "complex_document\n",
      "##############################\n",
      "False\n",
      "##############################\n",
      "similar_docs_semantic\n",
      "##############################\n",
      "\n",
      "Score: 1.0\n",
      "['ask: 이체한도란 무엇인가요?', 'Information: 이체한도란 인터넷뱅킹, 폰뱅킹, 모바일뱅킹 등을 통하여 이체할 수 있는 거래한도를 말합니다. ① 1일/1회 이체한도 1일 이체한도란 하루에 거래할 수 있는 이체금액의 합을 말하여, 1회 이체한도란 1회에 이체하실 수 있는 금액의 한도를 말합니다. ② 통합이체한도 인터넷뱅킹, 폰뱅킹, 모바일뱅킹 등을 고객님이 사용하시는 경우 고객님이 1일 또는 1회에 이체하실 수 있는 이체한도를 말합니다. 인터넷뱅킹, 폰뱅킹, 모바일뱅킹 등에서 고객님이 거래하신 이체금액의 합이 통합이체한도의 범위를 초과할 수 없습니다. ③ 최고이체한도 금융감독원에서는 개인의 전자금융 시 이용할 수 있는 이체한도의 가이드라인을 정하고 있습니다.(인터넷뱅킹 : 1일 5억원, 1회 1억원 이내)']\n",
      "{'source': '신한은행', 'row': 39, 'type': '인터넷뱅킹', 'timestamp': 1713337529.3210788, 'id': 'abbbecdf-9f2d-42d1-9f1d-7bd50168aa99'}\n",
      "\n",
      "Score: 0.9898637210725622\n",
      "['ask: 이체한도 증액은 어떻게 하나요?', 'Information: 영업점 방문하지 않아도 모바일뱅킹 신한 쏠(SOL) 에서 비대면실명 인증후 통합이체한도 증액 가능합니다. 통합이체한도는 이용하시는 보안매체에 따라, 보안등급별 최고 한도내에서 증액가능합니다.\\r', 'OTP카드 창구 발급 시 5,000원(카드형 10,000원)의 수수료가 부과됩니다. 당행에서만 사용가능한 모바일OTP는 영업점 방문없이 신한 쏠(SOL) 에서 무료로 발급가능합니다. \\r', '※ 모바일OTP를 이용하시는 경우 쏠(SOL)에서 이체한도 증액은 1회 1천만원 이하, 1일 5천만원 이하로 증액 가능합니다. \\r', '※ 만 14세 미만의 경우 법정대리인(부모/친권자/후견인)에 의해 영업점 방문하여 증액 가능하며 1일, 1회 1백만원 이하로 이체한도 제한됩니다. \\r', '통합한도란 인터넷뱅킹/신한 쏠(SOL)/폰뱅킹 등을 사용하는 경우 1일 또는 1회에 이체 가능한 통합 이체한도를 말합니다.\\r', '* 인터넷뱅킹/신한 쏠(SOL)/폰뱅킹에서 거래한 이체금액의 합이 통합이체한도의 범위를 초과할 수 없습니다.\\r', '기타 궁금하신 내용은 신한은행 고객센터 1599-8000로 문의하여 주시기 바랍니다.']\n",
      "{'source': '신한은행', 'row': 33, 'type': '인터넷뱅킹', 'timestamp': 1713337529.3208814, 'id': '887af109-e807-48e1-a233-2cc2f9bc5192'}\n",
      "\n",
      "Score: 0.987978823690562\n",
      "['ask: 온라인 서비스 신청시 구비서류는?', 'Information: 온라인 서비스 신규는 본인만 가능하고 가입시 필요서류는 다음과 같습니다. 온라인 서비스 신규 시 필요서류 : 본인 신분증. 신분증 : 국가기관 또는 지방자치단체, 교육법에 의한 학교의 장이 발급한 것으로서 성명, 주민등록번호가 기재되어 있고 부착된 사진에 의하여 본인임을 확인할 수 있는 증표 (주민등록증, 운전면허증, 공무증, 여권, 노인복지카드(경로우대증), 장애인복지카드(장애인등록증 포함), 국가 유공자증, 학생증, 외국인등록증, 국내거소신고증 등). 만14세 미만 미성년자. 만 14세 미만 미성년자는 법정대리인에 의한 신청한 가능합니다. 1. 부모가 혼인중인 경우 부 또는 모 신분증, 미성년자 기준으로 발급된 특정기본증명서, 미성년자 기준으로 발급된 상세가족관계증명서. 2. 친권자나 후견인이 지정된 경우 친권자 또는 후견인의 신분증, 미성년자 기준으로 발급된 특정 기본 증명서, 미성년 자녀 기준으로 발급된 일반 가족관계증명서(후견인은 생략). 발급서류는 3개월이내 발급된 원본으로 주민등록번호 13자리가 모두 표기된 서류로 준비부탁드립니다.']\n",
      "{'source': '신한은행', 'row': 51, 'type': '인터넷뱅킹', 'timestamp': 1713337529.3214188, 'id': 'e25eb674-5d34-4b73-b16b-e4d478b4fc65'}\n",
      "\n",
      "Score: 0.984981233819992\n",
      "['ask: 인터넷에서 이체한 거래의 상세내역 및 영수증을 인쇄하고 싶어요', 'Information: 인터넷상에서 이체한 거래의 경우 인터넷상에서 제공하는 영수증은 없으며, 거래의 참고용으로 단지 조회일자 및 출금 계좌번호 등으로 상세내역(이체 확인증 목록)을 조회하거나 그 내역을 인쇄만 가능합니다. 인터넷뱅킹 거래 상세내역(이체확인증 목록)및 입금증(이체확인증) 인쇄 방법은 다음과 같습니다. ① 인터넷뱅킹에 접속하여 로그인 ② 이체 → 즉시이체 → 이체결과조회 ③ 조회구분, 출금계좌번호, 조회일자등 상세내역을 조회 ④ 입금확인증목록을 인쇄하시려면 조회된 내역 왼쪽 상단에 보이는 [이체목록인쇄] 버튼을 클릭하면 해당 거래내역을 출력할 수 있으며, 입금확인증을 인쇄하시려면 해당 이체건의 오른쪽에 있는 [인쇄] 버튼을 클릭하시면 됩니다. ※ 참고 : 즉시이체 후에도 이체확인증 목록 및 이체확인증을 출력하실 수 있습니다.']\n",
      "{'source': '신한은행', 'row': 87, 'type': '인터넷뱅킹', 'timestamp': 1713337529.3224456, 'id': '9904ac1a-caa3-4b98-b407-c2ea899623f1'}\n",
      "\n",
      "Score: 0.9779182486701656\n",
      "['ask: 예약이체를 했는데 이체일에 송금이 안된 경우는?', 'Information: 모든 예약이체 등록건은 예약이체 지정일 지정된 시간(오전 7시, 오전 9시, 오전 11시, 오후 1시, 오후 3시, 오후 5시, 오후 7시, 오후 9시) 이전에 출금할 계좌에 송금액이 입금이 되어야 이체가 실행될 수 있습니다.\\r', '이체가 되지 않았다고 판단되실 경우에는 반드시 먼저 \"예약이체처리결과조회\" 또는 \"계좌 거래내역\"을 확인 하시어 이체여부 및 출금여부를 확인하시기 바랍니다. 또한 예약이체 신청시 SMS 결과통보신청을 하셨다면 요청하신 휴대폰번호로 수신된 문자를 확인해주시기 바라며, 정해진 시간에 이체되지 않은 경우 신한은행 고객상담센터 ☎ 1599-8000번으로 문의 주시기 바랍니다.']\n",
      "{'source': '신한은행', 'row': 37, 'type': '인터넷뱅킹', 'timestamp': 1713337529.3210208, 'id': '47dea430-0ce5-47fb-b1a8-771476614ded'}\n",
      "\n",
      "Score: 0.9700019707744418\n",
      "['ask: 즉시/예약 이체 서비스가 안되는 경우 어떻게 해야해?', 'Information: 이체서비스가 되지 않는 경우 여러가지 사유가 있을수 있으니, 신한은행 고객상담센터 1599-8000번으로 문의 주시면 자세히 상담해드리겠습니다.']\n",
      "{'source': '신한은행', 'row': 62, 'type': '인터넷뱅킹', 'timestamp': 1713337529.3217287, 'id': '7fd15f87-1cd5-4f4b-ac75-122ded6cd6aa'}\n",
      "\n",
      "Score: 0.9647631571105393\n",
      "['ask: 해외고객 추가인증 방법', 'Information: 먼저 이용에 불편을 드려 대단히 죄송합니다. 2013년 9월 전자금융사기 예방서비스 전면 시행으로 인해, 국내외에서 뱅킹이용시 거래에 따라 추가인증을 거치게 되었습니다.\\r', '① 인증서 발급/재발급, 1일 누적 300만원 이상 이체시 시행하는 추가인증 방법(누적금액은 변경될수 있습니다.)해외IP로 접속하신 부분이 자동으로 확인되면 ‘해외체류 확인’ 항목이 활성화 되기 때문에 법무부 출입국관리사무소에 출국정보를 확인 받는 부분에 동의하시면 ARS 인증없이 거래가 가능합니다.\\r', '※ 해외 소재한 국내기업의 내부 인터넷망을 이용하시는 경우 국내IP로 인식하여 해당 추가 인증기능 활성화가 안되는 경우가 있으니 유의부탁드립니다.\\r', '② 해외에서 온라인을 통한 예금해지/대출실행 업무시 추가인증 방법한국시간 기준으로 은행 영업일의 오전9시부터 오후6시 사이에 뱅킹에 접속하시면  해외 현지 연락처를 직접 입력하여 추가인증의 진행이 가능하도록 되어있습니다. \\r', '③ 고객정보 보호 목적으로 인터넷뱅킹상에서 개인정보 변경 등의 일부 중요업무이 경우는 ARS인증만을 시행하도록 하고 있습니다.  왜냐하면, 타인에 의한 정보변경 시도 등을 차단하고자 하는 부분이므로 만약 해외에서 070 등 인터넷전화를 사용하시는 경우 미리 한국에서 정보변경을 하지 못하셨다면 고객센터 82-2-3449-8000 또는 82-2-3708-8000으로 상담사에게 문의하시기 바랍니다. \\r', '④ “불법거래 방지를 위해 이체거래가 정지되었다”라고 뜨는 경우\\r', '82-2-3449-8000 또는 82-2-3708-8000으로 연락주셔서 상담직원을 통한 사고등록 해제가 가능합니다. 이체제한 해제는 24시간 가능하며, 본인확인을 위해 몇가지 정보확인을 거치는 점 양해바랍니다.\\r', '82-2-3449-8000 번호로 전화주셔서 음성이 나오면 차례대로 6-3-3-0 코드를 따라서  24시간 사고관련 상담직원과 통화가 가능합니다\\r', '해외에 계신 고객분들도 뱅킹을 이용하실 수 있도록 편의성 부분도 많이 고려하고 있으나, 최근 해외IP를 통해 전자금융서비스 이용고객분들께 피해를 입히려는 시도가 다수 발생하고 있기 때문에 제한적으로 해외체류 확인 항목을 적용할 수 밖에 없어서 안타깝게 생각합니다. 편리성 못지 않게 고객분들의 소중한 자산을 지키는 것이 중요하다보니 이와 같이 시행하고 있는 점 다시 한번 양해 부탁드립니다.']\n",
      "{'source': '신한은행', 'row': 31, 'type': '인터넷뱅킹', 'timestamp': 1713337529.3208232, 'id': '7879389d-7924-408c-b3cb-d7d7ae1203cf'}\n",
      "None\n",
      "##############################\n",
      "similar_docs_keyword\n",
      "##############################\n",
      "\n",
      "Score: 1.0\n",
      "['ask: 12개월 장기미이체로 이체서비스가 중지된 경우 어떻게 해제하나요?', 'Information: 최근 12개월동안 인터넷뱅킹/폰뱅킹/모바일뱅킹에서 이체서비스를 이용하지 않은 경우 고객님의 금융자산 보호를 위하여 이체서비스가 중단됩니다. 다시 이체를 원하시는 경우에는 인터넷뱅킹/폰뱅킹/신한쏠(SOL)에서 이체정지 해제를 하실 수 있습니다.(단, 인터넷뱅킹 출금계좌가 등록되어 있는 경우) [경로] ① 당행 고객정보에 등록되어있는 연락처로 ARS 추가인증 가능한 경우: - 인터넷뱅킹 로그인→ 사용자관리→ 인터넷뱅킹관리→ 장기미사용 정지해제 (또는) - 쏠(SOL) 로그인→ 전체메뉴→ 이체 → 이체관리→ 장기미사용정지 해제 ② ARS 추가인증이 불가한 경우 (해외체류 고객등) : - 인터넷뱅킹에서는 해제 어려우며, 쏠 (SOL)에서 해제 가능합니다. 쏠(SOL)의 경로는 위와 동일하며, 비대면 실명인증후 해제 가능합니다. 비대면실명인증 - 만 14세이상 가능 - 신분증확인 (주민등록증 또는 운전면허증 또는 여권) - 본인확인 (본인명의 계좌인증 또는 영상통화) 진행 기타 궁금하신 내용은 신한은행 고객센터 1599-8000로 문의하여 주시기 바랍니다']\n",
      "{'source': '신한은행', 'row': 40, 'type': '인터넷뱅킹', 'timestamp': 1713337529.3211083, 'id': '8f495b8d-f6e6-40ba-b291-53cc7080c641'}\n",
      "\n",
      "Score: 0.7039535480460996\n",
      "['ask: 매월 일정금액을 타은행으로 자동송금 신청시 이체기준 알려줘', 'Information: 타은행으로 매월 일정금액을 자동송금 신청 하셨을때 당월 또는 익월은 입력하지 말고, 신청등록을 하십시오. 자동이체 등록일을 기준으로 자동 이체일이 등록일보다 빠르면 익월부터 자동으로 이체가 되며, 자동 이체일이 등록일보다 늦으면 당월부터 자동이체가 되기 때문입니다. 예시 자동이체 신청 등록일 15일, 자동 이체일 10일이면 익월 10일부터 이체 자동이체 신청 등록일 15일, 자동 이체일 20일이면 당월 20일부터 이체']\n",
      "{'source': '신한은행', 'row': 38, 'type': '', 'timestamp': 1713337529.3210497, 'id': 'd580fcd8-00be-4338-93e9-331bfab1ce80'}\n",
      "\n",
      "Score: 0.660852770343251\n",
      "['ask: 타행으로 자동이체를 신청하고 싶은데요', 'Information: 인터넷뱅킹을 통한 타은행 계좌로의 자동이체(납부자 자동이체)신청이 가능하며 수수료는 건당 300원 입니다. 자동이체를 신청하시려면 인터넷뱅킹에 로그인 하신후 [이체] > [자동이체] > [자동이체 등록] 메뉴를 선택하시면 타행으로의 자동이체 등록을 하실 수 있습니다. ※ 주의: 타은행 자동이체는 이체 지정일 전영업일에 고객님의 계좌에서 인출하여 이체지정일자(지정일이 휴일인 경우에는 익영업일)에 타은행 계좌로 입금됩니다. 그러므로 예금잔액이 없으면 이체처리가 안되며, 이후잔액이 채워져도 재처리를 하지 않습니다. 따라서 고객님께서 자동이체를 신청하실 때에는 충분한 잔액이 있는지 확인하시기 바랍니다.']\n",
      "{'source': '신한은행', 'row': 88, 'type': '인터넷뱅킹', 'timestamp': 1713337529.3224752, 'id': 'eb710d3d-70da-4977-99ef-e120f737ef42'}\n",
      "\n",
      "Score: 0.6367498380828476\n",
      "['ask: 이체한도란 무엇인가요?', 'Information: 이체한도란 인터넷뱅킹, 폰뱅킹, 모바일뱅킹 등을 통하여 이체할 수 있는 거래한도를 말합니다. ① 1일/1회 이체한도 1일 이체한도란 하루에 거래할 수 있는 이체금액의 합을 말하여, 1회 이체한도란 1회에 이체하실 수 있는 금액의 한도를 말합니다. ② 통합이체한도 인터넷뱅킹, 폰뱅킹, 모바일뱅킹 등을 고객님이 사용하시는 경우 고객님이 1일 또는 1회에 이체하실 수 있는 이체한도를 말합니다. 인터넷뱅킹, 폰뱅킹, 모바일뱅킹 등에서 고객님이 거래하신 이체금액의 합이 통합이체한도의 범위를 초과할 수 없습니다. ③ 최고이체한도 금융감독원에서는 개인의 전자금융 시 이용할 수 있는 이체한도의 가이드라인을 정하고 있습니다.(인터넷뱅킹 : 1일 5억원, 1회 1억원 이내)']\n",
      "{'source': '신한은행', 'row': 39, 'type': '인터넷뱅킹', 'timestamp': 1713337529.3210788, 'id': 'abbbecdf-9f2d-42d1-9f1d-7bd50168aa99'}\n",
      "\n",
      "Score: 0.5288419411639282\n",
      "['ask: 인터넷뱅킹 자동이체 신청 및 해지 방법을 알려주세요', 'Information: 자동이체(기일이체)는 일정기간동안 주기적(매월,3개월,6개월)으로 지정하신 계좌로 이체하실때 편리한 서비스입니다. 당행간 자동이체는 이체 지정일 1영업일 전까지 등록하여야 하며, 타행간 자동이체는 이체 처리일 2영업일 전까지 등록하여야 합니다.자동이체 작업은 은행 영업시간 끝난 후 이루어지며, 당행의 일정에 따라 정확한 시간이 결정됩니다. 그러므로 영업시간 중에 지급계좌에 잔액이 있어야 합니다. 자동이체 신청 및 변경/해지는 당행 인터넷뱅킹을 통해 가능하며, 인터넷뱅킹에 로그인하신 후 \"이체 > 자동이체\" 서비스를 선택하시면 됩니다. ※ 주의 : 타행으로 자동이체는 \\'이체일 전일\\'에 자금을 미리 인출하므로 예금잔액이 없으면 이체처리가 안되며, 이후잔액이 채워져도 재처리를 하지 않습니다.']\n",
      "{'source': '신한은행', 'row': 77, 'type': '인터넷뱅킹', 'timestamp': 1713337529.3221543, 'id': '31ac8cf1-9258-4e4d-a4b1-5fcb664cce72'}\n",
      "\n",
      "Score: 0.5277975797014451\n",
      "['ask: 인터넷뱅킹의 출금계좌 추가 삭제 방법 알려줘.', 'Information: 인터넷뱅킹, 신한쏠(SOL)에서 출금계좌의 추가/삭제가 가능합니다. 단, 인터넷뱅킹 신청시 또는 그 이후에 영업점에서 \"출금계좌 인터넷추가등록 동의\" 를 하신 경우에는 인터넷뱅킹, 신한 쏠 에서 추가등록이 가능하며 동의하지 않은 경우엔 신한 쏠 에서 비대면으로 신분증 확인후 출금계좌 추가등록이 가능합니다. (출금계좌 삭제는 동의여부와 관계없이 모두 가능함)\\r', '[경로]\\r', '- 인터넷뱅킹 로그인→ 사용자관리→ 계좌관리→ 출금계좌관리\\r', '- 신한 쏠(SOL) 로그인→전체메뉴→이체→이체관리→출금계좌관리\\r', '기타 궁금하신 내용은 신한은행 고객센터 1599-8000로 문의하여 주시기 바랍니다.']\n",
      "{'source': '신한은행', 'row': 74, 'type': '인터넷뱅킹', 'timestamp': 1713337529.3220687, 'id': '14e060d0-d3ec-4f34-a64f-5e22631d78d9'}\n",
      "\n",
      "Score: 0.5199366646167727\n",
      "['ask: 즉시/예약 이체 서비스가 안되는 경우 어떻게 해야해?', 'Information: 이체서비스가 되지 않는 경우 여러가지 사유가 있을수 있으니, 신한은행 고객상담센터 1599-8000번으로 문의 주시면 자세히 상담해드리겠습니다.']\n",
      "{'source': '신한은행', 'row': 62, 'type': '인터넷뱅킹', 'timestamp': 1713337529.3217287, 'id': '7fd15f87-1cd5-4f4b-ac75-122ded6cd6aa'}\n",
      "None\n",
      "##############################\n",
      "similar_docs\n",
      "##############################\n",
      "\n",
      "Score: 0.0160015368852459\n",
      "['ask: 이체한도란 무엇인가요?', 'Information: 이체한도란 인터넷뱅킹, 폰뱅킹, 모바일뱅킹 등을 통하여 이체할 수 있는 거래한도를 말합니다. ① 1일/1회 이체한도 1일 이체한도란 하루에 거래할 수 있는 이체금액의 합을 말하여, 1회 이체한도란 1회에 이체하실 수 있는 금액의 한도를 말합니다. ② 통합이체한도 인터넷뱅킹, 폰뱅킹, 모바일뱅킹 등을 고객님이 사용하시는 경우 고객님이 1일 또는 1회에 이체하실 수 있는 이체한도를 말합니다. 인터넷뱅킹, 폰뱅킹, 모바일뱅킹 등에서 고객님이 거래하신 이체금액의 합이 통합이체한도의 범위를 초과할 수 없습니다. ③ 최고이체한도 금융감독원에서는 개인의 전자금융 시 이용할 수 있는 이체한도의 가이드라인을 정하고 있습니다.(인터넷뱅킹 : 1일 5억원, 1회 1억원 이내)']\n",
      "{'source': '신한은행', 'row': 39, 'type': '인터넷뱅킹', 'timestamp': 1713337529.3210788, 'id': 'abbbecdf-9f2d-42d1-9f1d-7bd50168aa99'}\n",
      "\n",
      "Score: 0.015036182722749886\n",
      "['ask: 즉시/예약 이체 서비스가 안되는 경우 어떻게 해야해?', 'Information: 이체서비스가 되지 않는 경우 여러가지 사유가 있을수 있으니, 신한은행 고객상담센터 1599-8000번으로 문의 주시면 자세히 상담해드리겠습니다.']\n",
      "{'source': '신한은행', 'row': 62, 'type': '인터넷뱅킹', 'timestamp': 1713337529.3217287, 'id': '7fd15f87-1cd5-4f4b-ac75-122ded6cd6aa'}\n",
      "\n",
      "Score: 0.008360655737704918\n",
      "['ask: 12개월 장기미이체로 이체서비스가 중지된 경우 어떻게 해제하나요?', 'Information: 최근 12개월동안 인터넷뱅킹/폰뱅킹/모바일뱅킹에서 이체서비스를 이용하지 않은 경우 고객님의 금융자산 보호를 위하여 이체서비스가 중단됩니다. 다시 이체를 원하시는 경우에는 인터넷뱅킹/폰뱅킹/신한쏠(SOL)에서 이체정지 해제를 하실 수 있습니다.(단, 인터넷뱅킹 출금계좌가 등록되어 있는 경우) [경로] ① 당행 고객정보에 등록되어있는 연락처로 ARS 추가인증 가능한 경우: - 인터넷뱅킹 로그인→ 사용자관리→ 인터넷뱅킹관리→ 장기미사용 정지해제 (또는) - 쏠(SOL) 로그인→ 전체메뉴→ 이체 → 이체관리→ 장기미사용정지 해제 ② ARS 추가인증이 불가한 경우 (해외체류 고객등) : - 인터넷뱅킹에서는 해제 어려우며, 쏠 (SOL)에서 해제 가능합니다. 쏠(SOL)의 경로는 위와 동일하며, 비대면 실명인증후 해제 가능합니다. 비대면실명인증 - 만 14세이상 가능 - 신분증확인 (주민등록증 또는 운전면허증 또는 여권) - 본인확인 (본인명의 계좌인증 또는 영상통화) 진행 기타 궁금하신 내용은 신한은행 고객센터 1599-8000로 문의하여 주시기 바랍니다']\n",
      "{'source': '신한은행', 'row': 40, 'type': '인터넷뱅킹', 'timestamp': 1713337529.3211083, 'id': '8f495b8d-f6e6-40ba-b291-53cc7080c641'}\n",
      "\n",
      "Score: 0.008225806451612904\n",
      "['ask: 매월 일정금액을 타은행으로 자동송금 신청시 이체기준 알려줘', 'Information: 타은행으로 매월 일정금액을 자동송금 신청 하셨을때 당월 또는 익월은 입력하지 말고, 신청등록을 하십시오. 자동이체 등록일을 기준으로 자동 이체일이 등록일보다 빠르면 익월부터 자동으로 이체가 되며, 자동 이체일이 등록일보다 늦으면 당월부터 자동이체가 되기 때문입니다. 예시 자동이체 신청 등록일 15일, 자동 이체일 10일이면 익월 10일부터 이체 자동이체 신청 등록일 15일, 자동 이체일 20일이면 당월 20일부터 이체']\n",
      "{'source': '신한은행', 'row': 38, 'type': '', 'timestamp': 1713337529.3210497, 'id': 'd580fcd8-00be-4338-93e9-331bfab1ce80'}\n",
      "\n",
      "Score: 0.008095238095238095\n",
      "['ask: 타행으로 자동이체를 신청하고 싶은데요', 'Information: 인터넷뱅킹을 통한 타은행 계좌로의 자동이체(납부자 자동이체)신청이 가능하며 수수료는 건당 300원 입니다. 자동이체를 신청하시려면 인터넷뱅킹에 로그인 하신후 [이체] > [자동이체] > [자동이체 등록] 메뉴를 선택하시면 타행으로의 자동이체 등록을 하실 수 있습니다. ※ 주의: 타은행 자동이체는 이체 지정일 전영업일에 고객님의 계좌에서 인출하여 이체지정일자(지정일이 휴일인 경우에는 익영업일)에 타은행 계좌로 입금됩니다. 그러므로 예금잔액이 없으면 이체처리가 안되며, 이후잔액이 채워져도 재처리를 하지 않습니다. 따라서 고객님께서 자동이체를 신청하실 때에는 충분한 잔액이 있는지 확인하시기 바랍니다.']\n",
      "{'source': '신한은행', 'row': 88, 'type': '인터넷뱅킹', 'timestamp': 1713337529.3224752, 'id': 'eb710d3d-70da-4977-99ef-e120f737ef42'}\n",
      "\n",
      "Score: 0.007903225806451612\n",
      "['ask: 이체한도 증액은 어떻게 하나요?', 'Information: 영업점 방문하지 않아도 모바일뱅킹 신한 쏠(SOL) 에서 비대면실명 인증후 통합이체한도 증액 가능합니다. 통합이체한도는 이용하시는 보안매체에 따라, 보안등급별 최고 한도내에서 증액가능합니다.\\r', 'OTP카드 창구 발급 시 5,000원(카드형 10,000원)의 수수료가 부과됩니다. 당행에서만 사용가능한 모바일OTP는 영업점 방문없이 신한 쏠(SOL) 에서 무료로 발급가능합니다. \\r', '※ 모바일OTP를 이용하시는 경우 쏠(SOL)에서 이체한도 증액은 1회 1천만원 이하, 1일 5천만원 이하로 증액 가능합니다. \\r', '※ 만 14세 미만의 경우 법정대리인(부모/친권자/후견인)에 의해 영업점 방문하여 증액 가능하며 1일, 1회 1백만원 이하로 이체한도 제한됩니다. \\r', '통합한도란 인터넷뱅킹/신한 쏠(SOL)/폰뱅킹 등을 사용하는 경우 1일 또는 1회에 이체 가능한 통합 이체한도를 말합니다.\\r', '* 인터넷뱅킹/신한 쏠(SOL)/폰뱅킹에서 거래한 이체금액의 합이 통합이체한도의 범위를 초과할 수 없습니다.\\r', '기타 궁금하신 내용은 신한은행 고객센터 1599-8000로 문의하여 주시기 바랍니다.']\n",
      "{'source': '신한은행', 'row': 33, 'type': '인터넷뱅킹', 'timestamp': 1713337529.3208814, 'id': '887af109-e807-48e1-a233-2cc2f9bc5192'}\n",
      "\n",
      "Score: 0.007846153846153846\n",
      "['ask: 인터넷뱅킹 자동이체 신청 및 해지 방법을 알려주세요', 'Information: 자동이체(기일이체)는 일정기간동안 주기적(매월,3개월,6개월)으로 지정하신 계좌로 이체하실때 편리한 서비스입니다. 당행간 자동이체는 이체 지정일 1영업일 전까지 등록하여야 하며, 타행간 자동이체는 이체 처리일 2영업일 전까지 등록하여야 합니다.자동이체 작업은 은행 영업시간 끝난 후 이루어지며, 당행의 일정에 따라 정확한 시간이 결정됩니다. 그러므로 영업시간 중에 지급계좌에 잔액이 있어야 합니다. 자동이체 신청 및 변경/해지는 당행 인터넷뱅킹을 통해 가능하며, 인터넷뱅킹에 로그인하신 후 \"이체 > 자동이체\" 서비스를 선택하시면 됩니다. ※ 주의 : 타행으로 자동이체는 \\'이체일 전일\\'에 자금을 미리 인출하므로 예금잔액이 없으면 이체처리가 안되며, 이후잔액이 채워져도 재처리를 하지 않습니다.']\n",
      "{'source': '신한은행', 'row': 77, 'type': '인터넷뱅킹', 'timestamp': 1713337529.3221543, 'id': '31ac8cf1-9258-4e4d-a4b1-5fcb664cce72'}\n",
      "None\n",
      "CPU times: user 28.6 ms, sys: 0 ns, total: 28.6 ms\n",
      "Wall time: 373 ms\n"
     ]
    }
   ],
   "source": [
    "%%time\n",
    "similar_docs_hybrid = retriever_utils.search_hybrid(\n",
    "    query=query,\n",
    "    k=7,\n",
    "    index_name=index_name,\n",
    "    os_client=os_client,\n",
    "    filter=search_filter,\n",
    "    fusion_algorithm=\"RRF\", # [\"RRF\", \"simple_weighted\"]\n",
    "    ensemble_weights=[0.49, 0.51], # semantic, lexical\n",
    "    async_mode=True,\n",
    "    llm_emb=llm_emb,\n",
    "    verbose=True\n",
    ")"
   ]
  },
  {
   "cell_type": "code",
   "execution_count": 140,
   "metadata": {
    "tags": []
   },
   "outputs": [
    {
     "name": "stdout",
     "output_type": "stream",
     "text": [
      "최근 12개월 동안 인터넷뱅킹/폰뱅킹/모바일뱅킹에서 이체서비스를 이용하지 않은 경우 고객님의 금융자산 보호를 위하여 이체서비스가 중단됩니다. 다시 이체를 원하시는 경우에는 인터넷뱅킹/폰뱅킹/신한쏠(SOL)에서 이체정지 해제를 하실 수 있습니다. 단, 인터넷뱅킹 출금계좌가 등록되어 있는 경우에만 가능합니다. ARS 추가인증이 가능한 경우 인터넷뱅킹이나 신한쏠(SOL)에서 직접 해제할 수 있으며, ARS 추가인증이 불가능한 경우에는 신한쏠(SOL)에서 비대면 실명인증 후 해제할 수 있습니다.\n",
      "##############################\n",
      "query: \n",
      " 중지된 경우 이체\n",
      "answer: \n",
      " 최근 12개월 동안 인터넷뱅킹/폰뱅킹/모바일뱅킹에서 이체서비스를 이용하지 않은 경우 고객님의 금융자산 보호를 위하여 이체서비스가 중단됩니다. 다시 이체를 원하시는 경우에는 인터넷뱅킹/폰뱅킹/신한쏠(SOL)에서 이체정지 해제를 하실 수 있습니다. 단, 인터넷뱅킹 출금계좌가 등록되어 있는 경우에만 가능합니다. ARS 추가인증이 가능한 경우 인터넷뱅킹이나 신한쏠(SOL)에서 직접 해제할 수 있으며, ARS 추가인증이 불가능한 경우에는 신한쏠(SOL)에서 비대면 실명인증 후 해제할 수 있습니다.\n"
     ]
    }
   ],
   "source": [
    "answer = chain.invoke(\n",
    "    {\n",
    "        \"contexts\": similar_docs_hybrid,\n",
    "        \"question\": query\n",
    "    }\n",
    ")\n",
    "\n",
    "print(\"\\n##############################\")\n",
    "print(\"query: \\n\", query)\n",
    "print(\"answer: \\n\", answer)"
   ]
  },
  {
   "cell_type": "markdown",
   "metadata": {},
   "source": [
    "# A. Reference"
   ]
  },
  {
   "cell_type": "markdown",
   "metadata": {},
   "source": [
    "- [Building a RAG AI with OpenSearch Serverless and LangChain](https://caylent.com/blog/building-a-rag-with-open-search-serverless-and-lang-chain)"
   ]
  }
 ],
 "metadata": {
  "availableInstances": [
   {
    "_defaultOrder": 0,
    "_isFastLaunch": true,
    "category": "General purpose",
    "gpuNum": 0,
    "hideHardwareSpecs": false,
    "memoryGiB": 4,
    "name": "ml.t3.medium",
    "vcpuNum": 2
   },
   {
    "_defaultOrder": 1,
    "_isFastLaunch": false,
    "category": "General purpose",
    "gpuNum": 0,
    "hideHardwareSpecs": false,
    "memoryGiB": 8,
    "name": "ml.t3.large",
    "vcpuNum": 2
   },
   {
    "_defaultOrder": 2,
    "_isFastLaunch": false,
    "category": "General purpose",
    "gpuNum": 0,
    "hideHardwareSpecs": false,
    "memoryGiB": 16,
    "name": "ml.t3.xlarge",
    "vcpuNum": 4
   },
   {
    "_defaultOrder": 3,
    "_isFastLaunch": false,
    "category": "General purpose",
    "gpuNum": 0,
    "hideHardwareSpecs": false,
    "memoryGiB": 32,
    "name": "ml.t3.2xlarge",
    "vcpuNum": 8
   },
   {
    "_defaultOrder": 4,
    "_isFastLaunch": true,
    "category": "General purpose",
    "gpuNum": 0,
    "hideHardwareSpecs": false,
    "memoryGiB": 8,
    "name": "ml.m5.large",
    "vcpuNum": 2
   },
   {
    "_defaultOrder": 5,
    "_isFastLaunch": false,
    "category": "General purpose",
    "gpuNum": 0,
    "hideHardwareSpecs": false,
    "memoryGiB": 16,
    "name": "ml.m5.xlarge",
    "vcpuNum": 4
   },
   {
    "_defaultOrder": 6,
    "_isFastLaunch": false,
    "category": "General purpose",
    "gpuNum": 0,
    "hideHardwareSpecs": false,
    "memoryGiB": 32,
    "name": "ml.m5.2xlarge",
    "vcpuNum": 8
   },
   {
    "_defaultOrder": 7,
    "_isFastLaunch": false,
    "category": "General purpose",
    "gpuNum": 0,
    "hideHardwareSpecs": false,
    "memoryGiB": 64,
    "name": "ml.m5.4xlarge",
    "vcpuNum": 16
   },
   {
    "_defaultOrder": 8,
    "_isFastLaunch": false,
    "category": "General purpose",
    "gpuNum": 0,
    "hideHardwareSpecs": false,
    "memoryGiB": 128,
    "name": "ml.m5.8xlarge",
    "vcpuNum": 32
   },
   {
    "_defaultOrder": 9,
    "_isFastLaunch": false,
    "category": "General purpose",
    "gpuNum": 0,
    "hideHardwareSpecs": false,
    "memoryGiB": 192,
    "name": "ml.m5.12xlarge",
    "vcpuNum": 48
   },
   {
    "_defaultOrder": 10,
    "_isFastLaunch": false,
    "category": "General purpose",
    "gpuNum": 0,
    "hideHardwareSpecs": false,
    "memoryGiB": 256,
    "name": "ml.m5.16xlarge",
    "vcpuNum": 64
   },
   {
    "_defaultOrder": 11,
    "_isFastLaunch": false,
    "category": "General purpose",
    "gpuNum": 0,
    "hideHardwareSpecs": false,
    "memoryGiB": 384,
    "name": "ml.m5.24xlarge",
    "vcpuNum": 96
   },
   {
    "_defaultOrder": 12,
    "_isFastLaunch": false,
    "category": "General purpose",
    "gpuNum": 0,
    "hideHardwareSpecs": false,
    "memoryGiB": 8,
    "name": "ml.m5d.large",
    "vcpuNum": 2
   },
   {
    "_defaultOrder": 13,
    "_isFastLaunch": false,
    "category": "General purpose",
    "gpuNum": 0,
    "hideHardwareSpecs": false,
    "memoryGiB": 16,
    "name": "ml.m5d.xlarge",
    "vcpuNum": 4
   },
   {
    "_defaultOrder": 14,
    "_isFastLaunch": false,
    "category": "General purpose",
    "gpuNum": 0,
    "hideHardwareSpecs": false,
    "memoryGiB": 32,
    "name": "ml.m5d.2xlarge",
    "vcpuNum": 8
   },
   {
    "_defaultOrder": 15,
    "_isFastLaunch": false,
    "category": "General purpose",
    "gpuNum": 0,
    "hideHardwareSpecs": false,
    "memoryGiB": 64,
    "name": "ml.m5d.4xlarge",
    "vcpuNum": 16
   },
   {
    "_defaultOrder": 16,
    "_isFastLaunch": false,
    "category": "General purpose",
    "gpuNum": 0,
    "hideHardwareSpecs": false,
    "memoryGiB": 128,
    "name": "ml.m5d.8xlarge",
    "vcpuNum": 32
   },
   {
    "_defaultOrder": 17,
    "_isFastLaunch": false,
    "category": "General purpose",
    "gpuNum": 0,
    "hideHardwareSpecs": false,
    "memoryGiB": 192,
    "name": "ml.m5d.12xlarge",
    "vcpuNum": 48
   },
   {
    "_defaultOrder": 18,
    "_isFastLaunch": false,
    "category": "General purpose",
    "gpuNum": 0,
    "hideHardwareSpecs": false,
    "memoryGiB": 256,
    "name": "ml.m5d.16xlarge",
    "vcpuNum": 64
   },
   {
    "_defaultOrder": 19,
    "_isFastLaunch": false,
    "category": "General purpose",
    "gpuNum": 0,
    "hideHardwareSpecs": false,
    "memoryGiB": 384,
    "name": "ml.m5d.24xlarge",
    "vcpuNum": 96
   },
   {
    "_defaultOrder": 20,
    "_isFastLaunch": false,
    "category": "General purpose",
    "gpuNum": 0,
    "hideHardwareSpecs": true,
    "memoryGiB": 0,
    "name": "ml.geospatial.interactive",
    "supportedImageNames": [
     "sagemaker-geospatial-v1-0"
    ],
    "vcpuNum": 0
   },
   {
    "_defaultOrder": 21,
    "_isFastLaunch": true,
    "category": "Compute optimized",
    "gpuNum": 0,
    "hideHardwareSpecs": false,
    "memoryGiB": 4,
    "name": "ml.c5.large",
    "vcpuNum": 2
   },
   {
    "_defaultOrder": 22,
    "_isFastLaunch": false,
    "category": "Compute optimized",
    "gpuNum": 0,
    "hideHardwareSpecs": false,
    "memoryGiB": 8,
    "name": "ml.c5.xlarge",
    "vcpuNum": 4
   },
   {
    "_defaultOrder": 23,
    "_isFastLaunch": false,
    "category": "Compute optimized",
    "gpuNum": 0,
    "hideHardwareSpecs": false,
    "memoryGiB": 16,
    "name": "ml.c5.2xlarge",
    "vcpuNum": 8
   },
   {
    "_defaultOrder": 24,
    "_isFastLaunch": false,
    "category": "Compute optimized",
    "gpuNum": 0,
    "hideHardwareSpecs": false,
    "memoryGiB": 32,
    "name": "ml.c5.4xlarge",
    "vcpuNum": 16
   },
   {
    "_defaultOrder": 25,
    "_isFastLaunch": false,
    "category": "Compute optimized",
    "gpuNum": 0,
    "hideHardwareSpecs": false,
    "memoryGiB": 72,
    "name": "ml.c5.9xlarge",
    "vcpuNum": 36
   },
   {
    "_defaultOrder": 26,
    "_isFastLaunch": false,
    "category": "Compute optimized",
    "gpuNum": 0,
    "hideHardwareSpecs": false,
    "memoryGiB": 96,
    "name": "ml.c5.12xlarge",
    "vcpuNum": 48
   },
   {
    "_defaultOrder": 27,
    "_isFastLaunch": false,
    "category": "Compute optimized",
    "gpuNum": 0,
    "hideHardwareSpecs": false,
    "memoryGiB": 144,
    "name": "ml.c5.18xlarge",
    "vcpuNum": 72
   },
   {
    "_defaultOrder": 28,
    "_isFastLaunch": false,
    "category": "Compute optimized",
    "gpuNum": 0,
    "hideHardwareSpecs": false,
    "memoryGiB": 192,
    "name": "ml.c5.24xlarge",
    "vcpuNum": 96
   },
   {
    "_defaultOrder": 29,
    "_isFastLaunch": true,
    "category": "Accelerated computing",
    "gpuNum": 1,
    "hideHardwareSpecs": false,
    "memoryGiB": 16,
    "name": "ml.g4dn.xlarge",
    "vcpuNum": 4
   },
   {
    "_defaultOrder": 30,
    "_isFastLaunch": false,
    "category": "Accelerated computing",
    "gpuNum": 1,
    "hideHardwareSpecs": false,
    "memoryGiB": 32,
    "name": "ml.g4dn.2xlarge",
    "vcpuNum": 8
   },
   {
    "_defaultOrder": 31,
    "_isFastLaunch": false,
    "category": "Accelerated computing",
    "gpuNum": 1,
    "hideHardwareSpecs": false,
    "memoryGiB": 64,
    "name": "ml.g4dn.4xlarge",
    "vcpuNum": 16
   },
   {
    "_defaultOrder": 32,
    "_isFastLaunch": false,
    "category": "Accelerated computing",
    "gpuNum": 1,
    "hideHardwareSpecs": false,
    "memoryGiB": 128,
    "name": "ml.g4dn.8xlarge",
    "vcpuNum": 32
   },
   {
    "_defaultOrder": 33,
    "_isFastLaunch": false,
    "category": "Accelerated computing",
    "gpuNum": 4,
    "hideHardwareSpecs": false,
    "memoryGiB": 192,
    "name": "ml.g4dn.12xlarge",
    "vcpuNum": 48
   },
   {
    "_defaultOrder": 34,
    "_isFastLaunch": false,
    "category": "Accelerated computing",
    "gpuNum": 1,
    "hideHardwareSpecs": false,
    "memoryGiB": 256,
    "name": "ml.g4dn.16xlarge",
    "vcpuNum": 64
   },
   {
    "_defaultOrder": 35,
    "_isFastLaunch": false,
    "category": "Accelerated computing",
    "gpuNum": 1,
    "hideHardwareSpecs": false,
    "memoryGiB": 61,
    "name": "ml.p3.2xlarge",
    "vcpuNum": 8
   },
   {
    "_defaultOrder": 36,
    "_isFastLaunch": false,
    "category": "Accelerated computing",
    "gpuNum": 4,
    "hideHardwareSpecs": false,
    "memoryGiB": 244,
    "name": "ml.p3.8xlarge",
    "vcpuNum": 32
   },
   {
    "_defaultOrder": 37,
    "_isFastLaunch": false,
    "category": "Accelerated computing",
    "gpuNum": 8,
    "hideHardwareSpecs": false,
    "memoryGiB": 488,
    "name": "ml.p3.16xlarge",
    "vcpuNum": 64
   },
   {
    "_defaultOrder": 38,
    "_isFastLaunch": false,
    "category": "Accelerated computing",
    "gpuNum": 8,
    "hideHardwareSpecs": false,
    "memoryGiB": 768,
    "name": "ml.p3dn.24xlarge",
    "vcpuNum": 96
   },
   {
    "_defaultOrder": 39,
    "_isFastLaunch": false,
    "category": "Memory Optimized",
    "gpuNum": 0,
    "hideHardwareSpecs": false,
    "memoryGiB": 16,
    "name": "ml.r5.large",
    "vcpuNum": 2
   },
   {
    "_defaultOrder": 40,
    "_isFastLaunch": false,
    "category": "Memory Optimized",
    "gpuNum": 0,
    "hideHardwareSpecs": false,
    "memoryGiB": 32,
    "name": "ml.r5.xlarge",
    "vcpuNum": 4
   },
   {
    "_defaultOrder": 41,
    "_isFastLaunch": false,
    "category": "Memory Optimized",
    "gpuNum": 0,
    "hideHardwareSpecs": false,
    "memoryGiB": 64,
    "name": "ml.r5.2xlarge",
    "vcpuNum": 8
   },
   {
    "_defaultOrder": 42,
    "_isFastLaunch": false,
    "category": "Memory Optimized",
    "gpuNum": 0,
    "hideHardwareSpecs": false,
    "memoryGiB": 128,
    "name": "ml.r5.4xlarge",
    "vcpuNum": 16
   },
   {
    "_defaultOrder": 43,
    "_isFastLaunch": false,
    "category": "Memory Optimized",
    "gpuNum": 0,
    "hideHardwareSpecs": false,
    "memoryGiB": 256,
    "name": "ml.r5.8xlarge",
    "vcpuNum": 32
   },
   {
    "_defaultOrder": 44,
    "_isFastLaunch": false,
    "category": "Memory Optimized",
    "gpuNum": 0,
    "hideHardwareSpecs": false,
    "memoryGiB": 384,
    "name": "ml.r5.12xlarge",
    "vcpuNum": 48
   },
   {
    "_defaultOrder": 45,
    "_isFastLaunch": false,
    "category": "Memory Optimized",
    "gpuNum": 0,
    "hideHardwareSpecs": false,
    "memoryGiB": 512,
    "name": "ml.r5.16xlarge",
    "vcpuNum": 64
   },
   {
    "_defaultOrder": 46,
    "_isFastLaunch": false,
    "category": "Memory Optimized",
    "gpuNum": 0,
    "hideHardwareSpecs": false,
    "memoryGiB": 768,
    "name": "ml.r5.24xlarge",
    "vcpuNum": 96
   },
   {
    "_defaultOrder": 47,
    "_isFastLaunch": false,
    "category": "Accelerated computing",
    "gpuNum": 1,
    "hideHardwareSpecs": false,
    "memoryGiB": 16,
    "name": "ml.g5.xlarge",
    "vcpuNum": 4
   },
   {
    "_defaultOrder": 48,
    "_isFastLaunch": false,
    "category": "Accelerated computing",
    "gpuNum": 1,
    "hideHardwareSpecs": false,
    "memoryGiB": 32,
    "name": "ml.g5.2xlarge",
    "vcpuNum": 8
   },
   {
    "_defaultOrder": 49,
    "_isFastLaunch": false,
    "category": "Accelerated computing",
    "gpuNum": 1,
    "hideHardwareSpecs": false,
    "memoryGiB": 64,
    "name": "ml.g5.4xlarge",
    "vcpuNum": 16
   },
   {
    "_defaultOrder": 50,
    "_isFastLaunch": false,
    "category": "Accelerated computing",
    "gpuNum": 1,
    "hideHardwareSpecs": false,
    "memoryGiB": 128,
    "name": "ml.g5.8xlarge",
    "vcpuNum": 32
   },
   {
    "_defaultOrder": 51,
    "_isFastLaunch": false,
    "category": "Accelerated computing",
    "gpuNum": 1,
    "hideHardwareSpecs": false,
    "memoryGiB": 256,
    "name": "ml.g5.16xlarge",
    "vcpuNum": 64
   },
   {
    "_defaultOrder": 52,
    "_isFastLaunch": false,
    "category": "Accelerated computing",
    "gpuNum": 4,
    "hideHardwareSpecs": false,
    "memoryGiB": 192,
    "name": "ml.g5.12xlarge",
    "vcpuNum": 48
   },
   {
    "_defaultOrder": 53,
    "_isFastLaunch": false,
    "category": "Accelerated computing",
    "gpuNum": 4,
    "hideHardwareSpecs": false,
    "memoryGiB": 384,
    "name": "ml.g5.24xlarge",
    "vcpuNum": 96
   },
   {
    "_defaultOrder": 54,
    "_isFastLaunch": false,
    "category": "Accelerated computing",
    "gpuNum": 8,
    "hideHardwareSpecs": false,
    "memoryGiB": 768,
    "name": "ml.g5.48xlarge",
    "vcpuNum": 192
   },
   {
    "_defaultOrder": 55,
    "_isFastLaunch": false,
    "category": "Accelerated computing",
    "gpuNum": 8,
    "hideHardwareSpecs": false,
    "memoryGiB": 1152,
    "name": "ml.p4d.24xlarge",
    "vcpuNum": 96
   },
   {
    "_defaultOrder": 56,
    "_isFastLaunch": false,
    "category": "Accelerated computing",
    "gpuNum": 8,
    "hideHardwareSpecs": false,
    "memoryGiB": 1152,
    "name": "ml.p4de.24xlarge",
    "vcpuNum": 96
   }
  ],
  "instance_type": "ml.m5.xlarge",
  "kernelspec": {
   "display_name": "conda_python3",
   "language": "python",
   "name": "conda_python3"
  },
  "language_info": {
   "codemirror_mode": {
    "name": "ipython",
    "version": 3
   },
   "file_extension": ".py",
   "mimetype": "text/x-python",
   "name": "python",
   "nbconvert_exporter": "python",
   "pygments_lexer": "ipython3",
   "version": "3.10.13"
  },
  "vscode": {
   "interpreter": {
    "hash": "3b41de70bedc0e302a3aeb58a0c77b854f2e56c8930e61a4aaa3340c96b01f1d"
   }
  }
 },
 "nbformat": 4,
 "nbformat_minor": 4
}
