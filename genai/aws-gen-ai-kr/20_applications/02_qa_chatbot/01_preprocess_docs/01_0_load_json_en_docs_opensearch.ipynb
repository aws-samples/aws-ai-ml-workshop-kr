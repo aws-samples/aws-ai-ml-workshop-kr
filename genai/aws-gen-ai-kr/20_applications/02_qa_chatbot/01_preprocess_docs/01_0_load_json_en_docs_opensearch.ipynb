{
 "cells": [
  {
   "cell_type": "markdown",
   "metadata": {
    "jp-MarkdownHeadingCollapsed": true,
    "tags": []
   },
   "source": [
    "# 스키마 정의 후 Vector Store 생성 \n",
    "\n",
    "---\n",
    "\n",
    "---"
   ]
  },
  {
   "cell_type": "markdown",
   "metadata": {
    "tags": []
   },
   "source": [
    "# 1. Bedrock Client 생성"
   ]
  },
  {
   "cell_type": "code",
   "execution_count": 44,
   "metadata": {
    "tags": []
   },
   "outputs": [
    {
     "name": "stdout",
     "output_type": "stream",
     "text": [
      "langchain                                0.0.338\n",
      "opensearch-py                            2.3.2\n",
      "pypdf                                    3.17.1\n"
     ]
    }
   ],
   "source": [
    "! pip list | grep langchain # 0.0.312\n",
    "! pip list | grep opensearch # 2.3.2\n",
    "! pip list | grep pypdf"
   ]
  },
  {
   "cell_type": "code",
   "execution_count": 45,
   "metadata": {
    "tags": []
   },
   "outputs": [
    {
     "name": "stdout",
     "output_type": "stream",
     "text": [
      "The autoreload extension is already loaded. To reload it, use:\n",
      "  %reload_ext autoreload\n",
      "/root/aws-ai-ml-workshop-kr/genai/aws-gen-ai-kr/20_applications/02_qa_chatbot/01_preprocess_docs/utils\n"
     ]
    }
   ],
   "source": [
    "%load_ext autoreload\n",
    "%autoreload 2\n",
    "\n",
    "import sys, os\n",
    "# module_path = \"../../../utils\"\n",
    "# sys.path.append(os.path.abspath(module_path))\n",
    "# print(os.path.abspath(module_path))\n",
    "\n",
    "module_path = \"./utils\"\n",
    "sys.path.append(os.path.abspath(module_path))\n",
    "print(os.path.abspath(module_path))"
   ]
  },
  {
   "cell_type": "code",
   "execution_count": 46,
   "metadata": {
    "tags": []
   },
   "outputs": [
    {
     "name": "stdout",
     "output_type": "stream",
     "text": [
      "Create new client\n",
      "  Using region: us-east-1\n",
      "  Using profile: None\n",
      "boto3 Bedrock client successfully created!\n",
      "bedrock-runtime(https://bedrock-runtime.us-east-1.amazonaws.com)\n",
      "\n",
      "== FM lists ==\n",
      "{'Claude-Instant-V1': 'anthropic.claude-instant-v1',\n",
      " 'Claude-V1': 'anthropic.claude-v1',\n",
      " 'Claude-V2': 'anthropic.claude-v2',\n",
      " 'Command': 'cohere.command-text-v14',\n",
      " 'Jurassic-2-Mid': 'ai21.j2-mid-v1',\n",
      " 'Jurassic-2-Ultra': 'ai21.j2-ultra-v1',\n",
      " 'Llama2-13b-Chat': 'meta.llama2-13b-chat-v1',\n",
      " 'Titan-Embeddings-G1': 'amazon.titan-embed-text-v1',\n",
      " 'Titan-Text-G1': 'TBD'}\n"
     ]
    }
   ],
   "source": [
    "import json\n",
    "import boto3\n",
    "from pprint import pprint\n",
    "from termcolor import colored\n",
    "from utils import bedrock, print_ww\n",
    "from utils.bedrock import bedrock_info\n",
    "\n",
    "# ---- ⚠️ Un-comment and edit the below lines as needed for your AWS setup ⚠️ ----\n",
    "\n",
    "# os.environ[\"AWS_DEFAULT_REGION\"] = \"<REGION_NAME>\"  # E.g. \"us-east-1\"\n",
    "# os.environ[\"AWS_PROFILE\"] = \"<YOUR_PROFILE>\"\n",
    "# os.environ[\"BEDROCK_ASSUME_ROLE\"] = \"<YOUR_ROLE_ARN>\"  # E.g. \"arn:aws:...\"\n",
    "# os.environ[\"BEDROCK_ENDPOINT_URL\"] = \"<YOUR_ENDPOINT_URL>\"  # E.g. \"https://...\"\n",
    "\n",
    "\n",
    "boto3_bedrock = bedrock.get_bedrock_client(\n",
    "    assumed_role=os.environ.get(\"BEDROCK_ASSUME_ROLE\", None),\n",
    "    endpoint_url=os.environ.get(\"BEDROCK_ENDPOINT_URL\", None),\n",
    "    region=os.environ.get(\"AWS_DEFAULT_REGION\", None),\n",
    ")\n",
    "\n",
    "print(colored(\"\\n== FM lists ==\", \"green\"))\n",
    "pprint(bedrock_info.get_list_fm_models())"
   ]
  },
  {
   "cell_type": "markdown",
   "metadata": {},
   "source": [
    "# 2. Embedding 모델 로딩"
   ]
  },
  {
   "cell_type": "markdown",
   "metadata": {},
   "source": [
    "## Embedding Model 선택"
   ]
  },
  {
   "cell_type": "code",
   "execution_count": 57,
   "metadata": {
    "tags": []
   },
   "outputs": [],
   "source": [
    "Use_Titan_Embedding = False\n",
    "Use_Cohere_English_Embedding = True"
   ]
  },
  {
   "cell_type": "markdown",
   "metadata": {},
   "source": [
    "## Embedding Model 로딩"
   ]
  },
  {
   "cell_type": "code",
   "execution_count": 65,
   "metadata": {
    "tags": []
   },
   "outputs": [
    {
     "data": {
      "text/plain": [
       "BedrockEmbeddings(client=<botocore.client.BedrockRuntime object at 0x7f3b571341f0>, region_name=None, credentials_profile_name=None, model_id='cohere.embed-english-v3', model_kwargs=None, endpoint_url=None)"
      ]
     },
     "execution_count": 65,
     "metadata": {},
     "output_type": "execute_result"
    }
   ],
   "source": [
    "# We will be using the Titan Embeddings Model to generate our Embeddings.\n",
    "from langchain.embeddings import BedrockEmbeddings\n",
    "from langchain.llms.bedrock import Bedrock\n",
    "\n",
    "if Use_Titan_Embedding:\n",
    "    llm_emb = BedrockEmbeddings(client=boto3_bedrock, model_id = \"amazon.titan-embed-text-v1\")\n",
    "    dimension = 1536\n",
    "elif Use_Cohere_English_Embedding:\n",
    "    llm_emb = BedrockEmbeddings(client=boto3_bedrock, model_id = \"cohere.embed-english-v3\")    \n",
    "    dimension = 1024\n",
    "else:\n",
    "    lim_emb = None\n",
    "\n",
    "llm_emb"
   ]
  },
  {
   "cell_type": "markdown",
   "metadata": {
    "tags": []
   },
   "source": [
    "# 3. Load all Json files"
   ]
  },
  {
   "cell_type": "code",
   "execution_count": 59,
   "metadata": {
    "tags": []
   },
   "outputs": [],
   "source": [
    "from utils.proc_docs import get_load_json, show_doc_json"
   ]
  },
  {
   "cell_type": "code",
   "execution_count": 60,
   "metadata": {
    "tags": []
   },
   "outputs": [
    {
     "name": "stdout",
     "output_type": "stream",
     "text": [
      "all json files:  1\n",
      "all items:  1732\n"
     ]
    }
   ],
   "source": [
    "import glob\n",
    "\n",
    "# Specify the directory and file pattern for .txt files\n",
    "folder_path = 'data/poc/preprocessed_json/all_processed_data.json'\n",
    "\n",
    "# List all .txt files in the specified folder\n",
    "json_files = glob.glob(folder_path)\n",
    "# json_files = ['data/poc/customer_EFOTA.json']\n",
    "\n",
    "# Load each item per json file and append to a list\n",
    "doc_json_list = []\n",
    "for file_path in json_files:\n",
    "    doc_json = get_load_json(file_path)\n",
    "    doc_json_list.append(doc_json)\n",
    "\n",
    "print(\"all json files: \", len(doc_json_list))    \n",
    "# Flatten the list of lists into a single list\n",
    "all_docs = []\n",
    "for item in doc_json_list:\n",
    "        all_docs.extend(item)\n",
    "        \n",
    "print(\"all items: \", len(all_docs))"
   ]
  },
  {
   "cell_type": "markdown",
   "metadata": {
    "tags": []
   },
   "source": [
    "# 4. Chunking JSON Doc "
   ]
  },
  {
   "cell_type": "markdown",
   "metadata": {},
   "source": [
    "## Chunk Size and Chunk Overlap Size 결정"
   ]
  },
  {
   "cell_type": "code",
   "execution_count": 61,
   "metadata": {
    "tags": []
   },
   "outputs": [],
   "source": [
    "chunk_size = 1024\n",
    "chunk_overlap = 256\n"
   ]
  },
  {
   "cell_type": "markdown",
   "metadata": {},
   "source": [
    "## Chunking"
   ]
  },
  {
   "cell_type": "code",
   "execution_count": 62,
   "metadata": {
    "tags": []
   },
   "outputs": [
    {
     "name": "stdout",
     "output_type": "stream",
     "text": [
      "Number of chunk_docs after split and chunking= 6825\n"
     ]
    }
   ],
   "source": [
    "from langchain.text_splitter import RecursiveCharacterTextSplitter, SpacyTextSplitter\n",
    "\n",
    "\n",
    "text_splitter = RecursiveCharacterTextSplitter(\n",
    "    # Set a really small chunk size, just to show.\n",
    "    chunk_size = chunk_size,\n",
    "    chunk_overlap  = chunk_overlap,\n",
    "    separators=[\"\\n\\n\", \"\\n\", \".\", \" \", \"\"],\n",
    "    length_function = len,\n",
    ")\n",
    "\n",
    "chunk_docs = text_splitter.split_documents(all_docs)\n",
    "print(f\"Number of chunk_docs after split and chunking= {len(chunk_docs)}\")"
   ]
  },
  {
   "cell_type": "code",
   "execution_count": 63,
   "metadata": {
    "tags": []
   },
   "outputs": [
    {
     "data": {
      "text/plain": [
       "[Document(page_content='AR demo barcodes. Use the following barcodes to test the Knox Capture AR features. Barcode 1 Barcode 2 Barcode 3 Barcode 4 Barcode 5 Barcode 6', metadata={'source': 'all_processed_data.json', 'seq_num': 1, 'title': 'AR demo barcodes', 'url': 'https://docs.samsungknox.com/admin/knox-capture/ar-demo-barcodes', 'project': 'KCAP', 'last_updated': '2023-10-16'})]"
      ]
     },
     "execution_count": 63,
     "metadata": {},
     "output_type": "execute_result"
    }
   ],
   "source": [
    "chunk_docs[0:1]"
   ]
  },
  {
   "cell_type": "markdown",
   "metadata": {},
   "source": [
    "# 5. Index 생성"
   ]
  },
  {
   "cell_type": "markdown",
   "metadata": {
    "tags": []
   },
   "source": [
    "## Index 이름 결정"
   ]
  },
  {
   "cell_type": "code",
   "execution_count": 64,
   "metadata": {
    "tags": []
   },
   "outputs": [],
   "source": [
    "index_name = \"genai-poc-knox-cohere-en-1024c-256o-v11\"\n",
    "\n"
   ]
  },
  {
   "cell_type": "markdown",
   "metadata": {
    "tags": []
   },
   "source": [
    "## Index 스키마 정의"
   ]
  },
  {
   "cell_type": "code",
   "execution_count": 66,
   "metadata": {
    "tags": []
   },
   "outputs": [],
   "source": [
    "index_body = {\n",
    "    'settings': {\n",
    "        'index': {\n",
    "            'knn': True,\n",
    "            'knn.space_type': 'cosinesimil'  # Example space type\n",
    "        }\n",
    "    },\n",
    "    'mappings': {\n",
    "        'properties': {\n",
    "            'metadata': {\n",
    "                'properties': {\n",
    "                               'source' : {'type': 'keyword'},\n",
    "                               'last_updated': {'type': 'date'},\n",
    "                               'project': {'type': 'keyword'},\n",
    "                               'seq_num': {'type': 'long'},\n",
    "                               'title': {'type': 'text'},  # For full-text search\n",
    "                               'url': {'type': 'text'},  # For full-text search\n",
    "                            }\n",
    "            },            \n",
    "            'text': {\n",
    "                'type': 'text'\n",
    "            },\n",
    "            'vector_field': {\n",
    "                'type': 'knn_vector',\n",
    "                'dimension': f\"{dimension}\"  # Replace with your vector dimension\n",
    "            }\n",
    "        }\n",
    "    }\n",
    "}\n"
   ]
  },
  {
   "cell_type": "markdown",
   "metadata": {
    "tags": []
   },
   "source": [
    "# 5. LangChain OpenSearch VectorStore 생성 \n",
    "## 선수 조건\n"
   ]
  },
  {
   "cell_type": "markdown",
   "metadata": {
    "tags": []
   },
   "source": [
    "## 오픈 서치 도메인 및 인증 정보 세팅\n",
    "\n",
    "- [langchain.vectorstores.opensearch_vector_search.OpenSearchVectorSearch](https://api.python.langchain.com/en/latest/vectorstores/langchain.vectorstores.opensearch_vector_search.OpenSearchVectorSearch.html)"
   ]
  },
  {
   "cell_type": "markdown",
   "metadata": {},
   "source": [
    "#### [중요] 아래에 aws parameter store 에 아래 인증정보가 먼저 입력되어 있어야 합니다."
   ]
  },
  {
   "cell_type": "code",
   "execution_count": 67,
   "metadata": {
    "tags": []
   },
   "outputs": [],
   "source": [
    "from utils.proc_docs import get_parameter"
   ]
  },
  {
   "cell_type": "code",
   "execution_count": 68,
   "metadata": {
    "tags": []
   },
   "outputs": [],
   "source": [
    "import boto3\n",
    "ssm = boto3.client('ssm', 'us-east-1')\n",
    "\n",
    "opensearch_domain_endpoint = get_parameter(\n",
    "    boto3_client = ssm,\n",
    "    parameter_name = 'knox_opensearch_domain_endpoint',\n",
    ")\n",
    "\n",
    "opensearch_user_id = get_parameter(\n",
    "    boto3_client = ssm,\n",
    "    parameter_name = 'knox_opensearch_userid',\n",
    ")\n",
    "\n",
    "opensearch_user_password = get_parameter(\n",
    "    boto3_client = ssm,\n",
    "    parameter_name = 'knox_opensearch_password',\n",
    ")\n"
   ]
  },
  {
   "cell_type": "code",
   "execution_count": 69,
   "metadata": {
    "tags": []
   },
   "outputs": [],
   "source": [
    "opensearch_domain_endpoint = opensearch_domain_endpoint\n",
    "rag_user_name = opensearch_user_id\n",
    "rag_user_password = opensearch_user_password\n",
    "\n",
    "http_auth = (rag_user_name, rag_user_password) # Master username, Master password"
   ]
  },
  {
   "cell_type": "markdown",
   "metadata": {},
   "source": [
    "## OpenSearch Client 생성"
   ]
  },
  {
   "cell_type": "code",
   "execution_count": 70,
   "metadata": {
    "tags": []
   },
   "outputs": [],
   "source": [
    "from utils.opensearch import opensearch_utils"
   ]
  },
  {
   "cell_type": "code",
   "execution_count": 71,
   "metadata": {
    "tags": []
   },
   "outputs": [],
   "source": [
    "aws_region = os.environ.get(\"AWS_DEFAULT_REGION\", None)\n",
    "\n",
    "os_client = opensearch_utils.create_aws_opensearch_client(\n",
    "    aws_region,\n",
    "    opensearch_domain_endpoint,\n",
    "    http_auth\n",
    ")"
   ]
  },
  {
   "cell_type": "markdown",
   "metadata": {},
   "source": [
    "## 오픈 서치 인덱스 생성 \n",
    "- 오픈 서치에 해당 인덱스가 존재하면, 삭제 합니다. "
   ]
  },
  {
   "cell_type": "code",
   "execution_count": 72,
   "metadata": {
    "tags": []
   },
   "outputs": [],
   "source": [
    "from utils.opensearch import opensearch_utils"
   ]
  },
  {
   "cell_type": "code",
   "execution_count": 73,
   "metadata": {
    "tags": []
   },
   "outputs": [
    {
     "name": "stdout",
     "output_type": "stream",
     "text": [
      "index_name=genai-poc-knox-cohere-en-1024c-256o-v11, exists=False\n",
      "\n",
      "Creating index:\n",
      "{'acknowledged': True, 'shards_acknowledged': True, 'index': 'genai-poc-knox-cohere-en-1024c-256o-v11'}\n",
      "Index is created\n",
      "{'genai-poc-knox-cohere-en-1024c-256o-v11': {'aliases': {},\n",
      "                                             'mappings': {'properties': {'metadata': {'properties': {'last_updated': {'type': 'date'},\n",
      "                                                                                                     'project': {'type': 'keyword'},\n",
      "                                                                                                     'seq_num': {'type': 'long'},\n",
      "                                                                                                     'source': {'type': 'keyword'},\n",
      "                                                                                                     'title': {'type': 'text'},\n",
      "                                                                                                     'url': {'type': 'text'}}},\n",
      "                                                                         'text': {'type': 'text'},\n",
      "                                                                         'vector_field': {'dimension': 1024,\n",
      "                                                                                          'type': 'knn_vector'}}},\n",
      "                                             'settings': {'index': {'creation_date': '1701148055429',\n",
      "                                                                    'knn': 'true',\n",
      "                                                                    'knn.space_type': 'cosinesimil',\n",
      "                                                                    'number_of_replicas': '2',\n",
      "                                                                    'number_of_shards': '5',\n",
      "                                                                    'provided_name': 'genai-poc-knox-cohere-en-1024c-256o-v11',\n",
      "                                                                    'uuid': 'DXJggBEQTeSbL-_ozsXIAg',\n",
      "                                                                    'version': {'created': '136307827'}}}}}\n"
     ]
    }
   ],
   "source": [
    "\n",
    "index_exists = opensearch_utils.check_if_index_exists(\n",
    "    os_client,\n",
    "    index_name\n",
    ")\n",
    "\n",
    "if index_exists:\n",
    "    opensearch_utils.delete_index(\n",
    "        os_client,\n",
    "        index_name\n",
    "    )\n",
    "\n",
    "opensearch_utils.create_index(os_client, index_name, index_body)\n",
    "index_info = os_client.indices.get(index=index_name)\n",
    "print(\"Index is created\")\n",
    "pprint(index_info)"
   ]
  },
  {
   "cell_type": "markdown",
   "metadata": {
    "tags": []
   },
   "source": [
    "## 랭체인 인덱스 연결 오브젝트 생성\n",
    "\n",
    "- [langchain.vectorstores.opensearch_vector_search.OpenSearchVectorSearch](https://api.python.langchain.com/en/latest/vectorstores/langchain.vectorstores.opensearch_vector_search.OpenSearchVectorSearch.html)"
   ]
  },
  {
   "cell_type": "code",
   "execution_count": 74,
   "metadata": {
    "tags": []
   },
   "outputs": [],
   "source": [
    "from langchain.vectorstores import OpenSearchVectorSearch"
   ]
  },
  {
   "cell_type": "code",
   "execution_count": 75,
   "metadata": {
    "tags": []
   },
   "outputs": [
    {
     "data": {
      "text/plain": [
       "<langchain.vectorstores.opensearch_vector_search.OpenSearchVectorSearch at 0x7f3b5502f0a0>"
      ]
     },
     "execution_count": 75,
     "metadata": {},
     "output_type": "execute_result"
    }
   ],
   "source": [
    "vector_db = OpenSearchVectorSearch(\n",
    "    index_name=index_name,\n",
    "    opensearch_url=opensearch_domain_endpoint,\n",
    "    embedding_function=llm_emb,\n",
    "    http_auth=http_auth, # http_auth\n",
    "    is_aoss =False,\n",
    "    engine=\"faiss\",\n",
    "    space_type=\"l2\",\n",
    "    bulk_size=100000,\n",
    "    timeout=60    \n",
    ")\n",
    "vector_db"
   ]
  },
  {
   "cell_type": "markdown",
   "metadata": {},
   "source": [
    "## OpenSearch 에 문서 삽입"
   ]
  },
  {
   "cell_type": "code",
   "execution_count": 76,
   "metadata": {
    "collapsed": true,
    "jupyter": {
     "outputs_hidden": true
    },
    "tags": []
   },
   "outputs": [
    {
     "name": "stdout",
     "output_type": "stream",
     "text": [
      "CPU times: user 16.5 s, sys: 911 ms, total: 17.4 s\n",
      "Wall time: 8min 26s\n"
     ]
    },
    {
     "data": {
      "text/plain": [
       "['601f3d87-6c70-4423-bde7-345509c83400',\n",
       " 'ba2ebbe0-3465-4a3c-a879-bd4b134fca97',\n",
       " 'c86eef3d-a280-4bab-8fed-73671c116ff2',\n",
       " '68031423-57a0-4a83-b859-5190fa1a6dda',\n",
       " '31c6aedc-048f-43fa-a6e4-fdc7cffa6996',\n",
       " '817ecce3-eea9-439f-aacb-0327f9913a95',\n",
       " '77c1a826-27ad-44fd-9c22-b61dd71dd7dd',\n",
       " '4e2d9153-e9e4-450d-8ac2-943e6ed4b08b',\n",
       " '7485b678-a4bf-4c1e-895e-bd3249e58c90',\n",
       " '967df85f-d91c-4250-8d0f-5e2e5fa317e0',\n",
       " 'c6b87d6b-f36a-4997-8536-fbcf9275cca6',\n",
       " '84387d44-8dab-4b78-96dc-728411fd3983',\n",
       " 'd90e54b3-cfed-4571-8279-b96a7844775d',\n",
       " 'f167d5b2-0820-4a53-bf87-3613851d0d9f',\n",
       " '6045a5d2-a3a5-4d4e-a4e2-ed8afd2fdb83',\n",
       " 'b132967f-3774-41d4-936b-40d453811315',\n",
       " '252634ea-ef40-426b-97ee-f1981b935906',\n",
       " '81b268e4-8f8a-4941-bd37-283f4f1d50c7',\n",
       " '6baf45a7-4d5d-4c6d-b8e1-d0a897cc95d3',\n",
       " '32cb6b1a-7d97-4400-b9ad-73769c395401',\n",
       " '7d932eb4-bd71-40ca-8374-9199e461507a',\n",
       " '20a61d6f-ac29-41fb-b59e-d44df8d5620b',\n",
       " 'ec5246fd-7489-43f2-9c23-54a8a8b1a738',\n",
       " '7ff9cb53-f33b-44b7-adc3-cbcdd5b22247',\n",
       " '451c607d-82eb-44d8-9073-a7bd5488f65a',\n",
       " '466c2e01-dabf-4822-8ab9-95292c0aa894',\n",
       " '4ee3427d-82f2-4c64-a9b6-a546dbfe720d',\n",
       " '71ab204a-06e4-41a1-a7b6-96845fb78ae9',\n",
       " '0da5b6cd-2b6a-4555-b13b-effa74ccaf91',\n",
       " 'd8c999d5-676c-4e8a-936d-44a70cf9aedf',\n",
       " 'be90e3a5-c143-48e6-a682-c873b6b8b805',\n",
       " '57abaec5-0dfc-4337-88db-dd13bf323e4d',\n",
       " '7e1ac237-a053-4d46-9d1c-7a438e9afe6c',\n",
       " '6706ebeb-2cd0-421c-969a-aa3474a33330',\n",
       " '25f57f5d-178a-4967-b910-0aed312b9fed',\n",
       " 'ba8f1a0e-8748-4a2a-a0bd-87a0d35fbe16',\n",
       " '31d66b12-a6be-43dd-8283-d02016d8fd65',\n",
       " 'c1c3804a-f854-4a10-a7d1-acefe0c6280e',\n",
       " '1d52c3ad-a56f-45d2-9bc0-80743ce89429',\n",
       " '16011e8c-0732-4b47-b9f9-66047c4effa1',\n",
       " 'dfcc8cda-14c2-45a3-b942-a06aa02526fc',\n",
       " '68082612-c2d8-4c30-a977-e54b8124d4c6',\n",
       " 'a0c50dea-8245-4fec-a157-eeff7f04f3c1',\n",
       " 'd92495ba-3ed0-4567-a4e5-9cde7879381e',\n",
       " 'f76ded9c-f609-4d03-9006-1cabd5066b35',\n",
       " '037d23c9-c2c4-40b0-8c48-3f9c44a9ad2b',\n",
       " '6ad84e83-b148-42e6-b57b-4d899eff3591',\n",
       " '66e6ffa9-b94b-45e7-83af-e47489908ca8',\n",
       " 'c38d8e79-3f60-45f7-bab5-5ee2df7ec684',\n",
       " 'ab8a77f7-3b44-49e9-8b8e-fe7ca8783878',\n",
       " '44bae062-21c0-44af-bd89-e89c80dc4f68',\n",
       " 'cc07a041-a3cf-4eb8-916e-61bf2ba2d28f',\n",
       " 'a72c5bfa-dad0-42d1-b2c0-86f29ece24ae',\n",
       " '13e933f9-cf6f-46ec-bf71-4e126057b323',\n",
       " '6c56fb1f-4ac6-49ff-a154-f3c753b358ff',\n",
       " '418815be-1265-4be0-9b9d-acde71b7d3e4',\n",
       " '1e897d89-9cd7-4ca2-b36c-b665d0ac3e02',\n",
       " 'ab442d7c-681e-4d38-b5e7-ff0086489a63',\n",
       " 'f691574a-5751-4dee-8813-cb879bfdea6d',\n",
       " 'e30fc74d-098d-40c0-ac14-e5f563e3e7ae',\n",
       " 'c432c2ef-afd0-493f-a9a3-5a18fcc87976',\n",
       " 'a05b2834-e11a-45b9-9494-62b555e86ae6',\n",
       " '01fd8a02-20d5-412a-bb09-320f5f17a83f',\n",
       " 'c155dda5-5218-4d2e-8f14-cd0d763a8cb4',\n",
       " '2433fbd4-70cc-4056-ab69-572ec8e16b19',\n",
       " '1dd1525a-ab76-434d-805c-970a5142ff94',\n",
       " '8ad96043-c4b6-4e3b-bebf-c6e570625a52',\n",
       " '36e27c14-7bf3-4790-879b-b1d61301c61f',\n",
       " 'add26413-d258-4a25-bb3a-990c9089f8cb',\n",
       " 'd0ba94cb-7793-4930-ab44-17c66d1106b2',\n",
       " 'ebd61a55-6fea-4d7f-aac5-a0ecaa2a42ec',\n",
       " 'f80f8ceb-1fe9-42e0-bc09-fa8fb481986d',\n",
       " 'db63d68c-1e09-4219-b394-1738c0164ea3',\n",
       " '434ca1da-2c81-443e-86ae-15fd907eafb9',\n",
       " '8fa40516-3e81-4ef7-a9ba-d1a8cc4f0377',\n",
       " '1f7bf56b-b1f8-4b48-bb63-800daeca5463',\n",
       " 'c7cd4af7-19a9-495f-bcc5-5c91aa6cff1e',\n",
       " 'a8dfad98-10fe-45b1-826f-735f217bbe2b',\n",
       " 'b3d664fe-b23a-4036-b6c1-83028ef876f2',\n",
       " 'ba5f23c2-51b3-4b13-8c3e-235e468053aa',\n",
       " '3afdc3a8-b02b-40c5-a4c7-764d781aea6c',\n",
       " '942285eb-4c76-4468-81b7-69090c1c086c',\n",
       " '02dd9a4f-4195-45bd-8d38-3a6aa8151fc5',\n",
       " '7dadcf5d-5e4d-4013-a8c4-abd1ad57dd94',\n",
       " '62908ee5-f675-4a81-a00b-0edf1870791c',\n",
       " '4614a80d-8a84-4132-a3c0-b5a77e9b3c50',\n",
       " '31b7edf6-d4fa-4179-8a38-489ddaabca4f',\n",
       " 'e15c6eaf-19f2-4aa3-bf18-adcb2d65996b',\n",
       " 'c43730a3-4cb5-4aa3-9298-6498afbee36b',\n",
       " '5e1a76e9-e764-4ad8-b74d-a41bd757092c',\n",
       " 'fd7b7d4e-5173-4aa3-8431-890a7a3c57a0',\n",
       " '37da0670-0456-4fdd-ba0d-953feaed69ef',\n",
       " 'a179fd37-fa27-4c34-bee9-ba050519c69a',\n",
       " 'aee5fc86-bb59-4b16-a6cb-3e5f0208e509',\n",
       " 'c24250a2-2398-4291-bb23-20fe4094f540',\n",
       " '29222f47-29c8-4baa-bb27-cf7169049138',\n",
       " 'f4e83d0d-a7a2-454c-a2f6-9c9768318445',\n",
       " 'b9b98a52-9ecc-4986-9357-56a7a238df07',\n",
       " 'cd446f4f-0dc0-4ab6-b9c0-4a86a86095e9',\n",
       " '23ae3e5e-a313-4fd0-b30f-1666f4e36cb9',\n",
       " 'b9aa88bb-fec9-43aa-9d6b-9ccb4516bdcc',\n",
       " '1476ecac-75b5-414e-8cf1-85de6383ce07',\n",
       " 'c980233e-0cc0-4037-9066-765c5de96e48',\n",
       " 'db7bfd9b-ae40-4da8-937e-2f80a8a82827',\n",
       " 'ee5742d7-f632-407b-8ae9-6bbffb63969f',\n",
       " '5c18ed69-1df6-41f9-88a7-8bee86fbbf58',\n",
       " '414b4fe9-459b-4c77-bfaa-6ae990e53460',\n",
       " '929eaf90-616b-42ac-abdf-62e9fc51898f',\n",
       " '64a13bc5-381f-447f-b0d1-812f46cca38d',\n",
       " '42163edf-f367-4c99-afc3-05978b668bc4',\n",
       " '9c7507e9-87e4-4458-a57e-5f03d511c9f7',\n",
       " '49f9f6e6-5527-4b2f-bbc5-6a11b33ce6a7',\n",
       " 'b6e38b36-297e-442a-9711-52dce008e7e3',\n",
       " 'c0cebcf5-8226-42cd-bc8c-d65d805eb606',\n",
       " 'a6b0d95e-1837-48ef-8ee5-b4bac9442fcd',\n",
       " 'a54cb3db-5f37-49e4-a272-d48a874bb6f1',\n",
       " 'cb511ae2-8aa6-49cd-91c8-240823f6665b',\n",
       " 'adbf86d4-274f-413b-a8a6-0b02c78068df',\n",
       " '8460ab41-7699-4a32-8539-d510a976d55c',\n",
       " 'a8a5cce0-cd8f-4ac1-9579-a70b809903dc',\n",
       " '9a4fa93c-4669-4a9b-90a6-59c13d6f4674',\n",
       " '67693862-b458-4454-87c7-8fed2efa7524',\n",
       " '2d1a4bcb-f091-44a2-8449-31dbef8ab95d',\n",
       " '27086508-64c4-4186-b23d-9e2f4f08daac',\n",
       " '4b2bcd2c-752b-4165-9c9d-c6d23052093b',\n",
       " 'cda33267-e9f4-4784-bb2a-aa6ec0be55dd',\n",
       " '05290d44-b5db-42e5-b4f4-9270ac6066b4',\n",
       " '19b26931-6f1b-4a88-8300-8d9b9d5275df',\n",
       " '95358c88-5e42-42a2-88e7-1230bb4d9e4a',\n",
       " '2e81fe3f-6ee6-4786-8f41-79c23fa87662',\n",
       " '023da639-5d72-4f41-869c-c035b99183ed',\n",
       " '88b296eb-7ad3-498e-94f0-f45c5220067d',\n",
       " 'b91ec4b8-1ab7-4948-9739-afd5b4ee10d3',\n",
       " 'c2aaf0e5-050f-4ac9-979d-037f6de224e5',\n",
       " '391e804d-2229-4b9b-a1c7-720900d37fbe',\n",
       " 'e210c7fb-6b5f-43bd-8150-06320daade8d',\n",
       " '9e83223f-3f9f-4ab9-9d26-fc8268186282',\n",
       " '3e27695b-416c-4238-afe6-836f4bf164aa',\n",
       " '6a8960a9-cffd-4e30-b78c-551a036e82ed',\n",
       " '7ca29a82-f582-433e-aac5-535caed5d28b',\n",
       " 'a1bfa00b-3483-49a2-9755-6ea28b39fdec',\n",
       " 'eb46798b-3f3f-41d5-8aa2-c3d6127e6642',\n",
       " '91fe6d17-dbff-4395-a767-ae30333ab254',\n",
       " '6996c176-e4f7-4e9b-823a-c9ecb34ba234',\n",
       " 'be06e9e8-f347-4232-aea0-f27bbde1d2b7',\n",
       " '61d14ac6-3c19-4d6a-bae2-87a1615ecdbc',\n",
       " 'b540e3fe-9d83-4713-9094-4e87ad72e5d9',\n",
       " '19397b43-77a5-4b58-8ff3-de19f561eef9',\n",
       " '1ecafd21-d8a3-49ac-b29c-d97ac10a95a7',\n",
       " 'cbbda9b5-b6e6-4e9a-969f-ca133928dd5b',\n",
       " '55bdbcb3-697f-4e7a-91e0-a78a69c29716',\n",
       " '6ce70b45-85b6-4790-890d-46b0a1d80e1d',\n",
       " '14af380f-e540-4882-8090-55d7fdb8e878',\n",
       " 'a42e44cc-5d47-47e5-95a9-af1f332b2334',\n",
       " 'eb14ac98-2c2a-4621-9a00-00791ac8f8bd',\n",
       " 'fbe6d2b4-e847-4a94-a938-89a0546b17d0',\n",
       " 'a3f078f6-9c75-43a5-a01d-c3179e960cad',\n",
       " '0f3cbad6-af94-41d1-aa30-62053e749b8c',\n",
       " '38a25a29-bcf3-44f2-a45f-d4543df50509',\n",
       " '9d5e50df-f736-4205-9c30-105aea4c7234',\n",
       " '8e35695e-f2d7-46e4-8c2c-3b17d9b195cb',\n",
       " 'ab7e8aee-16c7-410c-9136-7e0bf15fe123',\n",
       " 'bf4776a7-7064-4189-9a24-bc230631f7fb',\n",
       " '6d0d1e6a-c7bd-4ef1-b96f-f760f7fe9930',\n",
       " '627caf37-3f3d-473b-b0f7-e31ae483b23d',\n",
       " '9c495d34-d44f-4c84-b1e3-cb34ef16083d',\n",
       " '589c4c2f-7b43-4554-93e2-01c2ab325abb',\n",
       " 'cf912934-aa3b-435b-984c-3f743d959bec',\n",
       " '4df4808f-c7ac-42cd-baf2-839553fca749',\n",
       " '1b58588e-294a-4b30-b192-ddc26e5e2818',\n",
       " 'b92a4010-27b0-4815-8466-f1bfa1daa25e',\n",
       " '19bd836f-b503-428e-9f3f-6f8106cfb7ea',\n",
       " '0cc62563-4a6f-469d-9fde-9a3420703294',\n",
       " 'd839e48f-48ab-48f4-8cc9-d9588a6750fc',\n",
       " '50834276-794b-4682-bcb5-bd9b414a9f4e',\n",
       " 'd38d1846-0f2b-4589-ab58-49adca8d2d76',\n",
       " 'd23b78b0-2dfc-4081-92ea-91447a19ed83',\n",
       " '06061277-6b3c-43b1-aa25-3e6ed38c0aca',\n",
       " '09d7fa5e-53f2-43b6-841d-ec8901b2d02e',\n",
       " '12c7b6e4-1688-471c-991d-f8446b9dbb0e',\n",
       " 'ef5c257a-b6e7-44e5-b64a-69e6865f37cd',\n",
       " '9770c02b-ffdc-4183-9021-39808ebf42a9',\n",
       " 'b6b0db23-8606-42a9-8991-c38b9b2c2b0b',\n",
       " 'fcf9e02e-fc74-4719-8d5d-f479796f4240',\n",
       " '21704a7e-92e6-4435-83b2-4f8b5a217744',\n",
       " '20686583-129a-4cf8-8f70-3ad87133824a',\n",
       " 'f4168217-45a3-4939-9a07-2516982c7732',\n",
       " '75dd3c01-6f44-4ac4-9abb-00d7e6a361c9',\n",
       " '666d042e-a02e-4926-ae99-2a8dfb3fa03c',\n",
       " 'bc415dfd-42e1-4bad-a82b-992061ae9456',\n",
       " 'ecbc6f6c-1c90-432b-befb-643dd77d97e7',\n",
       " '77e338d1-febc-4089-86b6-1be8d7366cc0',\n",
       " '5b405fc9-d37d-453c-93ce-2cd3b008bf9a',\n",
       " '99ed4751-d9d0-4ea8-a4e1-611c423b1b31',\n",
       " 'a11e01a1-0f52-4e62-8fc6-8a45ddbb9cce',\n",
       " 'bd98bd93-071c-4617-a242-1f00b9c9cdea',\n",
       " '724b6c43-f0cc-4848-b115-1f13ce77b3e9',\n",
       " 'caad741a-7269-4f3c-bc5a-9765c437de1c',\n",
       " 'e5c7e119-c2a3-437d-a0be-95efbf4f0bfc',\n",
       " 'c9c76530-efb4-4877-928a-e5079d17bd29',\n",
       " '5328e389-162a-4fc8-a53d-49e032ae3115',\n",
       " '463b2022-bb57-4df5-b111-d5dba95ba986',\n",
       " '7b2f9fe9-f660-4a93-945d-7a974e0af686',\n",
       " 'ff598fee-2ea2-4bbe-a6fe-10535f7b0133',\n",
       " 'aaa5f6d0-4a44-446e-9c7f-b9d3fe8f514a',\n",
       " '3b915260-2054-412c-9bf3-8db729695f72',\n",
       " '3063dbaa-b94f-472b-bcb1-55105577a090',\n",
       " '8f920c6f-3c45-4281-a12a-093b77c91b33',\n",
       " 'e0828482-048e-45d8-b988-8dac098ac0f2',\n",
       " '91ab9aca-4f3e-4111-9eae-bb8a732312f4',\n",
       " '10c74e33-94e1-4a55-ace5-7763fce95491',\n",
       " '73695b17-b387-4d59-abbe-e7a092b78715',\n",
       " 'fa910d01-9a4c-4577-92a1-a6cae2a2184e',\n",
       " '77bf3814-db9b-459b-8f74-a1202fcacfa3',\n",
       " '9dcddf6c-2775-424f-b98d-9e56c18db469',\n",
       " '05381297-a85f-4cfc-a442-feb7d515e5b6',\n",
       " '3c0c8910-579d-4591-b03d-ecf5f682b815',\n",
       " '41b7b5f1-3dcd-44c7-a2d9-68d8659ce56a',\n",
       " '0686a9bf-5e2e-400c-a4b3-57e52feb17f4',\n",
       " '20e4ac4b-dab4-4bf2-8817-ab002dd35730',\n",
       " '0803480d-6ea0-4a36-9728-d9e2309ccf95',\n",
       " 'd0bed691-0f81-4e92-95fa-d3f3e60024b9',\n",
       " 'edb6a663-2322-486f-a971-91f48bde4c23',\n",
       " '1b398c03-63ee-4ce3-995c-fb2ea306994d',\n",
       " '523e7da5-71e3-4230-b645-cdd7286bcf2f',\n",
       " '301a3afe-543c-4169-ae92-51763fce8e9a',\n",
       " '2fa91c67-e5a1-4b37-b11b-e0a0f65a1d33',\n",
       " '2884489f-8617-4619-b13d-4e9d5e35e199',\n",
       " 'b37949c6-3ec6-4fbc-9512-eac4eaf5a60c',\n",
       " '8024acbb-5256-4cc4-9c30-ae09fde65f1a',\n",
       " '97105acc-b2df-42b8-8c5f-0b04f350234f',\n",
       " 'b201f73e-6e1c-4fac-92af-7ad11d6786db',\n",
       " '5bb67517-c9ee-4e52-9ae1-6198c0c40dd8',\n",
       " '33788aae-e7aa-46ee-a960-f75e3220f750',\n",
       " 'e59a79be-0df2-4556-b08d-5a01bf94d77f',\n",
       " 'e04976fc-ebfa-42ad-a7b1-64acea84417b',\n",
       " '13f337f1-8213-475b-9b29-54cdcfe4be62',\n",
       " '2d7eaf8e-2357-4c32-a9f6-83679e6ce2e5',\n",
       " '2ada6173-5bc5-4030-8465-1166bba28598',\n",
       " '9377723d-689f-4a9f-bd08-96c7638fe184',\n",
       " 'f6f0d23b-5b80-49fa-b113-530bb086888b',\n",
       " '6b729ab4-213a-404d-a0de-32b8263dfe6d',\n",
       " '9da07197-ffdb-4004-9289-dab64f70cf04',\n",
       " '6af2f3ad-3b09-48a4-a2b2-78fa4388dd13',\n",
       " 'ae668388-2565-42fd-bd96-2f1aa7ab86b7',\n",
       " '26842ca2-24d8-40d4-aefe-eb009e6710ca',\n",
       " 'e371d43f-d5e6-43a0-a817-27345894ec5b',\n",
       " 'b2ac2bbb-8ca9-4953-b7b4-2331aa8a2a2b',\n",
       " 'ded23097-dd16-4e98-918b-0d810b8e82f6',\n",
       " 'fd19bc2a-1f06-4719-853e-ec4dcd4faa68',\n",
       " 'b97660bd-00dc-4384-9575-77e6ed6622d2',\n",
       " 'c9c4f8c1-2e8b-4dba-aa69-538b46c7ff9e',\n",
       " '82e3af96-d5b3-4969-a6ab-6b4728bbe280',\n",
       " '1b119d52-fff0-4e42-b1b4-ec233543d106',\n",
       " 'da3662bb-5e5a-4584-b93e-b43d10886be5',\n",
       " '78ed6aca-a7de-4018-bf54-aaf43cdc987f',\n",
       " 'b906d20a-7763-4b49-855a-88c02ffb57bb',\n",
       " '9d32a146-93a2-489f-a0b0-0caa6daa5260',\n",
       " '88942d77-5610-4042-9efd-663a75532a4e',\n",
       " 'd65ec5c1-ea16-49cf-a4b9-60a3ef9a7c9d',\n",
       " 'd37063e4-18d8-43ef-a737-3d2d135206b4',\n",
       " '8adefbc7-2a66-4d8b-976d-98c11479ffe5',\n",
       " '4c9cc6c6-5292-42dc-9311-68608a525c5a',\n",
       " 'aa54aba2-d792-449d-ab7e-01c8174fde01',\n",
       " '2456153d-61ef-411b-a4f5-f76a42ae7431',\n",
       " '4972918b-26dd-4905-8c93-89fc6c8c119b',\n",
       " '870f81c0-9505-44f7-b95e-87f391aef403',\n",
       " '9be250bb-0638-46e1-9e43-7abab1a71c13',\n",
       " '2e0ad590-4a9a-4181-bf36-dae1cd5a0236',\n",
       " '380f9792-cd52-448c-b349-acf6dcbf72e1',\n",
       " '18e99368-8248-4439-acd4-14315a1f23f3',\n",
       " '4f1d3171-d41c-42d8-b16d-0c768efd20be',\n",
       " 'ed52f0b7-a992-4a1f-a881-9fe286f6db52',\n",
       " '09ecf45d-235f-4676-84f9-1e694d2b0165',\n",
       " '14a630a2-98a2-4fcf-b98d-597d81441fed',\n",
       " '2abe397c-efd8-430a-a5ce-63b9e10ab3f3',\n",
       " '418c006e-d463-4d9e-a0ab-0c3eceec3d8c',\n",
       " 'de9639d3-9eda-4cc2-a270-7325161fbc4a',\n",
       " 'd8bedc78-e130-489b-9f0f-9e2923b73c62',\n",
       " 'd4bf8697-4cea-4b6d-91a1-804759f5ad17',\n",
       " 'cd8863fa-fc6c-4958-a130-0e750bd2b07c',\n",
       " '3c0d223e-fb7e-48e2-be4b-683c8d7fffa5',\n",
       " 'ad92e277-8549-4ca7-ac82-5552d0f772bc',\n",
       " '612c0e1f-4531-4d24-a9c1-e5c2a545682a',\n",
       " 'ec22f6b5-e52e-498b-a610-7abe4c3f0437',\n",
       " '21bbb3cd-0c5c-4061-94b1-0418fcec9d89',\n",
       " '98242a48-c666-4ccf-a57b-773f770e5b17',\n",
       " 'a13eb9e1-c36f-4cdc-b53e-042837ad1393',\n",
       " '32a020d5-bbeb-4d85-8793-fe617687df5f',\n",
       " '1b4316bd-5a81-492c-a873-769146f66f66',\n",
       " '606cd6a6-38f7-4ea0-9b11-1f3da73f9b60',\n",
       " '6347267e-c972-4aa1-8f5e-4c846f7e4e42',\n",
       " '29cf8558-2d82-4017-925d-ef6d4db0c7d7',\n",
       " '85458f73-47ce-4c0e-a0f8-3cb17abea900',\n",
       " 'c895ac06-9b6a-4aeb-b6bc-3165dc5e7d21',\n",
       " 'd64c87f0-61dd-4625-af14-d8f4f94d3a43',\n",
       " '9b4f1924-4c6e-4239-a31a-b66a5667b17f',\n",
       " 'ed466bc4-e1b5-424b-8760-25e3a51e35bd',\n",
       " '6f60b3e4-1071-4eb7-9a47-f4fc2fe157f5',\n",
       " '08b77a8c-8f12-4beb-809d-c7707d9a4256',\n",
       " 'd9cb7167-d283-4187-a025-ffa33569e667',\n",
       " 'e3458bf2-a9a7-4bf4-a813-0e0706b5f541',\n",
       " '9cabba2d-19fb-4a69-a866-7da1dd31d5c9',\n",
       " '003838dd-32af-47cb-88dd-4254c30e4cad',\n",
       " '4d734fac-3820-438b-bdf5-154bbb4a7e87',\n",
       " '45a0124c-d1c9-4d9f-a18c-735671704e1d',\n",
       " '966ebd7c-8e50-4ea2-94cf-150f9dded0fd',\n",
       " '1ec61ac4-af0e-4767-8fac-abfdc3cd9cde',\n",
       " '7662a2d5-0f17-46ba-9ecd-a51af53ebf9a',\n",
       " '7fb074b4-fb64-4f35-a0d2-ca78a4bff4da',\n",
       " 'f58351c2-6b87-41b6-a719-0be2152df8fd',\n",
       " '8fe38773-cf77-471e-ab8d-b06123eab488',\n",
       " 'edf18a64-d177-4d53-8d9f-8ff547d3eccd',\n",
       " 'af1143a2-843b-4777-9485-21947804db54',\n",
       " 'ab66f068-c6e3-431b-8d1b-b2f0cdfe1ddd',\n",
       " '760a5b23-a1c3-442f-9374-73ed4ded14d2',\n",
       " '16856aac-54c6-4f4c-ae30-a0141d8c56a0',\n",
       " 'dfe01953-e32e-472f-873b-590a318ad449',\n",
       " 'f17bdf05-f336-4dcd-aecf-b01a7342520f',\n",
       " '7f4b1765-2ff7-4a58-86ff-3c26d2b133bc',\n",
       " '021f439e-06f7-479f-8f5f-cebcc6a16fa3',\n",
       " '400685d3-d351-402d-a6d1-da5f629b212c',\n",
       " '4193b1eb-0995-4b1e-8aec-1d038ceac401',\n",
       " '2371a6de-cee5-43bd-83eb-70b049379a78',\n",
       " '2402f792-1cc9-475e-ac4d-3f90b0628caa',\n",
       " '340066c7-481b-4bce-a038-8d493d914f16',\n",
       " '0ee3e9a0-52e4-47f0-9346-bf9acad8ee03',\n",
       " '8f89a805-7eda-4b57-acfd-9dbbfaab926e',\n",
       " '1c592fb1-58ac-4527-abec-ed1a8bf9ad7d',\n",
       " '8799da2f-3af8-4c27-a005-233c41612c37',\n",
       " 'd7ee8667-c272-4462-a474-006d8371bb62',\n",
       " '73e2375b-f447-4b47-a97c-1169c44959bc',\n",
       " '57b3e156-3493-4256-ac34-1e1080545fd8',\n",
       " '49f1a5ac-9227-400e-8179-52324fb6bee5',\n",
       " '23c792ba-09e5-43bd-b73f-4fdc99825e8f',\n",
       " '2dcf5f5c-2fc6-45be-86ab-ed62d1c71875',\n",
       " 'c54388d5-9dbb-401f-aefa-6afb2f7ef79b',\n",
       " '2877758d-31d4-44d9-8fb2-37b2c2de8d18',\n",
       " '2c122596-8e8f-4241-a741-13f7c3522d91',\n",
       " '93e4b6da-832b-4f61-8305-b4b7298e25fa',\n",
       " '3083fcc3-d1df-4213-ad70-b3c22d3051d1',\n",
       " 'dfd593a8-0ff8-40e1-bfdf-a3f9e282e0c3',\n",
       " 'f6d75eda-5bae-41b0-803c-626b94666743',\n",
       " 'fd5aacba-f0c9-437d-a4ee-da71e9efa48f',\n",
       " 'c8792577-d36b-4c53-9752-69fa30a4e10e',\n",
       " '801132aa-4769-4957-850e-ec8f8019af5c',\n",
       " '5c6ff1d0-0e37-429d-aef4-f6619947eb37',\n",
       " 'baeef1fc-5122-4a3a-98f7-9d267701c38f',\n",
       " 'e751ba85-6fc8-4599-ab1e-84553707b093',\n",
       " '1a5cd222-75af-4321-8266-049aa943b55f',\n",
       " '5446553a-9196-40f9-98ff-50fe86388f96',\n",
       " '87b40240-a0b3-4b96-ab96-ebe0d63d7a5d',\n",
       " 'f0dc50d5-ea07-4ea6-bbb0-f2ded1b70dbb',\n",
       " 'ca7d79eb-2211-4cd0-a362-6623c3cbcde4',\n",
       " 'c0fd7b70-064d-4c2d-96a6-102fc8885744',\n",
       " '4ee72a96-7760-405e-b4d8-22eb7aa05982',\n",
       " 'c0d312d7-e94c-4de4-9b67-c3d0767a25d3',\n",
       " '5b78d1f4-bcfe-47ca-85b4-4d39373340bd',\n",
       " 'ad649bdb-c086-4a1b-a88b-0803dfd67ad0',\n",
       " '9f15eab7-5b17-46f1-9029-4e2b4c32d7bf',\n",
       " 'd125f2ab-91c1-4622-ac89-673cb643f1eb',\n",
       " '82ab7893-275f-4a3b-b5cc-1893766406fd',\n",
       " '8781642e-1401-495d-976d-e3f56311ef29',\n",
       " '6920f265-95b4-44c6-bbf2-e020850f3905',\n",
       " '08f63f89-195e-400a-8190-27c14df90ab7',\n",
       " '50a7d034-1c4f-4c3a-9e57-477b9a9616b5',\n",
       " 'f912da66-102b-4225-93ee-dedfdf0bafd7',\n",
       " 'bf1d8d3f-7825-4648-b81f-69acf7eb72c7',\n",
       " '1637fadb-3522-471c-80a4-bc064c10cd25',\n",
       " 'aaf6342c-ec4e-4d92-8b09-5ed855ac0e3b',\n",
       " '2c39c994-1dcd-4124-ae8a-4c953983ff03',\n",
       " '39186213-80f6-4847-bf36-87ca352dddb8',\n",
       " '68b7ae36-333f-4b8c-a15c-25676b692c27',\n",
       " 'b70cb04e-b1cd-4bcc-934b-10609eccdaae',\n",
       " 'a65e77df-2ac8-4ffc-a4e2-7cdc88df508a',\n",
       " 'ec136c26-7f79-457e-8855-2c74cdee47a2',\n",
       " '5e50c4b2-872f-4443-b638-bc544aa3be1f',\n",
       " '73307f7b-94e0-4b18-99e6-507cf9b07082',\n",
       " 'c0a3080c-611e-4ff5-894b-242949f58768',\n",
       " '1883a7e1-46bb-4b19-859c-6b9790f271bc',\n",
       " '95a2db13-4b9d-43ac-afd8-291be8029a0a',\n",
       " '37080400-ac41-45e4-8e7b-a394fa98dce6',\n",
       " 'ae7fad39-5e07-4c8a-a89b-7095dd68dc6c',\n",
       " '75f65213-80b1-44ca-bdad-8663c89956ea',\n",
       " 'f46d9a22-016d-4957-a34e-4fedebc3e9f5',\n",
       " 'cdaa2dfe-5d0d-4c5e-b921-c13413eb0f03',\n",
       " 'd63f3633-2930-4b42-8121-33e1482cee8d',\n",
       " '4f2fc311-d1b0-47be-a473-4b67fc916af9',\n",
       " '2c9ae116-5be0-4870-bb33-23c6c55fb26e',\n",
       " '25b17317-e8dc-4ba6-9f9e-76d2a019616a',\n",
       " 'e273acf1-6f2c-4fa1-af8c-593505cd9da6',\n",
       " 'df191352-dbb1-4f92-9270-89690061d64d',\n",
       " 'e903dc25-8a0e-426d-9f9c-13d18109854c',\n",
       " '4c7b7b2f-c300-4c68-b98a-9a5c21aca3f7',\n",
       " '5f130cb3-6866-4dd9-8f3a-092297284c86',\n",
       " 'c65d5595-f72e-4a3c-b403-08f28226e95f',\n",
       " '19e90fbe-f579-4cf4-8636-3cfbd1a55089',\n",
       " 'ac4c57ab-9caf-468a-b1f8-3425e2c010d3',\n",
       " '59b866fc-7e6d-401d-8df5-273c17bd8ce7',\n",
       " 'f78b9665-6609-4bee-b0c2-6b9dc6a78344',\n",
       " '2488bcb1-de5b-42ed-bf2b-211025284c51',\n",
       " '761e9261-a575-4467-a657-263339192ca2',\n",
       " 'ba49a0a6-080c-465a-b8f6-1054ed255574',\n",
       " 'a485781c-ebcf-4b25-ad7c-dee9a08a7fa8',\n",
       " 'c4ee32c6-d17b-4990-9ea1-0ba1044758ce',\n",
       " 'be71e312-67bb-4595-97f9-f87e1a9f63db',\n",
       " '2679fe90-b66d-4adc-86ba-0d2207dffd56',\n",
       " '4eaa9390-dd51-471a-b3f9-1f2b79318fbc',\n",
       " 'ac372f59-5119-4849-9c01-2254cf8e7f34',\n",
       " '76a39178-e8ae-4441-ba6f-4cafa20a6881',\n",
       " '1e146b6d-3059-4a86-81ce-cc52dea5e048',\n",
       " '97e658f3-7f75-429d-bf50-ab72b0f6e7d3',\n",
       " '41e1f2fe-31d8-4530-b9ab-cb59d73e4f23',\n",
       " '0bc08967-742c-4652-843a-5aa40dc4a7e0',\n",
       " 'd0b4749e-83b8-4e45-b6f4-9607d89c2c8d',\n",
       " 'af9305f9-ddbe-45a2-9dcf-4ea03460609d',\n",
       " '9a2ed03a-56d3-4d3b-a858-1a703f62c1fb',\n",
       " 'b21bad46-d645-4b16-a1ea-c96a63e06fdb',\n",
       " '92714350-61f1-4951-b1ba-b1252a46f3ad',\n",
       " '8c515b25-5f12-4398-9052-dfe66eb7e9bb',\n",
       " 'ab03f634-412b-428f-97e5-dc8be0867458',\n",
       " '1a644357-21a3-4229-92b6-195c645d2d7a',\n",
       " '5c123392-e73a-45f5-95ae-d2b25d1751cb',\n",
       " 'b1d80118-c668-40b3-bc98-9d5a4ff26678',\n",
       " '271ea3ed-f8fd-471b-bbca-b84c2104bb34',\n",
       " '7903ae2b-233f-4d36-adc5-4d5638ff1b59',\n",
       " '77bf9afa-e929-4a92-88f9-2c90060ce969',\n",
       " '599ce657-7c25-4d24-b4e9-bbe19fd45f5e',\n",
       " 'cd3de4b3-446d-4072-b598-cc84a28af35c',\n",
       " '6a49437b-2b1b-4d31-b771-f4f5bbe8919c',\n",
       " '7420e0f7-6148-412c-aa9f-2eff5a42803a',\n",
       " '407f07fa-47b0-4b12-bdfc-6a3a05a80f6d',\n",
       " '81175af2-a334-4125-aabb-c2ec40f16983',\n",
       " '21805c86-0abc-44d2-ae91-5957ca625b4c',\n",
       " '0d009e2d-9225-4dfb-86b3-ba59602a902a',\n",
       " 'a29255e4-4974-45b1-b010-9d3766ab750e',\n",
       " 'b39ed05d-cb19-483b-aa33-17482f841c0c',\n",
       " '6512add1-3d0c-4e3c-8245-f642cd37600f',\n",
       " '55cbb273-d871-41c0-b8d3-5f9a4f8e7422',\n",
       " 'f80255ce-a75b-44af-8f8f-b92dab3c4de0',\n",
       " '2c89aa89-41a8-47af-bf1f-f6c14c600b8a',\n",
       " 'ddf821a9-59be-46d5-a4df-38617855c134',\n",
       " 'bdc844fd-8f29-42d4-9401-9bb7fd60db17',\n",
       " '49bac40f-fe5a-4ea3-8fa0-d4e08ea9ae89',\n",
       " '92f864e2-fb7a-464e-b1ec-e2cb29454722',\n",
       " '96015b5d-324e-449f-826e-84014e5ddd53',\n",
       " '142aa954-86b6-44df-8a60-60153c24d802',\n",
       " '8f33fc9e-a025-4604-a892-5ea83468b52f',\n",
       " '0dfa18bb-455c-4124-b5ec-81137001c4ce',\n",
       " '778dcd27-c408-4b9f-bf62-64f34caa5ef7',\n",
       " 'be7d22cc-9b57-4510-989f-c675e414e2d7',\n",
       " '928066c9-d5cd-4b90-9fe8-fc2382c1ca73',\n",
       " '4d0808c8-431b-4f6f-91b7-2a20f86403b9',\n",
       " 'be6749bf-4e50-4003-93df-65edc9bdeacd',\n",
       " '70cfd591-0f08-4644-bd87-fdbe5bd17618',\n",
       " '287247e7-9984-4b97-b5b7-1efca42699b5',\n",
       " '5e837ae8-8730-49d8-9d36-dc10b0997b6a',\n",
       " '1776bc44-d135-4e20-acc8-31097b2a46e5',\n",
       " 'ef1e066e-6fb9-41d5-b554-a1624b35adec',\n",
       " '300a4c40-327b-4051-8459-f4705beabd8f',\n",
       " '883b839d-f126-41ab-9119-f73bc6382a75',\n",
       " 'e33f3fd7-8687-470e-89fb-e487f1da7fc2',\n",
       " '640ea45c-8372-4202-8f49-44680215e4ca',\n",
       " '5601f454-88e0-418f-8bd4-522b0589e35d',\n",
       " '19f363b6-6849-4d5b-8d77-477ca710b1b6',\n",
       " '821ce11a-276d-41d5-89c0-f43c6782899b',\n",
       " 'f57bf18b-c502-4669-a755-d3010a965a23',\n",
       " '2c918756-4fe2-4bf8-9b5f-80723ed169c7',\n",
       " '86ec873b-f866-4da6-8b9f-a370b1d689ed',\n",
       " 'c42410d6-6e57-468a-862f-a9796a34984d',\n",
       " 'beff6a76-bfb0-4e1c-97b8-c4d81219b986',\n",
       " 'dbdf4566-cc43-4f5d-9c67-4d20a14459a3',\n",
       " 'a524de8f-6949-4367-b696-44481cce257b',\n",
       " 'b8d71502-71e9-4fa9-9a4c-ccbd2beff99c',\n",
       " '08f65b55-db3c-48b8-85a9-2ccc09f42025',\n",
       " 'b277275c-c840-43c8-9458-2b8cac2bef16',\n",
       " '4c5f043e-d9f9-43d3-8727-ba577210f112',\n",
       " 'eb7b8161-a5f3-4a5b-8b1d-344ef3dc8de9',\n",
       " '6dd43e75-78a1-46ec-8582-088128d2edb4',\n",
       " '5fd0420c-715a-40ff-a668-77715b030087',\n",
       " 'c5af7f3a-7564-4d4b-a1b8-dac544078b0e',\n",
       " '317a28f0-96dd-447c-9c47-e57ecb14c2b6',\n",
       " 'a6ccf292-cca5-4a4d-9ba5-bd60cd9e929b',\n",
       " '50209983-27e3-42fc-8328-920178383143',\n",
       " '14328573-0b5a-4f23-9ca0-1c33407e5f40',\n",
       " 'b4db675e-b7f3-4d69-97ad-d027d8eb1576',\n",
       " 'c92c9090-f7c8-4ae1-b511-5ecfccad83ea',\n",
       " '9f888cee-0049-4f9e-bb52-4e5cdaa0f41a',\n",
       " '6c0859ba-9307-4dbb-b641-d5d77b175cc5',\n",
       " 'a607ae31-c779-4fa7-945b-4d9bbe50d693',\n",
       " '48a37af8-1260-4974-a86c-5d5f5008abc2',\n",
       " 'a4566798-ed32-4e5a-bcf4-b316ba741148',\n",
       " 'a438d0c7-b61a-4f99-818e-a8ddb1ce9189',\n",
       " '2c5190cf-128e-4bc2-bcb9-c94d6e0f934d',\n",
       " 'f88efe0a-a2e7-4d34-b68c-4817b73b02dc',\n",
       " '4f6f2edd-a32d-4b96-bbe4-0d21e76a8d34',\n",
       " 'cd485c0a-a304-4f9e-949f-d8f7018c760c',\n",
       " '65ed069e-e963-4709-879c-79a2edb2cb1f',\n",
       " '3bab19f1-82eb-4a5b-9585-b5d803c58641',\n",
       " 'ea82452d-55a0-45c9-842a-823d4c2b1f43',\n",
       " '6400cf44-0e04-4be9-825f-c6a305ea13e6',\n",
       " 'cff285fc-65c4-479e-a6d1-fb73d273ceed',\n",
       " 'f3e6944c-a43c-4e54-9a3f-35bed689c573',\n",
       " '698f3eec-4f66-451f-bd3c-e21c1c451b7a',\n",
       " '40c44204-48dc-4f01-b279-c189f38e9b87',\n",
       " '92a1e6a6-1688-414f-9434-ecec159334b5',\n",
       " 'e1ae5280-3d11-43fc-a22b-3d2ad93af1be',\n",
       " '0974ee07-fd9c-4834-9fd5-a0f2ecf65926',\n",
       " 'fca139ef-4e48-4255-8bd7-23c6b55c6a38',\n",
       " 'b56623dd-f83a-433f-9b92-c746e79a5712',\n",
       " '48ed4d6b-7469-4c5e-8ade-579c4c66fc08',\n",
       " '952d021c-3631-422b-bbc5-76386d032e75',\n",
       " 'a61a85e0-f7ae-4a45-a0b6-a510c1c14dba',\n",
       " 'a46997ef-776a-402b-a0bf-f54e9da50b90',\n",
       " 'fb589865-0199-4941-a0f8-5172b0fe71ff',\n",
       " 'ced5d8bf-aa41-48ef-9740-e46fb2c24e89',\n",
       " 'b836353a-0655-498d-957c-76f1488e7c63',\n",
       " '4f963ec9-be78-4a26-b42d-993db18e2f52',\n",
       " '28ea639e-4f5e-40ab-87d2-1c603018546a',\n",
       " '891beeb5-943c-4769-9fae-39d9e716357c',\n",
       " '449c5947-8c69-4f5f-a5c1-b5684a701196',\n",
       " 'b1f6bac9-889b-472c-bd29-b3508e7bc076',\n",
       " '097c9054-8c2c-4be1-8371-e6b1068dfe87',\n",
       " '3f04394d-0d22-48a3-89fe-30f93f62108b',\n",
       " 'd90c21a8-9b46-41f5-a625-e0234f974b30',\n",
       " 'f7e6210a-e0ec-4448-b1e7-463750b69b70',\n",
       " '2d83646d-95cb-424f-94a5-d5377cff08e7',\n",
       " 'cf758031-eae6-46d0-834c-95b4c2a99b58',\n",
       " '727fc213-9f5b-4338-9575-62079e74d2ae',\n",
       " 'a6316cf1-fdf7-4f37-903d-76164cd19799',\n",
       " 'c31f8a99-b5cc-4a44-8aac-c1618059a630',\n",
       " 'e6f2d6b4-85a9-4150-af09-ee870689e8a3',\n",
       " '898302ca-9c16-4a0f-bba9-c84ef7b2f2c7',\n",
       " '47847446-2fe2-49ec-af0a-697bcf7ca12f',\n",
       " '4241f305-57a5-4814-bcbf-737199fd52b4',\n",
       " '78cb7a33-b8c9-4c66-b616-3e787029f182',\n",
       " '07478ca5-2070-41ad-99b4-60ed622647be',\n",
       " 'c162cdfd-659c-4377-8a34-b2c57b1257d5',\n",
       " 'cd94b750-fc29-45fd-a479-0abbfa7c8f0b',\n",
       " '4cc1d687-aec3-46c9-8edf-90fd348d793a',\n",
       " 'fe1d8768-7284-4eb8-b460-5c10a67614ac',\n",
       " '5713b0a6-58b5-4466-9213-0b170959529d',\n",
       " 'c7f18660-7aad-4883-a4f0-314b21f670d3',\n",
       " 'aa47d297-0dbb-4b6c-814a-00b87600e7bf',\n",
       " '9d88e684-b807-4812-a3bc-3141ffbd7da4',\n",
       " 'd646614a-7114-411e-8b7f-82d031589e39',\n",
       " '3c31320b-7f9e-4124-9f2a-d1d974c5441f',\n",
       " 'cf5fa7ef-0fa8-4de2-9760-de4a209dd97b',\n",
       " '33bc6d67-eda5-4101-9f9b-4e2985abeab3',\n",
       " '08fa9daf-7390-4963-aac4-856a59e45366',\n",
       " '10019f77-a87c-4c39-be8c-ce112fe0c68d',\n",
       " '54c60eda-7917-4bd8-b7a9-ecdbe3b1b9ea',\n",
       " '10f89939-c2bc-42b1-a2a3-60945bc55e55',\n",
       " '18a7c2bf-4344-4450-a8fb-bb0c00577280',\n",
       " '1d7e71ef-68b8-4476-9064-1c53bf786330',\n",
       " 'db61c465-55a2-4a57-9034-17bd5e9934cb',\n",
       " '49dc75d5-a7f1-4874-994f-f930d0f836a7',\n",
       " '929cda58-9cc2-456a-9f09-68ce6f3820d9',\n",
       " 'c4b8af53-6610-4964-81ab-a95766414904',\n",
       " 'f996925e-92a1-4bdb-b684-961aff164bc4',\n",
       " '1e6f05cc-5d29-445b-b2c3-e4ab1b9368c4',\n",
       " '0278d38a-a5ea-44e6-afa9-9b4d37c992da',\n",
       " '28eeb1fa-b0ad-4cba-a526-42b2674302b2',\n",
       " '8f8ef140-038f-4f9d-ad1c-c3e7058fd010',\n",
       " 'a06e0106-eed6-4de9-aeca-2959f62006b4',\n",
       " '6f41c697-ae64-4357-b0d3-cbfbbce5b180',\n",
       " '12e36788-e2de-4525-bdcb-9a01fc867905',\n",
       " 'd4fd76f4-d6b9-463a-b8fa-0a4b369a942f',\n",
       " '20f5e8c8-7cbe-47fe-98de-0554fcae0767',\n",
       " 'c8898173-0df8-4bf7-8b9c-17d066ca6a26',\n",
       " '1d83be61-c229-4389-8511-a99d1b2a741a',\n",
       " '5c6f80c9-3887-4f8f-b968-8ce9c9bf2114',\n",
       " '118b559a-b36d-4706-ae99-a8f7c1951725',\n",
       " '7d8c1b4c-dfac-41bc-9e78-67fdacb4c6e3',\n",
       " '54c3cf2b-d8f1-4fdf-b8ce-612d76143902',\n",
       " '0edfb76b-73eb-479c-bfe4-c5c4a3fbaabe',\n",
       " '4e22085f-8165-4f2b-9dee-7221966562d8',\n",
       " '410f4061-db40-4ea3-b9f4-7ea4b52cf5f1',\n",
       " 'f432883d-7642-47dc-9112-213dc9d79eae',\n",
       " '42b0ac3e-2b5d-434c-86fa-c2b25e834a2e',\n",
       " '302e337d-6979-456f-a412-5ddce4c6efc9',\n",
       " '01577e6c-009d-4ff3-b874-2bd96e7acd0d',\n",
       " '579f78e4-29ee-4ec3-b341-2853482a87ca',\n",
       " '59e9dcd9-f37f-4b8f-890c-ad612817b8e1',\n",
       " '7c2f5307-8d6c-48a0-a51d-1402300d31c3',\n",
       " '6d8d53bd-0a29-487d-a893-d5a4de1f40f8',\n",
       " '83ac99fa-81e3-4304-82a3-4fbea02bcb57',\n",
       " 'd881a00d-9438-4d04-bea1-2ec38b032b1f',\n",
       " 'a883ac6e-09df-48fc-a7c2-52bbe9575eee',\n",
       " '36fd1180-8f4d-4705-a3aa-559ec0b34477',\n",
       " '0a54835d-f845-40b1-ac4a-94cce5b77978',\n",
       " '5b014c45-7bad-42f7-b8af-7d817bb52eb9',\n",
       " '4b8a2a47-ad76-48cb-abf3-10aa27667bb8',\n",
       " 'b69e995e-85d8-4c6d-ae8a-b00afd7714b0',\n",
       " '36c1378d-dbbc-4674-99c0-f87c068ebf0b',\n",
       " '6cd9adbb-fefe-425f-8e11-0d811670d2be',\n",
       " 'd6ec64e1-6807-4bad-a6ec-47b2c79c27b2',\n",
       " '12b710b8-5e94-4d14-9058-dd2717c507cc',\n",
       " 'e5de1eac-776e-415a-887d-039b8be98536',\n",
       " '381d45e9-8d7d-4725-84ab-cea980823637',\n",
       " '29198e98-319a-44d3-82f8-b4d8df8977b0',\n",
       " 'd6cf31b6-f743-448c-901b-ea94ab480eb6',\n",
       " 'da34c931-c1db-439b-a7c1-5ef72a64a5e0',\n",
       " '484b35bf-89ff-4d96-bfdf-fa491c201ee6',\n",
       " 'b0770ce4-f563-481b-8e9f-635c3d19dde3',\n",
       " 'f7d4e195-6740-4604-9c58-0ecfc59028fa',\n",
       " '22f3cd26-ae0b-47bd-8d68-643c93472bc2',\n",
       " '5491a91e-f517-4719-9b88-226a037d5fb2',\n",
       " '5d09dc06-6bdb-40d1-8144-75667cf55797',\n",
       " '8276fb72-70b3-4f53-b1f1-43e868c07da5',\n",
       " '4d8a817b-fa42-4127-b120-d35d9c35333e',\n",
       " '9465ec2c-8e49-4c37-ad20-b1e7575b32d8',\n",
       " 'e2f0bd7e-b5d3-49c7-9fdb-8d1ebc5ba3a3',\n",
       " '8da99612-e7ec-48d5-ac6b-f60a61203b20',\n",
       " '96360676-5085-4bef-9e98-bb820ff74f65',\n",
       " '9d9e3e59-5f45-4e00-9fcf-2dec2145974e',\n",
       " '54ce1041-9775-4bea-82a2-cbcfaba5d4c5',\n",
       " 'b7afcea8-69af-46b7-a490-41ed53da6d6f',\n",
       " '3589c560-3866-421b-8c41-ab96a71e81e6',\n",
       " '64fce395-adaa-49ea-8e7e-9327ea0f4264',\n",
       " 'f6e46a4a-feaa-493e-ba58-5692fb2decbe',\n",
       " '1f40f957-f916-4f7d-b156-fe57ca20baac',\n",
       " 'a74eae9d-23de-4781-a1eb-2df36ab711e6',\n",
       " '0574e192-9101-43f6-a467-9b68fd45ea18',\n",
       " 'be1106fa-1200-433b-aea1-6a8876003bed',\n",
       " '326f19d3-ff99-4a8a-b426-078d71997762',\n",
       " '2bd6d99a-262c-4454-84f0-e6bbad8772e2',\n",
       " 'e4846589-6a6c-4da0-aa2b-1f3e7ae35fec',\n",
       " '4b380e12-2091-41d8-8230-67aa34358fec',\n",
       " 'bc19d203-b931-40ca-a1ce-b4cfa3ccb733',\n",
       " '2b6683c8-f973-4544-94f5-c19c69c3910a',\n",
       " 'b6f9bde9-ae64-4bcd-b640-e1486d4dbfb1',\n",
       " '1930c846-b3c6-4085-8457-4577b9c75e7d',\n",
       " 'df47101d-81c7-4f3b-afdd-96e3dfc5670a',\n",
       " 'b3bb5465-4729-4472-bacf-aef7b460903b',\n",
       " 'ffdb4517-39a6-43a1-9c37-3a975793b2fb',\n",
       " 'debb803c-5c80-476b-9078-2e0a03a9bc08',\n",
       " 'eba49859-6739-4688-a360-a50bc6b5a696',\n",
       " 'f8f60b82-6e2a-467f-9498-80cb81613a39',\n",
       " '3b080f1e-dc9f-48d9-a75c-06742f7f08fa',\n",
       " 'ff24b925-c22d-4a52-be9a-eee746422ce8',\n",
       " '3896ce5d-666d-4ae0-8e1e-e3ea22613824',\n",
       " '4fa7b360-0e9c-4422-b8fe-6b040261085c',\n",
       " '73575cb4-3e67-4cc4-a868-13a321b34940',\n",
       " 'd0bd7b1d-6d91-4516-bb57-c948ba640bb4',\n",
       " '25403e2a-5ba7-48d2-8131-991097dc69b1',\n",
       " '7268bac8-9b02-4747-bb2d-d097f4488d5d',\n",
       " '30527f2a-c21b-487a-885e-65fb7bc48333',\n",
       " '02b00a24-73b3-4bf4-a125-cdebc761965b',\n",
       " 'f4156ddc-3829-4cab-ac6a-0f39d8b7f08c',\n",
       " '738a3ed6-ba96-418a-baba-b30593493be0',\n",
       " 'e86bc46e-3dde-4af8-bbf7-3a8240c71eab',\n",
       " 'cedc3d50-2b46-4942-b1c5-1f8171970f95',\n",
       " 'd3fd369f-7d0c-4c07-bf5c-df1448773d73',\n",
       " '34a82303-a659-4224-bcbc-c3da6a814a40',\n",
       " '3c58f013-552e-44d5-83cf-6e144e7dc4ab',\n",
       " '7d5973da-702a-48e2-8f43-73adc6d8dbb5',\n",
       " '697ef119-fce4-49a5-9583-fad128a86738',\n",
       " '8fa719fe-3908-4c2d-84c3-64a38a36418f',\n",
       " 'b13d30b5-41a6-4aaa-a3fd-248063b54c90',\n",
       " 'b4d8f5b3-a778-4540-9e53-463ab110d935',\n",
       " 'a14a1261-3047-49a6-8db7-232de914a7f1',\n",
       " 'd16f0b78-8d32-4181-8ccb-5b7d24a3fcac',\n",
       " '972e3515-4dc6-4696-b4f1-7674148d140b',\n",
       " 'ae5bb6e9-cee5-4b89-8f4d-7caf1c5b2791',\n",
       " 'e26b3ad0-449a-4abf-9ad5-7cb50f2b580b',\n",
       " 'fb2e4f6e-834e-4957-831c-634c1e67595f',\n",
       " 'a42b27e7-b4f8-491f-85cb-07acf3b9e0d9',\n",
       " 'b6d1cdd7-f080-4dc5-932a-455f1917f0d6',\n",
       " '2a03bd10-566e-4b92-81ae-2f8277725293',\n",
       " 'dc85d7c7-0d57-4c9e-82f8-745940536f80',\n",
       " '0deed22f-67a2-4dcb-9cf7-175456626fef',\n",
       " '230fc519-ed69-4e21-8f0e-4373e26405e1',\n",
       " '8744d5be-25bd-49bf-8d39-c92df9def808',\n",
       " 'b8153ac5-e6d7-4adf-8353-63ef472abc04',\n",
       " '2e987389-ebf4-49b7-a8ba-260f07a1f409',\n",
       " 'aa2cf082-27c0-4a66-9632-d5bdf4a47cf9',\n",
       " 'ff441d19-84ca-4b4f-8a99-3db965015019',\n",
       " 'f9a93478-ed3e-4072-9e6e-952a1b969488',\n",
       " '5664c8ae-77b0-4d67-8504-41627366d85d',\n",
       " '5aa47e29-42b5-4e7d-8e1f-0e9bf1b1243f',\n",
       " 'ad1d298d-e479-4737-9a11-182fe69570ce',\n",
       " '236d0d6e-541f-4e9e-b815-fcc5839afa41',\n",
       " 'd421e039-38ae-4159-9886-31836a960ec2',\n",
       " 'aaf1fa58-fcb5-42b1-85a7-eae989a2ffbb',\n",
       " '105a3276-c3af-4413-ad8e-2febf5149047',\n",
       " '5fcb5a6d-d27c-43dd-a2fd-f41bfdd2ada1',\n",
       " '5e3e0321-4c32-4739-9e19-82254b224fbe',\n",
       " '2b1be30d-1ca0-4ed6-a267-d409b3d1bb0a',\n",
       " 'bedfb955-c9a7-4df2-87e9-11f008bb8d7a',\n",
       " 'e375d840-85f3-4183-97c6-c8e7f6dec460',\n",
       " '2b877984-9a1e-49da-8011-c9c653fa080b',\n",
       " '178ef245-5a08-48f6-a29e-c1fd603d52c1',\n",
       " 'b7a4196d-5a7f-4907-9da4-0f54a4a6c0f4',\n",
       " '72316eb3-d244-46ad-b381-b6b13f592fd5',\n",
       " 'db7f5fcb-5d16-4818-ad93-8caff9777517',\n",
       " '2c0ad401-9143-499d-81f2-a2bbd4b82653',\n",
       " '9c02afc4-6a64-4578-9cde-26db6522b270',\n",
       " '9136d98c-a295-4526-b186-1b4e33c78ab7',\n",
       " '8c99915e-8d27-4121-a31d-43307eaba684',\n",
       " 'dfface89-79e6-4df6-81f7-07455d2fc6f6',\n",
       " '4af57c45-2464-4564-936f-158fe2c061c6',\n",
       " 'e62aac3b-7824-401c-be6b-927d6bb0cc18',\n",
       " 'f2c50b9e-8fed-4860-8b03-492ba1bc5e29',\n",
       " '437b8e1d-c36a-4770-a013-c12488f385d5',\n",
       " '64a5a3bd-3e1c-475d-b729-0dd0890a2b37',\n",
       " '8f6de90d-a808-436c-b938-880aa6846971',\n",
       " 'e465e4d3-40bd-43fc-b270-37efe50b65b8',\n",
       " 'c098a12d-d225-4a5b-b5df-be326f77899b',\n",
       " '54fcead2-1503-4c16-ae4b-5498406e3e8d',\n",
       " 'a31f98f6-123f-4e85-acee-181355c12b78',\n",
       " '9751a894-fa02-499c-a40c-d7842582e8b5',\n",
       " 'f447e0a1-ad0a-4292-95c4-4e39a4dc920c',\n",
       " '77014c2e-0118-466e-b761-dd531a7c68bf',\n",
       " '15d5c15e-f61d-411d-b7fd-fd902cb58b7c',\n",
       " '1c54e41d-934a-45c7-97f7-ee1015dac7eb',\n",
       " '23027e7f-cad5-4656-83b6-b0b35efd755d',\n",
       " '6ef3476a-86b2-48d0-8718-87078c11c632',\n",
       " '75c486ac-943f-4821-bd51-9f600d23e370',\n",
       " 'dfa2b9ca-8652-484c-ba4a-d74915397dbc',\n",
       " '97542143-456d-4882-bf75-eac6fe0e26f4',\n",
       " '36f1a85c-fca2-49ba-af72-5b4cac0a7ee9',\n",
       " '5f0d31b5-7d4b-4c87-a7b7-662fe217a607',\n",
       " 'ae23e3dd-52b5-4a49-96ae-88ff09c90ea2',\n",
       " 'f367f824-b597-4ec1-be3a-3898744f7fe6',\n",
       " 'b1dc0bbf-33fb-4fe7-8036-5cb5901a265f',\n",
       " '7f70222d-1066-434e-b024-a7f37030a925',\n",
       " 'd04c532e-c2e7-4644-b075-5f4d3d0debc1',\n",
       " 'c30736bc-9295-434a-b8af-3a8a95448a6a',\n",
       " 'c1431468-cf93-43e9-9238-a24d6acf14e5',\n",
       " '22ee4327-ab4d-4032-82f3-158cc5031b14',\n",
       " '8ecb5384-6903-4bdd-a00f-dfca86aa6d09',\n",
       " 'e4cf0bd1-8e84-4ac2-b44d-0df9a979d795',\n",
       " 'cc87b6d2-e18d-41fd-823a-bbe9e7dc5b9c',\n",
       " 'fa0530c6-406b-41a3-9c16-9351ad492c85',\n",
       " '3b0a4179-953b-4918-b82c-254640f74948',\n",
       " 'ae512cc6-bdb4-4d05-9ab7-329f9c1e2426',\n",
       " '1d5d9e81-da52-42b6-ba76-2c86c6d931fc',\n",
       " '7b601423-ccad-4800-80c2-d2268971323b',\n",
       " '3fa319a5-92cb-4951-9162-426e062cf23a',\n",
       " '01136d0d-fb7c-4e91-93a8-76113bed0e09',\n",
       " 'a8e67d28-6db9-420d-be0a-ce9837a590ea',\n",
       " '38a23098-4877-4b3c-a7d2-b2a098807b54',\n",
       " '7c1abec9-add4-4643-81b1-5cbbdab2f427',\n",
       " 'b598454f-17cb-4de5-8b2f-e8fd04b25a78',\n",
       " '2f02b384-e41b-4d07-88f5-9aab76c17fac',\n",
       " '92cf29f3-0da4-41a7-9d26-bb9ba1fc40be',\n",
       " 'ec4801b0-93eb-48f0-a859-0c5dbfd2e028',\n",
       " 'ff4ed2e1-4a41-4147-b006-459de8f7c42f',\n",
       " 'da3a560e-197e-43ef-930b-f4cd1999438f',\n",
       " '25df2656-f28a-432e-af57-0e4f58828c10',\n",
       " '1b745093-faae-455b-9e67-b33e8b947a1c',\n",
       " '22af3e80-1a9c-422e-9515-68a0c6a1368e',\n",
       " '44d78711-cf10-4473-b1d1-91bd19cb9a80',\n",
       " 'bc986af7-95d3-4877-8986-9d61a689cfbe',\n",
       " '167adc6b-ed01-4537-8369-addbd771d48f',\n",
       " 'c5711430-510f-4a1e-9ad7-f507d7381fc4',\n",
       " '64784638-e831-4c47-b10e-876452e45585',\n",
       " '0f357909-69fe-4d5c-b0f8-040805d61158',\n",
       " '6434b75e-4063-4f71-9310-87634a454723',\n",
       " 'a66be5a2-f6e7-406d-a03c-56d545b5b7db',\n",
       " '0af4cfa1-6fda-4161-8ea8-0ba0db7c30e9',\n",
       " '581e05e0-670a-4b71-b610-73fa03ff3c11',\n",
       " 'ce02f6f0-1169-4f8f-b14a-e4f10eda83d3',\n",
       " '4986e4e0-7315-49a5-960f-77b012c6433d',\n",
       " '381c6e83-2ff3-467e-9cd2-52ef20ad5248',\n",
       " '4b8a5613-8d8f-4013-98e6-4053afa54e03',\n",
       " 'd4e5b67d-728b-42b0-8b55-fb25e9c08f2e',\n",
       " 'e7d39b81-20a9-4ce4-b418-141a450b6309',\n",
       " 'abe07d1b-8acc-49ee-82a3-116fcb6fc9a1',\n",
       " 'bfc7a588-c792-4ea1-a664-c99d122dc1eb',\n",
       " 'ff663f8f-496b-4987-ac07-351d3ad48539',\n",
       " 'beca6489-df18-41c9-b081-4a3e0ca814fd',\n",
       " 'dcf7a610-79d1-4e4d-8382-406ffbe45480',\n",
       " '16254abd-b150-46ab-a697-ad206aa58aa3',\n",
       " '1c21ef15-8a73-43a9-95d0-2a4d99ff503c',\n",
       " '7512c5e6-6517-477d-976a-e456bf14d5cd',\n",
       " '9a2dfc39-a57f-4622-b879-13ec1b1a5d26',\n",
       " '96ee4261-f68f-4bd9-8865-3f09460ab672',\n",
       " 'dc1d274a-9562-47f3-9ad2-eb05a90322d6',\n",
       " '2c3ce5c1-2495-4e15-b7b5-15523318dcd7',\n",
       " 'c320fa75-e64c-4dfd-8931-583606947927',\n",
       " 'b03d7cc4-e810-4a38-aff3-157d3ffd6dde',\n",
       " 'a4313d46-f580-4df1-b642-6b76ee3e7ac5',\n",
       " 'b9fcc368-bed8-4579-86e3-0cc72af59867',\n",
       " '926e602e-af63-432f-be40-f608d7880bd7',\n",
       " '64346d19-4282-4f9c-a99f-886c61332d21',\n",
       " '65fede43-f73c-41dd-af36-4d2d38101b23',\n",
       " 'f75aad44-e6ac-4660-80a6-588e9229352d',\n",
       " 'a03c82b4-d73e-4fb1-b8b3-7e0c8a9e545a',\n",
       " '0cd569ba-0357-4c81-bccc-21effb964e38',\n",
       " '1957005e-ec20-4fcd-86c0-01d330b0eb9f',\n",
       " '07fe0ae7-7480-46f6-9abc-291184b19aa0',\n",
       " '9147ac2e-ae97-48f6-b7e4-ebcd3805c0e0',\n",
       " 'b28c7146-d5a4-484a-b6ee-f79ccee953c7',\n",
       " 'f99abd8a-aafe-4e77-905a-9d4c08ae524a',\n",
       " 'a207cc05-34bc-4a45-8381-da871dd2e04e',\n",
       " '80b156c2-2f19-4024-be70-22da671071a6',\n",
       " '6436ddc2-213f-467a-bf63-cde49f529d08',\n",
       " '964344fc-f800-47b9-90e6-1e85875533d3',\n",
       " '5da77e79-48fe-45cf-928f-035748138d09',\n",
       " '021d6ff0-ecc5-4af7-92b9-d30577552b8b',\n",
       " '9c96040b-f3a2-48ce-8d61-6f58e1716aee',\n",
       " '835e7f65-73dd-4256-89d1-4f79c47e8b9a',\n",
       " 'c9243c44-7bac-44b8-b598-41eeeb7df230',\n",
       " '262b7b7d-74e2-4be6-a612-e577fab76233',\n",
       " '8c1223f3-0b53-4b73-9cc8-222381c00758',\n",
       " '1d3452d1-6b2e-47a2-85a7-a68d8fd3b58d',\n",
       " '923dad3c-caf1-4da9-98ec-07f7439ff391',\n",
       " '6fa2ca16-7c46-4ce2-a947-593159339648',\n",
       " 'cb6e3703-7a47-4806-ae00-074741f98c80',\n",
       " '052ba512-748f-4c63-8af9-a36dbe5b2e92',\n",
       " '3ade3fd3-2655-43bd-b756-34f731bf2a71',\n",
       " 'a12fa20d-32ae-4799-994b-033b88e9f0b5',\n",
       " 'beb670e1-ba5c-425e-a19f-00ebac10956d',\n",
       " '0153d208-e719-443c-9b9c-c849d869631d',\n",
       " 'b534b6b6-09b7-4124-b978-9a1830978ba5',\n",
       " '93369a34-7c2d-4ede-a8fb-98326f617310',\n",
       " '0c0ff466-04c5-41f3-8c3a-5795315c297f',\n",
       " '167214fc-47bd-414a-9cf4-e960a32e432f',\n",
       " '5c1eff38-307d-4d72-8275-a5ccbfb3c3f9',\n",
       " '7795e558-290e-44a0-a0de-df77d60b9e0f',\n",
       " '70f4a791-4d35-498b-96e6-62e2b0fbd385',\n",
       " '99a04921-8c9b-4325-be75-8cae7e61a242',\n",
       " '2279e38a-f7ab-4b7f-988b-fe962ed888d8',\n",
       " '934bc302-6769-47c6-8146-58a7e298143c',\n",
       " 'c77928b3-8889-4eb2-b9d3-2b45bb40da70',\n",
       " '4f4228bf-56e4-4c6f-9b4a-a2261b7cfdfa',\n",
       " '027e8088-915a-4d05-a7fc-732169beab2b',\n",
       " '47844d3f-dc23-4038-b40e-14d880e83490',\n",
       " '3a0c547b-3d82-41c3-98d4-3c69ca5ede30',\n",
       " '710864b6-0542-4c14-a8dd-7ddf3bd6a66b',\n",
       " '362d778b-8e6e-4b1d-ae6e-3dc0fd2db737',\n",
       " '165c6dbd-586f-4bc2-98db-ee54472a7a8a',\n",
       " 'e6c07d2a-3fd6-4a78-8654-e04ad1a69882',\n",
       " '744c058d-7c0b-4baa-ad68-40ba37b6e1c1',\n",
       " 'ce4bc901-7a28-4e10-9f55-ed1cf6ae2eef',\n",
       " '638f7296-aa3c-4fb4-bba4-1f3eecef3cef',\n",
       " '5d395353-11db-40d3-bf8b-df8b436333bc',\n",
       " '023fed98-4904-432f-92a4-acf7b54c5734',\n",
       " '0b69b138-6343-4976-aace-cd3a50f658ed',\n",
       " '59c7e73c-7fad-4a3c-8b92-8a737457dcbe',\n",
       " '9062e0ef-3c29-438a-a14e-e43a224dc913',\n",
       " '9b4fb6ab-995a-4983-8b0d-f905c8005d57',\n",
       " '52554b8a-3378-4539-8481-53de15297133',\n",
       " '71bb24c4-3d4f-415c-8181-6ee26d686d41',\n",
       " '9d939829-92fc-4ebd-932f-ffd381b8993c',\n",
       " 'f42fa779-9669-49d7-a0ad-ecaa297c8ae2',\n",
       " 'a9ff510f-65f4-42db-872a-9737b54c7d14',\n",
       " '8a90e66a-e4c3-4866-abd8-79b0c7b6ea65',\n",
       " '40f4bc52-84d6-4391-b1ab-905c00813335',\n",
       " 'abbc02f9-8bcf-4d40-9a0e-02f898ac8fcc',\n",
       " '9212231b-525c-4773-9551-55f38e29dd9e',\n",
       " 'dfc5a51c-1b9d-40cf-9643-eddbd9f48fa5',\n",
       " '0995567f-77bd-44fd-97ec-ac79f59028ce',\n",
       " '9b7cc037-a390-4492-ae28-b66a6ecb37b2',\n",
       " 'c4fbc067-4d58-40a3-bc8e-8c23fd5cb107',\n",
       " 'b2d554ed-138c-419d-837f-278065f12e0a',\n",
       " '5bb56162-0f8b-4b5b-b9ed-fb82d566d749',\n",
       " 'ffe2ae8f-cbe8-4486-bd6b-069a72eed131',\n",
       " 'ca4139a4-ceb0-42ff-a8a3-b7010a508c60',\n",
       " '612abd45-80e6-41dd-a763-5f9555fe86e6',\n",
       " '52cc9359-7743-4117-bd7e-4683dcb1c9c8',\n",
       " '05a7028a-2bbe-405b-80e7-8a44c8929731',\n",
       " 'da84599f-328c-471c-97f6-8c8a43efed33',\n",
       " '47c16209-a577-406f-bccb-3f41a05c8c3b',\n",
       " '90fe1abe-9656-40dc-8f77-1eb1d6ab1fd3',\n",
       " '61c625e9-90b7-425f-8602-27418c657328',\n",
       " 'ebded5e7-d47f-4d63-b559-967df2f36d3b',\n",
       " '346dac14-deed-4494-85e8-7101babc2386',\n",
       " '97d174b3-d436-4fb9-bc21-834e31487f56',\n",
       " '4fa27148-0139-4970-90e0-c30a22497d01',\n",
       " '9b571e6d-4bfe-4d7c-882f-218171dbc36b',\n",
       " '32ba56fd-fc2e-4464-a8ad-99cda512c32c',\n",
       " 'c80c830b-1267-4ee2-8b1e-e6c0648b1be4',\n",
       " '8f82195c-6883-487a-8ea8-7f64e5481d7e',\n",
       " '97e0bc5c-206b-402f-86cd-c54915b8f690',\n",
       " 'a92708fd-dcfa-4054-bc37-c959ea88397a',\n",
       " '162fa654-97a0-4a14-8ded-a7a8cec064f3',\n",
       " '3e33a44d-149e-48a9-95ce-10c94e99cfc2',\n",
       " '75cc4a83-00a9-444d-93c9-ee3f4822aa09',\n",
       " '3b619338-be60-47ba-9f5b-bafa6b156474',\n",
       " '7331a80e-20b0-4eb9-a7de-4e64ba8716e9',\n",
       " 'e89323ac-f00b-43a7-bad2-ef42bdb0e619',\n",
       " '07c67133-2431-4d71-848e-15890c912822',\n",
       " 'deacb6dd-2c2d-49cc-afe5-f2ff6886ee34',\n",
       " 'd4e0fff4-1326-425b-9cbe-fa7ef3fe68ed',\n",
       " 'b25f67ca-b15b-4f1f-b0ca-43da6a0fe08b',\n",
       " 'df9dde89-5c9f-43ad-8482-2f31b6d08ec3',\n",
       " '1f2dbe8e-914b-4f48-8b72-eac727e66a13',\n",
       " '5e04050b-dfb5-469a-9570-308e3e1d4def',\n",
       " 'ab4dc6ab-35c1-4409-b502-a914010c25d8',\n",
       " '07efc9dc-b80c-45c1-b873-7c074d642edf',\n",
       " '5f3e9e5b-1f71-4e25-ac8e-57c6de9be11f',\n",
       " 'd6c74df7-0c8a-4357-9f5a-ef808e94f73f',\n",
       " '7268761a-de1e-49e4-b48b-14bad52a0be0',\n",
       " '9d10268a-08f2-479e-9bb7-87b6b9cf3cdb',\n",
       " '6c8e70dc-4386-4335-a82d-56957e5d8297',\n",
       " 'd2395aaf-1287-4df2-ba1b-c238cc018c06',\n",
       " '89025f76-e492-4e3c-bad5-6c223f24129c',\n",
       " 'bd0ce992-1625-4c5a-bc59-dbe55a69d0f2',\n",
       " 'd73c95cb-2277-4088-b5ce-917124e22a48',\n",
       " 'c4d08fbb-7196-4b99-9f26-2f3368272443',\n",
       " 'ea042ad5-4975-44b7-a271-98f64ce636df',\n",
       " '4bf50e73-e5a3-453c-87d8-8def751e00e5',\n",
       " 'a8465072-f4a8-40dd-96f6-dbf4378aedca',\n",
       " '67c5a8a3-2c06-4f44-b361-adcc1b498388',\n",
       " '95cc6513-d4db-4c43-8ad5-7e8200da50ca',\n",
       " 'f9ad770f-a3b3-4da3-ad80-71a4c0e47811',\n",
       " 'bfe314cf-8378-4bc1-aafb-42dc3baa7a82',\n",
       " 'ef477ad0-3e34-4960-974e-0ee68fa3dc2c',\n",
       " '7bc24435-89cd-4ae0-b96b-e89cf427d26a',\n",
       " '9de78434-99df-4bea-b948-a7bd4d818305',\n",
       " '9210062b-9498-4b4d-9d42-d67b2546736a',\n",
       " '5d0168eb-1949-4d01-ba96-3ba8aca8839d',\n",
       " '50bfe950-742d-47e9-98b4-15d3c2e5a0ef',\n",
       " '9cd4979e-a65e-4087-8217-19d3929b7d94',\n",
       " 'e5f442dc-14da-41cb-ad8f-d44dbb8d5b2f',\n",
       " 'e3170672-a2df-46a4-8465-81805d8a06a1',\n",
       " '5f318e9a-b61e-4aa9-8852-3461213bf123',\n",
       " '3ae0b391-6139-426a-a81c-b23f3f945120',\n",
       " '44ca7fea-6279-41cb-9efb-e67f0b6e3d70',\n",
       " '68bcd5fe-2843-4103-a9b8-30df0c3b1561',\n",
       " 'f1c89fad-96b7-4b31-9c91-9717d7d4b03e',\n",
       " '37a9a587-cbe4-4aef-b208-fe2e1d1abf39',\n",
       " '17b1f11d-566e-4977-8971-4ee1d9d27181',\n",
       " 'd5f8abbd-1772-4e96-8706-65ca659d6b1a',\n",
       " '417f4e40-0332-45ea-8586-c17c1e9dfd3c',\n",
       " '9cfe89b5-a42b-4bc6-a97d-0bae740eeabf',\n",
       " '12455cd0-e160-4c15-a9b9-8a9f870ec78e',\n",
       " 'ac1691cc-658f-436b-9441-2a1cfe9204ff',\n",
       " '1fb1bd1a-e587-4403-920c-4cadc62000a7',\n",
       " '314de1fb-80ef-49a1-ad8b-2f80dd0cf364',\n",
       " 'e71b2763-719a-4fca-9501-edaceecc1f18',\n",
       " '60271f98-0dae-47bb-b77f-524632a9b9d7',\n",
       " '05e803ab-1d29-476f-bbd7-ca8e6e76a383',\n",
       " 'e10ec6b3-3fca-4cdd-af1f-9774537efc5d',\n",
       " '520e2a65-354a-47ed-afd7-474fb59f850c',\n",
       " 'e482f537-7508-4a7f-8bd1-8056d4498b00',\n",
       " 'cf696171-5280-41e4-8ca9-35f068fdf1b5',\n",
       " '8efce2d6-1628-4b23-a289-25ad8d0e81a0',\n",
       " '44c333b4-b341-499e-bf67-2e50cd023aff',\n",
       " '6753de02-c1fe-413c-a32b-b598fa6ff7dc',\n",
       " '1ce68024-a578-4d2d-ba91-3d01689edab2',\n",
       " 'c2f3b198-3ed5-4c40-9702-196489ad0471',\n",
       " '7ea7a9e9-5c2f-4c07-adc5-96156d7eb68f',\n",
       " 'c1eea13f-d5ce-485b-9af5-af333b9cb921',\n",
       " 'd11be8fa-d7d4-46a3-8baf-efa9decc4665',\n",
       " 'ec694278-0d2c-4848-affd-2aa8bad0148d',\n",
       " '719fe496-7968-4a72-a3ed-913dac77d042',\n",
       " '277e117a-7f28-4382-a7c9-e1531fe8a238',\n",
       " 'bc4c4065-3001-4100-b5c4-6bba31c99f34',\n",
       " 'b90c48e5-a5e1-4c41-8fc6-122f7d43833d',\n",
       " 'd44682f9-6450-44a8-936d-83f09251e2a4',\n",
       " '21e097f1-d5b7-4621-a139-cd4061981b08',\n",
       " '7e8e45ca-effe-4494-bf01-8177baffd7fa',\n",
       " 'c7e32064-cd60-4266-a55c-5d5a7b55f098',\n",
       " 'e85a830c-aafe-49b2-a714-2325e40c6b32',\n",
       " '166eb753-fc26-4779-8103-39c01f9a3e0d',\n",
       " 'd1932124-6493-4f7d-b8a6-0e923fb54b49',\n",
       " 'bc39493d-4462-4772-9899-306b8a06b95c',\n",
       " '7e9e3dd7-7b67-4334-a082-b93353c8f44b',\n",
       " '55baf132-45df-42ca-b945-175eaa59425a',\n",
       " '1e92c3e8-7eb6-4cff-845f-d9feca160394',\n",
       " 'fa786f38-d41e-4369-b857-c92e17867acc',\n",
       " 'c9d0525b-0c58-46a9-ad56-edb55fe4c1c8',\n",
       " 'b55dde01-2465-4cf5-89e9-89b952bbd696',\n",
       " '39f15da2-ba80-44ed-b0dc-e06576ea9d19',\n",
       " '9f37c95e-def2-43cc-8e0b-d2b3ba85ddfc',\n",
       " 'e18e8817-5276-4fbb-bc0a-6fd59830e6b2',\n",
       " '42ce1b07-cd28-44bc-8ab0-bae8eb9e6f48',\n",
       " 'dbc88728-b140-4238-a0ee-b594dd13b4c1',\n",
       " '6293f7b2-7901-482e-9f33-19393ed7bc42',\n",
       " '37d2e893-9cb6-49f9-b68a-dbef4c3f432a',\n",
       " 'd68a4947-b85f-4aee-89c9-9c7985761810',\n",
       " '68022a23-0dea-4559-b658-2592467bf8c3',\n",
       " 'be525506-cc2d-47bd-b6b2-0944f68f5b22',\n",
       " '060a7f62-c3e6-4792-a129-fee191c3c68d',\n",
       " 'd3bb8757-4e4d-4a5f-b1c4-b57e4b2e5d73',\n",
       " '508a0a72-3876-43e8-b839-6d836656f1cf',\n",
       " 'fac1aad3-99a1-454d-b1ee-511cebf0e7fd',\n",
       " '4f843fd8-5a49-4063-88ac-75bb2df97202',\n",
       " '7c2adce6-76b9-4f33-a5ae-32a3ab5fcd52',\n",
       " '624f349d-3a97-4be7-aaeb-6d879e902ef0',\n",
       " '8e4c46a8-5d06-4292-a582-e1161cb78750',\n",
       " 'aff81f86-789d-4cb3-a94b-270203624597',\n",
       " '97cd0264-3979-4cfd-97d2-50765de64cce',\n",
       " '403f3cd2-512a-481f-a66d-ba814ca0b478',\n",
       " 'f0e82824-139c-4857-b447-d04a8ad1b2a6',\n",
       " 'aecb8084-d672-4f6a-bd77-f844e99f45a0',\n",
       " 'e9b3c254-a444-4467-8abf-1e15b27563c2',\n",
       " '49a98ef4-c016-4c8c-95f2-10c129ce8943',\n",
       " 'ea526634-0e0a-40c3-b739-880beabda480',\n",
       " '7d6b4922-a7a7-46f2-9fbf-e3af793f477b',\n",
       " '113bde4a-bf13-45e1-b225-e2e40ce0e82d',\n",
       " '3f65f31e-2c32-44df-9ad0-154922da9f40',\n",
       " 'c1d473e1-ae97-47ad-a1d8-6324c5a89884',\n",
       " '68dc5dec-a56f-4435-abe9-95fb3e5e4151',\n",
       " '13b33745-dd77-429a-b555-461224666035',\n",
       " 'cfc48476-56ed-4564-b0ff-f34a79fc17e9',\n",
       " ...]"
      ]
     },
     "execution_count": 76,
     "metadata": {},
     "output_type": "execute_result"
    }
   ],
   "source": [
    "%%time\n",
    "\n",
    "vector_db.add_documents(documents = chunk_docs, \n",
    "                        vector_field = \"vector_field\",\n",
    "                        bulk_size = 1000000)\n"
   ]
  },
  {
   "cell_type": "markdown",
   "metadata": {},
   "source": [
    "# 6. 검색 테스트"
   ]
  },
  {
   "cell_type": "markdown",
   "metadata": {},
   "source": [
    "## Lexical 검색"
   ]
  },
  {
   "cell_type": "code",
   "execution_count": 83,
   "metadata": {
    "tags": []
   },
   "outputs": [
    {
     "name": "stdout",
     "output_type": "stream",
     "text": [
      "query:  {'query': {'bool': {'must': [{'match': {'text': {'query': 'how to add image', 'minimum_should_match': '0%', 'operator': 'or'}}}], 'filter': []}}}\n",
      "# of searched docs:  10\n",
      "# of display: 3\n",
      "---------------------\n",
      "_id in index:  de3033e6-5124-49e8-baef-9d8d4d0ae8e1\n",
      "10.1182785\n",
      ". Values wifi ethernet cellular vpn Chrome OS 99 and higher User & Browser To access the following policies, go to Profile details > Modify Policy. #General Policy Description Supported system Maximum user session length Specifies device user session duration. The remaining session time is shown on a countdown timer in the system tray. After the specified time, the user account is automatically signed out and the session ends. Values Enter a session length, in minutes. The value can be 1&ndash;1440 (maximum 24 hours). Chrome OS 99 and higher Custom avatar Sets the user account avatar on the login screen. Values To add an image, click . To inspect the current image, click View. To remove the current image, click Delete. The image file can be JPG or JPEG format and can't exceed 512 KB in size. Chrome OS 99 and higher Custom wallpaper Sets the desktop wallpaper. Values To add an image, click . To inspect the current image, click View. To remove the current image, click Delete\n",
      "{'source': 'all_processed_data.json', 'seq_num': 914, 'title': 'Chrome OS policies', 'url': 'https://docs.samsungknox.com/admin/knox-manage/configure/profile/configure-profile-policies/chrome-os-policies', 'project': 'KM', 'last_updated': '2023-07-26'}\n",
      "---------------------\n",
      "_id in index:  e9a95f51-692e-414a-95a5-7c060b5e9a83\n",
      "10.081245\n",
      ". Values Allow users to use Parallels desktop &mdash; Enables Parallels Desktop. When set, you must accept the end-user license agreement. Do not allow users to use Parallels desktop &mdash; Disables Parallels Desktop. Chrome OS 99 and higher Parallels Desktop Windows image The policy set for configuring the Windows OS image that the device user downloads on their Chromebooks in order to use Parallels Desktop. Chrome OS 99 and higher &gt; URL Specifies the address for the Windows image. Values Enter the URL. Chrome OS 99 and higher &gt; SHA-256 hash Specifies the SHA-256 hash of the Windows image. Values Enter the hash. Chrome OS 99 and higher Required disk space Specifies the free disk space required for Parallels Desktop. When deciding on a value, you should take the size of your uncompressed Windows image and add how much space is needed for the additional data or apps you expect to install\n",
      "{'source': 'all_processed_data.json', 'seq_num': 914, 'title': 'Chrome OS policies', 'url': 'https://docs.samsungknox.com/admin/knox-manage/configure/profile/configure-profile-policies/chrome-os-policies', 'project': 'KM', 'last_updated': '2023-07-26'}\n",
      "---------------------\n",
      "_id in index:  0b01854e-fac9-4518-b5a4-29d7a584b160\n",
      "10.02429\n",
      ". You can also add a link to your enterprise's Website. ##Product information screen Under PRODUCT INFORMATION SCREEN, you can customize the Configuration service. Product Name - Enter the product name displayed in the product information screen. If left blank, the name of the profile is used by default. Image - Upload a custom image to display in the product information screen. If you don't add an image, the default generic image is shown. The image size can be PNG or JPG format and can't exceed 2MB in size. Optionally, select Add a non-dismissible notification to add a persistent notification that the device user can tap to quickly access the Configuration service. You can customize the notification with your own Application name and Notification message. Under Branding, you can configure the following enrollment screen elements: Background fill - Select a background color or upload an image to use your own branding for the enrollment screen background. The background image cannot exceed 2 MB in size\n",
      "{'source': 'all_processed_data.json', 'seq_num': 1650, 'title': 'Create a profile', 'url': 'https://docs.samsungknox.com/admin/knox-configure/get-started/create-a-profile', 'project': 'KC', 'last_updated': '2023-09-27'}\n",
      "---------------------\n"
     ]
    }
   ],
   "source": [
    "query = \"how to add image\"\n",
    " #query = \"how to add image\"\n",
    "query = opensearch_utils.get_query(\n",
    "    query=query\n",
    ")\n",
    "\n",
    "print(\"query: \", query)\n",
    "response = opensearch_utils.search_document(os_client, query, index_name)\n",
    "opensearch_utils.parse_keyword_response(response, show_size=3)"
   ]
  },
  {
   "cell_type": "markdown",
   "metadata": {},
   "source": [
    "## 시멘틱 검색"
   ]
  },
  {
   "cell_type": "code",
   "execution_count": 84,
   "metadata": {},
   "outputs": [
    {
     "data": {
      "text/plain": [
       "[Document(page_content='Knox Manage knowledge base articles', metadata={'source': 'all_processed_data.json', 'seq_num': 1223, 'title': 'Knox Manage knowledge base articles', 'url': 'https://docs.samsungknox.com/admin/knox-manage/kbas', 'project': 'KM', 'last_updated': '2023-10-26'}),\n",
       " Document(page_content='Knox knowledge base articles', metadata={'source': 'all_processed_data.json', 'seq_num': 197, 'title': 'Knox knowledge base articles', 'url': 'https://docs.samsungknox.com/admin/fundamentals/kbas', 'project': 'USP', 'last_updated': '2023-07-26'}),\n",
       " Document(page_content='. You can add up to 10 image files in the PNG, JPG, JPEG, or GIF format (animated files are not supported). Each image file must be less than 5 MB. To upload an image file, click Add and select a file. To delete an image file, click next to the name of the uploaded image file. Note The device control command must be transferred to the device to apply an image file to it. &gt;&gt;&gt; Video Select a video file for the screen saver. You can add only one video file in the MP4 or MKV format. The video file must be less than 50 MB. To upload a video file, click Add and select a file. To delete a video file, click next to the name of the uploaded video file. Note The device control command must be transferred to the device to apply a video to it. &gt; Session timeout Allows the use of the session timeout feature for the Kiosk Browser', metadata={'source': 'all_processed_data.json', 'seq_num': 911, 'title': 'Android Enterprise policies', 'url': 'https://docs.samsungknox.com/admin/knox-manage/configure/profile/configure-profile-policies/android-enterprise-policies', 'project': 'KM', 'last_updated': '2023-09-06'}),\n",
       " Document(page_content='Knox Guard knowledge base articles', metadata={'source': 'all_processed_data.json', 'seq_num': 1643, 'title': 'Knox Guard knowledge base articles', 'url': 'https://docs.samsungknox.com/admin/knox-guard/kbas', 'project': 'KG', 'last_updated': '2023-07-26'})]"
      ]
     },
     "execution_count": 84,
     "metadata": {},
     "output_type": "execute_result"
    }
   ],
   "source": [
    "vector_db.similarity_search(\"How to add image\")"
   ]
  },
  {
   "cell_type": "markdown",
   "metadata": {
    "tags": []
   },
   "source": [
    "## 하이브리드 검색"
   ]
  },
  {
   "cell_type": "code",
   "execution_count": 85,
   "metadata": {
    "tags": []
   },
   "outputs": [],
   "source": [
    "from langchain.chains.question_answering import load_qa_chain\n",
    "from utils.rag import get_semantic_similar_docs, get_lexical_similar_docs, get_ensemble_results"
   ]
  },
  {
   "cell_type": "code",
   "execution_count": 86,
   "metadata": {
    "tags": []
   },
   "outputs": [],
   "source": [
    "import copy\n",
    "from langchain.schema import Document\n",
    "from langchain import PromptTemplate\n",
    "from operator import itemgetter"
   ]
  },
  {
   "cell_type": "code",
   "execution_count": 87,
   "metadata": {
    "tags": []
   },
   "outputs": [],
   "source": [
    "from utils.proc_docs import search_hybrid"
   ]
  },
  {
   "cell_type": "code",
   "execution_count": 88,
   "metadata": {
    "tags": []
   },
   "outputs": [
    {
     "name": "stdout",
     "output_type": "stream",
     "text": [
      "Query: \n",
      " How to add image\n",
      "##############################\n",
      "similar_docs_semantic\n",
      "##############################\n",
      "\n",
      "Score: 1.0\n",
      "['Knox Manage knowledge base articles']\n",
      "{'source': 'all_processed_data.json', 'seq_num': 1223, 'title': 'Knox Manage knowledge base articles', 'url': 'https://docs.samsungknox.com/admin/knox-manage/kbas', 'project': 'KM', 'last_updated': '2023-10-26'}\n",
      "--------------------------------------------------\n",
      "\n",
      "Score: 0.9981345073101464\n",
      "['Knox knowledge base articles']\n",
      "{'source': 'all_processed_data.json', 'seq_num': 197, 'title': 'Knox knowledge base articles', 'url': 'https://docs.samsungknox.com/admin/fundamentals/kbas', 'project': 'USP', 'last_updated': '2023-07-26'}\n",
      "--------------------------------------------------\n",
      "\n",
      "Score: 0.9906507439515913\n",
      "['. You can add up to 10 image files in the PNG, JPG, JPEG, or GIF format (animated files are not supported). Each image file must be less than 5 MB. To upload an image file, click Add and select a file. To delete an image file, click next to the name of the uploaded image file. Note The device control command must be transferred to the device to apply an image file to it. &gt;&gt;&gt; Video Select a video file for the screen saver. You can add only one video file in the MP4 or MKV format. The video file must be less than 50 MB. To upload a video file, click Add and select a file. To delete a video file, click next to the name of the uploaded video file. Note The device control command must be transferred to the device to apply a video to it. &gt; Session timeout Allows the use of the session timeout feature for the Kiosk Browser']\n",
      "{'source': 'all_processed_data.json', 'seq_num': 911, 'title': 'Android Enterprise policies', 'url': 'https://docs.samsungknox.com/admin/knox-manage/configure/profile/configure-profile-policies/android-enterprise-policies', 'project': 'KM', 'last_updated': '2023-09-06'}\n",
      "--------------------------------------------------\n",
      "lexical search query: \n",
      "{'query': {'bool': {'filter': [],\n",
      "                    'must': [{'match': {'text': {'minimum_should_match': '75%',\n",
      "                                                 'operator': 'or',\n",
      "                                                 'query': 'How to add '\n",
      "                                                          'image'}}}]}},\n",
      " 'size': 3}\n",
      "##############################\n",
      "similar_docs_keyword\n",
      "##############################\n",
      "\n",
      "Score: 1.0\n",
      "[\". Values wifi ethernet cellular vpn Chrome OS 99 and higher User & Browser To access the following policies, go to Profile details > Modify Policy. #General Policy Description Supported system Maximum user session length Specifies device user session duration. The remaining session time is shown on a countdown timer in the system tray. After the specified time, the user account is automatically signed out and the session ends. Values Enter a session length, in minutes. The value can be 1&ndash;1440 (maximum 24 hours). Chrome OS 99 and higher Custom avatar Sets the user account avatar on the login screen. Values To add an image, click . To inspect the current image, click View. To remove the current image, click Delete. The image file can be JPG or JPEG format and can't exceed 512 KB in size. Chrome OS 99 and higher Custom wallpaper Sets the desktop wallpaper. Values To add an image, click . To inspect the current image, click View. To remove the current image, click Delete\"]\n",
      "{'source': 'all_processed_data.json', 'seq_num': 914, 'title': 'Chrome OS policies', 'url': 'https://docs.samsungknox.com/admin/knox-manage/configure/profile/configure-profile-policies/chrome-os-policies', 'project': 'KM', 'last_updated': '2023-07-26', 'id': 'de3033e6-5124-49e8-baef-9d8d4d0ae8e1'}\n",
      "--------------------------------------------------\n",
      "\n",
      "Score: 0.9963399406331817\n",
      "['. Values Allow users to use Parallels desktop &mdash; Enables Parallels Desktop. When set, you must accept the end-user license agreement. Do not allow users to use Parallels desktop &mdash; Disables Parallels Desktop. Chrome OS 99 and higher Parallels Desktop Windows image The policy set for configuring the Windows OS image that the device user downloads on their Chromebooks in order to use Parallels Desktop. Chrome OS 99 and higher &gt; URL Specifies the address for the Windows image. Values Enter the URL. Chrome OS 99 and higher &gt; SHA-256 hash Specifies the SHA-256 hash of the Windows image. Values Enter the hash. Chrome OS 99 and higher Required disk space Specifies the free disk space required for Parallels Desktop. When deciding on a value, you should take the size of your uncompressed Windows image and add how much space is needed for the additional data or apps you expect to install']\n",
      "{'source': 'all_processed_data.json', 'seq_num': 914, 'title': 'Chrome OS policies', 'url': 'https://docs.samsungknox.com/admin/knox-manage/configure/profile/configure-profile-policies/chrome-os-policies', 'project': 'KM', 'last_updated': '2023-07-26', 'id': 'e9a95f51-692e-414a-95a5-7c060b5e9a83'}\n",
      "--------------------------------------------------\n",
      "\n",
      "Score: 0.9907110186777326\n",
      "[\". You can also add a link to your enterprise's Website. ##Product information screen Under PRODUCT INFORMATION SCREEN, you can customize the Configuration service. Product Name - Enter the product name displayed in the product information screen. If left blank, the name of the profile is used by default. Image - Upload a custom image to display in the product information screen. If you don't add an image, the default generic image is shown. The image size can be PNG or JPG format and can't exceed 2MB in size. Optionally, select Add a non-dismissible notification to add a persistent notification that the device user can tap to quickly access the Configuration service. You can customize the notification with your own Application name and Notification message. Under Branding, you can configure the following enrollment screen elements: Background fill - Select a background color or upload an image to use your own branding for the enrollment screen background. The background image cannot exceed 2 MB in size\"]\n",
      "{'source': 'all_processed_data.json', 'seq_num': 1650, 'title': 'Create a profile', 'url': 'https://docs.samsungknox.com/admin/knox-configure/get-started/create-a-profile', 'project': 'KC', 'last_updated': '2023-09-27', 'id': '0b01854e-fac9-4518-b5a4-29d7a584b160'}\n",
      "--------------------------------------------------\n",
      "##############################\n",
      "similar_docs_ensemble\n",
      "##############################\n",
      "\n",
      "Score: 0.00819672131147541\n",
      "['Knox Manage knowledge base articles']\n",
      "{'source': 'all_processed_data.json', 'seq_num': 1223, 'title': 'Knox Manage knowledge base articles', 'url': 'https://docs.samsungknox.com/admin/knox-manage/kbas', 'project': 'KM', 'last_updated': '2023-10-26'}\n",
      "--------------------------------------------------\n",
      "\n",
      "Score: 0.00819672131147541\n",
      "[\". Values wifi ethernet cellular vpn Chrome OS 99 and higher User & Browser To access the following policies, go to Profile details > Modify Policy. #General Policy Description Supported system Maximum user session length Specifies device user session duration. The remaining session time is shown on a countdown timer in the system tray. After the specified time, the user account is automatically signed out and the session ends. Values Enter a session length, in minutes. The value can be 1&ndash;1440 (maximum 24 hours). Chrome OS 99 and higher Custom avatar Sets the user account avatar on the login screen. Values To add an image, click . To inspect the current image, click View. To remove the current image, click Delete. The image file can be JPG or JPEG format and can't exceed 512 KB in size. Chrome OS 99 and higher Custom wallpaper Sets the desktop wallpaper. Values To add an image, click . To inspect the current image, click View. To remove the current image, click Delete\"]\n",
      "{'source': 'all_processed_data.json', 'seq_num': 914, 'title': 'Chrome OS policies', 'url': 'https://docs.samsungknox.com/admin/knox-manage/configure/profile/configure-profile-policies/chrome-os-policies', 'project': 'KM', 'last_updated': '2023-07-26', 'id': 'de3033e6-5124-49e8-baef-9d8d4d0ae8e1'}\n",
      "--------------------------------------------------\n",
      "\n",
      "Score: 0.008064516129032258\n",
      "['. Values Allow users to use Parallels desktop &mdash; Enables Parallels Desktop. When set, you must accept the end-user license agreement. Do not allow users to use Parallels desktop &mdash; Disables Parallels Desktop. Chrome OS 99 and higher Parallels Desktop Windows image The policy set for configuring the Windows OS image that the device user downloads on their Chromebooks in order to use Parallels Desktop. Chrome OS 99 and higher &gt; URL Specifies the address for the Windows image. Values Enter the URL. Chrome OS 99 and higher &gt; SHA-256 hash Specifies the SHA-256 hash of the Windows image. Values Enter the hash. Chrome OS 99 and higher Required disk space Specifies the free disk space required for Parallels Desktop. When deciding on a value, you should take the size of your uncompressed Windows image and add how much space is needed for the additional data or apps you expect to install']\n",
      "{'source': 'all_processed_data.json', 'seq_num': 914, 'title': 'Chrome OS policies', 'url': 'https://docs.samsungknox.com/admin/knox-manage/configure/profile/configure-profile-policies/chrome-os-policies', 'project': 'KM', 'last_updated': '2023-07-26', 'id': 'e9a95f51-692e-414a-95a5-7c060b5e9a83'}\n",
      "--------------------------------------------------\n",
      "CPU times: user 9.2 ms, sys: 100 µs, total: 9.3 ms\n",
      "Wall time: 361 ms\n"
     ]
    }
   ],
   "source": [
    "%%time\n",
    "\n",
    "\n",
    "filter01 = \"[]\"\n",
    "filter02 = \"[]\"\n",
    "\n",
    "# query = \"how to add image\"\n",
    "query = \"How to add image\"\n",
    "\n",
    "search_hybrid_result = search_hybrid(\n",
    "    query=query,\n",
    "    vector_db=vector_db,\n",
    "    k=3,\n",
    "    index_name= index_name,\n",
    "    os_client=os_client,\n",
    "    filter=[\n",
    "        {\"term\": {\"metadata.type\": filter01}},\n",
    "        {\"term\": {\"metadata.source\": filter02}},\n",
    "    ],\n",
    "    Semantic_Search = False,    \n",
    "    Lexical_Search = False,    \n",
    "    Hybrid_Search = True,     \n",
    "    minimum_should_match = 75,   \n",
    "    fusion_algorithm=\"RRF\", # [\"RRF\", \"simple_weighted\"]\n",
    "    ensemble_weights=[.5, .5], # 시멘트 서치에 가중치 0.5 , 키워드 서치 가중치 0.5 부여.\n",
    "    verbose=True\n",
    ")\n",
    "\n"
   ]
  },
  {
   "cell_type": "markdown",
   "metadata": {},
   "source": [
    "# 7. 검증 인덱스 생성"
   ]
  },
  {
   "cell_type": "markdown",
   "metadata": {},
   "source": [
    "## Index 이름 결정"
   ]
  },
  {
   "cell_type": "code",
   "execution_count": 89,
   "metadata": {
    "tags": []
   },
   "outputs": [],
   "source": [
    "eval_index_name = \"genai-poc-knox-cohere-en-eval-1024c-256o-v12\""
   ]
  },
  {
   "cell_type": "markdown",
   "metadata": {},
   "source": [
    "## Sampling"
   ]
  },
  {
   "cell_type": "code",
   "execution_count": 90,
   "metadata": {
    "tags": []
   },
   "outputs": [
    {
     "name": "stdout",
     "output_type": "stream",
     "text": [
      "eval docs:  34\n"
     ]
    },
    {
     "data": {
      "text/plain": [
       "[Document(page_content='AR demo barcodes. Use the following barcodes to test the Knox Capture AR features. Barcode 1 Barcode 2 Barcode 3 Barcode 4 Barcode 5 Barcode 6', metadata={'source': 'all_processed_data.json', 'seq_num': 1, 'title': 'AR demo barcodes', 'url': 'https://docs.samsungknox.com/admin/knox-capture/ar-demo-barcodes', 'project': 'KCAP', 'last_updated': '2023-10-16'}),\n",
       " Document(page_content=\"Videos. This section contains product and how-to videos related to Knox Capture. Getting started with Samsung Knox Capture In this video, we'll show you how to use Samsung Knox Capture to transform your mobile devices into powerful barcode scanners that can read, process, and output barcode data into other applications. Samsung Knox Capture: Enterprise-grade mobile scanning solution in Galaxy device This product intro video shows you how easy it is to transform rugged Samsung devices like the Galaxy XCover Pro into enterprise-grade barcode scanners.\", metadata={'source': 'all_processed_data.json', 'seq_num': 2, 'title': 'Videos', 'url': 'https://docs.samsungknox.com/admin/knox-capture/how-to-videos', 'project': 'KCAP', 'last_updated': '2023-07-26'})]"
      ]
     },
     "execution_count": 90,
     "metadata": {},
     "output_type": "execute_result"
    }
   ],
   "source": [
    "import random\n",
    "def get_sampling_doc(seed, ratio, docs):\n",
    "\n",
    "    random.seed(seed)\n",
    "    \n",
    "    eval_docs = docs[:int(len(docs)*ratio)]\n",
    "    \n",
    "    return eval_docs\n",
    "    \n",
    "eval_docs = get_sampling_doc(seed=200, ratio=0.02, docs= all_docs)\n",
    "print(\"eval docs: \", len(eval_docs))\n",
    "eval_docs[0:2]\n",
    "    \n",
    "    "
   ]
  },
  {
   "cell_type": "code",
   "execution_count": 91,
   "metadata": {
    "tags": []
   },
   "outputs": [
    {
     "name": "stdout",
     "output_type": "stream",
     "text": [
      "Number of chunk_docs after split and chunking= 152\n"
     ]
    }
   ],
   "source": [
    "chunk_docs = text_splitter.split_documents(eval_docs)\n",
    "print(f\"Number of chunk_docs after split and chunking= {len(chunk_docs)}\")"
   ]
  },
  {
   "cell_type": "markdown",
   "metadata": {},
   "source": [
    "## 오픈 서치 인덱스 유무에 따라 삭제\n",
    "오픈 서치에 해당 인덱스가 존재하면, 삭제 합니다. "
   ]
  },
  {
   "cell_type": "code",
   "execution_count": 92,
   "metadata": {
    "tags": []
   },
   "outputs": [
    {
     "name": "stdout",
     "output_type": "stream",
     "text": [
      "index_name=genai-poc-knox-cohere-en-eval-1024c-256o-v12, exists=False\n",
      "\n",
      "Creating index:\n",
      "{'acknowledged': True, 'shards_acknowledged': True, 'index': 'genai-poc-knox-cohere-en-eval-1024c-256o-v12'}\n",
      "Index is created\n",
      "{'genai-poc-knox-cohere-en-eval-1024c-256o-v12': {'aliases': {},\n",
      "                                                  'mappings': {'properties': {'metadata': {'properties': {'last_updated': {'type': 'date'},\n",
      "                                                                                                          'project': {'type': 'keyword'},\n",
      "                                                                                                          'seq_num': {'type': 'long'},\n",
      "                                                                                                          'source': {'type': 'keyword'},\n",
      "                                                                                                          'title': {'type': 'text'},\n",
      "                                                                                                          'url': {'type': 'text'}}},\n",
      "                                                                              'text': {'type': 'text'},\n",
      "                                                                              'vector_field': {'dimension': 1024,\n",
      "                                                                                               'type': 'knn_vector'}}},\n",
      "                                                  'settings': {'index': {'creation_date': '1701148864826',\n",
      "                                                                         'knn': 'true',\n",
      "                                                                         'knn.space_type': 'cosinesimil',\n",
      "                                                                         'number_of_replicas': '2',\n",
      "                                                                         'number_of_shards': '5',\n",
      "                                                                         'provided_name': 'genai-poc-knox-cohere-en-eval-1024c-256o-v12',\n",
      "                                                                         'uuid': 'vf3PiV6CTBqGK7G6SARwNA',\n",
      "                                                                         'version': {'created': '136307827'}}}}}\n"
     ]
    }
   ],
   "source": [
    "index_exists = opensearch_utils.check_if_index_exists(\n",
    "    os_client,\n",
    "    eval_index_name\n",
    ")\n",
    "\n",
    "if index_exists:\n",
    "    opensearch_utils.delete_index(\n",
    "        os_client,\n",
    "        eval_index_name\n",
    "    )\n",
    "    \n",
    "opensearch_utils.create_index(os_client, eval_index_name, index_body)\n",
    "index_info = os_client.indices.get(index=eval_index_name)\n",
    "print(\"Index is created\")\n",
    "pprint(index_info)    "
   ]
  },
  {
   "cell_type": "markdown",
   "metadata": {},
   "source": [
    "## 검증 인덱스 생성"
   ]
  },
  {
   "cell_type": "code",
   "execution_count": 93,
   "metadata": {
    "tags": []
   },
   "outputs": [
    {
     "data": {
      "text/plain": [
       "<langchain.vectorstores.opensearch_vector_search.OpenSearchVectorSearch at 0x7f3b5502f0a0>"
      ]
     },
     "execution_count": 93,
     "metadata": {},
     "output_type": "execute_result"
    }
   ],
   "source": [
    "eval_vector_db = OpenSearchVectorSearch(\n",
    "    index_name= eval_index_name,\n",
    "    opensearch_url=opensearch_domain_endpoint,\n",
    "    embedding_function=llm_emb,\n",
    "    http_auth=http_auth, # http_auth\n",
    "    is_aoss =False,\n",
    "    engine=\"faiss\",\n",
    "    space_type=\"l2\",\n",
    "    bulk_size=100000,\n",
    "    timeout=60    \n",
    ")\n",
    "vector_db"
   ]
  },
  {
   "cell_type": "code",
   "execution_count": 94,
   "metadata": {
    "collapsed": true,
    "jupyter": {
     "outputs_hidden": true
    },
    "tags": []
   },
   "outputs": [
    {
     "name": "stdout",
     "output_type": "stream",
     "text": [
      "CPU times: user 373 ms, sys: 23 ms, total: 396 ms\n",
      "Wall time: 13.6 s\n"
     ]
    },
    {
     "data": {
      "text/plain": [
       "['cb6ae067-e9fd-4384-bd7e-fdd73c45c15a',\n",
       " '3174cb11-7f2a-4340-849c-39cd9feecaee',\n",
       " '9c65e3ba-2f90-409d-bbe4-69a989baf0b7',\n",
       " 'e568d153-7ff9-493b-8546-9a68ec65db8d',\n",
       " '21d6fb37-507d-4f29-8cab-d47b49f31e2c',\n",
       " '8e193206-ae0b-4af4-8fe4-7d8dfb28dd2c',\n",
       " '229d3bea-562f-4d8b-98a4-1da2909af358',\n",
       " '65ae16cb-e10d-4450-a905-63e22cb2cf0c',\n",
       " 'd66506a3-eb62-4a76-baa0-04d7f3a24758',\n",
       " '97308c58-fbc0-42a3-b3cc-bf7b447ce712',\n",
       " '132684d5-0e2d-4a72-93a5-3fd3a347777b',\n",
       " '01885b87-3846-407b-9bd7-2dbe14e8fea3',\n",
       " '7baa35b8-0932-4b6b-87d3-8119a19a8678',\n",
       " '490b2118-dc4b-4a99-901f-2ef9a8451de9',\n",
       " 'a3fac749-8eaa-4b5e-9fe0-9565f4e995d7',\n",
       " 'd7d33ed7-f833-4cd0-b996-63752b4240c6',\n",
       " '678a95a8-99ae-45b7-9b15-ae84c88832de',\n",
       " '95021da4-46f8-46b9-bef5-d3af715b5d8f',\n",
       " '86499f2e-210a-40a5-9877-7ecd521865f8',\n",
       " '3aaf602c-7973-4c77-b0e0-286ab7d90e3f',\n",
       " '2c107ed7-f31f-4c2a-9630-982e28697f4e',\n",
       " '88d30587-b1a4-4213-a928-0cf6bdc71d24',\n",
       " 'b7135bb9-893e-4a44-b64d-fcb88bf8f243',\n",
       " 'd49dc5ae-7e04-4ff7-bcd4-8118bfe16e5b',\n",
       " 'b6e87a56-3690-4298-960e-c77e27576ece',\n",
       " 'ced9183b-a936-4939-abbb-2e378157da74',\n",
       " '3da6accc-65fc-4621-8a81-7e2ae2a1173a',\n",
       " 'e05489da-4c68-4a6d-97de-c8ac6677ffa1',\n",
       " '4c2e6f09-3b5f-492a-ae4f-10d982f6af3e',\n",
       " '400e589e-0eb9-4e99-95c1-42aaeba9239c',\n",
       " '123e3bb0-6d62-4313-a8e0-2b53afd7426b',\n",
       " '6fefa95c-4c13-4792-88d3-e4021841e43a',\n",
       " 'c7b4adf3-f26a-4f0f-a70b-2d19fddc9e01',\n",
       " '56bb5287-a7f4-48c2-b137-bbfae2b837f2',\n",
       " '89bfeb41-e733-479e-992f-e2b5d11a4f75',\n",
       " '2a04bfa8-f21d-4a7f-be9a-84e05c166acc',\n",
       " 'e87cb449-0465-4f7e-af52-a6e26372f3f1',\n",
       " '042c549d-97b6-412f-8c4e-134979f9c076',\n",
       " 'b91784a0-c6aa-4918-afde-3e6d42d8ad33',\n",
       " '33c1a1ca-8a1d-446e-9f4b-196119afad53',\n",
       " 'cfdc9c3c-5515-499d-a6ba-c5e24e431a45',\n",
       " '276fc9a6-46ac-47fb-a2ba-5cfaf223ed72',\n",
       " '4f59e792-6dba-474e-ad63-b84186b76de7',\n",
       " '4a84b616-08dc-4bc3-b7c5-b9b0df41c3ab',\n",
       " '4d6d5c36-9479-4528-8536-56c01cb5008e',\n",
       " 'dd66c175-42a5-46a3-b390-44bf46e48110',\n",
       " 'c94d792f-3565-4b0f-bfa4-7b7936b5081f',\n",
       " '05480c21-fd05-4ba1-b0b5-993db876d958',\n",
       " '7253f0a3-8aa3-4c8e-be0e-32de8de39e5f',\n",
       " '3b7e552a-451a-42bb-80bf-abcc50aa3b34',\n",
       " '6916dafa-ede2-4a51-80c3-dde6f35d004d',\n",
       " '35e2f337-8b32-4cf5-b6eb-a0cf376de6f4',\n",
       " 'e80f5f7d-4c28-4700-9fb0-865ab18080f1',\n",
       " 'a5d8f066-ed6f-4643-a508-498bea531d8f',\n",
       " '538ec9d1-f668-4828-ac63-ee4d5894eb68',\n",
       " '7fe16b8f-41f0-4a83-a4a3-a4caf535391b',\n",
       " 'd491482c-748c-47b3-ad50-a7b7acd8c6b6',\n",
       " 'f406c89a-7e92-4764-871e-c48fc31da93e',\n",
       " '50a3a3b9-a30a-4833-92fa-b13a448a338a',\n",
       " 'b45ca606-aac9-4280-8f72-704867d60bc0',\n",
       " 'ead1ae6f-c7e8-417b-a438-cc0f7d74ceb3',\n",
       " 'c8331338-f1b6-4e8f-a5ce-e3ad879a98ba',\n",
       " '62588186-57d2-4dda-afe8-7f088512e5b7',\n",
       " 'd01a56de-b003-4aca-bdc6-e5fb72f817c7',\n",
       " 'ac9c42a0-05cb-4e8c-8c15-a2faa1128670',\n",
       " 'd2e20616-8bd6-4f8e-8898-8d03665d4db1',\n",
       " 'ecaf8dd6-691b-4a05-b59a-ff09ef09b480',\n",
       " 'ab5b965f-2c1f-4faa-9959-9a15b5f57d66',\n",
       " '133ad82d-69ac-45b2-893b-71a2acb252a0',\n",
       " '3cf754b0-75e1-4bdb-964e-96c1d25e9cf9',\n",
       " 'f42ba161-1878-41be-9b6a-d41861592c3c',\n",
       " '43d5b2bc-8623-442f-b1b1-76a02ccc73da',\n",
       " '761d3eed-aaed-4a08-9574-098677aa4dee',\n",
       " '186f2f38-91b9-4857-ad62-a97c09712c8e',\n",
       " 'd111cfbf-0d4c-431c-b447-1c1c8ef8eb0a',\n",
       " '8e4a8be2-4a91-4483-a55b-10e94f6eb5d5',\n",
       " '176c71aa-7831-47ab-af35-784036073cc1',\n",
       " '85082916-47b7-411b-b803-1aff38629da8',\n",
       " 'bc202187-8bc3-4eb4-b085-50e1d7078ce3',\n",
       " '791958a5-f150-40b8-a345-ca935cc7525a',\n",
       " '16792c97-5698-40ce-b9f4-1c21ff1ecaab',\n",
       " '6a69a1bf-b22f-4849-8296-a2cddc3768b8',\n",
       " 'ab8b0b2e-f37a-49a8-9eef-f2c42a2e0139',\n",
       " '40b2d2ca-e928-4a6a-95a3-228da67f25e6',\n",
       " '5a052189-45b9-456a-953f-4d430fc4777f',\n",
       " '79b542e1-5ae3-41be-8877-dcc86ae663b7',\n",
       " '7826d8e9-5a03-4f90-8888-3729335c718e',\n",
       " '320c8fbd-9d13-4ac6-a321-277d75c88c1c',\n",
       " 'ebb309a2-1af2-4ab7-8c90-25c843308c36',\n",
       " '88048549-137c-4e8c-8262-b86552c06a3d',\n",
       " 'd9d3ead8-495e-43a9-a639-e9f7c997baa3',\n",
       " '33774119-97c4-4cbc-9efa-e1899f84422a',\n",
       " '202efa4f-b6f8-4fb9-bb19-727c0178fc47',\n",
       " '3add35ca-9ced-40b1-96d5-cc2acc3a4584',\n",
       " '418461df-ec52-4b80-a19a-675ecd708bbd',\n",
       " 'ff41e9ca-81d8-4a07-8849-d9a8a0271368',\n",
       " '642dc6d8-92b2-4266-b6ec-e0e5bc4a8c70',\n",
       " '885d57cc-8286-42bb-9856-f7e7a1d98fed',\n",
       " 'eece5aeb-89b0-4dab-b906-d6aae09f265e',\n",
       " '6be805c4-dc46-4a0f-a01b-13818bbbafbc',\n",
       " '9a08a8d9-66b5-4027-ba91-4c568dd7b7fe',\n",
       " '4a0a00a0-c6c8-4f84-9e7c-a09ccfa7d412',\n",
       " 'e7abd812-1668-4612-bd1a-ee613ebac72d',\n",
       " '581e5f96-ae17-49d1-8cd6-638b28cb3a91',\n",
       " 'e298743d-a39b-44a4-baa2-3f61516d7777',\n",
       " '92f85807-92ac-4f9f-a1f6-5ee351384d44',\n",
       " 'e115698e-662f-41ef-b1a6-b2e03a2096fd',\n",
       " '452bc151-b853-4df3-a4d8-9ed1a1f41e69',\n",
       " '85f0ac0a-fe90-4963-ac3d-1f7c156a0f0e',\n",
       " '14ba2855-29c0-48b1-bf16-26485a57a752',\n",
       " 'e963d1e5-484d-4106-9a63-0d812012117e',\n",
       " '66c5e8df-da6a-4bb4-beae-b7087e591d6f',\n",
       " 'a0a376b1-49c9-4058-be24-c893ce03c62e',\n",
       " '827ef092-c148-41b7-b849-a84e0d6c2459',\n",
       " '9f064f42-d64d-4fe7-9a18-316d91fa0d82',\n",
       " 'dfe4820d-d487-449e-b833-1dc1739b6b3f',\n",
       " '4f6c6d76-95f1-412e-8a4c-d96b04ee33fe',\n",
       " '01ccef62-c50f-4146-94d7-dec240f1ae64',\n",
       " '9fa0fc17-021d-46e9-a659-ea44698a6f21',\n",
       " '4206405a-18a0-4fd6-96a9-515535a660a3',\n",
       " '81922057-8928-405e-a2c7-f777debd22de',\n",
       " '222a8dd3-a81f-474f-a821-69ce8a37ea14',\n",
       " 'f1ce5984-a455-4f8a-a468-c9a8f4149d72',\n",
       " '8efffe81-147e-4727-a574-f10d04ec0f0c',\n",
       " 'bcefa49e-807f-45aa-a511-b919c962ff84',\n",
       " '03a6e2fd-37be-4680-9351-a8469391bf80',\n",
       " 'f1650e0c-2649-4d72-b01e-0d582b8cfed3',\n",
       " '848f2185-a913-4a7c-86a8-a72e22ae5c68',\n",
       " 'b72e5d38-ec3d-4ac6-9316-c28feca3b52b',\n",
       " '7873966f-6966-4283-95e9-b20b632faefe',\n",
       " 'e03ab4a8-1ce8-423d-ad5c-e7bbc9e31121',\n",
       " 'c9c430a2-8d30-42ba-9e46-e8f9ebf37718',\n",
       " 'f2eb979e-6c83-45bf-8508-19e7e33a663e',\n",
       " 'f8066e96-392c-42fd-9ec5-f426cfb7ed00',\n",
       " '98d9edf7-cf5f-4503-b1b0-f9f817ad5bed',\n",
       " '765256e1-61b1-4382-a3fe-27ec4f7d678f',\n",
       " 'e3439542-050c-44c0-bc0a-d29c6d77c710',\n",
       " '350d8e20-ad41-4e18-a194-98378b081668',\n",
       " '008b579c-f5b2-4445-ad48-19bc935dae34',\n",
       " 'e9397398-17af-46e0-a24d-7fa1a2ec82d6',\n",
       " 'a3403ee6-4cf7-4825-8504-4f85fe237d0b',\n",
       " '0ec90647-27d9-4889-a293-aac8839d9db7',\n",
       " '5589f62e-61cc-4a9d-8561-de3da79d6ad7',\n",
       " 'cfcc0b19-0d92-4055-af18-8624dfcbb2d3',\n",
       " 'b07149d4-ddcc-4c77-8a7f-6eb408112d5e',\n",
       " '0238f0b5-6b6a-4876-9dd1-f0bc7557b654',\n",
       " '18f87fc9-7c57-4c16-aa7a-50ef45caa0ff',\n",
       " '77142f37-d0d8-4dd0-8625-28a3d3010602',\n",
       " 'd0706bde-264d-40e9-b550-a29a91784d5a',\n",
       " '92d99b5a-ef7e-42fa-bab5-6a42f4ebd276',\n",
       " '922815d2-4f92-45b1-a57a-ea6f4867d85e',\n",
       " '2b264950-f53b-4c0a-bd52-94aba141fc80']"
      ]
     },
     "execution_count": 94,
     "metadata": {},
     "output_type": "execute_result"
    }
   ],
   "source": [
    "%%time\n",
    "\n",
    "eval_vector_db.add_documents(documents = chunk_docs, \n",
    "                        vector_field = \"vector_field\",\n",
    "                        bulk_size = 1000000)\n"
   ]
  },
  {
   "cell_type": "code",
   "execution_count": 95,
   "metadata": {
    "tags": []
   },
   "outputs": [
    {
     "name": "stdout",
     "output_type": "stream",
     "text": [
      "Query: \n",
      " how to add image\n",
      "##############################\n",
      "similar_docs_semantic\n",
      "##############################\n",
      "\n",
      "Score: 1.0\n",
      "['. 2. An app can also be selected by tapping its name, then tapping the All button at the upper-left of the app activities list. Add individual activities visually To add individual apps visually: 1. Within the app activities list page, tap the wand icon in the upper-right corner to launch the visual selection tool. 2. If this is the first time using the visual selection tool, a series of pop-up messages display with information on selecting activities. Tap anywhere on the screen to advance the pop-ups. If the visual selection tool has been previously invoked, the pop-up messages do not display. 3. Navigate within the app to locate an activity. A blue selector overlay (pictured above) displays on each screen to name the activity associated with that screen. Drag this selector around the screen as needed to view the app user interface. 4. To select an activity, tap the radio button next to the activity name within the blue overlay']\n",
      "{'source': 'all_processed_data.json', 'seq_num': 8, 'title': 'Configure apps and activities', 'url': 'https://docs.samsungknox.com/admin/knox-capture/how-to-guides/configure-apps-and-activities', 'project': 'KCAP', 'last_updated': '2023-07-26'}\n",
      "--------------------------------------------------\n",
      "\n",
      "Score: 0.9988238252987939\n",
      "['. This information is presented in a pop-up above the barcode, and contains the following: Title - This is the main text that appears in the pop-up whenever a barcode is scanned. Image - This image appears as a thumbnail in the pop-up, and as a larger image in the product details whenever the user taps the > button. Fields - This information appears in the the product details after the user taps the > button. To configure the AR overlay information: 1. On the AR templates screen, find the template that you want to customize and tap the menu button (three vertical dots), then tap Edit. 2. In Title, select the data that you want to display as the main title in the pop-up. 3. In Image, select how you want the image to appear - whether a thumbnail or full size image - when the user expands the Product details. Note that this step affects the image in the product details. The thumbnail image always appears in the pop-up, regardless of the size you select. 4']\n",
      "{'source': 'all_processed_data.json', 'seq_num': 21, 'title': 'Configure AR', 'url': 'https://docs.samsungknox.com/admin/knox-capture/how-to-guides/ar/configure-ar', 'project': 'KCAP', 'last_updated': '2023-07-26'}\n",
      "--------------------------------------------------\n",
      "\n",
      "Score: 0.9919228562871996\n",
      "['. Drag this selector around the screen as needed to view the app user interface. 4. To select an activity, tap the radio button next to the activity name within the blue overlay. As activities are added, the counter in the overlay, next to the DONE button, increments with each selection. 5. When completed adding activities, tap DONE to navigate back to the app activities list page. Add individual activities from the activities list 1. Locate an activity to add within the app activities list page. If you know the name of the activity, tap the magnifying glass located on the upper-right of the screen to enter a search term. 2. Tap the radio button to the left of each activity you would like to add.']\n",
      "{'source': 'all_processed_data.json', 'seq_num': 8, 'title': 'Configure apps and activities', 'url': 'https://docs.samsungknox.com/admin/knox-capture/how-to-guides/configure-apps-and-activities', 'project': 'KCAP', 'last_updated': '2023-07-26'}\n",
      "--------------------------------------------------\n",
      "lexical search query: \n",
      "{'query': {'bool': {'filter': [],\n",
      "                    'must': [{'match': {'text': {'minimum_should_match': '75%',\n",
      "                                                 'operator': 'or',\n",
      "                                                 'query': 'how to add '\n",
      "                                                          'image'}}}]}},\n",
      " 'size': 3}\n",
      "##############################\n",
      "similar_docs_keyword\n",
      "##############################\n",
      "\n",
      "Score: 1.0\n",
      "['. This information is presented in a pop-up above the barcode, and contains the following: Title - This is the main text that appears in the pop-up whenever a barcode is scanned. Image - This image appears as a thumbnail in the pop-up, and as a larger image in the product details whenever the user taps the > button. Fields - This information appears in the the product details after the user taps the > button. To configure the AR overlay information: 1. On the AR templates screen, find the template that you want to customize and tap the menu button (three vertical dots), then tap Edit. 2. In Title, select the data that you want to display as the main title in the pop-up. 3. In Image, select how you want the image to appear - whether a thumbnail or full size image - when the user expands the Product details. Note that this step affects the image in the product details. The thumbnail image always appears in the pop-up, regardless of the size you select. 4']\n",
      "{'source': 'all_processed_data.json', 'seq_num': 21, 'title': 'Configure AR', 'url': 'https://docs.samsungknox.com/admin/knox-capture/how-to-guides/ar/configure-ar', 'project': 'KCAP', 'last_updated': '2023-07-26', 'id': '581e5f96-ae17-49d1-8cd6-638b28cb3a91'}\n",
      "--------------------------------------------------\n",
      "\n",
      "Score: 0.5958724301096768\n",
      "[\". 2. Scanner engine settings - specifying the barcode technologies (QR, Code 128, UPCA, etc.), scanning methods (single barcode, multi barcode), and camera behavior (enable flash, allow camera zoom). 3. Keystroke output rules - specifying how barcode data gets converted into keystrokes (append Tab or Enter character to each barcode, add prefix or suffix characters, convert output to hex characters, etc.) Default scanning profile Out-of-the-box, Knox Capture includes a default scanning profile that gets automatically associated with all apps on the device. In other words, when Knox Capture is launched, *any* app can trigger the camera scanner and receive barcode data in the form of keystrokes. This makes it easy to use Knox Capture for basic scanning purposes without any additional setup. When using the default scanning profile, IT admins can change the profile's scan engine settings and data processing rules, however they cannot change the default profile's apps and activities behavior\"]\n",
      "{'source': 'all_processed_data.json', 'seq_num': 13, 'title': 'Scanning profiles', 'url': 'https://docs.samsungknox.com/admin/knox-capture/how-to-guides/create-scanning-profiles', 'project': 'KCAP', 'last_updated': '2023-07-26', 'id': '50a3a3b9-a30a-4833-92fa-b13a448a338a'}\n",
      "--------------------------------------------------\n",
      "\n",
      "Score: 0.5107762145710497\n",
      "[\". Step 2: Edit the default profile Tap Default scanning profile to explore and edit the profile settings. Note that you cannot change the profile's App list, as the default scanning profile works with all apps on the device. Review Scanning profiles for more information. Step 3: Change scan engine settings On the Default scanning profile screen, tap Knox Capture in the Scanner field to view or change the scan engine settings. In this example, you'll learn how to: Update the profile's list of supported barcode types. Enable a flashlight button during a barcode scan. To change these scan engine settings: 1. Tap Barcode types, then scroll down to review the selected types. Upon creation, profiles automatically use Code 128, Code 39, DataMatrix, EAN8, Interleaved 2 of 5, QR, UPCA, and UPCE. Add or remove a barcode type of your choice. For best performance, only select the barcode types necessary when creating the profile. 2. Tap Save to return to the Scan engine settings screen. 3\"]\n",
      "{'source': 'all_processed_data.json', 'seq_num': 6, 'title': 'Admin get started', 'url': 'https://docs.samsungknox.com/admin/knox-capture/get-started/admin-tutorial', 'project': 'KCAP', 'last_updated': '2023-07-26', 'id': '678a95a8-99ae-45b7-9b15-ae84c88832de'}\n",
      "--------------------------------------------------\n",
      "##############################\n",
      "similar_docs_ensemble\n",
      "##############################\n",
      "\n",
      "Score: 0.01626123744050767\n",
      "['. This information is presented in a pop-up above the barcode, and contains the following: Title - This is the main text that appears in the pop-up whenever a barcode is scanned. Image - This image appears as a thumbnail in the pop-up, and as a larger image in the product details whenever the user taps the > button. Fields - This information appears in the the product details after the user taps the > button. To configure the AR overlay information: 1. On the AR templates screen, find the template that you want to customize and tap the menu button (three vertical dots), then tap Edit. 2. In Title, select the data that you want to display as the main title in the pop-up. 3. In Image, select how you want the image to appear - whether a thumbnail or full size image - when the user expands the Product details. Note that this step affects the image in the product details. The thumbnail image always appears in the pop-up, regardless of the size you select. 4']\n",
      "{'source': 'all_processed_data.json', 'seq_num': 21, 'title': 'Configure AR', 'url': 'https://docs.samsungknox.com/admin/knox-capture/how-to-guides/ar/configure-ar', 'project': 'KCAP', 'last_updated': '2023-07-26', 'id': '581e5f96-ae17-49d1-8cd6-638b28cb3a91'}\n",
      "--------------------------------------------------\n",
      "\n",
      "Score: 0.00819672131147541\n",
      "['. 2. An app can also be selected by tapping its name, then tapping the All button at the upper-left of the app activities list. Add individual activities visually To add individual apps visually: 1. Within the app activities list page, tap the wand icon in the upper-right corner to launch the visual selection tool. 2. If this is the first time using the visual selection tool, a series of pop-up messages display with information on selecting activities. Tap anywhere on the screen to advance the pop-ups. If the visual selection tool has been previously invoked, the pop-up messages do not display. 3. Navigate within the app to locate an activity. A blue selector overlay (pictured above) displays on each screen to name the activity associated with that screen. Drag this selector around the screen as needed to view the app user interface. 4. To select an activity, tap the radio button next to the activity name within the blue overlay']\n",
      "{'source': 'all_processed_data.json', 'seq_num': 8, 'title': 'Configure apps and activities', 'url': 'https://docs.samsungknox.com/admin/knox-capture/how-to-guides/configure-apps-and-activities', 'project': 'KCAP', 'last_updated': '2023-07-26'}\n",
      "--------------------------------------------------\n",
      "\n",
      "Score: 0.008064516129032258\n",
      "[\". 2. Scanner engine settings - specifying the barcode technologies (QR, Code 128, UPCA, etc.), scanning methods (single barcode, multi barcode), and camera behavior (enable flash, allow camera zoom). 3. Keystroke output rules - specifying how barcode data gets converted into keystrokes (append Tab or Enter character to each barcode, add prefix or suffix characters, convert output to hex characters, etc.) Default scanning profile Out-of-the-box, Knox Capture includes a default scanning profile that gets automatically associated with all apps on the device. In other words, when Knox Capture is launched, *any* app can trigger the camera scanner and receive barcode data in the form of keystrokes. This makes it easy to use Knox Capture for basic scanning purposes without any additional setup. When using the default scanning profile, IT admins can change the profile's scan engine settings and data processing rules, however they cannot change the default profile's apps and activities behavior\"]\n",
      "{'source': 'all_processed_data.json', 'seq_num': 13, 'title': 'Scanning profiles', 'url': 'https://docs.samsungknox.com/admin/knox-capture/how-to-guides/create-scanning-profiles', 'project': 'KCAP', 'last_updated': '2023-07-26', 'id': '50a3a3b9-a30a-4833-92fa-b13a448a338a'}\n",
      "--------------------------------------------------\n",
      "CPU times: user 8.97 ms, sys: 0 ns, total: 8.97 ms\n",
      "Wall time: 98.7 ms\n"
     ]
    }
   ],
   "source": [
    "%%time\n",
    "\n",
    "\n",
    "filter01 = \"[]\"\n",
    "filter02 = \"[]\"\n",
    "\n",
    "query = \"how to add image\"\n",
    "\n",
    "\n",
    "search_hybrid_result = search_hybrid(\n",
    "    query=query,\n",
    "    vector_db= eval_vector_db,\n",
    "    k=3,\n",
    "    index_name= eval_index_name,\n",
    "    os_client=os_client,\n",
    "    filter=[\n",
    "        {\"term\": {\"metadata.type\": filter01}},\n",
    "        {\"term\": {\"metadata.source\": filter02}},\n",
    "    ],\n",
    "    Semantic_Search = False,    \n",
    "    Lexical_Search = False,    \n",
    "    Hybrid_Search = True,     \n",
    "    minimum_should_match = 75,   \n",
    "    fusion_algorithm=\"RRF\", # [\"RRF\", \"simple_weighted\"]\n",
    "    ensemble_weights=[.5, .5], # 시멘트 서치에 가중치 0.5 , 키워드 서치 가중치 0.5 부여.\n",
    "    verbose=True\n",
    ")\n",
    "\n"
   ]
  },
  {
   "cell_type": "markdown",
   "metadata": {},
   "source": [
    "# A. Reference"
   ]
  },
  {
   "cell_type": "markdown",
   "metadata": {},
   "source": [
    "- [Building a RAG AI with OpenSearch Serverless and LangChain](https://caylent.com/blog/building-a-rag-with-open-search-serverless-and-lang-chain)"
   ]
  },
  {
   "cell_type": "code",
   "execution_count": null,
   "metadata": {},
   "outputs": [],
   "source": []
  }
 ],
 "metadata": {
  "availableInstances": [
   {
    "_defaultOrder": 0,
    "_isFastLaunch": true,
    "category": "General purpose",
    "gpuNum": 0,
    "hideHardwareSpecs": false,
    "memoryGiB": 4,
    "name": "ml.t3.medium",
    "vcpuNum": 2
   },
   {
    "_defaultOrder": 1,
    "_isFastLaunch": false,
    "category": "General purpose",
    "gpuNum": 0,
    "hideHardwareSpecs": false,
    "memoryGiB": 8,
    "name": "ml.t3.large",
    "vcpuNum": 2
   },
   {
    "_defaultOrder": 2,
    "_isFastLaunch": false,
    "category": "General purpose",
    "gpuNum": 0,
    "hideHardwareSpecs": false,
    "memoryGiB": 16,
    "name": "ml.t3.xlarge",
    "vcpuNum": 4
   },
   {
    "_defaultOrder": 3,
    "_isFastLaunch": false,
    "category": "General purpose",
    "gpuNum": 0,
    "hideHardwareSpecs": false,
    "memoryGiB": 32,
    "name": "ml.t3.2xlarge",
    "vcpuNum": 8
   },
   {
    "_defaultOrder": 4,
    "_isFastLaunch": true,
    "category": "General purpose",
    "gpuNum": 0,
    "hideHardwareSpecs": false,
    "memoryGiB": 8,
    "name": "ml.m5.large",
    "vcpuNum": 2
   },
   {
    "_defaultOrder": 5,
    "_isFastLaunch": false,
    "category": "General purpose",
    "gpuNum": 0,
    "hideHardwareSpecs": false,
    "memoryGiB": 16,
    "name": "ml.m5.xlarge",
    "vcpuNum": 4
   },
   {
    "_defaultOrder": 6,
    "_isFastLaunch": false,
    "category": "General purpose",
    "gpuNum": 0,
    "hideHardwareSpecs": false,
    "memoryGiB": 32,
    "name": "ml.m5.2xlarge",
    "vcpuNum": 8
   },
   {
    "_defaultOrder": 7,
    "_isFastLaunch": false,
    "category": "General purpose",
    "gpuNum": 0,
    "hideHardwareSpecs": false,
    "memoryGiB": 64,
    "name": "ml.m5.4xlarge",
    "vcpuNum": 16
   },
   {
    "_defaultOrder": 8,
    "_isFastLaunch": false,
    "category": "General purpose",
    "gpuNum": 0,
    "hideHardwareSpecs": false,
    "memoryGiB": 128,
    "name": "ml.m5.8xlarge",
    "vcpuNum": 32
   },
   {
    "_defaultOrder": 9,
    "_isFastLaunch": false,
    "category": "General purpose",
    "gpuNum": 0,
    "hideHardwareSpecs": false,
    "memoryGiB": 192,
    "name": "ml.m5.12xlarge",
    "vcpuNum": 48
   },
   {
    "_defaultOrder": 10,
    "_isFastLaunch": false,
    "category": "General purpose",
    "gpuNum": 0,
    "hideHardwareSpecs": false,
    "memoryGiB": 256,
    "name": "ml.m5.16xlarge",
    "vcpuNum": 64
   },
   {
    "_defaultOrder": 11,
    "_isFastLaunch": false,
    "category": "General purpose",
    "gpuNum": 0,
    "hideHardwareSpecs": false,
    "memoryGiB": 384,
    "name": "ml.m5.24xlarge",
    "vcpuNum": 96
   },
   {
    "_defaultOrder": 12,
    "_isFastLaunch": false,
    "category": "General purpose",
    "gpuNum": 0,
    "hideHardwareSpecs": false,
    "memoryGiB": 8,
    "name": "ml.m5d.large",
    "vcpuNum": 2
   },
   {
    "_defaultOrder": 13,
    "_isFastLaunch": false,
    "category": "General purpose",
    "gpuNum": 0,
    "hideHardwareSpecs": false,
    "memoryGiB": 16,
    "name": "ml.m5d.xlarge",
    "vcpuNum": 4
   },
   {
    "_defaultOrder": 14,
    "_isFastLaunch": false,
    "category": "General purpose",
    "gpuNum": 0,
    "hideHardwareSpecs": false,
    "memoryGiB": 32,
    "name": "ml.m5d.2xlarge",
    "vcpuNum": 8
   },
   {
    "_defaultOrder": 15,
    "_isFastLaunch": false,
    "category": "General purpose",
    "gpuNum": 0,
    "hideHardwareSpecs": false,
    "memoryGiB": 64,
    "name": "ml.m5d.4xlarge",
    "vcpuNum": 16
   },
   {
    "_defaultOrder": 16,
    "_isFastLaunch": false,
    "category": "General purpose",
    "gpuNum": 0,
    "hideHardwareSpecs": false,
    "memoryGiB": 128,
    "name": "ml.m5d.8xlarge",
    "vcpuNum": 32
   },
   {
    "_defaultOrder": 17,
    "_isFastLaunch": false,
    "category": "General purpose",
    "gpuNum": 0,
    "hideHardwareSpecs": false,
    "memoryGiB": 192,
    "name": "ml.m5d.12xlarge",
    "vcpuNum": 48
   },
   {
    "_defaultOrder": 18,
    "_isFastLaunch": false,
    "category": "General purpose",
    "gpuNum": 0,
    "hideHardwareSpecs": false,
    "memoryGiB": 256,
    "name": "ml.m5d.16xlarge",
    "vcpuNum": 64
   },
   {
    "_defaultOrder": 19,
    "_isFastLaunch": false,
    "category": "General purpose",
    "gpuNum": 0,
    "hideHardwareSpecs": false,
    "memoryGiB": 384,
    "name": "ml.m5d.24xlarge",
    "vcpuNum": 96
   },
   {
    "_defaultOrder": 20,
    "_isFastLaunch": false,
    "category": "General purpose",
    "gpuNum": 0,
    "hideHardwareSpecs": true,
    "memoryGiB": 0,
    "name": "ml.geospatial.interactive",
    "supportedImageNames": [
     "sagemaker-geospatial-v1-0"
    ],
    "vcpuNum": 0
   },
   {
    "_defaultOrder": 21,
    "_isFastLaunch": true,
    "category": "Compute optimized",
    "gpuNum": 0,
    "hideHardwareSpecs": false,
    "memoryGiB": 4,
    "name": "ml.c5.large",
    "vcpuNum": 2
   },
   {
    "_defaultOrder": 22,
    "_isFastLaunch": false,
    "category": "Compute optimized",
    "gpuNum": 0,
    "hideHardwareSpecs": false,
    "memoryGiB": 8,
    "name": "ml.c5.xlarge",
    "vcpuNum": 4
   },
   {
    "_defaultOrder": 23,
    "_isFastLaunch": false,
    "category": "Compute optimized",
    "gpuNum": 0,
    "hideHardwareSpecs": false,
    "memoryGiB": 16,
    "name": "ml.c5.2xlarge",
    "vcpuNum": 8
   },
   {
    "_defaultOrder": 24,
    "_isFastLaunch": false,
    "category": "Compute optimized",
    "gpuNum": 0,
    "hideHardwareSpecs": false,
    "memoryGiB": 32,
    "name": "ml.c5.4xlarge",
    "vcpuNum": 16
   },
   {
    "_defaultOrder": 25,
    "_isFastLaunch": false,
    "category": "Compute optimized",
    "gpuNum": 0,
    "hideHardwareSpecs": false,
    "memoryGiB": 72,
    "name": "ml.c5.9xlarge",
    "vcpuNum": 36
   },
   {
    "_defaultOrder": 26,
    "_isFastLaunch": false,
    "category": "Compute optimized",
    "gpuNum": 0,
    "hideHardwareSpecs": false,
    "memoryGiB": 96,
    "name": "ml.c5.12xlarge",
    "vcpuNum": 48
   },
   {
    "_defaultOrder": 27,
    "_isFastLaunch": false,
    "category": "Compute optimized",
    "gpuNum": 0,
    "hideHardwareSpecs": false,
    "memoryGiB": 144,
    "name": "ml.c5.18xlarge",
    "vcpuNum": 72
   },
   {
    "_defaultOrder": 28,
    "_isFastLaunch": false,
    "category": "Compute optimized",
    "gpuNum": 0,
    "hideHardwareSpecs": false,
    "memoryGiB": 192,
    "name": "ml.c5.24xlarge",
    "vcpuNum": 96
   },
   {
    "_defaultOrder": 29,
    "_isFastLaunch": true,
    "category": "Accelerated computing",
    "gpuNum": 1,
    "hideHardwareSpecs": false,
    "memoryGiB": 16,
    "name": "ml.g4dn.xlarge",
    "vcpuNum": 4
   },
   {
    "_defaultOrder": 30,
    "_isFastLaunch": false,
    "category": "Accelerated computing",
    "gpuNum": 1,
    "hideHardwareSpecs": false,
    "memoryGiB": 32,
    "name": "ml.g4dn.2xlarge",
    "vcpuNum": 8
   },
   {
    "_defaultOrder": 31,
    "_isFastLaunch": false,
    "category": "Accelerated computing",
    "gpuNum": 1,
    "hideHardwareSpecs": false,
    "memoryGiB": 64,
    "name": "ml.g4dn.4xlarge",
    "vcpuNum": 16
   },
   {
    "_defaultOrder": 32,
    "_isFastLaunch": false,
    "category": "Accelerated computing",
    "gpuNum": 1,
    "hideHardwareSpecs": false,
    "memoryGiB": 128,
    "name": "ml.g4dn.8xlarge",
    "vcpuNum": 32
   },
   {
    "_defaultOrder": 33,
    "_isFastLaunch": false,
    "category": "Accelerated computing",
    "gpuNum": 4,
    "hideHardwareSpecs": false,
    "memoryGiB": 192,
    "name": "ml.g4dn.12xlarge",
    "vcpuNum": 48
   },
   {
    "_defaultOrder": 34,
    "_isFastLaunch": false,
    "category": "Accelerated computing",
    "gpuNum": 1,
    "hideHardwareSpecs": false,
    "memoryGiB": 256,
    "name": "ml.g4dn.16xlarge",
    "vcpuNum": 64
   },
   {
    "_defaultOrder": 35,
    "_isFastLaunch": false,
    "category": "Accelerated computing",
    "gpuNum": 1,
    "hideHardwareSpecs": false,
    "memoryGiB": 61,
    "name": "ml.p3.2xlarge",
    "vcpuNum": 8
   },
   {
    "_defaultOrder": 36,
    "_isFastLaunch": false,
    "category": "Accelerated computing",
    "gpuNum": 4,
    "hideHardwareSpecs": false,
    "memoryGiB": 244,
    "name": "ml.p3.8xlarge",
    "vcpuNum": 32
   },
   {
    "_defaultOrder": 37,
    "_isFastLaunch": false,
    "category": "Accelerated computing",
    "gpuNum": 8,
    "hideHardwareSpecs": false,
    "memoryGiB": 488,
    "name": "ml.p3.16xlarge",
    "vcpuNum": 64
   },
   {
    "_defaultOrder": 38,
    "_isFastLaunch": false,
    "category": "Accelerated computing",
    "gpuNum": 8,
    "hideHardwareSpecs": false,
    "memoryGiB": 768,
    "name": "ml.p3dn.24xlarge",
    "vcpuNum": 96
   },
   {
    "_defaultOrder": 39,
    "_isFastLaunch": false,
    "category": "Memory Optimized",
    "gpuNum": 0,
    "hideHardwareSpecs": false,
    "memoryGiB": 16,
    "name": "ml.r5.large",
    "vcpuNum": 2
   },
   {
    "_defaultOrder": 40,
    "_isFastLaunch": false,
    "category": "Memory Optimized",
    "gpuNum": 0,
    "hideHardwareSpecs": false,
    "memoryGiB": 32,
    "name": "ml.r5.xlarge",
    "vcpuNum": 4
   },
   {
    "_defaultOrder": 41,
    "_isFastLaunch": false,
    "category": "Memory Optimized",
    "gpuNum": 0,
    "hideHardwareSpecs": false,
    "memoryGiB": 64,
    "name": "ml.r5.2xlarge",
    "vcpuNum": 8
   },
   {
    "_defaultOrder": 42,
    "_isFastLaunch": false,
    "category": "Memory Optimized",
    "gpuNum": 0,
    "hideHardwareSpecs": false,
    "memoryGiB": 128,
    "name": "ml.r5.4xlarge",
    "vcpuNum": 16
   },
   {
    "_defaultOrder": 43,
    "_isFastLaunch": false,
    "category": "Memory Optimized",
    "gpuNum": 0,
    "hideHardwareSpecs": false,
    "memoryGiB": 256,
    "name": "ml.r5.8xlarge",
    "vcpuNum": 32
   },
   {
    "_defaultOrder": 44,
    "_isFastLaunch": false,
    "category": "Memory Optimized",
    "gpuNum": 0,
    "hideHardwareSpecs": false,
    "memoryGiB": 384,
    "name": "ml.r5.12xlarge",
    "vcpuNum": 48
   },
   {
    "_defaultOrder": 45,
    "_isFastLaunch": false,
    "category": "Memory Optimized",
    "gpuNum": 0,
    "hideHardwareSpecs": false,
    "memoryGiB": 512,
    "name": "ml.r5.16xlarge",
    "vcpuNum": 64
   },
   {
    "_defaultOrder": 46,
    "_isFastLaunch": false,
    "category": "Memory Optimized",
    "gpuNum": 0,
    "hideHardwareSpecs": false,
    "memoryGiB": 768,
    "name": "ml.r5.24xlarge",
    "vcpuNum": 96
   },
   {
    "_defaultOrder": 47,
    "_isFastLaunch": false,
    "category": "Accelerated computing",
    "gpuNum": 1,
    "hideHardwareSpecs": false,
    "memoryGiB": 16,
    "name": "ml.g5.xlarge",
    "vcpuNum": 4
   },
   {
    "_defaultOrder": 48,
    "_isFastLaunch": false,
    "category": "Accelerated computing",
    "gpuNum": 1,
    "hideHardwareSpecs": false,
    "memoryGiB": 32,
    "name": "ml.g5.2xlarge",
    "vcpuNum": 8
   },
   {
    "_defaultOrder": 49,
    "_isFastLaunch": false,
    "category": "Accelerated computing",
    "gpuNum": 1,
    "hideHardwareSpecs": false,
    "memoryGiB": 64,
    "name": "ml.g5.4xlarge",
    "vcpuNum": 16
   },
   {
    "_defaultOrder": 50,
    "_isFastLaunch": false,
    "category": "Accelerated computing",
    "gpuNum": 1,
    "hideHardwareSpecs": false,
    "memoryGiB": 128,
    "name": "ml.g5.8xlarge",
    "vcpuNum": 32
   },
   {
    "_defaultOrder": 51,
    "_isFastLaunch": false,
    "category": "Accelerated computing",
    "gpuNum": 1,
    "hideHardwareSpecs": false,
    "memoryGiB": 256,
    "name": "ml.g5.16xlarge",
    "vcpuNum": 64
   },
   {
    "_defaultOrder": 52,
    "_isFastLaunch": false,
    "category": "Accelerated computing",
    "gpuNum": 4,
    "hideHardwareSpecs": false,
    "memoryGiB": 192,
    "name": "ml.g5.12xlarge",
    "vcpuNum": 48
   },
   {
    "_defaultOrder": 53,
    "_isFastLaunch": false,
    "category": "Accelerated computing",
    "gpuNum": 4,
    "hideHardwareSpecs": false,
    "memoryGiB": 384,
    "name": "ml.g5.24xlarge",
    "vcpuNum": 96
   },
   {
    "_defaultOrder": 54,
    "_isFastLaunch": false,
    "category": "Accelerated computing",
    "gpuNum": 8,
    "hideHardwareSpecs": false,
    "memoryGiB": 768,
    "name": "ml.g5.48xlarge",
    "vcpuNum": 192
   },
   {
    "_defaultOrder": 55,
    "_isFastLaunch": false,
    "category": "Accelerated computing",
    "gpuNum": 8,
    "hideHardwareSpecs": false,
    "memoryGiB": 1152,
    "name": "ml.p4d.24xlarge",
    "vcpuNum": 96
   },
   {
    "_defaultOrder": 56,
    "_isFastLaunch": false,
    "category": "Accelerated computing",
    "gpuNum": 8,
    "hideHardwareSpecs": false,
    "memoryGiB": 1152,
    "name": "ml.p4de.24xlarge",
    "vcpuNum": 96
   }
  ],
  "instance_type": "ml.m5.xlarge",
  "kernelspec": {
   "display_name": "Python 3 (Data Science 3.0)",
   "language": "python",
   "name": "python3__SAGEMAKER_INTERNAL__arn:aws:sagemaker:us-east-1:081325390199:image/sagemaker-data-science-310-v1"
  },
  "language_info": {
   "codemirror_mode": {
    "name": "ipython",
    "version": 3
   },
   "file_extension": ".py",
   "mimetype": "text/x-python",
   "name": "python",
   "nbconvert_exporter": "python",
   "pygments_lexer": "ipython3",
   "version": "3.10.6"
  }
 },
 "nbformat": 4,
 "nbformat_minor": 4
}
