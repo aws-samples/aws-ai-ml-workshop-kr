{
 "cells": [
  {
   "cell_type": "markdown",
   "id": "fb017ab4-a16a-4c67-b875-a29eed6aa5bd",
   "metadata": {
    "tags": []
   },
   "source": [
    "# OpenSearch Warming Up (엔덱스 생성, 문서 추가 및 검색)\n",
    ">이 노트북은 SageMaker Studio* Data Science 3.0 kernel 및 ml.t3.medium 인스턴스에서 테스트 되었습니다.\n",
    "\n",
    "\n",
    "\n",
    "여기서는 OpenSearch 가 설치된 것을 가정하고, 한글 형태소 분석기의 사용하는 법을 알려 드립니다.\n",
    "\n",
    "---\n",
    "## Ref: \n",
    "- [Amazon OpenSearch Service로 검색 구현하기](https://catalog.us-east-1.prod.workshops.aws/workshops/de4e38cb-a0d9-4ffe-a777-bf00d498fa49/ko-KR/indexing/blog-reindex)\n",
    "- [OpenSearch Python Client](https://opensearch.org/docs/1.3/clients/python-high-level/)"
   ]
  },
  {
   "cell_type": "markdown",
   "id": "8a2f9c19-c43c-435c-944d-77984b54a6d8",
   "metadata": {},
   "source": [
    "# 1. 환경 세팅"
   ]
  },
  {
   "cell_type": "code",
   "execution_count": 3,
   "id": "787df0f0-7fd9-47ca-a0c3-91b3037d6a10",
   "metadata": {
    "tags": []
   },
   "outputs": [
    {
     "name": "stdout",
     "output_type": "stream",
     "text": [
      "module_path:  /root/aws-ai-ml-workshop-kr/genai/aws-gen-ai-kr/20_applications/02_qa_chatbot/01_preprocess_docs\n"
     ]
    }
   ],
   "source": [
    "%load_ext autoreload\n",
    "%autoreload 2\n",
    "\n",
    "import sys, os\n",
    "module_path = \"../\"\n",
    "sys.path.append(os.path.abspath(module_path))\n",
    "print(\"module_path: \", os.path.abspath(module_path))\n",
    "from utils import print_ww"
   ]
  },
  {
   "cell_type": "markdown",
   "id": "1e6622c3-0d64-4b70-97f6-242f8373e78d",
   "metadata": {
    "tags": []
   },
   "source": [
    "# 2. Bedrock Client 생성"
   ]
  },
  {
   "cell_type": "code",
   "execution_count": 4,
   "id": "97658728-5ebc-4751-8d84-80b3c87dd441",
   "metadata": {
    "tags": []
   },
   "outputs": [
    {
     "name": "stdout",
     "output_type": "stream",
     "text": [
      "Create new client\n",
      "  Using region: us-east-1\n",
      "  Using profile: None\n",
      "boto3 Bedrock client successfully created!\n",
      "bedrock-runtime(https://bedrock-runtime.us-east-1.amazonaws.com)\n",
      "\n",
      "== FM lists ==\n",
      "{'Claude-Instant-V1': 'anthropic.claude-instant-v1',\n",
      " 'Claude-V1': 'anthropic.claude-v1',\n",
      " 'Claude-V2': 'anthropic.claude-v2',\n",
      " 'Command': 'cohere.command-text-v14',\n",
      " 'Jurassic-2-Mid': 'ai21.j2-mid-v1',\n",
      " 'Jurassic-2-Ultra': 'ai21.j2-ultra-v1',\n",
      " 'Llama2-13b-Chat': 'meta.llama2-13b-chat-v1',\n",
      " 'Titan-Embeddings-G1': 'amazon.titan-embed-text-v1',\n",
      " 'Titan-Text-G1': 'TBD'}\n"
     ]
    }
   ],
   "source": [
    "import json\n",
    "import boto3\n",
    "from pprint import pprint\n",
    "from termcolor import colored\n",
    "from utils import bedrock, print_ww\n",
    "from utils.bedrock import bedrock_info\n",
    "\n",
    "# ---- ⚠️ Un-comment and edit the below lines as needed for your AWS setup ⚠️ ----\n",
    "\n",
    "# os.environ[\"AWS_DEFAULT_REGION\"] = \"<REGION_NAME>\"  # E.g. \"us-east-1\"\n",
    "# os.environ[\"AWS_PROFILE\"] = \"<YOUR_PROFILE>\"\n",
    "# os.environ[\"BEDROCK_ASSUME_ROLE\"] = \"<YOUR_ROLE_ARN>\"  # E.g. \"arn:aws:...\"\n",
    "# os.environ[\"BEDROCK_ENDPOINT_URL\"] = \"<YOUR_ENDPOINT_URL>\"  # E.g. \"https://...\"\n",
    "\n",
    "\n",
    "boto3_bedrock = bedrock.get_bedrock_client(\n",
    "    assumed_role=os.environ.get(\"BEDROCK_ASSUME_ROLE\", None),\n",
    "    endpoint_url=os.environ.get(\"BEDROCK_ENDPOINT_URL\", None),\n",
    "    region=os.environ.get(\"AWS_DEFAULT_REGION\", None),\n",
    ")\n",
    "\n",
    "print(colored(\"\\n== FM lists ==\", \"green\"))\n",
    "pprint(bedrock_info.get_list_fm_models())"
   ]
  },
  {
   "cell_type": "markdown",
   "id": "3243969b-703f-48aa-9a10-79ee5ba2786f",
   "metadata": {},
   "source": [
    "# 3. Titan Embedding 모델 로딩"
   ]
  },
  {
   "cell_type": "code",
   "execution_count": 5,
   "id": "06722770-4570-49d6-b584-2014c8e594af",
   "metadata": {
    "tags": []
   },
   "outputs": [
    {
     "data": {
      "text/plain": [
       "BedrockEmbeddings(client=<botocore.client.BedrockRuntime object at 0x7f0b91d7c250>, region_name=None, credentials_profile_name=None, model_id='amazon.titan-embed-text-v1', model_kwargs=None, endpoint_url=None)"
      ]
     },
     "execution_count": 5,
     "metadata": {},
     "output_type": "execute_result"
    }
   ],
   "source": [
    "# We will be using the Titan Embeddings Model to generate our Embeddings.\n",
    "from langchain.embeddings import BedrockEmbeddings\n",
    "from langchain.llms.bedrock import Bedrock\n",
    "\n",
    "llm_emb = BedrockEmbeddings(client=boto3_bedrock)\n",
    "llm_emb"
   ]
  },
  {
   "cell_type": "markdown",
   "id": "f1bdba92-61db-4b1e-8f2d-779dd84763d8",
   "metadata": {},
   "source": [
    "# 4. OpenSearch Client 생성"
   ]
  },
  {
   "cell_type": "markdown",
   "id": "014e98dd-87c3-45b2-8cf0-e1d527214fae",
   "metadata": {
    "tags": []
   },
   "source": [
    "## 오픈 서치 도메인 및 인증 정보 세팅\n",
    "\n",
    "- [langchain.vectorstores.opensearch_vector_search.OpenSearchVectorSearch](https://api.python.langchain.com/en/latest/vectorstores/langchain.vectorstores.opensearch_vector_search.OpenSearchVectorSearch.html)"
   ]
  },
  {
   "cell_type": "code",
   "execution_count": 6,
   "id": "c0048ee6-65b1-4fc9-b954-0d5eaa7dd45e",
   "metadata": {
    "tags": []
   },
   "outputs": [],
   "source": [
    "from utils.proc_docs import get_parameter"
   ]
  },
  {
   "cell_type": "code",
   "execution_count": 7,
   "id": "721df404-4ff9-4460-ac91-630ce840fbd8",
   "metadata": {
    "tags": []
   },
   "outputs": [],
   "source": [
    "import boto3\n",
    "ssm = boto3.client('ssm', 'us-east-1')\n",
    "\n",
    "opensearch_domain_endpoint = get_parameter(\n",
    "    boto3_client = ssm,\n",
    "    parameter_name = 'knox_opensearch_domain_endpoint',\n",
    ")\n",
    "\n",
    "opensearch_user_id = get_parameter(\n",
    "    boto3_client = ssm,\n",
    "    parameter_name = 'knox_opensearch_userid',\n",
    ")\n",
    "\n",
    "opensearch_user_password = get_parameter(\n",
    "    boto3_client = ssm,\n",
    "    parameter_name = 'knox_opensearch_password',\n",
    ")\n"
   ]
  },
  {
   "cell_type": "code",
   "execution_count": 8,
   "id": "49fcccf8-5e08-4893-aabd-356226d3bc0e",
   "metadata": {
    "tags": []
   },
   "outputs": [],
   "source": [
    "opensearch_domain_endpoint = opensearch_domain_endpoint\n",
    "rag_user_name = opensearch_user_id\n",
    "rag_user_password = opensearch_user_password\n",
    "\n",
    "http_auth = (rag_user_name, rag_user_password) # Master username, Master password"
   ]
  },
  {
   "cell_type": "code",
   "execution_count": 9,
   "id": "be08acc5-9d6b-4554-b8fa-df7073a10e0e",
   "metadata": {
    "tags": []
   },
   "outputs": [],
   "source": [
    "from utils.opensearch import opensearch_utils"
   ]
  },
  {
   "cell_type": "code",
   "execution_count": 10,
   "id": "2e847c4d-5438-455a-9304-4942adf53347",
   "metadata": {
    "tags": []
   },
   "outputs": [],
   "source": [
    "aws_region = os.environ.get(\"AWS_DEFAULT_REGION\", None)\n",
    "\n",
    "os_client = opensearch_utils.create_aws_opensearch_client(\n",
    "    aws_region,\n",
    "    opensearch_domain_endpoint,\n",
    "    http_auth\n",
    ")"
   ]
  },
  {
   "cell_type": "markdown",
   "id": "a2cde451-66c0-4daf-84be-1bf8c75f0824",
   "metadata": {
    "tags": []
   },
   "source": [
    "# 5. 디폴트 Index Creation\n",
    "- 간단하게 text 타입으로 title, body 두개의 컬럼으로 구성합니다."
   ]
  },
  {
   "cell_type": "code",
   "execution_count": 10,
   "id": "1d1f5685-8e8f-43a6-84d1-6c7b450f817b",
   "metadata": {
    "tags": []
   },
   "outputs": [],
   "source": [
    "from utils.rag import create_aws_opensearch_client, check_if_index_exists, delete_index\n",
    "from utils.rag import create_index, add_doc, search_document"
   ]
  },
  {
   "cell_type": "markdown",
   "id": "fe5764a4-eb0f-4ad8-8eab-3bdb4c52c76c",
   "metadata": {},
   "source": [
    "## Index 이름 정의"
   ]
  },
  {
   "cell_type": "code",
   "execution_count": 11,
   "id": "a16c64a3-ed6d-479a-bcdb-15b293835926",
   "metadata": {
    "tags": []
   },
   "outputs": [],
   "source": [
    "index_name = 'sm-poc-konx-warming-up-index'"
   ]
  },
  {
   "cell_type": "markdown",
   "id": "b5c7002a-60dc-4cf6-ba60-918189ff362d",
   "metadata": {},
   "source": [
    "## 기존 Index 삭제"
   ]
  },
  {
   "cell_type": "code",
   "execution_count": 12,
   "id": "b117f80c-45e4-479f-8363-596f8df294a4",
   "metadata": {
    "tags": []
   },
   "outputs": [
    {
     "name": "stdout",
     "output_type": "stream",
     "text": [
      "index_name=sm-poc-konx-warming-up-index, exists=True\n",
      "\n",
      "Deleting index:\n",
      "{'acknowledged': True}\n"
     ]
    }
   ],
   "source": [
    "\n",
    "index_exists = opensearch_utils.check_if_index_exists(\n",
    "    os_client,\n",
    "    index_name\n",
    ")\n",
    "\n",
    "if index_exists:\n",
    "    opensearch_utils.delete_index(\n",
    "        os_client,\n",
    "        index_name\n",
    "    )\n",
    "else:\n",
    "    print(\"Index does not exist\")"
   ]
  },
  {
   "cell_type": "markdown",
   "id": "6d825a86-90f7-4cbd-b8da-c1bf11f90c98",
   "metadata": {},
   "source": [
    "## Index 스키마 정의"
   ]
  },
  {
   "cell_type": "code",
   "execution_count": 13,
   "id": "28f6fb41-aa1e-4374-a06d-4aefbca431f6",
   "metadata": {
    "tags": []
   },
   "outputs": [],
   "source": [
    "index_body = {\n",
    "    'settings': {\n",
    "        'index': {\n",
    "            'knn': True,\n",
    "            'knn.space_type': 'cosinesimil'  # Example space type\n",
    "        }\n",
    "    },\n",
    "    'mappings': {\n",
    "        'properties': {\n",
    "            'metadata': {\n",
    "                'properties': {\n",
    "                               'last_updated': {'type': 'date'},\n",
    "                               'project': {'type': 'keyword'},\n",
    "                               'seq_num': {'type': 'long'},\n",
    "                               'title': {'type': 'text'},  # For full-text search\n",
    "                               'url': {'type': 'text'},  # For full-text search\n",
    "                            }\n",
    "            },            \n",
    "            'text': {\n",
    "                'type': 'text'\n",
    "            },\n",
    "            'vector_field': {\n",
    "                'type': 'knn_vector',\n",
    "                'dimension': 3  # Replace with your vector dimension\n",
    "            }\n",
    "        }\n",
    "    }\n",
    "}\n"
   ]
  },
  {
   "cell_type": "code",
   "execution_count": 14,
   "id": "8771bf51-3ca3-4c00-8a72-3050beed7fe3",
   "metadata": {
    "tags": []
   },
   "outputs": [
    {
     "name": "stdout",
     "output_type": "stream",
     "text": [
      "\n",
      "Creating index:\n",
      "{'acknowledged': True, 'shards_acknowledged': True, 'index': 'sm-poc-konx-warming-up-index'}\n"
     ]
    },
    {
     "data": {
      "text/plain": [
       "{'sm-poc-konx-warming-up-index': {'aliases': {},\n",
       "  'mappings': {'properties': {'metadata': {'properties': {'last_updated': {'type': 'date'},\n",
       "      'project': {'type': 'keyword'},\n",
       "      'seq_num': {'type': 'long'},\n",
       "      'title': {'type': 'text'},\n",
       "      'url': {'type': 'text'}}},\n",
       "    'text': {'type': 'text'},\n",
       "    'vector_field': {'type': 'knn_vector', 'dimension': 3}}},\n",
       "  'settings': {'index': {'number_of_shards': '5',\n",
       "    'provided_name': 'sm-poc-konx-warming-up-index',\n",
       "    'knn.space_type': 'cosinesimil',\n",
       "    'knn': 'true',\n",
       "    'creation_date': '1700889212457',\n",
       "    'number_of_replicas': '2',\n",
       "    'uuid': 'fCsjqQ57ROGS2ssHXF7xfA',\n",
       "    'version': {'created': '136307827'}}}}}"
      ]
     },
     "execution_count": 14,
     "metadata": {},
     "output_type": "execute_result"
    }
   ],
   "source": [
    "\n",
    "opensearch_utils.create_index(os_client, index_name, index_body)\n",
    "index_info = os_client.indices.get(index=index_name)\n",
    "index_info"
   ]
  },
  {
   "cell_type": "markdown",
   "id": "df7f1504-7f01-40f8-a7d1-d9a7cf4f5d04",
   "metadata": {},
   "source": [
    "# 6. 디폴트 Index 에 Doc 넣기\n",
    "- 아래와 같이 문서 하나를 추가 합니다."
   ]
  },
  {
   "cell_type": "code",
   "execution_count": 15,
   "id": "8e2c1610-c780-4f8c-b066-e781f468e8b1",
   "metadata": {
    "tags": []
   },
   "outputs": [
    {
     "name": "stdout",
     "output_type": "stream",
     "text": [
      "1536\n"
     ]
    }
   ],
   "source": [
    "text = \"This is a sample text\"\n",
    "text_emb = llm_emb.embed_query(text)\n",
    "print(len(text_emb))"
   ]
  },
  {
   "cell_type": "code",
   "execution_count": 16,
   "id": "b640e7fb-1b99-4988-aeaa-8077845b9790",
   "metadata": {
    "tags": []
   },
   "outputs": [],
   "source": [
    "text_emb = [0.2, 0.3, 0.4]"
   ]
  },
  {
   "cell_type": "code",
   "execution_count": 17,
   "id": "09cb6b5f-93c0-4200-bc75-0e3302e1c78a",
   "metadata": {
    "tags": []
   },
   "outputs": [
    {
     "name": "stdout",
     "output_type": "stream",
     "text": [
      "\n",
      "Adding document:\n",
      "{'_index': 'sm-poc-konx-warming-up-index', '_id': '1', '_version': 1, 'result': 'created', 'forced_refresh': True, '_shards': {'total': 3, 'successful': 3, 'failed': 0}, '_seq_no': 0, '_primary_term': 1}\n"
     ]
    }
   ],
   "source": [
    "# Example document\n",
    "doc_body = {\n",
    "    \"text\": \"This is a sample barcode text\",\n",
    "    \"vector_field\": text_emb,  # Replace with your vector\n",
    "    \"metadata\" : [\n",
    "        {\"last_updated\": \"2022-01-01\", \n",
    "         \"project\": \"sample\", \n",
    "         \"seq_num\": 1, \n",
    "         \"title\": \"sample\", \n",
    "         \"url\": \"\"}\n",
    "    ]\n",
    "}\n",
    "\n",
    "opensearch_utils.add_doc(os_client, index_name, doc_body, id='1')\n"
   ]
  },
  {
   "cell_type": "markdown",
   "id": "ed402bb8-497d-4da6-8a1b-02de77133251",
   "metadata": {},
   "source": [
    "# 7. 문서 검색"
   ]
  },
  {
   "cell_type": "markdown",
   "id": "988d96aa-b6f0-4f13-a075-981c5819ae27",
   "metadata": {},
   "source": [
    "## Lexical 검색"
   ]
  },
  {
   "cell_type": "code",
   "execution_count": 18,
   "id": "66ea8613-e2a9-4b25-adf9-bbde630b1801",
   "metadata": {
    "tags": []
   },
   "outputs": [
    {
     "name": "stdout",
     "output_type": "stream",
     "text": [
      "query:  {'query': {'match': {'text': {'query': 'barcode'}}}}\n"
     ]
    },
    {
     "data": {
      "text/plain": [
       "{'took': 18,\n",
       " 'timed_out': False,\n",
       " '_shards': {'total': 5, 'successful': 5, 'skipped': 0, 'failed': 0},\n",
       " 'hits': {'total': {'value': 1, 'relation': 'eq'},\n",
       "  'max_score': 0.2876821,\n",
       "  'hits': [{'_index': 'sm-poc-konx-warming-up-index',\n",
       "    '_id': '1',\n",
       "    '_score': 0.2876821,\n",
       "    '_source': {'text': 'This is a sample barcode text',\n",
       "     'vector_field': [0.2, 0.3, 0.4],\n",
       "     'metadata': [{'last_updated': '2022-01-01',\n",
       "       'project': 'sample',\n",
       "       'seq_num': 1,\n",
       "       'title': 'sample',\n",
       "       'url': ''}]}}]}}"
      ]
     },
     "execution_count": 18,
     "metadata": {},
     "output_type": "execute_result"
    }
   ],
   "source": [
    "q = 'barcode'\n",
    "query = {\n",
    "  \"query\": {\n",
    "    \"match\": {\n",
    "      \"text\": {\n",
    "        \"query\": f\"{q}\"\n",
    "      }\n",
    "    }\n",
    "  }\n",
    "}\n",
    "print(\"query: \", query)\n",
    "response = opensearch_utils.search_document(os_client, query, index_name)    \n",
    "response"
   ]
  },
  {
   "cell_type": "markdown",
   "id": "c8da905e-2666-45f0-821c-889f7677ef3f",
   "metadata": {},
   "source": [
    "이유는 body의 termvector를 보면 알 수 있는데 출시하고는 term으로 저장되었으나 우리가 원하는 출시에 대해서는 저장되어 있지 않기 때문입니다. 아래의 termvectors Query를 사용해 현재 색인된 문서의 term vector를 확인 할 수 있습니다. Response에서 \"출시하고\"만 저장된 것을 확인하십시요."
   ]
  },
  {
   "cell_type": "markdown",
   "id": "6c955efe-9c25-40eb-ad57-3a12878ed7aa",
   "metadata": {},
   "source": [
    "## Semantic 검색"
   ]
  },
  {
   "cell_type": "code",
   "execution_count": 19,
   "id": "fa820b25-0030-4f38-af52-2a791b4545bf",
   "metadata": {
    "tags": []
   },
   "outputs": [],
   "source": [
    "vector = [0.2, 0.3, 0.4]"
   ]
  },
  {
   "cell_type": "code",
   "execution_count": 20,
   "id": "e8b19930-73ab-426c-88f4-06b36673bb22",
   "metadata": {
    "tags": []
   },
   "outputs": [
    {
     "name": "stdout",
     "output_type": "stream",
     "text": [
      "query:  {'size': 2, 'query': {'script_score': {'query': {'match_all': {}}, 'script': {'source': \"cosineSimilarity(params.query_vector, doc['vector_field']) + 1.0\", 'params': {'query_vector': [0.2, 0.3, 0.4]}}}}}\n"
     ]
    },
    {
     "data": {
      "text/plain": [
       "{'took': 5,\n",
       " 'timed_out': False,\n",
       " '_shards': {'total': 5, 'successful': 5, 'skipped': 0, 'failed': 0},\n",
       " 'hits': {'total': {'value': 1, 'relation': 'eq'},\n",
       "  'max_score': 2.0,\n",
       "  'hits': [{'_index': 'sm-poc-konx-warming-up-index',\n",
       "    '_id': '1',\n",
       "    '_score': 2.0,\n",
       "    '_source': {'text': 'This is a sample barcode text',\n",
       "     'vector_field': [0.2, 0.3, 0.4],\n",
       "     'metadata': [{'last_updated': '2022-01-01',\n",
       "       'project': 'sample',\n",
       "       'seq_num': 1,\n",
       "       'title': 'sample',\n",
       "       'url': ''}]}}]}}"
      ]
     },
     "execution_count": 20,
     "metadata": {},
     "output_type": "execute_result"
    }
   ],
   "source": [
    "query = {\n",
    "  \"size\": 2,  \n",
    "  \"query\": {\n",
    "    \"script_score\": {\n",
    "      \"query\": {\n",
    "        \"match_all\": {}  \n",
    "      },\n",
    "      \"script\": {\n",
    "        \"source\": \"cosineSimilarity(params.query_vector, doc['vector_field']) + 1.0\",\n",
    "        \"params\": {\n",
    "          \"query_vector\": vector  \n",
    "        }\n",
    "      }\n",
    "    }\n",
    "  }\n",
    "}\n",
    "\n",
    "print(\"query: \", query)\n",
    "response = opensearch_utils.search_document(os_client, query, index_name)    \n",
    "response\n"
   ]
  },
  {
   "cell_type": "markdown",
   "id": "887e7096-dd01-4224-b9bf-f382ad324af0",
   "metadata": {},
   "source": [
    "# KNN Test"
   ]
  },
  {
   "cell_type": "code",
   "execution_count": 48,
   "id": "9f67ba33-d09a-4c35-831b-8e13e004d43b",
   "metadata": {
    "tags": []
   },
   "outputs": [],
   "source": [
    "index_name = 'sm-poc-konx-warming-up-index'"
   ]
  },
  {
   "cell_type": "code",
   "execution_count": 49,
   "id": "0b4dbda1-be37-45d4-a096-826138f0916c",
   "metadata": {
    "tags": []
   },
   "outputs": [],
   "source": [
    "index_body = {\n",
    "  \"settings\": {\n",
    "    \"index.knn\": True\n",
    "  },\n",
    "  \"mappings\": {\n",
    "    \"properties\": {\n",
    "      \"my_vector1\": {\n",
    "        \"type\": \"knn_vector\",\n",
    "        \"dimension\": 2\n",
    "      },\n",
    "      \"my_vector2\": {\n",
    "        \"type\": \"knn_vector\",\n",
    "        \"dimension\": 4\n",
    "      }\n",
    "    }\n",
    "  }\n",
    "}\n",
    "\n",
    "    "
   ]
  },
  {
   "cell_type": "code",
   "execution_count": 50,
   "id": "3293a86c-53ec-413e-865f-2c33c0fd5c9c",
   "metadata": {
    "tags": []
   },
   "outputs": [
    {
     "name": "stdout",
     "output_type": "stream",
     "text": [
      "\n",
      "Creating index:\n",
      "{'acknowledged': True, 'shards_acknowledged': True, 'index': 'sm-poc-konx-warming-up-index'}\n",
      "{'sm-poc-konx-warming-up-index': {'aliases': {},\n",
      "                                  'mappings': {'properties': {'my_vector1': {'dimension': 2,\n",
      "                                                                             'type': 'knn_vector'},\n",
      "                                                              'my_vector2': {'dimension': 4,\n",
      "                                                                             'type': 'knn_vector'}}},\n",
      "                                  'settings': {'index': {'creation_date': '1700892958927',\n",
      "                                                         'knn': 'true',\n",
      "                                                         'number_of_replicas': '2',\n",
      "                                                         'number_of_shards': '5',\n",
      "                                                         'provided_name': 'sm-poc-konx-warming-up-index',\n",
      "                                                         'uuid': 'rrRnQYhiQEifVGJV5CyGDA',\n",
      "                                                         'version': {'created': '136307827'}}}}}\n"
     ]
    }
   ],
   "source": [
    "opensearch_utils.create_index(os_client, index_name, index_body)\n",
    "index_info = os_client.indices.get(index=index_name)\n",
    "pprint(index_info)"
   ]
  },
  {
   "cell_type": "code",
   "execution_count": 51,
   "id": "89bac420-b801-452a-8efa-fdb2eed4a5d5",
   "metadata": {
    "tags": []
   },
   "outputs": [
    {
     "name": "stdout",
     "output_type": "stream",
     "text": [
      "\n",
      "Adding document:\n",
      "{'_index': 'sm-poc-konx-warming-up-index', '_id': '1', '_version': 1, 'result': 'created', 'forced_refresh': True, '_shards': {'total': 3, 'successful': 3, 'failed': 0}, '_seq_no': 0, '_primary_term': 1}\n"
     ]
    }
   ],
   "source": [
    "# Example document\n",
    "doc_body = { \"my_vector1\": [1.5, 2.5], \"my_vector2\": [1,2,3,4] }\n",
    "opensearch_utils.add_doc(os_client, index_name, doc_body, id='1')\n"
   ]
  },
  {
   "cell_type": "code",
   "execution_count": 52,
   "id": "c4ad77f6-f2b7-4b51-a524-365e5a8086c4",
   "metadata": {
    "tags": []
   },
   "outputs": [
    {
     "name": "stdout",
     "output_type": "stream",
     "text": [
      "query:  {'size': 2, 'query': {'knn': {'my_vector1': {'vector': [2, 3], 'k': 2}}}}\n"
     ]
    },
    {
     "data": {
      "text/plain": [
       "{'took': 5,\n",
       " 'timed_out': False,\n",
       " '_shards': {'total': 5, 'successful': 5, 'skipped': 0, 'failed': 0},\n",
       " 'hits': {'total': {'value': 1, 'relation': 'eq'},\n",
       "  'max_score': 0.6666667,\n",
       "  'hits': [{'_index': 'my-index-gonsoo',\n",
       "    '_id': '1',\n",
       "    '_score': 0.6666667,\n",
       "    '_source': {'my_vector1': [1.5, 2.5], 'price': 12.2}}]}}"
      ]
     },
     "execution_count": 52,
     "metadata": {},
     "output_type": "execute_result"
    }
   ],
   "source": [
    "query = {\n",
    "  \"size\": 2,\n",
    "  \"query\": {\n",
    "    \"knn\": {\n",
    "      \"my_vector1\": {\n",
    "        \"vector\": [2, 3],\n",
    "        \"k\": 2\n",
    "      }\n",
    "    }\n",
    "  }\n",
    "}\n",
    "    \n",
    "print(\"query: \", query)\n",
    "# response = opensearch_utils.search_document(os_client, query, index_name)    \n",
    "response = opensearch_utils.search_document(os_client, query, index_name=\"my-index-gonsoo\")    \n",
    "response\n"
   ]
  },
  {
   "cell_type": "code",
   "execution_count": null,
   "id": "4d21ac3f-04f8-4aed-a67c-e68e8354476f",
   "metadata": {},
   "outputs": [],
   "source": []
  },
  {
   "cell_type": "code",
   "execution_count": null,
   "id": "b9939f00-8adf-4330-8136-e4e06bb73ff9",
   "metadata": {},
   "outputs": [],
   "source": []
  },
  {
   "cell_type": "markdown",
   "id": "617caca7-95cc-49fe-b01c-c5c4e3f7872f",
   "metadata": {
    "tags": []
   },
   "source": [
    "# 8. 생성된 인덱스 삭제"
   ]
  },
  {
   "cell_type": "code",
   "execution_count": 47,
   "id": "d6869023-f57b-4360-b82c-68b7c6c1bd55",
   "metadata": {},
   "outputs": [
    {
     "name": "stdout",
     "output_type": "stream",
     "text": [
      "index_name=sm-poc-konx-warming-up-index, exists=True\n",
      "\n",
      "Deleting index:\n",
      "{'acknowledged': True}\n"
     ]
    }
   ],
   "source": [
    "index_exists = opensearch_utils.check_if_index_exists(\n",
    "    os_client,\n",
    "    index_name\n",
    ")\n",
    "\n",
    "\n",
    "if index_exists:\n",
    "    opensearch_utils.delete_index(\n",
    "        os_client,\n",
    "        index_name\n",
    "    )\n",
    "else:\n",
    "    print(\"Index does not exist\")    "
   ]
  },
  {
   "cell_type": "code",
   "execution_count": 39,
   "id": "c26bdde5-a236-4397-8a64-a1f6977524f1",
   "metadata": {},
   "outputs": [
    {
     "name": "stdout",
     "output_type": "stream",
     "text": [
      "Stored 'index_name' (str)\n"
     ]
    }
   ],
   "source": [
    "%store index_name"
   ]
  },
  {
   "cell_type": "code",
   "execution_count": 42,
   "id": "40fb1a68-0752-4669-a3dd-7c7ea368da8a",
   "metadata": {
    "tags": []
   },
   "outputs": [
    {
     "name": "stdout",
     "output_type": "stream",
     "text": [
      "{'sm-poc-konx-warming-up-index': {'aliases': {},\n",
      "                                  'mappings': {'properties': {'my_vector1': {'dimension': 2,\n",
      "                                                                             'type': 'knn_vector'},\n",
      "                                                              'my_vector2': {'dimension': 4,\n",
      "                                                                             'type': 'knn_vector'}}},\n",
      "                                  'settings': {'index': {'creation_date': '1700892845726',\n",
      "                                                         'knn': 'true',\n",
      "                                                         'number_of_replicas': '2',\n",
      "                                                         'number_of_shards': '5',\n",
      "                                                         'provided_name': 'sm-poc-konx-warming-up-index',\n",
      "                                                         'uuid': 'kg0exw4LRWeDSIJi1nDBDA',\n",
      "                                                         'version': {'created': '136307827'}}}}}\n"
     ]
    }
   ],
   "source": [
    "index_info = os_client.indices.get(index=index_name)\n",
    "pprint(index_info)"
   ]
  },
  {
   "cell_type": "code",
   "execution_count": 34,
   "id": "c7027bf4-dad9-436a-ad2f-5e083e1b5800",
   "metadata": {
    "tags": []
   },
   "outputs": [
    {
     "name": "stdout",
     "output_type": "stream",
     "text": [
      "{'my-index-gonsoo': {'aliases': {},\n",
      "                     'mappings': {'properties': {'my_vector1': {'dimension': 2,\n",
      "                                                                'type': 'knn_vector'},\n",
      "                                                 'my_vector2': {'dimension': 4,\n",
      "                                                                'type': 'knn_vector'},\n",
      "                                                 'price': {'type': 'float'}}},\n",
      "                     'settings': {'index': {'creation_date': '1700892062269',\n",
      "                                            'knn': 'true',\n",
      "                                            'number_of_replicas': '2',\n",
      "                                            'number_of_shards': '5',\n",
      "                                            'provided_name': 'my-index-gonsoo',\n",
      "                                            'uuid': 'LwKSNNmHQTWHA3v4_chjzA',\n",
      "                                            'version': {'created': '136307827'}}}}}\n"
     ]
    }
   ],
   "source": [
    "index_info = os_client.indices.get(index=\"my-index-gonsoo\")\n",
    "pprint(index_info)"
   ]
  },
  {
   "cell_type": "code",
   "execution_count": null,
   "id": "edae1b69-ebb8-46f5-9abf-f92aa0aea7d8",
   "metadata": {},
   "outputs": [],
   "source": []
  }
 ],
 "metadata": {
  "availableInstances": [
   {
    "_defaultOrder": 0,
    "_isFastLaunch": true,
    "category": "General purpose",
    "gpuNum": 0,
    "hideHardwareSpecs": false,
    "memoryGiB": 4,
    "name": "ml.t3.medium",
    "vcpuNum": 2
   },
   {
    "_defaultOrder": 1,
    "_isFastLaunch": false,
    "category": "General purpose",
    "gpuNum": 0,
    "hideHardwareSpecs": false,
    "memoryGiB": 8,
    "name": "ml.t3.large",
    "vcpuNum": 2
   },
   {
    "_defaultOrder": 2,
    "_isFastLaunch": false,
    "category": "General purpose",
    "gpuNum": 0,
    "hideHardwareSpecs": false,
    "memoryGiB": 16,
    "name": "ml.t3.xlarge",
    "vcpuNum": 4
   },
   {
    "_defaultOrder": 3,
    "_isFastLaunch": false,
    "category": "General purpose",
    "gpuNum": 0,
    "hideHardwareSpecs": false,
    "memoryGiB": 32,
    "name": "ml.t3.2xlarge",
    "vcpuNum": 8
   },
   {
    "_defaultOrder": 4,
    "_isFastLaunch": true,
    "category": "General purpose",
    "gpuNum": 0,
    "hideHardwareSpecs": false,
    "memoryGiB": 8,
    "name": "ml.m5.large",
    "vcpuNum": 2
   },
   {
    "_defaultOrder": 5,
    "_isFastLaunch": false,
    "category": "General purpose",
    "gpuNum": 0,
    "hideHardwareSpecs": false,
    "memoryGiB": 16,
    "name": "ml.m5.xlarge",
    "vcpuNum": 4
   },
   {
    "_defaultOrder": 6,
    "_isFastLaunch": false,
    "category": "General purpose",
    "gpuNum": 0,
    "hideHardwareSpecs": false,
    "memoryGiB": 32,
    "name": "ml.m5.2xlarge",
    "vcpuNum": 8
   },
   {
    "_defaultOrder": 7,
    "_isFastLaunch": false,
    "category": "General purpose",
    "gpuNum": 0,
    "hideHardwareSpecs": false,
    "memoryGiB": 64,
    "name": "ml.m5.4xlarge",
    "vcpuNum": 16
   },
   {
    "_defaultOrder": 8,
    "_isFastLaunch": false,
    "category": "General purpose",
    "gpuNum": 0,
    "hideHardwareSpecs": false,
    "memoryGiB": 128,
    "name": "ml.m5.8xlarge",
    "vcpuNum": 32
   },
   {
    "_defaultOrder": 9,
    "_isFastLaunch": false,
    "category": "General purpose",
    "gpuNum": 0,
    "hideHardwareSpecs": false,
    "memoryGiB": 192,
    "name": "ml.m5.12xlarge",
    "vcpuNum": 48
   },
   {
    "_defaultOrder": 10,
    "_isFastLaunch": false,
    "category": "General purpose",
    "gpuNum": 0,
    "hideHardwareSpecs": false,
    "memoryGiB": 256,
    "name": "ml.m5.16xlarge",
    "vcpuNum": 64
   },
   {
    "_defaultOrder": 11,
    "_isFastLaunch": false,
    "category": "General purpose",
    "gpuNum": 0,
    "hideHardwareSpecs": false,
    "memoryGiB": 384,
    "name": "ml.m5.24xlarge",
    "vcpuNum": 96
   },
   {
    "_defaultOrder": 12,
    "_isFastLaunch": false,
    "category": "General purpose",
    "gpuNum": 0,
    "hideHardwareSpecs": false,
    "memoryGiB": 8,
    "name": "ml.m5d.large",
    "vcpuNum": 2
   },
   {
    "_defaultOrder": 13,
    "_isFastLaunch": false,
    "category": "General purpose",
    "gpuNum": 0,
    "hideHardwareSpecs": false,
    "memoryGiB": 16,
    "name": "ml.m5d.xlarge",
    "vcpuNum": 4
   },
   {
    "_defaultOrder": 14,
    "_isFastLaunch": false,
    "category": "General purpose",
    "gpuNum": 0,
    "hideHardwareSpecs": false,
    "memoryGiB": 32,
    "name": "ml.m5d.2xlarge",
    "vcpuNum": 8
   },
   {
    "_defaultOrder": 15,
    "_isFastLaunch": false,
    "category": "General purpose",
    "gpuNum": 0,
    "hideHardwareSpecs": false,
    "memoryGiB": 64,
    "name": "ml.m5d.4xlarge",
    "vcpuNum": 16
   },
   {
    "_defaultOrder": 16,
    "_isFastLaunch": false,
    "category": "General purpose",
    "gpuNum": 0,
    "hideHardwareSpecs": false,
    "memoryGiB": 128,
    "name": "ml.m5d.8xlarge",
    "vcpuNum": 32
   },
   {
    "_defaultOrder": 17,
    "_isFastLaunch": false,
    "category": "General purpose",
    "gpuNum": 0,
    "hideHardwareSpecs": false,
    "memoryGiB": 192,
    "name": "ml.m5d.12xlarge",
    "vcpuNum": 48
   },
   {
    "_defaultOrder": 18,
    "_isFastLaunch": false,
    "category": "General purpose",
    "gpuNum": 0,
    "hideHardwareSpecs": false,
    "memoryGiB": 256,
    "name": "ml.m5d.16xlarge",
    "vcpuNum": 64
   },
   {
    "_defaultOrder": 19,
    "_isFastLaunch": false,
    "category": "General purpose",
    "gpuNum": 0,
    "hideHardwareSpecs": false,
    "memoryGiB": 384,
    "name": "ml.m5d.24xlarge",
    "vcpuNum": 96
   },
   {
    "_defaultOrder": 20,
    "_isFastLaunch": false,
    "category": "General purpose",
    "gpuNum": 0,
    "hideHardwareSpecs": true,
    "memoryGiB": 0,
    "name": "ml.geospatial.interactive",
    "supportedImageNames": [
     "sagemaker-geospatial-v1-0"
    ],
    "vcpuNum": 0
   },
   {
    "_defaultOrder": 21,
    "_isFastLaunch": true,
    "category": "Compute optimized",
    "gpuNum": 0,
    "hideHardwareSpecs": false,
    "memoryGiB": 4,
    "name": "ml.c5.large",
    "vcpuNum": 2
   },
   {
    "_defaultOrder": 22,
    "_isFastLaunch": false,
    "category": "Compute optimized",
    "gpuNum": 0,
    "hideHardwareSpecs": false,
    "memoryGiB": 8,
    "name": "ml.c5.xlarge",
    "vcpuNum": 4
   },
   {
    "_defaultOrder": 23,
    "_isFastLaunch": false,
    "category": "Compute optimized",
    "gpuNum": 0,
    "hideHardwareSpecs": false,
    "memoryGiB": 16,
    "name": "ml.c5.2xlarge",
    "vcpuNum": 8
   },
   {
    "_defaultOrder": 24,
    "_isFastLaunch": false,
    "category": "Compute optimized",
    "gpuNum": 0,
    "hideHardwareSpecs": false,
    "memoryGiB": 32,
    "name": "ml.c5.4xlarge",
    "vcpuNum": 16
   },
   {
    "_defaultOrder": 25,
    "_isFastLaunch": false,
    "category": "Compute optimized",
    "gpuNum": 0,
    "hideHardwareSpecs": false,
    "memoryGiB": 72,
    "name": "ml.c5.9xlarge",
    "vcpuNum": 36
   },
   {
    "_defaultOrder": 26,
    "_isFastLaunch": false,
    "category": "Compute optimized",
    "gpuNum": 0,
    "hideHardwareSpecs": false,
    "memoryGiB": 96,
    "name": "ml.c5.12xlarge",
    "vcpuNum": 48
   },
   {
    "_defaultOrder": 27,
    "_isFastLaunch": false,
    "category": "Compute optimized",
    "gpuNum": 0,
    "hideHardwareSpecs": false,
    "memoryGiB": 144,
    "name": "ml.c5.18xlarge",
    "vcpuNum": 72
   },
   {
    "_defaultOrder": 28,
    "_isFastLaunch": false,
    "category": "Compute optimized",
    "gpuNum": 0,
    "hideHardwareSpecs": false,
    "memoryGiB": 192,
    "name": "ml.c5.24xlarge",
    "vcpuNum": 96
   },
   {
    "_defaultOrder": 29,
    "_isFastLaunch": true,
    "category": "Accelerated computing",
    "gpuNum": 1,
    "hideHardwareSpecs": false,
    "memoryGiB": 16,
    "name": "ml.g4dn.xlarge",
    "vcpuNum": 4
   },
   {
    "_defaultOrder": 30,
    "_isFastLaunch": false,
    "category": "Accelerated computing",
    "gpuNum": 1,
    "hideHardwareSpecs": false,
    "memoryGiB": 32,
    "name": "ml.g4dn.2xlarge",
    "vcpuNum": 8
   },
   {
    "_defaultOrder": 31,
    "_isFastLaunch": false,
    "category": "Accelerated computing",
    "gpuNum": 1,
    "hideHardwareSpecs": false,
    "memoryGiB": 64,
    "name": "ml.g4dn.4xlarge",
    "vcpuNum": 16
   },
   {
    "_defaultOrder": 32,
    "_isFastLaunch": false,
    "category": "Accelerated computing",
    "gpuNum": 1,
    "hideHardwareSpecs": false,
    "memoryGiB": 128,
    "name": "ml.g4dn.8xlarge",
    "vcpuNum": 32
   },
   {
    "_defaultOrder": 33,
    "_isFastLaunch": false,
    "category": "Accelerated computing",
    "gpuNum": 4,
    "hideHardwareSpecs": false,
    "memoryGiB": 192,
    "name": "ml.g4dn.12xlarge",
    "vcpuNum": 48
   },
   {
    "_defaultOrder": 34,
    "_isFastLaunch": false,
    "category": "Accelerated computing",
    "gpuNum": 1,
    "hideHardwareSpecs": false,
    "memoryGiB": 256,
    "name": "ml.g4dn.16xlarge",
    "vcpuNum": 64
   },
   {
    "_defaultOrder": 35,
    "_isFastLaunch": false,
    "category": "Accelerated computing",
    "gpuNum": 1,
    "hideHardwareSpecs": false,
    "memoryGiB": 61,
    "name": "ml.p3.2xlarge",
    "vcpuNum": 8
   },
   {
    "_defaultOrder": 36,
    "_isFastLaunch": false,
    "category": "Accelerated computing",
    "gpuNum": 4,
    "hideHardwareSpecs": false,
    "memoryGiB": 244,
    "name": "ml.p3.8xlarge",
    "vcpuNum": 32
   },
   {
    "_defaultOrder": 37,
    "_isFastLaunch": false,
    "category": "Accelerated computing",
    "gpuNum": 8,
    "hideHardwareSpecs": false,
    "memoryGiB": 488,
    "name": "ml.p3.16xlarge",
    "vcpuNum": 64
   },
   {
    "_defaultOrder": 38,
    "_isFastLaunch": false,
    "category": "Accelerated computing",
    "gpuNum": 8,
    "hideHardwareSpecs": false,
    "memoryGiB": 768,
    "name": "ml.p3dn.24xlarge",
    "vcpuNum": 96
   },
   {
    "_defaultOrder": 39,
    "_isFastLaunch": false,
    "category": "Memory Optimized",
    "gpuNum": 0,
    "hideHardwareSpecs": false,
    "memoryGiB": 16,
    "name": "ml.r5.large",
    "vcpuNum": 2
   },
   {
    "_defaultOrder": 40,
    "_isFastLaunch": false,
    "category": "Memory Optimized",
    "gpuNum": 0,
    "hideHardwareSpecs": false,
    "memoryGiB": 32,
    "name": "ml.r5.xlarge",
    "vcpuNum": 4
   },
   {
    "_defaultOrder": 41,
    "_isFastLaunch": false,
    "category": "Memory Optimized",
    "gpuNum": 0,
    "hideHardwareSpecs": false,
    "memoryGiB": 64,
    "name": "ml.r5.2xlarge",
    "vcpuNum": 8
   },
   {
    "_defaultOrder": 42,
    "_isFastLaunch": false,
    "category": "Memory Optimized",
    "gpuNum": 0,
    "hideHardwareSpecs": false,
    "memoryGiB": 128,
    "name": "ml.r5.4xlarge",
    "vcpuNum": 16
   },
   {
    "_defaultOrder": 43,
    "_isFastLaunch": false,
    "category": "Memory Optimized",
    "gpuNum": 0,
    "hideHardwareSpecs": false,
    "memoryGiB": 256,
    "name": "ml.r5.8xlarge",
    "vcpuNum": 32
   },
   {
    "_defaultOrder": 44,
    "_isFastLaunch": false,
    "category": "Memory Optimized",
    "gpuNum": 0,
    "hideHardwareSpecs": false,
    "memoryGiB": 384,
    "name": "ml.r5.12xlarge",
    "vcpuNum": 48
   },
   {
    "_defaultOrder": 45,
    "_isFastLaunch": false,
    "category": "Memory Optimized",
    "gpuNum": 0,
    "hideHardwareSpecs": false,
    "memoryGiB": 512,
    "name": "ml.r5.16xlarge",
    "vcpuNum": 64
   },
   {
    "_defaultOrder": 46,
    "_isFastLaunch": false,
    "category": "Memory Optimized",
    "gpuNum": 0,
    "hideHardwareSpecs": false,
    "memoryGiB": 768,
    "name": "ml.r5.24xlarge",
    "vcpuNum": 96
   },
   {
    "_defaultOrder": 47,
    "_isFastLaunch": false,
    "category": "Accelerated computing",
    "gpuNum": 1,
    "hideHardwareSpecs": false,
    "memoryGiB": 16,
    "name": "ml.g5.xlarge",
    "vcpuNum": 4
   },
   {
    "_defaultOrder": 48,
    "_isFastLaunch": false,
    "category": "Accelerated computing",
    "gpuNum": 1,
    "hideHardwareSpecs": false,
    "memoryGiB": 32,
    "name": "ml.g5.2xlarge",
    "vcpuNum": 8
   },
   {
    "_defaultOrder": 49,
    "_isFastLaunch": false,
    "category": "Accelerated computing",
    "gpuNum": 1,
    "hideHardwareSpecs": false,
    "memoryGiB": 64,
    "name": "ml.g5.4xlarge",
    "vcpuNum": 16
   },
   {
    "_defaultOrder": 50,
    "_isFastLaunch": false,
    "category": "Accelerated computing",
    "gpuNum": 1,
    "hideHardwareSpecs": false,
    "memoryGiB": 128,
    "name": "ml.g5.8xlarge",
    "vcpuNum": 32
   },
   {
    "_defaultOrder": 51,
    "_isFastLaunch": false,
    "category": "Accelerated computing",
    "gpuNum": 1,
    "hideHardwareSpecs": false,
    "memoryGiB": 256,
    "name": "ml.g5.16xlarge",
    "vcpuNum": 64
   },
   {
    "_defaultOrder": 52,
    "_isFastLaunch": false,
    "category": "Accelerated computing",
    "gpuNum": 4,
    "hideHardwareSpecs": false,
    "memoryGiB": 192,
    "name": "ml.g5.12xlarge",
    "vcpuNum": 48
   },
   {
    "_defaultOrder": 53,
    "_isFastLaunch": false,
    "category": "Accelerated computing",
    "gpuNum": 4,
    "hideHardwareSpecs": false,
    "memoryGiB": 384,
    "name": "ml.g5.24xlarge",
    "vcpuNum": 96
   },
   {
    "_defaultOrder": 54,
    "_isFastLaunch": false,
    "category": "Accelerated computing",
    "gpuNum": 8,
    "hideHardwareSpecs": false,
    "memoryGiB": 768,
    "name": "ml.g5.48xlarge",
    "vcpuNum": 192
   },
   {
    "_defaultOrder": 55,
    "_isFastLaunch": false,
    "category": "Accelerated computing",
    "gpuNum": 8,
    "hideHardwareSpecs": false,
    "memoryGiB": 1152,
    "name": "ml.p4d.24xlarge",
    "vcpuNum": 96
   },
   {
    "_defaultOrder": 56,
    "_isFastLaunch": false,
    "category": "Accelerated computing",
    "gpuNum": 8,
    "hideHardwareSpecs": false,
    "memoryGiB": 1152,
    "name": "ml.p4de.24xlarge",
    "vcpuNum": 96
   }
  ],
  "instance_type": "ml.m5.xlarge",
  "kernelspec": {
   "display_name": "Python 3 (Data Science 3.0)",
   "language": "python",
   "name": "python3__SAGEMAKER_INTERNAL__arn:aws:sagemaker:us-east-1:081325390199:image/sagemaker-data-science-310-v1"
  },
  "language_info": {
   "codemirror_mode": {
    "name": "ipython",
    "version": 3
   },
   "file_extension": ".py",
   "mimetype": "text/x-python",
   "name": "python",
   "nbconvert_exporter": "python",
   "pygments_lexer": "ipython3",
   "version": "3.10.6"
  }
 },
 "nbformat": 4,
 "nbformat_minor": 5
}
