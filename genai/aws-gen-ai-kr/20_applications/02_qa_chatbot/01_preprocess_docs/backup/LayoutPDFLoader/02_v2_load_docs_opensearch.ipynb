{
 "cells": [
  {
   "cell_type": "markdown",
   "metadata": {
    "tags": []
   },
   "source": [
    "# Vector Store 구축 - V2\n",
    "\n",
    "---\n",
    "\n",
    "---"
   ]
  },
  {
   "cell_type": "markdown",
   "metadata": {
    "tags": []
   },
   "source": [
    "# 1. Bedrock Client 생성"
   ]
  },
  {
   "cell_type": "code",
   "execution_count": 24,
   "metadata": {
    "tags": []
   },
   "outputs": [
    {
     "name": "stdout",
     "output_type": "stream",
     "text": [
      "langchain                            0.0.335\n",
      "opensearch-py                        2.3.2\n",
      "pypdf                                3.17.0\n"
     ]
    }
   ],
   "source": [
    "! pip list | grep langchain # 0.0.312\n",
    "! pip list | grep opensearch # 2.3.2\n",
    "! pip list | grep pypdf"
   ]
  },
  {
   "cell_type": "code",
   "execution_count": 25,
   "metadata": {
    "tags": []
   },
   "outputs": [
    {
     "name": "stdout",
     "output_type": "stream",
     "text": [
      "The autoreload extension is already loaded. To reload it, use:\n",
      "  %reload_ext autoreload\n",
      "/root/aws-ai-ml-workshop-kr/genai/aws-gen-ai-kr/20_applications/02_qa_chatbot/01_preprocess_docs/utils\n"
     ]
    }
   ],
   "source": [
    "%load_ext autoreload\n",
    "%autoreload 2\n",
    "\n",
    "import sys, os\n",
    "# module_path = \"../../../utils\"\n",
    "# sys.path.append(os.path.abspath(module_path))\n",
    "# print(os.path.abspath(module_path))\n",
    "\n",
    "module_path = \"./utils\"\n",
    "sys.path.append(os.path.abspath(module_path))\n",
    "print(os.path.abspath(module_path))"
   ]
  },
  {
   "cell_type": "code",
   "execution_count": 26,
   "metadata": {
    "tags": []
   },
   "outputs": [
    {
     "name": "stdout",
     "output_type": "stream",
     "text": [
      "Create new client\n",
      "  Using region: us-east-1\n",
      "  Using profile: None\n",
      "boto3 Bedrock client successfully created!\n",
      "bedrock-runtime(https://bedrock-runtime.us-east-1.amazonaws.com)\n",
      "\n",
      "== FM lists ==\n",
      "{'Claude-Instant-V1': 'anthropic.claude-instant-v1',\n",
      " 'Claude-V1': 'anthropic.claude-v1',\n",
      " 'Claude-V2': 'anthropic.claude-v2',\n",
      " 'Command': 'cohere.command-text-v14',\n",
      " 'Jurassic-2-Mid': 'ai21.j2-mid-v1',\n",
      " 'Jurassic-2-Ultra': 'ai21.j2-ultra-v1',\n",
      " 'Titan-Embeddings-G1': 'amazon.titan-embed-text-v1',\n",
      " 'Titan-Text-G1': 'TBD'}\n"
     ]
    }
   ],
   "source": [
    "import json\n",
    "import boto3\n",
    "from pprint import pprint\n",
    "from termcolor import colored\n",
    "from utils import bedrock, print_ww\n",
    "from utils.bedrock import bedrock_info\n",
    "\n",
    "# ---- ⚠️ Un-comment and edit the below lines as needed for your AWS setup ⚠️ ----\n",
    "\n",
    "# os.environ[\"AWS_DEFAULT_REGION\"] = \"<REGION_NAME>\"  # E.g. \"us-east-1\"\n",
    "# os.environ[\"AWS_PROFILE\"] = \"<YOUR_PROFILE>\"\n",
    "# os.environ[\"BEDROCK_ASSUME_ROLE\"] = \"<YOUR_ROLE_ARN>\"  # E.g. \"arn:aws:...\"\n",
    "# os.environ[\"BEDROCK_ENDPOINT_URL\"] = \"<YOUR_ENDPOINT_URL>\"  # E.g. \"https://...\"\n",
    "\n",
    "\n",
    "boto3_bedrock = bedrock.get_bedrock_client(\n",
    "    assumed_role=os.environ.get(\"BEDROCK_ASSUME_ROLE\", None),\n",
    "    endpoint_url=os.environ.get(\"BEDROCK_ENDPOINT_URL\", None),\n",
    "    region=os.environ.get(\"AWS_DEFAULT_REGION\", None),\n",
    ")\n",
    "\n",
    "print(colored(\"\\n== FM lists ==\", \"green\"))\n",
    "pprint(bedrock_info.get_list_fm_models())"
   ]
  },
  {
   "cell_type": "markdown",
   "metadata": {},
   "source": [
    "# 2. Titan Embedding 모델 로딩"
   ]
  },
  {
   "cell_type": "code",
   "execution_count": 27,
   "metadata": {
    "tags": []
   },
   "outputs": [
    {
     "data": {
      "text/plain": [
       "BedrockEmbeddings(client=<botocore.client.BedrockRuntime object at 0x7f69d9217160>, region_name=None, credentials_profile_name=None, model_id='amazon.titan-embed-text-v1', model_kwargs=None, endpoint_url=None)"
      ]
     },
     "execution_count": 27,
     "metadata": {},
     "output_type": "execute_result"
    }
   ],
   "source": [
    "# We will be using the Titan Embeddings Model to generate our Embeddings.\n",
    "from langchain.embeddings import BedrockEmbeddings\n",
    "from langchain.llms.bedrock import Bedrock\n",
    "\n",
    "llm_emb = BedrockEmbeddings(client=boto3_bedrock)\n",
    "llm_emb"
   ]
  },
  {
   "cell_type": "markdown",
   "metadata": {},
   "source": [
    "## Index 이름 결정"
   ]
  },
  {
   "cell_type": "code",
   "execution_count": 53,
   "metadata": {
    "tags": []
   },
   "outputs": [],
   "source": [
    "index_name = \"genai-demo-knox-v2\""
   ]
  },
  {
   "cell_type": "markdown",
   "metadata": {},
   "source": [
    "# 3. PDF Loading\n"
   ]
  },
  {
   "cell_type": "markdown",
   "metadata": {},
   "source": [
    "### Ref:\n",
    "- Git: https://github.com/nlmatics/llmsherpa\n",
    "- Blog: https://blog.llamaindex.ai/mastering-pdfs-extracting-sections-headings-paragraphs-and-tables-with-cutting-edge-parser-faea18870125\n",
    "- Sample code: https://github.com/dongjin-ml/amazon-bedrock-workshop-webinar-kr/blob/main/04_Chatbot/01_Option_KR_Chatbot_Claude_Hybrid_Search.ipynb\n"
   ]
  },
  {
   "cell_type": "code",
   "execution_count": 54,
   "metadata": {
    "tags": []
   },
   "outputs": [],
   "source": [
    "import numpy as np\n",
    "from langchain.text_splitter import CharacterTextSplitter, RecursiveCharacterTextSplitter\n",
    "from langchain.document_loaders import PyPDFLoader, PyPDFDirectoryLoader\n",
    "\n",
    "pdf_url = \"data/knox/\"\n",
    "\n",
    "loader = PyPDFDirectoryLoader(pdf_url)\n",
    "\n",
    "documents = loader.load()\n",
    "# - in our testing Character split works better with this PDF data set\n",
    "text_splitter = RecursiveCharacterTextSplitter(\n",
    "    # Set a really small chunk size, just to show.\n",
    "    chunk_size = 512,\n",
    "    chunk_overlap  = 128,\n",
    "    separators=[\"\\n\\n\", \"\\n\", \".\", \" \", \"\"],    \n",
    ")\n",
    "docs = text_splitter.split_documents(documents)"
   ]
  },
  {
   "cell_type": "code",
   "execution_count": 55,
   "metadata": {
    "tags": []
   },
   "outputs": [
    {
     "name": "stdout",
     "output_type": "stream",
     "text": [
      "Number of chunked documents after split and chunking = 263\n",
      "page_content='Whitepaper:\\nSamsung KnoxTM\\nSecurity Solution\\nVersion 2.2 May, 2017\\nSamsung  Research America\\nSamsung Electronics Co., Ltd.' metadata={'source': 'data/knox/SamsungKnoxSecuritySolution.pdf', 'page': 0}\n"
     ]
    }
   ],
   "source": [
    "print(f\"Number of chunked documents after split and chunking = {len(docs)}\")\n",
    "print (docs[0])"
   ]
  },
  {
   "cell_type": "code",
   "execution_count": 56,
   "metadata": {
    "tags": []
   },
   "outputs": [],
   "source": [
    "from langchain.indexes import VectorstoreIndexCreator\n",
    "from langchain.vectorstores import FAISS"
   ]
  },
  {
   "cell_type": "markdown",
   "metadata": {
    "tags": []
   },
   "source": [
    "# 4. LangChain OpenSearch VectorStore 생성 \n",
    "## 선수 조건\n"
   ]
  },
  {
   "cell_type": "markdown",
   "metadata": {
    "tags": []
   },
   "source": [
    "## 오픈 서치 도메인 및 인증 정보 세팅\n",
    "\n",
    "- [langchain.vectorstores.opensearch_vector_search.OpenSearchVectorSearch](https://api.python.langchain.com/en/latest/vectorstores/langchain.vectorstores.opensearch_vector_search.OpenSearchVectorSearch.html)"
   ]
  },
  {
   "cell_type": "markdown",
   "metadata": {},
   "source": [
    "#### [중요] 아래에 aws parameter store 에 아래 인증정보가 먼저 입력되어 있어야 합니다."
   ]
  },
  {
   "cell_type": "code",
   "execution_count": 57,
   "metadata": {
    "tags": []
   },
   "outputs": [],
   "source": [
    "from utils.proc_docs import get_parameter"
   ]
  },
  {
   "cell_type": "code",
   "execution_count": 58,
   "metadata": {
    "tags": []
   },
   "outputs": [],
   "source": [
    "import boto3\n",
    "ssm = boto3.client('ssm', 'us-east-1')\n",
    "\n",
    "opensearch_domain_endpoint = get_parameter(\n",
    "    boto3_client = ssm,\n",
    "    parameter_name = 'knox_opensearch_domain_endpoint',\n",
    ")\n",
    "\n",
    "opensearch_user_id = get_parameter(\n",
    "    boto3_client = ssm,\n",
    "    parameter_name = 'knox_opensearch_userid',\n",
    ")\n",
    "\n",
    "opensearch_user_password = get_parameter(\n",
    "    boto3_client = ssm,\n",
    "    parameter_name = 'knox_opensearch_password',\n",
    ")\n"
   ]
  },
  {
   "cell_type": "code",
   "execution_count": 59,
   "metadata": {
    "tags": []
   },
   "outputs": [],
   "source": [
    "opensearch_domain_endpoint = opensearch_domain_endpoint\n",
    "rag_user_name = opensearch_user_id\n",
    "rag_user_password = opensearch_user_password\n",
    "\n",
    "http_auth = (rag_user_name, rag_user_password) # Master username, Master password"
   ]
  },
  {
   "cell_type": "markdown",
   "metadata": {},
   "source": [
    "## OpenSearch Client 생성"
   ]
  },
  {
   "cell_type": "code",
   "execution_count": 60,
   "metadata": {
    "tags": []
   },
   "outputs": [],
   "source": [
    "from utils.opensearch import opensearch_utils"
   ]
  },
  {
   "cell_type": "code",
   "execution_count": 61,
   "metadata": {
    "tags": []
   },
   "outputs": [],
   "source": [
    "aws_region = os.environ.get(\"AWS_DEFAULT_REGION\", None)\n",
    "\n",
    "os_client = opensearch_utils.create_aws_opensearch_client(\n",
    "    aws_region,\n",
    "    opensearch_domain_endpoint,\n",
    "    http_auth\n",
    ")"
   ]
  },
  {
   "cell_type": "markdown",
   "metadata": {},
   "source": [
    "## 오픈 서치 인덱스 유무에 따라 삭제\n",
    "오픈 서치에 해당 인덱스가 존재하면, 삭제 합니다. "
   ]
  },
  {
   "cell_type": "code",
   "execution_count": 62,
   "metadata": {
    "tags": []
   },
   "outputs": [],
   "source": [
    "from utils.opensearch import opensearch_utils"
   ]
  },
  {
   "cell_type": "code",
   "execution_count": 63,
   "metadata": {
    "tags": []
   },
   "outputs": [
    {
     "name": "stdout",
     "output_type": "stream",
     "text": [
      "index_name=genai-demo-knox-v2, exists=False\n",
      "Index does not exist\n"
     ]
    }
   ],
   "source": [
    "os_client = opensearch_utils.create_aws_opensearch_client(\n",
    "    aws_region,\n",
    "    opensearch_domain_endpoint,\n",
    "    http_auth\n",
    ")\n",
    "\n",
    "index_exists = opensearch_utils.check_if_index_exists(\n",
    "    os_client,\n",
    "    index_name\n",
    ")\n",
    "\n",
    "if index_exists:\n",
    "    opensearch_utils.delete_index(\n",
    "        os_client,\n",
    "        index_name\n",
    "    )\n",
    "else:\n",
    "    print(\"Index does not exist\")"
   ]
  },
  {
   "cell_type": "code",
   "execution_count": 64,
   "metadata": {
    "tags": []
   },
   "outputs": [],
   "source": [
    "from langchain.vectorstores import OpenSearchVectorSearch"
   ]
  },
  {
   "cell_type": "code",
   "execution_count": 65,
   "metadata": {
    "tags": []
   },
   "outputs": [
    {
     "name": "stdout",
     "output_type": "stream",
     "text": [
      "CPU times: user 187 ms, sys: 8.65 ms, total: 196 ms\n",
      "Wall time: 6.84 s\n"
     ]
    }
   ],
   "source": [
    "%%time\n",
    "# by default langchain would create a k-NN index and the embeddings would be ingested as a k-NN vector type\n",
    "docsearch = OpenSearchVectorSearch.from_documents(\n",
    "    index_name=index_name,\n",
    "    documents=documents,\n",
    "    embedding=llm_emb,\n",
    "    opensearch_url=opensearch_domain_endpoint,\n",
    "    http_auth=http_auth,\n",
    "    bulk_size=10000,\n",
    "    timeout=60\n",
    ")"
   ]
  },
  {
   "cell_type": "markdown",
   "metadata": {},
   "source": [
    "## 인덱스 확인"
   ]
  },
  {
   "cell_type": "code",
   "execution_count": 66,
   "metadata": {
    "tags": []
   },
   "outputs": [
    {
     "name": "stdout",
     "output_type": "stream",
     "text": [
      "{'genai-demo-knox-v2': {'aliases': {},\n",
      "                        'mappings': {'properties': {'metadata': {'properties': {'page': {'type': 'long'},\n",
      "                                                                                'source': {'fields': {'keyword': {'ignore_above': 256,\n",
      "                                                                                                                  'type': 'keyword'}},\n",
      "                                                                                           'type': 'text'}}},\n",
      "                                                    'text': {'fields': {'keyword': {'ignore_above': 256,\n",
      "                                                                                    'type': 'keyword'}},\n",
      "                                                             'type': 'text'},\n",
      "                                                    'vector_field': {'dimension': 1536,\n",
      "                                                                     'method': {'engine': 'nmslib',\n",
      "                                                                                'name': 'hnsw',\n",
      "                                                                                'parameters': {'ef_construction': 512,\n",
      "                                                                                               'm': 16},\n",
      "                                                                                'space_type': 'l2'},\n",
      "                                                                     'type': 'knn_vector'}}},\n",
      "                        'settings': {'index': {'creation_date': '1699963746794',\n",
      "                                               'knn': 'true',\n",
      "                                               'knn.algo_param': {'ef_search': '512'},\n",
      "                                               'number_of_replicas': '2',\n",
      "                                               'number_of_shards': '5',\n",
      "                                               'provided_name': 'genai-demo-knox-v2',\n",
      "                                               'uuid': 'Rb8hg2S4S822bd9pks4i0g',\n",
      "                                               'version': {'created': '136307827'}}}}}\n"
     ]
    }
   ],
   "source": [
    "index_info = os_client.indices.get(index=index_name)\n",
    "pprint(index_info)"
   ]
  },
  {
   "cell_type": "markdown",
   "metadata": {
    "tags": []
   },
   "source": [
    "### 인덱싱 수정하기 (형태소 분석기 사용 enablement)"
   ]
  },
  {
   "cell_type": "code",
   "execution_count": 67,
   "metadata": {
    "tags": []
   },
   "outputs": [
    {
     "data": {
      "text/plain": [
       "'genai-demo-knox-v2-nori-tokenizer'"
      ]
     },
     "execution_count": 67,
     "metadata": {},
     "output_type": "execute_result"
    }
   ],
   "source": [
    "new_index_name = f'{index_name}-nori-tokenizer'\n",
    "new_index_name"
   ]
  },
  {
   "cell_type": "code",
   "execution_count": 68,
   "metadata": {
    "tags": []
   },
   "outputs": [],
   "source": [
    "tokenizer = \"nori\" #[\"nori\", \"seunjeon\"]\n",
    "analyzer_config = {\n",
    "    \"tokenizer\": tokenizer, \n",
    "    \"tokenizer_type\": f'{tokenizer}_tokenizer',\n",
    "    \"char_filter\": [\"html_strip\"],\n",
    "    \"filter\": [\"nori_number\", \"nori_readingform\", \"lowercase\"],\n",
    "    \"decompound_mode\": \"mixed\",\n",
    "    \"discard_punctuation\": \"true\",\n",
    "    #\"user_dictionary_rules\": [\"c++\", \"워라밸\", \"먹방\"],\n",
    "    #\"user_dictionary\": \"analyzers/F255700190\"\n",
    "}"
   ]
  },
  {
   "cell_type": "code",
   "execution_count": 69,
   "metadata": {
    "tags": []
   },
   "outputs": [],
   "source": [
    "index_info[index_name][\"settings\"][\"analysis\"] = {\n",
    "    \"tokenizer\": {\n",
    "        analyzer_config[\"tokenizer\"]: {\n",
    "            \"type\": analyzer_config[\"tokenizer_type\"],\n",
    "            \"decompound_mode\": analyzer_config[\"decompound_mode\"],\n",
    "            \"discard_punctuation\": analyzer_config[\"discard_punctuation\"],\n",
    "            #\"user_dictionary_rules\": analyzer_config[\"user_dictionary_rules\"],\n",
    "            #\"user_dictionary\": analyzer_config[\"user_dictionary\"],\n",
    "        }\n",
    "    },\n",
    "    \"analyzer\": {\n",
    "        \"my_analyzer\": {\n",
    "            \"type\": \"custom\",\n",
    "            \"tokenizer\": analyzer_config[\"tokenizer\"],\n",
    "            \"char_filter\": analyzer_config[\"char_filter\"],\n",
    "            \"filter\": analyzer_config[\"filter\"],\n",
    "        }\n",
    "    }\n",
    "}\n",
    "\n",
    "# Setting for Columns to be adapted by Tokenizer (tokenizer가 적용될 컬럼에 맞춰서 수정)\n",
    "index_info[index_name][\"mappings\"][\"properties\"][\"text\"][\"analyzer\"] = \"my_analyzer\"\n",
    "index_info[index_name][\"mappings\"][\"properties\"][\"text\"][\"search_analyzer\"] = \"my_analyzer\"\n",
    "\n",
    "# Setting for vector index column (변경 없음)\n",
    "index_info[index_name][\"settings\"][\"index\"] = {\n",
    "    \"number_of_shards\": \"5\",\n",
    "    \"knn.algo_param\": {\"ef_search\": \"512\"},\n",
    "    \"knn\": \"true\",\n",
    "    \"number_of_replicas\": \"2\"\n",
    "}\n",
    "del index_info[index_name][\"aliases\"]\n",
    "new_index_info = index_info[index_name]"
   ]
  },
  {
   "cell_type": "code",
   "execution_count": 70,
   "metadata": {
    "tags": []
   },
   "outputs": [
    {
     "name": "stdout",
     "output_type": "stream",
     "text": [
      "{'mappings': {'properties': {'metadata': {'properties': {'page': {'type': 'long'},\n",
      "                                                         'source': {'fields': {'keyword': {'ignore_above': 256,\n",
      "                                                                                           'type': 'keyword'}},\n",
      "                                                                    'type': 'text'}}},\n",
      "                             'text': {'analyzer': 'my_analyzer',\n",
      "                                      'fields': {'keyword': {'ignore_above': 256,\n",
      "                                                             'type': 'keyword'}},\n",
      "                                      'search_analyzer': 'my_analyzer',\n",
      "                                      'type': 'text'},\n",
      "                             'vector_field': {'dimension': 1536,\n",
      "                                              'method': {'engine': 'nmslib',\n",
      "                                                         'name': 'hnsw',\n",
      "                                                         'parameters': {'ef_construction': 512,\n",
      "                                                                        'm': 16},\n",
      "                                                         'space_type': 'l2'},\n",
      "                                              'type': 'knn_vector'}}},\n",
      " 'settings': {'analysis': {'analyzer': {'my_analyzer': {'char_filter': ['html_strip'],\n",
      "                                                        'filter': ['nori_number',\n",
      "                                                                   'nori_readingform',\n",
      "                                                                   'lowercase'],\n",
      "                                                        'tokenizer': 'nori',\n",
      "                                                        'type': 'custom'}},\n",
      "                           'tokenizer': {'nori': {'decompound_mode': 'mixed',\n",
      "                                                  'discard_punctuation': 'true',\n",
      "                                                  'type': 'nori_tokenizer'}}},\n",
      "              'index': {'knn': 'true',\n",
      "                        'knn.algo_param': {'ef_search': '512'},\n",
      "                        'number_of_replicas': '2',\n",
      "                        'number_of_shards': '5'}}}\n"
     ]
    }
   ],
   "source": [
    "pprint(new_index_info)"
   ]
  },
  {
   "cell_type": "markdown",
   "metadata": {},
   "source": [
    "### 형태소 분석기용 인덱서 생성"
   ]
  },
  {
   "cell_type": "code",
   "execution_count": 80,
   "metadata": {
    "tags": []
   },
   "outputs": [
    {
     "name": "stdout",
     "output_type": "stream",
     "text": [
      "index_name=genai-demo-knox-v2-nori-tokenizer, exists=True\n",
      "\n",
      "Deleting index:\n",
      "{'acknowledged': True}\n"
     ]
    }
   ],
   "source": [
    "index_exists = opensearch_utils.check_if_index_exists(os_client, new_index_name)\n",
    "if index_exists:\n",
    "    opensearch_utils.delete_index(os_client, new_index_name)\n",
    "else:\n",
    "    print(\"Index does not exist\")"
   ]
  },
  {
   "cell_type": "markdown",
   "metadata": {
    "tags": []
   },
   "source": [
    "### Re-indexing"
   ]
  },
  {
   "cell_type": "code",
   "execution_count": 81,
   "metadata": {
    "tags": []
   },
   "outputs": [
    {
     "name": "stdout",
     "output_type": "stream",
     "text": [
      "_reindex: \n",
      " {'source': {'index': 'genai-demo-knox-v2'}, 'dest': {'index': 'genai-demo-knox-v2-nori-tokenizer'}}\n"
     ]
    }
   ],
   "source": [
    "_reindex = {\n",
    "    \"source\": {\"index\": index_name},\n",
    "    \"dest\": {\"index\": new_index_name}\n",
    "}\n",
    "print(\"_reindex: \\n\", _reindex)"
   ]
  },
  {
   "cell_type": "code",
   "execution_count": 82,
   "metadata": {
    "tags": []
   },
   "outputs": [
    {
     "data": {
      "text/plain": [
       "{'took': 497,\n",
       " 'timed_out': False,\n",
       " 'total': 59,\n",
       " 'updated': 0,\n",
       " 'created': 59,\n",
       " 'deleted': 0,\n",
       " 'batches': 1,\n",
       " 'version_conflicts': 0,\n",
       " 'noops': 0,\n",
       " 'retries': {'bulk': 0, 'search': 0},\n",
       " 'throttled_millis': 0,\n",
       " 'requests_per_second': -1.0,\n",
       " 'throttled_until_millis': 0,\n",
       " 'failures': []}"
      ]
     },
     "execution_count": 82,
     "metadata": {},
     "output_type": "execute_result"
    }
   ],
   "source": [
    "os_client.reindex(_reindex)"
   ]
  },
  {
   "cell_type": "markdown",
   "metadata": {
    "tags": []
   },
   "source": [
    "## 랭체인 인덱스 연결 오브젝트 생성\n",
    "\n",
    "- [langchain.vectorstores.opensearch_vector_search.OpenSearchVectorSearch](https://api.python.langchain.com/en/latest/vectorstores/langchain.vectorstores.opensearch_vector_search.OpenSearchVectorSearch.html)"
   ]
  },
  {
   "cell_type": "code",
   "execution_count": 83,
   "metadata": {
    "tags": []
   },
   "outputs": [
    {
     "data": {
      "text/plain": [
       "<langchain.vectorstores.opensearch_vector_search.OpenSearchVectorSearch at 0x7f69d92164d0>"
      ]
     },
     "execution_count": 83,
     "metadata": {},
     "output_type": "execute_result"
    }
   ],
   "source": [
    "vector_db = OpenSearchVectorSearch(\n",
    "    index_name=new_index_name,\n",
    "    opensearch_url=opensearch_domain_endpoint,\n",
    "    embedding_function=llm_emb,\n",
    "    http_auth=http_auth, # http_auth\n",
    "    is_aoss =False,\n",
    "    engine=\"faiss\",\n",
    "    space_type=\"l2\"\n",
    ")\n",
    "vector_db"
   ]
  },
  {
   "cell_type": "code",
   "execution_count": 86,
   "metadata": {
    "tags": []
   },
   "outputs": [
    {
     "name": "stdout",
     "output_type": "stream",
     "text": [
      "query:  {'query': {'bool': {'must': [{'match': {'text': {'query': 'knox', 'minimum_should_match': '0%', 'operator': 'or'}}}], 'filter': []}}}\n",
      "# of searched docs:  10\n",
      "# of display: 1\n",
      "---------------------\n",
      "_id in index:  9dc71798-f1b5-43c6-8cb3-de64edfa688a\n",
      "0.19861393\n",
      "Whitepaper\n",
      "Samsung Knox Security Solution\n",
      "22\n",
      "CSfCAn ever increasing number of Samsung devices have been listed in the NSA/\n",
      "CSS's  (CSfC) for approved security \n",
      "components.\n",
      "ANSSISamsung Knox has obtained ö rst-level security \n",
      " (CSPN) from the\n",
      " (ANSSI). The CSPN methodology and criteria is de ö ned by ANSSI \n",
      "with evaluations run by ANSSI accredited testing labs.\n",
      "ISCCCSamsung Knox received the security solution certi ö cate from the China \n",
      "(ISCCC). Samsung worked closely with \n",
      "ISCCC to develop the certi ö cation process, including device requirements and \n",
      "security standards. By securing the critical ISCCC certi ö cation, Samsung has \n",
      "a stronger foothold to garner mobile device contracts with China’s regulated \n",
      "industries, including government authorities, ministries, and ö nance.\n",
      "CESG ApprovedThe  (CESG) approved Knox-\n",
      "enabled Android devices for United Kingdom government use.\n",
      "FICORASamsung Knox devices ful ö ll national security requirements as de ö ned by the \n",
      "Finnish National Security Auditing Criteria (KATAKRI II). \n",
      "ASDAustralian  Signals Directorate is approved for ASD UNCLASSIFIED via MDFPP \n",
      "recognition.\n",
      "NOTE:  For the most recent Samsung Knox certi ö cations, go to:  \n",
      "https://www.samsungknox.com/en/security-certi ö cationsCertiﬁ  cations\n",
      "{'source': 'data/knox/SamsungKnoxSecuritySolution.pdf', 'page': 21}\n",
      "---------------------\n"
     ]
    }
   ],
   "source": [
    "query = \"knox\"\n",
    "query = opensearch_utils.get_query(\n",
    "    query=query\n",
    ")\n",
    "\n",
    "print(\"query: \", query)\n",
    "response = opensearch_utils.search_document(os_client, query, index_name)\n",
    "opensearch_utils.parse_keyword_response(response, show_size=1)"
   ]
  },
  {
   "cell_type": "code",
   "execution_count": null,
   "metadata": {},
   "outputs": [],
   "source": []
  },
  {
   "cell_type": "markdown",
   "metadata": {
    "tags": []
   },
   "source": [
    "# 5.오픈 서치에 \"유사 서치\" 검색\n",
    "- query 를 제공해서 실제로 유사한 내용이 검색이 되는지를 확인 합니다.\n",
    "\n"
   ]
  },
  {
   "cell_type": "code",
   "execution_count": 87,
   "metadata": {
    "tags": []
   },
   "outputs": [],
   "source": [
    "from langchain.chains.question_answering import load_qa_chain\n",
    "from utils.rag import get_semantic_similar_docs, get_lexical_similar_docs, get_ensemble_results"
   ]
  },
  {
   "cell_type": "code",
   "execution_count": 88,
   "metadata": {
    "tags": []
   },
   "outputs": [],
   "source": [
    "import copy\n",
    "from langchain.schema import Document\n",
    "from langchain import PromptTemplate\n",
    "from operator import itemgetter"
   ]
  },
  {
   "cell_type": "code",
   "execution_count": 89,
   "metadata": {
    "tags": []
   },
   "outputs": [],
   "source": [
    "from utils.proc_docs import search_hybrid"
   ]
  },
  {
   "cell_type": "markdown",
   "metadata": {},
   "source": [
    "### 아래가 원하는 정답 입니다.\n",
    "\n",
    "![DM-Verify.png](img/DM-Verify.png)"
   ]
  },
  {
   "cell_type": "code",
   "execution_count": 95,
   "metadata": {
    "tags": []
   },
   "outputs": [
    {
     "data": {
      "text/plain": [
       "<langchain.vectorstores.opensearch_vector_search.OpenSearchVectorSearch at 0x7f69d858eb90>"
      ]
     },
     "execution_count": 95,
     "metadata": {},
     "output_type": "execute_result"
    }
   ],
   "source": [
    "vector_db_old = OpenSearchVectorSearch(\n",
    "    index_name= index_name,\n",
    "    opensearch_url=opensearch_domain_endpoint,\n",
    "    embedding_function=llm_emb,\n",
    "    http_auth=http_auth, # http_auth\n",
    "    is_aoss =False,\n",
    "    engine=\"faiss\",\n",
    "    space_type=\"l2\"\n",
    ")\n",
    "vector_db_old"
   ]
  },
  {
   "cell_type": "code",
   "execution_count": 97,
   "metadata": {
    "tags": []
   },
   "outputs": [
    {
     "data": {
      "text/plain": [
       "[(Document(page_content=\"Whitepaper\\nSamsung Knox Security Solution\\n35\\nexamines the values to be written to make sure they do not maliciously \\nescalate the privileges of their corresponding user process. Determining \\nif a user process is legitimately entitled to an escalated privilege, such \\nas the administrative privilege, is accomplished by combining multiple \\ntechniques. For example, RKP prevents processes that start with regular \\nuser privilege from escalating their privilege after they start. Additionally, \\nprocesses started by applications that interface with potential attackers, \\nsuch as zygote and shell, are not allowed an escalated privilege. Finally, RKP \\nadds a check to the kernel security hooks to verify a credential structure \\nactually belongs to the read-only memory protected by RKP before it \\ndetermines the privilege of the user process. Therefore, it is guaranteed \\nthat a potential attacker cannot forge a malicious instance of the credential \\nstructures that are not monitored and veri ö ed by RKP.\\nFor detailed information on RKP and the TrustZone-based implementation \\nof RKP, go to the ACM Digital Library website:  http://dl.acm.org/citation.\\ncfm?id=2660267.2660350&coll=DL&dl=GUIDE&CFID=629439201&CFTOK\\nEN=91386218.\\nDM-Verity\\nAttackers may intend to expand their exploits beyond modifying bootloader \\nor kernel images. There are other software binaries and configuration files \\nin storage which provide malware persistence. Persistent malware is able \\nto restart itself each time the system is rebooted. The malware restarts by \\nmodifying programs or con ö gurations on the system partition that contain \\nthe system binaries, Android framework, and configuration files that were \\nstarted during boot. Malware can survive system reboots once inserted in \\nthe boot path. Additional problems can arise from tampering with system \\ndata and configurations, such as the granting of excessive privileges to \\nvulnerable applications.\\nTo prevent unauthorized modification to the system partition, Knox \\nintegrates a customized DM-Verity implementation that's a Linux/Android \\nkernel module that performs integrity checks on all data blocks contained \\nin a block device (such as a partition).\\nWith stock Android, DM-Verity uses a hash tree to conduct integrity checks \\nof individual data blocks. The hash root tree is signed by an RSA key. \\nWhenever a data block is read into memory, DM-Verity computes the hash \\nof the block, and then uses it, along with the other hashes on the path \", metadata={'source': 'data/knox/SamsungKnoxSecuritySolution.pdf', 'page': 34}),\n",
       "  0.0028692686),\n",
       " (Document(page_content='Whitepaper\\nSamsung Knox Security Solution\\n57\\nAbout Samsung Electronics Co., Ltd.\\nVersion Date\\nSamsung Knox Security Solution  V2.2 May 2, 2017\\nSamsung Knox Security Solution_V2.1 December 8, 2016\\nSamsung Knox Security Solution_V2.0 Nov. 17, 2016\\nSamsung Knox Security Solution_V1.12 September 22, 2016Copyright © 2017 Samsung Electronics Co. Ltd. All rights reserved. Samsung is a registered \\ntrademark of Samsung Electronics Co. Ltd. Samsung Knox is a trademark of Samsung Electronics, \\nCo., Ltd. in the United States and other countries. Speci ĕ cations and designs are subject to change \\nwithout notice. Non-metric weights and measurements are approximate. All data were deemed \\ncorrect at time of creation. Samsung is not liable for errors or omissions. Android and Google Play \\nare trademarks of Google Inc. ARM and TrustZone are registered trademarks of ARM Limited (or \\nits subsidiaries) in the EU and/or elsewhere. iOS is a trademark of Apple Inc., registered in the U.S. \\nand other countries. Microso\\ue09d   Azure and Microso\\ue09d   Active Directory are either registered trademarks \\nor trademarks of Microso\\ue09d   Corporation in the United States and/or other countries. Bluetooth® is a \\nregistered trademark of Bluetooth SIG, Inc. worldwide. NFC Forum and the NFC Forum logo are \\ntrademarks of the Near Field Communication Forum. Wi-Fi is a registered trademark of the Wi-Fi \\nAlliance. Oracle and Java are registered trademarks of Oracle and/or its aﬃ   liates. Cisco AnyConnect \\nis a registered trademark of Cisco Systems, Inc. and/or its aﬃ   liates in the United States and certain \\nother countries. F5 Big IP-Edge Client is a registered trademark of F5 Networks, Inc. in the U.S. \\nand in certain other countries. Junos Pulse is a trademark of Pulse Secure, LLC. strongSwan is an \\nopen source so\\ue09d  ware under General Public License as published by the Free So\\ue09d  ware Foundation. \\nOpenVPN is a registered trademark of OpenVPN Technologies Inc. All brands, products, service \\nnames and logos are trademarks and/or registered trademarks of their respective owners and are \\nhereby recognized and acknowledged.\\nSamsung Electronics Co., Ltd. \\n416, Maetan 3-dong, Yeongtong-gu \\nSuwon-si, Gyeonggi-do 443-772, Korea Samsung Electronics Co., Ltd. is a global leader in technology, opening new possibilities for people \\neverywhere. \\ue062  rough relentless innovation and discovery, we are transforming the worlds of \\ntelevisions, smartphones, personal computers, printers, cameras, home appliances, LTE systems, \\nmedical devices, semiconductors and LED solutions. We employ 236,000 people across 79 countries \\nwith annual sales exceeding KRW 201 trillion. To discover more, please visit www.samsung.com\\nFor more information about Samsung Knox, visit  www.samsungknox.com', metadata={'source': 'data/knox/SamsungKnoxSecuritySolution.pdf', 'page': 56}),\n",
       "  0.0027808554),\n",
       " (Document(page_content='Whitepaper\\nSamsung Knox Security Solution\\n56\\nEndnotes\\n1 Kaspersky Lab, “2016 saw 8.5 million mobile malweare attacks,\" February 28th, 2017. \\nhttp://www.techrepublic.com/article/report-2016-saw-8-5-million-mobile-malware-attacks-\\nransomwareand-iot-threats-on-the-rise/\\n2 Ibid\\n3 Nielsen, “The Digital Consumer,” October 2013, p. 8. http://www.nielsen.com/content/dam/\\ncorporate/us/en/reports-downloads/2014%20Reports/the-digital-consumer-report-feb-2014.pdf\\n4Consumer Reports, “Smart phone thefts rose to 3.1 million last year, Consumer Reports ö nds,” May \\n2014. http://www.consumerreports.org/cro/news/2014/04/smart-phone-thefts-rose-to-3-1-million-\\nlast-year/index.htm\\n5 FCC, “Report of Technological Advisory Council (TAC) Subcommittee on Mobile Device Theft \\nPrevention (MDTP),” December 2014, p. 22. http://transition.fcc.gov/bureaus/oet/tac/tacdocs/\\nmeeting12414/TAC-MDTP-Report-v1.0-FINAL-TAC-version.pdf\\n6 Workshare, “Data Guardian: Detecting Business Risk 2014,\" p. 14-16. https://d3liiczouvobl1.\\ncloudfront.net/uploads/refinery/resource/file_name/251/Workshare_-_Data_Guardian_-_\\nDetecting_Business_Risk_2014.pdf', metadata={'source': 'data/knox/SamsungKnoxSecuritySolution.pdf', 'page': 55}),\n",
       "  0.0027444635),\n",
       " (Document(page_content=\"Whitepaper\\nSamsung Knox Security Solution\\n53\\nTelephony\\n  \\uf09fTelephony Management\\n  \\uf09fSIM Change Information\\n  \\uf09fRoaming Restrictions\\nKnox Mobile Enrollment (KME)\\nEnrolling an Android device into a company’s EMM system typically begins \\nwith a user downloading the agent application from the Google Play store, \\nthen authenticating it. Enterprises are facing escalating help desk calls \\nas more and more users are activating mobile devices for the workplace. \\nWhen presented with prompts, privacy policies, and license agreements, \\nusers might experience diﬃ   culties during the process, resulting in a poor \\noverall experience. \\nThe Knox platform provides a simpli ö ed enrollment solution for supported \\nEMMs that's streamlined, intuitive, and eliminates steps and human error \\npotential.\\nEnrollment occurs using either self-discovery with an email domain,  or \\nemployees are  provided an enrollment link sent by email, text message, \\nor through the company's internal or external website. Once the link is \\nclicked and invoked, users are prompted to enter their corporate email \\naddress. This action triggers the display of all required privacy policies and \\nagreements. After accepting the terms, users enter a corporate account \\npassword for enterprise authentication. Any agent application required is \\nautomatically downloaded and installed.  \\nKME allows IT admins to enroll hundreds or thousands of employees at \\nthe same time. Samsung provides a web tool and an application to scan \\npackage bar codes (the device IMEI). KME is targeted for devices purchased \\nfor COPE enterprises and supported carriers and resellers.\\nAnother option includes using a master device to automatically enroll \\ndevices using NFC. The master device is con ö gured by downloading an \\napp from the Playstore. Each device is enrolled in an EMM pro ö le selected \\nby the IT admin.\", metadata={'source': 'data/knox/SamsungKnoxSecuritySolution.pdf', 'page': 52}),\n",
       "  0.0026990566),\n",
       " (Document(page_content=\"Whitepaper\\nSamsung Knox Security Solution\\n7\\nThe Android middleware runs in user mode. The middleware provides rich \\nmethods that allow apps to share their data and perform operations on each \\nother’s behalf. For example, many image library apps can take photos, even \\nthough they don’t know how to use the phone’s camera. Instead, they simply \\nrequest that an app that does understand the camera take the picture on \\ntheir behalf. A second major function is ensuring such  communication does \\nnot occur between enterprise apps and user apps. This prevents sensitive \\ndata from leaking to an untrusted third-party, and prevents corrupted data \\nfrom entering enterprise apps.\\nBoot process\\nThe boot process binds the hardware, kernel, and apps. When a device is \\ninitially turned on, the user’s applications are not immediately available. \\nInstead, a succession of software components start, with each component \\nstarting the next one in the chain. Typically, when the user presses the \\nON button, the device first runs a program called a . Many \\nmobile device architectures use multiple bootloaders to perform different \\nfunctions. The bootloader then ö nds where the kernel is stored, and begins \\nrunning the kernel in the processor’s privileged mode. The kernel starts \\nthe Android middleware and some basic apps, running them in user mode. \\nOnce the boot completes, the user is queued to login into their phone.\\nMobile device security\\nMobile security is quite diﬀ  erent from other domains, in that device owners \\nhave complete control over how to use and secure their own devices, as \\nopposed to a corporate-owned laptop, controlled by IT admins. With COPE \\nand (COBO), sensitive emails are likely \\ndownloaded to the device, but the user may simultaneously compromise \\nthe kernel’s security to allow for device customizations. The process of \\nunlocking a device's operating system so you can install unapproved apps \\nis typically known as device .\", metadata={'source': 'data/knox/SamsungKnoxSecuritySolution.pdf', 'page': 6}),\n",
       "  0.0026800951)]"
      ]
     },
     "execution_count": 97,
     "metadata": {},
     "output_type": "execute_result"
    }
   ],
   "source": [
    "query = \"vefify DM\"\n",
    "\n",
    "results = vector_db_old.similarity_search_with_score(\n",
    "            query= query,\n",
    "            k=5,\n",
    "            search_type=\"approximate_search\",\n",
    "            space_type=\"l2\",\n",
    "            boolean_filter={},\n",
    "            # fetch_k=3,\n",
    "        )\n",
    "results"
   ]
  },
  {
   "cell_type": "code",
   "execution_count": 90,
   "metadata": {
    "tags": []
   },
   "outputs": [
    {
     "name": "stdout",
     "output_type": "stream",
     "text": [
      "Query: \n",
      " vefify DM\n"
     ]
    },
    {
     "ename": "RequestError",
     "evalue": "RequestError(400, 'search_phase_execution_exception', \"failed to create query: Field 'vector_field' is not knn_vector type.\")",
     "output_type": "error",
     "traceback": [
      "\u001b[0;31m---------------------------------------------------------------------------\u001b[0m",
      "\u001b[0;31mRequestError\u001b[0m                              Traceback (most recent call last)",
      "File \u001b[0;32m<timed exec>:6\u001b[0m\n",
      "File \u001b[0;32m~/aws-ai-ml-workshop-kr/genai/aws-gen-ai-kr/20_applications/02_qa_chatbot/01_preprocess_docs/utils/proc_docs.py:105\u001b[0m, in \u001b[0;36msearch_hybrid\u001b[0;34m(**kwargs)\u001b[0m\n\u001b[1;32m     99\u001b[0m \u001b[38;5;66;03m# print(\"Semantic_Search: \", kwargs[\"Semantic_Search\"])\u001b[39;00m\n\u001b[1;32m    100\u001b[0m \u001b[38;5;66;03m# print(\"Lexical_Search: \", kwargs[\"Lexical_Search\"])\u001b[39;00m\n\u001b[1;32m    101\u001b[0m \u001b[38;5;66;03m# print(\"Hybrid_Search: \", kwargs[\"Hybrid_Search\"])    \u001b[39;00m\n\u001b[1;32m    104\u001b[0m \u001b[38;5;28;01mif\u001b[39;00m (kwargs[\u001b[38;5;124m\"\u001b[39m\u001b[38;5;124mSemantic_Search\u001b[39m\u001b[38;5;124m\"\u001b[39m] \u001b[38;5;241m==\u001b[39m \u001b[38;5;28;01mTrue\u001b[39;00m) \u001b[38;5;241m|\u001b[39m (kwargs[\u001b[38;5;124m\"\u001b[39m\u001b[38;5;124mHybrid_Search\u001b[39m\u001b[38;5;124m\"\u001b[39m] \u001b[38;5;241m==\u001b[39m \u001b[38;5;28;01mTrue\u001b[39;00m):\n\u001b[0;32m--> 105\u001b[0m     similar_docs_semantic \u001b[38;5;241m=\u001b[39m \u001b[43mget_semantic_similar_docs\u001b[49m\u001b[43m(\u001b[49m\n\u001b[1;32m    106\u001b[0m \u001b[43m        \u001b[49m\u001b[43mvector_db\u001b[49m\u001b[38;5;241;43m=\u001b[39;49m\u001b[43mkwargs\u001b[49m\u001b[43m[\u001b[49m\u001b[38;5;124;43m\"\u001b[39;49m\u001b[38;5;124;43mvector_db\u001b[39;49m\u001b[38;5;124;43m\"\u001b[39;49m\u001b[43m]\u001b[49m\u001b[43m,\u001b[49m\n\u001b[1;32m    107\u001b[0m \u001b[43m        \u001b[49m\u001b[43mquery\u001b[49m\u001b[38;5;241;43m=\u001b[39;49m\u001b[43mkwargs\u001b[49m\u001b[43m[\u001b[49m\u001b[38;5;124;43m\"\u001b[39;49m\u001b[38;5;124;43mquery\u001b[39;49m\u001b[38;5;124;43m\"\u001b[39;49m\u001b[43m]\u001b[49m\u001b[43m,\u001b[49m\n\u001b[1;32m    108\u001b[0m \u001b[43m        \u001b[49m\u001b[43mk\u001b[49m\u001b[38;5;241;43m=\u001b[39;49m\u001b[43mkwargs\u001b[49m\u001b[38;5;241;43m.\u001b[39;49m\u001b[43mget\u001b[49m\u001b[43m(\u001b[49m\u001b[38;5;124;43m\"\u001b[39;49m\u001b[38;5;124;43mk\u001b[39;49m\u001b[38;5;124;43m\"\u001b[39;49m\u001b[43m,\u001b[49m\u001b[43m \u001b[49m\u001b[38;5;241;43m5\u001b[39;49m\u001b[43m)\u001b[49m\u001b[43m,\u001b[49m\n\u001b[1;32m    109\u001b[0m \u001b[43m        \u001b[49m\u001b[43mhybrid\u001b[49m\u001b[38;5;241;43m=\u001b[39;49m\u001b[38;5;28;43;01mTrue\u001b[39;49;00m\n\u001b[1;32m    110\u001b[0m \u001b[43m    \u001b[49m\u001b[43m)\u001b[49m\n\u001b[1;32m    111\u001b[0m     \u001b[38;5;28;01mif\u001b[39;00m verbose:\n\u001b[1;32m    112\u001b[0m         \u001b[38;5;28mprint\u001b[39m(\u001b[38;5;124m\"\u001b[39m\u001b[38;5;124m##############################\u001b[39m\u001b[38;5;124m\"\u001b[39m)\n",
      "File \u001b[0;32m~/aws-ai-ml-workshop-kr/genai/aws-gen-ai-kr/20_applications/02_qa_chatbot/01_preprocess_docs/utils/rag.py:107\u001b[0m, in \u001b[0;36mget_semantic_similar_docs\u001b[0;34m(**kwargs)\u001b[0m\n\u001b[1;32m    104\u001b[0m \u001b[38;5;28;01massert\u001b[39;00m kwargs\u001b[38;5;241m.\u001b[39mget(\u001b[38;5;124m\"\u001b[39m\u001b[38;5;124msearch_type\u001b[39m\u001b[38;5;124m\"\u001b[39m, \u001b[38;5;124m\"\u001b[39m\u001b[38;5;124mapproximate_search\u001b[39m\u001b[38;5;124m\"\u001b[39m) \u001b[38;5;129;01min\u001b[39;00m search_types, \u001b[38;5;124mf\u001b[39m\u001b[38;5;124m'\u001b[39m\u001b[38;5;124mCheck your search_type: \u001b[39m\u001b[38;5;132;01m{\u001b[39;00msearch_types\u001b[38;5;132;01m}\u001b[39;00m\u001b[38;5;124m'\u001b[39m\n\u001b[1;32m    105\u001b[0m \u001b[38;5;28;01massert\u001b[39;00m kwargs\u001b[38;5;241m.\u001b[39mget(\u001b[38;5;124m\"\u001b[39m\u001b[38;5;124mspace_type\u001b[39m\u001b[38;5;124m\"\u001b[39m, \u001b[38;5;124m\"\u001b[39m\u001b[38;5;124ml2\u001b[39m\u001b[38;5;124m\"\u001b[39m) \u001b[38;5;129;01min\u001b[39;00m space_types, \u001b[38;5;124mf\u001b[39m\u001b[38;5;124m'\u001b[39m\u001b[38;5;124mCheck your space_type: \u001b[39m\u001b[38;5;132;01m{\u001b[39;00mspace_types\u001b[38;5;132;01m}\u001b[39;00m\u001b[38;5;124m'\u001b[39m\n\u001b[0;32m--> 107\u001b[0m results \u001b[38;5;241m=\u001b[39m \u001b[43mkwargs\u001b[49m\u001b[43m[\u001b[49m\u001b[38;5;124;43m\"\u001b[39;49m\u001b[38;5;124;43mvector_db\u001b[39;49m\u001b[38;5;124;43m\"\u001b[39;49m\u001b[43m]\u001b[49m\u001b[38;5;241;43m.\u001b[39;49m\u001b[43msimilarity_search_with_score\u001b[49m\u001b[43m(\u001b[49m\n\u001b[1;32m    108\u001b[0m \u001b[43m        \u001b[49m\u001b[43mquery\u001b[49m\u001b[38;5;241;43m=\u001b[39;49m\u001b[43mkwargs\u001b[49m\u001b[43m[\u001b[49m\u001b[38;5;124;43m\"\u001b[39;49m\u001b[38;5;124;43mquery\u001b[39;49m\u001b[38;5;124;43m\"\u001b[39;49m\u001b[43m]\u001b[49m\u001b[43m,\u001b[49m\n\u001b[1;32m    109\u001b[0m \u001b[43m        \u001b[49m\u001b[43mk\u001b[49m\u001b[38;5;241;43m=\u001b[39;49m\u001b[43mkwargs\u001b[49m\u001b[38;5;241;43m.\u001b[39;49m\u001b[43mget\u001b[49m\u001b[43m(\u001b[49m\u001b[38;5;124;43m\"\u001b[39;49m\u001b[38;5;124;43mk\u001b[39;49m\u001b[38;5;124;43m\"\u001b[39;49m\u001b[43m,\u001b[49m\u001b[43m \u001b[49m\u001b[38;5;241;43m5\u001b[39;49m\u001b[43m)\u001b[49m\u001b[43m,\u001b[49m\n\u001b[1;32m    110\u001b[0m \u001b[43m        \u001b[49m\u001b[43msearch_type\u001b[49m\u001b[38;5;241;43m=\u001b[39;49m\u001b[43mkwargs\u001b[49m\u001b[38;5;241;43m.\u001b[39;49m\u001b[43mget\u001b[49m\u001b[43m(\u001b[49m\u001b[38;5;124;43m\"\u001b[39;49m\u001b[38;5;124;43msearch_type\u001b[39;49m\u001b[38;5;124;43m\"\u001b[39;49m\u001b[43m,\u001b[49m\u001b[43m \u001b[49m\u001b[38;5;124;43m\"\u001b[39;49m\u001b[38;5;124;43mapproximate_search\u001b[39;49m\u001b[38;5;124;43m\"\u001b[39;49m\u001b[43m)\u001b[49m\u001b[43m,\u001b[49m\n\u001b[1;32m    111\u001b[0m \u001b[43m        \u001b[49m\u001b[43mspace_type\u001b[49m\u001b[38;5;241;43m=\u001b[39;49m\u001b[43mkwargs\u001b[49m\u001b[38;5;241;43m.\u001b[39;49m\u001b[43mget\u001b[49m\u001b[43m(\u001b[49m\u001b[38;5;124;43m\"\u001b[39;49m\u001b[38;5;124;43mspace_type\u001b[39;49m\u001b[38;5;124;43m\"\u001b[39;49m\u001b[43m,\u001b[49m\u001b[43m \u001b[49m\u001b[38;5;124;43m\"\u001b[39;49m\u001b[38;5;124;43ml2\u001b[39;49m\u001b[38;5;124;43m\"\u001b[39;49m\u001b[43m)\u001b[49m\u001b[43m,\u001b[49m\n\u001b[1;32m    112\u001b[0m \u001b[43m        \u001b[49m\u001b[43mboolean_filter\u001b[49m\u001b[38;5;241;43m=\u001b[39;49m\u001b[43mkwargs\u001b[49m\u001b[38;5;241;43m.\u001b[39;49m\u001b[43mget\u001b[49m\u001b[43m(\u001b[49m\u001b[38;5;124;43m\"\u001b[39;49m\u001b[38;5;124;43mboolean_filter\u001b[39;49m\u001b[38;5;124;43m\"\u001b[39;49m\u001b[43m,\u001b[49m\u001b[43m \u001b[49m\u001b[43m{\u001b[49m\u001b[43m}\u001b[49m\u001b[43m)\u001b[49m\u001b[43m,\u001b[49m\n\u001b[1;32m    113\u001b[0m \u001b[43m        \u001b[49m\u001b[38;5;66;43;03m# fetch_k=3,\u001b[39;49;00m\n\u001b[1;32m    114\u001b[0m \u001b[43m    \u001b[49m\u001b[43m)\u001b[49m\n\u001b[1;32m    116\u001b[0m \u001b[38;5;28;01mif\u001b[39;00m kwargs\u001b[38;5;241m.\u001b[39mget(\u001b[38;5;124m\"\u001b[39m\u001b[38;5;124mhybrid\u001b[39m\u001b[38;5;124m\"\u001b[39m, \u001b[38;5;28;01mFalse\u001b[39;00m):\n\u001b[1;32m    117\u001b[0m     max_score \u001b[38;5;241m=\u001b[39m results[\u001b[38;5;241m0\u001b[39m][\u001b[38;5;241m1\u001b[39m]\n",
      "File \u001b[0;32m/opt/conda/lib/python3.10/site-packages/langchain/vectorstores/opensearch_vector_search.py:548\u001b[0m, in \u001b[0;36mOpenSearchVectorSearch.similarity_search_with_score\u001b[0;34m(self, query, k, **kwargs)\u001b[0m\n\u001b[1;32m    545\u001b[0m text_field \u001b[38;5;241m=\u001b[39m _get_kwargs_value(kwargs, \u001b[38;5;124m\"\u001b[39m\u001b[38;5;124mtext_field\u001b[39m\u001b[38;5;124m\"\u001b[39m, \u001b[38;5;124m\"\u001b[39m\u001b[38;5;124mtext\u001b[39m\u001b[38;5;124m\"\u001b[39m)\n\u001b[1;32m    546\u001b[0m metadata_field \u001b[38;5;241m=\u001b[39m _get_kwargs_value(kwargs, \u001b[38;5;124m\"\u001b[39m\u001b[38;5;124mmetadata_field\u001b[39m\u001b[38;5;124m\"\u001b[39m, \u001b[38;5;124m\"\u001b[39m\u001b[38;5;124mmetadata\u001b[39m\u001b[38;5;124m\"\u001b[39m)\n\u001b[0;32m--> 548\u001b[0m hits \u001b[38;5;241m=\u001b[39m \u001b[38;5;28;43mself\u001b[39;49m\u001b[38;5;241;43m.\u001b[39;49m\u001b[43m_raw_similarity_search_with_score\u001b[49m\u001b[43m(\u001b[49m\u001b[43mquery\u001b[49m\u001b[38;5;241;43m=\u001b[39;49m\u001b[43mquery\u001b[49m\u001b[43m,\u001b[49m\u001b[43m \u001b[49m\u001b[43mk\u001b[49m\u001b[38;5;241;43m=\u001b[39;49m\u001b[43mk\u001b[49m\u001b[43m,\u001b[49m\u001b[43m \u001b[49m\u001b[38;5;241;43m*\u001b[39;49m\u001b[38;5;241;43m*\u001b[39;49m\u001b[43mkwargs\u001b[49m\u001b[43m)\u001b[49m\n\u001b[1;32m    550\u001b[0m documents_with_scores \u001b[38;5;241m=\u001b[39m [\n\u001b[1;32m    551\u001b[0m     (\n\u001b[1;32m    552\u001b[0m         Document(\n\u001b[0;32m   (...)\u001b[0m\n\u001b[1;32m    560\u001b[0m     \u001b[38;5;28;01mfor\u001b[39;00m hit \u001b[38;5;129;01min\u001b[39;00m hits\n\u001b[1;32m    561\u001b[0m ]\n\u001b[1;32m    562\u001b[0m \u001b[38;5;28;01mreturn\u001b[39;00m documents_with_scores\n",
      "File \u001b[0;32m/opt/conda/lib/python3.10/site-packages/langchain/vectorstores/opensearch_vector_search.py:674\u001b[0m, in \u001b[0;36mOpenSearchVectorSearch._raw_similarity_search_with_score\u001b[0;34m(self, query, k, **kwargs)\u001b[0m\n\u001b[1;32m    671\u001b[0m \u001b[38;5;28;01melse\u001b[39;00m:\n\u001b[1;32m    672\u001b[0m     \u001b[38;5;28;01mraise\u001b[39;00m \u001b[38;5;167;01mValueError\u001b[39;00m(\u001b[38;5;124m\"\u001b[39m\u001b[38;5;124mInvalid `search_type` provided as an argument\u001b[39m\u001b[38;5;124m\"\u001b[39m)\n\u001b[0;32m--> 674\u001b[0m response \u001b[38;5;241m=\u001b[39m \u001b[38;5;28;43mself\u001b[39;49m\u001b[38;5;241;43m.\u001b[39;49m\u001b[43mclient\u001b[49m\u001b[38;5;241;43m.\u001b[39;49m\u001b[43msearch\u001b[49m\u001b[43m(\u001b[49m\u001b[43mindex\u001b[49m\u001b[38;5;241;43m=\u001b[39;49m\u001b[43mindex_name\u001b[49m\u001b[43m,\u001b[49m\u001b[43m \u001b[49m\u001b[43mbody\u001b[49m\u001b[38;5;241;43m=\u001b[39;49m\u001b[43msearch_query\u001b[49m\u001b[43m)\u001b[49m\n\u001b[1;32m    676\u001b[0m \u001b[38;5;28;01mreturn\u001b[39;00m [hit \u001b[38;5;28;01mfor\u001b[39;00m hit \u001b[38;5;129;01min\u001b[39;00m response[\u001b[38;5;124m\"\u001b[39m\u001b[38;5;124mhits\u001b[39m\u001b[38;5;124m\"\u001b[39m][\u001b[38;5;124m\"\u001b[39m\u001b[38;5;124mhits\u001b[39m\u001b[38;5;124m\"\u001b[39m]]\n",
      "File \u001b[0;32m/opt/conda/lib/python3.10/site-packages/opensearchpy/client/utils.py:179\u001b[0m, in \u001b[0;36mquery_params.<locals>._wrapper.<locals>._wrapped\u001b[0;34m(*args, **kwargs)\u001b[0m\n\u001b[1;32m    176\u001b[0m         \u001b[38;5;28;01mif\u001b[39;00m v \u001b[38;5;129;01mis\u001b[39;00m \u001b[38;5;129;01mnot\u001b[39;00m \u001b[38;5;28;01mNone\u001b[39;00m:\n\u001b[1;32m    177\u001b[0m             params[p] \u001b[38;5;241m=\u001b[39m _escape(v)\n\u001b[0;32m--> 179\u001b[0m \u001b[38;5;28;01mreturn\u001b[39;00m \u001b[43mfunc\u001b[49m\u001b[43m(\u001b[49m\u001b[38;5;241;43m*\u001b[39;49m\u001b[43margs\u001b[49m\u001b[43m,\u001b[49m\u001b[43m \u001b[49m\u001b[43mparams\u001b[49m\u001b[38;5;241;43m=\u001b[39;49m\u001b[43mparams\u001b[49m\u001b[43m,\u001b[49m\u001b[43m \u001b[49m\u001b[43mheaders\u001b[49m\u001b[38;5;241;43m=\u001b[39;49m\u001b[43mheaders\u001b[49m\u001b[43m,\u001b[49m\u001b[43m \u001b[49m\u001b[38;5;241;43m*\u001b[39;49m\u001b[38;5;241;43m*\u001b[39;49m\u001b[43mkwargs\u001b[49m\u001b[43m)\u001b[49m\n",
      "File \u001b[0;32m/opt/conda/lib/python3.10/site-packages/opensearchpy/client/__init__.py:1553\u001b[0m, in \u001b[0;36mOpenSearch.search\u001b[0;34m(self, body, index, params, headers)\u001b[0m\n\u001b[1;32m   1550\u001b[0m \u001b[38;5;28;01mif\u001b[39;00m \u001b[38;5;124m\"\u001b[39m\u001b[38;5;124mfrom_\u001b[39m\u001b[38;5;124m\"\u001b[39m \u001b[38;5;129;01min\u001b[39;00m params:\n\u001b[1;32m   1551\u001b[0m     params[\u001b[38;5;124m\"\u001b[39m\u001b[38;5;124mfrom\u001b[39m\u001b[38;5;124m\"\u001b[39m] \u001b[38;5;241m=\u001b[39m params\u001b[38;5;241m.\u001b[39mpop(\u001b[38;5;124m\"\u001b[39m\u001b[38;5;124mfrom_\u001b[39m\u001b[38;5;124m\"\u001b[39m)\n\u001b[0;32m-> 1553\u001b[0m \u001b[38;5;28;01mreturn\u001b[39;00m \u001b[38;5;28;43mself\u001b[39;49m\u001b[38;5;241;43m.\u001b[39;49m\u001b[43mtransport\u001b[49m\u001b[38;5;241;43m.\u001b[39;49m\u001b[43mperform_request\u001b[49m\u001b[43m(\u001b[49m\n\u001b[1;32m   1554\u001b[0m \u001b[43m    \u001b[49m\u001b[38;5;124;43m\"\u001b[39;49m\u001b[38;5;124;43mPOST\u001b[39;49m\u001b[38;5;124;43m\"\u001b[39;49m\u001b[43m,\u001b[49m\n\u001b[1;32m   1555\u001b[0m \u001b[43m    \u001b[49m\u001b[43m_make_path\u001b[49m\u001b[43m(\u001b[49m\u001b[43mindex\u001b[49m\u001b[43m,\u001b[49m\u001b[43m \u001b[49m\u001b[38;5;124;43m\"\u001b[39;49m\u001b[38;5;124;43m_search\u001b[39;49m\u001b[38;5;124;43m\"\u001b[39;49m\u001b[43m)\u001b[49m\u001b[43m,\u001b[49m\n\u001b[1;32m   1556\u001b[0m \u001b[43m    \u001b[49m\u001b[43mparams\u001b[49m\u001b[38;5;241;43m=\u001b[39;49m\u001b[43mparams\u001b[49m\u001b[43m,\u001b[49m\n\u001b[1;32m   1557\u001b[0m \u001b[43m    \u001b[49m\u001b[43mheaders\u001b[49m\u001b[38;5;241;43m=\u001b[39;49m\u001b[43mheaders\u001b[49m\u001b[43m,\u001b[49m\n\u001b[1;32m   1558\u001b[0m \u001b[43m    \u001b[49m\u001b[43mbody\u001b[49m\u001b[38;5;241;43m=\u001b[39;49m\u001b[43mbody\u001b[49m\u001b[43m,\u001b[49m\n\u001b[1;32m   1559\u001b[0m \u001b[43m\u001b[49m\u001b[43m)\u001b[49m\n",
      "File \u001b[0;32m/opt/conda/lib/python3.10/site-packages/opensearchpy/transport.py:409\u001b[0m, in \u001b[0;36mTransport.perform_request\u001b[0;34m(self, method, url, headers, params, body)\u001b[0m\n\u001b[1;32m    407\u001b[0m             \u001b[38;5;28;01mraise\u001b[39;00m e\n\u001b[1;32m    408\u001b[0m     \u001b[38;5;28;01melse\u001b[39;00m:\n\u001b[0;32m--> 409\u001b[0m         \u001b[38;5;28;01mraise\u001b[39;00m e\n\u001b[1;32m    411\u001b[0m \u001b[38;5;28;01melse\u001b[39;00m:\n\u001b[1;32m    412\u001b[0m     \u001b[38;5;66;03m# connection didn't fail, confirm it's live status\u001b[39;00m\n\u001b[1;32m    413\u001b[0m     \u001b[38;5;28mself\u001b[39m\u001b[38;5;241m.\u001b[39mconnection_pool\u001b[38;5;241m.\u001b[39mmark_live(connection)\n",
      "File \u001b[0;32m/opt/conda/lib/python3.10/site-packages/opensearchpy/transport.py:370\u001b[0m, in \u001b[0;36mTransport.perform_request\u001b[0;34m(self, method, url, headers, params, body)\u001b[0m\n\u001b[1;32m    367\u001b[0m connection \u001b[38;5;241m=\u001b[39m \u001b[38;5;28mself\u001b[39m\u001b[38;5;241m.\u001b[39mget_connection()\n\u001b[1;32m    369\u001b[0m \u001b[38;5;28;01mtry\u001b[39;00m:\n\u001b[0;32m--> 370\u001b[0m     status, headers_response, data \u001b[38;5;241m=\u001b[39m \u001b[43mconnection\u001b[49m\u001b[38;5;241;43m.\u001b[39;49m\u001b[43mperform_request\u001b[49m\u001b[43m(\u001b[49m\n\u001b[1;32m    371\u001b[0m \u001b[43m        \u001b[49m\u001b[43mmethod\u001b[49m\u001b[43m,\u001b[49m\n\u001b[1;32m    372\u001b[0m \u001b[43m        \u001b[49m\u001b[43murl\u001b[49m\u001b[43m,\u001b[49m\n\u001b[1;32m    373\u001b[0m \u001b[43m        \u001b[49m\u001b[43mparams\u001b[49m\u001b[43m,\u001b[49m\n\u001b[1;32m    374\u001b[0m \u001b[43m        \u001b[49m\u001b[43mbody\u001b[49m\u001b[43m,\u001b[49m\n\u001b[1;32m    375\u001b[0m \u001b[43m        \u001b[49m\u001b[43mheaders\u001b[49m\u001b[38;5;241;43m=\u001b[39;49m\u001b[43mheaders\u001b[49m\u001b[43m,\u001b[49m\n\u001b[1;32m    376\u001b[0m \u001b[43m        \u001b[49m\u001b[43mignore\u001b[49m\u001b[38;5;241;43m=\u001b[39;49m\u001b[43mignore\u001b[49m\u001b[43m,\u001b[49m\n\u001b[1;32m    377\u001b[0m \u001b[43m        \u001b[49m\u001b[43mtimeout\u001b[49m\u001b[38;5;241;43m=\u001b[39;49m\u001b[43mtimeout\u001b[49m\u001b[43m,\u001b[49m\n\u001b[1;32m    378\u001b[0m \u001b[43m    \u001b[49m\u001b[43m)\u001b[49m\n\u001b[1;32m    380\u001b[0m     \u001b[38;5;66;03m# Lowercase all the header names for consistency in accessing them.\u001b[39;00m\n\u001b[1;32m    381\u001b[0m     headers_response \u001b[38;5;241m=\u001b[39m {\n\u001b[1;32m    382\u001b[0m         header\u001b[38;5;241m.\u001b[39mlower(): value \u001b[38;5;28;01mfor\u001b[39;00m header, value \u001b[38;5;129;01min\u001b[39;00m headers_response\u001b[38;5;241m.\u001b[39mitems()\n\u001b[1;32m    383\u001b[0m     }\n",
      "File \u001b[0;32m/opt/conda/lib/python3.10/site-packages/opensearchpy/connection/http_urllib3.py:266\u001b[0m, in \u001b[0;36mUrllib3HttpConnection.perform_request\u001b[0;34m(self, method, url, params, body, timeout, ignore, headers)\u001b[0m\n\u001b[1;32m    262\u001b[0m \u001b[38;5;28;01mif\u001b[39;00m \u001b[38;5;129;01mnot\u001b[39;00m (\u001b[38;5;241m200\u001b[39m \u001b[38;5;241m<\u001b[39m\u001b[38;5;241m=\u001b[39m response\u001b[38;5;241m.\u001b[39mstatus \u001b[38;5;241m<\u001b[39m \u001b[38;5;241m300\u001b[39m) \u001b[38;5;129;01mand\u001b[39;00m response\u001b[38;5;241m.\u001b[39mstatus \u001b[38;5;129;01mnot\u001b[39;00m \u001b[38;5;129;01min\u001b[39;00m ignore:\n\u001b[1;32m    263\u001b[0m     \u001b[38;5;28mself\u001b[39m\u001b[38;5;241m.\u001b[39mlog_request_fail(\n\u001b[1;32m    264\u001b[0m         method, full_url, url, orig_body, duration, response\u001b[38;5;241m.\u001b[39mstatus, raw_data\n\u001b[1;32m    265\u001b[0m     )\n\u001b[0;32m--> 266\u001b[0m     \u001b[38;5;28;43mself\u001b[39;49m\u001b[38;5;241;43m.\u001b[39;49m\u001b[43m_raise_error\u001b[49m\u001b[43m(\u001b[49m\n\u001b[1;32m    267\u001b[0m \u001b[43m        \u001b[49m\u001b[43mresponse\u001b[49m\u001b[38;5;241;43m.\u001b[39;49m\u001b[43mstatus\u001b[49m\u001b[43m,\u001b[49m\n\u001b[1;32m    268\u001b[0m \u001b[43m        \u001b[49m\u001b[43mraw_data\u001b[49m\u001b[43m,\u001b[49m\n\u001b[1;32m    269\u001b[0m \u001b[43m        \u001b[49m\u001b[38;5;28;43mself\u001b[39;49m\u001b[38;5;241;43m.\u001b[39;49m\u001b[43mget_response_headers\u001b[49m\u001b[43m(\u001b[49m\u001b[43mresponse\u001b[49m\u001b[43m)\u001b[49m\u001b[38;5;241;43m.\u001b[39;49m\u001b[43mget\u001b[49m\u001b[43m(\u001b[49m\u001b[38;5;124;43m\"\u001b[39;49m\u001b[38;5;124;43mcontent-type\u001b[39;49m\u001b[38;5;124;43m\"\u001b[39;49m\u001b[43m)\u001b[49m\u001b[43m,\u001b[49m\n\u001b[1;32m    270\u001b[0m \u001b[43m    \u001b[49m\u001b[43m)\u001b[49m\n\u001b[1;32m    272\u001b[0m \u001b[38;5;28mself\u001b[39m\u001b[38;5;241m.\u001b[39mlog_request_success(\n\u001b[1;32m    273\u001b[0m     method, full_url, url, orig_body, response\u001b[38;5;241m.\u001b[39mstatus, raw_data, duration\n\u001b[1;32m    274\u001b[0m )\n\u001b[1;32m    276\u001b[0m \u001b[38;5;28;01mreturn\u001b[39;00m response\u001b[38;5;241m.\u001b[39mstatus, response\u001b[38;5;241m.\u001b[39mheaders, raw_data\n",
      "File \u001b[0;32m/opt/conda/lib/python3.10/site-packages/opensearchpy/connection/base.py:301\u001b[0m, in \u001b[0;36mConnection._raise_error\u001b[0;34m(self, status_code, raw_data, content_type)\u001b[0m\n\u001b[1;32m    298\u001b[0m \u001b[38;5;28;01mexcept\u001b[39;00m (\u001b[38;5;167;01mValueError\u001b[39;00m, \u001b[38;5;167;01mTypeError\u001b[39;00m) \u001b[38;5;28;01mas\u001b[39;00m err:\n\u001b[1;32m    299\u001b[0m     logger\u001b[38;5;241m.\u001b[39mwarning(\u001b[38;5;124m\"\u001b[39m\u001b[38;5;124mUndecodable raw error response from server: \u001b[39m\u001b[38;5;132;01m%s\u001b[39;00m\u001b[38;5;124m\"\u001b[39m, err)\n\u001b[0;32m--> 301\u001b[0m \u001b[38;5;28;01mraise\u001b[39;00m HTTP_EXCEPTIONS\u001b[38;5;241m.\u001b[39mget(status_code, TransportError)(\n\u001b[1;32m    302\u001b[0m     status_code, error_message, additional_info\n\u001b[1;32m    303\u001b[0m )\n",
      "\u001b[0;31mRequestError\u001b[0m: RequestError(400, 'search_phase_execution_exception', \"failed to create query: Field 'vector_field' is not knn_vector type.\")"
     ]
    }
   ],
   "source": [
    "%%time\n",
    "\n",
    "\n",
    "filter01 = \"[]\"\n",
    "filter02 = \"[]\"\n",
    "\n",
    "query = \"vefify DM\"\n",
    "\n",
    "search_hybrid_result = search_hybrid(\n",
    "    query=query,\n",
    "    vector_db=vector_db,\n",
    "    k=5,\n",
    "    index_name=new_index_name,\n",
    "    os_client=os_client,\n",
    "    filter=[\n",
    "        {\"term\": {\"metadata.type\": filter01}},\n",
    "        {\"term\": {\"metadata.source\": filter02}},\n",
    "    ],\n",
    "    Semantic_Search = False,    \n",
    "    Lexical_Search = False,    \n",
    "    Hybrid_Search = True,     \n",
    "    minimum_should_match = 75,   \n",
    "    fusion_algorithm=\"RRF\", # [\"RRF\", \"simple_weighted\"]\n",
    "    ensemble_weights=[.5, .5], # 시멘트 서치에 가중치 0.5 , 키워드 서치 가중치 0.5 부여.\n",
    "    verbose=True\n",
    ")\n",
    "\n"
   ]
  },
  {
   "cell_type": "code",
   "execution_count": null,
   "metadata": {},
   "outputs": [],
   "source": []
  },
  {
   "cell_type": "code",
   "execution_count": null,
   "metadata": {},
   "outputs": [],
   "source": []
  },
  {
   "cell_type": "code",
   "execution_count": null,
   "metadata": {},
   "outputs": [],
   "source": []
  }
 ],
 "metadata": {
  "availableInstances": [
   {
    "_defaultOrder": 0,
    "_isFastLaunch": true,
    "category": "General purpose",
    "gpuNum": 0,
    "hideHardwareSpecs": false,
    "memoryGiB": 4,
    "name": "ml.t3.medium",
    "vcpuNum": 2
   },
   {
    "_defaultOrder": 1,
    "_isFastLaunch": false,
    "category": "General purpose",
    "gpuNum": 0,
    "hideHardwareSpecs": false,
    "memoryGiB": 8,
    "name": "ml.t3.large",
    "vcpuNum": 2
   },
   {
    "_defaultOrder": 2,
    "_isFastLaunch": false,
    "category": "General purpose",
    "gpuNum": 0,
    "hideHardwareSpecs": false,
    "memoryGiB": 16,
    "name": "ml.t3.xlarge",
    "vcpuNum": 4
   },
   {
    "_defaultOrder": 3,
    "_isFastLaunch": false,
    "category": "General purpose",
    "gpuNum": 0,
    "hideHardwareSpecs": false,
    "memoryGiB": 32,
    "name": "ml.t3.2xlarge",
    "vcpuNum": 8
   },
   {
    "_defaultOrder": 4,
    "_isFastLaunch": true,
    "category": "General purpose",
    "gpuNum": 0,
    "hideHardwareSpecs": false,
    "memoryGiB": 8,
    "name": "ml.m5.large",
    "vcpuNum": 2
   },
   {
    "_defaultOrder": 5,
    "_isFastLaunch": false,
    "category": "General purpose",
    "gpuNum": 0,
    "hideHardwareSpecs": false,
    "memoryGiB": 16,
    "name": "ml.m5.xlarge",
    "vcpuNum": 4
   },
   {
    "_defaultOrder": 6,
    "_isFastLaunch": false,
    "category": "General purpose",
    "gpuNum": 0,
    "hideHardwareSpecs": false,
    "memoryGiB": 32,
    "name": "ml.m5.2xlarge",
    "vcpuNum": 8
   },
   {
    "_defaultOrder": 7,
    "_isFastLaunch": false,
    "category": "General purpose",
    "gpuNum": 0,
    "hideHardwareSpecs": false,
    "memoryGiB": 64,
    "name": "ml.m5.4xlarge",
    "vcpuNum": 16
   },
   {
    "_defaultOrder": 8,
    "_isFastLaunch": false,
    "category": "General purpose",
    "gpuNum": 0,
    "hideHardwareSpecs": false,
    "memoryGiB": 128,
    "name": "ml.m5.8xlarge",
    "vcpuNum": 32
   },
   {
    "_defaultOrder": 9,
    "_isFastLaunch": false,
    "category": "General purpose",
    "gpuNum": 0,
    "hideHardwareSpecs": false,
    "memoryGiB": 192,
    "name": "ml.m5.12xlarge",
    "vcpuNum": 48
   },
   {
    "_defaultOrder": 10,
    "_isFastLaunch": false,
    "category": "General purpose",
    "gpuNum": 0,
    "hideHardwareSpecs": false,
    "memoryGiB": 256,
    "name": "ml.m5.16xlarge",
    "vcpuNum": 64
   },
   {
    "_defaultOrder": 11,
    "_isFastLaunch": false,
    "category": "General purpose",
    "gpuNum": 0,
    "hideHardwareSpecs": false,
    "memoryGiB": 384,
    "name": "ml.m5.24xlarge",
    "vcpuNum": 96
   },
   {
    "_defaultOrder": 12,
    "_isFastLaunch": false,
    "category": "General purpose",
    "gpuNum": 0,
    "hideHardwareSpecs": false,
    "memoryGiB": 8,
    "name": "ml.m5d.large",
    "vcpuNum": 2
   },
   {
    "_defaultOrder": 13,
    "_isFastLaunch": false,
    "category": "General purpose",
    "gpuNum": 0,
    "hideHardwareSpecs": false,
    "memoryGiB": 16,
    "name": "ml.m5d.xlarge",
    "vcpuNum": 4
   },
   {
    "_defaultOrder": 14,
    "_isFastLaunch": false,
    "category": "General purpose",
    "gpuNum": 0,
    "hideHardwareSpecs": false,
    "memoryGiB": 32,
    "name": "ml.m5d.2xlarge",
    "vcpuNum": 8
   },
   {
    "_defaultOrder": 15,
    "_isFastLaunch": false,
    "category": "General purpose",
    "gpuNum": 0,
    "hideHardwareSpecs": false,
    "memoryGiB": 64,
    "name": "ml.m5d.4xlarge",
    "vcpuNum": 16
   },
   {
    "_defaultOrder": 16,
    "_isFastLaunch": false,
    "category": "General purpose",
    "gpuNum": 0,
    "hideHardwareSpecs": false,
    "memoryGiB": 128,
    "name": "ml.m5d.8xlarge",
    "vcpuNum": 32
   },
   {
    "_defaultOrder": 17,
    "_isFastLaunch": false,
    "category": "General purpose",
    "gpuNum": 0,
    "hideHardwareSpecs": false,
    "memoryGiB": 192,
    "name": "ml.m5d.12xlarge",
    "vcpuNum": 48
   },
   {
    "_defaultOrder": 18,
    "_isFastLaunch": false,
    "category": "General purpose",
    "gpuNum": 0,
    "hideHardwareSpecs": false,
    "memoryGiB": 256,
    "name": "ml.m5d.16xlarge",
    "vcpuNum": 64
   },
   {
    "_defaultOrder": 19,
    "_isFastLaunch": false,
    "category": "General purpose",
    "gpuNum": 0,
    "hideHardwareSpecs": false,
    "memoryGiB": 384,
    "name": "ml.m5d.24xlarge",
    "vcpuNum": 96
   },
   {
    "_defaultOrder": 20,
    "_isFastLaunch": false,
    "category": "General purpose",
    "gpuNum": 0,
    "hideHardwareSpecs": true,
    "memoryGiB": 0,
    "name": "ml.geospatial.interactive",
    "supportedImageNames": [
     "sagemaker-geospatial-v1-0"
    ],
    "vcpuNum": 0
   },
   {
    "_defaultOrder": 21,
    "_isFastLaunch": true,
    "category": "Compute optimized",
    "gpuNum": 0,
    "hideHardwareSpecs": false,
    "memoryGiB": 4,
    "name": "ml.c5.large",
    "vcpuNum": 2
   },
   {
    "_defaultOrder": 22,
    "_isFastLaunch": false,
    "category": "Compute optimized",
    "gpuNum": 0,
    "hideHardwareSpecs": false,
    "memoryGiB": 8,
    "name": "ml.c5.xlarge",
    "vcpuNum": 4
   },
   {
    "_defaultOrder": 23,
    "_isFastLaunch": false,
    "category": "Compute optimized",
    "gpuNum": 0,
    "hideHardwareSpecs": false,
    "memoryGiB": 16,
    "name": "ml.c5.2xlarge",
    "vcpuNum": 8
   },
   {
    "_defaultOrder": 24,
    "_isFastLaunch": false,
    "category": "Compute optimized",
    "gpuNum": 0,
    "hideHardwareSpecs": false,
    "memoryGiB": 32,
    "name": "ml.c5.4xlarge",
    "vcpuNum": 16
   },
   {
    "_defaultOrder": 25,
    "_isFastLaunch": false,
    "category": "Compute optimized",
    "gpuNum": 0,
    "hideHardwareSpecs": false,
    "memoryGiB": 72,
    "name": "ml.c5.9xlarge",
    "vcpuNum": 36
   },
   {
    "_defaultOrder": 26,
    "_isFastLaunch": false,
    "category": "Compute optimized",
    "gpuNum": 0,
    "hideHardwareSpecs": false,
    "memoryGiB": 96,
    "name": "ml.c5.12xlarge",
    "vcpuNum": 48
   },
   {
    "_defaultOrder": 27,
    "_isFastLaunch": false,
    "category": "Compute optimized",
    "gpuNum": 0,
    "hideHardwareSpecs": false,
    "memoryGiB": 144,
    "name": "ml.c5.18xlarge",
    "vcpuNum": 72
   },
   {
    "_defaultOrder": 28,
    "_isFastLaunch": false,
    "category": "Compute optimized",
    "gpuNum": 0,
    "hideHardwareSpecs": false,
    "memoryGiB": 192,
    "name": "ml.c5.24xlarge",
    "vcpuNum": 96
   },
   {
    "_defaultOrder": 29,
    "_isFastLaunch": true,
    "category": "Accelerated computing",
    "gpuNum": 1,
    "hideHardwareSpecs": false,
    "memoryGiB": 16,
    "name": "ml.g4dn.xlarge",
    "vcpuNum": 4
   },
   {
    "_defaultOrder": 30,
    "_isFastLaunch": false,
    "category": "Accelerated computing",
    "gpuNum": 1,
    "hideHardwareSpecs": false,
    "memoryGiB": 32,
    "name": "ml.g4dn.2xlarge",
    "vcpuNum": 8
   },
   {
    "_defaultOrder": 31,
    "_isFastLaunch": false,
    "category": "Accelerated computing",
    "gpuNum": 1,
    "hideHardwareSpecs": false,
    "memoryGiB": 64,
    "name": "ml.g4dn.4xlarge",
    "vcpuNum": 16
   },
   {
    "_defaultOrder": 32,
    "_isFastLaunch": false,
    "category": "Accelerated computing",
    "gpuNum": 1,
    "hideHardwareSpecs": false,
    "memoryGiB": 128,
    "name": "ml.g4dn.8xlarge",
    "vcpuNum": 32
   },
   {
    "_defaultOrder": 33,
    "_isFastLaunch": false,
    "category": "Accelerated computing",
    "gpuNum": 4,
    "hideHardwareSpecs": false,
    "memoryGiB": 192,
    "name": "ml.g4dn.12xlarge",
    "vcpuNum": 48
   },
   {
    "_defaultOrder": 34,
    "_isFastLaunch": false,
    "category": "Accelerated computing",
    "gpuNum": 1,
    "hideHardwareSpecs": false,
    "memoryGiB": 256,
    "name": "ml.g4dn.16xlarge",
    "vcpuNum": 64
   },
   {
    "_defaultOrder": 35,
    "_isFastLaunch": false,
    "category": "Accelerated computing",
    "gpuNum": 1,
    "hideHardwareSpecs": false,
    "memoryGiB": 61,
    "name": "ml.p3.2xlarge",
    "vcpuNum": 8
   },
   {
    "_defaultOrder": 36,
    "_isFastLaunch": false,
    "category": "Accelerated computing",
    "gpuNum": 4,
    "hideHardwareSpecs": false,
    "memoryGiB": 244,
    "name": "ml.p3.8xlarge",
    "vcpuNum": 32
   },
   {
    "_defaultOrder": 37,
    "_isFastLaunch": false,
    "category": "Accelerated computing",
    "gpuNum": 8,
    "hideHardwareSpecs": false,
    "memoryGiB": 488,
    "name": "ml.p3.16xlarge",
    "vcpuNum": 64
   },
   {
    "_defaultOrder": 38,
    "_isFastLaunch": false,
    "category": "Accelerated computing",
    "gpuNum": 8,
    "hideHardwareSpecs": false,
    "memoryGiB": 768,
    "name": "ml.p3dn.24xlarge",
    "vcpuNum": 96
   },
   {
    "_defaultOrder": 39,
    "_isFastLaunch": false,
    "category": "Memory Optimized",
    "gpuNum": 0,
    "hideHardwareSpecs": false,
    "memoryGiB": 16,
    "name": "ml.r5.large",
    "vcpuNum": 2
   },
   {
    "_defaultOrder": 40,
    "_isFastLaunch": false,
    "category": "Memory Optimized",
    "gpuNum": 0,
    "hideHardwareSpecs": false,
    "memoryGiB": 32,
    "name": "ml.r5.xlarge",
    "vcpuNum": 4
   },
   {
    "_defaultOrder": 41,
    "_isFastLaunch": false,
    "category": "Memory Optimized",
    "gpuNum": 0,
    "hideHardwareSpecs": false,
    "memoryGiB": 64,
    "name": "ml.r5.2xlarge",
    "vcpuNum": 8
   },
   {
    "_defaultOrder": 42,
    "_isFastLaunch": false,
    "category": "Memory Optimized",
    "gpuNum": 0,
    "hideHardwareSpecs": false,
    "memoryGiB": 128,
    "name": "ml.r5.4xlarge",
    "vcpuNum": 16
   },
   {
    "_defaultOrder": 43,
    "_isFastLaunch": false,
    "category": "Memory Optimized",
    "gpuNum": 0,
    "hideHardwareSpecs": false,
    "memoryGiB": 256,
    "name": "ml.r5.8xlarge",
    "vcpuNum": 32
   },
   {
    "_defaultOrder": 44,
    "_isFastLaunch": false,
    "category": "Memory Optimized",
    "gpuNum": 0,
    "hideHardwareSpecs": false,
    "memoryGiB": 384,
    "name": "ml.r5.12xlarge",
    "vcpuNum": 48
   },
   {
    "_defaultOrder": 45,
    "_isFastLaunch": false,
    "category": "Memory Optimized",
    "gpuNum": 0,
    "hideHardwareSpecs": false,
    "memoryGiB": 512,
    "name": "ml.r5.16xlarge",
    "vcpuNum": 64
   },
   {
    "_defaultOrder": 46,
    "_isFastLaunch": false,
    "category": "Memory Optimized",
    "gpuNum": 0,
    "hideHardwareSpecs": false,
    "memoryGiB": 768,
    "name": "ml.r5.24xlarge",
    "vcpuNum": 96
   },
   {
    "_defaultOrder": 47,
    "_isFastLaunch": false,
    "category": "Accelerated computing",
    "gpuNum": 1,
    "hideHardwareSpecs": false,
    "memoryGiB": 16,
    "name": "ml.g5.xlarge",
    "vcpuNum": 4
   },
   {
    "_defaultOrder": 48,
    "_isFastLaunch": false,
    "category": "Accelerated computing",
    "gpuNum": 1,
    "hideHardwareSpecs": false,
    "memoryGiB": 32,
    "name": "ml.g5.2xlarge",
    "vcpuNum": 8
   },
   {
    "_defaultOrder": 49,
    "_isFastLaunch": false,
    "category": "Accelerated computing",
    "gpuNum": 1,
    "hideHardwareSpecs": false,
    "memoryGiB": 64,
    "name": "ml.g5.4xlarge",
    "vcpuNum": 16
   },
   {
    "_defaultOrder": 50,
    "_isFastLaunch": false,
    "category": "Accelerated computing",
    "gpuNum": 1,
    "hideHardwareSpecs": false,
    "memoryGiB": 128,
    "name": "ml.g5.8xlarge",
    "vcpuNum": 32
   },
   {
    "_defaultOrder": 51,
    "_isFastLaunch": false,
    "category": "Accelerated computing",
    "gpuNum": 1,
    "hideHardwareSpecs": false,
    "memoryGiB": 256,
    "name": "ml.g5.16xlarge",
    "vcpuNum": 64
   },
   {
    "_defaultOrder": 52,
    "_isFastLaunch": false,
    "category": "Accelerated computing",
    "gpuNum": 4,
    "hideHardwareSpecs": false,
    "memoryGiB": 192,
    "name": "ml.g5.12xlarge",
    "vcpuNum": 48
   },
   {
    "_defaultOrder": 53,
    "_isFastLaunch": false,
    "category": "Accelerated computing",
    "gpuNum": 4,
    "hideHardwareSpecs": false,
    "memoryGiB": 384,
    "name": "ml.g5.24xlarge",
    "vcpuNum": 96
   },
   {
    "_defaultOrder": 54,
    "_isFastLaunch": false,
    "category": "Accelerated computing",
    "gpuNum": 8,
    "hideHardwareSpecs": false,
    "memoryGiB": 768,
    "name": "ml.g5.48xlarge",
    "vcpuNum": 192
   },
   {
    "_defaultOrder": 55,
    "_isFastLaunch": false,
    "category": "Accelerated computing",
    "gpuNum": 8,
    "hideHardwareSpecs": false,
    "memoryGiB": 1152,
    "name": "ml.p4d.24xlarge",
    "vcpuNum": 96
   },
   {
    "_defaultOrder": 56,
    "_isFastLaunch": false,
    "category": "Accelerated computing",
    "gpuNum": 8,
    "hideHardwareSpecs": false,
    "memoryGiB": 1152,
    "name": "ml.p4de.24xlarge",
    "vcpuNum": 96
   }
  ],
  "instance_type": "ml.m5.xlarge",
  "kernelspec": {
   "display_name": "Python 3 (Data Science 3.0)",
   "language": "python",
   "name": "python3__SAGEMAKER_INTERNAL__arn:aws:sagemaker:us-east-1:081325390199:image/sagemaker-data-science-310-v1"
  },
  "language_info": {
   "codemirror_mode": {
    "name": "ipython",
    "version": 3
   },
   "file_extension": ".py",
   "mimetype": "text/x-python",
   "name": "python",
   "nbconvert_exporter": "python",
   "pygments_lexer": "ipython3",
   "version": "3.10.6"
  }
 },
 "nbformat": 4,
 "nbformat_minor": 4
}
