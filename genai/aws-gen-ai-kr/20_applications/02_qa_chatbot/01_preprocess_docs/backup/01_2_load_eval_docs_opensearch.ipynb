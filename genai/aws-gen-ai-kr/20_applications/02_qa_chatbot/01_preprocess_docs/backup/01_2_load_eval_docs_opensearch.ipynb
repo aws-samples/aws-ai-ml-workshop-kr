{
 "cells": [
  {
   "cell_type": "markdown",
   "metadata": {
    "tags": []
   },
   "source": [
    "# Eval Vector Store Index \n",
    "\n",
    "---\n",
    "\n",
    "---"
   ]
  },
  {
   "cell_type": "markdown",
   "metadata": {
    "tags": []
   },
   "source": [
    "# 1. Bedrock Client 생성"
   ]
  },
  {
   "cell_type": "code",
   "execution_count": 40,
   "metadata": {
    "tags": []
   },
   "outputs": [
    {
     "name": "stdout",
     "output_type": "stream",
     "text": [
      "The autoreload extension is already loaded. To reload it, use:\n",
      "  %reload_ext autoreload\n",
      "/root/aws-ai-ml-workshop-kr/genai/aws-gen-ai-kr/20_applications/02_qa_chatbot/01_preprocess_docs/utils\n"
     ]
    }
   ],
   "source": [
    "%load_ext autoreload\n",
    "%autoreload 2\n",
    "\n",
    "import sys, os\n",
    "# module_path = \"../../../utils\"\n",
    "# sys.path.append(os.path.abspath(module_path))\n",
    "# print(os.path.abspath(module_path))\n",
    "\n",
    "module_path = \"./utils\"\n",
    "sys.path.append(os.path.abspath(module_path))\n",
    "print(os.path.abspath(module_path))"
   ]
  },
  {
   "cell_type": "code",
   "execution_count": 41,
   "metadata": {
    "tags": []
   },
   "outputs": [
    {
     "name": "stdout",
     "output_type": "stream",
     "text": [
      "Create new client\n",
      "  Using region: us-east-1\n",
      "  Using profile: None\n",
      "boto3 Bedrock client successfully created!\n",
      "bedrock-runtime(https://bedrock-runtime.us-east-1.amazonaws.com)\n",
      "\n",
      "== FM lists ==\n",
      "{'Claude-Instant-V1': 'anthropic.claude-instant-v1',\n",
      " 'Claude-V1': 'anthropic.claude-v1',\n",
      " 'Claude-V2': 'anthropic.claude-v2',\n",
      " 'Command': 'cohere.command-text-v14',\n",
      " 'Jurassic-2-Mid': 'ai21.j2-mid-v1',\n",
      " 'Jurassic-2-Ultra': 'ai21.j2-ultra-v1',\n",
      " 'Llama2-13b-Chat': 'meta.llama2-13b-chat-v1',\n",
      " 'Titan-Embeddings-G1': 'amazon.titan-embed-text-v1',\n",
      " 'Titan-Text-G1': 'TBD'}\n"
     ]
    }
   ],
   "source": [
    "import json\n",
    "import boto3\n",
    "from pprint import pprint\n",
    "from termcolor import colored\n",
    "from utils import bedrock, print_ww\n",
    "from utils.bedrock import bedrock_info\n",
    "\n",
    "# ---- ⚠️ Un-comment and edit the below lines as needed for your AWS setup ⚠️ ----\n",
    "\n",
    "# os.environ[\"AWS_DEFAULT_REGION\"] = \"<REGION_NAME>\"  # E.g. \"us-east-1\"\n",
    "# os.environ[\"AWS_PROFILE\"] = \"<YOUR_PROFILE>\"\n",
    "# os.environ[\"BEDROCK_ASSUME_ROLE\"] = \"<YOUR_ROLE_ARN>\"  # E.g. \"arn:aws:...\"\n",
    "# os.environ[\"BEDROCK_ENDPOINT_URL\"] = \"<YOUR_ENDPOINT_URL>\"  # E.g. \"https://...\"\n",
    "\n",
    "\n",
    "boto3_bedrock = bedrock.get_bedrock_client(\n",
    "    assumed_role=os.environ.get(\"BEDROCK_ASSUME_ROLE\", None),\n",
    "    endpoint_url=os.environ.get(\"BEDROCK_ENDPOINT_URL\", None),\n",
    "    region=os.environ.get(\"AWS_DEFAULT_REGION\", None),\n",
    ")\n",
    "\n",
    "print(colored(\"\\n== FM lists ==\", \"green\"))\n",
    "pprint(bedrock_info.get_list_fm_models())"
   ]
  },
  {
   "cell_type": "markdown",
   "metadata": {},
   "source": [
    "# 2. Titan Embedding 모델 로딩"
   ]
  },
  {
   "cell_type": "code",
   "execution_count": 42,
   "metadata": {
    "tags": []
   },
   "outputs": [
    {
     "data": {
      "text/plain": [
       "BedrockEmbeddings(client=<botocore.client.BedrockRuntime object at 0x7f0a67c0c550>, region_name=None, credentials_profile_name=None, model_id='amazon.titan-embed-text-v1', model_kwargs=None, endpoint_url=None)"
      ]
     },
     "execution_count": 42,
     "metadata": {},
     "output_type": "execute_result"
    }
   ],
   "source": [
    "# We will be using the Titan Embeddings Model to generate our Embeddings.\n",
    "from langchain.embeddings import BedrockEmbeddings\n",
    "from langchain.llms.bedrock import Bedrock\n",
    "\n",
    "llm_emb = BedrockEmbeddings(client=boto3_bedrock)\n",
    "llm_emb"
   ]
  },
  {
   "cell_type": "markdown",
   "metadata": {},
   "source": [
    "# 3. Index 이름 결정"
   ]
  },
  {
   "cell_type": "code",
   "execution_count": 43,
   "metadata": {
    "tags": []
   },
   "outputs": [],
   "source": [
    "index_name = \"genai-poc-knox-cleaned-eval-sample-0.02-1024c-256o-v6\"\n",
    "\n",
    "chunk_size = 1024\n",
    "chunk_overlap = 256\n"
   ]
  },
  {
   "cell_type": "markdown",
   "metadata": {},
   "source": [
    "# 4. Load all Json files"
   ]
  },
  {
   "cell_type": "code",
   "execution_count": 6,
   "metadata": {
    "tags": []
   },
   "outputs": [],
   "source": [
    "from utils.proc_docs import get_load_json, show_doc_json"
   ]
  },
  {
   "cell_type": "code",
   "execution_count": 44,
   "metadata": {
    "tags": []
   },
   "outputs": [
    {
     "name": "stdout",
     "output_type": "stream",
     "text": [
      "all json files:  1\n",
      "all items:  1732\n"
     ]
    }
   ],
   "source": [
    "import glob\n",
    "\n",
    "# Specify the directory and file pattern for .txt files\n",
    "folder_path = 'data/poc/preprocessed_json/*.json'\n",
    "\n",
    "# List all .txt files in the specified folder\n",
    "json_files = glob.glob(folder_path)\n",
    "# json_files = ['data/poc/customer_EFOTA.json']\n",
    "\n",
    "# Load each item per json file and append to a list\n",
    "doc_json_list = []\n",
    "for file_path in json_files:\n",
    "    doc_json = get_load_json(file_path)\n",
    "    doc_json_list.append(doc_json)\n",
    "\n",
    "print(\"all json files: \", len(doc_json_list))    \n",
    "# Flatten the list of lists into a single list\n",
    "all_docs = []\n",
    "for item in doc_json_list:\n",
    "        all_docs.extend(item)\n",
    "        \n",
    "print(\"all items: \", len(all_docs))"
   ]
  },
  {
   "cell_type": "code",
   "execution_count": 47,
   "metadata": {
    "tags": []
   },
   "outputs": [
    {
     "name": "stdout",
     "output_type": "stream",
     "text": [
      "eval docs:  34\n"
     ]
    },
    {
     "data": {
      "text/plain": [
       "[Document(page_content='AR demo barcodes. Use the following barcodes to test the Knox Capture AR features. Barcode 1 Barcode 2 Barcode 3 Barcode 4 Barcode 5 Barcode 6', metadata={'source': 'all_processed_data.json', 'seq_num': 1, 'title': 'AR demo barcodes', 'url': 'https://docs.samsungknox.com/admin/knox-capture/ar-demo-barcodes', 'project': 'KCAP', 'last_updated': '2023-10-16'}),\n",
       " Document(page_content=\"Videos. This section contains product and how-to videos related to Knox Capture. Getting started with Samsung Knox Capture In this video, we'll show you how to use Samsung Knox Capture to transform your mobile devices into powerful barcode scanners that can read, process, and output barcode data into other applications. Samsung Knox Capture: Enterprise-grade mobile scanning solution in Galaxy device This product intro video shows you how easy it is to transform rugged Samsung devices like the Galaxy XCover Pro into enterprise-grade barcode scanners.\", metadata={'source': 'all_processed_data.json', 'seq_num': 2, 'title': 'Videos', 'url': 'https://docs.samsungknox.com/admin/knox-capture/how-to-videos', 'project': 'KCAP', 'last_updated': '2023-07-26'})]"
      ]
     },
     "execution_count": 47,
     "metadata": {},
     "output_type": "execute_result"
    }
   ],
   "source": [
    "import random\n",
    "def get_sampling_doc(seed, ratio, docs):\n",
    "\n",
    "    random.seed(seed)\n",
    "    \n",
    "    eval_docs = docs[:int(len(docs)*ratio)]\n",
    "    \n",
    "    return eval_docs\n",
    "    \n",
    "eval_docs = get_sampling_doc(seed=200, ratio=0.02, docs= all_docs)\n",
    "print(\"eval docs: \", len(eval_docs))\n",
    "eval_docs[0:2]\n",
    "    \n",
    "    "
   ]
  },
  {
   "cell_type": "markdown",
   "metadata": {},
   "source": [
    "# 5. Chunking JSON Doc "
   ]
  },
  {
   "cell_type": "code",
   "execution_count": 48,
   "metadata": {
    "tags": []
   },
   "outputs": [
    {
     "name": "stdout",
     "output_type": "stream",
     "text": [
      "Number of chunk_docs after split and chunking= 152\n"
     ]
    }
   ],
   "source": [
    "from langchain.text_splitter import RecursiveCharacterTextSplitter, SpacyTextSplitter\n",
    "\n",
    "\n",
    "text_splitter = RecursiveCharacterTextSplitter(\n",
    "    # Set a really small chunk size, just to show.\n",
    "    chunk_size = chunk_size,\n",
    "    chunk_overlap  = chunk_overlap,\n",
    "    separators=[\"\\n\\n\", \"\\n\", \".\", \" \", \"\"],\n",
    "    length_function = len,\n",
    ")\n",
    "\n",
    "chunk_docs = text_splitter.split_documents(eval_docs)\n",
    "print(f\"Number of chunk_docs after split and chunking= {len(chunk_docs)}\")"
   ]
  },
  {
   "cell_type": "code",
   "execution_count": 49,
   "metadata": {
    "tags": []
   },
   "outputs": [
    {
     "data": {
      "text/plain": [
       "[Document(page_content='. Knox Capture pads the left side of the string with zeros until the desired length is reached. 1 Replace string &mdash; Replaces a specific string with a new, specified string. You must specify both strings. None Remove characters When sending data, removes a specific number of characters from the given positions. You must provide the start position and the number of characters to remove. Start position: 1 Number of characters: 1 Data sending Controls a selected amount of data to send to business apps. Send next characters &mdash; Sends a specific number of characters from the current cursor position. 1 Send remaining characters &mdash; Sends all data after the current cursor position. None Send up to substring &mdash; Sends all data up to a specific string. None Send pause &mdash; Pauses all actions for a specific number of milliseconds (max. 120000). 50ms Send string &mdash; Sends a specific string when the corresponding rule is triggered', metadata={'source': 'all_processed_data.json', 'seq_num': 9, 'title': 'Configure keystroke output and data formatting', 'url': 'https://docs.samsungknox.com/admin/knox-capture/how-to-guides/configure-keystroke-output-and-data-formatting', 'project': 'KCAP', 'last_updated': '2023-07-26'}),\n",
       " Document(page_content='. None Send pause &mdash; Pauses all actions for a specific number of milliseconds (max. 120000). 50ms Send string &mdash; Sends a specific string when the corresponding rule is triggered. None Send cha &mdash; Sends a specific ASCII/Unicode character when the corresponding rule is triggered. 32', metadata={'source': 'all_processed_data.json', 'seq_num': 9, 'title': 'Configure keystroke output and data formatting', 'url': 'https://docs.samsungknox.com/admin/knox-capture/how-to-guides/configure-keystroke-output-and-data-formatting', 'project': 'KCAP', 'last_updated': '2023-07-26'}),\n",
       " Document(page_content=\"Configure output path. Knox Capture can send scanned data to a Bluetooth-enabled device, like a PC, as a Human Interface Device (HID) keyboard, emulating the functionality of a hardware scanner. This feature is ideal for high-security enterprises with wireless network restrictions. For example, you might want to keep track of which assets are checked in or out of a restricted facility. In that case, you can use Knox Capture to scan an asset tag and send its data directly to a PC through Bluetooth. How it works The following describes how connected devices and scanned data are handled when using Knox Capture's Bluetooth wedge functionality: If the device is connected to a PC, output data is entered at the location of the keyboard cursor. Knox Capture applies any basic and advanced data formatting rules set in the default scanning profile to the output data. Only one Bluetooth-enabled device can be connected at a time. To connect to another device, you must first disconnect the current one\", metadata={'source': 'all_processed_data.json', 'seq_num': 10, 'title': 'Configure output path', 'url': 'https://docs.samsungknox.com/admin/knox-capture/how-to-guides/configure-output-path', 'project': 'KCAP', 'last_updated': '2023-07-26'}),\n",
       " Document(page_content=\". Only one Bluetooth-enabled device can be connected at a time. To connect to another device, you must first disconnect the current one. Scanning profiles are not supported, as Knox Capture operates as an HID keyboard. Connect a device To connect your device to a PC or other Bluetooth-enabled device using Knox Capture: 1. On the home screen, next to Profiles, tap the more actions menu icon. 2. Select Output path. 3. Under Bluetooth, toggle Use bluetooth wedge to the on position. 4. Under Paired devices, tap Make this device discoverable. To avoid unexpected scanning or output behavior, ensure you use Make this device discoverable instead of the Bluetooth menu in the device's settings. 5. If Bluetooth is disabled on your device, you're prompted to enable it. Then, Knox Capture asks for permission to make your device visible to others. Tap Allow. 6. Select a device to pair with. A status message confirms that the two devices are connected. A notification will alert you that the HID service is running\", metadata={'source': 'all_processed_data.json', 'seq_num': 10, 'title': 'Configure output path', 'url': 'https://docs.samsungknox.com/admin/knox-capture/how-to-guides/configure-output-path', 'project': 'KCAP', 'last_updated': '2023-07-26'}),\n",
       " Document(page_content='. Then, Knox Capture asks for permission to make your device visible to others. Tap Allow. 6. Select a device to pair with. A status message confirms that the two devices are connected. A notification will alert you that the HID service is running. Any scanned data is then sent to the paired device through Bluetooth. Unpair a device To unpair a device through Knox Capture: 1. On the home screen, next to Profiles, tap the three dots. 2. Select Output path. 3. Under Paired devices, tap the gear next to the device you want to unpair. The device will be unpaired and removed from the Paired devices list.', metadata={'source': 'all_processed_data.json', 'seq_num': 10, 'title': 'Configure output path', 'url': 'https://docs.samsungknox.com/admin/knox-capture/how-to-guides/configure-output-path', 'project': 'KCAP', 'last_updated': '2023-07-26'}),\n",
       " Document(page_content='Configure scan engine settings. Scan engine settings define the core Knox Capture behavior, such as how barcodes are scanned, and what happens with the data after each scan. The following settings are available: Barcode types Choose the barcode symbologies the scanner should recognize. For example, Code 39, and QR code. Available barcode types: Type , Options - , - Numeric-only (1D) , Codabar, EAN13, EAN8, Interleaved 2 of 5, UPCA, UPCE Alphanumeric (1D) , Code 128, Code 39, Code 93 2D , Data Matrix, PDF417, QR Every barcode except Codabar and Code 93 is enabled by default. Scanning settings Use scan settings to define how barcodes are scanned, selected, and parsed before Knox Capture sends them to a target business application. #Scan mode Sets the primary capture mode for scanning. Available options: Setting , Option - , - Single scan (default) , Scans and parses one barcode at a time. Multi scan , Detects multiple barcodes in the scan area at the same time', metadata={'source': 'all_processed_data.json', 'seq_num': 11, 'title': 'Configure scan engine settings', 'url': 'https://docs.samsungknox.com/admin/knox-capture/how-to-guides/configure-scan-engine-settings', 'project': 'KCAP', 'last_updated': '2023-10-16'}),\n",
       " Document(page_content='. #Scan mode Sets the primary capture mode for scanning. Available options: Setting , Option - , - Single scan (default) , Scans and parses one barcode at a time. Multi scan , Detects multiple barcodes in the scan area at the same time. #Single scan preferences Sets the way a user selects barcodes when interacting with the camera scanning UI in Single scan mode. Available options: Setting Options Barcode selection Automatic (default) &mdash; Captures the first-detected barcode without additional user input. Aim and scan &mdash; Requires the user to aim the camera at a barcode and tap the Scan button to capture barcode data. Continuous scanning Off (default) On &mdash; Allow device users to scan several barcodes in sequence (and have each scan be registered as a single event) without having to press the camera trigger button between each scan.1 1 Device users will see a Scan button in the camera preview window when they trigger a barcode scan', metadata={'source': 'all_processed_data.json', 'seq_num': 11, 'title': 'Configure scan engine settings', 'url': 'https://docs.samsungknox.com/admin/knox-capture/how-to-guides/configure-scan-engine-settings', 'project': 'KCAP', 'last_updated': '2023-10-16'}),\n",
       " Document(page_content='.1 1 Device users will see a Scan button in the camera preview window when they trigger a barcode scan. Device users can simply tap Scan each time they want to capture a new barcode. As each barcode is scanned, a counter in the top-left corner of the preview window gets updated. Once the user is finished scanning, they can click Done to close the camera preview window and return to the business app. #Multi scan preferences Sets the way a user selects barcodes when interacting with the camera scanning UI in Multi scan mode. Available options: Setting Options Barcode selection Automatic (default) &mdash; Allows the user to scan multiple barcodes without having to press a scan button. Batch &mdash; Lets the user scan multiple barcodes in a single camera frame using the scan button. Aim and scan &mdash; Requires the user to aim the camera at a set of barcodes and tap the Scan button to capture the barcodes, one at a time', metadata={'source': 'all_processed_data.json', 'seq_num': 11, 'title': 'Configure scan engine settings', 'url': 'https://docs.samsungknox.com/admin/knox-capture/how-to-guides/configure-scan-engine-settings', 'project': 'KCAP', 'last_updated': '2023-10-16'}),\n",
       " Document(page_content='. Batch &mdash; Lets the user scan multiple barcodes in a single camera frame using the scan button. Aim and scan &mdash; Requires the user to aim the camera at a set of barcodes and tap the Scan button to capture the barcodes, one at a time. Tap to select &mdash; Lets a user aim the camera at multiple barcodes, freeze the scanning overlay, tap to select barcodes, and tap the Scan button to capture data from the selected barcodes. Scan session limit This defines the number of barcodes a user must scan before the camera preview window closes. A counter in the top-left corner of the preview window gets updated after each scan. Once the user has scanned the set number of barcodes, the camera preview window closes and the user returns to the business app. Users can exit the camera preview window at any time by tapping Done, regardless of the number of barcodes captured. You can set any integer value. By default, this value is set to 0 to indicate infinite scans', metadata={'source': 'all_processed_data.json', 'seq_num': 11, 'title': 'Configure scan engine settings', 'url': 'https://docs.samsungknox.com/admin/knox-capture/how-to-guides/configure-scan-engine-settings', 'project': 'KCAP', 'last_updated': '2023-10-16'}),\n",
       " Document(page_content='. Users can exit the camera preview window at any time by tapping Done, regardless of the number of barcodes captured. You can set any integer value. By default, this value is set to 0 to indicate infinite scans. #Beep after scan Emits a beep sound after each barcode scan. This is toggled On by default. #Vibrate after scan Vibrates the device after each barcode scan. This is toggled On by default. Camera settings Customize camera hardware and scanning UI options using the following settings: Setting Options Default Camera Back (default) Front Flashlight Off (default) &mdash; When a scan is triggered, the flashlight is turned off. A flashlight button is provided in the preview, and the button is off. On &mdash; When a scan is triggered, the flashlight is automatically turned on. A flashlight button is provided in the preview, and the button is on. Auto2 &mdash; When a scan is triggered, the device automatically monitors the light level to turn the flashlights ON and OFF', metadata={'source': 'all_processed_data.json', 'seq_num': 11, 'title': 'Configure scan engine settings', 'url': 'https://docs.samsungknox.com/admin/knox-capture/how-to-guides/configure-scan-engine-settings', 'project': 'KCAP', 'last_updated': '2023-10-16'})]"
      ]
     },
     "execution_count": 49,
     "metadata": {},
     "output_type": "execute_result"
    }
   ],
   "source": [
    "chunk_docs[40:50]"
   ]
  },
  {
   "cell_type": "markdown",
   "metadata": {
    "tags": []
   },
   "source": [
    "# 4. LangChain OpenSearch VectorStore 생성 \n",
    "## 선수 조건\n"
   ]
  },
  {
   "cell_type": "markdown",
   "metadata": {
    "tags": []
   },
   "source": [
    "## 오픈 서치 도메인 및 인증 정보 세팅\n",
    "\n",
    "- [langchain.vectorstores.opensearch_vector_search.OpenSearchVectorSearch](https://api.python.langchain.com/en/latest/vectorstores/langchain.vectorstores.opensearch_vector_search.OpenSearchVectorSearch.html)"
   ]
  },
  {
   "cell_type": "markdown",
   "metadata": {},
   "source": [
    "#### [중요] 아래에 aws parameter store 에 아래 인증정보가 먼저 입력되어 있어야 합니다."
   ]
  },
  {
   "cell_type": "code",
   "execution_count": 50,
   "metadata": {
    "tags": []
   },
   "outputs": [],
   "source": [
    "from langchain.indexes import VectorstoreIndexCreator\n",
    "# from langchain.vectorstores import FAISS"
   ]
  },
  {
   "cell_type": "code",
   "execution_count": 51,
   "metadata": {
    "tags": []
   },
   "outputs": [],
   "source": [
    "from utils.proc_docs import get_parameter"
   ]
  },
  {
   "cell_type": "code",
   "execution_count": 52,
   "metadata": {
    "tags": []
   },
   "outputs": [],
   "source": [
    "import boto3\n",
    "ssm = boto3.client('ssm', 'us-east-1')\n",
    "\n",
    "opensearch_domain_endpoint = get_parameter(\n",
    "    boto3_client = ssm,\n",
    "    parameter_name = 'knox_opensearch_domain_endpoint',\n",
    ")\n",
    "\n",
    "opensearch_user_id = get_parameter(\n",
    "    boto3_client = ssm,\n",
    "    parameter_name = 'knox_opensearch_userid',\n",
    ")\n",
    "\n",
    "opensearch_user_password = get_parameter(\n",
    "    boto3_client = ssm,\n",
    "    parameter_name = 'knox_opensearch_password',\n",
    ")\n"
   ]
  },
  {
   "cell_type": "code",
   "execution_count": 53,
   "metadata": {
    "tags": []
   },
   "outputs": [],
   "source": [
    "opensearch_domain_endpoint = opensearch_domain_endpoint\n",
    "rag_user_name = opensearch_user_id\n",
    "rag_user_password = opensearch_user_password\n",
    "\n",
    "http_auth = (rag_user_name, rag_user_password) # Master username, Master password"
   ]
  },
  {
   "cell_type": "markdown",
   "metadata": {},
   "source": [
    "## OpenSearch Client 생성"
   ]
  },
  {
   "cell_type": "code",
   "execution_count": 54,
   "metadata": {
    "tags": []
   },
   "outputs": [],
   "source": [
    "from utils.opensearch import opensearch_utils"
   ]
  },
  {
   "cell_type": "code",
   "execution_count": 55,
   "metadata": {
    "tags": []
   },
   "outputs": [],
   "source": [
    "aws_region = os.environ.get(\"AWS_DEFAULT_REGION\", None)\n",
    "\n",
    "os_client = opensearch_utils.create_aws_opensearch_client(\n",
    "    aws_region,\n",
    "    opensearch_domain_endpoint,\n",
    "    http_auth\n",
    ")"
   ]
  },
  {
   "cell_type": "markdown",
   "metadata": {},
   "source": [
    "## 오픈 서치 인덱스 유무에 따라 삭제\n",
    "오픈 서치에 해당 인덱스가 존재하면, 삭제 합니다. "
   ]
  },
  {
   "cell_type": "code",
   "execution_count": 56,
   "metadata": {
    "tags": []
   },
   "outputs": [],
   "source": [
    "from utils.opensearch import opensearch_utils"
   ]
  },
  {
   "cell_type": "code",
   "execution_count": 57,
   "metadata": {
    "tags": []
   },
   "outputs": [
    {
     "name": "stdout",
     "output_type": "stream",
     "text": [
      "index_name=genai-poc-knox-cleaned-eval-sample-0.01-1024c-256o-v6, exists=False\n",
      "Index does not exist\n"
     ]
    }
   ],
   "source": [
    "os_client = opensearch_utils.create_aws_opensearch_client(\n",
    "    aws_region,\n",
    "    opensearch_domain_endpoint,\n",
    "    http_auth\n",
    ")\n",
    "\n",
    "index_exists = opensearch_utils.check_if_index_exists(\n",
    "    os_client,\n",
    "    index_name\n",
    ")\n",
    "\n",
    "if index_exists:\n",
    "    opensearch_utils.delete_index(\n",
    "        os_client,\n",
    "        index_name\n",
    "    )\n",
    "else:\n",
    "    print(\"Index does not exist\")"
   ]
  },
  {
   "cell_type": "code",
   "execution_count": 58,
   "metadata": {
    "tags": []
   },
   "outputs": [],
   "source": [
    "from langchain.vectorstores import OpenSearchVectorSearch"
   ]
  },
  {
   "cell_type": "code",
   "execution_count": 59,
   "metadata": {
    "tags": []
   },
   "outputs": [
    {
     "name": "stdout",
     "output_type": "stream",
     "text": [
      "CPU times: user 443 ms, sys: 14.8 ms, total: 457 ms\n",
      "Wall time: 14.8 s\n"
     ]
    }
   ],
   "source": [
    "%%time\n",
    "# by default langchain would create a k-NN index and the embeddings would be ingested as a k-NN vector type\n",
    "docsearch = OpenSearchVectorSearch.from_documents(\n",
    "    index_name=index_name,\n",
    "    documents=chunk_docs,\n",
    "    embedding=llm_emb,\n",
    "    opensearch_url=opensearch_domain_endpoint,\n",
    "    http_auth=http_auth,\n",
    "    bulk_size=100000,\n",
    "    timeout=60\n",
    ")"
   ]
  },
  {
   "cell_type": "markdown",
   "metadata": {},
   "source": [
    "## 인덱스 확인"
   ]
  },
  {
   "cell_type": "code",
   "execution_count": 60,
   "metadata": {
    "tags": []
   },
   "outputs": [
    {
     "name": "stdout",
     "output_type": "stream",
     "text": [
      "{'genai-poc-knox-cleaned-eval-sample-0.01-1024c-256o-v6': {'aliases': {},\n",
      "                                                           'mappings': {'properties': {'metadata': {'properties': {'last_updated': {'type': 'date'},\n",
      "                                                                                                                   'project': {'fields': {'keyword': {'ignore_above': 256,\n",
      "                                                                                                                                                      'type': 'keyword'}},\n",
      "                                                                                                                               'type': 'text'},\n",
      "                                                                                                                   'seq_num': {'type': 'long'},\n",
      "                                                                                                                   'source': {'fields': {'keyword': {'ignore_above': 256,\n",
      "                                                                                                                                                     'type': 'keyword'}},\n",
      "                                                                                                                              'type': 'text'},\n",
      "                                                                                                                   'title': {'fields': {'keyword': {'ignore_above': 256,\n",
      "                                                                                                                                                    'type': 'keyword'}},\n",
      "                                                                                                                             'type': 'text'},\n",
      "                                                                                                                   'url': {'fields': {'keyword': {'ignore_above': 256,\n",
      "                                                                                                                                                  'type': 'keyword'}},\n",
      "                                                                                                                           'type': 'text'}}},\n",
      "                                                                                       'text': {'fields': {'keyword': {'ignore_above': 256,\n",
      "                                                                                                                       'type': 'keyword'}},\n",
      "                                                                                                'type': 'text'},\n",
      "                                                                                       'vector_field': {'dimension': 1536,\n",
      "                                                                                                        'method': {'engine': 'nmslib',\n",
      "                                                                                                                   'name': 'hnsw',\n",
      "                                                                                                                   'parameters': {'ef_construction': 512,\n",
      "                                                                                                                                  'm': 16},\n",
      "                                                                                                                   'space_type': 'l2'},\n",
      "                                                                                                        'type': 'knn_vector'}}},\n",
      "                                                           'settings': {'index': {'creation_date': '1700557757816',\n",
      "                                                                                  'knn': 'true',\n",
      "                                                                                  'knn.algo_param': {'ef_search': '512'},\n",
      "                                                                                  'number_of_replicas': '2',\n",
      "                                                                                  'number_of_shards': '5',\n",
      "                                                                                  'provided_name': 'genai-poc-knox-cleaned-eval-sample-0.01-1024c-256o-v6',\n",
      "                                                                                  'uuid': 'oH0Yyk_iQrqmxNQ6jnzrJg',\n",
      "                                                                                  'version': {'created': '136307827'}}}}}\n"
     ]
    }
   ],
   "source": [
    "index_info = os_client.indices.get(index=index_name)\n",
    "pprint(index_info)"
   ]
  },
  {
   "cell_type": "markdown",
   "metadata": {
    "tags": []
   },
   "source": [
    "## 랭체인 인덱스 연결 오브젝트 생성\n",
    "\n",
    "- [langchain.vectorstores.opensearch_vector_search.OpenSearchVectorSearch](https://api.python.langchain.com/en/latest/vectorstores/langchain.vectorstores.opensearch_vector_search.OpenSearchVectorSearch.html)"
   ]
  },
  {
   "cell_type": "code",
   "execution_count": 61,
   "metadata": {
    "tags": []
   },
   "outputs": [
    {
     "data": {
      "text/plain": [
       "<langchain.vectorstores.opensearch_vector_search.OpenSearchVectorSearch at 0x7f0a689a2410>"
      ]
     },
     "execution_count": 61,
     "metadata": {},
     "output_type": "execute_result"
    }
   ],
   "source": [
    "vector_db = OpenSearchVectorSearch(\n",
    "    index_name=index_name,\n",
    "    opensearch_url=opensearch_domain_endpoint,\n",
    "    embedding_function=llm_emb,\n",
    "    http_auth=http_auth, # http_auth\n",
    "    is_aoss =False,\n",
    "    engine=\"faiss\",\n",
    "    space_type=\"l2\"\n",
    ")\n",
    "vector_db"
   ]
  },
  {
   "cell_type": "code",
   "execution_count": 62,
   "metadata": {
    "tags": []
   },
   "outputs": [
    {
     "name": "stdout",
     "output_type": "stream",
     "text": [
      "query:  {'query': {'bool': {'must': [{'match': {'text': {'query': 'Configure keystroke output', 'minimum_should_match': '0%', 'operator': 'or'}}}], 'filter': []}}}\n",
      "# of searched docs:  10\n",
      "# of display: 3\n",
      "---------------------\n",
      "_id in index:  5d7284bc-16fb-4fe0-b31e-34e7173821ba\n",
      "7.4853153\n",
      "Configure keystroke output and data formatting. Knox Capture sends scanned data to business apps as keystrokes, imitating the way a user manually enters data using a keyboard. If you activate a KPE (Knox Platform for Enterprise) Premium license with a Galaxy S20 device in WP-C mode, you must set `AdvancedRestrictionPolicy.allowRemoteControl()` to True in your EMM. Enabling this policy allows keystroke output to function as expected. Keystroke output Refer to the following settings to modify scanned data and format its output: Setting Description Options Default Send Enter character as Sets the output format for all existing and appended Enters Key event &mdash; Sends Enter as a key event. String &mdash; Sends Enter as ASCII Line Feed 0x0A. Both String and Key event &mdash; Sends Enter as ASCII Line Feed 0x0A and key event. None &mdash; Sends no output for Enter. None Send Tab character as Sets the output format for all existing and appended Tabs Key event &mdash; Sends Tab as a key event\n",
      "{'source': 'all_processed_data.json', 'seq_num': 9, 'title': 'Configure keystroke output and data formatting', 'url': 'https://docs.samsungknox.com/admin/knox-capture/how-to-guides/configure-keystroke-output-and-data-formatting', 'project': 'KCAP', 'last_updated': '2023-07-26'}\n",
      "---------------------\n",
      "_id in index:  9f22f31a-2398-4dff-a91c-22a88e330c19\n",
      "5.8813534\n",
      "Knox Capture Scandit Edition. About this section Knox Capture Scandit Edition has all of the same functionality as the standard Samsung Knox Capture, however some of the scan engine settings and how licenses are managed differ slightly between the two versions. In this section, you'll find the procedures and workflows that are unique to Knox Capture Scandit Edition. For all other workflows, refer to the main document's how-to guide topics: Create scanning profiles, Configure keystroke output and data formatting, Configure apps and activities, Export and deploy configuration, Set scan trigger, Connect HW scanner, Configure output path, Use scanner overlay, Use test mode, Use intent output\n",
      "{'source': 'all_processed_data.json', 'seq_num': 26, 'title': 'Knox Capture Scandit Edition', 'url': 'https://docs.samsungknox.com/admin/knox-capture/knox-capture-scandit/welcome', 'project': 'KCAP', 'last_updated': '2023-07-26'}\n",
      "---------------------\n",
      "_id in index:  f15f9d0c-3d07-4195-986a-a8cc0ceee4ea\n",
      "5.7867703\n",
      ". 2. Review the content of the blue test overlay in the open app's UI. The overlay displays: Activity - The name of the activity in focus. Active profile - The Knox Capture profile to which the in-focus activity belongs. This is the profile defining scan settings and keystroke output rules for the in-focus activity. Scan a barcode and view the test overlay Each scanning experience differs depending on the configuration. For example, the camera may not automatically scan a barcode. For more information, see Scan engine settings. 1. Press the camera scan trigger to open the camera for scanning. 2. Aim the camera at the barcode to scan. 3. View the test overlay. You should see the following new values: Output - The processed data in test mode notation with keystroke output rules applied. Scanned data - The scanned barcode data in test mode notation without any keystroke output rules applied. Scanned raw - The scanned barcode data in hexadecimal format without any keystroke output rules applied. 4\n",
      "{'source': 'all_processed_data.json', 'seq_num': 19, 'title': 'Use test mode', 'url': 'https://docs.samsungknox.com/admin/knox-capture/how-to-guides/use-test-mode', 'project': 'KCAP', 'last_updated': '2023-07-26'}\n",
      "---------------------\n"
     ]
    }
   ],
   "source": [
    "# query = \"knox\"\n",
    "query = \"Configure keystroke output\"\n",
    "query = opensearch_utils.get_query(\n",
    "    query=query\n",
    ")\n",
    "\n",
    "print(\"query: \", query)\n",
    "response = opensearch_utils.search_document(os_client, query, index_name)\n",
    "opensearch_utils.parse_keyword_response(response, show_size=3)"
   ]
  },
  {
   "cell_type": "markdown",
   "metadata": {
    "tags": []
   },
   "source": [
    "# 5.오픈 서치에 \"유사 서치\" 검색\n",
    "- query 를 제공해서 실제로 유사한 내용이 검색이 되는지를 확인 합니다.\n",
    "\n"
   ]
  },
  {
   "cell_type": "code",
   "execution_count": 63,
   "metadata": {
    "tags": []
   },
   "outputs": [],
   "source": [
    "from langchain.chains.question_answering import load_qa_chain\n",
    "from utils.rag import get_semantic_similar_docs, get_lexical_similar_docs, get_ensemble_results"
   ]
  },
  {
   "cell_type": "code",
   "execution_count": 64,
   "metadata": {
    "tags": []
   },
   "outputs": [],
   "source": [
    "import copy\n",
    "from langchain.schema import Document\n",
    "from langchain import PromptTemplate\n",
    "from operator import itemgetter"
   ]
  },
  {
   "cell_type": "code",
   "execution_count": 65,
   "metadata": {
    "tags": []
   },
   "outputs": [],
   "source": [
    "from utils.proc_docs import search_hybrid"
   ]
  },
  {
   "cell_type": "code",
   "execution_count": 66,
   "metadata": {
    "tags": []
   },
   "outputs": [
    {
     "name": "stdout",
     "output_type": "stream",
     "text": [
      "Query: \n",
      " Configure keystroke output\n",
      "##############################\n",
      "similar_docs_semantic\n",
      "##############################\n",
      "\n",
      "Score: 1.0\n",
      "['. Both String and Key event &mdash; Sends Enter as ASCII Line Feed 0x0A and key event. None &mdash; Sends no output for Enter. None Send Tab character as Sets the output format for all existing and appended Tabs Key event &mdash; Sends Tab as a key event. String &mdash; Sends Tab as ASCII Horizontal Tab 0x09. Both String and Key event &mdash; Sends Tab as ASCII Horizontal Tab 0x09 and key event. None &mdash; Sends no output for Tab. None Send Carriage Return character as Sets the output format for all Carriage Returns Key event &mdash; Sends Carriage Return as a key event. String &mdash; Sends Carriage Return as ASCII Carriage Return 0x0D. Both String and Key event &mdash; Sends Carriage Return as ASCII Carriage Return 0x0D and key event. None &mdash; Sends no output for Carriage Return. None Send ASCII Control characters as Sets the output format for ASCII characters 1-31 Key event &mdash; Sends ASCII codes 1 through 31 as key events String &mdash; Sends ASCII codes 1 through 31 as strings']\n",
      "{'source': 'all_processed_data.json', 'seq_num': 9, 'title': 'Configure keystroke output and data formatting', 'url': 'https://docs.samsungknox.com/admin/knox-capture/how-to-guides/configure-keystroke-output-and-data-formatting', 'project': 'KCAP', 'last_updated': '2023-07-26'}\n",
      "--------------------------------------------------\n",
      "\n",
      "Score: 0.9936859125109385\n",
      "['. None Send ASCII Control characters as Sets the output format for ASCII characters 1-31 Key event &mdash; Sends ASCII codes 1 through 31 as key events String &mdash; Sends ASCII codes 1 through 31 as strings. Both String and Key event &mdash; Sends ASCII control characters in both string and key event formats. None &mdash; Sends no output for ASCII control characters. String Send ASCII Printable characters as Sets the output format for ASCII characters 32-126 Key event &mdash; Sends ASCII characters 32-126 as key events. This is useful when a text input field, like a password input, requires key events for validation and does not accept pasted strings. String &mdash; Sends ASCII printable characters as strings. Both String and Key event &mdash; Sends ASCII printable characters as both strings and key events. None &mdash; Sends no output for ASCII printable characters. String Key event delay Sets the delay in milliseconds that Knox Capture will wait before sending a key event like Tab']\n",
      "{'source': 'all_processed_data.json', 'seq_num': 9, 'title': 'Configure keystroke output and data formatting', 'url': 'https://docs.samsungknox.com/admin/knox-capture/how-to-guides/configure-keystroke-output-and-data-formatting', 'project': 'KCAP', 'last_updated': '2023-07-26'}\n",
      "--------------------------------------------------\n",
      "\n",
      "Score: 0.9874974703454705\n",
      "['Configure keystroke output and data formatting. Knox Capture sends scanned data to business apps as keystrokes, imitating the way a user manually enters data using a keyboard. If you activate a KPE (Knox Platform for Enterprise) Premium license with a Galaxy S20 device in WP-C mode, you must set `AdvancedRestrictionPolicy.allowRemoteControl()` to True in your EMM. Enabling this policy allows keystroke output to function as expected. Keystroke output Refer to the following settings to modify scanned data and format its output: Setting Description Options Default Send Enter character as Sets the output format for all existing and appended Enters Key event &mdash; Sends Enter as a key event. String &mdash; Sends Enter as ASCII Line Feed 0x0A. Both String and Key event &mdash; Sends Enter as ASCII Line Feed 0x0A and key event. None &mdash; Sends no output for Enter. None Send Tab character as Sets the output format for all existing and appended Tabs Key event &mdash; Sends Tab as a key event']\n",
      "{'source': 'all_processed_data.json', 'seq_num': 9, 'title': 'Configure keystroke output and data formatting', 'url': 'https://docs.samsungknox.com/admin/knox-capture/how-to-guides/configure-keystroke-output-and-data-formatting', 'project': 'KCAP', 'last_updated': '2023-07-26'}\n",
      "--------------------------------------------------\n",
      "\n",
      "Score: 0.8597763994746691\n",
      "['. None &mdash; Sends no output for ASCII printable characters. String Key event delay Sets the delay in milliseconds that Knox Capture will wait before sending a key event like Tab. Key events transmit slower than string data, which can cause synchronization problems. If your barcode output is partially cut off, try increasing the key event delay to a higher value. [0, Int32 max value] 0 Basic data formatting Refer to the following basic data formatting information to create rules to add prefixes, suffixes, and append Tab or Enter characters to scanned barcode data before output. If appending a Tab or Enter key to the data output, you must also select an output option in the Send Tab as or Sent Enter as settings above. Setting , Description , Default - , - , - Prefix to data , Prepends a string of characters to the beginning of the scanned data. None Suffix to data , Appends a string of characters to the end of the scanned data']\n",
      "{'source': 'all_processed_data.json', 'seq_num': 9, 'title': 'Configure keystroke output and data formatting', 'url': 'https://docs.samsungknox.com/admin/knox-capture/how-to-guides/configure-keystroke-output-and-data-formatting', 'project': 'KCAP', 'last_updated': '2023-07-26'}\n",
      "--------------------------------------------------\n",
      "\n",
      "Score: 0.8584869386085991\n",
      "[\". For a full list of supported devices, see Supported devices. Keystroke output support in WP-C deployments In previous Knox Capture versions, if an IT admin activated a KPE Premium license with a WP-C deployment, remote injection was blocked in WP-C mode. As a workaround, `AdvancedRestrictionPolicy.allowRemoteControl()` must be set to True to support keystroke output. With this release, keystroke output in WP-C deployments is supported regardless of whether `AdvancedRestrictionPolicy.allowRemoteControl()` is set to True. Keystroke output support is not yet available for Galaxy S20 devices. You must use the aforementioned workaround to use keystroke output on Galaxy S20 devices. Option to disable default profile IT admins can now enable or disable the default profile. If you create profiles for several applications and don't want the default profile's behavior to override any configurations, set the default profile to Off. The default profile setting is available on the Knox Capture main page\"]\n",
      "{'source': 'all_processed_data.json', 'seq_num': 29, 'title': 'Knox Capture v1.2 release notes', 'url': 'https://docs.samsungknox.com/admin/knox-capture/release-notes/v1-2', 'project': 'KCAP', 'last_updated': '2023-07-26'}\n",
      "--------------------------------------------------\n",
      "lexical search query: \n",
      "{'query': {'bool': {'filter': [],\n",
      "                    'must': [{'match': {'text': {'minimum_should_match': '75%',\n",
      "                                                 'operator': 'or',\n",
      "                                                 'query': 'Configure keystroke '\n",
      "                                                          'output'}}}]}},\n",
      " 'size': 5}\n",
      "##############################\n",
      "similar_docs_keyword\n",
      "##############################\n",
      "\n",
      "Score: 1.0\n",
      "['Configure keystroke output and data formatting. Knox Capture sends scanned data to business apps as keystrokes, imitating the way a user manually enters data using a keyboard. If you activate a KPE (Knox Platform for Enterprise) Premium license with a Galaxy S20 device in WP-C mode, you must set `AdvancedRestrictionPolicy.allowRemoteControl()` to True in your EMM. Enabling this policy allows keystroke output to function as expected. Keystroke output Refer to the following settings to modify scanned data and format its output: Setting Description Options Default Send Enter character as Sets the output format for all existing and appended Enters Key event &mdash; Sends Enter as a key event. String &mdash; Sends Enter as ASCII Line Feed 0x0A. Both String and Key event &mdash; Sends Enter as ASCII Line Feed 0x0A and key event. None &mdash; Sends no output for Enter. None Send Tab character as Sets the output format for all existing and appended Tabs Key event &mdash; Sends Tab as a key event']\n",
      "{'source': 'all_processed_data.json', 'seq_num': 9, 'title': 'Configure keystroke output and data formatting', 'url': 'https://docs.samsungknox.com/admin/knox-capture/how-to-guides/configure-keystroke-output-and-data-formatting', 'project': 'KCAP', 'last_updated': '2023-07-26', 'id': '5d7284bc-16fb-4fe0-b31e-34e7173821ba'}\n",
      "--------------------------------------------------\n",
      "\n",
      "Score: 0.7857188594313456\n",
      "[\"Knox Capture Scandit Edition. About this section Knox Capture Scandit Edition has all of the same functionality as the standard Samsung Knox Capture, however some of the scan engine settings and how licenses are managed differ slightly between the two versions. In this section, you'll find the procedures and workflows that are unique to Knox Capture Scandit Edition. For all other workflows, refer to the main document's how-to guide topics: Create scanning profiles, Configure keystroke output and data formatting, Configure apps and activities, Export and deploy configuration, Set scan trigger, Connect HW scanner, Configure output path, Use scanner overlay, Use test mode, Use intent output\"]\n",
      "{'source': 'all_processed_data.json', 'seq_num': 26, 'title': 'Knox Capture Scandit Edition', 'url': 'https://docs.samsungknox.com/admin/knox-capture/knox-capture-scandit/welcome', 'project': 'KCAP', 'last_updated': '2023-07-26', 'id': '9f22f31a-2398-4dff-a91c-22a88e330c19'}\n",
      "--------------------------------------------------\n",
      "\n",
      "Score: 0.7730830390003745\n",
      "[\". 2. Review the content of the blue test overlay in the open app's UI. The overlay displays: Activity - The name of the activity in focus. Active profile - The Knox Capture profile to which the in-focus activity belongs. This is the profile defining scan settings and keystroke output rules for the in-focus activity. Scan a barcode and view the test overlay Each scanning experience differs depending on the configuration. For example, the camera may not automatically scan a barcode. For more information, see Scan engine settings. 1. Press the camera scan trigger to open the camera for scanning. 2. Aim the camera at the barcode to scan. 3. View the test overlay. You should see the following new values: Output - The processed data in test mode notation with keystroke output rules applied. Scanned data - The scanned barcode data in test mode notation without any keystroke output rules applied. Scanned raw - The scanned barcode data in hexadecimal format without any keystroke output rules applied. 4\"]\n",
      "{'source': 'all_processed_data.json', 'seq_num': 19, 'title': 'Use test mode', 'url': 'https://docs.samsungknox.com/admin/knox-capture/how-to-guides/use-test-mode', 'project': 'KCAP', 'last_updated': '2023-07-26', 'id': 'f15f9d0c-3d07-4195-986a-a8cc0ceee4ea'}\n",
      "--------------------------------------------------\n",
      "\n",
      "Score: 0.7179294104017235\n",
      "[\"Use intent output. If your business app needs to obtain scanned data programmatically (for example, to process it further in-app), Knox Capture can pass the data within an Android intent object instead of through keystroke output. You can also enable intent output to work with keystroke output. For example, if you select Send via startActivity as your intent delivery method, Knox Capture first sends keystrokes to the foreground activity, then sends the intent to the new activity instance. To use Knox Capture's intent output feature: Business app developers must ensure the business app receives the intent, and, IT admins must configure Knox Capture's Intent output feature accordingly. The information in this section is divided into instructions for business app developers and instructions for Knox Capture admins. For business app developers #Edit the AndroidManifest.xml file For your business app to parse the scanned data, you need to set up Knox Capture to send it the correct intent output\"]\n",
      "{'source': 'all_processed_data.json', 'seq_num': 17, 'title': 'Use intent output', 'url': 'https://docs.samsungknox.com/admin/knox-capture/how-to-guides/use-intent-output', 'project': 'KCAP', 'last_updated': '2023-07-26', 'id': '7e8a70d4-4f2e-4c94-90d6-a76b06f295f3'}\n",
      "--------------------------------------------------\n",
      "\n",
      "Score: 0.677336063585725\n",
      "[\"Configure apps and activities. Each Knox Capture profile supports a set of apps to which its scanner and keystroke output settings apply. IT admins can set more refined control over each scanning context within an app by associating individual Android activities with different Knox Capture profiles. A user interacts with an Android activity within an app's UI, such as a user data form or search input. Refer to the Android developer documentation for more information about activities. Depending on deployment requirements, consider configuring one profile for all apps. Or, set up a unique profile for each device app. Or, associate a group of apps or activities with one profile. For example, within the *same* app, consider associating: A user data form with one profile that appends a Tab key event to scanned data, A search input field with a profile that appends an Enter key event A single profile can have numerous apps or activities, but a single activity can only belong to one profile\"]\n",
      "{'source': 'all_processed_data.json', 'seq_num': 8, 'title': 'Configure apps and activities', 'url': 'https://docs.samsungknox.com/admin/knox-capture/how-to-guides/configure-apps-and-activities', 'project': 'KCAP', 'last_updated': '2023-07-26', 'id': '19bed47d-1671-4442-b970-172a728bb946'}\n",
      "--------------------------------------------------\n",
      "##############################\n",
      "similar_docs_ensemble\n",
      "##############################\n",
      "\n",
      "Score: 0.016133229247983348\n",
      "['Configure keystroke output and data formatting. Knox Capture sends scanned data to business apps as keystrokes, imitating the way a user manually enters data using a keyboard. If you activate a KPE (Knox Platform for Enterprise) Premium license with a Galaxy S20 device in WP-C mode, you must set `AdvancedRestrictionPolicy.allowRemoteControl()` to True in your EMM. Enabling this policy allows keystroke output to function as expected. Keystroke output Refer to the following settings to modify scanned data and format its output: Setting Description Options Default Send Enter character as Sets the output format for all existing and appended Enters Key event &mdash; Sends Enter as a key event. String &mdash; Sends Enter as ASCII Line Feed 0x0A. Both String and Key event &mdash; Sends Enter as ASCII Line Feed 0x0A and key event. None &mdash; Sends no output for Enter. None Send Tab character as Sets the output format for all existing and appended Tabs Key event &mdash; Sends Tab as a key event']\n",
      "{'source': 'all_processed_data.json', 'seq_num': 9, 'title': 'Configure keystroke output and data formatting', 'url': 'https://docs.samsungknox.com/admin/knox-capture/how-to-guides/configure-keystroke-output-and-data-formatting', 'project': 'KCAP', 'last_updated': '2023-07-26', 'id': '5d7284bc-16fb-4fe0-b31e-34e7173821ba'}\n",
      "--------------------------------------------------\n",
      "\n",
      "Score: 0.00819672131147541\n",
      "['. Both String and Key event &mdash; Sends Enter as ASCII Line Feed 0x0A and key event. None &mdash; Sends no output for Enter. None Send Tab character as Sets the output format for all existing and appended Tabs Key event &mdash; Sends Tab as a key event. String &mdash; Sends Tab as ASCII Horizontal Tab 0x09. Both String and Key event &mdash; Sends Tab as ASCII Horizontal Tab 0x09 and key event. None &mdash; Sends no output for Tab. None Send Carriage Return character as Sets the output format for all Carriage Returns Key event &mdash; Sends Carriage Return as a key event. String &mdash; Sends Carriage Return as ASCII Carriage Return 0x0D. Both String and Key event &mdash; Sends Carriage Return as ASCII Carriage Return 0x0D and key event. None &mdash; Sends no output for Carriage Return. None Send ASCII Control characters as Sets the output format for ASCII characters 1-31 Key event &mdash; Sends ASCII codes 1 through 31 as key events String &mdash; Sends ASCII codes 1 through 31 as strings']\n",
      "{'source': 'all_processed_data.json', 'seq_num': 9, 'title': 'Configure keystroke output and data formatting', 'url': 'https://docs.samsungknox.com/admin/knox-capture/how-to-guides/configure-keystroke-output-and-data-formatting', 'project': 'KCAP', 'last_updated': '2023-07-26'}\n",
      "--------------------------------------------------\n",
      "\n",
      "Score: 0.008064516129032258\n",
      "['. None Send ASCII Control characters as Sets the output format for ASCII characters 1-31 Key event &mdash; Sends ASCII codes 1 through 31 as key events String &mdash; Sends ASCII codes 1 through 31 as strings. Both String and Key event &mdash; Sends ASCII control characters in both string and key event formats. None &mdash; Sends no output for ASCII control characters. String Send ASCII Printable characters as Sets the output format for ASCII characters 32-126 Key event &mdash; Sends ASCII characters 32-126 as key events. This is useful when a text input field, like a password input, requires key events for validation and does not accept pasted strings. String &mdash; Sends ASCII printable characters as strings. Both String and Key event &mdash; Sends ASCII printable characters as both strings and key events. None &mdash; Sends no output for ASCII printable characters. String Key event delay Sets the delay in milliseconds that Knox Capture will wait before sending a key event like Tab']\n",
      "{'source': 'all_processed_data.json', 'seq_num': 9, 'title': 'Configure keystroke output and data formatting', 'url': 'https://docs.samsungknox.com/admin/knox-capture/how-to-guides/configure-keystroke-output-and-data-formatting', 'project': 'KCAP', 'last_updated': '2023-07-26'}\n",
      "--------------------------------------------------\n",
      "\n",
      "Score: 0.008064516129032258\n",
      "[\"Knox Capture Scandit Edition. About this section Knox Capture Scandit Edition has all of the same functionality as the standard Samsung Knox Capture, however some of the scan engine settings and how licenses are managed differ slightly between the two versions. In this section, you'll find the procedures and workflows that are unique to Knox Capture Scandit Edition. For all other workflows, refer to the main document's how-to guide topics: Create scanning profiles, Configure keystroke output and data formatting, Configure apps and activities, Export and deploy configuration, Set scan trigger, Connect HW scanner, Configure output path, Use scanner overlay, Use test mode, Use intent output\"]\n",
      "{'source': 'all_processed_data.json', 'seq_num': 26, 'title': 'Knox Capture Scandit Edition', 'url': 'https://docs.samsungknox.com/admin/knox-capture/knox-capture-scandit/welcome', 'project': 'KCAP', 'last_updated': '2023-07-26', 'id': '9f22f31a-2398-4dff-a91c-22a88e330c19'}\n",
      "--------------------------------------------------\n",
      "\n",
      "Score: 0.007936507936507936\n",
      "[\". 2. Review the content of the blue test overlay in the open app's UI. The overlay displays: Activity - The name of the activity in focus. Active profile - The Knox Capture profile to which the in-focus activity belongs. This is the profile defining scan settings and keystroke output rules for the in-focus activity. Scan a barcode and view the test overlay Each scanning experience differs depending on the configuration. For example, the camera may not automatically scan a barcode. For more information, see Scan engine settings. 1. Press the camera scan trigger to open the camera for scanning. 2. Aim the camera at the barcode to scan. 3. View the test overlay. You should see the following new values: Output - The processed data in test mode notation with keystroke output rules applied. Scanned data - The scanned barcode data in test mode notation without any keystroke output rules applied. Scanned raw - The scanned barcode data in hexadecimal format without any keystroke output rules applied. 4\"]\n",
      "{'source': 'all_processed_data.json', 'seq_num': 19, 'title': 'Use test mode', 'url': 'https://docs.samsungknox.com/admin/knox-capture/how-to-guides/use-test-mode', 'project': 'KCAP', 'last_updated': '2023-07-26', 'id': 'f15f9d0c-3d07-4195-986a-a8cc0ceee4ea'}\n",
      "--------------------------------------------------\n",
      "CPU times: user 18.1 ms, sys: 0 ns, total: 18.1 ms\n",
      "Wall time: 132 ms\n"
     ]
    }
   ],
   "source": [
    "%%time\n",
    "\n",
    "\n",
    "filter01 = \"[]\"\n",
    "filter02 = \"[]\"\n",
    "\n",
    "query = \"Configure keystroke output\"\n",
    "\n",
    "search_hybrid_result = search_hybrid(\n",
    "    query=query,\n",
    "    vector_db=vector_db,\n",
    "    k=5,\n",
    "    index_name= index_name,\n",
    "    os_client=os_client,\n",
    "    filter=[\n",
    "        {\"term\": {\"metadata.type\": filter01}},\n",
    "        {\"term\": {\"metadata.source\": filter02}},\n",
    "    ],\n",
    "    Semantic_Search = False,    \n",
    "    Lexical_Search = False,    \n",
    "    Hybrid_Search = True,     \n",
    "    minimum_should_match = 75,   \n",
    "    fusion_algorithm=\"RRF\", # [\"RRF\", \"simple_weighted\"]\n",
    "    ensemble_weights=[.5, .5], # 시멘트 서치에 가중치 0.5 , 키워드 서치 가중치 0.5 부여.\n",
    "    verbose=True\n",
    ")\n",
    "\n"
   ]
  },
  {
   "cell_type": "code",
   "execution_count": null,
   "metadata": {},
   "outputs": [],
   "source": []
  },
  {
   "cell_type": "code",
   "execution_count": null,
   "metadata": {},
   "outputs": [],
   "source": []
  },
  {
   "cell_type": "code",
   "execution_count": null,
   "metadata": {},
   "outputs": [],
   "source": []
  }
 ],
 "metadata": {
  "availableInstances": [
   {
    "_defaultOrder": 0,
    "_isFastLaunch": true,
    "category": "General purpose",
    "gpuNum": 0,
    "hideHardwareSpecs": false,
    "memoryGiB": 4,
    "name": "ml.t3.medium",
    "vcpuNum": 2
   },
   {
    "_defaultOrder": 1,
    "_isFastLaunch": false,
    "category": "General purpose",
    "gpuNum": 0,
    "hideHardwareSpecs": false,
    "memoryGiB": 8,
    "name": "ml.t3.large",
    "vcpuNum": 2
   },
   {
    "_defaultOrder": 2,
    "_isFastLaunch": false,
    "category": "General purpose",
    "gpuNum": 0,
    "hideHardwareSpecs": false,
    "memoryGiB": 16,
    "name": "ml.t3.xlarge",
    "vcpuNum": 4
   },
   {
    "_defaultOrder": 3,
    "_isFastLaunch": false,
    "category": "General purpose",
    "gpuNum": 0,
    "hideHardwareSpecs": false,
    "memoryGiB": 32,
    "name": "ml.t3.2xlarge",
    "vcpuNum": 8
   },
   {
    "_defaultOrder": 4,
    "_isFastLaunch": true,
    "category": "General purpose",
    "gpuNum": 0,
    "hideHardwareSpecs": false,
    "memoryGiB": 8,
    "name": "ml.m5.large",
    "vcpuNum": 2
   },
   {
    "_defaultOrder": 5,
    "_isFastLaunch": false,
    "category": "General purpose",
    "gpuNum": 0,
    "hideHardwareSpecs": false,
    "memoryGiB": 16,
    "name": "ml.m5.xlarge",
    "vcpuNum": 4
   },
   {
    "_defaultOrder": 6,
    "_isFastLaunch": false,
    "category": "General purpose",
    "gpuNum": 0,
    "hideHardwareSpecs": false,
    "memoryGiB": 32,
    "name": "ml.m5.2xlarge",
    "vcpuNum": 8
   },
   {
    "_defaultOrder": 7,
    "_isFastLaunch": false,
    "category": "General purpose",
    "gpuNum": 0,
    "hideHardwareSpecs": false,
    "memoryGiB": 64,
    "name": "ml.m5.4xlarge",
    "vcpuNum": 16
   },
   {
    "_defaultOrder": 8,
    "_isFastLaunch": false,
    "category": "General purpose",
    "gpuNum": 0,
    "hideHardwareSpecs": false,
    "memoryGiB": 128,
    "name": "ml.m5.8xlarge",
    "vcpuNum": 32
   },
   {
    "_defaultOrder": 9,
    "_isFastLaunch": false,
    "category": "General purpose",
    "gpuNum": 0,
    "hideHardwareSpecs": false,
    "memoryGiB": 192,
    "name": "ml.m5.12xlarge",
    "vcpuNum": 48
   },
   {
    "_defaultOrder": 10,
    "_isFastLaunch": false,
    "category": "General purpose",
    "gpuNum": 0,
    "hideHardwareSpecs": false,
    "memoryGiB": 256,
    "name": "ml.m5.16xlarge",
    "vcpuNum": 64
   },
   {
    "_defaultOrder": 11,
    "_isFastLaunch": false,
    "category": "General purpose",
    "gpuNum": 0,
    "hideHardwareSpecs": false,
    "memoryGiB": 384,
    "name": "ml.m5.24xlarge",
    "vcpuNum": 96
   },
   {
    "_defaultOrder": 12,
    "_isFastLaunch": false,
    "category": "General purpose",
    "gpuNum": 0,
    "hideHardwareSpecs": false,
    "memoryGiB": 8,
    "name": "ml.m5d.large",
    "vcpuNum": 2
   },
   {
    "_defaultOrder": 13,
    "_isFastLaunch": false,
    "category": "General purpose",
    "gpuNum": 0,
    "hideHardwareSpecs": false,
    "memoryGiB": 16,
    "name": "ml.m5d.xlarge",
    "vcpuNum": 4
   },
   {
    "_defaultOrder": 14,
    "_isFastLaunch": false,
    "category": "General purpose",
    "gpuNum": 0,
    "hideHardwareSpecs": false,
    "memoryGiB": 32,
    "name": "ml.m5d.2xlarge",
    "vcpuNum": 8
   },
   {
    "_defaultOrder": 15,
    "_isFastLaunch": false,
    "category": "General purpose",
    "gpuNum": 0,
    "hideHardwareSpecs": false,
    "memoryGiB": 64,
    "name": "ml.m5d.4xlarge",
    "vcpuNum": 16
   },
   {
    "_defaultOrder": 16,
    "_isFastLaunch": false,
    "category": "General purpose",
    "gpuNum": 0,
    "hideHardwareSpecs": false,
    "memoryGiB": 128,
    "name": "ml.m5d.8xlarge",
    "vcpuNum": 32
   },
   {
    "_defaultOrder": 17,
    "_isFastLaunch": false,
    "category": "General purpose",
    "gpuNum": 0,
    "hideHardwareSpecs": false,
    "memoryGiB": 192,
    "name": "ml.m5d.12xlarge",
    "vcpuNum": 48
   },
   {
    "_defaultOrder": 18,
    "_isFastLaunch": false,
    "category": "General purpose",
    "gpuNum": 0,
    "hideHardwareSpecs": false,
    "memoryGiB": 256,
    "name": "ml.m5d.16xlarge",
    "vcpuNum": 64
   },
   {
    "_defaultOrder": 19,
    "_isFastLaunch": false,
    "category": "General purpose",
    "gpuNum": 0,
    "hideHardwareSpecs": false,
    "memoryGiB": 384,
    "name": "ml.m5d.24xlarge",
    "vcpuNum": 96
   },
   {
    "_defaultOrder": 20,
    "_isFastLaunch": false,
    "category": "General purpose",
    "gpuNum": 0,
    "hideHardwareSpecs": true,
    "memoryGiB": 0,
    "name": "ml.geospatial.interactive",
    "supportedImageNames": [
     "sagemaker-geospatial-v1-0"
    ],
    "vcpuNum": 0
   },
   {
    "_defaultOrder": 21,
    "_isFastLaunch": true,
    "category": "Compute optimized",
    "gpuNum": 0,
    "hideHardwareSpecs": false,
    "memoryGiB": 4,
    "name": "ml.c5.large",
    "vcpuNum": 2
   },
   {
    "_defaultOrder": 22,
    "_isFastLaunch": false,
    "category": "Compute optimized",
    "gpuNum": 0,
    "hideHardwareSpecs": false,
    "memoryGiB": 8,
    "name": "ml.c5.xlarge",
    "vcpuNum": 4
   },
   {
    "_defaultOrder": 23,
    "_isFastLaunch": false,
    "category": "Compute optimized",
    "gpuNum": 0,
    "hideHardwareSpecs": false,
    "memoryGiB": 16,
    "name": "ml.c5.2xlarge",
    "vcpuNum": 8
   },
   {
    "_defaultOrder": 24,
    "_isFastLaunch": false,
    "category": "Compute optimized",
    "gpuNum": 0,
    "hideHardwareSpecs": false,
    "memoryGiB": 32,
    "name": "ml.c5.4xlarge",
    "vcpuNum": 16
   },
   {
    "_defaultOrder": 25,
    "_isFastLaunch": false,
    "category": "Compute optimized",
    "gpuNum": 0,
    "hideHardwareSpecs": false,
    "memoryGiB": 72,
    "name": "ml.c5.9xlarge",
    "vcpuNum": 36
   },
   {
    "_defaultOrder": 26,
    "_isFastLaunch": false,
    "category": "Compute optimized",
    "gpuNum": 0,
    "hideHardwareSpecs": false,
    "memoryGiB": 96,
    "name": "ml.c5.12xlarge",
    "vcpuNum": 48
   },
   {
    "_defaultOrder": 27,
    "_isFastLaunch": false,
    "category": "Compute optimized",
    "gpuNum": 0,
    "hideHardwareSpecs": false,
    "memoryGiB": 144,
    "name": "ml.c5.18xlarge",
    "vcpuNum": 72
   },
   {
    "_defaultOrder": 28,
    "_isFastLaunch": false,
    "category": "Compute optimized",
    "gpuNum": 0,
    "hideHardwareSpecs": false,
    "memoryGiB": 192,
    "name": "ml.c5.24xlarge",
    "vcpuNum": 96
   },
   {
    "_defaultOrder": 29,
    "_isFastLaunch": true,
    "category": "Accelerated computing",
    "gpuNum": 1,
    "hideHardwareSpecs": false,
    "memoryGiB": 16,
    "name": "ml.g4dn.xlarge",
    "vcpuNum": 4
   },
   {
    "_defaultOrder": 30,
    "_isFastLaunch": false,
    "category": "Accelerated computing",
    "gpuNum": 1,
    "hideHardwareSpecs": false,
    "memoryGiB": 32,
    "name": "ml.g4dn.2xlarge",
    "vcpuNum": 8
   },
   {
    "_defaultOrder": 31,
    "_isFastLaunch": false,
    "category": "Accelerated computing",
    "gpuNum": 1,
    "hideHardwareSpecs": false,
    "memoryGiB": 64,
    "name": "ml.g4dn.4xlarge",
    "vcpuNum": 16
   },
   {
    "_defaultOrder": 32,
    "_isFastLaunch": false,
    "category": "Accelerated computing",
    "gpuNum": 1,
    "hideHardwareSpecs": false,
    "memoryGiB": 128,
    "name": "ml.g4dn.8xlarge",
    "vcpuNum": 32
   },
   {
    "_defaultOrder": 33,
    "_isFastLaunch": false,
    "category": "Accelerated computing",
    "gpuNum": 4,
    "hideHardwareSpecs": false,
    "memoryGiB": 192,
    "name": "ml.g4dn.12xlarge",
    "vcpuNum": 48
   },
   {
    "_defaultOrder": 34,
    "_isFastLaunch": false,
    "category": "Accelerated computing",
    "gpuNum": 1,
    "hideHardwareSpecs": false,
    "memoryGiB": 256,
    "name": "ml.g4dn.16xlarge",
    "vcpuNum": 64
   },
   {
    "_defaultOrder": 35,
    "_isFastLaunch": false,
    "category": "Accelerated computing",
    "gpuNum": 1,
    "hideHardwareSpecs": false,
    "memoryGiB": 61,
    "name": "ml.p3.2xlarge",
    "vcpuNum": 8
   },
   {
    "_defaultOrder": 36,
    "_isFastLaunch": false,
    "category": "Accelerated computing",
    "gpuNum": 4,
    "hideHardwareSpecs": false,
    "memoryGiB": 244,
    "name": "ml.p3.8xlarge",
    "vcpuNum": 32
   },
   {
    "_defaultOrder": 37,
    "_isFastLaunch": false,
    "category": "Accelerated computing",
    "gpuNum": 8,
    "hideHardwareSpecs": false,
    "memoryGiB": 488,
    "name": "ml.p3.16xlarge",
    "vcpuNum": 64
   },
   {
    "_defaultOrder": 38,
    "_isFastLaunch": false,
    "category": "Accelerated computing",
    "gpuNum": 8,
    "hideHardwareSpecs": false,
    "memoryGiB": 768,
    "name": "ml.p3dn.24xlarge",
    "vcpuNum": 96
   },
   {
    "_defaultOrder": 39,
    "_isFastLaunch": false,
    "category": "Memory Optimized",
    "gpuNum": 0,
    "hideHardwareSpecs": false,
    "memoryGiB": 16,
    "name": "ml.r5.large",
    "vcpuNum": 2
   },
   {
    "_defaultOrder": 40,
    "_isFastLaunch": false,
    "category": "Memory Optimized",
    "gpuNum": 0,
    "hideHardwareSpecs": false,
    "memoryGiB": 32,
    "name": "ml.r5.xlarge",
    "vcpuNum": 4
   },
   {
    "_defaultOrder": 41,
    "_isFastLaunch": false,
    "category": "Memory Optimized",
    "gpuNum": 0,
    "hideHardwareSpecs": false,
    "memoryGiB": 64,
    "name": "ml.r5.2xlarge",
    "vcpuNum": 8
   },
   {
    "_defaultOrder": 42,
    "_isFastLaunch": false,
    "category": "Memory Optimized",
    "gpuNum": 0,
    "hideHardwareSpecs": false,
    "memoryGiB": 128,
    "name": "ml.r5.4xlarge",
    "vcpuNum": 16
   },
   {
    "_defaultOrder": 43,
    "_isFastLaunch": false,
    "category": "Memory Optimized",
    "gpuNum": 0,
    "hideHardwareSpecs": false,
    "memoryGiB": 256,
    "name": "ml.r5.8xlarge",
    "vcpuNum": 32
   },
   {
    "_defaultOrder": 44,
    "_isFastLaunch": false,
    "category": "Memory Optimized",
    "gpuNum": 0,
    "hideHardwareSpecs": false,
    "memoryGiB": 384,
    "name": "ml.r5.12xlarge",
    "vcpuNum": 48
   },
   {
    "_defaultOrder": 45,
    "_isFastLaunch": false,
    "category": "Memory Optimized",
    "gpuNum": 0,
    "hideHardwareSpecs": false,
    "memoryGiB": 512,
    "name": "ml.r5.16xlarge",
    "vcpuNum": 64
   },
   {
    "_defaultOrder": 46,
    "_isFastLaunch": false,
    "category": "Memory Optimized",
    "gpuNum": 0,
    "hideHardwareSpecs": false,
    "memoryGiB": 768,
    "name": "ml.r5.24xlarge",
    "vcpuNum": 96
   },
   {
    "_defaultOrder": 47,
    "_isFastLaunch": false,
    "category": "Accelerated computing",
    "gpuNum": 1,
    "hideHardwareSpecs": false,
    "memoryGiB": 16,
    "name": "ml.g5.xlarge",
    "vcpuNum": 4
   },
   {
    "_defaultOrder": 48,
    "_isFastLaunch": false,
    "category": "Accelerated computing",
    "gpuNum": 1,
    "hideHardwareSpecs": false,
    "memoryGiB": 32,
    "name": "ml.g5.2xlarge",
    "vcpuNum": 8
   },
   {
    "_defaultOrder": 49,
    "_isFastLaunch": false,
    "category": "Accelerated computing",
    "gpuNum": 1,
    "hideHardwareSpecs": false,
    "memoryGiB": 64,
    "name": "ml.g5.4xlarge",
    "vcpuNum": 16
   },
   {
    "_defaultOrder": 50,
    "_isFastLaunch": false,
    "category": "Accelerated computing",
    "gpuNum": 1,
    "hideHardwareSpecs": false,
    "memoryGiB": 128,
    "name": "ml.g5.8xlarge",
    "vcpuNum": 32
   },
   {
    "_defaultOrder": 51,
    "_isFastLaunch": false,
    "category": "Accelerated computing",
    "gpuNum": 1,
    "hideHardwareSpecs": false,
    "memoryGiB": 256,
    "name": "ml.g5.16xlarge",
    "vcpuNum": 64
   },
   {
    "_defaultOrder": 52,
    "_isFastLaunch": false,
    "category": "Accelerated computing",
    "gpuNum": 4,
    "hideHardwareSpecs": false,
    "memoryGiB": 192,
    "name": "ml.g5.12xlarge",
    "vcpuNum": 48
   },
   {
    "_defaultOrder": 53,
    "_isFastLaunch": false,
    "category": "Accelerated computing",
    "gpuNum": 4,
    "hideHardwareSpecs": false,
    "memoryGiB": 384,
    "name": "ml.g5.24xlarge",
    "vcpuNum": 96
   },
   {
    "_defaultOrder": 54,
    "_isFastLaunch": false,
    "category": "Accelerated computing",
    "gpuNum": 8,
    "hideHardwareSpecs": false,
    "memoryGiB": 768,
    "name": "ml.g5.48xlarge",
    "vcpuNum": 192
   },
   {
    "_defaultOrder": 55,
    "_isFastLaunch": false,
    "category": "Accelerated computing",
    "gpuNum": 8,
    "hideHardwareSpecs": false,
    "memoryGiB": 1152,
    "name": "ml.p4d.24xlarge",
    "vcpuNum": 96
   },
   {
    "_defaultOrder": 56,
    "_isFastLaunch": false,
    "category": "Accelerated computing",
    "gpuNum": 8,
    "hideHardwareSpecs": false,
    "memoryGiB": 1152,
    "name": "ml.p4de.24xlarge",
    "vcpuNum": 96
   }
  ],
  "instance_type": "ml.m5.xlarge",
  "kernelspec": {
   "display_name": "conda_python3",
   "language": "python",
   "name": "conda_python3"
  },
  "language_info": {
   "codemirror_mode": {
    "name": "ipython",
    "version": 3
   },
   "file_extension": ".py",
   "mimetype": "text/x-python",
   "name": "python",
   "nbconvert_exporter": "python",
   "pygments_lexer": "ipython3",
   "version": "3.10.12"
  }
 },
 "nbformat": 4,
 "nbformat_minor": 4
}
