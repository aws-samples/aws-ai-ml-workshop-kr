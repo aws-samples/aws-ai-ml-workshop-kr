{
 "cells": [
  {
   "cell_type": "markdown",
   "metadata": {
    "tags": []
   },
   "source": [
    "# Vector Store 구축 - V2- JSON\n",
    "\n",
    "---\n",
    "\n",
    "---"
   ]
  },
  {
   "cell_type": "markdown",
   "metadata": {
    "tags": []
   },
   "source": [
    "# 1. Bedrock Client 생성"
   ]
  },
  {
   "cell_type": "code",
   "execution_count": 2,
   "metadata": {
    "tags": []
   },
   "outputs": [
    {
     "name": "stdout",
     "output_type": "stream",
     "text": [
      "langchain                            0.0.335\n",
      "opensearch-py                        2.3.2\n",
      "pypdf                                3.17.0\n"
     ]
    }
   ],
   "source": [
    "! pip list | grep langchain # 0.0.312\n",
    "! pip list | grep opensearch # 2.3.2\n",
    "! pip list | grep pypdf"
   ]
  },
  {
   "cell_type": "code",
   "execution_count": 3,
   "metadata": {
    "tags": []
   },
   "outputs": [
    {
     "name": "stdout",
     "output_type": "stream",
     "text": [
      "/root/aws-ai-ml-workshop-kr/genai/aws-gen-ai-kr/20_applications/02_qa_chatbot/01_preprocess_docs/utils\n"
     ]
    }
   ],
   "source": [
    "%load_ext autoreload\n",
    "%autoreload 2\n",
    "\n",
    "import sys, os\n",
    "# module_path = \"../../../utils\"\n",
    "# sys.path.append(os.path.abspath(module_path))\n",
    "# print(os.path.abspath(module_path))\n",
    "\n",
    "module_path = \"./utils\"\n",
    "sys.path.append(os.path.abspath(module_path))\n",
    "print(os.path.abspath(module_path))"
   ]
  },
  {
   "cell_type": "code",
   "execution_count": 4,
   "metadata": {
    "tags": []
   },
   "outputs": [
    {
     "name": "stdout",
     "output_type": "stream",
     "text": [
      "Create new client\n",
      "  Using region: us-east-1\n",
      "  Using profile: None\n",
      "boto3 Bedrock client successfully created!\n",
      "bedrock-runtime(https://bedrock-runtime.us-east-1.amazonaws.com)\n",
      "\n",
      "== FM lists ==\n",
      "{'Claude-Instant-V1': 'anthropic.claude-instant-v1',\n",
      " 'Claude-V1': 'anthropic.claude-v1',\n",
      " 'Claude-V2': 'anthropic.claude-v2',\n",
      " 'Command': 'cohere.command-text-v14',\n",
      " 'Jurassic-2-Mid': 'ai21.j2-mid-v1',\n",
      " 'Jurassic-2-Ultra': 'ai21.j2-ultra-v1',\n",
      " 'Titan-Embeddings-G1': 'amazon.titan-embed-text-v1',\n",
      " 'Titan-Text-G1': 'TBD'}\n"
     ]
    }
   ],
   "source": [
    "import json\n",
    "import boto3\n",
    "from pprint import pprint\n",
    "from termcolor import colored\n",
    "from utils import bedrock, print_ww\n",
    "from utils.bedrock import bedrock_info\n",
    "\n",
    "# ---- ⚠️ Un-comment and edit the below lines as needed for your AWS setup ⚠️ ----\n",
    "\n",
    "# os.environ[\"AWS_DEFAULT_REGION\"] = \"<REGION_NAME>\"  # E.g. \"us-east-1\"\n",
    "# os.environ[\"AWS_PROFILE\"] = \"<YOUR_PROFILE>\"\n",
    "# os.environ[\"BEDROCK_ASSUME_ROLE\"] = \"<YOUR_ROLE_ARN>\"  # E.g. \"arn:aws:...\"\n",
    "# os.environ[\"BEDROCK_ENDPOINT_URL\"] = \"<YOUR_ENDPOINT_URL>\"  # E.g. \"https://...\"\n",
    "\n",
    "\n",
    "boto3_bedrock = bedrock.get_bedrock_client(\n",
    "    assumed_role=os.environ.get(\"BEDROCK_ASSUME_ROLE\", None),\n",
    "    endpoint_url=os.environ.get(\"BEDROCK_ENDPOINT_URL\", None),\n",
    "    region=os.environ.get(\"AWS_DEFAULT_REGION\", None),\n",
    ")\n",
    "\n",
    "print(colored(\"\\n== FM lists ==\", \"green\"))\n",
    "pprint(bedrock_info.get_list_fm_models())"
   ]
  },
  {
   "cell_type": "markdown",
   "metadata": {},
   "source": [
    "# 2. Titan Embedding 모델 로딩"
   ]
  },
  {
   "cell_type": "code",
   "execution_count": 5,
   "metadata": {
    "tags": []
   },
   "outputs": [
    {
     "data": {
      "text/plain": [
       "BedrockEmbeddings(client=<botocore.client.BedrockRuntime object at 0x7f6d405255d0>, region_name=None, credentials_profile_name=None, model_id='amazon.titan-embed-text-v1', model_kwargs=None, endpoint_url=None)"
      ]
     },
     "execution_count": 5,
     "metadata": {},
     "output_type": "execute_result"
    }
   ],
   "source": [
    "# We will be using the Titan Embeddings Model to generate our Embeddings.\n",
    "from langchain.embeddings import BedrockEmbeddings\n",
    "from langchain.llms.bedrock import Bedrock\n",
    "\n",
    "llm_emb = BedrockEmbeddings(client=boto3_bedrock)\n",
    "llm_emb"
   ]
  },
  {
   "cell_type": "markdown",
   "metadata": {},
   "source": [
    "# 3. Index 이름 결정"
   ]
  },
  {
   "cell_type": "code",
   "execution_count": 6,
   "metadata": {
    "tags": []
   },
   "outputs": [],
   "source": [
    "index_name = \"genai-poc-knox-1024c-256o-v3\"\n",
    "\n",
    "chunk_size = 1024\n",
    "chunk_overlap = 256\n"
   ]
  },
  {
   "cell_type": "markdown",
   "metadata": {},
   "source": [
    "# 4. Load all Json files"
   ]
  },
  {
   "cell_type": "code",
   "execution_count": 7,
   "metadata": {
    "tags": []
   },
   "outputs": [],
   "source": [
    "from utils.proc_docs import get_load_json, show_doc_json"
   ]
  },
  {
   "cell_type": "code",
   "execution_count": 8,
   "metadata": {
    "tags": []
   },
   "outputs": [
    {
     "name": "stdout",
     "output_type": "stream",
     "text": [
      "all json files:  14\n",
      "all items:  3369\n"
     ]
    }
   ],
   "source": [
    "import glob\n",
    "\n",
    "# Specify the directory and file pattern for .txt files\n",
    "folder_path = 'data/poc/*.json'\n",
    "\n",
    "# List all .txt files in the specified folder\n",
    "json_files = glob.glob(folder_path)\n",
    "# json_files = ['data/poc/customer_EFOTA.json']\n",
    "\n",
    "# Load each item per json file and append to a list\n",
    "doc_json_list = []\n",
    "for file_path in json_files:\n",
    "    doc_json = get_load_json(file_path)\n",
    "    doc_json_list.append(doc_json)\n",
    "\n",
    "print(\"all json files: \", len(doc_json_list))    \n",
    "# Flatten the list of lists into a single list\n",
    "all_docs = []\n",
    "for item in doc_json_list:\n",
    "        all_docs.extend(item)\n",
    "        \n",
    "print(\"all items: \", len(all_docs))"
   ]
  },
  {
   "cell_type": "markdown",
   "metadata": {},
   "source": [
    "# 5. Chunking JSON Doc "
   ]
  },
  {
   "cell_type": "code",
   "execution_count": 9,
   "metadata": {
    "tags": []
   },
   "outputs": [
    {
     "name": "stdout",
     "output_type": "stream",
     "text": [
      "Number of chunk_docs after split and chunking= 12583\n"
     ]
    }
   ],
   "source": [
    "from langchain.text_splitter import RecursiveCharacterTextSplitter, SpacyTextSplitter\n",
    "\n",
    "\n",
    "text_splitter = RecursiveCharacterTextSplitter(\n",
    "    # Set a really small chunk size, just to show.\n",
    "    chunk_size = chunk_size,\n",
    "    chunk_overlap  = chunk_overlap,\n",
    "    separators=[\"\\n\\n\", \"\\n\", \".\", \" \", \"\"],\n",
    "    length_function = len,\n",
    ")\n",
    "\n",
    "chunk_docs = text_splitter.split_documents(all_docs)\n",
    "print(f\"Number of chunk_docs after split and chunking= {len(chunk_docs)}\")"
   ]
  },
  {
   "cell_type": "code",
   "execution_count": 32,
   "metadata": {
    "tags": []
   },
   "outputs": [
    {
     "data": {
      "text/plain": [
       "[Document(page_content='AR demo barcodes. Use the following barcodes to test the Knox Capture AR features. Barcode 1 Barcode 2 Barcode 3 Barcode 4 Barcode 5 Barcode 6', metadata={'source': 'customer_KCAP.json', 'seq_num': 1, 'title': 'AR demo barcodes', 'url': 'https://docs.samsungknox.com/admin/knox-capture/ar-demo-barcodes', 'project': 'KCAP', 'last_updated': '2023-10-16'}),\n",
       " Document(page_content=\"Videos. This section contains product and how-to videos related to Knox Capture. Getting started with Samsung Knox Capture In this video, we'll show you how to use Samsung Knox Capture to transform your mobile devices into powerful barcode scanners that can read, process, and output barcode data into other applications. Samsung Knox Capture: Enterprise-grade mobile scanning solution in Galaxy device This product intro video shows you how easy it is to transform rugged Samsung devices like the Galaxy XCover Pro into enterprise-grade barcode scanners.\", metadata={'source': 'customer_KCAP.json', 'seq_num': 2, 'title': 'Videos', 'url': 'https://docs.samsungknox.com/admin/knox-capture/how-to-videos', 'project': 'KCAP', 'last_updated': '2023-07-26'}),\n",
       " Document(page_content=\"Overview. Get started with the basics by learning what Knox Capture is and how it works. What is Knox Capture? To help explain what Knox Capture does, it may be helpful to start with an understanding of what a *wedge* scanner is, and how it relates to the Knox Capture solution. In traditional hardware-based barcode scanning terminology, a wedge scanner is a physical device that attaches between a keyboard and a computer. The keyboard attaches to the scanner, and the scanner attaches to the computer. From the computer's perspective, the scanner behaves just like an additional keyboard. When the computer runs a software program (like an inventory spreadsheet app), and barcodes are read using the wedge scanner, data is sent from the scanner to the program in the form of keystrokes. From the program's point of view, data appears exactly as if someone had typed it manually using a keyboard. How Knox Capture works In a similar way, Knox Capture also acts as a wedge between a software program and keyboard\", metadata={'source': 'customer_KCAP.json', 'seq_num': 3, 'title': 'Overview', 'url': 'https://docs.samsungknox.com/admin/knox-capture/overview', 'project': 'KCAP', 'last_updated': '2023-07-26'}),\n",
       " Document(page_content=\". From the program's point of view, data appears exactly as if someone had typed it manually using a keyboard. How Knox Capture works In a similar way, Knox Capture also acts as a wedge between a software program and keyboard. However, instead of being a physical scanning device, Knox Capture is a mobile solution built for compatible Android smartphones and tablets. Enterprise IT admins can either download the Knox Capture app from Google Play, or custom-build their own wedge scanner apps using the Knox Capture SDK (Software Development Kit). Once Knox Capture is installed and running on a device, it *wedges* between an application (for example, a business app used to track inventory) and the mobile device's on-screen keyboard. When an end-user launches their business app, they can simply tap an on-screen button or press a hardware button on their device to trigger a barcode scan using the device's camera\", metadata={'source': 'customer_KCAP.json', 'seq_num': 3, 'title': 'Overview', 'url': 'https://docs.samsungknox.com/admin/knox-capture/overview', 'project': 'KCAP', 'last_updated': '2023-07-26'}),\n",
       " Document(page_content=\". When an end-user launches their business app, they can simply tap an on-screen button or press a hardware button on their device to trigger a barcode scan using the device's camera. After the camera focuses on a barcode, Knox Capture translates the barcode data into keystrokes, which then get passed back to the business app for processing. From the business app's point of view, keystrokes coming from Knox Capture appear exactly as if a user had typed them from the device keyboard. Who can use Knox Capture? Knox Capture is designed for anyone who wants to turn their mobile device into a powerful barcode scanner. However, depending on whether it's being used by an admin or an end-user, its features vary significantly. #Admin mode (Default) When Knox Capture is downloaded from Google Play and installed on a compatible Android device - and a valid license key is activated - the app operates in its default Admin mode\", metadata={'source': 'customer_KCAP.json', 'seq_num': 3, 'title': 'Overview', 'url': 'https://docs.samsungknox.com/admin/knox-capture/overview', 'project': 'KCAP', 'last_updated': '2023-07-26'}),\n",
       " Document(page_content='. #Admin mode (Default) When Knox Capture is downloaded from Google Play and installed on a compatible Android device - and a valid license key is activated - the app operates in its default Admin mode. This mode allows the device user - typically an enterprise IT admin - to utilize the full functionality of the app to primarily do the following: 1. Create scanning profiles that define which apps can launch the barcode scanner, which barcode types can be scanned (QR, Code 128, EAN8, etc.), and how scanned data is formatted (append Tab or Enter key, insert special characters before or after data, etc.). 2. Test scanning profiles to ensure that appropriate business apps can launch the scanner and receive data back as keystrokes. 3. Export profile settings as a configuration file, which can then be used by EMM/UEM administrators to deploy Knox Capture as a managed app to end-user devices', metadata={'source': 'customer_KCAP.json', 'seq_num': 3, 'title': 'Overview', 'url': 'https://docs.samsungknox.com/admin/knox-capture/overview', 'project': 'KCAP', 'last_updated': '2023-07-26'}),\n",
       " Document(page_content=\". 3. Export profile settings as a configuration file, which can then be used by EMM/UEM administrators to deploy Knox Capture as a managed app to end-user devices. #Managed mode After an IT admin uses their EMM/UEM to deploy Knox Capture as a managed app to an end-user's device, the device launches the app in Managed mode. In Managed mode, Knox Capture functionality is greatly reduced. End-users can review their scanning profile settings and perform barcode scans using their business apps (as permitted by their scanning profile), however they can't make changes to their scanning profiles, export profile settings, or switch to Admin mode by activating a Knox Capture license. Admin mode is the default mode of operation for Knox Capture. The procedures described in this guide are targeted at an IT admin audience. Further reading #Getting started tutorials These tutorials provide a guided workflow for new admins and end-users\", metadata={'source': 'customer_KCAP.json', 'seq_num': 3, 'title': 'Overview', 'url': 'https://docs.samsungknox.com/admin/knox-capture/overview', 'project': 'KCAP', 'last_updated': '2023-07-26'}),\n",
       " Document(page_content=\". Admin mode is the default mode of operation for Knox Capture. The procedures described in this guide are targeted at an IT admin audience. Further reading #Getting started tutorials These tutorials provide a guided workflow for new admins and end-users. While they don't cover every setting or scenario when using Knox Capture, they do provide a good starting point for learning the app's basics. IT admins: Get started with Knox Capture - Learn how to create a new scanning profile, configure scan engine settings, perform a test scan, and export scanning configurations for deployment through an EMM/UEM as an IT admin. End-users: Get started with Knox Capture - Learn how to review scanning profile settings, configure hardware key settings, and perform barcode scans from a business app as a device end-user\", metadata={'source': 'customer_KCAP.json', 'seq_num': 3, 'title': 'Overview', 'url': 'https://docs.samsungknox.com/admin/knox-capture/overview', 'project': 'KCAP', 'last_updated': '2023-07-26'}),\n",
       " Document(page_content='. End-users: Get started with Knox Capture - Learn how to review scanning profile settings, configure hardware key settings, and perform barcode scans from a business app as a device end-user. #How-to topics For in-depth explanations and detailed walkthroughs of key Knox Capture features, refer to the following how-to topics for more information: Manage licenses - Learn about the Knox Capture licensing procedure, and how to switch between Knox Capture and Knox Capture: Scandit Edition licenses on the app. Scanning profiles - Learn how profiles work, what the default profile does, and how to create new profiles for different scanning scenarios. Apps and activities - The component of every scanning profile that defines which busiess apps can launch the camera scanner. Learn how apps and activities work, and how you can customize them in the scanning profiles. Scan engine settings - These settings define how barcodes are scanned, and what happens with the data after each scan', metadata={'source': 'customer_KCAP.json', 'seq_num': 3, 'title': 'Overview', 'url': 'https://docs.samsungknox.com/admin/knox-capture/overview', 'project': 'KCAP', 'last_updated': '2023-07-26'}),\n",
       " Document(page_content=\". Learn how apps and activities work, and how you can customize them in the scanning profiles. Scan engine settings - These settings define how barcodes are scanned, and what happens with the data after each scan. Learn how to set barcode types, change scan modes, control viewfinder size, and more. Keystroke output - The scanning profile setting that defines how data is formatted after each successful scan. Learn how to append or prepend special characters to scanned data, or how to insert ASCII Tabs and Enter keys at the end of each barcode to allow for easier processing in spreadsheets and forms. Test mode - A feature that lets you test a scanning profile's apps, barcode types, and keystroke ouput rules before exporting the configuration for deployment. Deploy configuration to EMM/UEM - Learn about the various scanning profile export options, and how to use the exported configuration file in an EMM/UEM to deploy Knox Capture to end-users\", metadata={'source': 'customer_KCAP.json', 'seq_num': 3, 'title': 'Overview', 'url': 'https://docs.samsungknox.com/admin/knox-capture/overview', 'project': 'KCAP', 'last_updated': '2023-07-26'})]"
      ]
     },
     "execution_count": 32,
     "metadata": {},
     "output_type": "execute_result"
    }
   ],
   "source": [
    "chunk_docs[0:10]"
   ]
  },
  {
   "cell_type": "markdown",
   "metadata": {
    "tags": []
   },
   "source": [
    "# 4. LangChain OpenSearch VectorStore 생성 \n",
    "## 선수 조건\n"
   ]
  },
  {
   "cell_type": "markdown",
   "metadata": {
    "tags": []
   },
   "source": [
    "## 오픈 서치 도메인 및 인증 정보 세팅\n",
    "\n",
    "- [langchain.vectorstores.opensearch_vector_search.OpenSearchVectorSearch](https://api.python.langchain.com/en/latest/vectorstores/langchain.vectorstores.opensearch_vector_search.OpenSearchVectorSearch.html)"
   ]
  },
  {
   "cell_type": "markdown",
   "metadata": {},
   "source": [
    "#### [중요] 아래에 aws parameter store 에 아래 인증정보가 먼저 입력되어 있어야 합니다."
   ]
  },
  {
   "cell_type": "code",
   "execution_count": 11,
   "metadata": {
    "tags": []
   },
   "outputs": [],
   "source": [
    "from langchain.indexes import VectorstoreIndexCreator\n",
    "# from langchain.vectorstores import FAISS"
   ]
  },
  {
   "cell_type": "code",
   "execution_count": 12,
   "metadata": {
    "tags": []
   },
   "outputs": [],
   "source": [
    "from utils.proc_docs import get_parameter"
   ]
  },
  {
   "cell_type": "code",
   "execution_count": 13,
   "metadata": {
    "tags": []
   },
   "outputs": [],
   "source": [
    "import boto3\n",
    "ssm = boto3.client('ssm', 'us-east-1')\n",
    "\n",
    "opensearch_domain_endpoint = get_parameter(\n",
    "    boto3_client = ssm,\n",
    "    parameter_name = 'knox_opensearch_domain_endpoint',\n",
    ")\n",
    "\n",
    "opensearch_user_id = get_parameter(\n",
    "    boto3_client = ssm,\n",
    "    parameter_name = 'knox_opensearch_userid',\n",
    ")\n",
    "\n",
    "opensearch_user_password = get_parameter(\n",
    "    boto3_client = ssm,\n",
    "    parameter_name = 'knox_opensearch_password',\n",
    ")\n"
   ]
  },
  {
   "cell_type": "code",
   "execution_count": 14,
   "metadata": {
    "tags": []
   },
   "outputs": [],
   "source": [
    "opensearch_domain_endpoint = opensearch_domain_endpoint\n",
    "rag_user_name = opensearch_user_id\n",
    "rag_user_password = opensearch_user_password\n",
    "\n",
    "http_auth = (rag_user_name, rag_user_password) # Master username, Master password"
   ]
  },
  {
   "cell_type": "markdown",
   "metadata": {},
   "source": [
    "## OpenSearch Client 생성"
   ]
  },
  {
   "cell_type": "code",
   "execution_count": 15,
   "metadata": {
    "tags": []
   },
   "outputs": [],
   "source": [
    "gonsoomoon@gmail.comfrom utils.opensearch import opensearch_utils"
   ]
  },
  {
   "cell_type": "code",
   "execution_count": 16,
   "metadata": {
    "tags": []
   },
   "outputs": [],
   "source": [
    "aws_region = os.environ.get(\"AWS_DEFAULT_REGION\", None)\n",
    "\n",
    "os_client = opensearch_utils.create_aws_opensearch_client(\n",
    "    aws_region,\n",
    "    opensearch_domain_endpoint,\n",
    "    http_auth\n",
    ")"
   ]
  },
  {
   "cell_type": "markdown",
   "metadata": {},
   "source": [
    "## 오픈 서치 인덱스 유무에 따라 삭제\n",
    "오픈 서치에 해당 인덱스가 존재하면, 삭제 합니다. "
   ]
  },
  {
   "cell_type": "code",
   "execution_count": 17,
   "metadata": {
    "tags": []
   },
   "outputs": [],
   "source": [
    "from utils.opensearch import opensearch_utils"
   ]
  },
  {
   "cell_type": "code",
   "execution_count": 18,
   "metadata": {
    "tags": []
   },
   "outputs": [
    {
     "name": "stdout",
     "output_type": "stream",
     "text": [
      "index_name=genai-poc-knox-1024c-256o-v3, exists=False\n",
      "Index does not exist\n"
     ]
    }
   ],
   "source": [
    "os_client = opensearch_utils.create_aws_opensearch_client(\n",
    "    aws_region,\n",
    "    opensearch_domain_endpoint,\n",
    "    http_auth\n",
    ")\n",
    "\n",
    "index_exists = opensearch_utils.check_if_index_exists(\n",
    "    os_client,\n",
    "    index_name\n",
    ")\n",
    "\n",
    "if index_exists:\n",
    "    opensearch_utils.delete_index(\n",
    "        os_client,\n",
    "        index_name\n",
    "    )\n",
    "else:\n",
    "    print(\"Index does not exist\")"
   ]
  },
  {
   "cell_type": "code",
   "execution_count": 19,
   "metadata": {
    "tags": []
   },
   "outputs": [],
   "source": [
    "from langchain.vectorstores import OpenSearchVectorSearch"
   ]
  },
  {
   "cell_type": "code",
   "execution_count": 20,
   "metadata": {
    "tags": []
   },
   "outputs": [
    {
     "name": "stdout",
     "output_type": "stream",
     "text": [
      "CPU times: user 35.9 s, sys: 2.04 s, total: 37.9 s\n",
      "Wall time: 19min 36s\n"
     ]
    }
   ],
   "source": [
    "%%time\n",
    "# by default langchain would create a k-NN index and the embeddings would be ingested as a k-NN vector type\n",
    "docsearch = OpenSearchVectorSearch.from_documents(\n",
    "    index_name=index_name,\n",
    "    documents=chunk_docs,\n",
    "    embedding=llm_emb,\n",
    "    opensearch_url=opensearch_domain_endpoint,\n",
    "    http_auth=http_auth,\n",
    "    bulk_size=100000,\n",
    "    timeout=60\n",
    ")"
   ]
  },
  {
   "cell_type": "markdown",
   "metadata": {},
   "source": [
    "## 인덱스 확인"
   ]
  },
  {
   "cell_type": "code",
   "execution_count": 21,
   "metadata": {
    "tags": []
   },
   "outputs": [
    {
     "name": "stdout",
     "output_type": "stream",
     "text": [
      "{'genai-poc-knox-1024c-256o-v3': {'aliases': {},\n",
      "                                  'mappings': {'properties': {'metadata': {'properties': {'last_updated': {'type': 'date'},\n",
      "                                                                                          'project': {'fields': {'keyword': {'ignore_above': 256,\n",
      "                                                                                                                             'type': 'keyword'}},\n",
      "                                                                                                      'type': 'text'},\n",
      "                                                                                          'seq_num': {'type': 'long'},\n",
      "                                                                                          'source': {'fields': {'keyword': {'ignore_above': 256,\n",
      "                                                                                                                            'type': 'keyword'}},\n",
      "                                                                                                     'type': 'text'},\n",
      "                                                                                          'title': {'fields': {'keyword': {'ignore_above': 256,\n",
      "                                                                                                                           'type': 'keyword'}},\n",
      "                                                                                                    'type': 'text'},\n",
      "                                                                                          'url': {'fields': {'keyword': {'ignore_above': 256,\n",
      "                                                                                                                         'type': 'keyword'}},\n",
      "                                                                                                  'type': 'text'}}},\n",
      "                                                              'text': {'fields': {'keyword': {'ignore_above': 256,\n",
      "                                                                                              'type': 'keyword'}},\n",
      "                                                                       'type': 'text'},\n",
      "                                                              'vector_field': {'dimension': 1536,\n",
      "                                                                               'method': {'engine': 'nmslib',\n",
      "                                                                                          'name': 'hnsw',\n",
      "                                                                                          'parameters': {'ef_construction': 512,\n",
      "                                                                                                         'm': 16},\n",
      "                                                                                          'space_type': 'l2'},\n",
      "                                                                               'type': 'knn_vector'}}},\n",
      "                                  'settings': {'index': {'creation_date': '1700273473911',\n",
      "                                                         'knn': 'true',\n",
      "                                                         'knn.algo_param': {'ef_search': '512'},\n",
      "                                                         'number_of_replicas': '2',\n",
      "                                                         'number_of_shards': '5',\n",
      "                                                         'provided_name': 'genai-poc-knox-1024c-256o-v3',\n",
      "                                                         'uuid': 'rOQWxUeOSdCrrDkmIPDefg',\n",
      "                                                         'version': {'created': '136307827'}}}}}\n"
     ]
    }
   ],
   "source": [
    "index_info = os_client.indices.get(index=index_name)\n",
    "pprint(index_info)"
   ]
  },
  {
   "cell_type": "markdown",
   "metadata": {
    "tags": []
   },
   "source": [
    "## 랭체인 인덱스 연결 오브젝트 생성\n",
    "\n",
    "- [langchain.vectorstores.opensearch_vector_search.OpenSearchVectorSearch](https://api.python.langchain.com/en/latest/vectorstores/langchain.vectorstores.opensearch_vector_search.OpenSearchVectorSearch.html)"
   ]
  },
  {
   "cell_type": "code",
   "execution_count": 22,
   "metadata": {
    "tags": []
   },
   "outputs": [
    {
     "data": {
      "text/plain": [
       "<langchain.vectorstores.opensearch_vector_search.OpenSearchVectorSearch at 0x7f6d32b6cb20>"
      ]
     },
     "execution_count": 22,
     "metadata": {},
     "output_type": "execute_result"
    }
   ],
   "source": [
    "vector_db = OpenSearchVectorSearch(\n",
    "    index_name=index_name,\n",
    "    opensearch_url=opensearch_domain_endpoint,\n",
    "    embedding_function=llm_emb,\n",
    "    http_auth=http_auth, # http_auth\n",
    "    is_aoss =False,\n",
    "    engine=\"faiss\",\n",
    "    space_type=\"l2\"\n",
    ")\n",
    "vector_db"
   ]
  },
  {
   "cell_type": "code",
   "execution_count": 23,
   "metadata": {
    "tags": []
   },
   "outputs": [
    {
     "name": "stdout",
     "output_type": "stream",
     "text": [
      "query:  {'query': {'bool': {'must': [{'match': {'text': {'query': 'how to add image', 'minimum_should_match': '0%', 'operator': 'or'}}}], 'filter': []}}}\n",
      "# of searched docs:  10\n",
      "# of display: 10\n",
      "---------------------\n",
      "_id in index:  8870efc1-3e8f-44ef-ab96-601fc3505bda\n",
      "11.2403555\n",
      ". Note The Screen Saver only runs while the device is charging. The Screen Saver for the Kiosk Browser only runs while the device is connected to a power source. &gt;&gt; Screen Saver Type Select either an image or video type screensaver. &gt;&gt;&gt; Image Select image files for the screen saver. You can add up to 10 image files in PNG, JPG, JPEG, or GIF formats (animated files are not supported). Each image file must be less than 5 MB. To upload an image file, click Add and select a file. To delete an image file, click next to the name of the uploaded image file. Note The device control command must be transferred to the device to apply an image file to it. &gt;&gt;&gt; Video Select a video file for the screen saver. You can add only one video file in the MP4 or MKV format. The video file must be less than 50 MB. To upload a video file, click Add and select a file. To delete a video file, click next to the name of the uploaded video file\n",
      "{'source': 'customer_KM.json', 'seq_num': 162, 'title': 'Android Legacy policies', 'url': 'https://docs.samsungknox.com/admin/knox-manage/configure/profile/configure-profile-policies/android-legacy-policies', 'project': 'KM', 'last_updated': '2023-07-26'}\n",
      "---------------------\n",
      "_id in index:  7febeb0c-0f26-4d5d-b394-7f8e4bea0fec\n",
      "10.768669\n",
      ". Wallpaper - Upload an image to use as the Kiosk wallpaper. Click the box to add the wallpaper image. You can upload up to 5 images. Then, click the gray box area on the Add Wallpaper Image screen. Margin Color - For devices that use a Kiosk background image, also known as a wallpaper, any space on the screen that does not have the wallpaper is filled with black or white color as selected. If the dimensions of your wallpaper image do not match the dimensions of your screen, you can choose to keep the original dimensions. Doing so creates margins around the wallpaper image. The margin color is determined by the settings you've selected for the Margin Color field. Keep Original Size - Check to use the original size of the image. Random Play - Check to show the registered wallpapers in random order. Screen Composition - You can add a status bar and logo on a customized Kiosk device\n",
      "{'source': 'customer_KM.json', 'seq_num': 262, 'title': 'Kiosk Wizard menu items', 'url': 'https://docs.samsungknox.com/admin/knox-manage/kiosk-devices/kiosk-wizard/kiosk-wizard-menu-items', 'project': 'KM', 'last_updated': '2023-07-26'}\n",
      "---------------------\n",
      "_id in index:  7507891b-02f8-4426-8643-0b9f39cdb5da\n",
      "10.594996\n",
      ". You can also add a link to your enterprise's Website. ##Product information screen Under PRODUCT INFORMATION SCREEN, you can customize the Configuration service. Product Name - Enter the product name displayed in the product information screen. If left blank, the name of the profile is used by default. Image - Upload a custom image to display in the product information screen. If you don't add an image, the default generic image is shown. The image size can be PNG or JPG format and can't exceed 2MB in size. Optionally, select Add a non-dismissible notification to add a persistent notification that the device user can tap to quickly access the Configuration service. You can customize the notification with your own Application name and Notification message. Under Branding, you can configure the following enrollment screen elements: Background fill - Select a background color or upload an image to use your own branding for the enrollment screen background. The background image cannot exceed 2 MB in size\n",
      "{'source': 'customer_KC.json', 'seq_num': 7, 'title': 'Create a profile', 'url': 'https://docs.samsungknox.com/admin/knox-configure/get-started/create-a-profile', 'project': 'KC', 'last_updated': '2023-09-27'}\n",
      "---------------------\n",
      "_id in index:  a6e7c0ad-65bc-4abe-b518-010d96bde00d\n",
      "10.492653\n",
      ". Values Allow users to use Parallels desktop &mdash; Enables Parallels Desktop. When set, you must accept the end-user license agreement. Do not allow users to use Parallels desktop &mdash; Disables Parallels Desktop. Chrome OS 99 and higher Parallels Desktop Windows image The policy set for configuring the Windows OS image that the device user downloads on their Chromebooks in order to use Parallels Desktop. Chrome OS 99 and higher &gt; URL Specifies the address for the Windows image. Values Enter the URL. Chrome OS 99 and higher &gt; SHA-256 hash Specifies the SHA-256 hash of the Windows image. Values Enter the hash. Chrome OS 99 and higher Required disk space Specifies the free disk space required for Parallels Desktop. When deciding on a value, you should take the size of your uncompressed Windows image and add how much space is needed for the additional data or apps you expect to install\n",
      "{'source': 'customer_KM.json', 'seq_num': 164, 'title': 'Chrome OS policies', 'url': 'https://docs.samsungknox.com/admin/knox-manage/configure/profile/configure-profile-policies/chrome-os-policies', 'project': 'KM', 'last_updated': '2023-07-26'}\n",
      "---------------------\n",
      "_id in index:  ce908346-0980-4d78-84f8-a59487c9a22c\n",
      "10.448973\n",
      ". You can add up to 10 image files in the PNG, JPG, JPEG, or GIF format (animated files are not supported). Each image file must be less than 5 MB. To upload an image file, click Add and select a file. To delete an image file, click next to the name of the uploaded image file. Note The device control command must be transferred to the device to apply an image file to it. &gt;&gt;&gt; Video Select a video file for the screen saver. You can add only one video file in the MP4 or MKV format. The video file must be less than 50 MB. To upload a video file, click Add and select a file. To delete a video file, click next to the name of the uploaded video file. Note The device control command must be transferred to the device to apply a video to it. &gt; Session timeout Allows the use of the session timeout feature for the Kiosk Browser\n",
      "{'source': 'customer_KM.json', 'seq_num': 161, 'title': 'Android Enterprise policies', 'url': 'https://docs.samsungknox.com/admin/knox-manage/configure/profile/configure-profile-policies/android-enterprise-policies', 'project': 'KM', 'last_updated': '2023-09-06'}\n",
      "---------------------\n",
      "_id in index:  42ba2434-73bf-4511-ba8c-683091d030d8\n",
      "10.155709\n",
      ". For details, see Use the Configuration service. Under SUPPORT CONTACT DETAILS, provide a Phone number and Email for device users to reach out for support when encountering issues with their configured device. You can also add a link to your enterprise's Website. ##Product information screen Under PRODUCT INFORMATION SCREEN, you can customize the Configuration service. Product Name - Enter the product name displayed in the product information screen. If left blank, the name of the profile is used by default. Image - Upload a custom image to display in the product information screen. If you don't add an image, the default generic image is shown. The image size can be PNG or JPG format and can't exceed 2MB in size. Optionally, select Add a non-dismissible notification to add a persistent notification that the device user can tap to quickly access the Configuration service. You can customize the notification with your own Application name and Notification message\n",
      "{'source': 'customer_KC.json', 'seq_num': 7, 'title': 'Create a profile', 'url': 'https://docs.samsungknox.com/admin/knox-configure/get-started/create-a-profile', 'project': 'KC', 'last_updated': '2023-09-27'}\n",
      "---------------------\n",
      "_id in index:  4891fea9-1357-4fdb-bb71-40fba35209a2\n",
      "9.912777\n",
      ". Values wifi ethernet cellular vpn Chrome OS 99 and higher User & Browser To access the following policies, go to Profile details > Modify Policy. #General Policy Description Supported system Maximum user session length Specifies device user session duration. The remaining session time is shown on a countdown timer in the system tray. After the specified time, the user account is automatically signed out and the session ends. Values Enter a session length, in minutes. The value can be 1&ndash;1440 (maximum 24 hours). Chrome OS 99 and higher Custom avatar Sets the user account avatar on the login screen. Values To add an image, click . To inspect the current image, click View. To remove the current image, click Delete. The image file can be JPG or JPEG format and can't exceed 512 KB in size. Chrome OS 99 and higher Custom wallpaper Sets the desktop wallpaper. Values To add an image, click . To inspect the current image, click View. To remove the current image, click Delete\n",
      "{'source': 'customer_KM.json', 'seq_num': 164, 'title': 'Chrome OS policies', 'url': 'https://docs.samsungknox.com/admin/knox-manage/configure/profile/configure-profile-policies/chrome-os-policies', 'project': 'KM', 'last_updated': '2023-07-26'}\n",
      "---------------------\n",
      "_id in index:  af531b71-725e-40ef-9f4d-51f412971a94\n",
      "9.792024\n",
      ". Chrome OS 99 and higher Custom wallpaper Sets the desktop wallpaper. Values To add an image, click . To inspect the current image, click View. To remove the current image, click Delete. The image file can be JPG or JPEG format and can't exceed 16 MB in size. Chrome OS 99 and higher #Sign-in settings Policy Description Supported system Display password button Toggles the Show password button on sign in and lock screens. This button makes the password visible as plain text while the device user enters their credentials. Values Show the display password button on the login and lock screens Hide the display password button on the login and lock screens Chrome OS 99 and higher Managed account as secondary account Allows the device user to add secondary accounts to Chrome OS that are also managed accounts\n",
      "{'source': 'customer_KM.json', 'seq_num': 164, 'title': 'Chrome OS policies', 'url': 'https://docs.samsungknox.com/admin/knox-manage/configure/profile/configure-profile-policies/chrome-os-policies', 'project': 'KM', 'last_updated': '2023-07-26'}\n",
      "---------------------\n",
      "_id in index:  cb1d1da4-6fa0-4521-a16b-d335e4bd3778\n",
      "9.535887\n",
      ". &gt; Default URL Set the home page of the Kiosk Browser. Values Enter a URL. Click Lookup to browse and select available lookup items to include in the URL. App Auto Update Set the Kiosk Browser to be updated automatically. &gt; Screen Saver Use the screen saver for Single App and Multiple App kiosks and the Kiosk Browser. When no user activity is sensed for a certain amount of time set in the Auto Screen Off or Session Timeout settings on the device, the registered images or video files are activated on the device display. Note The Screen Saver for the Kiosk Browser only runs while the device is charging. &gt;&gt; Screen Saver Type Select either an image or video type screensaver. &gt;&gt;&gt; Image Select image files for the screen saver. You can add up to 10 image files in the PNG, JPG, JPEG, or GIF format (animated files are not supported). Each image file must be less than 5 MB. To upload an image file, click Add and select a file\n",
      "{'source': 'customer_KM.json', 'seq_num': 161, 'title': 'Android Enterprise policies', 'url': 'https://docs.samsungknox.com/admin/knox-manage/configure/profile/configure-profile-policies/android-enterprise-policies', 'project': 'KM', 'last_updated': '2023-09-06'}\n",
      "---------------------\n",
      "_id in index:  f24a6e5b-53af-4b29-a9f6-a8df342b86db\n",
      "9.479764\n",
      ". Device users can then optionally choose to grant or deny additional permissions, such as notification permissions for multi-Kiosk devices, or Window overlay permission for single kiosk devices. IT admins can now choose to show the permission notification only when the Kiosk Launcher app is running. The device user can now choose to close the notification without granting any permissions to the app. Multiple App Kiosk Menu items The following settings are only available in the Multiple App Kiosk mode. Orientation & Grid - Select between Landscape, Portrait, and Auto rotate for the Kiosk orientation mode, and select a Grid setting. Wallpaper - Upload an image to use as the Kiosk wallpaper. Click the box to add the wallpaper image. You can upload up to 5 images. Then, click the gray box area on the Add Wallpaper Image screen\n",
      "{'source': 'customer_KM.json', 'seq_num': 262, 'title': 'Kiosk Wizard menu items', 'url': 'https://docs.samsungknox.com/admin/knox-manage/kiosk-devices/kiosk-wizard/kiosk-wizard-menu-items', 'project': 'KM', 'last_updated': '2023-07-26'}\n",
      "---------------------\n"
     ]
    }
   ],
   "source": [
    "# query = \"knox\"\n",
    "query = \"how to add image\"\n",
    "query = opensearch_utils.get_query(\n",
    "    query=query\n",
    ")\n",
    "\n",
    "print(\"query: \", query)\n",
    "response = opensearch_utils.search_document(os_client, query, index_name)\n",
    "opensearch_utils.parse_keyword_response(response, show_size=10)"
   ]
  },
  {
   "cell_type": "code",
   "execution_count": null,
   "metadata": {},
   "outputs": [],
   "source": []
  },
  {
   "cell_type": "code",
   "execution_count": null,
   "metadata": {},
   "outputs": [],
   "source": []
  },
  {
   "cell_type": "markdown",
   "metadata": {
    "tags": []
   },
   "source": [
    "# 5.오픈 서치에 \"유사 서치\" 검색\n",
    "- query 를 제공해서 실제로 유사한 내용이 검색이 되는지를 확인 합니다.\n",
    "\n"
   ]
  },
  {
   "cell_type": "code",
   "execution_count": 24,
   "metadata": {
    "tags": []
   },
   "outputs": [],
   "source": [
    "from langchain.chains.question_answering import load_qa_chain\n",
    "from utils.rag import get_semantic_similar_docs, get_lexical_similar_docs, get_ensemble_results"
   ]
  },
  {
   "cell_type": "code",
   "execution_count": 25,
   "metadata": {
    "tags": []
   },
   "outputs": [],
   "source": [
    "import copy\n",
    "from langchain.schema import Document\n",
    "from langchain import PromptTemplate\n",
    "from operator import itemgetter"
   ]
  },
  {
   "cell_type": "code",
   "execution_count": 26,
   "metadata": {
    "tags": []
   },
   "outputs": [],
   "source": [
    "from utils.proc_docs import search_hybrid"
   ]
  },
  {
   "cell_type": "code",
   "execution_count": 27,
   "metadata": {
    "tags": []
   },
   "outputs": [
    {
     "name": "stdout",
     "output_type": "stream",
     "text": [
      "Query: \n",
      " how to add image\n",
      "##############################\n",
      "similar_docs_semantic\n",
      "##############################\n",
      "\n",
      "Score: 1.0\n",
      "['. You can add up to 10 image files in the PNG, JPG, JPEG, or GIF format (animated files are not supported). Each image file must be less than 5 MB. To upload an image file, click Add and select a file. To delete an image file, click next to the name of the uploaded image file. Note The device control command must be transferred to the device to apply an image file to it. &gt;&gt;&gt; Video Select a video file for the screen saver. You can add only one video file in the MP4 or MKV format. The video file must be less than 50 MB. To upload a video file, click Add and select a file. To delete a video file, click next to the name of the uploaded video file. Note The device control command must be transferred to the device to apply a video to it. &gt; Session timeout Allows the use of the session timeout feature for the Kiosk Browser']\n",
      "{'source': 'customer_KM.json', 'seq_num': 161, 'title': 'Android Enterprise policies', 'url': 'https://docs.samsungknox.com/admin/knox-manage/configure/profile/configure-profile-policies/android-enterprise-policies', 'project': 'KM', 'last_updated': '2023-09-06'}\n",
      "--------------------------------------------------\n",
      "\n",
      "Score: 0.8221045533640439\n",
      "['. Screenshot (optional) - Add up to four preview images of the app for device users. Click a frame to open a file dialog, then select an image from your file system. Each screenshot can be in JPG or PNG file formats and must not exceed 5MB in size. 4. Save the app, and choose whether to assign it right away: Click Save & Assign to save the app and assign it. The console takes you to the Assign Application page. For more details, see Assign Windows applications. Click Save to save the app and return to the app list.']\n",
      "{'source': 'customer_KM.json', 'seq_num': 70, 'title': 'Add public apps using the Microsoft Store', 'url': 'https://docs.samsungknox.com/admin/knox-manage/configure/applications/add-applications/add-public-apps-using-the-microsoft-store', 'project': 'KM', 'last_updated': '2023-07-26'}\n",
      "--------------------------------------------------\n",
      "\n",
      "Score: 0.7671258971646113\n",
      "[\". #Logo For more information about setting the logo, see Setting the logo. Option Description Logo Image Click Select Image and upload the image file of your company logo. The image must be a GIF, JPG, PNG, or BMP file. The file cannot be larger than 190 x 33 and must be 1 MB or lower. Click Default to use the default image as your company logo. Header Colo Click the color box and set a color for the header. Header Font Colo Click the color box and set a color for the header text. Preview Preview the company logo. #Authentication/Login Configure the settings about the login environment and the administrator account. Option Description Two-Factor Authentication Enable the use of OTP authentication as well as an account ID and password when administrators sign in to the Admin Portal. For OTP authentication, the administrator's mobile phone number or email address is required. Allow Multi-point Logins Allow concurrent logins to the Admin Portal\"]\n",
      "{'source': 'customer_KM.json', 'seq_num': 47, 'title': 'List of environment settings', 'url': 'https://docs.samsungknox.com/admin/knox-manage/configure/advanced-settings/list-of-environment-settings', 'project': 'KM', 'last_updated': '2023-07-26'}\n",
      "--------------------------------------------------\n",
      "\n",
      "Score: 0.7637705137705197\n",
      "[\"Create a custom animation file. You can create a custom device boot animation by uploading images to play in sequence and setting the desired image orientation, dithering and size. Once created and uploaded, you can preview and verify the animation before adding it to a profile and assigning it to devices. Create an animation To create a custom animation: 1. Click Library in the left-hand navigation menu and click the MEDIA tab. 2. Click ADD MEDIA in the upper right-hand corner. 3. Click CREATE ANIMATION to create a new animation sequence. 4. On the Upload a PNG sequence screen, upload a minimum of two and a maximum of 99 PNG images to use as the animation frames. Ensure the PNG files you upload are the same dimension and resolution as the target device's screen dimensions and display resolution to ensure an optimal display. 5. Give your animation a name and configure the following settings: Rotation - Select the animation's degree of rotation. Sizing - Select how the animation will display on the device\"]\n",
      "{'source': 'customer_KC.json', 'seq_num': 24, 'title': 'Create a custom animation file', 'url': 'https://docs.samsungknox.com/admin/knox-configure/how-to-guides/library/create-a-custom-animation-file', 'project': 'KC', 'last_updated': '2023-07-26'}\n",
      "--------------------------------------------------\n",
      "\n",
      "Score: 0.7583957800824107\n",
      "[\". You can also add a link to your enterprise's Website. ##Product information screen Under PRODUCT INFORMATION SCREEN, you can customize the Configuration service. Product Name - Enter the product name displayed in the product information screen. If left blank, the name of the profile is used by default. Image - Upload a custom image to display in the product information screen. If you don't add an image, the default generic image is shown. The image size can be PNG or JPG format and can't exceed 2MB in size. Optionally, select Add a non-dismissible notification to add a persistent notification that the device user can tap to quickly access the Configuration service. You can customize the notification with your own Application name and Notification message. Under Branding, you can configure the following enrollment screen elements: Background fill - Select a background color or upload an image to use your own branding for the enrollment screen background. The background image cannot exceed 2 MB in size\"]\n",
      "{'source': 'customer_KC.json', 'seq_num': 7, 'title': 'Create a profile', 'url': 'https://docs.samsungknox.com/admin/knox-configure/get-started/create-a-profile', 'project': 'KC', 'last_updated': '2023-09-27'}\n",
      "--------------------------------------------------\n",
      "lexical search query: \n",
      "{'query': {'bool': {'filter': [],\n",
      "                    'must': [{'match': {'text': {'minimum_should_match': '75%',\n",
      "                                                 'operator': 'or',\n",
      "                                                 'query': 'how to add '\n",
      "                                                          'image'}}}]}},\n",
      " 'size': 5}\n",
      "##############################\n",
      "similar_docs_keyword\n",
      "##############################\n",
      "\n",
      "Score: 1.0\n",
      "['. Note The Screen Saver only runs while the device is charging. The Screen Saver for the Kiosk Browser only runs while the device is connected to a power source. &gt;&gt; Screen Saver Type Select either an image or video type screensaver. &gt;&gt;&gt; Image Select image files for the screen saver. You can add up to 10 image files in PNG, JPG, JPEG, or GIF formats (animated files are not supported). Each image file must be less than 5 MB. To upload an image file, click Add and select a file. To delete an image file, click next to the name of the uploaded image file. Note The device control command must be transferred to the device to apply an image file to it. &gt;&gt;&gt; Video Select a video file for the screen saver. You can add only one video file in the MP4 or MKV format. The video file must be less than 50 MB. To upload a video file, click Add and select a file. To delete a video file, click next to the name of the uploaded video file']\n",
      "{'source': 'customer_KM.json', 'seq_num': 162, 'title': 'Android Legacy policies', 'url': 'https://docs.samsungknox.com/admin/knox-manage/configure/profile/configure-profile-policies/android-legacy-policies', 'project': 'KM', 'last_updated': '2023-07-26', 'id': '8870efc1-3e8f-44ef-ab96-601fc3505bda'}\n",
      "--------------------------------------------------\n",
      "\n",
      "Score: 0.9580363361283368\n",
      "[\". Wallpaper - Upload an image to use as the Kiosk wallpaper. Click the box to add the wallpaper image. You can upload up to 5 images. Then, click the gray box area on the Add Wallpaper Image screen. Margin Color - For devices that use a Kiosk background image, also known as a wallpaper, any space on the screen that does not have the wallpaper is filled with black or white color as selected. If the dimensions of your wallpaper image do not match the dimensions of your screen, you can choose to keep the original dimensions. Doing so creates margins around the wallpaper image. The margin color is determined by the settings you've selected for the Margin Color field. Keep Original Size - Check to use the original size of the image. Random Play - Check to show the registered wallpapers in random order. Screen Composition - You can add a status bar and logo on a customized Kiosk device\"]\n",
      "{'source': 'customer_KM.json', 'seq_num': 262, 'title': 'Kiosk Wizard menu items', 'url': 'https://docs.samsungknox.com/admin/knox-manage/kiosk-devices/kiosk-wizard/kiosk-wizard-menu-items', 'project': 'KM', 'last_updated': '2023-07-26', 'id': '7febeb0c-0f26-4d5d-b394-7f8e4bea0fec'}\n",
      "--------------------------------------------------\n",
      "\n",
      "Score: 0.9425854902898756\n",
      "[\". You can also add a link to your enterprise's Website. ##Product information screen Under PRODUCT INFORMATION SCREEN, you can customize the Configuration service. Product Name - Enter the product name displayed in the product information screen. If left blank, the name of the profile is used by default. Image - Upload a custom image to display in the product information screen. If you don't add an image, the default generic image is shown. The image size can be PNG or JPG format and can't exceed 2MB in size. Optionally, select Add a non-dismissible notification to add a persistent notification that the device user can tap to quickly access the Configuration service. You can customize the notification with your own Application name and Notification message. Under Branding, you can configure the following enrollment screen elements: Background fill - Select a background color or upload an image to use your own branding for the enrollment screen background. The background image cannot exceed 2 MB in size\"]\n",
      "{'source': 'customer_KC.json', 'seq_num': 7, 'title': 'Create a profile', 'url': 'https://docs.samsungknox.com/admin/knox-configure/get-started/create-a-profile', 'project': 'KC', 'last_updated': '2023-09-27', 'id': '7507891b-02f8-4426-8643-0b9f39cdb5da'}\n",
      "--------------------------------------------------\n",
      "\n",
      "Score: 0.9334805291523032\n",
      "['. Values Allow users to use Parallels desktop &mdash; Enables Parallels Desktop. When set, you must accept the end-user license agreement. Do not allow users to use Parallels desktop &mdash; Disables Parallels Desktop. Chrome OS 99 and higher Parallels Desktop Windows image The policy set for configuring the Windows OS image that the device user downloads on their Chromebooks in order to use Parallels Desktop. Chrome OS 99 and higher &gt; URL Specifies the address for the Windows image. Values Enter the URL. Chrome OS 99 and higher &gt; SHA-256 hash Specifies the SHA-256 hash of the Windows image. Values Enter the hash. Chrome OS 99 and higher Required disk space Specifies the free disk space required for Parallels Desktop. When deciding on a value, you should take the size of your uncompressed Windows image and add how much space is needed for the additional data or apps you expect to install']\n",
      "{'source': 'customer_KM.json', 'seq_num': 164, 'title': 'Chrome OS policies', 'url': 'https://docs.samsungknox.com/admin/knox-manage/configure/profile/configure-profile-policies/chrome-os-policies', 'project': 'KM', 'last_updated': '2023-07-26', 'id': 'a6e7c0ad-65bc-4abe-b518-010d96bde00d'}\n",
      "--------------------------------------------------\n",
      "\n",
      "Score: 0.929594531062652\n",
      "['. You can add up to 10 image files in the PNG, JPG, JPEG, or GIF format (animated files are not supported). Each image file must be less than 5 MB. To upload an image file, click Add and select a file. To delete an image file, click next to the name of the uploaded image file. Note The device control command must be transferred to the device to apply an image file to it. &gt;&gt;&gt; Video Select a video file for the screen saver. You can add only one video file in the MP4 or MKV format. The video file must be less than 50 MB. To upload a video file, click Add and select a file. To delete a video file, click next to the name of the uploaded video file. Note The device control command must be transferred to the device to apply a video to it. &gt; Session timeout Allows the use of the session timeout feature for the Kiosk Browser']\n",
      "{'source': 'customer_KM.json', 'seq_num': 161, 'title': 'Android Enterprise policies', 'url': 'https://docs.samsungknox.com/admin/knox-manage/configure/profile/configure-profile-policies/android-enterprise-policies', 'project': 'KM', 'last_updated': '2023-09-06', 'id': 'ce908346-0980-4d78-84f8-a59487c9a22c'}\n",
      "--------------------------------------------------\n",
      "##############################\n",
      "similar_docs_ensemble\n",
      "##############################\n",
      "\n",
      "Score: 0.015889029003783105\n",
      "['. You can add up to 10 image files in the PNG, JPG, JPEG, or GIF format (animated files are not supported). Each image file must be less than 5 MB. To upload an image file, click Add and select a file. To delete an image file, click next to the name of the uploaded image file. Note The device control command must be transferred to the device to apply an image file to it. &gt;&gt;&gt; Video Select a video file for the screen saver. You can add only one video file in the MP4 or MKV format. The video file must be less than 50 MB. To upload a video file, click Add and select a file. To delete a video file, click next to the name of the uploaded video file. Note The device control command must be transferred to the device to apply a video to it. &gt; Session timeout Allows the use of the session timeout feature for the Kiosk Browser']\n",
      "{'source': 'customer_KM.json', 'seq_num': 161, 'title': 'Android Enterprise policies', 'url': 'https://docs.samsungknox.com/admin/knox-manage/configure/profile/configure-profile-policies/android-enterprise-policies', 'project': 'KM', 'last_updated': '2023-09-06', 'id': 'ce908346-0980-4d78-84f8-a59487c9a22c'}\n",
      "--------------------------------------------------\n",
      "\n",
      "Score: 0.01562881562881563\n",
      "[\". You can also add a link to your enterprise's Website. ##Product information screen Under PRODUCT INFORMATION SCREEN, you can customize the Configuration service. Product Name - Enter the product name displayed in the product information screen. If left blank, the name of the profile is used by default. Image - Upload a custom image to display in the product information screen. If you don't add an image, the default generic image is shown. The image size can be PNG or JPG format and can't exceed 2MB in size. Optionally, select Add a non-dismissible notification to add a persistent notification that the device user can tap to quickly access the Configuration service. You can customize the notification with your own Application name and Notification message. Under Branding, you can configure the following enrollment screen elements: Background fill - Select a background color or upload an image to use your own branding for the enrollment screen background. The background image cannot exceed 2 MB in size\"]\n",
      "{'source': 'customer_KC.json', 'seq_num': 7, 'title': 'Create a profile', 'url': 'https://docs.samsungknox.com/admin/knox-configure/get-started/create-a-profile', 'project': 'KC', 'last_updated': '2023-09-27', 'id': '7507891b-02f8-4426-8643-0b9f39cdb5da'}\n",
      "--------------------------------------------------\n",
      "\n",
      "Score: 0.00819672131147541\n",
      "['. Note The Screen Saver only runs while the device is charging. The Screen Saver for the Kiosk Browser only runs while the device is connected to a power source. &gt;&gt; Screen Saver Type Select either an image or video type screensaver. &gt;&gt;&gt; Image Select image files for the screen saver. You can add up to 10 image files in PNG, JPG, JPEG, or GIF formats (animated files are not supported). Each image file must be less than 5 MB. To upload an image file, click Add and select a file. To delete an image file, click next to the name of the uploaded image file. Note The device control command must be transferred to the device to apply an image file to it. &gt;&gt;&gt; Video Select a video file for the screen saver. You can add only one video file in the MP4 or MKV format. The video file must be less than 50 MB. To upload a video file, click Add and select a file. To delete a video file, click next to the name of the uploaded video file']\n",
      "{'source': 'customer_KM.json', 'seq_num': 162, 'title': 'Android Legacy policies', 'url': 'https://docs.samsungknox.com/admin/knox-manage/configure/profile/configure-profile-policies/android-legacy-policies', 'project': 'KM', 'last_updated': '2023-07-26', 'id': '8870efc1-3e8f-44ef-ab96-601fc3505bda'}\n",
      "--------------------------------------------------\n",
      "\n",
      "Score: 0.008064516129032258\n",
      "['. Screenshot (optional) - Add up to four preview images of the app for device users. Click a frame to open a file dialog, then select an image from your file system. Each screenshot can be in JPG or PNG file formats and must not exceed 5MB in size. 4. Save the app, and choose whether to assign it right away: Click Save & Assign to save the app and assign it. The console takes you to the Assign Application page. For more details, see Assign Windows applications. Click Save to save the app and return to the app list.']\n",
      "{'source': 'customer_KM.json', 'seq_num': 70, 'title': 'Add public apps using the Microsoft Store', 'url': 'https://docs.samsungknox.com/admin/knox-manage/configure/applications/add-applications/add-public-apps-using-the-microsoft-store', 'project': 'KM', 'last_updated': '2023-07-26'}\n",
      "--------------------------------------------------\n",
      "\n",
      "Score: 0.008064516129032258\n",
      "[\". Wallpaper - Upload an image to use as the Kiosk wallpaper. Click the box to add the wallpaper image. You can upload up to 5 images. Then, click the gray box area on the Add Wallpaper Image screen. Margin Color - For devices that use a Kiosk background image, also known as a wallpaper, any space on the screen that does not have the wallpaper is filled with black or white color as selected. If the dimensions of your wallpaper image do not match the dimensions of your screen, you can choose to keep the original dimensions. Doing so creates margins around the wallpaper image. The margin color is determined by the settings you've selected for the Margin Color field. Keep Original Size - Check to use the original size of the image. Random Play - Check to show the registered wallpapers in random order. Screen Composition - You can add a status bar and logo on a customized Kiosk device\"]\n",
      "{'source': 'customer_KM.json', 'seq_num': 262, 'title': 'Kiosk Wizard menu items', 'url': 'https://docs.samsungknox.com/admin/knox-manage/kiosk-devices/kiosk-wizard/kiosk-wizard-menu-items', 'project': 'KM', 'last_updated': '2023-07-26', 'id': '7febeb0c-0f26-4d5d-b394-7f8e4bea0fec'}\n",
      "--------------------------------------------------\n",
      "CPU times: user 18.3 ms, sys: 148 µs, total: 18.5 ms\n",
      "Wall time: 170 ms\n"
     ]
    }
   ],
   "source": [
    "%%time\n",
    "\n",
    "\n",
    "filter01 = \"[]\"\n",
    "filter02 = \"[]\"\n",
    "\n",
    "query = \"how to add image\"\n",
    "\n",
    "search_hybrid_result = search_hybrid(\n",
    "    query=query,\n",
    "    vector_db=vector_db,\n",
    "    k=5,\n",
    "    index_name= index_name,\n",
    "    os_client=os_client,\n",
    "    filter=[\n",
    "        {\"term\": {\"metadata.type\": filter01}},\n",
    "        {\"term\": {\"metadata.source\": filter02}},\n",
    "    ],\n",
    "    Semantic_Search = False,    \n",
    "    Lexical_Search = False,    \n",
    "    Hybrid_Search = True,     \n",
    "    minimum_should_match = 75,   \n",
    "    fusion_algorithm=\"RRF\", # [\"RRF\", \"simple_weighted\"]\n",
    "    ensemble_weights=[.5, .5], # 시멘트 서치에 가중치 0.5 , 키워드 서치 가중치 0.5 부여.\n",
    "    verbose=True\n",
    ")\n",
    "\n"
   ]
  },
  {
   "cell_type": "code",
   "execution_count": null,
   "metadata": {},
   "outputs": [],
   "source": []
  },
  {
   "cell_type": "code",
   "execution_count": null,
   "metadata": {},
   "outputs": [],
   "source": []
  },
  {
   "cell_type": "code",
   "execution_count": null,
   "metadata": {},
   "outputs": [],
   "source": []
  }
 ],
 "metadata": {
  "availableInstances": [
   {
    "_defaultOrder": 0,
    "_isFastLaunch": true,
    "category": "General purpose",
    "gpuNum": 0,
    "hideHardwareSpecs": false,
    "memoryGiB": 4,
    "name": "ml.t3.medium",
    "vcpuNum": 2
   },
   {
    "_defaultOrder": 1,
    "_isFastLaunch": false,
    "category": "General purpose",
    "gpuNum": 0,
    "hideHardwareSpecs": false,
    "memoryGiB": 8,
    "name": "ml.t3.large",
    "vcpuNum": 2
   },
   {
    "_defaultOrder": 2,
    "_isFastLaunch": false,
    "category": "General purpose",
    "gpuNum": 0,
    "hideHardwareSpecs": false,
    "memoryGiB": 16,
    "name": "ml.t3.xlarge",
    "vcpuNum": 4
   },
   {
    "_defaultOrder": 3,
    "_isFastLaunch": false,
    "category": "General purpose",
    "gpuNum": 0,
    "hideHardwareSpecs": false,
    "memoryGiB": 32,
    "name": "ml.t3.2xlarge",
    "vcpuNum": 8
   },
   {
    "_defaultOrder": 4,
    "_isFastLaunch": true,
    "category": "General purpose",
    "gpuNum": 0,
    "hideHardwareSpecs": false,
    "memoryGiB": 8,
    "name": "ml.m5.large",
    "vcpuNum": 2
   },
   {
    "_defaultOrder": 5,
    "_isFastLaunch": false,
    "category": "General purpose",
    "gpuNum": 0,
    "hideHardwareSpecs": false,
    "memoryGiB": 16,
    "name": "ml.m5.xlarge",
    "vcpuNum": 4
   },
   {
    "_defaultOrder": 6,
    "_isFastLaunch": false,
    "category": "General purpose",
    "gpuNum": 0,
    "hideHardwareSpecs": false,
    "memoryGiB": 32,
    "name": "ml.m5.2xlarge",
    "vcpuNum": 8
   },
   {
    "_defaultOrder": 7,
    "_isFastLaunch": false,
    "category": "General purpose",
    "gpuNum": 0,
    "hideHardwareSpecs": false,
    "memoryGiB": 64,
    "name": "ml.m5.4xlarge",
    "vcpuNum": 16
   },
   {
    "_defaultOrder": 8,
    "_isFastLaunch": false,
    "category": "General purpose",
    "gpuNum": 0,
    "hideHardwareSpecs": false,
    "memoryGiB": 128,
    "name": "ml.m5.8xlarge",
    "vcpuNum": 32
   },
   {
    "_defaultOrder": 9,
    "_isFastLaunch": false,
    "category": "General purpose",
    "gpuNum": 0,
    "hideHardwareSpecs": false,
    "memoryGiB": 192,
    "name": "ml.m5.12xlarge",
    "vcpuNum": 48
   },
   {
    "_defaultOrder": 10,
    "_isFastLaunch": false,
    "category": "General purpose",
    "gpuNum": 0,
    "hideHardwareSpecs": false,
    "memoryGiB": 256,
    "name": "ml.m5.16xlarge",
    "vcpuNum": 64
   },
   {
    "_defaultOrder": 11,
    "_isFastLaunch": false,
    "category": "General purpose",
    "gpuNum": 0,
    "hideHardwareSpecs": false,
    "memoryGiB": 384,
    "name": "ml.m5.24xlarge",
    "vcpuNum": 96
   },
   {
    "_defaultOrder": 12,
    "_isFastLaunch": false,
    "category": "General purpose",
    "gpuNum": 0,
    "hideHardwareSpecs": false,
    "memoryGiB": 8,
    "name": "ml.m5d.large",
    "vcpuNum": 2
   },
   {
    "_defaultOrder": 13,
    "_isFastLaunch": false,
    "category": "General purpose",
    "gpuNum": 0,
    "hideHardwareSpecs": false,
    "memoryGiB": 16,
    "name": "ml.m5d.xlarge",
    "vcpuNum": 4
   },
   {
    "_defaultOrder": 14,
    "_isFastLaunch": false,
    "category": "General purpose",
    "gpuNum": 0,
    "hideHardwareSpecs": false,
    "memoryGiB": 32,
    "name": "ml.m5d.2xlarge",
    "vcpuNum": 8
   },
   {
    "_defaultOrder": 15,
    "_isFastLaunch": false,
    "category": "General purpose",
    "gpuNum": 0,
    "hideHardwareSpecs": false,
    "memoryGiB": 64,
    "name": "ml.m5d.4xlarge",
    "vcpuNum": 16
   },
   {
    "_defaultOrder": 16,
    "_isFastLaunch": false,
    "category": "General purpose",
    "gpuNum": 0,
    "hideHardwareSpecs": false,
    "memoryGiB": 128,
    "name": "ml.m5d.8xlarge",
    "vcpuNum": 32
   },
   {
    "_defaultOrder": 17,
    "_isFastLaunch": false,
    "category": "General purpose",
    "gpuNum": 0,
    "hideHardwareSpecs": false,
    "memoryGiB": 192,
    "name": "ml.m5d.12xlarge",
    "vcpuNum": 48
   },
   {
    "_defaultOrder": 18,
    "_isFastLaunch": false,
    "category": "General purpose",
    "gpuNum": 0,
    "hideHardwareSpecs": false,
    "memoryGiB": 256,
    "name": "ml.m5d.16xlarge",
    "vcpuNum": 64
   },
   {
    "_defaultOrder": 19,
    "_isFastLaunch": false,
    "category": "General purpose",
    "gpuNum": 0,
    "hideHardwareSpecs": false,
    "memoryGiB": 384,
    "name": "ml.m5d.24xlarge",
    "vcpuNum": 96
   },
   {
    "_defaultOrder": 20,
    "_isFastLaunch": false,
    "category": "General purpose",
    "gpuNum": 0,
    "hideHardwareSpecs": true,
    "memoryGiB": 0,
    "name": "ml.geospatial.interactive",
    "supportedImageNames": [
     "sagemaker-geospatial-v1-0"
    ],
    "vcpuNum": 0
   },
   {
    "_defaultOrder": 21,
    "_isFastLaunch": true,
    "category": "Compute optimized",
    "gpuNum": 0,
    "hideHardwareSpecs": false,
    "memoryGiB": 4,
    "name": "ml.c5.large",
    "vcpuNum": 2
   },
   {
    "_defaultOrder": 22,
    "_isFastLaunch": false,
    "category": "Compute optimized",
    "gpuNum": 0,
    "hideHardwareSpecs": false,
    "memoryGiB": 8,
    "name": "ml.c5.xlarge",
    "vcpuNum": 4
   },
   {
    "_defaultOrder": 23,
    "_isFastLaunch": false,
    "category": "Compute optimized",
    "gpuNum": 0,
    "hideHardwareSpecs": false,
    "memoryGiB": 16,
    "name": "ml.c5.2xlarge",
    "vcpuNum": 8
   },
   {
    "_defaultOrder": 24,
    "_isFastLaunch": false,
    "category": "Compute optimized",
    "gpuNum": 0,
    "hideHardwareSpecs": false,
    "memoryGiB": 32,
    "name": "ml.c5.4xlarge",
    "vcpuNum": 16
   },
   {
    "_defaultOrder": 25,
    "_isFastLaunch": false,
    "category": "Compute optimized",
    "gpuNum": 0,
    "hideHardwareSpecs": false,
    "memoryGiB": 72,
    "name": "ml.c5.9xlarge",
    "vcpuNum": 36
   },
   {
    "_defaultOrder": 26,
    "_isFastLaunch": false,
    "category": "Compute optimized",
    "gpuNum": 0,
    "hideHardwareSpecs": false,
    "memoryGiB": 96,
    "name": "ml.c5.12xlarge",
    "vcpuNum": 48
   },
   {
    "_defaultOrder": 27,
    "_isFastLaunch": false,
    "category": "Compute optimized",
    "gpuNum": 0,
    "hideHardwareSpecs": false,
    "memoryGiB": 144,
    "name": "ml.c5.18xlarge",
    "vcpuNum": 72
   },
   {
    "_defaultOrder": 28,
    "_isFastLaunch": false,
    "category": "Compute optimized",
    "gpuNum": 0,
    "hideHardwareSpecs": false,
    "memoryGiB": 192,
    "name": "ml.c5.24xlarge",
    "vcpuNum": 96
   },
   {
    "_defaultOrder": 29,
    "_isFastLaunch": true,
    "category": "Accelerated computing",
    "gpuNum": 1,
    "hideHardwareSpecs": false,
    "memoryGiB": 16,
    "name": "ml.g4dn.xlarge",
    "vcpuNum": 4
   },
   {
    "_defaultOrder": 30,
    "_isFastLaunch": false,
    "category": "Accelerated computing",
    "gpuNum": 1,
    "hideHardwareSpecs": false,
    "memoryGiB": 32,
    "name": "ml.g4dn.2xlarge",
    "vcpuNum": 8
   },
   {
    "_defaultOrder": 31,
    "_isFastLaunch": false,
    "category": "Accelerated computing",
    "gpuNum": 1,
    "hideHardwareSpecs": false,
    "memoryGiB": 64,
    "name": "ml.g4dn.4xlarge",
    "vcpuNum": 16
   },
   {
    "_defaultOrder": 32,
    "_isFastLaunch": false,
    "category": "Accelerated computing",
    "gpuNum": 1,
    "hideHardwareSpecs": false,
    "memoryGiB": 128,
    "name": "ml.g4dn.8xlarge",
    "vcpuNum": 32
   },
   {
    "_defaultOrder": 33,
    "_isFastLaunch": false,
    "category": "Accelerated computing",
    "gpuNum": 4,
    "hideHardwareSpecs": false,
    "memoryGiB": 192,
    "name": "ml.g4dn.12xlarge",
    "vcpuNum": 48
   },
   {
    "_defaultOrder": 34,
    "_isFastLaunch": false,
    "category": "Accelerated computing",
    "gpuNum": 1,
    "hideHardwareSpecs": false,
    "memoryGiB": 256,
    "name": "ml.g4dn.16xlarge",
    "vcpuNum": 64
   },
   {
    "_defaultOrder": 35,
    "_isFastLaunch": false,
    "category": "Accelerated computing",
    "gpuNum": 1,
    "hideHardwareSpecs": false,
    "memoryGiB": 61,
    "name": "ml.p3.2xlarge",
    "vcpuNum": 8
   },
   {
    "_defaultOrder": 36,
    "_isFastLaunch": false,
    "category": "Accelerated computing",
    "gpuNum": 4,
    "hideHardwareSpecs": false,
    "memoryGiB": 244,
    "name": "ml.p3.8xlarge",
    "vcpuNum": 32
   },
   {
    "_defaultOrder": 37,
    "_isFastLaunch": false,
    "category": "Accelerated computing",
    "gpuNum": 8,
    "hideHardwareSpecs": false,
    "memoryGiB": 488,
    "name": "ml.p3.16xlarge",
    "vcpuNum": 64
   },
   {
    "_defaultOrder": 38,
    "_isFastLaunch": false,
    "category": "Accelerated computing",
    "gpuNum": 8,
    "hideHardwareSpecs": false,
    "memoryGiB": 768,
    "name": "ml.p3dn.24xlarge",
    "vcpuNum": 96
   },
   {
    "_defaultOrder": 39,
    "_isFastLaunch": false,
    "category": "Memory Optimized",
    "gpuNum": 0,
    "hideHardwareSpecs": false,
    "memoryGiB": 16,
    "name": "ml.r5.large",
    "vcpuNum": 2
   },
   {
    "_defaultOrder": 40,
    "_isFastLaunch": false,
    "category": "Memory Optimized",
    "gpuNum": 0,
    "hideHardwareSpecs": false,
    "memoryGiB": 32,
    "name": "ml.r5.xlarge",
    "vcpuNum": 4
   },
   {
    "_defaultOrder": 41,
    "_isFastLaunch": false,
    "category": "Memory Optimized",
    "gpuNum": 0,
    "hideHardwareSpecs": false,
    "memoryGiB": 64,
    "name": "ml.r5.2xlarge",
    "vcpuNum": 8
   },
   {
    "_defaultOrder": 42,
    "_isFastLaunch": false,
    "category": "Memory Optimized",
    "gpuNum": 0,
    "hideHardwareSpecs": false,
    "memoryGiB": 128,
    "name": "ml.r5.4xlarge",
    "vcpuNum": 16
   },
   {
    "_defaultOrder": 43,
    "_isFastLaunch": false,
    "category": "Memory Optimized",
    "gpuNum": 0,
    "hideHardwareSpecs": false,
    "memoryGiB": 256,
    "name": "ml.r5.8xlarge",
    "vcpuNum": 32
   },
   {
    "_defaultOrder": 44,
    "_isFastLaunch": false,
    "category": "Memory Optimized",
    "gpuNum": 0,
    "hideHardwareSpecs": false,
    "memoryGiB": 384,
    "name": "ml.r5.12xlarge",
    "vcpuNum": 48
   },
   {
    "_defaultOrder": 45,
    "_isFastLaunch": false,
    "category": "Memory Optimized",
    "gpuNum": 0,
    "hideHardwareSpecs": false,
    "memoryGiB": 512,
    "name": "ml.r5.16xlarge",
    "vcpuNum": 64
   },
   {
    "_defaultOrder": 46,
    "_isFastLaunch": false,
    "category": "Memory Optimized",
    "gpuNum": 0,
    "hideHardwareSpecs": false,
    "memoryGiB": 768,
    "name": "ml.r5.24xlarge",
    "vcpuNum": 96
   },
   {
    "_defaultOrder": 47,
    "_isFastLaunch": false,
    "category": "Accelerated computing",
    "gpuNum": 1,
    "hideHardwareSpecs": false,
    "memoryGiB": 16,
    "name": "ml.g5.xlarge",
    "vcpuNum": 4
   },
   {
    "_defaultOrder": 48,
    "_isFastLaunch": false,
    "category": "Accelerated computing",
    "gpuNum": 1,
    "hideHardwareSpecs": false,
    "memoryGiB": 32,
    "name": "ml.g5.2xlarge",
    "vcpuNum": 8
   },
   {
    "_defaultOrder": 49,
    "_isFastLaunch": false,
    "category": "Accelerated computing",
    "gpuNum": 1,
    "hideHardwareSpecs": false,
    "memoryGiB": 64,
    "name": "ml.g5.4xlarge",
    "vcpuNum": 16
   },
   {
    "_defaultOrder": 50,
    "_isFastLaunch": false,
    "category": "Accelerated computing",
    "gpuNum": 1,
    "hideHardwareSpecs": false,
    "memoryGiB": 128,
    "name": "ml.g5.8xlarge",
    "vcpuNum": 32
   },
   {
    "_defaultOrder": 51,
    "_isFastLaunch": false,
    "category": "Accelerated computing",
    "gpuNum": 1,
    "hideHardwareSpecs": false,
    "memoryGiB": 256,
    "name": "ml.g5.16xlarge",
    "vcpuNum": 64
   },
   {
    "_defaultOrder": 52,
    "_isFastLaunch": false,
    "category": "Accelerated computing",
    "gpuNum": 4,
    "hideHardwareSpecs": false,
    "memoryGiB": 192,
    "name": "ml.g5.12xlarge",
    "vcpuNum": 48
   },
   {
    "_defaultOrder": 53,
    "_isFastLaunch": false,
    "category": "Accelerated computing",
    "gpuNum": 4,
    "hideHardwareSpecs": false,
    "memoryGiB": 384,
    "name": "ml.g5.24xlarge",
    "vcpuNum": 96
   },
   {
    "_defaultOrder": 54,
    "_isFastLaunch": false,
    "category": "Accelerated computing",
    "gpuNum": 8,
    "hideHardwareSpecs": false,
    "memoryGiB": 768,
    "name": "ml.g5.48xlarge",
    "vcpuNum": 192
   },
   {
    "_defaultOrder": 55,
    "_isFastLaunch": false,
    "category": "Accelerated computing",
    "gpuNum": 8,
    "hideHardwareSpecs": false,
    "memoryGiB": 1152,
    "name": "ml.p4d.24xlarge",
    "vcpuNum": 96
   },
   {
    "_defaultOrder": 56,
    "_isFastLaunch": false,
    "category": "Accelerated computing",
    "gpuNum": 8,
    "hideHardwareSpecs": false,
    "memoryGiB": 1152,
    "name": "ml.p4de.24xlarge",
    "vcpuNum": 96
   }
  ],
  "instance_type": "ml.m5.xlarge",
  "kernelspec": {
   "display_name": "Python 3 (Data Science 3.0)",
   "language": "python",
   "name": "python3__SAGEMAKER_INTERNAL__arn:aws:sagemaker:us-east-1:081325390199:image/sagemaker-data-science-310-v1"
  },
  "language_info": {
   "codemirror_mode": {
    "name": "ipython",
    "version": 3
   },
   "file_extension": ".py",
   "mimetype": "text/x-python",
   "name": "python",
   "nbconvert_exporter": "python",
   "pygments_lexer": "ipython3",
   "version": "3.10.6"
  }
 },
 "nbformat": 4,
 "nbformat_minor": 4
}
