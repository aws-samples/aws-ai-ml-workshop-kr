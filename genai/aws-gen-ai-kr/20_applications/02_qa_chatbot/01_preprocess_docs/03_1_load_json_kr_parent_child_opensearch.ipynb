{
 "cells": [
  {
   "cell_type": "markdown",
   "metadata": {
    "tags": []
   },
   "source": [
    "# 한글 Parent-Child Chunk 를 OpenSearch 에 저장\n",
    "\n",
    "---\n",
    "\n",
    "---"
   ]
  },
  {
   "cell_type": "markdown",
   "metadata": {
    "tags": []
   },
   "source": [
    "# 1. Bedrock Client 생성"
   ]
  },
  {
   "cell_type": "code",
   "execution_count": 2,
   "metadata": {
    "tags": []
   },
   "outputs": [
    {
     "name": "stdout",
     "output_type": "stream",
     "text": [
      "langchain                            0.0.347\n",
      "langchain-core                       0.0.11\n",
      "\n",
      "\u001b[1m[\u001b[0m\u001b[34;49mnotice\u001b[0m\u001b[1;39;49m]\u001b[0m\u001b[39;49m A new release of pip is available: \u001b[0m\u001b[31;49m23.3.1\u001b[0m\u001b[39;49m -> \u001b[0m\u001b[32;49m23.3.2\u001b[0m\n",
      "\u001b[1m[\u001b[0m\u001b[34;49mnotice\u001b[0m\u001b[1;39;49m]\u001b[0m\u001b[39;49m To update, run: \u001b[0m\u001b[32;49mpip install --upgrade pip\u001b[0m\n",
      "opensearch-py                        2.4.2\n",
      "\n",
      "\u001b[1m[\u001b[0m\u001b[34;49mnotice\u001b[0m\u001b[1;39;49m]\u001b[0m\u001b[39;49m A new release of pip is available: \u001b[0m\u001b[31;49m23.3.1\u001b[0m\u001b[39;49m -> \u001b[0m\u001b[32;49m23.3.2\u001b[0m\n",
      "\u001b[1m[\u001b[0m\u001b[34;49mnotice\u001b[0m\u001b[1;39;49m]\u001b[0m\u001b[39;49m To update, run: \u001b[0m\u001b[32;49mpip install --upgrade pip\u001b[0m\n",
      "pypdf                                3.17.1\n",
      "\n",
      "\u001b[1m[\u001b[0m\u001b[34;49mnotice\u001b[0m\u001b[1;39;49m]\u001b[0m\u001b[39;49m A new release of pip is available: \u001b[0m\u001b[31;49m23.3.1\u001b[0m\u001b[39;49m -> \u001b[0m\u001b[32;49m23.3.2\u001b[0m\n",
      "\u001b[1m[\u001b[0m\u001b[34;49mnotice\u001b[0m\u001b[1;39;49m]\u001b[0m\u001b[39;49m To update, run: \u001b[0m\u001b[32;49mpip install --upgrade pip\u001b[0m\n"
     ]
    }
   ],
   "source": [
    "! pip list | grep langchain # 0.0.312\n",
    "! pip list | grep opensearch # 2.3.2\n",
    "! pip list | grep pypdf"
   ]
  },
  {
   "cell_type": "code",
   "execution_count": 3,
   "metadata": {
    "tags": []
   },
   "outputs": [
    {
     "name": "stdout",
     "output_type": "stream",
     "text": [
      "/root/aws-ai-ml-workshop-kr/genai/aws-gen-ai-kr/20_applications/02_qa_chatbot/01_preprocess_docs/utils\n"
     ]
    }
   ],
   "source": [
    "%load_ext autoreload\n",
    "%autoreload 2\n",
    "\n",
    "import sys, os\n",
    "# module_path = \"../../../utils\"\n",
    "# sys.path.append(os.path.abspath(module_path))\n",
    "# print(os.path.abspath(module_path))\n",
    "\n",
    "module_path = \"./utils\"\n",
    "sys.path.append(os.path.abspath(module_path))\n",
    "print(os.path.abspath(module_path))"
   ]
  },
  {
   "cell_type": "code",
   "execution_count": 4,
   "metadata": {
    "tags": []
   },
   "outputs": [
    {
     "name": "stdout",
     "output_type": "stream",
     "text": [
      "Create new client\n",
      "  Using region: us-east-1\n",
      "  Using profile: None\n",
      "boto3 Bedrock client successfully created!\n",
      "bedrock-runtime(https://bedrock-runtime.us-east-1.amazonaws.com)\n",
      "\n",
      "== FM lists ==\n",
      "{'Claude-Instant-V1': 'anthropic.claude-instant-v1',\n",
      " 'Claude-V1': 'anthropic.claude-v1',\n",
      " 'Claude-V2': 'anthropic.claude-v2',\n",
      " 'Command': 'cohere.command-text-v14',\n",
      " 'Jurassic-2-Mid': 'ai21.j2-mid-v1',\n",
      " 'Jurassic-2-Ultra': 'ai21.j2-ultra-v1',\n",
      " 'Llama2-13b-Chat': 'meta.llama2-13b-chat-v1',\n",
      " 'Titan-Embeddings-G1': 'amazon.titan-embed-text-v1',\n",
      " 'Titan-Text-G1': 'TBD'}\n"
     ]
    }
   ],
   "source": [
    "import json\n",
    "import boto3\n",
    "from pprint import pprint\n",
    "from termcolor import colored\n",
    "from utils import bedrock, print_ww\n",
    "from utils.bedrock import bedrock_info\n",
    "\n",
    "# ---- ⚠️ Un-comment and edit the below lines as needed for your AWS setup ⚠️ ----\n",
    "\n",
    "# os.environ[\"AWS_DEFAULT_REGION\"] = \"<REGION_NAME>\"  # E.g. \"us-east-1\"\n",
    "# os.environ[\"AWS_PROFILE\"] = \"<YOUR_PROFILE>\"\n",
    "# os.environ[\"BEDROCK_ASSUME_ROLE\"] = \"<YOUR_ROLE_ARN>\"  # E.g. \"arn:aws:...\"\n",
    "# os.environ[\"BEDROCK_ENDPOINT_URL\"] = \"<YOUR_ENDPOINT_URL>\"  # E.g. \"https://...\"\n",
    "\n",
    "\n",
    "boto3_bedrock = bedrock.get_bedrock_client(\n",
    "    assumed_role=os.environ.get(\"BEDROCK_ASSUME_ROLE\", None),\n",
    "    endpoint_url=os.environ.get(\"BEDROCK_ENDPOINT_URL\", None),\n",
    "    region=os.environ.get(\"AWS_DEFAULT_REGION\", None),\n",
    ")\n",
    "\n",
    "print(colored(\"\\n== FM lists ==\", \"green\"))\n",
    "pprint(bedrock_info.get_list_fm_models())"
   ]
  },
  {
   "cell_type": "markdown",
   "metadata": {},
   "source": [
    "# 2. Embedding 모델 로딩"
   ]
  },
  {
   "cell_type": "markdown",
   "metadata": {},
   "source": [
    "## Embedding Model 선택"
   ]
  },
  {
   "cell_type": "code",
   "execution_count": 5,
   "metadata": {
    "tags": []
   },
   "outputs": [],
   "source": [
    "Use_Titan_Embedding = True\n",
    "Use_Cohere_English_Embedding = False"
   ]
  },
  {
   "cell_type": "markdown",
   "metadata": {},
   "source": [
    "## Embedding Model 로딩"
   ]
  },
  {
   "cell_type": "code",
   "execution_count": 6,
   "metadata": {
    "tags": []
   },
   "outputs": [
    {
     "data": {
      "text/plain": [
       "BedrockEmbeddings(client=<botocore.client.BedrockRuntime object at 0x7f1f2fd8e980>, region_name=None, credentials_profile_name=None, model_id='amazon.titan-embed-text-v1', model_kwargs=None, endpoint_url=None)"
      ]
     },
     "execution_count": 6,
     "metadata": {},
     "output_type": "execute_result"
    }
   ],
   "source": [
    "# We will be using the Titan Embeddings Model to generate our Embeddings.\n",
    "from langchain.embeddings import BedrockEmbeddings\n",
    "from langchain.llms.bedrock import Bedrock\n",
    "\n",
    "if Use_Titan_Embedding:\n",
    "    llm_emb = BedrockEmbeddings(client=boto3_bedrock, model_id = \"amazon.titan-embed-text-v1\")\n",
    "    dimension = 1536\n",
    "elif Use_Cohere_English_Embedding:\n",
    "    llm_emb = BedrockEmbeddings(client=boto3_bedrock, model_id = \"cohere.embed-english-v3\")    \n",
    "    dimension = 1024\n",
    "else:\n",
    "    lim_emb = None\n",
    "\n",
    "llm_emb"
   ]
  },
  {
   "cell_type": "markdown",
   "metadata": {
    "tags": []
   },
   "source": [
    "# 3. Load all Json files"
   ]
  },
  {
   "cell_type": "code",
   "execution_count": 8,
   "metadata": {
    "tags": []
   },
   "outputs": [],
   "source": [
    "from utils.proc_docs import get_load_json, show_doc_json"
   ]
  },
  {
   "cell_type": "code",
   "execution_count": 9,
   "metadata": {
    "tags": []
   },
   "outputs": [
    {
     "name": "stdout",
     "output_type": "stream",
     "text": [
      "all json files:  1\n",
      "all items:  1732\n"
     ]
    }
   ],
   "source": [
    "import glob\n",
    "\n",
    "# Specify the directory and file pattern for .txt files\n",
    "folder_path = 'data/poc/preprocessed_json/*ko.json'\n",
    "\n",
    "# List all .txt files in the specified folder\n",
    "json_files = glob.glob(folder_path)\n",
    "# json_files = ['data/poc/customer_EFOTA.json']\n",
    "\n",
    "# Load each item per json file and append to a list\n",
    "doc_json_list = []\n",
    "for file_path in json_files:\n",
    "    doc_json = get_load_json(file_path)\n",
    "    doc_json_list.append(doc_json)\n",
    "\n",
    "print(\"all json files: \", len(doc_json_list))    \n",
    "# Flatten the list of lists into a single list\n",
    "all_docs = []\n",
    "for item in doc_json_list:\n",
    "        all_docs.extend(item)\n",
    "        \n",
    "print(\"all items: \", len(all_docs))"
   ]
  },
  {
   "cell_type": "markdown",
   "metadata": {
    "tags": []
   },
   "source": [
    "# 4. Index 생성"
   ]
  },
  {
   "cell_type": "markdown",
   "metadata": {
    "tags": []
   },
   "source": [
    "## Index 이름 결정"
   ]
  },
  {
   "cell_type": "code",
   "execution_count": 10,
   "metadata": {
    "tags": []
   },
   "outputs": [],
   "source": [
    "index_name = \"v18-genai-poc-knox-kor-parent-doc-retriever\""
   ]
  },
  {
   "cell_type": "markdown",
   "metadata": {
    "tags": []
   },
   "source": [
    "## Index 스키마 정의"
   ]
  },
  {
   "cell_type": "code",
   "execution_count": 11,
   "metadata": {
    "tags": []
   },
   "outputs": [],
   "source": [
    "index_body = {\n",
    "    'settings': {\n",
    "        'analysis': {'analyzer': {'my_analyzer': {'char_filter': ['html_strip'],\n",
    "                                                    'tokenizer': 'nori',\n",
    "                                                       'filter': [\n",
    "                                                                   'nori_number',\n",
    "                                                                   'lowercase',\n",
    "                                                                   'trim',\n",
    "                                                                   'my_nori_part_of_speech'\n",
    "                                                                 ],\n",
    "                                                       'type': 'custom'}},\n",
    "                                   'tokenizer': {'nori': {\n",
    "                                                  'decompound_mode': 'mixed',\n",
    "                                                  'discard_punctuation': 'true',\n",
    "                                                  'type': 'nori_tokenizer'}\n",
    "                                                },\n",
    "                                    \"filter\": {\n",
    "                                          \"my_nori_part_of_speech\": {\n",
    "                                                \"type\": \"nori_part_of_speech\",\n",
    "                                                \"stoptags\": [\n",
    "                                                      \"E\", \"IC\", \"J\", \"MAG\", \"MAJ\",\n",
    "                                                      \"MM\", \"SP\", \"SSC\", \"SSO\", \"SC\",\n",
    "                                                      \"SE\", \"XPN\", \"XSA\", \"XSN\", \"XSV\",\n",
    "                                                      \"UNA\", \"NA\", \"VSV\"\n",
    "                                                ]\n",
    "                                          }\n",
    "                                    }\n",
    "                    },        \n",
    "        'index': {\n",
    "            'knn': True,\n",
    "            'knn.space_type': 'cosinesimil'  # Example space type\n",
    "        }\n",
    "    },\n",
    "    'mappings': {\n",
    "        'properties': {\n",
    "            'metadata': {\n",
    "                'properties': {\n",
    "                               'source' : {'type': 'keyword'},                    \n",
    "                               'last_updated': {'type': 'date'},\n",
    "                               'project': {'type': 'keyword'},\n",
    "                               'seq_num': {'type': 'long'},\n",
    "                               'title': {'type': 'text'},  # For full-text search\n",
    "                               'url': {'type': 'text'},  # For full-text search\n",
    "                            }\n",
    "            },            \n",
    "            'text': {\n",
    "                'analyzer': 'my_analyzer',\n",
    "                'search_analyzer': 'my_analyzer',\n",
    "                'type': 'text'\n",
    "            },\n",
    "            'vector_field': {\n",
    "                'type': 'knn_vector',\n",
    "                'dimension': 1536  # Replace with your vector dimension\n",
    "            }\n",
    "        }\n",
    "    }\n",
    "}\n"
   ]
  },
  {
   "cell_type": "markdown",
   "metadata": {
    "tags": []
   },
   "source": [
    "# 5. LangChain OpenSearch VectorStore 생성 \n",
    "## 선수 조건\n"
   ]
  },
  {
   "cell_type": "markdown",
   "metadata": {
    "tags": []
   },
   "source": [
    "## 오픈 서치 도메인 및 인증 정보 세팅\n",
    "\n",
    "- [langchain.vectorstores.opensearch_vector_search.OpenSearchVectorSearch](https://api.python.langchain.com/en/latest/vectorstores/langchain.vectorstores.opensearch_vector_search.OpenSearchVectorSearch.html)"
   ]
  },
  {
   "cell_type": "markdown",
   "metadata": {},
   "source": [
    "#### [중요] 아래에 aws parameter store 에 아래 인증정보가 먼저 입력되어 있어야 합니다."
   ]
  },
  {
   "cell_type": "code",
   "execution_count": 12,
   "metadata": {
    "tags": []
   },
   "outputs": [],
   "source": [
    "from utils.proc_docs import get_parameter"
   ]
  },
  {
   "cell_type": "code",
   "execution_count": 13,
   "metadata": {
    "tags": []
   },
   "outputs": [],
   "source": [
    "import boto3\n",
    "ssm = boto3.client('ssm', 'us-east-1')\n",
    "\n",
    "opensearch_domain_endpoint = get_parameter(\n",
    "    boto3_clinet = ssm,\n",
    "    parameter_name = 'knox_opensearch_domain_endpoint',\n",
    ")\n",
    "\n",
    "opensearch_user_id = get_parameter(\n",
    "    boto3_clinet = ssm,\n",
    "    parameter_name = 'knox_opensearch_userid',\n",
    ")\n",
    "\n",
    "opensearch_user_password = get_parameter(\n",
    "    boto3_clinet = ssm,\n",
    "    parameter_name = 'knox_opensearch_password',\n",
    ")\n"
   ]
  },
  {
   "cell_type": "code",
   "execution_count": 14,
   "metadata": {
    "tags": []
   },
   "outputs": [],
   "source": [
    "opensearch_domain_endpoint = opensearch_domain_endpoint\n",
    "rag_user_name = opensearch_user_id\n",
    "rag_user_password = opensearch_user_password\n",
    "\n",
    "http_auth = (rag_user_name, rag_user_password) # Master username, Master password"
   ]
  },
  {
   "cell_type": "markdown",
   "metadata": {},
   "source": [
    "## OpenSearch Client 생성"
   ]
  },
  {
   "cell_type": "code",
   "execution_count": 15,
   "metadata": {
    "tags": []
   },
   "outputs": [],
   "source": [
    "from utils.opensearch import opensearch_utils"
   ]
  },
  {
   "cell_type": "code",
   "execution_count": 16,
   "metadata": {
    "tags": []
   },
   "outputs": [],
   "source": [
    "aws_region = os.environ.get(\"AWS_DEFAULT_REGION\", None)\n",
    "\n",
    "os_client = opensearch_utils.create_aws_opensearch_client(\n",
    "    aws_region,\n",
    "    opensearch_domain_endpoint,\n",
    "    http_auth\n",
    ")"
   ]
  },
  {
   "cell_type": "markdown",
   "metadata": {},
   "source": [
    "## 오픈 서치 인덱스 생성 \n",
    "- 오픈 서치에 해당 인덱스가 존재하면, 삭제 합니다. "
   ]
  },
  {
   "cell_type": "code",
   "execution_count": 17,
   "metadata": {
    "tags": []
   },
   "outputs": [],
   "source": [
    "from utils.opensearch import opensearch_utils"
   ]
  },
  {
   "cell_type": "code",
   "execution_count": 18,
   "metadata": {
    "tags": []
   },
   "outputs": [
    {
     "name": "stdout",
     "output_type": "stream",
     "text": [
      "index_name=v18-genai-poc-knox-kor-parent-doc-retriever, exists=False\n",
      "\n",
      "Creating index:\n",
      "{'acknowledged': True, 'shards_acknowledged': True, 'index': 'v18-genai-poc-knox-kor-parent-doc-retriever'}\n",
      "Index is created\n",
      "{'v18-genai-poc-knox-kor-parent-doc-retriever': {'aliases': {},\n",
      "                                                 'mappings': {'properties': {'metadata': {'properties': {'last_updated': {'type': 'date'},\n",
      "                                                                                                         'project': {'type': 'keyword'},\n",
      "                                                                                                         'seq_num': {'type': 'long'},\n",
      "                                                                                                         'source': {'type': 'keyword'},\n",
      "                                                                                                         'title': {'type': 'text'},\n",
      "                                                                                                         'url': {'type': 'text'}}},\n",
      "                                                                             'text': {'analyzer': 'my_analyzer',\n",
      "                                                                                      'type': 'text'},\n",
      "                                                                             'vector_field': {'dimension': 1536,\n",
      "                                                                                              'type': 'knn_vector'}}},\n",
      "                                                 'settings': {'index': {'analysis': {'analyzer': {'my_analyzer': {'char_filter': ['html_strip'],\n",
      "                                                                                                                  'filter': ['nori_number',\n",
      "                                                                                                                             'lowercase',\n",
      "                                                                                                                             'trim',\n",
      "                                                                                                                             'my_nori_part_of_speech'],\n",
      "                                                                                                                  'tokenizer': 'nori',\n",
      "                                                                                                                  'type': 'custom'}},\n",
      "                                                                                     'filter': {'my_nori_part_of_speech': {'stoptags': ['E',\n",
      "                                                                                                                                        'IC',\n",
      "                                                                                                                                        'J',\n",
      "                                                                                                                                        'MAG',\n",
      "                                                                                                                                        'MAJ',\n",
      "                                                                                                                                        'MM',\n",
      "                                                                                                                                        'SP',\n",
      "                                                                                                                                        'SSC',\n",
      "                                                                                                                                        'SSO',\n",
      "                                                                                                                                        'SC',\n",
      "                                                                                                                                        'SE',\n",
      "                                                                                                                                        'XPN',\n",
      "                                                                                                                                        'XSA',\n",
      "                                                                                                                                        'XSN',\n",
      "                                                                                                                                        'XSV',\n",
      "                                                                                                                                        'UNA',\n",
      "                                                                                                                                        'NA',\n",
      "                                                                                                                                        'VSV'],\n",
      "                                                                                                                           'type': 'nori_part_of_speech'}},\n",
      "                                                                                     'tokenizer': {'nori': {'decompound_mode': 'mixed',\n",
      "                                                                                                            'discard_punctuation': 'true',\n",
      "                                                                                                            'type': 'nori_tokenizer'}}},\n",
      "                                                                        'creation_date': '1702857944894',\n",
      "                                                                        'knn': 'true',\n",
      "                                                                        'knn.space_type': 'cosinesimil',\n",
      "                                                                        'number_of_replicas': '2',\n",
      "                                                                        'number_of_shards': '5',\n",
      "                                                                        'provided_name': 'v18-genai-poc-knox-kor-parent-doc-retriever',\n",
      "                                                                        'uuid': 'bsoQfWw2RuiMaFPwGG9E0w',\n",
      "                                                                        'version': {'created': '136307827'}}}}}\n"
     ]
    }
   ],
   "source": [
    "\n",
    "index_exists = opensearch_utils.check_if_index_exists(\n",
    "    os_client,\n",
    "    index_name\n",
    ")\n",
    "\n",
    "if index_exists:\n",
    "    opensearch_utils.delete_index(\n",
    "        os_client,\n",
    "        index_name\n",
    "    )\n",
    "\n",
    "opensearch_utils.create_index(os_client, index_name, index_body)\n",
    "index_info = os_client.indices.get(index=index_name)\n",
    "print(\"Index is created\")\n",
    "pprint(index_info)"
   ]
  },
  {
   "cell_type": "markdown",
   "metadata": {
    "tags": []
   },
   "source": [
    "## 랭체인 인덱스 연결 오브젝트 생성\n",
    "\n",
    "- [langchain.vectorstores.opensearch_vector_search.OpenSearchVectorSearch](https://api.python.langchain.com/en/latest/vectorstores/langchain.vectorstores.opensearch_vector_search.OpenSearchVectorSearch.html)"
   ]
  },
  {
   "cell_type": "code",
   "execution_count": 19,
   "metadata": {
    "tags": []
   },
   "outputs": [],
   "source": [
    "from langchain.vectorstores import OpenSearchVectorSearch"
   ]
  },
  {
   "cell_type": "code",
   "execution_count": 20,
   "metadata": {
    "tags": []
   },
   "outputs": [
    {
     "data": {
      "text/plain": [
       "<langchain.vectorstores.opensearch_vector_search.OpenSearchVectorSearch at 0x7f1f5c29bb20>"
      ]
     },
     "execution_count": 20,
     "metadata": {},
     "output_type": "execute_result"
    }
   ],
   "source": [
    "vector_db = OpenSearchVectorSearch(\n",
    "    index_name=index_name,\n",
    "    opensearch_url=opensearch_domain_endpoint,\n",
    "    embedding_function=llm_emb,\n",
    "    http_auth=http_auth, # http_auth\n",
    "    is_aoss =False,\n",
    "    engine=\"faiss\",\n",
    "    space_type=\"l2\",\n",
    "    bulk_size=100000,\n",
    "    timeout=60    \n",
    ")\n",
    "vector_db"
   ]
  },
  {
   "cell_type": "markdown",
   "metadata": {
    "tags": []
   },
   "source": [
    "# 6. Chunking JSON Doc "
   ]
  },
  {
   "cell_type": "markdown",
   "metadata": {},
   "source": [
    "## Chunk Size and Chunk Overlap Size 결정"
   ]
  },
  {
   "cell_type": "code",
   "execution_count": 21,
   "metadata": {
    "tags": []
   },
   "outputs": [],
   "source": [
    "parent_chunk_size = 4096\n",
    "parent_chunk_overlap = 0\n",
    "\n",
    "child_chunk_size = 1024\n",
    "child_chunk_overlap = 256\n",
    "\n",
    "opensearch_parent_key_name = \"parent_id\"\n",
    "opensearch_family_tree_key_name = \"family_tree\"\n"
   ]
  },
  {
   "cell_type": "code",
   "execution_count": 22,
   "metadata": {
    "tags": []
   },
   "outputs": [],
   "source": [
    "from utils.proc_docs import create_parent_chunk, create_child_chunk"
   ]
  },
  {
   "cell_type": "markdown",
   "metadata": {},
   "source": [
    "## Parent Chunking"
   ]
  },
  {
   "cell_type": "markdown",
   "metadata": {},
   "source": [
    "create_parent_chunk() 아래와 같은 작업을 합니다.\n",
    "- all_docs 에 있는 문서를 parent_chunk_size 만큼으로 청킹 합니다.\n",
    "- Parent Chunk 에 두개의 메타 데이타를 생성 합니다.\n",
    "    - family_tree: parent\n",
    "    - parent_id : None"
   ]
  },
  {
   "cell_type": "code",
   "execution_count": 23,
   "metadata": {
    "tags": []
   },
   "outputs": [
    {
     "name": "stdout",
     "output_type": "stream",
     "text": [
      "Number of parent_chunk_docs= 1952\n"
     ]
    }
   ],
   "source": [
    "parent_chunk_docs = create_parent_chunk(all_docs, opensearch_parent_key_name, \n",
    "                                        opensearch_family_tree_key_name,parent_chunk_size, parent_chunk_overlap)\n",
    "print(f\"Number of parent_chunk_docs= {len(parent_chunk_docs)}\")\n"
   ]
  },
  {
   "cell_type": "code",
   "execution_count": 24,
   "metadata": {
    "tags": []
   },
   "outputs": [
    {
     "data": {
      "text/plain": [
       "[Document(page_content='AR 데모 바코드.다음 바코드를 사용하여 녹스 캡처 AR 기능을 테스트하세요.바코드 1 바코드 2 바코드 3 바코드 4 바코드 5 바코드 6', metadata={'source': 'all_processed_data_ko.json', 'seq_num': 1, 'title': 'AR 데모 바코드', 'url': 'https://docs.samsungknox.com/admin/knox-capture/ar-demo-barcodes', 'project': 'KCAP', 'last_updated': '2023-10-16', 'family_tree': 'parent', 'parent_id': None})]"
      ]
     },
     "execution_count": 24,
     "metadata": {},
     "output_type": "execute_result"
    }
   ],
   "source": [
    "parent_chunk_docs[0:1]"
   ]
  },
  {
   "cell_type": "markdown",
   "metadata": {},
   "source": [
    "OpenSearch 에 parent chunk 삽입"
   ]
  },
  {
   "cell_type": "code",
   "execution_count": 25,
   "metadata": {
    "tags": []
   },
   "outputs": [
    {
     "name": "stdout",
     "output_type": "stream",
     "text": [
      "CPU times: user 4.99 s, sys: 209 ms, total: 5.2 s\n",
      "Wall time: 4min 28s\n"
     ]
    }
   ],
   "source": [
    "%%time\n",
    "\n",
    "parent_ids = vector_db.add_documents(\n",
    "                        documents = parent_chunk_docs, \n",
    "                        vector_field = \"vector_field\",\n",
    "                        bulk_size = 1000000\n",
    "                    )\n",
    "\n"
   ]
  },
  {
   "cell_type": "code",
   "execution_count": 26,
   "metadata": {
    "tags": []
   },
   "outputs": [
    {
     "name": "stdout",
     "output_type": "stream",
     "text": [
      "total count docs:  {'count': 1952, '_shards': {'total': 5, 'successful': 5, 'skipped': 0, 'failed': 0}}\n"
     ]
    }
   ],
   "source": [
    "total_count_docs = opensearch_utils.get_count(os_client, index_name)\n",
    "print(\"total count docs: \", total_count_docs)\n"
   ]
  },
  {
   "cell_type": "markdown",
   "metadata": {},
   "source": [
    "삽입된 Parent Chunk 의 첫번째를 확인 합니다. family_tree, parent_id 의 값을 확인 하세요."
   ]
  },
  {
   "cell_type": "code",
   "execution_count": 27,
   "metadata": {
    "tags": []
   },
   "outputs": [
    {
     "name": "stdout",
     "output_type": "stream",
     "text": [
      "opensearch document id: 19d34d66-d917-456c-b3fb-ccd3e9497d00\n",
      "family_tree: parent\n",
      "parent document id: None\n",
      "parent document text: \n",
      " AR 데모 바코드.다음 바코드를 사용하여 녹스 캡처 AR 기능을 테스트하세요.바코드 1 바코드 2 바코드 3 바코드 4 바코드 5 바코드 6\n"
     ]
    }
   ],
   "source": [
    "def show_opensearch_doc_info(response):\n",
    "    print(\"opensearch document id:\" , response[\"_id\"])\n",
    "    print(\"family_tree:\" , response[\"_source\"][\"metadata\"][\"family_tree\"])\n",
    "    print(\"parent document id:\" , response[\"_source\"][\"metadata\"][\"parent_id\"])\n",
    "    print(\"parent document text: \\n\" , response[\"_source\"][\"text\"])\n",
    "\n",
    "response = opensearch_utils.get_document(os_client, doc_id = parent_ids[0], index_name = index_name)\n",
    "show_opensearch_doc_info(response)    "
   ]
  },
  {
   "cell_type": "markdown",
   "metadata": {},
   "source": [
    "## Child Chunking"
   ]
  },
  {
   "cell_type": "markdown",
   "metadata": {},
   "source": [
    "### Child Chunk 생성\n",
    "\n",
    "아래의 create_child_chunk() 는 다음과 같은 작업을 합니다.\n",
    "- parent_chunk_docs 각각에 대해서 Child Chunk 를 생성 합니다. \n",
    "- Child Chunk 에 두개의 메타 데이타를 생성 합니다.\n",
    "    - family_tree: child\n",
    "    - parent_id : parent 에 대한 OpenSearch document id"
   ]
  },
  {
   "cell_type": "code",
   "execution_count": 28,
   "metadata": {
    "tags": []
   },
   "outputs": [
    {
     "name": "stdout",
     "output_type": "stream",
     "text": [
      "Number of child_chunk_docs= 4071\n"
     ]
    }
   ],
   "source": [
    "# child_chunk_docs = create_child_chunk(parent_chunk_docs[0:1], parent_ids)\n",
    "child_chunk_docs = create_child_chunk(child_chunk_size, child_chunk_overlap, parent_chunk_docs, parent_ids, \n",
    "                                      opensearch_parent_key_name, opensearch_family_tree_key_name)\n",
    "print(f\"Number of child_chunk_docs= {len(child_chunk_docs)}\")\n"
   ]
  },
  {
   "cell_type": "markdown",
   "metadata": {},
   "source": [
    "### 생성된 Child 와 이에 대한 Parent 정보 확인"
   ]
  },
  {
   "cell_type": "markdown",
   "metadata": {},
   "source": [
    "Child Chunk 한개에 대한 정보를 확인 합니다."
   ]
  },
  {
   "cell_type": "code",
   "execution_count": 29,
   "metadata": {
    "tags": []
   },
   "outputs": [
    {
     "data": {
      "text/plain": [
       "[Document(page_content='AR 데모 바코드.다음 바코드를 사용하여 녹스 캡처 AR 기능을 테스트하세요.바코드 1 바코드 2 바코드 3 바코드 4 바코드 5 바코드 6', metadata={'source': 'all_processed_data_ko.json', 'seq_num': 1, 'title': 'AR 데모 바코드', 'url': 'https://docs.samsungknox.com/admin/knox-capture/ar-demo-barcodes', 'project': 'KCAP', 'last_updated': '2023-10-16', 'family_tree': 'child', 'parent_id': '19d34d66-d917-456c-b3fb-ccd3e9497d00'})]"
      ]
     },
     "execution_count": 29,
     "metadata": {},
     "output_type": "execute_result"
    }
   ],
   "source": [
    "child_chunk_docs[0:1]"
   ]
  },
  {
   "cell_type": "markdown",
   "metadata": {},
   "source": [
    "Child 에 대한 Parent 정보 확인"
   ]
  },
  {
   "cell_type": "code",
   "execution_count": 30,
   "metadata": {
    "tags": []
   },
   "outputs": [
    {
     "name": "stdout",
     "output_type": "stream",
     "text": [
      "child's parent_id:  19d34d66-d917-456c-b3fb-ccd3e9497d00\n",
      "\n",
      "###### Search parent in OpenSearch\n",
      "opensearch document id: 19d34d66-d917-456c-b3fb-ccd3e9497d00\n",
      "family_tree: parent\n",
      "parent document id: None\n",
      "parent document text: \n",
      " AR 데모 바코드.다음 바코드를 사용하여 녹스 캡처 AR 기능을 테스트하세요.바코드 1 바코드 2 바코드 3 바코드 4 바코드 5 바코드 6\n"
     ]
    }
   ],
   "source": [
    "parent_id = child_chunk_docs[0].metadata[\"parent_id\"]\n",
    "print(\"child's parent_id: \", parent_id)\n",
    "print(\"\\n###### Search parent in OpenSearch\")\n",
    "response = opensearch_utils.get_document(os_client, doc_id = parent_id, index_name = index_name)\n",
    "show_opensearch_doc_info(response)    \n"
   ]
  },
  {
   "cell_type": "markdown",
   "metadata": {},
   "source": [
    "### OpenSearch 에 Child 삽입"
   ]
  },
  {
   "cell_type": "code",
   "execution_count": 31,
   "metadata": {
    "tags": []
   },
   "outputs": [
    {
     "name": "stdout",
     "output_type": "stream",
     "text": [
      "length of child_ids:  4071\n",
      "CPU times: user 9.87 s, sys: 623 ms, total: 10.5 s\n",
      "Wall time: 7min 19s\n"
     ]
    }
   ],
   "source": [
    "%%time\n",
    "\n",
    "child_ids = vector_db.add_documents(\n",
    "                        documents = child_chunk_docs, \n",
    "                        vector_field = \"vector_field\",\n",
    "                        bulk_size = 1000000\n",
    "                    )\n",
    "\n",
    "print(\"length of child_ids: \", len(child_ids))"
   ]
  },
  {
   "cell_type": "code",
   "execution_count": 32,
   "metadata": {
    "tags": []
   },
   "outputs": [
    {
     "name": "stdout",
     "output_type": "stream",
     "text": [
      "total count docs:  {'count': 6023, '_shards': {'total': 5, 'successful': 5, 'skipped': 0, 'failed': 0}}\n"
     ]
    }
   ],
   "source": [
    "total_count_docs = opensearch_utils.get_count(os_client, index_name)\n",
    "print(\"total count docs: \", total_count_docs)\n"
   ]
  },
  {
   "cell_type": "code",
   "execution_count": 33,
   "metadata": {
    "tags": []
   },
   "outputs": [
    {
     "name": "stdout",
     "output_type": "stream",
     "text": [
      "opensearch document id: 253f53f8-2497-4442-b803-569f519db8b1\n",
      "family_tree: child\n",
      "parent document id: 19d34d66-d917-456c-b3fb-ccd3e9497d00\n",
      "parent document text: \n",
      " AR 데모 바코드.다음 바코드를 사용하여 녹스 캡처 AR 기능을 테스트하세요.바코드 1 바코드 2 바코드 3 바코드 4 바코드 5 바코드 6\n"
     ]
    }
   ],
   "source": [
    "response = opensearch_utils.get_document(os_client, doc_id = child_ids[0], index_name = index_name)\n",
    "show_opensearch_doc_info(response)    "
   ]
  },
  {
   "cell_type": "markdown",
   "metadata": {},
   "source": [
    "# 7. 검색 테스트"
   ]
  },
  {
   "cell_type": "markdown",
   "metadata": {},
   "source": [
    "## Lexical 검색"
   ]
  },
  {
   "cell_type": "code",
   "execution_count": 36,
   "metadata": {
    "tags": []
   },
   "outputs": [
    {
     "name": "stdout",
     "output_type": "stream",
     "text": [
      "{'query': {'bool': {'filter': {'term': {'metadata.family_tree': 'child'}},\n",
      "                    'must': [{'match': {'text': {'minimum_should_match': '0%',\n",
      "                                                 'operator': 'or',\n",
      "                                                 'query': '{q}'}}}]}}}\n"
     ]
    }
   ],
   "source": [
    "# q = \"how to add image\"\n",
    "q = \"이미지를 어떻게 추가해\"\n",
    "query ={'query': \n",
    "        {'bool': {'must': \n",
    "                  [{'match': \n",
    "                    {'text': \n",
    "                     {'query': \"{q}\", 'minimum_should_match': '0%', 'operator': 'or'}}}], \n",
    "                  'filter': {\n",
    "                    \"term\": {\n",
    "                      \"metadata.family_tree\": \"child\"\n",
    "                    }                      \n",
    "                  }\n",
    "                 }\n",
    "        }\n",
    "       }\n",
    "pprint(query)"
   ]
  },
  {
   "cell_type": "code",
   "execution_count": 37,
   "metadata": {
    "tags": []
   },
   "outputs": [
    {
     "name": "stdout",
     "output_type": "stream",
     "text": [
      "# of searched docs:  10\n",
      "# of display: 3\n",
      "---------------------\n",
      "_id in index:  be8cb695-34c6-4080-91ad-c3aa1e0e5e83\n",
      "9.867163\n",
      ".Q - 만료된 라이선스를 갱신하면 라이선스가 발효되고 관련 디바이스가 즉시 등록됩니까?A - iOS 및 Windows 장치의 경우 즉시 등록됩니다.Android 장치의 경우 시스템에 설정된 일정에 따라 등록하거나 장치 명령을 전송하여 등록할 수 있습니다.Q - 라이선스가 만료되면 디바이스가 등록된 순서대로 만료됩니까?A - 다양한 디바이스에서 사용 중인 라이선스가 만료되면 모든 디바이스에서 Knox Manage를 동시에 사용할 수 없게 됩니다.Q - 갱신된 라이선스를 새 디바이스 (이미 등록된 디바이스가 아닌) 에만 할당하려면 어떻게 해야 하나요?A - 라이선스 수를 늘린 후에는 먼저 기존 등록 장치의 등록을 취소한 다음 새 장치를 등록해야 합니다.그러면 갱신된 라이선스가 새 디바이스에 할당됩니다.Q - Knox Manage 콘솔에서 디바이스로 공장 초기화 명령을 보내면 라이선스가 자동으로 취소되나요?A - 공장 초기화가 성공적으로 완료되면 라이선스가 자동으로 취소됩니다.공장 초기화에 실패하더라도 라이선스는 취소되지 않으며 디바이스는 등록 취소됩니다.Q - Windows 및 크롬 OS 장치에 사용되는 라이선스는 무엇입니까?A - 윈도우 및 크롬 OS 디바이스는 Knox Manage 라이선스에 등록되어 있습니다.\n",
      "{'source': 'all_processed_data_ko.json', 'seq_num': 894, 'title': '라이선스 개요', 'url': 'https://docs.samsungknox.com/admin/knox-manage/configure/licenses/licenses-overview', 'project': 'KM', 'last_updated': '2023-07-26', 'family_tree': 'child', 'parent_id': 'ebf8e45a-c2ba-48e4-8b18-b22d0750013a'}\n",
      "---------------------\n",
      "_id in index:  f4a29fa3-f4cb-4145-a371-2cf8a69370da\n",
      "8.387221\n",
      ".라이선스는 월간, 연간 또는 격년 단위로 구매할 수 있습니다.라이선스 수를 늘리거나 줄이고 각 라이선스의 유효 기간을 연장하거나 단축할 수 있습니다.연간 라이선스를 구매하는 경우 라이선스 수를 늘리고 유효 기간을 연장하는 것만 가능합니다.라이선스 구매에 대한 자세한 내용은 Knox Manage 지원팀에 문의하세요.디바이스가 등록된 순서대로 라이선스가 부여되고 취소됩니다.장치 수를 초과하여 장치를 등록하려고 하면 등록이 실패합니다.라이선스 자주 묻는 질문, Q - Knox Manage 평가판 라이선스가 만료되면 어떻게 되나요?A - 평가판 라이선스가 만료되면 정품 또는 다른 평가판 Knox Suite 라이선스를 받을 수 있습니다.Q - Knox Manage 라이선스는 디바이스에 어떻게 할당되나요?A - FEFO (선착순 만료/선출) 방식에 따라 만료일이 더 짧은 라이선스가 먼저 할당됩니다.Q - 갱신 또는 연장을 통해 총 라이선스 수가 증가하면 라이선스는 어떻게 할당됩니까?A - 라이선스가 늘어난 후 디바이스보다 많아지면 라이선스가 등록된 순서대로 모든 디바이스에 할당됩니다.Q - 라이선스 수를 늘린 후 디바이스 수가 라이선스 수보다 많을 경우 라이선스는 어떻게 할당되나요?A - 라이선스는 디바이스가 등록된 순서대로 디바이스에 할당됩니다.라이선스가 없는 추가 디바이스는 기존 정책이 계속 적용되는 상태에서는 사용할 수 없습니다.Q - 만료된 라이선스를 갱신하면 라이선스가 발효되고 관련 디바이스가 즉시 등록됩니까?A - iOS 및 Windows 장치의 경우 즉시 등록됩니다.Android 장치의 경우 시스템에 설정된 일정에 따라 등록하거나 장치 명령을 전송하여 등록할 수 있습니다.Q - 라이선스가 만료되면 디바이스가 등록된 순서대로 만료됩니까?A - 다양한 디바이스에서 사용 중인 라이선스가 만료되면 모든 디바이스에서 Knox Manage를 동시에 사용할 수 없게 됩니다\n",
      "{'source': 'all_processed_data_ko.json', 'seq_num': 894, 'title': '라이선스 개요', 'url': 'https://docs.samsungknox.com/admin/knox-manage/configure/licenses/licenses-overview', 'project': 'KM', 'last_updated': '2023-07-26', 'family_tree': 'child', 'parent_id': 'ebf8e45a-c2ba-48e4-8b18-b22d0750013a'}\n",
      "---------------------\n",
      "_id in index:  6cf477a9-62b4-4b05-bd11-053d30fddb3a\n",
      "8.375234\n",
      "공유 장치 정보.Knox Configure Shared Device 기능을 사용하면 여러 사용자가 여러 디바이스에서 데이터를 공유하지 않고도 동일한 디바이스에 액세스할 수 있으므로 디바이스가 악용될 위험이 줄어듭니다.공유 디바이스의 전원을 켜면 각 직원에게 Active Directory 자격 증명으로 별도의 계정에 로그인하고 고유한 파일 및 앱 세트를 관리하라는 메시지가 표시됩니다.각 사용자의 설정, 계정, 애플리케이션 및 정책이 사용자 계정에 저장됩니다.사용자가 로그아웃하면 기기에서 데이터가 지워지고 다른 사용자와 공유되지 않습니다.공유 디바이스 기능은 선택 사항이며 Knox Configure 프로필을 생성할 때 필수는 아닙니다.Knox Configure 클라이언트는 Android Q 버전 운영 체제 이상을 실행하는 디바이스의 공유 디바이스 구성을 무시합니다.Knox Configure 콘솔은 현재 지원되지 않는 공유 디바이스 및 Q 버전 운영 체제의 전자 청구 상태에 대한 경고를 제공합니다.기존 디바이스에서 공유 디바이스 기능이 이미 활성화되어 있고 해당 디바이스가 Q 버전 운영 체제로 FOTA 업데이트된 경우, 새로 적용된 프로필에서 공유 디바이스를 비활성화하면 공유 디바이스 기능을 비활성화해야 합니다.#Samsung Knox Single Sign On (SSO) 삼성의 SSO 기술은 Kerberos 프로토콜을 기반으로 합니다. Kerberos 프로토콜을 사용하면 기기 사용자가 각 애플리케이션에 로그인할 필요 없이 단일 계정으로 인증하고 광범위한 엔터프라이즈 리소스에 효율적으로 액세스할 수 있습니다.SSO를 사용하면 암호를 여러 개 기억해야 하는 부담을 없애고 기업 암호 정책을 충족하는 단일 암호를 사용할 수 있습니다.직원이 공유 디바이스 사용을 마치면 간단히 로그아웃하여 다음 사용자에게 디바이스를 넘겨주면, 다음 사용자는 자신의 보안 자격 증명을 입력하여 파일과 앱에 액세스할 수 있습니다.공유 장치에 로그인하려면 사용자는 회사 Wi-Fi 네트워크 또는 VPN에 대한 활성 연결을 유지해야 합니다\n",
      "{'source': 'all_processed_data_ko.json', 'seq_num': 1672, 'title': '공유 장치 정보', 'url': 'https://docs.samsungknox.com/admin/knox-configure/how-to-guides/profiles/about-shared-device', 'project': 'KC', 'last_updated': '2023-07-26', 'family_tree': 'child', 'parent_id': '2a81107d-bcd9-4a64-9e1e-7285a6eef530'}\n",
      "---------------------\n"
     ]
    }
   ],
   "source": [
    "# query = \"how to add image\"\n",
    "# query = opensearch_utils.get_query(\n",
    "#     query=query\n",
    "# )\n",
    "\n",
    "response = opensearch_utils.search_document(os_client, query, index_name)\n",
    "opensearch_utils.parse_keyword_response(response, show_size=3)"
   ]
  },
  {
   "cell_type": "markdown",
   "metadata": {
    "tags": []
   },
   "source": [
    "## 시맨틱 검색"
   ]
  },
  {
   "cell_type": "code",
   "execution_count": 38,
   "metadata": {
    "tags": []
   },
   "outputs": [
    {
     "data": {
      "text/plain": [
       "[Document(page_content='커스텀 애니메이션 파일을 생성합니다.이미지를 업로드하여 순서대로 재생하고 원하는 이미지 방향, 디더링 및 크기를 설정하여 사용자 지정 장치 부팅 애니메이션을 만들 수 있습니다.만들고 업로드한 후에는 애니메이션을 프로필에 추가하고 장치에 할당하기 전에 애니메이션을 미리 보고 확인할 수 있습니다.애니메이션 만들기 커스텀 애니메이션을 만들려면: 1.왼쪽 탐색 메뉴에서 라이브러리를 클릭하고 미디어 탭을 클릭합니다. 2.오른쪽 상단의 미디어 추가를 클릭합니다. 3.애니메이션 생성을 클릭하여 새 애니메이션 시퀀스를 생성합니다. 4.PNG 시퀀스 업로드 화면에서 애니메이션 프레임으로 사용할 PNG 이미지를 최소 2개, 최대 99개까지 업로드합니다.최적의 디스플레이를 위해 업로드하는 PNG 파일의 크기 및 해상도가 대상 장치의 화면 크기 및 디스플레이 해상도와 동일한지 확인하십시오. 5.애니메이션에 이름을 지정하고 다음 설정을 구성합니다. 회전 - 애니메이션의 회전 각도를 선택합니다.크기 조정 - 기기에서 애니메이션을 어떻게 표시할지 선택합니다.디더링 - 파일 크기를 줄이는 데 사용되는 디더링의 양을 지정합니다.단, 설정이 높을수록 파일 크기는 줄어들지만 애니메이션 품질에 영향을 미칠 수 있습니다. 6.작업이 완료되면 애니메이션 생성을 클릭하여 애니메이션을 생성하십시오.애니메이션 업로드 기존 애니메이션을 QMG 파일로 업로드할 수도 있습니다.미디어 추가 화면에서 애니메이션 업로드를 선택하고 애니메이션 파일을 업로드합니다..QMG 형식의 파일만 지원됩니다.미디어 파일 삭제 라이브러리에서 미디어 파일을 삭제하려면: 1.왼쪽 탐색 메뉴에서 [라이브러리] 를 클릭합니다. 2.현재 프로필에서 사용 중이 아닌 미디어 파일을 선택합니다. 3.오른쪽 상단의 미디어 삭제를 클릭합니다. 4.파일 삭제를 클릭하여 파일 삭제를 확인합니다.', metadata={'source': 'all_processed_data_ko.json', 'seq_num': 1667, 'title': '사용자 지정 애니메이션 파일 만들기', 'url': 'https://docs.samsungknox.com/admin/knox-configure/how-to-guides/library/create-a-custom-animation-file', 'project': 'KC', 'last_updated': '2023-07-26', 'family_tree': 'parent', 'parent_id': None}),\n",
       " Document(page_content='커스텀 애니메이션 파일을 생성합니다.이미지를 업로드하여 순서대로 재생하고 원하는 이미지 방향, 디더링 및 크기를 설정하여 사용자 지정 장치 부팅 애니메이션을 만들 수 있습니다.만들고 업로드한 후에는 애니메이션을 프로필에 추가하고 장치에 할당하기 전에 애니메이션을 미리 보고 확인할 수 있습니다.애니메이션 만들기 커스텀 애니메이션을 만들려면: 1.왼쪽 탐색 메뉴에서 라이브러리를 클릭하고 미디어 탭을 클릭합니다. 2.오른쪽 상단의 미디어 추가를 클릭합니다. 3.애니메이션 생성을 클릭하여 새 애니메이션 시퀀스를 생성합니다. 4.PNG 시퀀스 업로드 화면에서 애니메이션 프레임으로 사용할 PNG 이미지를 최소 2개, 최대 99개까지 업로드합니다.최적의 디스플레이를 위해 업로드하는 PNG 파일의 크기 및 해상도가 대상 장치의 화면 크기 및 디스플레이 해상도와 동일한지 확인하십시오. 5.애니메이션에 이름을 지정하고 다음 설정을 구성합니다. 회전 - 애니메이션의 회전 각도를 선택합니다.크기 조정 - 기기에서 애니메이션을 어떻게 표시할지 선택합니다.디더링 - 파일 크기를 줄이는 데 사용되는 디더링의 양을 지정합니다.단, 설정이 높을수록 파일 크기는 줄어들지만 애니메이션 품질에 영향을 미칠 수 있습니다. 6.작업이 완료되면 애니메이션 생성을 클릭하여 애니메이션을 생성하십시오.애니메이션 업로드 기존 애니메이션을 QMG 파일로 업로드할 수도 있습니다.미디어 추가 화면에서 애니메이션 업로드를 선택하고 애니메이션 파일을 업로드합니다..QMG 형식의 파일만 지원됩니다.미디어 파일 삭제 라이브러리에서 미디어 파일을 삭제하려면: 1.왼쪽 탐색 메뉴에서 [라이브러리] 를 클릭합니다. 2.현재 프로필에서 사용 중이 아닌 미디어 파일을 선택합니다. 3.오른쪽 상단의 미디어 삭제를 클릭합니다. 4.파일 삭제를 클릭하여 파일 삭제를 확인합니다.', metadata={'source': 'all_processed_data_ko.json', 'seq_num': 1667, 'title': '사용자 지정 애니메이션 파일 만들기', 'url': 'https://docs.samsungknox.com/admin/knox-configure/how-to-guides/library/create-a-custom-animation-file', 'project': 'KC', 'last_updated': '2023-07-26', 'family_tree': 'child', 'parent_id': '1b2bca13-2608-4339-a03f-eb9404abff9a'})]"
      ]
     },
     "execution_count": 38,
     "metadata": {},
     "output_type": "execute_result"
    }
   ],
   "source": [
    "vector_db.similarity_search(q, k=2)"
   ]
  },
  {
   "cell_type": "markdown",
   "metadata": {},
   "source": [
    "# 8. 검증 인덱스 생성"
   ]
  },
  {
   "cell_type": "markdown",
   "metadata": {},
   "source": [
    "## Index 이름 결정"
   ]
  },
  {
   "cell_type": "code",
   "execution_count": 39,
   "metadata": {
    "tags": []
   },
   "outputs": [],
   "source": [
    "eval_index_name = \"v17-genai-poc-knox-kor-eval-parent-doc-retriever\""
   ]
  },
  {
   "cell_type": "markdown",
   "metadata": {},
   "source": [
    "## Sampling"
   ]
  },
  {
   "cell_type": "code",
   "execution_count": 40,
   "metadata": {
    "tags": []
   },
   "outputs": [
    {
     "name": "stdout",
     "output_type": "stream",
     "text": [
      "eval docs:  86\n"
     ]
    },
    {
     "data": {
      "text/plain": [
       "[Document(page_content='AR 데모 바코드.다음 바코드를 사용하여 녹스 캡처 AR 기능을 테스트하세요.바코드 1 바코드 2 바코드 3 바코드 4 바코드 5 바코드 6', metadata={'source': 'all_processed_data_ko.json', 'seq_num': 1, 'title': 'AR 데모 바코드', 'url': 'https://docs.samsungknox.com/admin/knox-capture/ar-demo-barcodes', 'project': 'KCAP', 'last_updated': '2023-10-16'}),\n",
       " Document(page_content='동영상.이 섹션에는 Knox Capture와 관련된 제품 및 사용 방법 비디오가 포함되어 있습니다.삼성 Knox Capture 시작하기 이 비디오에서는 삼성 Knox Capture를 사용하여 모바일 디바이스를 강력한 바코드 스캐너로 변환하여 바코드 데이터를 읽고, 처리하고, 다른 애플리케이션으로 출력하는 방법을 보여 드리겠습니다.삼성 Knox Capture: Galaxy 디바이스의 엔터프라이즈급 모바일 스캔 솔루션 이 제품 소개 비디오는 Galaxy XCover Pro와 같은 견고한 삼성 디바이스를 엔터프라이즈급 바코드 스캐너로 전환하는 것이 얼마나 쉬운지 보여줍니다.', metadata={'source': 'all_processed_data_ko.json', 'seq_num': 2, 'title': '동영상', 'url': 'https://docs.samsungknox.com/admin/knox-capture/how-to-videos', 'project': 'KCAP', 'last_updated': '2023-07-26'})]"
      ]
     },
     "execution_count": 40,
     "metadata": {},
     "output_type": "execute_result"
    }
   ],
   "source": [
    "import random\n",
    "def get_sampling_doc(seed, ratio, docs):\n",
    "\n",
    "    random.seed(seed)\n",
    "    \n",
    "    eval_docs = docs[:int(len(docs)*ratio)]\n",
    "    \n",
    "    return eval_docs\n",
    "    \n",
    "eval_docs = get_sampling_doc(seed=200, ratio=0.05, docs= all_docs)\n",
    "print(\"eval docs: \", len(eval_docs))\n",
    "eval_docs[0:2]\n",
    "    \n",
    "    "
   ]
  },
  {
   "cell_type": "markdown",
   "metadata": {},
   "source": [
    "## 오픈 서치 인덱스 유무에 따라 삭제\n",
    "오픈 서치에 해당 인덱스가 존재하면, 삭제 합니다. "
   ]
  },
  {
   "cell_type": "code",
   "execution_count": 41,
   "metadata": {
    "tags": []
   },
   "outputs": [
    {
     "name": "stdout",
     "output_type": "stream",
     "text": [
      "index_name=v17-genai-poc-knox-kor-eval-parent-doc-retriever, exists=False\n",
      "\n",
      "Creating index:\n",
      "{'acknowledged': True, 'shards_acknowledged': True, 'index': 'v17-genai-poc-knox-kor-eval-parent-doc-retriever'}\n",
      "Index is created\n",
      "{'v17-genai-poc-knox-kor-eval-parent-doc-retriever': {'aliases': {},\n",
      "                                                      'mappings': {'properties': {'metadata': {'properties': {'last_updated': {'type': 'date'},\n",
      "                                                                                                              'project': {'type': 'keyword'},\n",
      "                                                                                                              'seq_num': {'type': 'long'},\n",
      "                                                                                                              'source': {'type': 'keyword'},\n",
      "                                                                                                              'title': {'type': 'text'},\n",
      "                                                                                                              'url': {'type': 'text'}}},\n",
      "                                                                                  'text': {'analyzer': 'my_analyzer',\n",
      "                                                                                           'type': 'text'},\n",
      "                                                                                  'vector_field': {'dimension': 1536,\n",
      "                                                                                                   'type': 'knn_vector'}}},\n",
      "                                                      'settings': {'index': {'analysis': {'analyzer': {'my_analyzer': {'char_filter': ['html_strip'],\n",
      "                                                                                                                       'filter': ['nori_number',\n",
      "                                                                                                                                  'lowercase',\n",
      "                                                                                                                                  'trim',\n",
      "                                                                                                                                  'my_nori_part_of_speech'],\n",
      "                                                                                                                       'tokenizer': 'nori',\n",
      "                                                                                                                       'type': 'custom'}},\n",
      "                                                                                          'filter': {'my_nori_part_of_speech': {'stoptags': ['E',\n",
      "                                                                                                                                             'IC',\n",
      "                                                                                                                                             'J',\n",
      "                                                                                                                                             'MAG',\n",
      "                                                                                                                                             'MAJ',\n",
      "                                                                                                                                             'MM',\n",
      "                                                                                                                                             'SP',\n",
      "                                                                                                                                             'SSC',\n",
      "                                                                                                                                             'SSO',\n",
      "                                                                                                                                             'SC',\n",
      "                                                                                                                                             'SE',\n",
      "                                                                                                                                             'XPN',\n",
      "                                                                                                                                             'XSA',\n",
      "                                                                                                                                             'XSN',\n",
      "                                                                                                                                             'XSV',\n",
      "                                                                                                                                             'UNA',\n",
      "                                                                                                                                             'NA',\n",
      "                                                                                                                                             'VSV'],\n",
      "                                                                                                                                'type': 'nori_part_of_speech'}},\n",
      "                                                                                          'tokenizer': {'nori': {'decompound_mode': 'mixed',\n",
      "                                                                                                                 'discard_punctuation': 'true',\n",
      "                                                                                                                 'type': 'nori_tokenizer'}}},\n",
      "                                                                             'creation_date': '1702858860298',\n",
      "                                                                             'knn': 'true',\n",
      "                                                                             'knn.space_type': 'cosinesimil',\n",
      "                                                                             'number_of_replicas': '2',\n",
      "                                                                             'number_of_shards': '5',\n",
      "                                                                             'provided_name': 'v17-genai-poc-knox-kor-eval-parent-doc-retriever',\n",
      "                                                                             'uuid': '9iCoNMxqTtqauk9syVin0Q',\n",
      "                                                                             'version': {'created': '136307827'}}}}}\n"
     ]
    }
   ],
   "source": [
    "index_exists = opensearch_utils.check_if_index_exists(\n",
    "    os_client,\n",
    "    eval_index_name\n",
    ")\n",
    "\n",
    "if index_exists:\n",
    "    opensearch_utils.delete_index(\n",
    "        os_client,\n",
    "        eval_index_name\n",
    "    )\n",
    "    \n",
    "opensearch_utils.create_index(os_client, eval_index_name, index_body)\n",
    "index_info = os_client.indices.get(index=eval_index_name)\n",
    "print(\"Index is created\")\n",
    "pprint(index_info)    "
   ]
  },
  {
   "cell_type": "markdown",
   "metadata": {},
   "source": [
    "## 검증 인덱스 연결 오브젝트 생성"
   ]
  },
  {
   "cell_type": "code",
   "execution_count": 42,
   "metadata": {
    "tags": []
   },
   "outputs": [
    {
     "data": {
      "text/plain": [
       "<langchain.vectorstores.opensearch_vector_search.OpenSearchVectorSearch at 0x7f1f2323b070>"
      ]
     },
     "execution_count": 42,
     "metadata": {},
     "output_type": "execute_result"
    }
   ],
   "source": [
    "eval_vector_db = OpenSearchVectorSearch(\n",
    "    index_name= eval_index_name,\n",
    "    opensearch_url=opensearch_domain_endpoint,\n",
    "    embedding_function=llm_emb,\n",
    "    http_auth=http_auth, # http_auth\n",
    "    is_aoss =False,\n",
    "    engine=\"faiss\",\n",
    "    space_type=\"l2\",\n",
    "    bulk_size=100000,\n",
    "    timeout=60    \n",
    ")\n",
    "eval_vector_db"
   ]
  },
  {
   "cell_type": "markdown",
   "metadata": {},
   "source": [
    "## Parent Chunking"
   ]
  },
  {
   "cell_type": "code",
   "execution_count": 43,
   "metadata": {
    "tags": []
   },
   "outputs": [
    {
     "name": "stdout",
     "output_type": "stream",
     "text": [
      "Number of parent_chunk_docs= 87\n"
     ]
    }
   ],
   "source": [
    "parent_chunk_docs = create_parent_chunk(eval_docs, opensearch_parent_key_name, \n",
    "                                        opensearch_family_tree_key_name,parent_chunk_size, \n",
    "                                        parent_chunk_overlap)\n",
    "print(f\"Number of parent_chunk_docs= {len(parent_chunk_docs)}\")\n"
   ]
  },
  {
   "cell_type": "code",
   "execution_count": 44,
   "metadata": {
    "tags": []
   },
   "outputs": [
    {
     "data": {
      "text/plain": [
       "[Document(page_content='AR 데모 바코드.다음 바코드를 사용하여 녹스 캡처 AR 기능을 테스트하세요.바코드 1 바코드 2 바코드 3 바코드 4 바코드 5 바코드 6', metadata={'source': 'all_processed_data_ko.json', 'seq_num': 1, 'title': 'AR 데모 바코드', 'url': 'https://docs.samsungknox.com/admin/knox-capture/ar-demo-barcodes', 'project': 'KCAP', 'last_updated': '2023-10-16', 'family_tree': 'parent', 'parent_id': None})]"
      ]
     },
     "execution_count": 44,
     "metadata": {},
     "output_type": "execute_result"
    }
   ],
   "source": [
    "parent_chunk_docs[0:1]"
   ]
  },
  {
   "cell_type": "code",
   "execution_count": 45,
   "metadata": {
    "tags": []
   },
   "outputs": [
    {
     "name": "stdout",
     "output_type": "stream",
     "text": [
      "CPU times: user 222 ms, sys: 17.1 ms, total: 239 ms\n",
      "Wall time: 10.6 s\n"
     ]
    }
   ],
   "source": [
    "%%time\n",
    "\n",
    "parent_ids = eval_vector_db.add_documents(\n",
    "                        documents = parent_chunk_docs, \n",
    "                        vector_field = \"vector_field\",\n",
    "                        bulk_size = 1000000\n",
    "                    )\n",
    "\n"
   ]
  },
  {
   "cell_type": "code",
   "execution_count": 46,
   "metadata": {
    "tags": []
   },
   "outputs": [
    {
     "name": "stdout",
     "output_type": "stream",
     "text": [
      "total count docs:  {'count': 87, '_shards': {'total': 5, 'successful': 5, 'skipped': 0, 'failed': 0}}\n"
     ]
    }
   ],
   "source": [
    "total_count_docs = opensearch_utils.get_count(os_client, eval_index_name)\n",
    "print(\"total count docs: \", total_count_docs)\n"
   ]
  },
  {
   "cell_type": "code",
   "execution_count": 47,
   "metadata": {
    "tags": []
   },
   "outputs": [
    {
     "name": "stdout",
     "output_type": "stream",
     "text": [
      "opensearch document id: 57d41441-0336-4625-9389-eba1421acffb\n",
      "family_tree: parent\n",
      "parent document id: None\n",
      "parent document text: \n",
      " AR 데모 바코드.다음 바코드를 사용하여 녹스 캡처 AR 기능을 테스트하세요.바코드 1 바코드 2 바코드 3 바코드 4 바코드 5 바코드 6\n"
     ]
    }
   ],
   "source": [
    "response = opensearch_utils.get_document(os_client, doc_id = parent_ids[0], index_name = eval_index_name)\n",
    "show_opensearch_doc_info(response)    "
   ]
  },
  {
   "cell_type": "markdown",
   "metadata": {},
   "source": [
    "## Child Chunking"
   ]
  },
  {
   "cell_type": "code",
   "execution_count": 48,
   "metadata": {},
   "outputs": [
    {
     "name": "stdout",
     "output_type": "stream",
     "text": [
      "Number of child_chunk_docs= 152\n"
     ]
    }
   ],
   "source": [
    "# child_chunk_docs = create_child_chunk(parent_chunk_docs[0:1], parent_ids)\n",
    "child_chunk_docs = create_child_chunk(child_chunk_size, child_chunk_overlap, parent_chunk_docs, \n",
    "                                      parent_ids, \n",
    "                                      opensearch_parent_key_name, opensearch_family_tree_key_name)\n",
    "print(f\"Number of child_chunk_docs= {len(child_chunk_docs)}\")\n"
   ]
  },
  {
   "cell_type": "code",
   "execution_count": 49,
   "metadata": {
    "tags": []
   },
   "outputs": [
    {
     "data": {
      "text/plain": [
       "[Document(page_content='AR 데모 바코드.다음 바코드를 사용하여 녹스 캡처 AR 기능을 테스트하세요.바코드 1 바코드 2 바코드 3 바코드 4 바코드 5 바코드 6', metadata={'source': 'all_processed_data_ko.json', 'seq_num': 1, 'title': 'AR 데모 바코드', 'url': 'https://docs.samsungknox.com/admin/knox-capture/ar-demo-barcodes', 'project': 'KCAP', 'last_updated': '2023-10-16', 'family_tree': 'child', 'parent_id': '57d41441-0336-4625-9389-eba1421acffb'})]"
      ]
     },
     "execution_count": 49,
     "metadata": {},
     "output_type": "execute_result"
    }
   ],
   "source": [
    "child_chunk_docs[0:1]"
   ]
  },
  {
   "cell_type": "code",
   "execution_count": 50,
   "metadata": {
    "tags": []
   },
   "outputs": [
    {
     "name": "stdout",
     "output_type": "stream",
     "text": [
      "child's parent_id:  57d41441-0336-4625-9389-eba1421acffb\n",
      "\n",
      "###### Search parent in OpenSearch\n",
      "opensearch document id: 57d41441-0336-4625-9389-eba1421acffb\n",
      "family_tree: parent\n",
      "parent document id: None\n",
      "parent document text: \n",
      " AR 데모 바코드.다음 바코드를 사용하여 녹스 캡처 AR 기능을 테스트하세요.바코드 1 바코드 2 바코드 3 바코드 4 바코드 5 바코드 6\n"
     ]
    }
   ],
   "source": [
    "parent_id = child_chunk_docs[0].metadata[\"parent_id\"]\n",
    "print(\"child's parent_id: \", parent_id)\n",
    "print(\"\\n###### Search parent in OpenSearch\")\n",
    "response = opensearch_utils.get_document(os_client, doc_id = parent_id, index_name = eval_index_name)\n",
    "show_opensearch_doc_info(response)    \n"
   ]
  },
  {
   "cell_type": "code",
   "execution_count": 51,
   "metadata": {
    "tags": []
   },
   "outputs": [
    {
     "name": "stdout",
     "output_type": "stream",
     "text": [
      "length of child_ids:  152\n",
      "CPU times: user 376 ms, sys: 10.9 ms, total: 387 ms\n",
      "Wall time: 16.6 s\n"
     ]
    }
   ],
   "source": [
    "%%time\n",
    "\n",
    "child_ids = eval_vector_db.add_documents(\n",
    "                        documents = child_chunk_docs, \n",
    "                        vector_field = \"vector_field\",\n",
    "                        bulk_size = 1000000\n",
    "                    )\n",
    "\n",
    "print(\"length of child_ids: \", len(child_ids))"
   ]
  },
  {
   "cell_type": "code",
   "execution_count": 52,
   "metadata": {
    "tags": []
   },
   "outputs": [
    {
     "name": "stdout",
     "output_type": "stream",
     "text": [
      "total count docs:  {'count': 239, '_shards': {'total': 5, 'successful': 5, 'skipped': 0, 'failed': 0}}\n"
     ]
    }
   ],
   "source": [
    "total_count_docs = opensearch_utils.get_count(os_client, eval_index_name)\n",
    "print(\"total count docs: \", total_count_docs)\n"
   ]
  },
  {
   "cell_type": "code",
   "execution_count": 53,
   "metadata": {
    "tags": []
   },
   "outputs": [
    {
     "name": "stdout",
     "output_type": "stream",
     "text": [
      "opensearch document id: edf62f6a-10bf-41a0-91e2-c5f345f8a869\n",
      "family_tree: child\n",
      "parent document id: 6917b636-d93f-4dff-a09c-d00ae44c5495\n",
      "parent document text: \n",
      " .#How -to 주제 주요 Knox Capture 기능에 대한 자세한 설명과 자세한 설명을 보려면 다음 사용 방법 항목을 참조하십시오. 자세한 내용은 라이선스 관리 - Knox Capture 라이선스 절차에 대해 알아보고 앱에서 Knox Capture와 Knox Capture: Scandit Edition 라이선스 간에 전환하는 방법에 대해 알아보세요.스캔 프로필 - 프로필의 작동 방식, 기본 프로필의 기능, 다양한 스캔 시나리오에 맞게 새 프로필을 만드는 방법을 알아보세요.앱 및 활동 - 카메라 스캐너를 실행할 수 있는 비즈니스 앱을 정의하는 모든 스캔 프로필의 구성 요소입니다.앱과 활동의 작동 방식과 스캔 프로필에서 앱과 활동을 사용자 지정하는 방법을 알아보세요.스캔 엔진 설정 - 이 설정은 바코드 스캔 방법과 각 스캔 후 데이터에 어떤 일이 발생하는지 정의합니다.바코드 유형 설정, 스캔 모드 변경, 뷰파인더 크기 제어 등에 대해 알아보십시오.키스트로크 출력 - 스캔에 성공할 때마다 데이터를 포맷하는 방법을 정의하는 스캔 프로파일 설정입니다.스캔한 데이터에 특수 문자를 추가하거나 앞에 특수 문자를 추가하는 방법 또는 스프레드시트와 양식에서 쉽게 처리할 수 있도록 각 바코드 끝에 ASCII 탭과 Enter 키를 삽입하는 방법을 알아봅니다.테스트 모드 - 배포를 위해 구성을 내보내기 전에 스캔 프로필의 앱, 바코드 유형 및 키 입력 출력 규칙을 테스트할 수 있는 기능입니다.EMM/UEM에 구성 배포 - 다양한 스캔 프로필 내보내기 옵션과 EMM/UEM에서 내보낸 구성 파일을 사용하여 Knox Capture를 최종 사용자에게 배포하는 방법에 대해 알아봅니다.카메라 스캔 트리거 설정 - IT 관리자가 사용자가 기기의 하드웨어 버튼을 사용할지, 화면상의 플로팅 액션 버튼을 사용하여 카메라 스캔을 트리거할 수 있는지 또는 둘 다를 사용하여 카메라 스캔을 트리거할 수 있는지 지정할 수 있는 기능입니다.다양한 버튼 옵션에 대해 알아보고 관리자와 최종 사용자의 관점에서 트리거를 구성하는 방법을 알아보세요\n"
     ]
    }
   ],
   "source": [
    "response = opensearch_utils.get_document(os_client, doc_id = child_ids[5], index_name = eval_index_name)\n",
    "show_opensearch_doc_info(response)    "
   ]
  },
  {
   "cell_type": "code",
   "execution_count": 54,
   "metadata": {
    "tags": []
   },
   "outputs": [
    {
     "name": "stdout",
     "output_type": "stream",
     "text": [
      "child's parent_id:  6917b636-d93f-4dff-a09c-d00ae44c5495\n",
      "\n",
      "###### Search parent in OpenSearch\n",
      "opensearch document id: 6917b636-d93f-4dff-a09c-d00ae44c5495\n",
      "family_tree: parent\n",
      "parent document id: None\n",
      "parent document text: \n",
      " 개요.Knox Capture가 무엇이고 어떻게 작동하는지 알아보고 기본 사항부터 시작해 보세요.녹스 캡처란 무엇인가요?녹스 캡처의 기능을 설명하려면 먼저 *웨지* 스캐너가 무엇인지, 그리고 이 스캐너가 Knox Capture 솔루션과 어떤 관련이 있는지 이해하는 것부터 시작하는 것이 도움이 될 수 있습니다.기존의 하드웨어 기반 바코드 스캔 용어로 웨지 스캐너는 키보드와 컴퓨터 사이에 연결하는 물리적 장치입니다.키보드는 스캐너에 연결되고 스캐너는 컴퓨터에 연결됩니다.컴퓨터의 관점에서 보면 스캐너는 마치 추가 키보드처럼 작동합니다.컴퓨터에서 소프트웨어 프로그램 (예: 인벤토리 스프레드시트 앱) 을 실행하고 웨지 스캐너를 사용하여 바코드를 읽으면 키 입력 형태로 스캐너에서 프로그램으로 데이터가 전송됩니다.프로그램의 관점에서 보면 데이터는 마치 누군가가 키보드를 사용하여 수동으로 입력한 것처럼 보입니다.Knox Capture 작동 방식 비슷한 방식으로 Knox Capture는 소프트웨어 프로그램과 키보드 사이의 쐐기 역할을 하기도 합니다.하지만 Knox Capture는 물리적 스캔 디바이스가 아니라 호환되는 Android 스마트폰 및 태블릿용으로 설계된 모바일 솔루션입니다.기업 IT 관리자는 Google Play에서 Knox Capture 앱을 다운로드하거나 Knox Capture SDK (소프트웨어 개발 키트) 를 사용하여 자체 웨지 스캐너 앱을 맞춤 구축할 수 있습니다.Knox Capture가 디바이스에 설치되고 실행되면 애플리케이션 (예: 인벤토리 추적에 사용되는 비즈니스 앱) 과 모바일 디바이스의 온스크린 키보드 사이에서*쐐기*를 이룹니다.최종 사용자가 비즈니스 앱을 실행할 때 화면 버튼을 탭하거나 디바이스의 하드웨어 버튼을 누르기만 하면 디바이스의 카메라를 사용하여 바코드 스캔을 실행할 수 있습니다.카메라가 바코드에 초점을 맞춘 후 Knox Capture는 바코드 데이터를 키 입력으로 변환한 다음 이를 비즈니스 앱으로 다시 전달하여 처리합니다.비즈니스 앱의 관점에서 보면 Knox Capture에서 발생하는 키 입력은 마치 사용자가 디바이스 키보드에서 키를 입력한 것처럼 보입니다.누가 녹스 캡처를 사용할 수 있나요?Knox Capture는 모바일 디바이스를 강력한 바코드 스캐너로 전환하고자 하는 모든 사용자를 위해 설계되었습니다.하지만 관리자가 사용하는지, 최종 사용자가 사용하는지에 따라 기능이 크게 달라집니다.#Admin 모드 (기본값) Google Play에서 Knox Capture를 다운로드하여 호환되는 Android 디바이스에 설치하고 유효한 라이선스 키를 활성화하면 앱이 기본 관리자 모드로 작동합니다.이 모드에서는 기기 사용자 (일반적으로 기업 IT 관리자) 가 앱의 전체 기능을 활용하여 주로 다음과 같은 작업을 수행할 수 있습니다. 1.바코드 스캐너를 실행할 수 있는 앱, 스캔할 수 있는 바코드 유형 (QR, Code 128, EAN8 등), 스캔한 데이터의 형식 지정 방법 (Tab 또는 Enter 키 추가, 데이터 앞이나 뒤에 특수 문자 삽입 등) 을 정의하는 스캔 프로필을 만드세요. 2.스캔 프로필을 테스트하여 적절한 비즈니스 앱이 스캐너를 실행하고 키 입력으로 데이터를 다시 받을 수 있는지 확인하십시오. 3.프로필 설정을 구성 파일로 내보낸 다음 EMM/UEM 관리자가 Knox Capture를 관리형 앱으로 최종 사용자 디바이스에 배포하는 데 사용할 수 있습니다.#Managed 모드 IT 관리자가 EMM/UEM을 사용하여 Knox Capture를 최종 사용자의 디바이스에 관리형 앱으로 배포한 후 디바이스는 관리 모드에서 앱을 시작합니다.관리 모드에서는 Knox Capture 기능이 크게 줄어듭니다.최종 사용자는 스캔 프로필에서 허용하는 대로 비즈니스 앱을 사용하여 스캔 프로필 설정을 검토하고 바코드 스캔을 수행할 수 있지만 스캔 프로필을 변경하거나 프로필 설정을 내보내거나 Knox Capture 라이선스를 활성화하여 관리자 모드로 전환할 수는 없습니다.관리자 모드는 Knox Capture의 기본 작동 모드입니다.이 가이드에 설명된 절차는 IT 관리자를 대상으로 합니다.더 읽어보기 #Getting started 튜토리얼 이 튜토리얼은 신규 관리자와 최종 사용자를 위한 가이드 워크플로우를 제공합니다.Knox Capture를 사용하는 모든 설정이나 시나리오를 다루지는 않지만 앱의 기본 사항을 배우기 위한 좋은 출발점이 될 수 있습니다.IT 관리자: Knox Capture 시작하기 - IT 관리자로서 새 스캔 프로필을 생성하고, 스캔 엔진 설정을 구성하고, 테스트 스캔을 수행하고, EMM/UEM을 통해 배포할 스캔 구성을 내보내는 방법을 알아보세요.최종 사용자: Knox Capture 시작하기 - 디바이스 최종 사용자로서 비즈니스 앱에서 스캔 프로필 설정을 검토하고, 하드웨어 키 설정을 구성하고, 바코드 스캔을 수행하는 방법을 알아봅니다.#How -to 주제 주요 Knox Capture 기능에 대한 자세한 설명과 자세한 설명을 보려면 다음 사용 방법 항목을 참조하십시오. 자세한 내용은 라이선스 관리 - Knox Capture 라이선스 절차에 대해 알아보고 앱에서 Knox Capture와 Knox Capture: Scandit Edition 라이선스 간에 전환하는 방법에 대해 알아보세요.스캔 프로필 - 프로필의 작동 방식, 기본 프로필의 기능, 다양한 스캔 시나리오에 맞게 새 프로필을 만드는 방법을 알아보세요.앱 및 활동 - 카메라 스캐너를 실행할 수 있는 비즈니스 앱을 정의하는 모든 스캔 프로필의 구성 요소입니다.앱과 활동의 작동 방식과 스캔 프로필에서 앱과 활동을 사용자 지정하는 방법을 알아보세요.스캔 엔진 설정 - 이 설정은 바코드 스캔 방법과 각 스캔 후 데이터에 어떤 일이 발생하는지 정의합니다.바코드 유형 설정, 스캔 모드 변경, 뷰파인더 크기 제어 등에 대해 알아보십시오.키스트로크 출력 - 스캔에 성공할 때마다 데이터를 포맷하는 방법을 정의하는 스캔 프로파일 설정입니다.스캔한 데이터에 특수 문자를 추가하거나 앞에 특수 문자를 추가하는 방법 또는 스프레드시트와 양식에서 쉽게 처리할 수 있도록 각 바코드 끝에 ASCII 탭과 Enter 키를 삽입하는 방법을 알아봅니다.테스트 모드 - 배포를 위해 구성을 내보내기 전에 스캔 프로필의 앱, 바코드 유형 및 키 입력 출력 규칙을 테스트할 수 있는 기능입니다.EMM/UEM에 구성 배포 - 다양한 스캔 프로필 내보내기 옵션과 EMM/UEM에서 내보낸 구성 파일을 사용하여 Knox Capture를 최종 사용자에게 배포하는 방법에 대해 알아봅니다.카메라 스캔 트리거 설정 - IT 관리자가 사용자가 기기의 하드웨어 버튼을 사용할지, 화면상의 플로팅 액션 버튼을 사용하여 카메라 스캔을 트리거할 수 있는지 또는 둘 다를 사용하여 카메라 스캔을 트리거할 수 있는지 지정할 수 있는 기능입니다.다양한 버튼 옵션에 대해 알아보고 관리자와 최종 사용자의 관점에서 트리거를 구성하는 방법을 알아보세요.하드웨어 스캐너 연결 - 일부 기업은 Knox Capture와 함께 기존 하드웨어 웨지 스캐너를 사용하고자 할 수 있습니다.Bluetooth 및 USB 스캐너를 Knox Capture를 실행하는 디바이스에 연결하는 방법과 스캐너가 연결된 후 테스트 스캔을 수행하는 방법을 알아보세요.출력 경로 구성 - 일부 조직에서는 스캔한 Knox Capture 데이터를 PC에 연결된 블루투스 키보드로 전송하여 기존 하드웨어 스캐너의 기능을 에뮬레이션하고자 할 수 있습니다.출력 경로의 작동 방식, 디바이스와 블루투스 키보드를 페어링 및 페어링 해제하는 방법을 알아보세요.Knox Capture AR - Knox Capture v1.7에 도입된 기능으로 바코드 스캔 중에 카메라 미리 보기 창 내에 중요한 제품 정보를 제공합니다.Knox Capture의 AR (증강 현실) 이 무엇인지, AR 템플릿을 만드는 방법, 바코드 스캔을 수행할 때 AR을 사용하는 방법을 알아보세요.\n"
     ]
    }
   ],
   "source": [
    "parent_id = response[\"_source\"][\"metadata\"][\"parent_id\"]\n",
    "print(\"child's parent_id: \", parent_id)\n",
    "print(\"\\n###### Search parent in OpenSearch\")\n",
    "response = opensearch_utils.get_document(os_client, doc_id = parent_id, index_name = eval_index_name)\n",
    "show_opensearch_doc_info(response)    \n"
   ]
  },
  {
   "cell_type": "markdown",
   "metadata": {},
   "source": [
    "## 검색 테스트"
   ]
  },
  {
   "cell_type": "code",
   "execution_count": 59,
   "metadata": {
    "tags": []
   },
   "outputs": [
    {
     "name": "stdout",
     "output_type": "stream",
     "text": [
      "{'query': {'bool': {'filter': {'term': {'metadata.family_tree': 'child'}},\n",
      "                    'must': [{'match': {'text': {'minimum_should_match': '0%',\n",
      "                                                 'operator': 'or',\n",
      "                                                 'query': '바코드를 어떻게 사용해'}}}]}}}\n"
     ]
    }
   ],
   "source": [
    "# q = \"'how to use barcode\"\n",
    "q = \"바코드를 어떻게 사용해\"\n",
    "query ={'query': \n",
    "        {'bool': {'must': \n",
    "                  [{'match': \n",
    "                    {'text': \n",
    "                     {'query': f\"{q}\", 'minimum_should_match': '0%', 'operator': 'or'}}}], \n",
    "                  'filter': {\n",
    "                    \"term\": {\n",
    "                      \"metadata.family_tree\": \"child\"\n",
    "                    }                      \n",
    "                  }\n",
    "                 }\n",
    "        }\n",
    "       }\n",
    "pprint(query)"
   ]
  },
  {
   "cell_type": "code",
   "execution_count": 60,
   "metadata": {
    "tags": []
   },
   "outputs": [
    {
     "name": "stdout",
     "output_type": "stream",
     "text": [
      "# of searched docs:  10\n",
      "# of display: 3\n",
      "---------------------\n",
      "_id in index:  e12fde5b-d655-43cc-8eb5-bbd0eb5111d5\n",
      "6.4662046\n",
      ".특정 바코드 유형의 설정 메뉴를 보려면 해당 이름을 누릅니다.다음 표는 표시될 수 있는 바코드 유형 설정을 설명합니다. 설정 설명 옵션 기본 최소 길이 디코딩할 지원되는 최소 바코드 길이 (활성 기호 수) 를 결정합니다.기본적으로 활성화되지 않은 길이를 포함하거나 특정 개수의 심볼에 대한 디코딩 성능을 최적화하려면 이 속성을 변경하십시오.문자-기호 매핑은 바코드 유형에 따라 달라집니다.예를 들어 일부 바코드에는 기호 수에 추가 체크섬 문자가 포함됩니다.활성 기호 수에 대한 자세한 내용은 활성 기호 수 구성을 참조하십시오.바코드 유형에 따라 다릅니다.최대 길이: 디코딩할 지원되는 최대 바코드 길이 (활성 기호 수) 를 결정합니다.바코드 유형에 따라 다릅니다.반전 색상 인식: 어두운 배경에 밝은 잉크를 사용하여 인쇄된 반전 바코드를 인식할 수 있습니다.ON/OFF Quiet Zone 크기를 줄여 바코드 유형 사양에서 허용하는 것보다 일반적인 저소음 영역 (코드 앞뒤 공백) 보다 작은 코드를 스캔할 수 있습니다.여백 지대 사양을 위반하는 코드를 스캔할 때 문제가 발생하는 경우 이 방법을 사용하십시오.이 기능을 켜면 경우에 따라 스캔이 오탐으로 이어질 수 있다는 점에 유의하십시오.FNC1으로 이어지는 켜기/끄기 스트립은 GS1 코드를 나타내는 FNC1 선행 문자를 제거합니다.ON/OFF 직접 부품 마킹 모드 직접 부품 표시 (DPM) 데이터 매트릭스 코드를 읽을 때 스캔 성능이 향상됩니다.이 설정을 사용하면 프레임 처리 시간이 늘어난다는 점에 유의하십시오.삼성에서는 직접 부품 표시 모드를 사용할 때 성능 향상을 위해 스캔 영역을 화면의 작은 부분으로 제한할 것을 권장합니다.ON/OFF 체크섬 모드 n 바코드 체크섬은 바코드 데이터와 체크섬 알고리즘을 사용하여 데이터 전송 무결성을 보장합니다.일부 바코드 유형에는 필수 체크섬이 포함되는 반면, 선택적 체크섬만 있는 바코드 유형도 있습니다.선택적 체크섬을 적용하면 오탐을 줄이고 추가 오류 방지 기능을 제공할 수 있습니다\n",
      "{'source': 'all_processed_data_ko.json', 'seq_num': 25, 'title': '스캔 엔진 설정: 스캔딧', 'url': 'https://docs.samsungknox.com/admin/knox-capture/knox-capture-scandit/scan-engine-settings-scandit', 'project': 'KCAP', 'last_updated': '2023-07-26', 'family_tree': 'child', 'parent_id': '440196eb-902b-483c-a5c5-da68fe61e216'}\n",
      "---------------------\n",
      "_id in index:  e45d0aec-71f7-4acd-89fc-ad68ec6dfb64\n",
      "6.4552546\n",
      "스캔 엔진 설정을 구성합니다.스캔 엔진 설정은 바코드 스캔 방법, 각 스캔 후 데이터에 발생하는 상황과 같은 핵심 Knox Capture 동작을 정의합니다.다음과 같은 설정을 사용할 수 있습니다. 바코드 유형 스캐너가 인식해야 하는 바코드 기호를 선택합니다.예: 코드 39 및 QR 코드.사용 가능한 바코드 유형: 유형, 옵션 -, - 숫자 전용 (1D), 코다바, EAN13, EAN8, 인터리브 2/5, UPCA, UPCE 영숫자 (1D), 코드 128, 코드 39, 코드 93 2D, 데이터 매트릭스, PDF417, QR 코다바와 코드 93을 제외한 모든 바코드가 기본적으로 활성화됩니다.스캔 설정 스캔 설정을 사용하여 Knox Capture가 대상 비즈니스 애플리케이션으로 바코드를 전송하기 전에 바코드를 스캔, 선택 및 파싱하는 방법을 정의합니다.#Scan 모드 스캔을 위한 기본 캡처 모드를 설정합니다.사용 가능한 옵션: 설정, 옵션 -, - 단일 스캔 (기본값), 바코드를 한 번에 하나씩 스캔 및 분석합니다.다중 스캔, 스캔 영역에서 여러 바코드를 동시에 감지합니다.#Single 스캔 기본 설정 단일 스캔 모드에서 카메라 스캔 UI와 상호 작용할 때 사용자가 바코드를 선택하는 방식을 설정합니다.사용 가능한 옵션: 설정 옵션 바코드 선택 자동 (기본값) - 첫 번째로 감지된 바코드를 추가 사용자 입력 없이 캡처합니다.조준 및 스캔 - 바코드 데이터를 캡처하려면 사용자가 카메라를 바코드에 대고 스캔 버튼을 탭해야 합니다.연속 스캔 끄기 (기본값) 켜기 — 기기 사용자가 스캔 사이에 카메라 트리거 버튼을 누르지 않고도 여러 바코드를 순차적으로 스캔하고 각 스캔을 단일 이벤트로 등록할 수 있습니다.1 장치 사용자는 바코드 스캔을 시작하면 카메라 미리 보기 창에 스캔 버튼이 표시됩니다.기기 사용자는 새 바코드를 캡처하고 싶을 때마다 스캔을 누르기만 하면 됩니다.각 바코드를 스캔할 때마다 미리 보기 창의 왼쪽 상단에 있는 카운터가 업데이트됩니다\n",
      "{'source': 'all_processed_data_ko.json', 'seq_num': 11, 'title': '스캔 엔진 설정 구성', 'url': 'https://docs.samsungknox.com/admin/knox-capture/how-to-guides/configure-scan-engine-settings', 'project': 'KCAP', 'last_updated': '2023-10-16', 'family_tree': 'child', 'parent_id': '6811786d-9710-452a-9b1f-ad757ec61eb4'}\n",
      "---------------------\n",
      "_id in index:  6fdcd752-765e-4ff7-a492-113313376c67\n",
      "6.3608613\n",
      "AR 개요.Knox Capture AR (증강 현실) 은 사용자가 바코드 스캔을 수행할 때 디바이스 화면에서 중요한 비즈니스 크리티컬 정보를 볼 수 있는 기능입니다.일반적으로 사용자가 스캐너를 실행하고 카메라를 하나 이상의 바코드에 조준하고 바코드 데이터를 캡처할 때마다 Knox Capture는 사용자가 검토할 수 있도록 바코드 정보를 비즈니스 앱으로 다시 전달하기만 하면 됩니다.정보가 비즈니스 앱에 도달하기 전까지는 사용자가 어떤 정보와도 상호작용할 수 있는 방법이 없습니다.일부 조직의 경우 여러 바코드를 스캔하고 데이터가 비즈니스 앱에 도달한 후에야 데이터를 검토하는 것은 비효율적일 수 있습니다. 특히 정보가 애초에 찾고 있던 것과 다를 경우 더욱 그렇습니다.이로 인해 적절한 데이터를 캡처하기 위해 다시 스캔해야 하고 작업자 부담이 늘어날 수 있습니다.사용자가 Knox Capture AR을 사용하여 바코드 스캔을 시작하면 카메라 미리 보기 창에 맞춤형 오버레이가 추가되어 사용자가 실시간으로 바코드 데이터를 보고, 분석하고, 상호 작용할 수 있습니다.예를 들어 AR을 사용하여 품목을 스캔하는 소매 직원은 데이터를 검토하기 위해 비즈니스 앱을 열지 않고도 카메라 미리 보기 창에서 제품의 모델 번호, 판매 가격 또는 남은 재고 수와 같은 정보를 모두 볼 수 있습니다.AR 템플릿 정보 스캔 프로필이 스캔을 트리거할 수 있는 앱, 허용되는 바코드, 캡처 후 데이터에 발생하는 상황 등 핵심 Knox Capture 동작을 정의하는 것과 마찬가지로 AR 템플릿도 Knox Capture AR 기능의 특성과 동작을 정의합니다.#Search -and-find 템플릿 이 AR 템플릿은 카메라 미리보기 창에 유사한 바코드가 여러 개 있을 때 사용자가 단일 바코드를 찾아 분리하는 데 도움이 되는 오버레이를 제공합니다.예를 들어 소매업 종사자는 창고의 넓은 상자 벽에서 상자 하나를 찾아달라는 요청을 받을 수 있습니다\n",
      "{'source': 'all_processed_data_ko.json', 'seq_num': 20, 'title': 'AR 개요', 'url': 'https://docs.samsungknox.com/admin/knox-capture/how-to-guides/ar/ar-overview', 'project': 'KCAP', 'last_updated': '2023-07-26', 'family_tree': 'child', 'parent_id': '12deca4e-a2ed-4c17-af37-3228e4558b4c'}\n",
      "---------------------\n"
     ]
    }
   ],
   "source": [
    "response = opensearch_utils.search_document(os_client, query, eval_index_name)\n",
    "opensearch_utils.parse_keyword_response(response, show_size=3)"
   ]
  },
  {
   "cell_type": "code",
   "execution_count": 61,
   "metadata": {
    "tags": []
   },
   "outputs": [
    {
     "data": {
      "text/plain": [
       "[Document(page_content='바코드 캡처가 비즈니스 앱에서 작동하지 않습니다.개요 바코드 데이터가 비즈니스 앱에 제대로 출력되지 않는 상황이 발생할 수 있습니다.비즈니스 앱에서 바코드 캡처가 작동하지 않는 이유는 무엇인가요?대부분의 바코드 캡처 문제는 키 입력 출력 및 스캔 엔진 설정의 사소한 오류에서 시작됩니다.프로필을 설정한 후 테스트 모드를 사용하여 구성을 확인해 보십시오.', metadata={'source': 'all_processed_data_ko.json', 'seq_num': 51, 'title': '바코드 캡처가 비즈니스 앱에서 작동하지 않음', 'url': 'https://docs.samsungknox.com/admin/knox-capture/kbas/barcode-capture-not-working-for-app', 'project': 'KCAP', 'last_updated': '2023-07-26', 'family_tree': 'parent', 'parent_id': None}),\n",
       " Document(page_content='바코드 캡처가 비즈니스 앱에서 작동하지 않습니다.개요 바코드 데이터가 비즈니스 앱에 제대로 출력되지 않는 상황이 발생할 수 있습니다.비즈니스 앱에서 바코드 캡처가 작동하지 않는 이유는 무엇인가요?대부분의 바코드 캡처 문제는 키 입력 출력 및 스캔 엔진 설정의 사소한 오류에서 시작됩니다.프로필을 설정한 후 테스트 모드를 사용하여 구성을 확인해 보십시오.', metadata={'source': 'all_processed_data_ko.json', 'seq_num': 51, 'title': '바코드 캡처가 비즈니스 앱에서 작동하지 않음', 'url': 'https://docs.samsungknox.com/admin/knox-capture/kbas/barcode-capture-not-working-for-app', 'project': 'KCAP', 'last_updated': '2023-07-26', 'family_tree': 'child', 'parent_id': '3f16754f-4fb7-40cb-8957-e567bff53139'})]"
      ]
     },
     "execution_count": 61,
     "metadata": {},
     "output_type": "execute_result"
    }
   ],
   "source": [
    "eval_vector_db.similarity_search(q, k=2)"
   ]
  },
  {
   "cell_type": "code",
   "execution_count": null,
   "metadata": {},
   "outputs": [],
   "source": []
  }
 ],
 "metadata": {
  "availableInstances": [
   {
    "_defaultOrder": 0,
    "_isFastLaunch": true,
    "category": "General purpose",
    "gpuNum": 0,
    "hideHardwareSpecs": false,
    "memoryGiB": 4,
    "name": "ml.t3.medium",
    "vcpuNum": 2
   },
   {
    "_defaultOrder": 1,
    "_isFastLaunch": false,
    "category": "General purpose",
    "gpuNum": 0,
    "hideHardwareSpecs": false,
    "memoryGiB": 8,
    "name": "ml.t3.large",
    "vcpuNum": 2
   },
   {
    "_defaultOrder": 2,
    "_isFastLaunch": false,
    "category": "General purpose",
    "gpuNum": 0,
    "hideHardwareSpecs": false,
    "memoryGiB": 16,
    "name": "ml.t3.xlarge",
    "vcpuNum": 4
   },
   {
    "_defaultOrder": 3,
    "_isFastLaunch": false,
    "category": "General purpose",
    "gpuNum": 0,
    "hideHardwareSpecs": false,
    "memoryGiB": 32,
    "name": "ml.t3.2xlarge",
    "vcpuNum": 8
   },
   {
    "_defaultOrder": 4,
    "_isFastLaunch": true,
    "category": "General purpose",
    "gpuNum": 0,
    "hideHardwareSpecs": false,
    "memoryGiB": 8,
    "name": "ml.m5.large",
    "vcpuNum": 2
   },
   {
    "_defaultOrder": 5,
    "_isFastLaunch": false,
    "category": "General purpose",
    "gpuNum": 0,
    "hideHardwareSpecs": false,
    "memoryGiB": 16,
    "name": "ml.m5.xlarge",
    "vcpuNum": 4
   },
   {
    "_defaultOrder": 6,
    "_isFastLaunch": false,
    "category": "General purpose",
    "gpuNum": 0,
    "hideHardwareSpecs": false,
    "memoryGiB": 32,
    "name": "ml.m5.2xlarge",
    "vcpuNum": 8
   },
   {
    "_defaultOrder": 7,
    "_isFastLaunch": false,
    "category": "General purpose",
    "gpuNum": 0,
    "hideHardwareSpecs": false,
    "memoryGiB": 64,
    "name": "ml.m5.4xlarge",
    "vcpuNum": 16
   },
   {
    "_defaultOrder": 8,
    "_isFastLaunch": false,
    "category": "General purpose",
    "gpuNum": 0,
    "hideHardwareSpecs": false,
    "memoryGiB": 128,
    "name": "ml.m5.8xlarge",
    "vcpuNum": 32
   },
   {
    "_defaultOrder": 9,
    "_isFastLaunch": false,
    "category": "General purpose",
    "gpuNum": 0,
    "hideHardwareSpecs": false,
    "memoryGiB": 192,
    "name": "ml.m5.12xlarge",
    "vcpuNum": 48
   },
   {
    "_defaultOrder": 10,
    "_isFastLaunch": false,
    "category": "General purpose",
    "gpuNum": 0,
    "hideHardwareSpecs": false,
    "memoryGiB": 256,
    "name": "ml.m5.16xlarge",
    "vcpuNum": 64
   },
   {
    "_defaultOrder": 11,
    "_isFastLaunch": false,
    "category": "General purpose",
    "gpuNum": 0,
    "hideHardwareSpecs": false,
    "memoryGiB": 384,
    "name": "ml.m5.24xlarge",
    "vcpuNum": 96
   },
   {
    "_defaultOrder": 12,
    "_isFastLaunch": false,
    "category": "General purpose",
    "gpuNum": 0,
    "hideHardwareSpecs": false,
    "memoryGiB": 8,
    "name": "ml.m5d.large",
    "vcpuNum": 2
   },
   {
    "_defaultOrder": 13,
    "_isFastLaunch": false,
    "category": "General purpose",
    "gpuNum": 0,
    "hideHardwareSpecs": false,
    "memoryGiB": 16,
    "name": "ml.m5d.xlarge",
    "vcpuNum": 4
   },
   {
    "_defaultOrder": 14,
    "_isFastLaunch": false,
    "category": "General purpose",
    "gpuNum": 0,
    "hideHardwareSpecs": false,
    "memoryGiB": 32,
    "name": "ml.m5d.2xlarge",
    "vcpuNum": 8
   },
   {
    "_defaultOrder": 15,
    "_isFastLaunch": false,
    "category": "General purpose",
    "gpuNum": 0,
    "hideHardwareSpecs": false,
    "memoryGiB": 64,
    "name": "ml.m5d.4xlarge",
    "vcpuNum": 16
   },
   {
    "_defaultOrder": 16,
    "_isFastLaunch": false,
    "category": "General purpose",
    "gpuNum": 0,
    "hideHardwareSpecs": false,
    "memoryGiB": 128,
    "name": "ml.m5d.8xlarge",
    "vcpuNum": 32
   },
   {
    "_defaultOrder": 17,
    "_isFastLaunch": false,
    "category": "General purpose",
    "gpuNum": 0,
    "hideHardwareSpecs": false,
    "memoryGiB": 192,
    "name": "ml.m5d.12xlarge",
    "vcpuNum": 48
   },
   {
    "_defaultOrder": 18,
    "_isFastLaunch": false,
    "category": "General purpose",
    "gpuNum": 0,
    "hideHardwareSpecs": false,
    "memoryGiB": 256,
    "name": "ml.m5d.16xlarge",
    "vcpuNum": 64
   },
   {
    "_defaultOrder": 19,
    "_isFastLaunch": false,
    "category": "General purpose",
    "gpuNum": 0,
    "hideHardwareSpecs": false,
    "memoryGiB": 384,
    "name": "ml.m5d.24xlarge",
    "vcpuNum": 96
   },
   {
    "_defaultOrder": 20,
    "_isFastLaunch": false,
    "category": "General purpose",
    "gpuNum": 0,
    "hideHardwareSpecs": true,
    "memoryGiB": 0,
    "name": "ml.geospatial.interactive",
    "supportedImageNames": [
     "sagemaker-geospatial-v1-0"
    ],
    "vcpuNum": 0
   },
   {
    "_defaultOrder": 21,
    "_isFastLaunch": true,
    "category": "Compute optimized",
    "gpuNum": 0,
    "hideHardwareSpecs": false,
    "memoryGiB": 4,
    "name": "ml.c5.large",
    "vcpuNum": 2
   },
   {
    "_defaultOrder": 22,
    "_isFastLaunch": false,
    "category": "Compute optimized",
    "gpuNum": 0,
    "hideHardwareSpecs": false,
    "memoryGiB": 8,
    "name": "ml.c5.xlarge",
    "vcpuNum": 4
   },
   {
    "_defaultOrder": 23,
    "_isFastLaunch": false,
    "category": "Compute optimized",
    "gpuNum": 0,
    "hideHardwareSpecs": false,
    "memoryGiB": 16,
    "name": "ml.c5.2xlarge",
    "vcpuNum": 8
   },
   {
    "_defaultOrder": 24,
    "_isFastLaunch": false,
    "category": "Compute optimized",
    "gpuNum": 0,
    "hideHardwareSpecs": false,
    "memoryGiB": 32,
    "name": "ml.c5.4xlarge",
    "vcpuNum": 16
   },
   {
    "_defaultOrder": 25,
    "_isFastLaunch": false,
    "category": "Compute optimized",
    "gpuNum": 0,
    "hideHardwareSpecs": false,
    "memoryGiB": 72,
    "name": "ml.c5.9xlarge",
    "vcpuNum": 36
   },
   {
    "_defaultOrder": 26,
    "_isFastLaunch": false,
    "category": "Compute optimized",
    "gpuNum": 0,
    "hideHardwareSpecs": false,
    "memoryGiB": 96,
    "name": "ml.c5.12xlarge",
    "vcpuNum": 48
   },
   {
    "_defaultOrder": 27,
    "_isFastLaunch": false,
    "category": "Compute optimized",
    "gpuNum": 0,
    "hideHardwareSpecs": false,
    "memoryGiB": 144,
    "name": "ml.c5.18xlarge",
    "vcpuNum": 72
   },
   {
    "_defaultOrder": 28,
    "_isFastLaunch": false,
    "category": "Compute optimized",
    "gpuNum": 0,
    "hideHardwareSpecs": false,
    "memoryGiB": 192,
    "name": "ml.c5.24xlarge",
    "vcpuNum": 96
   },
   {
    "_defaultOrder": 29,
    "_isFastLaunch": true,
    "category": "Accelerated computing",
    "gpuNum": 1,
    "hideHardwareSpecs": false,
    "memoryGiB": 16,
    "name": "ml.g4dn.xlarge",
    "vcpuNum": 4
   },
   {
    "_defaultOrder": 30,
    "_isFastLaunch": false,
    "category": "Accelerated computing",
    "gpuNum": 1,
    "hideHardwareSpecs": false,
    "memoryGiB": 32,
    "name": "ml.g4dn.2xlarge",
    "vcpuNum": 8
   },
   {
    "_defaultOrder": 31,
    "_isFastLaunch": false,
    "category": "Accelerated computing",
    "gpuNum": 1,
    "hideHardwareSpecs": false,
    "memoryGiB": 64,
    "name": "ml.g4dn.4xlarge",
    "vcpuNum": 16
   },
   {
    "_defaultOrder": 32,
    "_isFastLaunch": false,
    "category": "Accelerated computing",
    "gpuNum": 1,
    "hideHardwareSpecs": false,
    "memoryGiB": 128,
    "name": "ml.g4dn.8xlarge",
    "vcpuNum": 32
   },
   {
    "_defaultOrder": 33,
    "_isFastLaunch": false,
    "category": "Accelerated computing",
    "gpuNum": 4,
    "hideHardwareSpecs": false,
    "memoryGiB": 192,
    "name": "ml.g4dn.12xlarge",
    "vcpuNum": 48
   },
   {
    "_defaultOrder": 34,
    "_isFastLaunch": false,
    "category": "Accelerated computing",
    "gpuNum": 1,
    "hideHardwareSpecs": false,
    "memoryGiB": 256,
    "name": "ml.g4dn.16xlarge",
    "vcpuNum": 64
   },
   {
    "_defaultOrder": 35,
    "_isFastLaunch": false,
    "category": "Accelerated computing",
    "gpuNum": 1,
    "hideHardwareSpecs": false,
    "memoryGiB": 61,
    "name": "ml.p3.2xlarge",
    "vcpuNum": 8
   },
   {
    "_defaultOrder": 36,
    "_isFastLaunch": false,
    "category": "Accelerated computing",
    "gpuNum": 4,
    "hideHardwareSpecs": false,
    "memoryGiB": 244,
    "name": "ml.p3.8xlarge",
    "vcpuNum": 32
   },
   {
    "_defaultOrder": 37,
    "_isFastLaunch": false,
    "category": "Accelerated computing",
    "gpuNum": 8,
    "hideHardwareSpecs": false,
    "memoryGiB": 488,
    "name": "ml.p3.16xlarge",
    "vcpuNum": 64
   },
   {
    "_defaultOrder": 38,
    "_isFastLaunch": false,
    "category": "Accelerated computing",
    "gpuNum": 8,
    "hideHardwareSpecs": false,
    "memoryGiB": 768,
    "name": "ml.p3dn.24xlarge",
    "vcpuNum": 96
   },
   {
    "_defaultOrder": 39,
    "_isFastLaunch": false,
    "category": "Memory Optimized",
    "gpuNum": 0,
    "hideHardwareSpecs": false,
    "memoryGiB": 16,
    "name": "ml.r5.large",
    "vcpuNum": 2
   },
   {
    "_defaultOrder": 40,
    "_isFastLaunch": false,
    "category": "Memory Optimized",
    "gpuNum": 0,
    "hideHardwareSpecs": false,
    "memoryGiB": 32,
    "name": "ml.r5.xlarge",
    "vcpuNum": 4
   },
   {
    "_defaultOrder": 41,
    "_isFastLaunch": false,
    "category": "Memory Optimized",
    "gpuNum": 0,
    "hideHardwareSpecs": false,
    "memoryGiB": 64,
    "name": "ml.r5.2xlarge",
    "vcpuNum": 8
   },
   {
    "_defaultOrder": 42,
    "_isFastLaunch": false,
    "category": "Memory Optimized",
    "gpuNum": 0,
    "hideHardwareSpecs": false,
    "memoryGiB": 128,
    "name": "ml.r5.4xlarge",
    "vcpuNum": 16
   },
   {
    "_defaultOrder": 43,
    "_isFastLaunch": false,
    "category": "Memory Optimized",
    "gpuNum": 0,
    "hideHardwareSpecs": false,
    "memoryGiB": 256,
    "name": "ml.r5.8xlarge",
    "vcpuNum": 32
   },
   {
    "_defaultOrder": 44,
    "_isFastLaunch": false,
    "category": "Memory Optimized",
    "gpuNum": 0,
    "hideHardwareSpecs": false,
    "memoryGiB": 384,
    "name": "ml.r5.12xlarge",
    "vcpuNum": 48
   },
   {
    "_defaultOrder": 45,
    "_isFastLaunch": false,
    "category": "Memory Optimized",
    "gpuNum": 0,
    "hideHardwareSpecs": false,
    "memoryGiB": 512,
    "name": "ml.r5.16xlarge",
    "vcpuNum": 64
   },
   {
    "_defaultOrder": 46,
    "_isFastLaunch": false,
    "category": "Memory Optimized",
    "gpuNum": 0,
    "hideHardwareSpecs": false,
    "memoryGiB": 768,
    "name": "ml.r5.24xlarge",
    "vcpuNum": 96
   },
   {
    "_defaultOrder": 47,
    "_isFastLaunch": false,
    "category": "Accelerated computing",
    "gpuNum": 1,
    "hideHardwareSpecs": false,
    "memoryGiB": 16,
    "name": "ml.g5.xlarge",
    "vcpuNum": 4
   },
   {
    "_defaultOrder": 48,
    "_isFastLaunch": false,
    "category": "Accelerated computing",
    "gpuNum": 1,
    "hideHardwareSpecs": false,
    "memoryGiB": 32,
    "name": "ml.g5.2xlarge",
    "vcpuNum": 8
   },
   {
    "_defaultOrder": 49,
    "_isFastLaunch": false,
    "category": "Accelerated computing",
    "gpuNum": 1,
    "hideHardwareSpecs": false,
    "memoryGiB": 64,
    "name": "ml.g5.4xlarge",
    "vcpuNum": 16
   },
   {
    "_defaultOrder": 50,
    "_isFastLaunch": false,
    "category": "Accelerated computing",
    "gpuNum": 1,
    "hideHardwareSpecs": false,
    "memoryGiB": 128,
    "name": "ml.g5.8xlarge",
    "vcpuNum": 32
   },
   {
    "_defaultOrder": 51,
    "_isFastLaunch": false,
    "category": "Accelerated computing",
    "gpuNum": 1,
    "hideHardwareSpecs": false,
    "memoryGiB": 256,
    "name": "ml.g5.16xlarge",
    "vcpuNum": 64
   },
   {
    "_defaultOrder": 52,
    "_isFastLaunch": false,
    "category": "Accelerated computing",
    "gpuNum": 4,
    "hideHardwareSpecs": false,
    "memoryGiB": 192,
    "name": "ml.g5.12xlarge",
    "vcpuNum": 48
   },
   {
    "_defaultOrder": 53,
    "_isFastLaunch": false,
    "category": "Accelerated computing",
    "gpuNum": 4,
    "hideHardwareSpecs": false,
    "memoryGiB": 384,
    "name": "ml.g5.24xlarge",
    "vcpuNum": 96
   },
   {
    "_defaultOrder": 54,
    "_isFastLaunch": false,
    "category": "Accelerated computing",
    "gpuNum": 8,
    "hideHardwareSpecs": false,
    "memoryGiB": 768,
    "name": "ml.g5.48xlarge",
    "vcpuNum": 192
   },
   {
    "_defaultOrder": 55,
    "_isFastLaunch": false,
    "category": "Accelerated computing",
    "gpuNum": 8,
    "hideHardwareSpecs": false,
    "memoryGiB": 1152,
    "name": "ml.p4d.24xlarge",
    "vcpuNum": 96
   },
   {
    "_defaultOrder": 56,
    "_isFastLaunch": false,
    "category": "Accelerated computing",
    "gpuNum": 8,
    "hideHardwareSpecs": false,
    "memoryGiB": 1152,
    "name": "ml.p4de.24xlarge",
    "vcpuNum": 96
   },
   {
    "_defaultOrder": 57,
    "_isFastLaunch": false,
    "category": "Accelerated computing",
    "gpuNum": 0,
    "hideHardwareSpecs": false,
    "memoryGiB": 32,
    "name": "ml.trn1.2xlarge",
    "vcpuNum": 8
   },
   {
    "_defaultOrder": 58,
    "_isFastLaunch": false,
    "category": "Accelerated computing",
    "gpuNum": 0,
    "hideHardwareSpecs": false,
    "memoryGiB": 512,
    "name": "ml.trn1.32xlarge",
    "vcpuNum": 128
   },
   {
    "_defaultOrder": 59,
    "_isFastLaunch": false,
    "category": "Accelerated computing",
    "gpuNum": 0,
    "hideHardwareSpecs": false,
    "memoryGiB": 512,
    "name": "ml.trn1n.32xlarge",
    "vcpuNum": 128
   }
  ],
  "instance_type": "ml.m5.xlarge",
  "kernelspec": {
   "display_name": "Python 3 (Data Science 3.0)",
   "language": "python",
   "name": "python3__SAGEMAKER_INTERNAL__arn:aws:sagemaker:us-east-1:081325390199:image/sagemaker-data-science-310-v1"
  },
  "language_info": {
   "codemirror_mode": {
    "name": "ipython",
    "version": 3
   },
   "file_extension": ".py",
   "mimetype": "text/x-python",
   "name": "python",
   "nbconvert_exporter": "python",
   "pygments_lexer": "ipython3",
   "version": "3.10.6"
  }
 },
 "nbformat": 4,
 "nbformat_minor": 4
}
