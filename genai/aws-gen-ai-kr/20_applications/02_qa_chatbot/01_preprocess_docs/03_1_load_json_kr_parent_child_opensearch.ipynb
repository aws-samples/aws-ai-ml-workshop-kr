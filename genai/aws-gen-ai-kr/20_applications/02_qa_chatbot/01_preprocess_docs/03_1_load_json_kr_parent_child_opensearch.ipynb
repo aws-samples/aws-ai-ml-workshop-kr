{
 "cells": [
  {
   "cell_type": "markdown",
   "metadata": {
    "tags": []
   },
   "source": [
    "# 한글 Parent-Child Chunk 를 OpenSearch 에 저장\n",
    "\n",
    "이 노트북은 한글 전체 문서를 Parent, Child 문서로 구분을 하여 오픈 서치 벡터스토어에 저장을 하고, 테스트를 하는 노트북 입니다. 또한 일부 문서로 검증 인덱스를 생성하여 테스트 용으로 만들기 위한 노트북 입니다.\n",
    "\n",
    "---"
   ]
  },
  {
   "cell_type": "markdown",
   "metadata": {},
   "source": [
    "## [중요] 사전 실행 노트북\n",
    "이 노트북은 아래 두개의 셋업 노트북이 먼저 실행이 되어야 합니다.\n",
    "- (1) Setup 노트북\n",
    "    - 경로는 aws-ai-ml-workshop-kr/genai/aws-gen-ai-kr/00_setup/setup.ipynb 와 같습니다.\n",
    "    -  [Setup Notebook](https://github.com/aws-samples/aws-ai-ml-workshop-kr/blob/master/genai/aws-gen-ai-kr/00_setup/setup.ipynb)\n",
    "- (2) Amazon OpenSearch 설치 노트북    \n",
    "    - 경로는 aws-ai-ml-workshop-kr/genai/aws-gen-ai-kr/00_setup/setup_opensearch.ipynb 와 같습니다.\n",
    "    - [Setup OpenSearch](https://github.com/aws-samples/aws-ai-ml-workshop-kr/blob/master/genai/aws-gen-ai-kr/00_setup/setup_opensearch.ipynb)"
   ]
  },
  {
   "cell_type": "markdown",
   "metadata": {
    "tags": []
   },
   "source": [
    "# 1. Bedrock Client 생성"
   ]
  },
  {
   "cell_type": "code",
   "execution_count": 1,
   "metadata": {
    "tags": []
   },
   "outputs": [
    {
     "name": "stdout",
     "output_type": "stream",
     "text": [
      "python path: /home/sagemaker-user/aws-ai-ml-workshop-kr/genai/aws-gen-ai-kr/20_applications/02_qa_chatbot is added\n",
      "sys.path:  ['/home/sagemaker-user/aws-ai-ml-workshop-kr/genai/aws-gen-ai-kr/20_applications/02_qa_chatbot/01_preprocess_docs', '/opt/conda/lib/python310.zip', '/opt/conda/lib/python3.10', '/opt/conda/lib/python3.10/lib-dynload', '', '/opt/conda/lib/python3.10/site-packages', '/home/sagemaker-user/aws-ai-ml-workshop-kr/genai/aws-gen-ai-kr/20_applications/02_qa_chatbot']\n"
     ]
    }
   ],
   "source": [
    "%load_ext autoreload\n",
    "%autoreload 2\n",
    "\n",
    "import sys, os\n",
    "\n",
    "def add_python_path(module_path):\n",
    "    if os.path.abspath(module_path) not in sys.path:\n",
    "        sys.path.append(os.path.abspath(module_path))\n",
    "        print(f\"python path: {os.path.abspath(module_path)} is added\")\n",
    "    else:\n",
    "        print(f\"python path: {os.path.abspath(module_path)} already exists\")\n",
    "    print(\"sys.path: \", sys.path)\n",
    "\n",
    "module_path = \"..\"\n",
    "add_python_path(module_path)\n"
   ]
  },
  {
   "cell_type": "code",
   "execution_count": 2,
   "metadata": {
    "tags": []
   },
   "outputs": [
    {
     "name": "stdout",
     "output_type": "stream",
     "text": [
      "Create new client\n",
      "  Using region: us-east-1\n",
      "  Using profile: None\n",
      "boto3 Bedrock client successfully created!\n",
      "bedrock-runtime(https://bedrock-runtime.us-east-1.amazonaws.com)\n",
      "\u001b[32m\n",
      "== FM lists ==\u001b[0m\n",
      "{'Claude-Instant-V1': 'anthropic.claude-instant-v1',\n",
      " 'Claude-V1': 'anthropic.claude-v1',\n",
      " 'Claude-V2': 'anthropic.claude-v2',\n",
      " 'Claude-V2-1': 'anthropic.claude-v2:1',\n",
      " 'Cohere-Embeddings-En': 'cohere.embed-english-v3',\n",
      " 'Cohere-Embeddings-Multilingual': 'cohere.embed-multilingual-v3',\n",
      " 'Command': 'cohere.command-text-v14',\n",
      " 'Command-Light': 'cohere.command-light-text-v14',\n",
      " 'Jurassic-2-Mid': 'ai21.j2-mid-v1',\n",
      " 'Jurassic-2-Ultra': 'ai21.j2-ultra-v1',\n",
      " 'Llama2-13b-Chat': 'meta.llama2-13b-chat-v1',\n",
      " 'Titan-Embeddings-G1': 'amazon.titan-embed-text-v1',\n",
      " 'Titan-Text-G1': 'amazon.titan-text-express-v1',\n",
      " 'Titan-Text-G1-Light': 'amazon.titan-text-lite-v1'}\n"
     ]
    }
   ],
   "source": [
    "import json\n",
    "import boto3\n",
    "from pprint import pprint\n",
    "from termcolor import colored\n",
    "from local_utils import bedrock, print_ww\n",
    "from local_utils.bedrock import bedrock_info\n",
    "\n",
    "# ---- ⚠️ Un-comment and edit the below lines as needed for your AWS setup ⚠️ ----\n",
    "\n",
    "# os.environ[\"AWS_DEFAULT_REGION\"] = \"<REGION_NAME>\"  # E.g. \"us-east-1\"\n",
    "# os.environ[\"AWS_PROFILE\"] = \"<YOUR_PROFILE>\"\n",
    "# os.environ[\"BEDROCK_ASSUME_ROLE\"] = \"<YOUR_ROLE_ARN>\"  # E.g. \"arn:aws:...\"\n",
    "# os.environ[\"BEDROCK_ENDPOINT_URL\"] = \"<YOUR_ENDPOINT_URL>\"  # E.g. \"https://...\"\n",
    "\n",
    "\n",
    "boto3_bedrock = bedrock.get_bedrock_client(\n",
    "    assumed_role=os.environ.get(\"BEDROCK_ASSUME_ROLE\", None),\n",
    "    endpoint_url=os.environ.get(\"BEDROCK_ENDPOINT_URL\", None),\n",
    "    region=os.environ.get(\"AWS_DEFAULT_REGION\", None),\n",
    ")\n",
    "\n",
    "print(colored(\"\\n== FM lists ==\", \"green\"))\n",
    "pprint(bedrock_info.get_list_fm_models())"
   ]
  },
  {
   "cell_type": "markdown",
   "metadata": {},
   "source": [
    "# 2. Embedding 모델 로딩"
   ]
  },
  {
   "cell_type": "markdown",
   "metadata": {},
   "source": [
    "## Embedding Model 선택"
   ]
  },
  {
   "cell_type": "code",
   "execution_count": 3,
   "metadata": {
    "tags": []
   },
   "outputs": [],
   "source": [
    "Use_Titan_Embedding = True\n",
    "Use_Cohere_English_Embedding = False"
   ]
  },
  {
   "cell_type": "markdown",
   "metadata": {},
   "source": [
    "## Embedding Model 로딩"
   ]
  },
  {
   "cell_type": "code",
   "execution_count": 4,
   "metadata": {
    "tags": []
   },
   "outputs": [
    {
     "data": {
      "text/plain": [
       "BedrockEmbeddings(client=<botocore.client.BedrockRuntime object at 0x7f9bf917dd80>, region_name=None, credentials_profile_name=None, model_id='amazon.titan-embed-text-v1', model_kwargs=None, endpoint_url=None, normalize=False)"
      ]
     },
     "execution_count": 4,
     "metadata": {},
     "output_type": "execute_result"
    }
   ],
   "source": [
    "# We will be using the Titan Embeddings Model to generate our Embeddings.\n",
    "from langchain.embeddings import BedrockEmbeddings\n",
    "from langchain.llms.bedrock import Bedrock\n",
    "\n",
    "if Use_Titan_Embedding:\n",
    "    llm_emb = BedrockEmbeddings(client=boto3_bedrock, model_id = \"amazon.titan-embed-text-v1\")\n",
    "    dimension = 1536\n",
    "elif Use_Cohere_English_Embedding:\n",
    "    llm_emb = BedrockEmbeddings(client=boto3_bedrock, model_id = \"cohere.embed-english-v3\")    \n",
    "    dimension = 1024\n",
    "else:\n",
    "    lim_emb = None\n",
    "\n",
    "llm_emb"
   ]
  },
  {
   "cell_type": "markdown",
   "metadata": {
    "tags": []
   },
   "source": [
    "# 3. Load all Json files"
   ]
  },
  {
   "cell_type": "code",
   "execution_count": 5,
   "metadata": {
    "tags": []
   },
   "outputs": [],
   "source": [
    "from local_utils.proc_docs import get_load_json, show_doc_json"
   ]
  },
  {
   "cell_type": "code",
   "execution_count": 6,
   "metadata": {
    "tags": []
   },
   "outputs": [
    {
     "name": "stdout",
     "output_type": "stream",
     "text": [
      ".[]\n",
      "all json files:  1\n",
      "all items:  1732\n"
     ]
    }
   ],
   "source": [
    "import glob\n",
    "\n",
    "# Specify the directory and file pattern for .txt files\n",
    "folder_path = 'data/poc/preprocessed_json/*ko.json'\n",
    "\n",
    "# List all .txt files in the specified folder\n",
    "json_files = glob.glob(folder_path)\n",
    "# json_files = ['data/poc/customer_EFOTA.json']\n",
    "\n",
    "# Load each item per json file and append to a list\n",
    "doc_json_list = []\n",
    "for file_path in json_files:\n",
    "    doc_json = get_load_json(file_path)\n",
    "    doc_json_list.append(doc_json)\n",
    "\n",
    "print(\"all json files: \", len(doc_json_list))    \n",
    "# Flatten the list of lists into a single list\n",
    "all_docs = []\n",
    "for item in doc_json_list:\n",
    "        all_docs.extend(item)\n",
    "        \n",
    "print(\"all items: \", len(all_docs))"
   ]
  },
  {
   "cell_type": "markdown",
   "metadata": {
    "tags": []
   },
   "source": [
    "# 4. Index 생성"
   ]
  },
  {
   "cell_type": "markdown",
   "metadata": {
    "tags": []
   },
   "source": [
    "## Index 이름 결정"
   ]
  },
  {
   "cell_type": "code",
   "execution_count": 7,
   "metadata": {
    "tags": []
   },
   "outputs": [],
   "source": [
    "index_name = \"v26-genai-poc-knox-kor-parent-doc-retriever\""
   ]
  },
  {
   "cell_type": "markdown",
   "metadata": {
    "tags": []
   },
   "source": [
    "## Index 스키마 정의"
   ]
  },
  {
   "cell_type": "code",
   "execution_count": 8,
   "metadata": {
    "tags": []
   },
   "outputs": [],
   "source": [
    "index_body = {\n",
    "    'settings': {\n",
    "        'analysis': {'analyzer': {'my_analyzer': {'char_filter': ['html_strip'],\n",
    "                                                    'tokenizer': 'nori',\n",
    "                                                       'filter': [\n",
    "                                                                   'my_nori_part_of_speech'\n",
    "                                                                 ],\n",
    "                                                       'type': 'custom'}},\n",
    "                                   'tokenizer': {'nori': {\n",
    "                                                  'decompound_mode': 'mixed',\n",
    "                                                  'discard_punctuation': 'true',\n",
    "                                                  'type': 'nori_tokenizer'}\n",
    "                                                },\n",
    "                                    \"filter\": {\n",
    "                                          \"my_nori_part_of_speech\": {\n",
    "                                                \"type\": \"nori_part_of_speech\",\n",
    "                                                \"stoptags\": [\n",
    "                                                    \"J\", \"XSV\", \"E\", \"IC\",\"MAJ\",\"NNB\",\n",
    "                                                    \"SP\", \"SSC\", \"SSO\",\n",
    "                                                    \"SC\",\"SE\",\"XSN\",\"XSV\",\n",
    "                                                    \"UNA\",\"NA\",\"VCP\",\"VSV\",\n",
    "                                                    \"VX\"\n",
    "                                                ]\n",
    "                                                \n",
    "                                          }\n",
    "                                    }\n",
    "                    },        \n",
    "        'index': {\n",
    "            'knn': True,\n",
    "            'knn.space_type': 'cosinesimil'  # Example space type\n",
    "        }\n",
    "    },\n",
    "    'mappings': {\n",
    "        'properties': {\n",
    "            'metadata': {\n",
    "                'properties': {\n",
    "                               'source' : {'type': 'keyword'},                    \n",
    "                               'last_updated': {'type': 'date'},\n",
    "                               'project': {'type': 'keyword'},\n",
    "                               'seq_num': {'type': 'long'},\n",
    "                               'title': {'type': 'text'},  # For full-text search\n",
    "                               'url': {'type': 'text'},  # For full-text search\n",
    "                            }\n",
    "            },            \n",
    "            'text': {\n",
    "                'analyzer': 'my_analyzer',\n",
    "                'search_analyzer': 'my_analyzer',\n",
    "                'type': 'text'\n",
    "            },\n",
    "            'vector_field': {\n",
    "                'type': 'knn_vector',\n",
    "                'dimension': 1536  # Replace with your vector dimension\n",
    "            }\n",
    "        }\n",
    "    }\n",
    "}\n"
   ]
  },
  {
   "cell_type": "markdown",
   "metadata": {
    "tags": []
   },
   "source": [
    "# 5. LangChain OpenSearch VectorStore 생성 \n",
    "## 선수 조건\n"
   ]
  },
  {
   "cell_type": "markdown",
   "metadata": {
    "tags": []
   },
   "source": [
    "## 오픈 서치 도메인 및 인증 정보 세팅\n",
    "\n",
    "- [langchain.vectorstores.opensearch_vector_search.OpenSearchVectorSearch](https://api.python.langchain.com/en/latest/vectorstores/langchain.vectorstores.opensearch_vector_search.OpenSearchVectorSearch.html)"
   ]
  },
  {
   "cell_type": "markdown",
   "metadata": {},
   "source": [
    "#### [중요] 아래에 aws parameter store 에 아래 인증정보가 먼저 입력되어 있어야 합니다."
   ]
  },
  {
   "cell_type": "code",
   "execution_count": 9,
   "metadata": {
    "tags": []
   },
   "outputs": [],
   "source": [
    "from local_utils.proc_docs import get_parameter"
   ]
  },
  {
   "cell_type": "code",
   "execution_count": 10,
   "metadata": {
    "tags": []
   },
   "outputs": [],
   "source": [
    "import boto3\n",
    "ssm = boto3.client('ssm', 'us-east-1')\n",
    "\n",
    "opensearch_domain_endpoint = get_parameter(\n",
    "    boto3_clinet = ssm,\n",
    "    parameter_name = 'knox_opensearch_domain_endpoint',\n",
    ")\n",
    "\n",
    "opensearch_user_id = get_parameter(\n",
    "    boto3_clinet = ssm,\n",
    "    parameter_name = 'knox_opensearch_userid',\n",
    ")\n",
    "\n",
    "opensearch_user_password = get_parameter(\n",
    "    boto3_clinet = ssm,\n",
    "    parameter_name = 'knox_opensearch_password',\n",
    ")\n"
   ]
  },
  {
   "cell_type": "code",
   "execution_count": 11,
   "metadata": {
    "tags": []
   },
   "outputs": [],
   "source": [
    "opensearch_domain_endpoint = opensearch_domain_endpoint\n",
    "rag_user_name = opensearch_user_id\n",
    "rag_user_password = opensearch_user_password\n",
    "\n",
    "http_auth = (rag_user_name, rag_user_password) # Master username, Master password"
   ]
  },
  {
   "cell_type": "markdown",
   "metadata": {},
   "source": [
    "## OpenSearch Client 생성"
   ]
  },
  {
   "cell_type": "code",
   "execution_count": 12,
   "metadata": {
    "tags": []
   },
   "outputs": [],
   "source": [
    "from local_utils.opensearch import opensearch_utils"
   ]
  },
  {
   "cell_type": "code",
   "execution_count": 13,
   "metadata": {
    "tags": []
   },
   "outputs": [],
   "source": [
    "aws_region = os.environ.get(\"AWS_DEFAULT_REGION\", None)\n",
    "\n",
    "os_client = opensearch_utils.create_aws_opensearch_client(\n",
    "    aws_region,\n",
    "    opensearch_domain_endpoint,\n",
    "    http_auth\n",
    ")"
   ]
  },
  {
   "cell_type": "markdown",
   "metadata": {},
   "source": [
    "## 오픈 서치 인덱스 생성 \n",
    "- 오픈 서치에 해당 인덱스가 존재하면, 삭제 합니다. "
   ]
  },
  {
   "cell_type": "code",
   "execution_count": 15,
   "metadata": {
    "tags": []
   },
   "outputs": [],
   "source": [
    "from local_utils.opensearch import opensearch_utils"
   ]
  },
  {
   "cell_type": "code",
   "execution_count": 16,
   "metadata": {
    "tags": []
   },
   "outputs": [
    {
     "name": "stdout",
     "output_type": "stream",
     "text": [
      "index_name=v26-genai-poc-knox-kor-parent-doc-retriever, exists=False\n",
      "\n",
      "Creating index:\n",
      "{'acknowledged': True, 'shards_acknowledged': True, 'index': 'v26-genai-poc-knox-kor-parent-doc-retriever'}\n",
      "Index is created\n",
      "{'v26-genai-poc-knox-kor-parent-doc-retriever': {'aliases': {},\n",
      "                                                 'mappings': {'properties': {'metadata': {'properties': {'last_updated': {'type': 'date'},\n",
      "                                                                                                         'project': {'type': 'keyword'},\n",
      "                                                                                                         'seq_num': {'type': 'long'},\n",
      "                                                                                                         'source': {'type': 'keyword'},\n",
      "                                                                                                         'title': {'type': 'text'},\n",
      "                                                                                                         'url': {'type': 'text'}}},\n",
      "                                                                             'text': {'analyzer': 'my_analyzer',\n",
      "                                                                                      'type': 'text'},\n",
      "                                                                             'vector_field': {'dimension': 1536,\n",
      "                                                                                              'type': 'knn_vector'}}},\n",
      "                                                 'settings': {'index': {'analysis': {'analyzer': {'my_analyzer': {'char_filter': ['html_strip'],\n",
      "                                                                                                                  'filter': ['my_nori_part_of_speech'],\n",
      "                                                                                                                  'tokenizer': 'nori',\n",
      "                                                                                                                  'type': 'custom'}},\n",
      "                                                                                     'filter': {'my_nori_part_of_speech': {'stoptags': ['J',\n",
      "                                                                                                                                        'XSV',\n",
      "                                                                                                                                        'E',\n",
      "                                                                                                                                        'IC',\n",
      "                                                                                                                                        'MAJ',\n",
      "                                                                                                                                        'NNB',\n",
      "                                                                                                                                        'SP',\n",
      "                                                                                                                                        'SSC',\n",
      "                                                                                                                                        'SSO',\n",
      "                                                                                                                                        'SC',\n",
      "                                                                                                                                        'SE',\n",
      "                                                                                                                                        'XSN',\n",
      "                                                                                                                                        'XSV',\n",
      "                                                                                                                                        'UNA',\n",
      "                                                                                                                                        'NA',\n",
      "                                                                                                                                        'VCP',\n",
      "                                                                                                                                        'VSV',\n",
      "                                                                                                                                        'VX'],\n",
      "                                                                                                                           'type': 'nori_part_of_speech'}},\n",
      "                                                                                     'tokenizer': {'nori': {'decompound_mode': 'mixed',\n",
      "                                                                                                            'discard_punctuation': 'true',\n",
      "                                                                                                            'type': 'nori_tokenizer'}}},\n",
      "                                                                        'creation_date': '1708859823915',\n",
      "                                                                        'knn': 'true',\n",
      "                                                                        'knn.space_type': 'cosinesimil',\n",
      "                                                                        'number_of_replicas': '1',\n",
      "                                                                        'number_of_shards': '5',\n",
      "                                                                        'provided_name': 'v26-genai-poc-knox-kor-parent-doc-retriever',\n",
      "                                                                        'replication': {'type': 'DOCUMENT'},\n",
      "                                                                        'uuid': 'l4kmRWMTQYqHPlqZAcT3SA',\n",
      "                                                                        'version': {'created': '136327827'}}}}}\n"
     ]
    }
   ],
   "source": [
    "\n",
    "index_exists = opensearch_utils.check_if_index_exists(\n",
    "    os_client,\n",
    "    index_name\n",
    ")\n",
    "\n",
    "if index_exists:\n",
    "    opensearch_utils.delete_index(\n",
    "        os_client,\n",
    "        index_name\n",
    "    )\n",
    "\n",
    "opensearch_utils.create_index(os_client, index_name, index_body)\n",
    "index_info = os_client.indices.get(index=index_name)\n",
    "print(\"Index is created\")\n",
    "pprint(index_info)"
   ]
  },
  {
   "cell_type": "markdown",
   "metadata": {
    "tags": []
   },
   "source": [
    "## 랭체인 인덱스 연결 오브젝트 생성\n",
    "\n",
    "- [langchain.vectorstores.opensearch_vector_search.OpenSearchVectorSearch](https://api.python.langchain.com/en/latest/vectorstores/langchain.vectorstores.opensearch_vector_search.OpenSearchVectorSearch.html)"
   ]
  },
  {
   "cell_type": "code",
   "execution_count": 17,
   "metadata": {
    "tags": []
   },
   "outputs": [],
   "source": [
    "from langchain.vectorstores import OpenSearchVectorSearch"
   ]
  },
  {
   "cell_type": "code",
   "execution_count": 18,
   "metadata": {
    "tags": []
   },
   "outputs": [
    {
     "data": {
      "text/plain": [
       "<langchain_community.vectorstores.opensearch_vector_search.OpenSearchVectorSearch at 0x7f9b912e3430>"
      ]
     },
     "execution_count": 18,
     "metadata": {},
     "output_type": "execute_result"
    }
   ],
   "source": [
    "vector_db = OpenSearchVectorSearch(\n",
    "    index_name=index_name,\n",
    "    opensearch_url=opensearch_domain_endpoint,\n",
    "    embedding_function=llm_emb,\n",
    "    http_auth=http_auth, # http_auth\n",
    "    is_aoss =False,\n",
    "    engine=\"faiss\",\n",
    "    space_type=\"l2\",\n",
    "    bulk_size=100000,\n",
    "    timeout=60    \n",
    ")\n",
    "vector_db"
   ]
  },
  {
   "cell_type": "markdown",
   "metadata": {
    "tags": []
   },
   "source": [
    "# 6. Chunking JSON Doc "
   ]
  },
  {
   "cell_type": "markdown",
   "metadata": {},
   "source": [
    "## Chunk Size and Chunk Overlap Size 결정"
   ]
  },
  {
   "cell_type": "code",
   "execution_count": 19,
   "metadata": {
    "tags": []
   },
   "outputs": [],
   "source": [
    "parent_chunk_size = 4096\n",
    "parent_chunk_overlap = 0\n",
    "\n",
    "child_chunk_size = 1024\n",
    "child_chunk_overlap = 256\n",
    "\n",
    "opensearch_parent_key_name = \"parent_id\"\n",
    "opensearch_family_tree_key_name = \"family_tree\"\n"
   ]
  },
  {
   "cell_type": "code",
   "execution_count": 20,
   "metadata": {
    "tags": []
   },
   "outputs": [],
   "source": [
    "from local_utils.proc_docs import create_parent_chunk, create_child_chunk"
   ]
  },
  {
   "cell_type": "markdown",
   "metadata": {},
   "source": [
    "## Parent Chunking"
   ]
  },
  {
   "cell_type": "markdown",
   "metadata": {},
   "source": [
    "create_parent_chunk() 아래와 같은 작업을 합니다.\n",
    "- all_docs 에 있는 문서를 parent_chunk_size 만큼으로 청킹 합니다.\n",
    "- Parent Chunk 에 두개의 메타 데이타를 생성 합니다.\n",
    "    - family_tree: parent\n",
    "    - parent_id : None"
   ]
  },
  {
   "cell_type": "code",
   "execution_count": 21,
   "metadata": {
    "tags": []
   },
   "outputs": [
    {
     "name": "stdout",
     "output_type": "stream",
     "text": [
      "Number of parent_chunk_docs= 1948\n"
     ]
    }
   ],
   "source": [
    "parent_chunk_docs = create_parent_chunk(all_docs, opensearch_parent_key_name, \n",
    "                                        opensearch_family_tree_key_name,parent_chunk_size, parent_chunk_overlap)\n",
    "print(f\"Number of parent_chunk_docs= {len(parent_chunk_docs)}\")\n"
   ]
  },
  {
   "cell_type": "code",
   "execution_count": 22,
   "metadata": {
    "tags": []
   },
   "outputs": [
    {
     "data": {
      "text/plain": [
       "[Document(page_content='사용 방법 동영상.Knox E-FOTA를 사용하는 방법에 대한 비디오가 포함되어 있습니다.이 섹션에는 Knox E-FOTA를 사용하는 방법에 대한 비디오가 포함되어 있습니다.Knox E-FOTA 시작하기 이 동영상은 Knox E-FOTA 콘솔을 안내하며 리셀러 등록, 디바이스 승인, 캠페인 생성, 캠페인 할당, 디바이스 상태 모니터링 방법을 보여줍니다.Knox E-FOTA에서 캠페인 만들기 다음 동영상은 삼성 디바이스에 Knox E-FOTA 캠페인을 만들고 적용하는 방법에 대한 심층적인 정보를 제공합니다.Knox E-FOTA를 VMware Workspace ONE에 연결하기 다음 비디오에서는 Knox E-FOTA를 VMware Workspace ONE과 연결하는 동시에 워크스페이스 1에서 디바이스 그룹을 추가하는 간단한 단계를 설명합니다.', metadata={'source': 'all_processed_data_ko.json', 'seq_num': 1, 'title': '사용 방법 동영상', 'url': 'https://docs.samsungknox.com/admin/efota-one/how-to-videos', 'project': 'EFOTA', 'last_updated': '2023-09-27', 'family_tree': 'parent', 'parent_id': None})]"
      ]
     },
     "execution_count": 22,
     "metadata": {},
     "output_type": "execute_result"
    }
   ],
   "source": [
    "parent_chunk_docs[0:1]"
   ]
  },
  {
   "cell_type": "markdown",
   "metadata": {},
   "source": [
    "OpenSearch 에 parent chunk 삽입"
   ]
  },
  {
   "cell_type": "code",
   "execution_count": 23,
   "metadata": {
    "tags": []
   },
   "outputs": [
    {
     "name": "stdout",
     "output_type": "stream",
     "text": [
      "CPU times: user 4.44 s, sys: 259 ms, total: 4.7 s\n",
      "Wall time: 4min 16s\n"
     ]
    }
   ],
   "source": [
    "%%time\n",
    "\n",
    "parent_ids = vector_db.add_documents(\n",
    "                        documents = parent_chunk_docs, \n",
    "                        vector_field = \"vector_field\",\n",
    "                        bulk_size = 1000000\n",
    "                    )\n",
    "\n"
   ]
  },
  {
   "cell_type": "code",
   "execution_count": 24,
   "metadata": {
    "tags": []
   },
   "outputs": [
    {
     "name": "stdout",
     "output_type": "stream",
     "text": [
      "total count docs:  {'count': 1948, '_shards': {'total': 5, 'successful': 5, 'skipped': 0, 'failed': 0}}\n"
     ]
    }
   ],
   "source": [
    "total_count_docs = opensearch_utils.get_count(os_client, index_name)\n",
    "print(\"total count docs: \", total_count_docs)\n"
   ]
  },
  {
   "cell_type": "markdown",
   "metadata": {},
   "source": [
    "삽입된 Parent Chunk 의 첫번째를 확인 합니다. family_tree, parent_id 의 값을 확인 하세요."
   ]
  },
  {
   "cell_type": "code",
   "execution_count": 25,
   "metadata": {
    "tags": []
   },
   "outputs": [
    {
     "name": "stdout",
     "output_type": "stream",
     "text": [
      "opensearch document id: 34c32591-7d58-46e0-9665-a32975c2226c\n",
      "family_tree: parent\n",
      "parent document id: None\n",
      "parent document text: \n",
      " 사용 방법 동영상.Knox E-FOTA를 사용하는 방법에 대한 비디오가 포함되어 있습니다.이 섹션에는 Knox E-FOTA를 사용하는 방법에 대한 비디오가 포함되어 있습니다.Knox E-FOTA 시작하기 이 동영상은 Knox E-FOTA 콘솔을 안내하며 리셀러 등록, 디바이스 승인, 캠페인 생성, 캠페인 할당, 디바이스 상태 모니터링 방법을 보여줍니다.Knox E-FOTA에서 캠페인 만들기 다음 동영상은 삼성 디바이스에 Knox E-FOTA 캠페인을 만들고 적용하는 방법에 대한 심층적인 정보를 제공합니다.Knox E-FOTA를 VMware Workspace ONE에 연결하기 다음 비디오에서는 Knox E-FOTA를 VMware Workspace ONE과 연결하는 동시에 워크스페이스 1에서 디바이스 그룹을 추가하는 간단한 단계를 설명합니다.\n"
     ]
    }
   ],
   "source": [
    "def show_opensearch_doc_info(response):\n",
    "    print(\"opensearch document id:\" , response[\"_id\"])\n",
    "    print(\"family_tree:\" , response[\"_source\"][\"metadata\"][\"family_tree\"])\n",
    "    print(\"parent document id:\" , response[\"_source\"][\"metadata\"][\"parent_id\"])\n",
    "    print(\"parent document text: \\n\" , response[\"_source\"][\"text\"])\n",
    "\n",
    "response = opensearch_utils.get_document(os_client, doc_id = parent_ids[0], index_name = index_name)\n",
    "show_opensearch_doc_info(response)    "
   ]
  },
  {
   "cell_type": "markdown",
   "metadata": {},
   "source": [
    "## Child Chunking"
   ]
  },
  {
   "cell_type": "markdown",
   "metadata": {},
   "source": [
    "### Child Chunk 생성\n",
    "\n",
    "아래의 create_child_chunk() 는 다음과 같은 작업을 합니다.\n",
    "- parent_chunk_docs 각각에 대해서 Child Chunk 를 생성 합니다. \n",
    "- Child Chunk 에 두개의 메타 데이타를 생성 합니다.\n",
    "    - family_tree: child\n",
    "    - parent_id : parent 에 대한 OpenSearch document id"
   ]
  },
  {
   "cell_type": "code",
   "execution_count": 26,
   "metadata": {
    "tags": []
   },
   "outputs": [
    {
     "name": "stdout",
     "output_type": "stream",
     "text": [
      "Number of child_chunk_docs= 4025\n"
     ]
    }
   ],
   "source": [
    "# child_chunk_docs = create_child_chunk(parent_chunk_docs[0:1], parent_ids)\n",
    "child_chunk_docs = create_child_chunk(child_chunk_size, child_chunk_overlap, parent_chunk_docs, parent_ids, \n",
    "                                      opensearch_parent_key_name, opensearch_family_tree_key_name)\n",
    "print(f\"Number of child_chunk_docs= {len(child_chunk_docs)}\")\n"
   ]
  },
  {
   "cell_type": "markdown",
   "metadata": {},
   "source": [
    "### 생성된 Child 와 이에 대한 Parent 정보 확인"
   ]
  },
  {
   "cell_type": "markdown",
   "metadata": {},
   "source": [
    "Child Chunk 한개에 대한 정보를 확인 합니다."
   ]
  },
  {
   "cell_type": "code",
   "execution_count": 27,
   "metadata": {
    "tags": []
   },
   "outputs": [
    {
     "data": {
      "text/plain": [
       "[Document(page_content='사용 방법 동영상.Knox E-FOTA를 사용하는 방법에 대한 비디오가 포함되어 있습니다.이 섹션에는 Knox E-FOTA를 사용하는 방법에 대한 비디오가 포함되어 있습니다.Knox E-FOTA 시작하기 이 동영상은 Knox E-FOTA 콘솔을 안내하며 리셀러 등록, 디바이스 승인, 캠페인 생성, 캠페인 할당, 디바이스 상태 모니터링 방법을 보여줍니다.Knox E-FOTA에서 캠페인 만들기 다음 동영상은 삼성 디바이스에 Knox E-FOTA 캠페인을 만들고 적용하는 방법에 대한 심층적인 정보를 제공합니다.Knox E-FOTA를 VMware Workspace ONE에 연결하기 다음 비디오에서는 Knox E-FOTA를 VMware Workspace ONE과 연결하는 동시에 워크스페이스 1에서 디바이스 그룹을 추가하는 간단한 단계를 설명합니다.', metadata={'source': 'all_processed_data_ko.json', 'seq_num': 1, 'title': '사용 방법 동영상', 'url': 'https://docs.samsungknox.com/admin/efota-one/how-to-videos', 'project': 'EFOTA', 'last_updated': '2023-09-27', 'family_tree': 'child', 'parent_id': '34c32591-7d58-46e0-9665-a32975c2226c'})]"
      ]
     },
     "execution_count": 27,
     "metadata": {},
     "output_type": "execute_result"
    }
   ],
   "source": [
    "child_chunk_docs[0:1]"
   ]
  },
  {
   "cell_type": "markdown",
   "metadata": {},
   "source": [
    "Child 에 대한 Parent 정보 확인"
   ]
  },
  {
   "cell_type": "code",
   "execution_count": 28,
   "metadata": {
    "tags": []
   },
   "outputs": [
    {
     "name": "stdout",
     "output_type": "stream",
     "text": [
      "child's parent_id:  34c32591-7d58-46e0-9665-a32975c2226c\n",
      "\n",
      "###### Search parent in OpenSearch\n",
      "opensearch document id: 34c32591-7d58-46e0-9665-a32975c2226c\n",
      "family_tree: parent\n",
      "parent document id: None\n",
      "parent document text: \n",
      " 사용 방법 동영상.Knox E-FOTA를 사용하는 방법에 대한 비디오가 포함되어 있습니다.이 섹션에는 Knox E-FOTA를 사용하는 방법에 대한 비디오가 포함되어 있습니다.Knox E-FOTA 시작하기 이 동영상은 Knox E-FOTA 콘솔을 안내하며 리셀러 등록, 디바이스 승인, 캠페인 생성, 캠페인 할당, 디바이스 상태 모니터링 방법을 보여줍니다.Knox E-FOTA에서 캠페인 만들기 다음 동영상은 삼성 디바이스에 Knox E-FOTA 캠페인을 만들고 적용하는 방법에 대한 심층적인 정보를 제공합니다.Knox E-FOTA를 VMware Workspace ONE에 연결하기 다음 비디오에서는 Knox E-FOTA를 VMware Workspace ONE과 연결하는 동시에 워크스페이스 1에서 디바이스 그룹을 추가하는 간단한 단계를 설명합니다.\n"
     ]
    }
   ],
   "source": [
    "parent_id = child_chunk_docs[0].metadata[\"parent_id\"]\n",
    "print(\"child's parent_id: \", parent_id)\n",
    "print(\"\\n###### Search parent in OpenSearch\")\n",
    "response = opensearch_utils.get_document(os_client, doc_id = parent_id, index_name = index_name)\n",
    "show_opensearch_doc_info(response)    \n"
   ]
  },
  {
   "cell_type": "markdown",
   "metadata": {},
   "source": [
    "### OpenSearch 에 Child 삽입"
   ]
  },
  {
   "cell_type": "code",
   "execution_count": 29,
   "metadata": {
    "tags": []
   },
   "outputs": [
    {
     "name": "stdout",
     "output_type": "stream",
     "text": [
      "length of child_ids:  4025\n",
      "CPU times: user 9.04 s, sys: 497 ms, total: 9.54 s\n",
      "Wall time: 7min 20s\n"
     ]
    }
   ],
   "source": [
    "%%time\n",
    "\n",
    "child_ids = vector_db.add_documents(\n",
    "                        documents = child_chunk_docs, \n",
    "                        vector_field = \"vector_field\",\n",
    "                        bulk_size = 1000000\n",
    "                    )\n",
    "\n",
    "print(\"length of child_ids: \", len(child_ids))"
   ]
  },
  {
   "cell_type": "code",
   "execution_count": 30,
   "metadata": {
    "tags": []
   },
   "outputs": [
    {
     "name": "stdout",
     "output_type": "stream",
     "text": [
      "total count docs:  {'count': 5973, '_shards': {'total': 5, 'successful': 5, 'skipped': 0, 'failed': 0}}\n"
     ]
    }
   ],
   "source": [
    "total_count_docs = opensearch_utils.get_count(os_client, index_name)\n",
    "print(\"total count docs: \", total_count_docs)\n"
   ]
  },
  {
   "cell_type": "code",
   "execution_count": 31,
   "metadata": {
    "tags": []
   },
   "outputs": [
    {
     "name": "stdout",
     "output_type": "stream",
     "text": [
      "opensearch document id: 655e2d71-2b8d-49bf-a995-739028e2b276\n",
      "family_tree: child\n",
      "parent document id: 34c32591-7d58-46e0-9665-a32975c2226c\n",
      "parent document text: \n",
      " 사용 방법 동영상.Knox E-FOTA를 사용하는 방법에 대한 비디오가 포함되어 있습니다.이 섹션에는 Knox E-FOTA를 사용하는 방법에 대한 비디오가 포함되어 있습니다.Knox E-FOTA 시작하기 이 동영상은 Knox E-FOTA 콘솔을 안내하며 리셀러 등록, 디바이스 승인, 캠페인 생성, 캠페인 할당, 디바이스 상태 모니터링 방법을 보여줍니다.Knox E-FOTA에서 캠페인 만들기 다음 동영상은 삼성 디바이스에 Knox E-FOTA 캠페인을 만들고 적용하는 방법에 대한 심층적인 정보를 제공합니다.Knox E-FOTA를 VMware Workspace ONE에 연결하기 다음 비디오에서는 Knox E-FOTA를 VMware Workspace ONE과 연결하는 동시에 워크스페이스 1에서 디바이스 그룹을 추가하는 간단한 단계를 설명합니다.\n"
     ]
    }
   ],
   "source": [
    "response = opensearch_utils.get_document(os_client, doc_id = child_ids[0], index_name = index_name)\n",
    "show_opensearch_doc_info(response)    "
   ]
  },
  {
   "cell_type": "markdown",
   "metadata": {},
   "source": [
    "# 7. 검색 테스트"
   ]
  },
  {
   "cell_type": "markdown",
   "metadata": {},
   "source": [
    "## Lexical 검색"
   ]
  },
  {
   "cell_type": "code",
   "execution_count": 32,
   "metadata": {
    "tags": []
   },
   "outputs": [
    {
     "name": "stdout",
     "output_type": "stream",
     "text": [
      "{'query': {'bool': {'filter': {'term': {'metadata.family_tree': 'child'}},\n",
      "                    'must': [{'match': {'text': {'minimum_should_match': '0%',\n",
      "                                                 'operator': 'or',\n",
      "                                                 'query': '{q}'}}}]}}}\n"
     ]
    }
   ],
   "source": [
    "# q = \"how to add image\"\n",
    "q = \"이미지를 어떻게 추가해\"\n",
    "query ={'query': \n",
    "        {'bool': {'must': \n",
    "                  [{'match': \n",
    "                    {'text': \n",
    "                     {'query': \"{q}\", 'minimum_should_match': '0%', 'operator': 'or'}}}], \n",
    "                  'filter': {\n",
    "                    \"term\": {\n",
    "                      \"metadata.family_tree\": \"child\"\n",
    "                    }                      \n",
    "                  }\n",
    "                 }\n",
    "        }\n",
    "       }\n",
    "pprint(query)"
   ]
  },
  {
   "cell_type": "code",
   "execution_count": 33,
   "metadata": {
    "tags": []
   },
   "outputs": [
    {
     "name": "stdout",
     "output_type": "stream",
     "text": [
      "There is no response\n"
     ]
    }
   ],
   "source": [
    "# query = \"how to add image\"\n",
    "# query = opensearch_utils.get_query(\n",
    "#     query=query\n",
    "# )\n",
    "\n",
    "response = opensearch_utils.search_document(os_client, query, index_name)\n",
    "opensearch_utils.parse_keyword_response(response, show_size=3)"
   ]
  },
  {
   "cell_type": "markdown",
   "metadata": {
    "tags": []
   },
   "source": [
    "## 시맨틱 검색"
   ]
  },
  {
   "cell_type": "code",
   "execution_count": 34,
   "metadata": {
    "tags": []
   },
   "outputs": [
    {
     "data": {
      "text/plain": [
       "[Document(page_content='사용자 지정 애니메이션 파일을 생성합니다.순서대로 재생할 이미지를 업로드하고 원하는 이미지 방향, 디더링 및 크기를 설정하여 사용자 지정 장치 부팅 애니메이션을 만들 수 있습니다.애니메이션을 생성하고 업로드한 후에는 프로필에 추가하고 장치에 할당하기 전에 애니메이션을 미리 보고 확인할 수 있습니다.애니메이션 만들기 맞춤 애니메이션을 만들려면: 1.왼쪽 탐색 메뉴에서 라이브러리를 클릭하고 미디어 탭을 클릭합니다. 2.오른쪽 상단에서 미디어 추가를 클릭합니다. 3.애니메이션 생성을 클릭하여 새 애니메이션 시퀀스를 생성합니다. 4.PNG 시퀀스 업로드 화면에서 애니메이션 프레임으로 사용할 최소 2개, 최대 99개의 PNG 이미지를 업로드합니다.업로드하는 PNG 파일의 크기 및 해상도가 대상 장치의 화면 크기 및 디스플레이 해상도와 동일해야 최적의 디스플레이가 보장됩니다.5.애니메이션에 이름을 지정하고 다음 설정을 구성합니다. 회전 - 애니메이션의 회전 각도를 선택합니다.크기 조정 - 애니메이션이 장치에 표시되는 방식을 선택합니다.디더링 - 파일 크기를 줄이는 데 사용되는 디더링 양을 지정합니다.설정이 높을수록 파일 크기는 줄어들지만 애니메이션 품질에는 영향을 미칠 수 있습니다. 6.완료되면 애니메이션 생성을 클릭하여 애니메이션을 생성합니다.애니메이션 업로드 기존 애니메이션을 QMG 파일로 업로드할 수도 있습니다.미디어 추가 화면에서 애니메이션 업로드를 선택하고 애니메이션 파일을 업로드합니다..QMG 형식의 파일만 지원됩니다.미디어 파일 삭제 라이브러리에서 미디어 파일을 삭제하려면: 1.왼쪽 탐색 메뉴에서 라이브러리를 클릭합니다. 2.현재 프로필에 사용되고 있지 않은 미디어 파일을 선택합니다. 3.오른쪽 상단에서 미디어 삭제를 클릭합니다. 4.파일 삭제를 클릭하여 파일 삭제를 확인합니다.', metadata={'source': 'all_processed_data_ko.json', 'seq_num': 382, 'title': '사용자 지정 애니메이션 파일 만들기', 'url': 'https://docs.samsungknox.com/admin/knox-configure/how-to-guides/library/create-a-custom-animation-file', 'project': 'KC', 'last_updated': '2023-07-26', 'family_tree': 'parent', 'parent_id': None}),\n",
       " Document(page_content='사용자 지정 애니메이션 파일을 생성합니다.순서대로 재생할 이미지를 업로드하고 원하는 이미지 방향, 디더링 및 크기를 설정하여 사용자 지정 장치 부팅 애니메이션을 만들 수 있습니다.애니메이션을 생성하고 업로드한 후에는 프로필에 추가하고 장치에 할당하기 전에 애니메이션을 미리 보고 확인할 수 있습니다.애니메이션 만들기 맞춤 애니메이션을 만들려면: 1.왼쪽 탐색 메뉴에서 라이브러리를 클릭하고 미디어 탭을 클릭합니다. 2.오른쪽 상단에서 미디어 추가를 클릭합니다. 3.애니메이션 생성을 클릭하여 새 애니메이션 시퀀스를 생성합니다. 4.PNG 시퀀스 업로드 화면에서 애니메이션 프레임으로 사용할 최소 2개, 최대 99개의 PNG 이미지를 업로드합니다.업로드하는 PNG 파일의 크기 및 해상도가 대상 장치의 화면 크기 및 디스플레이 해상도와 동일해야 최적의 디스플레이가 보장됩니다.5.애니메이션에 이름을 지정하고 다음 설정을 구성합니다. 회전 - 애니메이션의 회전 각도를 선택합니다.크기 조정 - 애니메이션이 장치에 표시되는 방식을 선택합니다.디더링 - 파일 크기를 줄이는 데 사용되는 디더링 양을 지정합니다.설정이 높을수록 파일 크기는 줄어들지만 애니메이션 품질에는 영향을 미칠 수 있습니다. 6.완료되면 애니메이션 생성을 클릭하여 애니메이션을 생성합니다.애니메이션 업로드 기존 애니메이션을 QMG 파일로 업로드할 수도 있습니다.미디어 추가 화면에서 애니메이션 업로드를 선택하고 애니메이션 파일을 업로드합니다..QMG 형식의 파일만 지원됩니다.미디어 파일 삭제 라이브러리에서 미디어 파일을 삭제하려면: 1.왼쪽 탐색 메뉴에서 라이브러리를 클릭합니다. 2.현재 프로필에 사용되고 있지 않은 미디어 파일을 선택합니다. 3.오른쪽 상단에서 미디어 삭제를 클릭합니다. 4.파일 삭제를 클릭하여 파일 삭제를 확인합니다.', metadata={'source': 'all_processed_data_ko.json', 'seq_num': 382, 'title': '사용자 지정 애니메이션 파일 만들기', 'url': 'https://docs.samsungknox.com/admin/knox-configure/how-to-guides/library/create-a-custom-animation-file', 'project': 'KC', 'last_updated': '2023-07-26', 'family_tree': 'child', 'parent_id': '45d52989-3185-4c46-a4cf-aca89afa5c89'})]"
      ]
     },
     "execution_count": 34,
     "metadata": {},
     "output_type": "execute_result"
    }
   ],
   "source": [
    "vector_db.similarity_search(q, k=2)"
   ]
  },
  {
   "cell_type": "markdown",
   "metadata": {},
   "source": [
    "# 8. 검증 인덱스 생성"
   ]
  },
  {
   "cell_type": "markdown",
   "metadata": {},
   "source": [
    "## Index 이름 결정"
   ]
  },
  {
   "cell_type": "code",
   "execution_count": 35,
   "metadata": {
    "tags": []
   },
   "outputs": [],
   "source": [
    "eval_index_name = \"v26-genai-poc-knox-kor-eval-parent-doc-retriever\""
   ]
  },
  {
   "cell_type": "markdown",
   "metadata": {},
   "source": [
    "## Sampling"
   ]
  },
  {
   "cell_type": "code",
   "execution_count": 36,
   "metadata": {
    "tags": []
   },
   "outputs": [
    {
     "name": "stdout",
     "output_type": "stream",
     "text": [
      "eval docs:  86\n"
     ]
    },
    {
     "data": {
      "text/plain": [
       "[Document(page_content='사용 방법 동영상.Knox E-FOTA를 사용하는 방법에 대한 비디오가 포함되어 있습니다.이 섹션에는 Knox E-FOTA를 사용하는 방법에 대한 비디오가 포함되어 있습니다.Knox E-FOTA 시작하기 이 동영상은 Knox E-FOTA 콘솔을 안내하며 리셀러 등록, 디바이스 승인, 캠페인 생성, 캠페인 할당, 디바이스 상태 모니터링 방법을 보여줍니다.Knox E-FOTA에서 캠페인 만들기 다음 동영상은 삼성 디바이스에 Knox E-FOTA 캠페인을 만들고 적용하는 방법에 대한 심층적인 정보를 제공합니다.Knox E-FOTA를 VMware Workspace ONE에 연결하기 다음 비디오에서는 Knox E-FOTA를 VMware Workspace ONE과 연결하는 동시에 워크스페이스 1에서 디바이스 그룹을 추가하는 간단한 단계를 설명합니다.', metadata={'source': 'all_processed_data_ko.json', 'seq_num': 1, 'title': '사용 방법 동영상', 'url': 'https://docs.samsungknox.com/admin/efota-one/how-to-videos', 'project': 'EFOTA', 'last_updated': '2023-09-27'}),\n",
       " Document(page_content='녹스 E-FOTA.Knox E-FOTA를 사용하면 기업 IT 관리자가 사용자 개입 없이 OS 버전과 보안 업데이트를 기업 디바이스에 원격으로 배포할 수 있습니다.배포 전에 업데이트를 테스트하여 사내 앱과 새 OS 버전 간의 호환성을 확인하고, 최신 보안 패치를 일정에 따라 배포하여 엔터프라이즈 디바이스의 보안을 강화하세요.대상 고객 무료 체험하기 이 문서의 대상: 시스템 보안 설계자 — Knox E-FOTA의 작동 원리와 Knox E-FOTA를 사용하여 엔터프라이즈 디바이스를 업데이트하는 방법을 알아보세요.IT 관리자 - 엔터프라이즈 디바이스의 무선 업데이트를 관리하는 방법을 알아보세요.솔루션을 사용해 보세요. Knox E-FOTA를 사용하여 모바일 업데이트 워크플로를 간소화하세요.버전 제어 관리를 활성화하고 업무 시간 외에 업데이트가 발생하도록 설정하여 OS 업데이트를 배포하여 생산성에 지장을 주지 않도록 하세요.튜토리얼 시작하기 Knox E-FOTA 소개 Knox E-FOTA\"는 삼성 모바일 디바이스의 OS 버전을 제어하여 비용 효율성을 극대화하는 엔터프라이즈 솔루션입니다.IT 관리자는 이를 통해 다음과 같은 작업을 수행할 수 있습니다. 일정에 따라 최신 보안 패치를 디바이스에 배포하세요.배포 전에 업데이트를 테스트하여 사내 앱과 새 OS 버전 간의 호환성을 확인하십시오.주요 기능, 강제 업데이트 - 모든 장치에서 동일한 OS 버전을 사용할 수 있도록 강제 업데이트를 배포하여 장치 관리 환경을 간소화합니다.사용자 개입 없이 업데이트를 푸시할 수 있습니다.선택적 OS\"버전 - 최신 OS 버전이 사내 앱과 항상 호환되는 것은 아닙니다.디바이스에 배포할 OS 버전을 제어하여 운영 연속성을 보장하세요.최신 OS 버전을 배포할 준비가 될 때까지 해당 버전으로 잠글 수 있습니다.정기 업데이트 - 업무 시간 외에 펌웨어 업데이트가 이루어지도록 예약하여 업무 중단을 최소화합니다.모든 기능의 전체 목록을 보려면 Knox E-FOTA의 제품 페이지를 방문하십시오.이점 1.소프트웨어 호환성 테스트 - 내부 앱과 새 OS 버전 간의 호환성을 보장하기 위해 소프트웨어를 테스트한 후에만 업데이트를 적용합니다.이를 통해 호환성 문제에 대한 IT 지원의 필요성을 최소화할 수 있습니다. 2.장치 보안 - 검증된 최신 펌웨어를 보안 유지관리 릴리스 (SMR) 라고도 하는 최신 보안 패치와 함께 사용자 개입 없이 즉시 회사에서 사용할 수 있는 모든 장치에 배포합니다. 3.효율적인 배포 - 디바이스가 업데이트를 다운로드하고 설치하는 시간을 지정하여 업무 중단을 최소화함으로써 생산성을 유지합니다.IT 관리자는 운영 연속성을 보장하기 위해 시차를 두고 업데이트 (예: 지역별) 를 배포할 수 있습니다. 4.효율적인 장치 관리 - 강제 업데이트를 원격으로 배포하면 모든 엔터프라이즈 장치에서 항상 검증된 최신 OS 버전을 실행할 수 있습니다.모든 디바이스를 한 눈에 파악할 수 있어 IT 관리자가 디바이스를 더 효율적으로 관리할 수 있습니다.사일런트 업데이트는 사용자 개입이 필요하지 않으므로 연기하거나 거부할 수 없습니다.Knox E-FOTA는 어떻게 작동하나요?FOTA (Firmware-over-the-Air) 는 IT 관리자가 효율적이고 안전하게 펌웨어 업데이트를 엔터프라이즈 모바일 디바이스에 푸시할 수 있는 서비스입니다.일반적으로 서비스 제공업체는 삼성 B2C (Business-to-Consumer) FOTA 서버를 통해 최신 펌웨어 업데이트를 디바이스에 푸시합니다.문제는 최신 펌웨어가 회사의 사내 앱과 항상 호환되는 것은 아니라는 점입니다.Knox E-FOTA가 없는 기업은 다음을 수행해야만 이 문제를 해결할 수 있습니다. 항상 최신 OS 버전으로 업데이트하고, EMM Knox E-FOTA를 사용하여 모든 OS 업데이트를 차단하십시오.\"관리자가 최신 버전이 아니더라도 배포할 펌웨어 버전을 선택할 수 있습니다.그러면 디바이스가 해당 버전으로 잠깁니다.관리자는 최신 펌웨어 버전에서 호환성 테스트를 수행한 후 기기를 테스트된 버전으로 업데이트할 수 있습니다.Knox E-FOTA를 통해 기업은 삼성 B2B (Business-to-Business) FOTA\"서버에서 펌웨어 업데이트를 푸시합니다. 하지만 삼성의 Knox E-FOTA 서비스를 통하지 않고 자체 서버에서 펌웨어 업데이트를 제공하는 AT&T 및 Verizon과 같은 예외도 있습니다.그러면 B2B FOTA 서버가 디바이스 정보를 B2C FOTA 서버와 동기화합니다.#Downloading 펌웨어 버전 Knox E-FOTA를 통해 지난 12개월 이내에 일반 삼성 FOTA 서비스를 통해 출시된 공식 펌웨어 목록에 액세스할 수 있습니다.추가 상담을 통해 추가 펌웨어 목록을 제공할 수 있습니다.펌웨어 업데이트를 푸시할 때 삼성은 현재 펌웨어 버전에서 대상 버전으로 업데이트하기 위한 델타 파일 또는 변경 파일을 생성합니다.그런 다음 일반 Samsung FOTA 서버를 통해 릴리스되고 무선으로 엔터프라이즈 장치에 전달됩니다.펌웨어 파일은 Knox E-FOTA 서버에서 평균 12개월 동안 사용할 수 있습니다.경우에 따라, 특히 주요 Android OS 버전으로 디바이스를 업그레이드할 때 대상 펌웨어 버전에 도달하기 위해 여러 델타 파일을 다운로드해야 할 수 있습니다.Knox E-FOTA\"Advanced에서는 대상 버전에 도달하기 위해 여러 캠페인을 점진적으로 실행해야 할 수 있습니다.Knox E-FOTA와 MDM의 “Knox E-FOTA”에서는 하나의 캠페인만 필요합니다. 필요한 델타 파일은 순차적으로 자동으로 설치됩니다.사용 중인 Knox E-FOTA 에디션에 관계없이 이 경우 디바이스가 여러 번 재부팅됩니다.Knox E-FOTA 에디션 비교하기 Knox E-FOTA 서비스에는 Knox E-FOTA, Knox E-FOTA\"어드밴스드, MDM용 Knox E-FOTA의 세 가지 에디션이 있습니다. 이 섹션에서는 Knox E-FOTA 서비스의 주요 차별화 기능에 대해 설명합니다.MDM에서 Knox E-FOTA 기능 사용 Knox E-FOTA Advanced Knox E-FOTA 설명 선택적 OS 버전 ✔ ✔ ✔ 디바이스에 배포할 OS 버전을 선택하고, 내부 앱으로 검증되지 않은 OS 버전에 대한 업데이트를 방지합니다.강제 업데이트 (무음) ✔ ✔ ✔ 사용자 개입 없이 장치에 OS 업데이트를 배포할 수 있습니다.예약 업데이트 ✔ ✔ ✔ OS 업데이트를 다운로드하고 설치할 특정 날짜 및 시간 범위 (예: 업무 시간 외) 를 설정합니다.강제 업데이트 (중요) ✔ ✔ 중요한 작업이 진행 중인 동안 사용자가 업데이트를 연기할 수 있도록 허용합니다 (최대 지연 기간 포함).사용자는 업데이트를 거부할 수 없습니다.추가 캠페인 옵션 ✔ ✔ 다음 옵션 설정: 로밍 중 펌웨어 다운로드 허용.충전 도크에 연결된 경우에만 설치를 허용합니다.캠페인 상태 보기 기능 ✔ ✔ 캠페인 운영 상태 보기.디바이스 및 캠페인 상태에 대한 모니터링 대시보드 위젯은 Knox E-FOTA Advanced에서 사용할 수 있습니다. ✔ 대시보드를 통해 Knox E-FOTA의 다양한 영역을 모니터링할 수 있습니다.독립 웹 콘솔 ✔ ✔ 웹 포털을 통해 관리 작업을 수행합니다.네트워크 대역폭 제어 ✔ ✔ 설정된 최대 대역폭 내에서 펌웨어 업데이트를 배포합니다.Wi-Fi 전용 모드 ✔ ✔ Wi-Fi를 통해서만 다운로드 및 업데이트가 이루어지도록 설정하여 셀룰러 사용 비용을 절감할 수 있습니다.캠페인당 여러 모델 업데이트 가능 ✔ 단일 캠페인에서 여러 장치 모델을 서로 다른 펌웨어 릴리스에 할당할 수 있습니다.캠페인당 순차 업데이트 ✔ ✔ 단 하나의 캠페인으로 모든 버전에서 대상 버전으로 업데이트.즉, 기기를 현재 버전에서 대상 버전으로 점진적으로 업데이트하기 위해 여러 캠페인을 만들 필요가 없습니다.장치 그룹 및 조직 정보를 EMM과 동기화하는 기능 ✔ ✔ EMM에서 장치 그룹을 가져와서 장치 관리 작업을 간소화합니다.Knox E-FOTA를 EMM에 연결하면 디바이스 그룹이 동기화되지 않도록 할 수 있습니다.디바이스 정보는 EMM에서 관리되므로 Knox E-FOTA 관리자가 수동으로 관리할 필요가 없습니다.EMM을 통한 자동 클라이언트 앱 설치 ✔ 특정 EMM (예: Knox Manage 및 VMware) 의 경우 Knox E-FOTA 관리 포털을 통해 Knox E-FOTA 클라이언트 앱을 디바이스로 푸시하여 온보딩 프로세스를 간소화할 수 있습니다.푸시 및 폴 푸싱은 MDM의 녹스 E-FOTA에서 지원됩니다.폴링은 Knox E-FOTA Advanced에서 지원됩니다. ✔ 캠페인 업데이트를 Knox E-FOTA 서버에서 지정된 디바이스로 즉시 푸시하세요.디바이스가 Knox E-FOTA 서버를 폴링할 때까지 기다릴 필요가 없습니다.캠페인 업데이트를 위해 서버를 폴링하세요.클라이언트 앱 (즉, 기기의 에이전트) 은 정책을 정기적으로 확인하고 제대로 적용되지 않았을 수 있는 캠페인 업데이트를 적용합니다. .Knox 배포 프로그램 (KDP) ✔ 리셀러는 디바이스를 Knox E-FOTA에 자동으로 업로드할 수 있으므로 사용자가 직접 추가하지 않아도 됩니다.업로드를 자동 승인하고 디바이스를 기본 캠페인에 자동 할당할 수 있습니다.이 기능은 KDP를 통해서만 사용할 수 있습니다.Knox E-FOTA 클라이언트 앱 기본 설치 ✔ 리셀러를 통해 구매한 디바이스 중 Android P 이상이 설치된 디바이스의 경우, 즉시 사용 시 클라이언트 앱이 자동으로 설치됩니다.여러 라이선스 지원 ✔ 기존 라이선스를 활성 상태로 유지하면서 필요에 따라 라이선스를 추가하여 더 많은 디바이스를 지원할 수 있습니다.통합 관리자 액세스 ✔ SamsungKnox.com에 한 번 로그인하면 구독 중인 모든 Knox Cloud Services (KCS) 제품에 액세스할 수 있습니다.일관된 사용자 경험 ✔ Knox E-FOTA 관리 포털에는 삼성녹스닷컴의 다른 KCS 제품과 일치하는 사용자 인터페이스가 있습니다.', metadata={'source': 'all_processed_data_ko.json', 'seq_num': 2, 'title': '녹스 E-FOTA', 'url': 'https://docs.samsungknox.com/admin/efota-one', 'project': 'EFOTA', 'last_updated': '2023-07-26'})]"
      ]
     },
     "execution_count": 36,
     "metadata": {},
     "output_type": "execute_result"
    }
   ],
   "source": [
    "import random\n",
    "def get_sampling_doc(seed, ratio, docs):\n",
    "\n",
    "    random.seed(seed)\n",
    "    \n",
    "    eval_docs = docs[:int(len(docs)*ratio)]\n",
    "    \n",
    "    return eval_docs\n",
    "    \n",
    "eval_docs = get_sampling_doc(seed=200, ratio=0.05, docs= all_docs)\n",
    "print(\"eval docs: \", len(eval_docs))\n",
    "eval_docs[0:2]\n",
    "    \n",
    "    "
   ]
  },
  {
   "cell_type": "markdown",
   "metadata": {},
   "source": [
    "## 오픈 서치 인덱스 유무에 따라 삭제\n",
    "오픈 서치에 해당 인덱스가 존재하면, 삭제 합니다. "
   ]
  },
  {
   "cell_type": "code",
   "execution_count": 37,
   "metadata": {
    "tags": []
   },
   "outputs": [
    {
     "name": "stdout",
     "output_type": "stream",
     "text": [
      "index_name=v26-genai-poc-knox-kor-eval-parent-doc-retriever, exists=False\n",
      "\n",
      "Creating index:\n",
      "{'acknowledged': True, 'shards_acknowledged': True, 'index': 'v26-genai-poc-knox-kor-eval-parent-doc-retriever'}\n",
      "Index is created\n",
      "{'v26-genai-poc-knox-kor-eval-parent-doc-retriever': {'aliases': {},\n",
      "                                                      'mappings': {'properties': {'metadata': {'properties': {'last_updated': {'type': 'date'},\n",
      "                                                                                                              'project': {'type': 'keyword'},\n",
      "                                                                                                              'seq_num': {'type': 'long'},\n",
      "                                                                                                              'source': {'type': 'keyword'},\n",
      "                                                                                                              'title': {'type': 'text'},\n",
      "                                                                                                              'url': {'type': 'text'}}},\n",
      "                                                                                  'text': {'analyzer': 'my_analyzer',\n",
      "                                                                                           'type': 'text'},\n",
      "                                                                                  'vector_field': {'dimension': 1536,\n",
      "                                                                                                   'type': 'knn_vector'}}},\n",
      "                                                      'settings': {'index': {'analysis': {'analyzer': {'my_analyzer': {'char_filter': ['html_strip'],\n",
      "                                                                                                                       'filter': ['my_nori_part_of_speech'],\n",
      "                                                                                                                       'tokenizer': 'nori',\n",
      "                                                                                                                       'type': 'custom'}},\n",
      "                                                                                          'filter': {'my_nori_part_of_speech': {'stoptags': ['J',\n",
      "                                                                                                                                             'XSV',\n",
      "                                                                                                                                             'E',\n",
      "                                                                                                                                             'IC',\n",
      "                                                                                                                                             'MAJ',\n",
      "                                                                                                                                             'NNB',\n",
      "                                                                                                                                             'SP',\n",
      "                                                                                                                                             'SSC',\n",
      "                                                                                                                                             'SSO',\n",
      "                                                                                                                                             'SC',\n",
      "                                                                                                                                             'SE',\n",
      "                                                                                                                                             'XSN',\n",
      "                                                                                                                                             'XSV',\n",
      "                                                                                                                                             'UNA',\n",
      "                                                                                                                                             'NA',\n",
      "                                                                                                                                             'VCP',\n",
      "                                                                                                                                             'VSV',\n",
      "                                                                                                                                             'VX'],\n",
      "                                                                                                                                'type': 'nori_part_of_speech'}},\n",
      "                                                                                          'tokenizer': {'nori': {'decompound_mode': 'mixed',\n",
      "                                                                                                                 'discard_punctuation': 'true',\n",
      "                                                                                                                 'type': 'nori_tokenizer'}}},\n",
      "                                                                             'creation_date': '1708860737280',\n",
      "                                                                             'knn': 'true',\n",
      "                                                                             'knn.space_type': 'cosinesimil',\n",
      "                                                                             'number_of_replicas': '1',\n",
      "                                                                             'number_of_shards': '5',\n",
      "                                                                             'provided_name': 'v26-genai-poc-knox-kor-eval-parent-doc-retriever',\n",
      "                                                                             'replication': {'type': 'DOCUMENT'},\n",
      "                                                                             'uuid': '0VJsveL1S82bBuIHVsfHTg',\n",
      "                                                                             'version': {'created': '136327827'}}}}}\n"
     ]
    }
   ],
   "source": [
    "index_exists = opensearch_utils.check_if_index_exists(\n",
    "    os_client,\n",
    "    eval_index_name\n",
    ")\n",
    "\n",
    "if index_exists:\n",
    "    opensearch_utils.delete_index(\n",
    "        os_client,\n",
    "        eval_index_name\n",
    "    )\n",
    "    \n",
    "opensearch_utils.create_index(os_client, eval_index_name, index_body)\n",
    "index_info = os_client.indices.get(index=eval_index_name)\n",
    "print(\"Index is created\")\n",
    "pprint(index_info)    "
   ]
  },
  {
   "cell_type": "markdown",
   "metadata": {},
   "source": [
    "## 검증 인덱스 연결 오브젝트 생성"
   ]
  },
  {
   "cell_type": "code",
   "execution_count": 38,
   "metadata": {
    "tags": []
   },
   "outputs": [
    {
     "data": {
      "text/plain": [
       "<langchain_community.vectorstores.opensearch_vector_search.OpenSearchVectorSearch at 0x7f9b9132fdf0>"
      ]
     },
     "execution_count": 38,
     "metadata": {},
     "output_type": "execute_result"
    }
   ],
   "source": [
    "eval_vector_db = OpenSearchVectorSearch(\n",
    "    index_name= eval_index_name,\n",
    "    opensearch_url=opensearch_domain_endpoint,\n",
    "    embedding_function=llm_emb,\n",
    "    http_auth=http_auth, # http_auth\n",
    "    is_aoss =False,\n",
    "    engine=\"faiss\",\n",
    "    space_type=\"l2\",\n",
    "    bulk_size=100000,\n",
    "    timeout=60    \n",
    ")\n",
    "eval_vector_db"
   ]
  },
  {
   "cell_type": "markdown",
   "metadata": {},
   "source": [
    "## Parent Chunking"
   ]
  },
  {
   "cell_type": "code",
   "execution_count": 39,
   "metadata": {
    "tags": []
   },
   "outputs": [
    {
     "name": "stdout",
     "output_type": "stream",
     "text": [
      "Number of parent_chunk_docs= 92\n"
     ]
    }
   ],
   "source": [
    "parent_chunk_docs = create_parent_chunk(eval_docs, opensearch_parent_key_name, \n",
    "                                        opensearch_family_tree_key_name,parent_chunk_size, \n",
    "                                        parent_chunk_overlap)\n",
    "print(f\"Number of parent_chunk_docs= {len(parent_chunk_docs)}\")\n"
   ]
  },
  {
   "cell_type": "code",
   "execution_count": 40,
   "metadata": {
    "tags": []
   },
   "outputs": [
    {
     "data": {
      "text/plain": [
       "[Document(page_content='사용 방법 동영상.Knox E-FOTA를 사용하는 방법에 대한 비디오가 포함되어 있습니다.이 섹션에는 Knox E-FOTA를 사용하는 방법에 대한 비디오가 포함되어 있습니다.Knox E-FOTA 시작하기 이 동영상은 Knox E-FOTA 콘솔을 안내하며 리셀러 등록, 디바이스 승인, 캠페인 생성, 캠페인 할당, 디바이스 상태 모니터링 방법을 보여줍니다.Knox E-FOTA에서 캠페인 만들기 다음 동영상은 삼성 디바이스에 Knox E-FOTA 캠페인을 만들고 적용하는 방법에 대한 심층적인 정보를 제공합니다.Knox E-FOTA를 VMware Workspace ONE에 연결하기 다음 비디오에서는 Knox E-FOTA를 VMware Workspace ONE과 연결하는 동시에 워크스페이스 1에서 디바이스 그룹을 추가하는 간단한 단계를 설명합니다.', metadata={'source': 'all_processed_data_ko.json', 'seq_num': 1, 'title': '사용 방법 동영상', 'url': 'https://docs.samsungknox.com/admin/efota-one/how-to-videos', 'project': 'EFOTA', 'last_updated': '2023-09-27', 'family_tree': 'parent', 'parent_id': None})]"
      ]
     },
     "execution_count": 40,
     "metadata": {},
     "output_type": "execute_result"
    }
   ],
   "source": [
    "parent_chunk_docs[0:1]"
   ]
  },
  {
   "cell_type": "code",
   "execution_count": 41,
   "metadata": {
    "tags": []
   },
   "outputs": [
    {
     "name": "stdout",
     "output_type": "stream",
     "text": [
      "CPU times: user 227 ms, sys: 16.2 ms, total: 243 ms\n",
      "Wall time: 12.2 s\n"
     ]
    }
   ],
   "source": [
    "%%time\n",
    "\n",
    "parent_ids = eval_vector_db.add_documents(\n",
    "                        documents = parent_chunk_docs, \n",
    "                        vector_field = \"vector_field\",\n",
    "                        bulk_size = 1000000\n",
    "                    )\n",
    "\n"
   ]
  },
  {
   "cell_type": "code",
   "execution_count": 42,
   "metadata": {
    "tags": []
   },
   "outputs": [
    {
     "name": "stdout",
     "output_type": "stream",
     "text": [
      "total count docs:  {'count': 92, '_shards': {'total': 5, 'successful': 5, 'skipped': 0, 'failed': 0}}\n"
     ]
    }
   ],
   "source": [
    "total_count_docs = opensearch_utils.get_count(os_client, eval_index_name)\n",
    "print(\"total count docs: \", total_count_docs)\n"
   ]
  },
  {
   "cell_type": "code",
   "execution_count": 43,
   "metadata": {
    "tags": []
   },
   "outputs": [
    {
     "name": "stdout",
     "output_type": "stream",
     "text": [
      "opensearch document id: d46ec1ef-61ed-4b4b-a3da-7cce336d2624\n",
      "family_tree: parent\n",
      "parent document id: None\n",
      "parent document text: \n",
      " 사용 방법 동영상.Knox E-FOTA를 사용하는 방법에 대한 비디오가 포함되어 있습니다.이 섹션에는 Knox E-FOTA를 사용하는 방법에 대한 비디오가 포함되어 있습니다.Knox E-FOTA 시작하기 이 동영상은 Knox E-FOTA 콘솔을 안내하며 리셀러 등록, 디바이스 승인, 캠페인 생성, 캠페인 할당, 디바이스 상태 모니터링 방법을 보여줍니다.Knox E-FOTA에서 캠페인 만들기 다음 동영상은 삼성 디바이스에 Knox E-FOTA 캠페인을 만들고 적용하는 방법에 대한 심층적인 정보를 제공합니다.Knox E-FOTA를 VMware Workspace ONE에 연결하기 다음 비디오에서는 Knox E-FOTA를 VMware Workspace ONE과 연결하는 동시에 워크스페이스 1에서 디바이스 그룹을 추가하는 간단한 단계를 설명합니다.\n"
     ]
    }
   ],
   "source": [
    "response = opensearch_utils.get_document(os_client, doc_id = parent_ids[0], index_name = eval_index_name)\n",
    "show_opensearch_doc_info(response)    "
   ]
  },
  {
   "cell_type": "markdown",
   "metadata": {},
   "source": [
    "## Child Chunking"
   ]
  },
  {
   "cell_type": "code",
   "execution_count": 44,
   "metadata": {},
   "outputs": [
    {
     "name": "stdout",
     "output_type": "stream",
     "text": [
      "Number of child_chunk_docs= 179\n"
     ]
    }
   ],
   "source": [
    "# child_chunk_docs = create_child_chunk(parent_chunk_docs[0:1], parent_ids)\n",
    "child_chunk_docs = create_child_chunk(child_chunk_size, child_chunk_overlap, parent_chunk_docs, \n",
    "                                      parent_ids, \n",
    "                                      opensearch_parent_key_name, opensearch_family_tree_key_name)\n",
    "print(f\"Number of child_chunk_docs= {len(child_chunk_docs)}\")\n"
   ]
  },
  {
   "cell_type": "code",
   "execution_count": 45,
   "metadata": {
    "tags": []
   },
   "outputs": [
    {
     "data": {
      "text/plain": [
       "[Document(page_content='사용 방법 동영상.Knox E-FOTA를 사용하는 방법에 대한 비디오가 포함되어 있습니다.이 섹션에는 Knox E-FOTA를 사용하는 방법에 대한 비디오가 포함되어 있습니다.Knox E-FOTA 시작하기 이 동영상은 Knox E-FOTA 콘솔을 안내하며 리셀러 등록, 디바이스 승인, 캠페인 생성, 캠페인 할당, 디바이스 상태 모니터링 방법을 보여줍니다.Knox E-FOTA에서 캠페인 만들기 다음 동영상은 삼성 디바이스에 Knox E-FOTA 캠페인을 만들고 적용하는 방법에 대한 심층적인 정보를 제공합니다.Knox E-FOTA를 VMware Workspace ONE에 연결하기 다음 비디오에서는 Knox E-FOTA를 VMware Workspace ONE과 연결하는 동시에 워크스페이스 1에서 디바이스 그룹을 추가하는 간단한 단계를 설명합니다.', metadata={'source': 'all_processed_data_ko.json', 'seq_num': 1, 'title': '사용 방법 동영상', 'url': 'https://docs.samsungknox.com/admin/efota-one/how-to-videos', 'project': 'EFOTA', 'last_updated': '2023-09-27', 'family_tree': 'child', 'parent_id': 'd46ec1ef-61ed-4b4b-a3da-7cce336d2624'})]"
      ]
     },
     "execution_count": 45,
     "metadata": {},
     "output_type": "execute_result"
    }
   ],
   "source": [
    "child_chunk_docs[0:1]"
   ]
  },
  {
   "cell_type": "code",
   "execution_count": 46,
   "metadata": {
    "tags": []
   },
   "outputs": [
    {
     "name": "stdout",
     "output_type": "stream",
     "text": [
      "child's parent_id:  d46ec1ef-61ed-4b4b-a3da-7cce336d2624\n",
      "\n",
      "###### Search parent in OpenSearch\n",
      "opensearch document id: d46ec1ef-61ed-4b4b-a3da-7cce336d2624\n",
      "family_tree: parent\n",
      "parent document id: None\n",
      "parent document text: \n",
      " 사용 방법 동영상.Knox E-FOTA를 사용하는 방법에 대한 비디오가 포함되어 있습니다.이 섹션에는 Knox E-FOTA를 사용하는 방법에 대한 비디오가 포함되어 있습니다.Knox E-FOTA 시작하기 이 동영상은 Knox E-FOTA 콘솔을 안내하며 리셀러 등록, 디바이스 승인, 캠페인 생성, 캠페인 할당, 디바이스 상태 모니터링 방법을 보여줍니다.Knox E-FOTA에서 캠페인 만들기 다음 동영상은 삼성 디바이스에 Knox E-FOTA 캠페인을 만들고 적용하는 방법에 대한 심층적인 정보를 제공합니다.Knox E-FOTA를 VMware Workspace ONE에 연결하기 다음 비디오에서는 Knox E-FOTA를 VMware Workspace ONE과 연결하는 동시에 워크스페이스 1에서 디바이스 그룹을 추가하는 간단한 단계를 설명합니다.\n"
     ]
    }
   ],
   "source": [
    "parent_id = child_chunk_docs[0].metadata[\"parent_id\"]\n",
    "print(\"child's parent_id: \", parent_id)\n",
    "print(\"\\n###### Search parent in OpenSearch\")\n",
    "response = opensearch_utils.get_document(os_client, doc_id = parent_id, index_name = eval_index_name)\n",
    "show_opensearch_doc_info(response)    \n"
   ]
  },
  {
   "cell_type": "code",
   "execution_count": 47,
   "metadata": {
    "tags": []
   },
   "outputs": [
    {
     "name": "stdout",
     "output_type": "stream",
     "text": [
      "length of child_ids:  179\n",
      "CPU times: user 421 ms, sys: 13.9 ms, total: 435 ms\n",
      "Wall time: 20 s\n"
     ]
    }
   ],
   "source": [
    "%%time\n",
    "\n",
    "child_ids = eval_vector_db.add_documents(\n",
    "                        documents = child_chunk_docs, \n",
    "                        vector_field = \"vector_field\",\n",
    "                        bulk_size = 1000000\n",
    "                    )\n",
    "\n",
    "print(\"length of child_ids: \", len(child_ids))"
   ]
  },
  {
   "cell_type": "code",
   "execution_count": 48,
   "metadata": {
    "tags": []
   },
   "outputs": [
    {
     "name": "stdout",
     "output_type": "stream",
     "text": [
      "total count docs:  {'count': 271, '_shards': {'total': 5, 'successful': 5, 'skipped': 0, 'failed': 0}}\n"
     ]
    }
   ],
   "source": [
    "total_count_docs = opensearch_utils.get_count(os_client, eval_index_name)\n",
    "print(\"total count docs: \", total_count_docs)\n"
   ]
  },
  {
   "cell_type": "code",
   "execution_count": 49,
   "metadata": {
    "tags": []
   },
   "outputs": [
    {
     "name": "stdout",
     "output_type": "stream",
     "text": [
      "opensearch document id: 4924e485-b2ef-4052-96fe-558061fd2717\n",
      "family_tree: child\n",
      "parent document id: 99f701cb-336a-4442-866c-550fa7642dc3\n",
      "parent document text: \n",
      " .강제 업데이트 (무음) ✔ ✔ ✔ 사용자 개입 없이 장치에 OS 업데이트를 배포할 수 있습니다.예약 업데이트 ✔ ✔ ✔ OS 업데이트를 다운로드하고 설치할 특정 날짜 및 시간 범위 (예: 업무 시간 외) 를 설정합니다.강제 업데이트 (중요) ✔ ✔ 중요한 작업이 진행 중인 동안 사용자가 업데이트를 연기할 수 있도록 허용합니다 (최대 지연 기간 포함).사용자는 업데이트를 거부할 수 없습니다.추가 캠페인 옵션 ✔ ✔ 다음 옵션 설정: 로밍 중 펌웨어 다운로드 허용.충전 도크에 연결된 경우에만 설치를 허용합니다.캠페인 상태 보기 기능 ✔ ✔ 캠페인 운영 상태 보기.디바이스 및 캠페인 상태에 대한 모니터링 대시보드 위젯은 Knox E-FOTA Advanced에서 사용할 수 있습니다. ✔ 대시보드를 통해 Knox E-FOTA의 다양한 영역을 모니터링할 수 있습니다.독립 웹 콘솔 ✔ ✔ 웹 포털을 통해 관리 작업을 수행합니다.네트워크 대역폭 제어 ✔ ✔ 설정된 최대 대역폭 내에서 펌웨어 업데이트를 배포합니다.Wi-Fi 전용 모드 ✔ ✔ Wi-Fi를 통해서만 다운로드 및 업데이트가 이루어지도록 설정하여 셀룰러 사용 비용을 절감할 수 있습니다.캠페인당 여러 모델 업데이트 가능 ✔ 단일 캠페인에서 여러 장치 모델을 서로 다른 펌웨어 릴리스에 할당할 수 있습니다.캠페인당 순차 업데이트 ✔ ✔ 단 하나의 캠페인으로 모든 버전에서 대상 버전으로 업데이트.즉, 기기를 현재 버전에서 대상 버전으로 점진적으로 업데이트하기 위해 여러 캠페인을 만들 필요가 없습니다.장치 그룹 및 조직 정보를 EMM과 동기화하는 기능 ✔ ✔ EMM에서 장치 그룹을 가져와서 장치 관리 작업을 간소화합니다.Knox E-FOTA를 EMM에 연결하면 디바이스 그룹이 동기화되지 않도록 할 수 있습니다.디바이스 정보는 EMM에서 관리되므로 Knox E-FOTA 관리자가 수동으로 관리할 필요가 없습니다\n"
     ]
    }
   ],
   "source": [
    "response = opensearch_utils.get_document(os_client, doc_id = child_ids[5], index_name = eval_index_name)\n",
    "show_opensearch_doc_info(response)    "
   ]
  },
  {
   "cell_type": "code",
   "execution_count": 50,
   "metadata": {
    "tags": []
   },
   "outputs": [
    {
     "name": "stdout",
     "output_type": "stream",
     "text": [
      "child's parent_id:  99f701cb-336a-4442-866c-550fa7642dc3\n",
      "\n",
      "###### Search parent in OpenSearch\n",
      "opensearch document id: 99f701cb-336a-4442-866c-550fa7642dc3\n",
      "family_tree: parent\n",
      "parent document id: None\n",
      "parent document text: \n",
      " 녹스 E-FOTA.Knox E-FOTA를 사용하면 기업 IT 관리자가 사용자 개입 없이 OS 버전과 보안 업데이트를 기업 디바이스에 원격으로 배포할 수 있습니다.배포 전에 업데이트를 테스트하여 사내 앱과 새 OS 버전 간의 호환성을 확인하고, 최신 보안 패치를 일정에 따라 배포하여 엔터프라이즈 디바이스의 보안을 강화하세요.대상 고객 무료 체험하기 이 문서의 대상: 시스템 보안 설계자 — Knox E-FOTA의 작동 원리와 Knox E-FOTA를 사용하여 엔터프라이즈 디바이스를 업데이트하는 방법을 알아보세요.IT 관리자 - 엔터프라이즈 디바이스의 무선 업데이트를 관리하는 방법을 알아보세요.솔루션을 사용해 보세요. Knox E-FOTA를 사용하여 모바일 업데이트 워크플로를 간소화하세요.버전 제어 관리를 활성화하고 업무 시간 외에 업데이트가 발생하도록 설정하여 OS 업데이트를 배포하여 생산성에 지장을 주지 않도록 하세요.튜토리얼 시작하기 Knox E-FOTA 소개 Knox E-FOTA\"는 삼성 모바일 디바이스의 OS 버전을 제어하여 비용 효율성을 극대화하는 엔터프라이즈 솔루션입니다.IT 관리자는 이를 통해 다음과 같은 작업을 수행할 수 있습니다. 일정에 따라 최신 보안 패치를 디바이스에 배포하세요.배포 전에 업데이트를 테스트하여 사내 앱과 새 OS 버전 간의 호환성을 확인하십시오.주요 기능, 강제 업데이트 - 모든 장치에서 동일한 OS 버전을 사용할 수 있도록 강제 업데이트를 배포하여 장치 관리 환경을 간소화합니다.사용자 개입 없이 업데이트를 푸시할 수 있습니다.선택적 OS\"버전 - 최신 OS 버전이 사내 앱과 항상 호환되는 것은 아닙니다.디바이스에 배포할 OS 버전을 제어하여 운영 연속성을 보장하세요.최신 OS 버전을 배포할 준비가 될 때까지 해당 버전으로 잠글 수 있습니다.정기 업데이트 - 업무 시간 외에 펌웨어 업데이트가 이루어지도록 예약하여 업무 중단을 최소화합니다.모든 기능의 전체 목록을 보려면 Knox E-FOTA의 제품 페이지를 방문하십시오.이점 1.소프트웨어 호환성 테스트 - 내부 앱과 새 OS 버전 간의 호환성을 보장하기 위해 소프트웨어를 테스트한 후에만 업데이트를 적용합니다.이를 통해 호환성 문제에 대한 IT 지원의 필요성을 최소화할 수 있습니다. 2.장치 보안 - 검증된 최신 펌웨어를 보안 유지관리 릴리스 (SMR) 라고도 하는 최신 보안 패치와 함께 사용자 개입 없이 즉시 회사에서 사용할 수 있는 모든 장치에 배포합니다. 3.효율적인 배포 - 디바이스가 업데이트를 다운로드하고 설치하는 시간을 지정하여 업무 중단을 최소화함으로써 생산성을 유지합니다.IT 관리자는 운영 연속성을 보장하기 위해 시차를 두고 업데이트 (예: 지역별) 를 배포할 수 있습니다. 4.효율적인 장치 관리 - 강제 업데이트를 원격으로 배포하면 모든 엔터프라이즈 장치에서 항상 검증된 최신 OS 버전을 실행할 수 있습니다.모든 디바이스를 한 눈에 파악할 수 있어 IT 관리자가 디바이스를 더 효율적으로 관리할 수 있습니다.사일런트 업데이트는 사용자 개입이 필요하지 않으므로 연기하거나 거부할 수 없습니다.Knox E-FOTA는 어떻게 작동하나요?FOTA (Firmware-over-the-Air) 는 IT 관리자가 효율적이고 안전하게 펌웨어 업데이트를 엔터프라이즈 모바일 디바이스에 푸시할 수 있는 서비스입니다.일반적으로 서비스 제공업체는 삼성 B2C (Business-to-Consumer) FOTA 서버를 통해 최신 펌웨어 업데이트를 디바이스에 푸시합니다.문제는 최신 펌웨어가 회사의 사내 앱과 항상 호환되는 것은 아니라는 점입니다.Knox E-FOTA가 없는 기업은 다음을 수행해야만 이 문제를 해결할 수 있습니다. 항상 최신 OS 버전으로 업데이트하고, EMM Knox E-FOTA를 사용하여 모든 OS 업데이트를 차단하십시오.\"관리자가 최신 버전이 아니더라도 배포할 펌웨어 버전을 선택할 수 있습니다.그러면 디바이스가 해당 버전으로 잠깁니다.관리자는 최신 펌웨어 버전에서 호환성 테스트를 수행한 후 기기를 테스트된 버전으로 업데이트할 수 있습니다.Knox E-FOTA를 통해 기업은 삼성 B2B (Business-to-Business) FOTA\"서버에서 펌웨어 업데이트를 푸시합니다. 하지만 삼성의 Knox E-FOTA 서비스를 통하지 않고 자체 서버에서 펌웨어 업데이트를 제공하는 AT&T 및 Verizon과 같은 예외도 있습니다.그러면 B2B FOTA 서버가 디바이스 정보를 B2C FOTA 서버와 동기화합니다.#Downloading 펌웨어 버전 Knox E-FOTA를 통해 지난 12개월 이내에 일반 삼성 FOTA 서비스를 통해 출시된 공식 펌웨어 목록에 액세스할 수 있습니다.추가 상담을 통해 추가 펌웨어 목록을 제공할 수 있습니다.펌웨어 업데이트를 푸시할 때 삼성은 현재 펌웨어 버전에서 대상 버전으로 업데이트하기 위한 델타 파일 또는 변경 파일을 생성합니다.그런 다음 일반 Samsung FOTA 서버를 통해 릴리스되고 무선으로 엔터프라이즈 장치에 전달됩니다.펌웨어 파일은 Knox E-FOTA 서버에서 평균 12개월 동안 사용할 수 있습니다.경우에 따라, 특히 주요 Android OS 버전으로 디바이스를 업그레이드할 때 대상 펌웨어 버전에 도달하기 위해 여러 델타 파일을 다운로드해야 할 수 있습니다.Knox E-FOTA\"Advanced에서는 대상 버전에 도달하기 위해 여러 캠페인을 점진적으로 실행해야 할 수 있습니다.Knox E-FOTA와 MDM의 “Knox E-FOTA”에서는 하나의 캠페인만 필요합니다. 필요한 델타 파일은 순차적으로 자동으로 설치됩니다.사용 중인 Knox E-FOTA 에디션에 관계없이 이 경우 디바이스가 여러 번 재부팅됩니다.Knox E-FOTA 에디션 비교하기 Knox E-FOTA 서비스에는 Knox E-FOTA, Knox E-FOTA\"어드밴스드, MDM용 Knox E-FOTA의 세 가지 에디션이 있습니다. 이 섹션에서는 Knox E-FOTA 서비스의 주요 차별화 기능에 대해 설명합니다.MDM에서 Knox E-FOTA 기능 사용 Knox E-FOTA Advanced Knox E-FOTA 설명 선택적 OS 버전 ✔ ✔ ✔ 디바이스에 배포할 OS 버전을 선택하고, 내부 앱으로 검증되지 않은 OS 버전에 대한 업데이트를 방지합니다.강제 업데이트 (무음) ✔ ✔ ✔ 사용자 개입 없이 장치에 OS 업데이트를 배포할 수 있습니다.예약 업데이트 ✔ ✔ ✔ OS 업데이트를 다운로드하고 설치할 특정 날짜 및 시간 범위 (예: 업무 시간 외) 를 설정합니다.강제 업데이트 (중요) ✔ ✔ 중요한 작업이 진행 중인 동안 사용자가 업데이트를 연기할 수 있도록 허용합니다 (최대 지연 기간 포함).사용자는 업데이트를 거부할 수 없습니다.추가 캠페인 옵션 ✔ ✔ 다음 옵션 설정: 로밍 중 펌웨어 다운로드 허용.충전 도크에 연결된 경우에만 설치를 허용합니다.캠페인 상태 보기 기능 ✔ ✔ 캠페인 운영 상태 보기.디바이스 및 캠페인 상태에 대한 모니터링 대시보드 위젯은 Knox E-FOTA Advanced에서 사용할 수 있습니다. ✔ 대시보드를 통해 Knox E-FOTA의 다양한 영역을 모니터링할 수 있습니다.독립 웹 콘솔 ✔ ✔ 웹 포털을 통해 관리 작업을 수행합니다.네트워크 대역폭 제어 ✔ ✔ 설정된 최대 대역폭 내에서 펌웨어 업데이트를 배포합니다.Wi-Fi 전용 모드 ✔ ✔ Wi-Fi를 통해서만 다운로드 및 업데이트가 이루어지도록 설정하여 셀룰러 사용 비용을 절감할 수 있습니다.캠페인당 여러 모델 업데이트 가능 ✔ 단일 캠페인에서 여러 장치 모델을 서로 다른 펌웨어 릴리스에 할당할 수 있습니다.캠페인당 순차 업데이트 ✔ ✔ 단 하나의 캠페인으로 모든 버전에서 대상 버전으로 업데이트.즉, 기기를 현재 버전에서 대상 버전으로 점진적으로 업데이트하기 위해 여러 캠페인을 만들 필요가 없습니다.장치 그룹 및 조직 정보를 EMM과 동기화하는 기능 ✔ ✔ EMM에서 장치 그룹을 가져와서 장치 관리 작업을 간소화합니다.Knox E-FOTA를 EMM에 연결하면 디바이스 그룹이 동기화되지 않도록 할 수 있습니다.디바이스 정보는 EMM에서 관리되므로 Knox E-FOTA 관리자가 수동으로 관리할 필요가 없습니다\n"
     ]
    }
   ],
   "source": [
    "parent_id = response[\"_source\"][\"metadata\"][\"parent_id\"]\n",
    "print(\"child's parent_id: \", parent_id)\n",
    "print(\"\\n###### Search parent in OpenSearch\")\n",
    "response = opensearch_utils.get_document(os_client, doc_id = parent_id, index_name = eval_index_name)\n",
    "show_opensearch_doc_info(response)    \n"
   ]
  },
  {
   "cell_type": "markdown",
   "metadata": {},
   "source": [
    "## 검색 테스트"
   ]
  },
  {
   "cell_type": "code",
   "execution_count": 51,
   "metadata": {
    "tags": []
   },
   "outputs": [
    {
     "name": "stdout",
     "output_type": "stream",
     "text": [
      "{'query': {'bool': {'filter': {'term': {'metadata.family_tree': 'child'}},\n",
      "                    'must': [{'match': {'text': {'minimum_should_match': '0%',\n",
      "                                                 'operator': 'or',\n",
      "                                                 'query': '바코드를 어떻게 사용해'}}}]}}}\n"
     ]
    }
   ],
   "source": [
    "# q = \"'how to use barcode\"\n",
    "q = \"바코드를 어떻게 사용해\"\n",
    "query ={'query': \n",
    "        {'bool': {'must': \n",
    "                  [{'match': \n",
    "                    {'text': \n",
    "                     {'query': f\"{q}\", 'minimum_should_match': '0%', 'operator': 'or'}}}], \n",
    "                  'filter': {\n",
    "                    \"term\": {\n",
    "                      \"metadata.family_tree\": \"child\"\n",
    "                    }                      \n",
    "                  }\n",
    "                 }\n",
    "        }\n",
    "       }\n",
    "pprint(query)"
   ]
  },
  {
   "cell_type": "code",
   "execution_count": 52,
   "metadata": {
    "tags": []
   },
   "outputs": [
    {
     "name": "stdout",
     "output_type": "stream",
     "text": [
      "# of searched docs:  10\n",
      "# of display: 3\n",
      "---------------------\n",
      "_id in index:  7b9eb5c4-f3a9-405f-b889-3629d7a606a9\n",
      "6.190286\n",
      "캠페인 소개.녹스 E-FOTA 캠페인을 소개합니다.장치에 펌웨어 업데이트를 적용하려면 캠페인을 만들고 푸시할 펌웨어 버전을 지정해야 합니다.그런 다음 해당 캠페인에 기기를 할당합니다.캠페인을 활성화하면 펌웨어 업데이트가 할당된 장치에 푸시됩니다.캠페인이 활성화된 후 24시간마다 할당된 디바이스의 Knox E-FOTA 클라이언트 앱이 Knox E-FOTA 서버를 자동으로 폴링하여 캠페인에 적용된 정책 변경 사항을 확인합니다.Knox E-FOTA를 사용하면 두 가지 유형의 캠페인을 만들 수 있습니다. 일반 캠페인 - 디바이스에 프로덕션 펌웨어를 할당할 수 있음, 테스트 캠페인 - 디바이스에 더미 펌웨어를 할당할 수 있습니다. 이 섹션에서는 다양한 유형의 캠페인을 만드는 방법을 설명합니다.펌웨어 업데이트 중 디바이스가 어떻게 동작하는지에 대한 자세한 내용은 캠페인 중 디바이스는 어떻게 되나요? 를 참조하십시오.\n",
      "{'source': 'all_processed_data_ko.json', 'seq_num': 31, 'title': '캠페인 소개', 'url': 'https://docs.samsungknox.com/admin/efota-one/features/create-a-campaign/campaign-intro', 'project': 'EFOTA', 'last_updated': '2023-07-26', 'family_tree': 'child', 'parent_id': 'da39910f-e571-496a-8692-f9fa7fd450d5'}\n",
      "---------------------\n",
      "_id in index:  1ffa4401-41b8-4e82-a3ef-d1c997705e9c\n",
      "3.5985396\n",
      ".사용자 개입 없이 업데이트를 푸시할 수 있습니다.선택적 OS\"버전 - 최신 OS 버전이 사내 앱과 항상 호환되는 것은 아닙니다.디바이스에 배포할 OS 버전을 제어하여 운영 연속성을 보장하세요.최신 OS 버전을 배포할 준비가 될 때까지 해당 버전으로 잠글 수 있습니다.정기 업데이트 - 업무 시간 외에 펌웨어 업데이트가 이루어지도록 예약하여 업무 중단을 최소화합니다.모든 기능의 전체 목록을 보려면 Knox E-FOTA의 제품 페이지를 방문하십시오.이점 1.소프트웨어 호환성 테스트 - 내부 앱과 새 OS 버전 간의 호환성을 보장하기 위해 소프트웨어를 테스트한 후에만 업데이트를 적용합니다.이를 통해 호환성 문제에 대한 IT 지원의 필요성을 최소화할 수 있습니다. 2.장치 보안 - 검증된 최신 펌웨어를 보안 유지관리 릴리스 (SMR) 라고도 하는 최신 보안 패치와 함께 사용자 개입 없이 즉시 회사에서 사용할 수 있는 모든 장치에 배포합니다. 3.효율적인 배포 - 디바이스가 업데이트를 다운로드하고 설치하는 시간을 지정하여 업무 중단을 최소화함으로써 생산성을 유지합니다.IT 관리자는 운영 연속성을 보장하기 위해 시차를 두고 업데이트 (예: 지역별) 를 배포할 수 있습니다. 4.효율적인 장치 관리 - 강제 업데이트를 원격으로 배포하면 모든 엔터프라이즈 장치에서 항상 검증된 최신 OS 버전을 실행할 수 있습니다.모든 디바이스를 한 눈에 파악할 수 있어 IT 관리자가 디바이스를 더 효율적으로 관리할 수 있습니다.사일런트 업데이트는 사용자 개입이 필요하지 않으므로 연기하거나 거부할 수 없습니다.Knox E-FOTA는 어떻게 작동하나요?FOTA (Firmware-over-the-Air) 는 IT 관리자가 효율적이고 안전하게 펌웨어 업데이트를 엔터프라이즈 모바일 디바이스에 푸시할 수 있는 서비스입니다.일반적으로 서비스 제공업체는 삼성 B2C (Business-to-Consumer) FOTA 서버를 통해 최신 펌웨어 업데이트를 디바이스에 푸시합니다.문제는 최신 펌웨어가 회사의 사내 앱과 항상 호환되는 것은 아니라는 점입니다\n",
      "{'source': 'all_processed_data_ko.json', 'seq_num': 2, 'title': '녹스 E-FOTA', 'url': 'https://docs.samsungknox.com/admin/efota-one', 'project': 'EFOTA', 'last_updated': '2023-07-26', 'family_tree': 'child', 'parent_id': '99f701cb-336a-4442-866c-550fa7642dc3'}\n",
      "---------------------\n",
      "_id in index:  42160530-e46d-446a-a2ff-cdb27aef84fe\n",
      "3.2122164\n",
      ".특정 OS의 최신 펌웨어 버전 자동 푸시 보안 취약성을 방지하기 위해 이제 특정 OS의 최신 펌웨어 버전을 할당된 장치에 자동으로 푸시하도록 캠페인을 구성할 수 있습니다.최신 펌웨어를 선택할 때 다음을 지정할 수 있습니다. 임의 - OS 버전에 관계없이 최신 펌웨어를 기기로 푸시합니다.최대 - 특정 OS 버전 내의 최신 펌웨어가 장치에 푸시됩니다.이 옵션을 선택하면 최신 OS 버전의 최신 펌웨어에 포함된 보안 패치를 받지 못할 수 있습니다.특정 모델-통신사 쌍의 장치에 사용할 수 있는 기준에 맞는 펌웨어가 없는 경우 오류가 표시됩니다.이 경우 디바이스를 현재 펌웨어 버전으로 잠글 수 있습니다.대시보드를 통한 활성 캠페인 모니터링 이제 대시보드를 통해 활성 캠페인의 운영 상태를 확인할 수 있습니다.이를 통해 캠페인이 어떻게 운영되고 있는지 전반적으로 쉽게 파악할 수 있습니다.캠페인이 활성 상태로 전환되면 해당 캠페인에 대한 위젯이 대시보드에 자동으로 추가됩니다.위젯의 X 아이콘을 클릭하여 위젯을 숨길 수 있습니다.아직 활성 상태인 경우 대시보드에 수동으로 다시 고정할 수도 있습니다.활성 캠페인과 관련하여 어떤 데이터가 제공되나요?각 활성 캠페인에 대해 위젯에는 두 가지 보기가 있습니다.상태 보기에는 성공률, 성공 - 성공적으로 처리된 장치 수가 표시됩니다.여기에는 대상 펌웨어보다 버전이 높아서 업데이트되지 않은 장치도 포함됩니다.주의 - 주의가 필요한 장치 수.즉, 해당 기기에서 업데이트가 실패했거나 오류가 발생했습니다.이 버튼을 클릭하면 작업이 필요한 장치를 표시하도록 필터링된 장치 목록이 표시됩니다.진행 중 - 아직 업데이트를 다운로드하거나 설치하지 않은 장치 수입니다.상태 보기는 실시간으로 업데이트됩니다.트렌드 보기는 시간 경과에 따른 캠페인 성공률을 보여줍니다.이 뷰는 하루에 한 번 업데이트됩니다.이번 릴리스 이전에 활성화된 캠페인에는 트렌드 보기가 표시되지 않습니다\n",
      "{'source': 'all_processed_data_ko.json', 'seq_num': 70, 'title': '녹스 E-FOTA 1.32 릴리즈 노트', 'url': 'https://docs.samsungknox.com/admin/efota-one/release-notes/20-06', 'project': 'EFOTA', 'last_updated': '2023-07-26', 'family_tree': 'child', 'parent_id': '6ed048b2-f278-41be-8e7e-148f3c05ae9a'}\n",
      "---------------------\n"
     ]
    }
   ],
   "source": [
    "response = opensearch_utils.search_document(os_client, query, eval_index_name)\n",
    "opensearch_utils.parse_keyword_response(response, show_size=3)"
   ]
  },
  {
   "cell_type": "code",
   "execution_count": 53,
   "metadata": {
    "tags": []
   },
   "outputs": [
    {
     "data": {
      "text/plain": [
       "[Document(page_content='.장치에 태그 지정 태깅은 장치에 레이블을 지정하고 장치 목록에서 쉽게 검색하려는 경우에 유용합니다.예를 들어, 비즈니스 기능 또는 장치 사용자의 위치를 기준으로 장치에 레이블을 지정할 수 있습니다.이 섹션에서는 단일 장치에 태그를 지정하는 방법을 설명합니다.한 번에 여러 장치에 동일한 태그를 지정하려면 장치에서 일반적인 작업 수행을 참조하십시오. 1.Knox 관리 포털에 로그인하세요.왼쪽 사이드바에서 Knox E-FOTA를 클릭합니다. 2.디바이스 > 모든 디바이스로 이동합니다. 3.태그하려는 장치의 장치 ID를 클릭합니다. 4.장치 세부 정보 대화 상자의 태그 필드에 장치에 연결할 레이블을 입력합니다.예: 판매. 5.저장을 클릭합니다.', metadata={'source': 'all_processed_data_ko.json', 'seq_num': 25, 'title': '디바이스 관리', 'url': 'https://docs.samsungknox.com/admin/efota-one/features/manage-devices', 'project': 'EFOTA', 'last_updated': '2023-09-06', 'family_tree': 'child', 'parent_id': 'acafba0e-e50c-4de4-bba4-4f61560d6e42'}),\n",
       " Document(page_content='. 3.추가를 클릭합니다.취소되거나 만료된 캠페인 취소되거나 만료된 캠페인 위젯은 종료된 시점부터 7일 동안 표시됩니다.각 기기 모델 및 기기 상태에 대한 성공률을 보여주는 원형 차트가 표시됩니다.그래프 위에 마우스를 올려 놓으면 자세한 내용을 볼 수 있습니다.취소되거나 만료된 캠페인 위젯이 여러 개 있을 수 있습니다.스케줄링된 캠페인 위젯은 곧 시작될 예정인 캠페인을 시작일별로 정렬하여 최대 5개까지 나열합니다.모두 보기를 클릭하면 예약된 캠페인만 보여주는 필터링된 캠페인 목록이 표시됩니다.이 위젯은 캠페인을 생성하자마자 사용할 수 있습니다.펌웨어 릴리스 펌웨어 릴리스 위젯에는 릴리스 날짜별로 정렬된 펌웨어 릴리스가 나열됩니다.모두 보기를 클릭하면 모든 펌웨어 릴리스의 상세 목록이 표시됩니다.라이선스 위젯에는 최대 3개의 라이선스가 종료일별로 정렬되어 나열됩니다.모두 보기를 클릭하면 계정의 모든 라이선스와 해당 세부 정보가 포함된 라이선스 탭으로 이동합니다.라이선스를 추가하는 즉시 이 위젯을 사용할 수 있습니다.여기에는 다음이 포함됩니다. 전체 라이선스 작동 속도, 즉 계정의 모든 상용 및 평가판 라이선스의 총 라이선스 시트 수에 대해 현재 할당된 총 라이선스 시트 수를 보여주는 파이 차트입니다.계정에서 사용자 수가 가장 많은 최대 3개의 라이선스 목록입니다.각 라이선스에 대해 다음과 같은 세부 정보가 표시됩니다. 유형 - 상업용 또는 평가판.상태 - 활성, 등록됨 (즉, 라이선스가 계정에 추가되었지만 아직 활성화되지 않음), 만료됨 또는 종료됨.작동 속도 - 이 라이선스의 총 사용자 수 중 할당된 사용자 수.종료일 - 라이선스 만료일.특정 라이선스의 세부 정보를 보려면 해당 라이선스의 이름을 클릭합니다.계정의 모든 상용 및 평가판 라이선스의 남은 시트 수.', metadata={'source': 'all_processed_data_ko.json', 'seq_num': 27, 'title': '운영 모니터링', 'url': 'https://docs.samsungknox.com/admin/efota-one/features/monitor-operations', 'project': 'EFOTA', 'last_updated': '2023-09-06', 'family_tree': 'child', 'parent_id': 'b57f7dc6-0a71-4cb4-b1a0-b28f101b59a1'})]"
      ]
     },
     "execution_count": 53,
     "metadata": {},
     "output_type": "execute_result"
    }
   ],
   "source": [
    "eval_vector_db.similarity_search(q, k=2)"
   ]
  },
  {
   "cell_type": "code",
   "execution_count": null,
   "metadata": {},
   "outputs": [],
   "source": []
  }
 ],
 "metadata": {
  "availableInstances": [
   {
    "_defaultOrder": 0,
    "_isFastLaunch": true,
    "category": "General purpose",
    "gpuNum": 0,
    "hideHardwareSpecs": false,
    "memoryGiB": 4,
    "name": "ml.t3.medium",
    "vcpuNum": 2
   },
   {
    "_defaultOrder": 1,
    "_isFastLaunch": false,
    "category": "General purpose",
    "gpuNum": 0,
    "hideHardwareSpecs": false,
    "memoryGiB": 8,
    "name": "ml.t3.large",
    "vcpuNum": 2
   },
   {
    "_defaultOrder": 2,
    "_isFastLaunch": false,
    "category": "General purpose",
    "gpuNum": 0,
    "hideHardwareSpecs": false,
    "memoryGiB": 16,
    "name": "ml.t3.xlarge",
    "vcpuNum": 4
   },
   {
    "_defaultOrder": 3,
    "_isFastLaunch": false,
    "category": "General purpose",
    "gpuNum": 0,
    "hideHardwareSpecs": false,
    "memoryGiB": 32,
    "name": "ml.t3.2xlarge",
    "vcpuNum": 8
   },
   {
    "_defaultOrder": 4,
    "_isFastLaunch": true,
    "category": "General purpose",
    "gpuNum": 0,
    "hideHardwareSpecs": false,
    "memoryGiB": 8,
    "name": "ml.m5.large",
    "vcpuNum": 2
   },
   {
    "_defaultOrder": 5,
    "_isFastLaunch": false,
    "category": "General purpose",
    "gpuNum": 0,
    "hideHardwareSpecs": false,
    "memoryGiB": 16,
    "name": "ml.m5.xlarge",
    "vcpuNum": 4
   },
   {
    "_defaultOrder": 6,
    "_isFastLaunch": false,
    "category": "General purpose",
    "gpuNum": 0,
    "hideHardwareSpecs": false,
    "memoryGiB": 32,
    "name": "ml.m5.2xlarge",
    "vcpuNum": 8
   },
   {
    "_defaultOrder": 7,
    "_isFastLaunch": false,
    "category": "General purpose",
    "gpuNum": 0,
    "hideHardwareSpecs": false,
    "memoryGiB": 64,
    "name": "ml.m5.4xlarge",
    "vcpuNum": 16
   },
   {
    "_defaultOrder": 8,
    "_isFastLaunch": false,
    "category": "General purpose",
    "gpuNum": 0,
    "hideHardwareSpecs": false,
    "memoryGiB": 128,
    "name": "ml.m5.8xlarge",
    "vcpuNum": 32
   },
   {
    "_defaultOrder": 9,
    "_isFastLaunch": false,
    "category": "General purpose",
    "gpuNum": 0,
    "hideHardwareSpecs": false,
    "memoryGiB": 192,
    "name": "ml.m5.12xlarge",
    "vcpuNum": 48
   },
   {
    "_defaultOrder": 10,
    "_isFastLaunch": false,
    "category": "General purpose",
    "gpuNum": 0,
    "hideHardwareSpecs": false,
    "memoryGiB": 256,
    "name": "ml.m5.16xlarge",
    "vcpuNum": 64
   },
   {
    "_defaultOrder": 11,
    "_isFastLaunch": false,
    "category": "General purpose",
    "gpuNum": 0,
    "hideHardwareSpecs": false,
    "memoryGiB": 384,
    "name": "ml.m5.24xlarge",
    "vcpuNum": 96
   },
   {
    "_defaultOrder": 12,
    "_isFastLaunch": false,
    "category": "General purpose",
    "gpuNum": 0,
    "hideHardwareSpecs": false,
    "memoryGiB": 8,
    "name": "ml.m5d.large",
    "vcpuNum": 2
   },
   {
    "_defaultOrder": 13,
    "_isFastLaunch": false,
    "category": "General purpose",
    "gpuNum": 0,
    "hideHardwareSpecs": false,
    "memoryGiB": 16,
    "name": "ml.m5d.xlarge",
    "vcpuNum": 4
   },
   {
    "_defaultOrder": 14,
    "_isFastLaunch": false,
    "category": "General purpose",
    "gpuNum": 0,
    "hideHardwareSpecs": false,
    "memoryGiB": 32,
    "name": "ml.m5d.2xlarge",
    "vcpuNum": 8
   },
   {
    "_defaultOrder": 15,
    "_isFastLaunch": false,
    "category": "General purpose",
    "gpuNum": 0,
    "hideHardwareSpecs": false,
    "memoryGiB": 64,
    "name": "ml.m5d.4xlarge",
    "vcpuNum": 16
   },
   {
    "_defaultOrder": 16,
    "_isFastLaunch": false,
    "category": "General purpose",
    "gpuNum": 0,
    "hideHardwareSpecs": false,
    "memoryGiB": 128,
    "name": "ml.m5d.8xlarge",
    "vcpuNum": 32
   },
   {
    "_defaultOrder": 17,
    "_isFastLaunch": false,
    "category": "General purpose",
    "gpuNum": 0,
    "hideHardwareSpecs": false,
    "memoryGiB": 192,
    "name": "ml.m5d.12xlarge",
    "vcpuNum": 48
   },
   {
    "_defaultOrder": 18,
    "_isFastLaunch": false,
    "category": "General purpose",
    "gpuNum": 0,
    "hideHardwareSpecs": false,
    "memoryGiB": 256,
    "name": "ml.m5d.16xlarge",
    "vcpuNum": 64
   },
   {
    "_defaultOrder": 19,
    "_isFastLaunch": false,
    "category": "General purpose",
    "gpuNum": 0,
    "hideHardwareSpecs": false,
    "memoryGiB": 384,
    "name": "ml.m5d.24xlarge",
    "vcpuNum": 96
   },
   {
    "_defaultOrder": 20,
    "_isFastLaunch": false,
    "category": "General purpose",
    "gpuNum": 0,
    "hideHardwareSpecs": true,
    "memoryGiB": 0,
    "name": "ml.geospatial.interactive",
    "supportedImageNames": [
     "sagemaker-geospatial-v1-0"
    ],
    "vcpuNum": 0
   },
   {
    "_defaultOrder": 21,
    "_isFastLaunch": true,
    "category": "Compute optimized",
    "gpuNum": 0,
    "hideHardwareSpecs": false,
    "memoryGiB": 4,
    "name": "ml.c5.large",
    "vcpuNum": 2
   },
   {
    "_defaultOrder": 22,
    "_isFastLaunch": false,
    "category": "Compute optimized",
    "gpuNum": 0,
    "hideHardwareSpecs": false,
    "memoryGiB": 8,
    "name": "ml.c5.xlarge",
    "vcpuNum": 4
   },
   {
    "_defaultOrder": 23,
    "_isFastLaunch": false,
    "category": "Compute optimized",
    "gpuNum": 0,
    "hideHardwareSpecs": false,
    "memoryGiB": 16,
    "name": "ml.c5.2xlarge",
    "vcpuNum": 8
   },
   {
    "_defaultOrder": 24,
    "_isFastLaunch": false,
    "category": "Compute optimized",
    "gpuNum": 0,
    "hideHardwareSpecs": false,
    "memoryGiB": 32,
    "name": "ml.c5.4xlarge",
    "vcpuNum": 16
   },
   {
    "_defaultOrder": 25,
    "_isFastLaunch": false,
    "category": "Compute optimized",
    "gpuNum": 0,
    "hideHardwareSpecs": false,
    "memoryGiB": 72,
    "name": "ml.c5.9xlarge",
    "vcpuNum": 36
   },
   {
    "_defaultOrder": 26,
    "_isFastLaunch": false,
    "category": "Compute optimized",
    "gpuNum": 0,
    "hideHardwareSpecs": false,
    "memoryGiB": 96,
    "name": "ml.c5.12xlarge",
    "vcpuNum": 48
   },
   {
    "_defaultOrder": 27,
    "_isFastLaunch": false,
    "category": "Compute optimized",
    "gpuNum": 0,
    "hideHardwareSpecs": false,
    "memoryGiB": 144,
    "name": "ml.c5.18xlarge",
    "vcpuNum": 72
   },
   {
    "_defaultOrder": 28,
    "_isFastLaunch": false,
    "category": "Compute optimized",
    "gpuNum": 0,
    "hideHardwareSpecs": false,
    "memoryGiB": 192,
    "name": "ml.c5.24xlarge",
    "vcpuNum": 96
   },
   {
    "_defaultOrder": 29,
    "_isFastLaunch": true,
    "category": "Accelerated computing",
    "gpuNum": 1,
    "hideHardwareSpecs": false,
    "memoryGiB": 16,
    "name": "ml.g4dn.xlarge",
    "vcpuNum": 4
   },
   {
    "_defaultOrder": 30,
    "_isFastLaunch": false,
    "category": "Accelerated computing",
    "gpuNum": 1,
    "hideHardwareSpecs": false,
    "memoryGiB": 32,
    "name": "ml.g4dn.2xlarge",
    "vcpuNum": 8
   },
   {
    "_defaultOrder": 31,
    "_isFastLaunch": false,
    "category": "Accelerated computing",
    "gpuNum": 1,
    "hideHardwareSpecs": false,
    "memoryGiB": 64,
    "name": "ml.g4dn.4xlarge",
    "vcpuNum": 16
   },
   {
    "_defaultOrder": 32,
    "_isFastLaunch": false,
    "category": "Accelerated computing",
    "gpuNum": 1,
    "hideHardwareSpecs": false,
    "memoryGiB": 128,
    "name": "ml.g4dn.8xlarge",
    "vcpuNum": 32
   },
   {
    "_defaultOrder": 33,
    "_isFastLaunch": false,
    "category": "Accelerated computing",
    "gpuNum": 4,
    "hideHardwareSpecs": false,
    "memoryGiB": 192,
    "name": "ml.g4dn.12xlarge",
    "vcpuNum": 48
   },
   {
    "_defaultOrder": 34,
    "_isFastLaunch": false,
    "category": "Accelerated computing",
    "gpuNum": 1,
    "hideHardwareSpecs": false,
    "memoryGiB": 256,
    "name": "ml.g4dn.16xlarge",
    "vcpuNum": 64
   },
   {
    "_defaultOrder": 35,
    "_isFastLaunch": false,
    "category": "Accelerated computing",
    "gpuNum": 1,
    "hideHardwareSpecs": false,
    "memoryGiB": 61,
    "name": "ml.p3.2xlarge",
    "vcpuNum": 8
   },
   {
    "_defaultOrder": 36,
    "_isFastLaunch": false,
    "category": "Accelerated computing",
    "gpuNum": 4,
    "hideHardwareSpecs": false,
    "memoryGiB": 244,
    "name": "ml.p3.8xlarge",
    "vcpuNum": 32
   },
   {
    "_defaultOrder": 37,
    "_isFastLaunch": false,
    "category": "Accelerated computing",
    "gpuNum": 8,
    "hideHardwareSpecs": false,
    "memoryGiB": 488,
    "name": "ml.p3.16xlarge",
    "vcpuNum": 64
   },
   {
    "_defaultOrder": 38,
    "_isFastLaunch": false,
    "category": "Accelerated computing",
    "gpuNum": 8,
    "hideHardwareSpecs": false,
    "memoryGiB": 768,
    "name": "ml.p3dn.24xlarge",
    "vcpuNum": 96
   },
   {
    "_defaultOrder": 39,
    "_isFastLaunch": false,
    "category": "Memory Optimized",
    "gpuNum": 0,
    "hideHardwareSpecs": false,
    "memoryGiB": 16,
    "name": "ml.r5.large",
    "vcpuNum": 2
   },
   {
    "_defaultOrder": 40,
    "_isFastLaunch": false,
    "category": "Memory Optimized",
    "gpuNum": 0,
    "hideHardwareSpecs": false,
    "memoryGiB": 32,
    "name": "ml.r5.xlarge",
    "vcpuNum": 4
   },
   {
    "_defaultOrder": 41,
    "_isFastLaunch": false,
    "category": "Memory Optimized",
    "gpuNum": 0,
    "hideHardwareSpecs": false,
    "memoryGiB": 64,
    "name": "ml.r5.2xlarge",
    "vcpuNum": 8
   },
   {
    "_defaultOrder": 42,
    "_isFastLaunch": false,
    "category": "Memory Optimized",
    "gpuNum": 0,
    "hideHardwareSpecs": false,
    "memoryGiB": 128,
    "name": "ml.r5.4xlarge",
    "vcpuNum": 16
   },
   {
    "_defaultOrder": 43,
    "_isFastLaunch": false,
    "category": "Memory Optimized",
    "gpuNum": 0,
    "hideHardwareSpecs": false,
    "memoryGiB": 256,
    "name": "ml.r5.8xlarge",
    "vcpuNum": 32
   },
   {
    "_defaultOrder": 44,
    "_isFastLaunch": false,
    "category": "Memory Optimized",
    "gpuNum": 0,
    "hideHardwareSpecs": false,
    "memoryGiB": 384,
    "name": "ml.r5.12xlarge",
    "vcpuNum": 48
   },
   {
    "_defaultOrder": 45,
    "_isFastLaunch": false,
    "category": "Memory Optimized",
    "gpuNum": 0,
    "hideHardwareSpecs": false,
    "memoryGiB": 512,
    "name": "ml.r5.16xlarge",
    "vcpuNum": 64
   },
   {
    "_defaultOrder": 46,
    "_isFastLaunch": false,
    "category": "Memory Optimized",
    "gpuNum": 0,
    "hideHardwareSpecs": false,
    "memoryGiB": 768,
    "name": "ml.r5.24xlarge",
    "vcpuNum": 96
   },
   {
    "_defaultOrder": 47,
    "_isFastLaunch": false,
    "category": "Accelerated computing",
    "gpuNum": 1,
    "hideHardwareSpecs": false,
    "memoryGiB": 16,
    "name": "ml.g5.xlarge",
    "vcpuNum": 4
   },
   {
    "_defaultOrder": 48,
    "_isFastLaunch": false,
    "category": "Accelerated computing",
    "gpuNum": 1,
    "hideHardwareSpecs": false,
    "memoryGiB": 32,
    "name": "ml.g5.2xlarge",
    "vcpuNum": 8
   },
   {
    "_defaultOrder": 49,
    "_isFastLaunch": false,
    "category": "Accelerated computing",
    "gpuNum": 1,
    "hideHardwareSpecs": false,
    "memoryGiB": 64,
    "name": "ml.g5.4xlarge",
    "vcpuNum": 16
   },
   {
    "_defaultOrder": 50,
    "_isFastLaunch": false,
    "category": "Accelerated computing",
    "gpuNum": 1,
    "hideHardwareSpecs": false,
    "memoryGiB": 128,
    "name": "ml.g5.8xlarge",
    "vcpuNum": 32
   },
   {
    "_defaultOrder": 51,
    "_isFastLaunch": false,
    "category": "Accelerated computing",
    "gpuNum": 1,
    "hideHardwareSpecs": false,
    "memoryGiB": 256,
    "name": "ml.g5.16xlarge",
    "vcpuNum": 64
   },
   {
    "_defaultOrder": 52,
    "_isFastLaunch": false,
    "category": "Accelerated computing",
    "gpuNum": 4,
    "hideHardwareSpecs": false,
    "memoryGiB": 192,
    "name": "ml.g5.12xlarge",
    "vcpuNum": 48
   },
   {
    "_defaultOrder": 53,
    "_isFastLaunch": false,
    "category": "Accelerated computing",
    "gpuNum": 4,
    "hideHardwareSpecs": false,
    "memoryGiB": 384,
    "name": "ml.g5.24xlarge",
    "vcpuNum": 96
   },
   {
    "_defaultOrder": 54,
    "_isFastLaunch": false,
    "category": "Accelerated computing",
    "gpuNum": 8,
    "hideHardwareSpecs": false,
    "memoryGiB": 768,
    "name": "ml.g5.48xlarge",
    "vcpuNum": 192
   },
   {
    "_defaultOrder": 55,
    "_isFastLaunch": false,
    "category": "Accelerated computing",
    "gpuNum": 8,
    "hideHardwareSpecs": false,
    "memoryGiB": 1152,
    "name": "ml.p4d.24xlarge",
    "vcpuNum": 96
   },
   {
    "_defaultOrder": 56,
    "_isFastLaunch": false,
    "category": "Accelerated computing",
    "gpuNum": 8,
    "hideHardwareSpecs": false,
    "memoryGiB": 1152,
    "name": "ml.p4de.24xlarge",
    "vcpuNum": 96
   },
   {
    "_defaultOrder": 57,
    "_isFastLaunch": false,
    "category": "Accelerated computing",
    "gpuNum": 0,
    "hideHardwareSpecs": false,
    "memoryGiB": 32,
    "name": "ml.trn1.2xlarge",
    "vcpuNum": 8
   },
   {
    "_defaultOrder": 58,
    "_isFastLaunch": false,
    "category": "Accelerated computing",
    "gpuNum": 0,
    "hideHardwareSpecs": false,
    "memoryGiB": 512,
    "name": "ml.trn1.32xlarge",
    "vcpuNum": 128
   },
   {
    "_defaultOrder": 59,
    "_isFastLaunch": false,
    "category": "Accelerated computing",
    "gpuNum": 0,
    "hideHardwareSpecs": false,
    "memoryGiB": 512,
    "name": "ml.trn1n.32xlarge",
    "vcpuNum": 128
   }
  ],
  "instance_type": "ml.m5.xlarge",
  "kernelspec": {
   "display_name": "conda_pytorch_p310",
   "language": "python",
   "name": "conda_pytorch_p310"
  },
  "language_info": {
   "codemirror_mode": {
    "name": "ipython",
    "version": 3
   },
   "file_extension": ".py",
   "mimetype": "text/x-python",
   "name": "python",
   "nbconvert_exporter": "python",
   "pygments_lexer": "ipython3",
   "version": "3.10.13"
  }
 },
 "nbformat": 4,
 "nbformat_minor": 4
}
