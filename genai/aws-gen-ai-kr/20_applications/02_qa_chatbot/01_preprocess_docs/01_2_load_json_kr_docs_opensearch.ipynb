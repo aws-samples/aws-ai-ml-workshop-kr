{
 "cells": [
  {
   "cell_type": "markdown",
   "metadata": {
    "jp-MarkdownHeadingCollapsed": true,
    "tags": []
   },
   "source": [
    "# 한글 문서를 위한 스키마 정의 후 Vector Store 생성 \n",
    "\n",
    "---\n",
    "\n",
    "---"
   ]
  },
  {
   "cell_type": "markdown",
   "metadata": {
    "tags": []
   },
   "source": [
    "# 1. Bedrock Client 생성"
   ]
  },
  {
   "cell_type": "code",
   "execution_count": 3,
   "metadata": {
    "tags": []
   },
   "outputs": [
    {
     "name": "stdout",
     "output_type": "stream",
     "text": [
      "langchain                                0.0.338\n",
      "opensearch-py                            2.3.2\n",
      "pypdf                                    3.17.1\n"
     ]
    }
   ],
   "source": [
    "! pip list | grep langchain # 0.0.312\n",
    "! pip list | grep opensearch # 2.3.2\n",
    "! pip list | grep pypdf"
   ]
  },
  {
   "cell_type": "code",
   "execution_count": 4,
   "metadata": {
    "tags": []
   },
   "outputs": [
    {
     "name": "stdout",
     "output_type": "stream",
     "text": [
      "/root/aws-ai-ml-workshop-kr/genai/aws-gen-ai-kr/20_applications/02_qa_chatbot/01_preprocess_docs/utils\n"
     ]
    }
   ],
   "source": [
    "%load_ext autoreload\n",
    "%autoreload 2\n",
    "\n",
    "import sys, os\n",
    "# module_path = \"../../../utils\"\n",
    "# sys.path.append(os.path.abspath(module_path))\n",
    "# print(os.path.abspath(module_path))\n",
    "\n",
    "module_path = \"./utils\"\n",
    "sys.path.append(os.path.abspath(module_path))\n",
    "print(os.path.abspath(module_path))"
   ]
  },
  {
   "cell_type": "code",
   "execution_count": 5,
   "metadata": {
    "tags": []
   },
   "outputs": [
    {
     "name": "stdout",
     "output_type": "stream",
     "text": [
      "Create new client\n",
      "  Using region: us-east-1\n",
      "  Using profile: None\n",
      "boto3 Bedrock client successfully created!\n",
      "bedrock-runtime(https://bedrock-runtime.us-east-1.amazonaws.com)\n",
      "\n",
      "== FM lists ==\n",
      "{'Claude-Instant-V1': 'anthropic.claude-instant-v1',\n",
      " 'Claude-V1': 'anthropic.claude-v1',\n",
      " 'Claude-V2': 'anthropic.claude-v2',\n",
      " 'Command': 'cohere.command-text-v14',\n",
      " 'Jurassic-2-Mid': 'ai21.j2-mid-v1',\n",
      " 'Jurassic-2-Ultra': 'ai21.j2-ultra-v1',\n",
      " 'Llama2-13b-Chat': 'meta.llama2-13b-chat-v1',\n",
      " 'Titan-Embeddings-G1': 'amazon.titan-embed-text-v1',\n",
      " 'Titan-Text-G1': 'TBD'}\n"
     ]
    }
   ],
   "source": [
    "import json\n",
    "import boto3\n",
    "from pprint import pprint\n",
    "from termcolor import colored\n",
    "from utils import bedrock, print_ww\n",
    "from utils.bedrock import bedrock_info\n",
    "\n",
    "# ---- ⚠️ Un-comment and edit the below lines as needed for your AWS setup ⚠️ ----\n",
    "\n",
    "# os.environ[\"AWS_DEFAULT_REGION\"] = \"<REGION_NAME>\"  # E.g. \"us-east-1\"\n",
    "# os.environ[\"AWS_PROFILE\"] = \"<YOUR_PROFILE>\"\n",
    "# os.environ[\"BEDROCK_ASSUME_ROLE\"] = \"<YOUR_ROLE_ARN>\"  # E.g. \"arn:aws:...\"\n",
    "# os.environ[\"BEDROCK_ENDPOINT_URL\"] = \"<YOUR_ENDPOINT_URL>\"  # E.g. \"https://...\"\n",
    "\n",
    "\n",
    "boto3_bedrock = bedrock.get_bedrock_client(\n",
    "    assumed_role=os.environ.get(\"BEDROCK_ASSUME_ROLE\", None),\n",
    "    endpoint_url=os.environ.get(\"BEDROCK_ENDPOINT_URL\", None),\n",
    "    region=os.environ.get(\"AWS_DEFAULT_REGION\", None),\n",
    ")\n",
    "\n",
    "print(colored(\"\\n== FM lists ==\", \"green\"))\n",
    "pprint(bedrock_info.get_list_fm_models())"
   ]
  },
  {
   "cell_type": "markdown",
   "metadata": {},
   "source": [
    "# 2. Titan Embedding 모델 로딩"
   ]
  },
  {
   "cell_type": "code",
   "execution_count": 6,
   "metadata": {
    "tags": []
   },
   "outputs": [
    {
     "data": {
      "text/plain": [
       "BedrockEmbeddings(client=<botocore.client.BedrockRuntime object at 0x7fca0bdfd570>, region_name=None, credentials_profile_name=None, model_id='amazon.titan-embed-text-v1', model_kwargs=None, endpoint_url=None)"
      ]
     },
     "execution_count": 6,
     "metadata": {},
     "output_type": "execute_result"
    }
   ],
   "source": [
    "# We will be using the Titan Embeddings Model to generate our Embeddings.\n",
    "from langchain.embeddings import BedrockEmbeddings\n",
    "from langchain.llms.bedrock import Bedrock\n",
    "\n",
    "llm_emb = BedrockEmbeddings(client=boto3_bedrock)\n",
    "llm_emb"
   ]
  },
  {
   "cell_type": "markdown",
   "metadata": {
    "tags": []
   },
   "source": [
    "# 3. Load all Json files"
   ]
  },
  {
   "cell_type": "code",
   "execution_count": 7,
   "metadata": {
    "tags": []
   },
   "outputs": [],
   "source": [
    "from utils.proc_docs import get_load_json, show_doc_json"
   ]
  },
  {
   "cell_type": "code",
   "execution_count": 8,
   "metadata": {
    "tags": []
   },
   "outputs": [
    {
     "name": "stdout",
     "output_type": "stream",
     "text": [
      "all json files:  1\n",
      "all items:  1732\n"
     ]
    }
   ],
   "source": [
    "import glob\n",
    "\n",
    "# Specify the directory and file pattern for .txt files\n",
    "folder_path = 'data/poc/preprocessed_json/*ko.json'\n",
    "\n",
    "# List all .txt files in the specified folder\n",
    "json_files = glob.glob(folder_path)\n",
    "# json_files = ['data/poc/customer_EFOTA.json']\n",
    "\n",
    "# Load each item per json file and append to a list\n",
    "doc_json_list = []\n",
    "for file_path in json_files:\n",
    "    doc_json = get_load_json(file_path)\n",
    "    doc_json_list.append(doc_json)\n",
    "\n",
    "print(\"all json files: \", len(doc_json_list))    \n",
    "# Flatten the list of lists into a single list\n",
    "all_docs = []\n",
    "for item in doc_json_list:\n",
    "        all_docs.extend(item)\n",
    "        \n",
    "print(\"all items: \", len(all_docs))"
   ]
  },
  {
   "cell_type": "code",
   "execution_count": 10,
   "metadata": {
    "tags": []
   },
   "outputs": [
    {
     "data": {
      "text/plain": [
       "[Document(page_content='AR 데모 바코드.다음 바코드를 사용하여 녹스 캡처 AR 기능을 테스트하세요.바코드 1 바코드 2 바코드 3 바코드 4 바코드 5 바코드 6', metadata={'source': 'all_processed_data_ko.json', 'seq_num': 1, 'title': 'AR 데모 바코드', 'url': 'https://docs.samsungknox.com/admin/knox-capture/ar-demo-barcodes', 'project': 'KCAP', 'last_updated': '2023-10-16'}),\n",
       " Document(page_content='동영상.이 섹션에는 Knox Capture와 관련된 제품 및 사용 방법 비디오가 포함되어 있습니다.삼성 Knox Capture 시작하기 이 비디오에서는 삼성 Knox Capture를 사용하여 모바일 디바이스를 강력한 바코드 스캐너로 변환하여 바코드 데이터를 읽고, 처리하고, 다른 애플리케이션으로 출력하는 방법을 보여 드리겠습니다.삼성 Knox Capture: Galaxy 디바이스의 엔터프라이즈급 모바일 스캔 솔루션 이 제품 소개 비디오는 Galaxy XCover Pro와 같은 견고한 삼성 디바이스를 엔터프라이즈급 바코드 스캐너로 전환하는 것이 얼마나 쉬운지 보여줍니다.', metadata={'source': 'all_processed_data_ko.json', 'seq_num': 2, 'title': '동영상', 'url': 'https://docs.samsungknox.com/admin/knox-capture/how-to-videos', 'project': 'KCAP', 'last_updated': '2023-07-26'})]"
      ]
     },
     "execution_count": 10,
     "metadata": {},
     "output_type": "execute_result"
    }
   ],
   "source": [
    "all_docs[0:2]"
   ]
  },
  {
   "cell_type": "markdown",
   "metadata": {
    "tags": []
   },
   "source": [
    "# 4. Chunking JSON Doc "
   ]
  },
  {
   "cell_type": "markdown",
   "metadata": {},
   "source": [
    "## Chunk Size and Chunk Overlap Size 결정"
   ]
  },
  {
   "cell_type": "code",
   "execution_count": 11,
   "metadata": {
    "tags": []
   },
   "outputs": [],
   "source": [
    "chunk_size = 1024\n",
    "chunk_overlap = 256\n"
   ]
  },
  {
   "cell_type": "markdown",
   "metadata": {},
   "source": [
    "## Chunking"
   ]
  },
  {
   "cell_type": "code",
   "execution_count": 12,
   "metadata": {
    "tags": []
   },
   "outputs": [
    {
     "name": "stdout",
     "output_type": "stream",
     "text": [
      "Number of chunk_docs after split and chunking= 4057\n"
     ]
    }
   ],
   "source": [
    "from langchain.text_splitter import RecursiveCharacterTextSplitter, SpacyTextSplitter\n",
    "\n",
    "\n",
    "text_splitter = RecursiveCharacterTextSplitter(\n",
    "    # Set a really small chunk size, just to show.\n",
    "    chunk_size = chunk_size,\n",
    "    chunk_overlap  = chunk_overlap,\n",
    "    separators=[\"\\n\\n\", \"\\n\", \".\", \" \", \"\"],\n",
    "    length_function = len,\n",
    ")\n",
    "\n",
    "chunk_docs = text_splitter.split_documents(all_docs)\n",
    "print(f\"Number of chunk_docs after split and chunking= {len(chunk_docs)}\")"
   ]
  },
  {
   "cell_type": "code",
   "execution_count": 13,
   "metadata": {
    "tags": []
   },
   "outputs": [
    {
     "data": {
      "text/plain": [
       "[Document(page_content='AR 데모 바코드.다음 바코드를 사용하여 녹스 캡처 AR 기능을 테스트하세요.바코드 1 바코드 2 바코드 3 바코드 4 바코드 5 바코드 6', metadata={'source': 'all_processed_data_ko.json', 'seq_num': 1, 'title': 'AR 데모 바코드', 'url': 'https://docs.samsungknox.com/admin/knox-capture/ar-demo-barcodes', 'project': 'KCAP', 'last_updated': '2023-10-16'})]"
      ]
     },
     "execution_count": 13,
     "metadata": {},
     "output_type": "execute_result"
    }
   ],
   "source": [
    "chunk_docs[0:1]"
   ]
  },
  {
   "cell_type": "markdown",
   "metadata": {},
   "source": [
    "# 5. Index 생성"
   ]
  },
  {
   "cell_type": "markdown",
   "metadata": {
    "tags": []
   },
   "source": [
    "## Index 이름 결정"
   ]
  },
  {
   "cell_type": "code",
   "execution_count": 14,
   "metadata": {
    "tags": []
   },
   "outputs": [],
   "source": [
    "index_name = \"genai-poc-knox-incremental-ko-1024c-256o-v8\""
   ]
  },
  {
   "cell_type": "markdown",
   "metadata": {
    "tags": []
   },
   "source": [
    "## Index 스키마 정의"
   ]
  },
  {
   "cell_type": "code",
   "execution_count": 15,
   "metadata": {
    "tags": []
   },
   "outputs": [],
   "source": [
    "index_body = {\n",
    "    'settings': {\n",
    "        'analysis': {'analyzer': {'my_analyzer': {'char_filter': ['html_strip'],\n",
    "                                                    'tokenizer': 'nori',\n",
    "                                                       'filter': [\n",
    "                                                                   'nori_number',\n",
    "                                                                   'lowercase',\n",
    "                                                                   'trim',\n",
    "                                                                   'my_nori_part_of_speech'\n",
    "                                                                 ],\n",
    "                                                       'type': 'custom'}},\n",
    "                                   'tokenizer': {'nori': {\n",
    "                                                  'decompound_mode': 'mixed',\n",
    "                                                  'discard_punctuation': 'true',\n",
    "                                                  'type': 'nori_tokenizer'}\n",
    "                                                },\n",
    "                                    \"filter\": {\n",
    "                                          \"my_nori_part_of_speech\": {\n",
    "                                                \"type\": \"nori_part_of_speech\",\n",
    "                                                \"stoptags\": [\n",
    "                                                      \"E\", \"IC\", \"J\", \"MAG\", \"MAJ\",\n",
    "                                                      \"MM\", \"SP\", \"SSC\", \"SSO\", \"SC\",\n",
    "                                                      \"SE\", \"XPN\", \"XSA\", \"XSN\", \"XSV\",\n",
    "                                                      \"UNA\", \"NA\", \"VSV\"\n",
    "                                                ]\n",
    "                                          }\n",
    "                                    }\n",
    "                    },        \n",
    "        'index': {\n",
    "            'knn': True,\n",
    "            'knn.space_type': 'cosinesimil'  # Example space type\n",
    "        }\n",
    "    },\n",
    "    'mappings': {\n",
    "        'properties': {\n",
    "            'metadata': {\n",
    "                'properties': {\n",
    "                               'source' : {'type': 'keyword'},                    \n",
    "                               'last_updated': {'type': 'date'},\n",
    "                               'project': {'type': 'keyword'},\n",
    "                               'seq_num': {'type': 'long'},\n",
    "                               'title': {'type': 'text'},  # For full-text search\n",
    "                               'url': {'type': 'text'},  # For full-text search\n",
    "                            }\n",
    "            },            \n",
    "            'text': {\n",
    "                'analyzer': 'my_analyzer',\n",
    "                'search_analyzer': 'my_analyzer',\n",
    "                'type': 'text'\n",
    "            },\n",
    "            'vector_field': {\n",
    "                'type': 'knn_vector',\n",
    "                'dimension': 1536  # Replace with your vector dimension\n",
    "            }\n",
    "        }\n",
    "    }\n",
    "}\n"
   ]
  },
  {
   "cell_type": "markdown",
   "metadata": {
    "tags": []
   },
   "source": [
    "# 5. LangChain OpenSearch VectorStore 생성 \n",
    "## 선수 조건\n"
   ]
  },
  {
   "cell_type": "markdown",
   "metadata": {
    "tags": []
   },
   "source": [
    "## 오픈 서치 도메인 및 인증 정보 세팅\n",
    "\n",
    "- [langchain.vectorstores.opensearch_vector_search.OpenSearchVectorSearch](https://api.python.langchain.com/en/latest/vectorstores/langchain.vectorstores.opensearch_vector_search.OpenSearchVectorSearch.html)"
   ]
  },
  {
   "cell_type": "markdown",
   "metadata": {},
   "source": [
    "#### [중요] 아래에 aws parameter store 에 아래 인증정보가 먼저 입력되어 있어야 합니다."
   ]
  },
  {
   "cell_type": "code",
   "execution_count": 16,
   "metadata": {
    "tags": []
   },
   "outputs": [],
   "source": [
    "from utils.proc_docs import get_parameter"
   ]
  },
  {
   "cell_type": "code",
   "execution_count": 17,
   "metadata": {
    "tags": []
   },
   "outputs": [],
   "source": [
    "import boto3\n",
    "ssm = boto3.client('ssm', 'us-east-1')\n",
    "\n",
    "opensearch_domain_endpoint = get_parameter(\n",
    "    boto3_client = ssm,\n",
    "    parameter_name = 'knox_opensearch_domain_endpoint',\n",
    ")\n",
    "\n",
    "opensearch_user_id = get_parameter(\n",
    "    boto3_client = ssm,\n",
    "    parameter_name = 'knox_opensearch_userid',\n",
    ")\n",
    "\n",
    "opensearch_user_password = get_parameter(\n",
    "    boto3_client = ssm,\n",
    "    parameter_name = 'knox_opensearch_password',\n",
    ")\n"
   ]
  },
  {
   "cell_type": "code",
   "execution_count": 18,
   "metadata": {
    "tags": []
   },
   "outputs": [],
   "source": [
    "opensearch_domain_endpoint = opensearch_domain_endpoint\n",
    "rag_user_name = opensearch_user_id\n",
    "rag_user_password = opensearch_user_password\n",
    "\n",
    "http_auth = (rag_user_name, rag_user_password) # Master username, Master password"
   ]
  },
  {
   "cell_type": "markdown",
   "metadata": {},
   "source": [
    "## OpenSearch Client 생성"
   ]
  },
  {
   "cell_type": "code",
   "execution_count": 19,
   "metadata": {
    "tags": []
   },
   "outputs": [],
   "source": [
    "from utils.opensearch import opensearch_utils"
   ]
  },
  {
   "cell_type": "code",
   "execution_count": 20,
   "metadata": {
    "tags": []
   },
   "outputs": [],
   "source": [
    "aws_region = os.environ.get(\"AWS_DEFAULT_REGION\", None)\n",
    "\n",
    "os_client = opensearch_utils.create_aws_opensearch_client(\n",
    "    aws_region,\n",
    "    opensearch_domain_endpoint,\n",
    "    http_auth\n",
    ")"
   ]
  },
  {
   "cell_type": "markdown",
   "metadata": {},
   "source": [
    "## 오픈 서치 인덱스 생성 \n",
    "- 오픈 서치에 해당 인덱스가 존재하면, 삭제 합니다. "
   ]
  },
  {
   "cell_type": "code",
   "execution_count": 21,
   "metadata": {
    "tags": []
   },
   "outputs": [],
   "source": [
    "from utils.opensearch import opensearch_utils"
   ]
  },
  {
   "cell_type": "code",
   "execution_count": 22,
   "metadata": {
    "collapsed": true,
    "jupyter": {
     "outputs_hidden": true
    },
    "tags": []
   },
   "outputs": [
    {
     "name": "stdout",
     "output_type": "stream",
     "text": [
      "index_name=genai-poc-knox-incremental-ko-1024c-256o-v8, exists=True\n",
      "\n",
      "Deleting index:\n",
      "{'acknowledged': True}\n",
      "\n",
      "Creating index:\n",
      "{'acknowledged': True, 'shards_acknowledged': True, 'index': 'genai-poc-knox-incremental-ko-1024c-256o-v8'}\n",
      "Index is created\n",
      "{'genai-poc-knox-incremental-ko-1024c-256o-v8': {'aliases': {},\n",
      "                                                 'mappings': {'properties': {'metadata': {'properties': {'last_updated': {'type': 'date'},\n",
      "                                                                                                         'project': {'type': 'keyword'},\n",
      "                                                                                                         'seq_num': {'type': 'long'},\n",
      "                                                                                                         'source': {'type': 'keyword'},\n",
      "                                                                                                         'title': {'type': 'text'},\n",
      "                                                                                                         'url': {'type': 'text'}}},\n",
      "                                                                             'text': {'analyzer': 'my_analyzer',\n",
      "                                                                                      'type': 'text'},\n",
      "                                                                             'vector_field': {'dimension': 1536,\n",
      "                                                                                              'type': 'knn_vector'}}},\n",
      "                                                 'settings': {'index': {'analysis': {'analyzer': {'my_analyzer': {'char_filter': ['html_strip'],\n",
      "                                                                                                                  'filter': ['nori_number',\n",
      "                                                                                                                             'lowercase',\n",
      "                                                                                                                             'trim',\n",
      "                                                                                                                             'my_nori_part_of_speech'],\n",
      "                                                                                                                  'tokenizer': 'nori',\n",
      "                                                                                                                  'type': 'custom'}},\n",
      "                                                                                     'filter': {'my_nori_part_of_speech': {'stoptags': ['E',\n",
      "                                                                                                                                        'IC',\n",
      "                                                                                                                                        'J',\n",
      "                                                                                                                                        'MAG',\n",
      "                                                                                                                                        'MAJ',\n",
      "                                                                                                                                        'MM',\n",
      "                                                                                                                                        'SP',\n",
      "                                                                                                                                        'SSC',\n",
      "                                                                                                                                        'SSO',\n",
      "                                                                                                                                        'SC',\n",
      "                                                                                                                                        'SE',\n",
      "                                                                                                                                        'XPN',\n",
      "                                                                                                                                        'XSA',\n",
      "                                                                                                                                        'XSN',\n",
      "                                                                                                                                        'XSV',\n",
      "                                                                                                                                        'UNA',\n",
      "                                                                                                                                        'NA',\n",
      "                                                                                                                                        'VSV'],\n",
      "                                                                                                                           'type': 'nori_part_of_speech'}},\n",
      "                                                                                     'tokenizer': {'nori': {'decompound_mode': 'mixed',\n",
      "                                                                                                            'discard_punctuation': 'true',\n",
      "                                                                                                            'type': 'nori_tokenizer'}}},\n",
      "                                                                        'creation_date': '1700979535190',\n",
      "                                                                        'knn': 'true',\n",
      "                                                                        'knn.space_type': 'cosinesimil',\n",
      "                                                                        'number_of_replicas': '2',\n",
      "                                                                        'number_of_shards': '5',\n",
      "                                                                        'provided_name': 'genai-poc-knox-incremental-ko-1024c-256o-v8',\n",
      "                                                                        'uuid': 'UEdLQpREQqKVkkN0Cb0XCw',\n",
      "                                                                        'version': {'created': '136307827'}}}}}\n"
     ]
    }
   ],
   "source": [
    "\n",
    "index_exists = opensearch_utils.check_if_index_exists(\n",
    "    os_client,\n",
    "    index_name\n",
    ")\n",
    "\n",
    "if index_exists:\n",
    "    opensearch_utils.delete_index(\n",
    "        os_client,\n",
    "        index_name\n",
    "    )\n",
    "\n",
    "opensearch_utils.create_index(os_client, index_name, index_body)\n",
    "index_info = os_client.indices.get(index=index_name)\n",
    "print(\"Index is created\")\n",
    "pprint(index_info)"
   ]
  },
  {
   "cell_type": "markdown",
   "metadata": {
    "tags": []
   },
   "source": [
    "## 랭체인 인덱스 연결 오브젝트 생성\n",
    "\n",
    "- [langchain.vectorstores.opensearch_vector_search.OpenSearchVectorSearch](https://api.python.langchain.com/en/latest/vectorstores/langchain.vectorstores.opensearch_vector_search.OpenSearchVectorSearch.html)"
   ]
  },
  {
   "cell_type": "code",
   "execution_count": 23,
   "metadata": {
    "tags": []
   },
   "outputs": [],
   "source": [
    "from langchain.vectorstores import OpenSearchVectorSearch"
   ]
  },
  {
   "cell_type": "code",
   "execution_count": 24,
   "metadata": {
    "tags": []
   },
   "outputs": [
    {
     "data": {
      "text/plain": [
       "<langchain.vectorstores.opensearch_vector_search.OpenSearchVectorSearch at 0x7fca00237dc0>"
      ]
     },
     "execution_count": 24,
     "metadata": {},
     "output_type": "execute_result"
    }
   ],
   "source": [
    "vector_db = OpenSearchVectorSearch(\n",
    "    index_name=index_name,\n",
    "    opensearch_url=opensearch_domain_endpoint,\n",
    "    embedding_function=llm_emb,\n",
    "    http_auth=http_auth, # http_auth\n",
    "    is_aoss =False,\n",
    "    engine=\"faiss\",\n",
    "    space_type=\"l2\",\n",
    "    bulk_size=100000,\n",
    "    timeout=60    \n",
    ")\n",
    "vector_db"
   ]
  },
  {
   "cell_type": "markdown",
   "metadata": {},
   "source": [
    "## OpenSearch 에 문서 삽입"
   ]
  },
  {
   "cell_type": "code",
   "execution_count": 25,
   "metadata": {
    "tags": []
   },
   "outputs": [
    {
     "name": "stdout",
     "output_type": "stream",
     "text": [
      "CPU times: user 11.7 s, sys: 603 ms, total: 12.3 s\n",
      "Wall time: 7min 15s\n"
     ]
    },
    {
     "data": {
      "text/plain": [
       "['1cb0f4a4-97be-43f9-8750-bddd918ed55e',\n",
       " '4f7a3e2c-13af-451b-a8e4-5e3132a68ec4',\n",
       " '24a463c6-50ef-426a-8b95-b9a18abab371',\n",
       " 'f17d43b6-3cd2-4f14-a325-868a223244af',\n",
       " '6b993717-b06c-4dd0-bdf8-1ce8ea521750',\n",
       " 'ee1d5237-04d4-4d66-a07d-10cc4de93cb7',\n",
       " '7a9e07cd-64ac-4d18-9243-cf5849d4e227',\n",
       " 'df818ff9-ce5e-4692-8c2b-f8c207923629',\n",
       " '1007ee43-aaff-47fb-a945-d19231c557f5',\n",
       " '591770ff-fe86-43de-9937-0ae5cbca6bd8',\n",
       " 'ccf9691c-ebbd-4d77-97a8-ffc5812c1d6a',\n",
       " 'ff5c9e66-1a03-4be3-9a19-c87aafa91c0a',\n",
       " 'e17dea3d-be72-4050-bac6-81110048562d',\n",
       " 'eff83210-3b65-4217-aab9-36b6314ef9ed',\n",
       " '2a4ce7ee-c7e1-49c7-8caf-698ec9909c33',\n",
       " 'f060c308-3eae-4ae1-91d2-81935df7f42f',\n",
       " '8edd44cf-2044-4436-b9b5-4c0e6ced1f31',\n",
       " 'bdce492d-f738-4f3f-a48a-48968e00a5cb',\n",
       " '15e291a9-985d-440b-aa29-6a11009fd961',\n",
       " 'a31049e6-d7a4-4f57-a8c6-91795bda7bf1',\n",
       " 'a382d6fb-129f-49c3-88aa-045c8bf8daa7',\n",
       " '3e59c079-1e43-44a4-a403-381860e4b4a4',\n",
       " '78c54a87-2271-4695-85bf-9655a8d3cdb2',\n",
       " 'b40cc18e-825d-4c09-91de-57ed91da2118',\n",
       " 'bd44f012-4c5e-4752-b441-a33ff9f46fc3',\n",
       " '9e98e8e0-6bf6-4539-a54a-76ada85714f4',\n",
       " '877c49e7-fdaa-45fa-b186-6d6f9f8f2901',\n",
       " '54309469-a8e0-4019-998c-8dc8de8cccc4',\n",
       " '35862ab2-9c49-4306-9e6b-4d7db998d297',\n",
       " '2ccddc7c-b676-40e3-862f-7eb5065caf62',\n",
       " 'd02bb204-dd75-4c89-a539-b3bc5a687b33',\n",
       " 'd7a997e2-1a78-4e16-bac5-42fd459a63c4',\n",
       " '85692efd-f7ad-4c28-8379-031249f0d52c',\n",
       " 'c973c07d-08bf-48d4-ba74-89f64d991a68',\n",
       " 'ad85cf33-72d4-42af-b8d5-4c0197341eca',\n",
       " '8bac0208-9083-4b3a-b131-a557cdd21231',\n",
       " '5602e613-9c6a-45f8-9f06-13732ee0c12e',\n",
       " 'cf617b0d-ae8f-4234-bf23-5d40b7b7038e',\n",
       " '90723e15-b9dc-4ab8-8192-db58cee26c6f',\n",
       " '02dc16fc-4b84-49c8-9197-97428f7d4243',\n",
       " '9956e94e-de5e-4a03-9e56-967170d20caf',\n",
       " '26456030-2034-4d1d-b70d-8538197e9f4b',\n",
       " 'd1cb2e6f-d491-49ca-9390-190cc885af02',\n",
       " '01dcde11-a9c7-4945-b104-bcc9ce6f64a2',\n",
       " '845ca069-cb0e-43b1-b3b7-6415f8ab501f',\n",
       " 'c351dc9b-f575-4a3d-a7c7-9a1ebe9b3e72',\n",
       " '267bbfe9-2e5d-41c2-b702-b79172cfd710',\n",
       " 'eebb849a-8733-4886-97a2-3a3572faf3bd',\n",
       " '74703c17-8b94-4dbc-bd70-6797cdeaa7df',\n",
       " '795b4902-1fed-4440-8757-5371838c092d',\n",
       " 'f42968bd-b9d4-4d9a-86cf-fbe7e989f0d4',\n",
       " '5831ae89-a8b0-4f23-a675-b27cd2b89c3c',\n",
       " '5303a4da-432d-4a57-85f7-87a77e580447',\n",
       " '372cca75-f38b-4109-903d-a9a8df0bcfc7',\n",
       " 'f5787197-4321-46c6-b85d-9ab48fe5194a',\n",
       " '7e0ebf2a-1b11-428f-8df1-f35b45d7dcb4',\n",
       " 'a04b75c8-be78-4e5c-a344-9e557996636a',\n",
       " 'aeac2de2-edcd-43d9-a777-381f99d84a0e',\n",
       " 'b4b1eacb-dd80-49ae-aa62-a2b232f93e47',\n",
       " '72479f56-86b6-41e2-baaf-50af05bb0733',\n",
       " '71c4a8ed-8bb9-485e-b840-12e15c8d62df',\n",
       " '300fef62-c047-4230-bea2-a35747fc2ead',\n",
       " '1e768a49-b66a-4b9c-80fe-1e5fe25c6b34',\n",
       " '2ea0ac5d-7f43-4821-b34d-6ab32e96965c',\n",
       " '198868db-5bfe-43ba-ada0-dffb35af6d96',\n",
       " '6ff346b2-3edc-4df8-a615-ff9893647550',\n",
       " 'd0428c8e-680d-4268-8527-81f79087d2a1',\n",
       " '91f1c7ed-1809-459e-8f49-4acf36c089cb',\n",
       " 'b0103527-eeca-49ae-bd95-ee768e3f2c0e',\n",
       " '50e68c79-bbb7-465a-9b91-2d47d9a1c591',\n",
       " '4ebd82af-bc96-4fbe-8390-e575608f0e4d',\n",
       " '25eb8222-a9a7-4c00-9d7c-c4ad95aea471',\n",
       " '0861b807-0fe2-4472-9b67-1ceb3f63ab2e',\n",
       " 'a5aa4447-a4de-4208-8570-6cf3cac978f2',\n",
       " 'bea5d136-94df-48b8-888b-174413996a59',\n",
       " 'fd9642db-567d-4b6b-9ccd-704131b30a5c',\n",
       " 'bbe53836-1137-4518-a64b-04edc2ee08a8',\n",
       " 'e5a17d57-5476-4db2-ad19-a21d33bf2ccf',\n",
       " '5562fd4b-01af-4ceb-9596-e8c3050e1426',\n",
       " 'c3f976c5-fe75-4b62-902b-e6d13964ff81',\n",
       " '70994600-82fb-4712-b93a-6d132164c6bb',\n",
       " '9a256c17-b92f-4992-af2b-c066a710eca7',\n",
       " '3c86f08f-fc70-4772-bb46-1dadf09c7503',\n",
       " '3c99c9a9-6d9f-4580-a3e0-cd443da84867',\n",
       " 'e5b795e6-18c5-405a-a714-380f23d45d07',\n",
       " '4ac712f5-c81c-4823-b1fb-89df1c11789c',\n",
       " '748674b3-ad39-4b15-b974-6ae7aaedf90e',\n",
       " '188dbffe-42b5-4c8c-92de-1b1aeecb33d3',\n",
       " '6c394b32-7146-4a0f-8eee-eeac8b622b95',\n",
       " 'ff9256e8-dc7d-4256-afea-5ab7a84305a2',\n",
       " '23db8847-ae76-4a32-9d4f-46cc1ec0b9d4',\n",
       " '7a347c7d-05b6-49d4-a6e7-af3a015c8177',\n",
       " '6e90099d-b7e4-46e3-aec8-e6b785bb833a',\n",
       " '6e85864b-0669-43f7-b797-c3a089e3bbbe',\n",
       " '844b11f3-2fd3-4325-ae76-f9a5daace1ef',\n",
       " '47cf771b-9393-400b-94e8-07a9e9af865b',\n",
       " 'fe705ece-0c01-428c-a935-5b0087283aa2',\n",
       " 'c82a49d6-a2fc-47f3-96cb-71b02d240f53',\n",
       " 'a01d55e8-cac1-4340-b9d6-0dad201e3150',\n",
       " 'ac3c4a3f-0ac6-4d72-b227-5a15274cc5f1',\n",
       " 'd543be5b-e26e-4fb6-91a9-70ad8af89998',\n",
       " '01dec592-7b98-46fd-a446-891010620b42',\n",
       " '6c8ab4a5-b322-4785-9ad8-7b385d601031',\n",
       " 'efb4eedd-0501-4a32-82bf-8a2d46ee7012',\n",
       " '8a95754e-e4fb-436e-b96f-00f04f1570c3',\n",
       " 'bfa7e7c8-e45b-4856-a404-c01f29a88bb1',\n",
       " '7396989e-92c8-431c-a7f8-27334999e82c',\n",
       " 'b40dc428-739b-48c0-883f-c4d6b2869bbe',\n",
       " '582086d0-ba79-4d7a-97db-82f2c4a83afc',\n",
       " '75fa5cd5-c543-4134-8fd1-0f21acbd6139',\n",
       " 'd3d9f6b1-a262-4147-af9c-52d60a3561f5',\n",
       " 'c59b9939-7440-4cc2-a96e-abf936045c46',\n",
       " '747fa852-8433-46f5-b8bc-05df763ef05f',\n",
       " 'b4085645-379c-4d20-97f8-e08b6b96b868',\n",
       " '7f71056f-f040-48c8-8f31-19bd20c5b28d',\n",
       " 'e3d07955-85d3-4f80-849c-a2d3c27b4cdd',\n",
       " '9d5657e4-4f6e-42d5-8705-5ddb4cbd83e9',\n",
       " '0a13f271-8184-4693-adc1-cf4e0fd5cb54',\n",
       " '93a29649-ce08-499d-9984-0293d08858f7',\n",
       " 'a7b7dc7d-5e72-447d-8e90-33e48558f457',\n",
       " '0049c112-bba0-4a2f-8d4b-4e5ff5b18e3c',\n",
       " 'd3c399b3-3c62-427c-9229-ed60c4187333',\n",
       " 'e34106fe-068c-4841-997f-60c2569f5cb4',\n",
       " '25048621-d738-44c6-937d-194e6821fea7',\n",
       " '91be4721-6d7f-4ed1-a02b-ad31923c9323',\n",
       " 'eb7f4a72-7170-48a8-9209-400231d08e88',\n",
       " '9a29177a-2dfb-42e3-a986-5ebec3c1fbfd',\n",
       " '73c6fe7e-6924-438d-8a26-d3cc5042822e',\n",
       " 'e3fa2c45-7bf6-46d6-ba7a-29fd9c29ec88',\n",
       " '77dadb44-b818-4840-a02a-dec90ded402f',\n",
       " '5f359481-9166-4ee0-9649-effa4d9d197f',\n",
       " 'd706364a-a259-4bd8-b76f-d3a5ae2e7496',\n",
       " '36193dd1-db8b-4500-9c32-9e0fe1d57f7c',\n",
       " '8a66118b-ba94-4d0c-8f79-1fc6cff2ed2f',\n",
       " '33e2b403-4b29-414f-88a4-061a6944658b',\n",
       " 'ad5ed25d-b7e9-45e7-9ffe-8496afc9ac78',\n",
       " '6c51911e-196c-43d5-81a9-9fca8a89433a',\n",
       " '528dd675-2e1e-4e07-9c89-b0ed16ba2bf1',\n",
       " '4f0d2c93-61cb-41d2-859d-984df8ac5b8c',\n",
       " '7a1d7aab-9a53-454e-b64d-02845a9dc349',\n",
       " '428e608c-f2d8-4c95-88a6-03d10a611fbc',\n",
       " 'e25de814-2c4f-44f0-b363-86d1be953ef2',\n",
       " 'd315adff-d8e7-4a9e-9bb2-e581916b0065',\n",
       " 'fdbc86b7-d531-477e-9934-aaec91065ad0',\n",
       " '7b2ef037-336e-4106-8462-72da41c9dc4a',\n",
       " '29cf82fd-cfdb-4b16-8e82-cd9f738ce617',\n",
       " '0f1c5852-1a04-4f7a-aef7-7ef824956022',\n",
       " 'c3957789-d447-4f42-89d3-8e22edc23a94',\n",
       " '55d3dc2a-2421-4a1c-9b17-918fe0be9d18',\n",
       " '2f90eedb-5c2e-4d52-a9ab-4a3655aa7002',\n",
       " '53a11638-2e97-4e45-851c-dfad47c76fcd',\n",
       " 'ea469e1a-e2aa-438b-9eda-3d09b61f8b2b',\n",
       " 'd7e334d7-e369-428e-b176-7c41f3cd63a7',\n",
       " 'a28b7412-906d-40b8-a920-48eca7f02b04',\n",
       " '114c16d9-727b-424d-b659-6b554f85263b',\n",
       " '39d10e02-5853-46c0-9648-c8a1eaa6a830',\n",
       " 'ec4d9903-a0c3-4d20-b22e-a1bd807c46e8',\n",
       " '42c1db33-cca3-45ab-a267-68a49c08005e',\n",
       " '2aa1cf70-6173-4604-9100-fe6c28429b79',\n",
       " '4e2d0ea3-05f2-40a7-b430-9d2cb01701c6',\n",
       " 'ecaca010-555d-4897-a314-d7cb576cd677',\n",
       " '690e0c78-af02-44f5-993e-bf22aeb1c05c',\n",
       " 'f43c3de4-f370-4def-b21e-4244d8627e86',\n",
       " '5d09fb70-5a99-421b-b2ba-e8091a8ace67',\n",
       " 'c7f526a4-fe26-449e-a8d7-bfdccc091b41',\n",
       " '21974794-da0f-40d7-ac2c-a6ce8a08bb0d',\n",
       " 'eeb03ab2-e67e-4e02-993d-fb6e11a42de5',\n",
       " '4e96cda5-6398-4b62-a8f6-12ca4eae63ef',\n",
       " 'd6f1268b-a6c8-452a-8998-4f9dbbd4ac92',\n",
       " '2ac1ad12-24ce-4bb5-89db-e5991817b3e2',\n",
       " '1208969a-1416-469a-bc40-039d275cb611',\n",
       " '29991370-f3b0-47c1-a0a6-48dbf0017766',\n",
       " '1ced5855-3639-4733-b46c-48dab12ef11e',\n",
       " '9b108f24-934e-47d0-81c2-c92a0204f3ac',\n",
       " '4954298d-62a7-4e53-bbca-516eeddcb6ad',\n",
       " '4c99f7e6-8541-4ffd-9be1-637cae98c224',\n",
       " 'c6e400b1-4940-4261-aa3a-4646830195bd',\n",
       " '25fb866a-0b8c-4efd-92c3-2ce821305918',\n",
       " '645d4fca-451b-461c-ad6f-beb93d9725fa',\n",
       " '1cb2b761-f97d-4cbb-907a-41026a0c3ccc',\n",
       " '647ed53a-a834-4466-b16f-335169c2b16d',\n",
       " 'ce5fb365-02a6-424d-943f-2aea1f805604',\n",
       " 'e53c2c12-b950-454b-b606-505c5a0be793',\n",
       " 'ec0e425c-d39a-4f41-98a1-db39bbeb3a97',\n",
       " '88216444-f887-4f18-8393-5d915b5b0fc3',\n",
       " 'c0bd98ad-dd52-485c-999c-417a27017cec',\n",
       " 'eb1292de-3f76-4f5c-b14b-324526b2f41f',\n",
       " '23fdfca5-d329-4ef5-b8ec-f446c23579c5',\n",
       " '30bea912-b293-4587-9ed3-7d76bb0c3993',\n",
       " '95916a64-1e42-487f-aa5d-3f7a2ae53c6b',\n",
       " 'c1d1047b-4e35-4149-a290-c0eddf68fde0',\n",
       " 'a56465d0-b719-4fc3-b1f2-c10ecd29999e',\n",
       " '5f4a9786-4db3-4e68-ae5f-28d6f4b09971',\n",
       " 'b86e05d6-e713-4f96-895b-52dc779b3cab',\n",
       " 'e6c74f31-1a07-4da2-9198-31842f3ea1d1',\n",
       " '897c34e2-2782-4377-9eda-05df98a6b4cd',\n",
       " 'cc244539-ba74-4cf0-8d32-1f2f8ee9ce8a',\n",
       " 'cad4cce5-a712-4a93-90eb-df7657a7da58',\n",
       " 'cdac72bf-9518-45c8-b051-a4765fe65205',\n",
       " '2daa081b-b38f-481c-bb89-05ced9d24852',\n",
       " 'f4196c48-258d-48f6-91cd-df7fcb3c5950',\n",
       " 'ed6fb4d1-5794-49b9-a08d-3b4d40bdb9a2',\n",
       " '6f2fc47c-8fa4-4504-a98a-3d65b7fddab8',\n",
       " '8c657768-8571-41d6-aac9-991ddd782dac',\n",
       " 'c4e9a4b7-8046-4409-be1b-3a944fad9e64',\n",
       " '126ef954-39ed-4b5c-abfa-b3743978ace0',\n",
       " '2166bc9c-2e47-4192-b634-6a792911aa86',\n",
       " '7ed832d8-a8ab-44ce-9880-2ebe4652501c',\n",
       " '4746dc78-52c7-4c10-9e91-9e387aa107d0',\n",
       " '1a2a5a62-6147-4368-8227-f53f7088c1cd',\n",
       " '6eeaf239-58ec-4b4b-8754-550469fcd5f6',\n",
       " 'a365dcd2-24b1-4fb3-870b-c17a0773e4db',\n",
       " 'f1ea590c-134f-434e-a5f8-bac2f7189ae6',\n",
       " '656e5aee-014a-4fdc-8646-aa00a370a770',\n",
       " '3addd854-f32c-42c2-96cc-f268efcc04ab',\n",
       " '5582e19c-ca18-41c6-b2a9-ef5b6ffeed1f',\n",
       " 'bed7badb-c586-46cb-8a9a-b4a349ca141e',\n",
       " 'bcc1eac4-e1bd-4e8a-9724-2bf50cb0f5de',\n",
       " '00116593-855e-4ebb-8eab-58060ed174e9',\n",
       " '8266bf40-fe98-4a45-b273-b8433bed33c5',\n",
       " '24cebe0a-e1cd-4364-a3d2-7d9afd87ab8a',\n",
       " '338e17c5-476e-47be-83a9-3a6be08d1679',\n",
       " 'cdfc5d4e-40c6-4a36-8446-e71df85dbd4d',\n",
       " '7476f000-155a-4c35-b566-cf9db567c067',\n",
       " '86741257-8bf5-45c3-9688-0201e32dce29',\n",
       " '1b29d756-b275-4eab-be4d-f297b5ebeb8c',\n",
       " '733ff578-3330-4e22-be3e-21c15087de7b',\n",
       " '9ec19938-281f-4e92-851a-7ef74f211ff7',\n",
       " 'ded60d0e-75b8-4cd8-9c0b-0dc0243d0920',\n",
       " '5c1315e4-168a-4ecb-badf-24f537aed60c',\n",
       " 'ae31f4c6-5e82-43a2-a72b-38649e00aef3',\n",
       " '535e2421-5098-4fda-a970-402483b17b11',\n",
       " '77c637f5-0024-4e5d-9229-3c26b8284002',\n",
       " 'd7cabcd9-e5cf-468e-8a66-d880e6924fcb',\n",
       " 'f615c318-8eca-4309-9dc1-068f23062f2f',\n",
       " '9db9abaf-d59f-40ae-afe8-782ec6db738a',\n",
       " '94cfe3b0-9024-4634-8d62-6656a6ced5e3',\n",
       " 'ffc6af46-142a-4cf6-9ac6-443e5fbef0d1',\n",
       " 'f236d8fc-0b0a-46b5-87ec-4258b2e1c696',\n",
       " '96aecf1d-f2e0-4c6f-bc9e-01daaf1cd159',\n",
       " 'dadf796c-b463-48b9-bc67-28e6a36401d3',\n",
       " '4125b4fd-8821-43ba-92f2-91563eb0d1fb',\n",
       " 'f8febfec-72aa-417c-9d63-02fc74daf7e8',\n",
       " 'f8c8eec3-1736-4cef-9d4f-5b8867b44fde',\n",
       " 'fc2befc6-398f-437d-9e4f-03bcd455ed39',\n",
       " 'f241b573-1320-40c9-bd39-00241da05ec1',\n",
       " 'b7802c74-e418-4cb9-95e8-97664dd71fca',\n",
       " '20271c34-e366-4bf9-a2f0-aaed673001b5',\n",
       " '26723143-d241-42e4-94d0-a102a0afc7a1',\n",
       " '2f9764b8-f5b8-41ba-a7f9-12a4f5c74472',\n",
       " '1f985724-c7ca-4d1c-bce2-f3e0ed933585',\n",
       " 'a0a4179e-edc5-47fa-a72a-4437f36e4ac1',\n",
       " '37cba6fa-28d8-4937-a9f1-ab25e487c975',\n",
       " '03650ead-cc19-4f35-928a-cc2a06b5e18f',\n",
       " '3865eace-3582-41fb-9a99-12459c9363c1',\n",
       " '8d306589-75a2-4910-969d-2754322c6b26',\n",
       " 'ac37dfad-2ce1-482b-9e08-5daabb225ed1',\n",
       " '8df4693e-5d06-418d-91ec-0ced051fb40e',\n",
       " 'a028c756-5928-4e0b-a18a-656a2a555941',\n",
       " '2d957623-602f-484d-93c9-7782e9f39b01',\n",
       " 'ab20c2f2-c91f-443b-994d-4989438cc07e',\n",
       " '2583b0ae-6cca-47cf-8096-0aa2779fc1a8',\n",
       " 'a7dfc824-4e89-478f-87cf-d224fb6720d0',\n",
       " '8ac5c2ef-461c-48c2-9090-7643ad1335ea',\n",
       " '6a7eecd7-0feb-43b9-8d24-e7ac625b2d1c',\n",
       " '6c03b2ec-ab33-42b9-abeb-03355c1797e6',\n",
       " '60f69fb4-8489-481f-9c51-9d9fd0e2fec2',\n",
       " 'fbed212b-61e7-4818-ac74-6940710a4f95',\n",
       " '327c4b7f-3215-4854-9eea-8f9748e68538',\n",
       " '926686c9-8d8d-4816-8a1a-7a7742d5a15d',\n",
       " 'e098720e-718a-40d9-a829-113a2b5c925c',\n",
       " '33a5cbb5-ea64-4fe4-91c0-999edf5cf1b1',\n",
       " '5660fde0-c8ef-466a-869c-9b3fba815ae5',\n",
       " 'aa68581b-1fc4-4ba3-9aec-888a0118ee5c',\n",
       " 'c2901be6-5f2e-40d2-8343-413c0da6b438',\n",
       " '2822fb2f-322b-4cec-a5cc-281474a8141b',\n",
       " 'a1ba48b7-9ee7-4711-aeee-f0fe0d104123',\n",
       " '37358f44-7231-416e-8b28-64a2443b1d23',\n",
       " 'f6c09794-1880-48e4-ab34-86f17e0fa421',\n",
       " 'df3ea99e-c46d-4e06-af34-ca49cc861847',\n",
       " '23a13521-7520-4d57-9da3-df98be4a0b92',\n",
       " 'b448f9f4-52e8-4db9-90b9-4adab6ede46e',\n",
       " 'd1f955ac-6fc4-47ad-9f48-4729f6922e90',\n",
       " '5ff33fa0-3cd2-40c0-afe7-0e4584d04d02',\n",
       " '8bbb18ab-a126-4234-829c-c981922e2829',\n",
       " 'd314c52d-785f-40bb-b438-0387c4f82d03',\n",
       " '12f74742-053d-423c-80a9-2706e4916235',\n",
       " '72bce9cb-1841-44e4-96ac-2a8bfd91a89d',\n",
       " '448120c0-4f34-4951-8aa2-6527e64972d3',\n",
       " 'e602e1d3-3add-4de2-b1f6-fdfbd4924287',\n",
       " 'cca8af44-3074-48a3-834a-308ea59c08ef',\n",
       " '4ac49d3a-9c0a-4996-bdfb-31e75b3c059c',\n",
       " '67518395-71ba-456b-96d5-240186818686',\n",
       " '0ba4ff3c-2c29-42a5-bb48-1d621ee5b1cb',\n",
       " '24c9ad54-3036-47c5-a972-7db5534ed7ad',\n",
       " '48c49eb5-e4e1-45d5-8a23-1e2b2086dc66',\n",
       " 'f3307d68-583b-4a09-bd19-17f96f604413',\n",
       " '09a81017-46ab-46bd-9777-04944c8b1ab0',\n",
       " '9eee9424-9333-40d0-b6ce-f83be5e5bfd5',\n",
       " '3c57eaf7-d4be-499e-a439-75d590bd4fdc',\n",
       " '0942fc91-46d0-463e-856b-5f2341868125',\n",
       " '081c2732-1ea0-4b80-a65b-a2bd996dfc0f',\n",
       " '21783984-3bc7-4977-9a83-2b2db7c075a2',\n",
       " '2ea35b07-e3ba-4dc3-9867-ce9fe8156d93',\n",
       " 'ee314bc5-5b21-48d3-98cb-6d1eace41911',\n",
       " 'cc8aad8b-8146-43fc-8535-d19ec707c6bb',\n",
       " 'a4139230-7170-456a-a833-c551c9b6ee54',\n",
       " '4d9e7595-9f98-4378-ae79-284242054b7c',\n",
       " 'a7c48e9e-702a-4e21-985f-3bfac40e1ea7',\n",
       " 'fab0a538-a23f-4fe9-a393-2b2741f090b6',\n",
       " '9b168e52-5106-4ba9-a9ce-296f9d541e5f',\n",
       " 'c45906b0-8030-4b78-8ded-1637178959ec',\n",
       " '9087cfb8-d880-4eb4-9ec9-839cb68e88ca',\n",
       " 'd7d3bb5a-ce93-4f99-8b3f-e052602e0988',\n",
       " 'ac98c3a6-d2f7-46e7-b14d-a88d66dd3617',\n",
       " '48b1d695-96e1-4b6d-a334-3d22872e59f6',\n",
       " '9c4acd4d-9302-4c65-9c7a-85d48c2786d3',\n",
       " '3ac95921-e617-427d-aebd-a9ff4f16b961',\n",
       " '62fb6d47-4f5f-4333-83d8-0de43c3c6ecd',\n",
       " '29425da6-38d9-4dbc-a20a-2578d44addf6',\n",
       " 'f5a0c525-ad29-43b0-ae17-87272c0105d6',\n",
       " 'd62910a6-a04a-4274-be51-d4158377f35f',\n",
       " '829636c1-adeb-4b8d-aab8-769522c9c9a2',\n",
       " 'b441d9b9-95ff-4e25-ba2e-b587e7444780',\n",
       " '44beb396-30e9-4ed6-8869-621973743775',\n",
       " '2832ca38-a2d6-4586-a370-dbbde8bca170',\n",
       " 'f9af22cb-0c0b-4f73-a36c-39b777548602',\n",
       " '4a94e34e-f2c8-42f9-8f35-bb7bdfcccb9d',\n",
       " 'efca4c8f-6140-480b-b791-6d9b20216efd',\n",
       " '4bd0c7f2-46e3-4479-ad01-576a3429ee09',\n",
       " '4c6d2569-6a83-4d03-b177-4ac4f54b1f83',\n",
       " '1bd54dc4-a2ca-457b-a792-42725adf37b8',\n",
       " 'b190cb0f-11ee-4cbd-ac47-9a90728641d1',\n",
       " 'dc04144a-6ae1-4416-b343-be04ad55e6dc',\n",
       " '96fe2fd4-bfd6-45ff-bcf9-d3fb3e32acf7',\n",
       " '39b06d87-c359-4819-9281-4d3ac2af0085',\n",
       " 'c5b6db02-9b89-4cdd-8020-2cad93d3483b',\n",
       " 'b3c4f53a-e2ce-4fac-b2d6-c97880503803',\n",
       " 'a3897c1f-172f-4d96-bead-324058a941d5',\n",
       " 'f8011a86-0a31-451b-b250-b7fde112ac19',\n",
       " '78f5f181-22cb-4393-bb3c-0bb614fa42ce',\n",
       " '4dd580d1-70b7-4f19-bb55-842ff110fd1e',\n",
       " '8c2282f3-3dda-4408-bdae-0741b71515a4',\n",
       " '3ded7850-2913-4856-b4cd-e4dea14e78ee',\n",
       " '2254fd15-482d-46ab-8e8c-fcd07f23e38b',\n",
       " '05116d74-2267-45a6-9fc2-8d1b5561d5f8',\n",
       " '74a15241-d870-4617-8b14-10ff41024f57',\n",
       " 'ba320973-ad22-4950-8618-4fe870e0f7f4',\n",
       " '9280b79f-ee6f-4b09-920c-aad0154ee3dd',\n",
       " 'a6b1b8c5-cb08-472f-ad0f-ceb32ba04d71',\n",
       " '18ce3791-bf4f-4d19-82f1-9b803eab158e',\n",
       " '5044d298-3264-42f9-a9c6-147a06dc90ae',\n",
       " 'ebb0a355-e305-4d64-a8be-eb61146e715f',\n",
       " '9298be41-8b38-45a3-8621-5836142cbfc1',\n",
       " '660ab376-10e9-45a5-94c3-40dbd77d6ee7',\n",
       " '2685e8f7-62a6-427c-aff6-8217cef3d303',\n",
       " '53e85053-b8dc-4f57-969c-c645667b16fb',\n",
       " '4d47bd78-b029-48e1-8b7d-c7239caa5c74',\n",
       " '36be3cb1-68f2-4fa6-90aa-0442fb90ecc9',\n",
       " '97fbe131-b7cf-457b-a88d-d1d806c8f6b1',\n",
       " '8b17e238-eae1-4c27-b888-83a175ce2d88',\n",
       " '5e55ebd6-6c68-4572-9b79-30b02b80911b',\n",
       " '12b8851b-5e90-482e-8193-92a467a016f5',\n",
       " 'b2b7f0d2-5e54-4ab7-8a99-c53e0958096d',\n",
       " '1a9bb5dd-7571-4acc-be72-bfc2f6eb463c',\n",
       " 'd0bd3675-15bb-4340-9030-0303adda8ce7',\n",
       " '485b67de-d6d9-41bd-a2b4-4973fcf2eaf6',\n",
       " '6be7961b-4f58-4dd1-9d3a-88cb8bd71dbd',\n",
       " 'adf0d3b3-6491-494f-af8d-ae2edf00f8c1',\n",
       " '80845def-2340-4acc-b8a6-844c1fe2241b',\n",
       " 'd7a4b739-a978-4b46-9823-629528e1550d',\n",
       " '65a0d5f6-6735-49d5-866c-b6c95e50f7c8',\n",
       " '94a191d8-44a1-402d-a0df-954b28e0a160',\n",
       " 'eb9b7ece-3b82-4018-b197-24aca2ad593d',\n",
       " '74ea23a5-3b3f-47a4-9841-a4768952f54b',\n",
       " '5f3824f6-34e5-463d-b99b-5baf3c2b59fd',\n",
       " 'de2ba034-a4c9-49fe-a726-3d8f7b0babe4',\n",
       " '42d8def3-94e8-4b3b-bc9e-03b5e4ed0f32',\n",
       " '2f39e759-e145-4e69-a1b5-78b61f645107',\n",
       " 'a60b30d4-0d11-474c-a0b3-33992372c17b',\n",
       " '3b2225c9-169c-4f8a-b05d-6c347054da15',\n",
       " '9fb30e54-b590-47c1-8673-8465f709b869',\n",
       " '608929b2-ebe2-40fe-ae42-d005db9ff163',\n",
       " 'edadc1c4-2bca-420d-b7b3-282f050d4e51',\n",
       " '6402b52d-195f-46e6-9de4-c9074bb3a93f',\n",
       " '6fbbb20c-a1c8-4b3e-a6f7-ff087a440b44',\n",
       " '1620baac-affb-41de-a68e-a1c9389c7918',\n",
       " 'ca212059-7e51-465c-808e-37dfff34e51f',\n",
       " '54a26b11-fa2a-4567-89f8-e6b2f6a28077',\n",
       " 'b87f75e5-8faa-4db1-aee4-6bc00a6d112a',\n",
       " '49fc9a09-f97f-4e6f-9816-bd3d30c4515b',\n",
       " '6cf6eb1e-ac9b-4e73-9ad0-112db46d3ece',\n",
       " '059bdbf0-8ba6-44b0-83ae-f2cba80ffdf7',\n",
       " '10dad172-752e-4f9b-acb0-33df2e50cfb0',\n",
       " 'd6c6fbfa-d158-4b32-90d2-2933d92b9191',\n",
       " '8b2bcf70-1482-4e9b-806a-723a20dbfcd2',\n",
       " '04a4735b-de82-4ba9-acd6-02a834a6c6f5',\n",
       " 'c80c4bfd-a6d9-40bc-931b-e426126d744f',\n",
       " 'c95aec7e-f3ce-4272-a0f2-9f394a9d3880',\n",
       " 'c0f7432e-ba6a-435a-a6a9-c24dff6b0074',\n",
       " '4a6597b3-1f0d-4ef6-b21a-4de32d2eef18',\n",
       " '384ce347-3e5a-49cd-b966-f2bc45264a64',\n",
       " 'd567d68a-2eca-4d88-b492-7199e410f97f',\n",
       " '23d92c4e-eac7-4574-a78f-b0080aa55acc',\n",
       " '1da12336-9a68-45ac-b0f9-0c3707390e1a',\n",
       " 'afa85915-2608-4239-982b-43b0b81fb68b',\n",
       " '132b384a-9a66-4599-afd8-f67a0951f599',\n",
       " '852bcd6f-7063-44a0-befe-e419417c4792',\n",
       " '05fe9c12-b2d4-4c01-b945-832ed3553408',\n",
       " 'b178e6fe-1d88-47c9-9869-90f3219b53a7',\n",
       " 'd2c8846c-2804-4424-81cd-247de84335ef',\n",
       " 'dc7f1499-ec4e-4ff9-aaec-ada5656e04ef',\n",
       " 'a16c8b38-608d-4d80-966b-f20a87bfdfcb',\n",
       " '400aea67-1802-49a4-9c78-76893a4776b9',\n",
       " 'bd55d150-eb8a-4f9a-b0fc-ac2c59312197',\n",
       " '0470d092-d972-4ff3-a33b-0306084c4d10',\n",
       " '4bb80475-f709-465c-901a-30b546da701d',\n",
       " '24625669-adc5-495a-a192-d05d2f9cf3e4',\n",
       " '8cf22739-724c-4840-810f-79a68f29f3d2',\n",
       " 'd6b9b810-8498-47e4-887d-e21154a92c8d',\n",
       " '82f4a5b5-1301-4815-953c-3237b0f22499',\n",
       " 'a1ca6098-bdbf-4c19-aa91-cba6c966df3d',\n",
       " '8907ac8c-ab7e-4176-a00a-a9dc559c22e5',\n",
       " 'eb7cd45a-96b2-4385-a45a-f2d4b352f6a5',\n",
       " '143a928d-faba-430f-a15a-2872da3aa978',\n",
       " '1dfdf11f-c8be-416c-a5df-cdfef9736cf0',\n",
       " 'b824f9c2-70eb-4419-8edb-866c7b10ff88',\n",
       " '6499d339-c681-4b2a-ae0e-f9cd7022b569',\n",
       " '8d0119e4-3078-4c68-8618-1dd113a0b50d',\n",
       " 'f0f1a357-b445-4c7d-948e-faf7398c8522',\n",
       " '0f21d5be-a691-4959-9fce-c1d39a00dd6a',\n",
       " 'ed9bebe7-6d57-43dc-aa1e-47666fc40836',\n",
       " 'e610421f-0cba-439a-8430-db85ccd057e2',\n",
       " '8d0bc9d6-8943-461f-a575-8b282ac9e511',\n",
       " '3f983655-021d-4b91-aadd-9374ea74c909',\n",
       " '8d616e56-85d3-4e22-8df0-20df21bf0677',\n",
       " '244334f0-519c-4c5a-bcea-6e47c31423fc',\n",
       " '811e0e04-babf-4e49-99f1-5bbf408ab41a',\n",
       " '986ac3fa-f3f0-4b9f-ab0b-e417a09c4497',\n",
       " 'e10f749a-9ca8-4195-bd8f-cd611bc5170b',\n",
       " '00eee36f-f1a3-4a13-bcd6-0338a1cf7e0a',\n",
       " 'f0ba52b9-3b4c-4e7a-af0c-49fed66a3f51',\n",
       " '00cedf3b-75ea-4161-9b8f-acf94c757267',\n",
       " 'a092d1e0-1107-4278-af85-b0421b6027ce',\n",
       " '945176c8-7949-492c-b9fd-830054ad6e4f',\n",
       " '35232b16-c876-4276-9dae-4d80b3ca8729',\n",
       " '1d075a0f-6c78-4ad3-a0a5-a1cd9bb2c93d',\n",
       " '629c997d-d52a-4b58-bae7-758dd4f8edab',\n",
       " '187a99e1-2f30-43f8-8009-5398d61678c7',\n",
       " '160eeff2-cf1c-462e-8ace-506703b2fda8',\n",
       " '85d9f68d-6f5b-40c8-b266-de595509153d',\n",
       " '20021333-4d7a-46a0-bd62-09227dda2566',\n",
       " '7a08cdb3-adf8-4c5f-a695-e8d3d21e9d8f',\n",
       " 'fc6291c8-8fa6-4acc-b0a7-5e901093bd63',\n",
       " 'c5622385-3d79-4883-8f1e-b656e6b98f0b',\n",
       " '12dc25ac-df3b-418c-a05f-31155a543291',\n",
       " '8c6b501f-4d02-45ee-b636-7b8c236352c7',\n",
       " 'c98df552-e26f-44ea-8af6-c55456b7fce5',\n",
       " '150fd3aa-2d09-4c82-ab24-1dbfc54db21a',\n",
       " '96c6c3fe-21df-4b4e-9ede-648d44fbf800',\n",
       " '00d30bb6-fffc-4b71-9079-928fc162eb32',\n",
       " '142dd7e4-8af9-49b5-a7a7-ec0469db2fde',\n",
       " 'c95d55b2-32cc-49b4-8d8a-65914d9822d8',\n",
       " '4ea4fd1e-9803-463f-a4ec-086fa33852a1',\n",
       " '43b88173-fbab-431e-b363-c995639822c3',\n",
       " '24d67268-74b1-497c-b94c-6690f1991468',\n",
       " '9e8c08ab-c800-41ad-8b14-5e759c495960',\n",
       " '37577741-d309-40eb-8875-875a55747f8f',\n",
       " '675a4520-923e-42d5-8226-46c3d1dfb24f',\n",
       " '6f91d853-d911-4cc3-af9f-312f54f6b02e',\n",
       " '8030d979-19a8-4763-bfb8-0574b6e654a8',\n",
       " '8e0c18ef-a4be-4879-8e48-274d50778f71',\n",
       " '4bd7c9d8-1852-4a1d-9014-91447e095d9f',\n",
       " 'abe65019-73a8-4c4d-95cc-b4342c86ac97',\n",
       " 'a0ad48c4-8de1-49cd-9b0a-9346453668f4',\n",
       " 'dd458070-4042-45ca-a007-b6e9226e2f8d',\n",
       " '9e7aa8be-8c2e-4788-a51d-77051d03489f',\n",
       " 'ec859be8-3603-4393-a9ab-c7b21c74f510',\n",
       " 'b324c118-c710-44d7-b2b8-d975b2fa2172',\n",
       " '079f8e99-d88f-493a-a84c-3cd2ba53532f',\n",
       " 'a2a9f9c7-9ef2-4fc3-b84d-3c17837f4dca',\n",
       " '910521eb-ecdd-44ef-ae91-6e2e27658c42',\n",
       " 'e135c669-22be-4550-a2c4-951a26e8b1a2',\n",
       " '0c071cb7-dc46-48c7-ae92-f146bfbfc5a1',\n",
       " 'd42bb682-ae4a-4fa6-aa6c-d55e11d7823c',\n",
       " '2c474574-2647-46f0-b94d-6b1b7d260809',\n",
       " '2de3e121-bfd5-4905-99ca-d3d0c983298c',\n",
       " 'e224581b-c1c7-4cbf-b18c-1fb49ab0a07e',\n",
       " '20be3521-16e9-48dc-a084-1b880c1d48e4',\n",
       " '399fbc0b-954c-4408-a435-f65a41fc8733',\n",
       " 'edce3080-3c51-4eff-893c-53810dcc103f',\n",
       " '5aac77a5-efd4-41d0-92ea-d06c6607335b',\n",
       " '1f225163-2ee8-44b0-9ad8-14b038f46176',\n",
       " '2166ece7-9ae6-4ae5-b164-8bdebfbcb018',\n",
       " '89166b99-d333-48f6-ace1-1bf801b69779',\n",
       " 'fc9a4c6d-3a31-4708-bbf8-c2de7440f8e8',\n",
       " 'bafab708-8e3c-47cf-b96f-69828d5850e4',\n",
       " '122ffa75-4039-468b-94b1-ba590a429655',\n",
       " '50952d46-c966-498a-a0de-7c2e0fbb243a',\n",
       " '70602120-f888-4f88-bd69-eaea3b38b5fc',\n",
       " '0968d6c8-13d7-4f54-a719-7954cd2c25cc',\n",
       " '7337ae45-dbbd-4f6f-b144-906e15d4b02b',\n",
       " '68693821-61b2-4786-adc2-fe2089a8077d',\n",
       " '0aafd5d3-0bb4-4d85-b065-9b4fc82ab66b',\n",
       " '37b6c878-4680-4dd7-ba73-4a4c4a64adda',\n",
       " 'dc35d83f-e1d3-4b9a-89f0-9bb7d64e77cf',\n",
       " 'b78fe73a-a34a-4dd3-8c20-8c9978769b85',\n",
       " '5d1add6a-7474-406a-9699-6158d3f9bcc6',\n",
       " '0adf1b1e-cb06-4290-955c-0ae4e5143a0c',\n",
       " 'ba503b1e-32a7-440a-9b16-2e287e9f39d0',\n",
       " '5e23e658-3e99-41f3-aaac-034e9263762f',\n",
       " 'daec4753-7bd2-4bcc-b3b1-dd80d467a92d',\n",
       " '57ad01da-98c7-42ad-bdf7-af276307ef56',\n",
       " '3918d41f-dcc3-42ab-aea4-e77d00fc715f',\n",
       " '80637150-ae42-4793-80a4-b5ffcd1e8727',\n",
       " '473e6290-ab0f-435b-9c79-8941cc49d81f',\n",
       " 'b4d9e8ea-9397-482c-a6b1-cf0fb2124136',\n",
       " '01259482-8259-4d96-acbe-1d318c9c41f3',\n",
       " 'f037b65d-137b-45f1-9599-0012252da3f9',\n",
       " '610bab70-0304-4d5e-a492-f1559569cf64',\n",
       " '0b314496-4e0a-403f-bd73-005738f3e074',\n",
       " '2a124a6f-93ac-44dc-a87c-eea225c5be49',\n",
       " '5678f77f-2efd-472a-a8e0-33dcdb406902',\n",
       " '54a4b3f0-a0bf-46aa-9b0e-bae838cd07fc',\n",
       " '341589a5-63f3-4a5d-ad6f-729a121de9e0',\n",
       " 'fa59283f-18d9-44b4-a4f3-1fdbc27fb349',\n",
       " '29a755e5-4a28-45ec-829f-7843e83a501f',\n",
       " '02991dd0-7424-4034-8d27-36100f36d9b7',\n",
       " '9d3b4a23-c02b-4203-acc4-3fcd61327def',\n",
       " '80332ce7-6e2d-442e-a130-972843a1c0c1',\n",
       " '1404089f-b84b-4c29-a73a-58958e9a1f52',\n",
       " '315d18c7-c4b6-49dc-b2fc-bb7a186fc885',\n",
       " '7fdd7eea-68c3-476d-8a85-694c05545249',\n",
       " '5aeb286e-fc91-42d5-8adb-28ba1a0f4fac',\n",
       " 'a894961f-7704-4938-b942-17b042231e2f',\n",
       " 'cb28b947-03a0-49c3-93fd-0523b4df52cf',\n",
       " '57c0d7b2-bdea-43b4-a049-679905abced5',\n",
       " '00bcb434-ab37-4f6c-a203-309cc9526357',\n",
       " '766b35d9-a875-47bc-a668-1b3498f08fc9',\n",
       " 'f7dfb685-1ab3-46e9-bb75-5a0003867156',\n",
       " '38ff8a32-1b45-45b8-8dab-32aed6e19ed6',\n",
       " '87447e4d-855b-4af9-bf28-ee0e6f019340',\n",
       " 'a955af9f-9ee5-4560-ab62-577eea0131ac',\n",
       " 'a295aabe-3e29-455f-bfb3-e0784752994e',\n",
       " '8a7ab112-5dfa-4163-9416-27e9835029c7',\n",
       " '957abce4-4800-4510-a6a0-021d9eead1d3',\n",
       " '6461fb67-4782-459b-84ec-421db4d58493',\n",
       " 'dbf7619e-5778-41b4-99dc-c697b9c01935',\n",
       " '0ec98c24-7c76-4327-8479-ab5ef9663c87',\n",
       " '4306a1ce-4255-4f04-8ce0-b94960c7e3a2',\n",
       " '59f73fbf-d808-4961-ad99-b6d907feb6e3',\n",
       " 'fdcb96c5-daec-4405-8c9e-a776fc2a3dc1',\n",
       " '11c3e8af-a1d1-42d7-9673-2c532e1ee879',\n",
       " '835a7519-53e6-43f6-af18-379fcfd4cf59',\n",
       " '42b00347-0a9b-4889-a10b-04bdb1a0b03a',\n",
       " '6f98f6f2-65d9-4807-8c44-f6916b2b1196',\n",
       " '60cf5af8-5d49-4e99-a071-b275aecb0718',\n",
       " '75120def-8dbd-4dee-8939-5e79e6a21b82',\n",
       " 'a55c31f3-7cd4-4d68-91c6-5da9f36bb816',\n",
       " 'ded4d747-3834-495a-b0de-9238ef999c3b',\n",
       " 'b0179f99-992f-4395-bd23-dbe068850923',\n",
       " '73022b35-ab07-4564-ae83-01c50805231f',\n",
       " '83c143e4-47bc-446c-8c33-8283c83f9bf1',\n",
       " '05865aba-2885-45d8-bea5-b26f941344e1',\n",
       " '88bebd5c-7239-4d0f-936b-f3cfb5882a20',\n",
       " '6df2f892-e0de-4a88-8302-bae4dffdedfc',\n",
       " 'eaa6dd48-802e-4427-a307-d242adb1d8b6',\n",
       " '34b268e6-ceb5-4a5d-ab03-db575225c3ef',\n",
       " 'ef042ee4-0a90-4641-a64d-c6fd18b64b6c',\n",
       " '3b3d1b72-1ac0-40cd-a4df-3cd1588ef8db',\n",
       " '507985e8-0e05-4b6b-a8c1-b76c5d74a260',\n",
       " '43cca88e-9506-4570-b3ca-5440b01e00c0',\n",
       " 'b7435e0c-5e8a-4600-8699-8f7b25163af9',\n",
       " 'd1a1b32d-1bab-4f39-8de9-07addfbc5b07',\n",
       " 'ab336e1f-104c-4e26-8c25-ef15711542e8',\n",
       " 'af4e10c0-ae57-4a36-b400-ea27675ae0fa',\n",
       " '6e6f6ff2-e8e3-4817-8972-eb7bcac657ea',\n",
       " '1848c3f6-65cd-48a7-bbf0-6205fce4678f',\n",
       " '8bf1c60e-47ed-4630-80ed-9d13b764ff53',\n",
       " 'd59317ab-c09c-4fe5-ab50-846608c789d8',\n",
       " 'b105aee1-7269-4355-8711-6160f3d765ec',\n",
       " '08fc1dce-2954-4088-b863-1f58c625d061',\n",
       " 'd3fde731-b3f3-4118-b588-b80423099455',\n",
       " '3dc7f278-5d2a-47c0-9c38-c2de68b89cc8',\n",
       " '10553b97-91cd-4292-851d-11857d8f84c8',\n",
       " '94084a29-f956-4e26-9eae-3079f47f50ec',\n",
       " 'aa40fede-fb80-43db-8444-d01982a38ef1',\n",
       " '4d4846a7-3f98-4473-868e-b6fd8edb6524',\n",
       " '3c8fd716-b962-4c86-8f4f-9a4ae09b4209',\n",
       " 'a92641d0-fb66-48aa-8062-1f310631ca3d',\n",
       " '380cc22f-06cc-496d-839b-448c09cce0cf',\n",
       " '539e30b4-6d0c-4bea-9829-1e0e7a82ab17',\n",
       " '7d41ff90-7197-4b24-9936-0d06f123fcd5',\n",
       " '46724e2e-9306-4a5a-90ff-4c06d3004322',\n",
       " '0c035895-9a20-4972-8409-82ddef45c1ef',\n",
       " '64bd35b8-88ab-4b2a-99a3-46f3fd9eff99',\n",
       " '6b63639f-8c09-4b0f-b281-db559273cbcb',\n",
       " 'f8119424-67f0-4e50-a34b-372fd5f328ec',\n",
       " 'd45118c9-f305-4d1b-abd7-208da3a75ece',\n",
       " 'fa758846-ee7f-4db1-9080-d0a7a404b5e1',\n",
       " '45995c88-ee9f-4544-9faf-036c00700ea4',\n",
       " 'a25060b3-6f92-41c7-a0d4-b20205400a5a',\n",
       " '8f480321-6880-400f-8e86-79fa59f4ade0',\n",
       " '90628321-eee9-4988-a35e-f15574d297c5',\n",
       " 'c31d5585-4a56-4410-ab01-c8d82ec25704',\n",
       " '7030fdf3-e52b-4b82-bd86-56bf7d175c83',\n",
       " 'a1408d2f-7ab3-4ee6-8881-2b85d268b0fc',\n",
       " '70a63d8b-1cc8-41bf-9677-6318492eb291',\n",
       " '6abf7ac3-c066-4a36-baa6-39612a4c8a9e',\n",
       " '238b619c-61d6-4602-83dd-c2d40a2c7dd0',\n",
       " '0e664af8-cd39-4159-8bf6-5cfc1eda5339',\n",
       " '3224f207-16dc-4e4b-8cc0-debd4badf082',\n",
       " '3cc81e4b-90ad-4c2b-9168-471461ee9915',\n",
       " 'bbbab619-4a2c-41f5-9c1f-4b7cabe06de4',\n",
       " '056e2bf8-4400-4ed2-8912-8d842fcf96fc',\n",
       " 'cdf53232-a595-4dd2-8b8e-22784ea9f0ea',\n",
       " 'b0c2cb1a-50c5-4ece-a4f3-57334f53eac8',\n",
       " '5aee69cc-11b1-4f6b-80bb-b7276f7200d3',\n",
       " '320bf257-bf8a-412e-baae-727b972644af',\n",
       " 'c0ed0e66-d8f2-48d7-8fad-7e4c5388368a',\n",
       " 'fb2eb434-2879-4d49-97b2-76019cb916c3',\n",
       " 'b8c45c5d-32ce-4aa4-8419-4a2b4c322ad0',\n",
       " 'dac1e3ec-0ad3-45f7-a95a-5e91ad76e6ef',\n",
       " 'cbd97eb3-e3f0-4747-a4ca-a0952852bf3f',\n",
       " '60f1aa9e-168c-49b8-b1b7-68373476d546',\n",
       " '89d6aa23-22ac-445b-bbc5-03d6e8a7aeb2',\n",
       " '334106dc-946a-4cf1-9b7c-48921858e08c',\n",
       " '4d538bca-e7c5-4f98-ac1b-511748a2e26d',\n",
       " 'de66ba65-73f0-415e-ad62-e6dde8169094',\n",
       " '18a7c95e-b811-4e9e-9a43-2f5145caa17a',\n",
       " 'a496f9e9-f7da-45e5-a8b5-21192e60adc6',\n",
       " 'cc430b40-af23-4b84-a007-9b11d9b23d96',\n",
       " 'de2257ff-490f-4524-9a48-092f80305b02',\n",
       " '074b85c3-c359-4c31-bd2e-0f9a9315dd31',\n",
       " 'cdc17682-5a61-4eb2-aa6f-0059b22ac063',\n",
       " '36276829-099b-4c32-9e65-9085d0809d77',\n",
       " '61370e89-3bd1-4eff-bda4-8519381b25f1',\n",
       " '07ad0781-0345-4c35-9af7-7cefcbbcff3f',\n",
       " 'fdff99f3-e461-43d0-a79a-8183d17c86fc',\n",
       " 'c73b9b65-964e-4071-87a5-ba21ba73b998',\n",
       " 'e07a4803-bf97-48b5-8e38-550a4e27928d',\n",
       " 'e29c5dc0-0b19-439a-95ed-4f18edfd1ca6',\n",
       " 'e4f6173f-e814-45b8-8c01-eac8e45ad495',\n",
       " 'b090a7a6-3419-4369-9c22-f749a3deb85d',\n",
       " '7190d3b8-e407-472b-a509-1645a72ad961',\n",
       " 'e8be3ba9-96b7-4f99-9482-0542c9e05040',\n",
       " '3f899d4c-993e-4911-9ff0-1d5c56e4d614',\n",
       " '9973c022-ee34-475f-8cdf-97ac39f3fe4e',\n",
       " 'f5b54d86-0d92-4851-b6bc-fe314dfd46fa',\n",
       " '2bcc5545-4dea-411f-8dad-c997d72efbf2',\n",
       " '6fc5c48f-1f61-4f1e-9f57-027587f6b094',\n",
       " '19799f30-5b3d-4e2b-a19f-5f505c587c17',\n",
       " 'f7f200d5-d53b-4462-b88b-8e7817fc405a',\n",
       " '85ea1d86-659e-4a34-9152-e654781115a4',\n",
       " 'e4d42859-0312-4e7e-b57b-042fe620c42c',\n",
       " '8e38f786-5660-4d65-aaeb-351f2708d675',\n",
       " '8bd6731e-0521-450c-9355-74beec3783fd',\n",
       " '55db2d53-39a7-490f-9e5f-1ea6e9d841ac',\n",
       " '9f4a4514-021f-4156-83cd-e35a700838c8',\n",
       " 'a4c8277c-6739-488b-a4ef-9ba8ea2f4497',\n",
       " '0bab2c99-1efe-424a-9a57-63718bee406e',\n",
       " 'cbf01235-536f-4ae5-a1c2-34254069aa92',\n",
       " 'cc642dc5-b6dc-4ba5-9a72-1092a184227a',\n",
       " '7ff9b7e9-93da-4eb0-aa25-1d6a7fd9b568',\n",
       " '1ae001f0-f59d-4cae-9b01-a5b20295f314',\n",
       " '915659d1-0e48-49e8-8f99-0770230d8af6',\n",
       " '6cfee3e2-b3df-4488-9bee-7277ac7b87e0',\n",
       " 'ea14939e-770b-4e3f-91aa-b67eb4fba3ad',\n",
       " 'ed14af63-9ef7-4f7c-b388-ef75bbd18c17',\n",
       " '88911c35-ac71-417e-8cc7-68da54267ee9',\n",
       " 'fc5f71b9-586b-454c-aa67-8b4b1380707e',\n",
       " '3a4788bf-39e6-4895-a594-af18d7adfa4b',\n",
       " 'cef394c8-52c0-42ea-9c23-2e967b8a8877',\n",
       " '3b994f77-998d-4060-bd8c-e95a0676d2cb',\n",
       " '2a576154-890f-42ef-8460-b11dace8cc62',\n",
       " '8e1cb962-1dd9-4627-b34c-e76eb1152824',\n",
       " '41264b1c-6b6f-4ee4-b03c-616712ffeac0',\n",
       " '196fa376-9015-4761-8bab-1b7ed986336d',\n",
       " 'd134ca87-d240-4bcc-ab1f-08a43207c825',\n",
       " '57437691-787d-4c0a-84a8-919a4ccdd0ac',\n",
       " 'b3f15a96-5dab-4cf8-8ae1-3acca4d03c46',\n",
       " 'ff3c4cb8-d60a-484d-ac99-84dca0a21b03',\n",
       " '4717f248-3a7f-4f6f-b55c-54d35fc6a364',\n",
       " '6bb31ca2-a244-4544-be27-cd4bacf697c3',\n",
       " '384aec4a-a704-400f-b76c-fc883647ff66',\n",
       " '07df45ef-602e-4f2c-92ae-ee180832637b',\n",
       " '5ea09709-b52d-4506-a965-f529699e1a0e',\n",
       " '7673a0a7-a14d-4497-8d68-3e1b53aba9f6',\n",
       " '8425d6b7-b76d-47a2-a439-c9051ab4a491',\n",
       " '7b80d5f5-e9a5-46d6-b161-80e6059318c4',\n",
       " '4aa1665c-6f29-43f0-9cd2-df476138052c',\n",
       " '648ef2cd-50a8-42b2-9021-9d790320895b',\n",
       " 'd9da44ab-eca3-4755-8e0a-bc06b62b19a7',\n",
       " '443e21c7-224d-40a4-bc86-bd69678253fc',\n",
       " '1318bb17-29f7-4c14-8782-20285dff66b6',\n",
       " 'd7308488-9412-431f-9b3e-3af02b916fa2',\n",
       " '09cc313b-b133-4272-9a7c-ca610caa39b2',\n",
       " '38bdb153-89c4-4560-b3ec-91416aa2dc8a',\n",
       " 'e535bf3c-e226-4ec5-9575-503f9f2f797d',\n",
       " '04daab3f-b323-49fa-9e2c-313d9be817cd',\n",
       " '81ddc757-7d11-4da3-be39-621c8b09bded',\n",
       " '42499d7c-8f32-41f1-82de-5dc1f9cb0041',\n",
       " '8ff2ffae-dfa5-4df3-a02d-52165ffa196b',\n",
       " '5850f120-1737-4efa-9b78-49055ec16474',\n",
       " '41a05007-c84b-4f6c-a3cb-f57551c12995',\n",
       " '5b4a72c2-fe85-4327-b097-dd227a762af3',\n",
       " 'a0393535-30c2-4553-a6df-808b43ff9825',\n",
       " '50405b3e-5ee4-4cf6-b468-e1bdee309a1b',\n",
       " '0fc411db-070b-4873-b9f6-b15dbe53d4a7',\n",
       " '26173172-d9cb-4513-84c2-98a7675796a1',\n",
       " '9ba85a2f-2a4b-4c0f-a0b6-6f0d0d1e8792',\n",
       " 'b58d71f2-2219-4630-b86b-a5aee508421f',\n",
       " '7c6f094a-ee23-465d-af2b-c9dff6e5daa8',\n",
       " 'a531dcf3-6d91-481f-b2b2-abd437bad032',\n",
       " '10f4c9fb-4867-449b-8a55-f6032f6b7f14',\n",
       " 'f99b57b3-4bb4-43e3-8e9d-96b43f2e600a',\n",
       " '15b3b4c9-743b-49d5-8be1-24a3a797ee81',\n",
       " '15cd128e-32de-4b5a-a6f9-5f972e9bd884',\n",
       " '7185fd5f-3c00-42f7-b47f-6f2f8024ea2c',\n",
       " 'cf303e55-344a-4fbd-a85f-dc50e4ef3c0e',\n",
       " '7816056d-29ef-438d-a0b6-96aa7690a15f',\n",
       " '583cb9e1-5d3a-461f-a0ac-1b513e9432c2',\n",
       " '634b6fec-4cb1-4308-b5b8-5870925a3036',\n",
       " '2acc20d2-7fd8-48ad-8d69-bd79bf1d9436',\n",
       " '3edff832-77bb-45fe-b677-3aeeed652bb2',\n",
       " 'f29638a5-1f7c-4b3c-b376-c87d55ff8c82',\n",
       " '3ebb1d9d-cb60-4cd2-aea1-4da805bf0f72',\n",
       " '9c49dc44-f0c7-46a9-b930-bd419bdf0294',\n",
       " 'a319857d-a931-4b87-9d4a-215e9b544f3c',\n",
       " '929c3aa3-4a92-43ea-9dae-67980b4ff121',\n",
       " '2f60999e-1ada-41b3-88e2-e373a5538182',\n",
       " 'e88fc60c-c0c7-460e-9e42-d83c0749923a',\n",
       " '4346ee5b-0d29-4ad3-bf04-b83d03c22c23',\n",
       " 'b9ec6fcf-d2ad-4ddf-9834-edb8a44d494e',\n",
       " '730701df-d31a-47f5-b75d-0150244c9e64',\n",
       " 'c5abcc78-284c-4ca3-b7f2-7c79a462f450',\n",
       " 'd0a89710-8b1c-4d39-a4e2-6bef35d49a53',\n",
       " 'bef4630b-81be-4024-98a4-b98b858eb7a0',\n",
       " '8546abdf-70e1-4e0c-a8ba-b34e2df172d0',\n",
       " '48621bc8-f310-4fae-8e14-b8b2ac99dd3f',\n",
       " '469a4f41-5d57-4a57-81df-33cd29b7a3aa',\n",
       " '10a04da2-1220-4296-be57-7ad98aeb6512',\n",
       " 'deaac1d0-bcac-4c76-bef0-80360536f1b2',\n",
       " '2a9764a2-1790-4720-b457-9b8711fa80d9',\n",
       " '2a2f6999-6c3d-4534-b728-7bef16e3e830',\n",
       " '5ab8b910-5ac3-4a68-8401-e04838ceb281',\n",
       " 'c30366e6-cd0b-49cc-a56b-b1748336395a',\n",
       " 'cababd26-21f7-4f82-86d3-2e24a7f14976',\n",
       " '81f92445-cdc3-466d-a440-5fac39bfcfc7',\n",
       " '8970a5a3-b360-4e8c-a592-126efdfcfe50',\n",
       " 'cc885143-a5db-4b1c-8d07-fb8ddb28029a',\n",
       " '24810c71-9529-4154-90d7-56f0d380b43f',\n",
       " 'bd6d0768-1b0c-4473-8376-a285bbd94411',\n",
       " '1b07569a-9bd7-40d6-baff-597d67938cda',\n",
       " 'd79133fa-61e9-47e0-a5b0-005f97249fdc',\n",
       " '17786140-7b43-4860-8783-5a3babc600b1',\n",
       " '23a24720-373e-4af5-b914-e2c907d03c82',\n",
       " 'c3018275-c320-4322-b6c7-bc216688efda',\n",
       " '18cdd6b3-3fe6-44ab-8322-8439f8651477',\n",
       " '76d6083a-0cd5-4adf-9f0a-1a270a3d878f',\n",
       " '4c6658e1-fe66-418a-9b20-5535ddcb58e2',\n",
       " 'a52e0ea1-cd20-4027-903b-4d18fca238b1',\n",
       " 'ac9c53ac-ecb0-4db6-b543-0b45700d616a',\n",
       " '345ecf45-a4a6-4107-8029-359d5771745f',\n",
       " '148bbd4e-e150-4305-9c63-2e015d050747',\n",
       " '9984e92b-5416-4ebd-b24a-60518d16854a',\n",
       " 'c403365c-0afb-46d3-a577-0601b7674443',\n",
       " '727edd5f-5535-4cfd-8996-032ac8183db6',\n",
       " 'd3ba3766-8a41-454d-a466-4a1fcc65d292',\n",
       " '155e1179-6a5d-4176-a115-0aec69f17f7d',\n",
       " '1b149e16-a761-414a-adf8-7d2c111b6bd3',\n",
       " '6baf2d91-7d98-478a-bfb6-cb9eec5664a4',\n",
       " 'd5ced501-15ec-4963-b3f4-c12d4afb85ed',\n",
       " '342bc336-d0c3-4221-92e8-451ae5923c4d',\n",
       " '73d8dc3d-50a4-4354-a2b2-97401f39dae3',\n",
       " '52c5557a-033c-4ae9-9325-c88c634a2543',\n",
       " '2df19eeb-cca0-4e5d-9333-11f835da740e',\n",
       " 'ede60fba-6c17-4f94-83bd-c4714efe46d9',\n",
       " '2fa33bde-8940-40d1-9411-d90a0165979b',\n",
       " 'f9f7d7cc-e9f2-4da3-b14e-842700144b47',\n",
       " 'a87369e7-1259-417f-b9ce-06043ec51d7a',\n",
       " '91ded8d9-a772-436b-800d-20e398533c01',\n",
       " 'd72763aa-0f0b-40d3-89e3-7857d30933e3',\n",
       " 'a26838f6-de4f-4940-925f-c8def1dcf45d',\n",
       " '57396834-59a9-409e-93bc-093ba577a58a',\n",
       " 'c123a4f0-d037-42e2-a77d-c14e0f1f685c',\n",
       " '02c55673-5202-460d-9119-0a5c29d5b9f3',\n",
       " 'a08e6ea2-8566-481c-a417-42f287abbcf1',\n",
       " '6420e534-5ba6-4d70-88fa-0ceda4e3467d',\n",
       " '341159e5-f5dc-4aa1-bfe8-1cfa3084ea64',\n",
       " '8f51d5e3-7282-42df-a234-e205360086af',\n",
       " 'b8576906-0b91-4536-9702-99c6f341d76b',\n",
       " '2576a8b3-325a-40ac-8ffc-a1f397a3904d',\n",
       " '4dc08d63-7abf-42e8-9d42-7df36ec7bc55',\n",
       " 'eb02360e-7074-4886-a871-f4fe2f67cde6',\n",
       " '6017cf16-759a-453f-a36f-ec79504ed86b',\n",
       " 'e1462863-e7e9-452a-98ab-8f5087866728',\n",
       " '84f3d978-28da-4253-b49b-e79b896c33b3',\n",
       " '5ddc222e-bde3-49eb-9585-43da57229d96',\n",
       " '0a08ebc2-6bba-4f0d-ae01-575c79c2fba1',\n",
       " 'acd0c477-165a-4b09-a178-92fa730137d0',\n",
       " '8f9edff9-2b3f-46dd-b4e3-513902daba18',\n",
       " '782a1fd4-3ea2-4ba3-adc1-464fd3a52b78',\n",
       " '6b76780d-ce4f-466e-9794-54f2a81c7f78',\n",
       " '5b64b869-499c-47ef-b094-a32fc03bdac1',\n",
       " '8cd7b6f1-2791-4171-b14d-9115627e19fb',\n",
       " '068a1059-0184-4ff1-a45a-10e230935996',\n",
       " 'f35f1993-77ee-4b66-aed3-22233019ed82',\n",
       " '67188272-cf1d-49d7-b872-f0edf129a498',\n",
       " '040ad9d1-8104-4799-bc93-5d1a4aad71c5',\n",
       " 'e6ed261f-cda3-48a4-9306-9bcdadf3b2f8',\n",
       " '51f3aef6-ed7a-4895-bee1-acbcc0177a19',\n",
       " 'dde195b6-f348-44d0-9935-4249d2c3b326',\n",
       " 'a50341c6-6c82-4748-94d0-1b3abe173f07',\n",
       " 'e11974be-52c2-4b14-805b-2da16fa60df7',\n",
       " 'b5bd21d4-32c7-4c19-b949-921b55961a63',\n",
       " '7745c2c6-155c-44df-81b6-e60eb2694c12',\n",
       " '90a7f3f1-102e-487b-8e96-02242a360e16',\n",
       " 'ebcdc740-4c5f-4215-8159-c8457480bf77',\n",
       " 'ed2553bf-fdc2-4a79-9409-9738ca5ba8ae',\n",
       " 'd829d3f9-8f8d-405d-8ea0-af52a5cd0a0c',\n",
       " '0c157d0a-3e50-467a-8678-1276c1a14e9f',\n",
       " '3bd50dcf-1ae7-417f-af88-668de29a99fc',\n",
       " '86c4918b-6d25-41e6-9cd9-6dd1420af66c',\n",
       " '15ac00f7-ec92-4311-829c-5275910ea9e2',\n",
       " '7d1f9921-c79e-46e3-969f-13d8b48176a0',\n",
       " 'f137dcc8-4046-4f3e-8597-2675c4258f10',\n",
       " 'b21bd77b-3f4d-4ab0-aa7d-784eb574a091',\n",
       " 'fd4be27e-9bd9-4545-934d-3975c7e72a82',\n",
       " '95724545-2583-48d8-82d5-c5d6b5c5bce5',\n",
       " '7101ab02-99aa-4031-a676-7ba384a28236',\n",
       " 'dea42811-17bc-4b04-afd8-da2d54cced00',\n",
       " 'd1bb4efe-dedf-42cd-a276-b1c52f6611c9',\n",
       " 'dc698cbd-1751-4369-abe7-132dc9d31ba8',\n",
       " '6013d708-2eb7-4403-a6f4-bda6abe62439',\n",
       " 'ecf065d6-2f77-4114-acec-b10954fc6457',\n",
       " '3ec1dc2e-430e-42df-8e56-fa993fa61c85',\n",
       " 'e80c62bc-414b-46c9-ae03-76fa80166054',\n",
       " 'b2a5fa11-a196-4bd5-ad65-53f516173e6d',\n",
       " '27043d5e-994c-469b-aeca-c4c692f5e824',\n",
       " '62e56186-f2f2-4036-a0b9-6a3bee87aa07',\n",
       " '7abb9f34-09e7-4fef-ab2b-15ffc737e9ad',\n",
       " '0a287845-b821-4cee-9e48-f995c1e3f8c7',\n",
       " 'b0d65e24-f141-4d27-af16-a362d8bd1fbb',\n",
       " 'd23b2a40-b98c-4476-b68b-e40338bff3dc',\n",
       " '3bb03881-28a0-4d9a-b132-f197f1c65cf9',\n",
       " '677da6ab-7151-4312-999a-3c298a192ad1',\n",
       " '66981bca-b3e5-45f8-8337-24b2d8e240d0',\n",
       " 'ca4ebeb7-6876-42b2-9956-f5e8b15398c0',\n",
       " '22cc005a-46ad-4727-814b-8950fdda621c',\n",
       " '30dac06e-3c92-4a41-a8db-e032be56e09c',\n",
       " '7b8ce0ac-f213-4b67-ab67-8099189c5fb9',\n",
       " '483baa08-37be-410f-87f0-9494c4b7f425',\n",
       " '2055ea06-9fb3-41d4-a524-6d72adcf0672',\n",
       " '1974bf27-1bca-4121-9576-b590dc2481f3',\n",
       " '6fbde3be-3fdb-44b9-ba21-8ce93e998493',\n",
       " 'c1f9929c-ee32-48e2-be69-a2400f2d56d0',\n",
       " 'e737e2c0-c997-4cc3-9c97-8f87b3b0d438',\n",
       " '75819326-63b0-43f0-b2e7-f73d8c56de06',\n",
       " 'c0318afe-700f-4050-8c98-072302ed4e5e',\n",
       " '772319f2-afe0-4104-83c3-c60b155c6202',\n",
       " '745ca6c9-1477-4730-a699-25ec6e34bdbb',\n",
       " '0578e1f5-e9bd-439b-b13e-843c77f521c7',\n",
       " 'e945d198-9009-45d2-af52-71f3c09a14f5',\n",
       " '70b5c904-0f77-43fa-844c-46988d7eed43',\n",
       " '795c1a69-03b4-4e23-94e3-0eab22629789',\n",
       " '57a1f0ad-6085-4f63-b21c-3f47c824af9c',\n",
       " '416fdda5-4bc3-46a0-b438-38a3fe480182',\n",
       " '9ac42db9-d610-435e-b119-e5fb5c1f74b1',\n",
       " 'fdff4a77-7b0e-4f70-aa78-4d1fafc965fb',\n",
       " '70e45233-8585-4339-9f68-c1e635f21ba9',\n",
       " 'a1444a32-fb6c-4f2d-ac33-7bb6a6060cbd',\n",
       " '26b5275f-1a1c-4c03-805c-064822f24829',\n",
       " '464a1f54-fce4-4510-afca-7e88412059ae',\n",
       " 'ee06337e-451f-4f97-adbc-ab71e8f759ed',\n",
       " '3d715941-0c4f-43ce-8ac3-54fd189f501b',\n",
       " 'e885f8db-c579-4f26-851b-d27191ecd000',\n",
       " '47f8c933-be85-4ec1-af59-98195edc803a',\n",
       " 'a106f367-3bd4-41a2-a6d4-1cfe36ad7342',\n",
       " '2d81cd8e-b2fc-41c5-b71d-30e6b84de5d4',\n",
       " '925c6b05-375a-4aa4-a555-13775b01c581',\n",
       " '6b83d3fd-acbc-49ad-84e0-3dc340ba2e11',\n",
       " 'de543818-2cff-48ce-ab1e-7521bb2e8365',\n",
       " '657efb94-2e3b-4802-b4ef-b67cb1c20eb7',\n",
       " '1beb88b2-1564-498b-9bbf-0074d2ccedff',\n",
       " '412ebb4e-1c9a-4a5a-a9e2-e7f399b5a1c6',\n",
       " '9975d611-3484-4dda-808b-cbfdfbb18580',\n",
       " '09976952-bc8e-4bc8-8551-cc38102206d5',\n",
       " 'd3bd8029-e9d4-40fc-8fe1-d5fef69fd06a',\n",
       " '37127e6d-c4c2-43fc-b8e3-1f6a022eab3c',\n",
       " '9b2acd65-f8df-411b-9740-660f8fbc524e',\n",
       " 'b70b3b53-1403-4943-896e-970c3f185536',\n",
       " '14a45096-614b-442d-a68e-abef510dc1f5',\n",
       " '3dd0e306-2c7f-4028-a7b8-2af95fcfcaaf',\n",
       " '98705e81-4a3e-4c9b-a82a-213c64594bb9',\n",
       " '77c974ea-1dda-4b48-8ccb-e123acdcd797',\n",
       " '4a5c4fe6-2342-4e0e-96be-f438673c9ff0',\n",
       " 'a069f648-6017-41b8-97dd-aed7b17819de',\n",
       " 'eeed54a4-6364-4852-be2a-ff6bad98f547',\n",
       " 'c82543c5-2d37-403f-846b-3382b34a7a3f',\n",
       " 'fb018cf6-d139-485e-b95b-f6fb3c1069c7',\n",
       " '18d6e151-f8d8-416d-ad5a-247a186f73e1',\n",
       " 'cbaaa92a-3e65-4a10-9b01-3eafb396e3d8',\n",
       " '62019437-db0d-4a58-94af-66ba42c43e0c',\n",
       " '12ba16dd-7f82-4804-872f-26cffac8d687',\n",
       " 'ce7a0316-906a-423e-a75f-99b210838372',\n",
       " '46337d3d-ea08-4aeb-92b2-1dbe08f04216',\n",
       " 'b5f62c6f-9cd0-4ea4-aa82-6d12535a91df',\n",
       " '6909f455-45a7-4de0-a348-8a3bc53b5ae4',\n",
       " '9682acc8-a0f8-4e60-b6f3-6b02384bfd4c',\n",
       " 'd4a09450-8ae3-4cf8-800e-b41ec4773048',\n",
       " '6420c4be-f148-4cef-84d5-ae614207ad2d',\n",
       " 'f16713ed-311a-46d2-b10c-8b8573bff205',\n",
       " 'b29d1461-96cd-4cf7-bffb-4b7e7752d15f',\n",
       " '69e1d367-dc73-45a0-b082-c8b9ea079a18',\n",
       " 'd9012282-a2bc-4511-9c21-d3a7388dc280',\n",
       " 'bf0bd806-633d-4d10-b6f9-420009f04c93',\n",
       " '08c45fa0-8b73-417a-a3e9-eaf8492db52b',\n",
       " '72385364-13ba-4183-8a0f-0c6ec6090620',\n",
       " 'adc531bb-5c5a-4589-b27e-051b6bb7658a',\n",
       " '11eea855-2a9f-45c2-8b12-94366296b763',\n",
       " '3258e942-2f4a-4330-92cd-9b34cec28381',\n",
       " 'a251c061-2501-4799-8565-26c54c77f5d8',\n",
       " '67877afc-645b-4594-9eef-ef0f5821dc33',\n",
       " 'da590cc9-50f9-47e5-a9d0-02821d7e7ee9',\n",
       " '996aff96-cba6-457f-99cf-954b00f152f5',\n",
       " '97c0e801-07f1-476e-83ca-dc6b2c1c9a38',\n",
       " '5dac8b88-9f3e-461a-abfe-303da3b3ee06',\n",
       " '70430b6d-bf1b-4fae-b0cd-c90d40f12af8',\n",
       " '9f1e3c52-50c0-4b53-ab2c-fcd9f7c3a291',\n",
       " '6cb7d30e-a9b2-4ad1-80a4-81a53372c500',\n",
       " 'c627c1f1-2762-4a5b-ad0e-7eeaebdde052',\n",
       " 'ad36be9e-07ad-4b76-bc40-3771ca3e146b',\n",
       " '78099366-d3b2-4a47-ae02-b1287d65ea8f',\n",
       " '48d24c41-7f0d-48fa-ab46-086b572e3b92',\n",
       " '1f5de1f6-0dd6-4cff-9cde-ca40012943a8',\n",
       " 'bed91010-e175-476f-86c2-9d34477c8eac',\n",
       " '81e97d53-bdfe-4f0a-99f4-e2c8ca1125d5',\n",
       " '69c066b8-1d23-4ed2-b502-fa5d682e7d8e',\n",
       " '2318662c-d6b1-4c6c-9a48-e9a170dea031',\n",
       " 'f2ed4db0-3163-43a0-8586-7c7db23ccfae',\n",
       " '5fd3934b-9145-45d1-a557-d357f3f03b16',\n",
       " 'efeaf55d-abd8-4e3a-be92-9cd4a2842dbf',\n",
       " '7b4ea9c9-c05c-4c8c-9cf2-7c610297fecf',\n",
       " '6e382954-9124-4bb9-a5a5-2193e6f62321',\n",
       " 'c9c0e9b5-a38b-424c-a7e7-33110eb31967',\n",
       " '3e0ec8df-9524-43ef-9dae-3e33f9bc66b4',\n",
       " 'b24ef897-bbbd-450e-8d4d-640cebb61fd1',\n",
       " 'c08fdd40-c2b9-44b5-a719-61f7e9ec5b55',\n",
       " 'c6049ce2-e7e7-401d-bd25-7faa8f523067',\n",
       " 'c9716943-694e-4cd0-b8ce-6bf300531257',\n",
       " 'cf47ec34-9d9d-4149-a636-e6f76316e159',\n",
       " 'f5151cf8-dfb9-4966-b9cf-62c4988fd097',\n",
       " 'a1771d4b-66c3-453e-9b41-c5d8515cfe0c',\n",
       " '48384dc3-cfe3-4fca-a85a-3602c792850b',\n",
       " 'cc10eeb2-8963-4d46-a93d-f24b8df0cb61',\n",
       " 'bbf55d5d-93fa-463c-a32f-f4eecdf6df09',\n",
       " '0a0b74b9-1b2a-4909-aef9-857a24d8c38e',\n",
       " '0ccc0367-8f87-4055-8894-02f18125155b',\n",
       " 'adf365b5-d2b6-4a08-b77d-8b71c2d47aa4',\n",
       " '05797985-167e-4200-989f-e3339f9ab042',\n",
       " 'e42e04fc-607e-4451-a0cb-5cac4a9281d8',\n",
       " 'aa4c272e-cc8b-4a40-96c9-d968f444741e',\n",
       " 'e299055e-e901-45fa-add7-d3077e59f983',\n",
       " '4f0e5ed1-7219-4435-bf67-005c92de3f0c',\n",
       " '3ecf802f-8976-4bf4-9bc2-ec59f1aee952',\n",
       " '92c08186-8156-45af-9bd6-1e47f0ceeb68',\n",
       " 'adeaea09-b3b3-41a3-a1a1-86c48d2999d1',\n",
       " 'e537126e-51f7-496a-aac2-4f3737f4555c',\n",
       " 'd1d6d889-d88a-4c20-bcbf-732ef6b6251b',\n",
       " '5c165795-f231-490b-b5fc-9c7d1dbc4735',\n",
       " '1f991215-07f9-42e9-a88d-6e8753b801e9',\n",
       " '9f8926ac-f312-45ee-acb1-d80d87938106',\n",
       " 'e7907f5e-15e1-4df5-8765-e48b50160c31',\n",
       " '890b9f80-9d51-490d-989b-02f91694d06b',\n",
       " 'c07018f2-ab2b-4ccc-b713-d7073d88dabf',\n",
       " 'ca3af05a-58f6-4040-be51-927e7a0dc499',\n",
       " '66691483-bd07-4a43-a1ea-4dd9bcdcde7e',\n",
       " '10d96567-4b8b-468e-ac64-7b631bc62626',\n",
       " '0538ac7f-4671-4ea4-b297-9a73eef7198b',\n",
       " '3e03e02c-e476-4683-9a8b-3ea5699d645b',\n",
       " '8c3f716e-4851-4b6f-a63c-bd924fe6bcb4',\n",
       " '6e58062f-bad0-4502-bd30-8b09f9e5e096',\n",
       " 'f07b9f57-96f1-4fbe-96bf-b3b99c8b2052',\n",
       " '2472b647-7435-4373-89f7-6bbd602da31b',\n",
       " 'd0f3b947-4a6e-465c-b9e8-40d4821ccca3',\n",
       " 'afd83310-083e-472e-8871-c3fbf95c711c',\n",
       " '402faf8b-706c-4144-8eff-889355cf2086',\n",
       " '5bf5c188-8d76-4316-9499-fab0a39c9a60',\n",
       " '2b52619a-aa5e-47fa-843d-d8479b022369',\n",
       " '1ce9c8db-7bec-41aa-88d1-23ba0c37895e',\n",
       " '4cbb7aa1-161e-42b3-ac10-bcfde42f539d',\n",
       " 'fcc79dc5-e53f-48b7-8139-bebcde00d641',\n",
       " '90683cc5-f0af-4663-8f50-baa86fad4674',\n",
       " 'ea89faa5-cd84-4570-a093-1e60dc67a730',\n",
       " '278ccfab-dd62-4d68-9a85-cd22801835fe',\n",
       " '86d1e867-3ee1-4f9a-b705-07c2879f2f9c',\n",
       " '1631f0bb-157d-447f-8399-d731f624b843',\n",
       " 'bde7b30e-d945-4ec3-95c9-467a0e9d3457',\n",
       " '8a93346d-728c-4961-b2d7-b249aae3c9a0',\n",
       " ...]"
      ]
     },
     "execution_count": 25,
     "metadata": {},
     "output_type": "execute_result"
    }
   ],
   "source": [
    "%%time\n",
    "\n",
    "vector_db.add_documents(documents = chunk_docs, \n",
    "                        vector_field = \"vector_field\",\n",
    "                        bulk_size = 1000000)\n"
   ]
  },
  {
   "cell_type": "markdown",
   "metadata": {},
   "source": [
    "# 6. 검색 테스트"
   ]
  },
  {
   "cell_type": "markdown",
   "metadata": {},
   "source": [
    "## Lexical 검색"
   ]
  },
  {
   "cell_type": "code",
   "execution_count": 26,
   "metadata": {
    "tags": []
   },
   "outputs": [
    {
     "name": "stdout",
     "output_type": "stream",
     "text": [
      "query:  {'query': {'bool': {'must': [{'match': {'text': {'query': '이미지 추가 하는 방법', 'minimum_should_match': '0%', 'operator': 'or'}}}], 'filter': []}}}\n",
      "# of searched docs:  10\n",
      "# of display: 3\n",
      "---------------------\n",
      "_id in index:  30609e82-853d-412c-b7df-9664a1e6f565\n",
      "9.5869665\n",
      ".이미지를 추가하지 않으면 기본 일반 이미지가 표시됩니다.이미지 크기는 PNG 또는 JPG 형식일 수 있으며 크기는 2MB를 초과할 수 없습니다.액세스 포인트 - 선택적으로 디바이스 사용자가 Knox Configure 클라이언트를 열 수 있는 추가 방법을 구성하세요.무시할 수 없는 알림 추가 - 디바이스 사용자가 탭하여 Knox Configure 클라이언트에 빠르게 액세스할 수 있는 영구 알림을 추가하려면 이 옵션을 선택합니다.애플리케이션 이름 - 알림에 표시된 애플리케이션 이름을 입력합니다.알림 메시지 - 알림에 표시된 메시지를 입력합니다.Knox 구성 포털은 다음과 같은 특수 문자를 지원하지 않습니다. #/$\\ *% ^ &\\\\ () +?[].기기 프로필을 생성하기 위해 문자를 입력할 때는 이러한 요소가 사용되지 않도록 하십시오.애플리케이션 선택: 애플리케이션 선택 탭에서는 엄선된 관련 Tizen 기반 웨어러블 기기 앱 또는 사용자 지정 시계 모드 앱을 업로드하여 기기 프로필에 활용할 수 있습니다.또한 하드웨어 키를 다시 매핑한 후 호출할 수 있는 앱을 추가할 수도 있습니다.앱 업로드 및 추가 방법에 대한 추가 지침은 앱 관리 기능을 참조하세요.튜토리얼 진행 2/4 단계를 완료했습니다!다음 단계로 이동하여 Knox Configure 프로필을 다음과 같이 사용자 지정하세요. 1.설치 에디션 2.다이나믹 에디션: 일반 모드, 프로키오스크 모드\n",
      "{'source': 'all_processed_data_ko.json', 'seq_num': 573, 'title': '프로필 생성', 'url': 'https://docs.samsungknox.com/admin/knox-configure/knox-configure-wearables/get-started/create-a-profile', 'project': 'WKC', 'last_updated': '2023-07-26'}\n",
      "---------------------\n",
      "_id in index:  e5b3c9b0-a774-4778-a4f7-402895a93d96\n",
      "9.488323\n",
      "Knox Configure에 설정된 사용자 지정 부팅 애니메이션 및 사운드 파일이 동기화되지 않습니다.Knox Configure (KC) 에서 사용자 지정 부팅 애니메이션을 설정하면 부팅 애니메이션과 사운드 파일이 동기화되지 않습니다.애니메이션은 사운드 파일보다 먼저 시작됩니다.원인: 기기 프레임워크에 소비자 기기에서는 기본적으로 비활성화되는 “플래그”가 있는데, 이로 인해 비동기 부팅 애니메이션이 발생합니다.해결 방법 이는 기본 시스템 부팅 로직에서 예상되는 동작이며 변경할 수 없습니다.해결 방법 시작 과정에서 나타나는 검은색 화면을 모방하여 사용자 지정 이미지 앞에 빈 이미지를 추가하여 애니메이션과 사운드 파일을 수동으로 동기화할 수 있습니다.빈 이미지가 있으면 애니메이션이 “지연”되어 사운드 파일부터 재생이 시작됩니다.추가 정보 사용자 지정 부팅 애니메이션을 만드는 방법에 대한 단계는 KC 관리자 안내서를 참조하십시오.\n",
      "{'source': 'all_processed_data_ko.json', 'seq_num': 652, 'title': 'Knox Configure에 설정된 사용자 지정 부팅 애니메이션 및 사운드 파일이 동기화되지 않습니다.', 'url': 'https://docs.samsungknox.com/admin/knox-configure/kbas/kba-360050195053', 'project': 'WKC', 'last_updated': '2023-07-26'}\n",
      "---------------------\n",
      "_id in index:  5a99c375-047f-4e50-aec0-192c1b2a6d22\n",
      "9.370554\n",
      ". 차단된 프린터 유형 프린터 유형 또는 대상을 인쇄할 수 없도록 합니다.모든 프린터 유형을 선택하면 사실상 인쇄가 비활성화됩니다.값 비활성화할 프린터 유형 선택: ZeroConf 기반 (mDNS+ DNS-SD) 프로토콜 로컬 프린터 — 기본 인쇄 대상이라고도 하며 로컬 컴퓨터 및 공유 네트워크 프린터에서 사용할 수 있는 대상을 포함합니다.확장 기반 - 인쇄 서비스 제공업체 대상이라고도 하며, Chrome 브라우저 확장 프로그램에 속한 모든 대상을 포함합니다.Google 클라우드 프린트 및 'Google 드라이브에 저장' PDF로 저장 Chrome OS 99 이상 버전으로 저장 PDF를 이미지로 인쇄하기 기기 사용자가 PDF를 이미지로 인쇄할 수 있습니다.해상도를 높이려면 인쇄하기 전에 일부 PDF를 이미지로 래스터화해야 합니다.활성화한 경우 이 설정을 사용할 방법을 지정할 수 있습니다.이 정책과 하위 정책은 관리되는 게스트 세션 장치에도 적용됩니다.값: 사용자가 PDF 문서를 이미지로 인쇄할 수 없습니다. 사용자가 PDF 문서를 이미지로 인쇄할 수 있습니다. 래스터화되지 않은 상태로 PDF를 인쇄하는 것이 기본값입니다. 기본 제공되는 경우 PDF를 이미지로 인쇄하는 것이 기본값인 경우 기본 설정 Chrome OS 99 이상 > 이미지로 인쇄할 때 PDF를 래스터화하는 데 사용되는 DPI는 이미지로 인쇄할 때 PDF를 래스터화하는 데 사용됩니다.값: DPI 필드에 숫자를 입력합니다.시스템 기본 해상도를 사용하려면 0을 입력합니다.Chrome OS 99 이상 #User 경험 정책 설명 지원되는 시스템 관리 북마크 Chrome 브라우저로 푸시할 북마크 컬렉션을 정의합니다.북마크는 Chrome 브라우저의 북마크 바에 있는 폴더에 표시됩니다.기기 사용자는 폴더를 숨길 수 있지만 콘텐츠를 수정할 수는 없습니다.관리되는 북마크의 기본 폴더 이름은 “관리되는 북마크”이지만 변경할 수 있습니다.북마크 관리 추가를 클릭하여 북마크 관리를 시작합니다.폴더 및 북마크 관리 대화 상자가 열립니다\n",
      "{'source': 'all_processed_data_ko.json', 'seq_num': 914, 'title': '크롬 OS 정책', 'url': 'https://docs.samsungknox.com/admin/knox-manage/configure/profile/configure-profile-policies/chrome-os-policies', 'project': 'KM', 'last_updated': '2023-07-26'}\n",
      "---------------------\n"
     ]
    }
   ],
   "source": [
    "query = \"이미지 추가 하는 방법\"\n",
    " #query = \"how to add image\"\n",
    "query = opensearch_utils.get_query(\n",
    "    query=query\n",
    ")\n",
    "\n",
    "print(\"query: \", query)\n",
    "response = opensearch_utils.search_document(os_client, query, index_name)\n",
    "opensearch_utils.parse_keyword_response(response, show_size=3)"
   ]
  },
  {
   "cell_type": "markdown",
   "metadata": {},
   "source": [
    "## 시멘틱 검색"
   ]
  },
  {
   "cell_type": "code",
   "execution_count": 27,
   "metadata": {},
   "outputs": [
    {
     "data": {
      "text/plain": [
       "[Document(page_content='.등록에 QR 코드를 사용하는 방법에 대한 자세한 내용은 프로필 생성 장치 및 장치 사용자 권한 향상을 참조하십시오. 이 개선 사항은 더 나은 권한 관리를 위해 역할 만들기 화면의 장치 및 업로드 부분에 있는 프로필로 할당 및 태그 관리 역할을 결합합니다.사용자에게 프로필로 할당 및 태그 관리 권한이 활성화되지 않은 경우, 장치 구성 팝업 (장치 > 업로드 화면의 작업 드롭다운 메뉴에서 사용 가능) 에서 프로필 지우기를 제외한 모든 MDM 프로필 옵션이 비활성화됩니다.기존 태그를 추가하고 덮어쓰는 기능은 대량 구성 화면에서 비활성화됩니다.추가 KME 국가 지원 미국 지역에서 KME 지원 국가로 추가되었습니다. 코스타리카, 도미니카공화국, 엘살바도, 과테말라, 온두라스, 니카라과, 푸에르토리코 이러한 국가는 KME 삼성 관리자 포털과 KME 가입 시 samsungknox.com 드롭다운 메뉴에서 지원 국가로 추가됩니다.릴리스 노트로 돌아가기', metadata={'source': 'all_processed_data_ko.json', 'seq_num': 500, 'title': '녹스 모바일 등록 1.31 릴리즈 노트', 'url': 'https://docs.samsungknox.com/admin/knox-mobile-enrollment/release-notes/20-05', 'project': 'KME', 'last_updated': '2023-07-26'}),\n",
       " Document(page_content='사용자 그룹에 사용자를 추가합니다.사용자 그룹을 생성한 후 사용자를 추가할 수 있습니다.사용자 그룹에 사용자를 추가하려면 다음 단계를 완료하세요. 1.그룹으로 이동합니다. 2.그룹 페이지에서 사용자를 추가하려는 특정 사용자 그룹 이름을 클릭합니다.그룹 유형은 사용자여야 합니다. 3.그룹 세부 정보 페이지에서 사용자 탭을 엽니다. 4.추가를 클릭합니다. 5.사용자 선택 화면에서 추가하려는 사용자를 선택한 다음 추가를 클릭합니다.선택한 사용자를 삭제하려면 클릭![] (../../../../assets/delete.png). 6.사용자 추가 화면에서 확인을 클릭합니다.그룹에 하나 이상의 프로필이 할당되어 있는 경우 해당 프로필을 새 사용자에게 즉시 할당할지 여부를 묻는 메시지가 표시됩니다.', metadata={'source': 'all_processed_data_ko.json', 'seq_num': 885, 'title': '사용자 그룹에 사용자 추가', 'url': 'https://docs.samsungknox.com/admin/knox-manage/configure/groups/manage-groups/add-users-to-a-user-group', 'project': 'KM', 'last_updated': '2023-07-26'}),\n",
       " Document(page_content='.선택한 장치 중 일부에 현재 다른 프로필 또는 동일한 프로필의 다른 버전이 할당되어 있다는 내용의 변경 지정 프로필 화면이 표시될 수 있습니다.또한 화면에는 선택한 장치가 이전 프로필에서 할당이 취소되고 확인 시 선택한 프로필로 업데이트된다는 내용이 표시됩니다. 6.표시되는 경우 필요에 따라 최종 사용자 동의를 요청하지 않고 푸시 업데이트를 선택하면 기기 최종 사용자의 동의 없이 할당된 장치에 직접 업데이트를 푸시할 수 있습니다.이 옵션을 선택하지 않으면 프로필 업데이트가 장치에 푸시되기 전에 장치 사용자가 프로필 업데이트를 승인할 수 있습니다. 7.확인을 선택하여 장치 푸시 업데이트 및 프로필 덮어쓰기를 계속합니다.이전 프로필 장치 할당 화면으로 돌아가려면 뒤로를 선택합니다.프로필 업로드에는 모델 번호 및 상태가 다른 기기가 포함될 수 있습니다.이 경우 별도의 기기 모델 드롭다운 메뉴에서 다양한 모델 번호를 지원하는 프로필을 선택할 수 있습니다.각 드롭다운 메뉴에는 나열된 장치 모델과 관련된 프로필만 포함됩니다.모든 장치 모델에 대해 프로필을 선택한 후 Submit을 선택합니다.디스플레이 구성 변경 기존 프로필의 디스플레이 옵션을 사용자 지정하려면: 1.왼쪽 네비게이션에서 프로파일을 선택합니다. 2.대상 프로필 링크를 클릭합니다. 3.프로필 구성 대시보드에서 디스플레이를 클릭합니다. 4.페이지 오른쪽 상단에 있는 편집 버튼을 클릭합니다. 5.대시보드에서 디스플레이를 선택합니다. 6.사용자 지정 디스플레이 설정을 지정합니다. 7.페이지 오른쪽 상단에 있는 저장 버튼을 클릭합니다.업데이트 푸시하기 기존 프로필에 업데이트를 푸시하려면: 1.왼쪽 탐색 메뉴에서 프로필을 선택합니다. 2.프로필 푸시 업데이트를 받을 대상 장치의 확인란을 선택합니다. 3.작업 드롭다운 메뉴에서 푸시 업데이트를 선택합니다. 4.최종 사용자 동의를 요청하지 않고 푸시 업데이트를 선택하면 기기 최종 사용자의 동의 없이 할당된 장치에 직접 업데이트를 푸시할 수 있습니다. 5', metadata={'source': 'all_processed_data_ko.json', 'seq_num': 575, 'title': '기존 프로필 업데이트', 'url': 'https://docs.samsungknox.com/admin/knox-configure/knox-configure-wearables/get-started/update-an-existing-profile', 'project': 'WKC', 'last_updated': '2023-09-27'}),\n",
       " Document(page_content='커스텀 애니메이션 파일을 생성합니다.이미지를 업로드하여 순서대로 재생하고 원하는 이미지 방향, 디더링 및 크기를 설정하여 사용자 지정 장치 부팅 애니메이션을 만들 수 있습니다.만들고 업로드한 후에는 애니메이션을 프로필에 추가하고 장치에 할당하기 전에 애니메이션을 미리 보고 확인할 수 있습니다.애니메이션 만들기 커스텀 애니메이션을 만들려면: 1.왼쪽 탐색 메뉴에서 라이브러리를 클릭하고 미디어 탭을 클릭합니다. 2.오른쪽 상단의 미디어 추가를 클릭합니다. 3.애니메이션 생성을 클릭하여 새 애니메이션 시퀀스를 생성합니다. 4.PNG 시퀀스 업로드 화면에서 애니메이션 프레임으로 사용할 PNG 이미지를 최소 2개, 최대 99개까지 업로드합니다.최적의 디스플레이를 위해 업로드하는 PNG 파일의 크기 및 해상도가 대상 장치의 화면 크기 및 디스플레이 해상도와 동일한지 확인하십시오. 5.애니메이션에 이름을 지정하고 다음 설정을 구성합니다. 회전 - 애니메이션의 회전 각도를 선택합니다.크기 조정 - 기기에서 애니메이션을 어떻게 표시할지 선택합니다.디더링 - 파일 크기를 줄이는 데 사용되는 디더링의 양을 지정합니다.단, 설정이 높을수록 파일 크기는 줄어들지만 애니메이션 품질에 영향을 미칠 수 있습니다. 6.작업이 완료되면 애니메이션 생성을 클릭하여 애니메이션을 생성하십시오.애니메이션 업로드 기존 애니메이션을 QMG 파일로 업로드할 수도 있습니다.미디어 추가 화면에서 애니메이션 업로드를 선택하고 애니메이션 파일을 업로드합니다..QMG 형식의 파일만 지원됩니다.미디어 파일 삭제 라이브러리에서 미디어 파일을 삭제하려면: 1.왼쪽 탐색 메뉴에서 [라이브러리] 를 클릭합니다. 2.현재 프로필에서 사용 중이 아닌 미디어 파일을 선택합니다. 3.오른쪽 상단의 미디어 삭제를 클릭합니다. 4.파일 삭제를 클릭하여 파일 삭제를 확인합니다.', metadata={'source': 'all_processed_data_ko.json', 'seq_num': 1667, 'title': '사용자 지정 애니메이션 파일 만들기', 'url': 'https://docs.samsungknox.com/admin/knox-configure/how-to-guides/library/create-a-custom-animation-file', 'project': 'KC', 'last_updated': '2023-07-26'})]"
      ]
     },
     "execution_count": 27,
     "metadata": {},
     "output_type": "execute_result"
    }
   ],
   "source": [
    "vector_db.similarity_search(\"이미지 추가 하는 방법\")"
   ]
  },
  {
   "cell_type": "markdown",
   "metadata": {
    "tags": []
   },
   "source": [
    "## 하이브리드 검색"
   ]
  },
  {
   "cell_type": "code",
   "execution_count": 28,
   "metadata": {
    "tags": []
   },
   "outputs": [],
   "source": [
    "from langchain.chains.question_answering import load_qa_chain\n",
    "from utils.rag import get_semantic_similar_docs, get_lexical_similar_docs, get_ensemble_results"
   ]
  },
  {
   "cell_type": "code",
   "execution_count": 29,
   "metadata": {
    "tags": []
   },
   "outputs": [],
   "source": [
    "import copy\n",
    "from langchain.schema import Document\n",
    "from langchain import PromptTemplate\n",
    "from operator import itemgetter"
   ]
  },
  {
   "cell_type": "code",
   "execution_count": 30,
   "metadata": {
    "tags": []
   },
   "outputs": [],
   "source": [
    "from utils.proc_docs import search_hybrid"
   ]
  },
  {
   "cell_type": "code",
   "execution_count": 32,
   "metadata": {
    "tags": []
   },
   "outputs": [
    {
     "name": "stdout",
     "output_type": "stream",
     "text": [
      "Query: \n",
      " 이미지 추가 하는 방법\n",
      "##############################\n",
      "similar_docs_semantic\n",
      "##############################\n",
      "\n",
      "Score: 1.0\n",
      "['.등록에 QR 코드를 사용하는 방법에 대한 자세한 내용은 프로필 생성 장치 및 장치 사용자 권한 향상을 참조하십시오. 이 개선 사항은 더 나은 권한 관리를 위해 역할 만들기 화면의 장치 및 업로드 부분에 있는 프로필로 할당 및 태그 관리 역할을 결합합니다.사용자에게 프로필로 할당 및 태그 관리 권한이 활성화되지 않은 경우, 장치 구성 팝업 (장치 > 업로드 화면의 작업 드롭다운 메뉴에서 사용 가능) 에서 프로필 지우기를 제외한 모든 MDM 프로필 옵션이 비활성화됩니다.기존 태그를 추가하고 덮어쓰는 기능은 대량 구성 화면에서 비활성화됩니다.추가 KME 국가 지원 미국 지역에서 KME 지원 국가로 추가되었습니다. 코스타리카, 도미니카공화국, 엘살바도, 과테말라, 온두라스, 니카라과, 푸에르토리코 이러한 국가는 KME 삼성 관리자 포털과 KME 가입 시 samsungknox.com 드롭다운 메뉴에서 지원 국가로 추가됩니다.릴리스 노트로 돌아가기']\n",
      "{'source': 'all_processed_data_ko.json', 'seq_num': 500, 'title': '녹스 모바일 등록 1.31 릴리즈 노트', 'url': 'https://docs.samsungknox.com/admin/knox-mobile-enrollment/release-notes/20-05', 'project': 'KME', 'last_updated': '2023-07-26'}\n",
      "--------------------------------------------------\n",
      "\n",
      "Score: 0.9987955041056603\n",
      "['사용자 그룹에 사용자를 추가합니다.사용자 그룹을 생성한 후 사용자를 추가할 수 있습니다.사용자 그룹에 사용자를 추가하려면 다음 단계를 완료하세요. 1.그룹으로 이동합니다. 2.그룹 페이지에서 사용자를 추가하려는 특정 사용자 그룹 이름을 클릭합니다.그룹 유형은 사용자여야 합니다. 3.그룹 세부 정보 페이지에서 사용자 탭을 엽니다. 4.추가를 클릭합니다. 5.사용자 선택 화면에서 추가하려는 사용자를 선택한 다음 추가를 클릭합니다.선택한 사용자를 삭제하려면 클릭![] (../../../../assets/delete.png). 6.사용자 추가 화면에서 확인을 클릭합니다.그룹에 하나 이상의 프로필이 할당되어 있는 경우 해당 프로필을 새 사용자에게 즉시 할당할지 여부를 묻는 메시지가 표시됩니다.']\n",
      "{'source': 'all_processed_data_ko.json', 'seq_num': 885, 'title': '사용자 그룹에 사용자 추가', 'url': 'https://docs.samsungknox.com/admin/knox-manage/configure/groups/manage-groups/add-users-to-a-user-group', 'project': 'KM', 'last_updated': '2023-07-26'}\n",
      "--------------------------------------------------\n",
      "\n",
      "Score: 0.987307186518017\n",
      "['.선택한 장치 중 일부에 현재 다른 프로필 또는 동일한 프로필의 다른 버전이 할당되어 있다는 내용의 변경 지정 프로필 화면이 표시될 수 있습니다.또한 화면에는 선택한 장치가 이전 프로필에서 할당이 취소되고 확인 시 선택한 프로필로 업데이트된다는 내용이 표시됩니다. 6.표시되는 경우 필요에 따라 최종 사용자 동의를 요청하지 않고 푸시 업데이트를 선택하면 기기 최종 사용자의 동의 없이 할당된 장치에 직접 업데이트를 푸시할 수 있습니다.이 옵션을 선택하지 않으면 프로필 업데이트가 장치에 푸시되기 전에 장치 사용자가 프로필 업데이트를 승인할 수 있습니다. 7.확인을 선택하여 장치 푸시 업데이트 및 프로필 덮어쓰기를 계속합니다.이전 프로필 장치 할당 화면으로 돌아가려면 뒤로를 선택합니다.프로필 업로드에는 모델 번호 및 상태가 다른 기기가 포함될 수 있습니다.이 경우 별도의 기기 모델 드롭다운 메뉴에서 다양한 모델 번호를 지원하는 프로필을 선택할 수 있습니다.각 드롭다운 메뉴에는 나열된 장치 모델과 관련된 프로필만 포함됩니다.모든 장치 모델에 대해 프로필을 선택한 후 Submit을 선택합니다.디스플레이 구성 변경 기존 프로필의 디스플레이 옵션을 사용자 지정하려면: 1.왼쪽 네비게이션에서 프로파일을 선택합니다. 2.대상 프로필 링크를 클릭합니다. 3.프로필 구성 대시보드에서 디스플레이를 클릭합니다. 4.페이지 오른쪽 상단에 있는 편집 버튼을 클릭합니다. 5.대시보드에서 디스플레이를 선택합니다. 6.사용자 지정 디스플레이 설정을 지정합니다. 7.페이지 오른쪽 상단에 있는 저장 버튼을 클릭합니다.업데이트 푸시하기 기존 프로필에 업데이트를 푸시하려면: 1.왼쪽 탐색 메뉴에서 프로필을 선택합니다. 2.프로필 푸시 업데이트를 받을 대상 장치의 확인란을 선택합니다. 3.작업 드롭다운 메뉴에서 푸시 업데이트를 선택합니다. 4.최종 사용자 동의를 요청하지 않고 푸시 업데이트를 선택하면 기기 최종 사용자의 동의 없이 할당된 장치에 직접 업데이트를 푸시할 수 있습니다. 5']\n",
      "{'source': 'all_processed_data_ko.json', 'seq_num': 575, 'title': '기존 프로필 업데이트', 'url': 'https://docs.samsungknox.com/admin/knox-configure/knox-configure-wearables/get-started/update-an-existing-profile', 'project': 'WKC', 'last_updated': '2023-09-27'}\n",
      "--------------------------------------------------\n",
      "lexical search query: \n",
      "{'query': {'bool': {'filter': [],\n",
      "                    'must': [{'match': {'text': {'minimum_should_match': '75%',\n",
      "                                                 'operator': 'or',\n",
      "                                                 'query': '이미지 추가 하는 방법'}}}]}},\n",
      " 'size': 3}\n",
      "##############################\n",
      "similar_docs_keyword\n",
      "##############################\n",
      "\n",
      "Score: 1.0\n",
      "['.이미지를 추가하지 않으면 기본 일반 이미지가 표시됩니다.이미지 크기는 PNG 또는 JPG 형식일 수 있으며 크기는 2MB를 초과할 수 없습니다.액세스 포인트 - 선택적으로 디바이스 사용자가 Knox Configure 클라이언트를 열 수 있는 추가 방법을 구성하세요.무시할 수 없는 알림 추가 - 디바이스 사용자가 탭하여 Knox Configure 클라이언트에 빠르게 액세스할 수 있는 영구 알림을 추가하려면 이 옵션을 선택합니다.애플리케이션 이름 - 알림에 표시된 애플리케이션 이름을 입력합니다.알림 메시지 - 알림에 표시된 메시지를 입력합니다.Knox 구성 포털은 다음과 같은 특수 문자를 지원하지 않습니다. #/$\\\\ *% ^ &\\\\\\\\ () +?[].기기 프로필을 생성하기 위해 문자를 입력할 때는 이러한 요소가 사용되지 않도록 하십시오.애플리케이션 선택: 애플리케이션 선택 탭에서는 엄선된 관련 Tizen 기반 웨어러블 기기 앱 또는 사용자 지정 시계 모드 앱을 업로드하여 기기 프로필에 활용할 수 있습니다.또한 하드웨어 키를 다시 매핑한 후 호출할 수 있는 앱을 추가할 수도 있습니다.앱 업로드 및 추가 방법에 대한 추가 지침은 앱 관리 기능을 참조하세요.튜토리얼 진행 2/4 단계를 완료했습니다!다음 단계로 이동하여 Knox Configure 프로필을 다음과 같이 사용자 지정하세요. 1.설치 에디션 2.다이나믹 에디션: 일반 모드, 프로키오스크 모드']\n",
      "{'source': 'all_processed_data_ko.json', 'seq_num': 573, 'title': '프로필 생성', 'url': 'https://docs.samsungknox.com/admin/knox-configure/knox-configure-wearables/get-started/create-a-profile', 'project': 'WKC', 'last_updated': '2023-07-26', 'id': '30609e82-853d-412c-b7df-9664a1e6f565'}\n",
      "--------------------------------------------------\n",
      "\n",
      "Score: 0.9897106660381048\n",
      "['Knox Configure에 설정된 사용자 지정 부팅 애니메이션 및 사운드 파일이 동기화되지 않습니다.Knox Configure (KC) 에서 사용자 지정 부팅 애니메이션을 설정하면 부팅 애니메이션과 사운드 파일이 동기화되지 않습니다.애니메이션은 사운드 파일보다 먼저 시작됩니다.원인: 기기 프레임워크에 소비자 기기에서는 기본적으로 비활성화되는 “플래그”가 있는데, 이로 인해 비동기 부팅 애니메이션이 발생합니다.해결 방법 이는 기본 시스템 부팅 로직에서 예상되는 동작이며 변경할 수 없습니다.해결 방법 시작 과정에서 나타나는 검은색 화면을 모방하여 사용자 지정 이미지 앞에 빈 이미지를 추가하여 애니메이션과 사운드 파일을 수동으로 동기화할 수 있습니다.빈 이미지가 있으면 애니메이션이 “지연”되어 사운드 파일부터 재생이 시작됩니다.추가 정보 사용자 지정 부팅 애니메이션을 만드는 방법에 대한 단계는 KC 관리자 안내서를 참조하십시오.']\n",
      "{'source': 'all_processed_data_ko.json', 'seq_num': 652, 'title': 'Knox Configure에 설정된 사용자 지정 부팅 애니메이션 및 사운드 파일이 동기화되지 않습니다.', 'url': 'https://docs.samsungknox.com/admin/knox-configure/kbas/kba-360050195053', 'project': 'WKC', 'last_updated': '2023-07-26', 'id': 'e5b3c9b0-a774-4778-a4f7-402895a93d96'}\n",
      "--------------------------------------------------\n",
      "\n",
      "Score: 0.9774263840392057\n",
      "[\". 차단된 프린터 유형 프린터 유형 또는 대상을 인쇄할 수 없도록 합니다.모든 프린터 유형을 선택하면 사실상 인쇄가 비활성화됩니다.값 비활성화할 프린터 유형 선택: ZeroConf 기반 (mDNS+ DNS-SD) 프로토콜 로컬 프린터 — 기본 인쇄 대상이라고도 하며 로컬 컴퓨터 및 공유 네트워크 프린터에서 사용할 수 있는 대상을 포함합니다.확장 기반 - 인쇄 서비스 제공업체 대상이라고도 하며, Chrome 브라우저 확장 프로그램에 속한 모든 대상을 포함합니다.Google 클라우드 프린트 및 'Google 드라이브에 저장' PDF로 저장 Chrome OS 99 이상 버전으로 저장 PDF를 이미지로 인쇄하기 기기 사용자가 PDF를 이미지로 인쇄할 수 있습니다.해상도를 높이려면 인쇄하기 전에 일부 PDF를 이미지로 래스터화해야 합니다.활성화한 경우 이 설정을 사용할 방법을 지정할 수 있습니다.이 정책과 하위 정책은 관리되는 게스트 세션 장치에도 적용됩니다.값: 사용자가 PDF 문서를 이미지로 인쇄할 수 없습니다. 사용자가 PDF 문서를 이미지로 인쇄할 수 있습니다. 래스터화되지 않은 상태로 PDF를 인쇄하는 것이 기본값입니다. 기본 제공되는 경우 PDF를 이미지로 인쇄하는 것이 기본값인 경우 기본 설정 Chrome OS 99 이상 > 이미지로 인쇄할 때 PDF를 래스터화하는 데 사용되는 DPI는 이미지로 인쇄할 때 PDF를 래스터화하는 데 사용됩니다.값: DPI 필드에 숫자를 입력합니다.시스템 기본 해상도를 사용하려면 0을 입력합니다.Chrome OS 99 이상 #User 경험 정책 설명 지원되는 시스템 관리 북마크 Chrome 브라우저로 푸시할 북마크 컬렉션을 정의합니다.북마크는 Chrome 브라우저의 북마크 바에 있는 폴더에 표시됩니다.기기 사용자는 폴더를 숨길 수 있지만 콘텐츠를 수정할 수는 없습니다.관리되는 북마크의 기본 폴더 이름은 “관리되는 북마크”이지만 변경할 수 있습니다.북마크 관리 추가를 클릭하여 북마크 관리를 시작합니다.폴더 및 북마크 관리 대화 상자가 열립니다\"]\n",
      "{'source': 'all_processed_data_ko.json', 'seq_num': 914, 'title': '크롬 OS 정책', 'url': 'https://docs.samsungknox.com/admin/knox-manage/configure/profile/configure-profile-policies/chrome-os-policies', 'project': 'KM', 'last_updated': '2023-07-26', 'id': '5a99c375-047f-4e50-aec0-192c1b2a6d22'}\n",
      "--------------------------------------------------\n",
      "##############################\n",
      "similar_docs_ensemble\n",
      "##############################\n",
      "\n",
      "Score: 0.00819672131147541\n",
      "['.등록에 QR 코드를 사용하는 방법에 대한 자세한 내용은 프로필 생성 장치 및 장치 사용자 권한 향상을 참조하십시오. 이 개선 사항은 더 나은 권한 관리를 위해 역할 만들기 화면의 장치 및 업로드 부분에 있는 프로필로 할당 및 태그 관리 역할을 결합합니다.사용자에게 프로필로 할당 및 태그 관리 권한이 활성화되지 않은 경우, 장치 구성 팝업 (장치 > 업로드 화면의 작업 드롭다운 메뉴에서 사용 가능) 에서 프로필 지우기를 제외한 모든 MDM 프로필 옵션이 비활성화됩니다.기존 태그를 추가하고 덮어쓰는 기능은 대량 구성 화면에서 비활성화됩니다.추가 KME 국가 지원 미국 지역에서 KME 지원 국가로 추가되었습니다. 코스타리카, 도미니카공화국, 엘살바도, 과테말라, 온두라스, 니카라과, 푸에르토리코 이러한 국가는 KME 삼성 관리자 포털과 KME 가입 시 samsungknox.com 드롭다운 메뉴에서 지원 국가로 추가됩니다.릴리스 노트로 돌아가기']\n",
      "{'source': 'all_processed_data_ko.json', 'seq_num': 500, 'title': '녹스 모바일 등록 1.31 릴리즈 노트', 'url': 'https://docs.samsungknox.com/admin/knox-mobile-enrollment/release-notes/20-05', 'project': 'KME', 'last_updated': '2023-07-26'}\n",
      "--------------------------------------------------\n",
      "\n",
      "Score: 0.00819672131147541\n",
      "['.이미지를 추가하지 않으면 기본 일반 이미지가 표시됩니다.이미지 크기는 PNG 또는 JPG 형식일 수 있으며 크기는 2MB를 초과할 수 없습니다.액세스 포인트 - 선택적으로 디바이스 사용자가 Knox Configure 클라이언트를 열 수 있는 추가 방법을 구성하세요.무시할 수 없는 알림 추가 - 디바이스 사용자가 탭하여 Knox Configure 클라이언트에 빠르게 액세스할 수 있는 영구 알림을 추가하려면 이 옵션을 선택합니다.애플리케이션 이름 - 알림에 표시된 애플리케이션 이름을 입력합니다.알림 메시지 - 알림에 표시된 메시지를 입력합니다.Knox 구성 포털은 다음과 같은 특수 문자를 지원하지 않습니다. #/$\\\\ *% ^ &\\\\\\\\ () +?[].기기 프로필을 생성하기 위해 문자를 입력할 때는 이러한 요소가 사용되지 않도록 하십시오.애플리케이션 선택: 애플리케이션 선택 탭에서는 엄선된 관련 Tizen 기반 웨어러블 기기 앱 또는 사용자 지정 시계 모드 앱을 업로드하여 기기 프로필에 활용할 수 있습니다.또한 하드웨어 키를 다시 매핑한 후 호출할 수 있는 앱을 추가할 수도 있습니다.앱 업로드 및 추가 방법에 대한 추가 지침은 앱 관리 기능을 참조하세요.튜토리얼 진행 2/4 단계를 완료했습니다!다음 단계로 이동하여 Knox Configure 프로필을 다음과 같이 사용자 지정하세요. 1.설치 에디션 2.다이나믹 에디션: 일반 모드, 프로키오스크 모드']\n",
      "{'source': 'all_processed_data_ko.json', 'seq_num': 573, 'title': '프로필 생성', 'url': 'https://docs.samsungknox.com/admin/knox-configure/knox-configure-wearables/get-started/create-a-profile', 'project': 'WKC', 'last_updated': '2023-07-26', 'id': '30609e82-853d-412c-b7df-9664a1e6f565'}\n",
      "--------------------------------------------------\n",
      "\n",
      "Score: 0.008064516129032258\n",
      "['Knox Configure에 설정된 사용자 지정 부팅 애니메이션 및 사운드 파일이 동기화되지 않습니다.Knox Configure (KC) 에서 사용자 지정 부팅 애니메이션을 설정하면 부팅 애니메이션과 사운드 파일이 동기화되지 않습니다.애니메이션은 사운드 파일보다 먼저 시작됩니다.원인: 기기 프레임워크에 소비자 기기에서는 기본적으로 비활성화되는 “플래그”가 있는데, 이로 인해 비동기 부팅 애니메이션이 발생합니다.해결 방법 이는 기본 시스템 부팅 로직에서 예상되는 동작이며 변경할 수 없습니다.해결 방법 시작 과정에서 나타나는 검은색 화면을 모방하여 사용자 지정 이미지 앞에 빈 이미지를 추가하여 애니메이션과 사운드 파일을 수동으로 동기화할 수 있습니다.빈 이미지가 있으면 애니메이션이 “지연”되어 사운드 파일부터 재생이 시작됩니다.추가 정보 사용자 지정 부팅 애니메이션을 만드는 방법에 대한 단계는 KC 관리자 안내서를 참조하십시오.']\n",
      "{'source': 'all_processed_data_ko.json', 'seq_num': 652, 'title': 'Knox Configure에 설정된 사용자 지정 부팅 애니메이션 및 사운드 파일이 동기화되지 않습니다.', 'url': 'https://docs.samsungknox.com/admin/knox-configure/kbas/kba-360050195053', 'project': 'WKC', 'last_updated': '2023-07-26', 'id': 'e5b3c9b0-a774-4778-a4f7-402895a93d96'}\n",
      "--------------------------------------------------\n",
      "CPU times: user 10.7 ms, sys: 204 µs, total: 10.9 ms\n",
      "Wall time: 238 ms\n"
     ]
    }
   ],
   "source": [
    "%%time\n",
    "\n",
    "\n",
    "filter01 = \"[]\"\n",
    "filter02 = \"[]\"\n",
    "\n",
    "# query = \"how to add image\"\n",
    "query = \"이미지 추가 하는 방법\"\n",
    "\n",
    "search_hybrid_result = search_hybrid(\n",
    "    query=query,\n",
    "    vector_db=vector_db,\n",
    "    k=3,\n",
    "    index_name= index_name,\n",
    "    os_client=os_client,\n",
    "    filter=[\n",
    "        {\"term\": {\"metadata.type\": filter01}},\n",
    "        {\"term\": {\"metadata.source\": filter02}},\n",
    "    ],\n",
    "    Semantic_Search = False,    \n",
    "    Lexical_Search = False,    \n",
    "    Hybrid_Search = True,     \n",
    "    minimum_should_match = 75,   \n",
    "    fusion_algorithm=\"RRF\", # [\"RRF\", \"simple_weighted\"]\n",
    "    ensemble_weights=[.5, .5], # 시멘트 서치에 가중치 0.5 , 키워드 서치 가중치 0.5 부여.\n",
    "    verbose=True\n",
    ")\n",
    "\n"
   ]
  },
  {
   "cell_type": "markdown",
   "metadata": {},
   "source": [
    "# 7. 검증 인덱스 생성"
   ]
  },
  {
   "cell_type": "markdown",
   "metadata": {},
   "source": [
    "## Index 이름 결정"
   ]
  },
  {
   "cell_type": "code",
   "execution_count": 33,
   "metadata": {
    "tags": []
   },
   "outputs": [],
   "source": [
    "eval_index_name = \"genai-poc-knox-kr-eval-sample-0.02-1024c-256o-v9\""
   ]
  },
  {
   "cell_type": "markdown",
   "metadata": {},
   "source": [
    "## Sampling"
   ]
  },
  {
   "cell_type": "code",
   "execution_count": 34,
   "metadata": {
    "tags": []
   },
   "outputs": [
    {
     "name": "stdout",
     "output_type": "stream",
     "text": [
      "eval docs:  34\n"
     ]
    },
    {
     "data": {
      "text/plain": [
       "[Document(page_content='AR 데모 바코드.다음 바코드를 사용하여 녹스 캡처 AR 기능을 테스트하세요.바코드 1 바코드 2 바코드 3 바코드 4 바코드 5 바코드 6', metadata={'source': 'all_processed_data_ko.json', 'seq_num': 1, 'title': 'AR 데모 바코드', 'url': 'https://docs.samsungknox.com/admin/knox-capture/ar-demo-barcodes', 'project': 'KCAP', 'last_updated': '2023-10-16'}),\n",
       " Document(page_content='동영상.이 섹션에는 Knox Capture와 관련된 제품 및 사용 방법 비디오가 포함되어 있습니다.삼성 Knox Capture 시작하기 이 비디오에서는 삼성 Knox Capture를 사용하여 모바일 디바이스를 강력한 바코드 스캐너로 변환하여 바코드 데이터를 읽고, 처리하고, 다른 애플리케이션으로 출력하는 방법을 보여 드리겠습니다.삼성 Knox Capture: Galaxy 디바이스의 엔터프라이즈급 모바일 스캔 솔루션 이 제품 소개 비디오는 Galaxy XCover Pro와 같은 견고한 삼성 디바이스를 엔터프라이즈급 바코드 스캐너로 전환하는 것이 얼마나 쉬운지 보여줍니다.', metadata={'source': 'all_processed_data_ko.json', 'seq_num': 2, 'title': '동영상', 'url': 'https://docs.samsungknox.com/admin/knox-capture/how-to-videos', 'project': 'KCAP', 'last_updated': '2023-07-26'})]"
      ]
     },
     "execution_count": 34,
     "metadata": {},
     "output_type": "execute_result"
    }
   ],
   "source": [
    "import random\n",
    "def get_sampling_doc(seed, ratio, docs):\n",
    "\n",
    "    random.seed(seed)\n",
    "    \n",
    "    eval_docs = docs[:int(len(docs)*ratio)]\n",
    "    \n",
    "    return eval_docs\n",
    "    \n",
    "eval_docs = get_sampling_doc(seed=200, ratio=0.02, docs= all_docs)\n",
    "print(\"eval docs: \", len(eval_docs))\n",
    "eval_docs[0:2]\n",
    "    \n",
    "    "
   ]
  },
  {
   "cell_type": "code",
   "execution_count": 35,
   "metadata": {
    "tags": []
   },
   "outputs": [
    {
     "name": "stdout",
     "output_type": "stream",
     "text": [
      "Number of chunk_docs after split and chunking= 87\n"
     ]
    }
   ],
   "source": [
    "chunk_docs = text_splitter.split_documents(eval_docs)\n",
    "print(f\"Number of chunk_docs after split and chunking= {len(chunk_docs)}\")"
   ]
  },
  {
   "cell_type": "markdown",
   "metadata": {},
   "source": [
    "## 오픈 서치 인덱스 유무에 따라 삭제\n",
    "오픈 서치에 해당 인덱스가 존재하면, 삭제 합니다. "
   ]
  },
  {
   "cell_type": "code",
   "execution_count": 36,
   "metadata": {
    "tags": []
   },
   "outputs": [
    {
     "name": "stdout",
     "output_type": "stream",
     "text": [
      "index_name=genai-poc-knox-kr-eval-sample-0.02-1024c-256o-v9, exists=True\n",
      "\n",
      "Deleting index:\n",
      "{'acknowledged': True}\n",
      "\n",
      "Creating index:\n",
      "{'acknowledged': True, 'shards_acknowledged': True, 'index': 'genai-poc-knox-kr-eval-sample-0.02-1024c-256o-v9'}\n",
      "Index is created\n",
      "{'genai-poc-knox-kr-eval-sample-0.02-1024c-256o-v9': {'aliases': {},\n",
      "                                                      'mappings': {'properties': {'metadata': {'properties': {'last_updated': {'type': 'date'},\n",
      "                                                                                                              'project': {'type': 'keyword'},\n",
      "                                                                                                              'seq_num': {'type': 'long'},\n",
      "                                                                                                              'source': {'type': 'keyword'},\n",
      "                                                                                                              'title': {'type': 'text'},\n",
      "                                                                                                              'url': {'type': 'text'}}},\n",
      "                                                                                  'text': {'analyzer': 'my_analyzer',\n",
      "                                                                                           'type': 'text'},\n",
      "                                                                                  'vector_field': {'dimension': 1536,\n",
      "                                                                                                   'type': 'knn_vector'}}},\n",
      "                                                      'settings': {'index': {'analysis': {'analyzer': {'my_analyzer': {'char_filter': ['html_strip'],\n",
      "                                                                                                                       'filter': ['nori_number',\n",
      "                                                                                                                                  'lowercase',\n",
      "                                                                                                                                  'trim',\n",
      "                                                                                                                                  'my_nori_part_of_speech'],\n",
      "                                                                                                                       'tokenizer': 'nori',\n",
      "                                                                                                                       'type': 'custom'}},\n",
      "                                                                                          'filter': {'my_nori_part_of_speech': {'stoptags': ['E',\n",
      "                                                                                                                                             'IC',\n",
      "                                                                                                                                             'J',\n",
      "                                                                                                                                             'MAG',\n",
      "                                                                                                                                             'MAJ',\n",
      "                                                                                                                                             'MM',\n",
      "                                                                                                                                             'SP',\n",
      "                                                                                                                                             'SSC',\n",
      "                                                                                                                                             'SSO',\n",
      "                                                                                                                                             'SC',\n",
      "                                                                                                                                             'SE',\n",
      "                                                                                                                                             'XPN',\n",
      "                                                                                                                                             'XSA',\n",
      "                                                                                                                                             'XSN',\n",
      "                                                                                                                                             'XSV',\n",
      "                                                                                                                                             'UNA',\n",
      "                                                                                                                                             'NA',\n",
      "                                                                                                                                             'VSV'],\n",
      "                                                                                                                                'type': 'nori_part_of_speech'}},\n",
      "                                                                                          'tokenizer': {'nori': {'decompound_mode': 'mixed',\n",
      "                                                                                                                 'discard_punctuation': 'true',\n",
      "                                                                                                                 'type': 'nori_tokenizer'}}},\n",
      "                                                                             'creation_date': '1700980056407',\n",
      "                                                                             'knn': 'true',\n",
      "                                                                             'knn.space_type': 'cosinesimil',\n",
      "                                                                             'number_of_replicas': '2',\n",
      "                                                                             'number_of_shards': '5',\n",
      "                                                                             'provided_name': 'genai-poc-knox-kr-eval-sample-0.02-1024c-256o-v9',\n",
      "                                                                             'uuid': 'V0i22I1gTQ-JYDR3T8O1Bw',\n",
      "                                                                             'version': {'created': '136307827'}}}}}\n"
     ]
    }
   ],
   "source": [
    "index_exists = opensearch_utils.check_if_index_exists(\n",
    "    os_client,\n",
    "    eval_index_name\n",
    ")\n",
    "\n",
    "if index_exists:\n",
    "    opensearch_utils.delete_index(\n",
    "        os_client,\n",
    "        eval_index_name\n",
    "    )\n",
    "    \n",
    "opensearch_utils.create_index(os_client, eval_index_name, index_body)\n",
    "index_info = os_client.indices.get(index=eval_index_name)\n",
    "print(\"Index is created\")\n",
    "pprint(index_info)    "
   ]
  },
  {
   "cell_type": "markdown",
   "metadata": {},
   "source": [
    "## 검증 인덱스 생성"
   ]
  },
  {
   "cell_type": "code",
   "execution_count": 37,
   "metadata": {
    "tags": []
   },
   "outputs": [
    {
     "data": {
      "text/plain": [
       "<langchain.vectorstores.opensearch_vector_search.OpenSearchVectorSearch at 0x7fca00237dc0>"
      ]
     },
     "execution_count": 37,
     "metadata": {},
     "output_type": "execute_result"
    }
   ],
   "source": [
    "eval_vector_db = OpenSearchVectorSearch(\n",
    "    index_name= eval_index_name,\n",
    "    opensearch_url=opensearch_domain_endpoint,\n",
    "    embedding_function=llm_emb,\n",
    "    http_auth=http_auth, # http_auth\n",
    "    is_aoss =False,\n",
    "    engine=\"faiss\",\n",
    "    space_type=\"l2\",\n",
    "    bulk_size=100000,\n",
    "    timeout=60    \n",
    ")\n",
    "vector_db"
   ]
  },
  {
   "cell_type": "code",
   "execution_count": 38,
   "metadata": {
    "tags": []
   },
   "outputs": [
    {
     "name": "stdout",
     "output_type": "stream",
     "text": [
      "CPU times: user 265 ms, sys: 10.6 ms, total: 276 ms\n",
      "Wall time: 9.61 s\n"
     ]
    },
    {
     "data": {
      "text/plain": [
       "['6a708186-a75b-40af-b671-e83e11cf0065',\n",
       " '6f3edade-ca32-4b7a-b7a3-279df9caed5c',\n",
       " '897f21a4-b289-4d31-a4ce-c077a45ebac3',\n",
       " '0857170a-3948-4f47-a331-51af307b638c',\n",
       " 'ccead5c5-0160-4061-bd1c-553b63da1b33',\n",
       " 'e317aa32-c9e6-4694-bdde-586ace8de620',\n",
       " 'b02e67f1-662c-4c69-8f10-56f4bd2b9f04',\n",
       " 'bb15fc61-0389-4f65-a45a-9e41667d0e46',\n",
       " '86c3cdf7-d389-44b4-82f8-fb39a0593556',\n",
       " '5cd1d74c-f95c-4f8b-a48f-25e3bba3a3d1',\n",
       " '293588fe-d5da-4f0d-96d5-d98b3032e186',\n",
       " '676610d3-1bda-48b3-9275-7a1af1b26d5f',\n",
       " 'eaa88cc8-b8f7-4cc5-93b8-d65d55a8e2f1',\n",
       " '897501b1-9b01-4a93-ba2b-73da446b81f2',\n",
       " 'e40fa4f2-15ee-43ed-aea6-3a0fbb70454a',\n",
       " '71453887-92f5-4757-ae1c-b94023c30f58',\n",
       " '3226f5f0-32a7-4109-8449-eb49aafcba57',\n",
       " 'a3c61cb7-9465-438c-9b96-89f9bd8f787f',\n",
       " 'c1f2b7ee-384d-4522-becb-108c1a09466c',\n",
       " '32692677-91ba-4daf-ab5e-5386f848e96c',\n",
       " 'c7d35c86-42db-4ded-93fb-42493a1db3f2',\n",
       " 'a5fcb8b6-cd78-46b9-9bf2-65244c5bf032',\n",
       " '00b9cd98-0be4-4b5f-beb6-a68f69774c88',\n",
       " '2ed6f1f1-193e-42ac-a8d3-bd8b9721afde',\n",
       " '8ab3b556-6d4a-419c-b61a-ee3bc93e3a70',\n",
       " 'b3ce2445-1ae6-45b9-a99a-48355aa0a901',\n",
       " 'fcd9a05a-05e5-461c-9691-378afbe3d029',\n",
       " '4a23b54f-8df1-475f-ae26-e4d5949560fc',\n",
       " '1ee292da-a63c-4ea0-88d2-b32c99754ac8',\n",
       " 'f6a9da17-a10d-4c1b-86bb-ca758556db34',\n",
       " '9c961f72-3ea6-4f9e-805e-502aebe1a852',\n",
       " 'd01a5328-2eb3-4a7e-ada8-c132af040643',\n",
       " 'faaacc11-0f77-463b-aea5-d27015bef3b8',\n",
       " '25b6b021-e0ca-471d-8c60-7b12c245affd',\n",
       " '7cfa91d0-9035-4f6f-99d6-83cc923ecf6e',\n",
       " 'cf7ba6ae-cf03-48e7-ac80-b442855727ba',\n",
       " '38309010-66a7-4bd4-843e-7969e3600ac5',\n",
       " '0fa5bf8d-c4fa-4c9c-b515-6d9bd9171b42',\n",
       " 'e7ac6e58-dcdc-42b1-889d-4ab71e4f46d9',\n",
       " 'ef6c6210-c269-4530-8a62-0efeb8543594',\n",
       " '6d626ec0-3f76-4e2d-a6ec-77ee0aebb01f',\n",
       " '7b7b8c24-b960-4307-bb0b-88c6f3584687',\n",
       " '5114c086-94d9-4d95-a88d-c55a6c8cbc82',\n",
       " '1eb61a1a-debf-47b5-9162-fbfe6ffa5fa6',\n",
       " '11d47b0d-3cef-440a-a074-146492acf49d',\n",
       " 'c42e03f0-b125-4183-8713-6df6aebbb8b5',\n",
       " 'b591a187-f681-4acf-b371-811ef1ce26bc',\n",
       " '2ea397d2-8e84-445e-8a51-df2d300a5fd4',\n",
       " '29af8d6d-9856-4e65-b56f-47d72ee6caeb',\n",
       " '2c67291a-f5de-4730-876f-2a17d113b506',\n",
       " '991f8f77-265a-476a-9000-c06c90f70c3b',\n",
       " '562bb22c-2eac-448e-8a51-2c2bcdecedb6',\n",
       " 'd2c787d2-a2df-4ec9-a3a3-02c6847a891e',\n",
       " '0bcf9714-77af-4f5f-b497-7b10ad85355a',\n",
       " 'f22653ee-97bf-45e7-93f9-563646106e46',\n",
       " '9794aab1-f20c-4c0d-80a2-2f9354e55165',\n",
       " 'e8e5c83e-7f61-41f5-b11d-0c06eb2ead17',\n",
       " '888f0ae6-88a4-4e20-8578-c1206b5f96e4',\n",
       " 'e5d3f606-21e2-44d1-b99c-e3c4eb9bd1e6',\n",
       " '30d6d104-fb2d-4a5c-9868-6b45da48b640',\n",
       " 'de338fbc-5aa3-4605-aa4f-fd9d584680fb',\n",
       " '03829910-8727-400c-9a48-575e9b05442f',\n",
       " '242094d5-652f-4a5c-a8e9-739280655854',\n",
       " '5debe62a-54df-46ad-aa40-9b554b9dc8f3',\n",
       " '0e22aa8e-8a36-4136-9d6e-8f13103db166',\n",
       " 'cd454f92-541b-4383-84b7-42b5423ef4ae',\n",
       " '718670e9-f3db-410b-aab6-86b584a636d0',\n",
       " '7fec40cc-e86f-4dec-b30c-9f808a2c1b15',\n",
       " '84b3a8cd-360d-4abb-bc00-b5789d7157de',\n",
       " '8bd97cb5-a295-402d-9a05-6a6d5bc23736',\n",
       " 'f0a268fb-1c0f-494b-bfb5-b17fd1569335',\n",
       " 'cd6de06d-305d-4fa0-aa32-507680d12620',\n",
       " '0ec1de5b-ebf5-4ba6-a6b8-00ac50129810',\n",
       " 'cd6159e1-f696-4a65-bcbb-4ebf0d82a76a',\n",
       " '9dd1230b-3a7a-4d85-9c58-afd5e1162a42',\n",
       " 'b60b768a-ea7e-4ce4-85b9-a5a89f406e65',\n",
       " 'd3cdab4f-9ef7-4208-a358-99da21801ee7',\n",
       " '7f14040d-49df-444d-acf0-a38c02b6f9bc',\n",
       " '9f3552dd-a2f1-4476-b92a-dc1bd73630af',\n",
       " 'd7e8b2f3-1319-4b22-adee-62de6dab390a',\n",
       " '9e98c3da-e7de-45e5-9cf6-a72958e8c61b',\n",
       " '07b77442-a7d4-4500-a757-f87d664fb318',\n",
       " '5653f0e7-d509-4d2b-943a-e673ab7dc244',\n",
       " '7dc70ab4-270c-475e-831a-0c0bce22b0ad',\n",
       " '707fc658-6223-41b8-a5a2-e88c9dbbdb75',\n",
       " '9f93f93a-b03f-444e-a641-1da3d3b75570',\n",
       " '98285e0e-7de9-43d5-9e27-fa4ff0e60206']"
      ]
     },
     "execution_count": 38,
     "metadata": {},
     "output_type": "execute_result"
    }
   ],
   "source": [
    "%%time\n",
    "\n",
    "eval_vector_db.add_documents(documents = chunk_docs, \n",
    "                        vector_field = \"vector_field\",\n",
    "                        bulk_size = 1000000)\n"
   ]
  },
  {
   "cell_type": "code",
   "execution_count": 39,
   "metadata": {
    "tags": []
   },
   "outputs": [
    {
     "name": "stdout",
     "output_type": "stream",
     "text": [
      "Query: \n",
      " 이미지 추가 하는 방법\n",
      "##############################\n",
      "similar_docs_semantic\n",
      "##############################\n",
      "\n",
      "Score: 1.0\n",
      "['.Knox Capture는 구성을 가져오고 성공 메시지를 표시합니다. QR 코드가 포함된 #Import 메시지를 표시합니다. QR 코드를 통해 구성을 공유한 경우 다음과 같이 구성을 가져올 수 있습니다. 1.구성 가져오기 메뉴에서 QR 코드 아이콘을 탭하여 카메라 스캐너를 시작합니다. 2.카메라를 QR 코드 쪽으로 향하게 합니다. 3.QR 코드를 스캔한 후 Knox Capture는 자동으로 구성을 가져오고 성공 메시지를 표시합니다.구성이 QR 코드 하나에 비해 너무 큰 경우 Knox Capture는 여러 QR 코드를 PDF 파일에 표시합니다.최종 사용자가 가져오기 프로세스를 완료하려면 모두 스캔해야 합니다.사용자가 동일한 구성에 속하지 않는 QR 코드를 스캔하려고 하면 다른 QR 코드를 스캔할 때까지 오버레이에 오류 메시지가 표시됩니다.']\n",
      "{'source': 'all_processed_data_ko.json', 'seq_num': 14, 'title': '구성 내보내기 및 배포', 'url': 'https://docs.samsungknox.com/admin/knox-capture/how-to-guides/export-and-deploy-configuration', 'project': 'KCAP', 'last_updated': '2023-07-26'}\n",
      "--------------------------------------------------\n",
      "\n",
      "Score: 0.9868393820711998\n",
      "['.#Visual cue 시각적 신호는 카메라 스캔 UI의 중심에 있는 뷰파인더 오버레이로, 사용자의 주의를 바코드에 집중시킵니다.비주얼 큐의 크기는 실제 스캔 영역의 크기와 같습니다.설정 옵션 보기 파인더 선택 직사각형 (기본값) — 감지된 바코드 주위에 직사각형을 그립니다.레이저 - 감지된 바코드 위에 수평 “레이저” 선을 겹쳐 표시합니다.직사각형 뷰파인더 너비 화면 너비 백분율로 지정된 직사각형 뷰파인더의 너비를 설정합니다.뷰파인더 선택이 직사각형으로 설정된 경우에만 활성화됩니다.사용 가능한 값은 0% ~ 100% 입니다.기본값은 90% 입니다.직사각형 뷰파인더 높이 화면 높이 백분율로 지정된 직사각형 뷰파인더의 높이를 설정합니다.뷰파인더 선택이 직사각형으로 설정된 경우에만 활성화됩니다.사용 가능한 값은 0% ~ 100% 입니다.기본값은 40% 입니다.']\n",
      "{'source': 'all_processed_data_ko.json', 'seq_num': 11, 'title': '스캔 엔진 설정 구성', 'url': 'https://docs.samsungknox.com/admin/knox-capture/how-to-guides/configure-scan-engine-settings', 'project': 'KCAP', 'last_updated': '2023-10-16'}\n",
      "--------------------------------------------------\n",
      "\n",
      "Score: 0.9608368352894846\n",
      "['. 3.AR 오버레이 설정에서 템플릿 이름을 지정하고 템플릿 URL 필드에 데이터베이스 서버 주소를 입력합니다.이 필드는 _필수_이며 Knox Capture AR이 데이터베이스에 연결하여 각 바코드 스캔 중에 제품 정보를 보고 업데이트할 수 있도록 합니다.자세한 내용은 데이터베이스 서버에 AR 연결을 참조하십시오. 4.바코드 유형에서 Knox Capture AR이 스캔할 바코드 기술을 선택합니다. 5.계속을 탭하여 템플릿을 저장하세요.AR 오버레이 필드 선택 화면으로 이동합니다.자세히 알아보려면 AR 오버레이 정보 사용자 지정을 참조하십시오.AR 오버레이 정보 사용자 지정 Knox Capture AR을 제품 데이터베이스 서버에 연결하면 바코드를 스캔할 때마다 AR 오버레이가 화면에 중요한 제품 정보를 표시할 수 있습니다.이 정보는 바코드 위의 팝업으로 표시되며 다음을 포함합니다. 제목 - 바코드를 스캔할 때마다 팝업에 나타나는 기본 텍스트입니다.이미지 - 이 이미지는 팝업에서는 썸네일로 나타나고, 사용자가 > 버튼을 탭할 때마다 제품 세부 정보에서 더 큰 이미지로 표시됩니다.필드 - 이 정보는 사용자가 > 버튼을 탭하면 제품 세부 정보에 표시됩니다.AR 오버레이 정보를 구성하려면: 1.AR 템플릿 화면에서 사용자 지정하려는 템플릿을 찾아 메뉴 버튼 (세로 점 3개) 을 탭한 다음 편집을 탭합니다. 2.제목에서 팝업의 기본 제목으로 표시할 데이터를 선택합니다. 3.이미지에서 사용자가 제품 세부 정보를 확장할 때 이미지가 표시되는 방식 (썸네일이든 전체 크기 이미지이든) 을 선택합니다.이 단계는 제품 세부 정보의 이미지에 영향을 준다는 점에 유의하세요.썸네일 이미지는 선택한 크기에 관계없이 항상 팝업에 나타납니다. 4.필드에서 사용자가 > 버튼을 눌렀을 때 나타나는 정보를 선택하여 팝업의 제품 세부 정보를 확장합니다.보기 및 업데이트 AR 템플릿의 경우 관리자는 필드 이름 옆의 편집 아이콘 (연필) 을 눌러 사용자가 업데이트할 수 있는 필드를 지정할 수 있습니다']\n",
      "{'source': 'all_processed_data_ko.json', 'seq_num': 21, 'title': 'AR 설정하기', 'url': 'https://docs.samsungknox.com/admin/knox-capture/how-to-guides/ar/configure-ar', 'project': 'KCAP', 'last_updated': '2023-07-26'}\n",
      "--------------------------------------------------\n",
      "lexical search query: \n",
      "{'query': {'bool': {'filter': [],\n",
      "                    'must': [{'match': {'text': {'minimum_should_match': '75%',\n",
      "                                                 'operator': 'or',\n",
      "                                                 'query': '이미지 추가 하는 방법'}}}]}},\n",
      " 'size': 3}\n",
      "##############################\n",
      "similar_docs_keyword\n",
      "##############################\n",
      "\n",
      "Score: 1.0\n",
      "['.이 단계는 제품 세부 정보의 이미지에 영향을 준다는 점에 유의하세요.썸네일 이미지는 선택한 크기에 관계없이 항상 팝업에 나타납니다. 4.필드에서 사용자가 > 버튼을 눌렀을 때 나타나는 정보를 선택하여 팝업의 제품 세부 정보를 확장합니다.보기 및 업데이트 AR 템플릿의 경우 관리자는 필드 이름 옆의 편집 아이콘 (연필) 을 눌러 사용자가 업데이트할 수 있는 필드를 지정할 수 있습니다.편집 아이콘이 파란색으로 바뀌어 덮어쓸 수 있는 필드를 나타냅니다.데이터베이스에서 쓰기 권한이 부여된 경우에만 필드에 편집 아이콘이 표시된다는 점에 유의하십시오. 5.완료를 눌러 설정을 저장합니다.데이터베이스 서버에 AR 연결 바코드를 스캔할 때마다 AR 오버레이에 중요한 제품 세부 정보를 표시하려는 고객의 경우 먼저 Knox Capture와 데이터베이스 서버 간의 연결을 설정해야 합니다.기업 조직은 자체 IT 부서 또는 선택한 타사 공급업체를 통해 자체 데이터베이스 서버를 설정해야 합니다.이 섹션에서는 주로 서버 설정에 필요한 REST API를 중심으로 데이터베이스 서버 설정 지침을 제공합니다.#REST API 지침 # #URI: `/login`, 설명: 이 API는 사용자/클라이언트 자격 증명 요구 사항을 확인하는 데 사용됩니다.HTTP 요청 방법: `GET` 요청 구조 예상 HTTP 응답 구조: /login 헤더: User-Agent: com.samsung.android.app.smartscan/ (선택 사항) 권한 부여: 기본: Base64_Encoded 200: 성공 401: 유효하지 않은/누락된 자격 증명 기타 코드는 연결 실패로 처리됩니다. 승인 헤더 없이 200이 반환되면 클라이언트는 다른 요청에 대해 승인이 필요하지 않은 것으로 간주합니다.마찬가지로 이 API에 승인이 필요한 경우 다른 API에도 권한 부여 헤더가 포함됩니다.즉, 클라이언트는 이 테이블의 모든 API가 동일한 보호 영역 또는 범위를 가지고 있다고 가정합니다']\n",
      "{'source': 'all_processed_data_ko.json', 'seq_num': 21, 'title': 'AR 설정하기', 'url': 'https://docs.samsungknox.com/admin/knox-capture/how-to-guides/ar/configure-ar', 'project': 'KCAP', 'last_updated': '2023-07-26', 'id': '30d6d104-fb2d-4a5c-9868-6b45da48b640'}\n",
      "--------------------------------------------------\n",
      "\n",
      "Score: 0.7975857696018755\n",
      "[\".#Nearby 공유 주변 공유를 사용하여 다른 디바이스와 구성을 공유하려면: 1.공유 구성 메뉴에서 주변 아이콘을 누릅니다. 2.송신 및 수신 장치 모두에서 Nearby Share가 켜져 있는지 확인합니다. 3.수신 기기에서 나타나는 '주변 기기 공유 중' 팝업을 누릅니다.#QR 코드 다른 장치에서 스캔하여 구성을 가져올 수 있는 QR 코드를 생성하려면 구성 공유 메뉴에서 QR 코드 옵션을 누릅니다.녹스 캡처는 QR 코드를 생성하고 표시합니다.선택적으로 저장 또는 이메일 버튼을 눌러 QR 코드를 저장하거나 이메일로 보낼 수 있습니다.저장을 눌러 장치의 내 파일 > 다운로드 폴더에 QR 코드를 이미지로 저장합니다.이메일을 눌러 기본 이메일 앱을 실행합니다.결과 이메일 메시지에는 QR 코드를 사용하여 구성을 가져오는 방법에 대한 지침이 포함됩니다.구성이 QR 코드 하나에 비해 너무 큰 경우 Knox Capture는 PDF 파일에 여러 QR 코드를 생성합니다.최종 사용자가 가져오기 프로세스를 완료하려면 모두 스캔해야 합니다.EMM을 통한 배포 사용자 지정 스캔 구성이 포함된 Knox Capture를 여러 디바이스에 배포하려면 스캔 구성을 설정하고 EMM 콘솔을 사용하여 관리형 Google Play의 Knox Capture 앱 구성에 추가하세요.이렇게 하면 최종 사용자가 관리 모드에서 디바이스에서 앱을 실행할 수 있습니다.배포는 EMM 공급자에 따라 다르지만 다음 흐름과 비슷해야 합니다. 1.관리 디바이스에 Knox Capture를 설치하고, 앱을 구성하고, 구성을 텍스트 파일로 내보냅니다. 2.관리형 구글 플레이 스토어에 Knox Capture 앱을 추가하세요. 3.앱을 그룹이나 조직에 할당하고 앱 구성 대화상자를 실행합니다.대부분의 콘솔에서는 앱 구성 (또는 앱 구성) 대화 상자가 팝업 창이나 모달로 열립니다. 4.EMM에서 라이선스를 활성화하세요. 5.내보낸 Knox Capture 구성의 텍스트를 복사하여 제공된 구성 필드에 붙여넣습니다. 6.업데이트된 설정을 저장하고 배포합니다\"]\n",
      "{'source': 'all_processed_data_ko.json', 'seq_num': 14, 'title': '구성 내보내기 및 배포', 'url': 'https://docs.samsungknox.com/admin/knox-capture/how-to-guides/export-and-deploy-configuration', 'project': 'KCAP', 'last_updated': '2023-07-26', 'id': 'cf7ba6ae-cf03-48e7-ac80-b442855727ba'}\n",
      "--------------------------------------------------\n",
      "\n",
      "Score: 0.6546467800800004\n",
      "[\"구성을 내보내고 배포합니다.Knox Capture는 간단한 EMM 기반 배포 모델을 사용합니다.먼저 스캔 구성을.txt 파일로 내보낸 다음 EMM을 사용하여 해당 파일을 앱 구성에 추가하여 Knox Capture를 최종 사용자에게 관리형 앱으로 배포해야 합니다.구성 내보내기 스캔 구성을 내보내고 공유하면 다른 디바이스가 해당 구성을 설치에 적용할 수 있습니다.#Export 옵션 IT 관리자는 여러 가지 방법을 사용하여 구성을 내보낼 수 있습니다. 바로 디바이스에 파일로 저장하는 것입니다.파일을 첨부하여 이메일로 보내십시오.Nearby share를 사용하여 다른 IT 관리자의 디바이스로 전송하고, 다른 IT 관리자가 스캔할 수 있는 QR 코드를 생성하세요.장치별로 구성을 공유하려면 근거리 통신 (NFC) 또는 QR 코드를 사용하여 구성을 전송하세요.#Launch 내보내기 메뉴 선택한 내보내기 방법에 관계없이 먼저 홈 페이지 오른쪽 하단에 있는 공유 버튼을 눌러 공유 구성 메뉴를 시작합니다.#Save 파일을 파일로 저장하려면: 1.공유 구성 메뉴에서 저장 아이콘을 누릅니다. 2.이름을 입력하고 '완료'를 탭합니다.Knox Capture는 내 파일 > 다운로드 내에 구성을 저장하고 성공 메시지를 표시합니다.#Email 파일 기본 이메일 프로그램을 사용하여 구성을 텍스트 파일 첨부 파일로 이메일로 보내려면: 1.공유 구성 메뉴에서 이메일 아이콘을 누릅니다. 2.Knox Capture는 이메일 애플리케이션을 시작하고 구성 파일이 첨부된 새 메시지를 시작합니다.#Nearby 공유 주변 공유를 사용하여 다른 디바이스와 구성을 공유하려면: 1.공유 구성 메뉴에서 주변 아이콘을 누릅니다. 2.송신 및 수신 장치 모두에서 Nearby Share가 켜져 있는지 확인합니다. 3.수신 기기에서 나타나는 '주변 기기 공유 중' 팝업을 누릅니다.#QR 코드 다른 장치에서 스캔하여 구성을 가져올 수 있는 QR 코드를 생성하려면 구성 공유 메뉴에서 QR 코드 옵션을 누릅니다.녹스 캡처는 QR 코드를 생성하고 표시합니다\"]\n",
      "{'source': 'all_processed_data_ko.json', 'seq_num': 14, 'title': '구성 내보내기 및 배포', 'url': 'https://docs.samsungknox.com/admin/knox-capture/how-to-guides/export-and-deploy-configuration', 'project': 'KCAP', 'last_updated': '2023-07-26', 'id': '7cfa91d0-9035-4f6f-99d6-83cc923ecf6e'}\n",
      "--------------------------------------------------\n",
      "##############################\n",
      "similar_docs_ensemble\n",
      "##############################\n",
      "\n",
      "Score: 0.00819672131147541\n",
      "['.Knox Capture는 구성을 가져오고 성공 메시지를 표시합니다. QR 코드가 포함된 #Import 메시지를 표시합니다. QR 코드를 통해 구성을 공유한 경우 다음과 같이 구성을 가져올 수 있습니다. 1.구성 가져오기 메뉴에서 QR 코드 아이콘을 탭하여 카메라 스캐너를 시작합니다. 2.카메라를 QR 코드 쪽으로 향하게 합니다. 3.QR 코드를 스캔한 후 Knox Capture는 자동으로 구성을 가져오고 성공 메시지를 표시합니다.구성이 QR 코드 하나에 비해 너무 큰 경우 Knox Capture는 여러 QR 코드를 PDF 파일에 표시합니다.최종 사용자가 가져오기 프로세스를 완료하려면 모두 스캔해야 합니다.사용자가 동일한 구성에 속하지 않는 QR 코드를 스캔하려고 하면 다른 QR 코드를 스캔할 때까지 오버레이에 오류 메시지가 표시됩니다.']\n",
      "{'source': 'all_processed_data_ko.json', 'seq_num': 14, 'title': '구성 내보내기 및 배포', 'url': 'https://docs.samsungknox.com/admin/knox-capture/how-to-guides/export-and-deploy-configuration', 'project': 'KCAP', 'last_updated': '2023-07-26'}\n",
      "--------------------------------------------------\n",
      "\n",
      "Score: 0.00819672131147541\n",
      "['.이 단계는 제품 세부 정보의 이미지에 영향을 준다는 점에 유의하세요.썸네일 이미지는 선택한 크기에 관계없이 항상 팝업에 나타납니다. 4.필드에서 사용자가 > 버튼을 눌렀을 때 나타나는 정보를 선택하여 팝업의 제품 세부 정보를 확장합니다.보기 및 업데이트 AR 템플릿의 경우 관리자는 필드 이름 옆의 편집 아이콘 (연필) 을 눌러 사용자가 업데이트할 수 있는 필드를 지정할 수 있습니다.편집 아이콘이 파란색으로 바뀌어 덮어쓸 수 있는 필드를 나타냅니다.데이터베이스에서 쓰기 권한이 부여된 경우에만 필드에 편집 아이콘이 표시된다는 점에 유의하십시오. 5.완료를 눌러 설정을 저장합니다.데이터베이스 서버에 AR 연결 바코드를 스캔할 때마다 AR 오버레이에 중요한 제품 세부 정보를 표시하려는 고객의 경우 먼저 Knox Capture와 데이터베이스 서버 간의 연결을 설정해야 합니다.기업 조직은 자체 IT 부서 또는 선택한 타사 공급업체를 통해 자체 데이터베이스 서버를 설정해야 합니다.이 섹션에서는 주로 서버 설정에 필요한 REST API를 중심으로 데이터베이스 서버 설정 지침을 제공합니다.#REST API 지침 # #URI: `/login`, 설명: 이 API는 사용자/클라이언트 자격 증명 요구 사항을 확인하는 데 사용됩니다.HTTP 요청 방법: `GET` 요청 구조 예상 HTTP 응답 구조: /login 헤더: User-Agent: com.samsung.android.app.smartscan/ (선택 사항) 권한 부여: 기본: Base64_Encoded 200: 성공 401: 유효하지 않은/누락된 자격 증명 기타 코드는 연결 실패로 처리됩니다. 승인 헤더 없이 200이 반환되면 클라이언트는 다른 요청에 대해 승인이 필요하지 않은 것으로 간주합니다.마찬가지로 이 API에 승인이 필요한 경우 다른 API에도 권한 부여 헤더가 포함됩니다.즉, 클라이언트는 이 테이블의 모든 API가 동일한 보호 영역 또는 범위를 가지고 있다고 가정합니다']\n",
      "{'source': 'all_processed_data_ko.json', 'seq_num': 21, 'title': 'AR 설정하기', 'url': 'https://docs.samsungknox.com/admin/knox-capture/how-to-guides/ar/configure-ar', 'project': 'KCAP', 'last_updated': '2023-07-26', 'id': '30d6d104-fb2d-4a5c-9868-6b45da48b640'}\n",
      "--------------------------------------------------\n",
      "\n",
      "Score: 0.008064516129032258\n",
      "['.#Visual cue 시각적 신호는 카메라 스캔 UI의 중심에 있는 뷰파인더 오버레이로, 사용자의 주의를 바코드에 집중시킵니다.비주얼 큐의 크기는 실제 스캔 영역의 크기와 같습니다.설정 옵션 보기 파인더 선택 직사각형 (기본값) — 감지된 바코드 주위에 직사각형을 그립니다.레이저 - 감지된 바코드 위에 수평 “레이저” 선을 겹쳐 표시합니다.직사각형 뷰파인더 너비 화면 너비 백분율로 지정된 직사각형 뷰파인더의 너비를 설정합니다.뷰파인더 선택이 직사각형으로 설정된 경우에만 활성화됩니다.사용 가능한 값은 0% ~ 100% 입니다.기본값은 90% 입니다.직사각형 뷰파인더 높이 화면 높이 백분율로 지정된 직사각형 뷰파인더의 높이를 설정합니다.뷰파인더 선택이 직사각형으로 설정된 경우에만 활성화됩니다.사용 가능한 값은 0% ~ 100% 입니다.기본값은 40% 입니다.']\n",
      "{'source': 'all_processed_data_ko.json', 'seq_num': 11, 'title': '스캔 엔진 설정 구성', 'url': 'https://docs.samsungknox.com/admin/knox-capture/how-to-guides/configure-scan-engine-settings', 'project': 'KCAP', 'last_updated': '2023-10-16'}\n",
      "--------------------------------------------------\n",
      "CPU times: user 9.25 ms, sys: 99 µs, total: 9.35 ms\n",
      "Wall time: 116 ms\n"
     ]
    }
   ],
   "source": [
    "%%time\n",
    "\n",
    "\n",
    "filter01 = \"[]\"\n",
    "filter02 = \"[]\"\n",
    "\n",
    "# query = \"how to add image\"\n",
    "query = \"이미지 추가 하는 방법\"\n",
    "\n",
    "search_hybrid_result = search_hybrid(\n",
    "    query=query,\n",
    "    vector_db= eval_vector_db,\n",
    "    k=3,\n",
    "    index_name= eval_index_name,\n",
    "    os_client=os_client,\n",
    "    filter=[\n",
    "        {\"term\": {\"metadata.type\": filter01}},\n",
    "        {\"term\": {\"metadata.source\": filter02}},\n",
    "    ],\n",
    "    Semantic_Search = False,    \n",
    "    Lexical_Search = False,    \n",
    "    Hybrid_Search = True,     \n",
    "    minimum_should_match = 75,   \n",
    "    fusion_algorithm=\"RRF\", # [\"RRF\", \"simple_weighted\"]\n",
    "    ensemble_weights=[.5, .5], # 시멘트 서치에 가중치 0.5 , 키워드 서치 가중치 0.5 부여.\n",
    "    verbose=True\n",
    ")\n",
    "\n"
   ]
  },
  {
   "cell_type": "markdown",
   "metadata": {
    "tags": []
   },
   "source": [
    "# A. Reference"
   ]
  },
  {
   "cell_type": "markdown",
   "metadata": {},
   "source": [
    "- [Building a RAG AI with OpenSearch Serverless and LangChain](https://caylent.com/blog/building-a-rag-with-open-search-serverless-and-lang-chain)"
   ]
  },
  {
   "cell_type": "code",
   "execution_count": null,
   "metadata": {},
   "outputs": [],
   "source": []
  }
 ],
 "metadata": {
  "availableInstances": [
   {
    "_defaultOrder": 0,
    "_isFastLaunch": true,
    "category": "General purpose",
    "gpuNum": 0,
    "hideHardwareSpecs": false,
    "memoryGiB": 4,
    "name": "ml.t3.medium",
    "vcpuNum": 2
   },
   {
    "_defaultOrder": 1,
    "_isFastLaunch": false,
    "category": "General purpose",
    "gpuNum": 0,
    "hideHardwareSpecs": false,
    "memoryGiB": 8,
    "name": "ml.t3.large",
    "vcpuNum": 2
   },
   {
    "_defaultOrder": 2,
    "_isFastLaunch": false,
    "category": "General purpose",
    "gpuNum": 0,
    "hideHardwareSpecs": false,
    "memoryGiB": 16,
    "name": "ml.t3.xlarge",
    "vcpuNum": 4
   },
   {
    "_defaultOrder": 3,
    "_isFastLaunch": false,
    "category": "General purpose",
    "gpuNum": 0,
    "hideHardwareSpecs": false,
    "memoryGiB": 32,
    "name": "ml.t3.2xlarge",
    "vcpuNum": 8
   },
   {
    "_defaultOrder": 4,
    "_isFastLaunch": true,
    "category": "General purpose",
    "gpuNum": 0,
    "hideHardwareSpecs": false,
    "memoryGiB": 8,
    "name": "ml.m5.large",
    "vcpuNum": 2
   },
   {
    "_defaultOrder": 5,
    "_isFastLaunch": false,
    "category": "General purpose",
    "gpuNum": 0,
    "hideHardwareSpecs": false,
    "memoryGiB": 16,
    "name": "ml.m5.xlarge",
    "vcpuNum": 4
   },
   {
    "_defaultOrder": 6,
    "_isFastLaunch": false,
    "category": "General purpose",
    "gpuNum": 0,
    "hideHardwareSpecs": false,
    "memoryGiB": 32,
    "name": "ml.m5.2xlarge",
    "vcpuNum": 8
   },
   {
    "_defaultOrder": 7,
    "_isFastLaunch": false,
    "category": "General purpose",
    "gpuNum": 0,
    "hideHardwareSpecs": false,
    "memoryGiB": 64,
    "name": "ml.m5.4xlarge",
    "vcpuNum": 16
   },
   {
    "_defaultOrder": 8,
    "_isFastLaunch": false,
    "category": "General purpose",
    "gpuNum": 0,
    "hideHardwareSpecs": false,
    "memoryGiB": 128,
    "name": "ml.m5.8xlarge",
    "vcpuNum": 32
   },
   {
    "_defaultOrder": 9,
    "_isFastLaunch": false,
    "category": "General purpose",
    "gpuNum": 0,
    "hideHardwareSpecs": false,
    "memoryGiB": 192,
    "name": "ml.m5.12xlarge",
    "vcpuNum": 48
   },
   {
    "_defaultOrder": 10,
    "_isFastLaunch": false,
    "category": "General purpose",
    "gpuNum": 0,
    "hideHardwareSpecs": false,
    "memoryGiB": 256,
    "name": "ml.m5.16xlarge",
    "vcpuNum": 64
   },
   {
    "_defaultOrder": 11,
    "_isFastLaunch": false,
    "category": "General purpose",
    "gpuNum": 0,
    "hideHardwareSpecs": false,
    "memoryGiB": 384,
    "name": "ml.m5.24xlarge",
    "vcpuNum": 96
   },
   {
    "_defaultOrder": 12,
    "_isFastLaunch": false,
    "category": "General purpose",
    "gpuNum": 0,
    "hideHardwareSpecs": false,
    "memoryGiB": 8,
    "name": "ml.m5d.large",
    "vcpuNum": 2
   },
   {
    "_defaultOrder": 13,
    "_isFastLaunch": false,
    "category": "General purpose",
    "gpuNum": 0,
    "hideHardwareSpecs": false,
    "memoryGiB": 16,
    "name": "ml.m5d.xlarge",
    "vcpuNum": 4
   },
   {
    "_defaultOrder": 14,
    "_isFastLaunch": false,
    "category": "General purpose",
    "gpuNum": 0,
    "hideHardwareSpecs": false,
    "memoryGiB": 32,
    "name": "ml.m5d.2xlarge",
    "vcpuNum": 8
   },
   {
    "_defaultOrder": 15,
    "_isFastLaunch": false,
    "category": "General purpose",
    "gpuNum": 0,
    "hideHardwareSpecs": false,
    "memoryGiB": 64,
    "name": "ml.m5d.4xlarge",
    "vcpuNum": 16
   },
   {
    "_defaultOrder": 16,
    "_isFastLaunch": false,
    "category": "General purpose",
    "gpuNum": 0,
    "hideHardwareSpecs": false,
    "memoryGiB": 128,
    "name": "ml.m5d.8xlarge",
    "vcpuNum": 32
   },
   {
    "_defaultOrder": 17,
    "_isFastLaunch": false,
    "category": "General purpose",
    "gpuNum": 0,
    "hideHardwareSpecs": false,
    "memoryGiB": 192,
    "name": "ml.m5d.12xlarge",
    "vcpuNum": 48
   },
   {
    "_defaultOrder": 18,
    "_isFastLaunch": false,
    "category": "General purpose",
    "gpuNum": 0,
    "hideHardwareSpecs": false,
    "memoryGiB": 256,
    "name": "ml.m5d.16xlarge",
    "vcpuNum": 64
   },
   {
    "_defaultOrder": 19,
    "_isFastLaunch": false,
    "category": "General purpose",
    "gpuNum": 0,
    "hideHardwareSpecs": false,
    "memoryGiB": 384,
    "name": "ml.m5d.24xlarge",
    "vcpuNum": 96
   },
   {
    "_defaultOrder": 20,
    "_isFastLaunch": false,
    "category": "General purpose",
    "gpuNum": 0,
    "hideHardwareSpecs": true,
    "memoryGiB": 0,
    "name": "ml.geospatial.interactive",
    "supportedImageNames": [
     "sagemaker-geospatial-v1-0"
    ],
    "vcpuNum": 0
   },
   {
    "_defaultOrder": 21,
    "_isFastLaunch": true,
    "category": "Compute optimized",
    "gpuNum": 0,
    "hideHardwareSpecs": false,
    "memoryGiB": 4,
    "name": "ml.c5.large",
    "vcpuNum": 2
   },
   {
    "_defaultOrder": 22,
    "_isFastLaunch": false,
    "category": "Compute optimized",
    "gpuNum": 0,
    "hideHardwareSpecs": false,
    "memoryGiB": 8,
    "name": "ml.c5.xlarge",
    "vcpuNum": 4
   },
   {
    "_defaultOrder": 23,
    "_isFastLaunch": false,
    "category": "Compute optimized",
    "gpuNum": 0,
    "hideHardwareSpecs": false,
    "memoryGiB": 16,
    "name": "ml.c5.2xlarge",
    "vcpuNum": 8
   },
   {
    "_defaultOrder": 24,
    "_isFastLaunch": false,
    "category": "Compute optimized",
    "gpuNum": 0,
    "hideHardwareSpecs": false,
    "memoryGiB": 32,
    "name": "ml.c5.4xlarge",
    "vcpuNum": 16
   },
   {
    "_defaultOrder": 25,
    "_isFastLaunch": false,
    "category": "Compute optimized",
    "gpuNum": 0,
    "hideHardwareSpecs": false,
    "memoryGiB": 72,
    "name": "ml.c5.9xlarge",
    "vcpuNum": 36
   },
   {
    "_defaultOrder": 26,
    "_isFastLaunch": false,
    "category": "Compute optimized",
    "gpuNum": 0,
    "hideHardwareSpecs": false,
    "memoryGiB": 96,
    "name": "ml.c5.12xlarge",
    "vcpuNum": 48
   },
   {
    "_defaultOrder": 27,
    "_isFastLaunch": false,
    "category": "Compute optimized",
    "gpuNum": 0,
    "hideHardwareSpecs": false,
    "memoryGiB": 144,
    "name": "ml.c5.18xlarge",
    "vcpuNum": 72
   },
   {
    "_defaultOrder": 28,
    "_isFastLaunch": false,
    "category": "Compute optimized",
    "gpuNum": 0,
    "hideHardwareSpecs": false,
    "memoryGiB": 192,
    "name": "ml.c5.24xlarge",
    "vcpuNum": 96
   },
   {
    "_defaultOrder": 29,
    "_isFastLaunch": true,
    "category": "Accelerated computing",
    "gpuNum": 1,
    "hideHardwareSpecs": false,
    "memoryGiB": 16,
    "name": "ml.g4dn.xlarge",
    "vcpuNum": 4
   },
   {
    "_defaultOrder": 30,
    "_isFastLaunch": false,
    "category": "Accelerated computing",
    "gpuNum": 1,
    "hideHardwareSpecs": false,
    "memoryGiB": 32,
    "name": "ml.g4dn.2xlarge",
    "vcpuNum": 8
   },
   {
    "_defaultOrder": 31,
    "_isFastLaunch": false,
    "category": "Accelerated computing",
    "gpuNum": 1,
    "hideHardwareSpecs": false,
    "memoryGiB": 64,
    "name": "ml.g4dn.4xlarge",
    "vcpuNum": 16
   },
   {
    "_defaultOrder": 32,
    "_isFastLaunch": false,
    "category": "Accelerated computing",
    "gpuNum": 1,
    "hideHardwareSpecs": false,
    "memoryGiB": 128,
    "name": "ml.g4dn.8xlarge",
    "vcpuNum": 32
   },
   {
    "_defaultOrder": 33,
    "_isFastLaunch": false,
    "category": "Accelerated computing",
    "gpuNum": 4,
    "hideHardwareSpecs": false,
    "memoryGiB": 192,
    "name": "ml.g4dn.12xlarge",
    "vcpuNum": 48
   },
   {
    "_defaultOrder": 34,
    "_isFastLaunch": false,
    "category": "Accelerated computing",
    "gpuNum": 1,
    "hideHardwareSpecs": false,
    "memoryGiB": 256,
    "name": "ml.g4dn.16xlarge",
    "vcpuNum": 64
   },
   {
    "_defaultOrder": 35,
    "_isFastLaunch": false,
    "category": "Accelerated computing",
    "gpuNum": 1,
    "hideHardwareSpecs": false,
    "memoryGiB": 61,
    "name": "ml.p3.2xlarge",
    "vcpuNum": 8
   },
   {
    "_defaultOrder": 36,
    "_isFastLaunch": false,
    "category": "Accelerated computing",
    "gpuNum": 4,
    "hideHardwareSpecs": false,
    "memoryGiB": 244,
    "name": "ml.p3.8xlarge",
    "vcpuNum": 32
   },
   {
    "_defaultOrder": 37,
    "_isFastLaunch": false,
    "category": "Accelerated computing",
    "gpuNum": 8,
    "hideHardwareSpecs": false,
    "memoryGiB": 488,
    "name": "ml.p3.16xlarge",
    "vcpuNum": 64
   },
   {
    "_defaultOrder": 38,
    "_isFastLaunch": false,
    "category": "Accelerated computing",
    "gpuNum": 8,
    "hideHardwareSpecs": false,
    "memoryGiB": 768,
    "name": "ml.p3dn.24xlarge",
    "vcpuNum": 96
   },
   {
    "_defaultOrder": 39,
    "_isFastLaunch": false,
    "category": "Memory Optimized",
    "gpuNum": 0,
    "hideHardwareSpecs": false,
    "memoryGiB": 16,
    "name": "ml.r5.large",
    "vcpuNum": 2
   },
   {
    "_defaultOrder": 40,
    "_isFastLaunch": false,
    "category": "Memory Optimized",
    "gpuNum": 0,
    "hideHardwareSpecs": false,
    "memoryGiB": 32,
    "name": "ml.r5.xlarge",
    "vcpuNum": 4
   },
   {
    "_defaultOrder": 41,
    "_isFastLaunch": false,
    "category": "Memory Optimized",
    "gpuNum": 0,
    "hideHardwareSpecs": false,
    "memoryGiB": 64,
    "name": "ml.r5.2xlarge",
    "vcpuNum": 8
   },
   {
    "_defaultOrder": 42,
    "_isFastLaunch": false,
    "category": "Memory Optimized",
    "gpuNum": 0,
    "hideHardwareSpecs": false,
    "memoryGiB": 128,
    "name": "ml.r5.4xlarge",
    "vcpuNum": 16
   },
   {
    "_defaultOrder": 43,
    "_isFastLaunch": false,
    "category": "Memory Optimized",
    "gpuNum": 0,
    "hideHardwareSpecs": false,
    "memoryGiB": 256,
    "name": "ml.r5.8xlarge",
    "vcpuNum": 32
   },
   {
    "_defaultOrder": 44,
    "_isFastLaunch": false,
    "category": "Memory Optimized",
    "gpuNum": 0,
    "hideHardwareSpecs": false,
    "memoryGiB": 384,
    "name": "ml.r5.12xlarge",
    "vcpuNum": 48
   },
   {
    "_defaultOrder": 45,
    "_isFastLaunch": false,
    "category": "Memory Optimized",
    "gpuNum": 0,
    "hideHardwareSpecs": false,
    "memoryGiB": 512,
    "name": "ml.r5.16xlarge",
    "vcpuNum": 64
   },
   {
    "_defaultOrder": 46,
    "_isFastLaunch": false,
    "category": "Memory Optimized",
    "gpuNum": 0,
    "hideHardwareSpecs": false,
    "memoryGiB": 768,
    "name": "ml.r5.24xlarge",
    "vcpuNum": 96
   },
   {
    "_defaultOrder": 47,
    "_isFastLaunch": false,
    "category": "Accelerated computing",
    "gpuNum": 1,
    "hideHardwareSpecs": false,
    "memoryGiB": 16,
    "name": "ml.g5.xlarge",
    "vcpuNum": 4
   },
   {
    "_defaultOrder": 48,
    "_isFastLaunch": false,
    "category": "Accelerated computing",
    "gpuNum": 1,
    "hideHardwareSpecs": false,
    "memoryGiB": 32,
    "name": "ml.g5.2xlarge",
    "vcpuNum": 8
   },
   {
    "_defaultOrder": 49,
    "_isFastLaunch": false,
    "category": "Accelerated computing",
    "gpuNum": 1,
    "hideHardwareSpecs": false,
    "memoryGiB": 64,
    "name": "ml.g5.4xlarge",
    "vcpuNum": 16
   },
   {
    "_defaultOrder": 50,
    "_isFastLaunch": false,
    "category": "Accelerated computing",
    "gpuNum": 1,
    "hideHardwareSpecs": false,
    "memoryGiB": 128,
    "name": "ml.g5.8xlarge",
    "vcpuNum": 32
   },
   {
    "_defaultOrder": 51,
    "_isFastLaunch": false,
    "category": "Accelerated computing",
    "gpuNum": 1,
    "hideHardwareSpecs": false,
    "memoryGiB": 256,
    "name": "ml.g5.16xlarge",
    "vcpuNum": 64
   },
   {
    "_defaultOrder": 52,
    "_isFastLaunch": false,
    "category": "Accelerated computing",
    "gpuNum": 4,
    "hideHardwareSpecs": false,
    "memoryGiB": 192,
    "name": "ml.g5.12xlarge",
    "vcpuNum": 48
   },
   {
    "_defaultOrder": 53,
    "_isFastLaunch": false,
    "category": "Accelerated computing",
    "gpuNum": 4,
    "hideHardwareSpecs": false,
    "memoryGiB": 384,
    "name": "ml.g5.24xlarge",
    "vcpuNum": 96
   },
   {
    "_defaultOrder": 54,
    "_isFastLaunch": false,
    "category": "Accelerated computing",
    "gpuNum": 8,
    "hideHardwareSpecs": false,
    "memoryGiB": 768,
    "name": "ml.g5.48xlarge",
    "vcpuNum": 192
   },
   {
    "_defaultOrder": 55,
    "_isFastLaunch": false,
    "category": "Accelerated computing",
    "gpuNum": 8,
    "hideHardwareSpecs": false,
    "memoryGiB": 1152,
    "name": "ml.p4d.24xlarge",
    "vcpuNum": 96
   },
   {
    "_defaultOrder": 56,
    "_isFastLaunch": false,
    "category": "Accelerated computing",
    "gpuNum": 8,
    "hideHardwareSpecs": false,
    "memoryGiB": 1152,
    "name": "ml.p4de.24xlarge",
    "vcpuNum": 96
   }
  ],
  "instance_type": "ml.m5.xlarge",
  "kernelspec": {
   "display_name": "Python 3 (Data Science 3.0)",
   "language": "python",
   "name": "python3__SAGEMAKER_INTERNAL__arn:aws:sagemaker:us-east-1:081325390199:image/sagemaker-data-science-310-v1"
  },
  "language_info": {
   "codemirror_mode": {
    "name": "ipython",
    "version": 3
   },
   "file_extension": ".py",
   "mimetype": "text/x-python",
   "name": "python",
   "nbconvert_exporter": "python",
   "pygments_lexer": "ipython3",
   "version": "3.10.6"
  }
 },
 "nbformat": 4,
 "nbformat_minor": 4
}
