{
 "cells": [
  {
   "cell_type": "markdown",
   "id": "02129bd0-af47-4fd6-91af-81613fc40511",
   "metadata": {},
   "source": [
    "# Preprocessing for complex PDF"
   ]
  },
  {
   "cell_type": "markdown",
   "id": "9334e485-ef50-4ba1-b86e-b6a80c2ee676",
   "metadata": {},
   "source": [
    "## Setting\n",
    " - Auto Reload\n",
    " - path for utils"
   ]
  },
  {
   "cell_type": "code",
   "execution_count": null,
   "id": "fefce95b-b2aa-4524-92bc-28b12699ec84",
   "metadata": {
    "tags": []
   },
   "outputs": [],
   "source": [
    "%load_ext autoreload\n",
    "%autoreload 2"
   ]
  },
  {
   "cell_type": "code",
   "execution_count": null,
   "id": "802b9aa2-a15a-46f5-925d-0f89afb2a611",
   "metadata": {
    "tags": []
   },
   "outputs": [],
   "source": [
    "import sys, os\n",
    "\n",
    "def add_python_path(module_path):\n",
    "    if os.path.abspath(module_path) not in sys.path:\n",
    "        sys.path.append(os.path.abspath(module_path))\n",
    "        print(f\"python path: {os.path.abspath(module_path)} is added\")\n",
    "    else:\n",
    "        print(f\"python path: {os.path.abspath(module_path)} already exists\")\n",
    "    print(\"sys.path: \", sys.path)\n",
    "\n",
    "module_path = \"../../..\"\n",
    "add_python_path(module_path)"
   ]
  },
  {
   "cell_type": "markdown",
   "id": "9508a21d-0d22-4adc-b928-e6c0bccaa9a6",
   "metadata": {},
   "source": [
    "## 1. Create Bedrock client\n",
    "Amazon Bedrock을 API로 활용하기 위한 Client를 설정합니다. "
   ]
  },
  {
   "cell_type": "code",
   "execution_count": null,
   "id": "1da8e4df-ef07-4cb0-b76b-cc327073425c",
   "metadata": {
    "tags": []
   },
   "outputs": [],
   "source": [
    "import json\n",
    "import boto3\n",
    "from pprint import pprint\n",
    "from termcolor import colored\n",
    "from utils import bedrock, print_ww\n",
    "from utils.bedrock import bedrock_info"
   ]
  },
  {
   "cell_type": "markdown",
   "id": "4d5f222a-2cdc-490e-b1e4-43429414dcd9",
   "metadata": {},
   "source": [
    "### ---- ⚠️ Un-comment and edit the below lines as needed for your AWS setup ⚠️ ----\n",
    "- os.environ[\"AWS_DEFAULT_REGION\"] = \"<REGION_NAME>\"  # E.g. \"us-east-1\"\n",
    "- os.environ[\"AWS_PROFILE\"] = \"<YOUR_PROFILE>\"\n",
    "- os.environ[\"BEDROCK_ASSUME_ROLE\"] = \"<YOUR_ROLE_ARN>\"  # E.g. \"arn:aws:...\"\n",
    "- os.environ[\"BEDROCK_ENDPOINT_URL\"] = \"<YOUR_ENDPOINT_URL>\"  # E.g. \"https://...\""
   ]
  },
  {
   "cell_type": "code",
   "execution_count": null,
   "id": "b10630ae-e48d-4ae3-ae4d-187d5bd232f4",
   "metadata": {
    "tags": []
   },
   "outputs": [],
   "source": [
    "boto3_bedrock = bedrock.get_bedrock_client(\n",
    "    assumed_role=os.environ.get(\"BEDROCK_ASSUME_ROLE\", None),\n",
    "    endpoint_url=os.environ.get(\"BEDROCK_ENDPOINT_URL\", None),\n",
    "    region=os.environ.get(\"AWS_DEFAULT_REGION\", None),\n",
    ")\n",
    "\n",
    "print (colored(\"\\n== FM lists ==\", \"green\"))\n",
    "pprint (bedrock_info.get_list_fm_models(verbose=False))"
   ]
  },
  {
   "cell_type": "markdown",
   "id": "c4ecb09e-2662-4cee-8c4b-c4ac9228fe3d",
   "metadata": {},
   "source": [
    "## 2. Titan Embedding v2 및 LLM 인 Claude-v3-sonnet 모델 로딩"
   ]
  },
  {
   "cell_type": "markdown",
   "id": "9f351fdc-ed28-4b00-9150-e755e51932f7",
   "metadata": {
    "tags": []
   },
   "source": [
    "### LLM 로딩 (Claude-v3-sonnet)"
   ]
  },
  {
   "cell_type": "code",
   "execution_count": null,
   "id": "decf2bc3-a873-4bd6-838b-6ce4cb9fe879",
   "metadata": {
    "tags": []
   },
   "outputs": [],
   "source": [
    "from langchain_aws import ChatBedrock\n",
    "from langchain.callbacks.streaming_stdout import StreamingStdOutCallbackHandler"
   ]
  },
  {
   "cell_type": "code",
   "execution_count": null,
   "id": "1585f9ee-4de7-4a16-b219-f3bde8d84b79",
   "metadata": {
    "tags": []
   },
   "outputs": [],
   "source": [
    "llm_text = ChatBedrock(\n",
    "    model_id=bedrock_info.get_model_id(model_name=\"Claude-V3-Sonnet\"),\n",
    "    client=boto3_bedrock,\n",
    "    streaming=True,\n",
    "    callbacks=[StreamingStdOutCallbackHandler()],\n",
    "    model_kwargs={\n",
    "        \"max_tokens\": 2048,\n",
    "        \"stop_sequences\": [\"\\n\\nHuman\"],\n",
    "        # \"temperature\": 0,\n",
    "        # \"top_k\": 350,\n",
    "        # \"top_p\": 0.999\n",
    "    }\n",
    ")\n",
    "llm_text"
   ]
  },
  {
   "cell_type": "markdown",
   "id": "0ba6e5b8-f40f-4bc8-a823-53a280ecea66",
   "metadata": {
    "tags": []
   },
   "source": [
    "### Embedding 모델 선택"
   ]
  },
  {
   "cell_type": "code",
   "execution_count": null,
   "id": "6cad9168-72e3-4906-8abe-f5a23638cfde",
   "metadata": {
    "tags": []
   },
   "outputs": [],
   "source": [
    "from langchain.embeddings import BedrockEmbeddings"
   ]
  },
  {
   "cell_type": "code",
   "execution_count": null,
   "id": "069404eb-4daf-4ff9-aadd-0ef694df22d2",
   "metadata": {
    "tags": []
   },
   "outputs": [],
   "source": [
    "llm_emb = BedrockEmbeddings(\n",
    "    client=boto3_bedrock,\n",
    "    model_id=bedrock_info.get_model_id(model_name=\"Titan-Text-Embeddings-V2\")\n",
    ")\n",
    "dimension = 1024 #1536\n",
    "print(\"Bedrock Embeddings Model Loaded\")"
   ]
  },
  {
   "cell_type": "markdown",
   "id": "de224b4a-05ae-4f40-82a4-1109b33ff452",
   "metadata": {},
   "source": [
    "## 3. 데이터 준비 \n",
    "- https://python.langchain.com/docs/integrations/document_loaders/unstructured_file\n",
    "- cleansing: https://unstructured-io.github.io/unstructured/core/cleaning.html"
   ]
  },
  {
   "cell_type": "markdown",
   "id": "91c35df1-4183-4285-bfa7-17bff9fe9169",
   "metadata": {},
   "source": [
    "### Extract Text, Table and Image from documents"
   ]
  },
  {
   "cell_type": "markdown",
   "id": "96566e8f-d364-4954-904a-8a6e6b9b6898",
   "metadata": {
    "tags": []
   },
   "source": [
    "### 3.1 Unstructured.io\n",
    "Unstructured.io를 이용하여 Document로 부터 Text, Table, 그리고 Image를 추출합니다. "
   ]
  },
  {
   "cell_type": "code",
   "execution_count": null,
   "id": "01fd7d69-23ea-4300-9eea-aa62e2eafd36",
   "metadata": {
    "tags": []
   },
   "outputs": [],
   "source": [
    "import shutil\n",
    "from glob import glob\n",
    "from utils.common_utils import to_pickle, load_pickle\n",
    "from unstructured.cleaners.core import clean_bullets, clean_extra_whitespace\n",
    "from langchain_community.document_loaders import UnstructuredFileLoader, UnstructuredAPIFileLoader"
   ]
  },
  {
   "cell_type": "markdown",
   "id": "63ff2661-6363-4f4a-ae53-31061994bbcf",
   "metadata": {
    "tags": []
   },
   "source": [
    "#### Parameters\n",
    "----------\n",
    "- filename\n",
    "    - A string defining the target filename path.\n",
    "- content_type\n",
    "    - A string defining the file content in MIME type\n",
    "- file\n",
    "    - A file-like object using \"rb\" mode --> open(filename, \"rb\").\n",
    "- metadata_filename\n",
    "    - When file is not None, the filename (string) to store in element metadata. E.g. \"foo.txt\"\n",
    "- url\n",
    "    - The url for a remote document. Pass in content_type if you want partition to treat the document as a specific content_type.\n",
    "- include_page_breaks\n",
    "    - If True, the output will include page breaks if the filetype supports it\n",
    "- strategy\n",
    "    - The strategy to use for partitioning PDF/image. Uses a layout detection model if set to 'hi_res', otherwise partition simply extracts the text from the document and processes it.\n",
    "- encoding\n",
    "    - The encoding method used to decode the text input. If None, utf-8 will be used.\n",
    "- headers\n",
    "    - The headers to be used in conjunction with the HTTP request if URL is set.\n",
    "- skip_infer_table_types\n",
    "    - The document types that you want to skip table extraction with.\n",
    "- ssl_verify\n",
    "    - If the URL parameter is set, determines whether or not partition uses SSL verification in the HTTP request.\n",
    "- languages\n",
    "    - The languages present in the document, for use in partitioning and/or OCR. For partitioning <BR>\n",
    "    image or pdf documents with Tesseract, you'll first need to install the appropriate <BR>\n",
    "    Tesseract language pack. For other partitions, language is detected using naive Bayesian <BR>\n",
    "    filter via `langdetect`. Multiple languages indicates text could be in either language. <BR>\n",
    "    Additional Parameters: <BR>\n",
    "        - detect_language_per_element <BR>\n",
    "            - Detect language per element instead of at the document level.\n",
    "    \n",
    "- pdf_infer_table_structure\n",
    "    - If True and strategy=hi_res, any Table Elements extracted from a PDF will include an\n",
    "    additional metadata field, \"text_as_html,\" where the value (string) is a just a\n",
    "    transformation of the data into an HTML <table>.\n",
    "    The \"text\" field for a partitioned Table Element is always present, whether True or False.\n",
    "- extract_images_in_pdf\n",
    "    - Only applicable if `strategy=hi_res`.\n",
    "    If True, any detected images will be saved in the path specified by\n",
    "    'extract_image_block_output_dir' or stored as base64 encoded data within metadata fields.\n",
    "    Deprecation Note: This parameter is marked for deprecation. Future versions will use\n",
    "    'extract_image_block_types' for broader extraction capabilities.\n",
    "- extract_image_block_types\n",
    "    - Only applicable if `strategy=hi_res`.\n",
    "    Images of the element type(s) specified in this list (e.g., [\"Image\", \"Table\"]) will be\n",
    "    saved in the path specified by 'extract_image_block_output_dir' or stored as base64\n",
    "    encoded data within metadata fields.\n",
    "- extract_image_block_to_payload\n",
    "    - Only applicable if `strategy=hi_res`.\n",
    "    If True, images of the element type(s) defined in 'extract_image_block_types' will be\n",
    "    encoded as base64 data and stored in two metadata fields: 'image_base64' and\n",
    "    'image_mime_type'.\n",
    "    This parameter facilitates the inclusion of element data directly within the payload,\n",
    "    especially for web-based applications or APIs.\n",
    "- extract_image_block_output_dir\n",
    "    - Only applicable if `strategy=hi_res` and `extract_image_block_to_payload=False`.\n",
    "    The filesystem path for saving images of the element type(s)\n",
    "    specified in 'extract_image_block_types'.\n",
    "- xml_keep_tags\n",
    "    - If True, will retain the XML tags in the output. Otherwise it will simply extract\n",
    "    the text from within the tags. Only applies to partition_xml.\n",
    "- request_timeout\n",
    "    - The timeout for the HTTP request if URL is set. Defaults to None meaning no timeout and\n",
    "    requests will block indefinitely.\n",
    "- hi_res_model_name\n",
    "    - The layout detection model used when partitioning strategy is set to `hi_res`.\n",
    "    - https://unstructured-io.github.io/unstructured/best_practices/models.html\n",
    "- model_name\n",
    "    - The layout detection model used when partitioning strategy is set to `hi_res`. To be\n",
    "    deprecated in favor of `hi_res_model_name`."
   ]
  },
  {
   "cell_type": "markdown",
   "id": "aa5963db-35f0-458e-b905-c6a3b0a17bf1",
   "metadata": {
    "tags": []
   },
   "source": [
    "**추출할 문서의 위치를 입력합니다.**"
   ]
  },
  {
   "cell_type": "code",
   "execution_count": null,
   "id": "2a906645-1b52-45c1-98ea-32b4a415d7a3",
   "metadata": {
    "tags": []
   },
   "outputs": [],
   "source": [
    "file_path = \"./data/complex_pdf/school_edu_guide.pdf\""
   ]
  },
  {
   "cell_type": "markdown",
   "id": "c98b2992-37a5-40a5-a6c7-b80acfc05d05",
   "metadata": {
    "tags": []
   },
   "source": [
    "**추출된 이미지가 저장될 위치를 입력합니다.**"
   ]
  },
  {
   "cell_type": "code",
   "execution_count": null,
   "id": "9e17f8f1-3d94-442d-8cc2-80a1e055c253",
   "metadata": {
    "tags": []
   },
   "outputs": [],
   "source": [
    "image_path = \"./fig\""
   ]
  },
  {
   "cell_type": "code",
   "execution_count": null,
   "id": "7ab8820a-1906-41c3-a457-1bafe59eac49",
   "metadata": {
    "tags": []
   },
   "outputs": [],
   "source": [
    "if os.path.isdir(image_path): shutil.rmtree(image_path)\n",
    "os.mkdir(image_path)\n",
    "\n",
    "loader = UnstructuredFileLoader(\n",
    "    file_path=file_path,\n",
    "\n",
    "    chunking_strategy = \"by_title\",\n",
    "    mode=\"elements\",\n",
    "\n",
    "    strategy=\"hi_res\",\n",
    "    hi_res_model_name=\"yolox\", #\"detectron2_onnx\", \"yolox\", \"yolox_quantized\"\n",
    "\n",
    "    extract_images_in_pdf=True,\n",
    "    #skip_infer_table_types='[]', # ['pdf', 'jpg', 'png', 'xls', 'xlsx', 'heic']\n",
    "    pdf_infer_table_structure=True, ## enable to get table as html using tabletrasformer\n",
    "\n",
    "    extract_image_block_output_dir=image_path,\n",
    "    extract_image_block_to_payload=False, ## False: to save image\n",
    "\n",
    "    max_characters=4096,\n",
    "    new_after_n_chars=4000,\n",
    "    combine_text_under_n_chars=2000,\n",
    "\n",
    "    languages= [\"kor+eng\"],\n",
    "\n",
    "    post_processors=[clean_bullets, clean_extra_whitespace]\n",
    ")"
   ]
  },
  {
   "cell_type": "markdown",
   "id": "89fd1a51-1ff2-45fa-9325-f1614c31afea",
   "metadata": {},
   "source": [
    "**문서 파싱을 시작합니다 (약 10분 소요)**"
   ]
  },
  {
   "cell_type": "code",
   "execution_count": null,
   "id": "f320a808-c49a-47d3-bb45-4e96ae690606",
   "metadata": {
    "tags": []
   },
   "outputs": [],
   "source": [
    "%%time\n",
    "docs = loader.load()"
   ]
  },
  {
   "cell_type": "code",
   "execution_count": null,
   "id": "0420bbc6-f8f7-422b-989f-d583559f38a5",
   "metadata": {
    "tags": []
   },
   "outputs": [],
   "source": [
    "tables, texts = [], []\n",
    "images = glob(os.path.join(image_path, \"*\"))"
   ]
  },
  {
   "cell_type": "code",
   "execution_count": null,
   "id": "e3ae854b-f608-4c7e-8539-296541f1ea68",
   "metadata": {
    "tags": []
   },
   "outputs": [],
   "source": [
    "tables, texts = [], []\n",
    "\n",
    "for doc in docs:\n",
    "\n",
    "    category = doc.metadata[\"category\"]\n",
    "\n",
    "    if category == \"Table\": tables.append(doc)\n",
    "    elif category == \"Image\": images.append(doc)\n",
    "    else: texts.append(doc)\n",
    "    \n",
    "    images = glob(os.path.join(image_path, \"*\"))\n",
    "\n",
    "print (f' # texts: {len(texts)} \\n # tables: {len(tables)} \\n # images: {len(images)}')"
   ]
  },
  {
   "cell_type": "markdown",
   "id": "68630d97-5895-4db2-9c7f-6f2a2c304df0",
   "metadata": {},
   "source": [
    "### 3.2 (Optional) [LlamaParse](https://docs.llamaindex.ai/en/stable/module_guides/loading/connector/llama_parse/) (table parsing)\n",
    "- LlamaParse를 이용하여, 테이블을 파싱합니다. 해당 작업은 **optional**로써 Unstructured.io의 파싱 결과를 보완할 수 있으며, **defalut setting**은 **False** 입니다. \n",
    "- LlamaParse 사용을 위해서는 **API Key가 필요**합니다."
   ]
  },
  {
   "cell_type": "code",
   "execution_count": null,
   "id": "6104be71-fbf5-432c-9377-502e074ed0e3",
   "metadata": {
    "tags": []
   },
   "outputs": [],
   "source": [
    "table_by_llama_parse = False"
   ]
  },
  {
   "cell_type": "code",
   "execution_count": null,
   "id": "c4e5dc93-bb19-4052-ab6b-25eb4fe99d9a",
   "metadata": {
    "tags": []
   },
   "outputs": [],
   "source": [
    "import nest_asyncio\n",
    "from dotenv import load_dotenv\n",
    "from llama_parse import LlamaParse\n",
    "from utils.common_utils import to_markdown\n",
    "from langchain_community.document_loaders import UnstructuredMarkdownLoader"
   ]
  },
  {
   "cell_type": "code",
   "execution_count": null,
   "id": "286a43fe-2a9b-448e-a687-2c5c26e49e14",
   "metadata": {
    "tags": []
   },
   "outputs": [],
   "source": [
    "def api_key():\n",
    "    os.environ[\"LLAMA_CLOUD_API_KEY\"] = \"<your key>\"\n",
    "    nest_asyncio.apply()\n",
    "    load_dotenv()"
   ]
  },
  {
   "cell_type": "code",
   "execution_count": null,
   "id": "6fb3fc2a-7a59-4c02-81dc-be1c0b1ea12f",
   "metadata": {
    "tags": []
   },
   "outputs": [],
   "source": [
    "if table_by_llama_parse:\n",
    "    api_key()\n",
    "    llamaparse_res = LlamaParse(result_type=\"markdown\").load_data(file_path)\n",
    "    \n",
    "    ## Save results as markdown and pickle format\n",
    "    markdown_path = \"./data/complex_pdf/pickle/parsed_llamaparse.md\"\n",
    "    to_pickle(llamaparse_res, \"./data/complex_pdf/pickle/parsed_llamaparse.pkl\")\n",
    "    to_markdown(llamaparse_res[0].get_content('text'), markdown_path)\n",
    "    \n",
    "    ## Load markdown file into Document loader\n",
    "    loader = UnstructuredMarkdownLoader(\n",
    "        file_path=markdown_path,\n",
    "        mode=\"elements\",\n",
    "        chunking_strategy=\"by_title\",\n",
    "        #strategy=\"hi_res\",\n",
    "        max_characters=4096,\n",
    "        new_after_n_chars=4000,\n",
    "        combine_text_under_n_chars=2000,\n",
    "    )\n",
    "    docs_llamaparse = loader.load()\n",
    "    docs_table_llamaparse = [doc for doc in docs_llamaparse if doc.metadata[\"category\"] == \"Table\"]"
   ]
  },
  {
   "cell_type": "markdown",
   "id": "b214d8f2-fc91-4cbb-8dc7-1c2d2b945969",
   "metadata": {},
   "source": [
    "#### Show as markdown"
   ]
  },
  {
   "cell_type": "code",
   "execution_count": null,
   "id": "dd22b988-8cce-4815-ba58-b6ab40ab78e9",
   "metadata": {
    "tags": []
   },
   "outputs": [],
   "source": [
    "from IPython.display import Markdown, display"
   ]
  },
  {
   "cell_type": "code",
   "execution_count": null,
   "id": "2c145e4f-5ccb-4f12-9e5d-becbfc1a1ce7",
   "metadata": {
    "tags": []
   },
   "outputs": [],
   "source": [
    "if table_by_llama_parse:\n",
    "    display(Markdown(markdown_path))"
   ]
  },
  {
   "cell_type": "markdown",
   "id": "dfdf02a0-12f6-43d4-b2f8-b49e72f7ef8e",
   "metadata": {},
   "source": [
    "### 3.3 (Optional) [pyMuPDF](https://pymupdf.readthedocs.io/en/latest/) (table parsing)\n",
    "- PyMuPDF 이용하여, 테이블을 파싱합니다. 해당 작업은 **optional**로써 Unstructured.io의 파싱 결과를 보완할 수 있으며, **defalut setting**은 **False** 입니다. "
   ]
  },
  {
   "cell_type": "code",
   "execution_count": null,
   "id": "b772af44-636f-4e9b-9dc4-02cb3fbd1d53",
   "metadata": {
    "tags": []
   },
   "outputs": [],
   "source": [
    "table_by_pymupdf = False"
   ]
  },
  {
   "cell_type": "code",
   "execution_count": null,
   "id": "8956ee17-8b96-4587-8781-ef99c88ce17d",
   "metadata": {
    "tags": []
   },
   "outputs": [],
   "source": [
    "import fitz\n",
    "from utils.pymupdf import to_markdown_pymupdf"
   ]
  },
  {
   "cell_type": "code",
   "execution_count": null,
   "id": "483468ce-6619-4c97-8515-6d0475a91fec",
   "metadata": {
    "tags": []
   },
   "outputs": [],
   "source": [
    "if table_by_pymupdf:\n",
    "    pymupdf_res = fitz.open(file_path)\n",
    "    md_text = to_markdown_pymupdf(pymupdf_res) # get markdown string for all pages\n",
    "    markdown_path = \"./data/complex_pdf/pickle/parsed_pymupdf.md\"\n",
    "    to_markdown(md_text, markdown_path)\n",
    "\n",
    "    ## Load markdown file into Document loader\n",
    "    loader = UnstructuredMarkdownLoader(\n",
    "        file_path=markdown_path,\n",
    "        mode=\"elements\",\n",
    "        chunking_strategy=\"by_title\",\n",
    "        #strategy=\"hi_res\",\n",
    "        max_characters=4096,\n",
    "        new_after_n_chars=4000,\n",
    "        combine_text_under_n_chars=2000,\n",
    "    )\n",
    "    docs_pymupdf = loader.load()\n",
    "    docs_table_pymupdf = [doc for doc in docs_pymupdf if doc.metadata[\"category\"] == \"Table\"]"
   ]
  },
  {
   "cell_type": "code",
   "execution_count": null,
   "id": "c06683bb-a62c-48f2-92d3-120b72dce7cd",
   "metadata": {
    "tags": []
   },
   "outputs": [],
   "source": [
    "if table_by_pymupdf:\n",
    "    display(Markdown(markdown_path))"
   ]
  },
  {
   "cell_type": "markdown",
   "id": "591669b6-4356-4e53-8fd7-db6ae33da84f",
   "metadata": {},
   "source": [
    "### 3.4 Table as image\n",
    "- Multi-modal LLM을 이용하여, 문서 내 Table을 \"이미지\" 형태로 직접 활용합니다. \n",
    "- 문서 내 Table 파싱과정에서 발생하는 오류를 보완할 수 있습니다. \n",
    "- **default setting**은 **True**이며, LLM은 **Claude 3 모델**을 **활용**해야 합니다. "
   ]
  },
  {
   "cell_type": "code",
   "execution_count": null,
   "id": "d8edcfbf-118c-437e-be3e-a852b908000c",
   "metadata": {
    "tags": []
   },
   "outputs": [],
   "source": [
    "table_as_image = True"
   ]
  },
  {
   "cell_type": "code",
   "execution_count": null,
   "id": "eb544cf7-0def-4a87-b79c-3a8c64f79ee0",
   "metadata": {
    "tags": []
   },
   "outputs": [],
   "source": [
    "import cv2\n",
    "import math\n",
    "import base64\n",
    "import numpy as np\n",
    "from pdf2image import convert_from_path"
   ]
  },
  {
   "cell_type": "code",
   "execution_count": null,
   "id": "63506c02-2510-4c1c-9a6b-4340082b2494",
   "metadata": {
    "tags": []
   },
   "outputs": [],
   "source": [
    "def image_to_base64(image_path):\n",
    "    \n",
    "    with open(image_path, \"rb\") as image_file:\n",
    "        encoded_string = base64.b64encode(image_file.read())\n",
    "        \n",
    "    return encoded_string.decode('utf-8')"
   ]
  },
  {
   "cell_type": "markdown",
   "id": "3debfad8-f53f-4dce-a269-03c134c6d4f6",
   "metadata": {},
   "source": [
    "### Extract and resize (sclae down) images \n",
    "- **Image 데이터를 LLM의 입력으로 활용 시, 이미지의 크기만큼 과금됩니다. 이 과정은 이미지 크기를 줄임으로서, 비용을 절감할 수 있습니다.**\n",
    "- [reference](https://daewoonginfo.blogspot.com/2019/05/opencv-python-resize.html)\n",
    "- [image token]: Claude 3 uses this formula tokens = (width px * height px)/750  to calculate # of input tokens associated with Images (for their Visual capabilities). Images bigger than ~1600 tokens would be scaled down"
   ]
  },
  {
   "cell_type": "code",
   "execution_count": null,
   "id": "c506da2e-ed7b-47fd-981c-66725d93e9f6",
   "metadata": {
    "tags": []
   },
   "outputs": [],
   "source": [
    "if table_as_image:\n",
    "    image_tmp_path = os.path.join(image_path, \"tmp\")\n",
    "    if os.path.isdir(image_tmp_path): shutil.rmtree(image_tmp_path)\n",
    "    os.mkdir(image_tmp_path)\n",
    "    \n",
    "    # from pdf to image\n",
    "    pages = convert_from_path(file_path)\n",
    "    for i, page in enumerate(pages):\n",
    "        print (f'pdf page {i}, size: {page.size}')    \n",
    "        page.save(f'{image_tmp_path}/{str(i+1)}.jpg', \"JPEG\")\n",
    "\n",
    "    print (\"==\")\n",
    "\n",
    "    #table_images = []\n",
    "    for idx, table in enumerate(tables):\n",
    "        points = table.metadata[\"coordinates\"][\"points\"]\n",
    "        page_number = table.metadata[\"page_number\"]\n",
    "        layout_width, layout_height = table.metadata[\"coordinates\"][\"layout_width\"], table.metadata[\"coordinates\"][\"layout_height\"]\n",
    "\n",
    "        img = cv2.imread(f'{image_tmp_path}/{page_number}.jpg')\n",
    "        crop_img = img[math.ceil(points[0][1]):math.ceil(points[1][1]), \\\n",
    "                       math.ceil(points[0][0]):math.ceil(points[3][0])]\n",
    "        table_image_path = f'{image_path}/table-{idx}.jpg'\n",
    "        cv2.imwrite(table_image_path, crop_img)\n",
    "        #table_images.append(table_image_path)\n",
    "\n",
    "        print (f'unstructured width: {layout_width}, height: {layout_height}')\n",
    "        print (f'page_number: {page_number}')\n",
    "        print (\"==\")\n",
    "\n",
    "        width, height, _ = crop_img.shape\n",
    "        image_token = width*height/750\n",
    "        print (f'image: {table_image_path}, shape: {img.shape}, image_token_for_claude3: {image_token}' )\n",
    "\n",
    "        ## Resize image\n",
    "        if image_token > 1500:\n",
    "            resize_img = cv2.resize(img, (0, 0), fx=0.5, fy=0.5, interpolation=cv2.INTER_AREA)\n",
    "            print(\"   - resize_img.shape = {0}\".format(resize_img.shape))\n",
    "            table_image_resize_path = table_image_path.replace(\".jpg\", \"-resize.jpg\")\n",
    "            cv2.imwrite(table_image_resize_path, resize_img)\n",
    "            os.remove(table_image_path)\n",
    "            table_image_path = table_image_resize_path\n",
    "\n",
    "        img_base64 = image_to_base64(table_image_path)\n",
    "        table.metadata[\"image_base64\"] = img_base64\n",
    "\n",
    "    if os.path.isdir(image_tmp_path): shutil.rmtree(image_tmp_path)\n",
    "    #print (f'table_images: {table_images}')\n",
    "    images = glob(os.path.join(image_path, \"*\"))\n",
    "    print (f'images: {images}')"
   ]
  },
  {
   "cell_type": "markdown",
   "id": "fb16fd2a-1983-462d-94d8-4c62e81ef28c",
   "metadata": {
    "tags": []
   },
   "source": [
    "### Summarization of table and image\n",
    "- **Image 및 Table 내용을 text 기반으로 요약합니다.**\n",
    "- **이 과정은 image 및 table 정보를 embedding 기반 모델로 검색 가능하게 합니다.**\n",
    "- BedrockChat with claude3: https://medium.com/@dminhk/building-with-anthropics-claude-3-on-amazon-bedrock-and-langchain-%EF%B8%8F-2b842f9c0ca8"
   ]
  },
  {
   "cell_type": "code",
   "execution_count": null,
   "id": "dca57b50-b89e-4146-912c-a4fcc75168ee",
   "metadata": {
    "tags": []
   },
   "outputs": [],
   "source": [
    "from langchain.schema import Document\n",
    "from langchain_core.messages import HumanMessage\n",
    "from langchain.schema.output_parser import StrOutputParser\n",
    "from langchain_core.prompts import ChatPromptTemplate, HumanMessagePromptTemplate, SystemMessagePromptTemplate"
   ]
  },
  {
   "cell_type": "code",
   "execution_count": null,
   "id": "5a6631c9-07cc-4475-9154-22400e59f4ef",
   "metadata": {
    "tags": []
   },
   "outputs": [],
   "source": [
    "system_prompt = \"You are an assistant tasked with describing table and image.\"\n",
    "system_message_template = SystemMessagePromptTemplate.from_template(system_prompt)"
   ]
  },
  {
   "cell_type": "markdown",
   "id": "c1368851-8a18-4b1c-8136-15eabc193298",
   "metadata": {},
   "source": [
    "### For images"
   ]
  },
  {
   "cell_type": "code",
   "execution_count": null,
   "id": "680fc345-fa61-4635-bb8b-0ea724016cac",
   "metadata": {
    "tags": []
   },
   "outputs": [],
   "source": [
    "import time\n",
    "from PIL import Image\n",
    "from io import BytesIO\n",
    "import matplotlib.pyplot as plt\n",
    "import botocore\n",
    "from utils.common_utils import retry"
   ]
  },
  {
   "cell_type": "code",
   "execution_count": null,
   "id": "12fecb7f-cd5c-45a8-937c-97a73cf02b96",
   "metadata": {
    "tags": []
   },
   "outputs": [],
   "source": [
    "human_prompt = [\n",
    "    {\n",
    "        \"type\": \"image_url\",\n",
    "        \"image_url\": {\n",
    "            \"url\": \"data:image/png;base64,\" + \"{image_base64}\",\n",
    "        },\n",
    "    },\n",
    "    {\n",
    "        \"type\": \"text\",\n",
    "        \"text\": '''\n",
    "                 Given image, give a concise summary.\n",
    "                 Don't insert any XML tag such as <text> and </text> when answering.\n",
    "                 Write in Korean.\n",
    "        '''\n",
    "    },\n",
    "]\n",
    "human_message_template = HumanMessagePromptTemplate.from_template(human_prompt)"
   ]
  },
  {
   "cell_type": "code",
   "execution_count": null,
   "id": "4a21f1d9-2fee-47b9-a28a-cd48727e98a1",
   "metadata": {
    "tags": []
   },
   "outputs": [],
   "source": [
    "prompt = ChatPromptTemplate.from_messages(\n",
    "    [\n",
    "        system_message_template,\n",
    "        human_message_template\n",
    "    ]\n",
    ")\n",
    "\n",
    "summarize_chain = prompt | llm_text | StrOutputParser()\n",
    "#summarize_chain = {\"image_base64\": lambda x:x} | prompt | llm_text | StrOutputParser()"
   ]
  },
  {
   "cell_type": "code",
   "execution_count": null,
   "id": "40b847d9-1bb0-41be-a8fd-c1d8cf926a79",
   "metadata": {
    "tags": []
   },
   "outputs": [],
   "source": [
    "img_info = [image_to_base64(img_path) for img_path in images if os.path.basename(img_path).startswith(\"figure\")]"
   ]
  },
  {
   "cell_type": "code",
   "execution_count": null,
   "id": "ec9e5710-0cb7-4642-a21a-3b78b67f0d2a",
   "metadata": {
    "tags": []
   },
   "outputs": [],
   "source": [
    "@retry(total_try_cnt=5, sleep_in_sec=10, retryable_exceptions=(botocore.exceptions.EventStreamError))\n",
    "def summary_img(summarize_chain, img_base64):\n",
    "\n",
    "    img = Image.open(BytesIO(base64.b64decode(img_base64)))\n",
    "    plt.imshow(img)\n",
    "    plt.show()\n",
    "\n",
    "    summary = summarize_chain.invoke(\n",
    "        {\n",
    "            \"image_base64\": img_base64\n",
    "        }\n",
    "    )\n",
    "\n",
    "    return summary"
   ]
  },
  {
   "cell_type": "code",
   "execution_count": null,
   "id": "a9d570bf-6397-4e4a-bd95-cbc1543c014a",
   "metadata": {
    "tags": []
   },
   "outputs": [],
   "source": [
    "image_summaries = []\n",
    "for idx, img_base64 in enumerate(img_info):\n",
    "    summary = summary_img(summarize_chain, img_base64)\n",
    "    image_summaries.append(summary)\n",
    "    print (\"\\n==\")\n",
    "    print (idx)\n",
    "    \n",
    "#image_summaries = summarize_chain.batch(img_info, config={\"max_concurrency\": 1})"
   ]
  },
  {
   "cell_type": "code",
   "execution_count": null,
   "id": "03a4109e-3510-4924-9398-c8f1b4ba9148",
   "metadata": {
    "tags": []
   },
   "outputs": [],
   "source": [
    "verbose = True\n",
    "if verbose:\n",
    "    for img_base64, summary in zip(img_info, image_summaries):\n",
    "\n",
    "        print (\"============================\")\n",
    "        img = Image.open(BytesIO(base64.b64decode(img_base64)))\n",
    "        plt.imshow(img)\n",
    "        plt.show()\n",
    "\n",
    "        print (f'Summary: {summary}')"
   ]
  },
  {
   "cell_type": "markdown",
   "id": "18256cfd-9cf8-4e92-a2ae-c9b921db773c",
   "metadata": {},
   "source": [
    "`요약`된 내용을 Document의 `page_content`로, `OCR`결과는 metadata의 `origin_image`로 사용"
   ]
  },
  {
   "cell_type": "code",
   "execution_count": null,
   "id": "22f4e057-b74a-4cf2-bcbd-ad0cc4d70638",
   "metadata": {
    "tags": []
   },
   "outputs": [],
   "source": [
    "images_preprocessed = []\n",
    "\n",
    "for img_path, image_base64, summary in zip(images, img_info, image_summaries):\n",
    "    \n",
    "    metadata = {}\n",
    "    metadata[\"img_path\"] = img_path\n",
    "    metadata[\"category\"] = \"Image\"\n",
    "    metadata[\"image_base64\"] = image_base64\n",
    "    \n",
    "    doc = Document(\n",
    "        page_content=summary,\n",
    "        metadata=metadata\n",
    "    )\n",
    "    images_preprocessed.append(doc)"
   ]
  },
  {
   "cell_type": "markdown",
   "id": "ded6c937-5a11-4907-b5bb-bee6ad0486a7",
   "metadata": {},
   "source": [
    "### For tables"
   ]
  },
  {
   "cell_type": "code",
   "execution_count": null,
   "id": "001cd053-ef1e-41f7-ac42-868b4d28cd8c",
   "metadata": {
    "tags": []
   },
   "outputs": [],
   "source": [
    "human_prompt = [\n",
    "    {\n",
    "        \"type\": \"text\",\n",
    "        \"text\": '''\n",
    "                 Here is the table: <table>{table}</table>\n",
    "                 Given table, give a concise summary.\n",
    "                 Don't insert any XML tag such as <table> and </table> when answering.\n",
    "                 Write in Korean.\n",
    "        '''\n",
    "    },\n",
    "]\n",
    "human_message_template = HumanMessagePromptTemplate.from_template(human_prompt)"
   ]
  },
  {
   "cell_type": "code",
   "execution_count": null,
   "id": "45cc06b5-2c72-4b21-bf1b-b467ee2816b9",
   "metadata": {
    "tags": []
   },
   "outputs": [],
   "source": [
    "prompt = ChatPromptTemplate.from_messages(\n",
    "    [\n",
    "        system_message_template,\n",
    "        human_message_template\n",
    "    ]\n",
    ")\n",
    "\n",
    "#summarize_chain = prompt | llm_text | StrOutputParser()\n",
    "summarize_chain = {\"table\": lambda x:x} | prompt | llm_text | StrOutputParser()"
   ]
  },
  {
   "cell_type": "code",
   "execution_count": null,
   "id": "0432bbf5-2c6c-4006-8257-d435eb364101",
   "metadata": {
    "tags": []
   },
   "outputs": [],
   "source": [
    "if table_by_llama_parse and table_by_pymupdf:\n",
    "    tables = tables + docs_table_llamaparse + docs_table_pymupdf\n",
    "elif table_by_llama_parse:\n",
    "    tables = tables + docs_table_llamaparse\n",
    "elif table_by_pymupdf:\n",
    "    tables = tables + docs_table_pymupdf"
   ]
  },
  {
   "cell_type": "code",
   "execution_count": null,
   "id": "feb76e1e-bafc-424d-8375-67cdc37fd5e2",
   "metadata": {
    "tags": []
   },
   "outputs": [],
   "source": [
    "table_info = [(t.page_content, t.metadata[\"text_as_html\"]) for t in tables]\n",
    "table_summaries = summarize_chain.batch(table_info, config={\"max_concurrency\": 1})\n",
    "if table_as_image: table_info = [(t.page_content, t.metadata[\"text_as_html\"], t.metadata[\"image_base64\"]) if \"image_base64\" in t.metadata else (t.page_content, t.metadata[\"text_as_html\"], None) for t in tables]"
   ]
  },
  {
   "cell_type": "code",
   "execution_count": null,
   "id": "ad5aa438-d600-4367-8576-73fa9e65057c",
   "metadata": {
    "tags": []
   },
   "outputs": [],
   "source": [
    "from utils.common_utils import print_html"
   ]
  },
  {
   "cell_type": "code",
   "execution_count": null,
   "id": "92babfff-d9d5-4de5-a3f6-cd4bab5ed336",
   "metadata": {
    "tags": []
   },
   "outputs": [],
   "source": [
    "verbose = True\n",
    "index = 0\n",
    "if verbose:\n",
    "    for table, summary in zip(table_info, table_summaries):\n",
    "\n",
    "        if table_as_image:\n",
    "            page_contents, table_as_html, img_base64 = table\n",
    "        else: page_contents, table_as_html = table\n",
    "\n",
    "        print (\"============================\")\n",
    "        print (index)\n",
    "        print (f'table: {page_contents}')\n",
    "        print (\"----------------------------\")\n",
    "        print (f'summary: {summary}')\n",
    "        print (\"----------------------------\")\n",
    "        #print (f'html:')\n",
    "        #print_html(table_as_html)\n",
    "        print (\"----------------------------\")\n",
    "        if table_as_image and img_base64 is not None:\n",
    "            print (\"image\")\n",
    "            img = Image.open(BytesIO(base64.b64decode(img_base64)))\n",
    "            plt.imshow(img)\n",
    "            plt.show()\n",
    "        index += 1\n"
   ]
  },
  {
   "cell_type": "markdown",
   "id": "af085260-0ff9-45dd-8c0f-8c2993ae5018",
   "metadata": {},
   "source": [
    "`요약`된 내용을 Document의 `page_content`로, `parsed table`은 metadata의 `origin_table`로 사용"
   ]
  },
  {
   "cell_type": "code",
   "execution_count": null,
   "id": "b8c733fd-0274-41bb-868d-832c797aff7b",
   "metadata": {
    "tags": []
   },
   "outputs": [],
   "source": [
    "tables_preprocessed = []\n",
    "\n",
    "for origin, summary in zip(tables, table_summaries):\n",
    "    metadata = origin.metadata\n",
    "    metadata[\"origin_table\"] = origin.page_content\n",
    "    doc = Document(\n",
    "        page_content=summary,\n",
    "        metadata=metadata\n",
    "    )\n",
    "    tables_preprocessed.append(doc)"
   ]
  },
  {
   "cell_type": "markdown",
   "id": "f41fbd15-2a30-4096-8916-d03d15ca4fb6",
   "metadata": {},
   "source": [
    "## 4. Index 생성\n",
    "Document로 부터 추출한 text, table, 그리고 image 정보를 Amazon OpenSearch에 저장합니다. (인덱싱)  "
   ]
  },
  {
   "cell_type": "markdown",
   "id": "5a8d684e-0963-4f85-a725-42842eb9d46e",
   "metadata": {},
   "source": [
    "### Index 이름 결정"
   ]
  },
  {
   "cell_type": "code",
   "execution_count": null,
   "id": "1079275c-6262-44bb-8bc6-0efffff1620b",
   "metadata": {
    "tags": []
   },
   "outputs": [],
   "source": [
    "import boto3\n",
    "from utils.ssm import parameter_store"
   ]
  },
  {
   "cell_type": "code",
   "execution_count": null,
   "id": "2ed6173a-8a43-49a8-945d-dbc6014a485b",
   "metadata": {
    "tags": []
   },
   "outputs": [],
   "source": [
    "region=boto3.Session().region_name\n",
    "pm = parameter_store(region)"
   ]
  },
  {
   "cell_type": "code",
   "execution_count": null,
   "id": "0657be39-a01d-4fe8-a6d8-d4bc3334ea6e",
   "metadata": {
    "tags": []
   },
   "outputs": [],
   "source": [
    "index_name = \"complex-doc-index\""
   ]
  },
  {
   "cell_type": "code",
   "execution_count": null,
   "id": "d40c8b5d-92a7-4400-a579-699e482cb68c",
   "metadata": {
    "tags": []
   },
   "outputs": [],
   "source": [
    "pm.put_params(\n",
    "    key=\"opensearch_index_name\",\n",
    "    value=f'{index_name}',\n",
    "    overwrite=True,\n",
    "    enc=False\n",
    ")"
   ]
  },
  {
   "cell_type": "markdown",
   "id": "32323202-e3a9-45ed-820c-a7d1087ff2e3",
   "metadata": {},
   "source": [
    "### Index 스키마 정의"
   ]
  },
  {
   "cell_type": "code",
   "execution_count": null,
   "id": "aa45ec52-8aff-4513-bc17-2f613b38910c",
   "metadata": {
    "tags": []
   },
   "outputs": [],
   "source": [
    "index_body = {\n",
    "    'settings': {\n",
    "        'analysis': {\n",
    "            'analyzer': {\n",
    "                'my_analyzer': {\n",
    "                         'char_filter':['html_strip'],\n",
    "                    'tokenizer': 'nori',\n",
    "                    'filter': [\n",
    "                        #'nori_number',\n",
    "                        #'lowercase',\n",
    "                        #'trim',\n",
    "                        'my_nori_part_of_speech'\n",
    "                    ],\n",
    "                    'type': 'custom'\n",
    "                }\n",
    "            },\n",
    "            'tokenizer': {\n",
    "                'nori': {\n",
    "                    'decompound_mode': 'mixed',\n",
    "                    'discard_punctuation': 'true',\n",
    "                    'type': 'nori_tokenizer'\n",
    "                }\n",
    "            },\n",
    "            \"filter\": {\n",
    "                \"my_nori_part_of_speech\": {\n",
    "                    \"type\": \"nori_part_of_speech\",\n",
    "                    \"stoptags\": [\n",
    "                        \"J\", \"XSV\", \"E\", \"IC\",\"MAJ\",\"NNB\",\n",
    "                        \"SP\", \"SSC\", \"SSO\",\n",
    "                        \"SC\",\"SE\",\"XSN\",\"XSV\",\n",
    "                        \"UNA\",\"NA\",\"VCP\",\"VSV\",\n",
    "                        \"VX\"\n",
    "                    ]\n",
    "                }\n",
    "            }\n",
    "        },\n",
    "        'index': {\n",
    "            'knn': True,\n",
    "            'knn.space_type': 'cosinesimil'  # Example space type\n",
    "        }\n",
    "    },\n",
    "    'mappings': {\n",
    "        'properties': {\n",
    "            'metadata': {\n",
    "                'properties': {\n",
    "                    'source': {'type': 'keyword'},\n",
    "                    'page_number': {'type':'long'},\n",
    "                    'category': {'type':'text'},\n",
    "                    'file_directory': {'type':'text'},\n",
    "                    'last_modified': {'type': 'text'},\n",
    "                    'type': {'type': 'keyword'},\n",
    "                    'image_base64': {'type':'text'},\n",
    "                    'origin_image': {'type':'text'},\n",
    "                    'origin_table': {'type':'text'},\n",
    "                }\n",
    "            },\n",
    "            'text': {\n",
    "                'analyzer': 'my_analyzer',\n",
    "                'search_analyzer': 'my_analyzer',\n",
    "                'type': 'text'\n",
    "            },\n",
    "            'vector_field': {\n",
    "                'type': 'knn_vector',\n",
    "                'dimension': f\"{dimension}\" # Replace with your vector dimension\n",
    "            }\n",
    "        }\n",
    "    }\n",
    "}\n"
   ]
  },
  {
   "cell_type": "markdown",
   "id": "679edbbd-44ca-4264-a4db-0ec489c58264",
   "metadata": {},
   "source": [
    "## 5. LangChain OpenSearch VectorStore 생성 \n",
    "### 선수 조건"
   ]
  },
  {
   "cell_type": "markdown",
   "id": "2ae8dd80-daf4-4e81-810b-b9e2f6611605",
   "metadata": {},
   "source": [
    "#### [중요] 아래에 aws parameter store 에 아래 인증정보가 먼저 입력되어 있어야 합니다."
   ]
  },
  {
   "cell_type": "code",
   "execution_count": null,
   "id": "fb47bf94-4bf9-4152-85f0-4babcb03edbb",
   "metadata": {
    "tags": []
   },
   "outputs": [],
   "source": [
    "opensearch_domain_endpoint = pm.get_params(\n",
    "    key=\"opensearch_domain_endpoint\",\n",
    "    enc=False\n",
    ")\n",
    "\n",
    "opensearch_user_id = pm.get_params(\n",
    "    key=\"opensearch_user_id\",\n",
    "    enc=False\n",
    ")\n",
    "\n",
    "opensearch_user_password = pm.get_params(\n",
    "    key=\"opensearch_user_password\",\n",
    "    enc=True\n",
    ")"
   ]
  },
  {
   "cell_type": "code",
   "execution_count": null,
   "id": "2319184c-4531-42c9-b400-77f53de071da",
   "metadata": {
    "tags": []
   },
   "outputs": [],
   "source": [
    "opensearch_domain_endpoint = opensearch_domain_endpoint\n",
    "rag_user_name = opensearch_user_id\n",
    "rag_user_password = opensearch_user_password\n",
    "\n",
    "http_auth = (rag_user_name, rag_user_password) # Master username, Master password"
   ]
  },
  {
   "cell_type": "markdown",
   "id": "f42526e7-d010-4e06-b158-3c86f9ea45e9",
   "metadata": {},
   "source": [
    "### OpenSearch Client 생성"
   ]
  },
  {
   "cell_type": "code",
   "execution_count": null,
   "id": "41c3846a-ae55-45bd-98ac-f9280dda4409",
   "metadata": {
    "tags": []
   },
   "outputs": [],
   "source": [
    "from utils.opensearch import opensearch_utils"
   ]
  },
  {
   "cell_type": "code",
   "execution_count": null,
   "id": "c4b0fd7c-5fe2-42c6-bf58-f41930c37c0a",
   "metadata": {
    "tags": []
   },
   "outputs": [],
   "source": [
    "aws_region = os.environ.get(\"AWS_DEFAULT_REGION\", None)\n",
    "\n",
    "os_client = opensearch_utils.create_aws_opensearch_client(\n",
    "    aws_region,\n",
    "    opensearch_domain_endpoint,\n",
    "    http_auth\n",
    ")"
   ]
  },
  {
   "cell_type": "markdown",
   "id": "f824d282-507e-44c9-bb02-a8978ae2d110",
   "metadata": {
    "tags": []
   },
   "source": [
    "### 오픈 서치 인덱스 생성 \n",
    "- 오픈 서치에 해당 인덱스가 존재하면, 삭제 합니다. "
   ]
  },
  {
   "cell_type": "code",
   "execution_count": null,
   "id": "a9429551-11f9-41e8-8c28-8e743bc308dc",
   "metadata": {
    "tags": []
   },
   "outputs": [],
   "source": [
    "index_exists = opensearch_utils.check_if_index_exists(\n",
    "    os_client,\n",
    "    index_name\n",
    ")\n",
    "\n",
    "if index_exists:\n",
    "    opensearch_utils.delete_index(\n",
    "        os_client,\n",
    "        index_name\n",
    "    )\n",
    "\n",
    "opensearch_utils.create_index(os_client, index_name, index_body)\n",
    "index_info = os_client.indices.get(index=index_name)\n",
    "print(\"Index is created\")\n",
    "pprint(index_info)"
   ]
  },
  {
   "cell_type": "markdown",
   "id": "233327e3-6c4b-43cb-a5dc-65caca085355",
   "metadata": {},
   "source": [
    "### 랭체인 인덱스 연결 오브젝트 생성\n",
    "\n",
    "- [langchain.vectorstores.opensearch_vector_search.OpenSearchVectorSearch](https://api.python.langchain.com/en/latest/vectorstores/langchain.vectorstores.opensearch_vector_search.OpenSearchVectorSearch.html)"
   ]
  },
  {
   "cell_type": "code",
   "execution_count": null,
   "id": "a29a80eb-eb52-458b-b37d-39214937c188",
   "metadata": {
    "tags": []
   },
   "outputs": [],
   "source": [
    "from langchain.vectorstores import OpenSearchVectorSearch"
   ]
  },
  {
   "cell_type": "code",
   "execution_count": null,
   "id": "8c5ee773-6952-4d9d-baef-bb11491df90f",
   "metadata": {
    "tags": []
   },
   "outputs": [],
   "source": [
    "vector_db = OpenSearchVectorSearch(\n",
    "    index_name=index_name,\n",
    "    opensearch_url=opensearch_domain_endpoint,\n",
    "    embedding_function=llm_emb,\n",
    "    http_auth=http_auth, # http_auth\n",
    "    is_aoss=False,\n",
    "    engine=\"faiss\",\n",
    "    space_type=\"l2\",\n",
    "    bulk_size=100000,\n",
    "    timeout=60\n",
    ")\n",
    "vector_db"
   ]
  },
  {
   "cell_type": "markdown",
   "id": "b10817e5-7c5b-4109-ab59-0712b777c7b2",
   "metadata": {},
   "source": [
    "### Chunking Strategy: Parent documents\n",
    "* Chunk Size and Chunk Overlap Size"
   ]
  },
  {
   "cell_type": "code",
   "execution_count": null,
   "id": "b1886286-3b05-4c38-b02b-d0581980ab4a",
   "metadata": {
    "tags": []
   },
   "outputs": [],
   "source": [
    "from utils.chunk import parant_documents"
   ]
  },
  {
   "cell_type": "code",
   "execution_count": null,
   "id": "7dd3320e-b8f2-4987-999e-bce0aa8fec67",
   "metadata": {
    "tags": []
   },
   "outputs": [],
   "source": [
    "parent_chunk_size = 4096\n",
    "parent_chunk_overlap = 0\n",
    "\n",
    "child_chunk_size = 1024\n",
    "child_chunk_overlap = 256\n",
    "\n",
    "opensearch_parent_key_name = \"parent_id\"\n",
    "opensearch_family_tree_key_name = \"family_tree\""
   ]
  },
  {
   "cell_type": "markdown",
   "id": "6ea6c7d1-7da7-4a63-8be6-ff05e12f8a9a",
   "metadata": {},
   "source": [
    "* Parent Chunking\n",
    "    - create_parent_chunk() 아래와 같은 작업을 합니다.\n",
    "    - all_docs 에 있는 문서를 parent_chunk_size 만큼으로 청킹 합니다.\n",
    "    - Parent Chunk 에 두개의 메타 데이타를 생성 합니다.\n",
    "        - family_tree: parent\n",
    "        - parent_id : None"
   ]
  },
  {
   "cell_type": "code",
   "execution_count": null,
   "id": "e41d871e-7872-4c7d-be6a-a5d1e1283a3a",
   "metadata": {
    "tags": []
   },
   "outputs": [],
   "source": [
    "parent_chunk_docs = parant_documents.create_parent_chunk(\n",
    "    docs=texts,\n",
    "    parent_id_key=opensearch_parent_key_name,\n",
    "    family_tree_id_key=opensearch_family_tree_key_name,\n",
    "    parent_chunk_size=parent_chunk_size,\n",
    "    parent_chunk_overlap=parent_chunk_overlap\n",
    ")\n",
    "print(f'Number of parent_chunk_docs= {len(parent_chunk_docs)}')"
   ]
  },
  {
   "cell_type": "markdown",
   "id": "4e4019e2-6e15-4c91-bc05-028e0844a69e",
   "metadata": {},
   "source": [
    "* Insert doc into OpenSearch "
   ]
  },
  {
   "cell_type": "code",
   "execution_count": null,
   "id": "d82fd669-3b39-4752-a1ac-3860c339072d",
   "metadata": {
    "tags": []
   },
   "outputs": [],
   "source": [
    "%%time\n",
    "\n",
    "parent_ids = vector_db.add_documents(\n",
    "    documents = parent_chunk_docs, \n",
    "    vector_field = \"vector_field\",\n",
    "    bulk_size = 1000000\n",
    ")"
   ]
  },
  {
   "cell_type": "code",
   "execution_count": null,
   "id": "a6787ed2-5827-48f9-9a3d-8e393286b041",
   "metadata": {
    "tags": []
   },
   "outputs": [],
   "source": [
    "total_count_docs = opensearch_utils.get_count(os_client, index_name)\n",
    "print(\"total count docs: \", total_count_docs)"
   ]
  },
  {
   "cell_type": "markdown",
   "id": "3d143588-8c55-4ab5-8f2d-ee8fff66b98e",
   "metadata": {},
   "source": [
    "* 삽입된 Parent Chunk 의 첫번째를 확인 합니다. family_tree, parent_id 의 값을 확인 하세요."
   ]
  },
  {
   "cell_type": "code",
   "execution_count": null,
   "id": "e7b7fd75-486c-467a-9f25-53115b9b4b23",
   "metadata": {
    "tags": []
   },
   "outputs": [],
   "source": [
    "def show_opensearch_doc_info(response):\n",
    "    print(\"opensearch document id:\" , response[\"_id\"])\n",
    "    print(\"family_tree:\" , response[\"_source\"][\"metadata\"][\"family_tree\"])\n",
    "    print(\"parent document id:\" , response[\"_source\"][\"metadata\"][\"parent_id\"])\n",
    "    print(\"parent document text: \\n\" , response[\"_source\"][\"text\"])\n",
    "\n",
    "response = opensearch_utils.get_document(os_client, doc_id = parent_ids[0], index_name = index_name)\n",
    "show_opensearch_doc_info(response)"
   ]
  },
  {
   "cell_type": "markdown",
   "id": "cb74fb6a-634b-473c-be68-529d1f2f0b1e",
   "metadata": {},
   "source": [
    "* Child Chunking\n",
    "    - 아래의 create_child_chunk() 는 다음과 같은 작업을 합니다.\n",
    "    - parent_chunk_docs 각각에 대해서 Child Chunk 를 생성 합니다. \n",
    "    - Child Chunk 에 두개의 메타 데이타를 생성 합니다.\n",
    "        - family_tree: child\n",
    "        - parent_id : parent 에 대한 OpenSearch document id"
   ]
  },
  {
   "cell_type": "code",
   "execution_count": null,
   "id": "e7be16dd-5afa-4934-9825-bf14abb5e153",
   "metadata": {
    "tags": []
   },
   "outputs": [],
   "source": [
    "# child_chunk_docs = create_child_chunk(parent_chunk_docs[0:1], parent_ids)\n",
    "child_chunk_docs = parant_documents.create_child_chunk(\n",
    "    child_chunk_size=child_chunk_size,\n",
    "    child_chunk_overlap=child_chunk_overlap,\n",
    "    docs=parent_chunk_docs,\n",
    "    parent_ids_value=parent_ids,\n",
    "    parent_id_key=opensearch_parent_key_name,\n",
    "    family_tree_id_key=opensearch_family_tree_key_name\n",
    ")\n",
    "\n",
    "print(f\"Number of child_chunk_docs= {len(child_chunk_docs)}\")"
   ]
  },
  {
   "cell_type": "code",
   "execution_count": null,
   "id": "6983a34b-14f1-4974-ae1e-03ba737505be",
   "metadata": {
    "tags": []
   },
   "outputs": [],
   "source": [
    "parent_id = child_chunk_docs[0].metadata[\"parent_id\"]\n",
    "print(\"child's parent_id: \", parent_id)\n",
    "print(\"\\n###### Search parent in OpenSearch\")\n",
    "response = opensearch_utils.get_document(os_client, doc_id = parent_id, index_name = index_name)\n",
    "show_opensearch_doc_info(response)    "
   ]
  },
  {
   "cell_type": "code",
   "execution_count": null,
   "id": "c5e6c9a5-730c-4862-9b33-ea0b31d230d2",
   "metadata": {
    "tags": []
   },
   "outputs": [],
   "source": [
    "child_chunk_docs[0]"
   ]
  },
  {
   "cell_type": "markdown",
   "id": "4d06bc16-aa1f-461b-981a-10b04f731acc",
   "metadata": {},
   "source": [
    "### Manipulate table and image for parent documents\n",
    "- set family_tree of table and image documents as \"parent_table\" and these kinds of types are included in searcable list (child, parent_table and parent_image) in parant document strategy."
   ]
  },
  {
   "cell_type": "code",
   "execution_count": null,
   "id": "3c8773b0-390f-40bd-835b-8b987c67fa0a",
   "metadata": {
    "tags": []
   },
   "outputs": [],
   "source": [
    "for table in tables_preprocessed:\n",
    "    table.metadata[\"family_tree\"], table.metadata[\"parent_id\"] = \"parent_table\", \"NA\""
   ]
  },
  {
   "cell_type": "code",
   "execution_count": null,
   "id": "68476c8b-ca29-4efe-bf7f-138d0a55edf1",
   "metadata": {
    "tags": []
   },
   "outputs": [],
   "source": [
    "for image in images_preprocessed:\n",
    "    image.metadata[\"family_tree\"], image.metadata[\"parent_id\"] = \"parent_image\", \"NA\""
   ]
  },
  {
   "cell_type": "markdown",
   "id": "6b7bb779-1148-441f-adc0-0fc860ae36b5",
   "metadata": {
    "tags": []
   },
   "source": [
    "### Merge text, table and image"
   ]
  },
  {
   "cell_type": "code",
   "execution_count": null,
   "id": "d59e7d39-5aca-429f-998d-70aabad37df8",
   "metadata": {
    "tags": []
   },
   "outputs": [],
   "source": [
    "from itertools import chain"
   ]
  },
  {
   "cell_type": "code",
   "execution_count": null,
   "id": "b90f1822-eadf-4488-92a9-01725df1f2cd",
   "metadata": {
    "tags": []
   },
   "outputs": [],
   "source": [
    "docs_preprocessed = list(chain(child_chunk_docs, tables_preprocessed, images_preprocessed))"
   ]
  },
  {
   "cell_type": "markdown",
   "id": "dc70feee-0e0b-4e74-b65e-099ac0b1dbdd",
   "metadata": {},
   "source": [
    "* Insert doc into OpenSearch"
   ]
  },
  {
   "cell_type": "code",
   "execution_count": null,
   "id": "1d07b977-ce5d-41e4-bfbf-54113fdecb17",
   "metadata": {
    "tags": []
   },
   "outputs": [],
   "source": [
    "%%time\n",
    "\n",
    "child_ids = vector_db.add_documents(\n",
    "    documents=docs_preprocessed, \n",
    "    vector_field = \"vector_field\",\n",
    "    bulk_size=1000000\n",
    ")\n",
    "\n",
    "print(\"length of child_ids: \", len(child_ids))"
   ]
  },
  {
   "cell_type": "markdown",
   "id": "0c4223fa-ca44-4197-a1cd-2a76151df2be",
   "metadata": {},
   "source": [
    "## 6. 검색 테스트"
   ]
  },
  {
   "cell_type": "code",
   "execution_count": null,
   "id": "4fdb6e42-506d-4152-949e-cb9e8abf9b53",
   "metadata": {
    "tags": []
   },
   "outputs": [],
   "source": [
    "from utils.rag import qa_chain\n",
    "from utils.rag import prompt_repo, show_context_used\n",
    "from langchain.callbacks.tracers import ConsoleCallbackHandler\n",
    "from utils.rag import retriever_utils, OpenSearchHybridSearchRetriever"
   ]
  },
  {
   "cell_type": "code",
   "execution_count": null,
   "id": "8421e6fd-6070-4009-8138-59e8331d9946",
   "metadata": {
    "tags": []
   },
   "outputs": [],
   "source": [
    "opensearch_hybrid_retriever = OpenSearchHybridSearchRetriever(\n",
    "    os_client=os_client,\n",
    "    index_name=index_name,\n",
    "    llm_text=llm_text, # llm for query augmentation in both rag_fusion and HyDE\n",
    "    llm_emb=llm_emb, # Used in semantic search based on opensearch \n",
    "\n",
    "    # hybird-search debugger\n",
    "    #hybrid_search_debugger = \"semantic\", #[semantic, lexical, None]\n",
    "    \n",
    "    # option for lexical\n",
    "    minimum_should_match=0,\n",
    "    filter=[],\n",
    "\n",
    "    # option for search\n",
    "    fusion_algorithm=\"RRF\", # [\"RRF\", \"simple_weighted\"], rank fusion 방식 정의\n",
    "    ensemble_weights=[.51, .49], # [for semantic, for lexical], Semantic, Lexical search 결과에 대한 최종 반영 비율 정의\n",
    "    reranker=False, # enable reranker with reranker model\n",
    "    #reranker_endpoint_name=endpoint_name, # endpoint name for reranking model\n",
    "    parent_document=True, # enable parent document\n",
    "    \n",
    "    # option for complex pdf consisting of text, table and image\n",
    "    complex_doc=True,\n",
    "    \n",
    "    # option for async search\n",
    "    async_mode=True,\n",
    "\n",
    "    # option for output\n",
    "    k=7, # 최종 Document 수 정의\n",
    "    verbose=False,\n",
    "\n",
    ")"
   ]
  },
  {
   "cell_type": "markdown",
   "id": "b6c9f5ca-08a2-4656-ba5b-0ead7565182d",
   "metadata": {},
   "source": [
    "### 하이브리드 검색"
   ]
  },
  {
   "cell_type": "code",
   "execution_count": null,
   "id": "0d68740c-2dc3-404c-a2e5-08f2e65481cd",
   "metadata": {
    "tags": []
   },
   "outputs": [],
   "source": [
    "%%time\n",
    "query = \"디지털 성범죄란?\"\n",
    "search_hybrid_result, tables, images = opensearch_hybrid_retriever.get_relevant_documents(query)"
   ]
  },
  {
   "cell_type": "code",
   "execution_count": null,
   "id": "2ae1553b-2f68-4cc8-940e-75f33fed0b6b",
   "metadata": {
    "tags": []
   },
   "outputs": [],
   "source": [
    "show_context_used(search_hybrid_result)"
   ]
  }
 ],
 "metadata": {
  "kernelspec": {
   "display_name": "conda_python3",
   "language": "python",
   "name": "conda_python3"
  },
  "language_info": {
   "codemirror_mode": {
    "name": "ipython",
    "version": 3
   },
   "file_extension": ".py",
   "mimetype": "text/x-python",
   "name": "python",
   "nbconvert_exporter": "python",
   "pygments_lexer": "ipython3",
   "version": "3.10.14"
  }
 },
 "nbformat": 4,
 "nbformat_minor": 5
}
