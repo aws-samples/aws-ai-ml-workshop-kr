{
 "cells": [
  {
   "cell_type": "markdown",
   "id": "5deb2df2-413d-49bd-a829-3a1fc344937e",
   "metadata": {},
   "source": [
    "# RAG Based on parent document\n",
    "- Hybrid Search\n",
    "- ReRanker\n",
    "- [Parent Document](https://medium.aiplanet.com/advanced-rag-providing-broader-context-to-llms-using-parentdocumentretriever-cc627762305a)\n",
    "    "
   ]
  },
  {
   "cell_type": "markdown",
   "id": "b1f81abc-3277-4a6b-9ef1-d4f997d67fbe",
   "metadata": {},
   "source": [
    "## Setting\n",
    " - Auto Reload\n",
    " - path for utils"
   ]
  },
  {
   "cell_type": "code",
   "execution_count": 1,
   "id": "ddde4105-b759-4d6c-8214-8e1ab485ae48",
   "metadata": {
    "tags": []
   },
   "outputs": [],
   "source": [
    "%load_ext autoreload\n",
    "%autoreload 2"
   ]
  },
  {
   "cell_type": "code",
   "execution_count": 4,
   "id": "57c2cdb1-d785-4317-afce-938f13141085",
   "metadata": {
    "tags": []
   },
   "outputs": [],
   "source": [
    "import sys, os\n",
    "module_path = \"../../../../\"\n",

    "sys.path.append(os.path.abspath(module_path))"
   ]
  },
  {
   "cell_type": "markdown",
   "id": "9c4ade56-8dbc-4ded-b355-7e4bcc971e90",
   "metadata": {},
   "source": [
    "## 1. Create a Bedrock Client"
   ]
  },
  {
   "cell_type": "code",
   "execution_count": 5,
   "id": "cc2d877f-e877-48f6-8dd4-239de20e45cd",
   "metadata": {
    "tags": []
   },
   "outputs": [],
   "source": [
    "import json\n",
    "import boto3\n",
    "from pprint import pprint\n",
    "from termcolor import colored\n",
    "from utils import bedrock, print_ww\n",
    "from utils.bedrock import bedrock_info"
   ]
  },
  {
   "cell_type": "markdown",
   "id": "088e6490-c79a-49e4-841c-9fdb91292608",
   "metadata": {},
   "source": [
    "### ---- ⚠️ Un-comment and edit the below lines as needed for your AWS setup ⚠️ ----\n",
    "- os.environ[\"AWS_DEFAULT_REGION\"] = \"<REGION_NAME>\"  # E.g. \"us-east-1\"\n",
    "- os.environ[\"AWS_PROFILE\"] = \"<YOUR_PROFILE>\"\n",
    "- os.environ[\"BEDROCK_ASSUME_ROLE\"] = \"<YOUR_ROLE_ARN>\"  # E.g. \"arn:aws:...\"\n",
    "- os.environ[\"BEDROCK_ENDPOINT_URL\"] = \"<YOUR_ENDPOINT_URL>\"  # E.g. \"https://...\""
   ]
  },
  {
   "cell_type": "code",
   "execution_count": 6,
   "id": "cab9312c-5f61-4730-96c3-5eef54a5f08c",
   "metadata": {
    "tags": []
   },
   "outputs": [
    {
     "name": "stdout",
     "output_type": "stream",
     "text": [
      "Create new client\n",
      "  Using region: None\n",
      "  Using profile: None\n",
      "boto3 Bedrock client successfully created!\n",
      "bedrock-runtime(https://bedrock-runtime.us-west-2.amazonaws.com)\n",
      "\u001b[32m\n",
      "== FM lists ==\u001b[0m\n",
      "{'Claude-Instant-V1': 'anthropic.claude-instant-v1',\n",
      " 'Claude-V1': 'anthropic.claude-v1',\n",
      " 'Claude-V2': 'anthropic.claude-v2',\n",
      " 'Claude-V2-1': 'anthropic.claude-v2:1',\n",
      " 'Claude-V3-5-Sonnet': 'anthropic.claude-3-5-sonnet-20240620-v1:0',\n",
      " 'Claude-V3-Haiku': 'anthropic.claude-3-haiku-20240307-v1:0',\n",
      " 'Claude-V3-Opus': 'anthropic.claude-3-sonnet-20240229-v1:0',\n",
      " 'Claude-V3-Sonnet': 'anthropic.claude-3-sonnet-20240229-v1:0',\n",
      " 'Cohere-Embeddings-En': 'cohere.embed-english-v3',\n",
      " 'Cohere-Embeddings-Multilingual': 'cohere.embed-multilingual-v3',\n",
      " 'Command': 'cohere.command-text-v14',\n",
      " 'Command-Light': 'cohere.command-light-text-v14',\n",
      " 'Jurassic-2-Mid': 'ai21.j2-mid-v1',\n",
      " 'Jurassic-2-Ultra': 'ai21.j2-ultra-v1',\n",
      " 'Llama2-13b-Chat': 'meta.llama2-13b-chat-v1',\n",
      " 'Titan-Embeddings-G1': 'amazon.titan-embed-text-v1',\n",
      " 'Titan-Text-Embeddings-V2': 'amazon.titan-embed-text-v2:0',\n",
      " 'Titan-Text-G1': 'amazon.titan-text-express-v1',\n",
      " 'Titan-Text-G1-Express': 'amazon.titan-text-express-v1',\n",
      " 'Titan-Text-G1-Light': 'amazon.titan-text-lite-v1',\n",
      " 'Titan-Text-G1-Premier': 'amazon.titan-text-premier-v1:0'}\n"
     ]
    }
   ],
   "source": [
    "boto3_bedrock = bedrock.get_bedrock_client(\n",
    "    assumed_role=os.environ.get(\"BEDROCK_ASSUME_ROLE\", None),\n",
    "    endpoint_url=os.environ.get(\"BEDROCK_ENDPOINT_URL\", None),\n",
    "    region=os.environ.get(\"AWS_DEFAULT_REGION\", None),\n",
    ")\n",
    "\n",
    "aws_region = os.environ.get(\"AWS_DEFAULT_REGION\", None)\n",
    "print (colored(\"\\n== FM lists ==\", \"green\"))\n",
    "pprint (bedrock_info.get_list_fm_models(verbose=False))"
   ]
  },
  {
   "cell_type": "markdown",
   "id": "241a9e34-417a-422f-9f75-cb211b2e70e1",
   "metadata": {
    "tags": []
   },
   "source": [
    "## 2. Load Titan Embedding and LLM Claude model"
   ]
  },
  {
   "cell_type": "markdown",
   "id": "29bf63d2-4110-407c-af06-a45d2fbed4b5",
   "metadata": {},
   "source": [
    "### Load LLM"
   ]
  },
  {
   "cell_type": "code",
   "execution_count": 7,
   "id": "9c51443a-04f9-465c-9564-53053eb3e1c2",
   "metadata": {
    "tags": []
   },
   "outputs": [],
   "source": [
    "from langchain_aws import ChatBedrock\n",
    "from langchain.callbacks.streaming_stdout import StreamingStdOutCallbackHandler"
   ]
  },
  {
   "cell_type": "code",
   "execution_count": 8,
   "id": "d09e84e0-b9e1-4b12-8e7a-68f03c5416e5",
   "metadata": {
    "tags": []
   },
   "outputs": [
    {
     "data": {
      "text/plain": [
       "ChatBedrock(callbacks=[<langchain_core.callbacks.streaming_stdout.StreamingStdOutCallbackHandler object at 0x7feb580d3700>], client=<botocore.client.BedrockRuntime object at 0x7feb31e749d0>, model_id='anthropic.claude-3-sonnet-20240229-v1:0', model_kwargs={'max_tokens': 1024, 'stop_sequences': ['\\n\\nHuman']}, streaming=True)"
      ]
     },
     "execution_count": 8,
     "metadata": {},
     "output_type": "execute_result"
    }
   ],
   "source": [
    "llm_text = ChatBedrock(\n",
    "    model_id=bedrock_info.get_model_id(model_name=\"Claude-V3-Sonnet\"),\n",
    "    client=boto3_bedrock,\n",
    "    model_kwargs={\n",
    "        \"max_tokens\": 1024,\n",
    "        \"stop_sequences\": [\"\\n\\nHuman\"],\n",
    "    },\n",
    "    streaming=True,\n",
    "    callbacks=[StreamingStdOutCallbackHandler()],\n",
    ")\n",
    "llm_text"
   ]
  },
  {
   "cell_type": "markdown",
   "id": "3ba2e829-af8f-4e90-b994-59106cdec8d8",
   "metadata": {},
   "source": [
    "### Select Embedding model"
   ]
  },
  {
   "cell_type": "code",
   "execution_count": 9,
   "id": "0b7b8752-d1e3-4f41-ba35-6da42c3785db",
   "metadata": {
    "tags": []
   },
   "outputs": [
    {
     "name": "stderr",
     "output_type": "stream",
     "text": [
      "WARNING:opensearch:POST https://search-rag-hol-mydomain-ehghqwhortwcjrvsk2tmj3edce.us-west-2.es.amazonaws.com:443/v01-genai-poc-parent-doc-retriever/_search [status:400 request:0.062s]\n"
     ]
    }
   ],
   "source": [
    "from utils.rag import KoSimCSERobertaContentHandler, SagemakerEndpointEmbeddingsJumpStart"
   ]
  },
  {
   "cell_type": "code",
   "execution_count": 32,
   "id": "793b03f7-3186-4969-b76a-98fe56bd5fdc",
   "metadata": {
    "tags": []
   },
   "outputs": [],
   "source": [
    "def get_embedding_model(is_bedrock_embeddings, is_KoSimCSERobert, aws_region, endpont_name=None):\n",
    "    \n",
    "    if is_bedrock_embeddings:\n",
    "        # We will be using the Titan Embeddings Model to generate our Embeddings.\n",
    "        from langchain.embeddings import BedrockEmbeddings\n",
    "        llm_emb = BedrockEmbeddings(\n",
    "            client=boto3_bedrock,\n",
    "            model_id=bedrock_info.get_model_id(\n",
    "                model_name=\"Titan-Text-Embeddings-V2\"\n",
    "            )\n",
    "        )\n",
    "        print(\"Bedrock Embeddings Model Loaded\")\n",
    "\n",
    "    elif is_KoSimCSERobert:\n",
    "        LLMEmbHandler = KoSimCSERobertaContentHandler()\n",
    "        endpoint_name_emb = endpont_name\n",
    "        llm_emb = SagemakerEndpointEmbeddingsJumpStart(\n",
    "            endpoint_name=endpoint_name_emb,\n",
    "            region_name=aws_region,\n",
    "            content_handler=LLMEmbHandler,\n",
    "        )\n",
    "        print(\"KoSimCSERobert Embeddings Model Loaded\")\n",
    "    else:\n",
    "        llm_emb = None\n",
    "        print(\"No Embedding Model Selected\")\n",
    "\n",
    "    return llm_emb"
   ]
  },
  {
   "cell_type": "markdown",
   "id": "cd72a6b8-eaf0-4036-a530-3bde5ba988cd",
   "metadata": {},
   "source": [
    "#### [Important] If is_KoSimCSERobert == True, please make sure to include endpoint_name."
   ]
  },
  {
   "cell_type": "code",
   "execution_count": 33,
   "id": "f42e032b-8715-432c-ae71-12a889f8ffc0",
   "metadata": {
    "tags": []
   },
   "outputs": [
    {
     "name": "stdout",
     "output_type": "stream",
     "text": [
      "Bedrock Embeddings Model Loaded\n"
     ]
    }
   ],
   "source": [
    "is_bedrock_embeddings = True\n",
    "is_KoSimCSERobert = False\n",
    "aws_region = os.environ.get(\"AWS_DEFAULT_REGION\", None)\n",
    "\n",
    "##############################\n",
    "# Parameters for is_KoSimCSERobert\n",
    "##############################\n",
    "if is_KoSimCSERobert: endpont_name = \"<endpoint-name>\"\n",
    "else: endpont_name = None\n",
    "##############################\n",
    "\n",
    "llm_emb = get_embedding_model(is_bedrock_embeddings, is_KoSimCSERobert, aws_region, endpont_name)   "
   ]
  },
  {
   "cell_type": "markdown",
   "id": "e10b67d5-382e-4715-a841-eb07b8655da8",
   "metadata": {},
   "source": [
    "## 3. Deploy ReRanker model (if needed)"
   ]
  },
  {
   "cell_type": "code",
   "execution_count": 34,
   "id": "9a08a296-41ef-44cb-857b-63d05a8d187c",
   "metadata": {
    "tags": []
   },
   "outputs": [],
   "source": [
    "import json\n",
    "import sagemaker\n",
    "from sagemaker.huggingface import HuggingFaceModel"
   ]
  },
  {
   "cell_type": "code",
   "execution_count": 13,
   "id": "33dd04a7-8200-49e7-ae69-55a82be199b4",
   "metadata": {
    "tags": []
   },
   "outputs": [],
   "source": [
    "deploy = True"
   ]
  },
  {
   "cell_type": "code",
   "execution_count": 14,
   "id": "9d40e3dd-a19f-4af3-831a-0cfe79e72cb3",
   "metadata": {
    "tags": []
   },
   "outputs": [
    {
     "name": "stdout",
     "output_type": "stream",
     "text": [
      "---------!"
     ]
    },
    {
     "name": "stderr",
     "output_type": "stream",
     "text": [
      "WARNING:sagemaker.deprecations:The endpoint attribute has been renamed in sagemaker>=2.\n",
      "See: https://sagemaker.readthedocs.io/en/stable/v2.html for details.\n"
     ]
    },
    {
     "name": "stdout",
     "output_type": "stream",
     "text": [
      "Accept: ('application/json',)\n",
      "ContentType: application/json\n",
      "Endpoint: huggingface-pytorch-inference-2024-10-06-04-43-38-392\n"
     ]
    }
   ],
   "source": [
    "if deploy:\n",
    "\n",
    "    try:\n",
    "        role = sagemaker.get_execution_role()\n",
    "    except ValueError:\n",
    "        iam = boto3.client('iam')\n",
    "        role = iam.get_role(RoleName='sagemaker_execution_role')['Role']['Arn']\n",
    "\n",
    "    # Hub Model configuration. https://huggingface.co/models\n",
    "    hub = {\n",
    "        'HF_MODEL_ID':'BAAI/bge-reranker-large',\n",
    "        'HF_TASK':'text-classification'\n",
    "    }\n",
    "\n",
    "    # create Hugging Face Model Class\n",
    "    huggingface_model = HuggingFaceModel(\n",
    "        transformers_version='4.26.0',\n",
    "        pytorch_version='1.13.1',\n",
    "        py_version='py39',\n",
    "        env=hub,\n",
    "        role=role, \n",
    "    )\n",
    "\n",
    "    # deploy model to SageMaker Inference\n",
    "    predictor = huggingface_model.deploy(\n",
    "        initial_instance_count=1, # number of instances\n",
    "        instance_type='ml.g5.xlarge' # instance type\n",
    "    )\n",
    "\n",
    "    print(f'Accept: {predictor.accept}')\n",
    "    print(f'ContentType: {predictor.content_type}')\n",
    "    print(f'Endpoint: {predictor.endpoint}')"
   ]
  },
  {
   "cell_type": "markdown",
   "id": "f7389708-b21d-4014-bc33-4d16ed2646d6",
   "metadata": {},
   "source": [
    "#### Save reranker endpoint to Parameter Store"
   ]
  },
  {
   "cell_type": "code",
   "execution_count": 15,
   "id": "97e5c7c6-9630-4f9e-8d55-8218b9a1cb6a",
   "metadata": {
    "tags": []
   },
   "outputs": [
    {
     "name": "stderr",
     "output_type": "stream",
     "text": [
      "WARNING:sagemaker.deprecations:The endpoint attribute has been renamed in sagemaker>=2.\n",
      "See: https://sagemaker.readthedocs.io/en/stable/v2.html for details.\n"
     ]
    },
    {
     "name": "stdout",
     "output_type": "stream",
     "text": [
      "Parameter stored successfully.\n"
     ]
    }
   ],
   "source": [
    "if deploy:\n",
    "\n",
    "    import boto3\n",
    "    from utils.ssm import parameter_store\n",
    "\n",
    "    region=boto3.Session().region_name\n",
    "    pm = parameter_store(region)\n",
    "\n",
    "    pm.put_params(\n",
    "        key=\"reranker_endpoint\",\n",
    "        value=f'{predictor.endpoint}',\n",
    "        overwrite=True,\n",
    "        enc=False\n",
    "    )"
   ]
  },
  {
   "cell_type": "markdown",
   "id": "20e648ef-01ec-4e2f-ba88-7d2510fdb7a6",
   "metadata": {},
   "source": [
    "## 4. Invocation (prediction)"
   ]
  },
  {
   "cell_type": "code",
   "execution_count": 35,
   "id": "d0e06044-ac6b-468d-a106-8fbeb4a555f6",
   "metadata": {
    "tags": []
   },
   "outputs": [],
   "source": [
    "from utils.ssm import parameter_store"
   ]
  },
  {
   "cell_type": "code",
   "execution_count": 36,
   "id": "ac71912f-b121-424d-97e9-6bfbed2633bf",
   "metadata": {
    "tags": []
   },
   "outputs": [],
   "source": [
    "region=boto3.Session().region_name\n",
    "pm = parameter_store(region)"
   ]
  },
  {
   "cell_type": "code",
   "execution_count": 37,
   "id": "114be617-a687-4733-abb9-30394c7ef35f",
   "metadata": {
    "tags": []
   },
   "outputs": [
    {
     "name": "stdout",
     "output_type": "stream",
     "text": [
      "runtime_client: <botocore.client.SageMakerRuntime object at 0x7feab2dda290>\n"
     ]
    }
   ],
   "source": [
    "runtime_client = boto3.Session().client('sagemaker-runtime')\n",
    "print (f'runtime_client: {runtime_client}')"
   ]
  },
  {
   "cell_type": "code",
   "execution_count": 38,
   "id": "26ee5c45-de87-4a2b-bc04-bbc649fcd0c6",
   "metadata": {
    "tags": []
   },
   "outputs": [],
   "source": [
    "endpoint_name = pm.get_params(\n",
    "    key=\"reranker_endpoint\",\n",
    "    enc=False\n",
    ")\n",
    "deserializer = \"application/json\""
   ]
  },
  {
   "cell_type": "code",
   "execution_count": 39,
   "id": "bd6288ed-b4fa-466f-9e2b-57484b827b0a",
   "metadata": {
    "tags": []
   },
   "outputs": [],
   "source": [
    "payload = json.dumps(\n",
    "    {\n",
    "        \"inputs\": [\n",
    "            {\"text\": \"I hate you\", \"text_pair\": \"I don't like you\"},\n",
    "            {\"text\": \"He hates you\", \"text_pair\": \"He like you\"}\n",
    "        ]\n",
    "    }\n",
    ")"
   ]
  },
  {
   "cell_type": "code",
   "execution_count": 40,
   "id": "c1eebe88-8b92-4e81-a103-b5a5d7a91bb3",
   "metadata": {
    "tags": []
   },
   "outputs": [
    {
     "name": "stdout",
     "output_type": "stream",
     "text": [
      "Response: [{'label': 'LABEL_0', 'score': 0.9987371563911438}, {'label': 'LABEL_0', 'score': 0.0028581616934388876}]\n",
      "CPU times: user 14.7 ms, sys: 0 ns, total: 14.7 ms\n",
      "Wall time: 94 ms\n"
     ]
    }
   ],
   "source": [
    "%%time\n",
    "response = runtime_client.invoke_endpoint(\n",
    "    EndpointName=endpoint_name,\n",
    "    ContentType=\"application/json\",\n",
    "    Accept=deserializer,\n",
    "    Body=payload\n",
    ")\n",
    "## deserialization\n",
    "out = json.loads(response['Body'].read().decode()) ## for json\n",
    "print (f'Response: {out}')"
   ]
  },
  {
   "cell_type": "markdown",
   "id": "7e432237-b9b5-4be3-aa0c-c30eeca6f480",
   "metadata": {},
   "source": [
    "## 5. Define LangChain OpenSearch VectorStore\n",
    "### Prerequisites\n",
    "- The OpenSearch Index should have been created through 01_preprocess_docs/02_load_docs_opensearch.ipynb.\n",
    "#### [Important] The following authentication information should be entered in the AWS Parameter Store first:\n",
    "- Refer to 01_preprocess_docs/01_parameter_store_example.ipynb"
   ]
  },
  {
   "cell_type": "code",
   "execution_count": 41,
   "id": "42d192b6-68ce-465e-9fa7-04b5201f4453",
   "metadata": {
    "tags": []
   },
   "outputs": [],
   "source": [
    "opensearch_domain_endpoint = pm.get_params(\n",
    "    key=\"opensearch_domain_endpoint\",\n",
    "    enc=False\n",
    ")\n",
    "\n",
    "opensearch_user_id = pm.get_params(\n",
    "    key=\"opensearch_user_id\",\n",
    "    enc=False\n",
    ")\n",
    "\n",
    "opensearch_user_password = pm.get_params(\n",
    "    key=\"opensearch_user_password\",\n",
    "    enc=True\n",
    ")"
   ]
  },
  {
   "cell_type": "code",
   "execution_count": 42,
   "id": "fc7866fd-fd9c-4b41-b600-a91e43edfe4d",
   "metadata": {
    "tags": []
   },
   "outputs": [],
   "source": [
    "opensearch_domain_endpoint = opensearch_domain_endpoint\n",
    "rag_user_name = opensearch_user_id\n",
    "rag_user_password = opensearch_user_password\n",
    "\n",
    "http_auth = (rag_user_name, rag_user_password) # Master username, Master password"
   ]
  },
  {
   "cell_type": "markdown",
   "id": "161a900e-effc-4d7f-a179-b6c00eac03ad",
   "metadata": {
    "tags": []
   },
   "source": [
    "### Set Index Name\n",
    "- Enter the OpenSearch Index name created through the previous notebook 01_preprocess_docs/02_load_docs_opensearch.ipynb\n",
    "- Use the index created for parent documents"
   ]
  },
  {
   "cell_type": "code",
   "execution_count": 43,
   "id": "d5d9b5eb-052e-4e84-846b-c5385e853ba4",
   "metadata": {
    "tags": []
   },
   "outputs": [
    {
     "name": "stdout",
     "output_type": "stream",
     "text": [
      "index_name: v01-genai-poc-parent-doc-retriever\n"
     ]
    }
   ],
   "source": [
    "index_name = opensearch_user_password = pm.get_params(\n",
    "    key=\"opensearch_index_name\",\n",
    "    enc=True\n",
    ")\n",
    "\n",
    "print (f'index_name: {index_name}')"
   ]
  },
  {
   "cell_type": "markdown",
   "id": "482f5785-b88d-44fa-a603-080e4bd734a6",
   "metadata": {},
   "source": [
    "### Create OpenSearch Client"
   ]
  },
  {
   "cell_type": "code",
   "execution_count": 44,
   "id": "968b7502-5799-4702-bc17-959e88c330a2",
   "metadata": {
    "tags": []
   },
   "outputs": [],
   "source": [
    "from utils.opensearch import opensearch_utils"
   ]
  },
  {
   "cell_type": "code",
   "execution_count": 45,
   "id": "6ceb46a1-e425-4f7e-9319-793b55abb938",
   "metadata": {
    "tags": []
   },
   "outputs": [],
   "source": [
    "os_client = opensearch_utils.create_aws_opensearch_client(\n",
    "    aws_region,\n",
    "    opensearch_domain_endpoint,\n",
    "    http_auth\n",
    ")"
   ]
  },
  {
   "cell_type": "markdown",
   "id": "a5084376-7523-4cf9-9123-adc4ae79f66d",
   "metadata": {
    "tags": []
   },
   "source": [
    "## 6. Retriever based on Hybrid Search + ParentDocument + ReRanker\n",
    "- You can define a **Custom Retriever** by inheriting the **BaseRetriever** class provided by LangChain.\n",
    "\n",
    "### Hybrid Search\n",
    "Hybrid search in OpenSearch works in the following way:\n",
    "\n",
    "- (1) Calculate relevant score for each document through semantic search\n",
    "- (2) Calculate relevant score for each document through lexical search\n",
    "- (3-1) If the rank-fusion method is \"simple weighted\":\n",
    "    - Perform normalization on the calculated scores\n",
    "    - The highest score in the overall results becomes 1.0 through the normalization process\n",
    "- (3-2) If the rank-fusion method is \"Reciprocal Rank Fusion (RRF)\":\n",
    "    - Paper: https://plg.uwaterloo.ca/~gvcormac/cormacksigir09-rrf.pdf\n",
    "    - Desc: https://medium.com/@sowmiyajaganathan/hybrid-search-with-re-ranking-ff120c8a426d\n",
    "    - **RRF uses ranking information instead of scores, so score normalization is not necessary**\n",
    "    - - ![rrf.png](../../../../10_advanced_question_answering/img/rrf.png)\n",
    "\n",
    "LangChain provides an API for RRF under the name \"Ensemble Retriever\":\n",
    "\n",
    "- https://python.langchain.com/docs/modules/data_connection/retrievers/ensemble\n",
    "\n",
    "### Parent Document\n",
    "- [Parent Document](https://towardsdatascience.com/forget-rag-the-future-is-rag-fusion-1147298d8ad1)\n",
    "![parent-document.png](../../../../imgs/parent-document.png)"
   ]
  },
  {
   "cell_type": "markdown",
   "id": "29cf3877-ed50-4ca6-b319-fca654f011cc",
   "metadata": {
    "tags": []
   },
   "source": [
    "## Parent documents in Hybrid search\n",
    "- Lexical search: parent documents only\n",
    "- Semantic search: child documents first, getting parent documents corresponding to that child document"
   ]
  },
  {
   "cell_type": "code",
   "execution_count": 46,
   "id": "5db8e470-63a9-4c3d-94c8-1d270a6da822",
   "metadata": {
    "tags": []
   },
   "outputs": [],
   "source": [
    "from utils.rag import OpenSearchHybridSearchRetriever"
   ]
  },
  {
   "cell_type": "markdown",
   "id": "d7feac2f-21a2-4756-b989-66c180bb1e79",
   "metadata": {},
   "source": [
    "- Example of filter settings\n",
    "- filter=[ <BR>\n",
    "    　{\"term\": {\"metadata.[**your_metadata_attribute_name**]\": \"**your first keyword**\"}}, <BR>\n",
    "    　{\"term\": {\"metadata.[**your_metadata_attribute_name**]\": \"**your second keyword**\"}},<BR>\n",
    "]"
   ]
  },
  {
   "cell_type": "code",
   "execution_count": 47,
   "id": "49c7e131-294f-4ff8-9331-989709c7079c",
   "metadata": {
    "tags": []
   },
   "outputs": [],
   "source": [
    "opensearch_hybrid_retriever = OpenSearchHybridSearchRetriever(\n",
    "    os_client=os_client,\n",
    "    index_name=index_name,\n",
    "    llm_text=llm_text, # llm for query augmentation in both rag_fusion and HyDE\n",
    "    llm_emb=llm_emb, # Used in semantic search based on opensearch \n",
    "\n",
    "    # option for lexical\n",
    "    minimum_should_match=0,\n",
    "    filter=[],\n",
    "\n",
    "    # option for search\n",
    "    fusion_algorithm=\"RRF\", # [\"RRF\", \"simple_weighted\"], rank fusion 방식 정의\n",
    "    ensemble_weights=[.51, .49], # [for semantic, for lexical], Semantic, Lexical search 결과에 대한 최종 반영 비율 정의\n",
    "    reranker=True, # enable reranker with reranker model\n",
    "    reranker_endpoint_name=endpoint_name, # endpoint name for reranking model\n",
    "    parent_document = True, # enable parent document\n",
    "\n",
    "    # option for async search\n",
    "    async_mode=True,\n",
    "\n",
    "    # option for output\n",
    "    k=5, # 최종 Document 수 정의\n",
    "    verbose=True,\n",
    ")"
   ]
  },
  {
   "cell_type": "markdown",
   "id": "cfb26835-ad98-41c5-9e9d-2453642e3551",
   "metadata": {},
   "source": [
    "### Retrieval example\n",
    "- default search"
   ]
  },
  {
   "cell_type": "code",
   "execution_count": 48,
   "id": "9c06e89f-79de-413c-ba9c-a188ca3fe2d0",
   "metadata": {
    "tags": []
   },
   "outputs": [],
   "source": [
    "from utils.rag import show_context_used"
   ]
  },
  {
   "cell_type": "code",
   "execution_count": 49,
   "id": "fe3bfee3-dac1-45b9-8795-03e36c1632a9",
   "metadata": {
    "tags": []
   },
   "outputs": [],
   "source": [
    "#query = \"vidio max size?\"\n",
    "query = \"What is knox?\""
   ]
  },
  {
   "cell_type": "code",
   "execution_count": 50,
   "id": "05b13e5e-4a66-4dc8-b18c-42a6e3bd6037",
   "metadata": {
    "collapsed": true,
    "jupyter": {
     "outputs_hidden": true
    },
    "tags": []
   },
   "outputs": [
    {
     "name": "stdout",
     "output_type": "stream",
     "text": [
      "===== ParentDocument =====\n",
      "filter: [{'bool': {'should': [{'term': {'metadata.family_tree': 'child'}}, {'term': {'metadata.family_tree': 'parent_table'}}, {'term': {'metadata.family_tree': 'parent_image'}}]}}]\n",
      "# child_docs: 5\n",
      "# parent docs: 5\n",
      "# duplicates: 0\n",
      "##############################\n",
      "async_mode\n",
      "##############################\n",
      "True\n",
      "##############################\n",
      "reranker\n",
      "##############################\n",
      "True\n",
      "##############################\n",
      "rag_fusion\n",
      "##############################\n",
      "False\n",
      "##############################\n",
      "HyDE\n",
      "##############################\n",
      "False\n",
      "##############################\n",
      "parent_document\n",
      "##############################\n",
      "True\n",
      "##############################\n",
      "complex_document\n",
      "##############################\n",
      "False\n",
      "##############################\n",
      "similar_docs_semantic\n",
      "##############################\n",
      "\n",
      "Score: 1.0\n",
      "['What is Knox Suite?. Knox Suite is a bundled offering designed to help enterprise IT admins better manage your fleet of devices. It includes individual services such as Knox Platform for Enterprise, Knox Mobile Enrollment, Knox Manage, Knox E-FOTA, and Knox Asset Intelligence. Key features of Knox Suite include: Secure - Ensure your business data is protected with managed security features at your control. Deploy - Enroll corporate devices to EMM automatically and securely, right out of the box. Manage - Enable comprehensive management over corporate devices and OS versions. Analyze - Strengthen in-depth device analytics for mobile productivity and asset management.']\n",
      "{'source': 'all_processed_data.json', 'seq_num': 133, 'title': ' What is Knox Suite?', 'url': 'https://docs.samsungknox.com/admin/knox-suite/faq/#what-is-knox-suite', 'project': 'KS', 'last_updated': '2023-07-26', 'family_tree': 'child', 'parent_id': 'bafc1624-0e62-4e37-b9cf-e73865c15fa5', 'id': '924dde75-dc1a-4b44-8147-de8967c2087e'}\n",
      "\n",
      "Score: 0.9679794922739056\n",
      "['Knox Suite. Knox Suite is a bundled offering of Knox solutions for enterprise mobility designed to address organizations\\' needs related to security and management throughout the entire device lifecycle. Learn more about Knox Suite #Audience This document is intended for IT Admins. Understand what\\'s included in Knox Suite and how you can use it to manage, secure, and maintain enterprise devices. Learn where to find information on how to perform various tasks with Knox\"Suite services. About Knox Suite Knox Suite is a bundled offering that includes the following Knox products: Knox Platform for Enterprise - A Knox solution that provides military-grade security to Samsung Android phones, tablets, and Tizen watches for business. Knox Mobile Enrollment - A Knox solution that allows you to enroll thousands of Samsung devices in your EMM at once. When used with a Knox Suite license, Knox Mobile Enrollment provides advanced profiles that offer IT admins additional features such as higher control over locking devices']\n",
      "{'source': 'all_processed_data.json', 'seq_num': 124, 'title': 'Knox Suite', 'url': 'https://docs.samsungknox.com/admin/knox-suite', 'project': 'KS', 'last_updated': '2023-07-26', 'family_tree': 'child', 'parent_id': '444cfe6b-b9ea-4fa9-862b-7b96c7b2035f', 'id': '45a6d65d-b0b3-462d-85b9-49c863dc542d'}\n",
      "\n",
      "Score: 0.9669521197016488\n",
      "['Knox Manage. Knox Manage is a mobile device management (MDM) solution that provides a cloud-based command center with almost 300 enterprise policies to empower IT admins to remotely track, manage, configure, and send messages to devices. This solution can manage any Android, iOS, or Windows 10 or Windows 11 device, but for maximum security, we recommend Samsung Galaxy devices integrated with the Knox platform. Try for free Audience This document is intended for: IT Admins - Enterprise IT Admins can learn how to get started with Knox Manage, dive deep into the comprehensive features, and learn how to configure and monitor devices and apps. Try the solution Bulk enroll devices so that they use Knox Manage right out-of-the box. Define enterprise groups and profiles. Configure device features and settings. Deploy, update apps, or add them to the allowlist. Create simple device kiosks. Learn how now']\n",
      "{'source': 'all_processed_data.json', 'seq_num': 967, 'title': 'Knox Manage', 'url': 'https://docs.samsungknox.com/admin/knox-manage/introduction/about-knox-manage', 'project': 'KM', 'last_updated': '2023-07-26', 'family_tree': 'child', 'parent_id': 'd17f552f-5284-45d4-b923-4d0b8b619583', 'id': 'cc468816-6fc8-4a27-9632-56e477407404'}\n",
      "\n",
      "Score: 0.9609078381589217\n",
      "[\"Knox Configure. Knox Configure is a cloud-based service that empowers enterprises to customize and automate the enrollment of Samsung devices purchased from authorized Samsung resellers. Knox Configure simplifies the out-of-box experience and enables a large range of configuration options. Try for free Audience This document is intended for: IT Admins - Admins create profiles with the device settings, restrictions, apps, and other content to deploy to groups of devices. After devices have been successfully enrolled in the enterprise, they receive the Knox Configure device profile via a Wi-Fi or mobile data connection. Resellers - Resellers bulk upload devices on behalf of requesting customers. Try the solution Promote and embed company branding, including animated boot screens and personalized business apps. Use this guide to apply data access restrictions as needed based on your organization's application update, notification and URL requirements\"]\n",
      "{'source': 'all_processed_data.json', 'seq_num': 362, 'title': 'Knox Configure', 'url': 'https://docs.samsungknox.com/admin/knox-configure', 'project': 'KC', 'last_updated': '2023-07-26', 'family_tree': 'child', 'parent_id': '9d776a16-6a28-446a-ab4a-f67145473ab6', 'id': 'db26e907-bbd3-45cf-b946-5d79b4628bd2'}\n",
      "\n",
      "Score: 0.9485994244268959\n",
      "[\"The Samsung Knox platform. Samsung Knox brings defense-grade security on the most popular consumer devices to all enterprises. The Knox Platform provides best-in-class hardware-based security, policy management, and compliance capabilities beyond the standard features commonplace in today's mobile device market. The Knox Platform is the cornerstone of a strong mobile security strategy supporting a wide variety of Samsung devices. Why use Samsung Knox? The Knox Platform helps you and your enterprise avoid the security gaps common on many mobile platforms. Knox received *strong* ratings in 25 of 28 categories in Gartner's December 2017 Mobile OSs and Device Security: A Comparison of Platforms and has received strong ratings for the last three years in a row. The Knox Platform's security hardening supports every aspect of mobile device operation. The Knox Platform enables trust in your mobile endpoints with advanced features like the evolutionary Knox Vault to the patented Real-Time Kernel Protection\"]\n",
      "{'source': 'all_processed_data.json', 'seq_num': 168, 'title': 'The Samsung Knox platform', 'url': 'https://docs.samsungknox.com/admin/fundamentals/whitepaper/the-samsung-knox-platform', 'project': 'USP', 'last_updated': '2023-07-26', 'family_tree': 'child', 'parent_id': 'e0c73a9d-25bf-44de-94ee-6c56e1e103c7', 'id': '7c08a196-2f50-4f0e-9024-2355b1ae62f7'}\n",
      "\n",
      "Score: 0.9455337663396549\n",
      "['What is Knox Mobile Enrollment?. Knox Mobile Enrollment is an automated and streamlined EMM enrollment tool that enables you to provision thousands of devices for enterprise management, with less hassle for both IT admins and device users. With our advanced staging and security options that flex to your needs, enroll work devices safely across any network environment or fleet size. Knox Mobile Enrollment is fully integrated with Samsung devices and services for an end-to-end experience.']\n",
      "{'source': 'all_processed_data.json', 'seq_num': 1424, 'title': 'What is Knox Mobile Enrollment?', 'url': 'https://docs.samsungknox.com/admin/knox-mobile-enrollment/faq/#what-is-knox-mobile-enrollment', 'project': 'KME', 'last_updated': '2023-09-18', 'family_tree': 'child', 'parent_id': 'f9ac9db8-e64d-40dc-b54a-17d7de645308', 'id': '80123510-0013-4a2b-bb0e-63d38ad3334a'}\n",
      "\n",
      "Score: 0.9450817307418515\n",
      "['What is the purpose of Knox Configure?. Knox Configure is a cloud-based solution for customizing and staging Samsung devices remotely, right out of the box. It helps service and content providers rebrand and customize Samsung devices with a frictionless, out-of-the-box setup process. Advanced device configuration enables them to tailor every granular aspect to their specific needs and to transform devices into purpose-built appliances. For a comprehensive list of features, see Knox features on Android.']\n",
      "{'source': 'all_processed_data.json', 'seq_num': 480, 'title': 'What is the purpose of Knox Configure?', 'url': 'https://docs.samsungknox.com/admin/knox-configure/faq/#what-is-the-purpose-of-knox-configure', 'project': 'KC', 'last_updated': '2023-07-26', 'family_tree': 'child', 'parent_id': '135d4e83-002f-4c21-8713-fc017a3127e8', 'id': '17e8efcf-a9e7-490d-8a43-f72be1d58dde'}\n",
      "None\n",
      "##############################\n",
      "similar_docs_keyword\n",
      "##############################\n",
      "\n",
      "Score: 1.0\n",
      "[\"Overview. Get started with the basics by learning what Knox Capture is and how it works. What is Knox Capture? To help explain what Knox Capture does, it may be helpful to start with an understanding of what a *wedge* scanner is, and how it relates to the Knox Capture solution. In traditional hardware-based barcode scanning terminology, a wedge scanner is a physical device that attaches between a keyboard and a computer. The keyboard attaches to the scanner, and the scanner attaches to the computer. From the computer's perspective, the scanner behaves just like an additional keyboard. When the computer runs a software program (like an inventory spreadsheet app), and barcodes are read using the wedge scanner, data is sent from the scanner to the program in the form of keystrokes. From the program's point of view, data appears exactly as if someone had typed it manually using a keyboard. How Knox Capture works In a similar way, Knox Capture also acts as a wedge between a software program and keyboard\"]\n",
      "{'source': 'all_processed_data.json', 'seq_num': 558, 'title': 'Overview', 'url': 'https://docs.samsungknox.com/admin/knox-capture/overview', 'project': 'KCAP', 'last_updated': '2023-07-26', 'family_tree': 'child', 'parent_id': '9d3fdddf-7743-4ba4-aced-5b50494e41d0', 'id': '30a9bc92-5fda-4369-af4c-847b6ddeb0f6'}\n",
      "\n",
      "Score: 0.9846281520841531\n",
      "['Wi-Fi Enhanced Roaming Algorithm File-based encryption (FBE) and full-disk encryption (FDE) What policy do I use to block users from adding additional accounts on the device? \"Network may be monitored\" shown after installing a private CA certificate on device Does the Samsung email client support \"opaque signed\" emails? Can a network operator configure an E_APN on an employee\\'s device? If two similar Knox policies are applied to a device with an MDM, which one takes precedence? Should the Knox VPN client be installed inside or outside the Knox container? What are the package names for the Samsung Cisco AnyConnect and Juniper VPN clients? What is the minimum level of unlock method required to install a certificate in Android credential storage? What is the proper way to wildcard APK package names? Which servers do EMMs need to communicate with in order to conduct device attestation? What is the order of precedence for firewall rules? What URLs do I have to add to an allowlist to make Samsung apps work with an']\n",
      "{'source': 'all_processed_data.json', 'seq_num': 1656, 'title': 'Knox Platform for Enterprise knowledge base articles', 'url': 'https://docs.samsungknox.com/admin/knox-platform-for-enterprise/kbas', 'project': 'KPE', 'last_updated': '2023-11-06', 'family_tree': 'child', 'parent_id': '68f25d59-9349-494b-8820-313a5cfd3cae', 'id': '90beed07-fc27-4a14-9556-81da2ed95a86'}\n",
      "\n",
      "Score: 0.9686206192100865\n",
      "['. What is an Approval ID? Who uploads devices to Knox Guard? What does a Complete device status mean in Knox Guard? What are the options for stopping payment blink reminders on an overdue device? How do I restrict a device to a particular telecom operator? How do I restrict a device to the first inserted SIM of an allowed telecom operator?']\n",
      "{'source': 'all_processed_data.json', 'seq_num': 734, 'title': 'Knox Guard knowledge base articles', 'url': 'https://docs.samsungknox.com/admin/knox-guard/kbas', 'project': 'KG', 'last_updated': '2023-07-26', 'family_tree': 'child', 'parent_id': '0c32433b-2a7f-4862-8050-231a548c6d4c', 'id': '8702deec-b651-4f23-a2fb-89953aa69a79'}\n",
      "\n",
      "Score: 0.9628855622302233\n",
      "['way to wildcard APK package names? Which servers do EMMs need to communicate with in order to conduct device attestation? What is the order of precedence for firewall rules? What URLs do I have to add to an allowlist to make Samsung apps work with an authenticated proxy? Can I disable power saving mode on Knox supported devices? If I cannot resolve an SE for Android issue, who do I escalate to? Is there a way to automatically enable email sync while roaming? What does the term \"Maximum number of licenses\" mean for KPE Standard licenses? Knox legacy workspace articles Using SSO with a Common Access Card (CAC) in the Work Profile How many certificates can be stored in the Knox platform TrustZone? Accessing Knox Workspace without connecting to Active Directory network Unlocking the Knox Workspace container using Active Directory credentials What is the certificate length limit in the Knox CCM keystore? Can I create an RSA Key Pair on a Knox Platform for Enterprise device? Known issues Unable to install Samsung']\n",
      "{'source': 'all_processed_data.json', 'seq_num': 1656, 'title': 'Knox Platform for Enterprise knowledge base articles', 'url': 'https://docs.samsungknox.com/admin/knox-platform-for-enterprise/kbas', 'project': 'KPE', 'last_updated': '2023-11-06', 'family_tree': 'child', 'parent_id': '68f25d59-9349-494b-8820-313a5cfd3cae', 'id': '36124f87-932a-4055-a63c-e7a20d695640'}\n",
      "\n",
      "Score: 0.949831047017143\n",
      "['What version of Knox Platform for Enterprise is running on my device?. The most frequently asked questions about Knox Platform for Enterprise. To find out what version of Knox Platform for Enterprise your device is running, go to: Settings > About Device > Software Information > Knox Version. This is a screenshot of the device menu containing the Knox version. Here, we see that Knox 3.1 is listed under Knox version. #Looking for more information? , See Knox on Android for a list of features available in each release of Knox.']\n",
      "{'source': 'all_processed_data.json', 'seq_num': 1499, 'title': 'What version of Knox Platform for Enterprise is running on my device?', 'url': 'https://docs.samsungknox.com/admin/knox-platform-for-enterprise/faq/#what-version-of-knox-platform-for-enterprise-is-running-on-my-device', 'project': 'KPE', 'last_updated': '2023-07-26', 'family_tree': 'child', 'parent_id': '16d696e1-63ff-4af5-85f9-2afb9e65b46f', 'id': 'b7a97e5b-50ac-414b-8327-b5878925b211'}\n",
      "\n",
      "Score: 0.9353481051484632\n",
      "['. XCover/Active key settings - Select what happens when the device user presses the XCover key. The options available are: Application launch, Intent broadcasting, or MS Teams. When you select Application launch or Intent broadcasting, the screen refreshes to show fields that allow you to customize what happens when the key is pressed. Top key settings - Select what happens when the device user presses the top key. Use the fields under this heading to customize what happens when the key is pressed. Side key settings - Select what happens when the device user presses the side key. Use the fields under this heading to customize what happens when the key is pressed. You can specify that launching an app requires a double press. 6. On the General configuration screen, configure the following settings, and then click Continue: NFC settings - Set whether you want to enable the use of Near Field Communication (NFC) apps on the device']\n",
      "{'source': 'all_processed_data.json', 'seq_num': 1368, 'title': 'Setup and config for admins', 'url': 'https://docs.samsungknox.com/admin/knox-mobile-enrollment/on-premise/get-started/setup-and-config-for-admins', 'project': 'KME', 'last_updated': '2023-10-30', 'family_tree': 'child', 'parent_id': '057fa946-cb5d-443d-909b-aea7fd2581c4', 'id': '5049f793-7fef-4e9d-a831-0dbdd53b3035'}\n",
      "\n",
      "Score: 0.9103228393401687\n",
      "['What do you mean by \\'backed by the hardware-based Knox platform security\\'?. The most frequently asked questions about Knox Platform for Enterprise. Knox Workspace leverages and extends the security features of the underlying Knox platform, which is built into Samsung smartphones, tablets, and other devices. The Knox platform leverages a \"completely isolated\" hardware region called TrustZone where cryptographic keys are stored, and this area is completely impervious to attack and inaccessible. That\\'s what Samsung means by \"hardware-based\" security. If the device is ever compromised, Knox Workspace is permanently locked because the encryption key for Workspace will never be retrievable from the HW chipset where the key has been stored. Data inside Knox Workspace becomes completely inaccessible, and enterprises keep their important data from being lost or stolen.']\n",
      "{'source': 'all_processed_data.json', 'seq_num': 1514, 'title': \"What do you mean by 'backed by the hardware-based Knox platform security'?\", 'url': 'https://docs.samsungknox.com/admin/knox-platform-for-enterprise/faq/#what-do-you-mean-by-backed-by-the-hardware-based-knox-platform-security', 'project': 'KPE', 'last_updated': '2023-07-26', 'family_tree': 'child', 'parent_id': '4877e82d-df91-4903-965d-e2a40de0adf3', 'id': '8f573de6-2fba-4ff3-8eab-a06108993039'}\n",
      "None\n",
      "##############################\n",
      "similar_docs_without_reranker\n",
      "##############################\n",
      "\n",
      "Score: 0.008360655737704918\n",
      "['What is Knox Suite?. Knox Suite is a bundled offering designed to help enterprise IT admins better manage your fleet of devices. It includes individual services such as Knox Platform for Enterprise, Knox Mobile Enrollment, Knox Manage, Knox E-FOTA, and Knox Asset Intelligence. Key features of Knox Suite include: Secure - Ensure your business data is protected with managed security features at your control. Deploy - Enroll corporate devices to EMM automatically and securely, right out of the box. Manage - Enable comprehensive management over corporate devices and OS versions. Analyze - Strengthen in-depth device analytics for mobile productivity and asset management.']\n",
      "{'source': 'all_processed_data.json', 'seq_num': 133, 'title': ' What is Knox Suite?', 'url': 'https://docs.samsungknox.com/admin/knox-suite/faq/#what-is-knox-suite', 'project': 'KS', 'last_updated': '2023-07-26', 'family_tree': 'child', 'parent_id': 'bafc1624-0e62-4e37-b9cf-e73865c15fa5', 'id': '924dde75-dc1a-4b44-8147-de8967c2087e'}\n",
      "\n",
      "Score: 0.008225806451612904\n",
      "['Knox Suite. Knox Suite is a bundled offering of Knox solutions for enterprise mobility designed to address organizations\\' needs related to security and management throughout the entire device lifecycle. Learn more about Knox Suite #Audience This document is intended for IT Admins. Understand what\\'s included in Knox Suite and how you can use it to manage, secure, and maintain enterprise devices. Learn where to find information on how to perform various tasks with Knox\"Suite services. About Knox Suite Knox Suite is a bundled offering that includes the following Knox products: Knox Platform for Enterprise - A Knox solution that provides military-grade security to Samsung Android phones, tablets, and Tizen watches for business. Knox Mobile Enrollment - A Knox solution that allows you to enroll thousands of Samsung devices in your EMM at once. When used with a Knox Suite license, Knox Mobile Enrollment provides advanced profiles that offer IT admins additional features such as higher control over locking devices']\n",
      "{'source': 'all_processed_data.json', 'seq_num': 124, 'title': 'Knox Suite', 'url': 'https://docs.samsungknox.com/admin/knox-suite', 'project': 'KS', 'last_updated': '2023-07-26', 'family_tree': 'child', 'parent_id': '444cfe6b-b9ea-4fa9-862b-7b96c7b2035f', 'id': '45a6d65d-b0b3-462d-85b9-49c863dc542d'}\n",
      "\n",
      "Score: 0.008095238095238095\n",
      "['Knox Manage. Knox Manage is a mobile device management (MDM) solution that provides a cloud-based command center with almost 300 enterprise policies to empower IT admins to remotely track, manage, configure, and send messages to devices. This solution can manage any Android, iOS, or Windows 10 or Windows 11 device, but for maximum security, we recommend Samsung Galaxy devices integrated with the Knox platform. Try for free Audience This document is intended for: IT Admins - Enterprise IT Admins can learn how to get started with Knox Manage, dive deep into the comprehensive features, and learn how to configure and monitor devices and apps. Try the solution Bulk enroll devices so that they use Knox Manage right out-of-the box. Define enterprise groups and profiles. Configure device features and settings. Deploy, update apps, or add them to the allowlist. Create simple device kiosks. Learn how now']\n",
      "{'source': 'all_processed_data.json', 'seq_num': 967, 'title': 'Knox Manage', 'url': 'https://docs.samsungknox.com/admin/knox-manage/introduction/about-knox-manage', 'project': 'KM', 'last_updated': '2023-07-26', 'family_tree': 'child', 'parent_id': 'd17f552f-5284-45d4-b923-4d0b8b619583', 'id': 'cc468816-6fc8-4a27-9632-56e477407404'}\n",
      "\n",
      "Score: 0.008032786885245903\n",
      "[\"Overview. Get started with the basics by learning what Knox Capture is and how it works. What is Knox Capture? To help explain what Knox Capture does, it may be helpful to start with an understanding of what a *wedge* scanner is, and how it relates to the Knox Capture solution. In traditional hardware-based barcode scanning terminology, a wedge scanner is a physical device that attaches between a keyboard and a computer. The keyboard attaches to the scanner, and the scanner attaches to the computer. From the computer's perspective, the scanner behaves just like an additional keyboard. When the computer runs a software program (like an inventory spreadsheet app), and barcodes are read using the wedge scanner, data is sent from the scanner to the program in the form of keystrokes. From the program's point of view, data appears exactly as if someone had typed it manually using a keyboard. How Knox Capture works In a similar way, Knox Capture also acts as a wedge between a software program and keyboard\"]\n",
      "{'source': 'all_processed_data.json', 'seq_num': 558, 'title': 'Overview', 'url': 'https://docs.samsungknox.com/admin/knox-capture/overview', 'project': 'KCAP', 'last_updated': '2023-07-26', 'family_tree': 'child', 'parent_id': '9d3fdddf-7743-4ba4-aced-5b50494e41d0', 'id': '30a9bc92-5fda-4369-af4c-847b6ddeb0f6'}\n",
      "\n",
      "Score: 0.00796875\n",
      "[\"Knox Configure. Knox Configure is a cloud-based service that empowers enterprises to customize and automate the enrollment of Samsung devices purchased from authorized Samsung resellers. Knox Configure simplifies the out-of-box experience and enables a large range of configuration options. Try for free Audience This document is intended for: IT Admins - Admins create profiles with the device settings, restrictions, apps, and other content to deploy to groups of devices. After devices have been successfully enrolled in the enterprise, they receive the Knox Configure device profile via a Wi-Fi or mobile data connection. Resellers - Resellers bulk upload devices on behalf of requesting customers. Try the solution Promote and embed company branding, including animated boot screens and personalized business apps. Use this guide to apply data access restrictions as needed based on your organization's application update, notification and URL requirements\"]\n",
      "{'source': 'all_processed_data.json', 'seq_num': 362, 'title': 'Knox Configure', 'url': 'https://docs.samsungknox.com/admin/knox-configure', 'project': 'KC', 'last_updated': '2023-07-26', 'family_tree': 'child', 'parent_id': '9d776a16-6a28-446a-ab4a-f67145473ab6', 'id': 'db26e907-bbd3-45cf-b946-5d79b4628bd2'}\n",
      "\n",
      "Score: 0.007903225806451612\n",
      "['Wi-Fi Enhanced Roaming Algorithm File-based encryption (FBE) and full-disk encryption (FDE) What policy do I use to block users from adding additional accounts on the device? \"Network may be monitored\" shown after installing a private CA certificate on device Does the Samsung email client support \"opaque signed\" emails? Can a network operator configure an E_APN on an employee\\'s device? If two similar Knox policies are applied to a device with an MDM, which one takes precedence? Should the Knox VPN client be installed inside or outside the Knox container? What are the package names for the Samsung Cisco AnyConnect and Juniper VPN clients? What is the minimum level of unlock method required to install a certificate in Android credential storage? What is the proper way to wildcard APK package names? Which servers do EMMs need to communicate with in order to conduct device attestation? What is the order of precedence for firewall rules? What URLs do I have to add to an allowlist to make Samsung apps work with an']\n",
      "{'source': 'all_processed_data.json', 'seq_num': 1656, 'title': 'Knox Platform for Enterprise knowledge base articles', 'url': 'https://docs.samsungknox.com/admin/knox-platform-for-enterprise/kbas', 'project': 'KPE', 'last_updated': '2023-11-06', 'family_tree': 'child', 'parent_id': '68f25d59-9349-494b-8820-313a5cfd3cae', 'id': '90beed07-fc27-4a14-9556-81da2ed95a86'}\n",
      "\n",
      "Score: 0.007846153846153846\n",
      "[\"The Samsung Knox platform. Samsung Knox brings defense-grade security on the most popular consumer devices to all enterprises. The Knox Platform provides best-in-class hardware-based security, policy management, and compliance capabilities beyond the standard features commonplace in today's mobile device market. The Knox Platform is the cornerstone of a strong mobile security strategy supporting a wide variety of Samsung devices. Why use Samsung Knox? The Knox Platform helps you and your enterprise avoid the security gaps common on many mobile platforms. Knox received *strong* ratings in 25 of 28 categories in Gartner's December 2017 Mobile OSs and Device Security: A Comparison of Platforms and has received strong ratings for the last three years in a row. The Knox Platform's security hardening supports every aspect of mobile device operation. The Knox Platform enables trust in your mobile endpoints with advanced features like the evolutionary Knox Vault to the patented Real-Time Kernel Protection\"]\n",
      "{'source': 'all_processed_data.json', 'seq_num': 168, 'title': 'The Samsung Knox platform', 'url': 'https://docs.samsungknox.com/admin/fundamentals/whitepaper/the-samsung-knox-platform', 'project': 'USP', 'last_updated': '2023-07-26', 'family_tree': 'child', 'parent_id': 'e0c73a9d-25bf-44de-94ee-6c56e1e103c7', 'id': '7c08a196-2f50-4f0e-9024-2355b1ae62f7'}\n",
      "None\n",
      "##############################\n",
      "similar_docs\n",
      "##############################\n",
      "\n",
      "Score: 0.9306533932685852\n",
      "['What is Knox Suite?. Knox Suite is a bundled offering designed to help enterprise IT admins better manage your fleet of devices. It includes individual services such as Knox Platform for Enterprise, Knox Mobile Enrollment, Knox Manage, Knox E-FOTA, and Knox Asset Intelligence. Key features of Knox Suite include: Secure - Ensure your business data is protected with managed security features at your control. Deploy - Enroll corporate devices to EMM automatically and securely, right out of the box. Manage - Enable comprehensive management over corporate devices and OS versions. Analyze - Strengthen in-depth device analytics for mobile productivity and asset management.']\n",
      "{'source': 'all_processed_data.json', 'seq_num': 133, 'title': ' What is Knox Suite?', 'url': 'https://docs.samsungknox.com/admin/knox-suite/faq/#what-is-knox-suite', 'project': 'KS', 'last_updated': '2023-07-26', 'family_tree': 'parent', 'parent_id': None}\n",
      "\n",
      "Score: 0.8687121868133545\n",
      "[\"Knox Manage. Knox Manage is a mobile device management (MDM) solution that provides a cloud-based command center with almost 300 enterprise policies to empower IT admins to remotely track, manage, configure, and send messages to devices. This solution can manage any Android, iOS, or Windows 10 or Windows 11 device, but for maximum security, we recommend Samsung Galaxy devices integrated with the Knox platform. Try for free Audience This document is intended for: IT Admins - Enterprise IT Admins can learn how to get started with Knox Manage, dive deep into the comprehensive features, and learn how to configure and monitor devices and apps. Try the solution Bulk enroll devices so that they use Knox Manage right out-of-the box. Define enterprise groups and profiles. Configure device features and settings. Deploy, update apps, or add them to the allowlist. Create simple device kiosks. Learn how now. Start tutorial About Knox Manage With Knox Manage, IT admins can effectively monitor and manage employee devices with enhanced flexibility and granularity. #Components of Knox Manage 1. Knox Manage console - A web console that allows IT admins to configure, monitor, and manage devices, deploy updates, as well as manage certificates and licenses. 2. Knox Manage MDM Client - An app that is installed on devices to automate installation and enrollment to Knox Manage. 3. Knox Manage Cloud Connector - A service that creates a secure channel for data transfer between your enterprise system and the Knox Manage cloud server. 4. Certificate Authority (CA) - An authority that generates certificates to authenticate devices and users with services such as Wi-Fi, VPN, Exchange, APN, and so on. 5. Active Directory - A Lightweight Directory Access Protocol (LDAP) service that provides access to a customer's directory-based user information. Use cases Knox Manage allows IT admins to efficiently and securely manage a fleet of enterprise devices. With Knox Manage, enterprise admins can benefit from the following main features: Quick and easy deployment Deploy and enroll multiple users with minimal steps. Set up multiple users intuitively with Bulk Add. Automate installation and enrollment with the MDM service client. Create diverse professional kiosks with Knox Manage. Robust management Control a fleet of devices in real-time with precision. Manage multi-OS devices from the Knox Manage console. Apply specific policies based on pre-defined user event scenarios. Leverage Knox-differentiated features on Samsung devices. Comprehensive control Maintain granular control of mobile devices. A list of OS update versions at your disposal. Troubleshoot and maintain devices remotely. Track device locations in real time. Verify device compliance status in an instance. Key Features For a comprehensive list of features, see the Knox features on Android for Knox Manage.\"]\n",
      "{'source': 'all_processed_data.json', 'seq_num': 967, 'title': 'Knox Manage', 'url': 'https://docs.samsungknox.com/admin/knox-manage/introduction/about-knox-manage', 'project': 'KM', 'last_updated': '2023-07-26', 'family_tree': 'parent', 'parent_id': None}\n",
      "\n",
      "Score: 0.65848708152771\n",
      "['Knox Suite. Knox Suite is a bundled offering of Knox solutions for enterprise mobility designed to address organizations\\' needs related to security and management throughout the entire device lifecycle. Learn more about Knox Suite #Audience This document is intended for IT Admins. Understand what\\'s included in Knox Suite and how you can use it to manage, secure, and maintain enterprise devices. Learn where to find information on how to perform various tasks with Knox\"Suite services. About Knox Suite Knox Suite is a bundled offering that includes the following Knox products: Knox Platform for Enterprise - A Knox solution that provides military-grade security to Samsung Android phones, tablets, and Tizen watches for business. Knox Mobile Enrollment - A Knox solution that allows you to enroll thousands of Samsung devices in your EMM at once. When used with a Knox Suite license, Knox Mobile Enrollment provides advanced profiles that offer IT admins additional features such as higher control over locking devices. Knox Manage - A Knox solution that allows you to remotely manage your fleet of mobile devices. With this EMM, you create various policies to control how users can use their devices. Knox Asset Intelligence - A data analytics solution that offers operational visibility and actionable insights to improve the management, productivity, and lifecycle of mobile devices. This solution offers real-time monitoring and management of app performance, battery usage, network connectivity, and asset location. Knox E-FOTA - A Knox solution that allows you to remotely deploy OS and security updates to your devices without requiring user interaction. With Knox E-FOTA, you create a campaign, specify the campaign period, assign devices to that campaign, and select the firmware update to be pushed to those devices during the campaign period. Knox Capture - An Android solution that lets users transform their Samsung Galaxy smartphones and tablets into powerful barcode scanners that can read, process, and output barcode information to other applications, all without requiring additional hardware or writing a single line of code. Knox Authentication Manager - A managed Android app for shared Samsung devices that provides multiuser facial biometrics and sign-in automation for increased frontline worker productivity and safety. With Knox Suite, a single license key allows you to use all included Knox products on your devices. This means that you can use the same Knox Suite license key in multiple Knox service admin portals. Benefits of Knox Suite 1. All-in-one Knox B2B package - An end-to-end solution that covers every step of your enterprise mobility journey 2. Simplified license management - You only need one license key to use all included products. 3. Streamlined onboarding process - Register once and gain access to all included Knox products. 4. Seamless IT admin user experience - IT admin can easily access bundled Knox consoles through single sign-on. To get started, click here.']\n",
      "{'source': 'all_processed_data.json', 'seq_num': 124, 'title': 'Knox Suite', 'url': 'https://docs.samsungknox.com/admin/knox-suite', 'project': 'KS', 'last_updated': '2023-07-26', 'family_tree': 'parent', 'parent_id': None}\n",
      "\n",
      "Score: 0.6129065752029419\n",
      "[\"The Samsung Knox platform. Samsung Knox brings defense-grade security on the most popular consumer devices to all enterprises. The Knox Platform provides best-in-class hardware-based security, policy management, and compliance capabilities beyond the standard features commonplace in today's mobile device market. The Knox Platform is the cornerstone of a strong mobile security strategy supporting a wide variety of Samsung devices. Why use Samsung Knox? The Knox Platform helps you and your enterprise avoid the security gaps common on many mobile platforms. Knox received *strong* ratings in 25 of 28 categories in Gartner's December 2017 Mobile OSs and Device Security: A Comparison of Platforms and has received strong ratings for the last three years in a row. The Knox Platform's security hardening supports every aspect of mobile device operation. The Knox Platform enables trust in your mobile endpoints with advanced features like the evolutionary Knox Vault to the patented Real-Time Kernel Protection . The Knox Platform ensures IT admins can securely bulk deploy the best mobile device hardware, and quickly integrate with existing business infrastructure and apps. #Key benefits for enterprises , Easily meet your organization's security and compliance requirements by providing solid platform integrity, strong data protection, and fine-grained policy enforcement. Seamlessly activate and manage Knox Platform features through an Enterprise Mobility Management (EMM) system. Flexibly support infrastructure, deployment, and management requirements through centralized remote device control, advanced VPN management, allowing and blocking apps, and granular policies that control all aspects of Samsung devices. Effortlessly upgrade from Android Enterprise, leveraging a comprehensive set of Knox Platform benefits without affecting existing deployments. Securely deploy the innovative Samsung Desktop Experience (DeX) in new work environments, unifying mobile and desktop computing on one device. The Knox Platform's cutting-edge security technology continues to be widely adopted and proven by numerous government, security, and financial agencies throughout the world. Samsung continually works with global government organizations and international regulatory bodies to meet a wide range of certification requirements designed to protect public safety and consumer privacy. Knox Platform highlights The Knox Platform provides a robust set of features to fill security and management gaps, resolve pain points identified by enterprises, and meet the strict requirements of highly regulated industries. Key strengths include the following: For a quick overview of these features, see Feature summary. Security highlights The following sections describe how the Knox Platform provides an industry-leading ecosystem of products and services to secure and ease mobile device management. Hardware-backed security The Knox Platform defends against security threats and protects enterprise data through layers of security built on top of a hardware-backed trusted environment. Trusted of the Knox Platform's security features and how they can resolve common enterprise mobile deployment pain points. The document focuses on the unique abilities of the Knox Platform. For information about other features, see the Samsung Knox website.\"]\n",
      "{'source': 'all_processed_data.json', 'seq_num': 168, 'title': 'The Samsung Knox platform', 'url': 'https://docs.samsungknox.com/admin/fundamentals/whitepaper/the-samsung-knox-platform', 'project': 'USP', 'last_updated': '2023-07-26', 'family_tree': 'parent', 'parent_id': None}\n",
      "\n",
      "Score: 0.5416658520698547\n",
      "[\"Knox Configure. Knox Configure is a cloud-based service that empowers enterprises to customize and automate the enrollment of Samsung devices purchased from authorized Samsung resellers. Knox Configure simplifies the out-of-box experience and enables a large range of configuration options. Try for free Audience This document is intended for: IT Admins - Admins create profiles with the device settings, restrictions, apps, and other content to deploy to groups of devices. After devices have been successfully enrolled in the enterprise, they receive the Knox Configure device profile via a Wi-Fi or mobile data connection. Resellers - Resellers bulk upload devices on behalf of requesting customers. Try the solution Promote and embed company branding, including animated boot screens and personalized business apps. Use this guide to apply data access restrictions as needed based on your organization's application update, notification and URL requirements. Start tutorial About Knox Configure Knox Configure is available in separate editions: Setup edition Setup edition supports one-time configuration of enrolled devices and settings. To change a device configuration after initial policies are set, devices must be factory resettled and new policies must be re-applied. Setup edition includes a select subset of the policies and settings available in the Dynamic edition's normal mode. Dynamic edition Knox Configure Dynamic edition allows you to deploy and update enrolled device policies as many times as needed without a factory reset. Supported features include ProKiosk mode, Enterprise Billing, Knox Shared Devices and numerous other enhancements. Dynamic edition includes all the policies and settings available in the Setup edition, plus many more. Prerequisites Following prerequisites must be satisfied to use Knox Configure: Knox Configure portal doesn't support these special characters: \\\\# / $ \\\\* % ^ & \\\\\\\\ ( ) + ? [ ] Ensure they are not used when inputting characters into the portal. 1. Supported phones, tablets or wearable devices purchased from a participating reseller in the Knox Deployment Program. If you are not sure whether your reseller is participating in the program, contact the reseller or a Samsung Sales Representative for more information. 2. The appropriate Knox licenses purchased from a Knox Reseller (for commercial deployment). 3. A Knox account. For more information, see Sign up for Knox Configure. 4. The correct firewall exemptions needed to extend beyond your local and protected network domain and securely connect to the Knox Configure server. For more information, see Knox Configure firewall exceptions. 5. A supported browser (Edge, Firefox, or Chrome). The deployment process Using a web-based console, IT admins create profiles with the device settings, restrictions, apps, and other content to be deployed to groups of devices. After devices have been successfully enrolled in the enterprise, they receive device profiles via Wi-Fi or mobile data. This image below outlines the Knox Configure deployment process flow: Once a profile is configured, it can be assigned to specific Knox Configure managed devices. Device assignment is the final step in the configuration process, though devices can be locked by carriers and resellers post deployment. For more information, see Assign and deploy a profile to device. Device states Devices that are submitted to Knox Configure progress through the following states when assigned profiles and configurations are pushed to the device: For information on a selected device's unique device details and device log, see Device details and logs. Unassigned - The device is uploaded to Knox Configure, but there are no profiles yet assigned or a previously applied profile has been unassigned. Profile assigned - A profile was assigned to the device, but the device is yet to be configured. For example, the device may not have been powered on since a profile has been assigned\"]\n",
      "{'source': 'all_processed_data.json', 'seq_num': 362, 'title': 'Knox Configure', 'url': 'https://docs.samsungknox.com/admin/knox-configure', 'project': 'KC', 'last_updated': '2023-07-26', 'family_tree': 'parent', 'parent_id': None}\n",
      "None\n",
      "\n",
      "==========  Results  ==========\n",
      "\n",
      "1. question: What is knox?\n",
      "2. # documents: 5\n",
      "3. Documents: \n",
      "\n",
      "\n",
      "-----------------------------------------------\n",
      "1. Chunk: 674 Characters\n",
      "-----------------------------------------------\n",
      "What is Knox Suite?. Knox Suite is a bundled offering designed to help enterprise IT admins better\n",
      "manage your fleet of devices. It includes individual services such as Knox Platform for Enterprise,\n",
      "Knox Mobile Enrollment, Knox Manage, Knox E-FOTA, and Knox Asset Intelligence. Key features of Knox\n",
      "Suite include: Secure - Ensure your business data is protected with managed security features at\n",
      "your control. Deploy - Enroll corporate devices to EMM automatically and securely, right out of the\n",
      "box. Manage - Enable comprehensive management over corporate devices and OS versions. Analyze -\n",
      "Strengthen in-depth device analytics for mobile productivity and asset management.\n",
      "metadata:\n",
      " {'source': 'all_processed_data.json', 'seq_num': 133, 'title': ' What is Knox Suite?', 'url':\n",
      "'https://docs.samsungknox.com/admin/knox-suite/faq/#what-is-knox-suite', 'project': 'KS',\n",
      "'last_updated': '2023-07-26', 'family_tree': 'parent', 'parent_id': None, 'orig_elements': ''}\n",
      "\n",
      "-----------------------------------------------\n",
      "2. Chunk: 2878 Characters\n",
      "-----------------------------------------------\n",
      "Knox Manage. Knox Manage is a mobile device management (MDM) solution that provides a cloud-based\n",
      "command center with almost 300 enterprise policies to empower IT admins to remotely track, manage,\n",
      "configure, and send messages to devices. This solution can manage any Android, iOS, or Windows 10 or\n",
      "Windows 11 device, but for maximum security, we recommend Samsung Galaxy devices integrated with the\n",
      "Knox platform. Try for free Audience This document is intended for: IT Admins - Enterprise IT Admins\n",
      "can learn how to get started with Knox Manage, dive deep into the comprehensive features, and learn\n",
      "how to configure and monitor devices and apps. Try the solution Bulk enroll devices so that they use\n",
      "Knox Manage right out-of-the box. Define enterprise groups and profiles. Configure device features\n",
      "and settings. Deploy, update apps, or add them to the allowlist. Create simple device kiosks. Learn\n",
      "how now. Start tutorial About Knox Manage With Knox Manage, IT admins can effectively monitor and\n",
      "manage employee devices with enhanced flexibility and granularity. #Components of Knox Manage 1.\n",
      "Knox Manage console - A web console that allows IT admins to configure, monitor, and manage devices,\n",
      "deploy updates, as well as manage certificates and licenses. 2. Knox Manage MDM Client - An app that\n",
      "is installed on devices to automate installation and enrollment to Knox Manage. 3. Knox Manage Cloud\n",
      "Connector - A service that creates a secure channel for data transfer between your enterprise system\n",
      "and the Knox Manage cloud server. 4. Certificate Authority (CA) - An authority that generates\n",
      "certificates to authenticate devices and users with services such as Wi-Fi, VPN, Exchange, APN, and\n",
      "so on. 5. Active Directory - A Lightweight Directory Access Protocol (LDAP) service that provides\n",
      "access to a customer's directory-based user information. Use cases Knox Manage allows IT admins to\n",
      "efficiently and securely manage a fleet of enterprise devices. With Knox Manage, enterprise admins\n",
      "can benefit from the following main features: Quick and easy deployment Deploy and enroll multiple\n",
      "users with minimal steps. Set up multiple users intuitively with Bulk Add. Automate installation and\n",
      "enrollment with the MDM service client. Create diverse professional kiosks with Knox Manage. Robust\n",
      "management Control a fleet of devices in real-time with precision. Manage multi-OS devices from the\n",
      "Knox Manage console. Apply specific policies based on pre-defined user event scenarios. Leverage\n",
      "Knox-differentiated features on Samsung devices. Comprehensive control Maintain granular control of\n",
      "mobile devices. A list of OS update versions at your disposal. Troubleshoot and maintain devices\n",
      "remotely. Track device locations in real time. Verify device compliance status in an instance. Key\n",
      "Features For a comprehensive list of features, see the Knox features on Android for Knox Manage.\n",
      "metadata:\n",
      " {'source': 'all_processed_data.json', 'seq_num': 967, 'title': 'Knox Manage', 'url':\n",
      "'https://docs.samsungknox.com/admin/knox-manage/introduction/about-knox-manage', 'project': 'KM',\n",
      "'last_updated': '2023-07-26', 'family_tree': 'parent', 'parent_id': None, 'orig_elements': ''}\n",
      "\n",
      "-----------------------------------------------\n",
      "3. Chunk: 3018 Characters\n",
      "-----------------------------------------------\n",
      "Knox Suite. Knox Suite is a bundled offering of Knox solutions for enterprise mobility designed to\n",
      "address organizations' needs related to security and management throughout the entire device\n",
      "lifecycle. Learn more about Knox Suite #Audience This document is intended for IT Admins. Understand\n",
      "what's included in Knox Suite and how you can use it to manage, secure, and maintain enterprise\n",
      "devices. Learn where to find information on how to perform various tasks with Knox\"Suite services.\n",
      "About Knox Suite Knox Suite is a bundled offering that includes the following Knox products: Knox\n",
      "Platform for Enterprise - A Knox solution that provides military-grade security to Samsung Android\n",
      "phones, tablets, and Tizen watches for business. Knox Mobile Enrollment - A Knox solution that\n",
      "allows you to enroll thousands of Samsung devices in your EMM at once. When used with a Knox Suite\n",
      "license, Knox Mobile Enrollment provides advanced profiles that offer IT admins additional features\n",
      "such as higher control over locking devices. Knox Manage - A Knox solution that allows you to\n",
      "remotely manage your fleet of mobile devices. With this EMM, you create various policies to control\n",
      "how users can use their devices. Knox Asset Intelligence - A data analytics solution that offers\n",
      "operational visibility and actionable insights to improve the management, productivity, and\n",
      "lifecycle of mobile devices. This solution offers real-time monitoring and management of app\n",
      "performance, battery usage, network connectivity, and asset location. Knox E-FOTA - A Knox solution\n",
      "that allows you to remotely deploy OS and security updates to your devices without requiring user\n",
      "interaction. With Knox E-FOTA, you create a campaign, specify the campaign period, assign devices to\n",
      "that campaign, and select the firmware update to be pushed to those devices during the campaign\n",
      "period. Knox Capture - An Android solution that lets users transform their Samsung Galaxy\n",
      "smartphones and tablets into powerful barcode scanners that can read, process, and output barcode\n",
      "information to other applications, all without requiring additional hardware or writing a single\n",
      "line of code. Knox Authentication Manager - A managed Android app for shared Samsung devices that\n",
      "provides multiuser facial biometrics and sign-in automation for increased frontline worker\n",
      "productivity and safety. With Knox Suite, a single license key allows you to use all included Knox\n",
      "products on your devices. This means that you can use the same Knox Suite license key in multiple\n",
      "Knox service admin portals. Benefits of Knox Suite 1. All-in-one Knox B2B package - An end-to-end\n",
      "solution that covers every step of your enterprise mobility journey 2. Simplified license management\n",
      "- You only need one license key to use all included products. 3. Streamlined onboarding process -\n",
      "Register once and gain access to all included Knox products. 4. Seamless IT admin user experience -\n",
      "IT admin can easily access bundled Knox consoles through single sign-on. To get started, click here.\n",
      "metadata:\n",
      " {'source': 'all_processed_data.json', 'seq_num': 124, 'title': 'Knox Suite', 'url':\n",
      "'https://docs.samsungknox.com/admin/knox-suite', 'project': 'KS', 'last_updated': '2023-07-26',\n",
      "'family_tree': 'parent', 'parent_id': None, 'orig_elements': ''}\n",
      "\n",
      "-----------------------------------------------\n",
      "4. Chunk: 3344 Characters\n",
      "-----------------------------------------------\n",
      "The Samsung Knox platform. Samsung Knox brings defense-grade security on the most popular consumer\n",
      "devices to all enterprises. The Knox Platform provides best-in-class hardware-based security, policy\n",
      "management, and compliance capabilities beyond the standard features commonplace in today's mobile\n",
      "device market. The Knox Platform is the cornerstone of a strong mobile security strategy supporting\n",
      "a wide variety of Samsung devices. Why use Samsung Knox? The Knox Platform helps you and your\n",
      "enterprise avoid the security gaps common on many mobile platforms. Knox received *strong* ratings\n",
      "in 25 of 28 categories in Gartner's December 2017 Mobile OSs and Device Security: A Comparison of\n",
      "Platforms and has received strong ratings for the last three years in a row. The Knox Platform's\n",
      "security hardening supports every aspect of mobile device operation. The Knox Platform enables trust\n",
      "in your mobile endpoints with advanced features like the evolutionary Knox Vault to the patented\n",
      "Real-Time Kernel Protection . The Knox Platform ensures IT admins can securely bulk deploy the best\n",
      "mobile device hardware, and quickly integrate with existing business infrastructure and apps. #Key\n",
      "benefits for enterprises , Easily meet your organization's security and compliance requirements by\n",
      "providing solid platform integrity, strong data protection, and fine-grained policy enforcement.\n",
      "Seamlessly activate and manage Knox Platform features through an Enterprise Mobility Management\n",
      "(EMM) system. Flexibly support infrastructure, deployment, and management requirements through\n",
      "centralized remote device control, advanced VPN management, allowing and blocking apps, and granular\n",
      "policies that control all aspects of Samsung devices. Effortlessly upgrade from Android Enterprise,\n",
      "leveraging a comprehensive set of Knox Platform benefits without affecting existing deployments.\n",
      "Securely deploy the innovative Samsung Desktop Experience (DeX) in new work environments, unifying\n",
      "mobile and desktop computing on one device. The Knox Platform's cutting-edge security technology\n",
      "continues to be widely adopted and proven by numerous government, security, and financial agencies\n",
      "throughout the world. Samsung continually works with global government organizations and\n",
      "international regulatory bodies to meet a wide range of certification requirements designed to\n",
      "protect public safety and consumer privacy. Knox Platform highlights The Knox Platform provides a\n",
      "robust set of features to fill security and management gaps, resolve pain points identified by\n",
      "enterprises, and meet the strict requirements of highly regulated industries. Key strengths include\n",
      "the following: For a quick overview of these features, see Feature summary. Security highlights The\n",
      "following sections describe how the Knox Platform provides an industry-leading ecosystem of products\n",
      "and services to secure and ease mobile device management. Hardware-backed security The Knox Platform\n",
      "defends against security threats and protects enterprise data through layers of security built on\n",
      "top of a hardware-backed trusted environment. Trusted of the Knox Platform's security features and\n",
      "how they can resolve common enterprise mobile deployment pain points. The document focuses on the\n",
      "unique abilities of the Knox Platform. For information about other features, see the Samsung Knox\n",
      "website.\n",
      "metadata:\n",
      " {'source': 'all_processed_data.json', 'seq_num': 168, 'title': 'The Samsung Knox platform', 'url':\n",
      "'https://docs.samsungknox.com/admin/fundamentals/whitepaper/the-samsung-knox-platform', 'project':\n",
      "'USP', 'last_updated': '2023-07-26', 'family_tree': 'parent', 'parent_id': None, 'orig_elements':\n",
      "''}\n",
      "\n",
      "-----------------------------------------------\n",
      "5. Chunk: 3974 Characters\n",
      "-----------------------------------------------\n",
      "Knox Configure. Knox Configure is a cloud-based service that empowers enterprises to customize and\n",
      "automate the enrollment of Samsung devices purchased from authorized Samsung resellers. Knox\n",
      "Configure simplifies the out-of-box experience and enables a large range of configuration options.\n",
      "Try for free Audience This document is intended for: IT Admins - Admins create profiles with the\n",
      "device settings, restrictions, apps, and other content to deploy to groups of devices. After devices\n",
      "have been successfully enrolled in the enterprise, they receive the Knox Configure device profile\n",
      "via a Wi-Fi or mobile data connection. Resellers - Resellers bulk upload devices on behalf of\n",
      "requesting customers. Try the solution Promote and embed company branding, including animated boot\n",
      "screens and personalized business apps. Use this guide to apply data access restrictions as needed\n",
      "based on your organization's application update, notification and URL requirements. Start tutorial\n",
      "About Knox Configure Knox Configure is available in separate editions: Setup edition Setup edition\n",
      "supports one-time configuration of enrolled devices and settings. To change a device configuration\n",
      "after initial policies are set, devices must be factory resettled and new policies must be re-\n",
      "applied. Setup edition includes a select subset of the policies and settings available in the\n",
      "Dynamic edition's normal mode. Dynamic edition Knox Configure Dynamic edition allows you to deploy\n",
      "and update enrolled device policies as many times as needed without a factory reset. Supported\n",
      "features include ProKiosk mode, Enterprise Billing, Knox Shared Devices and numerous other\n",
      "enhancements. Dynamic edition includes all the policies and settings available in the Setup edition,\n",
      "plus many more. Prerequisites Following prerequisites must be satisfied to use Knox Configure: Knox\n",
      "Configure portal doesn't support these special characters: \\# / $ \\* % ^ & \\\\ ( ) + ? [ ] Ensure\n",
      "they are not used when inputting characters into the portal. 1. Supported phones, tablets or\n",
      "wearable devices purchased from a participating reseller in the Knox Deployment Program. If you are\n",
      "not sure whether your reseller is participating in the program, contact the reseller or a Samsung\n",
      "Sales Representative for more information. 2. The appropriate Knox licenses purchased from a Knox\n",
      "Reseller (for commercial deployment). 3. A Knox account. For more information, see Sign up for Knox\n",
      "Configure. 4. The correct firewall exemptions needed to extend beyond your local and protected\n",
      "network domain and securely connect to the Knox Configure server. For more information, see Knox\n",
      "Configure firewall exceptions. 5. A supported browser (Edge, Firefox, or Chrome). The deployment\n",
      "process Using a web-based console, IT admins create profiles with the device settings, restrictions,\n",
      "apps, and other content to be deployed to groups of devices. After devices have been successfully\n",
      "enrolled in the enterprise, they receive device profiles via Wi-Fi or mobile data. This image below\n",
      "outlines the Knox Configure deployment process flow: Once a profile is configured, it can be\n",
      "assigned to specific Knox Configure managed devices. Device assignment is the final step in the\n",
      "configuration process, though devices can be locked by carriers and resellers post deployment. For\n",
      "more information, see Assign and deploy a profile to device. Device states Devices that are\n",
      "submitted to Knox Configure progress through the following states when assigned profiles and\n",
      "configurations are pushed to the device: For information on a selected device's unique device\n",
      "details and device log, see Device details and logs. Unassigned - The device is uploaded to Knox\n",
      "Configure, but there are no profiles yet assigned or a previously applied profile has been\n",
      "unassigned. Profile assigned - A profile was assigned to the device, but the device is yet to be\n",
      "configured. For example, the device may not have been powered on since a profile has been assigned\n",
      "metadata:\n",
      " {'source': 'all_processed_data.json', 'seq_num': 362, 'title': 'Knox Configure', 'url':\n",
      "'https://docs.samsungknox.com/admin/knox-configure', 'project': 'KC', 'last_updated': '2023-07-26',\n",
      "'family_tree': 'parent', 'parent_id': None, 'orig_elements': ''}\n",
      "CPU times: user 290 ms, sys: 37.6 ms, total: 328 ms\n",
      "Wall time: 733 ms\n"
     ]
    }
   ],
   "source": [
    "%%time\n",
    "search_hybrid_result = opensearch_hybrid_retriever.get_relevant_documents(query)\n",
    "\n",
    "print(\"\\n==========  Results  ==========\\n\")\n",
    "print(f'1. question: {query}')\n",
    "print (f'2. # documents: {len(search_hybrid_result)}')\n",
    "print(\"3. Documents: \\n\")\n",
    "\n",
    "show_context_used(search_hybrid_result)"
   ]
  },
  {
   "cell_type": "markdown",
   "id": "c09221b5-4a6c-463b-9769-35cc8362e33c",
   "metadata": {},
   "source": [
    "- update parameters\n",
    "    - **parent_document=False**"
   ]
  },
  {
   "cell_type": "code",
   "execution_count": 51,
   "id": "b7bb4672-d2b8-4b29-b71c-b06d84bcd470",
   "metadata": {
    "tags": []
   },
   "outputs": [],
   "source": [
    "opensearch_hybrid_retriever.update_search_params(\n",
    "    k=5,\n",
    "    minimum_should_match=0,\n",
    "    #filter=[],\n",
    "    filter=[\n",
    "        #{'term': {'metadata.project': 'KS'}},\n",
    "        #{'term': {'metadata.family_tree': 'child'}},\n",
    "    ],\n",
    "    reranker=True,\n",
    "    reranker_endpoint_name=endpoint_name,\n",
    "    parent_document=False, # enable parent document\n",
    "    verbose=True,\n",
    ")"
   ]
  },
  {
   "cell_type": "code",
   "execution_count": 52,
   "id": "1b9b45b1-cb92-4954-8087-143a550350c8",
   "metadata": {
    "tags": []
   },
   "outputs": [
    {
     "name": "stdout",
     "output_type": "stream",
     "text": [
      "##############################\n",
      "async_mode\n",
      "##############################\n",
      "True\n",
      "##############################\n",
      "reranker\n",
      "##############################\n",
      "True\n",
      "##############################\n",
      "rag_fusion\n",
      "##############################\n",
      "False\n",
      "##############################\n",
      "HyDE\n",
      "##############################\n",
      "False\n",
      "##############################\n",
      "parent_document\n",
      "##############################\n",
      "False\n",
      "##############################\n",
      "complex_document\n",
      "##############################\n",
      "False\n",
      "##############################\n",
      "similar_docs_semantic\n",
      "##############################\n",
      "\n",
      "Score: 1.0\n",
      "['What is Knox Suite?. Knox Suite is a bundled offering designed to help enterprise IT admins better manage your fleet of devices. It includes individual services such as Knox Platform for Enterprise, Knox Mobile Enrollment, Knox Manage, Knox E-FOTA, and Knox Asset Intelligence. Key features of Knox Suite include: Secure - Ensure your business data is protected with managed security features at your control. Deploy - Enroll corporate devices to EMM automatically and securely, right out of the box. Manage - Enable comprehensive management over corporate devices and OS versions. Analyze - Strengthen in-depth device analytics for mobile productivity and asset management.']\n",
      "{'source': 'all_processed_data.json', 'seq_num': 133, 'title': ' What is Knox Suite?', 'url': 'https://docs.samsungknox.com/admin/knox-suite/faq/#what-is-knox-suite', 'project': 'KS', 'last_updated': '2023-07-26', 'family_tree': 'child', 'parent_id': 'bafc1624-0e62-4e37-b9cf-e73865c15fa5', 'id': '924dde75-dc1a-4b44-8147-de8967c2087e'}\n",
      "\n",
      "Score: 0.9679794922739056\n",
      "['Knox Suite. Knox Suite is a bundled offering of Knox solutions for enterprise mobility designed to address organizations\\' needs related to security and management throughout the entire device lifecycle. Learn more about Knox Suite #Audience This document is intended for IT Admins. Understand what\\'s included in Knox Suite and how you can use it to manage, secure, and maintain enterprise devices. Learn where to find information on how to perform various tasks with Knox\"Suite services. About Knox Suite Knox Suite is a bundled offering that includes the following Knox products: Knox Platform for Enterprise - A Knox solution that provides military-grade security to Samsung Android phones, tablets, and Tizen watches for business. Knox Mobile Enrollment - A Knox solution that allows you to enroll thousands of Samsung devices in your EMM at once. When used with a Knox Suite license, Knox Mobile Enrollment provides advanced profiles that offer IT admins additional features such as higher control over locking devices']\n",
      "{'source': 'all_processed_data.json', 'seq_num': 124, 'title': 'Knox Suite', 'url': 'https://docs.samsungknox.com/admin/knox-suite', 'project': 'KS', 'last_updated': '2023-07-26', 'family_tree': 'child', 'parent_id': '444cfe6b-b9ea-4fa9-862b-7b96c7b2035f', 'id': '45a6d65d-b0b3-462d-85b9-49c863dc542d'}\n",
      "\n",
      "Score: 0.9669521197016488\n",
      "['Knox Manage. Knox Manage is a mobile device management (MDM) solution that provides a cloud-based command center with almost 300 enterprise policies to empower IT admins to remotely track, manage, configure, and send messages to devices. This solution can manage any Android, iOS, or Windows 10 or Windows 11 device, but for maximum security, we recommend Samsung Galaxy devices integrated with the Knox platform. Try for free Audience This document is intended for: IT Admins - Enterprise IT Admins can learn how to get started with Knox Manage, dive deep into the comprehensive features, and learn how to configure and monitor devices and apps. Try the solution Bulk enroll devices so that they use Knox Manage right out-of-the box. Define enterprise groups and profiles. Configure device features and settings. Deploy, update apps, or add them to the allowlist. Create simple device kiosks. Learn how now']\n",
      "{'source': 'all_processed_data.json', 'seq_num': 967, 'title': 'Knox Manage', 'url': 'https://docs.samsungknox.com/admin/knox-manage/introduction/about-knox-manage', 'project': 'KM', 'last_updated': '2023-07-26', 'family_tree': 'child', 'parent_id': 'd17f552f-5284-45d4-b923-4d0b8b619583', 'id': 'cc468816-6fc8-4a27-9632-56e477407404'}\n",
      "\n",
      "Score: 0.9609078381589217\n",
      "[\"Knox Configure. Knox Configure is a cloud-based service that empowers enterprises to customize and automate the enrollment of Samsung devices purchased from authorized Samsung resellers. Knox Configure simplifies the out-of-box experience and enables a large range of configuration options. Try for free Audience This document is intended for: IT Admins - Admins create profiles with the device settings, restrictions, apps, and other content to deploy to groups of devices. After devices have been successfully enrolled in the enterprise, they receive the Knox Configure device profile via a Wi-Fi or mobile data connection. Resellers - Resellers bulk upload devices on behalf of requesting customers. Try the solution Promote and embed company branding, including animated boot screens and personalized business apps. Use this guide to apply data access restrictions as needed based on your organization's application update, notification and URL requirements\"]\n",
      "{'source': 'all_processed_data.json', 'seq_num': 362, 'title': 'Knox Configure', 'url': 'https://docs.samsungknox.com/admin/knox-configure', 'project': 'KC', 'last_updated': '2023-07-26', 'family_tree': 'child', 'parent_id': '9d776a16-6a28-446a-ab4a-f67145473ab6', 'id': 'db26e907-bbd3-45cf-b946-5d79b4628bd2'}\n",
      "\n",
      "Score: 0.9485994244268959\n",
      "[\"The Samsung Knox platform. Samsung Knox brings defense-grade security on the most popular consumer devices to all enterprises. The Knox Platform provides best-in-class hardware-based security, policy management, and compliance capabilities beyond the standard features commonplace in today's mobile device market. The Knox Platform is the cornerstone of a strong mobile security strategy supporting a wide variety of Samsung devices. Why use Samsung Knox? The Knox Platform helps you and your enterprise avoid the security gaps common on many mobile platforms. Knox received *strong* ratings in 25 of 28 categories in Gartner's December 2017 Mobile OSs and Device Security: A Comparison of Platforms and has received strong ratings for the last three years in a row. The Knox Platform's security hardening supports every aspect of mobile device operation. The Knox Platform enables trust in your mobile endpoints with advanced features like the evolutionary Knox Vault to the patented Real-Time Kernel Protection\"]\n",
      "{'source': 'all_processed_data.json', 'seq_num': 168, 'title': 'The Samsung Knox platform', 'url': 'https://docs.samsungknox.com/admin/fundamentals/whitepaper/the-samsung-knox-platform', 'project': 'USP', 'last_updated': '2023-07-26', 'family_tree': 'child', 'parent_id': 'e0c73a9d-25bf-44de-94ee-6c56e1e103c7', 'id': '7c08a196-2f50-4f0e-9024-2355b1ae62f7'}\n",
      "\n",
      "Score: 0.9455337663396549\n",
      "['What is Knox Mobile Enrollment?. Knox Mobile Enrollment is an automated and streamlined EMM enrollment tool that enables you to provision thousands of devices for enterprise management, with less hassle for both IT admins and device users. With our advanced staging and security options that flex to your needs, enroll work devices safely across any network environment or fleet size. Knox Mobile Enrollment is fully integrated with Samsung devices and services for an end-to-end experience.']\n",
      "{'source': 'all_processed_data.json', 'seq_num': 1424, 'title': 'What is Knox Mobile Enrollment?', 'url': 'https://docs.samsungknox.com/admin/knox-mobile-enrollment/faq/#what-is-knox-mobile-enrollment', 'project': 'KME', 'last_updated': '2023-09-18', 'family_tree': 'child', 'parent_id': 'f9ac9db8-e64d-40dc-b54a-17d7de645308', 'id': '80123510-0013-4a2b-bb0e-63d38ad3334a'}\n",
      "\n",
      "Score: 0.9450817307418515\n",
      "['What is the purpose of Knox Configure?. Knox Configure is a cloud-based solution for customizing and staging Samsung devices remotely, right out of the box. It helps service and content providers rebrand and customize Samsung devices with a frictionless, out-of-the-box setup process. Advanced device configuration enables them to tailor every granular aspect to their specific needs and to transform devices into purpose-built appliances. For a comprehensive list of features, see Knox features on Android.']\n",
      "{'source': 'all_processed_data.json', 'seq_num': 480, 'title': 'What is the purpose of Knox Configure?', 'url': 'https://docs.samsungknox.com/admin/knox-configure/faq/#what-is-the-purpose-of-knox-configure', 'project': 'KC', 'last_updated': '2023-07-26', 'family_tree': 'child', 'parent_id': '135d4e83-002f-4c21-8713-fc017a3127e8', 'id': '17e8efcf-a9e7-490d-8a43-f72be1d58dde'}\n",
      "None\n",
      "##############################\n",
      "similar_docs_keyword\n",
      "##############################\n",
      "\n",
      "Score: 1.0\n",
      "[\"Overview. Get started with the basics by learning what Knox Capture is and how it works. What is Knox Capture? To help explain what Knox Capture does, it may be helpful to start with an understanding of what a *wedge* scanner is, and how it relates to the Knox Capture solution. In traditional hardware-based barcode scanning terminology, a wedge scanner is a physical device that attaches between a keyboard and a computer. The keyboard attaches to the scanner, and the scanner attaches to the computer. From the computer's perspective, the scanner behaves just like an additional keyboard. When the computer runs a software program (like an inventory spreadsheet app), and barcodes are read using the wedge scanner, data is sent from the scanner to the program in the form of keystrokes. From the program's point of view, data appears exactly as if someone had typed it manually using a keyboard. How Knox Capture works In a similar way, Knox Capture also acts as a wedge between a software program and keyboard\"]\n",
      "{'source': 'all_processed_data.json', 'seq_num': 558, 'title': 'Overview', 'url': 'https://docs.samsungknox.com/admin/knox-capture/overview', 'project': 'KCAP', 'last_updated': '2023-07-26', 'family_tree': 'child', 'parent_id': '9d3fdddf-7743-4ba4-aced-5b50494e41d0', 'id': '30a9bc92-5fda-4369-af4c-847b6ddeb0f6'}\n",
      "\n",
      "Score: 0.9846281520841531\n",
      "['Wi-Fi Enhanced Roaming Algorithm File-based encryption (FBE) and full-disk encryption (FDE) What policy do I use to block users from adding additional accounts on the device? \"Network may be monitored\" shown after installing a private CA certificate on device Does the Samsung email client support \"opaque signed\" emails? Can a network operator configure an E_APN on an employee\\'s device? If two similar Knox policies are applied to a device with an MDM, which one takes precedence? Should the Knox VPN client be installed inside or outside the Knox container? What are the package names for the Samsung Cisco AnyConnect and Juniper VPN clients? What is the minimum level of unlock method required to install a certificate in Android credential storage? What is the proper way to wildcard APK package names? Which servers do EMMs need to communicate with in order to conduct device attestation? What is the order of precedence for firewall rules? What URLs do I have to add to an allowlist to make Samsung apps work with an']\n",
      "{'source': 'all_processed_data.json', 'seq_num': 1656, 'title': 'Knox Platform for Enterprise knowledge base articles', 'url': 'https://docs.samsungknox.com/admin/knox-platform-for-enterprise/kbas', 'project': 'KPE', 'last_updated': '2023-11-06', 'family_tree': 'child', 'parent_id': '68f25d59-9349-494b-8820-313a5cfd3cae', 'id': '90beed07-fc27-4a14-9556-81da2ed95a86'}\n",
      "\n",
      "Score: 0.9686206192100865\n",
      "['. What is an Approval ID? Who uploads devices to Knox Guard? What does a Complete device status mean in Knox Guard? What are the options for stopping payment blink reminders on an overdue device? How do I restrict a device to a particular telecom operator? How do I restrict a device to the first inserted SIM of an allowed telecom operator?']\n",
      "{'source': 'all_processed_data.json', 'seq_num': 734, 'title': 'Knox Guard knowledge base articles', 'url': 'https://docs.samsungknox.com/admin/knox-guard/kbas', 'project': 'KG', 'last_updated': '2023-07-26', 'family_tree': 'child', 'parent_id': '0c32433b-2a7f-4862-8050-231a548c6d4c', 'id': '8702deec-b651-4f23-a2fb-89953aa69a79'}\n",
      "\n",
      "Score: 0.9628855622302233\n",
      "['way to wildcard APK package names? Which servers do EMMs need to communicate with in order to conduct device attestation? What is the order of precedence for firewall rules? What URLs do I have to add to an allowlist to make Samsung apps work with an authenticated proxy? Can I disable power saving mode on Knox supported devices? If I cannot resolve an SE for Android issue, who do I escalate to? Is there a way to automatically enable email sync while roaming? What does the term \"Maximum number of licenses\" mean for KPE Standard licenses? Knox legacy workspace articles Using SSO with a Common Access Card (CAC) in the Work Profile How many certificates can be stored in the Knox platform TrustZone? Accessing Knox Workspace without connecting to Active Directory network Unlocking the Knox Workspace container using Active Directory credentials What is the certificate length limit in the Knox CCM keystore? Can I create an RSA Key Pair on a Knox Platform for Enterprise device? Known issues Unable to install Samsung']\n",
      "{'source': 'all_processed_data.json', 'seq_num': 1656, 'title': 'Knox Platform for Enterprise knowledge base articles', 'url': 'https://docs.samsungknox.com/admin/knox-platform-for-enterprise/kbas', 'project': 'KPE', 'last_updated': '2023-11-06', 'family_tree': 'child', 'parent_id': '68f25d59-9349-494b-8820-313a5cfd3cae', 'id': '36124f87-932a-4055-a63c-e7a20d695640'}\n",
      "\n",
      "Score: 0.949831047017143\n",
      "['What version of Knox Platform for Enterprise is running on my device?. The most frequently asked questions about Knox Platform for Enterprise. To find out what version of Knox Platform for Enterprise your device is running, go to: Settings > About Device > Software Information > Knox Version. This is a screenshot of the device menu containing the Knox version. Here, we see that Knox 3.1 is listed under Knox version. #Looking for more information? , See Knox on Android for a list of features available in each release of Knox.']\n",
      "{'source': 'all_processed_data.json', 'seq_num': 1499, 'title': 'What version of Knox Platform for Enterprise is running on my device?', 'url': 'https://docs.samsungknox.com/admin/knox-platform-for-enterprise/faq/#what-version-of-knox-platform-for-enterprise-is-running-on-my-device', 'project': 'KPE', 'last_updated': '2023-07-26', 'family_tree': 'child', 'parent_id': '16d696e1-63ff-4af5-85f9-2afb9e65b46f', 'id': 'b7a97e5b-50ac-414b-8327-b5878925b211'}\n",
      "\n",
      "Score: 0.9353481051484632\n",
      "['. XCover/Active key settings - Select what happens when the device user presses the XCover key. The options available are: Application launch, Intent broadcasting, or MS Teams. When you select Application launch or Intent broadcasting, the screen refreshes to show fields that allow you to customize what happens when the key is pressed. Top key settings - Select what happens when the device user presses the top key. Use the fields under this heading to customize what happens when the key is pressed. Side key settings - Select what happens when the device user presses the side key. Use the fields under this heading to customize what happens when the key is pressed. You can specify that launching an app requires a double press. 6. On the General configuration screen, configure the following settings, and then click Continue: NFC settings - Set whether you want to enable the use of Near Field Communication (NFC) apps on the device']\n",
      "{'source': 'all_processed_data.json', 'seq_num': 1368, 'title': 'Setup and config for admins', 'url': 'https://docs.samsungknox.com/admin/knox-mobile-enrollment/on-premise/get-started/setup-and-config-for-admins', 'project': 'KME', 'last_updated': '2023-10-30', 'family_tree': 'child', 'parent_id': '057fa946-cb5d-443d-909b-aea7fd2581c4', 'id': '5049f793-7fef-4e9d-a831-0dbdd53b3035'}\n",
      "\n",
      "Score: 0.9103228393401687\n",
      "['What do you mean by \\'backed by the hardware-based Knox platform security\\'?. The most frequently asked questions about Knox Platform for Enterprise. Knox Workspace leverages and extends the security features of the underlying Knox platform, which is built into Samsung smartphones, tablets, and other devices. The Knox platform leverages a \"completely isolated\" hardware region called TrustZone where cryptographic keys are stored, and this area is completely impervious to attack and inaccessible. That\\'s what Samsung means by \"hardware-based\" security. If the device is ever compromised, Knox Workspace is permanently locked because the encryption key for Workspace will never be retrievable from the HW chipset where the key has been stored. Data inside Knox Workspace becomes completely inaccessible, and enterprises keep their important data from being lost or stolen.']\n",
      "{'source': 'all_processed_data.json', 'seq_num': 1514, 'title': \"What do you mean by 'backed by the hardware-based Knox platform security'?\", 'url': 'https://docs.samsungknox.com/admin/knox-platform-for-enterprise/faq/#what-do-you-mean-by-backed-by-the-hardware-based-knox-platform-security', 'project': 'KPE', 'last_updated': '2023-07-26', 'family_tree': 'child', 'parent_id': '4877e82d-df91-4903-965d-e2a40de0adf3', 'id': '8f573de6-2fba-4ff3-8eab-a06108993039'}\n",
      "None\n",
      "##############################\n",
      "similar_docs_without_reranker\n",
      "##############################\n",
      "\n",
      "Score: 0.008360655737704918\n",
      "['What is Knox Suite?. Knox Suite is a bundled offering designed to help enterprise IT admins better manage your fleet of devices. It includes individual services such as Knox Platform for Enterprise, Knox Mobile Enrollment, Knox Manage, Knox E-FOTA, and Knox Asset Intelligence. Key features of Knox Suite include: Secure - Ensure your business data is protected with managed security features at your control. Deploy - Enroll corporate devices to EMM automatically and securely, right out of the box. Manage - Enable comprehensive management over corporate devices and OS versions. Analyze - Strengthen in-depth device analytics for mobile productivity and asset management.']\n",
      "{'source': 'all_processed_data.json', 'seq_num': 133, 'title': ' What is Knox Suite?', 'url': 'https://docs.samsungknox.com/admin/knox-suite/faq/#what-is-knox-suite', 'project': 'KS', 'last_updated': '2023-07-26', 'family_tree': 'child', 'parent_id': 'bafc1624-0e62-4e37-b9cf-e73865c15fa5', 'id': '924dde75-dc1a-4b44-8147-de8967c2087e'}\n",
      "\n",
      "Score: 0.008225806451612904\n",
      "['Knox Suite. Knox Suite is a bundled offering of Knox solutions for enterprise mobility designed to address organizations\\' needs related to security and management throughout the entire device lifecycle. Learn more about Knox Suite #Audience This document is intended for IT Admins. Understand what\\'s included in Knox Suite and how you can use it to manage, secure, and maintain enterprise devices. Learn where to find information on how to perform various tasks with Knox\"Suite services. About Knox Suite Knox Suite is a bundled offering that includes the following Knox products: Knox Platform for Enterprise - A Knox solution that provides military-grade security to Samsung Android phones, tablets, and Tizen watches for business. Knox Mobile Enrollment - A Knox solution that allows you to enroll thousands of Samsung devices in your EMM at once. When used with a Knox Suite license, Knox Mobile Enrollment provides advanced profiles that offer IT admins additional features such as higher control over locking devices']\n",
      "{'source': 'all_processed_data.json', 'seq_num': 124, 'title': 'Knox Suite', 'url': 'https://docs.samsungknox.com/admin/knox-suite', 'project': 'KS', 'last_updated': '2023-07-26', 'family_tree': 'child', 'parent_id': '444cfe6b-b9ea-4fa9-862b-7b96c7b2035f', 'id': '45a6d65d-b0b3-462d-85b9-49c863dc542d'}\n",
      "\n",
      "Score: 0.008095238095238095\n",
      "['Knox Manage. Knox Manage is a mobile device management (MDM) solution that provides a cloud-based command center with almost 300 enterprise policies to empower IT admins to remotely track, manage, configure, and send messages to devices. This solution can manage any Android, iOS, or Windows 10 or Windows 11 device, but for maximum security, we recommend Samsung Galaxy devices integrated with the Knox platform. Try for free Audience This document is intended for: IT Admins - Enterprise IT Admins can learn how to get started with Knox Manage, dive deep into the comprehensive features, and learn how to configure and monitor devices and apps. Try the solution Bulk enroll devices so that they use Knox Manage right out-of-the box. Define enterprise groups and profiles. Configure device features and settings. Deploy, update apps, or add them to the allowlist. Create simple device kiosks. Learn how now']\n",
      "{'source': 'all_processed_data.json', 'seq_num': 967, 'title': 'Knox Manage', 'url': 'https://docs.samsungknox.com/admin/knox-manage/introduction/about-knox-manage', 'project': 'KM', 'last_updated': '2023-07-26', 'family_tree': 'child', 'parent_id': 'd17f552f-5284-45d4-b923-4d0b8b619583', 'id': 'cc468816-6fc8-4a27-9632-56e477407404'}\n",
      "\n",
      "Score: 0.008032786885245903\n",
      "[\"Overview. Get started with the basics by learning what Knox Capture is and how it works. What is Knox Capture? To help explain what Knox Capture does, it may be helpful to start with an understanding of what a *wedge* scanner is, and how it relates to the Knox Capture solution. In traditional hardware-based barcode scanning terminology, a wedge scanner is a physical device that attaches between a keyboard and a computer. The keyboard attaches to the scanner, and the scanner attaches to the computer. From the computer's perspective, the scanner behaves just like an additional keyboard. When the computer runs a software program (like an inventory spreadsheet app), and barcodes are read using the wedge scanner, data is sent from the scanner to the program in the form of keystrokes. From the program's point of view, data appears exactly as if someone had typed it manually using a keyboard. How Knox Capture works In a similar way, Knox Capture also acts as a wedge between a software program and keyboard\"]\n",
      "{'source': 'all_processed_data.json', 'seq_num': 558, 'title': 'Overview', 'url': 'https://docs.samsungknox.com/admin/knox-capture/overview', 'project': 'KCAP', 'last_updated': '2023-07-26', 'family_tree': 'child', 'parent_id': '9d3fdddf-7743-4ba4-aced-5b50494e41d0', 'id': '30a9bc92-5fda-4369-af4c-847b6ddeb0f6'}\n",
      "\n",
      "Score: 0.00796875\n",
      "[\"Knox Configure. Knox Configure is a cloud-based service that empowers enterprises to customize and automate the enrollment of Samsung devices purchased from authorized Samsung resellers. Knox Configure simplifies the out-of-box experience and enables a large range of configuration options. Try for free Audience This document is intended for: IT Admins - Admins create profiles with the device settings, restrictions, apps, and other content to deploy to groups of devices. After devices have been successfully enrolled in the enterprise, they receive the Knox Configure device profile via a Wi-Fi or mobile data connection. Resellers - Resellers bulk upload devices on behalf of requesting customers. Try the solution Promote and embed company branding, including animated boot screens and personalized business apps. Use this guide to apply data access restrictions as needed based on your organization's application update, notification and URL requirements\"]\n",
      "{'source': 'all_processed_data.json', 'seq_num': 362, 'title': 'Knox Configure', 'url': 'https://docs.samsungknox.com/admin/knox-configure', 'project': 'KC', 'last_updated': '2023-07-26', 'family_tree': 'child', 'parent_id': '9d776a16-6a28-446a-ab4a-f67145473ab6', 'id': 'db26e907-bbd3-45cf-b946-5d79b4628bd2'}\n",
      "\n",
      "Score: 0.007903225806451612\n",
      "['Wi-Fi Enhanced Roaming Algorithm File-based encryption (FBE) and full-disk encryption (FDE) What policy do I use to block users from adding additional accounts on the device? \"Network may be monitored\" shown after installing a private CA certificate on device Does the Samsung email client support \"opaque signed\" emails? Can a network operator configure an E_APN on an employee\\'s device? If two similar Knox policies are applied to a device with an MDM, which one takes precedence? Should the Knox VPN client be installed inside or outside the Knox container? What are the package names for the Samsung Cisco AnyConnect and Juniper VPN clients? What is the minimum level of unlock method required to install a certificate in Android credential storage? What is the proper way to wildcard APK package names? Which servers do EMMs need to communicate with in order to conduct device attestation? What is the order of precedence for firewall rules? What URLs do I have to add to an allowlist to make Samsung apps work with an']\n",
      "{'source': 'all_processed_data.json', 'seq_num': 1656, 'title': 'Knox Platform for Enterprise knowledge base articles', 'url': 'https://docs.samsungknox.com/admin/knox-platform-for-enterprise/kbas', 'project': 'KPE', 'last_updated': '2023-11-06', 'family_tree': 'child', 'parent_id': '68f25d59-9349-494b-8820-313a5cfd3cae', 'id': '90beed07-fc27-4a14-9556-81da2ed95a86'}\n",
      "\n",
      "Score: 0.007846153846153846\n",
      "[\"The Samsung Knox platform. Samsung Knox brings defense-grade security on the most popular consumer devices to all enterprises. The Knox Platform provides best-in-class hardware-based security, policy management, and compliance capabilities beyond the standard features commonplace in today's mobile device market. The Knox Platform is the cornerstone of a strong mobile security strategy supporting a wide variety of Samsung devices. Why use Samsung Knox? The Knox Platform helps you and your enterprise avoid the security gaps common on many mobile platforms. Knox received *strong* ratings in 25 of 28 categories in Gartner's December 2017 Mobile OSs and Device Security: A Comparison of Platforms and has received strong ratings for the last three years in a row. The Knox Platform's security hardening supports every aspect of mobile device operation. The Knox Platform enables trust in your mobile endpoints with advanced features like the evolutionary Knox Vault to the patented Real-Time Kernel Protection\"]\n",
      "{'source': 'all_processed_data.json', 'seq_num': 168, 'title': 'The Samsung Knox platform', 'url': 'https://docs.samsungknox.com/admin/fundamentals/whitepaper/the-samsung-knox-platform', 'project': 'USP', 'last_updated': '2023-07-26', 'family_tree': 'child', 'parent_id': 'e0c73a9d-25bf-44de-94ee-6c56e1e103c7', 'id': '7c08a196-2f50-4f0e-9024-2355b1ae62f7'}\n",
      "None\n",
      "##############################\n",
      "similar_docs\n",
      "##############################\n",
      "\n",
      "Score: 0.9306533932685852\n",
      "['What is Knox Suite?. Knox Suite is a bundled offering designed to help enterprise IT admins better manage your fleet of devices. It includes individual services such as Knox Platform for Enterprise, Knox Mobile Enrollment, Knox Manage, Knox E-FOTA, and Knox Asset Intelligence. Key features of Knox Suite include: Secure - Ensure your business data is protected with managed security features at your control. Deploy - Enroll corporate devices to EMM automatically and securely, right out of the box. Manage - Enable comprehensive management over corporate devices and OS versions. Analyze - Strengthen in-depth device analytics for mobile productivity and asset management.']\n",
      "{'source': 'all_processed_data.json', 'seq_num': 133, 'title': ' What is Knox Suite?', 'url': 'https://docs.samsungknox.com/admin/knox-suite/faq/#what-is-knox-suite', 'project': 'KS', 'last_updated': '2023-07-26', 'family_tree': 'child', 'parent_id': 'bafc1624-0e62-4e37-b9cf-e73865c15fa5', 'id': '924dde75-dc1a-4b44-8147-de8967c2087e'}\n",
      "\n",
      "Score: 0.8687121868133545\n",
      "['Knox Manage. Knox Manage is a mobile device management (MDM) solution that provides a cloud-based command center with almost 300 enterprise policies to empower IT admins to remotely track, manage, configure, and send messages to devices. This solution can manage any Android, iOS, or Windows 10 or Windows 11 device, but for maximum security, we recommend Samsung Galaxy devices integrated with the Knox platform. Try for free Audience This document is intended for: IT Admins - Enterprise IT Admins can learn how to get started with Knox Manage, dive deep into the comprehensive features, and learn how to configure and monitor devices and apps. Try the solution Bulk enroll devices so that they use Knox Manage right out-of-the box. Define enterprise groups and profiles. Configure device features and settings. Deploy, update apps, or add them to the allowlist. Create simple device kiosks. Learn how now']\n",
      "{'source': 'all_processed_data.json', 'seq_num': 967, 'title': 'Knox Manage', 'url': 'https://docs.samsungknox.com/admin/knox-manage/introduction/about-knox-manage', 'project': 'KM', 'last_updated': '2023-07-26', 'family_tree': 'child', 'parent_id': 'd17f552f-5284-45d4-b923-4d0b8b619583', 'id': 'cc468816-6fc8-4a27-9632-56e477407404'}\n",
      "\n",
      "Score: 0.65848708152771\n",
      "['Knox Suite. Knox Suite is a bundled offering of Knox solutions for enterprise mobility designed to address organizations\\' needs related to security and management throughout the entire device lifecycle. Learn more about Knox Suite #Audience This document is intended for IT Admins. Understand what\\'s included in Knox Suite and how you can use it to manage, secure, and maintain enterprise devices. Learn where to find information on how to perform various tasks with Knox\"Suite services. About Knox Suite Knox Suite is a bundled offering that includes the following Knox products: Knox Platform for Enterprise - A Knox solution that provides military-grade security to Samsung Android phones, tablets, and Tizen watches for business. Knox Mobile Enrollment - A Knox solution that allows you to enroll thousands of Samsung devices in your EMM at once. When used with a Knox Suite license, Knox Mobile Enrollment provides advanced profiles that offer IT admins additional features such as higher control over locking devices']\n",
      "{'source': 'all_processed_data.json', 'seq_num': 124, 'title': 'Knox Suite', 'url': 'https://docs.samsungknox.com/admin/knox-suite', 'project': 'KS', 'last_updated': '2023-07-26', 'family_tree': 'child', 'parent_id': '444cfe6b-b9ea-4fa9-862b-7b96c7b2035f', 'id': '45a6d65d-b0b3-462d-85b9-49c863dc542d'}\n",
      "\n",
      "Score: 0.6129065752029419\n",
      "[\"The Samsung Knox platform. Samsung Knox brings defense-grade security on the most popular consumer devices to all enterprises. The Knox Platform provides best-in-class hardware-based security, policy management, and compliance capabilities beyond the standard features commonplace in today's mobile device market. The Knox Platform is the cornerstone of a strong mobile security strategy supporting a wide variety of Samsung devices. Why use Samsung Knox? The Knox Platform helps you and your enterprise avoid the security gaps common on many mobile platforms. Knox received *strong* ratings in 25 of 28 categories in Gartner's December 2017 Mobile OSs and Device Security: A Comparison of Platforms and has received strong ratings for the last three years in a row. The Knox Platform's security hardening supports every aspect of mobile device operation. The Knox Platform enables trust in your mobile endpoints with advanced features like the evolutionary Knox Vault to the patented Real-Time Kernel Protection\"]\n",
      "{'source': 'all_processed_data.json', 'seq_num': 168, 'title': 'The Samsung Knox platform', 'url': 'https://docs.samsungknox.com/admin/fundamentals/whitepaper/the-samsung-knox-platform', 'project': 'USP', 'last_updated': '2023-07-26', 'family_tree': 'child', 'parent_id': 'e0c73a9d-25bf-44de-94ee-6c56e1e103c7', 'id': '7c08a196-2f50-4f0e-9024-2355b1ae62f7'}\n",
      "\n",
      "Score: 0.5416658520698547\n",
      "[\"Knox Configure. Knox Configure is a cloud-based service that empowers enterprises to customize and automate the enrollment of Samsung devices purchased from authorized Samsung resellers. Knox Configure simplifies the out-of-box experience and enables a large range of configuration options. Try for free Audience This document is intended for: IT Admins - Admins create profiles with the device settings, restrictions, apps, and other content to deploy to groups of devices. After devices have been successfully enrolled in the enterprise, they receive the Knox Configure device profile via a Wi-Fi or mobile data connection. Resellers - Resellers bulk upload devices on behalf of requesting customers. Try the solution Promote and embed company branding, including animated boot screens and personalized business apps. Use this guide to apply data access restrictions as needed based on your organization's application update, notification and URL requirements\"]\n",
      "{'source': 'all_processed_data.json', 'seq_num': 362, 'title': 'Knox Configure', 'url': 'https://docs.samsungknox.com/admin/knox-configure', 'project': 'KC', 'last_updated': '2023-07-26', 'family_tree': 'child', 'parent_id': '9d776a16-6a28-446a-ab4a-f67145473ab6', 'id': 'db26e907-bbd3-45cf-b946-5d79b4628bd2'}\n",
      "None\n",
      "\n",
      "==========  Results  ==========\n",
      "\n",
      "1. question: What is knox?\n",
      "2. # documents: 5\n",
      "3. Documents: \n",
      "\n",
      "\n",
      "-----------------------------------------------\n",
      "1. Chunk: 674 Characters\n",
      "-----------------------------------------------\n",
      "What is Knox Suite?. Knox Suite is a bundled offering designed to help enterprise IT admins better\n",
      "manage your fleet of devices. It includes individual services such as Knox Platform for Enterprise,\n",
      "Knox Mobile Enrollment, Knox Manage, Knox E-FOTA, and Knox Asset Intelligence. Key features of Knox\n",
      "Suite include: Secure - Ensure your business data is protected with managed security features at\n",
      "your control. Deploy - Enroll corporate devices to EMM automatically and securely, right out of the\n",
      "box. Manage - Enable comprehensive management over corporate devices and OS versions. Analyze -\n",
      "Strengthen in-depth device analytics for mobile productivity and asset management.\n",
      "metadata:\n",
      " {'source': 'all_processed_data.json', 'seq_num': 133, 'title': ' What is Knox Suite?', 'url':\n",
      "'https://docs.samsungknox.com/admin/knox-suite/faq/#what-is-knox-suite', 'project': 'KS',\n",
      "'last_updated': '2023-07-26', 'family_tree': 'child', 'parent_id':\n",
      "'bafc1624-0e62-4e37-b9cf-e73865c15fa5', 'id': '924dde75-dc1a-4b44-8147-de8967c2087e',\n",
      "'orig_elements': ''}\n",
      "\n",
      "-----------------------------------------------\n",
      "2. Chunk: 907 Characters\n",
      "-----------------------------------------------\n",
      "Knox Manage. Knox Manage is a mobile device management (MDM) solution that provides a cloud-based\n",
      "command center with almost 300 enterprise policies to empower IT admins to remotely track, manage,\n",
      "configure, and send messages to devices. This solution can manage any Android, iOS, or Windows 10 or\n",
      "Windows 11 device, but for maximum security, we recommend Samsung Galaxy devices integrated with the\n",
      "Knox platform. Try for free Audience This document is intended for: IT Admins - Enterprise IT Admins\n",
      "can learn how to get started with Knox Manage, dive deep into the comprehensive features, and learn\n",
      "how to configure and monitor devices and apps. Try the solution Bulk enroll devices so that they use\n",
      "Knox Manage right out-of-the box. Define enterprise groups and profiles. Configure device features\n",
      "and settings. Deploy, update apps, or add them to the allowlist. Create simple device kiosks. Learn\n",
      "how now\n",
      "metadata:\n",
      " {'source': 'all_processed_data.json', 'seq_num': 967, 'title': 'Knox Manage', 'url':\n",
      "'https://docs.samsungknox.com/admin/knox-manage/introduction/about-knox-manage', 'project': 'KM',\n",
      "'last_updated': '2023-07-26', 'family_tree': 'child', 'parent_id':\n",
      "'d17f552f-5284-45d4-b923-4d0b8b619583', 'id': 'cc468816-6fc8-4a27-9632-56e477407404',\n",
      "'orig_elements': ''}\n",
      "\n",
      "-----------------------------------------------\n",
      "3. Chunk: 1022 Characters\n",
      "-----------------------------------------------\n",
      "Knox Suite. Knox Suite is a bundled offering of Knox solutions for enterprise mobility designed to\n",
      "address organizations' needs related to security and management throughout the entire device\n",
      "lifecycle. Learn more about Knox Suite #Audience This document is intended for IT Admins. Understand\n",
      "what's included in Knox Suite and how you can use it to manage, secure, and maintain enterprise\n",
      "devices. Learn where to find information on how to perform various tasks with Knox\"Suite services.\n",
      "About Knox Suite Knox Suite is a bundled offering that includes the following Knox products: Knox\n",
      "Platform for Enterprise - A Knox solution that provides military-grade security to Samsung Android\n",
      "phones, tablets, and Tizen watches for business. Knox Mobile Enrollment - A Knox solution that\n",
      "allows you to enroll thousands of Samsung devices in your EMM at once. When used with a Knox Suite\n",
      "license, Knox Mobile Enrollment provides advanced profiles that offer IT admins additional features\n",
      "such as higher control over locking devices\n",
      "metadata:\n",
      " {'source': 'all_processed_data.json', 'seq_num': 124, 'title': 'Knox Suite', 'url':\n",
      "'https://docs.samsungknox.com/admin/knox-suite', 'project': 'KS', 'last_updated': '2023-07-26',\n",
      "'family_tree': 'child', 'parent_id': '444cfe6b-b9ea-4fa9-862b-7b96c7b2035f', 'id':\n",
      "'45a6d65d-b0b3-462d-85b9-49c863dc542d', 'orig_elements': ''}\n",
      "\n",
      "-----------------------------------------------\n",
      "4. Chunk: 1012 Characters\n",
      "-----------------------------------------------\n",
      "The Samsung Knox platform. Samsung Knox brings defense-grade security on the most popular consumer\n",
      "devices to all enterprises. The Knox Platform provides best-in-class hardware-based security, policy\n",
      "management, and compliance capabilities beyond the standard features commonplace in today's mobile\n",
      "device market. The Knox Platform is the cornerstone of a strong mobile security strategy supporting\n",
      "a wide variety of Samsung devices. Why use Samsung Knox? The Knox Platform helps you and your\n",
      "enterprise avoid the security gaps common on many mobile platforms. Knox received *strong* ratings\n",
      "in 25 of 28 categories in Gartner's December 2017 Mobile OSs and Device Security: A Comparison of\n",
      "Platforms and has received strong ratings for the last three years in a row. The Knox Platform's\n",
      "security hardening supports every aspect of mobile device operation. The Knox Platform enables trust\n",
      "in your mobile endpoints with advanced features like the evolutionary Knox Vault to the patented\n",
      "Real-Time Kernel Protection\n",
      "metadata:\n",
      " {'source': 'all_processed_data.json', 'seq_num': 168, 'title': 'The Samsung Knox platform', 'url':\n",
      "'https://docs.samsungknox.com/admin/fundamentals/whitepaper/the-samsung-knox-platform', 'project':\n",
      "'USP', 'last_updated': '2023-07-26', 'family_tree': 'child', 'parent_id':\n",
      "'e0c73a9d-25bf-44de-94ee-6c56e1e103c7', 'id': '7c08a196-2f50-4f0e-9024-2355b1ae62f7',\n",
      "'orig_elements': ''}\n",
      "\n",
      "-----------------------------------------------\n",
      "5. Chunk: 961 Characters\n",
      "-----------------------------------------------\n",
      "Knox Configure. Knox Configure is a cloud-based service that empowers enterprises to customize and\n",
      "automate the enrollment of Samsung devices purchased from authorized Samsung resellers. Knox\n",
      "Configure simplifies the out-of-box experience and enables a large range of configuration options.\n",
      "Try for free Audience This document is intended for: IT Admins - Admins create profiles with the\n",
      "device settings, restrictions, apps, and other content to deploy to groups of devices. After devices\n",
      "have been successfully enrolled in the enterprise, they receive the Knox Configure device profile\n",
      "via a Wi-Fi or mobile data connection. Resellers - Resellers bulk upload devices on behalf of\n",
      "requesting customers. Try the solution Promote and embed company branding, including animated boot\n",
      "screens and personalized business apps. Use this guide to apply data access restrictions as needed\n",
      "based on your organization's application update, notification and URL requirements\n",
      "metadata:\n",
      " {'source': 'all_processed_data.json', 'seq_num': 362, 'title': 'Knox Configure', 'url':\n",
      "'https://docs.samsungknox.com/admin/knox-configure', 'project': 'KC', 'last_updated': '2023-07-26',\n",
      "'family_tree': 'child', 'parent_id': '9d776a16-6a28-446a-ab4a-f67145473ab6', 'id':\n",
      "'db26e907-bbd3-45cf-b946-5d79b4628bd2', 'orig_elements': ''}\n"
     ]
    }
   ],
   "source": [
    "query = \"What is knox?\"\n",
    "search_hybrid_result = opensearch_hybrid_retriever.get_relevant_documents(query)\n",
    "\n",
    "print(\"\\n==========  Results  ==========\\n\")\n",
    "print(f'1. question: {query}')\n",
    "print(f'2. # documents: {len(search_hybrid_result)}')\n",
    "print(\"3. Documents: \\n\")\n",
    "\n",
    "show_context_used(search_hybrid_result)"
   ]
  },
  {
   "cell_type": "markdown",
   "id": "a981abe7-5208-48f5-a9cc-8c557e9941ca",
   "metadata": {},
   "source": [
    "## 5. RAG using RetrievalQA powered by LangChain"
   ]
  },
  {
   "cell_type": "code",
   "execution_count": 53,
   "id": "08cf6d2b-451b-499c-aec2-bb6f5abafbb0",
   "metadata": {
    "tags": []
   },
   "outputs": [],
   "source": [
    "from utils.rag import prompt_repo\n",
    "from utils.rag import run_RetrievalQA\n",
    "from langchain.prompts import PromptTemplate"
   ]
  },
  {
   "cell_type": "markdown",
   "id": "b490df1f-8113-4dd1-a578-a3e1a6918fde",
   "metadata": {
    "tags": []
   },
   "source": [
    "### Prompting\n",
    "- [TIP] For the instruction in the prompt, you may get better results by using English rather than Korean."
   ]
  },
  {
   "cell_type": "code",
   "execution_count": 54,
   "id": "0a68b4bf-8fc5-45a6-80cf-2bc059d4e389",
   "metadata": {
    "tags": []
   },
   "outputs": [
    {
     "name": "stdout",
     "output_type": "stream",
     "text": [
      "('\\n'\n",
      " '                        You are a master answer bot designed to answer '\n",
      " \"user's questions.\\n\"\n",
      " \"                        I'm going to give you contexts which consist of \"\n",
      " 'texts, tables and images.\\n'\n",
      " \"                        Read the contexts carefully, because I'm going to \"\n",
      " 'ask you a question about it.\\n'\n",
      " '                        ')\n"
     ]
    }
   ],
   "source": [
    "from textwrap import dedent\n",
    "\n",
    "system_prompt = dedent(\n",
    "    \"\"\"\n",
    "    You are a master answer bot designed to answer user's questions.\n",
    "    I'm going to give you contexts which consist of texts, tables and images.\n",
    "    Read the contexts carefully, because I'm going to ask you a question about it.\n",
    "    \"\"\"\n",
    ")\n",
    "\n",
    "human_prompt = dedent(\n",
    "    \"\"\"\n",
    "    Here is the contexts as texts: <contexts>{contexts}</contexts>\n",
    "\n",
    "    First, find a few paragraphs or sentences from the contexts that are most relevant to answering the question.\n",
    "    Then, answer the question as much as you can.\n",
    "\n",
    "    Skip the preamble and go straight into the answer.\n",
    "    Don't insert any XML tag such as <contexts> and </contexts> when answering.\n",
    "    Answer in english.\n",
    "\n",
    "    Here is the question: <question>{question}</question>\n",
    "\n",
    "    If the question cannot be answered by the contexts, say \"No relevant contexts\".\n",
    "    \"\"\"\n",
    ")"
   ]
  },
  {
   "cell_type": "markdown",
   "id": "c66157a6-aec8-4555-a90f-1178e6f4f6e0",
   "metadata": {},
   "source": [
    "### Update Search Params (Optional)"
   ]
  },
  {
   "cell_type": "code",
   "execution_count": 55,
   "id": "64df2daf-8b42-472a-885f-97320ee98132",
   "metadata": {
    "tags": []
   },
   "outputs": [],
   "source": [
    "from utils.rag import rag_chain\n",
    "from langchain.schema.output_parser import StrOutputParser"
   ]
  },
  {
   "cell_type": "code",
   "execution_count": 56,
   "id": "d2697230-6962-43d8-8917-ba9daa4295bb",
   "metadata": {
    "tags": []
   },
   "outputs": [],
   "source": [
    "opensearch_hybrid_retriever.update_search_params(\n",
    "    k=6,\n",
    "    minimum_should_match=0,\n",
    "    # filter=[\n",
    "    #     {'term': {'metadata.family_tree': 'child'}},\n",
    "    # ],\n",
    "    ensemble_weights=[0.51, 0.49], #semantic, lexical\n",
    "\n",
    "    reranker=True,\n",
    "    reranker_endpoint_name=endpoint_name,\n",
    "\n",
    "    parent_document=True, # enable parent document\n",
    "    verbose=False\n",
    ")"
   ]
  },
  {
   "cell_type": "markdown",
   "id": "aee26c22-b674-4f4f-a87b-29508e336fda",
   "metadata": {},
   "source": [
    "### Request"
   ]
  },
  {
   "cell_type": "code",
   "execution_count": 57,
   "id": "95fa61d3-9256-432a-96a3-2c696c97ea68",
   "metadata": {
    "tags": []
   },
   "outputs": [],
   "source": [
    "from utils.rag import rag_chain\n",
    "qa = rag_chain(\n",
    "    llm_text=llm_text,\n",
    "    retriever=opensearch_hybrid_retriever,\n",
    "    system_prompt=system_prompt,\n",
    "    human_prompt=human_prompt,\n",
    "    return_context=True,\n",
    "    verbose=False,\n",
    "    #multi_turn=True\n",
    ")"
   ]
  },
  {
   "cell_type": "code",
   "execution_count": 58,
   "id": "390ad324-40b3-4bcb-92b9-50eb080492a5",
   "metadata": {
    "tags": []
   },
   "outputs": [
    {
     "name": "stdout",
     "output_type": "stream",
     "text": [
      "Knox E-FOTA 클라이언트 APK를 얻는 방법은 다음과 같습니다:\n",
      "\n",
      "1. Knox 관리 포털에 로그인합니다.\n",
      "2. 왼쪽 사이드바에서 'Knox E-FOTA'를 클릭합니다. \n",
      "3. 'Devices > All Devices'로 이동합니다.\n",
      "4. 'Direct Download'를 클릭합니다.\n",
      "5. 'Direct Download' 팝업에서 APK 파일의 다운로드 링크를 복사합니다.\n",
      "\n",
      "이렇게 하면 Knox E-FOTA 클라이언트 APK 파일이 로컬 컴퓨터에 다운로드됩니다."
     ]
    }
   ],
   "source": [
    "#query = \"vidio max size?\"\n",
    "query = \"How does Knox E-FOTA enable enterprises to deploy OS updates remotely without requiring user interaction?\"\n",
    "query = \"What feature of Knox E-FOTA allows IT administrators to ensure that devices have the same OS version installed across the entire fleet of devices?\"\n",
    "query = \"How does Knox E-FOTA allow IT admins to securely push updates to enterprise mobile devices while maintaining compatibility with in-house apps?\"\n",
    "query = \"What are the three editions of Knox E-FOTA service that have different features?\"\n",
    "query = \"How do you obtain the Knox E-FOTA client APK that is needed to install the app through an EMM?\"\n",
    "\n",
    "response, contexts = qa.invoke(\n",
    "    query = query\n",
    ")\n",
    "\n",
    "#show_context_used(contexts)"
   ]
  },
  {
   "cell_type": "code",
   "execution_count": 59,
   "id": "01e77dad-dc19-416b-80e7-19fac3b736a5",
   "metadata": {
    "tags": []
   },
   "outputs": [
    {
     "name": "stdout",
     "output_type": "stream",
     "text": [
      "##################################\n",
      "query:  How do you obtain the Knox E-FOTA client APK that is needed to install the app through an EMM?\n",
      "##################################\n",
      "\u001b[34m\n",
      "\n",
      "### Answer ###\u001b[0m\n",
      "<generator object RunnableSequence.stream at 0x7feab00e2f10>\n",
      "\u001b[32m\n",
      "\n",
      "### Contexts ###\u001b[0m\n",
      "\n",
      "-----------------------------------------------\n",
      "1. Chunk: 1517 Characters\n",
      "-----------------------------------------------\n",
      "Install an app through an EMM. Explains how to install an app through an EMM. This section provides\n",
      "general instructions on how to install an app (like the Knox E-FOTA app) using various EMMs. The\n",
      "general workflow is as follows: 1. Obtain the Knox E-FOTA client APK. 2. In your EMM's console, add\n",
      "the Knox E-FOTA client as an internal app. 3. Set a policy to install the app to your target\n",
      "devices. If your EMM has the capability to automatically launch the client, we strongly recommend\n",
      "you use it. Enrollment cannot be completed until the client is launched on the device. Obtain the\n",
      "Knox E-FOTA client APK This procedure describes how to download the Knox E-FOTA client APK, which\n",
      "you will need in the succeeding procedures. 1. Go to Devices > All Devices. 2. Click Direct\n",
      "Download. 3. In the Direct Download popup, copy the download link for the APK file. The APK file is\n",
      "downloaded to your local machine. Install and assign an app through Knox Manage 1. Add Knox E-FOTA\n",
      "as an internal application. 2. Assign the Knox E-FOTA application. Install and assign an app through\n",
      "VMware See the following documentation from VMware for information on how to install an internal app\n",
      "to devices: 1. Add and Deploy Internal Applications as a Local File 2. Add Assignments and\n",
      "Exclusions to Applications Install and assign an app through Microsoft Intune See the following\n",
      "documentation from Microsoft Intune for information on how to install an internal app to devices:\n",
      "Add an Android line-of-business app to Microsoft Intune\n",
      "metadata:\n",
      " {'source': 'all_processed_data.json', 'seq_num': 4, 'title': 'Install an app through an EMM',\n",
      "'url': 'https://docs.samsungknox.com/admin/efota-one/appendix/install-an-app-through-an-emm',\n",
      "'project': 'EFOTA', 'last_updated': '2023-07-26', 'family_tree': 'parent', 'parent_id': None,\n",
      "'orig_elements': ''}\n",
      "\n",
      "-----------------------------------------------\n",
      "2. Chunk: 2408 Characters\n",
      "-----------------------------------------------\n",
      ". If your EMM has the capability to automatically launch the client, we strongly recommend you\n",
      "enable it. Enrollment can't complete until the client launches on the device. If you want to block\n",
      "the firmware update before the Knox E-FOTA client installation, you should disable the firmware\n",
      "update policy of the device on your EMM portal. See Block non-mainline firmware updates for more\n",
      "information. Install and launch the client through Knox Configure With Knox Configure, you can\n",
      "create a profile, upload the client app, add the client app to the profile, and assign the profile\n",
      "to your devices. For more information, see the Knox Configure documentation. Notify users to install\n",
      "and launch the client This section describes how to copy a sample message to notify device users to\n",
      "install the client app APK on their devices. 1. Sign in to the Knox Admin Portal. In the left\n",
      "sidebar, click Knox E-FOTA. 2. Go to Devices > All Devices. 3. Click Direct Download. 4. In the\n",
      "Direct Download popup, click Copy Message to copy the sample email to your clipboard. 5. Modify the\n",
      "message if needed and send it to the device users through email or SMS. Install the Knox E-FOTA:\n",
      "Legacy OneUI Core app For legacy OneUI Core devices, you must install the Knox E-FOTA: Legacy OneUI\n",
      "Core app instead of the standard Knox E-FOTA app. For a list of all devices running the Legacy OneUI\n",
      "Core, see Samsung devices with legacy OneUI Core UI Platform. You can install the Knox E-FOTA:\n",
      "Legacy OneUI Core app by doing any of the following: Manual download - Download the Knox E-FOTA:\n",
      "Legacy OneUI Core APK from . Managed Google Play - Search for the Knox E-FOTA: Legacy OneUI Core app\n",
      "on managed Google Play and approve and assign it to legacy OneUI Core devices. Configure the EMM to\n",
      "automatically install and launch the app. If you don't know whether your devices run Legacy OneUI\n",
      "Core, you can approve and assign both of the client apps on your EMM console. The proper app is\n",
      "automatically installed on each device depending on its type. That is: The Knox E-FOTA app will be\n",
      "installed on both OneUI and the latest OneUI Core devices. The Knox E-FOTA: Legacy OneUI Core app\n",
      "will be installed on legacy OneUI Core devices. OOBE or KSP - The proper app Knox E-FOTA or Knox\n",
      "E-FOTA: Legacy OneUI Core is automatically installed on your device depending on its type. Tutorial\n",
      "Progress You've completed 4/5 steps! Go to the next step.\n",
      "metadata:\n",
      " {'source': 'all_processed_data.json', 'seq_num': 39, 'title': 'Install and launch the Knox E-FOTA\n",
      "client', 'url': 'https://docs.samsungknox.com/admin/efota-one/get-started/install-and-launch-the-\n",
      "knox-efota-client', 'project': 'EFOTA', 'last_updated': '2023-07-26', 'family_tree': 'parent',\n",
      "'parent_id': None, 'orig_elements': ''}\n",
      "\n",
      "-----------------------------------------------\n",
      "3. Chunk: 4021 Characters\n",
      "-----------------------------------------------\n",
      ". When you turn the devices on, they are verified. The Knox E-FOTA app is then automatically\n",
      "installed and launched on them. You can streamline the user experience further by auto-enrolling and\n",
      "auto-assigning devices that a reseller uploads. #Install the EMM client and the Knox E-FOTA app on\n",
      "an unboxed device through OOBE If your new device has been unboxed and you want to install the EMM's\n",
      "client app and the Knox E-FOTA app through OOBE: 1. Ask your reseller to upload the device under\n",
      "your customer ID. 2. Use Knox Mobile Enrollment to configure the profile for the device. This\n",
      "automatically installs your EMM's client app on your device through OOBE. 3. Enroll the device in\n",
      "Knox E-FOTA. The Knox E-FOTA app will be downloaded and installed through OOBE. To prevent the Knox\n",
      "E-FOTA app from being uninstalled by an EMM policy, approve the Knox E-FOTA app through managed\n",
      "Google Play. The Knox E-FOTA app will not be automatically installed through OOBE if kiosk mode is\n",
      "enabled on the device by an EMM policy. Install the client through your EMM The following procedures\n",
      "describe how you can push the Knox E-FOTA app to devices through your (EMM). Install and launch the\n",
      "client through the Knox Service Plugin, Install the client through managed Google Play, Install the\n",
      "client through the EMM as an internal app #Install and launch the client through Knox Service Plugin\n",
      "You can use Knox Service Plugin (KSP) to install the Knox E-FOTA client app. 1. Set up KSP on your\n",
      "EMM console. See the Knox Service Plugin admin guide for information on how you can do this on the\n",
      "most common EMMs. 2. On your EMM's admin console, go to the Knox Service Plugin settings. 3. Under\n",
      "Device-wide policies (Device Owner), enable Enable device policy controls. 4. Under Device-wide\n",
      "policies (Device Owner) > Firmware update (FOTA) policy enable the following KSP policies: Enable\n",
      "firmware controls , Enable E-FOTA client installation & launch In the following example, the Knox\n",
      "Manage console is configured to enable these settings. 5. Enroll your device to your EMM in DO mode:\n",
      "1. Unbox the device if it is brand new. If it is not brand new, perform a factory reset. You are\n",
      "prompted to run the setup wizard. 2. Follow the device setup wizard. When you're prompted to enter a\n",
      "Google email or phone number, enter the DPC identifier. The DPC identifier differs depending on the\n",
      "EMM you're using, but it typically starts with afw#. There are several other ways to enroll devices\n",
      "in DO mode. For example, you can use Knox Mobile Enrollment or Zero-touch enrollment. The EMM app is\n",
      "installed. The user is prompted to sign in to complete enrollment. The EMM app automatically\n",
      "installs the KSP client app. In turn, the KSP app installs and launches the Knox E-FOTA client app.\n",
      "#Install the client through managed Google Play If your EMM supports the following functionality\n",
      "through managed Google play, you can approve the Knox E-FOTA app, push the app to your devices, and\n",
      "launch the app on those devices. App installation (DO), Remote app launch The general workflow is as\n",
      "follows: 1. Sign in to your EMM. 2. Use your EMM's search functionality to search for the Knox\n",
      "E-FOTA app in managed Google Play. 3. From the search results, select the Knox E-FOTA app and\n",
      "approve it. 4. Configure the EMM such that: It automatically installs the app on devices. It\n",
      "automatically launches the app after installation. 5. Assign the app to the devices that you plan to\n",
      "enroll in Knox E-FOTA. If your EMM has the capability to automatically launch the client, we\n",
      "strongly recommend you enable it. Enrollment can't complete until the client launches on the device.\n",
      "For detailed information, refer to your EMM's documentation. #Install the client through your EMM as\n",
      "an internal app If you use an EMM that has an app installation functionality, you may be able to use\n",
      "your EMM's console to push the client app to your devices. For general information on how to push an\n",
      "app to devices through various EMMs, see Install an app to devices through an EMM\n",
      "metadata:\n",
      " {'source': 'all_processed_data.json', 'seq_num': 39, 'title': 'Install and launch the Knox E-FOTA\n",
      "client', 'url': 'https://docs.samsungknox.com/admin/efota-one/get-started/install-and-launch-the-\n",
      "knox-efota-client', 'project': 'EFOTA', 'last_updated': '2023-07-26', 'family_tree': 'parent',\n",
      "'parent_id': None, 'orig_elements': ''}\n",
      "\n",
      "-----------------------------------------------\n",
      "4. Chunk: 4058 Characters\n",
      "-----------------------------------------------\n",
      "Step 1 --- Download and install the agent app. Tutorial to download and install the Knox E-FOTA On-\n",
      "Premises agent app. First, obtain access to Knox E-FOTA On-Premises from a Samsung reseller. Once\n",
      "your account is granted access, it's time to install the Knox E-FOTA On-Premises agent app. Contact\n",
      "a Samsung technical support engineer to get new agent app versions. There are three ways to install\n",
      "the agent on your devices: Upload the package through the Knox E-FOTA On-Premises portal Package\n",
      "uploading is only supported if the Knox E-FOTA agent is already installed and running on your\n",
      "devices. Manually install the package , Install the client through your EMM Upload the package\n",
      "through the Knox E-FOTA On-Premises portal If you want to automatically install the agent on your\n",
      "devices, do as follows: 1. Sign in to the Knox E-FOTA On-Premises admin console. Ensure you're in\n",
      "the correct workspace by verifying the workspace name in the upper-right corner of the console. 2.\n",
      "Click your account icon. 3. In the menu that's shown, click Settings. 4. The navigation sidebar pane\n",
      "refreshes with a new set of tabs. Click Agent. 5. Click ACTIONS > Upload Agent. 6. A popup is\n",
      "displayed prompting you to upload an agent file. Click BROWSE to launch your PC's file explorer and\n",
      "select the file. Then, click UPLOAD. The Agent screen is then refreshed with the new agent\n",
      "information. Click Actions > Start Deployment to allow the devices in your workspace to download and\n",
      "install the new Knox E-FOTA On-Premises agent app. Manually install the package Alternatively, you\n",
      "can manually install the package on a device. This method is recommended if you want to test the\n",
      "agent before deploying it to the full device fleet. Before you begin, ensure you have the following\n",
      "prepared: A PC running Windows 10, Your organization's server, connected to the internet through Wi-\n",
      "Fi or a mobile network, A device secured by Samsung Knox, connected to the internet through Wi-Fi or\n",
      "a mobile network #Create a configuration file On your PC, you first need to create a file called\n",
      "efota_config. In a text editor of your choice, enter the URL of your on-premises server. The on-\n",
      "premises server URL is defined by your organization and is used to access the Knox E-FOTA On-\n",
      "Premises web console. If you're not sure what this URL is, contact the Samsung installation engineer\n",
      "who configured your Knox E-FOTA On-Premises instance. For example, the URL might be in one of the\n",
      "following formats: https\\://example-sec.fota.net:6443/admin/, http\\://181.107.61.233:6380/admin/\n",
      "Then, enter the server password on the line underneath and save the file. Ensure the file isn't\n",
      "saved with a file extension. Your efota_config file should look like the following: ```\n",
      "https://example.server.url.com/admin/ password_of_server ``` Alternatively, you can choose to set\n",
      "the server URL and password through an Android intent. To do so, refer to the following sample code:\n",
      "```java // package name, action final String PACKAGE_NAME = \"com.samsung.android.efotaagent\"; final\n",
      "String ACTION_CONFIG_MODE = PACKAGE_NAME + \".CONFIG_MODE\"; final String ACTION_SERVER_URL =\n",
      "PACKAGE_NAME + \".SERVER_URL\"; final String ACTION_BKS_PASSWORD = PACKAGE_NAME+\".BKS_INFO\"; // set\n",
      "Config mode final String CONFIG_MODE_EXTRA = \"MODE\"; final String CONFIG_MODE_FILE = \"file\"; final\n",
      "String CONFIG_MODE_INTENT = \"intent\"; // set server URL final String SERVER_URL_EXTRA = \"URL\"; final\n",
      "String SERVER_URL = \"https://example.server.url.com/admin/\"; // set server password final String\n",
      "BKS_INFO_EXTRA = \"BKS\"; final String BKS_PASSWORD = \"password_of_server\";... // set config mode to\n",
      "intent sendBroadcast(new Intent() .setAction(ACTION_CONFIG_MODE) .putExtra(CONFIG_MODE_EXTRA,\n",
      "CONFIG_MODE_INTENT) .setPackage(PACKAGE_NAME) ); // set URL by intent sendBroadcast(new Intent()\n",
      ".setAction(ACTION_SERVER_URL) .putExtra(SERVER_URL_EXTRA, SERVER_URL) .setPackage(PACKAGE_NAME) );\n",
      "// set password by intent sendBroadcast(new Intent() .setAction(ACTION_BKS_PASSWORD)\n",
      ".putExtra(BKS_INFO_EXTRA, BKS_PASSWORD) .setPackage(PACKAGE_NAME) );..\n",
      "metadata:\n",
      " {'source': 'all_processed_data.json', 'seq_num': 46, 'title': 'Step 1 --- Download and install the\n",
      "agent app', 'url': 'https://docs.samsungknox.com/admin/efota-one/on-premises/get-\n",
      "started/step-1-download-and-install-the-agent-app', 'project': 'EFOTA', 'last_updated':\n",
      "'2023-07-26', 'family_tree': 'parent', 'parent_id': None, 'orig_elements': ''}\n"
     ]
    }
   ],
   "source": [
    "print(\"##################################\")\n",
    "print(\"query: \", query)\n",
    "print(\"##################################\")\n",
    "\n",
    "print (colored(\"\\n\\n### Answer ###\", \"blue\"))\n",
    "print_ww(response)\n",
    "\n",
    "print (colored(\"\\n\\n### Contexts ###\", \"green\"))\n",
    "show_context_used(contexts)"
   ]
  },
  {
   "cell_type": "code",
   "execution_count": null,
   "id": "fec4a167-f43a-4f13-a06f-df5ad4080a50",
   "metadata": {},
   "outputs": [],
   "source": []
  }
 ],
 "metadata": {
  "kernelspec": {
   "display_name": "conda_python3",
   "language": "python",
   "name": "conda_python3"
  },
  "language_info": {
   "codemirror_mode": {
    "name": "ipython",
    "version": 3
   },
   "file_extension": ".py",
   "mimetype": "text/x-python",
   "name": "python",
   "nbconvert_exporter": "python",
   "pygments_lexer": "ipython3",
   "version": "3.10.14"
  },
  "vscode": {
   "interpreter": {
    "hash": "4b8e647a79df62bf31906a725b05de775d285962ac600487339d38c51a5c07b1"
   }
  }
 },
 "nbformat": 4,
 "nbformat_minor": 5
}
