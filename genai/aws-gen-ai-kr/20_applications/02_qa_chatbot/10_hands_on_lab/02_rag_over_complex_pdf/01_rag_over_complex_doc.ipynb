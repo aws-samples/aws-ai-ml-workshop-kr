{
 "cells": [
  {
   "cell_type": "markdown",
   "id": "631380ad-0e36-43b7-961d-09f26460afe7",
   "metadata": {
    "tags": []
   },
   "source": [
    "# **RAG over `Complex PDF`**\n",
    "<img src=\"../../../../imgs/advanced-rag/complex-pdf/complex-pdf-workflow.png\"  width=\"800\">\n",
    "\n",
    "-----"
   ]
  },
  {
   "cell_type": "markdown",
   "id": "60af98b9-fe32-4992-b05f-3ec1ab8c0f25",
   "metadata": {},
   "source": [
    "## **`0. Env. Setting - Sets the environment required for Hands on`**\n",
    "--- "
   ]
  },
  {
   "cell_type": "markdown",
   "id": "332910f5-c43d-49ee-b605-1e872bd681fd",
   "metadata": {
    "tags": []
   },
   "source": [
    "### 0.1 Setup - role setup and package installation (30 minutes)\n",
    " - #### [setup.ipynb](./setup/setup.ipynb)"
   ]
  },
  {
   "cell_type": "markdown",
   "id": "5e2db578-1b67-4e58-a942-2e1fa80ce8bf",
   "metadata": {
    "tags": []
   },
   "source": [
    "### 0.2 Amazon OpenSearch - Install Amazon OpenSearch for lexical and semantic search.(60 minutes)\n",
    "- #### [setup_opensearch_simple.ipynb](./setup/setup_opensearch_simple.ipynb)"
   ]
  },
  {
   "cell_type": "markdown",
   "id": "932d9ef6-f929-4c8e-b306-87498f54b9bf",
   "metadata": {},
   "source": [
    "## **`1. Preprocessing and Indexing Documents`**\n",
    "---"
   ]
  },
  {
   "cell_type": "markdown",
   "id": "4dea8d64-d07e-4381-8964-78560af955a5",
   "metadata": {},
   "source": [
    "### 1.1 Data exploration and Amazon OpenSearch indexing. \n",
    "- #### [05_0_load_complex_pdf_kr_opensearch.ipynb](../../01_preprocess_docs/05_0_load_complex_pdf_kr_opensearch.ipynb)"
   ]
  },
  {
   "cell_type": "markdown",
   "id": "c646141b-eb33-4f93-8e82-7374ae531f62",
   "metadata": {
    "tags": []
   },
   "source": [
    "## **`2. RAG - Practice RAG-based searching.`**\n",
    "---"
   ]
  },
  {
   "cell_type": "markdown",
   "id": "6a459db3-56d7-4a94-902f-62a4ee174dac",
   "metadata": {},
   "source": [
    "### 2.1 Question answering for complex doc (with Amazon Bedrock (Claude-3))\n",
    "- #### [rag_complex_doc.ipynb](../../02_rag/06_rag_complex_doc.ipynb)"
   ]
  },
  {
   "cell_type": "code",
   "execution_count": null,
   "id": "b9667f3c-78ec-4c89-97ad-6af922446ddf",
   "metadata": {},
   "outputs": [],
   "source": []
  }
 ],
 "metadata": {
  "kernelspec": {
   "display_name": "conda_python3",
   "language": "python",
   "name": "conda_python3"
  },
  "language_info": {
   "codemirror_mode": {
    "name": "ipython",
    "version": 3
   },
   "file_extension": ".py",
   "mimetype": "text/x-python",
   "name": "python",
   "nbconvert_exporter": "python",
   "pygments_lexer": "ipython3",
   "version": "3.10.14"
  }
 },
 "nbformat": 4,
 "nbformat_minor": 5
}
