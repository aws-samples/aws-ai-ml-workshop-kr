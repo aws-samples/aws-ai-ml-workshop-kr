{
 "cells": [
  {
   "cell_type": "markdown",
   "id": "631380ad-0e36-43b7-961d-09f26460afe7",
   "metadata": {},
   "source": [
    "# **RAG - Based on `hybrid-fusion` and `reranker`**\n",
    "-----"
   ]
  },
  {
   "cell_type": "markdown",
   "id": "60af98b9-fe32-4992-b05f-3ec1ab8c0f25",
   "metadata": {},
   "source": [
    "## **`0. Env. Setting - Hands on에 필요한 환경을 셋팅합니다.`**\n",
    "--- "
   ]
  },
  {
   "cell_type": "markdown",
   "id": "332910f5-c43d-49ee-b605-1e872bd681fd",
   "metadata": {
    "tags": []
   },
   "source": [
    "### 0.1 Setup - role setup 및 package 설치 (10분)\n",
    " - #### [setup.ipynb](../../../00_setup/setup.ipynb)"
   ]
  },
  {
   "cell_type": "markdown",
   "id": "5e2db578-1b67-4e58-a942-2e1fa80ce8bf",
   "metadata": {
    "tags": []
   },
   "source": [
    "### 0.2 Amazon OpenSearch - Lexical 및 Semantic search를 위한 Amazon OpenSearch를 설치합니다.(60분)\n",
    " - #### [setup_opensearch_simple.ipynb](../../../00_setup/setup_opensearch_simple.ipynb)"
   ]
  },
  {
   "cell_type": "markdown",
   "id": "932d9ef6-f929-4c8e-b306-87498f54b9bf",
   "metadata": {},
   "source": [
    "## **`2. Preprocessing - document를 전처리 합니다.`**\n",
    "---"
   ]
  },
  {
   "cell_type": "markdown",
   "id": "4dea8d64-d07e-4381-8964-78560af955a5",
   "metadata": {},
   "source": [
    "### 2.1 데이터 탐색 및 Amazon OpenSearch indexing 합니다. \n",
    "- 한글의 신한은행 FAQ 데이터 세트 사용시\n",
    "    - #### [04_0_load_pdf_kr_docs_opensearch.ipynb](../01_preprocess_docs/04_0_load_pdf_kr_docs_opensearch.ipynb)\n",
    "- 녹스 영어 데이터 세트 사용시\n",
    "    - #### [03_0_load_json_en_parent_child_opensearch.ipynb](../01_preprocess_docs/03_0_load_json_en_parent_child_opensearch.ipynb)\n",
    "    - #### 추천/옵션 노트북: [/04_warming_up_opensearch_english.ipynb](../01_preprocess_docs/warming_up/04_warming_up_opensearch_english.ipynb)\n",
    "     "
   ]
  },
  {
   "cell_type": "markdown",
   "id": "c646141b-eb33-4f93-8e82-7374ae531f62",
   "metadata": {
    "tags": []
   },
   "source": [
    "## **`3. RAG - RAG 기반 검색을 실습해 봅니다.`**\n",
    "---"
   ]
  },
  {
   "cell_type": "markdown",
   "id": "6a459db3-56d7-4a94-902f-62a4ee174dac",
   "metadata": {},
   "source": [
    "### 3.1 Hybrid-fusion\n",
    "- #### [01_rag_hybrid_search.ipynb](../02_rag/01_rag_hybrid_search.ipynb)"
   ]
  },
  {
   "cell_type": "markdown",
   "id": "b1d4d723-e612-4b4c-961c-261c4e7d85ac",
   "metadata": {},
   "source": [
    "### 3.2 Hybrid-fusion + Reranker\n",
    "- #### [02_rag_reranker.ipynb](../02_rag/02_rag_reranker.ipynb)"
   ]
  },
  {
   "cell_type": "markdown",
   "id": "5b3fa58b-2170-4bcb-83d6-5205163f67cc",
   "metadata": {},
   "source": [
    "### 3.3 Hybrid-fusion + Reranker + Parent document\n",
    "- #### [05_rag_parent_document.ipynb](../02_rag/05_rag_parent_document.ipynb)"
   ]
  },
  {
   "cell_type": "markdown",
   "id": "7dd3e9f8-0827-4402-accf-12cd0e9388c8",
   "metadata": {
    "tags": []
   },
   "source": [
    "## **`4. Evaluation - 결과를 평가해 봅니다`**\n",
    "---"
   ]
  },
  {
   "cell_type": "markdown",
   "id": "7caf7ab9-788e-43b0-9fc0-fdb1d95bb067",
   "metadata": {
    "tags": []
   },
   "source": [
    "### 4.1 Create ground truth\n",
    "- #### [01_create_ground_truth.ipynb](../05_evaluation/01_create_ground_truth.ipynb)"
   ]
  },
  {
   "cell_type": "markdown",
   "id": "d17fbe4e-ff55-4b28-8e9e-617025f9180b",
   "metadata": {
    "tags": []
   },
   "source": [
    "### 4.2 Evaluation\n",
    "- #### [02_evaluation.ipynb](../05_evaluation/02_evaluation.ipynb)"
   ]
  },
  {
   "cell_type": "markdown",
   "id": "b5035096-320e-4765-b009-b2e3c4189b73",
   "metadata": {},
   "source": [
    "## **`5. Application을 실행해봅니다.`**\n",
    "---"
   ]
  },
  {
   "cell_type": "markdown",
   "id": "cc4f5e20-e2fa-4525-a41f-f2c345b64067",
   "metadata": {},
   "source": [
    "### 5.1 Bedrock.py - Application Back-end\n",
    "- #### [04_web_ui/bedrock.py](../04_web_ui/bedrock.py)"
   ]
  },
  {
   "cell_type": "markdown",
   "id": "dacd4c75",
   "metadata": {},
   "source": [
    "### 5.2 Streamlit.py - Application Front-end\n",
    "- #### [04_web_ui/streamlit.py](../04_web_ui/streamlit.py)"
   ]
  },
  {
   "cell_type": "markdown",
   "id": "2f9024c6-a2d3-48e7-856a-7e59a239856d",
   "metadata": {},
   "source": [
    "- #### [어플리케이션 아키텍처와 도메인구성](../06_architecture/readme.md)"
   ]
  }
 ],
 "metadata": {
  "kernelspec": {
   "display_name": "conda_python3",
   "language": "python",
   "name": "conda_python3"
  },
  "language_info": {
   "codemirror_mode": {
    "name": "ipython",
    "version": 3
   },
   "file_extension": ".py",
   "mimetype": "text/x-python",
   "name": "python",
   "nbconvert_exporter": "python",
   "pygments_lexer": "ipython3",
   "version": "3.10.13"
  }
 },
 "nbformat": 4,
 "nbformat_minor": 5
}
