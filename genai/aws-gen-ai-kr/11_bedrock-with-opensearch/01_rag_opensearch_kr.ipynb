{
 "cells": [
  {
   "cell_type": "markdown",
   "id": "fb017ab4-a16a-4c67-b875-a29eed6aa5bd",
   "metadata": {
    "tags": []
   },
   "source": [
    "# OpenSearch 한글 형태소 분석기 통한 키워드 검색 \n",
    ">이 노트북은,\n",
    "> - SageMaker Studio* **`Data Science 3.0`** kernel 및 ml.t3.medium 인스턴스에서 테스트 되었습니다.\n",
    "> - SageMaker Notebook **`conda_python3`** 에서 테스트 되었습니다.\n",
    "\n",
    "\n",
    "여기서는 OpenSearch 가 설치된 것을 가정하고, 한글 형태소 분석기의 사용하는 법을 알려 드립니다.\n",
    "\n",
    "---\n",
    "\n",
    "### [중요]\n",
    "- 이 노트북은 Bedrock Titan Embedding Model 을 기본으로 사용합니다. KoSIMCSERoberta 를 세이지 메이커 엔드포인트로 사용하신다면 아래의 선수 조건을 확인하세요.\n",
    "\n",
    "#### 선수조건 (KoSIMCSERoberta 사용시)\n",
    "- 임베딩 모델의 세이지 메이커 엔드포인트가 액티브 된 상태를 가정 합니다.\n",
    "    - 세이지 메이커 엔드포인트에 배포하기 위해서는 아래 노트북을 실행하시고, Endpoint Name 만을 복사 하시면 됩니다.\n",
    "    - [KoSIMCSERoberta Embedding Model 배포](https://github.com/gonsoomoon-ml/Kor-LLM-On-SageMaker/blob/main/1-Lab01-Deploy-LLM/4.Kor-Embedding-Model.ipynb)\n",
    "    - SageMaker Endpoint 에 대해서는 공식 개발자 문서를 참조하세요 --> [Create your endpoint and deploy your model](https://docs.aws.amazon.com/sagemaker/latest/dg/realtime-endpoints-deployment.html)\n",
    "- 오픈 서치 서비스가 액티브 된 상태를 가정 합니다.\n",
    "\n",
    "\n",
    "---\n",
    "## Ref: \n",
    "- [Amazon OpenSearch Service로 검색 구현하기](https://catalog.us-east-1.prod.workshops.aws/workshops/de4e38cb-a0d9-4ffe-a777-bf00d498fa49/ko-KR/indexing/blog-reindex)\n",
    "- [OpenSearch Python Client](https://opensearch.org/docs/1.3/clients/python-high-level/)\n",
    "- [OpenSearch Match, Multi-Match, and Match Phrase Queries](https://opster.com/guides/opensearch/opensearch-search-apis/opensearch-match-multi-match-and-match-phrase-queries/)\n",
    "- OpenSearch Query 에서 Filter, Must, Should, Not Mush 에 대한 설명 입니다.\n",
    "    - [OpenSearch Boolean Queries](https://opster.com/guides/opensearch/opensearch-search-apis/opensearch-boolean-queries/#:~:text=Boolean%20queries%20are%20used%20to,as%20terms%2C%20match%20and%20query_string.)\n",
    "- [OpenSearch Query Description (한글)](https://esbook.kimjmin.net/05-search)\n"
   ]
  },
  {
   "cell_type": "markdown",
   "id": "8a2f9c19-c43c-435c-944d-77984b54a6d8",
   "metadata": {},
   "source": [
    "## 1. 환경 세팅"
   ]
  },
  {
   "cell_type": "code",
   "execution_count": 1,
   "id": "6a20ae24-5c42-4e67-b2cb-8db675e180bc",
   "metadata": {
    "tags": []
   },
   "outputs": [],
   "source": [
    "import boto3\n",
    "region = boto3.Session().region_name\n",
    "opensearch = boto3.client('opensearch', region)\n",
    "\n",
    "%store -r opensearch_user_id opensearch_user_password domain_name opensearch_domain_endpoint\n",
    "\n",
    "try:\n",
    "    opensearch_user_id\n",
    "    opensearch_user_password\n",
    "    domain_name\n",
    "    opensearch_domain_endpoint\n",
    "   \n",
    "except NameError:\n",
    "    print(\"++++++++++++++++++++++++++++++++++++++++++++++++++++++++++++++++++++++++++++\")\n",
    "    print(\"[ERROR] Run 00_setup notebook first or Create Your Own OpenSearch Domain\")\n",
    "    print(\"++++++++++++++++++++++++++++++++++++++++++++++++++++++++++++++++++++++++++++\")"
   ]
  },
  {
   "cell_type": "code",
   "execution_count": 2,
   "id": "787df0f0-7fd9-47ca-a0c3-91b3037d6a10",
   "metadata": {
    "tags": []
   },
   "outputs": [],
   "source": [
    "%load_ext autoreload\n",
    "%autoreload 2"
   ]
  },
  {
   "cell_type": "markdown",
   "id": "950cf3b9-26a3-4096-a6e4-4b9a39d2e82f",
   "metadata": {
    "tags": []
   },
   "source": [
    "### Bedrock Client 생성"
   ]
  },
  {
   "cell_type": "code",
   "execution_count": 3,
   "id": "e7e9a4a1-ba92-422a-96b3-c52e0b826b47",
   "metadata": {
    "tags": []
   },
   "outputs": [
    {
     "name": "stdout",
     "output_type": "stream",
     "text": [
      "[('Titan Text Large', 'amazon.titan-tg1-large'),\n",
      " ('Titan Text Embeddings v2', 'amazon.titan-embed-g1-text-02'),\n",
      " ('Titan Text G1 - Lite', 'amazon.titan-text-lite-v1'),\n",
      " ('Titan Text G1 - Express', 'amazon.titan-text-express-v1'),\n",
      " ('Titan Embeddings G1 - Text', 'amazon.titan-embed-text-v1'),\n",
      " ('Titan Text Embeddings V2', 'amazon.titan-embed-text-v2:0'),\n",
      " ('Titan Multimodal Embeddings G1', 'amazon.titan-embed-image-v1'),\n",
      " ('Titan Image Generator G1', 'amazon.titan-image-generator-v1'),\n",
      " ('SDXL 1.0', 'stability.stable-diffusion-xl-v1'),\n",
      " ('J2 Grande Instruct', 'ai21.j2-grande-instruct'),\n",
      " ('J2 Jumbo Instruct', 'ai21.j2-jumbo-instruct'),\n",
      " ('Jurassic-2 Mid', 'ai21.j2-mid'),\n",
      " ('Jurassic-2 Mid', 'ai21.j2-mid-v1'),\n",
      " ('Jurassic-2 Ultra', 'ai21.j2-ultra'),\n",
      " ('Jurassic-2 Ultra', 'ai21.j2-ultra-v1'),\n",
      " ('Claude Instant', 'anthropic.claude-instant-v1'),\n",
      " ('Claude', 'anthropic.claude-v2:1'),\n",
      " ('Claude', 'anthropic.claude-v2'),\n",
      " ('Claude 3 Sonnet', 'anthropic.claude-3-sonnet-20240229-v1:0'),\n",
      " ('Claude 3 Haiku', 'anthropic.claude-3-haiku-20240307-v1:0'),\n",
      " ('Claude 3 Opus', 'anthropic.claude-3-opus-20240229-v1:0'),\n",
      " ('Command', 'cohere.command-text-v14'),\n",
      " ('Command R', 'cohere.command-r-v1:0'),\n",
      " ('Command R+', 'cohere.command-r-plus-v1:0'),\n",
      " ('Command Light', 'cohere.command-light-text-v14'),\n",
      " ('Embed English', 'cohere.embed-english-v3'),\n",
      " ('Embed Multilingual', 'cohere.embed-multilingual-v3'),\n",
      " ('Llama 2 Chat 13B', 'meta.llama2-13b-chat-v1'),\n",
      " ('Llama 2 Chat 70B', 'meta.llama2-70b-chat-v1'),\n",
      " ('Llama 3 8B Instruct', 'meta.llama3-8b-instruct-v1:0'),\n",
      " ('Llama 3 70B Instruct', 'meta.llama3-70b-instruct-v1:0'),\n",
      " ('Mistral 7B Instruct', 'mistral.mistral-7b-instruct-v0:2'),\n",
      " ('Mixtral 8x7B Instruct', 'mistral.mixtral-8x7b-instruct-v0:1'),\n",
      " ('Mistral Large', 'mistral.mistral-large-2402-v1:0')]\n"
     ]
    }
   ],
   "source": [
    "import boto3\n",
    "import os\n",
    "import json\n",
    "from botocore.config import Config\n",
    "import botocore \n",
    "from pprint import pprint\n",
    "from termcolor import colored\n",
    "\n",
    "session = boto3.Session()\n",
    "\n",
    "retry_config = Config(\n",
    "    region_name=os.environ.get(\"AWS_DEFAULT_REGION\", None),\n",
    "    retries={\n",
    "        \"max_attempts\": 10,\n",
    "        \"mode\": \"standard\",\n",
    "    },\n",
    ")\n",
    "\n",
    "# modelId = \"anthropic.claude-instant-v1\"  # (Change this to try different model versions)\n",
    "modelId = \"anthropic.claude-3-sonnet-20240229-v1:0\"\n",
    "accept = \"application/json\"\n",
    "contentType = \"application/json\"\n",
    "\n",
    "bedrock = boto3.client(service_name='bedrock')\n",
    "boto3_bedrock = boto3.client(service_name='bedrock-runtime',config=retry_config)\n",
    "\n",
    "model_list = bedrock.list_foundation_models()\n",
    "result = [(fm_list[\"modelName\"], fm_list[\"modelId\"]) for fm_list in model_list[\"modelSummaries\"] if fm_list['inferenceTypesSupported'] == ['ON_DEMAND']]\n",
    "pprint(result)"
   ]
  },
  {
   "cell_type": "markdown",
   "id": "7ec7b1ce-4407-4164-b28e-84cfde5f32f7",
   "metadata": {
    "tags": []
   },
   "source": [
    "## 2. Titan Embedding 및 LLM 인 Claude-3 sonnet 모델 로딩"
   ]
  },
  {
   "cell_type": "markdown",
   "id": "f4292e3a-e33e-469d-b73d-3904919ab08b",
   "metadata": {},
   "source": [
    "### LLM 로딩 (Claude-v3 sonnet)"
   ]
  },
  {
   "cell_type": "code",
   "execution_count": 4,
   "id": "bc5d7ac7-f528-4ed3-a855-cdd519ddc17b",
   "metadata": {
    "tags": []
   },
   "outputs": [],
   "source": [
    "from langchain_community.chat_models import BedrockChat\n",
    "from langchain_core.messages import HumanMessage\n",
    "from langchain.callbacks.streaming_stdout import StreamingStdOutCallbackHandler"
   ]
  },
  {
   "cell_type": "code",
   "execution_count": 5,
   "id": "97b6ae65-4225-431f-a2c7-52fb22e814ed",
   "metadata": {
    "tags": []
   },
   "outputs": [
    {
     "name": "stderr",
     "output_type": "stream",
     "text": [
      "/home/ec2-user/anaconda3/envs/python3/lib/python3.10/site-packages/langchain_core/_api/deprecation.py:119: LangChainDeprecationWarning: The class `BedrockChat` was deprecated in LangChain 0.0.34 and will be removed in 0.3. An updated version of the class exists in the langchain-aws package and should be used instead. To use it run `pip install -U langchain-aws` and import as `from langchain_aws import ChatBedrock`.\n",
      "  warn_deprecated(\n"
     ]
    },
    {
     "data": {
      "text/plain": [
       "BedrockChat(client=<botocore.client.BedrockRuntime object at 0x7f5cedd76050>, region_name='us-west-2', model_id='anthropic.claude-3-sonnet-20240229-v1:0', model_kwargs={'anthropic_version': 'bedrock-2023-05-31', 'max_tokens': 4096, 'temperature': 0, 'top_k': 350, 'top_p': 0.999}, streaming=True, callbacks=[<langchain_core.callbacks.streaming_stdout.StreamingStdOutCallbackHandler object at 0x7f5cef42f640>])"
      ]
     },
     "execution_count": 5,
     "metadata": {},
     "output_type": "execute_result"
    }
   ],
   "source": [
    "llm_text = BedrockChat(\n",
    "    model_id=modelId,\n",
    "    streaming=True,\n",
    "    callbacks=[StreamingStdOutCallbackHandler()],\n",
    "    model_kwargs={\n",
    "        \"anthropic_version\": \"bedrock-2023-05-31\",\n",
    "        \"max_tokens\": 4096,\n",
    "        \"temperature\" : 0,\n",
    "        \"top_k\": 350,\n",
    "        \"top_p\": 0.999\n",
    "    }\n",
    ")\n",
    "llm_text"
   ]
  },
  {
   "cell_type": "code",
   "execution_count": 6,
   "id": "0687e49d-2e95-4c17-acc8-b3d7949e0676",
   "metadata": {
    "tags": []
   },
   "outputs": [
    {
     "name": "stdout",
     "output_type": "stream",
     "text": [
      "생명보험과 손해보험은 보험의 주요 유형으로 다음과 같은 차이점이 있습니다.\n",
      "\n",
      "1. 보장 대상\n",
      "- 생명보험은 사람의 생명과 관련된 위험을 보장합니다. 예를 들어 사망, 상해, 질병 등을 대상으로 합니다.\n",
      "- 손해보험은 재산상의 손해나 배상책임을 보장합니다. 예를 들어 화재, 자동차사고, 배상책임 등을 대상으로 합니다.\n",
      "\n",
      "2. 보험금 지급 사유\n",
      "- 생명보험은 피보험자의 사망, 상해, 질병 등 인적 위험이 발생했을 때 보험금을 지급합니다.\n",
      "- 손해보험은 재물의 손해나 법적 배상책임이 발생했을 때 실제 입은 손해를 보상합니다.\n",
      "\n",
      "3. 보험기간\n",
      "- 생명보험은 일반적으로 장기계약이며, 종신보험의 경우 피보험자 종신까지 보장됩니다.\n",
      "- 손해보험은 단기계약이 일반적이며, 1년 만기로 갱신하는 경우가 많습니다.\n",
      "\n",
      "4. 보험료 산정 기준\n",
      "- 생명보험료는 피보험자의 나이, 건강상태, 가입금액 등에 따라 결정됩니다.\n",
      "- 손해보험료는 보험목적물의 가액, 위험률, 보상한도 등에 따라 결정됩니다.\n",
      "\n",
      "요컨대 생명보험과 손해보험은 보장대상, 보험금 지급사유, 기간, 보험료 산정기준 등에서 차이가 있습니다."
     ]
    }
   ],
   "source": [
    "prompt1 = \"나는 인공지능 AI 보험 서비스입니다. 생명과 손해 보험의 차이에 대해 설명해 주세요.\"\n",
    "messages = [\n",
    "    HumanMessage(content=prompt1)\n",
    "]\n",
    "\n",
    "# messages = [\n",
    "#     {\"role\": \"user\", \"content\": [{\"type\": \"text\", \"text\": prompt1}]},\n",
    "# ]\n",
    "\n",
    "response1 = llm_text.invoke(messages)"
   ]
  },
  {
   "cell_type": "code",
   "execution_count": 7,
   "id": "12c47ef7-a360-446a-8360-888fb9b23085",
   "metadata": {
    "tags": []
   },
   "outputs": [
    {
     "name": "stdout",
     "output_type": "stream",
     "text": [
      "네, 생명보험과 손해보험의 대상을 좀 더 자세히 설명드리겠습니다.\n",
      "\n",
      "생명보험의 대상:\n",
      "- 개인의 생명 자체가 주된 보험대상입니다.\n",
      "- 사망보험금, 상해보험금, 질병보험금 등을 보장합니다.\n",
      "- 피보험자 개인의 생명과 신체에 관련된 모든 위험을 대상으로 합니다.\n",
      "- 예를 들어 사망, 장애, 암, 입원, 수술 등의 위험을 보장합니다.\n",
      "\n",
      "손해보험의 대상: \n",
      "- 재산적 가치가 있는 유형, 무형의 모든 경제적 이익이 대상입니다.\n",
      "- 화재, 자동차사고, 해상사고, 배상책임 등으로 인한 재산상 손해를 보상합니다.\n",
      "- 구체적으로 건물, 자동차, 선박, 항공기 등의 재물손해를 보상합니다.\n",
      "- 또한 제3자에 대한 법적 배상책임도 보장대상에 포함됩니다.\n",
      "\n",
      "요컨대 생명보험은 개인의 생명과 신체를, 손해보험은 재산적 가치가 있는 경제적 이익과 법적 배상책임을 주된 보험대상으로 합니다."
     ]
    }
   ],
   "source": [
    "prompt2 = \"대상을 좀더 상세히 설명해 주세요\"\n",
    "messages = [\n",
    "    HumanMessage(content=prompt1),\n",
    "    response1,\n",
    "    HumanMessage(content=prompt2),\n",
    "]\n",
    "response2 = llm_text.invoke(messages)"
   ]
  },
  {
   "cell_type": "markdown",
   "id": "16b9ad47-56b6-427d-84a6-4e792bf4f6f9",
   "metadata": {},
   "source": [
    "### Embedding 모델 선택"
   ]
  },
  {
   "cell_type": "code",
   "execution_count": 8,
   "id": "65afde2a-097b-4a00-82e4-e7bab6e2a4d1",
   "metadata": {
    "tags": []
   },
   "outputs": [],
   "source": [
    "from langchain_community.embeddings import BedrockEmbeddings\n",
    "\n",
    "llm_emb = BedrockEmbeddings(\n",
    "    client=boto3_bedrock,\n",
    "    # model_id=\"cohere.embed-multilingual-v3\"\n",
    "    model_id=\"amazon.titan-embed-g1-text-02\"\n",
    ")"
   ]
  },
  {
   "cell_type": "markdown",
   "id": "160f25b2-8b20-4b57-bc66-bf2b6004cc1c",
   "metadata": {
    "tags": []
   },
   "source": [
    "-------------------"
   ]
  },
  {
   "cell_type": "markdown",
   "id": "a8b8090d-f864-4419-bf20-8135914c0876",
   "metadata": {
    "tags": []
   },
   "source": [
    "## 3. OpenSearch 벡터 Index 생성\n",
    "### 선수 조건\n",
    "- 랭체인 오프서처 참고 자료\n",
    "    - [Langchain Opensearch](https://python.langchain.com/docs/integrations/vectorstores/opensearch)"
   ]
  },
  {
   "cell_type": "markdown",
   "id": "3a6c5796-a418-4505-ba28-0ca33c3fa9f8",
   "metadata": {},
   "source": [
    "### 오픈 서치 인덱스 유무에 따라 삭제\n",
    "오픈 서치에 해당 인덱스가 존재하면, 삭제 합니다. "
   ]
  },
  {
   "cell_type": "code",
   "execution_count": 9,
   "id": "b441a96e-6a2b-42d2-8b27-db78d5dd97d1",
   "metadata": {
    "tags": []
   },
   "outputs": [],
   "source": [
    "from opensearchpy import OpenSearch, RequestsHttpConnection\n",
    "http_auth = (opensearch_user_id, opensearch_user_password)\n",
    "os_client = OpenSearch(\n",
    "            hosts=[\n",
    "                {'host': opensearch_domain_endpoint.replace(\"https://\", \"\"),\n",
    "                 'port': 443\n",
    "                }\n",
    "            ],\n",
    "            http_auth=http_auth, # Master username, Master password,\n",
    "            use_ssl=True,\n",
    "            verify_certs=True,\n",
    "            connection_class=RequestsHttpConnection\n",
    "        )"
   ]
  },
  {
   "cell_type": "markdown",
   "id": "488a3756-f8af-4a8b-ba8e-b0e552b05369",
   "metadata": {
    "tags": []
   },
   "source": [
    "### 형태소 분석기 사용하기\n",
    "- 영어권의 문자들과 다르게 한글, 일본어, 중국어 등은 단순한 공백만으로는 좋은 검색 결과를 얻기 힘듭니다.\n",
    "- 출시하고라는 단어를 출시, 출시하고 등 다양하게 검색하기 위해서는 형태소 분석기가 필요합니다.\n",
    "- OpenSearch 에서는 2개의 한국어 analyer를 제공하고 있습니다.\n",
    "    - 은전한잎 (seunjeon_tokenizer)\n",
    "        - https://catalog.us-east-1.prod.workshops.aws/workshops/de4e38cb-a0d9-4ffe-a777-bf00d498fa49/ko-KR/indexing/stemming#\n",
    "    - Nori (nori_tokenizer)\n",
    "        - 설명: https://esbook.kimjmin.net/06-text-analysis/6.7-stemming/6.7.2-nori\n",
    "    - Sample 코드에서는 \"Nori\"를 기반으로 진행합니다."
   ]
  },
  {
   "cell_type": "markdown",
   "id": "dc21d1fb-d563-43eb-95cc-57efaea8d8b9",
   "metadata": {
    "tags": []
   },
   "source": [
    "### [TIP]\n",
    "- **token filter**\n",
    "    - Amazon OpenSearch Service에서는 나만의 필터를 토크나이저와 함께 구성해서 사용할 수 있습니다. \n",
    "    - nori_tokenizer를 사용하되, 원하는 캐릭터 필터와 토큰 필터 조합을 구성할 수 있습니다.\n",
    "    - 문장이 입력되면 캐릭터 필터(char_filter), 토크나이저(tokenizer), 토큰 필터(filter) 순으로 동작하게 됩니다.\n",
    "    - 입력문장이 \"<b>Start</b> 이천이십삼년 韓國\" 이것일 경우, \n",
    "    - 아래 샘플 코드의 옵션으로 사용한다면 <b>Start</b>의 html 코드가 html_strip에 의해 처리되고, nori_tokenizer로 토큰화됩니다.\n",
    "    - 그 후에 nori_number는 이천이십삼을 2023으로, nori_readingform은 韓國을 한국으로, lowercase는 Start를 start로 처리합니다.\n",
    "    - **토큰필터 참고자료**\n",
    "        - https://esbook.kimjmin.net/06-text-analysis/6.6-token-filter\n",
    "        - https://opensearch.org/docs/latest/analyzers/token-filters/index/\n",
    "    \n",
    "- **discard_punctuation**\n",
    "    - true(기본값), false가 있으며 문장부호 또는 구두점을 어떻게 다룰지에 대한 설정을 할 수 있습니다.\n",
    "- **decompound_mode**\n",
    "    - none, discard(기본값), mixed가 있으며 복합명사를 어떻게 다룰지에 대한 설정을 할 수 있습니다.\n",
    "    - none: 복합명사를 분리하지 않고 하나의 토큰으로 저장합니다.\n",
    "    - discard: 복합명사를 분리하여 토큰으로 저장합니다.\n",
    "    - mixed: 복합명사를 분리하지 않은 토큰과 분리한 토큰을 모두 저장합니다.\n",
    "- **신조어, 업무용어, 상표**\n",
    "     - 노리 토크나이저는 [mecab-ko-dic](https://bitbucket.org/eunjeon/mecab-ko-dic/src/master/) 을 사용하고 있지만 때로는 신조어, 업무 용어, 상표 등을 위한 사용자 사전이 필요할 수 있습니다.\n",
    "     - user_dictionary_rules를 이용해서 사용자 사전을 만들 수 있고, 아래에서 사용자 사전을 적용했을 때와 적용하지 않았을 때를 비교해 볼 수 있습니다.\n",
    "- **동의어, 불용어**\n",
    "    - Amazon OpenSearch Service에서는 Package를 이용하면 사용자사전, 동의어, 불용어를 관리할 수 있습니다. 자세한 사항은 [이곳](https://docs.aws.amazon.com/ko_kr/opensearch-service/latest/developerguide/custom-packages.html)을 참조해 주십시오. \n",
    "    - S3에 사용자 사전을 업로드 후, Package에 등록합니다. 그리고 등록된 텍스트 사전을 원하는 OpenSearch 도메인에 연결합니다.\n",
    "    - 아래와 같이 user_dictionary에 analyzers/<Package ID> 를 이용해서 적용할 수 있습니다. 이 Package ID는 OpenSearch 콘솔 화면에서 업로드한 사전의 상세 페이지에서 확인할 수 있습니다.\n"
   ]
  },
  {
   "cell_type": "markdown",
   "id": "56ac0292-f3fc-4ef7-a00d-becee90f0dec",
   "metadata": {
    "tags": []
   },
   "source": [
    "### index 생성"
   ]
  },
  {
   "cell_type": "code",
   "execution_count": 10,
   "id": "818bec59-9f17-4250-b133-a82767d79657",
   "metadata": {
    "scrolled": true,
    "tags": []
   },
   "outputs": [
    {
     "name": "stdout",
     "output_type": "stream",
     "text": [
      "Index does not exist\n"
     ]
    }
   ],
   "source": [
    "index_name = \"genai-demo-index-v1\"\n",
    "exists = os_client.indices.exists(index_name)\n",
    "\n",
    "if exists:\n",
    "    os_client.indices.delete(index=index_name)\n",
    "    print(\"Index is deleted\")\n",
    "else:\n",
    "    print(\"Index does not exist\")"
   ]
  },
  {
   "cell_type": "code",
   "execution_count": 11,
   "id": "25ad62cb-22ff-4031-b301-0baec1e5608d",
   "metadata": {
    "tags": []
   },
   "outputs": [
    {
     "name": "stdout",
     "output_type": "stream",
     "text": [
      "{\n",
      "  \"settings\": {\n",
      "    \"index.knn\": true,\n",
      "    \"index.knn.algo_param.ef_search\": 512\n",
      "  },\n",
      "  \"mappings\": {\n",
      "    \"properties\": {\n",
      "      \"metadata\": {\n",
      "        \"properties\": {\n",
      "          \"source\": {\n",
      "            \"type\": \"keyword\"\n",
      "          },\n",
      "          \"type\": {\n",
      "            \"type\": \"keyword\"\n",
      "          },\n",
      "          \"timestamp\": {\n",
      "            \"type\": \"date\"\n",
      "          }\n",
      "        }\n",
      "      },\n",
      "      \"text\": {\n",
      "        \"type\": \"text\",\n",
      "        \"analyzer\": \"nori\"\n",
      "      },\n",
      "      \"vector_field\": {\n",
      "        \"type\": \"knn_vector\",\n",
      "        \"dimension\": 1536,\n",
      "        \"method\": {\n",
      "          \"engine\": \"faiss\",\n",
      "          \"name\": \"hnsw\",\n",
      "          \"parameters\": {\n",
      "            \"ef_construction\": 512,\n",
      "            \"m\": 16\n",
      "          },\n",
      "          \"space_type\": \"l2\"\n",
      "        }\n",
      "      }\n",
      "    }\n",
      "  }\n",
      "}\n"
     ]
    }
   ],
   "source": [
    "## metadata, text, vector_field 의 네이밍은 langchain에서 지정된 이름\n",
    "### model에 따라 dimension 사이즈 변경 필요 (Titan : 1536, Cohere : 1024)\n",
    "import json\n",
    "\n",
    "with open('index_body_simple.json', 'r') as f:\n",
    "    index_body = json.load(f)\n",
    "\n",
    "print(json.dumps(index_body, indent=2))\n"
   ]
  },
  {
   "cell_type": "code",
   "execution_count": 12,
   "id": "66746526-4e79-4e41-a985-79697b5bb8ec",
   "metadata": {
    "tags": []
   },
   "outputs": [
    {
     "data": {
      "text/plain": [
       "{'acknowledged': True,\n",
       " 'shards_acknowledged': True,\n",
       " 'index': 'genai-demo-index-v1'}"
      ]
     },
     "execution_count": 12,
     "metadata": {},
     "output_type": "execute_result"
    }
   ],
   "source": [
    "os_client.indices.create(index_name, body=index_body)"
   ]
  },
  {
   "cell_type": "code",
   "execution_count": 13,
   "id": "bb4971b6-777d-48a1-82dd-668a38e48587",
   "metadata": {
    "tags": []
   },
   "outputs": [
    {
     "name": "stdout",
     "output_type": "stream",
     "text": [
      "CPU times: user 8.24 ms, sys: 3.14 ms, total: 11.4 ms\n",
      "Wall time: 10.8 ms\n"
     ]
    }
   ],
   "source": [
    "%%time\n",
    "from langchain_community.vectorstores import OpenSearchVectorSearch\n",
    "\n",
    "vector_db = OpenSearchVectorSearch(\n",
    "    index_name=index_name,\n",
    "    opensearch_url=opensearch_domain_endpoint,\n",
    "    embedding_function=llm_emb,\n",
    "    http_auth=http_auth, # http_auth\n",
    ")"
   ]
  },
  {
   "cell_type": "markdown",
   "id": "8c7070c1-8640-40cb-969d-1bc1a413d3f2",
   "metadata": {
    "tags": []
   },
   "source": [
    "## 4. 데이터 준비\n"
   ]
  },
  {
   "cell_type": "markdown",
   "id": "7281c676-d75a-423f-8f9b-fd5838d3b269",
   "metadata": {},
   "source": [
    "### 한화생명 보험 약관 데이터 세트로 구현"
   ]
  },
  {
   "cell_type": "code",
   "execution_count": 14,
   "id": "4a1407db-0f63-4a57-aa15-0c430b9bae13",
   "metadata": {
    "tags": []
   },
   "outputs": [],
   "source": [
    "import time\n",
    "from langchain_community.document_loaders import PDFPlumberLoader\n",
    "from langchain_community.document_loaders import PyMuPDFLoader\n",
    "from langchain_community.document_loaders import PyPDFium2Loader\n",
    "\n",
    "\n",
    "from langchain_core.documents import Document\n",
    "\n",
    "# from llmsherpa.readers import LayoutPDFReader"
   ]
  },
  {
   "cell_type": "code",
   "execution_count": 15,
   "id": "919c614e-aa36-499b-90e3-e29ad81c853e",
   "metadata": {
    "tags": []
   },
   "outputs": [
    {
     "data": {
      "text/plain": [
       "['./data/hanwhalife/한화생명 간편가입 H튼튼 보장보험_20240101~.pdf',\n",
       " './data/hanwhalife/한화생명 간편가입 H튼튼 보장보험_20230601~.pdf',\n",
       " './data/hanwhalife/한화생명 간편가입 웰다잉 종신보험_20240101~.pdf',\n",
       " './data/hanwhalife/한화생명 The스마트한 일시납종신보험_20240101~.pdf',\n",
       " './data/hanwhalife/한화생명 The실속있는 간병치매보험_20231209~_1.pdf',\n",
       " './data/hanwhalife/한화생명 The스마트한 일시납종신보험_1912-061~072_20230916~.pdf',\n",
       " './data/hanwhalife/한화생명 간편가입 웰다잉 종신보험_20230901~.pdf',\n",
       " './data/hanwhalife/한화생명 간편가입 웰다잉 종신보험_20230916~.pdf',\n",
       " './data/hanwhalife/한화생명 The실속있는 간병치매보험_20240101~.pdf']"
      ]
     },
     "execution_count": 15,
     "metadata": {},
     "output_type": "execute_result"
    }
   ],
   "source": [
    "import glob\n",
    "\n",
    "data_path = './data/hanwhalife/*'\n",
    "pdf_list = glob.glob(data_path)\n",
    "pdf_list"
   ]
  },
  {
   "cell_type": "code",
   "execution_count": 16,
   "id": "7552675a-8803-40b4-a637-30a9b498ecfd",
   "metadata": {
    "tags": []
   },
   "outputs": [],
   "source": [
    "from multiprocessing.pool import ThreadPool\n",
    "from multiprocessing import  Manager\n",
    "\n",
    "import pdfplumber"
   ]
  },
  {
   "cell_type": "code",
   "execution_count": 17,
   "id": "a85823bc-5171-49fb-a06c-d10ad5672f25",
   "metadata": {
    "tags": []
   },
   "outputs": [],
   "source": [
    "import re\n",
    "\n",
    "def prune_text(text, current_pdf_file):\n",
    "\n",
    "    def replace_cid(match):\n",
    "        print(f\"Please check PDF file {current_pdf_file} : {match}\")\n",
    "        ascii_num = int(match.group(1))\n",
    "        try:\n",
    "            return chr(ascii_num)\n",
    "        except:\n",
    "            return ''  # In case of conversion failure, return empty string\n",
    "\n",
    "    # Regular expression to find all (cid:x) patterns\n",
    "    cid_pattern = re.compile(r'\\(cid:(\\d+)\\)')\n",
    "    pruned_text = re.sub(cid_pattern, replace_cid, text)\n",
    "    return pruned_text"
   ]
  },
  {
   "cell_type": "code",
   "execution_count": 18,
   "id": "5887b6a5-4c82-4123-b152-3e990357fb3a",
   "metadata": {
    "tags": []
   },
   "outputs": [],
   "source": [
    "from datetime import datetime\n",
    "\n",
    "def read_pdf(param):\n",
    "    vector_db = param[0]\n",
    "    current_pdf_file = param[1]\n",
    "    print(f\"current_pdf_file : {current_pdf_file}\")\n",
    "    docs = []\n",
    "    source_name = current_pdf_file.split('/')[-1]\n",
    "    type_name = source_name.split(' ')[-1].replace('.pdf', '')\n",
    "    \n",
    "    with pdfplumber.open(current_pdf_file) as pdf:\n",
    "        for page_number, page in enumerate(pdf.pages, start=1):\n",
    "            page_text = page.extract_text()\n",
    "            if page_text:\n",
    "                pruned_text = prune_text(page_text, current_pdf_file)\n",
    "            else:\n",
    "                pruned_text = \"\"\n",
    "            if len(pruned_text) >= 20:  ## 임의로 20 이상인 sentence만 뽑도록 함\n",
    "                chunk = Document(\n",
    "                    page_content=pruned_text.replace('\\n',' '),\n",
    "                    metadata={\n",
    "                        \"source\" : source_name,\n",
    "                        \"type\": type_name,\n",
    "                        \"timestamp\": datetime.now()\n",
    "                    }\n",
    "                )\n",
    "                #print(f\"chunk : {chunk}\")\n",
    "                docs.append(chunk)\n",
    "    if len(docs) > 0 :\n",
    "        vector_db.add_documents(docs)"
   ]
  },
  {
   "cell_type": "code",
   "execution_count": 19,
   "id": "ef3f90ea-85b1-4066-8260-42bf3df14cb0",
   "metadata": {
    "tags": []
   },
   "outputs": [
    {
     "name": "stdout",
     "output_type": "stream",
     "text": [
      "num of process : 9\n",
      "current_pdf_file : ./data/hanwhalife/한화생명 간편가입 H튼튼 보장보험_20240101~.pdf\n",
      "current_pdf_file : ./data/hanwhalife/한화생명 간편가입 H튼튼 보장보험_20230601~.pdf\n",
      "current_pdf_file : ./data/hanwhalife/한화생명 간편가입 웰다잉 종신보험_20240101~.pdf\n",
      "current_pdf_file : ./data/hanwhalife/한화생명 The스마트한 일시납종신보험_20240101~.pdf\n",
      "current_pdf_file : ./data/hanwhalife/한화생명 The실속있는 간병치매보험_20231209~_1.pdf\n",
      "current_pdf_file : ./data/hanwhalife/한화생명 The스마트한 일시납종신보험_1912-061~072_20230916~.pdf\n",
      "current_pdf_file : ./data/hanwhalife/한화생명 간편가입 웰다잉 종신보험_20230901~.pdf\n",
      "current_pdf_file : ./data/hanwhalife/한화생명 간편가입 웰다잉 종신보험_20230916~.pdf\n",
      "current_pdf_file : ./data/hanwhalife/한화생명 The실속있는 간병치매보험_20240101~.pdf\n"
     ]
    }
   ],
   "source": [
    "manager = Manager()\n",
    "result_dict = manager.dict()\n",
    "\n",
    "# ml.m5.xlarge에서 multiprocessing으로 동작 확인\n",
    "param = [(vector_db, current_pdf_file)for current_pdf_file in pdf_list]\n",
    "# param = [(vector_db, current_pdf_file)for current_pdf_file in glob.glob(\"./data/hanwhalife/한화생명 The스마트한 일시납종신보험_20230916~.pdf\")]\n",
    "# param = [(vector_db, current_pdf_file)for current_pdf_file in glob.glob(\"./data/hanwhalife/한화생명 The실속있는 간병치매보험_20240101~.pdf\")]\n",
    "\n",
    "num_processes = len(pdf_list)%os.cpu_count()\n",
    "\n",
    "if num_processes == 0 :\n",
    "    num_processes = os.cpu_count() - 1\n",
    "\n",
    "print(f\"num of process : {num_processes}\")\n",
    "\n",
    "with ThreadPool(processes=num_processes) as pool:\n",
    "    pool.map(read_pdf, param)\n",
    "    pool.close()\n",
    "    pool.join()"
   ]
  },
  {
   "cell_type": "markdown",
   "id": "fae62975-2e46-44e7-97e4-c14c2bfa632f",
   "metadata": {},
   "source": [
    "### OpenSearch에 생성된 인덱스의 구성 확인"
   ]
  },
  {
   "cell_type": "code",
   "execution_count": 20,
   "id": "14827f89-c54b-440d-ab7f-5bb22eefc313",
   "metadata": {
    "tags": []
   },
   "outputs": [
    {
     "name": "stdout",
     "output_type": "stream",
     "text": [
      "{\n",
      "  \"genai-demo-index-v1\": {\n",
      "    \"aliases\": {},\n",
      "    \"mappings\": {\n",
      "      \"properties\": {\n",
      "        \"metadata\": {\n",
      "          \"properties\": {\n",
      "            \"source\": {\n",
      "              \"type\": \"keyword\"\n",
      "            },\n",
      "            \"timestamp\": {\n",
      "              \"type\": \"date\"\n",
      "            },\n",
      "            \"type\": {\n",
      "              \"type\": \"keyword\"\n",
      "            }\n",
      "          }\n",
      "        },\n",
      "        \"text\": {\n",
      "          \"type\": \"text\",\n",
      "          \"analyzer\": \"nori\"\n",
      "        },\n",
      "        \"vector_field\": {\n",
      "          \"type\": \"knn_vector\",\n",
      "          \"dimension\": 1536,\n",
      "          \"method\": {\n",
      "            \"engine\": \"faiss\",\n",
      "            \"space_type\": \"l2\",\n",
      "            \"name\": \"hnsw\",\n",
      "            \"parameters\": {\n",
      "              \"ef_construction\": 512,\n",
      "              \"m\": 16\n",
      "            }\n",
      "          }\n",
      "        }\n",
      "      }\n",
      "    },\n",
      "    \"settings\": {\n",
      "      \"index\": {\n",
      "        \"replication\": {\n",
      "          \"type\": \"DOCUMENT\"\n",
      "        },\n",
      "        \"number_of_shards\": \"5\",\n",
      "        \"knn.algo_param\": {\n",
      "          \"ef_search\": \"512\"\n",
      "        },\n",
      "        \"provided_name\": \"genai-demo-index-v1\",\n",
      "        \"knn\": \"true\",\n",
      "        \"creation_date\": \"1717916079239\",\n",
      "        \"number_of_replicas\": \"1\",\n",
      "        \"uuid\": \"T6selhmbRLaT6vCYbofBhg\",\n",
      "        \"version\": {\n",
      "          \"created\": \"136327827\"\n",
      "        }\n",
      "      }\n",
      "    }\n",
      "  }\n",
      "}\n"
     ]
    }
   ],
   "source": [
    "index_info = os_client.indices.get(index=index_name)\n",
    "print(json.dumps(index_info, indent=2))"
   ]
  },
  {
   "cell_type": "markdown",
   "id": "ed402bb8-497d-4da6-8a1b-02de77133251",
   "metadata": {},
   "source": [
    "## 5. 어휘를 기반으로 한 전문(full-text) 검색 - Lexical Search\n",
    "\n",
    "> query의 문장은 Nori 형태소 분석기에 의해 형태소로 분리됨\n",
    "> OpenSearch에 입력된 (PDF에서 추출한) 문장(청크)들과 BM25 알고리즘을 기반으로 가장 유사한(score가 높은) 값부터 상위 (k=5)개의 결과가 나타남  "
   ]
  },
  {
   "cell_type": "code",
   "execution_count": 21,
   "id": "2305c9b8-4c14-4e81-b741-91f59506d7c3",
   "metadata": {
    "tags": []
   },
   "outputs": [],
   "source": [
    "from opensearch_dsl import Search"
   ]
  },
  {
   "cell_type": "code",
   "execution_count": 22,
   "id": "32fcdd61-8910-4509-bebc-1e3ab0484fb2",
   "metadata": {
    "tags": []
   },
   "outputs": [],
   "source": [
    "def result_to_dataframe(response):\n",
    "    import pandas as pd\n",
    "\n",
    "    pd.set_option('display.max_columns', 150)\n",
    "    pd.set_option('display.max_colwidth', None)\n",
    "\n",
    "    result = []\n",
    "    for res in response['hits']['hits']:\n",
    "        # print(res.keys())\n",
    "        result.append([res['_index'], round(res['_score'], 4), res['_source']['metadata']['type'], res['_source']['text']])\n",
    "    df = pd.DataFrame(result, columns=['index_name', 'score', 'type', 'text'])\n",
    "    return df.style.set_properties(**{'text-align': 'left'})"
   ]
  },
  {
   "cell_type": "code",
   "execution_count": 23,
   "id": "585b3c8c-ed62-418a-b178-1a9ef450c421",
   "metadata": {
    "tags": []
   },
   "outputs": [],
   "source": [
    "def query_lexical(query, filter=[], k=5):\n",
    "    QUERY_TEMPLATE = {\n",
    "        \"size\": k,\n",
    "        \"query\": {\n",
    "            \"bool\": {\n",
    "                \"must\": [\n",
    "                    {\n",
    "                        \"match\": {\n",
    "                            \"text\": query\n",
    "                        }\n",
    "                    }\n",
    "                ],\n",
    "                \"filter\": filter\n",
    "            }\n",
    "        }\n",
    "    }\n",
    "    if len(filter) > 0:\n",
    "        QUERY_TEMPLATE[\"query\"][\"bool\"][\"filter\"].extend(filter)\n",
    "    return QUERY_TEMPLATE"
   ]
  },
  {
   "cell_type": "code",
   "execution_count": 24,
   "id": "cc6ef235-38d2-46f6-9731-e497afe694ae",
   "metadata": {
    "tags": []
   },
   "outputs": [
    {
     "name": "stdout",
     "output_type": "stream",
     "text": [
      "검색에 걸린 시간:  62 ms\n",
      "<<사용자 입력 쿼리 문장>>:  금리연동형 상품은 무엇인가요?\n"
     ]
    },
    {
     "data": {
      "text/html": [
       "<style type=\"text/css\">\n",
       "#T_5af93_row0_col0, #T_5af93_row0_col1, #T_5af93_row0_col2, #T_5af93_row0_col3, #T_5af93_row1_col0, #T_5af93_row1_col1, #T_5af93_row1_col2, #T_5af93_row1_col3, #T_5af93_row2_col0, #T_5af93_row2_col1, #T_5af93_row2_col2, #T_5af93_row2_col3, #T_5af93_row3_col0, #T_5af93_row3_col1, #T_5af93_row3_col2, #T_5af93_row3_col3, #T_5af93_row4_col0, #T_5af93_row4_col1, #T_5af93_row4_col2, #T_5af93_row4_col3 {\n",
       "  text-align: left;\n",
       "}\n",
       "</style>\n",
       "<table id=\"T_5af93\">\n",
       "  <thead>\n",
       "    <tr>\n",
       "      <th class=\"blank level0\" >&nbsp;</th>\n",
       "      <th id=\"T_5af93_level0_col0\" class=\"col_heading level0 col0\" >index_name</th>\n",
       "      <th id=\"T_5af93_level0_col1\" class=\"col_heading level0 col1\" >score</th>\n",
       "      <th id=\"T_5af93_level0_col2\" class=\"col_heading level0 col2\" >type</th>\n",
       "      <th id=\"T_5af93_level0_col3\" class=\"col_heading level0 col3\" >text</th>\n",
       "    </tr>\n",
       "  </thead>\n",
       "  <tbody>\n",
       "    <tr>\n",
       "      <th id=\"T_5af93_level0_row0\" class=\"row_heading level0 row0\" >0</th>\n",
       "      <td id=\"T_5af93_row0_col0\" class=\"data row0 col0\" >genai-demo-index-v1</td>\n",
       "      <td id=\"T_5af93_row0_col1\" class=\"data row0 col1\" >20.683800</td>\n",
       "      <td id=\"T_5af93_row0_col2\" class=\"data row0 col2\" >일시납종신보험_20240101~</td>\n",
       "      <td id=\"T_5af93_row0_col3\" class=\"data row0 col3\" >Ⅱ. 약관 요약서 1. 보험계약의 개요 가입하신 보험상품의 보장내용과 특징을 확인해보세요. 한화생명 The스마트한 일시납종신보험 무배당 [보증비용부과형] 상품의 종목 : 보장성·종신보험 (1) 상품의 주요특징 예금자보호 금리연동형 예금자보호법에 따라 보험회사의 자산운용이익률, 1인당 최고 5천만원까지 시장금리 등에 따라 적립액 보장합니다. 다만, 보험계약자 적용이율이 변동되는 상품입 및 보험료 납부자가 법인인 니다. 경우에는 보호하지 않습니다. 보장성보험 한화생명 무배당 The스마트한 사망, 질병, 계약자에게 일시납종신보험 상해 등의 위험을 배당을 하지 않는 무배당 보장하는 보장성 상품입니다. 보험입니다. [보증비용부과형] 최저보증이율 해약환급금 보증 (해약환급금 보증형 가입시) 금리가 하락하더라도 적립시 적용되는 공시이율을 최저해약환급금은 회사가 정한 시산에 따라 향후 공시이율에 관계없이 일정 비율로 최저보증합니다. 계약 해지 시 지급하는 최저한도의 해약환급 금으로서, 예정적립액과 동일합니다. 15\u0000/\u0000249</td>\n",
       "    </tr>\n",
       "    <tr>\n",
       "      <th id=\"T_5af93_level0_row1\" class=\"row_heading level0 row1\" >1</th>\n",
       "      <td id=\"T_5af93_row1_col0\" class=\"data row1 col0\" >genai-demo-index-v1</td>\n",
       "      <td id=\"T_5af93_row1_col1\" class=\"data row1 col1\" >19.714900</td>\n",
       "      <td id=\"T_5af93_row1_col2\" class=\"data row1 col2\" >일시납종신보험_1912-061~072_20230916~</td>\n",
       "      <td id=\"T_5af93_row1_col3\" class=\"data row1 col3\" >Ⅱ. 약관 요약서 1. 보험계약의 개요 가입하신 보험상품의 보장내용과 특징을 확인해보세요. 한화생명 The스마트한 일시납종신보험 무배당 [보증비용부과형] 상품의 종목 : 보장성·종신보험 (1) 상품의 주요특징 예금자보호 금리연동형 예금자보호법에 따라 보험회사의 자산운용이익률, 1인당 최고 5천만원까지 시장금리 등에 따라 적립액 보장합니다. 다만, 보험계약자 적용이율이 변동되는 상품입 및 보험료 납부자가 법인인 니다. 경우에는 보호하지 않습니다. 보장성보험 한화생명 무배당 The스마트한 사망, 질병, 계약자에게 일시납종신보험 상해 등의 위험을 배당을 하지 않는 무배당 보장하는 보장성 상품입니다. 보험입니다. [보증비용부과형] 최저보증이율 해약환급금 보증 (해약환급금 보증형 가입시) 금리가 하락하더라도 적립시 적용되는 공시이율을 최저해약환급금은 회사가 정한 시산에 따라 향후 공시이율에 관계없이 일정 비율로 최저보증합니다. 계약 해지 시 지급하는 최저한도의 해약환급 금으로서, 예정적립액과 동일합니다. 15\u0000/\u0000235</td>\n",
       "    </tr>\n",
       "    <tr>\n",
       "      <th id=\"T_5af93_level0_row2\" class=\"row_heading level0 row2\" >2</th>\n",
       "      <td id=\"T_5af93_row2_col0\" class=\"data row2 col0\" >genai-demo-index-v1</td>\n",
       "      <td id=\"T_5af93_row2_col1\" class=\"data row2 col1\" >16.102300</td>\n",
       "      <td id=\"T_5af93_row2_col2\" class=\"data row2 col2\" >일시납종신보험_1912-061~072_20230916~</td>\n",
       "      <td id=\"T_5af93_row2_col3\" class=\"data row2 col3\" >(2) 소비자가 반드시 알아두어야 할 상품의 주요 특성 보장성보험 ① 이 보험은 사망 보장을 주목적으로 하는 보장성보험이며, 저축이나 연금수령을 목적으로 가입하시기에 적합하지 않습니다. ② 만기 또는 중도해지 시 납입한 보험료보다 환급금이 적을 수 있습니다. ③ 사망보험금의 일부 또는 전부를 해지하여 연금으로 전환할 수 있으나, 처음부터 연금보험에 가입한 경우보다 연금액이 적습니다. [민원 사례] A씨는 저축을 주된 목적으로 종신보험을 가입하였으나 알고보니 사망 및 질병 보장을 주목적으로 하는 보장성보험임에 불만 ▶ 종신보험 등 보장성보험은 저축이나 노후에 연금 수령을 목적으로 가입하시기에는 적합하지 않으며 또한 중도에 해지하면 손해를 볼 수 있음 금리연동형보험 ① 이 보험의 적립액 산출에 적용되는 이율은 매월 변동됩니다. ② 동 이율은 납입한 주계약(또는 적립) 보험료에서 계약체결·유지관리에 필요한 경비 및 위험보장을 위한 보험료를 차감한 금액에 대해서만 적용됩니다. ③ 이 보험의 최저보증이율*은 3년이내에는 연복리 1.0%, 3년초과 5년이내에는 연복리 0.75%, 5년을 초과하는 경우에는 연복리 0.5%입니다. *자산운용이익률, 시장금리가 하락하는 경우 회사가 보증하는 적용이율의 최저한도 유니버셜보험 이 보험은 적립액 인출 등을 하는 경우 계약이 조기에 실효될 수 있습니다. * 해약환급금에서 월대체보험료(계약 유지관리 등에 소요되는 경비, 위험 보장을 위한 보험료)를 매 월 공제 [민원 사례] A씨는 일시납보험료를 하면 보장을 계속 받을 수 있다고 생각하고 ○○○○ 유니버설종신보험에 가입하였으나, 4년이 지난 후 보험회사에서 보험료 납입을 독촉하는 안내를 받음 ▶ 보험회사는 유니버설보험의 경우 기본보험료 납입 이후 중도인출 등으로 인해, 주계약 해약환급금에서 월대체보험료를 충당할 수 없게 된 경우 계약이 해지될 수 있고, 계약을 유지하기 위해서는 보험료 추가 납입이 필요함을 안내 예금자보호제도에 ① 이 보험은 예금자보호법에 따라 예금보험공사가 보호합니다. 관한 사항 ② 예금자보호 한도는 본 보험회사에 있는 귀하의 모든 예금보호 대상 금융상품의 해약환급금(또는 만기시 보험금이나 사고보험금)과 기타 지급금을 합하여 1인당 “최고 5천만원”이며, 5천만원을 초과하는 나머지 금액은 보호하지 않습니다. ③ 또한, 보험계약자 및 보험료 납부자가 법인이면 보호되지 않습니다. 19\u0000/\u0000235</td>\n",
       "    </tr>\n",
       "    <tr>\n",
       "      <th id=\"T_5af93_level0_row3\" class=\"row_heading level0 row3\" >3</th>\n",
       "      <td id=\"T_5af93_row3_col0\" class=\"data row3 col0\" >genai-demo-index-v1</td>\n",
       "      <td id=\"T_5af93_row3_col1\" class=\"data row3 col1\" >15.324800</td>\n",
       "      <td id=\"T_5af93_row3_col2\" class=\"data row3 col2\" >일시납종신보험_20240101~</td>\n",
       "      <td id=\"T_5af93_row3_col3\" class=\"data row3 col3\" >(2) 소비자가 반드시 알아두어야 할 상품의 주요 특성 보장성보험 ① 이 보험은 사망 보장을 주목적으로 하는 보장성보험이며, 저축이나 연금수령을 목적으로 가입하시기에 적합하지 않습니다. ② 만기 또는 중도해지 시 납입한 보험료보다 환급금이 적을 수 있습니다. ③ 사망보험금의 일부 또는 전부를 해지하여 연금으로 전환할 수 있으나, 처음부터 연금보험에 가입한 경우보다 연금액이 적습니다. [민원 사례] A씨는 저축을 주된 목적으로 종신보험을 가입하였으나 알고보니 사망 및 질병 보장을 주목적으로 하는 보장성보험임에 불만 ▶ 종신보험 등 보장성보험은 저축이나 노후에 연금 수령을 목적으로 가입하시기에는 적합하지 않으며 또한 중도에 해지하면 손해를 볼 수 있음 금리연동형보험 ① 이 보험의 적립액 산출에 적용되는 이율은 매월 변동됩니다. ② 동 이율은 납입한 주계약(또는 적립) 보험료에서 계약체결·유지관리에 필요한 경비 및 위험보장을 위한 보험료를 차감한 금액에 대해서만 적용됩니다. ③ 이 보험의 최저보증이율*은 3년이내에는 연복리 1.0%, 3년초과 5년이내에는 연복리 0.75%, 5년을 초과하는 경우에는 연복리 0.5%입니다. *자산운용이익률, 시장금리가 하락하는 경우 회사가 보증하는 적용이율의 최저한도 유니버셜보험 이 보험은 적립액 인출 등을 하는 경우 계약이 조기에 실효될 수 있습니다. * 해약환급금에서 월대체보험료(계약 유지관리 등에 소요되는 경비, 위험 보장을 위한 보험료)를 매 월 공제 [민원 사례] A씨는 일시납보험료를 하면 보장을 계속 받을 수 있다고 생각하고 ○○○○ 유니버설종신보험에 가입하였으나, 4년이 지난 후 보험회사에서 보험료 납입을 독촉하는 안내를 받음 ▶ 보험회사는 유니버설보험의 경우 기본보험료 납입 이후 중도인출 등으로 인해, 주계약 해약환급금에서 월대체보험료를 충당할 수 없게 된 경우 계약이 해지될 수 있고, 계약을 유지하기 위해서는 보험료 추가 납입이 필요함을 안내 예금자보호제도에 ① 이 보험은 예금자보호법에 따라 예금보험공사가 보호합니다. 관한 사항 ② 예금자보호 한도는 본 보험회사에 있는 귀하의 모든 예금보호 대상 금융상품의 해약환급금(또는 만기시 보험금이나 사고보험금)과 기타 지급금을 합하여 1인당 “최고 5천만원”이며, 5천만원을 초과하는 나머지 금액은 보호하지 않습니다. ③ 또한, 보험계약자 및 보험료 납부자가 법인이면 보호되지 않습니다. 19\u0000/\u0000249</td>\n",
       "    </tr>\n",
       "    <tr>\n",
       "      <th id=\"T_5af93_level0_row4\" class=\"row_heading level0 row4\" >4</th>\n",
       "      <td id=\"T_5af93_row4_col0\" class=\"data row4 col0\" >genai-demo-index-v1</td>\n",
       "      <td id=\"T_5af93_row4_col1\" class=\"data row4 col1\" >11.744400</td>\n",
       "      <td id=\"T_5af93_row4_col2\" class=\"data row4 col2\" >종신보험_20230916~</td>\n",
       "      <td id=\"T_5af93_row4_col3\" class=\"data row4 col3\" >Ⅱ. 약관 요약서 1. 보험계약의 개요 가입하신 보험상품의 보장내용과 특징을 확인해보세요. 한화생명 간편가입 웰다잉 종신보험 무배당 상품의 종목 : 보장성·종신보험 (1) 상품의 주요특징 예금자보호 금리확정형 예금자보호법에 따라 보험료 및 적립액 산출에 1인당 최고 5천만원까지 적용되는 이율이 보장합니다. 다만, 보험계약자 보험기간 동안 고정되어 및 보험료 납부자가 법인인 변동이 없습니다. 경우에는 보호하지 않습니다 보장성보험 한화생명 무배당 사망, 질병, 간편가입 웰다잉 계약자에게 상해 등의 위험을 종신보험 배당을 하지 않는 보장하는 보장성 무배당 상품입니다. 보험입니다. 해약환급금 미지급형 보험료 납입기간 중 계약이 해지될 경우 해약환급금을 지급하지 않는 대신 ‘표준형’보다 낮은 보험료로 가입할 수 있는 상품입니다. * 유병자보험 질병을 앓고 있거나 과거 병력이 있는 소비자가 간단한 심사절차를 통해 가입할 수 있는 상품입니다. * 간편심사보험 계약심사사 과정을 간소화한 상품으로, 일반심사보험보다 보험료가 다소 높을 수 있습니다. 12\u0000/\u0000165</td>\n",
       "    </tr>\n",
       "  </tbody>\n",
       "</table>\n"
      ],
      "text/plain": [
       "<pandas.io.formats.style.Styler at 0x7f5bd58be800>"
      ]
     },
     "execution_count": 24,
     "metadata": {},
     "output_type": "execute_result"
    }
   ],
   "source": [
    "#query = \"계약 전 의무 사항은 무엇인가요\"\n",
    "query = \"금리연동형 상품은 무엇인가요?\"\n",
    "\n",
    "response_lexical_only = os_client.search(\n",
    "    body=query_lexical(query),\n",
    "    index=index_name\n",
    ")\n",
    "\n",
    "time_took_lexical_only = response_lexical_only['took']\n",
    "print('검색에 걸린 시간: ', time_took_lexical_only, 'ms')\n",
    "\n",
    "print(\"<<사용자 입력 쿼리 문장>>: \", query)\n",
    "\n",
    "result_to_dataframe(response_lexical_only)"
   ]
  },
  {
   "cell_type": "markdown",
   "id": "33e10f83-59c7-4e30-a6dd-3575b67d6dd4",
   "metadata": {
    "tags": []
   },
   "source": [
    "### 자연어 쿼리 분석 "
   ]
  },
  {
   "cell_type": "code",
   "execution_count": 25,
   "id": "b0158b5e-15e8-4726-828b-ef84440ce6b4",
   "metadata": {
    "tags": []
   },
   "outputs": [
    {
     "name": "stdout",
     "output_type": "stream",
     "text": [
      "{\n",
      "  \"tokens\": [\n",
      "    {\n",
      "      \"token\": \"금리\",\n",
      "      \"start_offset\": 0,\n",
      "      \"end_offset\": 2,\n",
      "      \"type\": \"word\",\n",
      "      \"position\": 0\n",
      "    },\n",
      "    {\n",
      "      \"token\": \"연동\",\n",
      "      \"start_offset\": 2,\n",
      "      \"end_offset\": 4,\n",
      "      \"type\": \"word\",\n",
      "      \"position\": 1\n",
      "    },\n",
      "    {\n",
      "      \"token\": \"상품\",\n",
      "      \"start_offset\": 6,\n",
      "      \"end_offset\": 8,\n",
      "      \"type\": \"word\",\n",
      "      \"position\": 3\n",
      "    },\n",
      "    {\n",
      "      \"token\": \"무엇\",\n",
      "      \"start_offset\": 10,\n",
      "      \"end_offset\": 12,\n",
      "      \"type\": \"word\",\n",
      "      \"position\": 5\n",
      "    },\n",
      "    {\n",
      "      \"token\": \"이\",\n",
      "      \"start_offset\": 12,\n",
      "      \"end_offset\": 15,\n",
      "      \"type\": \"word\",\n",
      "      \"position\": 6\n",
      "    }\n",
      "  ]\n",
      "}\n"
     ]
    }
   ],
   "source": [
    "response = os_client.indices.analyze(\n",
    "    index=index_name,\n",
    "    body={\n",
    "        \"text\": query,\n",
    "        \"analyzer\": \"nori\" \n",
    "    }\n",
    ")\n",
    "\n",
    "print(json.dumps(response, indent=2,  ensure_ascii=False))"
   ]
  },
  {
   "cell_type": "markdown",
   "id": "781eb93a-a52b-4d3b-88ba-7f69c1e4a9bf",
   "metadata": {},
   "source": [
    "위와 같이 쿼리로 작성된 자연어 문장이 token화 되어 검색됩니다."
   ]
  },
  {
   "cell_type": "markdown",
   "id": "d99ac1ed-abe4-40f1-b9c8-048e7b379217",
   "metadata": {},
   "source": [
    "### 결과값에 매칭되는 Term 확인"
   ]
  },
  {
   "cell_type": "markdown",
   "id": "eb698a69-2cb4-4db6-a01d-9b88a3814c00",
   "metadata": {},
   "source": [
    "BM25 알고리즘에 의해 스코어링이 되고, PDF에서 추출된 문장(chunk)에서 어떤 term들과 매칭되었는지를 확인하려면 아래의 코드를 실행합니다. 아래 쿼리는 결과값에 매칭되는 term을 강조할 수 있도록 html 태그를 추가합니다."
   ]
  },
  {
   "cell_type": "code",
   "execution_count": 26,
   "id": "ded7a543-d108-4710-9902-04920bf9fdab",
   "metadata": {
    "tags": []
   },
   "outputs": [],
   "source": [
    "def query_lexical_with_highlight(query, filter=[], k=5):\n",
    "    QUERY_TEMPLATE = {\n",
    "        \"size\": k,\n",
    "        \"query\": {\n",
    "            \"bool\": {\n",
    "                \"must\": [\n",
    "                    {\n",
    "                        \"match\": {\n",
    "                            \"text\": query\n",
    "                        }\n",
    "                    }\n",
    "                ],\n",
    "                \"filter\": filter\n",
    "            }\n",
    "        },\n",
    "        \"highlight\": {\n",
    "            \"pre_tags\": [\n",
    "                \"<span style='color:red'>\"\n",
    "            ],\n",
    "            \"post_tags\": [\n",
    "                \"</span>\"\n",
    "            ],\n",
    "            \"fields\": {\n",
    "                \"text\": {}\n",
    "            }\n",
    "        }\n",
    "    }\n",
    "    if len(filter) > 0:\n",
    "        QUERY_TEMPLATE[\"query\"][\"bool\"][\"filter\"].extend(filter)\n",
    "    return QUERY_TEMPLATE\n",
    "\n",
    "response_lexical_with_highlight = os_client.search(\n",
    "    body=query_lexical_with_highlight(query),\n",
    "    index=index_name\n",
    ")\n"
   ]
  },
  {
   "cell_type": "code",
   "execution_count": 27,
   "id": "02e75f3c-3b74-432f-abfb-6d7ff048cfbf",
   "metadata": {
    "tags": []
   },
   "outputs": [
    {
     "name": "stdout",
     "output_type": "stream",
     "text": [
      "<<사용자 입력 쿼리 문장>>:  금리연동형 상품은 무엇인가요?\n"
     ]
    },
    {
     "data": {
      "text/html": [
       "<table border=\"1\" class=\"dataframe\">\n",
       "  <thead>\n",
       "    <tr style=\"text-align: right;\">\n",
       "      <th></th>\n",
       "      <th>score</th>\n",
       "      <th>각 문서(chuck) 내에서 매칭된 부분</th>\n",
       "    </tr>\n",
       "  </thead>\n",
       "  <tbody>\n",
       "    <tr>\n",
       "      <th>0</th>\n",
       "      <td>20.683844</td>\n",
       "      <td>[보험계약의 개요 가입하신 보험<span style='color:red'>상품</span>의 보장내용과 특징을 확인해보세요., 한화생명 The스마트한 일시납종신보험 무배당 [보증비용부과형] <span style='color:red'>상품</span>의 종목 : 보장성·종신보험 (1) <span style='color:red'>상품</span>의 주요특징 예금자보호 <span style='color:red'>금리</span><span style='color:red'>연동</span>형 예금자보호법에 따라 보험회사의 자산운용이익률, , 1인당 최고 5천만원까지 시장<span style='color:red'>금리</span> 등에 따라 적립액 보장합니다., 다만, 보험계약자 적용<span style='color:red'>이</span>율이 변동되는 <span style='color:red'>상품</span>입 및 보험료 납부자가 법인<span style='color:red'>인</span> 니<span style='color:red'>다</span>. 경우에는 보호하지 않습니다., 보장성보험 한화생명 무배당 The스마트한 사망, 질병, 계약자에게 일시납종신보험 상해 등의 위험을 배당을 하지 않는 무배당 보장하는 보장성 <span style='color:red'>상품</span><span style='color:red'>입니다</span>. 보험<span style='color:red'>입니다</span>.]</td>\n",
       "    </tr>\n",
       "    <tr>\n",
       "      <th>1</th>\n",
       "      <td>19.714935</td>\n",
       "      <td>[보험계약의 개요 가입하신 보험<span style='color:red'>상품</span>의 보장내용과 특징을 확인해보세요., 한화생명 The스마트한 일시납종신보험 무배당 [보증비용부과형] <span style='color:red'>상품</span>의 종목 : 보장성·종신보험 (1) <span style='color:red'>상품</span>의 주요특징 예금자보호 <span style='color:red'>금리</span><span style='color:red'>연동</span>형 예금자보호법에 따라 보험회사의 자산운용이익률, , 1인당 최고 5천만원까지 시장<span style='color:red'>금리</span> 등에 따라 적립액 보장합니다., 다만, 보험계약자 적용<span style='color:red'>이</span>율이 변동되는 <span style='color:red'>상품</span>입 및 보험료 납부자가 법인<span style='color:red'>인</span> 니<span style='color:red'>다</span>. 경우에는 보호하지 않습니다., 보장성보험 한화생명 무배당 The스마트한 사망, 질병, 계약자에게 일시납종신보험 상해 등의 위험을 배당을 하지 않는 무배당 보장하는 보장성 <span style='color:red'>상품</span><span style='color:red'>입니다</span>. 보험<span style='color:red'>입니다</span>.]</td>\n",
       "    </tr>\n",
       "    <tr>\n",
       "      <th>2</th>\n",
       "      <td>16.102337</td>\n",
       "      <td>[(2) 소비자가 반드시 알아두어야 할 <span style='color:red'>상품</span>의 주요 특성 보장성보험 ① 이 보험은 사망 보장을 주목적으로 하는 보장성보험<span style='color:red'>이</span>며, 저축이나 연금수령을 목적으로 가입하시기에 적합하지 않습니다, 수령을 목적으로 가입하시기에는 적합하지 않으며 또한 중도에 해지하면 손해를 볼 수 있음 <span style='color:red'>금리</span><span style='color:red'>연동</span>형보험 ① 이 보험의 적립액 산출에 적용되는 이율은 매월 변동됩니다. ② 동 이율은, *자산운용이익률, 시장<span style='color:red'>금리</span>가 하락하는 경우 회사가 보증하는 적용이율의 최저한도 유니버셜보험 이 보험은 적립액 인출 등을 하는 경우 계약이 조기에 실효될 수 있습니다. * 해약환급금에서, 관한 사항 ② 예금자보호 한도는 본 보험회사에 있는 귀하의 모든 예금보호 대상 금융<span style='color:red'>상품</span>의 해약환급금(또는 만기시 보험금이나 사고보험금)과 기타 지급금을 합하여 1인당 “최고 5천만원, ”<span style='color:red'>이</span>며, 5천만원을 초과하는 나머지 금액은 보호하지 않습니다. ③ 또한, 보험계약자 및 보험료 납부자가 법인<span style='color:red'>이</span>면 보호되지 않습니다. 19]</td>\n",
       "    </tr>\n",
       "    <tr>\n",
       "      <th>3</th>\n",
       "      <td>15.324776</td>\n",
       "      <td>[(2) 소비자가 반드시 알아두어야 할 <span style='color:red'>상품</span>의 주요 특성 보장성보험 ① 이 보험은 사망 보장을 주목적으로 하는 보장성보험<span style='color:red'>이</span>며, 저축이나 연금수령을 목적으로 가입하시기에 적합하지 않습니다, 수령을 목적으로 가입하시기에는 적합하지 않으며 또한 중도에 해지하면 손해를 볼 수 있음 <span style='color:red'>금리</span><span style='color:red'>연동</span>형보험 ① 이 보험의 적립액 산출에 적용되는 이율은 매월 변동됩니다. ② 동 이율은, *자산운용이익률, 시장<span style='color:red'>금리</span>가 하락하는 경우 회사가 보증하는 적용이율의 최저한도 유니버셜보험 이 보험은 적립액 인출 등을 하는 경우 계약이 조기에 실효될 수 있습니다. * 해약환급금에서, 관한 사항 ② 예금자보호 한도는 본 보험회사에 있는 귀하의 모든 예금보호 대상 금융<span style='color:red'>상품</span>의 해약환급금(또는 만기시 보험금이나 사고보험금)과 기타 지급금을 합하여 1인당 “최고 5천만원, ”<span style='color:red'>이</span>며, 5천만원을 초과하는 나머지 금액은 보호하지 않습니다. ③ 또한, 보험계약자 및 보험료 납부자가 법인<span style='color:red'>이</span>면 보호되지 않습니다. 19]</td>\n",
       "    </tr>\n",
       "    <tr>\n",
       "      <th>4</th>\n",
       "      <td>11.744441</td>\n",
       "      <td>[한화생명 간편가입 웰다잉 종신보험 무배당 <span style='color:red'>상품</span>의 종목 : 보장성·종신보험 (1) <span style='color:red'>상품</span>의 주요특징 예금자보호 <span style='color:red'>금리</span>확정형 예금자보호법에 따라 보험료 및 적립액 산출에 1인당 최고 5천만원까지, 경우에는 보호하지 않습니다 보장성보험 한화생명 무배당 사망, 질병, 간편가입 웰다잉 계약자에게 상해 등의 위험을 종신보험 배당을 하지 않는 보장하는 보장성 무배당 <span style='color:red'>상품</span><span style='color:red'>입니다</span>., 보험<span style='color:red'>입니다</span>., 해약환급금 미지급형 보험료 납입기간 중 계약이 해지될 경우 해약환급금을 지급하지 않는 대신 ‘표준형’보다 낮은 보험료로 가입할 수 있는 <span style='color:red'>상품</span><span style='color:red'>입니다</span>. * 유병자보험 질병을 앓고 있거나, 과거 병력이 있는 소비자가 간단한 심사절차를 통해 가입할 수 있는 <span style='color:red'>상품</span><span style='color:red'>입니다</span>. * 간편심사보험 계약심사사 과정을 간소화한 <span style='color:red'>상품</span>으로, 일반심사보험보다 보험료가 다소 높을 수 있습니다]</td>\n",
       "    </tr>\n",
       "  </tbody>\n",
       "</table>"
      ],
      "text/plain": [
       "<IPython.core.display.HTML object>"
      ]
     },
     "execution_count": 27,
     "metadata": {},
     "output_type": "execute_result"
    }
   ],
   "source": [
    "from IPython.display import HTML\n",
    "\n",
    "import pandas as pd\n",
    "temp_arr = []\n",
    "\n",
    "for res in response_lexical_with_highlight['hits']['hits']:\n",
    "            # result.append([res['_index'], round(res['_score'], 4), res['_source']['metadata']['type'], res['_source']['text']])\n",
    "\n",
    "    temp_arr.append([res['_score'], res['highlight']['text']])\n",
    "\n",
    "# print(\"---------- html 태그가 포함된 결과 ------------\")\n",
    "# print(temp_arr)\n",
    "# print(\"-------------------------------------------\")\n",
    "    \n",
    "#df = pd.DataFrame(temp_arr)\n",
    "df = pd.DataFrame(temp_arr, columns=['score', '각 문서(chuck) 내에서 매칭된 부분'])\n",
    "\n",
    "print(\"<<사용자 입력 쿼리 문장>>: \", query)\n",
    "\n",
    "HTML(df.to_html(escape=False))\n"
   ]
  },
  {
   "cell_type": "markdown",
   "id": "830d6e77-32f0-4a59-9f36-b8f45fce14bc",
   "metadata": {},
   "source": [
    "참고> hightlight 요청은 모든 결과를 return하지 않고, 매칭되는 부분만 중점적으로 보여줍니다. 위의 코드에서는 검색에 매칭되는 term의 앞 뒤로 \\<span style='color:red'>과 \\</span>태그로 눈에 들어오도록 표기했습니다."
   ]
  },
  {
   "cell_type": "markdown",
   "id": "ef366161-656e-4a4a-a800-c7b4a32bdb9e",
   "metadata": {
    "tags": []
   },
   "source": [
    "## 6. Filter 활용\n",
    "- document내 metadata를 활용하여 search space를 줄일 수 있다.\n",
    "- 특히 filter의 경우 search 전에 수행되기 때문에, 검색 속도 향상을 기대할 수 있다\n",
    "- syntax\n",
    "    - filter=[{\"term\"**[고정]**: {\"metadata.source\"**[메타데이터 이름, 혹은 메타데이터 아니여도 상관없음]**: \"신한은행\"**[조건명]**}},]\n",
    "    - list 형식으로 복수개 filter 설정 가능"
   ]
  },
  {
   "cell_type": "code",
   "execution_count": 28,
   "id": "23e178cf-014c-49e2-89e2-9f2191583f17",
   "metadata": {
    "tags": []
   },
   "outputs": [
    {
     "data": {
      "text/html": [
       "<style type=\"text/css\">\n",
       "#T_e4bb9_row0_col0, #T_e4bb9_row0_col1, #T_e4bb9_row0_col2, #T_e4bb9_row0_col3, #T_e4bb9_row1_col0, #T_e4bb9_row1_col1, #T_e4bb9_row1_col2, #T_e4bb9_row1_col3, #T_e4bb9_row2_col0, #T_e4bb9_row2_col1, #T_e4bb9_row2_col2, #T_e4bb9_row2_col3, #T_e4bb9_row3_col0, #T_e4bb9_row3_col1, #T_e4bb9_row3_col2, #T_e4bb9_row3_col3, #T_e4bb9_row4_col0, #T_e4bb9_row4_col1, #T_e4bb9_row4_col2, #T_e4bb9_row4_col3 {\n",
       "  text-align: left;\n",
       "}\n",
       "</style>\n",
       "<table id=\"T_e4bb9\">\n",
       "  <thead>\n",
       "    <tr>\n",
       "      <th class=\"blank level0\" >&nbsp;</th>\n",
       "      <th id=\"T_e4bb9_level0_col0\" class=\"col_heading level0 col0\" >index_name</th>\n",
       "      <th id=\"T_e4bb9_level0_col1\" class=\"col_heading level0 col1\" >score</th>\n",
       "      <th id=\"T_e4bb9_level0_col2\" class=\"col_heading level0 col2\" >type</th>\n",
       "      <th id=\"T_e4bb9_level0_col3\" class=\"col_heading level0 col3\" >text</th>\n",
       "    </tr>\n",
       "  </thead>\n",
       "  <tbody>\n",
       "    <tr>\n",
       "      <th id=\"T_e4bb9_level0_row0\" class=\"row_heading level0 row0\" >0</th>\n",
       "      <td id=\"T_e4bb9_row0_col0\" class=\"data row0 col0\" >genai-demo-index-v1</td>\n",
       "      <td id=\"T_e4bb9_row0_col1\" class=\"data row0 col1\" >10.003500</td>\n",
       "      <td id=\"T_e4bb9_row0_col2\" class=\"data row0 col2\" >간병치매보험_20240101~</td>\n",
       "      <td id=\"T_e4bb9_row0_col3\" class=\"data row0 col3\" >Ⅱ. 약관 요약서 1. 보험계약의 개요 가입하신 보험상품의 보장내용과 특징을 확인해보세요. 한화생명 The실속있는 간병치매보험 무배당 상품의 종목: 보장성보험, 치매보험 (1) 상품의 주요특징 (1) 상품의 주요특징 금리확정형 예금자보호 보험료 및 적립금 산출에 예금자보호법에 따라 적용되는 이율이 1인당 최고 5천만원까지 보험기간 동안 고정되어 보장합니다. 변동이 없습니다. 보장성보험 무배당 사망, 질병, 계약자에게 한화생명 상해 등의 위험을 배당을 하지 않는 The실속있는 보장하는 보장성 상품입니다. 보험입니다. 간병치매보험 무배당 치매보험 해약환급금 미지급형 보험료 납입기간 중 경도, 중등도, 중증치매, 계약이 해지될 경우 말기치매 진단자금 및 간병자금을 해약환급금을 지급하지 않는 대신 보장하는 ‘표준형’보다 낮은 보험료로 보험상품입니다. 가입할 수 있는 상품입니다. 12\u0000/\u0000462</td>\n",
       "    </tr>\n",
       "    <tr>\n",
       "      <th id=\"T_e4bb9_level0_row1\" class=\"row_heading level0 row1\" >1</th>\n",
       "      <td id=\"T_e4bb9_row1_col0\" class=\"data row1 col0\" >genai-demo-index-v1</td>\n",
       "      <td id=\"T_e4bb9_row1_col1\" class=\"data row1 col1\" >9.855100</td>\n",
       "      <td id=\"T_e4bb9_row1_col2\" class=\"data row1 col2\" >간병치매보험_20240101~</td>\n",
       "      <td id=\"T_e4bb9_row1_col3\" class=\"data row1 col3\" >4. 상황별 목차 안내 계약의 계약에서 쓰이는 제2조(용어의 정의) 체결 용어를 알고 싶어요 제14조(계약 전 알릴 의무) 계약 전 알릴 의무는 무엇인가요 제15조(계약 전 알릴 의무 위반의 효과) 보장이 언제 시작되나요 제24조(제1회 보험료 및 회사의 보장개시) 청약을 철회하고 싶어요 제18조(청약의 철회) 계약을 취소 할 수 있나요 제19조(약관교부 및 설명의무 등) 계약이 무효가 될 수 있나요 제20조(계약의 무효) 보험료의 보험료 납입면제 제6조(보험금 지급에 관한 세부규정) 납입 사유를 알고 싶어요 보험료 납입최고(독촉)이 제27조(보험료의 납입이 연체되는 경우 무엇인가요 납입최고(독촉)와 계약의 해지) 제28조(보험료의 납입연체로 인하여 해지된 계약을 살리고 싶어요 해지된 계약의 부활(효력회복)) 보험금의 제5조(보험금의 지급사유), 보험금을 받을 수 있는지 궁금해요 지급 제7조(보험금을 지급하지 않는 사유) 제9조(보험금 등의 청구), 보험금은 언제 지급되나요 제10조(보험금 등의 지급절차) 8\u0000/\u0000462</td>\n",
       "    </tr>\n",
       "    <tr>\n",
       "      <th id=\"T_e4bb9_level0_row2\" class=\"row_heading level0 row2\" >2</th>\n",
       "      <td id=\"T_e4bb9_row2_col0\" class=\"data row2 col0\" >genai-demo-index-v1</td>\n",
       "      <td id=\"T_e4bb9_row2_col1\" class=\"data row2 col1\" >5.911800</td>\n",
       "      <td id=\"T_e4bb9_row2_col2\" class=\"data row2 col2\" >간병치매보험_20240101~</td>\n",
       "      <td id=\"T_e4bb9_row2_col3\" class=\"data row2 col3\" >하 ‘공시이율’이라 합니다)로 합니다. 공시이율의 최저보증이율은 이 특약의 계약일로부터 3년 이내에는 연복리 1.0%, 3년초과 5년 이내에는 연복리 0.75%, 5년을 초과하는 경우에는 연복리 0.5%를 적용합니다. ② 제1항의 공시이율은 이 보험의 사업방법서에서 정하는 바에 따라 운용자산이익률과 객관적인 외부지 표금리를 가중평균하여 산출된 공시기준이율에서 향후 예상수익 등을 고려한 조정률을 가감하여 결정합 니다. ③ 회사는 제1항 내지 제2항에서 정한 공시이율 및 산출방법 등을 매월 회사의 인터넷 홈페이지 등을 통해 공시합니다. 【 공시이율 】 보험회사가 장래 보험금 지급을 위하여 납입보험료의 일정 부분을 적립해 가는데, 이때 적용하는 이 율을 의미합니다. 이 보험의 공시이율은 회사의 운용자산이익률, 객관적인 외부지표금리(국고채 수익 률 등 시중금리) 및 향후 운용수익률 예측분을 혼합하여 일정기간마다 산출하여 공시하고 있습니다. 제 5 조 보험금 등의 청구 ① 보험수익자 또는 계약자는 다음의 서류를 제출하고 보험금 또는 계약자적립액을 청구하여야 합니다. 1. 청구서(회사양식) 2. 사고증명서(사망진단서 등) 3. 신분증(주민등록증이나 운전면허증 등 사진이 붙은 정부기관 발행 신분증, 본인이 아닌 경우에는 본인의 인감증명서 또는 본인서명사실확인서 포함) 4. 기타 보험수익자 또는 계약자가 보험금 수령 또는 계약자적립액 청구에 필요하여 제출하는 서류 【계약자적립액】 장래의 보험금, 해약환급금 등을 지급하기 위하여 계약자가 납입한 보험료 중 일정액을 기준으로 산 출방법서에서 정한 방법에 따라 계산한 금액 ② 제1항에도 불구하고 회사는 보험수익자가 의식불명 등 의사무능력상태인 경우 성년후견인이 보험수 익자를 대리하여 제1항 각호의 서류와 다음의 서류를 제출하고 보험금을 청구하도록 요구할 수 있습니 다. 1. 보험수익자가 예금주인 예금 통장 사본 2. 성년후견인의 보험금지급 동의서, 인감증명서, 인감도장 3. 보험수익자 기준 성년 후견 등기사항 증명서 ③ 제1항 제2호의 사고증명서는 의료법 제3조(의료기관)에서 규정한 국내의 병원이나 의원 또는 국외의 의료관련법에서 정한 의료기관에서 발급한 것이어야 합니다. 제 6 조 보험금 등의 지급절차 ① 회사는 제5조(보험금 등의 청구)에 정한 서류를 접수한 때에는 접수증을 드리고 휴대전화 문자메시지 또는 전자우편 등으로도 송부하며, 그 서류를 접수한 날부터 3영업일 이내에 보험금 또는 계약자적립액 을 지급합니다. 다만, 보험금 및 계약자적립액 지급사유의 조사나 확인이 필요한 때에는 접수 후 10영업 일 이내에 보험금 및 계약자적립액을 지급합니다. ② 회사는 제3조(보험금의 지급사유)에 해당하는 연금의 지급시기가 되면 지급시기 7일 이전에 그 사유 와 회사가 지급하여야 할 금액을 계약자 또는 보험수익자에게 알려드리며, 제1항에 따라 보험금 또는 계약자적립액을 지급할 때 지급일까지의 기간에 대한 이자는 ‘보험금을 지급할 때의 적립이율 계산’(별 표 2 참조)과 같이 계산합니다. 제 3 관 특약의 성립과 유지 제 7 조 특약의 성립 ① 이 특약은 계약자의 청약(請約)과 회사의 승낙(承諾)으로 전환전계약에 부가하여 이루어 집니다. ② 계약자는 이 특약을 청약할 때 종신연금형, 확정기간연금형 또는 상속연금형 중 한 가지를 선택하여 370\u0000/\u0000462</td>\n",
       "    </tr>\n",
       "    <tr>\n",
       "      <th id=\"T_e4bb9_level0_row3\" class=\"row_heading level0 row3\" >3</th>\n",
       "      <td id=\"T_e4bb9_row3_col0\" class=\"data row3 col0\" >genai-demo-index-v1</td>\n",
       "      <td id=\"T_e4bb9_row3_col1\" class=\"data row3 col1\" >5.185700</td>\n",
       "      <td id=\"T_e4bb9_row3_col2\" class=\"data row3 col2\" >간병치매보험_20240101~</td>\n",
       "      <td id=\"T_e4bb9_row3_col3\" class=\"data row3 col3\" >금융소비자 중 대통령령으로 정하는 자가 일반금융소비자와 같은 대우를 받겠다는 의사를 금융상 품판매업자 또는 금융상품자문업자(이하 “금융상품판매업자등”이라 한다)에게 서면으로 통지하는 경우 금융상품판매업자등은 정당한 사유가 있는 경우를 제외하고는 이에 동의하여야 하며, 금융상 품판매업자등이 동의한 경우에는 해당 금융소비자는 일반금융소비자로 본다. 가. 국가 나. 「한국은행법」에 따른 한국은행 다. 대통령령으로 정하는 금융회사 라. 「자본시장과 금융투자업에 관한 법률」 제9조제15항제3호에 따른 주권상장법인(투자성 상품 중 대통령령으로 정하는 금융상품계약체결등을 할 때에는 전문금융소비자와 같은 대우를 받겠다는 의사를 금융상품판매업자등에게 서면으로 통지하는 경우만 해당한다) 마. 그 밖에 금융상품의 유형별로 대통령령으로 정하는 자 10. “일반금융소비자”란 전문금융소비자가 아닌 금융소비자를 말한다. 제42조(소액분쟁사건에 관한 특례) 조정대상기관은 다음 각 호의 요건 모두를 총족하는 분쟁사건(이하 “소액분쟁사건”이라 한다)에 대하 여 조정절차가 개시된 경우에는 제36조제6항에 따라 조정안을 제시받기 전에는 소를 제기할 수 없다. 다만, 제36조제3항에 따라 서면통지를 받거나 제36조제5항에서 정한 기간 내에 조정안을 제시받지 못 한 경우에는 그러하지 아니하다. 1. 일반금융소비자가 신청한 사건일 것 2. 조정을 통하여 주장하는 권리나 이익의 가액이 2천만원 이내에서 대통령령으로 정하는 금액 이하 일 것 제47조(위법계약의 해지) ① 금융소비자는 금융상품판매업자등이 제17조제3항, 제18조제2항, 제19조제1항ㆍ제3항, 제20조제1항 또는 제21조를 위반하여 대통령령으로 정하는 금융상품에 관한 계약을 체결한 경우 5년 이내의 대 통령령으로 정하는 기간 내에 서면등으로 해당 계약의 해지를 요구할 수 있다. 이 경우 금융상품 판매업자등은 해지를 요구받은 날부터 10일 이내에 금융소비자에게 수락여부를 통지하여야 하며, 거절할 때에는 거절사유를 함께 통지하여야 한다. ② 금융소비자는 금융상품판매업자등이 정당한 사유 없이 제1항의 요구를 따르지 않는 경우 해당 계 약을 해지할 수 있다. ③ 제1항 및 제2항에 따라 계약이 해지된 경우 금융상품판매업자등은 수수료, 위약금 등 계약의 해지 와 관련된 비용을 요구할 수 없다. ④ 제1항부터 제3항까지의 규정에 따른 계약의 해지요구권의 행사요건, 행사범위 및 정당한 사유 등 과 관련하여 필요한 사항은 대통령령으로 정한다. 금융소비자 보호에 관한 법률 시행령 제38조(위법계약의 해지) ① 법 제47조제1항 전단에서 “대통령령으로 정하는 금융상품”이란 금융소비자와 금융상품직접판매업 자 또는 금융상품자문업자 간 계속적 거래가 이루어지는 금융상품 중 금융위원회가 정하여 고시 하는 금융상품을 말한다. ② 법 제47조제1항 전단에서 “대통령령으로 정하는 기간”이란 금융소비자가 계약 체결에 대한 위반사 항을 안 날부터 1년 이내의 기간을 말한다. 이 경우 해당 기간은 계약체결일부터 5년 이내의 범 위에 있어야 한다. ③ 금융소비자는 법 제47조제1항 전단에 따라 계약의 해지를 요구하려는 경우 금융위원회가 정하여 412\u0000/\u0000462</td>\n",
       "    </tr>\n",
       "    <tr>\n",
       "      <th id=\"T_e4bb9_level0_row4\" class=\"row_heading level0 row4\" >4</th>\n",
       "      <td id=\"T_e4bb9_row4_col0\" class=\"data row4 col0\" >genai-demo-index-v1</td>\n",
       "      <td id=\"T_e4bb9_row4_col1\" class=\"data row4 col1\" >4.698700</td>\n",
       "      <td id=\"T_e4bb9_row4_col2\" class=\"data row4 col2\" >간병치매보험_20240101~</td>\n",
       "      <td id=\"T_e4bb9_row4_col3\" class=\"data row4 col3\" >(4) 소비자가 반드시 알아두어야 할 상품의 주요 특성 보장성보험 ① 이 보험은 사망 및 질병 보장을 주목적으로 하는 보장성보험이며, 저축이나 연금수령을 목적으로 가입하시기에 적합하지 않습니다. ② 만기 또는 중도해지 시 납입한 보험료보다 환급금이 적을 수 있습니다. ③ 가입한 특약의 경우 주계약과 보험기간이 다를 수 있습니다. (특약별 보험기간을 꼼꼼히 확인하시기 바랍니다.) [민원 사례] A씨는 저축을 주된 목적으로 종신보험을 가입하였으나 알고보니 사망 및 질병 보장을 주목적으로 하는 보장성보험임에 불만 ▶ 종신보험 등 보장성보험은 저축이나 노후에 연금 수령을 목적으로 가입하시기에는 적합하지 않으며 또한 중도에 해지하면 손해를 볼 수 있음 예금자보호제도에 ① 이 보험은 예금자보호법에 따라 예금보험공사가 보호합니다. 관한 사항 ② 예금자보호 한도는 본 보험회사에 있는 귀하의 모든 예금보호 대상 금융상품의 해약환급금(또는 만기시 보험금이나 사고보험금)과 기타 지급금을 합하여 1인당 “최고 5천만원”이며, 5천만원을 초과하는 나머지 금액은 보호하지 않습니다. ③ 또한, 보험계약자 및 보험료 납부자가 법인이면 보호되지 않습니다. 27\u0000/\u0000462</td>\n",
       "    </tr>\n",
       "  </tbody>\n",
       "</table>\n"
      ],
      "text/plain": [
       "<pandas.io.formats.style.Styler at 0x7f5bc33d47c0>"
      ]
     },
     "execution_count": 28,
     "metadata": {},
     "output_type": "execute_result"
    }
   ],
   "source": [
    "filter = [\n",
    "    {\"term\": {\"metadata.source\": \"한화생명 The실속있는 간병치매보험_20240101~.pdf\"}}\n",
    "]\n",
    "\n",
    "response = os_client.search(\n",
    "    body=query_lexical(query, filter),\n",
    "    index=index_name\n",
    ")\n",
    "result_to_dataframe(response)"
   ]
  },
  {
   "cell_type": "code",
   "execution_count": 29,
   "id": "f5dae705-0377-4629-9261-fdd50b4b1f9b",
   "metadata": {
    "tags": []
   },
   "outputs": [
    {
     "name": "stdout",
     "output_type": "stream",
     "text": [
      "이전에 필터를 넣치 않고 검색에 걸린 시간:  62 ms\n",
      "지금 필터를 넣고 검색에 걸린 시간:  28 ms\n",
      "<<사용자 입력 쿼리 문장>>:  금리연동형 상품은 무엇인가요?\n"
     ]
    },
    {
     "data": {
      "text/html": [
       "<style type=\"text/css\">\n",
       "#T_89f0b_row0_col0, #T_89f0b_row0_col1, #T_89f0b_row0_col2, #T_89f0b_row0_col3, #T_89f0b_row1_col0, #T_89f0b_row1_col1, #T_89f0b_row1_col2, #T_89f0b_row1_col3, #T_89f0b_row2_col0, #T_89f0b_row2_col1, #T_89f0b_row2_col2, #T_89f0b_row2_col3, #T_89f0b_row3_col0, #T_89f0b_row3_col1, #T_89f0b_row3_col2, #T_89f0b_row3_col3, #T_89f0b_row4_col0, #T_89f0b_row4_col1, #T_89f0b_row4_col2, #T_89f0b_row4_col3 {\n",
       "  text-align: left;\n",
       "}\n",
       "</style>\n",
       "<table id=\"T_89f0b\">\n",
       "  <thead>\n",
       "    <tr>\n",
       "      <th class=\"blank level0\" >&nbsp;</th>\n",
       "      <th id=\"T_89f0b_level0_col0\" class=\"col_heading level0 col0\" >index_name</th>\n",
       "      <th id=\"T_89f0b_level0_col1\" class=\"col_heading level0 col1\" >score</th>\n",
       "      <th id=\"T_89f0b_level0_col2\" class=\"col_heading level0 col2\" >type</th>\n",
       "      <th id=\"T_89f0b_level0_col3\" class=\"col_heading level0 col3\" >text</th>\n",
       "    </tr>\n",
       "  </thead>\n",
       "  <tbody>\n",
       "    <tr>\n",
       "      <th id=\"T_89f0b_level0_row0\" class=\"row_heading level0 row0\" >0</th>\n",
       "      <td id=\"T_89f0b_row0_col0\" class=\"data row0 col0\" >genai-demo-index-v1</td>\n",
       "      <td id=\"T_89f0b_row0_col1\" class=\"data row0 col1\" >10.003500</td>\n",
       "      <td id=\"T_89f0b_row0_col2\" class=\"data row0 col2\" >간병치매보험_20240101~</td>\n",
       "      <td id=\"T_89f0b_row0_col3\" class=\"data row0 col3\" >Ⅱ. 약관 요약서 1. 보험계약의 개요 가입하신 보험상품의 보장내용과 특징을 확인해보세요. 한화생명 The실속있는 간병치매보험 무배당 상품의 종목: 보장성보험, 치매보험 (1) 상품의 주요특징 (1) 상품의 주요특징 금리확정형 예금자보호 보험료 및 적립금 산출에 예금자보호법에 따라 적용되는 이율이 1인당 최고 5천만원까지 보험기간 동안 고정되어 보장합니다. 변동이 없습니다. 보장성보험 무배당 사망, 질병, 계약자에게 한화생명 상해 등의 위험을 배당을 하지 않는 The실속있는 보장하는 보장성 상품입니다. 보험입니다. 간병치매보험 무배당 치매보험 해약환급금 미지급형 보험료 납입기간 중 경도, 중등도, 중증치매, 계약이 해지될 경우 말기치매 진단자금 및 간병자금을 해약환급금을 지급하지 않는 대신 보장하는 ‘표준형’보다 낮은 보험료로 보험상품입니다. 가입할 수 있는 상품입니다. 12\u0000/\u0000462</td>\n",
       "    </tr>\n",
       "    <tr>\n",
       "      <th id=\"T_89f0b_level0_row1\" class=\"row_heading level0 row1\" >1</th>\n",
       "      <td id=\"T_89f0b_row1_col0\" class=\"data row1 col0\" >genai-demo-index-v1</td>\n",
       "      <td id=\"T_89f0b_row1_col1\" class=\"data row1 col1\" >9.855100</td>\n",
       "      <td id=\"T_89f0b_row1_col2\" class=\"data row1 col2\" >간병치매보험_20240101~</td>\n",
       "      <td id=\"T_89f0b_row1_col3\" class=\"data row1 col3\" >4. 상황별 목차 안내 계약의 계약에서 쓰이는 제2조(용어의 정의) 체결 용어를 알고 싶어요 제14조(계약 전 알릴 의무) 계약 전 알릴 의무는 무엇인가요 제15조(계약 전 알릴 의무 위반의 효과) 보장이 언제 시작되나요 제24조(제1회 보험료 및 회사의 보장개시) 청약을 철회하고 싶어요 제18조(청약의 철회) 계약을 취소 할 수 있나요 제19조(약관교부 및 설명의무 등) 계약이 무효가 될 수 있나요 제20조(계약의 무효) 보험료의 보험료 납입면제 제6조(보험금 지급에 관한 세부규정) 납입 사유를 알고 싶어요 보험료 납입최고(독촉)이 제27조(보험료의 납입이 연체되는 경우 무엇인가요 납입최고(독촉)와 계약의 해지) 제28조(보험료의 납입연체로 인하여 해지된 계약을 살리고 싶어요 해지된 계약의 부활(효력회복)) 보험금의 제5조(보험금의 지급사유), 보험금을 받을 수 있는지 궁금해요 지급 제7조(보험금을 지급하지 않는 사유) 제9조(보험금 등의 청구), 보험금은 언제 지급되나요 제10조(보험금 등의 지급절차) 8\u0000/\u0000462</td>\n",
       "    </tr>\n",
       "    <tr>\n",
       "      <th id=\"T_89f0b_level0_row2\" class=\"row_heading level0 row2\" >2</th>\n",
       "      <td id=\"T_89f0b_row2_col0\" class=\"data row2 col0\" >genai-demo-index-v1</td>\n",
       "      <td id=\"T_89f0b_row2_col1\" class=\"data row2 col1\" >5.911800</td>\n",
       "      <td id=\"T_89f0b_row2_col2\" class=\"data row2 col2\" >간병치매보험_20240101~</td>\n",
       "      <td id=\"T_89f0b_row2_col3\" class=\"data row2 col3\" >하 ‘공시이율’이라 합니다)로 합니다. 공시이율의 최저보증이율은 이 특약의 계약일로부터 3년 이내에는 연복리 1.0%, 3년초과 5년 이내에는 연복리 0.75%, 5년을 초과하는 경우에는 연복리 0.5%를 적용합니다. ② 제1항의 공시이율은 이 보험의 사업방법서에서 정하는 바에 따라 운용자산이익률과 객관적인 외부지 표금리를 가중평균하여 산출된 공시기준이율에서 향후 예상수익 등을 고려한 조정률을 가감하여 결정합 니다. ③ 회사는 제1항 내지 제2항에서 정한 공시이율 및 산출방법 등을 매월 회사의 인터넷 홈페이지 등을 통해 공시합니다. 【 공시이율 】 보험회사가 장래 보험금 지급을 위하여 납입보험료의 일정 부분을 적립해 가는데, 이때 적용하는 이 율을 의미합니다. 이 보험의 공시이율은 회사의 운용자산이익률, 객관적인 외부지표금리(국고채 수익 률 등 시중금리) 및 향후 운용수익률 예측분을 혼합하여 일정기간마다 산출하여 공시하고 있습니다. 제 5 조 보험금 등의 청구 ① 보험수익자 또는 계약자는 다음의 서류를 제출하고 보험금 또는 계약자적립액을 청구하여야 합니다. 1. 청구서(회사양식) 2. 사고증명서(사망진단서 등) 3. 신분증(주민등록증이나 운전면허증 등 사진이 붙은 정부기관 발행 신분증, 본인이 아닌 경우에는 본인의 인감증명서 또는 본인서명사실확인서 포함) 4. 기타 보험수익자 또는 계약자가 보험금 수령 또는 계약자적립액 청구에 필요하여 제출하는 서류 【계약자적립액】 장래의 보험금, 해약환급금 등을 지급하기 위하여 계약자가 납입한 보험료 중 일정액을 기준으로 산 출방법서에서 정한 방법에 따라 계산한 금액 ② 제1항에도 불구하고 회사는 보험수익자가 의식불명 등 의사무능력상태인 경우 성년후견인이 보험수 익자를 대리하여 제1항 각호의 서류와 다음의 서류를 제출하고 보험금을 청구하도록 요구할 수 있습니 다. 1. 보험수익자가 예금주인 예금 통장 사본 2. 성년후견인의 보험금지급 동의서, 인감증명서, 인감도장 3. 보험수익자 기준 성년 후견 등기사항 증명서 ③ 제1항 제2호의 사고증명서는 의료법 제3조(의료기관)에서 규정한 국내의 병원이나 의원 또는 국외의 의료관련법에서 정한 의료기관에서 발급한 것이어야 합니다. 제 6 조 보험금 등의 지급절차 ① 회사는 제5조(보험금 등의 청구)에 정한 서류를 접수한 때에는 접수증을 드리고 휴대전화 문자메시지 또는 전자우편 등으로도 송부하며, 그 서류를 접수한 날부터 3영업일 이내에 보험금 또는 계약자적립액 을 지급합니다. 다만, 보험금 및 계약자적립액 지급사유의 조사나 확인이 필요한 때에는 접수 후 10영업 일 이내에 보험금 및 계약자적립액을 지급합니다. ② 회사는 제3조(보험금의 지급사유)에 해당하는 연금의 지급시기가 되면 지급시기 7일 이전에 그 사유 와 회사가 지급하여야 할 금액을 계약자 또는 보험수익자에게 알려드리며, 제1항에 따라 보험금 또는 계약자적립액을 지급할 때 지급일까지의 기간에 대한 이자는 ‘보험금을 지급할 때의 적립이율 계산’(별 표 2 참조)과 같이 계산합니다. 제 3 관 특약의 성립과 유지 제 7 조 특약의 성립 ① 이 특약은 계약자의 청약(請約)과 회사의 승낙(承諾)으로 전환전계약에 부가하여 이루어 집니다. ② 계약자는 이 특약을 청약할 때 종신연금형, 확정기간연금형 또는 상속연금형 중 한 가지를 선택하여 370\u0000/\u0000462</td>\n",
       "    </tr>\n",
       "    <tr>\n",
       "      <th id=\"T_89f0b_level0_row3\" class=\"row_heading level0 row3\" >3</th>\n",
       "      <td id=\"T_89f0b_row3_col0\" class=\"data row3 col0\" >genai-demo-index-v1</td>\n",
       "      <td id=\"T_89f0b_row3_col1\" class=\"data row3 col1\" >5.185700</td>\n",
       "      <td id=\"T_89f0b_row3_col2\" class=\"data row3 col2\" >간병치매보험_20240101~</td>\n",
       "      <td id=\"T_89f0b_row3_col3\" class=\"data row3 col3\" >금융소비자 중 대통령령으로 정하는 자가 일반금융소비자와 같은 대우를 받겠다는 의사를 금융상 품판매업자 또는 금융상품자문업자(이하 “금융상품판매업자등”이라 한다)에게 서면으로 통지하는 경우 금융상품판매업자등은 정당한 사유가 있는 경우를 제외하고는 이에 동의하여야 하며, 금융상 품판매업자등이 동의한 경우에는 해당 금융소비자는 일반금융소비자로 본다. 가. 국가 나. 「한국은행법」에 따른 한국은행 다. 대통령령으로 정하는 금융회사 라. 「자본시장과 금융투자업에 관한 법률」 제9조제15항제3호에 따른 주권상장법인(투자성 상품 중 대통령령으로 정하는 금융상품계약체결등을 할 때에는 전문금융소비자와 같은 대우를 받겠다는 의사를 금융상품판매업자등에게 서면으로 통지하는 경우만 해당한다) 마. 그 밖에 금융상품의 유형별로 대통령령으로 정하는 자 10. “일반금융소비자”란 전문금융소비자가 아닌 금융소비자를 말한다. 제42조(소액분쟁사건에 관한 특례) 조정대상기관은 다음 각 호의 요건 모두를 총족하는 분쟁사건(이하 “소액분쟁사건”이라 한다)에 대하 여 조정절차가 개시된 경우에는 제36조제6항에 따라 조정안을 제시받기 전에는 소를 제기할 수 없다. 다만, 제36조제3항에 따라 서면통지를 받거나 제36조제5항에서 정한 기간 내에 조정안을 제시받지 못 한 경우에는 그러하지 아니하다. 1. 일반금융소비자가 신청한 사건일 것 2. 조정을 통하여 주장하는 권리나 이익의 가액이 2천만원 이내에서 대통령령으로 정하는 금액 이하 일 것 제47조(위법계약의 해지) ① 금융소비자는 금융상품판매업자등이 제17조제3항, 제18조제2항, 제19조제1항ㆍ제3항, 제20조제1항 또는 제21조를 위반하여 대통령령으로 정하는 금융상품에 관한 계약을 체결한 경우 5년 이내의 대 통령령으로 정하는 기간 내에 서면등으로 해당 계약의 해지를 요구할 수 있다. 이 경우 금융상품 판매업자등은 해지를 요구받은 날부터 10일 이내에 금융소비자에게 수락여부를 통지하여야 하며, 거절할 때에는 거절사유를 함께 통지하여야 한다. ② 금융소비자는 금융상품판매업자등이 정당한 사유 없이 제1항의 요구를 따르지 않는 경우 해당 계 약을 해지할 수 있다. ③ 제1항 및 제2항에 따라 계약이 해지된 경우 금융상품판매업자등은 수수료, 위약금 등 계약의 해지 와 관련된 비용을 요구할 수 없다. ④ 제1항부터 제3항까지의 규정에 따른 계약의 해지요구권의 행사요건, 행사범위 및 정당한 사유 등 과 관련하여 필요한 사항은 대통령령으로 정한다. 금융소비자 보호에 관한 법률 시행령 제38조(위법계약의 해지) ① 법 제47조제1항 전단에서 “대통령령으로 정하는 금융상품”이란 금융소비자와 금융상품직접판매업 자 또는 금융상품자문업자 간 계속적 거래가 이루어지는 금융상품 중 금융위원회가 정하여 고시 하는 금융상품을 말한다. ② 법 제47조제1항 전단에서 “대통령령으로 정하는 기간”이란 금융소비자가 계약 체결에 대한 위반사 항을 안 날부터 1년 이내의 기간을 말한다. 이 경우 해당 기간은 계약체결일부터 5년 이내의 범 위에 있어야 한다. ③ 금융소비자는 법 제47조제1항 전단에 따라 계약의 해지를 요구하려는 경우 금융위원회가 정하여 412\u0000/\u0000462</td>\n",
       "    </tr>\n",
       "    <tr>\n",
       "      <th id=\"T_89f0b_level0_row4\" class=\"row_heading level0 row4\" >4</th>\n",
       "      <td id=\"T_89f0b_row4_col0\" class=\"data row4 col0\" >genai-demo-index-v1</td>\n",
       "      <td id=\"T_89f0b_row4_col1\" class=\"data row4 col1\" >4.698700</td>\n",
       "      <td id=\"T_89f0b_row4_col2\" class=\"data row4 col2\" >간병치매보험_20240101~</td>\n",
       "      <td id=\"T_89f0b_row4_col3\" class=\"data row4 col3\" >(4) 소비자가 반드시 알아두어야 할 상품의 주요 특성 보장성보험 ① 이 보험은 사망 및 질병 보장을 주목적으로 하는 보장성보험이며, 저축이나 연금수령을 목적으로 가입하시기에 적합하지 않습니다. ② 만기 또는 중도해지 시 납입한 보험료보다 환급금이 적을 수 있습니다. ③ 가입한 특약의 경우 주계약과 보험기간이 다를 수 있습니다. (특약별 보험기간을 꼼꼼히 확인하시기 바랍니다.) [민원 사례] A씨는 저축을 주된 목적으로 종신보험을 가입하였으나 알고보니 사망 및 질병 보장을 주목적으로 하는 보장성보험임에 불만 ▶ 종신보험 등 보장성보험은 저축이나 노후에 연금 수령을 목적으로 가입하시기에는 적합하지 않으며 또한 중도에 해지하면 손해를 볼 수 있음 예금자보호제도에 ① 이 보험은 예금자보호법에 따라 예금보험공사가 보호합니다. 관한 사항 ② 예금자보호 한도는 본 보험회사에 있는 귀하의 모든 예금보호 대상 금융상품의 해약환급금(또는 만기시 보험금이나 사고보험금)과 기타 지급금을 합하여 1인당 “최고 5천만원”이며, 5천만원을 초과하는 나머지 금액은 보호하지 않습니다. ③ 또한, 보험계약자 및 보험료 납부자가 법인이면 보호되지 않습니다. 27\u0000/\u0000462</td>\n",
       "    </tr>\n",
       "  </tbody>\n",
       "</table>\n"
      ],
      "text/plain": [
       "<pandas.io.formats.style.Styler at 0x7f5bc33d4040>"
      ]
     },
     "execution_count": 29,
     "metadata": {},
     "output_type": "execute_result"
    }
   ],
   "source": [
    "filter = [\n",
    "    {\"term\": {\"metadata.source\": \"한화생명 The실속있는 간병치매보험_20240101~.pdf\"}},\n",
    "    {\"term\": {\"metadata.type\": \"간병치매보험_20240101~\"}},\n",
    "]\n",
    "\n",
    "response = os_client.search(\n",
    "    body=query_lexical(query, filter),\n",
    "    index=index_name\n",
    ")\n",
    "print('이전에 필터를 넣치 않고 검색에 걸린 시간: ', time_took_lexical_only, 'ms')\n",
    "print('지금 필터를 넣고 검색에 걸린 시간: ', response['took'], 'ms')\n",
    "\n",
    "print(\"<<사용자 입력 쿼리 문장>>: \", query)\n",
    "\n",
    "result_to_dataframe(response)"
   ]
  },
  {
   "cell_type": "markdown",
   "id": "61bb0cb8-6f3f-4464-a728-a5d3657d6a8e",
   "metadata": {},
   "source": [
    "## 7. 벡터 검색 (knn 검색)을 활용한 검색 - Semantic Search\n",
    "\n",
    "- query 를 제공해서 실제로 유사한 내용이 검색이 되는지를 확인 합니다."
   ]
  },
  {
   "cell_type": "code",
   "execution_count": 30,
   "id": "e0551b04-d50a-4c10-b9cd-062c37b24b76",
   "metadata": {
    "tags": []
   },
   "outputs": [],
   "source": [
    "def query_semantic(vector, filter=[], k=5):\n",
    "    QUERY_TEMPLATE = {\n",
    "        \"size\": k,\n",
    "        \"query\": {                    \n",
    "            \"knn\": {\n",
    "                \"vector_field\": {\n",
    "                    \"vector\": vector,\n",
    "                    \"k\": k \n",
    "                }\n",
    "            }           \n",
    "        }\n",
    "    }\n",
    "    return QUERY_TEMPLATE"
   ]
  },
  {
   "cell_type": "code",
   "execution_count": 31,
   "id": "70a92d0b-e0df-4cf5-ab26-44e1886061db",
   "metadata": {
    "tags": []
   },
   "outputs": [
    {
     "name": "stdout",
     "output_type": "stream",
     "text": [
      "<<사용자 입력 쿼리 문장>>:  금리연동형 상품은 무엇인가요?\n"
     ]
    },
    {
     "data": {
      "text/html": [
       "<style type=\"text/css\">\n",
       "#T_0624b_row0_col0, #T_0624b_row0_col1, #T_0624b_row0_col2, #T_0624b_row0_col3, #T_0624b_row1_col0, #T_0624b_row1_col1, #T_0624b_row1_col2, #T_0624b_row1_col3, #T_0624b_row2_col0, #T_0624b_row2_col1, #T_0624b_row2_col2, #T_0624b_row2_col3, #T_0624b_row3_col0, #T_0624b_row3_col1, #T_0624b_row3_col2, #T_0624b_row3_col3, #T_0624b_row4_col0, #T_0624b_row4_col1, #T_0624b_row4_col2, #T_0624b_row4_col3 {\n",
       "  text-align: left;\n",
       "}\n",
       "</style>\n",
       "<table id=\"T_0624b\">\n",
       "  <thead>\n",
       "    <tr>\n",
       "      <th class=\"blank level0\" >&nbsp;</th>\n",
       "      <th id=\"T_0624b_level0_col0\" class=\"col_heading level0 col0\" >index_name</th>\n",
       "      <th id=\"T_0624b_level0_col1\" class=\"col_heading level0 col1\" >score</th>\n",
       "      <th id=\"T_0624b_level0_col2\" class=\"col_heading level0 col2\" >type</th>\n",
       "      <th id=\"T_0624b_level0_col3\" class=\"col_heading level0 col3\" >text</th>\n",
       "    </tr>\n",
       "  </thead>\n",
       "  <tbody>\n",
       "    <tr>\n",
       "      <th id=\"T_0624b_level0_row0\" class=\"row_heading level0 row0\" >0</th>\n",
       "      <td id=\"T_0624b_row0_col0\" class=\"data row0 col0\" >genai-demo-index-v1</td>\n",
       "      <td id=\"T_0624b_row0_col1\" class=\"data row0 col1\" >0.004500</td>\n",
       "      <td id=\"T_0624b_row0_col2\" class=\"data row0 col2\" >일시납종신보험_1912-061~072_20230916~</td>\n",
       "      <td id=\"T_0624b_row0_col3\" class=\"data row0 col3\" >【 별표 1 】 연금 지급기준표 급부명칭 지 급 내 용 지급사유 금 액 이 특약의 보험료를 기준으로 피보험 자가 생존한 기간동안(10년보증, 20년 보증, 100세보증) 보험료 및 해약환급 연금개시일 이후 피보험자가 매년 종신연금 금 산출방법서(이하 ‘산출방법서’라 보험계약 해당일에 살아있을 경우 합니다)에서 정한 방법에 따라 연금 액을 분할 계산하여 매년 보험계약 연금 해당일에 지급 연금개시일 이후 피보험자가 「’일상생활장해보장개시일’ 이후에 ‘일상생활장해상태’로 최종 종신연금 연금액의 1배를 진단 확정 LTC연금 진단확정되거나 ‘중증(重症)치매보 일을 포함하여 매년 진단 확정일에 장개시일’ 이후에 ‘중증(重症)치매 지급(최고 10회한도) 상태’로 최종 진단확정」되고 매년 진단 확정일에 살아있을 경우 주) 1. ‘이 특약의 보험료’란 전환전계약의 사업방법서에서 정한 바에 따라 전환전계약의 지급금의 전부 또는 일부를 말합니다. 2. 이 특약의 공시이율은 사업방법서에서 정한 방법에 따라 회사가 매월 1일 결정하며, 공시이율의 최저보증이율은 계약일로부터 3년 이내에는 연복리 1.0%, 3년초과 5년이내에는 연복리 0.75%, 5 년을 초과하는 경우에는 연복리 0.5%를 적용합니다. 3. 연금액의 계산은 이 특약의 보험료를 기준으로 이 특약의 공시이율을 적용하여 산출방법서에서 정한 방법에 따라 계산되며, 공시이율이 변경되면 실제 지급되는 연금액도 변경됩니다. 4. LTC발생시 ‘일상생활장해상태’ 또는 ‘중증(重症)치매상태’ 중 최초로 발생한 지급사유에 한하여 10회를 최고 한도로 하여 LTC연금을 지급합니다. 5. 종신연금의 100세보증은 피보험자 나이를 기준으로 합니다. 6. 종신연금의 경우 보증지급기간(10년, 20년, 100세 보증) 동안 지급되지 않은 종신연금액을 산출 방법서에 따라 공시이율로 할인하여 일시금으로 선지급 받을 수 있으며, 피보험자가 사망하는 경우 또한 같습니다. 7. 연금은 매월, 매3개월, 매6개월로 분할하여 지급받을 수 있습니다. 8. 해당월의 보험계약 해당일이 없는 경우에는 해당월의 말일을 보험계약 해당일로 합니다. 9. 보장개시일: 이 특약의 보장개시일은 이 특약의 계약자가 신청한 연금전환일로 하며, 보장개시 일을 보험계약일로 봅니다. 10. 일상생활장해보장개시일: 연금전환일부터 그 날을 포함하여 90일이 지난날의 다음 날로 합니다. 다만, 보험기간 중 발생한 재해로 인하여 ‘일상생활장해상태’가 발생한 경우에는 연금전환일을 보장개시일로 합니다. 11. 중증(重症)치매보장개시일: 연금전환일부터 그 날을 포함하여 만 2년이 지난 날의 다음 날로 합니다. 다만, 질병으로 인한 ‘중증(重症)치매상태’가 없는 상태에서 보험기간 중 발생한 재해로 인한 뇌의 손상으로 인하여 ‘중증(重症)치매상태’가 발생한 경우에는 연금전환일을 보장개시일 로 합니다. 112\u0000/\u0000235</td>\n",
       "    </tr>\n",
       "    <tr>\n",
       "      <th id=\"T_0624b_level0_row1\" class=\"row_heading level0 row1\" >1</th>\n",
       "      <td id=\"T_0624b_row1_col0\" class=\"data row1 col0\" >genai-demo-index-v1</td>\n",
       "      <td id=\"T_0624b_row1_col1\" class=\"data row1 col1\" >0.004500</td>\n",
       "      <td id=\"T_0624b_row1_col2\" class=\"data row1 col2\" >일시납종신보험_20240101~</td>\n",
       "      <td id=\"T_0624b_row1_col3\" class=\"data row1 col3\" >【 별표 1 】 연금 지급기준표 급부명칭 지 급 내 용 지급사유 금 액 이 특약의 보험료를 기준으로 피보험 자가 생존한 기간동안(10년보증, 20년 보증, 100세보증) 보험료 및 해약환급 연금개시일 이후 피보험자가 매년 종신연금 금 산출방법서(이하 ‘산출방법서’라 보험계약 해당일에 살아있을 경우 합니다)에서 정한 방법에 따라 연금 액을 분할 계산하여 매년 보험계약 연금 해당일에 지급 연금개시일 이후 피보험자가 「’일상생활장해보장개시일’ 이후에 ‘일상생활장해상태’로 최종 종신연금 연금액의 1배를 진단 확정 LTC연금 진단확정되거나 ‘중증(重症)치매보 일을 포함하여 매년 진단 확정일에 장개시일’ 이후에 ‘중증(重症)치매 지급(최고 10회한도) 상태’로 최종 진단확정」되고 매년 진단 확정일에 살아있을 경우 주) 1. ‘이 특약의 보험료’란 전환전계약의 사업방법서에서 정한 바에 따라 전환전계약의 지급금의 전부 또는 일부를 말합니다. 2. 이 특약의 공시이율은 사업방법서에서 정한 방법에 따라 회사가 매월 1일 결정하며, 공시이율의 최저보증이율은 계약일로부터 3년 이내에는 연복리 1.0%, 3년초과 5년이내에는 연복리 0.75%, 5 년을 초과하는 경우에는 연복리 0.5%를 적용합니다. 3. 연금액의 계산은 이 특약의 보험료를 기준으로 이 특약의 공시이율을 적용하여 산출방법서에서 정한 방법에 따라 계산되며, 공시이율이 변경되면 실제 지급되는 연금액도 변경됩니다. 4. LTC발생시 ‘일상생활장해상태’ 또는 ‘중증(重症)치매상태’ 중 최초로 발생한 지급사유에 한하여 10회를 최고 한도로 하여 LTC연금을 지급합니다. 5. 종신연금의 100세보증은 피보험자 나이를 기준으로 합니다. 6. 종신연금의 경우 보증지급기간(10년, 20년, 100세 보증) 동안 지급되지 않은 종신연금액을 산출 방법서에 따라 공시이율로 할인하여 일시금으로 선지급 받을 수 있으며, 피보험자가 사망하는 경우 또한 같습니다. 7. 연금은 매월, 매3개월, 매6개월로 분할하여 지급받을 수 있습니다. 8. 해당월의 보험계약 해당일이 없는 경우에는 해당월의 말일을 보험계약 해당일로 합니다. 9. 보장개시일: 이 특약의 보장개시일은 이 특약의 계약자가 신청한 연금전환일로 하며, 보장개시 일을 보험계약일로 봅니다. 10. 일상생활장해보장개시일: 연금전환일부터 그 날을 포함하여 90일이 지난날의 다음 날로 합니다. 다만, 보험기간 중 발생한 재해로 인하여 ‘일상생활장해상태’가 발생한 경우에는 연금전환일을 보장개시일로 합니다. 11. 중증(重症)치매보장개시일: 연금전환일부터 그 날을 포함하여 만 2년이 지난 날의 다음 날로 합니다. 다만, 질병으로 인한 ‘중증(重症)치매상태’가 없는 상태에서 보험기간 중 발생한 재해로 인한 뇌의 손상으로 인하여 ‘중증(重症)치매상태’가 발생한 경우에는 연금전환일을 보장개시일 로 합니다. 112\u0000/\u0000249</td>\n",
       "    </tr>\n",
       "    <tr>\n",
       "      <th id=\"T_0624b_level0_row2\" class=\"row_heading level0 row2\" >2</th>\n",
       "      <td id=\"T_0624b_row2_col0\" class=\"data row2 col0\" >genai-demo-index-v1</td>\n",
       "      <td id=\"T_0624b_row2_col1\" class=\"data row2 col1\" >0.004400</td>\n",
       "      <td id=\"T_0624b_row2_col2\" class=\"data row2 col2\" >간병치매보험_20231209~_1</td>\n",
       "      <td id=\"T_0624b_row2_col3\" class=\"data row2 col3\" >보장한도 이 보험에는 ‘보험금의 지급 횟수 등의 한도’가 있는 [보장한도]가 적용되는 담보가 포함되어 있습니다. 구분 담보명 보장한도 주계약 중증 치매진단자금 최초 1회에 한해 보장 치매(CDR1점이상) 경도이상 치매진단자금 최초 1회에 한해 보장 보장특약 치매(CDR2점이상) 보장특약 중등도이상 치매진단자금 최초 1회에 한해 보장 [종속/독립] 치매(CDR3점이상) 중증 치매진단자금 최초 1회에 한해 보장 보장특약 치매(CDR5점) 말기 치매진단자금 최초 1회에 한해 보장 보장특약 최초 1회에 한해 보장, 치매(CDR1점이상) 경도이상 치매간병자금 최초 3년 보증지급, 간병자금특약 생존시 최대 5년(60회) 치매(CDR2점이상) 최초 1회에 한해 보장, 간병자금특약 중등도이상 치매간병자금 최초 3년 보증지급, (종신지급) 생존시 종신지급 치매(CDR3점이상) 최초 1회에 한해 보장, 간병자금특약 중증 치매간병자금 최초 3년 보증지급, (종신지급) 생존시 종신지급 치매(CDR5점) 최초 1회에 한해 보장, 간병자금특약 말기 치매간병자금 최초 3년 보증지급, (종신지급) 생존시 종신지급 장기요양(1~인지지원등급) 장기요양상태 판정자금 최초 1회에 한해 보장 보장특약 장기요양(1~5등급) 경도이상 장기요양상태 판정자금 최초 1회에 한해 보장 보장특약 장기요양(1~2등급) 중증 장기요양상태 판정자금 최초 1회에 한해 보장 보장특약 22\u0000/\u0000448</td>\n",
       "    </tr>\n",
       "    <tr>\n",
       "      <th id=\"T_0624b_level0_row3\" class=\"row_heading level0 row3\" >3</th>\n",
       "      <td id=\"T_0624b_row3_col0\" class=\"data row3 col0\" >genai-demo-index-v1</td>\n",
       "      <td id=\"T_0624b_row3_col1\" class=\"data row3 col1\" >0.004400</td>\n",
       "      <td id=\"T_0624b_row3_col2\" class=\"data row3 col2\" >간병치매보험_20240101~</td>\n",
       "      <td id=\"T_0624b_row3_col3\" class=\"data row3 col3\" >보장한도 이 보험에는 ‘보험금의 지급 횟수 등의 한도’가 있는 [보장한도]가 적용되는 담보가 포함되어 있습니다. 구분 담보명 보장한도 주계약 중증 치매진단자금 최초 1회에 한해 보장 치매(CDR1점이상) 경도이상 치매진단자금 최초 1회에 한해 보장 보장특약 치매(CDR2점이상) 보장특약 중등도이상 치매진단자금 최초 1회에 한해 보장 [종속/독립] 치매(CDR3점이상) 중증 치매진단자금 최초 1회에 한해 보장 보장특약 치매(CDR5점) 말기 치매진단자금 최초 1회에 한해 보장 보장특약 최초 1회에 한해 보장, 치매(CDR1점이상) 경도이상 치매간병자금 최초 3년 보증지급, 간병자금특약 생존시 최대 5년(60회) 치매(CDR2점이상) 최초 1회에 한해 보장, 간병자금특약 중등도이상 치매간병자금 최초 3년 보증지급, (종신지급) 생존시 종신지급 치매(CDR3점이상) 최초 1회에 한해 보장, 간병자금특약 중증 치매간병자금 최초 3년 보증지급, (종신지급) 생존시 종신지급 치매(CDR5점) 최초 1회에 한해 보장, 간병자금특약 말기 치매간병자금 최초 3년 보증지급, (종신지급) 생존시 종신지급 장기요양(1~인지지원등급) 장기요양상태 판정자금 최초 1회에 한해 보장 보장특약 장기요양(1~5등급) 경도이상 장기요양상태 판정자금 최초 1회에 한해 보장 보장특약 장기요양(1~2등급) 중증 장기요양상태 판정자금 최초 1회에 한해 보장 보장특약 22\u0000/\u0000462</td>\n",
       "    </tr>\n",
       "    <tr>\n",
       "      <th id=\"T_0624b_level0_row4\" class=\"row_heading level0 row4\" >4</th>\n",
       "      <td id=\"T_0624b_row4_col0\" class=\"data row4 col0\" >genai-demo-index-v1</td>\n",
       "      <td id=\"T_0624b_row4_col1\" class=\"data row4 col1\" >0.004200</td>\n",
       "      <td id=\"T_0624b_row4_col2\" class=\"data row4 col2\" >간병치매보험_20231209~_1</td>\n",
       "      <td id=\"T_0624b_row4_col3\" class=\"data row4 col3\" >치매(CDR5점)간병자금특약(종신지급)(K1.2) 무배당 약관 제 1 절 공통사항 [특약 약관] 제1절 공통사항을 이 특약 제1절 공통사항으로 합니다. 제 2 절 개별사항 제 1 관 용어의 정의 등 제 2-1 조 용어의 정의 이 특약에서 사용되는 용어의 정의는, 이 특약의 다른 조항에서 달리 정의되지 않는 한 다음과 같습니 다. 1. 피보험자: 보험사고의 대상이 되는 사람을 말합니다. 이 특약의 피보험자는 주계약이 1인보장보험일 때에는 주계약의 피보험자로, 주계약이 2인보장보 험일 때에는 주계약의 주피보험자로 합니다. 2. 보험기간: 특약에 따라 보장을 받는 기간을 말합니다. 제 2-1 조의 2 특약의 보장개시일 이 특약에 대한 회사의 보장개시일은 주계약의 보장개시일과 동일합니다. 제 2 관 보험금의 지급 등 제 2-2 조 한국표준질병·사인분류 적용 기준 ① 이 약관에서 규정하는 질병 및 재해 분류는 제8차 개정 한국표준질병·사인분류(KCD : 통계청 고시 제 2020-175호, 2021.1.1시행)가 기준이나, 이후 진단(재해의 경우 발생) 당시 한국표준질병·사인분류가 개정 된 경우에는 개정된 기준으로 최종 판단합니다. ② 진단(재해의 경우 발생) 당시의 한국표준질병·사인분류에 따라 이 약관에서 보장하는 질병 및 재해 해당여부를 판단하며, 진단(재해의 경우 발생) 이후 한국표준질병·사인분류 개정으로 질병 및 재해 분류 가 변경되더라도 이 약관에서 보장하는 질병 및 재해 해당 여부를 다시 판단하지 않습니다. ③ 제1항을 적용함에 있어 이 약관에서 진단 기준을 별도로 정한 경우에는 그에 따릅니다. 【예시】 ·피보험자가 제8차 개정 한국표준질병·사인분류 기준에서는 약관에서 보장하는 질병에 해당하나, 진 단 당시 제9차 개정 한국표준질병·사인분류가 적용되고 그 기준으로는 약관상 보장하는 질병에 해당 하지 않을 경우에는 보험금을 지급하지 아니합니다. ·피보험자가 진단 당시의 제8차 개정 한국표준질병·사인분류 기준에서는 약관에서 보장하지 않는 질 병으로 보험금 청구가 되어 보험금 지급이 거절되었으나, 진단 이후 제9차 개정 한국표준질병·사인분 류가 적용되고 그 기준에서는 보장하는 질병에 해당된다고 하더라도 보험금을 지급하지 않습니다. 제 2-2 조의 2 ‘말기 치매상태’의 정의 및 진단 확정 ① 이 특약에 있어서 ‘말기 치매상태'라 함은 피보험자가 계약일 이후에 발생한 재해 또는 질병으로 인 하여 ‘말기의 인지기능의 장애’가 발생한 상태를 말합니다. ② 제1항에서 정한 '말기의 인지기능의 장애'라 함은 CDR 척도(한국판 Expanded Clinical Dementia Rating, 2001년) 검사 결과가 5점(단, 국내 의학계에서 일반적으로 인정되는 검사 방법을 사용하여 이와 동등한 정도로 판정되는 경우를 포함합니다)에 해당되는 상태를 말합니다. 278\u0000/\u0000448</td>\n",
       "    </tr>\n",
       "  </tbody>\n",
       "</table>\n"
      ],
      "text/plain": [
       "<pandas.io.formats.style.Styler at 0x7f5bc2ff9990>"
      ]
     },
     "execution_count": 31,
     "metadata": {},
     "output_type": "execute_result"
    }
   ],
   "source": [
    "print(\"<<사용자 입력 쿼리 문장>>: \", query)\n",
    "\n",
    "response = os_client.search(\n",
    "    body=query_semantic(llm_emb.embed_query(query)),\n",
    "    index=index_name\n",
    ")\n",
    "result_to_dataframe(response)"
   ]
  },
  {
   "cell_type": "markdown",
   "id": "1c2de8af-d84c-40cf-b74f-f6dc5a08688f",
   "metadata": {},
   "source": [
    "이전에 어휘분석으로 검색한 결과는 아래와 같습니다. 위의 표와 비교해보시길 바랍니다."
   ]
  },
  {
   "cell_type": "code",
   "execution_count": 32,
   "id": "06b5c953-edc6-4240-893b-dda5e8b4e4d3",
   "metadata": {
    "tags": []
   },
   "outputs": [
    {
     "name": "stdout",
     "output_type": "stream",
     "text": [
      "<<사용자 입력 쿼리 문장>>:  금리연동형 상품은 무엇인가요?\n"
     ]
    },
    {
     "data": {
      "text/html": [
       "<style type=\"text/css\">\n",
       "#T_3c400_row0_col0, #T_3c400_row0_col1, #T_3c400_row0_col2, #T_3c400_row0_col3, #T_3c400_row1_col0, #T_3c400_row1_col1, #T_3c400_row1_col2, #T_3c400_row1_col3, #T_3c400_row2_col0, #T_3c400_row2_col1, #T_3c400_row2_col2, #T_3c400_row2_col3, #T_3c400_row3_col0, #T_3c400_row3_col1, #T_3c400_row3_col2, #T_3c400_row3_col3, #T_3c400_row4_col0, #T_3c400_row4_col1, #T_3c400_row4_col2, #T_3c400_row4_col3 {\n",
       "  text-align: left;\n",
       "}\n",
       "</style>\n",
       "<table id=\"T_3c400\">\n",
       "  <thead>\n",
       "    <tr>\n",
       "      <th class=\"blank level0\" >&nbsp;</th>\n",
       "      <th id=\"T_3c400_level0_col0\" class=\"col_heading level0 col0\" >index_name</th>\n",
       "      <th id=\"T_3c400_level0_col1\" class=\"col_heading level0 col1\" >score</th>\n",
       "      <th id=\"T_3c400_level0_col2\" class=\"col_heading level0 col2\" >type</th>\n",
       "      <th id=\"T_3c400_level0_col3\" class=\"col_heading level0 col3\" >text</th>\n",
       "    </tr>\n",
       "  </thead>\n",
       "  <tbody>\n",
       "    <tr>\n",
       "      <th id=\"T_3c400_level0_row0\" class=\"row_heading level0 row0\" >0</th>\n",
       "      <td id=\"T_3c400_row0_col0\" class=\"data row0 col0\" >genai-demo-index-v1</td>\n",
       "      <td id=\"T_3c400_row0_col1\" class=\"data row0 col1\" >20.683800</td>\n",
       "      <td id=\"T_3c400_row0_col2\" class=\"data row0 col2\" >일시납종신보험_20240101~</td>\n",
       "      <td id=\"T_3c400_row0_col3\" class=\"data row0 col3\" >Ⅱ. 약관 요약서 1. 보험계약의 개요 가입하신 보험상품의 보장내용과 특징을 확인해보세요. 한화생명 The스마트한 일시납종신보험 무배당 [보증비용부과형] 상품의 종목 : 보장성·종신보험 (1) 상품의 주요특징 예금자보호 금리연동형 예금자보호법에 따라 보험회사의 자산운용이익률, 1인당 최고 5천만원까지 시장금리 등에 따라 적립액 보장합니다. 다만, 보험계약자 적용이율이 변동되는 상품입 및 보험료 납부자가 법인인 니다. 경우에는 보호하지 않습니다. 보장성보험 한화생명 무배당 The스마트한 사망, 질병, 계약자에게 일시납종신보험 상해 등의 위험을 배당을 하지 않는 무배당 보장하는 보장성 상품입니다. 보험입니다. [보증비용부과형] 최저보증이율 해약환급금 보증 (해약환급금 보증형 가입시) 금리가 하락하더라도 적립시 적용되는 공시이율을 최저해약환급금은 회사가 정한 시산에 따라 향후 공시이율에 관계없이 일정 비율로 최저보증합니다. 계약 해지 시 지급하는 최저한도의 해약환급 금으로서, 예정적립액과 동일합니다. 15\u0000/\u0000249</td>\n",
       "    </tr>\n",
       "    <tr>\n",
       "      <th id=\"T_3c400_level0_row1\" class=\"row_heading level0 row1\" >1</th>\n",
       "      <td id=\"T_3c400_row1_col0\" class=\"data row1 col0\" >genai-demo-index-v1</td>\n",
       "      <td id=\"T_3c400_row1_col1\" class=\"data row1 col1\" >19.714900</td>\n",
       "      <td id=\"T_3c400_row1_col2\" class=\"data row1 col2\" >일시납종신보험_1912-061~072_20230916~</td>\n",
       "      <td id=\"T_3c400_row1_col3\" class=\"data row1 col3\" >Ⅱ. 약관 요약서 1. 보험계약의 개요 가입하신 보험상품의 보장내용과 특징을 확인해보세요. 한화생명 The스마트한 일시납종신보험 무배당 [보증비용부과형] 상품의 종목 : 보장성·종신보험 (1) 상품의 주요특징 예금자보호 금리연동형 예금자보호법에 따라 보험회사의 자산운용이익률, 1인당 최고 5천만원까지 시장금리 등에 따라 적립액 보장합니다. 다만, 보험계약자 적용이율이 변동되는 상품입 및 보험료 납부자가 법인인 니다. 경우에는 보호하지 않습니다. 보장성보험 한화생명 무배당 The스마트한 사망, 질병, 계약자에게 일시납종신보험 상해 등의 위험을 배당을 하지 않는 무배당 보장하는 보장성 상품입니다. 보험입니다. [보증비용부과형] 최저보증이율 해약환급금 보증 (해약환급금 보증형 가입시) 금리가 하락하더라도 적립시 적용되는 공시이율을 최저해약환급금은 회사가 정한 시산에 따라 향후 공시이율에 관계없이 일정 비율로 최저보증합니다. 계약 해지 시 지급하는 최저한도의 해약환급 금으로서, 예정적립액과 동일합니다. 15\u0000/\u0000235</td>\n",
       "    </tr>\n",
       "    <tr>\n",
       "      <th id=\"T_3c400_level0_row2\" class=\"row_heading level0 row2\" >2</th>\n",
       "      <td id=\"T_3c400_row2_col0\" class=\"data row2 col0\" >genai-demo-index-v1</td>\n",
       "      <td id=\"T_3c400_row2_col1\" class=\"data row2 col1\" >16.102300</td>\n",
       "      <td id=\"T_3c400_row2_col2\" class=\"data row2 col2\" >일시납종신보험_1912-061~072_20230916~</td>\n",
       "      <td id=\"T_3c400_row2_col3\" class=\"data row2 col3\" >(2) 소비자가 반드시 알아두어야 할 상품의 주요 특성 보장성보험 ① 이 보험은 사망 보장을 주목적으로 하는 보장성보험이며, 저축이나 연금수령을 목적으로 가입하시기에 적합하지 않습니다. ② 만기 또는 중도해지 시 납입한 보험료보다 환급금이 적을 수 있습니다. ③ 사망보험금의 일부 또는 전부를 해지하여 연금으로 전환할 수 있으나, 처음부터 연금보험에 가입한 경우보다 연금액이 적습니다. [민원 사례] A씨는 저축을 주된 목적으로 종신보험을 가입하였으나 알고보니 사망 및 질병 보장을 주목적으로 하는 보장성보험임에 불만 ▶ 종신보험 등 보장성보험은 저축이나 노후에 연금 수령을 목적으로 가입하시기에는 적합하지 않으며 또한 중도에 해지하면 손해를 볼 수 있음 금리연동형보험 ① 이 보험의 적립액 산출에 적용되는 이율은 매월 변동됩니다. ② 동 이율은 납입한 주계약(또는 적립) 보험료에서 계약체결·유지관리에 필요한 경비 및 위험보장을 위한 보험료를 차감한 금액에 대해서만 적용됩니다. ③ 이 보험의 최저보증이율*은 3년이내에는 연복리 1.0%, 3년초과 5년이내에는 연복리 0.75%, 5년을 초과하는 경우에는 연복리 0.5%입니다. *자산운용이익률, 시장금리가 하락하는 경우 회사가 보증하는 적용이율의 최저한도 유니버셜보험 이 보험은 적립액 인출 등을 하는 경우 계약이 조기에 실효될 수 있습니다. * 해약환급금에서 월대체보험료(계약 유지관리 등에 소요되는 경비, 위험 보장을 위한 보험료)를 매 월 공제 [민원 사례] A씨는 일시납보험료를 하면 보장을 계속 받을 수 있다고 생각하고 ○○○○ 유니버설종신보험에 가입하였으나, 4년이 지난 후 보험회사에서 보험료 납입을 독촉하는 안내를 받음 ▶ 보험회사는 유니버설보험의 경우 기본보험료 납입 이후 중도인출 등으로 인해, 주계약 해약환급금에서 월대체보험료를 충당할 수 없게 된 경우 계약이 해지될 수 있고, 계약을 유지하기 위해서는 보험료 추가 납입이 필요함을 안내 예금자보호제도에 ① 이 보험은 예금자보호법에 따라 예금보험공사가 보호합니다. 관한 사항 ② 예금자보호 한도는 본 보험회사에 있는 귀하의 모든 예금보호 대상 금융상품의 해약환급금(또는 만기시 보험금이나 사고보험금)과 기타 지급금을 합하여 1인당 “최고 5천만원”이며, 5천만원을 초과하는 나머지 금액은 보호하지 않습니다. ③ 또한, 보험계약자 및 보험료 납부자가 법인이면 보호되지 않습니다. 19\u0000/\u0000235</td>\n",
       "    </tr>\n",
       "    <tr>\n",
       "      <th id=\"T_3c400_level0_row3\" class=\"row_heading level0 row3\" >3</th>\n",
       "      <td id=\"T_3c400_row3_col0\" class=\"data row3 col0\" >genai-demo-index-v1</td>\n",
       "      <td id=\"T_3c400_row3_col1\" class=\"data row3 col1\" >15.324800</td>\n",
       "      <td id=\"T_3c400_row3_col2\" class=\"data row3 col2\" >일시납종신보험_20240101~</td>\n",
       "      <td id=\"T_3c400_row3_col3\" class=\"data row3 col3\" >(2) 소비자가 반드시 알아두어야 할 상품의 주요 특성 보장성보험 ① 이 보험은 사망 보장을 주목적으로 하는 보장성보험이며, 저축이나 연금수령을 목적으로 가입하시기에 적합하지 않습니다. ② 만기 또는 중도해지 시 납입한 보험료보다 환급금이 적을 수 있습니다. ③ 사망보험금의 일부 또는 전부를 해지하여 연금으로 전환할 수 있으나, 처음부터 연금보험에 가입한 경우보다 연금액이 적습니다. [민원 사례] A씨는 저축을 주된 목적으로 종신보험을 가입하였으나 알고보니 사망 및 질병 보장을 주목적으로 하는 보장성보험임에 불만 ▶ 종신보험 등 보장성보험은 저축이나 노후에 연금 수령을 목적으로 가입하시기에는 적합하지 않으며 또한 중도에 해지하면 손해를 볼 수 있음 금리연동형보험 ① 이 보험의 적립액 산출에 적용되는 이율은 매월 변동됩니다. ② 동 이율은 납입한 주계약(또는 적립) 보험료에서 계약체결·유지관리에 필요한 경비 및 위험보장을 위한 보험료를 차감한 금액에 대해서만 적용됩니다. ③ 이 보험의 최저보증이율*은 3년이내에는 연복리 1.0%, 3년초과 5년이내에는 연복리 0.75%, 5년을 초과하는 경우에는 연복리 0.5%입니다. *자산운용이익률, 시장금리가 하락하는 경우 회사가 보증하는 적용이율의 최저한도 유니버셜보험 이 보험은 적립액 인출 등을 하는 경우 계약이 조기에 실효될 수 있습니다. * 해약환급금에서 월대체보험료(계약 유지관리 등에 소요되는 경비, 위험 보장을 위한 보험료)를 매 월 공제 [민원 사례] A씨는 일시납보험료를 하면 보장을 계속 받을 수 있다고 생각하고 ○○○○ 유니버설종신보험에 가입하였으나, 4년이 지난 후 보험회사에서 보험료 납입을 독촉하는 안내를 받음 ▶ 보험회사는 유니버설보험의 경우 기본보험료 납입 이후 중도인출 등으로 인해, 주계약 해약환급금에서 월대체보험료를 충당할 수 없게 된 경우 계약이 해지될 수 있고, 계약을 유지하기 위해서는 보험료 추가 납입이 필요함을 안내 예금자보호제도에 ① 이 보험은 예금자보호법에 따라 예금보험공사가 보호합니다. 관한 사항 ② 예금자보호 한도는 본 보험회사에 있는 귀하의 모든 예금보호 대상 금융상품의 해약환급금(또는 만기시 보험금이나 사고보험금)과 기타 지급금을 합하여 1인당 “최고 5천만원”이며, 5천만원을 초과하는 나머지 금액은 보호하지 않습니다. ③ 또한, 보험계약자 및 보험료 납부자가 법인이면 보호되지 않습니다. 19\u0000/\u0000249</td>\n",
       "    </tr>\n",
       "    <tr>\n",
       "      <th id=\"T_3c400_level0_row4\" class=\"row_heading level0 row4\" >4</th>\n",
       "      <td id=\"T_3c400_row4_col0\" class=\"data row4 col0\" >genai-demo-index-v1</td>\n",
       "      <td id=\"T_3c400_row4_col1\" class=\"data row4 col1\" >11.744400</td>\n",
       "      <td id=\"T_3c400_row4_col2\" class=\"data row4 col2\" >종신보험_20230916~</td>\n",
       "      <td id=\"T_3c400_row4_col3\" class=\"data row4 col3\" >Ⅱ. 약관 요약서 1. 보험계약의 개요 가입하신 보험상품의 보장내용과 특징을 확인해보세요. 한화생명 간편가입 웰다잉 종신보험 무배당 상품의 종목 : 보장성·종신보험 (1) 상품의 주요특징 예금자보호 금리확정형 예금자보호법에 따라 보험료 및 적립액 산출에 1인당 최고 5천만원까지 적용되는 이율이 보장합니다. 다만, 보험계약자 보험기간 동안 고정되어 및 보험료 납부자가 법인인 변동이 없습니다. 경우에는 보호하지 않습니다 보장성보험 한화생명 무배당 사망, 질병, 간편가입 웰다잉 계약자에게 상해 등의 위험을 종신보험 배당을 하지 않는 보장하는 보장성 무배당 상품입니다. 보험입니다. 해약환급금 미지급형 보험료 납입기간 중 계약이 해지될 경우 해약환급금을 지급하지 않는 대신 ‘표준형’보다 낮은 보험료로 가입할 수 있는 상품입니다. * 유병자보험 질병을 앓고 있거나 과거 병력이 있는 소비자가 간단한 심사절차를 통해 가입할 수 있는 상품입니다. * 간편심사보험 계약심사사 과정을 간소화한 상품으로, 일반심사보험보다 보험료가 다소 높을 수 있습니다. 12\u0000/\u0000165</td>\n",
       "    </tr>\n",
       "  </tbody>\n",
       "</table>\n"
      ],
      "text/plain": [
       "<pandas.io.formats.style.Styler at 0x7f5bc2ff8a90>"
      ]
     },
     "execution_count": 32,
     "metadata": {},
     "output_type": "execute_result"
    }
   ],
   "source": [
    "print(\"<<사용자 입력 쿼리 문장>>: \", query)\n",
    "result_to_dataframe(response_lexical_only)"
   ]
  },
  {
   "cell_type": "markdown",
   "id": "a91b6cb3-7588-4179-bdae-287f6aac5d0a",
   "metadata": {},
   "source": [
    "## 8. LangChain을 이용한 Question & Answer"
   ]
  },
  {
   "cell_type": "markdown",
   "id": "bd365f81-d6f4-47d6-9fd2-e3452ed900c9",
   "metadata": {},
   "source": [
    "- langchain의 similarity_search_with_score API를 활용하는 방법\n",
    "    - [API: similarity_search_with_score](https://api.python.langchain.com/en/latest/vectorstores/langchain.vectorstores.opensearch_vector_search.OpenSearchVectorSearch.html#langchain.vectorstores.opensearch_vector_search.OpenSearchVectorSearch.similarity_search)\n"
   ]
  },
  {
   "cell_type": "code",
   "execution_count": 33,
   "id": "fe18b33c-8ed6-4023-acfd-abcc612b9b84",
   "metadata": {
    "tags": []
   },
   "outputs": [],
   "source": [
    "from langchain.chains.question_answering import load_qa_chain"
   ]
  },
  {
   "cell_type": "code",
   "execution_count": 34,
   "id": "0b5b7dc7-6ad2-4921-b214-a34412a52eb1",
   "metadata": {
    "tags": []
   },
   "outputs": [],
   "source": [
    "results = vector_db.similarity_search_with_score(\n",
    "    query=query,\n",
    "    k=5,\n",
    "    search_type=\"approximate_search\",\n",
    "    boolean_filter={\n",
    "        \"bool\": {\n",
    "            \"filter\": []\n",
    "        }\n",
    "    }\n",
    ")"
   ]
  },
  {
   "cell_type": "code",
   "execution_count": 35,
   "id": "fafc7e5d-66ad-4c32-a3c6-236b70da9581",
   "metadata": {
    "tags": []
   },
   "outputs": [
    {
     "data": {
      "text/plain": [
       "['【 별표 1 】 연금 지급기준표 급부명칭 지 급 내 용 지급사유 금 액 이 특약의 보험료를 기준으로 피보험 자가 생존한 기간동안(10년보증, 20년 보증, 100세보증) 보험료 및 해약환급 연금개시일 이후 피보험자가 매년 종신연금 금 산출방법서(이하 ‘산출방법서’라 보험계약 해당일에 살아있을 경우 합니다)에서 정한 방법에 따라 연금 액을 분할 계산하여 매년 보험계약 연금 해당일에 지급 연금개시일 이후 피보험자가 「’일상생활장해보장개시일’ 이후에 ‘일상생활장해상태’로 최종 종신연금 연금액의 1배를 진단 확정 LTC연금 진단확정되거나 ‘중증(重症)치매보 일을 포함하여 매년 진단 확정일에 장개시일’ 이후에 ‘중증(重症)치매 지급(최고 10회한도) 상태’로 최종 진단확정」되고 매년 진단 확정일에 살아있을 경우 주) 1. ‘이 특약의 보험료’란 전환전계약의 사업방법서에서 정한 바에 따라 전환전계약의 지급금의 전부 또는 일부를 말합니다. 2. 이 특약의 공시이율은 사업방법서에서 정한 방법에 따라 회사가 매월 1일 결정하며, 공시이율의 최저보증이율은 계약일로부터 3년 이내에는 연복리 1.0%, 3년초과 5년이내에는 연복리 0.75%, 5 년을 초과하는 경우에는 연복리 0.5%를 적용합니다. 3. 연금액의 계산은 이 특약의 보험료를 기준으로 이 특약의 공시이율을 적용하여 산출방법서에서 정한 방법에 따라 계산되며, 공시이율이 변경되면 실제 지급되는 연금액도 변경됩니다. 4. LTC발생시 ‘일상생활장해상태’ 또는 ‘중증(重症)치매상태’ 중 최초로 발생한 지급사유에 한하여 10회를 최고 한도로 하여 LTC연금을 지급합니다. 5. 종신연금의 100세보증은 피보험자 나이를 기준으로 합니다. 6. 종신연금의 경우 보증지급기간(10년, 20년, 100세 보증) 동안 지급되지 않은 종신연금액을 산출 방법서에 따라 공시이율로 할인하여 일시금으로 선지급 받을 수 있으며, 피보험자가 사망하는 경우 또한 같습니다. 7. 연금은 매월, 매3개월, 매6개월로 분할하여 지급받을 수 있습니다. 8. 해당월의 보험계약 해당일이 없는 경우에는 해당월의 말일을 보험계약 해당일로 합니다. 9. 보장개시일: 이 특약의 보장개시일은 이 특약의 계약자가 신청한 연금전환일로 하며, 보장개시 일을 보험계약일로 봅니다. 10. 일상생활장해보장개시일: 연금전환일부터 그 날을 포함하여 90일이 지난날의 다음 날로 합니다. 다만, 보험기간 중 발생한 재해로 인하여 ‘일상생활장해상태’가 발생한 경우에는 연금전환일을 보장개시일로 합니다. 11. 중증(重症)치매보장개시일: 연금전환일부터 그 날을 포함하여 만 2년이 지난 날의 다음 날로 합니다. 다만, 질병으로 인한 ‘중증(重症)치매상태’가 없는 상태에서 보험기간 중 발생한 재해로 인한 뇌의 손상으로 인하여 ‘중증(重症)치매상태’가 발생한 경우에는 연금전환일을 보장개시일 로 합니다. 112\\x00/\\x00235',\n",
       " '【 별표 1 】 연금 지급기준표 급부명칭 지 급 내 용 지급사유 금 액 이 특약의 보험료를 기준으로 피보험 자가 생존한 기간동안(10년보증, 20년 보증, 100세보증) 보험료 및 해약환급 연금개시일 이후 피보험자가 매년 종신연금 금 산출방법서(이하 ‘산출방법서’라 보험계약 해당일에 살아있을 경우 합니다)에서 정한 방법에 따라 연금 액을 분할 계산하여 매년 보험계약 연금 해당일에 지급 연금개시일 이후 피보험자가 「’일상생활장해보장개시일’ 이후에 ‘일상생활장해상태’로 최종 종신연금 연금액의 1배를 진단 확정 LTC연금 진단확정되거나 ‘중증(重症)치매보 일을 포함하여 매년 진단 확정일에 장개시일’ 이후에 ‘중증(重症)치매 지급(최고 10회한도) 상태’로 최종 진단확정」되고 매년 진단 확정일에 살아있을 경우 주) 1. ‘이 특약의 보험료’란 전환전계약의 사업방법서에서 정한 바에 따라 전환전계약의 지급금의 전부 또는 일부를 말합니다. 2. 이 특약의 공시이율은 사업방법서에서 정한 방법에 따라 회사가 매월 1일 결정하며, 공시이율의 최저보증이율은 계약일로부터 3년 이내에는 연복리 1.0%, 3년초과 5년이내에는 연복리 0.75%, 5 년을 초과하는 경우에는 연복리 0.5%를 적용합니다. 3. 연금액의 계산은 이 특약의 보험료를 기준으로 이 특약의 공시이율을 적용하여 산출방법서에서 정한 방법에 따라 계산되며, 공시이율이 변경되면 실제 지급되는 연금액도 변경됩니다. 4. LTC발생시 ‘일상생활장해상태’ 또는 ‘중증(重症)치매상태’ 중 최초로 발생한 지급사유에 한하여 10회를 최고 한도로 하여 LTC연금을 지급합니다. 5. 종신연금의 100세보증은 피보험자 나이를 기준으로 합니다. 6. 종신연금의 경우 보증지급기간(10년, 20년, 100세 보증) 동안 지급되지 않은 종신연금액을 산출 방법서에 따라 공시이율로 할인하여 일시금으로 선지급 받을 수 있으며, 피보험자가 사망하는 경우 또한 같습니다. 7. 연금은 매월, 매3개월, 매6개월로 분할하여 지급받을 수 있습니다. 8. 해당월의 보험계약 해당일이 없는 경우에는 해당월의 말일을 보험계약 해당일로 합니다. 9. 보장개시일: 이 특약의 보장개시일은 이 특약의 계약자가 신청한 연금전환일로 하며, 보장개시 일을 보험계약일로 봅니다. 10. 일상생활장해보장개시일: 연금전환일부터 그 날을 포함하여 90일이 지난날의 다음 날로 합니다. 다만, 보험기간 중 발생한 재해로 인하여 ‘일상생활장해상태’가 발생한 경우에는 연금전환일을 보장개시일로 합니다. 11. 중증(重症)치매보장개시일: 연금전환일부터 그 날을 포함하여 만 2년이 지난 날의 다음 날로 합니다. 다만, 질병으로 인한 ‘중증(重症)치매상태’가 없는 상태에서 보험기간 중 발생한 재해로 인한 뇌의 손상으로 인하여 ‘중증(重症)치매상태’가 발생한 경우에는 연금전환일을 보장개시일 로 합니다. 112\\x00/\\x00249',\n",
       " '보장한도 이 보험에는 ‘보험금의 지급 횟수 등의 한도’가 있는 [보장한도]가 적용되는 담보가 포함되어 있습니다. 구분 담보명 보장한도 주계약 중증 치매진단자금 최초 1회에 한해 보장 치매(CDR1점이상) 경도이상 치매진단자금 최초 1회에 한해 보장 보장특약 치매(CDR2점이상) 보장특약 중등도이상 치매진단자금 최초 1회에 한해 보장 [종속/독립] 치매(CDR3점이상) 중증 치매진단자금 최초 1회에 한해 보장 보장특약 치매(CDR5점) 말기 치매진단자금 최초 1회에 한해 보장 보장특약 최초 1회에 한해 보장, 치매(CDR1점이상) 경도이상 치매간병자금 최초 3년 보증지급, 간병자금특약 생존시 최대 5년(60회) 치매(CDR2점이상) 최초 1회에 한해 보장, 간병자금특약 중등도이상 치매간병자금 최초 3년 보증지급, (종신지급) 생존시 종신지급 치매(CDR3점이상) 최초 1회에 한해 보장, 간병자금특약 중증 치매간병자금 최초 3년 보증지급, (종신지급) 생존시 종신지급 치매(CDR5점) 최초 1회에 한해 보장, 간병자금특약 말기 치매간병자금 최초 3년 보증지급, (종신지급) 생존시 종신지급 장기요양(1~인지지원등급) 장기요양상태 판정자금 최초 1회에 한해 보장 보장특약 장기요양(1~5등급) 경도이상 장기요양상태 판정자금 최초 1회에 한해 보장 보장특약 장기요양(1~2등급) 중증 장기요양상태 판정자금 최초 1회에 한해 보장 보장특약 22\\x00/\\x00448']"
      ]
     },
     "execution_count": 35,
     "metadata": {},
     "output_type": "execute_result"
    }
   ],
   "source": [
    "[res[0].page_content for res in results[:3]]"
   ]
  },
  {
   "cell_type": "markdown",
   "id": "5b4660f6-90b1-423c-9209-143afe28d6ec",
   "metadata": {},
   "source": [
    "### 사용자 정의 가능한 옵션\n",
    "이제 벡터 저장소가 준비되었으므로 질문을 시작할 수 있습니다.\n",
    "\n",
    "Vector Store를 둘러싸서 LLM 입력을 받는 LangChain에서 제공하는 래퍼를 사용할 수 있습니다.\n",
    "이 래퍼는 뒤에서 다음 단계를 수행합니다.\n",
    "- 질문을 입력합니다.\n",
    "- 질문 임베딩 생성\n",
    "- 관련 문서 가져오기\n",
    "- 프롬프트에 문서와 질문을 채워 넣습니다.\n",
    "- 프롬프트로 모델을 호출하고 사람이 읽을 수 있는 방식으로 답변을 생성합니다.\n",
    "\n",
    "위 시나리오에서는 질문에 대한 상황 인식 답변을 빠르고 쉽게 얻을 수 있는 방법을 탐색했습니다. 이제 문서를 가져오는 방법을 사용자 정의할 수 있는 [RetrievalQA](https://python.langchain.com/en/latest/modules/chains/index_examples/Vector_db_qa.html)의 도움으로 더 사용자 정의 가능한 옵션을 살펴보겠습니다. `chain_type` 매개변수를 사용하여 프롬프트에 추가해야 합니다. 또한 검색해야 하는 관련 문서 수를 제어하려면 아래 셀에서 'k' 매개변수를 변경하여 다른 출력을 확인하세요. 많은 시나리오에서 LLM이 답변을 생성하는 데 사용한 소스 문서가 무엇인지 알고 싶을 수 있습니다. LLM 프롬프트의 컨텍스트에 추가된 문서를 반환하는 `return_source_documents`를 사용하여 출력에서 ​​해당 문서를 가져올 수 있습니다. 'RetrievalQA'를 사용하면 모델에 특정한 사용자 정의 [프롬프트 템플릿](https://python.langchain.com/en/latest/modules/prompts/prompt_templates/getting_started.html)을 제공할 수도 있습니다.\n",
    "\n",
    "참고: 이 예에서는 Amazon Bedrock에서 LLM으로 Anthropic Claude를 사용하고 있습니다. 이 특정 모델은 입력이 'Human:' 아래에 제공되고 모델이 'Assistant:' 다음에 출력을 생성하도록 요청되는 경우 가장 잘 수행됩니다. 아래 셀에는 LLM이 기본 상태를 유지하고 컨텍스트 외부에서 응답하지 않도록 프롬프트를 제어하는 ​​방법의 예가 나와 있습니다.\n",
    "\n",
    "#### [[REF] Using langchain for Question Answering on Own Data](https://medium.com/@onkarmishra/using-langchain-for-question-answering-on-own-data-3af0a82789ed)"
   ]
  },
  {
   "cell_type": "code",
   "execution_count": 36,
   "id": "0af45b12-c497-4496-8b5d-91e28d8a0491",
   "metadata": {
    "tags": []
   },
   "outputs": [],
   "source": [
    "from langchain.schema import BaseRetriever\n",
    "from typing import Any, Dict, List, Optional, List, Tuple\n",
    "from langchain.callbacks.manager import CallbackManagerForRetrieverRun\n",
    "\n",
    "# lexical(keyword) search based (using Amazon OpenSearch)\n",
    "class OpenSearchLexicalSearchRetriever(BaseRetriever):\n",
    "    os_client: Any\n",
    "    index_name: str\n",
    "    k = 3\n",
    "    filter = []\n",
    "\n",
    "    def normalize_search_results(self, search_results):\n",
    "        hits = (search_results[\"hits\"][\"hits\"])\n",
    "        max_score = float(search_results[\"hits\"][\"max_score\"])\n",
    "        for hit in hits:\n",
    "            hit[\"_score\"] = float(hit[\"_score\"]) / max_score\n",
    "        search_results[\"hits\"][\"max_score\"] = hits[0][\"_score\"]\n",
    "        search_results[\"hits\"][\"hits\"] = hits\n",
    "        return search_results\n",
    "\n",
    "    def update_search_params(self, **kwargs):\n",
    "        self.k = kwargs.get(\"k\", 3)\n",
    "        self.filter = kwargs.get(\"filter\", [])\n",
    "        self.index_name = kwargs.get(\"index_name\", self.index_name)\n",
    "\n",
    "    def _reset_search_params(self, ):\n",
    "        self.k = 3\n",
    "        self.filter = []\n",
    "        \n",
    "    def query_lexical(self, query, filter=[], k=5):\n",
    "        QUERY_TEMPLATE = {\n",
    "            \"size\": k,\n",
    "            \"query\": {\n",
    "                \"bool\": {\n",
    "                    \"must\": [\n",
    "                        {\n",
    "                            \"match\": {\n",
    "                                \"text\": {\n",
    "                                    \"query\": query,\n",
    "                                    \"operator\":  \"or\"\n",
    "                                }\n",
    "                            }\n",
    "                        }\n",
    "                    ],\n",
    "                    \"filter\": filter\n",
    "                }\n",
    "            }\n",
    "        }\n",
    "        \n",
    "        if len(filter) > 0:\n",
    "            QUERY_TEMPLATE[\"query\"][\"bool\"][\"filter\"].extend(filter)\n",
    "            \n",
    "        return QUERY_TEMPLATE\n",
    "    \n",
    "\n",
    "    def _get_relevant_documents(\n",
    "        self, query: str, *, run_manager: CallbackManagerForRetrieverRun) -> List[Document]:\n",
    "        \n",
    "        query = self.query_lexical(\n",
    "            query=query,\n",
    "            filter=self.filter,\n",
    "            k=self.k\n",
    "        )\n",
    "\n",
    "        # print (\"lexical search query: \")\n",
    "        # print(query)\n",
    "        \n",
    "        search_results = self.os_client.search(\n",
    "            body=query,\n",
    "            index=self.index_name\n",
    "        )\n",
    "\n",
    "        results = []\n",
    "        if search_results[\"hits\"][\"hits\"]:\n",
    "            search_results = self.normalize_search_results(search_results)\n",
    "            for res in search_results[\"hits\"][\"hits\"]:\n",
    "\n",
    "                metadata = res[\"_source\"][\"metadata\"]\n",
    "                metadata[\"id\"] = res[\"_id\"]\n",
    "\n",
    "                doc = Document(\n",
    "                    page_content=res[\"_source\"][\"text\"],\n",
    "                    metadata=metadata\n",
    "                )\n",
    "                results.append((doc))\n",
    "\n",
    "        self._reset_search_params()\n",
    "\n",
    "        return results[:self.k]\n"
   ]
  },
  {
   "cell_type": "code",
   "execution_count": 37,
   "id": "6a1a82af-e218-4504-8073-91e40a46c5e2",
   "metadata": {
    "tags": []
   },
   "outputs": [],
   "source": [
    "from langchain.chains import RetrievalQA\n",
    "from langchain.prompts import PromptTemplate\n",
    "# from utils.rag import run_RetrievalQA, show_context_used"
   ]
  },
  {
   "cell_type": "code",
   "execution_count": 38,
   "id": "c0cc9871-9693-4fef-9f77-d8a1aa929475",
   "metadata": {
    "tags": []
   },
   "outputs": [],
   "source": [
    "prompt_template = \"\"\"\n",
    "\\n\\nHuman: Use the following pieces of context to provide a concise answer to the question at the end.\n",
    "If you don't know the answer, just say that you don't know, don't try to make up an answer.\n",
    "\n",
    "{context}\n",
    "\n",
    "Question: {question}\n",
    "\n",
    "\\n\\nAssistant:\"\"\"\n",
    "\n",
    "\n",
    "PROMPT = PromptTemplate(\n",
    "    template=prompt_template,\n",
    "    input_variables=[\"context\", \"question\"]\n",
    ")"
   ]
  },
  {
   "cell_type": "code",
   "execution_count": 39,
   "id": "0d0bfe29-176d-4356-982e-2babfa7dd756",
   "metadata": {
    "tags": []
   },
   "outputs": [],
   "source": [
    "chain = load_qa_chain(\n",
    "    llm=llm_text,\n",
    "    chain_type=\"stuff\",\n",
    "    prompt=PROMPT,\n",
    "    verbose=True\n",
    ")"
   ]
  },
  {
   "cell_type": "code",
   "execution_count": 40,
   "id": "e39efd83-a928-4f35-9219-65aa89548fcf",
   "metadata": {
    "tags": []
   },
   "outputs": [],
   "source": [
    "boolean_filter = []\n",
    "boolean_filter = [\n",
    "    {\"term\": {\"metadata.source\": \"한화생명 The스마트한 일시납종신보험_20240101~.pdf\"}},\n",
    "    {\"term\": {\"metadata.type\": \"일시납종신보험_20240101~\"}},\n",
    "]"
   ]
  },
  {
   "cell_type": "code",
   "execution_count": 41,
   "id": "32ae3ed7-32bd-4247-929d-0179bc119034",
   "metadata": {
    "tags": []
   },
   "outputs": [],
   "source": [
    "opensearch_lexical_retriever = OpenSearchLexicalSearchRetriever(\n",
    "    os_client=os_client,\n",
    "    index_name=index_name,\n",
    "    k=3,\n",
    "    filter=boolean_filter\n",
    ")"
   ]
  },
  {
   "cell_type": "code",
   "execution_count": 42,
   "id": "a12b88ab-90ba-4096-a20d-c89489d5a277",
   "metadata": {
    "tags": []
   },
   "outputs": [
    {
     "name": "stderr",
     "output_type": "stream",
     "text": [
      "/home/ec2-user/anaconda3/envs/python3/lib/python3.10/site-packages/langchain_core/_api/deprecation.py:119: LangChainDeprecationWarning: The method `BaseRetriever.get_relevant_documents` was deprecated in langchain-core 0.1.46 and will be removed in 0.3.0. Use invoke instead.\n",
      "  warn_deprecated(\n"
     ]
    },
    {
     "name": "stdout",
     "output_type": "stream",
     "text": [
      "\n",
      "\n",
      "\u001b[1m> Entering new StuffDocumentsChain chain...\u001b[0m\n",
      "\n",
      "\n",
      "\u001b[1m> Entering new LLMChain chain...\u001b[0m\n",
      "Prompt after formatting:\n",
      "\u001b[32;1m\u001b[1;3m\n",
      "\n",
      "\n",
      "Human: Use the following pieces of context to provide a concise answer to the question at the end.\n",
      "If you don't know the answer, just say that you don't know, don't try to make up an answer.\n",
      "\n",
      "Ⅱ. 약관 요약서 1. 보험계약의 개요 가입하신 보험상품의 보장내용과 특징을 확인해보세요. 한화생명 The스마트한 일시납종신보험 무배당 [보증비용부과형] 상품의 종목 : 보장성·종신보험 (1) 상품의 주요특징 예금자보호 금리연동형 예금자보호법에 따라 보험회사의 자산운용이익률, 1인당 최고 5천만원까지 시장금리 등에 따라 적립액 보장합니다. 다만, 보험계약자 적용이율이 변동되는 상품입 및 보험료 납부자가 법인인 니다. 경우에는 보호하지 않습니다. 보장성보험 한화생명 무배당 The스마트한 사망, 질병, 계약자에게 일시납종신보험 상해 등의 위험을 배당을 하지 않는 무배당 보장하는 보장성 상품입니다. 보험입니다. [보증비용부과형] 최저보증이율 해약환급금 보증 (해약환급금 보증형 가입시) 금리가 하락하더라도 적립시 적용되는 공시이율을 최저해약환급금은 회사가 정한 시산에 따라 향후 공시이율에 관계없이 일정 비율로 최저보증합니다. 계약 해지 시 지급하는 최저한도의 해약환급 금으로서, 예정적립액과 동일합니다. 15\u0000/\u0000249\n",
      "\n",
      "(2) 소비자가 반드시 알아두어야 할 상품의 주요 특성 보장성보험 ① 이 보험은 사망 보장을 주목적으로 하는 보장성보험이며, 저축이나 연금수령을 목적으로 가입하시기에 적합하지 않습니다. ② 만기 또는 중도해지 시 납입한 보험료보다 환급금이 적을 수 있습니다. ③ 사망보험금의 일부 또는 전부를 해지하여 연금으로 전환할 수 있으나, 처음부터 연금보험에 가입한 경우보다 연금액이 적습니다. [민원 사례] A씨는 저축을 주된 목적으로 종신보험을 가입하였으나 알고보니 사망 및 질병 보장을 주목적으로 하는 보장성보험임에 불만 ▶ 종신보험 등 보장성보험은 저축이나 노후에 연금 수령을 목적으로 가입하시기에는 적합하지 않으며 또한 중도에 해지하면 손해를 볼 수 있음 금리연동형보험 ① 이 보험의 적립액 산출에 적용되는 이율은 매월 변동됩니다. ② 동 이율은 납입한 주계약(또는 적립) 보험료에서 계약체결·유지관리에 필요한 경비 및 위험보장을 위한 보험료를 차감한 금액에 대해서만 적용됩니다. ③ 이 보험의 최저보증이율*은 3년이내에는 연복리 1.0%, 3년초과 5년이내에는 연복리 0.75%, 5년을 초과하는 경우에는 연복리 0.5%입니다. *자산운용이익률, 시장금리가 하락하는 경우 회사가 보증하는 적용이율의 최저한도 유니버셜보험 이 보험은 적립액 인출 등을 하는 경우 계약이 조기에 실효될 수 있습니다. * 해약환급금에서 월대체보험료(계약 유지관리 등에 소요되는 경비, 위험 보장을 위한 보험료)를 매 월 공제 [민원 사례] A씨는 일시납보험료를 하면 보장을 계속 받을 수 있다고 생각하고 ○○○○ 유니버설종신보험에 가입하였으나, 4년이 지난 후 보험회사에서 보험료 납입을 독촉하는 안내를 받음 ▶ 보험회사는 유니버설보험의 경우 기본보험료 납입 이후 중도인출 등으로 인해, 주계약 해약환급금에서 월대체보험료를 충당할 수 없게 된 경우 계약이 해지될 수 있고, 계약을 유지하기 위해서는 보험료 추가 납입이 필요함을 안내 예금자보호제도에 ① 이 보험은 예금자보호법에 따라 예금보험공사가 보호합니다. 관한 사항 ② 예금자보호 한도는 본 보험회사에 있는 귀하의 모든 예금보호 대상 금융상품의 해약환급금(또는 만기시 보험금이나 사고보험금)과 기타 지급금을 합하여 1인당 “최고 5천만원”이며, 5천만원을 초과하는 나머지 금액은 보호하지 않습니다. ③ 또한, 보험계약자 및 보험료 납부자가 법인이면 보호되지 않습니다. 19\u0000/\u0000249\n",
      "\n",
      "(2) 해약환급금 미보증형 계약의 계약에서 쓰이는 제2조(용어의 정의) 체결 용어를 알고 싶어요 제14조(계약 전 알릴 의무) 계약 전 알릴 의무는 무엇인가요 제15조(계약 전 알릴 의무 위반의 효과) 제25조(제1회 보험료 및 회사의 보장이 언제 시작되나요 보장개시) 청약을 철회하고 싶어요 제18조(청약의 철회) 계약을 취소 할 수 있나요 제19조(약관교부 및 설명의무 등) 계약이 무효가 될 수 있나요 제20조(계약의 무효) 보험료의 보험료 납입면제 제5조(보험금 지급에 관한 세부규정) 납입 사유를 알고 싶어요 보험료 납입최고(독촉)이 제28조(보험료의 납입이 연체되는 경우 무엇인가요 납입최고(독촉)와 계약의 해지) 제29조(보험료의 납입연체로 인하여 해지된 계약을 살리고 싶어요 해지된 계약의 부활(효력회복)) 보험금의 제4조(보험금의 지급사유), 보험금을 받을 수 있는지 궁금해요 지급 제6조(보험금을 지급하지 않는 사유) 제8조(보험금의 청구), 보험금은 언제 지급되나요 제9조(보험금의 지급절차) 11\u0000/\u0000249\n",
      "\n",
      "Question: 금리연동형 상품은 무엇인가요?\n",
      "\n",
      "\n",
      "\n",
      "Assistant:\u001b[0m\n",
      "금리연동형 상품이란 보험료 적립금에 대한 적용이율이 매월 변동되는 상품을 말합니다. 주요 특징은 다음과 같습니다:\n",
      "\n",
      "1. 적립액 산출에 적용되는 이율이 매월 변동됩니다.\n",
      "\n",
      "2. 납입보험료에서 계약체결·유지관리 경비 및 위험보장을 위한 보험료를 차감한 금액에 대해서만 변동이율이 적용됩니다. \n",
      "\n",
      "3. 최저보증이율이 있어 자산운용이익률이나 시장금리가 하락해도 일정 수준 이상의 적용이율이 보증됩니다. (3년 이내 1.0%, 3-5년 0.75%, 5년 초과 0.5%)\n",
      "\n",
      "4. 금리가 상승하면 적립액이 많아지지만, 금리가 하락하면 적립액이 줄어들 수 있습니다.\n",
      "\n",
      "요약하면 금리연동형 상품은 시중금리 변동에 따라 적립이율이 변동되는 특징이 있습니다.\n",
      "\u001b[1m> Finished chain.\u001b[0m\n",
      "\n",
      "\u001b[1m> Finished chain.\u001b[0m\n"
     ]
    }
   ],
   "source": [
    "answer = chain.invoke(\n",
    "    {\n",
    "        \"input_documents\": opensearch_lexical_retriever.get_relevant_documents(query), \n",
    "        \"question\": query\n",
    "    }, \n",
    "    # return_only_outputs=True\n",
    ")"
   ]
  },
  {
   "cell_type": "code",
   "execution_count": 43,
   "id": "62d97334-60c6-4a34-b875-a3c25894fabe",
   "metadata": {
    "tags": []
   },
   "outputs": [],
   "source": [
    "opensearch_semantic_retriever = vector_db.as_retriever(\n",
    "    search_type=\"similarity\",\n",
    "    search_kwargs={\n",
    "        \"k\": 5,\n",
    "        \"boolean_filter\": boolean_filter\n",
    "    }\n",
    ")"
   ]
  },
  {
   "cell_type": "code",
   "execution_count": 44,
   "id": "35477b74-5882-4ba9-9d00-76dc38e61ae7",
   "metadata": {
    "tags": []
   },
   "outputs": [
    {
     "name": "stdout",
     "output_type": "stream",
     "text": [
      "\n",
      "\n",
      "\u001b[1m> Entering new StuffDocumentsChain chain...\u001b[0m\n",
      "\n",
      "\n",
      "\u001b[1m> Entering new LLMChain chain...\u001b[0m\n",
      "Prompt after formatting:\n",
      "\u001b[32;1m\u001b[1;3m\n",
      "\n",
      "\n",
      "Human: Use the following pieces of context to provide a concise answer to the question at the end.\n",
      "If you don't know the answer, just say that you don't know, don't try to make up an answer.\n",
      "\n",
      "【 별표 1 】 연금 지급기준표 급부명칭 지 급 내 용 지급사유 금 액 이 특약의 보험료를 기준으로 피보험 자가 생존한 기간동안(10년보증, 20년 보증, 100세보증) 보험료 및 해약환급 연금개시일 이후 피보험자가 매년 종신연금 금 산출방법서(이하 ‘산출방법서’라 보험계약 해당일에 살아있을 경우 합니다)에서 정한 방법에 따라 연금 액을 분할 계산하여 매년 보험계약 연금 해당일에 지급 연금개시일 이후 피보험자가 「’일상생활장해보장개시일’ 이후에 ‘일상생활장해상태’로 최종 종신연금 연금액의 1배를 진단 확정 LTC연금 진단확정되거나 ‘중증(重症)치매보 일을 포함하여 매년 진단 확정일에 장개시일’ 이후에 ‘중증(重症)치매 지급(최고 10회한도) 상태’로 최종 진단확정」되고 매년 진단 확정일에 살아있을 경우 주) 1. ‘이 특약의 보험료’란 전환전계약의 사업방법서에서 정한 바에 따라 전환전계약의 지급금의 전부 또는 일부를 말합니다. 2. 이 특약의 공시이율은 사업방법서에서 정한 방법에 따라 회사가 매월 1일 결정하며, 공시이율의 최저보증이율은 계약일로부터 3년 이내에는 연복리 1.0%, 3년초과 5년이내에는 연복리 0.75%, 5 년을 초과하는 경우에는 연복리 0.5%를 적용합니다. 3. 연금액의 계산은 이 특약의 보험료를 기준으로 이 특약의 공시이율을 적용하여 산출방법서에서 정한 방법에 따라 계산되며, 공시이율이 변경되면 실제 지급되는 연금액도 변경됩니다. 4. LTC발생시 ‘일상생활장해상태’ 또는 ‘중증(重症)치매상태’ 중 최초로 발생한 지급사유에 한하여 10회를 최고 한도로 하여 LTC연금을 지급합니다. 5. 종신연금의 100세보증은 피보험자 나이를 기준으로 합니다. 6. 종신연금의 경우 보증지급기간(10년, 20년, 100세 보증) 동안 지급되지 않은 종신연금액을 산출 방법서에 따라 공시이율로 할인하여 일시금으로 선지급 받을 수 있으며, 피보험자가 사망하는 경우 또한 같습니다. 7. 연금은 매월, 매3개월, 매6개월로 분할하여 지급받을 수 있습니다. 8. 해당월의 보험계약 해당일이 없는 경우에는 해당월의 말일을 보험계약 해당일로 합니다. 9. 보장개시일: 이 특약의 보장개시일은 이 특약의 계약자가 신청한 연금전환일로 하며, 보장개시 일을 보험계약일로 봅니다. 10. 일상생활장해보장개시일: 연금전환일부터 그 날을 포함하여 90일이 지난날의 다음 날로 합니다. 다만, 보험기간 중 발생한 재해로 인하여 ‘일상생활장해상태’가 발생한 경우에는 연금전환일을 보장개시일로 합니다. 11. 중증(重症)치매보장개시일: 연금전환일부터 그 날을 포함하여 만 2년이 지난 날의 다음 날로 합니다. 다만, 질병으로 인한 ‘중증(重症)치매상태’가 없는 상태에서 보험기간 중 발생한 재해로 인한 뇌의 손상으로 인하여 ‘중증(重症)치매상태’가 발생한 경우에는 연금전환일을 보장개시일 로 합니다. 112\u0000/\u0000249\n",
      "\n",
      "(2) 소비자가 반드시 알아두어야 할 상품의 주요 특성 보장성보험 ① 이 보험은 사망 보장을 주목적으로 하는 보장성보험이며, 저축이나 연금수령을 목적으로 가입하시기에 적합하지 않습니다. ② 만기 또는 중도해지 시 납입한 보험료보다 환급금이 적을 수 있습니다. ③ 사망보험금의 일부 또는 전부를 해지하여 연금으로 전환할 수 있으나, 처음부터 연금보험에 가입한 경우보다 연금액이 적습니다. [민원 사례] A씨는 저축을 주된 목적으로 종신보험을 가입하였으나 알고보니 사망 및 질병 보장을 주목적으로 하는 보장성보험임에 불만 ▶ 종신보험 등 보장성보험은 저축이나 노후에 연금 수령을 목적으로 가입하시기에는 적합하지 않으며 또한 중도에 해지하면 손해를 볼 수 있음 금리연동형보험 ① 이 보험의 적립액 산출에 적용되는 이율은 매월 변동됩니다. ② 동 이율은 납입한 주계약(또는 적립) 보험료에서 계약체결·유지관리에 필요한 경비 및 위험보장을 위한 보험료를 차감한 금액에 대해서만 적용됩니다. ③ 이 보험의 최저보증이율*은 3년이내에는 연복리 1.0%, 3년초과 5년이내에는 연복리 0.75%, 5년을 초과하는 경우에는 연복리 0.5%입니다. *자산운용이익률, 시장금리가 하락하는 경우 회사가 보증하는 적용이율의 최저한도 유니버셜보험 이 보험은 적립액 인출 등을 하는 경우 계약이 조기에 실효될 수 있습니다. * 해약환급금에서 월대체보험료(계약 유지관리 등에 소요되는 경비, 위험 보장을 위한 보험료)를 매 월 공제 [민원 사례] A씨는 일시납보험료를 하면 보장을 계속 받을 수 있다고 생각하고 ○○○○ 유니버설종신보험에 가입하였으나, 4년이 지난 후 보험회사에서 보험료 납입을 독촉하는 안내를 받음 ▶ 보험회사는 유니버설보험의 경우 기본보험료 납입 이후 중도인출 등으로 인해, 주계약 해약환급금에서 월대체보험료를 충당할 수 없게 된 경우 계약이 해지될 수 있고, 계약을 유지하기 위해서는 보험료 추가 납입이 필요함을 안내 예금자보호제도에 ① 이 보험은 예금자보호법에 따라 예금보험공사가 보호합니다. 관한 사항 ② 예금자보호 한도는 본 보험회사에 있는 귀하의 모든 예금보호 대상 금융상품의 해약환급금(또는 만기시 보험금이나 사고보험금)과 기타 지급금을 합하여 1인당 “최고 5천만원”이며, 5천만원을 초과하는 나머지 금액은 보호하지 않습니다. ③ 또한, 보험계약자 및 보험료 납부자가 법인이면 보호되지 않습니다. 19\u0000/\u0000249\n",
      "\n",
      "개시된 이후 연금선지급이 완료되거나 제58조(특칙내용의 변경) 제1항에 따라 연금선지급이 종료 된 계약은 적립형 계약 전환을 신청할 수 있습니다) 라. 제2조(용어의 정의) 제7호 ‘다’목 또는 ‘라’목에서 정한 보장형 계약 또는 스마트전환형 계약의 전 환신청 보험가입금액에 해당하는 해약환급금(보험계약대출의 원금과 이자를 차감한 금액기준, 주 계약에 한하며 산출방법서에서 정한 방법에 따라 계산한 금액)이 1,000만원 이상일 경우 ② 제1항에 따라 보장형 계약의 전부 또는 일부를 적립형 계약으로 전환 신청하는 경우 계약자는 적립형 계약의 피보험자를 다음과 같이 선택하여야 합니다. 가. 제2조(용어의 정의) 제7호 ‘나’목에서 정한 전부전환의 경우 제2조(용어의 정의) 제1호 ‘마’목 ‘(2)’ ‘㉮’ 내지 ‘㉰’에서 정한 1인 나. 제2조(용어의 정의) 제7호 ‘가’목에서 정한 일부전환의 경우 보장형 계약의 피보험자 ③ 제1항에 따라 스마트전환형 계약의 전부 또는 일부를 적립형 계약으로 전환 신청하는 경우 계약자는 적립형 계약의 피보험자를 다음과 같이 선택하여야 합니다. 가. 제2조(용어의 정의) 제7호 ‘나’목에서 정한 전부전환의 경우 제2조(용어의 정의) 제1호 ‘마’목 ‘(2)’ ‘㉱’ 내지 ‘㉳’에서 정한 1인 나. 제2조(용어의 정의) 제7호 ‘가’목에서 정한 일부전환의 경우 스마트전환형 계약의 피보험자 ④ 제2항 ‘가’호에 따라 선택한 적립형 계약의 피보험자가 보장형 계약의 피보험자와 다를 경우에는 보장 형 계약의 피보험자는 주계약 피보험자의 자격을 상실합니다. 다만, 부가된 특약의 피보험자는 변경되지 않습니다. ⑤ 제3항 ‘가’호에 따라 선택한 적립형 계약의 피보험자가 스마트전환형 계약의 피보험자와 다를 경우에 는 스마트전환형 계약의 피보험자는 주계약 피보험자의 자격을 상실합니다. 다만, 부가된 특약의 피보험 자는 변경되지 않습니다. ⑥ 보장형 계약에 피보험자가 보장형 계약 피보험자(가입자녀)인 특약이 부가되어 있는 경우 제2항 ‘가’호 에 따라 선택하는 보장형 계약 피보험자(가입자녀)는 보장형 계약에 부가된 특약의 피보험자(가입자녀) 중 1인이어야 합니다. ⑦ 스마트전환형 계약에 피보험자가 스마트전환형 계약 피보험자(가입자녀)인 특약이 부가되어 있는 경우 제3항 ‘가’호에 따라 선택하는 스마트전환형 계약 피보험자(가입자녀)는 스마트전환형 계약에 부가된 특약 의 피보험자(가입자녀) 중 1인이어야 합니다. ⑧ 제2항 ‘가’호에 따라 선택하는 피보험자가 보장형 계약 피보험자(배우자) 또는 보장형 계약 피보험자 (가입자녀)일 경우 제2항 ‘가’호에서 정한 보장형 계약 피보험자(배우자) 또는 보장형 계약 피보험자(가입 자녀)의 서면에 의한 동의가 있어야 합니다. ⑨ 제3항 ‘가’호에 따라 선택하는 피보험자가 스마트전환형 계약 피보험자(배우자) 또는 스마트전환형 계 약 피보험자(가입자녀)일 경우 제2항 ‘가’호에서 정한 스마트전환형 계약 피보험자(배우자) 또는 스마트전 환형 계약 피보험자(가입자녀)의 서면에 의한 동의가 있어야 합니다. ⑩ 제1항에 따라 보장형 계약 또는 스마트전환형 계약을 적립형 계약으로 전환 신청하는 경우 계약자는 회사가 정한 양식에 따라 신청서를 작성하여야 하며, 사업방법서에서 정하는 방법에 따라 적립형 계약의 기본보험료를 선택하여야 합니다. ⑪ 계약자는 제32조(적립형 계약 전환의 승낙 및 효력발생) 제2항에 따른 전환일 전일까지 적립형 계약 전환 신청을 취소할 수 있으며, 전환일 이후에는 취소할 수 없습니다. 제 32 조 적립형 계약 전환의 승낙 및 효력발생 ① 제31조(적립형 계약 전환 신청 및 취소)에 따른 계약자가 전환을 신청한 경우 회사는 전환 신청일(다 만, 건강진단을 받는 경우 진단일)부터 30일 이내에 적립형 계약으로의 전환을 승낙 또는 거절하여야 합 니다. 그러나 전환 신청일(다만, 건강진단을 받는 경우 진단일)부터 30일 이내에 승낙 또는 거절의 통지가 없으면 승낙된 것으로 봅니다. ② 제1항에 따라 적립형 계약으로의 전환이 승낙된 경우 전환 신청일(다만, 건강진단을 받는 경우 진단일) 부터 30일 이후 최초 도래하는 월계약해당일을 전환일로 보며, 전환일부터 이 약관이 정한 바에 따라 적 43\u0000/\u0000249\n",
      "\n",
      "- ‘이미 납입한 보험료’에서 ‘월급여금의 일시지급금’을 차감한 금액 - 적립액의 101%에서 ‘월급여금의 일시지급금’을 차감한 금액 (2) 은퇴후 보험기간 기준사망보험금과 ‘이미 납입한 보험료’ 그리고 적립액의 101%중 가장 큰 금액 2. 기준사망보험금은 다음과 같습니다. 은퇴전 보험기간의 경우 보험가입금액의 20%로 하며, 은퇴후 보험기간에는 보험가입금액으로 합 니다. 다만, 추가납입보험료 납입시에는 추가납입전 기준사망보험금에 추가납입보험료를 더한 금 액으로 하며, 적립액의 인출시에는 인출전 기준사망보험금에서 적립액의 인출금액을 차감한 금 액으로 합니다. 한편, 적립액의 인출로 인한 기준사망보험금의 감소는 적립액의 인출 신청시점을 기준으로 계산합니다. 3. 월급여금에서 ‘보험가입금액’보다 월급여금 지급사유 발생시점 적립액의 101%가 더 큰 경우 그 금액을 보험가입금액으로 하여 월급여금을 계산합니다. 4. 월급여금에서 해당월의 지급사유 발생해당일이 없는 경우에는 해당월의 말일을 지급사유 발생 해당일로 합니다. [사망연령별 기준사망보험금 및 월급여금 예시] 30세 가입, 보험가입금액 1억원(보험가입금액이 월급여급 지급사유 발생시점 적립액의 101% 이상 인 경우) 매월 200만원 월 급여금 X 매월 200만원 매월 200만원 매월 200만원 월급여급 240회 X X X 180회 60회 60회 없음 기 준사망 1억원 보험금 2천만원 2천만원 2천만원 2천만원 40세 계약해 50세 계약해 60세 계약해 64세 계약해 65세 계약해당 당일 사망 당일 사망 당일 사망 당일 사망 일 이후 사망 5. 향후 공시이율에 관계없이 제28조(보험료의 납입이 연체되는 경우 납입최고(독촉)와 계약의 해 지)에 의한 보험료의 납입최고(독촉)기간의 종료일까지 보장하는 최저한도의 사망보험금은 다음 과 같습니다. - 은퇴전 보험기간 지급사유 발생시점의 월급여금(최대 240회 한도. 단, 60회 보증지급) 및 기본보험금액 - 은퇴후 보험기간 지급사유 발생시점의 기본보험금액 6. 회사는 보험기간 중 피보험자에게 상기 사망보험금 지급사유가 발생한 경우 사망보험금과 해약 환급금 중에서 많은 금액을 사망보험금으로 지급합니다. 55\u0000/\u0000249\n",
      "\n",
      "㉯ ‘이미 납입한 보험료’에서 ‘월급여금의 일시지급금’을 차감한 금액 ㉰ 적립액의 101%에서 ‘월급여금의 일시지급금’을 차감한 금액 (나) 은퇴후 보험기간 기준사망보험금과 ‘이미 납입한 보험료’ 그리고 적립액의 101%중 가장 큰 금액 (다) ‘(가)’의 ‘월급여금의 일시지급금’은 월급여금 지급해당일에 지급될 월급여금을 보험금 지급 사유 발생일 시점으로 이 계약의 산출이율로 할인하여 계산한 금액을 말합니다. 라. 기준사망보험금 (1) 1종(기본형) 보험가입금액으로 합니다. 다만, 추가납입보험료 납입시에는 추가납입전 기준사망보험금에 추가 납입보험료를 더한 금액으로 하며, 적립액의 인출시에는 인출전 기준사망보험금에서 적립액의 인출금액을 차감한 금액으로 합니다. 한편, 적립액의 인출로 인한 기준사망보험금의 감소는 적 립액의 인출 신청시점을 기준으로 계산합니다. (2) 2종(소득보장형) 은퇴전 보험기간의 경우 보험가입금액의 50%로 하며, 은퇴후 보험기간에는 보험가입금액으로 합니다. 다만, 추가납입보험료 납입시에는 추가납입전 기준사망보험금에 추가납입보험료를 더한 금액으로 하며, 적립액의 인출시에는 인출전 기준사망보험금에서 적립액의 인출금액을 차감한 금액으로 합니다. 한편, 적립액의 인출로 인한 기준사망보험금의 감소는 적립액의 인출 신청시 점을 기준으로 계산합니다. (3) 3종(소득보장강화형) 은퇴전 보험기간의 경우 보험가입금액의 20%로 하며, 은퇴후 보험기간에는 보험가입금액으로 합니다. 다만, 추가납입보험료 납입시에는 추가납입전 기준사망보험금에 추가납입보험료를 더한 금액으로 하며, 적립액의 인출시에는 인출전 기준사망보험금에서 적립액의 인출금액을 차감한 금액으로 합니다. 한편, 적립액의 인출로 인한 기준사망보험금의 감소는 적립액의 인출 신청시 점을 기준으로 계산합니다. 마. 최저사망보험금 (1) 1종(기본형) 공시이율에 관계없이 최저사망보험금 보증기간 동안 보장하는 최저한도의 사망보험금으로서, 사망보험금 지급사유 발생시점의 기본보험금액을 말합니다. (2) 2종(소득보장형) 향후 공시이율에 관계없이 최저사망보험금 보증기간 동안 보장하는 최저한도의 사망보험금으로 서, 다음과 같습니다. - 은퇴전 보험기간 지급사유 발생시점의 월급여금(60회 보증지급) 및 기본보험금액 - 은퇴후 보험기간 지급사유 발생시점의 기본보험금액 (3) 3종(소득보장강화형) 향후 공시이율에 관계없이 최저사망보험금 보증기간 동안 보장하는 최저한도의 사망보험금으로 서, 다음과 같습니다. - 은퇴전 보험기간 지급사유 발생시점의 월급여금(최대 240회 한도. 단, 60회 보증지급) 및 기본보험금액 - 은퇴후 보험기간 지급사유 발생시점의 기본보험금액 바. 최저사망보험금 보증기간: 계약일로부터 1개월 경과 이후 제28조(보험료의 납입이 연체되는 경우 납입최고(독촉)와 계약의 해지)의 납입최고(독촉)기간이 끝나는 날의 다음 날부터 예정적립액이 ‘0’ 이 될 때까지의 기간을 말합니다. 사. 최저사망보험금 보증비용: 향후 공시이율에 관계없이 최저사망보험금의 지급을 보증하는 데 소요되 63\u0000/\u0000249\n",
      "\n",
      "Question: 금리연동형 상품은 무엇인가요?\n",
      "\n",
      "\n",
      "\n",
      "Assistant:\u001b[0m\n",
      "금리연동형 상품은 적립액 산출에 적용되는 이율이 매월 변동되는 상품을 말합니다. 주요 특징은 다음과 같습니다:\n",
      "\n",
      "1. 이 상품의 적립액 산출에 적용되는 이율은 매월 변동됩니다.\n",
      "\n",
      "2. 동 이율은 납입한 주계약(또는 적립) 보험료에서 계약체결·유지관리 경비 및 위험보장을 위한 보험료를 차감한 금액에 대해서만 적용됩니다. \n",
      "\n",
      "3. 이 상품의 최저보증이율은 3년 이내 연복리 1.0%, 3년 초과 5년 이내 연복리 0.75%, 5년 초과 연복리 0.5%입니다.\n",
      "\n",
      "4. 자산운용이익률, 시장금리가 하락하는 경우 회사가 보증하는 적용이율의 최저한도가 있습니다.\n",
      "\n",
      "요약하면, 금리연동형 상품은 적립액 산출 이율이 매월 변동되며, 일정 수준의 최저보증이율이 적용되는 상품입니다.\n",
      "\u001b[1m> Finished chain.\u001b[0m\n",
      "\n",
      "\u001b[1m> Finished chain.\u001b[0m\n"
     ]
    }
   ],
   "source": [
    "answer = chain.invoke(\n",
    "    {\n",
    "        \"input_documents\": opensearch_semantic_retriever.get_relevant_documents(query), \n",
    "        \"question\": query\n",
    "    }, \n",
    "    # return_only_outputs=True\n",
    ")"
   ]
  },
  {
   "cell_type": "markdown",
   "id": "caf67e77-15d5-4a8f-b0b5-a6d69baab68c",
   "metadata": {},
   "source": [
    "## 9. OpenSearch Hybrid 검색"
   ]
  },
  {
   "cell_type": "markdown",
   "id": "8caa5119-13da-4e6a-a6f2-e6a1cba826ee",
   "metadata": {},
   "source": [
    "OpenSearch Hybrid 는 아래와 같은 방식으로 작동합니다.\n",
    "- (1) \"Vector 서치\" 하여 스코어를 얻은 후에 표준화를 하여 스코어를 구함. \n",
    "    - 전체 결과에서 가장 높은 스코어는 표준화 과정을 통하여 스코어가 1.0 이 됨.\n",
    "- (2) Keyword 서치도 동일하게 함.\n",
    "- (3) Reciprocal Rank Fusion (RRF) 기반 Re-rank\n",
    "    - Paper: https://plg.uwaterloo.ca/~gvcormac/cormacksigir09-rrf.pdf\n",
    "    - Desc: https://medium.com/@sowmiyajaganathan/hybrid-search-with-re-ranking-ff120c8a426d\n",
    "    - **RRF의 경우 score가 아닌 ranking 정보를 활용, 때문에 score normalization이 필요 없음**\n",
    "\n",
    "RRF는 langchain에서 \"Ensemble Retriever\" 이름으로 api를 제공합니다. \n",
    "- https://python.langchain.com/docs/modules/data_connection/retrievers/ensemble\n"
   ]
  },
  {
   "cell_type": "markdown",
   "id": "31f8f74d-ab29-4149-94e6-e85c6671a25e",
   "metadata": {},
   "source": [
    "### Ensemble retriever 정의\n",
    "- https://python.langchain.com/docs/modules/data_connection/retrievers/ensemble\n",
    "- RRF 방식만 지원\n",
    "- Rank constant (param \"c\")\n",
    "    - This value determines how much influence documents in individual result sets per query have over the final ranked result set. A higher value indicates that lower ranked documents have more influence. This value must be greater than or equal to 1. Defaults to 60.\n",
    "    - 숫자 높을 수록 낮은 랭크의 문서가 더 중요시 된다"
   ]
  },
  {
   "cell_type": "code",
   "execution_count": 45,
   "id": "792310d5-8117-49ea-a278-c3066052bee6",
   "metadata": {
    "tags": []
   },
   "outputs": [],
   "source": [
    "from langchain.retrievers import EnsembleRetriever"
   ]
  },
  {
   "cell_type": "code",
   "execution_count": 46,
   "id": "41e710fb-c2dd-4ae2-8f1c-984f01e37363",
   "metadata": {
    "tags": []
   },
   "outputs": [],
   "source": [
    "ensemble_retriever = EnsembleRetriever(\n",
    "    retrievers=[opensearch_lexical_retriever, opensearch_semantic_retriever],\n",
    "    weights=[0.5, 0.5],\n",
    "    c=100,\n",
    "    k=5\n",
    ")"
   ]
  },
  {
   "cell_type": "code",
   "execution_count": 47,
   "id": "b944ed69-e539-4836-b4cf-87d2c8d16cbe",
   "metadata": {
    "tags": []
   },
   "outputs": [
    {
     "name": "stdout",
     "output_type": "stream",
     "text": [
      "\n",
      "\n",
      "\u001b[1m> Entering new StuffDocumentsChain chain...\u001b[0m\n",
      "\n",
      "\n",
      "\u001b[1m> Entering new LLMChain chain...\u001b[0m\n",
      "Prompt after formatting:\n",
      "\u001b[32;1m\u001b[1;3m\n",
      "\n",
      "\n",
      "Human: Use the following pieces of context to provide a concise answer to the question at the end.\n",
      "If you don't know the answer, just say that you don't know, don't try to make up an answer.\n",
      "\n",
      "【 별표 1 】 연금 지급기준표 급부명칭 지 급 내 용 지급사유 금 액 이 특약의 보험료를 기준으로 피보험 자가 생존한 기간동안(10년보증, 20년 보증, 100세보증) 보험료 및 해약환급 연금개시일 이후 피보험자가 매년 종신연금 금 산출방법서(이하 ‘산출방법서’라 보험계약 해당일에 살아있을 경우 합니다)에서 정한 방법에 따라 연금 액을 분할 계산하여 매년 보험계약 연금 해당일에 지급 연금개시일 이후 피보험자가 「’일상생활장해보장개시일’ 이후에 ‘일상생활장해상태’로 최종 종신연금 연금액의 1배를 진단 확정 LTC연금 진단확정되거나 ‘중증(重症)치매보 일을 포함하여 매년 진단 확정일에 장개시일’ 이후에 ‘중증(重症)치매 지급(최고 10회한도) 상태’로 최종 진단확정」되고 매년 진단 확정일에 살아있을 경우 주) 1. ‘이 특약의 보험료’란 전환전계약의 사업방법서에서 정한 바에 따라 전환전계약의 지급금의 전부 또는 일부를 말합니다. 2. 이 특약의 공시이율은 사업방법서에서 정한 방법에 따라 회사가 매월 1일 결정하며, 공시이율의 최저보증이율은 계약일로부터 3년 이내에는 연복리 1.0%, 3년초과 5년이내에는 연복리 0.75%, 5 년을 초과하는 경우에는 연복리 0.5%를 적용합니다. 3. 연금액의 계산은 이 특약의 보험료를 기준으로 이 특약의 공시이율을 적용하여 산출방법서에서 정한 방법에 따라 계산되며, 공시이율이 변경되면 실제 지급되는 연금액도 변경됩니다. 4. LTC발생시 ‘일상생활장해상태’ 또는 ‘중증(重症)치매상태’ 중 최초로 발생한 지급사유에 한하여 10회를 최고 한도로 하여 LTC연금을 지급합니다. 5. 종신연금의 100세보증은 피보험자 나이를 기준으로 합니다. 6. 종신연금의 경우 보증지급기간(10년, 20년, 100세 보증) 동안 지급되지 않은 종신연금액을 산출 방법서에 따라 공시이율로 할인하여 일시금으로 선지급 받을 수 있으며, 피보험자가 사망하는 경우 또한 같습니다. 7. 연금은 매월, 매3개월, 매6개월로 분할하여 지급받을 수 있습니다. 8. 해당월의 보험계약 해당일이 없는 경우에는 해당월의 말일을 보험계약 해당일로 합니다. 9. 보장개시일: 이 특약의 보장개시일은 이 특약의 계약자가 신청한 연금전환일로 하며, 보장개시 일을 보험계약일로 봅니다. 10. 일상생활장해보장개시일: 연금전환일부터 그 날을 포함하여 90일이 지난날의 다음 날로 합니다. 다만, 보험기간 중 발생한 재해로 인하여 ‘일상생활장해상태’가 발생한 경우에는 연금전환일을 보장개시일로 합니다. 11. 중증(重症)치매보장개시일: 연금전환일부터 그 날을 포함하여 만 2년이 지난 날의 다음 날로 합니다. 다만, 질병으로 인한 ‘중증(重症)치매상태’가 없는 상태에서 보험기간 중 발생한 재해로 인한 뇌의 손상으로 인하여 ‘중증(重症)치매상태’가 발생한 경우에는 연금전환일을 보장개시일 로 합니다. 112\u0000/\u0000249\n",
      "\n",
      "Ⅱ. 약관 요약서 1. 보험계약의 개요 가입하신 보험상품의 보장내용과 특징을 확인해보세요. 한화생명 The스마트한 일시납종신보험 무배당 [보증비용부과형] 상품의 종목 : 보장성·종신보험 (1) 상품의 주요특징 예금자보호 금리연동형 예금자보호법에 따라 보험회사의 자산운용이익률, 1인당 최고 5천만원까지 시장금리 등에 따라 적립액 보장합니다. 다만, 보험계약자 적용이율이 변동되는 상품입 및 보험료 납부자가 법인인 니다. 경우에는 보호하지 않습니다. 보장성보험 한화생명 무배당 The스마트한 사망, 질병, 계약자에게 일시납종신보험 상해 등의 위험을 배당을 하지 않는 무배당 보장하는 보장성 상품입니다. 보험입니다. [보증비용부과형] 최저보증이율 해약환급금 보증 (해약환급금 보증형 가입시) 금리가 하락하더라도 적립시 적용되는 공시이율을 최저해약환급금은 회사가 정한 시산에 따라 향후 공시이율에 관계없이 일정 비율로 최저보증합니다. 계약 해지 시 지급하는 최저한도의 해약환급 금으로서, 예정적립액과 동일합니다. 15\u0000/\u0000249\n",
      "\n",
      "(2) 소비자가 반드시 알아두어야 할 상품의 주요 특성 보장성보험 ① 이 보험은 사망 보장을 주목적으로 하는 보장성보험이며, 저축이나 연금수령을 목적으로 가입하시기에 적합하지 않습니다. ② 만기 또는 중도해지 시 납입한 보험료보다 환급금이 적을 수 있습니다. ③ 사망보험금의 일부 또는 전부를 해지하여 연금으로 전환할 수 있으나, 처음부터 연금보험에 가입한 경우보다 연금액이 적습니다. [민원 사례] A씨는 저축을 주된 목적으로 종신보험을 가입하였으나 알고보니 사망 및 질병 보장을 주목적으로 하는 보장성보험임에 불만 ▶ 종신보험 등 보장성보험은 저축이나 노후에 연금 수령을 목적으로 가입하시기에는 적합하지 않으며 또한 중도에 해지하면 손해를 볼 수 있음 금리연동형보험 ① 이 보험의 적립액 산출에 적용되는 이율은 매월 변동됩니다. ② 동 이율은 납입한 주계약(또는 적립) 보험료에서 계약체결·유지관리에 필요한 경비 및 위험보장을 위한 보험료를 차감한 금액에 대해서만 적용됩니다. ③ 이 보험의 최저보증이율*은 3년이내에는 연복리 1.0%, 3년초과 5년이내에는 연복리 0.75%, 5년을 초과하는 경우에는 연복리 0.5%입니다. *자산운용이익률, 시장금리가 하락하는 경우 회사가 보증하는 적용이율의 최저한도 유니버셜보험 이 보험은 적립액 인출 등을 하는 경우 계약이 조기에 실효될 수 있습니다. * 해약환급금에서 월대체보험료(계약 유지관리 등에 소요되는 경비, 위험 보장을 위한 보험료)를 매 월 공제 [민원 사례] A씨는 일시납보험료를 하면 보장을 계속 받을 수 있다고 생각하고 ○○○○ 유니버설종신보험에 가입하였으나, 4년이 지난 후 보험회사에서 보험료 납입을 독촉하는 안내를 받음 ▶ 보험회사는 유니버설보험의 경우 기본보험료 납입 이후 중도인출 등으로 인해, 주계약 해약환급금에서 월대체보험료를 충당할 수 없게 된 경우 계약이 해지될 수 있고, 계약을 유지하기 위해서는 보험료 추가 납입이 필요함을 안내 예금자보호제도에 ① 이 보험은 예금자보호법에 따라 예금보험공사가 보호합니다. 관한 사항 ② 예금자보호 한도는 본 보험회사에 있는 귀하의 모든 예금보호 대상 금융상품의 해약환급금(또는 만기시 보험금이나 사고보험금)과 기타 지급금을 합하여 1인당 “최고 5천만원”이며, 5천만원을 초과하는 나머지 금액은 보호하지 않습니다. ③ 또한, 보험계약자 및 보험료 납부자가 법인이면 보호되지 않습니다. 19\u0000/\u0000249\n",
      "\n",
      "Ⅱ. 약관 요약서 1. 보험계약의 개요 가입하신 보험상품의 보장내용과 특징을 확인해보세요. 한화생명 The스마트한 일시납종신보험 무배당 [보증비용부과형] 상품의 종목 : 보장성·종신보험 (1) 상품의 주요특징 예금자보호 금리연동형 예금자보호법에 따라 보험회사의 자산운용이익률, 1인당 최고 5천만원까지 시장금리 등에 따라 적립액 보장합니다. 다만, 보험계약자 적용이율이 변동되는 상품입 및 보험료 납부자가 법인인 니다. 경우에는 보호하지 않습니다. 보장성보험 한화생명 무배당 The스마트한 사망, 질병, 계약자에게 일시납종신보험 상해 등의 위험을 배당을 하지 않는 무배당 보장하는 보장성 상품입니다. 보험입니다. [보증비용부과형] 최저보증이율 해약환급금 보증 (해약환급금 보증형 가입시) 금리가 하락하더라도 적립시 적용되는 공시이율을 최저해약환급금은 회사가 정한 시산에 따라 향후 공시이율에 관계없이 일정 비율로 최저보증합니다. 계약 해지 시 지급하는 최저한도의 해약환급 금으로서, 예정적립액과 동일합니다. 15\u0000/\u0000235\n",
      "\n",
      "개시된 이후 연금선지급이 완료되거나 제58조(특칙내용의 변경) 제1항에 따라 연금선지급이 종료 된 계약은 적립형 계약 전환을 신청할 수 있습니다) 라. 제2조(용어의 정의) 제7호 ‘다’목 또는 ‘라’목에서 정한 보장형 계약 또는 스마트전환형 계약의 전 환신청 보험가입금액에 해당하는 해약환급금(보험계약대출의 원금과 이자를 차감한 금액기준, 주 계약에 한하며 산출방법서에서 정한 방법에 따라 계산한 금액)이 1,000만원 이상일 경우 ② 제1항에 따라 보장형 계약의 전부 또는 일부를 적립형 계약으로 전환 신청하는 경우 계약자는 적립형 계약의 피보험자를 다음과 같이 선택하여야 합니다. 가. 제2조(용어의 정의) 제7호 ‘나’목에서 정한 전부전환의 경우 제2조(용어의 정의) 제1호 ‘마’목 ‘(2)’ ‘㉮’ 내지 ‘㉰’에서 정한 1인 나. 제2조(용어의 정의) 제7호 ‘가’목에서 정한 일부전환의 경우 보장형 계약의 피보험자 ③ 제1항에 따라 스마트전환형 계약의 전부 또는 일부를 적립형 계약으로 전환 신청하는 경우 계약자는 적립형 계약의 피보험자를 다음과 같이 선택하여야 합니다. 가. 제2조(용어의 정의) 제7호 ‘나’목에서 정한 전부전환의 경우 제2조(용어의 정의) 제1호 ‘마’목 ‘(2)’ ‘㉱’ 내지 ‘㉳’에서 정한 1인 나. 제2조(용어의 정의) 제7호 ‘가’목에서 정한 일부전환의 경우 스마트전환형 계약의 피보험자 ④ 제2항 ‘가’호에 따라 선택한 적립형 계약의 피보험자가 보장형 계약의 피보험자와 다를 경우에는 보장 형 계약의 피보험자는 주계약 피보험자의 자격을 상실합니다. 다만, 부가된 특약의 피보험자는 변경되지 않습니다. ⑤ 제3항 ‘가’호에 따라 선택한 적립형 계약의 피보험자가 스마트전환형 계약의 피보험자와 다를 경우에 는 스마트전환형 계약의 피보험자는 주계약 피보험자의 자격을 상실합니다. 다만, 부가된 특약의 피보험 자는 변경되지 않습니다. ⑥ 보장형 계약에 피보험자가 보장형 계약 피보험자(가입자녀)인 특약이 부가되어 있는 경우 제2항 ‘가’호 에 따라 선택하는 보장형 계약 피보험자(가입자녀)는 보장형 계약에 부가된 특약의 피보험자(가입자녀) 중 1인이어야 합니다. ⑦ 스마트전환형 계약에 피보험자가 스마트전환형 계약 피보험자(가입자녀)인 특약이 부가되어 있는 경우 제3항 ‘가’호에 따라 선택하는 스마트전환형 계약 피보험자(가입자녀)는 스마트전환형 계약에 부가된 특약 의 피보험자(가입자녀) 중 1인이어야 합니다. ⑧ 제2항 ‘가’호에 따라 선택하는 피보험자가 보장형 계약 피보험자(배우자) 또는 보장형 계약 피보험자 (가입자녀)일 경우 제2항 ‘가’호에서 정한 보장형 계약 피보험자(배우자) 또는 보장형 계약 피보험자(가입 자녀)의 서면에 의한 동의가 있어야 합니다. ⑨ 제3항 ‘가’호에 따라 선택하는 피보험자가 스마트전환형 계약 피보험자(배우자) 또는 스마트전환형 계 약 피보험자(가입자녀)일 경우 제2항 ‘가’호에서 정한 스마트전환형 계약 피보험자(배우자) 또는 스마트전 환형 계약 피보험자(가입자녀)의 서면에 의한 동의가 있어야 합니다. ⑩ 제1항에 따라 보장형 계약 또는 스마트전환형 계약을 적립형 계약으로 전환 신청하는 경우 계약자는 회사가 정한 양식에 따라 신청서를 작성하여야 하며, 사업방법서에서 정하는 방법에 따라 적립형 계약의 기본보험료를 선택하여야 합니다. ⑪ 계약자는 제32조(적립형 계약 전환의 승낙 및 효력발생) 제2항에 따른 전환일 전일까지 적립형 계약 전환 신청을 취소할 수 있으며, 전환일 이후에는 취소할 수 없습니다. 제 32 조 적립형 계약 전환의 승낙 및 효력발생 ① 제31조(적립형 계약 전환 신청 및 취소)에 따른 계약자가 전환을 신청한 경우 회사는 전환 신청일(다 만, 건강진단을 받는 경우 진단일)부터 30일 이내에 적립형 계약으로의 전환을 승낙 또는 거절하여야 합 니다. 그러나 전환 신청일(다만, 건강진단을 받는 경우 진단일)부터 30일 이내에 승낙 또는 거절의 통지가 없으면 승낙된 것으로 봅니다. ② 제1항에 따라 적립형 계약으로의 전환이 승낙된 경우 전환 신청일(다만, 건강진단을 받는 경우 진단일) 부터 30일 이후 최초 도래하는 월계약해당일을 전환일로 보며, 전환일부터 이 약관이 정한 바에 따라 적 43\u0000/\u0000249\n",
      "\n",
      "(2) 소비자가 반드시 알아두어야 할 상품의 주요 특성 보장성보험 ① 이 보험은 사망 보장을 주목적으로 하는 보장성보험이며, 저축이나 연금수령을 목적으로 가입하시기에 적합하지 않습니다. ② 만기 또는 중도해지 시 납입한 보험료보다 환급금이 적을 수 있습니다. ③ 사망보험금의 일부 또는 전부를 해지하여 연금으로 전환할 수 있으나, 처음부터 연금보험에 가입한 경우보다 연금액이 적습니다. [민원 사례] A씨는 저축을 주된 목적으로 종신보험을 가입하였으나 알고보니 사망 및 질병 보장을 주목적으로 하는 보장성보험임에 불만 ▶ 종신보험 등 보장성보험은 저축이나 노후에 연금 수령을 목적으로 가입하시기에는 적합하지 않으며 또한 중도에 해지하면 손해를 볼 수 있음 금리연동형보험 ① 이 보험의 적립액 산출에 적용되는 이율은 매월 변동됩니다. ② 동 이율은 납입한 주계약(또는 적립) 보험료에서 계약체결·유지관리에 필요한 경비 및 위험보장을 위한 보험료를 차감한 금액에 대해서만 적용됩니다. ③ 이 보험의 최저보증이율*은 3년이내에는 연복리 1.0%, 3년초과 5년이내에는 연복리 0.75%, 5년을 초과하는 경우에는 연복리 0.5%입니다. *자산운용이익률, 시장금리가 하락하는 경우 회사가 보증하는 적용이율의 최저한도 유니버셜보험 이 보험은 적립액 인출 등을 하는 경우 계약이 조기에 실효될 수 있습니다. * 해약환급금에서 월대체보험료(계약 유지관리 등에 소요되는 경비, 위험 보장을 위한 보험료)를 매 월 공제 [민원 사례] A씨는 일시납보험료를 하면 보장을 계속 받을 수 있다고 생각하고 ○○○○ 유니버설종신보험에 가입하였으나, 4년이 지난 후 보험회사에서 보험료 납입을 독촉하는 안내를 받음 ▶ 보험회사는 유니버설보험의 경우 기본보험료 납입 이후 중도인출 등으로 인해, 주계약 해약환급금에서 월대체보험료를 충당할 수 없게 된 경우 계약이 해지될 수 있고, 계약을 유지하기 위해서는 보험료 추가 납입이 필요함을 안내 예금자보호제도에 ① 이 보험은 예금자보호법에 따라 예금보험공사가 보호합니다. 관한 사항 ② 예금자보호 한도는 본 보험회사에 있는 귀하의 모든 예금보호 대상 금융상품의 해약환급금(또는 만기시 보험금이나 사고보험금)과 기타 지급금을 합하여 1인당 “최고 5천만원”이며, 5천만원을 초과하는 나머지 금액은 보호하지 않습니다. ③ 또한, 보험계약자 및 보험료 납부자가 법인이면 보호되지 않습니다. 19\u0000/\u0000235\n",
      "\n",
      "- ‘이미 납입한 보험료’에서 ‘월급여금의 일시지급금’을 차감한 금액 - 적립액의 101%에서 ‘월급여금의 일시지급금’을 차감한 금액 (2) 은퇴후 보험기간 기준사망보험금과 ‘이미 납입한 보험료’ 그리고 적립액의 101%중 가장 큰 금액 2. 기준사망보험금은 다음과 같습니다. 은퇴전 보험기간의 경우 보험가입금액의 20%로 하며, 은퇴후 보험기간에는 보험가입금액으로 합 니다. 다만, 추가납입보험료 납입시에는 추가납입전 기준사망보험금에 추가납입보험료를 더한 금 액으로 하며, 적립액의 인출시에는 인출전 기준사망보험금에서 적립액의 인출금액을 차감한 금 액으로 합니다. 한편, 적립액의 인출로 인한 기준사망보험금의 감소는 적립액의 인출 신청시점을 기준으로 계산합니다. 3. 월급여금에서 ‘보험가입금액’보다 월급여금 지급사유 발생시점 적립액의 101%가 더 큰 경우 그 금액을 보험가입금액으로 하여 월급여금을 계산합니다. 4. 월급여금에서 해당월의 지급사유 발생해당일이 없는 경우에는 해당월의 말일을 지급사유 발생 해당일로 합니다. [사망연령별 기준사망보험금 및 월급여금 예시] 30세 가입, 보험가입금액 1억원(보험가입금액이 월급여급 지급사유 발생시점 적립액의 101% 이상 인 경우) 매월 200만원 월 급여금 X 매월 200만원 매월 200만원 매월 200만원 월급여급 240회 X X X 180회 60회 60회 없음 기 준사망 1억원 보험금 2천만원 2천만원 2천만원 2천만원 40세 계약해 50세 계약해 60세 계약해 64세 계약해 65세 계약해당 당일 사망 당일 사망 당일 사망 당일 사망 일 이후 사망 5. 향후 공시이율에 관계없이 제28조(보험료의 납입이 연체되는 경우 납입최고(독촉)와 계약의 해 지)에 의한 보험료의 납입최고(독촉)기간의 종료일까지 보장하는 최저한도의 사망보험금은 다음 과 같습니다. - 은퇴전 보험기간 지급사유 발생시점의 월급여금(최대 240회 한도. 단, 60회 보증지급) 및 기본보험금액 - 은퇴후 보험기간 지급사유 발생시점의 기본보험금액 6. 회사는 보험기간 중 피보험자에게 상기 사망보험금 지급사유가 발생한 경우 사망보험금과 해약 환급금 중에서 많은 금액을 사망보험금으로 지급합니다. 55\u0000/\u0000249\n",
      "\n",
      "㉯ ‘이미 납입한 보험료’에서 ‘월급여금의 일시지급금’을 차감한 금액 ㉰ 적립액의 101%에서 ‘월급여금의 일시지급금’을 차감한 금액 (나) 은퇴후 보험기간 기준사망보험금과 ‘이미 납입한 보험료’ 그리고 적립액의 101%중 가장 큰 금액 (다) ‘(가)’의 ‘월급여금의 일시지급금’은 월급여금 지급해당일에 지급될 월급여금을 보험금 지급 사유 발생일 시점으로 이 계약의 산출이율로 할인하여 계산한 금액을 말합니다. 라. 기준사망보험금 (1) 1종(기본형) 보험가입금액으로 합니다. 다만, 추가납입보험료 납입시에는 추가납입전 기준사망보험금에 추가 납입보험료를 더한 금액으로 하며, 적립액의 인출시에는 인출전 기준사망보험금에서 적립액의 인출금액을 차감한 금액으로 합니다. 한편, 적립액의 인출로 인한 기준사망보험금의 감소는 적 립액의 인출 신청시점을 기준으로 계산합니다. (2) 2종(소득보장형) 은퇴전 보험기간의 경우 보험가입금액의 50%로 하며, 은퇴후 보험기간에는 보험가입금액으로 합니다. 다만, 추가납입보험료 납입시에는 추가납입전 기준사망보험금에 추가납입보험료를 더한 금액으로 하며, 적립액의 인출시에는 인출전 기준사망보험금에서 적립액의 인출금액을 차감한 금액으로 합니다. 한편, 적립액의 인출로 인한 기준사망보험금의 감소는 적립액의 인출 신청시 점을 기준으로 계산합니다. (3) 3종(소득보장강화형) 은퇴전 보험기간의 경우 보험가입금액의 20%로 하며, 은퇴후 보험기간에는 보험가입금액으로 합니다. 다만, 추가납입보험료 납입시에는 추가납입전 기준사망보험금에 추가납입보험료를 더한 금액으로 하며, 적립액의 인출시에는 인출전 기준사망보험금에서 적립액의 인출금액을 차감한 금액으로 합니다. 한편, 적립액의 인출로 인한 기준사망보험금의 감소는 적립액의 인출 신청시 점을 기준으로 계산합니다. 마. 최저사망보험금 (1) 1종(기본형) 공시이율에 관계없이 최저사망보험금 보증기간 동안 보장하는 최저한도의 사망보험금으로서, 사망보험금 지급사유 발생시점의 기본보험금액을 말합니다. (2) 2종(소득보장형) 향후 공시이율에 관계없이 최저사망보험금 보증기간 동안 보장하는 최저한도의 사망보험금으로 서, 다음과 같습니다. - 은퇴전 보험기간 지급사유 발생시점의 월급여금(60회 보증지급) 및 기본보험금액 - 은퇴후 보험기간 지급사유 발생시점의 기본보험금액 (3) 3종(소득보장강화형) 향후 공시이율에 관계없이 최저사망보험금 보증기간 동안 보장하는 최저한도의 사망보험금으로 서, 다음과 같습니다. - 은퇴전 보험기간 지급사유 발생시점의 월급여금(최대 240회 한도. 단, 60회 보증지급) 및 기본보험금액 - 은퇴후 보험기간 지급사유 발생시점의 기본보험금액 바. 최저사망보험금 보증기간: 계약일로부터 1개월 경과 이후 제28조(보험료의 납입이 연체되는 경우 납입최고(독촉)와 계약의 해지)의 납입최고(독촉)기간이 끝나는 날의 다음 날부터 예정적립액이 ‘0’ 이 될 때까지의 기간을 말합니다. 사. 최저사망보험금 보증비용: 향후 공시이율에 관계없이 최저사망보험금의 지급을 보증하는 데 소요되 63\u0000/\u0000249\n",
      "\n",
      "Question: 금리연동형 상품은 무엇인가요?\n",
      "\n",
      "\n",
      "\n",
      "Assistant:\u001b[0m\n",
      "금리연동형 상품은 보험료 적립금에 대한 적용이율이 시중금리 등에 연동되어 변동되는 상품을 말합니다. 주요 특징은 다음과 같습니다.\n",
      "\n",
      "1. 적립액 산출에 적용되는 이율이 매월 변동됩니다.\n",
      "\n",
      "2. 이 이율은 납입보험료에서 계약체결·유지관리 경비 및 위험보장을 위한 보험료를 차감한 금액에만 적용됩니다. \n",
      "\n",
      "3. 최저보증이율이 있어 일정 수준 이상의 적용이율이 보장됩니다. 예를 들어 3년 이내 연복리 1.0%, 3년 초과 5년 이내 연복리 0.75%, 5년 초과 연복리 0.5% 등입니다.\n",
      "\n",
      "4. 시중금리가 하락하면 적용이율도 낮아져 적립액이 줄어들 수 있습니다.\n",
      "\n",
      "요약하면 금리연동형 상품은 시중금리 변동에 따라 적립액 수익률이 변동되는 특징이 있으며, 최저보증이율로 일정 수준의 수익률은 보장됩니다.\n",
      "\u001b[1m> Finished chain.\u001b[0m\n",
      "\n",
      "\u001b[1m> Finished chain.\u001b[0m\n",
      "##############################\n",
      "query: \n",
      " 금리연동형 상품은 무엇인가요?\n",
      "answer: \n",
      " {'input_documents': [Document(page_content='【 별표 1 】 연금 지급기준표 급부명칭 지 급 내 용 지급사유 금 액 이 특약의 보험료를 기준으로 피보험 자가 생존한 기간동안(10년보증, 20년 보증, 100세보증) 보험료 및 해약환급 연금개시일 이후 피보험자가 매년 종신연금 금 산출방법서(이하 ‘산출방법서’라 보험계약 해당일에 살아있을 경우 합니다)에서 정한 방법에 따라 연금 액을 분할 계산하여 매년 보험계약 연금 해당일에 지급 연금개시일 이후 피보험자가 「’일상생활장해보장개시일’ 이후에 ‘일상생활장해상태’로 최종 종신연금 연금액의 1배를 진단 확정 LTC연금 진단확정되거나 ‘중증(重症)치매보 일을 포함하여 매년 진단 확정일에 장개시일’ 이후에 ‘중증(重症)치매 지급(최고 10회한도) 상태’로 최종 진단확정」되고 매년 진단 확정일에 살아있을 경우 주) 1. ‘이 특약의 보험료’란 전환전계약의 사업방법서에서 정한 바에 따라 전환전계약의 지급금의 전부 또는 일부를 말합니다. 2. 이 특약의 공시이율은 사업방법서에서 정한 방법에 따라 회사가 매월 1일 결정하며, 공시이율의 최저보증이율은 계약일로부터 3년 이내에는 연복리 1.0%, 3년초과 5년이내에는 연복리 0.75%, 5 년을 초과하는 경우에는 연복리 0.5%를 적용합니다. 3. 연금액의 계산은 이 특약의 보험료를 기준으로 이 특약의 공시이율을 적용하여 산출방법서에서 정한 방법에 따라 계산되며, 공시이율이 변경되면 실제 지급되는 연금액도 변경됩니다. 4. LTC발생시 ‘일상생활장해상태’ 또는 ‘중증(重症)치매상태’ 중 최초로 발생한 지급사유에 한하여 10회를 최고 한도로 하여 LTC연금을 지급합니다. 5. 종신연금의 100세보증은 피보험자 나이를 기준으로 합니다. 6. 종신연금의 경우 보증지급기간(10년, 20년, 100세 보증) 동안 지급되지 않은 종신연금액을 산출 방법서에 따라 공시이율로 할인하여 일시금으로 선지급 받을 수 있으며, 피보험자가 사망하는 경우 또한 같습니다. 7. 연금은 매월, 매3개월, 매6개월로 분할하여 지급받을 수 있습니다. 8. 해당월의 보험계약 해당일이 없는 경우에는 해당월의 말일을 보험계약 해당일로 합니다. 9. 보장개시일: 이 특약의 보장개시일은 이 특약의 계약자가 신청한 연금전환일로 하며, 보장개시 일을 보험계약일로 봅니다. 10. 일상생활장해보장개시일: 연금전환일부터 그 날을 포함하여 90일이 지난날의 다음 날로 합니다. 다만, 보험기간 중 발생한 재해로 인하여 ‘일상생활장해상태’가 발생한 경우에는 연금전환일을 보장개시일로 합니다. 11. 중증(重症)치매보장개시일: 연금전환일부터 그 날을 포함하여 만 2년이 지난 날의 다음 날로 합니다. 다만, 질병으로 인한 ‘중증(重症)치매상태’가 없는 상태에서 보험기간 중 발생한 재해로 인한 뇌의 손상으로 인하여 ‘중증(重症)치매상태’가 발생한 경우에는 연금전환일을 보장개시일 로 합니다. 112\\x00/\\x00249', metadata={'source': '한화생명 The스마트한 일시납종신보험_20240101~.pdf', 'type': '일시납종신보험_20240101~', 'timestamp': '2024-06-09T06:58:12.833105'}), Document(page_content='Ⅱ. 약관 요약서 1. 보험계약의 개요 가입하신 보험상품의 보장내용과 특징을 확인해보세요. 한화생명 The스마트한 일시납종신보험 무배당 [보증비용부과형] 상품의 종목 : 보장성·종신보험 (1) 상품의 주요특징 예금자보호 금리연동형 예금자보호법에 따라 보험회사의 자산운용이익률, 1인당 최고 5천만원까지 시장금리 등에 따라 적립액 보장합니다. 다만, 보험계약자 적용이율이 변동되는 상품입 및 보험료 납부자가 법인인 니다. 경우에는 보호하지 않습니다. 보장성보험 한화생명 무배당 The스마트한 사망, 질병, 계약자에게 일시납종신보험 상해 등의 위험을 배당을 하지 않는 무배당 보장하는 보장성 상품입니다. 보험입니다. [보증비용부과형] 최저보증이율 해약환급금 보증 (해약환급금 보증형 가입시) 금리가 하락하더라도 적립시 적용되는 공시이율을 최저해약환급금은 회사가 정한 시산에 따라 향후 공시이율에 관계없이 일정 비율로 최저보증합니다. 계약 해지 시 지급하는 최저한도의 해약환급 금으로서, 예정적립액과 동일합니다. 15\\x00/\\x00249', metadata={'source': '한화생명 The스마트한 일시납종신보험_20240101~.pdf', 'type': '일시납종신보험_20240101~', 'timestamp': '2024-06-09T06:55:19.808315', 'id': '7388e1a1-c978-4ef0-8822-e7cbc1f8fc44'}), Document(page_content='(2) 소비자가 반드시 알아두어야 할 상품의 주요 특성 보장성보험 ① 이 보험은 사망 보장을 주목적으로 하는 보장성보험이며, 저축이나 연금수령을 목적으로 가입하시기에 적합하지 않습니다. ② 만기 또는 중도해지 시 납입한 보험료보다 환급금이 적을 수 있습니다. ③ 사망보험금의 일부 또는 전부를 해지하여 연금으로 전환할 수 있으나, 처음부터 연금보험에 가입한 경우보다 연금액이 적습니다. [민원 사례] A씨는 저축을 주된 목적으로 종신보험을 가입하였으나 알고보니 사망 및 질병 보장을 주목적으로 하는 보장성보험임에 불만 ▶ 종신보험 등 보장성보험은 저축이나 노후에 연금 수령을 목적으로 가입하시기에는 적합하지 않으며 또한 중도에 해지하면 손해를 볼 수 있음 금리연동형보험 ① 이 보험의 적립액 산출에 적용되는 이율은 매월 변동됩니다. ② 동 이율은 납입한 주계약(또는 적립) 보험료에서 계약체결·유지관리에 필요한 경비 및 위험보장을 위한 보험료를 차감한 금액에 대해서만 적용됩니다. ③ 이 보험의 최저보증이율*은 3년이내에는 연복리 1.0%, 3년초과 5년이내에는 연복리 0.75%, 5년을 초과하는 경우에는 연복리 0.5%입니다. *자산운용이익률, 시장금리가 하락하는 경우 회사가 보증하는 적용이율의 최저한도 유니버셜보험 이 보험은 적립액 인출 등을 하는 경우 계약이 조기에 실효될 수 있습니다. * 해약환급금에서 월대체보험료(계약 유지관리 등에 소요되는 경비, 위험 보장을 위한 보험료)를 매 월 공제 [민원 사례] A씨는 일시납보험료를 하면 보장을 계속 받을 수 있다고 생각하고 ○○○○ 유니버설종신보험에 가입하였으나, 4년이 지난 후 보험회사에서 보험료 납입을 독촉하는 안내를 받음 ▶ 보험회사는 유니버설보험의 경우 기본보험료 납입 이후 중도인출 등으로 인해, 주계약 해약환급금에서 월대체보험료를 충당할 수 없게 된 경우 계약이 해지될 수 있고, 계약을 유지하기 위해서는 보험료 추가 납입이 필요함을 안내 예금자보호제도에 ① 이 보험은 예금자보호법에 따라 예금보험공사가 보호합니다. 관한 사항 ② 예금자보호 한도는 본 보험회사에 있는 귀하의 모든 예금보호 대상 금융상품의 해약환급금(또는 만기시 보험금이나 사고보험금)과 기타 지급금을 합하여 1인당 “최고 5천만원”이며, 5천만원을 초과하는 나머지 금액은 보호하지 않습니다. ③ 또한, 보험계약자 및 보험료 납부자가 법인이면 보호되지 않습니다. 19\\x00/\\x00249', metadata={'source': '한화생명 The스마트한 일시납종신보험_20240101~.pdf', 'type': '일시납종신보험_20240101~', 'timestamp': '2024-06-09T06:55:38.122466'}), Document(page_content='Ⅱ. 약관 요약서 1. 보험계약의 개요 가입하신 보험상품의 보장내용과 특징을 확인해보세요. 한화생명 The스마트한 일시납종신보험 무배당 [보증비용부과형] 상품의 종목 : 보장성·종신보험 (1) 상품의 주요특징 예금자보호 금리연동형 예금자보호법에 따라 보험회사의 자산운용이익률, 1인당 최고 5천만원까지 시장금리 등에 따라 적립액 보장합니다. 다만, 보험계약자 적용이율이 변동되는 상품입 및 보험료 납부자가 법인인 니다. 경우에는 보호하지 않습니다. 보장성보험 한화생명 무배당 The스마트한 사망, 질병, 계약자에게 일시납종신보험 상해 등의 위험을 배당을 하지 않는 무배당 보장하는 보장성 상품입니다. 보험입니다. [보증비용부과형] 최저보증이율 해약환급금 보증 (해약환급금 보증형 가입시) 금리가 하락하더라도 적립시 적용되는 공시이율을 최저해약환급금은 회사가 정한 시산에 따라 향후 공시이율에 관계없이 일정 비율로 최저보증합니다. 계약 해지 시 지급하는 최저한도의 해약환급 금으로서, 예정적립액과 동일합니다. 15\\x00/\\x00235', metadata={'source': '한화생명 The스마트한 일시납종신보험_1912-061~072_20230916~.pdf', 'type': '일시납종신보험_1912-061~072_20230916~', 'timestamp': '2024-06-09T06:55:45.770771', 'id': 'd3b6d2d6-4c3c-4c3b-aa4f-b9837de8658f'}), Document(page_content='개시된 이후 연금선지급이 완료되거나 제58조(특칙내용의 변경) 제1항에 따라 연금선지급이 종료 된 계약은 적립형 계약 전환을 신청할 수 있습니다) 라. 제2조(용어의 정의) 제7호 ‘다’목 또는 ‘라’목에서 정한 보장형 계약 또는 스마트전환형 계약의 전 환신청 보험가입금액에 해당하는 해약환급금(보험계약대출의 원금과 이자를 차감한 금액기준, 주 계약에 한하며 산출방법서에서 정한 방법에 따라 계산한 금액)이 1,000만원 이상일 경우 ② 제1항에 따라 보장형 계약의 전부 또는 일부를 적립형 계약으로 전환 신청하는 경우 계약자는 적립형 계약의 피보험자를 다음과 같이 선택하여야 합니다. 가. 제2조(용어의 정의) 제7호 ‘나’목에서 정한 전부전환의 경우 제2조(용어의 정의) 제1호 ‘마’목 ‘(2)’ ‘㉮’ 내지 ‘㉰’에서 정한 1인 나. 제2조(용어의 정의) 제7호 ‘가’목에서 정한 일부전환의 경우 보장형 계약의 피보험자 ③ 제1항에 따라 스마트전환형 계약의 전부 또는 일부를 적립형 계약으로 전환 신청하는 경우 계약자는 적립형 계약의 피보험자를 다음과 같이 선택하여야 합니다. 가. 제2조(용어의 정의) 제7호 ‘나’목에서 정한 전부전환의 경우 제2조(용어의 정의) 제1호 ‘마’목 ‘(2)’ ‘㉱’ 내지 ‘㉳’에서 정한 1인 나. 제2조(용어의 정의) 제7호 ‘가’목에서 정한 일부전환의 경우 스마트전환형 계약의 피보험자 ④ 제2항 ‘가’호에 따라 선택한 적립형 계약의 피보험자가 보장형 계약의 피보험자와 다를 경우에는 보장 형 계약의 피보험자는 주계약 피보험자의 자격을 상실합니다. 다만, 부가된 특약의 피보험자는 변경되지 않습니다. ⑤ 제3항 ‘가’호에 따라 선택한 적립형 계약의 피보험자가 스마트전환형 계약의 피보험자와 다를 경우에 는 스마트전환형 계약의 피보험자는 주계약 피보험자의 자격을 상실합니다. 다만, 부가된 특약의 피보험 자는 변경되지 않습니다. ⑥ 보장형 계약에 피보험자가 보장형 계약 피보험자(가입자녀)인 특약이 부가되어 있는 경우 제2항 ‘가’호 에 따라 선택하는 보장형 계약 피보험자(가입자녀)는 보장형 계약에 부가된 특약의 피보험자(가입자녀) 중 1인이어야 합니다. ⑦ 스마트전환형 계약에 피보험자가 스마트전환형 계약 피보험자(가입자녀)인 특약이 부가되어 있는 경우 제3항 ‘가’호에 따라 선택하는 스마트전환형 계약 피보험자(가입자녀)는 스마트전환형 계약에 부가된 특약 의 피보험자(가입자녀) 중 1인이어야 합니다. ⑧ 제2항 ‘가’호에 따라 선택하는 피보험자가 보장형 계약 피보험자(배우자) 또는 보장형 계약 피보험자 (가입자녀)일 경우 제2항 ‘가’호에서 정한 보장형 계약 피보험자(배우자) 또는 보장형 계약 피보험자(가입 자녀)의 서면에 의한 동의가 있어야 합니다. ⑨ 제3항 ‘가’호에 따라 선택하는 피보험자가 스마트전환형 계약 피보험자(배우자) 또는 스마트전환형 계 약 피보험자(가입자녀)일 경우 제2항 ‘가’호에서 정한 스마트전환형 계약 피보험자(배우자) 또는 스마트전 환형 계약 피보험자(가입자녀)의 서면에 의한 동의가 있어야 합니다. ⑩ 제1항에 따라 보장형 계약 또는 스마트전환형 계약을 적립형 계약으로 전환 신청하는 경우 계약자는 회사가 정한 양식에 따라 신청서를 작성하여야 하며, 사업방법서에서 정하는 방법에 따라 적립형 계약의 기본보험료를 선택하여야 합니다. ⑪ 계약자는 제32조(적립형 계약 전환의 승낙 및 효력발생) 제2항에 따른 전환일 전일까지 적립형 계약 전환 신청을 취소할 수 있으며, 전환일 이후에는 취소할 수 없습니다. 제 32 조 적립형 계약 전환의 승낙 및 효력발생 ① 제31조(적립형 계약 전환 신청 및 취소)에 따른 계약자가 전환을 신청한 경우 회사는 전환 신청일(다 만, 건강진단을 받는 경우 진단일)부터 30일 이내에 적립형 계약으로의 전환을 승낙 또는 거절하여야 합 니다. 그러나 전환 신청일(다만, 건강진단을 받는 경우 진단일)부터 30일 이내에 승낙 또는 거절의 통지가 없으면 승낙된 것으로 봅니다. ② 제1항에 따라 적립형 계약으로의 전환이 승낙된 경우 전환 신청일(다만, 건강진단을 받는 경우 진단일) 부터 30일 이후 최초 도래하는 월계약해당일을 전환일로 보며, 전환일부터 이 약관이 정한 바에 따라 적 43\\x00/\\x00249', metadata={'source': '한화생명 The스마트한 일시납종신보험_20240101~.pdf', 'type': '일시납종신보험_20240101~', 'timestamp': '2024-06-09T06:56:23.371855'}), Document(page_content='(2) 소비자가 반드시 알아두어야 할 상품의 주요 특성 보장성보험 ① 이 보험은 사망 보장을 주목적으로 하는 보장성보험이며, 저축이나 연금수령을 목적으로 가입하시기에 적합하지 않습니다. ② 만기 또는 중도해지 시 납입한 보험료보다 환급금이 적을 수 있습니다. ③ 사망보험금의 일부 또는 전부를 해지하여 연금으로 전환할 수 있으나, 처음부터 연금보험에 가입한 경우보다 연금액이 적습니다. [민원 사례] A씨는 저축을 주된 목적으로 종신보험을 가입하였으나 알고보니 사망 및 질병 보장을 주목적으로 하는 보장성보험임에 불만 ▶ 종신보험 등 보장성보험은 저축이나 노후에 연금 수령을 목적으로 가입하시기에는 적합하지 않으며 또한 중도에 해지하면 손해를 볼 수 있음 금리연동형보험 ① 이 보험의 적립액 산출에 적용되는 이율은 매월 변동됩니다. ② 동 이율은 납입한 주계약(또는 적립) 보험료에서 계약체결·유지관리에 필요한 경비 및 위험보장을 위한 보험료를 차감한 금액에 대해서만 적용됩니다. ③ 이 보험의 최저보증이율*은 3년이내에는 연복리 1.0%, 3년초과 5년이내에는 연복리 0.75%, 5년을 초과하는 경우에는 연복리 0.5%입니다. *자산운용이익률, 시장금리가 하락하는 경우 회사가 보증하는 적용이율의 최저한도 유니버셜보험 이 보험은 적립액 인출 등을 하는 경우 계약이 조기에 실효될 수 있습니다. * 해약환급금에서 월대체보험료(계약 유지관리 등에 소요되는 경비, 위험 보장을 위한 보험료)를 매 월 공제 [민원 사례] A씨는 일시납보험료를 하면 보장을 계속 받을 수 있다고 생각하고 ○○○○ 유니버설종신보험에 가입하였으나, 4년이 지난 후 보험회사에서 보험료 납입을 독촉하는 안내를 받음 ▶ 보험회사는 유니버설보험의 경우 기본보험료 납입 이후 중도인출 등으로 인해, 주계약 해약환급금에서 월대체보험료를 충당할 수 없게 된 경우 계약이 해지될 수 있고, 계약을 유지하기 위해서는 보험료 추가 납입이 필요함을 안내 예금자보호제도에 ① 이 보험은 예금자보호법에 따라 예금보험공사가 보호합니다. 관한 사항 ② 예금자보호 한도는 본 보험회사에 있는 귀하의 모든 예금보호 대상 금융상품의 해약환급금(또는 만기시 보험금이나 사고보험금)과 기타 지급금을 합하여 1인당 “최고 5천만원”이며, 5천만원을 초과하는 나머지 금액은 보호하지 않습니다. ③ 또한, 보험계약자 및 보험료 납부자가 법인이면 보호되지 않습니다. 19\\x00/\\x00235', metadata={'source': '한화생명 The스마트한 일시납종신보험_1912-061~072_20230916~.pdf', 'type': '일시납종신보험_1912-061~072_20230916~', 'timestamp': '2024-06-09T06:55:56.619005', 'id': '525a49be-c76b-46b9-b038-c6d5973a8adb'}), Document(page_content='- ‘이미 납입한 보험료’에서 ‘월급여금의 일시지급금’을 차감한 금액 - 적립액의 101%에서 ‘월급여금의 일시지급금’을 차감한 금액 (2) 은퇴후 보험기간 기준사망보험금과 ‘이미 납입한 보험료’ 그리고 적립액의 101%중 가장 큰 금액 2. 기준사망보험금은 다음과 같습니다. 은퇴전 보험기간의 경우 보험가입금액의 20%로 하며, 은퇴후 보험기간에는 보험가입금액으로 합 니다. 다만, 추가납입보험료 납입시에는 추가납입전 기준사망보험금에 추가납입보험료를 더한 금 액으로 하며, 적립액의 인출시에는 인출전 기준사망보험금에서 적립액의 인출금액을 차감한 금 액으로 합니다. 한편, 적립액의 인출로 인한 기준사망보험금의 감소는 적립액의 인출 신청시점을 기준으로 계산합니다. 3. 월급여금에서 ‘보험가입금액’보다 월급여금 지급사유 발생시점 적립액의 101%가 더 큰 경우 그 금액을 보험가입금액으로 하여 월급여금을 계산합니다. 4. 월급여금에서 해당월의 지급사유 발생해당일이 없는 경우에는 해당월의 말일을 지급사유 발생 해당일로 합니다. [사망연령별 기준사망보험금 및 월급여금 예시] 30세 가입, 보험가입금액 1억원(보험가입금액이 월급여급 지급사유 발생시점 적립액의 101% 이상 인 경우) 매월 200만원 월 급여금 X 매월 200만원 매월 200만원 매월 200만원 월급여급 240회 X X X 180회 60회 60회 없음 기 준사망 1억원 보험금 2천만원 2천만원 2천만원 2천만원 40세 계약해 50세 계약해 60세 계약해 64세 계약해 65세 계약해당 당일 사망 당일 사망 당일 사망 당일 사망 일 이후 사망 5. 향후 공시이율에 관계없이 제28조(보험료의 납입이 연체되는 경우 납입최고(독촉)와 계약의 해 지)에 의한 보험료의 납입최고(독촉)기간의 종료일까지 보장하는 최저한도의 사망보험금은 다음 과 같습니다. - 은퇴전 보험기간 지급사유 발생시점의 월급여금(최대 240회 한도. 단, 60회 보증지급) 및 기본보험금액 - 은퇴후 보험기간 지급사유 발생시점의 기본보험금액 6. 회사는 보험기간 중 피보험자에게 상기 사망보험금 지급사유가 발생한 경우 사망보험금과 해약 환급금 중에서 많은 금액을 사망보험금으로 지급합니다. 55\\x00/\\x00249', metadata={'source': '한화생명 The스마트한 일시납종신보험_20240101~.pdf', 'type': '일시납종신보험_20240101~', 'timestamp': '2024-06-09T06:56:43.226701'}), Document(page_content='㉯ ‘이미 납입한 보험료’에서 ‘월급여금의 일시지급금’을 차감한 금액 ㉰ 적립액의 101%에서 ‘월급여금의 일시지급금’을 차감한 금액 (나) 은퇴후 보험기간 기준사망보험금과 ‘이미 납입한 보험료’ 그리고 적립액의 101%중 가장 큰 금액 (다) ‘(가)’의 ‘월급여금의 일시지급금’은 월급여금 지급해당일에 지급될 월급여금을 보험금 지급 사유 발생일 시점으로 이 계약의 산출이율로 할인하여 계산한 금액을 말합니다. 라. 기준사망보험금 (1) 1종(기본형) 보험가입금액으로 합니다. 다만, 추가납입보험료 납입시에는 추가납입전 기준사망보험금에 추가 납입보험료를 더한 금액으로 하며, 적립액의 인출시에는 인출전 기준사망보험금에서 적립액의 인출금액을 차감한 금액으로 합니다. 한편, 적립액의 인출로 인한 기준사망보험금의 감소는 적 립액의 인출 신청시점을 기준으로 계산합니다. (2) 2종(소득보장형) 은퇴전 보험기간의 경우 보험가입금액의 50%로 하며, 은퇴후 보험기간에는 보험가입금액으로 합니다. 다만, 추가납입보험료 납입시에는 추가납입전 기준사망보험금에 추가납입보험료를 더한 금액으로 하며, 적립액의 인출시에는 인출전 기준사망보험금에서 적립액의 인출금액을 차감한 금액으로 합니다. 한편, 적립액의 인출로 인한 기준사망보험금의 감소는 적립액의 인출 신청시 점을 기준으로 계산합니다. (3) 3종(소득보장강화형) 은퇴전 보험기간의 경우 보험가입금액의 20%로 하며, 은퇴후 보험기간에는 보험가입금액으로 합니다. 다만, 추가납입보험료 납입시에는 추가납입전 기준사망보험금에 추가납입보험료를 더한 금액으로 하며, 적립액의 인출시에는 인출전 기준사망보험금에서 적립액의 인출금액을 차감한 금액으로 합니다. 한편, 적립액의 인출로 인한 기준사망보험금의 감소는 적립액의 인출 신청시 점을 기준으로 계산합니다. 마. 최저사망보험금 (1) 1종(기본형) 공시이율에 관계없이 최저사망보험금 보증기간 동안 보장하는 최저한도의 사망보험금으로서, 사망보험금 지급사유 발생시점의 기본보험금액을 말합니다. (2) 2종(소득보장형) 향후 공시이율에 관계없이 최저사망보험금 보증기간 동안 보장하는 최저한도의 사망보험금으로 서, 다음과 같습니다. - 은퇴전 보험기간 지급사유 발생시점의 월급여금(60회 보증지급) 및 기본보험금액 - 은퇴후 보험기간 지급사유 발생시점의 기본보험금액 (3) 3종(소득보장강화형) 향후 공시이율에 관계없이 최저사망보험금 보증기간 동안 보장하는 최저한도의 사망보험금으로 서, 다음과 같습니다. - 은퇴전 보험기간 지급사유 발생시점의 월급여금(최대 240회 한도. 단, 60회 보증지급) 및 기본보험금액 - 은퇴후 보험기간 지급사유 발생시점의 기본보험금액 바. 최저사망보험금 보증기간: 계약일로부터 1개월 경과 이후 제28조(보험료의 납입이 연체되는 경우 납입최고(독촉)와 계약의 해지)의 납입최고(독촉)기간이 끝나는 날의 다음 날부터 예정적립액이 ‘0’ 이 될 때까지의 기간을 말합니다. 사. 최저사망보험금 보증비용: 향후 공시이율에 관계없이 최저사망보험금의 지급을 보증하는 데 소요되 63\\x00/\\x00249', metadata={'source': '한화생명 The스마트한 일시납종신보험_20240101~.pdf', 'type': '일시납종신보험_20240101~', 'timestamp': '2024-06-09T06:56:54.436236'})], 'question': '금리연동형 상품은 무엇인가요?', 'output_text': '금리연동형 상품은 보험료 적립금에 대한 적용이율이 시중금리 등에 연동되어 변동되는 상품을 말합니다. 주요 특징은 다음과 같습니다.\\n\\n1. 적립액 산출에 적용되는 이율이 매월 변동됩니다.\\n\\n2. 이 이율은 납입보험료에서 계약체결·유지관리 경비 및 위험보장을 위한 보험료를 차감한 금액에만 적용됩니다. \\n\\n3. 최저보증이율이 있어 일정 수준 이상의 적용이율이 보장됩니다. 예를 들어 3년 이내 연복리 1.0%, 3년 초과 5년 이내 연복리 0.75%, 5년 초과 연복리 0.5% 등입니다.\\n\\n4. 시중금리가 하락하면 적용이율도 낮아져 적립액이 줄어들 수 있습니다.\\n\\n요약하면 금리연동형 상품은 시중금리 변동에 따라 적립액 수익률이 변동되는 특징이 있으며, 최저보증이율로 일정 수준의 수익률은 보장됩니다.'}\n",
      "CPU times: user 261 ms, sys: 48.6 ms, total: 310 ms\n",
      "Wall time: 14.7 s\n"
     ]
    }
   ],
   "source": [
    "%%time\n",
    "answer = chain.invoke(\n",
    "    {\n",
    "        \"input_documents\": ensemble_retriever.get_relevant_documents(query), \n",
    "        \"question\": query\n",
    "    }\n",
    ")\n",
    "\n",
    "print(\"##############################\")\n",
    "print(\"query: \\n\", query)\n",
    "print(\"answer: \\n\", answer)"
   ]
  },
  {
   "cell_type": "code",
   "execution_count": null,
   "id": "766ae463-9a33-47d3-8e07-b1ffe9b5b6ee",
   "metadata": {},
   "outputs": [],
   "source": []
  },
  {
   "cell_type": "code",
   "execution_count": null,
   "id": "b2ffd49d-5105-4db9-8e71-9889d258daec",
   "metadata": {},
   "outputs": [],
   "source": []
  },
  {
   "cell_type": "code",
   "execution_count": null,
   "id": "2a25170b-cc64-4d0c-a6fe-eeac6ff1dec8",
   "metadata": {},
   "outputs": [],
   "source": []
  }
 ],
 "metadata": {
  "availableInstances": [
   {
    "_defaultOrder": 0,
    "_isFastLaunch": true,
    "category": "General purpose",
    "gpuNum": 0,
    "hideHardwareSpecs": false,
    "memoryGiB": 4,
    "name": "ml.t3.medium",
    "vcpuNum": 2
   },
   {
    "_defaultOrder": 1,
    "_isFastLaunch": false,
    "category": "General purpose",
    "gpuNum": 0,
    "hideHardwareSpecs": false,
    "memoryGiB": 8,
    "name": "ml.t3.large",
    "vcpuNum": 2
   },
   {
    "_defaultOrder": 2,
    "_isFastLaunch": false,
    "category": "General purpose",
    "gpuNum": 0,
    "hideHardwareSpecs": false,
    "memoryGiB": 16,
    "name": "ml.t3.xlarge",
    "vcpuNum": 4
   },
   {
    "_defaultOrder": 3,
    "_isFastLaunch": false,
    "category": "General purpose",
    "gpuNum": 0,
    "hideHardwareSpecs": false,
    "memoryGiB": 32,
    "name": "ml.t3.2xlarge",
    "vcpuNum": 8
   },
   {
    "_defaultOrder": 4,
    "_isFastLaunch": true,
    "category": "General purpose",
    "gpuNum": 0,
    "hideHardwareSpecs": false,
    "memoryGiB": 8,
    "name": "ml.m5.large",
    "vcpuNum": 2
   },
   {
    "_defaultOrder": 5,
    "_isFastLaunch": false,
    "category": "General purpose",
    "gpuNum": 0,
    "hideHardwareSpecs": false,
    "memoryGiB": 16,
    "name": "ml.m5.xlarge",
    "vcpuNum": 4
   },
   {
    "_defaultOrder": 6,
    "_isFastLaunch": false,
    "category": "General purpose",
    "gpuNum": 0,
    "hideHardwareSpecs": false,
    "memoryGiB": 32,
    "name": "ml.m5.2xlarge",
    "vcpuNum": 8
   },
   {
    "_defaultOrder": 7,
    "_isFastLaunch": false,
    "category": "General purpose",
    "gpuNum": 0,
    "hideHardwareSpecs": false,
    "memoryGiB": 64,
    "name": "ml.m5.4xlarge",
    "vcpuNum": 16
   },
   {
    "_defaultOrder": 8,
    "_isFastLaunch": false,
    "category": "General purpose",
    "gpuNum": 0,
    "hideHardwareSpecs": false,
    "memoryGiB": 128,
    "name": "ml.m5.8xlarge",
    "vcpuNum": 32
   },
   {
    "_defaultOrder": 9,
    "_isFastLaunch": false,
    "category": "General purpose",
    "gpuNum": 0,
    "hideHardwareSpecs": false,
    "memoryGiB": 192,
    "name": "ml.m5.12xlarge",
    "vcpuNum": 48
   },
   {
    "_defaultOrder": 10,
    "_isFastLaunch": false,
    "category": "General purpose",
    "gpuNum": 0,
    "hideHardwareSpecs": false,
    "memoryGiB": 256,
    "name": "ml.m5.16xlarge",
    "vcpuNum": 64
   },
   {
    "_defaultOrder": 11,
    "_isFastLaunch": false,
    "category": "General purpose",
    "gpuNum": 0,
    "hideHardwareSpecs": false,
    "memoryGiB": 384,
    "name": "ml.m5.24xlarge",
    "vcpuNum": 96
   },
   {
    "_defaultOrder": 12,
    "_isFastLaunch": false,
    "category": "General purpose",
    "gpuNum": 0,
    "hideHardwareSpecs": false,
    "memoryGiB": 8,
    "name": "ml.m5d.large",
    "vcpuNum": 2
   },
   {
    "_defaultOrder": 13,
    "_isFastLaunch": false,
    "category": "General purpose",
    "gpuNum": 0,
    "hideHardwareSpecs": false,
    "memoryGiB": 16,
    "name": "ml.m5d.xlarge",
    "vcpuNum": 4
   },
   {
    "_defaultOrder": 14,
    "_isFastLaunch": false,
    "category": "General purpose",
    "gpuNum": 0,
    "hideHardwareSpecs": false,
    "memoryGiB": 32,
    "name": "ml.m5d.2xlarge",
    "vcpuNum": 8
   },
   {
    "_defaultOrder": 15,
    "_isFastLaunch": false,
    "category": "General purpose",
    "gpuNum": 0,
    "hideHardwareSpecs": false,
    "memoryGiB": 64,
    "name": "ml.m5d.4xlarge",
    "vcpuNum": 16
   },
   {
    "_defaultOrder": 16,
    "_isFastLaunch": false,
    "category": "General purpose",
    "gpuNum": 0,
    "hideHardwareSpecs": false,
    "memoryGiB": 128,
    "name": "ml.m5d.8xlarge",
    "vcpuNum": 32
   },
   {
    "_defaultOrder": 17,
    "_isFastLaunch": false,
    "category": "General purpose",
    "gpuNum": 0,
    "hideHardwareSpecs": false,
    "memoryGiB": 192,
    "name": "ml.m5d.12xlarge",
    "vcpuNum": 48
   },
   {
    "_defaultOrder": 18,
    "_isFastLaunch": false,
    "category": "General purpose",
    "gpuNum": 0,
    "hideHardwareSpecs": false,
    "memoryGiB": 256,
    "name": "ml.m5d.16xlarge",
    "vcpuNum": 64
   },
   {
    "_defaultOrder": 19,
    "_isFastLaunch": false,
    "category": "General purpose",
    "gpuNum": 0,
    "hideHardwareSpecs": false,
    "memoryGiB": 384,
    "name": "ml.m5d.24xlarge",
    "vcpuNum": 96
   },
   {
    "_defaultOrder": 20,
    "_isFastLaunch": false,
    "category": "General purpose",
    "gpuNum": 0,
    "hideHardwareSpecs": true,
    "memoryGiB": 0,
    "name": "ml.geospatial.interactive",
    "supportedImageNames": [
     "sagemaker-geospatial-v1-0"
    ],
    "vcpuNum": 0
   },
   {
    "_defaultOrder": 21,
    "_isFastLaunch": true,
    "category": "Compute optimized",
    "gpuNum": 0,
    "hideHardwareSpecs": false,
    "memoryGiB": 4,
    "name": "ml.c5.large",
    "vcpuNum": 2
   },
   {
    "_defaultOrder": 22,
    "_isFastLaunch": false,
    "category": "Compute optimized",
    "gpuNum": 0,
    "hideHardwareSpecs": false,
    "memoryGiB": 8,
    "name": "ml.c5.xlarge",
    "vcpuNum": 4
   },
   {
    "_defaultOrder": 23,
    "_isFastLaunch": false,
    "category": "Compute optimized",
    "gpuNum": 0,
    "hideHardwareSpecs": false,
    "memoryGiB": 16,
    "name": "ml.c5.2xlarge",
    "vcpuNum": 8
   },
   {
    "_defaultOrder": 24,
    "_isFastLaunch": false,
    "category": "Compute optimized",
    "gpuNum": 0,
    "hideHardwareSpecs": false,
    "memoryGiB": 32,
    "name": "ml.c5.4xlarge",
    "vcpuNum": 16
   },
   {
    "_defaultOrder": 25,
    "_isFastLaunch": false,
    "category": "Compute optimized",
    "gpuNum": 0,
    "hideHardwareSpecs": false,
    "memoryGiB": 72,
    "name": "ml.c5.9xlarge",
    "vcpuNum": 36
   },
   {
    "_defaultOrder": 26,
    "_isFastLaunch": false,
    "category": "Compute optimized",
    "gpuNum": 0,
    "hideHardwareSpecs": false,
    "memoryGiB": 96,
    "name": "ml.c5.12xlarge",
    "vcpuNum": 48
   },
   {
    "_defaultOrder": 27,
    "_isFastLaunch": false,
    "category": "Compute optimized",
    "gpuNum": 0,
    "hideHardwareSpecs": false,
    "memoryGiB": 144,
    "name": "ml.c5.18xlarge",
    "vcpuNum": 72
   },
   {
    "_defaultOrder": 28,
    "_isFastLaunch": false,
    "category": "Compute optimized",
    "gpuNum": 0,
    "hideHardwareSpecs": false,
    "memoryGiB": 192,
    "name": "ml.c5.24xlarge",
    "vcpuNum": 96
   },
   {
    "_defaultOrder": 29,
    "_isFastLaunch": true,
    "category": "Accelerated computing",
    "gpuNum": 1,
    "hideHardwareSpecs": false,
    "memoryGiB": 16,
    "name": "ml.g4dn.xlarge",
    "vcpuNum": 4
   },
   {
    "_defaultOrder": 30,
    "_isFastLaunch": false,
    "category": "Accelerated computing",
    "gpuNum": 1,
    "hideHardwareSpecs": false,
    "memoryGiB": 32,
    "name": "ml.g4dn.2xlarge",
    "vcpuNum": 8
   },
   {
    "_defaultOrder": 31,
    "_isFastLaunch": false,
    "category": "Accelerated computing",
    "gpuNum": 1,
    "hideHardwareSpecs": false,
    "memoryGiB": 64,
    "name": "ml.g4dn.4xlarge",
    "vcpuNum": 16
   },
   {
    "_defaultOrder": 32,
    "_isFastLaunch": false,
    "category": "Accelerated computing",
    "gpuNum": 1,
    "hideHardwareSpecs": false,
    "memoryGiB": 128,
    "name": "ml.g4dn.8xlarge",
    "vcpuNum": 32
   },
   {
    "_defaultOrder": 33,
    "_isFastLaunch": false,
    "category": "Accelerated computing",
    "gpuNum": 4,
    "hideHardwareSpecs": false,
    "memoryGiB": 192,
    "name": "ml.g4dn.12xlarge",
    "vcpuNum": 48
   },
   {
    "_defaultOrder": 34,
    "_isFastLaunch": false,
    "category": "Accelerated computing",
    "gpuNum": 1,
    "hideHardwareSpecs": false,
    "memoryGiB": 256,
    "name": "ml.g4dn.16xlarge",
    "vcpuNum": 64
   },
   {
    "_defaultOrder": 35,
    "_isFastLaunch": false,
    "category": "Accelerated computing",
    "gpuNum": 1,
    "hideHardwareSpecs": false,
    "memoryGiB": 61,
    "name": "ml.p3.2xlarge",
    "vcpuNum": 8
   },
   {
    "_defaultOrder": 36,
    "_isFastLaunch": false,
    "category": "Accelerated computing",
    "gpuNum": 4,
    "hideHardwareSpecs": false,
    "memoryGiB": 244,
    "name": "ml.p3.8xlarge",
    "vcpuNum": 32
   },
   {
    "_defaultOrder": 37,
    "_isFastLaunch": false,
    "category": "Accelerated computing",
    "gpuNum": 8,
    "hideHardwareSpecs": false,
    "memoryGiB": 488,
    "name": "ml.p3.16xlarge",
    "vcpuNum": 64
   },
   {
    "_defaultOrder": 38,
    "_isFastLaunch": false,
    "category": "Accelerated computing",
    "gpuNum": 8,
    "hideHardwareSpecs": false,
    "memoryGiB": 768,
    "name": "ml.p3dn.24xlarge",
    "vcpuNum": 96
   },
   {
    "_defaultOrder": 39,
    "_isFastLaunch": false,
    "category": "Memory Optimized",
    "gpuNum": 0,
    "hideHardwareSpecs": false,
    "memoryGiB": 16,
    "name": "ml.r5.large",
    "vcpuNum": 2
   },
   {
    "_defaultOrder": 40,
    "_isFastLaunch": false,
    "category": "Memory Optimized",
    "gpuNum": 0,
    "hideHardwareSpecs": false,
    "memoryGiB": 32,
    "name": "ml.r5.xlarge",
    "vcpuNum": 4
   },
   {
    "_defaultOrder": 41,
    "_isFastLaunch": false,
    "category": "Memory Optimized",
    "gpuNum": 0,
    "hideHardwareSpecs": false,
    "memoryGiB": 64,
    "name": "ml.r5.2xlarge",
    "vcpuNum": 8
   },
   {
    "_defaultOrder": 42,
    "_isFastLaunch": false,
    "category": "Memory Optimized",
    "gpuNum": 0,
    "hideHardwareSpecs": false,
    "memoryGiB": 128,
    "name": "ml.r5.4xlarge",
    "vcpuNum": 16
   },
   {
    "_defaultOrder": 43,
    "_isFastLaunch": false,
    "category": "Memory Optimized",
    "gpuNum": 0,
    "hideHardwareSpecs": false,
    "memoryGiB": 256,
    "name": "ml.r5.8xlarge",
    "vcpuNum": 32
   },
   {
    "_defaultOrder": 44,
    "_isFastLaunch": false,
    "category": "Memory Optimized",
    "gpuNum": 0,
    "hideHardwareSpecs": false,
    "memoryGiB": 384,
    "name": "ml.r5.12xlarge",
    "vcpuNum": 48
   },
   {
    "_defaultOrder": 45,
    "_isFastLaunch": false,
    "category": "Memory Optimized",
    "gpuNum": 0,
    "hideHardwareSpecs": false,
    "memoryGiB": 512,
    "name": "ml.r5.16xlarge",
    "vcpuNum": 64
   },
   {
    "_defaultOrder": 46,
    "_isFastLaunch": false,
    "category": "Memory Optimized",
    "gpuNum": 0,
    "hideHardwareSpecs": false,
    "memoryGiB": 768,
    "name": "ml.r5.24xlarge",
    "vcpuNum": 96
   },
   {
    "_defaultOrder": 47,
    "_isFastLaunch": false,
    "category": "Accelerated computing",
    "gpuNum": 1,
    "hideHardwareSpecs": false,
    "memoryGiB": 16,
    "name": "ml.g5.xlarge",
    "vcpuNum": 4
   },
   {
    "_defaultOrder": 48,
    "_isFastLaunch": false,
    "category": "Accelerated computing",
    "gpuNum": 1,
    "hideHardwareSpecs": false,
    "memoryGiB": 32,
    "name": "ml.g5.2xlarge",
    "vcpuNum": 8
   },
   {
    "_defaultOrder": 49,
    "_isFastLaunch": false,
    "category": "Accelerated computing",
    "gpuNum": 1,
    "hideHardwareSpecs": false,
    "memoryGiB": 64,
    "name": "ml.g5.4xlarge",
    "vcpuNum": 16
   },
   {
    "_defaultOrder": 50,
    "_isFastLaunch": false,
    "category": "Accelerated computing",
    "gpuNum": 1,
    "hideHardwareSpecs": false,
    "memoryGiB": 128,
    "name": "ml.g5.8xlarge",
    "vcpuNum": 32
   },
   {
    "_defaultOrder": 51,
    "_isFastLaunch": false,
    "category": "Accelerated computing",
    "gpuNum": 1,
    "hideHardwareSpecs": false,
    "memoryGiB": 256,
    "name": "ml.g5.16xlarge",
    "vcpuNum": 64
   },
   {
    "_defaultOrder": 52,
    "_isFastLaunch": false,
    "category": "Accelerated computing",
    "gpuNum": 4,
    "hideHardwareSpecs": false,
    "memoryGiB": 192,
    "name": "ml.g5.12xlarge",
    "vcpuNum": 48
   },
   {
    "_defaultOrder": 53,
    "_isFastLaunch": false,
    "category": "Accelerated computing",
    "gpuNum": 4,
    "hideHardwareSpecs": false,
    "memoryGiB": 384,
    "name": "ml.g5.24xlarge",
    "vcpuNum": 96
   },
   {
    "_defaultOrder": 54,
    "_isFastLaunch": false,
    "category": "Accelerated computing",
    "gpuNum": 8,
    "hideHardwareSpecs": false,
    "memoryGiB": 768,
    "name": "ml.g5.48xlarge",
    "vcpuNum": 192
   },
   {
    "_defaultOrder": 55,
    "_isFastLaunch": false,
    "category": "Accelerated computing",
    "gpuNum": 8,
    "hideHardwareSpecs": false,
    "memoryGiB": 1152,
    "name": "ml.p4d.24xlarge",
    "vcpuNum": 96
   },
   {
    "_defaultOrder": 56,
    "_isFastLaunch": false,
    "category": "Accelerated computing",
    "gpuNum": 8,
    "hideHardwareSpecs": false,
    "memoryGiB": 1152,
    "name": "ml.p4de.24xlarge",
    "vcpuNum": 96
   }
  ],
  "instance_type": "ml.m5.2xlarge",
  "kernelspec": {
   "display_name": "conda_python3",
   "language": "python",
   "name": "conda_python3"
  },
  "language_info": {
   "codemirror_mode": {
    "name": "ipython",
    "version": 3
   },
   "file_extension": ".py",
   "mimetype": "text/x-python",
   "name": "python",
   "nbconvert_exporter": "python",
   "pygments_lexer": "ipython3",
   "version": "3.10.14"
  },
  "vscode": {
   "interpreter": {
    "hash": "4b8e647a79df62bf31906a725b05de775d285962ac600487339d38c51a5c07b1"
   }
  }
 },
 "nbformat": 4,
 "nbformat_minor": 5
}
