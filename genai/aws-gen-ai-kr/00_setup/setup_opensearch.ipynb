{
 "cells": [
  {
   "cell_type": "markdown",
   "id": "5da81587-8ae8-4b28-8e79-0facc4b1ff5a",
   "metadata": {},
   "source": [
    "# 필수 패키지 설정 및 OpenSearch 클러스터 생성 (약 40분 소요)\n",
    "> 이 노트북은  SageMaker Studio* **`Data Science 3.0`** kernel 및 ml.t3.medium 인스턴스에서 테스트 되었습니다."
   ]
  },
  {
   "cell_type": "markdown",
   "id": "ec46d4b3-9b7f-4ac4-86c3-7e65bba9ec39",
   "metadata": {},
   "source": [
    "## 0. 필수 사항\n",
    "- 실습을 위해서 노트북을 실행하는 역할(Role) 에 아래 권한이 추가 되어 있어야 합니다.\n",
    "    - AmazonOpenSearchServiceFullAccess\n",
    "    - AmazonSSMFullAccess"
   ]
  },
  {
   "cell_type": "markdown",
   "id": "01357cda-1674-421b-b063-24c7a75d3d64",
   "metadata": {},
   "source": [
    "<br>\n",
    "\n",
    "# 1. OpenSearch Client 생성\n",
    "- 랭체인 오프서치 참고 자료\n",
    "    - [Langchain Opensearch](https://python.langchain.com/docs/integrations/vectorstores/opensearch)\n",
    "\n",
    "#### [주의] OpenSearch 도메인 생성에는 약 15-16분의 시간이 소요됩니다."
   ]
  },
  {
   "cell_type": "code",
   "execution_count": 3,
   "id": "fb22b536-830e-4087-9b06-856a065a11ea",
   "metadata": {
    "tags": []
   },
   "outputs": [],
   "source": [
    "import boto3\n",
    "import uuid\n",
    "import botocore\n",
    "import time\n",
    "DEV = True # True일 경우 1-AZ without standby로 생성, False일 경우 3-AZ with standby. 워크샵 목적일 때는 지나친 과금/리소스 방지를 위해 True로 설정하는 것을 권장\n",
    "VERSION = \"2.11\" # OpenSearch Version (예: 2.7 / 2.9 / 2.11)\n",
    "\n",
    "opensearch_user_id = \"<your id>\" # ex) 'raguser'\n",
    "opensearch_user_password = \"<your password>\" # ex) 'MarsEarth1!'\n",
    "\n",
    "opensearch_user_id = \"raguser\"\n",
    "opensearch_user_password = \"MarsEarth1!\"\n",
    "\n",
    "region = boto3.Session().region_name\n",
    "account_id = boto3.client(\"sts\").get_caller_identity()[\"Account\"]\n",
    "opensearch = boto3.client('opensearch', region)\n",
    "rand_str = uuid.uuid4().hex[:8]\n",
    "domain_name = f'rag-hol-{rand_str}'\n",
    "\n",
    "cluster_config_prod = {\n",
    "    'InstanceCount': 3,\n",
    "    'InstanceType': 'r6g.large.search',\n",
    "    'ZoneAwarenessEnabled': True,\n",
    "    'DedicatedMasterEnabled': True,\n",
    "    'MultiAZWithStandbyEnabled': True,\n",
    "    'DedicatedMasterType': 'r6g.large.search',\n",
    "    'DedicatedMasterCount': 3\n",
    "}\n",
    "\n",
    "cluster_config_dev = {\n",
    "    'InstanceCount': 1,\n",
    "    'InstanceType': 'r6g.large.search',\n",
    "    'ZoneAwarenessEnabled': False,\n",
    "    'DedicatedMasterEnabled': False,\n",
    "}\n",
    "\n",
    "\n",
    "ebs_options = {\n",
    "    'EBSEnabled': True,\n",
    "    'VolumeType': 'gp3',\n",
    "    'VolumeSize': 100,\n",
    "}\n",
    "\n",
    "advanced_security_options = {\n",
    "    'Enabled': True,\n",
    "    'InternalUserDatabaseEnabled': True,\n",
    "    'MasterUserOptions': {\n",
    "        'MasterUserName': opensearch_user_id,\n",
    "        'MasterUserPassword': opensearch_user_password\n",
    "    }\n",
    "}\n",
    "\n",
    "ap = f'{{\\\"Version\\\":\\\"2012-10-17\\\",\\\"Statement\\\":[{{\\\"Effect\\\":\\\"Allow\\\",\\\"Principal\\\":{{\\\"AWS\\\":\\\"*\\\"}},\\\"Action\\\":\\\"es:*\\\",\\\"Resource\\\":\\\"arn:aws:es:{region}:{account_id}:domain\\/{domain_name}\\/*\\\"}}]}}'\n",
    "\n",
    "if DEV:\n",
    "    cluster_config = cluster_config_dev\n",
    "else:\n",
    "    cluster_config = cluster_config_prod\n",
    "\n",
    "response = opensearch.create_domain(\n",
    "    DomainName=domain_name,\n",
    "    EngineVersion=f'OpenSearch_{VERSION}',\n",
    "    ClusterConfig=cluster_config,\n",
    "    AccessPolicies=ap,\n",
    "    EBSOptions=ebs_options,\n",
    "    AdvancedSecurityOptions=advanced_security_options,\n",
    "    NodeToNodeEncryptionOptions={'Enabled': True},\n",
    "    EncryptionAtRestOptions={'Enabled': True},\n",
    "    DomainEndpointOptions={'EnforceHTTPS': True}\n",
    ")"
   ]
  },
  {
   "cell_type": "code",
   "execution_count": 4,
   "id": "43c417ec-f2e1-4c2b-8ae4-180d23477e77",
   "metadata": {
    "tags": []
   },
   "outputs": [
    {
     "name": "stdout",
     "output_type": "stream",
     "text": [
      "Creating domain...\n",
      "Creating domain...\n",
      "Creating domain...\n",
      "Creating domain...\n",
      "Creating domain...\n",
      "Creating domain...\n",
      "Creating domain...\n",
      "Creating domain...\n",
      "Creating domain...\n",
      "Creating domain...\n",
      "Creating domain...\n",
      "Creating domain...\n",
      "Creating domain...\n",
      "Creating domain...\n",
      "Creating domain...\n",
      "Creating domain...\n",
      "Domain endpoint ready to receive data: search-rag-hol-96e7c241-bkmgtnquj3lxujicjpijra3nyi.us-west-2.es.amazonaws.com\n",
      "CPU times: user 312 ms, sys: 10.3 ms, total: 322 ms\n",
      "Wall time: 16min 3s\n"
     ]
    }
   ],
   "source": [
    "%%time\n",
    "def wait_for_domain_creation(domain_name):\n",
    "    try:\n",
    "        response = opensearch.describe_domain(\n",
    "            DomainName=domain_name\n",
    "        )\n",
    "        # Every 60 seconds, check whether the domain is processing.\n",
    "        while 'Endpoint' not in response['DomainStatus']:\n",
    "            print('Creating domain...')\n",
    "            time.sleep(60)\n",
    "            response = opensearch.describe_domain(\n",
    "                DomainName=domain_name)\n",
    "\n",
    "        # Once we exit the loop, the domain is ready for ingestion.\n",
    "        endpoint = response['DomainStatus']['Endpoint']\n",
    "        print('Domain endpoint ready to receive data: ' + endpoint)\n",
    "    except botocore.exceptions.ClientError as error:\n",
    "        if error.response['Error']['Code'] == 'ResourceNotFoundException':\n",
    "            print('Domain not found.')\n",
    "        else:\n",
    "            raise error\n",
    "\n",
    "wait_for_domain_creation(domain_name)"
   ]
  },
  {
   "cell_type": "code",
   "execution_count": 5,
   "id": "2eee9b9c-0e8d-4a64-8208-ed2a254efbca",
   "metadata": {
    "tags": []
   },
   "outputs": [],
   "source": [
    "response = opensearch.describe_domain(DomainName=domain_name)\n",
    "opensearch_domain_endpoint = f\"https://{response['DomainStatus']['Endpoint']}\""
   ]
  },
  {
   "cell_type": "markdown",
   "id": "ee5ff6a3-1870-41f5-97cd-52da554ceb7e",
   "metadata": {
    "tags": []
   },
   "source": [
    "### OpenSearch 인증정보 ssm에 저장하기"
   ]
  },
  {
   "cell_type": "code",
   "execution_count": 6,
   "id": "d0330047-ec3d-461e-b42c-f2ff975eb8d8",
   "metadata": {
    "tags": []
   },
   "outputs": [],
   "source": [
    "%load_ext autoreload\n",
    "%autoreload 2"
   ]
  },
  {
   "cell_type": "code",
   "execution_count": 7,
   "id": "f6516e61-b944-4ce2-91b8-68863e55d9de",
   "metadata": {
    "tags": []
   },
   "outputs": [],
   "source": [
    "import sys, os\n",
    "module_path = \"..\"\n",
    "sys.path.append(os.path.abspath(module_path))"
   ]
  },
  {
   "cell_type": "code",
   "execution_count": 8,
   "id": "1bb7102f-f908-4d5f-9c9e-5ba5e386ce9e",
   "metadata": {
    "tags": []
   },
   "outputs": [],
   "source": [
    "import boto3\n",
    "from utils.ssm import parameter_store"
   ]
  },
  {
   "cell_type": "code",
   "execution_count": 9,
   "id": "1720e56e-e0e3-415b-bd62-347ee6d13ce2",
   "metadata": {
    "tags": []
   },
   "outputs": [],
   "source": [
    "region=boto3.Session().region_name\n",
    "pm = parameter_store(region)"
   ]
  },
  {
   "cell_type": "code",
   "execution_count": 10,
   "id": "4de80db8-4942-4758-b6ab-870fbf71649f",
   "metadata": {
    "tags": []
   },
   "outputs": [
    {
     "data": {
      "text/plain": [
       "'https://search-rag-hol-96e7c241-bkmgtnquj3lxujicjpijra3nyi.us-west-2.es.amazonaws.com'"
      ]
     },
     "execution_count": 10,
     "metadata": {},
     "output_type": "execute_result"
    }
   ],
   "source": [
    "opensearch_domain_endpoint"
   ]
  },
  {
   "cell_type": "code",
   "execution_count": 12,
   "id": "a8a709bc-5ac8-420b-86d2-7f998d56da30",
   "metadata": {
    "tags": []
   },
   "outputs": [
    {
     "name": "stdout",
     "output_type": "stream",
     "text": [
      "Parameter stored successfully.\n",
      "Parameter stored successfully.\n",
      "Parameter stored successfully.\n"
     ]
    }
   ],
   "source": [
    "pm.put_params(\n",
    "    key=\"opensearch_domain_endpoint\",\n",
    "    value=f'{opensearch_domain_endpoint}',\n",
    "    overwrite=True,\n",
    "    enc=False\n",
    ")\n",
    "\n",
    "pm.put_params(\n",
    "    key=\"opensearch_user_id\",\n",
    "    value=f'{opensearch_user_id}',\n",
    "    overwrite=True,\n",
    "    enc=False\n",
    ")\n",
    "\n",
    "pm.put_params(\n",
    "    key=\"opensearch_user_password\",\n",
    "    value=f'{opensearch_user_password}',\n",
    "    overwrite=True,\n",
    "    enc=True\n",
    ")"
   ]
  },
  {
   "cell_type": "markdown",
   "id": "febef7cc-5c03-454c-9414-13d8e21722a8",
   "metadata": {},
   "source": [
    "### ssm기반 OpenSearch 인증정보 불러오기"
   ]
  },
  {
   "cell_type": "code",
   "execution_count": 13,
   "id": "5437ae93-e84c-42f7-bc9b-e155de01f4f0",
   "metadata": {
    "tags": []
   },
   "outputs": [
    {
     "name": "stdout",
     "output_type": "stream",
     "text": [
      "https://search-rag-hol-96e7c241-bkmgtnquj3lxujicjpijra3nyi.us-west-2.es.amazonaws.com\n",
      "raguser\n",
      "MarsEarth1!\n"
     ]
    }
   ],
   "source": [
    "print (pm.get_params(key=\"opensearch_domain_endpoint\", enc=False))\n",
    "print (pm.get_params(key=\"opensearch_user_id\", enc=False))\n",
    "print (pm.get_params(key=\"opensearch_user_password\", enc=True))"
   ]
  },
  {
   "cell_type": "markdown",
   "id": "78b92cbd-bbcd-4ecd-82cb-b009417ae448",
   "metadata": {},
   "source": [
    "<br>\n",
    "\n",
    "# 2. 한국어 분석을 위한 노리(Nori) 플러그인 설치\n",
    "Amazon OpenSearch Service에서 유명한 오픈 소스 한국어 텍스트 분석기인 노리(Nori) 플러그인을 지원합니다. 기존에 지원하던 은전한닢(Seunjeon) 플러그인과 더불어 노리를 활용하면 개발자가 한국 문서에 대해 전문 검색을 쉽게 구현할 수 있습니다.\n",
    "\n",
    "이와 함께, 중국어 분석을 위한 Pinyin 플러그인과 STConvert 플러그인, 그리고 일본어 분석을 위한 Sudachi 플러그인도 추가됐습니다.\n",
    "노리 플러그인은 OpenSearch 1.0 이상 버전을 실행하는 신규 도메인과 기존 도메인에서 사용 가능합니다.\n",
    "\n",
    "#### Option 1. AWS 콘솔 수동 설치\n",
    "../10_advanced_question_answering/img 폴더의 nori_1.png, nori_2.png, nori_3.png 를 참조하여 직접 설치합니다.\n",
    "\n",
    "#### Option 2. boto3 API로 설치\n",
    "아래 코드 셀을 실행합니다.\n",
    "\n",
    "#### [주의] 노리 플러그인 연동에는 약 25-27분의 시간이 소요됩니다."
   ]
  },
  {
   "cell_type": "code",
   "execution_count": 14,
   "id": "3ae9ec61-90e9-4bee-b51f-b4f732ffd301",
   "metadata": {
    "tags": []
   },
   "outputs": [],
   "source": [
    "nori_pkg_id = {}\n",
    "nori_pkg_id['us-east-1'] = {\n",
    "    '2.3': 'G196105221',\n",
    "    '2.5': 'G240285063',\n",
    "    '2.7': 'G16029449', \n",
    "    '2.9': 'G60209291',\n",
    "    '2.11': 'G181660338'\n",
    "}\n",
    "\n",
    "nori_pkg_id['us-west-2'] = {\n",
    "    '2.3': 'G94047474',\n",
    "    '2.5': 'G138227316',\n",
    "    '2.7': 'G182407158', \n",
    "    '2.9': 'G226587000',\n",
    "    '2.11': 'G79602591'\n",
    "}\n",
    "\n",
    "pkg_response = opensearch.associate_package(\n",
    "    PackageID=nori_pkg_id[region][VERSION], # nori plugin\n",
    "    DomainName=domain_name\n",
    ")"
   ]
  },
  {
   "cell_type": "code",
   "execution_count": 15,
   "id": "9d00ceea-01fe-40c1-9a0d-debcc152e4e2",
   "metadata": {
    "tags": []
   },
   "outputs": [
    {
     "name": "stdout",
     "output_type": "stream",
     "text": [
      "Associating packages...\n",
      "Associating packages...\n",
      "Associating packages...\n",
      "Associating packages...\n",
      "Associating packages...\n",
      "Associating packages...\n",
      "Associating packages...\n",
      "Associating packages...\n",
      "Associating packages...\n",
      "Associating packages...\n",
      "Associating packages...\n",
      "Associating packages...\n",
      "Associating packages...\n",
      "Associating packages...\n",
      "Associating packages...\n",
      "Associating packages...\n",
      "Associating packages...\n",
      "Associating packages...\n",
      "Associating packages...\n",
      "Associating packages...\n",
      "Associating packages...\n",
      "Associating packages...\n",
      "Associating packages...\n",
      "Associating packages...\n",
      "Associating packages...\n",
      "Associating packages...\n",
      "Associating packages...\n",
      "Associating packages...\n",
      "Associating packages...\n",
      "Associating packages...\n",
      "Associated!\n",
      "CPU times: user 582 ms, sys: 44.7 ms, total: 627 ms\n",
      "Wall time: 30min 4s\n"
     ]
    }
   ],
   "source": [
    "%%time\n",
    "def wait_for_associate_package(domain_name, max_results=1):\n",
    "\n",
    "    response = opensearch.list_packages_for_domain(\n",
    "        DomainName=domain_name,\n",
    "        MaxResults=1\n",
    "    )\n",
    "    # Every 60 seconds, check whether the domain is processing.\n",
    "    while response['DomainPackageDetailsList'][0]['DomainPackageStatus'] == \"ASSOCIATING\":\n",
    "        print('Associating packages...')\n",
    "        time.sleep(60)\n",
    "        response = opensearch.list_packages_for_domain(\n",
    "            DomainName=domain_name,\n",
    "            MaxResults=1\n",
    "        )\n",
    "\n",
    "    #endpoint = response['DomainStatus']['Endpoint']\n",
    "    print('Associated!')\n",
    "\n",
    "wait_for_associate_package(domain_name)"
   ]
  },
  {
   "cell_type": "markdown",
   "id": "0345faca-184f-4b44-bea2-c6e6df978d82",
   "metadata": {},
   "source": [
    "![nn](../10_advanced_question_answering/img/nori_4.png)"
   ]
  },
  {
   "cell_type": "code",
   "execution_count": 16,
   "id": "54431431-6107-4b07-831c-a031a8c5493d",
   "metadata": {
    "tags": []
   },
   "outputs": [
    {
     "name": "stdout",
     "output_type": "stream",
     "text": [
      "langchain                             0.1.11\n",
      "langchain-community                   0.0.25\n",
      "langchain-core                        0.1.29\n",
      "langchain-text-splitters              0.0.1\n",
      "opensearch-py                         2.4.2\n"
     ]
    }
   ],
   "source": [
    "! pip list | grep langchain\n",
    "! pip list | grep opensearch"
   ]
  },
  {
   "cell_type": "code",
   "execution_count": null,
   "id": "20270d7f-9eca-4744-adee-ef4d95fd53c0",
   "metadata": {},
   "outputs": [],
   "source": []
  }
 ],
 "metadata": {
  "kernelspec": {
   "display_name": "conda_python3",
   "language": "python",
   "name": "conda_python3"
  },
  "language_info": {
   "codemirror_mode": {
    "name": "ipython",
    "version": 3
   },
   "file_extension": ".py",
   "mimetype": "text/x-python",
   "name": "python",
   "nbconvert_exporter": "python",
   "pygments_lexer": "ipython3",
   "version": "3.10.12"
  },
  "vscode": {
   "interpreter": {
    "hash": "4b8e647a79df62bf31906a725b05de775d285962ac600487339d38c51a5c07b1"
   }
  }
 },
 "nbformat": 4,
 "nbformat_minor": 5
}
