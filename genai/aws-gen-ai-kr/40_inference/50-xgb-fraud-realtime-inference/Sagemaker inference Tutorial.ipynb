{
 "cells": [
  {
   "cell_type": "markdown",
   "id": "33e3f442-8f35-402f-a20e-765c7b485c21",
   "metadata": {},
   "source": [
    "# **[Deploy a Machine Learning Model to a Real-Time Inference Endpoint](https://aws.amazon.com/tutorials/machine-learning-tutorial-deploy-model-to-real-time-inference-endpoint/)** \n",
    "\n",
    "Amazon SageMaker를 사용하면 콘솔을 사용하여 시각적으로 모델을 배포하거나 SageMaker Studio 또는 SageMaker 노트북을 사용하여 프로그래밍 방식으로 모델을 배포할 수 있습니다. 이 튜토리얼에서는 SageMaker Studio 도메인이 필요한 SageMaker Studio 노트북을 사용하여 프로그래밍 방식으로 모델을 배포합니다. \n",
    "\n",
    "AWS 계정에는 AWS 리전당 여러 개의 Studio 도메인을 가질 수 있습니다. 미국 동부(버지니아 북부, us-east-1) 지역에 이미 SageMaker Studio 도메인이 있는 경우 SageMaker Studio 설정 가이드에 따라 필요한 AWS IAM 정책을 SageMaker Studio 계정에 첨부한 다음 바로 진행합니다. \n",
    "\n",
    "기존 SageMaker Studio 도메인이 없는 경우 SageMaker Studio 도메인을 생성하고 이 자습서의 나머지 부분에 필요한 권한을 추가하는 [AWS CloudFormation](https://us-east-1.console.aws.amazon.com/cloudformation/home?region=us-east-1#/stacks/quickcreate?templateURL=https://sagemaker-sample-files.s3.amazonaws.com/libraries/sagemaker-user-journey-tutorials/CFN-SM-IM-Lambda-catalog.yaml&stackName=CFN-SM-IM-Lambda-Catalog) 템플릿을 실행합니다.\n",
    "\n",
    "CloudFromation 스택이름을 **CFN-SM-IM-Lambda-Catalog** 로 변경하지 마시고 10분정도 기다리시면 **SageMaker > studio > StudioDomain 선택후 studio-user** 로 시작합니다. 자세한 안내는 [Deploy a Machine Learning Model to a Real-Time Inference Endpoint](https://aws.amazon.com/tutorials/machine-learning-tutorial-deploy-model-to-real-time-inference-endpoint/) 참고하세요.  "
   ]
  },
  {
   "cell_type": "code",
   "execution_count": 30,
   "id": "5eb5228e-fb05-4b66-966c-ee7872f808f7",
   "metadata": {
    "tags": []
   },
   "outputs": [
    {
     "name": "stdout",
     "output_type": "stream",
     "text": [
      "\u001b[33mWARNING: Running pip as the 'root' user can result in broken permissions and conflicting behaviour with the system package manager, possibly rendering your system unusable.It is recommended to use a virtual environment instead: https://pip.pypa.io/warnings/venv. Use the --root-user-action option if you know what you are doing and want to suppress this warning.\u001b[0m\u001b[33m\n",
      "\u001b[0mNote: you may need to restart the kernel to use updated packages.\n"
     ]
    }
   ],
   "source": [
    "%pip install --upgrade -q aiobotocore"
   ]
  },
  {
   "cell_type": "code",
   "execution_count": 31,
   "id": "8f4a2c98-44e8-4545-8ae3-4b6f72750fc2",
   "metadata": {
    "tags": []
   },
   "outputs": [],
   "source": [
    "import pandas as pd\n",
    "import numpy as np\n",
    "import boto3\n",
    "import sagemaker\n",
    "import time\n",
    "import json\n",
    "import io\n",
    "from io import StringIO\n",
    "import base64\n",
    "import pprint\n",
    "import re\n",
    "\n",
    "from sagemaker.image_uris import retrieve\n",
    "\n",
    "sess = sagemaker.Session()\n",
    "write_bucket = sess.default_bucket()\n",
    "write_prefix = \"fraud-detect-demo\"\n",
    "\n",
    "region = sess.boto_region_name\n",
    "s3_client = boto3.client(\"s3\", region_name=region)\n",
    "sm_client = boto3.client(\"sagemaker\", region_name=region)\n",
    "sm_runtime_client = boto3.client(\"sagemaker-runtime\")\n",
    "sm_autoscaling_client = boto3.client(\"application-autoscaling\")\n",
    "\n",
    "sagemaker_role = sagemaker.get_execution_role()\n",
    "\n",
    "\n",
    "# S3 locations used for parameterizing the notebook run\n",
    "read_bucket = \"sagemaker-sample-files\"\n",
    "read_prefix = \"datasets/tabular/synthetic_automobile_claims\" \n",
    "model_prefix = \"models/xgb-fraud\"\n",
    "\n",
    "data_capture_key = f\"{write_prefix}/data-capture\"\n",
    "\n",
    "# S3 location of trained model artifact\n",
    "model_uri = f\"s3://{read_bucket}/{model_prefix}/fraud-det-xgb-model.tar.gz\"\n",
    "\n",
    "# S3 path where data captured at endpoint will be stored\n",
    "data_capture_uri = f\"s3://{write_bucket}/{data_capture_key}\"\n",
    "\n",
    "# S3 location of test data\n",
    "test_data_uri = f\"s3://{read_bucket}/{read_prefix}/test.csv\" "
   ]
  },
  {
   "cell_type": "code",
   "execution_count": 32,
   "id": "583e450f-c1c0-4f7d-a1fb-a858138957ae",
   "metadata": {
    "tags": []
   },
   "outputs": [
    {
     "name": "stdout",
     "output_type": "stream",
     "text": [
      " sagemaker_role : arn:aws:iam::720025708473:role/CFN-SM-IM-Lambda-Catalog-SageMakerExecutionRole-XRg8SB5ffteM\n"
     ]
    }
   ],
   "source": [
    "print(f' sagemaker_role : {sagemaker_role}')"
   ]
  },
  {
   "cell_type": "markdown",
   "id": "17f7571b-8371-4571-a977-a2713e6da52f",
   "metadata": {
    "tags": []
   },
   "source": [
    "SageMaker에서는 학습된 모델을 실시간 추론 엔드포인트에 배포하는 여러 가지 방법이 있습니다: [SageMaker SDK](https://sagemaker.readthedocs.io/en/stable/v2.html), [AWS SDK](https://boto3.amazonaws.com/v1/documentation/api/latest/reference/services/sagemaker.html) - Boto3 및 SageMaker 콘솔. 자세한 내용은 Amazon SageMaker 개발자 가이드에서 [추론을 위한 모델 배포하기](https://docs.aws.amazon.com/sagemaker/latest/dg/deploy-model.html)를 참조하세요. SageMaker SDK는 AWS SDK - Boto3에 비해 추상화가 더 많으며, 후자는 모델 배포를 더 잘 제어할 수 있도록 하위 수준 API를 노출합니다. 이 튜토리얼에서는 AWS SDK -Boto3를 사용하여 모델을 배포합니다. 모델을 배포하려면 다음 세 단계를 순서대로 따라야 합니다:\n",
    "\n",
    "1. 모델 아티팩트에서 SageMaker 모델 만들기\n",
    "2. 인스턴스 유형 및 개수를 포함한 속성을 지정하는 엔드포인트 구성(endpoint configuration)을 생성합니다.\n",
    "3. 엔드포인트 구성을 사용하여 엔드포인트(endpoint) 생성"
   ]
  },
  {
   "cell_type": "code",
   "execution_count": 33,
   "id": "780da2d9-8621-40bf-9f42-8a627f04bd11",
   "metadata": {
    "tags": []
   },
   "outputs": [],
   "source": [
    "# Retrieve the SageMaker managed XGBoost image\n",
    "training_image = retrieve(framework=\"xgboost\", region=region, version=\"1.3-1\")\n",
    "\n",
    "# Specify a unique model name that does not exist\n",
    "model_name = \"fraud-detect-xgb\"\n",
    "primary_container = {\n",
    "                     \"Image\": training_image,\n",
    "                     \"ModelDataUrl\": model_uri\n",
    "                    }\n",
    "\n",
    "model_matches = sm_client.list_models(NameContains=model_name)[\"Models\"]\n",
    "if not model_matches:\n",
    "    model = sm_client.create_model(ModelName=model_name,\n",
    "                                   PrimaryContainer=primary_container,\n",
    "                                   ExecutionRoleArn=sagemaker_role)\n",
    "else:\n",
    "    print(f\"Model with name {model_name} already exists! Change model name to create new\")"
   ]
  },
  {
   "cell_type": "markdown",
   "id": "45110f8a-fe20-4961-bd6f-1aca864c7b8b",
   "metadata": {},
   "source": [
    "SageMaker 모델이 생성된 후, 다음 코드를 복사하여 붙여넣기하여 **Boto3 create_endpoint_config** 메서드를 사용하여 엔드포인트를 구성합니다. **create_endpoint_config** 메서드의 주요 입력은 엔드포인트 구성 이름과 추론 인스턴스 유형 및 수와 같은 변형 정보, 배포할 모델의 이름, 엔드포인트가 처리해야 하는 트래픽 공유입니다. 이러한 설정과 함께 **DataCaptureConfig**를 지정하여 데이터 캡처를 설정할 수도 있습니다. 이 기능을 사용하면 실시간 엔드포인트가 요청 및/또는 응답을 캡처하여 Amazon S3에 저장하도록 구성할 수 있습니다. 데이터 캡처는 모델 모니터링을 설정하는 단계 중 하나이며, 기준 메트릭 및 모니터링 작업과 결합하면 테스트 데이터 메트릭과 기준선을 비교하여 [모델 성능을 모니터링](https://docs.aws.amazon.com/sagemaker/latest/dg/model-monitor.html)하는 데 도움이 됩니다. 이러한 모니터링은 모델 또는 데이터 드리프트 및 감사 목적에 따라 모델 재교육을 예약하는 데 유용합니다. 현재 설정에서는 입력(수신 테스트 데이터)과 출력(모델 예측)이 모두 캡처되어 기본 S3 버킷에 저장됩니다."
   ]
  },
  {
   "cell_type": "code",
   "execution_count": 34,
   "id": "4223cfd6-6b9a-44d2-b858-ca120ef97b6b",
   "metadata": {
    "tags": []
   },
   "outputs": [
    {
     "name": "stdout",
     "output_type": "stream",
     "text": [
      "Endpoint config with name fraud-detect-xgb-endpoint-config already exists! Change endpoint config name to create new\n"
     ]
    }
   ],
   "source": [
    "# Endpoint Config name\n",
    "endpoint_config_name = f\"{model_name}-endpoint-config\"\n",
    "\n",
    "# Endpoint config parameters\n",
    "production_variant_dict = {\n",
    "                           \"VariantName\": \"Alltraffic\",\n",
    "                           \"ModelName\": model_name,\n",
    "                           \"InitialInstanceCount\": 1,\n",
    "                           \"InstanceType\": \"ml.m5.xlarge\",\n",
    "                           \"InitialVariantWeight\": 1\n",
    "                          }\n",
    "\n",
    "# Data capture config parameters\n",
    "data_capture_config_dict = {\n",
    "                            \"EnableCapture\": True,\n",
    "                            \"InitialSamplingPercentage\": 100,\n",
    "                            \"DestinationS3Uri\": data_capture_uri,\n",
    "                            \"CaptureOptions\": [{\"CaptureMode\" : \"Input\"}, {\"CaptureMode\" : \"Output\"}]\n",
    "                           }\n",
    "\n",
    "\n",
    "# Create endpoint config if one with the same name does not exist\n",
    "endpoint_config_matches = sm_client.list_endpoint_configs(NameContains=endpoint_config_name)[\"EndpointConfigs\"]\n",
    "if not endpoint_config_matches:\n",
    "    endpoint_config_response = sm_client.create_endpoint_config(\n",
    "                                                                EndpointConfigName=endpoint_config_name,\n",
    "                                                                ProductionVariants=[production_variant_dict],\n",
    "                                                                DataCaptureConfig=data_capture_config_dict\n",
    "                                                               )\n",
    "else:\n",
    "\t\tprint(f\"Endpoint config with name {endpoint_config_name} already exists! Change endpoint config name to create new\")"
   ]
  },
  {
   "cell_type": "markdown",
   "id": "5be4d711-7a7b-4500-8440-62ee13410ff4",
   "metadata": {},
   "source": [
    "다음 코드를 복사하여 붙여넣어 엔드포인트를 만듭니다. create_endpoint 메서드는 엔드포인트 구성을 매개변수로 받아 엔드포인트 구성에 지정된 모델을 컴퓨트 인스턴스에 배포합니다. 모델을 배포하는 데 약 6분이 소요됩니다.\n"
   ]
  },
  {
   "cell_type": "code",
   "execution_count": 35,
   "id": "3088476c-b3d8-41d0-a5d9-2b385612953f",
   "metadata": {
    "tags": []
   },
   "outputs": [
    {
     "name": "stdout",
     "output_type": "stream",
     "text": [
      "Endpoint with name fraud-detect-xgb-endpoint already exists! Change endpoint name to create new\n",
      "Endpoint Status: InService\n"
     ]
    }
   ],
   "source": [
    "endpoint_name = f\"{model_name}-endpoint\"\n",
    "\n",
    "endpoint_matches = sm_client.list_endpoints(NameContains=endpoint_name)[\"Endpoints\"]\n",
    "if not endpoint_matches:\n",
    "    endpoint_response = sm_client.create_endpoint(\n",
    "                                                  EndpointName=endpoint_name,\n",
    "                                                  EndpointConfigName=endpoint_config_name\n",
    "                                                 )\n",
    "else:\n",
    "    print(f\"Endpoint with name {endpoint_name} already exists! Change endpoint name to create new\")\n",
    "\n",
    "resp = sm_client.describe_endpoint(EndpointName=endpoint_name)\n",
    "status = resp[\"EndpointStatus\"]\n",
    "while status == \"Creating\":\n",
    "    print(f\"Endpoint Status: {status}...\")\n",
    "    time.sleep(60)\n",
    "    resp = sm_client.describe_endpoint(EndpointName=endpoint_name)\n",
    "    status = resp[\"EndpointStatus\"]\n",
    "print(f\"Endpoint Status: {status}\")"
   ]
  },
  {
   "cell_type": "markdown",
   "id": "bdef2d3f-4da4-4208-aba3-30bfb745c0fe",
   "metadata": {},
   "source": [
    "엔드포인트 상태가 서비스 중으로 변경된 후 REST API, AWS SDK - Boto3, SageMaker Studio, AWS CLI 또는 SageMaker Python SDK를 사용하여 엔드포인트를 호출할 수 있습니다. 이 튜토리얼에서는 AWS SDK - Boto3를 사용합니다. 엔드포인트를 호출하기 전에 직렬화 및 역직렬화를 사용하여 테스트 데이터를 엔드포인트에 적합하게 포맷하는 것이 중요합니다. 직렬화는 .csv와 같은 형식의 원시 데이터를 엔드포인트에서 사용할 수 있는 바이트 스트림으로 변환하는 프로세스입니다. 역직렬화는 바이트 스트림을 사람이 읽을 수 있는 형식으로 변환하는 역방향 프로세스입니다. 이 튜토리얼에서는 테스트 데이터 세트에서 처음 5개의 샘플을 전송하여 엔드포인트를 호출합니다. 엔드포인트를 호출하고 예측 결과를 얻으려면 다음 코드를 복사하여 붙여넣으세요. 엔드포인트(테스트 데이터 세트)에 대한 요청은 .csv 형식이므로, 페이로드를 생성하기 위해 csv 직렬화 프로세스가 사용됩니다. 그런 다음 응답을 예측 배열로 역직렬화합니다. 실행이 완료되면 셀은 모델 예측과 테스트 샘플에 대한 실제 레이블을 반환합니다. XGBoost 모델은 실제 클래스 레이블 대신 확률을 반환한다는 점에 주목하세요. 이 모델은 테스트 샘플이 허위 청구일 가능성이 매우 낮다고 예측했으며, 예측은 실제 레이블과 일치합니다.\n"
   ]
  },
  {
   "cell_type": "code",
   "execution_count": 36,
   "id": "42114fae-7751-4c2f-8c1e-776aa98394bf",
   "metadata": {
    "tags": []
   },
   "outputs": [
    {
     "data": {
      "text/html": [
       "<div>\n",
       "<style scoped>\n",
       "    .dataframe tbody tr th:only-of-type {\n",
       "        vertical-align: middle;\n",
       "    }\n",
       "\n",
       "    .dataframe tbody tr th {\n",
       "        vertical-align: top;\n",
       "    }\n",
       "\n",
       "    .dataframe thead th {\n",
       "        text-align: right;\n",
       "    }\n",
       "</style>\n",
       "<table border=\"1\" class=\"dataframe\">\n",
       "  <thead>\n",
       "    <tr style=\"text-align: right;\">\n",
       "      <th></th>\n",
       "      <th>Prediction</th>\n",
       "      <th>Label</th>\n",
       "    </tr>\n",
       "  </thead>\n",
       "  <tbody>\n",
       "    <tr>\n",
       "      <th>0</th>\n",
       "      <td>0.02243666537106037</td>\n",
       "      <td>0</td>\n",
       "    </tr>\n",
       "    <tr>\n",
       "      <th>1</th>\n",
       "      <td>0.02243666537106037</td>\n",
       "      <td>0</td>\n",
       "    </tr>\n",
       "    <tr>\n",
       "      <th>2</th>\n",
       "      <td>0.0799826979637146</td>\n",
       "      <td>0</td>\n",
       "    </tr>\n",
       "    <tr>\n",
       "      <th>3</th>\n",
       "      <td>0.13931523263454437</td>\n",
       "      <td>0</td>\n",
       "    </tr>\n",
       "    <tr>\n",
       "      <th>4</th>\n",
       "      <td>0.03112351894378662</td>\n",
       "      <td>0</td>\n",
       "    </tr>\n",
       "  </tbody>\n",
       "</table>\n",
       "</div>"
      ],
      "text/plain": [
       "            Prediction  Label\n",
       "0  0.02243666537106037      0\n",
       "1  0.02243666537106037      0\n",
       "2   0.0799826979637146      0\n",
       "3  0.13931523263454437      0\n",
       "4  0.03112351894378662      0"
      ]
     },
     "execution_count": 36,
     "metadata": {},
     "output_type": "execute_result"
    }
   ],
   "source": [
    "# Fetch test data to run predictions with the endpoint\n",
    "test_df = pd.read_csv(test_data_uri)\n",
    "\n",
    "# For content type text/csv, payload should be a string with commas separating the values for each feature\n",
    "# This is the inference request serialization step\n",
    "# CSV serialization\n",
    "csv_file = io.StringIO()\n",
    "test_sample = test_df.drop([\"fraud\"], axis=1).iloc[:5]\n",
    "test_sample.to_csv(csv_file, sep=\",\", header=False, index=False)\n",
    "payload = csv_file.getvalue()\n",
    "response = sm_runtime_client.invoke_endpoint(\n",
    "                                             EndpointName=endpoint_name,\n",
    "                                             Body=payload,\n",
    "                                             ContentType=\"text/csv\",\n",
    "                                             Accept=\"text/csv\"\n",
    "                                            )\n",
    "\n",
    "# This is the inference response deserialization step\n",
    "# This is a bytes object\n",
    "result = response[\"Body\"].read()\n",
    "# Decoding bytes to a string\n",
    "result = result.decode(\"utf-8\")\n",
    "# Converting to list of predictions\n",
    "result = re.split(\",|\\n\",result)\n",
    "\n",
    "prediction_df = pd.DataFrame()\n",
    "prediction_df[\"Prediction\"] = result[:5]\n",
    "prediction_df[\"Label\"] = test_df[\"fraud\"].iloc[:5].values\n",
    "prediction_df \n"
   ]
  },
  {
   "cell_type": "code",
   "execution_count": 37,
   "id": "f80b3b70-ac69-4176-838f-2683928f0a9f",
   "metadata": {
    "tags": []
   },
   "outputs": [
    {
     "data": {
      "text/html": [
       "<div>\n",
       "<style scoped>\n",
       "    .dataframe tbody tr th:only-of-type {\n",
       "        vertical-align: middle;\n",
       "    }\n",
       "\n",
       "    .dataframe tbody tr th {\n",
       "        vertical-align: top;\n",
       "    }\n",
       "\n",
       "    .dataframe thead th {\n",
       "        text-align: right;\n",
       "    }\n",
       "</style>\n",
       "<table border=\"1\" class=\"dataframe\">\n",
       "  <thead>\n",
       "    <tr style=\"text-align: right;\">\n",
       "      <th></th>\n",
       "      <th>fraud</th>\n",
       "      <th>num_vehicles_involved</th>\n",
       "      <th>num_injuries</th>\n",
       "      <th>num_witnesses</th>\n",
       "      <th>police_report_available</th>\n",
       "      <th>injury_claim</th>\n",
       "      <th>vehicle_claim</th>\n",
       "      <th>total_claim_amount</th>\n",
       "      <th>incident_month</th>\n",
       "      <th>incident_day</th>\n",
       "      <th>...</th>\n",
       "      <th>authorities_contacted_ambulance</th>\n",
       "      <th>policy_state_ca</th>\n",
       "      <th>policy_state_az</th>\n",
       "      <th>policy_state_nv</th>\n",
       "      <th>policy_state_id</th>\n",
       "      <th>policy_state_wa</th>\n",
       "      <th>policy_state_or</th>\n",
       "      <th>customer_gender_other</th>\n",
       "      <th>customer_gender_male</th>\n",
       "      <th>customer_gender_female</th>\n",
       "    </tr>\n",
       "  </thead>\n",
       "  <tbody>\n",
       "    <tr>\n",
       "      <th>0</th>\n",
       "      <td>0</td>\n",
       "      <td>2</td>\n",
       "      <td>0</td>\n",
       "      <td>0</td>\n",
       "      <td>1</td>\n",
       "      <td>58400</td>\n",
       "      <td>14247.766867</td>\n",
       "      <td>72647.766867</td>\n",
       "      <td>7</td>\n",
       "      <td>29</td>\n",
       "      <td>...</td>\n",
       "      <td>0</td>\n",
       "      <td>1</td>\n",
       "      <td>0</td>\n",
       "      <td>0</td>\n",
       "      <td>0</td>\n",
       "      <td>0</td>\n",
       "      <td>0</td>\n",
       "      <td>0</td>\n",
       "      <td>0</td>\n",
       "      <td>1</td>\n",
       "    </tr>\n",
       "    <tr>\n",
       "      <th>1</th>\n",
       "      <td>0</td>\n",
       "      <td>2</td>\n",
       "      <td>0</td>\n",
       "      <td>2</td>\n",
       "      <td>0</td>\n",
       "      <td>11500</td>\n",
       "      <td>10675.671347</td>\n",
       "      <td>22175.671347</td>\n",
       "      <td>11</td>\n",
       "      <td>28</td>\n",
       "      <td>...</td>\n",
       "      <td>0</td>\n",
       "      <td>1</td>\n",
       "      <td>0</td>\n",
       "      <td>0</td>\n",
       "      <td>0</td>\n",
       "      <td>0</td>\n",
       "      <td>0</td>\n",
       "      <td>0</td>\n",
       "      <td>0</td>\n",
       "      <td>1</td>\n",
       "    </tr>\n",
       "    <tr>\n",
       "      <th>2</th>\n",
       "      <td>0</td>\n",
       "      <td>2</td>\n",
       "      <td>0</td>\n",
       "      <td>0</td>\n",
       "      <td>1</td>\n",
       "      <td>18500</td>\n",
       "      <td>10202.266354</td>\n",
       "      <td>28702.266354</td>\n",
       "      <td>1</td>\n",
       "      <td>6</td>\n",
       "      <td>...</td>\n",
       "      <td>0</td>\n",
       "      <td>1</td>\n",
       "      <td>0</td>\n",
       "      <td>0</td>\n",
       "      <td>0</td>\n",
       "      <td>0</td>\n",
       "      <td>0</td>\n",
       "      <td>0</td>\n",
       "      <td>1</td>\n",
       "      <td>0</td>\n",
       "    </tr>\n",
       "    <tr>\n",
       "      <th>3</th>\n",
       "      <td>0</td>\n",
       "      <td>1</td>\n",
       "      <td>0</td>\n",
       "      <td>0</td>\n",
       "      <td>0</td>\n",
       "      <td>16300</td>\n",
       "      <td>9338.348066</td>\n",
       "      <td>25638.348066</td>\n",
       "      <td>9</td>\n",
       "      <td>1</td>\n",
       "      <td>...</td>\n",
       "      <td>0</td>\n",
       "      <td>1</td>\n",
       "      <td>0</td>\n",
       "      <td>0</td>\n",
       "      <td>0</td>\n",
       "      <td>0</td>\n",
       "      <td>0</td>\n",
       "      <td>0</td>\n",
       "      <td>1</td>\n",
       "      <td>0</td>\n",
       "    </tr>\n",
       "    <tr>\n",
       "      <th>4</th>\n",
       "      <td>0</td>\n",
       "      <td>2</td>\n",
       "      <td>1</td>\n",
       "      <td>0</td>\n",
       "      <td>0</td>\n",
       "      <td>14700</td>\n",
       "      <td>28145.924994</td>\n",
       "      <td>42845.924994</td>\n",
       "      <td>10</td>\n",
       "      <td>23</td>\n",
       "      <td>...</td>\n",
       "      <td>1</td>\n",
       "      <td>0</td>\n",
       "      <td>0</td>\n",
       "      <td>0</td>\n",
       "      <td>0</td>\n",
       "      <td>0</td>\n",
       "      <td>1</td>\n",
       "      <td>0</td>\n",
       "      <td>1</td>\n",
       "      <td>0</td>\n",
       "    </tr>\n",
       "  </tbody>\n",
       "</table>\n",
       "<p>5 rows × 49 columns</p>\n",
       "</div>"
      ],
      "text/plain": [
       "   fraud  num_vehicles_involved  num_injuries  num_witnesses  \\\n",
       "0      0                      2             0              0   \n",
       "1      0                      2             0              2   \n",
       "2      0                      2             0              0   \n",
       "3      0                      1             0              0   \n",
       "4      0                      2             1              0   \n",
       "\n",
       "   police_report_available  injury_claim  vehicle_claim  total_claim_amount  \\\n",
       "0                        1         58400   14247.766867        72647.766867   \n",
       "1                        0         11500   10675.671347        22175.671347   \n",
       "2                        1         18500   10202.266354        28702.266354   \n",
       "3                        0         16300    9338.348066        25638.348066   \n",
       "4                        0         14700   28145.924994        42845.924994   \n",
       "\n",
       "   incident_month  incident_day  ...  authorities_contacted_ambulance  \\\n",
       "0               7            29  ...                                0   \n",
       "1              11            28  ...                                0   \n",
       "2               1             6  ...                                0   \n",
       "3               9             1  ...                                0   \n",
       "4              10            23  ...                                1   \n",
       "\n",
       "   policy_state_ca  policy_state_az  policy_state_nv  policy_state_id  \\\n",
       "0                1                0                0                0   \n",
       "1                1                0                0                0   \n",
       "2                1                0                0                0   \n",
       "3                1                0                0                0   \n",
       "4                0                0                0                0   \n",
       "\n",
       "   policy_state_wa  policy_state_or  customer_gender_other  \\\n",
       "0                0                0                      0   \n",
       "1                0                0                      0   \n",
       "2                0                0                      0   \n",
       "3                0                0                      0   \n",
       "4                0                1                      0   \n",
       "\n",
       "   customer_gender_male  customer_gender_female  \n",
       "0                     0                       1  \n",
       "1                     0                       1  \n",
       "2                     1                       0  \n",
       "3                     1                       0  \n",
       "4                     1                       0  \n",
       "\n",
       "[5 rows x 49 columns]"
      ]
     },
     "execution_count": 37,
     "metadata": {},
     "output_type": "execute_result"
    }
   ],
   "source": [
    "test_df.head()"
   ]
  },
  {
   "cell_type": "markdown",
   "id": "fea3e8c7-0fd6-4f52-86a1-4998b02de08d",
   "metadata": {},
   "source": [
    "데이터 캡처는 엔드포인트 구성에서 설정되었으므로 엔드포인트의 응답과 함께 어떤 페이로드가 엔드포인트로 전송되었는지 검사할 수 있는 방법이 있습니다. 캡처한 데이터가 S3에 완전히 업로드되는 데는 다소 시간이 걸립니다. 다음 코드를 복사하여 붙여넣어 데이터 캡처가 완료되었는지 확인하세요.\n"
   ]
  },
  {
   "cell_type": "code",
   "execution_count": 38,
   "id": "fe4b9b5e-e06f-4fd4-a6a0-3106085edbba",
   "metadata": {
    "tags": []
   },
   "outputs": [
    {
     "name": "stdout",
     "output_type": "stream",
     "text": [
      "Waiting for captures to show up..........................................................................................\n",
      "Found 26 Data Capture Files:\n"
     ]
    }
   ],
   "source": [
    "from sagemaker.s3 import S3Downloader\n",
    "print(\"Waiting for captures to show up\", end=\"\")\n",
    "for _ in range(90):\n",
    "    capture_files = sorted(S3Downloader.list(f\"{data_capture_uri}/{endpoint_name}\"))\n",
    "    if capture_files:\n",
    "        capture_file = S3Downloader.read_file(capture_files[-1]).split(\"\\n\")\n",
    "        capture_record = json.loads(capture_file[0])\n",
    "        if \"inferenceId\" in capture_record[\"eventMetadata\"]:\n",
    "            break\n",
    "    print(\".\", end=\"\", flush=True)\n",
    "    time.sleep(1)\n",
    "print()\n",
    "print(f\"Found {len(capture_files)} Data Capture Files:\")"
   ]
  },
  {
   "cell_type": "markdown",
   "id": "1ff443f3-936d-4b73-8834-92105db80ad3",
   "metadata": {},
   "source": [
    "캡처된 데이터는 각 엔드포인트 호출에 대해 각 줄이 JSON 값인 구조화된 데이터를 저장하는 새줄로 구분된 형식인 JSON 줄로 S3에 별도의 파일로 저장됩니다. 다음 코드를 복사하여 붙여넣어 데이터 캡처 파일을 검색하세요. \n"
   ]
  },
  {
   "cell_type": "code",
   "execution_count": 40,
   "id": "a7567351-9739-4981-a13b-23a01b8b2457",
   "metadata": {
    "tags": []
   },
   "outputs": [
    {
     "data": {
      "text/plain": [
       "{'captureData': {'endpointInput': {'observedContentType': 'text/csv',\n",
       "   'mode': 'INPUT',\n",
       "   'data': 'MiwwLDAsMSw1ODQwMCwxNDI0Ny43NjY4NjY2NzA4NSw3MjY0Ny43NjY4NjY2NzA4NSw3LDI5LDAsMTEsNDEsMTA4LDAsMSw3NTAsMzAwMCwwLDIsMjAxNCwwLDAsMSwwLDAsMSwwLDAsMCwxLDAsMCwwLDAsMSwwLDAsMSwwLDEsMCwwLDAsMCwwLDAsMCwxCjIsMCwyLDAsMTE1MDAsMTA2NzUuNjcxMzQ2NzM4MTU4LDIyMTc1LjY3MTM0NjczODE2LDExLDI4LDMsMTYsNTQsMTcxLDAsMSw3NTAsMjc1MCwyLDMsMjAxNSwwLDAsMCwwLDEsMSwwLDAsMCwxLDAsMCwwLDAsMSwwLDAsMSwwLDEsMCwwLDAsMCwwLDAsMCwxCjIsMCwwLDEsMTg1MDAsMTAyMDIuMjY2MzUzOTk5Nzc2LDI4NzAyLjI2NjM1Mzk5OTc3LDEsNiw2LDgsNTEsMTk2LDAsMSw3NTAsMzAwMCwwLDEsMjAxMSwwLDAsMCwwLDEsMSwwLDAsMSwwLDAsMCwwLDEsMCwwLDAsMSwwLDEsMCwwLDAsMCwwLDAsMSwwCjEsMCwwLDAsMTYzMDAsOTMzOC4zNDgwNjY0MzU3MTgsMjU2MzguMzQ4MDY2NDM1NzIsOSwxLDYsMyw1NywxMjIsMCwxLDc1MCwzMDAwLDEsMSwyMDE1LDAsMCwwLDEsMCwwLDEsMCwwLDAsMSwwLDAsMCwxLDAsMCwxLDAsMSwwLDAsMCwwLDAsMCwxLDAKMiwxLDAsMCwxNDcwMCwyODE0NS45MjQ5OTQxODIyNSw0Mjg0NS45MjQ5OTQxODIyNSwxMCwyMywyLDE1LDU5LDE0MiwwLDEsNzUwLDMwMDAsMiwzLDIwMTksMCwwLDEsMCwwLDEsMCwwLDEsMCwwLDAsMCwxLDAsMCwwLDAsMSwwLDAsMCwwLDAsMSwwLDEsMAo=',\n",
       "   'encoding': 'BASE64'},\n",
       "  'endpointOutput': {'observedContentType': 'text/csv; charset=utf-8',\n",
       "   'mode': 'OUTPUT',\n",
       "   'data': 'MC4wMjI0MzY2NjUzNzEwNjAzNwowLjAyMjQzNjY2NTM3MTA2MDM3CjAuMDc5OTgyNjk3OTYzNzE0NgowLjEzOTMxNTIzMjYzNDU0NDM3CjAuMDMxMTIzNTE4OTQzNzg2NjIK',\n",
       "   'encoding': 'BASE64'}},\n",
       " 'eventMetadata': {'eventId': 'f7459688-c7fa-4523-9271-a10628467408',\n",
       "  'inferenceTime': '2024-07-23T16:19:15Z'},\n",
       " 'eventVersion': '0'}"
      ]
     },
     "execution_count": 40,
     "metadata": {},
     "output_type": "execute_result"
    }
   ],
   "source": [
    "capture_files = sorted(S3Downloader.list(f\"{data_capture_uri}/{endpoint_name}\"))\n",
    "capture_file = S3Downloader.read_file(capture_files[0]).split(\"\\n\")\n",
    "capture_record = json.loads(capture_file[0])\n",
    "capture_record"
   ]
  },
  {
   "cell_type": "markdown",
   "id": "86c6b99d-75ae-465c-895c-19a2e97ca125",
   "metadata": {},
   "source": [
    "다음 코드를 복사하여 붙여넣어 base64를 사용하여 캡처된 파일의 데이터를 디코딩합니다. 이 코드는 페이로드로 전송된 5개의 테스트 샘플과 그 예측값을 검색합니다. 이 기능은 모델 응답으로 엔드포인트 부하를 검사하고 모델 성능을 모니터링하는 데 유용합니다.\n"
   ]
  },
  {
   "cell_type": "code",
   "execution_count": 41,
   "id": "b92d5c02-d7c4-43cc-9268-d1fd261e5287",
   "metadata": {
    "tags": []
   },
   "outputs": [
    {
     "name": "stdout",
     "output_type": "stream",
     "text": [
      "['2,0,0,1,58400,14247.76686667085,72647.76686667085,7,29,0,11,41,108,0,1,750,3000,0,2,2014,0,0,1,0,0,1,0,0,0,1,0,0,0,0,1,0,0,1,0,1,0,0,0,0,0,0,0,1', '2,0,2,0,11500,10675.671346738158,22175.67134673816,11,28,3,16,54,171,0,1,750,2750,2,3,2015,0,0,0,0,1,1,0,0,0,1,0,0,0,0,1,0,0,1,0,1,0,0,0,0,0,0,0,1', '2,0,0,1,18500,10202.266353999776,28702.26635399977,1,6,6,8,51,196,0,1,750,3000,0,1,2011,0,0,0,0,1,1,0,0,1,0,0,0,0,1,0,0,0,1,0,1,0,0,0,0,0,0,1,0', '1,0,0,0,16300,9338.348066435718,25638.34806643572,9,1,6,3,57,122,0,1,750,3000,1,1,2015,0,0,0,1,0,0,1,0,0,0,1,0,0,0,1,0,0,1,0,1,0,0,0,0,0,0,1,0', '2,1,0,0,14700,28145.92499418225,42845.92499418225,10,23,2,15,59,142,0,1,750,3000,2,3,2019,0,0,1,0,0,1,0,0,1,0,0,0,0,1,0,0,0,0,1,0,0,0,0,0,1,0,1,0', '']\n",
      "['0.02243666537106037', '0.02243666537106037', '0.0799826979637146', '0.13931523263454437', '0.03112351894378662', '']\n"
     ]
    }
   ],
   "source": [
    "input_data = capture_record[\"captureData\"][\"endpointInput\"][\"data\"]\n",
    "output_data = capture_record[\"captureData\"][\"endpointOutput\"][\"data\"]\n",
    "input_data_list = base64.b64decode(input_data).decode(\"utf-8\").split(\"\\n\")\n",
    "print(input_data_list)\n",
    "output_data_list = base64.b64decode(output_data).decode(\"utf-8\").split(\"\\n\")\n",
    "print(output_data_list)"
   ]
  },
  {
   "cell_type": "markdown",
   "id": "7d4822bf-2ab9-4bb9-a082-036be4e03097",
   "metadata": {},
   "source": [
    "실시간 추론 엔드포인트를 사용하는 워크로드는 일반적으로 지연 시간이 짧아야 합니다. 또한 트래픽이 급증하면 실시간 추론 엔드포인트에서 CPU 과부하, 높은 지연 시간 또는 시간 초과가 발생할 수 있습니다. 따라서 짧은 지연 시간으로 트래픽 변화를 효율적으로 처리할 수 있도록 용량을 확장하는 것이 중요합니다. SageMaker 추론 자동 확장은 워크로드를 모니터링하고 인스턴스 수를 동적으로 조정하여 저렴한 비용으로 안정적이고 예측 가능한 엔드포인트 성능을 유지합니다. 워크로드가 증가하면 자동 확장은 더 많은 인스턴스를 온라인 상태로 전환하고, 워크로드가 감소하면 불필요한 인스턴스를 제거하여 컴퓨팅 비용을 절감할 수 있습니다. 이 튜토리얼에서는 AWS SDK - Boto3를 사용하여 엔드포인트에 자동 확장을 설정합니다. SageMaker는 목표 추적 확장, 단계 확장, 주문형 확장 및 예약 확장 등 여러 유형의 자동 확장을 제공합니다. 이 자습서에서는 [선택한 확장 메트릭(target tracking scaling policy)](https://docs.aws.amazon.com/autoscaling/application/APIReference/API_TargetTrackingScalingPolicyConfiguration.html)이 선택한 목표 임계값 이상으로 증가하면 트리거되는 목표 추적 확장 정책을 사용합니다.\n"
   ]
  },
  {
   "cell_type": "code",
   "execution_count": 42,
   "id": "d939c213-1581-47cd-bf75-661f2153430f",
   "metadata": {},
   "outputs": [],
   "source": [
    "resp = sm_client.describe_endpoint(EndpointName=endpoint_name)\n",
    "\n",
    "# SageMaker expects resource id to be provided with the following structure\n",
    "resource_id = f\"endpoint/{endpoint_name}/variant/{resp['ProductionVariants'][0]['VariantName']}\"\n",
    "\n",
    "# Scaling configuration\n",
    "scaling_config_response = sm_autoscaling_client.register_scalable_target(\n",
    "                                                          ServiceNamespace=\"sagemaker\",\n",
    "                                                          ResourceId=resource_id,\n",
    "                                                          ScalableDimension=\"sagemaker:variant:DesiredInstanceCount\", \n",
    "                                                          MinCapacity=1,\n",
    "                                                          MaxCapacity=2\n",
    "                                                        )"
   ]
  },
  {
   "cell_type": "markdown",
   "id": "befcc95b-4816-44b4-9e7a-beed5e036f05",
   "metadata": {},
   "source": [
    "다음 코드를 복사하여 붙여넣어 스케일링 정책을 만듭니다. 선택한 스케일링 메트릭은 모델 변형에 대한 각 추론 인스턴스가 호출되는 분당 평균 횟수인 **SageMakerVariantInvocationsPerInstance**입니다. 이 수치가 선택한 임계값인 5를 초과하면 자동 스케일링이 트리거됩니다.\n"
   ]
  },
  {
   "cell_type": "code",
   "execution_count": 43,
   "id": "a8977dcd-8e84-44c6-b209-283c8dddf4a4",
   "metadata": {
    "tags": []
   },
   "outputs": [],
   "source": [
    "# Create Scaling Policy\n",
    "policy_name = f\"scaling-policy-{endpoint_name}\"\n",
    "scaling_policy_response = sm_autoscaling_client.put_scaling_policy(\n",
    "                                                PolicyName=policy_name,\n",
    "                                                ServiceNamespace=\"sagemaker\",\n",
    "                                                ResourceId=resource_id,\n",
    "                                                ScalableDimension=\"sagemaker:variant:DesiredInstanceCount\",\n",
    "                                                PolicyType=\"TargetTrackingScaling\",\n",
    "                                                TargetTrackingScalingPolicyConfiguration={\n",
    "                                                    \"TargetValue\": 5.0, # Target for avg invocations per minutes\n",
    "                                                    \"PredefinedMetricSpecification\": {\n",
    "                                                        \"PredefinedMetricType\": \"SageMakerVariantInvocationsPerInstance\",\n",
    "                                                    },\n",
    "                                                    \"ScaleInCooldown\": 600, # Duration in seconds until scale in\n",
    "                                                    \"ScaleOutCooldown\": 60 # Duration in seconds between scale out\n",
    "                                                }\n",
    "                                            )"
   ]
  },
  {
   "cell_type": "markdown",
   "id": "e09c5100-399a-4b5b-94cb-6bc8f2a99267",
   "metadata": {},
   "source": [
    "다음 코드를 복사하여 붙여넣어 스케일링 정책 세부 정보를 검색합니다.\n"
   ]
  },
  {
   "cell_type": "code",
   "execution_count": 44,
   "id": "8cca0050-a7a7-44ee-8b61-a6727a2912fb",
   "metadata": {
    "tags": []
   },
   "outputs": [
    {
     "name": "stdout",
     "output_type": "stream",
     "text": [
      "'scaling-policy-DeepSeek-Coder-V2-Instruct-2024-08-26-18-13-10-225'\n",
      "\n",
      "{   'PredefinedMetricSpecification': {   'PredefinedMetricType': 'SageMakerVariantInvocationsPerInstance'},\n",
      "    'ScaleInCooldown': 600,\n",
      "    'ScaleOutCooldown': 60,\n",
      "    'TargetValue': 5.0}\n",
      "'scaling-policy-fraud-detect-xgb-endpoint'\n",
      "\n",
      "{   'PredefinedMetricSpecification': {   'PredefinedMetricType': 'SageMakerVariantInvocationsPerInstance'},\n",
      "    'ScaleInCooldown': 600,\n",
      "    'ScaleOutCooldown': 60,\n",
      "    'TargetValue': 5.0}\n"
     ]
    }
   ],
   "source": [
    "response = sm_autoscaling_client.describe_scaling_policies(ServiceNamespace=\"sagemaker\")\n",
    "\n",
    "pp = pprint.PrettyPrinter(indent=4, depth=4)\n",
    "for i in response[\"ScalingPolicies\"]:\n",
    "    pp.pprint(i[\"PolicyName\"])\n",
    "    print(\"\")\n",
    "    if(\"TargetTrackingScalingPolicyConfiguration\" in i):\n",
    "        pp.pprint(i[\"TargetTrackingScalingPolicyConfiguration\"])"
   ]
  },
  {
   "cell_type": "markdown",
   "id": "52269836-9a80-44af-be8e-044a1d0410dc",
   "metadata": {},
   "source": [
    "다음 코드를 복사하여 붙여넣어 엔드포인트를 스트레스 테스트합니다. 이 코드는 250초 동안 실행되며 테스트 데이터 세트에서 무작위로 선택된 샘플을 전송하여 엔드포인트를 반복적으로 호출합니다.\n"
   ]
  },
  {
   "cell_type": "code",
   "execution_count": 46,
   "id": "c186e579-4d90-4330-a6b3-326726187f2a",
   "metadata": {
    "tags": []
   },
   "outputs": [
    {
     "name": "stdout",
     "output_type": "stream",
     "text": [
      "Endpoint will be tested for 250 seconds\n"
     ]
    }
   ],
   "source": [
    "request_duration = 250\n",
    "end_time = time.time() + request_duration\n",
    "print(f\"Endpoint will be tested for {request_duration} seconds\")\n",
    "while time.time() < end_time:\n",
    "    csv_file = io.StringIO()\n",
    "    test_sample = test_df.drop([\"fraud\"], axis=1).iloc[[np.random.randint(0, test_df.shape[0])]]\n",
    "    test_sample.to_csv(csv_file, sep=\",\", header=False, index=False)\n",
    "    payload = csv_file.getvalue()\n",
    "    response = sm_runtime_client.invoke_endpoint(\n",
    "                                                 EndpointName=endpoint_name,\n",
    "                                                 Body=payload,\n",
    "                                                 ContentType=\"text/csv\"\n",
    "                                                )"
   ]
  },
  {
   "cell_type": "code",
   "execution_count": 47,
   "id": "8c15b63a-8490-4b4f-8981-62681bf491cf",
   "metadata": {
    "tags": []
   },
   "outputs": [],
   "source": [
    "# print(endpoint_name)\n",
    "# test_df.shape[0]\n",
    "# test_sample.info()"
   ]
  },
  {
   "cell_type": "code",
   "execution_count": 48,
   "id": "eb5fb322-59f8-41be-8e5b-48018601eb66",
   "metadata": {
    "tags": []
   },
   "outputs": [
    {
     "data": {
      "text/html": [
       "<div>\n",
       "<style scoped>\n",
       "    .dataframe tbody tr th:only-of-type {\n",
       "        vertical-align: middle;\n",
       "    }\n",
       "\n",
       "    .dataframe tbody tr th {\n",
       "        vertical-align: top;\n",
       "    }\n",
       "\n",
       "    .dataframe thead th {\n",
       "        text-align: right;\n",
       "    }\n",
       "</style>\n",
       "<table border=\"1\" class=\"dataframe\">\n",
       "  <thead>\n",
       "    <tr style=\"text-align: right;\">\n",
       "      <th></th>\n",
       "      <th>num_vehicles_involved</th>\n",
       "      <th>num_injuries</th>\n",
       "      <th>num_witnesses</th>\n",
       "      <th>police_report_available</th>\n",
       "      <th>injury_claim</th>\n",
       "      <th>vehicle_claim</th>\n",
       "      <th>total_claim_amount</th>\n",
       "      <th>incident_month</th>\n",
       "      <th>incident_day</th>\n",
       "      <th>incident_dow</th>\n",
       "      <th>...</th>\n",
       "      <th>authorities_contacted_ambulance</th>\n",
       "      <th>policy_state_ca</th>\n",
       "      <th>policy_state_az</th>\n",
       "      <th>policy_state_nv</th>\n",
       "      <th>policy_state_id</th>\n",
       "      <th>policy_state_wa</th>\n",
       "      <th>policy_state_or</th>\n",
       "      <th>customer_gender_other</th>\n",
       "      <th>customer_gender_male</th>\n",
       "      <th>customer_gender_female</th>\n",
       "    </tr>\n",
       "  </thead>\n",
       "  <tbody>\n",
       "    <tr>\n",
       "      <th>171</th>\n",
       "      <td>2</td>\n",
       "      <td>2</td>\n",
       "      <td>2</td>\n",
       "      <td>0</td>\n",
       "      <td>12900</td>\n",
       "      <td>32146.55667</td>\n",
       "      <td>45046.55667</td>\n",
       "      <td>1</td>\n",
       "      <td>6</td>\n",
       "      <td>6</td>\n",
       "      <td>...</td>\n",
       "      <td>0</td>\n",
       "      <td>0</td>\n",
       "      <td>0</td>\n",
       "      <td>0</td>\n",
       "      <td>0</td>\n",
       "      <td>1</td>\n",
       "      <td>0</td>\n",
       "      <td>0</td>\n",
       "      <td>1</td>\n",
       "      <td>0</td>\n",
       "    </tr>\n",
       "  </tbody>\n",
       "</table>\n",
       "<p>1 rows × 48 columns</p>\n",
       "</div>"
      ],
      "text/plain": [
       "     num_vehicles_involved  num_injuries  num_witnesses  \\\n",
       "171                      2             2              2   \n",
       "\n",
       "     police_report_available  injury_claim  vehicle_claim  total_claim_amount  \\\n",
       "171                        0         12900    32146.55667         45046.55667   \n",
       "\n",
       "     incident_month  incident_day  incident_dow  ...  \\\n",
       "171               1             6             6  ...   \n",
       "\n",
       "     authorities_contacted_ambulance  policy_state_ca  policy_state_az  \\\n",
       "171                                0                0                0   \n",
       "\n",
       "     policy_state_nv  policy_state_id  policy_state_wa  policy_state_or  \\\n",
       "171                0                0                1                0   \n",
       "\n",
       "     customer_gender_other  customer_gender_male  customer_gender_female  \n",
       "171                      0                     1                       0  \n",
       "\n",
       "[1 rows x 48 columns]"
      ]
     },
     "execution_count": 48,
     "metadata": {},
     "output_type": "execute_result"
    }
   ],
   "source": [
    "test_sample.head()"
   ]
  },
  {
   "cell_type": "markdown",
   "id": "54902508-70e0-4e84-bb3e-3ee64c2edc75",
   "metadata": {
    "tags": []
   },
   "source": [
    "엔드포인트가 증가된 페이로드를 수신하면 아래 코드를 실행하여 엔드포인트의 상태를 확인할 수 있습니다. 이 코드는 엔드포인트의 상태가 서비스 중에서 업데이트 중으로 변경되는 시점을 확인하고 인스턴스 수를 추적합니다. 몇 분 후 상태가 서비스 중에서 업데이트 중으로, 다시 서비스 중으로 변경되었지만 인스턴스 수가 더 많아진 것을 확인할 수 있습니다.\n"
   ]
  },
  {
   "cell_type": "code",
   "execution_count": 49,
   "id": "516d8c5a-fcc6-4346-9bde-ec814ad7a52c",
   "metadata": {
    "tags": []
   },
   "outputs": [
    {
     "name": "stdout",
     "output_type": "stream",
     "text": [
      "Waiting for Instance count increase for a max of 250 seconds. Please re run this cell in case the count does not change\n",
      "Status: Updating\n",
      "Current Instance count: 1\n",
      "Status: Updating\n",
      "Current Instance count: 1\n",
      "Status: Updating\n",
      "Current Instance count: 1\n",
      "Status: Updating\n",
      "Current Instance count: 1\n",
      "Status: Updating\n",
      "Current Instance count: 1\n",
      "Status: Updating\n",
      "Current Instance count: 2\n",
      "Status: InService\n",
      "Current Instance count: 2\n"
     ]
    }
   ],
   "source": [
    "# Check the instance counts after the endpoint gets more load\n",
    "response = sm_client.describe_endpoint(EndpointName=endpoint_name)\n",
    "endpoint_status = response[\"EndpointStatus\"]\n",
    "request_duration = 250\n",
    "end_time = time.time() + request_duration\n",
    "print(f\"Waiting for Instance count increase for a max of {request_duration} seconds. Please re run this cell in case the count does not change\")\n",
    "while time.time() < end_time:\n",
    "    response = sm_client.describe_endpoint(EndpointName=endpoint_name)\n",
    "    endpoint_status = response[\"EndpointStatus\"]\n",
    "    instance_count = response[\"ProductionVariants\"][0][\"CurrentInstanceCount\"]\n",
    "    print(f\"Status: {endpoint_status}\")\n",
    "    print(f\"Current Instance count: {instance_count}\")\n",
    "    if (endpoint_status==\"InService\") and (instance_count>1):\n",
    "        break\n",
    "    else:\n",
    "        time.sleep(15)"
   ]
  },
  {
   "cell_type": "markdown",
   "id": "922be8ab-b37e-4694-8bcc-cca8a9870ee6",
   "metadata": {},
   "source": [
    "노트북에서 다음 코드 블록을 실행하여 이 튜토리얼에서 만든 모델, 엔드포인트 구성 및 엔드포인트를 삭제합니다. 엔드포인트를 삭제하지 않으면 엔드포인트에서 실행 중인 컴퓨팅 인스턴스에 대한 요금이 계정에 계속 누적됩니다.\n"
   ]
  },
  {
   "cell_type": "code",
   "execution_count": null,
   "id": "bd631e9e-e5a9-4c60-a3a0-a63c9606a1f0",
   "metadata": {},
   "outputs": [],
   "source": [
    "# Delete model\n",
    "sm_client.delete_model(ModelName=model_name)\n",
    "\n",
    "# Delete endpoint configuration\n",
    "sm_client.delete_endpoint_config(EndpointConfigName=endpoint_config_name)\n",
    "\n",
    "# Delete endpoint\n",
    "sm_client.delete_endpoint(EndpointName=endpoint_name)\n"
   ]
  },
  {
   "cell_type": "markdown",
   "id": "32e8cdf1-1d4d-4551-b195-ea42b86d3aac",
   "metadata": {},
   "source": [
    "## **Conclusion**\n",
    "축하합니다! 실시간 추론 엔드포인트에 머신 러닝 모델 배포 자습서를 마쳤습니다.\n",
    " \n",
    "이 튜토리얼에서는 SageMaker 모델을 생성하고 실시간 추론 엔드포인트에 배포했습니다. AWS SDK-Boto3 API를 사용하여 엔드포인트를 호출하고 샘플 추론을 실행하여 테스트하는 동시에 데이터 캡처 기능을 활용하여 엔드포인트 페이로드와 응답을 Amazon S3에 저장했습니다. 마지막으로, 트래픽 변동을 처리하기 위해 대상 엔드포인트 호출 메트릭을 사용하여 자동 확장을 구성했습니다.\n",
    " \n",
    "아래의 다음 단계 섹션에 따라 SageMaker로 머신 러닝 여정을 계속 진행할 수 있습니다."
   ]
  }
 ],
 "metadata": {
  "availableInstances": [
   {
    "_defaultOrder": 0,
    "_isFastLaunch": true,
    "category": "General purpose",
    "gpuNum": 0,
    "hideHardwareSpecs": false,
    "memoryGiB": 4,
    "name": "ml.t3.medium",
    "vcpuNum": 2
   },
   {
    "_defaultOrder": 1,
    "_isFastLaunch": false,
    "category": "General purpose",
    "gpuNum": 0,
    "hideHardwareSpecs": false,
    "memoryGiB": 8,
    "name": "ml.t3.large",
    "vcpuNum": 2
   },
   {
    "_defaultOrder": 2,
    "_isFastLaunch": false,
    "category": "General purpose",
    "gpuNum": 0,
    "hideHardwareSpecs": false,
    "memoryGiB": 16,
    "name": "ml.t3.xlarge",
    "vcpuNum": 4
   },
   {
    "_defaultOrder": 3,
    "_isFastLaunch": false,
    "category": "General purpose",
    "gpuNum": 0,
    "hideHardwareSpecs": false,
    "memoryGiB": 32,
    "name": "ml.t3.2xlarge",
    "vcpuNum": 8
   },
   {
    "_defaultOrder": 4,
    "_isFastLaunch": true,
    "category": "General purpose",
    "gpuNum": 0,
    "hideHardwareSpecs": false,
    "memoryGiB": 8,
    "name": "ml.m5.large",
    "vcpuNum": 2
   },
   {
    "_defaultOrder": 5,
    "_isFastLaunch": false,
    "category": "General purpose",
    "gpuNum": 0,
    "hideHardwareSpecs": false,
    "memoryGiB": 16,
    "name": "ml.m5.xlarge",
    "vcpuNum": 4
   },
   {
    "_defaultOrder": 6,
    "_isFastLaunch": false,
    "category": "General purpose",
    "gpuNum": 0,
    "hideHardwareSpecs": false,
    "memoryGiB": 32,
    "name": "ml.m5.2xlarge",
    "vcpuNum": 8
   },
   {
    "_defaultOrder": 7,
    "_isFastLaunch": false,
    "category": "General purpose",
    "gpuNum": 0,
    "hideHardwareSpecs": false,
    "memoryGiB": 64,
    "name": "ml.m5.4xlarge",
    "vcpuNum": 16
   },
   {
    "_defaultOrder": 8,
    "_isFastLaunch": false,
    "category": "General purpose",
    "gpuNum": 0,
    "hideHardwareSpecs": false,
    "memoryGiB": 128,
    "name": "ml.m5.8xlarge",
    "vcpuNum": 32
   },
   {
    "_defaultOrder": 9,
    "_isFastLaunch": false,
    "category": "General purpose",
    "gpuNum": 0,
    "hideHardwareSpecs": false,
    "memoryGiB": 192,
    "name": "ml.m5.12xlarge",
    "vcpuNum": 48
   },
   {
    "_defaultOrder": 10,
    "_isFastLaunch": false,
    "category": "General purpose",
    "gpuNum": 0,
    "hideHardwareSpecs": false,
    "memoryGiB": 256,
    "name": "ml.m5.16xlarge",
    "vcpuNum": 64
   },
   {
    "_defaultOrder": 11,
    "_isFastLaunch": false,
    "category": "General purpose",
    "gpuNum": 0,
    "hideHardwareSpecs": false,
    "memoryGiB": 384,
    "name": "ml.m5.24xlarge",
    "vcpuNum": 96
   },
   {
    "_defaultOrder": 12,
    "_isFastLaunch": false,
    "category": "General purpose",
    "gpuNum": 0,
    "hideHardwareSpecs": false,
    "memoryGiB": 8,
    "name": "ml.m5d.large",
    "vcpuNum": 2
   },
   {
    "_defaultOrder": 13,
    "_isFastLaunch": false,
    "category": "General purpose",
    "gpuNum": 0,
    "hideHardwareSpecs": false,
    "memoryGiB": 16,
    "name": "ml.m5d.xlarge",
    "vcpuNum": 4
   },
   {
    "_defaultOrder": 14,
    "_isFastLaunch": false,
    "category": "General purpose",
    "gpuNum": 0,
    "hideHardwareSpecs": false,
    "memoryGiB": 32,
    "name": "ml.m5d.2xlarge",
    "vcpuNum": 8
   },
   {
    "_defaultOrder": 15,
    "_isFastLaunch": false,
    "category": "General purpose",
    "gpuNum": 0,
    "hideHardwareSpecs": false,
    "memoryGiB": 64,
    "name": "ml.m5d.4xlarge",
    "vcpuNum": 16
   },
   {
    "_defaultOrder": 16,
    "_isFastLaunch": false,
    "category": "General purpose",
    "gpuNum": 0,
    "hideHardwareSpecs": false,
    "memoryGiB": 128,
    "name": "ml.m5d.8xlarge",
    "vcpuNum": 32
   },
   {
    "_defaultOrder": 17,
    "_isFastLaunch": false,
    "category": "General purpose",
    "gpuNum": 0,
    "hideHardwareSpecs": false,
    "memoryGiB": 192,
    "name": "ml.m5d.12xlarge",
    "vcpuNum": 48
   },
   {
    "_defaultOrder": 18,
    "_isFastLaunch": false,
    "category": "General purpose",
    "gpuNum": 0,
    "hideHardwareSpecs": false,
    "memoryGiB": 256,
    "name": "ml.m5d.16xlarge",
    "vcpuNum": 64
   },
   {
    "_defaultOrder": 19,
    "_isFastLaunch": false,
    "category": "General purpose",
    "gpuNum": 0,
    "hideHardwareSpecs": false,
    "memoryGiB": 384,
    "name": "ml.m5d.24xlarge",
    "vcpuNum": 96
   },
   {
    "_defaultOrder": 20,
    "_isFastLaunch": false,
    "category": "General purpose",
    "gpuNum": 0,
    "hideHardwareSpecs": true,
    "memoryGiB": 0,
    "name": "ml.geospatial.interactive",
    "supportedImageNames": [
     "sagemaker-geospatial-v1-0"
    ],
    "vcpuNum": 0
   },
   {
    "_defaultOrder": 21,
    "_isFastLaunch": true,
    "category": "Compute optimized",
    "gpuNum": 0,
    "hideHardwareSpecs": false,
    "memoryGiB": 4,
    "name": "ml.c5.large",
    "vcpuNum": 2
   },
   {
    "_defaultOrder": 22,
    "_isFastLaunch": false,
    "category": "Compute optimized",
    "gpuNum": 0,
    "hideHardwareSpecs": false,
    "memoryGiB": 8,
    "name": "ml.c5.xlarge",
    "vcpuNum": 4
   },
   {
    "_defaultOrder": 23,
    "_isFastLaunch": false,
    "category": "Compute optimized",
    "gpuNum": 0,
    "hideHardwareSpecs": false,
    "memoryGiB": 16,
    "name": "ml.c5.2xlarge",
    "vcpuNum": 8
   },
   {
    "_defaultOrder": 24,
    "_isFastLaunch": false,
    "category": "Compute optimized",
    "gpuNum": 0,
    "hideHardwareSpecs": false,
    "memoryGiB": 32,
    "name": "ml.c5.4xlarge",
    "vcpuNum": 16
   },
   {
    "_defaultOrder": 25,
    "_isFastLaunch": false,
    "category": "Compute optimized",
    "gpuNum": 0,
    "hideHardwareSpecs": false,
    "memoryGiB": 72,
    "name": "ml.c5.9xlarge",
    "vcpuNum": 36
   },
   {
    "_defaultOrder": 26,
    "_isFastLaunch": false,
    "category": "Compute optimized",
    "gpuNum": 0,
    "hideHardwareSpecs": false,
    "memoryGiB": 96,
    "name": "ml.c5.12xlarge",
    "vcpuNum": 48
   },
   {
    "_defaultOrder": 27,
    "_isFastLaunch": false,
    "category": "Compute optimized",
    "gpuNum": 0,
    "hideHardwareSpecs": false,
    "memoryGiB": 144,
    "name": "ml.c5.18xlarge",
    "vcpuNum": 72
   },
   {
    "_defaultOrder": 28,
    "_isFastLaunch": false,
    "category": "Compute optimized",
    "gpuNum": 0,
    "hideHardwareSpecs": false,
    "memoryGiB": 192,
    "name": "ml.c5.24xlarge",
    "vcpuNum": 96
   },
   {
    "_defaultOrder": 29,
    "_isFastLaunch": true,
    "category": "Accelerated computing",
    "gpuNum": 1,
    "hideHardwareSpecs": false,
    "memoryGiB": 16,
    "name": "ml.g4dn.xlarge",
    "vcpuNum": 4
   },
   {
    "_defaultOrder": 30,
    "_isFastLaunch": false,
    "category": "Accelerated computing",
    "gpuNum": 1,
    "hideHardwareSpecs": false,
    "memoryGiB": 32,
    "name": "ml.g4dn.2xlarge",
    "vcpuNum": 8
   },
   {
    "_defaultOrder": 31,
    "_isFastLaunch": false,
    "category": "Accelerated computing",
    "gpuNum": 1,
    "hideHardwareSpecs": false,
    "memoryGiB": 64,
    "name": "ml.g4dn.4xlarge",
    "vcpuNum": 16
   },
   {
    "_defaultOrder": 32,
    "_isFastLaunch": false,
    "category": "Accelerated computing",
    "gpuNum": 1,
    "hideHardwareSpecs": false,
    "memoryGiB": 128,
    "name": "ml.g4dn.8xlarge",
    "vcpuNum": 32
   },
   {
    "_defaultOrder": 33,
    "_isFastLaunch": false,
    "category": "Accelerated computing",
    "gpuNum": 4,
    "hideHardwareSpecs": false,
    "memoryGiB": 192,
    "name": "ml.g4dn.12xlarge",
    "vcpuNum": 48
   },
   {
    "_defaultOrder": 34,
    "_isFastLaunch": false,
    "category": "Accelerated computing",
    "gpuNum": 1,
    "hideHardwareSpecs": false,
    "memoryGiB": 256,
    "name": "ml.g4dn.16xlarge",
    "vcpuNum": 64
   },
   {
    "_defaultOrder": 35,
    "_isFastLaunch": false,
    "category": "Accelerated computing",
    "gpuNum": 1,
    "hideHardwareSpecs": false,
    "memoryGiB": 61,
    "name": "ml.p3.2xlarge",
    "vcpuNum": 8
   },
   {
    "_defaultOrder": 36,
    "_isFastLaunch": false,
    "category": "Accelerated computing",
    "gpuNum": 4,
    "hideHardwareSpecs": false,
    "memoryGiB": 244,
    "name": "ml.p3.8xlarge",
    "vcpuNum": 32
   },
   {
    "_defaultOrder": 37,
    "_isFastLaunch": false,
    "category": "Accelerated computing",
    "gpuNum": 8,
    "hideHardwareSpecs": false,
    "memoryGiB": 488,
    "name": "ml.p3.16xlarge",
    "vcpuNum": 64
   },
   {
    "_defaultOrder": 38,
    "_isFastLaunch": false,
    "category": "Accelerated computing",
    "gpuNum": 8,
    "hideHardwareSpecs": false,
    "memoryGiB": 768,
    "name": "ml.p3dn.24xlarge",
    "vcpuNum": 96
   },
   {
    "_defaultOrder": 39,
    "_isFastLaunch": false,
    "category": "Memory Optimized",
    "gpuNum": 0,
    "hideHardwareSpecs": false,
    "memoryGiB": 16,
    "name": "ml.r5.large",
    "vcpuNum": 2
   },
   {
    "_defaultOrder": 40,
    "_isFastLaunch": false,
    "category": "Memory Optimized",
    "gpuNum": 0,
    "hideHardwareSpecs": false,
    "memoryGiB": 32,
    "name": "ml.r5.xlarge",
    "vcpuNum": 4
   },
   {
    "_defaultOrder": 41,
    "_isFastLaunch": false,
    "category": "Memory Optimized",
    "gpuNum": 0,
    "hideHardwareSpecs": false,
    "memoryGiB": 64,
    "name": "ml.r5.2xlarge",
    "vcpuNum": 8
   },
   {
    "_defaultOrder": 42,
    "_isFastLaunch": false,
    "category": "Memory Optimized",
    "gpuNum": 0,
    "hideHardwareSpecs": false,
    "memoryGiB": 128,
    "name": "ml.r5.4xlarge",
    "vcpuNum": 16
   },
   {
    "_defaultOrder": 43,
    "_isFastLaunch": false,
    "category": "Memory Optimized",
    "gpuNum": 0,
    "hideHardwareSpecs": false,
    "memoryGiB": 256,
    "name": "ml.r5.8xlarge",
    "vcpuNum": 32
   },
   {
    "_defaultOrder": 44,
    "_isFastLaunch": false,
    "category": "Memory Optimized",
    "gpuNum": 0,
    "hideHardwareSpecs": false,
    "memoryGiB": 384,
    "name": "ml.r5.12xlarge",
    "vcpuNum": 48
   },
   {
    "_defaultOrder": 45,
    "_isFastLaunch": false,
    "category": "Memory Optimized",
    "gpuNum": 0,
    "hideHardwareSpecs": false,
    "memoryGiB": 512,
    "name": "ml.r5.16xlarge",
    "vcpuNum": 64
   },
   {
    "_defaultOrder": 46,
    "_isFastLaunch": false,
    "category": "Memory Optimized",
    "gpuNum": 0,
    "hideHardwareSpecs": false,
    "memoryGiB": 768,
    "name": "ml.r5.24xlarge",
    "vcpuNum": 96
   },
   {
    "_defaultOrder": 47,
    "_isFastLaunch": false,
    "category": "Accelerated computing",
    "gpuNum": 1,
    "hideHardwareSpecs": false,
    "memoryGiB": 16,
    "name": "ml.g5.xlarge",
    "vcpuNum": 4
   },
   {
    "_defaultOrder": 48,
    "_isFastLaunch": false,
    "category": "Accelerated computing",
    "gpuNum": 1,
    "hideHardwareSpecs": false,
    "memoryGiB": 32,
    "name": "ml.g5.2xlarge",
    "vcpuNum": 8
   },
   {
    "_defaultOrder": 49,
    "_isFastLaunch": false,
    "category": "Accelerated computing",
    "gpuNum": 1,
    "hideHardwareSpecs": false,
    "memoryGiB": 64,
    "name": "ml.g5.4xlarge",
    "vcpuNum": 16
   },
   {
    "_defaultOrder": 50,
    "_isFastLaunch": false,
    "category": "Accelerated computing",
    "gpuNum": 1,
    "hideHardwareSpecs": false,
    "memoryGiB": 128,
    "name": "ml.g5.8xlarge",
    "vcpuNum": 32
   },
   {
    "_defaultOrder": 51,
    "_isFastLaunch": false,
    "category": "Accelerated computing",
    "gpuNum": 1,
    "hideHardwareSpecs": false,
    "memoryGiB": 256,
    "name": "ml.g5.16xlarge",
    "vcpuNum": 64
   },
   {
    "_defaultOrder": 52,
    "_isFastLaunch": false,
    "category": "Accelerated computing",
    "gpuNum": 4,
    "hideHardwareSpecs": false,
    "memoryGiB": 192,
    "name": "ml.g5.12xlarge",
    "vcpuNum": 48
   },
   {
    "_defaultOrder": 53,
    "_isFastLaunch": false,
    "category": "Accelerated computing",
    "gpuNum": 4,
    "hideHardwareSpecs": false,
    "memoryGiB": 384,
    "name": "ml.g5.24xlarge",
    "vcpuNum": 96
   },
   {
    "_defaultOrder": 54,
    "_isFastLaunch": false,
    "category": "Accelerated computing",
    "gpuNum": 8,
    "hideHardwareSpecs": false,
    "memoryGiB": 768,
    "name": "ml.g5.48xlarge",
    "vcpuNum": 192
   },
   {
    "_defaultOrder": 55,
    "_isFastLaunch": false,
    "category": "Accelerated computing",
    "gpuNum": 8,
    "hideHardwareSpecs": false,
    "memoryGiB": 1152,
    "name": "ml.p4d.24xlarge",
    "vcpuNum": 96
   },
   {
    "_defaultOrder": 56,
    "_isFastLaunch": false,
    "category": "Accelerated computing",
    "gpuNum": 8,
    "hideHardwareSpecs": false,
    "memoryGiB": 1152,
    "name": "ml.p4de.24xlarge",
    "vcpuNum": 96
   },
   {
    "_defaultOrder": 57,
    "_isFastLaunch": false,
    "category": "Accelerated computing",
    "gpuNum": 0,
    "hideHardwareSpecs": false,
    "memoryGiB": 32,
    "name": "ml.trn1.2xlarge",
    "vcpuNum": 8
   },
   {
    "_defaultOrder": 58,
    "_isFastLaunch": false,
    "category": "Accelerated computing",
    "gpuNum": 0,
    "hideHardwareSpecs": false,
    "memoryGiB": 512,
    "name": "ml.trn1.32xlarge",
    "vcpuNum": 128
   },
   {
    "_defaultOrder": 59,
    "_isFastLaunch": false,
    "category": "Accelerated computing",
    "gpuNum": 0,
    "hideHardwareSpecs": false,
    "memoryGiB": 512,
    "name": "ml.trn1n.32xlarge",
    "vcpuNum": 128
   }
  ],
  "instance_type": "ml.t3.medium",
  "kernelspec": {
   "display_name": "Python 3 (Data Science 3.0)",
   "language": "python",
   "name": "python3__SAGEMAKER_INTERNAL__arn:aws:sagemaker:us-east-1:081325390199:image/sagemaker-data-science-310-v1"
  },
  "language_info": {
   "codemirror_mode": {
    "name": "ipython",
    "version": 3
   },
   "file_extension": ".py",
   "mimetype": "text/x-python",
   "name": "python",
   "nbconvert_exporter": "python",
   "pygments_lexer": "ipython3",
   "version": "3.10.6"
  }
 },
 "nbformat": 4,
 "nbformat_minor": 5
}
