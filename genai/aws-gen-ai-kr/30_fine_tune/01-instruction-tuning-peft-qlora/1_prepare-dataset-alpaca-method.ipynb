{
 "cells": [
  {
   "cell_type": "markdown",
   "id": "7e1e3ce5-d856-4cf8-93b7-50e0acce9f15",
   "metadata": {},
   "source": [
    "# Preprocess Datasets for Korean LLM (Large Language Model) fine-tuning\n",
    "---\n",
    "\n",
    "- Alpaca 논문에서 전처리했던 방식대로 전처리 수행\n",
    "- 허깅페이스 인증 정보 설정: `huggingface-cli login`\n",
    "    - https://huggingface.co/join\n",
    "    - https://huggingface.co/settings/tokens"
   ]
  },
  {
   "cell_type": "code",
   "execution_count": null,
   "id": "283f4cee-20d4-4b94-930b-da48f05d03db",
   "metadata": {
    "tags": [],
    "pycharm": {
     "is_executing": true
    }
   },
   "outputs": [],
   "source": [
    "%load_ext autoreload\n",
    "%autoreload 2\n",
    "import sys\n",
    "sys.path.append('./utils')\n",
    "sys.path.append('./templates')\n",
    "\n",
    "from common_lib import check_packages\n",
    "check_packages()"
   ]
  },
  {
   "cell_type": "markdown",
   "id": "0088d0bd-fd82-4dc4-a9e4-572b96df59d5",
   "metadata": {},
   "source": [
    "<br>\n",
    "\n",
    "## 1. Download LLM from Hugging Face hub\n",
    "---\n",
    "\n",
    "### Load dataset\n",
    "허깅페이스 허브에서 다운로드하거나 json/json 포맷의 데이터 세트를 다운로드합니다. 데이터 세트 내 샘플은 (`instruction, input, output`)의 \n",
    "key-value나 (`instruction, output`)의 key-value로 구성되어야 합니다.\n",
    "\n",
    "구름 데이터셋 v2는 GPT-4-LLM, Vicuna, 그리고 Databricks의 Dolly 데이터셋을 병합한 것입니다. 이 모든 데이터셋은 DeepL을 이용하여 한국어로 번역되었습니다.\n",
    "https://huggingface.co/datasets/nlpai-lab/kullm-v2\n",
    "\n",
    "예시:\n",
    "```\n",
    "{\n",
    "    \"instruction\":\"건강을 유지하기 위한 세 가지 팁을 알려주세요.\",\n",
    "    \"input\":\"\",\n",
    "    \"output\":\"세 가지 팁은 아침식사를 꼭 챙기며, 충분한 수면을 취하고, 적극적으로 운동을 하는 것입니다.\"\n",
    "}\n",
    "```"
   ]
  },
  {
   "cell_type": "code",
   "execution_count": 2,
   "id": "9f226ac4-c157-4ee3-abd7-b9519320e229",
   "metadata": {
    "tags": []
   },
   "outputs": [],
   "source": [
    "import os\n",
    "import torch\n",
    "import transformers\n",
    "from datasets import load_dataset\n",
    "from inference_lib import Prompter\n",
    "from transformers import GPTNeoXForCausalLM, GPTNeoXTokenizerFast\n",
    "\n",
    "data_path = \"nlpai-lab/kullm-v2\"\n",
    "#data_path = \"beomi/KoAlpaca-v1.1a\"\n",
    "#data_path = \"./data/ko_alpaca_data.json\"\n",
    "\n",
    "if data_path.endswith(\".json\") or data_path.endswith(\".jsonl\"):\n",
    "    data = load_dataset(\"json\", data_files=data_path)\n",
    "else:\n",
    "    data = load_dataset(data_path)\n",
    "    \n",
    "prompter = Prompter(\"kullm\")\n",
    "cutoff_len = 2048\n",
    "train_on_inputs = True"
   ]
  },
  {
   "cell_type": "code",
   "execution_count": 3,
   "id": "7261f675",
   "metadata": {},
   "outputs": [
    {
     "data": {
      "text/plain": [
       "'nlpai-lab/kullm-v2'"
      ]
     },
     "execution_count": 3,
     "metadata": {},
     "output_type": "execute_result"
    }
   ],
   "source": [
    "data_path"
   ]
  },
  {
   "cell_type": "code",
   "execution_count": 4,
   "id": "94014370-6f4b-4243-8c98-534cfc5eca36",
   "metadata": {
    "tags": []
   },
   "outputs": [
    {
     "name": "stderr",
     "output_type": "stream",
     "text": [
      "The tokenizer class you load from this checkpoint is not the same type as the class this function is called from. It may result in unexpected tokenization. \n",
      "The tokenizer class you load from this checkpoint is 'PreTrainedTokenizerFast'. \n",
      "The class this function is called from is 'GPTNeoXTokenizerFast'.\n",
      "Special tokens have been added in the vocabulary, make sure the associated word embeddings are fine-tuned or trained.\n"
     ]
    }
   ],
   "source": [
    "import os\n",
    "from pathlib import Path\n",
    "from huggingface_hub import snapshot_download\n",
    "\n",
    "HF_MODEL_ID = \"nlpai-lab/kullm-polyglot-12.8b-v2\"\n",
    "\n",
    "tokenizer = GPTNeoXTokenizerFast.from_pretrained(HF_MODEL_ID)\n",
    "\n",
    "# Only download pytorch checkpoint files\n",
    "allow_patterns = [\"*.json\", \"*.pt\", \"*.bin\", \"*.txt\", \"*.model\"]\n",
    "\n",
    "# create model dir\n",
    "model_name = HF_MODEL_ID.split(\"/\")[-1].replace('.', '-')\n",
    "model_tar_dir = Path(f\"/home/ec2-user/SageMaker/models/{model_name}\")\n",
    "if not os.path.isdir(model_tar_dir):\n",
    "    os.makedirs(model_tar_dir, exist_ok=True)\n",
    "    # Download model from Hugging Face into model_dir\n",
    "    snapshot_download(\n",
    "        HF_MODEL_ID, \n",
    "        local_dir=str(model_tar_dir), \n",
    "        local_dir_use_symlinks=False,\n",
    "        allow_patterns=allow_patterns,\n",
    "        cache_dir=\"/home/ec2-user/SageMaker/\"\n",
    "    )"
   ]
  },
  {
   "cell_type": "markdown",
   "id": "5f1dad55",
   "metadata": {},
   "source": [
    "# 입력 데이터셋 살펴보기 EDA\n",
    "\n",
    "데이터 구조\n",
    "- id: 각 데이터 포인트의 고유 식별자\n",
    "- instruction: 사용자의 질문 또는 명령\n",
    "- input: 추가 입력 (여기서는 비어 있음)\n",
    "- output: 질문 또는 명령에 대한 답변"
   ]
  },
  {
   "cell_type": "code",
   "execution_count": 5,
   "id": "e2e73d5d",
   "metadata": {},
   "outputs": [
    {
     "name": "stdout",
     "output_type": "stream",
     "text": [
      "{'id': ['alpaca_{idx}', 'alpaca_{idx}', 'alpaca_{idx}'], 'instruction': ['3원색이란 무엇인가요?', '어려운 결정을 내려야 했던 순간을 설명해 주세요.', '원자의 구조를 설명합니다.'], 'input': ['', '', ''], 'output': ['세 가지 기본 색은 빨강, 파랑, 노랑입니다. 이 색은 다른 색을 혼합하여 만들 수 없고 다른 모든 색은 다양한 비율로 조합하여 만들 수 있기 때문에 원색이라고 부릅니다. 빛에 사용되는 첨가제 색상 시스템에서 원색은 빨강, 녹색, 파랑(RGB)입니다.', 'AI 어시스턴트인 저는 저만의 개인적인 경험이나 물리적 존재를 가지고 있지 않습니다. 하지만 알고리즘, 논리, 데이터를 기반으로 의사 결정을 내리도록 프로그래밍되어 있습니다. 상충되는 정보나 여러 가지 가능한 결과가 있을 수 있기 때문에 의사결정이 어려운 상황에 직면할 때가 있습니다. 그런 경우 저는 각 옵션의 위험과 이점을 분석하고 비교하여 원하는 결과를 얻을 가능성이 가장 높은 결론에 도달할 수 있는 능력을 활용합니다.', '원자는 모든 물질의 기본 구성 요소이며 양성자, 중성자, 전자의 세 가지 유형의 입자로 이루어져 있습니다. 원자의 구조는 전자 구름으로 둘러싸인 중앙에 핵이 있는 것으로 설명할 수 있습니다.\\n\\n원자의 핵은 양성자와 중성자로 구성됩니다. 양성자는 양전하를 띠는 입자이고 중성자는 전하를 띠지 않는 중성 입자입니다. 이 두 입자는 원자의 중심에 있으며 원자 질량의 대부분을 차지하는 원자핵에 위치합니다.\\n\\n원자핵을 둘러싸고 있는 것은 전자 구름입니다. 전자는 음전하를 띠는 입자로, 원자핵 주변에서 끊임없이 움직입니다. 전자 구름은 껍질 또는 궤도로 나뉘며, 각 껍질은 특정 수의 전자를 보유할 수 있습니다. 원자가 껍질이라고 하는 가장 바깥쪽 껍질에 있는 전자의 수에 따라 원자의 화학적 특성이 결정됩니다.\\n\\n중성 원자에서 핵의 양성자 수는 전자 구름의 전자 수와 같으므로 양전하와 음전하가 균형을 이루며 원자는 전체 전하를 갖지 않습니다. 원자 번호라고도 하는 양성자의 수는 원자가 어떤 원소인지 결정합니다.']}\n"
     ]
    }
   ],
   "source": [
    "# 데이터셋의 처음 3개 샘플을 출력\n",
    "print(data['train'][:3])"
   ]
  },
  {
   "cell_type": "markdown",
   "id": "52f6dc61",
   "metadata": {},
   "source": [
    "### 기본 통계량 계산\n",
    "문장의 길이, 단어의 개수, 고유 단어의 개수 등을 계산합니다."
   ]
  },
  {
   "cell_type": "code",
   "execution_count": 6,
   "id": "1b1eb52d",
   "metadata": {},
   "outputs": [
    {
     "data": {
      "text/html": [
       "<div>\n",
       "<style scoped>\n",
       "    .dataframe tbody tr th:only-of-type {\n",
       "        vertical-align: middle;\n",
       "    }\n",
       "\n",
       "    .dataframe tbody tr th {\n",
       "        vertical-align: top;\n",
       "    }\n",
       "\n",
       "    .dataframe thead th {\n",
       "        text-align: right;\n",
       "    }\n",
       "</style>\n",
       "<table border=\"1\" class=\"dataframe\">\n",
       "  <thead>\n",
       "    <tr style=\"text-align: right;\">\n",
       "      <th></th>\n",
       "      <th>id</th>\n",
       "      <th>instruction</th>\n",
       "      <th>input</th>\n",
       "      <th>output</th>\n",
       "    </tr>\n",
       "  </thead>\n",
       "  <tbody>\n",
       "    <tr>\n",
       "      <th>0</th>\n",
       "      <td>alpaca_{idx}</td>\n",
       "      <td>3원색이란 무엇인가요?</td>\n",
       "      <td></td>\n",
       "      <td>세 가지 기본 색은 빨강, 파랑, 노랑입니다. 이 색은 다른 색을 혼합하여 만들 수...</td>\n",
       "    </tr>\n",
       "    <tr>\n",
       "      <th>1</th>\n",
       "      <td>alpaca_{idx}</td>\n",
       "      <td>어려운 결정을 내려야 했던 순간을 설명해 주세요.</td>\n",
       "      <td></td>\n",
       "      <td>AI 어시스턴트인 저는 저만의 개인적인 경험이나 물리적 존재를 가지고 있지 않습니다...</td>\n",
       "    </tr>\n",
       "    <tr>\n",
       "      <th>2</th>\n",
       "      <td>alpaca_{idx}</td>\n",
       "      <td>원자의 구조를 설명합니다.</td>\n",
       "      <td></td>\n",
       "      <td>원자는 모든 물질의 기본 구성 요소이며 양성자, 중성자, 전자의 세 가지 유형의 입...</td>\n",
       "    </tr>\n",
       "    <tr>\n",
       "      <th>3</th>\n",
       "      <td>alpaca_{idx}</td>\n",
       "      <td>대기 오염을 줄이려면 어떻게 해야 할까요?</td>\n",
       "      <td></td>\n",
       "      <td>대기 오염을 줄이는 방법에는 다음과 같은 여러 가지가 있습니다:\\n\\n1. 에너지 ...</td>\n",
       "    </tr>\n",
       "    <tr>\n",
       "      <th>4</th>\n",
       "      <td>alpaca_{idx}</td>\n",
       "      <td>건강을 유지하기 위한 세 가지 팁을 알려주세요.</td>\n",
       "      <td></td>\n",
       "      <td>1. 균형 잡힌 영양가 있는 식단을 섭취합니다: 식단에 다양한 과일과 채소, 저지방...</td>\n",
       "    </tr>\n",
       "    <tr>\n",
       "      <th>...</th>\n",
       "      <td>...</td>\n",
       "      <td>...</td>\n",
       "      <td>...</td>\n",
       "      <td>...</td>\n",
       "    </tr>\n",
       "    <tr>\n",
       "      <th>152625</th>\n",
       "      <td>vicuna_{idx}</td>\n",
       "      <td>자세히 보기</td>\n",
       "      <td></td>\n",
       "      <td>7가지 동영상 제목 아이디어가 더 있습니다:1. 시청자를 교육하고 신뢰를 구축하는 ...</td>\n",
       "    </tr>\n",
       "    <tr>\n",
       "      <th>152626</th>\n",
       "      <td>vicuna_{idx}</td>\n",
       "      <td>저는 다양한 직원의 순간(온보딩부터 오프보딩까지, 그리고 그 사이에 결혼, 질병 등...</td>\n",
       "      <td></td>\n",
       "      <td>직원의 중요한 순간을 위한 허브 사이트를 만들게 된 것을 축하합니다! 퇴직을 오프보...</td>\n",
       "    </tr>\n",
       "    <tr>\n",
       "      <th>152627</th>\n",
       "      <td>vicuna_{idx}</td>\n",
       "      <td>이미지가 PDF로 저장됩니다. 다르게 처리해야 하나요? 일부 PDF에는 이러한 출석...</td>\n",
       "      <td></td>\n",
       "      <td>예, PDF 페이지에서 이미지를 먼저 추출해야 하므로 PDF 파일을 다른 방식으로 ...</td>\n",
       "    </tr>\n",
       "    <tr>\n",
       "      <th>152628</th>\n",
       "      <td>vicuna_{idx}</td>\n",
       "      <td>더 많은 아이디어 제공</td>\n",
       "      <td></td>\n",
       "      <td>비감염성 질환 문제를 해결하기 위한 웹사이트 아이디어를 몇 가지 더 소개합니다:1....</td>\n",
       "    </tr>\n",
       "    <tr>\n",
       "      <th>152629</th>\n",
       "      <td>vicuna_{idx}</td>\n",
       "      <td>항바이러스제는 생명을 위협하는 바이러스에만 사용되나요?</td>\n",
       "      <td></td>\n",
       "      <td>항바이러스제는 생명을 위협하는 바이러스에만 사용되는 것이 아닙니다. 경증 및 중증 ...</td>\n",
       "    </tr>\n",
       "  </tbody>\n",
       "</table>\n",
       "<p>152630 rows × 4 columns</p>\n",
       "</div>"
      ],
      "text/plain": [
       "                  id                                        instruction input  \\\n",
       "0       alpaca_{idx}                                       3원색이란 무엇인가요?         \n",
       "1       alpaca_{idx}                        어려운 결정을 내려야 했던 순간을 설명해 주세요.         \n",
       "2       alpaca_{idx}                                     원자의 구조를 설명합니다.         \n",
       "3       alpaca_{idx}                            대기 오염을 줄이려면 어떻게 해야 할까요?         \n",
       "4       alpaca_{idx}                         건강을 유지하기 위한 세 가지 팁을 알려주세요.         \n",
       "...              ...                                                ...   ...   \n",
       "152625  vicuna_{idx}                                             자세히 보기         \n",
       "152626  vicuna_{idx}  저는 다양한 직원의 순간(온보딩부터 오프보딩까지, 그리고 그 사이에 결혼, 질병 등...         \n",
       "152627  vicuna_{idx}  이미지가 PDF로 저장됩니다. 다르게 처리해야 하나요? 일부 PDF에는 이러한 출석...         \n",
       "152628  vicuna_{idx}                                       더 많은 아이디어 제공         \n",
       "152629  vicuna_{idx}                     항바이러스제는 생명을 위협하는 바이러스에만 사용되나요?         \n",
       "\n",
       "                                                   output  \n",
       "0       세 가지 기본 색은 빨강, 파랑, 노랑입니다. 이 색은 다른 색을 혼합하여 만들 수...  \n",
       "1       AI 어시스턴트인 저는 저만의 개인적인 경험이나 물리적 존재를 가지고 있지 않습니다...  \n",
       "2       원자는 모든 물질의 기본 구성 요소이며 양성자, 중성자, 전자의 세 가지 유형의 입...  \n",
       "3       대기 오염을 줄이는 방법에는 다음과 같은 여러 가지가 있습니다:\\n\\n1. 에너지 ...  \n",
       "4       1. 균형 잡힌 영양가 있는 식단을 섭취합니다: 식단에 다양한 과일과 채소, 저지방...  \n",
       "...                                                   ...  \n",
       "152625  7가지 동영상 제목 아이디어가 더 있습니다:1. 시청자를 교육하고 신뢰를 구축하는 ...  \n",
       "152626  직원의 중요한 순간을 위한 허브 사이트를 만들게 된 것을 축하합니다! 퇴직을 오프보...  \n",
       "152627  예, PDF 페이지에서 이미지를 먼저 추출해야 하므로 PDF 파일을 다른 방식으로 ...  \n",
       "152628  비감염성 질환 문제를 해결하기 위한 웹사이트 아이디어를 몇 가지 더 소개합니다:1....  \n",
       "152629  항바이러스제는 생명을 위협하는 바이러스에만 사용되는 것이 아닙니다. 경증 및 중증 ...  \n",
       "\n",
       "[152630 rows x 4 columns]"
      ]
     },
     "execution_count": 6,
     "metadata": {},
     "output_type": "execute_result"
    }
   ],
   "source": [
    "import pandas as pd\n",
    "\n",
    "# 데이터셋을 pandas DataFrame으로 변환\n",
    "df = pd.DataFrame(data['train'])\n",
    "\n",
    "df"
   ]
  },
  {
   "cell_type": "code",
   "execution_count": 9,
   "id": "3236bd12",
   "metadata": {},
   "outputs": [
    {
     "name": "stdout",
     "output_type": "stream",
     "text": [
      "       instruction_length   input_length  output_length\n",
      "count       152630.000000  152630.000000  152630.000000\n",
      "mean           159.659209      21.391404     653.133519\n",
      "std            571.326172     149.934448     617.208994\n",
      "min              0.000000       0.000000       0.000000\n",
      "25%             23.000000       0.000000     171.000000\n",
      "50%             33.000000       0.000000     529.000000\n",
      "75%             57.000000       0.000000     912.000000\n",
      "max          23515.000000    9244.000000    6079.000000\n"
     ]
    },
    {
     "data": {
      "text/html": [
       "<div>\n",
       "<style scoped>\n",
       "    .dataframe tbody tr th:only-of-type {\n",
       "        vertical-align: middle;\n",
       "    }\n",
       "\n",
       "    .dataframe tbody tr th {\n",
       "        vertical-align: top;\n",
       "    }\n",
       "\n",
       "    .dataframe thead th {\n",
       "        text-align: right;\n",
       "    }\n",
       "</style>\n",
       "<table border=\"1\" class=\"dataframe\">\n",
       "  <thead>\n",
       "    <tr style=\"text-align: right;\">\n",
       "      <th></th>\n",
       "      <th>id</th>\n",
       "      <th>instruction</th>\n",
       "      <th>input</th>\n",
       "      <th>output</th>\n",
       "      <th>instruction_length</th>\n",
       "      <th>input_length</th>\n",
       "      <th>output_length</th>\n",
       "    </tr>\n",
       "  </thead>\n",
       "  <tbody>\n",
       "    <tr>\n",
       "      <th>0</th>\n",
       "      <td>alpaca_{idx}</td>\n",
       "      <td>3원색이란 무엇인가요?</td>\n",
       "      <td></td>\n",
       "      <td>세 가지 기본 색은 빨강, 파랑, 노랑입니다. 이 색은 다른 색을 혼합하여 만들 수...</td>\n",
       "      <td>12</td>\n",
       "      <td>0</td>\n",
       "      <td>140</td>\n",
       "    </tr>\n",
       "    <tr>\n",
       "      <th>1</th>\n",
       "      <td>alpaca_{idx}</td>\n",
       "      <td>어려운 결정을 내려야 했던 순간을 설명해 주세요.</td>\n",
       "      <td></td>\n",
       "      <td>AI 어시스턴트인 저는 저만의 개인적인 경험이나 물리적 존재를 가지고 있지 않습니다...</td>\n",
       "      <td>27</td>\n",
       "      <td>0</td>\n",
       "      <td>238</td>\n",
       "    </tr>\n",
       "    <tr>\n",
       "      <th>2</th>\n",
       "      <td>alpaca_{idx}</td>\n",
       "      <td>원자의 구조를 설명합니다.</td>\n",
       "      <td></td>\n",
       "      <td>원자는 모든 물질의 기본 구성 요소이며 양성자, 중성자, 전자의 세 가지 유형의 입...</td>\n",
       "      <td>14</td>\n",
       "      <td>0</td>\n",
       "      <td>508</td>\n",
       "    </tr>\n",
       "    <tr>\n",
       "      <th>3</th>\n",
       "      <td>alpaca_{idx}</td>\n",
       "      <td>대기 오염을 줄이려면 어떻게 해야 할까요?</td>\n",
       "      <td></td>\n",
       "      <td>대기 오염을 줄이는 방법에는 다음과 같은 여러 가지가 있습니다:\\n\\n1. 에너지 ...</td>\n",
       "      <td>23</td>\n",
       "      <td>0</td>\n",
       "      <td>712</td>\n",
       "    </tr>\n",
       "    <tr>\n",
       "      <th>4</th>\n",
       "      <td>alpaca_{idx}</td>\n",
       "      <td>건강을 유지하기 위한 세 가지 팁을 알려주세요.</td>\n",
       "      <td></td>\n",
       "      <td>1. 균형 잡힌 영양가 있는 식단을 섭취합니다: 식단에 다양한 과일과 채소, 저지방...</td>\n",
       "      <td>26</td>\n",
       "      <td>0</td>\n",
       "      <td>402</td>\n",
       "    </tr>\n",
       "    <tr>\n",
       "      <th>...</th>\n",
       "      <td>...</td>\n",
       "      <td>...</td>\n",
       "      <td>...</td>\n",
       "      <td>...</td>\n",
       "      <td>...</td>\n",
       "      <td>...</td>\n",
       "      <td>...</td>\n",
       "    </tr>\n",
       "    <tr>\n",
       "      <th>152625</th>\n",
       "      <td>vicuna_{idx}</td>\n",
       "      <td>자세히 보기</td>\n",
       "      <td></td>\n",
       "      <td>7가지 동영상 제목 아이디어가 더 있습니다:1. 시청자를 교육하고 신뢰를 구축하는 ...</td>\n",
       "      <td>7</td>\n",
       "      <td>0</td>\n",
       "      <td>280</td>\n",
       "    </tr>\n",
       "    <tr>\n",
       "      <th>152626</th>\n",
       "      <td>vicuna_{idx}</td>\n",
       "      <td>저는 다양한 직원의 순간(온보딩부터 오프보딩까지, 그리고 그 사이에 결혼, 질병 등...</td>\n",
       "      <td></td>\n",
       "      <td>직원의 중요한 순간을 위한 허브 사이트를 만들게 된 것을 축하합니다! 퇴직을 오프보...</td>\n",
       "      <td>141</td>\n",
       "      <td>0</td>\n",
       "      <td>1000</td>\n",
       "    </tr>\n",
       "    <tr>\n",
       "      <th>152627</th>\n",
       "      <td>vicuna_{idx}</td>\n",
       "      <td>이미지가 PDF로 저장됩니다. 다르게 처리해야 하나요? 일부 PDF에는 이러한 출석...</td>\n",
       "      <td></td>\n",
       "      <td>예, PDF 페이지에서 이미지를 먼저 추출해야 하므로 PDF 파일을 다른 방식으로 ...</td>\n",
       "      <td>80</td>\n",
       "      <td>0</td>\n",
       "      <td>1532</td>\n",
       "    </tr>\n",
       "    <tr>\n",
       "      <th>152628</th>\n",
       "      <td>vicuna_{idx}</td>\n",
       "      <td>더 많은 아이디어 제공</td>\n",
       "      <td></td>\n",
       "      <td>비감염성 질환 문제를 해결하기 위한 웹사이트 아이디어를 몇 가지 더 소개합니다:1....</td>\n",
       "      <td>12</td>\n",
       "      <td>0</td>\n",
       "      <td>1222</td>\n",
       "    </tr>\n",
       "    <tr>\n",
       "      <th>152629</th>\n",
       "      <td>vicuna_{idx}</td>\n",
       "      <td>항바이러스제는 생명을 위협하는 바이러스에만 사용되나요?</td>\n",
       "      <td></td>\n",
       "      <td>항바이러스제는 생명을 위협하는 바이러스에만 사용되는 것이 아닙니다. 경증 및 중증 ...</td>\n",
       "      <td>30</td>\n",
       "      <td>0</td>\n",
       "      <td>603</td>\n",
       "    </tr>\n",
       "  </tbody>\n",
       "</table>\n",
       "<p>152630 rows × 7 columns</p>\n",
       "</div>"
      ],
      "text/plain": [
       "                  id                                        instruction input  \\\n",
       "0       alpaca_{idx}                                       3원색이란 무엇인가요?         \n",
       "1       alpaca_{idx}                        어려운 결정을 내려야 했던 순간을 설명해 주세요.         \n",
       "2       alpaca_{idx}                                     원자의 구조를 설명합니다.         \n",
       "3       alpaca_{idx}                            대기 오염을 줄이려면 어떻게 해야 할까요?         \n",
       "4       alpaca_{idx}                         건강을 유지하기 위한 세 가지 팁을 알려주세요.         \n",
       "...              ...                                                ...   ...   \n",
       "152625  vicuna_{idx}                                             자세히 보기         \n",
       "152626  vicuna_{idx}  저는 다양한 직원의 순간(온보딩부터 오프보딩까지, 그리고 그 사이에 결혼, 질병 등...         \n",
       "152627  vicuna_{idx}  이미지가 PDF로 저장됩니다. 다르게 처리해야 하나요? 일부 PDF에는 이러한 출석...         \n",
       "152628  vicuna_{idx}                                       더 많은 아이디어 제공         \n",
       "152629  vicuna_{idx}                     항바이러스제는 생명을 위협하는 바이러스에만 사용되나요?         \n",
       "\n",
       "                                                   output  instruction_length  \\\n",
       "0       세 가지 기본 색은 빨강, 파랑, 노랑입니다. 이 색은 다른 색을 혼합하여 만들 수...                  12   \n",
       "1       AI 어시스턴트인 저는 저만의 개인적인 경험이나 물리적 존재를 가지고 있지 않습니다...                  27   \n",
       "2       원자는 모든 물질의 기본 구성 요소이며 양성자, 중성자, 전자의 세 가지 유형의 입...                  14   \n",
       "3       대기 오염을 줄이는 방법에는 다음과 같은 여러 가지가 있습니다:\\n\\n1. 에너지 ...                  23   \n",
       "4       1. 균형 잡힌 영양가 있는 식단을 섭취합니다: 식단에 다양한 과일과 채소, 저지방...                  26   \n",
       "...                                                   ...                 ...   \n",
       "152625  7가지 동영상 제목 아이디어가 더 있습니다:1. 시청자를 교육하고 신뢰를 구축하는 ...                   7   \n",
       "152626  직원의 중요한 순간을 위한 허브 사이트를 만들게 된 것을 축하합니다! 퇴직을 오프보...                 141   \n",
       "152627  예, PDF 페이지에서 이미지를 먼저 추출해야 하므로 PDF 파일을 다른 방식으로 ...                  80   \n",
       "152628  비감염성 질환 문제를 해결하기 위한 웹사이트 아이디어를 몇 가지 더 소개합니다:1....                  12   \n",
       "152629  항바이러스제는 생명을 위협하는 바이러스에만 사용되는 것이 아닙니다. 경증 및 중증 ...                  30   \n",
       "\n",
       "        input_length  output_length  \n",
       "0                  0            140  \n",
       "1                  0            238  \n",
       "2                  0            508  \n",
       "3                  0            712  \n",
       "4                  0            402  \n",
       "...              ...            ...  \n",
       "152625             0            280  \n",
       "152626             0           1000  \n",
       "152627             0           1532  \n",
       "152628             0           1222  \n",
       "152629             0            603  \n",
       "\n",
       "[152630 rows x 7 columns]"
      ]
     },
     "execution_count": 9,
     "metadata": {},
     "output_type": "execute_result"
    }
   ],
   "source": [
    "# 문장 길이, 단어 수 등 기본 통계량 계산\n",
    "df['instruction_length'] = df['instruction'].apply(len)\n",
    "df['input_length'] = df['input'].apply(len)\n",
    "df['output_length'] = df['output'].apply(len)\n",
    "\n",
    "print(df.describe())\n",
    "df"
   ]
  },
  {
   "cell_type": "code",
   "execution_count": null,
   "outputs": [],
   "source": [
    "!pip install seaborn"
   ],
   "metadata": {
    "collapsed": false
   }
  },
  {
   "cell_type": "markdown",
   "id": "d84c4249",
   "metadata": {},
   "source": [
    "### 각각 칼럼별 문장들의 분포를 시각화\n",
    "\n",
    "로그 스케일은 특히 값의 범위가 넓거나, 작은 값들의 분포가 중요할 때 유용합니다."
   ]
  },
  {
   "cell_type": "code",
   "execution_count": 12,
   "id": "6f9fffb9",
   "metadata": {},
   "outputs": [
    {
     "data": {
      "image/png": "[encoded data removed]",
      "text/plain": [
       "<Figure size 1500x500 with 3 Axes>"
      ]
     },
     "metadata": {},
     "output_type": "display_data"
    }
   ],
   "source": [
    "import matplotlib.pyplot as plt\n",
    "import seaborn as sns\n",
    "import numpy as np\n",
    "\n",
    "# 로그 스케일을 적용하고 막대기 색상을 설정한 히스토그램 생성\n",
    "plt.figure(figsize=(15, 5))\n",
    "\n",
    "# 색상 정의\n",
    "colors = ['navy', 'orange', 'green']\n",
    "\n",
    "# 각 열에 대해 히스토그램 그리기\n",
    "for i, column in enumerate(['instruction_length', 'input_length', 'output_length']):\n",
    "    plt.subplot(1, 3, i + 1)\n",
    "    sns.histplot(df[column], kde=False, log_scale=(True), color=colors[i]) # Y축만 로그\n",
    "    plt.title(f'{column} Distribution (Log Scale)')\n",
    "\n",
    "plt.tight_layout()\n",
    "plt.show()\n"
   ]
  },
  {
   "cell_type": "markdown",
   "id": "a6ddacbc",
   "metadata": {},
   "source": [
    "### 커널 밀도 추정(KDE) 시각화 (Instruction Length vs Output Length):\n",
    "- 'instruction_length'와 'output_length' 간의 관계를 보여줍니다.\n",
    "- 데이터 포인트의 밀도를 추정하여 표현하는 플롯입니다. KDE 플롯은 데이터 분포의 \"스무드(smoother)\"한 버전을 제공합니다.\n"
   ]
  },
  {
   "cell_type": "code",
   "execution_count": 13,
   "id": "01c1eda8",
   "metadata": {},
   "outputs": [
    {
     "data": {
      "text/plain": [
       "<Figure size 1000x600 with 0 Axes>"
      ]
     },
     "metadata": {},
     "output_type": "display_data"
    },
    {
     "data": {
      "image/png": "[encoded data removed]",
      "text/plain": [
       "<Figure size 600x600 with 3 Axes>"
      ]
     },
     "metadata": {},
     "output_type": "display_data"
    }
   ],
   "source": [
    "# KDE 플롯 생성\n",
    "df_sample = df.head(2000) #시각화 실습시간을 위해 셈플링한 데이터만 수행했습니다. \n",
    "\n",
    "\n",
    "# 1사분위수(Q1)와 3사분위수(Q3) 계산 (숫자형 열만)\n",
    "Q1 = df.quantile(0.25, numeric_only=True)\n",
    "Q3 = df.quantile(0.75, numeric_only=True)\n",
    "IQR = Q3 - Q1\n",
    "\n",
    "# 숫자형 열만 선택\n",
    "numeric_columns = df_sample.select_dtypes(include=[np.number])\n",
    "\n",
    "# 아웃라이어를 제외한 데이터 필터링 (숫자형 열에 대해서만)\n",
    "filtered_df = df_sample[~((numeric_columns < (Q1 - 1.5 * IQR)) |(numeric_columns > (Q3 + 1.5 * IQR))).any(axis=1)]\n",
    "\n",
    "# 필터링된 데이터로 KDE 플롯 생성\n",
    "plt.figure(figsize=(10, 6))\n",
    "sns.jointplot(data=filtered_df, x='instruction_length', y='output_length', kind='kde')\n",
    "plt.suptitle('KDE Plot Without Outliers: Instruction Length vs Output Length', y=1.05)\n",
    "plt.show()\n"
   ]
  },
  {
   "cell_type": "markdown",
   "id": "58318fd7",
   "metadata": {},
   "source": [
    "### 질문문장의 고유명사의 빈도수를 추출\n",
    "- 파인튜닝 하기 위한 특정 고유명사들이 입력 학습 데이터에 충분히 들어있는지 확인해봅니다. \n",
    "- konlpy 라이브러리의 Hannanum,Okt 등의 클래스를 사용하여 한글 텍스트에서 명사를 추출할 수 있습니다. \n"
   ]
  },
  {
   "cell_type": "code",
   "execution_count": 14,
   "id": "7a20703d",
   "metadata": {},
   "outputs": [
    {
     "name": "stdout",
     "output_type": "stream",
     "text": [
      "Requirement already satisfied: konlpy in /home/ec2-user/anaconda3/envs/pytorch_p310/lib/python3.10/site-packages (0.6.0)\r\n",
      "Requirement already satisfied: JPype1>=0.7.0 in /home/ec2-user/anaconda3/envs/pytorch_p310/lib/python3.10/site-packages (from konlpy) (1.5.0)\r\n",
      "Requirement already satisfied: lxml>=4.1.0 in /home/ec2-user/anaconda3/envs/pytorch_p310/lib/python3.10/site-packages (from konlpy) (5.1.0)\r\n",
      "Requirement already satisfied: numpy>=1.6 in /home/ec2-user/anaconda3/envs/pytorch_p310/lib/python3.10/site-packages (from konlpy) (1.26.3)\r\n",
      "Requirement already satisfied: packaging in /home/ec2-user/anaconda3/envs/pytorch_p310/lib/python3.10/site-packages (from JPype1>=0.7.0->konlpy) (23.2)\r\n"
     ]
    }
   ],
   "source": [
    "!pip install konlpy"
   ]
  },
  {
   "cell_type": "code",
   "execution_count": 15,
   "id": "26a2bdef",
   "metadata": {},
   "outputs": [
    {
     "name": "stdout",
     "output_type": "stream",
     "text": [
      "다음: 359\n",
      "문장: 337\n",
      "설명: 278\n",
      "작성: 254\n",
      "생성: 168\n",
      "단어: 132\n",
      "사용: 129\n",
      "목록: 125\n",
      "수: 113\n",
      "가지: 96\n"
     ]
    }
   ],
   "source": [
    "from konlpy.tag import Hannanum\n",
    "from collections import Counter\n",
    "\n",
    "df_sample = df.head(2000) #시각화 실습시간을 위해 셈플링한 데이터만 수행했습니다.\n",
    "\n",
    "# Hannanum 객체 생성\n",
    "hannanum = Hannanum()\n",
    "\n",
    "# 한글 텍스트가 포함된 열 선택 (예시: 'instruction'이라는 열 이름 가정)\n",
    "text_data = df_sample['instruction']\n",
    "\n",
    "# 모든 문장에서 명사 추출 및 빈도수 계산\n",
    "word_counts = Counter()\n",
    "\n",
    "for text in text_data:\n",
    "    # 텍스트에서 명사 추출\n",
    "    nouns = hannanum.nouns(text)\n",
    "    word_counts.update(nouns)\n",
    "\n",
    "# 가장 흔한 단어 및 빈도수 출력\n",
    "for word, count in word_counts.most_common(10):\n",
    "    print(f\"{word}: {count}\")\n"
   ]
  },
  {
   "cell_type": "code",
   "execution_count": 16,
   "id": "19faabb4",
   "metadata": {},
   "outputs": [
    {
     "name": "stdout",
     "output_type": "stream",
     "text": [
      "Index(['id', 'instruction', 'input', 'output', 'instruction_length',\n",
      "       'input_length', 'output_length'],\n",
      "      dtype='object')\n"
     ]
    }
   ],
   "source": [
    "print(df.columns)"
   ]
  },
  {
   "cell_type": "markdown",
   "id": "db900453",
   "metadata": {},
   "source": [
    "### 문장 길이, 단어 빈도 등을 시각화"
   ]
  },
  {
   "cell_type": "code",
   "execution_count": 17,
   "id": "db2a7211",
   "metadata": {},
   "outputs": [
    {
     "data": {
      "image/png": "[encoded data removed]",
      "text/plain": [
       "<Figure size 640x480 with 1 Axes>"
      ]
     },
     "metadata": {},
     "output_type": "display_data"
    }
   ],
   "source": [
    "import matplotlib.pyplot as plt\n",
    "\n",
    "# 문장 길이 분포 시각화\n",
    "plt.hist(df['instruction_length'], bins=50, alpha=0.5, label='Instruction Length')\n",
    "plt.hist(df['input_length'], bins=50, alpha=0.5, label='Input Length')\n",
    "plt.hist(df['output_length'], bins=50, alpha=0.5, label='Output Length')\n",
    "plt.legend(loc='upper right')\n",
    "plt.show()"
   ]
  },
  {
   "cell_type": "markdown",
   "id": "0cc7748a",
   "metadata": {},
   "source": [
    "### 고유 단어 및 빈도수 분석"
   ]
  },
  {
   "cell_type": "code",
   "execution_count": 18,
   "id": "bf80dd88",
   "metadata": {},
   "outputs": [
    {
     "name": "stdout",
     "output_type": "stream",
     "text": [
      "가장 자주 등장하는 단어 10개 :  [('수', 54541), ('=', 37405), ('대한', 30755), ('이', 25735), ('및', 25516), ('있는', 22676), ('있습니다.', 18468), ('-', 16558), ('더', 15042), ('{', 14709)]\n",
      "\n",
      "\n",
      "가장 드물게 등장하는 단어 10개 :  [('바이러스에만', 1), ('항바이러스제는', 1), ('PDF에는', 1), ('퇴직입니다(오프보딩과', 1), ('이벤트)으로', 1), ('결혼,', 1), ('오프보딩까지,', 1), ('순간(온보딩부터', 1), ('Peter의', 1), ('신규자', 1)]\n"
     ]
    }
   ],
   "source": [
    "from collections import Counter\n",
    "\n",
    "# 모든 문장을 단어로 분리\n",
    "all_words = ' '.join(df['instruction']).split()\n",
    "\n",
    "# 단어 빈도수 계산\n",
    "word_freq = Counter(all_words)\n",
    "\n",
    "# 가장 자주 등장하는 단어 10개\n",
    "print('가장 자주 등장하는 단어 10개 : ', word_freq.most_common(10))\n",
    "print('\\n')\n",
    "# 가장 드물게 등장하는 단어 10개\n",
    "print('가장 드물게 등장하는 단어 10개 : ', word_freq.most_common()[:-11:-1])\n"
   ]
  },
  {
   "cell_type": "markdown",
   "id": "39425f35-ece7-4888-9366-f54283075fc8",
   "metadata": {},
   "source": [
    "<br>\n",
    "\n",
    "## 2. Tokenize\n",
    "---\n",
    "목적: 텍스트를 더 작은 부분, 즉 \"토큰(token)\"으로 분리하는 과정입니다.토큰화의 주요 목적은 텍스트 데이터를 단순화하는 것입니다. 긴 텍스트를 더 작은 단위로 나누어 알고리즘이 언어를 처리하고 이해하기 쉽게 만듭니다. 토큰은 언어를 이해하는 기반을 마련합니다. 이 토큰들을 분석함으로써, 알고리즘은 문장의 의미를 해석하고 단어가 사용된 맥락을 이해할 수 있습니다.\n",
    "단위: 보통 단어, 문장, 문단 등을 토큰으로 분리합니다. 하지만 언어와 문맥에 따라 다를 수 있습니다.\n",
    "\n",
    "### NLP에서 Tokenization\n",
    "\n",
    "#### Tokenization (토큰화)\n",
    "\n",
    "**정의**: 토큰화는 큰 문단을 문장, 단어 또는 다른 단위로 분해하는 과정입니다. 이 과정은 텍스트의 구조를 이해하는 데 필수적이며, 자연어 처리(NLP)에서 종종 첫 번째 단계 중 하나입니다.\n",
    "\n",
    "**사용 사례**: \n",
    "- 텍스트 분류\n",
    "- 감정 분석\n",
    "- 기계 번역\n",
    "\n",
    "**예시**: \n",
    "```text\n",
    "입력: \"안녕하세요, 세상! 어떻게 지내세요?\"\n",
    "토큰: [\"안녕하세요\", \",\", \"세상\", \"!\", \"어떻게\", \"지내세요\", \"?\"]\n",
    "```\n",
    "\n",
    "**장점**:\n",
    "- 단순하고 빠름\n",
    "- 추가적인 텍스트 분석의 기초가 됨. 토큰화는 필터링, 정규화, 어간 추출(stemming) 및 표제어 추출(lemmatization) 같은 후속 데이터 전처리 단계의 기초를 제공합니다.\n",
    "- 토큰화를 통해 언어의 구문론적(syntactic) 및 의미론적(semantic) 특성을 파악할 수 있습니다. 이는 품사 태깅, 개체명 인식 등의 고급 NLP 작업에 필수적입니다.\n",
    "- 토큰화는 언어 모델이 텍스트를 효과적으로 이해하고 생성할 수 있게 도와줍니다. 이는 기계 번역, 감성 분석, 문서 요약 등의 작업에서 중요합니다.\n",
    "\n",
    "**단점**:\n",
    "- 단어 사이의 문맥과 의미 관계를 잃음\n",
    "- 새롭게 생겨나는 신조어, 속어, 인터넷 용어 등은 기존의 토큰화 도구에서 제대로 인식되지 않을 수 있습니다.\n",
    "- 단어들이 독립적으로 처리될 때 그 문맥상의 의미나 뉘앙스가 무시되기 쉽습니다.\n",
    "- 관용 표현을 잘 처리하지 못할 수 있음\n",
    "\n",
    "---"
   ]
  },
  {
   "cell_type": "markdown",
   "id": "6d7c3c17",
   "metadata": {},
   "source": [
    "### tokenize 함수\n",
    "- 주어진 텍스트(prompt)를 토큰화하는 역할을 합니다.\n",
    "- 토큰화된 결과는 cutoff_len으로 정의된 최대 길이로 제한합니다.\n",
    "\n",
    "### generate_and_tokenize_prompt 함수 \n",
    "- 데이터를 바탕으로 프롬프트를 생성하고 토큰화하는 역할을 합니다.\n",
    "- 학습 데이터를 모델에 적합한 형태로 변환하는 데 사용합니다."
   ]
  },
  {
   "cell_type": "code",
   "execution_count": 19,
   "id": "7a492cfc-8402-4fb1-8fe3-3b27c64c5c35",
   "metadata": {
    "tags": []
   },
   "outputs": [],
   "source": [
    "def tokenize(prompt, add_eos_token=True):\n",
    "    # there's probably a way to do this with the tokenizer settings\n",
    "    # but again, gotta move fast\n",
    "    result = tokenizer(\n",
    "        prompt,\n",
    "        truncation=True,\n",
    "        max_length=cutoff_len,\n",
    "        padding=False,\n",
    "        return_tensors=None,\n",
    "    )\n",
    "    if (\n",
    "        result[\"input_ids\"][-1] != tokenizer.eos_token_id\n",
    "        and len(result[\"input_ids\"]) < cutoff_len\n",
    "        and add_eos_token\n",
    "    ):\n",
    "        result[\"input_ids\"].append(tokenizer.eos_token_id)\n",
    "        result[\"attention_mask\"].append(1)\n",
    "\n",
    "    result[\"labels\"] = result[\"input_ids\"].copy()\n",
    "\n",
    "    return result\n",
    "\n",
    "def generate_and_tokenize_prompt(data_point):\n",
    "    full_prompt = prompter.generate_prompt(\n",
    "        data_point[\"instruction\"],\n",
    "        data_point.get(\"input\"),\n",
    "        data_point[\"output\"],\n",
    "    )\n",
    "    tokenized_full_prompt = tokenize(full_prompt)\n",
    "    if not train_on_inputs:\n",
    "        user_prompt = prompter.generate_prompt(data_point[\"instruction\"], data_point.get(\"input\"))\n",
    "        tokenized_user_prompt = tokenize(user_prompt, add_eos_token=add_eos_token)\n",
    "        user_prompt_len = len(tokenized_user_prompt[\"input_ids\"])\n",
    "\n",
    "        if add_eos_token:\n",
    "            user_prompt_len -= 1\n",
    "\n",
    "        tokenized_full_prompt[\"labels\"] = [-100] * user_prompt_len + tokenized_full_prompt[\"labels\"][\n",
    "            user_prompt_len:\n",
    "        ]  # could be sped up, probably\n",
    "    return tokenized_full_prompt\n"
   ]
  },
  {
   "cell_type": "code",
   "execution_count": 20,
   "id": "b870f0e1-eab7-45db-bd59-3bd5c9c19394",
   "metadata": {
    "tags": []
   },
   "outputs": [
    {
     "name": "stderr",
     "output_type": "stream",
     "text": [
      "Parameter 'function'=<function generate_and_tokenize_prompt at 0x7f161acbb5b0> of the transform datasets.arrow_dataset.Dataset._map_single couldn't be hashed properly, a random hash was used instead. Make sure your transforms and parameters are serializable with pickle or dill for the dataset fingerprinting and caching to work. If you reuse this transform, the caching mechanism will consider it to be different from the previous calls and recompute everything. This warning is only showed once. Subsequent hashing failures won't be showed.\n"
     ]
    },
    {
     "data": {
      "application/vnd.jupyter.widget-view+json": {
       "model_id": "4e95839d0f544b5b8a543acc90ef5287",
       "version_major": 2,
       "version_minor": 0
      },
      "text/plain": [
       "Map:   0%|          | 0/152630 [00:00<?, ? examples/s]"
      ]
     },
     "metadata": {},
     "output_type": "display_data"
    },
    {
     "name": "stdout",
     "output_type": "stream",
     "text": [
      "Total number of samples: 152630\n"
     ]
    }
   ],
   "source": [
    "dataset = data['train'].shuffle()#.select(range(100))\n",
    "lm_dataset = dataset.map(generate_and_tokenize_prompt)\n",
    "\n",
    "# Print total number of samples\n",
    "print(f\"Total number of samples: {len(lm_dataset)}\")"
   ]
  },
  {
   "cell_type": "code",
   "execution_count": 24,
   "id": "d7458604",
   "metadata": {},
   "outputs": [
    {
     "data": {
      "text/html": [
       "<div>\n",
       "<style scoped>\n",
       "    .dataframe tbody tr th:only-of-type {\n",
       "        vertical-align: middle;\n",
       "    }\n",
       "\n",
       "    .dataframe tbody tr th {\n",
       "        vertical-align: top;\n",
       "    }\n",
       "\n",
       "    .dataframe thead th {\n",
       "        text-align: right;\n",
       "    }\n",
       "</style>\n",
       "<table border=\"1\" class=\"dataframe\">\n",
       "  <thead>\n",
       "    <tr style=\"text-align: right;\">\n",
       "      <th></th>\n",
       "      <th>id</th>\n",
       "      <th>instruction</th>\n",
       "      <th>input</th>\n",
       "      <th>output</th>\n",
       "      <th>input_ids</th>\n",
       "      <th>attention_mask</th>\n",
       "      <th>labels</th>\n",
       "    </tr>\n",
       "  </thead>\n",
       "  <tbody>\n",
       "    <tr>\n",
       "      <th>0</th>\n",
       "      <td>vicuna_{idx}</td>\n",
       "      <td>이 코드는 마이어의 싱글톤을 구현한 코드입니다:#include Singleton 클...</td>\n",
       "      <td></td>\n",
       "      <td>예, 싱글톤 클래스의 인스턴스인 `inst` 변수를 호출하는 것이 적절합니다. 인스...</td>\n",
       "      <td>[12657, 272, 2236, 276, 1251, 284, 272, 5026, ...</td>\n",
       "      <td>[1, 1, 1, 1, 1, 1, 1, 1, 1, 1, 1, 1, 1, 1, 1, ...</td>\n",
       "      <td>[12657, 272, 2236, 276, 1251, 284, 272, 5026, ...</td>\n",
       "    </tr>\n",
       "    <tr>\n",
       "      <th>1</th>\n",
       "      <td>alpaca_{idx}</td>\n",
       "      <td>이 에세이 초안에서 개선해야 할 점은 무엇인가요?</td>\n",
       "      <td>정부는 수년 동안 환경 보호를 위한 법률을 통과시켜 왔습니다. 오염을 줄이고, 남획...</td>\n",
       "      <td>에세이 초안을 좀 더 발전시키고 정교화하면 도움이 될 수 있습니다. 예를 들어, 정...</td>\n",
       "      <td>[12657, 272, 2236, 276, 1251, 284, 272, 5026, ...</td>\n",
       "      <td>[1, 1, 1, 1, 1, 1, 1, 1, 1, 1, 1, 1, 1, 1, 1, ...</td>\n",
       "      <td>[12657, 272, 2236, 276, 1251, 284, 272, 5026, ...</td>\n",
       "    </tr>\n",
       "    <tr>\n",
       "      <th>2</th>\n",
       "      <td>alpaca_{idx}</td>\n",
       "      <td>사막 기후에 사는 사람이 비상 키트에 갖춰야 할 10가지 물품 목록을 생성합니다.</td>\n",
       "      <td></td>\n",
       "      <td>사막 기후에 사는 사람이 비상 키트에 갖춰야 할 10가지 품목을 소개합니다:\\n\\n...</td>\n",
       "      <td>[12657, 272, 2236, 276, 1251, 284, 272, 5026, ...</td>\n",
       "      <td>[1, 1, 1, 1, 1, 1, 1, 1, 1, 1, 1, 1, 1, 1, 1, ...</td>\n",
       "      <td>[12657, 272, 2236, 276, 1251, 284, 272, 5026, ...</td>\n",
       "    </tr>\n",
       "    <tr>\n",
       "      <th>3</th>\n",
       "      <td>vicuna_{idx}</td>\n",
       "      <td>구체화 된 뷰를 만든 직후에 \\*에서 \\*를 선택하면 어떤 출력이 출력되는지 예를 ...</td>\n",
       "      <td></td>\n",
       "      <td>앞서 제공된 쿼리를 사용하여 구체화된 뷰를 만든 직후에 `SELECT * FROM ...</td>\n",
       "      <td>[12657, 272, 2236, 276, 1251, 284, 272, 5026, ...</td>\n",
       "      <td>[1, 1, 1, 1, 1, 1, 1, 1, 1, 1, 1, 1, 1, 1, 1, ...</td>\n",
       "      <td>[12657, 272, 2236, 276, 1251, 284, 272, 5026, ...</td>\n",
       "    </tr>\n",
       "    <tr>\n",
       "      <th>4</th>\n",
       "      <td>vicuna_{idx}</td>\n",
       "      <td>20년 동안 파이썬과 파이썬 코딩을 가르치셨으니 여전히 온라인 파이썬 강좌 강사로 ...</td>\n",
       "      <td></td>\n",
       "      <td>은행 업계를 위한 3일간의 온라인 파이썬 강좌에서 다룰 수 있는 5가지 문제 영역은...</td>\n",
       "      <td>[12657, 272, 2236, 276, 1251, 284, 272, 5026, ...</td>\n",
       "      <td>[1, 1, 1, 1, 1, 1, 1, 1, 1, 1, 1, 1, 1, 1, 1, ...</td>\n",
       "      <td>[12657, 272, 2236, 276, 1251, 284, 272, 5026, ...</td>\n",
       "    </tr>\n",
       "    <tr>\n",
       "      <th>...</th>\n",
       "      <td>...</td>\n",
       "      <td>...</td>\n",
       "      <td>...</td>\n",
       "      <td>...</td>\n",
       "      <td>...</td>\n",
       "      <td>...</td>\n",
       "      <td>...</td>\n",
       "    </tr>\n",
       "    <tr>\n",
       "      <th>152625</th>\n",
       "      <td>vicuna_{idx}</td>\n",
       "      <td>NO-CORS FETCH JS 응답을 얻는 방법</td>\n",
       "      <td></td>\n",
       "      <td>no-cors` 모드로 `fetch()` 요청을 할 경우 CORS 정책 제한으로 인...</td>\n",
       "      <td>[12657, 272, 2236, 276, 1251, 284, 272, 5026, ...</td>\n",
       "      <td>[1, 1, 1, 1, 1, 1, 1, 1, 1, 1, 1, 1, 1, 1, 1, ...</td>\n",
       "      <td>[12657, 272, 2236, 276, 1251, 284, 272, 5026, ...</td>\n",
       "    </tr>\n",
       "    <tr>\n",
       "      <th>152626</th>\n",
       "      <td>alpaca_{idx}</td>\n",
       "      <td>이 문장을 개선하기 위해 세 가지 변경 사항을 제안합니다: \"현명한 생각이라고 생각...</td>\n",
       "      <td></td>\n",
       "      <td>1. \"나는 그것이 현명한 생각이라고 생각하지 않습니다.\"와 같이 축약어를 변경하여...</td>\n",
       "      <td>[12657, 272, 2236, 276, 1251, 284, 272, 5026, ...</td>\n",
       "      <td>[1, 1, 1, 1, 1, 1, 1, 1, 1, 1, 1, 1, 1, 1, 1, ...</td>\n",
       "      <td>[12657, 272, 2236, 276, 1251, 284, 272, 5026, ...</td>\n",
       "    </tr>\n",
       "    <tr>\n",
       "      <th>152627</th>\n",
       "      <td>vicuna_{idx}</td>\n",
       "      <td>VS 코드에서 코딩하는 10장의 세부 사항</td>\n",
       "      <td></td>\n",
       "      <td>10장: 프록시 서버로 NGINX 사용하기이 챕터에서는 Angular 앱 앞의 프록...</td>\n",
       "      <td>[12657, 272, 2236, 276, 1251, 284, 272, 5026, ...</td>\n",
       "      <td>[1, 1, 1, 1, 1, 1, 1, 1, 1, 1, 1, 1, 1, 1, 1, ...</td>\n",
       "      <td>[12657, 272, 2236, 276, 1251, 284, 272, 5026, ...</td>\n",
       "    </tr>\n",
       "    <tr>\n",
       "      <th>152628</th>\n",
       "      <td>alpaca_{idx}</td>\n",
       "      <td>다음 문장을 구문 분석하고 주어진 구조에 대한 사전을 만듭니다.</td>\n",
       "      <td>잭은 뉴욕에서 온 21세 학생입니다.</td>\n",
       "      <td>다음은 주어진 문장에 대해 가능한 사전 구조입니다:\\n\\n```\\n{\\n    \"이...</td>\n",
       "      <td>[12657, 272, 2236, 276, 1251, 284, 272, 5026, ...</td>\n",
       "      <td>[1, 1, 1, 1, 1, 1, 1, 1, 1, 1, 1, 1, 1, 1, 1, ...</td>\n",
       "      <td>[12657, 272, 2236, 276, 1251, 284, 272, 5026, ...</td>\n",
       "    </tr>\n",
       "    <tr>\n",
       "      <th>152629</th>\n",
       "      <td>dolly_{idx}</td>\n",
       "      <td>다음 중 하나를 다이버전트 시리즈의 진영 또는 루차도르 레슬러로 분류하세요: 에루다...</td>\n",
       "      <td></td>\n",
       "      <td>에루다이트: 다이버전트 시리즈 진영\\n캔더: 다이버전트 시리즈 진영\\n레이 미스테리...</td>\n",
       "      <td>[12657, 272, 2236, 276, 1251, 284, 272, 5026, ...</td>\n",
       "      <td>[1, 1, 1, 1, 1, 1, 1, 1, 1, 1, 1, 1, 1, 1, 1, ...</td>\n",
       "      <td>[12657, 272, 2236, 276, 1251, 284, 272, 5026, ...</td>\n",
       "    </tr>\n",
       "  </tbody>\n",
       "</table>\n",
       "<p>152630 rows × 7 columns</p>\n",
       "</div>"
      ],
      "text/plain": [
       "                  id                                        instruction  \\\n",
       "0       vicuna_{idx}  이 코드는 마이어의 싱글톤을 구현한 코드입니다:#include Singleton 클...   \n",
       "1       alpaca_{idx}                        이 에세이 초안에서 개선해야 할 점은 무엇인가요?   \n",
       "2       alpaca_{idx}      사막 기후에 사는 사람이 비상 키트에 갖춰야 할 10가지 물품 목록을 생성합니다.   \n",
       "3       vicuna_{idx}  구체화 된 뷰를 만든 직후에 \\*에서 \\*를 선택하면 어떤 출력이 출력되는지 예를 ...   \n",
       "4       vicuna_{idx}  20년 동안 파이썬과 파이썬 코딩을 가르치셨으니 여전히 온라인 파이썬 강좌 강사로 ...   \n",
       "...              ...                                                ...   \n",
       "152625  vicuna_{idx}                         NO-CORS FETCH JS 응답을 얻는 방법   \n",
       "152626  alpaca_{idx}  이 문장을 개선하기 위해 세 가지 변경 사항을 제안합니다: \"현명한 생각이라고 생각...   \n",
       "152627  vicuna_{idx}                            VS 코드에서 코딩하는 10장의 세부 사항   \n",
       "152628  alpaca_{idx}                다음 문장을 구문 분석하고 주어진 구조에 대한 사전을 만듭니다.   \n",
       "152629   dolly_{idx}  다음 중 하나를 다이버전트 시리즈의 진영 또는 루차도르 레슬러로 분류하세요: 에루다...   \n",
       "\n",
       "                                                    input  \\\n",
       "0                                                           \n",
       "1       정부는 수년 동안 환경 보호를 위한 법률을 통과시켜 왔습니다. 오염을 줄이고, 남획...   \n",
       "2                                                           \n",
       "3                                                           \n",
       "4                                                           \n",
       "...                                                   ...   \n",
       "152625                                                      \n",
       "152626                                                      \n",
       "152627                                                      \n",
       "152628                               잭은 뉴욕에서 온 21세 학생입니다.   \n",
       "152629                                                      \n",
       "\n",
       "                                                   output  \\\n",
       "0       예, 싱글톤 클래스의 인스턴스인 `inst` 변수를 호출하는 것이 적절합니다. 인스...   \n",
       "1       에세이 초안을 좀 더 발전시키고 정교화하면 도움이 될 수 있습니다. 예를 들어, 정...   \n",
       "2       사막 기후에 사는 사람이 비상 키트에 갖춰야 할 10가지 품목을 소개합니다:\\n\\n...   \n",
       "3       앞서 제공된 쿼리를 사용하여 구체화된 뷰를 만든 직후에 `SELECT * FROM ...   \n",
       "4       은행 업계를 위한 3일간의 온라인 파이썬 강좌에서 다룰 수 있는 5가지 문제 영역은...   \n",
       "...                                                   ...   \n",
       "152625  no-cors` 모드로 `fetch()` 요청을 할 경우 CORS 정책 제한으로 인...   \n",
       "152626  1. \"나는 그것이 현명한 생각이라고 생각하지 않습니다.\"와 같이 축약어를 변경하여...   \n",
       "152627  10장: 프록시 서버로 NGINX 사용하기이 챕터에서는 Angular 앱 앞의 프록...   \n",
       "152628  다음은 주어진 문장에 대해 가능한 사전 구조입니다:\\n\\n```\\n{\\n    \"이...   \n",
       "152629  에루다이트: 다이버전트 시리즈 진영\\n캔더: 다이버전트 시리즈 진영\\n레이 미스테리...   \n",
       "\n",
       "                                                input_ids  \\\n",
       "0       [12657, 272, 2236, 276, 1251, 284, 272, 5026, ...   \n",
       "1       [12657, 272, 2236, 276, 1251, 284, 272, 5026, ...   \n",
       "2       [12657, 272, 2236, 276, 1251, 284, 272, 5026, ...   \n",
       "3       [12657, 272, 2236, 276, 1251, 284, 272, 5026, ...   \n",
       "4       [12657, 272, 2236, 276, 1251, 284, 272, 5026, ...   \n",
       "...                                                   ...   \n",
       "152625  [12657, 272, 2236, 276, 1251, 284, 272, 5026, ...   \n",
       "152626  [12657, 272, 2236, 276, 1251, 284, 272, 5026, ...   \n",
       "152627  [12657, 272, 2236, 276, 1251, 284, 272, 5026, ...   \n",
       "152628  [12657, 272, 2236, 276, 1251, 284, 272, 5026, ...   \n",
       "152629  [12657, 272, 2236, 276, 1251, 284, 272, 5026, ...   \n",
       "\n",
       "                                           attention_mask  \\\n",
       "0       [1, 1, 1, 1, 1, 1, 1, 1, 1, 1, 1, 1, 1, 1, 1, ...   \n",
       "1       [1, 1, 1, 1, 1, 1, 1, 1, 1, 1, 1, 1, 1, 1, 1, ...   \n",
       "2       [1, 1, 1, 1, 1, 1, 1, 1, 1, 1, 1, 1, 1, 1, 1, ...   \n",
       "3       [1, 1, 1, 1, 1, 1, 1, 1, 1, 1, 1, 1, 1, 1, 1, ...   \n",
       "4       [1, 1, 1, 1, 1, 1, 1, 1, 1, 1, 1, 1, 1, 1, 1, ...   \n",
       "...                                                   ...   \n",
       "152625  [1, 1, 1, 1, 1, 1, 1, 1, 1, 1, 1, 1, 1, 1, 1, ...   \n",
       "152626  [1, 1, 1, 1, 1, 1, 1, 1, 1, 1, 1, 1, 1, 1, 1, ...   \n",
       "152627  [1, 1, 1, 1, 1, 1, 1, 1, 1, 1, 1, 1, 1, 1, 1, ...   \n",
       "152628  [1, 1, 1, 1, 1, 1, 1, 1, 1, 1, 1, 1, 1, 1, 1, ...   \n",
       "152629  [1, 1, 1, 1, 1, 1, 1, 1, 1, 1, 1, 1, 1, 1, 1, ...   \n",
       "\n",
       "                                                   labels  \n",
       "0       [12657, 272, 2236, 276, 1251, 284, 272, 5026, ...  \n",
       "1       [12657, 272, 2236, 276, 1251, 284, 272, 5026, ...  \n",
       "2       [12657, 272, 2236, 276, 1251, 284, 272, 5026, ...  \n",
       "3       [12657, 272, 2236, 276, 1251, 284, 272, 5026, ...  \n",
       "4       [12657, 272, 2236, 276, 1251, 284, 272, 5026, ...  \n",
       "...                                                   ...  \n",
       "152625  [12657, 272, 2236, 276, 1251, 284, 272, 5026, ...  \n",
       "152626  [12657, 272, 2236, 276, 1251, 284, 272, 5026, ...  \n",
       "152627  [12657, 272, 2236, 276, 1251, 284, 272, 5026, ...  \n",
       "152628  [12657, 272, 2236, 276, 1251, 284, 272, 5026, ...  \n",
       "152629  [12657, 272, 2236, 276, 1251, 284, 272, 5026, ...  \n",
       "\n",
       "[152630 rows x 7 columns]"
      ]
     },
     "execution_count": 24,
     "metadata": {},
     "output_type": "execute_result"
    }
   ],
   "source": [
    "df_lm = lm_dataset.to_pandas()\n",
    "df_lm"
   ]
  },
  {
   "cell_type": "code",
   "execution_count": 25,
   "id": "98c86083",
   "metadata": {},
   "outputs": [
    {
     "data": {
      "text/html": [
       "<div>\n",
       "<style scoped>\n",
       "    .dataframe tbody tr th:only-of-type {\n",
       "        vertical-align: middle;\n",
       "    }\n",
       "\n",
       "    .dataframe tbody tr th {\n",
       "        vertical-align: top;\n",
       "    }\n",
       "\n",
       "    .dataframe thead th {\n",
       "        text-align: right;\n",
       "    }\n",
       "</style>\n",
       "<table border=\"1\" class=\"dataframe\">\n",
       "  <thead>\n",
       "    <tr style=\"text-align: right;\">\n",
       "      <th></th>\n",
       "      <th>id</th>\n",
       "      <th>instruction</th>\n",
       "      <th>input</th>\n",
       "      <th>output</th>\n",
       "      <th>input_ids</th>\n",
       "      <th>attention_mask</th>\n",
       "      <th>labels</th>\n",
       "      <th>input_ids_length</th>\n",
       "    </tr>\n",
       "  </thead>\n",
       "  <tbody>\n",
       "    <tr>\n",
       "      <th>0</th>\n",
       "      <td>vicuna_{idx}</td>\n",
       "      <td>이 코드는 마이어의 싱글톤을 구현한 코드입니다:#include Singleton 클...</td>\n",
       "      <td></td>\n",
       "      <td>예, 싱글톤 클래스의 인스턴스인 `inst` 변수를 호출하는 것이 적절합니다. 인스...</td>\n",
       "      <td>[12657, 272, 2236, 276, 1251, 284, 272, 5026, ...</td>\n",
       "      <td>[1, 1, 1, 1, 1, 1, 1, 1, 1, 1, 1, 1, 1, 1, 1, ...</td>\n",
       "      <td>[12657, 272, 2236, 276, 1251, 284, 272, 5026, ...</td>\n",
       "      <td>680</td>\n",
       "    </tr>\n",
       "    <tr>\n",
       "      <th>1</th>\n",
       "      <td>alpaca_{idx}</td>\n",
       "      <td>이 에세이 초안에서 개선해야 할 점은 무엇인가요?</td>\n",
       "      <td>정부는 수년 동안 환경 보호를 위한 법률을 통과시켜 왔습니다. 오염을 줄이고, 남획...</td>\n",
       "      <td>에세이 초안을 좀 더 발전시키고 정교화하면 도움이 될 수 있습니다. 예를 들어, 정...</td>\n",
       "      <td>[12657, 272, 2236, 276, 1251, 284, 272, 5026, ...</td>\n",
       "      <td>[1, 1, 1, 1, 1, 1, 1, 1, 1, 1, 1, 1, 1, 1, 1, ...</td>\n",
       "      <td>[12657, 272, 2236, 276, 1251, 284, 272, 5026, ...</td>\n",
       "      <td>307</td>\n",
       "    </tr>\n",
       "    <tr>\n",
       "      <th>2</th>\n",
       "      <td>alpaca_{idx}</td>\n",
       "      <td>사막 기후에 사는 사람이 비상 키트에 갖춰야 할 10가지 물품 목록을 생성합니다.</td>\n",
       "      <td></td>\n",
       "      <td>사막 기후에 사는 사람이 비상 키트에 갖춰야 할 10가지 품목을 소개합니다:\\n\\n...</td>\n",
       "      <td>[12657, 272, 2236, 276, 1251, 284, 272, 5026, ...</td>\n",
       "      <td>[1, 1, 1, 1, 1, 1, 1, 1, 1, 1, 1, 1, 1, 1, 1, ...</td>\n",
       "      <td>[12657, 272, 2236, 276, 1251, 284, 272, 5026, ...</td>\n",
       "      <td>343</td>\n",
       "    </tr>\n",
       "    <tr>\n",
       "      <th>3</th>\n",
       "      <td>vicuna_{idx}</td>\n",
       "      <td>구체화 된 뷰를 만든 직후에 \\*에서 \\*를 선택하면 어떤 출력이 출력되는지 예를 ...</td>\n",
       "      <td></td>\n",
       "      <td>앞서 제공된 쿼리를 사용하여 구체화된 뷰를 만든 직후에 `SELECT * FROM ...</td>\n",
       "      <td>[12657, 272, 2236, 276, 1251, 284, 272, 5026, ...</td>\n",
       "      <td>[1, 1, 1, 1, 1, 1, 1, 1, 1, 1, 1, 1, 1, 1, 1, ...</td>\n",
       "      <td>[12657, 272, 2236, 276, 1251, 284, 272, 5026, ...</td>\n",
       "      <td>319</td>\n",
       "    </tr>\n",
       "    <tr>\n",
       "      <th>4</th>\n",
       "      <td>vicuna_{idx}</td>\n",
       "      <td>20년 동안 파이썬과 파이썬 코딩을 가르치셨으니 여전히 온라인 파이썬 강좌 강사로 ...</td>\n",
       "      <td></td>\n",
       "      <td>은행 업계를 위한 3일간의 온라인 파이썬 강좌에서 다룰 수 있는 5가지 문제 영역은...</td>\n",
       "      <td>[12657, 272, 2236, 276, 1251, 284, 272, 5026, ...</td>\n",
       "      <td>[1, 1, 1, 1, 1, 1, 1, 1, 1, 1, 1, 1, 1, 1, 1, ...</td>\n",
       "      <td>[12657, 272, 2236, 276, 1251, 284, 272, 5026, ...</td>\n",
       "      <td>693</td>\n",
       "    </tr>\n",
       "    <tr>\n",
       "      <th>...</th>\n",
       "      <td>...</td>\n",
       "      <td>...</td>\n",
       "      <td>...</td>\n",
       "      <td>...</td>\n",
       "      <td>...</td>\n",
       "      <td>...</td>\n",
       "      <td>...</td>\n",
       "      <td>...</td>\n",
       "    </tr>\n",
       "    <tr>\n",
       "      <th>152625</th>\n",
       "      <td>vicuna_{idx}</td>\n",
       "      <td>NO-CORS FETCH JS 응답을 얻는 방법</td>\n",
       "      <td></td>\n",
       "      <td>no-cors` 모드로 `fetch()` 요청을 할 경우 CORS 정책 제한으로 인...</td>\n",
       "      <td>[12657, 272, 2236, 276, 1251, 284, 272, 5026, ...</td>\n",
       "      <td>[1, 1, 1, 1, 1, 1, 1, 1, 1, 1, 1, 1, 1, 1, 1, ...</td>\n",
       "      <td>[12657, 272, 2236, 276, 1251, 284, 272, 5026, ...</td>\n",
       "      <td>372</td>\n",
       "    </tr>\n",
       "    <tr>\n",
       "      <th>152626</th>\n",
       "      <td>alpaca_{idx}</td>\n",
       "      <td>이 문장을 개선하기 위해 세 가지 변경 사항을 제안합니다: \"현명한 생각이라고 생각...</td>\n",
       "      <td></td>\n",
       "      <td>1. \"나는 그것이 현명한 생각이라고 생각하지 않습니다.\"와 같이 축약어를 변경하여...</td>\n",
       "      <td>[12657, 272, 2236, 276, 1251, 284, 272, 5026, ...</td>\n",
       "      <td>[1, 1, 1, 1, 1, 1, 1, 1, 1, 1, 1, 1, 1, 1, 1, ...</td>\n",
       "      <td>[12657, 272, 2236, 276, 1251, 284, 272, 5026, ...</td>\n",
       "      <td>172</td>\n",
       "    </tr>\n",
       "    <tr>\n",
       "      <th>152627</th>\n",
       "      <td>vicuna_{idx}</td>\n",
       "      <td>VS 코드에서 코딩하는 10장의 세부 사항</td>\n",
       "      <td></td>\n",
       "      <td>10장: 프록시 서버로 NGINX 사용하기이 챕터에서는 Angular 앱 앞의 프록...</td>\n",
       "      <td>[12657, 272, 2236, 276, 1251, 284, 272, 5026, ...</td>\n",
       "      <td>[1, 1, 1, 1, 1, 1, 1, 1, 1, 1, 1, 1, 1, 1, 1, ...</td>\n",
       "      <td>[12657, 272, 2236, 276, 1251, 284, 272, 5026, ...</td>\n",
       "      <td>1163</td>\n",
       "    </tr>\n",
       "    <tr>\n",
       "      <th>152628</th>\n",
       "      <td>alpaca_{idx}</td>\n",
       "      <td>다음 문장을 구문 분석하고 주어진 구조에 대한 사전을 만듭니다.</td>\n",
       "      <td>잭은 뉴욕에서 온 21세 학생입니다.</td>\n",
       "      <td>다음은 주어진 문장에 대해 가능한 사전 구조입니다:\\n\\n```\\n{\\n    \"이...</td>\n",
       "      <td>[12657, 272, 2236, 276, 1251, 284, 272, 5026, ...</td>\n",
       "      <td>[1, 1, 1, 1, 1, 1, 1, 1, 1, 1, 1, 1, 1, 1, 1, ...</td>\n",
       "      <td>[12657, 272, 2236, 276, 1251, 284, 272, 5026, ...</td>\n",
       "      <td>162</td>\n",
       "    </tr>\n",
       "    <tr>\n",
       "      <th>152629</th>\n",
       "      <td>dolly_{idx}</td>\n",
       "      <td>다음 중 하나를 다이버전트 시리즈의 진영 또는 루차도르 레슬러로 분류하세요: 에루다...</td>\n",
       "      <td></td>\n",
       "      <td>에루다이트: 다이버전트 시리즈 진영\\n캔더: 다이버전트 시리즈 진영\\n레이 미스테리...</td>\n",
       "      <td>[12657, 272, 2236, 276, 1251, 284, 272, 5026, ...</td>\n",
       "      <td>[1, 1, 1, 1, 1, 1, 1, 1, 1, 1, 1, 1, 1, 1, 1, ...</td>\n",
       "      <td>[12657, 272, 2236, 276, 1251, 284, 272, 5026, ...</td>\n",
       "      <td>202</td>\n",
       "    </tr>\n",
       "  </tbody>\n",
       "</table>\n",
       "<p>152630 rows × 8 columns</p>\n",
       "</div>"
      ],
      "text/plain": [
       "                  id                                        instruction  \\\n",
       "0       vicuna_{idx}  이 코드는 마이어의 싱글톤을 구현한 코드입니다:#include Singleton 클...   \n",
       "1       alpaca_{idx}                        이 에세이 초안에서 개선해야 할 점은 무엇인가요?   \n",
       "2       alpaca_{idx}      사막 기후에 사는 사람이 비상 키트에 갖춰야 할 10가지 물품 목록을 생성합니다.   \n",
       "3       vicuna_{idx}  구체화 된 뷰를 만든 직후에 \\*에서 \\*를 선택하면 어떤 출력이 출력되는지 예를 ...   \n",
       "4       vicuna_{idx}  20년 동안 파이썬과 파이썬 코딩을 가르치셨으니 여전히 온라인 파이썬 강좌 강사로 ...   \n",
       "...              ...                                                ...   \n",
       "152625  vicuna_{idx}                         NO-CORS FETCH JS 응답을 얻는 방법   \n",
       "152626  alpaca_{idx}  이 문장을 개선하기 위해 세 가지 변경 사항을 제안합니다: \"현명한 생각이라고 생각...   \n",
       "152627  vicuna_{idx}                            VS 코드에서 코딩하는 10장의 세부 사항   \n",
       "152628  alpaca_{idx}                다음 문장을 구문 분석하고 주어진 구조에 대한 사전을 만듭니다.   \n",
       "152629   dolly_{idx}  다음 중 하나를 다이버전트 시리즈의 진영 또는 루차도르 레슬러로 분류하세요: 에루다...   \n",
       "\n",
       "                                                    input  \\\n",
       "0                                                           \n",
       "1       정부는 수년 동안 환경 보호를 위한 법률을 통과시켜 왔습니다. 오염을 줄이고, 남획...   \n",
       "2                                                           \n",
       "3                                                           \n",
       "4                                                           \n",
       "...                                                   ...   \n",
       "152625                                                      \n",
       "152626                                                      \n",
       "152627                                                      \n",
       "152628                               잭은 뉴욕에서 온 21세 학생입니다.   \n",
       "152629                                                      \n",
       "\n",
       "                                                   output  \\\n",
       "0       예, 싱글톤 클래스의 인스턴스인 `inst` 변수를 호출하는 것이 적절합니다. 인스...   \n",
       "1       에세이 초안을 좀 더 발전시키고 정교화하면 도움이 될 수 있습니다. 예를 들어, 정...   \n",
       "2       사막 기후에 사는 사람이 비상 키트에 갖춰야 할 10가지 품목을 소개합니다:\\n\\n...   \n",
       "3       앞서 제공된 쿼리를 사용하여 구체화된 뷰를 만든 직후에 `SELECT * FROM ...   \n",
       "4       은행 업계를 위한 3일간의 온라인 파이썬 강좌에서 다룰 수 있는 5가지 문제 영역은...   \n",
       "...                                                   ...   \n",
       "152625  no-cors` 모드로 `fetch()` 요청을 할 경우 CORS 정책 제한으로 인...   \n",
       "152626  1. \"나는 그것이 현명한 생각이라고 생각하지 않습니다.\"와 같이 축약어를 변경하여...   \n",
       "152627  10장: 프록시 서버로 NGINX 사용하기이 챕터에서는 Angular 앱 앞의 프록...   \n",
       "152628  다음은 주어진 문장에 대해 가능한 사전 구조입니다:\\n\\n```\\n{\\n    \"이...   \n",
       "152629  에루다이트: 다이버전트 시리즈 진영\\n캔더: 다이버전트 시리즈 진영\\n레이 미스테리...   \n",
       "\n",
       "                                                input_ids  \\\n",
       "0       [12657, 272, 2236, 276, 1251, 284, 272, 5026, ...   \n",
       "1       [12657, 272, 2236, 276, 1251, 284, 272, 5026, ...   \n",
       "2       [12657, 272, 2236, 276, 1251, 284, 272, 5026, ...   \n",
       "3       [12657, 272, 2236, 276, 1251, 284, 272, 5026, ...   \n",
       "4       [12657, 272, 2236, 276, 1251, 284, 272, 5026, ...   \n",
       "...                                                   ...   \n",
       "152625  [12657, 272, 2236, 276, 1251, 284, 272, 5026, ...   \n",
       "152626  [12657, 272, 2236, 276, 1251, 284, 272, 5026, ...   \n",
       "152627  [12657, 272, 2236, 276, 1251, 284, 272, 5026, ...   \n",
       "152628  [12657, 272, 2236, 276, 1251, 284, 272, 5026, ...   \n",
       "152629  [12657, 272, 2236, 276, 1251, 284, 272, 5026, ...   \n",
       "\n",
       "                                           attention_mask  \\\n",
       "0       [1, 1, 1, 1, 1, 1, 1, 1, 1, 1, 1, 1, 1, 1, 1, ...   \n",
       "1       [1, 1, 1, 1, 1, 1, 1, 1, 1, 1, 1, 1, 1, 1, 1, ...   \n",
       "2       [1, 1, 1, 1, 1, 1, 1, 1, 1, 1, 1, 1, 1, 1, 1, ...   \n",
       "3       [1, 1, 1, 1, 1, 1, 1, 1, 1, 1, 1, 1, 1, 1, 1, ...   \n",
       "4       [1, 1, 1, 1, 1, 1, 1, 1, 1, 1, 1, 1, 1, 1, 1, ...   \n",
       "...                                                   ...   \n",
       "152625  [1, 1, 1, 1, 1, 1, 1, 1, 1, 1, 1, 1, 1, 1, 1, ...   \n",
       "152626  [1, 1, 1, 1, 1, 1, 1, 1, 1, 1, 1, 1, 1, 1, 1, ...   \n",
       "152627  [1, 1, 1, 1, 1, 1, 1, 1, 1, 1, 1, 1, 1, 1, 1, ...   \n",
       "152628  [1, 1, 1, 1, 1, 1, 1, 1, 1, 1, 1, 1, 1, 1, 1, ...   \n",
       "152629  [1, 1, 1, 1, 1, 1, 1, 1, 1, 1, 1, 1, 1, 1, 1, ...   \n",
       "\n",
       "                                                   labels  input_ids_length  \n",
       "0       [12657, 272, 2236, 276, 1251, 284, 272, 5026, ...               680  \n",
       "1       [12657, 272, 2236, 276, 1251, 284, 272, 5026, ...               307  \n",
       "2       [12657, 272, 2236, 276, 1251, 284, 272, 5026, ...               343  \n",
       "3       [12657, 272, 2236, 276, 1251, 284, 272, 5026, ...               319  \n",
       "4       [12657, 272, 2236, 276, 1251, 284, 272, 5026, ...               693  \n",
       "...                                                   ...               ...  \n",
       "152625  [12657, 272, 2236, 276, 1251, 284, 272, 5026, ...               372  \n",
       "152626  [12657, 272, 2236, 276, 1251, 284, 272, 5026, ...               172  \n",
       "152627  [12657, 272, 2236, 276, 1251, 284, 272, 5026, ...              1163  \n",
       "152628  [12657, 272, 2236, 276, 1251, 284, 272, 5026, ...               162  \n",
       "152629  [12657, 272, 2236, 276, 1251, 284, 272, 5026, ...               202  \n",
       "\n",
       "[152630 rows x 8 columns]"
      ]
     },
     "execution_count": 25,
     "metadata": {},
     "output_type": "execute_result"
    }
   ],
   "source": [
    "# 'input_ids' 칼럼의 각 벡터의 길이를 새로운 칼럼 'input_ids_length'에 저장\n",
    "df_lm['input_ids_length'] = df_lm['input_ids'].apply(len)\n",
    "\n",
    "# 새로운 칼럼을 확인\n",
    "df_lm"
   ]
  },
  {
   "cell_type": "markdown",
   "id": "906d77dd",
   "metadata": {},
   "source": [
    "#### 토크나이징 벡터의 최대 길이는 설정한 cutoff_len로 고정됨"
   ]
  },
  {
   "cell_type": "code",
   "execution_count": 26,
   "id": "589d4518",
   "metadata": {},
   "outputs": [
    {
     "name": "stdout",
     "output_type": "stream",
     "text": [
      "The maximum length of 'input_ids' is 2048\n"
     ]
    }
   ],
   "source": [
    "# 'input_ids_length' 칼럼의 최대값을 확인\n",
    "max_value = df_lm['input_ids_length'].max()\n",
    "\n",
    "print(f\"The maximum length of 'input_ids' is {max_value}\")"
   ]
  },
  {
   "cell_type": "markdown",
   "id": "5bdb5742-ded5-4914-8c64-ad13e06dd548",
   "metadata": {},
   "source": [
    "<br>\n",
    "\n",
    "## 3. Save dataset to S3\n",
    "---"
   ]
  },
  {
   "cell_type": "code",
   "execution_count": 27,
   "id": "e1328ad7-c912-4da5-a905-2859e2276cfc",
   "metadata": {
    "tags": []
   },
   "outputs": [
    {
     "name": "stdout",
     "output_type": "stream",
     "text": [
      "sagemaker.config INFO - Not applying SDK defaults from location: /etc/xdg/sagemaker/config.yaml\n",
      "sagemaker.config INFO - Not applying SDK defaults from location: /home/ec2-user/.config/sagemaker/config.yaml\n",
      "SageMaker role arn: arn:aws:iam::334816520966:role/sagemaker-immersion-day-SageMakerExecutionRole-QMhudTJnrvaX\n",
      "SageMaker bucket: sagemaker-us-east-1-334816520966\n",
      "SageMaker session region: us-east-1\n"
     ]
    }
   ],
   "source": [
    "import sagemaker\n",
    "import boto3\n",
    "sess = sagemaker.Session()\n",
    "region = boto3.Session().region_name\n",
    "# sagemaker session bucket -> used for uploading data, models and logs\n",
    "# sagemaker will automatically create this bucket if it not exists\n",
    "bucket = None\n",
    "if bucket is None and sess is not None:\n",
    "    # set to default bucket if a bucket name is not given\n",
    "    bucket = sess.default_bucket()\n",
    "\n",
    "try:\n",
    "    role = sagemaker.get_execution_role()\n",
    "except ValueError:\n",
    "    iam = boto3.client('iam')\n",
    "    role = iam.get_role(RoleName='sagemaker_execution_role')['Role']['Arn']\n",
    "\n",
    "sess = sagemaker.Session(default_bucket=bucket)\n",
    "\n",
    "print(f\"SageMaker role arn: {role}\")\n",
    "print(f\"SageMaker bucket: {sess.default_bucket()}\")\n",
    "print(f\"SageMaker session region: {sess.boto_region_name}\")"
   ]
  },
  {
   "cell_type": "code",
   "execution_count": 28,
   "id": "1620deb3-6020-4a56-838e-6bf56dd50e9f",
   "metadata": {
    "tags": []
   },
   "outputs": [
    {
     "name": "stdout",
     "output_type": "stream",
     "text": [
      "S3 data path: \n",
      " s3://sagemaker-us-east-1-334816520966/ko-llms/peft/kullm-polyglot-12-8b-v2/dataset/alpaca-train\n",
      "S3 pretrained model path: \n",
      " s3://sagemaker-us-east-1-334816520966/ko-llms/peft/huggingface-models/kullm-polyglot-12-8b-v2/\n"
     ]
    }
   ],
   "source": [
    "bucket_prefix = 'ko-llms/peft'\n",
    "dataset_prefix = 'alpaca-train'\n",
    "dataset_prefix_all = 'alpaca-train-all'\n",
    "\n",
    "s3_data_path = f\"s3://{bucket}/{bucket_prefix}/{model_name}/dataset/{dataset_prefix}\"\n",
    "s3_pretrained_model_path = f\"s3://{bucket}/{bucket_prefix}/huggingface-models/{model_name}/\"\n",
    "print(f\"S3 data path: \\n {s3_data_path}\")\n",
    "print(f\"S3 pretrained model path: \\n {s3_pretrained_model_path}\")"
   ]
  },
  {
   "cell_type": "markdown",
   "id": "a73063c8",
   "metadata": {},
   "source": [
    "### 로컬학습을 위한 데이터셋 저장\n",
    "- dataset_prefix : 디버깅을 위한 처음 50개의 샘플(num_debug_samples)을 선택하여 dataset_prefix에 지정된 경로에 저장합니다. \n",
    "- dataset_prefix_all : 152630개를 모두 학습에 사용합니다. "
   ]
  },
  {
   "cell_type": "code",
   "execution_count": 29,
   "id": "068c198f-c0a5-40f4-85fe-74c286903cb4",
   "metadata": {
    "tags": []
   },
   "outputs": [
    {
     "name": "stderr",
     "output_type": "stream",
     "text": [
      "/home/ec2-user/anaconda3/envs/pytorch_p310/lib/python3.10/site-packages/fsspec/registry.py:272: UserWarning: Your installed version of s3fs is very old and known to cause\n",
      "severe performance issues, see also https://github.com/dask/dask/issues/10276\n",
      "\n",
      "To fix, you should specify a lower version bound on s3fs, or\n",
      "update the current installation.\n",
      "\n",
      "  warnings.warn(s3_msg)\n"
     ]
    },
    {
     "data": {
      "application/vnd.jupyter.widget-view+json": {
       "model_id": "84a58348a177469ea09999c392da0c20",
       "version_major": 2,
       "version_minor": 0
      },
      "text/plain": [
       "Saving the dataset (0/3 shards):   0%|          | 0/152630 [00:00<?, ? examples/s]"
      ]
     },
     "metadata": {},
     "output_type": "display_data"
    },
    {
     "data": {
      "application/vnd.jupyter.widget-view+json": {
       "model_id": "c1512ba143d6416bbf64942226aadf96",
       "version_major": 2,
       "version_minor": 0
      },
      "text/plain": [
       "Saving the dataset (0/1 shards):   0%|          | 0/50 [00:00<?, ? examples/s]"
      ]
     },
     "metadata": {},
     "output_type": "display_data"
    },
    {
     "data": {
      "application/vnd.jupyter.widget-view+json": {
       "model_id": "bd7cfdb4f85c4b80ad3bbd31ed24b5fa",
       "version_major": 2,
       "version_minor": 0
      },
      "text/plain": [
       "Saving the dataset (0/3 shards):   0%|          | 0/152630 [00:00<?, ? examples/s]"
      ]
     },
     "metadata": {},
     "output_type": "display_data"
    },
    {
     "name": "stdout",
     "output_type": "stream",
     "text": [
      "Number of samples for debugging: 50\n"
     ]
    }
   ],
   "source": [
    "num_debug_samples = 50\n",
    "lm_dataset.save_to_disk(s3_data_path)\n",
    "lm_dataset.select(range(num_debug_samples)).save_to_disk(dataset_prefix)\n",
    "\n",
    "lm_dataset.save_to_disk(dataset_prefix_all)\n",
    "print(f\"Number of samples for debugging: {num_debug_samples}\")"
   ]
  },
  {
   "cell_type": "code",
   "execution_count": 30,
   "id": "8dd9b5ce-de81-4218-963f-7c9fa086a5ab",
   "metadata": {
    "tags": []
   },
   "outputs": [
    {
     "name": "stdout",
     "output_type": "stream",
     "text": [
      "Stored 'bucket_prefix' (str)\n",
      "Stored 'dataset_prefix' (str)\n",
      "Stored 's3_data_path' (str)\n",
      "Stored 'dataset_prefix_all' (str)\n"
     ]
    }
   ],
   "source": [
    "%store bucket_prefix dataset_prefix s3_data_path dataset_prefix_all"
   ]
  },
  {
   "cell_type": "code",
   "execution_count": null,
   "id": "06f09cc1",
   "metadata": {},
   "outputs": [],
   "source": []
  }
 ],
 "metadata": {
  "kernelspec": {
   "display_name": "conda_pytorch_p310",
   "language": "python",
   "name": "conda_pytorch_p310"
  },
  "language_info": {
   "codemirror_mode": {
    "name": "ipython",
    "version": 3
   },
   "file_extension": ".py",
   "mimetype": "text/x-python",
   "name": "python",
   "nbconvert_exporter": "python",
   "pygments_lexer": "ipython3",
   "version": "3.10.13"
  }
 },
 "nbformat": 4,
 "nbformat_minor": 5
}
