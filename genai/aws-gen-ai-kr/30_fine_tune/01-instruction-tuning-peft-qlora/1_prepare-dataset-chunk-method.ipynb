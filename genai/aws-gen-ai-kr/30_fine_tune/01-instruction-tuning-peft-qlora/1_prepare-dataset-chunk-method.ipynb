{
 "cells": [
  {
   "cell_type": "markdown",
   "id": "ac8197b9-f604-42ce-90d4-d02cafa91aa3",
   "metadata": {},
   "source": [
    "# Preprocess Datasets for Korean LLM (Large Language Model) fine-tuning\n",
    "---\n",
    "\n",
    "- AWS 기술 블로그에서 전처리했던 방식대로 전처리 수행\n",
    "    - https://aws.amazon.com/ko/blogs/tech/train-a-large-language-model-on-a-single-amazon-sagemaker-gpu-with-hugging-face-and-lora/\n",
    "- 허깅페이스 인증 정보 설정: `huggingface-cli login`\n",
    "    - https://huggingface.co/join\n",
    "    - https://huggingface.co/settings/tokens"
   ]
  },
  {
   "cell_type": "code",
   "execution_count": 1,
   "id": "283f4cee-20d4-4b94-930b-da48f05d03db",
   "metadata": {
    "tags": []
   },
   "outputs": [
    {
     "name": "stdout",
     "output_type": "stream",
     "text": [
      "Proceed.\n"
     ]
    }
   ],
   "source": [
    "%load_ext autoreload\n",
    "%autoreload 2\n",
    "import sys\n",
    "sys.path.append('./utils')\n",
    "sys.path.append('./templates')\n",
    "\n",
    "from common_lib import check_packages\n",
    "check_packages()"
   ]
  },
  {
   "cell_type": "code",
   "execution_count": null,
   "outputs": [],
   "source": [
    "!pip install seaborn"
   ],
   "metadata": {
    "collapsed": false
   }
  },
  {
   "cell_type": "markdown",
   "id": "a0dea617-b3f6-4196-a5d0-b7a39e0691b4",
   "metadata": {},
   "source": [
    "<br>\n",
    "\n",
    "## 1. Download LLM from Hugging Face hub\n",
    "---\n",
    "\n",
    "### Load dataset\n",
    "허깅페이스 허브에서 다운로드하거나 json/json 포맷의 데이터 세트를 다운로드합니다. 데이터 세트 내 샘플은 (`instruction, input, output`)의 key-value나 (`instruction, output`)의 key-value로 구성되어야 합니다.\n",
    "\n",
    "예시:\n",
    "```\n",
    "{\n",
    "    \"instruction\":\"건강을 유지하기 위한 세 가지 팁을 알려주세요.\",\n",
    "    \"input\":\"\",\n",
    "    \"output\":\"세 가지 팁은 아침식사를 꼭 챙기며, 충분한 수면을 취하고, 적극적으로 운동을 하는 것입니다.\"\n",
    "}\n",
    "```"
   ]
  },
  {
   "cell_type": "code",
   "execution_count": 2,
   "id": "57666867-edaa-4b16-8e7a-d2af661e3c42",
   "metadata": {
    "tags": []
   },
   "outputs": [],
   "source": [
    "import os\n",
    "import torch\n",
    "import transformers\n",
    "from datasets import load_dataset\n",
    "from inference_lib import Prompter\n",
    "from transformers import GPTNeoXForCausalLM, GPTNeoXTokenizerFast\n",
    "\n",
    "data_path = \"beomi/KoAlpaca-v1.1a\"\n",
    "#data_path = \"./data/ko_alpaca_data.json\"\n",
    "\n",
    "if data_path.endswith(\".json\") or data_path.endswith(\".jsonl\"):\n",
    "    data = load_dataset(\"json\", data_files=data_path)\n",
    "else:\n",
    "    data = load_dataset(data_path)\n",
    "    \n",
    "prompter = Prompter(\"kullm\")"
   ]
  },
  {
   "cell_type": "code",
   "execution_count": 3,
   "id": "26d9d237-1fd6-49da-a177-f96012366162",
   "metadata": {
    "tags": []
   },
   "outputs": [
    {
     "name": "stderr",
     "output_type": "stream",
     "text": [
      "The tokenizer class you load from this checkpoint is not the same type as the class this function is called from. It may result in unexpected tokenization. \n",
      "The tokenizer class you load from this checkpoint is 'PreTrainedTokenizerFast'. \n",
      "The class this function is called from is 'GPTNeoXTokenizerFast'.\n",
      "Special tokens have been added in the vocabulary, make sure the associated word embeddings are fine-tuned or trained.\n"
     ]
    }
   ],
   "source": [
    "import os\n",
    "from pathlib import Path\n",
    "from huggingface_hub import snapshot_download\n",
    "\n",
    "HF_MODEL_ID = \"nlpai-lab/kullm-polyglot-12.8b-v2\"\n",
    "\n",
    "tokenizer = GPTNeoXTokenizerFast.from_pretrained(HF_MODEL_ID)\n",
    "\n",
    "# Only download pytorch checkpoint files\n",
    "allow_patterns = [\"*.json\", \"*.pt\", \"*.bin\", \"*.txt\", \"*.model\"]\n",
    "\n",
    "# create model dir\n",
    "model_name = HF_MODEL_ID.split(\"/\")[-1].replace('.', '-')\n",
    "model_tar_dir = Path(f\"/home/ec2-user/SageMaker/models/{model_name}\")\n",
    "if not os.path.isdir(model_tar_dir):\n",
    "    os.makedirs(model_tar_dir, exist_ok=True)\n",
    "    # Download model from Hugging Face into model_dir\n",
    "    snapshot_download(\n",
    "        HF_MODEL_ID, \n",
    "        local_dir=str(model_tar_dir), \n",
    "        local_dir_use_symlinks=False,\n",
    "        allow_patterns=allow_patterns,\n",
    "        cache_dir=\"/home/ec2-user/SageMaker/\"\n",
    "    )"
   ]
  },
  {
   "cell_type": "markdown",
   "id": "c3b046aa",
   "metadata": {},
   "source": [
    "# 데이터 살펴보기\n",
    "\n",
    "데이터 구조\n",
    "- id: 각 데이터 포인트의 고유 식별자\n",
    "- instruction: 사용자의 질문 또는 명령\n",
    "- input: 추가 입력 (여기서는 비어 있음)\n",
    "- output: 질문 또는 명령에 대한 답변"
   ]
  },
  {
   "cell_type": "code",
   "execution_count": 4,
   "id": "393cdf0c",
   "metadata": {},
   "outputs": [
    {
     "name": "stdout",
     "output_type": "stream",
     "text": [
      "{'instruction': ['양파는 어떤 식물 부위인가요? 그리고 고구마는 뿌리인가요?', '스웨터의 유래는 어디에서 시작되었나요?', '토성의 고리가 빛의 띠로 보이는 이유는 무엇인가요?  \\n\\n토성의 고리는 얼음과 같은 여러 물질로 이루어져 있다고 알고 있는데, 카시니가 찍은 사진에서 마치 빛의 띠 처럼 보이는 이유가 무엇인가요? 물질의 공전 속도가 빠르기 때문에 카메라로 담았을 때 빛의 궤적으로 보이는 건가요? 또한, 야간에 빠르게 움직이는 자동차를 장노출로 찍었을 때 빛의 궤적이 생기는 것과 같은 원리일까요? 그리고 빛의 궤적이 생기는 것은 우주라는 어두운 환경 특성 때문이라고 생각됩니다. 이게 맞을까요?'], 'output': ['양파는 잎이 아닌 식물의 줄기 부분입니다. 고구마는 식물의 뿌리 부분입니다. \\n\\n식물의 부위의 구분에 대해 궁금해하는 분이라면 분명 이 질문에 대한 답을 찾고 있을 것입니다. 양파는 잎이 아닌 줄기 부분입니다. 고구마는 다른 질문과 답변에서 언급된 것과 같이 뿌리 부분입니다. 따라서, 양파는 식물의 줄기 부분이 되고, 고구마는 식물의 뿌리 부분입니다.\\n\\n 덧붙이는 답변: 고구마 줄기도 볶아먹을 수 있나요? \\n\\n고구마 줄기도 식용으로 볶아먹을 수 있습니다. 하지만 줄기 뿐만 아니라, 잎, 씨, 뿌리까지 모든 부위가 식용으로 활용되기도 합니다. 다만, 한국에서는 일반적으로 뿌리 부분인 고구마를 주로 먹습니다.', '스웨터의 유래는 14세기경 북유럽항구지역에서 어망을 짜던 기술을 의복에 활용하면서 시작되었습니다. 노동자들의 방한복에서 시작된 스웨터는 여가생활과 스포츠의 붐에 힘입어 대중화되었습니다. 이후, 겨울철 이너웨어의 대명사가 되었습니다. 스웨터는 짜서(Knit) 만든 옷을 말하며, 어부들의 방한복으로 짜여졌던 스웨터 중에서도 스코틀랜드 해안지방의 여인들은 바다로 나가는 남편이나 연인, 자식들에게 무사히 돌아올 것을 기원하며 로프나 닻 무늬를 정성껏 짜넣었다고 합니다. 그 실용성과 정성이 오늘에까지 이어지고 있습니다.', '토성의 고리가 미세한 입자들로 이루어져 있기 때문에, 입자들의 밀도 차이 때문에 카시니 탐사선에서 찍은 고해상도 사진에서 빛의 띠가 보이는 것입니다.  \\n\\n실제로는 토성의 고리 입자들의 운동이 장노출 사진에서 잔상이 생기는 이유와 관련이 없습니다. 물체의 운동은 토성의 고리가 매끄럽게 보이는 이유와 상관이 없습니다. \\n\\n밀도 차이로 생긴 미세한 입자들의 밀도는 연속적인 것이 아니며 광학계의 분해능으로 인해 고해상도 사진에서 입자 간격이 잘 보이지 않습니다. 따라서, 토성의 고리가 빛의 띠로 보이는 것은 고리 입자밀도의 차이 때문입니다. \\n\\n이렇게 입자들의 밀도 차이가 빛의 띠처럼 보이는 것은, 마치 축구장에서 앉아 조각판처럼 보이는 것과 같은 현상으로 이해할 수 있습니다. 마찬가지로, 먼 광활지에서 숲은 보이고 나무는 안 보이며, 이것은 발생하는 현상과 유사합니다.\\n\\n더 자세한 사항을 알고 싶다면 우주선이 고리를 아주 가까이 찍어 볼 필요가 있습니다. 이것은 훨씬 상세한 데이터를 얻기 위해서는 더욱 다양한 탐사가 필요합니다.'], 'url': ['https://kin.naver.com/qna/detail.naver?d1id=11&dirId=1116&docId=55320268', 'https://kin.naver.com/qna/detail.naver?d1id=11&dirId=11080102&docId=47833655', 'https://kin.naver.com/qna/detail.naver?d1id=11&dirId=1129&docId=329134273']}\n"
     ]
    }
   ],
   "source": [
    "# 데이터셋의 처음 3개 샘플을 출력\n",
    "print(data['train'][:3])"
   ]
  },
  {
   "cell_type": "code",
   "execution_count": 5,
   "id": "989096d3",
   "metadata": {},
   "outputs": [
    {
     "data": {
      "text/plain": [
       "DatasetDict({\n",
       "    train: Dataset({\n",
       "        features: ['instruction', 'output', 'url'],\n",
       "        num_rows: 21155\n",
       "    })\n",
       "})"
      ]
     },
     "execution_count": 5,
     "metadata": {},
     "output_type": "execute_result"
    }
   ],
   "source": [
    "data"
   ]
  },
  {
   "cell_type": "markdown",
   "id": "0e6194e3",
   "metadata": {},
   "source": [
    "### 기본 통계량 계산\n",
    "문장의 길이, 단어의 개수, 고유 단어의 개수 등을 계산합니다."
   ]
  },
  {
   "cell_type": "code",
   "execution_count": 6,
   "id": "97ac4a28",
   "metadata": {},
   "outputs": [
    {
     "data": {
      "text/html": [
       "<div>\n",
       "<style scoped>\n",
       "    .dataframe tbody tr th:only-of-type {\n",
       "        vertical-align: middle;\n",
       "    }\n",
       "\n",
       "    .dataframe tbody tr th {\n",
       "        vertical-align: top;\n",
       "    }\n",
       "\n",
       "    .dataframe thead th {\n",
       "        text-align: right;\n",
       "    }\n",
       "</style>\n",
       "<table border=\"1\" class=\"dataframe\">\n",
       "  <thead>\n",
       "    <tr style=\"text-align: right;\">\n",
       "      <th></th>\n",
       "      <th>instruction</th>\n",
       "      <th>output</th>\n",
       "      <th>url</th>\n",
       "    </tr>\n",
       "  </thead>\n",
       "  <tbody>\n",
       "    <tr>\n",
       "      <th>0</th>\n",
       "      <td>양파는 어떤 식물 부위인가요? 그리고 고구마는 뿌리인가요?</td>\n",
       "      <td>양파는 잎이 아닌 식물의 줄기 부분입니다. 고구마는 식물의 뿌리 부분입니다. \\n\\...</td>\n",
       "      <td>https://kin.naver.com/qna/detail.naver?d1id=11...</td>\n",
       "    </tr>\n",
       "    <tr>\n",
       "      <th>1</th>\n",
       "      <td>스웨터의 유래는 어디에서 시작되었나요?</td>\n",
       "      <td>스웨터의 유래는 14세기경 북유럽항구지역에서 어망을 짜던 기술을 의복에 활용하면서 ...</td>\n",
       "      <td>https://kin.naver.com/qna/detail.naver?d1id=11...</td>\n",
       "    </tr>\n",
       "    <tr>\n",
       "      <th>2</th>\n",
       "      <td>토성의 고리가 빛의 띠로 보이는 이유는 무엇인가요?  \\n\\n토성의 고리는 얼음과 ...</td>\n",
       "      <td>토성의 고리가 미세한 입자들로 이루어져 있기 때문에, 입자들의 밀도 차이 때문에 카...</td>\n",
       "      <td>https://kin.naver.com/qna/detail.naver?d1id=11...</td>\n",
       "    </tr>\n",
       "    <tr>\n",
       "      <th>3</th>\n",
       "      <td>화장품 OEM과 화장품 ODM의 차이점은 무엇인가요?\\n화장품 자체 제조 브랜드 런...</td>\n",
       "      <td>화장품 제조업체는 대체로 OEM과 ODM을 통해 제품을 만듭니다. OEM은 브랜드에...</td>\n",
       "      <td>https://kin.naver.com/qna/detail.naver?d1id=5&amp;...</td>\n",
       "    </tr>\n",
       "    <tr>\n",
       "      <th>4</th>\n",
       "      <td>'사이보그'는 언제 처음 등장한 말이며, 그 의미와 종류에는 어떤 것이 있는지 알고...</td>\n",
       "      <td>'사이보그'는 1960년에 처음 등장한 말로, 기계와 유기체가 합성되어 생겨난 새로...</td>\n",
       "      <td>https://kin.naver.com/qna/detail.naver?d1id=11...</td>\n",
       "    </tr>\n",
       "    <tr>\n",
       "      <th>...</th>\n",
       "      <td>...</td>\n",
       "      <td>...</td>\n",
       "      <td>...</td>\n",
       "    </tr>\n",
       "    <tr>\n",
       "      <th>21150</th>\n",
       "      <td>왕의 우물이란 무엇인가요?</td>\n",
       "      <td>왕의 우물, 즉 왕실에서 쓰던 우물은 어정, 혹은 왕정이라고 부르며 한자로는 御井,...</td>\n",
       "      <td>https://kin.naver.com/qna/detail.naver?d1id=11...</td>\n",
       "    </tr>\n",
       "    <tr>\n",
       "      <th>21151</th>\n",
       "      <td>한 달의 첫째 주가 어떻게 정의되는가?\\n매달 첫째주가 되는 기준은 무엇인지 궁금합...</td>\n",
       "      <td>한 주의 시작이 일요일인지 월요일인지에 따라 첫째 주를 정의해야 합니다. 영어권에서...</td>\n",
       "      <td>https://kin.naver.com/qna/detail.naver?d1id=6&amp;...</td>\n",
       "    </tr>\n",
       "    <tr>\n",
       "      <th>21152</th>\n",
       "      <td>산모와 태아가 혈액형이 다를 때 문제가 없는 이유는 무엇인가요?</td>\n",
       "      <td>산모와 태아가 탯줄과 태반을 통해 직접적으로 혈액을 교환하지 않고, 산모의 태반에서...</td>\n",
       "      <td>https://kin.naver.com/qna/detail.naver?d1id=7&amp;...</td>\n",
       "    </tr>\n",
       "    <tr>\n",
       "      <th>21153</th>\n",
       "      <td>의자의 쇠 부분을 만지면 왜 정전기가 발생할까요?</td>\n",
       "      <td>의자의 쇠 부분을 만지면 정전기가 발생하는 이유는 의자가 땅에서 절연되어 있기 때문...</td>\n",
       "      <td>https://kin.naver.com/qna/detail.naver?d1id=11...</td>\n",
       "    </tr>\n",
       "    <tr>\n",
       "      <th>21154</th>\n",
       "      <td>캔 우유가 없는 이유는 무엇인가요?</td>\n",
       "      <td>캔 우유가 없어진 이유는 유통과 보관에서 발생하는 문제와 우유에 포함된 미네랄 성분...</td>\n",
       "      <td>https://kin.naver.com/qna/detail.naver?d1id=13...</td>\n",
       "    </tr>\n",
       "  </tbody>\n",
       "</table>\n",
       "<p>21155 rows × 3 columns</p>\n",
       "</div>"
      ],
      "text/plain": [
       "                                             instruction  \\\n",
       "0                       양파는 어떤 식물 부위인가요? 그리고 고구마는 뿌리인가요?   \n",
       "1                                  스웨터의 유래는 어디에서 시작되었나요?   \n",
       "2      토성의 고리가 빛의 띠로 보이는 이유는 무엇인가요?  \\n\\n토성의 고리는 얼음과 ...   \n",
       "3      화장품 OEM과 화장품 ODM의 차이점은 무엇인가요?\\n화장품 자체 제조 브랜드 런...   \n",
       "4      '사이보그'는 언제 처음 등장한 말이며, 그 의미와 종류에는 어떤 것이 있는지 알고...   \n",
       "...                                                  ...   \n",
       "21150                                     왕의 우물이란 무엇인가요?   \n",
       "21151  한 달의 첫째 주가 어떻게 정의되는가?\\n매달 첫째주가 되는 기준은 무엇인지 궁금합...   \n",
       "21152                산모와 태아가 혈액형이 다를 때 문제가 없는 이유는 무엇인가요?   \n",
       "21153                        의자의 쇠 부분을 만지면 왜 정전기가 발생할까요?   \n",
       "21154                                캔 우유가 없는 이유는 무엇인가요?   \n",
       "\n",
       "                                                  output  \\\n",
       "0      양파는 잎이 아닌 식물의 줄기 부분입니다. 고구마는 식물의 뿌리 부분입니다. \\n\\...   \n",
       "1      스웨터의 유래는 14세기경 북유럽항구지역에서 어망을 짜던 기술을 의복에 활용하면서 ...   \n",
       "2      토성의 고리가 미세한 입자들로 이루어져 있기 때문에, 입자들의 밀도 차이 때문에 카...   \n",
       "3      화장품 제조업체는 대체로 OEM과 ODM을 통해 제품을 만듭니다. OEM은 브랜드에...   \n",
       "4      '사이보그'는 1960년에 처음 등장한 말로, 기계와 유기체가 합성되어 생겨난 새로...   \n",
       "...                                                  ...   \n",
       "21150  왕의 우물, 즉 왕실에서 쓰던 우물은 어정, 혹은 왕정이라고 부르며 한자로는 御井,...   \n",
       "21151  한 주의 시작이 일요일인지 월요일인지에 따라 첫째 주를 정의해야 합니다. 영어권에서...   \n",
       "21152  산모와 태아가 탯줄과 태반을 통해 직접적으로 혈액을 교환하지 않고, 산모의 태반에서...   \n",
       "21153  의자의 쇠 부분을 만지면 정전기가 발생하는 이유는 의자가 땅에서 절연되어 있기 때문...   \n",
       "21154  캔 우유가 없어진 이유는 유통과 보관에서 발생하는 문제와 우유에 포함된 미네랄 성분...   \n",
       "\n",
       "                                                     url  \n",
       "0      https://kin.naver.com/qna/detail.naver?d1id=11...  \n",
       "1      https://kin.naver.com/qna/detail.naver?d1id=11...  \n",
       "2      https://kin.naver.com/qna/detail.naver?d1id=11...  \n",
       "3      https://kin.naver.com/qna/detail.naver?d1id=5&...  \n",
       "4      https://kin.naver.com/qna/detail.naver?d1id=11...  \n",
       "...                                                  ...  \n",
       "21150  https://kin.naver.com/qna/detail.naver?d1id=11...  \n",
       "21151  https://kin.naver.com/qna/detail.naver?d1id=6&...  \n",
       "21152  https://kin.naver.com/qna/detail.naver?d1id=7&...  \n",
       "21153  https://kin.naver.com/qna/detail.naver?d1id=11...  \n",
       "21154  https://kin.naver.com/qna/detail.naver?d1id=13...  \n",
       "\n",
       "[21155 rows x 3 columns]"
      ]
     },
     "execution_count": 6,
     "metadata": {},
     "output_type": "execute_result"
    }
   ],
   "source": [
    "import pandas as pd\n",
    "# 데이터셋을 pandas DataFrame으로 변환\n",
    "df = pd.DataFrame(data['train'])\n",
    "df"
   ]
  },
  {
   "cell_type": "code",
   "execution_count": 7,
   "id": "439f5d94",
   "metadata": {},
   "outputs": [
    {
     "name": "stdout",
     "output_type": "stream",
     "text": [
      "       instruction_length  output_length    url_length\n",
      "count        21155.000000   21155.000000  21155.000000\n",
      "mean            69.949374     356.147483     72.861309\n",
      "std             49.659239     157.163702      1.916784\n",
      "min              9.000000       1.000000     68.000000\n",
      "25%             34.000000     252.000000     72.000000\n",
      "50%             55.000000     322.000000     73.000000\n",
      "75%             92.000000     425.000000     74.000000\n",
      "max            711.000000    2405.000000     79.000000\n"
     ]
    },
    {
     "data": {
      "text/html": [
       "<div>\n",
       "<style scoped>\n",
       "    .dataframe tbody tr th:only-of-type {\n",
       "        vertical-align: middle;\n",
       "    }\n",
       "\n",
       "    .dataframe tbody tr th {\n",
       "        vertical-align: top;\n",
       "    }\n",
       "\n",
       "    .dataframe thead th {\n",
       "        text-align: right;\n",
       "    }\n",
       "</style>\n",
       "<table border=\"1\" class=\"dataframe\">\n",
       "  <thead>\n",
       "    <tr style=\"text-align: right;\">\n",
       "      <th></th>\n",
       "      <th>instruction</th>\n",
       "      <th>output</th>\n",
       "      <th>url</th>\n",
       "      <th>instruction_length</th>\n",
       "      <th>output_length</th>\n",
       "      <th>url_length</th>\n",
       "    </tr>\n",
       "  </thead>\n",
       "  <tbody>\n",
       "    <tr>\n",
       "      <th>0</th>\n",
       "      <td>양파는 어떤 식물 부위인가요? 그리고 고구마는 뿌리인가요?</td>\n",
       "      <td>양파는 잎이 아닌 식물의 줄기 부분입니다. 고구마는 식물의 뿌리 부분입니다. \\n\\...</td>\n",
       "      <td>https://kin.naver.com/qna/detail.naver?d1id=11...</td>\n",
       "      <td>32</td>\n",
       "      <td>342</td>\n",
       "      <td>72</td>\n",
       "    </tr>\n",
       "    <tr>\n",
       "      <th>1</th>\n",
       "      <td>스웨터의 유래는 어디에서 시작되었나요?</td>\n",
       "      <td>스웨터의 유래는 14세기경 북유럽항구지역에서 어망을 짜던 기술을 의복에 활용하면서 ...</td>\n",
       "      <td>https://kin.naver.com/qna/detail.naver?d1id=11...</td>\n",
       "      <td>21</td>\n",
       "      <td>288</td>\n",
       "      <td>76</td>\n",
       "    </tr>\n",
       "    <tr>\n",
       "      <th>2</th>\n",
       "      <td>토성의 고리가 빛의 띠로 보이는 이유는 무엇인가요?  \\n\\n토성의 고리는 얼음과 ...</td>\n",
       "      <td>토성의 고리가 미세한 입자들로 이루어져 있기 때문에, 입자들의 밀도 차이 때문에 카...</td>\n",
       "      <td>https://kin.naver.com/qna/detail.naver?d1id=11...</td>\n",
       "      <td>268</td>\n",
       "      <td>524</td>\n",
       "      <td>73</td>\n",
       "    </tr>\n",
       "    <tr>\n",
       "      <th>3</th>\n",
       "      <td>화장품 OEM과 화장품 ODM의 차이점은 무엇인가요?\\n화장품 자체 제조 브랜드 런...</td>\n",
       "      <td>화장품 제조업체는 대체로 OEM과 ODM을 통해 제품을 만듭니다. OEM은 브랜드에...</td>\n",
       "      <td>https://kin.naver.com/qna/detail.naver?d1id=5&amp;...</td>\n",
       "      <td>107</td>\n",
       "      <td>371</td>\n",
       "      <td>75</td>\n",
       "    </tr>\n",
       "    <tr>\n",
       "      <th>4</th>\n",
       "      <td>'사이보그'는 언제 처음 등장한 말이며, 그 의미와 종류에는 어떤 것이 있는지 알고...</td>\n",
       "      <td>'사이보그'는 1960년에 처음 등장한 말로, 기계와 유기체가 합성되어 생겨난 새로...</td>\n",
       "      <td>https://kin.naver.com/qna/detail.naver?d1id=11...</td>\n",
       "      <td>52</td>\n",
       "      <td>438</td>\n",
       "      <td>74</td>\n",
       "    </tr>\n",
       "    <tr>\n",
       "      <th>...</th>\n",
       "      <td>...</td>\n",
       "      <td>...</td>\n",
       "      <td>...</td>\n",
       "      <td>...</td>\n",
       "      <td>...</td>\n",
       "      <td>...</td>\n",
       "    </tr>\n",
       "    <tr>\n",
       "      <th>21150</th>\n",
       "      <td>왕의 우물이란 무엇인가요?</td>\n",
       "      <td>왕의 우물, 즉 왕실에서 쓰던 우물은 어정, 혹은 왕정이라고 부르며 한자로는 御井,...</td>\n",
       "      <td>https://kin.naver.com/qna/detail.naver?d1id=11...</td>\n",
       "      <td>14</td>\n",
       "      <td>204</td>\n",
       "      <td>74</td>\n",
       "    </tr>\n",
       "    <tr>\n",
       "      <th>21151</th>\n",
       "      <td>한 달의 첫째 주가 어떻게 정의되는가?\\n매달 첫째주가 되는 기준은 무엇인지 궁금합...</td>\n",
       "      <td>한 주의 시작이 일요일인지 월요일인지에 따라 첫째 주를 정의해야 합니다. 영어권에서...</td>\n",
       "      <td>https://kin.naver.com/qna/detail.naver?d1id=6&amp;...</td>\n",
       "      <td>94</td>\n",
       "      <td>301</td>\n",
       "      <td>73</td>\n",
       "    </tr>\n",
       "    <tr>\n",
       "      <th>21152</th>\n",
       "      <td>산모와 태아가 혈액형이 다를 때 문제가 없는 이유는 무엇인가요?</td>\n",
       "      <td>산모와 태아가 탯줄과 태반을 통해 직접적으로 혈액을 교환하지 않고, 산모의 태반에서...</td>\n",
       "      <td>https://kin.naver.com/qna/detail.naver?d1id=7&amp;...</td>\n",
       "      <td>35</td>\n",
       "      <td>415</td>\n",
       "      <td>70</td>\n",
       "    </tr>\n",
       "    <tr>\n",
       "      <th>21153</th>\n",
       "      <td>의자의 쇠 부분을 만지면 왜 정전기가 발생할까요?</td>\n",
       "      <td>의자의 쇠 부분을 만지면 정전기가 발생하는 이유는 의자가 땅에서 절연되어 있기 때문...</td>\n",
       "      <td>https://kin.naver.com/qna/detail.naver?d1id=11...</td>\n",
       "      <td>27</td>\n",
       "      <td>396</td>\n",
       "      <td>73</td>\n",
       "    </tr>\n",
       "    <tr>\n",
       "      <th>21154</th>\n",
       "      <td>캔 우유가 없는 이유는 무엇인가요?</td>\n",
       "      <td>캔 우유가 없어진 이유는 유통과 보관에서 발생하는 문제와 우유에 포함된 미네랄 성분...</td>\n",
       "      <td>https://kin.naver.com/qna/detail.naver?d1id=13...</td>\n",
       "      <td>19</td>\n",
       "      <td>297</td>\n",
       "      <td>75</td>\n",
       "    </tr>\n",
       "  </tbody>\n",
       "</table>\n",
       "<p>21155 rows × 6 columns</p>\n",
       "</div>"
      ],
      "text/plain": [
       "                                             instruction  \\\n",
       "0                       양파는 어떤 식물 부위인가요? 그리고 고구마는 뿌리인가요?   \n",
       "1                                  스웨터의 유래는 어디에서 시작되었나요?   \n",
       "2      토성의 고리가 빛의 띠로 보이는 이유는 무엇인가요?  \\n\\n토성의 고리는 얼음과 ...   \n",
       "3      화장품 OEM과 화장품 ODM의 차이점은 무엇인가요?\\n화장품 자체 제조 브랜드 런...   \n",
       "4      '사이보그'는 언제 처음 등장한 말이며, 그 의미와 종류에는 어떤 것이 있는지 알고...   \n",
       "...                                                  ...   \n",
       "21150                                     왕의 우물이란 무엇인가요?   \n",
       "21151  한 달의 첫째 주가 어떻게 정의되는가?\\n매달 첫째주가 되는 기준은 무엇인지 궁금합...   \n",
       "21152                산모와 태아가 혈액형이 다를 때 문제가 없는 이유는 무엇인가요?   \n",
       "21153                        의자의 쇠 부분을 만지면 왜 정전기가 발생할까요?   \n",
       "21154                                캔 우유가 없는 이유는 무엇인가요?   \n",
       "\n",
       "                                                  output  \\\n",
       "0      양파는 잎이 아닌 식물의 줄기 부분입니다. 고구마는 식물의 뿌리 부분입니다. \\n\\...   \n",
       "1      스웨터의 유래는 14세기경 북유럽항구지역에서 어망을 짜던 기술을 의복에 활용하면서 ...   \n",
       "2      토성의 고리가 미세한 입자들로 이루어져 있기 때문에, 입자들의 밀도 차이 때문에 카...   \n",
       "3      화장품 제조업체는 대체로 OEM과 ODM을 통해 제품을 만듭니다. OEM은 브랜드에...   \n",
       "4      '사이보그'는 1960년에 처음 등장한 말로, 기계와 유기체가 합성되어 생겨난 새로...   \n",
       "...                                                  ...   \n",
       "21150  왕의 우물, 즉 왕실에서 쓰던 우물은 어정, 혹은 왕정이라고 부르며 한자로는 御井,...   \n",
       "21151  한 주의 시작이 일요일인지 월요일인지에 따라 첫째 주를 정의해야 합니다. 영어권에서...   \n",
       "21152  산모와 태아가 탯줄과 태반을 통해 직접적으로 혈액을 교환하지 않고, 산모의 태반에서...   \n",
       "21153  의자의 쇠 부분을 만지면 정전기가 발생하는 이유는 의자가 땅에서 절연되어 있기 때문...   \n",
       "21154  캔 우유가 없어진 이유는 유통과 보관에서 발생하는 문제와 우유에 포함된 미네랄 성분...   \n",
       "\n",
       "                                                     url  instruction_length  \\\n",
       "0      https://kin.naver.com/qna/detail.naver?d1id=11...                  32   \n",
       "1      https://kin.naver.com/qna/detail.naver?d1id=11...                  21   \n",
       "2      https://kin.naver.com/qna/detail.naver?d1id=11...                 268   \n",
       "3      https://kin.naver.com/qna/detail.naver?d1id=5&...                 107   \n",
       "4      https://kin.naver.com/qna/detail.naver?d1id=11...                  52   \n",
       "...                                                  ...                 ...   \n",
       "21150  https://kin.naver.com/qna/detail.naver?d1id=11...                  14   \n",
       "21151  https://kin.naver.com/qna/detail.naver?d1id=6&...                  94   \n",
       "21152  https://kin.naver.com/qna/detail.naver?d1id=7&...                  35   \n",
       "21153  https://kin.naver.com/qna/detail.naver?d1id=11...                  27   \n",
       "21154  https://kin.naver.com/qna/detail.naver?d1id=13...                  19   \n",
       "\n",
       "       output_length  url_length  \n",
       "0                342          72  \n",
       "1                288          76  \n",
       "2                524          73  \n",
       "3                371          75  \n",
       "4                438          74  \n",
       "...              ...         ...  \n",
       "21150            204          74  \n",
       "21151            301          73  \n",
       "21152            415          70  \n",
       "21153            396          73  \n",
       "21154            297          75  \n",
       "\n",
       "[21155 rows x 6 columns]"
      ]
     },
     "execution_count": 7,
     "metadata": {},
     "output_type": "execute_result"
    }
   ],
   "source": [
    "# 문장 길이, 단어 수 등 기본 통계량 계산\n",
    "df['instruction_length'] = df['instruction'].apply(len)\n",
    "df['output_length'] = df['output'].apply(len)\n",
    "df['url_length'] = df['url'].apply(len)\n",
    "print(df.describe())\n",
    "df"
   ]
  },
  {
   "cell_type": "markdown",
   "id": "a94597eb",
   "metadata": {},
   "source": [
    "### 각각 칼럼별 문장들의 분포를 시각화\n",
    "\n",
    "로그 스케일은 특히 값의 범위가 넓거나, 작은 값들의 분포가 중요할 때 유용합니다."
   ]
  },
  {
   "cell_type": "code",
   "execution_count": 8,
   "id": "12f41f94",
   "metadata": {},
   "outputs": [
    {
     "data": {
      "image/png": "[encoded data removed]",
      "text/plain": [
       "<Figure size 1500x500 with 2 Axes>"
      ]
     },
     "metadata": {},
     "output_type": "display_data"
    }
   ],
   "source": [
    "import matplotlib.pyplot as plt\n",
    "import seaborn as sns\n",
    "import numpy as np\n",
    "\n",
    "# 로그 스케일을 적용하고 막대기 색상을 설정한 히스토그램 생성\n",
    "plt.figure(figsize=(15, 5))\n",
    "\n",
    "# 색상 정의\n",
    "colors = ['navy', 'green']\n",
    "\n",
    "# 각 열에 대해 히스토그램 그리기\n",
    "for i, column in enumerate(['instruction_length', 'output_length']):\n",
    "    plt.subplot(1, 3, i + 1)\n",
    "    sns.histplot(df[column], kde=False, log_scale=(True), color=colors[i]) # Y축만 로그\n",
    "    plt.title(f'{column} Distribution (Log Scale)')\n",
    "\n",
    "plt.tight_layout()\n",
    "plt.show()\n"
   ]
  },
  {
   "cell_type": "markdown",
   "id": "a73eb0b2",
   "metadata": {},
   "source": [
    "### 커널 밀도 추정(KDE) 시각화 (Instruction Length vs Output Length):\n",
    "- 'instruction_length'와 'output_length' 간의 관계를 보여줍니다.\n",
    "- 데이터 포인트의 밀도를 추정하여 표현하는 플롯입니다. KDE 플롯은 데이터 분포의 \"스무드(smoother)\"한 버전을 제공합니다.\n"
   ]
  },
  {
   "cell_type": "code",
   "execution_count": 9,
   "id": "2e3cc89d",
   "metadata": {},
   "outputs": [
    {
     "data": {
      "text/plain": [
       "<Figure size 1000x600 with 0 Axes>"
      ]
     },
     "metadata": {},
     "output_type": "display_data"
    },
    {
     "data": {
      "image/png": "[encoded data removed]",
      "text/plain": [
       "<Figure size 600x600 with 3 Axes>"
      ]
     },
     "metadata": {},
     "output_type": "display_data"
    }
   ],
   "source": [
    "# KDE 플롯 생성\n",
    "df_sample = df.head(2000) #시각화 실습시간을 위해 셈플링한 데이터만 수행했습니다. \n",
    "\n",
    "\n",
    "# 1사분위수(Q1)와 3사분위수(Q3) 계산 (숫자형 열만)\n",
    "Q1 = df.quantile(0.25, numeric_only=True)\n",
    "Q3 = df.quantile(0.75, numeric_only=True)\n",
    "IQR = Q3 - Q1\n",
    "\n",
    "# 숫자형 열만 선택\n",
    "numeric_columns = df_sample.select_dtypes(include=[np.number])\n",
    "\n",
    "# 아웃라이어를 제외한 데이터 필터링 (숫자형 열에 대해서만)\n",
    "filtered_df = df_sample[~((numeric_columns < (Q1 - 1.5 * IQR)) |(numeric_columns > (Q3 + 1.5 * IQR))).any(axis=1)]\n",
    "\n",
    "# 필터링된 데이터로 KDE 플롯 생성\n",
    "plt.figure(figsize=(10, 6))\n",
    "sns.jointplot(data=filtered_df, x='instruction_length', y='output_length', kind='kde')\n",
    "plt.suptitle('KDE Plot Without Outliers: Instruction Length vs Output Length', y=1.05)\n",
    "plt.show()\n"
   ]
  },
  {
   "cell_type": "markdown",
   "id": "ca3abc3d",
   "metadata": {},
   "source": [
    "### 질문문장의 고유명사의 빈도수를 추출\n",
    "- 파인튜닝 하기 위한 특정 고유명사들이 입력 학습 데이터에 충분히 들어있는지 확인해봅니다. \n",
    "- konlpy 라이브러리의 Hannanum,Okt 등의 클래스를 사용하여 한글 텍스트에서 명사를 추출할 수 있습니다. "
   ]
  },
  {
   "cell_type": "code",
   "execution_count": 10,
   "id": "42bef06f",
   "metadata": {},
   "outputs": [
    {
     "name": "stdout",
     "output_type": "stream",
     "text": [
      "Requirement already satisfied: konlpy in /home/ec2-user/anaconda3/envs/pytorch_p310/lib/python3.10/site-packages (0.6.0)\r\n",
      "Requirement already satisfied: JPype1>=0.7.0 in /home/ec2-user/anaconda3/envs/pytorch_p310/lib/python3.10/site-packages (from konlpy) (1.5.0)\r\n",
      "Requirement already satisfied: lxml>=4.1.0 in /home/ec2-user/anaconda3/envs/pytorch_p310/lib/python3.10/site-packages (from konlpy) (5.1.0)\r\n",
      "Requirement already satisfied: numpy>=1.6 in /home/ec2-user/anaconda3/envs/pytorch_p310/lib/python3.10/site-packages (from konlpy) (1.26.3)\r\n",
      "Requirement already satisfied: packaging in /home/ec2-user/anaconda3/envs/pytorch_p310/lib/python3.10/site-packages (from JPype1>=0.7.0->konlpy) (23.2)\r\n"
     ]
    }
   ],
   "source": [
    "!pip install konlpy"
   ]
  },
  {
   "cell_type": "code",
   "execution_count": 11,
   "id": "7b97f0d4",
   "metadata": {},
   "outputs": [
    {
     "name": "stdout",
     "output_type": "stream",
     "text": [
      "중: 1271\n",
      "의미: 1227\n",
      "데: 1154\n",
      "설명: 1086\n",
      "경우: 1008\n",
      "차이점: 1003\n",
      "사람: 991\n",
      "이름: 979\n",
      "어디: 905\n",
      "말: 849\n"
     ]
    }
   ],
   "source": [
    "from konlpy.tag import Hannanum\n",
    "from collections import Counter\n",
    "\n",
    "df_sample = df\n",
    "\n",
    "# Hannanum 객체 생성\n",
    "hannanum = Hannanum()\n",
    "\n",
    "# 불용어 리스트 정의\n",
    "stopwords = set([\"무엇\", \"것\", \"이유\", \"궁금\", \"수\", \"때\", \"사용\", \"방법\", \"이\", \"저\"])\n",
    "\n",
    "\n",
    "# 한글 텍스트가 포함된 열 선택 (예시: 'instruction'이라는 열 이름 가정)\n",
    "text_data = df_sample['instruction']\n",
    "\n",
    "# 모든 문장에서 명사 추출 및 빈도수 계산\n",
    "word_counts = Counter()\n",
    "\n",
    "for text in text_data:\n",
    "    # 텍스트에서 명사 추출\n",
    "    nouns = hannanum.nouns(text)\n",
    "    # 불용어 제외\n",
    "    nouns = [noun for noun in nouns if noun not in stopwords]\n",
    "    \n",
    "    word_counts.update(nouns)\n",
    "\n",
    "# 가장 흔한 단어 및 빈도수 출력\n",
    "for word, count in word_counts.most_common(10):\n",
    "    print(f\"{word}: {count}\")\n"
   ]
  },
  {
   "cell_type": "markdown",
   "id": "a743f803",
   "metadata": {},
   "source": [
    "### 문장 길이, 단어 빈도 등을 시각화"
   ]
  },
  {
   "cell_type": "code",
   "execution_count": 12,
   "id": "ed0c174e",
   "metadata": {},
   "outputs": [
    {
     "data": {
      "image/png": "[encoded data removed]",
      "text/plain": [
       "<Figure size 640x480 with 1 Axes>"
      ]
     },
     "metadata": {},
     "output_type": "display_data"
    }
   ],
   "source": [
    "import matplotlib.pyplot as plt\n",
    "\n",
    "# 문장 길이 분포 시각화\n",
    "plt.hist(df['instruction_length'], bins=50, alpha=0.5, label='Instruction Length')\n",
    "plt.hist(df['url_length'], bins=50, alpha=0.5, label='url length')\n",
    "plt.hist(df['output_length'], bins=50, alpha=0.5, label='Output Length')\n",
    "plt.legend(loc='upper right')\n",
    "plt.show()"
   ]
  },
  {
   "cell_type": "markdown",
   "id": "529d27e7",
   "metadata": {},
   "source": [
    "### 고유 단어 및 빈도수 분석"
   ]
  },
  {
   "cell_type": "code",
   "execution_count": 13,
   "id": "6549ea09",
   "metadata": {},
   "outputs": [
    {
     "name": "stdout",
     "output_type": "stream",
     "text": [
      "가장 자주 등장하는 단어 10개 :  [('무엇인가요?', 6489), ('왜', 5465), ('어떤', 4402), ('궁금합니다.', 3568), ('어떻게', 3438), ('수', 3026), ('이유는', 2633), ('있는', 2286), ('있을까요?', 2265), ('있나요?', 1991)]\n",
      "\n",
      "\n",
      "가장 드물게 등장하는 단어 10개 :  [('산모와', 1), ('과반수', 1), ('첫째주가', 1), ('정의되는가?', 1), ('우물이란', 1), ('구사하는', 1), ('충주만큼', 1), ('전국팔도에서도', 1), ('충주는', 1), ('옆비늘을', 1)]\n"
     ]
    }
   ],
   "source": [
    "from collections import Counter\n",
    "\n",
    "# 모든 문장을 단어로 분리\n",
    "all_words = ' '.join(df['instruction']).split()\n",
    "\n",
    "# 단어 빈도수 계산\n",
    "word_freq = Counter(all_words)\n",
    "\n",
    "# 가장 자주 등장하는 단어 10개\n",
    "print('가장 자주 등장하는 단어 10개 : ', word_freq.most_common(10))\n",
    "print('\\n')\n",
    "# 가장 드물게 등장하는 단어 10개\n",
    "print('가장 드물게 등장하는 단어 10개 : ', word_freq.most_common()[:-11:-1])\n"
   ]
  },
  {
   "cell_type": "markdown",
   "id": "1b68e8b5-2bc1-47c3-9f6f-4db9f3ddd6f8",
   "metadata": {},
   "source": [
    "<br>\n",
    "\n",
    "## 2. Chunk\n",
    "---\n",
    "\n",
    "**정의**: 청킹은 비구조화된 텍스트에서 구(phrase)나 \"청크\"를 추출하는 과정입니다. 토큰화가 텍스트를 개별 단어로 분할하는 반면, 청킹은 의미 있는 구나 문법 단위(예: 명사구, 동사구)를 추출하는 것을 목표로 합니다. 텍스트를 일정한 크기의 조각으로 나누는 과정이며, 이 과정에서 주로 문장, 단락 또는 특정 문자 수 등에 기반하여 텍스트를 분할합니다.\n",
    "\n",
    "**사용 사례**: \n",
    "- 명명된 엔터티 인식 (NER)\n",
    "- 관계 추출\n",
    "- 대용어 해소\n",
    "\n",
    "**예시**: \n",
    "```text\n",
    "입력: \"빠른 갈색 여우가 게으른 개를 뛰어넘습니다.\"\n",
    "청크: [(\"빠른 갈색 여우가\", \"NP\"), (\"뛰어넘습니다\", \"VP\"), (\"게으른 개를\", \"NP\")]\n",
    "```\n",
    "\n",
    "**장점**:\n",
    "- 토큰화에 비해 더 많은 문맥과 의미적 의미를 유지\n",
    "- 큰 텍스트 데이터를 관리 가능한 크기로 나누어 처리합니다. 이는 메모리 관리와 처리 속도에 유리합니다.\n",
    "- 청크 단위로 데이터를 분할함으로써 학습 과정이 더 효율적으로 진행될 수 있습니다.\n",
    "- 텍스트 구조를 이해해야 하는 복잡한 NLP 작업에 유용\n",
    "\n",
    "**단점**:\n",
    "- 계산적으로 더 복잡\n",
    "- 더 정교한 알고리즘 또는 모델이 필요할 수 있음\n",
    "- 청크 과정에서 윈도우 크기에 따라 문맥의 연속성이 일부 손실될 수 있습니다. 이는 모델이 전체 텍스트의 문맥을 완전히 이해하는 데 제한을 줄 수 있습니다.\n",
    "\n",
    "---\n",
    "\n",
    "토큰화와 청킹은 모두 텍스트 분할을 위한 기술이지만, 다른 목적을 가지고 있으며 다른 NLP 작업에 유용합니다. 토큰화는 일반적으로 더 단순하고 빠르지만, 청킹은 더 깊은 이해를 제공합니다. 또한, 토큰화는 텍스트를 가장 작은 단위로 나누는 과정이며, 청킹은 이러한 토큰을 묶어서 더 큰 의미나 구조를 가진 단위로 만드는 과정입니다. 학습 전처리에 따라 청크는 데이터를 효율적으로 처리하는 데 도움이 되지만, 토크나이징은 더 정밀한 처리를 가능할 수 있습니다. 학습 데이터의 전처리 세분화 방법에 따라 청크를 사용하면 모델 학습이 더 빠르게 진행될 수 있지만, 토크나이징은 모델이 텍스트의 더 세밀한 부분까지 학습하게 합니다.\n",
    "두 방법은 각각의 장단점을 가지며, 사용할 방법은 모델의 목적과 학습 데이터의 특성에 따라 결정됩니다. \n"
   ]
  },
  {
   "cell_type": "markdown",
   "id": "0cd9025a",
   "metadata": {},
   "source": [
    "### template_dataset 함수\n",
    "-  각 입력 변수인 데이터 대한 프롬프트를 생성하고, 이를 데이터 변수객체의 text칼럼을 추가합니다.\n",
    "\n",
    "### chunk 함수\n",
    "- 이 함수는 텍스트 데이터셋을 청크(chunk) 단위로 분할합니다.\n",
    "- sample: 처리할 데이터 샘플\n",
    "- chunk_length: 청크의 최대 길이 (기본값은 2048)\n"
   ]
  },
  {
   "cell_type": "code",
   "execution_count": 14,
   "id": "7a492cfc-8402-4fb1-8fe3-3b27c64c5c35",
   "metadata": {
    "tags": []
   },
   "outputs": [],
   "source": [
    "from random import randint\n",
    "from itertools import chain\n",
    "from functools import partial\n",
    "\n",
    "# template dataset to add prompt to each sample\n",
    "def template_dataset(data_point):\n",
    "    full_prompt = prompter.generate_prompt(\n",
    "        data_point[\"instruction\"],\n",
    "        data_point.get(\"input\"),\n",
    "        data_point[\"output\"],\n",
    "    )\n",
    "    data_point['text'] = full_prompt\n",
    "    return data_point\n",
    "\n",
    "def chunk(sample, chunk_length=2048):\n",
    "    # define global remainder variable to save remainder from batches to use in next batch\n",
    "    global remainder\n",
    "    # Concatenate all texts and add remainder from previous batch\n",
    "    concatenated_examples = {k: list(chain(*sample[k])) for k in sample.keys()}\n",
    "    concatenated_examples = {k: remainder[k] + concatenated_examples[k] for k in concatenated_examples.keys()}\n",
    "    # get total number of tokens for batch\n",
    "    batch_total_length = len(concatenated_examples[list(sample.keys())[0]])\n",
    "\n",
    "    # get max number of chunks for batch\n",
    "    if batch_total_length >= chunk_length:\n",
    "        batch_chunk_length = (batch_total_length // chunk_length) * chunk_length\n",
    "\n",
    "    # Split by chunks of max_len.\n",
    "    result = {\n",
    "        k: [t[i : i + chunk_length] for i in range(0, batch_chunk_length, chunk_length)]\n",
    "        for k, t in concatenated_examples.items()\n",
    "    }\n",
    "    # add remainder to global variable for next batch\n",
    "    remainder = {k: concatenated_examples[k][batch_chunk_length:] for k in concatenated_examples.keys()}\n",
    "    # prepare labels\n",
    "    result[\"labels\"] = result[\"input_ids\"].copy()\n",
    "    return result\n"
   ]
  },
  {
   "cell_type": "code",
   "execution_count": 15,
   "id": "b870f0e1-eab7-45db-bd59-3bd5c9c19394",
   "metadata": {
    "tags": []
   },
   "outputs": [
    {
     "data": {
      "application/vnd.jupyter.widget-view+json": {
       "model_id": "445a06bfd225476086590a534e057118",
       "version_major": 2,
       "version_minor": 0
      },
      "text/plain": [
       "Map:   0%|          | 0/21155 [00:00<?, ? examples/s]"
      ]
     },
     "metadata": {},
     "output_type": "display_data"
    },
    {
     "name": "stderr",
     "output_type": "stream",
     "text": [
      "Parameter 'function'=<function <lambda> at 0x7f58678f6200> of the transform datasets.arrow_dataset.Dataset._map_single couldn't be hashed properly, a random hash was used instead. Make sure your transforms and parameters are serializable with pickle or dill for the dataset fingerprinting and caching to work. If you reuse this transform, the caching mechanism will consider it to be different from the previous calls and recompute everything. This warning is only showed once. Subsequent hashing failures won't be showed.\n"
     ]
    },
    {
     "data": {
      "application/vnd.jupyter.widget-view+json": {
       "model_id": "7c99017d6a4b4e54b51e8c24ebbb0ec1",
       "version_major": 2,
       "version_minor": 0
      },
      "text/plain": [
       "Map:   0%|          | 0/21155 [00:00<?, ? examples/s]"
      ]
     },
     "metadata": {},
     "output_type": "display_data"
    },
    {
     "data": {
      "application/vnd.jupyter.widget-view+json": {
       "model_id": "56b3ebb9961e4ed7800945c2dccaf348",
       "version_major": 2,
       "version_minor": 0
      },
      "text/plain": [
       "Map:   0%|          | 0/21155 [00:00<?, ? examples/s]"
      ]
     },
     "metadata": {},
     "output_type": "display_data"
    },
    {
     "name": "stdout",
     "output_type": "stream",
     "text": [
      "Total number of samples: 3586\n"
     ]
    }
   ],
   "source": [
    "dataset = data['train'].shuffle()#.select(range(200))\n",
    "dataset = dataset.map(template_dataset, remove_columns=list(dataset.features))\n",
    "\n",
    "# empty list to save remainder from batches to use in next batch\n",
    "remainder = {\"input_ids\": [], \"attention_mask\": []}\n",
    "\n",
    "# tokenize and chunk dataset\n",
    "lm_dataset = dataset.map(\n",
    "    lambda sample: tokenizer(sample[\"text\"]), batched=True, remove_columns=list(dataset.features)\n",
    ").map(\n",
    "    partial(chunk, chunk_length=1536),\n",
    "    batched=True,\n",
    ")\n",
    "\n",
    "# Print total number of samples\n",
    "print(f\"Total number of samples: {len(lm_dataset)}\")"
   ]
  },
  {
   "cell_type": "markdown",
   "id": "0533d4e0",
   "metadata": {},
   "source": [
    "## chunking data 확인"
   ]
  },
  {
   "cell_type": "code",
   "execution_count": 16,
   "id": "6b8417c4",
   "metadata": {},
   "outputs": [
    {
     "data": {
      "text/html": [
       "<div>\n",
       "<style scoped>\n",
       "    .dataframe tbody tr th:only-of-type {\n",
       "        vertical-align: middle;\n",
       "    }\n",
       "\n",
       "    .dataframe tbody tr th {\n",
       "        vertical-align: top;\n",
       "    }\n",
       "\n",
       "    .dataframe thead th {\n",
       "        text-align: right;\n",
       "    }\n",
       "</style>\n",
       "<table border=\"1\" class=\"dataframe\">\n",
       "  <thead>\n",
       "    <tr style=\"text-align: right;\">\n",
       "      <th></th>\n",
       "      <th>input_ids</th>\n",
       "      <th>attention_mask</th>\n",
       "      <th>labels</th>\n",
       "    </tr>\n",
       "  </thead>\n",
       "  <tbody>\n",
       "    <tr>\n",
       "      <th>0</th>\n",
       "      <td>[12657, 272, 2236, 276, 1251, 284, 272, 5026, ...</td>\n",
       "      <td>[1, 1, 1, 1, 1, 1, 1, 1, 1, 1, 1, 1, 1, 1, 1, ...</td>\n",
       "      <td>[12657, 272, 2236, 276, 1251, 284, 272, 5026, ...</td>\n",
       "    </tr>\n",
       "    <tr>\n",
       "      <th>1</th>\n",
       "      <td>[365, 550, 827, 17, 1754, 10562, 7759, 551, 23...</td>\n",
       "      <td>[1, 1, 1, 1, 1, 1, 1, 1, 1, 1, 1, 1, 1, 1, 1, ...</td>\n",
       "      <td>[365, 550, 827, 17, 1754, 10562, 7759, 551, 23...</td>\n",
       "    </tr>\n",
       "    <tr>\n",
       "      <th>2</th>\n",
       "      <td>[1462, 15, 5256, 15, 5333, 433, 270, 327, 827,...</td>\n",
       "      <td>[1, 1, 1, 1, 1, 1, 1, 1, 1, 1, 1, 1, 1, 1, 1, ...</td>\n",
       "      <td>[1462, 15, 5256, 15, 5333, 433, 270, 327, 827,...</td>\n",
       "    </tr>\n",
       "    <tr>\n",
       "      <th>3</th>\n",
       "      <td>[3174, 296, 3331, 1547, 939, 392, 1985, 285, 3...</td>\n",
       "      <td>[1, 1, 1, 1, 1, 1, 1, 1, 1, 1, 1, 1, 1, 1, 1, ...</td>\n",
       "      <td>[3174, 296, 3331, 1547, 939, 392, 1985, 285, 3...</td>\n",
       "    </tr>\n",
       "    <tr>\n",
       "      <th>4</th>\n",
       "      <td>[1890, 284, 13979, 4117, 407, 1441, 17, 3322, ...</td>\n",
       "      <td>[1, 1, 1, 1, 1, 1, 1, 1, 1, 1, 1, 1, 1, 1, 1, ...</td>\n",
       "      <td>[1890, 284, 13979, 4117, 407, 1441, 17, 3322, ...</td>\n",
       "    </tr>\n",
       "    <tr>\n",
       "      <th>...</th>\n",
       "      <td>...</td>\n",
       "      <td>...</td>\n",
       "      <td>...</td>\n",
       "    </tr>\n",
       "    <tr>\n",
       "      <th>3581</th>\n",
       "      <td>[276, 1251, 284, 272, 5026, 348, 1441, 17, 235...</td>\n",
       "      <td>[1, 1, 1, 1, 1, 1, 1, 1, 1, 1, 1, 1, 1, 1, 1, ...</td>\n",
       "      <td>[276, 1251, 284, 272, 5026, 348, 1441, 17, 235...</td>\n",
       "    </tr>\n",
       "    <tr>\n",
       "      <th>3582</th>\n",
       "      <td>[4916, 7809, 270, 14694, 293, 769, 283, 3584, ...</td>\n",
       "      <td>[1, 1, 1, 1, 1, 1, 1, 1, 1, 1, 1, 1, 1, 1, 1, ...</td>\n",
       "      <td>[4916, 7809, 270, 14694, 293, 769, 283, 3584, ...</td>\n",
       "    </tr>\n",
       "    <tr>\n",
       "      <th>3583</th>\n",
       "      <td>[1409, 6568, 4840, 543, 6156, 272, 1458, 276, ...</td>\n",
       "      <td>[1, 1, 1, 1, 1, 1, 1, 1, 1, 1, 1, 1, 1, 1, 1, ...</td>\n",
       "      <td>[1409, 6568, 4840, 543, 6156, 272, 1458, 276, ...</td>\n",
       "    </tr>\n",
       "    <tr>\n",
       "      <th>3584</th>\n",
       "      <td>[5026, 348, 1441, 17, 2357, 276, 15296, 3709, ...</td>\n",
       "      <td>[1, 1, 1, 1, 1, 1, 1, 1, 1, 1, 1, 1, 1, 1, 1, ...</td>\n",
       "      <td>[5026, 348, 1441, 17, 2357, 276, 15296, 3709, ...</td>\n",
       "    </tr>\n",
       "    <tr>\n",
       "      <th>3585</th>\n",
       "      <td>[327, 4389, 34, 202, 202, 6, 6, 6, 3711, 29, 2...</td>\n",
       "      <td>[1, 1, 1, 1, 1, 1, 1, 1, 1, 1, 1, 1, 1, 1, 1, ...</td>\n",
       "      <td>[327, 4389, 34, 202, 202, 6, 6, 6, 3711, 29, 2...</td>\n",
       "    </tr>\n",
       "  </tbody>\n",
       "</table>\n",
       "<p>3586 rows × 3 columns</p>\n",
       "</div>"
      ],
      "text/plain": [
       "                                              input_ids  \\\n",
       "0     [12657, 272, 2236, 276, 1251, 284, 272, 5026, ...   \n",
       "1     [365, 550, 827, 17, 1754, 10562, 7759, 551, 23...   \n",
       "2     [1462, 15, 5256, 15, 5333, 433, 270, 327, 827,...   \n",
       "3     [3174, 296, 3331, 1547, 939, 392, 1985, 285, 3...   \n",
       "4     [1890, 284, 13979, 4117, 407, 1441, 17, 3322, ...   \n",
       "...                                                 ...   \n",
       "3581  [276, 1251, 284, 272, 5026, 348, 1441, 17, 235...   \n",
       "3582  [4916, 7809, 270, 14694, 293, 769, 283, 3584, ...   \n",
       "3583  [1409, 6568, 4840, 543, 6156, 272, 1458, 276, ...   \n",
       "3584  [5026, 348, 1441, 17, 2357, 276, 15296, 3709, ...   \n",
       "3585  [327, 4389, 34, 202, 202, 6, 6, 6, 3711, 29, 2...   \n",
       "\n",
       "                                         attention_mask  \\\n",
       "0     [1, 1, 1, 1, 1, 1, 1, 1, 1, 1, 1, 1, 1, 1, 1, ...   \n",
       "1     [1, 1, 1, 1, 1, 1, 1, 1, 1, 1, 1, 1, 1, 1, 1, ...   \n",
       "2     [1, 1, 1, 1, 1, 1, 1, 1, 1, 1, 1, 1, 1, 1, 1, ...   \n",
       "3     [1, 1, 1, 1, 1, 1, 1, 1, 1, 1, 1, 1, 1, 1, 1, ...   \n",
       "4     [1, 1, 1, 1, 1, 1, 1, 1, 1, 1, 1, 1, 1, 1, 1, ...   \n",
       "...                                                 ...   \n",
       "3581  [1, 1, 1, 1, 1, 1, 1, 1, 1, 1, 1, 1, 1, 1, 1, ...   \n",
       "3582  [1, 1, 1, 1, 1, 1, 1, 1, 1, 1, 1, 1, 1, 1, 1, ...   \n",
       "3583  [1, 1, 1, 1, 1, 1, 1, 1, 1, 1, 1, 1, 1, 1, 1, ...   \n",
       "3584  [1, 1, 1, 1, 1, 1, 1, 1, 1, 1, 1, 1, 1, 1, 1, ...   \n",
       "3585  [1, 1, 1, 1, 1, 1, 1, 1, 1, 1, 1, 1, 1, 1, 1, ...   \n",
       "\n",
       "                                                 labels  \n",
       "0     [12657, 272, 2236, 276, 1251, 284, 272, 5026, ...  \n",
       "1     [365, 550, 827, 17, 1754, 10562, 7759, 551, 23...  \n",
       "2     [1462, 15, 5256, 15, 5333, 433, 270, 327, 827,...  \n",
       "3     [3174, 296, 3331, 1547, 939, 392, 1985, 285, 3...  \n",
       "4     [1890, 284, 13979, 4117, 407, 1441, 17, 3322, ...  \n",
       "...                                                 ...  \n",
       "3581  [276, 1251, 284, 272, 5026, 348, 1441, 17, 235...  \n",
       "3582  [4916, 7809, 270, 14694, 293, 769, 283, 3584, ...  \n",
       "3583  [1409, 6568, 4840, 543, 6156, 272, 1458, 276, ...  \n",
       "3584  [5026, 348, 1441, 17, 2357, 276, 15296, 3709, ...  \n",
       "3585  [327, 4389, 34, 202, 202, 6, 6, 6, 3711, 29, 2...  \n",
       "\n",
       "[3586 rows x 3 columns]"
      ]
     },
     "execution_count": 16,
     "metadata": {},
     "output_type": "execute_result"
    }
   ],
   "source": [
    "df_lm = lm_dataset.to_pandas()\n",
    "df_lm"
   ]
  },
  {
   "cell_type": "code",
   "execution_count": 17,
   "id": "7e391f73",
   "metadata": {},
   "outputs": [
    {
     "data": {
      "text/html": [
       "<div>\n",
       "<style scoped>\n",
       "    .dataframe tbody tr th:only-of-type {\n",
       "        vertical-align: middle;\n",
       "    }\n",
       "\n",
       "    .dataframe tbody tr th {\n",
       "        vertical-align: top;\n",
       "    }\n",
       "\n",
       "    .dataframe thead th {\n",
       "        text-align: right;\n",
       "    }\n",
       "</style>\n",
       "<table border=\"1\" class=\"dataframe\">\n",
       "  <thead>\n",
       "    <tr style=\"text-align: right;\">\n",
       "      <th></th>\n",
       "      <th>input_ids</th>\n",
       "      <th>attention_mask</th>\n",
       "      <th>labels</th>\n",
       "      <th>input_ids_length</th>\n",
       "    </tr>\n",
       "  </thead>\n",
       "  <tbody>\n",
       "    <tr>\n",
       "      <th>0</th>\n",
       "      <td>[12657, 272, 2236, 276, 1251, 284, 272, 5026, ...</td>\n",
       "      <td>[1, 1, 1, 1, 1, 1, 1, 1, 1, 1, 1, 1, 1, 1, 1, ...</td>\n",
       "      <td>[12657, 272, 2236, 276, 1251, 284, 272, 5026, ...</td>\n",
       "      <td>1536</td>\n",
       "    </tr>\n",
       "    <tr>\n",
       "      <th>1</th>\n",
       "      <td>[365, 550, 827, 17, 1754, 10562, 7759, 551, 23...</td>\n",
       "      <td>[1, 1, 1, 1, 1, 1, 1, 1, 1, 1, 1, 1, 1, 1, 1, ...</td>\n",
       "      <td>[365, 550, 827, 17, 1754, 10562, 7759, 551, 23...</td>\n",
       "      <td>1536</td>\n",
       "    </tr>\n",
       "    <tr>\n",
       "      <th>2</th>\n",
       "      <td>[1462, 15, 5256, 15, 5333, 433, 270, 327, 827,...</td>\n",
       "      <td>[1, 1, 1, 1, 1, 1, 1, 1, 1, 1, 1, 1, 1, 1, 1, ...</td>\n",
       "      <td>[1462, 15, 5256, 15, 5333, 433, 270, 327, 827,...</td>\n",
       "      <td>1536</td>\n",
       "    </tr>\n",
       "    <tr>\n",
       "      <th>3</th>\n",
       "      <td>[3174, 296, 3331, 1547, 939, 392, 1985, 285, 3...</td>\n",
       "      <td>[1, 1, 1, 1, 1, 1, 1, 1, 1, 1, 1, 1, 1, 1, 1, ...</td>\n",
       "      <td>[3174, 296, 3331, 1547, 939, 392, 1985, 285, 3...</td>\n",
       "      <td>1536</td>\n",
       "    </tr>\n",
       "    <tr>\n",
       "      <th>4</th>\n",
       "      <td>[1890, 284, 13979, 4117, 407, 1441, 17, 3322, ...</td>\n",
       "      <td>[1, 1, 1, 1, 1, 1, 1, 1, 1, 1, 1, 1, 1, 1, 1, ...</td>\n",
       "      <td>[1890, 284, 13979, 4117, 407, 1441, 17, 3322, ...</td>\n",
       "      <td>1536</td>\n",
       "    </tr>\n",
       "    <tr>\n",
       "      <th>...</th>\n",
       "      <td>...</td>\n",
       "      <td>...</td>\n",
       "      <td>...</td>\n",
       "      <td>...</td>\n",
       "    </tr>\n",
       "    <tr>\n",
       "      <th>3581</th>\n",
       "      <td>[276, 1251, 284, 272, 5026, 348, 1441, 17, 235...</td>\n",
       "      <td>[1, 1, 1, 1, 1, 1, 1, 1, 1, 1, 1, 1, 1, 1, 1, ...</td>\n",
       "      <td>[276, 1251, 284, 272, 5026, 348, 1441, 17, 235...</td>\n",
       "      <td>1536</td>\n",
       "    </tr>\n",
       "    <tr>\n",
       "      <th>3582</th>\n",
       "      <td>[4916, 7809, 270, 14694, 293, 769, 283, 3584, ...</td>\n",
       "      <td>[1, 1, 1, 1, 1, 1, 1, 1, 1, 1, 1, 1, 1, 1, 1, ...</td>\n",
       "      <td>[4916, 7809, 270, 14694, 293, 769, 283, 3584, ...</td>\n",
       "      <td>1536</td>\n",
       "    </tr>\n",
       "    <tr>\n",
       "      <th>3583</th>\n",
       "      <td>[1409, 6568, 4840, 543, 6156, 272, 1458, 276, ...</td>\n",
       "      <td>[1, 1, 1, 1, 1, 1, 1, 1, 1, 1, 1, 1, 1, 1, 1, ...</td>\n",
       "      <td>[1409, 6568, 4840, 543, 6156, 272, 1458, 276, ...</td>\n",
       "      <td>1536</td>\n",
       "    </tr>\n",
       "    <tr>\n",
       "      <th>3584</th>\n",
       "      <td>[5026, 348, 1441, 17, 2357, 276, 15296, 3709, ...</td>\n",
       "      <td>[1, 1, 1, 1, 1, 1, 1, 1, 1, 1, 1, 1, 1, 1, 1, ...</td>\n",
       "      <td>[5026, 348, 1441, 17, 2357, 276, 15296, 3709, ...</td>\n",
       "      <td>1536</td>\n",
       "    </tr>\n",
       "    <tr>\n",
       "      <th>3585</th>\n",
       "      <td>[327, 4389, 34, 202, 202, 6, 6, 6, 3711, 29, 2...</td>\n",
       "      <td>[1, 1, 1, 1, 1, 1, 1, 1, 1, 1, 1, 1, 1, 1, 1, ...</td>\n",
       "      <td>[327, 4389, 34, 202, 202, 6, 6, 6, 3711, 29, 2...</td>\n",
       "      <td>1536</td>\n",
       "    </tr>\n",
       "  </tbody>\n",
       "</table>\n",
       "<p>3586 rows × 4 columns</p>\n",
       "</div>"
      ],
      "text/plain": [
       "                                              input_ids  \\\n",
       "0     [12657, 272, 2236, 276, 1251, 284, 272, 5026, ...   \n",
       "1     [365, 550, 827, 17, 1754, 10562, 7759, 551, 23...   \n",
       "2     [1462, 15, 5256, 15, 5333, 433, 270, 327, 827,...   \n",
       "3     [3174, 296, 3331, 1547, 939, 392, 1985, 285, 3...   \n",
       "4     [1890, 284, 13979, 4117, 407, 1441, 17, 3322, ...   \n",
       "...                                                 ...   \n",
       "3581  [276, 1251, 284, 272, 5026, 348, 1441, 17, 235...   \n",
       "3582  [4916, 7809, 270, 14694, 293, 769, 283, 3584, ...   \n",
       "3583  [1409, 6568, 4840, 543, 6156, 272, 1458, 276, ...   \n",
       "3584  [5026, 348, 1441, 17, 2357, 276, 15296, 3709, ...   \n",
       "3585  [327, 4389, 34, 202, 202, 6, 6, 6, 3711, 29, 2...   \n",
       "\n",
       "                                         attention_mask  \\\n",
       "0     [1, 1, 1, 1, 1, 1, 1, 1, 1, 1, 1, 1, 1, 1, 1, ...   \n",
       "1     [1, 1, 1, 1, 1, 1, 1, 1, 1, 1, 1, 1, 1, 1, 1, ...   \n",
       "2     [1, 1, 1, 1, 1, 1, 1, 1, 1, 1, 1, 1, 1, 1, 1, ...   \n",
       "3     [1, 1, 1, 1, 1, 1, 1, 1, 1, 1, 1, 1, 1, 1, 1, ...   \n",
       "4     [1, 1, 1, 1, 1, 1, 1, 1, 1, 1, 1, 1, 1, 1, 1, ...   \n",
       "...                                                 ...   \n",
       "3581  [1, 1, 1, 1, 1, 1, 1, 1, 1, 1, 1, 1, 1, 1, 1, ...   \n",
       "3582  [1, 1, 1, 1, 1, 1, 1, 1, 1, 1, 1, 1, 1, 1, 1, ...   \n",
       "3583  [1, 1, 1, 1, 1, 1, 1, 1, 1, 1, 1, 1, 1, 1, 1, ...   \n",
       "3584  [1, 1, 1, 1, 1, 1, 1, 1, 1, 1, 1, 1, 1, 1, 1, ...   \n",
       "3585  [1, 1, 1, 1, 1, 1, 1, 1, 1, 1, 1, 1, 1, 1, 1, ...   \n",
       "\n",
       "                                                 labels  input_ids_length  \n",
       "0     [12657, 272, 2236, 276, 1251, 284, 272, 5026, ...              1536  \n",
       "1     [365, 550, 827, 17, 1754, 10562, 7759, 551, 23...              1536  \n",
       "2     [1462, 15, 5256, 15, 5333, 433, 270, 327, 827,...              1536  \n",
       "3     [3174, 296, 3331, 1547, 939, 392, 1985, 285, 3...              1536  \n",
       "4     [1890, 284, 13979, 4117, 407, 1441, 17, 3322, ...              1536  \n",
       "...                                                 ...               ...  \n",
       "3581  [276, 1251, 284, 272, 5026, 348, 1441, 17, 235...              1536  \n",
       "3582  [4916, 7809, 270, 14694, 293, 769, 283, 3584, ...              1536  \n",
       "3583  [1409, 6568, 4840, 543, 6156, 272, 1458, 276, ...              1536  \n",
       "3584  [5026, 348, 1441, 17, 2357, 276, 15296, 3709, ...              1536  \n",
       "3585  [327, 4389, 34, 202, 202, 6, 6, 6, 3711, 29, 2...              1536  \n",
       "\n",
       "[3586 rows x 4 columns]"
      ]
     },
     "execution_count": 17,
     "metadata": {},
     "output_type": "execute_result"
    }
   ],
   "source": [
    "# 'input_ids' 칼럼의 각 벡터의 길이를 새로운 칼럼 'input_ids_length'에 저장\n",
    "df_lm['input_ids_length'] = df_lm['input_ids'].apply(len)\n",
    "\n",
    "# 새로운 칼럼을 확인\n",
    "df_lm"
   ]
  },
  {
   "cell_type": "markdown",
   "id": "e225165b",
   "metadata": {},
   "source": [
    "#### chunking 벡터의 최대 길이는 설정한 chunk_length windowing size로 고정됨"
   ]
  },
  {
   "cell_type": "code",
   "execution_count": 18,
   "id": "866fda1c",
   "metadata": {},
   "outputs": [
    {
     "name": "stdout",
     "output_type": "stream",
     "text": [
      "The maximum length of 'input_ids' is 1536\n"
     ]
    }
   ],
   "source": [
    "# 'input_ids_length' 칼럼의 최대값을 확인\n",
    "max_value = df_lm['input_ids_length'].max()\n",
    "\n",
    "print(f\"The maximum length of 'input_ids' is {max_value}\")"
   ]
  },
  {
   "cell_type": "markdown",
   "id": "cc49f3f1-bca8-4472-b491-40849970ed90",
   "metadata": {},
   "source": [
    "<br>\n",
    "\n",
    "## 3. Save dataset to S3\n",
    "---"
   ]
  },
  {
   "cell_type": "code",
   "execution_count": 19,
   "id": "e1328ad7-c912-4da5-a905-2859e2276cfc",
   "metadata": {
    "tags": []
   },
   "outputs": [
    {
     "name": "stdout",
     "output_type": "stream",
     "text": [
      "sagemaker.config INFO - Not applying SDK defaults from location: /etc/xdg/sagemaker/config.yaml\n",
      "sagemaker.config INFO - Not applying SDK defaults from location: /home/ec2-user/.config/sagemaker/config.yaml\n",
      "SageMaker role arn: arn:aws:iam::334816520966:role/sagemaker-immersion-day-SageMakerExecutionRole-QMhudTJnrvaX\n",
      "SageMaker bucket: sagemaker-us-east-1-334816520966\n",
      "SageMaker session region: us-east-1\n"
     ]
    }
   ],
   "source": [
    "import sagemaker\n",
    "import boto3\n",
    "sess = sagemaker.Session()\n",
    "region = boto3.Session().region_name\n",
    "# sagemaker session bucket -> used for uploading data, models and logs\n",
    "# sagemaker will automatically create this bucket if it not exists\n",
    "bucket = None\n",
    "if bucket is None and sess is not None:\n",
    "    # set to default bucket if a bucket name is not given\n",
    "    bucket = sess.default_bucket()\n",
    "\n",
    "try:\n",
    "    role = sagemaker.get_execution_role()\n",
    "except ValueError:\n",
    "    iam = boto3.client('iam')\n",
    "    role = iam.get_role(RoleName='sagemaker_execution_role')['Role']['Arn']\n",
    "\n",
    "sess = sagemaker.Session(default_bucket=bucket)\n",
    "\n",
    "print(f\"SageMaker role arn: {role}\")\n",
    "print(f\"SageMaker bucket: {sess.default_bucket()}\")\n",
    "print(f\"SageMaker session region: {sess.boto_region_name}\")"
   ]
  },
  {
   "cell_type": "code",
   "execution_count": 20,
   "id": "5d4986c9-05bc-4c10-94df-265863dfb316",
   "metadata": {
    "tags": []
   },
   "outputs": [
    {
     "name": "stdout",
     "output_type": "stream",
     "text": [
      "S3 data path: \n",
      " s3://sagemaker-us-east-1-334816520966/ko-llms/peft/kullm-polyglot-12-8b-v2/dataset/chunk-train\n",
      "S3 pretrained model path: \n",
      " s3://sagemaker-us-east-1-334816520966/ko-llms/peft/huggingface-models/kullm-polyglot-12-8b-v2/\n"
     ]
    }
   ],
   "source": [
    "bucket_prefix = 'ko-llms/peft'\n",
    "dataset_prefix = 'chunk-train'\n",
    "dataset_prefix_all = 'chunk-train-all'\n",
    "\n",
    "s3_data_path = f\"s3://{bucket}/{bucket_prefix}/{model_name}/dataset/{dataset_prefix}\"\n",
    "s3_pretrained_model_path = f\"s3://{bucket}/{bucket_prefix}/huggingface-models/{model_name}/\"\n",
    "print(f\"S3 data path: \\n {s3_data_path}\")\n",
    "print(f\"S3 pretrained model path: \\n {s3_pretrained_model_path}\")"
   ]
  },
  {
   "cell_type": "markdown",
   "id": "cc99726b",
   "metadata": {},
   "source": [
    "### 로컬학습을 위한 데이터셋 저장\n",
    "- dataset_prefix : 디버깅을 위한 처음 50개의 샘플(num_debug_samples)을 선택하여 dataset_prefix에 지정된 경로에 저장합니다. \n",
    "- dataset_prefix_all : 3586개 모두 학습에 사용합니다. "
   ]
  },
  {
   "cell_type": "code",
   "execution_count": 22,
   "id": "205c6402-39b0-47f3-b8dd-6f2ef3add0ed",
   "metadata": {
    "tags": []
   },
   "outputs": [
    {
     "data": {
      "application/vnd.jupyter.widget-view+json": {
       "model_id": "b8784372db29403a861415030ce0ab96",
       "version_major": 2,
       "version_minor": 0
      },
      "text/plain": [
       "Saving the dataset (0/1 shards):   0%|          | 0/3586 [00:00<?, ? examples/s]"
      ]
     },
     "metadata": {},
     "output_type": "display_data"
    },
    {
     "data": {
      "application/vnd.jupyter.widget-view+json": {
       "model_id": "27083d780a904bc5acd42d2f41bc35c3",
       "version_major": 2,
       "version_minor": 0
      },
      "text/plain": [
       "Saving the dataset (0/1 shards):   0%|          | 0/50 [00:00<?, ? examples/s]"
      ]
     },
     "metadata": {},
     "output_type": "display_data"
    },
    {
     "data": {
      "application/vnd.jupyter.widget-view+json": {
       "model_id": "f3c6877648fe4ba7bea6d6ec89174940",
       "version_major": 2,
       "version_minor": 0
      },
      "text/plain": [
       "Saving the dataset (0/1 shards):   0%|          | 0/3586 [00:00<?, ? examples/s]"
      ]
     },
     "metadata": {},
     "output_type": "display_data"
    },
    {
     "name": "stdout",
     "output_type": "stream",
     "text": [
      "Number of samples for debugging: 50\n"
     ]
    }
   ],
   "source": [
    "num_debug_samples = 50\n",
    "lm_dataset.save_to_disk(s3_data_path)\n",
    "lm_dataset.select(range(num_debug_samples)).save_to_disk(dataset_prefix)\n",
    "\n",
    "lm_dataset.save_to_disk(dataset_prefix_all)\n",
    "print(f\"Number of samples for debugging: {num_debug_samples}\")"
   ]
  },
  {
   "cell_type": "code",
   "execution_count": 23,
   "id": "5d36dd79-6b74-475c-bbeb-bc56d1564580",
   "metadata": {
    "tags": []
   },
   "outputs": [
    {
     "name": "stdout",
     "output_type": "stream",
     "text": [
      "Stored 'bucket_prefix' (str)\n",
      "Stored 'dataset_prefix' (str)\n",
      "Stored 's3_data_path' (str)\n",
      "Stored 'dataset_prefix_all' (str)\n"
     ]
    }
   ],
   "source": [
    "%store bucket_prefix dataset_prefix s3_data_path dataset_prefix_all"
   ]
  },
  {
   "cell_type": "code",
   "execution_count": null,
   "id": "01cc3cff",
   "metadata": {},
   "outputs": [],
   "source": []
  }
 ],
 "metadata": {
  "kernelspec": {
   "display_name": "conda_pytorch_p310",
   "language": "python",
   "name": "conda_pytorch_p310"
  },
  "language_info": {
   "codemirror_mode": {
    "name": "ipython",
    "version": 3
   },
   "file_extension": ".py",
   "mimetype": "text/x-python",
   "name": "python",
   "nbconvert_exporter": "python",
   "pygments_lexer": "ipython3",
   "version": "3.10.13"
  }
 },
 "nbformat": 4,
 "nbformat_minor": 5
}
