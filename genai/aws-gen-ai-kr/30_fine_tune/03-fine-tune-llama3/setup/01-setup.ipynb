{
 "cells": [
  {
   "cell_type": "markdown",
   "metadata": {},
   "source": [
    "# Setup"
   ]
  },
  {
   "cell_type": "markdown",
   "metadata": {},
   "source": [
    "## 1. Docker Image 저장 경로 변경\n",
    "\n",
    "Change Docker image path to EBS\n",
    "- SageMaker 노트북 인스턴스일 경우 docker image 저장소의 공간이 작아 마운트한 EBS로 변경을 진행합니다.\n",
    "SageMaker 노트북 인스턴스에서 로컬 모드 디버깅 시 종종 No space left 관련 오류가 발생합니다. 따라서, 도커 이미지/컨테이너가 저장될 폴더를 SageMaker EBS (Amazon Elastic Block Store) 볼륨으로 변경하는 것을 권장합니다. 도커 이미지/컨테이너는 기본적으로 EBS가 아닌 루트 볼륨에 저장하기 때문에(루트 볼륨의 크기는 사용자가 임의로 조정할 수 없습니다!) 고용량의 이미지들을 빌드하면 용량이 꽉 차기 때문입니다."
   ]
  },
  {
   "cell_type": "code",
   "execution_count": 1,
   "metadata": {
    "tags": []
   },
   "outputs": [
    {
     "name": "stdout",
     "output_type": "stream",
     "text": [
      "Add data-root and default-shm-size=10G\n"
     ]
    },
    {
     "name": "stderr",
     "output_type": "stream",
     "text": [
      "Redirecting to /bin/systemctl restart docker.service\n"
     ]
    },
    {
     "name": "stdout",
     "output_type": "stream",
     "text": [
      "Docker Restart\n",
      " Docker Root Dir: /home/ec2-user/SageMaker/.container/docker\n"
     ]
    }
   ],
   "source": [
    "%%bash\n",
    "\n",
    "#!/usr/bin/env bash\n",
    "\n",
    "echo '{\n",
    "    \"runtimes\": {\n",
    "        \"nvidia\": {\n",
    "            \"path\": \"nvidia-container-runtime\",\n",
    "            \"runtimeArgs\": []\n",
    "        }\n",
    "    }\n",
    "}' > daemon.json\n",
    "\n",
    "sudo cp daemon.json /etc/docker/daemon.json && rm daemon.json\n",
    "\n",
    "DAEMON_PATH=\"/etc/docker\"\n",
    "MEMORY_SIZE=10G\n",
    "\n",
    "FLAG=$(cat $DAEMON_PATH/daemon.json | jq 'has(\"data-root\")')\n",
    "# echo $FLAG\n",
    "\n",
    "if [ \"$FLAG\" == true ]; then\n",
    "    echo \"Already revised\"\n",
    "else\n",
    "    echo \"Add data-root and default-shm-size=$MEMORY_SIZE\"\n",
    "    sudo cp $DAEMON_PATH/daemon.json $DAEMON_PATH/daemon.json.bak\n",
    "    sudo cat $DAEMON_PATH/daemon.json.bak | jq '. += {\"data-root\":\"/home/ec2-user/SageMaker/.container/docker\",\"default-shm-size\":\"'$MEMORY_SIZE'\"}' | sudo tee $DAEMON_PATH/daemon.json > /dev/null\n",
    "    sudo service docker restart\n",
    "    echo \"Docker Restart\"\n",
    "fi\n",
    "\n",
    "sudo docker info | grep Root"
   ]
  },
  {
   "cell_type": "markdown",
   "metadata": {},
   "source": [
    "## 2. 환경 변수 설정\n",
    "- HF 에서 사용하는 디폴트 경로를 변경 합니다. \n",
    "- 아래의 sh 파일을 실행하면, 아래의 변수가 환경 변수에 저장이 되어서, \n",
    "`os.getenv('TRANSFORMERS_CACHE')` 의 명령어를 통해서 값도 불러 올 수 있습니다. \n",
    "```\n",
    "export TRANSFORMERS_CACHE=/home/ec2-user/SageMaker/.cache\n",
    "export HF_DATASETS_CACHE=/home/ec2-user/SageMaker/.cache\n",
    "export HF_HOME=/home/ec2-user/SageMaker/.cache\n",
    "\n",
    "```"
   ]
  },
  {
   "cell_type": "code",
   "execution_count": 2,
   "metadata": {
    "tags": []
   },
   "outputs": [
    {
     "name": "stdout",
     "output_type": "stream",
     "text": [
      "export TRANSFORMERS_CACHE=/home/ec2-user/SageMaker/.cache is export TRANSFORMERS_CACHE=/home/ec2-user/SageMaker/.cache\n",
      "Added TRANSFORMERS_CACHE, HF_DATASETS_CACHE, HF_HOME to .bashrc\n",
      "TRANSFORMERS_CACHE is now set to: /home/ec2-user/SageMaker/.cache\n",
      "HF_DATASETS_CACHE is now set to: /home/ec2-user/SageMaker/.cache\n",
      "HF_HOME is now set to: /home/ec2-user/SageMaker/.cache\n"
     ]
    }
   ],
   "source": [
    "! ./setup_env_vars.sh"
   ]
  },
  {
   "cell_type": "markdown",
   "metadata": {},
   "source": [
    "## 3. Jupyter Server 재실행\n",
    "#### [중요] 아래를 실행하면 모든 노트북의 커널이 중지됩니다. 유의해서 사용 하세요."
   ]
  },
  {
   "cell_type": "code",
   "execution_count": null,
   "metadata": {
    "tags": []
   },
   "outputs": [],
   "source": [
    "import os\n",
    "os.system('sudo systemctl restart jupyter-server')"
   ]
  },
  {
   "cell_type": "code",
   "execution_count": null,
   "metadata": {},
   "outputs": [],
   "source": []
  }
 ],
 "metadata": {
  "kernelspec": {
   "display_name": "conda_llama3_puy310",
   "language": "python",
   "name": "conda_llama3_puy310"
  },
  "language_info": {
   "codemirror_mode": {
    "name": "ipython",
    "version": 3
   },
   "file_extension": ".py",
   "mimetype": "text/x-python",
   "name": "python",
   "nbconvert_exporter": "python",
   "pygments_lexer": "ipython3",
   "version": "3.10.14"
  },
  "vscode": {
   "interpreter": {
    "hash": "6daafc7ae2313787fa97137de7504cfa7c5a594d29476828201b4f7d7fb5c4e1"
   }
  }
 },
 "nbformat": 4,
 "nbformat_minor": 4
}
