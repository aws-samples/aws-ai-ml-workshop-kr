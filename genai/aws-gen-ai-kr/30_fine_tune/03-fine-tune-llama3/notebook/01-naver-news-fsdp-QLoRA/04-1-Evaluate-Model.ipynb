{
 "cells": [
  {
   "cell_type": "markdown",
   "id": "fe4872e4-c90b-434b-bfe5-f88292fba385",
   "metadata": {},
   "source": [
    "# SageMaker 한국어 파인 튜닝 모델 평가 하기\n",
    "- 이 노트북은 기존에 Llama3-8B 베이스 모델을 기반으로 파인 튜닝된 두개의 모델 (Quick-Model, Optimized-Model) 을 다운로드 받습니다. \n",
    "- 테스트 데이터 셋을 통하여 요약에 대한 평가지료를 측정 합니다."
   ]
  },
  {
   "cell_type": "markdown",
   "id": "242d2f2a-e808-4862-8d9b-aa16318f655e",
   "metadata": {},
   "source": [
    "## 0. 선수 내용\n",
    "이 노트북은 아래의 노트북이 먼저 실행이 완료 되어 있어야만 합니다. \n",
    "- notebook/01-naver-news-fsdp-QLoRA/03-SageMaker-Training.ipynb\n",
    "- notebook/01-naver-news-fsdp-QLoRA/03-1-Option-SageMaker-Training.ipynb"
   ]
  },
  {
   "cell_type": "markdown",
   "id": "637a68cd-94d6-4d61-b508-448e12dd1533",
   "metadata": {},
   "source": [
    "## 1. 환경 구성\n",
    "01-naver-news-fsdp-QLoRA/03-SageMaker-Training.ipynb 노트북에서 model_s3_path 에 저장한 경로를 가져 옵니다."
   ]
  },
  {
   "cell_type": "code",
   "execution_count": 1,
   "id": "3cac029e-5fcd-4b99-a6dd-fa8a8bd41cdf",
   "metadata": {
    "tags": []
   },
   "outputs": [
    {
     "name": "stdout",
     "output_type": "stream",
     "text": [
      "python path: /home/ec2-user/SageMaker/aws-ai-ml-workshop-kr/genai/aws-gen-ai-kr/30_fine_tune/03-fine-tune-llama3 is added\n",
      "sys.path:  ['/home/ec2-user/SageMaker/aws-ai-ml-workshop-kr/genai/aws-gen-ai-kr/30_fine_tune/03-fine-tune-llama3/notebook/01-naver-news-fsdp-QLoRA', '/home/ec2-user/SageMaker/.cs/conda/envs/llama3_puy310/lib/python310.zip', '/home/ec2-user/SageMaker/.cs/conda/envs/llama3_puy310/lib/python3.10', '/home/ec2-user/SageMaker/.cs/conda/envs/llama3_puy310/lib/python3.10/lib-dynload', '', '/home/ec2-user/SageMaker/.cs/conda/envs/llama3_puy310/lib/python3.10/site-packages', '/home/ec2-user/SageMaker/huggingface-inferentia2-samples/llama3-70b/llmperf/src', '/home/ec2-user/SageMaker/aws-ai-ml-workshop-kr/genai/aws-gen-ai-kr/30_fine_tune/03-fine-tune-llama3']\n"
     ]
    }
   ],
   "source": [
    "%load_ext autoreload\n",
    "%autoreload 2\n",
    "\n",
    "import sys, os\n",
    "\n",
    "def add_python_path(module_path):\n",
    "    if os.path.abspath(module_path) not in sys.path:\n",
    "        sys.path.append(os.path.abspath(module_path))\n",
    "        print(f\"python path: {os.path.abspath(module_path)} is added\")\n",
    "    else:\n",
    "        print(f\"python path: {os.path.abspath(module_path)} already exists\")\n",
    "    print(\"sys.path: \", sys.path)\n",
    "\n",
    "module_path = \"../..\"\n",
    "add_python_path(module_path)"
   ]
  },
  {
   "cell_type": "code",
   "execution_count": 2,
   "id": "24bce431",
   "metadata": {
    "tags": []
   },
   "outputs": [
    {
     "name": "stdout",
     "output_type": "stream",
     "text": [
      "full_test_data_json:  ../data/naver-news-summarization-ko/full_test/test_dataset.json\n"
     ]
    }
   ],
   "source": [
    "%store -r full_test_data_json\n",
    "print(\"full_test_data_json: \", full_test_data_json)"
   ]
  },
  {
   "cell_type": "markdown",
   "id": "a78e49cc-ccc1-4c9a-8324-ff8d49254d79",
   "metadata": {},
   "source": [
    "## 2. 모델 아티펙트 다운로드 \n",
    "이전에 훈련한 파인 튜닝 모델의 모델 아티펙트를 다운로드 합니다.\n",
    "- 모델 다운로드는 아래 경로 입니다. 사용하시는 환경이 다르면 수정 하세요.\n",
    "    - ```model_data_dir = \"/home/ec2-user/SageMaker/models/llama-3-8b-naver-news-s3-download\" ```\n"
   ]
  },
  {
   "cell_type": "markdown",
   "id": "4e68b845-b99f-497a-8380-a8f16801879c",
   "metadata": {},
   "source": [
    "#### Quick Version Model"
   ]
  },
  {
   "cell_type": "code",
   "execution_count": 3,
   "id": "1a004c61-fc39-4d2c-bf57-2070ed3ce098",
   "metadata": {
    "tags": []
   },
   "outputs": [
    {
     "name": "stdout",
     "output_type": "stream",
     "text": [
      "quick_model_data_dir:  /home/ec2-user/SageMaker/models/llama-3-8b-naver-news-s3-quick\n"
     ]
    }
   ],
   "source": [
    "import os\n",
    "\n",
    "quick_model_data_dir = \"/home/ec2-user/SageMaker/models/llama-3-8b-naver-news-s3-quick\"\n",
    "os.makedirs(quick_model_data_dir, exist_ok=True)\n",
    "print(\"quick_model_data_dir: \", quick_model_data_dir)"
   ]
  },
  {
   "cell_type": "code",
   "execution_count": 4,
   "id": "5b1665f8-8b9f-4035-8c92-3044f57d832a",
   "metadata": {
    "tags": []
   },
   "outputs": [
    {
     "name": "stdout",
     "output_type": "stream",
     "text": [
      "model_s3_path:  {'S3DataSource': {'S3Uri': 's3://sagemaker-us-east-1-057716757052/llama3-8b-naver-news-2024-08-26-00-52-1-2024-08-26-00-52-15-324/output/model/', 'S3DataType': 'S3Prefix', 'CompressionType': 'None'}}\n",
      "quick_model_artifact_path:  s3://sagemaker-us-east-1-057716757052/llama3-8b-naver-news-2024-08-26-00-52-1-2024-08-26-00-52-15-324/output/model/\n"
     ]
    }
   ],
   "source": [
    "%store -r model_s3_path\n",
    "print(\"model_s3_path: \", model_s3_path)\n",
    "\n",
    "quick_model_artifact_path = model_s3_path[\"S3DataSource\"][\"S3Uri\"]\n",
    "print(\"quick_model_artifact_path: \", quick_model_artifact_path)"
   ]
  },
  {
   "cell_type": "code",
   "execution_count": 5,
   "id": "a854a2f3-684f-4205-8ab9-601385fe392b",
   "metadata": {
    "tags": []
   },
   "outputs": [
    {
     "name": "stdout",
     "output_type": "stream",
     "text": [
      "s3://sagemaker-us-east-1-057716757052/llama3-8b-naver-news-2024-08-26-00-52-1-2024-08-26-00-52-15-324/output/model/\n",
      "/home/ec2-user/SageMaker/models/llama-3-8b-naver-news-s3-quick\n",
      "download: s3://sagemaker-us-east-1-057716757052/llama3-8b-naver-news-2024-08-26-00-52-1-2024-08-26-00-52-15-324/output/model/generation_config.json to ../../../../../../../models/llama-3-8b-naver-news-s3-quick/generation_config.json\n",
      "download: s3://sagemaker-us-east-1-057716757052/llama3-8b-naver-news-2024-08-26-00-52-1-2024-08-26-00-52-15-324/output/model/config.json to ../../../../../../../models/llama-3-8b-naver-news-s3-quick/config.json\n",
      "download: s3://sagemaker-us-east-1-057716757052/llama3-8b-naver-news-2024-08-26-00-52-1-2024-08-26-00-52-15-324/output/model/model-00002-of-00007.safetensors to ../../../../../../../models/llama-3-8b-naver-news-s3-quick/model-00002-of-00007.safetensors\n",
      "download: s3://sagemaker-us-east-1-057716757052/llama3-8b-naver-news-2024-08-26-00-52-1-2024-08-26-00-52-15-324/output/model/model-00005-of-00007.safetensors to ../../../../../../../models/llama-3-8b-naver-news-s3-quick/model-00005-of-00007.safetensors\n",
      "download: s3://sagemaker-us-east-1-057716757052/llama3-8b-naver-news-2024-08-26-00-52-1-2024-08-26-00-52-15-324/output/model/model.safetensors.index.json to ../../../../../../../models/llama-3-8b-naver-news-s3-quick/model.safetensors.index.json\n",
      "download: s3://sagemaker-us-east-1-057716757052/llama3-8b-naver-news-2024-08-26-00-52-1-2024-08-26-00-52-15-324/output/model/model-00001-of-00007.safetensors to ../../../../../../../models/llama-3-8b-naver-news-s3-quick/model-00001-of-00007.safetensors\n",
      "download: s3://sagemaker-us-east-1-057716757052/llama3-8b-naver-news-2024-08-26-00-52-1-2024-08-26-00-52-15-324/output/model/special_tokens_map.json to ../../../../../../../models/llama-3-8b-naver-news-s3-quick/special_tokens_map.json\n",
      "download: s3://sagemaker-us-east-1-057716757052/llama3-8b-naver-news-2024-08-26-00-52-1-2024-08-26-00-52-15-324/output/model/tokenizer_config.json to ../../../../../../../models/llama-3-8b-naver-news-s3-quick/tokenizer_config.json\n",
      "download: s3://sagemaker-us-east-1-057716757052/llama3-8b-naver-news-2024-08-26-00-52-1-2024-08-26-00-52-15-324/output/model/tokenizer.json to ../../../../../../../models/llama-3-8b-naver-news-s3-quick/tokenizer.json\n",
      "download: s3://sagemaker-us-east-1-057716757052/llama3-8b-naver-news-2024-08-26-00-52-1-2024-08-26-00-52-15-324/output/model/model-00004-of-00007.safetensors to ../../../../../../../models/llama-3-8b-naver-news-s3-quick/model-00004-of-00007.safetensors\n",
      "download: s3://sagemaker-us-east-1-057716757052/llama3-8b-naver-news-2024-08-26-00-52-1-2024-08-26-00-52-15-324/output/model/model-00003-of-00007.safetensors to ../../../../../../../models/llama-3-8b-naver-news-s3-quick/model-00003-of-00007.safetensors\n",
      "download: s3://sagemaker-us-east-1-057716757052/llama3-8b-naver-news-2024-08-26-00-52-1-2024-08-26-00-52-15-324/output/model/model-00007-of-00007.safetensors to ../../../../../../../models/llama-3-8b-naver-news-s3-quick/model-00007-of-00007.safetensors\n",
      "download: s3://sagemaker-us-east-1-057716757052/llama3-8b-naver-news-2024-08-26-00-52-1-2024-08-26-00-52-15-324/output/model/model-00006-of-00007.safetensors to ../../../../../../../models/llama-3-8b-naver-news-s3-quick/model-00006-of-00007.safetensors\n",
      "total 31377256\n",
      "drwxrwxr-x 2 ec2-user ec2-user       4096 Aug 26 12:13 .\n",
      "drwxrwxr-x 9 ec2-user ec2-user       4096 Aug 25 10:48 ..\n",
      "-rw-rw-r-- 1 ec2-user ec2-user        697 Aug 26 01:09 config.json\n",
      "-rw-rw-r-- 1 ec2-user ec2-user        172 Aug 26 01:09 generation_config.json\n",
      "-rw-rw-r-- 1 ec2-user ec2-user 4886466168 Aug 26 01:08 model-00001-of-00007.safetensors\n",
      "-rw-rw-r-- 1 ec2-user ec2-user 4832007448 Aug 26 01:09 model-00002-of-00007.safetensors\n",
      "-rw-rw-r-- 1 ec2-user ec2-user 4999813112 Aug 26 01:09 model-00003-of-00007.safetensors\n",
      "-rw-rw-r-- 1 ec2-user ec2-user 4999813128 Aug 26 01:08 model-00004-of-00007.safetensors\n",
      "-rw-rw-r-- 1 ec2-user ec2-user 4832007496 Aug 26 01:08 model-00005-of-00007.safetensors\n",
      "-rw-rw-r-- 1 ec2-user ec2-user 4999813120 Aug 26 01:09 model-00006-of-00007.safetensors\n",
      "-rw-rw-r-- 1 ec2-user ec2-user 2571158184 Aug 26 01:09 model-00007-of-00007.safetensors\n",
      "-rw-rw-r-- 1 ec2-user ec2-user      23950 Aug 26 01:09 model.safetensors.index.json\n",
      "-rw-rw-r-- 1 ec2-user ec2-user        335 Aug 26 01:09 special_tokens_map.json\n",
      "-rw-rw-r-- 1 ec2-user ec2-user      50988 Aug 26 01:09 tokenizer_config.json\n",
      "-rw-rw-r-- 1 ec2-user ec2-user    9085698 Aug 26 01:09 tokenizer.json\n"
     ]
    }
   ],
   "source": [
    "%%sh -s {quick_model_artifact_path} {quick_model_data_dir}\n",
    "\n",
    "artifact_path=$1\n",
    "model_data_dir=$2\n",
    "\n",
    "echo $artifact_path\n",
    "echo $model_data_dir\n",
    "\n",
    "# 기존 데이터 삭제\n",
    "rm -rf $model_data_dir/*\n",
    "\n",
    "# 모델을 S3에서 로컬로 다운로드\n",
    "aws s3 cp $artifact_path $model_data_dir --recursive\n",
    "\n",
    "ls -al $model_data_dir\n",
    "\n"
   ]
  },
  {
   "cell_type": "markdown",
   "id": "31b7198e-88b6-4e2f-af0a-9d2a9f0812da",
   "metadata": {},
   "source": [
    "### Optimized Version Model"
   ]
  },
  {
   "cell_type": "code",
   "execution_count": 6,
   "id": "014208f2-5372-482e-9b66-001fe63042f7",
   "metadata": {
    "tags": []
   },
   "outputs": [
    {
     "name": "stdout",
     "output_type": "stream",
     "text": [
      "optimize_model_data_dir:  /home/ec2-user/SageMaker/models/llama-3-8b-naver-news-s3-optimize\n"
     ]
    }
   ],
   "source": [
    "optimize_model_data_dir = \"/home/ec2-user/SageMaker/models/llama-3-8b-naver-news-s3-optimize\"\n",
    "os.makedirs(optimize_model_data_dir, exist_ok=True)\n",
    "print(\"optimize_model_data_dir: \", optimize_model_data_dir)"
   ]
  },
  {
   "cell_type": "code",
   "execution_count": 7,
   "id": "b3b8e091-454d-4c0b-9c29-7d7c9bee5654",
   "metadata": {
    "tags": []
   },
   "outputs": [
    {
     "name": "stdout",
     "output_type": "stream",
     "text": [
      "optimized_model_s3_path:  {'S3DataSource': {'S3Uri': 's3://sagemaker-us-east-1-057716757052/llama3-8b-naver-news-2024-08-26-02-52-1-2024-08-26-02-52-15-547/output/model/', 'S3DataType': 'S3Prefix', 'CompressionType': 'None'}}\n",
      "optimize_model_artifact_path:  s3://sagemaker-us-east-1-057716757052/llama3-8b-naver-news-2024-08-26-02-52-1-2024-08-26-02-52-15-547/output/model/\n"
     ]
    }
   ],
   "source": [
    "%store -r optimized_model_s3_path\n",
    "print(\"optimized_model_s3_path: \", optimized_model_s3_path)\n",
    "\n",
    "optimize_model_artifact_path = optimized_model_s3_path[\"S3DataSource\"][\"S3Uri\"]\n",
    "print(\"optimize_model_artifact_path: \", optimize_model_artifact_path)"
   ]
  },
  {
   "cell_type": "code",
   "execution_count": 8,
   "id": "9d0dd108-5d41-4b84-846a-5d2a72129e8b",
   "metadata": {
    "tags": []
   },
   "outputs": [
    {
     "name": "stdout",
     "output_type": "stream",
     "text": [
      "s3://sagemaker-us-east-1-057716757052/llama3-8b-naver-news-2024-08-26-02-52-1-2024-08-26-02-52-15-547/output/model/\n",
      "/home/ec2-user/SageMaker/models/llama-3-8b-naver-news-s3-optimize\n",
      "download: s3://sagemaker-us-east-1-057716757052/llama3-8b-naver-news-2024-08-26-02-52-1-2024-08-26-02-52-15-547/output/model/config.json to ../../../../../../../models/llama-3-8b-naver-news-s3-optimize/config.json\n",
      "download: s3://sagemaker-us-east-1-057716757052/llama3-8b-naver-news-2024-08-26-02-52-1-2024-08-26-02-52-15-547/output/model/generation_config.json to ../../../../../../../models/llama-3-8b-naver-news-s3-optimize/generation_config.json\n",
      "download: s3://sagemaker-us-east-1-057716757052/llama3-8b-naver-news-2024-08-26-02-52-1-2024-08-26-02-52-15-547/output/model/model-00002-of-00007.safetensors to ../../../../../../../models/llama-3-8b-naver-news-s3-optimize/model-00002-of-00007.safetensors\n",
      "download: s3://sagemaker-us-east-1-057716757052/llama3-8b-naver-news-2024-08-26-02-52-1-2024-08-26-02-52-15-547/output/model/model-00005-of-00007.safetensors to ../../../../../../../models/llama-3-8b-naver-news-s3-optimize/model-00005-of-00007.safetensors\n",
      "download: s3://sagemaker-us-east-1-057716757052/llama3-8b-naver-news-2024-08-26-02-52-1-2024-08-26-02-52-15-547/output/model/model-00001-of-00007.safetensors to ../../../../../../../models/llama-3-8b-naver-news-s3-optimize/model-00001-of-00007.safetensors\n",
      "download: s3://sagemaker-us-east-1-057716757052/llama3-8b-naver-news-2024-08-26-02-52-1-2024-08-26-02-52-15-547/output/model/model.safetensors.index.json to ../../../../../../../models/llama-3-8b-naver-news-s3-optimize/model.safetensors.index.json\n",
      "download: s3://sagemaker-us-east-1-057716757052/llama3-8b-naver-news-2024-08-26-02-52-1-2024-08-26-02-52-15-547/output/model/special_tokens_map.json to ../../../../../../../models/llama-3-8b-naver-news-s3-optimize/special_tokens_map.json\n",
      "download: s3://sagemaker-us-east-1-057716757052/llama3-8b-naver-news-2024-08-26-02-52-1-2024-08-26-02-52-15-547/output/model/tokenizer.json to ../../../../../../../models/llama-3-8b-naver-news-s3-optimize/tokenizer.json\n",
      "download: s3://sagemaker-us-east-1-057716757052/llama3-8b-naver-news-2024-08-26-02-52-1-2024-08-26-02-52-15-547/output/model/tokenizer_config.json to ../../../../../../../models/llama-3-8b-naver-news-s3-optimize/tokenizer_config.json\n",
      "download: s3://sagemaker-us-east-1-057716757052/llama3-8b-naver-news-2024-08-26-02-52-1-2024-08-26-02-52-15-547/output/model/model-00003-of-00007.safetensors to ../../../../../../../models/llama-3-8b-naver-news-s3-optimize/model-00003-of-00007.safetensors\n",
      "download: s3://sagemaker-us-east-1-057716757052/llama3-8b-naver-news-2024-08-26-02-52-1-2024-08-26-02-52-15-547/output/model/model-00004-of-00007.safetensors to ../../../../../../../models/llama-3-8b-naver-news-s3-optimize/model-00004-of-00007.safetensors\n",
      "download: s3://sagemaker-us-east-1-057716757052/llama3-8b-naver-news-2024-08-26-02-52-1-2024-08-26-02-52-15-547/output/model/model-00007-of-00007.safetensors to ../../../../../../../models/llama-3-8b-naver-news-s3-optimize/model-00007-of-00007.safetensors\n",
      "download: s3://sagemaker-us-east-1-057716757052/llama3-8b-naver-news-2024-08-26-02-52-1-2024-08-26-02-52-15-547/output/model/model-00006-of-00007.safetensors to ../../../../../../../models/llama-3-8b-naver-news-s3-optimize/model-00006-of-00007.safetensors\n",
      "total 31377256\n",
      "drwxrwxr-x 2 ec2-user ec2-user       4096 Aug 26 12:16 .\n",
      "drwxrwxr-x 9 ec2-user ec2-user       4096 Aug 25 10:48 ..\n",
      "-rw-rw-r-- 1 ec2-user ec2-user        697 Aug 26 04:04 config.json\n",
      "-rw-rw-r-- 1 ec2-user ec2-user        172 Aug 26 04:04 generation_config.json\n",
      "-rw-rw-r-- 1 ec2-user ec2-user 4886466168 Aug 26 04:03 model-00001-of-00007.safetensors\n",
      "-rw-rw-r-- 1 ec2-user ec2-user 4832007448 Aug 26 04:04 model-00002-of-00007.safetensors\n",
      "-rw-rw-r-- 1 ec2-user ec2-user 4999813112 Aug 26 04:04 model-00003-of-00007.safetensors\n",
      "-rw-rw-r-- 1 ec2-user ec2-user 4999813128 Aug 26 04:04 model-00004-of-00007.safetensors\n",
      "-rw-rw-r-- 1 ec2-user ec2-user 4832007496 Aug 26 04:04 model-00005-of-00007.safetensors\n",
      "-rw-rw-r-- 1 ec2-user ec2-user 4999813120 Aug 26 04:04 model-00006-of-00007.safetensors\n",
      "-rw-rw-r-- 1 ec2-user ec2-user 2571158184 Aug 26 04:04 model-00007-of-00007.safetensors\n",
      "-rw-rw-r-- 1 ec2-user ec2-user      23950 Aug 26 04:04 model.safetensors.index.json\n",
      "-rw-rw-r-- 1 ec2-user ec2-user        335 Aug 26 04:04 special_tokens_map.json\n",
      "-rw-rw-r-- 1 ec2-user ec2-user      50988 Aug 26 04:04 tokenizer_config.json\n",
      "-rw-rw-r-- 1 ec2-user ec2-user    9085698 Aug 26 04:04 tokenizer.json\n"
     ]
    }
   ],
   "source": [
    "%%sh -s {optimize_model_artifact_path} {optimize_model_data_dir}\n",
    "\n",
    "artifact_path=$1\n",
    "model_data_dir=$2\n",
    "\n",
    "echo $artifact_path\n",
    "echo $model_data_dir\n",
    "\n",
    "# 기존 데이터 삭제\n",
    "rm -rf $model_data_dir/*\n",
    "\n",
    "# 모델을 S3에서 로컬로 다운로드\n",
    "aws s3 cp $artifact_path $model_data_dir --recursive\n",
    "\n",
    "ls -al $model_data_dir\n",
    "\n"
   ]
  },
  {
   "cell_type": "markdown",
   "id": "d2812cf2-0eaf-4423-beba-c607aec5c6d2",
   "metadata": {},
   "source": [
    "## 3. 모델 로딩"
   ]
  },
  {
   "cell_type": "markdown",
   "id": "8f2ca330-01c9-4524-b915-6ba90dfc7e0d",
   "metadata": {},
   "source": [
    "### Quick Model"
   ]
  },
  {
   "cell_type": "code",
   "execution_count": 9,
   "id": "16a6cd36-e8f8-4af6-b4db-74a38b16cdb9",
   "metadata": {
    "tags": []
   },
   "outputs": [
    {
     "name": "stderr",
     "output_type": "stream",
     "text": [
      "/home/ec2-user/SageMaker/.cs/conda/envs/llama3_puy310/lib/python3.10/site-packages/transformers/utils/hub.py:124: FutureWarning: Using `TRANSFORMERS_CACHE` is deprecated and will be removed in v5 of Transformers. Use `HF_HOME` instead.\n",
      "  warnings.warn(\n"
     ]
    },
    {
     "data": {
      "application/vnd.jupyter.widget-view+json": {
       "model_id": "27129c3bff9d466c99463e348706b8f8",
       "version_major": 2,
       "version_minor": 0
      },
      "text/plain": [
       "Loading checkpoint shards:   0%|          | 0/7 [00:00<?, ?it/s]"
      ]
     },
     "metadata": {},
     "output_type": "display_data"
    },
    {
     "name": "stderr",
     "output_type": "stream",
     "text": [
      "Special tokens have been added in the vocabulary, make sure the associated word embeddings are fine-tuned or trained.\n"
     ]
    }
   ],
   "source": [
    "from scripts.eval import load_model_and_tokenizer\n",
    "\n",
    "# 모델 경로 설정\n",
    "def load_model(model_dir):\n",
    "    model_path = model_dir\n",
    "    # 모델과 토크나이저 로드\n",
    "    model, tokenizer = load_model_and_tokenizer(model_path)\n",
    "    \n",
    "    return model, tokenizer\n",
    "\n",
    "quick_model, tokenizer = load_model(quick_model_data_dir)    "
   ]
  },
  {
   "cell_type": "markdown",
   "id": "a43a8561-688e-4043-b03d-2894d24f5c47",
   "metadata": {},
   "source": [
    "### Optimized Model"
   ]
  },
  {
   "cell_type": "code",
   "execution_count": 10,
   "id": "12988045-c413-4e41-9fb8-4170577c247c",
   "metadata": {
    "tags": []
   },
   "outputs": [
    {
     "data": {
      "application/vnd.jupyter.widget-view+json": {
       "model_id": "cdcbf75141914182ab8980d63b6e23b8",
       "version_major": 2,
       "version_minor": 0
      },
      "text/plain": [
       "Loading checkpoint shards:   0%|          | 0/7 [00:00<?, ?it/s]"
      ]
     },
     "metadata": {},
     "output_type": "display_data"
    },
    {
     "name": "stderr",
     "output_type": "stream",
     "text": [
      "Special tokens have been added in the vocabulary, make sure the associated word embeddings are fine-tuned or trained.\n"
     ]
    }
   ],
   "source": [
    "optimized_model, tokenizer = load_model(optimize_model_data_dir)    "
   ]
  },
  {
   "cell_type": "markdown",
   "id": "6908046b",
   "metadata": {},
   "source": [
    "## 4. 추론 테스트 및 평가"
   ]
  },
  {
   "cell_type": "markdown",
   "id": "a5388b34",
   "metadata": {},
   "source": [
    "### 테스트 데이터 셋 로딩"
   ]
  },
  {
   "cell_type": "code",
   "execution_count": 11,
   "id": "9eacd377",
   "metadata": {
    "tags": []
   },
   "outputs": [
    {
     "name": "stdout",
     "output_type": "stream",
     "text": [
      "lenght of full test dataset:  2740\n",
      "messages: \n",
      " [{'content': 'You are an AI assistant specialized in news articles.Your role is to provide accurate summaries and insights in Korean. Please analyze the given text and provide concise, informative summaries that highlight the key goals and findings.', 'role': 'system'}, {'content': 'Please summarize the goals for journalist in this text:\\n\\n현대자동차 노조가 끝내 파업 절차를 밟기로 뜻을 모았다. 현대차 노조는 1일 전체 조합원 4만6 568명 중 4만958명이 참석한 가운데 2022년 단체협상 결렬에 따른 쟁의행위 찬반투표를 한 결과 3만3 436명 재적 대비 71.8% 이 찬성했다고 밝혔다. 7 435명 재적 대비 15.97% 은 반대표를 던졌다. 오는 4일 중노위로부터 조정중지 결정이 나오면 노조는 합법적으로 파업 등을 할 수 있는 쟁의권을 확보하게 된다. 노조가 파업을 하게 되면 지난 2018년 이후 4년 만이다. 앞서 현대차 노사는 지난 5월 10일 상견례를 시작으로 모두 12차례 교섭을 했지만 이견차를 좁히지 못하고 지난달 22일 교섭 결렬을 선언했다. 현대차 노조는 기본급 16만5 200원 인상 호봉승급분 제외 신규인원 충원과 정년연장 성과급 전년도 순이익의 30% 지급 미래차 공장 국내 신설을 요구했다.', 'role': 'user'}]\n"
     ]
    }
   ],
   "source": [
    "from scripts.eval import get_message_from_dataset, generate_response\n",
    "\n",
    "article_num =6\n",
    "messages, full_test_dataset = get_message_from_dataset(sample_dataset_json_file = full_test_data_json, \n",
    "                                                       article_num=article_num)    "
   ]
  },
  {
   "cell_type": "code",
   "execution_count": 12,
   "id": "f956f850-c065-407d-8c97-cf4832731563",
   "metadata": {
    "tags": []
   },
   "outputs": [],
   "source": [
    "# messages, full_test_dataset = get_message_from_dataset(sample_dataset_json_file = full_test_data_json, article_num=175)    "
   ]
  },
  {
   "cell_type": "markdown",
   "id": "ba15b47b",
   "metadata": {},
   "source": [
    "### 추론: Quick Model"
   ]
  },
  {
   "cell_type": "code",
   "execution_count": 13,
   "id": "ddaf71a0",
   "metadata": {
    "tags": []
   },
   "outputs": [
    {
     "name": "stderr",
     "output_type": "stream",
     "text": [
      "The attention mask and the pad token id were not set. As a consequence, you may observe unexpected behavior. Please pass your input's `attention_mask` to obtain reliable results.\n",
      "Setting `pad_token_id` to `eos_token_id`:128001 for open-end generation.\n"
     ]
    },
    {
     "name": "stdout",
     "output_type": "stream",
     "text": [
      "**Query:**\n",
      "Please summarize the goals for journalist in this text:\n",
      "\n",
      "현대자동차 노조가 끝내 파업 절차를 밟기로 뜻을 모았다. 현대차 노조는 1일 전체 조합원 4만6 568명 중 4만958명이 참석한 가운데 2022년 단체협상 결렬에 따른 쟁의행위 찬반투표를 한 결과 3만3 436명 재적 대비 71.8% 이 찬성했다고 밝혔다. 7 435명 재적 대비 15.97% 은 반대표를 던졌다. 오는 4일 중노위로부터 조정중지 결정이 나오면 노조는 합법적으로 파업 등을 할 수 있는 쟁의권을 확보하게 된다. 노조가 파업을 하게 되면 지난 2018년 이후 4년 만이다. 앞서 현대차 노사는 지난 5월 10일 상견례를 시작으로 모두 12차례 교섭을 했지만 이견차를 좁히지 못하고 지난달 22일 교섭 결렬을 선언했다. 현대차 노조는 기본급 16만5 200원 인상 호봉승급분 제외 신규인원 충원과 정년연장 성과급 전년도 순이익의 30% 지급 미래차 공장 국내 신설을 요구했다.\n",
      "\n",
      "**Original Answer:**\n",
      "현대차 노조는 2022년 단체협상 결렬에 따른 쟁의행위 찬반투표 결과 71.8%가 찬성하여 4년만에 파업절차에 들어가 합법적으로 파업 등을 할 수 있는 쟁의권을 확보하게 되었으며 오는 4일 중노위로부터 조정중지 결정이 나오면 노조는 합법적으로 파업 등을 할 수 있는 쟁의권을 확보하게 된다.\n",
      "\n",
      "**Generated Answer:**\n",
      "1. 현대자동차 노조가 파업 절차를 밟기로 뜻을 모았다. 현대차 노조는 1일 전체 조합원 4만6 568명 중 4만958명이 참석한 가운데 2022년 단체협상 결렬에 따른 쟁의행위 찬반투표를 한 결과 3만3 436명 재적 대비 71.8% 이 찬성했다고 밝혔다. 7 435명 재적 대비 15.97% 은 반대표를 던졌다. 오는 4일 중노위로부터 조정중지 결정이 나오면 노조는 합법적으로 파업 등을 할 수 있는 쟁의권을 확보하게 된다. 노조가 파업을 하게 되면 지난 2018년 이후 4년 만이다. 앞서 현대차 노사는 지난 5월 10일 상견례를 시작으로 모두 12차례 교섭을 했지만 이견차를 좁히지 못하고 지난달 22일 교섭 결렬을 선언했다. 현대차 노조는 기본급 16만5 200원 인상 호봉승\n",
      "CPU times: user 12.7 s, sys: 162 ms, total: 12.8 s\n",
      "Wall time: 12.8 s\n"
     ]
    }
   ],
   "source": [
    "%%time\n",
    "generated_summary, original_summary = generate_response(messages, quick_model, tokenizer, full_test_dataset, \n",
    "                                                        max_new_tokens=256, article_num=article_num)\n",
    "\n"
   ]
  },
  {
   "cell_type": "markdown",
   "id": "77e5f5b7-994c-4ad1-939f-dfee1df0ae2e",
   "metadata": {},
   "source": [
    "### 평가하기: Quick Model"
   ]
  },
  {
   "cell_type": "code",
   "execution_count": 14,
   "id": "1e9e9f5a-ab2b-4a61-bae9-d4ffe1d5a408",
   "metadata": {
    "tags": []
   },
   "outputs": [
    {
     "name": "stdout",
     "output_type": "stream",
     "text": [
      "{\n",
      "  \"rouge_scores\": {\n",
      "    \"rouge-1\": 0.403,\n",
      "    \"rouge-2\": 0.317,\n",
      "    \"rouge-l\": 0.403\n",
      "  },\n",
      "  \"bert_score\": {\n",
      "    \"precision\": 0.711,\n",
      "    \"recall\": 0.855,\n",
      "    \"f1\": 0.776\n",
      "  },\n",
      "  \"overall_ro-1-2-l_bert_score\": 0.475\n",
      "}\n"
     ]
    },
    {
     "data": {
      "text/plain": [
       "{'rouge_scores': {'rouge-1': 0.403, 'rouge-2': 0.317, 'rouge-l': 0.403},\n",
       " 'bert_score': {'precision': 0.711, 'recall': 0.855, 'f1': 0.776},\n",
       " 'overall_ro-1-2-l_bert_score': 0.475}"
      ]
     },
     "execution_count": 14,
     "metadata": {},
     "output_type": "execute_result"
    }
   ],
   "source": [
    "from scripts.eval import single_evaluate\n",
    "\n",
    "single_evaluate(generated_summary, original_summary)        "
   ]
  },
  {
   "cell_type": "markdown",
   "id": "2f4520e1-04c5-4d6d-9e9d-6204dfa81b20",
   "metadata": {},
   "source": [
    "### 추론: Optimized Model"
   ]
  },
  {
   "cell_type": "code",
   "execution_count": 15,
   "id": "fd5abc90-8f1d-4cd2-a5e4-78547a3d503a",
   "metadata": {
    "tags": []
   },
   "outputs": [
    {
     "name": "stderr",
     "output_type": "stream",
     "text": [
      "The attention mask and the pad token id were not set. As a consequence, you may observe unexpected behavior. Please pass your input's `attention_mask` to obtain reliable results.\n",
      "Setting `pad_token_id` to `eos_token_id`:128001 for open-end generation.\n"
     ]
    },
    {
     "name": "stdout",
     "output_type": "stream",
     "text": [
      "**Query:**\n",
      "Please summarize the goals for journalist in this text:\n",
      "\n",
      "현대자동차 노조가 끝내 파업 절차를 밟기로 뜻을 모았다. 현대차 노조는 1일 전체 조합원 4만6 568명 중 4만958명이 참석한 가운데 2022년 단체협상 결렬에 따른 쟁의행위 찬반투표를 한 결과 3만3 436명 재적 대비 71.8% 이 찬성했다고 밝혔다. 7 435명 재적 대비 15.97% 은 반대표를 던졌다. 오는 4일 중노위로부터 조정중지 결정이 나오면 노조는 합법적으로 파업 등을 할 수 있는 쟁의권을 확보하게 된다. 노조가 파업을 하게 되면 지난 2018년 이후 4년 만이다. 앞서 현대차 노사는 지난 5월 10일 상견례를 시작으로 모두 12차례 교섭을 했지만 이견차를 좁히지 못하고 지난달 22일 교섭 결렬을 선언했다. 현대차 노조는 기본급 16만5 200원 인상 호봉승급분 제외 신규인원 충원과 정년연장 성과급 전년도 순이익의 30% 지급 미래차 공장 국내 신설을 요구했다.\n",
      "\n",
      "**Original Answer:**\n",
      "현대차 노조는 2022년 단체협상 결렬에 따른 쟁의행위 찬반투표 결과 71.8%가 찬성하여 4년만에 파업절차에 들어가 합법적으로 파업 등을 할 수 있는 쟁의권을 확보하게 되었으며 오는 4일 중노위로부터 조정중지 결정이 나오면 노조는 합법적으로 파업 등을 할 수 있는 쟁의권을 확보하게 된다.\n",
      "\n",
      "**Generated Answer:**\n",
      "1일 현대차 노조는 1일 전체 조합원 4만6 568명 중 4만958명이 참석한 가운데 2022년 단체협상 결렬에 따른 쟁의행위 찬반투표를 한 결과 3만3 436명 재적 대비 71.8% 이 찬성했다고 밝혔으며 7 435명 재적 대비 15.97% 은 반대표를 던졌고 4일 중노위로부터 조정중지 결정이 나오면 노조는 합법적으로 파업 등을 할 수 있는 쟁의권을 확보하게 된다.\n",
      "CPU times: user 6.7 s, sys: 0 ns, total: 6.7 s\n",
      "Wall time: 6.69 s\n"
     ]
    }
   ],
   "source": [
    "%%time\n",
    "generated_summary, original_summary = generate_response(messages, optimized_model, tokenizer, full_test_dataset, \n",
    "                                                        max_new_tokens=256, article_num=article_num)\n",
    "\n"
   ]
  },
  {
   "cell_type": "markdown",
   "id": "e2a74cf6-bd6d-4fea-8d31-576cab2a94a2",
   "metadata": {},
   "source": [
    "### 평가하기: Optimized Model"
   ]
  },
  {
   "cell_type": "code",
   "execution_count": 16,
   "id": "2b25a7c4-2042-4dd5-bd0c-77ea0b089d89",
   "metadata": {
    "tags": []
   },
   "outputs": [
    {
     "name": "stdout",
     "output_type": "stream",
     "text": [
      "{\n",
      "  \"rouge_scores\": {\n",
      "    \"rouge-1\": 0.575,\n",
      "    \"rouge-2\": 0.458,\n",
      "    \"rouge-l\": 0.575\n",
      "  },\n",
      "  \"bert_score\": {\n",
      "    \"precision\": 0.798,\n",
      "    \"recall\": 0.882,\n",
      "    \"f1\": 0.838\n",
      "  },\n",
      "  \"overall_ro-1-2-l_bert_score\": 0.611\n",
      "}\n"
     ]
    },
    {
     "data": {
      "text/plain": [
       "{'rouge_scores': {'rouge-1': 0.575, 'rouge-2': 0.458, 'rouge-l': 0.575},\n",
       " 'bert_score': {'precision': 0.798, 'recall': 0.882, 'f1': 0.838},\n",
       " 'overall_ro-1-2-l_bert_score': 0.611}"
      ]
     },
     "execution_count": 16,
     "metadata": {},
     "output_type": "execute_result"
    }
   ],
   "source": [
    "from scripts.eval import single_evaluate\n",
    "\n",
    "single_evaluate(generated_summary, original_summary)        "
   ]
  },
  {
   "cell_type": "markdown",
   "id": "d838c890-aed3-41f4-aee8-a2cc92ab74e9",
   "metadata": {},
   "source": [
    "## 5. 다량 테스트 셋을 평가하기"
   ]
  },
  {
   "cell_type": "markdown",
   "id": "280807f8-a1bc-468d-b4e7-b6ee2cf5212d",
   "metadata": {},
   "source": [
    "### Quick Model"
   ]
  },
  {
   "cell_type": "code",
   "execution_count": 17,
   "id": "9dd3e8de-39f1-46e9-ac26-599e6cd22736",
   "metadata": {
    "tags": []
   },
   "outputs": [
    {
     "name": "stderr",
     "output_type": "stream",
     "text": [
      "The attention mask and the pad token id were not set. As a consequence, you may observe unexpected behavior. Please pass your input's `attention_mask` to obtain reliable results.\n",
      "Setting `pad_token_id` to `eos_token_id`:128001 for open-end generation.\n"
     ]
    },
    {
     "name": "stdout",
     "output_type": "stream",
     "text": [
      "output_directory: eval_result/2024-08-26-12-17-53\n",
      "lenght of full test dataset:  2740\n"
     ]
    },
    {
     "name": "stderr",
     "output_type": "stream",
     "text": [
      "The attention mask and the pad token id were not set. As a consequence, you may observe unexpected behavior. Please pass your input's `attention_mask` to obtain reliable results.\n",
      "Setting `pad_token_id` to `eos_token_id`:128001 for open-end generation.\n",
      "The attention mask and the pad token id were not set. As a consequence, you may observe unexpected behavior. Please pass your input's `attention_mask` to obtain reliable results.\n",
      "Setting `pad_token_id` to `eos_token_id`:128001 for open-end generation.\n",
      "The attention mask and the pad token id were not set. As a consequence, you may observe unexpected behavior. Please pass your input's `attention_mask` to obtain reliable results.\n",
      "Setting `pad_token_id` to `eos_token_id`:128001 for open-end generation.\n",
      "The attention mask and the pad token id were not set. As a consequence, you may observe unexpected behavior. Please pass your input's `attention_mask` to obtain reliable results.\n",
      "Setting `pad_token_id` to `eos_token_id`:128001 for open-end generation.\n",
      "The attention mask and the pad token id were not set. As a consequence, you may observe unexpected behavior. Please pass your input's `attention_mask` to obtain reliable results.\n",
      "Setting `pad_token_id` to `eos_token_id`:128001 for open-end generation.\n",
      "The attention mask and the pad token id were not set. As a consequence, you may observe unexpected behavior. Please pass your input's `attention_mask` to obtain reliable results.\n",
      "Setting `pad_token_id` to `eos_token_id`:128001 for open-end generation.\n",
      "The attention mask and the pad token id were not set. As a consequence, you may observe unexpected behavior. Please pass your input's `attention_mask` to obtain reliable results.\n",
      "Setting `pad_token_id` to `eos_token_id`:128001 for open-end generation.\n",
      "The attention mask and the pad token id were not set. As a consequence, you may observe unexpected behavior. Please pass your input's `attention_mask` to obtain reliable results.\n",
      "Setting `pad_token_id` to `eos_token_id`:128001 for open-end generation.\n",
      "The attention mask and the pad token id were not set. As a consequence, you may observe unexpected behavior. Please pass your input's `attention_mask` to obtain reliable results.\n",
      "Setting `pad_token_id` to `eos_token_id`:128001 for open-end generation.\n"
     ]
    },
    {
     "name": "stdout",
     "output_type": "stream",
     "text": [
      "\n",
      "평가 상세 결과가 eval_result/2024-08-26-12-17-53/quick_model_evaluation_results.csv 파일로 저장되었습니다.\n",
      "JSON 데이터가 'eval_result/2024-08-26-12-17-53/quick_model_summary_results.json' 파일로 저장되었습니다.\n",
      "평균 평가 점수:\n",
      "{\n",
      "  \"rouge_scores\": {\n",
      "    \"rouge-1\": 0.524,\n",
      "    \"rouge-2\": 0.457,\n",
      "    \"rouge-l\": 0.523\n",
      "  },\n",
      "  \"bert_score\": {\n",
      "    \"precision\": 0.758,\n",
      "    \"recall\": 0.828,\n",
      "    \"f1\": 0.79\n",
      "  },\n",
      "  \"overall_ro-1-2-l_bert_score\": 0.574\n",
      "}\n",
      "CPU times: user 2min 2s, sys: 5.35 s, total: 2min 7s\n",
      "Wall time: 1min 56s\n"
     ]
    }
   ],
   "source": [
    "%%time \n",
    "\n",
    "from scripts.eval import SummaryEvaluationSystem\n",
    "\n",
    "evaluator = SummaryEvaluationSystem(result_folder=\"eval_result\")\n",
    "summary_json_file, evaluation_results = evaluator.run_evaluation(\n",
    "                             test_dataset_json=full_test_data_json, \n",
    "                             sample_test_num=10, \n",
    "                             model_name =\"quick_model\",\n",
    "                             model=quick_model, \n",
    "                             tokenizer=tokenizer)"
   ]
  },
  {
   "cell_type": "code",
   "execution_count": 18,
   "id": "07619495-7bf1-42ad-9885-ce3db25cf48b",
   "metadata": {
    "tags": []
   },
   "outputs": [
    {
     "data": {
      "text/html": [
       "<div>\n",
       "<style scoped>\n",
       "    .dataframe tbody tr th:only-of-type {\n",
       "        vertical-align: middle;\n",
       "    }\n",
       "\n",
       "    .dataframe tbody tr th {\n",
       "        vertical-align: top;\n",
       "    }\n",
       "\n",
       "    .dataframe thead th {\n",
       "        text-align: right;\n",
       "    }\n",
       "</style>\n",
       "<table border=\"1\" class=\"dataframe\">\n",
       "  <thead>\n",
       "    <tr style=\"text-align: right;\">\n",
       "      <th></th>\n",
       "      <th>summary_id</th>\n",
       "      <th>rouge-1</th>\n",
       "      <th>rouge-2</th>\n",
       "      <th>rouge-l</th>\n",
       "      <th>bert_precision</th>\n",
       "      <th>bert_recall</th>\n",
       "      <th>bert_f1</th>\n",
       "      <th>overall_score</th>\n",
       "    </tr>\n",
       "  </thead>\n",
       "  <tbody>\n",
       "    <tr>\n",
       "      <th>0</th>\n",
       "      <td>0</td>\n",
       "      <td>0.219</td>\n",
       "      <td>0.109</td>\n",
       "      <td>0.219</td>\n",
       "      <td>0.668</td>\n",
       "      <td>0.744</td>\n",
       "      <td>0.704</td>\n",
       "      <td>0.313</td>\n",
       "    </tr>\n",
       "    <tr>\n",
       "      <th>1</th>\n",
       "      <td>1</td>\n",
       "      <td>0.959</td>\n",
       "      <td>0.959</td>\n",
       "      <td>0.959</td>\n",
       "      <td>0.979</td>\n",
       "      <td>0.951</td>\n",
       "      <td>0.965</td>\n",
       "      <td>0.960</td>\n",
       "    </tr>\n",
       "    <tr>\n",
       "      <th>2</th>\n",
       "      <td>2</td>\n",
       "      <td>0.400</td>\n",
       "      <td>0.275</td>\n",
       "      <td>0.400</td>\n",
       "      <td>0.752</td>\n",
       "      <td>0.838</td>\n",
       "      <td>0.793</td>\n",
       "      <td>0.467</td>\n",
       "    </tr>\n",
       "    <tr>\n",
       "      <th>3</th>\n",
       "      <td>3</td>\n",
       "      <td>0.881</td>\n",
       "      <td>0.879</td>\n",
       "      <td>0.881</td>\n",
       "      <td>0.792</td>\n",
       "      <td>0.820</td>\n",
       "      <td>0.806</td>\n",
       "      <td>0.862</td>\n",
       "    </tr>\n",
       "    <tr>\n",
       "      <th>4</th>\n",
       "      <td>4</td>\n",
       "      <td>0.364</td>\n",
       "      <td>0.250</td>\n",
       "      <td>0.364</td>\n",
       "      <td>0.691</td>\n",
       "      <td>0.795</td>\n",
       "      <td>0.740</td>\n",
       "      <td>0.429</td>\n",
       "    </tr>\n",
       "    <tr>\n",
       "      <th>5</th>\n",
       "      <td>5</td>\n",
       "      <td>0.800</td>\n",
       "      <td>0.791</td>\n",
       "      <td>0.800</td>\n",
       "      <td>0.958</td>\n",
       "      <td>0.932</td>\n",
       "      <td>0.945</td>\n",
       "      <td>0.834</td>\n",
       "    </tr>\n",
       "    <tr>\n",
       "      <th>6</th>\n",
       "      <td>6</td>\n",
       "      <td>0.554</td>\n",
       "      <td>0.525</td>\n",
       "      <td>0.554</td>\n",
       "      <td>0.735</td>\n",
       "      <td>0.907</td>\n",
       "      <td>0.812</td>\n",
       "      <td>0.611</td>\n",
       "    </tr>\n",
       "    <tr>\n",
       "      <th>7</th>\n",
       "      <td>7</td>\n",
       "      <td>0.070</td>\n",
       "      <td>0.000</td>\n",
       "      <td>0.056</td>\n",
       "      <td>0.614</td>\n",
       "      <td>0.640</td>\n",
       "      <td>0.627</td>\n",
       "      <td>0.188</td>\n",
       "    </tr>\n",
       "    <tr>\n",
       "      <th>8</th>\n",
       "      <td>8</td>\n",
       "      <td>0.443</td>\n",
       "      <td>0.400</td>\n",
       "      <td>0.443</td>\n",
       "      <td>0.730</td>\n",
       "      <td>0.844</td>\n",
       "      <td>0.783</td>\n",
       "      <td>0.517</td>\n",
       "    </tr>\n",
       "    <tr>\n",
       "      <th>9</th>\n",
       "      <td>9</td>\n",
       "      <td>0.553</td>\n",
       "      <td>0.385</td>\n",
       "      <td>0.553</td>\n",
       "      <td>0.661</td>\n",
       "      <td>0.813</td>\n",
       "      <td>0.729</td>\n",
       "      <td>0.555</td>\n",
       "    </tr>\n",
       "  </tbody>\n",
       "</table>\n",
       "</div>"
      ],
      "text/plain": [
       "   summary_id  rouge-1  rouge-2  rouge-l  bert_precision  bert_recall  \\\n",
       "0           0    0.219    0.109    0.219           0.668        0.744   \n",
       "1           1    0.959    0.959    0.959           0.979        0.951   \n",
       "2           2    0.400    0.275    0.400           0.752        0.838   \n",
       "3           3    0.881    0.879    0.881           0.792        0.820   \n",
       "4           4    0.364    0.250    0.364           0.691        0.795   \n",
       "5           5    0.800    0.791    0.800           0.958        0.932   \n",
       "6           6    0.554    0.525    0.554           0.735        0.907   \n",
       "7           7    0.070    0.000    0.056           0.614        0.640   \n",
       "8           8    0.443    0.400    0.443           0.730        0.844   \n",
       "9           9    0.553    0.385    0.553           0.661        0.813   \n",
       "\n",
       "   bert_f1  overall_score  \n",
       "0    0.704          0.313  \n",
       "1    0.965          0.960  \n",
       "2    0.793          0.467  \n",
       "3    0.806          0.862  \n",
       "4    0.740          0.429  \n",
       "5    0.945          0.834  \n",
       "6    0.812          0.611  \n",
       "7    0.627          0.188  \n",
       "8    0.783          0.517  \n",
       "9    0.729          0.555  "
      ]
     },
     "execution_count": 18,
     "metadata": {},
     "output_type": "execute_result"
    }
   ],
   "source": [
    "import pandas as pd\n",
    "\n",
    "eval_result_df = pd.read_csv(evaluation_results)\n",
    "eval_result_df"
   ]
  },
  {
   "cell_type": "code",
   "execution_count": 19,
   "id": "bfa0b1f7-0112-455d-9549-304d000035bb",
   "metadata": {
    "tags": []
   },
   "outputs": [
    {
     "data": {
      "text/plain": [
       "{'rouge_scores': {'rouge-1': 0.524, 'rouge-2': 0.457, 'rouge-l': 0.523},\n",
       " 'bert_score': {'precision': 0.758, 'recall': 0.828, 'f1': 0.79},\n",
       " 'overall_ro-1-2-l_bert_score': 0.574}"
      ]
     },
     "execution_count": 19,
     "metadata": {},
     "output_type": "execute_result"
    }
   ],
   "source": [
    "import json\n",
    "\n",
    "with open(summary_json_file, 'r', encoding='utf-8') as file:\n",
    "    data = json.load(file)\n",
    "data    \n"
   ]
  },
  {
   "cell_type": "markdown",
   "id": "0a35460c-f4f8-48b1-8538-646c5247607d",
   "metadata": {},
   "source": [
    "### Optimized Model"
   ]
  },
  {
   "cell_type": "code",
   "execution_count": 20,
   "id": "c24d4ce8-1216-44eb-a569-242d18786856",
   "metadata": {
    "tags": []
   },
   "outputs": [
    {
     "name": "stderr",
     "output_type": "stream",
     "text": [
      "The attention mask and the pad token id were not set. As a consequence, you may observe unexpected behavior. Please pass your input's `attention_mask` to obtain reliable results.\n",
      "Setting `pad_token_id` to `eos_token_id`:128001 for open-end generation.\n"
     ]
    },
    {
     "name": "stdout",
     "output_type": "stream",
     "text": [
      "output_directory: eval_result/2024-08-26-12-20-09\n",
      "lenght of full test dataset:  2740\n"
     ]
    },
    {
     "name": "stderr",
     "output_type": "stream",
     "text": [
      "The attention mask and the pad token id were not set. As a consequence, you may observe unexpected behavior. Please pass your input's `attention_mask` to obtain reliable results.\n",
      "Setting `pad_token_id` to `eos_token_id`:128001 for open-end generation.\n",
      "The attention mask and the pad token id were not set. As a consequence, you may observe unexpected behavior. Please pass your input's `attention_mask` to obtain reliable results.\n",
      "Setting `pad_token_id` to `eos_token_id`:128001 for open-end generation.\n",
      "The attention mask and the pad token id were not set. As a consequence, you may observe unexpected behavior. Please pass your input's `attention_mask` to obtain reliable results.\n",
      "Setting `pad_token_id` to `eos_token_id`:128001 for open-end generation.\n",
      "The attention mask and the pad token id were not set. As a consequence, you may observe unexpected behavior. Please pass your input's `attention_mask` to obtain reliable results.\n",
      "Setting `pad_token_id` to `eos_token_id`:128001 for open-end generation.\n",
      "The attention mask and the pad token id were not set. As a consequence, you may observe unexpected behavior. Please pass your input's `attention_mask` to obtain reliable results.\n",
      "Setting `pad_token_id` to `eos_token_id`:128001 for open-end generation.\n",
      "The attention mask and the pad token id were not set. As a consequence, you may observe unexpected behavior. Please pass your input's `attention_mask` to obtain reliable results.\n",
      "Setting `pad_token_id` to `eos_token_id`:128001 for open-end generation.\n",
      "The attention mask and the pad token id were not set. As a consequence, you may observe unexpected behavior. Please pass your input's `attention_mask` to obtain reliable results.\n",
      "Setting `pad_token_id` to `eos_token_id`:128001 for open-end generation.\n",
      "The attention mask and the pad token id were not set. As a consequence, you may observe unexpected behavior. Please pass your input's `attention_mask` to obtain reliable results.\n",
      "Setting `pad_token_id` to `eos_token_id`:128001 for open-end generation.\n",
      "The attention mask and the pad token id were not set. As a consequence, you may observe unexpected behavior. Please pass your input's `attention_mask` to obtain reliable results.\n",
      "Setting `pad_token_id` to `eos_token_id`:128001 for open-end generation.\n"
     ]
    },
    {
     "name": "stdout",
     "output_type": "stream",
     "text": [
      "\n",
      "평가 상세 결과가 eval_result/2024-08-26-12-20-09/optimized_model_evaluation_results.csv 파일로 저장되었습니다.\n",
      "JSON 데이터가 'eval_result/2024-08-26-12-20-09/optimized_model_summary_results.json' 파일로 저장되었습니다.\n",
      "평균 평가 점수:\n",
      "{\n",
      "  \"rouge_scores\": {\n",
      "    \"rouge-1\": 0.674,\n",
      "    \"rouge-2\": 0.603,\n",
      "    \"rouge-l\": 0.655\n",
      "  },\n",
      "  \"bert_score\": {\n",
      "    \"precision\": 0.847,\n",
      "    \"recall\": 0.861,\n",
      "    \"f1\": 0.852\n",
      "  },\n",
      "  \"overall_ro-1-2-l_bert_score\": 0.696\n",
      "}\n",
      "CPU times: user 1min 18s, sys: 5.73 s, total: 1min 24s\n",
      "Wall time: 1min 13s\n"
     ]
    }
   ],
   "source": [
    "%%time \n",
    "\n",
    "from scripts.eval import SummaryEvaluationSystem\n",
    "\n",
    "evaluator = SummaryEvaluationSystem(result_folder=\"eval_result\")\n",
    "summary_json_file, evaluation_results = evaluator.run_evaluation(\n",
    "                             test_dataset_json=full_test_data_json, \n",
    "                             sample_test_num=10, \n",
    "                             model_name =\"optimized_model\",\n",
    "                             model=optimized_model, \n",
    "                             tokenizer=tokenizer)"
   ]
  },
  {
   "cell_type": "code",
   "execution_count": 21,
   "id": "cebedc93-f8a6-4ca7-8808-1530cd3d1ff5",
   "metadata": {
    "tags": []
   },
   "outputs": [
    {
     "data": {
      "text/html": [
       "<div>\n",
       "<style scoped>\n",
       "    .dataframe tbody tr th:only-of-type {\n",
       "        vertical-align: middle;\n",
       "    }\n",
       "\n",
       "    .dataframe tbody tr th {\n",
       "        vertical-align: top;\n",
       "    }\n",
       "\n",
       "    .dataframe thead th {\n",
       "        text-align: right;\n",
       "    }\n",
       "</style>\n",
       "<table border=\"1\" class=\"dataframe\">\n",
       "  <thead>\n",
       "    <tr style=\"text-align: right;\">\n",
       "      <th></th>\n",
       "      <th>summary_id</th>\n",
       "      <th>rouge-1</th>\n",
       "      <th>rouge-2</th>\n",
       "      <th>rouge-l</th>\n",
       "      <th>bert_precision</th>\n",
       "      <th>bert_recall</th>\n",
       "      <th>bert_f1</th>\n",
       "      <th>overall_score</th>\n",
       "    </tr>\n",
       "  </thead>\n",
       "  <tbody>\n",
       "    <tr>\n",
       "      <th>0</th>\n",
       "      <td>0</td>\n",
       "      <td>0.976</td>\n",
       "      <td>0.977</td>\n",
       "      <td>0.976</td>\n",
       "      <td>0.991</td>\n",
       "      <td>0.990</td>\n",
       "      <td>0.990</td>\n",
       "      <td>0.980</td>\n",
       "    </tr>\n",
       "    <tr>\n",
       "      <th>1</th>\n",
       "      <td>1</td>\n",
       "      <td>0.868</td>\n",
       "      <td>0.753</td>\n",
       "      <td>0.842</td>\n",
       "      <td>0.946</td>\n",
       "      <td>0.938</td>\n",
       "      <td>0.942</td>\n",
       "      <td>0.851</td>\n",
       "    </tr>\n",
       "    <tr>\n",
       "      <th>2</th>\n",
       "      <td>2</td>\n",
       "      <td>0.649</td>\n",
       "      <td>0.533</td>\n",
       "      <td>0.649</td>\n",
       "      <td>0.875</td>\n",
       "      <td>0.884</td>\n",
       "      <td>0.879</td>\n",
       "      <td>0.677</td>\n",
       "    </tr>\n",
       "    <tr>\n",
       "      <th>3</th>\n",
       "      <td>3</td>\n",
       "      <td>0.791</td>\n",
       "      <td>0.706</td>\n",
       "      <td>0.791</td>\n",
       "      <td>0.844</td>\n",
       "      <td>0.886</td>\n",
       "      <td>0.865</td>\n",
       "      <td>0.788</td>\n",
       "    </tr>\n",
       "    <tr>\n",
       "      <th>4</th>\n",
       "      <td>4</td>\n",
       "      <td>0.640</td>\n",
       "      <td>0.625</td>\n",
       "      <td>0.640</td>\n",
       "      <td>0.829</td>\n",
       "      <td>0.949</td>\n",
       "      <td>0.885</td>\n",
       "      <td>0.698</td>\n",
       "    </tr>\n",
       "    <tr>\n",
       "      <th>5</th>\n",
       "      <td>5</td>\n",
       "      <td>0.696</td>\n",
       "      <td>0.556</td>\n",
       "      <td>0.696</td>\n",
       "      <td>0.870</td>\n",
       "      <td>0.677</td>\n",
       "      <td>0.762</td>\n",
       "      <td>0.677</td>\n",
       "    </tr>\n",
       "    <tr>\n",
       "      <th>6</th>\n",
       "      <td>6</td>\n",
       "      <td>0.841</td>\n",
       "      <td>0.761</td>\n",
       "      <td>0.841</td>\n",
       "      <td>0.944</td>\n",
       "      <td>0.979</td>\n",
       "      <td>0.961</td>\n",
       "      <td>0.851</td>\n",
       "    </tr>\n",
       "    <tr>\n",
       "      <th>7</th>\n",
       "      <td>7</td>\n",
       "      <td>0.000</td>\n",
       "      <td>0.000</td>\n",
       "      <td>0.000</td>\n",
       "      <td>0.500</td>\n",
       "      <td>0.560</td>\n",
       "      <td>0.528</td>\n",
       "      <td>0.132</td>\n",
       "    </tr>\n",
       "    <tr>\n",
       "      <th>8</th>\n",
       "      <td>8</td>\n",
       "      <td>0.645</td>\n",
       "      <td>0.619</td>\n",
       "      <td>0.645</td>\n",
       "      <td>0.818</td>\n",
       "      <td>0.855</td>\n",
       "      <td>0.836</td>\n",
       "      <td>0.686</td>\n",
       "    </tr>\n",
       "    <tr>\n",
       "      <th>9</th>\n",
       "      <td>9</td>\n",
       "      <td>0.632</td>\n",
       "      <td>0.500</td>\n",
       "      <td>0.474</td>\n",
       "      <td>0.855</td>\n",
       "      <td>0.891</td>\n",
       "      <td>0.873</td>\n",
       "      <td>0.620</td>\n",
       "    </tr>\n",
       "  </tbody>\n",
       "</table>\n",
       "</div>"
      ],
      "text/plain": [
       "   summary_id  rouge-1  rouge-2  rouge-l  bert_precision  bert_recall  \\\n",
       "0           0    0.976    0.977    0.976           0.991        0.990   \n",
       "1           1    0.868    0.753    0.842           0.946        0.938   \n",
       "2           2    0.649    0.533    0.649           0.875        0.884   \n",
       "3           3    0.791    0.706    0.791           0.844        0.886   \n",
       "4           4    0.640    0.625    0.640           0.829        0.949   \n",
       "5           5    0.696    0.556    0.696           0.870        0.677   \n",
       "6           6    0.841    0.761    0.841           0.944        0.979   \n",
       "7           7    0.000    0.000    0.000           0.500        0.560   \n",
       "8           8    0.645    0.619    0.645           0.818        0.855   \n",
       "9           9    0.632    0.500    0.474           0.855        0.891   \n",
       "\n",
       "   bert_f1  overall_score  \n",
       "0    0.990          0.980  \n",
       "1    0.942          0.851  \n",
       "2    0.879          0.677  \n",
       "3    0.865          0.788  \n",
       "4    0.885          0.698  \n",
       "5    0.762          0.677  \n",
       "6    0.961          0.851  \n",
       "7    0.528          0.132  \n",
       "8    0.836          0.686  \n",
       "9    0.873          0.620  "
      ]
     },
     "execution_count": 21,
     "metadata": {},
     "output_type": "execute_result"
    }
   ],
   "source": [
    "import pandas as pd\n",
    "\n",
    "eval_result_df = pd.read_csv(evaluation_results)\n",
    "eval_result_df"
   ]
  },
  {
   "cell_type": "code",
   "execution_count": 22,
   "id": "2fa783e2-872d-42f5-8ef0-b3d6a4015c32",
   "metadata": {
    "tags": []
   },
   "outputs": [
    {
     "data": {
      "text/plain": [
       "{'rouge_scores': {'rouge-1': 0.674, 'rouge-2': 0.603, 'rouge-l': 0.655},\n",
       " 'bert_score': {'precision': 0.847, 'recall': 0.861, 'f1': 0.852},\n",
       " 'overall_ro-1-2-l_bert_score': 0.696}"
      ]
     },
     "execution_count": 22,
     "metadata": {},
     "output_type": "execute_result"
    }
   ],
   "source": [
    "import json\n",
    "\n",
    "with open(summary_json_file, 'r', encoding='utf-8') as file:\n",
    "    data = json.load(file)\n",
    "data    \n"
   ]
  },
  {
   "cell_type": "code",
   "execution_count": null,
   "id": "c3418494-ee4f-44f3-9814-0edb9b5ba73e",
   "metadata": {},
   "outputs": [],
   "source": []
  }
 ],
 "metadata": {
  "kernelspec": {
   "display_name": "conda_llama3_puy310",
   "language": "python",
   "name": "conda_llama3_puy310"
  },
  "language_info": {
   "codemirror_mode": {
    "name": "ipython",
    "version": 3
   },
   "file_extension": ".py",
   "mimetype": "text/x-python",
   "name": "python",
   "nbconvert_exporter": "python",
   "pygments_lexer": "ipython3",
   "version": "3.10.14"
  },
  "vscode": {
   "interpreter": {
    "hash": "6daafc7ae2313787fa97137de7504cfa7c5a594d29476828201b4f7d7fb5c4e1"
   }
  }
 },
 "nbformat": 4,
 "nbformat_minor": 5
}
