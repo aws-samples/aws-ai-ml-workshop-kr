{
 "cells": [
  {
   "cell_type": "markdown",
   "id": "81f236c9",
   "metadata": {},
   "source": [
    "# Faster autoscaling on Amazon SageMaker realtime endpoints (Step Scaling)\n",
    "\n",
    "---\n",
    "\n",
    "This notebook's CI test result for us-west-2 is as follows. CI test results in other regions can be found at the end of the notebook.\n",
    "\n",
    "![This us-west-2 badge failed to load. Check your device's internet connectivity, otherwise the service is currently unavailable](https://prod.us-west-2.tcx-beacon.docs.aws.dev/sagemaker-nb/us-west-2/inference|generativeai|huggingfacetgi|meta-llama|llama3-8b|faster-autoscaling|realtime-endpoints|FasterAutoscaling-SME-Llama3-8B-StepScaling.ipynb)\n",
    "\n",
    "\n",
    "---\n",
    "\n",
    "In this notebook we show how the new faster autoscaling feature helps scale sagemaker inference endpoints by almost 6x faster than earlier.\n",
    "\n",
    "We deploy Meta's `Llama3-8B-Instruct` model to an Amazon SageMaker realtime endpoint using Text Generation Inference (TGI) Deep Learning Container (DLC) and apply <span style='color:green'><b>Step Scaling</b></span> autoscaling policies to the endpoint.\n",
    "\n",
    "\n",
    "<span class=\"alert alert-block alert-warning\">Please use at least <strong>`m5.2xlarge`</strong> or larger instance types if running this on Amazon SageMaker Notebook Instance.</span>\n",
    "\n",
    "\n",
    "## Prerequisites\n",
    "\n",
    "<div style=\"border: 1px solid #f00; border-radius: 5px; padding: 10px; background-color: #fee;\">\n",
    "Before using this notebook please ensure you have access to an active access token from HuggingFace and have accepted the license agreement from Meta.\n",
    "\n",
    "- **Step 1:** Create user access token in HuggingFace (HF). Refer [here](https://huggingface.co/docs/hub/security-tokens) on how to create HF tokens.\n",
    "- **Step 2:** Login to [HuggingFace](https://huggingface.co/meta-llama/Meta-Llama-3-8B-Instruct/tree/main) and navigate to *Meta-Llama-3-8B-Instruct** home page.\n",
    "- **Step 3:** Accept META LLAMA 3 COMMUNITY LICENSE AGREEMENT by following the instructions [here](https://huggingface.co/meta-llama/Meta-Llama-3-8B-Instruct/tree/main)\n",
    "- **Step 4:** Wait for the approval email from META (Approval may take any where b/w 1-3 hrs)\n",
    "</div>"
   ]
  },
  {
   "cell_type": "markdown",
   "id": "650293f5-969e-4019-ba54-be21a363915d",
   "metadata": {},
   "source": [
    "Ensure python version of kernel is 3.10"
   ]
  },
  {
   "cell_type": "code",
   "execution_count": 1,
   "id": "660d71a7-50d2-45b2-8b9f-b02ed52218b3",
   "metadata": {
    "tags": []
   },
   "outputs": [
    {
     "name": "stdout",
     "output_type": "stream",
     "text": [
      "Python 3.10.14\n"
     ]
    }
   ],
   "source": [
    "!python --version"
   ]
  },
  {
   "cell_type": "markdown",
   "id": "932827cb-caaa-4baa-9c95-9cf057468cf0",
   "metadata": {
    "tags": []
   },
   "source": [
    "Install packages using uv, an extremely fast python package installer. Read more about uv here <https://astral.sh/blog/uv>"
   ]
  },
  {
   "cell_type": "code",
   "execution_count": 2,
   "id": "9d260cb1-1355-448e-8fd9-3eebb1584ba0",
   "metadata": {
    "tags": []
   },
   "outputs": [
    {
     "name": "stdout",
     "output_type": "stream",
     "text": [
      "Requirement already satisfied: uv in /home/ec2-user/anaconda3/envs/python3/lib/python3.10/site-packages (0.2.5)\n",
      "\u001b[2K\u001b[2mResolved \u001b[1m22 packages\u001b[0m in 44ms\u001b[0m                                                 \u001b[0m\n",
      "\u001b[2mUninstalled \u001b[1m5 packages\u001b[0m in 13ms\u001b[0m\n",
      "\u001b[2K\u001b[2mInstalled \u001b[1m5 packages\u001b[0m in 8ms\u001b[0m6.0                                      \u001b[0m\n",
      " \u001b[31m-\u001b[39m \u001b[1mexceptiongroup\u001b[0m\u001b[2m==1.2.1\u001b[0m\n",
      " \u001b[32m+\u001b[39m \u001b[1mexceptiongroup\u001b[0m\u001b[2m==1.2.2\u001b[0m\n",
      " \u001b[31m-\u001b[39m \u001b[1mipython\u001b[0m\u001b[2m==8.24.0\u001b[0m\n",
      " \u001b[32m+\u001b[39m \u001b[1mipython\u001b[0m\u001b[2m==8.26.0\u001b[0m\n",
      " \u001b[31m-\u001b[39m \u001b[1mprompt-toolkit\u001b[0m\u001b[2m==3.0.45\u001b[0m\n",
      " \u001b[32m+\u001b[39m \u001b[1mprompt-toolkit\u001b[0m\u001b[2m==3.0.47\u001b[0m\n",
      " \u001b[31m-\u001b[39m \u001b[1mpure-eval\u001b[0m\u001b[2m==0.2.2\u001b[0m\n",
      " \u001b[32m+\u001b[39m \u001b[1mpure-eval\u001b[0m\u001b[2m==0.2.3\u001b[0m\n",
      " \u001b[31m-\u001b[39m \u001b[1mtyping-extensions\u001b[0m\u001b[2m==4.12.0\u001b[0m\n",
      " \u001b[32m+\u001b[39m \u001b[1mtyping-extensions\u001b[0m\u001b[2m==4.12.2\u001b[0m\n",
      "\u001b[2K\u001b[2mResolved \u001b[1m65 packages\u001b[0m in 205ms\u001b[0m3.12.1                                          \u001b[0m\n",
      "\u001b[2mUninstalled \u001b[1m5 packages\u001b[0m in 7ms\u001b[0m\n",
      "\u001b[2K\u001b[2mInstalled \u001b[1m5 packages\u001b[0m in 7ms\u001b[0m4.0                                      \u001b[0m\n",
      " \u001b[31m-\u001b[39m \u001b[1mexceptiongroup\u001b[0m\u001b[2m==1.2.2\u001b[0m\n",
      " \u001b[32m+\u001b[39m \u001b[1mexceptiongroup\u001b[0m\u001b[2m==1.2.1\u001b[0m\n",
      " \u001b[31m-\u001b[39m \u001b[1mipython\u001b[0m\u001b[2m==8.26.0\u001b[0m\n",
      " \u001b[32m+\u001b[39m \u001b[1mipython\u001b[0m\u001b[2m==8.24.0\u001b[0m\n",
      " \u001b[31m-\u001b[39m \u001b[1mprompt-toolkit\u001b[0m\u001b[2m==3.0.47\u001b[0m\n",
      " \u001b[32m+\u001b[39m \u001b[1mprompt-toolkit\u001b[0m\u001b[2m==3.0.45\u001b[0m\n",
      " \u001b[31m-\u001b[39m \u001b[1mpure-eval\u001b[0m\u001b[2m==0.2.3\u001b[0m\n",
      " \u001b[32m+\u001b[39m \u001b[1mpure-eval\u001b[0m\u001b[2m==0.2.2\u001b[0m\n",
      " \u001b[31m-\u001b[39m \u001b[1mtyping-extensions\u001b[0m\u001b[2m==4.12.2\u001b[0m\n",
      " \u001b[32m+\u001b[39m \u001b[1mtyping-extensions\u001b[0m\u001b[2m==4.12.0\u001b[0m\n"
     ]
    }
   ],
   "source": [
    "!pip install uv && uv pip install -U ipywidgets\n",
    "!uv pip install -r requirements.txt"
   ]
  },
  {
   "cell_type": "markdown",
   "id": "cfe9e981-5df5-4b01-9b64-945e01c06423",
   "metadata": {
    "tags": []
   },
   "source": [
    "Restart kernel after installing packages"
   ]
  },
  {
   "cell_type": "code",
   "execution_count": 3,
   "id": "b2abe082-5ce0-4a26-bae8-68f9bff4104c",
   "metadata": {
    "tags": []
   },
   "outputs": [
    {
     "name": "stdout",
     "output_type": "stream",
     "text": [
      "Kernel restarted successfully!\n"
     ]
    }
   ],
   "source": [
    "# restart kernel\n",
    "from IPython.core.display import HTML\n",
    "\n",
    "HTML(\"<script>Jupyter.notebook.kernel.restart()</script>\")\n",
    "print(\"Kernel restarted successfully!\")"
   ]
  },
  {
   "cell_type": "code",
   "execution_count": 4,
   "id": "590ec770-d05e-474d-80da-d2f2bab63db2",
   "metadata": {
    "tags": []
   },
   "outputs": [],
   "source": [
    "# load rich extension\n",
    "%load_ext rich"
   ]
  },
  {
   "cell_type": "code",
   "execution_count": 5,
   "id": "3a97edd4-8bba-4806-bce5-c559e23da05d",
   "metadata": {
    "tags": []
   },
   "outputs": [
    {
     "name": "stdout",
     "output_type": "stream",
     "text": [
      "sagemaker.config INFO - Not applying SDK defaults from location: /etc/xdg/sagemaker/config.yaml\n",
      "sagemaker.config INFO - Not applying SDK defaults from location: /home/ec2-user/.config/sagemaker/config.yaml\n"
     ]
    }
   ],
   "source": [
    "import glob\n",
    "import json\n",
    "import os\n",
    "import subprocess\n",
    "import time\n",
    "from concurrent.futures import ThreadPoolExecutor, as_completed\n",
    "from datetime import datetime\n",
    "from getpass import getpass\n",
    "from pathlib import Path\n",
    "from statistics import mean\n",
    "from uuid import uuid4\n",
    "\n",
    "import boto3\n",
    "import botocore\n",
    "import sagemaker\n",
    "from botocore.config import Config\n",
    "from rich import box, print\n",
    "from rich.console import Console\n",
    "from rich.progress import Progress, SpinnerColumn, TimeElapsedColumn\n",
    "from rich.table import Table\n",
    "from sagemaker.deserializers import JSONDeserializer\n",
    "from sagemaker.huggingface import HuggingFaceModel, get_huggingface_llm_image_uri\n",
    "from sagemaker.predictor import Predictor\n",
    "from sagemaker.serializers import JSONSerializer\n",
    "\n",
    "from utils.autoscaling import (\n",
    "    monitor_scaling_events,\n",
    "    print_scaling_times,\n",
    "    test_concurrency_level,\n",
    ")\n",
    "\n",
    "from utils.llmperf import (\n",
    "    print_llmperf_results,\n",
    "    trigger_auto_scaling,\n",
    "    monitor_process,\n",
    ")"
   ]
  },
  {
   "cell_type": "markdown",
   "id": "9c02d12b-2109-4f01-8da8-8972ba493398",
   "metadata": {},
   "source": [
    "## Initiate sagemaker session"
   ]
  },
  {
   "cell_type": "code",
   "execution_count": 6,
   "id": "e11d1c2d-787e-4792-a276-897a9cd183cf",
   "metadata": {
    "tags": []
   },
   "outputs": [
    {
     "data": {
      "text/html": [
       "<pre style=\"white-space:pre;overflow-x:auto;line-height:normal;font-family:Menlo,'DejaVu Sans Mono',consolas,'Courier New',monospace\">HF Model ID: <span style=\"color: #008000; text-decoration-color: #008000; font-weight: bold\">meta-llama/Meta-Llama-</span><span style=\"color: #008000; text-decoration-color: #008000; font-weight: bold\">3</span><span style=\"color: #008000; text-decoration-color: #008000; font-weight: bold\">-8B-Instruct</span>\n",
       "</pre>\n"
      ],
      "text/plain": [
       "HF Model ID: \u001b[1;32mmeta-llama/Meta-Llama-\u001b[0m\u001b[1;32m3\u001b[0m\u001b[1;32m-8B-Instruct\u001b[0m\n"
      ]
     },
     "metadata": {},
     "output_type": "display_data"
    },
    {
     "data": {
      "text/html": [
       "<pre style=\"white-space:pre;overflow-x:auto;line-height:normal;font-family:Menlo,'DejaVu Sans Mono',consolas,'Courier New',monospace\">Region: <span style=\"color: #000080; text-decoration-color: #000080; font-weight: bold\">us-east-</span><span style=\"color: #000080; text-decoration-color: #000080; font-weight: bold\">1</span>\n",
       "</pre>\n"
      ],
      "text/plain": [
       "Region: \u001b[1;34mus-east-\u001b[0m\u001b[1;34m1\u001b[0m\n"
      ]
     },
     "metadata": {},
     "output_type": "display_data"
    },
    {
     "data": {
      "text/html": [
       "<pre style=\"white-space:pre;overflow-x:auto;line-height:normal;font-family:Menlo,'DejaVu Sans Mono',consolas,'Courier New',monospace\">Role: <span style=\"color: #800000; text-decoration-color: #800000; font-weight: bold\">arn:aws:iam::</span><span style=\"color: #800000; text-decoration-color: #800000; font-weight: bold\">057716757052</span><span style=\"color: #800000; text-decoration-color: #800000; font-weight: bold\">:role/gen_ai_gsmoon</span>\n",
       "</pre>\n"
      ],
      "text/plain": [
       "Role: \u001b[1;31marn:aws:iam::\u001b[0m\u001b[1;31m057716757052\u001b[0m\u001b[1;31m:role/gen_ai_gsmoon\u001b[0m\n"
      ]
     },
     "metadata": {},
     "output_type": "display_data"
    }
   ],
   "source": [
    "sess = sagemaker.Session()\n",
    "role = sagemaker.get_execution_role()\n",
    "region = sess.boto_region_name\n",
    "config = Config(retries=dict(max_attempts=10))\n",
    "\n",
    "boto_session = boto3.Session(region_name=region)\n",
    "\n",
    "sagemaker_client = sess.sagemaker_client\n",
    "sagemaker_runtime_client = sess.sagemaker_runtime_client\n",
    "cloudwatch_client = boto3.client(\"cloudwatch\", region_name=region, config=config)\n",
    "\n",
    "hf_model_id = \"meta-llama/Meta-Llama-3-8B-Instruct\"\n",
    "\n",
    "print(f\"HF Model ID: [b green]{hf_model_id}\")\n",
    "print(f\"Region: [b blue]{region}\")\n",
    "print(f\"Role: [b red]{role}\")"
   ]
  },
  {
   "cell_type": "markdown",
   "id": "043f7d75-de75-4687-a2e2-ab4aa7168ef6",
   "metadata": {},
   "source": [
    "## Deploy model\n",
    "\n",
    "Create and deploy model using Amazon SageMaker HuggingFace TGI DLC\n",
    "\n",
    "<https://sagemaker.readthedocs.io/en/stable/api/inference/model.html#sagemaker.model.Model.deploy>\n",
    "\n",
    "<div class=\"alert alert-block alert-warning\">\n",
    "<b>NOTE:</b> Remember to copy your Hugging Face Access Token from <a href=\"https://hf.co/\">https://hf.co/</a> before running the below cell.<br/><br/>\n",
    "Refer <a href=\"https://huggingface.co/docs/hub/security-tokens\">here</a> to learn about creating HF tokens.\n",
    "</div>"
   ]
  },
  {
   "cell_type": "code",
   "execution_count": 7,
   "id": "8b89da4d-9ce7-4e5b-a02a-3f2c690cd26d",
   "metadata": {
    "tags": []
   },
   "outputs": [
    {
     "name": "stdin",
     "output_type": "stream",
     "text": [
      "Enter HUGGINGFACE Access Token:  ········\n"
     ]
    },
    {
     "data": {
      "text/html": [
       "<pre style=\"white-space:pre;overflow-x:auto;line-height:normal;font-family:Menlo,'DejaVu Sans Mono',consolas,'Courier New',monospace\">Creating model: <span style=\"color: #008000; text-decoration-color: #008000; font-weight: bold\">Llama3-8B-fas-943d7-28Jul2024...</span>\n",
       "</pre>\n"
      ],
      "text/plain": [
       "Creating model: \u001b[1;32mLlama3-8B-fas-943d7-28Jul2024\u001b[0m\u001b[1;32m...\u001b[0m\n"
      ]
     },
     "metadata": {},
     "output_type": "display_data"
    },
    {
     "data": {
      "text/html": [
       "<pre style=\"white-space:pre;overflow-x:auto;line-height:normal;font-family:Menlo,'DejaVu Sans Mono',consolas,'Courier New',monospace\">Deploying model to endpoint: <span style=\"color: #800080; text-decoration-color: #800080; font-weight: bold\">Llama3-8B-fas-943d7-28Jul2024...</span>\n",
       "</pre>\n"
      ],
      "text/plain": [
       "Deploying model to endpoint: \u001b[1;35mLlama3-8B-fas-943d7-28Jul2024\u001b[0m\u001b[1;35m...\u001b[0m\n"
      ]
     },
     "metadata": {},
     "output_type": "display_data"
    },
    {
     "name": "stdout",
     "output_type": "stream",
     "text": [
      "-------------!"
     ]
    }
   ],
   "source": [
    "instance_type = \"ml.g5.2xlarge\"\n",
    "suffix = f\"{str(uuid4())[:5]}-{datetime.now().strftime('%d%b%Y')}\"\n",
    "model_name = f\"Llama3-8B-fas-{suffix}\"\n",
    "endpoint_name = model_name\n",
    "health_check_timeout = 900\n",
    "\n",
    "HF_TOKEN = os.getenv(\"HUGGING_FACE_HUB_TOKEN\") or getpass(\"Enter HUGGINGFACE Access Token: \")\n",
    "\n",
    "# retrieve the llm image uri\n",
    "# tgi_dlc = f\"763104351884.dkr.ecr.{region}.amazonaws.com/huggingface-pytorch-tgi-inference:2.1-tgi2.0-gpu-py310-cu121-ubuntu22.04\"\n",
    "tgi_dlc = get_huggingface_llm_image_uri(\"huggingface\", version=\"2.0.0\")\n",
    "\n",
    "# Define Model and Endpoint configuration parameter\n",
    "config = {\n",
    "    \"HF_MODEL_ID\": \"meta-llama/Meta-Llama-3-8B-Instruct\",  # model_id from hf.co/models\n",
    "    \"SM_NUM_GPUS\": \"1\",  # Number of GPU used per replica\n",
    "    \"MAX_INPUT_LENGTH\": \"2048\",  # Max length of input text\n",
    "    \"MAX_TOTAL_TOKENS\": \"4096\",  # Max length of the generation (including input text)\n",
    "    \"MAX_BATCH_TOTAL_TOKENS\": \"8192\",  # Limits the number of tokens that can be processed in parallel during the generation\n",
    "    \"MESSAGES_API_ENABLED\": \"true\",  # Enable the messages API\n",
    "    \"HUGGING_FACE_HUB_TOKEN\": HF_TOKEN,\n",
    "}\n",
    "\n",
    "# create HuggingFaceModel with the image uri\n",
    "print(f\"Creating model: [b green]{model_name}...\")\n",
    "llm_model = HuggingFaceModel(name=model_name, role=role, image_uri=tgi_dlc, env=config)\n",
    "\n",
    "# Deploy model to Amazon SageMaker endpoint\n",
    "print(f\"Deploying model to endpoint: [b magenta]{endpoint_name}...\")\n",
    "predictor = llm_model.deploy(\n",
    "    endpoint_name=endpoint_name,\n",
    "    initial_instance_count=1,\n",
    "    instance_type=instance_type,\n",
    "    container_startup_health_check_timeout=health_check_timeout,  # 15 minutes to be able to load the model\n",
    ")"
   ]
  },
  {
   "cell_type": "markdown",
   "id": "83e1af5c-e713-4cf8-bc23-1c96f1e61327",
   "metadata": {},
   "source": [
    "## Inference\n",
    "\n",
    "Invoke and test endpoint using messages API. Refer to HF [Messages API](https://huggingface.co/docs/text-generation-inference/messages_api) for more info."
   ]
  },
  {
   "cell_type": "code",
   "execution_count": 8,
   "id": "b6d9ecc2-fffe-4ff1-b78b-1222fe6d32de",
   "metadata": {
    "tags": []
   },
   "outputs": [
    {
     "data": {
      "text/html": [
       "<pre style=\"white-space:pre;overflow-x:auto;line-height:normal;font-family:Menlo,'DejaVu Sans Mono',consolas,'Courier New',monospace\">Deep learning is a subset of machine learning that involves the use of artificial neural networks to model and \n",
       "analyze complex data. The term <span style=\"color: #008000; text-decoration-color: #008000\">\"deep\"</span> refers to the number of layers in the neural network, which can range from a \n",
       "few layers to hundreds or even thousands.\n",
       "\n",
       "Traditional machine learning algorithms rely on hand-crafted features to analyze data, whereas deep learning \n",
       "algorithms can automatically learn and extract features from raw data. This is achieved through the use of multiple\n",
       "layers of artificial neural networks, each of which processes and transforms the input data in a way that allows \n",
       "the network to learn increasingly complex representations of the data.\n",
       "\n",
       "Deep learning has been incredibly successful in a wide range of applications, including:\n",
       "\n",
       "<span style=\"color: #008080; text-decoration-color: #008080; font-weight: bold\">1</span>. Computer Vision: Deep learning has enabled machines to recognize and classify images, detect objects, and even \n",
       "generate new images.\n",
       "<span style=\"color: #008080; text-decoration-color: #008080; font-weight: bold\">2</span>. Natural Language Processing: Deep learning has enabled machines to understand and generate human language, \n",
       "including speech recognition, language translation, and text summarization.\n",
       "<span style=\"color: #008080; text-decoration-color: #008080; font-weight: bold\">3</span>. Speech Recognition: Deep learning has enabled machines to recognize and transcribe spoken language with high \n",
       "accuracy.\n",
       "<span style=\"color: #008080; text-decoration-color: #008080; font-weight: bold\">4</span>. Robotics: Deep learning has enabled machines to learn and adapt to new situations, allowing them to perform \n",
       "complex tasks such as grasping and manipulation.\n",
       "<span style=\"color: #008080; text-decoration-color: #008080; font-weight: bold\">5</span>. Game Playing: Deep learning has enabled machines to play complex games such as Go and Poker at a superhuman \n",
       "level.\n",
       "\n",
       "The key benefits of deep learning include:\n",
       "\n",
       "<span style=\"color: #008080; text-decoration-color: #008080; font-weight: bold\">1</span>. Ability to learn complex patterns and relationships in data\n",
       "<span style=\"color: #008080; text-decoration-color: #008080; font-weight: bold\">2</span>. Ability to automatically extract features from raw data\n",
       "<span style=\"color: #008080; text-decoration-color: #008080; font-weight: bold\">3</span>. Ability to generalize to new, unseen data\n",
       "<span style=\"color: #008080; text-decoration-color: #008080; font-weight: bold\">4</span>. Ability to learn from large amounts of data\n",
       "\n",
       "However, deep learning also has some challenges and limitations, including:\n",
       "\n",
       "<span style=\"color: #008080; text-decoration-color: #008080; font-weight: bold\">1</span>. Need for large amounts of data to train the network\n",
       "<span style=\"color: #008080; text-decoration-color: #008080; font-weight: bold\">2</span>. Computational requirements can be high\n",
       "<span style=\"color: #008080; text-decoration-color: #008080; font-weight: bold\">3</span>. Difficulty in interpreting the decisions made by the network\n",
       "<span style=\"color: #008080; text-decoration-color: #008080; font-weight: bold\">4</span>. Risk of overfitting and underfitting\n",
       "\n",
       "Overall, deep learning has revolutionized the field of artificial intelligence and has enabled machines to perform \n",
       "tasks that were previously thought to be the exclusive domain of humans.\n",
       "</pre>\n"
      ],
      "text/plain": [
       "Deep learning is a subset of machine learning that involves the use of artificial neural networks to model and \n",
       "analyze complex data. The term \u001b[32m\"deep\"\u001b[0m refers to the number of layers in the neural network, which can range from a \n",
       "few layers to hundreds or even thousands.\n",
       "\n",
       "Traditional machine learning algorithms rely on hand-crafted features to analyze data, whereas deep learning \n",
       "algorithms can automatically learn and extract features from raw data. This is achieved through the use of multiple\n",
       "layers of artificial neural networks, each of which processes and transforms the input data in a way that allows \n",
       "the network to learn increasingly complex representations of the data.\n",
       "\n",
       "Deep learning has been incredibly successful in a wide range of applications, including:\n",
       "\n",
       "\u001b[1;36m1\u001b[0m. Computer Vision: Deep learning has enabled machines to recognize and classify images, detect objects, and even \n",
       "generate new images.\n",
       "\u001b[1;36m2\u001b[0m. Natural Language Processing: Deep learning has enabled machines to understand and generate human language, \n",
       "including speech recognition, language translation, and text summarization.\n",
       "\u001b[1;36m3\u001b[0m. Speech Recognition: Deep learning has enabled machines to recognize and transcribe spoken language with high \n",
       "accuracy.\n",
       "\u001b[1;36m4\u001b[0m. Robotics: Deep learning has enabled machines to learn and adapt to new situations, allowing them to perform \n",
       "complex tasks such as grasping and manipulation.\n",
       "\u001b[1;36m5\u001b[0m. Game Playing: Deep learning has enabled machines to play complex games such as Go and Poker at a superhuman \n",
       "level.\n",
       "\n",
       "The key benefits of deep learning include:\n",
       "\n",
       "\u001b[1;36m1\u001b[0m. Ability to learn complex patterns and relationships in data\n",
       "\u001b[1;36m2\u001b[0m. Ability to automatically extract features from raw data\n",
       "\u001b[1;36m3\u001b[0m. Ability to generalize to new, unseen data\n",
       "\u001b[1;36m4\u001b[0m. Ability to learn from large amounts of data\n",
       "\n",
       "However, deep learning also has some challenges and limitations, including:\n",
       "\n",
       "\u001b[1;36m1\u001b[0m. Need for large amounts of data to train the network\n",
       "\u001b[1;36m2\u001b[0m. Computational requirements can be high\n",
       "\u001b[1;36m3\u001b[0m. Difficulty in interpreting the decisions made by the network\n",
       "\u001b[1;36m4\u001b[0m. Risk of overfitting and underfitting\n",
       "\n",
       "Overall, deep learning has revolutionized the field of artificial intelligence and has enabled machines to perform \n",
       "tasks that were previously thought to be the exclusive domain of humans.\n"
      ]
     },
     "metadata": {},
     "output_type": "display_data"
    }
   ],
   "source": [
    "# Prompt to generate\n",
    "messages = [\n",
    "    {\"role\": \"system\", \"content\": \"You are a helpful assistant.\"},\n",
    "    {\"role\": \"user\", \"content\": \"What is deep learning?\"},\n",
    "]\n",
    "\n",
    "# Generation arguments\n",
    "parameters = {\n",
    "    \"model\": hf_model_id,  # model id is required\n",
    "    \"top_p\": 0.6,\n",
    "    \"temperature\": 0.9,\n",
    "    \"max_tokens\": 512,\n",
    "    \"stop\": [\"<|eot_id|>\"],\n",
    "}\n",
    "\n",
    "chat = predictor.predict({\"messages\": messages, **parameters})\n",
    "\n",
    "# Unpack and print response\n",
    "print(chat[\"choices\"][0][\"message\"][\"content\"].strip())"
   ]
  },
  {
   "cell_type": "markdown",
   "id": "3cdb619d-b402-46bf-9451-62f50f70e878",
   "metadata": {},
   "source": [
    "## Baseline average latency at various concurrency levels (Optional)\n",
    "\n",
    "<div class=\"alert alert-block alert-info\"><b>NOTE:</b> Running the following cell is optional<br/><br/>\n",
    "By capturing average latency across various concurrency levels, we can get a fair idea on after how many concurrent request does endpoint performance would degrade significantly.<br/><br/>\n",
    "Having this information can help define values for scaling policy accordingly.    \n",
    "</div>\n",
    "\n",
    "<div class=\"alert alert-block alert-info\">\n",
    "<b>INFO: ℹ️</b> Signal here is, at a given concurrency level you start to see average latency increase significantly.<br/>\n",
    "At this concurrency level the endpoint gets overloaded and cannot serve requests in a timely fashion.<br/>\n",
    "We use these values to set as threshold values for autoscaling.\n",
    "</div>"
   ]
  },
  {
   "cell_type": "code",
   "execution_count": 9,
   "id": "c7232ecd-bc78-4d0d-bf44-17c3e060cd99",
   "metadata": {
    "tags": []
   },
   "outputs": [
    {
     "data": {
      "text/html": [
       "<pre style=\"white-space:pre;overflow-x:auto;line-height:normal;font-family:Menlo,'DejaVu Sans Mono',consolas,'Courier New',monospace\"><span style=\"font-weight: bold\">Concurrency:</span> <span style=\"color: #008080; text-decoration-color: #008080; font-weight: bold\">10</span> requests, <span style=\"font-weight: bold\">Average latency:</span> <span style=\"color: #008080; text-decoration-color: #008080; font-weight: bold\">13.23</span> seconds\n",
       "</pre>\n"
      ],
      "text/plain": [
       "\u001b[1mConcurrency:\u001b[0m \u001b[1;36m10\u001b[0m requests, \u001b[1mAverage latency:\u001b[0m \u001b[1;36m13.23\u001b[0m seconds\n"
      ]
     },
     "metadata": {},
     "output_type": "display_data"
    },
    {
     "data": {
      "text/html": [
       "<pre style=\"white-space:pre;overflow-x:auto;line-height:normal;font-family:Menlo,'DejaVu Sans Mono',consolas,'Courier New',monospace\"><span style=\"font-weight: bold\">Concurrency:</span> <span style=\"color: #008080; text-decoration-color: #008080; font-weight: bold\">50</span> requests, <span style=\"font-weight: bold\">Average latency:</span> <span style=\"color: #008080; text-decoration-color: #008080; font-weight: bold\">19.06</span> seconds\n",
       "</pre>\n"
      ],
      "text/plain": [
       "\u001b[1mConcurrency:\u001b[0m \u001b[1;36m50\u001b[0m requests, \u001b[1mAverage latency:\u001b[0m \u001b[1;36m19.06\u001b[0m seconds\n"
      ]
     },
     "metadata": {},
     "output_type": "display_data"
    },
    {
     "data": {
      "text/html": [
       "<pre style=\"white-space:pre;overflow-x:auto;line-height:normal;font-family:Menlo,'DejaVu Sans Mono',consolas,'Courier New',monospace\"><span style=\"font-weight: bold\">Concurrency:</span> <span style=\"color: #008080; text-decoration-color: #008080; font-weight: bold\">75</span> requests, <span style=\"font-weight: bold\">Average latency:</span> <span style=\"color: #008080; text-decoration-color: #008080; font-weight: bold\">22.93</span> seconds\n",
       "</pre>\n"
      ],
      "text/plain": [
       "\u001b[1mConcurrency:\u001b[0m \u001b[1;36m75\u001b[0m requests, \u001b[1mAverage latency:\u001b[0m \u001b[1;36m22.93\u001b[0m seconds\n"
      ]
     },
     "metadata": {},
     "output_type": "display_data"
    },
    {
     "data": {
      "text/html": [
       "<pre style=\"white-space:pre;overflow-x:auto;line-height:normal;font-family:Menlo,'DejaVu Sans Mono',consolas,'Courier New',monospace\"><span style=\"font-weight: bold\">Concurrency:</span> <span style=\"color: #008080; text-decoration-color: #008080; font-weight: bold\">100</span> requests, <span style=\"font-weight: bold\">Average latency:</span> <span style=\"color: #008080; text-decoration-color: #008080; font-weight: bold\">27.82</span> seconds\n",
       "</pre>\n"
      ],
      "text/plain": [
       "\u001b[1mConcurrency:\u001b[0m \u001b[1;36m100\u001b[0m requests, \u001b[1mAverage latency:\u001b[0m \u001b[1;36m27.82\u001b[0m seconds\n"
      ]
     },
     "metadata": {},
     "output_type": "display_data"
    }
   ],
   "source": [
    "# Define list of prompts\n",
    "prompts = [\n",
    "    \"what is deep learning?\",\n",
    "    \"what are various inference modes in Amazon SageMaker?\",\n",
    "    \"Can I host Large language models on Amazon SageMaker?\",\n",
    "    \"Does Amazon SageMaker support TensorRT-LLM?\",\n",
    "    \"what is step scaling policy in the context of autoscaling ec2 instances on AWS?\",\n",
    "    \"Why is the sky blue?\",\n",
    "    \"List 5 benefits of incorporating limes into the diet.\",\n",
    "]\n",
    "\n",
    "# Test different concurrency levels and measure average latency\n",
    "concurrency_levels = [10, 50, 75, 100]  # Adjust these values as needed\n",
    "\n",
    "for concurrency_level in concurrency_levels:\n",
    "    try:\n",
    "        avg_latency = test_concurrency_level(\n",
    "            concurrency_level,\n",
    "            prompts,\n",
    "            messages,\n",
    "            parameters,\n",
    "            endpoint_name,\n",
    "            sagemaker_runtime_client,\n",
    "        )\n",
    "        print(\n",
    "            f\"[b]Concurrency:[/b] {concurrency_level} requests,\"\n",
    "            f\" [b]Average latency:[/b] {avg_latency:.2f} seconds\"\n",
    "        )\n",
    "    except Exception as e:\n",
    "        print(f\"[b]At Concurrency[/b] {concurrency_level} requests,\" f\"[b]Exception:[/b] \\n{e}\")\n",
    "        continue"
   ]
  },
  {
   "cell_type": "markdown",
   "id": "29f7a5ab-0264-4b12-8243-b4aa649335b7",
   "metadata": {},
   "source": [
    "---\n",
    "\n",
    "## Apply Step-Scaling autoscaling policies to endpoint\n",
    "\n",
    "- **Step 1:** Register Scalable Target\n",
    "- **Step 2:** Create Scale-Out Policy\n",
    "- **Step 3:** Create Scale-In Policy\n",
    "- **Step 4:** Create CloudWatch Alarms\n",
    "\n",
    "Define and apply the step-scaling policy for scaling out."
   ]
  },
  {
   "cell_type": "code",
   "execution_count": 10,
   "id": "1bbf762f-beec-42ed-9ff8-5b06f76269ab",
   "metadata": {
    "tags": []
   },
   "outputs": [
    {
     "data": {
      "text/html": [
       "<pre style=\"white-space:pre;overflow-x:auto;line-height:normal;font-family:Menlo,'DejaVu Sans Mono',consolas,'Courier New',monospace\">Resource ID: <span style=\"color: #000080; text-decoration-color: #000080; font-weight: bold\">endpoint/Llama3-8B-fas-943d7-28Jul2024/variant/AllTraffic</span>\n",
       "</pre>\n"
      ],
      "text/plain": [
       "Resource ID: \u001b[1;34mendpoint/Llama3-8B-fas-943d7-28Jul2024/variant/AllTraffic\u001b[0m\n"
      ]
     },
     "metadata": {},
     "output_type": "display_data"
    },
    {
     "data": {
      "text/html": [
       "<pre style=\"white-space:pre;overflow-x:auto;line-height:normal;font-family:Menlo,'DejaVu Sans Mono',consolas,'Courier New',monospace\">Scalable_target_arn:\n",
       "<span style=\"color: #008000; text-decoration-color: #008000; font-weight: bold\">arn:aws:application-autoscaling:us-east-1:057716757052:scalable-target/056ma2342ee9e13f4c46b2a2dc2b454b1edd</span>\n",
       "</pre>\n"
      ],
      "text/plain": [
       "Scalable_target_arn:\n",
       "\u001b[1;32marn:aws:application-autoscaling:us-east-\u001b[0m\u001b[1;32m1:0577\u001b[0m\u001b[1;32m16757052:scalable-target/056ma2342ee9e13f4c46b2a2dc2b454b1edd\u001b[0m\n"
      ]
     },
     "metadata": {},
     "output_type": "display_data"
    }
   ],
   "source": [
    "variant_name = \"AllTraffic\"\n",
    "as_min_capacity = 1\n",
    "as_max_capacity = 2\n",
    "\n",
    "resource_id = f\"endpoint/{endpoint_name}/variant/{variant_name}\"\n",
    "\n",
    "autoscaling_client = boto3.client(\"application-autoscaling\", region_name=region)\n",
    "\n",
    "# Register scalable target\n",
    "scalable_target = autoscaling_client.register_scalable_target(\n",
    "    ServiceNamespace=\"sagemaker\",\n",
    "    ResourceId=resource_id,\n",
    "    ScalableDimension=\"sagemaker:variant:DesiredInstanceCount\",\n",
    "    MinCapacity=as_min_capacity,\n",
    "    MaxCapacity=as_max_capacity,  # Replace with your desired maximum instances\n",
    ")\n",
    "\n",
    "scalable_target_arn = scalable_target[\"ScalableTargetARN\"]\n",
    "print(f\"Resource ID: [b blue]{resource_id}\")\n",
    "print(f\"Scalable_target_arn:\\n[b green]{scalable_target_arn}\")"
   ]
  },
  {
   "cell_type": "markdown",
   "id": "0af2e234-d1c7-4575-b943-5291c70c326d",
   "metadata": {},
   "source": [
    "### Create StepScaling <span style='color:green'>Scale-out</span> Policy"
   ]
  },
  {
   "cell_type": "code",
   "execution_count": 11,
   "id": "b35f32bf-126c-41ab-8213-10052f5351e4",
   "metadata": {
    "tags": []
   },
   "outputs": [
    {
     "data": {
      "text/html": [
       "<pre style=\"white-space:pre;overflow-x:auto;line-height:normal;font-family:Menlo,'DejaVu Sans Mono',consolas,'Courier New',monospace\">Step scaling policy ARN: \n",
       "<span style=\"color: #008000; text-decoration-color: #008000; font-style: italic\">arn:aws:autoscaling:us-east-</span><span style=\"color: #008000; text-decoration-color: #008000; font-weight: bold; font-style: italic\">1:0577</span><span style=\"color: #008000; text-decoration-color: #008000; font-style: italic\">16757052:scalingPolicy:</span><span style=\"color: #008000; text-decoration-color: #008000; font-style: italic\">a2342ee9-e13f-4c46-b2a2-dc2b454b1edd</span><span style=\"color: #008000; text-decoration-color: #008000; font-style: italic\">:resource/sagemaker/en</span>\n",
       "<span style=\"color: #008000; text-decoration-color: #008000; font-style: italic\">dpoint/Llama3-8B-fas-943d7-28Jul2024/variant/AllTraffic:policyName/Llama3-8B-fas-943d7-28Jul2024-ScaleOutPolicy</span>\n",
       "</pre>\n"
      ],
      "text/plain": [
       "Step scaling policy ARN: \n",
       "\u001b[3;32marn:aws:autoscaling:us-east-\u001b[0m\u001b[1;3;32m1:0577\u001b[0m\u001b[3;32m16757052:scalingPolicy:\u001b[0m\u001b[3;32ma2342ee9-e13f-4c46-b2a2-dc2b454b1edd\u001b[0m\u001b[3;32m:resource/sagemaker/en\u001b[0m\n",
       "\u001b[3;32mdpoint/Llama3-8B-fas-943d7-28Jul2024/variant/AllTraffic:policyName/Llama3-8B-fas-943d7-28Jul2024-ScaleOutPolicy\u001b[0m\n"
      ]
     },
     "metadata": {},
     "output_type": "display_data"
    }
   ],
   "source": [
    "# Configure step scaling scale-out policy\n",
    "scale_out_policy_response = autoscaling_client.put_scaling_policy(\n",
    "    PolicyName=f\"{endpoint_name}-ScaleOutPolicy\",\n",
    "    ServiceNamespace=\"sagemaker\",\n",
    "    ResourceId=resource_id,\n",
    "    ScalableDimension=\"sagemaker:variant:DesiredInstanceCount\",\n",
    "    PolicyType=\"StepScaling\",\n",
    "    StepScalingPolicyConfiguration={\n",
    "        \"AdjustmentType\": \"ChangeInCapacity\",\n",
    "        \"Cooldown\": 300,  # 5 minutes cooldown\n",
    "        \"MetricAggregationType\": \"Maximum\",\n",
    "        \"StepAdjustments\": [\n",
    "            {\n",
    "                \"MetricIntervalLowerBound\": 0,\n",
    "                \"MetricIntervalUpperBound\": 20,\n",
    "                \"ScalingAdjustment\": 1,  # Increase by one instance\n",
    "            },\n",
    "            {\n",
    "                \"MetricIntervalLowerBound\": 20,\n",
    "                \"ScalingAdjustment\": 2,  # Increase by 2 instances\n",
    "            },\n",
    "        ],\n",
    "    },\n",
    ")\n",
    "\n",
    "# print(scale_out_policy_response)\n",
    "scale_out_policy_arn = scale_out_policy_response[\"PolicyARN\"]\n",
    "print(f\"Step scaling policy ARN: [i green]{scale_out_policy_arn}[/i green]\")"
   ]
  },
  {
   "cell_type": "markdown",
   "id": "8cc40cae-fe85-4e3b-8bfe-c1ef238ea76f",
   "metadata": {},
   "source": [
    "### Create StepScaling <span style='color:green'>Scale-In</span> Policy"
   ]
  },
  {
   "cell_type": "code",
   "execution_count": 12,
   "id": "43b06c1e-c126-4203-b149-473e033ae879",
   "metadata": {
    "tags": []
   },
   "outputs": [
    {
     "data": {
      "text/html": [
       "<pre style=\"white-space:pre;overflow-x:auto;line-height:normal;font-family:Menlo,'DejaVu Sans Mono',consolas,'Courier New',monospace\">Step scaling policy ARN: \n",
       "<span style=\"color: #008000; text-decoration-color: #008000; font-style: italic\">arn:aws:autoscaling:us-east-</span><span style=\"color: #008000; text-decoration-color: #008000; font-weight: bold; font-style: italic\">1:0577</span><span style=\"color: #008000; text-decoration-color: #008000; font-style: italic\">16757052:scalingPolicy:</span><span style=\"color: #008000; text-decoration-color: #008000; font-style: italic\">a2342ee9-e13f-4c46-b2a2-dc2b454b1edd</span><span style=\"color: #008000; text-decoration-color: #008000; font-style: italic\">:resource/sagemaker/en</span>\n",
       "<span style=\"color: #008000; text-decoration-color: #008000; font-style: italic\">dpoint/Llama3-8B-fas-943d7-28Jul2024/variant/AllTraffic:policyName/Llama3-8B-fas-943d7-28Jul2024-ScaleInPolicy</span>\n",
       "</pre>\n"
      ],
      "text/plain": [
       "Step scaling policy ARN: \n",
       "\u001b[3;32marn:aws:autoscaling:us-east-\u001b[0m\u001b[1;3;32m1:0577\u001b[0m\u001b[3;32m16757052:scalingPolicy:\u001b[0m\u001b[3;32ma2342ee9-e13f-4c46-b2a2-dc2b454b1edd\u001b[0m\u001b[3;32m:resource/sagemaker/en\u001b[0m\n",
       "\u001b[3;32mdpoint/Llama3-8B-fas-943d7-28Jul2024/variant/AllTraffic:policyName/Llama3-8B-fas-943d7-28Jul2024-ScaleInPolicy\u001b[0m\n"
      ]
     },
     "metadata": {},
     "output_type": "display_data"
    }
   ],
   "source": [
    "scale_in_policy_response = autoscaling_client.put_scaling_policy(\n",
    "    PolicyName=f\"{endpoint_name}-ScaleInPolicy\",\n",
    "    ServiceNamespace=\"sagemaker\",\n",
    "    ResourceId=resource_id,\n",
    "    ScalableDimension=\"sagemaker:variant:DesiredInstanceCount\",\n",
    "    PolicyType=\"StepScaling\",\n",
    "    StepScalingPolicyConfiguration={\n",
    "        \"AdjustmentType\": \"ChangeInCapacity\",\n",
    "        \"Cooldown\": 300,  # Cooldown period after scale-in activity\n",
    "        \"MetricAggregationType\": \"Maximum\",\n",
    "        \"StepAdjustments\": [\n",
    "            {\n",
    "                \"MetricIntervalUpperBound\": 0,\n",
    "                \"MetricIntervalLowerBound\": -20,\n",
    "                \"ScalingAdjustment\": -1,  # Decrease by 1 instance\n",
    "            },\n",
    "            {\"MetricIntervalUpperBound\": -20, \"ScalingAdjustment\": -2},  # Decrease by 2 instances\n",
    "        ],\n",
    "    },\n",
    ")\n",
    "\n",
    "# print(scale_in_policy_response)\n",
    "scale_in_policy_arn = scale_in_policy_response[\"PolicyARN\"]\n",
    "print(f\"Step scaling policy ARN: [i green]{scale_in_policy_arn}[/i green]\")"
   ]
  },
  {
   "cell_type": "markdown",
   "id": "f3c3f1ec-f4cb-4a1f-ad4d-5e6a1d4f7aee",
   "metadata": {},
   "source": [
    "### Create CloudWatch alarms (Step-Scaling)\n",
    "\n",
    "Create CloudWatch Alarms using new <span style='color:green'><b>ConcurrentRequestsPerModel</b></span> high-resolution Metric."
   ]
  },
  {
   "cell_type": "code",
   "execution_count": 13,
   "id": "830fdea0-6d59-4369-8dc3-db301daacf5c",
   "metadata": {
    "tags": []
   },
   "outputs": [
    {
     "data": {
      "text/html": [
       "<pre style=\"white-space:pre;overflow-x:auto;line-height:normal;font-family:Menlo,'DejaVu Sans Mono',consolas,'Courier New',monospace\">CloudWatch alarm created for scale-out:\n",
       "<span style=\"color: #000080; text-decoration-color: #000080; font-weight: bold\">Step-Scaling-AlarmHigh-SageMaker:endpoint/Llama3-8B-fas-943d7-28Jul2024/variant/AllTraffic</span>\n",
       "</pre>\n"
      ],
      "text/plain": [
       "CloudWatch alarm created for scale-out:\n",
       "\u001b[1;34mStep-Scaling-AlarmHigh-SageMaker:endpoint/Llama3-8B-fas-943d7-28Jul2024/variant/AllTraffic\u001b[0m\n"
      ]
     },
     "metadata": {},
     "output_type": "display_data"
    },
    {
     "data": {
      "text/html": [
       "<pre style=\"white-space:pre;overflow-x:auto;line-height:normal;font-family:Menlo,'DejaVu Sans Mono',consolas,'Courier New',monospace\">CloudWatch alarm created for scale-in:\n",
       "<span style=\"color: #000080; text-decoration-color: #000080; font-weight: bold\">Step-Scaling-AlarmLow-SageMaker:endpoint/Llama3-8B-fas-943d7-28Jul2024/variant/AllTraffic</span>\n",
       "</pre>\n"
      ],
      "text/plain": [
       "CloudWatch alarm created for scale-in:\n",
       "\u001b[1;34mStep-Scaling-AlarmLow-SageMaker:endpoint/Llama3-8B-fas-943d7-28Jul2024/variant/AllTraffic\u001b[0m\n"
      ]
     },
     "metadata": {},
     "output_type": "display_data"
    }
   ],
   "source": [
    "# Define the alarm parameters for scale-out\n",
    "alarm_name_scale_out = f\"Step-Scaling-AlarmHigh-SageMaker:{resource_id}\"\n",
    "metric_name = \"ConcurrentRequestsPerModel\"\n",
    "namespace = \"AWS/SageMaker\"  # CloudWatch Namespace to write metric data\n",
    "statistic = \"Maximum\"\n",
    "period = 60  # 10 seconds\n",
    "evaluation_periods = 3\n",
    "threshold = 20.0  # Threshold for scale-out\n",
    "comparison_operator = \"GreaterThanOrEqualToThreshold\"\n",
    "dimensions = [\n",
    "    {\"Name\": \"EndpointName\", \"Value\": endpoint_name},\n",
    "    {\"Name\": \"VariantName\", \"Value\": \"AllTraffic\"},\n",
    "]\n",
    "alarm_actions = [scale_out_policy_response[\"PolicyARN\"]]\n",
    "treat_missing_data = \"ignore\"\n",
    "\n",
    "# create CloudWatch alarm for scale-out\n",
    "response = cloudwatch_client.put_metric_alarm(\n",
    "    AlarmName=alarm_name_scale_out,\n",
    "    MetricName=metric_name,\n",
    "    Namespace=namespace,\n",
    "    Statistic=statistic,\n",
    "    Period=period,\n",
    "    EvaluationPeriods=evaluation_periods,\n",
    "    Threshold=threshold,\n",
    "    ComparisonOperator=comparison_operator,\n",
    "    Dimensions=dimensions,\n",
    "    AlarmActions=alarm_actions,\n",
    "    TreatMissingData=treat_missing_data,\n",
    ")\n",
    "\n",
    "print(f\"CloudWatch alarm created for scale-out:\\n[b blue]{alarm_name_scale_out}\")\n",
    "\n",
    "# Define the alarm parameters for scale-in\n",
    "alarm_name_scale_in = f\"Step-Scaling-AlarmLow-SageMaker:{resource_id}\"\n",
    "comparison_operator = \"LessThanOrEqualToThreshold\"\n",
    "threshold = 10.0  # Adjust based on your requirements\n",
    "alarm_actions = [scale_in_policy_response[\"PolicyARN\"]]\n",
    "\n",
    "# Create CloudWatch alarm for scale-in\n",
    "response = cloudwatch_client.put_metric_alarm(\n",
    "    AlarmName=alarm_name_scale_in,\n",
    "    MetricName=metric_name,\n",
    "    Namespace=namespace,\n",
    "    Statistic=statistic,\n",
    "    Period=period,\n",
    "    EvaluationPeriods=evaluation_periods,\n",
    "    Threshold=threshold,\n",
    "    ComparisonOperator=comparison_operator,\n",
    "    Dimensions=dimensions,\n",
    "    AlarmActions=alarm_actions,\n",
    "    TreatMissingData=treat_missing_data,\n",
    ")\n",
    "\n",
    "print(f\"CloudWatch alarm created for scale-in:\\n[b blue]{alarm_name_scale_in}\")"
   ]
  },
  {
   "cell_type": "markdown",
   "id": "d27a4cba-8aec-4b5c-b9ea-97d4ea82d9f0",
   "metadata": {
    "tags": []
   },
   "source": [
    "## Trigger autoscaling action\n",
    "\n",
    "### Use LLMPerf to generate traffic to the endpoint\n",
    "\n",
    "Refer to <https://github.com/philschmid/llmperf> for more details on LLMPerf.\n",
    "\n",
    "Run the LLMPerf traffic generation script in the background using `subprocess.Popen`\n",
    "\n",
    "<div class=\"alert alert-block alert-info\">\n",
    "<b>INFO:ℹ️</b> Refer to <a href=\"utils/llmperf.py\">utils.llmperf</a> for `trigger_autoscaling` function implementation\n",
    "</div>\n",
    "\n",
    "\n",
    "### Monitor Alarm Trigger times and Scaling event times\n",
    "As llmperf generates traffic to the endpoint continuously this trigger auto-scaling.\n",
    "\n",
    "The `monitor_scaling_events` function does the following:\n",
    "- Calculates time taken for alarm to go into InAlarm state.\n",
    "- checks if alarm is InAlarm state. If yes, then starts the scaling timer\n",
    "- continuously monitors the `DesiredInstanceCount` property of the endpoint\n",
    "  - waits till `CurrentInstanceCount == DesiredInstanceCount` and `EndpointStatus` is `InService`\n",
    "- Calculates time taken to scale out instances prints the times in a table\n",
    "\n",
    "The below cell triggers auto scaling action and calls the monitor_scaling_events immediately on the AlarmHigh\n",
    "\n",
    "<div class=\"alert alert-block alert-info\">\n",
    "<b>INFO:ℹ️</b> Refer to <a href=\"utils/autoscaling.py\">utils.autoscaling</a> for `monitor_scaling_events` function implementation\n",
    "</div>\n",
    "\n",
    "<div class=\"alert alert-block alert-info\">\n",
    "<b>NOTE: ⚠️</b>Per the <b>ScaleOut</b> Alarm, scale-out actions only start after the threshold of <b>ConcurrentRequestsPerModel >= 20</b> for 3 datapoints within <b>3 minutes</b> is breached.\n",
    "</div>"
   ]
  },
  {
   "cell_type": "code",
   "execution_count": 15,
   "id": "46d00ca1-f058-4dfb-9993-e231b58e413c",
   "metadata": {
    "tags": []
   },
   "outputs": [
    {
     "data": {
      "text/html": [
       "<pre style=\"white-space:pre;overflow-x:auto;line-height:normal;font-family:Menlo,'DejaVu Sans Mono',consolas,'Courier New',monospace\">Calling LLMPerf shell script: \n",
       "<span style=\"color: #800080; text-decoration-color: #800080\">/home/ec2-user/SageMaker/aws-ai-ml-workshop-kr/genai/aws-gen-ai-kr/30_fine_tune/03-fine-tune-llama3/notebook/02-nav</span>\n",
       "<span style=\"color: #800080; text-decoration-color: #800080\">er-news-llama3-inference/backup/01-Llama3-8B-Autoscaling/</span><span style=\"color: #ff00ff; text-decoration-color: #ff00ff\">trigger_autoscaling.sh</span>\n",
       "</pre>\n"
      ],
      "text/plain": [
       "Calling LLMPerf shell script: \n",
       "\u001b[35m/home/ec2-user/SageMaker/aws-ai-ml-workshop-kr/genai/aws-gen-ai-kr/30_fine_tune/03-fine-tune-llama3/notebook/02-nav\u001b[0m\n",
       "\u001b[35mer-news-llama3-inference/backup/01-Llama3-8B-Autoscaling/\u001b[0m\u001b[95mtrigger_autoscaling.sh\u001b[0m\n"
      ]
     },
     "metadata": {},
     "output_type": "display_data"
    },
    {
     "data": {
      "text/html": [
       "<pre style=\"white-space:pre;overflow-x:auto;line-height:normal;font-family:Menlo,'DejaVu Sans Mono',consolas,'Courier New',monospace\">Launching LLMPerf with <span style=\"color: #008080; text-decoration-color: #008080; font-weight: bold\">100</span> concurrent requests\n",
       "</pre>\n"
      ],
      "text/plain": [
       "Launching LLMPerf with \u001b[1;36m100\u001b[0m concurrent requests\n"
      ]
     },
     "metadata": {},
     "output_type": "display_data"
    },
    {
     "data": {
      "text/html": [
       "<pre style=\"white-space:pre;overflow-x:auto;line-height:normal;font-family:Menlo,'DejaVu Sans Mono',consolas,'Courier New',monospace\"><span style=\"color: #008000; text-decoration-color: #008000; font-weight: bold\">Process ID for LLMPerf: </span><span style=\"color: #008000; text-decoration-color: #008000; font-weight: bold\">34324</span>\n",
       "</pre>\n"
      ],
      "text/plain": [
       "\u001b[1;32mProcess ID for LLMPerf: \u001b[0m\u001b[1;32m34324\u001b[0m\n"
      ]
     },
     "metadata": {},
     "output_type": "display_data"
    },
    {
     "data": {
      "text/html": [
       "<pre style=\"white-space:pre;overflow-x:auto;line-height:normal;font-family:Menlo,'DejaVu Sans Mono',consolas,'Courier New',monospace\">Initial instance count: <span style=\"color: #008080; text-decoration-color: #008080; font-weight: bold\">1</span>\n",
       "</pre>\n"
      ],
      "text/plain": [
       "Initial instance count: \u001b[1;36m1\u001b[0m\n"
      ]
     },
     "metadata": {},
     "output_type": "display_data"
    },
    {
     "data": {
      "text/html": [
       "<pre style=\"white-space:pre;overflow-x:auto;line-height:normal;font-family:Menlo,'DejaVu Sans Mono',consolas,'Courier New',monospace\">Tracking Alarm: <span style=\"color: #008000; text-decoration-color: #008000; font-style: italic\">Step-Scaling-AlarmHigh-SageMaker:endpoint/Llama3-8B-fas-943d7-28Jul2024/variant/AllTraffic</span>\n",
       "</pre>\n"
      ],
      "text/plain": [
       "Tracking Alarm: \u001b[3;32mStep-Scaling-AlarmHigh-SageMaker:endpoint/Llama3-8B-fas-943d7-28Jul2024/variant/AllTraffic\u001b[0m\n"
      ]
     },
     "metadata": {},
     "output_type": "display_data"
    },
    {
     "data": {
      "application/vnd.jupyter.widget-view+json": {
       "model_id": "802746bff4bf422cbbaf25d0f67ea1e1",
       "version_major": 2,
       "version_minor": 0
      },
      "text/plain": [
       "Output()"
      ]
     },
     "metadata": {},
     "output_type": "display_data"
    },
    {
     "data": {
      "text/html": [
       "<pre style=\"white-space:pre;overflow-x:auto;line-height:normal;font-family:Menlo,'DejaVu Sans Mono',consolas,'Courier New',monospace\"></pre>\n"
      ],
      "text/plain": []
     },
     "metadata": {},
     "output_type": "display_data"
    },
    {
     "data": {
      "text/html": [
       "<pre style=\"white-space:pre;overflow-x:auto;line-height:normal;font-family:Menlo,'DejaVu Sans Mono',consolas,'Courier New',monospace\">\n",
       "</pre>\n"
      ],
      "text/plain": [
       "\n"
      ]
     },
     "metadata": {},
     "output_type": "display_data"
    },
    {
     "data": {
      "text/html": [
       "<pre style=\"white-space:pre;overflow-x:auto;line-height:normal;font-family:Menlo,'DejaVu Sans Mono',consolas,'Courier New',monospace\"><span style=\"font-style: italic\">                  Scaling Times                   </span>\n",
       "┏━━━━━━━━━━━━━━━━━━━━━━━┳━━━━━━━━━━━━━━━━━━━━━━━━┓\n",
       "┃<span style=\"font-weight: bold\"> Target Instance Count </span>┃<span style=\"font-weight: bold\"> Scaling Time (seconds) </span>┃\n",
       "┡━━━━━━━━━━━━━━━━━━━━━━━╇━━━━━━━━━━━━━━━━━━━━━━━━┩\n",
       "│<span style=\"color: #008080; text-decoration-color: #008080\">                     2 </span>│<span style=\"color: #800080; text-decoration-color: #800080\">                 443.06 </span>│\n",
       "└───────────────────────┴────────────────────────┘\n",
       "</pre>\n"
      ],
      "text/plain": [
       "\u001b[3m                  Scaling Times                   \u001b[0m\n",
       "┏━━━━━━━━━━━━━━━━━━━━━━━┳━━━━━━━━━━━━━━━━━━━━━━━━┓\n",
       "┃\u001b[1m \u001b[0m\u001b[1mTarget Instance Count\u001b[0m\u001b[1m \u001b[0m┃\u001b[1m \u001b[0m\u001b[1mScaling Time (seconds)\u001b[0m\u001b[1m \u001b[0m┃\n",
       "┡━━━━━━━━━━━━━━━━━━━━━━━╇━━━━━━━━━━━━━━━━━━━━━━━━┩\n",
       "│\u001b[36m \u001b[0m\u001b[36m                    2\u001b[0m\u001b[36m \u001b[0m│\u001b[35m \u001b[0m\u001b[35m                443.06\u001b[0m\u001b[35m \u001b[0m│\n",
       "└───────────────────────┴────────────────────────┘\n"
      ]
     },
     "metadata": {},
     "output_type": "display_data"
    }
   ],
   "source": [
    "# Trigger LLMPerf script to generate traffic to endpoint\n",
    "num_concurrent_requests = 100\n",
    "# LLMperf requires session credentials be passed in via environment variables.\n",
    "# We'll use the current session to get these credentials.\n",
    "creds = boto_session.get_credentials()\n",
    "process = trigger_auto_scaling(creds, region, endpoint_name, num_concurrent_requests)\n",
    "print(f\"[b green]Process ID for LLMPerf: {process.pid}\")\n",
    "\n",
    "# Start monitoring scaling events\n",
    "SLEEP_TIME = 5  # time to sleep\n",
    "scaling_times = monitor_scaling_events(\n",
    "    endpoint_name, alarm_name_scale_out, SLEEP_TIME, cloudwatch_client, sagemaker_client\n",
    ")\n",
    "\n",
    "# Print scaling times\n",
    "console = Console()\n",
    "table = print_scaling_times(scaling_times)\n",
    "console.print(table)"
   ]
  },
  {
   "cell_type": "markdown",
   "id": "d8b43ce1-dde3-42aa-9cbe-0716b5f85496",
   "metadata": {},
   "source": [
    "### Monitor if the background process (llmperf) is completed."
   ]
  },
  {
   "cell_type": "code",
   "execution_count": 16,
   "id": "93abbbca-a3b4-49ee-9994-8ccfe7a13874",
   "metadata": {
    "scrolled": true,
    "tags": []
   },
   "outputs": [
    {
     "data": {
      "text/html": [
       "<pre style=\"white-space:pre;overflow-x:auto;line-height:normal;font-family:Menlo,'DejaVu Sans Mono',consolas,'Courier New',monospace\">Process <span style=\"color: #008080; text-decoration-color: #008080; font-weight: bold\">34324</span> finished with return code <span style=\"color: #008080; text-decoration-color: #008080; font-weight: bold\">0</span>\n",
       "</pre>\n"
      ],
      "text/plain": [
       "Process \u001b[1;36m34324\u001b[0m finished with return code \u001b[1;36m0\u001b[0m\n"
      ]
     },
     "metadata": {},
     "output_type": "display_data"
    },
    {
     "data": {
      "text/html": [
       "<pre style=\"white-space:pre;overflow-x:auto;line-height:normal;font-family:Menlo,'DejaVu Sans Mono',consolas,'Courier New',monospace\">Process output:\n",
       "Installing llmperf<span style=\"color: #808000; text-decoration-color: #808000\">...</span>\n",
       "Created results directory.\n",
       "Starting benchmarking scripts on endpoint Llama3-8B-fas-943d7-28Jul2024 <span style=\"color: #808000; text-decoration-color: #808000\">...</span>\n",
       "\u001b<span style=\"font-weight: bold\">[</span><span style=\"color: #800080; text-decoration-color: #800080; font-weight: bold\">33m</span><span style=\"font-weight: bold\">(</span>raylet<span style=\"font-weight: bold\">)</span>\u001b<span style=\"font-weight: bold\">[</span>0m WARNING: <span style=\"color: #008080; text-decoration-color: #008080; font-weight: bold\">208</span> PYTHON worker processes have been started on node: \n",
       "64b995eb347fec5e59979463b391dfce353cef482715c69e6b81af1d with address: <span style=\"color: #00ff00; text-decoration-color: #00ff00; font-weight: bold\">172.16.34.227</span>. This could be a result of \n",
       "using a large number of actors, or due to tasks blocked in <span style=\"color: #800080; text-decoration-color: #800080; font-weight: bold\">ray.get</span><span style=\"font-weight: bold\">()</span> calls <span style=\"font-weight: bold\">(</span>see \n",
       "<span style=\"color: #0000ff; text-decoration-color: #0000ff; text-decoration: underline\">https://github.com/ray-project/ray/issues/3644</span> for some discussion of workarounds<span style=\"font-weight: bold\">)</span>.\n",
       "\\Results for token benchmark for Llama3-8B-fas-943d7-28Jul2024 queried with the sagemaker api.\n",
       "\n",
       "inter_token_latency_s\n",
       "    p25 = <span style=\"color: #008080; text-decoration-color: #008080; font-weight: bold\">0.020475325386183834</span>\n",
       "    p50 = <span style=\"color: #008080; text-decoration-color: #008080; font-weight: bold\">0.028829880094834434</span>\n",
       "    p75 = <span style=\"color: #008080; text-decoration-color: #008080; font-weight: bold\">0.03611504707108087</span>\n",
       "    p90 = <span style=\"color: #008080; text-decoration-color: #008080; font-weight: bold\">0.04241175232478333</span>\n",
       "    p95 = <span style=\"color: #008080; text-decoration-color: #008080; font-weight: bold\">0.04829074106144375</span>\n",
       "    p99 = <span style=\"color: #008080; text-decoration-color: #008080; font-weight: bold\">0.06677857892707872</span>\n",
       "    mean = <span style=\"color: #008080; text-decoration-color: #008080; font-weight: bold\">0.02925097575645347</span>\n",
       "    min = <span style=\"color: #008080; text-decoration-color: #008080; font-weight: bold\">0.001577030753329377</span>\n",
       "    max = <span style=\"color: #008080; text-decoration-color: #008080; font-weight: bold\">0.12492993504261482</span>\n",
       "    stddev = <span style=\"color: #008080; text-decoration-color: #008080; font-weight: bold\">0.012148928824402251</span>\n",
       "ttft_s\n",
       "    p25 = <span style=\"color: #008080; text-decoration-color: #008080; font-weight: bold\">4.4758880930021405</span>\n",
       "    p50 = <span style=\"color: #008080; text-decoration-color: #008080; font-weight: bold\">9.728483260958456</span>\n",
       "    p75 = <span style=\"color: #008080; text-decoration-color: #008080; font-weight: bold\">15.018789877707604</span>\n",
       "    p90 = <span style=\"color: #008080; text-decoration-color: #008080; font-weight: bold\">15.032955799181945</span>\n",
       "    p95 = <span style=\"color: #008080; text-decoration-color: #008080; font-weight: bold\">15.052059391268994</span>\n",
       "    p99 = <span style=\"color: #008080; text-decoration-color: #008080; font-weight: bold\">15.056359737468883</span>\n",
       "    mean = <span style=\"color: #008080; text-decoration-color: #008080; font-weight: bold\">9.17332076690183</span>\n",
       "    min = <span style=\"color: #008080; text-decoration-color: #008080; font-weight: bold\">0.12697537010535598</span>\n",
       "    max = <span style=\"color: #008080; text-decoration-color: #008080; font-weight: bold\">15.110806497046724</span>\n",
       "    stddev = <span style=\"color: #008080; text-decoration-color: #008080; font-weight: bold\">5.12268800563835</span>\n",
       "end_to_end_latency_s\n",
       "    p25 = <span style=\"color: #008080; text-decoration-color: #008080; font-weight: bold\">14.16301876725629</span>\n",
       "    p50 = <span style=\"color: #008080; text-decoration-color: #008080; font-weight: bold\">20.16649883845821</span>\n",
       "    p75 = <span style=\"color: #008080; text-decoration-color: #008080; font-weight: bold\">24.805583854671568</span>\n",
       "    p90 = <span style=\"color: #008080; text-decoration-color: #008080; font-weight: bold\">27.442988431616687</span>\n",
       "    p95 = <span style=\"color: #008080; text-decoration-color: #008080; font-weight: bold\">28.690741551946843</span>\n",
       "    p99 = <span style=\"color: #008080; text-decoration-color: #008080; font-weight: bold\">31.441285775075666</span>\n",
       "    mean = <span style=\"color: #008080; text-decoration-color: #008080; font-weight: bold\">19.280672544163185</span>\n",
       "    min = <span style=\"color: #008080; text-decoration-color: #008080; font-weight: bold\">1.2208690058905631</span>\n",
       "    max = <span style=\"color: #008080; text-decoration-color: #008080; font-weight: bold\">34.318980051903054</span>\n",
       "    stddev = <span style=\"color: #008080; text-decoration-color: #008080; font-weight: bold\">6.767100030438725</span>\n",
       "request_output_throughput_token_per_s\n",
       "    p25 = <span style=\"color: #008080; text-decoration-color: #008080; font-weight: bold\">27.689091364060328</span>\n",
       "    p50 = <span style=\"color: #008080; text-decoration-color: #008080; font-weight: bold\">34.68598527958418</span>\n",
       "    p75 = <span style=\"color: #008080; text-decoration-color: #008080; font-weight: bold\">48.83876679673854</span>\n",
       "    p90 = <span style=\"color: #008080; text-decoration-color: #008080; font-weight: bold\">66.82974991560069</span>\n",
       "    p95 = <span style=\"color: #008080; text-decoration-color: #008080; font-weight: bold\">85.83036127207903</span>\n",
       "    p99 = <span style=\"color: #008080; text-decoration-color: #008080; font-weight: bold\">136.80032409113423</span>\n",
       "    mean = <span style=\"color: #008080; text-decoration-color: #008080; font-weight: bold\">42.31630010904782</span>\n",
       "    min = <span style=\"color: #008080; text-decoration-color: #008080; font-weight: bold\">8.004436337928507</span>\n",
       "    max = <span style=\"color: #008080; text-decoration-color: #008080; font-weight: bold\">633.9746494222823</span>\n",
       "    stddev = <span style=\"color: #008080; text-decoration-color: #008080; font-weight: bold\">30.3626819534128</span>\n",
       "number_input_tokens\n",
       "    p25 = <span style=\"color: #008080; text-decoration-color: #008080; font-weight: bold\">446.75</span>\n",
       "    p50 = <span style=\"color: #008080; text-decoration-color: #008080; font-weight: bold\">552.0</span>\n",
       "    p75 = <span style=\"color: #008080; text-decoration-color: #008080; font-weight: bold\">649.25</span>\n",
       "    p90 = <span style=\"color: #008080; text-decoration-color: #008080; font-weight: bold\">749.1</span>\n",
       "    p95 = <span style=\"color: #008080; text-decoration-color: #008080; font-weight: bold\">804.0</span>\n",
       "    p99 = <span style=\"color: #008080; text-decoration-color: #008080; font-weight: bold\">905.06</span>\n",
       "    mean = <span style=\"color: #008080; text-decoration-color: #008080; font-weight: bold\">549.807</span>\n",
       "    min = <span style=\"color: #008080; text-decoration-color: #008080; font-weight: bold\">127</span>\n",
       "    max = <span style=\"color: #008080; text-decoration-color: #008080; font-weight: bold\">994</span>\n",
       "    stddev = <span style=\"color: #008080; text-decoration-color: #008080; font-weight: bold\">152.46478695837368</span>\n",
       "number_output_tokens\n",
       "    p25 = <span style=\"color: #008080; text-decoration-color: #008080; font-weight: bold\">577.0</span>\n",
       "    p50 = <span style=\"color: #008080; text-decoration-color: #008080; font-weight: bold\">688.0</span>\n",
       "    p75 = <span style=\"color: #008080; text-decoration-color: #008080; font-weight: bold\">794.25</span>\n",
       "    p90 = <span style=\"color: #008080; text-decoration-color: #008080; font-weight: bold\">913.1</span>\n",
       "    p95 = <span style=\"color: #008080; text-decoration-color: #008080; font-weight: bold\">975.3499999999997</span>\n",
       "    p99 = <span style=\"color: #008080; text-decoration-color: #008080; font-weight: bold\">1102.12</span>\n",
       "    mean = <span style=\"color: #008080; text-decoration-color: #008080; font-weight: bold\">688.306</span>\n",
       "    min = <span style=\"color: #008080; text-decoration-color: #008080; font-weight: bold\">177</span>\n",
       "    max = <span style=\"color: #008080; text-decoration-color: #008080; font-weight: bold\">1198</span>\n",
       "    stddev = <span style=\"color: #008080; text-decoration-color: #008080; font-weight: bold\">171.57297470653603</span>\n",
       "Number Of Errored Requests: <span style=\"color: #008080; text-decoration-color: #008080; font-weight: bold\">0</span>\n",
       "Overall Output Throughput: <span style=\"color: #008080; text-decoration-color: #008080; font-weight: bold\">1632.563490540167</span>\n",
       "Number Of Completed Requests: <span style=\"color: #008080; text-decoration-color: #008080; font-weight: bold\">1000</span>\n",
       "Completed Requests Per Minute: <span style=\"color: #008080; text-decoration-color: #008080; font-weight: bold\">142.3114275226571</span>\n",
       "\u001b<span style=\"font-weight: bold\">[</span><span style=\"color: #800080; text-decoration-color: #800080; font-weight: bold\">33m</span><span style=\"font-weight: bold\">(</span>raylet<span style=\"font-weight: bold\">)</span>\u001b<span style=\"font-weight: bold\">[</span>0m WARNING: <span style=\"color: #008080; text-decoration-color: #008080; font-weight: bold\">280</span> PYTHON worker processes have been started on node: \n",
       "64b995eb347fec5e59979463b391dfce353cef482715c69e6b81af1d with address: <span style=\"color: #00ff00; text-decoration-color: #00ff00; font-weight: bold\">172.16.34.227</span>. This could be a result of \n",
       "using a large number of actors, or due to tasks blocked in <span style=\"color: #800080; text-decoration-color: #800080; font-weight: bold\">ray.get</span><span style=\"font-weight: bold\">()</span> calls <span style=\"font-weight: bold\">(</span>see \n",
       "<span style=\"color: #0000ff; text-decoration-color: #0000ff; text-decoration: underline\">https://github.com/ray-project/ray/issues/3644</span> for some discussion of workarounds<span style=\"font-weight: bold\">)</span>.\n",
       "Execution time was <span style=\"color: #008080; text-decoration-color: #008080; font-weight: bold\">429</span> secs.\n",
       "\n",
       "</pre>\n"
      ],
      "text/plain": [
       "Process output:\n",
       "Installing llmperf\u001b[33m...\u001b[0m\n",
       "Created results directory.\n",
       "Starting benchmarking scripts on endpoint Llama3-8B-fas-943d7-28Jul2024 \u001b[33m...\u001b[0m\n",
       "\u001b\u001b[1m[\u001b[0m\u001b[1;35m33m\u001b[0m\u001b[1m(\u001b[0mraylet\u001b[1m)\u001b[0m\u001b\u001b[1m[\u001b[0m0m WARNING: \u001b[1;36m208\u001b[0m PYTHON worker processes have been started on node: \n",
       "64b995eb347fec5e59979463b391dfce353cef482715c69e6b81af1d with address: \u001b[1;92m172.16.34.227\u001b[0m. This could be a result of \n",
       "using a large number of actors, or due to tasks blocked in \u001b[1;35mray.get\u001b[0m\u001b[1m(\u001b[0m\u001b[1m)\u001b[0m calls \u001b[1m(\u001b[0msee \n",
       "\u001b[4;94mhttps://github.com/ray-project/ray/issues/3644\u001b[0m for some discussion of workarounds\u001b[1m)\u001b[0m.\n",
       "\\Results for token benchmark for Llama3-8B-fas-943d7-28Jul2024 queried with the sagemaker api.\n",
       "\n",
       "inter_token_latency_s\n",
       "    p25 = \u001b[1;36m0.020475325386183834\u001b[0m\n",
       "    p50 = \u001b[1;36m0.028829880094834434\u001b[0m\n",
       "    p75 = \u001b[1;36m0.03611504707108087\u001b[0m\n",
       "    p90 = \u001b[1;36m0.04241175232478333\u001b[0m\n",
       "    p95 = \u001b[1;36m0.04829074106144375\u001b[0m\n",
       "    p99 = \u001b[1;36m0.06677857892707872\u001b[0m\n",
       "    mean = \u001b[1;36m0.02925097575645347\u001b[0m\n",
       "    min = \u001b[1;36m0.001577030753329377\u001b[0m\n",
       "    max = \u001b[1;36m0.12492993504261482\u001b[0m\n",
       "    stddev = \u001b[1;36m0.012148928824402251\u001b[0m\n",
       "ttft_s\n",
       "    p25 = \u001b[1;36m4.4758880930021405\u001b[0m\n",
       "    p50 = \u001b[1;36m9.728483260958456\u001b[0m\n",
       "    p75 = \u001b[1;36m15.018789877707604\u001b[0m\n",
       "    p90 = \u001b[1;36m15.032955799181945\u001b[0m\n",
       "    p95 = \u001b[1;36m15.052059391268994\u001b[0m\n",
       "    p99 = \u001b[1;36m15.056359737468883\u001b[0m\n",
       "    mean = \u001b[1;36m9.17332076690183\u001b[0m\n",
       "    min = \u001b[1;36m0.12697537010535598\u001b[0m\n",
       "    max = \u001b[1;36m15.110806497046724\u001b[0m\n",
       "    stddev = \u001b[1;36m5.12268800563835\u001b[0m\n",
       "end_to_end_latency_s\n",
       "    p25 = \u001b[1;36m14.16301876725629\u001b[0m\n",
       "    p50 = \u001b[1;36m20.16649883845821\u001b[0m\n",
       "    p75 = \u001b[1;36m24.805583854671568\u001b[0m\n",
       "    p90 = \u001b[1;36m27.442988431616687\u001b[0m\n",
       "    p95 = \u001b[1;36m28.690741551946843\u001b[0m\n",
       "    p99 = \u001b[1;36m31.441285775075666\u001b[0m\n",
       "    mean = \u001b[1;36m19.280672544163185\u001b[0m\n",
       "    min = \u001b[1;36m1.2208690058905631\u001b[0m\n",
       "    max = \u001b[1;36m34.318980051903054\u001b[0m\n",
       "    stddev = \u001b[1;36m6.767100030438725\u001b[0m\n",
       "request_output_throughput_token_per_s\n",
       "    p25 = \u001b[1;36m27.689091364060328\u001b[0m\n",
       "    p50 = \u001b[1;36m34.68598527958418\u001b[0m\n",
       "    p75 = \u001b[1;36m48.83876679673854\u001b[0m\n",
       "    p90 = \u001b[1;36m66.82974991560069\u001b[0m\n",
       "    p95 = \u001b[1;36m85.83036127207903\u001b[0m\n",
       "    p99 = \u001b[1;36m136.80032409113423\u001b[0m\n",
       "    mean = \u001b[1;36m42.31630010904782\u001b[0m\n",
       "    min = \u001b[1;36m8.004436337928507\u001b[0m\n",
       "    max = \u001b[1;36m633.9746494222823\u001b[0m\n",
       "    stddev = \u001b[1;36m30.3626819534128\u001b[0m\n",
       "number_input_tokens\n",
       "    p25 = \u001b[1;36m446.75\u001b[0m\n",
       "    p50 = \u001b[1;36m552.0\u001b[0m\n",
       "    p75 = \u001b[1;36m649.25\u001b[0m\n",
       "    p90 = \u001b[1;36m749.1\u001b[0m\n",
       "    p95 = \u001b[1;36m804.0\u001b[0m\n",
       "    p99 = \u001b[1;36m905.06\u001b[0m\n",
       "    mean = \u001b[1;36m549.807\u001b[0m\n",
       "    min = \u001b[1;36m127\u001b[0m\n",
       "    max = \u001b[1;36m994\u001b[0m\n",
       "    stddev = \u001b[1;36m152.46478695837368\u001b[0m\n",
       "number_output_tokens\n",
       "    p25 = \u001b[1;36m577.0\u001b[0m\n",
       "    p50 = \u001b[1;36m688.0\u001b[0m\n",
       "    p75 = \u001b[1;36m794.25\u001b[0m\n",
       "    p90 = \u001b[1;36m913.1\u001b[0m\n",
       "    p95 = \u001b[1;36m975.3499999999997\u001b[0m\n",
       "    p99 = \u001b[1;36m1102.12\u001b[0m\n",
       "    mean = \u001b[1;36m688.306\u001b[0m\n",
       "    min = \u001b[1;36m177\u001b[0m\n",
       "    max = \u001b[1;36m1198\u001b[0m\n",
       "    stddev = \u001b[1;36m171.57297470653603\u001b[0m\n",
       "Number Of Errored Requests: \u001b[1;36m0\u001b[0m\n",
       "Overall Output Throughput: \u001b[1;36m1632.563490540167\u001b[0m\n",
       "Number Of Completed Requests: \u001b[1;36m1000\u001b[0m\n",
       "Completed Requests Per Minute: \u001b[1;36m142.3114275226571\u001b[0m\n",
       "\u001b\u001b[1m[\u001b[0m\u001b[1;35m33m\u001b[0m\u001b[1m(\u001b[0mraylet\u001b[1m)\u001b[0m\u001b\u001b[1m[\u001b[0m0m WARNING: \u001b[1;36m280\u001b[0m PYTHON worker processes have been started on node: \n",
       "64b995eb347fec5e59979463b391dfce353cef482715c69e6b81af1d with address: \u001b[1;92m172.16.34.227\u001b[0m. This could be a result of \n",
       "using a large number of actors, or due to tasks blocked in \u001b[1;35mray.get\u001b[0m\u001b[1m(\u001b[0m\u001b[1m)\u001b[0m calls \u001b[1m(\u001b[0msee \n",
       "\u001b[4;94mhttps://github.com/ray-project/ray/issues/3644\u001b[0m for some discussion of workarounds\u001b[1m)\u001b[0m.\n",
       "Execution time was \u001b[1;36m429\u001b[0m secs.\n",
       "\n"
      ]
     },
     "metadata": {},
     "output_type": "display_data"
    },
    {
     "data": {
      "text/html": [
       "<pre style=\"white-space:pre;overflow-x:auto;line-height:normal;font-family:Menlo,'DejaVu Sans Mono',consolas,'Courier New',monospace\">Process errors:\n",
       "Cloning into <span style=\"color: #008000; text-decoration-color: #008000\">'llmperf'</span><span style=\"color: #808000; text-decoration-color: #808000\">...</span>\n",
       "\u001b<span style=\"font-weight: bold\">[</span>2mResolved \u001b<span style=\"font-weight: bold\">[</span>1m104 packages\u001b<span style=\"font-weight: bold\">[</span>0m in <span style=\"color: #008080; text-decoration-color: #008080; font-weight: bold\">1.</span>15s\u001b<span style=\"font-weight: bold\">[</span>0m\n",
       "\u001b<span style=\"font-weight: bold\">[</span>2mDownloaded \u001b<span style=\"font-weight: bold\">[</span>1m38 packages\u001b<span style=\"font-weight: bold\">[</span>0m in <span style=\"color: #008080; text-decoration-color: #008080; font-weight: bold\">1.</span>54s\u001b<span style=\"font-weight: bold\">[</span>0m\n",
       "\u001b<span style=\"font-weight: bold\">[</span>2mUninstalled \u001b<span style=\"font-weight: bold\">[</span>1m2 packages\u001b<span style=\"font-weight: bold\">[</span>0m in 64ms\u001b<span style=\"font-weight: bold\">[</span>0m\n",
       "\u001b<span style=\"font-weight: bold\">[</span>2mInstalled \u001b<span style=\"font-weight: bold\">[</span>1m38 packages\u001b<span style=\"font-weight: bold\">[</span>0m in 67ms\u001b<span style=\"font-weight: bold\">[</span>0m\n",
       " \u001b<span style=\"font-weight: bold\">[</span>32m+\u001b<span style=\"font-weight: bold\">[</span>39m \u001b<span style=\"font-weight: bold\">[</span>1mannotated-types\u001b<span style=\"font-weight: bold\">[</span>0m\u001b<span style=\"font-weight: bold\">[</span><span style=\"color: #808000; text-decoration-color: #808000\">2m</span>==<span style=\"color: #008080; text-decoration-color: #008080; font-weight: bold\">0.7</span>.<span style=\"color: #008080; text-decoration-color: #008080; font-weight: bold\">0</span>\u001b<span style=\"font-weight: bold\">[</span>0m\n",
       " \u001b<span style=\"font-weight: bold\">[</span>31m-\u001b<span style=\"font-weight: bold\">[</span>39m \u001b<span style=\"font-weight: bold\">[</span>1mboto3\u001b<span style=\"font-weight: bold\">[</span>0m\u001b<span style=\"font-weight: bold\">[</span><span style=\"color: #808000; text-decoration-color: #808000\">2m</span>==<span style=\"color: #008080; text-decoration-color: #008080; font-weight: bold\">1.34</span>.<span style=\"color: #008080; text-decoration-color: #008080; font-weight: bold\">142</span>\u001b<span style=\"font-weight: bold\">[</span>0m\n",
       " \u001b<span style=\"font-weight: bold\">[</span>32m+\u001b<span style=\"font-weight: bold\">[</span>39m \u001b<span style=\"font-weight: bold\">[</span>1mboto3\u001b<span style=\"font-weight: bold\">[</span>0m\u001b<span style=\"font-weight: bold\">[</span><span style=\"color: #808000; text-decoration-color: #808000\">2m</span>==<span style=\"color: #008080; text-decoration-color: #008080; font-weight: bold\">1.34</span>.<span style=\"color: #008080; text-decoration-color: #008080; font-weight: bold\">101</span>\u001b<span style=\"font-weight: bold\">[</span>0m\n",
       " \u001b<span style=\"font-weight: bold\">[</span>31m-\u001b<span style=\"font-weight: bold\">[</span>39m \u001b<span style=\"font-weight: bold\">[</span>1mbotocore\u001b<span style=\"font-weight: bold\">[</span>0m\u001b<span style=\"font-weight: bold\">[</span><span style=\"color: #808000; text-decoration-color: #808000\">2m</span>==<span style=\"color: #008080; text-decoration-color: #008080; font-weight: bold\">1.34</span>.<span style=\"color: #008080; text-decoration-color: #008080; font-weight: bold\">142</span>\u001b<span style=\"font-weight: bold\">[</span>0m\n",
       " \u001b<span style=\"font-weight: bold\">[</span>32m+\u001b<span style=\"font-weight: bold\">[</span>39m \u001b<span style=\"font-weight: bold\">[</span>1mbotocore\u001b<span style=\"font-weight: bold\">[</span>0m\u001b<span style=\"font-weight: bold\">[</span><span style=\"color: #808000; text-decoration-color: #808000\">2m</span>==<span style=\"color: #008080; text-decoration-color: #008080; font-weight: bold\">1.34</span>.<span style=\"color: #008080; text-decoration-color: #008080; font-weight: bold\">101</span>\u001b<span style=\"font-weight: bold\">[</span>0m\n",
       " \u001b<span style=\"font-weight: bold\">[</span>32m+\u001b<span style=\"font-weight: bold\">[</span>39m \u001b<span style=\"font-weight: bold\">[</span>1mcachetools\u001b<span style=\"font-weight: bold\">[</span>0m\u001b<span style=\"font-weight: bold\">[</span><span style=\"color: #808000; text-decoration-color: #808000\">2m</span>==<span style=\"color: #008080; text-decoration-color: #008080; font-weight: bold\">5.4</span>.<span style=\"color: #008080; text-decoration-color: #008080; font-weight: bold\">0</span>\u001b<span style=\"font-weight: bold\">[</span>0m\n",
       " \u001b<span style=\"font-weight: bold\">[</span>32m+\u001b<span style=\"font-weight: bold\">[</span>39m \u001b<span style=\"font-weight: bold\">[</span>1mdistro\u001b<span style=\"font-weight: bold\">[</span>0m\u001b<span style=\"font-weight: bold\">[</span><span style=\"color: #808000; text-decoration-color: #808000\">2m</span>==<span style=\"color: #008080; text-decoration-color: #008080; font-weight: bold\">1.9</span>.<span style=\"color: #008080; text-decoration-color: #008080; font-weight: bold\">0</span>\u001b<span style=\"font-weight: bold\">[</span>0m\n",
       " \u001b<span style=\"font-weight: bold\">[</span>32m+\u001b<span style=\"font-weight: bold\">[</span>39m \u001b<span style=\"font-weight: bold\">[</span>1mdocopt\u001b<span style=\"font-weight: bold\">[</span>0m\u001b<span style=\"font-weight: bold\">[</span><span style=\"color: #808000; text-decoration-color: #808000\">2m</span>==<span style=\"color: #008080; text-decoration-color: #008080; font-weight: bold\">0.6</span>.<span style=\"color: #008080; text-decoration-color: #008080; font-weight: bold\">2</span>\u001b<span style=\"font-weight: bold\">[</span>0m\n",
       " \u001b<span style=\"font-weight: bold\">[</span>32m+\u001b<span style=\"font-weight: bold\">[</span>39m \u001b<span style=\"font-weight: bold\">[</span>1mdocstring-parser\u001b<span style=\"font-weight: bold\">[</span>0m\u001b<span style=\"font-weight: bold\">[</span><span style=\"color: #808000; text-decoration-color: #808000\">2m</span>==<span style=\"color: #008080; text-decoration-color: #008080; font-weight: bold\">0.16</span>\u001b<span style=\"font-weight: bold\">[</span>0m\n",
       " \u001b<span style=\"font-weight: bold\">[</span>32m+\u001b<span style=\"font-weight: bold\">[</span>39m \u001b<span style=\"font-weight: bold\">[</span>1mgoogle-api-core\u001b<span style=\"font-weight: bold\">[</span>0m\u001b<span style=\"font-weight: bold\">[</span><span style=\"color: #808000; text-decoration-color: #808000\">2m</span>==<span style=\"color: #008080; text-decoration-color: #008080; font-weight: bold\">2.19</span>.<span style=\"color: #008080; text-decoration-color: #008080; font-weight: bold\">1</span>\u001b<span style=\"font-weight: bold\">[</span>0m\n",
       " \u001b<span style=\"font-weight: bold\">[</span>32m+\u001b<span style=\"font-weight: bold\">[</span>39m \u001b<span style=\"font-weight: bold\">[</span>1mgoogle-auth\u001b<span style=\"font-weight: bold\">[</span>0m\u001b<span style=\"font-weight: bold\">[</span><span style=\"color: #808000; text-decoration-color: #808000\">2m</span>==<span style=\"color: #008080; text-decoration-color: #008080; font-weight: bold\">2.32</span>.<span style=\"color: #008080; text-decoration-color: #008080; font-weight: bold\">0</span>\u001b<span style=\"font-weight: bold\">[</span>0m\n",
       " \u001b<span style=\"font-weight: bold\">[</span>32m+\u001b<span style=\"font-weight: bold\">[</span>39m \u001b<span style=\"font-weight: bold\">[</span>1mgoogle-cloud-aiplatform\u001b<span style=\"font-weight: bold\">[</span>0m\u001b<span style=\"font-weight: bold\">[</span><span style=\"color: #808000; text-decoration-color: #808000\">2m</span>==<span style=\"color: #008080; text-decoration-color: #008080; font-weight: bold\">1.60</span>.<span style=\"color: #008080; text-decoration-color: #008080; font-weight: bold\">0</span>\u001b<span style=\"font-weight: bold\">[</span>0m\n",
       " \u001b<span style=\"font-weight: bold\">[</span>32m+\u001b<span style=\"font-weight: bold\">[</span>39m \u001b<span style=\"font-weight: bold\">[</span>1mgoogle-cloud-bigquery\u001b<span style=\"font-weight: bold\">[</span>0m\u001b<span style=\"font-weight: bold\">[</span><span style=\"color: #808000; text-decoration-color: #808000\">2m</span>==<span style=\"color: #008080; text-decoration-color: #008080; font-weight: bold\">3.25</span>.<span style=\"color: #008080; text-decoration-color: #008080; font-weight: bold\">0</span>\u001b<span style=\"font-weight: bold\">[</span>0m\n",
       " \u001b<span style=\"font-weight: bold\">[</span>32m+\u001b<span style=\"font-weight: bold\">[</span>39m \u001b<span style=\"font-weight: bold\">[</span>1mgoogle-cloud-core\u001b<span style=\"font-weight: bold\">[</span>0m\u001b<span style=\"font-weight: bold\">[</span><span style=\"color: #808000; text-decoration-color: #808000\">2m</span>==<span style=\"color: #008080; text-decoration-color: #008080; font-weight: bold\">2.4</span>.<span style=\"color: #008080; text-decoration-color: #008080; font-weight: bold\">1</span>\u001b<span style=\"font-weight: bold\">[</span>0m\n",
       " \u001b<span style=\"font-weight: bold\">[</span>32m+\u001b<span style=\"font-weight: bold\">[</span>39m \u001b<span style=\"font-weight: bold\">[</span>1mgoogle-cloud-resource-manager\u001b<span style=\"font-weight: bold\">[</span>0m\u001b<span style=\"font-weight: bold\">[</span><span style=\"color: #808000; text-decoration-color: #808000\">2m</span>==<span style=\"color: #008080; text-decoration-color: #008080; font-weight: bold\">1.12</span>.<span style=\"color: #008080; text-decoration-color: #008080; font-weight: bold\">4</span>\u001b<span style=\"font-weight: bold\">[</span>0m\n",
       " \u001b<span style=\"font-weight: bold\">[</span>32m+\u001b<span style=\"font-weight: bold\">[</span>39m \u001b<span style=\"font-weight: bold\">[</span>1mgoogle-cloud-storage\u001b<span style=\"font-weight: bold\">[</span>0m\u001b<span style=\"font-weight: bold\">[</span><span style=\"color: #808000; text-decoration-color: #808000\">2m</span>==<span style=\"color: #008080; text-decoration-color: #008080; font-weight: bold\">2.18</span>.<span style=\"color: #008080; text-decoration-color: #008080; font-weight: bold\">0</span>\u001b<span style=\"font-weight: bold\">[</span>0m\n",
       " \u001b<span style=\"font-weight: bold\">[</span>32m+\u001b<span style=\"font-weight: bold\">[</span>39m \u001b<span style=\"font-weight: bold\">[</span>1mgoogle-crc32c\u001b<span style=\"font-weight: bold\">[</span>0m\u001b<span style=\"font-weight: bold\">[</span><span style=\"color: #808000; text-decoration-color: #808000\">2m</span>==<span style=\"color: #008080; text-decoration-color: #008080; font-weight: bold\">1.5</span>.<span style=\"color: #008080; text-decoration-color: #008080; font-weight: bold\">0</span>\u001b<span style=\"font-weight: bold\">[</span>0m\n",
       " \u001b<span style=\"font-weight: bold\">[</span>32m+\u001b<span style=\"font-weight: bold\">[</span>39m \u001b<span style=\"font-weight: bold\">[</span>1mgoogle-resumable-media\u001b<span style=\"font-weight: bold\">[</span>0m\u001b<span style=\"font-weight: bold\">[</span><span style=\"color: #808000; text-decoration-color: #808000\">2m</span>==<span style=\"color: #008080; text-decoration-color: #008080; font-weight: bold\">2.7</span>.<span style=\"color: #008080; text-decoration-color: #008080; font-weight: bold\">1</span>\u001b<span style=\"font-weight: bold\">[</span>0m\n",
       " \u001b<span style=\"font-weight: bold\">[</span>32m+\u001b<span style=\"font-weight: bold\">[</span>39m \u001b<span style=\"font-weight: bold\">[</span>1mgoogleapis-common-protos\u001b<span style=\"font-weight: bold\">[</span>0m\u001b<span style=\"font-weight: bold\">[</span><span style=\"color: #808000; text-decoration-color: #808000\">2m</span>==<span style=\"color: #008080; text-decoration-color: #008080; font-weight: bold\">1.63</span>.<span style=\"color: #008080; text-decoration-color: #008080; font-weight: bold\">2</span>\u001b<span style=\"font-weight: bold\">[</span>0m\n",
       " \u001b<span style=\"font-weight: bold\">[</span>32m+\u001b<span style=\"font-weight: bold\">[</span>39m \u001b<span style=\"font-weight: bold\">[</span>1mgrpc-google-iam-v1\u001b<span style=\"font-weight: bold\">[</span>0m\u001b<span style=\"font-weight: bold\">[</span><span style=\"color: #808000; text-decoration-color: #808000\">2m</span>==<span style=\"color: #008080; text-decoration-color: #008080; font-weight: bold\">0.13</span>.<span style=\"color: #008080; text-decoration-color: #008080; font-weight: bold\">1</span>\u001b<span style=\"font-weight: bold\">[</span>0m\n",
       " \u001b<span style=\"font-weight: bold\">[</span>32m+\u001b<span style=\"font-weight: bold\">[</span>39m \u001b<span style=\"font-weight: bold\">[</span>1mgrpcio\u001b<span style=\"font-weight: bold\">[</span>0m\u001b<span style=\"font-weight: bold\">[</span><span style=\"color: #808000; text-decoration-color: #808000\">2m</span>==<span style=\"color: #008080; text-decoration-color: #008080; font-weight: bold\">1.65</span>.<span style=\"color: #008080; text-decoration-color: #008080; font-weight: bold\">1</span>\u001b<span style=\"font-weight: bold\">[</span>0m\n",
       " \u001b<span style=\"font-weight: bold\">[</span>32m+\u001b<span style=\"font-weight: bold\">[</span>39m \u001b<span style=\"font-weight: bold\">[</span>1mgrpcio-status\u001b<span style=\"font-weight: bold\">[</span>0m\u001b<span style=\"font-weight: bold\">[</span><span style=\"color: #808000; text-decoration-color: #808000\">2m</span>==<span style=\"color: #008080; text-decoration-color: #008080; font-weight: bold\">1.62</span>.<span style=\"color: #008080; text-decoration-color: #008080; font-weight: bold\">2</span>\u001b<span style=\"font-weight: bold\">[</span>0m\n",
       " \u001b<span style=\"font-weight: bold\">[</span>32m+\u001b<span style=\"font-weight: bold\">[</span>39m \u001b<span style=\"font-weight: bold\">[</span>1mhuggingface-hub\u001b<span style=\"font-weight: bold\">[</span>0m\u001b<span style=\"font-weight: bold\">[</span><span style=\"color: #808000; text-decoration-color: #808000\">2m</span>==<span style=\"color: #008080; text-decoration-color: #008080; font-weight: bold\">0.24</span>.<span style=\"color: #008080; text-decoration-color: #008080; font-weight: bold\">2</span>\u001b<span style=\"font-weight: bold\">[</span>0m\n",
       " \u001b<span style=\"font-weight: bold\">[</span>32m+\u001b<span style=\"font-weight: bold\">[</span>39m \u001b<span style=\"font-weight: bold\">[</span>1mlitellm\u001b<span style=\"font-weight: bold\">[</span>0m\u001b<span style=\"font-weight: bold\">[</span><span style=\"color: #808000; text-decoration-color: #808000\">2m</span>==<span style=\"color: #008080; text-decoration-color: #008080; font-weight: bold\">1.42</span>.<span style=\"color: #008080; text-decoration-color: #008080; font-weight: bold\">5</span>\u001b<span style=\"font-weight: bold\">[</span>0m\n",
       " \u001b<span style=\"font-weight: bold\">[</span>32m+\u001b<span style=\"font-weight: bold\">[</span>39m \u001b<span style=\"font-weight: bold\">[</span>1mllmperf\u001b<span style=\"font-weight: bold\">[</span>0m\u001b<span style=\"font-weight: bold\">[</span><span style=\"color: #808000; text-decoration-color: #808000\">2m</span>==<span style=\"color: #008080; text-decoration-color: #008080; font-weight: bold\">0.1</span>.<span style=\"color: #008080; text-decoration-color: #008080; font-weight: bold\">0</span> <span style=\"font-weight: bold\">(</span>from \n",
       "<span style=\"color: #0000ff; text-decoration-color: #0000ff; text-decoration: underline\">file:///home/ec2-user/SageMaker/aws-ai-ml-workshop-kr/genai/aws-gen-ai-kr/30_fine_tune/03-fine-tune-llama3/notebook</span>\n",
       "<span style=\"color: #0000ff; text-decoration-color: #0000ff; text-decoration: underline\">/02-naver-news-llama3-inference/backup/01-Llama3-8B-Autoscaling/llmperf)</span>\u001b<span style=\"font-weight: bold\">[</span>0m\n",
       " \u001b<span style=\"font-weight: bold\">[</span>32m+\u001b<span style=\"font-weight: bold\">[</span>39m \u001b<span style=\"font-weight: bold\">[</span>1mnum2words\u001b<span style=\"font-weight: bold\">[</span>0m\u001b<span style=\"font-weight: bold\">[</span><span style=\"color: #808000; text-decoration-color: #808000\">2m</span>==<span style=\"color: #008080; text-decoration-color: #008080; font-weight: bold\">0.5</span>.<span style=\"color: #008080; text-decoration-color: #008080; font-weight: bold\">13</span>\u001b<span style=\"font-weight: bold\">[</span>0m\n",
       " \u001b<span style=\"font-weight: bold\">[</span>32m+\u001b<span style=\"font-weight: bold\">[</span>39m \u001b<span style=\"font-weight: bold\">[</span>1mopenai\u001b<span style=\"font-weight: bold\">[</span>0m\u001b<span style=\"font-weight: bold\">[</span><span style=\"color: #808000; text-decoration-color: #808000\">2m</span>==<span style=\"color: #008080; text-decoration-color: #008080; font-weight: bold\">1.37</span>.<span style=\"color: #008080; text-decoration-color: #008080; font-weight: bold\">1</span>\u001b<span style=\"font-weight: bold\">[</span>0m\n",
       " \u001b<span style=\"font-weight: bold\">[</span>32m+\u001b<span style=\"font-weight: bold\">[</span>39m \u001b<span style=\"font-weight: bold\">[</span>1mproto-plus\u001b<span style=\"font-weight: bold\">[</span>0m\u001b<span style=\"font-weight: bold\">[</span><span style=\"color: #808000; text-decoration-color: #808000\">2m</span>==<span style=\"color: #008080; text-decoration-color: #008080; font-weight: bold\">1.24</span>.<span style=\"color: #008080; text-decoration-color: #008080; font-weight: bold\">0</span>\u001b<span style=\"font-weight: bold\">[</span>0m\n",
       " \u001b<span style=\"font-weight: bold\">[</span>32m+\u001b<span style=\"font-weight: bold\">[</span>39m \u001b<span style=\"font-weight: bold\">[</span>1mpyasn1-modules\u001b<span style=\"font-weight: bold\">[</span>0m\u001b<span style=\"font-weight: bold\">[</span><span style=\"color: #808000; text-decoration-color: #808000\">2m</span>==<span style=\"color: #008080; text-decoration-color: #008080; font-weight: bold\">0.4</span>.<span style=\"color: #008080; text-decoration-color: #008080; font-weight: bold\">0</span>\u001b<span style=\"font-weight: bold\">[</span>0m\n",
       " \u001b<span style=\"font-weight: bold\">[</span>32m+\u001b<span style=\"font-weight: bold\">[</span>39m \u001b<span style=\"font-weight: bold\">[</span>1mpydantic\u001b<span style=\"font-weight: bold\">[</span>0m\u001b<span style=\"font-weight: bold\">[</span><span style=\"color: #808000; text-decoration-color: #808000\">2m</span>==<span style=\"color: #008080; text-decoration-color: #008080; font-weight: bold\">2.4</span>.<span style=\"color: #008080; text-decoration-color: #008080; font-weight: bold\">2</span>\u001b<span style=\"font-weight: bold\">[</span>0m\n",
       " \u001b<span style=\"font-weight: bold\">[</span>32m+\u001b<span style=\"font-weight: bold\">[</span>39m \u001b<span style=\"font-weight: bold\">[</span>1mpydantic-core\u001b<span style=\"font-weight: bold\">[</span>0m\u001b<span style=\"font-weight: bold\">[</span><span style=\"color: #808000; text-decoration-color: #808000\">2m</span>==<span style=\"color: #008080; text-decoration-color: #008080; font-weight: bold\">2.10</span>.<span style=\"color: #008080; text-decoration-color: #008080; font-weight: bold\">1</span>\u001b<span style=\"font-weight: bold\">[</span>0m\n",
       " \u001b<span style=\"font-weight: bold\">[</span>32m+\u001b<span style=\"font-weight: bold\">[</span>39m \u001b<span style=\"font-weight: bold\">[</span>1mpython-dotenv\u001b<span style=\"font-weight: bold\">[</span>0m\u001b<span style=\"font-weight: bold\">[</span><span style=\"color: #808000; text-decoration-color: #808000\">2m</span>==<span style=\"color: #008080; text-decoration-color: #008080; font-weight: bold\">1.0</span>.<span style=\"color: #008080; text-decoration-color: #008080; font-weight: bold\">1</span>\u001b<span style=\"font-weight: bold\">[</span>0m\n",
       " \u001b<span style=\"font-weight: bold\">[</span>32m+\u001b<span style=\"font-weight: bold\">[</span>39m \u001b<span style=\"font-weight: bold\">[</span>1mray\u001b<span style=\"font-weight: bold\">[</span>0m\u001b<span style=\"font-weight: bold\">[</span><span style=\"color: #808000; text-decoration-color: #808000\">2m</span>==<span style=\"color: #008080; text-decoration-color: #008080; font-weight: bold\">2.33</span>.<span style=\"color: #008080; text-decoration-color: #008080; font-weight: bold\">0</span>\u001b<span style=\"font-weight: bold\">[</span>0m\n",
       " \u001b<span style=\"font-weight: bold\">[</span>32m+\u001b<span style=\"font-weight: bold\">[</span>39m \u001b<span style=\"font-weight: bold\">[</span>1msafetensors\u001b<span style=\"font-weight: bold\">[</span>0m\u001b<span style=\"font-weight: bold\">[</span><span style=\"color: #808000; text-decoration-color: #808000\">2m</span>==<span style=\"color: #008080; text-decoration-color: #008080; font-weight: bold\">0.4</span>.<span style=\"color: #008080; text-decoration-color: #008080; font-weight: bold\">3</span>\u001b<span style=\"font-weight: bold\">[</span>0m\n",
       " \u001b<span style=\"font-weight: bold\">[</span>32m+\u001b<span style=\"font-weight: bold\">[</span>39m \u001b<span style=\"font-weight: bold\">[</span>1mshapely\u001b<span style=\"font-weight: bold\">[</span>0m\u001b<span style=\"font-weight: bold\">[</span><span style=\"color: #808000; text-decoration-color: #808000\">2m</span>==<span style=\"color: #008080; text-decoration-color: #008080; font-weight: bold\">2.0</span>.<span style=\"color: #008080; text-decoration-color: #008080; font-weight: bold\">5</span>\u001b<span style=\"font-weight: bold\">[</span>0m\n",
       " \u001b<span style=\"font-weight: bold\">[</span>32m+\u001b<span style=\"font-weight: bold\">[</span>39m \u001b<span style=\"font-weight: bold\">[</span>1mshellingham\u001b<span style=\"font-weight: bold\">[</span>0m\u001b<span style=\"font-weight: bold\">[</span><span style=\"color: #808000; text-decoration-color: #808000\">2m</span>==<span style=\"color: #008080; text-decoration-color: #008080; font-weight: bold\">1.5</span>.<span style=\"color: #008080; text-decoration-color: #008080; font-weight: bold\">4</span>\u001b<span style=\"font-weight: bold\">[</span>0m\n",
       " \u001b<span style=\"font-weight: bold\">[</span>32m+\u001b<span style=\"font-weight: bold\">[</span>39m \u001b<span style=\"font-weight: bold\">[</span>1mtiktoken\u001b<span style=\"font-weight: bold\">[</span>0m\u001b<span style=\"font-weight: bold\">[</span><span style=\"color: #808000; text-decoration-color: #808000\">2m</span>==<span style=\"color: #008080; text-decoration-color: #008080; font-weight: bold\">0.7</span>.<span style=\"color: #008080; text-decoration-color: #008080; font-weight: bold\">0</span>\u001b<span style=\"font-weight: bold\">[</span>0m\n",
       " \u001b<span style=\"font-weight: bold\">[</span>32m+\u001b<span style=\"font-weight: bold\">[</span>39m \u001b<span style=\"font-weight: bold\">[</span>1mtokenizers\u001b<span style=\"font-weight: bold\">[</span>0m\u001b<span style=\"font-weight: bold\">[</span><span style=\"color: #808000; text-decoration-color: #808000\">2m</span>==<span style=\"color: #008080; text-decoration-color: #008080; font-weight: bold\">0.19</span>.<span style=\"color: #008080; text-decoration-color: #008080; font-weight: bold\">1</span>\u001b<span style=\"font-weight: bold\">[</span>0m\n",
       " \u001b<span style=\"font-weight: bold\">[</span>32m+\u001b<span style=\"font-weight: bold\">[</span>39m \u001b<span style=\"font-weight: bold\">[</span>1mtransformers\u001b<span style=\"font-weight: bold\">[</span>0m\u001b<span style=\"font-weight: bold\">[</span><span style=\"color: #808000; text-decoration-color: #808000\">2m</span>==<span style=\"color: #008080; text-decoration-color: #008080; font-weight: bold\">4.43</span>.<span style=\"color: #008080; text-decoration-color: #008080; font-weight: bold\">3</span>\u001b<span style=\"font-weight: bold\">[</span>0m\n",
       " \u001b<span style=\"font-weight: bold\">[</span>32m+\u001b<span style=\"font-weight: bold\">[</span>39m \u001b<span style=\"font-weight: bold\">[</span>1mtyper\u001b<span style=\"font-weight: bold\">[</span>0m\u001b<span style=\"font-weight: bold\">[</span><span style=\"color: #808000; text-decoration-color: #808000\">2m</span>==<span style=\"color: #008080; text-decoration-color: #008080; font-weight: bold\">0.12</span>.<span style=\"color: #008080; text-decoration-color: #008080; font-weight: bold\">3</span>\u001b<span style=\"font-weight: bold\">[</span>0m\n",
       "<span style=\"color: #800080; text-decoration-color: #800080; font-style: italic\">None</span> of PyTorch, TensorFlow &gt;= <span style=\"color: #008080; text-decoration-color: #008080; font-weight: bold\">2.0</span>, or Flax have been found. Models won't be available and only tokenizers, \n",
       "configuration and file/data utilities can be used.\n",
       "<span style=\"color: #008080; text-decoration-color: #008080; font-weight: bold\">2024</span>-<span style=\"color: #008080; text-decoration-color: #008080; font-weight: bold\">07</span>-<span style=\"color: #008080; text-decoration-color: #008080; font-weight: bold\">28</span> <span style=\"color: #00ff00; text-decoration-color: #00ff00; font-weight: bold\">07:14:06</span>,<span style=\"color: #008080; text-decoration-color: #008080; font-weight: bold\">326</span> INFO worker.py:<span style=\"color: #008080; text-decoration-color: #008080; font-weight: bold\">1781</span> -- Started a local Ray instance.\n",
       "You are using the default legacy behaviour of the <span style=\"font-weight: bold\">&lt;</span><span style=\"color: #ff00ff; text-decoration-color: #ff00ff; font-weight: bold\">class</span><span style=\"color: #000000; text-decoration-color: #000000\"> </span>\n",
       "<span style=\"color: #008000; text-decoration-color: #008000\">'transformers.models.llama.tokenization_llama_fast.LlamaTokenizerFast'</span><span style=\"color: #000000; text-decoration-color: #000000\">&gt;. This is expected, and simply means that </span>\n",
       "<span style=\"color: #000000; text-decoration-color: #000000\">the `legacy` </span><span style=\"color: #000000; text-decoration-color: #000000; font-weight: bold\">(</span><span style=\"color: #000000; text-decoration-color: #000000\">previous</span><span style=\"color: #000000; text-decoration-color: #000000; font-weight: bold\">)</span><span style=\"color: #000000; text-decoration-color: #000000\"> behavior will be used so nothing changes for you. If you want to use the new behaviour, set</span>\n",
       "<span style=\"color: #000000; text-decoration-color: #000000\">`</span><span style=\"color: #808000; text-decoration-color: #808000\">legacy</span><span style=\"color: #000000; text-decoration-color: #000000\">=</span><span style=\"color: #ff0000; text-decoration-color: #ff0000; font-style: italic\">False</span><span style=\"color: #000000; text-decoration-color: #000000\">`. This should only be set if you understand what it means, and thoroughly read the reason why this </span>\n",
       "<span style=\"color: #000000; text-decoration-color: #000000\">was added as explained in </span><span style=\"color: #0000ff; text-decoration-color: #0000ff; text-decoration: underline\">https://github.com/huggingface/transformers/pull/24565</span><span style=\"color: #000000; text-decoration-color: #000000\"> - if you loaded a llama tokenizer </span>\n",
       "<span style=\"color: #000000; text-decoration-color: #000000\">from a GGUF file you can ignore this message.</span>\n",
       "<span style=\"color: #000000; text-decoration-color: #000000\">  </span><span style=\"color: #008080; text-decoration-color: #008080; font-weight: bold\">0</span><span style=\"color: #000000; text-decoration-color: #000000\">%|          | </span><span style=\"color: #008080; text-decoration-color: #008080; font-weight: bold\">0</span><span style=\"color: #000000; text-decoration-color: #000000\">/</span><span style=\"color: #008080; text-decoration-color: #008080; font-weight: bold\">1000</span><span style=\"color: #000000; text-decoration-color: #000000\"> </span><span style=\"color: #000000; text-decoration-color: #000000; font-weight: bold\">[</span><span style=\"color: #00ff00; text-decoration-color: #00ff00; font-weight: bold\">00:00</span><span style=\"color: #000000; text-decoration-color: #000000\">&lt;?, ?it/s</span><span style=\"color: #000000; text-decoration-color: #000000; font-weight: bold\">]</span><span style=\"color: #000000; text-decoration-color: #000000\">  </span><span style=\"color: #008080; text-decoration-color: #008080; font-weight: bold\">0</span><span style=\"color: #000000; text-decoration-color: #000000\">%|          | </span><span style=\"color: #008080; text-decoration-color: #008080; font-weight: bold\">0</span><span style=\"color: #000000; text-decoration-color: #000000\">/</span><span style=\"color: #008080; text-decoration-color: #008080; font-weight: bold\">1000</span><span style=\"color: #000000; text-decoration-color: #000000\"> </span><span style=\"color: #000000; text-decoration-color: #000000; font-weight: bold\">[</span><span style=\"color: #00ff00; text-decoration-color: #00ff00; font-weight: bold\">00:00</span><span style=\"color: #000000; text-decoration-color: #000000\">&lt;?, ?it/s</span><span style=\"color: #000000; text-decoration-color: #000000; font-weight: bold\">]</span><span style=\"color: #000000; text-decoration-color: #000000\">  </span><span style=\"color: #008080; text-decoration-color: #008080; font-weight: bold\">0</span><span style=\"color: #000000; text-decoration-color: #000000\">%|          | </span><span style=\"color: #008080; text-decoration-color: #008080; font-weight: bold\">0</span><span style=\"color: #000000; text-decoration-color: #000000\">/</span><span style=\"color: #008080; text-decoration-color: #008080; font-weight: bold\">1000</span><span style=\"color: #000000; text-decoration-color: #000000\"> </span><span style=\"color: #000000; text-decoration-color: #000000; font-weight: bold\">[</span><span style=\"color: #00ff00; text-decoration-color: #00ff00; font-weight: bold\">00:00</span><span style=\"color: #000000; text-decoration-color: #000000\">&lt;?, </span>\n",
       "<span style=\"color: #000000; text-decoration-color: #000000\">?it/s</span><span style=\"color: #000000; text-decoration-color: #000000; font-weight: bold\">]</span><span style=\"color: #000000; text-decoration-color: #000000\">  </span><span style=\"color: #008080; text-decoration-color: #008080; font-weight: bold\">0</span><span style=\"color: #000000; text-decoration-color: #000000\">%|          | </span><span style=\"color: #008080; text-decoration-color: #008080; font-weight: bold\">0</span><span style=\"color: #000000; text-decoration-color: #000000\">/</span><span style=\"color: #008080; text-decoration-color: #008080; font-weight: bold\">1000</span><span style=\"color: #000000; text-decoration-color: #000000\"> </span><span style=\"color: #000000; text-decoration-color: #000000; font-weight: bold\">[</span><span style=\"color: #00ff00; text-decoration-color: #00ff00; font-weight: bold\">00:00</span><span style=\"color: #000000; text-decoration-color: #000000\">&lt;?, ?it/s</span><span style=\"color: #000000; text-decoration-color: #000000; font-weight: bold\">]</span><span style=\"color: #000000; text-decoration-color: #000000\">  </span><span style=\"color: #008080; text-decoration-color: #008080; font-weight: bold\">0</span><span style=\"color: #000000; text-decoration-color: #000000\">%|          | </span><span style=\"color: #008080; text-decoration-color: #008080; font-weight: bold\">0</span><span style=\"color: #000000; text-decoration-color: #000000\">/</span><span style=\"color: #008080; text-decoration-color: #008080; font-weight: bold\">1000</span><span style=\"color: #000000; text-decoration-color: #000000\"> </span><span style=\"color: #000000; text-decoration-color: #000000; font-weight: bold\">[</span><span style=\"color: #00ff00; text-decoration-color: #00ff00; font-weight: bold\">00:00</span><span style=\"color: #000000; text-decoration-color: #000000\">&lt;?, ?it/s</span><span style=\"color: #000000; text-decoration-color: #000000; font-weight: bold\">]</span><span style=\"color: #000000; text-decoration-color: #000000\">  </span><span style=\"color: #008080; text-decoration-color: #008080; font-weight: bold\">0</span><span style=\"color: #000000; text-decoration-color: #000000\">%|          | </span><span style=\"color: #008080; text-decoration-color: #008080; font-weight: bold\">0</span><span style=\"color: #000000; text-decoration-color: #000000\">/</span><span style=\"color: #008080; text-decoration-color: #008080; font-weight: bold\">1000</span><span style=\"color: #000000; text-decoration-color: #000000\"> </span>\n",
       "<span style=\"color: #000000; text-decoration-color: #000000; font-weight: bold\">[</span><span style=\"color: #00ff00; text-decoration-color: #00ff00; font-weight: bold\">00:00</span><span style=\"color: #000000; text-decoration-color: #000000\">&lt;?, ?it/s</span><span style=\"color: #000000; text-decoration-color: #000000; font-weight: bold\">]</span><span style=\"color: #000000; text-decoration-color: #000000\">  </span><span style=\"color: #008080; text-decoration-color: #008080; font-weight: bold\">0</span><span style=\"color: #000000; text-decoration-color: #000000\">%|          | </span><span style=\"color: #008080; text-decoration-color: #008080; font-weight: bold\">0</span><span style=\"color: #000000; text-decoration-color: #000000\">/</span><span style=\"color: #008080; text-decoration-color: #008080; font-weight: bold\">1000</span><span style=\"color: #000000; text-decoration-color: #000000\"> </span><span style=\"color: #000000; text-decoration-color: #000000; font-weight: bold\">[</span><span style=\"color: #00ff00; text-decoration-color: #00ff00; font-weight: bold\">00:01</span><span style=\"color: #000000; text-decoration-color: #000000\">&lt;?, ?it/s</span><span style=\"color: #000000; text-decoration-color: #000000; font-weight: bold\">]</span><span style=\"color: #000000; text-decoration-color: #000000\">  </span><span style=\"color: #008080; text-decoration-color: #008080; font-weight: bold\">0</span><span style=\"color: #000000; text-decoration-color: #000000\">%|          | </span><span style=\"color: #008080; text-decoration-color: #008080; font-weight: bold\">0</span><span style=\"color: #000000; text-decoration-color: #000000\">/</span><span style=\"color: #008080; text-decoration-color: #008080; font-weight: bold\">1000</span><span style=\"color: #000000; text-decoration-color: #000000\"> </span><span style=\"color: #000000; text-decoration-color: #000000; font-weight: bold\">[</span><span style=\"color: #00ff00; text-decoration-color: #00ff00; font-weight: bold\">00:01</span><span style=\"color: #000000; text-decoration-color: #000000\">&lt;?, ?it/s</span><span style=\"color: #000000; text-decoration-color: #000000; font-weight: bold\">]</span><span style=\"color: #000000; text-decoration-color: #000000\">  </span><span style=\"color: #008080; text-decoration-color: #008080; font-weight: bold\">0</span><span style=\"color: #000000; text-decoration-color: #000000\">%|          | </span>\n",
       "<span style=\"color: #008080; text-decoration-color: #008080; font-weight: bold\">0</span><span style=\"color: #000000; text-decoration-color: #000000\">/</span><span style=\"color: #008080; text-decoration-color: #008080; font-weight: bold\">1000</span><span style=\"color: #000000; text-decoration-color: #000000\"> </span><span style=\"color: #000000; text-decoration-color: #000000; font-weight: bold\">[</span><span style=\"color: #00ff00; text-decoration-color: #00ff00; font-weight: bold\">00:01</span><span style=\"color: #000000; text-decoration-color: #000000\">&lt;?, ?it/s</span><span style=\"color: #000000; text-decoration-color: #000000; font-weight: bold\">]</span><span style=\"color: #000000; text-decoration-color: #000000\">\u001b</span><span style=\"color: #000000; text-decoration-color: #000000; font-weight: bold\">[</span><span style=\"color: #800080; text-decoration-color: #800080; font-weight: bold\">36m</span><span style=\"color: #000000; text-decoration-color: #000000; font-weight: bold\">(</span><span style=\"color: #808000; text-decoration-color: #808000\">pid</span><span style=\"color: #000000; text-decoration-color: #000000\">=</span><span style=\"color: #008080; text-decoration-color: #008080; font-weight: bold\">37646</span><span style=\"color: #000000; text-decoration-color: #000000; font-weight: bold\">)</span><span style=\"color: #000000; text-decoration-color: #000000\">\u001b</span><span style=\"color: #000000; text-decoration-color: #000000; font-weight: bold\">[</span><span style=\"color: #000000; text-decoration-color: #000000\">0m </span><span style=\"color: #800080; text-decoration-color: #800080; font-style: italic\">None</span><span style=\"color: #000000; text-decoration-color: #000000\"> of PyTorch, TensorFlow &gt;= </span><span style=\"color: #008080; text-decoration-color: #008080; font-weight: bold\">2.0</span><span style=\"color: #000000; text-decoration-color: #000000\">, or Flax have been found. Models won't</span>\n",
       "<span style=\"color: #000000; text-decoration-color: #000000\">be available and only tokenizers, configuration and file/data utilities can be used.</span>\n",
       "<span style=\"color: #000000; text-decoration-color: #000000\">  </span><span style=\"color: #008080; text-decoration-color: #008080; font-weight: bold\">0</span><span style=\"color: #000000; text-decoration-color: #000000\">%|          | </span><span style=\"color: #008080; text-decoration-color: #008080; font-weight: bold\">0</span><span style=\"color: #000000; text-decoration-color: #000000\">/</span><span style=\"color: #008080; text-decoration-color: #008080; font-weight: bold\">1000</span><span style=\"color: #000000; text-decoration-color: #000000\"> </span><span style=\"color: #000000; text-decoration-color: #000000; font-weight: bold\">[</span><span style=\"color: #00ff00; text-decoration-color: #00ff00; font-weight: bold\">00:01</span><span style=\"color: #000000; text-decoration-color: #000000\">&lt;?, ?it/s</span><span style=\"color: #000000; text-decoration-color: #000000; font-weight: bold\">]</span><span style=\"color: #000000; text-decoration-color: #000000\">\u001b</span><span style=\"color: #000000; text-decoration-color: #000000; font-weight: bold\">[</span><span style=\"color: #800080; text-decoration-color: #800080; font-weight: bold\">36m</span><span style=\"color: #000000; text-decoration-color: #000000; font-weight: bold\">(</span><span style=\"color: #000000; text-decoration-color: #000000\">SageMakerClient </span><span style=\"color: #808000; text-decoration-color: #808000\">pid</span><span style=\"color: #000000; text-decoration-color: #000000\">=</span><span style=\"color: #008080; text-decoration-color: #008080; font-weight: bold\">37646</span><span style=\"color: #000000; text-decoration-color: #000000; font-weight: bold\">)</span><span style=\"color: #000000; text-decoration-color: #000000\">\u001b</span><span style=\"color: #000000; text-decoration-color: #000000; font-weight: bold\">[</span><span style=\"color: #000000; text-decoration-color: #000000\">0m You are using the default legacy </span>\n",
       "<span style=\"color: #000000; text-decoration-color: #000000\">behaviour of the &lt;class </span><span style=\"color: #008000; text-decoration-color: #008000\">'transformers.models.llama.tokenization_llama_fast.LlamaTokenizerFast'</span><span style=\"color: #000000; text-decoration-color: #000000\">&gt;. This is expected, </span>\n",
       "<span style=\"color: #000000; text-decoration-color: #000000\">and simply means that the `legacy` </span><span style=\"color: #000000; text-decoration-color: #000000; font-weight: bold\">(</span><span style=\"color: #000000; text-decoration-color: #000000\">previous</span><span style=\"color: #000000; text-decoration-color: #000000; font-weight: bold\">)</span><span style=\"color: #000000; text-decoration-color: #000000\"> behavior will be used so nothing changes for you. If you want to use </span>\n",
       "<span style=\"color: #000000; text-decoration-color: #000000\">the new behaviour, set `</span><span style=\"color: #808000; text-decoration-color: #808000\">legacy</span><span style=\"color: #000000; text-decoration-color: #000000\">=</span><span style=\"color: #ff0000; text-decoration-color: #ff0000; font-style: italic\">False</span><span style=\"color: #000000; text-decoration-color: #000000\">`. This should only be set if you understand what it means, and thoroughly read</span>\n",
       "<span style=\"color: #000000; text-decoration-color: #000000\">the reason why this was added as explained in </span><span style=\"color: #0000ff; text-decoration-color: #0000ff; text-decoration: underline\">https://github.com/huggingface/transformers/pull/24565</span><span style=\"color: #000000; text-decoration-color: #000000\"> - if you </span>\n",
       "<span style=\"color: #000000; text-decoration-color: #000000\">loaded a llama tokenizer from a GGUF file you can ignore this message.</span>\n",
       "<span style=\"color: #000000; text-decoration-color: #000000\">  </span><span style=\"color: #008080; text-decoration-color: #008080; font-weight: bold\">0</span><span style=\"color: #000000; text-decoration-color: #000000\">%|          | </span><span style=\"color: #008080; text-decoration-color: #008080; font-weight: bold\">0</span><span style=\"color: #000000; text-decoration-color: #000000\">/</span><span style=\"color: #008080; text-decoration-color: #008080; font-weight: bold\">1000</span><span style=\"color: #000000; text-decoration-color: #000000\"> </span><span style=\"color: #000000; text-decoration-color: #000000; font-weight: bold\">[</span><span style=\"color: #00ff00; text-decoration-color: #00ff00; font-weight: bold\">00:01</span><span style=\"color: #000000; text-decoration-color: #000000\">&lt;?, ?it/s</span><span style=\"color: #000000; text-decoration-color: #000000; font-weight: bold\">]</span><span style=\"color: #000000; text-decoration-color: #000000\">  </span><span style=\"color: #008080; text-decoration-color: #008080; font-weight: bold\">0</span><span style=\"color: #000000; text-decoration-color: #000000\">%|          | </span><span style=\"color: #008080; text-decoration-color: #008080; font-weight: bold\">0</span><span style=\"color: #000000; text-decoration-color: #000000\">/</span><span style=\"color: #008080; text-decoration-color: #008080; font-weight: bold\">1000</span><span style=\"color: #000000; text-decoration-color: #000000\"> </span><span style=\"color: #000000; text-decoration-color: #000000; font-weight: bold\">[</span><span style=\"color: #00ff00; text-decoration-color: #00ff00; font-weight: bold\">00:01</span><span style=\"color: #000000; text-decoration-color: #000000\">&lt;?, ?it/s</span><span style=\"color: #000000; text-decoration-color: #000000; font-weight: bold\">]</span><span style=\"color: #000000; text-decoration-color: #000000\">  </span><span style=\"color: #008080; text-decoration-color: #008080; font-weight: bold\">0</span><span style=\"color: #000000; text-decoration-color: #000000\">%|          | </span><span style=\"color: #008080; text-decoration-color: #008080; font-weight: bold\">0</span><span style=\"color: #000000; text-decoration-color: #000000\">/</span><span style=\"color: #008080; text-decoration-color: #008080; font-weight: bold\">1000</span><span style=\"color: #000000; text-decoration-color: #000000\"> </span><span style=\"color: #000000; text-decoration-color: #000000; font-weight: bold\">[</span><span style=\"color: #00ff00; text-decoration-color: #00ff00; font-weight: bold\">00:02</span><span style=\"color: #000000; text-decoration-color: #000000\">&lt;?, </span>\n",
       "<span style=\"color: #000000; text-decoration-color: #000000\">?it/s</span><span style=\"color: #000000; text-decoration-color: #000000; font-weight: bold\">]</span><span style=\"color: #000000; text-decoration-color: #000000\">  </span><span style=\"color: #008080; text-decoration-color: #008080; font-weight: bold\">0</span><span style=\"color: #000000; text-decoration-color: #000000\">%|          | </span><span style=\"color: #008080; text-decoration-color: #008080; font-weight: bold\">0</span><span style=\"color: #000000; text-decoration-color: #000000\">/</span><span style=\"color: #008080; text-decoration-color: #008080; font-weight: bold\">1000</span><span style=\"color: #000000; text-decoration-color: #000000\"> </span><span style=\"color: #000000; text-decoration-color: #000000; font-weight: bold\">[</span><span style=\"color: #00ff00; text-decoration-color: #00ff00; font-weight: bold\">00:02</span><span style=\"color: #000000; text-decoration-color: #000000\">&lt;?, ?it/s</span><span style=\"color: #000000; text-decoration-color: #000000; font-weight: bold\">]</span><span style=\"color: #000000; text-decoration-color: #000000\">  </span><span style=\"color: #008080; text-decoration-color: #008080; font-weight: bold\">0</span><span style=\"color: #000000; text-decoration-color: #000000\">%|          | </span><span style=\"color: #008080; text-decoration-color: #008080; font-weight: bold\">0</span><span style=\"color: #000000; text-decoration-color: #000000\">/</span><span style=\"color: #008080; text-decoration-color: #008080; font-weight: bold\">1000</span><span style=\"color: #000000; text-decoration-color: #000000\"> </span><span style=\"color: #000000; text-decoration-color: #000000; font-weight: bold\">[</span><span style=\"color: #00ff00; text-decoration-color: #00ff00; font-weight: bold\">00:02</span><span style=\"color: #000000; text-decoration-color: #000000\">&lt;?, ?it/s</span><span style=\"color: #000000; text-decoration-color: #000000; font-weight: bold\">]</span><span style=\"color: #000000; text-decoration-color: #000000\">  </span><span style=\"color: #008080; text-decoration-color: #008080; font-weight: bold\">0</span><span style=\"color: #000000; text-decoration-color: #000000\">%|          | </span><span style=\"color: #008080; text-decoration-color: #008080; font-weight: bold\">0</span><span style=\"color: #000000; text-decoration-color: #000000\">/</span><span style=\"color: #008080; text-decoration-color: #008080; font-weight: bold\">1000</span><span style=\"color: #000000; text-decoration-color: #000000\"> </span>\n",
       "<span style=\"color: #000000; text-decoration-color: #000000; font-weight: bold\">[</span><span style=\"color: #00ff00; text-decoration-color: #00ff00; font-weight: bold\">00:02</span><span style=\"color: #000000; text-decoration-color: #000000\">&lt;?, ?it/s</span><span style=\"color: #000000; text-decoration-color: #000000; font-weight: bold\">]</span><span style=\"color: #000000; text-decoration-color: #000000\">  </span><span style=\"color: #008080; text-decoration-color: #008080; font-weight: bold\">0</span><span style=\"color: #000000; text-decoration-color: #000000\">%|          | </span><span style=\"color: #008080; text-decoration-color: #008080; font-weight: bold\">0</span><span style=\"color: #000000; text-decoration-color: #000000\">/</span><span style=\"color: #008080; text-decoration-color: #008080; font-weight: bold\">1000</span><span style=\"color: #000000; text-decoration-color: #000000\"> </span><span style=\"color: #000000; text-decoration-color: #000000; font-weight: bold\">[</span><span style=\"color: #00ff00; text-decoration-color: #00ff00; font-weight: bold\">00:02</span><span style=\"color: #000000; text-decoration-color: #000000\">&lt;?, ?it/s</span><span style=\"color: #000000; text-decoration-color: #000000; font-weight: bold\">]</span><span style=\"color: #000000; text-decoration-color: #000000\">  </span><span style=\"color: #008080; text-decoration-color: #008080; font-weight: bold\">0</span><span style=\"color: #000000; text-decoration-color: #000000\">%|          | </span><span style=\"color: #008080; text-decoration-color: #008080; font-weight: bold\">0</span><span style=\"color: #000000; text-decoration-color: #000000\">/</span><span style=\"color: #008080; text-decoration-color: #008080; font-weight: bold\">1000</span><span style=\"color: #000000; text-decoration-color: #000000\"> </span><span style=\"color: #000000; text-decoration-color: #000000; font-weight: bold\">[</span><span style=\"color: #00ff00; text-decoration-color: #00ff00; font-weight: bold\">00:02</span><span style=\"color: #000000; text-decoration-color: #000000\">&lt;?, ?it/s</span><span style=\"color: #000000; text-decoration-color: #000000; font-weight: bold\">]</span><span style=\"color: #000000; text-decoration-color: #000000\">  </span><span style=\"color: #008080; text-decoration-color: #008080; font-weight: bold\">0</span><span style=\"color: #000000; text-decoration-color: #000000\">%|          | </span>\n",
       "<span style=\"color: #008080; text-decoration-color: #008080; font-weight: bold\">0</span><span style=\"color: #000000; text-decoration-color: #000000\">/</span><span style=\"color: #008080; text-decoration-color: #008080; font-weight: bold\">1000</span><span style=\"color: #000000; text-decoration-color: #000000\"> </span><span style=\"color: #000000; text-decoration-color: #000000; font-weight: bold\">[</span><span style=\"color: #00ff00; text-decoration-color: #00ff00; font-weight: bold\">00:03</span><span style=\"color: #000000; text-decoration-color: #000000\">&lt;?, ?it/s</span><span style=\"color: #000000; text-decoration-color: #000000; font-weight: bold\">]</span><span style=\"color: #000000; text-decoration-color: #000000\">  </span><span style=\"color: #008080; text-decoration-color: #008080; font-weight: bold\">0</span><span style=\"color: #000000; text-decoration-color: #000000\">%|          | </span><span style=\"color: #008080; text-decoration-color: #008080; font-weight: bold\">0</span><span style=\"color: #000000; text-decoration-color: #000000\">/</span><span style=\"color: #008080; text-decoration-color: #008080; font-weight: bold\">1000</span><span style=\"color: #000000; text-decoration-color: #000000\"> </span><span style=\"color: #000000; text-decoration-color: #000000; font-weight: bold\">[</span><span style=\"color: #00ff00; text-decoration-color: #00ff00; font-weight: bold\">00:03</span><span style=\"color: #000000; text-decoration-color: #000000\">&lt;?, ?it/s</span><span style=\"color: #000000; text-decoration-color: #000000; font-weight: bold\">]</span><span style=\"color: #000000; text-decoration-color: #000000\">  </span><span style=\"color: #008080; text-decoration-color: #008080; font-weight: bold\">0</span><span style=\"color: #000000; text-decoration-color: #000000\">%|          | </span><span style=\"color: #008080; text-decoration-color: #008080; font-weight: bold\">0</span><span style=\"color: #000000; text-decoration-color: #000000\">/</span><span style=\"color: #008080; text-decoration-color: #008080; font-weight: bold\">1000</span><span style=\"color: #000000; text-decoration-color: #000000\"> </span><span style=\"color: #000000; text-decoration-color: #000000; font-weight: bold\">[</span><span style=\"color: #00ff00; text-decoration-color: #00ff00; font-weight: bold\">00:03</span><span style=\"color: #000000; text-decoration-color: #000000\">&lt;?, ?it/s</span><span style=\"color: #000000; text-decoration-color: #000000; font-weight: bold\">]</span><span style=\"color: #000000; text-decoration-color: #000000\">  </span><span style=\"color: #008080; text-decoration-color: #008080; font-weight: bold\">0</span><span style=\"color: #000000; text-decoration-color: #000000\">%|       </span>\n",
       "<span style=\"color: #000000; text-decoration-color: #000000\">| </span><span style=\"color: #008080; text-decoration-color: #008080; font-weight: bold\">0</span><span style=\"color: #000000; text-decoration-color: #000000\">/</span><span style=\"color: #008080; text-decoration-color: #008080; font-weight: bold\">1000</span><span style=\"color: #000000; text-decoration-color: #000000\"> </span><span style=\"color: #000000; text-decoration-color: #000000; font-weight: bold\">[</span><span style=\"color: #00ff00; text-decoration-color: #00ff00; font-weight: bold\">00:03</span><span style=\"color: #000000; text-decoration-color: #000000\">&lt;?, ?it/s</span><span style=\"color: #000000; text-decoration-color: #000000; font-weight: bold\">]</span><span style=\"color: #000000; text-decoration-color: #000000\">  </span><span style=\"color: #008080; text-decoration-color: #008080; font-weight: bold\">0</span><span style=\"color: #000000; text-decoration-color: #000000\">%|          | </span><span style=\"color: #008080; text-decoration-color: #008080; font-weight: bold\">0</span><span style=\"color: #000000; text-decoration-color: #000000\">/</span><span style=\"color: #008080; text-decoration-color: #008080; font-weight: bold\">1000</span><span style=\"color: #000000; text-decoration-color: #000000\"> </span><span style=\"color: #000000; text-decoration-color: #000000; font-weight: bold\">[</span><span style=\"color: #00ff00; text-decoration-color: #00ff00; font-weight: bold\">00:03</span><span style=\"color: #000000; text-decoration-color: #000000\">&lt;?, ?it/s</span><span style=\"color: #000000; text-decoration-color: #000000; font-weight: bold\">]</span><span style=\"color: #000000; text-decoration-color: #000000\">  </span><span style=\"color: #008080; text-decoration-color: #008080; font-weight: bold\">0</span><span style=\"color: #000000; text-decoration-color: #000000\">%|          | </span><span style=\"color: #008080; text-decoration-color: #008080; font-weight: bold\">0</span><span style=\"color: #000000; text-decoration-color: #000000\">/</span><span style=\"color: #008080; text-decoration-color: #008080; font-weight: bold\">1000</span><span style=\"color: #000000; text-decoration-color: #000000\"> </span><span style=\"color: #000000; text-decoration-color: #000000; font-weight: bold\">[</span><span style=\"color: #00ff00; text-decoration-color: #00ff00; font-weight: bold\">00:04</span><span style=\"color: #000000; text-decoration-color: #000000\">&lt;?, ?it/s</span><span style=\"color: #000000; text-decoration-color: #000000; font-weight: bold\">]</span><span style=\"color: #000000; text-decoration-color: #000000\">  </span><span style=\"color: #008080; text-decoration-color: #008080; font-weight: bold\">0</span><span style=\"color: #000000; text-decoration-color: #000000\">%|     </span>\n",
       "<span style=\"color: #000000; text-decoration-color: #000000\">| </span><span style=\"color: #008080; text-decoration-color: #008080; font-weight: bold\">0</span><span style=\"color: #000000; text-decoration-color: #000000\">/</span><span style=\"color: #008080; text-decoration-color: #008080; font-weight: bold\">1000</span><span style=\"color: #000000; text-decoration-color: #000000\"> </span><span style=\"color: #000000; text-decoration-color: #000000; font-weight: bold\">[</span><span style=\"color: #00ff00; text-decoration-color: #00ff00; font-weight: bold\">00:04</span><span style=\"color: #000000; text-decoration-color: #000000\">&lt;?, ?it/s</span><span style=\"color: #000000; text-decoration-color: #000000; font-weight: bold\">]</span><span style=\"color: #000000; text-decoration-color: #000000\">  </span><span style=\"color: #008080; text-decoration-color: #008080; font-weight: bold\">0</span><span style=\"color: #000000; text-decoration-color: #000000\">%|          | </span><span style=\"color: #008080; text-decoration-color: #008080; font-weight: bold\">0</span><span style=\"color: #000000; text-decoration-color: #000000\">/</span><span style=\"color: #008080; text-decoration-color: #008080; font-weight: bold\">1000</span><span style=\"color: #000000; text-decoration-color: #000000\"> </span><span style=\"color: #000000; text-decoration-color: #000000; font-weight: bold\">[</span><span style=\"color: #00ff00; text-decoration-color: #00ff00; font-weight: bold\">00:04</span><span style=\"color: #000000; text-decoration-color: #000000\">&lt;?, ?it/s</span><span style=\"color: #000000; text-decoration-color: #000000; font-weight: bold\">]</span><span style=\"color: #000000; text-decoration-color: #000000\">  </span><span style=\"color: #008080; text-decoration-color: #008080; font-weight: bold\">0</span><span style=\"color: #000000; text-decoration-color: #000000\">%|          | </span><span style=\"color: #008080; text-decoration-color: #008080; font-weight: bold\">0</span><span style=\"color: #000000; text-decoration-color: #000000\">/</span><span style=\"color: #008080; text-decoration-color: #008080; font-weight: bold\">1000</span><span style=\"color: #000000; text-decoration-color: #000000\"> </span><span style=\"color: #000000; text-decoration-color: #000000; font-weight: bold\">[</span><span style=\"color: #00ff00; text-decoration-color: #00ff00; font-weight: bold\">00:04</span><span style=\"color: #000000; text-decoration-color: #000000\">&lt;?, ?it/s</span><span style=\"color: #000000; text-decoration-color: #000000; font-weight: bold\">]</span><span style=\"color: #000000; text-decoration-color: #000000\">  </span><span style=\"color: #008080; text-decoration-color: #008080; font-weight: bold\">0</span><span style=\"color: #000000; text-decoration-color: #000000\">%|     </span>\n",
       "<span style=\"color: #000000; text-decoration-color: #000000\">| </span><span style=\"color: #008080; text-decoration-color: #008080; font-weight: bold\">0</span><span style=\"color: #000000; text-decoration-color: #000000\">/</span><span style=\"color: #008080; text-decoration-color: #008080; font-weight: bold\">1000</span><span style=\"color: #000000; text-decoration-color: #000000\"> </span><span style=\"color: #000000; text-decoration-color: #000000; font-weight: bold\">[</span><span style=\"color: #00ff00; text-decoration-color: #00ff00; font-weight: bold\">00:04</span><span style=\"color: #000000; text-decoration-color: #000000\">&lt;?, ?it/s</span><span style=\"color: #000000; text-decoration-color: #000000; font-weight: bold\">]</span><span style=\"color: #000000; text-decoration-color: #000000\">  </span><span style=\"color: #008080; text-decoration-color: #008080; font-weight: bold\">0</span><span style=\"color: #000000; text-decoration-color: #000000\">%|          | </span><span style=\"color: #008080; text-decoration-color: #008080; font-weight: bold\">0</span><span style=\"color: #000000; text-decoration-color: #000000\">/</span><span style=\"color: #008080; text-decoration-color: #008080; font-weight: bold\">1000</span><span style=\"color: #000000; text-decoration-color: #000000\"> </span><span style=\"color: #000000; text-decoration-color: #000000; font-weight: bold\">[</span><span style=\"color: #00ff00; text-decoration-color: #00ff00; font-weight: bold\">00:04</span><span style=\"color: #000000; text-decoration-color: #000000\">&lt;?, ?it/s</span><span style=\"color: #000000; text-decoration-color: #000000; font-weight: bold\">]</span><span style=\"color: #000000; text-decoration-color: #000000\">  </span><span style=\"color: #008080; text-decoration-color: #008080; font-weight: bold\">0</span><span style=\"color: #000000; text-decoration-color: #000000\">%|          | </span><span style=\"color: #008080; text-decoration-color: #008080; font-weight: bold\">0</span><span style=\"color: #000000; text-decoration-color: #000000\">/</span><span style=\"color: #008080; text-decoration-color: #008080; font-weight: bold\">1000</span><span style=\"color: #000000; text-decoration-color: #000000\"> </span><span style=\"color: #000000; text-decoration-color: #000000; font-weight: bold\">[</span><span style=\"color: #00ff00; text-decoration-color: #00ff00; font-weight: bold\">00:04</span><span style=\"color: #000000; text-decoration-color: #000000\">&lt;?, ?it/s</span><span style=\"color: #000000; text-decoration-color: #000000; font-weight: bold\">]</span><span style=\"color: #000000; text-decoration-color: #000000\">  </span><span style=\"color: #008080; text-decoration-color: #008080; font-weight: bold\">0</span><span style=\"color: #000000; text-decoration-color: #000000\">%|     </span>\n",
       "<span style=\"color: #000000; text-decoration-color: #000000\">| </span><span style=\"color: #008080; text-decoration-color: #008080; font-weight: bold\">0</span><span style=\"color: #000000; text-decoration-color: #000000\">/</span><span style=\"color: #008080; text-decoration-color: #008080; font-weight: bold\">1000</span><span style=\"color: #000000; text-decoration-color: #000000\"> </span><span style=\"color: #000000; text-decoration-color: #000000; font-weight: bold\">[</span><span style=\"color: #00ff00; text-decoration-color: #00ff00; font-weight: bold\">00:04</span><span style=\"color: #000000; text-decoration-color: #000000\">&lt;?, ?it/s</span><span style=\"color: #000000; text-decoration-color: #000000; font-weight: bold\">]</span><span style=\"color: #000000; text-decoration-color: #000000\">  </span><span style=\"color: #008080; text-decoration-color: #008080; font-weight: bold\">0</span><span style=\"color: #000000; text-decoration-color: #000000\">%|          | </span><span style=\"color: #008080; text-decoration-color: #008080; font-weight: bold\">0</span><span style=\"color: #000000; text-decoration-color: #000000\">/</span><span style=\"color: #008080; text-decoration-color: #008080; font-weight: bold\">1000</span><span style=\"color: #000000; text-decoration-color: #000000\"> </span><span style=\"color: #000000; text-decoration-color: #000000; font-weight: bold\">[</span><span style=\"color: #00ff00; text-decoration-color: #00ff00; font-weight: bold\">00:04</span><span style=\"color: #000000; text-decoration-color: #000000\">&lt;?, ?it/s</span><span style=\"color: #000000; text-decoration-color: #000000; font-weight: bold\">]</span><span style=\"color: #000000; text-decoration-color: #000000\">  </span><span style=\"color: #008080; text-decoration-color: #008080; font-weight: bold\">0</span><span style=\"color: #000000; text-decoration-color: #000000\">%|          | </span><span style=\"color: #008080; text-decoration-color: #008080; font-weight: bold\">0</span><span style=\"color: #000000; text-decoration-color: #000000\">/</span><span style=\"color: #008080; text-decoration-color: #008080; font-weight: bold\">1000</span><span style=\"color: #000000; text-decoration-color: #000000\"> </span><span style=\"color: #000000; text-decoration-color: #000000; font-weight: bold\">[</span><span style=\"color: #00ff00; text-decoration-color: #00ff00; font-weight: bold\">00:05</span><span style=\"color: #000000; text-decoration-color: #000000\">&lt;?, ?it/s</span><span style=\"color: #000000; text-decoration-color: #000000; font-weight: bold\">]</span><span style=\"color: #000000; text-decoration-color: #000000\">  </span><span style=\"color: #008080; text-decoration-color: #008080; font-weight: bold\">0</span><span style=\"color: #000000; text-decoration-color: #000000\">%|     </span>\n",
       "<span style=\"color: #000000; text-decoration-color: #000000\">| </span><span style=\"color: #008080; text-decoration-color: #008080; font-weight: bold\">0</span><span style=\"color: #000000; text-decoration-color: #000000\">/</span><span style=\"color: #008080; text-decoration-color: #008080; font-weight: bold\">1000</span><span style=\"color: #000000; text-decoration-color: #000000\"> </span><span style=\"color: #000000; text-decoration-color: #000000; font-weight: bold\">[</span><span style=\"color: #00ff00; text-decoration-color: #00ff00; font-weight: bold\">00:05</span><span style=\"color: #000000; text-decoration-color: #000000\">&lt;?, ?it/s</span><span style=\"color: #000000; text-decoration-color: #000000; font-weight: bold\">]</span><span style=\"color: #000000; text-decoration-color: #000000\">  </span><span style=\"color: #008080; text-decoration-color: #008080; font-weight: bold\">0</span><span style=\"color: #000000; text-decoration-color: #000000\">%|          | </span><span style=\"color: #008080; text-decoration-color: #008080; font-weight: bold\">0</span><span style=\"color: #000000; text-decoration-color: #000000\">/</span><span style=\"color: #008080; text-decoration-color: #008080; font-weight: bold\">1000</span><span style=\"color: #000000; text-decoration-color: #000000\"> </span><span style=\"color: #000000; text-decoration-color: #000000; font-weight: bold\">[</span><span style=\"color: #00ff00; text-decoration-color: #00ff00; font-weight: bold\">00:05</span><span style=\"color: #000000; text-decoration-color: #000000\">&lt;?, ?it/s</span><span style=\"color: #000000; text-decoration-color: #000000; font-weight: bold\">]</span><span style=\"color: #000000; text-decoration-color: #000000\">  </span><span style=\"color: #008080; text-decoration-color: #008080; font-weight: bold\">0</span><span style=\"color: #000000; text-decoration-color: #000000\">%|          | </span><span style=\"color: #008080; text-decoration-color: #008080; font-weight: bold\">0</span><span style=\"color: #000000; text-decoration-color: #000000\">/</span><span style=\"color: #008080; text-decoration-color: #008080; font-weight: bold\">1000</span><span style=\"color: #000000; text-decoration-color: #000000\"> </span><span style=\"color: #000000; text-decoration-color: #000000; font-weight: bold\">[</span><span style=\"color: #00ff00; text-decoration-color: #00ff00; font-weight: bold\">00:05</span><span style=\"color: #000000; text-decoration-color: #000000\">&lt;?, ?it/s</span><span style=\"color: #000000; text-decoration-color: #000000; font-weight: bold\">]</span><span style=\"color: #000000; text-decoration-color: #000000\">  </span><span style=\"color: #008080; text-decoration-color: #008080; font-weight: bold\">0</span><span style=\"color: #000000; text-decoration-color: #000000\">%|     </span>\n",
       "<span style=\"color: #000000; text-decoration-color: #000000\">| </span><span style=\"color: #008080; text-decoration-color: #008080; font-weight: bold\">0</span><span style=\"color: #000000; text-decoration-color: #000000\">/</span><span style=\"color: #008080; text-decoration-color: #008080; font-weight: bold\">1000</span><span style=\"color: #000000; text-decoration-color: #000000\"> </span><span style=\"color: #000000; text-decoration-color: #000000; font-weight: bold\">[</span><span style=\"color: #00ff00; text-decoration-color: #00ff00; font-weight: bold\">00:05</span><span style=\"color: #000000; text-decoration-color: #000000\">&lt;?, ?it/s</span><span style=\"color: #000000; text-decoration-color: #000000; font-weight: bold\">]</span><span style=\"color: #000000; text-decoration-color: #000000\">  </span><span style=\"color: #008080; text-decoration-color: #008080; font-weight: bold\">0</span><span style=\"color: #000000; text-decoration-color: #000000\">%|          | </span><span style=\"color: #008080; text-decoration-color: #008080; font-weight: bold\">0</span><span style=\"color: #000000; text-decoration-color: #000000\">/</span><span style=\"color: #008080; text-decoration-color: #008080; font-weight: bold\">1000</span><span style=\"color: #000000; text-decoration-color: #000000\"> </span><span style=\"color: #000000; text-decoration-color: #000000; font-weight: bold\">[</span><span style=\"color: #00ff00; text-decoration-color: #00ff00; font-weight: bold\">00:05</span><span style=\"color: #000000; text-decoration-color: #000000\">&lt;?, ?it/s</span><span style=\"color: #000000; text-decoration-color: #000000; font-weight: bold\">]</span><span style=\"color: #000000; text-decoration-color: #000000\">  </span><span style=\"color: #008080; text-decoration-color: #008080; font-weight: bold\">0</span><span style=\"color: #000000; text-decoration-color: #000000\">%|          | </span><span style=\"color: #008080; text-decoration-color: #008080; font-weight: bold\">0</span><span style=\"color: #000000; text-decoration-color: #000000\">/</span><span style=\"color: #008080; text-decoration-color: #008080; font-weight: bold\">1000</span><span style=\"color: #000000; text-decoration-color: #000000\"> </span><span style=\"color: #000000; text-decoration-color: #000000; font-weight: bold\">[</span><span style=\"color: #00ff00; text-decoration-color: #00ff00; font-weight: bold\">00:05</span><span style=\"color: #000000; text-decoration-color: #000000\">&lt;?, ?it/s</span><span style=\"color: #000000; text-decoration-color: #000000; font-weight: bold\">]</span><span style=\"color: #000000; text-decoration-color: #000000\">  </span><span style=\"color: #008080; text-decoration-color: #008080; font-weight: bold\">0</span><span style=\"color: #000000; text-decoration-color: #000000\">%|     </span>\n",
       "<span style=\"color: #000000; text-decoration-color: #000000\">| </span><span style=\"color: #008080; text-decoration-color: #008080; font-weight: bold\">0</span><span style=\"color: #000000; text-decoration-color: #000000\">/</span><span style=\"color: #008080; text-decoration-color: #008080; font-weight: bold\">1000</span><span style=\"color: #000000; text-decoration-color: #000000\"> </span><span style=\"color: #000000; text-decoration-color: #000000; font-weight: bold\">[</span><span style=\"color: #00ff00; text-decoration-color: #00ff00; font-weight: bold\">00:05</span><span style=\"color: #000000; text-decoration-color: #000000\">&lt;?, ?it/s</span><span style=\"color: #000000; text-decoration-color: #000000; font-weight: bold\">]</span><span style=\"color: #000000; text-decoration-color: #000000\">  </span><span style=\"color: #008080; text-decoration-color: #008080; font-weight: bold\">0</span><span style=\"color: #000000; text-decoration-color: #000000\">%|          | </span><span style=\"color: #008080; text-decoration-color: #008080; font-weight: bold\">0</span><span style=\"color: #000000; text-decoration-color: #000000\">/</span><span style=\"color: #008080; text-decoration-color: #008080; font-weight: bold\">1000</span><span style=\"color: #000000; text-decoration-color: #000000\"> </span><span style=\"color: #000000; text-decoration-color: #000000; font-weight: bold\">[</span><span style=\"color: #00ff00; text-decoration-color: #00ff00; font-weight: bold\">00:06</span><span style=\"color: #000000; text-decoration-color: #000000\">&lt;?, ?it/s</span><span style=\"color: #000000; text-decoration-color: #000000; font-weight: bold\">]</span><span style=\"color: #000000; text-decoration-color: #000000\">  </span><span style=\"color: #008080; text-decoration-color: #008080; font-weight: bold\">0</span><span style=\"color: #000000; text-decoration-color: #000000\">%|          | </span><span style=\"color: #008080; text-decoration-color: #008080; font-weight: bold\">0</span><span style=\"color: #000000; text-decoration-color: #000000\">/</span><span style=\"color: #008080; text-decoration-color: #008080; font-weight: bold\">1000</span><span style=\"color: #000000; text-decoration-color: #000000\"> </span><span style=\"color: #000000; text-decoration-color: #000000; font-weight: bold\">[</span><span style=\"color: #00ff00; text-decoration-color: #00ff00; font-weight: bold\">00:06</span><span style=\"color: #000000; text-decoration-color: #000000\">&lt;?, ?it/s</span><span style=\"color: #000000; text-decoration-color: #000000; font-weight: bold\">]</span><span style=\"color: #000000; text-decoration-color: #000000\">  </span><span style=\"color: #008080; text-decoration-color: #008080; font-weight: bold\">0</span><span style=\"color: #000000; text-decoration-color: #000000\">%|     </span>\n",
       "<span style=\"color: #000000; text-decoration-color: #000000\">| </span><span style=\"color: #008080; text-decoration-color: #008080; font-weight: bold\">0</span><span style=\"color: #000000; text-decoration-color: #000000\">/</span><span style=\"color: #008080; text-decoration-color: #008080; font-weight: bold\">1000</span><span style=\"color: #000000; text-decoration-color: #000000\"> </span><span style=\"color: #000000; text-decoration-color: #000000; font-weight: bold\">[</span><span style=\"color: #00ff00; text-decoration-color: #00ff00; font-weight: bold\">00:06</span><span style=\"color: #000000; text-decoration-color: #000000\">&lt;?, ?it/s</span><span style=\"color: #000000; text-decoration-color: #000000; font-weight: bold\">]</span><span style=\"color: #000000; text-decoration-color: #000000\">  </span><span style=\"color: #008080; text-decoration-color: #008080; font-weight: bold\">0</span><span style=\"color: #000000; text-decoration-color: #000000\">%|          | </span><span style=\"color: #008080; text-decoration-color: #008080; font-weight: bold\">0</span><span style=\"color: #000000; text-decoration-color: #000000\">/</span><span style=\"color: #008080; text-decoration-color: #008080; font-weight: bold\">1000</span><span style=\"color: #000000; text-decoration-color: #000000\"> </span><span style=\"color: #000000; text-decoration-color: #000000; font-weight: bold\">[</span><span style=\"color: #00ff00; text-decoration-color: #00ff00; font-weight: bold\">00:06</span><span style=\"color: #000000; text-decoration-color: #000000\">&lt;?, ?it/s</span><span style=\"color: #000000; text-decoration-color: #000000; font-weight: bold\">]</span><span style=\"color: #000000; text-decoration-color: #000000\">  </span><span style=\"color: #008080; text-decoration-color: #008080; font-weight: bold\">0</span><span style=\"color: #000000; text-decoration-color: #000000\">%|          | </span><span style=\"color: #008080; text-decoration-color: #008080; font-weight: bold\">0</span><span style=\"color: #000000; text-decoration-color: #000000\">/</span><span style=\"color: #008080; text-decoration-color: #008080; font-weight: bold\">1000</span><span style=\"color: #000000; text-decoration-color: #000000\"> </span><span style=\"color: #000000; text-decoration-color: #000000; font-weight: bold\">[</span><span style=\"color: #00ff00; text-decoration-color: #00ff00; font-weight: bold\">00:06</span><span style=\"color: #000000; text-decoration-color: #000000\">&lt;?, ?it/s</span><span style=\"color: #000000; text-decoration-color: #000000; font-weight: bold\">]</span><span style=\"color: #000000; text-decoration-color: #000000\">  </span><span style=\"color: #008080; text-decoration-color: #008080; font-weight: bold\">0</span><span style=\"color: #000000; text-decoration-color: #000000\">%|     </span>\n",
       "<span style=\"color: #000000; text-decoration-color: #000000\">| </span><span style=\"color: #008080; text-decoration-color: #008080; font-weight: bold\">0</span><span style=\"color: #000000; text-decoration-color: #000000\">/</span><span style=\"color: #008080; text-decoration-color: #008080; font-weight: bold\">1000</span><span style=\"color: #000000; text-decoration-color: #000000\"> </span><span style=\"color: #000000; text-decoration-color: #000000; font-weight: bold\">[</span><span style=\"color: #00ff00; text-decoration-color: #00ff00; font-weight: bold\">00:06</span><span style=\"color: #000000; text-decoration-color: #000000\">&lt;?, ?it/s</span><span style=\"color: #000000; text-decoration-color: #000000; font-weight: bold\">]</span><span style=\"color: #000000; text-decoration-color: #000000\">  </span><span style=\"color: #008080; text-decoration-color: #008080; font-weight: bold\">0</span><span style=\"color: #000000; text-decoration-color: #000000\">%|          | </span><span style=\"color: #008080; text-decoration-color: #008080; font-weight: bold\">0</span><span style=\"color: #000000; text-decoration-color: #000000\">/</span><span style=\"color: #008080; text-decoration-color: #008080; font-weight: bold\">1000</span><span style=\"color: #000000; text-decoration-color: #000000\"> </span><span style=\"color: #000000; text-decoration-color: #000000; font-weight: bold\">[</span><span style=\"color: #00ff00; text-decoration-color: #00ff00; font-weight: bold\">00:07</span><span style=\"color: #000000; text-decoration-color: #000000\">&lt;?, ?it/s</span><span style=\"color: #000000; text-decoration-color: #000000; font-weight: bold\">]</span><span style=\"color: #000000; text-decoration-color: #000000\">  </span><span style=\"color: #008080; text-decoration-color: #008080; font-weight: bold\">0</span><span style=\"color: #000000; text-decoration-color: #000000\">%|          | </span><span style=\"color: #008080; text-decoration-color: #008080; font-weight: bold\">0</span><span style=\"color: #000000; text-decoration-color: #000000\">/</span><span style=\"color: #008080; text-decoration-color: #008080; font-weight: bold\">1000</span><span style=\"color: #000000; text-decoration-color: #000000\"> </span><span style=\"color: #000000; text-decoration-color: #000000; font-weight: bold\">[</span><span style=\"color: #00ff00; text-decoration-color: #00ff00; font-weight: bold\">00:07</span><span style=\"color: #000000; text-decoration-color: #000000\">&lt;?, ?it/s</span><span style=\"color: #000000; text-decoration-color: #000000; font-weight: bold\">]</span><span style=\"color: #000000; text-decoration-color: #000000\">  </span><span style=\"color: #008080; text-decoration-color: #008080; font-weight: bold\">0</span><span style=\"color: #000000; text-decoration-color: #000000\">%|     </span>\n",
       "<span style=\"color: #000000; text-decoration-color: #000000\">| </span><span style=\"color: #008080; text-decoration-color: #008080; font-weight: bold\">0</span><span style=\"color: #000000; text-decoration-color: #000000\">/</span><span style=\"color: #008080; text-decoration-color: #008080; font-weight: bold\">1000</span><span style=\"color: #000000; text-decoration-color: #000000\"> </span><span style=\"color: #000000; text-decoration-color: #000000; font-weight: bold\">[</span><span style=\"color: #00ff00; text-decoration-color: #00ff00; font-weight: bold\">00:07</span><span style=\"color: #000000; text-decoration-color: #000000\">&lt;?, ?it/s</span><span style=\"color: #000000; text-decoration-color: #000000; font-weight: bold\">]</span><span style=\"color: #000000; text-decoration-color: #000000\">  </span><span style=\"color: #008080; text-decoration-color: #008080; font-weight: bold\">0</span><span style=\"color: #000000; text-decoration-color: #000000\">%|          | </span><span style=\"color: #008080; text-decoration-color: #008080; font-weight: bold\">0</span><span style=\"color: #000000; text-decoration-color: #000000\">/</span><span style=\"color: #008080; text-decoration-color: #008080; font-weight: bold\">1000</span><span style=\"color: #000000; text-decoration-color: #000000\"> </span><span style=\"color: #000000; text-decoration-color: #000000; font-weight: bold\">[</span><span style=\"color: #00ff00; text-decoration-color: #00ff00; font-weight: bold\">00:07</span><span style=\"color: #000000; text-decoration-color: #000000\">&lt;?, ?it/s</span><span style=\"color: #000000; text-decoration-color: #000000; font-weight: bold\">]</span><span style=\"color: #000000; text-decoration-color: #000000\">  </span><span style=\"color: #008080; text-decoration-color: #008080; font-weight: bold\">0</span><span style=\"color: #000000; text-decoration-color: #000000\">%|          | </span><span style=\"color: #008080; text-decoration-color: #008080; font-weight: bold\">0</span><span style=\"color: #000000; text-decoration-color: #000000\">/</span><span style=\"color: #008080; text-decoration-color: #008080; font-weight: bold\">1000</span><span style=\"color: #000000; text-decoration-color: #000000\"> </span><span style=\"color: #000000; text-decoration-color: #000000; font-weight: bold\">[</span><span style=\"color: #00ff00; text-decoration-color: #00ff00; font-weight: bold\">00:07</span><span style=\"color: #000000; text-decoration-color: #000000\">&lt;?, ?it/s</span><span style=\"color: #000000; text-decoration-color: #000000; font-weight: bold\">]</span><span style=\"color: #000000; text-decoration-color: #000000\">  </span><span style=\"color: #008080; text-decoration-color: #008080; font-weight: bold\">0</span><span style=\"color: #000000; text-decoration-color: #000000\">%|     </span>\n",
       "<span style=\"color: #000000; text-decoration-color: #000000\">| </span><span style=\"color: #008080; text-decoration-color: #008080; font-weight: bold\">0</span><span style=\"color: #000000; text-decoration-color: #000000\">/</span><span style=\"color: #008080; text-decoration-color: #008080; font-weight: bold\">1000</span><span style=\"color: #000000; text-decoration-color: #000000\"> </span><span style=\"color: #000000; text-decoration-color: #000000; font-weight: bold\">[</span><span style=\"color: #00ff00; text-decoration-color: #00ff00; font-weight: bold\">00:07</span><span style=\"color: #000000; text-decoration-color: #000000\">&lt;?, ?it/s</span><span style=\"color: #000000; text-decoration-color: #000000; font-weight: bold\">]</span><span style=\"color: #000000; text-decoration-color: #000000\">  </span><span style=\"color: #008080; text-decoration-color: #008080; font-weight: bold\">0</span><span style=\"color: #000000; text-decoration-color: #000000\">%|          | </span><span style=\"color: #008080; text-decoration-color: #008080; font-weight: bold\">0</span><span style=\"color: #000000; text-decoration-color: #000000\">/</span><span style=\"color: #008080; text-decoration-color: #008080; font-weight: bold\">1000</span><span style=\"color: #000000; text-decoration-color: #000000\"> </span><span style=\"color: #000000; text-decoration-color: #000000; font-weight: bold\">[</span><span style=\"color: #00ff00; text-decoration-color: #00ff00; font-weight: bold\">00:07</span><span style=\"color: #000000; text-decoration-color: #000000\">&lt;?, ?it/s</span><span style=\"color: #000000; text-decoration-color: #000000; font-weight: bold\">]</span><span style=\"color: #000000; text-decoration-color: #000000\">  </span><span style=\"color: #008080; text-decoration-color: #008080; font-weight: bold\">0</span><span style=\"color: #000000; text-decoration-color: #000000\">%|          | </span><span style=\"color: #008080; text-decoration-color: #008080; font-weight: bold\">0</span><span style=\"color: #000000; text-decoration-color: #000000\">/</span><span style=\"color: #008080; text-decoration-color: #008080; font-weight: bold\">1000</span><span style=\"color: #000000; text-decoration-color: #000000\"> </span><span style=\"color: #000000; text-decoration-color: #000000; font-weight: bold\">[</span><span style=\"color: #00ff00; text-decoration-color: #00ff00; font-weight: bold\">00:07</span><span style=\"color: #000000; text-decoration-color: #000000\">&lt;?, ?it/s</span><span style=\"color: #000000; text-decoration-color: #000000; font-weight: bold\">]</span><span style=\"color: #000000; text-decoration-color: #000000\">  </span><span style=\"color: #008080; text-decoration-color: #008080; font-weight: bold\">0</span><span style=\"color: #000000; text-decoration-color: #000000\">%|     </span>\n",
       "<span style=\"color: #000000; text-decoration-color: #000000\">| </span><span style=\"color: #008080; text-decoration-color: #008080; font-weight: bold\">0</span><span style=\"color: #000000; text-decoration-color: #000000\">/</span><span style=\"color: #008080; text-decoration-color: #008080; font-weight: bold\">1000</span><span style=\"color: #000000; text-decoration-color: #000000\"> </span><span style=\"color: #000000; text-decoration-color: #000000; font-weight: bold\">[</span><span style=\"color: #00ff00; text-decoration-color: #00ff00; font-weight: bold\">00:07</span><span style=\"color: #000000; text-decoration-color: #000000\">&lt;?, ?it/s</span><span style=\"color: #000000; text-decoration-color: #000000; font-weight: bold\">]</span><span style=\"color: #000000; text-decoration-color: #000000\">  </span><span style=\"color: #008080; text-decoration-color: #008080; font-weight: bold\">0</span><span style=\"color: #000000; text-decoration-color: #000000\">%|          | </span><span style=\"color: #008080; text-decoration-color: #008080; font-weight: bold\">0</span><span style=\"color: #000000; text-decoration-color: #000000\">/</span><span style=\"color: #008080; text-decoration-color: #008080; font-weight: bold\">1000</span><span style=\"color: #000000; text-decoration-color: #000000\"> </span><span style=\"color: #000000; text-decoration-color: #000000; font-weight: bold\">[</span><span style=\"color: #00ff00; text-decoration-color: #00ff00; font-weight: bold\">00:08</span><span style=\"color: #000000; text-decoration-color: #000000\">&lt;?, ?it/s</span><span style=\"color: #000000; text-decoration-color: #000000; font-weight: bold\">]</span><span style=\"color: #000000; text-decoration-color: #000000\">  </span><span style=\"color: #008080; text-decoration-color: #008080; font-weight: bold\">0</span><span style=\"color: #000000; text-decoration-color: #000000\">%|          | </span><span style=\"color: #008080; text-decoration-color: #008080; font-weight: bold\">0</span><span style=\"color: #000000; text-decoration-color: #000000\">/</span><span style=\"color: #008080; text-decoration-color: #008080; font-weight: bold\">1000</span><span style=\"color: #000000; text-decoration-color: #000000\"> </span><span style=\"color: #000000; text-decoration-color: #000000; font-weight: bold\">[</span><span style=\"color: #00ff00; text-decoration-color: #00ff00; font-weight: bold\">00:08</span><span style=\"color: #000000; text-decoration-color: #000000\">&lt;?, ?it/s</span><span style=\"color: #000000; text-decoration-color: #000000; font-weight: bold\">]</span><span style=\"color: #000000; text-decoration-color: #000000\">  </span><span style=\"color: #008080; text-decoration-color: #008080; font-weight: bold\">0</span><span style=\"color: #000000; text-decoration-color: #000000\">%|     </span>\n",
       "<span style=\"color: #000000; text-decoration-color: #000000\">| </span><span style=\"color: #008080; text-decoration-color: #008080; font-weight: bold\">0</span><span style=\"color: #000000; text-decoration-color: #000000\">/</span><span style=\"color: #008080; text-decoration-color: #008080; font-weight: bold\">1000</span><span style=\"color: #000000; text-decoration-color: #000000\"> </span><span style=\"color: #000000; text-decoration-color: #000000; font-weight: bold\">[</span><span style=\"color: #00ff00; text-decoration-color: #00ff00; font-weight: bold\">00:08</span><span style=\"color: #000000; text-decoration-color: #000000\">&lt;?, ?it/s</span><span style=\"color: #000000; text-decoration-color: #000000; font-weight: bold\">]</span><span style=\"color: #000000; text-decoration-color: #000000\">  </span><span style=\"color: #008080; text-decoration-color: #008080; font-weight: bold\">0</span><span style=\"color: #000000; text-decoration-color: #000000\">%|          | </span><span style=\"color: #008080; text-decoration-color: #008080; font-weight: bold\">0</span><span style=\"color: #000000; text-decoration-color: #000000\">/</span><span style=\"color: #008080; text-decoration-color: #008080; font-weight: bold\">1000</span><span style=\"color: #000000; text-decoration-color: #000000\"> </span><span style=\"color: #000000; text-decoration-color: #000000; font-weight: bold\">[</span><span style=\"color: #00ff00; text-decoration-color: #00ff00; font-weight: bold\">00:08</span><span style=\"color: #000000; text-decoration-color: #000000\">&lt;?, ?it/s</span><span style=\"color: #000000; text-decoration-color: #000000; font-weight: bold\">]</span><span style=\"color: #000000; text-decoration-color: #000000\">  </span><span style=\"color: #008080; text-decoration-color: #008080; font-weight: bold\">0</span><span style=\"color: #000000; text-decoration-color: #000000\">%|          | </span><span style=\"color: #008080; text-decoration-color: #008080; font-weight: bold\">0</span><span style=\"color: #000000; text-decoration-color: #000000\">/</span><span style=\"color: #008080; text-decoration-color: #008080; font-weight: bold\">1000</span><span style=\"color: #000000; text-decoration-color: #000000\"> </span><span style=\"color: #000000; text-decoration-color: #000000; font-weight: bold\">[</span><span style=\"color: #00ff00; text-decoration-color: #00ff00; font-weight: bold\">00:08</span><span style=\"color: #000000; text-decoration-color: #000000\">&lt;?, ?it/s</span><span style=\"color: #000000; text-decoration-color: #000000; font-weight: bold\">]</span><span style=\"color: #000000; text-decoration-color: #000000\">  </span><span style=\"color: #008080; text-decoration-color: #008080; font-weight: bold\">0</span><span style=\"color: #000000; text-decoration-color: #000000\">%|     </span>\n",
       "<span style=\"color: #000000; text-decoration-color: #000000\">| </span><span style=\"color: #008080; text-decoration-color: #008080; font-weight: bold\">0</span><span style=\"color: #000000; text-decoration-color: #000000\">/</span><span style=\"color: #008080; text-decoration-color: #008080; font-weight: bold\">1000</span><span style=\"color: #000000; text-decoration-color: #000000\"> </span><span style=\"color: #000000; text-decoration-color: #000000; font-weight: bold\">[</span><span style=\"color: #00ff00; text-decoration-color: #00ff00; font-weight: bold\">00:08</span><span style=\"color: #000000; text-decoration-color: #000000\">&lt;?, ?it/s</span><span style=\"color: #000000; text-decoration-color: #000000; font-weight: bold\">]</span><span style=\"color: #000000; text-decoration-color: #000000\">  </span><span style=\"color: #008080; text-decoration-color: #008080; font-weight: bold\">0</span><span style=\"color: #000000; text-decoration-color: #000000\">%|          | </span><span style=\"color: #008080; text-decoration-color: #008080; font-weight: bold\">0</span><span style=\"color: #000000; text-decoration-color: #000000\">/</span><span style=\"color: #008080; text-decoration-color: #008080; font-weight: bold\">1000</span><span style=\"color: #000000; text-decoration-color: #000000\"> </span><span style=\"color: #000000; text-decoration-color: #000000; font-weight: bold\">[</span><span style=\"color: #00ff00; text-decoration-color: #00ff00; font-weight: bold\">00:08</span><span style=\"color: #000000; text-decoration-color: #000000\">&lt;?, ?it/s</span><span style=\"color: #000000; text-decoration-color: #000000; font-weight: bold\">]</span><span style=\"color: #000000; text-decoration-color: #000000\">  </span><span style=\"color: #008080; text-decoration-color: #008080; font-weight: bold\">0</span><span style=\"color: #000000; text-decoration-color: #000000\">%|          | </span><span style=\"color: #008080; text-decoration-color: #008080; font-weight: bold\">0</span><span style=\"color: #000000; text-decoration-color: #000000\">/</span><span style=\"color: #008080; text-decoration-color: #008080; font-weight: bold\">1000</span><span style=\"color: #000000; text-decoration-color: #000000\"> </span><span style=\"color: #000000; text-decoration-color: #000000; font-weight: bold\">[</span><span style=\"color: #00ff00; text-decoration-color: #00ff00; font-weight: bold\">00:08</span><span style=\"color: #000000; text-decoration-color: #000000\">&lt;?, ?it/s</span><span style=\"color: #000000; text-decoration-color: #000000; font-weight: bold\">]</span><span style=\"color: #000000; text-decoration-color: #000000\">  </span><span style=\"color: #008080; text-decoration-color: #008080; font-weight: bold\">0</span><span style=\"color: #000000; text-decoration-color: #000000\">%|     </span>\n",
       "<span style=\"color: #000000; text-decoration-color: #000000\">| </span><span style=\"color: #008080; text-decoration-color: #008080; font-weight: bold\">0</span><span style=\"color: #000000; text-decoration-color: #000000\">/</span><span style=\"color: #008080; text-decoration-color: #008080; font-weight: bold\">1000</span><span style=\"color: #000000; text-decoration-color: #000000\"> </span><span style=\"color: #000000; text-decoration-color: #000000; font-weight: bold\">[</span><span style=\"color: #00ff00; text-decoration-color: #00ff00; font-weight: bold\">00:08</span><span style=\"color: #000000; text-decoration-color: #000000\">&lt;?, ?it/s</span><span style=\"color: #000000; text-decoration-color: #000000; font-weight: bold\">]</span><span style=\"color: #000000; text-decoration-color: #000000\">  </span><span style=\"color: #008080; text-decoration-color: #008080; font-weight: bold\">0</span><span style=\"color: #000000; text-decoration-color: #000000\">%|          | </span><span style=\"color: #008080; text-decoration-color: #008080; font-weight: bold\">0</span><span style=\"color: #000000; text-decoration-color: #000000\">/</span><span style=\"color: #008080; text-decoration-color: #008080; font-weight: bold\">1000</span><span style=\"color: #000000; text-decoration-color: #000000\"> </span><span style=\"color: #000000; text-decoration-color: #000000; font-weight: bold\">[</span><span style=\"color: #00ff00; text-decoration-color: #00ff00; font-weight: bold\">00:09</span><span style=\"color: #000000; text-decoration-color: #000000\">&lt;?, ?it/s</span><span style=\"color: #000000; text-decoration-color: #000000; font-weight: bold\">]</span><span style=\"color: #000000; text-decoration-color: #000000\">  </span><span style=\"color: #008080; text-decoration-color: #008080; font-weight: bold\">0</span><span style=\"color: #000000; text-decoration-color: #000000\">%|          | </span><span style=\"color: #008080; text-decoration-color: #008080; font-weight: bold\">0</span><span style=\"color: #000000; text-decoration-color: #000000\">/</span><span style=\"color: #008080; text-decoration-color: #008080; font-weight: bold\">1000</span><span style=\"color: #000000; text-decoration-color: #000000\"> </span><span style=\"color: #000000; text-decoration-color: #000000; font-weight: bold\">[</span><span style=\"color: #00ff00; text-decoration-color: #00ff00; font-weight: bold\">00:09</span><span style=\"color: #000000; text-decoration-color: #000000\">&lt;?, ?it/s</span><span style=\"color: #000000; text-decoration-color: #000000; font-weight: bold\">]</span><span style=\"color: #000000; text-decoration-color: #000000\">  </span><span style=\"color: #008080; text-decoration-color: #008080; font-weight: bold\">0</span><span style=\"color: #000000; text-decoration-color: #000000\">%|     </span>\n",
       "<span style=\"color: #000000; text-decoration-color: #000000\">| </span><span style=\"color: #008080; text-decoration-color: #008080; font-weight: bold\">0</span><span style=\"color: #000000; text-decoration-color: #000000\">/</span><span style=\"color: #008080; text-decoration-color: #008080; font-weight: bold\">1000</span><span style=\"color: #000000; text-decoration-color: #000000\"> </span><span style=\"color: #000000; text-decoration-color: #000000; font-weight: bold\">[</span><span style=\"color: #00ff00; text-decoration-color: #00ff00; font-weight: bold\">00:09</span><span style=\"color: #000000; text-decoration-color: #000000\">&lt;?, ?it/s</span><span style=\"color: #000000; text-decoration-color: #000000; font-weight: bold\">]</span><span style=\"color: #000000; text-decoration-color: #000000\">  </span><span style=\"color: #008080; text-decoration-color: #008080; font-weight: bold\">0</span><span style=\"color: #000000; text-decoration-color: #000000\">%|          | </span><span style=\"color: #008080; text-decoration-color: #008080; font-weight: bold\">0</span><span style=\"color: #000000; text-decoration-color: #000000\">/</span><span style=\"color: #008080; text-decoration-color: #008080; font-weight: bold\">1000</span><span style=\"color: #000000; text-decoration-color: #000000\"> </span><span style=\"color: #000000; text-decoration-color: #000000; font-weight: bold\">[</span><span style=\"color: #00ff00; text-decoration-color: #00ff00; font-weight: bold\">00:09</span><span style=\"color: #000000; text-decoration-color: #000000\">&lt;?, ?it/s</span><span style=\"color: #000000; text-decoration-color: #000000; font-weight: bold\">]</span><span style=\"color: #000000; text-decoration-color: #000000\">  </span><span style=\"color: #008080; text-decoration-color: #008080; font-weight: bold\">0</span><span style=\"color: #000000; text-decoration-color: #000000\">%|          | </span><span style=\"color: #008080; text-decoration-color: #008080; font-weight: bold\">0</span><span style=\"color: #000000; text-decoration-color: #000000\">/</span><span style=\"color: #008080; text-decoration-color: #008080; font-weight: bold\">1000</span><span style=\"color: #000000; text-decoration-color: #000000\"> </span><span style=\"color: #000000; text-decoration-color: #000000; font-weight: bold\">[</span><span style=\"color: #00ff00; text-decoration-color: #00ff00; font-weight: bold\">00:09</span><span style=\"color: #000000; text-decoration-color: #000000\">&lt;?, ?it/s</span><span style=\"color: #000000; text-decoration-color: #000000; font-weight: bold\">]</span><span style=\"color: #000000; text-decoration-color: #000000\">  </span><span style=\"color: #008080; text-decoration-color: #008080; font-weight: bold\">0</span><span style=\"color: #000000; text-decoration-color: #000000\">%|     </span>\n",
       "<span style=\"color: #000000; text-decoration-color: #000000\">| </span><span style=\"color: #008080; text-decoration-color: #008080; font-weight: bold\">0</span><span style=\"color: #000000; text-decoration-color: #000000\">/</span><span style=\"color: #008080; text-decoration-color: #008080; font-weight: bold\">1000</span><span style=\"color: #000000; text-decoration-color: #000000\"> </span><span style=\"color: #000000; text-decoration-color: #000000; font-weight: bold\">[</span><span style=\"color: #00ff00; text-decoration-color: #00ff00; font-weight: bold\">00:09</span><span style=\"color: #000000; text-decoration-color: #000000\">&lt;?, ?it/s</span><span style=\"color: #000000; text-decoration-color: #000000; font-weight: bold\">]</span><span style=\"color: #000000; text-decoration-color: #000000\">  </span><span style=\"color: #008080; text-decoration-color: #008080; font-weight: bold\">0</span><span style=\"color: #000000; text-decoration-color: #000000\">%|          | </span><span style=\"color: #008080; text-decoration-color: #008080; font-weight: bold\">0</span><span style=\"color: #000000; text-decoration-color: #000000\">/</span><span style=\"color: #008080; text-decoration-color: #008080; font-weight: bold\">1000</span><span style=\"color: #000000; text-decoration-color: #000000\"> </span><span style=\"color: #000000; text-decoration-color: #000000; font-weight: bold\">[</span><span style=\"color: #00ff00; text-decoration-color: #00ff00; font-weight: bold\">00:09</span><span style=\"color: #000000; text-decoration-color: #000000\">&lt;?, ?it/s</span><span style=\"color: #000000; text-decoration-color: #000000; font-weight: bold\">]</span><span style=\"color: #000000; text-decoration-color: #000000\">  </span><span style=\"color: #008080; text-decoration-color: #008080; font-weight: bold\">0</span><span style=\"color: #000000; text-decoration-color: #000000\">%|          | </span><span style=\"color: #008080; text-decoration-color: #008080; font-weight: bold\">0</span><span style=\"color: #000000; text-decoration-color: #000000\">/</span><span style=\"color: #008080; text-decoration-color: #008080; font-weight: bold\">1000</span><span style=\"color: #000000; text-decoration-color: #000000\"> </span><span style=\"color: #000000; text-decoration-color: #000000; font-weight: bold\">[</span><span style=\"color: #00ff00; text-decoration-color: #00ff00; font-weight: bold\">00:09</span><span style=\"color: #000000; text-decoration-color: #000000\">&lt;?, ?it/s</span><span style=\"color: #000000; text-decoration-color: #000000; font-weight: bold\">]</span><span style=\"color: #000000; text-decoration-color: #000000\">  </span><span style=\"color: #008080; text-decoration-color: #008080; font-weight: bold\">0</span><span style=\"color: #000000; text-decoration-color: #000000\">%|     </span>\n",
       "<span style=\"color: #000000; text-decoration-color: #000000\">| </span><span style=\"color: #008080; text-decoration-color: #008080; font-weight: bold\">0</span><span style=\"color: #000000; text-decoration-color: #000000\">/</span><span style=\"color: #008080; text-decoration-color: #008080; font-weight: bold\">1000</span><span style=\"color: #000000; text-decoration-color: #000000\"> </span><span style=\"color: #000000; text-decoration-color: #000000; font-weight: bold\">[</span><span style=\"color: #00ff00; text-decoration-color: #00ff00; font-weight: bold\">00:10</span><span style=\"color: #000000; text-decoration-color: #000000\">&lt;?, ?it/s</span><span style=\"color: #000000; text-decoration-color: #000000; font-weight: bold\">]</span><span style=\"color: #000000; text-decoration-color: #000000\">  </span><span style=\"color: #008080; text-decoration-color: #008080; font-weight: bold\">0</span><span style=\"color: #000000; text-decoration-color: #000000\">%|          | </span><span style=\"color: #008080; text-decoration-color: #008080; font-weight: bold\">0</span><span style=\"color: #000000; text-decoration-color: #000000\">/</span><span style=\"color: #008080; text-decoration-color: #008080; font-weight: bold\">1000</span><span style=\"color: #000000; text-decoration-color: #000000\"> </span><span style=\"color: #000000; text-decoration-color: #000000; font-weight: bold\">[</span><span style=\"color: #00ff00; text-decoration-color: #00ff00; font-weight: bold\">00:10</span><span style=\"color: #000000; text-decoration-color: #000000\">&lt;?, ?it/s</span><span style=\"color: #000000; text-decoration-color: #000000; font-weight: bold\">]</span><span style=\"color: #000000; text-decoration-color: #000000\">  </span><span style=\"color: #008080; text-decoration-color: #008080; font-weight: bold\">0</span><span style=\"color: #000000; text-decoration-color: #000000\">%|          | </span><span style=\"color: #008080; text-decoration-color: #008080; font-weight: bold\">0</span><span style=\"color: #000000; text-decoration-color: #000000\">/</span><span style=\"color: #008080; text-decoration-color: #008080; font-weight: bold\">1000</span><span style=\"color: #000000; text-decoration-color: #000000\"> </span><span style=\"color: #000000; text-decoration-color: #000000; font-weight: bold\">[</span><span style=\"color: #00ff00; text-decoration-color: #00ff00; font-weight: bold\">00:10</span><span style=\"color: #000000; text-decoration-color: #000000\">&lt;?, ?it/s</span><span style=\"color: #000000; text-decoration-color: #000000; font-weight: bold\">]</span><span style=\"color: #000000; text-decoration-color: #000000\">  </span><span style=\"color: #008080; text-decoration-color: #008080; font-weight: bold\">0</span><span style=\"color: #000000; text-decoration-color: #000000\">%|     </span>\n",
       "<span style=\"color: #000000; text-decoration-color: #000000\">| </span><span style=\"color: #008080; text-decoration-color: #008080; font-weight: bold\">0</span><span style=\"color: #000000; text-decoration-color: #000000\">/</span><span style=\"color: #008080; text-decoration-color: #008080; font-weight: bold\">1000</span><span style=\"color: #000000; text-decoration-color: #000000\"> </span><span style=\"color: #000000; text-decoration-color: #000000; font-weight: bold\">[</span><span style=\"color: #00ff00; text-decoration-color: #00ff00; font-weight: bold\">00:10</span><span style=\"color: #000000; text-decoration-color: #000000\">&lt;?, ?it/s</span><span style=\"color: #000000; text-decoration-color: #000000; font-weight: bold\">]</span><span style=\"color: #000000; text-decoration-color: #000000\">  </span><span style=\"color: #008080; text-decoration-color: #008080; font-weight: bold\">0</span><span style=\"color: #000000; text-decoration-color: #000000\">%|          | </span><span style=\"color: #008080; text-decoration-color: #008080; font-weight: bold\">0</span><span style=\"color: #000000; text-decoration-color: #000000\">/</span><span style=\"color: #008080; text-decoration-color: #008080; font-weight: bold\">1000</span><span style=\"color: #000000; text-decoration-color: #000000\"> </span><span style=\"color: #000000; text-decoration-color: #000000; font-weight: bold\">[</span><span style=\"color: #00ff00; text-decoration-color: #00ff00; font-weight: bold\">00:10</span><span style=\"color: #000000; text-decoration-color: #000000\">&lt;?, ?it/s</span><span style=\"color: #000000; text-decoration-color: #000000; font-weight: bold\">]</span><span style=\"color: #000000; text-decoration-color: #000000\">  </span><span style=\"color: #008080; text-decoration-color: #008080; font-weight: bold\">0</span><span style=\"color: #000000; text-decoration-color: #000000\">%|          | </span><span style=\"color: #008080; text-decoration-color: #008080; font-weight: bold\">0</span><span style=\"color: #000000; text-decoration-color: #000000\">/</span><span style=\"color: #008080; text-decoration-color: #008080; font-weight: bold\">1000</span><span style=\"color: #000000; text-decoration-color: #000000\"> </span><span style=\"color: #000000; text-decoration-color: #000000; font-weight: bold\">[</span><span style=\"color: #00ff00; text-decoration-color: #00ff00; font-weight: bold\">00:10</span><span style=\"color: #000000; text-decoration-color: #000000\">&lt;?, ?it/s</span><span style=\"color: #000000; text-decoration-color: #000000; font-weight: bold\">]</span><span style=\"color: #000000; text-decoration-color: #000000\">  </span><span style=\"color: #008080; text-decoration-color: #008080; font-weight: bold\">0</span><span style=\"color: #000000; text-decoration-color: #000000\">%|     </span>\n",
       "<span style=\"color: #000000; text-decoration-color: #000000\">| </span><span style=\"color: #008080; text-decoration-color: #008080; font-weight: bold\">0</span><span style=\"color: #000000; text-decoration-color: #000000\">/</span><span style=\"color: #008080; text-decoration-color: #008080; font-weight: bold\">1000</span><span style=\"color: #000000; text-decoration-color: #000000\"> </span><span style=\"color: #000000; text-decoration-color: #000000; font-weight: bold\">[</span><span style=\"color: #00ff00; text-decoration-color: #00ff00; font-weight: bold\">00:10</span><span style=\"color: #000000; text-decoration-color: #000000\">&lt;?, ?it/s</span><span style=\"color: #000000; text-decoration-color: #000000; font-weight: bold\">]</span><span style=\"color: #000000; text-decoration-color: #000000\">  </span><span style=\"color: #008080; text-decoration-color: #008080; font-weight: bold\">0</span><span style=\"color: #000000; text-decoration-color: #000000\">%|          | </span><span style=\"color: #008080; text-decoration-color: #008080; font-weight: bold\">0</span><span style=\"color: #000000; text-decoration-color: #000000\">/</span><span style=\"color: #008080; text-decoration-color: #008080; font-weight: bold\">1000</span><span style=\"color: #000000; text-decoration-color: #000000\"> </span><span style=\"color: #000000; text-decoration-color: #000000; font-weight: bold\">[</span><span style=\"color: #00ff00; text-decoration-color: #00ff00; font-weight: bold\">00:10</span><span style=\"color: #000000; text-decoration-color: #000000\">&lt;?, ?it/s</span><span style=\"color: #000000; text-decoration-color: #000000; font-weight: bold\">]</span><span style=\"color: #000000; text-decoration-color: #000000\">  </span><span style=\"color: #008080; text-decoration-color: #008080; font-weight: bold\">0</span><span style=\"color: #000000; text-decoration-color: #000000\">%|          | </span><span style=\"color: #008080; text-decoration-color: #008080; font-weight: bold\">0</span><span style=\"color: #000000; text-decoration-color: #000000\">/</span><span style=\"color: #008080; text-decoration-color: #008080; font-weight: bold\">1000</span><span style=\"color: #000000; text-decoration-color: #000000\"> </span><span style=\"color: #000000; text-decoration-color: #000000; font-weight: bold\">[</span><span style=\"color: #00ff00; text-decoration-color: #00ff00; font-weight: bold\">00:11</span><span style=\"color: #000000; text-decoration-color: #000000\">&lt;?, ?it/s</span><span style=\"color: #000000; text-decoration-color: #000000; font-weight: bold\">]</span><span style=\"color: #000000; text-decoration-color: #000000\">  </span><span style=\"color: #008080; text-decoration-color: #008080; font-weight: bold\">0</span><span style=\"color: #000000; text-decoration-color: #000000\">%|     </span>\n",
       "<span style=\"color: #000000; text-decoration-color: #000000\">| </span><span style=\"color: #008080; text-decoration-color: #008080; font-weight: bold\">0</span><span style=\"color: #000000; text-decoration-color: #000000\">/</span><span style=\"color: #008080; text-decoration-color: #008080; font-weight: bold\">1000</span><span style=\"color: #000000; text-decoration-color: #000000\"> </span><span style=\"color: #000000; text-decoration-color: #000000; font-weight: bold\">[</span><span style=\"color: #00ff00; text-decoration-color: #00ff00; font-weight: bold\">00:11</span><span style=\"color: #000000; text-decoration-color: #000000\">&lt;?, ?it/s</span><span style=\"color: #000000; text-decoration-color: #000000; font-weight: bold\">]</span><span style=\"color: #000000; text-decoration-color: #000000\">  </span><span style=\"color: #008080; text-decoration-color: #008080; font-weight: bold\">0</span><span style=\"color: #000000; text-decoration-color: #000000\">%|          | </span><span style=\"color: #008080; text-decoration-color: #008080; font-weight: bold\">0</span><span style=\"color: #000000; text-decoration-color: #000000\">/</span><span style=\"color: #008080; text-decoration-color: #008080; font-weight: bold\">1000</span><span style=\"color: #000000; text-decoration-color: #000000\"> </span><span style=\"color: #000000; text-decoration-color: #000000; font-weight: bold\">[</span><span style=\"color: #00ff00; text-decoration-color: #00ff00; font-weight: bold\">00:11</span><span style=\"color: #000000; text-decoration-color: #000000\">&lt;?, ?it/s</span><span style=\"color: #000000; text-decoration-color: #000000; font-weight: bold\">]</span><span style=\"color: #000000; text-decoration-color: #000000\">  </span><span style=\"color: #008080; text-decoration-color: #008080; font-weight: bold\">0</span><span style=\"color: #000000; text-decoration-color: #000000\">%|          | </span><span style=\"color: #008080; text-decoration-color: #008080; font-weight: bold\">0</span><span style=\"color: #000000; text-decoration-color: #000000\">/</span><span style=\"color: #008080; text-decoration-color: #008080; font-weight: bold\">1000</span><span style=\"color: #000000; text-decoration-color: #000000\"> </span><span style=\"color: #000000; text-decoration-color: #000000; font-weight: bold\">[</span><span style=\"color: #00ff00; text-decoration-color: #00ff00; font-weight: bold\">00:11</span><span style=\"color: #000000; text-decoration-color: #000000\">&lt;?, ?it/s</span><span style=\"color: #000000; text-decoration-color: #000000; font-weight: bold\">]</span><span style=\"color: #000000; text-decoration-color: #000000\">  </span><span style=\"color: #008080; text-decoration-color: #008080; font-weight: bold\">0</span><span style=\"color: #000000; text-decoration-color: #000000\">%|     </span>\n",
       "<span style=\"color: #000000; text-decoration-color: #000000\">| </span><span style=\"color: #008080; text-decoration-color: #008080; font-weight: bold\">0</span><span style=\"color: #000000; text-decoration-color: #000000\">/</span><span style=\"color: #008080; text-decoration-color: #008080; font-weight: bold\">1000</span><span style=\"color: #000000; text-decoration-color: #000000\"> </span><span style=\"color: #000000; text-decoration-color: #000000; font-weight: bold\">[</span><span style=\"color: #00ff00; text-decoration-color: #00ff00; font-weight: bold\">00:11</span><span style=\"color: #000000; text-decoration-color: #000000\">&lt;?, ?it/s</span><span style=\"color: #000000; text-decoration-color: #000000; font-weight: bold\">]</span><span style=\"color: #000000; text-decoration-color: #000000\">  </span><span style=\"color: #008080; text-decoration-color: #008080; font-weight: bold\">0</span><span style=\"color: #000000; text-decoration-color: #000000\">%|          | </span><span style=\"color: #008080; text-decoration-color: #008080; font-weight: bold\">0</span><span style=\"color: #000000; text-decoration-color: #000000\">/</span><span style=\"color: #008080; text-decoration-color: #008080; font-weight: bold\">1000</span><span style=\"color: #000000; text-decoration-color: #000000\"> </span><span style=\"color: #000000; text-decoration-color: #000000; font-weight: bold\">[</span><span style=\"color: #00ff00; text-decoration-color: #00ff00; font-weight: bold\">00:11</span><span style=\"color: #000000; text-decoration-color: #000000\">&lt;?, ?it/s</span><span style=\"color: #000000; text-decoration-color: #000000; font-weight: bold\">]</span><span style=\"color: #000000; text-decoration-color: #000000\">  </span><span style=\"color: #008080; text-decoration-color: #008080; font-weight: bold\">0</span><span style=\"color: #000000; text-decoration-color: #000000\">%|          | </span><span style=\"color: #008080; text-decoration-color: #008080; font-weight: bold\">0</span><span style=\"color: #000000; text-decoration-color: #000000\">/</span><span style=\"color: #008080; text-decoration-color: #008080; font-weight: bold\">1000</span><span style=\"color: #000000; text-decoration-color: #000000\"> </span><span style=\"color: #000000; text-decoration-color: #000000; font-weight: bold\">[</span><span style=\"color: #00ff00; text-decoration-color: #00ff00; font-weight: bold\">00:11</span><span style=\"color: #000000; text-decoration-color: #000000\">&lt;?, ?it/s</span><span style=\"color: #000000; text-decoration-color: #000000; font-weight: bold\">]</span><span style=\"color: #000000; text-decoration-color: #000000\">  </span><span style=\"color: #008080; text-decoration-color: #008080; font-weight: bold\">0</span><span style=\"color: #000000; text-decoration-color: #000000\">%|     </span>\n",
       "<span style=\"color: #000000; text-decoration-color: #000000\">| </span><span style=\"color: #008080; text-decoration-color: #008080; font-weight: bold\">0</span><span style=\"color: #000000; text-decoration-color: #000000\">/</span><span style=\"color: #008080; text-decoration-color: #008080; font-weight: bold\">1000</span><span style=\"color: #000000; text-decoration-color: #000000\"> </span><span style=\"color: #000000; text-decoration-color: #000000; font-weight: bold\">[</span><span style=\"color: #00ff00; text-decoration-color: #00ff00; font-weight: bold\">00:11</span><span style=\"color: #000000; text-decoration-color: #000000\">&lt;?, ?it/s</span><span style=\"color: #000000; text-decoration-color: #000000; font-weight: bold\">]</span><span style=\"color: #000000; text-decoration-color: #000000\">  </span><span style=\"color: #008080; text-decoration-color: #008080; font-weight: bold\">0</span><span style=\"color: #000000; text-decoration-color: #000000\">%|          | </span><span style=\"color: #008080; text-decoration-color: #008080; font-weight: bold\">0</span><span style=\"color: #000000; text-decoration-color: #000000\">/</span><span style=\"color: #008080; text-decoration-color: #008080; font-weight: bold\">1000</span><span style=\"color: #000000; text-decoration-color: #000000\"> </span><span style=\"color: #000000; text-decoration-color: #000000; font-weight: bold\">[</span><span style=\"color: #00ff00; text-decoration-color: #00ff00; font-weight: bold\">00:12</span><span style=\"color: #000000; text-decoration-color: #000000\">&lt;?, ?it/s</span><span style=\"color: #000000; text-decoration-color: #000000; font-weight: bold\">]</span><span style=\"color: #000000; text-decoration-color: #000000\">  </span><span style=\"color: #008080; text-decoration-color: #008080; font-weight: bold\">0</span><span style=\"color: #000000; text-decoration-color: #000000\">%|          | </span><span style=\"color: #008080; text-decoration-color: #008080; font-weight: bold\">0</span><span style=\"color: #000000; text-decoration-color: #000000\">/</span><span style=\"color: #008080; text-decoration-color: #008080; font-weight: bold\">1000</span><span style=\"color: #000000; text-decoration-color: #000000\"> </span><span style=\"color: #000000; text-decoration-color: #000000; font-weight: bold\">[</span><span style=\"color: #00ff00; text-decoration-color: #00ff00; font-weight: bold\">00:12</span><span style=\"color: #000000; text-decoration-color: #000000\">&lt;?, ?it/s</span><span style=\"color: #000000; text-decoration-color: #000000; font-weight: bold\">]</span><span style=\"color: #000000; text-decoration-color: #000000\"> </span><span style=\"color: #008080; text-decoration-color: #008080; font-weight: bold\">10</span><span style=\"color: #000000; text-decoration-color: #000000\">%|█    </span>\n",
       "<span style=\"color: #000000; text-decoration-color: #000000\">| </span><span style=\"color: #008080; text-decoration-color: #008080; font-weight: bold\">100</span><span style=\"color: #000000; text-decoration-color: #000000\">/</span><span style=\"color: #008080; text-decoration-color: #008080; font-weight: bold\">1000</span><span style=\"color: #000000; text-decoration-color: #000000\"> </span><span style=\"color: #000000; text-decoration-color: #000000; font-weight: bold\">[</span><span style=\"color: #00ff00; text-decoration-color: #00ff00; font-weight: bold\">00:45</span><span style=\"color: #000000; text-decoration-color: #000000\">&lt;</span><span style=\"color: #00ff00; text-decoration-color: #00ff00; font-weight: bold\">04:59</span><span style=\"color: #000000; text-decoration-color: #000000\">,  </span><span style=\"color: #008080; text-decoration-color: #008080; font-weight: bold\">3.</span><span style=\"color: #000000; text-decoration-color: #000000\">00it/s</span><span style=\"color: #000000; text-decoration-color: #000000; font-weight: bold\">]</span><span style=\"color: #000000; text-decoration-color: #000000\"> </span><span style=\"color: #008080; text-decoration-color: #008080; font-weight: bold\">20</span><span style=\"color: #000000; text-decoration-color: #000000\">%|██        | </span><span style=\"color: #008080; text-decoration-color: #008080; font-weight: bold\">200</span><span style=\"color: #000000; text-decoration-color: #000000\">/</span><span style=\"color: #008080; text-decoration-color: #008080; font-weight: bold\">1000</span><span style=\"color: #000000; text-decoration-color: #000000\"> </span><span style=\"color: #000000; text-decoration-color: #000000; font-weight: bold\">[</span><span style=\"color: #00ff00; text-decoration-color: #00ff00; font-weight: bold\">01:25</span><span style=\"color: #000000; text-decoration-color: #000000\">&lt;</span><span style=\"color: #00ff00; text-decoration-color: #00ff00; font-weight: bold\">04:59</span><span style=\"color: #000000; text-decoration-color: #000000\">,  </span><span style=\"color: #008080; text-decoration-color: #008080; font-weight: bold\">2.</span><span style=\"color: #000000; text-decoration-color: #000000\">67it/s</span><span style=\"color: #000000; text-decoration-color: #000000; font-weight: bold\">]</span><span style=\"color: #000000; text-decoration-color: #000000\"> </span><span style=\"color: #008080; text-decoration-color: #008080; font-weight: bold\">30</span><span style=\"color: #000000; text-decoration-color: #000000\">%|███       | </span><span style=\"color: #008080; text-decoration-color: #008080; font-weight: bold\">300</span><span style=\"color: #000000; text-decoration-color: #000000\">/</span><span style=\"color: #008080; text-decoration-color: #008080; font-weight: bold\">1000</span><span style=\"color: #000000; text-decoration-color: #000000\"> </span>\n",
       "<span style=\"color: #000000; text-decoration-color: #000000; font-weight: bold\">[</span><span style=\"color: #00ff00; text-decoration-color: #00ff00; font-weight: bold\">02:05</span><span style=\"color: #000000; text-decoration-color: #000000\">&lt;</span><span style=\"color: #00ff00; text-decoration-color: #00ff00; font-weight: bold\">04:28</span><span style=\"color: #000000; text-decoration-color: #000000\">,  </span><span style=\"color: #008080; text-decoration-color: #008080; font-weight: bold\">2.</span><span style=\"color: #000000; text-decoration-color: #000000\">61it/s</span><span style=\"color: #000000; text-decoration-color: #000000; font-weight: bold\">]</span><span style=\"color: #000000; text-decoration-color: #000000\"> </span><span style=\"color: #008080; text-decoration-color: #008080; font-weight: bold\">40</span><span style=\"color: #000000; text-decoration-color: #000000\">%|████      | </span><span style=\"color: #008080; text-decoration-color: #008080; font-weight: bold\">400</span><span style=\"color: #000000; text-decoration-color: #000000\">/</span><span style=\"color: #008080; text-decoration-color: #008080; font-weight: bold\">1000</span><span style=\"color: #000000; text-decoration-color: #000000\"> </span><span style=\"color: #000000; text-decoration-color: #000000; font-weight: bold\">[</span><span style=\"color: #00ff00; text-decoration-color: #00ff00; font-weight: bold\">02:47</span><span style=\"color: #000000; text-decoration-color: #000000\">&lt;</span><span style=\"color: #00ff00; text-decoration-color: #00ff00; font-weight: bold\">03:58</span><span style=\"color: #000000; text-decoration-color: #000000\">,  </span><span style=\"color: #008080; text-decoration-color: #008080; font-weight: bold\">2.</span><span style=\"color: #000000; text-decoration-color: #000000\">51it/s</span><span style=\"color: #000000; text-decoration-color: #000000; font-weight: bold\">]</span><span style=\"color: #000000; text-decoration-color: #000000\"> </span><span style=\"color: #008080; text-decoration-color: #008080; font-weight: bold\">50</span><span style=\"color: #000000; text-decoration-color: #000000\">%|█████     | </span><span style=\"color: #008080; text-decoration-color: #008080; font-weight: bold\">500</span><span style=\"color: #000000; text-decoration-color: #000000\">/</span><span style=\"color: #008080; text-decoration-color: #008080; font-weight: bold\">1000</span><span style=\"color: #000000; text-decoration-color: #000000\"> </span><span style=\"color: #000000; text-decoration-color: #000000; font-weight: bold\">[</span><span style=\"color: #00ff00; text-decoration-color: #00ff00; font-weight: bold\">03:28</span><span style=\"color: #000000; text-decoration-color: #000000\">&lt;</span><span style=\"color: #00ff00; text-decoration-color: #00ff00; font-weight: bold\">03:22</span><span style=\"color: #000000; text-decoration-color: #000000\">,  </span>\n",
       "<span style=\"color: #008080; text-decoration-color: #008080; font-weight: bold\">2.</span><span style=\"color: #000000; text-decoration-color: #000000\">47it/s</span><span style=\"color: #000000; text-decoration-color: #000000; font-weight: bold\">]</span><span style=\"color: #000000; text-decoration-color: #000000\"> </span><span style=\"color: #008080; text-decoration-color: #008080; font-weight: bold\">60</span><span style=\"color: #000000; text-decoration-color: #000000\">%|██████    | </span><span style=\"color: #008080; text-decoration-color: #008080; font-weight: bold\">600</span><span style=\"color: #000000; text-decoration-color: #000000\">/</span><span style=\"color: #008080; text-decoration-color: #008080; font-weight: bold\">1000</span><span style=\"color: #000000; text-decoration-color: #000000\"> </span><span style=\"color: #000000; text-decoration-color: #000000; font-weight: bold\">[</span><span style=\"color: #00ff00; text-decoration-color: #00ff00; font-weight: bold\">04:09</span><span style=\"color: #000000; text-decoration-color: #000000\">&lt;</span><span style=\"color: #00ff00; text-decoration-color: #00ff00; font-weight: bold\">02:41</span><span style=\"color: #000000; text-decoration-color: #000000\">,  </span><span style=\"color: #008080; text-decoration-color: #008080; font-weight: bold\">2.</span><span style=\"color: #000000; text-decoration-color: #000000\">48it/s</span><span style=\"color: #000000; text-decoration-color: #000000; font-weight: bold\">]</span><span style=\"color: #000000; text-decoration-color: #000000\"> </span><span style=\"color: #008080; text-decoration-color: #008080; font-weight: bold\">70</span><span style=\"color: #000000; text-decoration-color: #000000\">%|███████   | </span><span style=\"color: #008080; text-decoration-color: #008080; font-weight: bold\">700</span><span style=\"color: #000000; text-decoration-color: #000000\">/</span><span style=\"color: #008080; text-decoration-color: #008080; font-weight: bold\">1000</span><span style=\"color: #000000; text-decoration-color: #000000\"> </span><span style=\"color: #000000; text-decoration-color: #000000; font-weight: bold\">[</span><span style=\"color: #00ff00; text-decoration-color: #00ff00; font-weight: bold\">04:51</span><span style=\"color: #000000; text-decoration-color: #000000\">&lt;</span><span style=\"color: #00ff00; text-decoration-color: #00ff00; font-weight: bold\">02:03</span><span style=\"color: #000000; text-decoration-color: #000000\">,  </span><span style=\"color: #008080; text-decoration-color: #008080; font-weight: bold\">2.</span><span style=\"color: #000000; text-decoration-color: #000000\">44it/s</span><span style=\"color: #000000; text-decoration-color: #000000; font-weight: bold\">]</span><span style=\"color: #000000; text-decoration-color: #000000\"> </span>\n",
       "<span style=\"color: #008080; text-decoration-color: #008080; font-weight: bold\">80</span><span style=\"color: #000000; text-decoration-color: #000000\">%|████████  | </span><span style=\"color: #008080; text-decoration-color: #008080; font-weight: bold\">800</span><span style=\"color: #000000; text-decoration-color: #000000\">/</span><span style=\"color: #008080; text-decoration-color: #008080; font-weight: bold\">1000</span><span style=\"color: #000000; text-decoration-color: #000000\"> </span><span style=\"color: #000000; text-decoration-color: #000000; font-weight: bold\">[</span><span style=\"color: #00ff00; text-decoration-color: #00ff00; font-weight: bold\">05:36</span><span style=\"color: #000000; text-decoration-color: #000000\">&lt;</span><span style=\"color: #00ff00; text-decoration-color: #00ff00; font-weight: bold\">01:24</span><span style=\"color: #000000; text-decoration-color: #000000\">,  </span><span style=\"color: #008080; text-decoration-color: #008080; font-weight: bold\">2.</span><span style=\"color: #000000; text-decoration-color: #000000\">36it/s</span><span style=\"color: #000000; text-decoration-color: #000000; font-weight: bold\">]</span><span style=\"color: #000000; text-decoration-color: #000000\"> </span><span style=\"color: #008080; text-decoration-color: #008080; font-weight: bold\">90</span><span style=\"color: #000000; text-decoration-color: #000000\">%|█████████ | </span><span style=\"color: #008080; text-decoration-color: #008080; font-weight: bold\">900</span><span style=\"color: #000000; text-decoration-color: #000000\">/</span><span style=\"color: #008080; text-decoration-color: #008080; font-weight: bold\">1000</span><span style=\"color: #000000; text-decoration-color: #000000\"> </span><span style=\"color: #000000; text-decoration-color: #000000; font-weight: bold\">[</span><span style=\"color: #00ff00; text-decoration-color: #00ff00; font-weight: bold\">06:19</span><span style=\"color: #000000; text-decoration-color: #000000\">&lt;</span><span style=\"color: #00ff00; text-decoration-color: #00ff00; font-weight: bold\">00:42</span><span style=\"color: #000000; text-decoration-color: #000000\">,  </span><span style=\"color: #008080; text-decoration-color: #008080; font-weight: bold\">2.</span><span style=\"color: #000000; text-decoration-color: #000000\">36it/s</span><span style=\"color: #000000; text-decoration-color: #000000; font-weight: bold\">]</span><span style=\"color: #008080; text-decoration-color: #008080; font-weight: bold\">100</span><span style=\"color: #000000; text-decoration-color: #000000\">%|██████████|</span>\n",
       "<span style=\"color: #008080; text-decoration-color: #008080; font-weight: bold\">1000</span><span style=\"color: #000000; text-decoration-color: #000000\">/</span><span style=\"color: #008080; text-decoration-color: #008080; font-weight: bold\">1000</span><span style=\"color: #000000; text-decoration-color: #000000\"> </span><span style=\"color: #000000; text-decoration-color: #000000; font-weight: bold\">[</span><span style=\"color: #00ff00; text-decoration-color: #00ff00; font-weight: bold\">07:01</span><span style=\"color: #000000; text-decoration-color: #000000\">&lt;</span><span style=\"color: #00ff00; text-decoration-color: #00ff00; font-weight: bold\">00:00</span><span style=\"color: #000000; text-decoration-color: #000000\">,  </span><span style=\"color: #008080; text-decoration-color: #008080; font-weight: bold\">2.</span><span style=\"color: #000000; text-decoration-color: #000000\">36it/s</span><span style=\"color: #000000; text-decoration-color: #000000; font-weight: bold\">]</span><span style=\"color: #008080; text-decoration-color: #008080; font-weight: bold\">100</span><span style=\"color: #000000; text-decoration-color: #000000\">%|██████████| </span><span style=\"color: #008080; text-decoration-color: #008080; font-weight: bold\">1000</span><span style=\"color: #000000; text-decoration-color: #000000\">/</span><span style=\"color: #008080; text-decoration-color: #008080; font-weight: bold\">1000</span><span style=\"color: #000000; text-decoration-color: #000000\"> </span><span style=\"color: #000000; text-decoration-color: #000000; font-weight: bold\">[</span><span style=\"color: #00ff00; text-decoration-color: #00ff00; font-weight: bold\">07:01</span><span style=\"color: #000000; text-decoration-color: #000000\">&lt;</span><span style=\"color: #00ff00; text-decoration-color: #00ff00; font-weight: bold\">00:00</span><span style=\"color: #000000; text-decoration-color: #000000\">,  </span><span style=\"color: #008080; text-decoration-color: #008080; font-weight: bold\">2.</span><span style=\"color: #000000; text-decoration-color: #000000\">37it/s</span><span style=\"color: #000000; text-decoration-color: #000000; font-weight: bold\">]</span>\n",
       "<span style=\"color: #000000; text-decoration-color: #000000\">\u001b</span><span style=\"color: #000000; text-decoration-color: #000000; font-weight: bold\">[</span><span style=\"color: #800080; text-decoration-color: #800080; font-weight: bold\">36m</span><span style=\"color: #000000; text-decoration-color: #000000; font-weight: bold\">(</span><span style=\"color: #808000; text-decoration-color: #808000\">pid</span><span style=\"color: #000000; text-decoration-color: #000000\">=</span><span style=\"color: #008080; text-decoration-color: #008080; font-weight: bold\">43849</span><span style=\"color: #000000; text-decoration-color: #000000; font-weight: bold\">)</span><span style=\"color: #000000; text-decoration-color: #000000\">\u001b</span><span style=\"color: #000000; text-decoration-color: #000000; font-weight: bold\">[</span><span style=\"color: #000000; text-decoration-color: #000000\">0m </span><span style=\"color: #800080; text-decoration-color: #800080; font-style: italic\">None</span><span style=\"color: #000000; text-decoration-color: #000000\"> of PyTorch, TensorFlow &gt;= </span><span style=\"color: #008080; text-decoration-color: #008080; font-weight: bold\">2.0</span><span style=\"color: #000000; text-decoration-color: #000000\">, or Flax have been found. Models won't be available and only</span>\n",
       "<span style=\"color: #000000; text-decoration-color: #000000\">tokenizers, configuration and file/data utilities can be used.\u001b</span><span style=\"color: #000000; text-decoration-color: #000000; font-weight: bold\">[</span><span style=\"color: #000000; text-decoration-color: #000000\">32m  </span><span style=\"color: #000000; text-decoration-color: #000000; font-weight: bold\">(</span><span style=\"color: #000000; text-decoration-color: #000000\">Ray deduplicates logs by default. Set </span>\n",
       "<span style=\"color: #808000; text-decoration-color: #808000\">RAY_DEDUP_LOGS</span><span style=\"color: #000000; text-decoration-color: #000000\">=</span><span style=\"color: #008080; text-decoration-color: #008080; font-weight: bold\">0</span><span style=\"color: #000000; text-decoration-color: #000000\"> to disable log deduplication, or see </span>\n",
       "<span style=\"color: #0000ff; text-decoration-color: #0000ff; text-decoration: underline\">https://docs.ray.io/en/master/ray-observability/user-guides/configure-logging.html#log-deduplication</span><span style=\"color: #000000; text-decoration-color: #000000\"> for more </span>\n",
       "<span style=\"color: #000000; text-decoration-color: #000000\">options.</span><span style=\"color: #000000; text-decoration-color: #000000; font-weight: bold\">)</span><span style=\"color: #000000; text-decoration-color: #000000\">\u001b</span><span style=\"color: #000000; text-decoration-color: #000000; font-weight: bold\">[</span><span style=\"color: #000000; text-decoration-color: #000000\">0m</span>\n",
       "<span style=\"color: #000000; text-decoration-color: #000000\">\u001b</span><span style=\"color: #000000; text-decoration-color: #000000; font-weight: bold\">[</span><span style=\"color: #800080; text-decoration-color: #800080; font-weight: bold\">36m</span><span style=\"color: #000000; text-decoration-color: #000000; font-weight: bold\">(</span><span style=\"color: #000000; text-decoration-color: #000000\">SageMakerClient </span><span style=\"color: #808000; text-decoration-color: #808000\">pid</span><span style=\"color: #000000; text-decoration-color: #000000\">=</span><span style=\"color: #008080; text-decoration-color: #008080; font-weight: bold\">43835</span><span style=\"color: #000000; text-decoration-color: #000000; font-weight: bold\">)</span><span style=\"color: #000000; text-decoration-color: #000000\">\u001b</span><span style=\"color: #000000; text-decoration-color: #000000; font-weight: bold\">[</span><span style=\"color: #000000; text-decoration-color: #000000\">0m You are using the default legacy behaviour of the &lt;class </span>\n",
       "<span style=\"color: #008000; text-decoration-color: #008000\">'transformers.models.llama.tokenization_llama_fast.LlamaTokenizerFast'</span><span style=\"font-weight: bold\">&gt;</span>. This is expected, and simply means that \n",
       "the `legacy` <span style=\"font-weight: bold\">(</span>previous<span style=\"font-weight: bold\">)</span> behavior will be used so nothing changes for you. If you want to use the new behaviour, set\n",
       "`<span style=\"color: #808000; text-decoration-color: #808000\">legacy</span>=<span style=\"color: #ff0000; text-decoration-color: #ff0000; font-style: italic\">False</span>`. This should only be set if you understand what it means, and thoroughly read the reason why this \n",
       "was added as explained in <span style=\"color: #0000ff; text-decoration-color: #0000ff; text-decoration: underline\">https://github.com/huggingface/transformers/pull/24565</span> - if you loaded a llama tokenizer \n",
       "from a GGUF file you can ignore this message.\u001b<span style=\"font-weight: bold\">[</span>32m \u001b<span style=\"font-weight: bold\">[</span>0m\n",
       "\n",
       "</pre>\n"
      ],
      "text/plain": [
       "Process errors:\n",
       "Cloning into \u001b[32m'llmperf'\u001b[0m\u001b[33m...\u001b[0m\n",
       "\u001b\u001b[1m[\u001b[0m2mResolved \u001b\u001b[1m[\u001b[0m1m104 packages\u001b\u001b[1m[\u001b[0m0m in \u001b[1;36m1.\u001b[0m15s\u001b\u001b[1m[\u001b[0m0m\n",
       "\u001b\u001b[1m[\u001b[0m2mDownloaded \u001b\u001b[1m[\u001b[0m1m38 packages\u001b\u001b[1m[\u001b[0m0m in \u001b[1;36m1.\u001b[0m54s\u001b\u001b[1m[\u001b[0m0m\n",
       "\u001b\u001b[1m[\u001b[0m2mUninstalled \u001b\u001b[1m[\u001b[0m1m2 packages\u001b\u001b[1m[\u001b[0m0m in 64ms\u001b\u001b[1m[\u001b[0m0m\n",
       "\u001b\u001b[1m[\u001b[0m2mInstalled \u001b\u001b[1m[\u001b[0m1m38 packages\u001b\u001b[1m[\u001b[0m0m in 67ms\u001b\u001b[1m[\u001b[0m0m\n",
       " \u001b\u001b[1m[\u001b[0m32m+\u001b\u001b[1m[\u001b[0m39m \u001b\u001b[1m[\u001b[0m1mannotated-types\u001b\u001b[1m[\u001b[0m0m\u001b\u001b[1m[\u001b[0m\u001b[33m2m\u001b[0m==\u001b[1;36m0.7\u001b[0m.\u001b[1;36m0\u001b[0m\u001b\u001b[1m[\u001b[0m0m\n",
       " \u001b\u001b[1m[\u001b[0m31m-\u001b\u001b[1m[\u001b[0m39m \u001b\u001b[1m[\u001b[0m1mboto3\u001b\u001b[1m[\u001b[0m0m\u001b\u001b[1m[\u001b[0m\u001b[33m2m\u001b[0m==\u001b[1;36m1.34\u001b[0m.\u001b[1;36m142\u001b[0m\u001b\u001b[1m[\u001b[0m0m\n",
       " \u001b\u001b[1m[\u001b[0m32m+\u001b\u001b[1m[\u001b[0m39m \u001b\u001b[1m[\u001b[0m1mboto3\u001b\u001b[1m[\u001b[0m0m\u001b\u001b[1m[\u001b[0m\u001b[33m2m\u001b[0m==\u001b[1;36m1.34\u001b[0m.\u001b[1;36m101\u001b[0m\u001b\u001b[1m[\u001b[0m0m\n",
       " \u001b\u001b[1m[\u001b[0m31m-\u001b\u001b[1m[\u001b[0m39m \u001b\u001b[1m[\u001b[0m1mbotocore\u001b\u001b[1m[\u001b[0m0m\u001b\u001b[1m[\u001b[0m\u001b[33m2m\u001b[0m==\u001b[1;36m1.34\u001b[0m.\u001b[1;36m142\u001b[0m\u001b\u001b[1m[\u001b[0m0m\n",
       " \u001b\u001b[1m[\u001b[0m32m+\u001b\u001b[1m[\u001b[0m39m \u001b\u001b[1m[\u001b[0m1mbotocore\u001b\u001b[1m[\u001b[0m0m\u001b\u001b[1m[\u001b[0m\u001b[33m2m\u001b[0m==\u001b[1;36m1.34\u001b[0m.\u001b[1;36m101\u001b[0m\u001b\u001b[1m[\u001b[0m0m\n",
       " \u001b\u001b[1m[\u001b[0m32m+\u001b\u001b[1m[\u001b[0m39m \u001b\u001b[1m[\u001b[0m1mcachetools\u001b\u001b[1m[\u001b[0m0m\u001b\u001b[1m[\u001b[0m\u001b[33m2m\u001b[0m==\u001b[1;36m5.4\u001b[0m.\u001b[1;36m0\u001b[0m\u001b\u001b[1m[\u001b[0m0m\n",
       " \u001b\u001b[1m[\u001b[0m32m+\u001b\u001b[1m[\u001b[0m39m \u001b\u001b[1m[\u001b[0m1mdistro\u001b\u001b[1m[\u001b[0m0m\u001b\u001b[1m[\u001b[0m\u001b[33m2m\u001b[0m==\u001b[1;36m1.9\u001b[0m.\u001b[1;36m0\u001b[0m\u001b\u001b[1m[\u001b[0m0m\n",
       " \u001b\u001b[1m[\u001b[0m32m+\u001b\u001b[1m[\u001b[0m39m \u001b\u001b[1m[\u001b[0m1mdocopt\u001b\u001b[1m[\u001b[0m0m\u001b\u001b[1m[\u001b[0m\u001b[33m2m\u001b[0m==\u001b[1;36m0.6\u001b[0m.\u001b[1;36m2\u001b[0m\u001b\u001b[1m[\u001b[0m0m\n",
       " \u001b\u001b[1m[\u001b[0m32m+\u001b\u001b[1m[\u001b[0m39m \u001b\u001b[1m[\u001b[0m1mdocstring-parser\u001b\u001b[1m[\u001b[0m0m\u001b\u001b[1m[\u001b[0m\u001b[33m2m\u001b[0m==\u001b[1;36m0.16\u001b[0m\u001b\u001b[1m[\u001b[0m0m\n",
       " \u001b\u001b[1m[\u001b[0m32m+\u001b\u001b[1m[\u001b[0m39m \u001b\u001b[1m[\u001b[0m1mgoogle-api-core\u001b\u001b[1m[\u001b[0m0m\u001b\u001b[1m[\u001b[0m\u001b[33m2m\u001b[0m==\u001b[1;36m2.19\u001b[0m.\u001b[1;36m1\u001b[0m\u001b\u001b[1m[\u001b[0m0m\n",
       " \u001b\u001b[1m[\u001b[0m32m+\u001b\u001b[1m[\u001b[0m39m \u001b\u001b[1m[\u001b[0m1mgoogle-auth\u001b\u001b[1m[\u001b[0m0m\u001b\u001b[1m[\u001b[0m\u001b[33m2m\u001b[0m==\u001b[1;36m2.32\u001b[0m.\u001b[1;36m0\u001b[0m\u001b\u001b[1m[\u001b[0m0m\n",
       " \u001b\u001b[1m[\u001b[0m32m+\u001b\u001b[1m[\u001b[0m39m \u001b\u001b[1m[\u001b[0m1mgoogle-cloud-aiplatform\u001b\u001b[1m[\u001b[0m0m\u001b\u001b[1m[\u001b[0m\u001b[33m2m\u001b[0m==\u001b[1;36m1.60\u001b[0m.\u001b[1;36m0\u001b[0m\u001b\u001b[1m[\u001b[0m0m\n",
       " \u001b\u001b[1m[\u001b[0m32m+\u001b\u001b[1m[\u001b[0m39m \u001b\u001b[1m[\u001b[0m1mgoogle-cloud-bigquery\u001b\u001b[1m[\u001b[0m0m\u001b\u001b[1m[\u001b[0m\u001b[33m2m\u001b[0m==\u001b[1;36m3.25\u001b[0m.\u001b[1;36m0\u001b[0m\u001b\u001b[1m[\u001b[0m0m\n",
       " \u001b\u001b[1m[\u001b[0m32m+\u001b\u001b[1m[\u001b[0m39m \u001b\u001b[1m[\u001b[0m1mgoogle-cloud-core\u001b\u001b[1m[\u001b[0m0m\u001b\u001b[1m[\u001b[0m\u001b[33m2m\u001b[0m==\u001b[1;36m2.4\u001b[0m.\u001b[1;36m1\u001b[0m\u001b\u001b[1m[\u001b[0m0m\n",
       " \u001b\u001b[1m[\u001b[0m32m+\u001b\u001b[1m[\u001b[0m39m \u001b\u001b[1m[\u001b[0m1mgoogle-cloud-resource-manager\u001b\u001b[1m[\u001b[0m0m\u001b\u001b[1m[\u001b[0m\u001b[33m2m\u001b[0m==\u001b[1;36m1.12\u001b[0m.\u001b[1;36m4\u001b[0m\u001b\u001b[1m[\u001b[0m0m\n",
       " \u001b\u001b[1m[\u001b[0m32m+\u001b\u001b[1m[\u001b[0m39m \u001b\u001b[1m[\u001b[0m1mgoogle-cloud-storage\u001b\u001b[1m[\u001b[0m0m\u001b\u001b[1m[\u001b[0m\u001b[33m2m\u001b[0m==\u001b[1;36m2.18\u001b[0m.\u001b[1;36m0\u001b[0m\u001b\u001b[1m[\u001b[0m0m\n",
       " \u001b\u001b[1m[\u001b[0m32m+\u001b\u001b[1m[\u001b[0m39m \u001b\u001b[1m[\u001b[0m1mgoogle-crc32c\u001b\u001b[1m[\u001b[0m0m\u001b\u001b[1m[\u001b[0m\u001b[33m2m\u001b[0m==\u001b[1;36m1.5\u001b[0m.\u001b[1;36m0\u001b[0m\u001b\u001b[1m[\u001b[0m0m\n",
       " \u001b\u001b[1m[\u001b[0m32m+\u001b\u001b[1m[\u001b[0m39m \u001b\u001b[1m[\u001b[0m1mgoogle-resumable-media\u001b\u001b[1m[\u001b[0m0m\u001b\u001b[1m[\u001b[0m\u001b[33m2m\u001b[0m==\u001b[1;36m2.7\u001b[0m.\u001b[1;36m1\u001b[0m\u001b\u001b[1m[\u001b[0m0m\n",
       " \u001b\u001b[1m[\u001b[0m32m+\u001b\u001b[1m[\u001b[0m39m \u001b\u001b[1m[\u001b[0m1mgoogleapis-common-protos\u001b\u001b[1m[\u001b[0m0m\u001b\u001b[1m[\u001b[0m\u001b[33m2m\u001b[0m==\u001b[1;36m1.63\u001b[0m.\u001b[1;36m2\u001b[0m\u001b\u001b[1m[\u001b[0m0m\n",
       " \u001b\u001b[1m[\u001b[0m32m+\u001b\u001b[1m[\u001b[0m39m \u001b\u001b[1m[\u001b[0m1mgrpc-google-iam-v1\u001b\u001b[1m[\u001b[0m0m\u001b\u001b[1m[\u001b[0m\u001b[33m2m\u001b[0m==\u001b[1;36m0.13\u001b[0m.\u001b[1;36m1\u001b[0m\u001b\u001b[1m[\u001b[0m0m\n",
       " \u001b\u001b[1m[\u001b[0m32m+\u001b\u001b[1m[\u001b[0m39m \u001b\u001b[1m[\u001b[0m1mgrpcio\u001b\u001b[1m[\u001b[0m0m\u001b\u001b[1m[\u001b[0m\u001b[33m2m\u001b[0m==\u001b[1;36m1.65\u001b[0m.\u001b[1;36m1\u001b[0m\u001b\u001b[1m[\u001b[0m0m\n",
       " \u001b\u001b[1m[\u001b[0m32m+\u001b\u001b[1m[\u001b[0m39m \u001b\u001b[1m[\u001b[0m1mgrpcio-status\u001b\u001b[1m[\u001b[0m0m\u001b\u001b[1m[\u001b[0m\u001b[33m2m\u001b[0m==\u001b[1;36m1.62\u001b[0m.\u001b[1;36m2\u001b[0m\u001b\u001b[1m[\u001b[0m0m\n",
       " \u001b\u001b[1m[\u001b[0m32m+\u001b\u001b[1m[\u001b[0m39m \u001b\u001b[1m[\u001b[0m1mhuggingface-hub\u001b\u001b[1m[\u001b[0m0m\u001b\u001b[1m[\u001b[0m\u001b[33m2m\u001b[0m==\u001b[1;36m0.24\u001b[0m.\u001b[1;36m2\u001b[0m\u001b\u001b[1m[\u001b[0m0m\n",
       " \u001b\u001b[1m[\u001b[0m32m+\u001b\u001b[1m[\u001b[0m39m \u001b\u001b[1m[\u001b[0m1mlitellm\u001b\u001b[1m[\u001b[0m0m\u001b\u001b[1m[\u001b[0m\u001b[33m2m\u001b[0m==\u001b[1;36m1.42\u001b[0m.\u001b[1;36m5\u001b[0m\u001b\u001b[1m[\u001b[0m0m\n",
       " \u001b\u001b[1m[\u001b[0m32m+\u001b\u001b[1m[\u001b[0m39m \u001b\u001b[1m[\u001b[0m1mllmperf\u001b\u001b[1m[\u001b[0m0m\u001b\u001b[1m[\u001b[0m\u001b[33m2m\u001b[0m==\u001b[1;36m0.1\u001b[0m.\u001b[1;36m0\u001b[0m \u001b[1m(\u001b[0mfrom \n",
       "\u001b[4;94mfile:///home/ec2-user/SageMaker/aws-ai-ml-workshop-kr/genai/aws-gen-ai-kr/30_fine_tune/03-fine-tune-llama3/notebook\u001b[0m\n",
       "\u001b[4;94m/02-naver-news-llama3-inference/backup/01-Llama3-8B-Autoscaling/llmperf\u001b[0m\u001b[4;94m)\u001b[0m\u001b\u001b[1m[\u001b[0m0m\n",
       " \u001b\u001b[1m[\u001b[0m32m+\u001b\u001b[1m[\u001b[0m39m \u001b\u001b[1m[\u001b[0m1mnum2words\u001b\u001b[1m[\u001b[0m0m\u001b\u001b[1m[\u001b[0m\u001b[33m2m\u001b[0m==\u001b[1;36m0.5\u001b[0m.\u001b[1;36m13\u001b[0m\u001b\u001b[1m[\u001b[0m0m\n",
       " \u001b\u001b[1m[\u001b[0m32m+\u001b\u001b[1m[\u001b[0m39m \u001b\u001b[1m[\u001b[0m1mopenai\u001b\u001b[1m[\u001b[0m0m\u001b\u001b[1m[\u001b[0m\u001b[33m2m\u001b[0m==\u001b[1;36m1.37\u001b[0m.\u001b[1;36m1\u001b[0m\u001b\u001b[1m[\u001b[0m0m\n",
       " \u001b\u001b[1m[\u001b[0m32m+\u001b\u001b[1m[\u001b[0m39m \u001b\u001b[1m[\u001b[0m1mproto-plus\u001b\u001b[1m[\u001b[0m0m\u001b\u001b[1m[\u001b[0m\u001b[33m2m\u001b[0m==\u001b[1;36m1.24\u001b[0m.\u001b[1;36m0\u001b[0m\u001b\u001b[1m[\u001b[0m0m\n",
       " \u001b\u001b[1m[\u001b[0m32m+\u001b\u001b[1m[\u001b[0m39m \u001b\u001b[1m[\u001b[0m1mpyasn1-modules\u001b\u001b[1m[\u001b[0m0m\u001b\u001b[1m[\u001b[0m\u001b[33m2m\u001b[0m==\u001b[1;36m0.4\u001b[0m.\u001b[1;36m0\u001b[0m\u001b\u001b[1m[\u001b[0m0m\n",
       " \u001b\u001b[1m[\u001b[0m32m+\u001b\u001b[1m[\u001b[0m39m \u001b\u001b[1m[\u001b[0m1mpydantic\u001b\u001b[1m[\u001b[0m0m\u001b\u001b[1m[\u001b[0m\u001b[33m2m\u001b[0m==\u001b[1;36m2.4\u001b[0m.\u001b[1;36m2\u001b[0m\u001b\u001b[1m[\u001b[0m0m\n",
       " \u001b\u001b[1m[\u001b[0m32m+\u001b\u001b[1m[\u001b[0m39m \u001b\u001b[1m[\u001b[0m1mpydantic-core\u001b\u001b[1m[\u001b[0m0m\u001b\u001b[1m[\u001b[0m\u001b[33m2m\u001b[0m==\u001b[1;36m2.10\u001b[0m.\u001b[1;36m1\u001b[0m\u001b\u001b[1m[\u001b[0m0m\n",
       " \u001b\u001b[1m[\u001b[0m32m+\u001b\u001b[1m[\u001b[0m39m \u001b\u001b[1m[\u001b[0m1mpython-dotenv\u001b\u001b[1m[\u001b[0m0m\u001b\u001b[1m[\u001b[0m\u001b[33m2m\u001b[0m==\u001b[1;36m1.0\u001b[0m.\u001b[1;36m1\u001b[0m\u001b\u001b[1m[\u001b[0m0m\n",
       " \u001b\u001b[1m[\u001b[0m32m+\u001b\u001b[1m[\u001b[0m39m \u001b\u001b[1m[\u001b[0m1mray\u001b\u001b[1m[\u001b[0m0m\u001b\u001b[1m[\u001b[0m\u001b[33m2m\u001b[0m==\u001b[1;36m2.33\u001b[0m.\u001b[1;36m0\u001b[0m\u001b\u001b[1m[\u001b[0m0m\n",
       " \u001b\u001b[1m[\u001b[0m32m+\u001b\u001b[1m[\u001b[0m39m \u001b\u001b[1m[\u001b[0m1msafetensors\u001b\u001b[1m[\u001b[0m0m\u001b\u001b[1m[\u001b[0m\u001b[33m2m\u001b[0m==\u001b[1;36m0.4\u001b[0m.\u001b[1;36m3\u001b[0m\u001b\u001b[1m[\u001b[0m0m\n",
       " \u001b\u001b[1m[\u001b[0m32m+\u001b\u001b[1m[\u001b[0m39m \u001b\u001b[1m[\u001b[0m1mshapely\u001b\u001b[1m[\u001b[0m0m\u001b\u001b[1m[\u001b[0m\u001b[33m2m\u001b[0m==\u001b[1;36m2.0\u001b[0m.\u001b[1;36m5\u001b[0m\u001b\u001b[1m[\u001b[0m0m\n",
       " \u001b\u001b[1m[\u001b[0m32m+\u001b\u001b[1m[\u001b[0m39m \u001b\u001b[1m[\u001b[0m1mshellingham\u001b\u001b[1m[\u001b[0m0m\u001b\u001b[1m[\u001b[0m\u001b[33m2m\u001b[0m==\u001b[1;36m1.5\u001b[0m.\u001b[1;36m4\u001b[0m\u001b\u001b[1m[\u001b[0m0m\n",
       " \u001b\u001b[1m[\u001b[0m32m+\u001b\u001b[1m[\u001b[0m39m \u001b\u001b[1m[\u001b[0m1mtiktoken\u001b\u001b[1m[\u001b[0m0m\u001b\u001b[1m[\u001b[0m\u001b[33m2m\u001b[0m==\u001b[1;36m0.7\u001b[0m.\u001b[1;36m0\u001b[0m\u001b\u001b[1m[\u001b[0m0m\n",
       " \u001b\u001b[1m[\u001b[0m32m+\u001b\u001b[1m[\u001b[0m39m \u001b\u001b[1m[\u001b[0m1mtokenizers\u001b\u001b[1m[\u001b[0m0m\u001b\u001b[1m[\u001b[0m\u001b[33m2m\u001b[0m==\u001b[1;36m0.19\u001b[0m.\u001b[1;36m1\u001b[0m\u001b\u001b[1m[\u001b[0m0m\n",
       " \u001b\u001b[1m[\u001b[0m32m+\u001b\u001b[1m[\u001b[0m39m \u001b\u001b[1m[\u001b[0m1mtransformers\u001b\u001b[1m[\u001b[0m0m\u001b\u001b[1m[\u001b[0m\u001b[33m2m\u001b[0m==\u001b[1;36m4.43\u001b[0m.\u001b[1;36m3\u001b[0m\u001b\u001b[1m[\u001b[0m0m\n",
       " \u001b\u001b[1m[\u001b[0m32m+\u001b\u001b[1m[\u001b[0m39m \u001b\u001b[1m[\u001b[0m1mtyper\u001b\u001b[1m[\u001b[0m0m\u001b\u001b[1m[\u001b[0m\u001b[33m2m\u001b[0m==\u001b[1;36m0.12\u001b[0m.\u001b[1;36m3\u001b[0m\u001b\u001b[1m[\u001b[0m0m\n",
       "\u001b[3;35mNone\u001b[0m of PyTorch, TensorFlow >= \u001b[1;36m2.0\u001b[0m, or Flax have been found. Models won't be available and only tokenizers, \n",
       "configuration and file/data utilities can be used.\n",
       "\u001b[1;36m2024\u001b[0m-\u001b[1;36m07\u001b[0m-\u001b[1;36m28\u001b[0m \u001b[1;92m07:14:06\u001b[0m,\u001b[1;36m326\u001b[0m INFO worker.py:\u001b[1;36m1781\u001b[0m -- Started a local Ray instance.\n",
       "You are using the default legacy behaviour of the \u001b[1m<\u001b[0m\u001b[1;95mclass\u001b[0m\u001b[39m \u001b[0m\n",
       "\u001b[32m'transformers.models.llama.tokenization_llama_fast.LlamaTokenizerFast'\u001b[0m\u001b[39m>. This is expected, and simply means that \u001b[0m\n",
       "\u001b[39mthe `legacy` \u001b[0m\u001b[1;39m(\u001b[0m\u001b[39mprevious\u001b[0m\u001b[1;39m)\u001b[0m\u001b[39m behavior will be used so nothing changes for you. If you want to use the new behaviour, set\u001b[0m\n",
       "\u001b[39m`\u001b[0m\u001b[33mlegacy\u001b[0m\u001b[39m=\u001b[0m\u001b[3;91mFalse\u001b[0m\u001b[39m`. This should only be set if you understand what it means, and thoroughly read the reason why this \u001b[0m\n",
       "\u001b[39mwas added as explained in \u001b[0m\u001b[4;94mhttps://github.com/huggingface/transformers/pull/24565\u001b[0m\u001b[39m - if you loaded a llama tokenizer \u001b[0m\n",
       "\u001b[39mfrom a GGUF file you can ignore this message.\u001b[0m\n",
       "\u001b[39m  \u001b[0m\u001b[1;36m0\u001b[0m\u001b[39m%|          | \u001b[0m\u001b[1;36m0\u001b[0m\u001b[39m/\u001b[0m\u001b[1;36m1000\u001b[0m\u001b[39m \u001b[0m\u001b[1;39m[\u001b[0m\u001b[1;92m00:00\u001b[0m\u001b[39m<?, ?it/s\u001b[0m\u001b[1;39m]\u001b[0m\u001b[39m  \u001b[0m\u001b[1;36m0\u001b[0m\u001b[39m%|          | \u001b[0m\u001b[1;36m0\u001b[0m\u001b[39m/\u001b[0m\u001b[1;36m1000\u001b[0m\u001b[39m \u001b[0m\u001b[1;39m[\u001b[0m\u001b[1;92m00:00\u001b[0m\u001b[39m<?, ?it/s\u001b[0m\u001b[1;39m]\u001b[0m\u001b[39m  \u001b[0m\u001b[1;36m0\u001b[0m\u001b[39m%|          | \u001b[0m\u001b[1;36m0\u001b[0m\u001b[39m/\u001b[0m\u001b[1;36m1000\u001b[0m\u001b[39m \u001b[0m\u001b[1;39m[\u001b[0m\u001b[1;92m00:00\u001b[0m\u001b[39m<?, \u001b[0m\n",
       "\u001b[39m?it/s\u001b[0m\u001b[1;39m]\u001b[0m\u001b[39m  \u001b[0m\u001b[1;36m0\u001b[0m\u001b[39m%|          | \u001b[0m\u001b[1;36m0\u001b[0m\u001b[39m/\u001b[0m\u001b[1;36m1000\u001b[0m\u001b[39m \u001b[0m\u001b[1;39m[\u001b[0m\u001b[1;92m00:00\u001b[0m\u001b[39m<?, ?it/s\u001b[0m\u001b[1;39m]\u001b[0m\u001b[39m  \u001b[0m\u001b[1;36m0\u001b[0m\u001b[39m%|          | \u001b[0m\u001b[1;36m0\u001b[0m\u001b[39m/\u001b[0m\u001b[1;36m1000\u001b[0m\u001b[39m \u001b[0m\u001b[1;39m[\u001b[0m\u001b[1;92m00:00\u001b[0m\u001b[39m<?, ?it/s\u001b[0m\u001b[1;39m]\u001b[0m\u001b[39m  \u001b[0m\u001b[1;36m0\u001b[0m\u001b[39m%|          | \u001b[0m\u001b[1;36m0\u001b[0m\u001b[39m/\u001b[0m\u001b[1;36m1000\u001b[0m\u001b[39m \u001b[0m\n",
       "\u001b[1;39m[\u001b[0m\u001b[1;92m00:00\u001b[0m\u001b[39m<?, ?it/s\u001b[0m\u001b[1;39m]\u001b[0m\u001b[39m  \u001b[0m\u001b[1;36m0\u001b[0m\u001b[39m%|          | \u001b[0m\u001b[1;36m0\u001b[0m\u001b[39m/\u001b[0m\u001b[1;36m1000\u001b[0m\u001b[39m \u001b[0m\u001b[1;39m[\u001b[0m\u001b[1;92m00:01\u001b[0m\u001b[39m<?, ?it/s\u001b[0m\u001b[1;39m]\u001b[0m\u001b[39m  \u001b[0m\u001b[1;36m0\u001b[0m\u001b[39m%|          | \u001b[0m\u001b[1;36m0\u001b[0m\u001b[39m/\u001b[0m\u001b[1;36m1000\u001b[0m\u001b[39m \u001b[0m\u001b[1;39m[\u001b[0m\u001b[1;92m00:01\u001b[0m\u001b[39m<?, ?it/s\u001b[0m\u001b[1;39m]\u001b[0m\u001b[39m  \u001b[0m\u001b[1;36m0\u001b[0m\u001b[39m%|          | \u001b[0m\n",
       "\u001b[1;36m0\u001b[0m\u001b[39m/\u001b[0m\u001b[1;36m1000\u001b[0m\u001b[39m \u001b[0m\u001b[1;39m[\u001b[0m\u001b[1;92m00:01\u001b[0m\u001b[39m<?, ?it/s\u001b[0m\u001b[1;39m]\u001b[0m\u001b[39m\u001b\u001b[0m\u001b[1;39m[\u001b[0m\u001b[1;35m36m\u001b[0m\u001b[1;39m(\u001b[0m\u001b[33mpid\u001b[0m\u001b[39m=\u001b[0m\u001b[1;36m37646\u001b[0m\u001b[1;39m)\u001b[0m\u001b[39m\u001b\u001b[0m\u001b[1;39m[\u001b[0m\u001b[39m0m \u001b[0m\u001b[3;35mNone\u001b[0m\u001b[39m of PyTorch, TensorFlow >= \u001b[0m\u001b[1;36m2.0\u001b[0m\u001b[39m, or Flax have been found. Models won't\u001b[0m\n",
       "\u001b[39mbe available and only tokenizers, configuration and file/data utilities can be used.\u001b[0m\n",
       "\u001b[39m  \u001b[0m\u001b[1;36m0\u001b[0m\u001b[39m%|          | \u001b[0m\u001b[1;36m0\u001b[0m\u001b[39m/\u001b[0m\u001b[1;36m1000\u001b[0m\u001b[39m \u001b[0m\u001b[1;39m[\u001b[0m\u001b[1;92m00:01\u001b[0m\u001b[39m<?, ?it/s\u001b[0m\u001b[1;39m]\u001b[0m\u001b[39m\u001b\u001b[0m\u001b[1;39m[\u001b[0m\u001b[1;35m36m\u001b[0m\u001b[1;39m(\u001b[0m\u001b[39mSageMakerClient \u001b[0m\u001b[33mpid\u001b[0m\u001b[39m=\u001b[0m\u001b[1;36m37646\u001b[0m\u001b[1;39m)\u001b[0m\u001b[39m\u001b\u001b[0m\u001b[1;39m[\u001b[0m\u001b[39m0m You are using the default legacy \u001b[0m\n",
       "\u001b[39mbehaviour of the <class \u001b[0m\u001b[32m'transformers.models.llama.tokenization_llama_fast.LlamaTokenizerFast'\u001b[0m\u001b[39m>. This is expected, \u001b[0m\n",
       "\u001b[39mand simply means that the `legacy` \u001b[0m\u001b[1;39m(\u001b[0m\u001b[39mprevious\u001b[0m\u001b[1;39m)\u001b[0m\u001b[39m behavior will be used so nothing changes for you. If you want to use \u001b[0m\n",
       "\u001b[39mthe new behaviour, set `\u001b[0m\u001b[33mlegacy\u001b[0m\u001b[39m=\u001b[0m\u001b[3;91mFalse\u001b[0m\u001b[39m`. This should only be set if you understand what it means, and thoroughly read\u001b[0m\n",
       "\u001b[39mthe reason why this was added as explained in \u001b[0m\u001b[4;94mhttps://github.com/huggingface/transformers/pull/24565\u001b[0m\u001b[39m - if you \u001b[0m\n",
       "\u001b[39mloaded a llama tokenizer from a GGUF file you can ignore this message.\u001b[0m\n",
       "\u001b[39m  \u001b[0m\u001b[1;36m0\u001b[0m\u001b[39m%|          | \u001b[0m\u001b[1;36m0\u001b[0m\u001b[39m/\u001b[0m\u001b[1;36m1000\u001b[0m\u001b[39m \u001b[0m\u001b[1;39m[\u001b[0m\u001b[1;92m00:01\u001b[0m\u001b[39m<?, ?it/s\u001b[0m\u001b[1;39m]\u001b[0m\u001b[39m  \u001b[0m\u001b[1;36m0\u001b[0m\u001b[39m%|          | \u001b[0m\u001b[1;36m0\u001b[0m\u001b[39m/\u001b[0m\u001b[1;36m1000\u001b[0m\u001b[39m \u001b[0m\u001b[1;39m[\u001b[0m\u001b[1;92m00:01\u001b[0m\u001b[39m<?, ?it/s\u001b[0m\u001b[1;39m]\u001b[0m\u001b[39m  \u001b[0m\u001b[1;36m0\u001b[0m\u001b[39m%|          | \u001b[0m\u001b[1;36m0\u001b[0m\u001b[39m/\u001b[0m\u001b[1;36m1000\u001b[0m\u001b[39m \u001b[0m\u001b[1;39m[\u001b[0m\u001b[1;92m00:02\u001b[0m\u001b[39m<?, \u001b[0m\n",
       "\u001b[39m?it/s\u001b[0m\u001b[1;39m]\u001b[0m\u001b[39m  \u001b[0m\u001b[1;36m0\u001b[0m\u001b[39m%|          | \u001b[0m\u001b[1;36m0\u001b[0m\u001b[39m/\u001b[0m\u001b[1;36m1000\u001b[0m\u001b[39m \u001b[0m\u001b[1;39m[\u001b[0m\u001b[1;92m00:02\u001b[0m\u001b[39m<?, ?it/s\u001b[0m\u001b[1;39m]\u001b[0m\u001b[39m  \u001b[0m\u001b[1;36m0\u001b[0m\u001b[39m%|          | \u001b[0m\u001b[1;36m0\u001b[0m\u001b[39m/\u001b[0m\u001b[1;36m1000\u001b[0m\u001b[39m \u001b[0m\u001b[1;39m[\u001b[0m\u001b[1;92m00:02\u001b[0m\u001b[39m<?, ?it/s\u001b[0m\u001b[1;39m]\u001b[0m\u001b[39m  \u001b[0m\u001b[1;36m0\u001b[0m\u001b[39m%|          | \u001b[0m\u001b[1;36m0\u001b[0m\u001b[39m/\u001b[0m\u001b[1;36m1000\u001b[0m\u001b[39m \u001b[0m\n",
       "\u001b[1;39m[\u001b[0m\u001b[1;92m00:02\u001b[0m\u001b[39m<?, ?it/s\u001b[0m\u001b[1;39m]\u001b[0m\u001b[39m  \u001b[0m\u001b[1;36m0\u001b[0m\u001b[39m%|          | \u001b[0m\u001b[1;36m0\u001b[0m\u001b[39m/\u001b[0m\u001b[1;36m1000\u001b[0m\u001b[39m \u001b[0m\u001b[1;39m[\u001b[0m\u001b[1;92m00:02\u001b[0m\u001b[39m<?, ?it/s\u001b[0m\u001b[1;39m]\u001b[0m\u001b[39m  \u001b[0m\u001b[1;36m0\u001b[0m\u001b[39m%|          | \u001b[0m\u001b[1;36m0\u001b[0m\u001b[39m/\u001b[0m\u001b[1;36m1000\u001b[0m\u001b[39m \u001b[0m\u001b[1;39m[\u001b[0m\u001b[1;92m00:02\u001b[0m\u001b[39m<?, ?it/s\u001b[0m\u001b[1;39m]\u001b[0m\u001b[39m  \u001b[0m\u001b[1;36m0\u001b[0m\u001b[39m%|          | \u001b[0m\n",
       "\u001b[1;36m0\u001b[0m\u001b[39m/\u001b[0m\u001b[1;36m1000\u001b[0m\u001b[39m \u001b[0m\u001b[1;39m[\u001b[0m\u001b[1;92m00:03\u001b[0m\u001b[39m<?, ?it/s\u001b[0m\u001b[1;39m]\u001b[0m\u001b[39m  \u001b[0m\u001b[1;36m0\u001b[0m\u001b[39m%|          | \u001b[0m\u001b[1;36m0\u001b[0m\u001b[39m/\u001b[0m\u001b[1;36m1000\u001b[0m\u001b[39m \u001b[0m\u001b[1;39m[\u001b[0m\u001b[1;92m00:03\u001b[0m\u001b[39m<?, ?it/s\u001b[0m\u001b[1;39m]\u001b[0m\u001b[39m  \u001b[0m\u001b[1;36m0\u001b[0m\u001b[39m%|          | \u001b[0m\u001b[1;36m0\u001b[0m\u001b[39m/\u001b[0m\u001b[1;36m1000\u001b[0m\u001b[39m \u001b[0m\u001b[1;39m[\u001b[0m\u001b[1;92m00:03\u001b[0m\u001b[39m<?, ?it/s\u001b[0m\u001b[1;39m]\u001b[0m\u001b[39m  \u001b[0m\u001b[1;36m0\u001b[0m\u001b[39m%|       \u001b[0m\n",
       "\u001b[39m| \u001b[0m\u001b[1;36m0\u001b[0m\u001b[39m/\u001b[0m\u001b[1;36m1000\u001b[0m\u001b[39m \u001b[0m\u001b[1;39m[\u001b[0m\u001b[1;92m00:03\u001b[0m\u001b[39m<?, ?it/s\u001b[0m\u001b[1;39m]\u001b[0m\u001b[39m  \u001b[0m\u001b[1;36m0\u001b[0m\u001b[39m%|          | \u001b[0m\u001b[1;36m0\u001b[0m\u001b[39m/\u001b[0m\u001b[1;36m1000\u001b[0m\u001b[39m \u001b[0m\u001b[1;39m[\u001b[0m\u001b[1;92m00:03\u001b[0m\u001b[39m<?, ?it/s\u001b[0m\u001b[1;39m]\u001b[0m\u001b[39m  \u001b[0m\u001b[1;36m0\u001b[0m\u001b[39m%|          | \u001b[0m\u001b[1;36m0\u001b[0m\u001b[39m/\u001b[0m\u001b[1;36m1000\u001b[0m\u001b[39m \u001b[0m\u001b[1;39m[\u001b[0m\u001b[1;92m00:04\u001b[0m\u001b[39m<?, ?it/s\u001b[0m\u001b[1;39m]\u001b[0m\u001b[39m  \u001b[0m\u001b[1;36m0\u001b[0m\u001b[39m%|     \u001b[0m\n",
       "\u001b[39m| \u001b[0m\u001b[1;36m0\u001b[0m\u001b[39m/\u001b[0m\u001b[1;36m1000\u001b[0m\u001b[39m \u001b[0m\u001b[1;39m[\u001b[0m\u001b[1;92m00:04\u001b[0m\u001b[39m<?, ?it/s\u001b[0m\u001b[1;39m]\u001b[0m\u001b[39m  \u001b[0m\u001b[1;36m0\u001b[0m\u001b[39m%|          | \u001b[0m\u001b[1;36m0\u001b[0m\u001b[39m/\u001b[0m\u001b[1;36m1000\u001b[0m\u001b[39m \u001b[0m\u001b[1;39m[\u001b[0m\u001b[1;92m00:04\u001b[0m\u001b[39m<?, ?it/s\u001b[0m\u001b[1;39m]\u001b[0m\u001b[39m  \u001b[0m\u001b[1;36m0\u001b[0m\u001b[39m%|          | \u001b[0m\u001b[1;36m0\u001b[0m\u001b[39m/\u001b[0m\u001b[1;36m1000\u001b[0m\u001b[39m \u001b[0m\u001b[1;39m[\u001b[0m\u001b[1;92m00:04\u001b[0m\u001b[39m<?, ?it/s\u001b[0m\u001b[1;39m]\u001b[0m\u001b[39m  \u001b[0m\u001b[1;36m0\u001b[0m\u001b[39m%|     \u001b[0m\n",
       "\u001b[39m| \u001b[0m\u001b[1;36m0\u001b[0m\u001b[39m/\u001b[0m\u001b[1;36m1000\u001b[0m\u001b[39m \u001b[0m\u001b[1;39m[\u001b[0m\u001b[1;92m00:04\u001b[0m\u001b[39m<?, ?it/s\u001b[0m\u001b[1;39m]\u001b[0m\u001b[39m  \u001b[0m\u001b[1;36m0\u001b[0m\u001b[39m%|          | \u001b[0m\u001b[1;36m0\u001b[0m\u001b[39m/\u001b[0m\u001b[1;36m1000\u001b[0m\u001b[39m \u001b[0m\u001b[1;39m[\u001b[0m\u001b[1;92m00:04\u001b[0m\u001b[39m<?, ?it/s\u001b[0m\u001b[1;39m]\u001b[0m\u001b[39m  \u001b[0m\u001b[1;36m0\u001b[0m\u001b[39m%|          | \u001b[0m\u001b[1;36m0\u001b[0m\u001b[39m/\u001b[0m\u001b[1;36m1000\u001b[0m\u001b[39m \u001b[0m\u001b[1;39m[\u001b[0m\u001b[1;92m00:04\u001b[0m\u001b[39m<?, ?it/s\u001b[0m\u001b[1;39m]\u001b[0m\u001b[39m  \u001b[0m\u001b[1;36m0\u001b[0m\u001b[39m%|     \u001b[0m\n",
       "\u001b[39m| \u001b[0m\u001b[1;36m0\u001b[0m\u001b[39m/\u001b[0m\u001b[1;36m1000\u001b[0m\u001b[39m \u001b[0m\u001b[1;39m[\u001b[0m\u001b[1;92m00:04\u001b[0m\u001b[39m<?, ?it/s\u001b[0m\u001b[1;39m]\u001b[0m\u001b[39m  \u001b[0m\u001b[1;36m0\u001b[0m\u001b[39m%|          | \u001b[0m\u001b[1;36m0\u001b[0m\u001b[39m/\u001b[0m\u001b[1;36m1000\u001b[0m\u001b[39m \u001b[0m\u001b[1;39m[\u001b[0m\u001b[1;92m00:04\u001b[0m\u001b[39m<?, ?it/s\u001b[0m\u001b[1;39m]\u001b[0m\u001b[39m  \u001b[0m\u001b[1;36m0\u001b[0m\u001b[39m%|          | \u001b[0m\u001b[1;36m0\u001b[0m\u001b[39m/\u001b[0m\u001b[1;36m1000\u001b[0m\u001b[39m \u001b[0m\u001b[1;39m[\u001b[0m\u001b[1;92m00:05\u001b[0m\u001b[39m<?, ?it/s\u001b[0m\u001b[1;39m]\u001b[0m\u001b[39m  \u001b[0m\u001b[1;36m0\u001b[0m\u001b[39m%|     \u001b[0m\n",
       "\u001b[39m| \u001b[0m\u001b[1;36m0\u001b[0m\u001b[39m/\u001b[0m\u001b[1;36m1000\u001b[0m\u001b[39m \u001b[0m\u001b[1;39m[\u001b[0m\u001b[1;92m00:05\u001b[0m\u001b[39m<?, ?it/s\u001b[0m\u001b[1;39m]\u001b[0m\u001b[39m  \u001b[0m\u001b[1;36m0\u001b[0m\u001b[39m%|          | \u001b[0m\u001b[1;36m0\u001b[0m\u001b[39m/\u001b[0m\u001b[1;36m1000\u001b[0m\u001b[39m \u001b[0m\u001b[1;39m[\u001b[0m\u001b[1;92m00:05\u001b[0m\u001b[39m<?, ?it/s\u001b[0m\u001b[1;39m]\u001b[0m\u001b[39m  \u001b[0m\u001b[1;36m0\u001b[0m\u001b[39m%|          | \u001b[0m\u001b[1;36m0\u001b[0m\u001b[39m/\u001b[0m\u001b[1;36m1000\u001b[0m\u001b[39m \u001b[0m\u001b[1;39m[\u001b[0m\u001b[1;92m00:05\u001b[0m\u001b[39m<?, ?it/s\u001b[0m\u001b[1;39m]\u001b[0m\u001b[39m  \u001b[0m\u001b[1;36m0\u001b[0m\u001b[39m%|     \u001b[0m\n",
       "\u001b[39m| \u001b[0m\u001b[1;36m0\u001b[0m\u001b[39m/\u001b[0m\u001b[1;36m1000\u001b[0m\u001b[39m \u001b[0m\u001b[1;39m[\u001b[0m\u001b[1;92m00:05\u001b[0m\u001b[39m<?, ?it/s\u001b[0m\u001b[1;39m]\u001b[0m\u001b[39m  \u001b[0m\u001b[1;36m0\u001b[0m\u001b[39m%|          | \u001b[0m\u001b[1;36m0\u001b[0m\u001b[39m/\u001b[0m\u001b[1;36m1000\u001b[0m\u001b[39m \u001b[0m\u001b[1;39m[\u001b[0m\u001b[1;92m00:05\u001b[0m\u001b[39m<?, ?it/s\u001b[0m\u001b[1;39m]\u001b[0m\u001b[39m  \u001b[0m\u001b[1;36m0\u001b[0m\u001b[39m%|          | \u001b[0m\u001b[1;36m0\u001b[0m\u001b[39m/\u001b[0m\u001b[1;36m1000\u001b[0m\u001b[39m \u001b[0m\u001b[1;39m[\u001b[0m\u001b[1;92m00:05\u001b[0m\u001b[39m<?, ?it/s\u001b[0m\u001b[1;39m]\u001b[0m\u001b[39m  \u001b[0m\u001b[1;36m0\u001b[0m\u001b[39m%|     \u001b[0m\n",
       "\u001b[39m| \u001b[0m\u001b[1;36m0\u001b[0m\u001b[39m/\u001b[0m\u001b[1;36m1000\u001b[0m\u001b[39m \u001b[0m\u001b[1;39m[\u001b[0m\u001b[1;92m00:05\u001b[0m\u001b[39m<?, ?it/s\u001b[0m\u001b[1;39m]\u001b[0m\u001b[39m  \u001b[0m\u001b[1;36m0\u001b[0m\u001b[39m%|          | \u001b[0m\u001b[1;36m0\u001b[0m\u001b[39m/\u001b[0m\u001b[1;36m1000\u001b[0m\u001b[39m \u001b[0m\u001b[1;39m[\u001b[0m\u001b[1;92m00:06\u001b[0m\u001b[39m<?, ?it/s\u001b[0m\u001b[1;39m]\u001b[0m\u001b[39m  \u001b[0m\u001b[1;36m0\u001b[0m\u001b[39m%|          | \u001b[0m\u001b[1;36m0\u001b[0m\u001b[39m/\u001b[0m\u001b[1;36m1000\u001b[0m\u001b[39m \u001b[0m\u001b[1;39m[\u001b[0m\u001b[1;92m00:06\u001b[0m\u001b[39m<?, ?it/s\u001b[0m\u001b[1;39m]\u001b[0m\u001b[39m  \u001b[0m\u001b[1;36m0\u001b[0m\u001b[39m%|     \u001b[0m\n",
       "\u001b[39m| \u001b[0m\u001b[1;36m0\u001b[0m\u001b[39m/\u001b[0m\u001b[1;36m1000\u001b[0m\u001b[39m \u001b[0m\u001b[1;39m[\u001b[0m\u001b[1;92m00:06\u001b[0m\u001b[39m<?, ?it/s\u001b[0m\u001b[1;39m]\u001b[0m\u001b[39m  \u001b[0m\u001b[1;36m0\u001b[0m\u001b[39m%|          | \u001b[0m\u001b[1;36m0\u001b[0m\u001b[39m/\u001b[0m\u001b[1;36m1000\u001b[0m\u001b[39m \u001b[0m\u001b[1;39m[\u001b[0m\u001b[1;92m00:06\u001b[0m\u001b[39m<?, ?it/s\u001b[0m\u001b[1;39m]\u001b[0m\u001b[39m  \u001b[0m\u001b[1;36m0\u001b[0m\u001b[39m%|          | \u001b[0m\u001b[1;36m0\u001b[0m\u001b[39m/\u001b[0m\u001b[1;36m1000\u001b[0m\u001b[39m \u001b[0m\u001b[1;39m[\u001b[0m\u001b[1;92m00:06\u001b[0m\u001b[39m<?, ?it/s\u001b[0m\u001b[1;39m]\u001b[0m\u001b[39m  \u001b[0m\u001b[1;36m0\u001b[0m\u001b[39m%|     \u001b[0m\n",
       "\u001b[39m| \u001b[0m\u001b[1;36m0\u001b[0m\u001b[39m/\u001b[0m\u001b[1;36m1000\u001b[0m\u001b[39m \u001b[0m\u001b[1;39m[\u001b[0m\u001b[1;92m00:06\u001b[0m\u001b[39m<?, ?it/s\u001b[0m\u001b[1;39m]\u001b[0m\u001b[39m  \u001b[0m\u001b[1;36m0\u001b[0m\u001b[39m%|          | \u001b[0m\u001b[1;36m0\u001b[0m\u001b[39m/\u001b[0m\u001b[1;36m1000\u001b[0m\u001b[39m \u001b[0m\u001b[1;39m[\u001b[0m\u001b[1;92m00:07\u001b[0m\u001b[39m<?, ?it/s\u001b[0m\u001b[1;39m]\u001b[0m\u001b[39m  \u001b[0m\u001b[1;36m0\u001b[0m\u001b[39m%|          | \u001b[0m\u001b[1;36m0\u001b[0m\u001b[39m/\u001b[0m\u001b[1;36m1000\u001b[0m\u001b[39m \u001b[0m\u001b[1;39m[\u001b[0m\u001b[1;92m00:07\u001b[0m\u001b[39m<?, ?it/s\u001b[0m\u001b[1;39m]\u001b[0m\u001b[39m  \u001b[0m\u001b[1;36m0\u001b[0m\u001b[39m%|     \u001b[0m\n",
       "\u001b[39m| \u001b[0m\u001b[1;36m0\u001b[0m\u001b[39m/\u001b[0m\u001b[1;36m1000\u001b[0m\u001b[39m \u001b[0m\u001b[1;39m[\u001b[0m\u001b[1;92m00:07\u001b[0m\u001b[39m<?, ?it/s\u001b[0m\u001b[1;39m]\u001b[0m\u001b[39m  \u001b[0m\u001b[1;36m0\u001b[0m\u001b[39m%|          | \u001b[0m\u001b[1;36m0\u001b[0m\u001b[39m/\u001b[0m\u001b[1;36m1000\u001b[0m\u001b[39m \u001b[0m\u001b[1;39m[\u001b[0m\u001b[1;92m00:07\u001b[0m\u001b[39m<?, ?it/s\u001b[0m\u001b[1;39m]\u001b[0m\u001b[39m  \u001b[0m\u001b[1;36m0\u001b[0m\u001b[39m%|          | \u001b[0m\u001b[1;36m0\u001b[0m\u001b[39m/\u001b[0m\u001b[1;36m1000\u001b[0m\u001b[39m \u001b[0m\u001b[1;39m[\u001b[0m\u001b[1;92m00:07\u001b[0m\u001b[39m<?, ?it/s\u001b[0m\u001b[1;39m]\u001b[0m\u001b[39m  \u001b[0m\u001b[1;36m0\u001b[0m\u001b[39m%|     \u001b[0m\n",
       "\u001b[39m| \u001b[0m\u001b[1;36m0\u001b[0m\u001b[39m/\u001b[0m\u001b[1;36m1000\u001b[0m\u001b[39m \u001b[0m\u001b[1;39m[\u001b[0m\u001b[1;92m00:07\u001b[0m\u001b[39m<?, ?it/s\u001b[0m\u001b[1;39m]\u001b[0m\u001b[39m  \u001b[0m\u001b[1;36m0\u001b[0m\u001b[39m%|          | \u001b[0m\u001b[1;36m0\u001b[0m\u001b[39m/\u001b[0m\u001b[1;36m1000\u001b[0m\u001b[39m \u001b[0m\u001b[1;39m[\u001b[0m\u001b[1;92m00:07\u001b[0m\u001b[39m<?, ?it/s\u001b[0m\u001b[1;39m]\u001b[0m\u001b[39m  \u001b[0m\u001b[1;36m0\u001b[0m\u001b[39m%|          | \u001b[0m\u001b[1;36m0\u001b[0m\u001b[39m/\u001b[0m\u001b[1;36m1000\u001b[0m\u001b[39m \u001b[0m\u001b[1;39m[\u001b[0m\u001b[1;92m00:07\u001b[0m\u001b[39m<?, ?it/s\u001b[0m\u001b[1;39m]\u001b[0m\u001b[39m  \u001b[0m\u001b[1;36m0\u001b[0m\u001b[39m%|     \u001b[0m\n",
       "\u001b[39m| \u001b[0m\u001b[1;36m0\u001b[0m\u001b[39m/\u001b[0m\u001b[1;36m1000\u001b[0m\u001b[39m \u001b[0m\u001b[1;39m[\u001b[0m\u001b[1;92m00:07\u001b[0m\u001b[39m<?, ?it/s\u001b[0m\u001b[1;39m]\u001b[0m\u001b[39m  \u001b[0m\u001b[1;36m0\u001b[0m\u001b[39m%|          | \u001b[0m\u001b[1;36m0\u001b[0m\u001b[39m/\u001b[0m\u001b[1;36m1000\u001b[0m\u001b[39m \u001b[0m\u001b[1;39m[\u001b[0m\u001b[1;92m00:08\u001b[0m\u001b[39m<?, ?it/s\u001b[0m\u001b[1;39m]\u001b[0m\u001b[39m  \u001b[0m\u001b[1;36m0\u001b[0m\u001b[39m%|          | \u001b[0m\u001b[1;36m0\u001b[0m\u001b[39m/\u001b[0m\u001b[1;36m1000\u001b[0m\u001b[39m \u001b[0m\u001b[1;39m[\u001b[0m\u001b[1;92m00:08\u001b[0m\u001b[39m<?, ?it/s\u001b[0m\u001b[1;39m]\u001b[0m\u001b[39m  \u001b[0m\u001b[1;36m0\u001b[0m\u001b[39m%|     \u001b[0m\n",
       "\u001b[39m| \u001b[0m\u001b[1;36m0\u001b[0m\u001b[39m/\u001b[0m\u001b[1;36m1000\u001b[0m\u001b[39m \u001b[0m\u001b[1;39m[\u001b[0m\u001b[1;92m00:08\u001b[0m\u001b[39m<?, ?it/s\u001b[0m\u001b[1;39m]\u001b[0m\u001b[39m  \u001b[0m\u001b[1;36m0\u001b[0m\u001b[39m%|          | \u001b[0m\u001b[1;36m0\u001b[0m\u001b[39m/\u001b[0m\u001b[1;36m1000\u001b[0m\u001b[39m \u001b[0m\u001b[1;39m[\u001b[0m\u001b[1;92m00:08\u001b[0m\u001b[39m<?, ?it/s\u001b[0m\u001b[1;39m]\u001b[0m\u001b[39m  \u001b[0m\u001b[1;36m0\u001b[0m\u001b[39m%|          | \u001b[0m\u001b[1;36m0\u001b[0m\u001b[39m/\u001b[0m\u001b[1;36m1000\u001b[0m\u001b[39m \u001b[0m\u001b[1;39m[\u001b[0m\u001b[1;92m00:08\u001b[0m\u001b[39m<?, ?it/s\u001b[0m\u001b[1;39m]\u001b[0m\u001b[39m  \u001b[0m\u001b[1;36m0\u001b[0m\u001b[39m%|     \u001b[0m\n",
       "\u001b[39m| \u001b[0m\u001b[1;36m0\u001b[0m\u001b[39m/\u001b[0m\u001b[1;36m1000\u001b[0m\u001b[39m \u001b[0m\u001b[1;39m[\u001b[0m\u001b[1;92m00:08\u001b[0m\u001b[39m<?, ?it/s\u001b[0m\u001b[1;39m]\u001b[0m\u001b[39m  \u001b[0m\u001b[1;36m0\u001b[0m\u001b[39m%|          | \u001b[0m\u001b[1;36m0\u001b[0m\u001b[39m/\u001b[0m\u001b[1;36m1000\u001b[0m\u001b[39m \u001b[0m\u001b[1;39m[\u001b[0m\u001b[1;92m00:08\u001b[0m\u001b[39m<?, ?it/s\u001b[0m\u001b[1;39m]\u001b[0m\u001b[39m  \u001b[0m\u001b[1;36m0\u001b[0m\u001b[39m%|          | \u001b[0m\u001b[1;36m0\u001b[0m\u001b[39m/\u001b[0m\u001b[1;36m1000\u001b[0m\u001b[39m \u001b[0m\u001b[1;39m[\u001b[0m\u001b[1;92m00:08\u001b[0m\u001b[39m<?, ?it/s\u001b[0m\u001b[1;39m]\u001b[0m\u001b[39m  \u001b[0m\u001b[1;36m0\u001b[0m\u001b[39m%|     \u001b[0m\n",
       "\u001b[39m| \u001b[0m\u001b[1;36m0\u001b[0m\u001b[39m/\u001b[0m\u001b[1;36m1000\u001b[0m\u001b[39m \u001b[0m\u001b[1;39m[\u001b[0m\u001b[1;92m00:08\u001b[0m\u001b[39m<?, ?it/s\u001b[0m\u001b[1;39m]\u001b[0m\u001b[39m  \u001b[0m\u001b[1;36m0\u001b[0m\u001b[39m%|          | \u001b[0m\u001b[1;36m0\u001b[0m\u001b[39m/\u001b[0m\u001b[1;36m1000\u001b[0m\u001b[39m \u001b[0m\u001b[1;39m[\u001b[0m\u001b[1;92m00:09\u001b[0m\u001b[39m<?, ?it/s\u001b[0m\u001b[1;39m]\u001b[0m\u001b[39m  \u001b[0m\u001b[1;36m0\u001b[0m\u001b[39m%|          | \u001b[0m\u001b[1;36m0\u001b[0m\u001b[39m/\u001b[0m\u001b[1;36m1000\u001b[0m\u001b[39m \u001b[0m\u001b[1;39m[\u001b[0m\u001b[1;92m00:09\u001b[0m\u001b[39m<?, ?it/s\u001b[0m\u001b[1;39m]\u001b[0m\u001b[39m  \u001b[0m\u001b[1;36m0\u001b[0m\u001b[39m%|     \u001b[0m\n",
       "\u001b[39m| \u001b[0m\u001b[1;36m0\u001b[0m\u001b[39m/\u001b[0m\u001b[1;36m1000\u001b[0m\u001b[39m \u001b[0m\u001b[1;39m[\u001b[0m\u001b[1;92m00:09\u001b[0m\u001b[39m<?, ?it/s\u001b[0m\u001b[1;39m]\u001b[0m\u001b[39m  \u001b[0m\u001b[1;36m0\u001b[0m\u001b[39m%|          | \u001b[0m\u001b[1;36m0\u001b[0m\u001b[39m/\u001b[0m\u001b[1;36m1000\u001b[0m\u001b[39m \u001b[0m\u001b[1;39m[\u001b[0m\u001b[1;92m00:09\u001b[0m\u001b[39m<?, ?it/s\u001b[0m\u001b[1;39m]\u001b[0m\u001b[39m  \u001b[0m\u001b[1;36m0\u001b[0m\u001b[39m%|          | \u001b[0m\u001b[1;36m0\u001b[0m\u001b[39m/\u001b[0m\u001b[1;36m1000\u001b[0m\u001b[39m \u001b[0m\u001b[1;39m[\u001b[0m\u001b[1;92m00:09\u001b[0m\u001b[39m<?, ?it/s\u001b[0m\u001b[1;39m]\u001b[0m\u001b[39m  \u001b[0m\u001b[1;36m0\u001b[0m\u001b[39m%|     \u001b[0m\n",
       "\u001b[39m| \u001b[0m\u001b[1;36m0\u001b[0m\u001b[39m/\u001b[0m\u001b[1;36m1000\u001b[0m\u001b[39m \u001b[0m\u001b[1;39m[\u001b[0m\u001b[1;92m00:09\u001b[0m\u001b[39m<?, ?it/s\u001b[0m\u001b[1;39m]\u001b[0m\u001b[39m  \u001b[0m\u001b[1;36m0\u001b[0m\u001b[39m%|          | \u001b[0m\u001b[1;36m0\u001b[0m\u001b[39m/\u001b[0m\u001b[1;36m1000\u001b[0m\u001b[39m \u001b[0m\u001b[1;39m[\u001b[0m\u001b[1;92m00:09\u001b[0m\u001b[39m<?, ?it/s\u001b[0m\u001b[1;39m]\u001b[0m\u001b[39m  \u001b[0m\u001b[1;36m0\u001b[0m\u001b[39m%|          | \u001b[0m\u001b[1;36m0\u001b[0m\u001b[39m/\u001b[0m\u001b[1;36m1000\u001b[0m\u001b[39m \u001b[0m\u001b[1;39m[\u001b[0m\u001b[1;92m00:09\u001b[0m\u001b[39m<?, ?it/s\u001b[0m\u001b[1;39m]\u001b[0m\u001b[39m  \u001b[0m\u001b[1;36m0\u001b[0m\u001b[39m%|     \u001b[0m\n",
       "\u001b[39m| \u001b[0m\u001b[1;36m0\u001b[0m\u001b[39m/\u001b[0m\u001b[1;36m1000\u001b[0m\u001b[39m \u001b[0m\u001b[1;39m[\u001b[0m\u001b[1;92m00:10\u001b[0m\u001b[39m<?, ?it/s\u001b[0m\u001b[1;39m]\u001b[0m\u001b[39m  \u001b[0m\u001b[1;36m0\u001b[0m\u001b[39m%|          | \u001b[0m\u001b[1;36m0\u001b[0m\u001b[39m/\u001b[0m\u001b[1;36m1000\u001b[0m\u001b[39m \u001b[0m\u001b[1;39m[\u001b[0m\u001b[1;92m00:10\u001b[0m\u001b[39m<?, ?it/s\u001b[0m\u001b[1;39m]\u001b[0m\u001b[39m  \u001b[0m\u001b[1;36m0\u001b[0m\u001b[39m%|          | \u001b[0m\u001b[1;36m0\u001b[0m\u001b[39m/\u001b[0m\u001b[1;36m1000\u001b[0m\u001b[39m \u001b[0m\u001b[1;39m[\u001b[0m\u001b[1;92m00:10\u001b[0m\u001b[39m<?, ?it/s\u001b[0m\u001b[1;39m]\u001b[0m\u001b[39m  \u001b[0m\u001b[1;36m0\u001b[0m\u001b[39m%|     \u001b[0m\n",
       "\u001b[39m| \u001b[0m\u001b[1;36m0\u001b[0m\u001b[39m/\u001b[0m\u001b[1;36m1000\u001b[0m\u001b[39m \u001b[0m\u001b[1;39m[\u001b[0m\u001b[1;92m00:10\u001b[0m\u001b[39m<?, ?it/s\u001b[0m\u001b[1;39m]\u001b[0m\u001b[39m  \u001b[0m\u001b[1;36m0\u001b[0m\u001b[39m%|          | \u001b[0m\u001b[1;36m0\u001b[0m\u001b[39m/\u001b[0m\u001b[1;36m1000\u001b[0m\u001b[39m \u001b[0m\u001b[1;39m[\u001b[0m\u001b[1;92m00:10\u001b[0m\u001b[39m<?, ?it/s\u001b[0m\u001b[1;39m]\u001b[0m\u001b[39m  \u001b[0m\u001b[1;36m0\u001b[0m\u001b[39m%|          | \u001b[0m\u001b[1;36m0\u001b[0m\u001b[39m/\u001b[0m\u001b[1;36m1000\u001b[0m\u001b[39m \u001b[0m\u001b[1;39m[\u001b[0m\u001b[1;92m00:10\u001b[0m\u001b[39m<?, ?it/s\u001b[0m\u001b[1;39m]\u001b[0m\u001b[39m  \u001b[0m\u001b[1;36m0\u001b[0m\u001b[39m%|     \u001b[0m\n",
       "\u001b[39m| \u001b[0m\u001b[1;36m0\u001b[0m\u001b[39m/\u001b[0m\u001b[1;36m1000\u001b[0m\u001b[39m \u001b[0m\u001b[1;39m[\u001b[0m\u001b[1;92m00:10\u001b[0m\u001b[39m<?, ?it/s\u001b[0m\u001b[1;39m]\u001b[0m\u001b[39m  \u001b[0m\u001b[1;36m0\u001b[0m\u001b[39m%|          | \u001b[0m\u001b[1;36m0\u001b[0m\u001b[39m/\u001b[0m\u001b[1;36m1000\u001b[0m\u001b[39m \u001b[0m\u001b[1;39m[\u001b[0m\u001b[1;92m00:10\u001b[0m\u001b[39m<?, ?it/s\u001b[0m\u001b[1;39m]\u001b[0m\u001b[39m  \u001b[0m\u001b[1;36m0\u001b[0m\u001b[39m%|          | \u001b[0m\u001b[1;36m0\u001b[0m\u001b[39m/\u001b[0m\u001b[1;36m1000\u001b[0m\u001b[39m \u001b[0m\u001b[1;39m[\u001b[0m\u001b[1;92m00:11\u001b[0m\u001b[39m<?, ?it/s\u001b[0m\u001b[1;39m]\u001b[0m\u001b[39m  \u001b[0m\u001b[1;36m0\u001b[0m\u001b[39m%|     \u001b[0m\n",
       "\u001b[39m| \u001b[0m\u001b[1;36m0\u001b[0m\u001b[39m/\u001b[0m\u001b[1;36m1000\u001b[0m\u001b[39m \u001b[0m\u001b[1;39m[\u001b[0m\u001b[1;92m00:11\u001b[0m\u001b[39m<?, ?it/s\u001b[0m\u001b[1;39m]\u001b[0m\u001b[39m  \u001b[0m\u001b[1;36m0\u001b[0m\u001b[39m%|          | \u001b[0m\u001b[1;36m0\u001b[0m\u001b[39m/\u001b[0m\u001b[1;36m1000\u001b[0m\u001b[39m \u001b[0m\u001b[1;39m[\u001b[0m\u001b[1;92m00:11\u001b[0m\u001b[39m<?, ?it/s\u001b[0m\u001b[1;39m]\u001b[0m\u001b[39m  \u001b[0m\u001b[1;36m0\u001b[0m\u001b[39m%|          | \u001b[0m\u001b[1;36m0\u001b[0m\u001b[39m/\u001b[0m\u001b[1;36m1000\u001b[0m\u001b[39m \u001b[0m\u001b[1;39m[\u001b[0m\u001b[1;92m00:11\u001b[0m\u001b[39m<?, ?it/s\u001b[0m\u001b[1;39m]\u001b[0m\u001b[39m  \u001b[0m\u001b[1;36m0\u001b[0m\u001b[39m%|     \u001b[0m\n",
       "\u001b[39m| \u001b[0m\u001b[1;36m0\u001b[0m\u001b[39m/\u001b[0m\u001b[1;36m1000\u001b[0m\u001b[39m \u001b[0m\u001b[1;39m[\u001b[0m\u001b[1;92m00:11\u001b[0m\u001b[39m<?, ?it/s\u001b[0m\u001b[1;39m]\u001b[0m\u001b[39m  \u001b[0m\u001b[1;36m0\u001b[0m\u001b[39m%|          | \u001b[0m\u001b[1;36m0\u001b[0m\u001b[39m/\u001b[0m\u001b[1;36m1000\u001b[0m\u001b[39m \u001b[0m\u001b[1;39m[\u001b[0m\u001b[1;92m00:11\u001b[0m\u001b[39m<?, ?it/s\u001b[0m\u001b[1;39m]\u001b[0m\u001b[39m  \u001b[0m\u001b[1;36m0\u001b[0m\u001b[39m%|          | \u001b[0m\u001b[1;36m0\u001b[0m\u001b[39m/\u001b[0m\u001b[1;36m1000\u001b[0m\u001b[39m \u001b[0m\u001b[1;39m[\u001b[0m\u001b[1;92m00:11\u001b[0m\u001b[39m<?, ?it/s\u001b[0m\u001b[1;39m]\u001b[0m\u001b[39m  \u001b[0m\u001b[1;36m0\u001b[0m\u001b[39m%|     \u001b[0m\n",
       "\u001b[39m| \u001b[0m\u001b[1;36m0\u001b[0m\u001b[39m/\u001b[0m\u001b[1;36m1000\u001b[0m\u001b[39m \u001b[0m\u001b[1;39m[\u001b[0m\u001b[1;92m00:11\u001b[0m\u001b[39m<?, ?it/s\u001b[0m\u001b[1;39m]\u001b[0m\u001b[39m  \u001b[0m\u001b[1;36m0\u001b[0m\u001b[39m%|          | \u001b[0m\u001b[1;36m0\u001b[0m\u001b[39m/\u001b[0m\u001b[1;36m1000\u001b[0m\u001b[39m \u001b[0m\u001b[1;39m[\u001b[0m\u001b[1;92m00:12\u001b[0m\u001b[39m<?, ?it/s\u001b[0m\u001b[1;39m]\u001b[0m\u001b[39m  \u001b[0m\u001b[1;36m0\u001b[0m\u001b[39m%|          | \u001b[0m\u001b[1;36m0\u001b[0m\u001b[39m/\u001b[0m\u001b[1;36m1000\u001b[0m\u001b[39m \u001b[0m\u001b[1;39m[\u001b[0m\u001b[1;92m00:12\u001b[0m\u001b[39m<?, ?it/s\u001b[0m\u001b[1;39m]\u001b[0m\u001b[39m \u001b[0m\u001b[1;36m10\u001b[0m\u001b[39m%|█    \u001b[0m\n",
       "\u001b[39m| \u001b[0m\u001b[1;36m100\u001b[0m\u001b[39m/\u001b[0m\u001b[1;36m1000\u001b[0m\u001b[39m \u001b[0m\u001b[1;39m[\u001b[0m\u001b[1;92m00:45\u001b[0m\u001b[39m<\u001b[0m\u001b[1;92m04:59\u001b[0m\u001b[39m,  \u001b[0m\u001b[1;36m3.\u001b[0m\u001b[39m00it/s\u001b[0m\u001b[1;39m]\u001b[0m\u001b[39m \u001b[0m\u001b[1;36m20\u001b[0m\u001b[39m%|██        | \u001b[0m\u001b[1;36m200\u001b[0m\u001b[39m/\u001b[0m\u001b[1;36m1000\u001b[0m\u001b[39m \u001b[0m\u001b[1;39m[\u001b[0m\u001b[1;92m01:25\u001b[0m\u001b[39m<\u001b[0m\u001b[1;92m04:59\u001b[0m\u001b[39m,  \u001b[0m\u001b[1;36m2.\u001b[0m\u001b[39m67it/s\u001b[0m\u001b[1;39m]\u001b[0m\u001b[39m \u001b[0m\u001b[1;36m30\u001b[0m\u001b[39m%|███       | \u001b[0m\u001b[1;36m300\u001b[0m\u001b[39m/\u001b[0m\u001b[1;36m1000\u001b[0m\u001b[39m \u001b[0m\n",
       "\u001b[1;39m[\u001b[0m\u001b[1;92m02:05\u001b[0m\u001b[39m<\u001b[0m\u001b[1;92m04:28\u001b[0m\u001b[39m,  \u001b[0m\u001b[1;36m2.\u001b[0m\u001b[39m61it/s\u001b[0m\u001b[1;39m]\u001b[0m\u001b[39m \u001b[0m\u001b[1;36m40\u001b[0m\u001b[39m%|████      | \u001b[0m\u001b[1;36m400\u001b[0m\u001b[39m/\u001b[0m\u001b[1;36m1000\u001b[0m\u001b[39m \u001b[0m\u001b[1;39m[\u001b[0m\u001b[1;92m02:47\u001b[0m\u001b[39m<\u001b[0m\u001b[1;92m03:58\u001b[0m\u001b[39m,  \u001b[0m\u001b[1;36m2.\u001b[0m\u001b[39m51it/s\u001b[0m\u001b[1;39m]\u001b[0m\u001b[39m \u001b[0m\u001b[1;36m50\u001b[0m\u001b[39m%|█████     | \u001b[0m\u001b[1;36m500\u001b[0m\u001b[39m/\u001b[0m\u001b[1;36m1000\u001b[0m\u001b[39m \u001b[0m\u001b[1;39m[\u001b[0m\u001b[1;92m03:28\u001b[0m\u001b[39m<\u001b[0m\u001b[1;92m03:22\u001b[0m\u001b[39m,  \u001b[0m\n",
       "\u001b[1;36m2.\u001b[0m\u001b[39m47it/s\u001b[0m\u001b[1;39m]\u001b[0m\u001b[39m \u001b[0m\u001b[1;36m60\u001b[0m\u001b[39m%|██████    | \u001b[0m\u001b[1;36m600\u001b[0m\u001b[39m/\u001b[0m\u001b[1;36m1000\u001b[0m\u001b[39m \u001b[0m\u001b[1;39m[\u001b[0m\u001b[1;92m04:09\u001b[0m\u001b[39m<\u001b[0m\u001b[1;92m02:41\u001b[0m\u001b[39m,  \u001b[0m\u001b[1;36m2.\u001b[0m\u001b[39m48it/s\u001b[0m\u001b[1;39m]\u001b[0m\u001b[39m \u001b[0m\u001b[1;36m70\u001b[0m\u001b[39m%|███████   | \u001b[0m\u001b[1;36m700\u001b[0m\u001b[39m/\u001b[0m\u001b[1;36m1000\u001b[0m\u001b[39m \u001b[0m\u001b[1;39m[\u001b[0m\u001b[1;92m04:51\u001b[0m\u001b[39m<\u001b[0m\u001b[1;92m02:03\u001b[0m\u001b[39m,  \u001b[0m\u001b[1;36m2.\u001b[0m\u001b[39m44it/s\u001b[0m\u001b[1;39m]\u001b[0m\u001b[39m \u001b[0m\n",
       "\u001b[1;36m80\u001b[0m\u001b[39m%|████████  | \u001b[0m\u001b[1;36m800\u001b[0m\u001b[39m/\u001b[0m\u001b[1;36m1000\u001b[0m\u001b[39m \u001b[0m\u001b[1;39m[\u001b[0m\u001b[1;92m05:36\u001b[0m\u001b[39m<\u001b[0m\u001b[1;92m01:24\u001b[0m\u001b[39m,  \u001b[0m\u001b[1;36m2.\u001b[0m\u001b[39m36it/s\u001b[0m\u001b[1;39m]\u001b[0m\u001b[39m \u001b[0m\u001b[1;36m90\u001b[0m\u001b[39m%|█████████ | \u001b[0m\u001b[1;36m900\u001b[0m\u001b[39m/\u001b[0m\u001b[1;36m1000\u001b[0m\u001b[39m \u001b[0m\u001b[1;39m[\u001b[0m\u001b[1;92m06:19\u001b[0m\u001b[39m<\u001b[0m\u001b[1;92m00:42\u001b[0m\u001b[39m,  \u001b[0m\u001b[1;36m2.\u001b[0m\u001b[39m36it/s\u001b[0m\u001b[1;39m]\u001b[0m\u001b[1;36m100\u001b[0m\u001b[39m%|██████████|\u001b[0m\n",
       "\u001b[1;36m1000\u001b[0m\u001b[39m/\u001b[0m\u001b[1;36m1000\u001b[0m\u001b[39m \u001b[0m\u001b[1;39m[\u001b[0m\u001b[1;92m07:01\u001b[0m\u001b[39m<\u001b[0m\u001b[1;92m00:00\u001b[0m\u001b[39m,  \u001b[0m\u001b[1;36m2.\u001b[0m\u001b[39m36it/s\u001b[0m\u001b[1;39m]\u001b[0m\u001b[1;36m100\u001b[0m\u001b[39m%|██████████| \u001b[0m\u001b[1;36m1000\u001b[0m\u001b[39m/\u001b[0m\u001b[1;36m1000\u001b[0m\u001b[39m \u001b[0m\u001b[1;39m[\u001b[0m\u001b[1;92m07:01\u001b[0m\u001b[39m<\u001b[0m\u001b[1;92m00:00\u001b[0m\u001b[39m,  \u001b[0m\u001b[1;36m2.\u001b[0m\u001b[39m37it/s\u001b[0m\u001b[1;39m]\u001b[0m\n",
       "\u001b[39m\u001b\u001b[0m\u001b[1;39m[\u001b[0m\u001b[1;35m36m\u001b[0m\u001b[1;39m(\u001b[0m\u001b[33mpid\u001b[0m\u001b[39m=\u001b[0m\u001b[1;36m43849\u001b[0m\u001b[1;39m)\u001b[0m\u001b[39m\u001b\u001b[0m\u001b[1;39m[\u001b[0m\u001b[39m0m \u001b[0m\u001b[3;35mNone\u001b[0m\u001b[39m of PyTorch, TensorFlow >= \u001b[0m\u001b[1;36m2.0\u001b[0m\u001b[39m, or Flax have been found. Models won't be available and only\u001b[0m\n",
       "\u001b[39mtokenizers, configuration and file/data utilities can be used.\u001b\u001b[0m\u001b[1;39m[\u001b[0m\u001b[39m32m \u001b[0m\u001b[39m \u001b[0m\u001b[1;39m(\u001b[0m\u001b[39mRay deduplicates logs by default. Set \u001b[0m\n",
       "\u001b[33mRAY_DEDUP_LOGS\u001b[0m\u001b[39m=\u001b[0m\u001b[1;36m0\u001b[0m\u001b[39m to disable log deduplication, or see \u001b[0m\n",
       "\u001b[4;94mhttps://docs.ray.io/en/master/ray-observability/user-guides/configure-logging.html#log-deduplication\u001b[0m\u001b[39m for more \u001b[0m\n",
       "\u001b[39moptions.\u001b[0m\u001b[1;39m)\u001b[0m\u001b[39m\u001b\u001b[0m\u001b[1;39m[\u001b[0m\u001b[39m0m\u001b[0m\n",
       "\u001b[39m\u001b\u001b[0m\u001b[1;39m[\u001b[0m\u001b[1;35m36m\u001b[0m\u001b[1;39m(\u001b[0m\u001b[39mSageMakerClient \u001b[0m\u001b[33mpid\u001b[0m\u001b[39m=\u001b[0m\u001b[1;36m43835\u001b[0m\u001b[1;39m)\u001b[0m\u001b[39m\u001b\u001b[0m\u001b[1;39m[\u001b[0m\u001b[39m0m You are using the default legacy behaviour of the <class \u001b[0m\n",
       "\u001b[32m'transformers.models.llama.tokenization_llama_fast.LlamaTokenizerFast'\u001b[0m\u001b[1m>\u001b[0m. This is expected, and simply means that \n",
       "the `legacy` \u001b[1m(\u001b[0mprevious\u001b[1m)\u001b[0m behavior will be used so nothing changes for you. If you want to use the new behaviour, set\n",
       "`\u001b[33mlegacy\u001b[0m=\u001b[3;91mFalse\u001b[0m`. This should only be set if you understand what it means, and thoroughly read the reason why this \n",
       "was added as explained in \u001b[4;94mhttps://github.com/huggingface/transformers/pull/24565\u001b[0m - if you loaded a llama tokenizer \n",
       "from a GGUF file you can ignore this message.\u001b\u001b[1m[\u001b[0m32m \u001b\u001b[1m[\u001b[0m0m\n",
       "\n"
      ]
     },
     "metadata": {},
     "output_type": "display_data"
    }
   ],
   "source": [
    "# Monitor the background traffic generation process for completion\n",
    "monitor_process(process)"
   ]
  },
  {
   "cell_type": "markdown",
   "id": "b6829fa5-4a91-472e-8c3b-905612e778a0",
   "metadata": {},
   "source": [
    "## Print LLMPerf results\n",
    "\n",
    "LLMPerf writes the results to **\"results/\"** directory. `summary.json` file has the endpoint benchmarking data."
   ]
  },
  {
   "cell_type": "code",
   "execution_count": 17,
   "id": "281d502c-e8d6-4023-a9bc-9e011b63c2d1",
   "metadata": {
    "tags": []
   },
   "outputs": [
    {
     "data": {
      "text/html": [
       "<pre style=\"white-space:pre;overflow-x:auto;line-height:normal;font-family:Menlo,'DejaVu Sans Mono',consolas,'Courier New',monospace\"><span style=\"font-style: italic\">            LLMPerf Endpoint Metrics             </span>\n",
       "                           ╷                     \n",
       " <span style=\"font-weight: bold\">                   Metric </span>│<span style=\"font-weight: bold\"> Units              </span> \n",
       " ══════════════════════════╪════════════════════ \n",
       " <span style=\"color: #008000; text-decoration-color: #008000; font-weight: bold\">      Concurrent requests </span>│<span style=\"color: #800080; text-decoration-color: #800080; font-weight: bold\"> 100                </span> \n",
       " <span style=\"color: #008000; text-decoration-color: #008000; font-weight: bold\">  Avg. Input token length </span>│<span style=\"color: #800080; text-decoration-color: #800080; font-weight: bold\"> 550                </span> \n",
       " <span style=\"color: #008000; text-decoration-color: #008000; font-weight: bold\"> Avg. Output token length </span>│<span style=\"color: #800080; text-decoration-color: #800080; font-weight: bold\"> 150                </span> \n",
       " <span style=\"color: #008000; text-decoration-color: #008000; font-weight: bold\"> Avg. First-Time-To-Token </span>│<span style=\"color: #800080; text-decoration-color: #800080; font-weight: bold\"> 9173.32ms          </span> \n",
       " <span style=\"color: #008000; text-decoration-color: #008000; font-weight: bold\">          Avg. Thorughput </span>│<span style=\"color: #800080; text-decoration-color: #800080; font-weight: bold\"> 1632.56 tokens/sec </span> \n",
       " <span style=\"color: #008000; text-decoration-color: #008000; font-weight: bold\">             Avg. Latency </span>│<span style=\"color: #800080; text-decoration-color: #800080; font-weight: bold\"> 29.25ms/token      </span> \n",
       "                           ╵                     \n",
       "</pre>\n"
      ],
      "text/plain": [
       "\u001b[3m            LLMPerf Endpoint Metrics             \u001b[0m\n",
       "                           ╷                     \n",
       " \u001b[1m \u001b[0m\u001b[1m                  Metric\u001b[0m\u001b[1m \u001b[0m│\u001b[1m \u001b[0m\u001b[1mUnits             \u001b[0m\u001b[1m \u001b[0m \n",
       " ══════════════════════════╪════════════════════ \n",
       " \u001b[1;32m \u001b[0m\u001b[1;32m     Concurrent requests\u001b[0m\u001b[1;32m \u001b[0m│\u001b[1;35m \u001b[0m\u001b[1;35m100               \u001b[0m\u001b[1;35m \u001b[0m \n",
       " \u001b[1;32m \u001b[0m\u001b[1;32m Avg. Input token length\u001b[0m\u001b[1;32m \u001b[0m│\u001b[1;35m \u001b[0m\u001b[1;35m550               \u001b[0m\u001b[1;35m \u001b[0m \n",
       " \u001b[1;32m \u001b[0m\u001b[1;32mAvg. Output token length\u001b[0m\u001b[1;32m \u001b[0m│\u001b[1;35m \u001b[0m\u001b[1;35m150               \u001b[0m\u001b[1;35m \u001b[0m \n",
       " \u001b[1;32m \u001b[0m\u001b[1;32mAvg. First-Time-To-Token\u001b[0m\u001b[1;32m \u001b[0m│\u001b[1;35m \u001b[0m\u001b[1;35m9173.32ms         \u001b[0m\u001b[1;35m \u001b[0m \n",
       " \u001b[1;32m \u001b[0m\u001b[1;32m         Avg. Thorughput\u001b[0m\u001b[1;32m \u001b[0m│\u001b[1;35m \u001b[0m\u001b[1;35m1632.56 tokens/sec\u001b[0m\u001b[1;35m \u001b[0m \n",
       " \u001b[1;32m \u001b[0m\u001b[1;32m            Avg. Latency\u001b[0m\u001b[1;32m \u001b[0m│\u001b[1;35m \u001b[0m\u001b[1;35m29.25ms/token     \u001b[0m\u001b[1;35m \u001b[0m \n",
       "                           ╵                     \n"
      ]
     },
     "execution_count": 17,
     "metadata": {},
     "output_type": "execute_result"
    }
   ],
   "source": [
    "print_llmperf_results(num_concurrent_requests)"
   ]
  },
  {
   "cell_type": "markdown",
   "id": "f8bd184b-fcfe-4260-95ce-5bdd557ad6e2",
   "metadata": {},
   "source": [
    "### Monitor Scale-in action scaling times (Optional)\n",
    "\n",
    "\n",
    "<div class=\"alert alert-block alert-info\">\n",
    "<b>NOTE: ⚠️</b>Per the <b>ScaleIn</b> Alarm, scale-in actions only start after the threshold of <b>ConcurrentRequestsPerModel <= 10</b> for 3 datapoints within <b>3 minutes</b> is breached.\n",
    "</div>"
   ]
  },
  {
   "cell_type": "code",
   "execution_count": 18,
   "id": "883924cc-9f29-48cf-85ac-1d96c0a3dd16",
   "metadata": {
    "tags": []
   },
   "outputs": [
    {
     "data": {
      "text/html": [
       "<pre style=\"white-space:pre;overflow-x:auto;line-height:normal;font-family:Menlo,'DejaVu Sans Mono',consolas,'Courier New',monospace\">Initial instance count: <span style=\"color: #008080; text-decoration-color: #008080; font-weight: bold\">1</span>\n",
       "</pre>\n"
      ],
      "text/plain": [
       "Initial instance count: \u001b[1;36m1\u001b[0m\n"
      ]
     },
     "metadata": {},
     "output_type": "display_data"
    },
    {
     "data": {
      "text/html": [
       "<pre style=\"white-space:pre;overflow-x:auto;line-height:normal;font-family:Menlo,'DejaVu Sans Mono',consolas,'Courier New',monospace\">Tracking Alarm: <span style=\"color: #008000; text-decoration-color: #008000; font-style: italic\">Step-Scaling-AlarmLow-SageMaker:endpoint/Llama3-8B-fas-943d7-28Jul2024/variant/AllTraffic</span>\n",
       "</pre>\n"
      ],
      "text/plain": [
       "Tracking Alarm: \u001b[3;32mStep-Scaling-AlarmLow-SageMaker:endpoint/Llama3-8B-fas-943d7-28Jul2024/variant/AllTraffic\u001b[0m\n"
      ]
     },
     "metadata": {},
     "output_type": "display_data"
    },
    {
     "data": {
      "application/vnd.jupyter.widget-view+json": {
       "model_id": "ace901368c0341e280a8df17089d8afb",
       "version_major": 2,
       "version_minor": 0
      },
      "text/plain": [
       "Output()"
      ]
     },
     "metadata": {},
     "output_type": "display_data"
    },
    {
     "data": {
      "text/html": [
       "<pre style=\"white-space:pre;overflow-x:auto;line-height:normal;font-family:Menlo,'DejaVu Sans Mono',consolas,'Courier New',monospace\"></pre>\n"
      ],
      "text/plain": []
     },
     "metadata": {},
     "output_type": "display_data"
    },
    {
     "data": {
      "text/html": [
       "<pre style=\"white-space:pre;overflow-x:auto;line-height:normal;font-family:Menlo,'DejaVu Sans Mono',consolas,'Courier New',monospace\">\n",
       "</pre>\n"
      ],
      "text/plain": [
       "\n"
      ]
     },
     "metadata": {},
     "output_type": "display_data"
    },
    {
     "data": {
      "text/html": [
       "<pre style=\"white-space:pre;overflow-x:auto;line-height:normal;font-family:Menlo,'DejaVu Sans Mono',consolas,'Courier New',monospace\"><span style=\"font-style: italic\">                  Scaling Times                   </span>\n",
       "┏━━━━━━━━━━━━━━━━━━━━━━━┳━━━━━━━━━━━━━━━━━━━━━━━━┓\n",
       "┃<span style=\"font-weight: bold\"> Target Instance Count </span>┃<span style=\"font-weight: bold\"> Scaling Time (seconds) </span>┃\n",
       "┡━━━━━━━━━━━━━━━━━━━━━━━╇━━━━━━━━━━━━━━━━━━━━━━━━┩\n",
       "│<span style=\"color: #008080; text-decoration-color: #008080\">                     1 </span>│<span style=\"color: #800080; text-decoration-color: #800080\">                   5.09 </span>│\n",
       "└───────────────────────┴────────────────────────┘\n",
       "</pre>\n"
      ],
      "text/plain": [
       "\u001b[3m                  Scaling Times                   \u001b[0m\n",
       "┏━━━━━━━━━━━━━━━━━━━━━━━┳━━━━━━━━━━━━━━━━━━━━━━━━┓\n",
       "┃\u001b[1m \u001b[0m\u001b[1mTarget Instance Count\u001b[0m\u001b[1m \u001b[0m┃\u001b[1m \u001b[0m\u001b[1mScaling Time (seconds)\u001b[0m\u001b[1m \u001b[0m┃\n",
       "┡━━━━━━━━━━━━━━━━━━━━━━━╇━━━━━━━━━━━━━━━━━━━━━━━━┩\n",
       "│\u001b[36m \u001b[0m\u001b[36m                    1\u001b[0m\u001b[36m \u001b[0m│\u001b[35m \u001b[0m\u001b[35m                  5.09\u001b[0m\u001b[35m \u001b[0m│\n",
       "└───────────────────────┴────────────────────────┘\n"
      ]
     },
     "metadata": {},
     "output_type": "display_data"
    }
   ],
   "source": [
    "# Start monitoring scaling events\n",
    "SLEEP_TIME = 5  # time to sleep\n",
    "scaling_times = monitor_scaling_events(\n",
    "    endpoint_name,\n",
    "    alarm_name_scale_in,  # scale_in cloudwatch metric alarm name\n",
    "    SLEEP_TIME,\n",
    "    cloudwatch_client,\n",
    "    sagemaker_client,\n",
    ")\n",
    "\n",
    "# Print scaling times\n",
    "console = Console()\n",
    "table = print_scaling_times(scaling_times)\n",
    "console.print(table)"
   ]
  },
  {
   "cell_type": "markdown",
   "id": "02a2d5b0-dc4b-40e3-8ada-ceddecfdac1a",
   "metadata": {},
   "source": [
    "## Cleanup\n",
    "\n",
    "- Delete cloudwatch alarms\n",
    "- Delete scaling policies\n",
    "- Deregister scalable target\n",
    "- Delete model\n",
    "- Delete endpoint"
   ]
  },
  {
   "cell_type": "code",
   "execution_count": 19,
   "id": "5f44ef56-dbcc-4e23-97c2-af6cb062b498",
   "metadata": {
    "tags": []
   },
   "outputs": [
    {
     "data": {
      "text/html": [
       "<pre style=\"white-space:pre;overflow-x:auto;line-height:normal;font-family:Menlo,'DejaVu Sans Mono',consolas,'Courier New',monospace\">Deleted CloudWatch scale-out alarm \n",
       "<span style=\"font-weight: bold\">Step-Scaling-AlarmHigh-SageMaker:endpoint/Llama3-8B-fas-943d7-28Jul2024/variant/AllTraffic ✅</span>\n",
       "</pre>\n"
      ],
      "text/plain": [
       "Deleted CloudWatch scale-out alarm \n",
       "\u001b[1mStep-Scaling-AlarmHigh-SageMaker:endpoint/Llama3-8B-fas-943d7-28Jul2024/variant/AllTraffic ✅\u001b[0m\n"
      ]
     },
     "metadata": {},
     "output_type": "display_data"
    },
    {
     "data": {
      "text/html": [
       "<pre style=\"white-space:pre;overflow-x:auto;line-height:normal;font-family:Menlo,'DejaVu Sans Mono',consolas,'Courier New',monospace\">Deleted CloudWatch scale-out alarm \n",
       "<span style=\"font-weight: bold\">Step-Scaling-AlarmLow-SageMaker:endpoint/Llama3-8B-fas-943d7-28Jul2024/variant/AllTraffic ✅</span>\n",
       "</pre>\n"
      ],
      "text/plain": [
       "Deleted CloudWatch scale-out alarm \n",
       "\u001b[1mStep-Scaling-AlarmLow-SageMaker:endpoint/Llama3-8B-fas-943d7-28Jul2024/variant/AllTraffic ✅\u001b[0m\n"
      ]
     },
     "metadata": {},
     "output_type": "display_data"
    },
    {
     "data": {
      "text/html": [
       "<pre style=\"white-space:pre;overflow-x:auto;line-height:normal;font-family:Menlo,'DejaVu Sans Mono',consolas,'Courier New',monospace\">------------------------------\n",
       "</pre>\n"
      ],
      "text/plain": [
       "------------------------------\n"
      ]
     },
     "metadata": {},
     "output_type": "display_data"
    },
    {
     "data": {
      "text/html": [
       "<pre style=\"white-space:pre;overflow-x:auto;line-height:normal;font-family:Menlo,'DejaVu Sans Mono',consolas,'Courier New',monospace\">Deleted scaling policy <span style=\"color: #008000; text-decoration-color: #008000; font-style: italic\">Llama3-8B-fas-943d7-28Jul2024-ScaleInPolicy ✅</span>\n",
       "</pre>\n"
      ],
      "text/plain": [
       "Deleted scaling policy \u001b[3;32mLlama3-8B-fas-943d7-28Jul2024-ScaleInPolicy ✅\u001b[0m\n"
      ]
     },
     "metadata": {},
     "output_type": "display_data"
    },
    {
     "data": {
      "text/html": [
       "<pre style=\"white-space:pre;overflow-x:auto;line-height:normal;font-family:Menlo,'DejaVu Sans Mono',consolas,'Courier New',monospace\">Deleted scaling policy <span style=\"color: #008000; text-decoration-color: #008000; font-style: italic\">Llama3-8B-fas-943d7-28Jul2024-ScaleOutPolicy ✅</span>\n",
       "</pre>\n"
      ],
      "text/plain": [
       "Deleted scaling policy \u001b[3;32mLlama3-8B-fas-943d7-28Jul2024-ScaleOutPolicy ✅\u001b[0m\n"
      ]
     },
     "metadata": {},
     "output_type": "display_data"
    },
    {
     "data": {
      "text/html": [
       "<pre style=\"white-space:pre;overflow-x:auto;line-height:normal;font-family:Menlo,'DejaVu Sans Mono',consolas,'Courier New',monospace\">Scalable target for <span style=\"font-weight: bold\">endpoint/Llama3-8B-fas-943d7-28Jul2024/variant/AllTraffic</span> deregistered. ✅\n",
       "</pre>\n"
      ],
      "text/plain": [
       "Scalable target for \u001b[1mendpoint/Llama3-8B-fas-943d7-28Jul2024/variant/AllTraffic\u001b[0m deregistered. ✅\n"
      ]
     },
     "metadata": {},
     "output_type": "display_data"
    },
    {
     "data": {
      "text/html": [
       "<pre style=\"white-space:pre;overflow-x:auto;line-height:normal;font-family:Menlo,'DejaVu Sans Mono',consolas,'Courier New',monospace\">------------------------------\n",
       "</pre>\n"
      ],
      "text/plain": [
       "------------------------------\n"
      ]
     },
     "metadata": {},
     "output_type": "display_data"
    },
    {
     "data": {
      "text/html": [
       "<pre style=\"white-space:pre;overflow-x:auto;line-height:normal;font-family:Menlo,'DejaVu Sans Mono',consolas,'Courier New',monospace\">Deleting model: <span style=\"color: #008000; text-decoration-color: #008000; font-weight: bold\">Llama3-8B-fas-943d7-28Jul2024 ✅</span>\n",
       "</pre>\n"
      ],
      "text/plain": [
       "Deleting model: \u001b[1;32mLlama3-8B-fas-943d7-28Jul2024 ✅\u001b[0m\n"
      ]
     },
     "metadata": {},
     "output_type": "display_data"
    },
    {
     "data": {
      "text/html": [
       "<pre style=\"white-space:pre;overflow-x:auto;line-height:normal;font-family:Menlo,'DejaVu Sans Mono',consolas,'Courier New',monospace\">Deleting endpoint: <span style=\"color: #800080; text-decoration-color: #800080; font-weight: bold\">Llama3-8B-fas-943d7-28Jul2024 ✅</span>\n",
       "</pre>\n"
      ],
      "text/plain": [
       "Deleting endpoint: \u001b[1;35mLlama3-8B-fas-943d7-28Jul2024 ✅\u001b[0m\n"
      ]
     },
     "metadata": {},
     "output_type": "display_data"
    },
    {
     "data": {
      "text/html": [
       "<pre style=\"white-space:pre;overflow-x:auto;line-height:normal;font-family:Menlo,'DejaVu Sans Mono',consolas,'Courier New',monospace\">------------------------------\n",
       "</pre>\n"
      ],
      "text/plain": [
       "------------------------------\n"
      ]
     },
     "metadata": {},
     "output_type": "display_data"
    },
    {
     "data": {
      "text/html": [
       "<pre style=\"white-space:pre;overflow-x:auto;line-height:normal;font-family:Menlo,'DejaVu Sans Mono',consolas,'Courier New',monospace\">Done\n",
       "</pre>\n"
      ],
      "text/plain": [
       "Done\n"
      ]
     },
     "metadata": {},
     "output_type": "display_data"
    }
   ],
   "source": [
    "# Delete CloudWatch alarms created for Step scaling policy\n",
    "alarm_names = [alarm_name_scale_out, alarm_name_scale_in]\n",
    "\n",
    "for alarm in alarm_names:\n",
    "    try:\n",
    "        cloudwatch_client.delete_alarms(AlarmNames=[alarm])\n",
    "        print(f\"Deleted CloudWatch scale-out alarm [b]{alarm} ✅\")\n",
    "    except cloudwatch_client.exceptions.ResourceNotFoundException:\n",
    "        print(f\"CloudWatch scale-out alarm [b]{alarm}[/b] not found.\")\n",
    "\n",
    "\n",
    "# Delete scaling policies\n",
    "print(\"---\" * 10)\n",
    "step_policies = [f\"{endpoint_name}-ScaleInPolicy\", f\"{endpoint_name}-ScaleOutPolicy\"]\n",
    "for policy_name in step_policies:\n",
    "    try:\n",
    "        autoscaling_client.delete_scaling_policy(\n",
    "            PolicyName=policy_name,\n",
    "            ServiceNamespace=\"sagemaker\",\n",
    "            ResourceId=resource_id,\n",
    "            ScalableDimension=\"sagemaker:variant:DesiredInstanceCount\",\n",
    "        )\n",
    "        print(f\"Deleted scaling policy [i green]{policy_name} ✅\")\n",
    "    except autoscaling_client.exceptions.ObjectNotFoundException:\n",
    "        print(f\"Scaling policy [i]{policy_name}[/i] not found.\")\n",
    "\n",
    "# Deregister scalable target\n",
    "try:\n",
    "    autoscaling_client.deregister_scalable_target(\n",
    "        ServiceNamespace=\"sagemaker\",\n",
    "        ResourceId=resource_id,\n",
    "        ScalableDimension=\"sagemaker:variant:DesiredInstanceCount\",\n",
    "    )\n",
    "    print(f\"Scalable target for [b]{resource_id}[/b] deregistered. ✅\")\n",
    "except autoscaling_client.exceptions.ObjectNotFoundException:\n",
    "    print(f\"Scalable target for [b]{resource_id}[/b] not found!.\")\n",
    "\n",
    "print(\"---\" * 10)\n",
    "# Delete model and endpoint\n",
    "try:\n",
    "    print(f\"Deleting model: [b green]{model_name} ✅\")\n",
    "    predictor.delete_model()\n",
    "except Exception as e:\n",
    "    print(f\"{e}\")\n",
    "\n",
    "try:\n",
    "    print(f\"Deleting endpoint: [b magenta]{predictor.endpoint_name} ✅\")\n",
    "    predictor.delete_endpoint()\n",
    "except Exception as e:\n",
    "    print(f\"{e}\")\n",
    "\n",
    "print(\"---\" * 10)\n",
    "print(\"Done\")"
   ]
  },
  {
   "cell_type": "markdown",
   "id": "f43d8011",
   "metadata": {},
   "source": [
    "## Notebook CI Test Results\n",
    "\n",
    "This notebook was tested in multiple regions. The test results are as follows, except for us-west-2 which is shown at the top of the notebook.\n",
    "\n",
    "\n",
    "![This us-east-1 badge failed to load. Check your device's internet connectivity, otherwise the service is currently unavailable](https://prod.us-west-2.tcx-beacon.docs.aws.dev/sagemaker-nb/us-east-1/inference|generativeai|huggingfacetgi|meta-llama|llama3-8b|faster-autoscaling|realtime-endpoints|FasterAutoscaling-SME-Llama3-8B-StepScaling.ipynb)\n",
    "\n",
    "![This us-east-2 badge failed to load. Check your device's internet connectivity, otherwise the service is currently unavailable](https://prod.us-west-2.tcx-beacon.docs.aws.dev/sagemaker-nb/us-east-2/inference|generativeai|huggingfacetgi|meta-llama|llama3-8b|faster-autoscaling|realtime-endpoints|FasterAutoscaling-SME-Llama3-8B-StepScaling.ipynb)\n",
    "\n",
    "![This us-west-1 badge failed to load. Check your device's internet connectivity, otherwise the service is currently unavailable](https://prod.us-west-2.tcx-beacon.docs.aws.dev/sagemaker-nb/us-west-1/inference|generativeai|huggingfacetgi|meta-llama|llama3-8b|faster-autoscaling|realtime-endpoints|FasterAutoscaling-SME-Llama3-8B-StepScaling.ipynb)\n",
    "\n",
    "![This ca-central-1 badge failed to load. Check your device's internet connectivity, otherwise the service is currently unavailable](https://prod.us-west-2.tcx-beacon.docs.aws.dev/sagemaker-nb/ca-central-1/inference|generativeai|huggingfacetgi|meta-llama|llama3-8b|faster-autoscaling|realtime-endpoints|FasterAutoscaling-SME-Llama3-8B-StepScaling.ipynb)\n",
    "\n",
    "![This sa-east-1 badge failed to load. Check your device's internet connectivity, otherwise the service is currently unavailable](https://prod.us-west-2.tcx-beacon.docs.aws.dev/sagemaker-nb/sa-east-1/inference|generativeai|huggingfacetgi|meta-llama|llama3-8b|faster-autoscaling|realtime-endpoints|FasterAutoscaling-SME-Llama3-8B-StepScaling.ipynb)\n",
    "\n",
    "![This eu-west-1 badge failed to load. Check your device's internet connectivity, otherwise the service is currently unavailable](https://prod.us-west-2.tcx-beacon.docs.aws.dev/sagemaker-nb/eu-west-1/inference|generativeai|huggingfacetgi|meta-llama|llama3-8b|faster-autoscaling|realtime-endpoints|FasterAutoscaling-SME-Llama3-8B-StepScaling.ipynb)\n",
    "\n",
    "![This eu-west-2 badge failed to load. Check your device's internet connectivity, otherwise the service is currently unavailable](https://prod.us-west-2.tcx-beacon.docs.aws.dev/sagemaker-nb/eu-west-2/inference|generativeai|huggingfacetgi|meta-llama|llama3-8b|faster-autoscaling|realtime-endpoints|FasterAutoscaling-SME-Llama3-8B-StepScaling.ipynb)\n",
    "\n",
    "![This eu-west-3 badge failed to load. Check your device's internet connectivity, otherwise the service is currently unavailable](https://prod.us-west-2.tcx-beacon.docs.aws.dev/sagemaker-nb/eu-west-3/inference|generativeai|huggingfacetgi|meta-llama|llama3-8b|faster-autoscaling|realtime-endpoints|FasterAutoscaling-SME-Llama3-8B-StepScaling.ipynb)\n",
    "\n",
    "![This eu-central-1 badge failed to load. Check your device's internet connectivity, otherwise the service is currently unavailable](https://prod.us-west-2.tcx-beacon.docs.aws.dev/sagemaker-nb/eu-central-1/inference|generativeai|huggingfacetgi|meta-llama|llama3-8b|faster-autoscaling|realtime-endpoints|FasterAutoscaling-SME-Llama3-8B-StepScaling.ipynb)\n",
    "\n",
    "![This eu-north-1 badge failed to load. Check your device's internet connectivity, otherwise the service is currently unavailable](https://prod.us-west-2.tcx-beacon.docs.aws.dev/sagemaker-nb/eu-north-1/inference|generativeai|huggingfacetgi|meta-llama|llama3-8b|faster-autoscaling|realtime-endpoints|FasterAutoscaling-SME-Llama3-8B-StepScaling.ipynb)\n",
    "\n",
    "![This ap-southeast-1 badge failed to load. Check your device's internet connectivity, otherwise the service is currently unavailable](https://prod.us-west-2.tcx-beacon.docs.aws.dev/sagemaker-nb/ap-southeast-1/inference|generativeai|huggingfacetgi|meta-llama|llama3-8b|faster-autoscaling|realtime-endpoints|FasterAutoscaling-SME-Llama3-8B-StepScaling.ipynb)\n",
    "\n",
    "![This ap-southeast-2 badge failed to load. Check your device's internet connectivity, otherwise the service is currently unavailable](https://prod.us-west-2.tcx-beacon.docs.aws.dev/sagemaker-nb/ap-southeast-2/inference|generativeai|huggingfacetgi|meta-llama|llama3-8b|faster-autoscaling|realtime-endpoints|FasterAutoscaling-SME-Llama3-8B-StepScaling.ipynb)\n",
    "\n",
    "![This ap-northeast-1 badge failed to load. Check your device's internet connectivity, otherwise the service is currently unavailable](https://prod.us-west-2.tcx-beacon.docs.aws.dev/sagemaker-nb/ap-northeast-1/inference|generativeai|huggingfacetgi|meta-llama|llama3-8b|faster-autoscaling|realtime-endpoints|FasterAutoscaling-SME-Llama3-8B-StepScaling.ipynb)\n",
    "\n",
    "![This ap-northeast-2 badge failed to load. Check your device's internet connectivity, otherwise the service is currently unavailable](https://prod.us-west-2.tcx-beacon.docs.aws.dev/sagemaker-nb/ap-northeast-2/inference|generativeai|huggingfacetgi|meta-llama|llama3-8b|faster-autoscaling|realtime-endpoints|FasterAutoscaling-SME-Llama3-8B-StepScaling.ipynb)\n",
    "\n",
    "![This ap-south-1 badge failed to load. Check your device's internet connectivity, otherwise the service is currently unavailable](https://prod.us-west-2.tcx-beacon.docs.aws.dev/sagemaker-nb/ap-south-1/inference|generativeai|huggingfacetgi|meta-llama|llama3-8b|faster-autoscaling|realtime-endpoints|FasterAutoscaling-SME-Llama3-8B-StepScaling.ipynb)\n"
   ]
  }
 ],
 "metadata": {
  "kernelspec": {
   "display_name": "conda_python3",
   "language": "python",
   "name": "conda_python3"
  },
  "language_info": {
   "codemirror_mode": {
    "name": "ipython",
    "version": 3
   },
   "file_extension": ".py",
   "mimetype": "text/x-python",
   "name": "python",
   "nbconvert_exporter": "python",
   "pygments_lexer": "ipython3",
   "version": "3.10.14"
  }
 },
 "nbformat": 4,
 "nbformat_minor": 5
}
