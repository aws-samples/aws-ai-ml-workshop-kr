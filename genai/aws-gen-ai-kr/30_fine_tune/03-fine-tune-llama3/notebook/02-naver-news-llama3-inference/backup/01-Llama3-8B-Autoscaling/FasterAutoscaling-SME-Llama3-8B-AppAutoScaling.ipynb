{
 "cells": [
  {
   "cell_type": "markdown",
   "id": "81f236c9",
   "metadata": {},
   "source": [
    "# Faster autoscaling on Amazon SageMaker realtime endpoints (Application Autoscaling)\n",
    "\n",
    "---\n",
    "\n",
    "This notebook's CI test result for us-west-2 is as follows. CI test results in other regions can be found at the end of the notebook.\n",
    "\n",
    "![This us-west-2 badge failed to load. Check your device's internet connectivity, otherwise the service is currently unavailable](https://prod.us-west-2.tcx-beacon.docs.aws.dev/sagemaker-nb/us-west-2/inference|generativeai|huggingfacetgi|meta-llama|llama3-8b|faster-autoscaling|realtime-endpoints|FasterAutoscaling-SME-Llama3-8B-AppAutoScaling.ipynb)\n",
    "\n",
    "\n",
    "---\n",
    "\n",
    "In this notebook we show how the new faster autoscaling feature helps scale sagemaker inference endpoints by almost 6x faster than earlier.\n",
    "\n",
    "We deploy Meta's `Llama3-8B-Instruct` model to an Amazon SageMaker realtime endpoint using Text Generation Inference (TGI) Deep Learning Container (DLC) and apply <span style='color:green'><b>Application Autoscaling</b></span> scaling policies to the endpoint.\n",
    "\n",
    "\n",
    "<div class=\"alert alert-block alert-warning\">\n",
    "    Please select <b>m5.2xlarge</b> or larger instance types when running this on Amazon SageMaker Notebook Instance.<br/>\n",
    "    Select <b>conda_pytorch_p310</b> kernel when running this notebook on Amazon SageMaker Notebook Instance. <br/><br/>\n",
    "    Ensure python version for the kernel is <b>3.10.x</b> (3.11 is not supported). <br/>\n",
    "</div>\n",
    "\n",
    "---\n",
    "\n",
    "## Prerequisites\n",
    "\n",
    "\n",
    "\n",
    "<div style=\"border: 1px solid #f00; border-radius: 5px; padding: 10px; background-color: #fee;\">\n",
    "Before using this notebook please ensure you have access to an active access token from HuggingFace and have accepted the license agreement from Meta.\n",
    "\n",
    "- **Step 1:** Create user access token in HuggingFace (HF). Refer [here](https://huggingface.co/docs/hub/security-tokens) on how to create HF tokens.\n",
    "- **Step 2:** Login to [HuggingFace](https://huggingface.co/meta-llama/Meta-Llama-3-8B-Instruct/tree/main) and navigate to *Meta-Llama-3-8B-Instruct** home page.\n",
    "- **Step 3:** Accept META LLAMA 3 COMMUNITY LICENSE AGREEMENT by following the instructions [here](https://huggingface.co/meta-llama/Meta-Llama-3-8B-Instruct/tree/main)\n",
    "- **Step 4:** Wait for the approval email from META (Approval may take any where b/w 1-3 hrs)\n",
    "</div>"
   ]
  },
  {
   "cell_type": "markdown",
   "id": "8a241652-091a-4769-9480-ba64b9e30c9d",
   "metadata": {
    "tags": []
   },
   "source": [
    "Install packages using uv, an extremely fast python package installer\\\n",
    "Read more about uv here <https://astral.sh/blog/uv>"
   ]
  },
  {
   "cell_type": "code",
   "execution_count": 1,
   "id": "7767c519-29c9-4794-8a4e-67cb43779697",
   "metadata": {
    "tags": []
   },
   "outputs": [
    {
     "name": "stdout",
     "output_type": "stream",
     "text": [
      "Python 3.10.14\n"
     ]
    }
   ],
   "source": [
    "# ensure python version of the selected kernel is not greater than 3.10\n",
    "!python --version"
   ]
  },
  {
   "cell_type": "code",
   "execution_count": 2,
   "id": "9d260cb1-1355-448e-8fd9-3eebb1584ba0",
   "metadata": {
    "tags": []
   },
   "outputs": [
    {
     "name": "stdout",
     "output_type": "stream",
     "text": [
      "Collecting uv\n",
      "  Using cached uv-0.2.30-py3-none-manylinux_2_17_x86_64.manylinux2014_x86_64.whl.metadata (35 kB)\n",
      "Using cached uv-0.2.30-py3-none-manylinux_2_17_x86_64.manylinux2014_x86_64.whl (13.9 MB)\n",
      "Installing collected packages: uv\n",
      "Successfully installed uv-0.2.30\n",
      "\u001b[2K\u001b[2mResolved \u001b[1m22 packages\u001b[0m \u001b[2min 30ms\u001b[0m\u001b[0m                                         \u001b[0m\n",
      "\u001b[2mUninstalled \u001b[1m13 packages\u001b[0m \u001b[2min 102ms\u001b[0m\u001b[0m\n",
      "\u001b[2K\u001b[2mInstalled \u001b[1m13 packages\u001b[0m \u001b[2min 30ms\u001b[0m\u001b[0m.0.11                          \u001b[0m\n",
      " \u001b[31m-\u001b[39m \u001b[1mexceptiongroup\u001b[0m\u001b[2m==1.2.0 (from file:///home/conda/feedstock_root/build_artifacts/exceptiongroup_1704921103267/work)\u001b[0m\n",
      " \u001b[32m+\u001b[39m \u001b[1mexceptiongroup\u001b[0m\u001b[2m==1.2.2\u001b[0m\n",
      " \u001b[31m-\u001b[39m \u001b[1mipython\u001b[0m\u001b[2m==8.22.2 (from file:///home/conda/feedstock_root/build_artifacts/ipython_1709559745751/work)\u001b[0m\n",
      " \u001b[32m+\u001b[39m \u001b[1mipython\u001b[0m\u001b[2m==8.26.0\u001b[0m\n",
      " \u001b[31m-\u001b[39m \u001b[1mipywidgets\u001b[0m\u001b[2m==8.1.2 (from file:///home/conda/feedstock_root/build_artifacts/ipywidgets_1707427226251/work)\u001b[0m\n",
      " \u001b[32m+\u001b[39m \u001b[1mipywidgets\u001b[0m\u001b[2m==8.1.3\u001b[0m\n",
      " \u001b[31m-\u001b[39m \u001b[1mjupyterlab-widgets\u001b[0m\u001b[2m==3.0.10 (from file:///home/conda/feedstock_root/build_artifacts/jupyterlab_widgets_1707421892171/work)\u001b[0m\n",
      " \u001b[32m+\u001b[39m \u001b[1mjupyterlab-widgets\u001b[0m\u001b[2m==3.0.11\u001b[0m\n",
      " \u001b[31m-\u001b[39m \u001b[1mmatplotlib-inline\u001b[0m\u001b[2m==0.1.6 (from file:///home/conda/feedstock_root/build_artifacts/matplotlib-inline_1660814786464/work)\u001b[0m\n",
      " \u001b[32m+\u001b[39m \u001b[1mmatplotlib-inline\u001b[0m\u001b[2m==0.1.7\u001b[0m\n",
      " \u001b[31m-\u001b[39m \u001b[1mparso\u001b[0m\u001b[2m==0.8.3 (from file:///home/conda/feedstock_root/build_artifacts/parso_1638334955874/work)\u001b[0m\n",
      " \u001b[32m+\u001b[39m \u001b[1mparso\u001b[0m\u001b[2m==0.8.4\u001b[0m\n",
      " \u001b[31m-\u001b[39m \u001b[1mprompt-toolkit\u001b[0m\u001b[2m==3.0.42 (from file:///home/conda/feedstock_root/build_artifacts/prompt-toolkit_1702399386289/work)\u001b[0m\n",
      " \u001b[32m+\u001b[39m \u001b[1mprompt-toolkit\u001b[0m\u001b[2m==3.0.47\u001b[0m\n",
      " \u001b[31m-\u001b[39m \u001b[1mpure-eval\u001b[0m\u001b[2m==0.2.2 (from file:///home/conda/feedstock_root/build_artifacts/pure_eval_1642875951954/work)\u001b[0m\n",
      " \u001b[32m+\u001b[39m \u001b[1mpure-eval\u001b[0m\u001b[2m==0.2.3\u001b[0m\n",
      " \u001b[31m-\u001b[39m \u001b[1mpygments\u001b[0m\u001b[2m==2.17.2 (from file:///home/conda/feedstock_root/build_artifacts/pygments_1700607939962/work)\u001b[0m\n",
      " \u001b[32m+\u001b[39m \u001b[1mpygments\u001b[0m\u001b[2m==2.18.0\u001b[0m\n",
      " \u001b[31m-\u001b[39m \u001b[1mstack-data\u001b[0m\u001b[2m==0.6.2 (from file:///home/conda/feedstock_root/build_artifacts/stack_data_1669632077133/work)\u001b[0m\n",
      " \u001b[32m+\u001b[39m \u001b[1mstack-data\u001b[0m\u001b[2m==0.6.3\u001b[0m\n",
      " \u001b[31m-\u001b[39m \u001b[1mtraitlets\u001b[0m\u001b[2m==5.14.2 (from file:///home/conda/feedstock_root/build_artifacts/traitlets_1710254411456/work)\u001b[0m\n",
      " \u001b[32m+\u001b[39m \u001b[1mtraitlets\u001b[0m\u001b[2m==5.14.3\u001b[0m\n",
      " \u001b[31m-\u001b[39m \u001b[1mtyping-extensions\u001b[0m\u001b[2m==4.10.0 (from file:///home/conda/feedstock_root/build_artifacts/typing_extensions_1708904622550/work)\u001b[0m\n",
      " \u001b[32m+\u001b[39m \u001b[1mtyping-extensions\u001b[0m\u001b[2m==4.12.2\u001b[0m\n",
      " \u001b[31m-\u001b[39m \u001b[1mwidgetsnbextension\u001b[0m\u001b[2m==4.0.10 (from file:///home/conda/feedstock_root/build_artifacts/widgetsnbextension_1707420319466/work)\u001b[0m\n",
      " \u001b[32m+\u001b[39m \u001b[1mwidgetsnbextension\u001b[0m\u001b[2m==4.0.11\u001b[0m\n",
      "\u001b[2K\u001b[2mResolved \u001b[1m65 packages\u001b[0m \u001b[2min 137ms\u001b[0m\u001b[0m                                        \u001b[0m\n",
      "\u001b[2K\u001b[2mPrepared \u001b[1m4 packages\u001b[0m \u001b[2min 18ms\u001b[0m\u001b[0m                                              \n",
      "\u001b[2mUninstalled \u001b[1m22 packages\u001b[0m \u001b[2min 397ms\u001b[0m\u001b[0m\n",
      "\u001b[2K\u001b[2mInstalled \u001b[1m25 packages\u001b[0m \u001b[2min 59ms\u001b[0m\u001b[0m                               \u001b[0m\n",
      " \u001b[31m-\u001b[39m \u001b[1mboto3\u001b[0m\u001b[2m==1.34.149\u001b[0m\n",
      " \u001b[32m+\u001b[39m \u001b[1mboto3\u001b[0m\u001b[2m==1.34.142\u001b[0m\n",
      " \u001b[31m-\u001b[39m \u001b[1mbotocore\u001b[0m\u001b[2m==1.34.149\u001b[0m\n",
      " \u001b[32m+\u001b[39m \u001b[1mbotocore\u001b[0m\u001b[2m==1.34.142\u001b[0m\n",
      " \u001b[31m-\u001b[39m \u001b[1mdocker\u001b[0m\u001b[2m==6.1.3\u001b[0m\n",
      " \u001b[32m+\u001b[39m \u001b[1mdocker\u001b[0m\u001b[2m==7.1.0\u001b[0m\n",
      " \u001b[31m-\u001b[39m \u001b[1mexceptiongroup\u001b[0m\u001b[2m==1.2.2\u001b[0m\n",
      " \u001b[32m+\u001b[39m \u001b[1mexceptiongroup\u001b[0m\u001b[2m==1.2.1\u001b[0m\n",
      " \u001b[31m-\u001b[39m \u001b[1midna\u001b[0m\u001b[2m==3.6 (from file:///home/conda/feedstock_root/build_artifacts/idna_1701026962277/work)\u001b[0m\n",
      " \u001b[32m+\u001b[39m \u001b[1midna\u001b[0m\u001b[2m==3.7\u001b[0m\n",
      " \u001b[31m-\u001b[39m \u001b[1mipython\u001b[0m\u001b[2m==8.26.0\u001b[0m\n",
      " \u001b[32m+\u001b[39m \u001b[1mipython\u001b[0m\u001b[2m==8.24.0\u001b[0m\n",
      " \u001b[31m-\u001b[39m \u001b[1mjsonschema\u001b[0m\u001b[2m==4.21.1 (from file:///home/conda/feedstock_root/build_artifacts/jsonschema-meta_1705707496704/work)\u001b[0m\n",
      " \u001b[32m+\u001b[39m \u001b[1mjsonschema\u001b[0m\u001b[2m==4.22.0\u001b[0m\n",
      " \u001b[32m+\u001b[39m \u001b[1mmarkdown-it-py\u001b[0m\u001b[2m==3.0.0\u001b[0m\n",
      " \u001b[32m+\u001b[39m \u001b[1mmdurl\u001b[0m\u001b[2m==0.1.2\u001b[0m\n",
      " \u001b[31m-\u001b[39m \u001b[1mpackaging\u001b[0m\u001b[2m==21.3\u001b[0m\n",
      " \u001b[32m+\u001b[39m \u001b[1mpackaging\u001b[0m\u001b[2m==24.0\u001b[0m\n",
      " \u001b[31m-\u001b[39m \u001b[1mpandas\u001b[0m\u001b[2m==1.5.3\u001b[0m\n",
      " \u001b[32m+\u001b[39m \u001b[1mpandas\u001b[0m\u001b[2m==2.2.2\u001b[0m\n",
      " \u001b[31m-\u001b[39m \u001b[1mplatformdirs\u001b[0m\u001b[2m==4.2.0 (from file:///home/conda/feedstock_root/build_artifacts/platformdirs_1706713388748/work)\u001b[0m\n",
      " \u001b[32m+\u001b[39m \u001b[1mplatformdirs\u001b[0m\u001b[2m==4.2.2\u001b[0m\n",
      " \u001b[31m-\u001b[39m \u001b[1mprompt-toolkit\u001b[0m\u001b[2m==3.0.47\u001b[0m\n",
      " \u001b[32m+\u001b[39m \u001b[1mprompt-toolkit\u001b[0m\u001b[2m==3.0.45\u001b[0m\n",
      " \u001b[31m-\u001b[39m \u001b[1mpure-eval\u001b[0m\u001b[2m==0.2.3\u001b[0m\n",
      " \u001b[32m+\u001b[39m \u001b[1mpure-eval\u001b[0m\u001b[2m==0.2.2\u001b[0m\n",
      " \u001b[31m-\u001b[39m \u001b[1mpython-dateutil\u001b[0m\u001b[2m==2.9.0 (from file:///home/conda/feedstock_root/build_artifacts/python-dateutil_1709299778482/work)\u001b[0m\n",
      " \u001b[32m+\u001b[39m \u001b[1mpython-dateutil\u001b[0m\u001b[2m==2.9.0.post0\u001b[0m\n",
      " \u001b[31m-\u001b[39m \u001b[1mreferencing\u001b[0m\u001b[2m==0.34.0 (from file:///home/conda/feedstock_root/build_artifacts/referencing_1710763696991/work)\u001b[0m\n",
      " \u001b[32m+\u001b[39m \u001b[1mreferencing\u001b[0m\u001b[2m==0.35.1\u001b[0m\n",
      " \u001b[31m-\u001b[39m \u001b[1mrequests\u001b[0m\u001b[2m==2.31.0 (from file:///home/conda/feedstock_root/build_artifacts/requests_1684774241324/work)\u001b[0m\n",
      " \u001b[32m+\u001b[39m \u001b[1mrequests\u001b[0m\u001b[2m==2.32.2\u001b[0m\n",
      " \u001b[32m+\u001b[39m \u001b[1mrich\u001b[0m\u001b[2m==13.7.1\u001b[0m\n",
      " \u001b[31m-\u001b[39m \u001b[1mrpds-py\u001b[0m\u001b[2m==0.18.0 (from file:///home/conda/feedstock_root/build_artifacts/rpds-py_1707922703488/work)\u001b[0m\n",
      " \u001b[32m+\u001b[39m \u001b[1mrpds-py\u001b[0m\u001b[2m==0.18.1\u001b[0m\n",
      " \u001b[31m-\u001b[39m \u001b[1msagemaker\u001b[0m\u001b[2m==2.226.1\u001b[0m\n",
      " \u001b[32m+\u001b[39m \u001b[1msagemaker\u001b[0m\u001b[2m==2.225.0\u001b[0m\n",
      " \u001b[31m-\u001b[39m \u001b[1mschema\u001b[0m\u001b[2m==0.7.5\u001b[0m\n",
      " \u001b[32m+\u001b[39m \u001b[1mschema\u001b[0m\u001b[2m==0.7.7\u001b[0m\n",
      " \u001b[31m-\u001b[39m \u001b[1mtqdm\u001b[0m\u001b[2m==4.66.2 (from file:///home/conda/feedstock_root/build_artifacts/tqdm_1707598593068/work)\u001b[0m\n",
      " \u001b[32m+\u001b[39m \u001b[1mtqdm\u001b[0m\u001b[2m==4.66.4\u001b[0m\n",
      " \u001b[31m-\u001b[39m \u001b[1mtyping-extensions\u001b[0m\u001b[2m==4.12.2\u001b[0m\n",
      " \u001b[32m+\u001b[39m \u001b[1mtyping-extensions\u001b[0m\u001b[2m==4.12.0\u001b[0m\n",
      " \u001b[31m-\u001b[39m \u001b[1muv\u001b[0m\u001b[2m==0.2.30\u001b[0m\n",
      " \u001b[32m+\u001b[39m \u001b[1muv\u001b[0m\u001b[2m==0.2.5\u001b[0m\n",
      " \u001b[31m-\u001b[39m \u001b[1mzipp\u001b[0m\u001b[2m==3.17.0 (from file:///home/conda/feedstock_root/build_artifacts/zipp_1695255097490/work)\u001b[0m\n",
      " \u001b[32m+\u001b[39m \u001b[1mzipp\u001b[0m\u001b[2m==3.19.0\u001b[0m\n"
     ]
    }
   ],
   "source": [
    "!pip install uv && uv pip install -U ipywidgets\n",
    "!uv pip install -r requirements.txt"
   ]
  },
  {
   "cell_type": "code",
   "execution_count": 3,
   "id": "b2abe082-5ce0-4a26-bae8-68f9bff4104c",
   "metadata": {
    "tags": []
   },
   "outputs": [
    {
     "data": {
      "text/html": [
       "<script>Jupyter.notebook.kernel.restart()</script>"
      ],
      "text/plain": [
       "<IPython.core.display.HTML object>"
      ]
     },
     "execution_count": 3,
     "metadata": {},
     "output_type": "execute_result"
    }
   ],
   "source": [
    "# restart kernel\n",
    "from IPython.core.display import HTML\n",
    "\n",
    "HTML(\"<script>Jupyter.notebook.kernel.restart()</script>\")"
   ]
  },
  {
   "cell_type": "code",
   "execution_count": 4,
   "id": "590ec770-d05e-474d-80da-d2f2bab63db2",
   "metadata": {
    "tags": []
   },
   "outputs": [],
   "source": [
    "# load rich extension\n",
    "%load_ext rich"
   ]
  },
  {
   "cell_type": "code",
   "execution_count": 5,
   "id": "3a97edd4-8bba-4806-bce5-c559e23da05d",
   "metadata": {
    "tags": []
   },
   "outputs": [
    {
     "name": "stdout",
     "output_type": "stream",
     "text": [
      "sagemaker.config INFO - Not applying SDK defaults from location: /etc/xdg/sagemaker/config.yaml\n",
      "sagemaker.config INFO - Not applying SDK defaults from location: /home/ec2-user/.config/sagemaker/config.yaml\n"
     ]
    }
   ],
   "source": [
    "import glob\n",
    "import json\n",
    "import os\n",
    "import subprocess\n",
    "import time\n",
    "from concurrent.futures import ThreadPoolExecutor, as_completed\n",
    "from datetime import datetime\n",
    "from getpass import getpass\n",
    "from pathlib import Path\n",
    "from statistics import mean\n",
    "from uuid import uuid4\n",
    "\n",
    "import boto3\n",
    "import botocore\n",
    "import sagemaker\n",
    "from rich import box, print\n",
    "from rich.console import Console\n",
    "from rich.progress import Progress, SpinnerColumn, TimeElapsedColumn\n",
    "from rich.table import Table\n",
    "from sagemaker.deserializers import JSONDeserializer\n",
    "from sagemaker.huggingface import HuggingFaceModel, get_huggingface_llm_image_uri\n",
    "from sagemaker.predictor import Predictor\n",
    "from sagemaker.serializers import JSONSerializer\n",
    "\n",
    "from utils.autoscaling import (\n",
    "    monitor_scaling_events,\n",
    "    print_scaling_times,\n",
    "    test_concurrency_level,\n",
    ")\n",
    "\n",
    "from utils.llmperf import (\n",
    "    print_llmperf_results,\n",
    "    trigger_auto_scaling,\n",
    "    monitor_process,\n",
    ")"
   ]
  },
  {
   "cell_type": "markdown",
   "id": "9c02d12b-2109-4f01-8da8-8972ba493398",
   "metadata": {},
   "source": [
    "## Initiate sagemaker session"
   ]
  },
  {
   "cell_type": "code",
   "execution_count": 6,
   "id": "e11d1c2d-787e-4792-a276-897a9cd183cf",
   "metadata": {
    "tags": []
   },
   "outputs": [
    {
     "data": {
      "text/html": [
       "<pre style=\"white-space:pre;overflow-x:auto;line-height:normal;font-family:Menlo,'DejaVu Sans Mono',consolas,'Courier New',monospace\">TGI DLC: \n",
       "<span style=\"color: #008000; text-decoration-color: #008000; font-weight: bold; font-style: italic\">763104351884.dkr.ecr.us-east-1.amazonaws.com/huggingface-pytorch-tgi-inference:2.1.1-tgi2.0.0-gpu-py310-cu121-ubunt</span>\n",
       "<span style=\"color: #008000; text-decoration-color: #008000; font-weight: bold; font-style: italic\">u22.04</span>\n",
       "</pre>\n"
      ],
      "text/plain": [
       "TGI DLC: \n",
       "\u001b[1;3;32m763104351884.\u001b[0m\u001b[1;3;32mdkr.ecr.us-east-\u001b[0m\u001b[1;3;32m1.\u001b[0m\u001b[1;3;32mamazonaws.com/huggingface-pytorch-tgi-inferen\u001b[0m\u001b[1;3;32mce:2\u001b[0m\u001b[1;3;32m.\u001b[0m\u001b[1;3;32m1.1\u001b[0m\u001b[1;3;32m-tgi2.\u001b[0m\u001b[1;3;32m0.0\u001b[0m\u001b[1;3;32m-gpu-py310-cu121-ubunt\u001b[0m\n",
       "\u001b[1;3;32mu22.\u001b[0m\u001b[1;3;32m04\u001b[0m\n"
      ]
     },
     "metadata": {},
     "output_type": "display_data"
    },
    {
     "data": {
      "text/html": [
       "<pre style=\"white-space:pre;overflow-x:auto;line-height:normal;font-family:Menlo,'DejaVu Sans Mono',consolas,'Courier New',monospace\">Region: <span style=\"color: #000080; text-decoration-color: #000080; font-weight: bold\">us-east-</span><span style=\"color: #000080; text-decoration-color: #000080; font-weight: bold\">1</span>\n",
       "</pre>\n"
      ],
      "text/plain": [
       "Region: \u001b[1;34mus-east-\u001b[0m\u001b[1;34m1\u001b[0m\n"
      ]
     },
     "metadata": {},
     "output_type": "display_data"
    },
    {
     "data": {
      "text/html": [
       "<pre style=\"white-space:pre;overflow-x:auto;line-height:normal;font-family:Menlo,'DejaVu Sans Mono',consolas,'Courier New',monospace\">Role: <span style=\"color: #800000; text-decoration-color: #800000; font-weight: bold\">arn:aws:iam::</span><span style=\"color: #800000; text-decoration-color: #800000; font-weight: bold\">057716757052</span><span style=\"color: #800000; text-decoration-color: #800000; font-weight: bold\">:role/gen_ai_gsmoon</span>\n",
       "</pre>\n"
      ],
      "text/plain": [
       "Role: \u001b[1;31marn:aws:iam::\u001b[0m\u001b[1;31m057716757052\u001b[0m\u001b[1;31m:role/gen_ai_gsmoon\u001b[0m\n"
      ]
     },
     "metadata": {},
     "output_type": "display_data"
    }
   ],
   "source": [
    "sess = sagemaker.Session()\n",
    "role = sagemaker.get_execution_role()\n",
    "region = sess.boto_region_name\n",
    "\n",
    "boto_session = boto3.Session(region_name=region)\n",
    "\n",
    "sagemaker_client = sess.sagemaker_client\n",
    "sagemaker_runtime_client = sess.sagemaker_runtime_client\n",
    "cloudwatch_client = boto3.client(\"cloudwatch\", region_name=region)\n",
    "\n",
    "hf_model_id = \"meta-llama/Meta-Llama-3-8B-Instruct\"\n",
    "\n",
    "# retrieve the llm image uri\n",
    "# tgi_dlc = f\"763104351884.dkr.ecr.{region}.amazonaws.com/huggingface-pytorch-tgi-inference:2.1-tgi2.0-gpu-py310-cu121-ubuntu22.04\"\n",
    "tgi_dlc = get_huggingface_llm_image_uri(\"huggingface\", version=\"2.0.0\")\n",
    "\n",
    "print(f\"TGI DLC: \\n[b i green]{tgi_dlc}\")\n",
    "print(f\"Region: [b blue]{region}\")\n",
    "print(f\"Role: [b red]{role}\")"
   ]
  },
  {
   "cell_type": "markdown",
   "id": "043f7d75-de75-4687-a2e2-ab4aa7168ef6",
   "metadata": {},
   "source": [
    "## Deploy model\n",
    "\n",
    "Create and deploy model using Amazon SageMaker HuggingFace TGI DLC\n",
    "\n",
    "<https://sagemaker.readthedocs.io/en/stable/api/inference/model.html#sagemaker.model.Model.deploy>\n",
    "\n",
    "<div class=\"alert alert-block alert-warning\">\n",
    "<b>NOTE:</b> Remember to copy your Hugging Face Access Token from <a href=\"https://hf.co/\">https://hf.co/</a> before running the below cell.<br/><br/>\n",
    "Refer <a href=\"https://huggingface.co/docs/hub/security-tokens\">here</a> to learn about creating HF tokens.\n",
    "</div>"
   ]
  },
  {
   "cell_type": "code",
   "execution_count": 7,
   "id": "8b89da4d-9ce7-4e5b-a02a-3f2c690cd26d",
   "metadata": {
    "tags": []
   },
   "outputs": [
    {
     "name": "stdin",
     "output_type": "stream",
     "text": [
      "Enter HUGGINGFACE Access Token:  ········\n"
     ]
    },
    {
     "data": {
      "text/html": [
       "<pre style=\"white-space:pre;overflow-x:auto;line-height:normal;font-family:Menlo,'DejaVu Sans Mono',consolas,'Courier New',monospace\">Creating model: <span style=\"color: #008000; text-decoration-color: #008000; font-weight: bold\">Llama3-8B-fas-ed594-28Jul2024...</span>\n",
       "</pre>\n"
      ],
      "text/plain": [
       "Creating model: \u001b[1;32mLlama3-8B-fas-ed594-28Jul2024\u001b[0m\u001b[1;32m...\u001b[0m\n"
      ]
     },
     "metadata": {},
     "output_type": "display_data"
    },
    {
     "data": {
      "text/html": [
       "<pre style=\"white-space:pre;overflow-x:auto;line-height:normal;font-family:Menlo,'DejaVu Sans Mono',consolas,'Courier New',monospace\">Deploying model to endpoint: <span style=\"color: #800080; text-decoration-color: #800080; font-weight: bold\">Llama3-8B-fas-ed594-28Jul2024...</span>\n",
       "</pre>\n"
      ],
      "text/plain": [
       "Deploying model to endpoint: \u001b[1;35mLlama3-8B-fas-ed594-28Jul2024\u001b[0m\u001b[1;35m...\u001b[0m\n"
      ]
     },
     "metadata": {},
     "output_type": "display_data"
    },
    {
     "name": "stdout",
     "output_type": "stream",
     "text": [
      "-------------!"
     ]
    }
   ],
   "source": [
    "# sagemaker config\n",
    "instance_type = \"ml.g5.2xlarge\"\n",
    "suffix = f\"{str(uuid4())[:5]}-{datetime.now().strftime('%d%b%Y')}\"\n",
    "model_name = f\"Llama3-8B-fas-{suffix}\"\n",
    "endpoint_name = model_name\n",
    "health_check_timeout = 900\n",
    "\n",
    "HF_TOKEN = os.getenv(\"HUGGING_FACE_HUB_TOKEN\") or getpass(\"Enter HUGGINGFACE Access Token: \")\n",
    "# Define Model and Endpoint configuration parameter\n",
    "config = {\n",
    "    \"HF_MODEL_ID\": \"meta-llama/Meta-Llama-3-8B-Instruct\",  # model_id from hf.co/models\n",
    "    \"SM_NUM_GPUS\": \"1\",  # Number of GPU used per replica\n",
    "    \"MAX_INPUT_LENGTH\": \"2048\",  # Max length of input text\n",
    "    \"MAX_TOTAL_TOKENS\": \"4096\",  # Max length of the generation (including input text)\n",
    "    \"MAX_BATCH_TOTAL_TOKENS\": \"8192\",  # Limits the number of tokens that can be processed in parallel during the generation\n",
    "    \"MESSAGES_API_ENABLED\": \"true\",  # Enable the messages API\n",
    "    \"HUGGING_FACE_HUB_TOKEN\": HF_TOKEN,\n",
    "}\n",
    "\n",
    "# create HuggingFaceModel with the image uri\n",
    "print(f\"Creating model: [b green]{model_name}...\")\n",
    "llm_model = HuggingFaceModel(name=model_name, role=role, image_uri=tgi_dlc, env=config)\n",
    "\n",
    "# Deploy model to Amazon SageMaker endpoint\n",
    "print(f\"Deploying model to endpoint: [b magenta]{endpoint_name}...\")\n",
    "predictor = llm_model.deploy(\n",
    "    endpoint_name=endpoint_name,\n",
    "    initial_instance_count=1,\n",
    "    instance_type=instance_type,\n",
    "    container_startup_health_check_timeout=health_check_timeout,  # 15 minutes to be able to load the model\n",
    ")"
   ]
  },
  {
   "cell_type": "markdown",
   "id": "83e1af5c-e713-4cf8-bc23-1c96f1e61327",
   "metadata": {},
   "source": [
    "## Inference\n",
    "\n",
    "Invoke and test endpoint using messages API. Refer to HF [Messages API](https://huggingface.co/docs/text-generation-inference/messages_api) for more info."
   ]
  },
  {
   "cell_type": "code",
   "execution_count": 8,
   "id": "b6d9ecc2-fffe-4ff1-b78b-1222fe6d32de",
   "metadata": {
    "tags": []
   },
   "outputs": [
    {
     "data": {
      "text/html": [
       "<pre style=\"white-space:pre;overflow-x:auto;line-height:normal;font-family:Menlo,'DejaVu Sans Mono',consolas,'Courier New',monospace\">Deep learning is a subset of machine learning that involves the use of artificial neural networks to model and \n",
       "analyze complex data. These neural networks are composed of multiple layers of interconnected nodes or <span style=\"color: #008000; text-decoration-color: #008000\">\"neurons,\"</span> \n",
       "which process and transform the input data in a hierarchical manner.\n",
       "\n",
       "In traditional machine learning, algorithms are designed to learn from data by identifying patterns and \n",
       "relationships between features. In contrast, deep learning algorithms are designed to learn from data by \n",
       "identifying hierarchical patterns and relationships between features. This is achieved by training the neural \n",
       "network on a large dataset, allowing it to learn the underlying structure and patterns in the data.\n",
       "\n",
       "Deep learning has been incredibly successful in a wide range of applications, including:\n",
       "\n",
       "<span style=\"color: #008080; text-decoration-color: #008080; font-weight: bold\">1</span>. Computer Vision: Deep learning has revolutionized the field of computer vision, enabling machines to recognize \n",
       "and classify objects, scenes, and activities with high accuracy.\n",
       "<span style=\"color: #008080; text-decoration-color: #008080; font-weight: bold\">2</span>. Natural Language Processing: Deep learning has enabled machines to understand and generate human language, \n",
       "including speech recognition, language translation, and text summarization.\n",
       "<span style=\"color: #008080; text-decoration-color: #008080; font-weight: bold\">3</span>. Speech Recognition: Deep learning has improved speech recognition accuracy, enabling machines to recognize \n",
       "spoken words and phrases with high accuracy.\n",
       "<span style=\"color: #008080; text-decoration-color: #008080; font-weight: bold\">4</span>. Robotics: Deep learning has enabled robots to learn and adapt to new tasks and environments, improving their \n",
       "ability to interact with humans and other objects.\n",
       "<span style=\"color: #008080; text-decoration-color: #008080; font-weight: bold\">5</span>. Healthcare: Deep learning has been used to analyze medical images, predict patient outcomes, and develop \n",
       "personalized treatment plans.\n",
       "\n",
       "Some of the key characteristics of deep learning include:\n",
       "\n",
       "<span style=\"color: #008080; text-decoration-color: #008080; font-weight: bold\">1</span>. Hierarchical representations: Deep learning models learn to represent data in a hierarchical manner, with early \n",
       "layers learning low-level features and later layers learning high-level abstractions.\n",
       "<span style=\"color: #008080; text-decoration-color: #008080; font-weight: bold\">2</span>. Non-linear transformations: Deep learning models learn to perform non-linear transformations on the input data, \n",
       "allowing them to capture complex patterns and relationships.\n",
       "<span style=\"color: #008080; text-decoration-color: #008080; font-weight: bold\">3</span>. Large datasets: Deep learning models require large datasets to learn from, as they need to be trained on a large\n",
       "number of examples to learn the underlying patterns and relationships.\n",
       "<span style=\"color: #008080; text-decoration-color: #008080; font-weight: bold\">4</span>. Computational power: Deep learning models require significant computational power to train, as they involve \n",
       "complex mathematical operations and large amounts of data.\n",
       "\n",
       "Some of the popular deep learning frameworks and libraries include:\n",
       "\n",
       "<span style=\"color: #008080; text-decoration-color: #008080; font-weight: bold\">1</span>. TensorFlow\n",
       "<span style=\"color: #008080; text-decoration-color: #008080; font-weight: bold\">2</span>. PyTorch\n",
       "<span style=\"color: #008080; text-decoration-color: #008080; font-weight: bold\">3</span>. Keras\n",
       "<span style=\"color: #008080; text-decoration-color: #008080; font-weight: bold\">4</span>. Caffe\n",
       "<span style=\"color: #008080; text-decoration-color: #008080; font-weight: bold\">5</span>. OpenCV\n",
       "\n",
       "I hope this helps! Let me know if you have any further questions.\n",
       "</pre>\n"
      ],
      "text/plain": [
       "Deep learning is a subset of machine learning that involves the use of artificial neural networks to model and \n",
       "analyze complex data. These neural networks are composed of multiple layers of interconnected nodes or \u001b[32m\"neurons,\"\u001b[0m \n",
       "which process and transform the input data in a hierarchical manner.\n",
       "\n",
       "In traditional machine learning, algorithms are designed to learn from data by identifying patterns and \n",
       "relationships between features. In contrast, deep learning algorithms are designed to learn from data by \n",
       "identifying hierarchical patterns and relationships between features. This is achieved by training the neural \n",
       "network on a large dataset, allowing it to learn the underlying structure and patterns in the data.\n",
       "\n",
       "Deep learning has been incredibly successful in a wide range of applications, including:\n",
       "\n",
       "\u001b[1;36m1\u001b[0m. Computer Vision: Deep learning has revolutionized the field of computer vision, enabling machines to recognize \n",
       "and classify objects, scenes, and activities with high accuracy.\n",
       "\u001b[1;36m2\u001b[0m. Natural Language Processing: Deep learning has enabled machines to understand and generate human language, \n",
       "including speech recognition, language translation, and text summarization.\n",
       "\u001b[1;36m3\u001b[0m. Speech Recognition: Deep learning has improved speech recognition accuracy, enabling machines to recognize \n",
       "spoken words and phrases with high accuracy.\n",
       "\u001b[1;36m4\u001b[0m. Robotics: Deep learning has enabled robots to learn and adapt to new tasks and environments, improving their \n",
       "ability to interact with humans and other objects.\n",
       "\u001b[1;36m5\u001b[0m. Healthcare: Deep learning has been used to analyze medical images, predict patient outcomes, and develop \n",
       "personalized treatment plans.\n",
       "\n",
       "Some of the key characteristics of deep learning include:\n",
       "\n",
       "\u001b[1;36m1\u001b[0m. Hierarchical representations: Deep learning models learn to represent data in a hierarchical manner, with early \n",
       "layers learning low-level features and later layers learning high-level abstractions.\n",
       "\u001b[1;36m2\u001b[0m. Non-linear transformations: Deep learning models learn to perform non-linear transformations on the input data, \n",
       "allowing them to capture complex patterns and relationships.\n",
       "\u001b[1;36m3\u001b[0m. Large datasets: Deep learning models require large datasets to learn from, as they need to be trained on a large\n",
       "number of examples to learn the underlying patterns and relationships.\n",
       "\u001b[1;36m4\u001b[0m. Computational power: Deep learning models require significant computational power to train, as they involve \n",
       "complex mathematical operations and large amounts of data.\n",
       "\n",
       "Some of the popular deep learning frameworks and libraries include:\n",
       "\n",
       "\u001b[1;36m1\u001b[0m. TensorFlow\n",
       "\u001b[1;36m2\u001b[0m. PyTorch\n",
       "\u001b[1;36m3\u001b[0m. Keras\n",
       "\u001b[1;36m4\u001b[0m. Caffe\n",
       "\u001b[1;36m5\u001b[0m. OpenCV\n",
       "\n",
       "I hope this helps! Let me know if you have any further questions.\n"
      ]
     },
     "metadata": {},
     "output_type": "display_data"
    }
   ],
   "source": [
    "# Prepare prompt in messages API format\n",
    "messages = [\n",
    "    {\"role\": \"system\", \"content\": \"You are a helpful assistant.\"},\n",
    "    {\"role\": \"user\", \"content\": \"What is deep learning?\"},\n",
    "]\n",
    "\n",
    "# Generation arguments\n",
    "parameters = {\n",
    "    \"model\": hf_model_id,  # model id is required\n",
    "    \"top_p\": 0.6,\n",
    "    \"temperature\": 0.9,\n",
    "    \"max_tokens\": 512,\n",
    "    \"stop\": [\"<|eot_id|>\"],\n",
    "}\n",
    "\n",
    "chat = predictor.predict({\"messages\": messages, **parameters})\n",
    "\n",
    "# Unpack and print response\n",
    "print(chat[\"choices\"][0][\"message\"][\"content\"].strip())"
   ]
  },
  {
   "cell_type": "markdown",
   "id": "3cdb619d-b402-46bf-9451-62f50f70e878",
   "metadata": {},
   "source": [
    "## Baseline average latency at various concurrency levels (Optional)\n",
    "\n",
    "By capturing average latency across various concurrency levels, we can get a fair idea on after how many concurrent request does endpoint performance would degrade significantly.\n",
    "\n",
    "Having this information can help define values for scaling policy accordingly.\n",
    "\n",
    "<div class=\"alert alert-block alert-info\">\n",
    "<b>Running below cell is optional</b><br/><br/>\n",
    "<b>INFO: ℹ️</b> Signal here is, at a given concurrency level you start to see average latency increase significantly.<br/>\n",
    "At this concurrency level the endpoint gets overloaded and cannot serve requests in a timely fashion.<br/>\n",
    "We use these values to set as threshold values for autoscaling.\n",
    "<br/><br/>\n",
    "<b>NOTE: ⚠️</b> As concurrent requests to the endpoint increase you might observe <b>ThrottlingException</b> errors as we haven't incorporated exponential backoff and retry mechanisms.\n",
    "</div>"
   ]
  },
  {
   "cell_type": "code",
   "execution_count": 9,
   "id": "c7232ecd-bc78-4d0d-bf44-17c3e060cd99",
   "metadata": {
    "tags": []
   },
   "outputs": [
    {
     "data": {
      "text/html": [
       "<pre style=\"white-space:pre;overflow-x:auto;line-height:normal;font-family:Menlo,'DejaVu Sans Mono',consolas,'Courier New',monospace\"><span style=\"font-weight: bold\">Concurrency:</span> <span style=\"color: #008080; text-decoration-color: #008080; font-weight: bold\">10</span> requests, <span style=\"font-weight: bold\">Average latency:</span> <span style=\"color: #008080; text-decoration-color: #008080; font-weight: bold\">12.99</span> seconds\n",
       "</pre>\n"
      ],
      "text/plain": [
       "\u001b[1mConcurrency:\u001b[0m \u001b[1;36m10\u001b[0m requests, \u001b[1mAverage latency:\u001b[0m \u001b[1;36m12.99\u001b[0m seconds\n"
      ]
     },
     "metadata": {},
     "output_type": "display_data"
    },
    {
     "data": {
      "text/html": [
       "<pre style=\"white-space:pre;overflow-x:auto;line-height:normal;font-family:Menlo,'DejaVu Sans Mono',consolas,'Courier New',monospace\"><span style=\"font-weight: bold\">Concurrency:</span> <span style=\"color: #008080; text-decoration-color: #008080; font-weight: bold\">50</span> requests, <span style=\"font-weight: bold\">Average latency:</span> <span style=\"color: #008080; text-decoration-color: #008080; font-weight: bold\">18.89</span> seconds\n",
       "</pre>\n"
      ],
      "text/plain": [
       "\u001b[1mConcurrency:\u001b[0m \u001b[1;36m50\u001b[0m requests, \u001b[1mAverage latency:\u001b[0m \u001b[1;36m18.89\u001b[0m seconds\n"
      ]
     },
     "metadata": {},
     "output_type": "display_data"
    },
    {
     "data": {
      "text/html": [
       "<pre style=\"white-space:pre;overflow-x:auto;line-height:normal;font-family:Menlo,'DejaVu Sans Mono',consolas,'Courier New',monospace\"><span style=\"font-weight: bold\">Concurrency:</span> <span style=\"color: #008080; text-decoration-color: #008080; font-weight: bold\">75</span> requests, <span style=\"font-weight: bold\">Average latency:</span> <span style=\"color: #008080; text-decoration-color: #008080; font-weight: bold\">22.91</span> seconds\n",
       "</pre>\n"
      ],
      "text/plain": [
       "\u001b[1mConcurrency:\u001b[0m \u001b[1;36m75\u001b[0m requests, \u001b[1mAverage latency:\u001b[0m \u001b[1;36m22.91\u001b[0m seconds\n"
      ]
     },
     "metadata": {},
     "output_type": "display_data"
    },
    {
     "data": {
      "text/html": [
       "<pre style=\"white-space:pre;overflow-x:auto;line-height:normal;font-family:Menlo,'DejaVu Sans Mono',consolas,'Courier New',monospace\"><span style=\"font-weight: bold\">Concurrency:</span> <span style=\"color: #008080; text-decoration-color: #008080; font-weight: bold\">100</span> requests, <span style=\"font-weight: bold\">Average latency:</span> <span style=\"color: #008080; text-decoration-color: #008080; font-weight: bold\">28.07</span> seconds\n",
       "</pre>\n"
      ],
      "text/plain": [
       "\u001b[1mConcurrency:\u001b[0m \u001b[1;36m100\u001b[0m requests, \u001b[1mAverage latency:\u001b[0m \u001b[1;36m28.07\u001b[0m seconds\n"
      ]
     },
     "metadata": {},
     "output_type": "display_data"
    }
   ],
   "source": [
    "# Define list of prompts\n",
    "prompts = [\n",
    "    \"what is deep learning?\",\n",
    "    \"what are various inference modes in Amazon SageMaker?\",\n",
    "    \"Can I host Large language models on Amazon SageMaker?\",\n",
    "    \"Does Amazon SageMaker support TensorRT-LLM?\",\n",
    "    \"what is step scaling policy in the context of autoscaling ec2 instances on AWS?\",\n",
    "    \"Why is the sky blue?\",\n",
    "    \"List 5 benefits of incorporating limes into the diet.\",\n",
    "]\n",
    "\n",
    "# Test different concurrency levels and measure average latency\n",
    "concurrency_levels = [10, 50, 75, 100]  # Adjust these values as needed\n",
    "\n",
    "for concurrency_level in concurrency_levels:\n",
    "    try:\n",
    "        avg_latency = test_concurrency_level(\n",
    "            concurrency_level,\n",
    "            prompts,\n",
    "            messages,\n",
    "            parameters,\n",
    "            endpoint_name,\n",
    "            sagemaker_runtime_client,\n",
    "        )\n",
    "        print(\n",
    "            f\"[b]Concurrency:[/b] {concurrency_level} requests,\"\n",
    "            f\" [b]Average latency:[/b] {avg_latency:.2f} seconds\"\n",
    "        )\n",
    "    except Exception as e:\n",
    "        print(f\"[b]At Concurrency[/b] {concurrency_level} requests,\" f\"[b]Exception:[/b] \\n{e}\")\n",
    "        continue"
   ]
  },
  {
   "cell_type": "markdown",
   "id": "29f7a5ab-0264-4b12-8243-b4aa649335b7",
   "metadata": {},
   "source": [
    "---\n",
    "\n",
    "## Apply Autoscaling policies to the endpoint\n",
    "\n",
    "Apply Application Autoscaling Policy to endpoint\n",
    "\n",
    "1. Register Scalable Target"
   ]
  },
  {
   "cell_type": "code",
   "execution_count": 10,
   "id": "1bbf762f-beec-42ed-9ff8-5b06f76269ab",
   "metadata": {
    "tags": []
   },
   "outputs": [
    {
     "data": {
      "text/html": [
       "<pre style=\"white-space:pre;overflow-x:auto;line-height:normal;font-family:Menlo,'DejaVu Sans Mono',consolas,'Courier New',monospace\">Resource ID: <span style=\"color: #000080; text-decoration-color: #000080; font-weight: bold\">endpoint/Llama3-8B-fas-ed594-28Jul2024/variant/AllTraffic</span>\n",
       "</pre>\n"
      ],
      "text/plain": [
       "Resource ID: \u001b[1;34mendpoint/Llama3-8B-fas-ed594-28Jul2024/variant/AllTraffic\u001b[0m\n"
      ]
     },
     "metadata": {},
     "output_type": "display_data"
    },
    {
     "data": {
      "text/html": [
       "<pre style=\"white-space:pre;overflow-x:auto;line-height:normal;font-family:Menlo,'DejaVu Sans Mono',consolas,'Courier New',monospace\">Scalable_target_arn:\n",
       "<span style=\"color: #008000; text-decoration-color: #008000; font-weight: bold\">arn:aws:application-autoscaling:us-east-1:057716757052:scalable-target/056m05c090ea97e24453aa7f6ec654913dcb</span>\n",
       "</pre>\n"
      ],
      "text/plain": [
       "Scalable_target_arn:\n",
       "\u001b[1;32marn:aws:application-autoscaling:us-east-\u001b[0m\u001b[1;32m1:0577\u001b[0m\u001b[1;32m16757052:scalable-target/056m05c090ea97e24453aa7f6ec654913dcb\u001b[0m\n"
      ]
     },
     "metadata": {},
     "output_type": "display_data"
    }
   ],
   "source": [
    "variant_name = \"AllTraffic\"\n",
    "as_min_capacity = 1\n",
    "as_max_capacity = 2\n",
    "\n",
    "resource_id = f\"endpoint/{endpoint_name}/variant/{variant_name}\"\n",
    "\n",
    "autoscaling_client = boto3.client(\"application-autoscaling\", region_name=region)\n",
    "\n",
    "# Register scalable target\n",
    "scalable_target = autoscaling_client.register_scalable_target(\n",
    "    ServiceNamespace=\"sagemaker\",\n",
    "    ResourceId=resource_id,\n",
    "    ScalableDimension=\"sagemaker:variant:DesiredInstanceCount\",\n",
    "    MinCapacity=as_min_capacity,\n",
    "    MaxCapacity=as_max_capacity,  # Replace with your desired maximum instances\n",
    ")\n",
    "\n",
    "scalable_target_arn = scalable_target[\"ScalableTargetARN\"]\n",
    "print(f\"Resource ID: [b blue]{resource_id}\")\n",
    "print(f\"Scalable_target_arn:\\n[b green]{scalable_target_arn}\")"
   ]
  },
  {
   "cell_type": "markdown",
   "id": "0af2e234-d1c7-4575-b943-5291c70c326d",
   "metadata": {},
   "source": [
    "## Use the latest high-resolution Metrics to trigger auto-scaling\n",
    "\n",
    "- New feature introduces a new <span style='color:green'><b>PredefinedMetricType</b></span> for scaling policy configuration i.e. <span style='color:green'><b>SageMakerVariantConcurrentRequestsPerModelHighResolution</b></span> to trigger scaling actions.\n",
    "- Creating a scaling policy with this metric type will create cloudwatch alarms that track a new metric called <span style='color:green'><b>ConcurrentRequestsPerModel</b></span>.\n",
    "- These high-resolution metrics are published at sub-minute intervals (10s intervals to CW + any additional jitter + delays)\n",
    "- We should observe significant improvement in scale out times with this new metric\n",
    "\n",
    "\n",
    "### Steps to create Application autoscaling policy\n",
    "\n",
    "- Create scaling policy\n",
    "  - Set `PolicyType` to `TargetTrackingScaling`\n",
    "  - Set `TargetValue` to `5.0`. i.e., Scaling triggers when endpoint receives 5 `ConcurrentRequestsPerModel`\n",
    "  - Set `PredefinedMetricType` to `SageMakerVariantConcurrentRequestsPerModelHighResolution`\n",
    "  - Set `ScaleInCoolDown` and `ScaleOutCoolDown` values to `300` seconds"
   ]
  },
  {
   "cell_type": "code",
   "execution_count": 11,
   "id": "44cc8c60-37cd-4852-a03d-e08149ccad17",
   "metadata": {
    "tags": []
   },
   "outputs": [
    {
     "data": {
      "text/html": [
       "<pre style=\"white-space:pre;overflow-x:auto;line-height:normal;font-family:Menlo,'DejaVu Sans Mono',consolas,'Courier New',monospace\"><span style=\"font-weight: bold\">Policy ARN:</span> \n",
       "<span style=\"color: #000080; text-decoration-color: #000080; font-style: italic\">arn:aws:autoscaling:us-east-</span><span style=\"color: #000080; text-decoration-color: #000080; font-weight: bold; font-style: italic\">1:0577</span><span style=\"color: #000080; text-decoration-color: #000080; font-style: italic\">16757052:scalingPolicy:</span><span style=\"color: #000080; text-decoration-color: #000080; font-style: italic\">05c090ea-97e2-4453-aa7f-6ec654913dcb</span><span style=\"color: #000080; text-decoration-color: #000080; font-style: italic\">:resource/sagemaker/en</span>\n",
       "<span style=\"color: #000080; text-decoration-color: #000080; font-style: italic\">dpoint/Llama3-8B-fas-ed594-28Jul2024/variant/AllTraffic:policyName/SageMakerEndpointScalingPolicy</span>\n",
       "</pre>\n"
      ],
      "text/plain": [
       "\u001b[1mPolicy ARN:\u001b[0m \n",
       "\u001b[3;34marn:aws:autoscaling:us-east-\u001b[0m\u001b[1;3;34m1:0577\u001b[0m\u001b[3;34m16757052:scalingPolicy:\u001b[0m\u001b[3;34m05c090ea-97e2-4453-aa7f-6ec654913dcb\u001b[0m\u001b[3;34m:resource/sagemaker/en\u001b[0m\n",
       "\u001b[3;34mdpoint/Llama3-8B-fas-ed594-28Jul2024/variant/AllTraffic:policyName/SageMakerEndpointScalingPolicy\u001b[0m\n"
      ]
     },
     "metadata": {},
     "output_type": "display_data"
    },
    {
     "data": {
      "text/html": [
       "<pre style=\"white-space:pre;overflow-x:auto;line-height:normal;font-family:Menlo,'DejaVu Sans Mono',consolas,'Courier New',monospace\"><span style=\"font-weight: bold\">Alarm Name:</span> \n",
       "<span style=\"color: #800080; text-decoration-color: #800080; font-weight: bold\">TargetTracking-endpoint/Llama3-8B-fas-ed594-28Jul2024/variant/AllTraffic-AlarmHigh-db616fd5-f691-4f2e-a97c-3fc9dcba</span>\n",
       "<span style=\"color: #800080; text-decoration-color: #800080; font-weight: bold\">d4c1</span>\n",
       "</pre>\n"
      ],
      "text/plain": [
       "\u001b[1mAlarm Name:\u001b[0m \n",
       "\u001b[1;35mTargetTracking-endpoint/Llama3-8B-fas-ed594-28Jul2024/variant/AllTraffic-AlarmHigh-\u001b[0m\u001b[1;35mdb616fd5-f691-4f2e-a97c-3fc9dcba\u001b[0m\n",
       "\u001b[1;35md4c1\u001b[0m\n"
      ]
     },
     "metadata": {},
     "output_type": "display_data"
    },
    {
     "data": {
      "text/html": [
       "<pre style=\"white-space:pre;overflow-x:auto;line-height:normal;font-family:Menlo,'DejaVu Sans Mono',consolas,'Courier New',monospace\">=============================================\n",
       "</pre>\n"
      ],
      "text/plain": [
       "=============================================\n"
      ]
     },
     "metadata": {},
     "output_type": "display_data"
    },
    {
     "data": {
      "text/html": [
       "<pre style=\"white-space:pre;overflow-x:auto;line-height:normal;font-family:Menlo,'DejaVu Sans Mono',consolas,'Courier New',monospace\"><span style=\"font-weight: bold\">Alarm Name:</span> \n",
       "<span style=\"color: #800080; text-decoration-color: #800080; font-weight: bold\">TargetTracking-endpoint/Llama3-8B-fas-ed594-28Jul2024/variant/AllTraffic-AlarmLow-54caa634-1e27-4dca-b42b-831c694b7</span>\n",
       "<span style=\"color: #800080; text-decoration-color: #800080; font-weight: bold\">9e2</span>\n",
       "</pre>\n"
      ],
      "text/plain": [
       "\u001b[1mAlarm Name:\u001b[0m \n",
       "\u001b[1;35mTargetTracking-endpoint/Llama3-8B-fas-ed594-28Jul2024/variant/AllTraffic-AlarmLow-\u001b[0m\u001b[1;35m54caa634-1e27-4dca-b42b-831c694b7\u001b[0m\n",
       "\u001b[1;35m9e2\u001b[0m\n"
      ]
     },
     "metadata": {},
     "output_type": "display_data"
    },
    {
     "data": {
      "text/html": [
       "<pre style=\"white-space:pre;overflow-x:auto;line-height:normal;font-family:Menlo,'DejaVu Sans Mono',consolas,'Courier New',monospace\">=============================================\n",
       "</pre>\n"
      ],
      "text/plain": [
       "=============================================\n"
      ]
     },
     "metadata": {},
     "output_type": "display_data"
    }
   ],
   "source": [
    "# Create Target Tracking Scaling Policy\n",
    "target_tracking_policy_response = autoscaling_client.put_scaling_policy(\n",
    "    PolicyName=\"SageMakerEndpointScalingPolicy\",\n",
    "    ServiceNamespace=\"sagemaker\",\n",
    "    ResourceId=resource_id,\n",
    "    ScalableDimension=\"sagemaker:variant:DesiredInstanceCount\",\n",
    "    PolicyType=\"TargetTrackingScaling\",\n",
    "    TargetTrackingScalingPolicyConfiguration={\n",
    "        \"TargetValue\": 5.0,  # Scaling triggers when endpoint receives 5 ConcurrentRequestsPerModel\n",
    "        \"PredefinedMetricSpecification\": {\n",
    "            \"PredefinedMetricType\": \"SageMakerVariantConcurrentRequestsPerModelHighResolution\"\n",
    "        },\n",
    "        \"ScaleInCooldown\": 300,  # Cooldown period after scale-in activity\n",
    "        \"ScaleOutCooldown\": 300,  # Cooldown period after scale-out activity\n",
    "    },\n",
    ")\n",
    "\n",
    "# print(target_tracking_policy_response)\n",
    "print(f\"[b]Policy ARN:[/b] [i blue]{target_tracking_policy_response['PolicyARN']}\")\n",
    "\n",
    "# print Cloudwatch Alarms\n",
    "alarms = target_tracking_policy_response[\"Alarms\"]\n",
    "\n",
    "for alarm in alarms:\n",
    "    print(f\"[b]Alarm Name:[/b] [b magenta]{alarm['AlarmName']}\")\n",
    "    # print(f\"[b]Alarm ARN:[/b] [i green]{alarm['AlarmARN']}[/i green]\")\n",
    "    print(\"===\" * 15)"
   ]
  },
  {
   "cell_type": "markdown",
   "id": "d27a4cba-8aec-4b5c-b9ea-97d4ea82d9f0",
   "metadata": {},
   "source": [
    "## Trigger autoscaling action\n",
    "\n",
    "### LLMPerf to generate traffic to the endpoint\n",
    "\n",
    "Refer to <https://github.com/philschmid/llmperf> for more details on LLMPerf.\n",
    "\n",
    "Run the LLMPerf traffic generation script in the background using `subprocess.Popen`\n",
    "\n",
    "<div class=\"alert alert-block alert-info\">\n",
    "<b>INFO:ℹ️</b> Refer to <a href=\"utils/llmperf.py\"><b>utils/llmperf.py</b></a> for <span style='color:red'>trigger_autoscaling</span> function implementation\n",
    "</div>\n",
    "\n",
    "### Monitor Scale-Out Alarm Trigger times and scaling event times\n",
    "\n",
    "As llmperf generates traffic to the endpoint continuously this trigger auto-scaling.\n",
    "\n",
    "The `monitor_scaling_events` function does the following:\n",
    "- Calculates time taken for alarm to go into InAlarm state.\n",
    "- checks if alarm is InAlarm state. If yes, then starts the scaling timer\n",
    "- continuously monitors the `DesiredInstanceCount` property of the endpoint\n",
    "  - waits till `CurrentInstanceCount == DesiredInstanceCount` and `EndpointStatus` is `InService`\n",
    "- Calculates time taken to scale out instances prints the times in a table\n",
    "\n",
    "The below cell triggers auto scaling action and calls the monitor_scaling_events immediately on the AlarmHigh\n",
    "\n",
    "<div class=\"alert alert-block alert-info\">\n",
    "<b>INFO: ℹ️</b> Refer to <a href=\"utils/autoscaling.py\"><b>utils/autoscaling.py</b></a> for <span style='color:red'>monitor_scaling_events</span> function implementation\n",
    "</div>\n",
    "\n",
    "<div class=\"alert alert-block alert-info\">\n",
    "<b>NOTE: ⚠️</b>The <b>AlarmHigh</b> Alarm triggers scale out actions only after the threshold of <b>ConcurrentRequestsPerModel >5 </b> for 3 datapoints within <b>30 seconds</b> is breached.\n",
    "</div>"
   ]
  },
  {
   "cell_type": "code",
   "execution_count": 12,
   "id": "46d00ca1-f058-4dfb-9993-e231b58e413c",
   "metadata": {
    "tags": []
   },
   "outputs": [
    {
     "data": {
      "text/html": [
       "<pre style=\"white-space:pre;overflow-x:auto;line-height:normal;font-family:Menlo,'DejaVu Sans Mono',consolas,'Courier New',monospace\">Calling LLMPerf shell script: \n",
       "<span style=\"color: #800080; text-decoration-color: #800080\">/home/ec2-user/SageMaker/aws-ai-ml-workshop-kr/genai/aws-gen-ai-kr/30_fine_tune/03-fine-tune-llama3/notebook/02-nav</span>\n",
       "<span style=\"color: #800080; text-decoration-color: #800080\">er-news-llama3-inference/backup/01-Llama3-8B-Autoscaling/</span><span style=\"color: #ff00ff; text-decoration-color: #ff00ff\">trigger_autoscaling.sh</span>\n",
       "</pre>\n"
      ],
      "text/plain": [
       "Calling LLMPerf shell script: \n",
       "\u001b[35m/home/ec2-user/SageMaker/aws-ai-ml-workshop-kr/genai/aws-gen-ai-kr/30_fine_tune/03-fine-tune-llama3/notebook/02-nav\u001b[0m\n",
       "\u001b[35mer-news-llama3-inference/backup/01-Llama3-8B-Autoscaling/\u001b[0m\u001b[95mtrigger_autoscaling.sh\u001b[0m\n"
      ]
     },
     "metadata": {},
     "output_type": "display_data"
    },
    {
     "data": {
      "text/html": [
       "<pre style=\"white-space:pre;overflow-x:auto;line-height:normal;font-family:Menlo,'DejaVu Sans Mono',consolas,'Courier New',monospace\">Launching LLMPerf with <span style=\"color: #008080; text-decoration-color: #008080; font-weight: bold\">100</span> concurrent requests\n",
       "</pre>\n"
      ],
      "text/plain": [
       "Launching LLMPerf with \u001b[1;36m100\u001b[0m concurrent requests\n"
      ]
     },
     "metadata": {},
     "output_type": "display_data"
    },
    {
     "data": {
      "text/html": [
       "<pre style=\"white-space:pre;overflow-x:auto;line-height:normal;font-family:Menlo,'DejaVu Sans Mono',consolas,'Courier New',monospace\"><span style=\"color: #008000; text-decoration-color: #008000; font-weight: bold\">Process ID for LLMPerf: </span><span style=\"color: #008000; text-decoration-color: #008000; font-weight: bold\">19315</span>\n",
       "</pre>\n"
      ],
      "text/plain": [
       "\u001b[1;32mProcess ID for LLMPerf: \u001b[0m\u001b[1;32m19315\u001b[0m\n"
      ]
     },
     "metadata": {},
     "output_type": "display_data"
    },
    {
     "data": {
      "text/html": [
       "<pre style=\"white-space:pre;overflow-x:auto;line-height:normal;font-family:Menlo,'DejaVu Sans Mono',consolas,'Courier New',monospace\">Initial instance count: <span style=\"color: #008080; text-decoration-color: #008080; font-weight: bold\">1</span>\n",
       "</pre>\n"
      ],
      "text/plain": [
       "Initial instance count: \u001b[1;36m1\u001b[0m\n"
      ]
     },
     "metadata": {},
     "output_type": "display_data"
    },
    {
     "data": {
      "text/html": [
       "<pre style=\"white-space:pre;overflow-x:auto;line-height:normal;font-family:Menlo,'DejaVu Sans Mono',consolas,'Courier New',monospace\">Tracking Alarm: \n",
       "<span style=\"color: #008000; text-decoration-color: #008000; font-style: italic\">TargetTracking-endpoint/Llama3-8B-fas-ed594-28Jul2024/variant/AllTraffic-AlarmHigh-</span><span style=\"color: #008000; text-decoration-color: #008000; font-style: italic\">db616fd5-f691-4f2e-a97c-3fc9dcba</span>\n",
       "<span style=\"color: #008000; text-decoration-color: #008000; font-style: italic\">d4c1</span>\n",
       "</pre>\n"
      ],
      "text/plain": [
       "Tracking Alarm: \n",
       "\u001b[3;32mTargetTracking-endpoint/Llama3-8B-fas-ed594-28Jul2024/variant/AllTraffic-AlarmHigh-\u001b[0m\u001b[3;32mdb616fd5-f691-4f2e-a97c-3fc9dcba\u001b[0m\n",
       "\u001b[3;32md4c1\u001b[0m\n"
      ]
     },
     "metadata": {},
     "output_type": "display_data"
    },
    {
     "data": {
      "application/vnd.jupyter.widget-view+json": {
       "model_id": "2eab54fd811444ada46cb922dd21b2d9",
       "version_major": 2,
       "version_minor": 0
      },
      "text/plain": [
       "Output()"
      ]
     },
     "metadata": {},
     "output_type": "display_data"
    },
    {
     "data": {
      "text/html": [
       "<pre style=\"white-space:pre;overflow-x:auto;line-height:normal;font-family:Menlo,'DejaVu Sans Mono',consolas,'Courier New',monospace\"></pre>\n"
      ],
      "text/plain": []
     },
     "metadata": {},
     "output_type": "display_data"
    },
    {
     "data": {
      "text/html": [
       "<pre style=\"white-space:pre;overflow-x:auto;line-height:normal;font-family:Menlo,'DejaVu Sans Mono',consolas,'Courier New',monospace\">\n",
       "</pre>\n"
      ],
      "text/plain": [
       "\n"
      ]
     },
     "metadata": {},
     "output_type": "display_data"
    },
    {
     "data": {
      "text/html": [
       "<pre style=\"white-space:pre;overflow-x:auto;line-height:normal;font-family:Menlo,'DejaVu Sans Mono',consolas,'Courier New',monospace\"><span style=\"font-style: italic\">                  Scaling Times                   </span>\n",
       "┏━━━━━━━━━━━━━━━━━━━━━━━┳━━━━━━━━━━━━━━━━━━━━━━━━┓\n",
       "┃<span style=\"font-weight: bold\"> Target Instance Count </span>┃<span style=\"font-weight: bold\"> Scaling Time (seconds) </span>┃\n",
       "┡━━━━━━━━━━━━━━━━━━━━━━━╇━━━━━━━━━━━━━━━━━━━━━━━━┩\n",
       "│<span style=\"color: #008080; text-decoration-color: #008080\">                     2 </span>│<span style=\"color: #800080; text-decoration-color: #800080\">                 433.01 </span>│\n",
       "└───────────────────────┴────────────────────────┘\n",
       "</pre>\n"
      ],
      "text/plain": [
       "\u001b[3m                  Scaling Times                   \u001b[0m\n",
       "┏━━━━━━━━━━━━━━━━━━━━━━━┳━━━━━━━━━━━━━━━━━━━━━━━━┓\n",
       "┃\u001b[1m \u001b[0m\u001b[1mTarget Instance Count\u001b[0m\u001b[1m \u001b[0m┃\u001b[1m \u001b[0m\u001b[1mScaling Time (seconds)\u001b[0m\u001b[1m \u001b[0m┃\n",
       "┡━━━━━━━━━━━━━━━━━━━━━━━╇━━━━━━━━━━━━━━━━━━━━━━━━┩\n",
       "│\u001b[36m \u001b[0m\u001b[36m                    2\u001b[0m\u001b[36m \u001b[0m│\u001b[35m \u001b[0m\u001b[35m                433.01\u001b[0m\u001b[35m \u001b[0m│\n",
       "└───────────────────────┴────────────────────────┘\n"
      ]
     },
     "metadata": {},
     "output_type": "display_data"
    }
   ],
   "source": [
    "# Trigger LLMPerf script to generate traffic to endpoint\n",
    "num_concurrent_requests = 100\n",
    "# LLMperf requires session credentials be passed in via environment variables.\n",
    "# We'll use the current session to get these credentials.\n",
    "creds = boto_session.get_credentials()\n",
    "process = trigger_auto_scaling(creds, region, endpoint_name, num_concurrent_requests)\n",
    "print(f\"[b green]Process ID for LLMPerf: {process.pid}\")\n",
    "\n",
    "# get AlarmHigh alarm name\n",
    "scaleout_alarm_name = [alarm[\"AlarmName\"] for alarm in alarms if \"AlarmHigh\" in alarm[\"AlarmName\"]][\n",
    "    0\n",
    "]\n",
    "\n",
    "# Start monitoring scaling events\n",
    "SLEEP_TIME = 5  # time to sleep\n",
    "scaling_times = monitor_scaling_events(\n",
    "    endpoint_name, scaleout_alarm_name, SLEEP_TIME, cloudwatch_client, sagemaker_client\n",
    ")\n",
    "\n",
    "# Print scaling times\n",
    "console = Console()\n",
    "table = print_scaling_times(scaling_times)\n",
    "console.print(table)"
   ]
  },
  {
   "cell_type": "markdown",
   "id": "d8b43ce1-dde3-42aa-9cbe-0716b5f85496",
   "metadata": {},
   "source": [
    "### Monitor if the background process (llmperf) is completed."
   ]
  },
  {
   "cell_type": "code",
   "execution_count": 13,
   "id": "93abbbca-a3b4-49ee-9994-8ccfe7a13874",
   "metadata": {
    "tags": []
   },
   "outputs": [
    {
     "data": {
      "text/html": [
       "<pre style=\"white-space:pre;overflow-x:auto;line-height:normal;font-family:Menlo,'DejaVu Sans Mono',consolas,'Courier New',monospace\">Process <span style=\"color: #008080; text-decoration-color: #008080; font-weight: bold\">19315</span> finished with return code <span style=\"color: #008080; text-decoration-color: #008080; font-weight: bold\">0</span>\n",
       "</pre>\n"
      ],
      "text/plain": [
       "Process \u001b[1;36m19315\u001b[0m finished with return code \u001b[1;36m0\u001b[0m\n"
      ]
     },
     "metadata": {},
     "output_type": "display_data"
    },
    {
     "data": {
      "text/html": [
       "<pre style=\"white-space:pre;overflow-x:auto;line-height:normal;font-family:Menlo,'DejaVu Sans Mono',consolas,'Courier New',monospace\">Process output:\n",
       "Installing llmperf<span style=\"color: #808000; text-decoration-color: #808000\">...</span>\n",
       "results directory already exists.\n",
       "Starting benchmarking scripts on endpoint Llama3-8B-fas-ed594-28Jul2024 <span style=\"color: #808000; text-decoration-color: #808000\">...</span>\n",
       "\u001b<span style=\"font-weight: bold\">[</span><span style=\"color: #800080; text-decoration-color: #800080; font-weight: bold\">33m</span><span style=\"font-weight: bold\">(</span>raylet<span style=\"font-weight: bold\">)</span>\u001b<span style=\"font-weight: bold\">[</span>0m WARNING: <span style=\"color: #008080; text-decoration-color: #008080; font-weight: bold\">208</span> PYTHON worker processes have been started on node: \n",
       "b0fb231c1c2f493c5c253059300ca732c5ef88c1c915c1504ed05ba0 with address: <span style=\"color: #00ff00; text-decoration-color: #00ff00; font-weight: bold\">172.16.34.227</span>. This could be a result of \n",
       "using a large number of actors, or due to tasks blocked in <span style=\"color: #800080; text-decoration-color: #800080; font-weight: bold\">ray.get</span><span style=\"font-weight: bold\">()</span> calls <span style=\"font-weight: bold\">(</span>see \n",
       "<span style=\"color: #0000ff; text-decoration-color: #0000ff; text-decoration: underline\">https://github.com/ray-project/ray/issues/3644</span> for some discussion of workarounds<span style=\"font-weight: bold\">)</span>.\n",
       "\\Results for token benchmark for Llama3-8B-fas-ed594-28Jul2024 queried with the sagemaker api.\n",
       "\n",
       "inter_token_latency_s\n",
       "    p25 = <span style=\"color: #008080; text-decoration-color: #008080; font-weight: bold\">0.020720480832449085</span>\n",
       "    p50 = <span style=\"color: #008080; text-decoration-color: #008080; font-weight: bold\">0.028100433350352054</span>\n",
       "    p75 = <span style=\"color: #008080; text-decoration-color: #008080; font-weight: bold\">0.03507947415856997</span>\n",
       "    p90 = <span style=\"color: #008080; text-decoration-color: #008080; font-weight: bold\">0.04170722566765609</span>\n",
       "    p95 = <span style=\"color: #008080; text-decoration-color: #008080; font-weight: bold\">0.0466553749129518</span>\n",
       "    p99 = <span style=\"color: #008080; text-decoration-color: #008080; font-weight: bold\">0.05846200418841567</span>\n",
       "    mean = <span style=\"color: #008080; text-decoration-color: #008080; font-weight: bold\">0.028477163436279616</span>\n",
       "    min = <span style=\"color: #008080; text-decoration-color: #008080; font-weight: bold\">0.0011077229858391694</span>\n",
       "    max = <span style=\"color: #008080; text-decoration-color: #008080; font-weight: bold\">0.11532974299970428</span>\n",
       "    stddev = <span style=\"color: #008080; text-decoration-color: #008080; font-weight: bold\">0.011396205458922745</span>\n",
       "ttft_s\n",
       "    p25 = <span style=\"color: #008080; text-decoration-color: #008080; font-weight: bold\">4.145546742423903</span>\n",
       "    p50 = <span style=\"color: #008080; text-decoration-color: #008080; font-weight: bold\">9.207395828445442</span>\n",
       "    p75 = <span style=\"color: #008080; text-decoration-color: #008080; font-weight: bold\">14.604626631247811</span>\n",
       "    p90 = <span style=\"color: #008080; text-decoration-color: #008080; font-weight: bold\">15.029941626801156</span>\n",
       "    p95 = <span style=\"color: #008080; text-decoration-color: #008080; font-weight: bold\">15.04388886326924</span>\n",
       "    p99 = <span style=\"color: #008080; text-decoration-color: #008080; font-weight: bold\">15.053662227115128</span>\n",
       "    mean = <span style=\"color: #008080; text-decoration-color: #008080; font-weight: bold\">8.834211754302494</span>\n",
       "    min = <span style=\"color: #008080; text-decoration-color: #008080; font-weight: bold\">0.10703785298392177</span>\n",
       "    max = <span style=\"color: #008080; text-decoration-color: #008080; font-weight: bold\">15.078184877987951</span>\n",
       "    stddev = <span style=\"color: #008080; text-decoration-color: #008080; font-weight: bold\">5.19258135747693</span>\n",
       "end_to_end_latency_s\n",
       "    p25 = <span style=\"color: #008080; text-decoration-color: #008080; font-weight: bold\">14.056195328885224</span>\n",
       "    p50 = <span style=\"color: #008080; text-decoration-color: #008080; font-weight: bold\">19.48325969092548</span>\n",
       "    p75 = <span style=\"color: #008080; text-decoration-color: #008080; font-weight: bold\">24.505333405570127</span>\n",
       "    p90 = <span style=\"color: #008080; text-decoration-color: #008080; font-weight: bold\">27.500939839775675</span>\n",
       "    p95 = <span style=\"color: #008080; text-decoration-color: #008080; font-weight: bold\">28.905332016572356</span>\n",
       "    p99 = <span style=\"color: #008080; text-decoration-color: #008080; font-weight: bold\">31.480270544991363</span>\n",
       "    mean = <span style=\"color: #008080; text-decoration-color: #008080; font-weight: bold\">19.015451940153028</span>\n",
       "    min = <span style=\"color: #008080; text-decoration-color: #008080; font-weight: bold\">0.7931988791096956</span>\n",
       "    max = <span style=\"color: #008080; text-decoration-color: #008080; font-weight: bold\">35.920733163831756</span>\n",
       "    stddev = <span style=\"color: #008080; text-decoration-color: #008080; font-weight: bold\">6.865291040218732</span>\n",
       "request_output_throughput_token_per_s\n",
       "    p25 = <span style=\"color: #008080; text-decoration-color: #008080; font-weight: bold\">28.50654190883261</span>\n",
       "    p50 = <span style=\"color: #008080; text-decoration-color: #008080; font-weight: bold\">35.5854345939724</span>\n",
       "    p75 = <span style=\"color: #008080; text-decoration-color: #008080; font-weight: bold\">48.26065785675587</span>\n",
       "    p90 = <span style=\"color: #008080; text-decoration-color: #008080; font-weight: bold\">69.53173406291391</span>\n",
       "    p95 = <span style=\"color: #008080; text-decoration-color: #008080; font-weight: bold\">86.30822417919369</span>\n",
       "    p99 = <span style=\"color: #008080; text-decoration-color: #008080; font-weight: bold\">189.69233374101057</span>\n",
       "    mean = <span style=\"color: #008080; text-decoration-color: #008080; font-weight: bold\">44.460940950254326</span>\n",
       "    min = <span style=\"color: #008080; text-decoration-color: #008080; font-weight: bold\">8.67064585668825</span>\n",
       "    max = <span style=\"color: #008080; text-decoration-color: #008080; font-weight: bold\">902.6739936945633</span>\n",
       "    stddev = <span style=\"color: #008080; text-decoration-color: #008080; font-weight: bold\">41.80154524963839</span>\n",
       "number_input_tokens\n",
       "    p25 = <span style=\"color: #008080; text-decoration-color: #008080; font-weight: bold\">441.5</span>\n",
       "    p50 = <span style=\"color: #008080; text-decoration-color: #008080; font-weight: bold\">550.5</span>\n",
       "    p75 = <span style=\"color: #008080; text-decoration-color: #008080; font-weight: bold\">652.0</span>\n",
       "    p90 = <span style=\"color: #008080; text-decoration-color: #008080; font-weight: bold\">736.0</span>\n",
       "    p95 = <span style=\"color: #008080; text-decoration-color: #008080; font-weight: bold\">791.0999999999999</span>\n",
       "    p99 = <span style=\"color: #008080; text-decoration-color: #008080; font-weight: bold\">889.1099999999999</span>\n",
       "    mean = <span style=\"color: #008080; text-decoration-color: #008080; font-weight: bold\">549.734</span>\n",
       "    min = <span style=\"color: #008080; text-decoration-color: #008080; font-weight: bold\">108</span>\n",
       "    max = <span style=\"color: #008080; text-decoration-color: #008080; font-weight: bold\">1066</span>\n",
       "    stddev = <span style=\"color: #008080; text-decoration-color: #008080; font-weight: bold\">146.00740188567636</span>\n",
       "number_output_tokens\n",
       "    p25 = <span style=\"color: #008080; text-decoration-color: #008080; font-weight: bold\">578.0</span>\n",
       "    p50 = <span style=\"color: #008080; text-decoration-color: #008080; font-weight: bold\">690.0</span>\n",
       "    p75 = <span style=\"color: #008080; text-decoration-color: #008080; font-weight: bold\">797.0</span>\n",
       "    p90 = <span style=\"color: #008080; text-decoration-color: #008080; font-weight: bold\">908.0</span>\n",
       "    p95 = <span style=\"color: #008080; text-decoration-color: #008080; font-weight: bold\">965.1999999999998</span>\n",
       "    p99 = <span style=\"color: #008080; text-decoration-color: #008080; font-weight: bold\">1088.02</span>\n",
       "    mean = <span style=\"color: #008080; text-decoration-color: #008080; font-weight: bold\">689.465</span>\n",
       "    min = <span style=\"color: #008080; text-decoration-color: #008080; font-weight: bold\">216</span>\n",
       "    max = <span style=\"color: #008080; text-decoration-color: #008080; font-weight: bold\">1212</span>\n",
       "    stddev = <span style=\"color: #008080; text-decoration-color: #008080; font-weight: bold\">166.34207664166473</span>\n",
       "Number Of Errored Requests: <span style=\"color: #008080; text-decoration-color: #008080; font-weight: bold\">0</span>\n",
       "Overall Output Throughput: <span style=\"color: #008080; text-decoration-color: #008080; font-weight: bold\">1643.4463844862348</span>\n",
       "Number Of Completed Requests: <span style=\"color: #008080; text-decoration-color: #008080; font-weight: bold\">1000</span>\n",
       "Completed Requests Per Minute: <span style=\"color: #008080; text-decoration-color: #008080; font-weight: bold\">143.01927301483627</span>\n",
       "\u001b<span style=\"font-weight: bold\">[</span><span style=\"color: #800080; text-decoration-color: #800080; font-weight: bold\">33m</span><span style=\"font-weight: bold\">(</span>raylet<span style=\"font-weight: bold\">)</span>\u001b<span style=\"font-weight: bold\">[</span>0m WARNING: <span style=\"color: #008080; text-decoration-color: #008080; font-weight: bold\">282</span> PYTHON worker processes have been started on node: \n",
       "b0fb231c1c2f493c5c253059300ca732c5ef88c1c915c1504ed05ba0 with address: <span style=\"color: #00ff00; text-decoration-color: #00ff00; font-weight: bold\">172.16.34.227</span>. This could be a result of \n",
       "using a large number of actors, or due to tasks blocked in <span style=\"color: #800080; text-decoration-color: #800080; font-weight: bold\">ray.get</span><span style=\"font-weight: bold\">()</span> calls <span style=\"font-weight: bold\">(</span>see \n",
       "<span style=\"color: #0000ff; text-decoration-color: #0000ff; text-decoration: underline\">https://github.com/ray-project/ray/issues/3644</span> for some discussion of workarounds<span style=\"font-weight: bold\">)</span>.\n",
       "Execution time was <span style=\"color: #008080; text-decoration-color: #008080; font-weight: bold\">430</span> secs.\n",
       "\n",
       "</pre>\n"
      ],
      "text/plain": [
       "Process output:\n",
       "Installing llmperf\u001b[33m...\u001b[0m\n",
       "results directory already exists.\n",
       "Starting benchmarking scripts on endpoint Llama3-8B-fas-ed594-28Jul2024 \u001b[33m...\u001b[0m\n",
       "\u001b\u001b[1m[\u001b[0m\u001b[1;35m33m\u001b[0m\u001b[1m(\u001b[0mraylet\u001b[1m)\u001b[0m\u001b\u001b[1m[\u001b[0m0m WARNING: \u001b[1;36m208\u001b[0m PYTHON worker processes have been started on node: \n",
       "b0fb231c1c2f493c5c253059300ca732c5ef88c1c915c1504ed05ba0 with address: \u001b[1;92m172.16.34.227\u001b[0m. This could be a result of \n",
       "using a large number of actors, or due to tasks blocked in \u001b[1;35mray.get\u001b[0m\u001b[1m(\u001b[0m\u001b[1m)\u001b[0m calls \u001b[1m(\u001b[0msee \n",
       "\u001b[4;94mhttps://github.com/ray-project/ray/issues/3644\u001b[0m for some discussion of workarounds\u001b[1m)\u001b[0m.\n",
       "\\Results for token benchmark for Llama3-8B-fas-ed594-28Jul2024 queried with the sagemaker api.\n",
       "\n",
       "inter_token_latency_s\n",
       "    p25 = \u001b[1;36m0.020720480832449085\u001b[0m\n",
       "    p50 = \u001b[1;36m0.028100433350352054\u001b[0m\n",
       "    p75 = \u001b[1;36m0.03507947415856997\u001b[0m\n",
       "    p90 = \u001b[1;36m0.04170722566765609\u001b[0m\n",
       "    p95 = \u001b[1;36m0.0466553749129518\u001b[0m\n",
       "    p99 = \u001b[1;36m0.05846200418841567\u001b[0m\n",
       "    mean = \u001b[1;36m0.028477163436279616\u001b[0m\n",
       "    min = \u001b[1;36m0.0011077229858391694\u001b[0m\n",
       "    max = \u001b[1;36m0.11532974299970428\u001b[0m\n",
       "    stddev = \u001b[1;36m0.011396205458922745\u001b[0m\n",
       "ttft_s\n",
       "    p25 = \u001b[1;36m4.145546742423903\u001b[0m\n",
       "    p50 = \u001b[1;36m9.207395828445442\u001b[0m\n",
       "    p75 = \u001b[1;36m14.604626631247811\u001b[0m\n",
       "    p90 = \u001b[1;36m15.029941626801156\u001b[0m\n",
       "    p95 = \u001b[1;36m15.04388886326924\u001b[0m\n",
       "    p99 = \u001b[1;36m15.053662227115128\u001b[0m\n",
       "    mean = \u001b[1;36m8.834211754302494\u001b[0m\n",
       "    min = \u001b[1;36m0.10703785298392177\u001b[0m\n",
       "    max = \u001b[1;36m15.078184877987951\u001b[0m\n",
       "    stddev = \u001b[1;36m5.19258135747693\u001b[0m\n",
       "end_to_end_latency_s\n",
       "    p25 = \u001b[1;36m14.056195328885224\u001b[0m\n",
       "    p50 = \u001b[1;36m19.48325969092548\u001b[0m\n",
       "    p75 = \u001b[1;36m24.505333405570127\u001b[0m\n",
       "    p90 = \u001b[1;36m27.500939839775675\u001b[0m\n",
       "    p95 = \u001b[1;36m28.905332016572356\u001b[0m\n",
       "    p99 = \u001b[1;36m31.480270544991363\u001b[0m\n",
       "    mean = \u001b[1;36m19.015451940153028\u001b[0m\n",
       "    min = \u001b[1;36m0.7931988791096956\u001b[0m\n",
       "    max = \u001b[1;36m35.920733163831756\u001b[0m\n",
       "    stddev = \u001b[1;36m6.865291040218732\u001b[0m\n",
       "request_output_throughput_token_per_s\n",
       "    p25 = \u001b[1;36m28.50654190883261\u001b[0m\n",
       "    p50 = \u001b[1;36m35.5854345939724\u001b[0m\n",
       "    p75 = \u001b[1;36m48.26065785675587\u001b[0m\n",
       "    p90 = \u001b[1;36m69.53173406291391\u001b[0m\n",
       "    p95 = \u001b[1;36m86.30822417919369\u001b[0m\n",
       "    p99 = \u001b[1;36m189.69233374101057\u001b[0m\n",
       "    mean = \u001b[1;36m44.460940950254326\u001b[0m\n",
       "    min = \u001b[1;36m8.67064585668825\u001b[0m\n",
       "    max = \u001b[1;36m902.6739936945633\u001b[0m\n",
       "    stddev = \u001b[1;36m41.80154524963839\u001b[0m\n",
       "number_input_tokens\n",
       "    p25 = \u001b[1;36m441.5\u001b[0m\n",
       "    p50 = \u001b[1;36m550.5\u001b[0m\n",
       "    p75 = \u001b[1;36m652.0\u001b[0m\n",
       "    p90 = \u001b[1;36m736.0\u001b[0m\n",
       "    p95 = \u001b[1;36m791.0999999999999\u001b[0m\n",
       "    p99 = \u001b[1;36m889.1099999999999\u001b[0m\n",
       "    mean = \u001b[1;36m549.734\u001b[0m\n",
       "    min = \u001b[1;36m108\u001b[0m\n",
       "    max = \u001b[1;36m1066\u001b[0m\n",
       "    stddev = \u001b[1;36m146.00740188567636\u001b[0m\n",
       "number_output_tokens\n",
       "    p25 = \u001b[1;36m578.0\u001b[0m\n",
       "    p50 = \u001b[1;36m690.0\u001b[0m\n",
       "    p75 = \u001b[1;36m797.0\u001b[0m\n",
       "    p90 = \u001b[1;36m908.0\u001b[0m\n",
       "    p95 = \u001b[1;36m965.1999999999998\u001b[0m\n",
       "    p99 = \u001b[1;36m1088.02\u001b[0m\n",
       "    mean = \u001b[1;36m689.465\u001b[0m\n",
       "    min = \u001b[1;36m216\u001b[0m\n",
       "    max = \u001b[1;36m1212\u001b[0m\n",
       "    stddev = \u001b[1;36m166.34207664166473\u001b[0m\n",
       "Number Of Errored Requests: \u001b[1;36m0\u001b[0m\n",
       "Overall Output Throughput: \u001b[1;36m1643.4463844862348\u001b[0m\n",
       "Number Of Completed Requests: \u001b[1;36m1000\u001b[0m\n",
       "Completed Requests Per Minute: \u001b[1;36m143.01927301483627\u001b[0m\n",
       "\u001b\u001b[1m[\u001b[0m\u001b[1;35m33m\u001b[0m\u001b[1m(\u001b[0mraylet\u001b[1m)\u001b[0m\u001b\u001b[1m[\u001b[0m0m WARNING: \u001b[1;36m282\u001b[0m PYTHON worker processes have been started on node: \n",
       "b0fb231c1c2f493c5c253059300ca732c5ef88c1c915c1504ed05ba0 with address: \u001b[1;92m172.16.34.227\u001b[0m. This could be a result of \n",
       "using a large number of actors, or due to tasks blocked in \u001b[1;35mray.get\u001b[0m\u001b[1m(\u001b[0m\u001b[1m)\u001b[0m calls \u001b[1m(\u001b[0msee \n",
       "\u001b[4;94mhttps://github.com/ray-project/ray/issues/3644\u001b[0m for some discussion of workarounds\u001b[1m)\u001b[0m.\n",
       "Execution time was \u001b[1;36m430\u001b[0m secs.\n",
       "\n"
      ]
     },
     "metadata": {},
     "output_type": "display_data"
    },
    {
     "data": {
      "text/html": [
       "<pre style=\"white-space:pre;overflow-x:auto;line-height:normal;font-family:Menlo,'DejaVu Sans Mono',consolas,'Courier New',monospace\">Process errors:\n",
       "Cloning into <span style=\"color: #008000; text-decoration-color: #008000\">'llmperf'</span><span style=\"color: #808000; text-decoration-color: #808000\">...</span>\n",
       "\u001b<span style=\"font-weight: bold\">[</span>2mResolved \u001b<span style=\"font-weight: bold\">[</span>1m104 packages\u001b<span style=\"font-weight: bold\">[</span>0m in 147ms\u001b<span style=\"font-weight: bold\">[</span>0m\n",
       "\u001b<span style=\"font-weight: bold\">[</span>2mDownloaded \u001b<span style=\"font-weight: bold\">[</span>1m12 packages\u001b<span style=\"font-weight: bold\">[</span>0m in 676ms\u001b<span style=\"font-weight: bold\">[</span>0m\n",
       "\u001b<span style=\"font-weight: bold\">[</span>2mUninstalled \u001b<span style=\"font-weight: bold\">[</span>1m4 packages\u001b<span style=\"font-weight: bold\">[</span>0m in 79ms\u001b<span style=\"font-weight: bold\">[</span>0m\n",
       "\u001b<span style=\"font-weight: bold\">[</span>2mInstalled \u001b<span style=\"font-weight: bold\">[</span>1m47 packages\u001b<span style=\"font-weight: bold\">[</span>0m in 56ms\u001b<span style=\"font-weight: bold\">[</span>0m\n",
       " \u001b<span style=\"font-weight: bold\">[</span>32m+\u001b<span style=\"font-weight: bold\">[</span>39m \u001b<span style=\"font-weight: bold\">[</span>1maiohttp\u001b<span style=\"font-weight: bold\">[</span>0m\u001b<span style=\"font-weight: bold\">[</span><span style=\"color: #808000; text-decoration-color: #808000\">2m</span>==<span style=\"color: #008080; text-decoration-color: #008080; font-weight: bold\">3.9</span>.<span style=\"color: #008080; text-decoration-color: #008080; font-weight: bold\">5</span>\u001b<span style=\"font-weight: bold\">[</span>0m\n",
       " \u001b<span style=\"font-weight: bold\">[</span>32m+\u001b<span style=\"font-weight: bold\">[</span>39m \u001b<span style=\"font-weight: bold\">[</span>1maiosignal\u001b<span style=\"font-weight: bold\">[</span>0m\u001b<span style=\"font-weight: bold\">[</span><span style=\"color: #808000; text-decoration-color: #808000\">2m</span>==<span style=\"color: #008080; text-decoration-color: #008080; font-weight: bold\">1.3</span>.<span style=\"color: #008080; text-decoration-color: #008080; font-weight: bold\">1</span>\u001b<span style=\"font-weight: bold\">[</span>0m\n",
       " \u001b<span style=\"font-weight: bold\">[</span>32m+\u001b<span style=\"font-weight: bold\">[</span>39m \u001b<span style=\"font-weight: bold\">[</span>1masync-timeout\u001b<span style=\"font-weight: bold\">[</span>0m\u001b<span style=\"font-weight: bold\">[</span><span style=\"color: #808000; text-decoration-color: #808000\">2m</span>==<span style=\"color: #008080; text-decoration-color: #008080; font-weight: bold\">4.0</span>.<span style=\"color: #008080; text-decoration-color: #008080; font-weight: bold\">3</span>\u001b<span style=\"font-weight: bold\">[</span>0m\n",
       " \u001b<span style=\"font-weight: bold\">[</span>31m-\u001b<span style=\"font-weight: bold\">[</span>39m \u001b<span style=\"font-weight: bold\">[</span>1mboto3\u001b<span style=\"font-weight: bold\">[</span>0m\u001b<span style=\"font-weight: bold\">[</span><span style=\"color: #808000; text-decoration-color: #808000\">2m</span>==<span style=\"color: #008080; text-decoration-color: #008080; font-weight: bold\">1.34</span>.<span style=\"color: #008080; text-decoration-color: #008080; font-weight: bold\">142</span>\u001b<span style=\"font-weight: bold\">[</span>0m\n",
       " \u001b<span style=\"font-weight: bold\">[</span>32m+\u001b<span style=\"font-weight: bold\">[</span>39m \u001b<span style=\"font-weight: bold\">[</span>1mboto3\u001b<span style=\"font-weight: bold\">[</span>0m\u001b<span style=\"font-weight: bold\">[</span><span style=\"color: #808000; text-decoration-color: #808000\">2m</span>==<span style=\"color: #008080; text-decoration-color: #008080; font-weight: bold\">1.34</span>.<span style=\"color: #008080; text-decoration-color: #008080; font-weight: bold\">101</span>\u001b<span style=\"font-weight: bold\">[</span>0m\n",
       " \u001b<span style=\"font-weight: bold\">[</span>31m-\u001b<span style=\"font-weight: bold\">[</span>39m \u001b<span style=\"font-weight: bold\">[</span>1mbotocore\u001b<span style=\"font-weight: bold\">[</span>0m\u001b<span style=\"font-weight: bold\">[</span><span style=\"color: #808000; text-decoration-color: #808000\">2m</span>==<span style=\"color: #008080; text-decoration-color: #008080; font-weight: bold\">1.34</span>.<span style=\"color: #008080; text-decoration-color: #008080; font-weight: bold\">142</span>\u001b<span style=\"font-weight: bold\">[</span>0m\n",
       " \u001b<span style=\"font-weight: bold\">[</span>32m+\u001b<span style=\"font-weight: bold\">[</span>39m \u001b<span style=\"font-weight: bold\">[</span>1mbotocore\u001b<span style=\"font-weight: bold\">[</span>0m\u001b<span style=\"font-weight: bold\">[</span><span style=\"color: #808000; text-decoration-color: #808000\">2m</span>==<span style=\"color: #008080; text-decoration-color: #008080; font-weight: bold\">1.34</span>.<span style=\"color: #008080; text-decoration-color: #008080; font-weight: bold\">101</span>\u001b<span style=\"font-weight: bold\">[</span>0m\n",
       " \u001b<span style=\"font-weight: bold\">[</span>32m+\u001b<span style=\"font-weight: bold\">[</span>39m \u001b<span style=\"font-weight: bold\">[</span>1mcachetools\u001b<span style=\"font-weight: bold\">[</span>0m\u001b<span style=\"font-weight: bold\">[</span><span style=\"color: #808000; text-decoration-color: #808000\">2m</span>==<span style=\"color: #008080; text-decoration-color: #008080; font-weight: bold\">5.4</span>.<span style=\"color: #008080; text-decoration-color: #008080; font-weight: bold\">0</span>\u001b<span style=\"font-weight: bold\">[</span>0m\n",
       " \u001b<span style=\"font-weight: bold\">[</span>32m+\u001b<span style=\"font-weight: bold\">[</span>39m \u001b<span style=\"font-weight: bold\">[</span>1mdistro\u001b<span style=\"font-weight: bold\">[</span>0m\u001b<span style=\"font-weight: bold\">[</span><span style=\"color: #808000; text-decoration-color: #808000\">2m</span>==<span style=\"color: #008080; text-decoration-color: #008080; font-weight: bold\">1.9</span>.<span style=\"color: #008080; text-decoration-color: #008080; font-weight: bold\">0</span>\u001b<span style=\"font-weight: bold\">[</span>0m\n",
       " \u001b<span style=\"font-weight: bold\">[</span>32m+\u001b<span style=\"font-weight: bold\">[</span>39m \u001b<span style=\"font-weight: bold\">[</span>1mdocopt\u001b<span style=\"font-weight: bold\">[</span>0m\u001b<span style=\"font-weight: bold\">[</span><span style=\"color: #808000; text-decoration-color: #808000\">2m</span>==<span style=\"color: #008080; text-decoration-color: #008080; font-weight: bold\">0.6</span>.<span style=\"color: #008080; text-decoration-color: #008080; font-weight: bold\">2</span>\u001b<span style=\"font-weight: bold\">[</span>0m\n",
       " \u001b<span style=\"font-weight: bold\">[</span>32m+\u001b<span style=\"font-weight: bold\">[</span>39m \u001b<span style=\"font-weight: bold\">[</span>1mdocstring-parser\u001b<span style=\"font-weight: bold\">[</span>0m\u001b<span style=\"font-weight: bold\">[</span><span style=\"color: #808000; text-decoration-color: #808000\">2m</span>==<span style=\"color: #008080; text-decoration-color: #008080; font-weight: bold\">0.16</span>\u001b<span style=\"font-weight: bold\">[</span>0m\n",
       " \u001b<span style=\"font-weight: bold\">[</span>32m+\u001b<span style=\"font-weight: bold\">[</span>39m \u001b<span style=\"font-weight: bold\">[</span>1mfrozenlist\u001b<span style=\"font-weight: bold\">[</span>0m\u001b<span style=\"font-weight: bold\">[</span><span style=\"color: #808000; text-decoration-color: #808000\">2m</span>==<span style=\"color: #008080; text-decoration-color: #008080; font-weight: bold\">1.4</span>.<span style=\"color: #008080; text-decoration-color: #008080; font-weight: bold\">1</span>\u001b<span style=\"font-weight: bold\">[</span>0m\n",
       " \u001b<span style=\"font-weight: bold\">[</span>32m+\u001b<span style=\"font-weight: bold\">[</span>39m \u001b<span style=\"font-weight: bold\">[</span>1mgoogle-api-core\u001b<span style=\"font-weight: bold\">[</span>0m\u001b<span style=\"font-weight: bold\">[</span><span style=\"color: #808000; text-decoration-color: #808000\">2m</span>==<span style=\"color: #008080; text-decoration-color: #008080; font-weight: bold\">2.19</span>.<span style=\"color: #008080; text-decoration-color: #008080; font-weight: bold\">1</span>\u001b<span style=\"font-weight: bold\">[</span>0m\n",
       " \u001b<span style=\"font-weight: bold\">[</span>32m+\u001b<span style=\"font-weight: bold\">[</span>39m \u001b<span style=\"font-weight: bold\">[</span>1mgoogle-auth\u001b<span style=\"font-weight: bold\">[</span>0m\u001b<span style=\"font-weight: bold\">[</span><span style=\"color: #808000; text-decoration-color: #808000\">2m</span>==<span style=\"color: #008080; text-decoration-color: #008080; font-weight: bold\">2.32</span>.<span style=\"color: #008080; text-decoration-color: #008080; font-weight: bold\">0</span>\u001b<span style=\"font-weight: bold\">[</span>0m\n",
       " \u001b<span style=\"font-weight: bold\">[</span>32m+\u001b<span style=\"font-weight: bold\">[</span>39m \u001b<span style=\"font-weight: bold\">[</span>1mgoogle-cloud-aiplatform\u001b<span style=\"font-weight: bold\">[</span>0m\u001b<span style=\"font-weight: bold\">[</span><span style=\"color: #808000; text-decoration-color: #808000\">2m</span>==<span style=\"color: #008080; text-decoration-color: #008080; font-weight: bold\">1.60</span>.<span style=\"color: #008080; text-decoration-color: #008080; font-weight: bold\">0</span>\u001b<span style=\"font-weight: bold\">[</span>0m\n",
       " \u001b<span style=\"font-weight: bold\">[</span>32m+\u001b<span style=\"font-weight: bold\">[</span>39m \u001b<span style=\"font-weight: bold\">[</span>1mgoogle-cloud-bigquery\u001b<span style=\"font-weight: bold\">[</span>0m\u001b<span style=\"font-weight: bold\">[</span><span style=\"color: #808000; text-decoration-color: #808000\">2m</span>==<span style=\"color: #008080; text-decoration-color: #008080; font-weight: bold\">3.25</span>.<span style=\"color: #008080; text-decoration-color: #008080; font-weight: bold\">0</span>\u001b<span style=\"font-weight: bold\">[</span>0m\n",
       " \u001b<span style=\"font-weight: bold\">[</span>32m+\u001b<span style=\"font-weight: bold\">[</span>39m \u001b<span style=\"font-weight: bold\">[</span>1mgoogle-cloud-core\u001b<span style=\"font-weight: bold\">[</span>0m\u001b<span style=\"font-weight: bold\">[</span><span style=\"color: #808000; text-decoration-color: #808000\">2m</span>==<span style=\"color: #008080; text-decoration-color: #008080; font-weight: bold\">2.4</span>.<span style=\"color: #008080; text-decoration-color: #008080; font-weight: bold\">1</span>\u001b<span style=\"font-weight: bold\">[</span>0m\n",
       " \u001b<span style=\"font-weight: bold\">[</span>32m+\u001b<span style=\"font-weight: bold\">[</span>39m \u001b<span style=\"font-weight: bold\">[</span>1mgoogle-cloud-resource-manager\u001b<span style=\"font-weight: bold\">[</span>0m\u001b<span style=\"font-weight: bold\">[</span><span style=\"color: #808000; text-decoration-color: #808000\">2m</span>==<span style=\"color: #008080; text-decoration-color: #008080; font-weight: bold\">1.12</span>.<span style=\"color: #008080; text-decoration-color: #008080; font-weight: bold\">4</span>\u001b<span style=\"font-weight: bold\">[</span>0m\n",
       " \u001b<span style=\"font-weight: bold\">[</span>32m+\u001b<span style=\"font-weight: bold\">[</span>39m \u001b<span style=\"font-weight: bold\">[</span>1mgoogle-cloud-storage\u001b<span style=\"font-weight: bold\">[</span>0m\u001b<span style=\"font-weight: bold\">[</span><span style=\"color: #808000; text-decoration-color: #808000\">2m</span>==<span style=\"color: #008080; text-decoration-color: #008080; font-weight: bold\">2.18</span>.<span style=\"color: #008080; text-decoration-color: #008080; font-weight: bold\">0</span>\u001b<span style=\"font-weight: bold\">[</span>0m\n",
       " \u001b<span style=\"font-weight: bold\">[</span>32m+\u001b<span style=\"font-weight: bold\">[</span>39m \u001b<span style=\"font-weight: bold\">[</span>1mgoogle-crc32c\u001b<span style=\"font-weight: bold\">[</span>0m\u001b<span style=\"font-weight: bold\">[</span><span style=\"color: #808000; text-decoration-color: #808000\">2m</span>==<span style=\"color: #008080; text-decoration-color: #008080; font-weight: bold\">1.5</span>.<span style=\"color: #008080; text-decoration-color: #008080; font-weight: bold\">0</span>\u001b<span style=\"font-weight: bold\">[</span>0m\n",
       " \u001b<span style=\"font-weight: bold\">[</span>32m+\u001b<span style=\"font-weight: bold\">[</span>39m \u001b<span style=\"font-weight: bold\">[</span>1mgoogle-resumable-media\u001b<span style=\"font-weight: bold\">[</span>0m\u001b<span style=\"font-weight: bold\">[</span><span style=\"color: #808000; text-decoration-color: #808000\">2m</span>==<span style=\"color: #008080; text-decoration-color: #008080; font-weight: bold\">2.7</span>.<span style=\"color: #008080; text-decoration-color: #008080; font-weight: bold\">1</span>\u001b<span style=\"font-weight: bold\">[</span>0m\n",
       " \u001b<span style=\"font-weight: bold\">[</span>32m+\u001b<span style=\"font-weight: bold\">[</span>39m \u001b<span style=\"font-weight: bold\">[</span>1mgoogleapis-common-protos\u001b<span style=\"font-weight: bold\">[</span>0m\u001b<span style=\"font-weight: bold\">[</span><span style=\"color: #808000; text-decoration-color: #808000\">2m</span>==<span style=\"color: #008080; text-decoration-color: #008080; font-weight: bold\">1.63</span>.<span style=\"color: #008080; text-decoration-color: #008080; font-weight: bold\">2</span>\u001b<span style=\"font-weight: bold\">[</span>0m\n",
       " \u001b<span style=\"font-weight: bold\">[</span>32m+\u001b<span style=\"font-weight: bold\">[</span>39m \u001b<span style=\"font-weight: bold\">[</span>1mgrpc-google-iam-v1\u001b<span style=\"font-weight: bold\">[</span>0m\u001b<span style=\"font-weight: bold\">[</span><span style=\"color: #808000; text-decoration-color: #808000\">2m</span>==<span style=\"color: #008080; text-decoration-color: #008080; font-weight: bold\">0.13</span>.<span style=\"color: #008080; text-decoration-color: #008080; font-weight: bold\">1</span>\u001b<span style=\"font-weight: bold\">[</span>0m\n",
       " \u001b<span style=\"font-weight: bold\">[</span>32m+\u001b<span style=\"font-weight: bold\">[</span>39m \u001b<span style=\"font-weight: bold\">[</span>1mgrpcio\u001b<span style=\"font-weight: bold\">[</span>0m\u001b<span style=\"font-weight: bold\">[</span><span style=\"color: #808000; text-decoration-color: #808000\">2m</span>==<span style=\"color: #008080; text-decoration-color: #008080; font-weight: bold\">1.65</span>.<span style=\"color: #008080; text-decoration-color: #008080; font-weight: bold\">1</span>\u001b<span style=\"font-weight: bold\">[</span>0m\n",
       " \u001b<span style=\"font-weight: bold\">[</span>32m+\u001b<span style=\"font-weight: bold\">[</span>39m \u001b<span style=\"font-weight: bold\">[</span>1mgrpcio-status\u001b<span style=\"font-weight: bold\">[</span>0m\u001b<span style=\"font-weight: bold\">[</span><span style=\"color: #808000; text-decoration-color: #808000\">2m</span>==<span style=\"color: #008080; text-decoration-color: #008080; font-weight: bold\">1.62</span>.<span style=\"color: #008080; text-decoration-color: #008080; font-weight: bold\">2</span>\u001b<span style=\"font-weight: bold\">[</span>0m\n",
       " \u001b<span style=\"font-weight: bold\">[</span>32m+\u001b<span style=\"font-weight: bold\">[</span>39m \u001b<span style=\"font-weight: bold\">[</span>1mhuggingface-hub\u001b<span style=\"font-weight: bold\">[</span>0m\u001b<span style=\"font-weight: bold\">[</span><span style=\"color: #808000; text-decoration-color: #808000\">2m</span>==<span style=\"color: #008080; text-decoration-color: #008080; font-weight: bold\">0.24</span>.<span style=\"color: #008080; text-decoration-color: #008080; font-weight: bold\">2</span>\u001b<span style=\"font-weight: bold\">[</span>0m\n",
       " \u001b<span style=\"font-weight: bold\">[</span>32m+\u001b<span style=\"font-weight: bold\">[</span>39m \u001b<span style=\"font-weight: bold\">[</span>1miniconfig\u001b<span style=\"font-weight: bold\">[</span>0m\u001b<span style=\"font-weight: bold\">[</span><span style=\"color: #808000; text-decoration-color: #808000\">2m</span>==<span style=\"color: #008080; text-decoration-color: #008080; font-weight: bold\">2.0</span>.<span style=\"color: #008080; text-decoration-color: #008080; font-weight: bold\">0</span>\u001b<span style=\"font-weight: bold\">[</span>0m\n",
       " \u001b<span style=\"font-weight: bold\">[</span>32m+\u001b<span style=\"font-weight: bold\">[</span>39m \u001b<span style=\"font-weight: bold\">[</span>1mlitellm\u001b<span style=\"font-weight: bold\">[</span>0m\u001b<span style=\"font-weight: bold\">[</span><span style=\"color: #808000; text-decoration-color: #808000\">2m</span>==<span style=\"color: #008080; text-decoration-color: #008080; font-weight: bold\">1.42</span>.<span style=\"color: #008080; text-decoration-color: #008080; font-weight: bold\">5</span>\u001b<span style=\"font-weight: bold\">[</span>0m\n",
       " \u001b<span style=\"font-weight: bold\">[</span>32m+\u001b<span style=\"font-weight: bold\">[</span>39m \u001b<span style=\"font-weight: bold\">[</span>1mllmperf\u001b<span style=\"font-weight: bold\">[</span>0m\u001b<span style=\"font-weight: bold\">[</span><span style=\"color: #808000; text-decoration-color: #808000\">2m</span>==<span style=\"color: #008080; text-decoration-color: #008080; font-weight: bold\">0.1</span>.<span style=\"color: #008080; text-decoration-color: #008080; font-weight: bold\">0</span> <span style=\"font-weight: bold\">(</span>from \n",
       "<span style=\"color: #0000ff; text-decoration-color: #0000ff; text-decoration: underline\">file:///home/ec2-user/SageMaker/aws-ai-ml-workshop-kr/genai/aws-gen-ai-kr/30_fine_tune/03-fine-tune-llama3/notebook</span>\n",
       "<span style=\"color: #0000ff; text-decoration-color: #0000ff; text-decoration: underline\">/02-naver-news-llama3-inference/backup/01-Llama3-8B-Autoscaling/llmperf)</span>\u001b<span style=\"font-weight: bold\">[</span>0m\n",
       " \u001b<span style=\"font-weight: bold\">[</span>32m+\u001b<span style=\"font-weight: bold\">[</span>39m \u001b<span style=\"font-weight: bold\">[</span>1mmsgpack\u001b<span style=\"font-weight: bold\">[</span>0m\u001b<span style=\"font-weight: bold\">[</span><span style=\"color: #808000; text-decoration-color: #808000\">2m</span>==<span style=\"color: #008080; text-decoration-color: #008080; font-weight: bold\">1.0</span>.<span style=\"color: #008080; text-decoration-color: #008080; font-weight: bold\">8</span>\u001b<span style=\"font-weight: bold\">[</span>0m\n",
       " \u001b<span style=\"font-weight: bold\">[</span>32m+\u001b<span style=\"font-weight: bold\">[</span>39m \u001b<span style=\"font-weight: bold\">[</span>1mmultidict\u001b<span style=\"font-weight: bold\">[</span>0m\u001b<span style=\"font-weight: bold\">[</span><span style=\"color: #808000; text-decoration-color: #808000\">2m</span>==<span style=\"color: #008080; text-decoration-color: #008080; font-weight: bold\">6.0</span>.<span style=\"color: #008080; text-decoration-color: #008080; font-weight: bold\">5</span>\u001b<span style=\"font-weight: bold\">[</span>0m\n",
       " \u001b<span style=\"font-weight: bold\">[</span>32m+\u001b<span style=\"font-weight: bold\">[</span>39m \u001b<span style=\"font-weight: bold\">[</span>1mnum2words\u001b<span style=\"font-weight: bold\">[</span>0m\u001b<span style=\"font-weight: bold\">[</span><span style=\"color: #808000; text-decoration-color: #808000\">2m</span>==<span style=\"color: #008080; text-decoration-color: #008080; font-weight: bold\">0.5</span>.<span style=\"color: #008080; text-decoration-color: #008080; font-weight: bold\">13</span>\u001b<span style=\"font-weight: bold\">[</span>0m\n",
       " \u001b<span style=\"font-weight: bold\">[</span>32m+\u001b<span style=\"font-weight: bold\">[</span>39m \u001b<span style=\"font-weight: bold\">[</span>1mopenai\u001b<span style=\"font-weight: bold\">[</span>0m\u001b<span style=\"font-weight: bold\">[</span><span style=\"color: #808000; text-decoration-color: #808000\">2m</span>==<span style=\"color: #008080; text-decoration-color: #008080; font-weight: bold\">1.37</span>.<span style=\"color: #008080; text-decoration-color: #008080; font-weight: bold\">1</span>\u001b<span style=\"font-weight: bold\">[</span>0m\n",
       " \u001b<span style=\"font-weight: bold\">[</span>32m+\u001b<span style=\"font-weight: bold\">[</span>39m \u001b<span style=\"font-weight: bold\">[</span>1mpluggy\u001b<span style=\"font-weight: bold\">[</span>0m\u001b<span style=\"font-weight: bold\">[</span><span style=\"color: #808000; text-decoration-color: #808000\">2m</span>==<span style=\"color: #008080; text-decoration-color: #008080; font-weight: bold\">1.5</span>.<span style=\"color: #008080; text-decoration-color: #008080; font-weight: bold\">0</span>\u001b<span style=\"font-weight: bold\">[</span>0m\n",
       " \u001b<span style=\"font-weight: bold\">[</span>32m+\u001b<span style=\"font-weight: bold\">[</span>39m \u001b<span style=\"font-weight: bold\">[</span>1mproto-plus\u001b<span style=\"font-weight: bold\">[</span>0m\u001b<span style=\"font-weight: bold\">[</span><span style=\"color: #808000; text-decoration-color: #808000\">2m</span>==<span style=\"color: #008080; text-decoration-color: #008080; font-weight: bold\">1.24</span>.<span style=\"color: #008080; text-decoration-color: #008080; font-weight: bold\">0</span>\u001b<span style=\"font-weight: bold\">[</span>0m\n",
       " \u001b<span style=\"font-weight: bold\">[</span>32m+\u001b<span style=\"font-weight: bold\">[</span>39m \u001b<span style=\"font-weight: bold\">[</span>1mpyasn1-modules\u001b<span style=\"font-weight: bold\">[</span>0m\u001b<span style=\"font-weight: bold\">[</span><span style=\"color: #808000; text-decoration-color: #808000\">2m</span>==<span style=\"color: #008080; text-decoration-color: #008080; font-weight: bold\">0.4</span>.<span style=\"color: #008080; text-decoration-color: #008080; font-weight: bold\">0</span>\u001b<span style=\"font-weight: bold\">[</span>0m\n",
       " \u001b<span style=\"font-weight: bold\">[</span>31m-\u001b<span style=\"font-weight: bold\">[</span>39m \u001b<span style=\"font-weight: bold\">[</span>1mpydantic\u001b<span style=\"font-weight: bold\">[</span>0m\u001b<span style=\"font-weight: bold\">[</span><span style=\"color: #808000; text-decoration-color: #808000\">2m</span>==<span style=\"color: #008080; text-decoration-color: #008080; font-weight: bold\">2.6</span>.<span style=\"color: #008080; text-decoration-color: #008080; font-weight: bold\">4</span> <span style=\"font-weight: bold\">(</span>from \n",
       "<span style=\"color: #0000ff; text-decoration-color: #0000ff; text-decoration: underline\">file:///home/conda/feedstock_root/build_artifacts/pydantic_1710622263606/work)</span>\u001b<span style=\"font-weight: bold\">[</span>0m\n",
       " \u001b<span style=\"font-weight: bold\">[</span>32m+\u001b<span style=\"font-weight: bold\">[</span>39m \u001b<span style=\"font-weight: bold\">[</span>1mpydantic\u001b<span style=\"font-weight: bold\">[</span>0m\u001b<span style=\"font-weight: bold\">[</span><span style=\"color: #808000; text-decoration-color: #808000\">2m</span>==<span style=\"color: #008080; text-decoration-color: #008080; font-weight: bold\">2.4</span>.<span style=\"color: #008080; text-decoration-color: #008080; font-weight: bold\">2</span>\u001b<span style=\"font-weight: bold\">[</span>0m\n",
       " \u001b<span style=\"font-weight: bold\">[</span>31m-\u001b<span style=\"font-weight: bold\">[</span>39m \u001b<span style=\"font-weight: bold\">[</span>1mpydantic-core\u001b<span style=\"font-weight: bold\">[</span>0m\u001b<span style=\"font-weight: bold\">[</span><span style=\"color: #808000; text-decoration-color: #808000\">2m</span>==<span style=\"color: #008080; text-decoration-color: #008080; font-weight: bold\">2.16</span>.<span style=\"color: #008080; text-decoration-color: #008080; font-weight: bold\">3</span> <span style=\"font-weight: bold\">(</span>from \n",
       "<span style=\"color: #0000ff; text-decoration-color: #0000ff; text-decoration: underline\">file:///home/conda/feedstock_root/build_artifacts/pydantic-core_1708700740324/work)</span>\u001b<span style=\"font-weight: bold\">[</span>0m\n",
       " \u001b<span style=\"font-weight: bold\">[</span>32m+\u001b<span style=\"font-weight: bold\">[</span>39m \u001b<span style=\"font-weight: bold\">[</span>1mpydantic-core\u001b<span style=\"font-weight: bold\">[</span>0m\u001b<span style=\"font-weight: bold\">[</span><span style=\"color: #808000; text-decoration-color: #808000\">2m</span>==<span style=\"color: #008080; text-decoration-color: #008080; font-weight: bold\">2.10</span>.<span style=\"color: #008080; text-decoration-color: #008080; font-weight: bold\">1</span>\u001b<span style=\"font-weight: bold\">[</span>0m\n",
       " \u001b<span style=\"font-weight: bold\">[</span>32m+\u001b<span style=\"font-weight: bold\">[</span>39m \u001b<span style=\"font-weight: bold\">[</span>1mpytest\u001b<span style=\"font-weight: bold\">[</span>0m\u001b<span style=\"font-weight: bold\">[</span><span style=\"color: #808000; text-decoration-color: #808000\">2m</span>==<span style=\"color: #008080; text-decoration-color: #008080; font-weight: bold\">8.3</span>.<span style=\"color: #008080; text-decoration-color: #008080; font-weight: bold\">2</span>\u001b<span style=\"font-weight: bold\">[</span>0m\n",
       " \u001b<span style=\"font-weight: bold\">[</span>32m+\u001b<span style=\"font-weight: bold\">[</span>39m \u001b<span style=\"font-weight: bold\">[</span>1mray\u001b<span style=\"font-weight: bold\">[</span>0m\u001b<span style=\"font-weight: bold\">[</span><span style=\"color: #808000; text-decoration-color: #808000\">2m</span>==<span style=\"color: #008080; text-decoration-color: #008080; font-weight: bold\">2.33</span>.<span style=\"color: #008080; text-decoration-color: #008080; font-weight: bold\">0</span>\u001b<span style=\"font-weight: bold\">[</span>0m\n",
       " \u001b<span style=\"font-weight: bold\">[</span>32m+\u001b<span style=\"font-weight: bold\">[</span>39m \u001b<span style=\"font-weight: bold\">[</span>1mregex\u001b<span style=\"font-weight: bold\">[</span>0m\u001b<span style=\"font-weight: bold\">[</span><span style=\"color: #808000; text-decoration-color: #808000\">2m</span>==<span style=\"color: #008080; text-decoration-color: #008080; font-weight: bold\">2024.7</span>.<span style=\"color: #008080; text-decoration-color: #008080; font-weight: bold\">24</span>\u001b<span style=\"font-weight: bold\">[</span>0m\n",
       " \u001b<span style=\"font-weight: bold\">[</span>32m+\u001b<span style=\"font-weight: bold\">[</span>39m \u001b<span style=\"font-weight: bold\">[</span>1msafetensors\u001b<span style=\"font-weight: bold\">[</span>0m\u001b<span style=\"font-weight: bold\">[</span><span style=\"color: #808000; text-decoration-color: #808000\">2m</span>==<span style=\"color: #008080; text-decoration-color: #008080; font-weight: bold\">0.4</span>.<span style=\"color: #008080; text-decoration-color: #008080; font-weight: bold\">3</span>\u001b<span style=\"font-weight: bold\">[</span>0m\n",
       " \u001b<span style=\"font-weight: bold\">[</span>32m+\u001b<span style=\"font-weight: bold\">[</span>39m \u001b<span style=\"font-weight: bold\">[</span>1mshapely\u001b<span style=\"font-weight: bold\">[</span>0m\u001b<span style=\"font-weight: bold\">[</span><span style=\"color: #808000; text-decoration-color: #808000\">2m</span>==<span style=\"color: #008080; text-decoration-color: #008080; font-weight: bold\">2.0</span>.<span style=\"color: #008080; text-decoration-color: #008080; font-weight: bold\">5</span>\u001b<span style=\"font-weight: bold\">[</span>0m\n",
       " \u001b<span style=\"font-weight: bold\">[</span>32m+\u001b<span style=\"font-weight: bold\">[</span>39m \u001b<span style=\"font-weight: bold\">[</span>1mshellingham\u001b<span style=\"font-weight: bold\">[</span>0m\u001b<span style=\"font-weight: bold\">[</span><span style=\"color: #808000; text-decoration-color: #808000\">2m</span>==<span style=\"color: #008080; text-decoration-color: #008080; font-weight: bold\">1.5</span>.<span style=\"color: #008080; text-decoration-color: #008080; font-weight: bold\">4</span>\u001b<span style=\"font-weight: bold\">[</span>0m\n",
       " \u001b<span style=\"font-weight: bold\">[</span>32m+\u001b<span style=\"font-weight: bold\">[</span>39m \u001b<span style=\"font-weight: bold\">[</span>1mtiktoken\u001b<span style=\"font-weight: bold\">[</span>0m\u001b<span style=\"font-weight: bold\">[</span><span style=\"color: #808000; text-decoration-color: #808000\">2m</span>==<span style=\"color: #008080; text-decoration-color: #008080; font-weight: bold\">0.7</span>.<span style=\"color: #008080; text-decoration-color: #008080; font-weight: bold\">0</span>\u001b<span style=\"font-weight: bold\">[</span>0m\n",
       " \u001b<span style=\"font-weight: bold\">[</span>32m+\u001b<span style=\"font-weight: bold\">[</span>39m \u001b<span style=\"font-weight: bold\">[</span>1mtokenizers\u001b<span style=\"font-weight: bold\">[</span>0m\u001b<span style=\"font-weight: bold\">[</span><span style=\"color: #808000; text-decoration-color: #808000\">2m</span>==<span style=\"color: #008080; text-decoration-color: #008080; font-weight: bold\">0.19</span>.<span style=\"color: #008080; text-decoration-color: #008080; font-weight: bold\">1</span>\u001b<span style=\"font-weight: bold\">[</span>0m\n",
       " \u001b<span style=\"font-weight: bold\">[</span>32m+\u001b<span style=\"font-weight: bold\">[</span>39m \u001b<span style=\"font-weight: bold\">[</span>1mtransformers\u001b<span style=\"font-weight: bold\">[</span>0m\u001b<span style=\"font-weight: bold\">[</span><span style=\"color: #808000; text-decoration-color: #808000\">2m</span>==<span style=\"color: #008080; text-decoration-color: #008080; font-weight: bold\">4.43</span>.<span style=\"color: #008080; text-decoration-color: #008080; font-weight: bold\">3</span>\u001b<span style=\"font-weight: bold\">[</span>0m\n",
       " \u001b<span style=\"font-weight: bold\">[</span>32m+\u001b<span style=\"font-weight: bold\">[</span>39m \u001b<span style=\"font-weight: bold\">[</span>1mtyper\u001b<span style=\"font-weight: bold\">[</span>0m\u001b<span style=\"font-weight: bold\">[</span><span style=\"color: #808000; text-decoration-color: #808000\">2m</span>==<span style=\"color: #008080; text-decoration-color: #008080; font-weight: bold\">0.12</span>.<span style=\"color: #008080; text-decoration-color: #008080; font-weight: bold\">3</span>\u001b<span style=\"font-weight: bold\">[</span>0m\n",
       " \u001b<span style=\"font-weight: bold\">[</span>32m+\u001b<span style=\"font-weight: bold\">[</span>39m \u001b<span style=\"font-weight: bold\">[</span>1myarl\u001b<span style=\"font-weight: bold\">[</span>0m\u001b<span style=\"font-weight: bold\">[</span><span style=\"color: #808000; text-decoration-color: #808000\">2m</span>==<span style=\"color: #008080; text-decoration-color: #008080; font-weight: bold\">1.9</span>.<span style=\"color: #008080; text-decoration-color: #008080; font-weight: bold\">4</span>\u001b<span style=\"font-weight: bold\">[</span>0m\n",
       "<span style=\"color: #008080; text-decoration-color: #008080; font-weight: bold\">2024</span>-<span style=\"color: #008080; text-decoration-color: #008080; font-weight: bold\">07</span>-<span style=\"color: #008080; text-decoration-color: #008080; font-weight: bold\">28</span> <span style=\"color: #00ff00; text-decoration-color: #00ff00; font-weight: bold\">08:40:41</span>,<span style=\"color: #008080; text-decoration-color: #008080; font-weight: bold\">610</span> INFO worker.py:<span style=\"color: #008080; text-decoration-color: #008080; font-weight: bold\">1781</span> -- Started a local Ray instance.\n",
       "You are using the default legacy behaviour of the <span style=\"font-weight: bold\">&lt;</span><span style=\"color: #ff00ff; text-decoration-color: #ff00ff; font-weight: bold\">class</span><span style=\"color: #000000; text-decoration-color: #000000\"> </span>\n",
       "<span style=\"color: #008000; text-decoration-color: #008000\">'transformers.models.llama.tokenization_llama_fast.LlamaTokenizerFast'</span><span style=\"color: #000000; text-decoration-color: #000000\">&gt;. This is expected, and simply means that </span>\n",
       "<span style=\"color: #000000; text-decoration-color: #000000\">the `legacy` </span><span style=\"color: #000000; text-decoration-color: #000000; font-weight: bold\">(</span><span style=\"color: #000000; text-decoration-color: #000000\">previous</span><span style=\"color: #000000; text-decoration-color: #000000; font-weight: bold\">)</span><span style=\"color: #000000; text-decoration-color: #000000\"> behavior will be used so nothing changes for you. If you want to use the new behaviour, set</span>\n",
       "<span style=\"color: #000000; text-decoration-color: #000000\">`</span><span style=\"color: #808000; text-decoration-color: #808000\">legacy</span><span style=\"color: #000000; text-decoration-color: #000000\">=</span><span style=\"color: #ff0000; text-decoration-color: #ff0000; font-style: italic\">False</span><span style=\"color: #000000; text-decoration-color: #000000\">`. This should only be set if you understand what it means, and thoroughly read the reason why this </span>\n",
       "<span style=\"color: #000000; text-decoration-color: #000000\">was added as explained in </span><span style=\"color: #0000ff; text-decoration-color: #0000ff; text-decoration: underline\">https://github.com/huggingface/transformers/pull/24565</span><span style=\"color: #000000; text-decoration-color: #000000\"> - if you loaded a llama tokenizer </span>\n",
       "<span style=\"color: #000000; text-decoration-color: #000000\">from a GGUF file you can ignore this message.</span>\n",
       "<span style=\"color: #000000; text-decoration-color: #000000\">  </span><span style=\"color: #008080; text-decoration-color: #008080; font-weight: bold\">0</span><span style=\"color: #000000; text-decoration-color: #000000\">%|          | </span><span style=\"color: #008080; text-decoration-color: #008080; font-weight: bold\">0</span><span style=\"color: #000000; text-decoration-color: #000000\">/</span><span style=\"color: #008080; text-decoration-color: #008080; font-weight: bold\">1000</span><span style=\"color: #000000; text-decoration-color: #000000\"> </span><span style=\"color: #000000; text-decoration-color: #000000; font-weight: bold\">[</span><span style=\"color: #00ff00; text-decoration-color: #00ff00; font-weight: bold\">00:00</span><span style=\"color: #000000; text-decoration-color: #000000\">&lt;?, ?it/s</span><span style=\"color: #000000; text-decoration-color: #000000; font-weight: bold\">]</span><span style=\"color: #000000; text-decoration-color: #000000\">  </span><span style=\"color: #008080; text-decoration-color: #008080; font-weight: bold\">0</span><span style=\"color: #000000; text-decoration-color: #000000\">%|          | </span><span style=\"color: #008080; text-decoration-color: #008080; font-weight: bold\">0</span><span style=\"color: #000000; text-decoration-color: #000000\">/</span><span style=\"color: #008080; text-decoration-color: #008080; font-weight: bold\">1000</span><span style=\"color: #000000; text-decoration-color: #000000\"> </span><span style=\"color: #000000; text-decoration-color: #000000; font-weight: bold\">[</span><span style=\"color: #00ff00; text-decoration-color: #00ff00; font-weight: bold\">00:00</span><span style=\"color: #000000; text-decoration-color: #000000\">&lt;?, ?it/s</span><span style=\"color: #000000; text-decoration-color: #000000; font-weight: bold\">]</span><span style=\"color: #000000; text-decoration-color: #000000\">  </span><span style=\"color: #008080; text-decoration-color: #008080; font-weight: bold\">0</span><span style=\"color: #000000; text-decoration-color: #000000\">%|          | </span><span style=\"color: #008080; text-decoration-color: #008080; font-weight: bold\">0</span><span style=\"color: #000000; text-decoration-color: #000000\">/</span><span style=\"color: #008080; text-decoration-color: #008080; font-weight: bold\">1000</span><span style=\"color: #000000; text-decoration-color: #000000\"> </span><span style=\"color: #000000; text-decoration-color: #000000; font-weight: bold\">[</span><span style=\"color: #00ff00; text-decoration-color: #00ff00; font-weight: bold\">00:00</span><span style=\"color: #000000; text-decoration-color: #000000\">&lt;?, </span>\n",
       "<span style=\"color: #000000; text-decoration-color: #000000\">?it/s</span><span style=\"color: #000000; text-decoration-color: #000000; font-weight: bold\">]</span><span style=\"color: #000000; text-decoration-color: #000000\">  </span><span style=\"color: #008080; text-decoration-color: #008080; font-weight: bold\">0</span><span style=\"color: #000000; text-decoration-color: #000000\">%|          | </span><span style=\"color: #008080; text-decoration-color: #008080; font-weight: bold\">0</span><span style=\"color: #000000; text-decoration-color: #000000\">/</span><span style=\"color: #008080; text-decoration-color: #008080; font-weight: bold\">1000</span><span style=\"color: #000000; text-decoration-color: #000000\"> </span><span style=\"color: #000000; text-decoration-color: #000000; font-weight: bold\">[</span><span style=\"color: #00ff00; text-decoration-color: #00ff00; font-weight: bold\">00:00</span><span style=\"color: #000000; text-decoration-color: #000000\">&lt;?, ?it/s</span><span style=\"color: #000000; text-decoration-color: #000000; font-weight: bold\">]</span><span style=\"color: #000000; text-decoration-color: #000000\">  </span><span style=\"color: #008080; text-decoration-color: #008080; font-weight: bold\">0</span><span style=\"color: #000000; text-decoration-color: #000000\">%|          | </span><span style=\"color: #008080; text-decoration-color: #008080; font-weight: bold\">0</span><span style=\"color: #000000; text-decoration-color: #000000\">/</span><span style=\"color: #008080; text-decoration-color: #008080; font-weight: bold\">1000</span><span style=\"color: #000000; text-decoration-color: #000000\"> </span><span style=\"color: #000000; text-decoration-color: #000000; font-weight: bold\">[</span><span style=\"color: #00ff00; text-decoration-color: #00ff00; font-weight: bold\">00:00</span><span style=\"color: #000000; text-decoration-color: #000000\">&lt;?, ?it/s</span><span style=\"color: #000000; text-decoration-color: #000000; font-weight: bold\">]</span><span style=\"color: #000000; text-decoration-color: #000000\">  </span><span style=\"color: #008080; text-decoration-color: #008080; font-weight: bold\">0</span><span style=\"color: #000000; text-decoration-color: #000000\">%|          | </span><span style=\"color: #008080; text-decoration-color: #008080; font-weight: bold\">0</span><span style=\"color: #000000; text-decoration-color: #000000\">/</span><span style=\"color: #008080; text-decoration-color: #008080; font-weight: bold\">1000</span><span style=\"color: #000000; text-decoration-color: #000000\"> </span>\n",
       "<span style=\"color: #000000; text-decoration-color: #000000; font-weight: bold\">[</span><span style=\"color: #00ff00; text-decoration-color: #00ff00; font-weight: bold\">00:00</span><span style=\"color: #000000; text-decoration-color: #000000\">&lt;?, ?it/s</span><span style=\"color: #000000; text-decoration-color: #000000; font-weight: bold\">]</span><span style=\"color: #000000; text-decoration-color: #000000\">  </span><span style=\"color: #008080; text-decoration-color: #008080; font-weight: bold\">0</span><span style=\"color: #000000; text-decoration-color: #000000\">%|          | </span><span style=\"color: #008080; text-decoration-color: #008080; font-weight: bold\">0</span><span style=\"color: #000000; text-decoration-color: #000000\">/</span><span style=\"color: #008080; text-decoration-color: #008080; font-weight: bold\">1000</span><span style=\"color: #000000; text-decoration-color: #000000\"> </span><span style=\"color: #000000; text-decoration-color: #000000; font-weight: bold\">[</span><span style=\"color: #00ff00; text-decoration-color: #00ff00; font-weight: bold\">00:01</span><span style=\"color: #000000; text-decoration-color: #000000\">&lt;?, ?it/s</span><span style=\"color: #000000; text-decoration-color: #000000; font-weight: bold\">]</span><span style=\"color: #000000; text-decoration-color: #000000\">  </span><span style=\"color: #008080; text-decoration-color: #008080; font-weight: bold\">0</span><span style=\"color: #000000; text-decoration-color: #000000\">%|          | </span><span style=\"color: #008080; text-decoration-color: #008080; font-weight: bold\">0</span><span style=\"color: #000000; text-decoration-color: #000000\">/</span><span style=\"color: #008080; text-decoration-color: #008080; font-weight: bold\">1000</span><span style=\"color: #000000; text-decoration-color: #000000\"> </span><span style=\"color: #000000; text-decoration-color: #000000; font-weight: bold\">[</span><span style=\"color: #00ff00; text-decoration-color: #00ff00; font-weight: bold\">00:01</span><span style=\"color: #000000; text-decoration-color: #000000\">&lt;?, ?it/s</span><span style=\"color: #000000; text-decoration-color: #000000; font-weight: bold\">]</span><span style=\"color: #000000; text-decoration-color: #000000\">  </span><span style=\"color: #008080; text-decoration-color: #008080; font-weight: bold\">0</span><span style=\"color: #000000; text-decoration-color: #000000\">%|          | </span>\n",
       "<span style=\"color: #008080; text-decoration-color: #008080; font-weight: bold\">0</span><span style=\"color: #000000; text-decoration-color: #000000\">/</span><span style=\"color: #008080; text-decoration-color: #008080; font-weight: bold\">1000</span><span style=\"color: #000000; text-decoration-color: #000000\"> </span><span style=\"color: #000000; text-decoration-color: #000000; font-weight: bold\">[</span><span style=\"color: #00ff00; text-decoration-color: #00ff00; font-weight: bold\">00:01</span><span style=\"color: #000000; text-decoration-color: #000000\">&lt;?, ?it/s</span><span style=\"color: #000000; text-decoration-color: #000000; font-weight: bold\">]</span><span style=\"color: #000000; text-decoration-color: #000000\">  </span><span style=\"color: #008080; text-decoration-color: #008080; font-weight: bold\">0</span><span style=\"color: #000000; text-decoration-color: #000000\">%|          | </span><span style=\"color: #008080; text-decoration-color: #008080; font-weight: bold\">0</span><span style=\"color: #000000; text-decoration-color: #000000\">/</span><span style=\"color: #008080; text-decoration-color: #008080; font-weight: bold\">1000</span><span style=\"color: #000000; text-decoration-color: #000000\"> </span><span style=\"color: #000000; text-decoration-color: #000000; font-weight: bold\">[</span><span style=\"color: #00ff00; text-decoration-color: #00ff00; font-weight: bold\">00:01</span><span style=\"color: #000000; text-decoration-color: #000000\">&lt;?, ?it/s</span><span style=\"color: #000000; text-decoration-color: #000000; font-weight: bold\">]</span><span style=\"color: #000000; text-decoration-color: #000000\">  </span><span style=\"color: #008080; text-decoration-color: #008080; font-weight: bold\">0</span><span style=\"color: #000000; text-decoration-color: #000000\">%|          | </span><span style=\"color: #008080; text-decoration-color: #008080; font-weight: bold\">0</span><span style=\"color: #000000; text-decoration-color: #000000\">/</span><span style=\"color: #008080; text-decoration-color: #008080; font-weight: bold\">1000</span><span style=\"color: #000000; text-decoration-color: #000000\"> </span><span style=\"color: #000000; text-decoration-color: #000000; font-weight: bold\">[</span><span style=\"color: #00ff00; text-decoration-color: #00ff00; font-weight: bold\">00:01</span><span style=\"color: #000000; text-decoration-color: #000000\">&lt;?, ?it/s</span><span style=\"color: #000000; text-decoration-color: #000000; font-weight: bold\">]</span><span style=\"color: #000000; text-decoration-color: #000000\">  </span><span style=\"color: #008080; text-decoration-color: #008080; font-weight: bold\">0</span><span style=\"color: #000000; text-decoration-color: #000000\">%|       </span>\n",
       "<span style=\"color: #000000; text-decoration-color: #000000\">| </span><span style=\"color: #008080; text-decoration-color: #008080; font-weight: bold\">0</span><span style=\"color: #000000; text-decoration-color: #000000\">/</span><span style=\"color: #008080; text-decoration-color: #008080; font-weight: bold\">1000</span><span style=\"color: #000000; text-decoration-color: #000000\"> </span><span style=\"color: #000000; text-decoration-color: #000000; font-weight: bold\">[</span><span style=\"color: #00ff00; text-decoration-color: #00ff00; font-weight: bold\">00:01</span><span style=\"color: #000000; text-decoration-color: #000000\">&lt;?, ?it/s</span><span style=\"color: #000000; text-decoration-color: #000000; font-weight: bold\">]</span><span style=\"color: #000000; text-decoration-color: #000000\">  </span><span style=\"color: #008080; text-decoration-color: #008080; font-weight: bold\">0</span><span style=\"color: #000000; text-decoration-color: #000000\">%|          | </span><span style=\"color: #008080; text-decoration-color: #008080; font-weight: bold\">0</span><span style=\"color: #000000; text-decoration-color: #000000\">/</span><span style=\"color: #008080; text-decoration-color: #008080; font-weight: bold\">1000</span><span style=\"color: #000000; text-decoration-color: #000000\"> </span><span style=\"color: #000000; text-decoration-color: #000000; font-weight: bold\">[</span><span style=\"color: #00ff00; text-decoration-color: #00ff00; font-weight: bold\">00:02</span><span style=\"color: #000000; text-decoration-color: #000000\">&lt;?, ?it/s</span><span style=\"color: #000000; text-decoration-color: #000000; font-weight: bold\">]</span><span style=\"color: #000000; text-decoration-color: #000000\">  </span><span style=\"color: #008080; text-decoration-color: #008080; font-weight: bold\">0</span><span style=\"color: #000000; text-decoration-color: #000000\">%|          | </span><span style=\"color: #008080; text-decoration-color: #008080; font-weight: bold\">0</span><span style=\"color: #000000; text-decoration-color: #000000\">/</span><span style=\"color: #008080; text-decoration-color: #008080; font-weight: bold\">1000</span><span style=\"color: #000000; text-decoration-color: #000000\"> </span><span style=\"color: #000000; text-decoration-color: #000000; font-weight: bold\">[</span><span style=\"color: #00ff00; text-decoration-color: #00ff00; font-weight: bold\">00:02</span><span style=\"color: #000000; text-decoration-color: #000000\">&lt;?, ?it/s</span><span style=\"color: #000000; text-decoration-color: #000000; font-weight: bold\">]</span><span style=\"color: #000000; text-decoration-color: #000000\">  </span><span style=\"color: #008080; text-decoration-color: #008080; font-weight: bold\">0</span><span style=\"color: #000000; text-decoration-color: #000000\">%|     </span>\n",
       "<span style=\"color: #000000; text-decoration-color: #000000\">| </span><span style=\"color: #008080; text-decoration-color: #008080; font-weight: bold\">0</span><span style=\"color: #000000; text-decoration-color: #000000\">/</span><span style=\"color: #008080; text-decoration-color: #008080; font-weight: bold\">1000</span><span style=\"color: #000000; text-decoration-color: #000000\"> </span><span style=\"color: #000000; text-decoration-color: #000000; font-weight: bold\">[</span><span style=\"color: #00ff00; text-decoration-color: #00ff00; font-weight: bold\">00:02</span><span style=\"color: #000000; text-decoration-color: #000000\">&lt;?, ?it/s</span><span style=\"color: #000000; text-decoration-color: #000000; font-weight: bold\">]</span><span style=\"color: #000000; text-decoration-color: #000000\">  </span><span style=\"color: #008080; text-decoration-color: #008080; font-weight: bold\">0</span><span style=\"color: #000000; text-decoration-color: #000000\">%|          | </span><span style=\"color: #008080; text-decoration-color: #008080; font-weight: bold\">0</span><span style=\"color: #000000; text-decoration-color: #000000\">/</span><span style=\"color: #008080; text-decoration-color: #008080; font-weight: bold\">1000</span><span style=\"color: #000000; text-decoration-color: #000000\"> </span><span style=\"color: #000000; text-decoration-color: #000000; font-weight: bold\">[</span><span style=\"color: #00ff00; text-decoration-color: #00ff00; font-weight: bold\">00:02</span><span style=\"color: #000000; text-decoration-color: #000000\">&lt;?, ?it/s</span><span style=\"color: #000000; text-decoration-color: #000000; font-weight: bold\">]</span><span style=\"color: #000000; text-decoration-color: #000000\">  </span><span style=\"color: #008080; text-decoration-color: #008080; font-weight: bold\">0</span><span style=\"color: #000000; text-decoration-color: #000000\">%|          | </span><span style=\"color: #008080; text-decoration-color: #008080; font-weight: bold\">0</span><span style=\"color: #000000; text-decoration-color: #000000\">/</span><span style=\"color: #008080; text-decoration-color: #008080; font-weight: bold\">1000</span><span style=\"color: #000000; text-decoration-color: #000000\"> </span><span style=\"color: #000000; text-decoration-color: #000000; font-weight: bold\">[</span><span style=\"color: #00ff00; text-decoration-color: #00ff00; font-weight: bold\">00:02</span><span style=\"color: #000000; text-decoration-color: #000000\">&lt;?, ?it/s</span><span style=\"color: #000000; text-decoration-color: #000000; font-weight: bold\">]</span><span style=\"color: #000000; text-decoration-color: #000000\">  </span><span style=\"color: #008080; text-decoration-color: #008080; font-weight: bold\">0</span><span style=\"color: #000000; text-decoration-color: #000000\">%|     </span>\n",
       "<span style=\"color: #000000; text-decoration-color: #000000\">| </span><span style=\"color: #008080; text-decoration-color: #008080; font-weight: bold\">0</span><span style=\"color: #000000; text-decoration-color: #000000\">/</span><span style=\"color: #008080; text-decoration-color: #008080; font-weight: bold\">1000</span><span style=\"color: #000000; text-decoration-color: #000000\"> </span><span style=\"color: #000000; text-decoration-color: #000000; font-weight: bold\">[</span><span style=\"color: #00ff00; text-decoration-color: #00ff00; font-weight: bold\">00:02</span><span style=\"color: #000000; text-decoration-color: #000000\">&lt;?, ?it/s</span><span style=\"color: #000000; text-decoration-color: #000000; font-weight: bold\">]</span><span style=\"color: #000000; text-decoration-color: #000000\">  </span><span style=\"color: #008080; text-decoration-color: #008080; font-weight: bold\">0</span><span style=\"color: #000000; text-decoration-color: #000000\">%|          | </span><span style=\"color: #008080; text-decoration-color: #008080; font-weight: bold\">0</span><span style=\"color: #000000; text-decoration-color: #000000\">/</span><span style=\"color: #008080; text-decoration-color: #008080; font-weight: bold\">1000</span><span style=\"color: #000000; text-decoration-color: #000000\"> </span><span style=\"color: #000000; text-decoration-color: #000000; font-weight: bold\">[</span><span style=\"color: #00ff00; text-decoration-color: #00ff00; font-weight: bold\">00:02</span><span style=\"color: #000000; text-decoration-color: #000000\">&lt;?, ?it/s</span><span style=\"color: #000000; text-decoration-color: #000000; font-weight: bold\">]</span><span style=\"color: #000000; text-decoration-color: #000000\">  </span><span style=\"color: #008080; text-decoration-color: #008080; font-weight: bold\">0</span><span style=\"color: #000000; text-decoration-color: #000000\">%|          | </span><span style=\"color: #008080; text-decoration-color: #008080; font-weight: bold\">0</span><span style=\"color: #000000; text-decoration-color: #000000\">/</span><span style=\"color: #008080; text-decoration-color: #008080; font-weight: bold\">1000</span><span style=\"color: #000000; text-decoration-color: #000000\"> </span><span style=\"color: #000000; text-decoration-color: #000000; font-weight: bold\">[</span><span style=\"color: #00ff00; text-decoration-color: #00ff00; font-weight: bold\">00:03</span><span style=\"color: #000000; text-decoration-color: #000000\">&lt;?, ?it/s</span><span style=\"color: #000000; text-decoration-color: #000000; font-weight: bold\">]</span><span style=\"color: #000000; text-decoration-color: #000000\">  </span><span style=\"color: #008080; text-decoration-color: #008080; font-weight: bold\">0</span><span style=\"color: #000000; text-decoration-color: #000000\">%|     </span>\n",
       "<span style=\"color: #000000; text-decoration-color: #000000\">| </span><span style=\"color: #008080; text-decoration-color: #008080; font-weight: bold\">0</span><span style=\"color: #000000; text-decoration-color: #000000\">/</span><span style=\"color: #008080; text-decoration-color: #008080; font-weight: bold\">1000</span><span style=\"color: #000000; text-decoration-color: #000000\"> </span><span style=\"color: #000000; text-decoration-color: #000000; font-weight: bold\">[</span><span style=\"color: #00ff00; text-decoration-color: #00ff00; font-weight: bold\">00:03</span><span style=\"color: #000000; text-decoration-color: #000000\">&lt;?, ?it/s</span><span style=\"color: #000000; text-decoration-color: #000000; font-weight: bold\">]</span><span style=\"color: #000000; text-decoration-color: #000000\">  </span><span style=\"color: #008080; text-decoration-color: #008080; font-weight: bold\">0</span><span style=\"color: #000000; text-decoration-color: #000000\">%|          | </span><span style=\"color: #008080; text-decoration-color: #008080; font-weight: bold\">0</span><span style=\"color: #000000; text-decoration-color: #000000\">/</span><span style=\"color: #008080; text-decoration-color: #008080; font-weight: bold\">1000</span><span style=\"color: #000000; text-decoration-color: #000000\"> </span><span style=\"color: #000000; text-decoration-color: #000000; font-weight: bold\">[</span><span style=\"color: #00ff00; text-decoration-color: #00ff00; font-weight: bold\">00:03</span><span style=\"color: #000000; text-decoration-color: #000000\">&lt;?, ?it/s</span><span style=\"color: #000000; text-decoration-color: #000000; font-weight: bold\">]</span><span style=\"color: #000000; text-decoration-color: #000000\">  </span><span style=\"color: #008080; text-decoration-color: #008080; font-weight: bold\">0</span><span style=\"color: #000000; text-decoration-color: #000000\">%|          | </span><span style=\"color: #008080; text-decoration-color: #008080; font-weight: bold\">0</span><span style=\"color: #000000; text-decoration-color: #000000\">/</span><span style=\"color: #008080; text-decoration-color: #008080; font-weight: bold\">1000</span><span style=\"color: #000000; text-decoration-color: #000000\"> </span><span style=\"color: #000000; text-decoration-color: #000000; font-weight: bold\">[</span><span style=\"color: #00ff00; text-decoration-color: #00ff00; font-weight: bold\">00:03</span><span style=\"color: #000000; text-decoration-color: #000000\">&lt;?, ?it/s</span><span style=\"color: #000000; text-decoration-color: #000000; font-weight: bold\">]</span><span style=\"color: #000000; text-decoration-color: #000000\">  </span><span style=\"color: #008080; text-decoration-color: #008080; font-weight: bold\">0</span><span style=\"color: #000000; text-decoration-color: #000000\">%|     </span>\n",
       "<span style=\"color: #000000; text-decoration-color: #000000\">| </span><span style=\"color: #008080; text-decoration-color: #008080; font-weight: bold\">0</span><span style=\"color: #000000; text-decoration-color: #000000\">/</span><span style=\"color: #008080; text-decoration-color: #008080; font-weight: bold\">1000</span><span style=\"color: #000000; text-decoration-color: #000000\"> </span><span style=\"color: #000000; text-decoration-color: #000000; font-weight: bold\">[</span><span style=\"color: #00ff00; text-decoration-color: #00ff00; font-weight: bold\">00:03</span><span style=\"color: #000000; text-decoration-color: #000000\">&lt;?, ?it/s</span><span style=\"color: #000000; text-decoration-color: #000000; font-weight: bold\">]</span><span style=\"color: #000000; text-decoration-color: #000000\">\u001b</span><span style=\"color: #000000; text-decoration-color: #000000; font-weight: bold\">[</span><span style=\"color: #800080; text-decoration-color: #800080; font-weight: bold\">36m</span><span style=\"color: #000000; text-decoration-color: #000000; font-weight: bold\">(</span><span style=\"color: #000000; text-decoration-color: #000000\">SageMakerClient </span><span style=\"color: #808000; text-decoration-color: #808000\">pid</span><span style=\"color: #000000; text-decoration-color: #000000\">=</span><span style=\"color: #008080; text-decoration-color: #008080; font-weight: bold\">22557</span><span style=\"color: #000000; text-decoration-color: #000000; font-weight: bold\">)</span><span style=\"color: #000000; text-decoration-color: #000000\">\u001b</span><span style=\"color: #000000; text-decoration-color: #000000; font-weight: bold\">[</span><span style=\"color: #000000; text-decoration-color: #000000\">0m You are using the default legacy behaviour of the </span>\n",
       "<span style=\"color: #000000; text-decoration-color: #000000\">&lt;class </span><span style=\"color: #008000; text-decoration-color: #008000\">'transformers.models.llama.tokenization_llama_fast.LlamaTokenizerFast'</span><span style=\"color: #000000; text-decoration-color: #000000\">&gt;. This is expected, and simply means </span>\n",
       "<span style=\"color: #000000; text-decoration-color: #000000\">that the `legacy` </span><span style=\"color: #000000; text-decoration-color: #000000; font-weight: bold\">(</span><span style=\"color: #000000; text-decoration-color: #000000\">previous</span><span style=\"color: #000000; text-decoration-color: #000000; font-weight: bold\">)</span><span style=\"color: #000000; text-decoration-color: #000000\"> behavior will be used so nothing changes for you. If you want to use the new </span>\n",
       "<span style=\"color: #000000; text-decoration-color: #000000\">behaviour, set `</span><span style=\"color: #808000; text-decoration-color: #808000\">legacy</span><span style=\"color: #000000; text-decoration-color: #000000\">=</span><span style=\"color: #ff0000; text-decoration-color: #ff0000; font-style: italic\">False</span><span style=\"color: #000000; text-decoration-color: #000000\">`. This should only be set if you understand what it means, and thoroughly read the </span>\n",
       "<span style=\"color: #000000; text-decoration-color: #000000\">reason why this was added as explained in </span><span style=\"color: #0000ff; text-decoration-color: #0000ff; text-decoration: underline\">https://github.com/huggingface/transformers/pull/24565</span><span style=\"color: #000000; text-decoration-color: #000000\"> - if you loaded a </span>\n",
       "<span style=\"color: #000000; text-decoration-color: #000000\">llama tokenizer from a GGUF file you can ignore this message.</span>\n",
       "<span style=\"color: #000000; text-decoration-color: #000000\">  </span><span style=\"color: #008080; text-decoration-color: #008080; font-weight: bold\">0</span><span style=\"color: #000000; text-decoration-color: #000000\">%|          | </span><span style=\"color: #008080; text-decoration-color: #008080; font-weight: bold\">0</span><span style=\"color: #000000; text-decoration-color: #000000\">/</span><span style=\"color: #008080; text-decoration-color: #008080; font-weight: bold\">1000</span><span style=\"color: #000000; text-decoration-color: #000000\"> </span><span style=\"color: #000000; text-decoration-color: #000000; font-weight: bold\">[</span><span style=\"color: #00ff00; text-decoration-color: #00ff00; font-weight: bold\">00:03</span><span style=\"color: #000000; text-decoration-color: #000000\">&lt;?, ?it/s</span><span style=\"color: #000000; text-decoration-color: #000000; font-weight: bold\">]</span><span style=\"color: #000000; text-decoration-color: #000000\">  </span><span style=\"color: #008080; text-decoration-color: #008080; font-weight: bold\">0</span><span style=\"color: #000000; text-decoration-color: #000000\">%|          | </span><span style=\"color: #008080; text-decoration-color: #008080; font-weight: bold\">0</span><span style=\"color: #000000; text-decoration-color: #000000\">/</span><span style=\"color: #008080; text-decoration-color: #008080; font-weight: bold\">1000</span><span style=\"color: #000000; text-decoration-color: #000000\"> </span><span style=\"color: #000000; text-decoration-color: #000000; font-weight: bold\">[</span><span style=\"color: #00ff00; text-decoration-color: #00ff00; font-weight: bold\">00:04</span><span style=\"color: #000000; text-decoration-color: #000000\">&lt;?, ?it/s</span><span style=\"color: #000000; text-decoration-color: #000000; font-weight: bold\">]</span><span style=\"color: #000000; text-decoration-color: #000000\">  </span><span style=\"color: #008080; text-decoration-color: #008080; font-weight: bold\">0</span><span style=\"color: #000000; text-decoration-color: #000000\">%|          | </span><span style=\"color: #008080; text-decoration-color: #008080; font-weight: bold\">0</span><span style=\"color: #000000; text-decoration-color: #000000\">/</span><span style=\"color: #008080; text-decoration-color: #008080; font-weight: bold\">1000</span><span style=\"color: #000000; text-decoration-color: #000000\"> </span><span style=\"color: #000000; text-decoration-color: #000000; font-weight: bold\">[</span><span style=\"color: #00ff00; text-decoration-color: #00ff00; font-weight: bold\">00:04</span><span style=\"color: #000000; text-decoration-color: #000000\">&lt;?, </span>\n",
       "<span style=\"color: #000000; text-decoration-color: #000000\">?it/s</span><span style=\"color: #000000; text-decoration-color: #000000; font-weight: bold\">]</span><span style=\"color: #000000; text-decoration-color: #000000\">  </span><span style=\"color: #008080; text-decoration-color: #008080; font-weight: bold\">0</span><span style=\"color: #000000; text-decoration-color: #000000\">%|          | </span><span style=\"color: #008080; text-decoration-color: #008080; font-weight: bold\">0</span><span style=\"color: #000000; text-decoration-color: #000000\">/</span><span style=\"color: #008080; text-decoration-color: #008080; font-weight: bold\">1000</span><span style=\"color: #000000; text-decoration-color: #000000\"> </span><span style=\"color: #000000; text-decoration-color: #000000; font-weight: bold\">[</span><span style=\"color: #00ff00; text-decoration-color: #00ff00; font-weight: bold\">00:04</span><span style=\"color: #000000; text-decoration-color: #000000\">&lt;?, ?it/s</span><span style=\"color: #000000; text-decoration-color: #000000; font-weight: bold\">]</span><span style=\"color: #000000; text-decoration-color: #000000\">  </span><span style=\"color: #008080; text-decoration-color: #008080; font-weight: bold\">0</span><span style=\"color: #000000; text-decoration-color: #000000\">%|          | </span><span style=\"color: #008080; text-decoration-color: #008080; font-weight: bold\">0</span><span style=\"color: #000000; text-decoration-color: #000000\">/</span><span style=\"color: #008080; text-decoration-color: #008080; font-weight: bold\">1000</span><span style=\"color: #000000; text-decoration-color: #000000\"> </span><span style=\"color: #000000; text-decoration-color: #000000; font-weight: bold\">[</span><span style=\"color: #00ff00; text-decoration-color: #00ff00; font-weight: bold\">00:04</span><span style=\"color: #000000; text-decoration-color: #000000\">&lt;?, ?it/s</span><span style=\"color: #000000; text-decoration-color: #000000; font-weight: bold\">]</span><span style=\"color: #000000; text-decoration-color: #000000\">  </span><span style=\"color: #008080; text-decoration-color: #008080; font-weight: bold\">0</span><span style=\"color: #000000; text-decoration-color: #000000\">%|          | </span><span style=\"color: #008080; text-decoration-color: #008080; font-weight: bold\">0</span><span style=\"color: #000000; text-decoration-color: #000000\">/</span><span style=\"color: #008080; text-decoration-color: #008080; font-weight: bold\">1000</span><span style=\"color: #000000; text-decoration-color: #000000\"> </span>\n",
       "<span style=\"color: #000000; text-decoration-color: #000000; font-weight: bold\">[</span><span style=\"color: #00ff00; text-decoration-color: #00ff00; font-weight: bold\">00:04</span><span style=\"color: #000000; text-decoration-color: #000000\">&lt;?, ?it/s</span><span style=\"color: #000000; text-decoration-color: #000000; font-weight: bold\">]</span><span style=\"color: #000000; text-decoration-color: #000000\">  </span><span style=\"color: #008080; text-decoration-color: #008080; font-weight: bold\">0</span><span style=\"color: #000000; text-decoration-color: #000000\">%|          | </span><span style=\"color: #008080; text-decoration-color: #008080; font-weight: bold\">0</span><span style=\"color: #000000; text-decoration-color: #000000\">/</span><span style=\"color: #008080; text-decoration-color: #008080; font-weight: bold\">1000</span><span style=\"color: #000000; text-decoration-color: #000000\"> </span><span style=\"color: #000000; text-decoration-color: #000000; font-weight: bold\">[</span><span style=\"color: #00ff00; text-decoration-color: #00ff00; font-weight: bold\">00:05</span><span style=\"color: #000000; text-decoration-color: #000000\">&lt;?, ?it/s</span><span style=\"color: #000000; text-decoration-color: #000000; font-weight: bold\">]</span><span style=\"color: #000000; text-decoration-color: #000000\">  </span><span style=\"color: #008080; text-decoration-color: #008080; font-weight: bold\">0</span><span style=\"color: #000000; text-decoration-color: #000000\">%|          | </span><span style=\"color: #008080; text-decoration-color: #008080; font-weight: bold\">0</span><span style=\"color: #000000; text-decoration-color: #000000\">/</span><span style=\"color: #008080; text-decoration-color: #008080; font-weight: bold\">1000</span><span style=\"color: #000000; text-decoration-color: #000000\"> </span><span style=\"color: #000000; text-decoration-color: #000000; font-weight: bold\">[</span><span style=\"color: #00ff00; text-decoration-color: #00ff00; font-weight: bold\">00:05</span><span style=\"color: #000000; text-decoration-color: #000000\">&lt;?, ?it/s</span><span style=\"color: #000000; text-decoration-color: #000000; font-weight: bold\">]</span><span style=\"color: #000000; text-decoration-color: #000000\">  </span><span style=\"color: #008080; text-decoration-color: #008080; font-weight: bold\">0</span><span style=\"color: #000000; text-decoration-color: #000000\">%|          | </span>\n",
       "<span style=\"color: #008080; text-decoration-color: #008080; font-weight: bold\">0</span><span style=\"color: #000000; text-decoration-color: #000000\">/</span><span style=\"color: #008080; text-decoration-color: #008080; font-weight: bold\">1000</span><span style=\"color: #000000; text-decoration-color: #000000\"> </span><span style=\"color: #000000; text-decoration-color: #000000; font-weight: bold\">[</span><span style=\"color: #00ff00; text-decoration-color: #00ff00; font-weight: bold\">00:05</span><span style=\"color: #000000; text-decoration-color: #000000\">&lt;?, ?it/s</span><span style=\"color: #000000; text-decoration-color: #000000; font-weight: bold\">]</span><span style=\"color: #000000; text-decoration-color: #000000\">  </span><span style=\"color: #008080; text-decoration-color: #008080; font-weight: bold\">0</span><span style=\"color: #000000; text-decoration-color: #000000\">%|          | </span><span style=\"color: #008080; text-decoration-color: #008080; font-weight: bold\">0</span><span style=\"color: #000000; text-decoration-color: #000000\">/</span><span style=\"color: #008080; text-decoration-color: #008080; font-weight: bold\">1000</span><span style=\"color: #000000; text-decoration-color: #000000\"> </span><span style=\"color: #000000; text-decoration-color: #000000; font-weight: bold\">[</span><span style=\"color: #00ff00; text-decoration-color: #00ff00; font-weight: bold\">00:05</span><span style=\"color: #000000; text-decoration-color: #000000\">&lt;?, ?it/s</span><span style=\"color: #000000; text-decoration-color: #000000; font-weight: bold\">]</span><span style=\"color: #000000; text-decoration-color: #000000\">  </span><span style=\"color: #008080; text-decoration-color: #008080; font-weight: bold\">0</span><span style=\"color: #000000; text-decoration-color: #000000\">%|          | </span><span style=\"color: #008080; text-decoration-color: #008080; font-weight: bold\">0</span><span style=\"color: #000000; text-decoration-color: #000000\">/</span><span style=\"color: #008080; text-decoration-color: #008080; font-weight: bold\">1000</span><span style=\"color: #000000; text-decoration-color: #000000\"> </span><span style=\"color: #000000; text-decoration-color: #000000; font-weight: bold\">[</span><span style=\"color: #00ff00; text-decoration-color: #00ff00; font-weight: bold\">00:05</span><span style=\"color: #000000; text-decoration-color: #000000\">&lt;?, ?it/s</span><span style=\"color: #000000; text-decoration-color: #000000; font-weight: bold\">]</span><span style=\"color: #000000; text-decoration-color: #000000\">  </span><span style=\"color: #008080; text-decoration-color: #008080; font-weight: bold\">0</span><span style=\"color: #000000; text-decoration-color: #000000\">%|       </span>\n",
       "<span style=\"color: #000000; text-decoration-color: #000000\">| </span><span style=\"color: #008080; text-decoration-color: #008080; font-weight: bold\">0</span><span style=\"color: #000000; text-decoration-color: #000000\">/</span><span style=\"color: #008080; text-decoration-color: #008080; font-weight: bold\">1000</span><span style=\"color: #000000; text-decoration-color: #000000\"> </span><span style=\"color: #000000; text-decoration-color: #000000; font-weight: bold\">[</span><span style=\"color: #00ff00; text-decoration-color: #00ff00; font-weight: bold\">00:05</span><span style=\"color: #000000; text-decoration-color: #000000\">&lt;?, ?it/s</span><span style=\"color: #000000; text-decoration-color: #000000; font-weight: bold\">]</span><span style=\"color: #000000; text-decoration-color: #000000\">  </span><span style=\"color: #008080; text-decoration-color: #008080; font-weight: bold\">0</span><span style=\"color: #000000; text-decoration-color: #000000\">%|          | </span><span style=\"color: #008080; text-decoration-color: #008080; font-weight: bold\">0</span><span style=\"color: #000000; text-decoration-color: #000000\">/</span><span style=\"color: #008080; text-decoration-color: #008080; font-weight: bold\">1000</span><span style=\"color: #000000; text-decoration-color: #000000\"> </span><span style=\"color: #000000; text-decoration-color: #000000; font-weight: bold\">[</span><span style=\"color: #00ff00; text-decoration-color: #00ff00; font-weight: bold\">00:06</span><span style=\"color: #000000; text-decoration-color: #000000\">&lt;?, ?it/s</span><span style=\"color: #000000; text-decoration-color: #000000; font-weight: bold\">]</span><span style=\"color: #000000; text-decoration-color: #000000\">  </span><span style=\"color: #008080; text-decoration-color: #008080; font-weight: bold\">0</span><span style=\"color: #000000; text-decoration-color: #000000\">%|          | </span><span style=\"color: #008080; text-decoration-color: #008080; font-weight: bold\">0</span><span style=\"color: #000000; text-decoration-color: #000000\">/</span><span style=\"color: #008080; text-decoration-color: #008080; font-weight: bold\">1000</span><span style=\"color: #000000; text-decoration-color: #000000\"> </span><span style=\"color: #000000; text-decoration-color: #000000; font-weight: bold\">[</span><span style=\"color: #00ff00; text-decoration-color: #00ff00; font-weight: bold\">00:06</span><span style=\"color: #000000; text-decoration-color: #000000\">&lt;?, ?it/s</span><span style=\"color: #000000; text-decoration-color: #000000; font-weight: bold\">]</span><span style=\"color: #000000; text-decoration-color: #000000\">  </span><span style=\"color: #008080; text-decoration-color: #008080; font-weight: bold\">0</span><span style=\"color: #000000; text-decoration-color: #000000\">%|     </span>\n",
       "<span style=\"color: #000000; text-decoration-color: #000000\">| </span><span style=\"color: #008080; text-decoration-color: #008080; font-weight: bold\">0</span><span style=\"color: #000000; text-decoration-color: #000000\">/</span><span style=\"color: #008080; text-decoration-color: #008080; font-weight: bold\">1000</span><span style=\"color: #000000; text-decoration-color: #000000\"> </span><span style=\"color: #000000; text-decoration-color: #000000; font-weight: bold\">[</span><span style=\"color: #00ff00; text-decoration-color: #00ff00; font-weight: bold\">00:06</span><span style=\"color: #000000; text-decoration-color: #000000\">&lt;?, ?it/s</span><span style=\"color: #000000; text-decoration-color: #000000; font-weight: bold\">]</span><span style=\"color: #000000; text-decoration-color: #000000\">  </span><span style=\"color: #008080; text-decoration-color: #008080; font-weight: bold\">0</span><span style=\"color: #000000; text-decoration-color: #000000\">%|          | </span><span style=\"color: #008080; text-decoration-color: #008080; font-weight: bold\">0</span><span style=\"color: #000000; text-decoration-color: #000000\">/</span><span style=\"color: #008080; text-decoration-color: #008080; font-weight: bold\">1000</span><span style=\"color: #000000; text-decoration-color: #000000\"> </span><span style=\"color: #000000; text-decoration-color: #000000; font-weight: bold\">[</span><span style=\"color: #00ff00; text-decoration-color: #00ff00; font-weight: bold\">00:06</span><span style=\"color: #000000; text-decoration-color: #000000\">&lt;?, ?it/s</span><span style=\"color: #000000; text-decoration-color: #000000; font-weight: bold\">]</span><span style=\"color: #000000; text-decoration-color: #000000\">  </span><span style=\"color: #008080; text-decoration-color: #008080; font-weight: bold\">0</span><span style=\"color: #000000; text-decoration-color: #000000\">%|          | </span><span style=\"color: #008080; text-decoration-color: #008080; font-weight: bold\">0</span><span style=\"color: #000000; text-decoration-color: #000000\">/</span><span style=\"color: #008080; text-decoration-color: #008080; font-weight: bold\">1000</span><span style=\"color: #000000; text-decoration-color: #000000\"> </span><span style=\"color: #000000; text-decoration-color: #000000; font-weight: bold\">[</span><span style=\"color: #00ff00; text-decoration-color: #00ff00; font-weight: bold\">00:06</span><span style=\"color: #000000; text-decoration-color: #000000\">&lt;?, ?it/s</span><span style=\"color: #000000; text-decoration-color: #000000; font-weight: bold\">]</span><span style=\"color: #000000; text-decoration-color: #000000\">  </span><span style=\"color: #008080; text-decoration-color: #008080; font-weight: bold\">0</span><span style=\"color: #000000; text-decoration-color: #000000\">%|     </span>\n",
       "<span style=\"color: #000000; text-decoration-color: #000000\">| </span><span style=\"color: #008080; text-decoration-color: #008080; font-weight: bold\">0</span><span style=\"color: #000000; text-decoration-color: #000000\">/</span><span style=\"color: #008080; text-decoration-color: #008080; font-weight: bold\">1000</span><span style=\"color: #000000; text-decoration-color: #000000\"> </span><span style=\"color: #000000; text-decoration-color: #000000; font-weight: bold\">[</span><span style=\"color: #00ff00; text-decoration-color: #00ff00; font-weight: bold\">00:06</span><span style=\"color: #000000; text-decoration-color: #000000\">&lt;?, ?it/s</span><span style=\"color: #000000; text-decoration-color: #000000; font-weight: bold\">]</span><span style=\"color: #000000; text-decoration-color: #000000\">  </span><span style=\"color: #008080; text-decoration-color: #008080; font-weight: bold\">0</span><span style=\"color: #000000; text-decoration-color: #000000\">%|          | </span><span style=\"color: #008080; text-decoration-color: #008080; font-weight: bold\">0</span><span style=\"color: #000000; text-decoration-color: #000000\">/</span><span style=\"color: #008080; text-decoration-color: #008080; font-weight: bold\">1000</span><span style=\"color: #000000; text-decoration-color: #000000\"> </span><span style=\"color: #000000; text-decoration-color: #000000; font-weight: bold\">[</span><span style=\"color: #00ff00; text-decoration-color: #00ff00; font-weight: bold\">00:07</span><span style=\"color: #000000; text-decoration-color: #000000\">&lt;?, ?it/s</span><span style=\"color: #000000; text-decoration-color: #000000; font-weight: bold\">]</span><span style=\"color: #000000; text-decoration-color: #000000\">  </span><span style=\"color: #008080; text-decoration-color: #008080; font-weight: bold\">0</span><span style=\"color: #000000; text-decoration-color: #000000\">%|          | </span><span style=\"color: #008080; text-decoration-color: #008080; font-weight: bold\">0</span><span style=\"color: #000000; text-decoration-color: #000000\">/</span><span style=\"color: #008080; text-decoration-color: #008080; font-weight: bold\">1000</span><span style=\"color: #000000; text-decoration-color: #000000\"> </span><span style=\"color: #000000; text-decoration-color: #000000; font-weight: bold\">[</span><span style=\"color: #00ff00; text-decoration-color: #00ff00; font-weight: bold\">00:07</span><span style=\"color: #000000; text-decoration-color: #000000\">&lt;?, ?it/s</span><span style=\"color: #000000; text-decoration-color: #000000; font-weight: bold\">]</span><span style=\"color: #000000; text-decoration-color: #000000\">  </span><span style=\"color: #008080; text-decoration-color: #008080; font-weight: bold\">0</span><span style=\"color: #000000; text-decoration-color: #000000\">%|     </span>\n",
       "<span style=\"color: #000000; text-decoration-color: #000000\">| </span><span style=\"color: #008080; text-decoration-color: #008080; font-weight: bold\">0</span><span style=\"color: #000000; text-decoration-color: #000000\">/</span><span style=\"color: #008080; text-decoration-color: #008080; font-weight: bold\">1000</span><span style=\"color: #000000; text-decoration-color: #000000\"> </span><span style=\"color: #000000; text-decoration-color: #000000; font-weight: bold\">[</span><span style=\"color: #00ff00; text-decoration-color: #00ff00; font-weight: bold\">00:07</span><span style=\"color: #000000; text-decoration-color: #000000\">&lt;?, ?it/s</span><span style=\"color: #000000; text-decoration-color: #000000; font-weight: bold\">]</span><span style=\"color: #000000; text-decoration-color: #000000\">  </span><span style=\"color: #008080; text-decoration-color: #008080; font-weight: bold\">0</span><span style=\"color: #000000; text-decoration-color: #000000\">%|          | </span><span style=\"color: #008080; text-decoration-color: #008080; font-weight: bold\">0</span><span style=\"color: #000000; text-decoration-color: #000000\">/</span><span style=\"color: #008080; text-decoration-color: #008080; font-weight: bold\">1000</span><span style=\"color: #000000; text-decoration-color: #000000\"> </span><span style=\"color: #000000; text-decoration-color: #000000; font-weight: bold\">[</span><span style=\"color: #00ff00; text-decoration-color: #00ff00; font-weight: bold\">00:07</span><span style=\"color: #000000; text-decoration-color: #000000\">&lt;?, ?it/s</span><span style=\"color: #000000; text-decoration-color: #000000; font-weight: bold\">]</span><span style=\"color: #000000; text-decoration-color: #000000\">  </span><span style=\"color: #008080; text-decoration-color: #008080; font-weight: bold\">0</span><span style=\"color: #000000; text-decoration-color: #000000\">%|          | </span><span style=\"color: #008080; text-decoration-color: #008080; font-weight: bold\">0</span><span style=\"color: #000000; text-decoration-color: #000000\">/</span><span style=\"color: #008080; text-decoration-color: #008080; font-weight: bold\">1000</span><span style=\"color: #000000; text-decoration-color: #000000\"> </span><span style=\"color: #000000; text-decoration-color: #000000; font-weight: bold\">[</span><span style=\"color: #00ff00; text-decoration-color: #00ff00; font-weight: bold\">00:07</span><span style=\"color: #000000; text-decoration-color: #000000\">&lt;?, ?it/s</span><span style=\"color: #000000; text-decoration-color: #000000; font-weight: bold\">]</span><span style=\"color: #000000; text-decoration-color: #000000\">  </span><span style=\"color: #008080; text-decoration-color: #008080; font-weight: bold\">0</span><span style=\"color: #000000; text-decoration-color: #000000\">%|     </span>\n",
       "<span style=\"color: #000000; text-decoration-color: #000000\">| </span><span style=\"color: #008080; text-decoration-color: #008080; font-weight: bold\">0</span><span style=\"color: #000000; text-decoration-color: #000000\">/</span><span style=\"color: #008080; text-decoration-color: #008080; font-weight: bold\">1000</span><span style=\"color: #000000; text-decoration-color: #000000\"> </span><span style=\"color: #000000; text-decoration-color: #000000; font-weight: bold\">[</span><span style=\"color: #00ff00; text-decoration-color: #00ff00; font-weight: bold\">00:07</span><span style=\"color: #000000; text-decoration-color: #000000\">&lt;?, ?it/s</span><span style=\"color: #000000; text-decoration-color: #000000; font-weight: bold\">]</span><span style=\"color: #000000; text-decoration-color: #000000\">  </span><span style=\"color: #008080; text-decoration-color: #008080; font-weight: bold\">0</span><span style=\"color: #000000; text-decoration-color: #000000\">%|          | </span><span style=\"color: #008080; text-decoration-color: #008080; font-weight: bold\">0</span><span style=\"color: #000000; text-decoration-color: #000000\">/</span><span style=\"color: #008080; text-decoration-color: #008080; font-weight: bold\">1000</span><span style=\"color: #000000; text-decoration-color: #000000\"> </span><span style=\"color: #000000; text-decoration-color: #000000; font-weight: bold\">[</span><span style=\"color: #00ff00; text-decoration-color: #00ff00; font-weight: bold\">00:07</span><span style=\"color: #000000; text-decoration-color: #000000\">&lt;?, ?it/s</span><span style=\"color: #000000; text-decoration-color: #000000; font-weight: bold\">]</span><span style=\"color: #000000; text-decoration-color: #000000\">  </span><span style=\"color: #008080; text-decoration-color: #008080; font-weight: bold\">0</span><span style=\"color: #000000; text-decoration-color: #000000\">%|          | </span><span style=\"color: #008080; text-decoration-color: #008080; font-weight: bold\">0</span><span style=\"color: #000000; text-decoration-color: #000000\">/</span><span style=\"color: #008080; text-decoration-color: #008080; font-weight: bold\">1000</span><span style=\"color: #000000; text-decoration-color: #000000\"> </span><span style=\"color: #000000; text-decoration-color: #000000; font-weight: bold\">[</span><span style=\"color: #00ff00; text-decoration-color: #00ff00; font-weight: bold\">00:08</span><span style=\"color: #000000; text-decoration-color: #000000\">&lt;?, ?it/s</span><span style=\"color: #000000; text-decoration-color: #000000; font-weight: bold\">]</span><span style=\"color: #000000; text-decoration-color: #000000\">  </span><span style=\"color: #008080; text-decoration-color: #008080; font-weight: bold\">0</span><span style=\"color: #000000; text-decoration-color: #000000\">%|     </span>\n",
       "<span style=\"color: #000000; text-decoration-color: #000000\">| </span><span style=\"color: #008080; text-decoration-color: #008080; font-weight: bold\">0</span><span style=\"color: #000000; text-decoration-color: #000000\">/</span><span style=\"color: #008080; text-decoration-color: #008080; font-weight: bold\">1000</span><span style=\"color: #000000; text-decoration-color: #000000\"> </span><span style=\"color: #000000; text-decoration-color: #000000; font-weight: bold\">[</span><span style=\"color: #00ff00; text-decoration-color: #00ff00; font-weight: bold\">00:08</span><span style=\"color: #000000; text-decoration-color: #000000\">&lt;?, ?it/s</span><span style=\"color: #000000; text-decoration-color: #000000; font-weight: bold\">]</span><span style=\"color: #000000; text-decoration-color: #000000\">  </span><span style=\"color: #008080; text-decoration-color: #008080; font-weight: bold\">0</span><span style=\"color: #000000; text-decoration-color: #000000\">%|          | </span><span style=\"color: #008080; text-decoration-color: #008080; font-weight: bold\">0</span><span style=\"color: #000000; text-decoration-color: #000000\">/</span><span style=\"color: #008080; text-decoration-color: #008080; font-weight: bold\">1000</span><span style=\"color: #000000; text-decoration-color: #000000\"> </span><span style=\"color: #000000; text-decoration-color: #000000; font-weight: bold\">[</span><span style=\"color: #00ff00; text-decoration-color: #00ff00; font-weight: bold\">00:08</span><span style=\"color: #000000; text-decoration-color: #000000\">&lt;?, ?it/s</span><span style=\"color: #000000; text-decoration-color: #000000; font-weight: bold\">]</span><span style=\"color: #000000; text-decoration-color: #000000\">  </span><span style=\"color: #008080; text-decoration-color: #008080; font-weight: bold\">0</span><span style=\"color: #000000; text-decoration-color: #000000\">%|          | </span><span style=\"color: #008080; text-decoration-color: #008080; font-weight: bold\">0</span><span style=\"color: #000000; text-decoration-color: #000000\">/</span><span style=\"color: #008080; text-decoration-color: #008080; font-weight: bold\">1000</span><span style=\"color: #000000; text-decoration-color: #000000\"> </span><span style=\"color: #000000; text-decoration-color: #000000; font-weight: bold\">[</span><span style=\"color: #00ff00; text-decoration-color: #00ff00; font-weight: bold\">00:08</span><span style=\"color: #000000; text-decoration-color: #000000\">&lt;?, ?it/s</span><span style=\"color: #000000; text-decoration-color: #000000; font-weight: bold\">]</span><span style=\"color: #000000; text-decoration-color: #000000\">  </span><span style=\"color: #008080; text-decoration-color: #008080; font-weight: bold\">0</span><span style=\"color: #000000; text-decoration-color: #000000\">%|     </span>\n",
       "<span style=\"color: #000000; text-decoration-color: #000000\">| </span><span style=\"color: #008080; text-decoration-color: #008080; font-weight: bold\">0</span><span style=\"color: #000000; text-decoration-color: #000000\">/</span><span style=\"color: #008080; text-decoration-color: #008080; font-weight: bold\">1000</span><span style=\"color: #000000; text-decoration-color: #000000\"> </span><span style=\"color: #000000; text-decoration-color: #000000; font-weight: bold\">[</span><span style=\"color: #00ff00; text-decoration-color: #00ff00; font-weight: bold\">00:08</span><span style=\"color: #000000; text-decoration-color: #000000\">&lt;?, ?it/s</span><span style=\"color: #000000; text-decoration-color: #000000; font-weight: bold\">]</span><span style=\"color: #000000; text-decoration-color: #000000\">\u001b</span><span style=\"color: #000000; text-decoration-color: #000000; font-weight: bold\">[</span><span style=\"color: #800080; text-decoration-color: #800080; font-weight: bold\">36m</span><span style=\"color: #000000; text-decoration-color: #000000; font-weight: bold\">(</span><span style=\"color: #000000; text-decoration-color: #000000\">SageMakerClient </span><span style=\"color: #808000; text-decoration-color: #808000\">pid</span><span style=\"color: #000000; text-decoration-color: #000000\">=</span><span style=\"color: #008080; text-decoration-color: #008080; font-weight: bold\">25779</span><span style=\"color: #000000; text-decoration-color: #000000; font-weight: bold\">)</span><span style=\"color: #000000; text-decoration-color: #000000\">\u001b</span><span style=\"color: #000000; text-decoration-color: #000000; font-weight: bold\">[</span><span style=\"color: #000000; text-decoration-color: #000000\">0m You are using the default legacy behaviour of the </span>\n",
       "<span style=\"color: #000000; text-decoration-color: #000000\">&lt;class </span><span style=\"color: #008000; text-decoration-color: #008000\">'transformers.models.llama.tokenization_llama_fast.LlamaTokenizerFast'</span><span style=\"color: #000000; text-decoration-color: #000000\">&gt;. This is expected, and simply means </span>\n",
       "<span style=\"color: #000000; text-decoration-color: #000000\">that the `legacy` </span><span style=\"color: #000000; text-decoration-color: #000000; font-weight: bold\">(</span><span style=\"color: #000000; text-decoration-color: #000000\">previous</span><span style=\"color: #000000; text-decoration-color: #000000; font-weight: bold\">)</span><span style=\"color: #000000; text-decoration-color: #000000\"> behavior will be used so nothing changes for you. If you want to use the new </span>\n",
       "<span style=\"color: #000000; text-decoration-color: #000000\">behaviour, set `</span><span style=\"color: #808000; text-decoration-color: #808000\">legacy</span><span style=\"color: #000000; text-decoration-color: #000000\">=</span><span style=\"color: #ff0000; text-decoration-color: #ff0000; font-style: italic\">False</span><span style=\"color: #000000; text-decoration-color: #000000\">`. This should only be set if you understand what it means, and thoroughly read the </span>\n",
       "<span style=\"color: #000000; text-decoration-color: #000000\">reason why this was added as explained in </span><span style=\"color: #0000ff; text-decoration-color: #0000ff; text-decoration: underline\">https://github.com/huggingface/transformers/pull/24565</span><span style=\"color: #000000; text-decoration-color: #000000\"> - if you loaded a </span>\n",
       "<span style=\"color: #000000; text-decoration-color: #000000\">llama tokenizer from a GGUF file you can ignore this message.\u001b</span><span style=\"color: #000000; text-decoration-color: #000000; font-weight: bold\">[</span><span style=\"color: #000000; text-decoration-color: #000000\">32m  </span><span style=\"color: #000000; text-decoration-color: #000000; font-weight: bold\">(</span><span style=\"color: #000000; text-decoration-color: #000000\">Ray deduplicates logs by default. Set </span>\n",
       "<span style=\"color: #808000; text-decoration-color: #808000\">RAY_DEDUP_LOGS</span><span style=\"color: #000000; text-decoration-color: #000000\">=</span><span style=\"color: #008080; text-decoration-color: #008080; font-weight: bold\">0</span><span style=\"color: #000000; text-decoration-color: #000000\"> to disable log deduplication, or see </span>\n",
       "<span style=\"color: #0000ff; text-decoration-color: #0000ff; text-decoration: underline\">https://docs.ray.io/en/master/ray-observability/user-guides/configure-logging.html#log-deduplication</span><span style=\"color: #000000; text-decoration-color: #000000\"> for more </span>\n",
       "<span style=\"color: #000000; text-decoration-color: #000000\">options.</span><span style=\"color: #000000; text-decoration-color: #000000; font-weight: bold\">)</span><span style=\"color: #000000; text-decoration-color: #000000\">\u001b</span><span style=\"color: #000000; text-decoration-color: #000000; font-weight: bold\">[</span><span style=\"color: #000000; text-decoration-color: #000000\">0m</span>\n",
       "<span style=\"color: #000000; text-decoration-color: #000000\">  </span><span style=\"color: #008080; text-decoration-color: #008080; font-weight: bold\">0</span><span style=\"color: #000000; text-decoration-color: #000000\">%|          | </span><span style=\"color: #008080; text-decoration-color: #008080; font-weight: bold\">0</span><span style=\"color: #000000; text-decoration-color: #000000\">/</span><span style=\"color: #008080; text-decoration-color: #008080; font-weight: bold\">1000</span><span style=\"color: #000000; text-decoration-color: #000000\"> </span><span style=\"color: #000000; text-decoration-color: #000000; font-weight: bold\">[</span><span style=\"color: #00ff00; text-decoration-color: #00ff00; font-weight: bold\">00:09</span><span style=\"color: #000000; text-decoration-color: #000000\">&lt;?, ?it/s</span><span style=\"color: #000000; text-decoration-color: #000000; font-weight: bold\">]</span><span style=\"color: #000000; text-decoration-color: #000000\">  </span><span style=\"color: #008080; text-decoration-color: #008080; font-weight: bold\">0</span><span style=\"color: #000000; text-decoration-color: #000000\">%|          | </span><span style=\"color: #008080; text-decoration-color: #008080; font-weight: bold\">0</span><span style=\"color: #000000; text-decoration-color: #000000\">/</span><span style=\"color: #008080; text-decoration-color: #008080; font-weight: bold\">1000</span><span style=\"color: #000000; text-decoration-color: #000000\"> </span><span style=\"color: #000000; text-decoration-color: #000000; font-weight: bold\">[</span><span style=\"color: #00ff00; text-decoration-color: #00ff00; font-weight: bold\">00:09</span><span style=\"color: #000000; text-decoration-color: #000000\">&lt;?, ?it/s</span><span style=\"color: #000000; text-decoration-color: #000000; font-weight: bold\">]</span><span style=\"color: #000000; text-decoration-color: #000000\">  </span><span style=\"color: #008080; text-decoration-color: #008080; font-weight: bold\">0</span><span style=\"color: #000000; text-decoration-color: #000000\">%|          | </span><span style=\"color: #008080; text-decoration-color: #008080; font-weight: bold\">0</span><span style=\"color: #000000; text-decoration-color: #000000\">/</span><span style=\"color: #008080; text-decoration-color: #008080; font-weight: bold\">1000</span><span style=\"color: #000000; text-decoration-color: #000000\"> </span><span style=\"color: #000000; text-decoration-color: #000000; font-weight: bold\">[</span><span style=\"color: #00ff00; text-decoration-color: #00ff00; font-weight: bold\">00:09</span><span style=\"color: #000000; text-decoration-color: #000000\">&lt;?, </span>\n",
       "<span style=\"color: #000000; text-decoration-color: #000000\">?it/s</span><span style=\"color: #000000; text-decoration-color: #000000; font-weight: bold\">]</span><span style=\"color: #000000; text-decoration-color: #000000\">  </span><span style=\"color: #008080; text-decoration-color: #008080; font-weight: bold\">0</span><span style=\"color: #000000; text-decoration-color: #000000\">%|          | </span><span style=\"color: #008080; text-decoration-color: #008080; font-weight: bold\">0</span><span style=\"color: #000000; text-decoration-color: #000000\">/</span><span style=\"color: #008080; text-decoration-color: #008080; font-weight: bold\">1000</span><span style=\"color: #000000; text-decoration-color: #000000\"> </span><span style=\"color: #000000; text-decoration-color: #000000; font-weight: bold\">[</span><span style=\"color: #00ff00; text-decoration-color: #00ff00; font-weight: bold\">00:09</span><span style=\"color: #000000; text-decoration-color: #000000\">&lt;?, ?it/s</span><span style=\"color: #000000; text-decoration-color: #000000; font-weight: bold\">]</span><span style=\"color: #000000; text-decoration-color: #000000\">  </span><span style=\"color: #008080; text-decoration-color: #008080; font-weight: bold\">0</span><span style=\"color: #000000; text-decoration-color: #000000\">%|          | </span><span style=\"color: #008080; text-decoration-color: #008080; font-weight: bold\">0</span><span style=\"color: #000000; text-decoration-color: #000000\">/</span><span style=\"color: #008080; text-decoration-color: #008080; font-weight: bold\">1000</span><span style=\"color: #000000; text-decoration-color: #000000\"> </span><span style=\"color: #000000; text-decoration-color: #000000; font-weight: bold\">[</span><span style=\"color: #00ff00; text-decoration-color: #00ff00; font-weight: bold\">00:09</span><span style=\"color: #000000; text-decoration-color: #000000\">&lt;?, ?it/s</span><span style=\"color: #000000; text-decoration-color: #000000; font-weight: bold\">]</span><span style=\"color: #000000; text-decoration-color: #000000\">  </span><span style=\"color: #008080; text-decoration-color: #008080; font-weight: bold\">0</span><span style=\"color: #000000; text-decoration-color: #000000\">%|          | </span><span style=\"color: #008080; text-decoration-color: #008080; font-weight: bold\">0</span><span style=\"color: #000000; text-decoration-color: #000000\">/</span><span style=\"color: #008080; text-decoration-color: #008080; font-weight: bold\">1000</span><span style=\"color: #000000; text-decoration-color: #000000\"> </span>\n",
       "<span style=\"color: #000000; text-decoration-color: #000000; font-weight: bold\">[</span><span style=\"color: #00ff00; text-decoration-color: #00ff00; font-weight: bold\">00:09</span><span style=\"color: #000000; text-decoration-color: #000000\">&lt;?, ?it/s</span><span style=\"color: #000000; text-decoration-color: #000000; font-weight: bold\">]</span><span style=\"color: #000000; text-decoration-color: #000000\">  </span><span style=\"color: #008080; text-decoration-color: #008080; font-weight: bold\">0</span><span style=\"color: #000000; text-decoration-color: #000000\">%|          | </span><span style=\"color: #008080; text-decoration-color: #008080; font-weight: bold\">0</span><span style=\"color: #000000; text-decoration-color: #000000\">/</span><span style=\"color: #008080; text-decoration-color: #008080; font-weight: bold\">1000</span><span style=\"color: #000000; text-decoration-color: #000000\"> </span><span style=\"color: #000000; text-decoration-color: #000000; font-weight: bold\">[</span><span style=\"color: #00ff00; text-decoration-color: #00ff00; font-weight: bold\">00:09</span><span style=\"color: #000000; text-decoration-color: #000000\">&lt;?, ?it/s</span><span style=\"color: #000000; text-decoration-color: #000000; font-weight: bold\">]</span><span style=\"color: #000000; text-decoration-color: #000000\">  </span><span style=\"color: #008080; text-decoration-color: #008080; font-weight: bold\">0</span><span style=\"color: #000000; text-decoration-color: #000000\">%|          | </span><span style=\"color: #008080; text-decoration-color: #008080; font-weight: bold\">0</span><span style=\"color: #000000; text-decoration-color: #000000\">/</span><span style=\"color: #008080; text-decoration-color: #008080; font-weight: bold\">1000</span><span style=\"color: #000000; text-decoration-color: #000000\"> </span><span style=\"color: #000000; text-decoration-color: #000000; font-weight: bold\">[</span><span style=\"color: #00ff00; text-decoration-color: #00ff00; font-weight: bold\">00:10</span><span style=\"color: #000000; text-decoration-color: #000000\">&lt;?, ?it/s</span><span style=\"color: #000000; text-decoration-color: #000000; font-weight: bold\">]</span><span style=\"color: #000000; text-decoration-color: #000000\">  </span><span style=\"color: #008080; text-decoration-color: #008080; font-weight: bold\">0</span><span style=\"color: #000000; text-decoration-color: #000000\">%|          | </span>\n",
       "<span style=\"color: #008080; text-decoration-color: #008080; font-weight: bold\">0</span><span style=\"color: #000000; text-decoration-color: #000000\">/</span><span style=\"color: #008080; text-decoration-color: #008080; font-weight: bold\">1000</span><span style=\"color: #000000; text-decoration-color: #000000\"> </span><span style=\"color: #000000; text-decoration-color: #000000; font-weight: bold\">[</span><span style=\"color: #00ff00; text-decoration-color: #00ff00; font-weight: bold\">00:10</span><span style=\"color: #000000; text-decoration-color: #000000\">&lt;?, ?it/s</span><span style=\"color: #000000; text-decoration-color: #000000; font-weight: bold\">]</span><span style=\"color: #000000; text-decoration-color: #000000\">  </span><span style=\"color: #008080; text-decoration-color: #008080; font-weight: bold\">0</span><span style=\"color: #000000; text-decoration-color: #000000\">%|          | </span><span style=\"color: #008080; text-decoration-color: #008080; font-weight: bold\">0</span><span style=\"color: #000000; text-decoration-color: #000000\">/</span><span style=\"color: #008080; text-decoration-color: #008080; font-weight: bold\">1000</span><span style=\"color: #000000; text-decoration-color: #000000\"> </span><span style=\"color: #000000; text-decoration-color: #000000; font-weight: bold\">[</span><span style=\"color: #00ff00; text-decoration-color: #00ff00; font-weight: bold\">00:10</span><span style=\"color: #000000; text-decoration-color: #000000\">&lt;?, ?it/s</span><span style=\"color: #000000; text-decoration-color: #000000; font-weight: bold\">]</span><span style=\"color: #000000; text-decoration-color: #000000\">  </span><span style=\"color: #008080; text-decoration-color: #008080; font-weight: bold\">0</span><span style=\"color: #000000; text-decoration-color: #000000\">%|          | </span><span style=\"color: #008080; text-decoration-color: #008080; font-weight: bold\">0</span><span style=\"color: #000000; text-decoration-color: #000000\">/</span><span style=\"color: #008080; text-decoration-color: #008080; font-weight: bold\">1000</span><span style=\"color: #000000; text-decoration-color: #000000\"> </span><span style=\"color: #000000; text-decoration-color: #000000; font-weight: bold\">[</span><span style=\"color: #00ff00; text-decoration-color: #00ff00; font-weight: bold\">00:10</span><span style=\"color: #000000; text-decoration-color: #000000\">&lt;?, ?it/s</span><span style=\"color: #000000; text-decoration-color: #000000; font-weight: bold\">]</span><span style=\"color: #000000; text-decoration-color: #000000\">  </span><span style=\"color: #008080; text-decoration-color: #008080; font-weight: bold\">0</span><span style=\"color: #000000; text-decoration-color: #000000\">%|       </span>\n",
       "<span style=\"color: #000000; text-decoration-color: #000000\">| </span><span style=\"color: #008080; text-decoration-color: #008080; font-weight: bold\">0</span><span style=\"color: #000000; text-decoration-color: #000000\">/</span><span style=\"color: #008080; text-decoration-color: #008080; font-weight: bold\">1000</span><span style=\"color: #000000; text-decoration-color: #000000\"> </span><span style=\"color: #000000; text-decoration-color: #000000; font-weight: bold\">[</span><span style=\"color: #00ff00; text-decoration-color: #00ff00; font-weight: bold\">00:10</span><span style=\"color: #000000; text-decoration-color: #000000\">&lt;?, ?it/s</span><span style=\"color: #000000; text-decoration-color: #000000; font-weight: bold\">]</span><span style=\"color: #000000; text-decoration-color: #000000\">  </span><span style=\"color: #008080; text-decoration-color: #008080; font-weight: bold\">0</span><span style=\"color: #000000; text-decoration-color: #000000\">%|          | </span><span style=\"color: #008080; text-decoration-color: #008080; font-weight: bold\">0</span><span style=\"color: #000000; text-decoration-color: #000000\">/</span><span style=\"color: #008080; text-decoration-color: #008080; font-weight: bold\">1000</span><span style=\"color: #000000; text-decoration-color: #000000\"> </span><span style=\"color: #000000; text-decoration-color: #000000; font-weight: bold\">[</span><span style=\"color: #00ff00; text-decoration-color: #00ff00; font-weight: bold\">00:10</span><span style=\"color: #000000; text-decoration-color: #000000\">&lt;?, ?it/s</span><span style=\"color: #000000; text-decoration-color: #000000; font-weight: bold\">]</span><span style=\"color: #000000; text-decoration-color: #000000\">  </span><span style=\"color: #008080; text-decoration-color: #008080; font-weight: bold\">0</span><span style=\"color: #000000; text-decoration-color: #000000\">%|          | </span><span style=\"color: #008080; text-decoration-color: #008080; font-weight: bold\">0</span><span style=\"color: #000000; text-decoration-color: #000000\">/</span><span style=\"color: #008080; text-decoration-color: #008080; font-weight: bold\">1000</span><span style=\"color: #000000; text-decoration-color: #000000\"> </span><span style=\"color: #000000; text-decoration-color: #000000; font-weight: bold\">[</span><span style=\"color: #00ff00; text-decoration-color: #00ff00; font-weight: bold\">00:10</span><span style=\"color: #000000; text-decoration-color: #000000\">&lt;?, ?it/s</span><span style=\"color: #000000; text-decoration-color: #000000; font-weight: bold\">]</span><span style=\"color: #000000; text-decoration-color: #000000\">  </span><span style=\"color: #008080; text-decoration-color: #008080; font-weight: bold\">0</span><span style=\"color: #000000; text-decoration-color: #000000\">%|     </span>\n",
       "<span style=\"color: #000000; text-decoration-color: #000000\">| </span><span style=\"color: #008080; text-decoration-color: #008080; font-weight: bold\">0</span><span style=\"color: #000000; text-decoration-color: #000000\">/</span><span style=\"color: #008080; text-decoration-color: #008080; font-weight: bold\">1000</span><span style=\"color: #000000; text-decoration-color: #000000\"> </span><span style=\"color: #000000; text-decoration-color: #000000; font-weight: bold\">[</span><span style=\"color: #00ff00; text-decoration-color: #00ff00; font-weight: bold\">00:11</span><span style=\"color: #000000; text-decoration-color: #000000\">&lt;?, ?it/s</span><span style=\"color: #000000; text-decoration-color: #000000; font-weight: bold\">]</span><span style=\"color: #000000; text-decoration-color: #000000\">  </span><span style=\"color: #008080; text-decoration-color: #008080; font-weight: bold\">0</span><span style=\"color: #000000; text-decoration-color: #000000\">%|          | </span><span style=\"color: #008080; text-decoration-color: #008080; font-weight: bold\">0</span><span style=\"color: #000000; text-decoration-color: #000000\">/</span><span style=\"color: #008080; text-decoration-color: #008080; font-weight: bold\">1000</span><span style=\"color: #000000; text-decoration-color: #000000\"> </span><span style=\"color: #000000; text-decoration-color: #000000; font-weight: bold\">[</span><span style=\"color: #00ff00; text-decoration-color: #00ff00; font-weight: bold\">00:11</span><span style=\"color: #000000; text-decoration-color: #000000\">&lt;?, ?it/s</span><span style=\"color: #000000; text-decoration-color: #000000; font-weight: bold\">]</span><span style=\"color: #000000; text-decoration-color: #000000\">  </span><span style=\"color: #008080; text-decoration-color: #008080; font-weight: bold\">0</span><span style=\"color: #000000; text-decoration-color: #000000\">%|          | </span><span style=\"color: #008080; text-decoration-color: #008080; font-weight: bold\">0</span><span style=\"color: #000000; text-decoration-color: #000000\">/</span><span style=\"color: #008080; text-decoration-color: #008080; font-weight: bold\">1000</span><span style=\"color: #000000; text-decoration-color: #000000\"> </span><span style=\"color: #000000; text-decoration-color: #000000; font-weight: bold\">[</span><span style=\"color: #00ff00; text-decoration-color: #00ff00; font-weight: bold\">00:11</span><span style=\"color: #000000; text-decoration-color: #000000\">&lt;?, ?it/s</span><span style=\"color: #000000; text-decoration-color: #000000; font-weight: bold\">]</span><span style=\"color: #000000; text-decoration-color: #000000\">  </span><span style=\"color: #008080; text-decoration-color: #008080; font-weight: bold\">0</span><span style=\"color: #000000; text-decoration-color: #000000\">%|     </span>\n",
       "<span style=\"color: #000000; text-decoration-color: #000000\">| </span><span style=\"color: #008080; text-decoration-color: #008080; font-weight: bold\">0</span><span style=\"color: #000000; text-decoration-color: #000000\">/</span><span style=\"color: #008080; text-decoration-color: #008080; font-weight: bold\">1000</span><span style=\"color: #000000; text-decoration-color: #000000\"> </span><span style=\"color: #000000; text-decoration-color: #000000; font-weight: bold\">[</span><span style=\"color: #00ff00; text-decoration-color: #00ff00; font-weight: bold\">00:11</span><span style=\"color: #000000; text-decoration-color: #000000\">&lt;?, ?it/s</span><span style=\"color: #000000; text-decoration-color: #000000; font-weight: bold\">]</span><span style=\"color: #000000; text-decoration-color: #000000\">  </span><span style=\"color: #008080; text-decoration-color: #008080; font-weight: bold\">0</span><span style=\"color: #000000; text-decoration-color: #000000\">%|          | </span><span style=\"color: #008080; text-decoration-color: #008080; font-weight: bold\">0</span><span style=\"color: #000000; text-decoration-color: #000000\">/</span><span style=\"color: #008080; text-decoration-color: #008080; font-weight: bold\">1000</span><span style=\"color: #000000; text-decoration-color: #000000\"> </span><span style=\"color: #000000; text-decoration-color: #000000; font-weight: bold\">[</span><span style=\"color: #00ff00; text-decoration-color: #00ff00; font-weight: bold\">00:11</span><span style=\"color: #000000; text-decoration-color: #000000\">&lt;?, ?it/s</span><span style=\"color: #000000; text-decoration-color: #000000; font-weight: bold\">]</span><span style=\"color: #000000; text-decoration-color: #000000\">  </span><span style=\"color: #008080; text-decoration-color: #008080; font-weight: bold\">0</span><span style=\"color: #000000; text-decoration-color: #000000\">%|          | </span><span style=\"color: #008080; text-decoration-color: #008080; font-weight: bold\">0</span><span style=\"color: #000000; text-decoration-color: #000000\">/</span><span style=\"color: #008080; text-decoration-color: #008080; font-weight: bold\">1000</span><span style=\"color: #000000; text-decoration-color: #000000\"> </span><span style=\"color: #000000; text-decoration-color: #000000; font-weight: bold\">[</span><span style=\"color: #00ff00; text-decoration-color: #00ff00; font-weight: bold\">00:11</span><span style=\"color: #000000; text-decoration-color: #000000\">&lt;?, ?it/s</span><span style=\"color: #000000; text-decoration-color: #000000; font-weight: bold\">]</span><span style=\"color: #000000; text-decoration-color: #000000\">  </span><span style=\"color: #008080; text-decoration-color: #008080; font-weight: bold\">0</span><span style=\"color: #000000; text-decoration-color: #000000\">%|     </span>\n",
       "<span style=\"color: #000000; text-decoration-color: #000000\">| </span><span style=\"color: #008080; text-decoration-color: #008080; font-weight: bold\">0</span><span style=\"color: #000000; text-decoration-color: #000000\">/</span><span style=\"color: #008080; text-decoration-color: #008080; font-weight: bold\">1000</span><span style=\"color: #000000; text-decoration-color: #000000\"> </span><span style=\"color: #000000; text-decoration-color: #000000; font-weight: bold\">[</span><span style=\"color: #00ff00; text-decoration-color: #00ff00; font-weight: bold\">00:11</span><span style=\"color: #000000; text-decoration-color: #000000\">&lt;?, ?it/s</span><span style=\"color: #000000; text-decoration-color: #000000; font-weight: bold\">]</span><span style=\"color: #000000; text-decoration-color: #000000\">  </span><span style=\"color: #008080; text-decoration-color: #008080; font-weight: bold\">0</span><span style=\"color: #000000; text-decoration-color: #000000\">%|          | </span><span style=\"color: #008080; text-decoration-color: #008080; font-weight: bold\">0</span><span style=\"color: #000000; text-decoration-color: #000000\">/</span><span style=\"color: #008080; text-decoration-color: #008080; font-weight: bold\">1000</span><span style=\"color: #000000; text-decoration-color: #000000\"> </span><span style=\"color: #000000; text-decoration-color: #000000; font-weight: bold\">[</span><span style=\"color: #00ff00; text-decoration-color: #00ff00; font-weight: bold\">00:11</span><span style=\"color: #000000; text-decoration-color: #000000\">&lt;?, ?it/s</span><span style=\"color: #000000; text-decoration-color: #000000; font-weight: bold\">]</span><span style=\"color: #000000; text-decoration-color: #000000\">  </span><span style=\"color: #008080; text-decoration-color: #008080; font-weight: bold\">0</span><span style=\"color: #000000; text-decoration-color: #000000\">%|          | </span><span style=\"color: #008080; text-decoration-color: #008080; font-weight: bold\">0</span><span style=\"color: #000000; text-decoration-color: #000000\">/</span><span style=\"color: #008080; text-decoration-color: #008080; font-weight: bold\">1000</span><span style=\"color: #000000; text-decoration-color: #000000\"> </span><span style=\"color: #000000; text-decoration-color: #000000; font-weight: bold\">[</span><span style=\"color: #00ff00; text-decoration-color: #00ff00; font-weight: bold\">00:11</span><span style=\"color: #000000; text-decoration-color: #000000\">&lt;?, ?it/s</span><span style=\"color: #000000; text-decoration-color: #000000; font-weight: bold\">]</span><span style=\"color: #000000; text-decoration-color: #000000\">  </span><span style=\"color: #008080; text-decoration-color: #008080; font-weight: bold\">0</span><span style=\"color: #000000; text-decoration-color: #000000\">%|     </span>\n",
       "<span style=\"color: #000000; text-decoration-color: #000000\">| </span><span style=\"color: #008080; text-decoration-color: #008080; font-weight: bold\">0</span><span style=\"color: #000000; text-decoration-color: #000000\">/</span><span style=\"color: #008080; text-decoration-color: #008080; font-weight: bold\">1000</span><span style=\"color: #000000; text-decoration-color: #000000\"> </span><span style=\"color: #000000; text-decoration-color: #000000; font-weight: bold\">[</span><span style=\"color: #00ff00; text-decoration-color: #00ff00; font-weight: bold\">00:12</span><span style=\"color: #000000; text-decoration-color: #000000\">&lt;?, ?it/s</span><span style=\"color: #000000; text-decoration-color: #000000; font-weight: bold\">]</span><span style=\"color: #000000; text-decoration-color: #000000\">  </span><span style=\"color: #008080; text-decoration-color: #008080; font-weight: bold\">0</span><span style=\"color: #000000; text-decoration-color: #000000\">%|          | </span><span style=\"color: #008080; text-decoration-color: #008080; font-weight: bold\">0</span><span style=\"color: #000000; text-decoration-color: #000000\">/</span><span style=\"color: #008080; text-decoration-color: #008080; font-weight: bold\">1000</span><span style=\"color: #000000; text-decoration-color: #000000\"> </span><span style=\"color: #000000; text-decoration-color: #000000; font-weight: bold\">[</span><span style=\"color: #00ff00; text-decoration-color: #00ff00; font-weight: bold\">00:12</span><span style=\"color: #000000; text-decoration-color: #000000\">&lt;?, ?it/s</span><span style=\"color: #000000; text-decoration-color: #000000; font-weight: bold\">]</span><span style=\"color: #000000; text-decoration-color: #000000\">  </span><span style=\"color: #008080; text-decoration-color: #008080; font-weight: bold\">0</span><span style=\"color: #000000; text-decoration-color: #000000\">%|          | </span><span style=\"color: #008080; text-decoration-color: #008080; font-weight: bold\">0</span><span style=\"color: #000000; text-decoration-color: #000000\">/</span><span style=\"color: #008080; text-decoration-color: #008080; font-weight: bold\">1000</span><span style=\"color: #000000; text-decoration-color: #000000\"> </span><span style=\"color: #000000; text-decoration-color: #000000; font-weight: bold\">[</span><span style=\"color: #00ff00; text-decoration-color: #00ff00; font-weight: bold\">00:12</span><span style=\"color: #000000; text-decoration-color: #000000\">&lt;?, ?it/s</span><span style=\"color: #000000; text-decoration-color: #000000; font-weight: bold\">]</span><span style=\"color: #000000; text-decoration-color: #000000\">  </span><span style=\"color: #008080; text-decoration-color: #008080; font-weight: bold\">0</span><span style=\"color: #000000; text-decoration-color: #000000\">%|     </span>\n",
       "<span style=\"color: #000000; text-decoration-color: #000000\">| </span><span style=\"color: #008080; text-decoration-color: #008080; font-weight: bold\">0</span><span style=\"color: #000000; text-decoration-color: #000000\">/</span><span style=\"color: #008080; text-decoration-color: #008080; font-weight: bold\">1000</span><span style=\"color: #000000; text-decoration-color: #000000\"> </span><span style=\"color: #000000; text-decoration-color: #000000; font-weight: bold\">[</span><span style=\"color: #00ff00; text-decoration-color: #00ff00; font-weight: bold\">00:12</span><span style=\"color: #000000; text-decoration-color: #000000\">&lt;?, ?it/s</span><span style=\"color: #000000; text-decoration-color: #000000; font-weight: bold\">]</span><span style=\"color: #000000; text-decoration-color: #000000\">  </span><span style=\"color: #008080; text-decoration-color: #008080; font-weight: bold\">0</span><span style=\"color: #000000; text-decoration-color: #000000\">%|          | </span><span style=\"color: #008080; text-decoration-color: #008080; font-weight: bold\">0</span><span style=\"color: #000000; text-decoration-color: #000000\">/</span><span style=\"color: #008080; text-decoration-color: #008080; font-weight: bold\">1000</span><span style=\"color: #000000; text-decoration-color: #000000\"> </span><span style=\"color: #000000; text-decoration-color: #000000; font-weight: bold\">[</span><span style=\"color: #00ff00; text-decoration-color: #00ff00; font-weight: bold\">00:12</span><span style=\"color: #000000; text-decoration-color: #000000\">&lt;?, ?it/s</span><span style=\"color: #000000; text-decoration-color: #000000; font-weight: bold\">]</span><span style=\"color: #000000; text-decoration-color: #000000\">  </span><span style=\"color: #008080; text-decoration-color: #008080; font-weight: bold\">0</span><span style=\"color: #000000; text-decoration-color: #000000\">%|          | </span><span style=\"color: #008080; text-decoration-color: #008080; font-weight: bold\">0</span><span style=\"color: #000000; text-decoration-color: #000000\">/</span><span style=\"color: #008080; text-decoration-color: #008080; font-weight: bold\">1000</span><span style=\"color: #000000; text-decoration-color: #000000\"> </span><span style=\"color: #000000; text-decoration-color: #000000; font-weight: bold\">[</span><span style=\"color: #00ff00; text-decoration-color: #00ff00; font-weight: bold\">00:12</span><span style=\"color: #000000; text-decoration-color: #000000\">&lt;?, ?it/s</span><span style=\"color: #000000; text-decoration-color: #000000; font-weight: bold\">]</span><span style=\"color: #000000; text-decoration-color: #000000\">  </span><span style=\"color: #008080; text-decoration-color: #008080; font-weight: bold\">0</span><span style=\"color: #000000; text-decoration-color: #000000\">%|     </span>\n",
       "<span style=\"color: #000000; text-decoration-color: #000000\">| </span><span style=\"color: #008080; text-decoration-color: #008080; font-weight: bold\">0</span><span style=\"color: #000000; text-decoration-color: #000000\">/</span><span style=\"color: #008080; text-decoration-color: #008080; font-weight: bold\">1000</span><span style=\"color: #000000; text-decoration-color: #000000\"> </span><span style=\"color: #000000; text-decoration-color: #000000; font-weight: bold\">[</span><span style=\"color: #00ff00; text-decoration-color: #00ff00; font-weight: bold\">00:12</span><span style=\"color: #000000; text-decoration-color: #000000\">&lt;?, ?it/s</span><span style=\"color: #000000; text-decoration-color: #000000; font-weight: bold\">]</span><span style=\"color: #000000; text-decoration-color: #000000\">  </span><span style=\"color: #008080; text-decoration-color: #008080; font-weight: bold\">0</span><span style=\"color: #000000; text-decoration-color: #000000\">%|          | </span><span style=\"color: #008080; text-decoration-color: #008080; font-weight: bold\">0</span><span style=\"color: #000000; text-decoration-color: #000000\">/</span><span style=\"color: #008080; text-decoration-color: #008080; font-weight: bold\">1000</span><span style=\"color: #000000; text-decoration-color: #000000\"> </span><span style=\"color: #000000; text-decoration-color: #000000; font-weight: bold\">[</span><span style=\"color: #00ff00; text-decoration-color: #00ff00; font-weight: bold\">00:12</span><span style=\"color: #000000; text-decoration-color: #000000\">&lt;?, ?it/s</span><span style=\"color: #000000; text-decoration-color: #000000; font-weight: bold\">]</span><span style=\"color: #000000; text-decoration-color: #000000\">  </span><span style=\"color: #008080; text-decoration-color: #008080; font-weight: bold\">0</span><span style=\"color: #000000; text-decoration-color: #000000\">%|          | </span><span style=\"color: #008080; text-decoration-color: #008080; font-weight: bold\">0</span><span style=\"color: #000000; text-decoration-color: #000000\">/</span><span style=\"color: #008080; text-decoration-color: #008080; font-weight: bold\">1000</span><span style=\"color: #000000; text-decoration-color: #000000\"> </span><span style=\"color: #000000; text-decoration-color: #000000; font-weight: bold\">[</span><span style=\"color: #00ff00; text-decoration-color: #00ff00; font-weight: bold\">00:12</span><span style=\"color: #000000; text-decoration-color: #000000\">&lt;?, ?it/s</span><span style=\"color: #000000; text-decoration-color: #000000; font-weight: bold\">]</span><span style=\"color: #000000; text-decoration-color: #000000\">  </span><span style=\"color: #008080; text-decoration-color: #008080; font-weight: bold\">0</span><span style=\"color: #000000; text-decoration-color: #000000\">%|     </span>\n",
       "<span style=\"color: #000000; text-decoration-color: #000000\">| </span><span style=\"color: #008080; text-decoration-color: #008080; font-weight: bold\">0</span><span style=\"color: #000000; text-decoration-color: #000000\">/</span><span style=\"color: #008080; text-decoration-color: #008080; font-weight: bold\">1000</span><span style=\"color: #000000; text-decoration-color: #000000\"> </span><span style=\"color: #000000; text-decoration-color: #000000; font-weight: bold\">[</span><span style=\"color: #00ff00; text-decoration-color: #00ff00; font-weight: bold\">00:13</span><span style=\"color: #000000; text-decoration-color: #000000\">&lt;?, ?it/s</span><span style=\"color: #000000; text-decoration-color: #000000; font-weight: bold\">]</span><span style=\"color: #000000; text-decoration-color: #000000\">  </span><span style=\"color: #008080; text-decoration-color: #008080; font-weight: bold\">0</span><span style=\"color: #000000; text-decoration-color: #000000\">%|          | </span><span style=\"color: #008080; text-decoration-color: #008080; font-weight: bold\">0</span><span style=\"color: #000000; text-decoration-color: #000000\">/</span><span style=\"color: #008080; text-decoration-color: #008080; font-weight: bold\">1000</span><span style=\"color: #000000; text-decoration-color: #000000\"> </span><span style=\"color: #000000; text-decoration-color: #000000; font-weight: bold\">[</span><span style=\"color: #00ff00; text-decoration-color: #00ff00; font-weight: bold\">00:13</span><span style=\"color: #000000; text-decoration-color: #000000\">&lt;?, ?it/s</span><span style=\"color: #000000; text-decoration-color: #000000; font-weight: bold\">]</span><span style=\"color: #000000; text-decoration-color: #000000\">  </span><span style=\"color: #008080; text-decoration-color: #008080; font-weight: bold\">0</span><span style=\"color: #000000; text-decoration-color: #000000\">%|          | </span><span style=\"color: #008080; text-decoration-color: #008080; font-weight: bold\">0</span><span style=\"color: #000000; text-decoration-color: #000000\">/</span><span style=\"color: #008080; text-decoration-color: #008080; font-weight: bold\">1000</span><span style=\"color: #000000; text-decoration-color: #000000\"> </span><span style=\"color: #000000; text-decoration-color: #000000; font-weight: bold\">[</span><span style=\"color: #00ff00; text-decoration-color: #00ff00; font-weight: bold\">00:13</span><span style=\"color: #000000; text-decoration-color: #000000\">&lt;?, ?it/s</span><span style=\"color: #000000; text-decoration-color: #000000; font-weight: bold\">]</span><span style=\"color: #000000; text-decoration-color: #000000\">  </span><span style=\"color: #008080; text-decoration-color: #008080; font-weight: bold\">0</span><span style=\"color: #000000; text-decoration-color: #000000\">%|     </span>\n",
       "<span style=\"color: #000000; text-decoration-color: #000000\">| </span><span style=\"color: #008080; text-decoration-color: #008080; font-weight: bold\">0</span><span style=\"color: #000000; text-decoration-color: #000000\">/</span><span style=\"color: #008080; text-decoration-color: #008080; font-weight: bold\">1000</span><span style=\"color: #000000; text-decoration-color: #000000\"> </span><span style=\"color: #000000; text-decoration-color: #000000; font-weight: bold\">[</span><span style=\"color: #00ff00; text-decoration-color: #00ff00; font-weight: bold\">00:13</span><span style=\"color: #000000; text-decoration-color: #000000\">&lt;?, ?it/s</span><span style=\"color: #000000; text-decoration-color: #000000; font-weight: bold\">]</span><span style=\"color: #000000; text-decoration-color: #000000\">  </span><span style=\"color: #008080; text-decoration-color: #008080; font-weight: bold\">0</span><span style=\"color: #000000; text-decoration-color: #000000\">%|          | </span><span style=\"color: #008080; text-decoration-color: #008080; font-weight: bold\">0</span><span style=\"color: #000000; text-decoration-color: #000000\">/</span><span style=\"color: #008080; text-decoration-color: #008080; font-weight: bold\">1000</span><span style=\"color: #000000; text-decoration-color: #000000\"> </span><span style=\"color: #000000; text-decoration-color: #000000; font-weight: bold\">[</span><span style=\"color: #00ff00; text-decoration-color: #00ff00; font-weight: bold\">00:13</span><span style=\"color: #000000; text-decoration-color: #000000\">&lt;?, ?it/s</span><span style=\"color: #000000; text-decoration-color: #000000; font-weight: bold\">]</span><span style=\"color: #000000; text-decoration-color: #000000\">  </span><span style=\"color: #008080; text-decoration-color: #008080; font-weight: bold\">0</span><span style=\"color: #000000; text-decoration-color: #000000\">%|          | </span><span style=\"color: #008080; text-decoration-color: #008080; font-weight: bold\">0</span><span style=\"color: #000000; text-decoration-color: #000000\">/</span><span style=\"color: #008080; text-decoration-color: #008080; font-weight: bold\">1000</span><span style=\"color: #000000; text-decoration-color: #000000\"> </span><span style=\"color: #000000; text-decoration-color: #000000; font-weight: bold\">[</span><span style=\"color: #00ff00; text-decoration-color: #00ff00; font-weight: bold\">00:13</span><span style=\"color: #000000; text-decoration-color: #000000\">&lt;?, ?it/s</span><span style=\"color: #000000; text-decoration-color: #000000; font-weight: bold\">]</span><span style=\"color: #000000; text-decoration-color: #000000\">  </span><span style=\"color: #008080; text-decoration-color: #008080; font-weight: bold\">0</span><span style=\"color: #000000; text-decoration-color: #000000\">%|     </span>\n",
       "<span style=\"color: #000000; text-decoration-color: #000000\">| </span><span style=\"color: #008080; text-decoration-color: #008080; font-weight: bold\">0</span><span style=\"color: #000000; text-decoration-color: #000000\">/</span><span style=\"color: #008080; text-decoration-color: #008080; font-weight: bold\">1000</span><span style=\"color: #000000; text-decoration-color: #000000\"> </span><span style=\"color: #000000; text-decoration-color: #000000; font-weight: bold\">[</span><span style=\"color: #00ff00; text-decoration-color: #00ff00; font-weight: bold\">00:13</span><span style=\"color: #000000; text-decoration-color: #000000\">&lt;?, ?it/s</span><span style=\"color: #000000; text-decoration-color: #000000; font-weight: bold\">]</span><span style=\"color: #000000; text-decoration-color: #000000\">  </span><span style=\"color: #008080; text-decoration-color: #008080; font-weight: bold\">0</span><span style=\"color: #000000; text-decoration-color: #000000\">%|          | </span><span style=\"color: #008080; text-decoration-color: #008080; font-weight: bold\">0</span><span style=\"color: #000000; text-decoration-color: #000000\">/</span><span style=\"color: #008080; text-decoration-color: #008080; font-weight: bold\">1000</span><span style=\"color: #000000; text-decoration-color: #000000\"> </span><span style=\"color: #000000; text-decoration-color: #000000; font-weight: bold\">[</span><span style=\"color: #00ff00; text-decoration-color: #00ff00; font-weight: bold\">00:13</span><span style=\"color: #000000; text-decoration-color: #000000\">&lt;?, ?it/s</span><span style=\"color: #000000; text-decoration-color: #000000; font-weight: bold\">]</span><span style=\"color: #000000; text-decoration-color: #000000\">  </span><span style=\"color: #008080; text-decoration-color: #008080; font-weight: bold\">0</span><span style=\"color: #000000; text-decoration-color: #000000\">%|          | </span><span style=\"color: #008080; text-decoration-color: #008080; font-weight: bold\">0</span><span style=\"color: #000000; text-decoration-color: #000000\">/</span><span style=\"color: #008080; text-decoration-color: #008080; font-weight: bold\">1000</span><span style=\"color: #000000; text-decoration-color: #000000\"> </span><span style=\"color: #000000; text-decoration-color: #000000; font-weight: bold\">[</span><span style=\"color: #00ff00; text-decoration-color: #00ff00; font-weight: bold\">00:14</span><span style=\"color: #000000; text-decoration-color: #000000\">&lt;?, ?it/s</span><span style=\"color: #000000; text-decoration-color: #000000; font-weight: bold\">]</span><span style=\"color: #000000; text-decoration-color: #000000\">  </span><span style=\"color: #008080; text-decoration-color: #008080; font-weight: bold\">0</span><span style=\"color: #000000; text-decoration-color: #000000\">%|     </span>\n",
       "<span style=\"color: #000000; text-decoration-color: #000000\">| </span><span style=\"color: #008080; text-decoration-color: #008080; font-weight: bold\">0</span><span style=\"color: #000000; text-decoration-color: #000000\">/</span><span style=\"color: #008080; text-decoration-color: #008080; font-weight: bold\">1000</span><span style=\"color: #000000; text-decoration-color: #000000\"> </span><span style=\"color: #000000; text-decoration-color: #000000; font-weight: bold\">[</span><span style=\"color: #00ff00; text-decoration-color: #00ff00; font-weight: bold\">00:14</span><span style=\"color: #000000; text-decoration-color: #000000\">&lt;?, ?it/s</span><span style=\"color: #000000; text-decoration-color: #000000; font-weight: bold\">]</span><span style=\"color: #000000; text-decoration-color: #000000\">  </span><span style=\"color: #008080; text-decoration-color: #008080; font-weight: bold\">0</span><span style=\"color: #000000; text-decoration-color: #000000\">%|          | </span><span style=\"color: #008080; text-decoration-color: #008080; font-weight: bold\">0</span><span style=\"color: #000000; text-decoration-color: #000000\">/</span><span style=\"color: #008080; text-decoration-color: #008080; font-weight: bold\">1000</span><span style=\"color: #000000; text-decoration-color: #000000\"> </span><span style=\"color: #000000; text-decoration-color: #000000; font-weight: bold\">[</span><span style=\"color: #00ff00; text-decoration-color: #00ff00; font-weight: bold\">00:14</span><span style=\"color: #000000; text-decoration-color: #000000\">&lt;?, ?it/s</span><span style=\"color: #000000; text-decoration-color: #000000; font-weight: bold\">]</span><span style=\"color: #000000; text-decoration-color: #000000\">  </span><span style=\"color: #008080; text-decoration-color: #008080; font-weight: bold\">0</span><span style=\"color: #000000; text-decoration-color: #000000\">%|          | </span><span style=\"color: #008080; text-decoration-color: #008080; font-weight: bold\">0</span><span style=\"color: #000000; text-decoration-color: #000000\">/</span><span style=\"color: #008080; text-decoration-color: #008080; font-weight: bold\">1000</span><span style=\"color: #000000; text-decoration-color: #000000\"> </span><span style=\"color: #000000; text-decoration-color: #000000; font-weight: bold\">[</span><span style=\"color: #00ff00; text-decoration-color: #00ff00; font-weight: bold\">00:14</span><span style=\"color: #000000; text-decoration-color: #000000\">&lt;?, ?it/s</span><span style=\"color: #000000; text-decoration-color: #000000; font-weight: bold\">]</span><span style=\"color: #000000; text-decoration-color: #000000\">  </span><span style=\"color: #008080; text-decoration-color: #008080; font-weight: bold\">0</span><span style=\"color: #000000; text-decoration-color: #000000\">%|     </span>\n",
       "<span style=\"color: #000000; text-decoration-color: #000000\">| </span><span style=\"color: #008080; text-decoration-color: #008080; font-weight: bold\">0</span><span style=\"color: #000000; text-decoration-color: #000000\">/</span><span style=\"color: #008080; text-decoration-color: #008080; font-weight: bold\">1000</span><span style=\"color: #000000; text-decoration-color: #000000\"> </span><span style=\"color: #000000; text-decoration-color: #000000; font-weight: bold\">[</span><span style=\"color: #00ff00; text-decoration-color: #00ff00; font-weight: bold\">00:14</span><span style=\"color: #000000; text-decoration-color: #000000\">&lt;?, ?it/s</span><span style=\"color: #000000; text-decoration-color: #000000; font-weight: bold\">]</span><span style=\"color: #000000; text-decoration-color: #000000\">  </span><span style=\"color: #008080; text-decoration-color: #008080; font-weight: bold\">0</span><span style=\"color: #000000; text-decoration-color: #000000\">%|          | </span><span style=\"color: #008080; text-decoration-color: #008080; font-weight: bold\">0</span><span style=\"color: #000000; text-decoration-color: #000000\">/</span><span style=\"color: #008080; text-decoration-color: #008080; font-weight: bold\">1000</span><span style=\"color: #000000; text-decoration-color: #000000\"> </span><span style=\"color: #000000; text-decoration-color: #000000; font-weight: bold\">[</span><span style=\"color: #00ff00; text-decoration-color: #00ff00; font-weight: bold\">00:14</span><span style=\"color: #000000; text-decoration-color: #000000\">&lt;?, ?it/s</span><span style=\"color: #000000; text-decoration-color: #000000; font-weight: bold\">]</span><span style=\"color: #000000; text-decoration-color: #000000\"> </span><span style=\"color: #008080; text-decoration-color: #008080; font-weight: bold\">10</span><span style=\"color: #000000; text-decoration-color: #000000\">%|█         | </span><span style=\"color: #008080; text-decoration-color: #008080; font-weight: bold\">100</span><span style=\"color: #000000; text-decoration-color: #000000\">/</span><span style=\"color: #008080; text-decoration-color: #008080; font-weight: bold\">1000</span><span style=\"color: #000000; text-decoration-color: #000000\"> </span><span style=\"color: #000000; text-decoration-color: #000000; font-weight: bold\">[</span><span style=\"color: #00ff00; text-decoration-color: #00ff00; font-weight: bold\">00:49</span><span style=\"color: #000000; text-decoration-color: #000000\">&lt;</span><span style=\"color: #00ff00; text-decoration-color: #00ff00; font-weight: bold\">05:14</span><span style=\"color: #000000; text-decoration-color: #000000\">,  </span><span style=\"color: #008080; text-decoration-color: #008080; font-weight: bold\">2.</span><span style=\"color: #000000; text-decoration-color: #000000\">86it/s</span><span style=\"color: #000000; text-decoration-color: #000000; font-weight: bold\">]</span>\n",
       "<span style=\"color: #008080; text-decoration-color: #008080; font-weight: bold\">20</span><span style=\"color: #000000; text-decoration-color: #000000\">%|██        | </span><span style=\"color: #008080; text-decoration-color: #008080; font-weight: bold\">200</span><span style=\"color: #000000; text-decoration-color: #000000\">/</span><span style=\"color: #008080; text-decoration-color: #008080; font-weight: bold\">1000</span><span style=\"color: #000000; text-decoration-color: #000000\"> </span><span style=\"color: #000000; text-decoration-color: #000000; font-weight: bold\">[</span><span style=\"color: #00ff00; text-decoration-color: #00ff00; font-weight: bold\">01:29</span><span style=\"color: #000000; text-decoration-color: #000000\">&lt;</span><span style=\"color: #00ff00; text-decoration-color: #00ff00; font-weight: bold\">05:00</span><span style=\"color: #000000; text-decoration-color: #000000\">,  </span><span style=\"color: #008080; text-decoration-color: #008080; font-weight: bold\">2.</span><span style=\"color: #000000; text-decoration-color: #000000\">66it/s</span><span style=\"color: #000000; text-decoration-color: #000000; font-weight: bold\">]</span><span style=\"color: #000000; text-decoration-color: #000000\"> </span><span style=\"color: #008080; text-decoration-color: #008080; font-weight: bold\">30</span><span style=\"color: #000000; text-decoration-color: #000000\">%|███       | </span><span style=\"color: #008080; text-decoration-color: #008080; font-weight: bold\">300</span><span style=\"color: #000000; text-decoration-color: #000000\">/</span><span style=\"color: #008080; text-decoration-color: #008080; font-weight: bold\">1000</span><span style=\"color: #000000; text-decoration-color: #000000\"> </span><span style=\"color: #000000; text-decoration-color: #000000; font-weight: bold\">[</span><span style=\"color: #00ff00; text-decoration-color: #00ff00; font-weight: bold\">02:08</span><span style=\"color: #000000; text-decoration-color: #000000\">&lt;</span><span style=\"color: #00ff00; text-decoration-color: #00ff00; font-weight: bold\">04:28</span><span style=\"color: #000000; text-decoration-color: #000000\">,  </span><span style=\"color: #008080; text-decoration-color: #008080; font-weight: bold\">2.</span><span style=\"color: #000000; text-decoration-color: #000000\">60it/s</span><span style=\"color: #000000; text-decoration-color: #000000; font-weight: bold\">]</span><span style=\"color: #000000; text-decoration-color: #000000\"> </span><span style=\"color: #008080; text-decoration-color: #008080; font-weight: bold\">40</span><span style=\"color: #000000; text-decoration-color: #000000\">%|████      |</span>\n",
       "<span style=\"color: #008080; text-decoration-color: #008080; font-weight: bold\">400</span><span style=\"color: #000000; text-decoration-color: #000000\">/</span><span style=\"color: #008080; text-decoration-color: #008080; font-weight: bold\">1000</span><span style=\"color: #000000; text-decoration-color: #000000\"> </span><span style=\"color: #000000; text-decoration-color: #000000; font-weight: bold\">[</span><span style=\"color: #00ff00; text-decoration-color: #00ff00; font-weight: bold\">02:50</span><span style=\"color: #000000; text-decoration-color: #000000\">&lt;</span><span style=\"color: #00ff00; text-decoration-color: #00ff00; font-weight: bold\">03:58</span><span style=\"color: #000000; text-decoration-color: #000000\">,  </span><span style=\"color: #008080; text-decoration-color: #008080; font-weight: bold\">2.</span><span style=\"color: #000000; text-decoration-color: #000000\">52it/s</span><span style=\"color: #000000; text-decoration-color: #000000; font-weight: bold\">]</span><span style=\"color: #000000; text-decoration-color: #000000\"> </span><span style=\"color: #008080; text-decoration-color: #008080; font-weight: bold\">50</span><span style=\"color: #000000; text-decoration-color: #000000\">%|█████     | </span><span style=\"color: #008080; text-decoration-color: #008080; font-weight: bold\">500</span><span style=\"color: #000000; text-decoration-color: #000000\">/</span><span style=\"color: #008080; text-decoration-color: #008080; font-weight: bold\">1000</span><span style=\"color: #000000; text-decoration-color: #000000\"> </span><span style=\"color: #000000; text-decoration-color: #000000; font-weight: bold\">[</span><span style=\"color: #00ff00; text-decoration-color: #00ff00; font-weight: bold\">03:30</span><span style=\"color: #000000; text-decoration-color: #000000\">&lt;</span><span style=\"color: #00ff00; text-decoration-color: #00ff00; font-weight: bold\">03:20</span><span style=\"color: #000000; text-decoration-color: #000000\">,  </span><span style=\"color: #008080; text-decoration-color: #008080; font-weight: bold\">2.</span><span style=\"color: #000000; text-decoration-color: #000000\">49it/s</span><span style=\"color: #000000; text-decoration-color: #000000; font-weight: bold\">]</span><span style=\"color: #000000; text-decoration-color: #000000\"> </span><span style=\"color: #008080; text-decoration-color: #008080; font-weight: bold\">60</span><span style=\"color: #000000; text-decoration-color: #000000\">%|██████    | </span><span style=\"color: #008080; text-decoration-color: #008080; font-weight: bold\">600</span><span style=\"color: #000000; text-decoration-color: #000000\">/</span><span style=\"color: #008080; text-decoration-color: #008080; font-weight: bold\">1000</span><span style=\"color: #000000; text-decoration-color: #000000\"> </span>\n",
       "<span style=\"color: #000000; text-decoration-color: #000000; font-weight: bold\">[</span><span style=\"color: #00ff00; text-decoration-color: #00ff00; font-weight: bold\">04:11</span><span style=\"color: #000000; text-decoration-color: #000000\">&lt;</span><span style=\"color: #00ff00; text-decoration-color: #00ff00; font-weight: bold\">02:41</span><span style=\"color: #000000; text-decoration-color: #000000\">,  </span><span style=\"color: #008080; text-decoration-color: #008080; font-weight: bold\">2.</span><span style=\"color: #000000; text-decoration-color: #000000\">48it/s</span><span style=\"color: #000000; text-decoration-color: #000000; font-weight: bold\">]</span><span style=\"color: #000000; text-decoration-color: #000000\"> </span><span style=\"color: #008080; text-decoration-color: #008080; font-weight: bold\">70</span><span style=\"color: #000000; text-decoration-color: #000000\">%|███████   | </span><span style=\"color: #008080; text-decoration-color: #008080; font-weight: bold\">700</span><span style=\"color: #000000; text-decoration-color: #000000\">/</span><span style=\"color: #008080; text-decoration-color: #008080; font-weight: bold\">1000</span><span style=\"color: #000000; text-decoration-color: #000000\"> </span><span style=\"color: #000000; text-decoration-color: #000000; font-weight: bold\">[</span><span style=\"color: #00ff00; text-decoration-color: #00ff00; font-weight: bold\">04:53</span><span style=\"color: #000000; text-decoration-color: #000000\">&lt;</span><span style=\"color: #00ff00; text-decoration-color: #00ff00; font-weight: bold\">02:02</span><span style=\"color: #000000; text-decoration-color: #000000\">,  </span><span style=\"color: #008080; text-decoration-color: #008080; font-weight: bold\">2.</span><span style=\"color: #000000; text-decoration-color: #000000\">45it/s</span><span style=\"color: #000000; text-decoration-color: #000000; font-weight: bold\">]</span><span style=\"color: #000000; text-decoration-color: #000000\"> </span><span style=\"color: #008080; text-decoration-color: #008080; font-weight: bold\">80</span><span style=\"color: #000000; text-decoration-color: #000000\">%|████████  | </span><span style=\"color: #008080; text-decoration-color: #008080; font-weight: bold\">800</span><span style=\"color: #000000; text-decoration-color: #000000\">/</span><span style=\"color: #008080; text-decoration-color: #008080; font-weight: bold\">1000</span><span style=\"color: #000000; text-decoration-color: #000000\"> </span><span style=\"color: #000000; text-decoration-color: #000000; font-weight: bold\">[</span><span style=\"color: #00ff00; text-decoration-color: #00ff00; font-weight: bold\">05:36</span><span style=\"color: #000000; text-decoration-color: #000000\">&lt;</span><span style=\"color: #00ff00; text-decoration-color: #00ff00; font-weight: bold\">01:22</span><span style=\"color: #000000; text-decoration-color: #000000\">,  </span>\n",
       "<span style=\"color: #008080; text-decoration-color: #008080; font-weight: bold\">2.</span><span style=\"color: #000000; text-decoration-color: #000000\">41it/s</span><span style=\"color: #000000; text-decoration-color: #000000; font-weight: bold\">]</span><span style=\"color: #000000; text-decoration-color: #000000\"> </span><span style=\"color: #008080; text-decoration-color: #008080; font-weight: bold\">90</span><span style=\"color: #000000; text-decoration-color: #000000\">%|█████████ | </span><span style=\"color: #008080; text-decoration-color: #008080; font-weight: bold\">900</span><span style=\"color: #000000; text-decoration-color: #000000\">/</span><span style=\"color: #008080; text-decoration-color: #008080; font-weight: bold\">1000</span><span style=\"color: #000000; text-decoration-color: #000000\"> </span><span style=\"color: #000000; text-decoration-color: #000000; font-weight: bold\">[</span><span style=\"color: #00ff00; text-decoration-color: #00ff00; font-weight: bold\">06:17</span><span style=\"color: #000000; text-decoration-color: #000000\">&lt;</span><span style=\"color: #00ff00; text-decoration-color: #00ff00; font-weight: bold\">00:41</span><span style=\"color: #000000; text-decoration-color: #000000\">,  </span><span style=\"color: #008080; text-decoration-color: #008080; font-weight: bold\">2.</span><span style=\"color: #000000; text-decoration-color: #000000\">42it/s</span><span style=\"color: #000000; text-decoration-color: #000000; font-weight: bold\">]</span><span style=\"color: #008080; text-decoration-color: #008080; font-weight: bold\">100</span><span style=\"color: #000000; text-decoration-color: #000000\">%|██████████| </span><span style=\"color: #008080; text-decoration-color: #008080; font-weight: bold\">1000</span><span style=\"color: #000000; text-decoration-color: #000000\">/</span><span style=\"color: #008080; text-decoration-color: #008080; font-weight: bold\">1000</span><span style=\"color: #000000; text-decoration-color: #000000\"> </span><span style=\"color: #000000; text-decoration-color: #000000; font-weight: bold\">[</span><span style=\"color: #00ff00; text-decoration-color: #00ff00; font-weight: bold\">06:59</span><span style=\"color: #000000; text-decoration-color: #000000\">&lt;</span><span style=\"color: #00ff00; text-decoration-color: #00ff00; font-weight: bold\">00:00</span><span style=\"color: #000000; text-decoration-color: #000000\">,  </span>\n",
       "<span style=\"color: #008080; text-decoration-color: #008080; font-weight: bold\">2.</span><span style=\"color: #000000; text-decoration-color: #000000\">41it/s</span><span style=\"color: #000000; text-decoration-color: #000000; font-weight: bold\">]</span><span style=\"color: #008080; text-decoration-color: #008080; font-weight: bold\">100</span><span style=\"color: #000000; text-decoration-color: #000000\">%|██████████| </span><span style=\"color: #008080; text-decoration-color: #008080; font-weight: bold\">1000</span><span style=\"color: #000000; text-decoration-color: #000000\">/</span><span style=\"color: #008080; text-decoration-color: #008080; font-weight: bold\">1000</span><span style=\"color: #000000; text-decoration-color: #000000\"> </span><span style=\"color: #000000; text-decoration-color: #000000; font-weight: bold\">[</span><span style=\"color: #00ff00; text-decoration-color: #00ff00; font-weight: bold\">06:59</span><span style=\"color: #000000; text-decoration-color: #000000\">&lt;</span><span style=\"color: #00ff00; text-decoration-color: #00ff00; font-weight: bold\">00:00</span><span style=\"color: #000000; text-decoration-color: #000000\">,  </span><span style=\"color: #008080; text-decoration-color: #008080; font-weight: bold\">2.</span><span style=\"color: #000000; text-decoration-color: #000000\">38it/s</span><span style=\"color: #000000; text-decoration-color: #000000; font-weight: bold\">]</span>\n",
       "<span style=\"color: #000000; text-decoration-color: #000000\">\u001b</span><span style=\"color: #000000; text-decoration-color: #000000; font-weight: bold\">[</span><span style=\"color: #800080; text-decoration-color: #800080; font-weight: bold\">36m</span><span style=\"color: #000000; text-decoration-color: #000000; font-weight: bold\">(</span><span style=\"color: #000000; text-decoration-color: #000000\">SageMakerClient </span><span style=\"color: #808000; text-decoration-color: #808000\">pid</span><span style=\"color: #000000; text-decoration-color: #000000\">=</span><span style=\"color: #008080; text-decoration-color: #008080; font-weight: bold\">29326</span><span style=\"color: #000000; text-decoration-color: #000000; font-weight: bold\">)</span><span style=\"color: #000000; text-decoration-color: #000000\">\u001b</span><span style=\"color: #000000; text-decoration-color: #000000; font-weight: bold\">[</span><span style=\"color: #000000; text-decoration-color: #000000\">0m You are using the default legacy behaviour of the &lt;class </span>\n",
       "<span style=\"color: #008000; text-decoration-color: #008000\">'transformers.models.llama.tokenization_llama_fast.LlamaTokenizerFast'</span><span style=\"font-weight: bold\">&gt;</span>. This is expected, and simply means that \n",
       "the `legacy` <span style=\"font-weight: bold\">(</span>previous<span style=\"font-weight: bold\">)</span> behavior will be used so nothing changes for you. If you want to use the new behaviour, set\n",
       "`<span style=\"color: #808000; text-decoration-color: #808000\">legacy</span>=<span style=\"color: #ff0000; text-decoration-color: #ff0000; font-style: italic\">False</span>`. This should only be set if you understand what it means, and thoroughly read the reason why this \n",
       "was added as explained in <span style=\"color: #0000ff; text-decoration-color: #0000ff; text-decoration: underline\">https://github.com/huggingface/transformers/pull/24565</span> - if you loaded a llama tokenizer \n",
       "from a GGUF file you can ignore this message.\u001b<span style=\"font-weight: bold\">[</span>32m \u001b<span style=\"font-weight: bold\">[</span>0m\n",
       "\n",
       "</pre>\n"
      ],
      "text/plain": [
       "Process errors:\n",
       "Cloning into \u001b[32m'llmperf'\u001b[0m\u001b[33m...\u001b[0m\n",
       "\u001b\u001b[1m[\u001b[0m2mResolved \u001b\u001b[1m[\u001b[0m1m104 packages\u001b\u001b[1m[\u001b[0m0m in 147ms\u001b\u001b[1m[\u001b[0m0m\n",
       "\u001b\u001b[1m[\u001b[0m2mDownloaded \u001b\u001b[1m[\u001b[0m1m12 packages\u001b\u001b[1m[\u001b[0m0m in 676ms\u001b\u001b[1m[\u001b[0m0m\n",
       "\u001b\u001b[1m[\u001b[0m2mUninstalled \u001b\u001b[1m[\u001b[0m1m4 packages\u001b\u001b[1m[\u001b[0m0m in 79ms\u001b\u001b[1m[\u001b[0m0m\n",
       "\u001b\u001b[1m[\u001b[0m2mInstalled \u001b\u001b[1m[\u001b[0m1m47 packages\u001b\u001b[1m[\u001b[0m0m in 56ms\u001b\u001b[1m[\u001b[0m0m\n",
       " \u001b\u001b[1m[\u001b[0m32m+\u001b\u001b[1m[\u001b[0m39m \u001b\u001b[1m[\u001b[0m1maiohttp\u001b\u001b[1m[\u001b[0m0m\u001b\u001b[1m[\u001b[0m\u001b[33m2m\u001b[0m==\u001b[1;36m3.9\u001b[0m.\u001b[1;36m5\u001b[0m\u001b\u001b[1m[\u001b[0m0m\n",
       " \u001b\u001b[1m[\u001b[0m32m+\u001b\u001b[1m[\u001b[0m39m \u001b\u001b[1m[\u001b[0m1maiosignal\u001b\u001b[1m[\u001b[0m0m\u001b\u001b[1m[\u001b[0m\u001b[33m2m\u001b[0m==\u001b[1;36m1.3\u001b[0m.\u001b[1;36m1\u001b[0m\u001b\u001b[1m[\u001b[0m0m\n",
       " \u001b\u001b[1m[\u001b[0m32m+\u001b\u001b[1m[\u001b[0m39m \u001b\u001b[1m[\u001b[0m1masync-timeout\u001b\u001b[1m[\u001b[0m0m\u001b\u001b[1m[\u001b[0m\u001b[33m2m\u001b[0m==\u001b[1;36m4.0\u001b[0m.\u001b[1;36m3\u001b[0m\u001b\u001b[1m[\u001b[0m0m\n",
       " \u001b\u001b[1m[\u001b[0m31m-\u001b\u001b[1m[\u001b[0m39m \u001b\u001b[1m[\u001b[0m1mboto3\u001b\u001b[1m[\u001b[0m0m\u001b\u001b[1m[\u001b[0m\u001b[33m2m\u001b[0m==\u001b[1;36m1.34\u001b[0m.\u001b[1;36m142\u001b[0m\u001b\u001b[1m[\u001b[0m0m\n",
       " \u001b\u001b[1m[\u001b[0m32m+\u001b\u001b[1m[\u001b[0m39m \u001b\u001b[1m[\u001b[0m1mboto3\u001b\u001b[1m[\u001b[0m0m\u001b\u001b[1m[\u001b[0m\u001b[33m2m\u001b[0m==\u001b[1;36m1.34\u001b[0m.\u001b[1;36m101\u001b[0m\u001b\u001b[1m[\u001b[0m0m\n",
       " \u001b\u001b[1m[\u001b[0m31m-\u001b\u001b[1m[\u001b[0m39m \u001b\u001b[1m[\u001b[0m1mbotocore\u001b\u001b[1m[\u001b[0m0m\u001b\u001b[1m[\u001b[0m\u001b[33m2m\u001b[0m==\u001b[1;36m1.34\u001b[0m.\u001b[1;36m142\u001b[0m\u001b\u001b[1m[\u001b[0m0m\n",
       " \u001b\u001b[1m[\u001b[0m32m+\u001b\u001b[1m[\u001b[0m39m \u001b\u001b[1m[\u001b[0m1mbotocore\u001b\u001b[1m[\u001b[0m0m\u001b\u001b[1m[\u001b[0m\u001b[33m2m\u001b[0m==\u001b[1;36m1.34\u001b[0m.\u001b[1;36m101\u001b[0m\u001b\u001b[1m[\u001b[0m0m\n",
       " \u001b\u001b[1m[\u001b[0m32m+\u001b\u001b[1m[\u001b[0m39m \u001b\u001b[1m[\u001b[0m1mcachetools\u001b\u001b[1m[\u001b[0m0m\u001b\u001b[1m[\u001b[0m\u001b[33m2m\u001b[0m==\u001b[1;36m5.4\u001b[0m.\u001b[1;36m0\u001b[0m\u001b\u001b[1m[\u001b[0m0m\n",
       " \u001b\u001b[1m[\u001b[0m32m+\u001b\u001b[1m[\u001b[0m39m \u001b\u001b[1m[\u001b[0m1mdistro\u001b\u001b[1m[\u001b[0m0m\u001b\u001b[1m[\u001b[0m\u001b[33m2m\u001b[0m==\u001b[1;36m1.9\u001b[0m.\u001b[1;36m0\u001b[0m\u001b\u001b[1m[\u001b[0m0m\n",
       " \u001b\u001b[1m[\u001b[0m32m+\u001b\u001b[1m[\u001b[0m39m \u001b\u001b[1m[\u001b[0m1mdocopt\u001b\u001b[1m[\u001b[0m0m\u001b\u001b[1m[\u001b[0m\u001b[33m2m\u001b[0m==\u001b[1;36m0.6\u001b[0m.\u001b[1;36m2\u001b[0m\u001b\u001b[1m[\u001b[0m0m\n",
       " \u001b\u001b[1m[\u001b[0m32m+\u001b\u001b[1m[\u001b[0m39m \u001b\u001b[1m[\u001b[0m1mdocstring-parser\u001b\u001b[1m[\u001b[0m0m\u001b\u001b[1m[\u001b[0m\u001b[33m2m\u001b[0m==\u001b[1;36m0.16\u001b[0m\u001b\u001b[1m[\u001b[0m0m\n",
       " \u001b\u001b[1m[\u001b[0m32m+\u001b\u001b[1m[\u001b[0m39m \u001b\u001b[1m[\u001b[0m1mfrozenlist\u001b\u001b[1m[\u001b[0m0m\u001b\u001b[1m[\u001b[0m\u001b[33m2m\u001b[0m==\u001b[1;36m1.4\u001b[0m.\u001b[1;36m1\u001b[0m\u001b\u001b[1m[\u001b[0m0m\n",
       " \u001b\u001b[1m[\u001b[0m32m+\u001b\u001b[1m[\u001b[0m39m \u001b\u001b[1m[\u001b[0m1mgoogle-api-core\u001b\u001b[1m[\u001b[0m0m\u001b\u001b[1m[\u001b[0m\u001b[33m2m\u001b[0m==\u001b[1;36m2.19\u001b[0m.\u001b[1;36m1\u001b[0m\u001b\u001b[1m[\u001b[0m0m\n",
       " \u001b\u001b[1m[\u001b[0m32m+\u001b\u001b[1m[\u001b[0m39m \u001b\u001b[1m[\u001b[0m1mgoogle-auth\u001b\u001b[1m[\u001b[0m0m\u001b\u001b[1m[\u001b[0m\u001b[33m2m\u001b[0m==\u001b[1;36m2.32\u001b[0m.\u001b[1;36m0\u001b[0m\u001b\u001b[1m[\u001b[0m0m\n",
       " \u001b\u001b[1m[\u001b[0m32m+\u001b\u001b[1m[\u001b[0m39m \u001b\u001b[1m[\u001b[0m1mgoogle-cloud-aiplatform\u001b\u001b[1m[\u001b[0m0m\u001b\u001b[1m[\u001b[0m\u001b[33m2m\u001b[0m==\u001b[1;36m1.60\u001b[0m.\u001b[1;36m0\u001b[0m\u001b\u001b[1m[\u001b[0m0m\n",
       " \u001b\u001b[1m[\u001b[0m32m+\u001b\u001b[1m[\u001b[0m39m \u001b\u001b[1m[\u001b[0m1mgoogle-cloud-bigquery\u001b\u001b[1m[\u001b[0m0m\u001b\u001b[1m[\u001b[0m\u001b[33m2m\u001b[0m==\u001b[1;36m3.25\u001b[0m.\u001b[1;36m0\u001b[0m\u001b\u001b[1m[\u001b[0m0m\n",
       " \u001b\u001b[1m[\u001b[0m32m+\u001b\u001b[1m[\u001b[0m39m \u001b\u001b[1m[\u001b[0m1mgoogle-cloud-core\u001b\u001b[1m[\u001b[0m0m\u001b\u001b[1m[\u001b[0m\u001b[33m2m\u001b[0m==\u001b[1;36m2.4\u001b[0m.\u001b[1;36m1\u001b[0m\u001b\u001b[1m[\u001b[0m0m\n",
       " \u001b\u001b[1m[\u001b[0m32m+\u001b\u001b[1m[\u001b[0m39m \u001b\u001b[1m[\u001b[0m1mgoogle-cloud-resource-manager\u001b\u001b[1m[\u001b[0m0m\u001b\u001b[1m[\u001b[0m\u001b[33m2m\u001b[0m==\u001b[1;36m1.12\u001b[0m.\u001b[1;36m4\u001b[0m\u001b\u001b[1m[\u001b[0m0m\n",
       " \u001b\u001b[1m[\u001b[0m32m+\u001b\u001b[1m[\u001b[0m39m \u001b\u001b[1m[\u001b[0m1mgoogle-cloud-storage\u001b\u001b[1m[\u001b[0m0m\u001b\u001b[1m[\u001b[0m\u001b[33m2m\u001b[0m==\u001b[1;36m2.18\u001b[0m.\u001b[1;36m0\u001b[0m\u001b\u001b[1m[\u001b[0m0m\n",
       " \u001b\u001b[1m[\u001b[0m32m+\u001b\u001b[1m[\u001b[0m39m \u001b\u001b[1m[\u001b[0m1mgoogle-crc32c\u001b\u001b[1m[\u001b[0m0m\u001b\u001b[1m[\u001b[0m\u001b[33m2m\u001b[0m==\u001b[1;36m1.5\u001b[0m.\u001b[1;36m0\u001b[0m\u001b\u001b[1m[\u001b[0m0m\n",
       " \u001b\u001b[1m[\u001b[0m32m+\u001b\u001b[1m[\u001b[0m39m \u001b\u001b[1m[\u001b[0m1mgoogle-resumable-media\u001b\u001b[1m[\u001b[0m0m\u001b\u001b[1m[\u001b[0m\u001b[33m2m\u001b[0m==\u001b[1;36m2.7\u001b[0m.\u001b[1;36m1\u001b[0m\u001b\u001b[1m[\u001b[0m0m\n",
       " \u001b\u001b[1m[\u001b[0m32m+\u001b\u001b[1m[\u001b[0m39m \u001b\u001b[1m[\u001b[0m1mgoogleapis-common-protos\u001b\u001b[1m[\u001b[0m0m\u001b\u001b[1m[\u001b[0m\u001b[33m2m\u001b[0m==\u001b[1;36m1.63\u001b[0m.\u001b[1;36m2\u001b[0m\u001b\u001b[1m[\u001b[0m0m\n",
       " \u001b\u001b[1m[\u001b[0m32m+\u001b\u001b[1m[\u001b[0m39m \u001b\u001b[1m[\u001b[0m1mgrpc-google-iam-v1\u001b\u001b[1m[\u001b[0m0m\u001b\u001b[1m[\u001b[0m\u001b[33m2m\u001b[0m==\u001b[1;36m0.13\u001b[0m.\u001b[1;36m1\u001b[0m\u001b\u001b[1m[\u001b[0m0m\n",
       " \u001b\u001b[1m[\u001b[0m32m+\u001b\u001b[1m[\u001b[0m39m \u001b\u001b[1m[\u001b[0m1mgrpcio\u001b\u001b[1m[\u001b[0m0m\u001b\u001b[1m[\u001b[0m\u001b[33m2m\u001b[0m==\u001b[1;36m1.65\u001b[0m.\u001b[1;36m1\u001b[0m\u001b\u001b[1m[\u001b[0m0m\n",
       " \u001b\u001b[1m[\u001b[0m32m+\u001b\u001b[1m[\u001b[0m39m \u001b\u001b[1m[\u001b[0m1mgrpcio-status\u001b\u001b[1m[\u001b[0m0m\u001b\u001b[1m[\u001b[0m\u001b[33m2m\u001b[0m==\u001b[1;36m1.62\u001b[0m.\u001b[1;36m2\u001b[0m\u001b\u001b[1m[\u001b[0m0m\n",
       " \u001b\u001b[1m[\u001b[0m32m+\u001b\u001b[1m[\u001b[0m39m \u001b\u001b[1m[\u001b[0m1mhuggingface-hub\u001b\u001b[1m[\u001b[0m0m\u001b\u001b[1m[\u001b[0m\u001b[33m2m\u001b[0m==\u001b[1;36m0.24\u001b[0m.\u001b[1;36m2\u001b[0m\u001b\u001b[1m[\u001b[0m0m\n",
       " \u001b\u001b[1m[\u001b[0m32m+\u001b\u001b[1m[\u001b[0m39m \u001b\u001b[1m[\u001b[0m1miniconfig\u001b\u001b[1m[\u001b[0m0m\u001b\u001b[1m[\u001b[0m\u001b[33m2m\u001b[0m==\u001b[1;36m2.0\u001b[0m.\u001b[1;36m0\u001b[0m\u001b\u001b[1m[\u001b[0m0m\n",
       " \u001b\u001b[1m[\u001b[0m32m+\u001b\u001b[1m[\u001b[0m39m \u001b\u001b[1m[\u001b[0m1mlitellm\u001b\u001b[1m[\u001b[0m0m\u001b\u001b[1m[\u001b[0m\u001b[33m2m\u001b[0m==\u001b[1;36m1.42\u001b[0m.\u001b[1;36m5\u001b[0m\u001b\u001b[1m[\u001b[0m0m\n",
       " \u001b\u001b[1m[\u001b[0m32m+\u001b\u001b[1m[\u001b[0m39m \u001b\u001b[1m[\u001b[0m1mllmperf\u001b\u001b[1m[\u001b[0m0m\u001b\u001b[1m[\u001b[0m\u001b[33m2m\u001b[0m==\u001b[1;36m0.1\u001b[0m.\u001b[1;36m0\u001b[0m \u001b[1m(\u001b[0mfrom \n",
       "\u001b[4;94mfile:///home/ec2-user/SageMaker/aws-ai-ml-workshop-kr/genai/aws-gen-ai-kr/30_fine_tune/03-fine-tune-llama3/notebook\u001b[0m\n",
       "\u001b[4;94m/02-naver-news-llama3-inference/backup/01-Llama3-8B-Autoscaling/llmperf\u001b[0m\u001b[4;94m)\u001b[0m\u001b\u001b[1m[\u001b[0m0m\n",
       " \u001b\u001b[1m[\u001b[0m32m+\u001b\u001b[1m[\u001b[0m39m \u001b\u001b[1m[\u001b[0m1mmsgpack\u001b\u001b[1m[\u001b[0m0m\u001b\u001b[1m[\u001b[0m\u001b[33m2m\u001b[0m==\u001b[1;36m1.0\u001b[0m.\u001b[1;36m8\u001b[0m\u001b\u001b[1m[\u001b[0m0m\n",
       " \u001b\u001b[1m[\u001b[0m32m+\u001b\u001b[1m[\u001b[0m39m \u001b\u001b[1m[\u001b[0m1mmultidict\u001b\u001b[1m[\u001b[0m0m\u001b\u001b[1m[\u001b[0m\u001b[33m2m\u001b[0m==\u001b[1;36m6.0\u001b[0m.\u001b[1;36m5\u001b[0m\u001b\u001b[1m[\u001b[0m0m\n",
       " \u001b\u001b[1m[\u001b[0m32m+\u001b\u001b[1m[\u001b[0m39m \u001b\u001b[1m[\u001b[0m1mnum2words\u001b\u001b[1m[\u001b[0m0m\u001b\u001b[1m[\u001b[0m\u001b[33m2m\u001b[0m==\u001b[1;36m0.5\u001b[0m.\u001b[1;36m13\u001b[0m\u001b\u001b[1m[\u001b[0m0m\n",
       " \u001b\u001b[1m[\u001b[0m32m+\u001b\u001b[1m[\u001b[0m39m \u001b\u001b[1m[\u001b[0m1mopenai\u001b\u001b[1m[\u001b[0m0m\u001b\u001b[1m[\u001b[0m\u001b[33m2m\u001b[0m==\u001b[1;36m1.37\u001b[0m.\u001b[1;36m1\u001b[0m\u001b\u001b[1m[\u001b[0m0m\n",
       " \u001b\u001b[1m[\u001b[0m32m+\u001b\u001b[1m[\u001b[0m39m \u001b\u001b[1m[\u001b[0m1mpluggy\u001b\u001b[1m[\u001b[0m0m\u001b\u001b[1m[\u001b[0m\u001b[33m2m\u001b[0m==\u001b[1;36m1.5\u001b[0m.\u001b[1;36m0\u001b[0m\u001b\u001b[1m[\u001b[0m0m\n",
       " \u001b\u001b[1m[\u001b[0m32m+\u001b\u001b[1m[\u001b[0m39m \u001b\u001b[1m[\u001b[0m1mproto-plus\u001b\u001b[1m[\u001b[0m0m\u001b\u001b[1m[\u001b[0m\u001b[33m2m\u001b[0m==\u001b[1;36m1.24\u001b[0m.\u001b[1;36m0\u001b[0m\u001b\u001b[1m[\u001b[0m0m\n",
       " \u001b\u001b[1m[\u001b[0m32m+\u001b\u001b[1m[\u001b[0m39m \u001b\u001b[1m[\u001b[0m1mpyasn1-modules\u001b\u001b[1m[\u001b[0m0m\u001b\u001b[1m[\u001b[0m\u001b[33m2m\u001b[0m==\u001b[1;36m0.4\u001b[0m.\u001b[1;36m0\u001b[0m\u001b\u001b[1m[\u001b[0m0m\n",
       " \u001b\u001b[1m[\u001b[0m31m-\u001b\u001b[1m[\u001b[0m39m \u001b\u001b[1m[\u001b[0m1mpydantic\u001b\u001b[1m[\u001b[0m0m\u001b\u001b[1m[\u001b[0m\u001b[33m2m\u001b[0m==\u001b[1;36m2.6\u001b[0m.\u001b[1;36m4\u001b[0m \u001b[1m(\u001b[0mfrom \n",
       "\u001b[4;94mfile:///home/conda/feedstock_root/build_artifacts/pydantic_1710622263606/work\u001b[0m\u001b[4;94m)\u001b[0m\u001b\u001b[1m[\u001b[0m0m\n",
       " \u001b\u001b[1m[\u001b[0m32m+\u001b\u001b[1m[\u001b[0m39m \u001b\u001b[1m[\u001b[0m1mpydantic\u001b\u001b[1m[\u001b[0m0m\u001b\u001b[1m[\u001b[0m\u001b[33m2m\u001b[0m==\u001b[1;36m2.4\u001b[0m.\u001b[1;36m2\u001b[0m\u001b\u001b[1m[\u001b[0m0m\n",
       " \u001b\u001b[1m[\u001b[0m31m-\u001b\u001b[1m[\u001b[0m39m \u001b\u001b[1m[\u001b[0m1mpydantic-core\u001b\u001b[1m[\u001b[0m0m\u001b\u001b[1m[\u001b[0m\u001b[33m2m\u001b[0m==\u001b[1;36m2.16\u001b[0m.\u001b[1;36m3\u001b[0m \u001b[1m(\u001b[0mfrom \n",
       "\u001b[4;94mfile:///home/conda/feedstock_root/build_artifacts/pydantic-core_1708700740324/work\u001b[0m\u001b[4;94m)\u001b[0m\u001b\u001b[1m[\u001b[0m0m\n",
       " \u001b\u001b[1m[\u001b[0m32m+\u001b\u001b[1m[\u001b[0m39m \u001b\u001b[1m[\u001b[0m1mpydantic-core\u001b\u001b[1m[\u001b[0m0m\u001b\u001b[1m[\u001b[0m\u001b[33m2m\u001b[0m==\u001b[1;36m2.10\u001b[0m.\u001b[1;36m1\u001b[0m\u001b\u001b[1m[\u001b[0m0m\n",
       " \u001b\u001b[1m[\u001b[0m32m+\u001b\u001b[1m[\u001b[0m39m \u001b\u001b[1m[\u001b[0m1mpytest\u001b\u001b[1m[\u001b[0m0m\u001b\u001b[1m[\u001b[0m\u001b[33m2m\u001b[0m==\u001b[1;36m8.3\u001b[0m.\u001b[1;36m2\u001b[0m\u001b\u001b[1m[\u001b[0m0m\n",
       " \u001b\u001b[1m[\u001b[0m32m+\u001b\u001b[1m[\u001b[0m39m \u001b\u001b[1m[\u001b[0m1mray\u001b\u001b[1m[\u001b[0m0m\u001b\u001b[1m[\u001b[0m\u001b[33m2m\u001b[0m==\u001b[1;36m2.33\u001b[0m.\u001b[1;36m0\u001b[0m\u001b\u001b[1m[\u001b[0m0m\n",
       " \u001b\u001b[1m[\u001b[0m32m+\u001b\u001b[1m[\u001b[0m39m \u001b\u001b[1m[\u001b[0m1mregex\u001b\u001b[1m[\u001b[0m0m\u001b\u001b[1m[\u001b[0m\u001b[33m2m\u001b[0m==\u001b[1;36m2024.7\u001b[0m.\u001b[1;36m24\u001b[0m\u001b\u001b[1m[\u001b[0m0m\n",
       " \u001b\u001b[1m[\u001b[0m32m+\u001b\u001b[1m[\u001b[0m39m \u001b\u001b[1m[\u001b[0m1msafetensors\u001b\u001b[1m[\u001b[0m0m\u001b\u001b[1m[\u001b[0m\u001b[33m2m\u001b[0m==\u001b[1;36m0.4\u001b[0m.\u001b[1;36m3\u001b[0m\u001b\u001b[1m[\u001b[0m0m\n",
       " \u001b\u001b[1m[\u001b[0m32m+\u001b\u001b[1m[\u001b[0m39m \u001b\u001b[1m[\u001b[0m1mshapely\u001b\u001b[1m[\u001b[0m0m\u001b\u001b[1m[\u001b[0m\u001b[33m2m\u001b[0m==\u001b[1;36m2.0\u001b[0m.\u001b[1;36m5\u001b[0m\u001b\u001b[1m[\u001b[0m0m\n",
       " \u001b\u001b[1m[\u001b[0m32m+\u001b\u001b[1m[\u001b[0m39m \u001b\u001b[1m[\u001b[0m1mshellingham\u001b\u001b[1m[\u001b[0m0m\u001b\u001b[1m[\u001b[0m\u001b[33m2m\u001b[0m==\u001b[1;36m1.5\u001b[0m.\u001b[1;36m4\u001b[0m\u001b\u001b[1m[\u001b[0m0m\n",
       " \u001b\u001b[1m[\u001b[0m32m+\u001b\u001b[1m[\u001b[0m39m \u001b\u001b[1m[\u001b[0m1mtiktoken\u001b\u001b[1m[\u001b[0m0m\u001b\u001b[1m[\u001b[0m\u001b[33m2m\u001b[0m==\u001b[1;36m0.7\u001b[0m.\u001b[1;36m0\u001b[0m\u001b\u001b[1m[\u001b[0m0m\n",
       " \u001b\u001b[1m[\u001b[0m32m+\u001b\u001b[1m[\u001b[0m39m \u001b\u001b[1m[\u001b[0m1mtokenizers\u001b\u001b[1m[\u001b[0m0m\u001b\u001b[1m[\u001b[0m\u001b[33m2m\u001b[0m==\u001b[1;36m0.19\u001b[0m.\u001b[1;36m1\u001b[0m\u001b\u001b[1m[\u001b[0m0m\n",
       " \u001b\u001b[1m[\u001b[0m32m+\u001b\u001b[1m[\u001b[0m39m \u001b\u001b[1m[\u001b[0m1mtransformers\u001b\u001b[1m[\u001b[0m0m\u001b\u001b[1m[\u001b[0m\u001b[33m2m\u001b[0m==\u001b[1;36m4.43\u001b[0m.\u001b[1;36m3\u001b[0m\u001b\u001b[1m[\u001b[0m0m\n",
       " \u001b\u001b[1m[\u001b[0m32m+\u001b\u001b[1m[\u001b[0m39m \u001b\u001b[1m[\u001b[0m1mtyper\u001b\u001b[1m[\u001b[0m0m\u001b\u001b[1m[\u001b[0m\u001b[33m2m\u001b[0m==\u001b[1;36m0.12\u001b[0m.\u001b[1;36m3\u001b[0m\u001b\u001b[1m[\u001b[0m0m\n",
       " \u001b\u001b[1m[\u001b[0m32m+\u001b\u001b[1m[\u001b[0m39m \u001b\u001b[1m[\u001b[0m1myarl\u001b\u001b[1m[\u001b[0m0m\u001b\u001b[1m[\u001b[0m\u001b[33m2m\u001b[0m==\u001b[1;36m1.9\u001b[0m.\u001b[1;36m4\u001b[0m\u001b\u001b[1m[\u001b[0m0m\n",
       "\u001b[1;36m2024\u001b[0m-\u001b[1;36m07\u001b[0m-\u001b[1;36m28\u001b[0m \u001b[1;92m08:40:41\u001b[0m,\u001b[1;36m610\u001b[0m INFO worker.py:\u001b[1;36m1781\u001b[0m -- Started a local Ray instance.\n",
       "You are using the default legacy behaviour of the \u001b[1m<\u001b[0m\u001b[1;95mclass\u001b[0m\u001b[39m \u001b[0m\n",
       "\u001b[32m'transformers.models.llama.tokenization_llama_fast.LlamaTokenizerFast'\u001b[0m\u001b[39m>. This is expected, and simply means that \u001b[0m\n",
       "\u001b[39mthe `legacy` \u001b[0m\u001b[1;39m(\u001b[0m\u001b[39mprevious\u001b[0m\u001b[1;39m)\u001b[0m\u001b[39m behavior will be used so nothing changes for you. If you want to use the new behaviour, set\u001b[0m\n",
       "\u001b[39m`\u001b[0m\u001b[33mlegacy\u001b[0m\u001b[39m=\u001b[0m\u001b[3;91mFalse\u001b[0m\u001b[39m`. This should only be set if you understand what it means, and thoroughly read the reason why this \u001b[0m\n",
       "\u001b[39mwas added as explained in \u001b[0m\u001b[4;94mhttps://github.com/huggingface/transformers/pull/24565\u001b[0m\u001b[39m - if you loaded a llama tokenizer \u001b[0m\n",
       "\u001b[39mfrom a GGUF file you can ignore this message.\u001b[0m\n",
       "\u001b[39m  \u001b[0m\u001b[1;36m0\u001b[0m\u001b[39m%|          | \u001b[0m\u001b[1;36m0\u001b[0m\u001b[39m/\u001b[0m\u001b[1;36m1000\u001b[0m\u001b[39m \u001b[0m\u001b[1;39m[\u001b[0m\u001b[1;92m00:00\u001b[0m\u001b[39m<?, ?it/s\u001b[0m\u001b[1;39m]\u001b[0m\u001b[39m  \u001b[0m\u001b[1;36m0\u001b[0m\u001b[39m%|          | \u001b[0m\u001b[1;36m0\u001b[0m\u001b[39m/\u001b[0m\u001b[1;36m1000\u001b[0m\u001b[39m \u001b[0m\u001b[1;39m[\u001b[0m\u001b[1;92m00:00\u001b[0m\u001b[39m<?, ?it/s\u001b[0m\u001b[1;39m]\u001b[0m\u001b[39m  \u001b[0m\u001b[1;36m0\u001b[0m\u001b[39m%|          | \u001b[0m\u001b[1;36m0\u001b[0m\u001b[39m/\u001b[0m\u001b[1;36m1000\u001b[0m\u001b[39m \u001b[0m\u001b[1;39m[\u001b[0m\u001b[1;92m00:00\u001b[0m\u001b[39m<?, \u001b[0m\n",
       "\u001b[39m?it/s\u001b[0m\u001b[1;39m]\u001b[0m\u001b[39m  \u001b[0m\u001b[1;36m0\u001b[0m\u001b[39m%|          | \u001b[0m\u001b[1;36m0\u001b[0m\u001b[39m/\u001b[0m\u001b[1;36m1000\u001b[0m\u001b[39m \u001b[0m\u001b[1;39m[\u001b[0m\u001b[1;92m00:00\u001b[0m\u001b[39m<?, ?it/s\u001b[0m\u001b[1;39m]\u001b[0m\u001b[39m  \u001b[0m\u001b[1;36m0\u001b[0m\u001b[39m%|          | \u001b[0m\u001b[1;36m0\u001b[0m\u001b[39m/\u001b[0m\u001b[1;36m1000\u001b[0m\u001b[39m \u001b[0m\u001b[1;39m[\u001b[0m\u001b[1;92m00:00\u001b[0m\u001b[39m<?, ?it/s\u001b[0m\u001b[1;39m]\u001b[0m\u001b[39m  \u001b[0m\u001b[1;36m0\u001b[0m\u001b[39m%|          | \u001b[0m\u001b[1;36m0\u001b[0m\u001b[39m/\u001b[0m\u001b[1;36m1000\u001b[0m\u001b[39m \u001b[0m\n",
       "\u001b[1;39m[\u001b[0m\u001b[1;92m00:00\u001b[0m\u001b[39m<?, ?it/s\u001b[0m\u001b[1;39m]\u001b[0m\u001b[39m  \u001b[0m\u001b[1;36m0\u001b[0m\u001b[39m%|          | \u001b[0m\u001b[1;36m0\u001b[0m\u001b[39m/\u001b[0m\u001b[1;36m1000\u001b[0m\u001b[39m \u001b[0m\u001b[1;39m[\u001b[0m\u001b[1;92m00:01\u001b[0m\u001b[39m<?, ?it/s\u001b[0m\u001b[1;39m]\u001b[0m\u001b[39m  \u001b[0m\u001b[1;36m0\u001b[0m\u001b[39m%|          | \u001b[0m\u001b[1;36m0\u001b[0m\u001b[39m/\u001b[0m\u001b[1;36m1000\u001b[0m\u001b[39m \u001b[0m\u001b[1;39m[\u001b[0m\u001b[1;92m00:01\u001b[0m\u001b[39m<?, ?it/s\u001b[0m\u001b[1;39m]\u001b[0m\u001b[39m  \u001b[0m\u001b[1;36m0\u001b[0m\u001b[39m%|          | \u001b[0m\n",
       "\u001b[1;36m0\u001b[0m\u001b[39m/\u001b[0m\u001b[1;36m1000\u001b[0m\u001b[39m \u001b[0m\u001b[1;39m[\u001b[0m\u001b[1;92m00:01\u001b[0m\u001b[39m<?, ?it/s\u001b[0m\u001b[1;39m]\u001b[0m\u001b[39m  \u001b[0m\u001b[1;36m0\u001b[0m\u001b[39m%|          | \u001b[0m\u001b[1;36m0\u001b[0m\u001b[39m/\u001b[0m\u001b[1;36m1000\u001b[0m\u001b[39m \u001b[0m\u001b[1;39m[\u001b[0m\u001b[1;92m00:01\u001b[0m\u001b[39m<?, ?it/s\u001b[0m\u001b[1;39m]\u001b[0m\u001b[39m  \u001b[0m\u001b[1;36m0\u001b[0m\u001b[39m%|          | \u001b[0m\u001b[1;36m0\u001b[0m\u001b[39m/\u001b[0m\u001b[1;36m1000\u001b[0m\u001b[39m \u001b[0m\u001b[1;39m[\u001b[0m\u001b[1;92m00:01\u001b[0m\u001b[39m<?, ?it/s\u001b[0m\u001b[1;39m]\u001b[0m\u001b[39m  \u001b[0m\u001b[1;36m0\u001b[0m\u001b[39m%|       \u001b[0m\n",
       "\u001b[39m| \u001b[0m\u001b[1;36m0\u001b[0m\u001b[39m/\u001b[0m\u001b[1;36m1000\u001b[0m\u001b[39m \u001b[0m\u001b[1;39m[\u001b[0m\u001b[1;92m00:01\u001b[0m\u001b[39m<?, ?it/s\u001b[0m\u001b[1;39m]\u001b[0m\u001b[39m  \u001b[0m\u001b[1;36m0\u001b[0m\u001b[39m%|          | \u001b[0m\u001b[1;36m0\u001b[0m\u001b[39m/\u001b[0m\u001b[1;36m1000\u001b[0m\u001b[39m \u001b[0m\u001b[1;39m[\u001b[0m\u001b[1;92m00:02\u001b[0m\u001b[39m<?, ?it/s\u001b[0m\u001b[1;39m]\u001b[0m\u001b[39m  \u001b[0m\u001b[1;36m0\u001b[0m\u001b[39m%|          | \u001b[0m\u001b[1;36m0\u001b[0m\u001b[39m/\u001b[0m\u001b[1;36m1000\u001b[0m\u001b[39m \u001b[0m\u001b[1;39m[\u001b[0m\u001b[1;92m00:02\u001b[0m\u001b[39m<?, ?it/s\u001b[0m\u001b[1;39m]\u001b[0m\u001b[39m  \u001b[0m\u001b[1;36m0\u001b[0m\u001b[39m%|     \u001b[0m\n",
       "\u001b[39m| \u001b[0m\u001b[1;36m0\u001b[0m\u001b[39m/\u001b[0m\u001b[1;36m1000\u001b[0m\u001b[39m \u001b[0m\u001b[1;39m[\u001b[0m\u001b[1;92m00:02\u001b[0m\u001b[39m<?, ?it/s\u001b[0m\u001b[1;39m]\u001b[0m\u001b[39m  \u001b[0m\u001b[1;36m0\u001b[0m\u001b[39m%|          | \u001b[0m\u001b[1;36m0\u001b[0m\u001b[39m/\u001b[0m\u001b[1;36m1000\u001b[0m\u001b[39m \u001b[0m\u001b[1;39m[\u001b[0m\u001b[1;92m00:02\u001b[0m\u001b[39m<?, ?it/s\u001b[0m\u001b[1;39m]\u001b[0m\u001b[39m  \u001b[0m\u001b[1;36m0\u001b[0m\u001b[39m%|          | \u001b[0m\u001b[1;36m0\u001b[0m\u001b[39m/\u001b[0m\u001b[1;36m1000\u001b[0m\u001b[39m \u001b[0m\u001b[1;39m[\u001b[0m\u001b[1;92m00:02\u001b[0m\u001b[39m<?, ?it/s\u001b[0m\u001b[1;39m]\u001b[0m\u001b[39m  \u001b[0m\u001b[1;36m0\u001b[0m\u001b[39m%|     \u001b[0m\n",
       "\u001b[39m| \u001b[0m\u001b[1;36m0\u001b[0m\u001b[39m/\u001b[0m\u001b[1;36m1000\u001b[0m\u001b[39m \u001b[0m\u001b[1;39m[\u001b[0m\u001b[1;92m00:02\u001b[0m\u001b[39m<?, ?it/s\u001b[0m\u001b[1;39m]\u001b[0m\u001b[39m  \u001b[0m\u001b[1;36m0\u001b[0m\u001b[39m%|          | \u001b[0m\u001b[1;36m0\u001b[0m\u001b[39m/\u001b[0m\u001b[1;36m1000\u001b[0m\u001b[39m \u001b[0m\u001b[1;39m[\u001b[0m\u001b[1;92m00:02\u001b[0m\u001b[39m<?, ?it/s\u001b[0m\u001b[1;39m]\u001b[0m\u001b[39m  \u001b[0m\u001b[1;36m0\u001b[0m\u001b[39m%|          | \u001b[0m\u001b[1;36m0\u001b[0m\u001b[39m/\u001b[0m\u001b[1;36m1000\u001b[0m\u001b[39m \u001b[0m\u001b[1;39m[\u001b[0m\u001b[1;92m00:03\u001b[0m\u001b[39m<?, ?it/s\u001b[0m\u001b[1;39m]\u001b[0m\u001b[39m  \u001b[0m\u001b[1;36m0\u001b[0m\u001b[39m%|     \u001b[0m\n",
       "\u001b[39m| \u001b[0m\u001b[1;36m0\u001b[0m\u001b[39m/\u001b[0m\u001b[1;36m1000\u001b[0m\u001b[39m \u001b[0m\u001b[1;39m[\u001b[0m\u001b[1;92m00:03\u001b[0m\u001b[39m<?, ?it/s\u001b[0m\u001b[1;39m]\u001b[0m\u001b[39m  \u001b[0m\u001b[1;36m0\u001b[0m\u001b[39m%|          | \u001b[0m\u001b[1;36m0\u001b[0m\u001b[39m/\u001b[0m\u001b[1;36m1000\u001b[0m\u001b[39m \u001b[0m\u001b[1;39m[\u001b[0m\u001b[1;92m00:03\u001b[0m\u001b[39m<?, ?it/s\u001b[0m\u001b[1;39m]\u001b[0m\u001b[39m  \u001b[0m\u001b[1;36m0\u001b[0m\u001b[39m%|          | \u001b[0m\u001b[1;36m0\u001b[0m\u001b[39m/\u001b[0m\u001b[1;36m1000\u001b[0m\u001b[39m \u001b[0m\u001b[1;39m[\u001b[0m\u001b[1;92m00:03\u001b[0m\u001b[39m<?, ?it/s\u001b[0m\u001b[1;39m]\u001b[0m\u001b[39m  \u001b[0m\u001b[1;36m0\u001b[0m\u001b[39m%|     \u001b[0m\n",
       "\u001b[39m| \u001b[0m\u001b[1;36m0\u001b[0m\u001b[39m/\u001b[0m\u001b[1;36m1000\u001b[0m\u001b[39m \u001b[0m\u001b[1;39m[\u001b[0m\u001b[1;92m00:03\u001b[0m\u001b[39m<?, ?it/s\u001b[0m\u001b[1;39m]\u001b[0m\u001b[39m\u001b\u001b[0m\u001b[1;39m[\u001b[0m\u001b[1;35m36m\u001b[0m\u001b[1;39m(\u001b[0m\u001b[39mSageMakerClient \u001b[0m\u001b[33mpid\u001b[0m\u001b[39m=\u001b[0m\u001b[1;36m22557\u001b[0m\u001b[1;39m)\u001b[0m\u001b[39m\u001b\u001b[0m\u001b[1;39m[\u001b[0m\u001b[39m0m You are using the default legacy behaviour of the \u001b[0m\n",
       "\u001b[39m<class \u001b[0m\u001b[32m'transformers.models.llama.tokenization_llama_fast.LlamaTokenizerFast'\u001b[0m\u001b[39m>. This is expected, and simply means \u001b[0m\n",
       "\u001b[39mthat the `legacy` \u001b[0m\u001b[1;39m(\u001b[0m\u001b[39mprevious\u001b[0m\u001b[1;39m)\u001b[0m\u001b[39m behavior will be used so nothing changes for you. If you want to use the new \u001b[0m\n",
       "\u001b[39mbehaviour, set `\u001b[0m\u001b[33mlegacy\u001b[0m\u001b[39m=\u001b[0m\u001b[3;91mFalse\u001b[0m\u001b[39m`. This should only be set if you understand what it means, and thoroughly read the \u001b[0m\n",
       "\u001b[39mreason why this was added as explained in \u001b[0m\u001b[4;94mhttps://github.com/huggingface/transformers/pull/24565\u001b[0m\u001b[39m - if you loaded a \u001b[0m\n",
       "\u001b[39mllama tokenizer from a GGUF file you can ignore this message.\u001b[0m\n",
       "\u001b[39m  \u001b[0m\u001b[1;36m0\u001b[0m\u001b[39m%|          | \u001b[0m\u001b[1;36m0\u001b[0m\u001b[39m/\u001b[0m\u001b[1;36m1000\u001b[0m\u001b[39m \u001b[0m\u001b[1;39m[\u001b[0m\u001b[1;92m00:03\u001b[0m\u001b[39m<?, ?it/s\u001b[0m\u001b[1;39m]\u001b[0m\u001b[39m  \u001b[0m\u001b[1;36m0\u001b[0m\u001b[39m%|          | \u001b[0m\u001b[1;36m0\u001b[0m\u001b[39m/\u001b[0m\u001b[1;36m1000\u001b[0m\u001b[39m \u001b[0m\u001b[1;39m[\u001b[0m\u001b[1;92m00:04\u001b[0m\u001b[39m<?, ?it/s\u001b[0m\u001b[1;39m]\u001b[0m\u001b[39m  \u001b[0m\u001b[1;36m0\u001b[0m\u001b[39m%|          | \u001b[0m\u001b[1;36m0\u001b[0m\u001b[39m/\u001b[0m\u001b[1;36m1000\u001b[0m\u001b[39m \u001b[0m\u001b[1;39m[\u001b[0m\u001b[1;92m00:04\u001b[0m\u001b[39m<?, \u001b[0m\n",
       "\u001b[39m?it/s\u001b[0m\u001b[1;39m]\u001b[0m\u001b[39m  \u001b[0m\u001b[1;36m0\u001b[0m\u001b[39m%|          | \u001b[0m\u001b[1;36m0\u001b[0m\u001b[39m/\u001b[0m\u001b[1;36m1000\u001b[0m\u001b[39m \u001b[0m\u001b[1;39m[\u001b[0m\u001b[1;92m00:04\u001b[0m\u001b[39m<?, ?it/s\u001b[0m\u001b[1;39m]\u001b[0m\u001b[39m  \u001b[0m\u001b[1;36m0\u001b[0m\u001b[39m%|          | \u001b[0m\u001b[1;36m0\u001b[0m\u001b[39m/\u001b[0m\u001b[1;36m1000\u001b[0m\u001b[39m \u001b[0m\u001b[1;39m[\u001b[0m\u001b[1;92m00:04\u001b[0m\u001b[39m<?, ?it/s\u001b[0m\u001b[1;39m]\u001b[0m\u001b[39m  \u001b[0m\u001b[1;36m0\u001b[0m\u001b[39m%|          | \u001b[0m\u001b[1;36m0\u001b[0m\u001b[39m/\u001b[0m\u001b[1;36m1000\u001b[0m\u001b[39m \u001b[0m\n",
       "\u001b[1;39m[\u001b[0m\u001b[1;92m00:04\u001b[0m\u001b[39m<?, ?it/s\u001b[0m\u001b[1;39m]\u001b[0m\u001b[39m  \u001b[0m\u001b[1;36m0\u001b[0m\u001b[39m%|          | \u001b[0m\u001b[1;36m0\u001b[0m\u001b[39m/\u001b[0m\u001b[1;36m1000\u001b[0m\u001b[39m \u001b[0m\u001b[1;39m[\u001b[0m\u001b[1;92m00:05\u001b[0m\u001b[39m<?, ?it/s\u001b[0m\u001b[1;39m]\u001b[0m\u001b[39m  \u001b[0m\u001b[1;36m0\u001b[0m\u001b[39m%|          | \u001b[0m\u001b[1;36m0\u001b[0m\u001b[39m/\u001b[0m\u001b[1;36m1000\u001b[0m\u001b[39m \u001b[0m\u001b[1;39m[\u001b[0m\u001b[1;92m00:05\u001b[0m\u001b[39m<?, ?it/s\u001b[0m\u001b[1;39m]\u001b[0m\u001b[39m  \u001b[0m\u001b[1;36m0\u001b[0m\u001b[39m%|          | \u001b[0m\n",
       "\u001b[1;36m0\u001b[0m\u001b[39m/\u001b[0m\u001b[1;36m1000\u001b[0m\u001b[39m \u001b[0m\u001b[1;39m[\u001b[0m\u001b[1;92m00:05\u001b[0m\u001b[39m<?, ?it/s\u001b[0m\u001b[1;39m]\u001b[0m\u001b[39m  \u001b[0m\u001b[1;36m0\u001b[0m\u001b[39m%|          | \u001b[0m\u001b[1;36m0\u001b[0m\u001b[39m/\u001b[0m\u001b[1;36m1000\u001b[0m\u001b[39m \u001b[0m\u001b[1;39m[\u001b[0m\u001b[1;92m00:05\u001b[0m\u001b[39m<?, ?it/s\u001b[0m\u001b[1;39m]\u001b[0m\u001b[39m  \u001b[0m\u001b[1;36m0\u001b[0m\u001b[39m%|          | \u001b[0m\u001b[1;36m0\u001b[0m\u001b[39m/\u001b[0m\u001b[1;36m1000\u001b[0m\u001b[39m \u001b[0m\u001b[1;39m[\u001b[0m\u001b[1;92m00:05\u001b[0m\u001b[39m<?, ?it/s\u001b[0m\u001b[1;39m]\u001b[0m\u001b[39m  \u001b[0m\u001b[1;36m0\u001b[0m\u001b[39m%|       \u001b[0m\n",
       "\u001b[39m| \u001b[0m\u001b[1;36m0\u001b[0m\u001b[39m/\u001b[0m\u001b[1;36m1000\u001b[0m\u001b[39m \u001b[0m\u001b[1;39m[\u001b[0m\u001b[1;92m00:05\u001b[0m\u001b[39m<?, ?it/s\u001b[0m\u001b[1;39m]\u001b[0m\u001b[39m  \u001b[0m\u001b[1;36m0\u001b[0m\u001b[39m%|          | \u001b[0m\u001b[1;36m0\u001b[0m\u001b[39m/\u001b[0m\u001b[1;36m1000\u001b[0m\u001b[39m \u001b[0m\u001b[1;39m[\u001b[0m\u001b[1;92m00:06\u001b[0m\u001b[39m<?, ?it/s\u001b[0m\u001b[1;39m]\u001b[0m\u001b[39m  \u001b[0m\u001b[1;36m0\u001b[0m\u001b[39m%|          | \u001b[0m\u001b[1;36m0\u001b[0m\u001b[39m/\u001b[0m\u001b[1;36m1000\u001b[0m\u001b[39m \u001b[0m\u001b[1;39m[\u001b[0m\u001b[1;92m00:06\u001b[0m\u001b[39m<?, ?it/s\u001b[0m\u001b[1;39m]\u001b[0m\u001b[39m  \u001b[0m\u001b[1;36m0\u001b[0m\u001b[39m%|     \u001b[0m\n",
       "\u001b[39m| \u001b[0m\u001b[1;36m0\u001b[0m\u001b[39m/\u001b[0m\u001b[1;36m1000\u001b[0m\u001b[39m \u001b[0m\u001b[1;39m[\u001b[0m\u001b[1;92m00:06\u001b[0m\u001b[39m<?, ?it/s\u001b[0m\u001b[1;39m]\u001b[0m\u001b[39m  \u001b[0m\u001b[1;36m0\u001b[0m\u001b[39m%|          | \u001b[0m\u001b[1;36m0\u001b[0m\u001b[39m/\u001b[0m\u001b[1;36m1000\u001b[0m\u001b[39m \u001b[0m\u001b[1;39m[\u001b[0m\u001b[1;92m00:06\u001b[0m\u001b[39m<?, ?it/s\u001b[0m\u001b[1;39m]\u001b[0m\u001b[39m  \u001b[0m\u001b[1;36m0\u001b[0m\u001b[39m%|          | \u001b[0m\u001b[1;36m0\u001b[0m\u001b[39m/\u001b[0m\u001b[1;36m1000\u001b[0m\u001b[39m \u001b[0m\u001b[1;39m[\u001b[0m\u001b[1;92m00:06\u001b[0m\u001b[39m<?, ?it/s\u001b[0m\u001b[1;39m]\u001b[0m\u001b[39m  \u001b[0m\u001b[1;36m0\u001b[0m\u001b[39m%|     \u001b[0m\n",
       "\u001b[39m| \u001b[0m\u001b[1;36m0\u001b[0m\u001b[39m/\u001b[0m\u001b[1;36m1000\u001b[0m\u001b[39m \u001b[0m\u001b[1;39m[\u001b[0m\u001b[1;92m00:06\u001b[0m\u001b[39m<?, ?it/s\u001b[0m\u001b[1;39m]\u001b[0m\u001b[39m  \u001b[0m\u001b[1;36m0\u001b[0m\u001b[39m%|          | \u001b[0m\u001b[1;36m0\u001b[0m\u001b[39m/\u001b[0m\u001b[1;36m1000\u001b[0m\u001b[39m \u001b[0m\u001b[1;39m[\u001b[0m\u001b[1;92m00:07\u001b[0m\u001b[39m<?, ?it/s\u001b[0m\u001b[1;39m]\u001b[0m\u001b[39m  \u001b[0m\u001b[1;36m0\u001b[0m\u001b[39m%|          | \u001b[0m\u001b[1;36m0\u001b[0m\u001b[39m/\u001b[0m\u001b[1;36m1000\u001b[0m\u001b[39m \u001b[0m\u001b[1;39m[\u001b[0m\u001b[1;92m00:07\u001b[0m\u001b[39m<?, ?it/s\u001b[0m\u001b[1;39m]\u001b[0m\u001b[39m  \u001b[0m\u001b[1;36m0\u001b[0m\u001b[39m%|     \u001b[0m\n",
       "\u001b[39m| \u001b[0m\u001b[1;36m0\u001b[0m\u001b[39m/\u001b[0m\u001b[1;36m1000\u001b[0m\u001b[39m \u001b[0m\u001b[1;39m[\u001b[0m\u001b[1;92m00:07\u001b[0m\u001b[39m<?, ?it/s\u001b[0m\u001b[1;39m]\u001b[0m\u001b[39m  \u001b[0m\u001b[1;36m0\u001b[0m\u001b[39m%|          | \u001b[0m\u001b[1;36m0\u001b[0m\u001b[39m/\u001b[0m\u001b[1;36m1000\u001b[0m\u001b[39m \u001b[0m\u001b[1;39m[\u001b[0m\u001b[1;92m00:07\u001b[0m\u001b[39m<?, ?it/s\u001b[0m\u001b[1;39m]\u001b[0m\u001b[39m  \u001b[0m\u001b[1;36m0\u001b[0m\u001b[39m%|          | \u001b[0m\u001b[1;36m0\u001b[0m\u001b[39m/\u001b[0m\u001b[1;36m1000\u001b[0m\u001b[39m \u001b[0m\u001b[1;39m[\u001b[0m\u001b[1;92m00:07\u001b[0m\u001b[39m<?, ?it/s\u001b[0m\u001b[1;39m]\u001b[0m\u001b[39m  \u001b[0m\u001b[1;36m0\u001b[0m\u001b[39m%|     \u001b[0m\n",
       "\u001b[39m| \u001b[0m\u001b[1;36m0\u001b[0m\u001b[39m/\u001b[0m\u001b[1;36m1000\u001b[0m\u001b[39m \u001b[0m\u001b[1;39m[\u001b[0m\u001b[1;92m00:07\u001b[0m\u001b[39m<?, ?it/s\u001b[0m\u001b[1;39m]\u001b[0m\u001b[39m  \u001b[0m\u001b[1;36m0\u001b[0m\u001b[39m%|          | \u001b[0m\u001b[1;36m0\u001b[0m\u001b[39m/\u001b[0m\u001b[1;36m1000\u001b[0m\u001b[39m \u001b[0m\u001b[1;39m[\u001b[0m\u001b[1;92m00:07\u001b[0m\u001b[39m<?, ?it/s\u001b[0m\u001b[1;39m]\u001b[0m\u001b[39m  \u001b[0m\u001b[1;36m0\u001b[0m\u001b[39m%|          | \u001b[0m\u001b[1;36m0\u001b[0m\u001b[39m/\u001b[0m\u001b[1;36m1000\u001b[0m\u001b[39m \u001b[0m\u001b[1;39m[\u001b[0m\u001b[1;92m00:08\u001b[0m\u001b[39m<?, ?it/s\u001b[0m\u001b[1;39m]\u001b[0m\u001b[39m  \u001b[0m\u001b[1;36m0\u001b[0m\u001b[39m%|     \u001b[0m\n",
       "\u001b[39m| \u001b[0m\u001b[1;36m0\u001b[0m\u001b[39m/\u001b[0m\u001b[1;36m1000\u001b[0m\u001b[39m \u001b[0m\u001b[1;39m[\u001b[0m\u001b[1;92m00:08\u001b[0m\u001b[39m<?, ?it/s\u001b[0m\u001b[1;39m]\u001b[0m\u001b[39m  \u001b[0m\u001b[1;36m0\u001b[0m\u001b[39m%|          | \u001b[0m\u001b[1;36m0\u001b[0m\u001b[39m/\u001b[0m\u001b[1;36m1000\u001b[0m\u001b[39m \u001b[0m\u001b[1;39m[\u001b[0m\u001b[1;92m00:08\u001b[0m\u001b[39m<?, ?it/s\u001b[0m\u001b[1;39m]\u001b[0m\u001b[39m  \u001b[0m\u001b[1;36m0\u001b[0m\u001b[39m%|          | \u001b[0m\u001b[1;36m0\u001b[0m\u001b[39m/\u001b[0m\u001b[1;36m1000\u001b[0m\u001b[39m \u001b[0m\u001b[1;39m[\u001b[0m\u001b[1;92m00:08\u001b[0m\u001b[39m<?, ?it/s\u001b[0m\u001b[1;39m]\u001b[0m\u001b[39m  \u001b[0m\u001b[1;36m0\u001b[0m\u001b[39m%|     \u001b[0m\n",
       "\u001b[39m| \u001b[0m\u001b[1;36m0\u001b[0m\u001b[39m/\u001b[0m\u001b[1;36m1000\u001b[0m\u001b[39m \u001b[0m\u001b[1;39m[\u001b[0m\u001b[1;92m00:08\u001b[0m\u001b[39m<?, ?it/s\u001b[0m\u001b[1;39m]\u001b[0m\u001b[39m\u001b\u001b[0m\u001b[1;39m[\u001b[0m\u001b[1;35m36m\u001b[0m\u001b[1;39m(\u001b[0m\u001b[39mSageMakerClient \u001b[0m\u001b[33mpid\u001b[0m\u001b[39m=\u001b[0m\u001b[1;36m25779\u001b[0m\u001b[1;39m)\u001b[0m\u001b[39m\u001b\u001b[0m\u001b[1;39m[\u001b[0m\u001b[39m0m You are using the default legacy behaviour of the \u001b[0m\n",
       "\u001b[39m<class \u001b[0m\u001b[32m'transformers.models.llama.tokenization_llama_fast.LlamaTokenizerFast'\u001b[0m\u001b[39m>. This is expected, and simply means \u001b[0m\n",
       "\u001b[39mthat the `legacy` \u001b[0m\u001b[1;39m(\u001b[0m\u001b[39mprevious\u001b[0m\u001b[1;39m)\u001b[0m\u001b[39m behavior will be used so nothing changes for you. If you want to use the new \u001b[0m\n",
       "\u001b[39mbehaviour, set `\u001b[0m\u001b[33mlegacy\u001b[0m\u001b[39m=\u001b[0m\u001b[3;91mFalse\u001b[0m\u001b[39m`. This should only be set if you understand what it means, and thoroughly read the \u001b[0m\n",
       "\u001b[39mreason why this was added as explained in \u001b[0m\u001b[4;94mhttps://github.com/huggingface/transformers/pull/24565\u001b[0m\u001b[39m - if you loaded a \u001b[0m\n",
       "\u001b[39mllama tokenizer from a GGUF file you can ignore this message.\u001b\u001b[0m\u001b[1;39m[\u001b[0m\u001b[39m32m \u001b[0m\u001b[39m \u001b[0m\u001b[1;39m(\u001b[0m\u001b[39mRay deduplicates logs by default. Set \u001b[0m\n",
       "\u001b[33mRAY_DEDUP_LOGS\u001b[0m\u001b[39m=\u001b[0m\u001b[1;36m0\u001b[0m\u001b[39m to disable log deduplication, or see \u001b[0m\n",
       "\u001b[4;94mhttps://docs.ray.io/en/master/ray-observability/user-guides/configure-logging.html#log-deduplication\u001b[0m\u001b[39m for more \u001b[0m\n",
       "\u001b[39moptions.\u001b[0m\u001b[1;39m)\u001b[0m\u001b[39m\u001b\u001b[0m\u001b[1;39m[\u001b[0m\u001b[39m0m\u001b[0m\n",
       "\u001b[39m  \u001b[0m\u001b[1;36m0\u001b[0m\u001b[39m%|          | \u001b[0m\u001b[1;36m0\u001b[0m\u001b[39m/\u001b[0m\u001b[1;36m1000\u001b[0m\u001b[39m \u001b[0m\u001b[1;39m[\u001b[0m\u001b[1;92m00:09\u001b[0m\u001b[39m<?, ?it/s\u001b[0m\u001b[1;39m]\u001b[0m\u001b[39m  \u001b[0m\u001b[1;36m0\u001b[0m\u001b[39m%|          | \u001b[0m\u001b[1;36m0\u001b[0m\u001b[39m/\u001b[0m\u001b[1;36m1000\u001b[0m\u001b[39m \u001b[0m\u001b[1;39m[\u001b[0m\u001b[1;92m00:09\u001b[0m\u001b[39m<?, ?it/s\u001b[0m\u001b[1;39m]\u001b[0m\u001b[39m  \u001b[0m\u001b[1;36m0\u001b[0m\u001b[39m%|          | \u001b[0m\u001b[1;36m0\u001b[0m\u001b[39m/\u001b[0m\u001b[1;36m1000\u001b[0m\u001b[39m \u001b[0m\u001b[1;39m[\u001b[0m\u001b[1;92m00:09\u001b[0m\u001b[39m<?, \u001b[0m\n",
       "\u001b[39m?it/s\u001b[0m\u001b[1;39m]\u001b[0m\u001b[39m  \u001b[0m\u001b[1;36m0\u001b[0m\u001b[39m%|          | \u001b[0m\u001b[1;36m0\u001b[0m\u001b[39m/\u001b[0m\u001b[1;36m1000\u001b[0m\u001b[39m \u001b[0m\u001b[1;39m[\u001b[0m\u001b[1;92m00:09\u001b[0m\u001b[39m<?, ?it/s\u001b[0m\u001b[1;39m]\u001b[0m\u001b[39m  \u001b[0m\u001b[1;36m0\u001b[0m\u001b[39m%|          | \u001b[0m\u001b[1;36m0\u001b[0m\u001b[39m/\u001b[0m\u001b[1;36m1000\u001b[0m\u001b[39m \u001b[0m\u001b[1;39m[\u001b[0m\u001b[1;92m00:09\u001b[0m\u001b[39m<?, ?it/s\u001b[0m\u001b[1;39m]\u001b[0m\u001b[39m  \u001b[0m\u001b[1;36m0\u001b[0m\u001b[39m%|          | \u001b[0m\u001b[1;36m0\u001b[0m\u001b[39m/\u001b[0m\u001b[1;36m1000\u001b[0m\u001b[39m \u001b[0m\n",
       "\u001b[1;39m[\u001b[0m\u001b[1;92m00:09\u001b[0m\u001b[39m<?, ?it/s\u001b[0m\u001b[1;39m]\u001b[0m\u001b[39m  \u001b[0m\u001b[1;36m0\u001b[0m\u001b[39m%|          | \u001b[0m\u001b[1;36m0\u001b[0m\u001b[39m/\u001b[0m\u001b[1;36m1000\u001b[0m\u001b[39m \u001b[0m\u001b[1;39m[\u001b[0m\u001b[1;92m00:09\u001b[0m\u001b[39m<?, ?it/s\u001b[0m\u001b[1;39m]\u001b[0m\u001b[39m  \u001b[0m\u001b[1;36m0\u001b[0m\u001b[39m%|          | \u001b[0m\u001b[1;36m0\u001b[0m\u001b[39m/\u001b[0m\u001b[1;36m1000\u001b[0m\u001b[39m \u001b[0m\u001b[1;39m[\u001b[0m\u001b[1;92m00:10\u001b[0m\u001b[39m<?, ?it/s\u001b[0m\u001b[1;39m]\u001b[0m\u001b[39m  \u001b[0m\u001b[1;36m0\u001b[0m\u001b[39m%|          | \u001b[0m\n",
       "\u001b[1;36m0\u001b[0m\u001b[39m/\u001b[0m\u001b[1;36m1000\u001b[0m\u001b[39m \u001b[0m\u001b[1;39m[\u001b[0m\u001b[1;92m00:10\u001b[0m\u001b[39m<?, ?it/s\u001b[0m\u001b[1;39m]\u001b[0m\u001b[39m  \u001b[0m\u001b[1;36m0\u001b[0m\u001b[39m%|          | \u001b[0m\u001b[1;36m0\u001b[0m\u001b[39m/\u001b[0m\u001b[1;36m1000\u001b[0m\u001b[39m \u001b[0m\u001b[1;39m[\u001b[0m\u001b[1;92m00:10\u001b[0m\u001b[39m<?, ?it/s\u001b[0m\u001b[1;39m]\u001b[0m\u001b[39m  \u001b[0m\u001b[1;36m0\u001b[0m\u001b[39m%|          | \u001b[0m\u001b[1;36m0\u001b[0m\u001b[39m/\u001b[0m\u001b[1;36m1000\u001b[0m\u001b[39m \u001b[0m\u001b[1;39m[\u001b[0m\u001b[1;92m00:10\u001b[0m\u001b[39m<?, ?it/s\u001b[0m\u001b[1;39m]\u001b[0m\u001b[39m  \u001b[0m\u001b[1;36m0\u001b[0m\u001b[39m%|       \u001b[0m\n",
       "\u001b[39m| \u001b[0m\u001b[1;36m0\u001b[0m\u001b[39m/\u001b[0m\u001b[1;36m1000\u001b[0m\u001b[39m \u001b[0m\u001b[1;39m[\u001b[0m\u001b[1;92m00:10\u001b[0m\u001b[39m<?, ?it/s\u001b[0m\u001b[1;39m]\u001b[0m\u001b[39m  \u001b[0m\u001b[1;36m0\u001b[0m\u001b[39m%|          | \u001b[0m\u001b[1;36m0\u001b[0m\u001b[39m/\u001b[0m\u001b[1;36m1000\u001b[0m\u001b[39m \u001b[0m\u001b[1;39m[\u001b[0m\u001b[1;92m00:10\u001b[0m\u001b[39m<?, ?it/s\u001b[0m\u001b[1;39m]\u001b[0m\u001b[39m  \u001b[0m\u001b[1;36m0\u001b[0m\u001b[39m%|          | \u001b[0m\u001b[1;36m0\u001b[0m\u001b[39m/\u001b[0m\u001b[1;36m1000\u001b[0m\u001b[39m \u001b[0m\u001b[1;39m[\u001b[0m\u001b[1;92m00:10\u001b[0m\u001b[39m<?, ?it/s\u001b[0m\u001b[1;39m]\u001b[0m\u001b[39m  \u001b[0m\u001b[1;36m0\u001b[0m\u001b[39m%|     \u001b[0m\n",
       "\u001b[39m| \u001b[0m\u001b[1;36m0\u001b[0m\u001b[39m/\u001b[0m\u001b[1;36m1000\u001b[0m\u001b[39m \u001b[0m\u001b[1;39m[\u001b[0m\u001b[1;92m00:11\u001b[0m\u001b[39m<?, ?it/s\u001b[0m\u001b[1;39m]\u001b[0m\u001b[39m  \u001b[0m\u001b[1;36m0\u001b[0m\u001b[39m%|          | \u001b[0m\u001b[1;36m0\u001b[0m\u001b[39m/\u001b[0m\u001b[1;36m1000\u001b[0m\u001b[39m \u001b[0m\u001b[1;39m[\u001b[0m\u001b[1;92m00:11\u001b[0m\u001b[39m<?, ?it/s\u001b[0m\u001b[1;39m]\u001b[0m\u001b[39m  \u001b[0m\u001b[1;36m0\u001b[0m\u001b[39m%|          | \u001b[0m\u001b[1;36m0\u001b[0m\u001b[39m/\u001b[0m\u001b[1;36m1000\u001b[0m\u001b[39m \u001b[0m\u001b[1;39m[\u001b[0m\u001b[1;92m00:11\u001b[0m\u001b[39m<?, ?it/s\u001b[0m\u001b[1;39m]\u001b[0m\u001b[39m  \u001b[0m\u001b[1;36m0\u001b[0m\u001b[39m%|     \u001b[0m\n",
       "\u001b[39m| \u001b[0m\u001b[1;36m0\u001b[0m\u001b[39m/\u001b[0m\u001b[1;36m1000\u001b[0m\u001b[39m \u001b[0m\u001b[1;39m[\u001b[0m\u001b[1;92m00:11\u001b[0m\u001b[39m<?, ?it/s\u001b[0m\u001b[1;39m]\u001b[0m\u001b[39m  \u001b[0m\u001b[1;36m0\u001b[0m\u001b[39m%|          | \u001b[0m\u001b[1;36m0\u001b[0m\u001b[39m/\u001b[0m\u001b[1;36m1000\u001b[0m\u001b[39m \u001b[0m\u001b[1;39m[\u001b[0m\u001b[1;92m00:11\u001b[0m\u001b[39m<?, ?it/s\u001b[0m\u001b[1;39m]\u001b[0m\u001b[39m  \u001b[0m\u001b[1;36m0\u001b[0m\u001b[39m%|          | \u001b[0m\u001b[1;36m0\u001b[0m\u001b[39m/\u001b[0m\u001b[1;36m1000\u001b[0m\u001b[39m \u001b[0m\u001b[1;39m[\u001b[0m\u001b[1;92m00:11\u001b[0m\u001b[39m<?, ?it/s\u001b[0m\u001b[1;39m]\u001b[0m\u001b[39m  \u001b[0m\u001b[1;36m0\u001b[0m\u001b[39m%|     \u001b[0m\n",
       "\u001b[39m| \u001b[0m\u001b[1;36m0\u001b[0m\u001b[39m/\u001b[0m\u001b[1;36m1000\u001b[0m\u001b[39m \u001b[0m\u001b[1;39m[\u001b[0m\u001b[1;92m00:11\u001b[0m\u001b[39m<?, ?it/s\u001b[0m\u001b[1;39m]\u001b[0m\u001b[39m  \u001b[0m\u001b[1;36m0\u001b[0m\u001b[39m%|          | \u001b[0m\u001b[1;36m0\u001b[0m\u001b[39m/\u001b[0m\u001b[1;36m1000\u001b[0m\u001b[39m \u001b[0m\u001b[1;39m[\u001b[0m\u001b[1;92m00:11\u001b[0m\u001b[39m<?, ?it/s\u001b[0m\u001b[1;39m]\u001b[0m\u001b[39m  \u001b[0m\u001b[1;36m0\u001b[0m\u001b[39m%|          | \u001b[0m\u001b[1;36m0\u001b[0m\u001b[39m/\u001b[0m\u001b[1;36m1000\u001b[0m\u001b[39m \u001b[0m\u001b[1;39m[\u001b[0m\u001b[1;92m00:11\u001b[0m\u001b[39m<?, ?it/s\u001b[0m\u001b[1;39m]\u001b[0m\u001b[39m  \u001b[0m\u001b[1;36m0\u001b[0m\u001b[39m%|     \u001b[0m\n",
       "\u001b[39m| \u001b[0m\u001b[1;36m0\u001b[0m\u001b[39m/\u001b[0m\u001b[1;36m1000\u001b[0m\u001b[39m \u001b[0m\u001b[1;39m[\u001b[0m\u001b[1;92m00:12\u001b[0m\u001b[39m<?, ?it/s\u001b[0m\u001b[1;39m]\u001b[0m\u001b[39m  \u001b[0m\u001b[1;36m0\u001b[0m\u001b[39m%|          | \u001b[0m\u001b[1;36m0\u001b[0m\u001b[39m/\u001b[0m\u001b[1;36m1000\u001b[0m\u001b[39m \u001b[0m\u001b[1;39m[\u001b[0m\u001b[1;92m00:12\u001b[0m\u001b[39m<?, ?it/s\u001b[0m\u001b[1;39m]\u001b[0m\u001b[39m  \u001b[0m\u001b[1;36m0\u001b[0m\u001b[39m%|          | \u001b[0m\u001b[1;36m0\u001b[0m\u001b[39m/\u001b[0m\u001b[1;36m1000\u001b[0m\u001b[39m \u001b[0m\u001b[1;39m[\u001b[0m\u001b[1;92m00:12\u001b[0m\u001b[39m<?, ?it/s\u001b[0m\u001b[1;39m]\u001b[0m\u001b[39m  \u001b[0m\u001b[1;36m0\u001b[0m\u001b[39m%|     \u001b[0m\n",
       "\u001b[39m| \u001b[0m\u001b[1;36m0\u001b[0m\u001b[39m/\u001b[0m\u001b[1;36m1000\u001b[0m\u001b[39m \u001b[0m\u001b[1;39m[\u001b[0m\u001b[1;92m00:12\u001b[0m\u001b[39m<?, ?it/s\u001b[0m\u001b[1;39m]\u001b[0m\u001b[39m  \u001b[0m\u001b[1;36m0\u001b[0m\u001b[39m%|          | \u001b[0m\u001b[1;36m0\u001b[0m\u001b[39m/\u001b[0m\u001b[1;36m1000\u001b[0m\u001b[39m \u001b[0m\u001b[1;39m[\u001b[0m\u001b[1;92m00:12\u001b[0m\u001b[39m<?, ?it/s\u001b[0m\u001b[1;39m]\u001b[0m\u001b[39m  \u001b[0m\u001b[1;36m0\u001b[0m\u001b[39m%|          | \u001b[0m\u001b[1;36m0\u001b[0m\u001b[39m/\u001b[0m\u001b[1;36m1000\u001b[0m\u001b[39m \u001b[0m\u001b[1;39m[\u001b[0m\u001b[1;92m00:12\u001b[0m\u001b[39m<?, ?it/s\u001b[0m\u001b[1;39m]\u001b[0m\u001b[39m  \u001b[0m\u001b[1;36m0\u001b[0m\u001b[39m%|     \u001b[0m\n",
       "\u001b[39m| \u001b[0m\u001b[1;36m0\u001b[0m\u001b[39m/\u001b[0m\u001b[1;36m1000\u001b[0m\u001b[39m \u001b[0m\u001b[1;39m[\u001b[0m\u001b[1;92m00:12\u001b[0m\u001b[39m<?, ?it/s\u001b[0m\u001b[1;39m]\u001b[0m\u001b[39m  \u001b[0m\u001b[1;36m0\u001b[0m\u001b[39m%|          | \u001b[0m\u001b[1;36m0\u001b[0m\u001b[39m/\u001b[0m\u001b[1;36m1000\u001b[0m\u001b[39m \u001b[0m\u001b[1;39m[\u001b[0m\u001b[1;92m00:12\u001b[0m\u001b[39m<?, ?it/s\u001b[0m\u001b[1;39m]\u001b[0m\u001b[39m  \u001b[0m\u001b[1;36m0\u001b[0m\u001b[39m%|          | \u001b[0m\u001b[1;36m0\u001b[0m\u001b[39m/\u001b[0m\u001b[1;36m1000\u001b[0m\u001b[39m \u001b[0m\u001b[1;39m[\u001b[0m\u001b[1;92m00:12\u001b[0m\u001b[39m<?, ?it/s\u001b[0m\u001b[1;39m]\u001b[0m\u001b[39m  \u001b[0m\u001b[1;36m0\u001b[0m\u001b[39m%|     \u001b[0m\n",
       "\u001b[39m| \u001b[0m\u001b[1;36m0\u001b[0m\u001b[39m/\u001b[0m\u001b[1;36m1000\u001b[0m\u001b[39m \u001b[0m\u001b[1;39m[\u001b[0m\u001b[1;92m00:13\u001b[0m\u001b[39m<?, ?it/s\u001b[0m\u001b[1;39m]\u001b[0m\u001b[39m  \u001b[0m\u001b[1;36m0\u001b[0m\u001b[39m%|          | \u001b[0m\u001b[1;36m0\u001b[0m\u001b[39m/\u001b[0m\u001b[1;36m1000\u001b[0m\u001b[39m \u001b[0m\u001b[1;39m[\u001b[0m\u001b[1;92m00:13\u001b[0m\u001b[39m<?, ?it/s\u001b[0m\u001b[1;39m]\u001b[0m\u001b[39m  \u001b[0m\u001b[1;36m0\u001b[0m\u001b[39m%|          | \u001b[0m\u001b[1;36m0\u001b[0m\u001b[39m/\u001b[0m\u001b[1;36m1000\u001b[0m\u001b[39m \u001b[0m\u001b[1;39m[\u001b[0m\u001b[1;92m00:13\u001b[0m\u001b[39m<?, ?it/s\u001b[0m\u001b[1;39m]\u001b[0m\u001b[39m  \u001b[0m\u001b[1;36m0\u001b[0m\u001b[39m%|     \u001b[0m\n",
       "\u001b[39m| \u001b[0m\u001b[1;36m0\u001b[0m\u001b[39m/\u001b[0m\u001b[1;36m1000\u001b[0m\u001b[39m \u001b[0m\u001b[1;39m[\u001b[0m\u001b[1;92m00:13\u001b[0m\u001b[39m<?, ?it/s\u001b[0m\u001b[1;39m]\u001b[0m\u001b[39m  \u001b[0m\u001b[1;36m0\u001b[0m\u001b[39m%|          | \u001b[0m\u001b[1;36m0\u001b[0m\u001b[39m/\u001b[0m\u001b[1;36m1000\u001b[0m\u001b[39m \u001b[0m\u001b[1;39m[\u001b[0m\u001b[1;92m00:13\u001b[0m\u001b[39m<?, ?it/s\u001b[0m\u001b[1;39m]\u001b[0m\u001b[39m  \u001b[0m\u001b[1;36m0\u001b[0m\u001b[39m%|          | \u001b[0m\u001b[1;36m0\u001b[0m\u001b[39m/\u001b[0m\u001b[1;36m1000\u001b[0m\u001b[39m \u001b[0m\u001b[1;39m[\u001b[0m\u001b[1;92m00:13\u001b[0m\u001b[39m<?, ?it/s\u001b[0m\u001b[1;39m]\u001b[0m\u001b[39m  \u001b[0m\u001b[1;36m0\u001b[0m\u001b[39m%|     \u001b[0m\n",
       "\u001b[39m| \u001b[0m\u001b[1;36m0\u001b[0m\u001b[39m/\u001b[0m\u001b[1;36m1000\u001b[0m\u001b[39m \u001b[0m\u001b[1;39m[\u001b[0m\u001b[1;92m00:13\u001b[0m\u001b[39m<?, ?it/s\u001b[0m\u001b[1;39m]\u001b[0m\u001b[39m  \u001b[0m\u001b[1;36m0\u001b[0m\u001b[39m%|          | \u001b[0m\u001b[1;36m0\u001b[0m\u001b[39m/\u001b[0m\u001b[1;36m1000\u001b[0m\u001b[39m \u001b[0m\u001b[1;39m[\u001b[0m\u001b[1;92m00:13\u001b[0m\u001b[39m<?, ?it/s\u001b[0m\u001b[1;39m]\u001b[0m\u001b[39m  \u001b[0m\u001b[1;36m0\u001b[0m\u001b[39m%|          | \u001b[0m\u001b[1;36m0\u001b[0m\u001b[39m/\u001b[0m\u001b[1;36m1000\u001b[0m\u001b[39m \u001b[0m\u001b[1;39m[\u001b[0m\u001b[1;92m00:14\u001b[0m\u001b[39m<?, ?it/s\u001b[0m\u001b[1;39m]\u001b[0m\u001b[39m  \u001b[0m\u001b[1;36m0\u001b[0m\u001b[39m%|     \u001b[0m\n",
       "\u001b[39m| \u001b[0m\u001b[1;36m0\u001b[0m\u001b[39m/\u001b[0m\u001b[1;36m1000\u001b[0m\u001b[39m \u001b[0m\u001b[1;39m[\u001b[0m\u001b[1;92m00:14\u001b[0m\u001b[39m<?, ?it/s\u001b[0m\u001b[1;39m]\u001b[0m\u001b[39m  \u001b[0m\u001b[1;36m0\u001b[0m\u001b[39m%|          | \u001b[0m\u001b[1;36m0\u001b[0m\u001b[39m/\u001b[0m\u001b[1;36m1000\u001b[0m\u001b[39m \u001b[0m\u001b[1;39m[\u001b[0m\u001b[1;92m00:14\u001b[0m\u001b[39m<?, ?it/s\u001b[0m\u001b[1;39m]\u001b[0m\u001b[39m  \u001b[0m\u001b[1;36m0\u001b[0m\u001b[39m%|          | \u001b[0m\u001b[1;36m0\u001b[0m\u001b[39m/\u001b[0m\u001b[1;36m1000\u001b[0m\u001b[39m \u001b[0m\u001b[1;39m[\u001b[0m\u001b[1;92m00:14\u001b[0m\u001b[39m<?, ?it/s\u001b[0m\u001b[1;39m]\u001b[0m\u001b[39m  \u001b[0m\u001b[1;36m0\u001b[0m\u001b[39m%|     \u001b[0m\n",
       "\u001b[39m| \u001b[0m\u001b[1;36m0\u001b[0m\u001b[39m/\u001b[0m\u001b[1;36m1000\u001b[0m\u001b[39m \u001b[0m\u001b[1;39m[\u001b[0m\u001b[1;92m00:14\u001b[0m\u001b[39m<?, ?it/s\u001b[0m\u001b[1;39m]\u001b[0m\u001b[39m  \u001b[0m\u001b[1;36m0\u001b[0m\u001b[39m%|          | \u001b[0m\u001b[1;36m0\u001b[0m\u001b[39m/\u001b[0m\u001b[1;36m1000\u001b[0m\u001b[39m \u001b[0m\u001b[1;39m[\u001b[0m\u001b[1;92m00:14\u001b[0m\u001b[39m<?, ?it/s\u001b[0m\u001b[1;39m]\u001b[0m\u001b[39m \u001b[0m\u001b[1;36m10\u001b[0m\u001b[39m%|█         | \u001b[0m\u001b[1;36m100\u001b[0m\u001b[39m/\u001b[0m\u001b[1;36m1000\u001b[0m\u001b[39m \u001b[0m\u001b[1;39m[\u001b[0m\u001b[1;92m00:49\u001b[0m\u001b[39m<\u001b[0m\u001b[1;92m05:14\u001b[0m\u001b[39m,  \u001b[0m\u001b[1;36m2.\u001b[0m\u001b[39m86it/s\u001b[0m\u001b[1;39m]\u001b[0m\n",
       "\u001b[1;36m20\u001b[0m\u001b[39m%|██        | \u001b[0m\u001b[1;36m200\u001b[0m\u001b[39m/\u001b[0m\u001b[1;36m1000\u001b[0m\u001b[39m \u001b[0m\u001b[1;39m[\u001b[0m\u001b[1;92m01:29\u001b[0m\u001b[39m<\u001b[0m\u001b[1;92m05:00\u001b[0m\u001b[39m,  \u001b[0m\u001b[1;36m2.\u001b[0m\u001b[39m66it/s\u001b[0m\u001b[1;39m]\u001b[0m\u001b[39m \u001b[0m\u001b[1;36m30\u001b[0m\u001b[39m%|███       | \u001b[0m\u001b[1;36m300\u001b[0m\u001b[39m/\u001b[0m\u001b[1;36m1000\u001b[0m\u001b[39m \u001b[0m\u001b[1;39m[\u001b[0m\u001b[1;92m02:08\u001b[0m\u001b[39m<\u001b[0m\u001b[1;92m04:28\u001b[0m\u001b[39m,  \u001b[0m\u001b[1;36m2.\u001b[0m\u001b[39m60it/s\u001b[0m\u001b[1;39m]\u001b[0m\u001b[39m \u001b[0m\u001b[1;36m40\u001b[0m\u001b[39m%|████      |\u001b[0m\n",
       "\u001b[1;36m400\u001b[0m\u001b[39m/\u001b[0m\u001b[1;36m1000\u001b[0m\u001b[39m \u001b[0m\u001b[1;39m[\u001b[0m\u001b[1;92m02:50\u001b[0m\u001b[39m<\u001b[0m\u001b[1;92m03:58\u001b[0m\u001b[39m,  \u001b[0m\u001b[1;36m2.\u001b[0m\u001b[39m52it/s\u001b[0m\u001b[1;39m]\u001b[0m\u001b[39m \u001b[0m\u001b[1;36m50\u001b[0m\u001b[39m%|█████     | \u001b[0m\u001b[1;36m500\u001b[0m\u001b[39m/\u001b[0m\u001b[1;36m1000\u001b[0m\u001b[39m \u001b[0m\u001b[1;39m[\u001b[0m\u001b[1;92m03:30\u001b[0m\u001b[39m<\u001b[0m\u001b[1;92m03:20\u001b[0m\u001b[39m,  \u001b[0m\u001b[1;36m2.\u001b[0m\u001b[39m49it/s\u001b[0m\u001b[1;39m]\u001b[0m\u001b[39m \u001b[0m\u001b[1;36m60\u001b[0m\u001b[39m%|██████    | \u001b[0m\u001b[1;36m600\u001b[0m\u001b[39m/\u001b[0m\u001b[1;36m1000\u001b[0m\u001b[39m \u001b[0m\n",
       "\u001b[1;39m[\u001b[0m\u001b[1;92m04:11\u001b[0m\u001b[39m<\u001b[0m\u001b[1;92m02:41\u001b[0m\u001b[39m,  \u001b[0m\u001b[1;36m2.\u001b[0m\u001b[39m48it/s\u001b[0m\u001b[1;39m]\u001b[0m\u001b[39m \u001b[0m\u001b[1;36m70\u001b[0m\u001b[39m%|███████   | \u001b[0m\u001b[1;36m700\u001b[0m\u001b[39m/\u001b[0m\u001b[1;36m1000\u001b[0m\u001b[39m \u001b[0m\u001b[1;39m[\u001b[0m\u001b[1;92m04:53\u001b[0m\u001b[39m<\u001b[0m\u001b[1;92m02:02\u001b[0m\u001b[39m,  \u001b[0m\u001b[1;36m2.\u001b[0m\u001b[39m45it/s\u001b[0m\u001b[1;39m]\u001b[0m\u001b[39m \u001b[0m\u001b[1;36m80\u001b[0m\u001b[39m%|████████  | \u001b[0m\u001b[1;36m800\u001b[0m\u001b[39m/\u001b[0m\u001b[1;36m1000\u001b[0m\u001b[39m \u001b[0m\u001b[1;39m[\u001b[0m\u001b[1;92m05:36\u001b[0m\u001b[39m<\u001b[0m\u001b[1;92m01:22\u001b[0m\u001b[39m,  \u001b[0m\n",
       "\u001b[1;36m2.\u001b[0m\u001b[39m41it/s\u001b[0m\u001b[1;39m]\u001b[0m\u001b[39m \u001b[0m\u001b[1;36m90\u001b[0m\u001b[39m%|█████████ | \u001b[0m\u001b[1;36m900\u001b[0m\u001b[39m/\u001b[0m\u001b[1;36m1000\u001b[0m\u001b[39m \u001b[0m\u001b[1;39m[\u001b[0m\u001b[1;92m06:17\u001b[0m\u001b[39m<\u001b[0m\u001b[1;92m00:41\u001b[0m\u001b[39m,  \u001b[0m\u001b[1;36m2.\u001b[0m\u001b[39m42it/s\u001b[0m\u001b[1;39m]\u001b[0m\u001b[1;36m100\u001b[0m\u001b[39m%|██████████| \u001b[0m\u001b[1;36m1000\u001b[0m\u001b[39m/\u001b[0m\u001b[1;36m1000\u001b[0m\u001b[39m \u001b[0m\u001b[1;39m[\u001b[0m\u001b[1;92m06:59\u001b[0m\u001b[39m<\u001b[0m\u001b[1;92m00:00\u001b[0m\u001b[39m,  \u001b[0m\n",
       "\u001b[1;36m2.\u001b[0m\u001b[39m41it/s\u001b[0m\u001b[1;39m]\u001b[0m\u001b[1;36m100\u001b[0m\u001b[39m%|██████████| \u001b[0m\u001b[1;36m1000\u001b[0m\u001b[39m/\u001b[0m\u001b[1;36m1000\u001b[0m\u001b[39m \u001b[0m\u001b[1;39m[\u001b[0m\u001b[1;92m06:59\u001b[0m\u001b[39m<\u001b[0m\u001b[1;92m00:00\u001b[0m\u001b[39m,  \u001b[0m\u001b[1;36m2.\u001b[0m\u001b[39m38it/s\u001b[0m\u001b[1;39m]\u001b[0m\n",
       "\u001b[39m\u001b\u001b[0m\u001b[1;39m[\u001b[0m\u001b[1;35m36m\u001b[0m\u001b[1;39m(\u001b[0m\u001b[39mSageMakerClient \u001b[0m\u001b[33mpid\u001b[0m\u001b[39m=\u001b[0m\u001b[1;36m29326\u001b[0m\u001b[1;39m)\u001b[0m\u001b[39m\u001b\u001b[0m\u001b[1;39m[\u001b[0m\u001b[39m0m You are using the default legacy behaviour of the <class \u001b[0m\n",
       "\u001b[32m'transformers.models.llama.tokenization_llama_fast.LlamaTokenizerFast'\u001b[0m\u001b[1m>\u001b[0m. This is expected, and simply means that \n",
       "the `legacy` \u001b[1m(\u001b[0mprevious\u001b[1m)\u001b[0m behavior will be used so nothing changes for you. If you want to use the new behaviour, set\n",
       "`\u001b[33mlegacy\u001b[0m=\u001b[3;91mFalse\u001b[0m`. This should only be set if you understand what it means, and thoroughly read the reason why this \n",
       "was added as explained in \u001b[4;94mhttps://github.com/huggingface/transformers/pull/24565\u001b[0m - if you loaded a llama tokenizer \n",
       "from a GGUF file you can ignore this message.\u001b\u001b[1m[\u001b[0m32m \u001b\u001b[1m[\u001b[0m0m\n",
       "\n"
      ]
     },
     "metadata": {},
     "output_type": "display_data"
    }
   ],
   "source": [
    "monitor_process(process)"
   ]
  },
  {
   "cell_type": "markdown",
   "id": "2a3f1cd2-84ba-41c3-833a-d2acfe2f2af8",
   "metadata": {},
   "source": [
    "## Print LLMPerf results\n",
    "\n",
    "LLMPerf writes the results to **\"results/\"** directory.  `summary.json` file has the endpoint benchmarking data."
   ]
  },
  {
   "cell_type": "code",
   "execution_count": 14,
   "id": "281d502c-e8d6-4023-a9bc-9e011b63c2d1",
   "metadata": {
    "tags": []
   },
   "outputs": [
    {
     "data": {
      "text/html": [
       "<pre style=\"white-space:pre;overflow-x:auto;line-height:normal;font-family:Menlo,'DejaVu Sans Mono',consolas,'Courier New',monospace\"><span style=\"font-style: italic\">            LLMPerf Endpoint Metrics             </span>\n",
       "                           ╷                     \n",
       " <span style=\"font-weight: bold\">                   Metric </span>│<span style=\"font-weight: bold\"> Units              </span> \n",
       " ══════════════════════════╪════════════════════ \n",
       " <span style=\"color: #008000; text-decoration-color: #008000; font-weight: bold\">      Concurrent requests </span>│<span style=\"color: #800080; text-decoration-color: #800080; font-weight: bold\"> 100                </span> \n",
       " <span style=\"color: #008000; text-decoration-color: #008000; font-weight: bold\">  Avg. Input token length </span>│<span style=\"color: #800080; text-decoration-color: #800080; font-weight: bold\"> 550                </span> \n",
       " <span style=\"color: #008000; text-decoration-color: #008000; font-weight: bold\"> Avg. Output token length </span>│<span style=\"color: #800080; text-decoration-color: #800080; font-weight: bold\"> 150                </span> \n",
       " <span style=\"color: #008000; text-decoration-color: #008000; font-weight: bold\"> Avg. First-Time-To-Token </span>│<span style=\"color: #800080; text-decoration-color: #800080; font-weight: bold\"> 8834.21ms          </span> \n",
       " <span style=\"color: #008000; text-decoration-color: #008000; font-weight: bold\">          Avg. Thorughput </span>│<span style=\"color: #800080; text-decoration-color: #800080; font-weight: bold\"> 1643.45 tokens/sec </span> \n",
       " <span style=\"color: #008000; text-decoration-color: #008000; font-weight: bold\">             Avg. Latency </span>│<span style=\"color: #800080; text-decoration-color: #800080; font-weight: bold\"> 28.48ms/token      </span> \n",
       "                           ╵                     \n",
       "</pre>\n"
      ],
      "text/plain": [
       "\u001b[3m            LLMPerf Endpoint Metrics             \u001b[0m\n",
       "                           ╷                     \n",
       " \u001b[1m \u001b[0m\u001b[1m                  Metric\u001b[0m\u001b[1m \u001b[0m│\u001b[1m \u001b[0m\u001b[1mUnits             \u001b[0m\u001b[1m \u001b[0m \n",
       " ══════════════════════════╪════════════════════ \n",
       " \u001b[1;32m \u001b[0m\u001b[1;32m     Concurrent requests\u001b[0m\u001b[1;32m \u001b[0m│\u001b[1;35m \u001b[0m\u001b[1;35m100               \u001b[0m\u001b[1;35m \u001b[0m \n",
       " \u001b[1;32m \u001b[0m\u001b[1;32m Avg. Input token length\u001b[0m\u001b[1;32m \u001b[0m│\u001b[1;35m \u001b[0m\u001b[1;35m550               \u001b[0m\u001b[1;35m \u001b[0m \n",
       " \u001b[1;32m \u001b[0m\u001b[1;32mAvg. Output token length\u001b[0m\u001b[1;32m \u001b[0m│\u001b[1;35m \u001b[0m\u001b[1;35m150               \u001b[0m\u001b[1;35m \u001b[0m \n",
       " \u001b[1;32m \u001b[0m\u001b[1;32mAvg. First-Time-To-Token\u001b[0m\u001b[1;32m \u001b[0m│\u001b[1;35m \u001b[0m\u001b[1;35m8834.21ms         \u001b[0m\u001b[1;35m \u001b[0m \n",
       " \u001b[1;32m \u001b[0m\u001b[1;32m         Avg. Thorughput\u001b[0m\u001b[1;32m \u001b[0m│\u001b[1;35m \u001b[0m\u001b[1;35m1643.45 tokens/sec\u001b[0m\u001b[1;35m \u001b[0m \n",
       " \u001b[1;32m \u001b[0m\u001b[1;32m            Avg. Latency\u001b[0m\u001b[1;32m \u001b[0m│\u001b[1;35m \u001b[0m\u001b[1;35m28.48ms/token     \u001b[0m\u001b[1;35m \u001b[0m \n",
       "                           ╵                     \n"
      ]
     },
     "execution_count": 14,
     "metadata": {},
     "output_type": "execute_result"
    }
   ],
   "source": [
    "print_llmperf_results(num_concurrent_requests)"
   ]
  },
  {
   "cell_type": "markdown",
   "id": "f8bd184b-fcfe-4260-95ce-5bdd557ad6e2",
   "metadata": {},
   "source": [
    "### Monitor Scale-in Alarm Trigger times and scaling event times\n",
    "\n",
    "<div class=\"alert alert-block alert-warning\">\n",
    "<b>NOTE: ⚠️</b>The <b>AlarmLow</b> Alarm triggers scale-in actions only after the threshold of <b>ConcurrentRequestsPerModel < 4.5</b> for 90 datapoints within <b>15 minutes</b> is breached.\n",
    "<br/>Running the below cell with take approximately 15 minutes to complete.<br/>\n",
    "</div>"
   ]
  },
  {
   "cell_type": "code",
   "execution_count": 15,
   "id": "883924cc-9f29-48cf-85ac-1d96c0a3dd16",
   "metadata": {
    "tags": []
   },
   "outputs": [
    {
     "data": {
      "text/html": [
       "<pre style=\"white-space:pre;overflow-x:auto;line-height:normal;font-family:Menlo,'DejaVu Sans Mono',consolas,'Courier New',monospace\">Initial instance count: <span style=\"color: #008080; text-decoration-color: #008080; font-weight: bold\">2</span>\n",
       "</pre>\n"
      ],
      "text/plain": [
       "Initial instance count: \u001b[1;36m2\u001b[0m\n"
      ]
     },
     "metadata": {},
     "output_type": "display_data"
    },
    {
     "data": {
      "text/html": [
       "<pre style=\"white-space:pre;overflow-x:auto;line-height:normal;font-family:Menlo,'DejaVu Sans Mono',consolas,'Courier New',monospace\">Tracking Alarm: \n",
       "<span style=\"color: #008000; text-decoration-color: #008000; font-style: italic\">TargetTracking-endpoint/Llama3-8B-fas-ed594-28Jul2024/variant/AllTraffic-AlarmLow-</span><span style=\"color: #008000; text-decoration-color: #008000; font-style: italic\">54caa634-1e27-4dca-b42b-831c694b7</span>\n",
       "<span style=\"color: #008000; text-decoration-color: #008000; font-style: italic\">9e2</span>\n",
       "</pre>\n"
      ],
      "text/plain": [
       "Tracking Alarm: \n",
       "\u001b[3;32mTargetTracking-endpoint/Llama3-8B-fas-ed594-28Jul2024/variant/AllTraffic-AlarmLow-\u001b[0m\u001b[3;32m54caa634-1e27-4dca-b42b-831c694b7\u001b[0m\n",
       "\u001b[3;32m9e2\u001b[0m\n"
      ]
     },
     "metadata": {},
     "output_type": "display_data"
    },
    {
     "data": {
      "application/vnd.jupyter.widget-view+json": {
       "model_id": "ef5b6a935fb4441292eb17196974a625",
       "version_major": 2,
       "version_minor": 0
      },
      "text/plain": [
       "Output()"
      ]
     },
     "metadata": {},
     "output_type": "display_data"
    },
    {
     "data": {
      "text/html": [
       "<pre style=\"white-space:pre;overflow-x:auto;line-height:normal;font-family:Menlo,'DejaVu Sans Mono',consolas,'Courier New',monospace\"></pre>\n"
      ],
      "text/plain": []
     },
     "metadata": {},
     "output_type": "display_data"
    },
    {
     "data": {
      "text/html": [
       "<pre style=\"white-space:pre;overflow-x:auto;line-height:normal;font-family:Menlo,'DejaVu Sans Mono',consolas,'Courier New',monospace\">\n",
       "</pre>\n"
      ],
      "text/plain": [
       "\n"
      ]
     },
     "metadata": {},
     "output_type": "display_data"
    },
    {
     "data": {
      "text/html": [
       "<pre style=\"white-space:pre;overflow-x:auto;line-height:normal;font-family:Menlo,'DejaVu Sans Mono',consolas,'Courier New',monospace\"><span style=\"font-style: italic\">                  Scaling Times                   </span>\n",
       "┏━━━━━━━━━━━━━━━━━━━━━━━┳━━━━━━━━━━━━━━━━━━━━━━━━┓\n",
       "┃<span style=\"font-weight: bold\"> Target Instance Count </span>┃<span style=\"font-weight: bold\"> Scaling Time (seconds) </span>┃\n",
       "┡━━━━━━━━━━━━━━━━━━━━━━━╇━━━━━━━━━━━━━━━━━━━━━━━━┩\n",
       "│<span style=\"color: #008080; text-decoration-color: #008080\">                     1 </span>│<span style=\"color: #800080; text-decoration-color: #800080\">                  86.07 </span>│\n",
       "└───────────────────────┴────────────────────────┘\n",
       "</pre>\n"
      ],
      "text/plain": [
       "\u001b[3m                  Scaling Times                   \u001b[0m\n",
       "┏━━━━━━━━━━━━━━━━━━━━━━━┳━━━━━━━━━━━━━━━━━━━━━━━━┓\n",
       "┃\u001b[1m \u001b[0m\u001b[1mTarget Instance Count\u001b[0m\u001b[1m \u001b[0m┃\u001b[1m \u001b[0m\u001b[1mScaling Time (seconds)\u001b[0m\u001b[1m \u001b[0m┃\n",
       "┡━━━━━━━━━━━━━━━━━━━━━━━╇━━━━━━━━━━━━━━━━━━━━━━━━┩\n",
       "│\u001b[36m \u001b[0m\u001b[36m                    1\u001b[0m\u001b[36m \u001b[0m│\u001b[35m \u001b[0m\u001b[35m                 86.07\u001b[0m\u001b[35m \u001b[0m│\n",
       "└───────────────────────┴────────────────────────┘\n"
      ]
     },
     "metadata": {},
     "output_type": "display_data"
    }
   ],
   "source": [
    "# get AlarmHigh alarm name\n",
    "scalein_alarm_name = [alarm[\"AlarmName\"] for alarm in alarms if \"AlarmLow\" in alarm[\"AlarmName\"]][0]\n",
    "\n",
    "# Start monitoring scaling events\n",
    "SLEEP_TIME = 5  # time to sleep\n",
    "scaling_times = monitor_scaling_events(\n",
    "    endpoint_name, scalein_alarm_name, SLEEP_TIME, cloudwatch_client, sagemaker_client\n",
    ")\n",
    "\n",
    "# Print scaling times\n",
    "console = Console()\n",
    "table = print_scaling_times(scaling_times)\n",
    "console.print(table)"
   ]
  },
  {
   "cell_type": "markdown",
   "id": "02a2d5b0-dc4b-40e3-8ada-ceddecfdac1a",
   "metadata": {},
   "source": [
    "## Cleanup\n",
    "\n",
    "- Deregister scalable target. This automatically deletes associated cloudwatch alarms.\n",
    "- Delete model\n",
    "- Delete endpoint"
   ]
  },
  {
   "cell_type": "code",
   "execution_count": 16,
   "id": "7aacabc3-2b60-41c6-b903-9de5e31fc8e7",
   "metadata": {
    "tags": []
   },
   "outputs": [
    {
     "data": {
      "text/html": [
       "<pre style=\"white-space:pre;overflow-x:auto;line-height:normal;font-family:Menlo,'DejaVu Sans Mono',consolas,'Courier New',monospace\">Scalable target for <span style=\"font-weight: bold\">endpoint/Llama3-8B-fas-ed594-28Jul2024/variant/AllTraffic</span> deregistered. ✅\n",
       "</pre>\n"
      ],
      "text/plain": [
       "Scalable target for \u001b[1mendpoint/Llama3-8B-fas-ed594-28Jul2024/variant/AllTraffic\u001b[0m deregistered. ✅\n"
      ]
     },
     "metadata": {},
     "output_type": "display_data"
    },
    {
     "data": {
      "text/html": [
       "<pre style=\"white-space:pre;overflow-x:auto;line-height:normal;font-family:Menlo,'DejaVu Sans Mono',consolas,'Courier New',monospace\">------------------------------\n",
       "</pre>\n"
      ],
      "text/plain": [
       "------------------------------\n"
      ]
     },
     "metadata": {},
     "output_type": "display_data"
    },
    {
     "data": {
      "text/html": [
       "<pre style=\"white-space:pre;overflow-x:auto;line-height:normal;font-family:Menlo,'DejaVu Sans Mono',consolas,'Courier New',monospace\">Deleting model: <span style=\"color: #008000; text-decoration-color: #008000; font-weight: bold\">Llama3-8B-fas-ed594-28Jul2024 ✅</span>\n",
       "</pre>\n"
      ],
      "text/plain": [
       "Deleting model: \u001b[1;32mLlama3-8B-fas-ed594-28Jul2024 ✅\u001b[0m\n"
      ]
     },
     "metadata": {},
     "output_type": "display_data"
    },
    {
     "data": {
      "text/html": [
       "<pre style=\"white-space:pre;overflow-x:auto;line-height:normal;font-family:Menlo,'DejaVu Sans Mono',consolas,'Courier New',monospace\">Deleting endpoint: <span style=\"color: #800080; text-decoration-color: #800080; font-weight: bold\">Llama3-8B-fas-ed594-28Jul2024 ✅</span>\n",
       "</pre>\n"
      ],
      "text/plain": [
       "Deleting endpoint: \u001b[1;35mLlama3-8B-fas-ed594-28Jul2024 ✅\u001b[0m\n"
      ]
     },
     "metadata": {},
     "output_type": "display_data"
    },
    {
     "data": {
      "text/html": [
       "<pre style=\"white-space:pre;overflow-x:auto;line-height:normal;font-family:Menlo,'DejaVu Sans Mono',consolas,'Courier New',monospace\">------------------------------\n",
       "</pre>\n"
      ],
      "text/plain": [
       "------------------------------\n"
      ]
     },
     "metadata": {},
     "output_type": "display_data"
    },
    {
     "data": {
      "text/html": [
       "<pre style=\"white-space:pre;overflow-x:auto;line-height:normal;font-family:Menlo,'DejaVu Sans Mono',consolas,'Courier New',monospace\">Done\n",
       "</pre>\n"
      ],
      "text/plain": [
       "Done\n"
      ]
     },
     "metadata": {},
     "output_type": "display_data"
    }
   ],
   "source": [
    "# Deregister the scalable target for AAS\n",
    "try:\n",
    "    autoscaling_client.deregister_scalable_target(\n",
    "        ServiceNamespace=\"sagemaker\",\n",
    "        ResourceId=resource_id,\n",
    "        ScalableDimension=\"sagemaker:variant:DesiredInstanceCount\",\n",
    "    )\n",
    "    print(f\"Scalable target for [b]{resource_id}[/b] deregistered. ✅\")\n",
    "except autoscaling_client.exceptions.ObjectNotFoundException:\n",
    "    print(f\"Scalable target for [b]{resource_id}[/b] not found!.\")\n",
    "\n",
    "print(\"---\" * 10)\n",
    "# Delete model and endpoint\n",
    "try:\n",
    "    print(f\"Deleting model: [b green]{model_name} ✅\")\n",
    "    predictor.delete_model()\n",
    "except Exception as e:\n",
    "    print(f\"{e}\")\n",
    "\n",
    "try:\n",
    "    print(f\"Deleting endpoint: [b magenta]{predictor.endpoint_name} ✅\")\n",
    "    predictor.delete_endpoint()\n",
    "except Exception as e:\n",
    "    print(f\"{e}\")\n",
    "\n",
    "print(\"---\" * 10)\n",
    "print(f\"Done\")"
   ]
  },
  {
   "cell_type": "markdown",
   "id": "9fdee8f2",
   "metadata": {},
   "source": [
    "## Notebook CI Test Results\n",
    "\n",
    "This notebook was tested in multiple regions. The test results are as follows, except for us-west-2 which is shown at the top of the notebook.\n",
    "\n",
    "\n",
    "![This us-east-1 badge failed to load. Check your device's internet connectivity, otherwise the service is currently unavailable](https://prod.us-west-2.tcx-beacon.docs.aws.dev/sagemaker-nb/us-east-1/inference|generativeai|huggingfacetgi|meta-llama|llama3-8b|faster-autoscaling|realtime-endpoints|FasterAutoscaling-SME-Llama3-8B-AppAutoScaling.ipynb)\n",
    "\n",
    "![This us-east-2 badge failed to load. Check your device's internet connectivity, otherwise the service is currently unavailable](https://prod.us-west-2.tcx-beacon.docs.aws.dev/sagemaker-nb/us-east-2/inference|generativeai|huggingfacetgi|meta-llama|llama3-8b|faster-autoscaling|realtime-endpoints|FasterAutoscaling-SME-Llama3-8B-AppAutoScaling.ipynb)\n",
    "\n",
    "![This us-west-1 badge failed to load. Check your device's internet connectivity, otherwise the service is currently unavailable](https://prod.us-west-2.tcx-beacon.docs.aws.dev/sagemaker-nb/us-west-1/inference|generativeai|huggingfacetgi|meta-llama|llama3-8b|faster-autoscaling|realtime-endpoints|FasterAutoscaling-SME-Llama3-8B-AppAutoScaling.ipynb)\n",
    "\n",
    "![This ca-central-1 badge failed to load. Check your device's internet connectivity, otherwise the service is currently unavailable](https://prod.us-west-2.tcx-beacon.docs.aws.dev/sagemaker-nb/ca-central-1/inference|generativeai|huggingfacetgi|meta-llama|llama3-8b|faster-autoscaling|realtime-endpoints|FasterAutoscaling-SME-Llama3-8B-AppAutoScaling.ipynb)\n",
    "\n",
    "![This sa-east-1 badge failed to load. Check your device's internet connectivity, otherwise the service is currently unavailable](https://prod.us-west-2.tcx-beacon.docs.aws.dev/sagemaker-nb/sa-east-1/inference|generativeai|huggingfacetgi|meta-llama|llama3-8b|faster-autoscaling|realtime-endpoints|FasterAutoscaling-SME-Llama3-8B-AppAutoScaling.ipynb)\n",
    "\n",
    "![This eu-west-1 badge failed to load. Check your device's internet connectivity, otherwise the service is currently unavailable](https://prod.us-west-2.tcx-beacon.docs.aws.dev/sagemaker-nb/eu-west-1/inference|generativeai|huggingfacetgi|meta-llama|llama3-8b|faster-autoscaling|realtime-endpoints|FasterAutoscaling-SME-Llama3-8B-AppAutoScaling.ipynb)\n",
    "\n",
    "![This eu-west-2 badge failed to load. Check your device's internet connectivity, otherwise the service is currently unavailable](https://prod.us-west-2.tcx-beacon.docs.aws.dev/sagemaker-nb/eu-west-2/inference|generativeai|huggingfacetgi|meta-llama|llama3-8b|faster-autoscaling|realtime-endpoints|FasterAutoscaling-SME-Llama3-8B-AppAutoScaling.ipynb)\n",
    "\n",
    "![This eu-west-3 badge failed to load. Check your device's internet connectivity, otherwise the service is currently unavailable](https://prod.us-west-2.tcx-beacon.docs.aws.dev/sagemaker-nb/eu-west-3/inference|generativeai|huggingfacetgi|meta-llama|llama3-8b|faster-autoscaling|realtime-endpoints|FasterAutoscaling-SME-Llama3-8B-AppAutoScaling.ipynb)\n",
    "\n",
    "![This eu-central-1 badge failed to load. Check your device's internet connectivity, otherwise the service is currently unavailable](https://prod.us-west-2.tcx-beacon.docs.aws.dev/sagemaker-nb/eu-central-1/inference|generativeai|huggingfacetgi|meta-llama|llama3-8b|faster-autoscaling|realtime-endpoints|FasterAutoscaling-SME-Llama3-8B-AppAutoScaling.ipynb)\n",
    "\n",
    "![This eu-north-1 badge failed to load. Check your device's internet connectivity, otherwise the service is currently unavailable](https://prod.us-west-2.tcx-beacon.docs.aws.dev/sagemaker-nb/eu-north-1/inference|generativeai|huggingfacetgi|meta-llama|llama3-8b|faster-autoscaling|realtime-endpoints|FasterAutoscaling-SME-Llama3-8B-AppAutoScaling.ipynb)\n",
    "\n",
    "![This ap-southeast-1 badge failed to load. Check your device's internet connectivity, otherwise the service is currently unavailable](https://prod.us-west-2.tcx-beacon.docs.aws.dev/sagemaker-nb/ap-southeast-1/inference|generativeai|huggingfacetgi|meta-llama|llama3-8b|faster-autoscaling|realtime-endpoints|FasterAutoscaling-SME-Llama3-8B-AppAutoScaling.ipynb)\n",
    "\n",
    "![This ap-southeast-2 badge failed to load. Check your device's internet connectivity, otherwise the service is currently unavailable](https://prod.us-west-2.tcx-beacon.docs.aws.dev/sagemaker-nb/ap-southeast-2/inference|generativeai|huggingfacetgi|meta-llama|llama3-8b|faster-autoscaling|realtime-endpoints|FasterAutoscaling-SME-Llama3-8B-AppAutoScaling.ipynb)\n",
    "\n",
    "![This ap-northeast-1 badge failed to load. Check your device's internet connectivity, otherwise the service is currently unavailable](https://prod.us-west-2.tcx-beacon.docs.aws.dev/sagemaker-nb/ap-northeast-1/inference|generativeai|huggingfacetgi|meta-llama|llama3-8b|faster-autoscaling|realtime-endpoints|FasterAutoscaling-SME-Llama3-8B-AppAutoScaling.ipynb)\n",
    "\n",
    "![This ap-northeast-2 badge failed to load. Check your device's internet connectivity, otherwise the service is currently unavailable](https://prod.us-west-2.tcx-beacon.docs.aws.dev/sagemaker-nb/ap-northeast-2/inference|generativeai|huggingfacetgi|meta-llama|llama3-8b|faster-autoscaling|realtime-endpoints|FasterAutoscaling-SME-Llama3-8B-AppAutoScaling.ipynb)\n",
    "\n",
    "![This ap-south-1 badge failed to load. Check your device's internet connectivity, otherwise the service is currently unavailable](https://prod.us-west-2.tcx-beacon.docs.aws.dev/sagemaker-nb/ap-south-1/inference|generativeai|huggingfacetgi|meta-llama|llama3-8b|faster-autoscaling|realtime-endpoints|FasterAutoscaling-SME-Llama3-8B-AppAutoScaling.ipynb)"
   ]
  }
 ],
 "metadata": {
  "kernelspec": {
   "display_name": "conda_pytorch_p310",
   "language": "python",
   "name": "conda_pytorch_p310"
  },
  "language_info": {
   "codemirror_mode": {
    "name": "ipython",
    "version": 3
   },
   "file_extension": ".py",
   "mimetype": "text/x-python",
   "name": "python",
   "nbconvert_exporter": "python",
   "pygments_lexer": "ipython3",
   "version": "3.10.14"
  }
 },
 "nbformat": 4,
 "nbformat_minor": 5
}
