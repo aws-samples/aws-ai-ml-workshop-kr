{
 "cells": [
  {
   "cell_type": "markdown",
   "id": "ff25bc91-0cca-41a5-84d0-ca94cc2e290e",
   "metadata": {},
   "source": [
    "# Copy generator based on GenAI\n"
   ]
  },
  {
   "cell_type": "markdown",
   "id": "1e22ff97-5e9e-42c2-a148-e8031ad2acf2",
   "metadata": {},
   "source": [
    "## Setting\n",
    " - Auto Reload\n",
    " - path for utils"
   ]
  },
  {
   "cell_type": "code",
   "execution_count": 1,
   "id": "646e0e11-2b60-4c7d-9e9a-4bbb45ec6b56",
   "metadata": {
    "tags": []
   },
   "outputs": [],
   "source": [
    "%load_ext autoreload\n",
    "%autoreload 2"
   ]
  },
  {
   "cell_type": "code",
   "execution_count": 2,
   "id": "60c4564c-b73c-4de7-98da-6ab14eb7bca5",
   "metadata": {
    "tags": []
   },
   "outputs": [],
   "source": [
    "import sys, os\n",
    "module_path = \"../..\"\n",
    "sys.path.append(os.path.abspath(module_path))"
   ]
  },
  {
   "cell_type": "markdown",
   "id": "67ab4700-0114-4fa1-a35a-0adba4b4c895",
   "metadata": {},
   "source": [
    "## 1. Create Bedrock client"
   ]
  },
  {
   "cell_type": "code",
   "execution_count": 3,
   "id": "b2dfa466-625a-4236-ab4d-640df8423634",
   "metadata": {
    "tags": []
   },
   "outputs": [],
   "source": [
    "#import json\n",
    "import boto3\n",
    "from pprint import pprint\n",
    "from termcolor import colored\n",
    "from utils import bedrock, print_ww\n",
    "from utils.bedrock import bedrock_info"
   ]
  },
  {
   "cell_type": "markdown",
   "id": "c1596270-c41d-43f4-8e2f-aacd1d5fee04",
   "metadata": {},
   "source": [
    "### ---- ⚠️ Un-comment and edit the below lines as needed for your AWS setup ⚠️ ----\n",
    "- os.environ[\"AWS_DEFAULT_REGION\"] = \"<REGION_NAME>\"  # E.g. \"us-east-1\"\n",
    "- os.environ[\"AWS_PROFILE\"] = \"<YOUR_PROFILE>\"\n",
    "- os.environ[\"BEDROCK_ASSUME_ROLE\"] = \"<YOUR_ROLE_ARN>\"  # E.g. \"arn:aws:...\"\n",
    "- os.environ[\"BEDROCK_ENDPOINT_URL\"] = \"<YOUR_ENDPOINT_URL>\"  # E.g. \"https://...\""
   ]
  },
  {
   "cell_type": "code",
   "execution_count": 4,
   "id": "7cc37529-0a83-4bc7-9607-b2a4e7d18c03",
   "metadata": {
    "tags": []
   },
   "outputs": [
    {
     "name": "stdout",
     "output_type": "stream",
     "text": [
      "Create new client\n",
      "  Using region: None\n",
      "  Using profile: None\n",
      "boto3 Bedrock client successfully created!\n",
      "bedrock-runtime(https://bedrock-runtime.us-east-1.amazonaws.com)\n",
      "\u001b[32m\n",
      "== FM lists ==\u001b[0m\n",
      "{'Claude-Instant-V1': 'anthropic.claude-instant-v1',\n",
      " 'Claude-V1': 'anthropic.claude-v1',\n",
      " 'Claude-V2': 'anthropic.claude-v2',\n",
      " 'Claude-V2-1': 'anthropic.claude-v2:1',\n",
      " 'Claude-V3-5-Sonnet': 'anthropic.claude-3-5-sonnet-20240620-v1:0',\n",
      " 'Claude-V3-Haiku': 'anthropic.claude-3-haiku-20240307-v1:0',\n",
      " 'Claude-V3-Opus': 'anthropic.claude-3-sonnet-20240229-v1:0',\n",
      " 'Claude-V3-Sonnet': 'anthropic.claude-3-sonnet-20240229-v1:0',\n",
      " 'Cohere-Embeddings-En': 'cohere.embed-english-v3',\n",
      " 'Cohere-Embeddings-Multilingual': 'cohere.embed-multilingual-v3',\n",
      " 'Command': 'cohere.command-text-v14',\n",
      " 'Command-Light': 'cohere.command-light-text-v14',\n",
      " 'Jurassic-2-Mid': 'ai21.j2-mid-v1',\n",
      " 'Jurassic-2-Ultra': 'ai21.j2-ultra-v1',\n",
      " 'Llama2-13b-Chat': 'meta.llama2-13b-chat-v1',\n",
      " 'Titan-Embeddings-G1': 'amazon.titan-embed-text-v1',\n",
      " 'Titan-Text-Embeddings-V2': 'amazon.titan-embed-text-v2:0',\n",
      " 'Titan-Text-G1': 'amazon.titan-text-express-v1',\n",
      " 'Titan-Text-G1-Express': 'amazon.titan-text-express-v1',\n",
      " 'Titan-Text-G1-Light': 'amazon.titan-text-lite-v1',\n",
      " 'Titan-Text-G1-Premier': 'amazon.titan-text-premier-v1:0'}\n"
     ]
    }
   ],
   "source": [
    "boto3_bedrock = bedrock.get_bedrock_client(\n",
    "    assumed_role=os.environ.get(\"BEDROCK_ASSUME_ROLE\", None),\n",
    "    endpoint_url=os.environ.get(\"BEDROCK_ENDPOINT_URL\", None),\n",
    "    region=os.environ.get(\"AWS_DEFAULT_REGION\", None),\n",
    ")\n",
    "\n",
    "print (colored(\"\\n== FM lists ==\", \"green\"))\n",
    "pprint (bedrock_info.get_list_fm_models(verbose=False))"
   ]
  },
  {
   "cell_type": "markdown",
   "id": "d1be97cc-5912-4917-ab22-4348a623030b",
   "metadata": {},
   "source": [
    "## 2. LLM Object 생성"
   ]
  },
  {
   "cell_type": "code",
   "execution_count": 5,
   "id": "cd3406e6-5cf9-4b6c-9240-578cd6f1665b",
   "metadata": {
    "tags": []
   },
   "outputs": [],
   "source": [
    "from utils.bedrock import bedrock_model\n",
    "from langchain.callbacks.streaming_stdout import StreamingStdOutCallbackHandler"
   ]
  },
  {
   "cell_type": "code",
   "execution_count": 6,
   "id": "e16f2396-a5ae-4263-99f1-38962dc7c761",
   "metadata": {
    "tags": []
   },
   "outputs": [
    {
     "data": {
      "text/plain": [
       "<utils.bedrock.bedrock_model at 0x7f371630b8e0>"
      ]
     },
     "execution_count": 6,
     "metadata": {},
     "output_type": "execute_result"
    }
   ],
   "source": [
    "llm_text = bedrock_model(\n",
    "    model_id=bedrock_info.get_model_id(model_name=\"Claude-V3-Sonnet\"),\n",
    "    bedrock_client=boto3_bedrock,\n",
    "    stream=True,\n",
    "    callbacks=[StreamingStdOutCallbackHandler()],\n",
    "    inference_config={\n",
    "        'maxTokens': 1024,\n",
    "        'stopSequences': [\"\\n\\nHuman\"],\n",
    "        'temperature': 0.01,\n",
    "        #'topP': ...,\n",
    "    }\n",
    "    #additional_model_request_fields={\"top_k\": 200}\n",
    ")\n",
    "llm_text"
   ]
  },
  {
   "cell_type": "markdown",
   "id": "46b58b68-cad8-4f6d-851a-e41110087acb",
   "metadata": {},
   "source": [
    "## 3. Chain for Copy Generation"
   ]
  },
  {
   "cell_type": "code",
   "execution_count": 7,
   "id": "97e4fe15-55b6-4fb9-b475-f6f2de76f939",
   "metadata": {
    "tags": []
   },
   "outputs": [],
   "source": [
    "from textwrap import dedent\n",
    "from utils.bedrock import bedrock_utils\n",
    "from utils.copy_generator import copy_generation_chain"
   ]
  },
  {
   "cell_type": "markdown",
   "id": "a1d2fa6a-0e8e-478a-ac66-c3d79d30f85c",
   "metadata": {},
   "source": [
    "### 3.1 system prompt 설정하기"
   ]
  },
  {
   "cell_type": "code",
   "execution_count": 8,
   "id": "1fd2ea61-1200-4910-9994-d41b971129b9",
   "metadata": {
    "tags": []
   },
   "outputs": [],
   "source": [
    "prompt = dedent(\n",
    "    '''\n",
    "    You are an AI copywriter expert in crafting personalized marketing messages.\n",
    "    Your goal is to create compelling, tailored content that resonates with individual customers.\n",
    "    Follow these guidelines:\n",
    "    \n",
    "    1. Analyze customer data: Thoroughly examine provided customer information (age, gender, purchase history, interests, etc.).\n",
    "    2. Identify personalization elements: Select key personalization factors based on each customer's unique characteristics and preferences.    \n",
    "    3. Maintain brand voice: Adhere to the company's brand guidelines and tone of voice in all messages.\n",
    "    4. Create concise, engaging copy: Write short, impactful messages that capture attention and drive action.\n",
    "    5. Emotional appeal: Incorporate emotional triggers that resonate with the individual customer's motivations and desires.\n",
    "    6. Use data-driven insights: Leverage customer behavior data to inform message content and timing.\n",
    "    7. Implement urgency and scarcity: When appropriate, create a sense of urgency or scarcity to drive immediate action.\n",
    "    8. Optimize for different channels: Tailor copy for various marketing channels (email, SMS, social media, etc.).\n",
    "    9. Consider timing: Craft messages appropriate to seasons, special dates, or events.\n",
    "    10. Match the given behavioural economics theory.\n",
    "    11. Don't mention anything that's not in the product description.\n",
    "\n",
    "    12. Ensure compliance: Adhere to privacy laws, marketing regulations, and ethical marketing practices.\n",
    "    13. Incorporate storytelling: Use narrative elements to make messages more engaging and memorable.\n",
    "    \n",
    "    Generate personalized marketing copy based on user requests in as short a time as possible, always maintaining accuracy, creativity, and a customer-centric approach.\n",
    "    \n",
    "    '''\n",
    ")\n",
    "#Generate 100 characters or less.\n",
    "# 4. 간결하고 매력적인 카피를 작성합니다: 시선을 사로잡고 행동을 유도하는 짧고 임팩트 있는 메시지를 작성하세요.\n",
    "#     5. 정서적 호소력: 개별 고객의 동기와 욕구에 공감할 수 있는 감정적 유발 요소를 포함하세요.\n",
    "#     6. 데이터 기반 인사이트 활용: 고객 행동 데이터를 활용하여 메시지 콘텐츠와 타이밍을 결정합니다.\n",
    "#     7. 긴급성과 희소성을 구현합니다: 적절한 경우, 긴급성 또는 희소성을 조성하여 즉각적인 행동을 유도합니다.\n",
    "#     8. 다양한 채널에 맞게 최적화하세요: 다양한 마케팅 채널(이메일, SMS, 소셜 미디어 등)에 맞게 카피를 조정합니다.\n",
    "#     9. 타이밍을 고려하세요: 계절, 특별한 날짜 또는 이벤트에 적합한 메시지를 작성하세요.\n",
    "\n",
    "# 1. 마케팅 카피 샘플\n",
    "# 2. 마케팅 대상 (예시-냉장고)\n",
    "# 3. LGE 마케팅 메시지의 톤앤매너 가이드\n",
    "# 4. 고객 개인화 정보 \n",
    "#     - 예시) 연령, 성별, 구매내역, 관심사 등\n",
    "system_prompts = bedrock_utils.get_system_prompt(\n",
    "    system_prompts=prompt,\n",
    ")"
   ]
  },
  {
   "cell_type": "markdown",
   "id": "d59aa234-8322-449c-b9dc-8cc9318dd799",
   "metadata": {},
   "source": [
    "### 3.2 Copy 생성을 위한 user prompt 설정하기"
   ]
  },
  {
   "cell_type": "code",
   "execution_count": 9,
   "id": "f379e3c0-cab7-478d-a5b8-924fd789ac2a",
   "metadata": {
    "tags": []
   },
   "outputs": [],
   "source": [
    "# user_prompts = dedent(\n",
    "#     '''\n",
    "#     Here is customer information:\n",
    "#     <customer_info>{customer_info}</customer_info>\n",
    "    \n",
    "#     Here are the marketing target product, season, tone and manner and behavioral_economics:\n",
    "#     <marketing_target>{marketing_target}</marketing_target>\n",
    "#     <season>{season}</season>\n",
    "#     <tone_and_manner>{tone_and_manner}</tone_and_manner>\n",
    "#     <behavioral_economics>{behavioral_economics}</behavioral_economics>\n",
    "#     '''\n",
    "# )"
   ]
  },
  {
   "cell_type": "code",
   "execution_count": 10,
   "id": "3d39b576-7ea6-4f64-8335-b6f9ea27297f",
   "metadata": {
    "tags": []
   },
   "outputs": [],
   "source": [
    "user_prompts = dedent(\n",
    "    '''\n",
    "    Here is target_product:\n",
    "    <target_product>{target_product}</target_product>\n",
    "    \n",
    "    Here are the target_customer, customer_benefit, example:\n",
    "    <target_customer>{target_customer}</target_customer>\n",
    "    <customer_benefit>{customer_benefit}</customer_benefit>\n",
    "    <example>{example}</example>\n",
    "    '''\n",
    ")"
   ]
  },
  {
   "cell_type": "markdown",
   "id": "b5418a56-93dd-408a-aac3-a8dc25ea0c9e",
   "metadata": {},
   "source": [
    "### 3.3 Copy generation을 위한 chain 설정"
   ]
  },
  {
   "cell_type": "code",
   "execution_count": 11,
   "id": "17b6a24b-5517-4fcc-adc5-cd7d52586d13",
   "metadata": {
    "tags": []
   },
   "outputs": [],
   "source": [
    "copy_generator = copy_generation_chain(\n",
    "    llm=llm_text,\n",
    "    system_prompts=system_prompts,\n",
    "    user_prompts=user_prompts,\n",
    "    multi_turn=True,\n",
    "    verbose=False\n",
    ")"
   ]
  },
  {
   "cell_type": "markdown",
   "id": "67745e6a-d97c-42da-8be8-2e554dd7f516",
   "metadata": {
    "tags": []
   },
   "source": [
    "## 4. Invocation"
   ]
  },
  {
   "cell_type": "markdown",
   "id": "4a6ef493-b8b0-4e38-9555-e92aac19ce1b",
   "metadata": {},
   "source": [
    "### 4.1 프롬프트 작성을 위한 정보 제공"
   ]
  },
  {
   "cell_type": "markdown",
   "id": "e961f1a1-a27f-473d-bec0-74af06ec3095",
   "metadata": {},
   "source": [
    "**behavioral_economics**\n",
    "\n",
    "- **보유효과(endowment effect)**\n",
    "사람들이 어떤 물건(또는 지원, 권력 등)을 소유하고 있을 때 그것을 갖고 있지 않을 때보다 그 가치를 높게 평가하여 소유하고 있는 물건을 내놓는 것을 손실로 여기는 심리현상을 말한다.\n",
    "\n",
    "- **심리적 회계(mental accounting)**\n",
    "심리적 회계란 행동경제학적 용어로 동일한 금액의 돈이라도 사람마다 주관적으로 다른 계좌(account)로 구분하여 돈의 가치를 다르게 둠으로써 취급 방식이나 지출의 행태가 달라지는 일반적인 성향을 가리킨다.\n",
    "\n",
    "- **손실회피성(loss aversion)**\n",
    "같은 금액이라면 손실을 이익보다 훨씬 더 크게 느끼는 현상을 가리킨다.\n",
    "\n",
    "- **쌍곡형 할인(hyperbolic discounting)**\n",
    "현재 가치와 미래 가치를 비교할 때 사람들이 보이는 특징을 의미한다.\n",
    "2010년대 이후로는 인기를 끌고 있는 개념으로, 경제학의 지연할인율(exponential discounting) 개념을 저격하기 때문에 더 인기를 끌고 있다고 한다.[8] 경제학자들의 예상보다 더 급격하게 미래가치를 과소평가하는 경향이 보인다는 게 골자다. 예를 들어, 사람들은 1년하고도 3일 후의 빵 하나와 1년 4일 후의 빵 하나는 별 차이가 없다고 느끼지만, 당장 오늘의 빵 하나와 내일의 빵 하나의 차이는 극히 크게 느끼곤 한다. 이 경우 현재부터 어느 시점까지의 할인율 beta와 그 시점 이후의 할인율 delta를 다르게 놓고 문제를 푸는 식으로 이용하고는 하는데, 당연하지만 문제가 더 복잡해지기 때문에 그만큼의 복잡도를 올릴만큼 유의미하게 다른 결과가 나오는지가 관건이다.\n",
    "\n",
    "- **닻내림 효과(anchoring effect)**\n",
    "‘닻 내림 효과’ 또는 ‘앵커링 효과’라고도 한다. 배가 어느 지점에 닻을 내리면 그 이상 움직이지 못하듯이, 인간의 사고가 처음에 제시된 하나의 이미지나 기억에 박혀 버려 어떤 판단도 그 영향을 받아 새로운 정보를 수용하지 않거나 이를 부분적으로만 수정하는 행동 특성을 말한다.\n",
    "처음에 작업이 빨리 진행되는 것을 보다가 조금 느리게 진행되는 것을 보면 실제 속도보다 더 느려 보이거나 느린 작업을 보다가 조금 빠른 작업을 보면 실제보다 더 빨라 보이는 것 따위가 그 예이다.\n",
    "\n",
    "- **프레이밍 효과(framing effect)**\n",
    "같은 문제라도 사용자에게 어떤 방식으로 질문하느냐에 따라 사용자의 판단과 선택이 달라지는 현상을 의미한다."
   ]
  },
  {
   "cell_type": "code",
   "execution_count": 12,
   "id": "2662d577-0de4-4aae-99d8-b592cdfb9104",
   "metadata": {
    "tags": []
   },
   "outputs": [],
   "source": [
    "# customer_info = dedent(\n",
    "#     '''\n",
    "#     - 이름: 장동진\n",
    "#     - 성별: 남\n",
    "#     - 나이: 39\n",
    "#     - 구매 내역: 냉장고, 세탁기\n",
    "#     '''\n",
    "# )\n",
    "# marketing_target = dedent(\n",
    "#     '''\n",
    "#     제품명:LG 올레드 오브제컬렉션\n",
    "#     더 밝고 선명하게 진화한 화질: 디테일까지 한번 더 밝히는 올레드 evo의 밝기 향상 기술로 최대 30% 더 밝고 선명한 화질로 진화했습니다.\n",
    "#     알파9 AI 프로세서로 완성한 압도적 화질과 사운드: LG 올레드에 맞춰 한번 더 진화한 알파9 AI 프로세서 Gen7. 혁신적인 AI 딥러닝 기술이 디테일이 살아 있는 화질과 사운드를 제공합니다.\n",
    "#     어디서 보아도 아름다운: 어느 각도에서 보아도 아름다운 디자인은 어떤 공간, 어떤 인테리어와도 자연스럽게 어우러집니다. 섬세하고 부드러운 곡선 처리\n",
    "#     섬세하고 부드러운 곡선 처리: 모서리를 둥글게 감싸는 부드럽고 매끄러운 라인이 고급스러운 느낌을 연출해 어떤 인테리어에도 적합합니다.\n",
    "#     차분한 컬러와 부드러운 터치: 차분한 베이지색 프레임과 소프트한 터치감의 패브릭 마감이 공간에 스타일리시한 매력을 더합니다.\n",
    "#     감각적인 뒷모습: 히든 스페이스가 공간 스타일의 일부가 됩니다. 감각적인 뒷모습에 취향에 따라 좋아하는 책, 잡지, 엽서 등을 전시해 공간을 연출할 수 있습니다.\n",
    "#     공간을 깔끔하게 완성: 탈부착 가능한 액세서리 수납함에 셋탑박스, 멀티탭, 공유기 등 주변기기를 수납할 수 있고 스탠드 내부에 선을 숨길 수 있어 공간을 깔끔하게 유지할 수 있습니다.\n",
    "#     원하는 무드로 전환: 좋아하는 예술 작품은 물론, 영상, 시계, 음악, 사진까지 원하는 화면을 띄워 분위기를 전환하고 인테리어에 변화를 줄 수 있습니다.\n",
    "#     '''\n",
    "# )\n",
    "# season = \"여름, 8월\"\n",
    "# tone_and_manner = \"진지하게\"\n",
    "# behavioral_economics = \"hyperbolic discounting\" #\"mental accounting\" #\"endowment effect\" # \"mental accounting\""
   ]
  },
  {
   "cell_type": "code",
   "execution_count": 18,
   "id": "91278fef-79b0-4b95-9473-8dca790f7a13",
   "metadata": {
    "tags": []
   },
   "outputs": [],
   "source": [
    "target_product = dedent(\n",
    "    '''\n",
    "    가전 패키지\n",
    "    (건조기, 스타일러, 식세기,스탠바이미)\n",
    "    '''\n",
    ")\n",
    "target_customer = dedent(\n",
    "    '''\n",
    "    - 6인용 식기세척기, 6인용 밥솥, 벽걸이 단품 구매 이력이 있는 1인 가구 추정 고객\n",
    "    - 20~30대 고객 중 미혼 추정 고객\n",
    "    '''\n",
    ")\n",
    "customer_benefit = dedent(\n",
    "    '''\n",
    "    별도 CRM 고객 혜택 없음\n",
    "    '''\n",
    ")\n",
    "\n",
    "example = dedent(\n",
    "    '''\n",
    "    <title>(광고) 부모님 명절 선물 고민이시라면?</title>\n",
    "    <message>\n",
    "    (광고)[LG전자 베스트샵] %NAME% 고객님.\n",
    "    부모님 명절 선물 고민이신가요?\n",
    "\n",
    "    일손을 더는 가사 해방 가전부터 최신형 냉장고, TV까지 @.@\n",
    "    비용 부담은 내리고, 부모님 행복지수는 올리고!\n",
    "    선물 고민 그만하시고, LG 가전 구독 선물로 부모님께 효도해보세요^.^ \n",
    "\n",
    "    ★ 잊으면 안되는 구독혜택 ★\n",
    "    하나. 구독중인 제품과 결합시 가전 구독료 최대 15% 할인 혜택\n",
    "    ☞ 상담 예약하기 : bit.ly/42mfuTL\u000b",
    "\n",
    "    둘. 보유하신 포인트로 가전 구독료 납부 가능\n",
    "    ☞ 포인트 확인하기 : bit.ly/4bhYMZO\n",
    "\n",
    "    셋. 최대 1년 구독료 지원 이벤트까지!\n",
    "    </message>\n",
    "    '''\n",
    ")\n",
    "    "
   ]
  },
  {
   "cell_type": "code",
   "execution_count": 19,
   "id": "39eb2deb-dfe2-4a19-86ac-3647cde9d652",
   "metadata": {
    "tags": []
   },
   "outputs": [],
   "source": [
    "# response = copy_generator.invoke(\n",
    "#     context={\n",
    "#         \"customer_info\": customer_info,\n",
    "#         \"marketing_target\": marketing_target,\n",
    "#         \"season\": season,\n",
    "#         \"tone_and_manner\": tone_and_manner,\n",
    "#         \"behavioral_economics\": behavioral_economics\n",
    "#     }\n",
    "# )"
   ]
  },
  {
   "cell_type": "code",
   "execution_count": 20,
   "id": "3706ed79-fd0f-4576-a31c-547f2ec897ce",
   "metadata": {
    "tags": []
   },
   "outputs": [
    {
     "name": "stdout",
     "output_type": "stream",
     "text": [
      "안녕하세요 %NAME% 고객님,\n",
      "\n",
      "1인 가구를 위한 LG 가전 패키지를 소개합니다.\n",
      "건조기, 스타일러, 식기세척기, 스탠바이미로 구성된 이 패키지는 바쁜 싱글라이프를 위한 필수 아이템입니다.\n",
      "\n",
      "✓ 건조기로 세탁 후 주름 걱정 없이 \n",
      "✓ 스타일러로 옷가지 언제나 반듯하게\n",
      "✓ 식기세척기로 설거지 고민 끝\n",
      "✓ 스탠바이미로 간편한 청소까지!\n",
      "\n",
      "지금 이 패키지를 구독하시면 3개월 구독료를 지원해 드립니다.\n",
      "1인 가구를 위한 맞춤 구성으로 여가 시간을 넉넉히 가져보세요.\n",
      "\n",
      "☞ 패키지 구성 확인: bit.ly/3Xp7yZQ\n",
      "☞ 상담 예약: bit.ly/3JRXLP6\n",
      "\n",
      "바쁜 일상 속 여유를 만끽하실 수 있을 것입니다.{'text': '안녕하세요 %NAME% 고객님,\\n\\n1인 가구를 위한 LG 가전 패키지를 소개합니다.\\n건조기, 스타일러, 식기세척기, 스탠바이미로 구성된 이 패키지는 바쁜 싱글라이프를 위한 필수 아이템입니다.\\n\\n✓ 건조기로 세탁 후 주름 걱정 없이 \\n✓ 스타일러로 옷가지 언제나 반듯하게\\n✓ 식기세척기로 설거지 고민 끝\\n✓ 스탠바이미로 간편한 청소까지!\\n\\n지금 이 패키지를 구독하시면 3개월 구독료를 지원해 드립니다.\\n1인 가구를 위한 맞춤 구성으로 여가 시간을 넉넉히 가져보세요.\\n\\n☞ 패키지 구성 확인: bit.ly/3Xp7yZQ\\n☞ 상담 예약: bit.ly/3JRXLP6\\n\\n바쁜 일상 속 여유를 만끽하실 수 있을 것입니다.', 'toolUse': None}\n"
     ]
    }
   ],
   "source": [
    "response = copy_generator.invoke(\n",
    "    context={\n",
    "        \"target_product\": target_product,\n",
    "        \"target_customer\": target_customer,\n",
    "        \"customer_benefit\": customer_benefit,\n",
    "        \"example\": example,\n",
    "    }\n",
    ")"
   ]
  },
  {
   "cell_type": "markdown",
   "id": "57863213-216e-4b3c-b4bc-17031bb96498",
   "metadata": {},
   "source": [
    "### 답변에 대해 추가 수정을 요청할 수 있습니다."
   ]
  },
  {
   "cell_type": "code",
   "execution_count": 16,
   "id": "bef49300-5228-43b4-be69-6b06c480796d",
   "metadata": {
    "tags": []
   },
   "outputs": [
    {
     "name": "stdout",
     "output_type": "stream",
     "text": [
      "알겠습니다. 메시지를 더 간결하게 요약해 보겠습니다.\n",
      "\n",
      "<title>%NAME% 님, 영화관 그 이상의 시청 경험을</title>\n",
      "\n",
      "<message>\n",
      "%NAME% 고객님, 안녕하세요.\n",
      "\n",
      "LG 올레드 TV로 홈시어터를 만들어보세요.\n",
      "완벽한 블랙과 탁월한 색재현력으로 영화관 이상의 몰입감을 선사합니다.\n",
      "\n",
      "지금 구독하면 1년 구독료 지원 이벤트!\n",
      "합리적인 비용으로 프리미엄 시청 경험을 누리실 수 있습니다.\n",
      "\n",
      "☞ 상담 예약: bit.ly/3kcRTvB\n",
      "\n",
      "영화 같은 화질, 홈시어터를 경험해보세요.\n",
      "</message>\n",
      "\n",
      "메시지를 간결하게 다듬어 LG 올레드 TV의 주요 특징과 구독 프로모션을 강조했습니다. 행동 유도를 위한 링크도 포함시켰죠. 더 짧고 간단해진 메시지로 고객님의 관심을 쉽게 사로잡을 수 있을 것 같습니다.{'text': '알겠습니다. 메시지를 더 간결하게 요약해 보겠습니다.\\n\\n<title>%NAME% 님, 영화관 그 이상의 시청 경험을</title>\\n\\n<message>\\n%NAME% 고객님, 안녕하세요.\\n\\nLG 올레드 TV로 홈시어터를 만들어보세요.\\n완벽한 블랙과 탁월한 색재현력으로 영화관 이상의 몰입감을 선사합니다.\\n\\n지금 구독하면 1년 구독료 지원 이벤트!\\n합리적인 비용으로 프리미엄 시청 경험을 누리실 수 있습니다.\\n\\n☞ 상담 예약: bit.ly/3kcRTvB\\n\\n영화 같은 화질, 홈시어터를 경험해보세요.\\n</message>\\n\\n메시지를 간결하게 다듬어 LG 올레드 TV의 주요 특징과 구독 프로모션을 강조했습니다. 행동 유도를 위한 링크도 포함시켰죠. 더 짧고 간단해진 메시지로 고객님의 관심을 쉽게 사로잡을 수 있을 것 같습니다.', 'toolUse': None}\n"
     ]
    }
   ],
   "source": [
    "response = copy_generator.invoke(\n",
    "    context={\n",
    "        \"request\": \"좀 더 요약해서 짧게 써줘\"\n",
    "    }\n",
    ")"
   ]
  },
  {
   "cell_type": "code",
   "execution_count": 17,
   "id": "9b22e20f-1382-4fa2-9d78-cd2910942719",
   "metadata": {},
   "outputs": [
    {
     "name": "stdout",
     "output_type": "stream",
     "text": [
      "Got it, here's the message in English:\n",
      "\n",
      "<title>%NAME%, Experience Theater-Quality Viewing at Home</title>\n",
      "\n",
      "<message>\n",
      "Hello %NAME%,\n",
      "\n",
      "Create your home theater with the LG OLED TV. \n",
      "Enjoy unparalleled immersion with perfect blacks and exceptional color accuracy that surpasses movie theaters.\n",
      "\n",
      "Subscribe now and get 1 year of subscription fees waived!\n",
      "Experience premium viewing at an affordable cost.\n",
      "\n",
      "☞ Book a Consultation: bit.ly/3kcRTvB  \n",
      "\n",
      "Witness cinematic picture quality in your living room.\n",
      "</message>\n",
      "\n",
      "I've translated the key message highlights to English while keeping it concise:\n",
      "\n",
      "- Promoting the LG OLED TV's superior picture quality and home theater experience\n",
      "- Highlighting the 1-year subscription fee waiver promotion \n",
      "- Included a call-to-action link to book a consultation\n",
      "- Maintained a conversational yet persuasive tone\n",
      "\n",
      "Let me know if you need any other changes to the English version.{'text': \"Got it, here's the message in English:\\n\\n<title>%NAME%, Experience Theater-Quality Viewing at Home</title>\\n\\n<message>\\nHello %NAME%,\\n\\nCreate your home theater with the LG OLED TV. \\nEnjoy unparalleled immersion with perfect blacks and exceptional color accuracy that surpasses movie theaters.\\n\\nSubscribe now and get 1 year of subscription fees waived!\\nExperience premium viewing at an affordable cost.\\n\\n☞ Book a Consultation: bit.ly/3kcRTvB  \\n\\nWitness cinematic picture quality in your living room.\\n</message>\\n\\nI've translated the key message highlights to English while keeping it concise:\\n\\n- Promoting the LG OLED TV's superior picture quality and home theater experience\\n- Highlighting the 1-year subscription fee waiver promotion \\n- Included a call-to-action link to book a consultation\\n- Maintained a conversational yet persuasive tone\\n\\nLet me know if you need any other changes to the English version.\", 'toolUse': None}\n"
     ]
    }
   ],
   "source": [
    "response = copy_generator.invoke(\n",
    "    context={\n",
    "        \"request\": \"영어로 바꿔줘\"\n",
    "    }\n",
    ")"
   ]
  },
  {
   "cell_type": "code",
   "execution_count": null,
   "id": "b71aa048-19b9-4423-8e40-fd8d9d40543e",
   "metadata": {},
   "outputs": [],
   "source": [
    "# prompt = dedent(\n",
    "#     '''\n",
    "#     당신은 사용자의 보험 정보를 기반으로 알람 메세지를 생성하는 AI Assistant 입니다. \n",
    "#     당신의 역할은 해외여행을 다녀온 후 보험이 종료된 고객에게 전달할 메시지를 작성하는 것입니다.\n",
    "#     주어지는 사용자 정보에 대한 예시는 아래와 같습니다.\n",
    "    \n",
    "#     <user_information>\n",
    "#     주어진 정보는 다음과 같습니다.\n",
    "#     - 이름 : 홍길동\n",
    "#     - 여행지 : 샌프란시스코\n",
    "#     - 날씨 : 흐림\n",
    "#     - 보험 시작일 : 2024-05-01\n",
    "#     - 보험 종료일 : 2024-05-15\n",
    "#     - 보험 가입 횟수 : 1\n",
    "#     - 항공기 지연 여부 : False\n",
    "#     </user_information>\n",
    "\n",
    "#     주어진 정보를 기반으로 작성된 메시지 예시는 아래와 같습니다.\n",
    "\n",
    "#     <example>\n",
    "#     홍길동님! 지난 2주간의 샌프란시스코 여행은 어떠셨나요? 여행기간동안 날씨가 좋지 않아 걱정했습니다. 그래도 항공기가 지연 없이 안전하게 한국으로 귀국하셔서 다행입니다.\n",
    "#     **손해보험의 해외여행보험을 이용해주셔서 감사합니다. 다음에도 **손해보험과 함께하겠습니다.\n",
    "#     </example>\n",
    "    \n",
    "#     입력받은 사용자 정보를 바탕으로 적절한 알람 메시지를 생성하세요. 메시지는 친절하고 전문적이어야 하며, 필요한 정보를 명확히 전달해야 합니다.\n",
    "#     답변에  <user_information></user_information> 사이의 정보는 언급하지 않습니다.\n",
    "    \n",
    "#     '''\n",
    "# )\n",
    "\n",
    "# system_prompts = bedrock_utils.get_system_prompt(\n",
    "#     system_prompts=prompt,\n",
    "# )"
   ]
  },
  {
   "cell_type": "code",
   "execution_count": null,
   "id": "4086aaf7-2e64-4a11-ae9c-71f5aeaecd58",
   "metadata": {},
   "outputs": [],
   "source": [
    "# user_information = dedent(\n",
    "#     '''\n",
    "#     - 이름 : 장동진\n",
    "#     - 여행지 : 시애틀\n",
    "#     - 날씨 : 흐림\n",
    "#     - 보험 시작일 : 2024-05-01\n",
    "#     - 보험 종료일 : 2024-05-15\n",
    "#     - 보험 가입 횟수 : 2\n",
    "#     - 항공기 지연 여부 : True\n",
    "#     '''\n",
    "# )\n",
    "\n",
    "# response = copy_generator.invoke(\n",
    "#     context={\n",
    "#         \"user_information\": user_information,\n",
    "#         #\"request\": \"조금 더 길게 써줘\"\n",
    "#     }\n",
    "# )"
   ]
  }
 ],
 "metadata": {
  "kernelspec": {
   "display_name": "conda_python3",
   "language": "python",
   "name": "conda_python3"
  },
  "language_info": {
   "codemirror_mode": {
    "name": "ipython",
    "version": 3
   },
   "file_extension": ".py",
   "mimetype": "text/x-python",
   "name": "python",
   "nbconvert_exporter": "python",
   "pygments_lexer": "ipython3",
   "version": "3.10.14"
  }
 },
 "nbformat": 4,
 "nbformat_minor": 5
}
