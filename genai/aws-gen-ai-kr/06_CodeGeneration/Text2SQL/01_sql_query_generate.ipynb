{
 "cells": [
  {
   "cell_type": "markdown",
   "metadata": {},
   "source": [
    "# **Invoke Bedrock model for SQL Query Generation**\n",
    "## **1. Introduction**\n",
    "- 이 노트북에서는 LLM을 사용하여 판매 데이터를 분석하기 위한 SQL 쿼리를 생성하는 방법을 보여드리겠습니다.\n",
    "- 여기서는 Boto3 API를 사용하는 Bedrock의 Claude V2.1 모델을 사용하겠습니다.\n",
    "- 이 예제에서 사용된 프롬프트는 프롬프트 이외의 텍스트 예제를 제공하지 않기 때문에 제로 샷 프롬프트라고 합니다.\n",
    "> 참고: *`이 노트북은 AWS 환경 내부 또는 외부에서 실행할 수 있습니다.`*\n",
    "\n",
    "### Context\n",
    "- Amazon Bedrock의 SQL 코드 생성 기능을 시연하기 위해 Boto3 클라이언트를 사용하여 Amazon Bedrock API와 통신하는 방법을 살펴보겠습니다.\n",
    "- 사용 가능한 다양한 구성과 간단한 입력이 어떻게 원하는 출력으로 이어질 수 있는지 보여드리겠습니다.\n",
    "\n",
    "### Pattern\n",
    "- 추가 예제를 제공하지 않고 (zero-shot) 작업, 명령어 및 내부 모델에 대한 입력으로 구성된 입력을 Amazon Bedrock API에 간단히 제공하여 출력을 생성합니다.\n",
    "- 이 패턴의 목적은 강력한 LLM이 어떻게 당면한 작업을 쉽게 이해하고 매력적인 결과물을 생성하는지 보여주기 위한 것입니다.\n",
    "\n",
    "### Use case\n",
    "- 트렌드, 인기 제품 및 평균 매출에 초점을 맞춰 판매 데이터를 분석하기 위한 SQL 쿼리를 생성하는 사용 사례를 살펴보겠습니다.\n",
    "\n",
    "### Persona\n",
    "- Maya는 AnyCompany에서 주로 판매 및 재고 데이터에 집중하는 비즈니스 분석가입니다.\n",
    "- 그녀는 스프레드시트 분석에서 데이터 기반 분석으로 전환하고 있으며, SQL을 사용하여 특정 데이터 요소를 효과적으로 가져오고자 합니다.\n",
    "- 그녀는 분석을 위한 SQL 쿼리를 생성하는 데 LLM을 사용하고자 합니다.\n",
    "\n",
    "### Imprementation\n",
    "- 이 사용 사례를 충족하기 위해 이 노트북에서는 SQL 쿼리를 생성하는 방법을 보여드리겠습니다.\n",
    "- 여기서는 Boto3 클라이언트와 함께 Amazon Bedrock API를 사용하는 Anthropic Claude v2.1 모델을 사용하겠습니다."
   ]
  },
  {
   "cell_type": "markdown",
   "metadata": {},
   "source": [
    "## **2. Setup**"
   ]
  },
  {
   "cell_type": "markdown",
   "metadata": {},
   "source": [
    "### 2.1 Setting\n",
    " - Auto Reload\n",
    " - path for utils"
   ]
  },
  {
   "cell_type": "code",
   "execution_count": 1,
   "metadata": {
    "tags": []
   },
   "outputs": [],
   "source": [
    "%load_ext autoreload\n",
    "%autoreload 2"
   ]
  },
  {
   "cell_type": "code",
   "execution_count": 2,
   "metadata": {
    "tags": []
   },
   "outputs": [],
   "source": [
    "import sys, os\n",
    "module_path = \"../..\"\n",
    "sys.path.append(os.path.abspath(module_path))"
   ]
  },
  {
   "cell_type": "markdown",
   "metadata": {},
   "source": [
    "### 2.2 Package Installation\n",
    "- Install here ==> [package install](../../00_setup/setup.ipynb)"
   ]
  },
  {
   "cell_type": "markdown",
   "metadata": {},
   "source": [
    "### 2.3. Bedrock Client 생성\n"
   ]
  },
  {
   "cell_type": "code",
   "execution_count": 3,
   "metadata": {
    "tags": []
   },
   "outputs": [],
   "source": [
    "import json\n",
    "import boto3\n",
    "from pprint import pprint\n",
    "from termcolor import colored\n",
    "from utils import bedrock, print_ww\n",
    "from utils.bedrock import bedrock_info"
   ]
  },
  {
   "cell_type": "markdown",
   "metadata": {},
   "source": [
    "### ---- ⚠️ Un-comment and edit the below lines as needed for your AWS setup ⚠️ ----\n",
    "- os.environ[\"AWS_DEFAULT_REGION\"] = \"<REGION_NAME>\"  # E.g. \"us-east-1\"\n",
    "- os.environ[\"AWS_PROFILE\"] = \"<YOUR_PROFILE>\"\n",
    "- os.environ[\"BEDROCK_ASSUME_ROLE\"] = \"<YOUR_ROLE_ARN>\"  # E.g. \"arn:aws:...\"\n",
    "- os.environ[\"BEDROCK_ENDPOINT_URL\"] = \"<YOUR_ENDPOINT_URL>\"  # E.g. \"https://...\""
   ]
  },
  {
   "cell_type": "code",
   "execution_count": 4,
   "metadata": {
    "tags": []
   },
   "outputs": [
    {
     "name": "stdout",
     "output_type": "stream",
     "text": [
      "Create new client\n",
      "  Using region: None\n",
      "  Using profile: None\n",
      "boto3 Bedrock client successfully created!\n",
      "bedrock-runtime(https://bedrock-runtime.us-west-2.amazonaws.com)\n",
      "\u001b[32m\n",
      "== FM lists ==\u001b[0m\n",
      "{'Claude-Instant-V1': 'anthropic.claude-instant-v1',\n",
      " 'Claude-V1': 'anthropic.claude-v1',\n",
      " 'Claude-V2': 'anthropic.claude-v2',\n",
      " 'Claude-V2-1': 'anthropic.claude-v2:1',\n",
      " 'Cohere-Embeddings-En': 'cohere.embed-english-v3',\n",
      " 'Cohere-Embeddings-Multilingual': 'cohere.embed-multilingual-v3',\n",
      " 'Command': 'cohere.command-text-v14',\n",
      " 'Command-Light': 'cohere.command-light-text-v14',\n",
      " 'Jurassic-2-Mid': 'ai21.j2-mid-v1',\n",
      " 'Jurassic-2-Ultra': 'ai21.j2-ultra-v1',\n",
      " 'Llama2-13b-Chat': 'meta.llama2-13b-chat-v1',\n",
      " 'Titan-Embeddings-G1': 'amazon.titan-embed-text-v1',\n",
      " 'Titan-Text-G1': 'amazon.titan-text-express-v1',\n",
      " 'Titan-Text-G1-Light': 'amazon.titan-text-lite-v1'}\n"
     ]
    }
   ],
   "source": [
    "boto3_bedrock = bedrock.get_bedrock_client(\n",
    "    assumed_role=os.environ.get(\"BEDROCK_ASSUME_ROLE\", None),\n",
    "    endpoint_url=os.environ.get(\"BEDROCK_ENDPOINT_URL\", None),\n",
    "    region=os.environ.get(\"AWS_DEFAULT_REGION\", None),\n",
    ")\n",
    "\n",
    "aws_region = os.environ.get(\"AWS_DEFAULT_REGION\", None)\n",
    "print (colored(\"\\n== FM lists ==\", \"green\"))\n",
    "pprint (bedrock_info.get_list_fm_models())"
   ]
  },
  {
   "cell_type": "markdown",
   "metadata": {},
   "source": [
    "## **3. Generate SQL Query**\n",
    "### 3.1. Simple Example\n",
    "위에서 설명한 사용 사례에 따라 Amazon Bedrock 서비스에서 SQL 쿼리를 생성하기 위한 입력을 준비해 보겠습니다."
   ]
  },
  {
   "cell_type": "code",
   "execution_count": 5,
   "metadata": {
    "tags": []
   },
   "outputs": [],
   "source": [
    "# create the prompt to generate SQL query\n",
    "prompt_data = \"\"\"\n",
    "\n",
    "Human: AnyCompany has a database with a table named sales_data containing sales records. The table has following columns:\n",
    "- date (YYYY-MM-DD)\n",
    "- product_id\n",
    "- price\n",
    "- units_sold\n",
    "\n",
    "Can you generate SQL queries for the below: \n",
    "- Identify the top 5 best selling products by total sales for the year 2023\n",
    "- Calculate the monthly average sales for the year 2023\n",
    "\n",
    "Assistant:\n",
    "\"\"\""
   ]
  },
  {
   "cell_type": "markdown",
   "metadata": {},
   "source": [
    "먼저 Anthorpic Claude v2.1 모델부터 사용해보겠습니다."
   ]
  },
  {
   "cell_type": "markdown",
   "metadata": {},
   "source": [
    "앞서 생성한 프롬프트를 기반으로 출력을 생성하는 방법을 살펴봅니다."
   ]
  },
  {
   "cell_type": "code",
   "execution_count": 6,
   "metadata": {
    "tags": []
   },
   "outputs": [],
   "source": [
    "modelId = bedrock_info.get_model_id(model_name=\"Claude-V2-1\") # change this to use a different version from the model provider\n",
    "accept = 'application/json'\n",
    "contentType = 'application/json'"
   ]
  },
  {
   "cell_type": "code",
   "execution_count": 7,
   "metadata": {
    "tags": []
   },
   "outputs": [
    {
     "name": "stdout",
     "output_type": "stream",
     "text": [
      " Here are the SQL queries for the requested tasks:\n",
      "\n",
      "```sql\n",
      "-- Top 5 best selling products by total sales for 2023\n",
      "SELECT product_id, SUM(price * units_sold) AS total_sales\n",
      "FROM sales_data\n",
      "WHERE DATE_FORMAT(date, '%Y') = '2023'\n",
      "GROUP BY product_id\n",
      "ORDER BY total_sales DESC\n",
      "LIMIT 5;\n",
      "\n",
      "-- Monthly average sales for 2023\n",
      "SELECT\n",
      "    DATE_FORMAT(date, '%Y-%m') AS month,\n",
      "    ROUND(AVG(price * units_sold), 2) AS average_sales\n",
      "FROM sales_data\n",
      "WHERE DATE_FORMAT(date, '%Y') = '2023'\n",
      "GROUP BY month;\n",
      "```\n",
      "\n",
      "To explain:\n",
      "\n",
      "- For the top selling products, we aggregate by `product_id` and sum the total sales, which is\n",
      "`price * units_sold`. We filter to only 2023 data, group by product, order by total sales descending\n",
      "and limit to the top 5 results.\n",
      "\n",
      "- For monthly averages, we extract the month from the `date` field, then average the total sales per\n",
      "month. We round the average to 2 decimal places and filter to only 2023 data.\n",
      "\n",
      "Let me know if you need any clarification or have additional requirements!\n"
     ]
    }
   ],
   "source": [
    "# Claude - Body Syntex\n",
    "body = json.dumps(\n",
    "    {\n",
    "        \"prompt\": prompt_data,\n",
    "        \"max_tokens_to_sample\":4096,\n",
    "        \"temperature\":0.5,\n",
    "        \"top_k\":250,\n",
    "        \"top_p\":0.5,\n",
    "        \"stop_sequences\": [\"\\n\\nHuman:\"]\n",
    "    }\n",
    ") \n",
    "\n",
    "response = boto3_bedrock.invoke_model(\n",
    "    body=body,\n",
    "    modelId=modelId,\n",
    "    accept=accept,\n",
    "    contentType=contentType\n",
    ")\n",
    "response_body = json.loads(response.get('body').read())\n",
    "\n",
    "print_ww(response_body.get('completion'))"
   ]
  },
  {
   "cell_type": "markdown",
   "metadata": {},
   "source": [
    "한글 Query"
   ]
  },
  {
   "cell_type": "code",
   "execution_count": 12,
   "metadata": {},
   "outputs": [],
   "source": [
    "# create the prompt to generate SQL query\n",
    "prompt_data_kr = \"\"\"\n",
    "\n",
    "Human: AnyCompany has a database with a table named sales_data containing sales records. The table has following columns:\n",
    "- date (YYYY-MM-DD)\n",
    "- product_id\n",
    "- price\n",
    "- units_sold\n",
    "\n",
    "Can you generate SQL queries for the below: \n",
    "- 2023년 총 매출 기준 상위 5개 베스트셀러 제품 파악하기\n",
    "- 2023년 월평균 매출 계산하기\n",
    "\n",
    "Assistant:\n",
    "\"\"\""
   ]
  },
  {
   "cell_type": "code",
   "execution_count": 13,
   "metadata": {},
   "outputs": [
    {
     "name": "stdout",
     "output_type": "stream",
     "text": [
      " Here are the SQL queries for the requested tasks:\n",
      "\n",
      "```sql\n",
      "-- 2023년 총 매출 기준 상위 5개 베스트셀러 제품 파악하기\n",
      "SELECT product_id, SUM(price * units_sold) AS total_sales\n",
      "FROM sales_data\n",
      "WHERE DATE >= '2023-01-01' AND DATE < '2024-01-01'\n",
      "GROUP BY product_id\n",
      "ORDER BY total_sales DESC\n",
      "LIMIT 5;\n",
      "\n",
      "-- 2023년 월평균 매출 계산하기\n",
      "SELECT DATE_FORMAT(date, '%Y-%m') AS year_month,\n",
      "       ROUND(AVG(price * units_sold), 2) AS avg_monthly_sales\n",
      "FROM sales_data\n",
      "WHERE DATE >= '2023-01-01' AND DATE < '2024-01-01'\n",
      "GROUP BY year_month;\n",
      "```\n",
      "\n",
      "The first query aggregates total sales per product for the year 2023, orders them by descending\n",
      "sales, and limits to the top 5 products to find the top selling products.\n",
      "\n",
      "The second query calculates the average monthly sales for 2023 by extracting the year and month\n",
      "parts from the date, grouping by that, and averaging the total sales per month.\n",
      "\n",
      "Let me know if you need any clarification or have additional requirements to address!\n"
     ]
    }
   ],
   "source": [
    "\n",
    "# Claude - Body Syntex\n",
    "body = json.dumps(\n",
    "    {\n",
    "        \"prompt\": prompt_data_kr,\n",
    "        \"max_tokens_to_sample\":4096,\n",
    "        \"temperature\":0.5,\n",
    "        \"top_k\":250,\n",
    "        \"top_p\":0.5,\n",
    "        \"stop_sequences\": [\"\\n\\nHuman:\"]\n",
    "    }\n",
    ") \n",
    "\n",
    "response = boto3_bedrock.invoke_model(\n",
    "    body=body,\n",
    "    modelId=modelId,\n",
    "    accept=accept,\n",
    "    contentType=contentType\n",
    ")\n",
    "response_body = json.loads(response.get('body').read())\n",
    "\n",
    "print_ww(response_body.get('completion'))"
   ]
  },
  {
   "cell_type": "markdown",
   "metadata": {},
   "source": [
    "### 3.2. Advanced Example\n",
    "SQL을 통한 병원의 환자 관리 시스템 이해하기"
   ]
  },
  {
   "cell_type": "code",
   "execution_count": 14,
   "metadata": {
    "tags": []
   },
   "outputs": [],
   "source": [
    "# create the prompt\n",
    "prompt_sql_data = \"\"\"\n",
    "\n",
    "Human: You're provided with a database schema representing any hospital's patient management system.\n",
    "The system holds records about patients, their prescriptions, doctors, and the medications prescribed.\n",
    "\n",
    "Here's the schema:\n",
    "\n",
    "```sql\n",
    "CREATE TABLE Patients (\n",
    "    PatientID int,\n",
    "    FirstName varchar(50),\n",
    "    LastName varchar(50),\n",
    "    DateOfBirth datetime,\n",
    "    Gender varchar(10),\n",
    "    PRIMARY KEY (PatientID)\n",
    ");\n",
    "\n",
    "CREATE TABLE Doctors (\n",
    "    DoctorID int,\n",
    "    FirstName varchar(50),\n",
    "    LastName varchar(50),\n",
    "    Specialization varchar(50),\n",
    "    PRIMARY KEY (DoctorID)\n",
    ");\n",
    "\n",
    "CREATE TABLE Prescriptions (\n",
    "    PrescriptionID int,\n",
    "    PatientID int,\n",
    "    DoctorID int,\n",
    "    DateIssued datetime,\n",
    "    PRIMARY KEY (PrescriptionID)\n",
    ");\n",
    "\n",
    "CREATE TABLE Medications (\n",
    "    MedicationID int,\n",
    "    MedicationName varchar(50),\n",
    "    Dosage varchar(50),\n",
    "    PRIMARY KEY (MedicationID)\n",
    ");\n",
    "\n",
    "CREATE TABLE PrescriptionDetails (\n",
    "    PrescriptionDetailID int,\n",
    "    PrescriptionID int,\n",
    "    MedicationID int,\n",
    "    Quantity int,\n",
    "    PRIMARY KEY (PrescriptionDetailID)\n",
    ");\n",
    "```\n",
    "\n",
    "Write a SQL query that fetches all the patients who were prescribed more than 5 different medications on 2023-04-01.\n",
    "\n",
    "Assistant:\n",
    "\"\"\""
   ]
  },
  {
   "cell_type": "code",
   "execution_count": 15,
   "metadata": {
    "tags": []
   },
   "outputs": [
    {
     "name": "stdout",
     "output_type": "stream",
     "text": [
      " Here is the SQL query to fetch patients who were prescribed more than 5 different medications on\n",
      "2023-04-01:\n",
      "\n",
      "```sql\n",
      "SELECT p.FirstName, p.LastName, COUNT(DISTINCT md.MedicationID) AS num_medications\n",
      "FROM Patients p\n",
      "JOIN Prescriptions pre ON p.PatientID = pre.PatientID\n",
      "JOIN PrescriptionDetails pd ON pre.PrescriptionID = pd.PrescriptionID\n",
      "JOIN Medications md ON pd.MedicationID = md.MedicationID\n",
      "WHERE pre.DateIssued = '2023-04-01'\n",
      "GROUP BY p.FirstName, p.LastName\n",
      "HAVING COUNT(DISTINCT md.MedicationID) > 5;\n",
      "```\n",
      "\n",
      "The key steps are:\n",
      "\n",
      "1. Join the Patients, Prescriptions, PrescriptionDetails and Medications tables to link all the data\n",
      "2. Filter to only prescriptions issued on 2023-04-01\n",
      "3. Group by patient name and count distinct medications prescribed\n",
      "4. Filter to only patients with more than 5 distinct medication counts\n",
      "\n",
      "This will give you the patient name and number of distinct medications prescribed to them on the\n",
      "given date, for those with more than 5 medications.\n"
     ]
    }
   ],
   "source": [
    "# Claude - Body Syntex\n",
    "body = json.dumps(\n",
    "    {\n",
    "        \"prompt\": prompt_sql_data,\n",
    "        \"max_tokens_to_sample\":4096,\n",
    "        \"temperature\":0.5,\n",
    "        \"top_k\":250,\n",
    "        \"top_p\":0.5,\n",
    "        \"stop_sequences\": [\"\\n\\nHuman:\"]\n",
    "    }\n",
    ") \n",
    "\n",
    "response = boto3_bedrock.invoke_model(\n",
    "    body=body,\n",
    "    modelId=modelId,\n",
    "    accept=accept,\n",
    "    contentType=contentType\n",
    ")\n",
    "response_body = json.loads(response.get('body').read())\n",
    "\n",
    "print_ww(response_body.get('completion'))"
   ]
  },
  {
   "cell_type": "markdown",
   "metadata": {},
   "source": [
    "## **4. Conclusion**\n",
    "- 아마존 베드락 API 및 boto3 SDK를 사용하여 실험해 보았습니다. 이 API를 사용하여 판매 데이터를 분석하기 위한 SQL 쿼리를 생성하는 사용 사례를 살펴보았습니다.\n",
    "- **`다양한 프롬프트 엔지니어링 원칙을 적용하여 더 나은 결과를 얻으세요.`** <BR>\n",
    "    - [Prompting strategies by LangChain](https://python.langchain.com/docs/use_cases/sql/prompting)"
   ]
  },
  {
   "cell_type": "code",
   "execution_count": null,
   "metadata": {},
   "outputs": [],
   "source": []
  }
 ],
 "metadata": {
  "kernelspec": {
   "display_name": "conda_python3",
   "language": "python",
   "name": "conda_python3"
  },
  "language_info": {
   "codemirror_mode": {
    "name": "ipython",
    "version": 3
   },
   "file_extension": ".py",
   "mimetype": "text/x-python",
   "name": "python",
   "nbconvert_exporter": "python",
   "pygments_lexer": "ipython3",
   "version": "3.10.13"
  },
  "vscode": {
   "interpreter": {
    "hash": "3b41de70bedc0e302a3aeb58a0c77b854f2e56c8930e61a4aaa3340c96b01f1d"
   }
  }
 },
 "nbformat": 4,
 "nbformat_minor": 4
}
