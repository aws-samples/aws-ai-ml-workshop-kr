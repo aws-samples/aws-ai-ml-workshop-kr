{
 "cells": [
  {
   "cell_type": "markdown",
   "id": "55cc2078-6f76-4f23-ace8-ad8a249d2a2d",
   "metadata": {},
   "source": [
    "# Text to Visualization with LLM"
   ]
  },
  {
   "cell_type": "markdown",
   "id": "2d825d82-6ec9-470b-a792-a584f4b8717b",
   "metadata": {},
   "source": [
    "## Setting\n",
    " - Auto Reload\n",
    " - path for utils"
   ]
  },
  {
   "cell_type": "code",
   "execution_count": 1,
   "id": "023ba839-1cc3-45ff-93eb-4b468d6da96c",
   "metadata": {
    "tags": []
   },
   "outputs": [],
   "source": [
    "%load_ext autoreload\n",
    "%autoreload 2"
   ]
  },
  {
   "cell_type": "code",
   "execution_count": 2,
   "id": "7ff28bb3-947f-4ebb-9c3a-f8edc8878364",
   "metadata": {
    "tags": []
   },
   "outputs": [],
   "source": [
    "import sys, os\n",
    "module_path = \"../..\"\n",
    "sys.path.append(os.path.abspath(module_path))"
   ]
  },
  {
   "cell_type": "markdown",
   "id": "e4c465f2-1206-4155-80b8-f22c50c6070a",
   "metadata": {},
   "source": [
    "## 1. Create Bedrock client"
   ]
  },
  {
   "cell_type": "code",
   "execution_count": 3,
   "id": "455bb88a-e05e-441c-af02-b8e4aab11617",
   "metadata": {
    "tags": []
   },
   "outputs": [],
   "source": [
    "import json\n",
    "import boto3\n",
    "from pprint import pprint\n",
    "from termcolor import colored\n",
    "from utils import bedrock, print_ww\n",
    "from utils.bedrock import bedrock_info"
   ]
  },
  {
   "cell_type": "markdown",
   "id": "092d9ed2-49ae-48e5-a349-084b3904421c",
   "metadata": {},
   "source": [
    "### ---- ⚠️ Un-comment and edit the below lines as needed for your AWS setup ⚠️ ----\n",
    "- os.environ[\"AWS_DEFAULT_REGION\"] = \"<REGION_NAME>\"  # E.g. \"us-east-1\"\n",
    "- os.environ[\"AWS_PROFILE\"] = \"<YOUR_PROFILE>\"\n",
    "- os.environ[\"BEDROCK_ASSUME_ROLE\"] = \"<YOUR_ROLE_ARN>\"  # E.g. \"arn:aws:...\"\n",
    "- os.environ[\"BEDROCK_ENDPOINT_URL\"] = \"<YOUR_ENDPOINT_URL>\"  # E.g. \"https://...\""
   ]
  },
  {
   "cell_type": "code",
   "execution_count": 4,
   "id": "b9dcebf5-9e62-4848-9d04-c53108f33a6d",
   "metadata": {
    "tags": []
   },
   "outputs": [
    {
     "name": "stdout",
     "output_type": "stream",
     "text": [
      "Create new client\n",
      "  Using region: None\n",
      "  Using profile: None\n",
      "boto3 Bedrock client successfully created!\n",
      "bedrock-runtime(https://bedrock-runtime.us-east-1.amazonaws.com)\n",
      "\u001b[32m\n",
      "== FM lists ==\u001b[0m\n",
      "{'Claude-Instant-V1': 'anthropic.claude-instant-v1',\n",
      " 'Claude-V1': 'anthropic.claude-v1',\n",
      " 'Claude-V2': 'anthropic.claude-v2',\n",
      " 'Claude-V2-1': 'anthropic.claude-v2:1',\n",
      " 'Claude-V3-Haiku': 'anthropic.claude-3-haiku-20240307-v1:0',\n",
      " 'Claude-V3-Sonnet': 'anthropic.claude-3-sonnet-20240229-v1:0',\n",
      " 'Cohere-Embeddings-En': 'cohere.embed-english-v3',\n",
      " 'Cohere-Embeddings-Multilingual': 'cohere.embed-multilingual-v3',\n",
      " 'Command': 'cohere.command-text-v14',\n",
      " 'Command-Light': 'cohere.command-light-text-v14',\n",
      " 'Jurassic-2-Mid': 'ai21.j2-mid-v1',\n",
      " 'Jurassic-2-Ultra': 'ai21.j2-ultra-v1',\n",
      " 'Llama2-13b-Chat': 'meta.llama2-13b-chat-v1',\n",
      " 'Titan-Embeddings-G1': 'amazon.titan-embed-text-v1',\n",
      " 'Titan-Text-Embeddings-V2': 'amazon.titan-embed-text-v2:0',\n",
      " 'Titan-Text-G1': 'amazon.titan-text-express-v1',\n",
      " 'Titan-Text-G1-Express': 'amazon.titan-text-express-v1',\n",
      " 'Titan-Text-G1-Light': 'amazon.titan-text-lite-v1',\n",
      " 'Titan-Text-G1-Premier': 'amazon.titan-text-premier-v1:0'}\n"
     ]
    }
   ],
   "source": [
    "boto3_bedrock = bedrock.get_bedrock_client(\n",
    "    assumed_role=os.environ.get(\"BEDROCK_ASSUME_ROLE\", None),\n",
    "    endpoint_url=os.environ.get(\"BEDROCK_ENDPOINT_URL\", None),\n",
    "    region=os.environ.get(\"AWS_DEFAULT_REGION\", None),\n",
    ")\n",
    "\n",
    "print (colored(\"\\n== FM lists ==\", \"green\"))\n",
    "pprint (bedrock_info.get_list_fm_models(verbose=False))"
   ]
  },
  {
   "cell_type": "markdown",
   "id": "8cfc12ad-3ba2-459f-a404-195a5e284de0",
   "metadata": {},
   "source": [
    "## 2. Claude-v3-sonnet 모델 로딩"
   ]
  },
  {
   "cell_type": "code",
   "execution_count": 5,
   "id": "964e18dd-aadc-4712-b68a-c801501eb759",
   "metadata": {
    "tags": []
   },
   "outputs": [],
   "source": [
    "from langchain_aws import ChatBedrock\n",
    "from langchain.callbacks.streaming_stdout import StreamingStdOutCallbackHandler"
   ]
  },
  {
   "cell_type": "code",
   "execution_count": 6,
   "id": "5d29d03c-8012-4ad6-a780-d810d5d7c9c3",
   "metadata": {
    "tags": []
   },
   "outputs": [
    {
     "data": {
      "text/plain": [
       "ChatBedrock(callbacks=[<langchain_core.callbacks.streaming_stdout.StreamingStdOutCallbackHandler object at 0x7f7b240c4310>], client=<botocore.client.BedrockRuntime object at 0x7f7b2fb091e0>, model_id='anthropic.claude-3-sonnet-20240229-v1:0', model_kwargs={'max_tokens': 1024, 'stop_sequences': ['\\n\\nHuman']}, streaming=True)"
      ]
     },
     "execution_count": 6,
     "metadata": {},
     "output_type": "execute_result"
    }
   ],
   "source": [
    "llm_text = ChatBedrock(\n",
    "    model_id=bedrock_info.get_model_id(model_name=\"Claude-V3-Sonnet\"),\n",
    "    client=boto3_bedrock,\n",
    "    streaming=True,\n",
    "    callbacks=[StreamingStdOutCallbackHandler()],\n",
    "    model_kwargs={\n",
    "        \"max_tokens\": 1024,\n",
    "        \"stop_sequences\": [\"\\n\\nHuman\"],\n",
    "        # \"temperature\": 0,\n",
    "        # \"top_k\": 350,\n",
    "        # \"top_p\": 0.999\n",
    "    }\n",
    ")\n",
    "llm_text"
   ]
  },
  {
   "cell_type": "markdown",
   "id": "7459fcf9-e026-4cd6-a498-e9e11a9a408a",
   "metadata": {},
   "source": [
    "## 3. Data loading"
   ]
  },
  {
   "cell_type": "code",
   "execution_count": 7,
   "id": "04a46a9d-f4b6-43ef-8de5-2f84e2bdf56c",
   "metadata": {
    "tags": []
   },
   "outputs": [],
   "source": [
    "import pandas as pd"
   ]
  },
  {
   "cell_type": "code",
   "execution_count": 8,
   "id": "743181c2-acd8-4871-88c8-8551a9bd0753",
   "metadata": {
    "tags": []
   },
   "outputs": [],
   "source": [
    "df = pd.read_csv(\"./data/train_sample.csv\", index_col=0)"
   ]
  },
  {
   "cell_type": "code",
   "execution_count": 9,
   "id": "2116463f-20b0-4659-b700-b92b63be607f",
   "metadata": {
    "tags": []
   },
   "outputs": [
    {
     "data": {
      "text/html": [
       "<div>\n",
       "<style scoped>\n",
       "    .dataframe tbody tr th:only-of-type {\n",
       "        vertical-align: middle;\n",
       "    }\n",
       "\n",
       "    .dataframe tbody tr th {\n",
       "        vertical-align: top;\n",
       "    }\n",
       "\n",
       "    .dataframe thead th {\n",
       "        text-align: right;\n",
       "    }\n",
       "</style>\n",
       "<table border=\"1\" class=\"dataframe\">\n",
       "  <thead>\n",
       "    <tr style=\"text-align: right;\">\n",
       "      <th></th>\n",
       "      <th>cont_line_seq</th>\n",
       "      <th>thinq_entr</th>\n",
       "      <th>breakdown_b0617</th>\n",
       "      <th>survey_ans_count</th>\n",
       "      <th>survey_service_avg_score</th>\n",
       "      <th>call_a070621</th>\n",
       "      <th>survey_nps_avg_score</th>\n",
       "      <th>survey_service_min_score</th>\n",
       "      <th>call_a050101</th>\n",
       "      <th>water_d0065</th>\n",
       "      <th>...</th>\n",
       "      <th>age_nm</th>\n",
       "      <th>rental_usage_days</th>\n",
       "      <th>call_a040101</th>\n",
       "      <th>visit_time_diff_max</th>\n",
       "      <th>customer_price</th>\n",
       "      <th>careship_total_contract</th>\n",
       "      <th>call_a070614</th>\n",
       "      <th>obs_water_plp</th>\n",
       "      <th>as_water_survey_avg</th>\n",
       "      <th>time</th>\n",
       "    </tr>\n",
       "  </thead>\n",
       "  <tbody>\n",
       "    <tr>\n",
       "      <th>count</th>\n",
       "      <td>1.000000e+02</td>\n",
       "      <td>100.00000</td>\n",
       "      <td>100.000000</td>\n",
       "      <td>100.000000</td>\n",
       "      <td>43.000000</td>\n",
       "      <td>100.0</td>\n",
       "      <td>19.000000</td>\n",
       "      <td>43.000000</td>\n",
       "      <td>100.00000</td>\n",
       "      <td>100.0</td>\n",
       "      <td>...</td>\n",
       "      <td>99.000000</td>\n",
       "      <td>100.00000</td>\n",
       "      <td>100.000000</td>\n",
       "      <td>100.000000</td>\n",
       "      <td>8.900000e+01</td>\n",
       "      <td>100.000000</td>\n",
       "      <td>100.00</td>\n",
       "      <td>100.000000</td>\n",
       "      <td>17.000000</td>\n",
       "      <td>1.000000e+02</td>\n",
       "    </tr>\n",
       "    <tr>\n",
       "      <th>mean</th>\n",
       "      <td>1.426837e+07</td>\n",
       "      <td>0.21000</td>\n",
       "      <td>0.020000</td>\n",
       "      <td>1.120000</td>\n",
       "      <td>4.719380</td>\n",
       "      <td>0.0</td>\n",
       "      <td>4.912281</td>\n",
       "      <td>4.441860</td>\n",
       "      <td>0.25000</td>\n",
       "      <td>0.0</td>\n",
       "      <td>...</td>\n",
       "      <td>49.161616</td>\n",
       "      <td>1135.95000</td>\n",
       "      <td>0.370000</td>\n",
       "      <td>43.940000</td>\n",
       "      <td>1.598517e+06</td>\n",
       "      <td>0.110000</td>\n",
       "      <td>0.01</td>\n",
       "      <td>0.210000</td>\n",
       "      <td>9.745938</td>\n",
       "      <td>1.686882e+09</td>\n",
       "    </tr>\n",
       "    <tr>\n",
       "      <th>std</th>\n",
       "      <td>5.578827e+05</td>\n",
       "      <td>0.40936</td>\n",
       "      <td>0.140705</td>\n",
       "      <td>1.736594</td>\n",
       "      <td>0.381586</td>\n",
       "      <td>0.0</td>\n",
       "      <td>2.788517</td>\n",
       "      <td>0.733625</td>\n",
       "      <td>0.51981</td>\n",
       "      <td>0.0</td>\n",
       "      <td>...</td>\n",
       "      <td>10.701618</td>\n",
       "      <td>74.99473</td>\n",
       "      <td>1.307747</td>\n",
       "      <td>18.915453</td>\n",
       "      <td>2.640471e+05</td>\n",
       "      <td>0.447101</td>\n",
       "      <td>0.10</td>\n",
       "      <td>1.558911</td>\n",
       "      <td>0.325586</td>\n",
       "      <td>0.000000e+00</td>\n",
       "    </tr>\n",
       "    <tr>\n",
       "      <th>min</th>\n",
       "      <td>1.229081e+07</td>\n",
       "      <td>0.00000</td>\n",
       "      <td>0.000000</td>\n",
       "      <td>0.000000</td>\n",
       "      <td>3.600000</td>\n",
       "      <td>0.0</td>\n",
       "      <td>3.000000</td>\n",
       "      <td>1.000000</td>\n",
       "      <td>0.00000</td>\n",
       "      <td>0.0</td>\n",
       "      <td>...</td>\n",
       "      <td>32.000000</td>\n",
       "      <td>1006.00000</td>\n",
       "      <td>0.000000</td>\n",
       "      <td>21.000000</td>\n",
       "      <td>1.075022e+06</td>\n",
       "      <td>0.000000</td>\n",
       "      <td>0.00</td>\n",
       "      <td>0.000000</td>\n",
       "      <td>9.000000</td>\n",
       "      <td>1.686882e+09</td>\n",
       "    </tr>\n",
       "    <tr>\n",
       "      <th>25%</th>\n",
       "      <td>1.415657e+07</td>\n",
       "      <td>0.00000</td>\n",
       "      <td>0.000000</td>\n",
       "      <td>0.000000</td>\n",
       "      <td>4.500000</td>\n",
       "      <td>0.0</td>\n",
       "      <td>3.000000</td>\n",
       "      <td>4.000000</td>\n",
       "      <td>0.00000</td>\n",
       "      <td>0.0</td>\n",
       "      <td>...</td>\n",
       "      <td>42.000000</td>\n",
       "      <td>1077.00000</td>\n",
       "      <td>0.000000</td>\n",
       "      <td>33.750000</td>\n",
       "      <td>1.409684e+06</td>\n",
       "      <td>0.000000</td>\n",
       "      <td>0.00</td>\n",
       "      <td>0.000000</td>\n",
       "      <td>9.500000</td>\n",
       "      <td>1.686882e+09</td>\n",
       "    </tr>\n",
       "    <tr>\n",
       "      <th>50%</th>\n",
       "      <td>1.431828e+07</td>\n",
       "      <td>0.00000</td>\n",
       "      <td>0.000000</td>\n",
       "      <td>0.000000</td>\n",
       "      <td>5.000000</td>\n",
       "      <td>0.0</td>\n",
       "      <td>3.000000</td>\n",
       "      <td>5.000000</td>\n",
       "      <td>0.00000</td>\n",
       "      <td>0.0</td>\n",
       "      <td>...</td>\n",
       "      <td>46.000000</td>\n",
       "      <td>1152.00000</td>\n",
       "      <td>0.000000</td>\n",
       "      <td>40.000000</td>\n",
       "      <td>1.578893e+06</td>\n",
       "      <td>0.000000</td>\n",
       "      <td>0.00</td>\n",
       "      <td>0.000000</td>\n",
       "      <td>10.000000</td>\n",
       "      <td>1.686882e+09</td>\n",
       "    </tr>\n",
       "    <tr>\n",
       "      <th>75%</th>\n",
       "      <td>1.459880e+07</td>\n",
       "      <td>0.00000</td>\n",
       "      <td>0.000000</td>\n",
       "      <td>2.000000</td>\n",
       "      <td>5.000000</td>\n",
       "      <td>0.0</td>\n",
       "      <td>6.166667</td>\n",
       "      <td>5.000000</td>\n",
       "      <td>0.00000</td>\n",
       "      <td>0.0</td>\n",
       "      <td>...</td>\n",
       "      <td>55.000000</td>\n",
       "      <td>1193.00000</td>\n",
       "      <td>0.000000</td>\n",
       "      <td>47.250000</td>\n",
       "      <td>1.713002e+06</td>\n",
       "      <td>0.000000</td>\n",
       "      <td>0.00</td>\n",
       "      <td>0.000000</td>\n",
       "      <td>10.000000</td>\n",
       "      <td>1.686882e+09</td>\n",
       "    </tr>\n",
       "    <tr>\n",
       "      <th>max</th>\n",
       "      <td>1.494462e+07</td>\n",
       "      <td>1.00000</td>\n",
       "      <td>1.000000</td>\n",
       "      <td>7.000000</td>\n",
       "      <td>5.000000</td>\n",
       "      <td>0.0</td>\n",
       "      <td>10.000000</td>\n",
       "      <td>5.000000</td>\n",
       "      <td>2.00000</td>\n",
       "      <td>0.0</td>\n",
       "      <td>...</td>\n",
       "      <td>85.000000</td>\n",
       "      <td>1248.00000</td>\n",
       "      <td>11.000000</td>\n",
       "      <td>155.000000</td>\n",
       "      <td>2.214996e+06</td>\n",
       "      <td>3.000000</td>\n",
       "      <td>1.00</td>\n",
       "      <td>14.000000</td>\n",
       "      <td>10.000000</td>\n",
       "      <td>1.686882e+09</td>\n",
       "    </tr>\n",
       "  </tbody>\n",
       "</table>\n",
       "<p>8 rows × 54 columns</p>\n",
       "</div>"
      ],
      "text/plain": [
       "       cont_line_seq  thinq_entr  breakdown_b0617  survey_ans_count  \\\n",
       "count   1.000000e+02   100.00000       100.000000        100.000000   \n",
       "mean    1.426837e+07     0.21000         0.020000          1.120000   \n",
       "std     5.578827e+05     0.40936         0.140705          1.736594   \n",
       "min     1.229081e+07     0.00000         0.000000          0.000000   \n",
       "25%     1.415657e+07     0.00000         0.000000          0.000000   \n",
       "50%     1.431828e+07     0.00000         0.000000          0.000000   \n",
       "75%     1.459880e+07     0.00000         0.000000          2.000000   \n",
       "max     1.494462e+07     1.00000         1.000000          7.000000   \n",
       "\n",
       "       survey_service_avg_score  call_a070621  survey_nps_avg_score  \\\n",
       "count                 43.000000         100.0             19.000000   \n",
       "mean                   4.719380           0.0              4.912281   \n",
       "std                    0.381586           0.0              2.788517   \n",
       "min                    3.600000           0.0              3.000000   \n",
       "25%                    4.500000           0.0              3.000000   \n",
       "50%                    5.000000           0.0              3.000000   \n",
       "75%                    5.000000           0.0              6.166667   \n",
       "max                    5.000000           0.0             10.000000   \n",
       "\n",
       "       survey_service_min_score  call_a050101  water_d0065  ...     age_nm  \\\n",
       "count                 43.000000     100.00000        100.0  ...  99.000000   \n",
       "mean                   4.441860       0.25000          0.0  ...  49.161616   \n",
       "std                    0.733625       0.51981          0.0  ...  10.701618   \n",
       "min                    1.000000       0.00000          0.0  ...  32.000000   \n",
       "25%                    4.000000       0.00000          0.0  ...  42.000000   \n",
       "50%                    5.000000       0.00000          0.0  ...  46.000000   \n",
       "75%                    5.000000       0.00000          0.0  ...  55.000000   \n",
       "max                    5.000000       2.00000          0.0  ...  85.000000   \n",
       "\n",
       "       rental_usage_days  call_a040101  visit_time_diff_max  customer_price  \\\n",
       "count          100.00000    100.000000           100.000000    8.900000e+01   \n",
       "mean          1135.95000      0.370000            43.940000    1.598517e+06   \n",
       "std             74.99473      1.307747            18.915453    2.640471e+05   \n",
       "min           1006.00000      0.000000            21.000000    1.075022e+06   \n",
       "25%           1077.00000      0.000000            33.750000    1.409684e+06   \n",
       "50%           1152.00000      0.000000            40.000000    1.578893e+06   \n",
       "75%           1193.00000      0.000000            47.250000    1.713002e+06   \n",
       "max           1248.00000     11.000000           155.000000    2.214996e+06   \n",
       "\n",
       "       careship_total_contract  call_a070614  obs_water_plp  \\\n",
       "count               100.000000        100.00     100.000000   \n",
       "mean                  0.110000          0.01       0.210000   \n",
       "std                   0.447101          0.10       1.558911   \n",
       "min                   0.000000          0.00       0.000000   \n",
       "25%                   0.000000          0.00       0.000000   \n",
       "50%                   0.000000          0.00       0.000000   \n",
       "75%                   0.000000          0.00       0.000000   \n",
       "max                   3.000000          1.00      14.000000   \n",
       "\n",
       "       as_water_survey_avg          time  \n",
       "count            17.000000  1.000000e+02  \n",
       "mean              9.745938  1.686882e+09  \n",
       "std               0.325586  0.000000e+00  \n",
       "min               9.000000  1.686882e+09  \n",
       "25%               9.500000  1.686882e+09  \n",
       "50%              10.000000  1.686882e+09  \n",
       "75%              10.000000  1.686882e+09  \n",
       "max              10.000000  1.686882e+09  \n",
       "\n",
       "[8 rows x 54 columns]"
      ]
     },
     "execution_count": 9,
     "metadata": {},
     "output_type": "execute_result"
    }
   ],
   "source": [
    "df.describe()"
   ]
  },
  {
   "cell_type": "code",
   "execution_count": 11,
   "id": "3f8f2365-204c-41ce-9006-b3a0dd98c259",
   "metadata": {
    "tags": []
   },
   "outputs": [
    {
     "data": {
      "text/html": [
       "<div>\n",
       "<style scoped>\n",
       "    .dataframe tbody tr th:only-of-type {\n",
       "        vertical-align: middle;\n",
       "    }\n",
       "\n",
       "    .dataframe tbody tr th {\n",
       "        vertical-align: top;\n",
       "    }\n",
       "\n",
       "    .dataframe thead th {\n",
       "        text-align: right;\n",
       "    }\n",
       "</style>\n",
       "<table border=\"1\" class=\"dataframe\">\n",
       "  <thead>\n",
       "    <tr style=\"text-align: right;\">\n",
       "      <th></th>\n",
       "      <th>cont_line_seq</th>\n",
       "      <th>churn_yn</th>\n",
       "      <th>thinq_entr</th>\n",
       "      <th>breakdown_b0617</th>\n",
       "      <th>funtion</th>\n",
       "      <th>survey_ans_count</th>\n",
       "      <th>survey_service_avg_score</th>\n",
       "      <th>rental_sales_channel</th>\n",
       "      <th>call_a070621</th>\n",
       "      <th>survey_nps_avg_score</th>\n",
       "      <th>...</th>\n",
       "      <th>visit_time_diff_max</th>\n",
       "      <th>customer_price</th>\n",
       "      <th>careship_total_contract</th>\n",
       "      <th>call_a070614</th>\n",
       "      <th>obs_water_plp</th>\n",
       "      <th>contract_user_yn</th>\n",
       "      <th>rental_mktg_agree_yn</th>\n",
       "      <th>gender_nm</th>\n",
       "      <th>as_water_survey_avg</th>\n",
       "      <th>time</th>\n",
       "    </tr>\n",
       "  </thead>\n",
       "  <tbody>\n",
       "    <tr>\n",
       "      <th>0</th>\n",
       "      <td>14025423</td>\n",
       "      <td>N</td>\n",
       "      <td>1</td>\n",
       "      <td>0</td>\n",
       "      <td>온수/냉수/정수</td>\n",
       "      <td>3</td>\n",
       "      <td>4.333333</td>\n",
       "      <td>하이프라자(H)</td>\n",
       "      <td>0</td>\n",
       "      <td>NaN</td>\n",
       "      <td>...</td>\n",
       "      <td>42.0</td>\n",
       "      <td>1771684.0</td>\n",
       "      <td>0</td>\n",
       "      <td>0</td>\n",
       "      <td>0</td>\n",
       "      <td>Y</td>\n",
       "      <td>Y</td>\n",
       "      <td>여자</td>\n",
       "      <td>NaN</td>\n",
       "      <td>1686882135</td>\n",
       "    </tr>\n",
       "    <tr>\n",
       "      <th>1</th>\n",
       "      <td>12767520</td>\n",
       "      <td>Y</td>\n",
       "      <td>0</td>\n",
       "      <td>0</td>\n",
       "      <td>온수/냉수/정수</td>\n",
       "      <td>0</td>\n",
       "      <td>NaN</td>\n",
       "      <td>온라인케어솔루션전문점</td>\n",
       "      <td>0</td>\n",
       "      <td>NaN</td>\n",
       "      <td>...</td>\n",
       "      <td>31.0</td>\n",
       "      <td>1520682.0</td>\n",
       "      <td>0</td>\n",
       "      <td>0</td>\n",
       "      <td>0</td>\n",
       "      <td>Y</td>\n",
       "      <td>N</td>\n",
       "      <td>여자</td>\n",
       "      <td>NaN</td>\n",
       "      <td>1686882135</td>\n",
       "    </tr>\n",
       "    <tr>\n",
       "      <th>2</th>\n",
       "      <td>14044817</td>\n",
       "      <td>N</td>\n",
       "      <td>0</td>\n",
       "      <td>0</td>\n",
       "      <td>냉수/정수</td>\n",
       "      <td>6</td>\n",
       "      <td>4.666667</td>\n",
       "      <td>온라인케어솔루션전문점</td>\n",
       "      <td>0</td>\n",
       "      <td>3.0</td>\n",
       "      <td>...</td>\n",
       "      <td>35.0</td>\n",
       "      <td>NaN</td>\n",
       "      <td>0</td>\n",
       "      <td>0</td>\n",
       "      <td>0</td>\n",
       "      <td>Y</td>\n",
       "      <td>N</td>\n",
       "      <td>남자</td>\n",
       "      <td>NaN</td>\n",
       "      <td>1686882135</td>\n",
       "    </tr>\n",
       "    <tr>\n",
       "      <th>3</th>\n",
       "      <td>14372633</td>\n",
       "      <td>N</td>\n",
       "      <td>0</td>\n",
       "      <td>0</td>\n",
       "      <td>온수/냉수/정수</td>\n",
       "      <td>3</td>\n",
       "      <td>4.666667</td>\n",
       "      <td>온라인케어솔루션전문점</td>\n",
       "      <td>0</td>\n",
       "      <td>3.0</td>\n",
       "      <td>...</td>\n",
       "      <td>41.0</td>\n",
       "      <td>NaN</td>\n",
       "      <td>0</td>\n",
       "      <td>0</td>\n",
       "      <td>0</td>\n",
       "      <td>Y</td>\n",
       "      <td>N</td>\n",
       "      <td>남자</td>\n",
       "      <td>NaN</td>\n",
       "      <td>1686882135</td>\n",
       "    </tr>\n",
       "    <tr>\n",
       "      <th>4</th>\n",
       "      <td>14143155</td>\n",
       "      <td>N</td>\n",
       "      <td>0</td>\n",
       "      <td>0</td>\n",
       "      <td>온수/냉수/정수</td>\n",
       "      <td>2</td>\n",
       "      <td>5.000000</td>\n",
       "      <td>온라인케어솔루션전문점</td>\n",
       "      <td>0</td>\n",
       "      <td>NaN</td>\n",
       "      <td>...</td>\n",
       "      <td>36.0</td>\n",
       "      <td>1692663.0</td>\n",
       "      <td>0</td>\n",
       "      <td>0</td>\n",
       "      <td>0</td>\n",
       "      <td>Y</td>\n",
       "      <td>N</td>\n",
       "      <td>여자</td>\n",
       "      <td>NaN</td>\n",
       "      <td>1686882135</td>\n",
       "    </tr>\n",
       "  </tbody>\n",
       "</table>\n",
       "<p>5 rows × 70 columns</p>\n",
       "</div>"
      ],
      "text/plain": [
       "   cont_line_seq churn_yn  thinq_entr  breakdown_b0617   funtion  \\\n",
       "0       14025423        N           1                0  온수/냉수/정수   \n",
       "1       12767520        Y           0                0  온수/냉수/정수   \n",
       "2       14044817        N           0                0     냉수/정수   \n",
       "3       14372633        N           0                0  온수/냉수/정수   \n",
       "4       14143155        N           0                0  온수/냉수/정수   \n",
       "\n",
       "   survey_ans_count  survey_service_avg_score rental_sales_channel  \\\n",
       "0                 3                  4.333333             하이프라자(H)   \n",
       "1                 0                       NaN          온라인케어솔루션전문점   \n",
       "2                 6                  4.666667          온라인케어솔루션전문점   \n",
       "3                 3                  4.666667          온라인케어솔루션전문점   \n",
       "4                 2                  5.000000          온라인케어솔루션전문점   \n",
       "\n",
       "   call_a070621  survey_nps_avg_score  ... visit_time_diff_max  \\\n",
       "0             0                   NaN  ...                42.0   \n",
       "1             0                   NaN  ...                31.0   \n",
       "2             0                   3.0  ...                35.0   \n",
       "3             0                   3.0  ...                41.0   \n",
       "4             0                   NaN  ...                36.0   \n",
       "\n",
       "   customer_price  careship_total_contract  call_a070614  obs_water_plp  \\\n",
       "0       1771684.0                        0             0              0   \n",
       "1       1520682.0                        0             0              0   \n",
       "2             NaN                        0             0              0   \n",
       "3             NaN                        0             0              0   \n",
       "4       1692663.0                        0             0              0   \n",
       "\n",
       "   contract_user_yn  rental_mktg_agree_yn  gender_nm  as_water_survey_avg  \\\n",
       "0                 Y                     Y         여자                  NaN   \n",
       "1                 Y                     N         여자                  NaN   \n",
       "2                 Y                     N         남자                  NaN   \n",
       "3                 Y                     N         남자                  NaN   \n",
       "4                 Y                     N         여자                  NaN   \n",
       "\n",
       "         time  \n",
       "0  1686882135  \n",
       "1  1686882135  \n",
       "2  1686882135  \n",
       "3  1686882135  \n",
       "4  1686882135  \n",
       "\n",
       "[5 rows x 70 columns]"
      ]
     },
     "execution_count": 11,
     "metadata": {},
     "output_type": "execute_result"
    }
   ],
   "source": [
    "df.head()"
   ]
  },
  {
   "cell_type": "markdown",
   "id": "140da7a3-56b5-4ce3-92e8-41f91b5a78ff",
   "metadata": {},
   "source": [
    "## 4. Text to Visualization"
   ]
  },
  {
   "cell_type": "code",
   "execution_count": 12,
   "id": "292c7614-2a08-4563-a6ad-230410a41641",
   "metadata": {
    "tags": []
   },
   "outputs": [],
   "source": [
    "os.environ[\"LANGCHAIN_TRACING_V2\"]=\"true\"\n",
    "os.environ[\"LANGCHAIN_ENDPOINT\"]=\"https://api.smith.langchain.com\"\n",
    "os.environ[\"LANGCHAIN_API_KEY\"]=\"your key\"\n",
    "os.environ[\"LANGCHAIN_PROJECT\"]=\"text2chart\""
   ]
  },
  {
   "cell_type": "code",
   "execution_count": 55,
   "id": "de5d8d8a-ded0-43de-9fdb-43e1a7bb3364",
   "metadata": {
    "tags": []
   },
   "outputs": [],
   "source": [
    "from utils.text_to_report import prompt_repo, text2chart_chain\n",
    "from langchain_core.prompts import ChatPromptTemplate, HumanMessagePromptTemplate, SystemMessagePromptTemplate, MessagesPlaceholder"
   ]
  },
  {
   "cell_type": "code",
   "execution_count": 56,
   "id": "60b61d70-bf6d-48c7-bea6-4464ebdba568",
   "metadata": {
    "tags": []
   },
   "outputs": [],
   "source": [
    "system_prompt = prompt_repo.get_system_prompt(role=\"text2chart\")\n",
    "system_message_template = SystemMessagePromptTemplate.from_template(system_prompt)\n",
    "\n",
    "t2c = text2chart_chain(\n",
    "    llm_text=llm_text,\n",
    "    system_prompt=system_prompt,\n",
    "    num_rows=5,\n",
    "    parsing_pattern=r'<update_code>(.*?)</update_code>',\n",
    "    verbose=False\n",
    ")"
   ]
  },
  {
   "cell_type": "markdown",
   "id": "fbfb0b7b-6d0e-4c07-aa0a-8e6c131a28d8",
   "metadata": {},
   "source": [
    "\"thinq_entr 컬럼의 각각 값에 대한 survey_service_avg_score 컬럼의 분포 그려줘\" <BR>\n",
    "\"churn_yn 여부에 따른 rental_sales_channel 구성 비율을 파이차트로 그려줘\""
   ]
  },
  {
   "cell_type": "code",
   "execution_count": 64,
   "id": "9403362a-82af-472f-bf52-3873fdf0290c",
   "metadata": {
    "tags": []
   },
   "outputs": [
    {
     "name": "stdout",
     "output_type": "stream",
     "text": [
      "<update_code>\n",
      "import pandas as pd\n",
      "import matplotlib.pyplot as plt\n",
      "\n",
      "churn_yn_groups = df.groupby('churn_yn')['rental_sales_channel'].value_counts(normalize=True).unstack('churn_yn')\n",
      "\n",
      "fig, axs = plt.subplots(1, 2, figsize=(12, 5))\n",
      "\n",
      "for i, (group_name, group_data) in enumerate(churn_yn_groups.items()):\n",
      "    group_data.plot.pie(ax=axs[i], autopct='%.2f%%')\n",
      "    axs[i].set_title(f'churn_yn = {group_name}')\n",
      "\n",
      "fig.tight_layout()\n",
      "fig.savefig('results.png', bbox_inches='tight')\n",
      "\n",
      "result = {'type': 'image', 'value': 'results.png'}\n",
      "</update_code>\n",
      "\n",
      "설명:\n",
      "1. `churn_yn` 그룹별로 `rental_sales_channel`의 값 비율을 계산합니다.\n",
      "2. 두 개의 서브플롯을 생성하여 각 `churn_yn` 그룹에 대한 파이차트를 그립니다.\n",
      "3. 각 파이차트의 제목에는 `churn_yn` 값이 표시됩니다.\n",
      "4. 결과 이미지를 `results.png`로 저장합니다.\n",
      "5. 결과 딕셔너리를 반환합니다.\n",
      "\n",
      "이 코드는 `churn_yn` 값(Y/N)에 따라 두 개의 파이차트를 생성하여 각 그룹 내에서 `rental_sales_channel`의 비율을 시각화합니다."
     ]
    },
    {
     "data": {
      "image/png": "[encoded data removed]",
      "text/plain": [
       "<Figure size 1200x500 with 2 Axes>"
      ]
     },
     "metadata": {},
     "output_type": "display_data"
    }
   ],
   "source": [
    "response = t2c.query(\n",
    "    df=df,\n",
    "    query=\"churn_yn 여부에 따른 rental_sales_channel 구성 비율을 각각 파이차트로 그려줘\",\n",
    "    verbose=False,\n",
    "    show_chart=True\n",
    ")"
   ]
  },
  {
   "cell_type": "code",
   "execution_count": 63,
   "id": "82408726-090d-4f1f-831e-cb041685deb0",
   "metadata": {
    "tags": []
   },
   "outputs": [
    {
     "data": {
      "text/plain": [
       "''"
      ]
     },
     "execution_count": 63,
     "metadata": {},
     "output_type": "execute_result"
    },
    {
     "data": {
      "image/png": "[encoded data removed]",
      "text/plain": [
       "<Figure size 1200x500 with 2 Axes>"
      ]
     },
     "metadata": {},
     "output_type": "display_data"
    }
   ],
   "source": [
    "t2c.code_execution(\n",
    "    df=df,\n",
    "    response=response\n",
    ")"
   ]
  },
  {
   "cell_type": "markdown",
   "id": "b78546d6-9bf6-41ad-9adc-e972c2ee93c0",
   "metadata": {
    "tags": []
   },
   "source": [
    "### Matplotlib for Korean\n",
    " - https://seong6496.tistory.com/95 참고\n",
    "#### font download"
   ]
  },
  {
   "cell_type": "code",
   "execution_count": null,
   "id": "b2b473a8-9613-4572-8051-588209240968",
   "metadata": {},
   "outputs": [],
   "source": [
    "!curl -o nanumfont.zip http://cdn.naver.com/naver/NanumFont/fontfiles/NanumFont_TTF_ALL.zip \n",
    "!sudo fc-cache -f -v\n",
    "!sudo unzip -d /usr/share/fonts/nanum nanumfont.zip\n",
    "!fc-list | grep -i nanum"
   ]
  },
  {
   "cell_type": "code",
   "execution_count": null,
   "id": "a5014c96-f213-44c7-9c4b-70084db2d3ad",
   "metadata": {},
   "outputs": [],
   "source": [
    "!cp /usr/share/fonts/nanum/* /home/ec2-user/anaconda3/envs/python3/lib/python3.10/site-packages/matplotlib/mpl-data/fonts/ttf/"
   ]
  },
  {
   "cell_type": "code",
   "execution_count": null,
   "id": "d4879d5e-271c-40bd-a4dd-d807e7e26cb6",
   "metadata": {},
   "outputs": [],
   "source": [
    "import matplotlib.pyplot as plt\n",
    "plt.rc('font',family='NanumGothic')\n",
    "print(plt.rcParams['font.family'])"
   ]
  }
 ],
 "metadata": {
  "kernelspec": {
   "display_name": "Python 3 (ipykernel)",
   "language": "python",
   "name": "python3"
  },
  "language_info": {
   "codemirror_mode": {
    "name": "ipython",
    "version": 3
   },
   "file_extension": ".py",
   "mimetype": "text/x-python",
   "name": "python",
   "nbconvert_exporter": "python",
   "pygments_lexer": "ipython3",
   "version": "3.10.14"
  }
 },
 "nbformat": 4,
 "nbformat_minor": 5
}
