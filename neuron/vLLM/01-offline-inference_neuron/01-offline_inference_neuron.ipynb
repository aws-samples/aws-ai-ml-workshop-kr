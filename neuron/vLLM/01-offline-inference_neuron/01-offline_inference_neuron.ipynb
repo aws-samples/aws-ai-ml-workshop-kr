{
 "cells": [
  {
   "cell_type": "markdown",
   "metadata": {},
   "source": [
    "# Inferentia2 (inf2.48xlarge)에서 배치성 추론 \n",
    "\n",
    "---\n",
    "\n",
    "아래의 내용은 [vLLM Project Git Repo](https://github.com/vllm-project/vllm) 의 [examples/offline_inference_neuron.py](https://github.com/vllm-project/vllm/blob/main/examples/offline_inference_neuron.py) 를 노트북에서 실행한 예시 입니다.\n",
    "        \n",
    "\n"
   ]
  },
  {
   "cell_type": "markdown",
   "metadata": {},
   "source": [
    "# 1. 사전 필수 단계\n",
    "- 아래를 클릭하셔서 사전 단계를 수행 하세요.\n",
    "    - [AWS Inferentia2 설치 및 실행 가이드](Readme.md)"
   ]
  },
  {
   "cell_type": "markdown",
   "metadata": {},
   "source": [
    "# 2. 배치 추론 실행"
   ]
  },
  {
   "cell_type": "code",
   "execution_count": null,
   "metadata": {},
   "outputs": [],
   "source": [
    "from vllm import LLM , SamplingParams"
   ]
  },
  {
   "cell_type": "code",
   "execution_count": 2,
   "metadata": {},
   "outputs": [],
   "source": [
    "prompts = [\n",
    "    \"Hello, my name is\",\n",
    "    \"The president of the United States is\",\n",
    "    \"The capital of France is\",\n",
    "    \"The future of AI is\",\n",
    "]\n",
    "sampling_params = SamplingParams(temperature=0.8, top_p=0.95)\n"
   ]
  },
  {
   "cell_type": "markdown",
   "metadata": {},
   "source": []
  },
  {
   "cell_type": "code",
   "execution_count": 8,
   "metadata": {},
   "outputs": [
    {
     "data": {
      "application/vnd.jupyter.widget-view+json": {
       "model_id": "a3ee50829f704d1992e61e0bf3e078c1",
       "version_major": 2,
       "version_minor": 0
      },
      "text/plain": [
       "config.json:   0%|          | 0.00/608 [00:00<?, ?B/s]"
      ]
     },
     "metadata": {},
     "output_type": "display_data"
    },
    {
     "name": "stdout",
     "output_type": "stream",
     "text": [
      "INFO 03-30 13:09:50 llm_engine.py:87] Initializing an LLM engine with config: model='TinyLlama/TinyLlama-1.1B-Chat-v1.0', tokenizer='TinyLlama/TinyLlama-1.1B-Chat-v1.0', tokenizer_mode=auto, revision=None, tokenizer_revision=None, trust_remote_code=False, dtype=torch.bfloat16, max_seq_len=128, download_dir=None, load_format=auto, tensor_parallel_size=1, disable_custom_all_reduce=False, quantization=None, enforce_eager=False, kv_cache_dtype=auto, device_config=cpu, seed=0)\n"
     ]
    },
    {
     "data": {
      "application/vnd.jupyter.widget-view+json": {
       "model_id": "e79f571ed45b49e9828e2e0203a24f92",
       "version_major": 2,
       "version_minor": 0
      },
      "text/plain": [
       "tokenizer_config.json:   0%|          | 0.00/1.29k [00:00<?, ?B/s]"
      ]
     },
     "metadata": {},
     "output_type": "display_data"
    },
    {
     "data": {
      "application/vnd.jupyter.widget-view+json": {
       "model_id": "ecd8bb77d2564ec199eca0d261464da9",
       "version_major": 2,
       "version_minor": 0
      },
      "text/plain": [
       "tokenizer.model:   0%|          | 0.00/500k [00:00<?, ?B/s]"
      ]
     },
     "metadata": {},
     "output_type": "display_data"
    },
    {
     "data": {
      "application/vnd.jupyter.widget-view+json": {
       "model_id": "29d9f93c585644859c365a592d7ed22a",
       "version_major": 2,
       "version_minor": 0
      },
      "text/plain": [
       "tokenizer.json:   0%|          | 0.00/1.84M [00:00<?, ?B/s]"
      ]
     },
     "metadata": {},
     "output_type": "display_data"
    },
    {
     "data": {
      "application/vnd.jupyter.widget-view+json": {
       "model_id": "66b9168335d247699123bd98828912b8",
       "version_major": 2,
       "version_minor": 0
      },
      "text/plain": [
       "special_tokens_map.json:   0%|          | 0.00/551 [00:00<?, ?B/s]"
      ]
     },
     "metadata": {},
     "output_type": "display_data"
    },
    {
     "data": {
      "application/vnd.jupyter.widget-view+json": {
       "model_id": "ecceba6544644eb5986c0848f9a3c9e4",
       "version_major": 2,
       "version_minor": 0
      },
      "text/plain": [
       "model.safetensors:   0%|          | 0.00/2.20G [00:00<?, ?B/s]"
      ]
     },
     "metadata": {},
     "output_type": "display_data"
    },
    {
     "data": {
      "application/vnd.jupyter.widget-view+json": {
       "model_id": "3c06f7aba1474fae8b196ce03b745e2b",
       "version_major": 2,
       "version_minor": 0
      },
      "text/plain": [
       "generation_config.json:   0%|          | 0.00/124 [00:00<?, ?B/s]"
      ]
     },
     "metadata": {},
     "output_type": "display_data"
    },
    {
     "name": "stdout",
     "output_type": "stream",
     "text": [
      "2024-03-30 13:11:15.000181:  16560  INFO ||NEURON_CACHE||: Compile cache path: /var/tmp/neuron-compile-cache\n",
      "2024-03-30 13:11:15.000236:  16560  INFO ||NEURON_CC_WRAPPER||: Call compiler with cmd: neuronx-cc compile --target=trn1 --framework=XLA /tmp/ubuntu/neuroncc_compile_workdir/8a62b422-e336-428c-a9ac-a1bc44bc4570/model.MODULE_fa4f5a5bb5043faa77ed+2c2d707e.hlo_module.pb --output /tmp/ubuntu/neuroncc_compile_workdir/8a62b422-e336-428c-a9ac-a1bc44bc4570/model.MODULE_fa4f5a5bb5043faa77ed+2c2d707e.neff --model-type=transformer --auto-cast=none --verbose=35\n",
      "2024-03-30 13:11:15.000286:  16561  INFO ||NEURON_CACHE||: Compile cache path: /var/tmp/neuron-compile-cache\n",
      "2024-03-30 13:11:15.000337:  16561  INFO ||NEURON_CC_WRAPPER||: Call compiler with cmd: neuronx-cc compile --target=trn1 --framework=XLA /tmp/ubuntu/neuroncc_compile_workdir/2b4fdd93-3212-4caa-967f-aa6cf57f6441/model.MODULE_55da091ed2d10512034d+2c2d707e.hlo_module.pb --output /tmp/ubuntu/neuroncc_compile_workdir/2b4fdd93-3212-4caa-967f-aa6cf57f6441/model.MODULE_55da091ed2d10512034d+2c2d707e.neff --model-type=transformer --auto-cast=none --verbose=35\n",
      "............\n",
      "Compiler status PASS\n",
      ".\n",
      "Compiler status PASS\n",
      "INFO 03-30 13:13:58 llm_engine.py:357] # GPU blocks: 8, # CPU blocks: 0\n"
     ]
    }
   ],
   "source": [
    "llm = LLM(\n",
    "    model=\"TinyLlama/TinyLlama-1.1B-Chat-v1.0\",\n",
    "    max_num_seqs=8,\n",
    "    # The max_model_len and block_size arguments are required to be same as\n",
    "    # max sequence length when targeting neuron device.\n",
    "    # Currently, this is a known limitation in continuous batching support\n",
    "    # in transformers-neuronx.\n",
    "    # TODO(liangfu): Support paged-attention in transformers-neuronx.\n",
    "    max_model_len=128,\n",
    "    block_size=128,\n",
    "    # The device can be automatically detected when AWS Neuron SDK is installed.\n",
    "    # The device argument can be either unspecified for automated detection,\n",
    "    # or explicitly assigned.\n",
    "    device=\"neuron\",\n",
    "    tensor_parallel_size=2)"
   ]
  },
  {
   "cell_type": "code",
   "execution_count": 9,
   "metadata": {},
   "outputs": [
    {
     "name": "stderr",
     "output_type": "stream",
     "text": [
      "Processed prompts:   0%|          | 0/4 [00:00<?, ?it/s]"
     ]
    },
    {
     "name": "stdout",
     "output_type": "stream",
     "text": [
      "2024-Mar-30 13:14:19.0781 13181:17289 [1] nccl_net_ofi_init:1415 CCOM WARN NET/OFI aws-ofi-nccl initialization failed\n",
      "2024-Mar-30 13:14:19.0782 13181:17289 [1] init.cc:137 CCOM WARN OFI plugin initNet() failed is EFA enabled?\n"
     ]
    },
    {
     "name": "stderr",
     "output_type": "stream",
     "text": [
      "Processed prompts: 100%|██████████| 4/4 [00:00<00:00,  4.16it/s]"
     ]
    },
    {
     "name": "stdout",
     "output_type": "stream",
     "text": [
      "Prompt: 'Hello, my name is', Generated text: ' John Smith. How are you? How are you doing? I’m fine'\n",
      "Prompt: 'The president of the United States is', Generated text: ' furious with Australia after the country refused to hand over asylum seekers'\n",
      "Prompt: 'The capital of France is', Generated text: ' Paris, with an area of 2,494.92 square'\n",
      "Prompt: 'The future of AI is', Generated text: ' in machine learning\\nThe Future of AI is in machine learning. It is'\n"
     ]
    },
    {
     "name": "stderr",
     "output_type": "stream",
     "text": [
      "\n"
     ]
    }
   ],
   "source": [
    "outputs = llm.generate(prompts, sampling_params)\n",
    "# Print the outputs.\n",
    "for output in outputs:\n",
    "    prompt = output.prompt\n",
    "    generated_text = output.outputs[0].text\n",
    "    print(f\"Prompt: {prompt!r}, Generated text: {generated_text!r}\")"
   ]
  },
  {
   "cell_type": "code",
   "execution_count": null,
   "metadata": {},
   "outputs": [],
   "source": []
  }
 ],
 "metadata": {
  "kernelspec": {
   "display_name": "Python (torch-neuronx)",
   "language": "python",
   "name": "aws_neuron_venv_pytorch"
  },
  "language_info": {
   "codemirror_mode": {
    "name": "ipython",
    "version": 3
   },
   "file_extension": ".py",
   "mimetype": "text/x-python",
   "name": "python",
   "nbconvert_exporter": "python",
   "pygments_lexer": "ipython3",
   "version": "3.10.12"
  }
 },
 "nbformat": 4,
 "nbformat_minor": 2
}
