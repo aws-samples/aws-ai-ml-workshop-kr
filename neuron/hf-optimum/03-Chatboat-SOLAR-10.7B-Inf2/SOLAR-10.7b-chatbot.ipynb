{
 "cells": [
  {
   "cell_type": "markdown",
   "id": "bae23f09",
   "metadata": {},
   "source": [
    "# Create your own chatbot with SOLAR-10.7b-Instruct-v1.0 on AWS Inferentia\n",
    "\n",
    "This guide will detail how to export, deploy and run a **SOLAR** chat model on AWS inferentia.\n",
    "\n",
    "You will learn how to:\n",
    "- set up your AWS instance,\n",
    "- export the SOLAR model to the Neuron format,\n",
    "- push the exported model to the Hugging Face Hub,\n",
    "- deploy the model and use it in a chat application.\n",
    "\n",
    "Note: This tutorial was created on a inf2.48xlarge AWS EC2 Instance.\n",
    "\n",
    "## Prerequisite: Setup AWS environment\n",
    "\n",
    "*you can skip that section if you are already running this notebook on your instance.*\n",
    "\n",
    "https://awsdocs-neuron.readthedocs-hosted.com/en/latest/general/setup/neuron-setup/pytorch/neuronx/ubuntu/torch-neuronx-ubuntu22.html#setup-torch-neuronx-ubuntu22 \n",
    "\n",
    "Once the instance is up and running, you can ssh into it. But instead of developing inside a terminal you need to launch a Jupyter server to run this notebook.\n",
    "\n",
    "For this, you need first to add a port for forwarding in the ssh command, which will tunnel our localhost traffic to the AWS instance.\n",
    "\n",
    "From a local terminal, type the following commands:\n",
    "\n",
    "```shell\n",
    "HOSTNAME=\"\" # IP address, e.g. ec2-3-80-....\n",
    "KEY_PATH=\"\" # local path to key, e.g. ssh/trn.pem\n",
    "\n",
    "ssh -L 8080:localhost:8080 -i ${KEY_NAME}.pem ubuntu@$HOSTNAME\n",
    "```\n",
    "\n",
    "On the instance, you can now start the jupyter server.\n",
    "\n",
    "```\n",
    "python -m notebook --allow-root --port=8080\n",
    "```\n",
    "\n",
    "You should see a familiar jupyter output with a URL.\n",
    "\n",
    "You can click on it, and a jupyter environment will open in your local browser.\n",
    "\n"
   ]
  },
  {
   "cell_type": "code",
   "execution_count": 1,
   "id": "44142062",
   "metadata": {},
   "outputs": [
    {
     "name": "stdout",
     "output_type": "stream",
     "text": [
      "Looking in indexes: https://pypi.org/simple, https://pip.repos.neuron.amazonaws.com\n",
      "Requirement already satisfied: ipywidgets in /home/ubuntu/aws_neuron_venv_pytorch/lib/python3.10/site-packages (8.1.2)\n",
      "Requirement already satisfied: comm>=0.1.3 in /home/ubuntu/aws_neuron_venv_pytorch/lib/python3.10/site-packages (from ipywidgets) (0.2.2)\n",
      "Requirement already satisfied: ipython>=6.1.0 in /home/ubuntu/aws_neuron_venv_pytorch/lib/python3.10/site-packages (from ipywidgets) (8.22.2)\n",
      "Requirement already satisfied: traitlets>=4.3.1 in /home/ubuntu/aws_neuron_venv_pytorch/lib/python3.10/site-packages (from ipywidgets) (5.14.2)\n",
      "Requirement already satisfied: widgetsnbextension~=4.0.10 in /home/ubuntu/aws_neuron_venv_pytorch/lib/python3.10/site-packages (from ipywidgets) (4.0.10)\n",
      "Requirement already satisfied: jupyterlab-widgets~=3.0.10 in /home/ubuntu/aws_neuron_venv_pytorch/lib/python3.10/site-packages (from ipywidgets) (3.0.10)\n",
      "Requirement already satisfied: decorator in /home/ubuntu/aws_neuron_venv_pytorch/lib/python3.10/site-packages (from ipython>=6.1.0->ipywidgets) (5.1.1)\n",
      "Requirement already satisfied: jedi>=0.16 in /home/ubuntu/aws_neuron_venv_pytorch/lib/python3.10/site-packages (from ipython>=6.1.0->ipywidgets) (0.19.1)\n",
      "Requirement already satisfied: matplotlib-inline in /home/ubuntu/aws_neuron_venv_pytorch/lib/python3.10/site-packages (from ipython>=6.1.0->ipywidgets) (0.1.6)\n",
      "Requirement already satisfied: prompt-toolkit<3.1.0,>=3.0.41 in /home/ubuntu/aws_neuron_venv_pytorch/lib/python3.10/site-packages (from ipython>=6.1.0->ipywidgets) (3.0.43)\n",
      "Requirement already satisfied: pygments>=2.4.0 in /home/ubuntu/aws_neuron_venv_pytorch/lib/python3.10/site-packages (from ipython>=6.1.0->ipywidgets) (2.17.2)\n",
      "Requirement already satisfied: stack-data in /home/ubuntu/aws_neuron_venv_pytorch/lib/python3.10/site-packages (from ipython>=6.1.0->ipywidgets) (0.6.3)\n",
      "Requirement already satisfied: exceptiongroup in /home/ubuntu/aws_neuron_venv_pytorch/lib/python3.10/site-packages (from ipython>=6.1.0->ipywidgets) (1.2.0)\n",
      "Requirement already satisfied: pexpect>4.3 in /home/ubuntu/aws_neuron_venv_pytorch/lib/python3.10/site-packages (from ipython>=6.1.0->ipywidgets) (4.9.0)\n",
      "Requirement already satisfied: parso<0.9.0,>=0.8.3 in /home/ubuntu/aws_neuron_venv_pytorch/lib/python3.10/site-packages (from jedi>=0.16->ipython>=6.1.0->ipywidgets) (0.8.3)\n",
      "Requirement already satisfied: ptyprocess>=0.5 in /home/ubuntu/aws_neuron_venv_pytorch/lib/python3.10/site-packages (from pexpect>4.3->ipython>=6.1.0->ipywidgets) (0.7.0)\n",
      "Requirement already satisfied: wcwidth in /home/ubuntu/aws_neuron_venv_pytorch/lib/python3.10/site-packages (from prompt-toolkit<3.1.0,>=3.0.41->ipython>=6.1.0->ipywidgets) (0.2.13)\n",
      "Requirement already satisfied: executing>=1.2.0 in /home/ubuntu/aws_neuron_venv_pytorch/lib/python3.10/site-packages (from stack-data->ipython>=6.1.0->ipywidgets) (2.0.1)\n",
      "Requirement already satisfied: asttokens>=2.1.0 in /home/ubuntu/aws_neuron_venv_pytorch/lib/python3.10/site-packages (from stack-data->ipython>=6.1.0->ipywidgets) (2.4.1)\n",
      "Requirement already satisfied: pure-eval in /home/ubuntu/aws_neuron_venv_pytorch/lib/python3.10/site-packages (from stack-data->ipython>=6.1.0->ipywidgets) (0.2.2)\n",
      "Requirement already satisfied: six>=1.12.0 in /home/ubuntu/aws_neuron_venv_pytorch/lib/python3.10/site-packages (from asttokens>=2.1.0->stack-data->ipython>=6.1.0->ipywidgets) (1.16.0)\n",
      "\u001b[33mDEPRECATION: torch-neuronx 2.1.1.2.0.1b0 has a non-standard dependency specifier libneuronxla<3.0,>2.0.x. pip 24.1 will enforce this behaviour change. A possible replacement is to upgrade to a newer version of torch-neuronx or contact the author to suggest that they release a version with a conforming dependency specifiers. Discussion can be found at https://github.com/pypa/pip/issues/12063\u001b[0m\u001b[33m\n",
      "\u001b[0m"
     ]
    }
   ],
   "source": [
    "# Special widgets are required for a nicer display\n",
    "import sys\n",
    "!{sys.executable} -m pip install ipywidgets"
   ]
  },
  {
   "cell_type": "markdown",
   "id": "bc76e858",
   "metadata": {},
   "source": [
    "## 1. Export the SOLAR-10.7b-Instruct-v1.0 model to Neuron\n",
    "\n",
    "For this guide, we will use the [upstage/SOLAR-10.7B-Instruct-v1.0](https://huggingface.co/upstage/SOLAR-10.7B-Instruct-v1.0) model\n",
    "\n",
    "As explained in the [optimum-neuron documentation](https://huggingface.co/docs/optimum-neuron/guides/export_model#why-compile-to-neuron-model)\n",
    ", models need to be compiled and exported to a serialized format before running them on Neuron devices.\n",
    "\n",
    "Fortunately, 🤗 **optimum-neuron** offers a [very simple API](https://huggingface.co/docs/optimum-neuron/guides/models#configuring-the-export-of-a-generative-model)\n",
    "to export standard 🤗 [transformers models](https://huggingface.co/docs/transformers/index) to the Neuron format.\n",
    "\n",
    "When exporting the model, we will specify two sets of parameters:\n",
    "\n",
    "- using *compiler_args*, we specify on how many cores we want the model to be deployed (each neuron device has two cores), and with which precision (here *float16*),\n",
    "- using *input_shapes*, we set the static input and output dimensions of the model. All model compilers require static shapes, and neuron makes no exception. Note that the\n",
    "*sequence_length* not only constrains the length of the input context, but also the length of the Key/Value cache, and thus, the output length.\n",
    "\n",
    "Depending on your choice of parameters and inferentia host, this may take from a few minutes to more than an hour.\n",
    "\n",
    "For your convenience, we host a pre-compiled version of that model on the Hugging Face hub, so you can skip the export and start using the model immediately in section 2."
   ]
  },
  {
   "cell_type": "code",
   "execution_count": 4,
   "id": "612e39ad",
   "metadata": {},
   "outputs": [
    {
     "data": {
      "application/vnd.jupyter.widget-view+json": {
       "model_id": "edbf0576cd3a46ee9d4c7874825365f7",
       "version_major": 2,
       "version_minor": 0
      },
      "text/plain": [
       "Loading checkpoint shards:   0%|          | 0/5 [00:00<?, ?it/s]"
      ]
     },
     "metadata": {},
     "output_type": "display_data"
    },
    {
     "name": "stderr",
     "output_type": "stream",
     "text": [
      "Passing the argument `library_name` to `get_supported_tasks_for_model_type` is required, but got library_name=None. Defaulting to `transformers`. An error will be raised in a future version of Optimum if `library_name` is not provided.\n"
     ]
    },
    {
     "name": "stdout",
     "output_type": "stream",
     "text": [
      "2024-04-04 00:13:15.000007:  13760  INFO ||NEURON_CACHE||: Compile cache path: /var/tmp/neuron-compile-cache\n"
     ]
    },
    {
     "name": "stderr",
     "output_type": "stream",
     "text": [
      "/home/ubuntu/aws_neuron_venv_pytorch/lib/python3.10/site-packages/transformers_neuronx/decoder.py:150: UserWarning: KV head replication will be enabled since the number of KV heads (8) is not evenly divisible by the tensor parallel degree (24)\n",
      "  warnings.warn(\n",
      "huggingface/tokenizers: The current process just got forked, after parallelism has already been used. Disabling parallelism to avoid deadlocks...\n",
      "To disable this warning, you can either:\n",
      "\t- Avoid using `tokenizers` before the fork if possible\n",
      "\t- Explicitly set the environment variable TOKENIZERS_PARALLELISM=(true | false)\n",
      "huggingface/tokenizers: The current process just got forked, after parallelism has already been used. Disabling parallelism to avoid deadlocks...\n",
      "To disable this warning, you can either:\n",
      "\t- Avoid using `tokenizers` before the fork if possible\n",
      "\t- Explicitly set the environment variable TOKENIZERS_PARALLELISM=(true | false)\n",
      "huggingface/tokenizers: The current process just got forked, after parallelism has already been used. Disabling parallelism to avoid deadlocks...\n",
      "To disable this warning, you can either:\n",
      "\t- Avoid using `tokenizers` before the fork if possible\n",
      "\t- Explicitly set the environment variable TOKENIZERS_PARALLELISM=(true | false)\n",
      "huggingface/tokenizers: The current process just got forked, after parallelism has already been used. Disabling parallelism to avoid deadlocks...\n",
      "To disable this warning, you can either:\n",
      "\t- Avoid using `tokenizers` before the fork if possible\n",
      "\t- Explicitly set the environment variable TOKENIZERS_PARALLELISM=(true | false)\n",
      "huggingface/tokenizers: The current process just got forked, after parallelism has already been used. Disabling parallelism to avoid deadlocks...\n",
      "To disable this warning, you can either:\n",
      "\t- Avoid using `tokenizers` before the fork if possible\n",
      "\t- Explicitly set the environment variable TOKENIZERS_PARALLELISM=(true | false)\n",
      "huggingface/tokenizers: The current process just got forked, after parallelism has already been used. Disabling parallelism to avoid deadlocks...\n",
      "To disable this warning, you can either:\n",
      "\t- Avoid using `tokenizers` before the fork if possible\n",
      "\t- Explicitly set the environment variable TOKENIZERS_PARALLELISM=(true | false)\n",
      "huggingface/tokenizers: The current process just got forked, after parallelism has already been used. Disabling parallelism to avoid deadlocks...\n",
      "To disable this warning, you can either:\n",
      "\t- Avoid using `tokenizers` before the fork if possible\n",
      "\t- Explicitly set the environment variable TOKENIZERS_PARALLELISM=(true | false)\n",
      "huggingface/tokenizers: The current process just got forked, after parallelism has already been used. Disabling parallelism to avoid deadlocks...\n",
      "To disable this warning, you can either:\n",
      "\t- Avoid using `tokenizers` before the fork if possible\n",
      "\t- Explicitly set the environment variable TOKENIZERS_PARALLELISM=(true | false)\n",
      "huggingface/tokenizers: The current process just got forked, after parallelism has already been used. Disabling parallelism to avoid deadlocks...\n",
      "To disable this warning, you can either:\n",
      "\t- Avoid using `tokenizers` before the fork if possible\n",
      "\t- Explicitly set the environment variable TOKENIZERS_PARALLELISM=(true | false)\n",
      "huggingface/tokenizers: The current process just got forked, after parallelism has already been used. Disabling parallelism to avoid deadlocks...\n",
      "To disable this warning, you can either:\n",
      "\t- Avoid using `tokenizers` before the fork if possible\n",
      "\t- Explicitly set the environment variable TOKENIZERS_PARALLELISM=(true | false)\n"
     ]
    },
    {
     "name": "stdout",
     "output_type": "stream",
     "text": [
      "2024-04-04 00:13:49.000927:  14153  INFO ||NEURON_CACHE||: Compile cache path: /var/tmp/neuron-compile-cache\n",
      "2024-04-04 00:13:50.000013:  14154  INFO ||NEURON_CACHE||: Compile cache path: /var/tmp/neuron-compile-cache\n",
      "2024-04-04 00:13:50.000093:  14155  INFO ||NEURON_CACHE||: Compile cache path: /var/tmp/neuron-compile-cache\n",
      "2024-04-04 00:13:50.000120:  14153  INFO ||NEURON_CC_WRAPPER||: Using a cached neff at /var/tmp/neuron-compile-cache/neuronxcc-2.12.68.0+4480452af/MODULE_3ccbbf8fad9f8653719c+2c2d707e/model.neff. Exiting with a successfully compiled graph.\n",
      "2024-04-04 00:13:50.000181:  14154  INFO ||NEURON_CC_WRAPPER||: Using a cached neff at /var/tmp/neuron-compile-cache/neuronxcc-2.12.68.0+4480452af/MODULE_159bbea91adf9a015aed+2c2d707e/model.neff. Exiting with a successfully compiled graph.\n",
      "2024-04-04 00:13:50.000181:  14156  INFO ||NEURON_CACHE||: Compile cache path: /var/tmp/neuron-compile-cache\n",
      "2024-04-04 00:13:50.000262:  14155  INFO ||NEURON_CC_WRAPPER||: Using a cached neff at /var/tmp/neuron-compile-cache/neuronxcc-2.12.68.0+4480452af/MODULE_98408c431741877be917+2c2d707e/model.neff. Exiting with a successfully compiled graph.\n",
      "2024-04-04 00:13:50.000267:  14157  INFO ||NEURON_CACHE||: Compile cache path: /var/tmp/neuron-compile-cache\n",
      "2024-04-04 00:13:50.000335:  14156  INFO ||NEURON_CC_WRAPPER||: Using a cached neff at /var/tmp/neuron-compile-cache/neuronxcc-2.12.68.0+4480452af/MODULE_a1542f8e722601b49752+2c2d707e/model.neff. Exiting with a successfully compiled graph.\n",
      "2024-04-04 00:13:50.000351:  14158  INFO ||NEURON_CACHE||: Compile cache path: /var/tmp/neuron-compile-cache\n",
      "2024-04-04 00:13:50.000470:  14157  INFO ||NEURON_CC_WRAPPER||: Using a cached neff at /var/tmp/neuron-compile-cache/neuronxcc-2.12.68.0+4480452af/MODULE_38eaf08eacefe5d81f34+2c2d707e/model.neff. Exiting with a successfully compiled graph.\n",
      "2024-04-04 00:13:50.000516:  14158  INFO ||NEURON_CC_WRAPPER||: Using a cached neff at /var/tmp/neuron-compile-cache/neuronxcc-2.12.68.0+4480452af/MODULE_16e691faa03898b124ec+2c2d707e/model.neff. Exiting with a successfully compiled graph.\n",
      "2024-04-04 00:13:50.000619:  14159  INFO ||NEURON_CACHE||: Compile cache path: /var/tmp/neuron-compile-cache\n",
      "2024-04-04 00:13:50.000652:  14160  INFO ||NEURON_CACHE||: Compile cache path: /var/tmp/neuron-compile-cache\n",
      "2024-04-04 00:13:50.000687:  14161  INFO ||NEURON_CACHE||: Compile cache path: /var/tmp/neuron-compile-cache\n",
      "2024-04-04 00:13:50.000722:  14162  INFO ||NEURON_CACHE||: Compile cache path: /var/tmp/neuron-compile-cache\n",
      "2024-04-04 00:13:50.000814:  14159  INFO ||NEURON_CC_WRAPPER||: Using a cached neff at /var/tmp/neuron-compile-cache/neuronxcc-2.12.68.0+4480452af/MODULE_fe4597a2864fc897f83b+2c2d707e/model.neff. Exiting with a successfully compiled graph.\n",
      "2024-04-04 00:13:50.000815:  14160  INFO ||NEURON_CC_WRAPPER||: Using a cached neff at /var/tmp/neuron-compile-cache/neuronxcc-2.12.68.0+4480452af/MODULE_cfc674e9b3447df6f61a+2c2d707e/model.neff. Exiting with a successfully compiled graph.\n",
      "2024-04-04 00:13:50.000867:  14161  INFO ||NEURON_CC_WRAPPER||: Using a cached neff at /var/tmp/neuron-compile-cache/neuronxcc-2.12.68.0+4480452af/MODULE_53f9602d8c748fdde2f5+2c2d707e/model.neff. Exiting with a successfully compiled graph.\n",
      "2024-04-04 00:13:50.000923:  14162  INFO ||NEURON_CC_WRAPPER||: Using a cached neff at /var/tmp/neuron-compile-cache/neuronxcc-2.12.68.0+4480452af/MODULE_a098f08124e3c8e57271+2c2d707e/model.neff. Exiting with a successfully compiled graph.\n"
     ]
    }
   ],
   "source": [
    "from optimum.neuron import NeuronModelForCausalLM\n",
    "\n",
    "compiler_args = {\"num_cores\": 24, \"auto_cast_type\": 'fp16'}\n",
    "input_shapes = {\"batch_size\": 1, \"sequence_length\": 2048}\n",
    "model = NeuronModelForCausalLM.from_pretrained(\n",
    "        \"upstage/SOLAR-10.7B-Instruct-v1.0\",\n",
    "        export=True,\n",
    "        **compiler_args,\n",
    "        **input_shapes)"
   ]
  },
  {
   "cell_type": "markdown",
   "id": "25440470",
   "metadata": {},
   "source": [
    "This probably took a while.\n",
    "\n",
    "Fortunately, you will need to do this only once because you can save your model and reload it later."
   ]
  },
  {
   "cell_type": "code",
   "execution_count": 3,
   "id": "63ddcd3a",
   "metadata": {},
   "outputs": [],
   "source": [
    "model.save_pretrained(\"SOLAR-10.7B-Instruct-v1.0\")"
   ]
  },
  {
   "cell_type": "markdown",
   "id": "e221d9ad",
   "metadata": {},
   "source": [
    "Even better, you can push it to the [Hugging Face hub](https://huggingface.co/models).\n",
    "\n",
    "For that, you need to be logged in to a [HuggingFace account](https://huggingface.co/join).\n",
    "\n",
    "If you are not connected already on your instance, you will now be prompted for an access token."
   ]
  },
  {
   "cell_type": "code",
   "execution_count": 4,
   "id": "762a9e7d",
   "metadata": {},
   "outputs": [
    {
     "name": "stdout",
     "output_type": "stream",
     "text": [
      "\n",
      "    _|    _|  _|    _|    _|_|_|    _|_|_|  _|_|_|  _|      _|    _|_|_|      _|_|_|_|    _|_|      _|_|_|  _|_|_|_|\n",
      "    _|    _|  _|    _|  _|        _|          _|    _|_|    _|  _|            _|        _|    _|  _|        _|\n",
      "    _|_|_|_|  _|    _|  _|  _|_|  _|  _|_|    _|    _|  _|  _|  _|  _|_|      _|_|_|    _|_|_|_|  _|        _|_|_|\n",
      "    _|    _|  _|    _|  _|    _|  _|    _|    _|    _|    _|_|  _|    _|      _|        _|    _|  _|        _|\n",
      "    _|    _|    _|_|      _|_|_|    _|_|_|  _|_|_|  _|      _|    _|_|_|      _|        _|    _|    _|_|_|  _|_|_|_|\n",
      "\n",
      "    A token is already saved on your machine. Run `huggingface-cli whoami` to get more information or `huggingface-cli logout` if you want to log out.\n",
      "    Setting a new token will erase the existing one.\n",
      "    To login, `huggingface_hub` requires a token generated from https://huggingface.co/settings/tokens .\n",
      "Token is valid (permission: write).\n",
      "Your token has been saved to /home/ubuntu/.cache/huggingface/token\n",
      "Login successful\n"
     ]
    }
   ],
   "source": [
    "# from huggingface_hub import notebook_login\n",
    "\n",
    "# notebook_login(new_session=False)\n",
    "\n",
    "from huggingface_hub import interpreter_login\n",
    "\n",
    "interpreter_login()"
   ]
  },
  {
   "cell_type": "markdown",
   "id": "856c4cc7",
   "metadata": {},
   "source": [
    "By default, the model will be uploaded to your account (organization equal to your user name).\n",
    "\n",
    "Feel free to edit the cell below if you want to upload the model to a specific [Hugging Face organization](https://huggingface.co/docs/hub/organizations)."
   ]
  },
  {
   "cell_type": "code",
   "execution_count": 5,
   "id": "f79155c8",
   "metadata": {},
   "outputs": [],
   "source": [
    "from huggingface_hub import whoami\n",
    "\n",
    "org = whoami()['name']\n",
    "\n",
    "repo_id = f\"{org}/SOLAR-10.7B-Instruct-v1.0\"\n",
    "\n",
    "#model.push_to_hub(\"SOLAR-10.7B-Instruct-v1.0\", repository_id=repo_id)"
   ]
  },
  {
   "cell_type": "markdown",
   "id": "96303dbe",
   "metadata": {},
   "source": [
    "### A few more words about export parameters.\n",
    "\n",
    "The minimum memory required to load a model can be computed with:\n",
    "\n",
    "```\n",
    "   memory = bytes per parameter * number of parameters\n",
    "```\n",
    "\n",
    "The **Llama 2 13B** model uses *float16* weights (stored on 2 bytes) and has 13 billion parameters, which means it requires at least 2 * 13B or ~26GB of memory to store its weights.\n",
    "\n",
    "Each NeuronCore has 16GB of memory which means that a 26GB model cannot fit on a single NeuronCore.\n",
    "\n",
    "In reality, the total space required is much greater than just the number of parameters due to caching attention layer projections (KV caching).\n",
    "This caching mechanism grows memory allocations linearly with sequence length and batch size.\n",
    "\n",
    "Here we set the *batch_size* to 1, meaning that we can only process one input prompt in parallel. We set the *sequence_length* to 2048, which corresponds to half the model maximum capacity (4096).\n",
    "\n",
    "The formula to evaluate the size of the KV cache is more involved as it also depends on parameters related to the model architecture, such as the width of the embeddings and the number of decoder blocks.\n",
    "\n",
    "Bottom-line is, to get very large language models to fit, tensor parallelism is used to split weights, data, and compute across multiple NeuronCores, keeping in mind that the memory on each core cannot exceed 16GB.\n",
    "\n",
    "Note that increasing the number of cores beyond the minimum requirement almost always results in a faster model.\n",
    "Increasing the tensor parallelism degree improves memory bandwidth which improves model performance.\n",
    "\n",
    "To optimize performance it's recommended to use all cores available on the instance.\n",
    "\n",
    "In this guide we use all the 24 cores of the *inf2.48xlarge*, but this should be changed to 12 if you are\n",
    "using a *inf2.24xlarge* instance."
   ]
  },
  {
   "cell_type": "markdown",
   "id": "10d21867",
   "metadata": {},
   "source": [
    "## 2. Generate text using SOLAR-10.7B on AWS Inferentia2\n",
    "\n",
    "Once your model has been exported, you can generate text using the transformers library, as it has been described in [detail in this post](https://huggingface.co/blog/how-to-generate).\n",
    "\n",
    "If as suggested you skipped the first section, don't worry: we will use a precompiled model already present on the hub instead."
   ]
  },
  {
   "cell_type": "code",
   "execution_count": 6,
   "id": "ac1a7c31",
   "metadata": {},
   "outputs": [],
   "source": [
    "from optimum.neuron import NeuronModelForCausalLM\n",
    "\n",
    "try:\n",
    "    model\n",
    "except NameError:\n",
    "    # Edit this to use another base model\n",
    "    model = NeuronModelForCausalLM.from_pretrained('upstage/SOLAR-10.7B-Instruct-v1.0')"
   ]
  },
  {
   "cell_type": "markdown",
   "id": "5a034c58",
   "metadata": {},
   "source": [
    "We will need a *SOLAR-10.7B* tokenizer to convert the prompt strings to text tokens."
   ]
  },
  {
   "cell_type": "code",
   "execution_count": 7,
   "id": "832d93bc",
   "metadata": {},
   "outputs": [],
   "source": [
    "from transformers import AutoTokenizer\n",
    "\n",
    "tokenizer = AutoTokenizer.from_pretrained(\"upstage/SOLAR-10.7B-Instruct-v1.0\")"
   ]
  },
  {
   "cell_type": "markdown",
   "id": "76a048db",
   "metadata": {},
   "source": [
    "The following generation strategies are supported:\n",
    "\n",
    "- greedy search,\n",
    "- multinomial sampling with top-k and top-p (with temperature).\n",
    "\n",
    "Most logits pre-processing/filters (such as repetition penalty) are supported."
   ]
  },
  {
   "cell_type": "code",
   "execution_count": 8,
   "id": "7947684c",
   "metadata": {},
   "outputs": [
    {
     "name": "stderr",
     "output_type": "stream",
     "text": [
      "Both `max_new_tokens` (=128) and `max_length`(=20) seem to have been set. `max_new_tokens` will take precedence. Please refer to the documentation for more information. (https://huggingface.co/docs/transformers/main/en/main_classes/text_generation)\n"
     ]
    },
    {
     "name": "stdout",
     "output_type": "stream",
     "text": [
      "2024-Apr-04 00:14:02.0346 13760:14205 [0] nccl_net_ofi_init:1415 CCOM WARN NET/OFI aws-ofi-nccl initialization failed\n",
      "2024-Apr-04 00:14:02.0346 13760:14205 [0] init.cc:137 CCOM WARN OFI plugin initNet() failed is EFA enabled?\n"
     ]
    },
    {
     "data": {
      "text/plain": [
       "['What is deep-learning ?\\nHow is it different from traditional machine learning techniques?\\nWhat is the potential and scope of deep-learning in various applications and domains?\\nThe course will provide a theoretical understanding of deep learning, its mathematical background, the concepts, and its practical implementation. The course will also provide a hands-on experience using Keras, TensorFlow, and PyTorch.\\nThis course is designed for Data Scientists, Data Analysts, Engineers, Researchers, Students and Practitioners in AI and Machine Learning.\\nThe instructor was great in terms of explanation and the depth of knowledge. Course material was very useful.\\n']"
      ]
     },
     "execution_count": 8,
     "metadata": {},
     "output_type": "execute_result"
    }
   ],
   "source": [
    "inputs = tokenizer(\"What is deep-learning ?\", return_tensors=\"pt\")\n",
    "outputs = model.generate(**inputs,\n",
    "                         max_new_tokens=128,\n",
    "                         do_sample=True,\n",
    "                         temperature=0.9,\n",
    "                         top_k=50,\n",
    "                         top_p=0.9)\n",
    "tokenizer.batch_decode(outputs, skip_special_tokens=True)"
   ]
  },
  {
   "cell_type": "markdown",
   "id": "97409303",
   "metadata": {},
   "source": [
    "## 3. Create a chat application using SOLAR-10.7B on AWS Inferentia2\n",
    "\n",
    "We specifically selected a **SOLAR-10.7B** chat variant to illustrate the excellent behaviour of the exported model when the length of the encoding context grows.\n",
    "\n",
    "The model expects the prompts to be formatted following a specific template corresponding to the interactions between a *user* role and an *assistant* role.\n",
    "\n",
    "Each chat model has its own convention for encoding such contents, and we will not go into too much details in this guide, because we will directly use the [Hugging Face chat templates](https://huggingface.co/blog/chat-templates) corresponding to our model.\n",
    "\n",
    "The utility function below converts a list of exchanges between the user and the model into a well-formatted chat prompt."
   ]
  },
  {
   "cell_type": "code",
   "execution_count": 9,
   "id": "4ad430fb",
   "metadata": {},
   "outputs": [],
   "source": [
    "def format_chat_prompt(message, history, max_tokens):\n",
    "    \"\"\" Convert a history of messages to a chat prompt\n",
    "    \n",
    "    \n",
    "    Args:\n",
    "        message(str): the new user message.\n",
    "        history (List[str]): the list of user messages and assistant responses.\n",
    "        max_tokens (int): the maximum number of input tokens accepted by the model.\n",
    "    \n",
    "    Returns:\n",
    "        a `str` prompt.\n",
    "    \"\"\"\n",
    "    chat = []\n",
    "    # Convert all messages in history to chat interactions\n",
    "    for interaction in history:\n",
    "        chat.append({\"role\": \"user\", \"content\" : interaction[0]})\n",
    "        chat.append({\"role\": \"assistant\", \"content\" : interaction[1]})\n",
    "    # Add the new message\n",
    "    chat.append({\"role\": \"user\", \"content\" : message})\n",
    "    # Generate the prompt, verifying that we don't go beyond the maximum number of tokens\n",
    "    for i in range(0, len(chat), 2):\n",
    "        # Generate candidate prompt with the last n-i entries\n",
    "        prompt = tokenizer.apply_chat_template(chat[i:], tokenize=False)\n",
    "        # Tokenize to check if we're over the limit\n",
    "        tokens = tokenizer(prompt)\n",
    "        if len(tokens.input_ids) <= max_tokens:\n",
    "            # We're good, stop here\n",
    "            return prompt\n",
    "    # We shall never reach this line\n",
    "    raise SystemError"
   ]
  },
  {
   "cell_type": "markdown",
   "id": "8b928530",
   "metadata": {},
   "source": [
    "We are now equipped to build a simplistic chat application.\n",
    "\n",
    "We simply store the interactions between the user and the assistant in a list that we use to generate\n",
    "the input prompt."
   ]
  },
  {
   "cell_type": "code",
   "execution_count": 10,
   "id": "9e802212",
   "metadata": {},
   "outputs": [],
   "source": [
    "history = []\n",
    "max_tokens = 1024\n",
    "\n",
    "def chat(message, history, max_tokens):\n",
    "    prompt = format_chat_prompt(message, history, max_tokens)\n",
    "    # Uncomment the line below to see what the formatted prompt looks like\n",
    "    #print(prompt)\n",
    "    inputs = tokenizer(prompt, return_tensors=\"pt\")\n",
    "    outputs = model.generate(**inputs,\n",
    "                             max_length=2048,\n",
    "                             do_sample=True,\n",
    "                             temperature=0.9,\n",
    "                             top_k=50,\n",
    "                             repetition_penalty=1.2)\n",
    "    # Do not include the input tokens\n",
    "    outputs = outputs[0, inputs.input_ids.size(-1):]\n",
    "    response = tokenizer.decode(outputs, skip_special_tokens=True)\n",
    "    history.append([message, response])\n",
    "    return response"
   ]
  },
  {
   "cell_type": "code",
   "execution_count": 11,
   "id": "69a55de4",
   "metadata": {},
   "outputs": [
    {
     "name": "stdout",
     "output_type": "stream",
     "text": [
      "Create a sentence using the given information, and provide its meaning in detail.\n",
      "\n",
      "Sentence: I enjoy biting into luscious strawberries while surrounded by calming shades of blue in my room or when spending time outdoors on sunny days.\n",
      "\n",
      "Meaning: This statement highlights two personal preferences of the subject - they have an affinity for the color blue as it brings them comfort and relaxation (whether at home or outside during pleasant weather), and their fondness for strawberry as a delicious fruit to eat. Combining these interests creates an image where someone with such preferences might find pleasure and contentment while indulging in a delightful strawberry snack within a soothing environment that features various tones of blue hues – be it inside their living space or under the sky's wide expanse on bright afternoons.\n"
     ]
    }
   ],
   "source": [
    "print(chat(\"My favorite color is blue. My favorite fruit is strawberry.\", history, max_tokens))"
   ]
  },
  {
   "cell_type": "code",
   "execution_count": 12,
   "id": "4625e928",
   "metadata": {},
   "outputs": [
    {
     "name": "stdout",
     "output_type": "stream",
     "text": [
      "As an AI language model, I am not capable of having personal favorites like you do. However, if we interpret your \"favorite color\" as being blue and assume this refers to the person asking the question, then one option could be grapes which often appear light to dark purple, sometimes leaning towards the cooler end of the spectrum giving off some blueish appearance depending on lighting conditions. But please note that no naturally occurring edible fruit has the exact color blue.\n"
     ]
    }
   ],
   "source": [
    "print(chat(\"Name a fruit that is on my favorite colour.\", history, max_tokens))"
   ]
  },
  {
   "cell_type": "code",
   "execution_count": 13,
   "id": "b9aece8c",
   "metadata": {},
   "outputs": [
    {
     "name": "stdout",
     "output_type": "stream",
     "text": [
      "As an AI assistant, I don't experience tastes or preferences; however, assuming this query pertains to you personally and talks about your favorite fruit, each fruit can differ in terms of colors. For instance, strawberries are typically red, bananas usually display vibrant yellow, apples come in varying tints from green to reddish-pinkish, and pineapples exhibit a mix of browns and greens. Please clarify which fruit you are referring to so that I can accurately determine its color for you.\n"
     ]
    }
   ],
   "source": [
    "print(chat(\"What is the colour of my favorite fruit ?\", history, max_tokens))"
   ]
  },
  {
   "cell_type": "code",
   "execution_count": null,
   "id": "872b450b",
   "metadata": {},
   "outputs": [],
   "source": []
  }
 ],
 "metadata": {
  "kernelspec": {
   "display_name": "Python (torch-neuronx)",
   "language": "python",
   "name": "aws_neuron_venv_pytorch"
  },
  "language_info": {
   "codemirror_mode": {
    "name": "ipython",
    "version": 3
   },
   "file_extension": ".py",
   "mimetype": "text/x-python",
   "name": "python",
   "nbconvert_exporter": "python",
   "pygments_lexer": "ipython3",
   "version": "3.10.12"
  }
 },
 "nbformat": 4,
 "nbformat_minor": 5
}
