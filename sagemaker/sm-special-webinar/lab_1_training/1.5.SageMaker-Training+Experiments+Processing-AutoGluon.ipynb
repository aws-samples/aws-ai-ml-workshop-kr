{
 "cells": [
  {
   "cell_type": "markdown",
   "id": "2fceb094",
   "metadata": {
    "tags": []
   },
   "source": [
    "# 1.5 SageMaker Training with Experiments and Processing For AutoGluon"
   ]
  },
  {
   "cell_type": "markdown",
   "id": "b1c7b1e2",
   "metadata": {},
   "source": [
    "## 학습 작업의 실행 노트북 개요\n",
    "\n",
    "- SageMaker Training에 SageMaker 실험을 추가하여 여러 실험의 결과를 비교할 수 있습니다.\n",
    "    - [작업 실행 시 필요 라이브러리 import](#작업-실행-시-필요-라이브러리-import)\n",
    "    - [SageMaker 세션과 Role, 사용 버킷 정의](#SageMaker-세션과-Role,-사용-버킷-정의)\n",
    "    - [하이퍼파라미터 정의](#하이퍼파라미터-정의)\n",
    "    - [학습 실행 작업 정의](#학습-실행-작업-정의)\n",
    "        - 학습 코드 명\n",
    "        - 학습 코드 폴더 명\n",
    "        - 학습 코드가 사용한 Framework 종류, 버전 등\n",
    "        - 학습 인스턴스 타입과 개수\n",
    "        - SageMaker 세션\n",
    "        - 학습 작업 하이퍼파라미터 정의\n",
    "        - 학습 작업 산출물 관련 S3 버킷 설정 등\n",
    "    - [학습 데이터셋 지정](#학습-데이터셋-지정)\n",
    "        - 학습에 사용하는 데이터셋의 S3 URI 지정\n",
    "    - [SageMaker 실험 설정](#SageMaker-실험-설정)\n",
    "    - [학습 실행](#학습-실행)\n",
    "    - [데이터 세트 설명](#데이터-세트-설명)\n",
    "    - [실험 결과 보기](#실험-결과-보기)\n",
    "    - [Evaluation 하기](#Evaluation-하기)"
   ]
  },
  {
   "cell_type": "markdown",
   "id": "4dc90460",
   "metadata": {},
   "source": [
    "### 작업 실행 시 필요 라이브러리 import"
   ]
  },
  {
   "cell_type": "code",
   "execution_count": null,
   "id": "2dcfe999-b67f-4397-bdb7-1713e54b9bcf",
   "metadata": {},
   "outputs": [],
   "source": [
    "!pip install -U sagemaker-experiments"
   ]
  },
  {
   "cell_type": "code",
   "execution_count": null,
   "id": "80a85024",
   "metadata": {},
   "outputs": [],
   "source": [
    "import os\n",
    "import json\n",
    "import pandas as pd\n",
    "import boto3\n",
    "import sagemaker"
   ]
  },
  {
   "cell_type": "code",
   "execution_count": null,
   "id": "04586b66-13aa-40e7-ba7f-9fec098e4381",
   "metadata": {},
   "outputs": [],
   "source": [
    "from ag_model import (\n",
    "    AutoGluonTraining,\n",
    "    AutoGluonInferenceModel,\n",
    "    AutoGluonTabularPredictor,\n",
    "    AutoGluonFramework\n",
    ")"
   ]
  },
  {
   "cell_type": "markdown",
   "id": "ba9d596a",
   "metadata": {},
   "source": [
    "### SageMaker 세션과 Role, 사용 버킷 정의"
   ]
  },
  {
   "cell_type": "code",
   "execution_count": null,
   "id": "bda98a0a",
   "metadata": {},
   "outputs": [],
   "source": [
    "sagemaker_session = sagemaker.session.Session()\n",
    "region = sagemaker_session._region_name\n",
    "role = sagemaker.get_execution_role()"
   ]
  },
  {
   "cell_type": "code",
   "execution_count": null,
   "id": "8664b776",
   "metadata": {},
   "outputs": [],
   "source": [
    "bucket = sagemaker_session.default_bucket()\n",
    "code_location = f's3://{bucket}/autogluon/code'\n",
    "output_path = f's3://{bucket}/autogluon/output'"
   ]
  },
  {
   "cell_type": "markdown",
   "id": "21bd23dc",
   "metadata": {},
   "source": [
    "### 하이퍼파라미터 정의"
   ]
  },
  {
   "cell_type": "code",
   "execution_count": null,
   "id": "fbfbb81f",
   "metadata": {},
   "outputs": [],
   "source": [
    "hyperparameters = {\n",
    "       \"config_name\" : \"config-med.yaml\"\n",
    "}"
   ]
  },
  {
   "cell_type": "markdown",
   "id": "0ec52faf-a009-467c-bebe-07d39ca74e1f",
   "metadata": {},
   "source": [
    "### 학습 데이터셋 지정"
   ]
  },
  {
   "cell_type": "code",
   "execution_count": null,
   "id": "13830e1c-52d8-4480-a7d7-ed93025ab83d",
   "metadata": {},
   "outputs": [],
   "source": [
    "data_path=f's3://{bucket}/autogluon/dataset'\n",
    "config_path = f's3://{bucket}/autogluon/config'\n",
    "!aws s3 sync ../data/dataset/ $data_path\n",
    "!aws s3 sync ./config/ $config_path\n",
    "\n",
    "data_path"
   ]
  },
  {
   "cell_type": "markdown",
   "id": "3d765652",
   "metadata": {},
   "source": [
    "### 학습 실행 작업 정의"
   ]
  },
  {
   "cell_type": "code",
   "execution_count": null,
   "id": "17aae4fc",
   "metadata": {},
   "outputs": [],
   "source": [
    "instance_count = 1\n",
    "instance_type = \"ml.m5.large\"\n",
    "# instance_type = 'local'\n",
    "max_run = 1*60*60\n",
    "\n",
    "use_spot_instances = False\n",
    "if use_spot_instances:\n",
    "    max_wait = 1*60*60\n",
    "else:\n",
    "    max_wait = None"
   ]
  },
  {
   "cell_type": "code",
   "execution_count": null,
   "id": "015e3c71-814d-4fe1-acbf-bfca193a423f",
   "metadata": {},
   "outputs": [],
   "source": [
    "!sudo rm -rf /home/ec2-user/SageMaker/temp\n",
    "!mkdir /home/ec2-user/SageMaker/temp"
   ]
  },
  {
   "cell_type": "code",
   "execution_count": null,
   "id": "df35b4a8-72bd-433d-9edc-45f97febb6eb",
   "metadata": {},
   "outputs": [],
   "source": [
    "if instance_type == 'local':\n",
    "    from sagemaker.local import LocalSession\n",
    "    \n",
    "    sagemaker_session = LocalSession()\n",
    "    sagemaker_session.config = {'local': {'local_code': True, \"container_root\": \"/home/ec2-user/SageMaker/temp\"}}\n",
    "    local_data_path = \"file://\" + os.getcwd().replace('/lab_1_training', '') + \"/data/dataset\"\n",
    "    \n",
    "    data_channels = {\n",
    "        \"train\": local_data_path, \n",
    "        \"config\" : \"file://\" + os.getcwd() + '/config'\n",
    "    }\n",
    "    \n",
    "else:\n",
    "    sess = boto3.Session()\n",
    "    sagemaker_session = sagemaker.Session()\n",
    "    sm = sess.client('sagemaker')\n",
    "    \n",
    "    data_channels = {\n",
    "        \"train\": data_path, \n",
    "        \"config\" : config_path\n",
    "    }"
   ]
  },
  {
   "cell_type": "code",
   "execution_count": null,
   "id": "e00ff988-c9fa-498f-98ff-ba61a7c1cd7c",
   "metadata": {},
   "outputs": [],
   "source": [
    "ag_estimator = AutoGluonTraining(\n",
    "    entry_point=\"autogluon_starter_script.py\",\n",
    "    source_dir=os.getcwd() + \"/src\",\n",
    "    role=role,\n",
    "    # region=region,\n",
    "    sagemaker_session=sagemaker_session,\n",
    "    output_path=output_path,\n",
    "    code_location=code_location,\n",
    "    hyperparameters=hyperparameters,\n",
    "    instance_count=instance_count,\n",
    "    instance_type=instance_type,\n",
    "    framework_version=\"0.4\",\n",
    "    py_version=\"py38\",\n",
    "    max_run=max_run,\n",
    "    use_spot_instances=use_spot_instances,  # spot instance 활용\n",
    "    max_wait=max_wait,\n",
    ")"
   ]
  },
  {
   "cell_type": "markdown",
   "id": "c686dcc8",
   "metadata": {},
   "source": [
    "### SageMaker 실험 설정"
   ]
  },
  {
   "cell_type": "code",
   "execution_count": null,
   "id": "7f26f8ec",
   "metadata": {},
   "outputs": [],
   "source": [
    "experiment_name='autogluon-poc-1'"
   ]
  },
  {
   "cell_type": "code",
   "execution_count": null,
   "id": "b9750d63",
   "metadata": {},
   "outputs": [],
   "source": [
    "from smexperiments.experiment import Experiment\n",
    "from smexperiments.trial import Trial\n",
    "from time import strftime"
   ]
  },
  {
   "cell_type": "code",
   "execution_count": null,
   "id": "99736980",
   "metadata": {},
   "outputs": [],
   "source": [
    "def create_experiment(experiment_name):\n",
    "    try:\n",
    "        sm_experiment = Experiment.load(experiment_name)\n",
    "    except:\n",
    "        sm_experiment = Experiment.create(experiment_name=experiment_name,\n",
    "                                          tags=[\n",
    "                                              {\n",
    "                                                  'Key': 'model_name',\n",
    "                                                  'Value': 'autogluon'\n",
    "                                              }\n",
    "                                          ])"
   ]
  },
  {
   "cell_type": "code",
   "execution_count": null,
   "id": "38ae2ace",
   "metadata": {},
   "outputs": [],
   "source": [
    "def create_trial(experiment_name, i_type, i_cnt, spot=False):\n",
    "    create_date = strftime(\"%m%d-%H%M%s\")\n",
    "    algo = 'autogluon'\n",
    "    \n",
    "    spot = 's' if spot else 'd'\n",
    "    i_type = i_type[3:9].replace('.','-')\n",
    "        \n",
    "    trial = \"-\".join([i_type,str(i_cnt),algo, spot])\n",
    "       \n",
    "    sm_trial = Trial.create(trial_name=f'{experiment_name}-{trial}-{create_date}',\n",
    "                            experiment_name=experiment_name)\n",
    "\n",
    "    job_name = f'{sm_trial.trial_name}'\n",
    "    return job_name"
   ]
  },
  {
   "cell_type": "markdown",
   "id": "084598f2",
   "metadata": {},
   "source": [
    "### 학습 실행"
   ]
  },
  {
   "cell_type": "code",
   "execution_count": null,
   "id": "0bfb0c22-cca0-4bb8-99b5-00db5ec5d321",
   "metadata": {},
   "outputs": [],
   "source": [
    "data_channels"
   ]
  },
  {
   "cell_type": "code",
   "execution_count": null,
   "id": "e8313889",
   "metadata": {},
   "outputs": [],
   "source": [
    "create_experiment(experiment_name)\n",
    "job_name = create_trial(experiment_name, instance_type, instance_count, use_spot_instances)\n",
    "\n",
    "ag_estimator.fit(inputs = data_channels,\n",
    "                  job_name = job_name,\n",
    "                  experiment_config={\n",
    "                      'TrialName': job_name,\n",
    "                      'TrialComponentDisplayName': job_name,\n",
    "                  },\n",
    "                  wait=False)"
   ]
  },
  {
   "cell_type": "code",
   "execution_count": null,
   "id": "e76e4ec5",
   "metadata": {},
   "outputs": [],
   "source": [
    "ag_estimator.logs()"
   ]
  },
  {
   "cell_type": "markdown",
   "id": "620b2585",
   "metadata": {
    "tags": []
   },
   "source": [
    "###  실험 결과 보기\n",
    "위의 실험한 결과를 확인 합니다.\n",
    "- 각각의 훈련잡의 시도에 대한 훈련 사용 데이터, 모델 입력 하이퍼 파라미터, 모델 평가 지표, 모델 아티펙트 결과 위치 등의 확인이 가능합니다.\n",
    "- **아래의 모든 내용은 SageMaker Studio 를 통해서 직관적으로 확인이 가능합니다.**"
   ]
  },
  {
   "cell_type": "code",
   "execution_count": null,
   "id": "e3c57111-af3f-4e75-897e-080d19092c39",
   "metadata": {},
   "outputs": [],
   "source": [
    "!rm -rf ./autogluon/\n",
    "!mkdir -p ./autogluon/result\n",
    "!aws s3 cp {ag_estimator.model_data} ./autogluon/"
   ]
  },
  {
   "cell_type": "code",
   "execution_count": null,
   "id": "2f499736-d0af-4188-a5a4-a7d966e165f1",
   "metadata": {},
   "outputs": [],
   "source": [
    "!ls -alF ./autogluon/model.tar.gz"
   ]
  },
  {
   "cell_type": "code",
   "execution_count": null,
   "id": "e4e38bc9-17d7-4575-b8f3-322a71baffff",
   "metadata": {},
   "outputs": [],
   "source": [
    "# !tar -xzf ./autogluon/model.tar.gz -C ./autogluon/result/"
   ]
  },
  {
   "cell_type": "markdown",
   "id": "9bff4261-0f10-4928-9fc7-6b4067d96ab3",
   "metadata": {},
   "source": [
    "### Endpoint Deployment"
   ]
  },
  {
   "cell_type": "code",
   "execution_count": null,
   "id": "2a2c1d32-e026-408c-8ad2-2d87b1ceb599",
   "metadata": {},
   "outputs": [],
   "source": [
    "instance_type = \"ml.m5.2xlarge\"\n",
    "# instance_type = 'local'"
   ]
  },
  {
   "cell_type": "code",
   "execution_count": null,
   "id": "535880e7-75f7-4a6b-8c92-d2558db20cc3",
   "metadata": {},
   "outputs": [],
   "source": [
    "if instance_type == 'local':\n",
    "    from sagemaker.local import LocalSession\n",
    "    sagemaker_session = LocalSession()\n",
    "    sagemaker_session.config = {'local': {'local_code': True, \"container_root\": \"/home/ec2-user/SageMaker/temp\"}}\n",
    "else:\n",
    "    sess = boto3.Session()\n",
    "    sagemaker_session = sagemaker.Session()"
   ]
  },
  {
   "cell_type": "code",
   "execution_count": null,
   "id": "7f7eb48d-b1ad-4c71-8e12-e9b58d6a878c",
   "metadata": {},
   "outputs": [],
   "source": [
    "model = AutoGluonInferenceModel(\n",
    "    source_dir=os.getcwd() + \"/src\",\n",
    "    entry_point=\"autogluon_serve.py\",\n",
    "    model_data=ag_estimator.model_data,\n",
    "    instance_type=instance_type,\n",
    "    role=role,\n",
    "    sagemaker_session=sagemaker_session,\n",
    "    # region=region,\n",
    "    framework_version=\"0.4\",\n",
    "    py_version=\"py38\",\n",
    "    predictor_cls=AutoGluonTabularPredictor\n",
    ")"
   ]
  },
  {
   "cell_type": "code",
   "execution_count": null,
   "id": "780104f6-fbbe-4933-bc89-5181ccfa3201",
   "metadata": {},
   "outputs": [],
   "source": [
    "from sagemaker.serializers import CSVSerializer\n",
    "\n",
    "predictor = model.deploy(\n",
    "    initial_instance_count=1, serializer=CSVSerializer(), instance_type=instance_type\n",
    ")"
   ]
  },
  {
   "cell_type": "markdown",
   "id": "27a7b360-e613-4f31-a094-31c36681ff48",
   "metadata": {},
   "source": [
    "### Predict on unlabeled test data\n",
    "\n",
    "Remove target variable (`fraud`) from the data and get predictions for a sample of 100 rows using the deployed endpoint."
   ]
  },
  {
   "cell_type": "code",
   "execution_count": null,
   "id": "4062ef55-523b-4008-bb68-2b70f06c3d5c",
   "metadata": {},
   "outputs": [],
   "source": [
    "df = pd.read_csv(\"../data/dataset/test.csv\")\n",
    "data = df.drop(columns=\"fraud\")[:100].values"
   ]
  },
  {
   "cell_type": "code",
   "execution_count": null,
   "id": "3f89ea10-071c-4de3-9a24-e6653cbcb25a",
   "metadata": {},
   "outputs": [],
   "source": [
    "preds = predictor.predict(data)\n",
    "pred_df = pd.DataFrame(json.loads(preds))"
   ]
  },
  {
   "cell_type": "code",
   "execution_count": null,
   "id": "afb91ec3-085c-4b1f-b41e-df9d5d16399d",
   "metadata": {},
   "outputs": [],
   "source": [
    "pred_df['fraud'].reset_index(drop=True, inplace=True)\n",
    "df[\"fraud\"][:len(pred_df)].reset_index(drop=True, inplace=True)"
   ]
  },
  {
   "cell_type": "code",
   "execution_count": null,
   "id": "12a71a45-ca56-421a-be7e-e9f74323b838",
   "metadata": {},
   "outputs": [],
   "source": [
    "p = pd.DataFrame({\"preds\": pred_df['fraud'], \"actual\": df[\"fraud\"][: len(pred_df)]})\n",
    "p.head()"
   ]
  },
  {
   "cell_type": "code",
   "execution_count": null,
   "id": "a7d6e99f-a23c-45ae-bd09-64382ddf17ea",
   "metadata": {},
   "outputs": [],
   "source": [
    "print(f\"{(p.preds==p.actual).astype(int).sum()}/{len(p)} are correct\")"
   ]
  },
  {
   "cell_type": "markdown",
   "id": "2df1981c-300c-49d5-aace-d8eafb3553b6",
   "metadata": {},
   "source": [
    "### Cleanup Endpoint"
   ]
  },
  {
   "cell_type": "code",
   "execution_count": null,
   "id": "3a78e82e-7efd-40ec-9b5e-d1741a56ff8d",
   "metadata": {},
   "outputs": [],
   "source": [
    "predictor.delete_endpoint()"
   ]
  },
  {
   "cell_type": "markdown",
   "id": "dbec462c-eb5f-4e4b-981e-b6e7022d421e",
   "metadata": {
    "tags": []
   },
   "source": [
    "# Batch Transform\n",
    "\n",
    "학습된 모델을 호스트된 엔드포인트에 배포하는 것은 출시 이후 SageMaker에서 사용할 수 있으며 웹 사이트나 모바일 앱과 같은 서비스에 실시간 예측을 제공하는 좋은 방법입니다. 그러나 지연 시간을 최소화하는 것이 문제가 되지 않는 대규모 데이터 세트에서 학습된 모델에서 예측을 생성하는 것이 목표라면 배치 변환 기능이 더 쉽고, 더 확장 가능하며, 더 적절할 수 있다.\n",
    "\n",
    "[Read more about Batch Transform](https://docs.aws.amazon.com/sagemaker/latest/dg/batch-transform.html)."
   ]
  },
  {
   "cell_type": "code",
   "execution_count": null,
   "id": "26018b07-15a0-48c0-9bd5-341e64509fee",
   "metadata": {},
   "outputs": [],
   "source": [
    "instance_type = \"ml.m5.2xlarge\""
   ]
  },
  {
   "cell_type": "code",
   "execution_count": null,
   "id": "d8c302d1-2aaa-4818-a144-d51081c5d089",
   "metadata": {},
   "outputs": [],
   "source": [
    "# model = AutoGluonInferenceModel(\n",
    "#     source_dir=os.getcwd() + \"/src\",\n",
    "#     entry_point=\"autogluon_serve.py\",\n",
    "#     model_data=ag_estimator.model_data,\n",
    "#     instance_type=instance_type,\n",
    "#     role=role,\n",
    "#     sagemaker_session=sagemaker_session,\n",
    "#     region=region,\n",
    "#     framework_version=\"0.4\",\n",
    "#     py_version=\"py38\",    \n",
    "#     predictor_cls=AutoGluonTabularPredictor,\n",
    "# )"
   ]
  },
  {
   "cell_type": "code",
   "execution_count": null,
   "id": "ee7463f0-d8f5-4371-b072-64e25ecd006f",
   "metadata": {},
   "outputs": [],
   "source": [
    "transformer = model.transformer(\n",
    "    instance_count=1,\n",
    "    instance_type=instance_type,\n",
    "    strategy=\"MultiRecord\",\n",
    "    max_payload=6,\n",
    "    max_concurrent_transforms=1,\n",
    "    output_path=output_path,\n",
    "    accept=\"application/json\",\n",
    "    assemble_with=\"Line\",\n",
    ")\n"
   ]
  },
  {
   "cell_type": "markdown",
   "id": "07a4b2c9-09e5-48f2-8a89-c6d764a6b2fb",
   "metadata": {},
   "source": [
    "Prepare data for batch transform"
   ]
  },
  {
   "cell_type": "code",
   "execution_count": null,
   "id": "ec1510b0-106e-4995-9c68-2a3bd2d53899",
   "metadata": {},
   "outputs": [],
   "source": [
    "pd.read_csv(f\"../data/dataset/test.csv\")[:100].to_csv(\"../data/dataset/test_no_header.csv\", header=False, index=False)"
   ]
  },
  {
   "cell_type": "code",
   "execution_count": null,
   "id": "0b69569d-1ed1-40a0-abbb-169d7ecdc119",
   "metadata": {},
   "outputs": [],
   "source": [
    "test_input = transformer.sagemaker_session.upload_data(\n",
    "    path=os.path.join(\"../data/dataset\", \"test_no_header.csv\"), key_prefix=f\"{bucket}/autogluon/dataset\"\n",
    ")\n",
    "test_input"
   ]
  },
  {
   "cell_type": "code",
   "execution_count": null,
   "id": "d11326f2-d246-4289-a100-3bea82d88473",
   "metadata": {},
   "outputs": [],
   "source": [
    "transformer.transform(\n",
    "    test_input,\n",
    "    input_filter=\"$[1:]\",  # filter-out target variable\n",
    "    split_type=\"Line\",\n",
    "    content_type=\"text/csv\",\n",
    "    output_filter=\"$['fraud']\",  # keep only prediction class in the output\n",
    ")\n",
    "\n",
    "transformer.wait()"
   ]
  },
  {
   "cell_type": "markdown",
   "id": "1fd02b12-8648-4692-92a4-f75f4cc9ef53",
   "metadata": {},
   "source": [
    "batch transform 결과를 다운로드 받습니다."
   ]
  },
  {
   "cell_type": "code",
   "execution_count": null,
   "id": "10d6d00c-bcc1-4079-96af-bcbc711cc0d9",
   "metadata": {},
   "outputs": [],
   "source": [
    "!rm -rf ./autogluon_batch_result\n",
    "!mkdir ./autogluon_batch_result"
   ]
  },
  {
   "cell_type": "code",
   "execution_count": null,
   "id": "eb2d53be-2bb9-4e94-813f-3731d2dbc29c",
   "metadata": {},
   "outputs": [],
   "source": [
    "transformer.output_path"
   ]
  },
  {
   "cell_type": "code",
   "execution_count": null,
   "id": "8d855012-1f13-403e-b4bd-4d03dbbed9ee",
   "metadata": {},
   "outputs": [],
   "source": [
    "!aws s3 cp {transformer.output_path}/test_no_header.csv.out ./autogluon_batch_result/"
   ]
  },
  {
   "cell_type": "code",
   "execution_count": null,
   "id": "94153326-6bb2-4db3-8464-207c760870b1",
   "metadata": {},
   "outputs": [],
   "source": [
    "p = pd.concat(\n",
    "    [\n",
    "        pd.read_json(\"./autogluon_batch_result/test_no_header.csv.out\", orient=\"index\")\n",
    "        .sort_index()\n",
    "        .rename(columns={0: \"preds\"}),\n",
    "        pd.read_csv(\"../data/dataset/test.csv\")[[\"fraud\"]].iloc[:100].rename(columns={\"fraud\": \"actual\"}),\n",
    "    ],\n",
    "    axis=1,\n",
    ")\n",
    "p.head()"
   ]
  },
  {
   "cell_type": "code",
   "execution_count": null,
   "id": "8b28e520-e193-4ab7-9f78-5fbc33a7a9db",
   "metadata": {},
   "outputs": [],
   "source": [
    "print(f\"{(p.preds==p.actual).astype(int).sum()}/{len(p)} are correct\")"
   ]
  },
  {
   "cell_type": "markdown",
   "id": "1a23cfc2",
   "metadata": {
    "tags": []
   },
   "source": [
    "###  Evaluation 하기\n",
    "SageMaker Processing을 이용하여 Evalution을 수행하는 코드를 동작할 수 있습니다. MLOps에서 Processing을 적용하면 전처리, Evaluation 등을 serverless로 동작할 수 있습니다."
   ]
  },
  {
   "cell_type": "code",
   "execution_count": null,
   "id": "6671a6c5",
   "metadata": {},
   "outputs": [],
   "source": [
    "from sagemaker.processing import FrameworkProcessor\n",
    "from sagemaker.processing import ProcessingInput, ProcessingOutput\n",
    "from sagemaker.estimator import Framework"
   ]
  },
  {
   "cell_type": "code",
   "execution_count": null,
   "id": "a18f8d6c",
   "metadata": {},
   "outputs": [],
   "source": [
    "instance_count = 1\n",
    "instance_type = \"ml.m5.large\"\n",
    "# instance_type = 'local'"
   ]
  },
  {
   "cell_type": "code",
   "execution_count": null,
   "id": "65344844-dbb3-4976-ba38-65a87dd3843a",
   "metadata": {},
   "outputs": [],
   "source": [
    "from sagemaker import image_uris\n",
    "\n",
    "image_uri = image_uris.retrieve(\n",
    "    \"autogluon\",\n",
    "    region=region,\n",
    "    version=\"0.4\",\n",
    "    py_version=\"py38\",\n",
    "    image_scope=\"training\",\n",
    "    instance_type=instance_type,\n",
    ")\n",
    "image_uri\n"
   ]
  },
  {
   "cell_type": "code",
   "execution_count": null,
   "id": "31647257",
   "metadata": {},
   "outputs": [],
   "source": [
    "script_eval = FrameworkProcessor(\n",
    "    AutoGluonFramework,\n",
    "    framework_version=\"0.4\",\n",
    "    role=role,\n",
    "    py_version=\"py38\",\n",
    "    image_uri=image_uri,\n",
    "    instance_type=instance_type,\n",
    "    instance_count=instance_count\n",
    ")"
   ]
  },
  {
   "cell_type": "code",
   "execution_count": null,
   "id": "f9829f86",
   "metadata": {},
   "outputs": [],
   "source": [
    "detect_outputpath = f's3://{bucket}/autogluon/processing'"
   ]
  },
  {
   "cell_type": "code",
   "execution_count": null,
   "id": "ef915fe1",
   "metadata": {},
   "outputs": [],
   "source": [
    "source_dir='src'\n",
    "\n",
    "if instance_type == 'local':\n",
    "    from sagemaker.local import LocalSession\n",
    "    from pathlib import Path\n",
    "    \n",
    "    sagemaker_session = LocalSession()\n",
    "    sagemaker_session.config = {'local': {'local_code': True, 'container_root': \"/home/ec2-user/SageMaker/temp\"}}\n",
    "    source_dir = f'{Path.cwd()}/src'\n",
    "    s3_test_path=f'../data/dataset/test.csv'\n",
    "else:\n",
    "    sagemaker_session = sagemaker.Session()\n",
    "    s3_test_path = data_path + '/test.csv'"
   ]
  },
  {
   "cell_type": "code",
   "execution_count": null,
   "id": "d54892a4",
   "metadata": {},
   "outputs": [],
   "source": [
    "create_experiment(experiment_name)\n",
    "job_name = create_trial(experiment_name, instance_type, instance_count)\n",
    "\n",
    "script_eval.run(\n",
    "    code=\"autogluon_evaluation.py\",\n",
    "    source_dir=source_dir,\n",
    "    inputs=[ProcessingInput(source=s3_test_path, input_name=\"test_data\", destination=\"/opt/ml/processing/test\"),\n",
    "            ProcessingInput(source=ag_estimator.model_data, input_name=\"model_weight\", destination=\"/opt/ml/processing/model\")\n",
    "    ],\n",
    "    outputs=[\n",
    "        ProcessingOutput(source=\"/opt/ml/processing/output\", output_name='evaluation', destination=detect_outputpath + \"/\" + job_name),\n",
    "    ],\n",
    "    job_name=job_name,\n",
    "    experiment_config={\n",
    "        'TrialName': job_name,\n",
    "        'TrialComponentDisplayName': job_name,\n",
    "    },\n",
    "    wait=False\n",
    ")"
   ]
  },
  {
   "cell_type": "code",
   "execution_count": null,
   "id": "4f9227e3-6b42-4ce6-bdf7-e005eedf7206",
   "metadata": {},
   "outputs": [],
   "source": [
    "script_eval.latest_job.wait()"
   ]
  },
  {
   "cell_type": "code",
   "execution_count": null,
   "id": "435e50d1-73d8-4514-a3f8-4bde0703b29e",
   "metadata": {},
   "outputs": [],
   "source": []
  },
  {
   "cell_type": "code",
   "execution_count": null,
   "id": "c8dce163-c34b-4851-a0ce-2d242e0377fc",
   "metadata": {},
   "outputs": [],
   "source": []
  }
 ],
 "metadata": {
  "kernelspec": {
   "display_name": "conda_python3",
   "language": "python",
   "name": "conda_python3"
  },
  "language_info": {
   "codemirror_mode": {
    "name": "ipython",
    "version": 3
   },
   "file_extension": ".py",
   "mimetype": "text/x-python",
   "name": "python",
   "nbconvert_exporter": "python",
   "pygments_lexer": "ipython3",
   "version": "3.8.12"
  }
 },
 "nbformat": 4,
 "nbformat_minor": 5
}
